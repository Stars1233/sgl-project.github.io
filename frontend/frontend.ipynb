{
 "cells": [
  {
   "cell_type": "markdown",
   "metadata": {},
   "source": [
    "# SGLang Frontend Language"
   ]
  },
  {
   "cell_type": "markdown",
   "metadata": {},
   "source": [
    "SGLang frontend language can be used to define simple and easy prompts in a convenient, structured way."
   ]
  },
  {
   "cell_type": "markdown",
   "metadata": {},
   "source": [
    "## Launch A Server\n",
    "\n",
    "Launch the server in your terminal and wait for it to initialize."
   ]
  },
  {
   "cell_type": "code",
   "execution_count": 1,
   "metadata": {
    "execution": {
     "iopub.execute_input": "2025-03-30T21:06:25.444268Z",
     "iopub.status.busy": "2025-03-30T21:06:25.443922Z",
     "iopub.status.idle": "2025-03-30T21:07:07.141736Z",
     "shell.execute_reply": "2025-03-30T21:07:07.141225Z"
    }
   },
   "outputs": [
    {
     "name": "stdout",
     "output_type": "stream",
     "text": [
      "[2025-03-30 21:06:41] server_args=ServerArgs(model_path='Qwen/Qwen2.5-7B-Instruct', tokenizer_path='Qwen/Qwen2.5-7B-Instruct', tokenizer_mode='auto', skip_tokenizer_init=False, load_format='auto', trust_remote_code=False, dtype='auto', kv_cache_dtype='auto', quantization=None, quantization_param_path=None, context_length=None, device='cuda', served_model_name='Qwen/Qwen2.5-7B-Instruct', chat_template=None, completion_template=None, is_embedding=False, revision=None, host='0.0.0.0', port=33765, mem_fraction_static=0.88, max_running_requests=200, max_total_tokens=20480, chunked_prefill_size=8192, max_prefill_tokens=16384, schedule_policy='fcfs', schedule_conservativeness=1.0, cpu_offload_gb=0, page_size=1, tp_size=1, stream_interval=1, stream_output=False, random_seed=588855044, constrained_json_whitespace_pattern=None, watchdog_timeout=300, dist_timeout=None, download_dir=None, base_gpu_id=0, gpu_id_step=1, log_level='info', log_level_http=None, log_requests=False, log_requests_level=0, show_time_cost=False, enable_metrics=False, decode_log_interval=40, api_key=None, file_storage_path='sglang_storage', enable_cache_report=False, reasoning_parser=None, dp_size=1, load_balance_method='round_robin', ep_size=1, dist_init_addr=None, nnodes=1, node_rank=0, json_model_override_args='{}', lora_paths=None, max_loras_per_batch=8, lora_backend='triton', attention_backend='flashinfer', sampling_backend='flashinfer', grammar_backend='xgrammar', speculative_algorithm=None, speculative_draft_model_path=None, speculative_num_steps=None, speculative_eagle_topk=None, speculative_num_draft_tokens=None, speculative_accept_threshold_single=1.0, speculative_accept_threshold_acc=1.0, speculative_token_map=None, enable_double_sparsity=False, ds_channel_config_path=None, ds_heavy_channel_num=32, ds_heavy_token_num=256, ds_heavy_channel_type='qk', ds_sparse_decode_threshold=4096, disable_radix_cache=False, disable_cuda_graph=True, disable_cuda_graph_padding=False, enable_nccl_nvls=False, disable_outlines_disk_cache=False, disable_custom_all_reduce=False, disable_mla=False, disable_overlap_schedule=False, enable_mixed_chunk=False, enable_dp_attention=False, enable_ep_moe=False, enable_deepep_moe=False, enable_torch_compile=False, torch_compile_max_bs=32, cuda_graph_max_bs=160, cuda_graph_bs=None, torchao_config='', enable_nan_detection=False, enable_p2p_check=False, triton_attention_reduce_in_fp32=False, triton_attention_num_kv_splits=8, num_continuous_decode_steps=1, delete_ckpt_after_loading=False, enable_memory_saver=False, allow_auto_truncate=False, enable_custom_logit_processor=False, tool_call_parser=None, enable_hierarchical_cache=False, hicache_ratio=2.0, enable_flashinfer_mla=False, enable_flashmla=False, flashinfer_mla_disable_ragged=False, warmups=None, debug_tensor_dump_output_folder=None, debug_tensor_dump_input_file=None, debug_tensor_dump_inject=False, disaggregation_mode='null', disaggregation_bootstrap_port=8998)\n"
     ]
    },
    {
     "name": "stdout",
     "output_type": "stream",
     "text": [
      "[2025-03-30 21:06:52 TP0] Init torch distributed begin.\n"
     ]
    },
    {
     "name": "stdout",
     "output_type": "stream",
     "text": [
      "[2025-03-30 21:06:54 TP0] Init torch distributed ends. mem usage=0.00 GB\n",
      "[2025-03-30 21:06:54 TP0] Load weight begin. avail mem=35.83 GB\n"
     ]
    },
    {
     "name": "stdout",
     "output_type": "stream",
     "text": [
      "[2025-03-30 21:06:55 TP0] Using model weights format ['*.safetensors']\n"
     ]
    },
    {
     "name": "stdout",
     "output_type": "stream",
     "text": [
      "\r",
      "Loading safetensors checkpoint shards:   0% Completed | 0/4 [00:00<?, ?it/s]\n"
     ]
    },
    {
     "name": "stdout",
     "output_type": "stream",
     "text": [
      "\r",
      "Loading safetensors checkpoint shards:  25% Completed | 1/4 [00:00<00:02,  1.35it/s]\n"
     ]
    },
    {
     "name": "stdout",
     "output_type": "stream",
     "text": [
      "\r",
      "Loading safetensors checkpoint shards:  50% Completed | 2/4 [00:01<00:01,  1.25it/s]\n"
     ]
    },
    {
     "name": "stdout",
     "output_type": "stream",
     "text": [
      "\r",
      "Loading safetensors checkpoint shards:  75% Completed | 3/4 [00:02<00:00,  1.22it/s]\n"
     ]
    },
    {
     "name": "stdout",
     "output_type": "stream",
     "text": [
      "\r",
      "Loading safetensors checkpoint shards: 100% Completed | 4/4 [00:03<00:00,  1.25it/s]\n",
      "\r",
      "Loading safetensors checkpoint shards: 100% Completed | 4/4 [00:03<00:00,  1.25it/s]\n",
      "\n",
      "[2025-03-30 21:06:59 TP0] Load weight end. type=Qwen2ForCausalLM, dtype=torch.bfloat16, avail mem=39.34 GB, mem usage=-3.51 GB.\n"
     ]
    },
    {
     "name": "stdout",
     "output_type": "stream",
     "text": [
      "[2025-03-30 21:07:00 TP0] KV Cache is allocated. #tokens: 20480, K size: 0.55 GB, V size: 0.55 GB\n",
      "[2025-03-30 21:07:00 TP0] Memory pool end. avail mem=38.04 GB\n"
     ]
    },
    {
     "name": "stdout",
     "output_type": "stream",
     "text": [
      "[2025-03-30 21:07:00 TP0] max_total_num_tokens=20480, chunked_prefill_size=8192, max_prefill_tokens=16384, max_running_requests=200, context_len=32768\n"
     ]
    },
    {
     "name": "stdout",
     "output_type": "stream",
     "text": [
      "[2025-03-30 21:07:01] INFO:     Started server process [1910770]\n",
      "[2025-03-30 21:07:01] INFO:     Waiting for application startup.\n",
      "[2025-03-30 21:07:01] INFO:     Application startup complete.\n",
      "[2025-03-30 21:07:01] INFO:     Uvicorn running on http://0.0.0.0:33765 (Press CTRL+C to quit)\n"
     ]
    },
    {
     "name": "stdout",
     "output_type": "stream",
     "text": [
      "[2025-03-30 21:07:02] INFO:     127.0.0.1:47100 - \"GET /v1/models HTTP/1.1\" 200 OK\n",
      "[2025-03-30 21:07:02] INFO:     127.0.0.1:47106 - \"GET /get_model_info HTTP/1.1\" 200 OK\n",
      "[2025-03-30 21:07:02 TP0] Prefill batch. #new-seq: 1, #new-token: 6, #cached-token: 0, token usage: 0.00, #running-req: 0, #queue-req: 0, \n"
     ]
    },
    {
     "name": "stdout",
     "output_type": "stream",
     "text": [
      "[2025-03-30 21:07:05] INFO:     127.0.0.1:47120 - \"POST /generate HTTP/1.1\" 200 OK\n",
      "[2025-03-30 21:07:05] The server is fired up and ready to roll!\n"
     ]
    },
    {
     "data": {
      "text/html": [
       "<strong style='color: #00008B;'><br><br>                    NOTE: Typically, the server runs in a separate terminal.<br>                    In this notebook, we run the server and notebook code together, so their outputs are combined.<br>                    To improve clarity, the server logs are displayed in the original black color, while the notebook outputs are highlighted in blue.<br>                    We are running those notebooks in a CI parallel environment, so the throughput is not representative of the actual performance.<br>                    </strong>"
      ],
      "text/plain": [
       "<IPython.core.display.HTML object>"
      ]
     },
     "metadata": {},
     "output_type": "display_data"
    },
    {
     "name": "stdout",
     "output_type": "stream",
     "text": [
      "Server started on http://localhost:33765\n"
     ]
    }
   ],
   "source": [
    "import requests\n",
    "import os\n",
    "\n",
    "from sglang import assistant_begin, assistant_end\n",
    "from sglang import assistant, function, gen, system, user\n",
    "from sglang import image\n",
    "from sglang import RuntimeEndpoint, set_default_backend\n",
    "from sglang.srt.utils import load_image\n",
    "from sglang.test.test_utils import is_in_ci\n",
    "from sglang.utils import print_highlight, terminate_process, wait_for_server\n",
    "\n",
    "if is_in_ci():\n",
    "    from patch import launch_server_cmd\n",
    "else:\n",
    "    from sglang.utils import launch_server_cmd\n",
    "\n",
    "\n",
    "server_process, port = launch_server_cmd(\n",
    "    \"python -m sglang.launch_server --model-path Qwen/Qwen2.5-7B-Instruct --host 0.0.0.0\"\n",
    ")\n",
    "\n",
    "wait_for_server(f\"http://localhost:{port}\")\n",
    "print(f\"Server started on http://localhost:{port}\")"
   ]
  },
  {
   "cell_type": "markdown",
   "metadata": {},
   "source": [
    "Set the default backend. Note: Besides the local server, you may use also `OpenAI` or other API endpoints."
   ]
  },
  {
   "cell_type": "code",
   "execution_count": 2,
   "metadata": {
    "execution": {
     "iopub.execute_input": "2025-03-30T21:07:07.143515Z",
     "iopub.status.busy": "2025-03-30T21:07:07.143262Z",
     "iopub.status.idle": "2025-03-30T21:07:07.148595Z",
     "shell.execute_reply": "2025-03-30T21:07:07.148176Z"
    }
   },
   "outputs": [
    {
     "name": "stdout",
     "output_type": "stream",
     "text": [
      "[2025-03-30 21:07:07] INFO:     127.0.0.1:33812 - \"GET /get_model_info HTTP/1.1\" 200 OK\n"
     ]
    }
   ],
   "source": [
    "set_default_backend(RuntimeEndpoint(f\"http://localhost:{port}\"))"
   ]
  },
  {
   "cell_type": "markdown",
   "metadata": {},
   "source": [
    "## Basic Usage\n",
    "\n",
    "The most simple way of using SGLang frontend language is a simple question answer dialog between a user and an assistant."
   ]
  },
  {
   "cell_type": "code",
   "execution_count": 3,
   "metadata": {
    "execution": {
     "iopub.execute_input": "2025-03-30T21:07:07.150125Z",
     "iopub.status.busy": "2025-03-30T21:07:07.149842Z",
     "iopub.status.idle": "2025-03-30T21:07:07.152525Z",
     "shell.execute_reply": "2025-03-30T21:07:07.152151Z"
    }
   },
   "outputs": [],
   "source": [
    "@function\n",
    "def basic_qa(s, question):\n",
    "    s += system(f\"You are a helpful assistant than can answer questions.\")\n",
    "    s += user(question)\n",
    "    s += assistant(gen(\"answer\", max_tokens=512))"
   ]
  },
  {
   "cell_type": "code",
   "execution_count": 4,
   "metadata": {
    "execution": {
     "iopub.execute_input": "2025-03-30T21:07:07.153828Z",
     "iopub.status.busy": "2025-03-30T21:07:07.153590Z",
     "iopub.status.idle": "2025-03-30T21:07:07.517040Z",
     "shell.execute_reply": "2025-03-30T21:07:07.516624Z"
    }
   },
   "outputs": [
    {
     "name": "stdout",
     "output_type": "stream",
     "text": [
      "[2025-03-30 21:07:07 TP0] Prefill batch. #new-seq: 1, #new-token: 31, #cached-token: 0, token usage: 0.00, #running-req: 0, #queue-req: 0, \n"
     ]
    },
    {
     "name": "stdout",
     "output_type": "stream",
     "text": [
      "[2025-03-30 21:07:07] INFO:     127.0.0.1:33820 - \"POST /generate HTTP/1.1\" 200 OK\n"
     ]
    },
    {
     "data": {
      "text/html": [
       "<strong style='color: #00008B;'>Sure! Here are three countries along with their capitals:<br><br>1. France - Paris<br>2. Brazil - Brasília<br>3. Japan - Tokyo</strong>"
      ],
      "text/plain": [
       "<IPython.core.display.HTML object>"
      ]
     },
     "metadata": {},
     "output_type": "display_data"
    }
   ],
   "source": [
    "state = basic_qa(\"List 3 countries and their capitals.\")\n",
    "print_highlight(state[\"answer\"])"
   ]
  },
  {
   "cell_type": "markdown",
   "metadata": {},
   "source": [
    "## Multi-turn Dialog\n",
    "\n",
    "SGLang frontend language can also be used to define multi-turn dialogs."
   ]
  },
  {
   "cell_type": "code",
   "execution_count": 5,
   "metadata": {
    "execution": {
     "iopub.execute_input": "2025-03-30T21:07:07.518619Z",
     "iopub.status.busy": "2025-03-30T21:07:07.518411Z",
     "iopub.status.idle": "2025-03-30T21:07:08.291405Z",
     "shell.execute_reply": "2025-03-30T21:07:08.290983Z"
    }
   },
   "outputs": [
    {
     "name": "stdout",
     "output_type": "stream",
     "text": [
      "[2025-03-30 21:07:07 TP0] Prefill batch. #new-seq: 1, #new-token: 18, #cached-token: 18, token usage: 0.00, #running-req: 0, #queue-req: 0, \n",
      "[2025-03-30 21:07:07 TP0] Decode batch. #running-req: 1, #token: 39, token usage: 0.00, gen throughput (token/s): 5.87, #queue-req: 0, \n"
     ]
    },
    {
     "name": "stdout",
     "output_type": "stream",
     "text": [
      "[2025-03-30 21:07:07] INFO:     127.0.0.1:33826 - \"POST /generate HTTP/1.1\" 200 OK\n"
     ]
    },
    {
     "data": {
      "text/html": [
       "<strong style='color: #00008B;'>Sure! Here are three countries along with their respective capitals:<br><br>1. **Germany** - Berlin<br>2. **France** - Paris<br>3. **Japan** - Tokyo</strong>"
      ],
      "text/plain": [
       "<IPython.core.display.HTML object>"
      ]
     },
     "metadata": {},
     "output_type": "display_data"
    },
    {
     "name": "stdout",
     "output_type": "stream",
     "text": [
      "[2025-03-30 21:07:07 TP0] Prefill batch. #new-seq: 1, #new-token: 23, #cached-token: 71, token usage: 0.00, #running-req: 0, #queue-req: 0, \n",
      "[2025-03-30 21:07:07 TP0] Decode batch. #running-req: 1, #token: 101, token usage: 0.00, gen throughput (token/s): 96.47, #queue-req: 0, \n"
     ]
    },
    {
     "name": "stdout",
     "output_type": "stream",
     "text": [
      "[2025-03-30 21:07:08] INFO:     127.0.0.1:33842 - \"POST /generate HTTP/1.1\" 200 OK\n"
     ]
    },
    {
     "data": {
      "text/html": [
       "<strong style='color: #00008B;'>Certainly! Here's another list of three countries and their capitals:<br><br>1. **Italy** - Rome<br>2. **Spain** - Madrid<br>3. **Canada** - Ottawa</strong>"
      ],
      "text/plain": [
       "<IPython.core.display.HTML object>"
      ]
     },
     "metadata": {},
     "output_type": "display_data"
    }
   ],
   "source": [
    "@function\n",
    "def multi_turn_qa(s):\n",
    "    s += system(f\"You are a helpful assistant than can answer questions.\")\n",
    "    s += user(\"Please give me a list of 3 countries and their capitals.\")\n",
    "    s += assistant(gen(\"first_answer\", max_tokens=512))\n",
    "    s += user(\"Please give me another list of 3 countries and their capitals.\")\n",
    "    s += assistant(gen(\"second_answer\", max_tokens=512))\n",
    "    return s\n",
    "\n",
    "\n",
    "state = multi_turn_qa()\n",
    "print_highlight(state[\"first_answer\"])\n",
    "print_highlight(state[\"second_answer\"])"
   ]
  },
  {
   "cell_type": "markdown",
   "metadata": {},
   "source": [
    "## Control flow\n",
    "\n",
    "You may use any Python code within the function to define more complex control flows."
   ]
  },
  {
   "cell_type": "code",
   "execution_count": 6,
   "metadata": {
    "execution": {
     "iopub.execute_input": "2025-03-30T21:07:08.293011Z",
     "iopub.status.busy": "2025-03-30T21:07:08.292784Z",
     "iopub.status.idle": "2025-03-30T21:07:08.634731Z",
     "shell.execute_reply": "2025-03-30T21:07:08.634189Z"
    }
   },
   "outputs": [
    {
     "name": "stdout",
     "output_type": "stream",
     "text": [
      "[2025-03-30 21:07:08 TP0] Prefill batch. #new-seq: 1, #new-token: 25, #cached-token: 8, token usage: 0.00, #running-req: 0, #queue-req: 0, \n",
      "[2025-03-30 21:07:08] INFO:     127.0.0.1:33854 - \"POST /generate HTTP/1.1\" 200 OK\n",
      "[2025-03-30 21:07:08 TP0] Prefill batch. #new-seq: 1, #new-token: 2, #cached-token: 31, token usage: 0.00, #running-req: 0, #queue-req: 0, \n",
      "[2025-03-30 21:07:08 TP0] Prefill batch. #new-seq: 1, #new-token: 3, #cached-token: 31, token usage: 0.00, #running-req: 1, #queue-req: 0, \n",
      "[2025-03-30 21:07:08] INFO:     127.0.0.1:33870 - \"POST /generate HTTP/1.1\" 200 OK\n"
     ]
    },
    {
     "data": {
      "text/html": [
       "<strong style='color: #00008B;'>calculator</strong>"
      ],
      "text/plain": [
       "<IPython.core.display.HTML object>"
      ]
     },
     "metadata": {},
     "output_type": "display_data"
    },
    {
     "name": "stdout",
     "output_type": "stream",
     "text": [
      "[2025-03-30 21:07:08 TP0] Prefill batch. #new-seq: 1, #new-token: 13, #cached-token: 33, token usage: 0.00, #running-req: 0, #queue-req: 0, \n",
      "[2025-03-30 21:07:08 TP0] Decode batch. #running-req: 1, #token: 54, token usage: 0.00, gen throughput (token/s): 82.59, #queue-req: 0, \n"
     ]
    },
    {
     "name": "stdout",
     "output_type": "stream",
     "text": [
      "[2025-03-30 21:07:08] INFO:     127.0.0.1:33884 - \"POST /generate HTTP/1.1\" 200 OK\n"
     ]
    },
    {
     "data": {
      "text/html": [
       "<strong style='color: #00008B;'>2 * 2, which equals 4. There's no need to use a calculator for this simple calculation.</strong>"
      ],
      "text/plain": [
       "<IPython.core.display.HTML object>"
      ]
     },
     "metadata": {},
     "output_type": "display_data"
    }
   ],
   "source": [
    "@function\n",
    "def tool_use(s, question):\n",
    "    s += assistant(\n",
    "        \"To answer this question: \"\n",
    "        + question\n",
    "        + \". I need to use a \"\n",
    "        + gen(\"tool\", choices=[\"calculator\", \"search engine\"])\n",
    "        + \". \"\n",
    "    )\n",
    "\n",
    "    if s[\"tool\"] == \"calculator\":\n",
    "        s += assistant(\"The math expression is: \" + gen(\"expression\"))\n",
    "    elif s[\"tool\"] == \"search engine\":\n",
    "        s += assistant(\"The key word to search is: \" + gen(\"word\"))\n",
    "\n",
    "\n",
    "state = tool_use(\"What is 2 * 2?\")\n",
    "print_highlight(state[\"tool\"])\n",
    "print_highlight(state[\"expression\"])"
   ]
  },
  {
   "cell_type": "markdown",
   "metadata": {},
   "source": [
    "## Parallelism\n",
    "\n",
    "Use `fork` to launch parallel prompts. Because `sgl.gen` is non-blocking, the for loop below issues two generation calls in parallel."
   ]
  },
  {
   "cell_type": "code",
   "execution_count": 7,
   "metadata": {
    "execution": {
     "iopub.execute_input": "2025-03-30T21:07:08.636482Z",
     "iopub.status.busy": "2025-03-30T21:07:08.636236Z",
     "iopub.status.idle": "2025-03-30T21:07:12.710384Z",
     "shell.execute_reply": "2025-03-30T21:07:12.709723Z"
    }
   },
   "outputs": [
    {
     "name": "stdout",
     "output_type": "stream",
     "text": [
      "[2025-03-30 21:07:08 TP0] Prefill batch. #new-seq: 1, #new-token: 35, #cached-token: 14, token usage: 0.00, #running-req: 0, #queue-req: 0, \n",
      "[2025-03-30 21:07:08 TP0] Prefill batch. #new-seq: 1, #new-token: 5, #cached-token: 44, token usage: 0.00, #running-req: 1, #queue-req: 0, \n"
     ]
    },
    {
     "name": "stdout",
     "output_type": "stream",
     "text": [
      "[2025-03-30 21:07:08 TP0] Decode batch. #running-req: 2, #token: 101, token usage: 0.00, gen throughput (token/s): 132.18, #queue-req: 0, \n"
     ]
    },
    {
     "name": "stdout",
     "output_type": "stream",
     "text": [
      "[2025-03-30 21:07:09 TP0] Decode batch. #running-req: 2, #token: 181, token usage: 0.01, gen throughput (token/s): 180.48, #queue-req: 0, \n"
     ]
    },
    {
     "name": "stdout",
     "output_type": "stream",
     "text": [
      "[2025-03-30 21:07:09 TP0] Decode batch. #running-req: 2, #token: 261, token usage: 0.01, gen throughput (token/s): 186.07, #queue-req: 0, \n"
     ]
    },
    {
     "name": "stdout",
     "output_type": "stream",
     "text": [
      "[2025-03-30 21:07:10 TP0] Decode batch. #running-req: 2, #token: 341, token usage: 0.02, gen throughput (token/s): 176.16, #queue-req: 0, \n"
     ]
    },
    {
     "name": "stdout",
     "output_type": "stream",
     "text": [
      "[2025-03-30 21:07:10] INFO:     127.0.0.1:33906 - \"POST /generate HTTP/1.1\" 200 OK\n",
      "[2025-03-30 21:07:10 TP0] Decode batch. #running-req: 1, #token: 233, token usage: 0.01, gen throughput (token/s): 172.28, #queue-req: 0, \n"
     ]
    },
    {
     "name": "stdout",
     "output_type": "stream",
     "text": [
      "[2025-03-30 21:07:10] INFO:     127.0.0.1:33898 - \"POST /generate HTTP/1.1\" 200 OK\n",
      "[2025-03-30 21:07:10 TP0] Prefill batch. #new-seq: 1, #new-token: 410, #cached-token: 39, token usage: 0.00, #running-req: 0, #queue-req: 0, \n"
     ]
    },
    {
     "name": "stdout",
     "output_type": "stream",
     "text": [
      "[2025-03-30 21:07:11 TP0] Decode batch. #running-req: 1, #token: 469, token usage: 0.02, gen throughput (token/s): 95.19, #queue-req: 0, \n"
     ]
    },
    {
     "name": "stdout",
     "output_type": "stream",
     "text": [
      "[2025-03-30 21:07:11 TP0] Decode batch. #running-req: 1, #token: 509, token usage: 0.02, gen throughput (token/s): 95.52, #queue-req: 0, \n"
     ]
    },
    {
     "name": "stdout",
     "output_type": "stream",
     "text": [
      "[2025-03-30 21:07:11 TP0] Decode batch. #running-req: 1, #token: 549, token usage: 0.03, gen throughput (token/s): 97.64, #queue-req: 0, \n"
     ]
    },
    {
     "name": "stdout",
     "output_type": "stream",
     "text": [
      "[2025-03-30 21:07:12 TP0] Decode batch. #running-req: 1, #token: 589, token usage: 0.03, gen throughput (token/s): 94.68, #queue-req: 0, \n"
     ]
    },
    {
     "name": "stdout",
     "output_type": "stream",
     "text": [
      "[2025-03-30 21:07:12] INFO:     127.0.0.1:33910 - \"POST /generate HTTP/1.1\" 200 OK\n"
     ]
    },
    {
     "data": {
      "text/html": [
       "<strong style='color: #00008B;'>1. **Balanced Diet**: Eating a variety of nutritious foods ensures you get essential nutrients like vitamins, minerals, and fiber. Focus on incorporating plenty of fruits and vegetables, whole grains, lean proteins, and healthy fats. Additionally, stay hydrated and limit the intake of processed foods, sugars, and saturated fats.<br><br>2. **Regular Exercise**: Engaging in physical activity regularly can improve cardiovascular health, strengthen muscles and bones, and reduce the risk of several diseases. Aim for at least 150 minutes of moderate-intensity aerobic activity or 75 minutes of vigorous-intensity aerobic activity each week, along with muscle-strengthening activities on two or more days. This can include activities like brisk walking, cycling, swimming, or weightlifting.<br><br>By following these two key tips, you can significantly enhance your overall health and well-being.</strong>"
      ],
      "text/plain": [
       "<IPython.core.display.HTML object>"
      ]
     },
     "metadata": {},
     "output_type": "display_data"
    }
   ],
   "source": [
    "@function\n",
    "def tip_suggestion(s):\n",
    "    s += assistant(\n",
    "        \"Here are two tips for staying healthy: \"\n",
    "        \"1. Balanced Diet. 2. Regular Exercise.\\n\\n\"\n",
    "    )\n",
    "\n",
    "    forks = s.fork(2)\n",
    "    for i, f in enumerate(forks):\n",
    "        f += assistant(\n",
    "            f\"Now, expand tip {i+1} into a paragraph:\\n\"\n",
    "            + gen(\"detailed_tip\", max_tokens=256, stop=\"\\n\\n\")\n",
    "        )\n",
    "\n",
    "    s += assistant(\"Tip 1:\" + forks[0][\"detailed_tip\"] + \"\\n\")\n",
    "    s += assistant(\"Tip 2:\" + forks[1][\"detailed_tip\"] + \"\\n\")\n",
    "    s += assistant(\n",
    "        \"To summarize the above two tips, I can say:\\n\" + gen(\"summary\", max_tokens=512)\n",
    "    )\n",
    "\n",
    "\n",
    "state = tip_suggestion()\n",
    "print_highlight(state[\"summary\"])"
   ]
  },
  {
   "cell_type": "markdown",
   "metadata": {},
   "source": [
    "## Constrained Decoding\n",
    "\n",
    "Use `regex` to specify a regular expression as a decoding constraint. This is only supported for local models."
   ]
  },
  {
   "cell_type": "code",
   "execution_count": 8,
   "metadata": {
    "execution": {
     "iopub.execute_input": "2025-03-30T21:07:12.712229Z",
     "iopub.status.busy": "2025-03-30T21:07:12.711971Z",
     "iopub.status.idle": "2025-03-30T21:07:14.568080Z",
     "shell.execute_reply": "2025-03-30T21:07:14.567545Z"
    }
   },
   "outputs": [
    {
     "name": "stdout",
     "output_type": "stream",
     "text": [
      "[2025-03-30 21:07:12 TP0] Prefill batch. #new-seq: 1, #new-token: 18, #cached-token: 12, token usage: 0.00, #running-req: 0, #queue-req: 0, \n"
     ]
    },
    {
     "name": "stdout",
     "output_type": "stream",
     "text": [
      "[2025-03-30 21:07:14 TP0] Decode batch. #running-req: 1, #token: 39, token usage: 0.00, gen throughput (token/s): 18.79, #queue-req: 0, \n",
      "[2025-03-30 21:07:14] INFO:     127.0.0.1:33918 - \"POST /generate HTTP/1.1\" 200 OK\n"
     ]
    },
    {
     "data": {
      "text/html": [
       "<strong style='color: #00008B;'>208.67.222.222</strong>"
      ],
      "text/plain": [
       "<IPython.core.display.HTML object>"
      ]
     },
     "metadata": {},
     "output_type": "display_data"
    }
   ],
   "source": [
    "@function\n",
    "def regular_expression_gen(s):\n",
    "    s += user(\"What is the IP address of the Google DNS servers?\")\n",
    "    s += assistant(\n",
    "        gen(\n",
    "            \"answer\",\n",
    "            temperature=0,\n",
    "            regex=r\"((25[0-5]|2[0-4]\\d|[01]?\\d\\d?).){3}(25[0-5]|2[0-4]\\d|[01]?\\d\\d?)\",\n",
    "        )\n",
    "    )\n",
    "\n",
    "\n",
    "state = regular_expression_gen()\n",
    "print_highlight(state[\"answer\"])"
   ]
  },
  {
   "cell_type": "markdown",
   "metadata": {},
   "source": [
    "Use `regex` to define a `JSON` decoding schema."
   ]
  },
  {
   "cell_type": "code",
   "execution_count": 9,
   "metadata": {
    "execution": {
     "iopub.execute_input": "2025-03-30T21:07:14.569906Z",
     "iopub.status.busy": "2025-03-30T21:07:14.569666Z",
     "iopub.status.idle": "2025-03-30T21:07:16.387490Z",
     "shell.execute_reply": "2025-03-30T21:07:16.387064Z"
    }
   },
   "outputs": [
    {
     "name": "stdout",
     "output_type": "stream",
     "text": [
      "[2025-03-30 21:07:15 TP0] Prefill batch. #new-seq: 1, #new-token: 24, #cached-token: 14, token usage: 0.00, #running-req: 0, #queue-req: 0, \n"
     ]
    },
    {
     "name": "stdout",
     "output_type": "stream",
     "text": [
      "[2025-03-30 21:07:15 TP0] Decode batch. #running-req: 1, #token: 72, token usage: 0.00, gen throughput (token/s): 43.28, #queue-req: 0, \n"
     ]
    },
    {
     "name": "stdout",
     "output_type": "stream",
     "text": [
      "[2025-03-30 21:07:15 TP0] Decode batch. #running-req: 1, #token: 112, token usage: 0.01, gen throughput (token/s): 89.53, #queue-req: 0, \n"
     ]
    },
    {
     "name": "stdout",
     "output_type": "stream",
     "text": [
      "[2025-03-30 21:07:16 TP0] Decode batch. #running-req: 1, #token: 152, token usage: 0.01, gen throughput (token/s): 87.90, #queue-req: 0, \n",
      "[2025-03-30 21:07:16] INFO:     127.0.0.1:35498 - \"POST /generate HTTP/1.1\" 200 OK\n"
     ]
    },
    {
     "data": {
      "text/html": [
       "<strong style='color: #00008B;'>{<br>    \"name\": \"Harry Potter\",<br>    \"house\": \"Gryffindor\",<br>    \"blood status\": \"Half-blood\",<br>    \"occupation\": \"student\",<br>    \"wand\": {<br>        \"wood\": \"Bowenwood\",<br>        \"core\": \"Phoenix feather\",<br>        \"length\": 11.5<br>    },<br>    \"alive\": \"Alive\",<br>    \"patronus\": \"Stag\",<br>    \"bogart\": \"Embarrassment\"<br>}</strong>"
      ],
      "text/plain": [
       "<IPython.core.display.HTML object>"
      ]
     },
     "metadata": {},
     "output_type": "display_data"
    }
   ],
   "source": [
    "character_regex = (\n",
    "    r\"\"\"\\{\\n\"\"\"\n",
    "    + r\"\"\"    \"name\": \"[\\w\\d\\s]{1,16}\",\\n\"\"\"\n",
    "    + r\"\"\"    \"house\": \"(Gryffindor|Slytherin|Ravenclaw|Hufflepuff)\",\\n\"\"\"\n",
    "    + r\"\"\"    \"blood status\": \"(Pure-blood|Half-blood|Muggle-born)\",\\n\"\"\"\n",
    "    + r\"\"\"    \"occupation\": \"(student|teacher|auror|ministry of magic|death eater|order of the phoenix)\",\\n\"\"\"\n",
    "    + r\"\"\"    \"wand\": \\{\\n\"\"\"\n",
    "    + r\"\"\"        \"wood\": \"[\\w\\d\\s]{1,16}\",\\n\"\"\"\n",
    "    + r\"\"\"        \"core\": \"[\\w\\d\\s]{1,16}\",\\n\"\"\"\n",
    "    + r\"\"\"        \"length\": [0-9]{1,2}\\.[0-9]{0,2}\\n\"\"\"\n",
    "    + r\"\"\"    \\},\\n\"\"\"\n",
    "    + r\"\"\"    \"alive\": \"(Alive|Deceased)\",\\n\"\"\"\n",
    "    + r\"\"\"    \"patronus\": \"[\\w\\d\\s]{1,16}\",\\n\"\"\"\n",
    "    + r\"\"\"    \"bogart\": \"[\\w\\d\\s]{1,16}\"\\n\"\"\"\n",
    "    + r\"\"\"\\}\"\"\"\n",
    ")\n",
    "\n",
    "\n",
    "@function\n",
    "def character_gen(s, name):\n",
    "    s += user(\n",
    "        f\"{name} is a character in Harry Potter. Please fill in the following information about this character.\"\n",
    "    )\n",
    "    s += assistant(gen(\"json_output\", max_tokens=256, regex=character_regex))\n",
    "\n",
    "\n",
    "state = character_gen(\"Harry Potter\")\n",
    "print_highlight(state[\"json_output\"])"
   ]
  },
  {
   "cell_type": "markdown",
   "metadata": {},
   "source": [
    "## Batching \n",
    "\n",
    "Use `run_batch` to run a batch of prompts."
   ]
  },
  {
   "cell_type": "code",
   "execution_count": 10,
   "metadata": {
    "execution": {
     "iopub.execute_input": "2025-03-30T21:07:16.389256Z",
     "iopub.status.busy": "2025-03-30T21:07:16.389018Z",
     "iopub.status.idle": "2025-03-30T21:07:16.694700Z",
     "shell.execute_reply": "2025-03-30T21:07:16.694284Z"
    }
   },
   "outputs": [
    {
     "name": "stdout",
     "output_type": "stream",
     "text": [
      "[2025-03-30 21:07:16 TP0] Prefill batch. #new-seq: 1, #new-token: 1, #cached-token: 13, token usage: 0.00, #running-req: 0, #queue-req: 0, \n",
      "[2025-03-30 21:07:16] INFO:     127.0.0.1:35508 - \"POST /generate HTTP/1.1\" 200 OK\n"
     ]
    },
    {
     "name": "stderr",
     "output_type": "stream",
     "text": [
      "\r",
      "  0%|          | 0/3 [00:00<?, ?it/s]"
     ]
    },
    {
     "name": "stdout",
     "output_type": "stream",
     "text": [
      "[2025-03-30 21:07:16 TP0] Prefill batch. #new-seq: 1, #new-token: 11, #cached-token: 17, token usage: 0.00, #running-req: 0, #queue-req: 0, \n",
      "[2025-03-30 21:07:16 TP0] Prefill batch. #new-seq: 1, #new-token: 9, #cached-token: 17, token usage: 0.00, #running-req: 1, #queue-req: 0, \n"
     ]
    },
    {
     "name": "stdout",
     "output_type": "stream",
     "text": [
      "[2025-03-30 21:07:16 TP0] Prefill batch. #new-seq: 1, #new-token: 7, #cached-token: 19, token usage: 0.00, #running-req: 2, #queue-req: 0, \n"
     ]
    },
    {
     "name": "stderr",
     "output_type": "stream",
     "text": [
      "\r",
      " 33%|███▎      | 1/3 [00:00<00:00,  3.98it/s]"
     ]
    },
    {
     "name": "stderr",
     "output_type": "stream",
     "text": [
      "\r",
      " 67%|██████▋   | 2/3 [00:00<00:00,  6.31it/s]"
     ]
    },
    {
     "name": "stderr",
     "output_type": "stream",
     "text": [
      "\r",
      "100%|██████████| 3/3 [00:00<00:00, 11.08it/s]"
     ]
    },
    {
     "name": "stdout",
     "output_type": "stream",
     "text": [
      "[2025-03-30 21:07:16] INFO:     127.0.0.1:35518 - \"POST /generate HTTP/1.1\" 200 OK\n",
      "[2025-03-30 21:07:16] INFO:     127.0.0.1:35526 - \"POST /generate HTTP/1.1\" 200 OK\n",
      "[2025-03-30 21:07:16] INFO:     127.0.0.1:35514 - \"POST /generate HTTP/1.1\" 200 OK\n"
     ]
    },
    {
     "name": "stderr",
     "output_type": "stream",
     "text": [
      "\n"
     ]
    },
    {
     "data": {
      "text/html": [
       "<strong style='color: #00008B;'>Answer 1: The capital of the United Kingdom is London.</strong>"
      ],
      "text/plain": [
       "<IPython.core.display.HTML object>"
      ]
     },
     "metadata": {},
     "output_type": "display_data"
    },
    {
     "data": {
      "text/html": [
       "<strong style='color: #00008B;'>Answer 2: The capital of France is Paris.</strong>"
      ],
      "text/plain": [
       "<IPython.core.display.HTML object>"
      ]
     },
     "metadata": {},
     "output_type": "display_data"
    },
    {
     "data": {
      "text/html": [
       "<strong style='color: #00008B;'>Answer 3: The capital of Japan is Tokyo.</strong>"
      ],
      "text/plain": [
       "<IPython.core.display.HTML object>"
      ]
     },
     "metadata": {},
     "output_type": "display_data"
    }
   ],
   "source": [
    "@function\n",
    "def text_qa(s, question):\n",
    "    s += user(question)\n",
    "    s += assistant(gen(\"answer\", stop=\"\\n\"))\n",
    "\n",
    "\n",
    "states = text_qa.run_batch(\n",
    "    [\n",
    "        {\"question\": \"What is the capital of the United Kingdom?\"},\n",
    "        {\"question\": \"What is the capital of France?\"},\n",
    "        {\"question\": \"What is the capital of Japan?\"},\n",
    "    ],\n",
    "    progress_bar=True,\n",
    ")\n",
    "\n",
    "for i, state in enumerate(states):\n",
    "    print_highlight(f\"Answer {i+1}: {states[i]['answer']}\")"
   ]
  },
  {
   "cell_type": "markdown",
   "metadata": {},
   "source": [
    "## Streaming \n",
    "\n",
    "Use `stream` to stream the output to the user."
   ]
  },
  {
   "cell_type": "code",
   "execution_count": 11,
   "metadata": {
    "execution": {
     "iopub.execute_input": "2025-03-30T21:07:16.696362Z",
     "iopub.status.busy": "2025-03-30T21:07:16.696136Z",
     "iopub.status.idle": "2025-03-30T21:07:16.792205Z",
     "shell.execute_reply": "2025-03-30T21:07:16.791754Z"
    }
   },
   "outputs": [
    {
     "name": "stdout",
     "output_type": "stream",
     "text": [
      "<|im_start|>system\n",
      "You are a helpful assistant.<|im_end|>\n",
      "<|im_start|>user\n",
      "What is the capital of France?<|im_end|>\n",
      "<|im_start|>assistant\n"
     ]
    },
    {
     "name": "stdout",
     "output_type": "stream",
     "text": [
      "[2025-03-30 21:07:16] INFO:     127.0.0.1:35530 - \"POST /generate HTTP/1.1\" 200 OK\n",
      "[2025-03-30 21:07:16 TP0] Prefill batch. #new-seq: 1, #new-token: 1, #cached-token: 25, token usage: 0.00, #running-req: 0, #queue-req: 0, \n",
      "The"
     ]
    },
    {
     "name": "stdout",
     "output_type": "stream",
     "text": [
      " capital"
     ]
    },
    {
     "name": "stdout",
     "output_type": "stream",
     "text": [
      " of"
     ]
    },
    {
     "name": "stdout",
     "output_type": "stream",
     "text": [
      " France"
     ]
    },
    {
     "name": "stdout",
     "output_type": "stream",
     "text": [
      " is"
     ]
    },
    {
     "name": "stdout",
     "output_type": "stream",
     "text": [
      " Paris"
     ]
    },
    {
     "name": "stdout",
     "output_type": "stream",
     "text": [
      "."
     ]
    },
    {
     "name": "stdout",
     "output_type": "stream",
     "text": [
      "<|im_end|>\n"
     ]
    }
   ],
   "source": [
    "@function\n",
    "def text_qa(s, question):\n",
    "    s += user(question)\n",
    "    s += assistant(gen(\"answer\", stop=\"\\n\"))\n",
    "\n",
    "\n",
    "state = text_qa.run(\n",
    "    question=\"What is the capital of France?\", temperature=0.1, stream=True\n",
    ")\n",
    "\n",
    "for out in state.text_iter():\n",
    "    print(out, end=\"\", flush=True)"
   ]
  },
  {
   "cell_type": "markdown",
   "metadata": {},
   "source": [
    "## Complex Prompts\n",
    "\n",
    "You may use `{system|user|assistant}_{begin|end}` to define complex prompts."
   ]
  },
  {
   "cell_type": "code",
   "execution_count": 12,
   "metadata": {
    "execution": {
     "iopub.execute_input": "2025-03-30T21:07:16.793810Z",
     "iopub.status.busy": "2025-03-30T21:07:16.793603Z",
     "iopub.status.idle": "2025-03-30T21:07:16.902610Z",
     "shell.execute_reply": "2025-03-30T21:07:16.902205Z"
    }
   },
   "outputs": [
    {
     "name": "stdout",
     "output_type": "stream",
     "text": [
      "[2025-03-30 21:07:16 TP0] Prefill batch. #new-seq: 1, #new-token: 17, #cached-token: 14, token usage: 0.00, #running-req: 0, #queue-req: 0, \n"
     ]
    },
    {
     "name": "stdout",
     "output_type": "stream",
     "text": [
      "[2025-03-30 21:07:16] INFO:     127.0.0.1:35542 - \"POST /generate HTTP/1.1\" 200 OK\n"
     ]
    },
    {
     "data": {
      "text/html": [
       "<strong style='color: #00008B;'> The capital of France is Paris.</strong>"
      ],
      "text/plain": [
       "<IPython.core.display.HTML object>"
      ]
     },
     "metadata": {},
     "output_type": "display_data"
    }
   ],
   "source": [
    "@function\n",
    "def chat_example(s):\n",
    "    s += system(\"You are a helpful assistant.\")\n",
    "    # Same as: s += s.system(\"You are a helpful assistant.\")\n",
    "\n",
    "    with s.user():\n",
    "        s += \"Question: What is the capital of France?\"\n",
    "\n",
    "    s += assistant_begin()\n",
    "    s += \"Answer: \" + gen(\"answer\", max_tokens=100, stop=\"\\n\")\n",
    "    s += assistant_end()\n",
    "\n",
    "\n",
    "state = chat_example()\n",
    "print_highlight(state[\"answer\"])"
   ]
  },
  {
   "cell_type": "code",
   "execution_count": 13,
   "metadata": {
    "execution": {
     "iopub.execute_input": "2025-03-30T21:07:16.904151Z",
     "iopub.status.busy": "2025-03-30T21:07:16.903949Z",
     "iopub.status.idle": "2025-03-30T21:07:16.950302Z",
     "shell.execute_reply": "2025-03-30T21:07:16.949819Z"
    }
   },
   "outputs": [
    {
     "name": "stdout",
     "output_type": "stream",
     "text": [
      "[2025-03-30 21:07:16] Child process unexpectedly failed with an exit code 9. pid=1911325\n",
      "[2025-03-30 21:07:16] Child process unexpectedly failed with an exit code 9. pid=1911180\n"
     ]
    }
   ],
   "source": [
    "terminate_process(server_process)"
   ]
  },
  {
   "cell_type": "markdown",
   "metadata": {},
   "source": [
    "## Multi-modal Generation\n",
    "\n",
    "You may use SGLang frontend language to define multi-modal prompts.\n",
    "See [here](https://docs.sglang.ai/references/supported_models.html) for supported models."
   ]
  },
  {
   "cell_type": "code",
   "execution_count": 14,
   "metadata": {
    "execution": {
     "iopub.execute_input": "2025-03-30T21:07:16.952163Z",
     "iopub.status.busy": "2025-03-30T21:07:16.951950Z",
     "iopub.status.idle": "2025-03-30T21:08:05.113310Z",
     "shell.execute_reply": "2025-03-30T21:08:05.112807Z"
    }
   },
   "outputs": [
    {
     "name": "stdout",
     "output_type": "stream",
     "text": [
      "[2025-03-30 21:07:25] server_args=ServerArgs(model_path='Qwen/Qwen2.5-VL-7B-Instruct', tokenizer_path='Qwen/Qwen2.5-VL-7B-Instruct', tokenizer_mode='auto', skip_tokenizer_init=False, load_format='auto', trust_remote_code=False, dtype='auto', kv_cache_dtype='auto', quantization=None, quantization_param_path=None, context_length=None, device='cuda', served_model_name='Qwen/Qwen2.5-VL-7B-Instruct', chat_template=None, completion_template=None, is_embedding=False, revision=None, host='0.0.0.0', port=38706, mem_fraction_static=0.88, max_running_requests=200, max_total_tokens=20480, chunked_prefill_size=8192, max_prefill_tokens=16384, schedule_policy='fcfs', schedule_conservativeness=1.0, cpu_offload_gb=0, page_size=1, tp_size=1, stream_interval=1, stream_output=False, random_seed=671756658, constrained_json_whitespace_pattern=None, watchdog_timeout=300, dist_timeout=None, download_dir=None, base_gpu_id=0, gpu_id_step=1, log_level='info', log_level_http=None, log_requests=False, log_requests_level=0, show_time_cost=False, enable_metrics=False, decode_log_interval=40, api_key=None, file_storage_path='sglang_storage', enable_cache_report=False, reasoning_parser=None, dp_size=1, load_balance_method='round_robin', ep_size=1, dist_init_addr=None, nnodes=1, node_rank=0, json_model_override_args='{}', lora_paths=None, max_loras_per_batch=8, lora_backend='triton', attention_backend='flashinfer', sampling_backend='flashinfer', grammar_backend='xgrammar', speculative_algorithm=None, speculative_draft_model_path=None, speculative_num_steps=None, speculative_eagle_topk=None, speculative_num_draft_tokens=None, speculative_accept_threshold_single=1.0, speculative_accept_threshold_acc=1.0, speculative_token_map=None, enable_double_sparsity=False, ds_channel_config_path=None, ds_heavy_channel_num=32, ds_heavy_token_num=256, ds_heavy_channel_type='qk', ds_sparse_decode_threshold=4096, disable_radix_cache=False, disable_cuda_graph=True, disable_cuda_graph_padding=False, enable_nccl_nvls=False, disable_outlines_disk_cache=False, disable_custom_all_reduce=False, disable_mla=False, disable_overlap_schedule=False, enable_mixed_chunk=False, enable_dp_attention=False, enable_ep_moe=False, enable_deepep_moe=False, enable_torch_compile=False, torch_compile_max_bs=32, cuda_graph_max_bs=160, cuda_graph_bs=None, torchao_config='', enable_nan_detection=False, enable_p2p_check=False, triton_attention_reduce_in_fp32=False, triton_attention_num_kv_splits=8, num_continuous_decode_steps=1, delete_ckpt_after_loading=False, enable_memory_saver=False, allow_auto_truncate=False, enable_custom_logit_processor=False, tool_call_parser=None, enable_hierarchical_cache=False, hicache_ratio=2.0, enable_flashinfer_mla=False, enable_flashmla=False, flashinfer_mla_disable_ragged=False, warmups=None, debug_tensor_dump_output_folder=None, debug_tensor_dump_input_file=None, debug_tensor_dump_inject=False, disaggregation_mode='null', disaggregation_bootstrap_port=8998)\n"
     ]
    },
    {
     "name": "stdout",
     "output_type": "stream",
     "text": [
      "Using a slow image processor as `use_fast` is unset and a slow processor was saved with this model. `use_fast=True` will be the default behavior in v4.50, even if the model was saved with a slow processor. This will result in minor differences in outputs. You'll still be able to use a slow processor with `use_fast=False`.\n",
      "[2025-03-30 21:07:26] Using a slow image processor as `use_fast` is unset and a slow processor was saved with this model. `use_fast=True` will be the default behavior in v4.50, even if the model was saved with a slow processor. This will result in minor differences in outputs. You'll still be able to use a slow processor with `use_fast=False`.\n"
     ]
    },
    {
     "name": "stdout",
     "output_type": "stream",
     "text": [
      "Using a slow image processor as `use_fast` is unset and a slow processor was saved with this model. `use_fast=True` will be the default behavior in v4.50, even if the model was saved with a slow processor. This will result in minor differences in outputs. You'll still be able to use a slow processor with `use_fast=False`.\n",
      "[2025-03-30 21:07:35 TP0] Using a slow image processor as `use_fast` is unset and a slow processor was saved with this model. `use_fast=True` will be the default behavior in v4.50, even if the model was saved with a slow processor. This will result in minor differences in outputs. You'll still be able to use a slow processor with `use_fast=False`.\n"
     ]
    },
    {
     "name": "stdout",
     "output_type": "stream",
     "text": [
      "[2025-03-30 21:07:46 TP0] Overlap scheduler is disabled for multimodal models.\n",
      "[2025-03-30 21:07:47 TP0] Automatically reduce --mem-fraction-static to 0.836 because this is a multimodal model.\n",
      "[2025-03-30 21:07:47 TP0] Automatically turn off --chunked-prefill-size and disable radix cache for qwen-vl series.\n",
      "[2025-03-30 21:07:47 TP0] Init torch distributed begin.\n"
     ]
    },
    {
     "name": "stdout",
     "output_type": "stream",
     "text": [
      "[2025-03-30 21:07:47 TP0] Init torch distributed ends. mem usage=0.00 GB\n",
      "[2025-03-30 21:07:47 TP0] Load weight begin. avail mem=58.74 GB\n"
     ]
    },
    {
     "name": "stdout",
     "output_type": "stream",
     "text": [
      "[2025-03-30 21:07:51 TP0] Using model weights format ['*.safetensors']\n",
      "\r",
      "Loading safetensors checkpoint shards:   0% Completed | 0/5 [00:00<?, ?it/s]\n"
     ]
    },
    {
     "name": "stdout",
     "output_type": "stream",
     "text": [
      "\r",
      "Loading safetensors checkpoint shards:  20% Completed | 1/5 [00:00<00:02,  1.34it/s]\n"
     ]
    },
    {
     "name": "stdout",
     "output_type": "stream",
     "text": [
      "\r",
      "Loading safetensors checkpoint shards:  40% Completed | 2/5 [00:01<00:02,  1.24it/s]\n"
     ]
    },
    {
     "name": "stdout",
     "output_type": "stream",
     "text": [
      "\r",
      "Loading safetensors checkpoint shards:  60% Completed | 3/5 [00:02<00:01,  1.19it/s]\n"
     ]
    },
    {
     "name": "stdout",
     "output_type": "stream",
     "text": [
      "\r",
      "Loading safetensors checkpoint shards:  80% Completed | 4/5 [00:03<00:00,  1.17it/s]\n"
     ]
    },
    {
     "name": "stdout",
     "output_type": "stream",
     "text": [
      "\r",
      "Loading safetensors checkpoint shards: 100% Completed | 5/5 [00:03<00:00,  1.50it/s]\n",
      "\r",
      "Loading safetensors checkpoint shards: 100% Completed | 5/5 [00:03<00:00,  1.36it/s]\n",
      "\n",
      "[2025-03-30 21:07:55 TP0] Load weight end. type=Qwen2_5_VLForConditionalGeneration, dtype=torch.bfloat16, avail mem=62.79 GB, mem usage=-4.05 GB.\n",
      "[2025-03-30 21:07:55 TP0] KV Cache is allocated. #tokens: 20480, K size: 0.55 GB, V size: 0.55 GB\n",
      "[2025-03-30 21:07:55 TP0] Memory pool end. avail mem=61.42 GB\n"
     ]
    },
    {
     "name": "stdout",
     "output_type": "stream",
     "text": [
      "[2025-03-30 21:07:59 TP0] max_total_num_tokens=20480, chunked_prefill_size=-1, max_prefill_tokens=16384, max_running_requests=200, context_len=128000\n"
     ]
    },
    {
     "name": "stdout",
     "output_type": "stream",
     "text": [
      "[2025-03-30 21:07:59] INFO:     Started server process [1913777]\n",
      "[2025-03-30 21:07:59] INFO:     Waiting for application startup.\n",
      "[2025-03-30 21:07:59] INFO:     Application startup complete.\n",
      "[2025-03-30 21:07:59] INFO:     Uvicorn running on http://0.0.0.0:38706 (Press CTRL+C to quit)\n",
      "[2025-03-30 21:08:00] INFO:     127.0.0.1:55666 - \"GET /v1/models HTTP/1.1\" 200 OK\n"
     ]
    },
    {
     "name": "stdout",
     "output_type": "stream",
     "text": [
      "[2025-03-30 21:08:00] INFO:     127.0.0.1:55674 - \"GET /get_model_info HTTP/1.1\" 200 OK\n",
      "[2025-03-30 21:08:00 TP0] Prefill batch. #new-seq: 1, #new-token: 6, #cached-token: 0, token usage: 0.00, #running-req: 0, #queue-req: 0, \n"
     ]
    },
    {
     "name": "stdout",
     "output_type": "stream",
     "text": [
      "[2025-03-30 21:08:02] INFO:     127.0.0.1:55686 - \"POST /generate HTTP/1.1\" 200 OK\n",
      "[2025-03-30 21:08:02] The server is fired up and ready to roll!\n"
     ]
    },
    {
     "data": {
      "text/html": [
       "<strong style='color: #00008B;'><br><br>                    NOTE: Typically, the server runs in a separate terminal.<br>                    In this notebook, we run the server and notebook code together, so their outputs are combined.<br>                    To improve clarity, the server logs are displayed in the original black color, while the notebook outputs are highlighted in blue.<br>                    We are running those notebooks in a CI parallel environment, so the throughput is not representative of the actual performance.<br>                    </strong>"
      ],
      "text/plain": [
       "<IPython.core.display.HTML object>"
      ]
     },
     "metadata": {},
     "output_type": "display_data"
    },
    {
     "name": "stdout",
     "output_type": "stream",
     "text": [
      "Server started on http://localhost:38706\n"
     ]
    }
   ],
   "source": [
    "server_process, port = launch_server_cmd(\n",
    "    \"python -m sglang.launch_server --model-path Qwen/Qwen2.5-VL-7B-Instruct --host 0.0.0.0\"\n",
    ")\n",
    "\n",
    "wait_for_server(f\"http://localhost:{port}\")\n",
    "print(f\"Server started on http://localhost:{port}\")"
   ]
  },
  {
   "cell_type": "code",
   "execution_count": 15,
   "metadata": {
    "execution": {
     "iopub.execute_input": "2025-03-30T21:08:05.115101Z",
     "iopub.status.busy": "2025-03-30T21:08:05.114843Z",
     "iopub.status.idle": "2025-03-30T21:08:05.119437Z",
     "shell.execute_reply": "2025-03-30T21:08:05.119016Z"
    }
   },
   "outputs": [
    {
     "name": "stdout",
     "output_type": "stream",
     "text": [
      "[2025-03-30 21:08:05] INFO:     127.0.0.1:59882 - \"GET /get_model_info HTTP/1.1\" 200 OK\n"
     ]
    }
   ],
   "source": [
    "set_default_backend(RuntimeEndpoint(f\"http://localhost:{port}\"))"
   ]
  },
  {
   "cell_type": "markdown",
   "metadata": {},
   "source": [
    "Ask a question about an image."
   ]
  },
  {
   "cell_type": "code",
   "execution_count": 16,
   "metadata": {
    "execution": {
     "iopub.execute_input": "2025-03-30T21:08:05.120919Z",
     "iopub.status.busy": "2025-03-30T21:08:05.120613Z",
     "iopub.status.idle": "2025-03-30T21:08:08.295806Z",
     "shell.execute_reply": "2025-03-30T21:08:08.295379Z"
    }
   },
   "outputs": [
    {
     "name": "stdout",
     "output_type": "stream",
     "text": [
      "[2025-03-30 21:08:07 TP0] Prefill batch. #new-seq: 1, #new-token: 307, #cached-token: 0, token usage: 0.00, #running-req: 0, #queue-req: 0, \n"
     ]
    },
    {
     "name": "stdout",
     "output_type": "stream",
     "text": [
      "[2025-03-30 21:08:08 TP0] Decode batch. #running-req: 1, #token: 340, token usage: 0.02, gen throughput (token/s): 4.56, #queue-req: 0, \n",
      "[2025-03-30 21:08:08] INFO:     127.0.0.1:59888 - \"POST /generate HTTP/1.1\" 200 OK\n"
     ]
    },
    {
     "data": {
      "text/html": [
       "<strong style='color: #00008B;'>The image shows a manüs using an iron on a shirt while riding a taxi in New York City. This is an unusual situation as ferries and public chang tó oxin láy.</strong>"
      ],
      "text/plain": [
       "<IPython.core.display.HTML object>"
      ]
     },
     "metadata": {},
     "output_type": "display_data"
    }
   ],
   "source": [
    "@function\n",
    "def image_qa(s, image_file, question):\n",
    "    s += user(image(image_file) + question)\n",
    "    s += assistant(gen(\"answer\", max_tokens=256))\n",
    "\n",
    "\n",
    "image_url = \"https://github.com/sgl-project/sglang/blob/main/test/lang/example_image.png?raw=true\"\n",
    "image_bytes, _ = load_image(image_url)\n",
    "state = image_qa(image_bytes, \"What is in the image?\")\n",
    "print_highlight(state[\"answer\"])"
   ]
  },
  {
   "cell_type": "code",
   "execution_count": 17,
   "metadata": {
    "execution": {
     "iopub.execute_input": "2025-03-30T21:08:08.297494Z",
     "iopub.status.busy": "2025-03-30T21:08:08.297258Z",
     "iopub.status.idle": "2025-03-30T21:08:08.446500Z",
     "shell.execute_reply": "2025-03-30T21:08:08.446014Z"
    }
   },
   "outputs": [
    {
     "name": "stdout",
     "output_type": "stream",
     "text": [
      "[2025-03-30 21:08:08] Child process unexpectedly failed with an exit code 9. pid=1914380\n",
      "[2025-03-30 21:08:08] Child process unexpectedly failed with an exit code 9. pid=1914284\n",
      "[2025-03-30 21:08:08] Child process unexpectedly failed with an exit code 9. pid=1915844\n",
      "[2025-03-30 21:08:08] SIGTERM received. signum=None frame=None. Draining requests and shutting down...\n",
      "[2025-03-30 21:08:08] SIGTERM received. signum=None frame=None. Draining requests and shutting down...\n",
      "[2025-03-30 21:08:08] SIGTERM received. signum=None frame=None. Draining requests and shutting down...\n",
      "[2025-03-30 21:08:08] SIGTERM received. signum=None frame=None. Draining requests and shutting down...\n",
      "[2025-03-30 21:08:08] SIGTERM received. signum=None frame=None. Draining requests and shutting down...\n",
      "[2025-03-30 21:08:08] SIGTERM received. signum=None frame=None. Draining requests and shutting down...\n",
      "[2025-03-30 21:08:08] SIGTERM received. signum=None frame=None. Draining requests and shutting down...\n",
      "[2025-03-30 21:08:08] SIGTERM received. signum=None frame=None. Draining requests and shutting down...\n",
      "[2025-03-30 21:08:08] SIGTERM received. signum=None frame=None. Draining requests and shutting down...\n",
      "[2025-03-30 21:08:08] SIGTERM received. signum=None frame=None. Draining requests and shutting down...\n",
      "[2025-03-30 21:08:08] SIGTERM received. signum=None frame=None. Draining requests and shutting down...\n",
      "[2025-03-30 21:08:08] SIGTERM received. signum=None frame=None. Draining requests and shutting down...\n",
      "[2025-03-30 21:08:08] SIGTERM received. signum=None frame=None. Draining requests and shutting down...\n",
      "[2025-03-30 21:08:08] SIGTERM received. signum=None frame=None. Draining requests and shutting down...\n",
      "[2025-03-30 21:08:08] SIGTERM received. signum=None frame=None. Draining requests and shutting down...\n",
      "[2025-03-30 21:08:08] SIGTERM received. signum=None frame=None. Draining requests and shutting down...\n",
      "[2025-03-30 21:08:08] SIGTERM received. signum=None frame=None. Draining requests and shutting down...\n",
      "[2025-03-30 21:08:08] SIGTERM received. signum=None frame=None. Draining requests and shutting down...\n",
      "[2025-03-30 21:08:08] SIGTERM received. signum=None frame=None. Draining requests and shutting down...\n",
      "[2025-03-30 21:08:08] SIGTERM received. signum=None frame=None. Draining requests and shutting down...\n",
      "[2025-03-30 21:08:08] SIGTERM received. signum=None frame=None. Draining requests and shutting down...\n",
      "[2025-03-30 21:08:08] SIGTERM received. signum=None frame=None. Draining requests and shutting down...\n",
      "[2025-03-30 21:08:08] SIGTERM received. signum=None frame=None. Draining requests and shutting down...\n",
      "[2025-03-30 21:08:08] SIGTERM received. signum=None frame=None. Draining requests and shutting down...\n",
      "[2025-03-30 21:08:08] SIGTERM received. signum=None frame=None. Draining requests and shutting down...\n",
      "[2025-03-30 21:08:08] SIGTERM received. signum=None frame=None. Draining requests and shutting down...\n",
      "[2025-03-30 21:08:08] SIGTERM received. signum=None frame=None. Draining requests and shutting down...\n",
      "[2025-03-30 21:08:08] SIGTERM received. signum=None frame=None. Draining requests and shutting down...\n",
      "[2025-03-30 21:08:08] SIGTERM received. signum=None frame=None. Draining requests and shutting down...\n",
      "[2025-03-30 21:08:08] SIGTERM received. signum=None frame=None. Draining requests and shutting down...\n",
      "[2025-03-30 21:08:08] SIGTERM received. signum=None frame=None. Draining requests and shutting down...\n",
      "[2025-03-30 21:08:08] SIGTERM received. signum=None frame=None. Draining requests and shutting down...\n",
      "[2025-03-30 21:08:08] SIGTERM received. signum=None frame=None. Draining requests and shutting down...\n",
      "[2025-03-30 21:08:08] SIGTERM received. signum=None frame=None. Draining requests and shutting down...\n",
      "[2025-03-30 21:08:08] SIGTERM received. signum=None frame=None. Draining requests and shutting down...\n",
      "[2025-03-30 21:08:08] SIGTERM received. signum=None frame=None. Draining requests and shutting down...\n",
      "[2025-03-30 21:08:08] SIGTERM received. signum=None frame=None. Draining requests and shutting down...\n",
      "[2025-03-30 21:08:08] SIGTERM received. signum=None frame=None. Draining requests and shutting down...\n",
      "[2025-03-30 21:08:08] SIGTERM received. signum=None frame=None. Draining requests and shutting down...\n",
      "[2025-03-30 21:08:08] SIGTERM received. signum=None frame=None. Draining requests and shutting down...\n",
      "[2025-03-30 21:08:08] SIGTERM received. signum=None frame=None. Draining requests and shutting down...\n",
      "[2025-03-30 21:08:08] SIGTERM received. signum=None frame=None. Draining requests and shutting down...\n",
      "[2025-03-30 21:08:08] SIGTERM received. signum=None frame=None. Draining requests and shutting down...\n",
      "[2025-03-30 21:08:08] SIGTERM received. signum=None frame=None. Draining requests and shutting down...\n",
      "[2025-03-30 21:08:08] SIGTERM received. signum=None frame=None. Draining requests and shutting down...\n",
      "[2025-03-30 21:08:08] SIGTERM received. signum=None frame=None. Draining requests and shutting down...\n",
      "[2025-03-30 21:08:08] SIGTERM received. signum=None frame=None. Draining requests and shutting down...\n",
      "[2025-03-30 21:08:08] SIGTERM received. signum=None frame=None. Draining requests and shutting down...\n",
      "[2025-03-30 21:08:08] Child process unexpectedly failed with an exit code 9. pid=1915845\n",
      "[2025-03-30 21:08:08] SIGTERM received. signum=None frame=None. Draining requests and shutting down...\n",
      "[2025-03-30 21:08:08] Child process unexpectedly failed with an exit code 9. pid=1915828\n",
      "[2025-03-30 21:08:08] Child process unexpectedly failed with an exit code 9. pid=1915830\n",
      "[2025-03-30 21:08:08] Child process unexpectedly failed with an exit code 9. pid=1915835\n",
      "[2025-03-30 21:08:08] Child process unexpectedly failed with an exit code 9. pid=1915821\n",
      "[2025-03-30 21:08:08] Child process unexpectedly failed with an exit code 9. pid=1915823\n",
      "[2025-03-30 21:08:08] Child process unexpectedly failed with an exit code 9. pid=1915827\n",
      "--- Logging error ---\n",
      "[2025-03-30 21:08:08] Child process unexpectedly failed with an exit code 9. pid=1915825\n",
      "Traceback (most recent call last):\n",
      "  File \"/public_sglang_ci/runner-l3a-gpu-0/_work/_tool/Python/3.9.21/x64/lib/python3.9/logging/__init__.py\", line 1086, in emit\n",
      "    stream.write(msg + self.terminator)\n",
      "RuntimeError: reentrant call inside <_io.BufferedWriter name='<stderr>'>\n",
      "\n",
      "During handling of the above exception, another exception occurred:\n",
      "\n",
      "Traceback (most recent call last):\n",
      "  File \"/public_sglang_ci/runner-l3a-gpu-0/_work/_tool/Python/3.9.21/x64/lib/python3.9/logging/__init__.py\", line 1086, in emit\n",
      "    stream.write(msg + self.terminator)\n",
      "  File \"/public_sglang_ci/runner-l3a-gpu-0/_work/sglang/sglang/python/sglang/srt/entrypoints/engine.py\", line 432, in sigchld_handler\n",
      "    logger.warning(\n",
      "  File \"/public_sglang_ci/runner-l3a-gpu-0/_work/_tool/Python/3.9.21/x64/lib/python3.9/logging/__init__.py\", line 1458, in warning\n",
      "    self._log(WARNING, msg, args, **kwargs)\n",
      "  File \"/public_sglang_ci/runner-l3a-gpu-0/_work/_tool/Python/3.9.21/x64/lib/python3.9/logging/__init__.py\", line 1589, in _log\n",
      "    self.handle(record)\n",
      "  File \"/public_sglang_ci/runner-l3a-gpu-0/_work/_tool/Python/3.9.21/x64/lib/python3.9/logging/__init__.py\", line 1599, in handle\n",
      "    self.callHandlers(record)\n",
      "  File \"/public_sglang_ci/runner-l3a-gpu-0/_work/_tool/Python/3.9.21/x64/lib/python3.9/logging/__init__.py\", line 1661, in callHandlers\n",
      "    hdlr.handle(record)\n",
      "  File \"/public_sglang_ci/runner-l3a-gpu-0/_work/_tool/Python/3.9.21/x64/lib/python3.9/logging/__init__.py\", line 952, in handle\n",
      "    self.emit(record)\n",
      "  File \"/public_sglang_ci/runner-l3a-gpu-0/_work/_tool/Python/3.9.21/x64/lib/python3.9/logging/__init__.py\", line 1091, in emit\n",
      "    self.handleError(record)\n",
      "  File \"/public_sglang_ci/runner-l3a-gpu-0/_work/_tool/Python/3.9.21/x64/lib/python3.9/logging/__init__.py\", line 1004, in handleError\n",
      "    sys.stderr.write('--- Logging error ---\\n')\n",
      "RuntimeError: reentrant call inside <_io.BufferedWriter name='<stderr>'>\n",
      "Call stack:\n",
      "[2025-03-30 21:08:08] Child process unexpectedly failed with an exit code 9. pid=1915822\n",
      "[2025-03-30 21:08:08] Child process unexpectedly failed with an exit code 9. pid=1915833\n",
      "[2025-03-30 21:08:08] Child process unexpectedly failed with an exit code 9. pid=1915834\n",
      "[2025-03-30 21:08:08] Child process unexpectedly failed with an exit code 9. pid=1915832\n",
      "  File \"/public_sglang_ci/runner-l3a-gpu-0/_work/_tool/Python/3.9.21/x64/lib/python3.9/runpy.py\", line 197, in _run_module_as_main\n",
      "    return _run_code(code, main_globals, None,\n",
      "  File \"/public_sglang_ci/runner-l3a-gpu-0/_work/_tool/Python/3.9.21/x64/lib/python3.9/runpy.py\", line 87, in _run_code\n",
      "    exec(code, run_globals)\n",
      "  File \"/public_sglang_ci/runner-l3a-gpu-0/_work/sglang/sglang/python/sglang/launch_server.py\", line 14, in <module>\n",
      "    launch_server(server_args)\n",
      "  File \"/public_sglang_ci/runner-l3a-gpu-0/_work/sglang/sglang/python/sglang/srt/entrypoints/http_server.py\", line 714, in launch_server\n",
      "    uvicorn.run(\n",
      "  File \"/public_sglang_ci/runner-l3a-gpu-0/_work/_tool/Python/3.9.21/x64/lib/python3.9/site-packages/uvicorn/main.py\", line 579, in run\n",
      "    server.run()\n",
      "  File \"/public_sglang_ci/runner-l3a-gpu-0/_work/_tool/Python/3.9.21/x64/lib/python3.9/site-packages/uvicorn/server.py\", line 66, in run\n",
      "    return asyncio.run(self.serve(sockets=sockets))\n",
      "  File \"/public_sglang_ci/runner-l3a-gpu-0/_work/_tool/Python/3.9.21/x64/lib/python3.9/asyncio/runners.py\", line 44, in run\n",
      "    return loop.run_until_complete(main)\n",
      "  File \"/public_sglang_ci/runner-l3a-gpu-0/_work/sglang/sglang/python/sglang/srt/entrypoints/engine.py\", line 432, in sigchld_handler\n",
      "    logger.warning(\n",
      "Message: 'Child process unexpectedly failed with an exit code %d. pid=%d'\n",
      "Arguments: (9, 1915827)\n",
      "[2025-03-30 21:08:08] Child process unexpectedly failed with an exit code 9. pid=1915837\n"
     ]
    },
    {
     "name": "stdout",
     "output_type": "stream",
     "text": [
      "[2025-03-30 21:08:08] Child process unexpectedly failed with an exit code 9. pid=1915838\n",
      "[2025-03-30 21:08:08] Child process unexpectedly failed with an exit code 9. pid=1915840\n",
      "[2025-03-30 21:08:08] Child process unexpectedly failed with an exit code 9. pid=1915843\n",
      "[2025-03-30 21:08:08] Child process unexpectedly failed with an exit code 9. pid=1915846\n",
      "[2025-03-30 21:08:08] Child process unexpectedly failed with an exit code 9. pid=1915847\n",
      "[2025-03-30 21:08:08] Child process unexpectedly failed with an exit code 9. pid=1915850\n",
      "[2025-03-30 21:08:08] Child process unexpectedly failed with an exit code 9. pid=1915852\n",
      "[2025-03-30 21:08:08] Child process unexpectedly failed with an exit code 9. pid=1915854\n",
      "[2025-03-30 21:08:08] Child process unexpectedly failed with an exit code 9. pid=1915855\n",
      "[2025-03-30 21:08:08] Child process unexpectedly failed with an exit code 9. pid=1915860\n",
      "[2025-03-30 21:08:08] Child process unexpectedly failed with an exit code 9. pid=1915863\n",
      "[2025-03-30 21:08:08] Child process unexpectedly failed with an exit code 9. pid=1915864\n",
      "[2025-03-30 21:08:08] Child process unexpectedly failed with an exit code 9. pid=1915868\n",
      "[2025-03-30 21:08:08] Child process unexpectedly failed with an exit code 9. pid=1915869\n",
      "[2025-03-30 21:08:08] Child process unexpectedly failed with an exit code 9. pid=1915871\n",
      "[2025-03-30 21:08:08] Child process unexpectedly failed with an exit code 9. pid=1915873\n",
      "[2025-03-30 21:08:08] Child process unexpectedly failed with an exit code 9. pid=1915877\n",
      "[2025-03-30 21:08:08] Child process unexpectedly failed with an exit code 9. pid=1915878\n",
      "[2025-03-30 21:08:08] Child process unexpectedly failed with an exit code 9. pid=1915880\n",
      "[2025-03-30 21:08:08] Child process unexpectedly failed with an exit code 9. pid=1915891\n",
      "[2025-03-30 21:08:08] Child process unexpectedly failed with an exit code 9. pid=1915893\n",
      "[2025-03-30 21:08:08] Child process unexpectedly failed with an exit code 9. pid=1915881\n",
      "[2025-03-30 21:08:08] Child process unexpectedly failed with an exit code 9. pid=1915857\n",
      "[2025-03-30 21:08:08] Child process unexpectedly failed with an exit code 9. pid=1915866\n",
      "[2025-03-30 21:08:08] Child process unexpectedly failed with an exit code 9. pid=1915892\n",
      "[2025-03-30 21:08:08] Child process unexpectedly failed with an exit code 9. pid=1915894\n",
      "[2025-03-30 21:08:08] Child process unexpectedly failed with an exit code 9. pid=1915841\n",
      "[2025-03-30 21:08:08] Child process unexpectedly failed with an exit code 9. pid=1915899\n",
      "[2025-03-30 21:08:08] Child process unexpectedly failed with an exit code 9. pid=1915898\n",
      "[2025-03-30 21:08:08] Child process unexpectedly failed with an exit code 9. pid=1915885\n"
     ]
    }
   ],
   "source": [
    "terminate_process(server_process)"
   ]
  }
 ],
 "metadata": {
  "language_info": {
   "codemirror_mode": {
    "name": "ipython",
    "version": 3
   },
   "file_extension": ".py",
   "mimetype": "text/x-python",
   "name": "python",
   "nbconvert_exporter": "python",
   "pygments_lexer": "ipython3",
   "version": "3.9.21"
  }
 },
 "nbformat": 4,
 "nbformat_minor": 2
}
