{
 "cells": [
  {
   "cell_type": "markdown",
   "metadata": {},
   "source": [
    "# SGLang Frontend Language"
   ]
  },
  {
   "cell_type": "markdown",
   "metadata": {},
   "source": [
    "SGLang frontend language can be used to define simple and easy prompts in a convenient, structured way."
   ]
  },
  {
   "cell_type": "markdown",
   "metadata": {},
   "source": [
    "## Launch A Server\n",
    "\n",
    "Launch the server in your terminal and wait for it to initialize."
   ]
  },
  {
   "cell_type": "code",
   "execution_count": 1,
   "metadata": {
    "execution": {
     "iopub.execute_input": "2025-02-27T04:43:54.139177Z",
     "iopub.status.busy": "2025-02-27T04:43:54.139046Z",
     "iopub.status.idle": "2025-02-27T04:44:54.718085Z",
     "shell.execute_reply": "2025-02-27T04:44:54.717304Z"
    }
   },
   "outputs": [
    {
     "name": "stdout",
     "output_type": "stream",
     "text": [
      "[2025-02-27 04:44:25] server_args=ServerArgs(model_path='Qwen/Qwen2.5-7B-Instruct', tokenizer_path='Qwen/Qwen2.5-7B-Instruct', tokenizer_mode='auto', load_format='auto', trust_remote_code=False, dtype='auto', kv_cache_dtype='auto', quantization_param_path=None, quantization=None, context_length=None, device='cuda', served_model_name='Qwen/Qwen2.5-7B-Instruct', chat_template=None, is_embedding=False, revision=None, skip_tokenizer_init=False, host='0.0.0.0', port=34105, mem_fraction_static=0.88, max_running_requests=200, max_total_tokens=20480, chunked_prefill_size=8192, max_prefill_tokens=16384, schedule_policy='lpm', schedule_conservativeness=1.0, cpu_offload_gb=0, prefill_only_one_req=False, tp_size=1, stream_interval=1, stream_output=False, random_seed=410982854, constrained_json_whitespace_pattern=None, watchdog_timeout=300, dist_timeout=None, download_dir=None, base_gpu_id=0, log_level='info', log_level_http=None, log_requests=False, show_time_cost=False, enable_metrics=False, decode_log_interval=40, api_key=None, file_storage_pth='sglang_storage', enable_cache_report=False, dp_size=1, load_balance_method='round_robin', ep_size=1, dist_init_addr=None, nnodes=1, node_rank=0, json_model_override_args='{}', lora_paths=None, max_loras_per_batch=8, lora_backend='triton', attention_backend='flashinfer', sampling_backend='flashinfer', grammar_backend='outlines', speculative_draft_model_path=None, speculative_algorithm=None, speculative_num_steps=5, speculative_eagle_topk=8, speculative_num_draft_tokens=64, enable_double_sparsity=False, ds_channel_config_path=None, ds_heavy_channel_num=32, ds_heavy_token_num=256, ds_heavy_channel_type='qk', ds_sparse_decode_threshold=4096, disable_radix_cache=False, disable_jump_forward=False, disable_cuda_graph=True, disable_cuda_graph_padding=False, enable_nccl_nvls=False, disable_outlines_disk_cache=False, disable_custom_all_reduce=False, disable_mla=False, disable_overlap_schedule=False, enable_mixed_chunk=False, enable_dp_attention=False, enable_ep_moe=False, enable_torch_compile=False, torch_compile_max_bs=32, cuda_graph_max_bs=160, cuda_graph_bs=None, torchao_config='', enable_nan_detection=False, enable_p2p_check=False, triton_attention_reduce_in_fp32=False, triton_attention_num_kv_splits=8, num_continuous_decode_steps=1, delete_ckpt_after_loading=False, enable_memory_saver=False, allow_auto_truncate=False, return_hidden_states=False, enable_custom_logit_processor=False, tool_call_parser=None, enable_hierarchical_cache=False, enable_flashinfer_mla=False)\n"
     ]
    },
    {
     "name": "stdout",
     "output_type": "stream",
     "text": [
      "[2025-02-27 04:44:44 TP0] Init torch distributed begin.\n",
      "[2025-02-27 04:44:44 TP0] Load weight begin. avail mem=62.69 GB\n"
     ]
    },
    {
     "name": "stdout",
     "output_type": "stream",
     "text": [
      "[2025-02-27 04:44:44 TP0] The following error message 'operation scheduled before its operands' can be ignored.\n"
     ]
    },
    {
     "name": "stdout",
     "output_type": "stream",
     "text": [
      "[2025-02-27 04:44:45 TP0] Using model weights format ['*.safetensors']\n",
      "\r",
      "Loading safetensors checkpoint shards:   0% Completed | 0/4 [00:00<?, ?it/s]\n"
     ]
    },
    {
     "name": "stdout",
     "output_type": "stream",
     "text": [
      "\r",
      "Loading safetensors checkpoint shards:  25% Completed | 1/4 [00:00<00:02,  1.31it/s]\n"
     ]
    },
    {
     "name": "stdout",
     "output_type": "stream",
     "text": [
      "\r",
      "Loading safetensors checkpoint shards:  50% Completed | 2/4 [00:01<00:01,  1.29it/s]\n"
     ]
    },
    {
     "name": "stdout",
     "output_type": "stream",
     "text": [
      "\r",
      "Loading safetensors checkpoint shards:  75% Completed | 3/4 [00:02<00:00,  1.26it/s]\n"
     ]
    },
    {
     "name": "stdout",
     "output_type": "stream",
     "text": [
      "\r",
      "Loading safetensors checkpoint shards: 100% Completed | 4/4 [00:03<00:00,  1.23it/s]\n",
      "\r",
      "Loading safetensors checkpoint shards: 100% Completed | 4/4 [00:03<00:00,  1.25it/s]\n",
      "\n",
      "[2025-02-27 04:44:48 TP0] Load weight end. type=Qwen2ForCausalLM, dtype=torch.bfloat16, avail mem=30.50 GB\n",
      "[2025-02-27 04:44:48 TP0] KV Cache is allocated. K size: 0.55 GB, V size: 0.55 GB.\n",
      "[2025-02-27 04:44:48 TP0] Memory pool end. avail mem=29.28 GB\n"
     ]
    },
    {
     "name": "stdout",
     "output_type": "stream",
     "text": [
      "[2025-02-27 04:44:49 TP0] max_total_num_tokens=20480, chunked_prefill_size=8192, max_prefill_tokens=16384, max_running_requests=200, context_len=32768\n"
     ]
    },
    {
     "name": "stdout",
     "output_type": "stream",
     "text": [
      "[2025-02-27 04:44:49] INFO:     Started server process [3761112]\n",
      "[2025-02-27 04:44:49] INFO:     Waiting for application startup.\n",
      "[2025-02-27 04:44:49] INFO:     Application startup complete.\n",
      "[2025-02-27 04:44:49] INFO:     Uvicorn running on http://0.0.0.0:34105 (Press CTRL+C to quit)\n"
     ]
    },
    {
     "name": "stdout",
     "output_type": "stream",
     "text": [
      "[2025-02-27 04:44:49] INFO:     127.0.0.1:33340 - \"GET /v1/models HTTP/1.1\" 200 OK\n"
     ]
    },
    {
     "name": "stdout",
     "output_type": "stream",
     "text": [
      "[2025-02-27 04:44:50] INFO:     127.0.0.1:33342 - \"GET /get_model_info HTTP/1.1\" 200 OK\n",
      "[2025-02-27 04:44:50 TP0] Prefill batch. #new-seq: 1, #new-token: 6, #cached-token: 0, cache hit rate: 0.00%, token usage: 0.00, #running-req: 0, #queue-req: 0\n"
     ]
    },
    {
     "data": {
      "text/html": [
       "<strong style='color: #00008B;'><br><br>                    NOTE: Typically, the server runs in a separate terminal.<br>                    In this notebook, we run the server and notebook code together, so their outputs are combined.<br>                    To improve clarity, the server logs are displayed in the original black color, while the notebook outputs are highlighted in blue.<br>                    We are running those notebooks in a CI parallel environment, so the throughput is not representative of the actual performance.<br>                    </strong>"
      ],
      "text/plain": [
       "<IPython.core.display.HTML object>"
      ]
     },
     "metadata": {},
     "output_type": "display_data"
    },
    {
     "name": "stdout",
     "output_type": "stream",
     "text": [
      "Server started on http://localhost:34105\n"
     ]
    }
   ],
   "source": [
    "import requests\n",
    "import os\n",
    "\n",
    "from sglang import assistant_begin, assistant_end\n",
    "from sglang import assistant, function, gen, system, user\n",
    "from sglang import image\n",
    "from sglang import RuntimeEndpoint, set_default_backend\n",
    "from sglang.srt.utils import load_image\n",
    "from sglang.test.test_utils import is_in_ci\n",
    "from sglang.utils import print_highlight, terminate_process, wait_for_server\n",
    "\n",
    "if is_in_ci():\n",
    "    from patch import launch_server_cmd\n",
    "else:\n",
    "    from sglang.utils import launch_server_cmd\n",
    "\n",
    "\n",
    "server_process, port = launch_server_cmd(\n",
    "    \"python -m sglang.launch_server --model-path Qwen/Qwen2.5-7B-Instruct --host 0.0.0.0\"\n",
    ")\n",
    "\n",
    "wait_for_server(f\"http://localhost:{port}\")\n",
    "print(f\"Server started on http://localhost:{port}\")"
   ]
  },
  {
   "cell_type": "markdown",
   "metadata": {},
   "source": [
    "Set the default backend. Note: Besides the local server, you may use also `OpenAI` or other API endpoints."
   ]
  },
  {
   "cell_type": "code",
   "execution_count": 2,
   "metadata": {
    "execution": {
     "iopub.execute_input": "2025-02-27T04:44:54.720459Z",
     "iopub.status.busy": "2025-02-27T04:44:54.719949Z",
     "iopub.status.idle": "2025-02-27T04:44:54.726785Z",
     "shell.execute_reply": "2025-02-27T04:44:54.726192Z"
    }
   },
   "outputs": [
    {
     "name": "stdout",
     "output_type": "stream",
     "text": [
      "[2025-02-27 04:44:54] INFO:     127.0.0.1:33350 - \"GET /get_model_info HTTP/1.1\" 200 OK\n"
     ]
    }
   ],
   "source": [
    "set_default_backend(RuntimeEndpoint(f\"http://localhost:{port}\"))"
   ]
  },
  {
   "cell_type": "markdown",
   "metadata": {},
   "source": [
    "## Basic Usage\n",
    "\n",
    "The most simple way of using SGLang frontend language is a simple question answer dialog between a user and an assistant."
   ]
  },
  {
   "cell_type": "code",
   "execution_count": 3,
   "metadata": {
    "execution": {
     "iopub.execute_input": "2025-02-27T04:44:54.728491Z",
     "iopub.status.busy": "2025-02-27T04:44:54.728063Z",
     "iopub.status.idle": "2025-02-27T04:44:54.732817Z",
     "shell.execute_reply": "2025-02-27T04:44:54.732280Z"
    }
   },
   "outputs": [],
   "source": [
    "@function\n",
    "def basic_qa(s, question):\n",
    "    s += system(f\"You are a helpful assistant than can answer questions.\")\n",
    "    s += user(question)\n",
    "    s += assistant(gen(\"answer\", max_tokens=512))"
   ]
  },
  {
   "cell_type": "code",
   "execution_count": 4,
   "metadata": {
    "execution": {
     "iopub.execute_input": "2025-02-27T04:44:54.734205Z",
     "iopub.status.busy": "2025-02-27T04:44:54.734049Z",
     "iopub.status.idle": "2025-02-27T04:44:56.672480Z",
     "shell.execute_reply": "2025-02-27T04:44:56.671841Z"
    }
   },
   "outputs": [
    {
     "name": "stdout",
     "output_type": "stream",
     "text": [
      "[2025-02-27 04:44:55 TP0] Prefill batch. #new-seq: 1, #new-token: 31, #cached-token: 0, cache hit rate: 0.00%, token usage: 0.00, #running-req: 1, #queue-req: 0\n"
     ]
    },
    {
     "name": "stdout",
     "output_type": "stream",
     "text": [
      "[2025-02-27 04:44:56] INFO:     127.0.0.1:33348 - \"POST /generate HTTP/1.1\" 200 OK\n",
      "[2025-02-27 04:44:56] The server is fired up and ready to roll!\n"
     ]
    },
    {
     "name": "stdout",
     "output_type": "stream",
     "text": [
      "[2025-02-27 04:44:56] INFO:     127.0.0.1:33364 - \"POST /generate HTTP/1.1\" 200 OK\n"
     ]
    },
    {
     "data": {
      "text/html": [
       "<strong style='color: #00008B;'>Sure! Here are three countries and their respective capitals:<br><br>1. France - Paris<br>2. Japan - Tokyo<br>3. Brazil - Brasília</strong>"
      ],
      "text/plain": [
       "<IPython.core.display.HTML object>"
      ]
     },
     "metadata": {},
     "output_type": "display_data"
    }
   ],
   "source": [
    "state = basic_qa(\"List 3 countries and their capitals.\")\n",
    "print_highlight(state[\"answer\"])"
   ]
  },
  {
   "cell_type": "markdown",
   "metadata": {},
   "source": [
    "## Multi-turn Dialog\n",
    "\n",
    "SGLang frontend language can also be used to define multi-turn dialogs."
   ]
  },
  {
   "cell_type": "code",
   "execution_count": 5,
   "metadata": {
    "execution": {
     "iopub.execute_input": "2025-02-27T04:44:56.674397Z",
     "iopub.status.busy": "2025-02-27T04:44:56.674088Z",
     "iopub.status.idle": "2025-02-27T04:44:57.787593Z",
     "shell.execute_reply": "2025-02-27T04:44:57.787041Z"
    }
   },
   "outputs": [
    {
     "name": "stdout",
     "output_type": "stream",
     "text": [
      "[2025-02-27 04:44:56 TP0] Prefill batch. #new-seq: 1, #new-token: 18, #cached-token: 18, cache hit rate: 24.66%, token usage: 0.00, #running-req: 0, #queue-req: 0\n",
      "[2025-02-27 04:44:56 TP0] Decode batch. #running-req: 1, #token: 46, token usage: 0.00, gen throughput (token/s): 6.18, #queue-req: 0\n"
     ]
    },
    {
     "name": "stdout",
     "output_type": "stream",
     "text": [
      "[2025-02-27 04:44:57] INFO:     127.0.0.1:33368 - \"POST /generate HTTP/1.1\" 200 OK\n"
     ]
    },
    {
     "data": {
      "text/html": [
       "<strong style='color: #00008B;'>Sure! Here is a list of three countries along with their capitals:<br><br>1. France - Paris<br>2. Germany - Berlin<br>3. Japan - Tokyo</strong>"
      ],
      "text/plain": [
       "<IPython.core.display.HTML object>"
      ]
     },
     "metadata": {},
     "output_type": "display_data"
    },
    {
     "name": "stdout",
     "output_type": "stream",
     "text": [
      "[2025-02-27 04:44:57 TP0] Prefill batch. #new-seq: 1, #new-token: 23, #cached-token: 67, cache hit rate: 52.15%, token usage: 0.00, #running-req: 0, #queue-req: 0\n"
     ]
    },
    {
     "name": "stdout",
     "output_type": "stream",
     "text": [
      "[2025-02-27 04:44:57 TP0] Decode batch. #running-req: 1, #token: 108, token usage: 0.01, gen throughput (token/s): 57.85, #queue-req: 0\n"
     ]
    },
    {
     "name": "stdout",
     "output_type": "stream",
     "text": [
      "[2025-02-27 04:44:57] INFO:     127.0.0.1:33370 - \"POST /generate HTTP/1.1\" 200 OK\n"
     ]
    },
    {
     "data": {
      "text/html": [
       "<strong style='color: #00008B;'>Certainly! Here is another list of three countries and their capitals:<br><br>1. Italy - Rome<br>2. Egypt - Cairo<br>3. Brazil - Brasília</strong>"
      ],
      "text/plain": [
       "<IPython.core.display.HTML object>"
      ]
     },
     "metadata": {},
     "output_type": "display_data"
    }
   ],
   "source": [
    "@function\n",
    "def multi_turn_qa(s):\n",
    "    s += system(f\"You are a helpful assistant than can answer questions.\")\n",
    "    s += user(\"Please give me a list of 3 countries and their capitals.\")\n",
    "    s += assistant(gen(\"first_answer\", max_tokens=512))\n",
    "    s += user(\"Please give me another list of 3 countries and their capitals.\")\n",
    "    s += assistant(gen(\"second_answer\", max_tokens=512))\n",
    "    return s\n",
    "\n",
    "\n",
    "state = multi_turn_qa()\n",
    "print_highlight(state[\"first_answer\"])\n",
    "print_highlight(state[\"second_answer\"])"
   ]
  },
  {
   "cell_type": "markdown",
   "metadata": {},
   "source": [
    "## Control flow\n",
    "\n",
    "You may use any Python code within the function to define more complex control flows."
   ]
  },
  {
   "cell_type": "code",
   "execution_count": 6,
   "metadata": {
    "execution": {
     "iopub.execute_input": "2025-02-27T04:44:57.789370Z",
     "iopub.status.busy": "2025-02-27T04:44:57.789070Z",
     "iopub.status.idle": "2025-02-27T04:44:58.531164Z",
     "shell.execute_reply": "2025-02-27T04:44:58.530629Z"
    }
   },
   "outputs": [
    {
     "name": "stdout",
     "output_type": "stream",
     "text": [
      "[2025-02-27 04:44:57 TP0] Prefill batch. #new-seq: 1, #new-token: 25, #cached-token: 8, cache hit rate: 47.45%, token usage: 0.00, #running-req: 0, #queue-req: 0\n",
      "[2025-02-27 04:44:57] INFO:     127.0.0.1:33372 - \"POST /generate HTTP/1.1\" 200 OK\n",
      "[2025-02-27 04:44:57 TP0] Prefill batch. #new-seq: 1, #new-token: 2, #cached-token: 31, cache hit rate: 54.15%, token usage: 0.00, #running-req: 0, #queue-req: 0\n",
      "[2025-02-27 04:44:57 TP0] Prefill batch. #new-seq: 1, #new-token: 3, #cached-token: 31, cache hit rate: 58.94%, token usage: 0.00, #running-req: 1, #queue-req: 0\n",
      "[2025-02-27 04:44:57] INFO:     127.0.0.1:33388 - \"POST /generate HTTP/1.1\" 200 OK\n"
     ]
    },
    {
     "data": {
      "text/html": [
       "<strong style='color: #00008B;'>calculator</strong>"
      ],
      "text/plain": [
       "<IPython.core.display.HTML object>"
      ]
     },
     "metadata": {},
     "output_type": "display_data"
    },
    {
     "name": "stdout",
     "output_type": "stream",
     "text": [
      "[2025-02-27 04:44:57 TP0] Prefill batch. #new-seq: 1, #new-token: 13, #cached-token: 33, cache hit rate: 60.84%, token usage: 0.00, #running-req: 0, #queue-req: 0\n"
     ]
    },
    {
     "name": "stdout",
     "output_type": "stream",
     "text": [
      "[2025-02-27 04:44:58 TP0] Decode batch. #running-req: 1, #token: 70, token usage: 0.00, gen throughput (token/s): 62.30, #queue-req: 0\n"
     ]
    },
    {
     "name": "stdout",
     "output_type": "stream",
     "text": [
      "[2025-02-27 04:44:58] INFO:     127.0.0.1:33402 - \"POST /generate HTTP/1.1\" 200 OK\n"
     ]
    },
    {
     "data": {
      "text/html": [
       "<strong style='color: #00008B;'>2 * 2. <br><br>To solve it:<br>\\[ 2 * 2 = 4 \\]<br><br>So, 2 * 2 equals 4. You do not need a calculator for this simple multiplication.</strong>"
      ],
      "text/plain": [
       "<IPython.core.display.HTML object>"
      ]
     },
     "metadata": {},
     "output_type": "display_data"
    }
   ],
   "source": [
    "@function\n",
    "def tool_use(s, question):\n",
    "    s += assistant(\n",
    "        \"To answer this question: \"\n",
    "        + question\n",
    "        + \". I need to use a \"\n",
    "        + gen(\"tool\", choices=[\"calculator\", \"search engine\"])\n",
    "        + \". \"\n",
    "    )\n",
    "\n",
    "    if s[\"tool\"] == \"calculator\":\n",
    "        s += assistant(\"The math expression is: \" + gen(\"expression\"))\n",
    "    elif s[\"tool\"] == \"search engine\":\n",
    "        s += assistant(\"The key word to search is: \" + gen(\"word\"))\n",
    "\n",
    "\n",
    "state = tool_use(\"What is 2 * 2?\")\n",
    "print_highlight(state[\"tool\"])\n",
    "print_highlight(state[\"expression\"])"
   ]
  },
  {
   "cell_type": "markdown",
   "metadata": {},
   "source": [
    "## Parallelism\n",
    "\n",
    "Use `fork` to launch parallel prompts. Because `sgl.gen` is non-blocking, the for loop below issues two generation calls in parallel."
   ]
  },
  {
   "cell_type": "code",
   "execution_count": 7,
   "metadata": {
    "execution": {
     "iopub.execute_input": "2025-02-27T04:44:58.533116Z",
     "iopub.status.busy": "2025-02-27T04:44:58.532542Z",
     "iopub.status.idle": "2025-02-27T04:45:05.771973Z",
     "shell.execute_reply": "2025-02-27T04:45:05.771340Z"
    }
   },
   "outputs": [
    {
     "name": "stdout",
     "output_type": "stream",
     "text": [
      "[2025-02-27 04:44:58 TP0] Prefill batch. #new-seq: 1, #new-token: 35, #cached-token: 14, cache hit rate: 56.42%, token usage: 0.00, #running-req: 0, #queue-req: 0\n",
      "[2025-02-27 04:44:58 TP0] Prefill batch. #new-seq: 1, #new-token: 35, #cached-token: 14, cache hit rate: 53.07%, token usage: 0.00, #running-req: 1, #queue-req: 0\n"
     ]
    },
    {
     "name": "stdout",
     "output_type": "stream",
     "text": [
      "[2025-02-27 04:44:58 TP0] Decode batch. #running-req: 2, #token: 94, token usage: 0.00, gen throughput (token/s): 83.00, #queue-req: 0\n"
     ]
    },
    {
     "name": "stdout",
     "output_type": "stream",
     "text": [
      "[2025-02-27 04:44:59 TP0] Decode batch. #running-req: 2, #token: 174, token usage: 0.01, gen throughput (token/s): 116.98, #queue-req: 0\n"
     ]
    },
    {
     "name": "stdout",
     "output_type": "stream",
     "text": [
      "[2025-02-27 04:45:00 TP0] Decode batch. #running-req: 2, #token: 254, token usage: 0.01, gen throughput (token/s): 115.38, #queue-req: 0\n"
     ]
    },
    {
     "name": "stdout",
     "output_type": "stream",
     "text": [
      "[2025-02-27 04:45:00 TP0] Decode batch. #running-req: 2, #token: 334, token usage: 0.02, gen throughput (token/s): 117.05, #queue-req: 0\n"
     ]
    },
    {
     "name": "stdout",
     "output_type": "stream",
     "text": [
      "[2025-02-27 04:45:01] INFO:     127.0.0.1:34134 - \"POST /generate HTTP/1.1\" 200 OK\n",
      "[2025-02-27 04:45:01] INFO:     127.0.0.1:34132 - \"POST /generate HTTP/1.1\" 200 OK\n",
      "[2025-02-27 04:45:01 TP0] Prefill batch. #new-seq: 1, #new-token: 364, #cached-token: 39, cache hit rate: 31.48%, token usage: 0.00, #running-req: 0, #queue-req: 0\n"
     ]
    },
    {
     "name": "stdout",
     "output_type": "stream",
     "text": [
      "[2025-02-27 04:45:01 TP0] Decode batch. #running-req: 1, #token: 413, token usage: 0.02, gen throughput (token/s): 94.37, #queue-req: 0\n"
     ]
    },
    {
     "name": "stdout",
     "output_type": "stream",
     "text": [
      "[2025-02-27 04:45:02 TP0] Decode batch. #running-req: 1, #token: 453, token usage: 0.02, gen throughput (token/s): 59.43, #queue-req: 0\n"
     ]
    },
    {
     "name": "stdout",
     "output_type": "stream",
     "text": [
      "[2025-02-27 04:45:03 TP0] Decode batch. #running-req: 1, #token: 493, token usage: 0.02, gen throughput (token/s): 58.51, #queue-req: 0\n"
     ]
    },
    {
     "name": "stdout",
     "output_type": "stream",
     "text": [
      "[2025-02-27 04:45:03 TP0] Decode batch. #running-req: 1, #token: 533, token usage: 0.03, gen throughput (token/s): 59.72, #queue-req: 0\n"
     ]
    },
    {
     "name": "stdout",
     "output_type": "stream",
     "text": [
      "[2025-02-27 04:45:04 TP0] Decode batch. #running-req: 1, #token: 573, token usage: 0.03, gen throughput (token/s): 59.66, #queue-req: 0\n"
     ]
    },
    {
     "name": "stdout",
     "output_type": "stream",
     "text": [
      "[2025-02-27 04:45:05 TP0] Decode batch. #running-req: 1, #token: 613, token usage: 0.03, gen throughput (token/s): 60.93, #queue-req: 0\n"
     ]
    },
    {
     "name": "stdout",
     "output_type": "stream",
     "text": [
      "[2025-02-27 04:45:05 TP0] Decode batch. #running-req: 1, #token: 653, token usage: 0.03, gen throughput (token/s): 59.92, #queue-req: 0\n",
      "[2025-02-27 04:45:05] INFO:     127.0.0.1:34146 - \"POST /generate HTTP/1.1\" 200 OK\n"
     ]
    },
    {
     "data": {
      "text/html": [
       "<strong style='color: #00008B;'>1. **Balanced Diet**: <br>   - Include a variety of foods from all the major food groups: fruits, vegetables, whole grains, lean proteins, and healthy fats.<br>   - Aim to eat plenty of fresh fruits and vegetables for their essential vitamins, minerals, and fiber.<br>   - Choose whole grains over refined grains for sustained energy and nutrients.<br>   - Include lean proteins like chicken, fish, legumes, and tofu for muscle health and repair.<br>   - Incorporate healthy fats from sources like avocados, nuts, seeds, and olive oil, which are essential for brain function and hormone production.<br><br>2. **Regular Exercise**:<br>   - Aim for at least 150 minutes of moderate-intensity aerobic activity (like brisk walking, cycling, or swimming) or 75 minutes of vigorous-intensity aerobic activity (like running) per week.<br>   - Incorporate strength training exercises 2 to 3 times a week.<br>   - Engage in a combination of activities to meet your fitness goals, such as walking, jogging, swimming, or yoga.<br>   - Regular exercise helps prevent chronic diseases, improves mental health, boosts energy, and enhances overall well-being.<br><br>Together, these habits can significantly contribute to maintaining good health and longevity.</strong>"
      ],
      "text/plain": [
       "<IPython.core.display.HTML object>"
      ]
     },
     "metadata": {},
     "output_type": "display_data"
    }
   ],
   "source": [
    "@function\n",
    "def tip_suggestion(s):\n",
    "    s += assistant(\n",
    "        \"Here are two tips for staying healthy: \"\n",
    "        \"1. Balanced Diet. 2. Regular Exercise.\\n\\n\"\n",
    "    )\n",
    "\n",
    "    forks = s.fork(2)\n",
    "    for i, f in enumerate(forks):\n",
    "        f += assistant(\n",
    "            f\"Now, expand tip {i+1} into a paragraph:\\n\"\n",
    "            + gen(\"detailed_tip\", max_tokens=256, stop=\"\\n\\n\")\n",
    "        )\n",
    "\n",
    "    s += assistant(\"Tip 1:\" + forks[0][\"detailed_tip\"] + \"\\n\")\n",
    "    s += assistant(\"Tip 2:\" + forks[1][\"detailed_tip\"] + \"\\n\")\n",
    "    s += assistant(\n",
    "        \"To summarize the above two tips, I can say:\\n\" + gen(\"summary\", max_tokens=512)\n",
    "    )\n",
    "\n",
    "\n",
    "state = tip_suggestion()\n",
    "print_highlight(state[\"summary\"])"
   ]
  },
  {
   "cell_type": "markdown",
   "metadata": {},
   "source": [
    "## Constrained Decoding\n",
    "\n",
    "Use `regex` to specify a regular expression as a decoding constraint. This is only supported for local models."
   ]
  },
  {
   "cell_type": "code",
   "execution_count": 8,
   "metadata": {
    "execution": {
     "iopub.execute_input": "2025-02-27T04:45:05.773863Z",
     "iopub.status.busy": "2025-02-27T04:45:05.773560Z",
     "iopub.status.idle": "2025-02-27T04:45:20.333547Z",
     "shell.execute_reply": "2025-02-27T04:45:20.332901Z"
    }
   },
   "outputs": [
    {
     "name": "stdout",
     "output_type": "stream",
     "text": [
      "\r",
      "Compiling FSM index for all state transitions:   0%|          | 0/69 [00:00<?, ?it/s]"
     ]
    },
    {
     "name": "stdout",
     "output_type": "stream",
     "text": [
      "\r",
      "Compiling FSM index for all state transitions:   1%|▏         | 1/69 [00:00<00:18,  3.61it/s]\r",
      "Compiling FSM index for all state transitions:   6%|▌         | 4/69 [00:00<00:05, 11.05it/s]"
     ]
    },
    {
     "name": "stdout",
     "output_type": "stream",
     "text": [
      "\r",
      "Compiling FSM index for all state transitions:  12%|█▏        | 8/69 [00:00<00:03, 17.88it/s]\r",
      "Compiling FSM index for all state transitions:  16%|█▌        | 11/69 [00:00<00:02, 20.12it/s]"
     ]
    },
    {
     "name": "stdout",
     "output_type": "stream",
     "text": [
      "\r",
      "Compiling FSM index for all state transitions:  20%|██        | 14/69 [00:00<00:02, 22.53it/s]\r",
      "Compiling FSM index for all state transitions:  25%|██▍       | 17/69 [00:00<00:02, 24.37it/s]"
     ]
    },
    {
     "name": "stdout",
     "output_type": "stream",
     "text": [
      "\r",
      "Compiling FSM index for all state transitions:  29%|██▉       | 20/69 [00:01<00:02, 23.44it/s]\r",
      "Compiling FSM index for all state transitions:  35%|███▍      | 24/69 [00:01<00:01, 25.50it/s]"
     ]
    },
    {
     "name": "stdout",
     "output_type": "stream",
     "text": [
      "\r",
      "Compiling FSM index for all state transitions:  41%|████      | 28/69 [00:01<00:01, 27.85it/s]\r",
      "Compiling FSM index for all state transitions:  46%|████▋     | 32/69 [00:01<00:01, 28.53it/s]"
     ]
    },
    {
     "name": "stdout",
     "output_type": "stream",
     "text": [
      "\r",
      "Compiling FSM index for all state transitions:  51%|█████     | 35/69 [00:01<00:01, 26.40it/s]\r",
      "Compiling FSM index for all state transitions:  55%|█████▌    | 38/69 [00:01<00:01, 25.08it/s]"
     ]
    },
    {
     "name": "stdout",
     "output_type": "stream",
     "text": [
      "\r",
      "Compiling FSM index for all state transitions:  59%|█████▉    | 41/69 [00:01<00:01, 24.14it/s]\r",
      "Compiling FSM index for all state transitions:  64%|██████▍   | 44/69 [00:01<00:00, 25.31it/s]"
     ]
    },
    {
     "name": "stdout",
     "output_type": "stream",
     "text": [
      "\r",
      "Compiling FSM index for all state transitions:  68%|██████▊   | 47/69 [00:02<00:00, 26.28it/s]\r",
      "Compiling FSM index for all state transitions:  72%|███████▏  | 50/69 [00:02<00:00, 24.87it/s]"
     ]
    },
    {
     "name": "stdout",
     "output_type": "stream",
     "text": [
      "\r",
      "Compiling FSM index for all state transitions:  77%|███████▋  | 53/69 [00:02<00:00, 23.86it/s]\r",
      "Compiling FSM index for all state transitions:  81%|████████  | 56/69 [00:02<00:00, 23.28it/s]"
     ]
    },
    {
     "name": "stdout",
     "output_type": "stream",
     "text": [
      "\r",
      "Compiling FSM index for all state transitions:  86%|████████▌ | 59/69 [00:02<00:00, 22.90it/s]\r",
      "Compiling FSM index for all state transitions:  91%|█████████▏| 63/69 [00:02<00:00, 25.09it/s]"
     ]
    },
    {
     "name": "stdout",
     "output_type": "stream",
     "text": [
      "\r",
      "Compiling FSM index for all state transitions:  96%|█████████▌| 66/69 [00:02<00:00, 25.08it/s]\r",
      "Compiling FSM index for all state transitions: 100%|██████████| 69/69 [00:02<00:00, 24.19it/s]\r",
      "Compiling FSM index for all state transitions: 100%|██████████| 69/69 [00:02<00:00, 23.33it/s]\n"
     ]
    },
    {
     "name": "stdout",
     "output_type": "stream",
     "text": [
      "[2025-02-27 04:45:19 TP0] Prefill batch. #new-seq: 1, #new-token: 18, #cached-token: 12, cache hit rate: 31.79%, token usage: 0.00, #running-req: 0, #queue-req: 0\n"
     ]
    },
    {
     "name": "stdout",
     "output_type": "stream",
     "text": [
      "[2025-02-27 04:45:20] INFO:     127.0.0.1:34160 - \"POST /generate HTTP/1.1\" 200 OK\n"
     ]
    },
    {
     "data": {
      "text/html": [
       "<strong style='color: #00008B;'>208.67.222.222</strong>"
      ],
      "text/plain": [
       "<IPython.core.display.HTML object>"
      ]
     },
     "metadata": {},
     "output_type": "display_data"
    }
   ],
   "source": [
    "@function\n",
    "def regular_expression_gen(s):\n",
    "    s += user(\"What is the IP address of the Google DNS servers?\")\n",
    "    s += assistant(\n",
    "        gen(\n",
    "            \"answer\",\n",
    "            temperature=0,\n",
    "            regex=r\"((25[0-5]|2[0-4]\\d|[01]?\\d\\d?).){3}(25[0-5]|2[0-4]\\d|[01]?\\d\\d?)\",\n",
    "        )\n",
    "    )\n",
    "\n",
    "\n",
    "state = regular_expression_gen()\n",
    "print_highlight(state[\"answer\"])"
   ]
  },
  {
   "cell_type": "markdown",
   "metadata": {},
   "source": [
    "Use `regex` to define a `JSON` decoding schema."
   ]
  },
  {
   "cell_type": "code",
   "execution_count": 9,
   "metadata": {
    "execution": {
     "iopub.execute_input": "2025-02-27T04:45:20.335639Z",
     "iopub.status.busy": "2025-02-27T04:45:20.335312Z",
     "iopub.status.idle": "2025-02-27T04:45:39.987771Z",
     "shell.execute_reply": "2025-02-27T04:45:39.987241Z"
    }
   },
   "outputs": [
    {
     "name": "stdout",
     "output_type": "stream",
     "text": [
      "\r",
      "Compiling FSM index for all state transitions:   0%|          | 0/431 [00:00<?, ?it/s]"
     ]
    },
    {
     "name": "stdout",
     "output_type": "stream",
     "text": [
      "\r",
      "Compiling FSM index for all state transitions:   0%|          | 1/431 [00:00<01:49,  3.93it/s]\r",
      "Compiling FSM index for all state transitions:   1%|          | 5/431 [00:00<00:27, 15.33it/s]"
     ]
    },
    {
     "name": "stdout",
     "output_type": "stream",
     "text": [
      "\r",
      "Compiling FSM index for all state transitions:   2%|▏         | 9/431 [00:00<00:19, 21.91it/s]\r",
      "Compiling FSM index for all state transitions:   3%|▎         | 13/431 [00:00<00:15, 26.18it/s]"
     ]
    },
    {
     "name": "stdout",
     "output_type": "stream",
     "text": [
      "\r",
      "Compiling FSM index for all state transitions:   4%|▎         | 16/431 [00:00<00:17, 23.87it/s]"
     ]
    },
    {
     "name": "stdout",
     "output_type": "stream",
     "text": [
      "\r",
      "Compiling FSM index for all state transitions:   4%|▍         | 19/431 [00:00<00:21, 19.26it/s]\r",
      "Compiling FSM index for all state transitions:   5%|▌         | 23/431 [00:01<00:18, 22.58it/s]"
     ]
    },
    {
     "name": "stdout",
     "output_type": "stream",
     "text": [
      "\r",
      "Compiling FSM index for all state transitions:   6%|▋         | 27/431 [00:01<00:15, 25.49it/s]\r",
      "Compiling FSM index for all state transitions:   7%|▋         | 31/431 [00:01<00:14, 27.91it/s]"
     ]
    },
    {
     "name": "stdout",
     "output_type": "stream",
     "text": [
      "\r",
      "Compiling FSM index for all state transitions:   8%|▊         | 34/431 [00:01<00:15, 25.28it/s]"
     ]
    },
    {
     "name": "stdout",
     "output_type": "stream",
     "text": [
      "\r",
      "Compiling FSM index for all state transitions:   9%|▊         | 37/431 [00:01<00:21, 18.37it/s]"
     ]
    },
    {
     "name": "stdout",
     "output_type": "stream",
     "text": [
      "\r",
      "Compiling FSM index for all state transitions:   9%|▉         | 40/431 [00:02<00:24, 15.82it/s]\r",
      "Compiling FSM index for all state transitions:  10%|▉         | 42/431 [00:02<00:25, 15.27it/s]"
     ]
    },
    {
     "name": "stdout",
     "output_type": "stream",
     "text": [
      "\r",
      "Compiling FSM index for all state transitions:  10%|█         | 44/431 [00:02<00:24, 16.03it/s]\r",
      "Compiling FSM index for all state transitions:  11%|█         | 47/431 [00:02<00:20, 18.72it/s]"
     ]
    },
    {
     "name": "stdout",
     "output_type": "stream",
     "text": [
      "\r",
      "Compiling FSM index for all state transitions:  12%|█▏        | 51/431 [00:02<00:16, 22.76it/s]\r",
      "Compiling FSM index for all state transitions:  13%|█▎        | 55/431 [00:02<00:14, 25.97it/s]"
     ]
    },
    {
     "name": "stdout",
     "output_type": "stream",
     "text": [
      "\r",
      "Compiling FSM index for all state transitions:  14%|█▎        | 59/431 [00:02<00:13, 28.30it/s]\r",
      "Compiling FSM index for all state transitions:  15%|█▍        | 63/431 [00:02<00:12, 30.11it/s]"
     ]
    },
    {
     "name": "stdout",
     "output_type": "stream",
     "text": [
      "\r",
      "Compiling FSM index for all state transitions:  16%|█▌        | 67/431 [00:02<00:11, 31.50it/s]\r",
      "Compiling FSM index for all state transitions:  16%|█▋        | 71/431 [00:03<00:11, 32.34it/s]"
     ]
    },
    {
     "name": "stdout",
     "output_type": "stream",
     "text": [
      "\r",
      "Compiling FSM index for all state transitions:  17%|█▋        | 75/431 [00:03<00:10, 33.10it/s]\r",
      "Compiling FSM index for all state transitions:  18%|█▊        | 79/431 [00:03<00:10, 33.56it/s]"
     ]
    },
    {
     "name": "stdout",
     "output_type": "stream",
     "text": [
      "\r",
      "Compiling FSM index for all state transitions:  19%|█▉        | 83/431 [00:03<00:10, 32.68it/s]\r",
      "Compiling FSM index for all state transitions:  20%|██        | 87/431 [00:03<00:10, 33.29it/s]"
     ]
    },
    {
     "name": "stdout",
     "output_type": "stream",
     "text": [
      "\r",
      "Compiling FSM index for all state transitions:  21%|██        | 91/431 [00:03<00:10, 33.37it/s]\r",
      "Compiling FSM index for all state transitions:  22%|██▏       | 95/431 [00:03<00:09, 33.79it/s]"
     ]
    },
    {
     "name": "stdout",
     "output_type": "stream",
     "text": [
      "\r",
      "Compiling FSM index for all state transitions:  23%|██▎       | 99/431 [00:03<00:09, 33.83it/s]\r",
      "Compiling FSM index for all state transitions:  24%|██▍       | 103/431 [00:04<00:09, 34.04it/s]"
     ]
    },
    {
     "name": "stdout",
     "output_type": "stream",
     "text": [
      "\r",
      "Compiling FSM index for all state transitions:  25%|██▍       | 107/431 [00:04<00:09, 34.26it/s]\r",
      "Compiling FSM index for all state transitions:  26%|██▌       | 111/431 [00:04<00:09, 34.29it/s]"
     ]
    },
    {
     "name": "stdout",
     "output_type": "stream",
     "text": [
      "\r",
      "Compiling FSM index for all state transitions:  27%|██▋       | 115/431 [00:04<00:09, 34.40it/s]\r",
      "Compiling FSM index for all state transitions:  28%|██▊       | 119/431 [00:04<00:09, 34.35it/s]"
     ]
    },
    {
     "name": "stdout",
     "output_type": "stream",
     "text": [
      "\r",
      "Compiling FSM index for all state transitions:  29%|██▊       | 123/431 [00:04<00:09, 34.11it/s]\r",
      "Compiling FSM index for all state transitions:  29%|██▉       | 127/431 [00:04<00:08, 33.79it/s]"
     ]
    },
    {
     "name": "stdout",
     "output_type": "stream",
     "text": [
      "\r",
      "Compiling FSM index for all state transitions:  30%|███       | 131/431 [00:04<00:08, 33.72it/s]\r",
      "Compiling FSM index for all state transitions:  31%|███▏      | 135/431 [00:04<00:08, 34.05it/s]"
     ]
    },
    {
     "name": "stdout",
     "output_type": "stream",
     "text": [
      "\r",
      "Compiling FSM index for all state transitions:  32%|███▏      | 139/431 [00:05<00:08, 34.31it/s]\r",
      "Compiling FSM index for all state transitions:  33%|███▎      | 143/431 [00:05<00:08, 34.24it/s]"
     ]
    },
    {
     "name": "stdout",
     "output_type": "stream",
     "text": [
      "\r",
      "Compiling FSM index for all state transitions:  34%|███▍      | 147/431 [00:05<00:08, 34.14it/s]\r",
      "Compiling FSM index for all state transitions:  35%|███▌      | 151/431 [00:05<00:08, 33.85it/s]"
     ]
    },
    {
     "name": "stdout",
     "output_type": "stream",
     "text": [
      "\r",
      "Compiling FSM index for all state transitions:  36%|███▌      | 155/431 [00:05<00:08, 33.87it/s]\r",
      "Compiling FSM index for all state transitions:  37%|███▋      | 159/431 [00:05<00:07, 34.15it/s]"
     ]
    },
    {
     "name": "stdout",
     "output_type": "stream",
     "text": [
      "\r",
      "Compiling FSM index for all state transitions:  38%|███▊      | 163/431 [00:05<00:07, 34.38it/s]\r",
      "Compiling FSM index for all state transitions:  39%|███▊      | 167/431 [00:05<00:07, 34.53it/s]"
     ]
    },
    {
     "name": "stdout",
     "output_type": "stream",
     "text": [
      "\r",
      "Compiling FSM index for all state transitions:  40%|███▉      | 171/431 [00:06<00:07, 34.65it/s]\r",
      "Compiling FSM index for all state transitions:  41%|████      | 175/431 [00:06<00:07, 34.43it/s]"
     ]
    },
    {
     "name": "stdout",
     "output_type": "stream",
     "text": [
      "\r",
      "Compiling FSM index for all state transitions:  42%|████▏     | 179/431 [00:06<00:07, 34.02it/s]\r",
      "Compiling FSM index for all state transitions:  42%|████▏     | 183/431 [00:06<00:07, 34.23it/s]"
     ]
    },
    {
     "name": "stdout",
     "output_type": "stream",
     "text": [
      "\r",
      "Compiling FSM index for all state transitions:  43%|████▎     | 187/431 [00:06<00:07, 34.25it/s]\r",
      "Compiling FSM index for all state transitions:  44%|████▍     | 191/431 [00:06<00:06, 34.41it/s]"
     ]
    },
    {
     "name": "stdout",
     "output_type": "stream",
     "text": [
      "\r",
      "Compiling FSM index for all state transitions:  45%|████▌     | 195/431 [00:06<00:06, 34.30it/s]\r",
      "Compiling FSM index for all state transitions:  46%|████▌     | 199/431 [00:06<00:06, 34.17it/s]"
     ]
    },
    {
     "name": "stdout",
     "output_type": "stream",
     "text": [
      "\r",
      "Compiling FSM index for all state transitions:  47%|████▋     | 203/431 [00:06<00:06, 34.10it/s]\r",
      "Compiling FSM index for all state transitions:  48%|████▊     | 207/431 [00:07<00:06, 34.35it/s]"
     ]
    },
    {
     "name": "stdout",
     "output_type": "stream",
     "text": [
      "\r",
      "Compiling FSM index for all state transitions:  49%|████▉     | 211/431 [00:07<00:06, 34.52it/s]\r",
      "Compiling FSM index for all state transitions:  50%|████▉     | 215/431 [00:07<00:06, 34.36it/s]"
     ]
    },
    {
     "name": "stdout",
     "output_type": "stream",
     "text": [
      "\r",
      "Compiling FSM index for all state transitions:  51%|█████     | 219/431 [00:07<00:06, 34.48it/s]\r",
      "Compiling FSM index for all state transitions:  52%|█████▏    | 223/431 [00:07<00:06, 34.11it/s]"
     ]
    },
    {
     "name": "stdout",
     "output_type": "stream",
     "text": [
      "\r",
      "Compiling FSM index for all state transitions:  53%|█████▎    | 227/431 [00:07<00:05, 34.34it/s]\r",
      "Compiling FSM index for all state transitions:  54%|█████▎    | 231/431 [00:07<00:05, 33.67it/s]"
     ]
    },
    {
     "name": "stdout",
     "output_type": "stream",
     "text": [
      "\r",
      "Compiling FSM index for all state transitions:  55%|█████▍    | 235/431 [00:07<00:05, 33.76it/s]\r",
      "Compiling FSM index for all state transitions:  55%|█████▌    | 239/431 [00:08<00:05, 34.10it/s]"
     ]
    },
    {
     "name": "stdout",
     "output_type": "stream",
     "text": [
      "\r",
      "Compiling FSM index for all state transitions:  56%|█████▋    | 243/431 [00:08<00:07, 25.75it/s]\r",
      "Compiling FSM index for all state transitions:  57%|█████▋    | 247/431 [00:08<00:06, 27.33it/s]"
     ]
    },
    {
     "name": "stdout",
     "output_type": "stream",
     "text": [
      "\r",
      "Compiling FSM index for all state transitions:  58%|█████▊    | 250/431 [00:08<00:06, 27.07it/s]\r",
      "Compiling FSM index for all state transitions:  59%|█████▉    | 254/431 [00:08<00:06, 28.70it/s]"
     ]
    },
    {
     "name": "stdout",
     "output_type": "stream",
     "text": [
      "\r",
      "Compiling FSM index for all state transitions:  60%|█████▉    | 258/431 [00:08<00:05, 30.11it/s]\r",
      "Compiling FSM index for all state transitions:  61%|██████    | 262/431 [00:08<00:05, 30.97it/s]"
     ]
    },
    {
     "name": "stdout",
     "output_type": "stream",
     "text": [
      "\r",
      "Compiling FSM index for all state transitions:  62%|██████▏   | 266/431 [00:09<00:09, 18.09it/s]"
     ]
    },
    {
     "name": "stdout",
     "output_type": "stream",
     "text": [
      "\r",
      "Compiling FSM index for all state transitions:  62%|██████▏   | 269/431 [00:09<00:10, 15.85it/s]"
     ]
    },
    {
     "name": "stdout",
     "output_type": "stream",
     "text": [
      "\r",
      "Compiling FSM index for all state transitions:  63%|██████▎   | 272/431 [00:09<00:10, 15.59it/s]\r",
      "Compiling FSM index for all state transitions:  64%|██████▍   | 275/431 [00:09<00:08, 17.37it/s]"
     ]
    },
    {
     "name": "stdout",
     "output_type": "stream",
     "text": [
      "\r",
      "Compiling FSM index for all state transitions:  65%|██████▍   | 278/431 [00:10<00:09, 16.29it/s]\r",
      "Compiling FSM index for all state transitions:  65%|██████▍   | 280/431 [00:10<00:10, 14.72it/s]"
     ]
    },
    {
     "name": "stdout",
     "output_type": "stream",
     "text": [
      "\r",
      "Compiling FSM index for all state transitions:  65%|██████▌   | 282/431 [00:10<00:10, 13.79it/s]\r",
      "Compiling FSM index for all state transitions:  66%|██████▌   | 284/431 [00:10<00:10, 13.44it/s]"
     ]
    },
    {
     "name": "stdout",
     "output_type": "stream",
     "text": [
      "\r",
      "Compiling FSM index for all state transitions:  66%|██████▋   | 286/431 [00:10<00:10, 14.02it/s]\r",
      "Compiling FSM index for all state transitions:  67%|██████▋   | 289/431 [00:10<00:08, 17.24it/s]"
     ]
    },
    {
     "name": "stdout",
     "output_type": "stream",
     "text": [
      "\r",
      "Compiling FSM index for all state transitions:  68%|██████▊   | 292/431 [00:10<00:07, 18.15it/s]\r",
      "Compiling FSM index for all state transitions:  69%|██████▊   | 296/431 [00:11<00:06, 19.40it/s]"
     ]
    },
    {
     "name": "stdout",
     "output_type": "stream",
     "text": [
      "\r",
      "Compiling FSM index for all state transitions:  69%|██████▉   | 299/431 [00:11<00:06, 19.39it/s]\r",
      "Compiling FSM index for all state transitions:  70%|███████   | 303/431 [00:11<00:06, 20.09it/s]"
     ]
    },
    {
     "name": "stdout",
     "output_type": "stream",
     "text": [
      "\r",
      "Compiling FSM index for all state transitions:  71%|███████   | 306/431 [00:11<00:05, 22.06it/s]\r",
      "Compiling FSM index for all state transitions:  72%|███████▏  | 310/431 [00:11<00:04, 24.80it/s]"
     ]
    },
    {
     "name": "stdout",
     "output_type": "stream",
     "text": [
      "\r",
      "Compiling FSM index for all state transitions:  73%|███████▎  | 314/431 [00:11<00:04, 27.19it/s]\r",
      "Compiling FSM index for all state transitions:  74%|███████▍  | 318/431 [00:11<00:03, 29.23it/s]"
     ]
    },
    {
     "name": "stdout",
     "output_type": "stream",
     "text": [
      "\r",
      "Compiling FSM index for all state transitions:  75%|███████▍  | 322/431 [00:12<00:03, 30.51it/s]\r",
      "Compiling FSM index for all state transitions:  76%|███████▌  | 326/431 [00:12<00:03, 31.24it/s]"
     ]
    },
    {
     "name": "stdout",
     "output_type": "stream",
     "text": [
      "\r",
      "Compiling FSM index for all state transitions:  77%|███████▋  | 330/431 [00:12<00:03, 32.00it/s]\r",
      "Compiling FSM index for all state transitions:  77%|███████▋  | 334/431 [00:12<00:03, 32.04it/s]"
     ]
    },
    {
     "name": "stdout",
     "output_type": "stream",
     "text": [
      "\r",
      "Compiling FSM index for all state transitions:  78%|███████▊  | 338/431 [00:12<00:02, 32.55it/s]\r",
      "Compiling FSM index for all state transitions:  79%|███████▉  | 342/431 [00:12<00:02, 32.93it/s]"
     ]
    },
    {
     "name": "stdout",
     "output_type": "stream",
     "text": [
      "\r",
      "Compiling FSM index for all state transitions:  80%|████████  | 346/431 [00:12<00:02, 33.21it/s]\r",
      "Compiling FSM index for all state transitions:  81%|████████  | 350/431 [00:12<00:02, 33.69it/s]"
     ]
    },
    {
     "name": "stdout",
     "output_type": "stream",
     "text": [
      "\r",
      "Compiling FSM index for all state transitions:  82%|████████▏ | 354/431 [00:13<00:02, 31.07it/s]\r",
      "Compiling FSM index for all state transitions:  83%|████████▎ | 358/431 [00:13<00:02, 30.93it/s]"
     ]
    },
    {
     "name": "stdout",
     "output_type": "stream",
     "text": [
      "\r",
      "Compiling FSM index for all state transitions:  84%|████████▍ | 362/431 [00:13<00:02, 31.41it/s]\r",
      "Compiling FSM index for all state transitions:  85%|████████▍ | 366/431 [00:13<00:02, 32.38it/s]"
     ]
    },
    {
     "name": "stdout",
     "output_type": "stream",
     "text": [
      "\r",
      "Compiling FSM index for all state transitions:  86%|████████▌ | 370/431 [00:13<00:01, 33.10it/s]\r",
      "Compiling FSM index for all state transitions:  87%|████████▋ | 374/431 [00:13<00:01, 33.37it/s]"
     ]
    },
    {
     "name": "stdout",
     "output_type": "stream",
     "text": [
      "\r",
      "Compiling FSM index for all state transitions:  88%|████████▊ | 378/431 [00:13<00:01, 28.93it/s]"
     ]
    },
    {
     "name": "stdout",
     "output_type": "stream",
     "text": [
      "\r",
      "Compiling FSM index for all state transitions:  89%|████████▊ | 382/431 [00:14<00:02, 19.09it/s]"
     ]
    },
    {
     "name": "stdout",
     "output_type": "stream",
     "text": [
      "\r",
      "Compiling FSM index for all state transitions:  89%|████████▉ | 385/431 [00:14<00:02, 16.53it/s]"
     ]
    },
    {
     "name": "stdout",
     "output_type": "stream",
     "text": [
      "\r",
      "Compiling FSM index for all state transitions:  90%|█████████ | 388/431 [00:14<00:02, 16.03it/s]\r",
      "Compiling FSM index for all state transitions:  91%|█████████ | 391/431 [00:14<00:02, 17.75it/s]"
     ]
    },
    {
     "name": "stdout",
     "output_type": "stream",
     "text": [
      "\r",
      "Compiling FSM index for all state transitions:  91%|█████████▏| 394/431 [00:15<00:02, 16.63it/s]\r",
      "Compiling FSM index for all state transitions:  92%|█████████▏| 398/431 [00:15<00:01, 20.02it/s]"
     ]
    },
    {
     "name": "stdout",
     "output_type": "stream",
     "text": [
      "\r",
      "Compiling FSM index for all state transitions:  93%|█████████▎| 402/431 [00:15<00:01, 23.03it/s]\r",
      "Compiling FSM index for all state transitions:  94%|█████████▍| 406/431 [00:15<00:00, 25.73it/s]"
     ]
    },
    {
     "name": "stdout",
     "output_type": "stream",
     "text": [
      "\r",
      "Compiling FSM index for all state transitions:  95%|█████████▌| 410/431 [00:15<00:00, 27.84it/s]"
     ]
    },
    {
     "name": "stdout",
     "output_type": "stream",
     "text": [
      "\r",
      "Compiling FSM index for all state transitions:  96%|█████████▌| 414/431 [00:15<00:00, 20.24it/s]\r",
      "Compiling FSM index for all state transitions:  97%|█████████▋| 418/431 [00:15<00:00, 20.85it/s]"
     ]
    },
    {
     "name": "stdout",
     "output_type": "stream",
     "text": [
      "\r",
      "Compiling FSM index for all state transitions:  98%|█████████▊| 421/431 [00:16<00:00, 16.82it/s]"
     ]
    },
    {
     "name": "stdout",
     "output_type": "stream",
     "text": [
      "\r",
      "Compiling FSM index for all state transitions:  98%|█████████▊| 424/431 [00:16<00:00, 15.20it/s]\r",
      "Compiling FSM index for all state transitions:  99%|█████████▉| 426/431 [00:16<00:00, 14.95it/s]"
     ]
    },
    {
     "name": "stdout",
     "output_type": "stream",
     "text": [
      "\r",
      "Compiling FSM index for all state transitions:  99%|█████████▉| 428/431 [00:16<00:00, 15.69it/s]\r",
      "Compiling FSM index for all state transitions: 100%|██████████| 431/431 [00:16<00:00, 18.46it/s]\r",
      "Compiling FSM index for all state transitions: 100%|██████████| 431/431 [00:16<00:00, 25.55it/s]\n"
     ]
    },
    {
     "name": "stdout",
     "output_type": "stream",
     "text": [
      "[2025-02-27 04:45:38 TP0] Prefill batch. #new-seq: 1, #new-token: 24, #cached-token: 14, cache hit rate: 32.00%, token usage: 0.00, #running-req: 0, #queue-req: 0\n"
     ]
    },
    {
     "name": "stdout",
     "output_type": "stream",
     "text": [
      "[2025-02-27 04:45:38 TP0] Decode batch. #running-req: 1, #token: 59, token usage: 0.00, gen throughput (token/s): 1.21, #queue-req: 0\n"
     ]
    },
    {
     "name": "stdout",
     "output_type": "stream",
     "text": [
      "[2025-02-27 04:45:39 TP0] Decode batch. #running-req: 1, #token: 99, token usage: 0.00, gen throughput (token/s): 71.51, #queue-req: 0\n"
     ]
    },
    {
     "name": "stdout",
     "output_type": "stream",
     "text": [
      "[2025-02-27 04:45:39 TP0] Decode batch. #running-req: 1, #token: 139, token usage: 0.01, gen throughput (token/s): 76.05, #queue-req: 0\n",
      "[2025-02-27 04:45:39] INFO:     127.0.0.1:34506 - \"POST /generate HTTP/1.1\" 200 OK\n"
     ]
    },
    {
     "data": {
      "text/html": [
       "<strong style='color: #00008B;'>{<br>    \"name\": \"Harry Potter\",<br>    \"house\": \"Gryffindor\",<br>    \"blood status\": \"Half-blood\",<br>    \"occupation\": \"student\",<br>    \"wand\": {<br>        \"wood\": \"Chestnut\",<br>        \"core\": \"Phoenix Feather\",<br>        \"length\": 11.0<br>    },<br>    \"alive\": \"Alive\",<br>    \"patronus\": \"Stag\",<br>    \"bogart\": \"Right\"<br>}</strong>"
      ],
      "text/plain": [
       "<IPython.core.display.HTML object>"
      ]
     },
     "metadata": {},
     "output_type": "display_data"
    }
   ],
   "source": [
    "character_regex = (\n",
    "    r\"\"\"\\{\\n\"\"\"\n",
    "    + r\"\"\"    \"name\": \"[\\w\\d\\s]{1,16}\",\\n\"\"\"\n",
    "    + r\"\"\"    \"house\": \"(Gryffindor|Slytherin|Ravenclaw|Hufflepuff)\",\\n\"\"\"\n",
    "    + r\"\"\"    \"blood status\": \"(Pure-blood|Half-blood|Muggle-born)\",\\n\"\"\"\n",
    "    + r\"\"\"    \"occupation\": \"(student|teacher|auror|ministry of magic|death eater|order of the phoenix)\",\\n\"\"\"\n",
    "    + r\"\"\"    \"wand\": \\{\\n\"\"\"\n",
    "    + r\"\"\"        \"wood\": \"[\\w\\d\\s]{1,16}\",\\n\"\"\"\n",
    "    + r\"\"\"        \"core\": \"[\\w\\d\\s]{1,16}\",\\n\"\"\"\n",
    "    + r\"\"\"        \"length\": [0-9]{1,2}\\.[0-9]{0,2}\\n\"\"\"\n",
    "    + r\"\"\"    \\},\\n\"\"\"\n",
    "    + r\"\"\"    \"alive\": \"(Alive|Deceased)\",\\n\"\"\"\n",
    "    + r\"\"\"    \"patronus\": \"[\\w\\d\\s]{1,16}\",\\n\"\"\"\n",
    "    + r\"\"\"    \"bogart\": \"[\\w\\d\\s]{1,16}\"\\n\"\"\"\n",
    "    + r\"\"\"\\}\"\"\"\n",
    ")\n",
    "\n",
    "\n",
    "@function\n",
    "def character_gen(s, name):\n",
    "    s += user(\n",
    "        f\"{name} is a character in Harry Potter. Please fill in the following information about this character.\"\n",
    "    )\n",
    "    s += assistant(gen(\"json_output\", max_tokens=256, regex=character_regex))\n",
    "\n",
    "\n",
    "state = character_gen(\"Harry Potter\")\n",
    "print_highlight(state[\"json_output\"])"
   ]
  },
  {
   "cell_type": "markdown",
   "metadata": {},
   "source": [
    "## Batching \n",
    "\n",
    "Use `run_batch` to run a batch of prompts."
   ]
  },
  {
   "cell_type": "code",
   "execution_count": 10,
   "metadata": {
    "execution": {
     "iopub.execute_input": "2025-02-27T04:45:39.989685Z",
     "iopub.status.busy": "2025-02-27T04:45:39.989513Z",
     "iopub.status.idle": "2025-02-27T04:45:40.190441Z",
     "shell.execute_reply": "2025-02-27T04:45:40.190006Z"
    }
   },
   "outputs": [
    {
     "name": "stdout",
     "output_type": "stream",
     "text": [
      "[2025-02-27 04:45:39 TP0] Prefill batch. #new-seq: 1, #new-token: 1, #cached-token: 13, cache hit rate: 32.96%, token usage: 0.00, #running-req: 0, #queue-req: 0\n",
      "[2025-02-27 04:45:40] INFO:     127.0.0.1:44456 - \"POST /generate HTTP/1.1\" 200 OK\n"
     ]
    },
    {
     "name": "stderr",
     "output_type": "stream",
     "text": [
      "\r",
      "  0%|          | 0/3 [00:00<?, ?it/s]"
     ]
    },
    {
     "name": "stderr",
     "output_type": "stream",
     "text": [
      "\r",
      " 33%|███▎      | 1/3 [00:00<00:00,  6.91it/s]"
     ]
    },
    {
     "name": "stderr",
     "output_type": "stream",
     "text": [
      "\r",
      "100%|██████████| 3/3 [00:00<00:00, 19.21it/s]"
     ]
    },
    {
     "name": "stdout",
     "output_type": "stream",
     "text": [
      "[2025-02-27 04:45:40 TP0] Prefill batch. #new-seq: 1, #new-token: 11, #cached-token: 17, cache hit rate: 33.80%, token usage: 0.00, #running-req: 0, #queue-req: 0\n",
      "[2025-02-27 04:45:40 TP0] Prefill batch. #new-seq: 2, #new-token: 18, #cached-token: 34, cache hit rate: 35.49%, token usage: 0.00, #running-req: 1, #queue-req: 0\n",
      "[2025-02-27 04:45:40] INFO:     127.0.0.1:44472 - \"POST /generate HTTP/1.1\" 200 OK\n",
      "[2025-02-27 04:45:40] INFO:     127.0.0.1:44476 - \"POST /generate HTTP/1.1\" 200 OK\n",
      "[2025-02-27 04:45:40] INFO:     127.0.0.1:44466 - \"POST /generate HTTP/1.1\" 200 OK\n"
     ]
    },
    {
     "name": "stderr",
     "output_type": "stream",
     "text": [
      "\n"
     ]
    },
    {
     "data": {
      "text/html": [
       "<strong style='color: #00008B;'>Answer 1: The capital of the United Kingdom is London.</strong>"
      ],
      "text/plain": [
       "<IPython.core.display.HTML object>"
      ]
     },
     "metadata": {},
     "output_type": "display_data"
    },
    {
     "data": {
      "text/html": [
       "<strong style='color: #00008B;'>Answer 2: The capital of France is Paris.</strong>"
      ],
      "text/plain": [
       "<IPython.core.display.HTML object>"
      ]
     },
     "metadata": {},
     "output_type": "display_data"
    },
    {
     "data": {
      "text/html": [
       "<strong style='color: #00008B;'>Answer 3: The capital of Japan is Tokyo.</strong>"
      ],
      "text/plain": [
       "<IPython.core.display.HTML object>"
      ]
     },
     "metadata": {},
     "output_type": "display_data"
    }
   ],
   "source": [
    "@function\n",
    "def text_qa(s, question):\n",
    "    s += user(question)\n",
    "    s += assistant(gen(\"answer\", stop=\"\\n\"))\n",
    "\n",
    "\n",
    "states = text_qa.run_batch(\n",
    "    [\n",
    "        {\"question\": \"What is the capital of the United Kingdom?\"},\n",
    "        {\"question\": \"What is the capital of France?\"},\n",
    "        {\"question\": \"What is the capital of Japan?\"},\n",
    "    ],\n",
    "    progress_bar=True,\n",
    ")\n",
    "\n",
    "for i, state in enumerate(states):\n",
    "    print_highlight(f\"Answer {i+1}: {states[i]['answer']}\")"
   ]
  },
  {
   "cell_type": "markdown",
   "metadata": {},
   "source": [
    "## Streaming \n",
    "\n",
    "Use `stream` to stream the output to the user."
   ]
  },
  {
   "cell_type": "code",
   "execution_count": 11,
   "metadata": {
    "execution": {
     "iopub.execute_input": "2025-02-27T04:45:40.191961Z",
     "iopub.status.busy": "2025-02-27T04:45:40.191806Z",
     "iopub.status.idle": "2025-02-27T04:45:40.314946Z",
     "shell.execute_reply": "2025-02-27T04:45:40.314476Z"
    }
   },
   "outputs": [
    {
     "name": "stdout",
     "output_type": "stream",
     "text": [
      "<|im_start|>system\n",
      "You are a helpful assistant.<|im_end|>\n",
      "<|im_start|>user\n",
      "What is the capital of France?<|im_end|>\n",
      "<|im_start|>assistant\n"
     ]
    },
    {
     "name": "stdout",
     "output_type": "stream",
     "text": [
      "[2025-02-27 04:45:40] INFO:     127.0.0.1:44478 - \"POST /generate HTTP/1.1\" 200 OK\n",
      "[2025-02-27 04:45:40 TP0] Prefill batch. #new-seq: 1, #new-token: 1, #cached-token: 25, cache hit rate: 37.07%, token usage: 0.00, #running-req: 0, #queue-req: 0\n",
      "The"
     ]
    },
    {
     "name": "stdout",
     "output_type": "stream",
     "text": [
      " capital"
     ]
    },
    {
     "name": "stdout",
     "output_type": "stream",
     "text": [
      " of"
     ]
    },
    {
     "name": "stdout",
     "output_type": "stream",
     "text": [
      " France"
     ]
    },
    {
     "name": "stdout",
     "output_type": "stream",
     "text": [
      " is"
     ]
    },
    {
     "name": "stdout",
     "output_type": "stream",
     "text": [
      " Paris"
     ]
    },
    {
     "name": "stdout",
     "output_type": "stream",
     "text": [
      "."
     ]
    },
    {
     "name": "stdout",
     "output_type": "stream",
     "text": [
      "<|im_end|>\n"
     ]
    }
   ],
   "source": [
    "@function\n",
    "def text_qa(s, question):\n",
    "    s += user(question)\n",
    "    s += assistant(gen(\"answer\", stop=\"\\n\"))\n",
    "\n",
    "\n",
    "state = text_qa.run(\n",
    "    question=\"What is the capital of France?\", temperature=0.1, stream=True\n",
    ")\n",
    "\n",
    "for out in state.text_iter():\n",
    "    print(out, end=\"\", flush=True)"
   ]
  },
  {
   "cell_type": "markdown",
   "metadata": {},
   "source": [
    "## Complex Prompts\n",
    "\n",
    "You may use `{system|user|assistant}_{begin|end}` to define complex prompts."
   ]
  },
  {
   "cell_type": "code",
   "execution_count": 12,
   "metadata": {
    "execution": {
     "iopub.execute_input": "2025-02-27T04:45:40.316439Z",
     "iopub.status.busy": "2025-02-27T04:45:40.316285Z",
     "iopub.status.idle": "2025-02-27T04:45:40.431836Z",
     "shell.execute_reply": "2025-02-27T04:45:40.431422Z"
    }
   },
   "outputs": [
    {
     "name": "stdout",
     "output_type": "stream",
     "text": [
      "[2025-02-27 04:45:40 TP0] Prefill batch. #new-seq: 1, #new-token: 17, #cached-token: 14, cache hit rate: 37.32%, token usage: 0.00, #running-req: 0, #queue-req: 0\n"
     ]
    },
    {
     "name": "stdout",
     "output_type": "stream",
     "text": [
      "[2025-02-27 04:45:40 TP0] Decode batch. #running-req: 0, #token: 0, token usage: 0.00, gen throughput (token/s): 93.64, #queue-req: 0\n",
      "[2025-02-27 04:45:40] INFO:     127.0.0.1:44486 - \"POST /generate HTTP/1.1\" 200 OK\n"
     ]
    },
    {
     "data": {
      "text/html": [
       "<strong style='color: #00008B;'> The capital of France is Paris.</strong>"
      ],
      "text/plain": [
       "<IPython.core.display.HTML object>"
      ]
     },
     "metadata": {},
     "output_type": "display_data"
    }
   ],
   "source": [
    "@function\n",
    "def chat_example(s):\n",
    "    s += system(\"You are a helpful assistant.\")\n",
    "    # Same as: s += s.system(\"You are a helpful assistant.\")\n",
    "\n",
    "    with s.user():\n",
    "        s += \"Question: What is the capital of France?\"\n",
    "\n",
    "    s += assistant_begin()\n",
    "    s += \"Answer: \" + gen(\"answer\", max_tokens=100, stop=\"\\n\")\n",
    "    s += assistant_end()\n",
    "\n",
    "\n",
    "state = chat_example()\n",
    "print_highlight(state[\"answer\"])"
   ]
  },
  {
   "cell_type": "code",
   "execution_count": 13,
   "metadata": {
    "execution": {
     "iopub.execute_input": "2025-02-27T04:45:40.433230Z",
     "iopub.status.busy": "2025-02-27T04:45:40.433087Z",
     "iopub.status.idle": "2025-02-27T04:45:40.459096Z",
     "shell.execute_reply": "2025-02-27T04:45:40.458584Z"
    }
   },
   "outputs": [],
   "source": [
    "terminate_process(server_process)"
   ]
  },
  {
   "cell_type": "markdown",
   "metadata": {},
   "source": [
    "## Multi-modal Generation\n",
    "\n",
    "You may use SGLang frontend language to define multi-modal prompts.\n",
    "See [here](https://docs.sglang.ai/references/supported_models.html) for supported models."
   ]
  },
  {
   "cell_type": "code",
   "execution_count": 14,
   "metadata": {
    "execution": {
     "iopub.execute_input": "2025-02-27T04:45:40.461251Z",
     "iopub.status.busy": "2025-02-27T04:45:40.461103Z",
     "iopub.status.idle": "2025-02-27T04:46:25.611685Z",
     "shell.execute_reply": "2025-02-27T04:46:25.610988Z"
    }
   },
   "outputs": [
    {
     "name": "stdout",
     "output_type": "stream",
     "text": [
      "[2025-02-27 04:45:53] server_args=ServerArgs(model_path='Qwen/Qwen2.5-VL-7B-Instruct', tokenizer_path='Qwen/Qwen2.5-VL-7B-Instruct', tokenizer_mode='auto', load_format='auto', trust_remote_code=False, dtype='auto', kv_cache_dtype='auto', quantization_param_path=None, quantization=None, context_length=None, device='cuda', served_model_name='Qwen/Qwen2.5-VL-7B-Instruct', chat_template=None, is_embedding=False, revision=None, skip_tokenizer_init=False, host='0.0.0.0', port=31940, mem_fraction_static=0.88, max_running_requests=200, max_total_tokens=20480, chunked_prefill_size=8192, max_prefill_tokens=16384, schedule_policy='lpm', schedule_conservativeness=1.0, cpu_offload_gb=0, prefill_only_one_req=False, tp_size=1, stream_interval=1, stream_output=False, random_seed=385551917, constrained_json_whitespace_pattern=None, watchdog_timeout=300, dist_timeout=None, download_dir=None, base_gpu_id=0, log_level='info', log_level_http=None, log_requests=False, show_time_cost=False, enable_metrics=False, decode_log_interval=40, api_key=None, file_storage_pth='sglang_storage', enable_cache_report=False, dp_size=1, load_balance_method='round_robin', ep_size=1, dist_init_addr=None, nnodes=1, node_rank=0, json_model_override_args='{}', lora_paths=None, max_loras_per_batch=8, lora_backend='triton', attention_backend='flashinfer', sampling_backend='flashinfer', grammar_backend='outlines', speculative_draft_model_path=None, speculative_algorithm=None, speculative_num_steps=5, speculative_eagle_topk=8, speculative_num_draft_tokens=64, enable_double_sparsity=False, ds_channel_config_path=None, ds_heavy_channel_num=32, ds_heavy_token_num=256, ds_heavy_channel_type='qk', ds_sparse_decode_threshold=4096, disable_radix_cache=False, disable_jump_forward=False, disable_cuda_graph=True, disable_cuda_graph_padding=False, enable_nccl_nvls=False, disable_outlines_disk_cache=False, disable_custom_all_reduce=False, disable_mla=False, disable_overlap_schedule=False, enable_mixed_chunk=False, enable_dp_attention=False, enable_ep_moe=False, enable_torch_compile=False, torch_compile_max_bs=32, cuda_graph_max_bs=160, cuda_graph_bs=None, torchao_config='', enable_nan_detection=False, enable_p2p_check=False, triton_attention_reduce_in_fp32=False, triton_attention_num_kv_splits=8, num_continuous_decode_steps=1, delete_ckpt_after_loading=False, enable_memory_saver=False, allow_auto_truncate=False, return_hidden_states=False, enable_custom_logit_processor=False, tool_call_parser=None, enable_hierarchical_cache=False, enable_flashinfer_mla=False)\n"
     ]
    },
    {
     "name": "stdout",
     "output_type": "stream",
     "text": [
      "[2025-02-27 04:46:12 TP0] Overlap scheduler is disabled for multimodal models.\n",
      "[2025-02-27 04:46:12 TP0] Automatically reduce --mem-fraction-static to 0.836 because this is a multimodal model.\n",
      "[2025-02-27 04:46:12 TP0] Init torch distributed begin.\n"
     ]
    },
    {
     "name": "stdout",
     "output_type": "stream",
     "text": [
      "[2025-02-27 04:46:13 TP0] Load weight begin. avail mem=78.81 GB\n"
     ]
    },
    {
     "name": "stdout",
     "output_type": "stream",
     "text": [
      "[2025-02-27 04:46:13 TP0] The following error message 'operation scheduled before its operands' can be ignored.\n"
     ]
    },
    {
     "name": "stdout",
     "output_type": "stream",
     "text": [
      "[2025-02-27 04:46:14 TP0] Using model weights format ['*.safetensors']\n",
      "\r",
      "Loading safetensors checkpoint shards:   0% Completed | 0/5 [00:00<?, ?it/s]\n"
     ]
    },
    {
     "name": "stdout",
     "output_type": "stream",
     "text": [
      "\r",
      "Loading safetensors checkpoint shards:  20% Completed | 1/5 [00:00<00:02,  1.46it/s]\n"
     ]
    },
    {
     "name": "stdout",
     "output_type": "stream",
     "text": [
      "\r",
      "Loading safetensors checkpoint shards:  40% Completed | 2/5 [00:01<00:02,  1.25it/s]\n"
     ]
    },
    {
     "name": "stdout",
     "output_type": "stream",
     "text": [
      "\r",
      "Loading safetensors checkpoint shards:  60% Completed | 3/5 [00:02<00:01,  1.17it/s]\n"
     ]
    },
    {
     "name": "stdout",
     "output_type": "stream",
     "text": [
      "\r",
      "Loading safetensors checkpoint shards:  80% Completed | 4/5 [00:02<00:00,  1.55it/s]\n"
     ]
    },
    {
     "name": "stdout",
     "output_type": "stream",
     "text": [
      "\r",
      "Loading safetensors checkpoint shards: 100% Completed | 5/5 [00:03<00:00,  1.36it/s]\n",
      "\r",
      "Loading safetensors checkpoint shards: 100% Completed | 5/5 [00:03<00:00,  1.35it/s]\n",
      "\n",
      "[2025-02-27 04:46:18 TP0] Load weight end. type=Qwen2_5_VLForConditionalGeneration, dtype=torch.bfloat16, avail mem=63.02 GB\n"
     ]
    },
    {
     "name": "stdout",
     "output_type": "stream",
     "text": [
      "[2025-02-27 04:46:18 TP0] KV Cache is allocated. K size: 0.55 GB, V size: 0.55 GB.\n",
      "[2025-02-27 04:46:18 TP0] Memory pool end. avail mem=61.72 GB\n"
     ]
    },
    {
     "name": "stdout",
     "output_type": "stream",
     "text": [
      "[2025-02-27 04:46:19 TP0] max_total_num_tokens=20480, chunked_prefill_size=8192, max_prefill_tokens=16384, max_running_requests=200, context_len=128000\n",
      "[2025-02-27 04:46:19] INFO:     Started server process [3764848]\n",
      "[2025-02-27 04:46:19] INFO:     Waiting for application startup.\n",
      "[2025-02-27 04:46:19] INFO:     Application startup complete.\n",
      "[2025-02-27 04:46:19] INFO:     Uvicorn running on http://0.0.0.0:31940 (Press CTRL+C to quit)\n"
     ]
    },
    {
     "name": "stdout",
     "output_type": "stream",
     "text": [
      "[2025-02-27 04:46:20] INFO:     127.0.0.1:53908 - \"GET /v1/models HTTP/1.1\" 200 OK\n"
     ]
    },
    {
     "name": "stdout",
     "output_type": "stream",
     "text": [
      "[2025-02-27 04:46:20] INFO:     127.0.0.1:53924 - \"GET /get_model_info HTTP/1.1\" 200 OK\n",
      "[2025-02-27 04:46:20 TP0] Prefill batch. #new-seq: 1, #new-token: 6, #cached-token: 0, cache hit rate: 0.00%, token usage: 0.00, #running-req: 0, #queue-req: 0\n"
     ]
    },
    {
     "name": "stdout",
     "output_type": "stream",
     "text": [
      "[2025-02-27 04:46:23] INFO:     127.0.0.1:53932 - \"POST /generate HTTP/1.1\" 200 OK\n",
      "[2025-02-27 04:46:23] The server is fired up and ready to roll!\n"
     ]
    },
    {
     "data": {
      "text/html": [
       "<strong style='color: #00008B;'><br><br>                    NOTE: Typically, the server runs in a separate terminal.<br>                    In this notebook, we run the server and notebook code together, so their outputs are combined.<br>                    To improve clarity, the server logs are displayed in the original black color, while the notebook outputs are highlighted in blue.<br>                    We are running those notebooks in a CI parallel environment, so the throughput is not representative of the actual performance.<br>                    </strong>"
      ],
      "text/plain": [
       "<IPython.core.display.HTML object>"
      ]
     },
     "metadata": {},
     "output_type": "display_data"
    },
    {
     "name": "stdout",
     "output_type": "stream",
     "text": [
      "Server started on http://localhost:31940\n"
     ]
    }
   ],
   "source": [
    "server_process, port = launch_server_cmd(\n",
    "    \"python -m sglang.launch_server --model-path Qwen/Qwen2.5-VL-7B-Instruct --host 0.0.0.0\"\n",
    ")\n",
    "\n",
    "wait_for_server(f\"http://localhost:{port}\")\n",
    "print(f\"Server started on http://localhost:{port}\")"
   ]
  },
  {
   "cell_type": "code",
   "execution_count": 15,
   "metadata": {
    "execution": {
     "iopub.execute_input": "2025-02-27T04:46:25.613820Z",
     "iopub.status.busy": "2025-02-27T04:46:25.613480Z",
     "iopub.status.idle": "2025-02-27T04:46:25.618937Z",
     "shell.execute_reply": "2025-02-27T04:46:25.618352Z"
    }
   },
   "outputs": [
    {
     "name": "stdout",
     "output_type": "stream",
     "text": [
      "[2025-02-27 04:46:25] INFO:     127.0.0.1:53938 - \"GET /get_model_info HTTP/1.1\" 200 OK\n"
     ]
    }
   ],
   "source": [
    "set_default_backend(RuntimeEndpoint(f\"http://localhost:{port}\"))"
   ]
  },
  {
   "cell_type": "markdown",
   "metadata": {},
   "source": [
    "Ask a question about an image."
   ]
  },
  {
   "cell_type": "code",
   "execution_count": 16,
   "metadata": {
    "execution": {
     "iopub.execute_input": "2025-02-27T04:46:25.620585Z",
     "iopub.status.busy": "2025-02-27T04:46:25.620283Z",
     "iopub.status.idle": "2025-02-27T04:46:39.159009Z",
     "shell.execute_reply": "2025-02-27T04:46:39.158352Z"
    }
   },
   "outputs": [
    {
     "name": "stdout",
     "output_type": "stream",
     "text": [
      "[2025-02-27 04:46:34 TP0] Prefill batch. #new-seq: 1, #new-token: 307, #cached-token: 0, cache hit rate: 0.00%, token usage: 0.00, #running-req: 0, #queue-req: 0\n"
     ]
    },
    {
     "name": "stdout",
     "output_type": "stream",
     "text": [
      "[2025-02-27 04:46:38 TP0] Decode batch. #running-req: 1, #token: 340, token usage: 0.02, gen throughput (token/s): 2.17, #queue-req: 0\n"
     ]
    },
    {
     "name": "stdout",
     "output_type": "stream",
     "text": [
      "[2025-02-27 04:46:38 TP0] Decode batch. #running-req: 1, #token: 380, token usage: 0.02, gen throughput (token/s): 60.66, #queue-req: 0\n"
     ]
    },
    {
     "name": "stdout",
     "output_type": "stream",
     "text": [
      "[2025-02-27 04:46:39] INFO:     127.0.0.1:58490 - \"POST /generate HTTP/1.1\" 200 OK\n"
     ]
    },
    {
     "data": {
      "text/html": [
       "<strong style='color: #00008B;'>The image shows a person balancing Sanders t-shirts across a vertical standitarium on the back of a taxi cab parked in what appears to be an urban setting. A yellow taxicab is parked on the left, and an iron is set on a topmost tier common to those used forв vertical advertising displays, attempting seemingly to present or repurpose it to drive awareness about breaking news, presumably Sanders supporters Narendra and Cathy Sanders due to the context.</strong>"
      ],
      "text/plain": [
       "<IPython.core.display.HTML object>"
      ]
     },
     "metadata": {},
     "output_type": "display_data"
    }
   ],
   "source": [
    "@function\n",
    "def image_qa(s, image_file, question):\n",
    "    s += user(image(image_file) + question)\n",
    "    s += assistant(gen(\"answer\", max_tokens=256))\n",
    "\n",
    "\n",
    "image_url = \"https://github.com/sgl-project/sglang/blob/main/test/lang/example_image.png?raw=true\"\n",
    "image_bytes, _ = load_image(image_url)\n",
    "state = image_qa(image_bytes, \"What is in the image?\")\n",
    "print_highlight(state[\"answer\"])"
   ]
  },
  {
   "cell_type": "code",
   "execution_count": 17,
   "metadata": {
    "execution": {
     "iopub.execute_input": "2025-02-27T04:46:39.160911Z",
     "iopub.status.busy": "2025-02-27T04:46:39.160595Z",
     "iopub.status.idle": "2025-02-27T04:46:39.236110Z",
     "shell.execute_reply": "2025-02-27T04:46:39.235438Z"
    }
   },
   "outputs": [],
   "source": [
    "terminate_process(server_process)"
   ]
  }
 ],
 "metadata": {
  "language_info": {
   "codemirror_mode": {
    "name": "ipython",
    "version": 3
   },
   "file_extension": ".py",
   "mimetype": "text/x-python",
   "name": "python",
   "nbconvert_exporter": "python",
   "pygments_lexer": "ipython3",
   "version": "3.9.21"
  }
 },
 "nbformat": 4,
 "nbformat_minor": 2
}
