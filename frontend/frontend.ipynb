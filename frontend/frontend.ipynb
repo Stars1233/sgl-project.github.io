{
 "cells": [
  {
   "cell_type": "markdown",
   "metadata": {},
   "source": [
    "# SGLang Frontend Language"
   ]
  },
  {
   "cell_type": "markdown",
   "metadata": {},
   "source": [
    "SGLang frontend language can be used to define simple and easy prompts in a convenient, structured way."
   ]
  },
  {
   "cell_type": "markdown",
   "metadata": {},
   "source": [
    "## Launch A Server\n",
    "\n",
    "Launch the server in your terminal and wait for it to initialize."
   ]
  },
  {
   "cell_type": "code",
   "execution_count": 1,
   "metadata": {
    "execution": {
     "iopub.execute_input": "2025-02-27T06:22:01.972682Z",
     "iopub.status.busy": "2025-02-27T06:22:01.972410Z",
     "iopub.status.idle": "2025-02-27T06:23:03.905970Z",
     "shell.execute_reply": "2025-02-27T06:23:03.905227Z"
    }
   },
   "outputs": [
    {
     "name": "stdout",
     "output_type": "stream",
     "text": [
      "[2025-02-27 06:22:33] server_args=ServerArgs(model_path='Qwen/Qwen2.5-7B-Instruct', tokenizer_path='Qwen/Qwen2.5-7B-Instruct', tokenizer_mode='auto', load_format='auto', trust_remote_code=False, dtype='auto', kv_cache_dtype='auto', quantization_param_path=None, quantization=None, context_length=None, device='cuda', served_model_name='Qwen/Qwen2.5-7B-Instruct', chat_template=None, is_embedding=False, revision=None, skip_tokenizer_init=False, host='0.0.0.0', port=36857, mem_fraction_static=0.88, max_running_requests=200, max_total_tokens=20480, chunked_prefill_size=8192, max_prefill_tokens=16384, schedule_policy='lpm', schedule_conservativeness=1.0, cpu_offload_gb=0, prefill_only_one_req=False, tp_size=1, stream_interval=1, stream_output=False, random_seed=215232978, constrained_json_whitespace_pattern=None, watchdog_timeout=300, dist_timeout=None, download_dir=None, base_gpu_id=0, log_level='info', log_level_http=None, log_requests=False, show_time_cost=False, enable_metrics=False, decode_log_interval=40, api_key=None, file_storage_pth='sglang_storage', enable_cache_report=False, dp_size=1, load_balance_method='round_robin', ep_size=1, dist_init_addr=None, nnodes=1, node_rank=0, json_model_override_args='{}', lora_paths=None, max_loras_per_batch=8, lora_backend='triton', attention_backend='flashinfer', sampling_backend='flashinfer', grammar_backend='outlines', speculative_draft_model_path=None, speculative_algorithm=None, speculative_num_steps=5, speculative_eagle_topk=8, speculative_num_draft_tokens=64, enable_double_sparsity=False, ds_channel_config_path=None, ds_heavy_channel_num=32, ds_heavy_token_num=256, ds_heavy_channel_type='qk', ds_sparse_decode_threshold=4096, disable_radix_cache=False, disable_jump_forward=False, disable_cuda_graph=True, disable_cuda_graph_padding=False, enable_nccl_nvls=False, disable_outlines_disk_cache=False, disable_custom_all_reduce=False, disable_mla=False, disable_overlap_schedule=False, enable_mixed_chunk=False, enable_dp_attention=False, enable_ep_moe=False, enable_torch_compile=False, torch_compile_max_bs=32, cuda_graph_max_bs=160, cuda_graph_bs=None, torchao_config='', enable_nan_detection=False, enable_p2p_check=False, triton_attention_reduce_in_fp32=False, triton_attention_num_kv_splits=8, num_continuous_decode_steps=1, delete_ckpt_after_loading=False, enable_memory_saver=False, allow_auto_truncate=False, enable_custom_logit_processor=False, tool_call_parser=None, enable_hierarchical_cache=False, enable_flashinfer_mla=False)\n"
     ]
    },
    {
     "name": "stdout",
     "output_type": "stream",
     "text": [
      "[2025-02-27 06:22:53 TP0] Init torch distributed begin.\n",
      "[2025-02-27 06:22:53 TP0] Load weight begin. avail mem=62.69 GB\n"
     ]
    },
    {
     "name": "stdout",
     "output_type": "stream",
     "text": [
      "[2025-02-27 06:22:53 TP0] The following error message 'operation scheduled before its operands' can be ignored.\n"
     ]
    },
    {
     "name": "stdout",
     "output_type": "stream",
     "text": [
      "[2025-02-27 06:22:54 TP0] Using model weights format ['*.safetensors']\n",
      "\r",
      "Loading safetensors checkpoint shards:   0% Completed | 0/4 [00:00<?, ?it/s]\n"
     ]
    },
    {
     "name": "stdout",
     "output_type": "stream",
     "text": [
      "\r",
      "Loading safetensors checkpoint shards:  25% Completed | 1/4 [00:00<00:02,  1.31it/s]\n"
     ]
    },
    {
     "name": "stdout",
     "output_type": "stream",
     "text": [
      "\r",
      "Loading safetensors checkpoint shards:  50% Completed | 2/4 [00:01<00:01,  1.23it/s]\n"
     ]
    },
    {
     "name": "stdout",
     "output_type": "stream",
     "text": [
      "\r",
      "Loading safetensors checkpoint shards:  75% Completed | 3/4 [00:02<00:00,  1.13it/s]\n"
     ]
    },
    {
     "name": "stdout",
     "output_type": "stream",
     "text": [
      "\r",
      "Loading safetensors checkpoint shards: 100% Completed | 4/4 [00:03<00:00,  1.19it/s]\n",
      "\r",
      "Loading safetensors checkpoint shards: 100% Completed | 4/4 [00:03<00:00,  1.19it/s]\n",
      "\n",
      "[2025-02-27 06:22:57 TP0] Load weight end. type=Qwen2ForCausalLM, dtype=torch.bfloat16, avail mem=30.50 GB\n",
      "[2025-02-27 06:22:57 TP0] KV Cache is allocated. K size: 0.55 GB, V size: 0.55 GB.\n",
      "[2025-02-27 06:22:57 TP0] Memory pool end. avail mem=29.28 GB\n"
     ]
    },
    {
     "name": "stdout",
     "output_type": "stream",
     "text": [
      "[2025-02-27 06:22:58 TP0] max_total_num_tokens=20480, chunked_prefill_size=8192, max_prefill_tokens=16384, max_running_requests=200, context_len=32768\n"
     ]
    },
    {
     "name": "stdout",
     "output_type": "stream",
     "text": [
      "[2025-02-27 06:22:58] INFO:     Started server process [2559372]\n",
      "[2025-02-27 06:22:58] INFO:     Waiting for application startup.\n",
      "[2025-02-27 06:22:58] INFO:     Application startup complete.\n",
      "[2025-02-27 06:22:58] INFO:     Uvicorn running on http://0.0.0.0:36857 (Press CTRL+C to quit)\n"
     ]
    },
    {
     "name": "stdout",
     "output_type": "stream",
     "text": [
      "[2025-02-27 06:22:58] INFO:     127.0.0.1:59670 - \"GET /v1/models HTTP/1.1\" 200 OK\n"
     ]
    },
    {
     "name": "stdout",
     "output_type": "stream",
     "text": [
      "[2025-02-27 06:22:59] INFO:     127.0.0.1:59686 - \"GET /get_model_info HTTP/1.1\" 200 OK\n",
      "[2025-02-27 06:22:59 TP0] Prefill batch. #new-seq: 1, #new-token: 6, #cached-token: 0, cache hit rate: 0.00%, token usage: 0.00, #running-req: 0, #queue-req: 0\n"
     ]
    },
    {
     "data": {
      "text/html": [
       "<strong style='color: #00008B;'><br><br>                    NOTE: Typically, the server runs in a separate terminal.<br>                    In this notebook, we run the server and notebook code together, so their outputs are combined.<br>                    To improve clarity, the server logs are displayed in the original black color, while the notebook outputs are highlighted in blue.<br>                    We are running those notebooks in a CI parallel environment, so the throughput is not representative of the actual performance.<br>                    </strong>"
      ],
      "text/plain": [
       "<IPython.core.display.HTML object>"
      ]
     },
     "metadata": {},
     "output_type": "display_data"
    },
    {
     "name": "stdout",
     "output_type": "stream",
     "text": [
      "Server started on http://localhost:36857\n"
     ]
    }
   ],
   "source": [
    "import requests\n",
    "import os\n",
    "\n",
    "from sglang import assistant_begin, assistant_end\n",
    "from sglang import assistant, function, gen, system, user\n",
    "from sglang import image\n",
    "from sglang import RuntimeEndpoint, set_default_backend\n",
    "from sglang.srt.utils import load_image\n",
    "from sglang.test.test_utils import is_in_ci\n",
    "from sglang.utils import print_highlight, terminate_process, wait_for_server\n",
    "\n",
    "if is_in_ci():\n",
    "    from patch import launch_server_cmd\n",
    "else:\n",
    "    from sglang.utils import launch_server_cmd\n",
    "\n",
    "\n",
    "server_process, port = launch_server_cmd(\n",
    "    \"python -m sglang.launch_server --model-path Qwen/Qwen2.5-7B-Instruct --host 0.0.0.0\"\n",
    ")\n",
    "\n",
    "wait_for_server(f\"http://localhost:{port}\")\n",
    "print(f\"Server started on http://localhost:{port}\")"
   ]
  },
  {
   "cell_type": "markdown",
   "metadata": {},
   "source": [
    "Set the default backend. Note: Besides the local server, you may use also `OpenAI` or other API endpoints."
   ]
  },
  {
   "cell_type": "code",
   "execution_count": 2,
   "metadata": {
    "execution": {
     "iopub.execute_input": "2025-02-27T06:23:03.908171Z",
     "iopub.status.busy": "2025-02-27T06:23:03.907841Z",
     "iopub.status.idle": "2025-02-27T06:23:03.914261Z",
     "shell.execute_reply": "2025-02-27T06:23:03.913760Z"
    }
   },
   "outputs": [
    {
     "name": "stdout",
     "output_type": "stream",
     "text": [
      "[2025-02-27 06:23:03] INFO:     127.0.0.1:59706 - \"GET /get_model_info HTTP/1.1\" 200 OK\n"
     ]
    }
   ],
   "source": [
    "set_default_backend(RuntimeEndpoint(f\"http://localhost:{port}\"))"
   ]
  },
  {
   "cell_type": "markdown",
   "metadata": {},
   "source": [
    "## Basic Usage\n",
    "\n",
    "The most simple way of using SGLang frontend language is a simple question answer dialog between a user and an assistant."
   ]
  },
  {
   "cell_type": "code",
   "execution_count": 3,
   "metadata": {
    "execution": {
     "iopub.execute_input": "2025-02-27T06:23:03.915703Z",
     "iopub.status.busy": "2025-02-27T06:23:03.915547Z",
     "iopub.status.idle": "2025-02-27T06:23:03.918563Z",
     "shell.execute_reply": "2025-02-27T06:23:03.918137Z"
    }
   },
   "outputs": [],
   "source": [
    "@function\n",
    "def basic_qa(s, question):\n",
    "    s += system(f\"You are a helpful assistant than can answer questions.\")\n",
    "    s += user(question)\n",
    "    s += assistant(gen(\"answer\", max_tokens=512))"
   ]
  },
  {
   "cell_type": "code",
   "execution_count": 4,
   "metadata": {
    "execution": {
     "iopub.execute_input": "2025-02-27T06:23:03.919857Z",
     "iopub.status.busy": "2025-02-27T06:23:03.919700Z",
     "iopub.status.idle": "2025-02-27T06:23:05.515735Z",
     "shell.execute_reply": "2025-02-27T06:23:05.515207Z"
    }
   },
   "outputs": [
    {
     "name": "stdout",
     "output_type": "stream",
     "text": [
      "[2025-02-27 06:23:04 TP0] Prefill batch. #new-seq: 1, #new-token: 31, #cached-token: 0, cache hit rate: 0.00%, token usage: 0.00, #running-req: 1, #queue-req: 0\n"
     ]
    },
    {
     "name": "stdout",
     "output_type": "stream",
     "text": [
      "[2025-02-27 06:23:05] INFO:     127.0.0.1:59700 - \"POST /generate HTTP/1.1\" 200 OK\n",
      "[2025-02-27 06:23:05] The server is fired up and ready to roll!\n"
     ]
    },
    {
     "name": "stdout",
     "output_type": "stream",
     "text": [
      "[2025-02-27 06:23:05] INFO:     127.0.0.1:59712 - \"POST /generate HTTP/1.1\" 200 OK\n"
     ]
    },
    {
     "data": {
      "text/html": [
       "<strong style='color: #00008B;'>Certainly! Here are three countries along with their capitals:<br><br>1. France - Paris<br>2. Japan - Tokyo<br>3. Brazil - Brasília</strong>"
      ],
      "text/plain": [
       "<IPython.core.display.HTML object>"
      ]
     },
     "metadata": {},
     "output_type": "display_data"
    }
   ],
   "source": [
    "state = basic_qa(\"List 3 countries and their capitals.\")\n",
    "print_highlight(state[\"answer\"])"
   ]
  },
  {
   "cell_type": "markdown",
   "metadata": {},
   "source": [
    "## Multi-turn Dialog\n",
    "\n",
    "SGLang frontend language can also be used to define multi-turn dialogs."
   ]
  },
  {
   "cell_type": "code",
   "execution_count": 5,
   "metadata": {
    "execution": {
     "iopub.execute_input": "2025-02-27T06:23:05.517542Z",
     "iopub.status.busy": "2025-02-27T06:23:05.517338Z",
     "iopub.status.idle": "2025-02-27T06:23:06.640049Z",
     "shell.execute_reply": "2025-02-27T06:23:06.639575Z"
    }
   },
   "outputs": [
    {
     "name": "stdout",
     "output_type": "stream",
     "text": [
      "[2025-02-27 06:23:05 TP0] Prefill batch. #new-seq: 1, #new-token: 18, #cached-token: 18, cache hit rate: 24.66%, token usage: 0.00, #running-req: 0, #queue-req: 0\n",
      "[2025-02-27 06:23:05 TP0] Decode batch. #running-req: 1, #token: 46, token usage: 0.00, gen throughput (token/s): 6.44, #queue-req: 0\n"
     ]
    },
    {
     "name": "stdout",
     "output_type": "stream",
     "text": [
      "[2025-02-27 06:23:06] INFO:     127.0.0.1:44854 - \"POST /generate HTTP/1.1\" 200 OK\n"
     ]
    },
    {
     "data": {
      "text/html": [
       "<strong style='color: #00008B;'>Certainly! Here is a list of three countries and their respective capitals:<br><br>1. France - Paris<br>2. Germany - Berlin<br>3. Japan - Tokyo</strong>"
      ],
      "text/plain": [
       "<IPython.core.display.HTML object>"
      ]
     },
     "metadata": {},
     "output_type": "display_data"
    },
    {
     "name": "stdout",
     "output_type": "stream",
     "text": [
      "[2025-02-27 06:23:06 TP0] Prefill batch. #new-seq: 1, #new-token: 23, #cached-token: 67, cache hit rate: 52.15%, token usage: 0.00, #running-req: 0, #queue-req: 0\n"
     ]
    },
    {
     "name": "stdout",
     "output_type": "stream",
     "text": [
      "[2025-02-27 06:23:06 TP0] Decode batch. #running-req: 1, #token: 108, token usage: 0.01, gen throughput (token/s): 57.52, #queue-req: 0\n"
     ]
    },
    {
     "name": "stdout",
     "output_type": "stream",
     "text": [
      "[2025-02-27 06:23:06] INFO:     127.0.0.1:44866 - \"POST /generate HTTP/1.1\" 200 OK\n"
     ]
    },
    {
     "data": {
      "text/html": [
       "<strong style='color: #00008B;'>Of course! Here is another list of three countries and their capitals:<br><br>1. Mexico - Mexico City<br>2. Italy - Rome<br>3. Australia - Canberra</strong>"
      ],
      "text/plain": [
       "<IPython.core.display.HTML object>"
      ]
     },
     "metadata": {},
     "output_type": "display_data"
    }
   ],
   "source": [
    "@function\n",
    "def multi_turn_qa(s):\n",
    "    s += system(f\"You are a helpful assistant than can answer questions.\")\n",
    "    s += user(\"Please give me a list of 3 countries and their capitals.\")\n",
    "    s += assistant(gen(\"first_answer\", max_tokens=512))\n",
    "    s += user(\"Please give me another list of 3 countries and their capitals.\")\n",
    "    s += assistant(gen(\"second_answer\", max_tokens=512))\n",
    "    return s\n",
    "\n",
    "\n",
    "state = multi_turn_qa()\n",
    "print_highlight(state[\"first_answer\"])\n",
    "print_highlight(state[\"second_answer\"])"
   ]
  },
  {
   "cell_type": "markdown",
   "metadata": {},
   "source": [
    "## Control flow\n",
    "\n",
    "You may use any Python code within the function to define more complex control flows."
   ]
  },
  {
   "cell_type": "code",
   "execution_count": 6,
   "metadata": {
    "execution": {
     "iopub.execute_input": "2025-02-27T06:23:06.641649Z",
     "iopub.status.busy": "2025-02-27T06:23:06.641485Z",
     "iopub.status.idle": "2025-02-27T06:23:07.194160Z",
     "shell.execute_reply": "2025-02-27T06:23:07.193685Z"
    }
   },
   "outputs": [
    {
     "name": "stdout",
     "output_type": "stream",
     "text": [
      "[2025-02-27 06:23:06 TP0] Prefill batch. #new-seq: 1, #new-token: 25, #cached-token: 8, cache hit rate: 47.45%, token usage: 0.00, #running-req: 0, #queue-req: 0\n",
      "[2025-02-27 06:23:06] INFO:     127.0.0.1:44870 - \"POST /generate HTTP/1.1\" 200 OK\n",
      "[2025-02-27 06:23:06 TP0] Prefill batch. #new-seq: 1, #new-token: 2, #cached-token: 31, cache hit rate: 54.15%, token usage: 0.00, #running-req: 0, #queue-req: 0\n",
      "[2025-02-27 06:23:06 TP0] Prefill batch. #new-seq: 1, #new-token: 3, #cached-token: 31, cache hit rate: 58.94%, token usage: 0.00, #running-req: 1, #queue-req: 0\n",
      "[2025-02-27 06:23:06] INFO:     127.0.0.1:44878 - \"POST /generate HTTP/1.1\" 200 OK\n"
     ]
    },
    {
     "data": {
      "text/html": [
       "<strong style='color: #00008B;'>calculator</strong>"
      ],
      "text/plain": [
       "<IPython.core.display.HTML object>"
      ]
     },
     "metadata": {},
     "output_type": "display_data"
    },
    {
     "name": "stdout",
     "output_type": "stream",
     "text": [
      "[2025-02-27 06:23:06 TP0] Prefill batch. #new-seq: 1, #new-token: 13, #cached-token: 33, cache hit rate: 60.84%, token usage: 0.00, #running-req: 0, #queue-req: 0\n"
     ]
    },
    {
     "name": "stdout",
     "output_type": "stream",
     "text": [
      "[2025-02-27 06:23:07 TP0] Decode batch. #running-req: 1, #token: 69, token usage: 0.00, gen throughput (token/s): 62.87, #queue-req: 0\n",
      "[2025-02-27 06:23:07] INFO:     127.0.0.1:44894 - \"POST /generate HTTP/1.1\" 200 OK\n"
     ]
    },
    {
     "data": {
      "text/html": [
       "<strong style='color: #00008B;'>2 * 2.<br><br>Let's calculate it directly without needing a calculator:<br><br>2 * 2 = 4<br><br>So, the answer is 4.</strong>"
      ],
      "text/plain": [
       "<IPython.core.display.HTML object>"
      ]
     },
     "metadata": {},
     "output_type": "display_data"
    }
   ],
   "source": [
    "@function\n",
    "def tool_use(s, question):\n",
    "    s += assistant(\n",
    "        \"To answer this question: \"\n",
    "        + question\n",
    "        + \". I need to use a \"\n",
    "        + gen(\"tool\", choices=[\"calculator\", \"search engine\"])\n",
    "        + \". \"\n",
    "    )\n",
    "\n",
    "    if s[\"tool\"] == \"calculator\":\n",
    "        s += assistant(\"The math expression is: \" + gen(\"expression\"))\n",
    "    elif s[\"tool\"] == \"search engine\":\n",
    "        s += assistant(\"The key word to search is: \" + gen(\"word\"))\n",
    "\n",
    "\n",
    "state = tool_use(\"What is 2 * 2?\")\n",
    "print_highlight(state[\"tool\"])\n",
    "print_highlight(state[\"expression\"])"
   ]
  },
  {
   "cell_type": "markdown",
   "metadata": {},
   "source": [
    "## Parallelism\n",
    "\n",
    "Use `fork` to launch parallel prompts. Because `sgl.gen` is non-blocking, the for loop below issues two generation calls in parallel."
   ]
  },
  {
   "cell_type": "code",
   "execution_count": 7,
   "metadata": {
    "execution": {
     "iopub.execute_input": "2025-02-27T06:23:07.196029Z",
     "iopub.status.busy": "2025-02-27T06:23:07.195632Z",
     "iopub.status.idle": "2025-02-27T06:23:12.375811Z",
     "shell.execute_reply": "2025-02-27T06:23:12.375301Z"
    }
   },
   "outputs": [
    {
     "name": "stdout",
     "output_type": "stream",
     "text": [
      "[2025-02-27 06:23:07 TP0] Prefill batch. #new-seq: 1, #new-token: 35, #cached-token: 14, cache hit rate: 56.42%, token usage: 0.00, #running-req: 0, #queue-req: 0\n",
      "[2025-02-27 06:23:07 TP0] Prefill batch. #new-seq: 1, #new-token: 35, #cached-token: 14, cache hit rate: 53.07%, token usage: 0.00, #running-req: 1, #queue-req: 0\n"
     ]
    },
    {
     "name": "stdout",
     "output_type": "stream",
     "text": [
      "[2025-02-27 06:23:07 TP0] Decode batch. #running-req: 2, #token: 116, token usage: 0.01, gen throughput (token/s): 97.45, #queue-req: 0\n"
     ]
    },
    {
     "name": "stdout",
     "output_type": "stream",
     "text": [
      "[2025-02-27 06:23:08 TP0] Decode batch. #running-req: 2, #token: 196, token usage: 0.01, gen throughput (token/s): 119.17, #queue-req: 0\n"
     ]
    },
    {
     "name": "stdout",
     "output_type": "stream",
     "text": [
      "[2025-02-27 06:23:09 TP0] Decode batch. #running-req: 2, #token: 276, token usage: 0.01, gen throughput (token/s): 114.68, #queue-req: 0\n"
     ]
    },
    {
     "name": "stdout",
     "output_type": "stream",
     "text": [
      "[2025-02-27 06:23:09 TP0] Decode batch. #running-req: 2, #token: 356, token usage: 0.02, gen throughput (token/s): 115.07, #queue-req: 0\n"
     ]
    },
    {
     "name": "stdout",
     "output_type": "stream",
     "text": [
      "[2025-02-27 06:23:10] INFO:     127.0.0.1:44906 - \"POST /generate HTTP/1.1\" 200 OK\n",
      "[2025-02-27 06:23:10] INFO:     127.0.0.1:44896 - \"POST /generate HTTP/1.1\" 200 OK\n",
      "[2025-02-27 06:23:10 TP0] Prefill batch. #new-seq: 1, #new-token: 361, #cached-token: 39, cache hit rate: 31.60%, token usage: 0.00, #running-req: 0, #queue-req: 0\n"
     ]
    },
    {
     "name": "stdout",
     "output_type": "stream",
     "text": [
      "[2025-02-27 06:23:10 TP0] Decode batch. #running-req: 1, #token: 422, token usage: 0.02, gen throughput (token/s): 77.41, #queue-req: 0\n"
     ]
    },
    {
     "name": "stdout",
     "output_type": "stream",
     "text": [
      "[2025-02-27 06:23:11 TP0] Decode batch. #running-req: 1, #token: 462, token usage: 0.02, gen throughput (token/s): 58.88, #queue-req: 0\n"
     ]
    },
    {
     "name": "stdout",
     "output_type": "stream",
     "text": [
      "[2025-02-27 06:23:11 TP0] Decode batch. #running-req: 1, #token: 502, token usage: 0.02, gen throughput (token/s): 59.86, #queue-req: 0\n"
     ]
    },
    {
     "name": "stdout",
     "output_type": "stream",
     "text": [
      "[2025-02-27 06:23:12] INFO:     127.0.0.1:44912 - \"POST /generate HTTP/1.1\" 200 OK\n"
     ]
    },
    {
     "data": {
      "text/html": [
       "<strong style='color: #00008B;'>1. **Balanced Diet**: Eating a variety of nutritious foods like fruits, vegetables, whole grains, lean proteins, and healthy fats is essential for overall health. This helps provide the necessary vitamins, minerals, and other nutrients that support immune function, energy, and overall well-being.<br>2. **Regular Exercise**: Engaging in regular physical activity, whether through aerobic exercises or strength training, can significantly enhance your health. Exercise helps improve cardiovascular health, strengthen muscles, manage weight, reduce stress, and improve sleep quality. Consistency is key to maintaining these benefits.<br><br>Does this help, or would you like more detailed information on either of these topics?</strong>"
      ],
      "text/plain": [
       "<IPython.core.display.HTML object>"
      ]
     },
     "metadata": {},
     "output_type": "display_data"
    }
   ],
   "source": [
    "@function\n",
    "def tip_suggestion(s):\n",
    "    s += assistant(\n",
    "        \"Here are two tips for staying healthy: \"\n",
    "        \"1. Balanced Diet. 2. Regular Exercise.\\n\\n\"\n",
    "    )\n",
    "\n",
    "    forks = s.fork(2)\n",
    "    for i, f in enumerate(forks):\n",
    "        f += assistant(\n",
    "            f\"Now, expand tip {i+1} into a paragraph:\\n\"\n",
    "            + gen(\"detailed_tip\", max_tokens=256, stop=\"\\n\\n\")\n",
    "        )\n",
    "\n",
    "    s += assistant(\"Tip 1:\" + forks[0][\"detailed_tip\"] + \"\\n\")\n",
    "    s += assistant(\"Tip 2:\" + forks[1][\"detailed_tip\"] + \"\\n\")\n",
    "    s += assistant(\n",
    "        \"To summarize the above two tips, I can say:\\n\" + gen(\"summary\", max_tokens=512)\n",
    "    )\n",
    "\n",
    "\n",
    "state = tip_suggestion()\n",
    "print_highlight(state[\"summary\"])"
   ]
  },
  {
   "cell_type": "markdown",
   "metadata": {},
   "source": [
    "## Constrained Decoding\n",
    "\n",
    "Use `regex` to specify a regular expression as a decoding constraint. This is only supported for local models."
   ]
  },
  {
   "cell_type": "code",
   "execution_count": 8,
   "metadata": {
    "execution": {
     "iopub.execute_input": "2025-02-27T06:23:12.377477Z",
     "iopub.status.busy": "2025-02-27T06:23:12.377308Z",
     "iopub.status.idle": "2025-02-27T06:23:26.665592Z",
     "shell.execute_reply": "2025-02-27T06:23:26.664932Z"
    }
   },
   "outputs": [
    {
     "name": "stdout",
     "output_type": "stream",
     "text": [
      "\r",
      "Compiling FSM index for all state transitions:   0%|          | 0/69 [00:00<?, ?it/s]"
     ]
    },
    {
     "name": "stdout",
     "output_type": "stream",
     "text": [
      "\r",
      "Compiling FSM index for all state transitions:   1%|▏         | 1/69 [00:00<00:18,  3.61it/s]\r",
      "Compiling FSM index for all state transitions:   6%|▌         | 4/69 [00:00<00:05, 11.11it/s]"
     ]
    },
    {
     "name": "stdout",
     "output_type": "stream",
     "text": [
      "\r",
      "Compiling FSM index for all state transitions:  12%|█▏        | 8/69 [00:00<00:03, 18.10it/s]\r",
      "Compiling FSM index for all state transitions:  16%|█▌        | 11/69 [00:00<00:02, 20.45it/s]"
     ]
    },
    {
     "name": "stdout",
     "output_type": "stream",
     "text": [
      "\r",
      "Compiling FSM index for all state transitions:  20%|██        | 14/69 [00:00<00:02, 22.88it/s]\r",
      "Compiling FSM index for all state transitions:  25%|██▍       | 17/69 [00:00<00:02, 24.77it/s]"
     ]
    },
    {
     "name": "stdout",
     "output_type": "stream",
     "text": [
      "\r",
      "Compiling FSM index for all state transitions:  29%|██▉       | 20/69 [00:01<00:02, 23.89it/s]\r",
      "Compiling FSM index for all state transitions:  35%|███▍      | 24/69 [00:01<00:01, 25.99it/s]"
     ]
    },
    {
     "name": "stdout",
     "output_type": "stream",
     "text": [
      "\r",
      "Compiling FSM index for all state transitions:  41%|████      | 28/69 [00:01<00:01, 28.48it/s]\r",
      "Compiling FSM index for all state transitions:  46%|████▋     | 32/69 [00:01<00:01, 29.17it/s]"
     ]
    },
    {
     "name": "stdout",
     "output_type": "stream",
     "text": [
      "\r",
      "Compiling FSM index for all state transitions:  51%|█████     | 35/69 [00:01<00:01, 26.99it/s]\r",
      "Compiling FSM index for all state transitions:  55%|█████▌    | 38/69 [00:01<00:01, 25.45it/s]"
     ]
    },
    {
     "name": "stdout",
     "output_type": "stream",
     "text": [
      "\r",
      "Compiling FSM index for all state transitions:  59%|█████▉    | 41/69 [00:01<00:01, 24.35it/s]\r",
      "Compiling FSM index for all state transitions:  64%|██████▍   | 44/69 [00:01<00:00, 25.42it/s]"
     ]
    },
    {
     "name": "stdout",
     "output_type": "stream",
     "text": [
      "\r",
      "Compiling FSM index for all state transitions:  68%|██████▊   | 47/69 [00:01<00:00, 26.46it/s]\r",
      "Compiling FSM index for all state transitions:  72%|███████▏  | 50/69 [00:02<00:00, 25.09it/s]"
     ]
    },
    {
     "name": "stdout",
     "output_type": "stream",
     "text": [
      "\r",
      "Compiling FSM index for all state transitions:  77%|███████▋  | 53/69 [00:02<00:00, 24.21it/s]\r",
      "Compiling FSM index for all state transitions:  81%|████████  | 56/69 [00:02<00:00, 23.62it/s]"
     ]
    },
    {
     "name": "stdout",
     "output_type": "stream",
     "text": [
      "\r",
      "Compiling FSM index for all state transitions:  86%|████████▌ | 59/69 [00:02<00:00, 13.75it/s]\r",
      "Compiling FSM index for all state transitions:  91%|█████████▏| 63/69 [00:02<00:00, 17.04it/s]"
     ]
    },
    {
     "name": "stdout",
     "output_type": "stream",
     "text": [
      "\r",
      "Compiling FSM index for all state transitions:  96%|█████████▌| 66/69 [00:03<00:00, 18.67it/s]\r",
      "Compiling FSM index for all state transitions: 100%|██████████| 69/69 [00:03<00:00, 19.46it/s]\r",
      "Compiling FSM index for all state transitions: 100%|██████████| 69/69 [00:03<00:00, 21.37it/s]\n"
     ]
    },
    {
     "name": "stdout",
     "output_type": "stream",
     "text": [
      "[2025-02-27 06:23:25 TP0] Prefill batch. #new-seq: 1, #new-token: 18, #cached-token: 12, cache hit rate: 31.90%, token usage: 0.00, #running-req: 0, #queue-req: 0\n"
     ]
    },
    {
     "name": "stdout",
     "output_type": "stream",
     "text": [
      "[2025-02-27 06:23:26 TP0] Decode batch. #running-req: 1, #token: 41, token usage: 0.00, gen throughput (token/s): 2.71, #queue-req: 0\n",
      "[2025-02-27 06:23:26] INFO:     127.0.0.1:44920 - \"POST /generate HTTP/1.1\" 200 OK\n"
     ]
    },
    {
     "data": {
      "text/html": [
       "<strong style='color: #00008B;'>208.67.222.222</strong>"
      ],
      "text/plain": [
       "<IPython.core.display.HTML object>"
      ]
     },
     "metadata": {},
     "output_type": "display_data"
    }
   ],
   "source": [
    "@function\n",
    "def regular_expression_gen(s):\n",
    "    s += user(\"What is the IP address of the Google DNS servers?\")\n",
    "    s += assistant(\n",
    "        gen(\n",
    "            \"answer\",\n",
    "            temperature=0,\n",
    "            regex=r\"((25[0-5]|2[0-4]\\d|[01]?\\d\\d?).){3}(25[0-5]|2[0-4]\\d|[01]?\\d\\d?)\",\n",
    "        )\n",
    "    )\n",
    "\n",
    "\n",
    "state = regular_expression_gen()\n",
    "print_highlight(state[\"answer\"])"
   ]
  },
  {
   "cell_type": "markdown",
   "metadata": {},
   "source": [
    "Use `regex` to define a `JSON` decoding schema."
   ]
  },
  {
   "cell_type": "code",
   "execution_count": 9,
   "metadata": {
    "execution": {
     "iopub.execute_input": "2025-02-27T06:23:26.667312Z",
     "iopub.status.busy": "2025-02-27T06:23:26.667143Z",
     "iopub.status.idle": "2025-02-27T06:23:46.808396Z",
     "shell.execute_reply": "2025-02-27T06:23:46.807576Z"
    }
   },
   "outputs": [
    {
     "name": "stdout",
     "output_type": "stream",
     "text": [
      "\r",
      "Compiling FSM index for all state transitions:   0%|          | 0/431 [00:00<?, ?it/s]"
     ]
    },
    {
     "name": "stdout",
     "output_type": "stream",
     "text": [
      "\r",
      "Compiling FSM index for all state transitions:   0%|          | 1/431 [00:00<01:51,  3.86it/s]\r",
      "Compiling FSM index for all state transitions:   1%|          | 5/431 [00:00<00:28, 14.99it/s]"
     ]
    },
    {
     "name": "stdout",
     "output_type": "stream",
     "text": [
      "\r",
      "Compiling FSM index for all state transitions:   2%|▏         | 9/431 [00:00<00:19, 21.24it/s]\r",
      "Compiling FSM index for all state transitions:   3%|▎         | 13/431 [00:00<00:16, 25.29it/s]"
     ]
    },
    {
     "name": "stdout",
     "output_type": "stream",
     "text": [
      "\r",
      "Compiling FSM index for all state transitions:   4%|▎         | 16/431 [00:00<00:17, 23.19it/s]"
     ]
    },
    {
     "name": "stdout",
     "output_type": "stream",
     "text": [
      "\r",
      "Compiling FSM index for all state transitions:   4%|▍         | 19/431 [00:01<00:21, 18.75it/s]\r",
      "Compiling FSM index for all state transitions:   5%|▌         | 23/431 [00:01<00:18, 21.90it/s]"
     ]
    },
    {
     "name": "stdout",
     "output_type": "stream",
     "text": [
      "\r",
      "Compiling FSM index for all state transitions:   6%|▋         | 27/431 [00:01<00:16, 24.61it/s]\r",
      "Compiling FSM index for all state transitions:   7%|▋         | 31/431 [00:01<00:14, 27.01it/s]"
     ]
    },
    {
     "name": "stdout",
     "output_type": "stream",
     "text": [
      "\r",
      "Compiling FSM index for all state transitions:   8%|▊         | 34/431 [00:01<00:16, 24.49it/s]"
     ]
    },
    {
     "name": "stdout",
     "output_type": "stream",
     "text": [
      "\r",
      "Compiling FSM index for all state transitions:   9%|▊         | 37/431 [00:01<00:22, 17.74it/s]"
     ]
    },
    {
     "name": "stdout",
     "output_type": "stream",
     "text": [
      "\r",
      "Compiling FSM index for all state transitions:   9%|▉         | 40/431 [00:02<00:25, 15.30it/s]\r",
      "Compiling FSM index for all state transitions:  10%|▉         | 42/431 [00:02<00:26, 14.85it/s]"
     ]
    },
    {
     "name": "stdout",
     "output_type": "stream",
     "text": [
      "\r",
      "Compiling FSM index for all state transitions:  10%|█         | 44/431 [00:02<00:24, 15.60it/s]\r",
      "Compiling FSM index for all state transitions:  11%|█         | 47/431 [00:02<00:20, 18.30it/s]"
     ]
    },
    {
     "name": "stdout",
     "output_type": "stream",
     "text": [
      "\r",
      "Compiling FSM index for all state transitions:  12%|█▏        | 51/431 [00:02<00:17, 22.20it/s]\r",
      "Compiling FSM index for all state transitions:  13%|█▎        | 55/431 [00:02<00:14, 25.29it/s]"
     ]
    },
    {
     "name": "stdout",
     "output_type": "stream",
     "text": [
      "\r",
      "Compiling FSM index for all state transitions:  14%|█▎        | 59/431 [00:02<00:13, 27.63it/s]\r",
      "Compiling FSM index for all state transitions:  15%|█▍        | 63/431 [00:02<00:12, 29.37it/s]"
     ]
    },
    {
     "name": "stdout",
     "output_type": "stream",
     "text": [
      "\r",
      "Compiling FSM index for all state transitions:  16%|█▌        | 67/431 [00:03<00:11, 30.61it/s]\r",
      "Compiling FSM index for all state transitions:  16%|█▋        | 71/431 [00:03<00:11, 31.50it/s]"
     ]
    },
    {
     "name": "stdout",
     "output_type": "stream",
     "text": [
      "\r",
      "Compiling FSM index for all state transitions:  17%|█▋        | 75/431 [00:03<00:11, 32.03it/s]\r",
      "Compiling FSM index for all state transitions:  18%|█▊        | 79/431 [00:03<00:10, 32.33it/s]"
     ]
    },
    {
     "name": "stdout",
     "output_type": "stream",
     "text": [
      "\r",
      "Compiling FSM index for all state transitions:  19%|█▉        | 83/431 [00:03<00:11, 31.53it/s]\r",
      "Compiling FSM index for all state transitions:  20%|██        | 87/431 [00:03<00:10, 31.70it/s]"
     ]
    },
    {
     "name": "stdout",
     "output_type": "stream",
     "text": [
      "\r",
      "Compiling FSM index for all state transitions:  21%|██        | 91/431 [00:03<00:10, 31.84it/s]\r",
      "Compiling FSM index for all state transitions:  22%|██▏       | 95/431 [00:03<00:10, 32.30it/s]"
     ]
    },
    {
     "name": "stdout",
     "output_type": "stream",
     "text": [
      "\r",
      "Compiling FSM index for all state transitions:  23%|██▎       | 99/431 [00:04<00:10, 32.27it/s]\r",
      "Compiling FSM index for all state transitions:  24%|██▍       | 103/431 [00:04<00:10, 32.47it/s]"
     ]
    },
    {
     "name": "stdout",
     "output_type": "stream",
     "text": [
      "\r",
      "Compiling FSM index for all state transitions:  25%|██▍       | 107/431 [00:04<00:09, 32.61it/s]\r",
      "Compiling FSM index for all state transitions:  26%|██▌       | 111/431 [00:04<00:09, 32.58it/s]"
     ]
    },
    {
     "name": "stdout",
     "output_type": "stream",
     "text": [
      "\r",
      "Compiling FSM index for all state transitions:  27%|██▋       | 115/431 [00:04<00:09, 32.80it/s]\r",
      "Compiling FSM index for all state transitions:  28%|██▊       | 119/431 [00:04<00:09, 33.03it/s]"
     ]
    },
    {
     "name": "stdout",
     "output_type": "stream",
     "text": [
      "\r",
      "Compiling FSM index for all state transitions:  29%|██▊       | 123/431 [00:04<00:09, 32.83it/s]\r",
      "Compiling FSM index for all state transitions:  29%|██▉       | 127/431 [00:04<00:09, 32.57it/s]"
     ]
    },
    {
     "name": "stdout",
     "output_type": "stream",
     "text": [
      "\r",
      "Compiling FSM index for all state transitions:  30%|███       | 131/431 [00:05<00:09, 32.53it/s]\r",
      "Compiling FSM index for all state transitions:  31%|███▏      | 135/431 [00:05<00:09, 32.79it/s]"
     ]
    },
    {
     "name": "stdout",
     "output_type": "stream",
     "text": [
      "\r",
      "Compiling FSM index for all state transitions:  32%|███▏      | 139/431 [00:05<00:08, 32.94it/s]\r",
      "Compiling FSM index for all state transitions:  33%|███▎      | 143/431 [00:05<00:08, 32.81it/s]"
     ]
    },
    {
     "name": "stdout",
     "output_type": "stream",
     "text": [
      "\r",
      "Compiling FSM index for all state transitions:  34%|███▍      | 147/431 [00:05<00:08, 32.75it/s]\r",
      "Compiling FSM index for all state transitions:  35%|███▌      | 151/431 [00:05<00:08, 32.73it/s]"
     ]
    },
    {
     "name": "stdout",
     "output_type": "stream",
     "text": [
      "\r",
      "Compiling FSM index for all state transitions:  36%|███▌      | 155/431 [00:05<00:08, 32.65it/s]\r",
      "Compiling FSM index for all state transitions:  37%|███▋      | 159/431 [00:05<00:08, 32.79it/s]"
     ]
    },
    {
     "name": "stdout",
     "output_type": "stream",
     "text": [
      "\r",
      "Compiling FSM index for all state transitions:  38%|███▊      | 163/431 [00:05<00:08, 33.06it/s]\r",
      "Compiling FSM index for all state transitions:  39%|███▊      | 167/431 [00:06<00:07, 33.15it/s]"
     ]
    },
    {
     "name": "stdout",
     "output_type": "stream",
     "text": [
      "\r",
      "Compiling FSM index for all state transitions:  40%|███▉      | 171/431 [00:06<00:07, 33.14it/s]\r",
      "Compiling FSM index for all state transitions:  41%|████      | 175/431 [00:06<00:07, 32.92it/s]"
     ]
    },
    {
     "name": "stdout",
     "output_type": "stream",
     "text": [
      "\r",
      "Compiling FSM index for all state transitions:  42%|████▏     | 179/431 [00:06<00:07, 32.47it/s]\r",
      "Compiling FSM index for all state transitions:  42%|████▏     | 183/431 [00:06<00:07, 32.83it/s]"
     ]
    },
    {
     "name": "stdout",
     "output_type": "stream",
     "text": [
      "\r",
      "Compiling FSM index for all state transitions:  43%|████▎     | 187/431 [00:06<00:07, 33.11it/s]\r",
      "Compiling FSM index for all state transitions:  44%|████▍     | 191/431 [00:06<00:07, 33.30it/s]"
     ]
    },
    {
     "name": "stdout",
     "output_type": "stream",
     "text": [
      "\r",
      "Compiling FSM index for all state transitions:  45%|████▌     | 195/431 [00:06<00:07, 33.16it/s]\r",
      "Compiling FSM index for all state transitions:  46%|████▌     | 199/431 [00:07<00:07, 32.85it/s]"
     ]
    },
    {
     "name": "stdout",
     "output_type": "stream",
     "text": [
      "\r",
      "Compiling FSM index for all state transitions:  47%|████▋     | 203/431 [00:07<00:06, 32.72it/s]\r",
      "Compiling FSM index for all state transitions:  48%|████▊     | 207/431 [00:07<00:06, 32.97it/s]"
     ]
    },
    {
     "name": "stdout",
     "output_type": "stream",
     "text": [
      "\r",
      "Compiling FSM index for all state transitions:  49%|████▉     | 211/431 [00:07<00:06, 33.22it/s]\r",
      "Compiling FSM index for all state transitions:  50%|████▉     | 215/431 [00:07<00:06, 33.09it/s]"
     ]
    },
    {
     "name": "stdout",
     "output_type": "stream",
     "text": [
      "\r",
      "Compiling FSM index for all state transitions:  51%|█████     | 219/431 [00:07<00:06, 33.30it/s]\r",
      "Compiling FSM index for all state transitions:  52%|█████▏    | 223/431 [00:07<00:06, 33.36it/s]"
     ]
    },
    {
     "name": "stdout",
     "output_type": "stream",
     "text": [
      "\r",
      "Compiling FSM index for all state transitions:  53%|█████▎    | 227/431 [00:07<00:06, 33.53it/s]\r",
      "Compiling FSM index for all state transitions:  54%|█████▎    | 231/431 [00:08<00:06, 32.87it/s]"
     ]
    },
    {
     "name": "stdout",
     "output_type": "stream",
     "text": [
      "\r",
      "Compiling FSM index for all state transitions:  55%|█████▍    | 235/431 [00:08<00:05, 33.12it/s]\r",
      "Compiling FSM index for all state transitions:  55%|█████▌    | 239/431 [00:08<00:05, 33.57it/s]"
     ]
    },
    {
     "name": "stdout",
     "output_type": "stream",
     "text": [
      "\r",
      "Compiling FSM index for all state transitions:  56%|█████▋    | 243/431 [00:08<00:07, 25.48it/s]\r",
      "Compiling FSM index for all state transitions:  57%|█████▋    | 247/431 [00:08<00:06, 27.02it/s]"
     ]
    },
    {
     "name": "stdout",
     "output_type": "stream",
     "text": [
      "\r",
      "Compiling FSM index for all state transitions:  58%|█████▊    | 250/431 [00:08<00:06, 26.89it/s]\r",
      "Compiling FSM index for all state transitions:  59%|█████▉    | 254/431 [00:08<00:06, 28.49it/s]"
     ]
    },
    {
     "name": "stdout",
     "output_type": "stream",
     "text": [
      "\r",
      "Compiling FSM index for all state transitions:  60%|█████▉    | 258/431 [00:09<00:05, 29.90it/s]\r",
      "Compiling FSM index for all state transitions:  61%|██████    | 262/431 [00:09<00:05, 30.74it/s]"
     ]
    },
    {
     "name": "stdout",
     "output_type": "stream",
     "text": [
      "\r",
      "Compiling FSM index for all state transitions:  62%|██████▏   | 266/431 [00:09<00:08, 19.51it/s]"
     ]
    },
    {
     "name": "stdout",
     "output_type": "stream",
     "text": [
      "\r",
      "Compiling FSM index for all state transitions:  62%|██████▏   | 269/431 [00:09<00:09, 16.73it/s]"
     ]
    },
    {
     "name": "stdout",
     "output_type": "stream",
     "text": [
      "\r",
      "Compiling FSM index for all state transitions:  63%|██████▎   | 272/431 [00:09<00:09, 16.19it/s]\r",
      "Compiling FSM index for all state transitions:  64%|██████▍   | 275/431 [00:10<00:08, 17.87it/s]"
     ]
    },
    {
     "name": "stdout",
     "output_type": "stream",
     "text": [
      "\r",
      "Compiling FSM index for all state transitions:  65%|██████▍   | 278/431 [00:10<00:09, 16.60it/s]\r",
      "Compiling FSM index for all state transitions:  65%|██████▍   | 280/431 [00:10<00:10, 14.89it/s]"
     ]
    },
    {
     "name": "stdout",
     "output_type": "stream",
     "text": [
      "\r",
      "Compiling FSM index for all state transitions:  65%|██████▌   | 282/431 [00:10<00:10, 13.91it/s]\r",
      "Compiling FSM index for all state transitions:  66%|██████▌   | 284/431 [00:10<00:10, 13.61it/s]"
     ]
    },
    {
     "name": "stdout",
     "output_type": "stream",
     "text": [
      "\r",
      "Compiling FSM index for all state transitions:  66%|██████▋   | 286/431 [00:10<00:10, 14.16it/s]\r",
      "Compiling FSM index for all state transitions:  67%|██████▋   | 289/431 [00:11<00:08, 17.30it/s]"
     ]
    },
    {
     "name": "stdout",
     "output_type": "stream",
     "text": [
      "\r",
      "Compiling FSM index for all state transitions:  68%|██████▊   | 292/431 [00:11<00:07, 18.05it/s]\r",
      "Compiling FSM index for all state transitions:  69%|██████▊   | 296/431 [00:11<00:07, 19.19it/s]"
     ]
    },
    {
     "name": "stdout",
     "output_type": "stream",
     "text": [
      "\r",
      "Compiling FSM index for all state transitions:  69%|██████▉   | 298/431 [00:11<00:07, 18.34it/s]\r",
      "Compiling FSM index for all state transitions:  70%|███████   | 302/431 [00:11<00:05, 21.85it/s]"
     ]
    },
    {
     "name": "stdout",
     "output_type": "stream",
     "text": [
      "\r",
      "Compiling FSM index for all state transitions:  71%|███████   | 305/431 [00:11<00:05, 21.07it/s]\r",
      "Compiling FSM index for all state transitions:  72%|███████▏  | 309/431 [00:11<00:05, 23.94it/s]"
     ]
    },
    {
     "name": "stdout",
     "output_type": "stream",
     "text": [
      "\r",
      "Compiling FSM index for all state transitions:  73%|███████▎  | 313/431 [00:12<00:04, 26.73it/s]\r",
      "Compiling FSM index for all state transitions:  74%|███████▎  | 317/431 [00:12<00:03, 28.59it/s]"
     ]
    },
    {
     "name": "stdout",
     "output_type": "stream",
     "text": [
      "\r",
      "Compiling FSM index for all state transitions:  74%|███████▍  | 321/431 [00:12<00:03, 29.88it/s]\r",
      "Compiling FSM index for all state transitions:  75%|███████▌  | 325/431 [00:12<00:03, 30.82it/s]"
     ]
    },
    {
     "name": "stdout",
     "output_type": "stream",
     "text": [
      "\r",
      "Compiling FSM index for all state transitions:  76%|███████▋  | 329/431 [00:12<00:03, 31.20it/s]\r",
      "Compiling FSM index for all state transitions:  77%|███████▋  | 333/431 [00:12<00:03, 31.18it/s]"
     ]
    },
    {
     "name": "stdout",
     "output_type": "stream",
     "text": [
      "\r",
      "Compiling FSM index for all state transitions:  78%|███████▊  | 337/431 [00:12<00:02, 31.46it/s]\r",
      "Compiling FSM index for all state transitions:  79%|███████▉  | 341/431 [00:12<00:02, 31.67it/s]"
     ]
    },
    {
     "name": "stdout",
     "output_type": "stream",
     "text": [
      "\r",
      "Compiling FSM index for all state transitions:  80%|████████  | 345/431 [00:13<00:02, 31.62it/s]\r",
      "Compiling FSM index for all state transitions:  81%|████████  | 349/431 [00:13<00:02, 32.03it/s]"
     ]
    },
    {
     "name": "stdout",
     "output_type": "stream",
     "text": [
      "\r",
      "Compiling FSM index for all state transitions:  82%|████████▏ | 353/431 [00:13<00:02, 32.39it/s]\r",
      "Compiling FSM index for all state transitions:  83%|████████▎ | 357/431 [00:13<00:02, 32.88it/s]"
     ]
    },
    {
     "name": "stdout",
     "output_type": "stream",
     "text": [
      "\r",
      "Compiling FSM index for all state transitions:  84%|████████▍ | 361/431 [00:13<00:02, 31.91it/s]\r",
      "Compiling FSM index for all state transitions:  85%|████████▍ | 365/431 [00:13<00:02, 32.16it/s]"
     ]
    },
    {
     "name": "stdout",
     "output_type": "stream",
     "text": [
      "\r",
      "Compiling FSM index for all state transitions:  86%|████████▌ | 369/431 [00:13<00:01, 32.44it/s]\r",
      "Compiling FSM index for all state transitions:  87%|████████▋ | 373/431 [00:13<00:01, 32.63it/s]"
     ]
    },
    {
     "name": "stdout",
     "output_type": "stream",
     "text": [
      "\r",
      "Compiling FSM index for all state transitions:  87%|████████▋ | 377/431 [00:14<00:01, 32.44it/s]"
     ]
    },
    {
     "name": "stdout",
     "output_type": "stream",
     "text": [
      "\r",
      "Compiling FSM index for all state transitions:  88%|████████▊ | 381/431 [00:14<00:02, 19.72it/s]"
     ]
    },
    {
     "name": "stdout",
     "output_type": "stream",
     "text": [
      "\r",
      "Compiling FSM index for all state transitions:  89%|████████▉ | 384/431 [00:14<00:02, 16.38it/s]"
     ]
    },
    {
     "name": "stdout",
     "output_type": "stream",
     "text": [
      "\r",
      "Compiling FSM index for all state transitions:  90%|████████▉ | 387/431 [00:14<00:02, 15.30it/s]\r",
      "Compiling FSM index for all state transitions:  90%|█████████ | 389/431 [00:15<00:02, 15.93it/s]"
     ]
    },
    {
     "name": "stdout",
     "output_type": "stream",
     "text": [
      "\r",
      "Compiling FSM index for all state transitions:  91%|█████████ | 392/431 [00:15<00:02, 18.24it/s]"
     ]
    },
    {
     "name": "stdout",
     "output_type": "stream",
     "text": [
      "\r",
      "Compiling FSM index for all state transitions:  92%|█████████▏| 395/431 [00:15<00:02, 16.50it/s]\r",
      "Compiling FSM index for all state transitions:  92%|█████████▏| 398/431 [00:15<00:01, 18.99it/s]"
     ]
    },
    {
     "name": "stdout",
     "output_type": "stream",
     "text": [
      "\r",
      "Compiling FSM index for all state transitions:  93%|█████████▎| 401/431 [00:15<00:01, 21.31it/s]\r",
      "Compiling FSM index for all state transitions:  94%|█████████▍| 405/431 [00:15<00:01, 24.61it/s]"
     ]
    },
    {
     "name": "stdout",
     "output_type": "stream",
     "text": [
      "\r",
      "Compiling FSM index for all state transitions:  95%|█████████▍| 409/431 [00:15<00:00, 27.19it/s]\r",
      "Compiling FSM index for all state transitions:  96%|█████████▌| 412/431 [00:15<00:00, 24.67it/s]"
     ]
    },
    {
     "name": "stdout",
     "output_type": "stream",
     "text": [
      "\r",
      "Compiling FSM index for all state transitions:  96%|█████████▋| 415/431 [00:16<00:00, 20.03it/s]\r",
      "Compiling FSM index for all state transitions:  97%|█████████▋| 418/431 [00:16<00:00, 20.04it/s]"
     ]
    },
    {
     "name": "stdout",
     "output_type": "stream",
     "text": [
      "\r",
      "Compiling FSM index for all state transitions:  98%|█████████▊| 421/431 [00:16<00:00, 16.06it/s]\r",
      "Compiling FSM index for all state transitions:  98%|█████████▊| 423/431 [00:16<00:00, 14.75it/s]"
     ]
    },
    {
     "name": "stdout",
     "output_type": "stream",
     "text": [
      "\r",
      "Compiling FSM index for all state transitions:  99%|█████████▊| 425/431 [00:16<00:00, 14.21it/s]\r",
      "Compiling FSM index for all state transitions:  99%|█████████▉| 427/431 [00:17<00:00, 14.55it/s]"
     ]
    },
    {
     "name": "stdout",
     "output_type": "stream",
     "text": [
      "\r",
      "Compiling FSM index for all state transitions: 100%|█████████▉| 429/431 [00:17<00:00, 14.70it/s]\r",
      "Compiling FSM index for all state transitions: 100%|██████████| 431/431 [00:17<00:00, 24.95it/s]\n"
     ]
    },
    {
     "name": "stdout",
     "output_type": "stream",
     "text": [
      "[2025-02-27 06:23:45 TP0] Prefill batch. #new-seq: 1, #new-token: 24, #cached-token: 14, cache hit rate: 32.11%, token usage: 0.00, #running-req: 0, #queue-req: 0\n"
     ]
    },
    {
     "name": "stdout",
     "output_type": "stream",
     "text": [
      "[2025-02-27 06:23:45 TP0] Decode batch. #running-req: 1, #token: 74, token usage: 0.00, gen throughput (token/s): 2.09, #queue-req: 0\n"
     ]
    },
    {
     "name": "stdout",
     "output_type": "stream",
     "text": [
      "[2025-02-27 06:23:46 TP0] Decode batch. #running-req: 1, #token: 114, token usage: 0.01, gen throughput (token/s): 81.21, #queue-req: 0\n"
     ]
    },
    {
     "name": "stdout",
     "output_type": "stream",
     "text": [
      "[2025-02-27 06:23:46 TP0] Decode batch. #running-req: 1, #token: 154, token usage: 0.01, gen throughput (token/s): 84.27, #queue-req: 0\n",
      "[2025-02-27 06:23:46] INFO:     127.0.0.1:33294 - \"POST /generate HTTP/1.1\" 200 OK\n"
     ]
    },
    {
     "data": {
      "text/html": [
       "<strong style='color: #00008B;'>{<br>    \"name\": \"Harry Potter\",<br>    \"house\": \"Gryffindor\",<br>    \"blood status\": \"Half-blood\",<br>    \"occupation\": \"student\",<br>    \"wand\": {<br>        \"wood\": \"Willow\",<br>        \"core\": \"Finchley Rabbit\",<br>        \"length\": 10.25<br>    },<br>    \"alive\": \"Alive\",<br>    \"patronus\": \"Stag\",<br>    \"bogart\": \"Basilisk venom\"<br>}</strong>"
      ],
      "text/plain": [
       "<IPython.core.display.HTML object>"
      ]
     },
     "metadata": {},
     "output_type": "display_data"
    }
   ],
   "source": [
    "character_regex = (\n",
    "    r\"\"\"\\{\\n\"\"\"\n",
    "    + r\"\"\"    \"name\": \"[\\w\\d\\s]{1,16}\",\\n\"\"\"\n",
    "    + r\"\"\"    \"house\": \"(Gryffindor|Slytherin|Ravenclaw|Hufflepuff)\",\\n\"\"\"\n",
    "    + r\"\"\"    \"blood status\": \"(Pure-blood|Half-blood|Muggle-born)\",\\n\"\"\"\n",
    "    + r\"\"\"    \"occupation\": \"(student|teacher|auror|ministry of magic|death eater|order of the phoenix)\",\\n\"\"\"\n",
    "    + r\"\"\"    \"wand\": \\{\\n\"\"\"\n",
    "    + r\"\"\"        \"wood\": \"[\\w\\d\\s]{1,16}\",\\n\"\"\"\n",
    "    + r\"\"\"        \"core\": \"[\\w\\d\\s]{1,16}\",\\n\"\"\"\n",
    "    + r\"\"\"        \"length\": [0-9]{1,2}\\.[0-9]{0,2}\\n\"\"\"\n",
    "    + r\"\"\"    \\},\\n\"\"\"\n",
    "    + r\"\"\"    \"alive\": \"(Alive|Deceased)\",\\n\"\"\"\n",
    "    + r\"\"\"    \"patronus\": \"[\\w\\d\\s]{1,16}\",\\n\"\"\"\n",
    "    + r\"\"\"    \"bogart\": \"[\\w\\d\\s]{1,16}\"\\n\"\"\"\n",
    "    + r\"\"\"\\}\"\"\"\n",
    ")\n",
    "\n",
    "\n",
    "@function\n",
    "def character_gen(s, name):\n",
    "    s += user(\n",
    "        f\"{name} is a character in Harry Potter. Please fill in the following information about this character.\"\n",
    "    )\n",
    "    s += assistant(gen(\"json_output\", max_tokens=256, regex=character_regex))\n",
    "\n",
    "\n",
    "state = character_gen(\"Harry Potter\")\n",
    "print_highlight(state[\"json_output\"])"
   ]
  },
  {
   "cell_type": "markdown",
   "metadata": {},
   "source": [
    "## Batching \n",
    "\n",
    "Use `run_batch` to run a batch of prompts."
   ]
  },
  {
   "cell_type": "code",
   "execution_count": 10,
   "metadata": {
    "execution": {
     "iopub.execute_input": "2025-02-27T06:23:46.810941Z",
     "iopub.status.busy": "2025-02-27T06:23:46.810465Z",
     "iopub.status.idle": "2025-02-27T06:23:47.011933Z",
     "shell.execute_reply": "2025-02-27T06:23:47.011158Z"
    }
   },
   "outputs": [
    {
     "name": "stdout",
     "output_type": "stream",
     "text": [
      "[2025-02-27 06:23:46 TP0] Prefill batch. #new-seq: 1, #new-token: 1, #cached-token: 13, cache hit rate: 33.07%, token usage: 0.00, #running-req: 0, #queue-req: 0\n",
      "[2025-02-27 06:23:46] INFO:     127.0.0.1:56808 - \"POST /generate HTTP/1.1\" 200 OK\n"
     ]
    },
    {
     "name": "stderr",
     "output_type": "stream",
     "text": [
      "\r",
      "  0%|          | 0/3 [00:00<?, ?it/s]"
     ]
    },
    {
     "name": "stdout",
     "output_type": "stream",
     "text": [
      "[2025-02-27 06:23:46 TP0] Prefill batch. #new-seq: 1, #new-token: 11, #cached-token: 17, cache hit rate: 33.91%, token usage: 0.00, #running-req: 0, #queue-req: 0\n",
      "[2025-02-27 06:23:46 TP0] Prefill batch. #new-seq: 2, #new-token: 18, #cached-token: 34, cache hit rate: 35.60%, token usage: 0.00, #running-req: 1, #queue-req: 0\n"
     ]
    },
    {
     "name": "stderr",
     "output_type": "stream",
     "text": [
      "\r",
      " 33%|███▎      | 1/3 [00:00<00:00,  7.43it/s]"
     ]
    },
    {
     "name": "stderr",
     "output_type": "stream",
     "text": [
      "\r",
      " 67%|██████▋   | 2/3 [00:00<00:00, 11.75it/s]"
     ]
    },
    {
     "name": "stderr",
     "output_type": "stream",
     "text": [
      "\r",
      "100%|██████████| 3/3 [00:00<00:00, 19.13it/s]"
     ]
    },
    {
     "name": "stdout",
     "output_type": "stream",
     "text": [
      "[2025-02-27 06:23:46] INFO:     127.0.0.1:56816 - \"POST /generate HTTP/1.1\" 200 OK\n",
      "[2025-02-27 06:23:46] INFO:     127.0.0.1:56828 - \"POST /generate HTTP/1.1\" 200 OK\n",
      "[2025-02-27 06:23:47] INFO:     127.0.0.1:56814 - \"POST /generate HTTP/1.1\" 200 OK\n"
     ]
    },
    {
     "name": "stderr",
     "output_type": "stream",
     "text": [
      "\n"
     ]
    },
    {
     "data": {
      "text/html": [
       "<strong style='color: #00008B;'>Answer 1: The capital of the United Kingdom is London.</strong>"
      ],
      "text/plain": [
       "<IPython.core.display.HTML object>"
      ]
     },
     "metadata": {},
     "output_type": "display_data"
    },
    {
     "data": {
      "text/html": [
       "<strong style='color: #00008B;'>Answer 2: The capital of France is Paris.</strong>"
      ],
      "text/plain": [
       "<IPython.core.display.HTML object>"
      ]
     },
     "metadata": {},
     "output_type": "display_data"
    },
    {
     "data": {
      "text/html": [
       "<strong style='color: #00008B;'>Answer 3: The capital of Japan is Tokyo.</strong>"
      ],
      "text/plain": [
       "<IPython.core.display.HTML object>"
      ]
     },
     "metadata": {},
     "output_type": "display_data"
    }
   ],
   "source": [
    "@function\n",
    "def text_qa(s, question):\n",
    "    s += user(question)\n",
    "    s += assistant(gen(\"answer\", stop=\"\\n\"))\n",
    "\n",
    "\n",
    "states = text_qa.run_batch(\n",
    "    [\n",
    "        {\"question\": \"What is the capital of the United Kingdom?\"},\n",
    "        {\"question\": \"What is the capital of France?\"},\n",
    "        {\"question\": \"What is the capital of Japan?\"},\n",
    "    ],\n",
    "    progress_bar=True,\n",
    ")\n",
    "\n",
    "for i, state in enumerate(states):\n",
    "    print_highlight(f\"Answer {i+1}: {states[i]['answer']}\")"
   ]
  },
  {
   "cell_type": "markdown",
   "metadata": {},
   "source": [
    "## Streaming \n",
    "\n",
    "Use `stream` to stream the output to the user."
   ]
  },
  {
   "cell_type": "code",
   "execution_count": 11,
   "metadata": {
    "execution": {
     "iopub.execute_input": "2025-02-27T06:23:47.014505Z",
     "iopub.status.busy": "2025-02-27T06:23:47.013758Z",
     "iopub.status.idle": "2025-02-27T06:23:47.119341Z",
     "shell.execute_reply": "2025-02-27T06:23:47.118663Z"
    }
   },
   "outputs": [
    {
     "name": "stdout",
     "output_type": "stream",
     "text": [
      "<|im_start|>system\n",
      "You are a helpful assistant.<|im_end|>\n",
      "<|im_start|>user\n",
      "What is the capital of France?<|im_end|>\n",
      "<|im_start|>assistant\n"
     ]
    },
    {
     "name": "stdout",
     "output_type": "stream",
     "text": [
      "[2025-02-27 06:23:47] INFO:     127.0.0.1:56836 - \"POST /generate HTTP/1.1\" 200 OK\n",
      "[2025-02-27 06:23:47 TP0] Prefill batch. #new-seq: 1, #new-token: 1, #cached-token: 25, cache hit rate: 37.19%, token usage: 0.00, #running-req: 0, #queue-req: 0\n",
      "The"
     ]
    },
    {
     "name": "stdout",
     "output_type": "stream",
     "text": [
      " capital"
     ]
    },
    {
     "name": "stdout",
     "output_type": "stream",
     "text": [
      " of"
     ]
    },
    {
     "name": "stdout",
     "output_type": "stream",
     "text": [
      " France"
     ]
    },
    {
     "name": "stdout",
     "output_type": "stream",
     "text": [
      " is"
     ]
    },
    {
     "name": "stdout",
     "output_type": "stream",
     "text": [
      " Paris"
     ]
    },
    {
     "name": "stdout",
     "output_type": "stream",
     "text": [
      "."
     ]
    },
    {
     "name": "stdout",
     "output_type": "stream",
     "text": [
      "<|im_end|>\n"
     ]
    }
   ],
   "source": [
    "@function\n",
    "def text_qa(s, question):\n",
    "    s += user(question)\n",
    "    s += assistant(gen(\"answer\", stop=\"\\n\"))\n",
    "\n",
    "\n",
    "state = text_qa.run(\n",
    "    question=\"What is the capital of France?\", temperature=0.1, stream=True\n",
    ")\n",
    "\n",
    "for out in state.text_iter():\n",
    "    print(out, end=\"\", flush=True)"
   ]
  },
  {
   "cell_type": "markdown",
   "metadata": {},
   "source": [
    "## Complex Prompts\n",
    "\n",
    "You may use `{system|user|assistant}_{begin|end}` to define complex prompts."
   ]
  },
  {
   "cell_type": "code",
   "execution_count": 12,
   "metadata": {
    "execution": {
     "iopub.execute_input": "2025-02-27T06:23:47.121852Z",
     "iopub.status.busy": "2025-02-27T06:23:47.121253Z",
     "iopub.status.idle": "2025-02-27T06:23:47.238252Z",
     "shell.execute_reply": "2025-02-27T06:23:47.237618Z"
    }
   },
   "outputs": [
    {
     "name": "stdout",
     "output_type": "stream",
     "text": [
      "[2025-02-27 06:23:47 TP0] Prefill batch. #new-seq: 1, #new-token: 17, #cached-token: 14, cache hit rate: 37.43%, token usage: 0.00, #running-req: 0, #queue-req: 0\n"
     ]
    },
    {
     "name": "stdout",
     "output_type": "stream",
     "text": [
      "[2025-02-27 06:23:47] INFO:     127.0.0.1:56844 - \"POST /generate HTTP/1.1\" 200 OK\n"
     ]
    },
    {
     "data": {
      "text/html": [
       "<strong style='color: #00008B;'> The capital of France is Paris.</strong>"
      ],
      "text/plain": [
       "<IPython.core.display.HTML object>"
      ]
     },
     "metadata": {},
     "output_type": "display_data"
    }
   ],
   "source": [
    "@function\n",
    "def chat_example(s):\n",
    "    s += system(\"You are a helpful assistant.\")\n",
    "    # Same as: s += s.system(\"You are a helpful assistant.\")\n",
    "\n",
    "    with s.user():\n",
    "        s += \"Question: What is the capital of France?\"\n",
    "\n",
    "    s += assistant_begin()\n",
    "    s += \"Answer: \" + gen(\"answer\", max_tokens=100, stop=\"\\n\")\n",
    "    s += assistant_end()\n",
    "\n",
    "\n",
    "state = chat_example()\n",
    "print_highlight(state[\"answer\"])"
   ]
  },
  {
   "cell_type": "code",
   "execution_count": 13,
   "metadata": {
    "execution": {
     "iopub.execute_input": "2025-02-27T06:23:47.240509Z",
     "iopub.status.busy": "2025-02-27T06:23:47.240010Z",
     "iopub.status.idle": "2025-02-27T06:23:47.276524Z",
     "shell.execute_reply": "2025-02-27T06:23:47.275834Z"
    }
   },
   "outputs": [],
   "source": [
    "terminate_process(server_process)"
   ]
  },
  {
   "cell_type": "markdown",
   "metadata": {},
   "source": [
    "## Multi-modal Generation\n",
    "\n",
    "You may use SGLang frontend language to define multi-modal prompts.\n",
    "See [here](https://docs.sglang.ai/references/supported_models.html) for supported models."
   ]
  },
  {
   "cell_type": "code",
   "execution_count": 14,
   "metadata": {
    "execution": {
     "iopub.execute_input": "2025-02-27T06:23:47.278822Z",
     "iopub.status.busy": "2025-02-27T06:23:47.278624Z",
     "iopub.status.idle": "2025-02-27T06:24:30.433067Z",
     "shell.execute_reply": "2025-02-27T06:24:30.432501Z"
    }
   },
   "outputs": [
    {
     "name": "stdout",
     "output_type": "stream",
     "text": [
      "[2025-02-27 06:23:58] server_args=ServerArgs(model_path='Qwen/Qwen2.5-VL-7B-Instruct', tokenizer_path='Qwen/Qwen2.5-VL-7B-Instruct', tokenizer_mode='auto', load_format='auto', trust_remote_code=False, dtype='auto', kv_cache_dtype='auto', quantization_param_path=None, quantization=None, context_length=None, device='cuda', served_model_name='Qwen/Qwen2.5-VL-7B-Instruct', chat_template=None, is_embedding=False, revision=None, skip_tokenizer_init=False, host='0.0.0.0', port=31630, mem_fraction_static=0.88, max_running_requests=200, max_total_tokens=20480, chunked_prefill_size=8192, max_prefill_tokens=16384, schedule_policy='lpm', schedule_conservativeness=1.0, cpu_offload_gb=0, prefill_only_one_req=False, tp_size=1, stream_interval=1, stream_output=False, random_seed=372745306, constrained_json_whitespace_pattern=None, watchdog_timeout=300, dist_timeout=None, download_dir=None, base_gpu_id=0, log_level='info', log_level_http=None, log_requests=False, show_time_cost=False, enable_metrics=False, decode_log_interval=40, api_key=None, file_storage_pth='sglang_storage', enable_cache_report=False, dp_size=1, load_balance_method='round_robin', ep_size=1, dist_init_addr=None, nnodes=1, node_rank=0, json_model_override_args='{}', lora_paths=None, max_loras_per_batch=8, lora_backend='triton', attention_backend='flashinfer', sampling_backend='flashinfer', grammar_backend='outlines', speculative_draft_model_path=None, speculative_algorithm=None, speculative_num_steps=5, speculative_eagle_topk=8, speculative_num_draft_tokens=64, enable_double_sparsity=False, ds_channel_config_path=None, ds_heavy_channel_num=32, ds_heavy_token_num=256, ds_heavy_channel_type='qk', ds_sparse_decode_threshold=4096, disable_radix_cache=False, disable_jump_forward=False, disable_cuda_graph=True, disable_cuda_graph_padding=False, enable_nccl_nvls=False, disable_outlines_disk_cache=False, disable_custom_all_reduce=False, disable_mla=False, disable_overlap_schedule=False, enable_mixed_chunk=False, enable_dp_attention=False, enable_ep_moe=False, enable_torch_compile=False, torch_compile_max_bs=32, cuda_graph_max_bs=160, cuda_graph_bs=None, torchao_config='', enable_nan_detection=False, enable_p2p_check=False, triton_attention_reduce_in_fp32=False, triton_attention_num_kv_splits=8, num_continuous_decode_steps=1, delete_ckpt_after_loading=False, enable_memory_saver=False, allow_auto_truncate=False, enable_custom_logit_processor=False, tool_call_parser=None, enable_hierarchical_cache=False, enable_flashinfer_mla=False)\n"
     ]
    },
    {
     "name": "stdout",
     "output_type": "stream",
     "text": [
      "[2025-02-27 06:24:18 TP0] Overlap scheduler is disabled for multimodal models.\n"
     ]
    },
    {
     "name": "stdout",
     "output_type": "stream",
     "text": [
      "[2025-02-27 06:24:18 TP0] Automatically reduce --mem-fraction-static to 0.836 because this is a multimodal model.\n",
      "[2025-02-27 06:24:18 TP0] Init torch distributed begin.\n",
      "[2025-02-27 06:24:18 TP0] Load weight begin. avail mem=59.67 GB\n"
     ]
    },
    {
     "name": "stdout",
     "output_type": "stream",
     "text": [
      "[2025-02-27 06:24:18 TP0] The following error message 'operation scheduled before its operands' can be ignored.\n"
     ]
    },
    {
     "name": "stdout",
     "output_type": "stream",
     "text": [
      "[2025-02-27 06:24:19 TP0] Using model weights format ['*.safetensors']\n"
     ]
    },
    {
     "name": "stdout",
     "output_type": "stream",
     "text": [
      "\r",
      "Loading safetensors checkpoint shards:   0% Completed | 0/5 [00:00<?, ?it/s]\n"
     ]
    },
    {
     "name": "stdout",
     "output_type": "stream",
     "text": [
      "\r",
      "Loading safetensors checkpoint shards:  20% Completed | 1/5 [00:00<00:02,  1.35it/s]\n"
     ]
    },
    {
     "name": "stdout",
     "output_type": "stream",
     "text": [
      "\r",
      "Loading safetensors checkpoint shards:  40% Completed | 2/5 [00:01<00:02,  1.19it/s]\n"
     ]
    },
    {
     "name": "stdout",
     "output_type": "stream",
     "text": [
      "\r",
      "Loading safetensors checkpoint shards:  60% Completed | 3/5 [00:01<00:01,  1.65it/s]\n"
     ]
    },
    {
     "name": "stdout",
     "output_type": "stream",
     "text": [
      "\r",
      "Loading safetensors checkpoint shards:  80% Completed | 4/5 [00:02<00:00,  1.34it/s]\n"
     ]
    },
    {
     "name": "stdout",
     "output_type": "stream",
     "text": [
      "\r",
      "Loading safetensors checkpoint shards: 100% Completed | 5/5 [00:03<00:00,  1.25it/s]\n",
      "\r",
      "Loading safetensors checkpoint shards: 100% Completed | 5/5 [00:03<00:00,  1.31it/s]\n",
      "\n",
      "[2025-02-27 06:24:23 TP0] Load weight end. type=Qwen2_5_VLForConditionalGeneration, dtype=torch.bfloat16, avail mem=63.02 GB\n",
      "[2025-02-27 06:24:23 TP0] KV Cache is allocated. K size: 0.55 GB, V size: 0.55 GB.\n",
      "[2025-02-27 06:24:23 TP0] Memory pool end. avail mem=61.72 GB\n"
     ]
    },
    {
     "name": "stdout",
     "output_type": "stream",
     "text": [
      "[2025-02-27 06:24:25 TP0] max_total_num_tokens=20480, chunked_prefill_size=8192, max_prefill_tokens=16384, max_running_requests=200, context_len=128000\n",
      "[2025-02-27 06:24:25] INFO:     Started server process [2563093]\n",
      "[2025-02-27 06:24:25] INFO:     Waiting for application startup.\n",
      "[2025-02-27 06:24:25] INFO:     Application startup complete.\n",
      "[2025-02-27 06:24:25] INFO:     Uvicorn running on http://0.0.0.0:31630 (Press CTRL+C to quit)\n"
     ]
    },
    {
     "name": "stdout",
     "output_type": "stream",
     "text": [
      "[2025-02-27 06:24:25] INFO:     127.0.0.1:37856 - \"GET /v1/models HTTP/1.1\" 200 OK\n"
     ]
    },
    {
     "name": "stdout",
     "output_type": "stream",
     "text": [
      "[2025-02-27 06:24:26] INFO:     127.0.0.1:37866 - \"GET /get_model_info HTTP/1.1\" 200 OK\n",
      "[2025-02-27 06:24:26 TP0] Prefill batch. #new-seq: 1, #new-token: 6, #cached-token: 0, cache hit rate: 0.00%, token usage: 0.00, #running-req: 0, #queue-req: 0\n"
     ]
    },
    {
     "name": "stdout",
     "output_type": "stream",
     "text": [
      "[2025-02-27 06:24:29] INFO:     127.0.0.1:37880 - \"POST /generate HTTP/1.1\" 200 OK\n",
      "[2025-02-27 06:24:29] The server is fired up and ready to roll!\n"
     ]
    },
    {
     "data": {
      "text/html": [
       "<strong style='color: #00008B;'><br><br>                    NOTE: Typically, the server runs in a separate terminal.<br>                    In this notebook, we run the server and notebook code together, so their outputs are combined.<br>                    To improve clarity, the server logs are displayed in the original black color, while the notebook outputs are highlighted in blue.<br>                    We are running those notebooks in a CI parallel environment, so the throughput is not representative of the actual performance.<br>                    </strong>"
      ],
      "text/plain": [
       "<IPython.core.display.HTML object>"
      ]
     },
     "metadata": {},
     "output_type": "display_data"
    },
    {
     "name": "stdout",
     "output_type": "stream",
     "text": [
      "Server started on http://localhost:31630\n"
     ]
    }
   ],
   "source": [
    "server_process, port = launch_server_cmd(\n",
    "    \"python -m sglang.launch_server --model-path Qwen/Qwen2.5-VL-7B-Instruct --host 0.0.0.0\"\n",
    ")\n",
    "\n",
    "wait_for_server(f\"http://localhost:{port}\")\n",
    "print(f\"Server started on http://localhost:{port}\")"
   ]
  },
  {
   "cell_type": "code",
   "execution_count": 15,
   "metadata": {
    "execution": {
     "iopub.execute_input": "2025-02-27T06:24:30.434786Z",
     "iopub.status.busy": "2025-02-27T06:24:30.434617Z",
     "iopub.status.idle": "2025-02-27T06:24:30.439519Z",
     "shell.execute_reply": "2025-02-27T06:24:30.439056Z"
    }
   },
   "outputs": [
    {
     "name": "stdout",
     "output_type": "stream",
     "text": [
      "[2025-02-27 06:24:30] INFO:     127.0.0.1:37888 - \"GET /get_model_info HTTP/1.1\" 200 OK\n"
     ]
    }
   ],
   "source": [
    "set_default_backend(RuntimeEndpoint(f\"http://localhost:{port}\"))"
   ]
  },
  {
   "cell_type": "markdown",
   "metadata": {},
   "source": [
    "Ask a question about an image."
   ]
  },
  {
   "cell_type": "code",
   "execution_count": 16,
   "metadata": {
    "execution": {
     "iopub.execute_input": "2025-02-27T06:24:30.440870Z",
     "iopub.status.busy": "2025-02-27T06:24:30.440713Z",
     "iopub.status.idle": "2025-02-27T06:24:44.601645Z",
     "shell.execute_reply": "2025-02-27T06:24:44.601098Z"
    }
   },
   "outputs": [
    {
     "name": "stdout",
     "output_type": "stream",
     "text": [
      "[2025-02-27 06:24:40 TP0] Prefill batch. #new-seq: 1, #new-token: 307, #cached-token: 0, cache hit rate: 0.00%, token usage: 0.00, #running-req: 0, #queue-req: 0\n"
     ]
    },
    {
     "name": "stdout",
     "output_type": "stream",
     "text": [
      "[2025-02-27 06:24:43 TP0] Decode batch. #running-req: 1, #token: 340, token usage: 0.02, gen throughput (token/s): 2.17, #queue-req: 0\n"
     ]
    },
    {
     "name": "stdout",
     "output_type": "stream",
     "text": [
      "[2025-02-27 06:24:44 TP0] Decode batch. #running-req: 1, #token: 380, token usage: 0.02, gen throughput (token/s): 51.56, #queue-req: 0\n",
      "[2025-02-27 06:24:44] INFO:     127.0.0.1:51086 - \"POST /generate HTTP/1.1\" 200 OK\n"
     ]
    },
    {
     "data": {
      "text/html": [
       "<strong style='color: #00008B;'>The image depicts a scene on a city street where a man is using a portable iron and ironing board loaded on the roof of a yellow taxi parked on the road. The vehicle appears to maneuver using poles extended vertically to offload the equipment onto the ground for easier carrying. This individual seems to be溫andprisingly performing non-standard chores on a moving taxi, which appears implausible and unconventional for typical transportation activity.</strong>"
      ],
      "text/plain": [
       "<IPython.core.display.HTML object>"
      ]
     },
     "metadata": {},
     "output_type": "display_data"
    }
   ],
   "source": [
    "@function\n",
    "def image_qa(s, image_file, question):\n",
    "    s += user(image(image_file) + question)\n",
    "    s += assistant(gen(\"answer\", max_tokens=256))\n",
    "\n",
    "\n",
    "image_url = \"https://github.com/sgl-project/sglang/blob/main/test/lang/example_image.png?raw=true\"\n",
    "image_bytes, _ = load_image(image_url)\n",
    "state = image_qa(image_bytes, \"What is in the image?\")\n",
    "print_highlight(state[\"answer\"])"
   ]
  },
  {
   "cell_type": "code",
   "execution_count": 17,
   "metadata": {
    "execution": {
     "iopub.execute_input": "2025-02-27T06:24:44.603420Z",
     "iopub.status.busy": "2025-02-27T06:24:44.603244Z",
     "iopub.status.idle": "2025-02-27T06:24:44.682510Z",
     "shell.execute_reply": "2025-02-27T06:24:44.681818Z"
    }
   },
   "outputs": [],
   "source": [
    "terminate_process(server_process)"
   ]
  }
 ],
 "metadata": {
  "language_info": {
   "codemirror_mode": {
    "name": "ipython",
    "version": 3
   },
   "file_extension": ".py",
   "mimetype": "text/x-python",
   "name": "python",
   "nbconvert_exporter": "python",
   "pygments_lexer": "ipython3",
   "version": "3.9.21"
  }
 },
 "nbformat": 4,
 "nbformat_minor": 2
}
