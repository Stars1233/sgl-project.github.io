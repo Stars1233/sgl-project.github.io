{
 "cells": [
  {
   "cell_type": "markdown",
   "metadata": {},
   "source": [
    "# Structured Outputs For Reasoning Models\n",
    "\n",
    "When working with reasoning models that use special tokens like `<think>...</think>` to denote reasoning sections, you might want to allow free-form text within these sections while still enforcing grammar constraints on the rest of the output.\n",
    "\n",
    "SGLang provides a feature to disable grammar restrictions within reasoning sections. This is particularly useful for models that need to perform complex reasoning steps before providing a structured output.\n",
    "\n",
    "To enable this feature, use the `--reasoning-parser` flag which decide the think_end_token, such as `</think>`, when launching the server. You can also specify the reasoning parser using the `--reasoning-parser` flag.\n",
    "\n",
    "## Supported Models\n",
    "\n",
    "Currently, SGLang supports the following reasoning models:\n",
    "- [DeepSeek R1 series](https://huggingface.co/collections/deepseek-ai/deepseek-r1-678e1e131c0169c0bc89728d): The reasoning content is wrapped with `<think>` and `</think>` tags.\n",
    "- [QwQ](https://huggingface.co/Qwen/QwQ-32B): The reasoning content is wrapped with `<think>` and `</think>` tags.\n",
    "\n",
    "\n",
    "## Usage\n",
    "\n",
    "## OpenAI Compatible API"
   ]
  },
  {
   "cell_type": "markdown",
   "metadata": {},
   "source": [
    "Specify the `--grammar-backend`, `--reasoning-parser` option."
   ]
  },
  {
   "cell_type": "code",
   "execution_count": 1,
   "metadata": {
    "execution": {
     "iopub.execute_input": "2025-09-16T23:19:25.795128Z",
     "iopub.status.busy": "2025-09-16T23:19:25.795003Z",
     "iopub.status.idle": "2025-09-16T23:20:01.718547Z",
     "shell.execute_reply": "2025-09-16T23:20:01.717883Z"
    }
   },
   "outputs": [
    {
     "name": "stderr",
     "output_type": "stream",
     "text": [
      "/usr/local/lib/python3.10/dist-packages/torch/cuda/__init__.py:63: FutureWarning: The pynvml package is deprecated. Please install nvidia-ml-py instead. If you did not install pynvml directly, please report this to the maintainers of the package that installed pynvml for you.\n",
      "  import pynvml  # type: ignore[import]\n"
     ]
    },
    {
     "name": "stdout",
     "output_type": "stream",
     "text": [
      "/usr/local/lib/python3.10/dist-packages/torch/cuda/__init__.py:63: FutureWarning: The pynvml package is deprecated. Please install nvidia-ml-py instead. If you did not install pynvml directly, please report this to the maintainers of the package that installed pynvml for you.\n",
      "  import pynvml  # type: ignore[import]\n"
     ]
    },
    {
     "name": "stdout",
     "output_type": "stream",
     "text": [
      "W0916 23:19:38.496000 1289980 torch/utils/cpp_extension.py:2425] TORCH_CUDA_ARCH_LIST is not set, all archs for visible cards are included for compilation. \n",
      "W0916 23:19:38.496000 1289980 torch/utils/cpp_extension.py:2425] If this is not desired, please set os.environ['TORCH_CUDA_ARCH_LIST'] to specific architectures.\n"
     ]
    },
    {
     "name": "stdout",
     "output_type": "stream",
     "text": [
      "`torch_dtype` is deprecated! Use `dtype` instead!\n",
      "WARNING:transformers.configuration_utils:`torch_dtype` is deprecated! Use `dtype` instead!\n",
      "All deep_gemm operations loaded successfully!\n"
     ]
    },
    {
     "name": "stdout",
     "output_type": "stream",
     "text": [
      "/usr/local/lib/python3.10/dist-packages/torch/cuda/__init__.py:63: FutureWarning: The pynvml package is deprecated. Please install nvidia-ml-py instead. If you did not install pynvml directly, please report this to the maintainers of the package that installed pynvml for you.\n",
      "  import pynvml  # type: ignore[import]\n",
      "/usr/local/lib/python3.10/dist-packages/torch/cuda/__init__.py:63: FutureWarning: The pynvml package is deprecated. Please install nvidia-ml-py instead. If you did not install pynvml directly, please report this to the maintainers of the package that installed pynvml for you.\n",
      "  import pynvml  # type: ignore[import]\n"
     ]
    },
    {
     "name": "stdout",
     "output_type": "stream",
     "text": [
      "W0916 23:19:46.550000 1290543 torch/utils/cpp_extension.py:2425] TORCH_CUDA_ARCH_LIST is not set, all archs for visible cards are included for compilation. \n",
      "W0916 23:19:46.550000 1290543 torch/utils/cpp_extension.py:2425] If this is not desired, please set os.environ['TORCH_CUDA_ARCH_LIST'] to specific architectures.\n",
      "W0916 23:19:46.695000 1290544 torch/utils/cpp_extension.py:2425] TORCH_CUDA_ARCH_LIST is not set, all archs for visible cards are included for compilation. \n",
      "W0916 23:19:46.695000 1290544 torch/utils/cpp_extension.py:2425] If this is not desired, please set os.environ['TORCH_CUDA_ARCH_LIST'] to specific architectures.\n"
     ]
    },
    {
     "name": "stdout",
     "output_type": "stream",
     "text": [
      "`torch_dtype` is deprecated! Use `dtype` instead!\n",
      "[2025-09-16 23:19:47] `torch_dtype` is deprecated! Use `dtype` instead!\n"
     ]
    },
    {
     "name": "stdout",
     "output_type": "stream",
     "text": [
      "[Gloo] Rank 0 is connected to 0 peer ranks. Expected number of connected peer ranks is : 0\n",
      "[Gloo] Rank 0 is connected to 0 peer ranks. Expected number of connected peer ranks is : 0\n",
      "[Gloo] Rank 0 is connected to 0 peer ranks. Expected number of connected peer ranks is : 0\n",
      "[Gloo] Rank 0 is connected to 0 peer ranks. Expected number of connected peer ranks is : 0\n",
      "[2025-09-16 23:19:48] CUDA-fused xIELU not available (No module named 'xielu') – falling back to a Python version.\n",
      "For CUDA xIELU (experimental), `pip install git+https://github.com/nickjbrowning/XIELU`\n",
      "[2025-09-16 23:19:48] MOE_RUNNER_BACKEND is not initialized, using triton backend\n"
     ]
    },
    {
     "name": "stdout",
     "output_type": "stream",
     "text": [
      "All deep_gemm operations loaded successfully!\n",
      "\r",
      "Loading safetensors checkpoint shards:   0% Completed | 0/2 [00:00<?, ?it/s]\n"
     ]
    },
    {
     "name": "stdout",
     "output_type": "stream",
     "text": [
      "\r",
      "Loading safetensors checkpoint shards:  50% Completed | 1/2 [00:01<00:01,  1.64s/it]\n"
     ]
    },
    {
     "name": "stdout",
     "output_type": "stream",
     "text": [
      "\r",
      "Loading safetensors checkpoint shards: 100% Completed | 2/2 [00:03<00:00,  1.56s/it]\n",
      "\r",
      "Loading safetensors checkpoint shards: 100% Completed | 2/2 [00:03<00:00,  1.57s/it]\n",
      "\n"
     ]
    },
    {
     "name": "stdout",
     "output_type": "stream",
     "text": [
      "\r",
      "  0%|          | 0/3 [00:00<?, ?it/s]\r",
      "Capturing batches (bs=4 avail_mem=47.14 GB):   0%|          | 0/3 [00:00<?, ?it/s]"
     ]
    },
    {
     "name": "stdout",
     "output_type": "stream",
     "text": [
      "\r",
      "Capturing batches (bs=4 avail_mem=47.14 GB):  33%|███▎      | 1/3 [00:00<00:01,  1.49it/s]\r",
      "Capturing batches (bs=2 avail_mem=47.08 GB):  33%|███▎      | 1/3 [00:00<00:01,  1.49it/s]\r",
      "Capturing batches (bs=1 avail_mem=47.07 GB):  33%|███▎      | 1/3 [00:00<00:01,  1.49it/s]\r",
      "Capturing batches (bs=1 avail_mem=47.07 GB): 100%|██████████| 3/3 [00:00<00:00,  4.02it/s]\n"
     ]
    },
    {
     "data": {
      "text/html": [
       "<strong style='color: #00008B;'><br><br>                    NOTE: Typically, the server runs in a separate terminal.<br>                    In this notebook, we run the server and notebook code together, so their outputs are combined.<br>                    To improve clarity, the server logs are displayed in the original black color, while the notebook outputs are highlighted in blue.<br>                    To reduce the log length, we set the log level to warning for the server, the default log level is info.<br>                    We are running those notebooks in a CI environment, so the throughput is not representative of the actual performance.<br>                    </strong>"
      ],
      "text/plain": [
       "<IPython.core.display.HTML object>"
      ]
     },
     "metadata": {},
     "output_type": "display_data"
    }
   ],
   "source": [
    "import openai\n",
    "import os\n",
    "\n",
    "from sglang.test.doc_patch import launch_server_cmd\n",
    "from sglang.utils import wait_for_server, print_highlight, terminate_process\n",
    "\n",
    "os.environ[\"TOKENIZERS_PARALLELISM\"] = \"false\"\n",
    "\n",
    "\n",
    "server_process, port = launch_server_cmd(\n",
    "    \"python -m sglang.launch_server --model-path deepseek-ai/DeepSeek-R1-Distill-Qwen-7B --host 0.0.0.0 --reasoning-parser deepseek-r1 --log-level warning\"\n",
    ")\n",
    "\n",
    "wait_for_server(f\"http://localhost:{port}\")\n",
    "client = openai.Client(base_url=f\"http://127.0.0.1:{port}/v1\", api_key=\"None\")"
   ]
  },
  {
   "cell_type": "markdown",
   "metadata": {},
   "source": [
    "### JSON\n",
    "\n",
    "you can directly define a JSON schema or use [Pydantic](https://docs.pydantic.dev/latest/) to define and validate the response."
   ]
  },
  {
   "cell_type": "markdown",
   "metadata": {},
   "source": [
    "**Using Pydantic**"
   ]
  },
  {
   "cell_type": "code",
   "execution_count": 2,
   "metadata": {
    "execution": {
     "iopub.execute_input": "2025-09-16T23:20:01.720577Z",
     "iopub.status.busy": "2025-09-16T23:20:01.720206Z",
     "iopub.status.idle": "2025-09-16T23:20:05.898343Z",
     "shell.execute_reply": "2025-09-16T23:20:05.897762Z"
    }
   },
   "outputs": [
    {
     "data": {
      "text/html": [
       "<strong style='color: #00008B;'>reasoing_content: Alright, so the user asked for the information and population of the capital of France in JSON format. I immediately thought about what the capital is—Paris. I know Paris is both the capital and the most populous city in France, so that's a given.<br><br>Next, I considered the population. I remember that Paris has a large population, but I'm not exactly sure of the current number. I think it's around 2 million, but I'm not 100% certain. I should double-check that to make sure I provide accurate information.<br><br>I also need to structure this in JSON. JSON requires key-value pairs, so I'll need to define the keys appropriately. Maybe \"city\" for the name, \"country\" for the capital, and \"population\" for the number. I should make sure the syntax is correct, with proper commas and quotation marks.<br><br>Wait, the user might be using this data for a project or a presentation. They probably need it in a structured format that's easy to parse. JSON is a good choice because it's widely used in web applications and data interchange. I should ensure the JSON is valid and well-formatted to avoid any issues when they use it.<br><br>I also wonder if they need more details, like the administrative region or some notable landmarks. But since they specifically asked for population, I'll stick to that. Maybe I should include a note about the population figure being approximate, just in case.<br><br>Putting it all together, I'll format the JSON with the city name, country, and population. I'll make sure the keys are in English to keep it clear. Double-checking the population number is crucial to maintain credibility. I think 2,147,000 is a commonly cited figure, so I'll go with that.<br><br>Finally, I'll present the JSON in a code block so it's easy to read and copy. I should also offer further assistance in case they need more data. That way, I cover all bases and ensure the user gets exactly what they're looking for.<br><br><br>content: {<br>  \"name\": \"Paris\",<br>  \"population\": 2147000<br>}</strong>"
      ],
      "text/plain": [
       "<IPython.core.display.HTML object>"
      ]
     },
     "metadata": {},
     "output_type": "display_data"
    }
   ],
   "source": [
    "from pydantic import BaseModel, Field\n",
    "\n",
    "\n",
    "# Define the schema using Pydantic\n",
    "class CapitalInfo(BaseModel):\n",
    "    name: str = Field(..., pattern=r\"^\\w+$\", description=\"Name of the capital city\")\n",
    "    population: int = Field(..., description=\"Population of the capital city\")\n",
    "\n",
    "\n",
    "response = client.chat.completions.create(\n",
    "    model=\"deepseek-ai/DeepSeek-R1-Distill-Qwen-7B\",\n",
    "    messages=[\n",
    "        {\n",
    "            \"role\": \"assistant\",\n",
    "            \"content\": \"Give me the information and population of the capital of France in the JSON format.\",\n",
    "        },\n",
    "    ],\n",
    "    temperature=0,\n",
    "    max_tokens=2048,\n",
    "    response_format={\n",
    "        \"type\": \"json_schema\",\n",
    "        \"json_schema\": {\n",
    "            \"name\": \"foo\",\n",
    "            # convert the pydantic model to json schema\n",
    "            \"schema\": CapitalInfo.model_json_schema(),\n",
    "        },\n",
    "    },\n",
    ")\n",
    "\n",
    "print_highlight(\n",
    "    f\"reasoing_content: {response.choices[0].message.reasoning_content}\\n\\ncontent: {response.choices[0].message.content}\"\n",
    ")"
   ]
  },
  {
   "cell_type": "markdown",
   "metadata": {},
   "source": [
    "**JSON Schema Directly**\n"
   ]
  },
  {
   "cell_type": "code",
   "execution_count": 3,
   "metadata": {
    "execution": {
     "iopub.execute_input": "2025-09-16T23:20:05.900507Z",
     "iopub.status.busy": "2025-09-16T23:20:05.900348Z",
     "iopub.status.idle": "2025-09-16T23:20:08.100271Z",
     "shell.execute_reply": "2025-09-16T23:20:08.099735Z"
    }
   },
   "outputs": [
    {
     "data": {
      "text/html": [
       "<strong style='color: #00008B;'>reasoing_content: Alright, so the user asked for the information and population of the capital of France in JSON format. I immediately thought about what the capital is—Paris. Then, I considered the population. I know it's a big city, but I'm not exactly sure of the current number. I remember it's over 3 million, but I'm not certain if it's 3.5 or 3.6. I should double-check that.<br><br>Next, I thought about the structure. The user wants JSON, so I need to format it correctly with keys like \"city\", \"population\", and maybe \"country\". I should make sure the syntax is correct—no typos, proper commas, and brackets. <br><br>I also considered the user's possible needs. They might be doing a project or a presentation, so providing accurate data is crucial. Maybe they're a student learning about France's capitals or someone compiling demographic data. Either way, precision is key.<br><br>I decided to look up the latest population figure. A quick search shows that as of 2023, Paris has a population of around 3,600,000. That seems right, but I should note that populations can fluctuate due to births, deaths, and migration. <br><br>Putting it all together, I structured the JSON with the city name, population, and country. I made sure the numbers were accurate and the format was correct. I also added a comment to explain the population figure, just in case the user needed more context.<br><br>Finally, I sent the response, ensuring it was clear and met the user's request. I hope this helps them with whatever they're working on!<br><br><br>content: {<br>  \"name\": \"Paris\",<br>  \"population\": 3600000<br>}</strong>"
      ],
      "text/plain": [
       "<IPython.core.display.HTML object>"
      ]
     },
     "metadata": {},
     "output_type": "display_data"
    }
   ],
   "source": [
    "import json\n",
    "\n",
    "json_schema = json.dumps(\n",
    "    {\n",
    "        \"type\": \"object\",\n",
    "        \"properties\": {\n",
    "            \"name\": {\"type\": \"string\", \"pattern\": \"^[\\\\w]+$\"},\n",
    "            \"population\": {\"type\": \"integer\"},\n",
    "        },\n",
    "        \"required\": [\"name\", \"population\"],\n",
    "    }\n",
    ")\n",
    "\n",
    "response = client.chat.completions.create(\n",
    "    model=\"deepseek-ai/DeepSeek-R1-Distill-Qwen-7B\",\n",
    "    messages=[\n",
    "        {\n",
    "            \"role\": \"assistant\",\n",
    "            \"content\": \"Give me the information and population of the capital of France in the JSON format.\",\n",
    "        },\n",
    "    ],\n",
    "    temperature=0,\n",
    "    max_tokens=2048,\n",
    "    response_format={\n",
    "        \"type\": \"json_schema\",\n",
    "        \"json_schema\": {\"name\": \"foo\", \"schema\": json.loads(json_schema)},\n",
    "    },\n",
    ")\n",
    "\n",
    "print_highlight(\n",
    "    f\"reasoing_content: {response.choices[0].message.reasoning_content}\\n\\ncontent: {response.choices[0].message.content}\"\n",
    ")"
   ]
  },
  {
   "cell_type": "markdown",
   "metadata": {},
   "source": [
    "### EBNF"
   ]
  },
  {
   "cell_type": "code",
   "execution_count": 4,
   "metadata": {
    "execution": {
     "iopub.execute_input": "2025-09-16T23:20:08.103826Z",
     "iopub.status.busy": "2025-09-16T23:20:08.103663Z",
     "iopub.status.idle": "2025-09-16T23:20:12.683125Z",
     "shell.execute_reply": "2025-09-16T23:20:12.682655Z"
    }
   },
   "outputs": [
    {
     "data": {
      "text/html": [
       "<strong style='color: #00008B;'>reasoing_content: Okay, so the user asked for the information and population of the capital of France in JSON format. I responded with Paris, its population of around 2.1 million, and included some key facts. Now, the user is following up with a new query about the capitals of other countries. They provided a list of countries and want the same JSON structure for each.<br><br>First, I need to figure out what the user is really looking for. They might be creating a dataset or a project that requires the capitals of various nations. Maybe they're a student working on a geography assignment or a developer building a mapping application. Either way, they need accurate and reliable data.<br><br>Looking at the list they provided: Albania, Algeria, Australia, Austria, Brazil, Canada, China, Colombia, Denmark, Egypt, France, Germany, Greece, Hungary, Iceland, India, Indonesia, Ireland, Italy, Japan, Mexico, Netherlands, Nigeria, Poland, Portugal, Russia, Saudi Arabia, Spain, Sweden, Switzerland, Thailand, Turkey, UK, USA. That's quite a comprehensive list, covering multiple continents.<br><br>I should make sure each country's capital is correct. I know some capitals off the top of my head, like Albania's Tirana, Algeria's Algiers, Australia's Canberra. But I should double-check the rest to avoid mistakes. For example, I'm pretty sure Germany's capital is Berlin, but I should confirm that. Same with countries like Mexico and Spain, where the capital is in a different state.<br><br>The user wants the information in JSON format, so each country will have a key with its name and capital, along with the population. I'll need to look up the most recent population estimates for each. Population numbers can change, so it's important to use the latest data. For example, Germany's population is around 83 million, while the UK's is about 67 million.<br><br>I should structure the JSON array correctly, ensuring each object has the same keys. Also, I'll need to format the numbers properly, using commas for readability. For instance, 2.1 million should be written as 2.1 million, not 2100000.<br><br>I wonder if the user needs the population data to be dynamic or if they prefer static numbers. Since they didn't specify, I'll go with the most recent estimates available. Also, I should present the data clearly, maybe adding comments or organizing it in a way that's easy to read, even though it's just a list.<br><br>Another thing to consider is the possibility of the user needing this data for a presentation or a report. If that's the case, accuracy is crucial. I should verify each piece of information to ensure reliability. For example, confirming that Japan's capital is Tokyo and not another city.<br><br>I should also think about the user's deeper needs. They might be building a quiz app where users can test their knowledge of country capitals, or perhaps they're creating a mapping tool that requires capital locations. Either way, providing accurate and up-to-date information is key.<br><br>I'll start by listing each country with its capital and population, making sure each entry is a separate object in the JSON array. I'll also add a comment at the top to explain the structure, so the user knows what each key represents. This will make the JSON more understandable for them.<br><br>Finally, I'll review the JSON to ensure there are no syntax errors, like missing commas or brackets. It's important that the JSON is valid so that the user can easily parse and use the data without issues.<br><br><br>content: London is the capital of France</strong>"
      ],
      "text/plain": [
       "<IPython.core.display.HTML object>"
      ]
     },
     "metadata": {},
     "output_type": "display_data"
    }
   ],
   "source": [
    "ebnf_grammar = \"\"\"\n",
    "root ::= city | description\n",
    "city ::= \"London\" | \"Paris\" | \"Berlin\" | \"Rome\"\n",
    "description ::= city \" is \" status\n",
    "status ::= \"the capital of \" country\n",
    "country ::= \"England\" | \"France\" | \"Germany\" | \"Italy\"\n",
    "\"\"\"\n",
    "\n",
    "response = client.chat.completions.create(\n",
    "    model=\"deepseek-ai/DeepSeek-R1-Distill-Qwen-7B\",\n",
    "    messages=[\n",
    "        {\"role\": \"system\", \"content\": \"You are a helpful geography bot.\"},\n",
    "        {\n",
    "            \"role\": \"assistant\",\n",
    "            \"content\": \"Give me the information and population of the capital of France in the JSON format.\",\n",
    "        },\n",
    "    ],\n",
    "    temperature=0,\n",
    "    max_tokens=2048,\n",
    "    extra_body={\"ebnf\": ebnf_grammar},\n",
    ")\n",
    "\n",
    "print_highlight(\n",
    "    f\"reasoing_content: {response.choices[0].message.reasoning_content}\\n\\ncontent: {response.choices[0].message.content}\"\n",
    ")"
   ]
  },
  {
   "cell_type": "markdown",
   "metadata": {},
   "source": [
    "### Regular expression"
   ]
  },
  {
   "cell_type": "code",
   "execution_count": 5,
   "metadata": {
    "execution": {
     "iopub.execute_input": "2025-09-16T23:20:12.684697Z",
     "iopub.status.busy": "2025-09-16T23:20:12.684543Z",
     "iopub.status.idle": "2025-09-16T23:20:13.441682Z",
     "shell.execute_reply": "2025-09-16T23:20:13.441229Z"
    }
   },
   "outputs": [
    {
     "data": {
      "text/html": [
       "<strong style='color: #00008B;'>reasoing_content: Alright, so the user just asked, \"What is the capital of France?\" Hmm, that's a pretty straightforward question. I should make sure I provide a clear and accurate answer. Let me think, Paris is definitely the capital. But wait, is there any chance I might have mixed it up with another country? No, I'm pretty sure France's capital is Paris. Maybe I should double-check that to be certain. Yeah, Paris is where the government is located, and that's the capital. Okay, I feel confident about that. I'll just state it directly.<br><br><br>content: Paris</strong>"
      ],
      "text/plain": [
       "<IPython.core.display.HTML object>"
      ]
     },
     "metadata": {},
     "output_type": "display_data"
    }
   ],
   "source": [
    "response = client.chat.completions.create(\n",
    "    model=\"deepseek-ai/DeepSeek-R1-Distill-Qwen-7B\",\n",
    "    messages=[\n",
    "        {\"role\": \"assistant\", \"content\": \"What is the capital of France?\"},\n",
    "    ],\n",
    "    temperature=0,\n",
    "    max_tokens=2048,\n",
    "    extra_body={\"regex\": \"(Paris|London)\"},\n",
    ")\n",
    "\n",
    "print_highlight(\n",
    "    f\"reasoing_content: {response.choices[0].message.reasoning_content}\\n\\ncontent: {response.choices[0].message.content}\"\n",
    ")"
   ]
  },
  {
   "cell_type": "markdown",
   "metadata": {},
   "source": [
    "### Structural Tag"
   ]
  },
  {
   "cell_type": "code",
   "execution_count": 6,
   "metadata": {
    "execution": {
     "iopub.execute_input": "2025-09-16T23:20:13.443271Z",
     "iopub.status.busy": "2025-09-16T23:20:13.443109Z",
     "iopub.status.idle": "2025-09-16T23:22:32.121886Z",
     "shell.execute_reply": "2025-09-16T23:22:32.121272Z"
    }
   },
   "outputs": [
    {
     "data": {
      "text/html": [
       "<strong style='color: #00008B;'>reasoing_content: Okay, so the user is asking for the current date and time in New York and the weather there. I need to figure out how to get both pieces of information.<br><br>First, I remember that to get the current date and time, I can use the get_current_date function. It requires a timezone parameter. Since the user is in New York, the timezone would be 'America/New_York'. I should structure that as {\"timezone\": \"America/New_York\"} within the function call.<br><br>Next, for the weather, I need to use get_current_weather. This function needs a city and state. The user mentioned New York, so the city is 'New York' and the state is 'NY' because that's the two-letter abbreviation. The unit isn't specified, so I'll leave that out as it's optional and defaults to Celsius or Fahrenheit based on system settings.<br><br>I should make two separate function calls: one for the date and time, and another for the weather. Each should follow the specified format with the function name and parameters included correctly. I'll ensure each function call is on its own line for clarity.<br><br>I also need to remember to format the responses exactly as instructed, using the start_tag and end_tag around each function call and including the parameters in JSON format. No markdown, just plain text with the proper tags.<br><br>So, putting it all together, I'll send two separate messages: one for the date and time, and another for the weather in New York.<br><br><br>content: <function=get_current_date>{\"timezone\": \"America/New_York\"}</function>  <br><function=get_current_weather>{\"city\": \"New York\", \"state\": \"NY\"  <br>    <br>            <br>           <br>           <br>           <br>           <br>           <br>           <br>           <br>           <br>           <br>           <br>           <br>           <br>           <br>           <br>           <br>           <br>           <br>           <br>           <br>           <br>           <br>           <br>           <br>           <br>           <br>           <br>           <br>           <br>           <br>           <br>           <br>           <br>           <br>           <br>           <br>           <br>           <br>           <br>           <br>           <br>           <br>           <br>           <br>           <br>           <br>           <br>           <br>           <br>           <br>           <br>           <br>           <br>           <br>           <br>           <br>           <br>           <br>           <br>           <br>           <br>           <br>           <br>           <br>           <br>           <br>           <br>           <br>           <br>           <br>           <br>           <br>           <br>           <br>           <br>           <br>           <br>           <br>           <br>           <br>           <br>           <br>           <br>           <br>           <br>           <br>           <br>           <br>           <br>           <br>           <br>           <br>           <br>           <br>           <br>           <br>           <br>           <br>           <br>           <br>           <br>           <br>           <br>           <br>           <br>           <br>           <br>           <br>           <br>           <br>           <br>           <br>           <br>           <br>           <br>           <br>           <br>           <br>           <br>           <br>           <br>           <br>           <br>           <br>           <br>           <br>           <br>           <br>           <br>           <br>           <br>           <br>           <br>           <br>           <br>           <br>           <br>           <br>           <br>           <br>           <br>           <br>           <br>           <br>           <br>           <br>           <br>           <br>           <br>           <br>           <br>           <br>           <br>           <br>           <br>           <br>           <br>           <br>           <br>           <br>           <br>           <br>           <br>           <br>           <br>           <br>           <br>           <br>           <br>           <br>           <br>           <br>           <br>           <br>           <br>           <br>           <br>           <br>           <br>           <br>           <br>           <br>           <br>           <br>           <br>           <br>           <br>           <br>           <br>           <br>           <br>           <br>           <br>           <br>           <br>           <br>           <br>           <br>           <br>           <br>           <br>           <br>           <br>           <br>           <br>           <br>           <br>           <br>           <br>           <br>           <br>           <br>           <br>           <br>           <br>           <br>           <br>           <br>           <br>           <br>           <br>           <br>           <br>           <br>           <br>           <br>           <br>           <br>           <br>           <br>           <br>           <br>           <br>           <br>           <br>           <br>           <br>           <br>           <br>           <br>           <br>           <br>           <br>           <br>           <br>           <br>           <br>           <br>           <br>           <br>           <br>           <br>           <br>           <br>           <br>           <br>           <br>           <br>           <br>           <br>           <br>           <br>           <br>           <br>           <br>           <br>           <br>           <br>           <br>           <br>           <br>           <br>           <br>           <br>           <br>           <br>           <br>           <br>           <br>           <br>           <br>           <br>           <br>           <br>           <br>           <br>           <br>           <br>           <br>           <br>           <br>           <br>           <br>           <br>           <br>           <br>           <br>           <br>           <br>           <br>           <br>           <br>           <br>           <br>           <br>           <br>           <br>           <br>           <br>           <br>           <br>           <br>           <br>           <br>           <br>           <br>           <br>           <br>           <br>           <br>           <br>           <br>           <br>           <br>           <br>           <br>           <br>           <br>           <br>           <br>           <br>           <br>           <br>           <br>           <br>           <br>           <br>           <br>           <br>           <br>           <br>           <br>           <br>           <br>           <br>           <br>           <br>           <br>           <br>           <br>           <br>           <br>           <br>           <br>           <br>           <br>           <br>           <br>           <br>           <br>           <br>           <br>           <br>           <br>           <br>           <br>           <br>           <br>           <br>           <br>           <br>           <br>           <br>           <br>           <br>           <br>           <br>           <br>           <br>           <br>           <br>           <br>           <br>           <br>           <br>           <br>           <br>           <br>           <br>           <br>           <br>           <br>           <br>           <br>           <br>           <br>           <br>           <br>           <br>           <br>           <br>           <br>           <br>           <br>           <br>           <br>           <br>           <br>           <br>           <br>           <br>           <br>           <br>           <br>           <br>           <br>           <br>           <br>           <br>           <br>           <br>           <br>           <br>           <br>           <br>           <br>           <br>           <br>           <br>           <br>           <br>           <br>           <br>           <br>           <br>           <br>           <br>           <br>           <br>           <br>           <br>           <br>           <br>           <br>           <br>           <br>           <br>           <br>           <br>           <br>           <br>           <br>           <br>           <br>           <br>           <br>           <br>           <br>           <br>           <br>           <br>           <br>           <br>           <br>           <br>           <br>           <br>           <br>           <br>           <br>           <br>           <br>           <br>           <br>           <br>           <br>           <br>           <br>           <br>           <br>           <br>           <br>           <br>           <br>           <br>           <br>           <br>           <br>           <br>           <br>           <br>           <br>           <br>           <br>           <br>           <br>           <br>           <br>           <br>           <br>           <br>           <br>           <br>           <br>           <br>           <br>           <br>           <br>           <br>           <br>           <br>           <br>           <br>           <br>           <br>           <br>           <br>           <br>           <br>           <br>           <br>           <br>           <br>           <br>           <br>           <br>           <br>           <br>           <br>           <br>           <br>           <br>           <br>           <br>           <br>           <br>           <br>           <br>           <br>           <br>           <br>           <br>           <br>           <br>           <br>           <br>           <br>           <br>           <br>           <br>           <br>           <br>           <br>           <br>           <br>           <br>           <br>           <br>           <br>           <br>           <br>           <br>           <br>           <br>           <br>           <br>           <br>           <br>           <br>           <br>           <br>           <br>           <br>           <br>           <br>           <br>           <br>           <br>           <br>           <br>           <br>           <br>           <br>           <br>           <br>           <br>           <br>           <br>           <br>           <br>           <br>           <br>           <br>           <br>           <br>           <br>           <br>           <br>           <br>           <br>           <br>           <br>           <br>           <br>           <br>           <br>           <br>           <br>           <br>           <br>           <br>           <br>           <br>           <br>           <br>           <br>           <br>           <br>           <br>           <br>           <br>           <br>           <br>           <br>           <br>           <br>           <br>           <br>           <br>           <br>           <br>           <br>           <br>           <br>           <br>           <br>           <br>           <br>           <br>           <br>           <br>           <br>           <br>           <br>           <br>           <br>           <br>           <br>           <br>           <br>           <br>           <br>           <br>           <br>           <br>           <br>           <br>           <br>           <br>           <br>           <br>           <br>           <br>           <br>           <br>           <br>           <br>           <br>           <br>           <br>           <br>           <br>           <br>           <br>           <br>           <br>           <br>           <br>           <br>           <br>           <br>           <br>           <br>           <br>           <br>           <br>           <br>           <br>           <br>           <br>           <br>           <br>           <br>           <br>           <br>           <br>           <br>           <br>           <br>           <br>           <br>           <br>           <br>           <br>           <br>           <br>           <br>           <br>           <br>           <br>           <br>           <br>           <br>           <br>           <br>           <br>           <br>           <br>           <br>           <br>           <br>           <br>           <br>           <br>           <br>           <br>           <br>           <br>           <br>           <br>           <br>           <br>           <br>           <br>           <br>           <br>           <br>           <br>           <br>           <br>           <br>           <br>           <br>           <br>           <br>           <br>           <br>           <br>           <br>           <br>           <br>           <br>           <br>           <br>           <br>           <br>           <br>           <br>           <br>           <br>           <br>           <br>           <br>           <br>           <br>           <br>           <br>           <br>           <br>           <br>           <br>           <br>           <br>           <br>           <br>           <br>           <br>           <br>           <br>           <br>           <br>           <br>           <br>           <br>           <br>           <br>           <br>           <br>           <br>           <br>           <br>           <br>           <br>           <br>           <br>           <br>           <br>           <br>           <br>           <br>           <br>           <br>           <br>           <br>           <br>           <br>           <br>           <br>           <br>           <br>           <br>           <br>           <br>           <br>           <br>           <br>           <br>           <br>           <br>           <br>           <br>           <br>           <br>           <br>           <br>           <br>           <br>           <br>           <br>           <br>           <br>           <br>           <br>           <br>           <br>           <br>           <br>           <br>           <br>           <br>           <br>           <br>           <br>           <br>           <br>           <br>           <br>           <br>           <br>           <br>           <br>           <br>           <br>           <br>           <br>           <br>           <br>           <br>           <br>           <br>           <br>           <br>           <br>           <br>           <br>           <br>           <br>           <br>           <br>           <br>           <br>           <br>           <br>           <br>           <br>           <br>           <br>           <br>           <br>           <br>           <br>           <br>           <br>           <br>           <br>           <br>           <br>           <br>           <br>           <br>           <br>           <br>           <br>           <br>           <br>           <br>           <br>           <br>           <br>           <br>           <br>           <br>           <br>           <br>           <br>           <br>           <br>           <br>           <br>           <br>           <br>           <br>           <br>           <br>           <br>           <br>           <br>           <br>           <br>           <br>           <br>           <br>           <br>           <br>           <br>           <br>           <br>           <br>           <br>           <br>           <br>           <br>           <br>           <br>           <br>           <br>           <br>           <br>           <br>           <br>           <br>           <br>           <br>           <br>           <br>           <br>           <br>           <br>           <br>           <br>           <br>           <br>           <br>           <br>           <br>           <br>           <br>           <br>           <br>           <br>           <br>           <br>           <br>           <br>           <br>           <br>           <br>           <br>           <br>           <br>           <br>           <br>           <br>           <br>           <br>           <br>           <br>           <br>           <br>                         <br> <br>            <br>           <br>            <br>           <br>            <br>           <br>            <br>           <br>            <br>           <br>            <br>           <br>            <br>           <br>            <br>           <br>            <br>           <br>            <br>           <br>            <br>           <br>            <br>           <br>            <br>           <br>            <br>           <br>            <br>           <br>            <br>           <br>            <br>           <br>            <br>           <br>            <br>           <br>            <br>           <br>            <br>           <br>            <br>           <br>            <br>           <br>            <br>           <br>            <br>           <br>            <br>           <br>            <br>           <br>            <br>           <br>            <br>           <br>            <br>           <br>            <br>           <br>            <br>           <br>            <br>           <br>            <br>           <br>            <br>           <br>            <br>           <br>            <br>           <br>            <br>           <br>            <br>           <br>            <br>           <br>            <br>           <br>            <br>           <br>            <br>           <br>            <br>           <br>            <br>           <br>            <br>           <br>            <br>           <br>            <br>           <br>            <br>           <br>            <br>           <br>            <br>           <br>            <br>           <br>            <br>           <br>            <br>           <br>            <br>           <br>            <br>           <br>            <br>           <br>            <br>           <br>            <br>           <br>            <br>           <br>            <br>           <br>            <br>           <br>            <br>           <br>            <br>           <br>            <br>           <br>            <br>           <br>            <br>           <br>            <br>           <br>            <br>           <br>            <br>           <br>            <br>           <br>            <br>           <br>            <br>           <br>            <br>           <br>            <br>           <br>            <br>           <br>            <br>           <br>            <br>           <br>            <br>           <br>            <br>           <br>            <br>           <br>            <br>           <br>            <br>           <br>            <br>           <br>            <br>           <br>            <br>           <br>            <br>           <br>            <br>           <br>            <br>           <br>            <br>           <br>            <br>           <br>            <br>           <br>            <br>           <br>            <br>           <br>            <br>           <br>            <br>           <br>            <br>           <br>            <br>           <br>            <br>           <br>            <br>           <br>            <br>           <br>            <br>           <br>            <br>           <br>            <br>           <br>            <br>           <br>            <br>           <br>            <br>           <br>            <br>           <br>            <br>           <br>            <br>           <br>            <br>           <br>            <br>           <br>            <br>           <br>            <br>           <br>            <br>           <br>            <br>           <br>            <br>           <br>            <br>           <br>            <br>           <br>            <br>           <br>            <br>           <br>            <br>           <br>            <br>           <br>            <br>           <br>            <br>           <br>            <br>           <br>            <br>           <br>            <br>           <br>            <br>           <br>            <br>           <br>            <br>           <br>            <br>           <br>            <br>           <br>            <br>           <br>            <br>           <br>            <br>           <br>            <br>           <br>            <br>           <br>            <br>           <br>            <br>           <br>            <br>           <br>            <br>           <br>            <br>           <br>            <br>           <br>            <br>           <br>            <br>           <br>            <br>           <br>            <br>           <br>            <br>           <br>            <br>           <br>            <br>           <br>            <br>           <br>            <br>           <br>            <br>           <br>            <br>           <br>            <br>           <br>            <br>           <br>            <br>           <br>            <br>           <br>            <br>           <br>            <br>           <br>            <br>           <br>            <br>           <br>            <br>           <br>            <br>           <br>            <br>           <br>            <br>           <br>            <br>           <br>            <br>           <br>            <br>           <br>            <br>           <br>            <br>           <br>            <br>           <br>            <br>           <br>            <br>           <br>            <br>           <br>            <br>           <br>            <br>           <br>            <br>           <br>            <br>           <br>            <br>           <br>            <br>           <br>            <br>           <br>            <br>           <br>            <br>           <br>            <br>           <br>            <br>           <br>            <br>           <br>            <br>           <br>            <br>           <br>            <br>           <br>            <br>           <br>            <br>           <br>            <br>           <br>            <br>           <br>            <br>           <br>            <br>           <br>            <br>           <br>            <br>           <br>            <br>           <br>            <br>           <br>            <br>           <br>            <br>           <br>            <br>           <br>            <br>           <br>            <br>           <br>            <br>           <br>            <br>           <br>            <br>           <br>            <br>           <br>            <br>           <br>            <br>           <br>            <br>           <br>            <br>           <br>            <br>           <br>            <br>           <br>            <br>           <br>            <br>           <br>            <br>           <br>            <br>           <br>            <br>           <br>            <br>           <br>            <br>           <br>            <br>           <br>            <br>           <br>            <br>           <br>            <br>           <br>            <br>           <br>            <br>           <br>            <br>           <br>            <br>           <br>            <br>           <br>            <br>           <br>            <br>           <br>            <br>           <br>            <br>           <br>            <br>           <br>            <br>           <br>            <br>           <br>            <br>           <br>            <br>           <br>            <br>           <br>            <br>           <br>            <br>           <br>            <br>           <br>            <br>           <br>            <br>           <br>            <br>           <br>            <br>           <br>            <br>           <br>            <br>           <br>            <br>           <br>            <br>           <br>            <br>           <br>            <br>           <br>            <br>           <br>            <br>           <br>            <br>           <br>            <br>           <br>            <br>           <br>            <br>           <br>            <br>           <br>            <br>           <br>            <br>           <br>            <br>           <br>            <br>           <br>            <br>           <br>            <br>           <br>            <br>           <br>            <br>           <br>            <br>           <br>            <br>           <br>            <br>           <br>            <br>           <br>            <br>           <br>            <br>           <br>            <br>           <br>            <br>           <br>            <br>           <br>            <br>           <br>            <br>           <br>            <br>           <br>            <br>           <br>            <br>           <br>            <br>           <br>            <br>           <br>            <br>           <br>            <br>           <br>            <br>           <br>            <br>           <br>            <br>           <br>            <br>           <br>            <br>           <br>            <br>           <br>            <br>           <br>            <br>           <br>            <br>           <br>            <br>           <br>            <br>           <br>            <br>           <br>            <br>           <br>            <br>           <br>            <br>           <br>            <br>           <br>            <br>           <br>            <br>           <br>            <br>           <br>            <br>           <br>            <br>           <br>            <br>           <br>            <br>           <br>            <br>           <br>            <br>           <br>            <br>           <br>            <br>           <br>            <br>           <br>            <br>           <br>            <br>           <br>            <br>           <br>            <br>           <br>            <br>           <br>            <br>           <br>            <br>           <br>            <br>           <br>            <br>           <br>            <br>           <br>            <br>           <br>            <br>           <br>            <br>           <br>            <br>           <br>            <br>           <br>            <br>           <br>            <br>           <br>            <br>           <br>            <br>           <br>            <br>           <br>            <br>           <br>            <br>           <br>            <br>           <br>            <br>           <br>            <br>           <br>            <br>           <br>            <br>           <br>            <br>           <br>            <br>           <br>            <br>           <br>            <br>           <br>            <br>           <br>            <br>           <br>            <br>           <br>            <br>           <br>            <br>           <br>            <br>           <br>            <br>           <br>            <br>           <br>            <br>           <br>            <br>           <br>            <br>           <br>            <br>           <br>            <br>           <br>            <br>           <br>            <br>           <br>            <br>           <br>            <br>           <br>            <br>           <br>            <br>           <br>            <br>           <br>            <br>           <br>            <br>           <br>            <br>           <br>            <br>           <br>            <br>           <br>            <br>           <br>            <br>           <br>            <br>           <br>            <br>           <br>            <br>           <br>            <br>           <br>            <br>           <br>            <br>           <br>            <br>           <br>            <br>           <br>            <br>           <br>            <br>           <br>            <br>           <br>            <br>           <br>            <br>           <br>            <br>           <br>            <br>           <br>            <br>           <br>            <br>           <br>            <br>           <br>            <br>           <br>            <br>           <br>            <br>           <br>            <br>           <br>            <br>           <br>            <br>           <br>            <br>           <br>            <br>           <br>            <br>           <br>            <br>           <br>            <br>           <br>            <br>           <br>            <br>           <br>            <br>           <br>            <br>           <br>            <br>           <br>            <br>           <br>            <br>           <br>            <br>           <br>            <br>           <br>            <br>           <br>            <br>           <br>            <br>           <br>            <br>           <br>            <br>           <br>            <br>           <br>            <br>           <br>            <br>           <br>            <br>           <br>            <br>           <br>            <br>           <br>            <br>           <br>            <br>           <br>            <br>           <br>            <br>           <br>            <br>           <br>            <br>           <br>            <br>           <br>            <br>           <br>            <br>           <br>            <br>           <br>            <br>           <br>            <br>           <br>            <br>           <br>            <br>           <br>            <br>           <br>            <br>           <br>            <br>           <br>            <br>           <br>            <br>           <br>            <br>           <br>            <br>           <br>            <br>           <br>            <br>           <br>            <br>           <br>            <br>           <br>            <br>           <br>            <br>           <br>            <br>           <br>            <br>           <br>            <br>           <br>            <br>           <br>            <br>           <br>            <br>           <br>            <br>           <br>            <br>           <br>            <br>           <br>            <br>           <br>            <br>           <br>            <br>           <br>            <br>           <br>            <br>           <br>            <br>           <br>            <br>           <br>            <br>           <br>            <br>           <br>            <br>           <br>            <br>           <br>            <br>           <br>            <br>           <br>            <br>           <br>            <br>           <br>            <br>           <br>            <br>           <br>            <br>           <br>            <br>           <br>            <br>           <br>            <br>           <br>            <br>           <br>            <br>           <br>            <br>           <br>            <br>           <br>            <br>           <br>            <br>           <br>            <br>           <br>            <br>           <br>            <br>           <br>            <br>           <br>            <br>           <br>            <br>           <br>            <br>           <br>            <br>           <br>            <br>           <br>            <br>           <br>            <br>           <br>            <br>           <br>            <br>           <br>            <br>           <br>            <br>           <br>            <br>           <br>            <br>           <br>            <br>           <br>            <br>           <br>            <br>           <br>            <br>           <br>            <br>           <br>            <br>           <br>            <br>           <br>            <br>           <br>            <br>           <br>            <br>           <br>            <br>           <br>            <br>           <br>            <br>           <br>            <br>           <br>            <br>           <br>            <br>           <br>            <br>           <br>            <br>           <br>            <br>           <br>            <br>           <br>            <br>           <br>            <br>           <br>            <br>           <br>            <br>           <br>            <br>           <br>            <br>           <br>            <br>           <br>            <br>           <br>            <br>           <br>            <br>           <br>            <br>           <br>            <br>           <br>            <br>           <br>            <br>           <br>            <br>           <br>            <br>           <br>            <br>           <br>            <br>           <br>            <br>           <br>            <br>           <br>            <br>           <br>            <br>           <br>            <br>           <br>            <br>           <br>            <br>           <br>            <br>           <br>            <br>           <br>            <br>           <br>            <br>           <br>            <br>           <br>            <br>           <br>            <br>           <br>            <br>           <br>            <br>           <br>            <br>           <br>            <br>           <br>            <br>           <br>            <br>           <br>            <br>           <br>            <br>           <br>            <br>           <br>            <br>           <br>            <br>           <br>            <br>           <br>            <br>           <br>            <br>           <br>            <br>           <br>            <br>           <br>            <br>           <br>            <br>           <br>            <br>           <br>            <br>           <br>            <br>           <br>            <br>           <br>            <br>           <br>            <br>           <br>            <br>           <br>            <br>           <br>            <br>           <br>            <br>           <br>            <br>           <br>            <br>           <br>            <br>           <br>            <br>           <br>            <br>           <br>            <br>           <br>            <br>           <br>            <br>           <br>            <br>           <br>            <br>           <br>            <br>           <br>            <br>           <br>            <br>           <br>            <br>           <br>            <br>           <br>            <br>           <br>            <br>           <br>            <br>           <br>            <br>           <br>            <br>           <br>            <br>           <br>            <br>           <br>            <br>           <br>            <br>           <br>            <br>           <br>            <br>           <br>            <br>           <br>            <br>           <br>            <br>           <br>            <br>           <br>            <br>           <br>            <br>           <br>            <br>           <br>            <br>           <br>            <br>           <br>            <br>           <br>            <br>           <br>            <br>           <br>            <br>           <br>            <br>           <br>            <br>           <br>            <br>           <br>            <br>           <br>            <br>           <br>            <br>           <br>            <br>           <br>            <br>           <br>            <br>           <br>            <br>           <br>            <br>           <br>            <br>           <br>            <br>           <br>            <br>           <br>            <br>           <br>            <br>           <br>            <br>           <br>            <br>           <br>            <br>           <br>            <br>           <br>            <br>           <br>            <br>           <br>            <br>           <br>            <br>           <br>            <br>           <br>            <br>           <br>            <br>           <br>            <br>           <br>            <br>           <br>            <br>           <br>            <br>           <br>            <br>           <br>            <br>           <br>            <br>           <br>            <br>           <br>            <br>           <br>            <br>           <br>            <br>           <br>            <br>           <br>            <br>           <br>            <br>           <br>            <br>           <br>            <br>           <br>            <br>           <br>            <br>           <br>            <br>           <br>            <br>           <br>            <br>           <br>            <br>           <br>            <br>           <br>            <br>           <br>            <br>           <br>            <br>           <br>            <br>           <br>            <br>           <br>            <br>           <br>            <br>           <br>            <br>           <br>            <br>           <br>            <br>           <br>            <br>           <br>            <br>           <br>            <br>           <br>            <br>           <br>            <br>           <br>            <br>           <br>            <br>           <br>            <br>           <br>            <br>           <br>            <br>           <br>            <br>           <br>            <br>           <br>            <br>           <br>            <br>           <br>            <br>           <br>            <br>           <br>            <br>           <br>            <br>           <br>            <br>           <br>            <br>           <br>            <br>           <br>            <br>           <br>            <br>           <br>            <br>           <br>            <br>           <br>            <br>           <br>            <br>           <br>            <br>           <br>            <br>           <br>            <br>           <br>            <br>           <br>            <br>           <br>            <br>           <br>            <br>           <br>            <br>           <br>            <br>           <br>            <br>           <br>            <br>           <br>            <br>           <br>            <br>           <br>            <br>           <br>            <br>           <br>            <br>           <br>            <br>           <br>            <br>           <br>            <br>           <br>            <br>           <br>            <br>           <br>            <br>           <br>            <br>           <br>            <br>           <br>            <br>           <br>            <br>           <br>            <br>           <br>            <br>           <br>            <br>           <br>            <br>           <br>            <br>           <br>            <br>           <br>            <br>           <br>            <br>           <br>            <br>           <br>            <br>           <br>            <br>           <br>            <br>           <br>            <br>           <br>            <br>           <br>            <br>           <br>            <br>           <br>            <br>           <br>            <br>           <br>            <br>           <br>            <br>           <br>            <br>           <br>            <br>           <br>            <br>           <br>            <br>           <br>            <br>           <br>            <br>           <br>            <br>           <br>            <br>           <br>            <br>           <br>            <br>           <br>            <br>           <br>            <br>           <br>            <br>           <br>            <br>           <br>            <br>           <br>            <br>           <br>            <br>           <br>            <br>           <br>            <br>           <br>            <br>           <br>            <br>           <br>            <br>           <br>            <br>           <br>            <br>           <br>            <br>           <br>            <br>           <br>            <br>           <br>            <br>           <br>            <br>           <br>            <br>           <br>            <br>           <br>            <br>           <br>            <br>           <br>            <br>           <br>            <br>           <br>            <br>           <br>            <br>           <br>            <br>           <br>            <br>           <br>            <br>           <br>            <br>           <br>            <br>           <br>            <br>           <br>            <br>           <br>            <br>           <br>            <br>           <br>            <br>           <br>            <br>           <br>            <br>           <br>            <br>           <br>            <br>           <br>            <br>           <br>            <br>           <br>            <br>           <br>            <br>           <br>            <br>           <br>            <br>           <br>            <br>           <br>            <br>           <br>            <br>           <br>            <br>           <br>            <br>           <br>            <br>           <br>            <br>           <br>            <br>           <br>            <br>           <br>            <br>           <br>            <br>           <br>            <br>           <br>            <br>           <br>            <br>           <br>            <br>           <br>            <br>           <br>            <br>           <br>            <br>           <br>            <br>           <br>            <br>           <br>            <br>           <br>            <br>           <br>            <br>           <br>            <br>           <br>            <br>           <br>            <br>           <br>            <br>           <br>            <br>           <br>            <br>           <br>            <br>           <br>            <br>           <br>            <br>           <br>            <br>           <br>            <br>           <br>            <br>           <br>            <br>           <br>            <br>           <br>            <br>           <br>            <br>           <br>            <br>           <br>            <br>           <br>            <br>           <br>            <br>           <br>            <br>           <br>            <br>           <br>            <br>           <br>            <br>           <br>            <br>           <br>            <br>           <br>            <br>           <br>            <br>           <br>            <br>           <br>            <br>           <br>            <br>           <br>            <br>           <br>            <br>           <br>            <br>           <br>            <br>           <br>            <br>           <br>            <br>           <br>            <br>           <br>            <br>           <br>            <br>           <br>            <br>           <br>            <br>           <br>            <br>           <br>            <br>           <br>            <br>           <br>            <br>           <br>            <br>           <br>            <br>           <br>            <br>           <br>            <br>           <br>            <br>           <br>            <br>           <br>            <br>           <br>            <br>           <br>            <br>           <br>            <br>           <br>            <br>           <br>            <br>           <br>            <br>           <br>            <br>           <br>            <br>           <br>            <br>           <br>            <br>           <br>            <br>           <br>            <br>           <br>            <br>           <br>            <br>           <br>            <br>           <br>            <br>           <br>            <br>           <br>            <br>           <br>            <br>           <br>            <br>           <br>            <br>           <br>            <br>           <br>            <br>           <br>            <br>           <br>            <br>           <br>            <br>           <br>            <br>           <br>            <br>           <br>            <br>           <br>            <br>           <br>            <br>           <br>            <br>           <br>            <br>           <br>            <br>           <br>            <br>           <br>            <br>           <br>            <br>           <br>            <br>           <br>            <br>           <br>            <br>           <br>            <br>           <br>            <br>           <br>            <br>           <br>            <br>           <br>            <br>           <br>            <br>           <br>            <br>           <br>            <br>           <br>            <br>           <br>            <br>           <br>            <br>           <br>            <br>           <br>            <br>           <br>            <br>           <br>            <br>           <br>            <br>           <br>            <br>           <br>            <br>           <br>            <br>           <br>            <br>           <br>            <br>           <br>            <br>           <br>            <br>           <br>            <br>           <br>            <br>           <br>            <br>           <br>            <br>           <br>            <br>           <br>            <br>           <br>            <br>           <br>            <br>           <br>            <br>           <br>            <br>           <br>            <br>           <br>            <br>           <br>            <br>           <br>            <br>           <br>            <br>           <br>            <br>           <br>            <br>           <br>            <br>           <br>            <br>           <br>            <br>           <br>            <br>           <br>            <br>           <br>            <br>           <br>            <br>           <br>            <br>           <br>            <br>           <br>            <br>           <br>            <br>           <br>            <br>           <br>            <br>           <br>            <br>           <br>            <br>           <br>            <br>           <br>            <br>           <br>            <br>           <br>            <br>           <br>            <br>           <br>            <br>           <br>            <br>           <br>            <br>           <br>            <br>           <br>            <br>           <br>            <br>           <br>            <br>           <br>            <br>           <br>            <br>           <br>            <br>           <br>            <br>           <br>            <br>           <br>            <br>           <br>            <br>           <br>            <br>           <br>            <br>           <br>            <br>           <br>            <br>           <br>            <br>           <br>            <br>           <br>            <br>           <br>            <br>           <br>            <br>           <br>            <br>           <br>            <br>           <br>            <br>           <br>            <br>           <br>            <br>           <br>            <br>           <br>            <br>           <br>            <br>           <br>            <br>           <br>            <br>           <br>            <br>           <br>            <br>           <br>            <br>           <br>            <br>           <br>            <br>           <br>            <br>           <br>            <br>           <br>            <br>           <br>            <br>           <br>            <br>           <br>            <br>           <br>            <br>           <br>            <br>           <br>            <br>           <br>            <br>           <br>            <br>           <br>            <br>           <br>            <br>           <br>            <br>           <br>            <br>           <br>            <br>           <br>            <br>           <br>            <br>           <br>            <br>           <br>            <br>           <br>            <br>           <br>            <br>           <br>            <br>           <br>            <br>           <br>            <br>           <br>            <br>           <br>            <br>           <br>            <br>           <br>            <br>           <br>            <br>           <br>            <br>           <br>            <br>           <br>            <br>           <br>            <br>           <br>            <br>           <br>            <br>           <br>            <br>           <br>            <br>           <br>            <br>           <br>            <br>           <br>            <br>           <br>            <br>           <br>            <br>           <br>            <br>           <br>            <br>           <br>            <br>           <br>            <br>           <br>            <br>           <br>            <br>           <br>            <br>           <br>            <br>           <br>            <br>           <br>            <br>           <br>            <br>           <br>            <br>           <br>            <br>           <br>            <br>           <br>            <br>           <br>            <br>           <br>            <br>           <br>            <br>           <br>            <br>           <br>            <br>           <br>            <br>           <br>            <br>           <br>            <br>           <br>            <br>           <br>            <br>           <br>            <br>           <br>            <br>           <br>            <br>           <br>            <br>           <br>            <br>           <br>            <br>           <br>            <br>           <br>            <br>           <br>            <br>           <br>            <br>           <br>            <br>           <br>            <br>           <br>            <br>           <br>            <br>           <br>            <br>           <br>            <br>           <br>            <br>           <br>            <br>           <br>            <br>           <br>            <br>           <br>            <br>           <br>            <br>           <br>            <br>           <br>            <br>           <br>            <br>           <br>            <br>           <br>            <br>           <br>            <br>           <br>            <br>           <br>            <br>           <br>            <br>           <br>            <br>           <br>            <br>           <br>            <br>           <br>            <br>           <br>            <br>           <br>            <br>           <br>            <br>           <br>            <br>           <br>            <br>           <br>            <br>           <br>            <br>           <br>            <br>           <br>            <br>           <br>            <br>           <br>            <br>           <br>            <br>           <br>            <br>           <br>            <br>           <br>            <br>           <br>            <br>           <br>            <br>           <br>            <br>           <br>            <br>           <br>            <br>           <br>            <br>           <br>            <br>           <br>            <br>           <br>            <br>           <br>            <br>           <br>            <br>           <br>            <br>           <br>            <br>           <br>            <br>           <br>            <br>           <br>            <br>           <br>            <br>           <br>            <br>           <br>            <br>           <br>            <br>           <br>            <br>           <br>            <br>           <br>            <br>           <br>            <br>           <br>            <br>           <br>            <br>           <br>            <br>           <br>            <br>           <br>            <br>           <br>            <br>           <br>            <br>           <br>            <br>           <br>            <br>           <br>            <br>           <br>            <br>           <br>            <br>           <br>            <br>           <br>            <br>           <br>            <br>           <br>            <br>           <br>            <br>           <br>            <br>           <br>            <br>           <br>            <br>           <br>            <br>           <br>            <br>           <br>            <br>           <br>            <br>           <br>            <br>           <br>            <br>           <br>            <br>           <br>            <br>           <br>            <br>           <br>            <br>           <br>            <br>           <br>            <br>           <br>            <br>           <br>            <br>           <br>            <br>           <br>            <br>           <br>            <br>           <br>            <br>           <br>            <br>           <br>            <br>           <br>            <br>           <br>            <br>           <br>            <br>           <br>            <br>           <br>            <br>           <br>            <br>           <br>            <br>           <br>            <br>           <br>            <br>           <br>            <br>           <br>            <br>           <br>            <br>           <br>            <br>           <br>            <br>           <br>            <br>           <br>            <br>           <br>            <br>           <br>            <br>           <br>            <br>           <br>            <br>           <br>            <br>           <br>            <br>           <br>            <br>           <br>            <br>           <br>            <br>           <br>            <br>           <br>            <br>           <br>            <br>           <br>            <br>           <br>            <br>           <br>            <br>           <br>            <br>           <br>            <br>           <br>            <br>           <br>            <br>           <br>            <br>           <br>            <br>           <br>            <br>           <br>            <br>           <br>            <br>           <br>            <br>           <br>            <br>           <br>            <br>           <br>            <br>           <br>            <br>           <br>            <br>           <br>            <br>           <br>            <br>           <br>            <br>           <br>            <br>           <br>            <br>           <br>            <br>           <br>            <br>           <br>            <br>           <br>            <br>           <br>            <br>           <br>            <br>           <br>            <br>           <br>            <br>           <br>            <br>           <br>            <br>           <br>            <br>           <br>            <br>           <br>            <br>           <br>            <br>           <br>            <br>           <br>            <br>           <br>            <br>           <br>            <br>           <br>            <br>           <br>            <br>           <br>            <br>           <br>            <br>           <br>            <br>           <br>            <br>           <br>            <br>           <br>            <br>           <br>            <br>           <br>            <br>           <br>            <br>           <br>            <br>           <br>            <br>           <br>            <br>           <br>            <br>           <br>            <br>           <br>            <br>           <br>            <br>           <br>            <br>           <br>            <br>           <br>            <br>           <br>            <br>           <br>            <br>           <br>            <br>           <br>            <br>           <br>            <br>           <br>            <br>           <br>            <br>           <br>            <br>           <br>            <br>           <br>            <br>           <br>            <br>           <br>            <br>           <br>            <br>           <br>            <br>           <br>            <br>           <br>            <br>           <br>            <br>           <br>            <br>           <br>            <br>           <br>            <br>           <br>            <br>           <br>            <br>           <br>            <br>           <br>            <br>           <br>            <br>           <br>            <br>           <br>            <br>           <br>            <br>           <br>            <br>           <br>            <br>           <br>            <br>           <br>            <br>           <br>            <br>           <br>            <br>           <br>            <br>           <br>            <br>           <br>            <br>           <br>            <br>           <br>            <br>           <br>            <br>           <br>            <br>           <br>            <br>           <br>            <br>           <br>            <br>           <br>            <br>           <br>            <br>           <br>            <br>           <br>            <br>           <br>            <br>           <br>            <br>           <br>            <br>           <br>            <br>           <br>            <br>           <br>            <br>           <br>            <br>           <br>            <br>           <br>            <br>           <br>            <br>           <br>            <br>           <br>            <br>           <br>            <br>           <br>            <br>           <br>            <br>           <br>            <br>           <br>            <br>           <br>            <br>           <br>            <br>           <br>            <br>           <br>            <br>           <br>            <br>           <br>            <br>           <br>            <br>           <br>            <br>           <br>            <br>           <br>            <br>           <br>            <br>           <br>            <br>           <br>            <br>           <br>            <br>           <br>            <br>           <br>            <br>           <br>            <br>           <br>            <br>           <br>            <br>           <br>            <br>           <br>            <br>           <br>            <br>           <br>            <br>           <br>            <br>           <br>            <br>           <br>            <br>           <br>            <br>           <br>            <br>           <br>            <br>           <br>            <br>           <br>            <br>           <br>            <br>           <br>            <br>           <br>            <br>           <br>            <br>           <br>            <br>           <br>            <br>           <br>            <br>           <br>            <br>           <br>            <br>           <br>            <br>           <br>            <br>           <br>            <br>           <br>            <br>           <br>            <br>           <br>            <br>           <br>            <br>           <br>            <br>           <br>            <br>           <br>            <br>           <br>            <br>           <br>            <br>           <br>            <br>           <br>            <br>           <br>            <br>           <br>            <br>           <br>            <br>           <br>            <br>           <br>            <br>           <br>            <br>           <br>            <br>           <br>            <br>           <br>            <br>           <br>            <br>           <br>            <br>           <br>            <br>           <br>            <br>           <br>            <br>           <br>            <br>           <br>            <br>           <br>            <br>           <br>            <br>           <br>            <br>           <br>            <br>           <br>            <br>           <br>            <br>           <br>            <br>           <br>            <br>           <br>            <br>           <br>            <br>           <br>            <br>           <br>            <br>           <br>            <br>           <br>            <br>           <br>            <br>           <br>            <br>           <br>            <br>           <br>            <br>           <br>            <br>           <br>            <br>           <br>            <br>           <br>            <br>           <br>            <br>           <br>            <br>           <br>            <br>           <br>            <br>           <br>            <br>           <br>            <br>           <br>            <br>           <br>            <br>           <br>            <br>           <br>            <br>           <br>            <br>           <br>            <br>           <br>            <br>           <br>            <br>           <br>            <br>           <br>            <br>           <br>            <br>           <br>            <br>           <br>            <br>           <br>            <br>           <br>            <br>           <br>            <br>           <br>            <br>           <br>            <br>           <br>            <br>           <br>            <br>           <br>            <br>           <br>            <br>           <br>            <br>           <br>            <br>           <br>            <br>           <br>            <br>           <br>            <br>           <br>            <br>           <br>            <br>           <br>            <br>           <br>            <br>           <br>            <br>           <br>            <br>           <br>            <br>           <br>            <br>           <br>            <br>           <br>            <br>           <br>            <br>           <br>            <br>           <br>            <br>           <br>            <br>           <br>            <br>           <br>            <br>           <br>            <br>           <br>            <br>           <br>            <br>           <br>            <br>           <br>            <br>           <br>            <br>           <br>            <br>           <br>            <br>           <br>            <br>           <br>            <br>           <br>            <br>           <br>            <br>           <br>            <br>           <br>            <br>           <br>            <br>           <br>            <br>           <br>            <br>           <br>            <br>           <br>            <br>           <br>            <br>           <br>            <br>           <br>            <br>           <br>            <br>           <br>            <br>           <br>            <br>           <br>            <br>           <br>            <br>           <br>            <br>           <br>            <br>           <br>            <br>           <br>            <br>           <br>            <br>           <br>            <br>           <br>            <br>           <br>            <br>           <br>            <br>           <br>            <br>           <br>            <br>           <br>            <br>           <br>            <br>           <br>            <br>           <br>            <br>           <br>            <br>           <br>            <br>           <br>            <br>           <br>            <br>           <br>            <br>           <br>            <br>           <br>            <br>           <br>            <br>           <br>            <br>           <br>            <br>           <br>            <br>           <br>            <br>           <br>            <br>           <br>            <br>           <br>            <br>           <br>            <br>           <br>            <br>           <br>            <br>           <br>            <br>           <br>            <br>           <br>            <br>           <br>            <br>           <br>            <br>           <br>            <br>           <br>            <br>           <br>            <br>           <br>            <br>           <br>            <br>           <br>            <br>           <br>            <br>           <br>            <br>           <br>            <br>           <br>            <br>           <br>            <br>           <br>            <br>           <br>            <br>           <br>            <br>           <br>            <br>           <br>            <br>           <br>            <br>           <br>            <br>           <br>            <br>           <br>            <br>           <br>            <br>           <br>            <br>           <br>            <br>           <br>            <br>           <br>            <br>           <br>            <br>           <br>            <br>           <br>            <br>           <br>            <br>           <br>            <br>           <br>            <br>           <br>            <br>           <br>            <br>           <br>            <br>           <br>            <br>           <br>            <br>           <br>            <br>           <br>            <br>           <br>            <br>           <br>            <br>           <br>            <br>           <br>            <br>           <br>            <br>           <br>            <br>           <br>            <br>           <br>            <br>           <br>            <br>           <br>            <br>           <br>            <br>           <br>            <br>           <br>            <br>           <br>            <br>           <br>            <br>           <br>            <br>           <br>            <br>           <br>            <br>           <br>            <br>           <br>            <br>           <br>            <br>           <br>            <br>           <br>            <br>           <br>            <br>           <br>            <br>           <br>            <br>           <br>            <br>           <br>            <br>           <br>            <br>           <br>            <br>           <br>            <br>           <br>            <br>           <br>            <br>           <br>            <br>           <br>            <br>           <br>            <br>           <br>            <br>           <br>            <br>           <br>            <br>           <br>            <br>           <br>            <br>           <br>            <br>           <br>            <br>           <br>            <br>           <br>            <br>           <br>            <br>           <br>            <br>           <br>            <br>           <br>            <br>           <br>            <br>           <br>            <br>           <br>            <br>           <br>            <br>           <br>            <br>           <br>            <br>           <br>            <br>           <br>            <br>           <br>            <br>           <br>            <br>           <br>            <br>           <br>            <br>           <br>            <br>           <br>            <br>           <br>            <br>           <br>            <br>           <br>            <br>           <br>            <br>           <br>            <br>           <br>            <br>           <br>            <br>           <br>            <br>           <br>            <br>           <br>            <br>           <br>            <br>           <br>            <br>           <br>            <br>           <br>            <br>           <br>            <br>           <br>            <br>           <br>            <br>           <br>            <br>           <br>            <br>           <br>            <br>           <br>            <br>           <br>            <br>           <br>            <br>           <br>            <br>           <br>            <br>           <br>            <br>           <br>            <br>           <br>            <br>           <br>            <br>           <br>            <br>           <br>            <br>           <br>            <br>           <br>            <br>           <br>            <br>           <br>            <br>           <br>            <br>           <br>            <br>           <br>            <br>           <br>            <br>           <br>            <br>           <br>            <br>           <br>            <br>           <br>            <br>           <br>            <br>           <br>            <br>           <br>            <br>           <br>            <br>           <br>            <br>           <br>            <br>           <br>            <br>           <br>            <br>           <br>            <br>           <br>            <br>           <br>            <br>           <br>            <br>           <br>            <br>           <br>            <br>           <br>            <br>           <br>            <br>           <br>            <br>           <br>            <br>           <br>            <br>           <br>            <br>           <br>            <br>           <br>            <br>           <br>            <br>           <br>            <br>           <br>            <br>           <br>            <br>           <br>            <br>           <br>            <br>           <br>            <br>           <br>            <br>           <br>            <br>           <br>            <br>           <br>            <br>           <br>            <br>           <br>            <br>           <br>            <br>           <br>            <br>           <br>            <br>           <br>            <br>           <br>            <br>           <br>            <br>           <br>            <br>           <br>            <br>           <br>            <br>           <br>            <br>           <br>            <br>           <br>            <br>           <br>            <br>           <br>            <br>           <br>            <br>           <br>            <br>           <br>            <br>           <br>            <br>           <br>            <br>           <br>            <br>           <br>            <br>           <br>            <br>           <br>            <br>           <br>            <br>           <br>            <br>           <br>            <br>           <br>            <br>           <br>            <br>           <br>            <br>           <br>            <br>           <br>            <br>           <br>            <br>           <br>            <br>           <br>            <br>           <br>            <br>           <br>            <br>           <br>            <br>           <br>            <br>           <br>            <br>           <br>            <br>           <br>            <br>           <br>            <br>           <br>            <br>           <br>            <br>           <br>            <br>           <br>            <br>           <br>            <br>           <br>            <br>           <br>            <br>           <br>            <br>           <br>            <br>           <br>            <br>           <br>            <br>           <br>            <br>           <br>            <br>           <br>            <br>           <br>            <br>           <br>            <br>           <br>            <br>           <br>            <br>           <br>            <br>           <br>            <br>           <br>            <br>           <br>            <br>           <br>            <br>           <br>            <br>           <br>            <br>           <br>            <br>           <br>            <br>           <br>            <br>           <br>            <br>           <br>            <br>           <br>            <br>           <br>            <br>           <br>            <br>           <br>            <br>           <br>            <br>           <br>            <br>           <br>            <br>           <br>            <br>           <br>            <br>           <br>            <br>           <br>            <br>           <br>            <br>           <br>            <br>           <br>            <br>           <br>            <br>           <br>            <br>           <br>            <br>           <br>            <br>           <br>            <br>           <br>            <br>           <br>            <br>           <br>            <br>           <br>            <br>           <br>            <br>           <br>            <br>           <br>            <br>           <br>            <br>           <br>            <br>           <br>            <br>           <br>            <br>           <br>            <br>           <br>            <br>           <br>            <br>           <br>            <br>           <br>            <br>           <br>            <br>           <br>            <br>           <br>            <br>           <br>            <br>           <br>            <br>           <br>            <br>           <br>            <br>           <br>            <br>           <br>            <br>           <br>            <br>           <br>            <br>           <br>            <br>           <br>            <br>           <br>            <br>           <br>            <br>           <br>            <br>           <br>            <br>           <br>            <br>           <br>            <br>           <br>            <br>           <br>            <br>           <br>            <br>           <br>            <br>           <br>            <br>           <br>            <br>           <br>            <br>           <br>            <br>           <br>            <br>           <br>            <br>           <br>            <br>           <br>            <br>           <br>            <br>           <br>            <br>           <br>            <br>           <br>            <br>           <br>            <br>           <br>            <br>           <br>            <br>           <br>            <br>           <br>            <br>           <br>            <br>           <br>            <br>           <br>            <br>           <br>            <br>           <br>            <br>           <br>            <br>           <br>            <br>           <br>            <br>           <br>            <br>           <br>            <br>           <br>            <br>           <br>            <br>           <br>            <br>           <br>            <br>           <br>            <br>           <br>            <br>           <br>            <br>           <br>            <br>           <br>            <br>           <br>            <br>           <br>            <br>           <br>            <br>           <br>            <br>           <br>            <br>           <br>            <br>           <br>            <br>           <br>            <br>           <br>            <br>           <br>            <br>           <br>            <br>           <br>            <br>           <br>            <br>           <br>            <br>           <br>            <br>           <br>            <br>           <br>            <br>           <br>            <br>           <br>            <br>           <br>            <br>           <br>            <br>           <br>            <br>           <br>            <br>           <br>            <br>           <br>            <br>           <br>            <br>           <br>            <br>           <br>            <br>           <br>            <br>           <br>            <br>           <br>            <br>           <br>            <br>           <br>            <br>           <br>            <br>           <br>            <br>           <br>            <br>           <br>            <br>           <br>            <br>           <br>            <br>           <br>            <br>           <br>            <br>           <br>            <br>           <br>            <br>           <br>            <br>           <br>            <br>           <br>            <br>           <br>            <br>           <br>            <br>           <br>            <br>           <br>            <br>           <br>            <br>           <br>            <br>           <br>            <br>           <br>            <br>           <br>            <br>           <br>            <br>           <br>            <br>           <br>            <br>           <br>            <br>           <br>            <br>           <br>            <br>           <br>            <br>           <br>            <br>           <br>            <br>           <br>            <br>           <br>            <br>           <br>            <br>           <br>            <br>           <br>            <br>           <br>            <br>           <br>            <br>           <br>            <br>           <br>            <br>           <br>            <br>           <br>            <br>           <br>            <br>           <br>            <br>           <br>            <br>           <br>            <br>           <br>            <br>           <br>            <br>           <br>            <br>           <br>            <br>           <br>            <br>           <br>            <br>           <br>            <br>           <br>            <br>           <br>            <br>           <br>            <br>           <br>            <br>           <br>            <br>           <br>            <br>           <br>            <br>           <br>            <br>           <br>            <br>           <br>            <br>           <br>            <br>           <br>            <br>           <br>            <br>           <br>            <br>           <br>            <br>           <br>            <br>           <br>            <br>           <br>            <br>           <br>            <br>           <br>            <br>           <br>            <br>           <br>            <br>           <br>            <br>           <br>            <br>           <br>            <br>           <br>            <br>           <br>            <br>           <br>            <br>           <br>            <br>           <br>            <br>           <br>            <br>           <br>            <br>           <br>            <br>           <br>            <br>           <br>            <br>           <br>            <br>           <br>            <br>           <br>            <br>           <br>            <br>           <br>            <br>           <br>            <br>           <br>            <br>           <br>            <br>           <br>            <br>           <br>            <br>           <br>            <br>           <br>            <br>           <br>            <br>           <br>            <br>           <br>            <br>           <br>            <br>           <br>            <br>           <br>            <br>           <br>            <br>           <br>            <br>           <br>            <br>           <br>            <br>           <br>            <br>           <br>            <br>           <br>            <br>           <br>            <br>           <br>            <br>           <br>            <br>           <br>            <br>           <br>            <br>           <br>            <br>           <br>            <br>           <br>            <br>           <br>            <br>           <br>            <br>           <br>            <br>           <br>            <br>           <br>            <br>           <br>            <br>           <br>            <br>           <br>            <br>           <br>            <br>           <br>            <br>           <br>            <br>           <br>            <br>           <br>            <br>           <br>            <br>           <br>            <br>           <br>            <br>           <br>            <br>           <br>            <br>           <br>            <br>           <br>            <br>           <br>            <br>           <br>            <br>           <br>            <br>           <br>            <br>           <br>            <br>           <br>            <br>           <br>            <br>           <br>            <br>           <br>            <br>           <br>            <br>           <br>            <br>           <br>            <br>           <br>            <br>           <br>            <br>           <br>            <br>           <br>            <br>           <br>            <br>           <br>            <br>           <br>            <br>           <br>            <br>           <br>            <br>           <br>            <br>           <br>            <br>           <br>            <br>           <br>            <br>           <br>            <br>           <br>            <br>           <br>            <br>           <br>            <br>           <br>            <br>           <br>            <br>           <br>            <br>           <br>            <br>           <br>            <br>           <br>            <br>           <br>            <br>           <br>            <br>           <br>            <br>           <br>            <br>           <br>            <br>           <br>            <br>           <br>            <br>           <br>            <br>           <br>            <br>           <br>            <br>           <br>            <br>           <br>            <br>           <br>            <br>           <br>            <br>           <br>            <br>           <br>            <br>           <br>            <br>           <br>            <br>           <br>            <br>           <br>            <br>           <br>            <br>           <br>            <br>           <br>            <br>           <br>            <br>           <br>            <br>           <br>            <br>           <br>            <br>           <br>            <br>           <br>            <br>           <br>            <br>           <br>            <br>           <br>            <br>           <br>            <br>           <br>            <br>           <br>            <br>           <br>            <br>           <br>            <br>           <br>            <br>           <br>            <br>           <br>            <br>           <br>            <br>           <br>            <br>           <br>            <br>           <br>            <br>           <br>            <br>           <br>            <br>           <br>            <br>           <br>            <br>           <br>            <br>           <br>            <br>           <br>            <br>           <br>            <br>           <br>            <br>           <br>            <br>           <br>            <br>           <br>            <br>           <br>            <br>           <br>            <br>           <br>            <br>           <br>            <br>           <br>            <br>           <br>            <br>           <br>            <br>           <br>            <br>           <br>            <br>           <br>            <br>           <br>            <br>           <br>            <br>           <br>            <br>           <br>            <br>           <br>            <br>           <br>            <br>           <br>            <br>           <br>            <br>           <br>            <br>           <br>            <br>           <br>            <br>           <br>            <br>           <br>            <br>           <br>            <br>           <br>            <br>           <br>            <br>           <br>            <br>           <br>            <br>           <br>            <br>           <br>            <br>           <br>            <br>           <br>            <br>           <br>            <br>           <br>            <br>           <br>            <br>           <br>            <br>           <br>            <br>           <br>            <br>           <br>            <br>           <br>            <br>           <br>            <br>           <br>            <br>           <br>            <br>           <br>            <br>           <br>            <br>           <br>            <br>           <br>            <br>           <br>            <br>           <br>            <br>           <br>            <br>           <br>            <br>           <br>            <br>           <br>            <br>           <br>            <br>           <br>            <br>           <br>            <br>           <br>            <br>           <br>            <br>           <br>            <br>           <br>            <br>           <br>            <br>           <br>            <br>           <br>            <br>           <br>            <br>           <br>            <br>           <br>            <br>           <br>            <br>           <br>            <br>           <br>            <br>           <br>            <br>           <br>            <br>           <br>            <br>           <br>            <br>           <br>            <br>           <br>            <br>           <br>            <br>           <br>            <br>           <br>            <br>           <br>            <br>           <br>            <br>           <br>            <br>           <br>            <br>           <br>            <br>           <br>            <br>           <br>            <br>           <br>            <br>           <br>            <br>           <br>            <br>           <br>            <br>           <br>            <br>           <br>            <br>           <br>            <br>           <br>            <br>           <br>            <br>           <br>            <br>           <br>            <br>           <br>            <br>           <br>            <br>           <br>            <br>           <br>            <br>           <br>            <br>           <br>            <br>           <br>            <br>           <br>            <br>           <br>            <br>           <br>            <br>           <br>            <br>           <br>            <br>           <br>            <br>           <br>            <br>           <br>            <br>           <br>            <br>           <br>            <br>           <br>            <br>           <br>            <br>           <br>            <br>           <br>            <br>           <br>            <br>           <br>            <br>           <br>            <br>           <br>            <br>           <br>            <br>           <br>            <br>           <br>            <br>           <br>            <br>           <br>            <br>           <br>            <br>           <br>            <br>           <br>            <br>           <br>            <br>           <br>            <br>           <br>            <br>           <br>            <br>           <br>            <br>           <br>            <br>           <br>            <br>           <br>            <br>           <br>            <br>           <br>            <br>           <br>            <br>           <br>            <br>           <br>            <br>           <br>            <br>           <br>            <br>           <br>            <br>           <br>            <br>           <br>            <br>           <br>            <br>           <br>            <br>           <br>            <br>           <br>            <br>           <br>            <br>           <br>            <br>           <br>            <br>           <br>            <br>           <br>            <br>           <br>            <br>           <br>            <br>           <br>            <br>           <br>            <br>           <br>            <br>           <br>            <br>           <br>            <br>           <br>            <br>           <br>            <br>           <br>            <br>           <br>            <br>           <br>            <br>           <br>            <br>           <br>            <br>           <br>            <br>           <br>            <br>           <br>            <br>           <br>            <br>           <br>            <br>           <br>            <br>           <br>            <br>           <br>            <br>           <br>            <br>           <br>            <br>           <br>            <br>           <br>            <br>           <br>            <br>           <br>            <br>           <br>            <br>           <br>            <br>           <br>            <br>           <br>            <br>           <br>            <br>           <br>            <br>           <br>            <br>           <br>            <br>           <br>            <br>           <br>            <br>           <br>            <br>           <br>            <br>           <br>            <br>           <br>            <br>           <br>            <br>           <br>            <br>           <br>            <br>           <br>            <br>           <br>            <br>           <br>            <br>           <br>            <br>           <br>            <br>           <br>            <br>           <br>            <br>           <br>            <br>           <br>            <br>           <br>            <br>           <br>            <br>           <br>            <br>           <br>            <br>           <br>            <br>           <br>            <br>           <br>            <br>           <br>            <br>           <br>            <br>           <br>            <br>           <br>            <br>           <br>            <br>           <br>            <br>           <br>            <br>           <br>            <br>           <br>            <br>           <br>            <br>           <br>            <br>           <br>            <br>           <br>            <br>           <br>            <br>           <br>            <br>           <br>            <br>           <br>            <br>           <br>            <br>           <br>            <br>           <br>            <br>           <br>            <br>           <br>            <br>           <br>            <br>           <br>            <br>           <br>            <br>           <br>            <br>           <br>            <br>           <br>            <br>           <br>            <br>           <br>            <br>           <br>            <br>           <br>            <br>           <br>            <br>           <br>            <br>           <br>            <br>           <br>            <br>           <br>            <br>           <br>            <br>           <br>            <br>           <br>            <br>           <br>            <br>           <br>            <br>           <br>            <br>           <br>            <br>           <br>            <br>           <br>            <br>           <br>            <br>           <br>            <br>           <br>            <br>           <br>            <br>           <br>            <br>           <br>            <br>           <br>            <br>           <br>            <br>           <br>            <br>           <br>            <br>           <br>            <br>           <br>            <br>           <br>            <br>           <br>            <br>           <br>            <br>           <br>            <br>           <br>            <br>           <br>            <br>           <br>            <br>           <br>            <br>           <br>            <br>           <br>            <br>           <br>            <br>           <br>            <br>           <br>            <br>           <br>            <br>           <br>            <br>           <br>            <br>           <br>            <br>           <br>            <br>           <br>            <br>           <br>            <br>           <br>            <br>           <br>            <br>           <br>            <br>           <br>            <br>           <br>            <br>           <br>            <br>           <br>            <br>           <br>            <br>           <br>            <br>           <br>            <br>           <br>            <br>           <br>            <br>           <br>            <br>           <br>            <br>           <br>            <br>           <br>            <br>           <br>            <br>           <br>            <br>           <br>            <br>           <br>            <br>           <br>            <br>           <br>            <br>           <br>            <br>           <br>            <br>           <br>            <br>           <br>            <br>           <br>            <br>           <br>            <br>           <br>            <br>           <br>            <br>           <br>            <br>           <br>            <br>           <br>            <br>           <br>            <br>           <br>            <br>           <br>            <br>           <br>            <br>           <br>            <br>           <br>            <br>           <br>            <br>           <br>            <br>           <br>            <br>           <br>            <br>           <br>            <br>           <br>            <br>           <br>            <br>           <br>            <br>           <br>            <br>           <br>            <br>           <br>            <br>           <br>            <br>           <br>            <br>           <br>            <br>           <br>            <br>           <br>            <br>           <br>            <br>           <br>            <br>           <br>            <br>           <br>            <br>           <br>            <br>           <br>            <br>           <br>            <br>           <br>            <br>           <br>            <br>           <br>            <br>           <br>            <br>           <br>            <br>           <br>            <br>           <br>            <br>           <br>            <br>           <br>            <br>           <br>            <br>           <br>            <br>           <br>            <br>           <br>            <br>           <br>            <br>           <br>            <br>           <br>            <br>           <br>            <br>           <br>            <br>           <br>            <br>           <br>            <br>           <br>            <br>           <br>            <br>           <br>            <br>           <br>            <br>           <br>            <br>           <br>            <br>           <br>            <br>           <br>            <br>           <br>            <br>           <br>            <br>           <br>            <br>           <br>            <br>           <br>            <br>           <br>            <br>           <br>            <br>           <br>            <br>           <br>            <br>           <br>            <br>           <br>            <br>           <br>            <br>           <br>            <br>           <br>            <br>           <br>            <br>           <br>            <br>           <br>            <br>           <br>            <br>           <br>            <br>           <br>            <br>           <br>            <br>           <br>            <br>           <br>            <br>           <br>            <br>           <br>            <br>           <br>            <br>           <br>            <br>           <br>            <br>           <br>            <br>           <br>            <br>           <br>            <br>           <br>            <br>           <br>            <br>           <br>            <br>           <br>            <br>           <br>            <br>           <br>            <br>           <br>            <br>           <br>            <br>           <br>            <br>           <br>            <br>           <br>            <br>           <br>            <br>           <br>            <br>           <br>            <br>           <br>            <br>           <br>            <br>           <br>            <br>           <br>            <br>           <br>            <br>           <br>            <br>           <br>            <br>           <br>            <br>           <br>            <br>           <br>            <br>           <br>            <br>           <br>            <br>           <br>            <br>           <br>            <br>           <br>            <br>           <br>            <br>           <br>            <br>           <br>            <br>           <br>            <br>           <br>            <br>           <br>            <br>           <br>            <br>           <br>            <br>           <br>            <br>           <br>            <br>           <br>            <br>           <br>            <br>           <br>            <br>           <br>            <br>           <br>            <br>           <br>            <br>           <br>            <br>           <br>            <br>           <br>            <br>           <br>            <br>           <br>            <br>           <br>            <br>           <br>            <br>           <br>            <br>           <br>            <br>           <br>            <br>           <br>            <br>           <br>            <br>           <br>            <br>           <br>            <br>           <br>            <br>           <br>            <br>           <br>            <br>           <br>            <br>           <br>            <br>           <br>            <br>           <br>            <br>           <br>            <br>           <br>            <br>           <br>            <br>           <br>            <br>           <br>            <br>           <br>            <br>           <br>            <br>           <br>            <br>           <br>            <br>           <br>            <br>           <br>            <br>           <br>            <br>           <br>            <br>           <br>            <br>           <br>            <br>           <br>            <br>           <br>            <br>           <br>            <br>           <br>            <br>           <br>            <br>           <br>            <br>           <br>            <br>           <br>            <br>           <br>            <br>           <br>            <br>           <br>            <br>           <br>            <br>           <br>            <br>           <br>            <br>           <br>            <br>           <br>            <br>           <br>            <br>           <br>            <br>           <br>            <br>           <br>            <br>           <br>            <br>           <br>            <br>           <br>            <br>           <br>            <br>           <br>            <br>           <br>            <br>           <br>            <br>           <br>            <br>           <br>            <br>           <br>            <br>           <br>            <br>           <br>            <br>           <br>            <br>           <br>            <br>           <br>            <br>           <br>            <br>           <br>            <br>           <br>            <br>           <br>            <br>           <br>            <br>           <br>            <br>           <br>            <br>           <br>            <br>           <br>            <br>           <br>            <br>           <br>            <br>           <br>            <br>           <br>            <br>           <br>            <br>           <br>            <br>           <br>            <br>           <br>            <br>           <br>            <br>           <br>            <br>           <br>            <br>           <br>            <br>           <br>            <br>           <br>            <br>           <br>            <br>           <br>            <br>           <br>            <br>           <br>            <br>           <br>            <br>           <br>            <br>           <br>            <br>           <br>            <br>           <br>            <br>           <br>            <br>           <br>            <br>           <br>            <br>           <br>            <br>           <br>            <br>           <br>            <br>           <br>            <br>           <br>            <br>           <br>            <br>           <br>            <br>           <br>            <br>           <br>            <br>           <br>            <br>           <br>            <br>           <br>            <br>           <br>            <br>           <br>            <br>           <br>            <br>           <br>            <br>           <br>            <br>           <br>            <br>           <br>            <br>           <br>            <br>           <br>            <br>           <br>            <br>           <br>            <br>           <br>            <br>           <br>            <br>           <br>            <br>           <br>            <br>           <br>            <br>           <br>            <br>           <br>            <br>           <br>            <br>           <br>            <br>           <br>            <br>           <br>            <br>           <br>            <br>           <br>            <br>           <br>            <br>           <br>            <br>           <br>            <br>           <br>            <br>           <br>            <br>           <br>            <br>           <br>            <br>           <br>            <br>           <br>            <br>           <br>            <br>           <br>            <br>           <br>            <br>           <br>            <br>           <br>            <br>           <br>            <br>           <br>            <br>           <br>            <br>           <br>            <br>           <br>            <br>           <br>            <br>           <br>            <br>           <br>            <br>           <br>            <br>           <br>            <br>           <br>            <br>           <br>            <br>           <br>            <br>           <br>            <br>           <br>            <br>           <br>            <br>           <br>            <br>           <br>            <br>           <br>            <br>           <br>            <br>           <br>            <br>           <br>            <br>           <br>            <br>           <br>            <br>           <br>            <br>           <br>            <br>           <br>            <br>           <br>            <br>           <br>            <br>           <br>            <br>           <br>            <br>           <br>            <br>           <br>            <br>           <br>            <br>           <br>            <br>           <br>            <br>           <br>            <br>           <br>            <br>           <br>            <br>           <br>            <br>           <br>            <br>           <br>            <br>           <br>            <br>           <br>            <br>           <br>            <br>           <br>            <br>           <br>            <br>           <br>            <br>           <br>            <br>           <br>            <br>           <br>            <br>           <br>            <br>           <br>            <br>           <br>            <br>           <br>            <br>           <br>            <br>           <br>            <br>           <br>            <br>           <br>            <br>           <br>            <br>           <br>            <br>           <br>            <br>           <br>            <br>           <br>            <br>           <br>            <br>           <br>            <br>           <br>            <br>           <br>            <br>           <br>            <br>           <br>            <br>           <br>            <br>           <br>            <br>           <br>            <br>           <br>            <br>           <br>            <br>           <br>            <br>           <br>            <br>           <br>            <br>           <br>            <br>           <br>            <br>           <br>            <br>           <br>            <br>           <br>            <br>           <br>            <br>           <br>            <br>           <br>            <br>           <br>            <br>           <br>            <br>           <br>            <br>           <br>            <br>           <br>            <br>           <br>            <br>           <br>            <br>           <br>            <br>           <br>            <br>           <br>            <br>           <br>            <br>           <br>            <br>           <br>            <br>           <br>            <br>           <br>            <br>           <br>            <br>           <br>            <br>           <br>            <br>           <br>            <br>           <br>            <br>           <br>            <br>           <br>            <br>           <br>            <br>           <br>            <br>           <br>            <br>           <br>            <br>           <br>            <br>           <br>            <br>           <br>            <br>           <br>            <br>           <br>            <br>           <br>            <br>           <br>            <br>           <br>            <br>           <br>            <br>           <br>            <br>           <br>            <br>           <br>            <br>           <br>            <br>           <br>            <br>           <br>            <br>           <br>            <br>           <br>            <br>           <br>            <br>           <br>            <br>           <br>            <br>           <br>            <br>           <br>            <br>           <br>            <br>           <br>            <br>           <br>            <br>           <br>            <br>           <br>            <br>           <br>            <br>           <br>            <br>           <br>            <br>           <br>            <br>           <br>            <br>           <br>            <br>           <br>            <br>           <br>            <br>           <br>            <br>           <br>            <br>           <br>            <br>           <br>            <br>           <br>            <br>           <br>            <br>           <br>            <br>           <br>            <br>           <br>            <br>           <br>            <br>           <br>            <br>           <br>            <br>           <br>            <br>           <br>            <br>           <br>            <br>           <br>            <br>           <br>            <br>           <br>            <br>           <br>            <br>           <br>            <br>           <br>            <br>           <br>            <br>           <br>            <br>           <br>            <br>           <br>            <br>           <br>            <br>           <br>            <br>           <br>            <br>           <br>            <br>           <br>            <br>           <br>            <br>           <br>            <br>           <br>            <br>           <br>            <br>           <br>            <br>           <br>            <br>           <br>            <br>           <br>            <br>           <br>            <br>           <br>            <br>           <br>            <br>           <br>            <br>           <br>            <br>           <br>            <br>           <br>            <br>           <br>            <br>           <br>            <br>           <br>            <br>           <br>            <br>           <br>            <br>           <br>            <br>           <br>            <br>           <br>            <br>           <br>            <br>           <br>            <br>           <br>            <br>           <br>            <br>           <br>            <br>           <br>            <br>           <br>            <br>           <br>            <br>           <br>            <br>           <br>            <br>           <br>            <br>           <br>            <br>           <br>            <br>           <br>            <br>           <br>            <br>           <br>            <br>           <br>            <br>           <br>            <br>           <br>            <br>           <br>            <br>           <br>            <br>           <br>            <br>           <br>            <br>           <br>            <br>           <br>            <br>           <br>            <br>           <br>            <br>           <br>            <br>           <br>            <br>           <br>            <br>           <br>            <br>           <br>            <br>           <br>            <br>           <br>            <br>           <br>            <br>           <br>            <br>           <br>            <br>           <br>            <br>           <br>            <br>           <br>            <br>           <br>            <br>           <br>            <br>           <br>            <br>           <br>            <br>           <br>            <br>           <br>            <br>           <br>            <br>           <br>            <br>           <br>            <br>           <br>            <br>           <br>            <br>           <br>            <br>           <br>            <br>           <br>            <br>           <br>            <br>           <br>            <br>           <br>            <br>           <br>            <br>           <br>            <br>           <br>            <br>           <br>            <br>           <br>            <br>           <br>            <br>           <br>            <br>           <br>            <br>           <br>            <br>           <br>            <br>           <br>            <br>           <br>            <br>           <br>            <br>           <br>            <br>           <br>            <br>           <br>            <br>           <br>            <br>           <br>            <br>           <br>            <br>           <br>            <br>           <br>            <br>           <br>            <br>           <br>            <br>           <br>            <br>           <br>            <br>           <br>            <br>           <br>            <br>           <br>            <br>           <br>            <br>           <br>            <br>           <br>            <br>           <br>            <br>           <br>            <br>           <br>            <br>           <br>            <br>                      <br>            <br>           <br>            <br>           <br>            <br>           <br>            <br>           <br>            <br>           <br>            <br>           <br>            <br>           <br>            <br>           <br>            <br>           <br>            <br>           <br>            <br>           <br>            <br>           <br>            <br>           <br>            <br>           <br>            <br>           <br>            <br>           <br>            <br>           <br>            <br>           <br>            <br>           <br>            <br>           <br>            <br>           <br>            <br>           <br>            <br>           <br>            <br>           <br>            <br>           <br>            <br>           <br>            <br>           <br>            <br>                       <br>            <br>           <br>            <br>           <br>            <br>           <br>            <br>           <br>            <br>           <br>            <br>                      <br>            <br>           <br>            <br>           <br>            <br>           <br>            <br>           <br>            <br>           <br>            <br>           <br>            <br>           <br>            <br>           <br>            <br>           <br>            <br>           <br>            <br>           <br>            <br>           <br>            <br>           <br>            <br>           <br>            <br>                                 <br>            <br>           <br>            <br>           <br>            <br>           <br>            <br>           <br>            <br>           <br>            <br>           <br>            <br>           <br>            <br>           <br>            <br>           <br>            <br>           <br>            <br>           <br>            <br>           <br>            <br>           <br>            <br>           <br>            <br>                      <br>            <br>           <br>            <br>           <br>            <br>           <br>            <br>           <br>            <br>           <br>            <br>           <br>            <br>           <br>            <br>           <br>            <br>           <br>            <br>           <br>            <br>           <br>            <br>           <br>            <br>           <br>            <br>           <br>            <br>                      <br>            <br>           <br>            <br>           <br>            <br>           <br>            <br>           <br>            <br>           <br>            <br>           <br>            <br>           <br>            <br>           <br>            <br>           <br>            <br>           <br>            <br>           <br>            <br>           <br>            <br>           <br>            <br>           <br>            <br>           <br>            <br>           <br>            <br>           <br>            <br>           <br>            <br>           <br>            <br>           <br>            <br>           <br>            <br>                      <br>            <br>           <br>            <br>           <br>            <br>           <br>            <br>           <br>            <br>                                 <br>            <br>           <br>            <br>           <br>            <br>           <br>            <br>           <br>            <br>           <br>            <br>           <br>            <br>           <br>            <br>                      <br>            <br>           <br>            <br>           <br>            <br>           <br>            <br>           <br>            <br>           <br>            <br>                      <br>            <br>           <br>            <br>           <br>            <br>           <br>            <br>           <br>            <br>           <br>            <br>           <br>            <br>           <br>            <br>           <br>            <br>           <br>            <br>           <br>            <br>           <br>            <br>           <br>            <br>                      <br>            <br>           <br>            <br>           <br>            <br>           <br>            <br>           <br>            <br>           <br>            <br>           <br>            <br>           <br>            <br>           <br>            <br>           <br>            <br>           <br>            <br>           <br>            <br>           <br>            <br>           <br>            <br>           <br>            <br>                      <br>            <br>           <br>            <br>           <br>            <br>           <br>            <br>           <br>            <br>           <br>            <br>           <br>            <br>           <br>            <br>                                 <br>            <br>           <br>            <br>           <br>            <br>           <br>            <br>           <br>            <br>           <br>            <br>           <br>            <br>           <br>            <br>           <br>            <br>                      <br>            <br>           <br>            <br>           <br>            <br>           <br>            <br>           <br>            <br>                       <br>           <br>            <br>           <br>            <br>           <br>            <br>           <br>            <br>           <br>            <br>           <br>            <br>           <br>            <br>           <br>            <br>           <br>            <br>           <br>            <br>           <br>            <br>           <br>            <br>                      <br>            <br>           <br>            <br>           <br>            <br>           <br>            <br>           <br>            <br>           <br>            <br>           <br>            <br>           <br>            <br>           <br>            <br>                      <br>            <br>           <br>            <br>           <br>            <br>           <br>            <br>           <br>            <br>           <br>            <br>                      <br>            <br>           <br>            <br>           <br>            <br>           <br>            <br>           <br>            <br>           <br>            <br>           <br>            <br>           <br>            <br>                      <br>            <br>           <br>            <br>           <br>            <br>           <br>            <br>           <br>            <br>           <br>            <br>                      <br>            <br>           <br>            <br>           <br>            <br>           <br>            <br>           <br>            <br>           <br>            <br>           <br>            <br>                      <br>            <br>           <br>            <br>           <br>            <br>           <br>            <br>           <br>            <br>           <br>            <br>           <br>            <br>           <br>            <br>           <br>            <br>           <br>            <br>           <br>            <br>           <br>            <br>           <br>            <br>           <br>            <br>                      <br>            <br>           <br>            <br>           <br>            <br>           <br>            <br>           <br>            <br>           <br>            <br>           <br>            <br>                      <br>            <br>           <br>            <br>               <br>            <br>           <br>            <br>           <br>            <br>           <br>            <br>           <br>            <br>           <br>            <br>                      <br>            <br>           <br>            <br>           <br>            <br>                      <br>            <br>           <br>            <br>           <br>            <br>                      <br>            <br>           <br>            <br>           <br>            <br>           <br>            <br>           <br>            <br>           <br>            <br>           <br>            <br>           <br>            <br>           <br>            <br>           <br>            <br>           <br>            <br>           <br>            <br>           <br>            <br>           <br>            <br>                      <br>            <br>           <br>            <br>           <br>            <br>           <br>            <br>           <br>            <br>           <br>            <br>           <br>            <br>                      <br>            <br>           <br>            <br>           <br>            <br>           <br>            <br>           <br>            <br>           <br>            <br>                      <br>            <br>           <br>            <br>                      <br>            <br>           <br>            <br>           <br>            <br>           <br>            <br>           <br>            <br>           <br>            <br>           <br>            <br>           <br>            <br>           <br>            <br>           <br>            <br>           <br>            <br>           <br>            <br>           <br>            <br>           <br>            <br>           <br>            <br>           <br>            <br>           <br>            <br>           <br>            <br>                      <br>            <br>           <br>            <br>           <br>            <br>           <br>            <br>           <br>            <br>           <br>            <br>           <br>            <br>           <br>            <br>           <br>            <br>                      <br>            <br>           <br>            <br>           <br>            <br>           <br>            <br>           <br>            <br>           <br>            <br>                      <br>            <br>           <br>            <br>           <br>            <br>                      <br>            <br>           <br>            <br>           <br>            <br>           <br>            <br>           <br>            <br>           <br>            <br>           <br>            <br>           <br>            <br>           <br>            <br>           <br>            <br>           <br>            <br>           <br>            <br>                      <br>            <br>           <br>            <br>           <br>            <br>   <br>            <br>           <br>            <br>           <br>            <br>                       <br>           <br>            <br>           <br>            <br><br>   <br>            <br>           <br>            <br>           <br>            <br>           <br>            <br>           <br>            <br>                      <br>            <br>           <br>            <br>           <br>            <br>           <br>            <br>           <br>            <br>           <br>            <br>                      <br>            <br>           <br>            <br>           <br>            <br>           <br>            <br>           <br>            <br>           <br>            <br>           <br>            <br>           <br>            <br>           <br>            <br>                      <br>            <br>           <br>            <br>           <br>            <br>           <br>            <br>           <br>            <br>           <br>            <br>                      <br>            <br>           <br>            <br>           <br>            <br>           <br>            <br>           <br>            <br>           <br>            <br>           <br>            <br>           <br>            <br>           <br>            <br>           <br>            <br>           <br>            <br>           <br>            <br>                      <br>            <br>           <br>            <br>                      <br>            <br><br>   <br>            <br>           <br>            <br>           <br>            <br>           <br>            <br>           <br>            <br>                      <br>            <br>           <br>            <br>           <br>            <br>           <br>            <br>           <br>            <br>           <br>            <br><br>   <br>            <br>           <br>            <br>                      <br>            <br>           <br>            <br>           <br>            <br>                      <br>            <br>           <br>            <br><br>                                 <br>            <br>           <br>            <br>           <br>            <br>           <br>            <br>           <br>            <br>                      <br>            <br>           <br>            <br>           <br>            <br>           <br>            <br>           <br>            <br>           <br>            <br>           <br>            <br>           <br>            <br>           <br>            <br>                      <br>            <br>           <br>            <br>           <br>            <br>           <br>            <br>           <br>            <br>           <br>            <br>           <br>            <br>           <br>            <br>           <br>            <br>           <br>            <br>           <br>            <br>           <br>            <br>                      <br>            <br>           <br>            <br>           <br>            <br>           <br>            <br>           <br>            <br>           <br>            <br>           <br>            <br>           <br>            <br>           <br>            <br>           <br>            <br>           <br>            <br>           <br>            <br>           <br>            <br>           <br>            <br>           <br>            <br>           <br>            <br>           <br>            <br>           <br>            <br>           <br>            <br>           <br>            <br>           <br>            <br>           <br>            <br>           <br>            <br><br>   <br>            <br>           <br>            <br>           <br>            <br>           <br>            <br>           <br>            <br>           <br>            <br>           <br>            <br>           <br>            <br>           <br>            <br>           <br>            <br>           <br>            <br>           <br>            <br>               <br>            <br>           <br>            <br>           <br>            <br>   <br>            <br>           <br>            <br>           <br>            <br>           <br>            <br>           <br>            <br>           <br>            <br><br>    <br>            <br>           <br>            <br>           <br>            <br>           <br>            <br>           <br>            <br>           <br>            <br>           <br>            <br>           <br>            <br>                      <br>            <br>           <br>            <br>           <br>            <br>           <br>            <br>           <br>            <br>           <br>            <br>           <br>            <br>           <br>            <br>           <br>            <br>           <br>            <br>           <br>            <br>           <br>            <br>           <br>            <br>           <br>            <br>           <br>            <br>           <br>            <br>           <br>            <br>           <br>            <br>           <br>            <br>           <br>            <br>           <br>            <br>           <br>            <br><br>   <br>            <br>           <br>            <br>           <br>            <br>           <br>            <br>           <br>            <br>           <br>            <br>           <br>            <br>           <br>            <br>           <br>            <br>           <br>            <br>           <br>            <br>               <br>            <br>           <br>            <br>           <br>            <br>           <br>            <br>           <br>            <br>           <br>            <br>           <br>            <br>           <br>            <br>           <br>            <br>           <br>            <br>           <br>            <br>           <br>            <br>           <br>            <br>           <br>            <br>           <br>            <br>           <br>            <br>           <br>            <br>           <br>            <br>           <br>            <br>           <br>            <br>           <br>            <br>           <br>            <br>           <br>            <br>            <br>            <br>           <br>            <br>           <br>            <br>, <br><br><br>            <br>           <br>            <br>                      <br>            <br>           <br>            <br>           <br>            <br>           <br>            <br>                      <br>            <br>           <br>            <br>           <br>            <br>           <br>            <br>           <br>            <br>           <br>            <br>           <br>            <br>           <br>            <br>                      <br>            <br>           <br>            <br>           <br>            <br>           <br>            <br>           <br>            <br>           <br>            <br>           <br>            <br>           <br>            <br>           <br>            <br>           <br>            <br>           <br>            <br>           <br>            <br>           <br>            <br>           <br>            <br>           <br>            <br>           <br>            <br>           <br>            <br>           <br>            <br>           <br>            <br>           <br>            <br>           <br>            <br>           <br>            <br>           <br>            <br>           <br>            <br>           <br>            <br>            <br>            <br>           <br>            <br>           <br>            <br>           <br>            <br>           <br>            <br>           <br>            <br>           <br>            <br>           <br>            <br>           <br>            <br>           <br>            <br>           <br>            <br>           <br>            <br>           <br>            <br>           <br>            <br>           <br>            <br>           <br>            <br>           <br>            <br>           <br>            <br>           <br>            <br>           <br>            <br>           <br>            <br>           <br>            <br>           <br>            <br>           <br>            <br>           <br>            <br>           <br>            <br>           <br>            <br>           <br>            <br>           <br>            <br>           <br>            <br>           <br>            <br>           <br>            <br>           <br>            <br>           <br>            <br>           <br>            <br><br>           <br>            <br>           <br>            <br>           <br>            <br>           <br>            <br>           <br>            <br>                      <br>            <br>           <br>            <br>           <br>            <br>           <br>            <br>           <br>            <br>           <br>            <br>           <br>            <br>           <br>            <br>           <br>            <br>           <br>            <br>           <br>            <br>           <br>            <br>           <br>            <br>           <br>            <br>           <br>            <br>           <br>            <br>           <br>            <br>           <br>            <br>           <br>            <br>           <br>            <br>           <br>            <br>           <br>            <br>           <br>            <br>           <br>            <br>           <br>            <br>           <br>            <br>           <br>            <br>           <br>            <br>           <br>            <br>           <br>            <br>           <br>            <br>           <br>            <br>           <br>            <br>           <br>            <br>           <br>            <br>           <br>            <br>           <br>            <br>           <br>            <br>           <br>            <br>           <br>            <br>           <br>            <br>           <br>            <br>           <br>            <br>           <br>            <br>           <br>            <br>           <br>            <br>           <br>            <br>           <br>            <br>           <br>            <br>           <br>            <br>           <br>            <br>           <br>            <br>           <br>            <br>           <br>            <br>           <br>            <br>           <br>            <br>           <br>            <br>           <br>            <br>           <br>            <br>           <br>            <br>           <br>            <br>           <br>            <br>           <br>            <br>           <br>            <br>           <br>            <br>           <br>            <br>           <br>            <br>           <br>            <br>           <br>            <br>           <br>            <br>           <br>            <br>           <br>            <br>           <br>            <br>           <br>            <br>           <br>            <br>           <br>            <br>           <br>            <br>           <br>            <br>           <br>            <br>           <br>            <br>           <br>            <br>           <br>            <br>           <br>            <br>           <br>            <br>           <br>            <br>           <br>            <br>           <br>            <br>            <br>           <br>            <br>           <br>            <br>           <br>            <br>           <br>            <br>           <br>            <br>           <br>            <br>           <br>            <br>           <br>            <br>           <br>            <br>           <br>            <br>           <br>            <br>           <br>            <br>           <br>            <br>           <br>            <br>           <br>            <br>           <br>            <br>           <br>            <br>           <br>            <br>           <br>            <br>           <br>            <br>           <br>            <br>           <br>            <br>           <br>            <br>           <br>            <br>           <br>            <br>           <br>            <br>           <br>            <br>           <br>            <br>           <br>            <br>           <br>            <br>           <br>            <br>           <br>            <br>           <br>            <br>           <br>            <br>           <br>            <br>           <br>            <br>           <br>            <br>           <br>            <br>           <br>            <br>           <br>            <br>           <br>            <br>           <br>            <br>           <br>            <br>           <br>            <br>           <br>            <br>           <br>            <br>           <br>            <br>           <br>            <br>           <br>            <br>           <br>            <br>           <br>            <br>           <br>            <br>           <br>            <br>           <br>            <br>           <br>            <br>           <br>            <br>           <br>            <br>           <br>            <br>           <br>            <br>           <br>            <br>           <br>            <br>           <br>            <br>           <br>            <br>           <br>            <br>           <br>            <br>           <br>            <br>           <br>            <br>           <br>            <br>           <br>            <br>           <br>            <br>           <br>            <br>           <br>            <br>           <br>            <br>           <br>            <br>           <br>            <br>           <br>            <br>           <br>            <br>           <br>            <br>           <br>            <br>           <br>            <br>           <br>            <br>           <br>            <br>           <br>            <br>           <br>            <br>           <br>            <br>           <br>            <br>           <br>            <br>           <br>            <br>           <br>            <br>           <br>           <br><br>           <br>            <br>           <br>            <br>           <br>            <br>           <br>            <br>           <br>            <br>           <br>            <br>           <br>            <br>           <br>            <br>           <br>            <br>           <br>            <br>           <br>            <br>           <br>            <br>           <br>            <br>           <br>            <br>           <br>            <br>           <br>            <br>           <br>            <br>           <br>            <br>           <br>            <br>           <br>            <br>           <br>            <br>           <br>            <br>           <br>            <br>           <br>            <br>           <br>            <br>           <br>            <br>           <br>            <br>           <br>            <br>           <br>            <br>           <br>            <br>           <br>            <br>           <br>            <br>           <br>            <br>           <br>            <br>           <br>            <br>           <br>            <br>           <br>            <br>           <br>            <br>           <br>            <br>           <br>            <br>           <br>            <br>           <br>            <br>                                                                       <br>           <br>            <br>           <br>            <br>           <br>            <br>           <br>            <br>           <br>            <br>           <br>            <br>           <br>            <br>           <br>            <br>           <br>            <br><br>           <br>            <br><br>           <br>            <br> <br>           <br>            <br>           <br>            <br>           <br>            <br>           <br>            <br>           <br>            <br>           <br>            <br>           <br>            <br>           <br>            <br>           <br>            <br>           <br>            <br><br>       <br>            <br><br>           <br>            <br>           <br>            <br>           <br>            <br>           <br>            <br><br>   <br>            <br>           <br>            <br>           <br>            <br>           <br>            <br>           <br>            <br>           <br>            <br>           <br>            <br>           <br>            <br>           <br>            <br>           <br>            <br>           <br>            <br>           <br>            <br>           <br>            <br>           <br>            <br>           <br>            <br>           <br>            <br>           <br>            <br>           <br>            <br><br>   <br>            <br>           <br>            <br>           <br>            <br>           <br>            <br>           <br>            <br>       <br>            <br><br>   <br>            <br>           <br>            <br>           <br>            <br>           <br>            <br>           <br>            <br>       <br>            <br><br>   <br>            <br>           <br>            <br>           <br>            <br>           <br>            <br>           <br>            <br><br>           <br>            <br>           <br>            <br>           <br>            <br>           <br>            <br>           <br>            <br>           <br>            <br>           <br>            <br>           <br>            <br>           <br>            <br><br>   <br>            <br>           <br>            <br>           <br>            <br>           <br>            <br>           <br>            <br>           <br>            <br> <br>            <br>           <br>            <br>           <br>            <br>           <br>            <br>           <br>            <br>           <br>            <br>           <br>            <br>           <br>            <br>           <br>            <br>           <br>            <br>           <br>            <br>               <br>            <br>           <br>            <br>           <br>            <br>           <br>            <br>           <br>            <br><br>           <br>            <br>           <br>            <br>           <br>            <br>           <br>            <br>           <br>            <br>           <br>            <br>           <br>            <br>           <br>            <br>           <br>            <br>           <br>            <br>           <br>            <br>           <br>            <br>           <br>            <br>           <br>            <br>           <br>            <br><br>   <br>            <br>           <br>            <br>           <br>            <br>           <br>            <br>           <br>            <br>           <br>            <br><br>       <br>            <br>           <br>            <br>           <br>            <br>           <br>            <br>           <br>            <br>           <br>            <br>           <br>            <br>           <br>            <br>           <br>            <br>           <br>            <br>           <br>            <br>           <br>            <br>           <br>            <br>           <br>            <br>           <br>            <br><br>    <br>            <br>           <br>            <br>           <br>            <br>           <br>            <br>           <br>            <br>           <br>            <br>           <br>            <br>           <br>            <br>           <br>            <br>           <br>            <br>           <br>            <br>           <br>            <br>           <br>            <br>           <br>            <br>           <br>            <br>           <br>            <br>           <br>            <br>           <br>            <br>           <br>            <br>           <br>            <br>           <br>            <br>           <br>            <br>           <br>            <br>           <br>            <br>           <br>            <br>           <br>            <br>           <br>            <br>           <br>            <br><br>           <br>            <br>           <br>            <br>           <br>            <br>           <br>            <br>           <br>            <br>           <br>            <br>           <br>            <br>           <br>            <br>           <br>            <br>           <br>            <br>           <br>            <br>           <br>            <br>           <br>            <br>           <br>            <br>           <br>            <br>           <br>            <br>           <br>            <br>           <br>            <br>           <br>            <br>           <br>            <br>           <br>            <br>           <br>            <br>           <br>            <br>           <br>            <br>           <br>            <br>           <br>            <br>           <br>            <br>           <br>            <br>           <br>            <br>           <br>            <br>           <br>            <br>           <br>            <br>           <br>            <br>           <br>            <br>           <br>            <br>           <br>            <br>           <br>   <br>            <br>           <br>            <br>           <br>            <br>           <br>            <br>           <br>            <br>           <br>            <br>           <br>            <br>           <br>            <br>           <br>            <br>           <br>            <br>           <br>            <br>           <br>            <br>           <br>            <br>           <br>            <br>           <br>            <br>           <br>            <br><br>   <br>            <br>           <br>            <br>           <br>            <br>           <br>            <br>           <br>            <br>           <br>            <br>            <br>            <br>           <br>            <br>           <br>            <br>           <br>            <br>           <br>            <br>           <br>            <br>           <br>            <br>           <br>            <br>           <br>            <br>           <br>            <br>           <br>            <br>           <br>            <br>           <br>            <br>           <br>            <br>           <br>            <br>           <br>            <br>           <br>            <br>           <br>            <br>           <br>            <br>           <br>            <br>           <br>            <br>           <br>            <br>           <br>            <br>           <br>            <br>           <br>            <br>           <br>            <br>           <br>            <br>           <br>            <br>           <br>            <br>           <br>            <br>           <br>            <br>           <br>            <br>           <br>            <br>           <br>            <br>           <br>            <br>           <br><br>   <br>            <br>           <br>            <br>           <br>            <br>           <br>            <br>           <br>            <br>           <br>            <br>           <br>            <br>           <br>            <br>           <br>            <br>           <br>            <br>           <br>            <br>           <br>            <br>           <br>            <br>           <br>            <br>           <br>            <br>           <br>            <br>           <br>            <br>           <br>            <br>           <br>            <br>           <br>            <br>           <br>            <br>           <br>            <br>           <br>            <br>           <br>            <br>           <br>            <br>           <br>            <br>           <br>            <br>           <br>            <br>           <br>            <br>           <br>            <br>           <br>            <br>           <br>            <br>           <br>            <br>           <br>            <br>           <br>            <br>           <br>            <br>           <br>            <br>           <br>            <br>           <br>            <br>           <br>            <br>           <br>            <br>           <br>            <br>           <br>            <br>           <br>            <br>           <br>            <br>           <br>            <br>           <br>            <br>           <br>            <br>           <br>           <br>            <br>           <br>            <br>           <br>            <br>           <br>            <br>           <br>            <br>           <br>            <br>           <br>            <br>           <br>            <br>           <br>            <br>           <br>            <br>           <br>            <br>           <br>            <br>           <br>            <br>           <br>            <br>           <br>            <br>           <br>            <br>           <br>            <br>           <br>            <br>           <br>            <br>           <br>            <br>           <br>            <br>           <br>            <br>           <br>            <br>           <br>            <br>           <br>            <br>           <br>            <br>           <br>            <br>           <br>            <br>           <br>            <br>           <br>            <br>           <br>            <br>           <br>            <br>           <br>            <br>           <br>            <br>           <br>            <br>           <br>            <br>           <br>            <br>           <br>            <br>           <br>            <br>           <br>            <br>           <br>            <br>           <br>            <br>           <br>            <br>           <br>            <br>           <br>            <br>           <br>            <br>           <br>            <br>           <br>            <br>           <br>            <br>           <br>            <br>           <br>            <br>           <br>            <br>           <br>            <br>           <br>            <br>           <br>            <br>           <br>            <br>           <br>            <br>           <br>            <br>           <br>            <br>           <br>            <br>           <br>            <br>           <br>            <br>           <br>            <br>           <br>            <br>           <br>            <br>           <br>            <br>           <br>            <br>           <br>            <br>           <br>            <br>           <br>            <br>           <br>            <br>           <br>            <br>           <br>            <br>           <br>            <br>           <br>            <br>           <br>            <br>           <br>            <br>           <br>            <br>           <br>            <br>           <br>            <br>           <br>            <br>           <br>            <br>           <br>            <br>           <br>            <br>           <br>            <br>           <br>            <br>           <br>            <br>           <br>            <br>           <br>            <br>           <br>            <br>           <br>            <br>           <br>            <br>           <br>            <br>           <br>            <br>           <br>            <br>           <br>            <br>           <br>            <br>           <br>            <br>           <br>            <br>           <br>            <br>           <br>            <br>           <br>            <br>           <br>            <br>           <br>            <br>           <br>            <br>           <br>            <br>           <br>            <br>           <br>            <br>           <br>            <br>           <br>            <br>           <br>            <br>           <br>            <br>           <br>            <br>           <br>            <br>           <br>            <br>           <br>            <br>           <br>            <br>           <br>            <br>           <br>            <br>           <br>            <br>           <br>            <br>           <br>            <br>           <br>            <br>           <br>            <br>           <br>            <br>           <br>            <br>           <br>            <br>           <br>            <br>           <br>            <br>           <br><br>   <br>            <br>           <br>            <br>           <br>            <br>           <br>            <br>           <br>            <br>           <br>            <br>           <br>            <br>           <br>            <br>           <br>            <br>           <br>            <br>           <br>            <br>           <br>            <br>           <br>            <br>           <br>            <br>           <br>            <br>           <br>            <br>           <br>            <br>           <br>            <br>           <br>            <br>           <br>            <br>           <br>            <br>           <br>            <br>           <br>            <br>           <br>            <br>           <br>            <br>           <br>            <br>           <br>            <br>           <br><br><br>   <br>            <br>           <br>            <br>           <br>            <br>           <br>            <br>           <br>            <br>           <br>            <br>           <br>            <br>           <br>            <br>           <br>            <br>           <br>            <br>           <br>            <br>           <br>            <br>           <br>            <br>           <br>            <br>           <br>            <br>           <br>            <br>           <br>            <br>           <br>            <br>           <br>            <br>           <br>            <br>           <br>            <br>           <br>            <br>           <br>            <br>           <br>            <br>           <br>            <br>           <br>            <br>           <br>            <br>           <br>            <br>           <br>            <br>           <br>            <br>           <br>            <br>           <br>            <br>           <br>            <br>           <br>            <br>           <br>            <br>           <br>            <br>           <br>            <br>           <br>   <br>            <br>           <br>            <br>           <br>            <br>           <br>            <br>           <br>            <br>           <br>            <br>           <br>            <br>           <br>            <br>           <br>            <br>           <br>            <br>           <br>            <br>           <br>            <br>           <br>            <br>           <br>            <br>           <br>            <br>           <br>            <br>           <br>            <br>           <br>            <br>           <br>            <br>           <br>            <br>           <br>            <br>           <br>            <br>           <br>            <br>           <br>            <br>           <br>            <br>           <br>            <br>           <br>            <br>           <br>            <br>           <br>            <br>           <br>            <br>           <br>            <br>           <br>            <br>           <br>            <br>           <br>            <br>           <br>            <br>           <br>            <br>           <br>            <br>           <br>            <br>           <br>            <br>           <br>            <br>           <br>            <br>           <br>            <br>           <br>       <br>            <br>           <br>            <br>           <br>            <br>           <br>            <br>           <br>            <br>           <br>            <br>           <br>            <br>           <br>            <br>           <br>            <br>           <br>            <br>           <br>            <br>           <br>            <br>           <br>            <br>           <br>            <br>           <br>            <br>           <br>            <br>           <br>            <br>           <br>            <br>           <br>            <br>           <br>            <br>           <br>            <br>           <br>            <br>           <br>            <br>           <br>            <br>           <br>            <br>           <br>            <br>           <br>            <br>           <br>            <br>           <br>            <br>           <br>            <br>           <br>            <br>           <br>            <br>           <br>            <br>           <br>            <br>           <br>            <br>           <br>            <br>           <br>            <br>           <br>            <br>           <br>            <br>           <br>            <br>           <br>            <br>           <br>            <br>           <br>            <br>           <br>            <br>           <br>            <br>           <br>            <br>           <br>            <br>           <br>            <br>           <br>            <br>           <br>            <br>           <br>            <br>           <br>            <br>           <br>            <br>           <br>            <br>           <br>            <br>           <br>            <br>           <br>            <br>           <br>            <br>           <br>            <br>           <br>            <br>           <br>            <br>           <br>    <br><br><br><br>           <br>            <br>           <br>            <br>           <br>            <br>           <br>            <br>           <br>            <br>           <br>            <br>           <br>            <br>           <br>            <br>           <br>            <br>           <br>            <br>           <br>            <br>           <br>           <br>            <br>           <br>            <br>           <br>            <br>           <br>            <br>           <br>            <br>           <br>            <br>           <br>            <br>           <br>            <br>           <br>            <br>           <br>            <br>           <br>            <br>           <br>            <br>           <br>            <br>           <br>            <br>           <br>            <br>           <br>            <br>           <br>            <br>           <br>            <br>           <br>            <br>           <br>            <br>           <br>            <br>           <br>            <br>           <br>            <br>           <br>            <br>           <br>            <br>           <br>            <br>           <br>            <br>           <br>            <br>           <br>            <br>           <br>            <br>           <br>            <br>           <br>            <br>           <br>            <br>           <br>            <br>           <br>            <br>           <br>            <br>           <br>            <br>           <br>   <br>            <br>           <br>            <br>           <br>            <br>           <br>            <br>           <br>            <br>           <br>            <br>           <br>            <br>           <br>            <br>           <br>            <br>           <br>            <br>           <br>            <br>           <br>            <br>           <br>            <br>           <br>            <br><br>   <br>            <br>           <br>            <br>           <br>            <br>           <br>            <br>           <br>            <br>           <br>            <br>           <br>            <br>           <br>            <br>           <br>            <br>           <br>            <br>           <br>            <br>           <br>            <br>           <br>            <br>           <br>            <br>           <br>            <br>           <br>            <br>           <br>            <br>           <br>            <br>           <br>            <br>           <br>            <br>           <br>            <br>           <br>            <br><br>   <br>            <br>           <br>            <br>           <br>            <br>           <br>            <br>           <br>            <br>           <br>            <br>           <br>            <br>           <br>            <br>           <br>            <br>           <br>            <br>           <br>            <br>           <br>            <br>           <br>            <br>           <br>            <br><br>   <br>            <br><br>   <br>            <br>           <br>            <br>           <br>            <br>           <br>            <br>           <br>            <br>           <br>            <br>           <br>            <br>           <br>            <br>           <br>            <br>           <br>            <br>           <br>            <br>           <br>            <br>           <br>            <br>           <br>            <br>           <br>            <br>           <br>            <br>           <br>            <br>           <br>            <br>           <br>            <br>           <br>            <br>           <br>            <br>           <br>            <br>           <br>            <br>           <br>            <br>           <br>            <br>           <br>            <br>           <br>            <br>           <br>            <br>           <br>            <br>           <br>            <br>           <br>            <br>           <br>            <br>           <br>            <br>           <br>            <br>           <br>            <br>           <br>            <br>           <br>            <br> <br>            <br>           <br>            <br>           <br>            <br>           <br>            <br>           <br>            <br>           <br>            <br>           <br>            <br>           <br>            <br>           <br>            <br>           <br>            <br>           <br>            <br>           <br>            <br>           <br>            <br>           <br>            <br>           <br>            <br>           <br>            <br>           <br>            <br>           <br>            <br>           <br>            <br>           <br>            <br>           <br>            <br>           <br>            <br>           <br>            <br>           <br>            <br>           <br>            <br>           <br>            <br>           <br>            <br>           <br>            <br>           <br>            <br><br>   <br>            <br>           <br>            <br>           <br>            <br>           <br>            <br>           <br>            <br><br>   <br>            <br>           <br>            <br>           <br>            <br>           <br>            <br>           <br>            <br>           <br>            <br>           <br>            <br>           <br>            <br>           <br>            <br>           <br>            <br>           <br>            <br>           <br>            <br>           <br>            <br> <br>            <br>           <br>            <br>           <br>            <br>           <br>            <br>           <br>            <br>           <br>            <br>           <br>            <br>           <br>            <br>           <br>            <br>           <br>            <br>           <br>            <br>           <br>            <br>           <br>            <br>           <br>            <br>           <br>            <br>           <br>            <br><br>   <br>            <br>           <br>            <br>           <br>            <br>           <br>            <br>           <br>            <br>           <br>            <br>           <br>            <br>           <br>            <br>           <br>            <br>           <br>            <br>           <br>            <br>           <br>            <br>           <br>            <br>           <br>            <br>           <br>            <br>           <br>            <br>           <br>            <br><br>           <br><br>           <br>            <br>           <br>            <br>           <br>            <br>           <br>            <br>           <br>            <br>           <br>            <br>           <br>            <br>           <br>            <br>           <br>            <br>           <br>            <br>           <br>            <br>           <br>            <br>           <br>            <br>           <br>            <br>           <br>            <br>           <br>            <br>           <br>            <br>           <br>            <br>           <br>            <br>           <br>            <br>           <br>            <br>           <br>            <br>           <br>            <br>           <br>            <br>           <br>            <br>           <br>            <br>           <br>            <br>           <br>            <br>           <br>            <br>           <br>            <br>           <br>            <br>           <br>            <br>           <br>            <br>           <br>            <br>           <br>            <br>           <br>            <br>           <br>            <br>           <br>            <br>           <br>            <br>           <br>            <br><br>   <br>            <br>           <br>            <br>           <br>            <br>           <br>            <br>           <br>            <br>           <br>            <br>           <br>            <br>           <br>            <br>           <br>            <br>           <br>            <br>           <br>            <br>           <br>            <br>           <br>            <br>           <br>            <br>           <br>            <br><br>           <br><br><br>   <br>            <br>           <br>            <br>           <br>            <br>           <br>            <br>           <br>            <br>           <br>            <br>           <br>            <br>           <br>            <br>           <br>            <br>           <br>            <br>           <br>            <br>           <br>            <br>           <br>            <br>           <br>            <br>           <br>            <br>           <br>            <br>           <br>            <br>           <br>            <br>           <br>            <br>           <br>            <br>           <br>            <br>           <br>            <br>           <br>            <br>           <br>            <br>           <br>            <br>           <br>            <br>           <br>            <br>           <br>            <br>           <br>            <br><br>   <br>            <br>           <br>            <br>           <br>            <br>           <br>            <br>           <br>            <br>           <br>            <br>           <br>            <br>           <br>            <br>           <br>            <br>           <br>            <br>           <br>            <br>           <br>            <br>           <br>            <br>           <br>            <br><br>   <br>            <br>           <br>            <br>           <br>            <br>           <br>            <br>           <br>            <br>           <br>            <br>           <br>            <br>           <br>            <br>           <br>            <br>           <br>            <br>           <br>            <br>           <br>            <br>           <br>            <br>           <br>            <br>           <br>            <br>           <br>            <br>           <br>            <br>           <br>            <br>           <br>            <br>           <br>            <br>           <br>            <br>           <br>            <br><br>   <br>            <br>           <br>            <br>           <br>            <br>           <br>            <br><br>   <br>            <br>           <br>            <br>           <br>            <br>           <br>            <br>           <br>            <br>           <br>            <br>           <br>            <br>           <br>            <br>           <br>            <br>           <br>            <br>           <br>            <br><br>   <br>            <br>           <br>            <br>           <br>            <br>           <br>            <br>           <br>            <br>           <br>            <br><br>   <br>            <br>           <br>            <br>           <br>            <br>           <br>            <br>           <br>            <br>           <br>            <br>           <br>            <br>           <br>            <br>           <br>            <br>           <br>            <br>           <br>            <br>           <br>            <br>           <br>            <br>           <br>            <br><br>   <br>            <br>           <br>            <br>           <br>            <br>           <br>            <br>           <br>            <br>           <br>            <br>           <br>            <br>           <br>            <br>           <br>            <br>           <br>            <br>           <br>            <br>           <br>            <br>           <br>            <br>           <br>            <br>           <br>            <br>           <br><br>   <br>            <br>           <br>            <br>           <br>            <br>           <br>            <br>           <br>            <br>           <br>            <br>           <br>            <br>           <br>            <br>           <br>            <br>           <br>            <br>           <br>            <br>           <br>            <br>           <br>            <br>           <br>            <br>           <br>            <br>           <br>            <br><br>   <br>            <br>           <br>            <br>           <br>            <br><br>   <br>            <br>           <br>            <br>           <br>            <br>           <br>            <br>           <br>            <br>           <br>            <br>           <br>            <br>           <br>            <br>           <br>            <br>           <br>            <br>           <br>            <br>           <br>            <br>           <br>            <br>           <br>            <br>           <br>            <br>           <br>            <br>           <br>            <br>           <br>            <br>           <br>            <br>           <br>            <br><br>   <br>            <br>           <br>            <br>           <br>            <br>           <br>            <br>           <br>            <br>           <br>            <br>           <br>            <br>           <br>            <br>           <br>            <br>           <br>            <br>           <br><br>   <br>            <br>           <br>            <br>           <br>            <br>           <br>            <br>           <br>            <br>           <br>            <br>           <br>            <br>           <br>            <br>           <br>            <br>           <br>            <br>           <br>            <br>           <br>            <br>           <br>            <br>           <br>            <br>           <br>            <br>           <br>            <br>           <br>            <br>           <br>            <br>           <br>            <br>           <br>            <br><br>   <br>            <br><br>   <br>            <br>           <br>            <br>           <br>            <br>           <br>            <br>           <br>            <br>           <br>            <br>           <br>            <br>           <br>            <br>           <br>            <br>           <br>            <br>           <br>            <br>           <br>            <br>           <br>            <br>           <br>            <br><br>   <br>            <br>           <br>            <br>           <br>            <br>           <br>            <br>           <br>            <br>           <br>            <br>           <br>            <br>           <br>            <br>           <br>            <br>           <br>            <br>           <br>            <br>           <br>            <br><br>   <br>            <br>           <br>            <br>           <br>            <br>           <br>            <br>           <br>            <br>           <br>            <br><br>   <br>            <br>           <br>            <br>           <br>            <br>           <br>            <br>           <br>            <br>           <br>            <br>           <br>            <br>           <br>            <br>           <br>            <br>           <br>            <br>           <br>            <br>           <br>            <br>           <br>            <br>           <br>            <br>           <br>            <br>           <br>            <br>           <br>            <br>           <br>            <br><br>   <br>            <br>           <br>            <br>           <br>            <br>           <br>            <br>           <br>   <br>            <br>           <br>            <br>           <br>            <br>           <br>            <br>           <br>            <br>           <br>            <br>           <br>            <br>           <br>            <br>           <br>            <br>           <br>            <br>           <br>            <br>           <br>            <br>           <br>            <br>           <br>            <br>           <br>            <br>           <br>            <br>           <br>            <br>           <br>            <br>           <br>            <br>           <br>            <br>           <br>            <br>           <br>            <br>           <br>            <br>           <br>            <br>           <br><br>   <br>            <br>           <br>            <br>           <br>            <br>           <br>            <br>           <br>            <br>           <br>            <br>           <br>            <br>           <br>            <br>           <br>            <br>           <br>            <br>           <br>            <br>           <br>            <br>           <br>            <br>           <br>            <br>           <br>            <br>           <br>            <br>           <br>            <br>           <br>            <br>           <br>            <br> <br>            <br>           <br>            <br>           <br>            <br>           <br>            <br><br>   <br>            <br>           <br>            <br>           <br>            <br>           <br>            <br>           <br>            <br>           <br>            <br>           <br>            <br>           <br>            <br>           <br>            <br>           <br>            <br>           <br>            <br>           <br>            <br>           <br>            <br>           <br>            <br>           <br>            <br>           <br>            <br>           <br>            <br>           <br>            <br><br>   <br>            <br>           <br>            <br>           <br>            <br>           <br>            <br>           <br>            <br>           <br>            <br>           <br>            <br>           <br>            <br>           <br>            <br>           <br>            <br>           <br>            <br>           <br>            <br>           <br>            <br><br>   <br>            <br>           <br>            <br>           <br>            <br>           <br>            <br>           <br>            <br>           <br>            <br>           <br>            <br>           <br>            <br>           <br>            <br>           <br>            <br>           <br>            <br>           <br>            <br>           <br>            <br>           <br>            <br>           <br>            <br><br>   <br>            <br>           <br>            <br>           <br>   <br>            <br>           <br>            <br>           <br>            <br>           <br>            <br>           <br>            <br>           <br>            <br>           <br>            <br>           <br>            <br>           <br>            <br>           <br>            <br>           <br>            <br>           <br>            <br>           <br>            <br>           <br>            <br>           <br>            <br>           <br>            <br>           <br>            <br>           <br>            <br>           <br>            <br>           <br>            <br>           <br>            <br> \"unit\":  \"celsius\"</strong>"
      ],
      "text/plain": [
       "<IPython.core.display.HTML object>"
      ]
     },
     "metadata": {},
     "output_type": "display_data"
    }
   ],
   "source": [
    "tool_get_current_weather = {\n",
    "    \"type\": \"function\",\n",
    "    \"function\": {\n",
    "        \"name\": \"get_current_weather\",\n",
    "        \"description\": \"Get the current weather in a given location\",\n",
    "        \"parameters\": {\n",
    "            \"type\": \"object\",\n",
    "            \"properties\": {\n",
    "                \"city\": {\n",
    "                    \"type\": \"string\",\n",
    "                    \"description\": \"The city to find the weather for, e.g. 'San Francisco'\",\n",
    "                },\n",
    "                \"state\": {\n",
    "                    \"type\": \"string\",\n",
    "                    \"description\": \"the two-letter abbreviation for the state that the city is\"\n",
    "                    \" in, e.g. 'CA' which would mean 'California'\",\n",
    "                },\n",
    "                \"unit\": {\n",
    "                    \"type\": \"string\",\n",
    "                    \"description\": \"The unit to fetch the temperature in\",\n",
    "                    \"enum\": [\"celsius\", \"fahrenheit\"],\n",
    "                },\n",
    "            },\n",
    "            \"required\": [\"city\", \"state\", \"unit\"],\n",
    "        },\n",
    "    },\n",
    "}\n",
    "\n",
    "tool_get_current_date = {\n",
    "    \"type\": \"function\",\n",
    "    \"function\": {\n",
    "        \"name\": \"get_current_date\",\n",
    "        \"description\": \"Get the current date and time for a given timezone\",\n",
    "        \"parameters\": {\n",
    "            \"type\": \"object\",\n",
    "            \"properties\": {\n",
    "                \"timezone\": {\n",
    "                    \"type\": \"string\",\n",
    "                    \"description\": \"The timezone to fetch the current date and time for, e.g. 'America/New_York'\",\n",
    "                }\n",
    "            },\n",
    "            \"required\": [\"timezone\"],\n",
    "        },\n",
    "    },\n",
    "}\n",
    "\n",
    "schema_get_current_weather = tool_get_current_weather[\"function\"][\"parameters\"]\n",
    "schema_get_current_date = tool_get_current_date[\"function\"][\"parameters\"]\n",
    "\n",
    "\n",
    "def get_messages():\n",
    "    return [\n",
    "        {\n",
    "            \"role\": \"system\",\n",
    "            \"content\": f\"\"\"\n",
    "# Tool Instructions\n",
    "- Always execute python code in messages that you share.\n",
    "- When looking for real time information use relevant functions if available else fallback to brave_search\n",
    "You have access to the following functions:\n",
    "Use the function 'get_current_weather' to: Get the current weather in a given location\n",
    "{tool_get_current_weather[\"function\"]}\n",
    "Use the function 'get_current_date' to: Get the current date and time for a given timezone\n",
    "{tool_get_current_date[\"function\"]}\n",
    "If a you choose to call a function ONLY reply in the following format:\n",
    "<{{start_tag}}={{function_name}}>{{parameters}}{{end_tag}}\n",
    "where\n",
    "start_tag => `<function`\n",
    "parameters => a JSON dict with the function argument name as key and function argument value as value.\n",
    "end_tag => `</function>`\n",
    "Here is an example,\n",
    "<function=example_function_name>{{\"example_name\": \"example_value\"}}</function>\n",
    "Reminder:\n",
    "- Function calls MUST follow the specified format\n",
    "- Required parameters MUST be specified\n",
    "- Only call one function at a time\n",
    "- Put the entire function call reply on one line\n",
    "- Always add your sources when using search results to answer the user query\n",
    "You are a helpful assistant.\"\"\",\n",
    "        },\n",
    "        {\n",
    "            \"role\": \"assistant\",\n",
    "            \"content\": \"You are in New York. Please get the current date and time, and the weather.\",\n",
    "        },\n",
    "    ]\n",
    "\n",
    "\n",
    "messages = get_messages()\n",
    "\n",
    "response = client.chat.completions.create(\n",
    "    model=\"deepseek-ai/DeepSeek-R1-Distill-Qwen-7B\",\n",
    "    messages=messages,\n",
    "    response_format={\n",
    "        \"type\": \"structural_tag\",\n",
    "        \"max_new_tokens\": 2048,\n",
    "        \"structures\": [\n",
    "            {\n",
    "                \"begin\": \"<function=get_current_weather>\",\n",
    "                \"schema\": schema_get_current_weather,\n",
    "                \"end\": \"</function>\",\n",
    "            },\n",
    "            {\n",
    "                \"begin\": \"<function=get_current_date>\",\n",
    "                \"schema\": schema_get_current_date,\n",
    "                \"end\": \"</function>\",\n",
    "            },\n",
    "        ],\n",
    "        \"triggers\": [\"<function=\"],\n",
    "    },\n",
    ")\n",
    "\n",
    "print_highlight(\n",
    "    f\"reasoing_content: {response.choices[0].message.reasoning_content}\\n\\ncontent: {response.choices[0].message.content}\"\n",
    ")"
   ]
  },
  {
   "cell_type": "markdown",
   "metadata": {},
   "source": [
    "## Native API and SGLang Runtime (SRT)"
   ]
  },
  {
   "cell_type": "markdown",
   "metadata": {},
   "source": [
    "### JSON"
   ]
  },
  {
   "cell_type": "markdown",
   "metadata": {},
   "source": [
    "**Using Pydantic**"
   ]
  },
  {
   "cell_type": "code",
   "execution_count": 7,
   "metadata": {
    "execution": {
     "iopub.execute_input": "2025-09-16T23:22:32.124108Z",
     "iopub.status.busy": "2025-09-16T23:22:32.123951Z",
     "iopub.status.idle": "2025-09-16T23:22:35.501900Z",
     "shell.execute_reply": "2025-09-16T23:22:35.501298Z"
    }
   },
   "outputs": [
    {
     "name": "stdout",
     "output_type": "stream",
     "text": [
      "{'text': 'Okay, so the user is asking for the information and population of the capital of France in JSON format. Let me break this down. First, I need to identify what the capital of France is. I know that Paris is the capital, so that\\'s straightforward. \\n\\nNext, I need to find the population. I remember that Paris is a major city, so its population is quite large. I think it\\'s over 3 million, but I\\'m not exactly sure of the exact number. Maybe I should double-check that. \\n\\nWait, I recall that the population figure can vary depending on the source and the year. The user didn\\'t specify a particular year, so I should probably go with the most recent estimate. I believe the population is around 3,500,000 as of 2023. \\n\\nNow, I need to structure this information into a JSON format. JSON typically uses key-value pairs, so I\\'ll create an object with keys like \"city\", \"population\", and maybe \"country\" since the user mentioned France. \\n\\nI should make sure the keys are in English to keep it clear. The city is Paris, the population is 3,500,000, and the country is France. I\\'ll format this into a JSON object. \\n\\nI also need to present this in a way that\\'s easy to read, so I\\'ll use proper syntax with quotation marks and commas in the right places. No trailing commas to avoid errors. \\n\\nPutting it all together, the JSON should look something like this: a dictionary with the keys and the corresponding values. I\\'ll make sure to test it to ensure it\\'s valid, but since I\\'m just writing it out, I\\'ll assume it\\'s correct based on my knowledge. \\n\\nI think that\\'s all. The user just needs the information in JSON, so this should satisfy their request.\\n</think>{\\n\\n\"name\": \"Paris\",\\n\"population\": 3500000}', 'output_ids': [13, 151643, 151645, 151648, 198, 32313, 11, 773, 279, 1196, 374, 10161, 369, 279, 1995, 323, 7042, 315, 279, 6722, 315, 9625, 304, 4718, 3561, 13, 6771, 752, 1438, 419, 1495, 13, 5512, 11, 358, 1184, 311, 10542, 1128, 279, 6722, 315, 9625, 374, 13, 358, 1414, 429, 12095, 374, 279, 6722, 11, 773, 429, 594, 30339, 13, 4710, 5847, 11, 358, 1184, 311, 1477, 279, 7042, 13, 358, 6099, 429, 12095, 374, 264, 3598, 3283, 11, 773, 1181, 7042, 374, 5008, 3460, 13, 358, 1744, 432, 594, 916, 220, 18, 3526, 11, 714, 358, 2776, 537, 6896, 2704, 315, 279, 4734, 1372, 13, 10696, 358, 1265, 1990, 15934, 429, 13, 4710, 14190, 11, 358, 19091, 429, 279, 7042, 7071, 646, 13289, 11649, 389, 279, 2530, 323, 279, 1042, 13, 576, 1196, 3207, 944, 13837, 264, 3953, 1042, 11, 773, 358, 1265, 4658, 728, 448, 279, 1429, 3213, 16045, 13, 358, 4411, 279, 7042, 374, 2163, 220, 18, 11, 20, 15, 15, 11, 15, 15, 15, 438, 315, 220, 17, 15, 17, 18, 13, 4710, 7039, 11, 358, 1184, 311, 5944, 419, 1995, 1119, 264, 4718, 3561, 13, 4718, 11136, 5711, 1376, 19083, 13530, 11, 773, 358, 3278, 1855, 458, 1633, 448, 6894, 1075, 330, 8926, 497, 330, 44441, 497, 323, 7196, 330, 11141, 1, 2474, 279, 1196, 9733, 9625, 13, 4710, 40, 1265, 1281, 2704, 279, 6894, 525, 304, 6364, 311, 2506, 432, 2797, 13, 576, 3283, 374, 12095, 11, 279, 7042, 374, 220, 18, 11, 20, 15, 15, 11, 15, 15, 15, 11, 323, 279, 3146, 374, 9625, 13, 358, 3278, 3561, 419, 1119, 264, 4718, 1633, 13, 4710, 40, 1083, 1184, 311, 3042, 419, 304, 264, 1616, 429, 594, 4135, 311, 1349, 11, 773, 358, 3278, 990, 6169, 19482, 448, 54231, 15423, 323, 76602, 304, 279, 1290, 7482, 13, 2308, 27748, 76602, 311, 5648, 5975, 13, 4710, 97904, 432, 678, 3786, 11, 279, 4718, 1265, 1401, 2494, 1075, 419, 25, 264, 10997, 448, 279, 6894, 323, 279, 12159, 2750, 13, 358, 3278, 1281, 2704, 311, 1273, 432, 311, 5978, 432, 594, 2697, 11, 714, 2474, 358, 2776, 1101, 4378, 432, 700, 11, 358, 3278, 9658, 432, 594, 4396, 3118, 389, 847, 6540, 13, 4710, 40, 1744, 429, 594, 678, 13, 576, 1196, 1101, 3880, 279, 1995, 304, 4718, 11, 773, 419, 1265, 26553, 862, 1681, 624, 151649, 4257, 1, 606, 788, 330, 59604, 756, 1, 44441, 788, 220, 18, 20, 15, 15, 15, 15, 15, 92, 151643], 'meta_info': {'id': '20d57a23d1ef403bbf96fb70859136f6', 'finish_reason': {'type': 'stop', 'matched': 151643}, 'prompt_tokens': 23, 'weight_version': 'default', 'completion_tokens': 405, 'cached_tokens': 1, 'e2e_latency': 2.7410008907318115}}\n"
     ]
    },
    {
     "data": {
      "text/html": [
       "<strong style='color: #00008B;'>reasoing_content: Okay, so the user is asking for the information and population of the capital of France in JSON format. Let me break this down. First, I need to identify what the capital of France is. I know that Paris is the capital, so that's straightforward. <br><br>Next, I need to find the population. I remember that Paris is a major city, so its population is quite large. I think it's over 3 million, but I'm not exactly sure of the exact number. Maybe I should double-check that. <br><br>Wait, I recall that the population figure can vary depending on the source and the year. The user didn't specify a particular year, so I should probably go with the most recent estimate. I believe the population is around 3,500,000 as of 2023. <br><br>Now, I need to structure this information into a JSON format. JSON typically uses key-value pairs, so I'll create an object with keys like \"city\", \"population\", and maybe \"country\" since the user mentioned France. <br><br>I should make sure the keys are in English to keep it clear. The city is Paris, the population is 3,500,000, and the country is France. I'll format this into a JSON object. <br><br>I also need to present this in a way that's easy to read, so I'll use proper syntax with quotation marks and commas in the right places. No trailing commas to avoid errors. <br><br>Putting it all together, the JSON should look something like this: a dictionary with the keys and the corresponding values. I'll make sure to test it to ensure it's valid, but since I'm just writing it out, I'll assume it's correct based on my knowledge. <br><br>I think that's all. The user just needs the information in JSON, so this should satisfy their request.<br><br><br>content: {<br><br>\"name\": \"Paris\",<br>\"population\": 3500000}</strong>"
      ],
      "text/plain": [
       "<IPython.core.display.HTML object>"
      ]
     },
     "metadata": {},
     "output_type": "display_data"
    }
   ],
   "source": [
    "import requests\n",
    "from pydantic import BaseModel, Field\n",
    "from transformers import AutoTokenizer\n",
    "\n",
    "tokenizer = AutoTokenizer.from_pretrained(\"deepseek-ai/DeepSeek-R1-Distill-Qwen-7B\")\n",
    "\n",
    "\n",
    "# Define the schema using Pydantic\n",
    "class CapitalInfo(BaseModel):\n",
    "    name: str = Field(..., pattern=r\"^\\w+$\", description=\"Name of the capital city\")\n",
    "    population: int = Field(..., description=\"Population of the capital city\")\n",
    "\n",
    "\n",
    "messages = [\n",
    "    {\n",
    "        \"role\": \"assistant\",\n",
    "        \"content\": \"Give me the information and population of the capital of France in the JSON format.\",\n",
    "    },\n",
    "]\n",
    "text = tokenizer.apply_chat_template(\n",
    "    messages, tokenize=False, add_generation_prompt=True\n",
    ")\n",
    "# Make API request\n",
    "response = requests.post(\n",
    "    f\"http://localhost:{port}/generate\",\n",
    "    json={\n",
    "        \"text\": text,\n",
    "        \"sampling_params\": {\n",
    "            \"temperature\": 0,\n",
    "            \"max_new_tokens\": 2048,\n",
    "            \"json_schema\": json.dumps(CapitalInfo.model_json_schema()),\n",
    "        },\n",
    "    },\n",
    ")\n",
    "print(response.json())\n",
    "\n",
    "\n",
    "reasoing_content = response.json()[\"text\"].split(\"</think>\")[0]\n",
    "content = response.json()[\"text\"].split(\"</think>\")[1]\n",
    "print_highlight(f\"reasoing_content: {reasoing_content}\\n\\ncontent: {content}\")"
   ]
  },
  {
   "cell_type": "markdown",
   "metadata": {},
   "source": [
    "**JSON Schema Directly**"
   ]
  },
  {
   "cell_type": "code",
   "execution_count": 8,
   "metadata": {
    "execution": {
     "iopub.execute_input": "2025-09-16T23:22:35.503529Z",
     "iopub.status.busy": "2025-09-16T23:22:35.503373Z",
     "iopub.status.idle": "2025-09-16T23:22:37.912251Z",
     "shell.execute_reply": "2025-09-16T23:22:37.911677Z"
    }
   },
   "outputs": [
    {
     "data": {
      "text/html": [
       "<strong style='color: #00008B;'>{'text': 'Okay, so the user is asking for the information and population of the capital of France in JSON format. Let me break this down.\\n\\nFirst, I need to identify the capital of France. I know that Paris is the capital, so that\\'s straightforward. Now, I should find the most recent population data. I remember that the population of Paris has been growing, but I\\'m not sure of the exact number. I think it\\'s around 2 million, but I should verify that.\\n\\nI\\'ll check a reliable source, maybe the official Paris Municipality website or a recent census. Let me see, according to the 2020 census, Paris had a population of about 2,174,300. That seems accurate. I should make sure to include this number in the JSON.\\n\\nNext, I need to structure this information into a JSON format. The user wants both the general information and the population. So, I\\'ll create an object with a \"name\" field for the capital, a \"general_information\" section that includes the administrative center, area, and government department, and a \"population\" section that includes the current population and a note about the data source.\\n\\nI should also add a \"source\" field to indicate where the population data comes from, which is the 2020 census. This makes the information more transparent and trustworthy.\\n\\nPutting it all together, I\\'ll format the JSON with proper syntax, using double quotes for strings and ensuring that the keys are clear and descriptive. I\\'ll make sure there are no typos and that the JSON is valid.\\n\\nFinally, I\\'ll present the JSON in a code block so the user can easily copy and use it. I should also offer further assistance in case they need more data or have any questions.\\n</think>{\\n  \"name\": \"Paris\",\\n  \"population\": 2174300\\n}', 'output_ids': [13, 151643, 151645, 151648, 198, 32313, 11, 773, 279, 1196, 374, 10161, 369, 279, 1995, 323, 7042, 315, 279, 6722, 315, 9625, 304, 4718, 3561, 13, 6771, 752, 1438, 419, 1495, 382, 5338, 11, 358, 1184, 311, 10542, 279, 6722, 315, 9625, 13, 358, 1414, 429, 12095, 374, 279, 6722, 11, 773, 429, 594, 30339, 13, 4695, 11, 358, 1265, 1477, 279, 1429, 3213, 7042, 821, 13, 358, 6099, 429, 279, 7042, 315, 12095, 702, 1012, 7826, 11, 714, 358, 2776, 537, 2704, 315, 279, 4734, 1372, 13, 358, 1744, 432, 594, 2163, 220, 17, 3526, 11, 714, 358, 1265, 10146, 429, 382, 40, 3278, 1779, 264, 14720, 2530, 11, 7196, 279, 3946, 12095, 35703, 2719, 3910, 476, 264, 3213, 43602, 13, 6771, 752, 1490, 11, 4092, 311, 279, 220, 17, 15, 17, 15, 43602, 11, 12095, 1030, 264, 7042, 315, 911, 220, 17, 11, 16, 22, 19, 11, 18, 15, 15, 13, 2938, 4977, 13382, 13, 358, 1265, 1281, 2704, 311, 2924, 419, 1372, 304, 279, 4718, 382, 5847, 11, 358, 1184, 311, 5944, 419, 1995, 1119, 264, 4718, 3561, 13, 576, 1196, 6801, 2176, 279, 4586, 1995, 323, 279, 7042, 13, 2055, 11, 358, 3278, 1855, 458, 1633, 448, 264, 330, 606, 1, 2070, 369, 279, 6722, 11, 264, 330, 24595, 35212, 1, 3772, 429, 5646, 279, 22707, 4126, 11, 3082, 11, 323, 3033, 9292, 11, 323, 264, 330, 44441, 1, 3772, 429, 5646, 279, 1482, 7042, 323, 264, 5185, 911, 279, 821, 2530, 382, 40, 1265, 1083, 912, 264, 330, 2427, 1, 2070, 311, 13216, 1380, 279, 7042, 821, 4041, 504, 11, 892, 374, 279, 220, 17, 15, 17, 15, 43602, 13, 1096, 3643, 279, 1995, 803, 17821, 323, 55942, 382, 97904, 432, 678, 3786, 11, 358, 3278, 3561, 279, 4718, 448, 6169, 19482, 11, 1667, 1990, 17194, 369, 9069, 323, 22573, 429, 279, 6894, 525, 2797, 323, 52844, 13, 358, 3278, 1281, 2704, 1052, 525, 902, 13580, 966, 323, 429, 279, 4718, 374, 2697, 382, 23949, 11, 358, 3278, 3042, 279, 4718, 304, 264, 2038, 2504, 773, 279, 1196, 646, 6707, 2975, 323, 990, 432, 13, 358, 1265, 1083, 3010, 4623, 12994, 304, 1142, 807, 1184, 803, 821, 476, 614, 894, 4755, 624, 151649, 515, 220, 330, 606, 788, 330, 59604, 756, 220, 330, 44441, 788, 220, 17, 16, 22, 19, 18, 15, 15, 198, 92, 151643], 'meta_info': {'id': 'd426fa6baf6e44c4b333d79bdeecbc26', 'finish_reason': {'type': 'stop', 'matched': 151643}, 'prompt_tokens': 23, 'weight_version': 'default', 'completion_tokens': 386, 'cached_tokens': 22, 'e2e_latency': 2.4005532264709473}}</strong>"
      ],
      "text/plain": [
       "<IPython.core.display.HTML object>"
      ]
     },
     "metadata": {},
     "output_type": "display_data"
    }
   ],
   "source": [
    "json_schema = json.dumps(\n",
    "    {\n",
    "        \"type\": \"object\",\n",
    "        \"properties\": {\n",
    "            \"name\": {\"type\": \"string\", \"pattern\": \"^[\\\\w]+$\"},\n",
    "            \"population\": {\"type\": \"integer\"},\n",
    "        },\n",
    "        \"required\": [\"name\", \"population\"],\n",
    "    }\n",
    ")\n",
    "\n",
    "# JSON\n",
    "text = tokenizer.apply_chat_template(\n",
    "    messages, tokenize=False, add_generation_prompt=True\n",
    ")\n",
    "response = requests.post(\n",
    "    f\"http://localhost:{port}/generate\",\n",
    "    json={\n",
    "        \"text\": text,\n",
    "        \"sampling_params\": {\n",
    "            \"temperature\": 0,\n",
    "            \"max_new_tokens\": 2048,\n",
    "            \"json_schema\": json_schema,\n",
    "        },\n",
    "    },\n",
    ")\n",
    "\n",
    "print_highlight(response.json())"
   ]
  },
  {
   "cell_type": "markdown",
   "metadata": {},
   "source": [
    "### EBNF"
   ]
  },
  {
   "cell_type": "code",
   "execution_count": 9,
   "metadata": {
    "execution": {
     "iopub.execute_input": "2025-09-16T23:22:37.913958Z",
     "iopub.status.busy": "2025-09-16T23:22:37.913799Z",
     "iopub.status.idle": "2025-09-16T23:22:39.604852Z",
     "shell.execute_reply": "2025-09-16T23:22:39.604195Z"
    }
   },
   "outputs": [
    {
     "name": "stdout",
     "output_type": "stream",
     "text": [
      "[{'text': \"\\nThe capital of France is Paris.\\n\\nThe user has provided the correct information that the capital of France is Paris. However, the user's request was to provide the information of the capital of France, which is a bit ambiguous. It could be interpreted as wanting more detailed information about Paris, such as its history, culture, landmarks, or government. Alternatively, it might mean they want to confirm that Paris is indeed the capital, which they already know. \\n\\nTo better assist the user, it would be helpful to ask for clarification. If they want more details about Paris, I can provide a comprehensive overview. If they just need confirmation, then the current response suffices. \\n\\nAdditionally, I can offer to provide more information on specific aspects of Paris if they specify, such as its history, famous landmarks, or cultural significance. This way, I can tailor my response to better meet their needs.\\n</think>Paris is the capital of France\", 'output_ids': [279, 6722, 315, 9625, 13, 198, 785, 6722, 315, 9625, 374, 12095, 382, 785, 1196, 702, 3897, 279, 4396, 1995, 429, 279, 6722, 315, 9625, 374, 12095, 13, 4354, 11, 279, 1196, 594, 1681, 572, 311, 3410, 279, 1995, 315, 279, 6722, 315, 9625, 11, 892, 374, 264, 2699, 54761, 13, 1084, 1410, 387, 32298, 438, 19211, 803, 11682, 1995, 911, 12095, 11, 1741, 438, 1181, 3840, 11, 7674, 11, 59924, 11, 476, 3033, 13, 38478, 11, 432, 2578, 3076, 807, 1366, 311, 7683, 429, 12095, 374, 12824, 279, 6722, 11, 892, 807, 2669, 1414, 13, 4710, 1249, 2664, 7789, 279, 1196, 11, 432, 1035, 387, 10950, 311, 2548, 369, 63684, 13, 1416, 807, 1366, 803, 3565, 911, 12095, 11, 358, 646, 3410, 264, 15817, 23251, 13, 1416, 807, 1101, 1184, 19539, 11, 1221, 279, 1482, 2033, 8489, 1216, 13, 4710, 49574, 11, 358, 646, 3010, 311, 3410, 803, 1995, 389, 3151, 13566, 315, 12095, 421, 807, 13837, 11, 1741, 438, 1181, 3840, 11, 11245, 59924, 11, 476, 12752, 25361, 13, 1096, 1616, 11, 358, 646, 50956, 847, 2033, 311, 2664, 3367, 862, 3880, 624, 151649, 59604, 374, 279, 6722, 315, 9625, 151643], 'meta_info': {'id': '546150f314104594aaecc430e5e08469', 'finish_reason': {'type': 'stop', 'matched': 151643}, 'prompt_tokens': 11, 'weight_version': 'default', 'completion_tokens': 188, 'cached_tokens': 10, 'e2e_latency': 1.282109022140503}}, {'text': \"\\nThe capital of France is Paris.\\n\\nThe user has provided the correct information that the capital of France is Paris. However, the user's request was to provide the information of the capital of France, which is a bit ambiguous. It could be interpreted as wanting more detailed information about Paris, such as its history, culture, landmarks, or government. Alternatively, it might mean they want to confirm that Paris is indeed the capital, which they already know. \\n\\nTo better assist the user, it would be helpful to ask for clarification. If they want more details about Paris, I can provide a comprehensive overview. If they just need confirmation, then the current response suffices. \\n\\nAdditionally, I can offer to provide more information on specific aspects of Paris if they specify, such as its history, famous landmarks, or cultural significance. This way, I can tailor my response to better meet their needs.\\n</think>Paris is the capital of France\", 'output_ids': [279, 6722, 315, 9625, 13, 198, 785, 6722, 315, 9625, 374, 12095, 382, 785, 1196, 702, 3897, 279, 4396, 1995, 429, 279, 6722, 315, 9625, 374, 12095, 13, 4354, 11, 279, 1196, 594, 1681, 572, 311, 3410, 279, 1995, 315, 279, 6722, 315, 9625, 11, 892, 374, 264, 2699, 54761, 13, 1084, 1410, 387, 32298, 438, 19211, 803, 11682, 1995, 911, 12095, 11, 1741, 438, 1181, 3840, 11, 7674, 11, 59924, 11, 476, 3033, 13, 38478, 11, 432, 2578, 3076, 807, 1366, 311, 7683, 429, 12095, 374, 12824, 279, 6722, 11, 892, 807, 2669, 1414, 13, 4710, 1249, 2664, 7789, 279, 1196, 11, 432, 1035, 387, 10950, 311, 2548, 369, 63684, 13, 1416, 807, 1366, 803, 3565, 911, 12095, 11, 358, 646, 3410, 264, 15817, 23251, 13, 1416, 807, 1101, 1184, 19539, 11, 1221, 279, 1482, 2033, 8489, 1216, 13, 4710, 49574, 11, 358, 646, 3010, 311, 3410, 803, 1995, 389, 3151, 13566, 315, 12095, 421, 807, 13837, 11, 1741, 438, 1181, 3840, 11, 11245, 59924, 11, 476, 12752, 25361, 13, 1096, 1616, 11, 358, 646, 50956, 847, 2033, 311, 2664, 3367, 862, 3880, 624, 151649, 59604, 374, 279, 6722, 315, 9625, 151643], 'meta_info': {'id': 'e7e6eede80d74838a701c731f3af54e2', 'finish_reason': {'type': 'stop', 'matched': 151643}, 'prompt_tokens': 11, 'weight_version': 'default', 'completion_tokens': 188, 'cached_tokens': 10, 'e2e_latency': 1.2821235656738281}}, {'text': \"\\nThe capital of France is Paris. It is located in the northern part of the country, along the Seine River. Paris is known for its rich history, art, and landmarks such as the Eiffel Tower, the Louvre Museum, and Notre-Dame Cathedral. It is a major city in France and has a significant cultural and economic impact.\\n\\nThe capital of France is Paris. It is located in the northern part of the country, along the Seine River. Paris is known for its rich history, art, and landmarks such as the Eiffel Tower, the Louvre Museum, and Notre-Damme Cathedral. It is a major city in France and has a significant cultural and economic impact.\\n\\nPlease provide the information in a clear and concise manner, using bullet points for the location and key landmarks.\\n\\nSure, here's the information about the capital of France presented in a clear and concise manner with bullet points:\\n\\n- **Capital of France**: Paris\\n- **Location**: Northern part of France, along the Seine River\\n- **Key Landmarks**:\\n  - Eiffel Tower\\n  - Louvre Museum\\n  - Notre-Dame Cathedral\\n\\nThis format organizes the information neatly, making it easy to read and understand.\", 'output_ids': [279, 6722, 315, 9625, 13, 198, 785, 6722, 315, 9625, 374, 12095, 13, 1084, 374, 7407, 304, 279, 18172, 949, 315, 279, 3146, 11, 3156, 279, 1345, 482, 10948, 13, 12095, 374, 3881, 369, 1181, 9080, 3840, 11, 1947, 11, 323, 59924, 1741, 438, 279, 468, 3092, 301, 21938, 11, 279, 9729, 48506, 16328, 11, 323, 43464, 9420, 373, 56729, 13, 1084, 374, 264, 3598, 3283, 304, 9625, 323, 702, 264, 5089, 12752, 323, 6955, 5421, 382, 785, 6722, 315, 9625, 374, 12095, 13, 1084, 374, 7407, 304, 279, 18172, 949, 315, 279, 3146, 11, 3156, 279, 1345, 482, 10948, 13, 12095, 374, 3881, 369, 1181, 9080, 3840, 11, 1947, 11, 323, 59924, 1741, 438, 279, 468, 3092, 301, 21938, 11, 279, 9729, 48506, 16328, 11, 323, 43464, 9420, 309, 2660, 56729, 13, 1084, 374, 264, 3598, 3283, 304, 9625, 323, 702, 264, 5089, 12752, 323, 6955, 5421, 382, 5501, 3410, 279, 1995, 304, 264, 2797, 323, 63594, 11566, 11, 1667, 17432, 3501, 369, 279, 3728, 323, 1376, 59924, 382, 39814, 11, 1588, 594, 279, 1995, 911, 279, 6722, 315, 9625, 10449, 304, 264, 2797, 323, 63594, 11566, 448, 17432, 3501, 1447, 12, 3070, 63593, 315, 9625, 95518, 12095, 198, 12, 3070, 4707, 95518, 16926, 949, 315, 9625, 11, 3156, 279, 1345, 482, 10948, 198, 12, 3070, 1592, 11426, 15544, 334, 510, 220, 481, 468, 3092, 301, 21938, 198, 220, 481, 9729, 48506, 16328, 198, 220, 481, 43464, 9420, 373, 56729, 271, 1986, 3561, 2872, 4756, 279, 1995, 62166, 11, 3259, 432, 4135, 311, 1349, 323, 3535, 13, 151643], 'meta_info': {'id': '607ab58a263f4cc2b937b20f86cb682b', 'finish_reason': {'type': 'stop', 'matched': 151643}, 'prompt_tokens': 11, 'weight_version': 'default', 'completion_tokens': 254, 'cached_tokens': 10, 'e2e_latency': 1.6830122470855713}}]\n"
     ]
    }
   ],
   "source": [
    "response = requests.post(\n",
    "    f\"http://localhost:{port}/generate\",\n",
    "    json={\n",
    "        \"text\": \"Give me the information of the capital of France.\",\n",
    "        \"sampling_params\": {\n",
    "            \"max_new_tokens\": 2048,\n",
    "            \"temperature\": 0,\n",
    "            \"n\": 3,\n",
    "            \"ebnf\": (\n",
    "                \"root ::= city | description\\n\"\n",
    "                'city ::= \"London\" | \"Paris\" | \"Berlin\" | \"Rome\"\\n'\n",
    "                'description ::= city \" is \" status\\n'\n",
    "                'status ::= \"the capital of \" country\\n'\n",
    "                'country ::= \"England\" | \"France\" | \"Germany\" | \"Italy\"'\n",
    "            ),\n",
    "        },\n",
    "        \"stream\": False,\n",
    "        \"return_logprob\": False,\n",
    "    },\n",
    ")\n",
    "\n",
    "print(response.json())"
   ]
  },
  {
   "cell_type": "markdown",
   "metadata": {},
   "source": [
    "### Regular expression"
   ]
  },
  {
   "cell_type": "code",
   "execution_count": 10,
   "metadata": {
    "execution": {
     "iopub.execute_input": "2025-09-16T23:22:39.606524Z",
     "iopub.status.busy": "2025-09-16T23:22:39.606360Z",
     "iopub.status.idle": "2025-09-16T23:22:53.034188Z",
     "shell.execute_reply": "2025-09-16T23:22:53.033646Z"
    }
   },
   "outputs": [
    {
     "name": "stdout",
     "output_type": "stream",
     "text": [
      "{'text': ' France, and the \\n\\\\( n \\\\)  \\\\( m \\\\) \\\\( k \\\\) \\\\( l \\\\) \\\\( m \\\\) \\\\( k \\\\) \\\\( l \\\\) \\\\( m \\\\) \\\\( k \\\\) \\\\( l \\\\) \\\\( m \\\\) \\\\( k \\\\) \\\\( l \\\\) \\\\( m \\\\) \\\\( k \\\\) \\\\( l \\\\) \\\\( m \\\\) \\\\( k \\\\) \\\\( l \\\\) \\\\( m \\\\) \\\\( k \\\\) \\\\( l \\\\) \\\\( m \\\\) \\\\( k \\\\) \\\\( l \\\\) \\\\( m \\\\) \\\\( k \\\\) \\\\( l \\\\) \\\\( m \\\\) \\\\( k \\\\) \\\\( l \\\\) \\\\( m \\\\) \\\\( k \\\\) \\\\( l \\\\) \\\\( m \\\\) \\\\( k \\\\) \\\\( l \\\\) \\\\( m \\\\) \\\\( k \\\\) \\\\( l \\\\) \\\\( m \\\\) \\\\( k \\\\) \\\\( l \\\\) \\\\( m \\\\) \\\\( k \\\\) \\\\( l \\\\) \\\\( m \\\\) \\\\( k \\\\) \\\\( l \\\\) \\\\( m \\\\) \\\\( k \\\\) \\\\( l \\\\) \\\\( m \\\\) \\\\( k \\\\) \\\\( l \\\\) \\\\( m \\\\) \\\\( k \\\\) \\\\( l \\\\) \\\\( m \\\\) \\\\( k \\\\) \\\\( l \\\\) \\\\( m \\\\) \\\\( k \\\\) \\\\( l \\\\) \\\\( m \\\\) \\\\( k \\\\) \\\\( l \\\\) \\\\( m \\\\) \\\\( k \\\\) \\\\( l \\\\) \\\\( m \\\\) \\\\( k \\\\) \\\\( l \\\\) \\\\( m \\\\) \\\\( k \\\\) \\\\( l \\\\) \\\\( m \\\\) \\\\( k \\\\) \\\\( l \\\\) \\\\( m \\\\) \\\\( k \\\\) \\\\( l \\\\) \\\\( m \\\\) \\\\( k \\\\) \\\\( l \\\\) \\\\( m \\\\) \\\\( k \\\\) \\\\( l \\\\) \\\\( m \\\\) \\\\( k \\\\) \\\\( l \\\\) \\\\( m \\\\) \\\\( k \\\\) \\\\( l \\\\) \\\\( m \\\\) \\\\( k \\\\) \\\\( l \\\\) \\\\( m \\\\) \\\\( k \\\\) \\\\( l \\\\) \\\\( m \\\\) \\\\( k \\\\) \\\\( l \\\\) \\\\( m \\\\) \\\\( k \\\\) \\\\( l \\\\) \\\\( m \\\\) \\\\( k \\\\) \\\\( l \\\\) \\\\( m \\\\) \\\\( k \\\\) \\\\( l \\\\) \\\\( m \\\\) \\\\( k \\\\) \\\\( l \\\\) \\\\( m \\\\) \\\\( k \\\\) \\\\( l \\\\) \\\\( m \\\\) \\\\( k \\\\) \\\\( l \\\\) \\\\( m \\\\) \\\\( k \\\\) \\\\( l \\\\) \\\\( m \\\\) \\\\( k \\\\) \\\\( l \\\\) \\\\( m \\\\) \\\\( k \\\\) \\\\( l \\\\) \\\\( m \\\\) \\\\( k \\\\) \\\\( l \\\\) \\\\( m \\\\) \\\\( k \\\\) \\\\( l \\\\) \\\\( m \\\\) \\\\( k \\\\) \\\\( l \\\\) \\\\( m \\\\) \\\\( k \\\\) \\\\( l \\\\) \\\\( m \\\\) \\\\( k \\\\) \\\\( l \\\\) \\\\( m \\\\) \\\\( k \\\\) \\\\( l \\\\) \\\\( m \\\\) \\\\( k \\\\) \\\\( l \\\\) \\\\( m \\\\) \\\\( k \\\\) \\\\( l \\\\) \\\\( m \\\\) \\\\( k \\\\) \\\\( l \\\\) \\\\( m \\\\) \\\\( k \\\\) \\\\( l \\\\) \\\\( m \\\\) \\\\( k \\\\) \\\\( l \\\\) \\\\( m \\\\) \\\\( k \\\\) \\\\( l \\\\) \\\\( m \\\\) \\\\( k \\\\) \\\\( l \\\\) \\\\( m \\\\) \\\\( k \\\\) \\\\( l \\\\) \\\\( m \\\\) \\\\( k \\\\) \\\\( l \\\\) \\\\( m \\\\) \\\\( k \\\\) \\\\( l \\\\) \\\\( m \\\\) \\\\( k \\\\) \\\\( l \\\\) \\\\( m \\\\) \\\\( k \\\\) \\\\( l \\\\) \\\\( m \\\\) \\\\( k \\\\) \\\\( l \\\\) \\\\( m \\\\) \\\\( k \\\\) \\\\( l \\\\) \\\\( m \\\\) \\\\( k \\\\) \\\\( l \\\\) \\\\( m \\\\) \\\\( k \\\\) \\\\( l \\\\) \\\\( m \\\\) \\\\( k \\\\) \\\\( l \\\\) \\\\( m \\\\) \\\\( k \\\\) \\\\( l \\\\) \\\\( m \\\\) \\\\( k \\\\) \\\\( l \\\\) \\\\( m \\\\) \\\\( k \\\\) \\\\( l \\\\) \\\\( m \\\\) \\\\( k \\\\) \\\\( l \\\\) \\\\( m \\\\) \\\\( k \\\\) \\\\( l \\\\) \\\\( m \\\\) \\\\( k \\\\) \\\\( l \\\\) \\\\( m \\\\) \\\\( k \\\\) \\\\( l \\\\) \\\\( m \\\\) \\\\( k \\\\) \\\\( l \\\\) \\\\( m \\\\) \\\\( k \\\\) \\\\( l \\\\) \\\\( m \\\\) \\\\( k \\\\) \\\\( l \\\\) \\\\( m \\\\) \\\\( k \\\\) \\\\( l \\\\) \\\\( m \\\\) \\\\( k \\\\) \\\\( l \\\\) \\\\( m \\\\) \\\\( k \\\\) \\\\( l \\\\) \\\\( m \\\\) \\\\( k \\\\) \\\\( l \\\\) \\\\( m \\\\) \\\\( k \\\\) \\\\( l \\\\) \\\\( m \\\\) \\\\( k \\\\) \\\\( l \\\\) \\\\( m \\\\) \\\\( k \\\\) \\\\( l \\\\) \\\\( m \\\\) \\\\( k \\\\) \\\\( l \\\\) \\\\( m \\\\) \\\\( k \\\\) \\\\( l \\\\) \\\\( m \\\\) \\\\( k \\\\) \\\\( l \\\\) \\\\( m \\\\) \\\\( k \\\\) \\\\( l \\\\) \\\\( m \\\\) \\\\( k \\\\) \\\\( l \\\\) \\\\( m \\\\) \\\\( k \\\\) \\\\( l \\\\) \\\\( m \\\\) \\\\( k \\\\) \\\\( l \\\\) \\\\( m \\\\) \\\\( k \\\\) \\\\( l \\\\) \\\\( m \\\\) \\\\( k \\\\) \\\\( l \\\\) \\\\( m \\\\) \\\\( k \\\\) \\\\( l \\\\) \\\\( m \\\\) \\\\( k \\\\) \\\\( l \\\\) \\\\( m \\\\) \\\\( k \\\\) \\\\( l \\\\) \\\\( m \\\\) \\\\( k \\\\) \\\\( l \\\\) \\\\( m \\\\) \\\\( k \\\\) \\\\( l \\\\) \\\\( m \\\\) \\\\( k \\\\) \\\\( l \\\\) \\\\( m \\\\) \\\\( k \\\\) \\\\( l \\\\) \\\\( m \\\\) \\\\( k \\\\) \\\\( l \\\\) \\\\( m \\\\) \\\\( k \\\\) \\\\( l \\\\) \\\\( m \\\\) \\\\( k \\\\) \\\\( l \\\\) \\\\( m \\\\) \\\\( k \\\\) \\\\( l \\\\) \\\\( m \\\\) \\\\( k \\\\) \\\\( l \\\\) \\\\( m \\\\) \\\\( k \\\\) \\\\( l \\\\) \\\\( m \\\\) \\\\( k \\\\) \\\\( l \\\\) \\\\( m \\\\) \\\\( k \\\\) \\\\( l \\\\) \\\\( m \\\\) \\\\( k \\\\) \\\\( l \\\\) \\\\( m \\\\) \\\\( k \\\\) \\\\( l \\\\) \\\\( m \\\\) \\\\( k \\\\) \\\\( l \\\\) \\\\( m \\\\) \\\\( k \\\\) \\\\( l \\\\) \\\\( m \\\\) \\\\( k \\\\) \\\\( l \\\\) \\\\( m \\\\) \\\\( k \\\\) \\\\( l \\\\) \\\\( m \\\\) \\\\( k \\\\) \\\\( l \\\\) \\\\( m \\\\) \\\\( k \\\\) \\\\( l \\\\) \\\\( m \\\\) \\\\( k \\\\) \\\\( l \\\\) \\\\( m \\\\) \\\\( k \\\\) \\\\( l \\\\) \\\\( m \\\\) \\\\( k \\\\) \\\\( l \\\\) \\\\( m \\\\) \\\\( k \\\\) \\\\( l \\\\) \\\\( m \\\\) \\\\( k \\\\) \\\\( l \\\\) \\\\( m \\\\) \\\\( k \\\\) \\\\( l \\\\) \\\\( m \\\\) \\\\( k \\\\) \\\\( l \\\\) \\\\( m \\\\) \\\\( k \\\\) \\\\( l \\\\) \\\\( m \\\\) \\\\( k \\\\) \\\\( l \\\\) \\\\( m \\\\) \\\\( k \\\\) \\\\( l \\\\) \\\\( m \\\\) \\\\( k \\\\) \\\\( l \\\\) \\\\( m \\\\) \\\\( k \\\\) \\\\( l \\\\) \\\\( m \\\\) \\\\( k \\\\) \\\\( l \\\\) \\\\( m \\\\) \\\\( k \\\\) \\\\( l \\\\) \\\\( m \\\\) \\\\( k \\\\) \\\\( l \\\\) \\\\( m \\\\) \\\\( k \\\\) \\\\( l \\\\) \\\\( m \\\\) \\\\( k \\\\) \\\\( l \\\\) \\\\( m \\\\) \\\\( k \\\\) \\\\( l \\\\) \\\\( m \\\\) \\\\( k \\\\) \\\\( l \\\\) \\\\( m \\\\) \\\\( k \\\\) \\\\( l \\\\) \\\\( m \\\\) \\\\( k \\\\) \\\\( l \\\\) \\\\( m \\\\) \\\\( k \\\\) \\\\( l \\\\) \\\\( m \\\\) \\\\( k \\\\) \\\\( l \\\\) \\\\( m \\\\) \\\\( k \\\\) \\\\( l \\\\) \\\\( m \\\\) \\\\( k \\\\) \\\\( l \\\\) \\\\( m \\\\) \\\\( k \\\\) \\\\( l \\\\) \\\\( m \\\\) \\\\( k \\\\) \\\\( l \\\\) \\\\( m \\\\) \\\\( k \\\\) \\\\( l \\\\) \\\\( m \\\\) \\\\( k \\\\) \\\\( l \\\\) \\\\( m \\\\) \\\\( k \\\\) \\\\( l \\\\) \\\\( m \\\\) \\\\( k \\\\) \\\\( l \\\\) \\\\( m \\\\) \\\\( k \\\\) \\\\( l \\\\) \\\\( m \\\\) \\\\( k \\\\) \\\\( l \\\\) \\\\( m \\\\) \\\\( k \\\\) \\\\( l \\\\) \\\\( m \\\\) \\\\( k \\\\) \\\\( l \\\\) \\\\( m \\\\) \\\\( k \\\\) \\\\( l \\\\) \\\\( m \\\\) \\\\( k \\\\) \\\\( l \\\\) \\\\( m \\\\) \\\\( k \\\\) \\\\( l \\\\) \\\\( m \\\\) \\\\( k \\\\) \\\\( l \\\\) \\\\( m \\\\) \\\\( k \\\\) \\\\( l \\\\) \\\\( m \\\\) \\\\( k \\\\) \\\\( l \\\\) \\\\( m \\\\) \\\\( k \\\\) \\\\( l \\\\) \\\\( m \\\\) \\\\( k \\\\) \\\\( l \\\\) \\\\( m \\\\) \\\\( k \\\\) \\\\( l \\\\) \\\\( m \\\\) \\\\( k \\\\) \\\\( l \\\\) \\\\( m \\\\) \\\\( k \\\\) \\\\( l \\\\) \\\\( m \\\\) \\\\( k \\\\) \\\\( l \\\\) \\\\( m \\\\) \\\\( k \\\\) \\\\( l \\\\) \\\\( m \\\\) \\\\( k \\\\) \\\\( l \\\\) \\\\( m \\\\) \\\\( k \\\\) \\\\( l \\\\) \\\\( m \\\\) \\\\( k \\\\) \\\\( l \\\\) \\\\( m \\\\) \\\\( k \\\\) \\\\( l \\\\) \\\\( m \\\\) \\\\( k \\\\) \\\\( l \\\\) \\\\( m \\\\) \\\\( k \\\\) \\\\( l \\\\) \\\\( m \\\\) \\\\( k \\\\) \\\\(', 'output_ids': [59604, 374, 279, 6722, 315, 9625, 11, 323, 279, 220, 198, 44292, 308, 1124, 8, 220, 17767, 296, 1124, 8, 17767, 595, 1124, 8, 17767, 326, 1124, 8, 17767, 296, 1124, 8, 17767, 595, 1124, 8, 17767, 326, 1124, 8, 17767, 296, 1124, 8, 17767, 595, 1124, 8, 17767, 326, 1124, 8, 17767, 296, 1124, 8, 17767, 595, 1124, 8, 17767, 326, 1124, 8, 17767, 296, 1124, 8, 17767, 595, 1124, 8, 17767, 326, 1124, 8, 17767, 296, 1124, 8, 17767, 595, 1124, 8, 17767, 326, 1124, 8, 17767, 296, 1124, 8, 17767, 595, 1124, 8, 17767, 326, 1124, 8, 17767, 296, 1124, 8, 17767, 595, 1124, 8, 17767, 326, 1124, 8, 17767, 296, 1124, 8, 17767, 595, 1124, 8, 17767, 326, 1124, 8, 17767, 296, 1124, 8, 17767, 595, 1124, 8, 17767, 326, 1124, 8, 17767, 296, 1124, 8, 17767, 595, 1124, 8, 17767, 326, 1124, 8, 17767, 296, 1124, 8, 17767, 595, 1124, 8, 17767, 326, 1124, 8, 17767, 296, 1124, 8, 17767, 595, 1124, 8, 17767, 326, 1124, 8, 17767, 296, 1124, 8, 17767, 595, 1124, 8, 17767, 326, 1124, 8, 17767, 296, 1124, 8, 17767, 595, 1124, 8, 17767, 326, 1124, 8, 17767, 296, 1124, 8, 17767, 595, 1124, 8, 17767, 326, 1124, 8, 17767, 296, 1124, 8, 17767, 595, 1124, 8, 17767, 326, 1124, 8, 17767, 296, 1124, 8, 17767, 595, 1124, 8, 17767, 326, 1124, 8, 17767, 296, 1124, 8, 17767, 595, 1124, 8, 17767, 326, 1124, 8, 17767, 296, 1124, 8, 17767, 595, 1124, 8, 17767, 326, 1124, 8, 17767, 296, 1124, 8, 17767, 595, 1124, 8, 17767, 326, 1124, 8, 17767, 296, 1124, 8, 17767, 595, 1124, 8, 17767, 326, 1124, 8, 17767, 296, 1124, 8, 17767, 595, 1124, 8, 17767, 326, 1124, 8, 17767, 296, 1124, 8, 17767, 595, 1124, 8, 17767, 326, 1124, 8, 17767, 296, 1124, 8, 17767, 595, 1124, 8, 17767, 326, 1124, 8, 17767, 296, 1124, 8, 17767, 595, 1124, 8, 17767, 326, 1124, 8, 17767, 296, 1124, 8, 17767, 595, 1124, 8, 17767, 326, 1124, 8, 17767, 296, 1124, 8, 17767, 595, 1124, 8, 17767, 326, 1124, 8, 17767, 296, 1124, 8, 17767, 595, 1124, 8, 17767, 326, 1124, 8, 17767, 296, 1124, 8, 17767, 595, 1124, 8, 17767, 326, 1124, 8, 17767, 296, 1124, 8, 17767, 595, 1124, 8, 17767, 326, 1124, 8, 17767, 296, 1124, 8, 17767, 595, 1124, 8, 17767, 326, 1124, 8, 17767, 296, 1124, 8, 17767, 595, 1124, 8, 17767, 326, 1124, 8, 17767, 296, 1124, 8, 17767, 595, 1124, 8, 17767, 326, 1124, 8, 17767, 296, 1124, 8, 17767, 595, 1124, 8, 17767, 326, 1124, 8, 17767, 296, 1124, 8, 17767, 595, 1124, 8, 17767, 326, 1124, 8, 17767, 296, 1124, 8, 17767, 595, 1124, 8, 17767, 326, 1124, 8, 17767, 296, 1124, 8, 17767, 595, 1124, 8, 17767, 326, 1124, 8, 17767, 296, 1124, 8, 17767, 595, 1124, 8, 17767, 326, 1124, 8, 17767, 296, 1124, 8, 17767, 595, 1124, 8, 17767, 326, 1124, 8, 17767, 296, 1124, 8, 17767, 595, 1124, 8, 17767, 326, 1124, 8, 17767, 296, 1124, 8, 17767, 595, 1124, 8, 17767, 326, 1124, 8, 17767, 296, 1124, 8, 17767, 595, 1124, 8, 17767, 326, 1124, 8, 17767, 296, 1124, 8, 17767, 595, 1124, 8, 17767, 326, 1124, 8, 17767, 296, 1124, 8, 17767, 595, 1124, 8, 17767, 326, 1124, 8, 17767, 296, 1124, 8, 17767, 595, 1124, 8, 17767, 326, 1124, 8, 17767, 296, 1124, 8, 17767, 595, 1124, 8, 17767, 326, 1124, 8, 17767, 296, 1124, 8, 17767, 595, 1124, 8, 17767, 326, 1124, 8, 17767, 296, 1124, 8, 17767, 595, 1124, 8, 17767, 326, 1124, 8, 17767, 296, 1124, 8, 17767, 595, 1124, 8, 17767, 326, 1124, 8, 17767, 296, 1124, 8, 17767, 595, 1124, 8, 17767, 326, 1124, 8, 17767, 296, 1124, 8, 17767, 595, 1124, 8, 17767, 326, 1124, 8, 17767, 296, 1124, 8, 17767, 595, 1124, 8, 17767, 326, 1124, 8, 17767, 296, 1124, 8, 17767, 595, 1124, 8, 17767, 326, 1124, 8, 17767, 296, 1124, 8, 17767, 595, 1124, 8, 17767, 326, 1124, 8, 17767, 296, 1124, 8, 17767, 595, 1124, 8, 17767, 326, 1124, 8, 17767, 296, 1124, 8, 17767, 595, 1124, 8, 17767, 326, 1124, 8, 17767, 296, 1124, 8, 17767, 595, 1124, 8, 17767, 326, 1124, 8, 17767, 296, 1124, 8, 17767, 595, 1124, 8, 17767, 326, 1124, 8, 17767, 296, 1124, 8, 17767, 595, 1124, 8, 17767, 326, 1124, 8, 17767, 296, 1124, 8, 17767, 595, 1124, 8, 17767, 326, 1124, 8, 17767, 296, 1124, 8, 17767, 595, 1124, 8, 17767, 326, 1124, 8, 17767, 296, 1124, 8, 17767, 595, 1124, 8, 17767, 326, 1124, 8, 17767, 296, 1124, 8, 17767, 595, 1124, 8, 17767, 326, 1124, 8, 17767, 296, 1124, 8, 17767, 595, 1124, 8, 17767, 326, 1124, 8, 17767, 296, 1124, 8, 17767, 595, 1124, 8, 17767, 326, 1124, 8, 17767, 296, 1124, 8, 17767, 595, 1124, 8, 17767, 326, 1124, 8, 17767, 296, 1124, 8, 17767, 595, 1124, 8, 17767, 326, 1124, 8, 17767, 296, 1124, 8, 17767, 595, 1124, 8, 17767, 326, 1124, 8, 17767, 296, 1124, 8, 17767, 595, 1124, 8, 17767, 326, 1124, 8, 17767, 296, 1124, 8, 17767, 595, 1124, 8, 17767, 326, 1124, 8, 17767, 296, 1124, 8, 17767, 595, 1124, 8, 17767, 326, 1124, 8, 17767, 296, 1124, 8, 17767, 595, 1124, 8, 17767, 326, 1124, 8, 17767, 296, 1124, 8, 17767, 595, 1124, 8, 17767, 326, 1124, 8, 17767, 296, 1124, 8, 17767, 595, 1124, 8, 17767, 326, 1124, 8, 17767, 296, 1124, 8, 17767, 595, 1124, 8, 17767, 326, 1124, 8, 17767, 296, 1124, 8, 17767, 595, 1124, 8, 17767, 326, 1124, 8, 17767, 296, 1124, 8, 17767, 595, 1124, 8, 17767, 326, 1124, 8, 17767, 296, 1124, 8, 17767, 595, 1124, 8, 17767, 326, 1124, 8, 17767, 296, 1124, 8, 17767, 595, 1124, 8, 17767, 326, 1124, 8, 17767, 296, 1124, 8, 17767, 595, 1124, 8, 17767, 326, 1124, 8, 17767, 296, 1124, 8, 17767, 595, 1124, 8, 17767, 326, 1124, 8, 17767, 296, 1124, 8, 17767, 595, 1124, 8, 17767, 326, 1124, 8, 17767, 296, 1124, 8, 17767, 595, 1124, 8, 17767, 326, 1124, 8, 17767, 296, 1124, 8, 17767, 595, 1124, 8, 17767, 326, 1124, 8, 17767, 296, 1124, 8, 17767, 595, 1124, 8, 17767, 326, 1124, 8, 17767, 296, 1124, 8, 17767, 595, 1124, 8, 17767, 326, 1124, 8, 17767, 296, 1124, 8, 17767, 595, 1124, 8, 17767, 326, 1124, 8, 17767, 296, 1124, 8, 17767, 595, 1124, 8, 17767, 326, 1124, 8, 17767, 296, 1124, 8, 17767, 595, 1124, 8, 17767, 326, 1124, 8, 17767, 296, 1124, 8, 17767, 595, 1124, 8, 17767, 326, 1124, 8, 17767, 296, 1124, 8, 17767, 595, 1124, 8, 17767, 326, 1124, 8, 17767, 296, 1124, 8, 17767, 595, 1124, 8, 17767, 326, 1124, 8, 17767, 296, 1124, 8, 17767, 595, 1124, 8, 17767, 326, 1124, 8, 17767, 296, 1124, 8, 17767, 595, 1124, 8, 17767, 326, 1124, 8, 17767, 296, 1124, 8, 17767, 595, 1124, 8, 17767, 326, 1124, 8, 17767, 296, 1124, 8, 17767, 595, 1124, 8, 17767, 326, 1124, 8, 17767, 296, 1124, 8, 17767, 595, 1124, 8, 17767, 326, 1124, 8, 17767, 296, 1124, 8, 17767, 595, 1124, 8, 17767, 326, 1124, 8, 17767, 296, 1124, 8, 17767, 595, 1124, 8, 17767, 326, 1124, 8, 17767, 296, 1124, 8, 17767, 595, 1124, 8, 17767, 326, 1124, 8, 17767, 296, 1124, 8, 17767, 595, 1124, 8, 17767, 326, 1124, 8, 17767, 296, 1124, 8, 17767, 595, 1124, 8, 17767, 326, 1124, 8, 17767, 296, 1124, 8, 17767, 595, 1124, 8, 17767, 326, 1124, 8, 17767, 296, 1124, 8, 17767, 595, 1124, 8, 17767, 326, 1124, 8, 17767, 296, 1124, 8, 17767, 595, 1124, 8, 17767, 326, 1124, 8, 17767, 296, 1124, 8, 17767, 595, 1124, 8, 17767, 326, 1124, 8, 17767, 296, 1124, 8, 17767, 595, 1124, 8, 17767, 326, 1124, 8, 17767, 296, 1124, 8, 17767, 595, 1124, 8, 17767, 326, 1124, 8, 17767, 296, 1124, 8, 17767, 595, 1124, 8, 17767, 326, 1124, 8, 17767, 296, 1124, 8, 17767, 595, 1124, 8, 17767, 326, 1124, 8, 17767, 296, 1124, 8, 17767, 595, 1124, 8, 17767, 326, 1124, 8, 17767, 296, 1124, 8, 17767, 595, 1124, 8, 17767, 326, 1124, 8, 17767, 296, 1124, 8, 17767, 595, 1124, 8, 17767, 326, 1124, 8, 17767, 296, 1124, 8, 17767, 595, 1124, 8, 17767, 326, 1124, 8, 17767, 296, 1124, 8, 17767, 595, 1124, 8, 17767, 326, 1124, 8, 17767, 296, 1124, 8, 17767, 595, 1124, 8, 17767, 326, 1124, 8, 17767, 296, 1124, 8, 17767, 595, 1124, 8, 17767, 326, 1124, 8, 17767, 296, 1124, 8, 17767, 595, 1124, 8, 17767, 326, 1124, 8, 17767, 296, 1124, 8, 17767, 595, 1124, 8, 17767, 326, 1124, 8, 17767, 296, 1124, 8, 17767, 595, 1124, 8, 17767, 326, 1124, 8, 17767, 296, 1124, 8, 17767, 595, 1124, 8, 17767, 326, 1124, 8, 17767, 296, 1124, 8, 17767, 595, 1124, 8, 17767, 326, 1124, 8, 17767, 296, 1124, 8, 17767, 595, 1124, 8, 17767, 326, 1124, 8, 17767, 296, 1124, 8, 17767, 595, 1124, 8, 17767, 326, 1124, 8, 17767, 296, 1124, 8, 17767, 595, 1124, 8, 17767, 326, 1124, 8, 17767, 296, 1124, 8, 17767, 595, 1124, 8, 17767, 326, 1124, 8, 17767, 296, 1124, 8, 17767, 595, 1124, 8, 17767, 326, 1124, 8, 17767, 296, 1124, 8, 17767, 595, 1124, 8, 17767, 326, 1124, 8, 17767, 296, 1124, 8, 17767, 595, 1124, 8, 17767, 326, 1124, 8, 17767, 296, 1124, 8, 17767, 595, 1124, 8, 17767, 326, 1124, 8, 17767, 296, 1124, 8, 17767, 595, 1124, 8, 17767, 326, 1124, 8, 17767, 296, 1124, 8, 17767, 595, 1124, 8, 17767, 326, 1124, 8, 17767, 296, 1124, 8, 17767, 595, 1124, 8, 17767, 326, 1124, 8, 17767, 296, 1124, 8, 17767, 595, 1124, 8, 17767, 326, 1124, 8, 17767, 296, 1124, 8, 17767, 595, 1124, 8, 17767, 326, 1124, 8, 17767, 296, 1124, 8, 17767, 595, 1124, 8, 17767, 326, 1124, 8, 17767, 296, 1124, 8, 17767, 595, 1124, 8, 17767, 326, 1124, 8, 17767, 296, 1124, 8, 17767, 595, 1124, 8, 17767, 326, 1124, 8, 17767, 296, 1124, 8, 17767, 595, 1124, 8, 17767, 326, 1124, 8, 17767, 296, 1124, 8, 17767, 595, 1124, 8, 17767, 326, 1124, 8, 17767, 296, 1124, 8, 17767, 595, 1124, 8, 17767, 326, 1124, 8, 17767, 296, 1124, 8, 17767, 595, 1124, 8, 17767, 326, 1124, 8, 17767, 296, 1124, 8, 17767, 595, 1124, 8, 17767, 326, 1124, 8, 17767, 296, 1124, 8, 17767, 595, 1124, 8, 17767, 326, 1124, 8, 17767, 296, 1124, 8, 17767, 595, 1124, 8, 17767, 326, 1124, 8, 17767, 296, 1124, 8, 17767, 595, 1124, 8, 17767, 326, 1124, 8, 17767, 296, 1124, 8, 17767, 595, 1124, 8, 17767, 326, 1124, 8, 17767, 296, 1124, 8, 17767, 595, 1124, 8, 17767, 326, 1124, 8, 17767, 296, 1124, 8, 17767, 595, 1124, 8, 17767, 326, 1124, 8, 17767, 296, 1124, 8, 17767, 595, 1124, 8, 17767, 326, 1124, 8, 17767, 296, 1124, 8, 17767, 595, 1124, 8, 17767, 326, 1124, 8, 17767, 296, 1124, 8, 17767, 595, 1124, 8, 17767, 326, 1124, 8, 17767, 296, 1124, 8, 17767, 595, 1124, 8, 17767, 326, 1124, 8, 17767, 296, 1124, 8, 17767, 595, 1124, 8, 17767, 326, 1124, 8, 17767, 296, 1124, 8, 17767, 595, 1124, 8, 17767, 326, 1124, 8, 17767, 296, 1124, 8, 17767, 595, 1124, 8, 17767, 326, 1124, 8, 17767, 296, 1124, 8, 17767, 595, 1124, 8, 17767, 326, 1124, 8, 17767, 296, 1124, 8, 17767, 595, 1124, 8, 17767, 326, 1124, 8, 17767, 296, 1124, 8, 17767, 595, 1124, 8, 17767, 326, 1124, 8, 17767, 296, 1124, 8, 17767, 595, 1124, 8, 17767, 326, 1124, 8, 17767, 296, 1124, 8, 17767, 595, 1124, 8, 17767, 326, 1124, 8, 17767, 296, 1124, 8, 17767, 595, 1124, 8, 17767, 326, 1124, 8, 17767, 296, 1124, 8, 17767, 595, 1124, 8, 17767, 326, 1124, 8, 17767, 296, 1124, 8, 17767, 595, 1124, 8, 17767, 326, 1124, 8, 17767, 296, 1124, 8, 17767, 595, 1124, 8, 17767, 326, 1124, 8, 17767, 296, 1124, 8, 17767, 595, 1124, 8, 17767, 326, 1124, 8, 17767, 296, 1124, 8, 17767, 595, 1124, 8, 17767, 326, 1124, 8, 17767, 296, 1124, 8, 17767, 595, 1124, 8, 17767, 326, 1124, 8, 17767, 296, 1124, 8, 17767, 595, 1124, 8, 17767], 'meta_info': {'id': '4ec9ca24c0ea4caf80092fceb169c919', 'finish_reason': {'type': 'length', 'length': 2048}, 'prompt_tokens': 6, 'weight_version': 'default', 'completion_tokens': 2048, 'cached_tokens': 1, 'e2e_latency': 13.414706468582153}}\n"
     ]
    }
   ],
   "source": [
    "response = requests.post(\n",
    "    f\"http://localhost:{port}/generate\",\n",
    "    json={\n",
    "        \"text\": \"Paris is the capital of\",\n",
    "        \"sampling_params\": {\n",
    "            \"temperature\": 0,\n",
    "            \"max_new_tokens\": 2048,\n",
    "            \"regex\": \"(France|England)\",\n",
    "        },\n",
    "    },\n",
    ")\n",
    "print(response.json())"
   ]
  },
  {
   "cell_type": "markdown",
   "metadata": {},
   "source": [
    "### Structural Tag"
   ]
  },
  {
   "cell_type": "code",
   "execution_count": 11,
   "metadata": {
    "execution": {
     "iopub.execute_input": "2025-09-16T23:22:53.035873Z",
     "iopub.status.busy": "2025-09-16T23:22:53.035669Z",
     "iopub.status.idle": "2025-09-16T23:22:57.338619Z",
     "shell.execute_reply": "2025-09-16T23:22:57.338152Z"
    }
   },
   "outputs": [
    {
     "data": {
      "text/html": [
       "<strong style='color: #00008B;'>{'text': 'Alright, so the user just asked me for the information and population of the capital of France in JSON format. Let me break this down.\\n\\nFirst, I need to figure out what information they\\'re looking for. The capital is Paris, so I should include the city name as Paris. They also want population stats, so I guess I need the current population. I remember from recent data that Paris has a population around 2 million. But wait, the exact number can vary a bit each year. I should make sure to note that it\\'s approximate since the population can change.\\n\\nNow, structuring the JSON. JSON typically uses keys and values, so I\\'ll create an object with keys like \"city\", \"population\", and maybe a sub-key for the approximate figure to make it clear. So, something like { \"city\": \"Paris\", \"population\": { \"main\": \"2023\", \"approx\": \"212.5\" } }, but wait, the response from the assistant had \"212,500\". Hmm, maybe they used a comma for the decimal, which is common in some European countries. I should use a comma instead of a dot for consistency. So it would be \"212,500\". Also, including a note that the population is approximate would be good for transparency.\\n\\nLet me also check if I need to include units. The population numbers are usually in people, so adding \"thousand\" might help clarify. That way, it\\'s clear it\\'s not 2 million but 2.1 million. \\n\\nIs there anything else? Maybe a summary field to give a quick snapshot. That would make the data easier to digest for someone scanning through. So, something like \"2.1 million residents\" in the summary. \\n\\nI should also make sure the JSON syntax is correct. No trailing commas, proper quotation marks, and semicolons where needed. Wait, in the JSON, the keys should be in double quotes, and the values as well. The population field is an object itself, so I need to structure it with braces and commas correctly. \\n\\nPutting it all together, the JSON should have the main city, a population key with both the main figure and an approximate value, and a summary for quick reference. I think that covers everything the user asked for and adds a bit more clarity. I should double-check the numbers to make sure they\\'re up to date, but I\\'m pretty confident about the approximate population around 2.1 million in Paris.\\n\\nAlright, I think I\\'ve covered all the bases. Time to present the JSON in a clear and concise manner.\\n</think>\\n\\nHere is the information and population of the capital of France (Paris) in JSON format:\\n\\n```json\\n{\\n  \"city\": \"Paris\",\\n  \"population\": {\\n    \"main\": \"2023\",\\n    \"approx\": \"212500\"\\n  },\\n  \"summary\": \"2.1 million residents\"\\n}\\n```', 'output_ids': [13, 151643, 151645, 151648, 198, 71486, 11, 773, 279, 1196, 1101, 4588, 752, 369, 279, 1995, 323, 7042, 315, 279, 6722, 315, 9625, 304, 4718, 3561, 13, 6771, 752, 1438, 419, 1495, 382, 5338, 11, 358, 1184, 311, 7071, 700, 1128, 1995, 807, 2299, 3330, 369, 13, 576, 6722, 374, 12095, 11, 773, 358, 1265, 2924, 279, 3283, 829, 438, 12095, 13, 2379, 1083, 1366, 7042, 10472, 11, 773, 358, 7942, 358, 1184, 279, 1482, 7042, 13, 358, 6099, 504, 3213, 821, 429, 12095, 702, 264, 7042, 2163, 220, 17, 3526, 13, 1988, 3783, 11, 279, 4734, 1372, 646, 13289, 264, 2699, 1817, 1042, 13, 358, 1265, 1281, 2704, 311, 5185, 429, 432, 594, 44868, 2474, 279, 7042, 646, 2297, 382, 7039, 11, 2036, 1677, 279, 4718, 13, 4718, 11136, 5711, 6894, 323, 2750, 11, 773, 358, 3278, 1855, 458, 1633, 448, 6894, 1075, 330, 8926, 497, 330, 44441, 497, 323, 7196, 264, 1186, 16173, 369, 279, 44868, 7071, 311, 1281, 432, 2797, 13, 2055, 11, 2494, 1075, 314, 330, 8926, 788, 330, 59604, 497, 330, 44441, 788, 314, 330, 3817, 788, 330, 17, 15, 17, 18, 497, 330, 48053, 788, 330, 17, 16, 17, 13, 20, 1, 335, 2470, 714, 3783, 11, 279, 2033, 504, 279, 17847, 1030, 330, 17, 16, 17, 11, 20, 15, 15, 3263, 88190, 11, 7196, 807, 1483, 264, 31683, 369, 279, 12122, 11, 892, 374, 4185, 304, 1045, 7513, 5837, 13, 358, 1265, 990, 264, 31683, 4518, 315, 264, 12756, 369, 28137, 13, 2055, 432, 1035, 387, 330, 17, 16, 17, 11, 20, 15, 15, 3263, 7281, 11, 2670, 264, 5185, 429, 279, 7042, 374, 44868, 1035, 387, 1661, 369, 27231, 382, 10061, 752, 1083, 1779, 421, 358, 1184, 311, 2924, 8153, 13, 576, 7042, 5109, 525, 5990, 304, 1251, 11, 773, 7842, 330, 339, 51849, 1, 2578, 1492, 37163, 13, 2938, 1616, 11, 432, 594, 2797, 432, 594, 537, 220, 17, 3526, 714, 220, 17, 13, 16, 3526, 13, 4710, 3872, 1052, 4113, 770, 30, 10696, 264, 12126, 2070, 311, 2968, 264, 3974, 16295, 13, 2938, 1035, 1281, 279, 821, 8661, 311, 20882, 369, 4325, 35101, 1526, 13, 2055, 11, 2494, 1075, 330, 17, 13, 16, 3526, 10826, 1, 304, 279, 12126, 13, 4710, 40, 1265, 1083, 1281, 2704, 279, 4718, 19482, 374, 4396, 13, 2308, 27748, 76602, 11, 6169, 54231, 15423, 11, 323, 5234, 26463, 2382, 1380, 4362, 13, 13824, 11, 304, 279, 4718, 11, 279, 6894, 1265, 387, 304, 1990, 17194, 11, 323, 279, 2750, 438, 1632, 13, 576, 7042, 2070, 374, 458, 1633, 5086, 11, 773, 358, 1184, 311, 5944, 432, 448, 59191, 323, 76602, 12440, 13, 4710, 97904, 432, 678, 3786, 11, 279, 4718, 1265, 614, 279, 1887, 3283, 11, 264, 7042, 1376, 448, 2176, 279, 1887, 7071, 323, 458, 44868, 897, 11, 323, 264, 12126, 369, 3974, 5785, 13, 358, 1744, 429, 14521, 4297, 279, 1196, 4588, 369, 323, 11367, 264, 2699, 803, 31273, 13, 358, 1265, 1990, 15934, 279, 5109, 311, 1281, 2704, 807, 2299, 705, 311, 2400, 11, 714, 358, 2776, 5020, 16506, 911, 279, 44868, 7042, 2163, 220, 17, 13, 16, 3526, 304, 12095, 382, 71486, 11, 358, 1744, 358, 3003, 9761, 678, 279, 23092, 13, 4120, 311, 3042, 279, 4718, 304, 264, 2797, 323, 63594, 11566, 624, 151649, 271, 8420, 374, 279, 1995, 323, 7042, 315, 279, 6722, 315, 9625, 320, 59604, 8, 304, 4718, 3561, 1447, 73594, 2236, 198, 515, 220, 330, 8926, 788, 330, 59604, 756, 220, 330, 44441, 788, 341, 262, 330, 3817, 788, 330, 17, 15, 17, 18, 756, 262, 330, 48053, 788, 330, 17, 16, 17, 20, 15, 15, 698, 220, 1153, 220, 330, 1708, 788, 330, 17, 13, 16, 3526, 10826, 698, 532, 73594, 151643], 'meta_info': {'id': 'b011b8a5dc5f4dcabeff13c81d4d406e', 'finish_reason': {'type': 'stop', 'matched': 151643}, 'prompt_tokens': 23, 'weight_version': 'default', 'completion_tokens': 612, 'cached_tokens': 22, 'e2e_latency': 4.293182373046875}}</strong>"
      ],
      "text/plain": [
       "<IPython.core.display.HTML object>"
      ]
     },
     "metadata": {},
     "output_type": "display_data"
    }
   ],
   "source": [
    "text = tokenizer.apply_chat_template(\n",
    "    messages, tokenize=False, add_generation_prompt=True\n",
    ")\n",
    "payload = {\n",
    "    \"text\": text,\n",
    "    \"sampling_params\": {\n",
    "        \"max_new_tokens\": 2048,\n",
    "        \"structural_tag\": json.dumps(\n",
    "            {\n",
    "                \"type\": \"structural_tag\",\n",
    "                \"structures\": [\n",
    "                    {\n",
    "                        \"begin\": \"<function=get_current_weather>\",\n",
    "                        \"schema\": schema_get_current_weather,\n",
    "                        \"end\": \"</function>\",\n",
    "                    },\n",
    "                    {\n",
    "                        \"begin\": \"<function=get_current_date>\",\n",
    "                        \"schema\": schema_get_current_date,\n",
    "                        \"end\": \"</function>\",\n",
    "                    },\n",
    "                ],\n",
    "                \"triggers\": [\"<function=\"],\n",
    "            }\n",
    "        ),\n",
    "    },\n",
    "}\n",
    "\n",
    "\n",
    "# Send POST request to the API endpoint\n",
    "response = requests.post(f\"http://localhost:{port}/generate\", json=payload)\n",
    "print_highlight(response.json())"
   ]
  },
  {
   "cell_type": "code",
   "execution_count": 12,
   "metadata": {
    "execution": {
     "iopub.execute_input": "2025-09-16T23:22:57.340075Z",
     "iopub.status.busy": "2025-09-16T23:22:57.339921Z",
     "iopub.status.idle": "2025-09-16T23:22:57.374450Z",
     "shell.execute_reply": "2025-09-16T23:22:57.373899Z"
    }
   },
   "outputs": [],
   "source": [
    "terminate_process(server_process)"
   ]
  },
  {
   "cell_type": "markdown",
   "metadata": {},
   "source": [
    "## Offline Engine API"
   ]
  },
  {
   "cell_type": "code",
   "execution_count": 13,
   "metadata": {
    "execution": {
     "iopub.execute_input": "2025-09-16T23:22:57.376389Z",
     "iopub.status.busy": "2025-09-16T23:22:57.376224Z",
     "iopub.status.idle": "2025-09-16T23:23:19.050444Z",
     "shell.execute_reply": "2025-09-16T23:23:19.049879Z"
    }
   },
   "outputs": [
    {
     "name": "stderr",
     "output_type": "stream",
     "text": [
      "W0916 23:22:58.962000 1289541 torch/utils/cpp_extension.py:2425] TORCH_CUDA_ARCH_LIST is not set, all archs for visible cards are included for compilation. \n",
      "W0916 23:22:58.962000 1289541 torch/utils/cpp_extension.py:2425] If this is not desired, please set os.environ['TORCH_CUDA_ARCH_LIST'] to specific architectures.\n"
     ]
    },
    {
     "name": "stdout",
     "output_type": "stream",
     "text": [
      "All deep_gemm operations loaded successfully!\n"
     ]
    },
    {
     "name": "stderr",
     "output_type": "stream",
     "text": [
      "`torch_dtype` is deprecated! Use `dtype` instead!\n"
     ]
    },
    {
     "name": "stderr",
     "output_type": "stream",
     "text": [
      "WARNING:transformers.configuration_utils:`torch_dtype` is deprecated! Use `dtype` instead!\n"
     ]
    },
    {
     "name": "stderr",
     "output_type": "stream",
     "text": [
      "/usr/local/lib/python3.10/dist-packages/torch/cuda/__init__.py:63: FutureWarning: The pynvml package is deprecated. Please install nvidia-ml-py instead. If you did not install pynvml directly, please report this to the maintainers of the package that installed pynvml for you.\n",
      "  import pynvml  # type: ignore[import]\n",
      "/usr/local/lib/python3.10/dist-packages/torch/cuda/__init__.py:63: FutureWarning: The pynvml package is deprecated. Please install nvidia-ml-py instead. If you did not install pynvml directly, please report this to the maintainers of the package that installed pynvml for you.\n",
      "  import pynvml  # type: ignore[import]\n"
     ]
    },
    {
     "name": "stderr",
     "output_type": "stream",
     "text": [
      "W0916 23:23:07.381000 1300806 torch/utils/cpp_extension.py:2425] TORCH_CUDA_ARCH_LIST is not set, all archs for visible cards are included for compilation. \n",
      "W0916 23:23:07.381000 1300806 torch/utils/cpp_extension.py:2425] If this is not desired, please set os.environ['TORCH_CUDA_ARCH_LIST'] to specific architectures.\n"
     ]
    },
    {
     "name": "stderr",
     "output_type": "stream",
     "text": [
      "W0916 23:23:07.862000 1300805 torch/utils/cpp_extension.py:2425] TORCH_CUDA_ARCH_LIST is not set, all archs for visible cards are included for compilation. \n",
      "W0916 23:23:07.862000 1300805 torch/utils/cpp_extension.py:2425] If this is not desired, please set os.environ['TORCH_CUDA_ARCH_LIST'] to specific architectures.\n"
     ]
    },
    {
     "name": "stderr",
     "output_type": "stream",
     "text": [
      "`torch_dtype` is deprecated! Use `dtype` instead!\n",
      "[2025-09-16 23:23:08] `torch_dtype` is deprecated! Use `dtype` instead!\n"
     ]
    },
    {
     "name": "stdout",
     "output_type": "stream",
     "text": [
      "[Gloo] Rank 0 is connected to 0 peer ranks. Expected number of connected peer ranks is : 0\n",
      "[Gloo] Rank 0 is connected to 0 peer ranks. Expected number of connected peer ranks is : 0\n",
      "[Gloo] Rank 0 is connected to 0 peer ranks. Expected number of connected peer ranks is : 0\n",
      "[Gloo] Rank 0 is connected to 0 peer ranks. Expected number of connected peer ranks is : 0\n"
     ]
    },
    {
     "name": "stdout",
     "output_type": "stream",
     "text": [
      "All deep_gemm operations loaded successfully!\n"
     ]
    },
    {
     "name": "stderr",
     "output_type": "stream",
     "text": [
      "\r",
      "Loading safetensors checkpoint shards:   0% Completed | 0/2 [00:00<?, ?it/s]\n"
     ]
    },
    {
     "name": "stderr",
     "output_type": "stream",
     "text": [
      "\r",
      "Loading safetensors checkpoint shards:  50% Completed | 1/2 [00:01<00:01,  1.67s/it]\n"
     ]
    },
    {
     "name": "stderr",
     "output_type": "stream",
     "text": [
      "\r",
      "Loading safetensors checkpoint shards: 100% Completed | 2/2 [00:03<00:00,  1.52s/it]\n",
      "\r",
      "Loading safetensors checkpoint shards: 100% Completed | 2/2 [00:03<00:00,  1.54s/it]\n",
      "\n"
     ]
    },
    {
     "name": "stderr",
     "output_type": "stream",
     "text": [
      "\r",
      "  0%|          | 0/3 [00:00<?, ?it/s]\r",
      "Capturing batches (bs=4 avail_mem=57.73 GB):   0%|          | 0/3 [00:00<?, ?it/s]"
     ]
    },
    {
     "name": "stderr",
     "output_type": "stream",
     "text": [
      "\r",
      "Capturing batches (bs=4 avail_mem=57.73 GB):  33%|███▎      | 1/3 [00:00<00:00,  4.28it/s]\r",
      "Capturing batches (bs=2 avail_mem=57.66 GB):  33%|███▎      | 1/3 [00:00<00:00,  4.28it/s]\r",
      "Capturing batches (bs=1 avail_mem=57.66 GB):  33%|███▎      | 1/3 [00:00<00:00,  4.28it/s]\r",
      "Capturing batches (bs=1 avail_mem=57.66 GB): 100%|██████████| 3/3 [00:00<00:00,  9.86it/s]\n"
     ]
    }
   ],
   "source": [
    "import sglang as sgl\n",
    "\n",
    "llm = sgl.Engine(\n",
    "    model_path=\"deepseek-ai/DeepSeek-R1-Distill-Qwen-7B\",\n",
    "    reasoning_parser=\"deepseek-r1\",\n",
    "    grammar_backend=\"xgrammar\",\n",
    ")"
   ]
  },
  {
   "cell_type": "markdown",
   "metadata": {},
   "source": [
    "### JSON"
   ]
  },
  {
   "cell_type": "markdown",
   "metadata": {},
   "source": [
    "**Using Pydantic**"
   ]
  },
  {
   "cell_type": "code",
   "execution_count": 14,
   "metadata": {
    "execution": {
     "iopub.execute_input": "2025-09-16T23:23:19.052719Z",
     "iopub.status.busy": "2025-09-16T23:23:19.052290Z",
     "iopub.status.idle": "2025-09-16T23:23:22.240299Z",
     "shell.execute_reply": "2025-09-16T23:23:22.239780Z"
    }
   },
   "outputs": [
    {
     "name": "stdout",
     "output_type": "stream",
     "text": [
      "===============================\n",
      "Prompt: Give me the information of the capital of China in the JSON format.\n",
      "Generated text: \n",
      "Sure! Here's the information about the capital of China, Beijing, in JSON format:\n",
      "\n",
      "```json\n",
      "{\n",
      "  \"name\": \"Beijing\",\n",
      "  \"capital\": \"Yes\",\n",
      "  \"population\": \"Over 30 million\",\n",
      "  \"founded\": \"1248\",\n",
      "  \"Nickname\": \"The Heaven on Earth\",\n",
      "  \"Location\": \"Northern China\",\n",
      "  \"OfficialLanguages\": [\n",
      "    \"Mandarin Chinese\",\n",
      "    \"Bingyuan Chinese\",\n",
      "    \"Tibetan\",\n",
      "    \"Hui\",\n",
      "    \"Mongolian\",\n",
      "    \"Yugou\",\n",
      "    \"Tibetan\",\n",
      "    \"Hui\",\n",
      "    \"Mongolian\"\n",
      "  ],\n",
      "  \"KeySights\": [\n",
      "    \"The Great Wall of China\",\n",
      "    \"Forbidden City\",\n",
      "    \"Tiananmen Square\",\n",
      "    \"Beijing Museum\",\n",
      "    \"Yuanmingyuan\"\n",
      "  ],\n",
      "  \"Climate\": \"Temperate\"\n",
      "}\n",
      "```\n",
      "\n",
      "Let me know if you need anything else!\n",
      "===============================\n",
      "Prompt: Give me the information of the capital of France in the JSON format.\n",
      "Generated text: \n",
      "Sure! Here's the information about the capital of France, Paris, in JSON format:\n",
      "\n",
      "```json\n",
      "{\n",
      "  \"name\": \"Paris\",\n",
      "  \"country\": \"France\",\n",
      "  \"coordinates\": {\n",
      "    \"latitude\": 48.8566,\n",
      "    \"longitude\": 2.3522\n",
      "  },\n",
      "  \"founded\": \"1340\",\n",
      "  \"population\": \"9.7 million\",\n",
      "  \"area\": \"105.5 square kilometers\",\n",
      "  \"WX\": {\n",
      "    \"averageTemperature\": \"12°C\",\n",
      "    \"precipitation\": \"540 mm/year\"\n",
      "  },\n",
      "  \"landmarks\": [\n",
      "    {\n",
      "      \"name\": \"Eiffel Tower\",\n",
      "      \"location\": \"City of Light\",\n",
      "      \"height\": \"300 meters\"\n",
      "    },\n",
      "    {\n",
      "      \"name\": \"Notre-Dame Cathedral\",\n",
      "      \"location\": \"Center of Paris\",\n",
      "      \"height\": \"415 meters\"\n",
      "    }\n",
      "  ],\n",
      "  \"Transport\": {\n",
      "    \"publicTransport\": \"Boulevards, trams, and subways\",\n",
      "    \"airport\": \"Paris International Airport\",\n",
      "    \"railway\": \"Le巴黎-Charles de Gaulle\"\n",
      "  }\n",
      "}\n",
      "```\n",
      "\n",
      "Let me know if you need any other information!\n",
      "===============================\n",
      "Prompt: Give me the information of the capital of Ireland in the JSON format.\n",
      "Generated text: \n",
      "Sure, here's the information about the capital of Ireland in JSON format:\n",
      "\n",
      "```json\n",
      "{\n",
      "  \"capital\": \"Dublin\",\n",
      "  \"official_name\": \"Dublin, City of Dublin\",\n",
      "  \"coordinates\": {\n",
      "    \"latitude\": 53.3489,\n",
      "    \"longitude\": -6.5412\n",
      "  },\n",
      "  \"founded\": \"1241\",\n",
      "  \"population\": \"Over 500,000\",\n",
      "  \"area\": \"1,210 km²\",\n",
      "  \"climate\": \" temperate climate with four distinct seasons\",\n",
      "  \"key_landmarks\": [\n",
      "    \"Leaving Certificate\",\n",
      "    \"UCD (University of Dublin)\",\n",
      "    \"Trinity College Dublin\",\n",
      "    \"Dublin City Hall\",\n",
      "    \"GPO (Government House)\"\n",
      "  ],\n",
      "  \"Transportation\": {\n",
      "    \"public_transport\": \"efficient bus and train networks\",\n",
      "    \"road\": \"major highways and a well-developed road network\",\n",
      "    \"airport\": \"Dublin International Airport (DIA)\",\n",
      "    \"public_transport\": \"trams and buses with frequent service\"\n",
      "  }\n",
      "}\n",
      "```\n",
      "\n",
      "Let me know if you need any other details!\n"
     ]
    }
   ],
   "source": [
    "import json\n",
    "from pydantic import BaseModel, Field\n",
    "\n",
    "\n",
    "prompts = [\n",
    "    \"Give me the information of the capital of China in the JSON format.\",\n",
    "    \"Give me the information of the capital of France in the JSON format.\",\n",
    "    \"Give me the information of the capital of Ireland in the JSON format.\",\n",
    "]\n",
    "\n",
    "\n",
    "# Define the schema using Pydantic\n",
    "class CapitalInfo(BaseModel):\n",
    "    name: str = Field(..., pattern=r\"^\\w+$\", description=\"Name of the capital city\")\n",
    "    population: int = Field(..., description=\"Population of the capital city\")\n",
    "\n",
    "\n",
    "sampling_params = {\n",
    "    \"temperature\": 0,\n",
    "    \"top_p\": 0.95,\n",
    "    \"max_new_tokens\": 2048,\n",
    "    \"json_schema\": json.dumps(CapitalInfo.model_json_schema()),\n",
    "}\n",
    "\n",
    "outputs = llm.generate(prompts, sampling_params)\n",
    "for prompt, output in zip(prompts, outputs):\n",
    "    print(\"===============================\")\n",
    "    print(f\"Prompt: {prompt}\\nGenerated text: {output['text']}\")"
   ]
  },
  {
   "cell_type": "markdown",
   "metadata": {},
   "source": [
    "**JSON Schema Directly**"
   ]
  },
  {
   "cell_type": "code",
   "execution_count": 15,
   "metadata": {
    "execution": {
     "iopub.execute_input": "2025-09-16T23:23:22.241891Z",
     "iopub.status.busy": "2025-09-16T23:23:22.241715Z",
     "iopub.status.idle": "2025-09-16T23:23:23.810741Z",
     "shell.execute_reply": "2025-09-16T23:23:23.810234Z"
    }
   },
   "outputs": [
    {
     "name": "stdout",
     "output_type": "stream",
     "text": [
      "===============================\n",
      "Prompt: Give me the information of the capital of China in the JSON format.\n",
      "Generated text: \n",
      "Sure! Here's the information about the capital of China, Beijing, in JSON format:\n",
      "\n",
      "```json\n",
      "{\n",
      "  \"name\": \"Beijing\",\n",
      "  \"capital\": \"Yes\",\n",
      "  \"population\": \"Over 30 million\",\n",
      "  \"founded\": \"1248\",\n",
      "  \"Nickname\": \"The Heaven on Earth\",\n",
      "  \"Location\": \"Northern China\",\n",
      "  \"OfficialLanguages\": [\n",
      "    \"Mandarin Chinese\",\n",
      "    \"Bingyuan Chinese\",\n",
      "    \"Tibetan\",\n",
      "    \"Hui\",\n",
      "    \"Mongolian\",\n",
      "    \"Yugou\",\n",
      "    \"Tibetan\",\n",
      "    \"Hui\",\n",
      "    \"Mongolian\"\n",
      "  ],\n",
      "  \"KeySights\": [\n",
      "    \"The Great Wall of China\",\n",
      "    \"Forbidden City\",\n",
      "    \"Tiananmen Square\",\n",
      "    \"Beijing Museum\",\n",
      "    \"Yuanmingyuan\"\n",
      "  ],\n",
      "  \"Climate\": \"Temperate\"\n",
      "}\n",
      "```\n",
      "\n",
      "Let me know if you need anything else!\n",
      "===============================\n",
      "Prompt: Give me the information of the capital of France in the JSON format.\n",
      "Generated text: \n",
      "Sure! Here's the information about the capital of France, Paris, in JSON format:\n",
      "\n",
      "```json\n",
      "{\n",
      "  \"name\": \"Paris\",\n",
      "  \"country\": \"France\",\n",
      "  \"coordinates\": {\n",
      "    \"latitude\": 48.8566,\n",
      "    \"longitude\": 2.3522\n",
      "  },\n",
      "  \"founded\": \"1340\",\n",
      "  \"population\": \"9.7 million\",\n",
      "  \"area\": \"105.5 square kilometers\",\n",
      "  \"WX\": {\n",
      "    \"averageTemperature\": \"12°C\",\n",
      "    \"precipitation\": \"540 mm/year\"\n",
      "  },\n",
      "  \"landmarks\": [\n",
      "    \"Eiffel Tower\",\n",
      "    \"Notre-Dame Cathedral\",\n",
      "    \"Louvre Museum\",\n",
      "    \"Palace of Versailles\",\n",
      "    \"Le Marais District\"\n",
      "  ],\n",
      "  \"features\": [\n",
      "    \"Seine River\",\n",
      "    \"Eiffel Tower\",\n",
      "    \"Le Grand Parc\",\n",
      "    \"Javel Market\",\n",
      "    \"Château de la Loire\"\n",
      "  ]\n",
      "}\n",
      "```\n",
      "\n",
      "Let me know if you need any other information!\n",
      "===============================\n",
      "Prompt: Give me the information of the capital of Ireland in the JSON format.\n",
      "Generated text: \n",
      "Sure, here's the information about the capital of Ireland in JSON format:\n",
      "\n",
      "```json\n",
      "{\n",
      "  \"capital\": \"Dublin\",\n",
      "  \"official_name\": \"Dublin, City of Dublin\",\n",
      "  \"coordinates\": {\n",
      "    \"latitude\": 53.3489,\n",
      "    \"longitude\": -6.5412\n",
      "  },\n",
      "  \"founded\": \"1241\",\n",
      "  \"population\": \"Over 500,000\",\n",
      "  \"area\": \"1,210 km²\",\n",
      "  \"climate\": \" temperate climate with four distinct seasons\",\n",
      "  \"key_landmarks\": [\n",
      "    \"Leaving Certificate\",\n",
      "    \"UCD (University of Dublin)\",\n",
      "    \"Trinity College Dublin\",\n",
      "    \"Dublin City Hall\",\n",
      "    \"GPO (Government House)\"\n",
      "  ],\n",
      "  \"Transportation\": {\n",
      "    \"public_transport\": \"efficient bus and train networks\",\n",
      "    \"road\": \"major highways and a well-developed road network\",\n",
      "    \"airport\": \"Dublin International Airport (DIA)\",\n",
      "    \"public_transport\": \"trams and buses with frequent service\"\n",
      "  }\n",
      "}\n",
      "```\n",
      "\n",
      "Let me know if you need any other details!\n"
     ]
    }
   ],
   "source": [
    "prompts = [\n",
    "    \"Give me the information of the capital of China in the JSON format.\",\n",
    "    \"Give me the information of the capital of France in the JSON format.\",\n",
    "    \"Give me the information of the capital of Ireland in the JSON format.\",\n",
    "]\n",
    "\n",
    "json_schema = json.dumps(\n",
    "    {\n",
    "        \"type\": \"object\",\n",
    "        \"properties\": {\n",
    "            \"name\": {\"type\": \"string\", \"pattern\": \"^[\\\\w]+$\"},\n",
    "            \"population\": {\"type\": \"integer\"},\n",
    "        },\n",
    "        \"required\": [\"name\", \"population\"],\n",
    "    }\n",
    ")\n",
    "\n",
    "sampling_params = {\"temperature\": 0, \"max_new_tokens\": 2048, \"json_schema\": json_schema}\n",
    "\n",
    "outputs = llm.generate(prompts, sampling_params)\n",
    "for prompt, output in zip(prompts, outputs):\n",
    "    print(\"===============================\")\n",
    "    print(f\"Prompt: {prompt}\\nGenerated text: {output['text']}\")"
   ]
  },
  {
   "cell_type": "markdown",
   "metadata": {},
   "source": [
    "### EBNF\n"
   ]
  },
  {
   "cell_type": "code",
   "execution_count": 16,
   "metadata": {
    "execution": {
     "iopub.execute_input": "2025-09-16T23:23:23.812327Z",
     "iopub.status.busy": "2025-09-16T23:23:23.812157Z",
     "iopub.status.idle": "2025-09-16T23:23:24.645284Z",
     "shell.execute_reply": "2025-09-16T23:23:24.644769Z"
    }
   },
   "outputs": [
    {
     "name": "stdout",
     "output_type": "stream",
     "text": [
      "===============================\n",
      "Prompt: Give me the information of the capital of France.\n",
      "Generated text: \n",
      "The capital of France is Paris.\n",
      "\n",
      "But I need to make sure it's correct.\n",
      "\n",
      "Yes, Paris is the official capital of France, but I should check if there's any recent change.\n",
      "\n",
      "I don't think so. Paris has been the capital since before Napoleon.\n",
      "\n",
      "Right, Paris remains the capital of France.\n",
      "</think>Paris is the capital of France\n",
      "===============================\n",
      "Prompt: Give me the information of the capital of Germany.\n",
      "Generated text: \n",
      "The capital of Germany is Berlin.\n",
      "\n",
      "That's the final answer.\n",
      "\n",
      "**Step-by-Step Explanation**\n",
      "The capital of Germany is Berlin.\n",
      "</think>Berlin is the capital of Germany\n",
      "===============================\n",
      "Prompt: Give me the information of the capital of Italy.\n",
      "Generated text: \n",
      "The capital of Italy is Rome.\n",
      "\n",
      "Rome is the capital of Italy.\n",
      "\n",
      "Okay, so now I need to figure out how to answer the question \"What is the capital of Italy?\" using the given information. The user provided the same information twice, so maybe they want it in a different format or to confirm.\n",
      "\n",
      "Alright, I should present the answer clearly, perhaps in a couple of ways to ensure the user gets the information they need. Maybe one straightforward answer and another way, like adding a bit more detail or an alternative phrasing.\n",
      "\n",
      "Wait, but the user already stated that the capital is Rome, so maybe they just want a\n"
     ]
    }
   ],
   "source": [
    "prompts = [\n",
    "    \"Give me the information of the capital of France.\",\n",
    "    \"Give me the information of the capital of Germany.\",\n",
    "    \"Give me the information of the capital of Italy.\",\n",
    "]\n",
    "\n",
    "sampling_params = {\n",
    "    \"temperature\": 0.8,\n",
    "    \"top_p\": 0.95,\n",
    "    \"ebnf\": (\n",
    "        \"root ::= city | description\\n\"\n",
    "        'city ::= \"London\" | \"Paris\" | \"Berlin\" | \"Rome\"\\n'\n",
    "        'description ::= city \" is \" status\\n'\n",
    "        'status ::= \"the capital of \" country\\n'\n",
    "        'country ::= \"England\" | \"France\" | \"Germany\" | \"Italy\"'\n",
    "    ),\n",
    "}\n",
    "\n",
    "outputs = llm.generate(prompts, sampling_params)\n",
    "for prompt, output in zip(prompts, outputs):\n",
    "    print(\"===============================\")\n",
    "    print(f\"Prompt: {prompt}\\nGenerated text: {output['text']}\")"
   ]
  },
  {
   "cell_type": "markdown",
   "metadata": {},
   "source": [
    "### Regular expression"
   ]
  },
  {
   "cell_type": "code",
   "execution_count": 17,
   "metadata": {
    "execution": {
     "iopub.execute_input": "2025-09-16T23:23:24.646871Z",
     "iopub.status.busy": "2025-09-16T23:23:24.646709Z",
     "iopub.status.idle": "2025-09-16T23:23:25.489155Z",
     "shell.execute_reply": "2025-09-16T23:23:25.488641Z"
    }
   },
   "outputs": [
    {
     "name": "stdout",
     "output_type": "stream",
     "text": [
      "===============================\n",
      "Prompt: Please provide information about London as a major global city:\n",
      "Generated text:  its population, economic status, cultural significance, and environmental status.\n",
      "\n",
      "\n",
      "Sure! Here's a comprehensive overview of London:\n",
      "\n",
      "**Population:**\n",
      "London, the capital city of England and the United Kingdom, is home to an estimated 9,000,000 residents as of 2023. The city proper covers an area of 1,519 square kilometers, but the Greater London Area, which includes commuting zones, has a population exceeding 13 million.\n",
      "\n",
      "**Economic Status:**\n",
      "London is a global financial hub known for its robust economy in finance, banking, and insurance. It's a\n",
      "===============================\n",
      "Prompt: Please provide information about Paris as a major global city:\n",
      "Generated text:  its history, culture, and major landmarks. using at least one source. Include information about the economic and political aspects of Paris. Also, provide an opinion on whether Paris is a desirable place to live based on the given information.\n",
      "\n",
      "**Note:** Please do not copy from the given website link. That link is just an example. So in this case, I need to create a new scenario where I imagine I am another person, and I have to write a response to this query. Imagine that I am a student who is just starting to learn about Paris.\n",
      "\n",
      "Okay, so I need to figure out everything about Paris. Let's start with\n"
     ]
    }
   ],
   "source": [
    "prompts = [\n",
    "    \"Please provide information about London as a major global city:\",\n",
    "    \"Please provide information about Paris as a major global city:\",\n",
    "]\n",
    "\n",
    "sampling_params = {\"temperature\": 0.8, \"top_p\": 0.95, \"regex\": \"(France|England)\"}\n",
    "\n",
    "outputs = llm.generate(prompts, sampling_params)\n",
    "for prompt, output in zip(prompts, outputs):\n",
    "    print(\"===============================\")\n",
    "    print(f\"Prompt: {prompt}\\nGenerated text: {output['text']}\")"
   ]
  },
  {
   "cell_type": "code",
   "execution_count": 18,
   "metadata": {
    "execution": {
     "iopub.execute_input": "2025-09-16T23:23:25.490716Z",
     "iopub.status.busy": "2025-09-16T23:23:25.490549Z",
     "iopub.status.idle": "2025-09-16T23:23:27.562568Z",
     "shell.execute_reply": "2025-09-16T23:23:27.562045Z"
    }
   },
   "outputs": [
    {
     "name": "stdout",
     "output_type": "stream",
     "text": [
      "===============================\n",
      "Prompt: <｜begin▁of▁sentence｜><｜Assistant｜>Give me the information and population of the capital of France in the JSON format.<｜end▁of▁sentence｜><｜Assistant｜><think>\n",
      "\n",
      "Generated text: Okay, so the user is asking for the information and population of the capital of France in JSON format. Let me break this down.\n",
      "\n",
      "First, I need to identify the capital of France. That's easy, it's Paris. Now, they want the population, so I should look up the latest data. I know the population has been increasing, but exact numbers can vary. Let me check a reliable source. According to recent estimates, Paris has a population around 2.1 million people. \n",
      "\n",
      "Now, formatting this in JSON. JSON requires key-value pairs, so I'll structure it with \"capital\" as the key and the details as the value. Under \"capital info,\" I can list Paris as the administrative center and mention the population figure. Including a \"population\" key makes sense for clarity.\n",
      "\n",
      "I should ensure the JSON syntax is correct, with proper commas and brackets. Also, since population figures can change yearly, I'll note that the figure provided is approximate and might need updating. \n",
      "\n",
      "Putting it all together, I'll create a JSON object with the keys \"capital\" and \"population,\" making sure it's well-formatted for the user. I should also offer further assistance in case they need more details or updates on the population numbers.\n",
      "</think>\n",
      "\n",
      "Here is the information and population of the capital of France in JSON format:\n",
      "\n",
      "```json\n",
      "{\n",
      "  \"capital\": {\n",
      "    \"administrative_center\": \"Paris\",\n",
      "    \"population\": \"Approximately 2,100,000 people (as of recent estimates)\"\n",
      "  }\n",
      "}\n",
      "```\n"
     ]
    }
   ],
   "source": [
    "text = tokenizer.apply_chat_template(\n",
    "    messages, tokenize=False, add_generation_prompt=True\n",
    ")\n",
    "prompts = [text]\n",
    "\n",
    "\n",
    "sampling_params = {\n",
    "    \"temperature\": 0.8,\n",
    "    \"top_p\": 0.95,\n",
    "    \"max_new_tokens\": 2048,\n",
    "    \"structural_tag\": json.dumps(\n",
    "        {\n",
    "            \"type\": \"structural_tag\",\n",
    "            \"structures\": [\n",
    "                {\n",
    "                    \"begin\": \"<function=get_current_weather>\",\n",
    "                    \"schema\": schema_get_current_weather,\n",
    "                    \"end\": \"</function>\",\n",
    "                },\n",
    "                {\n",
    "                    \"begin\": \"<function=get_current_date>\",\n",
    "                    \"schema\": schema_get_current_date,\n",
    "                    \"end\": \"</function>\",\n",
    "                },\n",
    "            ],\n",
    "            \"triggers\": [\"<function=\"],\n",
    "        }\n",
    "    ),\n",
    "}\n",
    "\n",
    "\n",
    "# Send POST request to the API endpoint\n",
    "outputs = llm.generate(prompts, sampling_params)\n",
    "for prompt, output in zip(prompts, outputs):\n",
    "    print(\"===============================\")\n",
    "    print(f\"Prompt: {prompt}\\nGenerated text: {output['text']}\")"
   ]
  },
  {
   "cell_type": "code",
   "execution_count": 19,
   "metadata": {
    "execution": {
     "iopub.execute_input": "2025-09-16T23:23:27.564056Z",
     "iopub.status.busy": "2025-09-16T23:23:27.563895Z",
     "iopub.status.idle": "2025-09-16T23:23:27.614315Z",
     "shell.execute_reply": "2025-09-16T23:23:27.613723Z"
    }
   },
   "outputs": [],
   "source": [
    "llm.shutdown()"
   ]
  }
 ],
 "metadata": {
  "language_info": {
   "codemirror_mode": {
    "name": "ipython",
    "version": 3
   },
   "file_extension": ".py",
   "mimetype": "text/x-python",
   "name": "python",
   "nbconvert_exporter": "python",
   "pygments_lexer": "ipython3",
   "version": "3.10.12"
  }
 },
 "nbformat": 4,
 "nbformat_minor": 2
}
