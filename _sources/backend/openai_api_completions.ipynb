{
 "cells": [
  {
   "cell_type": "markdown",
   "metadata": {},
   "source": [
    "# OpenAI APIs - Completions\n",
    "\n",
    "SGLang provides OpenAI-compatible APIs to enable a smooth transition from OpenAI services to self-hosted local models.\n",
    "A complete reference for the API is available in the [OpenAI API Reference](https://platform.openai.com/docs/api-reference).\n",
    "\n",
    "This tutorial covers the following popular APIs:\n",
    "\n",
    "- `chat/completions`\n",
    "- `completions`\n",
    "- `batches`\n",
    "\n",
    "Check out other tutorials to learn about [vision APIs](https://docs.sglang.ai/backend/openai_api_vision.html) for vision-language models and [embedding APIs](https://docs.sglang.ai/backend/openai_api_embeddings.html) for embedding models."
   ]
  },
  {
   "cell_type": "markdown",
   "metadata": {},
   "source": [
    "## Launch A Server\n",
    "\n",
    "Launch the server in your terminal and wait for it to initialize."
   ]
  },
  {
   "cell_type": "code",
   "execution_count": 1,
   "metadata": {
    "execution": {
     "iopub.execute_input": "2025-05-04T16:54:10.956326Z",
     "iopub.status.busy": "2025-05-04T16:54:10.956114Z",
     "iopub.status.idle": "2025-05-04T16:54:47.211521Z",
     "shell.execute_reply": "2025-05-04T16:54:47.210889Z"
    }
   },
   "outputs": [
    {
     "name": "stdout",
     "output_type": "stream",
     "text": [
      "[2025-05-04 16:54:28] server_args=ServerArgs(model_path='qwen/qwen2.5-0.5b-instruct', tokenizer_path='qwen/qwen2.5-0.5b-instruct', tokenizer_mode='auto', skip_tokenizer_init=False, enable_tokenizer_batch_encode=False, load_format='auto', trust_remote_code=False, dtype='auto', kv_cache_dtype='auto', quantization=None, quantization_param_path=None, context_length=None, device='cuda', served_model_name='qwen/qwen2.5-0.5b-instruct', chat_template=None, completion_template=None, is_embedding=False, revision=None, host='0.0.0.0', port=39430, mem_fraction_static=0.8, max_running_requests=200, max_total_tokens=20480, chunked_prefill_size=8192, max_prefill_tokens=16384, schedule_policy='fcfs', schedule_conservativeness=1.0, cpu_offload_gb=0, page_size=1, tp_size=1, pp_size=1, max_micro_batch_size=None, stream_interval=1, stream_output=False, random_seed=496452866, constrained_json_whitespace_pattern=None, watchdog_timeout=300, dist_timeout=None, download_dir=None, base_gpu_id=0, gpu_id_step=1, log_level='info', log_level_http=None, log_requests=False, log_requests_level=0, show_time_cost=False, enable_metrics=False, decode_log_interval=40, api_key=None, file_storage_path='sglang_storage', enable_cache_report=False, reasoning_parser=None, dp_size=1, load_balance_method='round_robin', ep_size=1, dist_init_addr=None, nnodes=1, node_rank=0, json_model_override_args='{}', lora_paths=None, max_loras_per_batch=8, lora_backend='triton', attention_backend=None, sampling_backend='flashinfer', grammar_backend='xgrammar', speculative_algorithm=None, speculative_draft_model_path=None, speculative_num_steps=None, speculative_eagle_topk=None, speculative_num_draft_tokens=None, speculative_accept_threshold_single=1.0, speculative_accept_threshold_acc=1.0, speculative_token_map=None, enable_double_sparsity=False, ds_channel_config_path=None, ds_heavy_channel_num=32, ds_heavy_token_num=256, ds_heavy_channel_type='qk', ds_sparse_decode_threshold=4096, disable_radix_cache=False, disable_cuda_graph=True, disable_cuda_graph_padding=False, enable_nccl_nvls=False, disable_outlines_disk_cache=False, disable_custom_all_reduce=False, enable_multimodal=None, disable_overlap_schedule=False, enable_mixed_chunk=False, enable_dp_attention=False, enable_ep_moe=False, enable_deepep_moe=False, deepep_mode='auto', enable_torch_compile=False, torch_compile_max_bs=32, cuda_graph_max_bs=None, cuda_graph_bs=None, torchao_config='', enable_nan_detection=False, enable_p2p_check=False, triton_attention_reduce_in_fp32=False, triton_attention_num_kv_splits=8, num_continuous_decode_steps=1, delete_ckpt_after_loading=False, enable_memory_saver=False, allow_auto_truncate=False, enable_custom_logit_processor=False, tool_call_parser=None, enable_hierarchical_cache=False, hicache_ratio=2.0, hicache_size=0, hicache_write_policy='write_through_selective', flashinfer_mla_disable_ragged=False, warmups=None, moe_dense_tp_size=None, n_share_experts_fusion=0, disable_chunked_prefix_cache=False, disable_fast_image_processor=False, debug_tensor_dump_output_folder=None, debug_tensor_dump_input_file=None, debug_tensor_dump_inject=False, disaggregation_mode='null', disaggregation_bootstrap_port=8998, disaggregation_transfer_backend='mooncake', disaggregation_ib_device=None)\n"
     ]
    },
    {
     "name": "stdout",
     "output_type": "stream",
     "text": [
      "[2025-05-04 16:54:39] Attention backend not set. Use fa3 backend by default.\n",
      "[2025-05-04 16:54:39] Init torch distributed begin.\n",
      "[2025-05-04 16:54:39] Init torch distributed ends. mem usage=0.00 GB\n",
      "[2025-05-04 16:54:39] Load weight begin. avail mem=60.58 GB\n"
     ]
    },
    {
     "name": "stdout",
     "output_type": "stream",
     "text": [
      "[2025-05-04 16:54:39] Ignore import error when loading sglang.srt.models.llama4. \n"
     ]
    },
    {
     "name": "stdout",
     "output_type": "stream",
     "text": [
      "[2025-05-04 16:54:39] Using model weights format ['*.safetensors']\n"
     ]
    },
    {
     "name": "stdout",
     "output_type": "stream",
     "text": [
      "[2025-05-04 16:54:40] No model.safetensors.index.json found in remote.\n",
      "\r",
      "Loading safetensors checkpoint shards:   0% Completed | 0/1 [00:00<?, ?it/s]\n",
      "\r",
      "Loading safetensors checkpoint shards: 100% Completed | 1/1 [00:00<00:00,  5.14it/s]\n",
      "\r",
      "Loading safetensors checkpoint shards: 100% Completed | 1/1 [00:00<00:00,  5.14it/s]\n",
      "\n"
     ]
    },
    {
     "name": "stdout",
     "output_type": "stream",
     "text": [
      "[2025-05-04 16:54:40] Load weight end. type=Qwen2ForCausalLM, dtype=torch.bfloat16, avail mem=59.52 GB, mem usage=1.06 GB.\n"
     ]
    },
    {
     "name": "stdout",
     "output_type": "stream",
     "text": [
      "[2025-05-04 16:54:40] KV Cache is allocated. #tokens: 20480, K size: 0.12 GB, V size: 0.12 GB\n",
      "[2025-05-04 16:54:40] Memory pool end. avail mem=59.11 GB\n"
     ]
    },
    {
     "name": "stdout",
     "output_type": "stream",
     "text": [
      "[2025-05-04 16:54:40] max_total_num_tokens=20480, chunked_prefill_size=8192, max_prefill_tokens=16384, max_running_requests=200, context_len=32768\n"
     ]
    },
    {
     "name": "stdout",
     "output_type": "stream",
     "text": [
      "[2025-05-04 16:54:41] INFO:     Started server process [2640598]\n",
      "[2025-05-04 16:54:41] INFO:     Waiting for application startup.\n",
      "[2025-05-04 16:54:41] INFO:     Application startup complete.\n",
      "[2025-05-04 16:54:41] INFO:     Uvicorn running on http://0.0.0.0:39430 (Press CTRL+C to quit)\n"
     ]
    },
    {
     "name": "stdout",
     "output_type": "stream",
     "text": [
      "[2025-05-04 16:54:42] INFO:     127.0.0.1:60198 - \"GET /v1/models HTTP/1.1\" 200 OK\n"
     ]
    },
    {
     "name": "stdout",
     "output_type": "stream",
     "text": [
      "[2025-05-04 16:54:42] INFO:     127.0.0.1:60208 - \"GET /get_model_info HTTP/1.1\" 200 OK\n",
      "[2025-05-04 16:54:42] Prefill batch. #new-seq: 1, #new-token: 6, #cached-token: 0, token usage: 0.00, #running-req: 0, #queue-req: 0\n"
     ]
    },
    {
     "name": "stdout",
     "output_type": "stream",
     "text": [
      "[2025-05-04 16:54:45] INFO:     127.0.0.1:60224 - \"POST /generate HTTP/1.1\" 200 OK\n",
      "[2025-05-04 16:54:45] The server is fired up and ready to roll!\n"
     ]
    },
    {
     "data": {
      "text/html": [
       "<strong style='color: #00008B;'><br><br>                    NOTE: Typically, the server runs in a separate terminal.<br>                    In this notebook, we run the server and notebook code together, so their outputs are combined.<br>                    To improve clarity, the server logs are displayed in the original black color, while the notebook outputs are highlighted in blue.<br>                    We are running those notebooks in a CI parallel environment, so the throughput is not representative of the actual performance.<br>                    </strong>"
      ],
      "text/plain": [
       "<IPython.core.display.HTML object>"
      ]
     },
     "metadata": {},
     "output_type": "display_data"
    },
    {
     "name": "stdout",
     "output_type": "stream",
     "text": [
      "Server started on http://localhost:39430\n"
     ]
    }
   ],
   "source": [
    "from sglang.test.test_utils import is_in_ci\n",
    "\n",
    "if is_in_ci():\n",
    "    from patch import launch_server_cmd\n",
    "else:\n",
    "    from sglang.utils import launch_server_cmd\n",
    "\n",
    "from sglang.utils import wait_for_server, print_highlight, terminate_process\n",
    "\n",
    "\n",
    "server_process, port = launch_server_cmd(\n",
    "    \"python3 -m sglang.launch_server --model-path qwen/qwen2.5-0.5b-instruct --host 0.0.0.0 --mem-fraction-static 0.8\"\n",
    ")\n",
    "\n",
    "wait_for_server(f\"http://localhost:{port}\")\n",
    "print(f\"Server started on http://localhost:{port}\")"
   ]
  },
  {
   "cell_type": "markdown",
   "metadata": {},
   "source": [
    "## Chat Completions\n",
    "\n",
    "### Usage\n",
    "\n",
    "The server fully implements the OpenAI API.\n",
    "It will automatically apply the chat template specified in the Hugging Face tokenizer, if one is available.\n",
    "You can also specify a custom chat template with `--chat-template` when launching the server."
   ]
  },
  {
   "cell_type": "code",
   "execution_count": 2,
   "metadata": {
    "execution": {
     "iopub.execute_input": "2025-05-04T16:54:47.213890Z",
     "iopub.status.busy": "2025-05-04T16:54:47.213155Z",
     "iopub.status.idle": "2025-05-04T16:54:47.600267Z",
     "shell.execute_reply": "2025-05-04T16:54:47.599844Z"
    }
   },
   "outputs": [
    {
     "name": "stdout",
     "output_type": "stream",
     "text": [
      "[2025-05-04 16:54:47] Prefill batch. #new-seq: 1, #new-token: 37, #cached-token: 0, token usage: 0.00, #running-req: 0, #queue-req: 0\n"
     ]
    },
    {
     "name": "stdout",
     "output_type": "stream",
     "text": [
      "[2025-05-04 16:54:47] Decode batch. #running-req: 1, #token: 70, token usage: 0.00, gen throughput (token/s): 6.11, #queue-req: 0\n",
      "[2025-05-04 16:54:47] INFO:     127.0.0.1:60228 - \"POST /v1/chat/completions HTTP/1.1\" 200 OK\n"
     ]
    },
    {
     "data": {
      "text/html": [
       "<strong style='color: #00008B;'>Response: ChatCompletion(id='dba04b54e0744fa2a649af13c5c2c8dd', choices=[Choice(finish_reason='stop', index=0, logprobs=None, message=ChatCompletionMessage(content='Sure, here are three countries and their respective capitals:\\n\\n1. **United States** - Washington, D.C.\\n2. **Canada** - Ottawa\\n3. **Australia** - Canberra', refusal=None, role='assistant', annotations=None, audio=None, function_call=None, tool_calls=None, reasoning_content=None), matched_stop=151645)], created=1746377687, model='qwen/qwen2.5-0.5b-instruct', object='chat.completion', service_tier=None, system_fingerprint=None, usage=CompletionUsage(completion_tokens=39, prompt_tokens=37, total_tokens=76, completion_tokens_details=None, prompt_tokens_details=None))</strong>"
      ],
      "text/plain": [
       "<IPython.core.display.HTML object>"
      ]
     },
     "metadata": {},
     "output_type": "display_data"
    }
   ],
   "source": [
    "import openai\n",
    "\n",
    "client = openai.Client(base_url=f\"http://127.0.0.1:{port}/v1\", api_key=\"None\")\n",
    "\n",
    "response = client.chat.completions.create(\n",
    "    model=\"qwen/qwen2.5-0.5b-instruct\",\n",
    "    messages=[\n",
    "        {\"role\": \"user\", \"content\": \"List 3 countries and their capitals.\"},\n",
    "    ],\n",
    "    temperature=0,\n",
    "    max_tokens=64,\n",
    ")\n",
    "\n",
    "print_highlight(f\"Response: {response}\")"
   ]
  },
  {
   "cell_type": "markdown",
   "metadata": {},
   "source": [
    "### Parameters\n",
    "\n",
    "The chat completions API accepts OpenAI Chat Completions API's parameters. Refer to [OpenAI Chat Completions API](https://platform.openai.com/docs/api-reference/chat/create) for more details.\n",
    "\n",
    "Here is an example of a detailed chat completion request:"
   ]
  },
  {
   "cell_type": "code",
   "execution_count": 3,
   "metadata": {
    "execution": {
     "iopub.execute_input": "2025-05-04T16:54:47.601845Z",
     "iopub.status.busy": "2025-05-04T16:54:47.601641Z",
     "iopub.status.idle": "2025-05-04T16:54:48.597056Z",
     "shell.execute_reply": "2025-05-04T16:54:48.596473Z"
    }
   },
   "outputs": [
    {
     "name": "stdout",
     "output_type": "stream",
     "text": [
      "[2025-05-04 16:54:47] Prefill batch. #new-seq: 1, #new-token: 49, #cached-token: 5, token usage: 0.00, #running-req: 0, #queue-req: 0\n"
     ]
    },
    {
     "name": "stdout",
     "output_type": "stream",
     "text": [
      "[2025-05-04 16:54:47] Decode batch. #running-req: 1, #token: 88, token usage: 0.00, gen throughput (token/s): 114.78, #queue-req: 0\n"
     ]
    },
    {
     "name": "stdout",
     "output_type": "stream",
     "text": [
      "[2025-05-04 16:54:48] Decode batch. #running-req: 1, #token: 128, token usage: 0.01, gen throughput (token/s): 135.44, #queue-req: 0\n"
     ]
    },
    {
     "name": "stdout",
     "output_type": "stream",
     "text": [
      "[2025-05-04 16:54:48] Decode batch. #running-req: 1, #token: 168, token usage: 0.01, gen throughput (token/s): 135.09, #queue-req: 0\n",
      "[2025-05-04 16:54:48] INFO:     127.0.0.1:60228 - \"POST /v1/chat/completions HTTP/1.1\" 200 OK\n"
     ]
    },
    {
     "data": {
      "text/html": [
       "<strong style='color: #00008B;'>Ancient Rome was a major civilization that thrived from the 8th century BCE to the 5th century CE. It was known for its extensive network of roads, which facilitated trade and communication across the empire. The Romans were skilled in engineering, particularly in construction of aqueducts and roads, which were essential for their expansion and defense.<br><br>In terms of art and architecture, Rome was renowned for its grand temples and public works such as the Colosseum, which was built to accommodate gladiatorial contests and other public spectacles. The city's architecture also included the famous Pantheon, which served as a temple to Jupiter</strong>"
      ],
      "text/plain": [
       "<IPython.core.display.HTML object>"
      ]
     },
     "metadata": {},
     "output_type": "display_data"
    }
   ],
   "source": [
    "response = client.chat.completions.create(\n",
    "    model=\"qwen/qwen2.5-0.5b-instruct\",\n",
    "    messages=[\n",
    "        {\n",
    "            \"role\": \"system\",\n",
    "            \"content\": \"You are a knowledgeable historian who provides concise responses.\",\n",
    "        },\n",
    "        {\"role\": \"user\", \"content\": \"Tell me about ancient Rome\"},\n",
    "        {\n",
    "            \"role\": \"assistant\",\n",
    "            \"content\": \"Ancient Rome was a civilization centered in Italy.\",\n",
    "        },\n",
    "        {\"role\": \"user\", \"content\": \"What were their major achievements?\"},\n",
    "    ],\n",
    "    temperature=0.3,  # Lower temperature for more focused responses\n",
    "    max_tokens=128,  # Reasonable length for a concise response\n",
    "    top_p=0.95,  # Slightly higher for better fluency\n",
    "    presence_penalty=0.2,  # Mild penalty to avoid repetition\n",
    "    frequency_penalty=0.2,  # Mild penalty for more natural language\n",
    "    n=1,  # Single response is usually more stable\n",
    "    seed=42,  # Keep for reproducibility\n",
    ")\n",
    "\n",
    "print_highlight(response.choices[0].message.content)"
   ]
  },
  {
   "cell_type": "markdown",
   "metadata": {},
   "source": [
    "Streaming mode is also supported."
   ]
  },
  {
   "cell_type": "code",
   "execution_count": 4,
   "metadata": {
    "execution": {
     "iopub.execute_input": "2025-05-04T16:54:48.598973Z",
     "iopub.status.busy": "2025-05-04T16:54:48.598694Z",
     "iopub.status.idle": "2025-05-04T16:57:27.321147Z",
     "shell.execute_reply": "2025-05-04T16:57:27.320306Z"
    }
   },
   "outputs": [
    {
     "name": "stdout",
     "output_type": "stream",
     "text": [
      "[2025-05-04 16:54:48] INFO:     127.0.0.1:60228 - \"POST /v1/chat/completions HTTP/1.1\" 200 OK\n",
      "[2025-05-04 16:54:48] Prefill batch. #new-seq: 1, #new-token: 10, #cached-token: 24, token usage: 0.00, #running-req: 0, #queue-req: 0\n",
      "Yes, \"test\" is a common phrase used"
     ]
    },
    {
     "name": "stdout",
     "output_type": "stream",
     "text": [
      " in various contexts, including but not limited to:\n",
      "- Product testing\n",
      "-"
     ]
    },
    {
     "name": "stdout",
     "output_type": "stream",
     "text": [
      "[2025-05-04 16:54:48] Decode batch. #running-req: 1, #token: 60, token usage: 0.00, gen throughput (token/s): 124.40, #queue-req: 0\n",
      " Technical testing\n",
      "- Quality assurance testing\n",
      "- Software testing\n",
      "-"
     ]
    },
    {
     "name": "stdout",
     "output_type": "stream",
     "text": [
      " Quality control\n",
      "- User testing\n",
      "- Compliance testing\n",
      "- Contract testing\n"
     ]
    },
    {
     "name": "stdout",
     "output_type": "stream",
     "text": [
      "- Marketing testing\n",
      "- Development testing\n",
      "- Quality assurance testing[2025-05-04 16:54:49] Decode batch. #running-req: 1, #token: 100, token usage: 0.00, gen throughput (token/s): 134.84, #queue-req: 0\n",
      "\n"
     ]
    },
    {
     "name": "stdout",
     "output_type": "stream",
     "text": [
      "- Compliance testing\n",
      "- Quality control\n",
      "- User testing\n",
      "- Compliance testing"
     ]
    },
    {
     "name": "stdout",
     "output_type": "stream",
     "text": [
      "\n",
      "- Quality assurance testing\n",
      "- Compliance testing\n",
      "- Quality control"
     ]
    },
    {
     "name": "stdout",
     "output_type": "stream",
     "text": [
      "\n",
      "- User testing\n",
      "- Compliance testing\n",
      "- Quality[2025-05-04 16:54:49] Decode batch. #running-req: 1, #token: 140, token usage: 0.01, gen throughput (token/s): 134.07, #queue-req: 0\n",
      " assurance testing\n",
      "-"
     ]
    },
    {
     "name": "stdout",
     "output_type": "stream",
     "text": [
      " Compliance testing\n",
      "- Quality control\n",
      "- User testing\n",
      "-"
     ]
    },
    {
     "name": "stdout",
     "output_type": "stream",
     "text": [
      " Compliance testing\n",
      "- Quality assurance testing\n",
      "- Compliance testing\n",
      "- Quality control\n"
     ]
    },
    {
     "name": "stdout",
     "output_type": "stream",
     "text": [
      "- User testing\n",
      "- Compliance testing\n",
      "[2025-05-04 16:54:49] Decode batch. #running-req: 1, #token: 180, token usage: 0.01, gen throughput (token/s): 134.47, #queue-req: 0\n",
      "- Quality assurance testing"
     ]
    },
    {
     "name": "stdout",
     "output_type": "stream",
     "text": [
      "\n",
      "- Compliance testing\n",
      "- Quality control\n",
      "- User testing\n",
      "- Compliance testing"
     ]
    },
    {
     "name": "stdout",
     "output_type": "stream",
     "text": [
      "\n",
      "- Quality assurance testing\n",
      "- Compliance testing\n",
      "- Quality"
     ]
    },
    {
     "name": "stdout",
     "output_type": "stream",
     "text": [
      " control\n",
      "- User testing\n",
      "- Compliance[2025-05-04 16:54:49] Decode batch. #running-req: 1, #token: 220, token usage: 0.01, gen throughput (token/s): 135.19, #queue-req: 0\n",
      " testing\n",
      "- Quality assurance testing\n",
      "-"
     ]
    },
    {
     "name": "stdout",
     "output_type": "stream",
     "text": [
      " Compliance testing\n",
      "- Quality control\n",
      "- User testing\n",
      "-"
     ]
    },
    {
     "name": "stdout",
     "output_type": "stream",
     "text": [
      " Compliance testing\n",
      "- Quality assurance testing\n",
      "- Compliance testing\n",
      "- Quality control\n"
     ]
    },
    {
     "name": "stdout",
     "output_type": "stream",
     "text": [
      "- User testing\n",
      "[2025-05-04 16:54:50] Decode batch. #running-req: 1, #token: 260, token usage: 0.01, gen throughput (token/s): 135.48, #queue-req: 0\n",
      "- Compliance testing\n",
      "- Quality assurance testing"
     ]
    },
    {
     "name": "stdout",
     "output_type": "stream",
     "text": [
      "\n",
      "- Compliance testing\n",
      "- Quality control\n",
      "- User testing\n",
      "- Compliance testing"
     ]
    },
    {
     "name": "stdout",
     "output_type": "stream",
     "text": [
      "\n",
      "- Quality assurance testing\n",
      "- Compliance testing\n",
      "- Quality"
     ]
    },
    {
     "name": "stdout",
     "output_type": "stream",
     "text": [
      " control\n",
      "- User[2025-05-04 16:54:50] Decode batch. #running-req: 1, #token: 300, token usage: 0.01, gen throughput (token/s): 135.14, #queue-req: 0\n",
      " testing\n",
      "- Compliance testing\n",
      "- Quality assurance testing\n"
     ]
    },
    {
     "name": "stdout",
     "output_type": "stream",
     "text": [
      "- Compliance testing\n",
      "- Quality control\n",
      "- User testing\n"
     ]
    },
    {
     "name": "stdout",
     "output_type": "stream",
     "text": [
      "- Compliance testing\n",
      "- Quality assurance testing\n",
      "- Compliance testing\n",
      "-"
     ]
    },
    {
     "name": "stdout",
     "output_type": "stream",
     "text": [
      " Quality control\n",
      "[2025-05-04 16:54:50] Decode batch. #running-req: 1, #token: 340, token usage: 0.02, gen throughput (token/s): 129.21, #queue-req: 0\n",
      "- User testing\n",
      "- Compliance testing\n"
     ]
    },
    {
     "name": "stdout",
     "output_type": "stream",
     "text": [
      "- Quality assurance testing\n",
      "- Compliance testing\n",
      "- Quality control\n",
      "- User"
     ]
    },
    {
     "name": "stdout",
     "output_type": "stream",
     "text": [
      " testing\n",
      "- Compliance testing\n",
      "- Quality assurance testing\n",
      "- Compliance"
     ]
    },
    {
     "name": "stdout",
     "output_type": "stream",
     "text": [
      " testing\n",
      "- Quality[2025-05-04 16:54:51] Decode batch. #running-req: 1, #token: 380, token usage: 0.02, gen throughput (token/s): 132.04, #queue-req: 0\n",
      " control\n",
      "- User testing\n",
      "- Compliance testing\n",
      "-"
     ]
    },
    {
     "name": "stdout",
     "output_type": "stream",
     "text": [
      " Quality assurance testing\n",
      "- Compliance testing\n",
      "- Quality control\n",
      "-"
     ]
    },
    {
     "name": "stdout",
     "output_type": "stream",
     "text": [
      " User testing\n",
      "- Compliance testing\n",
      "- Quality assurance testing\n",
      "- Compliance testing"
     ]
    },
    {
     "name": "stdout",
     "output_type": "stream",
     "text": [
      "\n",
      "[2025-05-04 16:54:51] Decode batch. #running-req: 1, #token: 420, token usage: 0.02, gen throughput (token/s): 136.20, #queue-req: 0\n",
      "- Quality control\n",
      "- User testing\n",
      "- Compliance testing\n"
     ]
    },
    {
     "name": "stdout",
     "output_type": "stream",
     "text": [
      "- Quality assurance testing\n",
      "- Compliance testing\n",
      "- Quality control\n",
      "-"
     ]
    },
    {
     "name": "stdout",
     "output_type": "stream",
     "text": [
      " User testing\n",
      "- Compliance testing\n",
      "- Quality assurance testing\n",
      "-"
     ]
    },
    {
     "name": "stdout",
     "output_type": "stream",
     "text": [
      " Compliance[2025-05-04 16:54:51] Decode batch. #running-req: 1, #token: 460, token usage: 0.02, gen throughput (token/s): 133.95, #queue-req: 0\n",
      " testing\n",
      "- Quality control\n",
      "- User testing\n",
      "- Compliance testing\n"
     ]
    },
    {
     "name": "stdout",
     "output_type": "stream",
     "text": [
      "- Quality assurance testing\n",
      "- Compliance testing\n",
      "- Quality control\n"
     ]
    },
    {
     "name": "stdout",
     "output_type": "stream",
     "text": [
      "- User testing\n",
      "- Compliance testing\n",
      "- Quality assurance testing\n",
      "[2025-05-04 16:54:52] Decode batch. #running-req: 1, #token: 500, token usage: 0.02, gen throughput (token/s): 136.00, #queue-req: 0\n",
      "- Compliance"
     ]
    },
    {
     "name": "stdout",
     "output_type": "stream",
     "text": [
      " testing\n",
      "- Quality control\n",
      "- User testing\n",
      "- Compliance testing"
     ]
    },
    {
     "name": "stdout",
     "output_type": "stream",
     "text": [
      "\n",
      "- Quality assurance testing\n",
      "- Compliance testing\n",
      "- Quality control\n",
      "-"
     ]
    },
    {
     "name": "stdout",
     "output_type": "stream",
     "text": [
      " User testing\n",
      "- Compliance testing\n",
      "- Quality assurance[2025-05-04 16:54:52] Decode batch. #running-req: 1, #token: 540, token usage: 0.03, gen throughput (token/s): 135.52, #queue-req: 0\n",
      " testing\n",
      "-"
     ]
    },
    {
     "name": "stdout",
     "output_type": "stream",
     "text": [
      " Compliance testing\n",
      "- Quality control\n",
      "- User testing\n",
      "- Compliance testing"
     ]
    },
    {
     "name": "stdout",
     "output_type": "stream",
     "text": [
      "\n",
      "- Quality assurance testing\n",
      "- Compliance testing\n",
      "- Quality control"
     ]
    },
    {
     "name": "stdout",
     "output_type": "stream",
     "text": [
      "\n",
      "- User testing\n",
      "- Compliance testing\n",
      "-[2025-05-04 16:54:52] Decode batch. #running-req: 1, #token: 580, token usage: 0.03, gen throughput (token/s): 133.05, #queue-req: 0\n",
      " Quality assurance testing\n"
     ]
    },
    {
     "name": "stdout",
     "output_type": "stream",
     "text": [
      "- Compliance testing\n",
      "- Quality control\n",
      "- User testing\n",
      "-"
     ]
    },
    {
     "name": "stdout",
     "output_type": "stream",
     "text": [
      " Compliance testing\n",
      "- Quality assurance testing\n",
      "- Compliance testing\n",
      "- Quality control"
     ]
    },
    {
     "name": "stdout",
     "output_type": "stream",
     "text": [
      "\n",
      "- User testing\n",
      "- Compliance testing[2025-05-04 16:54:52] Decode batch. #running-req: 1, #token: 620, token usage: 0.03, gen throughput (token/s): 133.95, #queue-req: 0\n",
      "\n",
      "- Quality assurance"
     ]
    },
    {
     "name": "stdout",
     "output_type": "stream",
     "text": [
      " testing\n",
      "- Compliance testing\n",
      "- Quality control\n",
      "- User testing\n",
      "- Compliance"
     ]
    },
    {
     "name": "stdout",
     "output_type": "stream",
     "text": [
      " testing\n",
      "- Quality assurance testing\n",
      "- Compliance testing\n",
      "-"
     ]
    },
    {
     "name": "stdout",
     "output_type": "stream",
     "text": [
      " Quality control\n",
      "- User testing\n",
      "-[2025-05-04 16:54:53] Decode batch. #running-req: 1, #token: 660, token usage: 0.03, gen throughput (token/s): 135.12, #queue-req: 0\n",
      " Compliance testing\n",
      "- Quality assurance testing\n"
     ]
    },
    {
     "name": "stdout",
     "output_type": "stream",
     "text": [
      "- Compliance testing\n",
      "- Quality control\n",
      "- User testing\n"
     ]
    },
    {
     "name": "stdout",
     "output_type": "stream",
     "text": [
      "- Compliance testing\n",
      "- Quality assurance testing\n",
      "- Compliance testing\n",
      "- Quality control"
     ]
    },
    {
     "name": "stdout",
     "output_type": "stream",
     "text": [
      "\n",
      "- User testing[2025-05-04 16:54:53] Decode batch. #running-req: 1, #token: 700, token usage: 0.03, gen throughput (token/s): 137.46, #queue-req: 0\n",
      "\n",
      "- Compliance testing\n",
      "- Quality assurance"
     ]
    },
    {
     "name": "stdout",
     "output_type": "stream",
     "text": [
      " testing\n",
      "- Compliance testing\n",
      "- Quality control\n",
      "- User testing\n",
      "- Compliance"
     ]
    },
    {
     "name": "stdout",
     "output_type": "stream",
     "text": [
      " testing\n",
      "- Quality assurance testing\n",
      "- Compliance testing\n",
      "-"
     ]
    },
    {
     "name": "stdout",
     "output_type": "stream",
     "text": [
      " Quality control\n",
      "-[2025-05-04 16:54:53] Decode batch. #running-req: 1, #token: 740, token usage: 0.04, gen throughput (token/s): 137.10, #queue-req: 0\n",
      " User testing\n",
      "- Compliance testing\n",
      "- Quality assurance testing\n"
     ]
    },
    {
     "name": "stdout",
     "output_type": "stream",
     "text": [
      "- Compliance testing\n",
      "- Quality control\n",
      "- User testing\n"
     ]
    },
    {
     "name": "stdout",
     "output_type": "stream",
     "text": [
      "- Compliance testing\n",
      "- Quality assurance testing\n",
      "-"
     ]
    },
    {
     "name": "stdout",
     "output_type": "stream",
     "text": [
      " Compliance testing\n",
      "- Quality control[2025-05-04 16:54:54] Decode batch. #running-req: 1, #token: 780, token usage: 0.04, gen throughput (token/s): 117.58, #queue-req: 0\n",
      "\n",
      "- User testing\n"
     ]
    },
    {
     "name": "stdout",
     "output_type": "stream",
     "text": [
      "- Compliance testing\n",
      "- Quality assurance testing\n",
      "- Compliance testing\n",
      "- Quality control"
     ]
    },
    {
     "name": "stdout",
     "output_type": "stream",
     "text": [
      "\n",
      "- User testing\n",
      "- Compliance testing\n",
      "- Quality"
     ]
    },
    {
     "name": "stdout",
     "output_type": "stream",
     "text": [
      " assurance testing\n",
      "- Compliance testing\n",
      "-[2025-05-04 16:54:54] Decode batch. #running-req: 1, #token: 820, token usage: 0.04, gen throughput (token/s): 133.39, #queue-req: 0\n",
      " Quality control\n",
      "- User testing\n",
      "-"
     ]
    },
    {
     "name": "stdout",
     "output_type": "stream",
     "text": [
      " Compliance testing\n",
      "- Quality assurance testing\n",
      "- Compliance testing"
     ]
    },
    {
     "name": "stdout",
     "output_type": "stream",
     "text": [
      "\n",
      "- Quality control\n",
      "- User testing\n",
      "- Compliance testing\n",
      "- Quality"
     ]
    },
    {
     "name": "stdout",
     "output_type": "stream",
     "text": [
      " assurance testing\n",
      "- Compliance testing[2025-05-04 16:54:54] Decode batch. #running-req: 1, #token: 860, token usage: 0.04, gen throughput (token/s): 123.36, #queue-req: 0\n",
      "\n",
      "- Quality"
     ]
    },
    {
     "name": "stdout",
     "output_type": "stream",
     "text": [
      " control\n",
      "- User testing\n",
      "- Compliance testing\n",
      "- Quality assurance testing\n",
      "- Compliance"
     ]
    },
    {
     "name": "stdout",
     "output_type": "stream",
     "text": [
      " testing\n",
      "- Quality control\n",
      "- User testing\n"
     ]
    },
    {
     "name": "stdout",
     "output_type": "stream",
     "text": [
      "- Compliance testing\n",
      "- Quality assurance testing\n",
      "-[2025-05-04 16:54:55] Decode batch. #running-req: 1, #token: 900, token usage: 0.04, gen throughput (token/s): 132.57, #queue-req: 0\n",
      " Compliance testing\n",
      "- Quality control\n"
     ]
    },
    {
     "name": "stdout",
     "output_type": "stream",
     "text": [
      "- User testing\n",
      "- Compliance testing\n",
      "- Quality"
     ]
    },
    {
     "name": "stdout",
     "output_type": "stream",
     "text": [
      " assurance testing\n",
      "- Compliance testing\n",
      "- Quality control\n",
      "- User testing\n",
      "- Compliance"
     ]
    },
    {
     "name": "stdout",
     "output_type": "stream",
     "text": [
      " testing\n",
      "- Quality assurance testing[2025-05-04 16:54:55] Decode batch. #running-req: 1, #token: 940, token usage: 0.05, gen throughput (token/s): 133.27, #queue-req: 0\n",
      "\n",
      "- Compliance testing"
     ]
    },
    {
     "name": "stdout",
     "output_type": "stream",
     "text": [
      "\n",
      "- Quality control\n",
      "- User testing\n",
      "- Compliance testing\n",
      "- Quality assurance testing"
     ]
    },
    {
     "name": "stdout",
     "output_type": "stream",
     "text": [
      "\n",
      "- Compliance testing\n",
      "- Quality control\n",
      "-"
     ]
    },
    {
     "name": "stdout",
     "output_type": "stream",
     "text": [
      " User testing\n",
      "- Compliance testing\n",
      "- Quality[2025-05-04 16:54:55] Decode batch. #running-req: 1, #token: 980, token usage: 0.05, gen throughput (token/s): 134.43, #queue-req: 0\n",
      " assurance testing\n",
      "- Compliance testing\n",
      "-"
     ]
    },
    {
     "name": "stdout",
     "output_type": "stream",
     "text": [
      " Quality control\n",
      "- User testing\n",
      "- Compliance testing"
     ]
    },
    {
     "name": "stdout",
     "output_type": "stream",
     "text": [
      "\n",
      "- Quality assurance testing\n",
      "- Compliance testing\n",
      "- Quality control\n",
      "- User testing"
     ]
    },
    {
     "name": "stdout",
     "output_type": "stream",
     "text": [
      "\n",
      "- Compliance testing\n",
      "[2025-05-04 16:54:56] Decode batch. #running-req: 1, #token: 1020, token usage: 0.05, gen throughput (token/s): 131.55, #queue-req: 0\n",
      "- Quality assurance testing\n"
     ]
    },
    {
     "name": "stdout",
     "output_type": "stream",
     "text": [
      "- Compliance testing\n",
      "- Quality control\n",
      "- User testing\n",
      "- Compliance testing\n",
      "- Quality"
     ]
    },
    {
     "name": "stdout",
     "output_type": "stream",
     "text": [
      " assurance testing\n",
      "- Compliance testing\n",
      "- Quality control"
     ]
    },
    {
     "name": "stdout",
     "output_type": "stream",
     "text": [
      "\n",
      "- User testing\n",
      "- Compliance[2025-05-04 16:54:56] Decode batch. #running-req: 1, #token: 1060, token usage: 0.05, gen throughput (token/s): 135.19, #queue-req: 0\n",
      " testing\n",
      "- Quality assurance testing\n",
      "- Compliance testing"
     ]
    },
    {
     "name": "stdout",
     "output_type": "stream",
     "text": [
      "\n",
      "- Quality control\n",
      "- User testing\n",
      "-"
     ]
    },
    {
     "name": "stdout",
     "output_type": "stream",
     "text": [
      " Compliance testing\n",
      "- Quality assurance testing\n",
      "- Compliance testing\n",
      "- Quality control\n",
      "-"
     ]
    },
    {
     "name": "stdout",
     "output_type": "stream",
     "text": [
      " User testing\n",
      "[2025-05-04 16:54:56] Decode batch. #running-req: 1, #token: 1100, token usage: 0.05, gen throughput (token/s): 130.42, #queue-req: 0\n",
      "- Compliance testing\n",
      "- Quality assurance"
     ]
    },
    {
     "name": "stdout",
     "output_type": "stream",
     "text": [
      " testing\n",
      "- Compliance testing\n",
      "- Quality control\n",
      "- User testing\n",
      "- Compliance testing"
     ]
    },
    {
     "name": "stdout",
     "output_type": "stream",
     "text": [
      "\n",
      "- Quality assurance testing\n",
      "- Compliance testing\n"
     ]
    },
    {
     "name": "stdout",
     "output_type": "stream",
     "text": [
      "- Quality control\n",
      "- User[2025-05-04 16:54:56] Decode batch. #running-req: 1, #token: 1140, token usage: 0.06, gen throughput (token/s): 132.28, #queue-req: 0\n",
      " testing\n",
      "- Compliance testing\n",
      "- Quality assurance testing\n"
     ]
    },
    {
     "name": "stdout",
     "output_type": "stream",
     "text": [
      "- Compliance testing\n",
      "- Quality control\n",
      "- User"
     ]
    },
    {
     "name": "stdout",
     "output_type": "stream",
     "text": [
      " testing\n",
      "- Compliance testing\n",
      "- Quality assurance testing\n",
      "- Compliance testing\n",
      "- Quality"
     ]
    },
    {
     "name": "stdout",
     "output_type": "stream",
     "text": [
      " control\n",
      "[2025-05-04 16:54:57] Decode batch. #running-req: 1, #token: 1180, token usage: 0.06, gen throughput (token/s): 132.83, #queue-req: 0\n",
      "- User testing\n",
      "- Compliance testing\n"
     ]
    },
    {
     "name": "stdout",
     "output_type": "stream",
     "text": [
      "- Quality assurance testing\n",
      "- Compliance testing\n",
      "- Quality control\n",
      "- User testing\n"
     ]
    },
    {
     "name": "stdout",
     "output_type": "stream",
     "text": [
      "- Compliance testing\n",
      "- Quality assurance testing\n",
      "-"
     ]
    },
    {
     "name": "stdout",
     "output_type": "stream",
     "text": [
      " Compliance testing\n",
      "- Quality[2025-05-04 16:54:57] Decode batch. #running-req: 1, #token: 1220, token usage: 0.06, gen throughput (token/s): 133.61, #queue-req: 0\n",
      " control\n",
      "- User testing\n",
      "- Compliance testing\n",
      "- Quality"
     ]
    },
    {
     "name": "stdout",
     "output_type": "stream",
     "text": [
      " assurance testing\n",
      "- Compliance testing\n",
      "- Quality control"
     ]
    },
    {
     "name": "stdout",
     "output_type": "stream",
     "text": [
      "\n",
      "- User testing\n",
      "- Compliance testing\n",
      "- Quality assurance testing\n",
      "- Compliance testing"
     ]
    },
    {
     "name": "stdout",
     "output_type": "stream",
     "text": [
      "\n",
      "[2025-05-04 16:54:57] Decode batch. #running-req: 1, #token: 1260, token usage: 0.06, gen throughput (token/s): 133.34, #queue-req: 0\n",
      "- Quality control\n",
      "- User testing\n",
      "-"
     ]
    },
    {
     "name": "stdout",
     "output_type": "stream",
     "text": [
      " Compliance testing\n",
      "- Quality assurance testing\n",
      "- Compliance testing\n",
      "- Quality control\n",
      "-"
     ]
    },
    {
     "name": "stdout",
     "output_type": "stream",
     "text": [
      " User testing\n",
      "- Compliance testing\n",
      "- Quality assurance"
     ]
    },
    {
     "name": "stdout",
     "output_type": "stream",
     "text": [
      " testing\n",
      "- Compliance[2025-05-04 16:54:58] Decode batch. #running-req: 1, #token: 1300, token usage: 0.06, gen throughput (token/s): 133.36, #queue-req: 0\n",
      " testing\n",
      "- Quality control\n",
      "- User testing\n",
      "- Compliance testing"
     ]
    },
    {
     "name": "stdout",
     "output_type": "stream",
     "text": [
      "\n",
      "- Quality assurance testing\n",
      "- Compliance testing\n"
     ]
    },
    {
     "name": "stdout",
     "output_type": "stream",
     "text": [
      "- Quality control\n",
      "- User testing\n",
      "- Compliance testing\n",
      "- Quality assurance testing\n"
     ]
    },
    {
     "name": "stdout",
     "output_type": "stream",
     "text": [
      "[2025-05-04 16:54:58] Decode batch. #running-req: 1, #token: 1340, token usage: 0.07, gen throughput (token/s): 133.05, #queue-req: 0\n",
      "- Compliance testing\n",
      "- Quality control\n",
      "- User"
     ]
    },
    {
     "name": "stdout",
     "output_type": "stream",
     "text": [
      " testing\n",
      "- Compliance testing\n",
      "- Quality assurance testing\n",
      "- Compliance testing\n",
      "- Quality"
     ]
    },
    {
     "name": "stdout",
     "output_type": "stream",
     "text": [
      " control\n",
      "- User testing\n",
      "- Compliance testing\n"
     ]
    },
    {
     "name": "stdout",
     "output_type": "stream",
     "text": [
      "- Quality assurance[2025-05-04 16:54:58] Decode batch. #running-req: 1, #token: 1380, token usage: 0.07, gen throughput (token/s): 132.82, #queue-req: 0\n",
      " testing\n",
      "- Compliance testing\n",
      "- Quality control\n",
      "- User testing\n"
     ]
    },
    {
     "name": "stdout",
     "output_type": "stream",
     "text": [
      "- Compliance testing\n",
      "- Quality assurance testing\n",
      "-"
     ]
    },
    {
     "name": "stdout",
     "output_type": "stream",
     "text": [
      " Compliance testing\n",
      "- Quality control\n",
      "- User testing\n",
      "- Compliance testing\n",
      "-[2025-05-04 16:54:59] Decode batch. #running-req: 1, #token: 1420, token usage: 0.07, gen throughput (token/s): 133.10, #queue-req: 0\n",
      " Quality"
     ]
    },
    {
     "name": "stdout",
     "output_type": "stream",
     "text": [
      " assurance testing\n",
      "- Compliance testing\n",
      "- Quality control"
     ]
    },
    {
     "name": "stdout",
     "output_type": "stream",
     "text": [
      "\n",
      "- User testing\n",
      "- Compliance testing\n",
      "- Quality assurance testing\n",
      "- Compliance testing"
     ]
    },
    {
     "name": "stdout",
     "output_type": "stream",
     "text": [
      "\n",
      "- Quality control\n",
      "- User testing\n",
      "-"
     ]
    },
    {
     "name": "stdout",
     "output_type": "stream",
     "text": [
      " Compliance testing[2025-05-04 16:54:59] Decode batch. #running-req: 1, #token: 1460, token usage: 0.07, gen throughput (token/s): 133.68, #queue-req: 0\n",
      "\n",
      "- Quality assurance testing\n",
      "- Compliance testing\n",
      "- Quality control\n",
      "-"
     ]
    },
    {
     "name": "stdout",
     "output_type": "stream",
     "text": [
      " User testing\n",
      "- Compliance testing\n",
      "- Quality assurance"
     ]
    },
    {
     "name": "stdout",
     "output_type": "stream",
     "text": [
      " testing\n",
      "- Compliance testing\n",
      "- Quality control\n",
      "- User testing\n",
      "-[2025-05-04 16:54:59] Decode batch. #running-req: 1, #token: 1500, token usage: 0.07, gen throughput (token/s): 133.25, #queue-req: 0\n",
      " Compliance testing"
     ]
    },
    {
     "name": "stdout",
     "output_type": "stream",
     "text": [
      "\n",
      "- Quality assurance testing\n",
      "- Compliance testing\n"
     ]
    },
    {
     "name": "stdout",
     "output_type": "stream",
     "text": [
      "- Quality control\n",
      "- User testing\n",
      "- Compliance testing\n",
      "- Quality assurance testing\n"
     ]
    },
    {
     "name": "stdout",
     "output_type": "stream",
     "text": [
      "- Compliance testing\n",
      "- Quality control\n",
      "- User"
     ]
    },
    {
     "name": "stdout",
     "output_type": "stream",
     "text": [
      " testing[2025-05-04 16:54:59] Decode batch. #running-req: 1, #token: 1540, token usage: 0.08, gen throughput (token/s): 133.91, #queue-req: 0\n",
      "\n",
      "- Compliance testing\n",
      "- Quality assurance testing\n",
      "- Compliance testing\n",
      "- Quality"
     ]
    },
    {
     "name": "stdout",
     "output_type": "stream",
     "text": [
      " control\n",
      "- User testing\n",
      "- Compliance testing\n"
     ]
    },
    {
     "name": "stdout",
     "output_type": "stream",
     "text": [
      "- Quality assurance testing\n",
      "- Compliance testing\n",
      "- Quality control\n",
      "-[2025-05-04 16:55:00] Decode batch. #running-req: 1, #token: 1580, token usage: 0.08, gen throughput (token/s): 133.39, #queue-req: 0\n",
      " User testing\n"
     ]
    },
    {
     "name": "stdout",
     "output_type": "stream",
     "text": [
      "- Compliance testing\n",
      "- Quality assurance testing\n",
      "-"
     ]
    },
    {
     "name": "stdout",
     "output_type": "stream",
     "text": [
      " Compliance testing\n",
      "- Quality control\n",
      "- User testing\n",
      "- Compliance testing\n",
      "- Quality"
     ]
    },
    {
     "name": "stdout",
     "output_type": "stream",
     "text": [
      " assurance testing\n",
      "- Compliance testing\n",
      "- Quality control"
     ]
    },
    {
     "name": "stdout",
     "output_type": "stream",
     "text": [
      "[2025-05-04 16:55:00] Decode batch. #running-req: 1, #token: 1620, token usage: 0.08, gen throughput (token/s): 133.09, #queue-req: 0\n",
      "\n",
      "- User testing\n",
      "- Compliance testing\n",
      "- Quality assurance testing\n",
      "- Compliance testing"
     ]
    },
    {
     "name": "stdout",
     "output_type": "stream",
     "text": [
      "\n",
      "- Quality control\n",
      "- User testing\n",
      "-"
     ]
    },
    {
     "name": "stdout",
     "output_type": "stream",
     "text": [
      " Compliance testing\n",
      "- Quality assurance testing\n",
      "- Compliance testing\n",
      "-[2025-05-04 16:55:00] Decode batch. #running-req: 1, #token: 1660, token usage: 0.08, gen throughput (token/s): 133.09, #queue-req: 0\n",
      " Quality control\n",
      "-"
     ]
    },
    {
     "name": "stdout",
     "output_type": "stream",
     "text": [
      " User testing\n",
      "- Compliance testing\n",
      "- Quality assurance"
     ]
    },
    {
     "name": "stdout",
     "output_type": "stream",
     "text": [
      " testing\n",
      "- Compliance testing\n",
      "- Quality control\n",
      "- User testing\n",
      "- Compliance testing"
     ]
    },
    {
     "name": "stdout",
     "output_type": "stream",
     "text": [
      "\n",
      "- Quality assurance testing\n",
      "- Compliance testing[2025-05-04 16:55:01] Decode batch. #running-req: 1, #token: 1700, token usage: 0.08, gen throughput (token/s): 133.56, #queue-req: 0\n",
      "\n"
     ]
    },
    {
     "name": "stdout",
     "output_type": "stream",
     "text": [
      "- Quality control\n",
      "- User testing\n",
      "- Compliance testing\n",
      "- Quality assurance testing\n"
     ]
    },
    {
     "name": "stdout",
     "output_type": "stream",
     "text": [
      "- Compliance testing\n",
      "- Quality control\n",
      "- User"
     ]
    },
    {
     "name": "stdout",
     "output_type": "stream",
     "text": [
      " testing\n",
      "- Compliance testing\n",
      "- Quality assurance testing\n",
      "-[2025-05-04 16:55:01] Decode batch. #running-req: 1, #token: 1740, token usage: 0.08, gen throughput (token/s): 132.16, #queue-req: 0\n",
      " Compliance testing\n",
      "- Quality"
     ]
    },
    {
     "name": "stdout",
     "output_type": "stream",
     "text": [
      " control\n",
      "- User testing\n",
      "- Compliance testing\n"
     ]
    },
    {
     "name": "stdout",
     "output_type": "stream",
     "text": [
      "- Quality assurance testing\n",
      "- Compliance testing\n",
      "- Quality control\n",
      "- User testing\n"
     ]
    },
    {
     "name": "stdout",
     "output_type": "stream",
     "text": [
      "- Compliance testing\n",
      "- Quality assurance testing[2025-05-04 16:55:01] Decode batch. #running-req: 1, #token: 1780, token usage: 0.09, gen throughput (token/s): 132.27, #queue-req: 0\n",
      "\n",
      "-"
     ]
    },
    {
     "name": "stdout",
     "output_type": "stream",
     "text": [
      " Compliance testing\n",
      "- Quality control\n",
      "- User testing\n",
      "- Compliance testing\n",
      "- Quality assurance"
     ]
    },
    {
     "name": "stdout",
     "output_type": "stream",
     "text": [
      " testing\n",
      "- Compliance testing\n",
      "-"
     ]
    },
    {
     "name": "stdout",
     "output_type": "stream",
     "text": [
      " Quality control\n",
      "- User testing\n",
      "- Compliance testing\n",
      "- Quality[2025-05-04 16:55:02] Decode batch. #running-req: 1, #token: 1820, token usage: 0.09, gen throughput (token/s): 125.59, #queue-req: 0\n",
      " assurance testing\n",
      "- Compliance"
     ]
    },
    {
     "name": "stdout",
     "output_type": "stream",
     "text": [
      " testing\n",
      "- Quality control\n",
      "- User testing"
     ]
    },
    {
     "name": "stdout",
     "output_type": "stream",
     "text": [
      "\n",
      "- Compliance testing\n",
      "- Quality assurance testing\n",
      "- Compliance testing\n",
      "- Quality control\n"
     ]
    },
    {
     "name": "stdout",
     "output_type": "stream",
     "text": [
      "- User testing\n",
      "- Compliance testing\n",
      "[2025-05-04 16:55:02] Decode batch. #running-req: 1, #token: 1860, token usage: 0.09, gen throughput (token/s): 132.37, #queue-req: 0\n",
      "-"
     ]
    },
    {
     "name": "stdout",
     "output_type": "stream",
     "text": [
      " Quality assurance testing\n",
      "- Compliance testing\n",
      "- Quality control\n",
      "- User testing\n"
     ]
    },
    {
     "name": "stdout",
     "output_type": "stream",
     "text": [
      "- Compliance testing\n",
      "- Quality assurance testing\n",
      "-"
     ]
    },
    {
     "name": "stdout",
     "output_type": "stream",
     "text": [
      " Compliance testing\n",
      "- Quality control\n",
      "- User testing\n",
      "- Compliance[2025-05-04 16:55:02] Decode batch. #running-req: 1, #token: 1900, token usage: 0.09, gen throughput (token/s): 126.68, #queue-req: 0\n",
      " testing\n",
      "- Quality"
     ]
    },
    {
     "name": "stdout",
     "output_type": "stream",
     "text": [
      " assurance testing\n",
      "- Compliance testing\n",
      "- Quality control"
     ]
    },
    {
     "name": "stdout",
     "output_type": "stream",
     "text": [
      "\n",
      "- User testing\n",
      "- Compliance testing\n",
      "- Quality assurance testing\n",
      "- Compliance testing"
     ]
    },
    {
     "name": "stdout",
     "output_type": "stream",
     "text": [
      "\n",
      "- Quality control\n",
      "- User testing\n",
      "[2025-05-04 16:55:02] Decode batch. #running-req: 1, #token: 1940, token usage: 0.09, gen throughput (token/s): 132.86, #queue-req: 0\n",
      "-"
     ]
    },
    {
     "name": "stdout",
     "output_type": "stream",
     "text": [
      " Compliance testing\n",
      "- Quality assurance testing\n",
      "- Compliance testing\n",
      "- Quality control\n",
      "-"
     ]
    },
    {
     "name": "stdout",
     "output_type": "stream",
     "text": [
      " User testing\n",
      "- Compliance testing\n",
      "- Quality assurance"
     ]
    },
    {
     "name": "stdout",
     "output_type": "stream",
     "text": [
      " testing\n",
      "- Compliance testing\n",
      "- Quality control\n",
      "- User[2025-05-04 16:55:03] Decode batch. #running-req: 1, #token: 1980, token usage: 0.10, gen throughput (token/s): 133.45, #queue-req: 0\n",
      " testing\n",
      "- Compliance testing"
     ]
    },
    {
     "name": "stdout",
     "output_type": "stream",
     "text": [
      "\n",
      "- Quality assurance testing\n",
      "- Compliance testing\n",
      "-"
     ]
    },
    {
     "name": "stdout",
     "output_type": "stream",
     "text": [
      " Quality control\n",
      "- User testing\n",
      "- Compliance testing\n",
      "- Quality assurance testing\n",
      "-"
     ]
    },
    {
     "name": "stdout",
     "output_type": "stream",
     "text": [
      " Compliance testing\n",
      "- Quality control\n",
      "[2025-05-04 16:55:03] Decode batch. #running-req: 1, #token: 2020, token usage: 0.10, gen throughput (token/s): 134.18, #queue-req: 0\n",
      "- User testing"
     ]
    },
    {
     "name": "stdout",
     "output_type": "stream",
     "text": [
      "\n",
      "- Compliance testing\n",
      "- Quality assurance testing\n",
      "- Compliance testing\n",
      "- Quality control"
     ]
    },
    {
     "name": "stdout",
     "output_type": "stream",
     "text": [
      "\n",
      "- User testing\n",
      "- Compliance testing\n",
      "-"
     ]
    },
    {
     "name": "stdout",
     "output_type": "stream",
     "text": [
      " Quality assurance testing\n",
      "- Compliance testing\n",
      "- Quality[2025-05-04 16:55:03] Decode batch. #running-req: 1, #token: 2060, token usage: 0.10, gen throughput (token/s): 133.10, #queue-req: 0\n",
      " control\n",
      "- User testing\n",
      "-"
     ]
    },
    {
     "name": "stdout",
     "output_type": "stream",
     "text": [
      " Compliance testing\n",
      "- Quality assurance testing\n",
      "- Compliance"
     ]
    },
    {
     "name": "stdout",
     "output_type": "stream",
     "text": [
      " testing\n",
      "- Quality control\n",
      "- User testing\n",
      "- Compliance testing\n",
      "- Quality assurance"
     ]
    },
    {
     "name": "stdout",
     "output_type": "stream",
     "text": [
      " testing\n",
      "- Compliance testing\n",
      "[2025-05-04 16:55:04] Decode batch. #running-req: 1, #token: 2100, token usage: 0.10, gen throughput (token/s): 133.15, #queue-req: 0\n",
      "- Quality control\n"
     ]
    },
    {
     "name": "stdout",
     "output_type": "stream",
     "text": [
      "- User testing\n",
      "- Compliance testing\n",
      "- Quality assurance testing\n",
      "- Compliance testing\n"
     ]
    },
    {
     "name": "stdout",
     "output_type": "stream",
     "text": [
      "- Quality control\n",
      "- User testing\n",
      "- Compliance"
     ]
    },
    {
     "name": "stdout",
     "output_type": "stream",
     "text": [
      " testing\n",
      "- Quality assurance testing\n",
      "- Compliance[2025-05-04 16:55:04] Decode batch. #running-req: 1, #token: 2140, token usage: 0.10, gen throughput (token/s): 132.38, #queue-req: 0\n",
      " testing\n",
      "- Quality control\n",
      "- User"
     ]
    },
    {
     "name": "stdout",
     "output_type": "stream",
     "text": [
      " testing\n",
      "- Compliance testing\n",
      "-"
     ]
    },
    {
     "name": "stdout",
     "output_type": "stream",
     "text": [
      " Quality assurance testing\n",
      "- Compliance testing\n",
      "- Quality control\n",
      "- User testing\n",
      "-"
     ]
    },
    {
     "name": "stdout",
     "output_type": "stream",
     "text": [
      " Compliance testing\n",
      "- Quality assurance testing\n",
      "[2025-05-04 16:55:04] Decode batch. #running-req: 1, #token: 2180, token usage: 0.11, gen throughput (token/s): 123.26, #queue-req: 0\n",
      "- Compliance testing"
     ]
    },
    {
     "name": "stdout",
     "output_type": "stream",
     "text": [
      "\n",
      "- Quality control\n",
      "- User testing\n",
      "- Compliance testing\n",
      "- Quality assurance"
     ]
    },
    {
     "name": "stdout",
     "output_type": "stream",
     "text": [
      " testing\n",
      "- Compliance testing\n",
      "- Quality control\n",
      "-"
     ]
    },
    {
     "name": "stdout",
     "output_type": "stream",
     "text": [
      " User testing\n",
      "- Compliance testing\n",
      "- Quality assurance[2025-05-04 16:55:05] Decode batch. #running-req: 1, #token: 2220, token usage: 0.11, gen throughput (token/s): 132.67, #queue-req: 0\n",
      " testing\n",
      "- Compliance testing\n"
     ]
    },
    {
     "name": "stdout",
     "output_type": "stream",
     "text": [
      "- Quality control\n",
      "- User testing\n",
      "- Compliance testing"
     ]
    },
    {
     "name": "stdout",
     "output_type": "stream",
     "text": [
      "\n",
      "- Quality assurance testing\n",
      "- Compliance testing\n",
      "- Quality control\n"
     ]
    },
    {
     "name": "stdout",
     "output_type": "stream",
     "text": [
      "- User testing\n",
      "- Compliance testing\n",
      "-[2025-05-04 16:55:05] Decode batch. #running-req: 1, #token: 2260, token usage: 0.11, gen throughput (token/s): 127.89, #queue-req: 0\n",
      " Quality assurance testing"
     ]
    },
    {
     "name": "stdout",
     "output_type": "stream",
     "text": [
      "\n",
      "- Compliance testing\n",
      "- Quality control\n",
      "- User testing\n",
      "- Compliance"
     ]
    },
    {
     "name": "stdout",
     "output_type": "stream",
     "text": [
      " testing\n",
      "- Quality assurance testing\n",
      "- Compliance testing\n",
      "-"
     ]
    },
    {
     "name": "stdout",
     "output_type": "stream",
     "text": [
      " Quality control\n",
      "- User testing\n",
      "- Compliance testing[2025-05-04 16:55:05] Decode batch. #running-req: 1, #token: 2300, token usage: 0.11, gen throughput (token/s): 132.65, #queue-req: 0\n",
      "\n",
      "- Quality assurance testing"
     ]
    },
    {
     "name": "stdout",
     "output_type": "stream",
     "text": [
      "\n",
      "- Compliance testing\n",
      "- Quality control\n",
      "- User testing"
     ]
    },
    {
     "name": "stdout",
     "output_type": "stream",
     "text": [
      "\n",
      "- Compliance testing\n",
      "- Quality assurance testing\n",
      "- Compliance testing\n",
      "- Quality"
     ]
    },
    {
     "name": "stdout",
     "output_type": "stream",
     "text": [
      " control\n",
      "- User testing\n",
      "-[2025-05-04 16:55:06] Decode batch. #running-req: 1, #token: 2340, token usage: 0.11, gen throughput (token/s): 133.88, #queue-req: 0\n",
      " Compliance testing\n"
     ]
    },
    {
     "name": "stdout",
     "output_type": "stream",
     "text": [
      "- Quality assurance testing\n",
      "- Compliance testing\n",
      "- Quality control\n",
      "- User testing"
     ]
    },
    {
     "name": "stdout",
     "output_type": "stream",
     "text": [
      "\n",
      "- Compliance testing\n",
      "- Quality assurance testing\n",
      "- Compliance"
     ]
    },
    {
     "name": "stdout",
     "output_type": "stream",
     "text": [
      " testing\n",
      "- Quality control\n",
      "- User testing[2025-05-04 16:55:06] Decode batch. #running-req: 1, #token: 2380, token usage: 0.12, gen throughput (token/s): 128.99, #queue-req: 0\n",
      "\n",
      "- Compliance testing\n",
      "-"
     ]
    },
    {
     "name": "stdout",
     "output_type": "stream",
     "text": [
      " Quality assurance testing\n",
      "- Compliance testing\n",
      "- Quality control\n",
      "-"
     ]
    },
    {
     "name": "stdout",
     "output_type": "stream",
     "text": [
      " User testing\n",
      "- Compliance testing\n",
      "- Quality assurance testing\n",
      "- Compliance testing"
     ]
    },
    {
     "name": "stdout",
     "output_type": "stream",
     "text": [
      "\n",
      "- Quality control\n",
      "-[2025-05-04 16:55:06] Decode batch. #running-req: 1, #token: 2420, token usage: 0.12, gen throughput (token/s): 134.90, #queue-req: 0\n",
      " User testing\n",
      "- Compliance testing\n"
     ]
    },
    {
     "name": "stdout",
     "output_type": "stream",
     "text": [
      "- Quality assurance testing\n",
      "- Compliance testing\n",
      "- Quality control\n",
      "- User"
     ]
    },
    {
     "name": "stdout",
     "output_type": "stream",
     "text": [
      " testing\n",
      "- Compliance testing\n",
      "- Quality assurance testing\n",
      "- Compliance"
     ]
    },
    {
     "name": "stdout",
     "output_type": "stream",
     "text": [
      " testing\n",
      "- Quality control[2025-05-04 16:55:06] Decode batch. #running-req: 1, #token: 2460, token usage: 0.12, gen throughput (token/s): 135.07, #queue-req: 0\n",
      "\n",
      "- User testing\n",
      "- Compliance testing\n",
      "-"
     ]
    },
    {
     "name": "stdout",
     "output_type": "stream",
     "text": [
      " Quality assurance testing\n",
      "- Compliance testing\n",
      "- Quality control\n",
      "-"
     ]
    },
    {
     "name": "stdout",
     "output_type": "stream",
     "text": [
      " User testing\n",
      "- Compliance testing\n",
      "- Quality assurance testing\n",
      "- Compliance testing"
     ]
    },
    {
     "name": "stdout",
     "output_type": "stream",
     "text": [
      "\n",
      "-[2025-05-04 16:55:07] Decode batch. #running-req: 1, #token: 2500, token usage: 0.12, gen throughput (token/s): 136.15, #queue-req: 0\n",
      " Quality control\n",
      "- User testing\n",
      "- Compliance testing\n"
     ]
    },
    {
     "name": "stdout",
     "output_type": "stream",
     "text": [
      "- Quality assurance testing\n",
      "- Compliance testing\n",
      "- Quality control\n",
      "- User"
     ]
    },
    {
     "name": "stdout",
     "output_type": "stream",
     "text": [
      " testing\n",
      "- Compliance testing\n",
      "- Quality assurance testing\n",
      "- Compliance"
     ]
    },
    {
     "name": "stdout",
     "output_type": "stream",
     "text": [
      " testing[2025-05-04 16:55:07] Decode batch. #running-req: 1, #token: 2540, token usage: 0.12, gen throughput (token/s): 135.88, #queue-req: 0\n",
      "\n",
      "- Quality control\n",
      "- User testing\n",
      "- Compliance testing\n",
      "-"
     ]
    },
    {
     "name": "stdout",
     "output_type": "stream",
     "text": [
      " Quality assurance testing\n",
      "- Compliance testing\n",
      "- Quality control\n",
      "-"
     ]
    },
    {
     "name": "stdout",
     "output_type": "stream",
     "text": [
      " User testing\n",
      "- Compliance testing\n",
      "- Quality assurance testing\n",
      "-[2025-05-04 16:55:07] Decode batch. #running-req: 1, #token: 2580, token usage: 0.13, gen throughput (token/s): 135.95, #queue-req: 0\n",
      " Compliance testing"
     ]
    },
    {
     "name": "stdout",
     "output_type": "stream",
     "text": [
      "\n",
      "- Quality control\n",
      "- User testing\n",
      "- Compliance testing\n"
     ]
    },
    {
     "name": "stdout",
     "output_type": "stream",
     "text": [
      "- Quality assurance testing\n",
      "- Compliance testing\n",
      "- Quality control\n",
      "- User"
     ]
    },
    {
     "name": "stdout",
     "output_type": "stream",
     "text": [
      " testing\n",
      "- Compliance testing\n",
      "- Quality assurance testing[2025-05-04 16:55:08] Decode batch. #running-req: 1, #token: 2620, token usage: 0.13, gen throughput (token/s): 135.67, #queue-req: 0\n",
      "\n",
      "- Compliance"
     ]
    },
    {
     "name": "stdout",
     "output_type": "stream",
     "text": [
      " testing\n",
      "- Quality control\n",
      "- User testing\n",
      "- Compliance testing\n",
      "-"
     ]
    },
    {
     "name": "stdout",
     "output_type": "stream",
     "text": [
      " Quality assurance testing\n",
      "- Compliance testing\n",
      "- Quality control\n",
      "-"
     ]
    },
    {
     "name": "stdout",
     "output_type": "stream",
     "text": [
      " User testing\n",
      "- Compliance testing\n",
      "- Quality[2025-05-04 16:55:08] Decode batch. #running-req: 1, #token: 2660, token usage: 0.13, gen throughput (token/s): 134.98, #queue-req: 0\n",
      " assurance testing\n",
      "- Compliance testing"
     ]
    },
    {
     "name": "stdout",
     "output_type": "stream",
     "text": [
      "\n",
      "- Quality control\n",
      "- User testing\n",
      "- Compliance testing"
     ]
    },
    {
     "name": "stdout",
     "output_type": "stream",
     "text": [
      "\n",
      "- Quality assurance testing\n",
      "- Compliance testing\n",
      "- Quality control\n",
      "-"
     ]
    },
    {
     "name": "stdout",
     "output_type": "stream",
     "text": [
      " User testing\n",
      "- Compliance testing\n",
      "[2025-05-04 16:55:08] Decode batch. #running-req: 1, #token: 2700, token usage: 0.13, gen throughput (token/s): 132.38, #queue-req: 0\n",
      "- Quality assurance testing\n"
     ]
    },
    {
     "name": "stdout",
     "output_type": "stream",
     "text": [
      "- Compliance testing\n",
      "- Quality control\n",
      "- User testing\n",
      "- Compliance testing"
     ]
    },
    {
     "name": "stdout",
     "output_type": "stream",
     "text": [
      "\n",
      "- Quality assurance testing\n",
      "- Compliance testing\n",
      "- Quality"
     ]
    },
    {
     "name": "stdout",
     "output_type": "stream",
     "text": [
      " control\n",
      "- User testing\n",
      "- Compliance[2025-05-04 16:55:08] Decode batch. #running-req: 1, #token: 2740, token usage: 0.13, gen throughput (token/s): 133.06, #queue-req: 0\n",
      " testing\n",
      "- Quality assurance testing\n"
     ]
    },
    {
     "name": "stdout",
     "output_type": "stream",
     "text": [
      "- Compliance testing\n",
      "- Quality control\n",
      "- User testing\n"
     ]
    },
    {
     "name": "stdout",
     "output_type": "stream",
     "text": [
      "- Compliance testing\n",
      "- Quality assurance testing\n",
      "- Compliance testing\n",
      "- Quality control"
     ]
    },
    {
     "name": "stdout",
     "output_type": "stream",
     "text": [
      "\n",
      "- User testing\n",
      "[2025-05-04 16:55:09] Decode batch. #running-req: 1, #token: 2780, token usage: 0.14, gen throughput (token/s): 134.15, #queue-req: 0\n",
      "- Compliance testing\n",
      "- Quality assurance"
     ]
    },
    {
     "name": "stdout",
     "output_type": "stream",
     "text": [
      " testing\n",
      "- Compliance testing\n",
      "- Quality control\n",
      "- User testing\n",
      "-"
     ]
    },
    {
     "name": "stdout",
     "output_type": "stream",
     "text": [
      " Compliance testing\n",
      "- Quality assurance testing\n",
      "- Compliance testing\n",
      "-"
     ]
    },
    {
     "name": "stdout",
     "output_type": "stream",
     "text": [
      " Quality control\n",
      "- User[2025-05-04 16:55:09] Decode batch. #running-req: 1, #token: 2820, token usage: 0.14, gen throughput (token/s): 134.61, #queue-req: 0\n",
      " testing\n",
      "- Compliance testing\n",
      "- Quality assurance testing"
     ]
    },
    {
     "name": "stdout",
     "output_type": "stream",
     "text": [
      "\n",
      "- Compliance testing\n",
      "- Quality control\n",
      "- User testing"
     ]
    },
    {
     "name": "stdout",
     "output_type": "stream",
     "text": [
      "\n",
      "- Compliance testing\n",
      "- Quality assurance testing\n",
      "- Compliance testing\n",
      "-"
     ]
    },
    {
     "name": "stdout",
     "output_type": "stream",
     "text": [
      " Quality control\n",
      "[2025-05-04 16:55:09] Decode batch. #running-req: 1, #token: 2860, token usage: 0.14, gen throughput (token/s): 132.16, #queue-req: 0\n",
      "- User testing\n",
      "- Compliance testing\n",
      "-"
     ]
    },
    {
     "name": "stdout",
     "output_type": "stream",
     "text": [
      " Quality assurance testing\n",
      "- Compliance testing\n",
      "- Quality control\n",
      "- User testing"
     ]
    },
    {
     "name": "stdout",
     "output_type": "stream",
     "text": [
      "\n",
      "- Compliance testing\n",
      "- Quality assurance testing\n",
      "- Compliance"
     ]
    },
    {
     "name": "stdout",
     "output_type": "stream",
     "text": [
      " testing\n",
      "- Quality[2025-05-04 16:55:10] Decode batch. #running-req: 1, #token: 2900, token usage: 0.14, gen throughput (token/s): 132.78, #queue-req: 0\n",
      " control\n",
      "- User testing\n",
      "- Compliance testing\n",
      "-"
     ]
    },
    {
     "name": "stdout",
     "output_type": "stream",
     "text": [
      " Quality assurance testing\n",
      "- Compliance testing\n",
      "- Quality control\n"
     ]
    },
    {
     "name": "stdout",
     "output_type": "stream",
     "text": [
      "- User testing\n",
      "- Compliance testing\n",
      "- Quality assurance testing\n",
      "- Compliance"
     ]
    },
    {
     "name": "stdout",
     "output_type": "stream",
     "text": [
      " testing\n",
      "[2025-05-04 16:55:10] Decode batch. #running-req: 1, #token: 2940, token usage: 0.14, gen throughput (token/s): 133.15, #queue-req: 0\n",
      "- Quality control\n",
      "- User testing\n",
      "- Compliance"
     ]
    },
    {
     "name": "stdout",
     "output_type": "stream",
     "text": [
      " testing\n",
      "- Quality assurance testing\n",
      "- Compliance testing\n",
      "- Quality control\n"
     ]
    },
    {
     "name": "stdout",
     "output_type": "stream",
     "text": [
      "- User testing\n",
      "- Compliance testing\n",
      "- Quality assurance testing"
     ]
    },
    {
     "name": "stdout",
     "output_type": "stream",
     "text": [
      "\n",
      "- Compliance[2025-05-04 16:55:10] Decode batch. #running-req: 1, #token: 2980, token usage: 0.15, gen throughput (token/s): 132.84, #queue-req: 0\n",
      " testing\n",
      "- Quality control\n",
      "- User testing\n",
      "- Compliance"
     ]
    },
    {
     "name": "stdout",
     "output_type": "stream",
     "text": [
      " testing\n",
      "- Quality assurance testing\n",
      "- Compliance testing\n",
      "-"
     ]
    },
    {
     "name": "stdout",
     "output_type": "stream",
     "text": [
      " Quality control\n",
      "- User testing\n",
      "- Compliance testing\n",
      "- Quality assurance"
     ]
    },
    {
     "name": "stdout",
     "output_type": "stream",
     "text": [
      " testing\n",
      "[2025-05-04 16:55:11] Decode batch. #running-req: 1, #token: 3020, token usage: 0.15, gen throughput (token/s): 129.52, #queue-req: 0\n",
      "- Compliance testing\n",
      "- Quality control\n",
      "- User"
     ]
    },
    {
     "name": "stdout",
     "output_type": "stream",
     "text": [
      " testing\n",
      "- Compliance testing\n",
      "- Quality assurance testing\n",
      "- Compliance testing\n"
     ]
    },
    {
     "name": "stdout",
     "output_type": "stream",
     "text": [
      "- Quality control\n",
      "- User testing\n",
      "- Compliance testing\n"
     ]
    },
    {
     "name": "stdout",
     "output_type": "stream",
     "text": [
      "- Quality assurance[2025-05-04 16:55:11] Decode batch. #running-req: 1, #token: 3060, token usage: 0.15, gen throughput (token/s): 133.04, #queue-req: 0\n",
      " testing\n",
      "- Compliance testing\n",
      "- Quality control\n",
      "- User"
     ]
    },
    {
     "name": "stdout",
     "output_type": "stream",
     "text": [
      " testing\n",
      "- Compliance testing\n",
      "- Quality assurance testing\n",
      "-"
     ]
    },
    {
     "name": "stdout",
     "output_type": "stream",
     "text": [
      " Compliance testing\n",
      "- Quality control\n",
      "- User testing\n",
      "- Compliance testing\n"
     ]
    },
    {
     "name": "stdout",
     "output_type": "stream",
     "text": [
      "-[2025-05-04 16:55:11] Decode batch. #running-req: 1, #token: 3100, token usage: 0.15, gen throughput (token/s): 133.42, #queue-req: 0\n",
      " Quality assurance testing\n",
      "- Compliance testing\n",
      "- Quality control"
     ]
    },
    {
     "name": "stdout",
     "output_type": "stream",
     "text": [
      "\n",
      "- User testing\n",
      "- Compliance testing\n",
      "- Quality assurance testing\n",
      "-"
     ]
    },
    {
     "name": "stdout",
     "output_type": "stream",
     "text": [
      " Compliance testing\n",
      "- Quality control\n",
      "- User testing\n",
      "-"
     ]
    },
    {
     "name": "stdout",
     "output_type": "stream",
     "text": [
      " Compliance testing[2025-05-04 16:55:12] Decode batch. #running-req: 1, #token: 3140, token usage: 0.15, gen throughput (token/s): 132.45, #queue-req: 0\n",
      "\n",
      "- Quality assurance testing\n",
      "- Compliance testing\n",
      "- Quality control"
     ]
    },
    {
     "name": "stdout",
     "output_type": "stream",
     "text": [
      "\n",
      "- User testing\n",
      "- Compliance testing\n",
      "- Quality assurance"
     ]
    },
    {
     "name": "stdout",
     "output_type": "stream",
     "text": [
      " testing\n",
      "- Compliance testing\n",
      "- Quality control\n",
      "- User testing\n",
      "-"
     ]
    },
    {
     "name": "stdout",
     "output_type": "stream",
     "text": [
      "[2025-05-04 16:55:12] Decode batch. #running-req: 1, #token: 3180, token usage: 0.16, gen throughput (token/s): 131.59, #queue-req: 0\n",
      " Compliance testing\n",
      "- Quality assurance testing\n",
      "- Compliance testing\n"
     ]
    },
    {
     "name": "stdout",
     "output_type": "stream",
     "text": [
      "- Quality control\n",
      "- User testing\n",
      "- Compliance testing\n",
      "- Quality assurance"
     ]
    },
    {
     "name": "stdout",
     "output_type": "stream",
     "text": [
      " testing\n",
      "- Compliance testing\n",
      "- Quality control\n",
      "- User"
     ]
    },
    {
     "name": "stdout",
     "output_type": "stream",
     "text": [
      " testing[2025-05-04 16:55:12] Decode batch. #running-req: 1, #token: 3220, token usage: 0.16, gen throughput (token/s): 131.90, #queue-req: 0\n",
      "\n",
      "- Compliance testing\n",
      "- Quality assurance testing\n",
      "- Compliance testing\n"
     ]
    },
    {
     "name": "stdout",
     "output_type": "stream",
     "text": [
      "- Quality control\n",
      "- User testing\n",
      "- Compliance testing\n"
     ]
    },
    {
     "name": "stdout",
     "output_type": "stream",
     "text": [
      "- Quality assurance testing\n",
      "- Compliance testing\n",
      "- Quality control\n",
      "-[2025-05-04 16:55:12] Decode batch. #running-req: 1, #token: 3260, token usage: 0.16, gen throughput (token/s): 132.06, #queue-req: 0\n",
      " User"
     ]
    },
    {
     "name": "stdout",
     "output_type": "stream",
     "text": [
      " testing\n",
      "- Compliance testing\n",
      "- Quality assurance testing\n",
      "-"
     ]
    },
    {
     "name": "stdout",
     "output_type": "stream",
     "text": [
      " Compliance testing\n",
      "- Quality control\n",
      "- User testing\n",
      "- Compliance testing\n"
     ]
    },
    {
     "name": "stdout",
     "output_type": "stream",
     "text": [
      "- Quality assurance testing\n",
      "- Compliance testing\n",
      "- Quality control"
     ]
    },
    {
     "name": "stdout",
     "output_type": "stream",
     "text": [
      "[2025-05-04 16:55:13] Decode batch. #running-req: 1, #token: 3300, token usage: 0.16, gen throughput (token/s): 132.00, #queue-req: 0\n",
      "\n",
      "- User testing\n",
      "- Compliance testing\n",
      "- Quality assurance testing\n",
      "-"
     ]
    },
    {
     "name": "stdout",
     "output_type": "stream",
     "text": [
      " Compliance testing\n",
      "- Quality control\n",
      "- User testing\n",
      "-"
     ]
    },
    {
     "name": "stdout",
     "output_type": "stream",
     "text": [
      " Compliance testing\n",
      "- Quality assurance testing\n",
      "- Compliance testing\n",
      "-[2025-05-04 16:55:13] Decode batch. #running-req: 1, #token: 3340, token usage: 0.16, gen throughput (token/s): 132.61, #queue-req: 0\n",
      " Quality control"
     ]
    },
    {
     "name": "stdout",
     "output_type": "stream",
     "text": [
      "\n",
      "- User testing\n",
      "- Compliance testing\n",
      "- Quality assurance"
     ]
    },
    {
     "name": "stdout",
     "output_type": "stream",
     "text": [
      " testing\n",
      "- Compliance testing\n",
      "- Quality control\n",
      "- User testing\n",
      "-"
     ]
    },
    {
     "name": "stdout",
     "output_type": "stream",
     "text": [
      " Compliance testing\n",
      "- Quality assurance testing\n",
      "- Compliance testing[2025-05-04 16:55:13] Decode batch. #running-req: 1, #token: 3380, token usage: 0.17, gen throughput (token/s): 133.40, #queue-req: 0\n",
      "\n"
     ]
    },
    {
     "name": "stdout",
     "output_type": "stream",
     "text": [
      "- Quality control\n",
      "- User testing\n",
      "- Compliance testing\n",
      "- Quality assurance"
     ]
    },
    {
     "name": "stdout",
     "output_type": "stream",
     "text": [
      " testing\n",
      "- Compliance testing\n",
      "- Quality control\n",
      "- User"
     ]
    },
    {
     "name": "stdout",
     "output_type": "stream",
     "text": [
      " testing\n",
      "- Compliance testing\n",
      "- Quality assurance testing\n",
      "-[2025-05-04 16:55:14] Decode batch. #running-req: 1, #token: 3420, token usage: 0.17, gen throughput (token/s): 133.08, #queue-req: 0\n",
      " Compliance testing\n"
     ]
    },
    {
     "name": "stdout",
     "output_type": "stream",
     "text": [
      "- Quality control\n",
      "- User testing\n",
      "- Compliance testing"
     ]
    },
    {
     "name": "stdout",
     "output_type": "stream",
     "text": [
      "\n",
      "- Quality assurance testing\n",
      "- Compliance testing\n",
      "- Quality control\n",
      "-"
     ]
    },
    {
     "name": "stdout",
     "output_type": "stream",
     "text": [
      " User testing\n",
      "- Compliance testing\n",
      "- Quality assurance testing[2025-05-04 16:55:14] Decode batch. #running-req: 1, #token: 3460, token usage: 0.17, gen throughput (token/s): 130.84, #queue-req: 0\n",
      "\n",
      "- Compliance testing"
     ]
    },
    {
     "name": "stdout",
     "output_type": "stream",
     "text": [
      "\n",
      "- Quality control\n",
      "- User testing\n",
      "- Compliance testing\n"
     ]
    },
    {
     "name": "stdout",
     "output_type": "stream",
     "text": [
      "- Quality assurance testing\n",
      "- Compliance testing\n",
      "- Quality control\n",
      "-"
     ]
    },
    {
     "name": "stdout",
     "output_type": "stream",
     "text": [
      " User testing\n",
      "- Compliance testing\n",
      "- Quality[2025-05-04 16:55:14] Decode batch. #running-req: 1, #token: 3500, token usage: 0.17, gen throughput (token/s): 133.03, #queue-req: 0\n",
      " assurance testing\n",
      "-"
     ]
    },
    {
     "name": "stdout",
     "output_type": "stream",
     "text": [
      " Compliance testing\n",
      "- Quality control\n",
      "- User testing\n",
      "- Compliance testing"
     ]
    },
    {
     "name": "stdout",
     "output_type": "stream",
     "text": [
      "\n",
      "- Quality assurance testing\n",
      "- Compliance testing\n",
      "- Quality control"
     ]
    },
    {
     "name": "stdout",
     "output_type": "stream",
     "text": [
      "\n",
      "- User testing\n",
      "- Compliance testing\n",
      "[2025-05-04 16:55:15] Decode batch. #running-req: 1, #token: 3540, token usage: 0.17, gen throughput (token/s): 132.94, #queue-req: 0\n",
      "- Quality assurance testing\n"
     ]
    },
    {
     "name": "stdout",
     "output_type": "stream",
     "text": [
      "- Compliance testing\n",
      "- Quality control\n",
      "- User testing\n",
      "-"
     ]
    },
    {
     "name": "stdout",
     "output_type": "stream",
     "text": [
      " Compliance testing\n",
      "- Quality assurance testing\n",
      "- Compliance testing\n",
      "- Quality"
     ]
    },
    {
     "name": "stdout",
     "output_type": "stream",
     "text": [
      " control\n",
      "- User testing\n",
      "- Compliance[2025-05-04 16:55:15] Decode batch. #running-req: 1, #token: 3580, token usage: 0.17, gen throughput (token/s): 132.70, #queue-req: 0\n",
      " testing\n",
      "- Quality assurance"
     ]
    },
    {
     "name": "stdout",
     "output_type": "stream",
     "text": [
      " testing\n",
      "- Compliance testing\n",
      "- Quality control\n",
      "- User testing\n"
     ]
    },
    {
     "name": "stdout",
     "output_type": "stream",
     "text": [
      "- Compliance testing\n",
      "- Quality assurance testing\n",
      "- Compliance testing\n"
     ]
    },
    {
     "name": "stdout",
     "output_type": "stream",
     "text": [
      "- Quality control\n",
      "- User testing\n",
      "[2025-05-04 16:55:15] Decode batch. #running-req: 1, #token: 3620, token usage: 0.18, gen throughput (token/s): 132.40, #queue-req: 0\n",
      "- Compliance testing\n",
      "- Quality"
     ]
    },
    {
     "name": "stdout",
     "output_type": "stream",
     "text": [
      " assurance testing\n",
      "- Compliance testing\n",
      "- Quality control\n",
      "- User"
     ]
    },
    {
     "name": "stdout",
     "output_type": "stream",
     "text": [
      " testing\n",
      "- Compliance testing\n",
      "- Quality assurance testing\n",
      "- Compliance testing"
     ]
    },
    {
     "name": "stdout",
     "output_type": "stream",
     "text": [
      "\n",
      "- Quality control\n",
      "- User[2025-05-04 16:55:15] Decode batch. #running-req: 1, #token: 3660, token usage: 0.18, gen throughput (token/s): 133.21, #queue-req: 0\n",
      " testing\n",
      "- Compliance testing\n"
     ]
    },
    {
     "name": "stdout",
     "output_type": "stream",
     "text": [
      "- Quality assurance testing\n",
      "- Compliance testing\n",
      "- Quality control\n",
      "-"
     ]
    },
    {
     "name": "stdout",
     "output_type": "stream",
     "text": [
      " User testing\n",
      "- Compliance testing\n",
      "- Quality assurance testing\n",
      "-"
     ]
    },
    {
     "name": "stdout",
     "output_type": "stream",
     "text": [
      " Compliance testing\n",
      "- Quality control\n",
      "[2025-05-04 16:55:16] Decode batch. #running-req: 1, #token: 3700, token usage: 0.18, gen throughput (token/s): 133.12, #queue-req: 0\n",
      "- User testing\n",
      "- Compliance testing\n"
     ]
    },
    {
     "name": "stdout",
     "output_type": "stream",
     "text": [
      "- Quality assurance testing\n",
      "- Compliance testing\n",
      "- Quality control"
     ]
    },
    {
     "name": "stdout",
     "output_type": "stream",
     "text": [
      "\n",
      "- User testing\n",
      "- Compliance testing\n",
      "- Quality assurance testing\n",
      "-"
     ]
    },
    {
     "name": "stdout",
     "output_type": "stream",
     "text": [
      " Compliance testing\n",
      "- Quality[2025-05-04 16:55:16] Decode batch. #running-req: 1, #token: 3740, token usage: 0.18, gen throughput (token/s): 132.41, #queue-req: 0\n",
      " control\n",
      "- User testing\n",
      "-"
     ]
    },
    {
     "name": "stdout",
     "output_type": "stream",
     "text": [
      " Compliance testing\n",
      "- Quality assurance testing\n",
      "- Compliance testing\n",
      "- Quality control"
     ]
    },
    {
     "name": "stdout",
     "output_type": "stream",
     "text": [
      "\n",
      "- User testing\n",
      "- Compliance testing\n",
      "- Quality assurance"
     ]
    },
    {
     "name": "stdout",
     "output_type": "stream",
     "text": [
      " testing\n",
      "- Compliance testing\n",
      "[2025-05-04 16:55:16] Decode batch. #running-req: 1, #token: 3780, token usage: 0.18, gen throughput (token/s): 132.99, #queue-req: 0\n",
      "- Quality control\n",
      "- User testing\n",
      "-"
     ]
    },
    {
     "name": "stdout",
     "output_type": "stream",
     "text": [
      " Compliance testing\n",
      "- Quality assurance testing\n",
      "- Compliance testing\n"
     ]
    },
    {
     "name": "stdout",
     "output_type": "stream",
     "text": [
      "- Quality control\n",
      "- User testing\n",
      "- Compliance testing\n",
      "- Quality assurance"
     ]
    },
    {
     "name": "stdout",
     "output_type": "stream",
     "text": [
      " testing\n",
      "- Compliance[2025-05-04 16:55:17] Decode batch. #running-req: 1, #token: 3820, token usage: 0.19, gen throughput (token/s): 133.62, #queue-req: 0\n",
      " testing\n",
      "- Quality control\n",
      "- User"
     ]
    },
    {
     "name": "stdout",
     "output_type": "stream",
     "text": [
      " testing\n",
      "- Compliance testing\n",
      "- Quality assurance testing\n",
      "- Compliance testing\n"
     ]
    },
    {
     "name": "stdout",
     "output_type": "stream",
     "text": [
      "- Quality control\n",
      "- User testing\n",
      "- Compliance testing\n"
     ]
    },
    {
     "name": "stdout",
     "output_type": "stream",
     "text": [
      "- Quality assurance testing\n",
      "[2025-05-04 16:55:17] Decode batch. #running-req: 1, #token: 3860, token usage: 0.19, gen throughput (token/s): 132.96, #queue-req: 0\n",
      "- Compliance testing\n",
      "- Quality control\n",
      "- User"
     ]
    },
    {
     "name": "stdout",
     "output_type": "stream",
     "text": [
      " testing\n",
      "- Compliance testing\n",
      "- Quality assurance testing\n",
      "-"
     ]
    },
    {
     "name": "stdout",
     "output_type": "stream",
     "text": [
      " Compliance testing\n",
      "- Quality control\n",
      "- User testing\n",
      "- Compliance testing\n"
     ]
    },
    {
     "name": "stdout",
     "output_type": "stream",
     "text": [
      "- Quality assurance[2025-05-04 16:55:17] Decode batch. #running-req: 1, #token: 3900, token usage: 0.19, gen throughput (token/s): 132.84, #queue-req: 0\n",
      " testing\n",
      "- Compliance testing\n",
      "- Quality control"
     ]
    },
    {
     "name": "stdout",
     "output_type": "stream",
     "text": [
      "\n",
      "- User testing\n",
      "- Compliance testing\n",
      "- Quality assurance testing\n",
      "-"
     ]
    },
    {
     "name": "stdout",
     "output_type": "stream",
     "text": [
      " Compliance testing\n",
      "- Quality control\n",
      "- User testing\n",
      "-"
     ]
    },
    {
     "name": "stdout",
     "output_type": "stream",
     "text": [
      " Compliance testing\n",
      "-[2025-05-04 16:55:18] Decode batch. #running-req: 1, #token: 3940, token usage: 0.19, gen throughput (token/s): 132.88, #queue-req: 0\n",
      " Quality assurance testing\n",
      "- Compliance testing\n",
      "- Quality control"
     ]
    },
    {
     "name": "stdout",
     "output_type": "stream",
     "text": [
      "\n",
      "- User testing\n",
      "- Compliance testing\n",
      "- Quality assurance"
     ]
    },
    {
     "name": "stdout",
     "output_type": "stream",
     "text": [
      " testing\n",
      "- Compliance testing\n",
      "- Quality control\n",
      "- User testing\n",
      "-"
     ]
    },
    {
     "name": "stdout",
     "output_type": "stream",
     "text": [
      " Compliance testing[2025-05-04 16:55:18] Decode batch. #running-req: 1, #token: 3980, token usage: 0.19, gen throughput (token/s): 132.84, #queue-req: 0\n",
      "\n",
      "- Quality assurance testing\n",
      "- Compliance testing\n"
     ]
    },
    {
     "name": "stdout",
     "output_type": "stream",
     "text": [
      "- Quality control\n",
      "- User testing\n",
      "- Compliance testing\n",
      "- Quality assurance"
     ]
    },
    {
     "name": "stdout",
     "output_type": "stream",
     "text": [
      " testing\n",
      "- Compliance testing\n",
      "- Quality control\n",
      "- User"
     ]
    },
    {
     "name": "stdout",
     "output_type": "stream",
     "text": [
      " testing\n",
      "-[2025-05-04 16:55:18] Decode batch. #running-req: 1, #token: 4020, token usage: 0.20, gen throughput (token/s): 131.93, #queue-req: 0\n",
      " Compliance testing\n",
      "- Quality assurance testing\n",
      "- Compliance testing\n"
     ]
    },
    {
     "name": "stdout",
     "output_type": "stream",
     "text": [
      "- Quality control\n",
      "- User testing\n",
      "- Compliance testing\n"
     ]
    },
    {
     "name": "stdout",
     "output_type": "stream",
     "text": [
      "- Quality assurance testing\n",
      "- Compliance testing\n",
      "- Quality control\n",
      "- User"
     ]
    },
    {
     "name": "stdout",
     "output_type": "stream",
     "text": [
      " testing[2025-05-04 16:55:18] Decode batch. #running-req: 1, #token: 4060, token usage: 0.20, gen throughput (token/s): 133.21, #queue-req: 0\n",
      "\n",
      "- Compliance testing\n",
      "- Quality assurance testing\n",
      "-"
     ]
    },
    {
     "name": "stdout",
     "output_type": "stream",
     "text": [
      " Compliance testing\n",
      "- Quality control\n",
      "- User testing\n",
      "- Compliance testing"
     ]
    },
    {
     "name": "stdout",
     "output_type": "stream",
     "text": [
      "\n",
      "- Quality assurance testing\n",
      "- Compliance testing\n",
      "- Quality"
     ]
    },
    {
     "name": "stdout",
     "output_type": "stream",
     "text": [
      " control\n",
      "-[2025-05-04 16:55:19] Decode batch. #running-req: 1, #token: 4100, token usage: 0.20, gen throughput (token/s): 129.59, #queue-req: 0\n",
      " User testing\n",
      "- Compliance testing\n",
      "- Quality assurance testing\n",
      "- Compliance"
     ]
    },
    {
     "name": "stdout",
     "output_type": "stream",
     "text": [
      " testing\n",
      "- Quality control\n",
      "- User testing\n",
      "-"
     ]
    },
    {
     "name": "stdout",
     "output_type": "stream",
     "text": [
      " Compliance testing\n",
      "- Quality assurance testing\n",
      "- Compliance testing\n",
      "- Quality control[2025-05-04 16:55:19] Decode batch. #running-req: 1, #token: 4140, token usage: 0.20, gen throughput (token/s): 134.18, #queue-req: 0\n",
      "\n",
      "-"
     ]
    },
    {
     "name": "stdout",
     "output_type": "stream",
     "text": [
      " User testing\n",
      "- Compliance testing\n",
      "- Quality assurance testing"
     ]
    },
    {
     "name": "stdout",
     "output_type": "stream",
     "text": [
      "\n",
      "- Compliance testing\n",
      "- Quality control\n",
      "- User testing\n",
      "- Compliance testing\n"
     ]
    },
    {
     "name": "stdout",
     "output_type": "stream",
     "text": [
      "- Quality assurance testing\n",
      "- Compliance testing\n",
      "-[2025-05-04 16:55:19] Decode batch. #running-req: 1, #token: 4180, token usage: 0.20, gen throughput (token/s): 135.05, #queue-req: 0\n",
      " Quality"
     ]
    },
    {
     "name": "stdout",
     "output_type": "stream",
     "text": [
      " control\n",
      "- User testing\n",
      "- Compliance testing\n",
      "- Quality assurance testing\n",
      "- Compliance"
     ]
    },
    {
     "name": "stdout",
     "output_type": "stream",
     "text": [
      " testing\n",
      "- Quality control\n",
      "- User testing\n"
     ]
    },
    {
     "name": "stdout",
     "output_type": "stream",
     "text": [
      "- Compliance testing\n",
      "- Quality assurance testing\n",
      "- Compliance testing[2025-05-04 16:55:20] Decode batch. #running-req: 1, #token: 4220, token usage: 0.21, gen throughput (token/s): 133.68, #queue-req: 0\n",
      "\n",
      "- Quality control\n"
     ]
    },
    {
     "name": "stdout",
     "output_type": "stream",
     "text": [
      "- User testing\n",
      "- Compliance testing\n",
      "- Quality"
     ]
    },
    {
     "name": "stdout",
     "output_type": "stream",
     "text": [
      " assurance testing\n",
      "- Compliance testing\n",
      "- Quality control\n",
      "- User testing\n",
      "- Compliance"
     ]
    },
    {
     "name": "stdout",
     "output_type": "stream",
     "text": [
      " testing\n",
      "- Quality assurance testing\n",
      "-[2025-05-04 16:55:20] Decode batch. #running-req: 1, #token: 4260, token usage: 0.21, gen throughput (token/s): 132.13, #queue-req: 0\n",
      " Compliance testing"
     ]
    },
    {
     "name": "stdout",
     "output_type": "stream",
     "text": [
      "\n",
      "- Quality control\n",
      "- User testing\n",
      "- Compliance testing\n",
      "- Quality assurance testing"
     ]
    },
    {
     "name": "stdout",
     "output_type": "stream",
     "text": [
      "\n",
      "- Compliance testing\n",
      "- Quality control\n",
      "-"
     ]
    },
    {
     "name": "stdout",
     "output_type": "stream",
     "text": [
      " User testing\n",
      "- Compliance testing\n",
      "- Quality assurance testing[2025-05-04 16:55:20] Decode batch. #running-req: 1, #token: 4300, token usage: 0.21, gen throughput (token/s): 132.99, #queue-req: 0\n",
      "\n",
      "- Compliance testing\n",
      "-"
     ]
    },
    {
     "name": "stdout",
     "output_type": "stream",
     "text": [
      " Quality control\n",
      "- User testing\n",
      "- Compliance testing"
     ]
    },
    {
     "name": "stdout",
     "output_type": "stream",
     "text": [
      "\n",
      "- Quality assurance testing\n",
      "- Compliance testing\n",
      "- Quality control\n",
      "- User testing"
     ]
    },
    {
     "name": "stdout",
     "output_type": "stream",
     "text": [
      "\n",
      "- Compliance testing\n",
      "- Quality[2025-05-04 16:55:21] Decode batch. #running-req: 1, #token: 4340, token usage: 0.21, gen throughput (token/s): 134.20, #queue-req: 0\n",
      " assurance testing\n"
     ]
    },
    {
     "name": "stdout",
     "output_type": "stream",
     "text": [
      "- Compliance testing\n",
      "- Quality control\n",
      "- User testing\n",
      "- Compliance testing\n",
      "-"
     ]
    },
    {
     "name": "stdout",
     "output_type": "stream",
     "text": [
      " Quality assurance testing\n",
      "- Compliance testing\n",
      "- Quality"
     ]
    },
    {
     "name": "stdout",
     "output_type": "stream",
     "text": [
      " control\n",
      "- User testing\n",
      "- Compliance testing\n",
      "[2025-05-04 16:55:21] Decode batch. #running-req: 1, #token: 4380, token usage: 0.21, gen throughput (token/s): 132.91, #queue-req: 0\n",
      "- Quality assurance testing\n",
      "- Compliance"
     ]
    },
    {
     "name": "stdout",
     "output_type": "stream",
     "text": [
      " testing\n",
      "- Quality control\n",
      "- User testing\n"
     ]
    },
    {
     "name": "stdout",
     "output_type": "stream",
     "text": [
      "- Compliance testing\n",
      "- Quality assurance testing\n",
      "- Compliance testing\n",
      "- Quality control\n"
     ]
    },
    {
     "name": "stdout",
     "output_type": "stream",
     "text": [
      "- User testing\n",
      "- Compliance[2025-05-04 16:55:21] Decode batch. #running-req: 1, #token: 4420, token usage: 0.22, gen throughput (token/s): 130.10, #queue-req: 0\n",
      " testing\n",
      "- Quality"
     ]
    },
    {
     "name": "stdout",
     "output_type": "stream",
     "text": [
      " assurance testing\n",
      "- Compliance testing\n",
      "- Quality control\n",
      "- User testing\n",
      "-"
     ]
    },
    {
     "name": "stdout",
     "output_type": "stream",
     "text": [
      " Compliance testing\n",
      "- Quality assurance testing\n",
      "- Compliance testing"
     ]
    },
    {
     "name": "stdout",
     "output_type": "stream",
     "text": [
      "\n",
      "- Quality control\n",
      "- User testing\n",
      "[2025-05-04 16:55:21] Decode batch. #running-req: 1, #token: 4460, token usage: 0.22, gen throughput (token/s): 130.40, #queue-req: 0\n",
      "- Compliance testing\n",
      "- Quality assurance"
     ]
    },
    {
     "name": "stdout",
     "output_type": "stream",
     "text": [
      " testing\n",
      "- Compliance testing\n",
      "- Quality control\n",
      "-"
     ]
    },
    {
     "name": "stdout",
     "output_type": "stream",
     "text": [
      " User testing\n",
      "- Compliance testing\n",
      "- Quality assurance testing\n",
      "- Compliance testing\n"
     ]
    },
    {
     "name": "stdout",
     "output_type": "stream",
     "text": [
      "- Quality control\n",
      "- User[2025-05-04 16:55:22] Decode batch. #running-req: 1, #token: 4500, token usage: 0.22, gen throughput (token/s): 130.35, #queue-req: 0\n",
      " testing\n",
      "- Compliance testing"
     ]
    },
    {
     "name": "stdout",
     "output_type": "stream",
     "text": [
      "\n",
      "- Quality assurance testing\n",
      "- Compliance testing\n",
      "- Quality control\n",
      "-"
     ]
    },
    {
     "name": "stdout",
     "output_type": "stream",
     "text": [
      " User testing\n",
      "- Compliance testing\n",
      "- Quality assurance testing\n"
     ]
    },
    {
     "name": "stdout",
     "output_type": "stream",
     "text": [
      "- Compliance testing\n",
      "- Quality control\n",
      "[2025-05-04 16:55:22] Decode batch. #running-req: 1, #token: 4540, token usage: 0.22, gen throughput (token/s): 129.56, #queue-req: 0\n",
      "- User testing\n",
      "- Compliance testing"
     ]
    },
    {
     "name": "stdout",
     "output_type": "stream",
     "text": [
      "\n",
      "- Quality assurance testing\n",
      "- Compliance testing\n",
      "- Quality"
     ]
    },
    {
     "name": "stdout",
     "output_type": "stream",
     "text": [
      " control\n",
      "- User testing\n",
      "- Compliance testing\n",
      "- Quality assurance testing\n"
     ]
    },
    {
     "name": "stdout",
     "output_type": "stream",
     "text": [
      "- Compliance testing\n",
      "- Quality[2025-05-04 16:55:22] Decode batch. #running-req: 1, #token: 4580, token usage: 0.22, gen throughput (token/s): 130.30, #queue-req: 0\n",
      " control\n",
      "- User testing\n"
     ]
    },
    {
     "name": "stdout",
     "output_type": "stream",
     "text": [
      "- Compliance testing\n",
      "- Quality assurance testing\n",
      "- Compliance testing\n",
      "- Quality"
     ]
    },
    {
     "name": "stdout",
     "output_type": "stream",
     "text": [
      " control\n",
      "- User testing\n",
      "- Compliance testing\n",
      "- Quality"
     ]
    },
    {
     "name": "stdout",
     "output_type": "stream",
     "text": [
      " assurance testing\n",
      "- Compliance testing\n",
      "[2025-05-04 16:55:23] Decode batch. #running-req: 1, #token: 4620, token usage: 0.23, gen throughput (token/s): 126.64, #queue-req: 0\n",
      "- Quality control\n",
      "- User"
     ]
    },
    {
     "name": "stdout",
     "output_type": "stream",
     "text": [
      " testing\n",
      "- Compliance testing\n",
      "- Quality assurance testing\n",
      "- Compliance testing"
     ]
    },
    {
     "name": "stdout",
     "output_type": "stream",
     "text": [
      "\n",
      "- Quality control\n",
      "- User testing\n",
      "- Compliance testing\n"
     ]
    },
    {
     "name": "stdout",
     "output_type": "stream",
     "text": [
      "- Quality assurance testing\n",
      "- Compliance[2025-05-04 16:55:23] Decode batch. #running-req: 1, #token: 4660, token usage: 0.23, gen throughput (token/s): 132.09, #queue-req: 0\n",
      " testing\n",
      "- Quality control\n",
      "-"
     ]
    },
    {
     "name": "stdout",
     "output_type": "stream",
     "text": [
      " User testing\n",
      "- Compliance testing\n",
      "- Quality assurance testing\n",
      "-"
     ]
    },
    {
     "name": "stdout",
     "output_type": "stream",
     "text": [
      " Compliance testing\n",
      "- Quality control\n",
      "- User testing\n",
      "-"
     ]
    },
    {
     "name": "stdout",
     "output_type": "stream",
     "text": [
      " Compliance testing\n",
      "- Quality assurance testing\n",
      "[2025-05-04 16:55:23] Decode batch. #running-req: 1, #token: 4700, token usage: 0.23, gen throughput (token/s): 127.45, #queue-req: 0\n",
      "- Compliance testing\n",
      "- Quality control"
     ]
    },
    {
     "name": "stdout",
     "output_type": "stream",
     "text": [
      "\n",
      "- User testing\n",
      "- Compliance testing\n",
      "- Quality assurance"
     ]
    },
    {
     "name": "stdout",
     "output_type": "stream",
     "text": [
      " testing\n",
      "- Compliance testing\n",
      "- Quality control\n",
      "- User testing\n",
      "-"
     ]
    },
    {
     "name": "stdout",
     "output_type": "stream",
     "text": [
      " Compliance testing\n",
      "- Quality assurance[2025-05-04 16:55:24] Decode batch. #running-req: 1, #token: 4740, token usage: 0.23, gen throughput (token/s): 132.16, #queue-req: 0\n",
      " testing\n",
      "- Compliance testing\n"
     ]
    },
    {
     "name": "stdout",
     "output_type": "stream",
     "text": [
      "- Quality control\n",
      "- User testing\n",
      "- Compliance testing\n",
      "- Quality assurance"
     ]
    },
    {
     "name": "stdout",
     "output_type": "stream",
     "text": [
      " testing\n",
      "- Compliance testing\n",
      "- Quality control\n",
      "- User"
     ]
    },
    {
     "name": "stdout",
     "output_type": "stream",
     "text": [
      " testing\n",
      "- Compliance testing\n",
      "-[2025-05-04 16:55:24] Decode batch. #running-req: 1, #token: 4780, token usage: 0.23, gen throughput (token/s): 131.80, #queue-req: 0\n",
      " Quality assurance testing\n",
      "- Compliance testing\n"
     ]
    },
    {
     "name": "stdout",
     "output_type": "stream",
     "text": [
      "- Quality control\n",
      "- User testing\n",
      "- Compliance testing\n"
     ]
    },
    {
     "name": "stdout",
     "output_type": "stream",
     "text": [
      "- Quality assurance testing\n",
      "- Compliance testing\n",
      "- Quality control\n",
      "- User"
     ]
    },
    {
     "name": "stdout",
     "output_type": "stream",
     "text": [
      " testing\n",
      "- Compliance testing[2025-05-04 16:55:24] Decode batch. #running-req: 1, #token: 4820, token usage: 0.24, gen throughput (token/s): 132.03, #queue-req: 0\n",
      "\n",
      "- Quality assurance testing\n",
      "-"
     ]
    },
    {
     "name": "stdout",
     "output_type": "stream",
     "text": [
      " Compliance testing\n",
      "- Quality control\n",
      "- User testing\n",
      "- Compliance testing\n"
     ]
    },
    {
     "name": "stdout",
     "output_type": "stream",
     "text": [
      "- Quality assurance testing\n",
      "- Compliance testing\n",
      "- Quality control"
     ]
    },
    {
     "name": "stdout",
     "output_type": "stream",
     "text": [
      "\n",
      "- User testing\n",
      "-[2025-05-04 16:55:25] Decode batch. #running-req: 1, #token: 4860, token usage: 0.24, gen throughput (token/s): 131.03, #queue-req: 0\n",
      " Compliance testing\n",
      "- Quality assurance testing\n",
      "-"
     ]
    },
    {
     "name": "stdout",
     "output_type": "stream",
     "text": [
      " Compliance testing\n",
      "- Quality control\n",
      "- User testing\n",
      "-"
     ]
    },
    {
     "name": "stdout",
     "output_type": "stream",
     "text": [
      " Compliance testing\n",
      "- Quality assurance testing\n",
      "- Compliance testing\n",
      "- Quality control"
     ]
    },
    {
     "name": "stdout",
     "output_type": "stream",
     "text": [
      "\n",
      "- User testing[2025-05-04 16:55:25] Decode batch. #running-req: 1, #token: 4900, token usage: 0.24, gen throughput (token/s): 132.04, #queue-req: 0\n",
      "\n",
      "- Compliance testing\n",
      "- Quality assurance"
     ]
    },
    {
     "name": "stdout",
     "output_type": "stream",
     "text": [
      " testing\n",
      "- Compliance testing\n",
      "- Quality control\n",
      "- User testing\n",
      "-"
     ]
    },
    {
     "name": "stdout",
     "output_type": "stream",
     "text": [
      " Compliance testing\n",
      "- Quality assurance testing\n",
      "- Compliance testing\n"
     ]
    },
    {
     "name": "stdout",
     "output_type": "stream",
     "text": [
      "- Quality control\n",
      "-[2025-05-04 16:55:25] Decode batch. #running-req: 1, #token: 4940, token usage: 0.24, gen throughput (token/s): 131.60, #queue-req: 0\n",
      " User testing\n",
      "- Compliance testing\n",
      "- Quality assurance"
     ]
    },
    {
     "name": "stdout",
     "output_type": "stream",
     "text": [
      " testing\n",
      "- Compliance testing\n",
      "- Quality control\n",
      "- User"
     ]
    },
    {
     "name": "stdout",
     "output_type": "stream",
     "text": [
      " testing\n",
      "- Compliance testing\n",
      "- Quality assurance testing\n",
      "- Compliance testing\n"
     ]
    },
    {
     "name": "stdout",
     "output_type": "stream",
     "text": [
      "- Quality control[2025-05-04 16:55:25] Decode batch. #running-req: 1, #token: 4980, token usage: 0.24, gen throughput (token/s): 131.82, #queue-req: 0\n",
      "\n",
      "- User testing\n",
      "- Compliance testing\n"
     ]
    },
    {
     "name": "stdout",
     "output_type": "stream",
     "text": [
      "- Quality assurance testing\n",
      "- Compliance testing\n",
      "- Quality control\n",
      "- User"
     ]
    },
    {
     "name": "stdout",
     "output_type": "stream",
     "text": [
      " testing\n",
      "- Compliance testing\n",
      "- Quality assurance testing\n",
      "-"
     ]
    },
    {
     "name": "stdout",
     "output_type": "stream",
     "text": [
      " Compliance testing\n",
      "-[2025-05-04 16:55:26] Decode batch. #running-req: 1, #token: 5020, token usage: 0.25, gen throughput (token/s): 132.09, #queue-req: 0\n",
      " Quality control\n",
      "- User testing\n",
      "- Compliance testing\n"
     ]
    },
    {
     "name": "stdout",
     "output_type": "stream",
     "text": [
      "- Quality assurance testing\n",
      "- Compliance testing\n",
      "- Quality control"
     ]
    },
    {
     "name": "stdout",
     "output_type": "stream",
     "text": [
      "\n",
      "- User testing\n",
      "- Compliance testing\n",
      "- Quality assurance testing\n",
      "-"
     ]
    },
    {
     "name": "stdout",
     "output_type": "stream",
     "text": [
      " Compliance testing[2025-05-04 16:55:26] Decode batch. #running-req: 1, #token: 5060, token usage: 0.25, gen throughput (token/s): 132.22, #queue-req: 0\n",
      "\n",
      "- Quality control\n",
      "- User testing\n",
      "-"
     ]
    },
    {
     "name": "stdout",
     "output_type": "stream",
     "text": [
      " Compliance testing\n",
      "- Quality assurance testing\n",
      "- Compliance testing\n",
      "- Quality control"
     ]
    },
    {
     "name": "stdout",
     "output_type": "stream",
     "text": [
      "\n",
      "- User testing\n",
      "- Compliance testing\n",
      "- Quality assurance"
     ]
    },
    {
     "name": "stdout",
     "output_type": "stream",
     "text": [
      " testing\n",
      "-[2025-05-04 16:55:26] Decode batch. #running-req: 1, #token: 5100, token usage: 0.25, gen throughput (token/s): 132.32, #queue-req: 0\n",
      " Compliance testing\n",
      "- Quality control\n",
      "- User testing\n",
      "-"
     ]
    },
    {
     "name": "stdout",
     "output_type": "stream",
     "text": [
      " Compliance testing\n",
      "- Quality assurance testing\n",
      "- Compliance testing\n"
     ]
    },
    {
     "name": "stdout",
     "output_type": "stream",
     "text": [
      "- Quality control\n",
      "- User testing\n",
      "- Compliance testing\n",
      "- Quality assurance"
     ]
    },
    {
     "name": "stdout",
     "output_type": "stream",
     "text": [
      " testing[2025-05-04 16:55:27] Decode batch. #running-req: 1, #token: 5140, token usage: 0.25, gen throughput (token/s): 132.63, #queue-req: 0\n",
      "\n",
      "- Compliance testing\n",
      "- Quality control\n",
      "- User"
     ]
    },
    {
     "name": "stdout",
     "output_type": "stream",
     "text": [
      " testing\n",
      "- Compliance testing\n",
      "- Quality assurance testing\n",
      "- Compliance testing\n"
     ]
    },
    {
     "name": "stdout",
     "output_type": "stream",
     "text": [
      "- Quality control\n",
      "- User testing\n",
      "- Compliance testing\n"
     ]
    },
    {
     "name": "stdout",
     "output_type": "stream",
     "text": [
      "- Quality[2025-05-04 16:55:27] Decode batch. #running-req: 1, #token: 5180, token usage: 0.25, gen throughput (token/s): 131.49, #queue-req: 0\n",
      " assurance testing\n",
      "- Compliance testing\n",
      "- Quality control\n",
      "- User"
     ]
    },
    {
     "name": "stdout",
     "output_type": "stream",
     "text": [
      " testing\n",
      "- Compliance testing\n",
      "- Quality assurance testing\n",
      "-"
     ]
    },
    {
     "name": "stdout",
     "output_type": "stream",
     "text": [
      " Compliance testing\n",
      "- Quality control\n",
      "- User testing\n",
      "- Compliance testing\n"
     ]
    },
    {
     "name": "stdout",
     "output_type": "stream",
     "text": [
      "[2025-05-04 16:55:27] Decode batch. #running-req: 1, #token: 5220, token usage: 0.25, gen throughput (token/s): 131.89, #queue-req: 0\n",
      "- Quality assurance testing\n",
      "- Compliance testing\n",
      "- Quality"
     ]
    },
    {
     "name": "stdout",
     "output_type": "stream",
     "text": [
      " control\n",
      "- User testing\n",
      "- Compliance testing\n",
      "- Quality assurance"
     ]
    },
    {
     "name": "stdout",
     "output_type": "stream",
     "text": [
      " testing\n",
      "- Compliance testing\n",
      "- Quality control\n",
      "-"
     ]
    },
    {
     "name": "stdout",
     "output_type": "stream",
     "text": [
      " User testing\n",
      "- Compliance[2025-05-04 16:55:28] Decode batch. #running-req: 1, #token: 5260, token usage: 0.26, gen throughput (token/s): 121.84, #queue-req: 0\n",
      " testing\n",
      "- Quality assurance testing\n",
      "- Compliance testing\n"
     ]
    },
    {
     "name": "stdout",
     "output_type": "stream",
     "text": [
      "- Quality control\n",
      "- User testing\n",
      "- Compliance testing"
     ]
    },
    {
     "name": "stdout",
     "output_type": "stream",
     "text": [
      "\n",
      "- Quality assurance testing\n",
      "- Compliance testing\n",
      "- Quality control\n",
      "- User"
     ]
    },
    {
     "name": "stdout",
     "output_type": "stream",
     "text": [
      " testing\n",
      "[2025-05-04 16:55:28] Decode batch. #running-req: 1, #token: 5300, token usage: 0.26, gen throughput (token/s): 131.62, #queue-req: 0\n",
      "- Compliance testing\n",
      "- Quality assurance testing\n"
     ]
    },
    {
     "name": "stdout",
     "output_type": "stream",
     "text": [
      "- Compliance testing\n",
      "- Quality control\n",
      "- User testing\n",
      "- Compliance testing\n"
     ]
    },
    {
     "name": "stdout",
     "output_type": "stream",
     "text": [
      "- Quality assurance testing\n",
      "- Compliance testing\n",
      "- Quality"
     ]
    },
    {
     "name": "stdout",
     "output_type": "stream",
     "text": [
      " control\n",
      "- User[2025-05-04 16:55:28] Decode batch. #running-req: 1, #token: 5340, token usage: 0.26, gen throughput (token/s): 130.34, #queue-req: 0\n",
      " testing\n",
      "- Compliance testing\n",
      "- Quality assurance testing\n"
     ]
    },
    {
     "name": "stdout",
     "output_type": "stream",
     "text": [
      "- Compliance testing\n",
      "- Quality control\n",
      "- User testing\n"
     ]
    },
    {
     "name": "stdout",
     "output_type": "stream",
     "text": [
      "- Compliance testing\n",
      "- Quality assurance testing\n",
      "- Compliance testing\n",
      "- Quality"
     ]
    },
    {
     "name": "stdout",
     "output_type": "stream",
     "text": [
      " control\n",
      "[2025-05-04 16:55:29] Decode batch. #running-req: 1, #token: 5380, token usage: 0.26, gen throughput (token/s): 131.03, #queue-req: 0\n",
      "- User testing\n",
      "- Compliance testing\n",
      "- Quality"
     ]
    },
    {
     "name": "stdout",
     "output_type": "stream",
     "text": [
      " assurance testing\n",
      "- Compliance testing\n",
      "- Quality control\n",
      "- User testing\n"
     ]
    },
    {
     "name": "stdout",
     "output_type": "stream",
     "text": [
      "- Compliance testing\n",
      "- Quality assurance testing\n",
      "- Compliance testing"
     ]
    },
    {
     "name": "stdout",
     "output_type": "stream",
     "text": [
      "\n",
      "- Quality[2025-05-04 16:55:29] Decode batch. #running-req: 1, #token: 5420, token usage: 0.26, gen throughput (token/s): 130.05, #queue-req: 0\n",
      " control\n",
      "- User testing\n",
      "- Compliance testing\n",
      "-"
     ]
    },
    {
     "name": "stdout",
     "output_type": "stream",
     "text": [
      " Quality assurance testing\n",
      "- Compliance testing\n",
      "- Quality control\n"
     ]
    },
    {
     "name": "stdout",
     "output_type": "stream",
     "text": [
      "- User testing\n",
      "- Compliance testing\n",
      "- Quality assurance testing\n",
      "-"
     ]
    },
    {
     "name": "stdout",
     "output_type": "stream",
     "text": [
      " Compliance testing\n",
      "[2025-05-04 16:55:29] Decode batch. #running-req: 1, #token: 5460, token usage: 0.27, gen throughput (token/s): 128.90, #queue-req: 0\n",
      "- Quality control\n",
      "- User testing\n",
      "-"
     ]
    },
    {
     "name": "stdout",
     "output_type": "stream",
     "text": [
      " Compliance testing\n",
      "- Quality assurance testing\n",
      "- Compliance testing\n",
      "- Quality"
     ]
    },
    {
     "name": "stdout",
     "output_type": "stream",
     "text": [
      " control\n",
      "- User testing\n",
      "- Compliance testing\n",
      "- Quality assurance"
     ]
    },
    {
     "name": "stdout",
     "output_type": "stream",
     "text": [
      " testing\n",
      "- Compliance[2025-05-04 16:55:29] Decode batch. #running-req: 1, #token: 5500, token usage: 0.27, gen throughput (token/s): 129.66, #queue-req: 0\n",
      " testing\n",
      "- Quality control\n",
      "- User testing"
     ]
    },
    {
     "name": "stdout",
     "output_type": "stream",
     "text": [
      "\n",
      "- Compliance testing\n",
      "- Quality assurance testing\n",
      "- Compliance testing"
     ]
    },
    {
     "name": "stdout",
     "output_type": "stream",
     "text": [
      "\n",
      "- Quality control\n",
      "- User testing\n",
      "- Compliance testing\n",
      "-"
     ]
    },
    {
     "name": "stdout",
     "output_type": "stream",
     "text": [
      " Quality assurance testing\n",
      "[2025-05-04 16:55:30] Decode batch. #running-req: 1, #token: 5540, token usage: 0.27, gen throughput (token/s): 129.19, #queue-req: 0\n",
      "- Compliance testing\n",
      "- Quality control\n",
      "-"
     ]
    },
    {
     "name": "stdout",
     "output_type": "stream",
     "text": [
      " User testing\n",
      "- Compliance testing\n",
      "- Quality assurance testing\n",
      "- Compliance"
     ]
    },
    {
     "name": "stdout",
     "output_type": "stream",
     "text": [
      " testing\n",
      "- Quality control\n",
      "- User testing\n",
      "- Compliance testing"
     ]
    },
    {
     "name": "stdout",
     "output_type": "stream",
     "text": [
      "\n",
      "- Quality assurance[2025-05-04 16:55:30] Decode batch. #running-req: 1, #token: 5580, token usage: 0.27, gen throughput (token/s): 129.86, #queue-req: 0\n",
      " testing\n",
      "- Compliance testing\n",
      "- Quality control"
     ]
    },
    {
     "name": "stdout",
     "output_type": "stream",
     "text": [
      "\n",
      "- User testing\n",
      "- Compliance testing\n",
      "- Quality assurance testing\n"
     ]
    },
    {
     "name": "stdout",
     "output_type": "stream",
     "text": [
      "- Compliance testing\n",
      "- Quality control\n",
      "- User testing\n",
      "-"
     ]
    },
    {
     "name": "stdout",
     "output_type": "stream",
     "text": [
      " Compliance testing\n",
      "-[2025-05-04 16:55:30] Decode batch. #running-req: 1, #token: 5620, token usage: 0.27, gen throughput (token/s): 131.63, #queue-req: 0\n",
      " Quality assurance testing\n",
      "- Compliance testing\n",
      "- Quality"
     ]
    },
    {
     "name": "stdout",
     "output_type": "stream",
     "text": [
      " control\n",
      "- User testing\n",
      "- Compliance testing\n",
      "- Quality assurance"
     ]
    },
    {
     "name": "stdout",
     "output_type": "stream",
     "text": [
      " testing\n",
      "- Compliance testing\n",
      "- Quality control\n",
      "- User testing\n"
     ]
    },
    {
     "name": "stdout",
     "output_type": "stream",
     "text": [
      "- Compliance testing[2025-05-04 16:55:31] Decode batch. #running-req: 1, #token: 5660, token usage: 0.28, gen throughput (token/s): 131.64, #queue-req: 0\n",
      "\n",
      "- Quality assurance testing\n",
      "- Compliance testing\n"
     ]
    },
    {
     "name": "stdout",
     "output_type": "stream",
     "text": [
      "- Quality control\n",
      "- User testing\n",
      "- Compliance testing\n",
      "- Quality"
     ]
    },
    {
     "name": "stdout",
     "output_type": "stream",
     "text": [
      " assurance testing\n",
      "- Compliance testing\n",
      "- Quality control\n",
      "- User"
     ]
    },
    {
     "name": "stdout",
     "output_type": "stream",
     "text": [
      " testing\n",
      "-[2025-05-04 16:55:31] Decode batch. #running-req: 1, #token: 5700, token usage: 0.28, gen throughput (token/s): 131.10, #queue-req: 0\n",
      " Compliance testing\n",
      "- Quality assurance testing\n",
      "- Compliance testing"
     ]
    },
    {
     "name": "stdout",
     "output_type": "stream",
     "text": [
      "\n",
      "- Quality control\n",
      "- User testing\n",
      "- Compliance testing\n"
     ]
    },
    {
     "name": "stdout",
     "output_type": "stream",
     "text": [
      "- Quality assurance testing\n",
      "- Compliance testing\n",
      "- Quality control\n",
      "-"
     ]
    },
    {
     "name": "stdout",
     "output_type": "stream",
     "text": [
      " User testing[2025-05-04 16:55:31] Decode batch. #running-req: 1, #token: 5740, token usage: 0.28, gen throughput (token/s): 132.01, #queue-req: 0\n",
      "\n",
      "- Compliance testing\n",
      "- Quality assurance testing\n",
      "-"
     ]
    },
    {
     "name": "stdout",
     "output_type": "stream",
     "text": [
      " Compliance testing\n",
      "- Quality control\n",
      "- User testing\n",
      "- Compliance testing"
     ]
    },
    {
     "name": "stdout",
     "output_type": "stream",
     "text": [
      "\n",
      "- Quality assurance testing\n",
      "- Compliance testing\n",
      "- Quality control"
     ]
    },
    {
     "name": "stdout",
     "output_type": "stream",
     "text": [
      "\n",
      "-[2025-05-04 16:55:32] Decode batch. #running-req: 1, #token: 5780, token usage: 0.28, gen throughput (token/s): 131.05, #queue-req: 0\n",
      " User testing\n",
      "- Compliance testing\n",
      "- Quality assurance testing\n"
     ]
    },
    {
     "name": "stdout",
     "output_type": "stream",
     "text": [
      "- Compliance testing\n",
      "- Quality control\n",
      "- User testing\n",
      "-"
     ]
    },
    {
     "name": "stdout",
     "output_type": "stream",
     "text": [
      " Compliance testing\n",
      "- Quality assurance testing\n",
      "- Compliance testing\n",
      "- Quality"
     ]
    },
    {
     "name": "stdout",
     "output_type": "stream",
     "text": [
      " control[2025-05-04 16:55:32] Decode batch. #running-req: 1, #token: 5820, token usage: 0.28, gen throughput (token/s): 130.80, #queue-req: 0\n",
      "\n",
      "- User testing\n",
      "- Compliance testing\n",
      "- Quality assurance"
     ]
    },
    {
     "name": "stdout",
     "output_type": "stream",
     "text": [
      " testing\n",
      "- Compliance testing\n",
      "- Quality control\n",
      "- User testing\n"
     ]
    },
    {
     "name": "stdout",
     "output_type": "stream",
     "text": [
      "- Compliance testing\n",
      "- Quality assurance testing\n",
      "- Compliance testing\n"
     ]
    },
    {
     "name": "stdout",
     "output_type": "stream",
     "text": [
      "-[2025-05-04 16:55:32] Decode batch. #running-req: 1, #token: 5860, token usage: 0.29, gen throughput (token/s): 131.73, #queue-req: 0\n",
      " Quality control\n",
      "- User testing\n",
      "- Compliance testing\n",
      "- Quality"
     ]
    },
    {
     "name": "stdout",
     "output_type": "stream",
     "text": [
      " assurance testing\n",
      "- Compliance testing\n",
      "- Quality control\n",
      "-"
     ]
    },
    {
     "name": "stdout",
     "output_type": "stream",
     "text": [
      " User testing\n",
      "- Compliance testing\n",
      "- Quality assurance testing\n",
      "- Compliance"
     ]
    },
    {
     "name": "stdout",
     "output_type": "stream",
     "text": [
      " testing[2025-05-04 16:55:32] Decode batch. #running-req: 1, #token: 5900, token usage: 0.29, gen throughput (token/s): 128.58, #queue-req: 0\n",
      "\n",
      "- Quality control\n",
      "- User testing\n",
      "- Compliance testing"
     ]
    },
    {
     "name": "stdout",
     "output_type": "stream",
     "text": [
      "\n",
      "- Quality assurance testing\n",
      "- Compliance testing\n",
      "- Quality control\n"
     ]
    },
    {
     "name": "stdout",
     "output_type": "stream",
     "text": [
      "- User testing\n",
      "- Compliance testing\n",
      "- Quality assurance testing\n"
     ]
    },
    {
     "name": "stdout",
     "output_type": "stream",
     "text": [
      "-[2025-05-04 16:55:33] Decode batch. #running-req: 1, #token: 5940, token usage: 0.29, gen throughput (token/s): 131.84, #queue-req: 0\n",
      " Compliance testing\n",
      "- Quality control\n",
      "- User testing\n",
      "- Compliance"
     ]
    },
    {
     "name": "stdout",
     "output_type": "stream",
     "text": [
      " testing\n",
      "- Quality assurance testing\n",
      "- Compliance testing\n",
      "- Quality"
     ]
    },
    {
     "name": "stdout",
     "output_type": "stream",
     "text": [
      " control\n",
      "- User testing\n",
      "- Compliance testing\n",
      "- Quality assurance testing"
     ]
    },
    {
     "name": "stdout",
     "output_type": "stream",
     "text": [
      "[2025-05-04 16:55:33] Decode batch. #running-req: 1, #token: 5980, token usage: 0.29, gen throughput (token/s): 132.80, #queue-req: 0\n",
      "\n",
      "- Compliance testing\n",
      "- Quality control\n",
      "- User testing\n"
     ]
    },
    {
     "name": "stdout",
     "output_type": "stream",
     "text": [
      "- Compliance testing\n",
      "- Quality assurance testing\n",
      "- Compliance testing\n",
      "-"
     ]
    },
    {
     "name": "stdout",
     "output_type": "stream",
     "text": [
      " Quality control\n",
      "- User testing\n",
      "- Compliance testing\n",
      "- Quality"
     ]
    },
    {
     "name": "stdout",
     "output_type": "stream",
     "text": [
      "[2025-05-04 16:55:33] Decode batch. #running-req: 1, #token: 6020, token usage: 0.29, gen throughput (token/s): 133.22, #queue-req: 0\n",
      " assurance testing\n",
      "- Compliance testing\n",
      "- Quality control\n",
      "- User testing\n"
     ]
    },
    {
     "name": "stdout",
     "output_type": "stream",
     "text": [
      "- Compliance testing\n",
      "- Quality assurance testing\n",
      "- Compliance testing"
     ]
    },
    {
     "name": "stdout",
     "output_type": "stream",
     "text": [
      "\n",
      "- Quality control\n",
      "- User testing\n",
      "- Compliance testing\n",
      "[2025-05-04 16:55:34] Decode batch. #running-req: 1, #token: 6060, token usage: 0.30, gen throughput (token/s): 132.22, #queue-req: 0\n",
      "- Quality"
     ]
    },
    {
     "name": "stdout",
     "output_type": "stream",
     "text": [
      " assurance testing\n",
      "- Compliance testing\n",
      "- Quality"
     ]
    },
    {
     "name": "stdout",
     "output_type": "stream",
     "text": [
      " control\n",
      "- User testing\n",
      "- Compliance testing\n",
      "- Quality assurance testing\n",
      "- Compliance testing\n",
      "- Quality control\n"
     ]
    },
    {
     "name": "stdout",
     "output_type": "stream",
     "text": [
      "- User testing\n"
     ]
    },
    {
     "name": "stdout",
     "output_type": "stream",
     "text": [
      "- Compliance[2025-05-04 16:55:34] Decode batch. #running-req: 1, #token: 6100, token usage: 0.30, gen throughput (token/s): 125.15, #queue-req: 0\n",
      " testing\n",
      "- Quality assurance testing\n",
      "- Compliance testing\n",
      "- Quality control\n",
      "- User testing\n",
      "- Compliance"
     ]
    },
    {
     "name": "stdout",
     "output_type": "stream",
     "text": [
      " testing\n",
      "- Quality"
     ]
    },
    {
     "name": "stdout",
     "output_type": "stream",
     "text": [
      " assurance testing\n",
      "- Compliance testing\n",
      "- Quality control\n",
      "- User testing\n",
      "[2025-05-04 16:55:34] Decode batch. #running-req: 1, #token: 6140, token usage: 0.30, gen throughput (token/s): 133.47, #queue-req: 0\n",
      "- Compliance testing\n",
      "- Quality assurance testing"
     ]
    },
    {
     "name": "stdout",
     "output_type": "stream",
     "text": [
      "\n",
      "- Compliance testing"
     ]
    },
    {
     "name": "stdout",
     "output_type": "stream",
     "text": [
      "\n",
      "- Quality control\n",
      "- User testing\n",
      "- Compliance testing\n",
      "- Quality assurance testing\n",
      "- Compliance testing\n",
      "-"
     ]
    },
    {
     "name": "stdout",
     "output_type": "stream",
     "text": [
      " Quality control\n",
      "-"
     ]
    },
    {
     "name": "stdout",
     "output_type": "stream",
     "text": [
      " User[2025-05-04 16:55:35] Decode batch. #running-req: 1, #token: 6180, token usage: 0.30, gen throughput (token/s): 133.19, #queue-req: 0\n",
      " testing\n",
      "- Compliance testing\n",
      "- Quality assurance testing\n",
      "- Compliance testing\n",
      "- Quality control\n",
      "- User testing"
     ]
    },
    {
     "name": "stdout",
     "output_type": "stream",
     "text": [
      "\n",
      "- Compliance testing"
     ]
    },
    {
     "name": "stdout",
     "output_type": "stream",
     "text": [
      "\n",
      "- Quality assurance testing\n",
      "- Compliance testing\n",
      "- Quality control\n",
      "[2025-05-04 16:55:35] Decode batch. #running-req: 1, #token: 6220, token usage: 0.30, gen throughput (token/s): 132.57, #queue-req: 0\n",
      "- User testing\n",
      "- Compliance testing\n",
      "-"
     ]
    },
    {
     "name": "stdout",
     "output_type": "stream",
     "text": [
      " Quality assurance testing\n"
     ]
    },
    {
     "name": "stdout",
     "output_type": "stream",
     "text": [
      "- Compliance testing\n",
      "- Quality control\n",
      "- User testing\n",
      "- Compliance testing\n",
      "- Quality assurance testing\n",
      "- Compliance"
     ]
    },
    {
     "name": "stdout",
     "output_type": "stream",
     "text": [
      " testing\n",
      "- Quality"
     ]
    },
    {
     "name": "stdout",
     "output_type": "stream",
     "text": [
      "[2025-05-04 16:55:35] Decode batch. #running-req: 1, #token: 6260, token usage: 0.31, gen throughput (token/s): 131.77, #queue-req: 0\n",
      " control\n",
      "- User testing\n",
      "- Compliance testing\n",
      "- Quality assurance testing\n",
      "- Compliance testing\n",
      "- Quality control\n"
     ]
    },
    {
     "name": "stdout",
     "output_type": "stream",
     "text": [
      "- User testing\n"
     ]
    },
    {
     "name": "stdout",
     "output_type": "stream",
     "text": [
      "- Compliance testing\n",
      "- Quality assurance testing\n",
      "- Compliance testing\n",
      "[2025-05-04 16:55:36] Decode batch. #running-req: 1, #token: 6300, token usage: 0.31, gen throughput (token/s): 133.02, #queue-req: 0\n",
      "- Quality control\n",
      "- User testing\n",
      "- Compliance"
     ]
    },
    {
     "name": "stdout",
     "output_type": "stream",
     "text": [
      " testing\n",
      "- Quality"
     ]
    },
    {
     "name": "stdout",
     "output_type": "stream",
     "text": [
      " assurance testing\n",
      "- Compliance testing\n",
      "- Quality control\n",
      "- User testing\n",
      "- Compliance testing\n",
      "- Quality assurance testing"
     ]
    },
    {
     "name": "stdout",
     "output_type": "stream",
     "text": [
      "\n",
      "- Compliance[2025-05-04 16:55:36] Decode batch. #running-req: 1, #token: 6340, token usage: 0.31, gen throughput (token/s): 132.89, #queue-req: 0\n",
      " testing"
     ]
    },
    {
     "name": "stdout",
     "output_type": "stream",
     "text": [
      "\n",
      "- Quality control\n",
      "- User testing\n",
      "- Compliance testing\n",
      "- Quality assurance testing\n",
      "- Compliance testing\n",
      "-"
     ]
    },
    {
     "name": "stdout",
     "output_type": "stream",
     "text": [
      " Quality control\n",
      "-"
     ]
    },
    {
     "name": "stdout",
     "output_type": "stream",
     "text": [
      " User testing\n",
      "- Compliance testing\n",
      "- Quality assurance testing\n",
      "[2025-05-04 16:55:36] Decode batch. #running-req: 1, #token: 6380, token usage: 0.31, gen throughput (token/s): 126.44, #queue-req: 0\n",
      "- Compliance testing\n",
      "- Quality control\n"
     ]
    },
    {
     "name": "stdout",
     "output_type": "stream",
     "text": [
      "- User testing\n",
      "-"
     ]
    },
    {
     "name": "stdout",
     "output_type": "stream",
     "text": [
      " Compliance testing\n",
      "- Quality assurance testing\n",
      "- Compliance testing\n",
      "- Quality control\n",
      "- User testing\n",
      "- Compliance"
     ]
    },
    {
     "name": "stdout",
     "output_type": "stream",
     "text": [
      " testing\n",
      "- Quality assurance"
     ]
    },
    {
     "name": "stdout",
     "output_type": "stream",
     "text": [
      "[2025-05-04 16:55:36] Decode batch. #running-req: 1, #token: 6420, token usage: 0.31, gen throughput (token/s): 129.76, #queue-req: 0\n",
      " testing\n",
      "- Compliance testing\n",
      "- Quality control\n",
      "- User testing\n",
      "- Compliance testing\n",
      "- Quality assurance testing"
     ]
    },
    {
     "name": "stdout",
     "output_type": "stream",
     "text": [
      "\n",
      "- Compliance testing\n"
     ]
    },
    {
     "name": "stdout",
     "output_type": "stream",
     "text": [
      "- Quality control\n",
      "- User testing\n",
      "- Compliance testing\n",
      "-[2025-05-04 16:55:37] Decode batch. #running-req: 1, #token: 6460, token usage: 0.32, gen throughput (token/s): 132.80, #queue-req: 0\n",
      " Quality assurance testing\n",
      "- Compliance testing\n",
      "-"
     ]
    },
    {
     "name": "stdout",
     "output_type": "stream",
     "text": [
      " Quality control\n",
      "- User testing"
     ]
    },
    {
     "name": "stdout",
     "output_type": "stream",
     "text": [
      "\n",
      "- Compliance testing\n",
      "- Quality assurance testing\n",
      "- Compliance testing\n",
      "- Quality control\n",
      "- User testing\n"
     ]
    },
    {
     "name": "stdout",
     "output_type": "stream",
     "text": [
      "- Compliance testing[2025-05-04 16:55:37] Decode batch. #running-req: 1, #token: 6500, token usage: 0.32, gen throughput (token/s): 134.22, #queue-req: 0\n",
      "\n",
      "- Quality"
     ]
    },
    {
     "name": "stdout",
     "output_type": "stream",
     "text": [
      " assurance testing\n",
      "- Compliance testing\n",
      "- Quality control\n",
      "- User testing\n",
      "- Compliance testing\n",
      "- Quality assurance"
     ]
    },
    {
     "name": "stdout",
     "output_type": "stream",
     "text": [
      " testing\n",
      "- Compliance testing"
     ]
    },
    {
     "name": "stdout",
     "output_type": "stream",
     "text": [
      "\n",
      "- Quality control\n",
      "- User testing\n",
      "-[2025-05-04 16:55:37] Decode batch. #running-req: 1, #token: 6540, token usage: 0.32, gen throughput (token/s): 133.28, #queue-req: 0\n",
      " Compliance testing\n",
      "- Quality assurance testing\n",
      "- Compliance testing\n"
     ]
    },
    {
     "name": "stdout",
     "output_type": "stream",
     "text": [
      "- Quality control\n",
      "-"
     ]
    },
    {
     "name": "stdout",
     "output_type": "stream",
     "text": [
      " User testing\n",
      "- Compliance testing\n",
      "- Quality assurance testing\n",
      "- Compliance testing\n",
      "- Quality control\n"
     ]
    },
    {
     "name": "stdout",
     "output_type": "stream",
     "text": [
      "- User testing[2025-05-04 16:55:38] Decode batch. #running-req: 1, #token: 6580, token usage: 0.32, gen throughput (token/s): 124.48, #queue-req: 0\n",
      "\n",
      "-"
     ]
    },
    {
     "name": "stdout",
     "output_type": "stream",
     "text": [
      " Compliance testing\n",
      "- Quality assurance testing\n",
      "- Compliance testing\n",
      "- Quality control\n",
      "- User testing\n",
      "- Compliance"
     ]
    },
    {
     "name": "stdout",
     "output_type": "stream",
     "text": [
      " testing\n",
      "- Quality assurance"
     ]
    },
    {
     "name": "stdout",
     "output_type": "stream",
     "text": [
      " testing\n",
      "- Compliance testing\n",
      "- Quality control\n",
      "-[2025-05-04 16:55:38] Decode batch. #running-req: 1, #token: 6620, token usage: 0.32, gen throughput (token/s): 132.56, #queue-req: 0\n",
      " User testing\n",
      "- Compliance testing\n",
      "- Quality assurance testing"
     ]
    },
    {
     "name": "stdout",
     "output_type": "stream",
     "text": [
      "\n",
      "- Compliance testing\n"
     ]
    },
    {
     "name": "stdout",
     "output_type": "stream",
     "text": [
      "- Quality control\n",
      "- User testing\n",
      "- Compliance testing\n",
      "- Quality assurance testing\n",
      "- Compliance testing\n"
     ]
    },
    {
     "name": "stdout",
     "output_type": "stream",
     "text": [
      "- Quality control[2025-05-04 16:55:38] Decode batch. #running-req: 1, #token: 6660, token usage: 0.33, gen throughput (token/s): 129.55, #queue-req: 0\n",
      "\n",
      "-"
     ]
    },
    {
     "name": "stdout",
     "output_type": "stream",
     "text": [
      " User testing\n",
      "- Compliance testing\n",
      "- Quality assurance testing\n",
      "- Compliance testing\n",
      "- Quality control\n",
      "- User"
     ]
    },
    {
     "name": "stdout",
     "output_type": "stream",
     "text": [
      " testing\n",
      "- Compliance testing"
     ]
    },
    {
     "name": "stdout",
     "output_type": "stream",
     "text": [
      "\n",
      "- Quality assurance testing\n",
      "- Compliance testing\n",
      "-[2025-05-04 16:55:39] Decode batch. #running-req: 1, #token: 6700, token usage: 0.33, gen throughput (token/s): 132.53, #queue-req: 0\n",
      " Quality control\n",
      "- User testing\n",
      "- Compliance testing\n"
     ]
    },
    {
     "name": "stdout",
     "output_type": "stream",
     "text": [
      "- Quality assurance testing\n"
     ]
    },
    {
     "name": "stdout",
     "output_type": "stream",
     "text": [
      "- Compliance testing\n",
      "- Quality control\n",
      "- User testing\n",
      "- Compliance testing\n",
      "- Quality assurance testing\n",
      "-"
     ]
    },
    {
     "name": "stdout",
     "output_type": "stream",
     "text": [
      " Compliance testing[2025-05-04 16:55:39] Decode batch. #running-req: 1, #token: 6740, token usage: 0.33, gen throughput (token/s): 132.75, #queue-req: 0\n",
      "\n",
      "- Quality"
     ]
    },
    {
     "name": "stdout",
     "output_type": "stream",
     "text": [
      " control\n",
      "- User testing\n",
      "- Compliance testing\n",
      "- Quality assurance testing\n",
      "- Compliance testing\n",
      "- Quality control"
     ]
    },
    {
     "name": "stdout",
     "output_type": "stream",
     "text": [
      "\n",
      "- User testing\n"
     ]
    },
    {
     "name": "stdout",
     "output_type": "stream",
     "text": [
      "- Compliance testing\n",
      "- Quality assurance testing\n",
      "-[2025-05-04 16:55:39] Decode batch. #running-req: 1, #token: 6780, token usage: 0.33, gen throughput (token/s): 131.62, #queue-req: 0\n",
      " Compliance testing\n",
      "- Quality control\n",
      "- User testing\n",
      "-"
     ]
    },
    {
     "name": "stdout",
     "output_type": "stream",
     "text": [
      " Compliance testing\n",
      "-"
     ]
    },
    {
     "name": "stdout",
     "output_type": "stream",
     "text": [
      " Quality assurance testing\n",
      "- Compliance testing\n",
      "- Quality control\n",
      "- User testing\n",
      "- Compliance testing\n",
      "- Quality"
     ]
    },
    {
     "name": "stdout",
     "output_type": "stream",
     "text": [
      " assurance testing[2025-05-04 16:55:39] Decode batch. #running-req: 1, #token: 6820, token usage: 0.33, gen throughput (token/s): 129.11, #queue-req: 0\n",
      "\n",
      "- Compliance"
     ]
    },
    {
     "name": "stdout",
     "output_type": "stream",
     "text": [
      " testing\n",
      "- Quality control\n",
      "- User testing\n",
      "- Compliance testing\n",
      "- Quality assurance testing\n",
      "- Compliance"
     ]
    },
    {
     "name": "stdout",
     "output_type": "stream",
     "text": [
      " testing\n",
      "- Quality control"
     ]
    },
    {
     "name": "stdout",
     "output_type": "stream",
     "text": [
      "\n",
      "- User testing\n",
      "- Compliance testing\n",
      "- Quality[2025-05-04 16:55:40] Decode batch. #running-req: 1, #token: 6860, token usage: 0.33, gen throughput (token/s): 129.78, #queue-req: 0\n",
      " assurance testing\n",
      "- Compliance testing\n",
      "- Quality control\n"
     ]
    },
    {
     "name": "stdout",
     "output_type": "stream",
     "text": [
      "- User testing\n",
      "-"
     ]
    },
    {
     "name": "stdout",
     "output_type": "stream",
     "text": [
      " Compliance testing\n",
      "- Quality assurance testing\n",
      "- Compliance testing\n",
      "- Quality control\n",
      "- User testing\n",
      "-"
     ]
    },
    {
     "name": "stdout",
     "output_type": "stream",
     "text": [
      " Compliance testing\n",
      "[2025-05-04 16:55:40] Decode batch. #running-req: 1, #token: 6900, token usage: 0.34, gen throughput (token/s): 129.37, #queue-req: 0\n",
      "- Quality"
     ]
    },
    {
     "name": "stdout",
     "output_type": "stream",
     "text": [
      " assurance testing\n",
      "- Compliance testing\n",
      "- Quality control\n",
      "- User testing\n",
      "- Compliance testing\n",
      "- Quality assurance"
     ]
    },
    {
     "name": "stdout",
     "output_type": "stream",
     "text": [
      " testing\n",
      "- Compliance"
     ]
    },
    {
     "name": "stdout",
     "output_type": "stream",
     "text": [
      " testing\n",
      "- Quality control\n",
      "- User testing\n",
      "- Compliance[2025-05-04 16:55:40] Decode batch. #running-req: 1, #token: 6940, token usage: 0.34, gen throughput (token/s): 129.59, #queue-req: 0\n",
      " testing\n",
      "- Quality assurance testing\n",
      "- Compliance testing\n"
     ]
    },
    {
     "name": "stdout",
     "output_type": "stream",
     "text": [
      "- Quality control\n"
     ]
    },
    {
     "name": "stdout",
     "output_type": "stream",
     "text": [
      "- User testing\n",
      "- Compliance testing\n",
      "- Quality assurance testing\n",
      "- Compliance testing\n",
      "- Quality control\n",
      "- User"
     ]
    },
    {
     "name": "stdout",
     "output_type": "stream",
     "text": [
      " testing\n",
      "[2025-05-04 16:55:41] Decode batch. #running-req: 1, #token: 6980, token usage: 0.34, gen throughput (token/s): 130.15, #queue-req: 0\n",
      "-"
     ]
    },
    {
     "name": "stdout",
     "output_type": "stream",
     "text": [
      " Compliance testing\n",
      "- Quality assurance testing\n",
      "- Compliance testing\n",
      "- Quality control\n",
      "- User testing\n",
      "- Compliance testing\n"
     ]
    },
    {
     "name": "stdout",
     "output_type": "stream",
     "text": [
      "- Quality assurance"
     ]
    },
    {
     "name": "stdout",
     "output_type": "stream",
     "text": [
      " testing\n",
      "- Compliance testing\n",
      "- Quality control\n",
      "- User[2025-05-04 16:55:41] Decode batch. #running-req: 1, #token: 7020, token usage: 0.34, gen throughput (token/s): 129.73, #queue-req: 0\n",
      " testing\n",
      "- Compliance testing\n",
      "- Quality assurance testing\n",
      "-"
     ]
    },
    {
     "name": "stdout",
     "output_type": "stream",
     "text": [
      " Compliance testing"
     ]
    },
    {
     "name": "stdout",
     "output_type": "stream",
     "text": [
      "\n",
      "- Quality control\n",
      "- User testing\n",
      "- Compliance testing\n",
      "- Quality assurance testing\n",
      "- Compliance testing\n",
      "- Quality control"
     ]
    },
    {
     "name": "stdout",
     "output_type": "stream",
     "text": [
      "\n",
      "[2025-05-04 16:55:41] Decode batch. #running-req: 1, #token: 7060, token usage: 0.34, gen throughput (token/s): 130.77, #queue-req: 0\n",
      "-"
     ]
    },
    {
     "name": "stdout",
     "output_type": "stream",
     "text": [
      " User testing\n",
      "- Compliance testing\n",
      "- Quality assurance testing\n",
      "- Compliance testing\n",
      "- Quality control\n",
      "- User testing\n"
     ]
    },
    {
     "name": "stdout",
     "output_type": "stream",
     "text": [
      "- Compliance testing"
     ]
    },
    {
     "name": "stdout",
     "output_type": "stream",
     "text": [
      "\n",
      "- Quality assurance testing\n",
      "- Compliance testing\n",
      "- Quality[2025-05-04 16:55:42] Decode batch. #running-req: 1, #token: 7100, token usage: 0.35, gen throughput (token/s): 127.80, #queue-req: 0\n",
      " control\n",
      "- User testing\n",
      "- Compliance testing\n",
      "-"
     ]
    },
    {
     "name": "stdout",
     "output_type": "stream",
     "text": [
      " Quality assurance testing"
     ]
    },
    {
     "name": "stdout",
     "output_type": "stream",
     "text": [
      "\n",
      "- Compliance testing\n",
      "- Quality control\n",
      "- User testing\n",
      "- Compliance testing\n",
      "- Quality assurance testing\n",
      "- Compliance"
     ]
    },
    {
     "name": "stdout",
     "output_type": "stream",
     "text": [
      " testing\n",
      "[2025-05-04 16:55:42] Decode batch. #running-req: 1, #token: 7140, token usage: 0.35, gen throughput (token/s): 129.22, #queue-req: 0\n",
      "-"
     ]
    },
    {
     "name": "stdout",
     "output_type": "stream",
     "text": [
      " Quality control\n",
      "- User testing\n",
      "- Compliance testing\n",
      "- Quality assurance testing\n",
      "- Compliance testing\n",
      "- Quality"
     ]
    },
    {
     "name": "stdout",
     "output_type": "stream",
     "text": [
      " control\n",
      "-"
     ]
    },
    {
     "name": "stdout",
     "output_type": "stream",
     "text": [
      " User testing\n",
      "- Compliance testing\n",
      "- Quality assurance testing\n",
      "- Compliance[2025-05-04 16:55:42] Decode batch. #running-req: 1, #token: 7180, token usage: 0.35, gen throughput (token/s): 124.89, #queue-req: 0\n",
      " testing\n",
      "- Quality control\n",
      "- User testing\n"
     ]
    },
    {
     "name": "stdout",
     "output_type": "stream",
     "text": [
      "- Compliance"
     ]
    },
    {
     "name": "stdout",
     "output_type": "stream",
     "text": [
      " testing\n",
      "- Quality assurance testing\n",
      "- Compliance testing\n",
      "- Quality control\n",
      "- User testing\n",
      "- Compliance testing\n",
      "-"
     ]
    },
    {
     "name": "stdout",
     "output_type": "stream",
     "text": [
      " Quality assurance testing"
     ]
    },
    {
     "name": "stdout",
     "output_type": "stream",
     "text": [
      "\n",
      "[2025-05-04 16:55:43] Decode batch. #running-req: 1, #token: 7220, token usage: 0.35, gen throughput (token/s): 126.53, #queue-req: 0\n",
      "- Compliance testing\n",
      "- Quality control\n",
      "- User testing\n",
      "- Compliance testing\n",
      "- Quality assurance testing\n",
      "- Compliance"
     ]
    },
    {
     "name": "stdout",
     "output_type": "stream",
     "text": [
      " testing\n",
      "-"
     ]
    },
    {
     "name": "stdout",
     "output_type": "stream",
     "text": [
      " Quality control\n",
      "- User testing\n",
      "- Compliance testing\n",
      "- Quality assurance[2025-05-04 16:55:43] Decode batch. #running-req: 1, #token: 7260, token usage: 0.35, gen throughput (token/s): 124.32, #queue-req: 0\n",
      " testing\n",
      "- Compliance testing\n",
      "- Quality"
     ]
    },
    {
     "name": "stdout",
     "output_type": "stream",
     "text": [
      " control\n",
      "- User testing"
     ]
    },
    {
     "name": "stdout",
     "output_type": "stream",
     "text": [
      "\n",
      "- Compliance testing\n",
      "- Quality assurance testing\n",
      "- Compliance testing\n",
      "- Quality control\n",
      "- User testing\n"
     ]
    },
    {
     "name": "stdout",
     "output_type": "stream",
     "text": [
      "- Compliance testing\n",
      "-"
     ]
    },
    {
     "name": "stdout",
     "output_type": "stream",
     "text": [
      "[2025-05-04 16:55:43] Decode batch. #running-req: 1, #token: 7300, token usage: 0.36, gen throughput (token/s): 132.91, #queue-req: 0\n",
      " Quality assurance testing\n",
      "- Compliance testing\n",
      "- Quality control\n",
      "- User testing\n",
      "- Compliance testing\n",
      "-"
     ]
    },
    {
     "name": "stdout",
     "output_type": "stream",
     "text": [
      " Quality assurance testing\n",
      "-"
     ]
    },
    {
     "name": "stdout",
     "output_type": "stream",
     "text": [
      " Compliance testing\n",
      "- Quality control\n",
      "- User testing\n",
      "- Compliance testing[2025-05-04 16:55:44] Decode batch. #running-req: 1, #token: 7340, token usage: 0.36, gen throughput (token/s): 129.01, #queue-req: 0\n",
      "\n",
      "- Quality assurance testing\n",
      "- Compliance"
     ]
    },
    {
     "name": "stdout",
     "output_type": "stream",
     "text": [
      " testing\n",
      "- Quality control"
     ]
    },
    {
     "name": "stdout",
     "output_type": "stream",
     "text": [
      "\n",
      "- User testing\n",
      "- Compliance testing\n",
      "- Quality assurance testing\n",
      "- Compliance testing\n",
      "- Quality control\n"
     ]
    },
    {
     "name": "stdout",
     "output_type": "stream",
     "text": [
      "- User testing\n",
      "-[2025-05-04 16:55:44] Decode batch. #running-req: 1, #token: 7380, token usage: 0.36, gen throughput (token/s): 133.53, #queue-req: 0\n",
      " Compliance"
     ]
    },
    {
     "name": "stdout",
     "output_type": "stream",
     "text": [
      " testing\n",
      "- Quality assurance testing\n",
      "- Compliance testing\n",
      "- Quality control\n",
      "- User testing\n",
      "-"
     ]
    },
    {
     "name": "stdout",
     "output_type": "stream",
     "text": [
      " Compliance testing\n",
      "- Quality assurance"
     ]
    },
    {
     "name": "stdout",
     "output_type": "stream",
     "text": [
      " testing\n",
      "- Compliance testing\n",
      "- Quality control\n",
      "- User testing[2025-05-04 16:55:44] Decode batch. #running-req: 1, #token: 7420, token usage: 0.36, gen throughput (token/s): 129.87, #queue-req: 0\n",
      "\n",
      "- Compliance testing\n",
      "- Quality assurance"
     ]
    },
    {
     "name": "stdout",
     "output_type": "stream",
     "text": [
      " testing\n",
      "- Compliance testing\n"
     ]
    },
    {
     "name": "stdout",
     "output_type": "stream",
     "text": [
      "- Quality control\n",
      "- User testing\n",
      "- Compliance testing\n",
      "- Quality assurance testing\n",
      "- Compliance testing"
     ]
    },
    {
     "name": "stdout",
     "output_type": "stream",
     "text": [
      "\n",
      "- Quality control\n",
      "-"
     ]
    },
    {
     "name": "stdout",
     "output_type": "stream",
     "text": [
      "[2025-05-04 16:55:44] Decode batch. #running-req: 1, #token: 7460, token usage: 0.36, gen throughput (token/s): 127.84, #queue-req: 0\n",
      " User testing\n",
      "- Compliance testing\n",
      "- Quality assurance testing\n",
      "- Compliance testing\n",
      "- Quality control\n",
      "-"
     ]
    },
    {
     "name": "stdout",
     "output_type": "stream",
     "text": [
      " User testing\n",
      "- Compliance testing"
     ]
    },
    {
     "name": "stdout",
     "output_type": "stream",
     "text": [
      "\n",
      "- Quality assurance testing\n",
      "- Compliance testing\n",
      "- Quality control[2025-05-04 16:55:45] Decode batch. #running-req: 1, #token: 7500, token usage: 0.37, gen throughput (token/s): 132.74, #queue-req: 0\n",
      "\n",
      "- User testing\n",
      "- Compliance testing"
     ]
    },
    {
     "name": "stdout",
     "output_type": "stream",
     "text": [
      "\n",
      "- Quality assurance testing\n"
     ]
    },
    {
     "name": "stdout",
     "output_type": "stream",
     "text": [
      "- Compliance testing\n",
      "- Quality control\n",
      "- User testing\n",
      "- Compliance testing\n",
      "- Quality assurance testing\n"
     ]
    },
    {
     "name": "stdout",
     "output_type": "stream",
     "text": [
      "- Compliance testing\n",
      "-[2025-05-04 16:55:45] Decode batch. #running-req: 1, #token: 7540, token usage: 0.37, gen throughput (token/s): 131.51, #queue-req: 0\n",
      " Quality"
     ]
    },
    {
     "name": "stdout",
     "output_type": "stream",
     "text": [
      " control\n",
      "- User testing\n",
      "- Compliance testing\n",
      "- Quality assurance testing\n",
      "- Compliance testing\n",
      "- Quality"
     ]
    },
    {
     "name": "stdout",
     "output_type": "stream",
     "text": [
      " control\n",
      "- User testing\n"
     ]
    },
    {
     "name": "stdout",
     "output_type": "stream",
     "text": [
      "- Compliance testing\n",
      "- Quality assurance testing\n",
      "- Compliance testing[2025-05-04 16:55:45] Decode batch. #running-req: 1, #token: 7580, token usage: 0.37, gen throughput (token/s): 131.10, #queue-req: 0\n",
      "\n",
      "- Quality control\n",
      "- User testing\n"
     ]
    },
    {
     "name": "stdout",
     "output_type": "stream",
     "text": [
      "- Compliance testing\n",
      "- Quality"
     ]
    },
    {
     "name": "stdout",
     "output_type": "stream",
     "text": [
      " assurance testing\n",
      "- Compliance testing\n",
      "- Quality control\n",
      "- User testing\n",
      "- Compliance testing\n",
      "- Quality"
     ]
    },
    {
     "name": "stdout",
     "output_type": "stream",
     "text": [
      " assurance testing\n",
      "-[2025-05-04 16:55:46] Decode batch. #running-req: 1, #token: 7620, token usage: 0.37, gen throughput (token/s): 131.30, #queue-req: 0\n",
      " Compliance testing"
     ]
    },
    {
     "name": "stdout",
     "output_type": "stream",
     "text": [
      "\n",
      "- Quality control\n",
      "- User testing\n",
      "- Compliance testing\n",
      "- Quality assurance testing\n",
      "- Compliance testing"
     ]
    },
    {
     "name": "stdout",
     "output_type": "stream",
     "text": [
      "\n",
      "- Quality control\n"
     ]
    },
    {
     "name": "stdout",
     "output_type": "stream",
     "text": [
      "- User testing\n",
      "- Compliance testing\n",
      "- Quality assurance testing[2025-05-04 16:55:46] Decode batch. #running-req: 1, #token: 7660, token usage: 0.37, gen throughput (token/s): 129.39, #queue-req: 0\n",
      "\n",
      "- Compliance testing\n",
      "- Quality control\n",
      "-"
     ]
    },
    {
     "name": "stdout",
     "output_type": "stream",
     "text": [
      " User testing\n",
      "-"
     ]
    },
    {
     "name": "stdout",
     "output_type": "stream",
     "text": [
      " Compliance testing\n",
      "- Quality assurance testing\n",
      "- Compliance testing\n",
      "- Quality control\n",
      "- User testing\n",
      "- Compliance"
     ]
    },
    {
     "name": "stdout",
     "output_type": "stream",
     "text": [
      " testing\n",
      "- Quality[2025-05-04 16:55:46] Decode batch. #running-req: 1, #token: 7700, token usage: 0.38, gen throughput (token/s): 128.58, #queue-req: 0\n",
      " assurance"
     ]
    },
    {
     "name": "stdout",
     "output_type": "stream",
     "text": [
      " testing\n",
      "- Compliance testing\n",
      "- Quality control\n",
      "- User testing\n",
      "- Compliance testing\n",
      "- Quality assurance"
     ]
    },
    {
     "name": "stdout",
     "output_type": "stream",
     "text": [
      " testing\n",
      "- Compliance testing"
     ]
    },
    {
     "name": "stdout",
     "output_type": "stream",
     "text": [
      "\n",
      "- Quality control\n",
      "- User testing\n",
      "- Compliance testing\n",
      "[2025-05-04 16:55:47] Decode batch. #running-req: 1, #token: 7740, token usage: 0.38, gen throughput (token/s): 129.96, #queue-req: 0\n",
      "- Quality assurance testing\n",
      "- Compliance testing\n"
     ]
    },
    {
     "name": "stdout",
     "output_type": "stream",
     "text": [
      "- Quality control\n",
      "-"
     ]
    },
    {
     "name": "stdout",
     "output_type": "stream",
     "text": [
      " User testing\n",
      "- Compliance testing\n",
      "- Quality assurance testing\n",
      "- Compliance testing\n",
      "- Quality control\n",
      "- User"
     ]
    },
    {
     "name": "stdout",
     "output_type": "stream",
     "text": [
      " testing\n",
      "- Compliance[2025-05-04 16:55:47] Decode batch. #running-req: 1, #token: 7780, token usage: 0.38, gen throughput (token/s): 129.72, #queue-req: 0\n",
      " testing"
     ]
    },
    {
     "name": "stdout",
     "output_type": "stream",
     "text": [
      "\n",
      "- Quality assurance testing\n",
      "- Compliance testing\n",
      "- Quality control\n",
      "- User testing\n",
      "- Compliance testing\n"
     ]
    },
    {
     "name": "stdout",
     "output_type": "stream",
     "text": [
      "- Quality assurance testing"
     ]
    },
    {
     "name": "stdout",
     "output_type": "stream",
     "text": [
      "\n",
      "- Compliance testing\n",
      "- Quality control\n",
      "- User testing\n",
      "[2025-05-04 16:55:47] Decode batch. #running-req: 1, #token: 7820, token usage: 0.38, gen throughput (token/s): 130.53, #queue-req: 0\n",
      "- Compliance testing\n",
      "- Quality assurance testing\n",
      "-"
     ]
    },
    {
     "name": "stdout",
     "output_type": "stream",
     "text": [
      " Compliance testing\n",
      "-"
     ]
    },
    {
     "name": "stdout",
     "output_type": "stream",
     "text": [
      " Quality control\n",
      "- User testing\n",
      "- Compliance testing\n",
      "- Quality assurance testing\n",
      "- Compliance testing\n",
      "- Quality control"
     ]
    },
    {
     "name": "stdout",
     "output_type": "stream",
     "text": [
      "\n",
      "- User[2025-05-04 16:55:48] Decode batch. #running-req: 1, #token: 7860, token usage: 0.38, gen throughput (token/s): 130.51, #queue-req: 0\n",
      " testing"
     ]
    },
    {
     "name": "stdout",
     "output_type": "stream",
     "text": [
      "\n",
      "- Compliance testing\n",
      "- Quality assurance testing\n",
      "- Compliance testing\n",
      "- Quality control\n",
      "- User testing\n"
     ]
    },
    {
     "name": "stdout",
     "output_type": "stream",
     "text": [
      "- Compliance testing\n",
      "-"
     ]
    },
    {
     "name": "stdout",
     "output_type": "stream",
     "text": [
      " Quality assurance testing\n",
      "- Compliance testing\n",
      "- Quality control\n",
      "[2025-05-04 16:55:48] Decode batch. #running-req: 1, #token: 7900, token usage: 0.39, gen throughput (token/s): 129.16, #queue-req: 0\n",
      "- User testing\n",
      "- Compliance testing\n",
      "- Quality"
     ]
    },
    {
     "name": "stdout",
     "output_type": "stream",
     "text": [
      " assurance testing\n",
      "- Compliance"
     ]
    },
    {
     "name": "stdout",
     "output_type": "stream",
     "text": [
      " testing\n",
      "- Quality control\n",
      "- User testing\n",
      "- Compliance testing\n",
      "- Quality assurance testing\n",
      "- Compliance testing"
     ]
    },
    {
     "name": "stdout",
     "output_type": "stream",
     "text": [
      "\n",
      "- Quality[2025-05-04 16:55:48] Decode batch. #running-req: 1, #token: 7940, token usage: 0.39, gen throughput (token/s): 130.82, #queue-req: 0\n",
      " control\n"
     ]
    },
    {
     "name": "stdout",
     "output_type": "stream",
     "text": [
      "- User testing\n",
      "- Compliance testing\n",
      "- Quality assurance testing\n",
      "- Compliance testing\n",
      "- Quality control\n"
     ]
    },
    {
     "name": "stdout",
     "output_type": "stream",
     "text": [
      "- User testing\n",
      "-"
     ]
    },
    {
     "name": "stdout",
     "output_type": "stream",
     "text": [
      " Compliance testing\n",
      "- Quality assurance testing\n",
      "- Compliance testing\n",
      "[2025-05-04 16:55:48] Decode batch. #running-req: 1, #token: 7980, token usage: 0.39, gen throughput (token/s): 127.67, #queue-req: 0\n",
      "- Quality control\n",
      "- User testing\n",
      "- Compliance"
     ]
    },
    {
     "name": "stdout",
     "output_type": "stream",
     "text": [
      " testing\n",
      "- Quality"
     ]
    },
    {
     "name": "stdout",
     "output_type": "stream",
     "text": [
      " assurance testing\n",
      "- Compliance testing\n",
      "- Quality control\n",
      "- User testing\n",
      "- Compliance testing\n",
      "- Quality assurance"
     ]
    },
    {
     "name": "stdout",
     "output_type": "stream",
     "text": [
      " testing\n",
      "- Compliance"
     ]
    },
    {
     "name": "stdout",
     "output_type": "stream",
     "text": [
      "[2025-05-04 16:55:49] Decode batch. #running-req: 1, #token: 8020, token usage: 0.39, gen throughput (token/s): 128.81, #queue-req: 0\n",
      " testing\n",
      "- Quality control\n",
      "- User testing\n",
      "- Compliance testing\n",
      "- Quality assurance testing\n",
      "- Compliance testing\n"
     ]
    },
    {
     "name": "stdout",
     "output_type": "stream",
     "text": [
      "- Quality control"
     ]
    },
    {
     "name": "stdout",
     "output_type": "stream",
     "text": [
      "\n",
      "- User testing\n",
      "- Compliance testing\n",
      "- Quality assurance testing\n",
      "[2025-05-04 16:55:49] Decode batch. #running-req: 1, #token: 8060, token usage: 0.39, gen throughput (token/s): 129.03, #queue-req: 0\n",
      "- Compliance testing\n",
      "- Quality control\n",
      "-"
     ]
    },
    {
     "name": "stdout",
     "output_type": "stream",
     "text": [
      " User testing\n"
     ]
    },
    {
     "name": "stdout",
     "output_type": "stream",
     "text": [
      "- Compliance testing\n",
      "- Quality assurance testing\n",
      "- Compliance testing\n",
      "- Quality control\n",
      "- User testing\n",
      "- Compliance testing"
     ]
    },
    {
     "name": "stdout",
     "output_type": "stream",
     "text": [
      "\n",
      "-"
     ]
    },
    {
     "name": "stdout",
     "output_type": "stream",
     "text": [
      " Quality assurance[2025-05-04 16:55:49] Decode batch. #running-req: 1, #token: 8100, token usage: 0.40, gen throughput (token/s): 128.25, #queue-req: 0\n",
      " testing\n",
      "- Compliance testing\n",
      "- Quality control\n",
      "- User testing\n",
      "- Compliance testing\n",
      "- Quality assurance testing"
     ]
    },
    {
     "name": "stdout",
     "output_type": "stream",
     "text": [
      "\n",
      "-"
     ]
    },
    {
     "name": "stdout",
     "output_type": "stream",
     "text": [
      " Compliance testing\n",
      "- Quality control\n",
      "- User testing\n",
      "- Compliance testing\n",
      "-[2025-05-04 16:55:50] Decode batch. #running-req: 1, #token: 8140, token usage: 0.40, gen throughput (token/s): 129.23, #queue-req: 0\n",
      " Quality assurance testing\n",
      "- Compliance testing\n",
      "-"
     ]
    },
    {
     "name": "stdout",
     "output_type": "stream",
     "text": [
      " Quality"
     ]
    },
    {
     "name": "stdout",
     "output_type": "stream",
     "text": [
      " control\n",
      "- User testing\n",
      "- Compliance testing\n",
      "- Quality assurance testing\n",
      "- Compliance testing\n",
      "- Quality control\n",
      "- User"
     ]
    },
    {
     "name": "stdout",
     "output_type": "stream",
     "text": [
      " testing"
     ]
    },
    {
     "name": "stdout",
     "output_type": "stream",
     "text": [
      "\n",
      "- Compliance testing[2025-05-04 16:55:50] Decode batch. #running-req: 1, #token: 8180, token usage: 0.40, gen throughput (token/s): 126.93, #queue-req: 0\n",
      "\n",
      "- Quality assurance testing\n",
      "- Compliance testing\n",
      "- Quality control\n",
      "- User testing\n",
      "- Compliance testing"
     ]
    },
    {
     "name": "stdout",
     "output_type": "stream",
     "text": [
      "\n"
     ]
    },
    {
     "name": "stdout",
     "output_type": "stream",
     "text": [
      "- Quality assurance testing\n",
      "- Compliance testing\n",
      "- Quality control\n",
      "- User testing\n",
      "-[2025-05-04 16:55:50] Decode batch. #running-req: 1, #token: 8220, token usage: 0.40, gen throughput (token/s): 126.89, #queue-req: 0\n",
      " Compliance testing\n",
      "- Quality assurance testing"
     ]
    },
    {
     "name": "stdout",
     "output_type": "stream",
     "text": [
      "\n"
     ]
    },
    {
     "name": "stdout",
     "output_type": "stream",
     "text": [
      "- Compliance testing\n",
      "- Quality control\n",
      "- User testing\n",
      "- Compliance testing\n",
      "- Quality assurance testing\n",
      "- Compliance testing\n",
      "-"
     ]
    },
    {
     "name": "stdout",
     "output_type": "stream",
     "text": [
      " Quality"
     ]
    },
    {
     "name": "stdout",
     "output_type": "stream",
     "text": [
      " control\n",
      "- User testing[2025-05-04 16:55:51] Decode batch. #running-req: 1, #token: 8260, token usage: 0.40, gen throughput (token/s): 129.66, #queue-req: 0\n",
      "\n",
      "- Compliance testing\n",
      "- Quality assurance testing\n",
      "- Compliance testing\n",
      "- Quality control\n",
      "- User"
     ]
    },
    {
     "name": "stdout",
     "output_type": "stream",
     "text": [
      " testing"
     ]
    },
    {
     "name": "stdout",
     "output_type": "stream",
     "text": [
      "\n",
      "- Compliance testing\n",
      "- Quality assurance testing\n",
      "- Compliance testing\n",
      "- Quality control\n",
      "-[2025-05-04 16:55:51] Decode batch. #running-req: 1, #token: 8300, token usage: 0.41, gen throughput (token/s): 126.74, #queue-req: 0\n",
      " User testing\n",
      "- Compliance testing"
     ]
    },
    {
     "name": "stdout",
     "output_type": "stream",
     "text": [
      "\n"
     ]
    },
    {
     "name": "stdout",
     "output_type": "stream",
     "text": [
      "- Quality assurance testing\n",
      "- Compliance testing\n",
      "- Quality control\n",
      "- User testing\n",
      "- Compliance testing\n",
      "- Quality assurance testing\n"
     ]
    },
    {
     "name": "stdout",
     "output_type": "stream",
     "text": [
      "-"
     ]
    },
    {
     "name": "stdout",
     "output_type": "stream",
     "text": [
      " Compliance testing\n",
      "- Quality control[2025-05-04 16:55:51] Decode batch. #running-req: 1, #token: 8340, token usage: 0.41, gen throughput (token/s): 128.97, #queue-req: 0\n",
      "\n",
      "- User testing\n",
      "- Compliance testing\n",
      "- Quality assurance testing\n",
      "- Compliance testing\n",
      "- Quality"
     ]
    },
    {
     "name": "stdout",
     "output_type": "stream",
     "text": [
      " control\n",
      "- User testing\n",
      "- Compliance testing\n",
      "- Quality assurance testing\n",
      "- Compliance testing[2025-05-04 16:55:52] Decode batch. #running-req: 1, #token: 8380, token usage: 0.41, gen throughput (token/s): 124.47, #queue-req: 0\n",
      "\n",
      "- Quality control"
     ]
    },
    {
     "name": "stdout",
     "output_type": "stream",
     "text": [
      "\n",
      "- User testing\n",
      "- Compliance testing\n",
      "- Quality assurance testing\n",
      "- Compliance testing\n",
      "- Quality control\n",
      "- User testing\n",
      "- Compliance testing\n"
     ]
    },
    {
     "name": "stdout",
     "output_type": "stream",
     "text": [
      "- Quality assurance testing\n",
      "- Compliance testing[2025-05-04 16:55:52] Decode batch. #running-req: 1, #token: 8420, token usage: 0.41, gen throughput (token/s): 127.71, #queue-req: 0\n",
      "\n",
      "- Quality control\n",
      "- User testing\n",
      "- Compliance testing\n",
      "- Quality assurance testing\n"
     ]
    },
    {
     "name": "stdout",
     "output_type": "stream",
     "text": [
      "- Compliance testing\n",
      "- Quality control\n",
      "- User testing\n",
      "- Compliance testing\n",
      "- Quality assurance testing\n",
      "-[2025-05-04 16:55:52] Decode batch. #running-req: 1, #token: 8460, token usage: 0.41, gen throughput (token/s): 129.88, #queue-req: 0\n",
      " Compliance testing\n",
      "- Quality"
     ]
    },
    {
     "name": "stdout",
     "output_type": "stream",
     "text": [
      " control\n",
      "- User testing\n",
      "- Compliance testing\n",
      "- Quality assurance testing\n",
      "- Compliance testing\n",
      "- Quality control\n",
      "- User testing"
     ]
    },
    {
     "name": "stdout",
     "output_type": "stream",
     "text": [
      "\n",
      "- Compliance testing\n",
      "- Quality assurance testing[2025-05-04 16:55:53] Decode batch. #running-req: 1, #token: 8500, token usage: 0.42, gen throughput (token/s): 128.83, #queue-req: 0\n",
      "\n",
      "- Compliance testing\n",
      "- Quality control\n",
      "- User testing\n",
      "- Compliance testing\n"
     ]
    },
    {
     "name": "stdout",
     "output_type": "stream",
     "text": [
      "- Quality assurance testing\n",
      "- Compliance testing\n",
      "- Quality control\n",
      "- User testing\n",
      "- Compliance testing\n",
      "- Quality[2025-05-04 16:55:53] Decode batch. #running-req: 1, #token: 8540, token usage: 0.42, gen throughput (token/s): 128.70, #queue-req: 0\n",
      " assurance testing\n"
     ]
    },
    {
     "name": "stdout",
     "output_type": "stream",
     "text": [
      "- Compliance testing\n",
      "- Quality control\n",
      "- User testing\n",
      "- Compliance testing\n",
      "- Quality assurance testing\n",
      "- Compliance testing\n",
      "- Quality"
     ]
    },
    {
     "name": "stdout",
     "output_type": "stream",
     "text": [
      " control\n",
      "- User testing\n",
      "- Compliance testing\n",
      "[2025-05-04 16:55:53] Decode batch. #running-req: 1, #token: 8580, token usage: 0.42, gen throughput (token/s): 129.12, #queue-req: 0\n",
      "- Quality assurance testing\n",
      "- Compliance testing\n",
      "- Quality control\n",
      "- User testing"
     ]
    },
    {
     "name": "stdout",
     "output_type": "stream",
     "text": [
      "\n",
      "- Compliance testing\n",
      "- Quality assurance testing\n",
      "- Compliance testing\n",
      "- Quality control\n",
      "- User testing\n",
      "- Compliance[2025-05-04 16:55:53] Decode batch. #running-req: 1, #token: 8620, token usage: 0.42, gen throughput (token/s): 129.71, #queue-req: 0\n",
      " testing\n"
     ]
    },
    {
     "name": "stdout",
     "output_type": "stream",
     "text": [
      "- Quality assurance testing\n",
      "- Compliance testing\n",
      "- Quality control\n",
      "- User testing\n",
      "- Compliance testing\n",
      "- Quality assurance testing\n",
      "-"
     ]
    },
    {
     "name": "stdout",
     "output_type": "stream",
     "text": [
      " Compliance testing\n",
      "- Quality control\n",
      "- User testing\n",
      "[2025-05-04 16:55:54] Decode batch. #running-req: 1, #token: 8660, token usage: 0.42, gen throughput (token/s): 130.51, #queue-req: 0\n",
      "- Compliance testing\n",
      "- Quality assurance testing\n",
      "- Compliance testing\n",
      "- Quality control"
     ]
    },
    {
     "name": "stdout",
     "output_type": "stream",
     "text": [
      "\n",
      "- User testing\n",
      "- Compliance testing\n",
      "- Quality assurance testing\n",
      "- Compliance testing\n",
      "- Quality control\n",
      "- User[2025-05-04 16:55:54] Decode batch. #running-req: 1, #token: 8700, token usage: 0.42, gen throughput (token/s): 128.64, #queue-req: 0\n",
      " testing\n"
     ]
    },
    {
     "name": "stdout",
     "output_type": "stream",
     "text": [
      "- Compliance testing\n",
      "- Quality assurance testing\n",
      "- Compliance testing\n",
      "- Quality control\n",
      "- User testing\n",
      "- Compliance testing\n"
     ]
    },
    {
     "name": "stdout",
     "output_type": "stream",
     "text": [
      "- Quality assurance testing\n",
      "- Compliance testing\n",
      "- Quality control\n",
      "[2025-05-04 16:55:54] Decode batch. #running-req: 1, #token: 8740, token usage: 0.43, gen throughput (token/s): 122.96, #queue-req: 0\n",
      "- User testing\n",
      "- Compliance testing\n",
      "- Quality assurance testing"
     ]
    },
    {
     "name": "stdout",
     "output_type": "stream",
     "text": [
      "\n",
      "- Compliance testing\n",
      "- Quality control\n",
      "- User testing\n",
      "- Compliance testing\n",
      "- Quality assurance testing\n",
      "- Compliance testing"
     ]
    },
    {
     "name": "stdout",
     "output_type": "stream",
     "text": [
      "\n",
      "- Quality[2025-05-04 16:55:55] Decode batch. #running-req: 1, #token: 8780, token usage: 0.43, gen throughput (token/s): 121.27, #queue-req: 0\n",
      " control\n",
      "- User testing\n",
      "- Compliance testing\n",
      "- Quality assurance testing\n",
      "- Compliance testing\n",
      "- Quality control"
     ]
    },
    {
     "name": "stdout",
     "output_type": "stream",
     "text": [
      "\n",
      "- User testing\n",
      "- Compliance testing\n",
      "- Quality assurance testing\n",
      "- Compliance testing\n",
      "[2025-05-04 16:55:55] Decode batch. #running-req: 1, #token: 8820, token usage: 0.43, gen throughput (token/s): 119.83, #queue-req: 0\n",
      "- Quality control\n",
      "- User"
     ]
    },
    {
     "name": "stdout",
     "output_type": "stream",
     "text": [
      " testing\n",
      "- Compliance testing\n",
      "- Quality assurance testing\n",
      "- Compliance testing\n",
      "- Quality control\n",
      "- User testing\n"
     ]
    },
    {
     "name": "stdout",
     "output_type": "stream",
     "text": [
      "- Compliance testing\n",
      "- Quality assurance testing\n",
      "- Compliance[2025-05-04 16:55:55] Decode batch. #running-req: 1, #token: 8860, token usage: 0.43, gen throughput (token/s): 116.62, #queue-req: 0\n",
      " testing\n",
      "- Quality control\n",
      "- User testing\n",
      "- Compliance testing\n",
      "- Quality"
     ]
    },
    {
     "name": "stdout",
     "output_type": "stream",
     "text": [
      " assurance testing\n",
      "- Compliance testing\n",
      "- Quality control\n",
      "- User testing\n",
      "- Compliance testing\n",
      "- Quality assurance testing\n",
      "[2025-05-04 16:55:56] Decode batch. #running-req: 1, #token: 8900, token usage: 0.43, gen throughput (token/s): 131.53, #queue-req: 0\n",
      "- Compliance testing"
     ]
    },
    {
     "name": "stdout",
     "output_type": "stream",
     "text": [
      "\n",
      "- Quality control\n",
      "- User testing\n",
      "- Compliance testing\n",
      "- Quality assurance testing\n",
      "- Compliance testing\n",
      "- Quality control\n",
      "-"
     ]
    },
    {
     "name": "stdout",
     "output_type": "stream",
     "text": [
      " User testing\n",
      "- Compliance testing\n",
      "- Quality assurance[2025-05-04 16:55:56] Decode batch. #running-req: 1, #token: 8940, token usage: 0.44, gen throughput (token/s): 130.83, #queue-req: 0\n",
      " testing\n",
      "- Compliance testing\n",
      "- Quality control\n",
      "- User testing\n",
      "- Compliance testing"
     ]
    },
    {
     "name": "stdout",
     "output_type": "stream",
     "text": [
      "\n",
      "- Quality assurance testing\n",
      "- Compliance testing\n",
      "- Quality control\n",
      "- User testing\n",
      "- Compliance testing\n",
      "-[2025-05-04 16:55:56] Decode batch. #running-req: 1, #token: 8980, token usage: 0.44, gen throughput (token/s): 128.10, #queue-req: 0\n",
      " Quality assurance testing"
     ]
    },
    {
     "name": "stdout",
     "output_type": "stream",
     "text": [
      "\n",
      "- Compliance testing\n",
      "- Quality control\n",
      "- User testing\n",
      "- Compliance testing\n",
      "- Quality assurance testing\n",
      "- Compliance"
     ]
    },
    {
     "name": "stdout",
     "output_type": "stream",
     "text": [
      " testing\n",
      "- Quality control\n",
      "- User testing\n",
      "- Compliance testing[2025-05-04 16:55:57] Decode batch. #running-req: 1, #token: 9020, token usage: 0.44, gen throughput (token/s): 122.65, #queue-req: 0\n",
      "\n",
      "- Quality assurance testing\n",
      "- Compliance testing\n",
      "- Quality control"
     ]
    },
    {
     "name": "stdout",
     "output_type": "stream",
     "text": [
      "\n",
      "- User testing\n",
      "- Compliance testing\n",
      "- Quality assurance testing\n",
      "- Compliance testing\n",
      "- Quality control\n",
      "- User testing"
     ]
    },
    {
     "name": "stdout",
     "output_type": "stream",
     "text": [
      "\n",
      "-[2025-05-04 16:55:57] Decode batch. #running-req: 1, #token: 9060, token usage: 0.44, gen throughput (token/s): 121.87, #queue-req: 0\n",
      " Compliance testing\n",
      "- Quality assurance testing\n",
      "- Compliance testing\n",
      "- Quality control\n",
      "- User testing\n",
      "- Compliance testing"
     ]
    },
    {
     "name": "stdout",
     "output_type": "stream",
     "text": [
      "\n",
      "- Quality assurance testing\n",
      "- Compliance testing\n",
      "- Quality control\n",
      "- User testing[2025-05-04 16:55:57] Decode batch. #running-req: 1, #token: 9100, token usage: 0.44, gen throughput (token/s): 122.12, #queue-req: 0\n",
      "\n",
      "- Compliance testing\n",
      "- Quality assurance"
     ]
    },
    {
     "name": "stdout",
     "output_type": "stream",
     "text": [
      " testing\n",
      "- Compliance testing\n",
      "- Quality control\n",
      "- User testing\n",
      "- Compliance testing\n",
      "- Quality assurance testing\n",
      "- Compliance testing"
     ]
    },
    {
     "name": "stdout",
     "output_type": "stream",
     "text": [
      "\n",
      "- Quality control\n",
      "-[2025-05-04 16:55:58] Decode batch. #running-req: 1, #token: 9140, token usage: 0.45, gen throughput (token/s): 126.22, #queue-req: 0\n",
      " User testing\n",
      "- Compliance testing\n",
      "- Quality assurance testing\n",
      "- Compliance testing\n",
      "- Quality control\n"
     ]
    },
    {
     "name": "stdout",
     "output_type": "stream",
     "text": [
      "- User testing\n",
      "- Compliance testing\n",
      "- Quality assurance testing\n",
      "- Compliance testing\n",
      "- Quality control[2025-05-04 16:55:58] Decode batch. #running-req: 1, #token: 9180, token usage: 0.45, gen throughput (token/s): 127.13, #queue-req: 0\n",
      "\n",
      "- User testing\n",
      "-"
     ]
    },
    {
     "name": "stdout",
     "output_type": "stream",
     "text": [
      " Compliance testing\n",
      "- Quality assurance testing\n",
      "- Compliance testing\n",
      "- Quality control\n",
      "- User testing\n",
      "- Compliance testing\n",
      "- Quality assurance"
     ]
    },
    {
     "name": "stdout",
     "output_type": "stream",
     "text": [
      " testing\n",
      "- Compliance testing\n",
      "-[2025-05-04 16:55:58] Decode batch. #running-req: 1, #token: 9220, token usage: 0.45, gen throughput (token/s): 132.30, #queue-req: 0\n",
      " Quality control\n",
      "- User testing\n",
      "- Compliance testing\n",
      "- Quality assurance testing\n",
      "- Compliance testing"
     ]
    },
    {
     "name": "stdout",
     "output_type": "stream",
     "text": [
      "\n",
      "- Quality control\n",
      "- User testing\n",
      "- Compliance testing\n",
      "- Quality assurance testing\n",
      "- Compliance testing[2025-05-04 16:55:59] Decode batch. #running-req: 1, #token: 9260, token usage: 0.45, gen throughput (token/s): 123.96, #queue-req: 0\n",
      "\n",
      "- Quality control"
     ]
    },
    {
     "name": "stdout",
     "output_type": "stream",
     "text": [
      "\n",
      "- User testing\n",
      "- Compliance testing\n",
      "- Quality assurance testing\n",
      "- Compliance testing\n",
      "- Quality control\n",
      "- User testing"
     ]
    },
    {
     "name": "stdout",
     "output_type": "stream",
     "text": [
      "\n",
      "- Compliance testing\n",
      "- Quality assurance testing\n",
      "-[2025-05-04 16:55:59] Decode batch. #running-req: 1, #token: 9300, token usage: 0.45, gen throughput (token/s): 122.43, #queue-req: 0\n",
      " Compliance testing\n",
      "- Quality control\n",
      "- User testing\n",
      "- Compliance testing"
     ]
    },
    {
     "name": "stdout",
     "output_type": "stream",
     "text": [
      "\n",
      "- Quality assurance testing\n",
      "- Compliance testing\n",
      "- Quality control\n",
      "- User testing\n",
      "- Compliance testing\n",
      "- Quality assurance testing"
     ]
    },
    {
     "name": "stdout",
     "output_type": "stream",
     "text": [
      "[2025-05-04 16:55:59] Decode batch. #running-req: 1, #token: 9340, token usage: 0.46, gen throughput (token/s): 124.55, #queue-req: 0\n",
      "\n",
      "- Compliance testing\n",
      "- Quality control\n",
      "- User testing\n",
      "- Compliance testing\n",
      "- Quality assurance testing\n",
      "- Compliance testing"
     ]
    },
    {
     "name": "stdout",
     "output_type": "stream",
     "text": [
      "\n",
      "- Quality control\n",
      "- User testing\n",
      "- Compliance testing\n",
      "- Quality[2025-05-04 16:56:00] Decode batch. #running-req: 1, #token: 9380, token usage: 0.46, gen throughput (token/s): 125.44, #queue-req: 0\n",
      " assurance testing\n",
      "- Compliance testing\n",
      "- Quality control\n"
     ]
    },
    {
     "name": "stdout",
     "output_type": "stream",
     "text": [
      "- User testing\n",
      "- Compliance testing\n",
      "- Quality assurance testing\n",
      "- Compliance testing\n",
      "- Quality control\n",
      "- User testing\n"
     ]
    },
    {
     "name": "stdout",
     "output_type": "stream",
     "text": [
      "- Compliance testing\n",
      "[2025-05-04 16:56:00] Decode batch. #running-req: 1, #token: 9420, token usage: 0.46, gen throughput (token/s): 124.80, #queue-req: 0\n",
      "- Quality assurance testing\n",
      "- Compliance testing\n",
      "- Quality control\n",
      "- User testing\n",
      "- Compliance testing\n",
      "- Quality"
     ]
    },
    {
     "name": "stdout",
     "output_type": "stream",
     "text": [
      " assurance testing\n",
      "- Compliance testing\n",
      "- Quality control\n",
      "- User testing\n",
      "- Compliance[2025-05-04 16:56:00] Decode batch. #running-req: 1, #token: 9460, token usage: 0.46, gen throughput (token/s): 132.85, #queue-req: 0\n",
      " testing\n",
      "- Quality assurance testing\n",
      "- Compliance testing"
     ]
    },
    {
     "name": "stdout",
     "output_type": "stream",
     "text": [
      "\n",
      "- Quality control\n",
      "- User testing\n",
      "- Compliance testing\n",
      "- Quality assurance testing\n",
      "- Compliance testing\n",
      "- Quality control\n"
     ]
    },
    {
     "name": "stdout",
     "output_type": "stream",
     "text": [
      "- User testing\n",
      "[2025-05-04 16:56:00] Decode batch. #running-req: 1, #token: 9500, token usage: 0.46, gen throughput (token/s): 127.87, #queue-req: 0\n",
      "- Compliance testing\n",
      "- Quality assurance testing\n",
      "- Compliance testing\n",
      "- Quality control\n",
      "- User testing\n"
     ]
    },
    {
     "name": "stdout",
     "output_type": "stream",
     "text": [
      "- Compliance testing\n",
      "- Quality assurance testing\n",
      "- Compliance testing\n",
      "- Quality control\n",
      "- User[2025-05-04 16:56:01] Decode batch. #running-req: 1, #token: 9540, token usage: 0.47, gen throughput (token/s): 123.33, #queue-req: 0\n",
      " testing\n",
      "- Compliance testing\n"
     ]
    },
    {
     "name": "stdout",
     "output_type": "stream",
     "text": [
      "- Quality assurance testing\n",
      "- Compliance testing\n",
      "- Quality control\n",
      "- User testing\n",
      "- Compliance testing\n",
      "- Quality assurance testing"
     ]
    },
    {
     "name": "stdout",
     "output_type": "stream",
     "text": [
      "\n",
      "- Compliance testing\n",
      "- Quality control\n",
      "[2025-05-04 16:56:01] Decode batch. #running-req: 1, #token: 9580, token usage: 0.47, gen throughput (token/s): 123.39, #queue-req: 0\n",
      "- User testing\n",
      "- Compliance testing\n",
      "- Quality assurance testing\n",
      "- Compliance testing"
     ]
    },
    {
     "name": "stdout",
     "output_type": "stream",
     "text": [
      "\n",
      "- Quality control\n",
      "- User testing\n",
      "- Compliance testing\n",
      "- Quality assurance testing\n",
      "- Compliance testing\n",
      "- Quality[2025-05-04 16:56:01] Decode batch. #running-req: 1, #token: 9620, token usage: 0.47, gen throughput (token/s): 124.80, #queue-req: 0\n",
      " control\n"
     ]
    },
    {
     "name": "stdout",
     "output_type": "stream",
     "text": [
      "- User testing\n",
      "- Compliance testing\n",
      "- Quality assurance testing\n",
      "- Compliance testing\n",
      "- Quality control\n",
      "- User testing\n"
     ]
    },
    {
     "name": "stdout",
     "output_type": "stream",
     "text": [
      "- Compliance testing\n",
      "- Quality assurance testing\n",
      "- Compliance testing\n",
      "[2025-05-04 16:56:02] Decode batch. #running-req: 1, #token: 9660, token usage: 0.47, gen throughput (token/s): 122.81, #queue-req: 0\n",
      "- Quality control\n",
      "- User testing\n",
      "- Compliance testing\n"
     ]
    },
    {
     "name": "stdout",
     "output_type": "stream",
     "text": [
      "- Quality assurance testing\n",
      "- Compliance testing\n",
      "- Quality control\n",
      "- User testing\n",
      "- Compliance testing\n",
      "- Quality assurance testing\n",
      "-"
     ]
    },
    {
     "name": "stdout",
     "output_type": "stream",
     "text": [
      " Compliance[2025-05-04 16:56:02] Decode batch. #running-req: 1, #token: 9700, token usage: 0.47, gen throughput (token/s): 129.37, #queue-req: 0\n",
      " testing\n",
      "- Quality control\n",
      "- User testing\n",
      "- Compliance testing\n",
      "- Quality assurance testing\n",
      "- Compliance testing\n",
      "- Quality control"
     ]
    },
    {
     "name": "stdout",
     "output_type": "stream",
     "text": [
      "\n",
      "- User testing\n",
      "- Compliance testing\n",
      "- Quality assurance testing\n",
      "[2025-05-04 16:56:02] Decode batch. #running-req: 1, #token: 9740, token usage: 0.48, gen throughput (token/s): 132.43, #queue-req: 0\n",
      "- Compliance testing\n",
      "- Quality control\n",
      "- User testing\n",
      "-"
     ]
    },
    {
     "name": "stdout",
     "output_type": "stream",
     "text": [
      " Compliance testing\n",
      "- Quality assurance testing\n",
      "- Compliance testing\n",
      "- Quality control\n",
      "- User testing\n",
      "- Compliance testing\n",
      "- Quality assurance"
     ]
    },
    {
     "name": "stdout",
     "output_type": "stream",
     "text": [
      "[2025-05-04 16:56:03] Decode batch. #running-req: 1, #token: 9780, token usage: 0.48, gen throughput (token/s): 133.76, #queue-req: 0\n",
      " testing\n",
      "- Compliance testing\n",
      "- Quality control\n",
      "- User testing\n",
      "- Compliance testing\n",
      "- Quality assurance testing\n",
      "- Compliance testing"
     ]
    },
    {
     "name": "stdout",
     "output_type": "stream",
     "text": [
      "\n",
      "- Quality control\n",
      "- User testing\n",
      "- Compliance testing\n",
      "-[2025-05-04 16:56:03] Decode batch. #running-req: 1, #token: 9820, token usage: 0.48, gen throughput (token/s): 127.88, #queue-req: 0\n",
      " Quality assurance testing\n",
      "- Compliance testing\n",
      "- Quality control\n"
     ]
    },
    {
     "name": "stdout",
     "output_type": "stream",
     "text": [
      "- User testing\n",
      "- Compliance testing\n",
      "- Quality assurance testing\n",
      "- Compliance testing\n",
      "- Quality control\n",
      "- User testing\n",
      "-"
     ]
    },
    {
     "name": "stdout",
     "output_type": "stream",
     "text": [
      " Compliance testing[2025-05-04 16:56:03] Decode batch. #running-req: 1, #token: 9860, token usage: 0.48, gen throughput (token/s): 126.47, #queue-req: 0\n",
      "\n",
      "- Quality assurance testing\n",
      "- Compliance testing\n",
      "- Quality control\n",
      "- User testing\n",
      "- Compliance testing\n",
      "-"
     ]
    },
    {
     "name": "stdout",
     "output_type": "stream",
     "text": [
      " Quality assurance testing\n",
      "- Compliance testing\n",
      "- Quality control\n",
      "- User testing\n",
      "-[2025-05-04 16:56:04] Decode batch. #running-req: 1, #token: 9900, token usage: 0.48, gen throughput (token/s): 123.73, #queue-req: 0\n",
      " Compliance testing\n",
      "- Quality assurance testing\n",
      "-"
     ]
    },
    {
     "name": "stdout",
     "output_type": "stream",
     "text": [
      " Compliance testing\n",
      "- Quality control\n",
      "- User testing\n",
      "- Compliance testing\n",
      "- Quality assurance testing\n",
      "- Compliance testing\n"
     ]
    },
    {
     "name": "stdout",
     "output_type": "stream",
     "text": [
      "- Quality control\n",
      "- User testing[2025-05-04 16:56:04] Decode batch. #running-req: 1, #token: 9940, token usage: 0.49, gen throughput (token/s): 120.32, #queue-req: 0\n",
      "\n",
      "- Compliance testing\n",
      "- Quality assurance testing\n",
      "- Compliance testing\n",
      "- Quality control\n"
     ]
    },
    {
     "name": "stdout",
     "output_type": "stream",
     "text": [
      "- User testing\n",
      "- Compliance testing\n",
      "- Quality assurance testing\n",
      "- Compliance testing\n",
      "- Quality control\n",
      "-[2025-05-04 16:56:04] Decode batch. #running-req: 1, #token: 9980, token usage: 0.49, gen throughput (token/s): 120.79, #queue-req: 0\n",
      " User testing\n"
     ]
    },
    {
     "name": "stdout",
     "output_type": "stream",
     "text": [
      "- Compliance testing\n",
      "- Quality assurance testing\n",
      "- Compliance testing\n",
      "- Quality control\n",
      "- User testing\n",
      "- Compliance testing\n"
     ]
    },
    {
     "name": "stdout",
     "output_type": "stream",
     "text": [
      "- Quality assurance testing\n",
      "- Compliance testing\n",
      "- Quality control[2025-05-04 16:56:05] Decode batch. #running-req: 1, #token: 10020, token usage: 0.49, gen throughput (token/s): 120.80, #queue-req: 0\n",
      "\n",
      "- User testing\n",
      "- Compliance testing\n",
      "- Quality assurance testing\n"
     ]
    },
    {
     "name": "stdout",
     "output_type": "stream",
     "text": [
      "- Compliance testing\n",
      "- Quality control\n",
      "- User testing\n",
      "- Compliance testing\n",
      "- Quality assurance testing\n",
      "- Compliance testing\n",
      "-"
     ]
    },
    {
     "name": "stdout",
     "output_type": "stream",
     "text": [
      "[2025-05-04 16:56:05] Decode batch. #running-req: 1, #token: 10060, token usage: 0.49, gen throughput (token/s): 126.93, #queue-req: 0\n",
      " Quality control\n",
      "- User testing\n",
      "- Compliance testing\n",
      "- Quality assurance testing\n",
      "- Compliance testing\n",
      "- Quality control\n",
      "- User testing"
     ]
    },
    {
     "name": "stdout",
     "output_type": "stream",
     "text": [
      "\n",
      "- Compliance testing\n",
      "- Quality assurance testing\n",
      "- Compliance testing[2025-05-04 16:56:05] Decode batch. #running-req: 1, #token: 10100, token usage: 0.49, gen throughput (token/s): 131.75, #queue-req: 0\n",
      "\n",
      "- Quality control\n",
      "- User testing\n",
      "- Compliance testing\n",
      "-"
     ]
    },
    {
     "name": "stdout",
     "output_type": "stream",
     "text": [
      " Quality assurance testing\n",
      "- Compliance testing\n",
      "- Quality control\n",
      "- User testing\n",
      "- Compliance testing\n",
      "- Quality assurance testing\n"
     ]
    },
    {
     "name": "stdout",
     "output_type": "stream",
     "text": [
      "-[2025-05-04 16:56:06] Decode batch. #running-req: 1, #token: 10140, token usage: 0.50, gen throughput (token/s): 124.89, #queue-req: 0\n",
      " Compliance testing\n",
      "- Quality control\n",
      "- User testing\n",
      "- Compliance testing\n",
      "- Quality assurance testing\n",
      "- Compliance testing\n",
      "- Quality"
     ]
    },
    {
     "name": "stdout",
     "output_type": "stream",
     "text": [
      " control\n",
      "- User testing\n",
      "- Compliance testing\n",
      "- Quality assurance testing[2025-05-04 16:56:06] Decode batch. #running-req: 1, #token: 10180, token usage: 0.50, gen throughput (token/s): 133.80, #queue-req: 0\n",
      "\n",
      "- Compliance testing\n",
      "- Quality control\n",
      "- User testing\n"
     ]
    },
    {
     "name": "stdout",
     "output_type": "stream",
     "text": [
      "- Compliance testing\n",
      "- Quality assurance testing\n",
      "- Compliance testing\n",
      "- Quality control\n",
      "- User testing\n",
      "- Compliance testing\n",
      "- Quality"
     ]
    },
    {
     "name": "stdout",
     "output_type": "stream",
     "text": [
      "[2025-05-04 16:56:06] Decode batch. #running-req: 1, #token: 10220, token usage: 0.50, gen throughput (token/s): 133.75, #queue-req: 0\n",
      " assurance testing\n",
      "- Compliance testing\n",
      "- Quality control\n",
      "- User testing\n",
      "- Compliance testing\n",
      "- Quality assurance testing\n",
      "- Compliance testing"
     ]
    },
    {
     "name": "stdout",
     "output_type": "stream",
     "text": [
      "\n",
      "- Quality control\n",
      "- User testing\n",
      "- Compliance testing\n",
      "[2025-05-04 16:56:06] Decode batch. #running-req: 1, #token: 10260, token usage: 0.50, gen throughput (token/s): 133.70, #queue-req: 0\n",
      "- Quality assurance testing\n",
      "- Compliance testing\n",
      "- Quality control\n",
      "-"
     ]
    },
    {
     "name": "stdout",
     "output_type": "stream",
     "text": [
      " User testing\n",
      "- Compliance testing\n",
      "- Quality assurance testing\n",
      "- Compliance testing\n",
      "- Quality control\n",
      "- User testing\n",
      "- Compliance[2025-05-04 16:56:07] Decode batch. #running-req: 1, #token: 10300, token usage: 0.50, gen throughput (token/s): 133.39, #queue-req: 0\n",
      " testing"
     ]
    },
    {
     "name": "stdout",
     "output_type": "stream",
     "text": [
      "\n",
      "- Quality assurance testing\n",
      "- Compliance testing\n",
      "- Quality control\n",
      "- User testing\n",
      "- Compliance testing\n",
      "- Quality assurance testing\n"
     ]
    },
    {
     "name": "stdout",
     "output_type": "stream",
     "text": [
      "- Compliance testing\n",
      "- Quality control\n",
      "- User testing\n",
      "[2025-05-04 16:56:07] Decode batch. #running-req: 1, #token: 10340, token usage: 0.50, gen throughput (token/s): 133.28, #queue-req: 0\n",
      "- Compliance testing\n",
      "- Quality assurance testing\n",
      "- Compliance testing\n",
      "- Quality"
     ]
    },
    {
     "name": "stdout",
     "output_type": "stream",
     "text": [
      " control\n",
      "- User testing\n",
      "- Compliance testing\n",
      "- Quality assurance testing\n",
      "- Compliance testing\n",
      "- Quality control\n",
      "- User[2025-05-04 16:56:07] Decode batch. #running-req: 1, #token: 10380, token usage: 0.51, gen throughput (token/s): 133.50, #queue-req: 0\n",
      " testing\n"
     ]
    },
    {
     "name": "stdout",
     "output_type": "stream",
     "text": [
      "- Compliance testing\n",
      "- Quality assurance testing\n",
      "- Compliance testing\n",
      "- Quality control\n",
      "- User testing\n",
      "- Compliance testing\n",
      "- Quality"
     ]
    },
    {
     "name": "stdout",
     "output_type": "stream",
     "text": [
      " assurance testing\n",
      "- Compliance testing\n",
      "- Quality control\n",
      "[2025-05-04 16:56:08] Decode batch. #running-req: 1, #token: 10420, token usage: 0.51, gen throughput (token/s): 133.05, #queue-req: 0\n",
      "- User testing\n",
      "- Compliance testing\n",
      "- Quality assurance testing\n",
      "- Compliance testing"
     ]
    },
    {
     "name": "stdout",
     "output_type": "stream",
     "text": [
      "\n",
      "- Quality control\n",
      "- User testing\n",
      "- Compliance testing\n",
      "- Quality assurance testing\n",
      "- Compliance testing\n",
      "- Quality[2025-05-04 16:56:08] Decode batch. #running-req: 1, #token: 10460, token usage: 0.51, gen throughput (token/s): 130.10, #queue-req: 0\n",
      " control\n"
     ]
    },
    {
     "name": "stdout",
     "output_type": "stream",
     "text": [
      "- User testing\n",
      "- Compliance testing\n",
      "- Quality assurance testing\n",
      "- Compliance testing\n",
      "- Quality control\n",
      "- User testing\n",
      "- Compliance"
     ]
    },
    {
     "name": "stdout",
     "output_type": "stream",
     "text": [
      " testing\n",
      "- Quality assurance testing\n",
      "- Compliance testing\n",
      "[2025-05-04 16:56:08] Decode batch. #running-req: 1, #token: 10500, token usage: 0.51, gen throughput (token/s): 128.54, #queue-req: 0\n",
      "- Quality control\n",
      "- User testing\n",
      "- Compliance testing\n",
      "- Quality assurance"
     ]
    },
    {
     "name": "stdout",
     "output_type": "stream",
     "text": [
      " testing\n",
      "- Compliance testing\n",
      "- Quality control\n",
      "- User testing\n",
      "- Compliance testing\n",
      "- Quality assurance testing\n",
      "- Compliance[2025-05-04 16:56:09] Decode batch. #running-req: 1, #token: 10540, token usage: 0.51, gen throughput (token/s): 128.96, #queue-req: 0\n",
      " testing"
     ]
    },
    {
     "name": "stdout",
     "output_type": "stream",
     "text": [
      "\n",
      "- Quality control\n",
      "- User testing\n",
      "- Compliance testing\n",
      "- Quality assurance testing\n",
      "- Compliance testing\n",
      "- Quality control\n",
      "-"
     ]
    },
    {
     "name": "stdout",
     "output_type": "stream",
     "text": [
      " User testing\n",
      "- Compliance testing\n",
      "- Quality assurance testing\n",
      "[2025-05-04 16:56:09] Decode batch. #running-req: 1, #token: 10580, token usage: 0.52, gen throughput (token/s): 131.09, #queue-req: 0\n",
      "- Compliance testing\n",
      "- Quality control\n",
      "- User testing\n",
      "- Compliance testing"
     ]
    },
    {
     "name": "stdout",
     "output_type": "stream",
     "text": [
      "\n",
      "- Quality assurance testing\n",
      "- Compliance testing\n",
      "- Quality control\n",
      "- User testing\n",
      "- Compliance testing\n",
      "- Quality assurance[2025-05-04 16:56:09] Decode batch. #running-req: 1, #token: 10620, token usage: 0.52, gen throughput (token/s): 131.59, #queue-req: 0\n",
      " testing\n"
     ]
    },
    {
     "name": "stdout",
     "output_type": "stream",
     "text": [
      "- Compliance testing\n",
      "- Quality control\n",
      "- User testing\n",
      "- Compliance testing\n",
      "- Quality assurance testing\n",
      "- Compliance testing\n",
      "- Quality"
     ]
    },
    {
     "name": "stdout",
     "output_type": "stream",
     "text": [
      " control\n",
      "- User testing\n",
      "- Compliance testing\n",
      "-[2025-05-04 16:56:09] Decode batch. #running-req: 1, #token: 10660, token usage: 0.52, gen throughput (token/s): 131.64, #queue-req: 0\n",
      " Quality assurance testing\n",
      "- Compliance testing\n",
      "- Quality control\n",
      "- User testing\n"
     ]
    },
    {
     "name": "stdout",
     "output_type": "stream",
     "text": [
      "- Compliance testing\n",
      "- Quality assurance testing\n",
      "- Compliance testing\n",
      "- Quality control\n",
      "- User testing\n",
      "- Compliance testing[2025-05-04 16:56:10] Decode batch. #running-req: 1, #token: 10700, token usage: 0.52, gen throughput (token/s): 131.69, #queue-req: 0\n",
      "\n",
      "- Quality"
     ]
    },
    {
     "name": "stdout",
     "output_type": "stream",
     "text": [
      " assurance testing\n",
      "- Compliance testing\n",
      "- Quality control\n",
      "- User testing\n",
      "- Compliance testing\n",
      "- Quality assurance testing\n",
      "- Compliance testing"
     ]
    },
    {
     "name": "stdout",
     "output_type": "stream",
     "text": [
      "\n",
      "- Quality control\n",
      "- User testing\n",
      "-[2025-05-04 16:56:10] Decode batch. #running-req: 1, #token: 10740, token usage: 0.52, gen throughput (token/s): 130.15, #queue-req: 0\n",
      " Compliance testing\n",
      "- Quality assurance testing\n",
      "- Compliance testing\n",
      "- Quality control\n"
     ]
    },
    {
     "name": "stdout",
     "output_type": "stream",
     "text": [
      "- User testing\n",
      "- Compliance testing\n",
      "- Quality assurance testing\n",
      "- Compliance testing\n",
      "- Quality control\n",
      "- User testing[2025-05-04 16:56:10] Decode batch. #running-req: 1, #token: 10780, token usage: 0.53, gen throughput (token/s): 129.83, #queue-req: 0\n",
      "\n",
      "- Compliance"
     ]
    },
    {
     "name": "stdout",
     "output_type": "stream",
     "text": [
      " testing\n",
      "- Quality assurance testing\n",
      "- Compliance testing\n",
      "- Quality control\n",
      "- User testing\n",
      "- Compliance testing\n",
      "- Quality assurance testing"
     ]
    },
    {
     "name": "stdout",
     "output_type": "stream",
     "text": [
      "\n",
      "- Compliance testing\n",
      "- Quality control\n",
      "-[2025-05-04 16:56:11] Decode batch. #running-req: 1, #token: 10820, token usage: 0.53, gen throughput (token/s): 131.04, #queue-req: 0\n",
      " User testing\n",
      "- Compliance testing\n",
      "- Quality assurance testing\n",
      "- Compliance testing\n",
      "-"
     ]
    },
    {
     "name": "stdout",
     "output_type": "stream",
     "text": [
      " Quality control\n",
      "- User testing\n",
      "- Compliance testing\n",
      "- Quality assurance testing\n",
      "- Compliance testing\n",
      "- Quality control[2025-05-04 16:56:11] Decode batch. #running-req: 1, #token: 10860, token usage: 0.53, gen throughput (token/s): 131.41, #queue-req: 0\n",
      "\n",
      "- User testing"
     ]
    },
    {
     "name": "stdout",
     "output_type": "stream",
     "text": [
      "\n",
      "- Compliance testing\n",
      "- Quality assurance testing\n",
      "- Compliance testing\n",
      "- Quality control\n",
      "- User"
     ]
    },
    {
     "name": "stdout",
     "output_type": "stream",
     "text": [
      " testing\n",
      "- Compliance testing\n",
      "- Quality assurance testing\n",
      "- Compliance testing\n",
      "-[2025-05-04 16:56:11] Decode batch. #running-req: 1, #token: 10900, token usage: 0.53, gen throughput (token/s): 112.06, #queue-req: 0\n",
      " Quality control\n",
      "- User testing\n",
      "- Compliance testing\n"
     ]
    },
    {
     "name": "stdout",
     "output_type": "stream",
     "text": [
      "- Quality assurance testing\n",
      "- Compliance testing\n",
      "- Quality control\n",
      "- User testing\n",
      "- Compliance testing\n",
      "- Quality assurance testing\n",
      "-"
     ]
    },
    {
     "name": "stdout",
     "output_type": "stream",
     "text": [
      " Compliance testing[2025-05-04 16:56:12] Decode batch. #running-req: 1, #token: 10940, token usage: 0.53, gen throughput (token/s): 130.99, #queue-req: 0\n",
      "\n",
      "- Quality control\n",
      "- User testing\n",
      "- Compliance testing\n",
      "- Quality assurance testing\n",
      "- Compliance testing\n",
      "- Quality control"
     ]
    },
    {
     "name": "stdout",
     "output_type": "stream",
     "text": [
      "\n",
      "- User testing\n",
      "- Compliance testing\n",
      "- Quality assurance testing\n",
      "-[2025-05-04 16:56:12] Decode batch. #running-req: 1, #token: 10980, token usage: 0.54, gen throughput (token/s): 131.26, #queue-req: 0\n",
      " Compliance testing\n",
      "- Quality control\n",
      "- User testing\n",
      "-"
     ]
    },
    {
     "name": "stdout",
     "output_type": "stream",
     "text": [
      " Compliance testing\n",
      "- Quality assurance testing\n",
      "- Compliance testing\n",
      "- Quality control\n",
      "- User testing\n",
      "- Compliance testing\n",
      "- Quality assurance"
     ]
    },
    {
     "name": "stdout",
     "output_type": "stream",
     "text": [
      " testing[2025-05-04 16:56:12] Decode batch. #running-req: 1, #token: 11020, token usage: 0.54, gen throughput (token/s): 131.35, #queue-req: 0\n",
      "\n",
      "- Compliance testing\n",
      "- Quality control\n",
      "- User testing\n",
      "- Compliance testing\n",
      "- Quality assurance testing\n",
      "- Compliance testing\n"
     ]
    },
    {
     "name": "stdout",
     "output_type": "stream",
     "text": [
      "- Quality control\n",
      "- User testing\n",
      "- Compliance testing\n",
      "- Quality[2025-05-04 16:56:13] Decode batch. #running-req: 1, #token: 11060, token usage: 0.54, gen throughput (token/s): 129.80, #queue-req: 0\n",
      " assurance testing\n",
      "- Compliance testing\n",
      "- Quality control\n"
     ]
    },
    {
     "name": "stdout",
     "output_type": "stream",
     "text": [
      "- User testing\n",
      "- Compliance testing\n",
      "- Quality assurance testing\n",
      "- Compliance testing\n",
      "- Quality control\n",
      "- User testing\n",
      "- Compliance"
     ]
    },
    {
     "name": "stdout",
     "output_type": "stream",
     "text": [
      " testing\n",
      "[2025-05-04 16:56:13] Decode batch. #running-req: 1, #token: 11100, token usage: 0.54, gen throughput (token/s): 128.96, #queue-req: 0\n",
      "- Quality assurance testing\n",
      "- Compliance testing\n",
      "- Quality control\n",
      "- User testing\n",
      "- Compliance testing\n",
      "- Quality assurance testing"
     ]
    },
    {
     "name": "stdout",
     "output_type": "stream",
     "text": [
      "\n",
      "- Compliance testing\n",
      "- Quality control\n",
      "- User testing\n",
      "- Compliance[2025-05-04 16:56:13] Decode batch. #running-req: 1, #token: 11140, token usage: 0.54, gen throughput (token/s): 131.05, #queue-req: 0\n",
      " testing\n",
      "- Quality assurance testing\n",
      "- Compliance testing\n",
      "-"
     ]
    },
    {
     "name": "stdout",
     "output_type": "stream",
     "text": [
      " Quality control\n",
      "- User testing\n",
      "- Compliance testing\n",
      "- Quality assurance testing\n",
      "- Compliance testing\n",
      "- Quality control\n",
      "- User testing"
     ]
    },
    {
     "name": "stdout",
     "output_type": "stream",
     "text": [
      "\n",
      "[2025-05-04 16:56:14] Decode batch. #running-req: 1, #token: 11180, token usage: 0.55, gen throughput (token/s): 131.03, #queue-req: 0\n",
      "- Compliance testing\n",
      "- Quality assurance testing\n",
      "- Compliance testing\n",
      "- Quality control\n",
      "- User testing\n",
      "- Compliance testing\n",
      "-"
     ]
    },
    {
     "name": "stdout",
     "output_type": "stream",
     "text": [
      " Quality assurance testing\n",
      "- Compliance testing\n",
      "- Quality control\n",
      "- User[2025-05-04 16:56:14] Decode batch. #running-req: 1, #token: 11220, token usage: 0.55, gen throughput (token/s): 131.94, #queue-req: 0\n",
      " testing\n",
      "- Compliance testing\n",
      "- Quality assurance testing\n",
      "- Compliance"
     ]
    },
    {
     "name": "stdout",
     "output_type": "stream",
     "text": [
      " testing\n",
      "- Quality control\n",
      "- User testing\n",
      "- Compliance testing\n",
      "- Quality assurance testing\n",
      "- Compliance testing\n",
      "- Quality control\n"
     ]
    },
    {
     "name": "stdout",
     "output_type": "stream",
     "text": [
      "[2025-05-04 16:56:14] Decode batch. #running-req: 1, #token: 11260, token usage: 0.55, gen throughput (token/s): 132.10, #queue-req: 0\n",
      "- User testing\n",
      "- Compliance testing\n",
      "- Quality assurance testing\n",
      "- Compliance testing\n",
      "- Quality control\n",
      "- User testing\n",
      "- Compliance"
     ]
    },
    {
     "name": "stdout",
     "output_type": "stream",
     "text": [
      " testing\n",
      "- Quality assurance testing\n",
      "- Compliance testing\n",
      "- Quality[2025-05-04 16:56:14] Decode batch. #running-req: 1, #token: 11300, token usage: 0.55, gen throughput (token/s): 132.46, #queue-req: 0\n",
      " control\n",
      "- User testing\n",
      "- Compliance testing\n",
      "- Quality assurance testing"
     ]
    },
    {
     "name": "stdout",
     "output_type": "stream",
     "text": [
      "\n",
      "- Compliance testing\n",
      "- Quality control\n",
      "- User testing\n",
      "- Compliance testing\n",
      "- Quality assurance testing\n",
      "- Compliance testing\n",
      "[2025-05-04 16:56:15] Decode batch. #running-req: 1, #token: 11340, token usage: 0.55, gen throughput (token/s): 132.91, #queue-req: 0\n",
      "-"
     ]
    },
    {
     "name": "stdout",
     "output_type": "stream",
     "text": [
      " Quality control\n",
      "- User testing\n",
      "- Compliance testing\n",
      "- Quality assurance testing\n",
      "- Compliance testing\n",
      "- Quality control\n",
      "- User testing"
     ]
    },
    {
     "name": "stdout",
     "output_type": "stream",
     "text": [
      "\n",
      "- Compliance testing\n",
      "- Quality assurance testing\n",
      "- Compliance[2025-05-04 16:56:15] Decode batch. #running-req: 1, #token: 11380, token usage: 0.56, gen throughput (token/s): 129.31, #queue-req: 0\n",
      " testing\n",
      "- Quality control\n",
      "- User testing\n",
      "- Compliance testing\n"
     ]
    },
    {
     "name": "stdout",
     "output_type": "stream",
     "text": [
      "- Quality assurance testing\n",
      "- Compliance testing\n",
      "- Quality control\n",
      "- User testing\n",
      "- Compliance testing\n",
      "- Quality assurance testing\n"
     ]
    },
    {
     "name": "stdout",
     "output_type": "stream",
     "text": [
      "[2025-05-04 16:56:15] Decode batch. #running-req: 1, #token: 11420, token usage: 0.56, gen throughput (token/s): 128.72, #queue-req: 0\n",
      "- Compliance testing\n",
      "- Quality control\n",
      "- User testing\n",
      "- Compliance testing\n",
      "- Quality assurance testing\n",
      "- Compliance testing\n",
      "- Quality"
     ]
    },
    {
     "name": "stdout",
     "output_type": "stream",
     "text": [
      " control\n",
      "- User testing\n",
      "- Compliance testing\n",
      "- Quality assurance[2025-05-04 16:56:16] Decode batch. #running-req: 1, #token: 11460, token usage: 0.56, gen throughput (token/s): 130.80, #queue-req: 0\n",
      " testing\n",
      "- Compliance testing\n",
      "- Quality control\n",
      "- User testing\n"
     ]
    },
    {
     "name": "stdout",
     "output_type": "stream",
     "text": [
      "- Compliance testing\n",
      "- Quality assurance testing\n",
      "- Compliance testing\n",
      "- Quality control\n",
      "- User testing\n",
      "- Compliance testing\n",
      "-[2025-05-04 16:56:16] Decode batch. #running-req: 1, #token: 11500, token usage: 0.56, gen throughput (token/s): 131.93, #queue-req: 0\n",
      " Quality"
     ]
    },
    {
     "name": "stdout",
     "output_type": "stream",
     "text": [
      " assurance testing\n",
      "- Compliance testing\n",
      "- Quality control\n",
      "- User testing\n",
      "- Compliance testing\n",
      "- Quality assurance testing\n",
      "- Compliance testing"
     ]
    },
    {
     "name": "stdout",
     "output_type": "stream",
     "text": [
      "\n",
      "- Quality control\n",
      "- User testing\n",
      "- Compliance testing[2025-05-04 16:56:16] Decode batch. #running-req: 1, #token: 11540, token usage: 0.56, gen throughput (token/s): 132.45, #queue-req: 0\n",
      "\n",
      "- Quality assurance testing\n",
      "- Compliance testing\n",
      "- Quality control\n",
      "-"
     ]
    },
    {
     "name": "stdout",
     "output_type": "stream",
     "text": [
      " User testing\n",
      "- Compliance testing\n",
      "- Quality assurance testing\n",
      "- Compliance testing\n",
      "- Quality control\n",
      "- User testing\n",
      "-[2025-05-04 16:56:17] Decode batch. #running-req: 1, #token: 11580, token usage: 0.57, gen throughput (token/s): 132.39, #queue-req: 0\n",
      " Compliance testing"
     ]
    },
    {
     "name": "stdout",
     "output_type": "stream",
     "text": [
      "\n",
      "- Quality assurance testing\n",
      "- Compliance testing\n",
      "- Quality control\n",
      "- User testing\n",
      "- Compliance testing\n",
      "- Quality assurance testing\n"
     ]
    },
    {
     "name": "stdout",
     "output_type": "stream",
     "text": [
      "- Compliance testing\n",
      "- Quality control\n",
      "- User testing[2025-05-04 16:56:17] Decode batch. #running-req: 1, #token: 11620, token usage: 0.57, gen throughput (token/s): 132.54, #queue-req: 0\n",
      "\n",
      "- Compliance testing\n",
      "- Quality assurance testing\n",
      "- Compliance testing\n",
      "- Quality"
     ]
    },
    {
     "name": "stdout",
     "output_type": "stream",
     "text": [
      " control\n",
      "- User testing\n",
      "- Compliance testing\n",
      "- Quality assurance testing\n",
      "- Compliance testing\n",
      "- Quality control\n",
      "-[2025-05-04 16:56:17] Decode batch. #running-req: 1, #token: 11660, token usage: 0.57, gen throughput (token/s): 133.10, #queue-req: 0\n",
      " User testing\n"
     ]
    },
    {
     "name": "stdout",
     "output_type": "stream",
     "text": [
      "- Compliance testing\n",
      "- Quality assurance testing\n",
      "- Compliance testing\n",
      "- Quality control\n",
      "- User testing\n",
      "- Compliance testing\n",
      "- Quality"
     ]
    },
    {
     "name": "stdout",
     "output_type": "stream",
     "text": [
      " assurance testing\n",
      "- Compliance testing\n",
      "- Quality control[2025-05-04 16:56:17] Decode batch. #running-req: 1, #token: 11700, token usage: 0.57, gen throughput (token/s): 132.95, #queue-req: 0\n",
      "\n",
      "- User testing\n",
      "- Compliance testing\n",
      "- Quality assurance testing\n",
      "- Compliance testing"
     ]
    },
    {
     "name": "stdout",
     "output_type": "stream",
     "text": [
      "\n",
      "- Quality control\n",
      "- User testing\n",
      "- Compliance testing\n",
      "- Quality assurance testing\n",
      "- Compliance testing\n",
      "-[2025-05-04 16:56:18] Decode batch. #running-req: 1, #token: 11740, token usage: 0.57, gen throughput (token/s): 133.29, #queue-req: 0\n",
      " Quality control\n",
      "-"
     ]
    },
    {
     "name": "stdout",
     "output_type": "stream",
     "text": [
      " User testing\n",
      "- Compliance testing\n",
      "- Quality assurance testing\n",
      "- Compliance testing\n",
      "- Quality control\n",
      "- User testing\n",
      "- Compliance testing"
     ]
    },
    {
     "name": "stdout",
     "output_type": "stream",
     "text": [
      "\n",
      "- Quality assurance testing\n",
      "- Compliance testing[2025-05-04 16:56:18] Decode batch. #running-req: 1, #token: 11780, token usage: 0.58, gen throughput (token/s): 132.82, #queue-req: 0\n",
      "\n",
      "- Quality control\n",
      "- User testing\n",
      "- Compliance testing\n",
      "- Quality assurance testing\n"
     ]
    },
    {
     "name": "stdout",
     "output_type": "stream",
     "text": [
      "- Compliance testing\n",
      "- Quality control\n",
      "- User testing\n",
      "- Compliance testing\n",
      "- Quality assurance testing\n",
      "-[2025-05-04 16:56:18] Decode batch. #running-req: 1, #token: 11820, token usage: 0.58, gen throughput (token/s): 131.77, #queue-req: 0\n",
      " Compliance testing\n",
      "- Quality"
     ]
    },
    {
     "name": "stdout",
     "output_type": "stream",
     "text": [
      " control\n",
      "- User testing\n",
      "- Compliance testing\n",
      "- Quality assurance testing\n",
      "- Compliance testing\n",
      "- Quality control\n",
      "- User testing\n"
     ]
    },
    {
     "name": "stdout",
     "output_type": "stream",
     "text": [
      "- Compliance testing\n",
      "- Quality assurance testing[2025-05-04 16:56:19] Decode batch. #running-req: 1, #token: 11860, token usage: 0.58, gen throughput (token/s): 133.17, #queue-req: 0\n",
      "\n",
      "- Compliance testing\n",
      "- Quality control\n",
      "- User testing\n",
      "- Compliance testing\n",
      "- Quality"
     ]
    },
    {
     "name": "stdout",
     "output_type": "stream",
     "text": [
      " assurance testing\n",
      "- Compliance testing\n",
      "- Quality control\n",
      "- User testing\n",
      "- Compliance testing\n",
      "- Quality[2025-05-04 16:56:19] Decode batch. #running-req: 1, #token: 11900, token usage: 0.58, gen throughput (token/s): 132.82, #queue-req: 0\n",
      " assurance testing\n",
      "- Compliance testing"
     ]
    },
    {
     "name": "stdout",
     "output_type": "stream",
     "text": [
      "\n",
      "- Quality control\n",
      "- User testing\n",
      "- Compliance testing\n",
      "- Quality assurance testing\n",
      "- Compliance testing\n",
      "- Quality control\n",
      "-"
     ]
    },
    {
     "name": "stdout",
     "output_type": "stream",
     "text": [
      " User testing\n",
      "- Compliance testing\n",
      "[2025-05-04 16:56:19] Decode batch. #running-req: 1, #token: 11940, token usage: 0.58, gen throughput (token/s): 133.30, #queue-req: 0\n",
      "- Quality assurance testing\n",
      "- Compliance testing\n",
      "- Quality control\n",
      "- User testing\n",
      "- Compliance testing"
     ]
    },
    {
     "name": "stdout",
     "output_type": "stream",
     "text": [
      "\n",
      "- Quality assurance testing\n",
      "- Compliance testing\n",
      "- Quality control\n",
      "- User testing\n",
      "- Compliance[2025-05-04 16:56:20] Decode batch. #running-req: 1, #token: 11980, token usage: 0.58, gen throughput (token/s): 132.97, #queue-req: 0\n",
      " testing\n",
      "- Quality assurance testing\n"
     ]
    },
    {
     "name": "stdout",
     "output_type": "stream",
     "text": [
      "- Compliance testing\n",
      "- Quality control\n",
      "- User testing\n",
      "- Compliance testing\n",
      "- Quality assurance testing\n",
      "- Compliance testing\n",
      "-"
     ]
    },
    {
     "name": "stdout",
     "output_type": "stream",
     "text": [
      " Quality control\n",
      "- User testing\n",
      "[2025-05-04 16:56:20] Decode batch. #running-req: 1, #token: 12020, token usage: 0.59, gen throughput (token/s): 128.92, #queue-req: 0\n",
      "- Compliance testing\n",
      "- Quality assurance testing\n",
      "- Compliance testing\n",
      "- Quality control\n",
      "- User testing"
     ]
    },
    {
     "name": "stdout",
     "output_type": "stream",
     "text": [
      "\n",
      "- Compliance testing\n",
      "- Quality assurance testing\n",
      "- Compliance testing\n",
      "- Quality control\n",
      "- User[2025-05-04 16:56:20] Decode batch. #running-req: 1, #token: 12060, token usage: 0.59, gen throughput (token/s): 124.71, #queue-req: 0\n",
      " testing\n",
      "- Compliance testing"
     ]
    },
    {
     "name": "stdout",
     "output_type": "stream",
     "text": [
      "\n",
      "- Quality assurance testing\n",
      "- Compliance testing\n",
      "- Quality control\n",
      "- User testing\n",
      "- Compliance testing\n",
      "- Quality assurance testing\n"
     ]
    },
    {
     "name": "stdout",
     "output_type": "stream",
     "text": [
      "- Compliance testing\n",
      "- Quality control\n",
      "[2025-05-04 16:56:20] Decode batch. #running-req: 1, #token: 12100, token usage: 0.59, gen throughput (token/s): 131.14, #queue-req: 0\n",
      "- User testing\n",
      "- Compliance testing\n",
      "- Quality assurance testing\n",
      "- Compliance testing\n",
      "- Quality"
     ]
    },
    {
     "name": "stdout",
     "output_type": "stream",
     "text": [
      " control\n",
      "- User testing\n",
      "- Compliance testing\n",
      "- Quality assurance testing\n",
      "- Compliance testing\n",
      "- Quality[2025-05-04 16:56:21] Decode batch. #running-req: 1, #token: 12140, token usage: 0.59, gen throughput (token/s): 130.82, #queue-req: 0\n",
      " control\n",
      "- User testing\n"
     ]
    },
    {
     "name": "stdout",
     "output_type": "stream",
     "text": [
      "- Compliance testing\n",
      "- Quality assurance testing\n",
      "- Compliance testing\n",
      "- Quality control\n",
      "- User testing\n",
      "- Compliance testing\n",
      "- Quality"
     ]
    },
    {
     "name": "stdout",
     "output_type": "stream",
     "text": [
      " assurance testing\n",
      "- Compliance testing\n",
      "[2025-05-04 16:56:21] Decode batch. #running-req: 1, #token: 12180, token usage: 0.59, gen throughput (token/s): 130.62, #queue-req: 0\n",
      "- Quality control\n",
      "- User testing\n",
      "- Compliance testing\n",
      "- Quality assurance testing\n",
      "- Compliance testing"
     ]
    },
    {
     "name": "stdout",
     "output_type": "stream",
     "text": [
      "\n",
      "- Quality control\n",
      "- User testing\n",
      "- Compliance testing\n",
      "- Quality assurance testing\n",
      "- Compliance[2025-05-04 16:56:21] Decode batch. #running-req: 1, #token: 12220, token usage: 0.60, gen throughput (token/s): 123.80, #queue-req: 0\n",
      " testing\n",
      "- Quality"
     ]
    },
    {
     "name": "stdout",
     "output_type": "stream",
     "text": [
      " control\n",
      "- User testing\n",
      "- Compliance testing\n",
      "- Quality assurance testing\n",
      "- Compliance testing\n",
      "- Quality control\n",
      "- User testing\n"
     ]
    },
    {
     "name": "stdout",
     "output_type": "stream",
     "text": [
      "- Compliance testing\n",
      "- Quality assurance testing\n",
      "[2025-05-04 16:56:22] Decode batch. #running-req: 1, #token: 12260, token usage: 0.60, gen throughput (token/s): 130.56, #queue-req: 0\n",
      "- Compliance testing\n",
      "- Quality control\n",
      "- User testing\n",
      "- Compliance testing\n",
      "- Quality"
     ]
    },
    {
     "name": "stdout",
     "output_type": "stream",
     "text": [
      " assurance testing\n",
      "- Compliance testing\n",
      "- Quality control\n",
      "- User testing\n",
      "- Compliance testing\n",
      "- Quality assurance[2025-05-04 16:56:22] Decode batch. #running-req: 1, #token: 12300, token usage: 0.60, gen throughput (token/s): 129.86, #queue-req: 0\n",
      " testing\n",
      "- Compliance"
     ]
    },
    {
     "name": "stdout",
     "output_type": "stream",
     "text": [
      " testing\n",
      "- Quality control\n",
      "- User testing\n",
      "- Compliance testing\n",
      "- Quality assurance testing\n",
      "- Compliance testing\n",
      "- Quality control"
     ]
    },
    {
     "name": "stdout",
     "output_type": "stream",
     "text": [
      "\n",
      "- User testing\n",
      "- Compliance testing\n",
      "-[2025-05-04 16:56:22] Decode batch. #running-req: 1, #token: 12340, token usage: 0.60, gen throughput (token/s): 128.86, #queue-req: 0\n",
      " Quality assurance testing\n",
      "- Compliance testing\n",
      "- Quality control\n",
      "- User testing\n"
     ]
    },
    {
     "name": "stdout",
     "output_type": "stream",
     "text": [
      "- Compliance testing\n",
      "- Quality assurance testing\n",
      "- Compliance testing\n",
      "- Quality control\n",
      "- User testing\n",
      "- Compliance testing[2025-05-04 16:56:23] Decode batch. #running-req: 1, #token: 12380, token usage: 0.60, gen throughput (token/s): 128.63, #queue-req: 0\n",
      "\n",
      "-"
     ]
    },
    {
     "name": "stdout",
     "output_type": "stream",
     "text": [
      " Quality assurance testing\n",
      "- Compliance testing\n",
      "- Quality control\n",
      "- User testing\n",
      "- Compliance testing\n",
      "- Quality assurance testing\n",
      "-"
     ]
    },
    {
     "name": "stdout",
     "output_type": "stream",
     "text": [
      " Compliance testing\n",
      "- Quality control\n",
      "- User testing\n",
      "-[2025-05-04 16:56:23] Decode batch. #running-req: 1, #token: 12420, token usage: 0.61, gen throughput (token/s): 129.38, #queue-req: 0\n",
      " Compliance testing\n",
      "- Quality assurance testing\n",
      "- Compliance testing\n",
      "- Quality control"
     ]
    },
    {
     "name": "stdout",
     "output_type": "stream",
     "text": [
      "\n",
      "- User testing\n",
      "- Compliance testing\n",
      "- Quality assurance testing\n",
      "- Compliance testing\n",
      "- Quality control\n",
      "- User testing[2025-05-04 16:56:23] Decode batch. #running-req: 1, #token: 12460, token usage: 0.61, gen throughput (token/s): 129.16, #queue-req: 0\n",
      "\n"
     ]
    },
    {
     "name": "stdout",
     "output_type": "stream",
     "text": [
      "- Compliance testing\n",
      "- Quality assurance testing\n",
      "- Compliance testing\n",
      "- Quality control\n",
      "- User testing\n",
      "- Compliance testing"
     ]
    },
    {
     "name": "stdout",
     "output_type": "stream",
     "text": [
      "\n",
      "- Quality assurance testing\n",
      "- Compliance testing\n",
      "- Quality control\n",
      "-[2025-05-04 16:56:24] Decode batch. #running-req: 1, #token: 12500, token usage: 0.61, gen throughput (token/s): 122.80, #queue-req: 0\n",
      " User testing\n",
      "- Compliance testing\n",
      "- Quality assurance testing"
     ]
    },
    {
     "name": "stdout",
     "output_type": "stream",
     "text": [
      "\n",
      "- Compliance testing\n",
      "- Quality control\n",
      "- User testing\n",
      "- Compliance testing\n",
      "- Quality assurance testing\n",
      "- Compliance testing\n",
      "-"
     ]
    },
    {
     "name": "stdout",
     "output_type": "stream",
     "text": [
      " Quality control[2025-05-04 16:56:24] Decode batch. #running-req: 1, #token: 12540, token usage: 0.61, gen throughput (token/s): 129.59, #queue-req: 0\n",
      "\n",
      "- User testing\n",
      "- Compliance testing\n",
      "- Quality assurance testing\n",
      "- Compliance testing\n",
      "- Quality control\n",
      "- User"
     ]
    },
    {
     "name": "stdout",
     "output_type": "stream",
     "text": [
      " testing\n",
      "- Compliance testing\n",
      "- Quality assurance testing\n",
      "- Compliance testing\n",
      "-[2025-05-04 16:56:24] Decode batch. #running-req: 1, #token: 12580, token usage: 0.61, gen throughput (token/s): 129.60, #queue-req: 0\n",
      " Quality control\n",
      "- User testing\n",
      "- Compliance testing\n"
     ]
    },
    {
     "name": "stdout",
     "output_type": "stream",
     "text": [
      "- Quality assurance testing\n",
      "- Compliance testing\n",
      "- Quality control\n",
      "- User testing\n",
      "- Compliance testing\n",
      "- Quality assurance testing\n",
      "-"
     ]
    },
    {
     "name": "stdout",
     "output_type": "stream",
     "text": [
      " Compliance testing[2025-05-04 16:56:25] Decode batch. #running-req: 1, #token: 12620, token usage: 0.62, gen throughput (token/s): 129.66, #queue-req: 0\n",
      "\n",
      "- Quality control\n",
      "- User testing\n",
      "- Compliance testing\n",
      "- Quality assurance testing\n",
      "- Compliance testing\n",
      "- Quality"
     ]
    },
    {
     "name": "stdout",
     "output_type": "stream",
     "text": [
      " control\n",
      "- User testing\n",
      "- Compliance testing\n",
      "- Quality assurance testing\n",
      "-[2025-05-04 16:56:25] Decode batch. #running-req: 1, #token: 12660, token usage: 0.62, gen throughput (token/s): 128.22, #queue-req: 0\n",
      " Compliance testing\n",
      "- Quality control\n",
      "- User testing"
     ]
    },
    {
     "name": "stdout",
     "output_type": "stream",
     "text": [
      "\n",
      "- Compliance testing\n",
      "- Quality assurance testing\n",
      "- Compliance testing\n",
      "- Quality control\n",
      "- User testing"
     ]
    },
    {
     "name": "stdout",
     "output_type": "stream",
     "text": [
      "\n",
      "- Compliance testing\n",
      "- Quality assurance testing[2025-05-04 16:56:25] Decode batch. #running-req: 1, #token: 12700, token usage: 0.62, gen throughput (token/s): 114.54, #queue-req: 0\n",
      "\n",
      "- Compliance testing\n",
      "- Quality control\n",
      "- User testing\n",
      "- Compliance testing\n"
     ]
    },
    {
     "name": "stdout",
     "output_type": "stream",
     "text": [
      "- Quality assurance testing\n",
      "- Compliance testing\n",
      "- Quality control\n",
      "- User testing\n",
      "- Compliance testing\n",
      "- Quality[2025-05-04 16:56:26] Decode batch. #running-req: 1, #token: 12740, token usage: 0.62, gen throughput (token/s): 129.05, #queue-req: 0\n",
      " assurance testing\n"
     ]
    },
    {
     "name": "stdout",
     "output_type": "stream",
     "text": [
      "- Compliance testing\n",
      "- Quality control\n",
      "- User testing\n",
      "- Compliance testing\n",
      "- Quality assurance testing\n",
      "- Compliance testing\n",
      "-"
     ]
    },
    {
     "name": "stdout",
     "output_type": "stream",
     "text": [
      " Quality control\n",
      "- User testing\n",
      "- Compliance testing\n",
      "[2025-05-04 16:56:26] Decode batch. #running-req: 1, #token: 12780, token usage: 0.62, gen throughput (token/s): 124.12, #queue-req: 0\n",
      "- Quality assurance testing\n",
      "- Compliance testing\n",
      "- Quality control\n",
      "-"
     ]
    },
    {
     "name": "stdout",
     "output_type": "stream",
     "text": [
      " User testing\n",
      "- Compliance testing\n",
      "- Quality assurance testing\n",
      "- Compliance testing\n",
      "- Quality control\n",
      "- User testing\n",
      "- Compliance"
     ]
    },
    {
     "name": "stdout",
     "output_type": "stream",
     "text": [
      "[2025-05-04 16:56:26] Decode batch. #running-req: 1, #token: 12820, token usage: 0.63, gen throughput (token/s): 128.80, #queue-req: 0\n",
      " testing\n",
      "- Quality assurance testing\n",
      "- Compliance testing\n",
      "- Quality control\n",
      "- User testing\n",
      "- Compliance testing\n",
      "- Quality assurance testing"
     ]
    },
    {
     "name": "stdout",
     "output_type": "stream",
     "text": [
      "\n",
      "- Compliance testing\n",
      "- Quality control\n",
      "- User testing\n",
      "[2025-05-04 16:56:26] Decode batch. #running-req: 1, #token: 12860, token usage: 0.63, gen throughput (token/s): 129.44, #queue-req: 0\n",
      "- Compliance testing\n",
      "- Quality assurance testing\n",
      "- Compliance testing\n"
     ]
    },
    {
     "name": "stdout",
     "output_type": "stream",
     "text": [
      "- Quality control\n",
      "- User testing\n",
      "- Compliance testing\n",
      "- Quality assurance testing\n",
      "- Compliance testing\n",
      "- Quality control\n",
      "-"
     ]
    },
    {
     "name": "stdout",
     "output_type": "stream",
     "text": [
      " User[2025-05-04 16:56:27] Decode batch. #running-req: 1, #token: 12900, token usage: 0.63, gen throughput (token/s): 129.21, #queue-req: 0\n",
      " testing\n",
      "- Compliance testing\n",
      "- Quality assurance testing\n",
      "- Compliance testing\n",
      "- Quality control\n",
      "- User testing\n",
      "- Compliance"
     ]
    },
    {
     "name": "stdout",
     "output_type": "stream",
     "text": [
      " testing\n",
      "- Quality assurance testing\n",
      "- Compliance testing\n",
      "- Quality control\n",
      "[2025-05-04 16:56:27] Decode batch. #running-req: 1, #token: 12940, token usage: 0.63, gen throughput (token/s): 129.90, #queue-req: 0\n",
      "- User testing\n",
      "- Compliance testing\n",
      "- Quality assurance testing"
     ]
    },
    {
     "name": "stdout",
     "output_type": "stream",
     "text": [
      "\n",
      "- Compliance testing\n",
      "- Quality control\n",
      "- User testing\n",
      "- Compliance testing\n",
      "- Quality assurance testing\n",
      "- Compliance testing\n",
      "-"
     ]
    },
    {
     "name": "stdout",
     "output_type": "stream",
     "text": [
      " Quality[2025-05-04 16:56:27] Decode batch. #running-req: 1, #token: 12980, token usage: 0.63, gen throughput (token/s): 131.42, #queue-req: 0\n",
      " control\n",
      "- User testing\n",
      "- Compliance testing\n",
      "- Quality assurance testing\n",
      "- Compliance testing\n",
      "- Quality control\n",
      "-"
     ]
    },
    {
     "name": "stdout",
     "output_type": "stream",
     "text": [
      " User testing\n",
      "- Compliance testing\n",
      "- Quality assurance testing\n",
      "- Compliance testing\n",
      "[2025-05-04 16:56:28] Decode batch. #running-req: 1, #token: 13020, token usage: 0.64, gen throughput (token/s): 123.94, #queue-req: 0\n",
      "- Quality control\n",
      "- User testing\n",
      "- Compliance testing"
     ]
    },
    {
     "name": "stdout",
     "output_type": "stream",
     "text": [
      "\n",
      "- Quality assurance testing\n",
      "- Compliance testing\n",
      "- Quality control\n",
      "- User testing\n",
      "- Compliance testing\n",
      "- Quality assurance testing\n"
     ]
    },
    {
     "name": "stdout",
     "output_type": "stream",
     "text": [
      "- Compliance[2025-05-04 16:56:28] Decode batch. #running-req: 1, #token: 13060, token usage: 0.64, gen throughput (token/s): 131.17, #queue-req: 0\n",
      " testing\n",
      "- Quality control\n",
      "- User testing\n",
      "- Compliance testing\n",
      "- Quality assurance testing\n",
      "- Compliance testing\n",
      "- Quality"
     ]
    },
    {
     "name": "stdout",
     "output_type": "stream",
     "text": [
      " control\n",
      "- User testing\n",
      "- Compliance testing\n",
      "- Quality assurance testing\n",
      "[2025-05-04 16:56:28] Decode batch. #running-req: 1, #token: 13100, token usage: 0.64, gen throughput (token/s): 130.99, #queue-req: 0\n",
      "- Compliance testing\n",
      "- Quality control\n",
      "- User testing\n"
     ]
    },
    {
     "name": "stdout",
     "output_type": "stream",
     "text": [
      "- Compliance testing\n",
      "- Quality assurance testing\n",
      "- Compliance testing\n",
      "- Quality control\n",
      "- User testing\n",
      "- Compliance testing\n",
      "- Quality"
     ]
    },
    {
     "name": "stdout",
     "output_type": "stream",
     "text": [
      " assurance[2025-05-04 16:56:29] Decode batch. #running-req: 1, #token: 13140, token usage: 0.64, gen throughput (token/s): 130.50, #queue-req: 0\n",
      " testing\n",
      "- Compliance testing\n",
      "- Quality control\n",
      "- User testing\n",
      "- Compliance testing\n",
      "- Quality assurance testing\n",
      "- Compliance testing"
     ]
    },
    {
     "name": "stdout",
     "output_type": "stream",
     "text": [
      "\n",
      "- Quality control\n",
      "- User testing\n",
      "- Compliance testing\n",
      "-[2025-05-04 16:56:29] Decode batch. #running-req: 1, #token: 13180, token usage: 0.64, gen throughput (token/s): 130.74, #queue-req: 0\n",
      " Quality assurance testing\n",
      "- Compliance testing\n",
      "- Quality control\n"
     ]
    },
    {
     "name": "stdout",
     "output_type": "stream",
     "text": [
      "- User testing\n",
      "- Compliance testing\n",
      "- Quality assurance testing\n",
      "- Compliance testing\n",
      "- Quality control\n",
      "- User testing\n",
      "-"
     ]
    },
    {
     "name": "stdout",
     "output_type": "stream",
     "text": [
      " Compliance testing[2025-05-04 16:56:29] Decode batch. #running-req: 1, #token: 13220, token usage: 0.65, gen throughput (token/s): 129.08, #queue-req: 0\n",
      "\n",
      "- Quality assurance testing\n",
      "- Compliance testing\n",
      "- Quality control\n",
      "- User testing\n",
      "- Compliance testing\n",
      "- Quality assurance"
     ]
    },
    {
     "name": "stdout",
     "output_type": "stream",
     "text": [
      " testing\n",
      "- Compliance testing\n",
      "- Quality control\n",
      "- User testing\n",
      "-[2025-05-04 16:56:30] Decode batch. #running-req: 1, #token: 13260, token usage: 0.65, gen throughput (token/s): 130.69, #queue-req: 0\n",
      " Compliance testing\n",
      "- Quality assurance testing\n",
      "- Compliance testing\n"
     ]
    },
    {
     "name": "stdout",
     "output_type": "stream",
     "text": [
      "- Quality control\n",
      "- User testing\n",
      "- Compliance testing\n",
      "- Quality assurance testing\n",
      "- Compliance testing\n",
      "- Quality control\n",
      "-"
     ]
    },
    {
     "name": "stdout",
     "output_type": "stream",
     "text": [
      " User testing[2025-05-04 16:56:30] Decode batch. #running-req: 1, #token: 13300, token usage: 0.65, gen throughput (token/s): 129.75, #queue-req: 0\n",
      "\n",
      "- Compliance testing\n",
      "- Quality assurance testing\n",
      "- Compliance testing\n",
      "- Quality control\n",
      "- User testing\n",
      "- Compliance testing"
     ]
    },
    {
     "name": "stdout",
     "output_type": "stream",
     "text": [
      "\n",
      "- Quality assurance testing\n",
      "- Compliance testing\n",
      "- Quality control\n",
      "-[2025-05-04 16:56:30] Decode batch. #running-req: 1, #token: 13340, token usage: 0.65, gen throughput (token/s): 130.18, #queue-req: 0\n",
      " User testing\n",
      "- Compliance testing\n",
      "- Quality assurance testing\n"
     ]
    },
    {
     "name": "stdout",
     "output_type": "stream",
     "text": [
      "- Compliance testing\n",
      "- Quality control\n",
      "- User testing\n",
      "- Compliance testing"
     ]
    },
    {
     "name": "stdout",
     "output_type": "stream",
     "text": [
      "\n",
      "- Quality assurance testing\n",
      "- Compliance testing\n",
      "- Quality control[2025-05-04 16:56:31] Decode batch. #running-req: 1, #token: 13380, token usage: 0.65, gen throughput (token/s): 100.32, #queue-req: 0\n",
      "\n",
      "- User testing\n",
      "- Compliance testing\n",
      "- Quality assurance testing\n"
     ]
    },
    {
     "name": "stdout",
     "output_type": "stream",
     "text": [
      "- Compliance testing\n",
      "- Quality control\n",
      "- User testing\n",
      "- Compliance testing\n",
      "- Quality assurance testing\n",
      "- Compliance testing\n",
      "-[2025-05-04 16:56:31] Decode batch. #running-req: 1, #token: 13420, token usage: 0.66, gen throughput (token/s): 130.71, #queue-req: 0\n",
      " Quality"
     ]
    },
    {
     "name": "stdout",
     "output_type": "stream",
     "text": [
      " control\n",
      "- User testing\n",
      "- Compliance testing\n",
      "- Quality assurance testing\n",
      "- Compliance testing\n",
      "- Quality control\n",
      "- User testing\n"
     ]
    },
    {
     "name": "stdout",
     "output_type": "stream",
     "text": [
      "- Compliance testing\n",
      "- Quality assurance testing\n",
      "- Compliance testing[2025-05-04 16:56:31] Decode batch. #running-req: 1, #token: 13460, token usage: 0.66, gen throughput (token/s): 130.97, #queue-req: 0\n",
      "\n",
      "- Quality control\n",
      "- User testing\n",
      "- Compliance testing\n",
      "- Quality"
     ]
    },
    {
     "name": "stdout",
     "output_type": "stream",
     "text": [
      " assurance testing\n",
      "- Compliance testing\n",
      "- Quality control\n",
      "- User testing\n",
      "- Compliance testing\n",
      "- Quality assurance testing\n",
      "-[2025-05-04 16:56:31] Decode batch. #running-req: 1, #token: 13500, token usage: 0.66, gen throughput (token/s): 131.44, #queue-req: 0\n",
      " Compliance testing"
     ]
    },
    {
     "name": "stdout",
     "output_type": "stream",
     "text": [
      "\n",
      "- Quality control\n",
      "- User testing\n",
      "- Compliance testing\n",
      "- Quality assurance testing\n",
      "- Compliance testing\n",
      "- Quality control\n",
      "-"
     ]
    },
    {
     "name": "stdout",
     "output_type": "stream",
     "text": [
      " User testing\n",
      "- Compliance testing\n",
      "- Quality assurance testing[2025-05-04 16:56:32] Decode batch. #running-req: 1, #token: 13540, token usage: 0.66, gen throughput (token/s): 133.07, #queue-req: 0\n",
      "\n",
      "- Compliance testing\n",
      "- Quality control\n",
      "- User testing\n",
      "- Compliance testing"
     ]
    },
    {
     "name": "stdout",
     "output_type": "stream",
     "text": [
      "\n",
      "- Quality assurance testing\n",
      "- Compliance testing\n",
      "- Quality control\n",
      "- User testing\n",
      "- Compliance testing\n",
      "- Quality[2025-05-04 16:56:32] Decode batch. #running-req: 1, #token: 13580, token usage: 0.66, gen throughput (token/s): 133.63, #queue-req: 0\n",
      " assurance testing\n"
     ]
    },
    {
     "name": "stdout",
     "output_type": "stream",
     "text": [
      "- Compliance testing\n",
      "- Quality control\n",
      "- User testing\n",
      "- Compliance testing\n",
      "- Quality assurance testing\n",
      "- Compliance testing\n",
      "- Quality"
     ]
    },
    {
     "name": "stdout",
     "output_type": "stream",
     "text": [
      " control\n",
      "- User testing\n",
      "- Compliance testing\n",
      "[2025-05-04 16:56:32] Decode batch. #running-req: 1, #token: 13620, token usage: 0.67, gen throughput (token/s): 133.58, #queue-req: 0\n",
      "- Quality assurance testing\n",
      "- Compliance testing\n",
      "- Quality control\n",
      "- User"
     ]
    },
    {
     "name": "stdout",
     "output_type": "stream",
     "text": [
      " testing\n",
      "- Compliance testing\n",
      "- Quality assurance testing\n",
      "- Compliance testing\n",
      "- Quality control\n",
      "- User testing\n",
      "-"
     ]
    },
    {
     "name": "stdout",
     "output_type": "stream",
     "text": [
      " Compliance[2025-05-04 16:56:33] Decode batch. #running-req: 1, #token: 13660, token usage: 0.67, gen throughput (token/s): 115.08, #queue-req: 0\n",
      " testing\n",
      "- Quality assurance testing\n",
      "- Compliance testing\n",
      "- Quality control\n",
      "- User testing\n",
      "- Compliance testing\n",
      "- Quality assurance"
     ]
    },
    {
     "name": "stdout",
     "output_type": "stream",
     "text": [
      " testing\n",
      "- Compliance testing\n",
      "- Quality control\n",
      "- User testing\n",
      "[2025-05-04 16:56:33] Decode batch. #running-req: 1, #token: 13700, token usage: 0.67, gen throughput (token/s): 129.57, #queue-req: 0\n",
      "- Compliance testing\n",
      "- Quality assurance testing\n",
      "- Compliance testing\n"
     ]
    },
    {
     "name": "stdout",
     "output_type": "stream",
     "text": [
      "- Quality control\n",
      "- User testing\n",
      "- Compliance testing\n",
      "- Quality assurance testing\n",
      "- Compliance testing\n",
      "- Quality control\n",
      "- User"
     ]
    },
    {
     "name": "stdout",
     "output_type": "stream",
     "text": [
      "[2025-05-04 16:56:33] Decode batch. #running-req: 1, #token: 13740, token usage: 0.67, gen throughput (token/s): 130.30, #queue-req: 0\n",
      " testing\n",
      "- Compliance testing\n",
      "- Quality assurance testing\n",
      "- Compliance testing\n",
      "- Quality control\n",
      "- User testing\n",
      "- Compliance testing\n"
     ]
    },
    {
     "name": "stdout",
     "output_type": "stream",
     "text": [
      "- Quality assurance testing\n",
      "- Compliance testing\n",
      "- Quality control\n",
      "[2025-05-04 16:56:34] Decode batch. #running-req: 1, #token: 13780, token usage: 0.67, gen throughput (token/s): 130.78, #queue-req: 0\n",
      "- User testing\n",
      "- Compliance testing\n",
      "- Quality assurance testing\n",
      "-"
     ]
    },
    {
     "name": "stdout",
     "output_type": "stream",
     "text": [
      " Compliance testing\n",
      "- Quality control\n",
      "- User testing\n",
      "- Compliance testing\n",
      "- Quality assurance testing\n",
      "- Compliance testing\n",
      "- Quality[2025-05-04 16:56:34] Decode batch. #running-req: 1, #token: 13820, token usage: 0.67, gen throughput (token/s): 131.37, #queue-req: 0\n",
      " control"
     ]
    },
    {
     "name": "stdout",
     "output_type": "stream",
     "text": [
      "\n",
      "- User testing\n",
      "- Compliance testing\n",
      "- Quality assurance testing\n",
      "- Compliance testing\n",
      "- Quality control\n",
      "- User testing\n",
      "-"
     ]
    },
    {
     "name": "stdout",
     "output_type": "stream",
     "text": [
      " Compliance testing\n",
      "- Quality assurance testing\n",
      "- Compliance testing\n",
      "[2025-05-04 16:56:34] Decode batch. #running-req: 1, #token: 13860, token usage: 0.68, gen throughput (token/s): 131.36, #queue-req: 0\n",
      "- Quality control\n",
      "- User testing\n",
      "- Compliance testing\n",
      "- Quality assurance"
     ]
    },
    {
     "name": "stdout",
     "output_type": "stream",
     "text": [
      " testing\n",
      "- Compliance testing\n",
      "- Quality control\n",
      "- User testing\n",
      "- Compliance testing\n",
      "- Quality assurance testing\n",
      "- Compliance[2025-05-04 16:56:35] Decode batch. #running-req: 1, #token: 13900, token usage: 0.68, gen throughput (token/s): 131.47, #queue-req: 0\n",
      " testing\n"
     ]
    },
    {
     "name": "stdout",
     "output_type": "stream",
     "text": [
      "- Quality control\n",
      "- User testing\n",
      "- Compliance testing\n",
      "- Quality assurance testing\n",
      "- Compliance testing\n",
      "- Quality control\n",
      "- User"
     ]
    },
    {
     "name": "stdout",
     "output_type": "stream",
     "text": [
      " testing\n",
      "- Compliance testing\n",
      "- Quality assurance testing\n",
      "[2025-05-04 16:56:35] Decode batch. #running-req: 1, #token: 13940, token usage: 0.68, gen throughput (token/s): 131.17, #queue-req: 0\n",
      "- Compliance testing\n",
      "- Quality control\n",
      "- User testing\n",
      "- Compliance testing\n"
     ]
    },
    {
     "name": "stdout",
     "output_type": "stream",
     "text": [
      "- Quality assurance testing\n",
      "- Compliance testing\n",
      "- Quality control\n",
      "- User testing\n",
      "- Compliance testing\n",
      "- Quality assurance[2025-05-04 16:56:35] Decode batch. #running-req: 1, #token: 13980, token usage: 0.68, gen throughput (token/s): 130.87, #queue-req: 0\n",
      " testing\n",
      "-"
     ]
    },
    {
     "name": "stdout",
     "output_type": "stream",
     "text": [
      " Compliance testing\n",
      "- Quality control\n",
      "- User testing\n",
      "- Compliance testing\n",
      "- Quality assurance testing\n",
      "-"
     ]
    },
    {
     "name": "stdout",
     "output_type": "stream",
     "text": [
      " Compliance testing\n",
      "- Quality control\n",
      "- User testing\n",
      "- Compliance testing\n",
      "-[2025-05-04 16:56:36] Decode batch. #running-req: 1, #token: 14020, token usage: 0.68, gen throughput (token/s): 108.27, #queue-req: 0\n",
      " Quality assurance testing\n",
      "- Compliance testing\n",
      "-"
     ]
    },
    {
     "name": "stdout",
     "output_type": "stream",
     "text": [
      " Quality control\n",
      "- User testing\n",
      "- Compliance testing\n",
      "- Quality assurance testing\n",
      "- Compliance testing\n",
      "- Quality control\n",
      "- User testing"
     ]
    },
    {
     "name": "stdout",
     "output_type": "stream",
     "text": [
      "\n",
      "- Compliance testing[2025-05-04 16:56:36] Decode batch. #running-req: 1, #token: 14060, token usage: 0.69, gen throughput (token/s): 130.34, #queue-req: 0\n",
      "\n",
      "- Quality assurance testing\n",
      "- Compliance testing\n",
      "- Quality control\n",
      "- User testing\n",
      "- Compliance testing\n",
      "-"
     ]
    },
    {
     "name": "stdout",
     "output_type": "stream",
     "text": [
      " Quality assurance testing\n",
      "- Compliance testing\n",
      "- Quality control\n",
      "- User testing\n",
      "-[2025-05-04 16:56:36] Decode batch. #running-req: 1, #token: 14100, token usage: 0.69, gen throughput (token/s): 129.91, #queue-req: 0\n",
      " Compliance testing\n",
      "- Quality assurance testing\n",
      "-"
     ]
    },
    {
     "name": "stdout",
     "output_type": "stream",
     "text": [
      " Compliance testing\n",
      "- Quality control\n",
      "- User testing\n",
      "- Compliance testing\n",
      "- Quality assurance testing\n",
      "- Compliance testing\n",
      "- Quality"
     ]
    },
    {
     "name": "stdout",
     "output_type": "stream",
     "text": [
      " control\n",
      "- User testing[2025-05-04 16:56:36] Decode batch. #running-req: 1, #token: 14140, token usage: 0.69, gen throughput (token/s): 127.03, #queue-req: 0\n",
      "\n",
      "- Compliance testing\n",
      "- Quality assurance testing\n",
      "- Compliance testing\n",
      "- Quality control\n",
      "- User testing\n"
     ]
    },
    {
     "name": "stdout",
     "output_type": "stream",
     "text": [
      "- Compliance testing\n",
      "- Quality assurance testing\n",
      "- Compliance testing\n",
      "- Quality control\n",
      "-[2025-05-04 16:56:37] Decode batch. #running-req: 1, #token: 14180, token usage: 0.69, gen throughput (token/s): 130.50, #queue-req: 0\n",
      " User testing\n",
      "- Compliance testing\n",
      "- Quality"
     ]
    },
    {
     "name": "stdout",
     "output_type": "stream",
     "text": [
      " assurance testing\n",
      "- Compliance testing\n",
      "- Quality control\n",
      "- User testing\n",
      "- Compliance testing\n",
      "- Quality assurance testing\n",
      "- Compliance testing"
     ]
    },
    {
     "name": "stdout",
     "output_type": "stream",
     "text": [
      "\n",
      "- Quality control[2025-05-04 16:56:37] Decode batch. #running-req: 1, #token: 14220, token usage: 0.69, gen throughput (token/s): 130.38, #queue-req: 0\n",
      "\n",
      "- User testing\n",
      "- Compliance testing\n",
      "- Quality assurance testing\n",
      "- Compliance testing\n",
      "- Quality control\n",
      "-"
     ]
    },
    {
     "name": "stdout",
     "output_type": "stream",
     "text": [
      " User testing\n",
      "- Compliance testing\n",
      "- Quality assurance testing\n",
      "- Compliance testing\n",
      "-[2025-05-04 16:56:37] Decode batch. #running-req: 1, #token: 14260, token usage: 0.70, gen throughput (token/s): 131.24, #queue-req: 0\n",
      " Quality control\n",
      "- User testing\n",
      "- Compliance testing"
     ]
    },
    {
     "name": "stdout",
     "output_type": "stream",
     "text": [
      "\n",
      "- Quality assurance testing\n",
      "- Compliance testing\n",
      "- Quality control\n",
      "- User testing\n",
      "- Compliance testing\n",
      "- Quality assurance testing\n"
     ]
    },
    {
     "name": "stdout",
     "output_type": "stream",
     "text": [
      "- Compliance testing[2025-05-04 16:56:38] Decode batch. #running-req: 1, #token: 14300, token usage: 0.70, gen throughput (token/s): 131.14, #queue-req: 0\n",
      "\n",
      "- Quality control\n",
      "- User testing\n",
      "- Compliance testing\n",
      "- Quality assurance testing\n",
      "- Compliance testing\n",
      "- Quality"
     ]
    },
    {
     "name": "stdout",
     "output_type": "stream",
     "text": [
      " control\n",
      "- User testing\n",
      "- Compliance testing\n",
      "- Quality assurance testing\n",
      "-[2025-05-04 16:56:38] Decode batch. #running-req: 1, #token: 14340, token usage: 0.70, gen throughput (token/s): 132.57, #queue-req: 0\n",
      " Compliance testing\n",
      "- Quality control\n",
      "- User testing\n"
     ]
    },
    {
     "name": "stdout",
     "output_type": "stream",
     "text": [
      "- Compliance testing\n",
      "- Quality assurance testing\n",
      "- Compliance testing\n",
      "- Quality control\n",
      "- User testing\n",
      "- Compliance testing\n",
      "-"
     ]
    },
    {
     "name": "stdout",
     "output_type": "stream",
     "text": [
      " Quality assurance testing[2025-05-04 16:56:38] Decode batch. #running-req: 1, #token: 14380, token usage: 0.70, gen throughput (token/s): 130.12, #queue-req: 0\n",
      "\n",
      "- Compliance testing\n",
      "- Quality control\n",
      "- User testing\n",
      "- Compliance testing\n",
      "- Quality assurance testing\n",
      "- Compliance"
     ]
    },
    {
     "name": "stdout",
     "output_type": "stream",
     "text": [
      " testing\n",
      "- Quality control\n",
      "- User testing\n",
      "- Compliance testing\n",
      "- Quality[2025-05-04 16:56:39] Decode batch. #running-req: 1, #token: 14420, token usage: 0.70, gen throughput (token/s): 131.31, #queue-req: 0\n",
      " assurance testing\n",
      "- Compliance testing\n",
      "- Quality control\n"
     ]
    },
    {
     "name": "stdout",
     "output_type": "stream",
     "text": [
      "- User testing\n",
      "- Compliance testing\n",
      "- Quality assurance testing\n",
      "- Compliance testing\n",
      "- Quality control\n",
      "- User testing\n",
      "- Compliance"
     ]
    },
    {
     "name": "stdout",
     "output_type": "stream",
     "text": [
      " testing\n",
      "[2025-05-04 16:56:39] Decode batch. #running-req: 1, #token: 14460, token usage: 0.71, gen throughput (token/s): 131.04, #queue-req: 0\n",
      "- Quality assurance testing\n",
      "- Compliance testing\n",
      "- Quality control\n",
      "- User testing\n",
      "- Compliance testing\n",
      "- Quality assurance"
     ]
    },
    {
     "name": "stdout",
     "output_type": "stream",
     "text": [
      " testing\n",
      "- Compliance testing\n",
      "- Quality control\n",
      "- User testing\n",
      "- Compliance[2025-05-04 16:56:39] Decode batch. #running-req: 1, #token: 14500, token usage: 0.71, gen throughput (token/s): 118.38, #queue-req: 0\n",
      " testing\n",
      "-"
     ]
    },
    {
     "name": "stdout",
     "output_type": "stream",
     "text": [
      " Quality assurance testing\n",
      "- Compliance testing\n",
      "- Quality control\n",
      "- User testing\n",
      "- Compliance testing\n",
      "- Quality assurance testing\n",
      "-"
     ]
    },
    {
     "name": "stdout",
     "output_type": "stream",
     "text": [
      " Compliance testing\n",
      "- Quality control\n",
      "- User testing\n",
      "[2025-05-04 16:56:40] Decode batch. #running-req: 1, #token: 14540, token usage: 0.71, gen throughput (token/s): 111.11, #queue-req: 0\n",
      "- Compliance testing\n",
      "- Quality assurance testing\n",
      "- Compliance testing\n",
      "-"
     ]
    },
    {
     "name": "stdout",
     "output_type": "stream",
     "text": [
      " Quality control\n",
      "- User testing\n",
      "- Compliance testing\n",
      "- Quality assurance testing\n",
      "- Compliance testing\n",
      "- Quality control\n",
      "- User"
     ]
    },
    {
     "name": "stdout",
     "output_type": "stream",
     "text": [
      "[2025-05-04 16:56:40] Decode batch. #running-req: 1, #token: 14580, token usage: 0.71, gen throughput (token/s): 127.89, #queue-req: 0\n",
      " testing\n",
      "- Compliance testing\n",
      "- Quality assurance testing\n",
      "- Compliance testing\n",
      "- Quality control\n",
      "- User testing\n",
      "- Compliance testing\n"
     ]
    },
    {
     "name": "stdout",
     "output_type": "stream",
     "text": [
      "- Quality assurance testing\n",
      "- Compliance testing\n",
      "- Quality control\n",
      "[2025-05-04 16:56:40] Decode batch. #running-req: 1, #token: 14620, token usage: 0.71, gen throughput (token/s): 130.38, #queue-req: 0\n",
      "- User testing\n",
      "- Compliance testing\n",
      "- Quality assurance testing\n",
      "-"
     ]
    },
    {
     "name": "stdout",
     "output_type": "stream",
     "text": [
      " Compliance testing\n",
      "- Quality control\n",
      "- User testing\n",
      "- Compliance testing\n",
      "- Quality assurance testing\n",
      "- Compliance testing\n",
      "-"
     ]
    },
    {
     "name": "stdout",
     "output_type": "stream",
     "text": [
      " Quality[2025-05-04 16:56:41] Decode batch. #running-req: 1, #token: 14660, token usage: 0.72, gen throughput (token/s): 124.13, #queue-req: 0\n",
      " control\n",
      "- User testing\n",
      "- Compliance testing\n",
      "- Quality assurance testing\n",
      "- Compliance testing\n",
      "- Quality control\n",
      "- User"
     ]
    },
    {
     "name": "stdout",
     "output_type": "stream",
     "text": [
      " testing\n",
      "- Compliance testing\n",
      "- Quality assurance testing\n",
      "- Compliance testing\n",
      "[2025-05-04 16:56:41] Decode batch. #running-req: 1, #token: 14700, token usage: 0.72, gen throughput (token/s): 129.50, #queue-req: 0\n",
      "- Quality control\n",
      "- User testing\n",
      "- Compliance testing"
     ]
    },
    {
     "name": "stdout",
     "output_type": "stream",
     "text": [
      "\n",
      "- Quality assurance testing\n",
      "- Compliance testing\n",
      "- Quality control\n",
      "- User testing\n",
      "- Compliance testing\n",
      "- Quality assurance testing\n"
     ]
    },
    {
     "name": "stdout",
     "output_type": "stream",
     "text": [
      "- Compliance[2025-05-04 16:56:41] Decode batch. #running-req: 1, #token: 14740, token usage: 0.72, gen throughput (token/s): 129.47, #queue-req: 0\n",
      " testing\n",
      "- Quality control\n",
      "- User testing\n",
      "- Compliance testing\n",
      "- Quality assurance testing\n",
      "- Compliance testing\n",
      "- Quality"
     ]
    },
    {
     "name": "stdout",
     "output_type": "stream",
     "text": [
      " control\n",
      "- User testing\n",
      "- Compliance testing\n",
      "- Quality assurance testing\n",
      "[2025-05-04 16:56:41] Decode batch. #running-req: 1, #token: 14780, token usage: 0.72, gen throughput (token/s): 129.68, #queue-req: 0\n",
      "- Compliance testing\n",
      "- Quality control\n",
      "- User testing"
     ]
    },
    {
     "name": "stdout",
     "output_type": "stream",
     "text": [
      "\n",
      "- Compliance testing\n",
      "- Quality assurance testing\n",
      "- Compliance testing\n",
      "- Quality control\n",
      "- User testing\n",
      "- Compliance testing\n",
      "-"
     ]
    },
    {
     "name": "stdout",
     "output_type": "stream",
     "text": [
      " Quality assurance[2025-05-04 16:56:42] Decode batch. #running-req: 1, #token: 14820, token usage: 0.72, gen throughput (token/s): 129.20, #queue-req: 0\n",
      " testing\n",
      "- Compliance testing\n",
      "- Quality control\n",
      "- User testing\n",
      "- Compliance testing\n",
      "- Quality assurance testing\n",
      "- Compliance"
     ]
    },
    {
     "name": "stdout",
     "output_type": "stream",
     "text": [
      " testing\n",
      "- Quality control\n",
      "- User testing\n",
      "- Compliance testing\n",
      "-[2025-05-04 16:56:42] Decode batch. #running-req: 1, #token: 14860, token usage: 0.73, gen throughput (token/s): 130.09, #queue-req: 0\n",
      " Quality assurance testing\n",
      "- Compliance testing\n",
      "- Quality control\n"
     ]
    },
    {
     "name": "stdout",
     "output_type": "stream",
     "text": [
      "- User testing\n",
      "- Compliance testing\n",
      "- Quality assurance testing\n",
      "- Compliance testing\n",
      "- Quality control\n",
      "- User testing\n",
      "- Compliance"
     ]
    },
    {
     "name": "stdout",
     "output_type": "stream",
     "text": [
      " testing[2025-05-04 16:56:42] Decode batch. #running-req: 1, #token: 14900, token usage: 0.73, gen throughput (token/s): 129.64, #queue-req: 0\n",
      "\n",
      "- Quality assurance testing\n",
      "- Compliance testing\n",
      "- Quality control\n",
      "- User testing\n",
      "- Compliance testing\n",
      "- Quality assurance testing"
     ]
    },
    {
     "name": "stdout",
     "output_type": "stream",
     "text": [
      "\n",
      "- Compliance testing\n",
      "- Quality control\n",
      "- User testing\n",
      "-[2025-05-04 16:56:43] Decode batch. #running-req: 1, #token: 14940, token usage: 0.73, gen throughput (token/s): 129.56, #queue-req: 0\n",
      " Compliance testing\n",
      "- Quality assurance testing\n",
      "- Compliance testing\n"
     ]
    },
    {
     "name": "stdout",
     "output_type": "stream",
     "text": [
      "- Quality control\n",
      "- User testing\n",
      "- Compliance testing\n",
      "- Quality assurance testing\n",
      "- Compliance testing\n",
      "- Quality control\n",
      "- User"
     ]
    },
    {
     "name": "stdout",
     "output_type": "stream",
     "text": [
      " testing[2025-05-04 16:56:43] Decode batch. #running-req: 1, #token: 14980, token usage: 0.73, gen throughput (token/s): 129.60, #queue-req: 0\n",
      "\n",
      "- Compliance testing\n",
      "- Quality assurance testing\n",
      "- Compliance testing\n",
      "- Quality control\n",
      "- User testing\n",
      "- Compliance testing"
     ]
    },
    {
     "name": "stdout",
     "output_type": "stream",
     "text": [
      "\n",
      "- Quality assurance testing\n",
      "- Compliance testing\n",
      "- Quality control\n",
      "-[2025-05-04 16:56:43] Decode batch. #running-req: 1, #token: 15020, token usage: 0.73, gen throughput (token/s): 128.70, #queue-req: 0\n",
      " User testing\n",
      "- Compliance testing\n",
      "- Quality assurance testing"
     ]
    },
    {
     "name": "stdout",
     "output_type": "stream",
     "text": [
      "\n",
      "- Compliance testing\n",
      "- Quality control\n",
      "- User testing\n",
      "- Compliance testing\n",
      "- Quality assurance testing\n",
      "- Compliance testing\n"
     ]
    },
    {
     "name": "stdout",
     "output_type": "stream",
     "text": [
      "- Quality control[2025-05-04 16:56:44] Decode batch. #running-req: 1, #token: 15060, token usage: 0.74, gen throughput (token/s): 128.31, #queue-req: 0\n",
      "\n",
      "- User testing\n",
      "- Compliance testing\n",
      "- Quality assurance testing\n",
      "- Compliance testing\n",
      "- Quality control\n",
      "-"
     ]
    },
    {
     "name": "stdout",
     "output_type": "stream",
     "text": [
      " User testing\n",
      "- Compliance testing\n",
      "- Quality assurance testing\n",
      "- Compliance testing\n",
      "-[2025-05-04 16:56:44] Decode batch. #running-req: 1, #token: 15100, token usage: 0.74, gen throughput (token/s): 129.35, #queue-req: 0\n",
      " Quality control\n",
      "- User testing\n",
      "- Compliance"
     ]
    },
    {
     "name": "stdout",
     "output_type": "stream",
     "text": [
      " testing\n",
      "- Quality assurance testing\n",
      "- Compliance testing\n",
      "- Quality control\n",
      "- User testing\n",
      "- Compliance testing\n",
      "- Quality assurance"
     ]
    },
    {
     "name": "stdout",
     "output_type": "stream",
     "text": [
      " testing\n",
      "- Compliance testing[2025-05-04 16:56:44] Decode batch. #running-req: 1, #token: 15140, token usage: 0.74, gen throughput (token/s): 129.36, #queue-req: 0\n",
      "\n",
      "- Quality control\n",
      "- User testing\n",
      "- Compliance testing\n",
      "- Quality assurance testing\n",
      "- Compliance testing"
     ]
    },
    {
     "name": "stdout",
     "output_type": "stream",
     "text": [
      "\n",
      "- Quality control\n",
      "- User testing\n",
      "- Compliance testing\n",
      "- Quality assurance testing\n",
      "-[2025-05-04 16:56:45] Decode batch. #running-req: 1, #token: 15180, token usage: 0.74, gen throughput (token/s): 128.70, #queue-req: 0\n",
      " Compliance testing\n",
      "- Quality control\n"
     ]
    },
    {
     "name": "stdout",
     "output_type": "stream",
     "text": [
      "- User testing\n",
      "- Compliance testing\n",
      "- Quality assurance testing\n",
      "- Compliance testing\n",
      "- Quality control\n",
      "- User testing\n",
      "-"
     ]
    },
    {
     "name": "stdout",
     "output_type": "stream",
     "text": [
      " Compliance testing\n",
      "- Quality assurance testing[2025-05-04 16:56:45] Decode batch. #running-req: 1, #token: 15220, token usage: 0.74, gen throughput (token/s): 129.34, #queue-req: 0\n",
      "\n",
      "- Compliance testing\n",
      "- Quality control\n",
      "- User testing\n",
      "- Compliance testing\n",
      "- Quality assurance"
     ]
    },
    {
     "name": "stdout",
     "output_type": "stream",
     "text": [
      " testing\n",
      "- Compliance testing\n",
      "- Quality control\n",
      "- User testing\n",
      "- Compliance testing\n",
      "- Quality[2025-05-04 16:56:45] Decode batch. #running-req: 1, #token: 15260, token usage: 0.75, gen throughput (token/s): 130.23, #queue-req: 0\n",
      " assurance testing\n",
      "- Compliance testing\n"
     ]
    },
    {
     "name": "stdout",
     "output_type": "stream",
     "text": [
      "- Quality control\n",
      "- User testing\n",
      "- Compliance testing\n",
      "- Quality assurance testing\n",
      "- Compliance testing\n",
      "- Quality control\n",
      "- User"
     ]
    },
    {
     "name": "stdout",
     "output_type": "stream",
     "text": [
      " testing\n",
      "- Compliance testing\n",
      "[2025-05-04 16:56:45] Decode batch. #running-req: 1, #token: 15300, token usage: 0.75, gen throughput (token/s): 129.91, #queue-req: 0\n",
      "- Quality assurance testing\n",
      "- Compliance testing\n",
      "- Quality control\n",
      "- User testing\n",
      "- Compliance testing"
     ]
    },
    {
     "name": "stdout",
     "output_type": "stream",
     "text": [
      "\n",
      "- Quality assurance testing\n",
      "- Compliance testing\n",
      "- Quality control\n",
      "- User testing\n",
      "- Compliance[2025-05-04 16:56:46] Decode batch. #running-req: 1, #token: 15340, token usage: 0.75, gen throughput (token/s): 129.33, #queue-req: 0\n",
      " testing\n",
      "- Quality assurance testing\n"
     ]
    },
    {
     "name": "stdout",
     "output_type": "stream",
     "text": [
      "- Compliance testing\n",
      "- Quality control\n",
      "- User testing\n",
      "- Compliance testing\n",
      "- Quality assurance testing\n",
      "- Compliance testing\n",
      "-"
     ]
    },
    {
     "name": "stdout",
     "output_type": "stream",
     "text": [
      " Quality control\n",
      "- User testing\n",
      "[2025-05-04 16:56:46] Decode batch. #running-req: 1, #token: 15380, token usage: 0.75, gen throughput (token/s): 128.94, #queue-req: 0\n",
      "- Compliance testing\n",
      "- Quality assurance testing\n",
      "- Compliance testing\n",
      "- Quality control\n",
      "- User"
     ]
    },
    {
     "name": "stdout",
     "output_type": "stream",
     "text": [
      " testing\n",
      "- Compliance testing\n",
      "- Quality assurance testing\n",
      "- Compliance testing\n",
      "- Quality control\n",
      "- User[2025-05-04 16:56:46] Decode batch. #running-req: 1, #token: 15420, token usage: 0.75, gen throughput (token/s): 127.38, #queue-req: 0\n",
      " testing\n",
      "- Compliance testing"
     ]
    },
    {
     "name": "stdout",
     "output_type": "stream",
     "text": [
      "\n",
      "- Quality assurance testing\n",
      "- Compliance testing\n",
      "- Quality control\n",
      "- User testing\n",
      "- Compliance testing\n",
      "- Quality assurance testing"
     ]
    },
    {
     "name": "stdout",
     "output_type": "stream",
     "text": [
      "\n",
      "- Compliance testing\n",
      "- Quality control\n",
      "[2025-05-04 16:56:47] Decode batch. #running-req: 1, #token: 15460, token usage: 0.75, gen throughput (token/s): 128.46, #queue-req: 0\n",
      "- User testing\n",
      "- Compliance testing\n",
      "- Quality assurance testing\n",
      "- Compliance testing\n"
     ]
    },
    {
     "name": "stdout",
     "output_type": "stream",
     "text": [
      "- Quality control\n",
      "- User testing\n",
      "- Compliance testing\n",
      "- Quality assurance testing\n",
      "- Compliance testing\n",
      "- Quality[2025-05-04 16:56:47] Decode batch. #running-req: 1, #token: 15500, token usage: 0.76, gen throughput (token/s): 127.28, #queue-req: 0\n",
      " control\n",
      "-"
     ]
    },
    {
     "name": "stdout",
     "output_type": "stream",
     "text": [
      " User testing\n",
      "- Compliance testing\n",
      "- Quality assurance testing\n",
      "- Compliance testing\n",
      "- Quality control\n",
      "- User testing\n",
      "- Compliance"
     ]
    },
    {
     "name": "stdout",
     "output_type": "stream",
     "text": [
      " testing\n",
      "- Quality assurance testing\n",
      "- Compliance testing\n",
      "[2025-05-04 16:56:47] Decode batch. #running-req: 1, #token: 15540, token usage: 0.76, gen throughput (token/s): 125.84, #queue-req: 0\n",
      "- Quality control\n",
      "- User testing\n",
      "- Compliance testing\n",
      "- Quality assurance"
     ]
    },
    {
     "name": "stdout",
     "output_type": "stream",
     "text": [
      " testing\n",
      "- Compliance testing\n",
      "- Quality control\n",
      "- User testing\n",
      "- Compliance testing\n",
      "- Quality assurance testing\n",
      "- Compliance[2025-05-04 16:56:48] Decode batch. #running-req: 1, #token: 15580, token usage: 0.76, gen throughput (token/s): 130.84, #queue-req: 0\n",
      " testing\n"
     ]
    },
    {
     "name": "stdout",
     "output_type": "stream",
     "text": [
      "- Quality control\n",
      "- User testing\n",
      "- Compliance testing\n",
      "- Quality assurance testing\n",
      "- Compliance testing\n",
      "- Quality control\n",
      "- User"
     ]
    },
    {
     "name": "stdout",
     "output_type": "stream",
     "text": [
      " testing\n",
      "- Compliance testing\n",
      "- Quality assurance testing\n",
      "[2025-05-04 16:56:48] Decode batch. #running-req: 1, #token: 15620, token usage: 0.76, gen throughput (token/s): 132.24, #queue-req: 0\n",
      "- Compliance testing\n",
      "- Quality control\n",
      "- User testing\n",
      "- Compliance testing\n"
     ]
    },
    {
     "name": "stdout",
     "output_type": "stream",
     "text": [
      "- Quality assurance testing\n",
      "- Compliance testing\n",
      "- Quality control\n",
      "- User testing\n",
      "- Compliance testing\n",
      "- Quality assurance[2025-05-04 16:56:48] Decode batch. #running-req: 1, #token: 15660, token usage: 0.76, gen throughput (token/s): 130.84, #queue-req: 0\n",
      " testing\n",
      "-"
     ]
    },
    {
     "name": "stdout",
     "output_type": "stream",
     "text": [
      " Compliance testing\n",
      "- Quality control\n",
      "- User testing\n",
      "- Compliance testing\n",
      "- Quality assurance testing\n",
      "- Compliance testing\n",
      "- Quality"
     ]
    },
    {
     "name": "stdout",
     "output_type": "stream",
     "text": [
      " control\n",
      "- User testing\n",
      "- Compliance testing\n",
      "-[2025-05-04 16:56:49] Decode batch. #running-req: 1, #token: 15700, token usage: 0.77, gen throughput (token/s): 130.15, #queue-req: 0\n",
      " Quality assurance testing\n",
      "- Compliance testing\n",
      "- Quality control\n",
      "- User testing\n"
     ]
    },
    {
     "name": "stdout",
     "output_type": "stream",
     "text": [
      "- Compliance testing\n",
      "- Quality assurance testing\n",
      "- Compliance testing\n",
      "- Quality control\n",
      "- User testing\n",
      "- Compliance testing[2025-05-04 16:56:49] Decode batch. #running-req: 1, #token: 15740, token usage: 0.77, gen throughput (token/s): 132.53, #queue-req: 0\n",
      "\n",
      "- Quality"
     ]
    },
    {
     "name": "stdout",
     "output_type": "stream",
     "text": [
      " assurance testing\n",
      "- Compliance testing\n",
      "- Quality control\n",
      "- User testing\n",
      "- Compliance testing\n",
      "- Quality assurance testing\n",
      "- Compliance testing"
     ]
    },
    {
     "name": "stdout",
     "output_type": "stream",
     "text": [
      "\n",
      "- Quality control\n",
      "- User testing\n",
      "-[2025-05-04 16:56:49] Decode batch. #running-req: 1, #token: 15780, token usage: 0.77, gen throughput (token/s): 131.47, #queue-req: 0\n",
      " Compliance testing\n",
      "- Quality assurance testing\n",
      "- Compliance testing\n",
      "- Quality control\n",
      "-"
     ]
    },
    {
     "name": "stdout",
     "output_type": "stream",
     "text": [
      " User testing\n",
      "- Compliance testing\n",
      "- Quality assurance testing\n",
      "- Compliance testing\n",
      "- Quality control\n",
      "- User testing[2025-05-04 16:56:49] Decode batch. #running-req: 1, #token: 15820, token usage: 0.77, gen throughput (token/s): 132.21, #queue-req: 0\n",
      "\n",
      "- Compliance testing"
     ]
    },
    {
     "name": "stdout",
     "output_type": "stream",
     "text": [
      "\n",
      "- Quality assurance testing\n",
      "- Compliance testing\n",
      "- Quality control\n",
      "- User testing\n",
      "- Compliance testing\n",
      "- Quality assurance testing\n"
     ]
    },
    {
     "name": "stdout",
     "output_type": "stream",
     "text": [
      "- Compliance testing\n",
      "- Quality control\n",
      "-[2025-05-04 16:56:50] Decode batch. #running-req: 1, #token: 15860, token usage: 0.77, gen throughput (token/s): 132.18, #queue-req: 0\n",
      " User testing\n",
      "- Compliance testing\n",
      "- Quality assurance testing\n",
      "- Compliance testing\n",
      "- Quality"
     ]
    },
    {
     "name": "stdout",
     "output_type": "stream",
     "text": [
      " control\n",
      "- User testing\n",
      "- Compliance testing\n",
      "- Quality assurance testing\n",
      "- Compliance testing\n",
      "- Quality control[2025-05-04 16:56:50] Decode batch. #running-req: 1, #token: 15900, token usage: 0.78, gen throughput (token/s): 132.34, #queue-req: 0\n",
      "\n",
      "- User testing\n"
     ]
    },
    {
     "name": "stdout",
     "output_type": "stream",
     "text": [
      "- Compliance testing\n",
      "- Quality assurance testing\n",
      "- Compliance testing\n",
      "- Quality control\n",
      "- User testing\n",
      "- Compliance testing\n",
      "- Quality"
     ]
    },
    {
     "name": "stdout",
     "output_type": "stream",
     "text": [
      " assurance testing\n",
      "- Compliance testing\n",
      "-[2025-05-04 16:56:50] Decode batch. #running-req: 1, #token: 15940, token usage: 0.78, gen throughput (token/s): 132.31, #queue-req: 0\n",
      " Quality control\n",
      "- User testing\n",
      "- Compliance testing\n",
      "- Quality assurance testing\n",
      "- Compliance testing"
     ]
    },
    {
     "name": "stdout",
     "output_type": "stream",
     "text": [
      "\n",
      "- Quality control\n",
      "- User testing\n",
      "- Compliance testing\n",
      "- Quality assurance testing\n",
      "- Compliance testing[2025-05-04 16:56:51] Decode batch. #running-req: 1, #token: 15980, token usage: 0.78, gen throughput (token/s): 132.61, #queue-req: 0\n",
      "\n",
      "- Quality control\n",
      "-"
     ]
    },
    {
     "name": "stdout",
     "output_type": "stream",
     "text": [
      " User testing\n",
      "- Compliance testing\n",
      "- Quality assurance testing\n",
      "- Compliance testing\n",
      "- Quality control\n",
      "- User testing\n",
      "- Compliance testing"
     ]
    },
    {
     "name": "stdout",
     "output_type": "stream",
     "text": [
      "\n",
      "- Quality assurance testing\n",
      "-[2025-05-04 16:56:51] Decode batch. #running-req: 1, #token: 16020, token usage: 0.78, gen throughput (token/s): 132.34, #queue-req: 0\n",
      " Compliance testing\n",
      "- Quality control\n",
      "- User testing\n",
      "- Compliance testing\n",
      "- Quality assurance testing"
     ]
    },
    {
     "name": "stdout",
     "output_type": "stream",
     "text": [
      "\n",
      "- Compliance testing\n",
      "- Quality control\n",
      "- User testing\n",
      "- Compliance testing\n",
      "- Quality assurance testing[2025-05-04 16:56:51] Decode batch. #running-req: 1, #token: 16060, token usage: 0.78, gen throughput (token/s): 125.21, #queue-req: 0\n",
      "\n",
      "- Compliance testing\n"
     ]
    },
    {
     "name": "stdout",
     "output_type": "stream",
     "text": [
      "- Quality control\n",
      "- User testing\n",
      "- Compliance testing\n",
      "- Quality assurance testing\n",
      "- Compliance testing\n",
      "- Quality control\n"
     ]
    },
    {
     "name": "stdout",
     "output_type": "stream",
     "text": [
      "- User testing\n",
      "- Compliance testing\n",
      "- Quality[2025-05-04 16:56:52] Decode batch. #running-req: 1, #token: 16100, token usage: 0.79, gen throughput (token/s): 122.68, #queue-req: 0\n",
      " assurance testing\n",
      "- Compliance testing\n",
      "- Quality control\n",
      "- User testing\n"
     ]
    },
    {
     "name": "stdout",
     "output_type": "stream",
     "text": [
      "- Compliance testing\n",
      "- Quality assurance testing\n",
      "- Compliance testing\n",
      "- Quality control\n",
      "- User testing\n",
      "- Compliance testing\n"
     ]
    },
    {
     "name": "stdout",
     "output_type": "stream",
     "text": [
      "[2025-05-04 16:56:52] Decode batch. #running-req: 1, #token: 16140, token usage: 0.79, gen throughput (token/s): 120.40, #queue-req: 0\n",
      "- Quality assurance testing\n",
      "- Compliance testing\n",
      "- Quality control\n",
      "- User testing\n",
      "- Compliance testing\n",
      "- Quality assurance testing\n"
     ]
    },
    {
     "name": "stdout",
     "output_type": "stream",
     "text": [
      "- Compliance testing\n",
      "- Quality control\n",
      "- User testing\n",
      "- Compliance[2025-05-04 16:56:52] Decode batch. #running-req: 1, #token: 16180, token usage: 0.79, gen throughput (token/s): 124.06, #queue-req: 0\n",
      " testing\n",
      "- Quality assurance testing\n",
      "- Compliance testing\n"
     ]
    },
    {
     "name": "stdout",
     "output_type": "stream",
     "text": [
      "- Quality control\n",
      "- User testing\n",
      "- Compliance testing\n",
      "- Quality assurance testing\n",
      "- Compliance testing\n",
      "- Quality"
     ]
    },
    {
     "name": "stdout",
     "output_type": "stream",
     "text": [
      " control\n",
      "- User testing\n",
      "[2025-05-04 16:56:53] Decode batch. #running-req: 1, #token: 16220, token usage: 0.79, gen throughput (token/s): 117.96, #queue-req: 0\n",
      "- Compliance testing\n",
      "- Quality assurance testing\n",
      "- Compliance testing\n",
      "- Quality control\n",
      "- User"
     ]
    },
    {
     "name": "stdout",
     "output_type": "stream",
     "text": [
      " testing\n",
      "- Compliance testing\n",
      "- Quality assurance testing\n",
      "- Compliance testing\n",
      "- Quality control\n",
      "- User[2025-05-04 16:56:53] Decode batch. #running-req: 1, #token: 16260, token usage: 0.79, gen throughput (token/s): 123.11, #queue-req: 0\n",
      " testing\n",
      "- Compliance"
     ]
    },
    {
     "name": "stdout",
     "output_type": "stream",
     "text": [
      " testing\n",
      "- Quality assurance testing\n",
      "- Compliance testing\n",
      "- Quality control\n",
      "- User testing\n",
      "- Compliance testing\n",
      "- Quality"
     ]
    },
    {
     "name": "stdout",
     "output_type": "stream",
     "text": [
      " assurance testing\n",
      "- Compliance testing\n",
      "- Quality control\n",
      "[2025-05-04 16:56:53] Decode batch. #running-req: 1, #token: 16300, token usage: 0.80, gen throughput (token/s): 121.39, #queue-req: 0\n",
      "- User testing\n",
      "- Compliance testing\n",
      "- Quality assurance testing\n",
      "-"
     ]
    },
    {
     "name": "stdout",
     "output_type": "stream",
     "text": [
      " Compliance testing\n",
      "- Quality control\n",
      "- User testing\n",
      "- Compliance testing\n",
      "- Quality assurance testing\n",
      "- Compliance testing\n",
      "- Quality"
     ]
    },
    {
     "name": "stdout",
     "output_type": "stream",
     "text": [
      "[2025-05-04 16:56:54] Decode batch. #running-req: 1, #token: 16340, token usage: 0.80, gen throughput (token/s): 126.94, #queue-req: 0\n",
      " control\n",
      "- User testing\n",
      "- Compliance testing\n",
      "- Quality assurance testing\n",
      "- Compliance testing\n",
      "- Quality control\n",
      "- User"
     ]
    },
    {
     "name": "stdout",
     "output_type": "stream",
     "text": [
      " testing\n",
      "- Compliance testing\n",
      "- Quality assurance testing\n",
      "- Compliance testing\n",
      "[2025-05-04 16:56:54] Decode batch. #running-req: 1, #token: 16380, token usage: 0.80, gen throughput (token/s): 122.96, #queue-req: 0\n",
      "- Quality control\n",
      "-"
     ]
    },
    {
     "name": "stdout",
     "output_type": "stream",
     "text": [
      " User testing\n",
      "- Compliance testing\n",
      "- Quality assurance testing\n",
      "- Compliance testing\n",
      "- Quality control\n",
      "- User testing"
     ]
    },
    {
     "name": "stdout",
     "output_type": "stream",
     "text": [
      "\n",
      "- Compliance testing\n",
      "- Quality assurance testing\n",
      "- Compliance[2025-05-04 16:56:54] Decode batch. #running-req: 1, #token: 16420, token usage: 0.80, gen throughput (token/s): 103.92, #queue-req: 0\n",
      " testing\n",
      "- Quality control\n",
      "- User testing\n",
      "- Compliance"
     ]
    },
    {
     "name": "stdout",
     "output_type": "stream",
     "text": [
      " testing\n",
      "- Quality assurance testing\n",
      "- Compliance testing\n",
      "- Quality control\n",
      "- User testing\n",
      "- Compliance testing\n",
      "- Quality"
     ]
    },
    {
     "name": "stdout",
     "output_type": "stream",
     "text": [
      " assurance testing\n",
      "[2025-05-04 16:56:55] Decode batch. #running-req: 1, #token: 16460, token usage: 0.80, gen throughput (token/s): 117.27, #queue-req: 0\n",
      "- Compliance testing\n",
      "- Quality control\n",
      "- User testing\n",
      "- Compliance testing\n",
      "- Quality assurance testing\n",
      "-"
     ]
    },
    {
     "name": "stdout",
     "output_type": "stream",
     "text": [
      " Compliance testing\n",
      "- Quality control\n",
      "- User testing\n",
      "- Compliance testing\n",
      "- Quality assurance[2025-05-04 16:56:55] Decode batch. #running-req: 1, #token: 16500, token usage: 0.81, gen throughput (token/s): 118.33, #queue-req: 0\n",
      " testing\n",
      "- Compliance testing\n"
     ]
    },
    {
     "name": "stdout",
     "output_type": "stream",
     "text": [
      "- Quality control\n",
      "- User testing\n",
      "- Compliance testing\n",
      "- Quality assurance testing\n",
      "- Compliance testing\n",
      "- Quality control\n"
     ]
    },
    {
     "name": "stdout",
     "output_type": "stream",
     "text": [
      "- User testing\n",
      "- Compliance testing\n",
      "-[2025-05-04 16:56:55] Decode batch. #running-req: 1, #token: 16540, token usage: 0.81, gen throughput (token/s): 121.98, #queue-req: 0\n",
      " Quality assurance testing\n",
      "- Compliance testing\n",
      "- Quality control\n",
      "- User testing\n"
     ]
    },
    {
     "name": "stdout",
     "output_type": "stream",
     "text": [
      "- Compliance testing\n",
      "- Quality assurance testing\n",
      "- Compliance testing\n",
      "- Quality control\n",
      "- User testing\n",
      "- Compliance testing[2025-05-04 16:56:56] Decode batch. #running-req: 1, #token: 16580, token usage: 0.81, gen throughput (token/s): 122.07, #queue-req: 0\n",
      "\n"
     ]
    },
    {
     "name": "stdout",
     "output_type": "stream",
     "text": [
      "- Quality assurance testing\n",
      "- Compliance testing\n",
      "- Quality control\n",
      "- User testing\n",
      "- Compliance testing\n",
      "- Quality assurance testing"
     ]
    },
    {
     "name": "stdout",
     "output_type": "stream",
     "text": [
      "\n",
      "- Compliance testing\n",
      "- Quality control\n",
      "- User testing\n",
      "-[2025-05-04 16:56:56] Decode batch. #running-req: 1, #token: 16620, token usage: 0.81, gen throughput (token/s): 115.80, #queue-req: 0\n",
      " Compliance testing\n",
      "- Quality assurance testing\n",
      "-"
     ]
    },
    {
     "name": "stdout",
     "output_type": "stream",
     "text": [
      " Compliance testing\n",
      "- Quality control\n",
      "- User testing\n",
      "- Compliance testing\n",
      "- Quality assurance testing\n",
      "- Compliance testing\n",
      "-"
     ]
    },
    {
     "name": "stdout",
     "output_type": "stream",
     "text": [
      " Quality control\n",
      "- User testing[2025-05-04 16:56:56] Decode batch. #running-req: 1, #token: 16660, token usage: 0.81, gen throughput (token/s): 122.48, #queue-req: 0\n",
      "\n",
      "- Compliance testing\n",
      "- Quality assurance testing\n",
      "- Compliance testing\n",
      "- Quality control\n",
      "- User testing"
     ]
    },
    {
     "name": "stdout",
     "output_type": "stream",
     "text": [
      "\n",
      "- Compliance testing\n",
      "- Quality assurance testing\n",
      "- Compliance testing\n",
      "- Quality control\n",
      "-[2025-05-04 16:56:57] Decode batch. #running-req: 1, #token: 16700, token usage: 0.82, gen throughput (token/s): 129.65, #queue-req: 0\n",
      " User testing\n",
      "- Compliance testing\n"
     ]
    },
    {
     "name": "stdout",
     "output_type": "stream",
     "text": [
      "- Quality assurance testing\n",
      "- Compliance testing\n",
      "- Quality control\n",
      "- User testing\n",
      "- Compliance testing\n",
      "- Quality assurance testing"
     ]
    },
    {
     "name": "stdout",
     "output_type": "stream",
     "text": [
      "\n",
      "- Compliance testing\n",
      "- Quality control[2025-05-04 16:56:57] Decode batch. #running-req: 1, #token: 16740, token usage: 0.82, gen throughput (token/s): 121.07, #queue-req: 0\n",
      "\n",
      "- User testing\n",
      "- Compliance testing\n",
      "- Quality assurance testing\n",
      "- Compliance testing"
     ]
    },
    {
     "name": "stdout",
     "output_type": "stream",
     "text": [
      "\n",
      "- Quality control\n",
      "- User testing\n",
      "- Compliance testing\n",
      "- Quality assurance testing\n",
      "- Compliance testing\n",
      "-[2025-05-04 16:56:57] Decode batch. #running-req: 1, #token: 16780, token usage: 0.82, gen throughput (token/s): 120.70, #queue-req: 0\n",
      " Quality control"
     ]
    },
    {
     "name": "stdout",
     "output_type": "stream",
     "text": [
      "\n",
      "- User testing\n",
      "- Compliance testing\n",
      "- Quality assurance testing\n",
      "- Compliance testing\n",
      "- Quality control\n",
      "- User testing"
     ]
    },
    {
     "name": "stdout",
     "output_type": "stream",
     "text": [
      "\n",
      "- Compliance testing\n",
      "- Quality assurance testing\n",
      "- Compliance testing[2025-05-04 16:56:58] Decode batch. #running-req: 1, #token: 16820, token usage: 0.82, gen throughput (token/s): 120.90, #queue-req: 0\n",
      "\n",
      "- Quality control\n",
      "- User testing\n",
      "- Compliance testing"
     ]
    },
    {
     "name": "stdout",
     "output_type": "stream",
     "text": [
      "\n",
      "- Quality assurance testing\n",
      "- Compliance testing\n",
      "- Quality control\n",
      "- User testing\n",
      "- Compliance testing\n",
      "- Quality assurance"
     ]
    },
    {
     "name": "stdout",
     "output_type": "stream",
     "text": [
      " testing\n",
      "-[2025-05-04 16:56:58] Decode batch. #running-req: 1, #token: 16860, token usage: 0.82, gen throughput (token/s): 121.08, #queue-req: 0\n",
      " Compliance testing\n",
      "- Quality control\n",
      "- User testing\n",
      "- Compliance testing\n",
      "- Quality assurance testing\n",
      "- Compliance"
     ]
    },
    {
     "name": "stdout",
     "output_type": "stream",
     "text": [
      " testing\n",
      "- Quality control\n",
      "- User testing\n",
      "- Compliance testing\n",
      "- Quality assurance testing[2025-05-04 16:56:58] Decode batch. #running-req: 1, #token: 16900, token usage: 0.83, gen throughput (token/s): 115.37, #queue-req: 0\n",
      "\n",
      "- Compliance testing\n"
     ]
    },
    {
     "name": "stdout",
     "output_type": "stream",
     "text": [
      "- Quality control\n",
      "- User testing\n",
      "- Compliance testing\n",
      "- Quality assurance testing\n",
      "- Compliance testing\n",
      "- Quality control\n"
     ]
    },
    {
     "name": "stdout",
     "output_type": "stream",
     "text": [
      "- User testing\n",
      "- Compliance testing\n",
      "- Quality[2025-05-04 16:56:59] Decode batch. #running-req: 1, #token: 16940, token usage: 0.83, gen throughput (token/s): 125.57, #queue-req: 0\n",
      " assurance testing\n",
      "- Compliance testing\n",
      "- Quality control\n",
      "- User testing\n",
      "-"
     ]
    },
    {
     "name": "stdout",
     "output_type": "stream",
     "text": [
      " Compliance testing\n",
      "- Quality assurance testing\n",
      "- Compliance testing\n",
      "- Quality control\n",
      "- User testing\n",
      "- Compliance testing\n",
      "[2025-05-04 16:56:59] Decode batch. #running-req: 1, #token: 16980, token usage: 0.83, gen throughput (token/s): 129.08, #queue-req: 0\n",
      "- Quality"
     ]
    },
    {
     "name": "stdout",
     "output_type": "stream",
     "text": [
      " assurance testing\n",
      "- Compliance testing\n",
      "- Quality control\n",
      "- User testing\n",
      "- Compliance testing\n",
      "- Quality assurance testing\n",
      "- Compliance"
     ]
    },
    {
     "name": "stdout",
     "output_type": "stream",
     "text": [
      " testing\n",
      "- Quality control\n",
      "- User testing\n",
      "- Compliance[2025-05-04 16:56:59] Decode batch. #running-req: 1, #token: 17020, token usage: 0.83, gen throughput (token/s): 129.30, #queue-req: 0\n",
      " testing\n",
      "- Quality assurance testing\n",
      "- Compliance testing\n",
      "- Quality control"
     ]
    },
    {
     "name": "stdout",
     "output_type": "stream",
     "text": [
      "\n",
      "- User testing\n",
      "- Compliance testing\n",
      "- Quality assurance testing\n",
      "- Compliance testing\n",
      "- Quality control\n",
      "- User testing\n"
     ]
    },
    {
     "name": "stdout",
     "output_type": "stream",
     "text": [
      "[2025-05-04 16:57:00] Decode batch. #running-req: 1, #token: 17060, token usage: 0.83, gen throughput (token/s): 128.22, #queue-req: 0\n",
      "- Compliance testing\n",
      "- Quality assurance testing\n",
      "- Compliance testing\n",
      "- Quality control\n",
      "- User testing\n",
      "- Compliance testing\n",
      "-"
     ]
    },
    {
     "name": "stdout",
     "output_type": "stream",
     "text": [
      " Quality assurance testing\n",
      "- Compliance testing\n",
      "- Quality control\n",
      "- User[2025-05-04 16:57:00] Decode batch. #running-req: 1, #token: 17100, token usage: 0.83, gen throughput (token/s): 110.47, #queue-req: 0\n",
      " testing\n",
      "- Compliance testing\n"
     ]
    },
    {
     "name": "stdout",
     "output_type": "stream",
     "text": [
      "- Quality assurance testing\n",
      "- Compliance testing\n",
      "- Quality control\n",
      "- User testing\n",
      "- Compliance testing\n",
      "- Quality assurance testing\n",
      "-"
     ]
    },
    {
     "name": "stdout",
     "output_type": "stream",
     "text": [
      " Compliance testing\n",
      "- Quality control\n",
      "[2025-05-04 16:57:00] Decode batch. #running-req: 1, #token: 17140, token usage: 0.84, gen throughput (token/s): 131.30, #queue-req: 0\n",
      "- User testing\n",
      "- Compliance testing\n",
      "- Quality assurance testing\n",
      "- Compliance testing\n",
      "- Quality control"
     ]
    },
    {
     "name": "stdout",
     "output_type": "stream",
     "text": [
      "\n",
      "- User testing\n",
      "- Compliance testing\n",
      "- Quality assurance testing\n",
      "- Compliance testing\n",
      "- Quality[2025-05-04 16:57:01] Decode batch. #running-req: 1, #token: 17180, token usage: 0.84, gen throughput (token/s): 131.04, #queue-req: 0\n",
      " control\n",
      "- User testing\n",
      "-"
     ]
    },
    {
     "name": "stdout",
     "output_type": "stream",
     "text": [
      " Compliance testing\n",
      "- Quality assurance testing\n",
      "- Compliance testing\n",
      "- Quality control\n",
      "- User testing\n",
      "- Compliance testing\n",
      "- Quality assurance"
     ]
    },
    {
     "name": "stdout",
     "output_type": "stream",
     "text": [
      " testing\n",
      "- Compliance testing\n",
      "[2025-05-04 16:57:01] Decode batch. #running-req: 1, #token: 17220, token usage: 0.84, gen throughput (token/s): 131.17, #queue-req: 0\n",
      "- Quality control\n",
      "- User testing\n",
      "- Compliance testing\n",
      "- Quality assurance testing\n",
      "- Compliance testing\n"
     ]
    },
    {
     "name": "stdout",
     "output_type": "stream",
     "text": [
      "- Quality control\n",
      "- User testing\n",
      "- Compliance testing\n",
      "- Quality assurance testing\n",
      "- Compliance[2025-05-04 16:57:01] Decode batch. #running-req: 1, #token: 17260, token usage: 0.84, gen throughput (token/s): 130.60, #queue-req: 0\n",
      " testing\n",
      "- Quality control\n",
      "-"
     ]
    },
    {
     "name": "stdout",
     "output_type": "stream",
     "text": [
      " User testing\n",
      "- Compliance testing\n",
      "- Quality assurance testing\n",
      "- Compliance testing\n",
      "- Quality control\n",
      "- User testing\n",
      "- Compliance"
     ]
    },
    {
     "name": "stdout",
     "output_type": "stream",
     "text": [
      " testing\n",
      "- Quality assurance testing\n",
      "[2025-05-04 16:57:01] Decode batch. #running-req: 1, #token: 17300, token usage: 0.84, gen throughput (token/s): 127.69, #queue-req: 0\n",
      "- Compliance testing\n",
      "- Quality control\n",
      "- User testing\n",
      "- Compliance testing\n",
      "- Quality assurance"
     ]
    },
    {
     "name": "stdout",
     "output_type": "stream",
     "text": [
      " testing\n",
      "- Compliance testing\n",
      "- Quality control\n",
      "- User testing\n",
      "- Compliance testing\n",
      "- Quality assurance[2025-05-04 16:57:02] Decode batch. #running-req: 1, #token: 17340, token usage: 0.85, gen throughput (token/s): 129.37, #queue-req: 0\n",
      " testing\n",
      "- Compliance testing"
     ]
    },
    {
     "name": "stdout",
     "output_type": "stream",
     "text": [
      "\n",
      "- Quality control\n",
      "- User testing\n",
      "- Compliance testing\n",
      "- Quality assurance testing\n",
      "- Compliance testing\n",
      "- Quality control\n"
     ]
    },
    {
     "name": "stdout",
     "output_type": "stream",
     "text": [
      "- User testing\n",
      "- Compliance testing\n",
      "-[2025-05-04 16:57:02] Decode batch. #running-req: 1, #token: 17380, token usage: 0.85, gen throughput (token/s): 129.12, #queue-req: 0\n",
      " Quality assurance testing\n",
      "- Compliance testing\n",
      "- Quality control\n",
      "- User testing\n",
      "-"
     ]
    },
    {
     "name": "stdout",
     "output_type": "stream",
     "text": [
      " Compliance testing\n",
      "- Quality assurance testing\n",
      "- Compliance testing\n",
      "- Quality control\n",
      "- User testing\n",
      "- Compliance testing[2025-05-04 16:57:02] Decode batch. #running-req: 1, #token: 17420, token usage: 0.85, gen throughput (token/s): 129.73, #queue-req: 0\n",
      "\n",
      "- Quality assurance"
     ]
    },
    {
     "name": "stdout",
     "output_type": "stream",
     "text": [
      " testing\n",
      "- Compliance testing\n",
      "- Quality control\n",
      "- User testing\n",
      "- Compliance testing\n",
      "- Quality assurance testing\n",
      "- Compliance testing"
     ]
    },
    {
     "name": "stdout",
     "output_type": "stream",
     "text": [
      "\n",
      "- Quality control\n",
      "- User testing\n",
      "-[2025-05-04 16:57:03] Decode batch. #running-req: 1, #token: 17460, token usage: 0.85, gen throughput (token/s): 128.89, #queue-req: 0\n",
      " Compliance testing\n",
      "- Quality assurance testing\n",
      "- Compliance testing\n",
      "- Quality control\n"
     ]
    },
    {
     "name": "stdout",
     "output_type": "stream",
     "text": [
      "- User testing\n",
      "- Compliance testing\n",
      "- Quality assurance testing\n",
      "- Compliance testing\n",
      "- Quality control\n",
      "- User testing[2025-05-04 16:57:03] Decode batch. #running-req: 1, #token: 17500, token usage: 0.85, gen throughput (token/s): 129.48, #queue-req: 0\n",
      "\n",
      "- Compliance"
     ]
    },
    {
     "name": "stdout",
     "output_type": "stream",
     "text": [
      " testing\n",
      "- Quality assurance testing\n",
      "- Compliance testing\n",
      "- Quality control\n",
      "- User testing\n",
      "- Compliance testing\n",
      "- Quality assurance"
     ]
    },
    {
     "name": "stdout",
     "output_type": "stream",
     "text": [
      " testing\n",
      "- Compliance testing\n",
      "- Quality control\n",
      "-[2025-05-04 16:57:03] Decode batch. #running-req: 1, #token: 17540, token usage: 0.86, gen throughput (token/s): 129.35, #queue-req: 0\n",
      " User testing\n",
      "- Compliance testing\n",
      "- Quality assurance testing\n",
      "- Compliance testing"
     ]
    },
    {
     "name": "stdout",
     "output_type": "stream",
     "text": [
      "\n",
      "- Quality control\n",
      "- User testing\n",
      "- Compliance testing\n",
      "- Quality assurance testing\n",
      "- Compliance testing\n",
      "- Quality control[2025-05-04 16:57:04] Decode batch. #running-req: 1, #token: 17580, token usage: 0.86, gen throughput (token/s): 129.66, #queue-req: 0\n",
      "\n",
      "-"
     ]
    },
    {
     "name": "stdout",
     "output_type": "stream",
     "text": [
      " User testing\n",
      "- Compliance testing\n",
      "- Quality assurance testing\n",
      "- Compliance testing\n",
      "- Quality control\n",
      "- User testing\n",
      "- Compliance testing"
     ]
    },
    {
     "name": "stdout",
     "output_type": "stream",
     "text": [
      "\n",
      "- Quality assurance testing\n",
      "- Compliance testing\n",
      "-[2025-05-04 16:57:04] Decode batch. #running-req: 1, #token: 17620, token usage: 0.86, gen throughput (token/s): 129.80, #queue-req: 0\n",
      " Quality control\n",
      "- User testing\n",
      "- Compliance testing\n",
      "- Quality assurance testing\n"
     ]
    },
    {
     "name": "stdout",
     "output_type": "stream",
     "text": [
      "- Compliance testing\n",
      "- Quality control\n",
      "- User testing\n",
      "- Compliance testing\n",
      "- Quality assurance testing\n",
      "- Compliance testing[2025-05-04 16:57:04] Decode batch. #running-req: 1, #token: 17660, token usage: 0.86, gen throughput (token/s): 129.42, #queue-req: 0\n",
      "\n",
      "-"
     ]
    },
    {
     "name": "stdout",
     "output_type": "stream",
     "text": [
      " Quality control\n",
      "- User testing\n",
      "- Compliance testing\n",
      "- Quality assurance testing\n",
      "- Compliance testing\n",
      "- Quality control\n",
      "-"
     ]
    },
    {
     "name": "stdout",
     "output_type": "stream",
     "text": [
      " User testing\n",
      "- Compliance testing\n",
      "- Quality assurance testing\n",
      "-[2025-05-04 16:57:05] Decode batch. #running-req: 1, #token: 17700, token usage: 0.86, gen throughput (token/s): 123.52, #queue-req: 0\n",
      " Compliance testing\n",
      "- Quality control\n",
      "- User testing\n",
      "- Compliance"
     ]
    },
    {
     "name": "stdout",
     "output_type": "stream",
     "text": [
      " testing\n",
      "- Quality assurance testing\n",
      "- Compliance testing\n",
      "- Quality control\n",
      "- User testing\n",
      "- Compliance testing\n",
      "- Quality assurance"
     ]
    },
    {
     "name": "stdout",
     "output_type": "stream",
     "text": [
      " testing[2025-05-04 16:57:05] Decode batch. #running-req: 1, #token: 17740, token usage: 0.87, gen throughput (token/s): 128.80, #queue-req: 0\n",
      "\n",
      "- Compliance testing\n",
      "- Quality control\n",
      "- User testing\n",
      "- Compliance testing\n",
      "- Quality assurance testing\n",
      "- Compliance testing"
     ]
    },
    {
     "name": "stdout",
     "output_type": "stream",
     "text": [
      "\n",
      "- Quality control\n",
      "- User testing\n",
      "- Compliance testing\n",
      "- Quality[2025-05-04 16:57:05] Decode batch. #running-req: 1, #token: 17780, token usage: 0.87, gen throughput (token/s): 128.84, #queue-req: 0\n",
      " assurance testing\n",
      "- Compliance testing\n",
      "- Quality control\n"
     ]
    },
    {
     "name": "stdout",
     "output_type": "stream",
     "text": [
      "- User testing\n",
      "- Compliance testing\n",
      "- Quality assurance testing\n",
      "- Compliance testing\n",
      "- Quality control\n",
      "- User testing\n",
      "-"
     ]
    },
    {
     "name": "stdout",
     "output_type": "stream",
     "text": [
      " Compliance testing\n",
      "[2025-05-04 16:57:05] Decode batch. #running-req: 1, #token: 17820, token usage: 0.87, gen throughput (token/s): 127.07, #queue-req: 0\n",
      "- Quality assurance testing\n",
      "- Compliance testing\n",
      "- Quality control\n",
      "- User testing\n",
      "- Compliance testing\n",
      "- Quality"
     ]
    },
    {
     "name": "stdout",
     "output_type": "stream",
     "text": [
      " assurance testing\n",
      "- Compliance testing\n",
      "- Quality control\n",
      "- User testing\n",
      "- Compliance[2025-05-04 16:57:06] Decode batch. #running-req: 1, #token: 17860, token usage: 0.87, gen throughput (token/s): 129.11, #queue-req: 0\n",
      " testing\n",
      "- Quality assurance testing\n",
      "- Compliance"
     ]
    },
    {
     "name": "stdout",
     "output_type": "stream",
     "text": [
      " testing\n",
      "- Quality control\n",
      "- User testing\n",
      "- Compliance testing\n",
      "- Quality assurance testing\n",
      "- Compliance testing\n",
      "- Quality control"
     ]
    },
    {
     "name": "stdout",
     "output_type": "stream",
     "text": [
      "\n",
      "- User testing\n",
      "[2025-05-04 16:57:06] Decode batch. #running-req: 1, #token: 17900, token usage: 0.87, gen throughput (token/s): 129.17, #queue-req: 0\n",
      "- Compliance testing\n",
      "- Quality assurance testing\n",
      "- Compliance testing\n",
      "- Quality control\n",
      "- User testing\n",
      "-"
     ]
    },
    {
     "name": "stdout",
     "output_type": "stream",
     "text": [
      " Compliance testing\n",
      "- Quality assurance testing\n",
      "- Compliance testing\n",
      "- Quality control\n",
      "- User[2025-05-04 16:57:06] Decode batch. #running-req: 1, #token: 17940, token usage: 0.88, gen throughput (token/s): 129.65, #queue-req: 0\n",
      " testing\n",
      "- Compliance testing\n",
      "- Quality"
     ]
    },
    {
     "name": "stdout",
     "output_type": "stream",
     "text": [
      " assurance testing\n",
      "- Compliance testing\n",
      "- Quality control\n",
      "- User testing\n",
      "- Compliance testing\n",
      "- Quality assurance testing\n",
      "- Compliance"
     ]
    },
    {
     "name": "stdout",
     "output_type": "stream",
     "text": [
      " testing\n",
      "- Quality control\n",
      "[2025-05-04 16:57:07] Decode batch. #running-req: 1, #token: 17980, token usage: 0.88, gen throughput (token/s): 129.29, #queue-req: 0\n",
      "- User testing\n",
      "- Compliance testing\n",
      "- Quality assurance testing\n",
      "- Compliance testing\n",
      "- Quality control"
     ]
    },
    {
     "name": "stdout",
     "output_type": "stream",
     "text": [
      "\n",
      "- User testing\n",
      "- Compliance testing\n",
      "- Quality assurance testing\n",
      "- Compliance testing\n",
      "- Quality[2025-05-04 16:57:07] Decode batch. #running-req: 1, #token: 18020, token usage: 0.88, gen throughput (token/s): 128.92, #queue-req: 0\n",
      " control\n",
      "- User testing\n"
     ]
    },
    {
     "name": "stdout",
     "output_type": "stream",
     "text": [
      "- Compliance testing\n",
      "- Quality assurance testing\n",
      "- Compliance testing\n",
      "- Quality control\n",
      "- User testing\n",
      "- Compliance testing\n",
      "-"
     ]
    },
    {
     "name": "stdout",
     "output_type": "stream",
     "text": [
      " Quality assurance testing\n",
      "- Compliance testing\n",
      "[2025-05-04 16:57:07] Decode batch. #running-req: 1, #token: 18060, token usage: 0.88, gen throughput (token/s): 128.73, #queue-req: 0\n",
      "- Quality control\n",
      "- User testing\n",
      "- Compliance testing\n",
      "- Quality assurance testing\n",
      "-"
     ]
    },
    {
     "name": "stdout",
     "output_type": "stream",
     "text": [
      " Compliance testing\n",
      "- Quality control\n",
      "- User testing\n",
      "- Compliance testing\n",
      "- Quality assurance testing\n",
      "- Compliance[2025-05-04 16:57:08] Decode batch. #running-req: 1, #token: 18100, token usage: 0.88, gen throughput (token/s): 129.40, #queue-req: 0\n",
      " testing\n",
      "- Quality"
     ]
    },
    {
     "name": "stdout",
     "output_type": "stream",
     "text": [
      " control\n",
      "- User testing\n",
      "- Compliance testing\n",
      "- Quality assurance testing\n",
      "- Compliance testing\n",
      "- Quality control\n",
      "- User testing"
     ]
    },
    {
     "name": "stdout",
     "output_type": "stream",
     "text": [
      "\n",
      "- Compliance testing\n",
      "- Quality assurance testing\n",
      "[2025-05-04 16:57:08] Decode batch. #running-req: 1, #token: 18140, token usage: 0.89, gen throughput (token/s): 128.42, #queue-req: 0\n",
      "- Compliance testing\n",
      "- Quality control\n",
      "- User testing\n",
      "- Compliance testing"
     ]
    },
    {
     "name": "stdout",
     "output_type": "stream",
     "text": [
      "\n",
      "- Quality assurance testing\n",
      "- Compliance testing\n",
      "- Quality control\n",
      "- User testing\n",
      "- Compliance testing\n",
      "- Quality assurance[2025-05-04 16:57:08] Decode batch. #running-req: 1, #token: 18180, token usage: 0.89, gen throughput (token/s): 123.73, #queue-req: 0\n",
      " testing"
     ]
    },
    {
     "name": "stdout",
     "output_type": "stream",
     "text": [
      "\n",
      "- Compliance testing\n",
      "- Quality control\n",
      "- User testing\n",
      "- Compliance testing\n",
      "- Quality assurance testing\n",
      "- Compliance testing\n",
      "-"
     ]
    },
    {
     "name": "stdout",
     "output_type": "stream",
     "text": [
      " Quality control\n",
      "- User testing\n",
      "- Compliance testing\n",
      "-[2025-05-04 16:57:09] Decode batch. #running-req: 1, #token: 18220, token usage: 0.89, gen throughput (token/s): 128.35, #queue-req: 0\n",
      " Quality assurance testing\n",
      "- Compliance testing\n",
      "- Quality control\n",
      "- User testing"
     ]
    },
    {
     "name": "stdout",
     "output_type": "stream",
     "text": [
      "\n",
      "- Compliance testing\n",
      "- Quality assurance testing\n",
      "- Compliance testing\n",
      "- Quality control\n",
      "- User testing\n",
      "- Compliance testing"
     ]
    },
    {
     "name": "stdout",
     "output_type": "stream",
     "text": [
      "[2025-05-04 16:57:09] Decode batch. #running-req: 1, #token: 18260, token usage: 0.89, gen throughput (token/s): 125.12, #queue-req: 0\n",
      "\n",
      "- Quality assurance testing\n",
      "- Compliance testing\n",
      "- Quality control\n",
      "- User testing\n",
      "- Compliance testing\n",
      "- Quality assurance testing"
     ]
    },
    {
     "name": "stdout",
     "output_type": "stream",
     "text": [
      "\n",
      "- Compliance testing\n",
      "- Quality control\n",
      "- User testing\n",
      "-[2025-05-04 16:57:09] Decode batch. #running-req: 1, #token: 18300, token usage: 0.89, gen throughput (token/s): 126.68, #queue-req: 0\n",
      " Compliance testing\n",
      "- Quality assurance testing\n",
      "- Compliance testing\n"
     ]
    },
    {
     "name": "stdout",
     "output_type": "stream",
     "text": [
      "- Quality control\n",
      "- User testing\n",
      "- Compliance testing\n",
      "- Quality assurance testing\n",
      "- Compliance testing\n",
      "- Quality control\n",
      "-"
     ]
    },
    {
     "name": "stdout",
     "output_type": "stream",
     "text": [
      " User testing[2025-05-04 16:57:10] Decode batch. #running-req: 1, #token: 18340, token usage: 0.90, gen throughput (token/s): 128.16, #queue-req: 0\n",
      "\n",
      "- Compliance testing\n",
      "- Quality assurance testing\n",
      "- Compliance testing\n",
      "- Quality control\n",
      "- User testing\n",
      "- Compliance"
     ]
    },
    {
     "name": "stdout",
     "output_type": "stream",
     "text": [
      " testing\n",
      "- Quality assurance testing\n",
      "- Compliance testing\n",
      "- Quality control\n",
      "-[2025-05-04 16:57:10] Decode batch. #running-req: 1, #token: 18380, token usage: 0.90, gen throughput (token/s): 127.79, #queue-req: 0\n",
      " User testing\n",
      "- Compliance testing\n",
      "- Quality assurance"
     ]
    },
    {
     "name": "stdout",
     "output_type": "stream",
     "text": [
      " testing\n",
      "- Compliance testing\n",
      "- Quality control\n",
      "- User testing\n",
      "- Compliance testing\n",
      "- Quality assurance testing\n",
      "- Compliance testing"
     ]
    },
    {
     "name": "stdout",
     "output_type": "stream",
     "text": [
      "\n",
      "- Quality control[2025-05-04 16:57:10] Decode batch. #running-req: 1, #token: 18420, token usage: 0.90, gen throughput (token/s): 127.66, #queue-req: 0\n",
      "\n",
      "- User testing\n",
      "- Compliance testing\n",
      "- Quality assurance testing\n",
      "- Compliance testing\n",
      "- Quality control"
     ]
    },
    {
     "name": "stdout",
     "output_type": "stream",
     "text": [
      "\n",
      "- User testing\n",
      "- Compliance testing\n",
      "- Quality assurance testing\n",
      "- Compliance testing\n",
      "-[2025-05-04 16:57:11] Decode batch. #running-req: 1, #token: 18460, token usage: 0.90, gen throughput (token/s): 123.30, #queue-req: 0\n",
      " Quality control\n",
      "- User testing\n"
     ]
    },
    {
     "name": "stdout",
     "output_type": "stream",
     "text": [
      "- Compliance testing\n",
      "- Quality assurance testing\n",
      "- Compliance testing\n",
      "- Quality control\n",
      "- User testing\n",
      "- Compliance testing\n",
      "-"
     ]
    },
    {
     "name": "stdout",
     "output_type": "stream",
     "text": [
      " Quality assurance testing\n",
      "- Compliance testing[2025-05-04 16:57:11] Decode batch. #running-req: 1, #token: 18500, token usage: 0.90, gen throughput (token/s): 126.31, #queue-req: 0\n",
      "\n",
      "- Quality control\n",
      "- User testing\n",
      "- Compliance testing\n",
      "- Quality assurance testing\n",
      "-"
     ]
    },
    {
     "name": "stdout",
     "output_type": "stream",
     "text": [
      " Compliance testing\n",
      "- Quality control\n",
      "- User testing\n",
      "- Compliance testing\n",
      "- Quality assurance testing\n",
      "-[2025-05-04 16:57:11] Decode batch. #running-req: 1, #token: 18540, token usage: 0.91, gen throughput (token/s): 127.95, #queue-req: 0\n",
      " Compliance testing\n",
      "- Quality"
     ]
    },
    {
     "name": "stdout",
     "output_type": "stream",
     "text": [
      " control\n",
      "- User testing\n",
      "- Compliance testing\n",
      "- Quality assurance testing\n",
      "- Compliance testing\n",
      "- Quality control\n",
      "- User testing"
     ]
    },
    {
     "name": "stdout",
     "output_type": "stream",
     "text": [
      "\n",
      "- Compliance testing\n",
      "- Quality assurance testing[2025-05-04 16:57:11] Decode batch. #running-req: 1, #token: 18580, token usage: 0.91, gen throughput (token/s): 126.91, #queue-req: 0\n",
      "\n",
      "- Compliance testing\n",
      "- Quality control\n",
      "- User testing\n",
      "- Compliance testing\n"
     ]
    },
    {
     "name": "stdout",
     "output_type": "stream",
     "text": [
      "- Quality assurance testing\n",
      "- Compliance testing\n",
      "- Quality control\n",
      "- User testing\n",
      "- Compliance testing\n",
      "- Quality[2025-05-04 16:57:12] Decode batch. #running-req: 1, #token: 18620, token usage: 0.91, gen throughput (token/s): 125.43, #queue-req: 0\n",
      " assurance testing\n"
     ]
    },
    {
     "name": "stdout",
     "output_type": "stream",
     "text": [
      "- Compliance testing\n",
      "- Quality control\n",
      "- User testing\n",
      "- Compliance testing\n",
      "- Quality assurance testing\n",
      "- Compliance testing\n",
      "-"
     ]
    },
    {
     "name": "stdout",
     "output_type": "stream",
     "text": [
      " Quality control\n",
      "- User testing\n",
      "- Compliance testing\n",
      "[2025-05-04 16:57:12] Decode batch. #running-req: 1, #token: 18660, token usage: 0.91, gen throughput (token/s): 127.24, #queue-req: 0\n",
      "- Quality assurance testing\n",
      "- Compliance testing\n",
      "- Quality control\n",
      "- User"
     ]
    },
    {
     "name": "stdout",
     "output_type": "stream",
     "text": [
      " testing\n",
      "- Compliance testing\n",
      "- Quality assurance testing\n",
      "- Compliance testing\n",
      "- Quality control\n",
      "- User testing\n",
      "- Compliance[2025-05-04 16:57:12] Decode batch. #running-req: 1, #token: 18700, token usage: 0.91, gen throughput (token/s): 126.22, #queue-req: 0\n",
      " testing"
     ]
    },
    {
     "name": "stdout",
     "output_type": "stream",
     "text": [
      "\n",
      "- Quality assurance testing\n",
      "- Compliance testing\n",
      "- Quality control\n",
      "- User testing\n",
      "- Compliance testing\n",
      "- Quality assurance testing"
     ]
    },
    {
     "name": "stdout",
     "output_type": "stream",
     "text": [
      "\n",
      "- Compliance testing\n",
      "- Quality control\n",
      "- User testing\n",
      "[2025-05-04 16:57:13] Decode batch. #running-req: 1, #token: 18740, token usage: 0.92, gen throughput (token/s): 125.81, #queue-req: 0\n",
      "- Compliance testing\n",
      "- Quality assurance testing\n",
      "- Compliance testing\n"
     ]
    },
    {
     "name": "stdout",
     "output_type": "stream",
     "text": [
      "- Quality control\n",
      "- User testing\n",
      "- Compliance testing\n",
      "- Quality assurance testing\n",
      "- Compliance testing\n",
      "- Quality control\n",
      "-"
     ]
    },
    {
     "name": "stdout",
     "output_type": "stream",
     "text": [
      " User[2025-05-04 16:57:13] Decode batch. #running-req: 1, #token: 18780, token usage: 0.92, gen throughput (token/s): 127.59, #queue-req: 0\n",
      " testing\n",
      "- Compliance testing\n",
      "- Quality assurance testing\n",
      "- Compliance testing\n",
      "- Quality control\n",
      "- User testing\n",
      "- Compliance"
     ]
    },
    {
     "name": "stdout",
     "output_type": "stream",
     "text": [
      " testing\n",
      "- Quality assurance testing\n",
      "- Compliance testing\n",
      "- Quality control\n",
      "[2025-05-04 16:57:13] Decode batch. #running-req: 1, #token: 18820, token usage: 0.92, gen throughput (token/s): 127.62, #queue-req: 0\n",
      "- User testing\n",
      "- Compliance testing\n",
      "- Quality assurance"
     ]
    },
    {
     "name": "stdout",
     "output_type": "stream",
     "text": [
      " testing\n",
      "- Compliance testing\n",
      "- Quality control\n",
      "- User testing\n",
      "- Compliance testing\n",
      "- Quality assurance testing\n",
      "- Compliance testing"
     ]
    },
    {
     "name": "stdout",
     "output_type": "stream",
     "text": [
      "\n",
      "- Quality[2025-05-04 16:57:14] Decode batch. #running-req: 1, #token: 18860, token usage: 0.92, gen throughput (token/s): 128.15, #queue-req: 0\n",
      " control\n",
      "- User testing\n",
      "- Compliance testing\n",
      "- Quality assurance testing\n",
      "- Compliance testing\n",
      "- Quality control\n"
     ]
    },
    {
     "name": "stdout",
     "output_type": "stream",
     "text": [
      "- User testing\n",
      "- Compliance testing\n",
      "- Quality assurance testing\n",
      "- Compliance testing\n",
      "[2025-05-04 16:57:14] Decode batch. #running-req: 1, #token: 18900, token usage: 0.92, gen throughput (token/s): 127.99, #queue-req: 0\n",
      "- Quality control\n",
      "- User"
     ]
    },
    {
     "name": "stdout",
     "output_type": "stream",
     "text": [
      " testing\n",
      "- Compliance testing\n",
      "- Quality assurance testing\n",
      "- Compliance testing\n",
      "- Quality control\n",
      "- User testing\n",
      "- Compliance testing"
     ]
    },
    {
     "name": "stdout",
     "output_type": "stream",
     "text": [
      "\n",
      "- Quality assurance testing\n",
      "- Compliance[2025-05-04 16:57:14] Decode batch. #running-req: 1, #token: 18940, token usage: 0.92, gen throughput (token/s): 118.06, #queue-req: 0\n",
      " testing\n",
      "- Quality control\n",
      "- User testing\n",
      "- Compliance testing\n",
      "- Quality assurance testing"
     ]
    },
    {
     "name": "stdout",
     "output_type": "stream",
     "text": [
      "\n",
      "- Compliance testing\n",
      "- Quality control\n",
      "- User testing\n",
      "- Compliance testing\n",
      "- Quality assurance testing\n",
      "[2025-05-04 16:57:15] Decode batch. #running-req: 1, #token: 18980, token usage: 0.93, gen throughput (token/s): 127.75, #queue-req: 0\n",
      "- Compliance testing\n"
     ]
    },
    {
     "name": "stdout",
     "output_type": "stream",
     "text": [
      "- Quality control\n",
      "- User testing\n",
      "- Compliance testing\n",
      "- Quality assurance testing\n",
      "- Compliance testing\n",
      "- Quality control\n",
      "-"
     ]
    },
    {
     "name": "stdout",
     "output_type": "stream",
     "text": [
      " User testing\n",
      "- Compliance testing\n",
      "- Quality assurance[2025-05-04 16:57:15] Decode batch. #running-req: 1, #token: 19020, token usage: 0.93, gen throughput (token/s): 128.19, #queue-req: 0\n",
      " testing\n",
      "- Compliance testing\n",
      "- Quality control\n",
      "- User testing\n",
      "- Compliance"
     ]
    },
    {
     "name": "stdout",
     "output_type": "stream",
     "text": [
      " testing\n",
      "- Quality assurance testing\n",
      "- Compliance testing\n",
      "- Quality control\n",
      "- User testing\n",
      "- Compliance testing\n",
      "-[2025-05-04 16:57:15] Decode batch. #running-req: 1, #token: 19060, token usage: 0.93, gen throughput (token/s): 128.01, #queue-req: 0\n",
      " Quality assurance"
     ]
    },
    {
     "name": "stdout",
     "output_type": "stream",
     "text": [
      " testing\n",
      "- Compliance testing\n",
      "- Quality control\n",
      "- User testing\n",
      "- Compliance testing\n",
      "- Quality assurance testing\n",
      "- Compliance testing"
     ]
    },
    {
     "name": "stdout",
     "output_type": "stream",
     "text": [
      "\n",
      "- Quality control\n",
      "- User testing\n",
      "- Compliance testing[2025-05-04 16:57:16] Decode batch. #running-req: 1, #token: 19100, token usage: 0.93, gen throughput (token/s): 128.04, #queue-req: 0\n",
      "\n",
      "- Quality assurance testing\n",
      "- Compliance testing\n",
      "- Quality control\n"
     ]
    },
    {
     "name": "stdout",
     "output_type": "stream",
     "text": [
      "- User testing\n",
      "- Compliance testing\n",
      "- Quality assurance testing\n",
      "- Compliance testing\n",
      "- Quality control\n",
      "- User testing\n",
      "-"
     ]
    },
    {
     "name": "stdout",
     "output_type": "stream",
     "text": [
      "[2025-05-04 16:57:16] Decode batch. #running-req: 1, #token: 19140, token usage: 0.93, gen throughput (token/s): 128.57, #queue-req: 0\n",
      " Compliance testing\n",
      "- Quality assurance testing\n",
      "- Compliance testing\n",
      "- Quality control\n",
      "- User testing\n",
      "- Compliance testing\n",
      "-"
     ]
    },
    {
     "name": "stdout",
     "output_type": "stream",
     "text": [
      " Quality assurance testing\n",
      "- Compliance testing\n",
      "- Quality control\n",
      "- User testing[2025-05-04 16:57:16] Decode batch. #running-req: 1, #token: 19180, token usage: 0.94, gen throughput (token/s): 124.11, #queue-req: 0\n",
      "\n",
      "- Compliance testing\n",
      "- Quality assurance testing\n"
     ]
    },
    {
     "name": "stdout",
     "output_type": "stream",
     "text": [
      "- Compliance testing\n",
      "- Quality control\n",
      "- User testing\n",
      "- Compliance testing\n",
      "- Quality assurance testing\n",
      "- Compliance testing\n",
      "-"
     ]
    },
    {
     "name": "stdout",
     "output_type": "stream",
     "text": [
      " Quality control\n",
      "-[2025-05-04 16:57:17] Decode batch. #running-req: 1, #token: 19220, token usage: 0.94, gen throughput (token/s): 124.66, #queue-req: 0\n",
      " User testing\n",
      "- Compliance testing\n",
      "- Quality assurance testing\n",
      "- Compliance testing\n",
      "- Quality control\n",
      "-"
     ]
    },
    {
     "name": "stdout",
     "output_type": "stream",
     "text": [
      " User testing\n",
      "- Compliance testing\n",
      "- Quality assurance testing\n",
      "- Compliance testing\n",
      "- Quality control[2025-05-04 16:57:17] Decode batch. #running-req: 1, #token: 19260, token usage: 0.94, gen throughput (token/s): 123.85, #queue-req: 0\n",
      "\n",
      "- User testing\n",
      "-"
     ]
    },
    {
     "name": "stdout",
     "output_type": "stream",
     "text": [
      " Compliance testing\n",
      "- Quality assurance testing\n",
      "- Compliance testing\n",
      "- Quality control\n",
      "- User testing\n",
      "- Compliance testing\n"
     ]
    },
    {
     "name": "stdout",
     "output_type": "stream",
     "text": [
      "- Quality assurance testing\n",
      "- Compliance testing\n",
      "-[2025-05-04 16:57:17] Decode batch. #running-req: 1, #token: 19300, token usage: 0.94, gen throughput (token/s): 117.60, #queue-req: 0\n",
      " Quality control\n",
      "- User testing\n",
      "- Compliance testing\n",
      "- Quality assurance"
     ]
    },
    {
     "name": "stdout",
     "output_type": "stream",
     "text": [
      " testing\n",
      "- Compliance testing\n",
      "- Quality control\n",
      "- User testing\n",
      "- Compliance testing\n",
      "- Quality assurance testing\n",
      "-"
     ]
    },
    {
     "name": "stdout",
     "output_type": "stream",
     "text": [
      " Compliance testing[2025-05-04 16:57:18] Decode batch. #running-req: 1, #token: 19340, token usage: 0.94, gen throughput (token/s): 116.70, #queue-req: 0\n",
      "\n",
      "- Quality control\n",
      "- User testing\n",
      "- Compliance testing\n",
      "- Quality assurance testing\n",
      "- Compliance testing"
     ]
    },
    {
     "name": "stdout",
     "output_type": "stream",
     "text": [
      "\n",
      "- Quality control\n",
      "- User testing\n",
      "- Compliance testing\n",
      "- Quality assurance testing\n",
      "-[2025-05-04 16:57:18] Decode batch. #running-req: 1, #token: 19380, token usage: 0.95, gen throughput (token/s): 117.18, #queue-req: 0\n",
      " Compliance testing\n",
      "- Quality"
     ]
    },
    {
     "name": "stdout",
     "output_type": "stream",
     "text": [
      " control\n",
      "- User testing\n",
      "- Compliance testing\n",
      "- Quality assurance testing\n",
      "- Compliance testing\n",
      "- Quality control\n",
      "- User"
     ]
    },
    {
     "name": "stdout",
     "output_type": "stream",
     "text": [
      " testing\n",
      "- Compliance testing\n",
      "- Quality assurance testing[2025-05-04 16:57:18] Decode batch. #running-req: 1, #token: 19420, token usage: 0.95, gen throughput (token/s): 124.47, #queue-req: 0\n",
      "\n",
      "- Compliance testing\n",
      "- Quality control\n",
      "- User testing\n",
      "- Compliance testing"
     ]
    },
    {
     "name": "stdout",
     "output_type": "stream",
     "text": [
      "\n",
      "- Quality assurance testing\n",
      "- Compliance testing\n",
      "- Quality control\n",
      "- User testing\n",
      "- Compliance testing\n",
      "- Quality[2025-05-04 16:57:18] Decode batch. #running-req: 1, #token: 19460, token usage: 0.95, gen throughput (token/s): 126.44, #queue-req: 0\n",
      " assurance testing"
     ]
    },
    {
     "name": "stdout",
     "output_type": "stream",
     "text": [
      "\n",
      "- Compliance testing\n",
      "- Quality control\n",
      "- User testing\n",
      "- Compliance testing\n",
      "- Quality assurance testing\n",
      "- Compliance testing\n"
     ]
    },
    {
     "name": "stdout",
     "output_type": "stream",
     "text": [
      "- Quality control\n",
      "- User testing\n",
      "- Compliance testing\n",
      "[2025-05-04 16:57:19] Decode batch. #running-req: 1, #token: 19500, token usage: 0.95, gen throughput (token/s): 127.85, #queue-req: 0\n",
      "- Quality assurance testing\n",
      "- Compliance testing\n",
      "- Quality control\n"
     ]
    },
    {
     "name": "stdout",
     "output_type": "stream",
     "text": [
      "- User testing\n",
      "- Compliance testing\n",
      "- Quality assurance testing\n",
      "- Compliance testing\n",
      "- Quality control\n",
      "- User testing\n",
      "-"
     ]
    },
    {
     "name": "stdout",
     "output_type": "stream",
     "text": [
      " Compliance[2025-05-04 16:57:19] Decode batch. #running-req: 1, #token: 19540, token usage: 0.95, gen throughput (token/s): 125.39, #queue-req: 0\n",
      " testing\n",
      "- Quality assurance testing\n",
      "- Compliance testing\n",
      "- Quality control\n",
      "- User testing\n",
      "- Compliance testing\n",
      "- Quality"
     ]
    },
    {
     "name": "stdout",
     "output_type": "stream",
     "text": [
      " assurance testing\n",
      "- Compliance testing\n",
      "- Quality control\n",
      "- User testing\n",
      "[2025-05-04 16:57:19] Decode batch. #running-req: 1, #token: 19580, token usage: 0.96, gen throughput (token/s): 124.91, #queue-req: 0\n",
      "- Compliance testing\n",
      "- Quality assurance"
     ]
    },
    {
     "name": "stdout",
     "output_type": "stream",
     "text": [
      " testing\n",
      "- Compliance testing\n",
      "- Quality control\n",
      "- User testing\n",
      "- Compliance testing\n",
      "- Quality assurance testing\n",
      "- Compliance testing\n"
     ]
    },
    {
     "name": "stdout",
     "output_type": "stream",
     "text": [
      "- Quality control\n",
      "- User[2025-05-04 16:57:20] Decode batch. #running-req: 1, #token: 19620, token usage: 0.96, gen throughput (token/s): 117.21, #queue-req: 0\n",
      " testing\n",
      "- Compliance testing\n",
      "- Quality assurance testing\n",
      "- Compliance testing\n",
      "- Quality control\n"
     ]
    },
    {
     "name": "stdout",
     "output_type": "stream",
     "text": [
      "- User testing\n",
      "- Compliance testing\n",
      "- Quality assurance testing\n",
      "- Compliance testing\n",
      "- Quality control\n",
      "[2025-05-04 16:57:20] Decode batch. #running-req: 1, #token: 19660, token usage: 0.96, gen throughput (token/s): 124.70, #queue-req: 0\n",
      "- User testing\n",
      "-"
     ]
    },
    {
     "name": "stdout",
     "output_type": "stream",
     "text": [
      " Compliance testing\n",
      "- Quality assurance testing\n",
      "- Compliance testing\n",
      "- Quality control\n",
      "- User testing\n",
      "- Compliance testing\n",
      "-"
     ]
    },
    {
     "name": "stdout",
     "output_type": "stream",
     "text": [
      " Quality assurance testing\n",
      "- Compliance testing\n",
      "- Quality[2025-05-04 16:57:20] Decode batch. #running-req: 1, #token: 19700, token usage: 0.96, gen throughput (token/s): 125.04, #queue-req: 0\n",
      " control\n",
      "- User testing\n",
      "- Compliance testing\n",
      "- Quality assurance testing\n",
      "-"
     ]
    },
    {
     "name": "stdout",
     "output_type": "stream",
     "text": [
      " Compliance testing\n",
      "- Quality control\n",
      "- User testing\n",
      "- Compliance testing\n",
      "- Quality assurance testing\n",
      "- Compliance testing\n",
      "[2025-05-04 16:57:21] Decode batch. #running-req: 1, #token: 19740, token usage: 0.96, gen throughput (token/s): 122.67, #queue-req: 0\n",
      "-"
     ]
    },
    {
     "name": "stdout",
     "output_type": "stream",
     "text": [
      " Quality control\n",
      "- User testing\n",
      "- Compliance testing\n",
      "- Quality assurance testing\n",
      "- Compliance testing\n",
      "- Quality control\n",
      "-"
     ]
    },
    {
     "name": "stdout",
     "output_type": "stream",
     "text": [
      " User testing\n",
      "- Compliance testing\n",
      "- Quality assurance testing\n",
      "- Compliance[2025-05-04 16:57:21] Decode batch. #running-req: 1, #token: 19780, token usage: 0.97, gen throughput (token/s): 121.35, #queue-req: 0\n",
      " testing\n",
      "- Quality control\n",
      "- User testing\n",
      "-"
     ]
    },
    {
     "name": "stdout",
     "output_type": "stream",
     "text": [
      " Compliance testing\n",
      "- Quality assurance testing\n",
      "- Compliance testing\n",
      "- Quality control\n",
      "- User testing\n",
      "- Compliance testing\n",
      "- Quality"
     ]
    },
    {
     "name": "stdout",
     "output_type": "stream",
     "text": [
      " assurance testing\n",
      "[2025-05-04 16:57:21] Decode batch. #running-req: 1, #token: 19820, token usage: 0.97, gen throughput (token/s): 125.67, #queue-req: 0\n",
      "- Compliance testing\n",
      "- Quality control\n",
      "- User testing\n",
      "- Compliance testing\n",
      "- Quality assurance testing\n",
      "- Compliance"
     ]
    },
    {
     "name": "stdout",
     "output_type": "stream",
     "text": [
      " testing\n",
      "- Quality control\n",
      "- User testing\n",
      "- Compliance testing\n",
      "- Quality assurance[2025-05-04 16:57:22] Decode batch. #running-req: 1, #token: 19860, token usage: 0.97, gen throughput (token/s): 125.60, #queue-req: 0\n",
      " testing\n",
      "- Compliance testing\n",
      "- Quality control"
     ]
    },
    {
     "name": "stdout",
     "output_type": "stream",
     "text": [
      "\n",
      "- User testing\n",
      "- Compliance testing\n",
      "- Quality assurance testing\n",
      "- Compliance testing\n",
      "- Quality control\n",
      "- User testing\n"
     ]
    },
    {
     "name": "stdout",
     "output_type": "stream",
     "text": [
      "- Compliance testing\n",
      "-[2025-05-04 16:57:22] Decode batch. #running-req: 1, #token: 19900, token usage: 0.97, gen throughput (token/s): 124.29, #queue-req: 0\n",
      " Quality assurance testing\n",
      "- Compliance testing\n",
      "- Quality control\n",
      "- User testing\n",
      "- Compliance testing\n",
      "-"
     ]
    },
    {
     "name": "stdout",
     "output_type": "stream",
     "text": [
      " Quality assurance testing\n",
      "- Compliance testing\n",
      "- Quality control\n",
      "- User testing\n",
      "- Compliance testing[2025-05-04 16:57:22] Decode batch. #running-req: 1, #token: 19940, token usage: 0.97, gen throughput (token/s): 126.91, #queue-req: 0\n",
      "\n",
      "- Quality assurance testing\n",
      "-"
     ]
    },
    {
     "name": "stdout",
     "output_type": "stream",
     "text": [
      " Compliance testing\n",
      "- Quality control\n",
      "- User testing\n",
      "- Compliance testing\n",
      "- Quality assurance testing\n",
      "- Compliance testing\n",
      "- Quality"
     ]
    },
    {
     "name": "stdout",
     "output_type": "stream",
     "text": [
      " control\n",
      "- User testing\n",
      "-[2025-05-04 16:57:23] Decode batch. #running-req: 1, #token: 19980, token usage: 0.98, gen throughput (token/s): 126.17, #queue-req: 0\n",
      " Compliance testing\n",
      "- Quality assurance testing\n",
      "- Compliance testing\n",
      "- Quality control\n",
      "- User testing"
     ]
    },
    {
     "name": "stdout",
     "output_type": "stream",
     "text": [
      "\n",
      "- Compliance testing\n",
      "- Quality assurance testing\n",
      "- Compliance testing\n",
      "- Quality control\n",
      "- User testing[2025-05-04 16:57:23] Decode batch. #running-req: 1, #token: 20020, token usage: 0.98, gen throughput (token/s): 128.18, #queue-req: 0\n",
      "\n",
      "- Compliance testing\n"
     ]
    },
    {
     "name": "stdout",
     "output_type": "stream",
     "text": [
      "- Quality assurance testing\n",
      "- Compliance testing\n",
      "- Quality control\n",
      "- User testing\n",
      "- Compliance testing\n",
      "- Quality assurance testing\n"
     ]
    },
    {
     "name": "stdout",
     "output_type": "stream",
     "text": [
      "- Compliance testing\n",
      "- Quality control\n",
      "-[2025-05-04 16:57:23] Decode batch. #running-req: 1, #token: 20060, token usage: 0.98, gen throughput (token/s): 127.15, #queue-req: 0\n",
      " User testing\n",
      "- Compliance testing\n",
      "- Quality assurance testing\n",
      "- Compliance testing\n",
      "-"
     ]
    },
    {
     "name": "stdout",
     "output_type": "stream",
     "text": [
      " Quality control\n",
      "- User testing\n",
      "- Compliance testing\n",
      "- Quality assurance testing\n",
      "- Compliance testing\n",
      "- Quality control[2025-05-04 16:57:24] Decode batch. #running-req: 1, #token: 20100, token usage: 0.98, gen throughput (token/s): 126.03, #queue-req: 0\n",
      "\n",
      "- User"
     ]
    },
    {
     "name": "stdout",
     "output_type": "stream",
     "text": [
      " testing\n",
      "- Compliance testing\n",
      "- Quality assurance testing\n",
      "- Compliance testing\n",
      "- Quality control\n",
      "- User testing\n",
      "- Compliance testing"
     ]
    },
    {
     "name": "stdout",
     "output_type": "stream",
     "text": [
      "\n",
      "- Quality assurance testing\n",
      "- Compliance testing\n",
      "-[2025-05-04 16:57:24] Decode batch. #running-req: 1, #token: 20140, token usage: 0.98, gen throughput (token/s): 124.69, #queue-req: 0\n",
      " Quality control\n",
      "- User testing\n",
      "- Compliance testing\n",
      "- Quality assurance testing"
     ]
    },
    {
     "name": "stdout",
     "output_type": "stream",
     "text": [
      "\n",
      "- Compliance testing\n",
      "- Quality control\n",
      "- User testing\n",
      "- Compliance testing\n",
      "- Quality assurance testing\n",
      "- Compliance testing[2025-05-04 16:57:24] Decode batch. #running-req: 1, #token: 20180, token usage: 0.99, gen throughput (token/s): 126.59, #queue-req: 0\n",
      "\n"
     ]
    },
    {
     "name": "stdout",
     "output_type": "stream",
     "text": [
      "- Quality control\n",
      "- User testing\n",
      "- Compliance testing\n",
      "- Quality assurance testing\n",
      "- Compliance testing\n",
      "- Quality control\n",
      "-"
     ]
    },
    {
     "name": "stdout",
     "output_type": "stream",
     "text": [
      " User testing\n",
      "- Compliance testing\n",
      "- Quality assurance testing\n",
      "-[2025-05-04 16:57:25] Decode batch. #running-req: 1, #token: 20220, token usage: 0.99, gen throughput (token/s): 126.53, #queue-req: 0\n",
      " Compliance testing\n",
      "- Quality control\n",
      "- User testing\n",
      "- Compliance"
     ]
    },
    {
     "name": "stdout",
     "output_type": "stream",
     "text": [
      " testing\n",
      "- Quality assurance testing\n",
      "- Compliance testing\n",
      "- Quality control\n",
      "- User testing\n",
      "- Compliance testing\n",
      "- Quality assurance"
     ]
    },
    {
     "name": "stdout",
     "output_type": "stream",
     "text": [
      " testing[2025-05-04 16:57:25] Decode batch. #running-req: 1, #token: 20260, token usage: 0.99, gen throughput (token/s): 126.72, #queue-req: 0\n",
      "\n",
      "- Compliance testing\n",
      "- Quality control\n",
      "- User testing\n",
      "- Compliance testing\n",
      "- Quality assurance testing\n",
      "- Compliance"
     ]
    },
    {
     "name": "stdout",
     "output_type": "stream",
     "text": [
      " testing\n",
      "- Quality control\n",
      "- User testing\n",
      "- Compliance testing\n",
      "- Quality[2025-05-04 16:57:25] Decode batch. #running-req: 1, #token: 20300, token usage: 0.99, gen throughput (token/s): 123.11, #queue-req: 0\n",
      " assurance testing\n",
      "- Compliance testing\n",
      "- Quality control"
     ]
    },
    {
     "name": "stdout",
     "output_type": "stream",
     "text": [
      "\n",
      "- User testing\n",
      "- Compliance testing\n",
      "- Quality assurance testing\n",
      "- Compliance testing\n",
      "- Quality control\n",
      "-"
     ]
    },
    {
     "name": "stdout",
     "output_type": "stream",
     "text": [
      " User testing\n",
      "- Compliance testing\n",
      "[2025-05-04 16:57:26] Decode batch. #running-req: 1, #token: 20340, token usage: 0.99, gen throughput (token/s): 117.44, #queue-req: 0\n",
      "- Quality assurance testing\n",
      "- Compliance testing\n",
      "- Quality control\n",
      "- User testing\n",
      "- Compliance"
     ]
    },
    {
     "name": "stdout",
     "output_type": "stream",
     "text": [
      " testing\n",
      "- Quality assurance testing\n",
      "- Compliance testing\n",
      "- Quality control\n",
      "- User testing\n",
      "- Compliance"
     ]
    },
    {
     "name": "stdout",
     "output_type": "stream",
     "text": [
      "[2025-05-04 16:57:26] Decode batch. #running-req: 1, #token: 20380, token usage: 1.00, gen throughput (token/s): 113.36, #queue-req: 0\n",
      " testing\n",
      "- Quality assurance testing\n",
      "- Compliance testing\n",
      "- Quality control\n",
      "- User testing\n",
      "- Compliance"
     ]
    },
    {
     "name": "stdout",
     "output_type": "stream",
     "text": [
      " testing\n",
      "- Quality assurance testing\n",
      "- Compliance testing\n",
      "- Quality control\n",
      "- User testing\n",
      "[2025-05-04 16:57:26] Decode batch. #running-req: 1, #token: 20420, token usage: 1.00, gen throughput (token/s): 107.36, #queue-req: 0\n",
      "- Compliance testing\n"
     ]
    },
    {
     "name": "stdout",
     "output_type": "stream",
     "text": [
      "- Quality assurance testing\n",
      "- Compliance testing\n",
      "- Quality control\n",
      "- User testing\n",
      "- Compliance testing\n"
     ]
    },
    {
     "name": "stdout",
     "output_type": "stream",
     "text": [
      "- Quality assurance testing\n",
      "- Compliance testing\n",
      "- Quality control\n",
      "- User[2025-05-04 16:57:27] Decode batch. #running-req: 1, #token: 20460, token usage: 1.00, gen throughput (token/s): 104.67, #queue-req: 0\n",
      " testing\n",
      "- Compliance testing\n",
      "- Quality assurance"
     ]
    },
    {
     "name": "stdout",
     "output_type": "stream",
     "text": [
      " testing\n",
      "- Compliance testing\n",
      "- Quality control\n"
     ]
    }
   ],
   "source": [
    "stream = client.chat.completions.create(\n",
    "    model=\"qwen/qwen2.5-0.5b-instruct\",\n",
    "    messages=[{\"role\": \"user\", \"content\": \"Say this is a test\"}],\n",
    "    stream=True,\n",
    ")\n",
    "for chunk in stream:\n",
    "    if chunk.choices[0].delta.content is not None:\n",
    "        print(chunk.choices[0].delta.content, end=\"\")"
   ]
  },
  {
   "cell_type": "markdown",
   "metadata": {},
   "source": [
    "## Completions\n",
    "\n",
    "### Usage\n",
    "Completions API is similar to Chat Completions API, but without the `messages` parameter or chat templates."
   ]
  },
  {
   "cell_type": "code",
   "execution_count": 5,
   "metadata": {
    "execution": {
     "iopub.execute_input": "2025-05-04T16:57:27.323609Z",
     "iopub.status.busy": "2025-05-04T16:57:27.323256Z",
     "iopub.status.idle": "2025-05-04T16:57:28.025495Z",
     "shell.execute_reply": "2025-05-04T16:57:28.024852Z"
    }
   },
   "outputs": [
    {
     "name": "stdout",
     "output_type": "stream",
     "text": [
      "[2025-05-04 16:57:27] Prefill batch. #new-seq: 1, #new-token: 8, #cached-token: 0, token usage: 0.00, #running-req: 0, #queue-req: 0\n"
     ]
    },
    {
     "name": "stdout",
     "output_type": "stream",
     "text": [
      "[2025-05-04 16:57:27] Decode batch. #running-req: 1, #token: 30, token usage: 0.00, gen throughput (token/s): 97.04, #queue-req: 0\n"
     ]
    },
    {
     "name": "stdout",
     "output_type": "stream",
     "text": [
      "[2025-05-04 16:57:27] Decode batch. #running-req: 1, #token: 70, token usage: 0.00, gen throughput (token/s): 99.38, #queue-req: 0\n",
      "[2025-05-04 16:57:28] INFO:     127.0.0.1:60228 - \"POST /v1/completions HTTP/1.1\" 200 OK\n"
     ]
    },
    {
     "data": {
      "text/html": [
       "<strong style='color: #00008B;'>Response: Completion(id='deff666c007e4227b2f1e2c555c01429', choices=[CompletionChoice(finish_reason='length', index=0, logprobs=None, text=' 1. United States - Washington, D.C.\\n2. Canada - Ottawa\\n3. France - Paris\\n4. Germany - Berlin\\n5. Japan - Tokyo\\n6. Italy - Rome\\n7. Spain - Madrid\\n8. United Kingdom - London\\n9. Australia - Canberra\\n10. New', matched_stop=None)], created=1746377847, model='qwen/qwen2.5-0.5b-instruct', object='text_completion', system_fingerprint=None, usage=CompletionUsage(completion_tokens=64, prompt_tokens=8, total_tokens=72, completion_tokens_details=None, prompt_tokens_details=None))</strong>"
      ],
      "text/plain": [
       "<IPython.core.display.HTML object>"
      ]
     },
     "metadata": {},
     "output_type": "display_data"
    }
   ],
   "source": [
    "response = client.completions.create(\n",
    "    model=\"qwen/qwen2.5-0.5b-instruct\",\n",
    "    prompt=\"List 3 countries and their capitals.\",\n",
    "    temperature=0,\n",
    "    max_tokens=64,\n",
    "    n=1,\n",
    "    stop=None,\n",
    ")\n",
    "\n",
    "print_highlight(f\"Response: {response}\")"
   ]
  },
  {
   "cell_type": "markdown",
   "metadata": {},
   "source": [
    "### Parameters\n",
    "\n",
    "The completions API accepts OpenAI Completions API's parameters.  Refer to [OpenAI Completions API](https://platform.openai.com/docs/api-reference/completions/create) for more details.\n",
    "\n",
    "Here is an example of a detailed completions request:"
   ]
  },
  {
   "cell_type": "code",
   "execution_count": 6,
   "metadata": {
    "execution": {
     "iopub.execute_input": "2025-05-04T16:57:28.027941Z",
     "iopub.status.busy": "2025-05-04T16:57:28.027552Z",
     "iopub.status.idle": "2025-05-04T16:57:28.394183Z",
     "shell.execute_reply": "2025-05-04T16:57:28.393748Z"
    }
   },
   "outputs": [
    {
     "name": "stdout",
     "output_type": "stream",
     "text": [
      "[2025-05-04 16:57:28] Prefill batch. #new-seq: 1, #new-token: 9, #cached-token: 0, token usage: 0.00, #running-req: 0, #queue-req: 0\n"
     ]
    },
    {
     "data": {
      "text/html": [
       "<strong style='color: #00008B;'>Response: Completion(id='0036be265a3740ed9b711978a7a7347f', choices=[CompletionChoice(finish_reason='stop', index=0, logprobs=None, text=' Once upon a time, there was a young space explorer named Alex who had always been fascinated by the stars. He had always dreamed of exploring the universe and discovering new planets and galaxies.', matched_stop='\\n\\n')], created=1746377848, model='qwen/qwen2.5-0.5b-instruct', object='text_completion', system_fingerprint=None, usage=CompletionUsage(completion_tokens=37, prompt_tokens=9, total_tokens=46, completion_tokens_details=None, prompt_tokens_details=None))</strong>"
      ],
      "text/plain": [
       "<IPython.core.display.HTML object>"
      ]
     },
     "metadata": {},
     "output_type": "display_data"
    },
    {
     "name": "stdout",
     "output_type": "stream",
     "text": [
      "[2025-05-04 16:57:28] Decode batch. #running-req: 1, #token: 0, token usage: 0.00, gen throughput (token/s): 99.47, #queue-req: 0\n",
      "[2025-05-04 16:57:28] INFO:     127.0.0.1:60228 - \"POST /v1/completions HTTP/1.1\" 200 OK\n"
     ]
    }
   ],
   "source": [
    "response = client.completions.create(\n",
    "    model=\"qwen/qwen2.5-0.5b-instruct\",\n",
    "    prompt=\"Write a short story about a space explorer.\",\n",
    "    temperature=0.7,  # Moderate temperature for creative writing\n",
    "    max_tokens=150,  # Longer response for a story\n",
    "    top_p=0.9,  # Balanced diversity in word choice\n",
    "    stop=[\"\\n\\n\", \"THE END\"],  # Multiple stop sequences\n",
    "    presence_penalty=0.3,  # Encourage novel elements\n",
    "    frequency_penalty=0.3,  # Reduce repetitive phrases\n",
    "    n=1,  # Generate one completion\n",
    "    seed=123,  # For reproducible results\n",
    ")\n",
    "\n",
    "print_highlight(f\"Response: {response}\")"
   ]
  },
  {
   "cell_type": "markdown",
   "metadata": {},
   "source": [
    "## Structured Outputs (JSON, Regex, EBNF)\n",
    "\n",
    "For OpenAI compatible structed outputs API, refer to [Structured Outputs](https://docs.sglang.ai/backend/structured_outputs.html#OpenAI-Compatible-API) for more details.\n"
   ]
  },
  {
   "cell_type": "markdown",
   "metadata": {},
   "source": [
    "## Batches\n",
    "\n",
    "Batches API for chat completions and completions are also supported. You can upload your requests in `jsonl` files, create a batch job, and retrieve the results when the batch job is completed (which takes longer but costs less).\n",
    "\n",
    "The batches APIs are:\n",
    "\n",
    "- `batches`\n",
    "- `batches/{batch_id}/cancel`\n",
    "- `batches/{batch_id}`\n",
    "\n",
    "Here is an example of a batch job for chat completions, completions are similar.\n"
   ]
  },
  {
   "cell_type": "code",
   "execution_count": 7,
   "metadata": {
    "execution": {
     "iopub.execute_input": "2025-05-04T16:57:28.402139Z",
     "iopub.status.busy": "2025-05-04T16:57:28.401917Z",
     "iopub.status.idle": "2025-05-04T16:57:28.545592Z",
     "shell.execute_reply": "2025-05-04T16:57:28.543262Z"
    }
   },
   "outputs": [
    {
     "name": "stdout",
     "output_type": "stream",
     "text": [
      "[2025-05-04 16:57:28] INFO:     127.0.0.1:59254 - \"POST /v1/files HTTP/1.1\" 200 OK\n",
      "[2025-05-04 16:57:28] INFO:     127.0.0.1:59254 - \"POST /v1/batches HTTP/1.1\" 200 OK\n",
      "[2025-05-04 16:57:28] Prefill batch. #new-seq: 2, #new-token: 20, #cached-token: 48, token usage: 0.00, #running-req: 0, #queue-req: 0\n"
     ]
    },
    {
     "data": {
      "text/html": [
       "<strong style='color: #00008B;'>Batch job created with ID: batch_73cd5d09-cfb1-4c83-9d45-66f05624a4ac</strong>"
      ],
      "text/plain": [
       "<IPython.core.display.HTML object>"
      ]
     },
     "metadata": {},
     "output_type": "display_data"
    }
   ],
   "source": [
    "import json\n",
    "import time\n",
    "from openai import OpenAI\n",
    "\n",
    "client = OpenAI(base_url=f\"http://127.0.0.1:{port}/v1\", api_key=\"None\")\n",
    "\n",
    "requests = [\n",
    "    {\n",
    "        \"custom_id\": \"request-1\",\n",
    "        \"method\": \"POST\",\n",
    "        \"url\": \"/chat/completions\",\n",
    "        \"body\": {\n",
    "            \"model\": \"qwen/qwen2.5-0.5b-instruct\",\n",
    "            \"messages\": [\n",
    "                {\"role\": \"user\", \"content\": \"Tell me a joke about programming\"}\n",
    "            ],\n",
    "            \"max_tokens\": 50,\n",
    "        },\n",
    "    },\n",
    "    {\n",
    "        \"custom_id\": \"request-2\",\n",
    "        \"method\": \"POST\",\n",
    "        \"url\": \"/chat/completions\",\n",
    "        \"body\": {\n",
    "            \"model\": \"qwen/qwen2.5-0.5b-instruct\",\n",
    "            \"messages\": [{\"role\": \"user\", \"content\": \"What is Python?\"}],\n",
    "            \"max_tokens\": 50,\n",
    "        },\n",
    "    },\n",
    "]\n",
    "\n",
    "input_file_path = \"batch_requests.jsonl\"\n",
    "\n",
    "with open(input_file_path, \"w\") as f:\n",
    "    for req in requests:\n",
    "        f.write(json.dumps(req) + \"\\n\")\n",
    "\n",
    "with open(input_file_path, \"rb\") as f:\n",
    "    file_response = client.files.create(file=f, purpose=\"batch\")\n",
    "\n",
    "batch_response = client.batches.create(\n",
    "    input_file_id=file_response.id,\n",
    "    endpoint=\"/v1/chat/completions\",\n",
    "    completion_window=\"24h\",\n",
    ")\n",
    "\n",
    "print_highlight(f\"Batch job created with ID: {batch_response.id}\")"
   ]
  },
  {
   "cell_type": "code",
   "execution_count": 8,
   "metadata": {
    "execution": {
     "iopub.execute_input": "2025-05-04T16:57:28.549197Z",
     "iopub.status.busy": "2025-05-04T16:57:28.548870Z",
     "iopub.status.idle": "2025-05-04T16:57:31.571367Z",
     "shell.execute_reply": "2025-05-04T16:57:31.570737Z"
    }
   },
   "outputs": [
    {
     "name": "stdout",
     "output_type": "stream",
     "text": [
      "[2025-05-04 16:57:29] Decode batch. #running-req: 1, #token: 74, token usage: 0.00, gen throughput (token/s): 101.25, #queue-req: 0\n"
     ]
    },
    {
     "name": "stdout",
     "output_type": "stream",
     "text": [
      "Batch job status: validating...trying again in 3 seconds...\n",
      "[2025-05-04 16:57:31] INFO:     127.0.0.1:59254 - \"GET /v1/batches/batch_73cd5d09-cfb1-4c83-9d45-66f05624a4ac HTTP/1.1\" 200 OK\n",
      "Batch job completed successfully!\n",
      "Request counts: BatchRequestCounts(completed=2, failed=0, total=2)\n",
      "[2025-05-04 16:57:31] INFO:     127.0.0.1:59254 - \"GET /v1/files/backend_result_file-d567141f-0d9e-49d1-ac39-6d8d55bb9a54/content HTTP/1.1\" 200 OK\n"
     ]
    },
    {
     "data": {
      "text/html": [
       "<strong style='color: #00008B;'>Request request-1:</strong>"
      ],
      "text/plain": [
       "<IPython.core.display.HTML object>"
      ]
     },
     "metadata": {},
     "output_type": "display_data"
    },
    {
     "data": {
      "text/html": [
       "<strong style='color: #00008B;'>Response: {'status_code': 200, 'request_id': 'batch_73cd5d09-cfb1-4c83-9d45-66f05624a4ac-req_0', 'body': {'id': 'batch_73cd5d09-cfb1-4c83-9d45-66f05624a4ac-req_0', 'object': 'chat.completion', 'created': 1746377848, 'model': 'qwen/qwen2.5-0.5b-instruct', 'choices': {'index': 0, 'message': {'role': 'assistant', 'content': \"Here's a programming joke for you:\\n\\nWhy did the programmer go to jail?\\n\\nBecause he accidentally called the FBI! (I hope the irony isn't too strong)\", 'tool_calls': None, 'reasoning_content': None}, 'logprobs': None, 'finish_reason': 'stop', 'matched_stop': 151645}, 'usage': {'prompt_tokens': 35, 'completion_tokens': 34, 'total_tokens': 69}, 'system_fingerprint': None}}</strong>"
      ],
      "text/plain": [
       "<IPython.core.display.HTML object>"
      ]
     },
     "metadata": {},
     "output_type": "display_data"
    },
    {
     "data": {
      "text/html": [
       "<strong style='color: #00008B;'>Request request-2:</strong>"
      ],
      "text/plain": [
       "<IPython.core.display.HTML object>"
      ]
     },
     "metadata": {},
     "output_type": "display_data"
    },
    {
     "data": {
      "text/html": [
       "<strong style='color: #00008B;'>Response: {'status_code': 200, 'request_id': 'batch_73cd5d09-cfb1-4c83-9d45-66f05624a4ac-req_1', 'body': {'id': 'batch_73cd5d09-cfb1-4c83-9d45-66f05624a4ac-req_1', 'object': 'chat.completion', 'created': 1746377848, 'model': 'qwen/qwen2.5-0.5b-instruct', 'choices': {'index': 0, 'message': {'role': 'assistant', 'content': 'Python is a high-level, interpreted programming language created by Guido van Rossum. It is known for its readability and simplicity, which make it particularly popular for scripting and prototyping. Python is widely used for a wide range of applications, including web', 'tool_calls': None, 'reasoning_content': None}, 'logprobs': None, 'finish_reason': 'length', 'matched_stop': None}, 'usage': {'prompt_tokens': 33, 'completion_tokens': 50, 'total_tokens': 83}, 'system_fingerprint': None}}</strong>"
      ],
      "text/plain": [
       "<IPython.core.display.HTML object>"
      ]
     },
     "metadata": {},
     "output_type": "display_data"
    },
    {
     "data": {
      "text/html": [
       "<strong style='color: #00008B;'>Cleaning up files...</strong>"
      ],
      "text/plain": [
       "<IPython.core.display.HTML object>"
      ]
     },
     "metadata": {},
     "output_type": "display_data"
    },
    {
     "name": "stdout",
     "output_type": "stream",
     "text": [
      "[2025-05-04 16:57:31] INFO:     127.0.0.1:59254 - \"DELETE /v1/files/backend_result_file-d567141f-0d9e-49d1-ac39-6d8d55bb9a54 HTTP/1.1\" 200 OK\n"
     ]
    }
   ],
   "source": [
    "while batch_response.status not in [\"completed\", \"failed\", \"cancelled\"]:\n",
    "    time.sleep(3)\n",
    "    print(f\"Batch job status: {batch_response.status}...trying again in 3 seconds...\")\n",
    "    batch_response = client.batches.retrieve(batch_response.id)\n",
    "\n",
    "if batch_response.status == \"completed\":\n",
    "    print(\"Batch job completed successfully!\")\n",
    "    print(f\"Request counts: {batch_response.request_counts}\")\n",
    "\n",
    "    result_file_id = batch_response.output_file_id\n",
    "    file_response = client.files.content(result_file_id)\n",
    "    result_content = file_response.read().decode(\"utf-8\")\n",
    "\n",
    "    results = [\n",
    "        json.loads(line) for line in result_content.split(\"\\n\") if line.strip() != \"\"\n",
    "    ]\n",
    "\n",
    "    for result in results:\n",
    "        print_highlight(f\"Request {result['custom_id']}:\")\n",
    "        print_highlight(f\"Response: {result['response']}\")\n",
    "\n",
    "    print_highlight(\"Cleaning up files...\")\n",
    "    # Only delete the result file ID since file_response is just content\n",
    "    client.files.delete(result_file_id)\n",
    "else:\n",
    "    print_highlight(f\"Batch job failed with status: {batch_response.status}\")\n",
    "    if hasattr(batch_response, \"errors\"):\n",
    "        print_highlight(f\"Errors: {batch_response.errors}\")"
   ]
  },
  {
   "cell_type": "markdown",
   "metadata": {},
   "source": [
    "It takes a while to complete the batch job. You can use these two APIs to retrieve the batch job status or cancel the batch job.\n",
    "\n",
    "1. `batches/{batch_id}`: Retrieve the batch job status.\n",
    "2. `batches/{batch_id}/cancel`: Cancel the batch job.\n",
    "\n",
    "Here is an example to check the batch job status."
   ]
  },
  {
   "cell_type": "code",
   "execution_count": 9,
   "metadata": {
    "execution": {
     "iopub.execute_input": "2025-05-04T16:57:31.573224Z",
     "iopub.status.busy": "2025-05-04T16:57:31.572933Z",
     "iopub.status.idle": "2025-05-04T16:57:56.743461Z",
     "shell.execute_reply": "2025-05-04T16:57:56.742866Z"
    }
   },
   "outputs": [
    {
     "name": "stdout",
     "output_type": "stream",
     "text": [
      "[2025-05-04 16:57:31] INFO:     127.0.0.1:37648 - \"POST /v1/files HTTP/1.1\" 200 OK\n",
      "[2025-05-04 16:57:31] INFO:     127.0.0.1:37648 - \"POST /v1/batches HTTP/1.1\" 200 OK\n"
     ]
    },
    {
     "data": {
      "text/html": [
       "<strong style='color: #00008B;'>Created batch job with ID: batch_18cc62af-a8e0-4b32-816e-ca8beffb2be2</strong>"
      ],
      "text/plain": [
       "<IPython.core.display.HTML object>"
      ]
     },
     "metadata": {},
     "output_type": "display_data"
    },
    {
     "data": {
      "text/html": [
       "<strong style='color: #00008B;'>Initial status: validating</strong>"
      ],
      "text/plain": [
       "<IPython.core.display.HTML object>"
      ]
     },
     "metadata": {},
     "output_type": "display_data"
    },
    {
     "name": "stdout",
     "output_type": "stream",
     "text": [
      "[2025-05-04 16:57:31] Prefill batch. #new-seq: 9, #new-token: 270, #cached-token: 27, token usage: 0.00, #running-req: 0, #queue-req: 0\n",
      "[2025-05-04 16:57:31] Prefill batch. #new-seq: 11, #new-token: 340, #cached-token: 33, token usage: 0.01, #running-req: 9, #queue-req: 0\n"
     ]
    },
    {
     "name": "stdout",
     "output_type": "stream",
     "text": [
      "[2025-05-04 16:57:31] Decode batch. #running-req: 20, #token: 1223, token usage: 0.06, gen throughput (token/s): 211.61, #queue-req: 0\n"
     ]
    },
    {
     "name": "stdout",
     "output_type": "stream",
     "text": [
      "[2025-05-04 16:57:41] INFO:     127.0.0.1:35754 - \"GET /v1/batches/batch_18cc62af-a8e0-4b32-816e-ca8beffb2be2 HTTP/1.1\" 200 OK\n"
     ]
    },
    {
     "data": {
      "text/html": [
       "<strong style='color: #00008B;'>Batch job details (check 1 / 5) // ID: batch_18cc62af-a8e0-4b32-816e-ca8beffb2be2 // Status: completed // Created at: 1746377851 // Input file ID: backend_input_file-418121ee-06bd-4417-b7e6-dd62012174a0 // Output file ID: backend_result_file-679e5c41-25b1-4ed5-bbd5-d340adbd6dcd</strong>"
      ],
      "text/plain": [
       "<IPython.core.display.HTML object>"
      ]
     },
     "metadata": {},
     "output_type": "display_data"
    },
    {
     "data": {
      "text/html": [
       "<strong style='color: #00008B;'><strong>Request counts: Total: 20 // Completed: 20 // Failed: 0</strong></strong>"
      ],
      "text/plain": [
       "<IPython.core.display.HTML object>"
      ]
     },
     "metadata": {},
     "output_type": "display_data"
    },
    {
     "name": "stdout",
     "output_type": "stream",
     "text": [
      "[2025-05-04 16:57:44] INFO:     127.0.0.1:35754 - \"GET /v1/batches/batch_18cc62af-a8e0-4b32-816e-ca8beffb2be2 HTTP/1.1\" 200 OK\n"
     ]
    },
    {
     "data": {
      "text/html": [
       "<strong style='color: #00008B;'>Batch job details (check 2 / 5) // ID: batch_18cc62af-a8e0-4b32-816e-ca8beffb2be2 // Status: completed // Created at: 1746377851 // Input file ID: backend_input_file-418121ee-06bd-4417-b7e6-dd62012174a0 // Output file ID: backend_result_file-679e5c41-25b1-4ed5-bbd5-d340adbd6dcd</strong>"
      ],
      "text/plain": [
       "<IPython.core.display.HTML object>"
      ]
     },
     "metadata": {},
     "output_type": "display_data"
    },
    {
     "data": {
      "text/html": [
       "<strong style='color: #00008B;'><strong>Request counts: Total: 20 // Completed: 20 // Failed: 0</strong></strong>"
      ],
      "text/plain": [
       "<IPython.core.display.HTML object>"
      ]
     },
     "metadata": {},
     "output_type": "display_data"
    },
    {
     "name": "stdout",
     "output_type": "stream",
     "text": [
      "[2025-05-04 16:57:47] INFO:     127.0.0.1:35754 - \"GET /v1/batches/batch_18cc62af-a8e0-4b32-816e-ca8beffb2be2 HTTP/1.1\" 200 OK\n"
     ]
    },
    {
     "data": {
      "text/html": [
       "<strong style='color: #00008B;'>Batch job details (check 3 / 5) // ID: batch_18cc62af-a8e0-4b32-816e-ca8beffb2be2 // Status: completed // Created at: 1746377851 // Input file ID: backend_input_file-418121ee-06bd-4417-b7e6-dd62012174a0 // Output file ID: backend_result_file-679e5c41-25b1-4ed5-bbd5-d340adbd6dcd</strong>"
      ],
      "text/plain": [
       "<IPython.core.display.HTML object>"
      ]
     },
     "metadata": {},
     "output_type": "display_data"
    },
    {
     "data": {
      "text/html": [
       "<strong style='color: #00008B;'><strong>Request counts: Total: 20 // Completed: 20 // Failed: 0</strong></strong>"
      ],
      "text/plain": [
       "<IPython.core.display.HTML object>"
      ]
     },
     "metadata": {},
     "output_type": "display_data"
    },
    {
     "data": {
      "text/html": [
       "<strong style='color: #00008B;'>Batch job details (check 4 / 5) // ID: batch_18cc62af-a8e0-4b32-816e-ca8beffb2be2 // Status: completed // Created at: 1746377851 // Input file ID: backend_input_file-418121ee-06bd-4417-b7e6-dd62012174a0 // Output file ID: backend_result_file-679e5c41-25b1-4ed5-bbd5-d340adbd6dcd</strong>"
      ],
      "text/plain": [
       "<IPython.core.display.HTML object>"
      ]
     },
     "metadata": {},
     "output_type": "display_data"
    },
    {
     "data": {
      "text/html": [
       "<strong style='color: #00008B;'><strong>Request counts: Total: 20 // Completed: 20 // Failed: 0</strong></strong>"
      ],
      "text/plain": [
       "<IPython.core.display.HTML object>"
      ]
     },
     "metadata": {},
     "output_type": "display_data"
    },
    {
     "name": "stdout",
     "output_type": "stream",
     "text": [
      "[2025-05-04 16:57:50] INFO:     127.0.0.1:35754 - \"GET /v1/batches/batch_18cc62af-a8e0-4b32-816e-ca8beffb2be2 HTTP/1.1\" 200 OK\n"
     ]
    },
    {
     "name": "stdout",
     "output_type": "stream",
     "text": [
      "[2025-05-04 16:57:53] INFO:     127.0.0.1:35754 - \"GET /v1/batches/batch_18cc62af-a8e0-4b32-816e-ca8beffb2be2 HTTP/1.1\" 200 OK\n"
     ]
    },
    {
     "data": {
      "text/html": [
       "<strong style='color: #00008B;'>Batch job details (check 5 / 5) // ID: batch_18cc62af-a8e0-4b32-816e-ca8beffb2be2 // Status: completed // Created at: 1746377851 // Input file ID: backend_input_file-418121ee-06bd-4417-b7e6-dd62012174a0 // Output file ID: backend_result_file-679e5c41-25b1-4ed5-bbd5-d340adbd6dcd</strong>"
      ],
      "text/plain": [
       "<IPython.core.display.HTML object>"
      ]
     },
     "metadata": {},
     "output_type": "display_data"
    },
    {
     "data": {
      "text/html": [
       "<strong style='color: #00008B;'><strong>Request counts: Total: 20 // Completed: 20 // Failed: 0</strong></strong>"
      ],
      "text/plain": [
       "<IPython.core.display.HTML object>"
      ]
     },
     "metadata": {},
     "output_type": "display_data"
    }
   ],
   "source": [
    "import json\n",
    "import time\n",
    "from openai import OpenAI\n",
    "\n",
    "client = OpenAI(base_url=f\"http://127.0.0.1:{port}/v1\", api_key=\"None\")\n",
    "\n",
    "requests = []\n",
    "for i in range(20):\n",
    "    requests.append(\n",
    "        {\n",
    "            \"custom_id\": f\"request-{i}\",\n",
    "            \"method\": \"POST\",\n",
    "            \"url\": \"/chat/completions\",\n",
    "            \"body\": {\n",
    "                \"model\": \"qwen/qwen2.5-0.5b-instruct\",\n",
    "                \"messages\": [\n",
    "                    {\n",
    "                        \"role\": \"system\",\n",
    "                        \"content\": f\"{i}: You are a helpful AI assistant\",\n",
    "                    },\n",
    "                    {\n",
    "                        \"role\": \"user\",\n",
    "                        \"content\": \"Write a detailed story about topic. Make it very long.\",\n",
    "                    },\n",
    "                ],\n",
    "                \"max_tokens\": 64,\n",
    "            },\n",
    "        }\n",
    "    )\n",
    "\n",
    "input_file_path = \"batch_requests.jsonl\"\n",
    "with open(input_file_path, \"w\") as f:\n",
    "    for req in requests:\n",
    "        f.write(json.dumps(req) + \"\\n\")\n",
    "\n",
    "with open(input_file_path, \"rb\") as f:\n",
    "    uploaded_file = client.files.create(file=f, purpose=\"batch\")\n",
    "\n",
    "batch_job = client.batches.create(\n",
    "    input_file_id=uploaded_file.id,\n",
    "    endpoint=\"/v1/chat/completions\",\n",
    "    completion_window=\"24h\",\n",
    ")\n",
    "\n",
    "print_highlight(f\"Created batch job with ID: {batch_job.id}\")\n",
    "print_highlight(f\"Initial status: {batch_job.status}\")\n",
    "\n",
    "time.sleep(10)\n",
    "\n",
    "max_checks = 5\n",
    "for i in range(max_checks):\n",
    "    batch_details = client.batches.retrieve(batch_id=batch_job.id)\n",
    "\n",
    "    print_highlight(\n",
    "        f\"Batch job details (check {i+1} / {max_checks}) // ID: {batch_details.id} // Status: {batch_details.status} // Created at: {batch_details.created_at} // Input file ID: {batch_details.input_file_id} // Output file ID: {batch_details.output_file_id}\"\n",
    "    )\n",
    "    print_highlight(\n",
    "        f\"<strong>Request counts: Total: {batch_details.request_counts.total} // Completed: {batch_details.request_counts.completed} // Failed: {batch_details.request_counts.failed}</strong>\"\n",
    "    )\n",
    "\n",
    "    time.sleep(3)"
   ]
  },
  {
   "cell_type": "markdown",
   "metadata": {},
   "source": [
    "Here is an example to cancel a batch job."
   ]
  },
  {
   "cell_type": "code",
   "execution_count": 10,
   "metadata": {
    "execution": {
     "iopub.execute_input": "2025-05-04T16:57:56.746001Z",
     "iopub.status.busy": "2025-05-04T16:57:56.745763Z",
     "iopub.status.idle": "2025-05-04T16:58:09.986337Z",
     "shell.execute_reply": "2025-05-04T16:58:09.985628Z"
    }
   },
   "outputs": [
    {
     "name": "stdout",
     "output_type": "stream",
     "text": [
      "[2025-05-04 16:57:56] INFO:     127.0.0.1:44360 - \"POST /v1/files HTTP/1.1\" 200 OK\n",
      "[2025-05-04 16:57:56] INFO:     127.0.0.1:44360 - \"POST /v1/batches HTTP/1.1\" 200 OK\n"
     ]
    },
    {
     "data": {
      "text/html": [
       "<strong style='color: #00008B;'>Created batch job with ID: batch_bf35d6e0-bbce-4c06-a73f-c3466c938d70</strong>"
      ],
      "text/plain": [
       "<IPython.core.display.HTML object>"
      ]
     },
     "metadata": {},
     "output_type": "display_data"
    },
    {
     "data": {
      "text/html": [
       "<strong style='color: #00008B;'>Initial status: validating</strong>"
      ],
      "text/plain": [
       "<IPython.core.display.HTML object>"
      ]
     },
     "metadata": {},
     "output_type": "display_data"
    },
    {
     "name": "stdout",
     "output_type": "stream",
     "text": [
      "[2025-05-04 16:57:58] Prefill batch. #new-seq: 30, #new-token: 320, #cached-token: 690, token usage: 0.03, #running-req: 0, #queue-req: 0\n",
      "[2025-05-04 16:57:58] Prefill batch. #new-seq: 106, #new-token: 3180, #cached-token: 460, token usage: 0.04, #running-req: 30, #queue-req: 564\n"
     ]
    },
    {
     "name": "stdout",
     "output_type": "stream",
     "text": [
      "[2025-05-04 16:57:58] Decode batch. #running-req: 136, #token: 5035, token usage: 0.25, gen throughput (token/s): 55.56, #queue-req: 4864\n",
      "[2025-05-04 16:57:58] Prefill batch. #new-seq: 26, #new-token: 780, #cached-token: 130, token usage: 0.28, #running-req: 134, #queue-req: 4838\n",
      "[2025-05-04 16:57:58] Prefill batch. #new-seq: 6, #new-token: 180, #cached-token: 30, token usage: 0.37, #running-req: 159, #queue-req: 4832\n"
     ]
    },
    {
     "name": "stdout",
     "output_type": "stream",
     "text": [
      "[2025-05-04 16:57:58] Prefill batch. #new-seq: 1, #new-token: 30, #cached-token: 5, token usage: 0.43, #running-req: 164, #queue-req: 4831\n"
     ]
    },
    {
     "name": "stdout",
     "output_type": "stream",
     "text": [
      "[2025-05-04 16:57:58] Decode batch. #running-req: 161, #token: 11932, token usage: 0.58, gen throughput (token/s): 14186.66, #queue-req: 4831\n"
     ]
    },
    {
     "name": "stdout",
     "output_type": "stream",
     "text": [
      "[2025-05-04 16:57:59] Decode batch. #running-req: 157, #token: 17904, token usage: 0.87, gen throughput (token/s): 16663.86, #queue-req: 4831\n",
      "[2025-05-04 16:57:59] Decode out of memory happened. #retracted_reqs: 23, #new_token_ratio: 0.5967 -> 0.9541\n"
     ]
    },
    {
     "name": "stdout",
     "output_type": "stream",
     "text": [
      "[2025-05-04 16:57:59] Decode out of memory happened. #retracted_reqs: 16, #new_token_ratio: 0.9351 -> 1.0000\n",
      "[2025-05-04 16:57:59] Prefill batch. #new-seq: 11, #new-token: 330, #cached-token: 55, token usage: 0.89, #running-req: 118, #queue-req: 4859\n",
      "[2025-05-04 16:57:59] Decode batch. #running-req: 129, #token: 18895, token usage: 0.92, gen throughput (token/s): 14284.48, #queue-req: 4859\n",
      "[2025-05-04 16:57:59] Prefill batch. #new-seq: 118, #new-token: 3540, #cached-token: 590, token usage: 0.02, #running-req: 11, #queue-req: 4741\n"
     ]
    },
    {
     "name": "stdout",
     "output_type": "stream",
     "text": [
      "[2025-05-04 16:57:59] Prefill batch. #new-seq: 3, #new-token: 90, #cached-token: 15, token usage: 0.26, #running-req: 128, #queue-req: 4738\n",
      "[2025-05-04 16:57:59] Prefill batch. #new-seq: 1, #new-token: 30, #cached-token: 5, token usage: 0.27, #running-req: 130, #queue-req: 4737\n"
     ]
    },
    {
     "name": "stdout",
     "output_type": "stream",
     "text": [
      "[2025-05-04 16:58:00] Prefill batch. #new-seq: 2, #new-token: 60, #cached-token: 10, token usage: 0.42, #running-req: 130, #queue-req: 4735\n",
      "[2025-05-04 16:58:00] Decode batch. #running-req: 132, #token: 8931, token usage: 0.44, gen throughput (token/s): 10903.32, #queue-req: 4735\n",
      "[2025-05-04 16:58:00] Prefill batch. #new-seq: 1, #new-token: 30, #cached-token: 5, token usage: 0.48, #running-req: 131, #queue-req: 4734\n"
     ]
    },
    {
     "name": "stdout",
     "output_type": "stream",
     "text": [
      "[2025-05-04 16:58:00] Prefill batch. #new-seq: 2, #new-token: 60, #cached-token: 10, token usage: 0.56, #running-req: 131, #queue-req: 4732\n",
      "[2025-05-04 16:58:00] Prefill batch. #new-seq: 1, #new-token: 30, #cached-token: 5, token usage: 0.62, #running-req: 132, #queue-req: 4731\n"
     ]
    },
    {
     "name": "stdout",
     "output_type": "stream",
     "text": [
      "[2025-05-04 16:58:00] Decode batch. #running-req: 133, #token: 14102, token usage: 0.69, gen throughput (token/s): 12637.36, #queue-req: 4731\n"
     ]
    },
    {
     "name": "stdout",
     "output_type": "stream",
     "text": [
      "[2025-05-04 16:58:00] Decode batch. #running-req: 131, #token: 19138, token usage: 0.93, gen throughput (token/s): 13914.71, #queue-req: 4731\n",
      "[2025-05-04 16:58:00] Prefill batch. #new-seq: 10, #new-token: 308, #cached-token: 42, token usage: 0.89, #running-req: 120, #queue-req: 4721\n",
      "[2025-05-04 16:58:00] Prefill batch. #new-seq: 112, #new-token: 3500, #cached-token: 420, token usage: 0.06, #running-req: 18, #queue-req: 4609\n"
     ]
    },
    {
     "name": "stdout",
     "output_type": "stream",
     "text": [
      "[2025-05-04 16:58:01] Prefill batch. #new-seq: 13, #new-token: 403, #cached-token: 52, token usage: 0.28, #running-req: 129, #queue-req: 4596\n",
      "[2025-05-04 16:58:01] Prefill batch. #new-seq: 4, #new-token: 120, #cached-token: 20, token usage: 0.30, #running-req: 141, #queue-req: 4592\n",
      "[2025-05-04 16:58:01] Prefill batch. #new-seq: 3, #new-token: 90, #cached-token: 15, token usage: 0.31, #running-req: 141, #queue-req: 4589\n",
      "[2025-05-04 16:58:01] Prefill batch. #new-seq: 1, #new-token: 31, #cached-token: 4, token usage: 0.37, #running-req: 143, #queue-req: 4588\n"
     ]
    },
    {
     "name": "stdout",
     "output_type": "stream",
     "text": [
      "[2025-05-04 16:58:01] Prefill batch. #new-seq: 1, #new-token: 30, #cached-token: 5, token usage: 0.41, #running-req: 143, #queue-req: 4587\n",
      "[2025-05-04 16:58:01] Decode batch. #running-req: 144, #token: 8788, token usage: 0.43, gen throughput (token/s): 10800.90, #queue-req: 4587\n",
      "[2025-05-04 16:58:01] Prefill batch. #new-seq: 2, #new-token: 60, #cached-token: 10, token usage: 0.46, #running-req: 141, #queue-req: 4585\n"
     ]
    },
    {
     "name": "stdout",
     "output_type": "stream",
     "text": [
      "[2025-05-04 16:58:01] Prefill batch. #new-seq: 1, #new-token: 30, #cached-token: 5, token usage: 0.53, #running-req: 141, #queue-req: 4584\n",
      "[2025-05-04 16:58:01] Prefill batch. #new-seq: 1, #new-token: 30, #cached-token: 5, token usage: 0.59, #running-req: 140, #queue-req: 4583\n",
      "[2025-05-04 16:58:01] Prefill batch. #new-seq: 1, #new-token: 30, #cached-token: 5, token usage: 0.61, #running-req: 140, #queue-req: 4582\n",
      "[2025-05-04 16:58:01] Prefill batch. #new-seq: 1, #new-token: 30, #cached-token: 5, token usage: 0.63, #running-req: 140, #queue-req: 4581\n"
     ]
    },
    {
     "name": "stdout",
     "output_type": "stream",
     "text": [
      "[2025-05-04 16:58:01] Decode batch. #running-req: 140, #token: 13397, token usage: 0.65, gen throughput (token/s): 12990.12, #queue-req: 4581\n",
      "[2025-05-04 16:58:01] Prefill batch. #new-seq: 1, #new-token: 30, #cached-token: 5, token usage: 0.66, #running-req: 139, #queue-req: 4580\n"
     ]
    },
    {
     "name": "stdout",
     "output_type": "stream",
     "text": [
      "[2025-05-04 16:58:02] Decode batch. #running-req: 139, #token: 18787, token usage: 0.92, gen throughput (token/s): 13615.42, #queue-req: 4580\n",
      "[2025-05-04 16:58:02] Decode out of memory happened. #retracted_reqs: 20, #new_token_ratio: 0.7441 -> 1.0000\n",
      "[2025-05-04 16:58:02] Prefill batch. #new-seq: 10, #new-token: 310, #cached-token: 40, token usage: 0.88, #running-req: 119, #queue-req: 4590\n",
      "[2025-05-04 16:58:02] Prefill batch. #new-seq: 7, #new-token: 216, #cached-token: 29, token usage: 0.85, #running-req: 122, #queue-req: 4583\n"
     ]
    },
    {
     "name": "stdout",
     "output_type": "stream",
     "text": [
      "[2025-05-04 16:58:02] Prefill batch. #new-seq: 104, #new-token: 3300, #cached-token: 340, token usage: 0.08, #running-req: 24, #queue-req: 4479\n",
      "[2025-05-04 16:58:02] Prefill batch. #new-seq: 9, #new-token: 279, #cached-token: 36, token usage: 0.23, #running-req: 121, #queue-req: 4470\n",
      "[2025-05-04 16:58:02] Prefill batch. #new-seq: 3, #new-token: 92, #cached-token: 13, token usage: 0.27, #running-req: 128, #queue-req: 4467\n"
     ]
    },
    {
     "name": "stdout",
     "output_type": "stream",
     "text": [
      "[2025-05-04 16:58:02] Decode batch. #running-req: 131, #token: 6571, token usage: 0.32, gen throughput (token/s): 10790.45, #queue-req: 4467\n",
      "[2025-05-04 16:58:02] Prefill batch. #new-seq: 2, #new-token: 60, #cached-token: 10, token usage: 0.38, #running-req: 130, #queue-req: 4465\n"
     ]
    },
    {
     "name": "stdout",
     "output_type": "stream",
     "text": [
      "[2025-05-04 16:58:02] Prefill batch. #new-seq: 1, #new-token: 30, #cached-token: 5, token usage: 0.45, #running-req: 131, #queue-req: 4464\n",
      "[2025-05-04 16:58:02] Prefill batch. #new-seq: 3, #new-token: 90, #cached-token: 15, token usage: 0.45, #running-req: 130, #queue-req: 4461\n",
      "[2025-05-04 16:58:03] Prefill batch. #new-seq: 1, #new-token: 30, #cached-token: 5, token usage: 0.55, #running-req: 132, #queue-req: 4460\n"
     ]
    },
    {
     "name": "stdout",
     "output_type": "stream",
     "text": [
      "[2025-05-04 16:58:03] Decode batch. #running-req: 133, #token: 11702, token usage: 0.57, gen throughput (token/s): 12790.10, #queue-req: 4460\n",
      "[2025-05-04 16:58:03] Prefill batch. #new-seq: 1, #new-token: 30, #cached-token: 5, token usage: 0.61, #running-req: 132, #queue-req: 4459\n"
     ]
    },
    {
     "name": "stdout",
     "output_type": "stream",
     "text": [
      "[2025-05-04 16:58:03] Decode batch. #running-req: 132, #token: 16868, token usage: 0.82, gen throughput (token/s): 13916.80, #queue-req: 4459\n"
     ]
    },
    {
     "name": "stdout",
     "output_type": "stream",
     "text": [
      "[2025-05-04 16:58:03] Prefill batch. #new-seq: 14, #new-token: 448, #cached-token: 42, token usage: 0.84, #running-req: 123, #queue-req: 4445\n",
      "[2025-05-04 16:58:03] Prefill batch. #new-seq: 1, #new-token: 30, #cached-token: 5, token usage: 0.87, #running-req: 130, #queue-req: 4444\n",
      "[2025-05-04 16:58:03] Prefill batch. #new-seq: 96, #new-token: 2982, #cached-token: 378, token usage: 0.15, #running-req: 34, #queue-req: 4348\n"
     ]
    },
    {
     "name": "stdout",
     "output_type": "stream",
     "text": [
      "[2025-05-04 16:58:03] Prefill batch. #new-seq: 20, #new-token: 611, #cached-token: 89, token usage: 0.28, #running-req: 121, #queue-req: 4328\n",
      "[2025-05-04 16:58:03] Decode batch. #running-req: 141, #token: 6692, token usage: 0.33, gen throughput (token/s): 11502.78, #queue-req: 4328\n",
      "[2025-05-04 16:58:03] Prefill batch. #new-seq: 5, #new-token: 150, #cached-token: 25, token usage: 0.32, #running-req: 138, #queue-req: 4323\n"
     ]
    },
    {
     "name": "stdout",
     "output_type": "stream",
     "text": [
      "[2025-05-04 16:58:04] Prefill batch. #new-seq: 2, #new-token: 60, #cached-token: 10, token usage: 0.42, #running-req: 141, #queue-req: 4321\n",
      "[2025-05-04 16:58:04] Prefill batch. #new-seq: 2, #new-token: 60, #cached-token: 10, token usage: 0.49, #running-req: 142, #queue-req: 4319\n",
      "[2025-05-04 16:58:04] Prefill batch. #new-seq: 3, #new-token: 93, #cached-token: 12, token usage: 0.48, #running-req: 140, #queue-req: 4316\n"
     ]
    },
    {
     "name": "stdout",
     "output_type": "stream",
     "text": [
      "[2025-05-04 16:58:04] Decode batch. #running-req: 143, #token: 11359, token usage: 0.55, gen throughput (token/s): 13501.66, #queue-req: 4316\n",
      "[2025-05-04 16:58:04] Prefill batch. #new-seq: 1, #new-token: 30, #cached-token: 5, token usage: 0.64, #running-req: 140, #queue-req: 4315\n"
     ]
    },
    {
     "name": "stdout",
     "output_type": "stream",
     "text": [
      "[2025-05-04 16:58:04] Decode batch. #running-req: 141, #token: 16634, token usage: 0.81, gen throughput (token/s): 14196.80, #queue-req: 4315\n"
     ]
    },
    {
     "name": "stdout",
     "output_type": "stream",
     "text": [
      "[2025-05-04 16:58:04] Decode out of memory happened. #retracted_reqs: 20, #new_token_ratio: 0.7452 -> 1.0000\n",
      "[2025-05-04 16:58:05] Prefill batch. #new-seq: 8, #new-token: 248, #cached-token: 32, token usage: 0.88, #running-req: 121, #queue-req: 4327\n",
      "[2025-05-04 16:58:05] Prefill batch. #new-seq: 14, #new-token: 426, #cached-token: 64, token usage: 0.80, #running-req: 116, #queue-req: 4313\n",
      "[2025-05-04 16:58:05] Prefill batch. #new-seq: 94, #new-token: 2970, #cached-token: 320, token usage: 0.13, #running-req: 34, #queue-req: 4219\n",
      "[2025-05-04 16:58:05] Decode batch. #running-req: 128, #token: 5745, token usage: 0.28, gen throughput (token/s): 12351.80, #queue-req: 4219\n"
     ]
    },
    {
     "name": "stdout",
     "output_type": "stream",
     "text": [
      "[2025-05-04 16:58:05] Prefill batch. #new-seq: 14, #new-token: 434, #cached-token: 56, token usage: 0.22, #running-req: 116, #queue-req: 4205\n",
      "[2025-05-04 16:58:05] Prefill batch. #new-seq: 3, #new-token: 90, #cached-token: 15, token usage: 0.36, #running-req: 129, #queue-req: 4202\n"
     ]
    },
    {
     "name": "stdout",
     "output_type": "stream",
     "text": [
      "[2025-05-04 16:58:05] Prefill batch. #new-seq: 2, #new-token: 60, #cached-token: 10, token usage: 0.40, #running-req: 131, #queue-req: 4200\n",
      "[2025-05-04 16:58:05] Prefill batch. #new-seq: 2, #new-token: 61, #cached-token: 9, token usage: 0.42, #running-req: 131, #queue-req: 4198\n",
      "[2025-05-04 16:58:05] Decode batch. #running-req: 133, #token: 9436, token usage: 0.46, gen throughput (token/s): 11963.74, #queue-req: 4198\n",
      "[2025-05-04 16:58:05] Prefill batch. #new-seq: 1, #new-token: 30, #cached-token: 5, token usage: 0.50, #running-req: 132, #queue-req: 4197\n",
      "[2025-05-04 16:58:05] Prefill batch. #new-seq: 1, #new-token: 30, #cached-token: 5, token usage: 0.51, #running-req: 132, #queue-req: 4196\n"
     ]
    },
    {
     "name": "stdout",
     "output_type": "stream",
     "text": [
      "[2025-05-04 16:58:05] Prefill batch. #new-seq: 1, #new-token: 30, #cached-token: 5, token usage: 0.54, #running-req: 132, #queue-req: 4195\n"
     ]
    },
    {
     "name": "stdout",
     "output_type": "stream",
     "text": [
      "[2025-05-04 16:58:06] Decode batch. #running-req: 133, #token: 14638, token usage: 0.71, gen throughput (token/s): 13140.18, #queue-req: 4195\n"
     ]
    },
    {
     "name": "stdout",
     "output_type": "stream",
     "text": [
      "[2025-05-04 16:58:06] Prefill batch. #new-seq: 4, #new-token: 120, #cached-token: 20, token usage: 0.90, #running-req: 126, #queue-req: 4191\n",
      "[2025-05-04 16:58:06] Decode batch. #running-req: 130, #token: 16728, token usage: 0.82, gen throughput (token/s): 13776.32, #queue-req: 4191\n",
      "[2025-05-04 16:58:06] Prefill batch. #new-seq: 14, #new-token: 434, #cached-token: 56, token usage: 0.82, #running-req: 116, #queue-req: 4177\n",
      "[2025-05-04 16:58:06] Prefill batch. #new-seq: 90, #new-token: 2782, #cached-token: 368, token usage: 0.19, #running-req: 41, #queue-req: 4087\n"
     ]
    },
    {
     "name": "stdout",
     "output_type": "stream",
     "text": [
      "[2025-05-04 16:58:06] Prefill batch. #new-seq: 11, #new-token: 339, #cached-token: 49, token usage: 0.36, #running-req: 130, #queue-req: 4076\n",
      "[2025-05-04 16:58:06] Prefill batch. #new-seq: 15, #new-token: 458, #cached-token: 82, token usage: 0.27, #running-req: 127, #queue-req: 4061\n"
     ]
    },
    {
     "name": "stdout",
     "output_type": "stream",
     "text": [
      "[2025-05-04 16:58:06] Prefill batch. #new-seq: 4, #new-token: 122, #cached-token: 22, token usage: 0.40, #running-req: 139, #queue-req: 4057\n",
      "[2025-05-04 16:58:06] Decode batch. #running-req: 143, #token: 9088, token usage: 0.44, gen throughput (token/s): 11397.59, #queue-req: 4057\n",
      "[2025-05-04 16:58:06] Prefill batch. #new-seq: 2, #new-token: 60, #cached-token: 12, token usage: 0.44, #running-req: 141, #queue-req: 4055\n",
      "[2025-05-04 16:58:06] Prefill batch. #new-seq: 1, #new-token: 30, #cached-token: 6, token usage: 0.46, #running-req: 142, #queue-req: 4054\n",
      "[2025-05-04 16:58:06] INFO:     127.0.0.1:47164 - \"POST /v1/batches/batch_bf35d6e0-bbce-4c06-a73f-c3466c938d70/cancel HTTP/1.1\" 200 OK\n"
     ]
    },
    {
     "data": {
      "text/html": [
       "<strong style='color: #00008B;'>Cancellation initiated. Status: cancelling</strong>"
      ],
      "text/plain": [
       "<IPython.core.display.HTML object>"
      ]
     },
     "metadata": {},
     "output_type": "display_data"
    },
    {
     "name": "stdout",
     "output_type": "stream",
     "text": [
      "[2025-05-04 16:58:06] Prefill batch. #new-seq: 1, #new-token: 30, #cached-token: 6, token usage: 0.48, #running-req: 142, #queue-req: 4053\n"
     ]
    },
    {
     "name": "stdout",
     "output_type": "stream",
     "text": [
      "[2025-05-04 16:58:07] Prefill batch. #new-seq: 1, #new-token: 108, #cached-token: 4, token usage: 0.48, #running-req: 141, #queue-req: 58\n",
      "[2025-05-04 16:58:07] Prefill batch. #new-seq: 58, #new-token: 7485, #cached-token: 220, token usage: 0.01, #running-req: 2, #queue-req: 0\n"
     ]
    },
    {
     "name": "stdout",
     "output_type": "stream",
     "text": [
      "[2025-05-04 16:58:07] Decode batch. #running-req: 32, #token: 4581, token usage: 0.22, gen throughput (token/s): 4233.66, #queue-req: 0\n"
     ]
    },
    {
     "name": "stdout",
     "output_type": "stream",
     "text": [
      "[2025-05-04 16:58:07] Decode batch. #running-req: 3, #token: 264, token usage: 0.01, gen throughput (token/s): 1293.92, #queue-req: 0\n"
     ]
    },
    {
     "name": "stdout",
     "output_type": "stream",
     "text": [
      "[2025-05-04 16:58:08] Decode batch. #running-req: 1, #token: 150, token usage: 0.01, gen throughput (token/s): 143.46, #queue-req: 0\n"
     ]
    },
    {
     "name": "stdout",
     "output_type": "stream",
     "text": [
      "[2025-05-04 16:58:09] INFO:     127.0.0.1:47164 - \"GET /v1/batches/batch_bf35d6e0-bbce-4c06-a73f-c3466c938d70 HTTP/1.1\" 200 OK\n"
     ]
    },
    {
     "data": {
      "text/html": [
       "<strong style='color: #00008B;'>Current status: cancelled</strong>"
      ],
      "text/plain": [
       "<IPython.core.display.HTML object>"
      ]
     },
     "metadata": {},
     "output_type": "display_data"
    },
    {
     "data": {
      "text/html": [
       "<strong style='color: #00008B;'>Batch job successfully cancelled</strong>"
      ],
      "text/plain": [
       "<IPython.core.display.HTML object>"
      ]
     },
     "metadata": {},
     "output_type": "display_data"
    },
    {
     "name": "stdout",
     "output_type": "stream",
     "text": [
      "[2025-05-04 16:58:09] INFO:     127.0.0.1:47164 - \"DELETE /v1/files/backend_input_file-a167095d-922c-45f3-9324-9aec11d6ec7b HTTP/1.1\" 200 OK\n"
     ]
    },
    {
     "data": {
      "text/html": [
       "<strong style='color: #00008B;'>Successfully cleaned up input file</strong>"
      ],
      "text/plain": [
       "<IPython.core.display.HTML object>"
      ]
     },
     "metadata": {},
     "output_type": "display_data"
    },
    {
     "data": {
      "text/html": [
       "<strong style='color: #00008B;'>Successfully deleted local batch_requests.jsonl file</strong>"
      ],
      "text/plain": [
       "<IPython.core.display.HTML object>"
      ]
     },
     "metadata": {},
     "output_type": "display_data"
    }
   ],
   "source": [
    "import json\n",
    "import time\n",
    "from openai import OpenAI\n",
    "import os\n",
    "\n",
    "client = OpenAI(base_url=f\"http://127.0.0.1:{port}/v1\", api_key=\"None\")\n",
    "\n",
    "requests = []\n",
    "for i in range(5000):\n",
    "    requests.append(\n",
    "        {\n",
    "            \"custom_id\": f\"request-{i}\",\n",
    "            \"method\": \"POST\",\n",
    "            \"url\": \"/chat/completions\",\n",
    "            \"body\": {\n",
    "                \"model\": \"qwen/qwen2.5-0.5b-instruct\",\n",
    "                \"messages\": [\n",
    "                    {\n",
    "                        \"role\": \"system\",\n",
    "                        \"content\": f\"{i}: You are a helpful AI assistant\",\n",
    "                    },\n",
    "                    {\n",
    "                        \"role\": \"user\",\n",
    "                        \"content\": \"Write a detailed story about topic. Make it very long.\",\n",
    "                    },\n",
    "                ],\n",
    "                \"max_tokens\": 128,\n",
    "            },\n",
    "        }\n",
    "    )\n",
    "\n",
    "input_file_path = \"batch_requests.jsonl\"\n",
    "with open(input_file_path, \"w\") as f:\n",
    "    for req in requests:\n",
    "        f.write(json.dumps(req) + \"\\n\")\n",
    "\n",
    "with open(input_file_path, \"rb\") as f:\n",
    "    uploaded_file = client.files.create(file=f, purpose=\"batch\")\n",
    "\n",
    "batch_job = client.batches.create(\n",
    "    input_file_id=uploaded_file.id,\n",
    "    endpoint=\"/v1/chat/completions\",\n",
    "    completion_window=\"24h\",\n",
    ")\n",
    "\n",
    "print_highlight(f\"Created batch job with ID: {batch_job.id}\")\n",
    "print_highlight(f\"Initial status: {batch_job.status}\")\n",
    "\n",
    "time.sleep(10)\n",
    "\n",
    "try:\n",
    "    cancelled_job = client.batches.cancel(batch_id=batch_job.id)\n",
    "    print_highlight(f\"Cancellation initiated. Status: {cancelled_job.status}\")\n",
    "    assert cancelled_job.status == \"cancelling\"\n",
    "\n",
    "    # Monitor the cancellation process\n",
    "    while cancelled_job.status not in [\"failed\", \"cancelled\"]:\n",
    "        time.sleep(3)\n",
    "        cancelled_job = client.batches.retrieve(batch_job.id)\n",
    "        print_highlight(f\"Current status: {cancelled_job.status}\")\n",
    "\n",
    "    # Verify final status\n",
    "    assert cancelled_job.status == \"cancelled\"\n",
    "    print_highlight(\"Batch job successfully cancelled\")\n",
    "\n",
    "except Exception as e:\n",
    "    print_highlight(f\"Error during cancellation: {e}\")\n",
    "    raise e\n",
    "\n",
    "finally:\n",
    "    try:\n",
    "        del_response = client.files.delete(uploaded_file.id)\n",
    "        if del_response.deleted:\n",
    "            print_highlight(\"Successfully cleaned up input file\")\n",
    "        if os.path.exists(input_file_path):\n",
    "            os.remove(input_file_path)\n",
    "            print_highlight(\"Successfully deleted local batch_requests.jsonl file\")\n",
    "    except Exception as e:\n",
    "        print_highlight(f\"Error cleaning up: {e}\")\n",
    "        raise e"
   ]
  },
  {
   "cell_type": "code",
   "execution_count": 11,
   "metadata": {
    "execution": {
     "iopub.execute_input": "2025-05-04T16:58:09.988128Z",
     "iopub.status.busy": "2025-05-04T16:58:09.987908Z",
     "iopub.status.idle": "2025-05-04T16:58:10.040756Z",
     "shell.execute_reply": "2025-05-04T16:58:10.040159Z"
    }
   },
   "outputs": [
    {
     "name": "stdout",
     "output_type": "stream",
     "text": [
      "[2025-05-04 16:58:09] Child process unexpectedly failed with an exit code 9. pid=2640830\n",
      "[2025-05-04 16:58:10] Child process unexpectedly failed with an exit code 9. pid=2640758\n"
     ]
    }
   ],
   "source": [
    "terminate_process(server_process)"
   ]
  }
 ],
 "metadata": {
  "language_info": {
   "codemirror_mode": {
    "name": "ipython",
    "version": 3
   },
   "file_extension": ".py",
   "mimetype": "text/x-python",
   "name": "python",
   "nbconvert_exporter": "python",
   "pygments_lexer": "ipython3",
   "version": "3.9.21"
  }
 },
 "nbformat": 4,
 "nbformat_minor": 2
}
