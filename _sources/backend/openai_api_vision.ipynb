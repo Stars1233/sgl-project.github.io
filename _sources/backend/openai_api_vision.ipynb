{
 "cells": [
  {
   "cell_type": "markdown",
   "metadata": {},
   "source": [
    "# OpenAI APIs - Vision\n",
    "\n",
    "SGLang provides OpenAI-compatible APIs to enable a smooth transition from OpenAI services to self-hosted local models.\n",
    "A complete reference for the API is available in the [OpenAI API Reference](https://platform.openai.com/docs/guides/vision).\n",
    "This tutorial covers the vision APIs for vision language models.\n",
    "\n",
    "SGLang supports various vision language models such as Llama 3.2, LLaVA-OneVision, Qwen2.5-VL, Gemma3 and [more](https://docs.sglang.ai/references/supported_models): \n",
    "- [meta-llama/Llama-3.2-11B-Vision-Instruct](https://huggingface.co/meta-llama/Llama-3.2-11B-Vision-Instruct)  \n",
    "- [lmms-lab/llava-onevision-qwen2-72b-ov-chat](https://huggingface.co/lmms-lab/llava-onevision-qwen2-72b-ov-chat)  \n",
    "- [Qwen/Qwen2.5-VL-7B-Instruct](https://huggingface.co/Qwen/Qwen2.5-VL-7B-Instruct)\n",
    "- [google/gemma-3-4b-it](https://huggingface.co/google/gemma-3-4b-it)\n",
    "- [openbmb/MiniCPM-V](https://huggingface.co/openbmb/MiniCPM-V)\n",
    "- [deepseek-ai/deepseek-vl2](https://huggingface.co/deepseek-ai/deepseek-vl2)\n",
    "\n",
    "As an alternative to the OpenAI API, you can also use the [SGLang offline engine](https://github.com/sgl-project/sglang/blob/main/examples/runtime/engine/offline_batch_inference_vlm.py)."
   ]
  },
  {
   "cell_type": "markdown",
   "metadata": {},
   "source": [
    "## Launch A Server\n",
    "\n",
    "Launch the server in your terminal and wait for it to initialize.\n",
    "\n",
    "**Remember to add** `--chat-template llama_3_vision` **to specify the [vision chat template](https://docs.sglang.ai/backend/openai_api_vision.html#Chat-Template), otherwise, the server will only support text (images won’t be passed in), which can lead to degraded performance.**\n",
    "\n",
    "We need to specify `--chat-template` for vision language models because the chat template provided in Hugging Face tokenizer only supports text."
   ]
  },
  {
   "cell_type": "code",
   "execution_count": 1,
   "metadata": {
    "execution": {
     "iopub.execute_input": "2025-03-31T07:11:03.175813Z",
     "iopub.status.busy": "2025-03-31T07:11:03.175600Z",
     "iopub.status.idle": "2025-03-31T07:11:46.339600Z",
     "shell.execute_reply": "2025-03-31T07:11:46.339084Z"
    }
   },
   "outputs": [
    {
     "name": "stdout",
     "output_type": "stream",
     "text": [
      "[2025-03-31 07:11:19] server_args=ServerArgs(model_path='meta-llama/Llama-3.2-11B-Vision-Instruct', tokenizer_path='meta-llama/Llama-3.2-11B-Vision-Instruct', tokenizer_mode='auto', skip_tokenizer_init=False, load_format='auto', trust_remote_code=False, dtype='auto', kv_cache_dtype='auto', quantization=None, quantization_param_path=None, context_length=None, device='cuda', served_model_name='meta-llama/Llama-3.2-11B-Vision-Instruct', chat_template='llama_3_vision', completion_template=None, is_embedding=False, revision=None, host='127.0.0.1', port=39606, mem_fraction_static=0.88, max_running_requests=200, max_total_tokens=20480, chunked_prefill_size=8192, max_prefill_tokens=16384, schedule_policy='fcfs', schedule_conservativeness=1.0, cpu_offload_gb=0, page_size=1, tp_size=1, stream_interval=1, stream_output=False, random_seed=469085838, constrained_json_whitespace_pattern=None, watchdog_timeout=300, dist_timeout=None, download_dir=None, base_gpu_id=0, gpu_id_step=1, log_level='info', log_level_http=None, log_requests=False, log_requests_level=0, show_time_cost=False, enable_metrics=False, decode_log_interval=40, api_key=None, file_storage_path='sglang_storage', enable_cache_report=False, reasoning_parser=None, dp_size=1, load_balance_method='round_robin', ep_size=1, dist_init_addr=None, nnodes=1, node_rank=0, json_model_override_args='{}', lora_paths=None, max_loras_per_batch=8, lora_backend='triton', attention_backend='flashinfer', sampling_backend='flashinfer', grammar_backend='xgrammar', speculative_algorithm=None, speculative_draft_model_path=None, speculative_num_steps=None, speculative_eagle_topk=None, speculative_num_draft_tokens=None, speculative_accept_threshold_single=1.0, speculative_accept_threshold_acc=1.0, speculative_token_map=None, enable_double_sparsity=False, ds_channel_config_path=None, ds_heavy_channel_num=32, ds_heavy_token_num=256, ds_heavy_channel_type='qk', ds_sparse_decode_threshold=4096, disable_radix_cache=False, disable_cuda_graph=True, disable_cuda_graph_padding=False, enable_nccl_nvls=False, disable_outlines_disk_cache=False, disable_custom_all_reduce=False, disable_mla=False, disable_overlap_schedule=False, enable_mixed_chunk=False, enable_dp_attention=False, enable_ep_moe=False, enable_deepep_moe=False, enable_torch_compile=False, torch_compile_max_bs=32, cuda_graph_max_bs=160, cuda_graph_bs=None, torchao_config='', enable_nan_detection=False, enable_p2p_check=False, triton_attention_reduce_in_fp32=False, triton_attention_num_kv_splits=8, num_continuous_decode_steps=1, delete_ckpt_after_loading=False, enable_memory_saver=False, allow_auto_truncate=False, enable_custom_logit_processor=False, tool_call_parser=None, enable_hierarchical_cache=False, hicache_ratio=2.0, enable_flashinfer_mla=False, enable_flashmla=False, flashinfer_mla_disable_ragged=False, warmups=None, debug_tensor_dump_output_folder=None, debug_tensor_dump_input_file=None, debug_tensor_dump_inject=False, disaggregation_mode='null', disaggregation_bootstrap_port=8998)\n"
     ]
    },
    {
     "name": "stdout",
     "output_type": "stream",
     "text": [
      "[2025-03-31 07:11:24] Use chat template for the OpenAI-compatible API server: llama_3_vision\n"
     ]
    },
    {
     "name": "stdout",
     "output_type": "stream",
     "text": [
      "[2025-03-31 07:11:30 TP0] Overlap scheduler is disabled for multimodal models.\n",
      "[2025-03-31 07:11:30 TP0] Automatically reduce --mem-fraction-static to 0.836 because this is a multimodal model.\n",
      "[2025-03-31 07:11:30 TP0] Automatically turn off --chunked-prefill-size for mllama.\n",
      "[2025-03-31 07:11:30 TP0] Init torch distributed begin.\n"
     ]
    },
    {
     "name": "stdout",
     "output_type": "stream",
     "text": [
      "[2025-03-31 07:11:30 TP0] Init torch distributed ends. mem usage=0.00 GB\n",
      "[2025-03-31 07:11:30 TP0] Load weight begin. avail mem=78.58 GB\n"
     ]
    },
    {
     "name": "stdout",
     "output_type": "stream",
     "text": [
      "[2025-03-31 07:11:33 TP0] Using model weights format ['*.safetensors']\n"
     ]
    },
    {
     "name": "stdout",
     "output_type": "stream",
     "text": [
      "\r",
      "Loading safetensors checkpoint shards:   0% Completed | 0/5 [00:00<?, ?it/s]\n"
     ]
    },
    {
     "name": "stdout",
     "output_type": "stream",
     "text": [
      "\r",
      "Loading safetensors checkpoint shards:  20% Completed | 1/5 [00:00<00:03,  1.02it/s]\n"
     ]
    },
    {
     "name": "stdout",
     "output_type": "stream",
     "text": [
      "\r",
      "Loading safetensors checkpoint shards:  40% Completed | 2/5 [00:02<00:03,  1.02s/it]\n"
     ]
    },
    {
     "name": "stdout",
     "output_type": "stream",
     "text": [
      "\r",
      "Loading safetensors checkpoint shards:  60% Completed | 3/5 [00:03<00:02,  1.01s/it]\n"
     ]
    },
    {
     "name": "stdout",
     "output_type": "stream",
     "text": [
      "\r",
      "Loading safetensors checkpoint shards:  80% Completed | 4/5 [00:04<00:01,  1.02s/it]\n"
     ]
    },
    {
     "name": "stdout",
     "output_type": "stream",
     "text": [
      "\r",
      "Loading safetensors checkpoint shards: 100% Completed | 5/5 [00:04<00:00,  1.25it/s]\n",
      "\r",
      "Loading safetensors checkpoint shards: 100% Completed | 5/5 [00:04<00:00,  1.12it/s]\n",
      "\n",
      "[2025-03-31 07:11:38 TP0] Load weight end. type=MllamaForConditionalGeneration, dtype=torch.bfloat16, avail mem=58.40 GB, mem usage=20.18 GB.\n",
      "[2025-03-31 07:11:38 TP0] KV Cache is allocated. #tokens: 20480, K size: 1.56 GB, V size: 1.56 GB\n",
      "[2025-03-31 07:11:38 TP0] Memory pool end. avail mem=54.96 GB\n"
     ]
    },
    {
     "name": "stdout",
     "output_type": "stream",
     "text": [
      "[2025-03-31 07:11:40 TP0] max_total_num_tokens=20480, chunked_prefill_size=-1, max_prefill_tokens=16384, max_running_requests=200, context_len=131072\n"
     ]
    },
    {
     "name": "stdout",
     "output_type": "stream",
     "text": [
      "[2025-03-31 07:11:40] INFO:     Started server process [591914]\n",
      "[2025-03-31 07:11:40] INFO:     Waiting for application startup.\n",
      "[2025-03-31 07:11:40] INFO:     Application startup complete.\n",
      "[2025-03-31 07:11:40] INFO:     Uvicorn running on http://127.0.0.1:39606 (Press CTRL+C to quit)\n"
     ]
    },
    {
     "name": "stdout",
     "output_type": "stream",
     "text": [
      "[2025-03-31 07:11:41] INFO:     127.0.0.1:51934 - \"GET /v1/models HTTP/1.1\" 200 OK\n"
     ]
    },
    {
     "name": "stdout",
     "output_type": "stream",
     "text": [
      "[2025-03-31 07:11:41] INFO:     127.0.0.1:51946 - \"GET /get_model_info HTTP/1.1\" 200 OK\n",
      "[2025-03-31 07:11:41 TP0] Prefill batch. #new-seq: 1, #new-token: 7, #cached-token: 0, token usage: 0.00, #running-req: 0, #queue-req: 0, \n"
     ]
    },
    {
     "name": "stdout",
     "output_type": "stream",
     "text": [
      "[2025-03-31 07:11:43] INFO:     127.0.0.1:51948 - \"POST /generate HTTP/1.1\" 200 OK\n",
      "[2025-03-31 07:11:43] The server is fired up and ready to roll!\n"
     ]
    },
    {
     "data": {
      "text/html": [
       "<strong style='color: #00008B;'><br><br>                    NOTE: Typically, the server runs in a separate terminal.<br>                    In this notebook, we run the server and notebook code together, so their outputs are combined.<br>                    To improve clarity, the server logs are displayed in the original black color, while the notebook outputs are highlighted in blue.<br>                    We are running those notebooks in a CI parallel environment, so the throughput is not representative of the actual performance.<br>                    </strong>"
      ],
      "text/plain": [
       "<IPython.core.display.HTML object>"
      ]
     },
     "metadata": {},
     "output_type": "display_data"
    }
   ],
   "source": [
    "from sglang.test.test_utils import is_in_ci\n",
    "\n",
    "if is_in_ci():\n",
    "    from patch import launch_server_cmd\n",
    "else:\n",
    "    from sglang.utils import launch_server_cmd\n",
    "\n",
    "from sglang.utils import wait_for_server, print_highlight, terminate_process\n",
    "\n",
    "vision_process, port = launch_server_cmd(\n",
    "    \"\"\"\n",
    "python3 -m sglang.launch_server --model-path meta-llama/Llama-3.2-11B-Vision-Instruct \\\n",
    "    --chat-template=llama_3_vision\n",
    "\"\"\"\n",
    ")\n",
    "\n",
    "wait_for_server(f\"http://localhost:{port}\")"
   ]
  },
  {
   "cell_type": "markdown",
   "metadata": {},
   "source": [
    "## Using cURL\n",
    "\n",
    "Once the server is up, you can send test requests using curl or requests."
   ]
  },
  {
   "cell_type": "code",
   "execution_count": 2,
   "metadata": {
    "execution": {
     "iopub.execute_input": "2025-03-31T07:11:46.341390Z",
     "iopub.status.busy": "2025-03-31T07:11:46.341146Z",
     "iopub.status.idle": "2025-03-31T07:11:58.831822Z",
     "shell.execute_reply": "2025-03-31T07:11:58.831186Z"
    }
   },
   "outputs": [
    {
     "name": "stdout",
     "output_type": "stream",
     "text": [
      "[2025-03-31 07:11:49 TP0] Prefill batch. #new-seq: 1, #new-token: 6463, #cached-token: 0, token usage: 0.00, #running-req: 0, #queue-req: 0, \n"
     ]
    },
    {
     "name": "stdout",
     "output_type": "stream",
     "text": [
      "[2025-03-31 07:11:50 TP0] Decode batch. #running-req: 1, #token: 6496, token usage: 0.32, gen throughput (token/s): 3.90, #queue-req: 0, \n"
     ]
    },
    {
     "name": "stdout",
     "output_type": "stream",
     "text": [
      "[2025-03-31 07:11:51 TP0] Decode batch. #running-req: 1, #token: 6536, token usage: 0.32, gen throughput (token/s): 56.35, #queue-req: 0, \n"
     ]
    },
    {
     "name": "stdout",
     "output_type": "stream",
     "text": [
      "[2025-03-31 07:11:51 TP0] Decode batch. #running-req: 1, #token: 6576, token usage: 0.32, gen throughput (token/s): 52.00, #queue-req: 0, \n"
     ]
    },
    {
     "name": "stdout",
     "output_type": "stream",
     "text": [
      "[2025-03-31 07:11:52 TP0] Decode batch. #running-req: 1, #token: 6616, token usage: 0.32, gen throughput (token/s): 62.84, #queue-req: 0, \n",
      "[2025-03-31 07:11:52] INFO:     127.0.0.1:51954 - \"POST /v1/chat/completions HTTP/1.1\" 200 OK\n"
     ]
    },
    {
     "data": {
      "text/html": [
       "<strong style='color: #00008B;'>{\"id\":\"3eb26e8736f3473d8b7bfc94c7815093\",\"object\":\"chat.completion\",\"created\":1743405106,\"model\":\"meta-llama/Llama-3.2-11B-Vision-Instruct\",\"choices\":[{\"index\":0,\"message\":{\"role\":\"assistant\",\"content\":\"The image shows a yellow taxi cab with an ironing board and iron on top of it, and a man ironing clothes while the taxi is driving down the street.\\n\\nThe image is a photograph of a man ironing clothes on the back of a yellow taxi cab while it is in motion. The taxi is driving down the street, and the man is standing on the back of the taxi, holding an iron and ironing board. He is wearing a yellow jacket and blue pants, and has a bald head. The ironing board is attached to the back of the taxi, and the iron is on top of it, with a blue shirt being ironed. In the background, there are buildings and trees, as well as another yellow taxi driving down the street.\",\"reasoning_content\":null,\"tool_calls\":null},\"logprobs\":null,\"finish_reason\":\"stop\",\"matched_stop\":128009}],\"usage\":{\"prompt_tokens\":6463,\"total_tokens\":6618,\"completion_tokens\":155,\"prompt_tokens_details\":null}}</strong>"
      ],
      "text/plain": [
       "<IPython.core.display.HTML object>"
      ]
     },
     "metadata": {},
     "output_type": "display_data"
    },
    {
     "name": "stdout",
     "output_type": "stream",
     "text": [
      "[2025-03-31 07:11:53 TP0] Prefill batch. #new-seq: 1, #new-token: 1, #cached-token: 6462, token usage: 0.32, #running-req: 0, #queue-req: 0, \n"
     ]
    },
    {
     "name": "stdout",
     "output_type": "stream",
     "text": [
      "[2025-03-31 07:11:53 TP0] Decode batch. #running-req: 1, #token: 6502, token usage: 0.32, gen throughput (token/s): 31.19, #queue-req: 0, \n"
     ]
    },
    {
     "name": "stdout",
     "output_type": "stream",
     "text": [
      "[2025-03-31 07:11:54 TP0] Decode batch. #running-req: 1, #token: 6542, token usage: 0.32, gen throughput (token/s): 63.89, #queue-req: 0, \n"
     ]
    },
    {
     "name": "stdout",
     "output_type": "stream",
     "text": [
      "[2025-03-31 07:11:55 TP0] Decode batch. #running-req: 1, #token: 6582, token usage: 0.32, gen throughput (token/s): 61.91, #queue-req: 0, \n"
     ]
    },
    {
     "name": "stdout",
     "output_type": "stream",
     "text": [
      "[2025-03-31 07:11:55 TP0] Decode batch. #running-req: 1, #token: 6622, token usage: 0.32, gen throughput (token/s): 58.54, #queue-req: 0, \n"
     ]
    },
    {
     "name": "stdout",
     "output_type": "stream",
     "text": [
      "[2025-03-31 07:11:56 TP0] Decode batch. #running-req: 1, #token: 6662, token usage: 0.33, gen throughput (token/s): 63.55, #queue-req: 0, \n"
     ]
    },
    {
     "name": "stdout",
     "output_type": "stream",
     "text": [
      "[2025-03-31 07:11:57 TP0] Decode batch. #running-req: 1, #token: 6702, token usage: 0.33, gen throughput (token/s): 49.65, #queue-req: 0, \n"
     ]
    },
    {
     "name": "stdout",
     "output_type": "stream",
     "text": [
      "[2025-03-31 07:11:58 TP0] Decode batch. #running-req: 1, #token: 6742, token usage: 0.33, gen throughput (token/s): 36.09, #queue-req: 0, \n"
     ]
    },
    {
     "name": "stdout",
     "output_type": "stream",
     "text": [
      "[2025-03-31 07:11:58] INFO:     127.0.0.1:39238 - \"POST /v1/chat/completions HTTP/1.1\" 200 OK\n"
     ]
    },
    {
     "data": {
      "text/html": [
       "<strong style='color: #00008B;'>{\"id\":\"7622d1559d934b08b53a8bac5bebe116\",\"object\":\"chat.completion\",\"created\":1743405112,\"model\":\"meta-llama/Llama-3.2-11B-Vision-Instruct\",\"choices\":[{\"index\":0,\"message\":{\"role\":\"assistant\",\"content\":\"The image appears to show a man ironing clothes on the back of a taxi cab, but it's important to note that this is likely an image from a movie or TV show and not a real-life scenario. Here are some key points about the scene:\\n\\n* The man is wearing a yellow jacket and appears to be ironing clothes on an ironing board that is attached to the back of a yellow taxi cab.\\n\\t+ The ironing board is not a typical feature of a taxi cab, and it's unlikely that a real taxi driver would be ironing clothes while driving.\\n\\t+ The man's actions are not consistent with the typical duties of a taxi driver, which would be to transport passengers from one place to another.\\n* The taxi cab is driving down a city street, with other cars and buildings visible in the background.\\n\\t+ The street appears to be a busy urban area, with tall buildings and a dense population.\\n\\t+ The taxi cab is a yellow Ford Explorer, which is a common sight in many cities around the world.\\n* The man's actions are not consistent with the typical duties of a taxi driver, which would be to transport passengers from one place to another.\\n\\t+ The man's ironing is not a necessary task for a taxi driver, and it's unlikely that he would be doing this while driving.\\n\\t+ The scene appears to be staged for comedic or dramatic effect, rather than a real-life scenario.\\n\\nOverall, the image is likely a humorous or\",\"reasoning_content\":null,\"tool_calls\":null},\"logprobs\":null,\"finish_reason\":\"length\",\"matched_stop\":null}],\"usage\":{\"prompt_tokens\":6463,\"total_tokens\":6763,\"completion_tokens\":300,\"prompt_tokens_details\":null}}</strong>"
      ],
      "text/plain": [
       "<IPython.core.display.HTML object>"
      ]
     },
     "metadata": {},
     "output_type": "display_data"
    }
   ],
   "source": [
    "import subprocess\n",
    "\n",
    "curl_command = f\"\"\"\n",
    "curl -s http://localhost:{port}/v1/chat/completions \\\\\n",
    "  -d '{{\n",
    "    \"model\": \"meta-llama/Llama-3.2-11B-Vision-Instruct\",\n",
    "    \"messages\": [\n",
    "      {{\n",
    "        \"role\": \"user\",\n",
    "        \"content\": [\n",
    "          {{\n",
    "            \"type\": \"text\",\n",
    "            \"text\": \"What’s in this image?\"\n",
    "          }},\n",
    "          {{\n",
    "            \"type\": \"image_url\",\n",
    "            \"image_url\": {{\n",
    "              \"url\": \"https://github.com/sgl-project/sglang/blob/main/test/lang/example_image.png?raw=true\"\n",
    "            }}\n",
    "          }}\n",
    "        ]\n",
    "      }}\n",
    "    ],\n",
    "    \"max_tokens\": 300\n",
    "  }}'\n",
    "\"\"\"\n",
    "\n",
    "response = subprocess.check_output(curl_command, shell=True).decode()\n",
    "print_highlight(response)\n",
    "\n",
    "\n",
    "response = subprocess.check_output(curl_command, shell=True).decode()\n",
    "print_highlight(response)"
   ]
  },
  {
   "cell_type": "markdown",
   "metadata": {},
   "source": [
    "## Using Python Requests"
   ]
  },
  {
   "cell_type": "code",
   "execution_count": 3,
   "metadata": {
    "execution": {
     "iopub.execute_input": "2025-03-31T07:11:58.833771Z",
     "iopub.status.busy": "2025-03-31T07:11:58.833500Z",
     "iopub.status.idle": "2025-03-31T07:12:00.276611Z",
     "shell.execute_reply": "2025-03-31T07:12:00.276071Z"
    }
   },
   "outputs": [
    {
     "name": "stdout",
     "output_type": "stream",
     "text": [
      "[2025-03-31 07:11:59 TP0] Prefill batch. #new-seq: 1, #new-token: 1, #cached-token: 6462, token usage: 0.32, #running-req: 0, #queue-req: 0, \n"
     ]
    },
    {
     "name": "stdout",
     "output_type": "stream",
     "text": [
      "[2025-03-31 07:12:00 TP0] Decode batch. #running-req: 1, #token: 6483, token usage: 0.32, gen throughput (token/s): 20.56, #queue-req: 0, \n",
      "[2025-03-31 07:12:00] INFO:     127.0.0.1:39246 - \"POST /v1/chat/completions HTTP/1.1\" 200 OK\n"
     ]
    },
    {
     "data": {
      "text/html": [
       "<strong style='color: #00008B;'>{\"id\":\"fca4c1b7d4c54ee8824d46a0114512fb\",\"object\":\"chat.completion\",\"created\":1743405118,\"model\":\"meta-llama/Llama-3.2-11B-Vision-Instruct\",\"choices\":[{\"index\":0,\"message\":{\"role\":\"assistant\",\"content\":\"The image shows a man ironing clothes on the back of a yellow taxi cab in the middle of a busy city street.\",\"reasoning_content\":null,\"tool_calls\":null},\"logprobs\":null,\"finish_reason\":\"stop\",\"matched_stop\":128009}],\"usage\":{\"prompt_tokens\":6463,\"total_tokens\":6489,\"completion_tokens\":26,\"prompt_tokens_details\":null}}</strong>"
      ],
      "text/plain": [
       "<IPython.core.display.HTML object>"
      ]
     },
     "metadata": {},
     "output_type": "display_data"
    }
   ],
   "source": [
    "import requests\n",
    "\n",
    "url = f\"http://localhost:{port}/v1/chat/completions\"\n",
    "\n",
    "data = {\n",
    "    \"model\": \"meta-llama/Llama-3.2-11B-Vision-Instruct\",\n",
    "    \"messages\": [\n",
    "        {\n",
    "            \"role\": \"user\",\n",
    "            \"content\": [\n",
    "                {\"type\": \"text\", \"text\": \"What’s in this image?\"},\n",
    "                {\n",
    "                    \"type\": \"image_url\",\n",
    "                    \"image_url\": {\n",
    "                        \"url\": \"https://github.com/sgl-project/sglang/blob/main/test/lang/example_image.png?raw=true\"\n",
    "                    },\n",
    "                },\n",
    "            ],\n",
    "        }\n",
    "    ],\n",
    "    \"max_tokens\": 300,\n",
    "}\n",
    "\n",
    "response = requests.post(url, json=data)\n",
    "print_highlight(response.text)"
   ]
  },
  {
   "cell_type": "markdown",
   "metadata": {},
   "source": [
    "## Using OpenAI Python Client"
   ]
  },
  {
   "cell_type": "code",
   "execution_count": 4,
   "metadata": {
    "execution": {
     "iopub.execute_input": "2025-03-31T07:12:00.278433Z",
     "iopub.status.busy": "2025-03-31T07:12:00.278174Z",
     "iopub.status.idle": "2025-03-31T07:12:01.198579Z",
     "shell.execute_reply": "2025-03-31T07:12:01.198098Z"
    }
   },
   "outputs": [
    {
     "name": "stdout",
     "output_type": "stream",
     "text": [
      "[2025-03-31 07:12:00 TP0] Prefill batch. #new-seq: 1, #new-token: 11, #cached-token: 6452, token usage: 0.32, #running-req: 0, #queue-req: 0, \n"
     ]
    },
    {
     "name": "stdout",
     "output_type": "stream",
     "text": [
      "[2025-03-31 07:12:01] INFO:     127.0.0.1:39248 - \"POST /v1/chat/completions HTTP/1.1\" 200 OK\n"
     ]
    },
    {
     "data": {
      "text/html": [
       "<strong style='color: #00008B;'>The image shows a man ironing clothes on an ironing board that is attached to the back of a yellow taxi cab.</strong>"
      ],
      "text/plain": [
       "<IPython.core.display.HTML object>"
      ]
     },
     "metadata": {},
     "output_type": "display_data"
    }
   ],
   "source": [
    "from openai import OpenAI\n",
    "\n",
    "client = OpenAI(base_url=f\"http://localhost:{port}/v1\", api_key=\"None\")\n",
    "\n",
    "response = client.chat.completions.create(\n",
    "    model=\"meta-llama/Llama-3.2-11B-Vision-Instruct\",\n",
    "    messages=[\n",
    "        {\n",
    "            \"role\": \"user\",\n",
    "            \"content\": [\n",
    "                {\n",
    "                    \"type\": \"text\",\n",
    "                    \"text\": \"What is in this image?\",\n",
    "                },\n",
    "                {\n",
    "                    \"type\": \"image_url\",\n",
    "                    \"image_url\": {\n",
    "                        \"url\": \"https://github.com/sgl-project/sglang/blob/main/test/lang/example_image.png?raw=true\"\n",
    "                    },\n",
    "                },\n",
    "            ],\n",
    "        }\n",
    "    ],\n",
    "    max_tokens=300,\n",
    ")\n",
    "\n",
    "print_highlight(response.choices[0].message.content)"
   ]
  },
  {
   "cell_type": "markdown",
   "metadata": {},
   "source": [
    "## Multiple-Image Inputs\n",
    "\n",
    "The server also supports multiple images and interleaved text and images if the model supports it."
   ]
  },
  {
   "cell_type": "code",
   "execution_count": 5,
   "metadata": {
    "execution": {
     "iopub.execute_input": "2025-03-31T07:12:01.202297Z",
     "iopub.status.busy": "2025-03-31T07:12:01.202057Z",
     "iopub.status.idle": "2025-03-31T07:12:04.879858Z",
     "shell.execute_reply": "2025-03-31T07:12:04.879442Z"
    }
   },
   "outputs": [
    {
     "name": "stdout",
     "output_type": "stream",
     "text": [
      "[2025-03-31 07:12:03 TP0] Prefill batch. #new-seq: 1, #new-token: 12895, #cached-token: 0, token usage: 0.00, #running-req: 0, #queue-req: 0, \n"
     ]
    },
    {
     "name": "stdout",
     "output_type": "stream",
     "text": [
      "[2025-03-31 07:12:03 TP0] Decode batch. #running-req: 1, #token: 12905, token usage: 0.63, gen throughput (token/s): 10.76, #queue-req: 0, \n"
     ]
    },
    {
     "name": "stdout",
     "output_type": "stream",
     "text": [
      "[2025-03-31 07:12:04 TP0] Decode batch. #running-req: 1, #token: 12945, token usage: 0.63, gen throughput (token/s): 63.60, #queue-req: 0, \n"
     ]
    },
    {
     "name": "stdout",
     "output_type": "stream",
     "text": [
      "[2025-03-31 07:12:04] INFO:     127.0.0.1:42126 - \"POST /v1/chat/completions HTTP/1.1\" 200 OK\n"
     ]
    },
    {
     "data": {
      "text/html": [
       "<strong style='color: #00008B;'>The first image shows a man in a yellow shirt ironing a shirt on the back of a yellow taxi cab, with a small icon of a computer code snippet in the top-left corner. The second image shows a large orange \"S\" and \"G\" on a white background, with a smaller \"L\" to the right of the \"G\".</strong>"
      ],
      "text/plain": [
       "<IPython.core.display.HTML object>"
      ]
     },
     "metadata": {},
     "output_type": "display_data"
    }
   ],
   "source": [
    "from openai import OpenAI\n",
    "\n",
    "client = OpenAI(base_url=f\"http://localhost:{port}/v1\", api_key=\"None\")\n",
    "\n",
    "response = client.chat.completions.create(\n",
    "    model=\"meta-llama/Llama-3.2-11B-Vision-Instruct\",\n",
    "    messages=[\n",
    "        {\n",
    "            \"role\": \"user\",\n",
    "            \"content\": [\n",
    "                {\n",
    "                    \"type\": \"image_url\",\n",
    "                    \"image_url\": {\n",
    "                        \"url\": \"https://github.com/sgl-project/sglang/blob/main/test/lang/example_image.png?raw=true\",\n",
    "                    },\n",
    "                },\n",
    "                {\n",
    "                    \"type\": \"image_url\",\n",
    "                    \"image_url\": {\n",
    "                        \"url\": \"https://raw.githubusercontent.com/sgl-project/sglang/main/assets/logo.png\",\n",
    "                    },\n",
    "                },\n",
    "                {\n",
    "                    \"type\": \"text\",\n",
    "                    \"text\": \"I have two very different images. They are not related at all. \"\n",
    "                    \"Please describe the first image in one sentence, and then describe the second image in another sentence.\",\n",
    "                },\n",
    "            ],\n",
    "        }\n",
    "    ],\n",
    "    temperature=0,\n",
    ")\n",
    "\n",
    "print_highlight(response.choices[0].message.content)"
   ]
  },
  {
   "cell_type": "code",
   "execution_count": 6,
   "metadata": {
    "execution": {
     "iopub.execute_input": "2025-03-31T07:12:04.881462Z",
     "iopub.status.busy": "2025-03-31T07:12:04.881250Z",
     "iopub.status.idle": "2025-03-31T07:12:05.288893Z",
     "shell.execute_reply": "2025-03-31T07:12:05.288391Z"
    }
   },
   "outputs": [
    {
     "name": "stdout",
     "output_type": "stream",
     "text": [
      "[2025-03-31 07:12:04] Child process unexpectedly failed with an exit code 9. pid=592394\n",
      "[2025-03-31 07:12:04] Child process unexpectedly failed with an exit code 9. pid=592321\n"
     ]
    },
    {
     "name": "stdout",
     "output_type": "stream",
     "text": [
      "[2025-03-31 07:12:05] Child process unexpectedly failed with an exit code 9. pid=594712\n",
      "[2025-03-31 07:12:05] Child process unexpectedly failed with an exit code 9. pid=594702\n",
      "[2025-03-31 07:12:05] SIGTERM received. signum=None frame=None. Draining requests and shutting down...\n",
      "[2025-03-31 07:12:05] SIGTERM received. signum=None frame=None. Draining requests and shutting down...\n",
      "[2025-03-31 07:12:05] SIGTERM received. signum=None frame=None. Draining requests and shutting down...\n",
      "[2025-03-31 07:12:05] SIGTERM received. signum=None frame=None. Draining requests and shutting down...\n",
      "[2025-03-31 07:12:05] SIGTERM received. signum=None frame=None. Draining requests and shutting down...\n",
      "[2025-03-31 07:12:05] SIGTERM received. signum=None frame=None. Draining requests and shutting down...\n",
      "[2025-03-31 07:12:05] SIGTERM received. signum=None frame=None. Draining requests and shutting down...\n",
      "[2025-03-31 07:12:05] SIGTERM received. signum=None frame=None. Draining requests and shutting down...\n"
     ]
    },
    {
     "name": "stdout",
     "output_type": "stream",
     "text": [
      "[2025-03-31 07:12:05] SIGTERM received. signum=None frame=None. Draining requests and shutting down...\n",
      "[2025-03-31 07:12:05] SIGTERM received. signum=None frame=None. Draining requests and shutting down...\n",
      "[2025-03-31 07:12:05] SIGTERM received. signum=None frame=None. Draining requests and shutting down...\n",
      "[2025-03-31 07:12:05] SIGTERM received. signum=None frame=None. Draining requests and shutting down...\n",
      "[2025-03-31 07:12:05] SIGTERM received. signum=None frame=None. Draining requests and shutting down...\n",
      "[2025-03-31 07:12:05] Child process unexpectedly failed with an exit code 9. pid=594719\n",
      "[2025-03-31 07:12:05] SIGTERM received. signum=None frame=None. Draining requests and shutting down...\n",
      "[2025-03-31 07:12:05] SIGTERM received. signum=None frame=None. Draining requests and shutting down...\n",
      "[2025-03-31 07:12:05] SIGTERM received. signum=None frame=None. Draining requests and shutting down...\n",
      "[2025-03-31 07:12:05] SIGTERM received. signum=None frame=None. Draining requests and shutting down...\n",
      "[2025-03-31 07:12:05] Child process unexpectedly failed with an exit code 9. pid=594737\n",
      "[2025-03-31 07:12:05] Child process unexpectedly failed with an exit code 9. pid=594723\n",
      "[2025-03-31 07:12:05] Child process unexpectedly failed with an exit code 9. pid=594728\n",
      "[2025-03-31 07:12:05] SIGTERM received. signum=None frame=None. Draining requests and shutting down...\n",
      "[2025-03-31 07:12:05] Child process unexpectedly failed with an exit code 9. pid=594731\n",
      "[2025-03-31 07:12:05] SIGTERM received. signum=None frame=None. Draining requests and shutting down...\n",
      "[2025-03-31 07:12:05] Child process unexpectedly failed with an exit code 9. pid=594780\n",
      "[2025-03-31 07:12:05] Child process unexpectedly failed with an exit code 9. pid=594721\n",
      "[2025-03-31 07:12:05] Child process unexpectedly failed with an exit code 9. pid=594773\n",
      "[2025-03-31 07:12:05] Child process unexpectedly failed with an exit code 9. pid=594701\n",
      "[2025-03-31 07:12:05] SIGTERM received. signum=None frame=None. Draining requests and shutting down...\n",
      "[2025-03-31 07:12:05] Child process unexpectedly failed with an exit code 9. pid=594705\n",
      "[2025-03-31 07:12:05] Child process unexpectedly failed with an exit code 9. pid=594722\n",
      "[2025-03-31 07:12:05] Child process unexpectedly failed with an exit code 9. pid=594708\n",
      "[2025-03-31 07:12:05] Child process unexpectedly failed with an exit code 9. pid=594706\n",
      "[2025-03-31 07:12:05] Child process unexpectedly failed with an exit code 9. pid=594710\n",
      "[2025-03-31 07:12:05] Child process unexpectedly failed with an exit code 9. pid=594709\n",
      "[2025-03-31 07:12:05] Child process unexpectedly failed with an exit code 9. pid=594703\n",
      "[2025-03-31 07:12:05] Child process unexpectedly failed with an exit code 9. pid=594732\n",
      "[2025-03-31 07:12:05] Child process unexpectedly failed with an exit code 9. pid=594725\n",
      "[2025-03-31 07:12:05] Child process unexpectedly failed with an exit code 9. pid=594738\n",
      "[2025-03-31 07:12:05] Child process unexpectedly failed with an exit code 9. pid=594739\n",
      "[2025-03-31 07:12:05] Child process unexpectedly failed with an exit code 9. pid=594704\n",
      "[2025-03-31 07:12:05] Child process unexpectedly failed with an exit code 9. pid=594711\n",
      "[2025-03-31 07:12:05] Child process unexpectedly failed with an exit code 9. pid=594713\n",
      "[2025-03-31 07:12:05] Child process unexpectedly failed with an exit code 9. pid=594717\n",
      "[2025-03-31 07:12:05] Child process unexpectedly failed with an exit code 9. pid=594718\n",
      "[2025-03-31 07:12:05] Child process unexpectedly failed with an exit code 9. pid=594729\n",
      "[2025-03-31 07:12:05] Child process unexpectedly failed with an exit code 9. pid=594735\n",
      "[2025-03-31 07:12:05] Child process unexpectedly failed with an exit code 9. pid=594736\n",
      "[2025-03-31 07:12:05] Child process unexpectedly failed with an exit code 9. pid=594714\n",
      "[2025-03-31 07:12:05] Child process unexpectedly failed with an exit code 9. pid=594744\n",
      "[2025-03-31 07:12:05] Child process unexpectedly failed with an exit code 9. pid=594715\n",
      "[2025-03-31 07:12:05] Child process unexpectedly failed with an exit code 9. pid=594734\n",
      "[2025-03-31 07:12:05] Child process unexpectedly failed with an exit code 9. pid=594740\n",
      "[2025-03-31 07:12:05] Child process unexpectedly failed with an exit code 9. pid=594741\n",
      "[2025-03-31 07:12:05] Child process unexpectedly failed with an exit code 9. pid=594742\n",
      "[2025-03-31 07:12:05] Child process unexpectedly failed with an exit code 9. pid=594726\n",
      "[2025-03-31 07:12:05] Child process unexpectedly failed with an exit code 9. pid=594743\n",
      "[2025-03-31 07:12:05] Child process unexpectedly failed with an exit code 9. pid=594745\n",
      "[2025-03-31 07:12:05] Child process unexpectedly failed with an exit code 9. pid=594746\n",
      "[2025-03-31 07:12:05] Child process unexpectedly failed with an exit code 9. pid=594716\n",
      "[2025-03-31 07:12:05] Child process unexpectedly failed with an exit code 9. pid=594747\n",
      "[2025-03-31 07:12:05] Child process unexpectedly failed with an exit code 9. pid=594748\n",
      "[2025-03-31 07:12:05] Child process unexpectedly failed with an exit code 9. pid=594727\n",
      "[2025-03-31 07:12:05] Child process unexpectedly failed with an exit code 9. pid=594749\n",
      "[2025-03-31 07:12:05] Child process unexpectedly failed with an exit code 9. pid=594750\n",
      "[2025-03-31 07:12:05] Child process unexpectedly failed with an exit code 9. pid=594751\n",
      "[2025-03-31 07:12:05] Child process unexpectedly failed with an exit code 9. pid=594752\n"
     ]
    }
   ],
   "source": [
    "terminate_process(vision_process)"
   ]
  },
  {
   "cell_type": "markdown",
   "metadata": {},
   "source": [
    "## Chat Template\n",
    "\n",
    "As mentioned before, if you do not specify a vision model's `--chat-template`, the server uses Hugging Face's default template, which only supports text.\n",
    "\n",
    "We list popular vision models with their chat templates:\n",
    "\n",
    "- [meta-llama/Llama-3.2-Vision](https://huggingface.co/meta-llama/Llama-3.2-11B-Vision-Instruct) uses `llama_3_vision`.\n",
    "- [Qwen/Qwen2.5-VL-7B-Instruct](https://huggingface.co/Qwen/Qwen2.5-VL-7B-Instruct) uses `qwen2-vl`.\n",
    "- [google/gemma-3-4b-it](https://huggingface.co/google/gemma-3-4b-it) uses `gemma-it`.\n",
    "- [openbmb/MiniCPM-V](https://huggingface.co/openbmb/MiniCPM-V) uses `minicpmv`.\n",
    "- [deepseek-ai/deepseek-vl2](https://huggingface.co/deepseek-ai/deepseek-vl2) uses `deepseek-vl2`.\n",
    "- [LlaVA-OneVision](https://huggingface.co/lmms-lab/llava-onevision-qwen2-7b-ov) uses `chatml-llava`.\n",
    "- [LLaVA-NeXT](https://huggingface.co/collections/lmms-lab/llava-next-6623288e2d61edba3ddbf5ff) uses `chatml-llava`.\n",
    "- [Llama3-LLaVA-NeXT](https://huggingface.co/lmms-lab/llama3-llava-next-8b) uses `llava_llama_3`.\n",
    "- [LLaVA-v1.5 / 1.6](https://huggingface.co/liuhaotian/llava-v1.6-34b) uses `vicuna_v1.1`."
   ]
  }
 ],
 "metadata": {
  "language_info": {
   "codemirror_mode": {
    "name": "ipython",
    "version": 3
   },
   "file_extension": ".py",
   "mimetype": "text/x-python",
   "name": "python",
   "nbconvert_exporter": "python",
   "pygments_lexer": "ipython3",
   "version": "3.9.21"
  }
 },
 "nbformat": 4,
 "nbformat_minor": 2
}
