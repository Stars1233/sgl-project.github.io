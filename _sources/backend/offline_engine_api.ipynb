{
 "cells": [
  {
   "cell_type": "markdown",
   "metadata": {},
   "source": [
    "# Offline Engine API\n",
    "\n",
    "SGLang provides a direct inference engine without the need for an HTTP server, especially for use cases where additional HTTP server adds unnecessary complexity or overhead. Here are two general use cases:\n",
    "\n",
    "- Offline Batch Inference\n",
    "- Custom Server on Top of the Engine\n",
    "\n",
    "This document focuses on the offline batch inference, demonstrating four different inference modes:\n",
    "\n",
    "- Non-streaming synchronous generation\n",
    "- Streaming synchronous generation\n",
    "- Non-streaming asynchronous generation\n",
    "- Streaming asynchronous generation\n",
    "\n",
    "Additionally, you can easily build a custom server on top of the SGLang offline engine. A detailed example working in a python script can be found in [custom_server](https://github.com/sgl-project/sglang/blob/main/examples/runtime/engine/custom_server.py)."
   ]
  },
  {
   "cell_type": "markdown",
   "metadata": {},
   "source": [
    "## Offline Batch Inference\n",
    "\n",
    "SGLang offline engine supports batch inference with efficient scheduling."
   ]
  },
  {
   "cell_type": "code",
   "execution_count": 1,
   "metadata": {
    "execution": {
     "iopub.execute_input": "2025-01-23T19:36:49.207065Z",
     "iopub.status.busy": "2025-01-23T19:36:49.206932Z",
     "iopub.status.idle": "2025-01-23T19:37:28.479090Z",
     "shell.execute_reply": "2025-01-23T19:37:28.478236Z"
    }
   },
   "outputs": [
    {
     "name": "stderr",
     "output_type": "stream",
     "text": [
      "\r",
      "Loading safetensors checkpoint shards:   0% Completed | 0/4 [00:00<?, ?it/s]\n"
     ]
    },
    {
     "name": "stderr",
     "output_type": "stream",
     "text": [
      "\r",
      "Loading safetensors checkpoint shards:  25% Completed | 1/4 [00:00<00:02,  1.16it/s]\n"
     ]
    },
    {
     "name": "stderr",
     "output_type": "stream",
     "text": [
      "\r",
      "Loading safetensors checkpoint shards:  50% Completed | 2/4 [00:01<00:01,  1.88it/s]\n"
     ]
    },
    {
     "name": "stderr",
     "output_type": "stream",
     "text": [
      "\r",
      "Loading safetensors checkpoint shards:  75% Completed | 3/4 [00:02<00:00,  1.41it/s]\n"
     ]
    },
    {
     "name": "stderr",
     "output_type": "stream",
     "text": [
      "\r",
      "Loading safetensors checkpoint shards: 100% Completed | 4/4 [00:02<00:00,  1.27it/s]\n",
      "\r",
      "Loading safetensors checkpoint shards: 100% Completed | 4/4 [00:02<00:00,  1.34it/s]\n",
      "\n"
     ]
    },
    {
     "name": "stderr",
     "output_type": "stream",
     "text": [
      "\r",
      "  0%|          | 0/23 [00:00<?, ?it/s]"
     ]
    },
    {
     "name": "stderr",
     "output_type": "stream",
     "text": [
      "\r",
      "  4%|▍         | 1/23 [00:00<00:21,  1.02it/s]\r",
      "  9%|▊         | 2/23 [00:01<00:10,  2.03it/s]"
     ]
    },
    {
     "name": "stderr",
     "output_type": "stream",
     "text": [
      "\r",
      " 13%|█▎        | 3/23 [00:01<00:06,  3.00it/s]\r",
      " 17%|█▋        | 4/23 [00:01<00:04,  3.87it/s]"
     ]
    },
    {
     "name": "stderr",
     "output_type": "stream",
     "text": [
      "\r",
      " 22%|██▏       | 5/23 [00:01<00:03,  4.60it/s]\r",
      " 26%|██▌       | 6/23 [00:01<00:03,  5.02it/s]"
     ]
    },
    {
     "name": "stderr",
     "output_type": "stream",
     "text": [
      "\r",
      " 30%|███       | 7/23 [00:01<00:02,  5.47it/s]\r",
      " 35%|███▍      | 8/23 [00:02<00:02,  5.85it/s]"
     ]
    },
    {
     "name": "stderr",
     "output_type": "stream",
     "text": [
      "\r",
      " 39%|███▉      | 9/23 [00:02<00:02,  6.11it/s]\r",
      " 43%|████▎     | 10/23 [00:02<00:02,  6.33it/s]"
     ]
    },
    {
     "name": "stderr",
     "output_type": "stream",
     "text": [
      "\r",
      " 48%|████▊     | 11/23 [00:02<00:01,  6.47it/s]\r",
      " 52%|█████▏    | 12/23 [00:02<00:01,  6.57it/s]"
     ]
    },
    {
     "name": "stderr",
     "output_type": "stream",
     "text": [
      "\r",
      " 57%|█████▋    | 13/23 [00:02<00:01,  6.65it/s]\r",
      " 61%|██████    | 14/23 [00:02<00:01,  6.66it/s]"
     ]
    },
    {
     "name": "stderr",
     "output_type": "stream",
     "text": [
      "\r",
      " 65%|██████▌   | 15/23 [00:03<00:01,  6.72it/s]\r",
      " 70%|██████▉   | 16/23 [00:03<00:01,  6.73it/s]"
     ]
    },
    {
     "name": "stderr",
     "output_type": "stream",
     "text": [
      "\r",
      " 74%|███████▍  | 17/23 [00:03<00:00,  6.77it/s]\r",
      " 78%|███████▊  | 18/23 [00:03<00:00,  6.78it/s]"
     ]
    },
    {
     "name": "stderr",
     "output_type": "stream",
     "text": [
      "\r",
      " 83%|████████▎ | 19/23 [00:03<00:00,  6.78it/s]\r",
      " 87%|████████▋ | 20/23 [00:03<00:00,  6.76it/s]"
     ]
    },
    {
     "name": "stderr",
     "output_type": "stream",
     "text": [
      "\r",
      " 91%|█████████▏| 21/23 [00:03<00:00,  6.29it/s]\r",
      " 96%|█████████▌| 22/23 [00:04<00:00,  6.44it/s]"
     ]
    },
    {
     "name": "stderr",
     "output_type": "stream",
     "text": [
      "\r",
      "100%|██████████| 23/23 [00:04<00:00,  6.54it/s]\r",
      "100%|██████████| 23/23 [00:04<00:00,  5.39it/s]\n"
     ]
    }
   ],
   "source": [
    "# launch the offline engine\n",
    "\n",
    "import sglang as sgl\n",
    "import asyncio\n",
    "\n",
    "llm = sgl.Engine(model_path=\"meta-llama/Meta-Llama-3.1-8B-Instruct\")"
   ]
  },
  {
   "cell_type": "markdown",
   "metadata": {},
   "source": [
    "### Non-streaming Synchronous Generation"
   ]
  },
  {
   "cell_type": "code",
   "execution_count": 2,
   "metadata": {
    "execution": {
     "iopub.execute_input": "2025-01-23T19:37:28.481895Z",
     "iopub.status.busy": "2025-01-23T19:37:28.481324Z",
     "iopub.status.idle": "2025-01-23T19:37:31.775581Z",
     "shell.execute_reply": "2025-01-23T19:37:31.774526Z"
    }
   },
   "outputs": [
    {
     "name": "stdout",
     "output_type": "stream",
     "text": [
      "===============================\n",
      "Prompt: Hello, my name is\n",
      "Generated text:  Adam Jelani and I am a postdoctoral researcher at the University of California, Berkeley, where I work on developing models of complex systems, particularly those related to quantum mechanics and quantum information processing.\n",
      "My research focuses on understanding the behavior of quantum systems, which exhibit fundamentally different properties than classical systems. These systems are often inherently nonlinear, exhibit quantum entanglement, and can be highly sensitive to external influences. To study these systems, I use a combination of analytical, numerical, and machine learning approaches.\n",
      "One area I am particularly interested in is developing new models and methods to analyze and optimize quantum many-body systems. These systems consist of\n",
      "===============================\n",
      "Prompt: The president of the United States is\n",
      "Generated text:  the chief executive of the federal government. The president is both the head of state and the head of government of the United States, and is the commander-in-chief of the armed forces. The president is elected to a four-year term, and is limited to two terms by the 22nd Amendment to the Constitution.\n",
      "The president is responsible for carrying out the duties of the office, which include:\n",
      "Executing the laws of the United States\n",
      "Commanding the armed forces\n",
      "Appointing federal judges, ambassadors, and other officials\n",
      "Conducting foreign policy\n",
      "Granting pardons and reprieves\n",
      "Signing or vetoing legislation\n",
      "Delivering\n",
      "===============================\n",
      "Prompt: The capital of France is\n",
      "Generated text:  known for its fashion, romance, and world-class museums. But in 1916, Paris was at the center of a different kind of cultural explosion: World War I.\n",
      "During the war, the French government requisitioned buildings and hotels to convert them into hospitals, refugee centers, and other facilities to support the war effort. The Hôtel des Invalides, a former hospital and military hospital, was one of the buildings used for this purpose.\n",
      "At the same time, artists and intellectuals were using the war to create some of the most iconic works of the 20th century. Artists like Pablo Picasso and Georges Braque were influenced\n",
      "===============================\n",
      "Prompt: The future of AI is\n",
      "Generated text:  in your hands. Literally.\n",
      "Imagine a world where artificial intelligence (AI) is not just something we use, but something we wear on our sleeves. Or in this case, our wrists.\n",
      "That’s the vision behind Nymi, a wearable device that uses electrocardiogram (ECG) sensors to authenticate users and provide a secure way to interact with digital devices.\n",
      "Imagine having a credit card or smart phone that you don’t need to worry about locking or unlocking. Just put it on and it knows who you are. Simple.\n",
      "Nymi is an innovative technology that uses the unique patterns in your heartbeat as a personal identifier. That\n"
     ]
    }
   ],
   "source": [
    "prompts = [\n",
    "    \"Hello, my name is\",\n",
    "    \"The president of the United States is\",\n",
    "    \"The capital of France is\",\n",
    "    \"The future of AI is\",\n",
    "]\n",
    "\n",
    "sampling_params = {\"temperature\": 0.8, \"top_p\": 0.95}\n",
    "\n",
    "outputs = llm.generate(prompts, sampling_params)\n",
    "for prompt, output in zip(prompts, outputs):\n",
    "    print(\"===============================\")\n",
    "    print(f\"Prompt: {prompt}\\nGenerated text: {output['text']}\")"
   ]
  },
  {
   "cell_type": "markdown",
   "metadata": {},
   "source": [
    "### Streaming Synchronous Generation"
   ]
  },
  {
   "cell_type": "code",
   "execution_count": 3,
   "metadata": {
    "execution": {
     "iopub.execute_input": "2025-01-23T19:37:31.777430Z",
     "iopub.status.busy": "2025-01-23T19:37:31.777254Z",
     "iopub.status.idle": "2025-01-23T19:37:34.602377Z",
     "shell.execute_reply": "2025-01-23T19:37:34.601695Z"
    }
   },
   "outputs": [
    {
     "name": "stdout",
     "output_type": "stream",
     "text": [
      "\n",
      "=== Testing synchronous streaming generation ===\n",
      "\n",
      "Prompt: Hello, my name is\n",
      "Generated text: "
     ]
    },
    {
     "name": "stdout",
     "output_type": "stream",
     "text": [
      " Allison"
     ]
    },
    {
     "name": "stdout",
     "output_type": "stream",
     "text": [
      " Allison."
     ]
    },
    {
     "name": "stdout",
     "output_type": "stream",
     "text": [
      " Allison. I"
     ]
    },
    {
     "name": "stdout",
     "output_type": "stream",
     "text": [
      " Allison. I'm"
     ]
    },
    {
     "name": "stdout",
     "output_type": "stream",
     "text": [
      " Allison. I'm a"
     ]
    },
    {
     "name": "stdout",
     "output_type": "stream",
     "text": [
      " Allison. I'm a "
     ]
    },
    {
     "name": "stdout",
     "output_type": "stream",
     "text": [
      " Allison. I'm a 27"
     ]
    },
    {
     "name": "stdout",
     "output_type": "stream",
     "text": [
      " Allison. I'm a 27 year"
     ]
    },
    {
     "name": "stdout",
     "output_type": "stream",
     "text": [
      " Allison. I'm a 27 year old"
     ]
    },
    {
     "name": "stdout",
     "output_type": "stream",
     "text": [
      " Allison. I'm a 27 year old flight"
     ]
    },
    {
     "name": "stdout",
     "output_type": "stream",
     "text": [
      " Allison. I'm a 27 year old flight attendant"
     ]
    },
    {
     "name": "stdout",
     "output_type": "stream",
     "text": [
      " Allison. I'm a 27 year old flight attendant."
     ]
    },
    {
     "name": "stdout",
     "output_type": "stream",
     "text": [
      " Allison. I'm a 27 year old flight attendant. I"
     ]
    },
    {
     "name": "stdout",
     "output_type": "stream",
     "text": [
      " Allison. I'm a 27 year old flight attendant. I live"
     ]
    },
    {
     "name": "stdout",
     "output_type": "stream",
     "text": [
      " Allison. I'm a 27 year old flight attendant. I live in"
     ]
    },
    {
     "name": "stdout",
     "output_type": "stream",
     "text": [
      " Allison. I'm a 27 year old flight attendant. I live in Chicago"
     ]
    },
    {
     "name": "stdout",
     "output_type": "stream",
     "text": [
      " Allison. I'm a 27 year old flight attendant. I live in Chicago with"
     ]
    },
    {
     "name": "stdout",
     "output_type": "stream",
     "text": [
      " Allison. I'm a 27 year old flight attendant. I live in Chicago with my"
     ]
    },
    {
     "name": "stdout",
     "output_type": "stream",
     "text": [
      " Allison. I'm a 27 year old flight attendant. I live in Chicago with my cat"
     ]
    },
    {
     "name": "stdout",
     "output_type": "stream",
     "text": [
      " Allison. I'm a 27 year old flight attendant. I live in Chicago with my cat,"
     ]
    },
    {
     "name": "stdout",
     "output_type": "stream",
     "text": [
      " Allison. I'm a 27 year old flight attendant. I live in Chicago with my cat, Luna"
     ]
    },
    {
     "name": "stdout",
     "output_type": "stream",
     "text": [
      " Allison. I'm a 27 year old flight attendant. I live in Chicago with my cat, Luna."
     ]
    },
    {
     "name": "stdout",
     "output_type": "stream",
     "text": [
      " Allison. I'm a 27 year old flight attendant. I live in Chicago with my cat, Luna. I"
     ]
    },
    {
     "name": "stdout",
     "output_type": "stream",
     "text": [
      " Allison. I'm a 27 year old flight attendant. I live in Chicago with my cat, Luna. I'm"
     ]
    },
    {
     "name": "stdout",
     "output_type": "stream",
     "text": [
      " Allison. I'm a 27 year old flight attendant. I live in Chicago with my cat, Luna. I'm a"
     ]
    },
    {
     "name": "stdout",
     "output_type": "stream",
     "text": [
      " Allison. I'm a 27 year old flight attendant. I live in Chicago with my cat, Luna. I'm a bit"
     ]
    },
    {
     "name": "stdout",
     "output_type": "stream",
     "text": [
      " Allison. I'm a 27 year old flight attendant. I live in Chicago with my cat, Luna. I'm a bit of"
     ]
    },
    {
     "name": "stdout",
     "output_type": "stream",
     "text": [
      " Allison. I'm a 27 year old flight attendant. I live in Chicago with my cat, Luna. I'm a bit of a"
     ]
    },
    {
     "name": "stdout",
     "output_type": "stream",
     "text": [
      " Allison. I'm a 27 year old flight attendant. I live in Chicago with my cat, Luna. I'm a bit of a hopeless"
     ]
    },
    {
     "name": "stdout",
     "output_type": "stream",
     "text": [
      " Allison. I'm a 27 year old flight attendant. I live in Chicago with my cat, Luna. I'm a bit of a hopeless romantic"
     ]
    },
    {
     "name": "stdout",
     "output_type": "stream",
     "text": [
      " Allison. I'm a 27 year old flight attendant. I live in Chicago with my cat, Luna. I'm a bit of a hopeless romantic and"
     ]
    },
    {
     "name": "stdout",
     "output_type": "stream",
     "text": [
      " Allison. I'm a 27 year old flight attendant. I live in Chicago with my cat, Luna. I'm a bit of a hopeless romantic and love"
     ]
    },
    {
     "name": "stdout",
     "output_type": "stream",
     "text": [
      " Allison. I'm a 27 year old flight attendant. I live in Chicago with my cat, Luna. I'm a bit of a hopeless romantic and love to"
     ]
    },
    {
     "name": "stdout",
     "output_type": "stream",
     "text": [
      " Allison. I'm a 27 year old flight attendant. I live in Chicago with my cat, Luna. I'm a bit of a hopeless romantic and love to travel"
     ]
    },
    {
     "name": "stdout",
     "output_type": "stream",
     "text": [
      " Allison. I'm a 27 year old flight attendant. I live in Chicago with my cat, Luna. I'm a bit of a hopeless romantic and love to travel."
     ]
    },
    {
     "name": "stdout",
     "output_type": "stream",
     "text": [
      " Allison. I'm a 27 year old flight attendant. I live in Chicago with my cat, Luna. I'm a bit of a hopeless romantic and love to travel. When"
     ]
    },
    {
     "name": "stdout",
     "output_type": "stream",
     "text": [
      " Allison. I'm a 27 year old flight attendant. I live in Chicago with my cat, Luna. I'm a bit of a hopeless romantic and love to travel. When I"
     ]
    },
    {
     "name": "stdout",
     "output_type": "stream",
     "text": [
      " Allison. I'm a 27 year old flight attendant. I live in Chicago with my cat, Luna. I'm a bit of a hopeless romantic and love to travel. When I'm"
     ]
    },
    {
     "name": "stdout",
     "output_type": "stream",
     "text": [
      " Allison. I'm a 27 year old flight attendant. I live in Chicago with my cat, Luna. I'm a bit of a hopeless romantic and love to travel. When I'm not"
     ]
    },
    {
     "name": "stdout",
     "output_type": "stream",
     "text": [
      " Allison. I'm a 27 year old flight attendant. I live in Chicago with my cat, Luna. I'm a bit of a hopeless romantic and love to travel. When I'm not flying"
     ]
    },
    {
     "name": "stdout",
     "output_type": "stream",
     "text": [
      " Allison. I'm a 27 year old flight attendant. I live in Chicago with my cat, Luna. I'm a bit of a hopeless romantic and love to travel. When I'm not flying,"
     ]
    },
    {
     "name": "stdout",
     "output_type": "stream",
     "text": [
      " Allison. I'm a 27 year old flight attendant. I live in Chicago with my cat, Luna. I'm a bit of a hopeless romantic and love to travel. When I'm not flying, you"
     ]
    },
    {
     "name": "stdout",
     "output_type": "stream",
     "text": [
      " Allison. I'm a 27 year old flight attendant. I live in Chicago with my cat, Luna. I'm a bit of a hopeless romantic and love to travel. When I'm not flying, you can"
     ]
    },
    {
     "name": "stdout",
     "output_type": "stream",
     "text": [
      " Allison. I'm a 27 year old flight attendant. I live in Chicago with my cat, Luna. I'm a bit of a hopeless romantic and love to travel. When I'm not flying, you can find"
     ]
    },
    {
     "name": "stdout",
     "output_type": "stream",
     "text": [
      " Allison. I'm a 27 year old flight attendant. I live in Chicago with my cat, Luna. I'm a bit of a hopeless romantic and love to travel. When I'm not flying, you can find me"
     ]
    },
    {
     "name": "stdout",
     "output_type": "stream",
     "text": [
      " Allison. I'm a 27 year old flight attendant. I live in Chicago with my cat, Luna. I'm a bit of a hopeless romantic and love to travel. When I'm not flying, you can find me trying"
     ]
    },
    {
     "name": "stdout",
     "output_type": "stream",
     "text": [
      " Allison. I'm a 27 year old flight attendant. I live in Chicago with my cat, Luna. I'm a bit of a hopeless romantic and love to travel. When I'm not flying, you can find me trying out"
     ]
    },
    {
     "name": "stdout",
     "output_type": "stream",
     "text": [
      " Allison. I'm a 27 year old flight attendant. I live in Chicago with my cat, Luna. I'm a bit of a hopeless romantic and love to travel. When I'm not flying, you can find me trying out new"
     ]
    },
    {
     "name": "stdout",
     "output_type": "stream",
     "text": [
      " Allison. I'm a 27 year old flight attendant. I live in Chicago with my cat, Luna. I'm a bit of a hopeless romantic and love to travel. When I'm not flying, you can find me trying out new restaurants"
     ]
    },
    {
     "name": "stdout",
     "output_type": "stream",
     "text": [
      " Allison. I'm a 27 year old flight attendant. I live in Chicago with my cat, Luna. I'm a bit of a hopeless romantic and love to travel. When I'm not flying, you can find me trying out new restaurants or"
     ]
    },
    {
     "name": "stdout",
     "output_type": "stream",
     "text": [
      " Allison. I'm a 27 year old flight attendant. I live in Chicago with my cat, Luna. I'm a bit of a hopeless romantic and love to travel. When I'm not flying, you can find me trying out new restaurants or breweries"
     ]
    },
    {
     "name": "stdout",
     "output_type": "stream",
     "text": [
      " Allison. I'm a 27 year old flight attendant. I live in Chicago with my cat, Luna. I'm a bit of a hopeless romantic and love to travel. When I'm not flying, you can find me trying out new restaurants or breweries in"
     ]
    },
    {
     "name": "stdout",
     "output_type": "stream",
     "text": [
      " Allison. I'm a 27 year old flight attendant. I live in Chicago with my cat, Luna. I'm a bit of a hopeless romantic and love to travel. When I'm not flying, you can find me trying out new restaurants or breweries in the"
     ]
    },
    {
     "name": "stdout",
     "output_type": "stream",
     "text": [
      " Allison. I'm a 27 year old flight attendant. I live in Chicago with my cat, Luna. I'm a bit of a hopeless romantic and love to travel. When I'm not flying, you can find me trying out new restaurants or breweries in the city"
     ]
    },
    {
     "name": "stdout",
     "output_type": "stream",
     "text": [
      " Allison. I'm a 27 year old flight attendant. I live in Chicago with my cat, Luna. I'm a bit of a hopeless romantic and love to travel. When I'm not flying, you can find me trying out new restaurants or breweries in the city.\n"
     ]
    },
    {
     "name": "stdout",
     "output_type": "stream",
     "text": [
      " Allison. I'm a 27 year old flight attendant. I live in Chicago with my cat, Luna. I'm a bit of a hopeless romantic and love to travel. When I'm not flying, you can find me trying out new restaurants or breweries in the city.\n",
      "I"
     ]
    },
    {
     "name": "stdout",
     "output_type": "stream",
     "text": [
      " Allison. I'm a 27 year old flight attendant. I live in Chicago with my cat, Luna. I'm a bit of a hopeless romantic and love to travel. When I'm not flying, you can find me trying out new restaurants or breweries in the city.\n",
      "I'm"
     ]
    },
    {
     "name": "stdout",
     "output_type": "stream",
     "text": [
      " Allison. I'm a 27 year old flight attendant. I live in Chicago with my cat, Luna. I'm a bit of a hopeless romantic and love to travel. When I'm not flying, you can find me trying out new restaurants or breweries in the city.\n",
      "I'm looking"
     ]
    },
    {
     "name": "stdout",
     "output_type": "stream",
     "text": [
      " Allison. I'm a 27 year old flight attendant. I live in Chicago with my cat, Luna. I'm a bit of a hopeless romantic and love to travel. When I'm not flying, you can find me trying out new restaurants or breweries in the city.\n",
      "I'm looking for"
     ]
    },
    {
     "name": "stdout",
     "output_type": "stream",
     "text": [
      " Allison. I'm a 27 year old flight attendant. I live in Chicago with my cat, Luna. I'm a bit of a hopeless romantic and love to travel. When I'm not flying, you can find me trying out new restaurants or breweries in the city.\n",
      "I'm looking for someone"
     ]
    },
    {
     "name": "stdout",
     "output_type": "stream",
     "text": [
      " Allison. I'm a 27 year old flight attendant. I live in Chicago with my cat, Luna. I'm a bit of a hopeless romantic and love to travel. When I'm not flying, you can find me trying out new restaurants or breweries in the city.\n",
      "I'm looking for someone who"
     ]
    },
    {
     "name": "stdout",
     "output_type": "stream",
     "text": [
      " Allison. I'm a 27 year old flight attendant. I live in Chicago with my cat, Luna. I'm a bit of a hopeless romantic and love to travel. When I'm not flying, you can find me trying out new restaurants or breweries in the city.\n",
      "I'm looking for someone who is"
     ]
    },
    {
     "name": "stdout",
     "output_type": "stream",
     "text": [
      " Allison. I'm a 27 year old flight attendant. I live in Chicago with my cat, Luna. I'm a bit of a hopeless romantic and love to travel. When I'm not flying, you can find me trying out new restaurants or breweries in the city.\n",
      "I'm looking for someone who is kind"
     ]
    },
    {
     "name": "stdout",
     "output_type": "stream",
     "text": [
      " Allison. I'm a 27 year old flight attendant. I live in Chicago with my cat, Luna. I'm a bit of a hopeless romantic and love to travel. When I'm not flying, you can find me trying out new restaurants or breweries in the city.\n",
      "I'm looking for someone who is kind,"
     ]
    },
    {
     "name": "stdout",
     "output_type": "stream",
     "text": [
      " Allison. I'm a 27 year old flight attendant. I live in Chicago with my cat, Luna. I'm a bit of a hopeless romantic and love to travel. When I'm not flying, you can find me trying out new restaurants or breweries in the city.\n",
      "I'm looking for someone who is kind, funny"
     ]
    },
    {
     "name": "stdout",
     "output_type": "stream",
     "text": [
      " Allison. I'm a 27 year old flight attendant. I live in Chicago with my cat, Luna. I'm a bit of a hopeless romantic and love to travel. When I'm not flying, you can find me trying out new restaurants or breweries in the city.\n",
      "I'm looking for someone who is kind, funny,"
     ]
    },
    {
     "name": "stdout",
     "output_type": "stream",
     "text": [
      " Allison. I'm a 27 year old flight attendant. I live in Chicago with my cat, Luna. I'm a bit of a hopeless romantic and love to travel. When I'm not flying, you can find me trying out new restaurants or breweries in the city.\n",
      "I'm looking for someone who is kind, funny, and"
     ]
    },
    {
     "name": "stdout",
     "output_type": "stream",
     "text": [
      " Allison. I'm a 27 year old flight attendant. I live in Chicago with my cat, Luna. I'm a bit of a hopeless romantic and love to travel. When I'm not flying, you can find me trying out new restaurants or breweries in the city.\n",
      "I'm looking for someone who is kind, funny, and loves"
     ]
    },
    {
     "name": "stdout",
     "output_type": "stream",
     "text": [
      " Allison. I'm a 27 year old flight attendant. I live in Chicago with my cat, Luna. I'm a bit of a hopeless romantic and love to travel. When I'm not flying, you can find me trying out new restaurants or breweries in the city.\n",
      "I'm looking for someone who is kind, funny, and loves adventure"
     ]
    },
    {
     "name": "stdout",
     "output_type": "stream",
     "text": [
      " Allison. I'm a 27 year old flight attendant. I live in Chicago with my cat, Luna. I'm a bit of a hopeless romantic and love to travel. When I'm not flying, you can find me trying out new restaurants or breweries in the city.\n",
      "I'm looking for someone who is kind, funny, and loves adventure as"
     ]
    },
    {
     "name": "stdout",
     "output_type": "stream",
     "text": [
      " Allison. I'm a 27 year old flight attendant. I live in Chicago with my cat, Luna. I'm a bit of a hopeless romantic and love to travel. When I'm not flying, you can find me trying out new restaurants or breweries in the city.\n",
      "I'm looking for someone who is kind, funny, and loves adventure as much"
     ]
    },
    {
     "name": "stdout",
     "output_type": "stream",
     "text": [
      " Allison. I'm a 27 year old flight attendant. I live in Chicago with my cat, Luna. I'm a bit of a hopeless romantic and love to travel. When I'm not flying, you can find me trying out new restaurants or breweries in the city.\n",
      "I'm looking for someone who is kind, funny, and loves adventure as much as"
     ]
    },
    {
     "name": "stdout",
     "output_type": "stream",
     "text": [
      " Allison. I'm a 27 year old flight attendant. I live in Chicago with my cat, Luna. I'm a bit of a hopeless romantic and love to travel. When I'm not flying, you can find me trying out new restaurants or breweries in the city.\n",
      "I'm looking for someone who is kind, funny, and loves adventure as much as I"
     ]
    },
    {
     "name": "stdout",
     "output_type": "stream",
     "text": [
      " Allison. I'm a 27 year old flight attendant. I live in Chicago with my cat, Luna. I'm a bit of a hopeless romantic and love to travel. When I'm not flying, you can find me trying out new restaurants or breweries in the city.\n",
      "I'm looking for someone who is kind, funny, and loves adventure as much as I do"
     ]
    },
    {
     "name": "stdout",
     "output_type": "stream",
     "text": [
      " Allison. I'm a 27 year old flight attendant. I live in Chicago with my cat, Luna. I'm a bit of a hopeless romantic and love to travel. When I'm not flying, you can find me trying out new restaurants or breweries in the city.\n",
      "I'm looking for someone who is kind, funny, and loves adventure as much as I do."
     ]
    },
    {
     "name": "stdout",
     "output_type": "stream",
     "text": [
      " Allison. I'm a 27 year old flight attendant. I live in Chicago with my cat, Luna. I'm a bit of a hopeless romantic and love to travel. When I'm not flying, you can find me trying out new restaurants or breweries in the city.\n",
      "I'm looking for someone who is kind, funny, and loves adventure as much as I do. If"
     ]
    },
    {
     "name": "stdout",
     "output_type": "stream",
     "text": [
      " Allison. I'm a 27 year old flight attendant. I live in Chicago with my cat, Luna. I'm a bit of a hopeless romantic and love to travel. When I'm not flying, you can find me trying out new restaurants or breweries in the city.\n",
      "I'm looking for someone who is kind, funny, and loves adventure as much as I do. If you"
     ]
    },
    {
     "name": "stdout",
     "output_type": "stream",
     "text": [
      " Allison. I'm a 27 year old flight attendant. I live in Chicago with my cat, Luna. I'm a bit of a hopeless romantic and love to travel. When I'm not flying, you can find me trying out new restaurants or breweries in the city.\n",
      "I'm looking for someone who is kind, funny, and loves adventure as much as I do. If you can"
     ]
    },
    {
     "name": "stdout",
     "output_type": "stream",
     "text": [
      " Allison. I'm a 27 year old flight attendant. I live in Chicago with my cat, Luna. I'm a bit of a hopeless romantic and love to travel. When I'm not flying, you can find me trying out new restaurants or breweries in the city.\n",
      "I'm looking for someone who is kind, funny, and loves adventure as much as I do. If you can quote"
     ]
    },
    {
     "name": "stdout",
     "output_type": "stream",
     "text": [
      " Allison. I'm a 27 year old flight attendant. I live in Chicago with my cat, Luna. I'm a bit of a hopeless romantic and love to travel. When I'm not flying, you can find me trying out new restaurants or breweries in the city.\n",
      "I'm looking for someone who is kind, funny, and loves adventure as much as I do. If you can quote The"
     ]
    },
    {
     "name": "stdout",
     "output_type": "stream",
     "text": [
      " Allison. I'm a 27 year old flight attendant. I live in Chicago with my cat, Luna. I'm a bit of a hopeless romantic and love to travel. When I'm not flying, you can find me trying out new restaurants or breweries in the city.\n",
      "I'm looking for someone who is kind, funny, and loves adventure as much as I do. If you can quote The Office"
     ]
    },
    {
     "name": "stdout",
     "output_type": "stream",
     "text": [
      " Allison. I'm a 27 year old flight attendant. I live in Chicago with my cat, Luna. I'm a bit of a hopeless romantic and love to travel. When I'm not flying, you can find me trying out new restaurants or breweries in the city.\n",
      "I'm looking for someone who is kind, funny, and loves adventure as much as I do. If you can quote The Office or"
     ]
    },
    {
     "name": "stdout",
     "output_type": "stream",
     "text": [
      " Allison. I'm a 27 year old flight attendant. I live in Chicago with my cat, Luna. I'm a bit of a hopeless romantic and love to travel. When I'm not flying, you can find me trying out new restaurants or breweries in the city.\n",
      "I'm looking for someone who is kind, funny, and loves adventure as much as I do. If you can quote The Office or are"
     ]
    },
    {
     "name": "stdout",
     "output_type": "stream",
     "text": [
      " Allison. I'm a 27 year old flight attendant. I live in Chicago with my cat, Luna. I'm a bit of a hopeless romantic and love to travel. When I'm not flying, you can find me trying out new restaurants or breweries in the city.\n",
      "I'm looking for someone who is kind, funny, and loves adventure as much as I do. If you can quote The Office or are a"
     ]
    },
    {
     "name": "stdout",
     "output_type": "stream",
     "text": [
      " Allison. I'm a 27 year old flight attendant. I live in Chicago with my cat, Luna. I'm a bit of a hopeless romantic and love to travel. When I'm not flying, you can find me trying out new restaurants or breweries in the city.\n",
      "I'm looking for someone who is kind, funny, and loves adventure as much as I do. If you can quote The Office or are a fan"
     ]
    },
    {
     "name": "stdout",
     "output_type": "stream",
     "text": [
      " Allison. I'm a 27 year old flight attendant. I live in Chicago with my cat, Luna. I'm a bit of a hopeless romantic and love to travel. When I'm not flying, you can find me trying out new restaurants or breweries in the city.\n",
      "I'm looking for someone who is kind, funny, and loves adventure as much as I do. If you can quote The Office or are a fan of"
     ]
    },
    {
     "name": "stdout",
     "output_type": "stream",
     "text": [
      " Allison. I'm a 27 year old flight attendant. I live in Chicago with my cat, Luna. I'm a bit of a hopeless romantic and love to travel. When I'm not flying, you can find me trying out new restaurants or breweries in the city.\n",
      "I'm looking for someone who is kind, funny, and loves adventure as much as I do. If you can quote The Office or are a fan of The"
     ]
    },
    {
     "name": "stdout",
     "output_type": "stream",
     "text": [
      " Allison. I'm a 27 year old flight attendant. I live in Chicago with my cat, Luna. I'm a bit of a hopeless romantic and love to travel. When I'm not flying, you can find me trying out new restaurants or breweries in the city.\n",
      "I'm looking for someone who is kind, funny, and loves adventure as much as I do. If you can quote The Office or are a fan of The Great"
     ]
    },
    {
     "name": "stdout",
     "output_type": "stream",
     "text": [
      " Allison. I'm a 27 year old flight attendant. I live in Chicago with my cat, Luna. I'm a bit of a hopeless romantic and love to travel. When I'm not flying, you can find me trying out new restaurants or breweries in the city.\n",
      "I'm looking for someone who is kind, funny, and loves adventure as much as I do. If you can quote The Office or are a fan of The Great British"
     ]
    },
    {
     "name": "stdout",
     "output_type": "stream",
     "text": [
      " Allison. I'm a 27 year old flight attendant. I live in Chicago with my cat, Luna. I'm a bit of a hopeless romantic and love to travel. When I'm not flying, you can find me trying out new restaurants or breweries in the city.\n",
      "I'm looking for someone who is kind, funny, and loves adventure as much as I do. If you can quote The Office or are a fan of The Great British B"
     ]
    },
    {
     "name": "stdout",
     "output_type": "stream",
     "text": [
      " Allison. I'm a 27 year old flight attendant. I live in Chicago with my cat, Luna. I'm a bit of a hopeless romantic and love to travel. When I'm not flying, you can find me trying out new restaurants or breweries in the city.\n",
      "I'm looking for someone who is kind, funny, and loves adventure as much as I do. If you can quote The Office or are a fan of The Great British Baking"
     ]
    },
    {
     "name": "stdout",
     "output_type": "stream",
     "text": [
      " Allison. I'm a 27 year old flight attendant. I live in Chicago with my cat, Luna. I'm a bit of a hopeless romantic and love to travel. When I'm not flying, you can find me trying out new restaurants or breweries in the city.\n",
      "I'm looking for someone who is kind, funny, and loves adventure as much as I do. If you can quote The Office or are a fan of The Great British Baking Show"
     ]
    },
    {
     "name": "stdout",
     "output_type": "stream",
     "text": [
      " Allison. I'm a 27 year old flight attendant. I live in Chicago with my cat, Luna. I'm a bit of a hopeless romantic and love to travel. When I'm not flying, you can find me trying out new restaurants or breweries in the city.\n",
      "I'm looking for someone who is kind, funny, and loves adventure as much as I do. If you can quote The Office or are a fan of The Great British Baking Show,"
     ]
    },
    {
     "name": "stdout",
     "output_type": "stream",
     "text": [
      " Allison. I'm a 27 year old flight attendant. I live in Chicago with my cat, Luna. I'm a bit of a hopeless romantic and love to travel. When I'm not flying, you can find me trying out new restaurants or breweries in the city.\n",
      "I'm looking for someone who is kind, funny, and loves adventure as much as I do. If you can quote The Office or are a fan of The Great British Baking Show, we"
     ]
    },
    {
     "name": "stdout",
     "output_type": "stream",
     "text": [
      " Allison. I'm a 27 year old flight attendant. I live in Chicago with my cat, Luna. I'm a bit of a hopeless romantic and love to travel. When I'm not flying, you can find me trying out new restaurants or breweries in the city.\n",
      "I'm looking for someone who is kind, funny, and loves adventure as much as I do. If you can quote The Office or are a fan of The Great British Baking Show, we're"
     ]
    },
    {
     "name": "stdout",
     "output_type": "stream",
     "text": [
      " Allison. I'm a 27 year old flight attendant. I live in Chicago with my cat, Luna. I'm a bit of a hopeless romantic and love to travel. When I'm not flying, you can find me trying out new restaurants or breweries in the city.\n",
      "I'm looking for someone who is kind, funny, and loves adventure as much as I do. If you can quote The Office or are a fan of The Great British Baking Show, we're off"
     ]
    },
    {
     "name": "stdout",
     "output_type": "stream",
     "text": [
      " Allison. I'm a 27 year old flight attendant. I live in Chicago with my cat, Luna. I'm a bit of a hopeless romantic and love to travel. When I'm not flying, you can find me trying out new restaurants or breweries in the city.\n",
      "I'm looking for someone who is kind, funny, and loves adventure as much as I do. If you can quote The Office or are a fan of The Great British Baking Show, we're off to"
     ]
    },
    {
     "name": "stdout",
     "output_type": "stream",
     "text": [
      " Allison. I'm a 27 year old flight attendant. I live in Chicago with my cat, Luna. I'm a bit of a hopeless romantic and love to travel. When I'm not flying, you can find me trying out new restaurants or breweries in the city.\n",
      "I'm looking for someone who is kind, funny, and loves adventure as much as I do. If you can quote The Office or are a fan of The Great British Baking Show, we're off to a"
     ]
    },
    {
     "name": "stdout",
     "output_type": "stream",
     "text": [
      " Allison. I'm a 27 year old flight attendant. I live in Chicago with my cat, Luna. I'm a bit of a hopeless romantic and love to travel. When I'm not flying, you can find me trying out new restaurants or breweries in the city.\n",
      "I'm looking for someone who is kind, funny, and loves adventure as much as I do. If you can quote The Office or are a fan of The Great British Baking Show, we're off to a great"
     ]
    },
    {
     "name": "stdout",
     "output_type": "stream",
     "text": [
      " Allison. I'm a 27 year old flight attendant. I live in Chicago with my cat, Luna. I'm a bit of a hopeless romantic and love to travel. When I'm not flying, you can find me trying out new restaurants or breweries in the city.\n",
      "I'm looking for someone who is kind, funny, and loves adventure as much as I do. If you can quote The Office or are a fan of The Great British Baking Show, we're off to a great start"
     ]
    },
    {
     "name": "stdout",
     "output_type": "stream",
     "text": [
      " Allison. I'm a 27 year old flight attendant. I live in Chicago with my cat, Luna. I'm a bit of a hopeless romantic and love to travel. When I'm not flying, you can find me trying out new restaurants or breweries in the city.\n",
      "I'm looking for someone who is kind, funny, and loves adventure as much as I do. If you can quote The Office or are a fan of The Great British Baking Show, we're off to a great start."
     ]
    },
    {
     "name": "stdout",
     "output_type": "stream",
     "text": [
      " Allison. I'm a 27 year old flight attendant. I live in Chicago with my cat, Luna. I'm a bit of a hopeless romantic and love to travel. When I'm not flying, you can find me trying out new restaurants or breweries in the city.\n",
      "I'm looking for someone who is kind, funny, and loves adventure as much as I do. If you can quote The Office or are a fan of The Great British Baking Show, we're off to a great start. I"
     ]
    },
    {
     "name": "stdout",
     "output_type": "stream",
     "text": [
      " Allison. I'm a 27 year old flight attendant. I live in Chicago with my cat, Luna. I'm a bit of a hopeless romantic and love to travel. When I'm not flying, you can find me trying out new restaurants or breweries in the city.\n",
      "I'm looking for someone who is kind, funny, and loves adventure as much as I do. If you can quote The Office or are a fan of The Great British Baking Show, we're off to a great start. I'm"
     ]
    },
    {
     "name": "stdout",
     "output_type": "stream",
     "text": [
      " Allison. I'm a 27 year old flight attendant. I live in Chicago with my cat, Luna. I'm a bit of a hopeless romantic and love to travel. When I'm not flying, you can find me trying out new restaurants or breweries in the city.\n",
      "I'm looking for someone who is kind, funny, and loves adventure as much as I do. If you can quote The Office or are a fan of The Great British Baking Show, we're off to a great start. I'm not"
     ]
    },
    {
     "name": "stdout",
     "output_type": "stream",
     "text": [
      " Allison. I'm a 27 year old flight attendant. I live in Chicago with my cat, Luna. I'm a bit of a hopeless romantic and love to travel. When I'm not flying, you can find me trying out new restaurants or breweries in the city.\n",
      "I'm looking for someone who is kind, funny, and loves adventure as much as I do. If you can quote The Office or are a fan of The Great British Baking Show, we're off to a great start. I'm not looking"
     ]
    },
    {
     "name": "stdout",
     "output_type": "stream",
     "text": [
      " Allison. I'm a 27 year old flight attendant. I live in Chicago with my cat, Luna. I'm a bit of a hopeless romantic and love to travel. When I'm not flying, you can find me trying out new restaurants or breweries in the city.\n",
      "I'm looking for someone who is kind, funny, and loves adventure as much as I do. If you can quote The Office or are a fan of The Great British Baking Show, we're off to a great start. I'm not looking for"
     ]
    },
    {
     "name": "stdout",
     "output_type": "stream",
     "text": [
      " Allison. I'm a 27 year old flight attendant. I live in Chicago with my cat, Luna. I'm a bit of a hopeless romantic and love to travel. When I'm not flying, you can find me trying out new restaurants or breweries in the city.\n",
      "I'm looking for someone who is kind, funny, and loves adventure as much as I do. If you can quote The Office or are a fan of The Great British Baking Show, we're off to a great start. I'm not looking for anything"
     ]
    },
    {
     "name": "stdout",
     "output_type": "stream",
     "text": [
      " Allison. I'm a 27 year old flight attendant. I live in Chicago with my cat, Luna. I'm a bit of a hopeless romantic and love to travel. When I'm not flying, you can find me trying out new restaurants or breweries in the city.\n",
      "I'm looking for someone who is kind, funny, and loves adventure as much as I do. If you can quote The Office or are a fan of The Great British Baking Show, we're off to a great start. I'm not looking for anything serious"
     ]
    },
    {
     "name": "stdout",
     "output_type": "stream",
     "text": [
      " Allison. I'm a 27 year old flight attendant. I live in Chicago with my cat, Luna. I'm a bit of a hopeless romantic and love to travel. When I'm not flying, you can find me trying out new restaurants or breweries in the city.\n",
      "I'm looking for someone who is kind, funny, and loves adventure as much as I do. If you can quote The Office or are a fan of The Great British Baking Show, we're off to a great start. I'm not looking for anything serious,"
     ]
    },
    {
     "name": "stdout",
     "output_type": "stream",
     "text": [
      " Allison. I'm a 27 year old flight attendant. I live in Chicago with my cat, Luna. I'm a bit of a hopeless romantic and love to travel. When I'm not flying, you can find me trying out new restaurants or breweries in the city.\n",
      "I'm looking for someone who is kind, funny, and loves adventure as much as I do. If you can quote The Office or are a fan of The Great British Baking Show, we're off to a great start. I'm not looking for anything serious, just"
     ]
    },
    {
     "name": "stdout",
     "output_type": "stream",
     "text": [
      " Allison. I'm a 27 year old flight attendant. I live in Chicago with my cat, Luna. I'm a bit of a hopeless romantic and love to travel. When I'm not flying, you can find me trying out new restaurants or breweries in the city.\n",
      "I'm looking for someone who is kind, funny, and loves adventure as much as I do. If you can quote The Office or are a fan of The Great British Baking Show, we're off to a great start. I'm not looking for anything serious, just someone"
     ]
    },
    {
     "name": "stdout",
     "output_type": "stream",
     "text": [
      " Allison. I'm a 27 year old flight attendant. I live in Chicago with my cat, Luna. I'm a bit of a hopeless romantic and love to travel. When I'm not flying, you can find me trying out new restaurants or breweries in the city.\n",
      "I'm looking for someone who is kind, funny, and loves adventure as much as I do. If you can quote The Office or are a fan of The Great British Baking Show, we're off to a great start. I'm not looking for anything serious, just someone to"
     ]
    },
    {
     "name": "stdout",
     "output_type": "stream",
     "text": [
      " Allison. I'm a 27 year old flight attendant. I live in Chicago with my cat, Luna. I'm a bit of a hopeless romantic and love to travel. When I'm not flying, you can find me trying out new restaurants or breweries in the city.\n",
      "I'm looking for someone who is kind, funny, and loves adventure as much as I do. If you can quote The Office or are a fan of The Great British Baking Show, we're off to a great start. I'm not looking for anything serious, just someone to enjoy"
     ]
    },
    {
     "name": "stdout",
     "output_type": "stream",
     "text": [
      " Allison. I'm a 27 year old flight attendant. I live in Chicago with my cat, Luna. I'm a bit of a hopeless romantic and love to travel. When I'm not flying, you can find me trying out new restaurants or breweries in the city.\n",
      "I'm looking for someone who is kind, funny, and loves adventure as much as I do. If you can quote The Office or are a fan of The Great British Baking Show, we're off to a great start. I'm not looking for anything serious, just someone to enjoy the"
     ]
    },
    {
     "name": "stdout",
     "output_type": "stream",
     "text": [
      " Allison. I'm a 27 year old flight attendant. I live in Chicago with my cat, Luna. I'm a bit of a hopeless romantic and love to travel. When I'm not flying, you can find me trying out new restaurants or breweries in the city.\n",
      "I'm looking for someone who is kind, funny, and loves adventure as much as I do. If you can quote The Office or are a fan of The Great British Baking Show, we're off to a great start. I'm not looking for anything serious, just someone to enjoy the city"
     ]
    },
    {
     "name": "stdout",
     "output_type": "stream",
     "text": [
      " Allison. I'm a 27 year old flight attendant. I live in Chicago with my cat, Luna. I'm a bit of a hopeless romantic and love to travel. When I'm not flying, you can find me trying out new restaurants or breweries in the city.\n",
      "I'm looking for someone who is kind, funny, and loves adventure as much as I do. If you can quote The Office or are a fan of The Great British Baking Show, we're off to a great start. I'm not looking for anything serious, just someone to enjoy the city with"
     ]
    },
    {
     "name": "stdout",
     "output_type": "stream",
     "text": [
      " Allison. I'm a 27 year old flight attendant. I live in Chicago with my cat, Luna. I'm a bit of a hopeless romantic and love to travel. When I'm not flying, you can find me trying out new restaurants or breweries in the city.\n",
      "I'm looking for someone who is kind, funny, and loves adventure as much as I do. If you can quote The Office or are a fan of The Great British Baking Show, we're off to a great start. I'm not looking for anything serious, just someone to enjoy the city with and"
     ]
    },
    {
     "name": "stdout",
     "output_type": "stream",
     "text": [
      " Allison. I'm a 27 year old flight attendant. I live in Chicago with my cat, Luna. I'm a bit of a hopeless romantic and love to travel. When I'm not flying, you can find me trying out new restaurants or breweries in the city.\n",
      "I'm looking for someone who is kind, funny, and loves adventure as much as I do. If you can quote The Office or are a fan of The Great British Baking Show, we're off to a great start. I'm not looking for anything serious, just someone to enjoy the city with and maybe"
     ]
    },
    {
     "name": "stdout",
     "output_type": "stream",
     "text": [
      " Allison. I'm a 27 year old flight attendant. I live in Chicago with my cat, Luna. I'm a bit of a hopeless romantic and love to travel. When I'm not flying, you can find me trying out new restaurants or breweries in the city.\n",
      "I'm looking for someone who is kind, funny, and loves adventure as much as I do. If you can quote The Office or are a fan of The Great British Baking Show, we're off to a great start. I'm not looking for anything serious, just someone to enjoy the city with and maybe go"
     ]
    },
    {
     "name": "stdout",
     "output_type": "stream",
     "text": [
      " Allison. I'm a 27 year old flight attendant. I live in Chicago with my cat, Luna. I'm a bit of a hopeless romantic and love to travel. When I'm not flying, you can find me trying out new restaurants or breweries in the city.\n",
      "I'm looking for someone who is kind, funny, and loves adventure as much as I do. If you can quote The Office or are a fan of The Great British Baking Show, we're off to a great start. I'm not looking for anything serious, just someone to enjoy the city with and maybe go on"
     ]
    },
    {
     "name": "stdout",
     "output_type": "stream",
     "text": [
      " Allison. I'm a 27 year old flight attendant. I live in Chicago with my cat, Luna. I'm a bit of a hopeless romantic and love to travel. When I'm not flying, you can find me trying out new restaurants or breweries in the city.\n",
      "I'm looking for someone who is kind, funny, and loves adventure as much as I do. If you can quote The Office or are a fan of The Great British Baking Show, we're off to a great start. I'm not looking for anything serious, just someone to enjoy the city with and maybe go on a"
     ]
    },
    {
     "name": "stdout",
     "output_type": "stream",
     "text": [
      " Allison. I'm a 27 year old flight attendant. I live in Chicago with my cat, Luna. I'm a bit of a hopeless romantic and love to travel. When I'm not flying, you can find me trying out new restaurants or breweries in the city.\n",
      "I'm looking for someone who is kind, funny, and loves adventure as much as I do. If you can quote The Office or are a fan of The Great British Baking Show, we're off to a great start. I'm not looking for anything serious, just someone to enjoy the city with and maybe go on a few"
     ]
    },
    {
     "name": "stdout",
     "output_type": "stream",
     "text": [
      " Allison. I'm a 27 year old flight attendant. I live in Chicago with my cat, Luna. I'm a bit of a hopeless romantic and love to travel. When I'm not flying, you can find me trying out new restaurants or breweries in the city.\n",
      "I'm looking for someone who is kind, funny, and loves adventure as much as I do. If you can quote The Office or are a fan of The Great British Baking Show, we're off to a great start. I'm not looking for anything serious, just someone to enjoy the city with and maybe go on a few trips"
     ]
    },
    {
     "name": "stdout",
     "output_type": "stream",
     "text": [
      " Allison. I'm a 27 year old flight attendant. I live in Chicago with my cat, Luna. I'm a bit of a hopeless romantic and love to travel. When I'm not flying, you can find me trying out new restaurants or breweries in the city.\n",
      "I'm looking for someone who is kind, funny, and loves adventure as much as I do. If you can quote The Office or are a fan of The Great British Baking Show, we're off to a great start. I'm not looking for anything serious, just someone to enjoy the city with and maybe go on a few trips together"
     ]
    },
    {
     "name": "stdout",
     "output_type": "stream",
     "text": [
      " Allison. I'm a 27 year old flight attendant. I live in Chicago with my cat, Luna. I'm a bit of a hopeless romantic and love to travel. When I'm not flying, you can find me trying out new restaurants or breweries in the city.\n",
      "I'm looking for someone who is kind, funny, and loves adventure as much as I do. If you can quote The Office or are a fan of The Great British Baking Show, we're off to a great start. I'm not looking for anything serious, just someone to enjoy the city with and maybe go on a few trips together."
     ]
    },
    {
     "name": "stdout",
     "output_type": "stream",
     "text": [
      " Allison. I'm a 27 year old flight attendant. I live in Chicago with my cat, Luna. I'm a bit of a hopeless romantic and love to travel. When I'm not flying, you can find me trying out new restaurants or breweries in the city.\n",
      "I'm looking for someone who is kind, funny, and loves adventure as much as I do. If you can quote The Office or are a fan of The Great British Baking Show, we're off to a great start. I'm not looking for anything serious, just someone to enjoy the city with and maybe go on a few trips together. Let"
     ]
    },
    {
     "name": "stdout",
     "output_type": "stream",
     "text": [
      " Allison. I'm a 27 year old flight attendant. I live in Chicago with my cat, Luna. I'm a bit of a hopeless romantic and love to travel. When I'm not flying, you can find me trying out new restaurants or breweries in the city.\n",
      "I'm looking for someone who is kind, funny, and loves adventure as much as I do. If you can quote The Office or are a fan of The Great British Baking Show, we're off to a great start. I'm not looking for anything serious, just someone to enjoy the city with and maybe go on a few trips together. Let's"
     ]
    },
    {
     "name": "stdout",
     "output_type": "stream",
     "text": [
      " Allison. I'm a 27 year old flight attendant. I live in Chicago with my cat, Luna. I'm a bit of a hopeless romantic and love to travel. When I'm not flying, you can find me trying out new restaurants or breweries in the city.\n",
      "I'm looking for someone who is kind, funny, and loves adventure as much as I do. If you can quote The Office or are a fan of The Great British Baking Show, we're off to a great start. I'm not looking for anything serious, just someone to enjoy the city with and maybe go on a few trips together. Let's grab"
     ]
    },
    {
     "name": "stdout",
     "output_type": "stream",
     "text": [
      "\n",
      "\n",
      "Prompt: The capital of France is\n",
      "Generated text: "
     ]
    },
    {
     "name": "stdout",
     "output_type": "stream",
     "text": [
      ","
     ]
    },
    {
     "name": "stdout",
     "output_type": "stream",
     "text": [
      ", of"
     ]
    },
    {
     "name": "stdout",
     "output_type": "stream",
     "text": [
      ", of course"
     ]
    },
    {
     "name": "stdout",
     "output_type": "stream",
     "text": [
      ", of course,"
     ]
    },
    {
     "name": "stdout",
     "output_type": "stream",
     "text": [
      ", of course, Paris"
     ]
    },
    {
     "name": "stdout",
     "output_type": "stream",
     "text": [
      ", of course, Paris."
     ]
    },
    {
     "name": "stdout",
     "output_type": "stream",
     "text": [
      ", of course, Paris. It"
     ]
    },
    {
     "name": "stdout",
     "output_type": "stream",
     "text": [
      ", of course, Paris. It is"
     ]
    },
    {
     "name": "stdout",
     "output_type": "stream",
     "text": [
      ", of course, Paris. It is a"
     ]
    },
    {
     "name": "stdout",
     "output_type": "stream",
     "text": [
      ", of course, Paris. It is a global"
     ]
    },
    {
     "name": "stdout",
     "output_type": "stream",
     "text": [
      ", of course, Paris. It is a global hub"
     ]
    },
    {
     "name": "stdout",
     "output_type": "stream",
     "text": [
      ", of course, Paris. It is a global hub for"
     ]
    },
    {
     "name": "stdout",
     "output_type": "stream",
     "text": [
      ", of course, Paris. It is a global hub for art"
     ]
    },
    {
     "name": "stdout",
     "output_type": "stream",
     "text": [
      ", of course, Paris. It is a global hub for art,"
     ]
    },
    {
     "name": "stdout",
     "output_type": "stream",
     "text": [
      ", of course, Paris. It is a global hub for art, fashion"
     ]
    },
    {
     "name": "stdout",
     "output_type": "stream",
     "text": [
      ", of course, Paris. It is a global hub for art, fashion,"
     ]
    },
    {
     "name": "stdout",
     "output_type": "stream",
     "text": [
      ", of course, Paris. It is a global hub for art, fashion, and"
     ]
    },
    {
     "name": "stdout",
     "output_type": "stream",
     "text": [
      ", of course, Paris. It is a global hub for art, fashion, and culture"
     ]
    },
    {
     "name": "stdout",
     "output_type": "stream",
     "text": [
      ", of course, Paris. It is a global hub for art, fashion, and culture and"
     ]
    },
    {
     "name": "stdout",
     "output_type": "stream",
     "text": [
      ", of course, Paris. It is a global hub for art, fashion, and culture and is"
     ]
    },
    {
     "name": "stdout",
     "output_type": "stream",
     "text": [
      ", of course, Paris. It is a global hub for art, fashion, and culture and is known"
     ]
    },
    {
     "name": "stdout",
     "output_type": "stream",
     "text": [
      ", of course, Paris. It is a global hub for art, fashion, and culture and is known for"
     ]
    },
    {
     "name": "stdout",
     "output_type": "stream",
     "text": [
      ", of course, Paris. It is a global hub for art, fashion, and culture and is known for its"
     ]
    },
    {
     "name": "stdout",
     "output_type": "stream",
     "text": [
      ", of course, Paris. It is a global hub for art, fashion, and culture and is known for its iconic"
     ]
    },
    {
     "name": "stdout",
     "output_type": "stream",
     "text": [
      ", of course, Paris. It is a global hub for art, fashion, and culture and is known for its iconic landmarks"
     ]
    },
    {
     "name": "stdout",
     "output_type": "stream",
     "text": [
      ", of course, Paris. It is a global hub for art, fashion, and culture and is known for its iconic landmarks like"
     ]
    },
    {
     "name": "stdout",
     "output_type": "stream",
     "text": [
      ", of course, Paris. It is a global hub for art, fashion, and culture and is known for its iconic landmarks like the"
     ]
    },
    {
     "name": "stdout",
     "output_type": "stream",
     "text": [
      ", of course, Paris. It is a global hub for art, fashion, and culture and is known for its iconic landmarks like the E"
     ]
    },
    {
     "name": "stdout",
     "output_type": "stream",
     "text": [
      ", of course, Paris. It is a global hub for art, fashion, and culture and is known for its iconic landmarks like the Eiff"
     ]
    },
    {
     "name": "stdout",
     "output_type": "stream",
     "text": [
      ", of course, Paris. It is a global hub for art, fashion, and culture and is known for its iconic landmarks like the Eiffel"
     ]
    },
    {
     "name": "stdout",
     "output_type": "stream",
     "text": [
      ", of course, Paris. It is a global hub for art, fashion, and culture and is known for its iconic landmarks like the Eiffel Tower"
     ]
    },
    {
     "name": "stdout",
     "output_type": "stream",
     "text": [
      ", of course, Paris. It is a global hub for art, fashion, and culture and is known for its iconic landmarks like the Eiffel Tower and"
     ]
    },
    {
     "name": "stdout",
     "output_type": "stream",
     "text": [
      ", of course, Paris. It is a global hub for art, fashion, and culture and is known for its iconic landmarks like the Eiffel Tower and the"
     ]
    },
    {
     "name": "stdout",
     "output_type": "stream",
     "text": [
      ", of course, Paris. It is a global hub for art, fashion, and culture and is known for its iconic landmarks like the Eiffel Tower and the Lou"
     ]
    },
    {
     "name": "stdout",
     "output_type": "stream",
     "text": [
      ", of course, Paris. It is a global hub for art, fashion, and culture and is known for its iconic landmarks like the Eiffel Tower and the Louvre"
     ]
    },
    {
     "name": "stdout",
     "output_type": "stream",
     "text": [
      ", of course, Paris. It is a global hub for art, fashion, and culture and is known for its iconic landmarks like the Eiffel Tower and the Louvre Museum"
     ]
    },
    {
     "name": "stdout",
     "output_type": "stream",
     "text": [
      ", of course, Paris. It is a global hub for art, fashion, and culture and is known for its iconic landmarks like the Eiffel Tower and the Louvre Museum."
     ]
    },
    {
     "name": "stdout",
     "output_type": "stream",
     "text": [
      ", of course, Paris. It is a global hub for art, fashion, and culture and is known for its iconic landmarks like the Eiffel Tower and the Louvre Museum. It"
     ]
    },
    {
     "name": "stdout",
     "output_type": "stream",
     "text": [
      ", of course, Paris. It is a global hub for art, fashion, and culture and is known for its iconic landmarks like the Eiffel Tower and the Louvre Museum. It has"
     ]
    },
    {
     "name": "stdout",
     "output_type": "stream",
     "text": [
      ", of course, Paris. It is a global hub for art, fashion, and culture and is known for its iconic landmarks like the Eiffel Tower and the Louvre Museum. It has also"
     ]
    },
    {
     "name": "stdout",
     "output_type": "stream",
     "text": [
      ", of course, Paris. It is a global hub for art, fashion, and culture and is known for its iconic landmarks like the Eiffel Tower and the Louvre Museum. It has also been"
     ]
    },
    {
     "name": "stdout",
     "output_type": "stream",
     "text": [
      ", of course, Paris. It is a global hub for art, fashion, and culture and is known for its iconic landmarks like the Eiffel Tower and the Louvre Museum. It has also been the"
     ]
    },
    {
     "name": "stdout",
     "output_type": "stream",
     "text": [
      ", of course, Paris. It is a global hub for art, fashion, and culture and is known for its iconic landmarks like the Eiffel Tower and the Louvre Museum. It has also been the capital"
     ]
    },
    {
     "name": "stdout",
     "output_type": "stream",
     "text": [
      ", of course, Paris. It is a global hub for art, fashion, and culture and is known for its iconic landmarks like the Eiffel Tower and the Louvre Museum. It has also been the capital of"
     ]
    },
    {
     "name": "stdout",
     "output_type": "stream",
     "text": [
      ", of course, Paris. It is a global hub for art, fashion, and culture and is known for its iconic landmarks like the Eiffel Tower and the Louvre Museum. It has also been the capital of France"
     ]
    },
    {
     "name": "stdout",
     "output_type": "stream",
     "text": [
      ", of course, Paris. It is a global hub for art, fashion, and culture and is known for its iconic landmarks like the Eiffel Tower and the Louvre Museum. It has also been the capital of France since"
     ]
    },
    {
     "name": "stdout",
     "output_type": "stream",
     "text": [
      ", of course, Paris. It is a global hub for art, fashion, and culture and is known for its iconic landmarks like the Eiffel Tower and the Louvre Museum. It has also been the capital of France since "
     ]
    },
    {
     "name": "stdout",
     "output_type": "stream",
     "text": [
      ", of course, Paris. It is a global hub for art, fashion, and culture and is known for its iconic landmarks like the Eiffel Tower and the Louvre Museum. It has also been the capital of France since 987"
     ]
    },
    {
     "name": "stdout",
     "output_type": "stream",
     "text": [
      ", of course, Paris. It is a global hub for art, fashion, and culture and is known for its iconic landmarks like the Eiffel Tower and the Louvre Museum. It has also been the capital of France since 987."
     ]
    },
    {
     "name": "stdout",
     "output_type": "stream",
     "text": [
      ", of course, Paris. It is a global hub for art, fashion, and culture and is known for its iconic landmarks like the Eiffel Tower and the Louvre Museum. It has also been the capital of France since 987. The"
     ]
    },
    {
     "name": "stdout",
     "output_type": "stream",
     "text": [
      ", of course, Paris. It is a global hub for art, fashion, and culture and is known for its iconic landmarks like the Eiffel Tower and the Louvre Museum. It has also been the capital of France since 987. The city"
     ]
    },
    {
     "name": "stdout",
     "output_type": "stream",
     "text": [
      ", of course, Paris. It is a global hub for art, fashion, and culture and is known for its iconic landmarks like the Eiffel Tower and the Louvre Museum. It has also been the capital of France since 987. The city is"
     ]
    },
    {
     "name": "stdout",
     "output_type": "stream",
     "text": [
      ", of course, Paris. It is a global hub for art, fashion, and culture and is known for its iconic landmarks like the Eiffel Tower and the Louvre Museum. It has also been the capital of France since 987. The city is home"
     ]
    },
    {
     "name": "stdout",
     "output_type": "stream",
     "text": [
      ", of course, Paris. It is a global hub for art, fashion, and culture and is known for its iconic landmarks like the Eiffel Tower and the Louvre Museum. It has also been the capital of France since 987. The city is home to"
     ]
    },
    {
     "name": "stdout",
     "output_type": "stream",
     "text": [
      ", of course, Paris. It is a global hub for art, fashion, and culture and is known for its iconic landmarks like the Eiffel Tower and the Louvre Museum. It has also been the capital of France since 987. The city is home to many"
     ]
    },
    {
     "name": "stdout",
     "output_type": "stream",
     "text": [
      ", of course, Paris. It is a global hub for art, fashion, and culture and is known for its iconic landmarks like the Eiffel Tower and the Louvre Museum. It has also been the capital of France since 987. The city is home to many museums"
     ]
    },
    {
     "name": "stdout",
     "output_type": "stream",
     "text": [
      ", of course, Paris. It is a global hub for art, fashion, and culture and is known for its iconic landmarks like the Eiffel Tower and the Louvre Museum. It has also been the capital of France since 987. The city is home to many museums,"
     ]
    },
    {
     "name": "stdout",
     "output_type": "stream",
     "text": [
      ", of course, Paris. It is a global hub for art, fashion, and culture and is known for its iconic landmarks like the Eiffel Tower and the Louvre Museum. It has also been the capital of France since 987. The city is home to many museums, galleries"
     ]
    },
    {
     "name": "stdout",
     "output_type": "stream",
     "text": [
      ", of course, Paris. It is a global hub for art, fashion, and culture and is known for its iconic landmarks like the Eiffel Tower and the Louvre Museum. It has also been the capital of France since 987. The city is home to many museums, galleries,"
     ]
    },
    {
     "name": "stdout",
     "output_type": "stream",
     "text": [
      ", of course, Paris. It is a global hub for art, fashion, and culture and is known for its iconic landmarks like the Eiffel Tower and the Louvre Museum. It has also been the capital of France since 987. The city is home to many museums, galleries, and"
     ]
    },
    {
     "name": "stdout",
     "output_type": "stream",
     "text": [
      ", of course, Paris. It is a global hub for art, fashion, and culture and is known for its iconic landmarks like the Eiffel Tower and the Louvre Museum. It has also been the capital of France since 987. The city is home to many museums, galleries, and theaters"
     ]
    },
    {
     "name": "stdout",
     "output_type": "stream",
     "text": [
      ", of course, Paris. It is a global hub for art, fashion, and culture and is known for its iconic landmarks like the Eiffel Tower and the Louvre Museum. It has also been the capital of France since 987. The city is home to many museums, galleries, and theaters."
     ]
    },
    {
     "name": "stdout",
     "output_type": "stream",
     "text": [
      ", of course, Paris. It is a global hub for art, fashion, and culture and is known for its iconic landmarks like the Eiffel Tower and the Louvre Museum. It has also been the capital of France since 987. The city is home to many museums, galleries, and theaters. Paris"
     ]
    },
    {
     "name": "stdout",
     "output_type": "stream",
     "text": [
      ", of course, Paris. It is a global hub for art, fashion, and culture and is known for its iconic landmarks like the Eiffel Tower and the Louvre Museum. It has also been the capital of France since 987. The city is home to many museums, galleries, and theaters. Paris is"
     ]
    },
    {
     "name": "stdout",
     "output_type": "stream",
     "text": [
      ", of course, Paris. It is a global hub for art, fashion, and culture and is known for its iconic landmarks like the Eiffel Tower and the Louvre Museum. It has also been the capital of France since 987. The city is home to many museums, galleries, and theaters. Paris is also"
     ]
    },
    {
     "name": "stdout",
     "output_type": "stream",
     "text": [
      ", of course, Paris. It is a global hub for art, fashion, and culture and is known for its iconic landmarks like the Eiffel Tower and the Louvre Museum. It has also been the capital of France since 987. The city is home to many museums, galleries, and theaters. Paris is also known"
     ]
    },
    {
     "name": "stdout",
     "output_type": "stream",
     "text": [
      ", of course, Paris. It is a global hub for art, fashion, and culture and is known for its iconic landmarks like the Eiffel Tower and the Louvre Museum. It has also been the capital of France since 987. The city is home to many museums, galleries, and theaters. Paris is also known for"
     ]
    },
    {
     "name": "stdout",
     "output_type": "stream",
     "text": [
      ", of course, Paris. It is a global hub for art, fashion, and culture and is known for its iconic landmarks like the Eiffel Tower and the Louvre Museum. It has also been the capital of France since 987. The city is home to many museums, galleries, and theaters. Paris is also known for its"
     ]
    },
    {
     "name": "stdout",
     "output_type": "stream",
     "text": [
      ", of course, Paris. It is a global hub for art, fashion, and culture and is known for its iconic landmarks like the Eiffel Tower and the Louvre Museum. It has also been the capital of France since 987. The city is home to many museums, galleries, and theaters. Paris is also known for its romantic"
     ]
    },
    {
     "name": "stdout",
     "output_type": "stream",
     "text": [
      ", of course, Paris. It is a global hub for art, fashion, and culture and is known for its iconic landmarks like the Eiffel Tower and the Louvre Museum. It has also been the capital of France since 987. The city is home to many museums, galleries, and theaters. Paris is also known for its romantic atmosphere"
     ]
    },
    {
     "name": "stdout",
     "output_type": "stream",
     "text": [
      ", of course, Paris. It is a global hub for art, fashion, and culture and is known for its iconic landmarks like the Eiffel Tower and the Louvre Museum. It has also been the capital of France since 987. The city is home to many museums, galleries, and theaters. Paris is also known for its romantic atmosphere and"
     ]
    },
    {
     "name": "stdout",
     "output_type": "stream",
     "text": [
      ", of course, Paris. It is a global hub for art, fashion, and culture and is known for its iconic landmarks like the Eiffel Tower and the Louvre Museum. It has also been the capital of France since 987. The city is home to many museums, galleries, and theaters. Paris is also known for its romantic atmosphere and is"
     ]
    },
    {
     "name": "stdout",
     "output_type": "stream",
     "text": [
      ", of course, Paris. It is a global hub for art, fashion, and culture and is known for its iconic landmarks like the Eiffel Tower and the Louvre Museum. It has also been the capital of France since 987. The city is home to many museums, galleries, and theaters. Paris is also known for its romantic atmosphere and is often"
     ]
    },
    {
     "name": "stdout",
     "output_type": "stream",
     "text": [
      ", of course, Paris. It is a global hub for art, fashion, and culture and is known for its iconic landmarks like the Eiffel Tower and the Louvre Museum. It has also been the capital of France since 987. The city is home to many museums, galleries, and theaters. Paris is also known for its romantic atmosphere and is often called"
     ]
    },
    {
     "name": "stdout",
     "output_type": "stream",
     "text": [
      ", of course, Paris. It is a global hub for art, fashion, and culture and is known for its iconic landmarks like the Eiffel Tower and the Louvre Museum. It has also been the capital of France since 987. The city is home to many museums, galleries, and theaters. Paris is also known for its romantic atmosphere and is often called the"
     ]
    },
    {
     "name": "stdout",
     "output_type": "stream",
     "text": [
      ", of course, Paris. It is a global hub for art, fashion, and culture and is known for its iconic landmarks like the Eiffel Tower and the Louvre Museum. It has also been the capital of France since 987. The city is home to many museums, galleries, and theaters. Paris is also known for its romantic atmosphere and is often called the \""
     ]
    },
    {
     "name": "stdout",
     "output_type": "stream",
     "text": [
      ", of course, Paris. It is a global hub for art, fashion, and culture and is known for its iconic landmarks like the Eiffel Tower and the Louvre Museum. It has also been the capital of France since 987. The city is home to many museums, galleries, and theaters. Paris is also known for its romantic atmosphere and is often called the \"City"
     ]
    },
    {
     "name": "stdout",
     "output_type": "stream",
     "text": [
      ", of course, Paris. It is a global hub for art, fashion, and culture and is known for its iconic landmarks like the Eiffel Tower and the Louvre Museum. It has also been the capital of France since 987. The city is home to many museums, galleries, and theaters. Paris is also known for its romantic atmosphere and is often called the \"City of"
     ]
    },
    {
     "name": "stdout",
     "output_type": "stream",
     "text": [
      ", of course, Paris. It is a global hub for art, fashion, and culture and is known for its iconic landmarks like the Eiffel Tower and the Louvre Museum. It has also been the capital of France since 987. The city is home to many museums, galleries, and theaters. Paris is also known for its romantic atmosphere and is often called the \"City of Love"
     ]
    },
    {
     "name": "stdout",
     "output_type": "stream",
     "text": [
      ", of course, Paris. It is a global hub for art, fashion, and culture and is known for its iconic landmarks like the Eiffel Tower and the Louvre Museum. It has also been the capital of France since 987. The city is home to many museums, galleries, and theaters. Paris is also known for its romantic atmosphere and is often called the \"City of Love\"."
     ]
    },
    {
     "name": "stdout",
     "output_type": "stream",
     "text": [
      ", of course, Paris. It is a global hub for art, fashion, and culture and is known for its iconic landmarks like the Eiffel Tower and the Louvre Museum. It has also been the capital of France since 987. The city is home to many museums, galleries, and theaters. Paris is also known for its romantic atmosphere and is often called the \"City of Love\". The"
     ]
    },
    {
     "name": "stdout",
     "output_type": "stream",
     "text": [
      ", of course, Paris. It is a global hub for art, fashion, and culture and is known for its iconic landmarks like the Eiffel Tower and the Louvre Museum. It has also been the capital of France since 987. The city is home to many museums, galleries, and theaters. Paris is also known for its romantic atmosphere and is often called the \"City of Love\". The city"
     ]
    },
    {
     "name": "stdout",
     "output_type": "stream",
     "text": [
      ", of course, Paris. It is a global hub for art, fashion, and culture and is known for its iconic landmarks like the Eiffel Tower and the Louvre Museum. It has also been the capital of France since 987. The city is home to many museums, galleries, and theaters. Paris is also known for its romantic atmosphere and is often called the \"City of Love\". The city's"
     ]
    },
    {
     "name": "stdout",
     "output_type": "stream",
     "text": [
      ", of course, Paris. It is a global hub for art, fashion, and culture and is known for its iconic landmarks like the Eiffel Tower and the Louvre Museum. It has also been the capital of France since 987. The city is home to many museums, galleries, and theaters. Paris is also known for its romantic atmosphere and is often called the \"City of Love\". The city's cuisine"
     ]
    },
    {
     "name": "stdout",
     "output_type": "stream",
     "text": [
      ", of course, Paris. It is a global hub for art, fashion, and culture and is known for its iconic landmarks like the Eiffel Tower and the Louvre Museum. It has also been the capital of France since 987. The city is home to many museums, galleries, and theaters. Paris is also known for its romantic atmosphere and is often called the \"City of Love\". The city's cuisine is"
     ]
    },
    {
     "name": "stdout",
     "output_type": "stream",
     "text": [
      ", of course, Paris. It is a global hub for art, fashion, and culture and is known for its iconic landmarks like the Eiffel Tower and the Louvre Museum. It has also been the capital of France since 987. The city is home to many museums, galleries, and theaters. Paris is also known for its romantic atmosphere and is often called the \"City of Love\". The city's cuisine is famous"
     ]
    },
    {
     "name": "stdout",
     "output_type": "stream",
     "text": [
      ", of course, Paris. It is a global hub for art, fashion, and culture and is known for its iconic landmarks like the Eiffel Tower and the Louvre Museum. It has also been the capital of France since 987. The city is home to many museums, galleries, and theaters. Paris is also known for its romantic atmosphere and is often called the \"City of Love\". The city's cuisine is famous worldwide"
     ]
    },
    {
     "name": "stdout",
     "output_type": "stream",
     "text": [
      ", of course, Paris. It is a global hub for art, fashion, and culture and is known for its iconic landmarks like the Eiffel Tower and the Louvre Museum. It has also been the capital of France since 987. The city is home to many museums, galleries, and theaters. Paris is also known for its romantic atmosphere and is often called the \"City of Love\". The city's cuisine is famous worldwide,"
     ]
    },
    {
     "name": "stdout",
     "output_type": "stream",
     "text": [
      ", of course, Paris. It is a global hub for art, fashion, and culture and is known for its iconic landmarks like the Eiffel Tower and the Louvre Museum. It has also been the capital of France since 987. The city is home to many museums, galleries, and theaters. Paris is also known for its romantic atmosphere and is often called the \"City of Love\". The city's cuisine is famous worldwide, with"
     ]
    },
    {
     "name": "stdout",
     "output_type": "stream",
     "text": [
      ", of course, Paris. It is a global hub for art, fashion, and culture and is known for its iconic landmarks like the Eiffel Tower and the Louvre Museum. It has also been the capital of France since 987. The city is home to many museums, galleries, and theaters. Paris is also known for its romantic atmosphere and is often called the \"City of Love\". The city's cuisine is famous worldwide, with popular"
     ]
    },
    {
     "name": "stdout",
     "output_type": "stream",
     "text": [
      ", of course, Paris. It is a global hub for art, fashion, and culture and is known for its iconic landmarks like the Eiffel Tower and the Louvre Museum. It has also been the capital of France since 987. The city is home to many museums, galleries, and theaters. Paris is also known for its romantic atmosphere and is often called the \"City of Love\". The city's cuisine is famous worldwide, with popular dishes"
     ]
    },
    {
     "name": "stdout",
     "output_type": "stream",
     "text": [
      ", of course, Paris. It is a global hub for art, fashion, and culture and is known for its iconic landmarks like the Eiffel Tower and the Louvre Museum. It has also been the capital of France since 987. The city is home to many museums, galleries, and theaters. Paris is also known for its romantic atmosphere and is often called the \"City of Love\". The city's cuisine is famous worldwide, with popular dishes such"
     ]
    },
    {
     "name": "stdout",
     "output_type": "stream",
     "text": [
      ", of course, Paris. It is a global hub for art, fashion, and culture and is known for its iconic landmarks like the Eiffel Tower and the Louvre Museum. It has also been the capital of France since 987. The city is home to many museums, galleries, and theaters. Paris is also known for its romantic atmosphere and is often called the \"City of Love\". The city's cuisine is famous worldwide, with popular dishes such as"
     ]
    },
    {
     "name": "stdout",
     "output_type": "stream",
     "text": [
      ", of course, Paris. It is a global hub for art, fashion, and culture and is known for its iconic landmarks like the Eiffel Tower and the Louvre Museum. It has also been the capital of France since 987. The city is home to many museums, galleries, and theaters. Paris is also known for its romantic atmosphere and is often called the \"City of Love\". The city's cuisine is famous worldwide, with popular dishes such as Co"
     ]
    },
    {
     "name": "stdout",
     "output_type": "stream",
     "text": [
      ", of course, Paris. It is a global hub for art, fashion, and culture and is known for its iconic landmarks like the Eiffel Tower and the Louvre Museum. It has also been the capital of France since 987. The city is home to many museums, galleries, and theaters. Paris is also known for its romantic atmosphere and is often called the \"City of Love\". The city's cuisine is famous worldwide, with popular dishes such as Coq"
     ]
    },
    {
     "name": "stdout",
     "output_type": "stream",
     "text": [
      ", of course, Paris. It is a global hub for art, fashion, and culture and is known for its iconic landmarks like the Eiffel Tower and the Louvre Museum. It has also been the capital of France since 987. The city is home to many museums, galleries, and theaters. Paris is also known for its romantic atmosphere and is often called the \"City of Love\". The city's cuisine is famous worldwide, with popular dishes such as Coq au"
     ]
    },
    {
     "name": "stdout",
     "output_type": "stream",
     "text": [
      ", of course, Paris. It is a global hub for art, fashion, and culture and is known for its iconic landmarks like the Eiffel Tower and the Louvre Museum. It has also been the capital of France since 987. The city is home to many museums, galleries, and theaters. Paris is also known for its romantic atmosphere and is often called the \"City of Love\". The city's cuisine is famous worldwide, with popular dishes such as Coq au Vin"
     ]
    },
    {
     "name": "stdout",
     "output_type": "stream",
     "text": [
      ", of course, Paris. It is a global hub for art, fashion, and culture and is known for its iconic landmarks like the Eiffel Tower and the Louvre Museum. It has also been the capital of France since 987. The city is home to many museums, galleries, and theaters. Paris is also known for its romantic atmosphere and is often called the \"City of Love\". The city's cuisine is famous worldwide, with popular dishes such as Coq au Vin,"
     ]
    },
    {
     "name": "stdout",
     "output_type": "stream",
     "text": [
      ", of course, Paris. It is a global hub for art, fashion, and culture and is known for its iconic landmarks like the Eiffel Tower and the Louvre Museum. It has also been the capital of France since 987. The city is home to many museums, galleries, and theaters. Paris is also known for its romantic atmosphere and is often called the \"City of Love\". The city's cuisine is famous worldwide, with popular dishes such as Coq au Vin, Bou"
     ]
    },
    {
     "name": "stdout",
     "output_type": "stream",
     "text": [
      ", of course, Paris. It is a global hub for art, fashion, and culture and is known for its iconic landmarks like the Eiffel Tower and the Louvre Museum. It has also been the capital of France since 987. The city is home to many museums, galleries, and theaters. Paris is also known for its romantic atmosphere and is often called the \"City of Love\". The city's cuisine is famous worldwide, with popular dishes such as Coq au Vin, Bouill"
     ]
    },
    {
     "name": "stdout",
     "output_type": "stream",
     "text": [
      ", of course, Paris. It is a global hub for art, fashion, and culture and is known for its iconic landmarks like the Eiffel Tower and the Louvre Museum. It has also been the capital of France since 987. The city is home to many museums, galleries, and theaters. Paris is also known for its romantic atmosphere and is often called the \"City of Love\". The city's cuisine is famous worldwide, with popular dishes such as Coq au Vin, Bouillab"
     ]
    },
    {
     "name": "stdout",
     "output_type": "stream",
     "text": [
      ", of course, Paris. It is a global hub for art, fashion, and culture and is known for its iconic landmarks like the Eiffel Tower and the Louvre Museum. It has also been the capital of France since 987. The city is home to many museums, galleries, and theaters. Paris is also known for its romantic atmosphere and is often called the \"City of Love\". The city's cuisine is famous worldwide, with popular dishes such as Coq au Vin, Bouillabais"
     ]
    },
    {
     "name": "stdout",
     "output_type": "stream",
     "text": [
      ", of course, Paris. It is a global hub for art, fashion, and culture and is known for its iconic landmarks like the Eiffel Tower and the Louvre Museum. It has also been the capital of France since 987. The city is home to many museums, galleries, and theaters. Paris is also known for its romantic atmosphere and is often called the \"City of Love\". The city's cuisine is famous worldwide, with popular dishes such as Coq au Vin, Bouillabaisse"
     ]
    },
    {
     "name": "stdout",
     "output_type": "stream",
     "text": [
      ", of course, Paris. It is a global hub for art, fashion, and culture and is known for its iconic landmarks like the Eiffel Tower and the Louvre Museum. It has also been the capital of France since 987. The city is home to many museums, galleries, and theaters. Paris is also known for its romantic atmosphere and is often called the \"City of Love\". The city's cuisine is famous worldwide, with popular dishes such as Coq au Vin, Bouillabaisse,"
     ]
    },
    {
     "name": "stdout",
     "output_type": "stream",
     "text": [
      ", of course, Paris. It is a global hub for art, fashion, and culture and is known for its iconic landmarks like the Eiffel Tower and the Louvre Museum. It has also been the capital of France since 987. The city is home to many museums, galleries, and theaters. Paris is also known for its romantic atmosphere and is often called the \"City of Love\". The city's cuisine is famous worldwide, with popular dishes such as Coq au Vin, Bouillabaisse, and"
     ]
    },
    {
     "name": "stdout",
     "output_type": "stream",
     "text": [
      ", of course, Paris. It is a global hub for art, fashion, and culture and is known for its iconic landmarks like the Eiffel Tower and the Louvre Museum. It has also been the capital of France since 987. The city is home to many museums, galleries, and theaters. Paris is also known for its romantic atmosphere and is often called the \"City of Love\". The city's cuisine is famous worldwide, with popular dishes such as Coq au Vin, Bouillabaisse, and Esc"
     ]
    },
    {
     "name": "stdout",
     "output_type": "stream",
     "text": [
      ", of course, Paris. It is a global hub for art, fashion, and culture and is known for its iconic landmarks like the Eiffel Tower and the Louvre Museum. It has also been the capital of France since 987. The city is home to many museums, galleries, and theaters. Paris is also known for its romantic atmosphere and is often called the \"City of Love\". The city's cuisine is famous worldwide, with popular dishes such as Coq au Vin, Bouillabaisse, and Escarg"
     ]
    },
    {
     "name": "stdout",
     "output_type": "stream",
     "text": [
      ", of course, Paris. It is a global hub for art, fashion, and culture and is known for its iconic landmarks like the Eiffel Tower and the Louvre Museum. It has also been the capital of France since 987. The city is home to many museums, galleries, and theaters. Paris is also known for its romantic atmosphere and is often called the \"City of Love\". The city's cuisine is famous worldwide, with popular dishes such as Coq au Vin, Bouillabaisse, and Escargots"
     ]
    },
    {
     "name": "stdout",
     "output_type": "stream",
     "text": [
      ", of course, Paris. It is a global hub for art, fashion, and culture and is known for its iconic landmarks like the Eiffel Tower and the Louvre Museum. It has also been the capital of France since 987. The city is home to many museums, galleries, and theaters. Paris is also known for its romantic atmosphere and is often called the \"City of Love\". The city's cuisine is famous worldwide, with popular dishes such as Coq au Vin, Bouillabaisse, and Escargots.\n"
     ]
    },
    {
     "name": "stdout",
     "output_type": "stream",
     "text": [
      ", of course, Paris. It is a global hub for art, fashion, and culture and is known for its iconic landmarks like the Eiffel Tower and the Louvre Museum. It has also been the capital of France since 987. The city is home to many museums, galleries, and theaters. Paris is also known for its romantic atmosphere and is often called the \"City of Love\". The city's cuisine is famous worldwide, with popular dishes such as Coq au Vin, Bouillabaisse, and Escargots.\n",
      "The"
     ]
    },
    {
     "name": "stdout",
     "output_type": "stream",
     "text": [
      ", of course, Paris. It is a global hub for art, fashion, and culture and is known for its iconic landmarks like the Eiffel Tower and the Louvre Museum. It has also been the capital of France since 987. The city is home to many museums, galleries, and theaters. Paris is also known for its romantic atmosphere and is often called the \"City of Love\". The city's cuisine is famous worldwide, with popular dishes such as Coq au Vin, Bouillabaisse, and Escargots.\n",
      "The city"
     ]
    },
    {
     "name": "stdout",
     "output_type": "stream",
     "text": [
      ", of course, Paris. It is a global hub for art, fashion, and culture and is known for its iconic landmarks like the Eiffel Tower and the Louvre Museum. It has also been the capital of France since 987. The city is home to many museums, galleries, and theaters. Paris is also known for its romantic atmosphere and is often called the \"City of Love\". The city's cuisine is famous worldwide, with popular dishes such as Coq au Vin, Bouillabaisse, and Escargots.\n",
      "The city of"
     ]
    },
    {
     "name": "stdout",
     "output_type": "stream",
     "text": [
      ", of course, Paris. It is a global hub for art, fashion, and culture and is known for its iconic landmarks like the Eiffel Tower and the Louvre Museum. It has also been the capital of France since 987. The city is home to many museums, galleries, and theaters. Paris is also known for its romantic atmosphere and is often called the \"City of Love\". The city's cuisine is famous worldwide, with popular dishes such as Coq au Vin, Bouillabaisse, and Escargots.\n",
      "The city of Nice"
     ]
    },
    {
     "name": "stdout",
     "output_type": "stream",
     "text": [
      ", of course, Paris. It is a global hub for art, fashion, and culture and is known for its iconic landmarks like the Eiffel Tower and the Louvre Museum. It has also been the capital of France since 987. The city is home to many museums, galleries, and theaters. Paris is also known for its romantic atmosphere and is often called the \"City of Love\". The city's cuisine is famous worldwide, with popular dishes such as Coq au Vin, Bouillabaisse, and Escargots.\n",
      "The city of Nice is"
     ]
    },
    {
     "name": "stdout",
     "output_type": "stream",
     "text": [
      ", of course, Paris. It is a global hub for art, fashion, and culture and is known for its iconic landmarks like the Eiffel Tower and the Louvre Museum. It has also been the capital of France since 987. The city is home to many museums, galleries, and theaters. Paris is also known for its romantic atmosphere and is often called the \"City of Love\". The city's cuisine is famous worldwide, with popular dishes such as Coq au Vin, Bouillabaisse, and Escargots.\n",
      "The city of Nice is located"
     ]
    },
    {
     "name": "stdout",
     "output_type": "stream",
     "text": [
      ", of course, Paris. It is a global hub for art, fashion, and culture and is known for its iconic landmarks like the Eiffel Tower and the Louvre Museum. It has also been the capital of France since 987. The city is home to many museums, galleries, and theaters. Paris is also known for its romantic atmosphere and is often called the \"City of Love\". The city's cuisine is famous worldwide, with popular dishes such as Coq au Vin, Bouillabaisse, and Escargots.\n",
      "The city of Nice is located on"
     ]
    },
    {
     "name": "stdout",
     "output_type": "stream",
     "text": [
      ", of course, Paris. It is a global hub for art, fashion, and culture and is known for its iconic landmarks like the Eiffel Tower and the Louvre Museum. It has also been the capital of France since 987. The city is home to many museums, galleries, and theaters. Paris is also known for its romantic atmosphere and is often called the \"City of Love\". The city's cuisine is famous worldwide, with popular dishes such as Coq au Vin, Bouillabaisse, and Escargots.\n",
      "The city of Nice is located on the"
     ]
    },
    {
     "name": "stdout",
     "output_type": "stream",
     "text": [
      ", of course, Paris. It is a global hub for art, fashion, and culture and is known for its iconic landmarks like the Eiffel Tower and the Louvre Museum. It has also been the capital of France since 987. The city is home to many museums, galleries, and theaters. Paris is also known for its romantic atmosphere and is often called the \"City of Love\". The city's cuisine is famous worldwide, with popular dishes such as Coq au Vin, Bouillabaisse, and Escargots.\n",
      "The city of Nice is located on the French"
     ]
    },
    {
     "name": "stdout",
     "output_type": "stream",
     "text": [
      ", of course, Paris. It is a global hub for art, fashion, and culture and is known for its iconic landmarks like the Eiffel Tower and the Louvre Museum. It has also been the capital of France since 987. The city is home to many museums, galleries, and theaters. Paris is also known for its romantic atmosphere and is often called the \"City of Love\". The city's cuisine is famous worldwide, with popular dishes such as Coq au Vin, Bouillabaisse, and Escargots.\n",
      "The city of Nice is located on the French Riv"
     ]
    },
    {
     "name": "stdout",
     "output_type": "stream",
     "text": [
      ", of course, Paris. It is a global hub for art, fashion, and culture and is known for its iconic landmarks like the Eiffel Tower and the Louvre Museum. It has also been the capital of France since 987. The city is home to many museums, galleries, and theaters. Paris is also known for its romantic atmosphere and is often called the \"City of Love\". The city's cuisine is famous worldwide, with popular dishes such as Coq au Vin, Bouillabaisse, and Escargots.\n",
      "The city of Nice is located on the French Riviera"
     ]
    },
    {
     "name": "stdout",
     "output_type": "stream",
     "text": [
      ", of course, Paris. It is a global hub for art, fashion, and culture and is known for its iconic landmarks like the Eiffel Tower and the Louvre Museum. It has also been the capital of France since 987. The city is home to many museums, galleries, and theaters. Paris is also known for its romantic atmosphere and is often called the \"City of Love\". The city's cuisine is famous worldwide, with popular dishes such as Coq au Vin, Bouillabaisse, and Escargots.\n",
      "The city of Nice is located on the French Riviera,"
     ]
    },
    {
     "name": "stdout",
     "output_type": "stream",
     "text": [
      ", of course, Paris. It is a global hub for art, fashion, and culture and is known for its iconic landmarks like the Eiffel Tower and the Louvre Museum. It has also been the capital of France since 987. The city is home to many museums, galleries, and theaters. Paris is also known for its romantic atmosphere and is often called the \"City of Love\". The city's cuisine is famous worldwide, with popular dishes such as Coq au Vin, Bouillabaisse, and Escargots.\n",
      "The city of Nice is located on the French Riviera, also"
     ]
    },
    {
     "name": "stdout",
     "output_type": "stream",
     "text": [
      ", of course, Paris. It is a global hub for art, fashion, and culture and is known for its iconic landmarks like the Eiffel Tower and the Louvre Museum. It has also been the capital of France since 987. The city is home to many museums, galleries, and theaters. Paris is also known for its romantic atmosphere and is often called the \"City of Love\". The city's cuisine is famous worldwide, with popular dishes such as Coq au Vin, Bouillabaisse, and Escargots.\n",
      "The city of Nice is located on the French Riviera, also known"
     ]
    },
    {
     "name": "stdout",
     "output_type": "stream",
     "text": [
      ", of course, Paris. It is a global hub for art, fashion, and culture and is known for its iconic landmarks like the Eiffel Tower and the Louvre Museum. It has also been the capital of France since 987. The city is home to many museums, galleries, and theaters. Paris is also known for its romantic atmosphere and is often called the \"City of Love\". The city's cuisine is famous worldwide, with popular dishes such as Coq au Vin, Bouillabaisse, and Escargots.\n",
      "The city of Nice is located on the French Riviera, also known as"
     ]
    },
    {
     "name": "stdout",
     "output_type": "stream",
     "text": [
      ", of course, Paris. It is a global hub for art, fashion, and culture and is known for its iconic landmarks like the Eiffel Tower and the Louvre Museum. It has also been the capital of France since 987. The city is home to many museums, galleries, and theaters. Paris is also known for its romantic atmosphere and is often called the \"City of Love\". The city's cuisine is famous worldwide, with popular dishes such as Coq au Vin, Bouillabaisse, and Escargots.\n",
      "The city of Nice is located on the French Riviera, also known as the"
     ]
    },
    {
     "name": "stdout",
     "output_type": "stream",
     "text": [
      ", of course, Paris. It is a global hub for art, fashion, and culture and is known for its iconic landmarks like the Eiffel Tower and the Louvre Museum. It has also been the capital of France since 987. The city is home to many museums, galleries, and theaters. Paris is also known for its romantic atmosphere and is often called the \"City of Love\". The city's cuisine is famous worldwide, with popular dishes such as Coq au Vin, Bouillabaisse, and Escargots.\n",
      "The city of Nice is located on the French Riviera, also known as the C"
     ]
    },
    {
     "name": "stdout",
     "output_type": "stream",
     "text": [
      ", of course, Paris. It is a global hub for art, fashion, and culture and is known for its iconic landmarks like the Eiffel Tower and the Louvre Museum. It has also been the capital of France since 987. The city is home to many museums, galleries, and theaters. Paris is also known for its romantic atmosphere and is often called the \"City of Love\". The city's cuisine is famous worldwide, with popular dishes such as Coq au Vin, Bouillabaisse, and Escargots.\n",
      "The city of Nice is located on the French Riviera, also known as the Côte"
     ]
    },
    {
     "name": "stdout",
     "output_type": "stream",
     "text": [
      ", of course, Paris. It is a global hub for art, fashion, and culture and is known for its iconic landmarks like the Eiffel Tower and the Louvre Museum. It has also been the capital of France since 987. The city is home to many museums, galleries, and theaters. Paris is also known for its romantic atmosphere and is often called the \"City of Love\". The city's cuisine is famous worldwide, with popular dishes such as Coq au Vin, Bouillabaisse, and Escargots.\n",
      "The city of Nice is located on the French Riviera, also known as the Côte d"
     ]
    },
    {
     "name": "stdout",
     "output_type": "stream",
     "text": [
      "\n",
      "\n",
      "Prompt: The future of AI is\n",
      "Generated text: "
     ]
    },
    {
     "name": "stdout",
     "output_type": "stream",
     "text": [
      " shaped"
     ]
    },
    {
     "name": "stdout",
     "output_type": "stream",
     "text": [
      " shaped by"
     ]
    },
    {
     "name": "stdout",
     "output_type": "stream",
     "text": [
      " shaped by the"
     ]
    },
    {
     "name": "stdout",
     "output_type": "stream",
     "text": [
      " shaped by the way"
     ]
    },
    {
     "name": "stdout",
     "output_type": "stream",
     "text": [
      " shaped by the way humans"
     ]
    },
    {
     "name": "stdout",
     "output_type": "stream",
     "text": [
      " shaped by the way humans and"
     ]
    },
    {
     "name": "stdout",
     "output_type": "stream",
     "text": [
      " shaped by the way humans and AI"
     ]
    },
    {
     "name": "stdout",
     "output_type": "stream",
     "text": [
      " shaped by the way humans and AI systems"
     ]
    },
    {
     "name": "stdout",
     "output_type": "stream",
     "text": [
      " shaped by the way humans and AI systems interact"
     ]
    },
    {
     "name": "stdout",
     "output_type": "stream",
     "text": [
      " shaped by the way humans and AI systems interact."
     ]
    },
    {
     "name": "stdout",
     "output_type": "stream",
     "text": [
      " shaped by the way humans and AI systems interact. This"
     ]
    },
    {
     "name": "stdout",
     "output_type": "stream",
     "text": [
      " shaped by the way humans and AI systems interact. This interaction"
     ]
    },
    {
     "name": "stdout",
     "output_type": "stream",
     "text": [
      " shaped by the way humans and AI systems interact. This interaction will"
     ]
    },
    {
     "name": "stdout",
     "output_type": "stream",
     "text": [
      " shaped by the way humans and AI systems interact. This interaction will lead"
     ]
    },
    {
     "name": "stdout",
     "output_type": "stream",
     "text": [
      " shaped by the way humans and AI systems interact. This interaction will lead to"
     ]
    },
    {
     "name": "stdout",
     "output_type": "stream",
     "text": [
      " shaped by the way humans and AI systems interact. This interaction will lead to AI"
     ]
    },
    {
     "name": "stdout",
     "output_type": "stream",
     "text": [
      " shaped by the way humans and AI systems interact. This interaction will lead to AI systems"
     ]
    },
    {
     "name": "stdout",
     "output_type": "stream",
     "text": [
      " shaped by the way humans and AI systems interact. This interaction will lead to AI systems that"
     ]
    },
    {
     "name": "stdout",
     "output_type": "stream",
     "text": [
      " shaped by the way humans and AI systems interact. This interaction will lead to AI systems that are"
     ]
    },
    {
     "name": "stdout",
     "output_type": "stream",
     "text": [
      " shaped by the way humans and AI systems interact. This interaction will lead to AI systems that are more"
     ]
    },
    {
     "name": "stdout",
     "output_type": "stream",
     "text": [
      " shaped by the way humans and AI systems interact. This interaction will lead to AI systems that are more human"
     ]
    },
    {
     "name": "stdout",
     "output_type": "stream",
     "text": [
      " shaped by the way humans and AI systems interact. This interaction will lead to AI systems that are more human-like"
     ]
    },
    {
     "name": "stdout",
     "output_type": "stream",
     "text": [
      " shaped by the way humans and AI systems interact. This interaction will lead to AI systems that are more human-like and"
     ]
    },
    {
     "name": "stdout",
     "output_type": "stream",
     "text": [
      " shaped by the way humans and AI systems interact. This interaction will lead to AI systems that are more human-like and able"
     ]
    },
    {
     "name": "stdout",
     "output_type": "stream",
     "text": [
      " shaped by the way humans and AI systems interact. This interaction will lead to AI systems that are more human-like and able to"
     ]
    },
    {
     "name": "stdout",
     "output_type": "stream",
     "text": [
      " shaped by the way humans and AI systems interact. This interaction will lead to AI systems that are more human-like and able to adapt"
     ]
    },
    {
     "name": "stdout",
     "output_type": "stream",
     "text": [
      " shaped by the way humans and AI systems interact. This interaction will lead to AI systems that are more human-like and able to adapt to"
     ]
    },
    {
     "name": "stdout",
     "output_type": "stream",
     "text": [
      " shaped by the way humans and AI systems interact. This interaction will lead to AI systems that are more human-like and able to adapt to complex"
     ]
    },
    {
     "name": "stdout",
     "output_type": "stream",
     "text": [
      " shaped by the way humans and AI systems interact. This interaction will lead to AI systems that are more human-like and able to adapt to complex and"
     ]
    },
    {
     "name": "stdout",
     "output_type": "stream",
     "text": [
      " shaped by the way humans and AI systems interact. This interaction will lead to AI systems that are more human-like and able to adapt to complex and unpredictable"
     ]
    },
    {
     "name": "stdout",
     "output_type": "stream",
     "text": [
      " shaped by the way humans and AI systems interact. This interaction will lead to AI systems that are more human-like and able to adapt to complex and unpredictable situations"
     ]
    },
    {
     "name": "stdout",
     "output_type": "stream",
     "text": [
      " shaped by the way humans and AI systems interact. This interaction will lead to AI systems that are more human-like and able to adapt to complex and unpredictable situations.\n"
     ]
    },
    {
     "name": "stdout",
     "output_type": "stream",
     "text": [
      " shaped by the way humans and AI systems interact. This interaction will lead to AI systems that are more human-like and able to adapt to complex and unpredictable situations.\n",
      "Human"
     ]
    },
    {
     "name": "stdout",
     "output_type": "stream",
     "text": [
      " shaped by the way humans and AI systems interact. This interaction will lead to AI systems that are more human-like and able to adapt to complex and unpredictable situations.\n",
      "Human-A"
     ]
    },
    {
     "name": "stdout",
     "output_type": "stream",
     "text": [
      " shaped by the way humans and AI systems interact. This interaction will lead to AI systems that are more human-like and able to adapt to complex and unpredictable situations.\n",
      "Human-AI"
     ]
    },
    {
     "name": "stdout",
     "output_type": "stream",
     "text": [
      " shaped by the way humans and AI systems interact. This interaction will lead to AI systems that are more human-like and able to adapt to complex and unpredictable situations.\n",
      "Human-AI collaboration"
     ]
    },
    {
     "name": "stdout",
     "output_type": "stream",
     "text": [
      " shaped by the way humans and AI systems interact. This interaction will lead to AI systems that are more human-like and able to adapt to complex and unpredictable situations.\n",
      "Human-AI collaboration can"
     ]
    },
    {
     "name": "stdout",
     "output_type": "stream",
     "text": [
      " shaped by the way humans and AI systems interact. This interaction will lead to AI systems that are more human-like and able to adapt to complex and unpredictable situations.\n",
      "Human-AI collaboration can be"
     ]
    },
    {
     "name": "stdout",
     "output_type": "stream",
     "text": [
      " shaped by the way humans and AI systems interact. This interaction will lead to AI systems that are more human-like and able to adapt to complex and unpredictable situations.\n",
      "Human-AI collaboration can be seen"
     ]
    },
    {
     "name": "stdout",
     "output_type": "stream",
     "text": [
      " shaped by the way humans and AI systems interact. This interaction will lead to AI systems that are more human-like and able to adapt to complex and unpredictable situations.\n",
      "Human-AI collaboration can be seen in"
     ]
    },
    {
     "name": "stdout",
     "output_type": "stream",
     "text": [
      " shaped by the way humans and AI systems interact. This interaction will lead to AI systems that are more human-like and able to adapt to complex and unpredictable situations.\n",
      "Human-AI collaboration can be seen in various"
     ]
    },
    {
     "name": "stdout",
     "output_type": "stream",
     "text": [
      " shaped by the way humans and AI systems interact. This interaction will lead to AI systems that are more human-like and able to adapt to complex and unpredictable situations.\n",
      "Human-AI collaboration can be seen in various applications"
     ]
    },
    {
     "name": "stdout",
     "output_type": "stream",
     "text": [
      " shaped by the way humans and AI systems interact. This interaction will lead to AI systems that are more human-like and able to adapt to complex and unpredictable situations.\n",
      "Human-AI collaboration can be seen in various applications,"
     ]
    },
    {
     "name": "stdout",
     "output_type": "stream",
     "text": [
      " shaped by the way humans and AI systems interact. This interaction will lead to AI systems that are more human-like and able to adapt to complex and unpredictable situations.\n",
      "Human-AI collaboration can be seen in various applications, such"
     ]
    },
    {
     "name": "stdout",
     "output_type": "stream",
     "text": [
      " shaped by the way humans and AI systems interact. This interaction will lead to AI systems that are more human-like and able to adapt to complex and unpredictable situations.\n",
      "Human-AI collaboration can be seen in various applications, such as"
     ]
    },
    {
     "name": "stdout",
     "output_type": "stream",
     "text": [
      " shaped by the way humans and AI systems interact. This interaction will lead to AI systems that are more human-like and able to adapt to complex and unpredictable situations.\n",
      "Human-AI collaboration can be seen in various applications, such as the"
     ]
    },
    {
     "name": "stdout",
     "output_type": "stream",
     "text": [
      " shaped by the way humans and AI systems interact. This interaction will lead to AI systems that are more human-like and able to adapt to complex and unpredictable situations.\n",
      "Human-AI collaboration can be seen in various applications, such as the use"
     ]
    },
    {
     "name": "stdout",
     "output_type": "stream",
     "text": [
      " shaped by the way humans and AI systems interact. This interaction will lead to AI systems that are more human-like and able to adapt to complex and unpredictable situations.\n",
      "Human-AI collaboration can be seen in various applications, such as the use of"
     ]
    },
    {
     "name": "stdout",
     "output_type": "stream",
     "text": [
      " shaped by the way humans and AI systems interact. This interaction will lead to AI systems that are more human-like and able to adapt to complex and unpredictable situations.\n",
      "Human-AI collaboration can be seen in various applications, such as the use of virtual"
     ]
    },
    {
     "name": "stdout",
     "output_type": "stream",
     "text": [
      " shaped by the way humans and AI systems interact. This interaction will lead to AI systems that are more human-like and able to adapt to complex and unpredictable situations.\n",
      "Human-AI collaboration can be seen in various applications, such as the use of virtual assistants"
     ]
    },
    {
     "name": "stdout",
     "output_type": "stream",
     "text": [
      " shaped by the way humans and AI systems interact. This interaction will lead to AI systems that are more human-like and able to adapt to complex and unpredictable situations.\n",
      "Human-AI collaboration can be seen in various applications, such as the use of virtual assistants,"
     ]
    },
    {
     "name": "stdout",
     "output_type": "stream",
     "text": [
      " shaped by the way humans and AI systems interact. This interaction will lead to AI systems that are more human-like and able to adapt to complex and unpredictable situations.\n",
      "Human-AI collaboration can be seen in various applications, such as the use of virtual assistants, AI"
     ]
    },
    {
     "name": "stdout",
     "output_type": "stream",
     "text": [
      " shaped by the way humans and AI systems interact. This interaction will lead to AI systems that are more human-like and able to adapt to complex and unpredictable situations.\n",
      "Human-AI collaboration can be seen in various applications, such as the use of virtual assistants, AI-powered"
     ]
    },
    {
     "name": "stdout",
     "output_type": "stream",
     "text": [
      " shaped by the way humans and AI systems interact. This interaction will lead to AI systems that are more human-like and able to adapt to complex and unpredictable situations.\n",
      "Human-AI collaboration can be seen in various applications, such as the use of virtual assistants, AI-powered tools"
     ]
    },
    {
     "name": "stdout",
     "output_type": "stream",
     "text": [
      " shaped by the way humans and AI systems interact. This interaction will lead to AI systems that are more human-like and able to adapt to complex and unpredictable situations.\n",
      "Human-AI collaboration can be seen in various applications, such as the use of virtual assistants, AI-powered tools for"
     ]
    },
    {
     "name": "stdout",
     "output_type": "stream",
     "text": [
      " shaped by the way humans and AI systems interact. This interaction will lead to AI systems that are more human-like and able to adapt to complex and unpredictable situations.\n",
      "Human-AI collaboration can be seen in various applications, such as the use of virtual assistants, AI-powered tools for healthcare"
     ]
    },
    {
     "name": "stdout",
     "output_type": "stream",
     "text": [
      " shaped by the way humans and AI systems interact. This interaction will lead to AI systems that are more human-like and able to adapt to complex and unpredictable situations.\n",
      "Human-AI collaboration can be seen in various applications, such as the use of virtual assistants, AI-powered tools for healthcare and"
     ]
    },
    {
     "name": "stdout",
     "output_type": "stream",
     "text": [
      " shaped by the way humans and AI systems interact. This interaction will lead to AI systems that are more human-like and able to adapt to complex and unpredictable situations.\n",
      "Human-AI collaboration can be seen in various applications, such as the use of virtual assistants, AI-powered tools for healthcare and education"
     ]
    },
    {
     "name": "stdout",
     "output_type": "stream",
     "text": [
      " shaped by the way humans and AI systems interact. This interaction will lead to AI systems that are more human-like and able to adapt to complex and unpredictable situations.\n",
      "Human-AI collaboration can be seen in various applications, such as the use of virtual assistants, AI-powered tools for healthcare and education,"
     ]
    },
    {
     "name": "stdout",
     "output_type": "stream",
     "text": [
      " shaped by the way humans and AI systems interact. This interaction will lead to AI systems that are more human-like and able to adapt to complex and unpredictable situations.\n",
      "Human-AI collaboration can be seen in various applications, such as the use of virtual assistants, AI-powered tools for healthcare and education, and"
     ]
    },
    {
     "name": "stdout",
     "output_type": "stream",
     "text": [
      " shaped by the way humans and AI systems interact. This interaction will lead to AI systems that are more human-like and able to adapt to complex and unpredictable situations.\n",
      "Human-AI collaboration can be seen in various applications, such as the use of virtual assistants, AI-powered tools for healthcare and education, and the"
     ]
    },
    {
     "name": "stdout",
     "output_type": "stream",
     "text": [
      " shaped by the way humans and AI systems interact. This interaction will lead to AI systems that are more human-like and able to adapt to complex and unpredictable situations.\n",
      "Human-AI collaboration can be seen in various applications, such as the use of virtual assistants, AI-powered tools for healthcare and education, and the development"
     ]
    },
    {
     "name": "stdout",
     "output_type": "stream",
     "text": [
      " shaped by the way humans and AI systems interact. This interaction will lead to AI systems that are more human-like and able to adapt to complex and unpredictable situations.\n",
      "Human-AI collaboration can be seen in various applications, such as the use of virtual assistants, AI-powered tools for healthcare and education, and the development of"
     ]
    },
    {
     "name": "stdout",
     "output_type": "stream",
     "text": [
      " shaped by the way humans and AI systems interact. This interaction will lead to AI systems that are more human-like and able to adapt to complex and unpredictable situations.\n",
      "Human-AI collaboration can be seen in various applications, such as the use of virtual assistants, AI-powered tools for healthcare and education, and the development of autonomous"
     ]
    },
    {
     "name": "stdout",
     "output_type": "stream",
     "text": [
      " shaped by the way humans and AI systems interact. This interaction will lead to AI systems that are more human-like and able to adapt to complex and unpredictable situations.\n",
      "Human-AI collaboration can be seen in various applications, such as the use of virtual assistants, AI-powered tools for healthcare and education, and the development of autonomous vehicles"
     ]
    },
    {
     "name": "stdout",
     "output_type": "stream",
     "text": [
      " shaped by the way humans and AI systems interact. This interaction will lead to AI systems that are more human-like and able to adapt to complex and unpredictable situations.\n",
      "Human-AI collaboration can be seen in various applications, such as the use of virtual assistants, AI-powered tools for healthcare and education, and the development of autonomous vehicles."
     ]
    },
    {
     "name": "stdout",
     "output_type": "stream",
     "text": [
      " shaped by the way humans and AI systems interact. This interaction will lead to AI systems that are more human-like and able to adapt to complex and unpredictable situations.\n",
      "Human-AI collaboration can be seen in various applications, such as the use of virtual assistants, AI-powered tools for healthcare and education, and the development of autonomous vehicles. However"
     ]
    },
    {
     "name": "stdout",
     "output_type": "stream",
     "text": [
      " shaped by the way humans and AI systems interact. This interaction will lead to AI systems that are more human-like and able to adapt to complex and unpredictable situations.\n",
      "Human-AI collaboration can be seen in various applications, such as the use of virtual assistants, AI-powered tools for healthcare and education, and the development of autonomous vehicles. However,"
     ]
    },
    {
     "name": "stdout",
     "output_type": "stream",
     "text": [
      " shaped by the way humans and AI systems interact. This interaction will lead to AI systems that are more human-like and able to adapt to complex and unpredictable situations.\n",
      "Human-AI collaboration can be seen in various applications, such as the use of virtual assistants, AI-powered tools for healthcare and education, and the development of autonomous vehicles. However, there"
     ]
    },
    {
     "name": "stdout",
     "output_type": "stream",
     "text": [
      " shaped by the way humans and AI systems interact. This interaction will lead to AI systems that are more human-like and able to adapt to complex and unpredictable situations.\n",
      "Human-AI collaboration can be seen in various applications, such as the use of virtual assistants, AI-powered tools for healthcare and education, and the development of autonomous vehicles. However, there are"
     ]
    },
    {
     "name": "stdout",
     "output_type": "stream",
     "text": [
      " shaped by the way humans and AI systems interact. This interaction will lead to AI systems that are more human-like and able to adapt to complex and unpredictable situations.\n",
      "Human-AI collaboration can be seen in various applications, such as the use of virtual assistants, AI-powered tools for healthcare and education, and the development of autonomous vehicles. However, there are also"
     ]
    },
    {
     "name": "stdout",
     "output_type": "stream",
     "text": [
      " shaped by the way humans and AI systems interact. This interaction will lead to AI systems that are more human-like and able to adapt to complex and unpredictable situations.\n",
      "Human-AI collaboration can be seen in various applications, such as the use of virtual assistants, AI-powered tools for healthcare and education, and the development of autonomous vehicles. However, there are also concerns"
     ]
    },
    {
     "name": "stdout",
     "output_type": "stream",
     "text": [
      " shaped by the way humans and AI systems interact. This interaction will lead to AI systems that are more human-like and able to adapt to complex and unpredictable situations.\n",
      "Human-AI collaboration can be seen in various applications, such as the use of virtual assistants, AI-powered tools for healthcare and education, and the development of autonomous vehicles. However, there are also concerns about"
     ]
    },
    {
     "name": "stdout",
     "output_type": "stream",
     "text": [
      " shaped by the way humans and AI systems interact. This interaction will lead to AI systems that are more human-like and able to adapt to complex and unpredictable situations.\n",
      "Human-AI collaboration can be seen in various applications, such as the use of virtual assistants, AI-powered tools for healthcare and education, and the development of autonomous vehicles. However, there are also concerns about the"
     ]
    },
    {
     "name": "stdout",
     "output_type": "stream",
     "text": [
      " shaped by the way humans and AI systems interact. This interaction will lead to AI systems that are more human-like and able to adapt to complex and unpredictable situations.\n",
      "Human-AI collaboration can be seen in various applications, such as the use of virtual assistants, AI-powered tools for healthcare and education, and the development of autonomous vehicles. However, there are also concerns about the impact"
     ]
    },
    {
     "name": "stdout",
     "output_type": "stream",
     "text": [
      " shaped by the way humans and AI systems interact. This interaction will lead to AI systems that are more human-like and able to adapt to complex and unpredictable situations.\n",
      "Human-AI collaboration can be seen in various applications, such as the use of virtual assistants, AI-powered tools for healthcare and education, and the development of autonomous vehicles. However, there are also concerns about the impact of"
     ]
    },
    {
     "name": "stdout",
     "output_type": "stream",
     "text": [
      " shaped by the way humans and AI systems interact. This interaction will lead to AI systems that are more human-like and able to adapt to complex and unpredictable situations.\n",
      "Human-AI collaboration can be seen in various applications, such as the use of virtual assistants, AI-powered tools for healthcare and education, and the development of autonomous vehicles. However, there are also concerns about the impact of AI"
     ]
    },
    {
     "name": "stdout",
     "output_type": "stream",
     "text": [
      " shaped by the way humans and AI systems interact. This interaction will lead to AI systems that are more human-like and able to adapt to complex and unpredictable situations.\n",
      "Human-AI collaboration can be seen in various applications, such as the use of virtual assistants, AI-powered tools for healthcare and education, and the development of autonomous vehicles. However, there are also concerns about the impact of AI on"
     ]
    },
    {
     "name": "stdout",
     "output_type": "stream",
     "text": [
      " shaped by the way humans and AI systems interact. This interaction will lead to AI systems that are more human-like and able to adapt to complex and unpredictable situations.\n",
      "Human-AI collaboration can be seen in various applications, such as the use of virtual assistants, AI-powered tools for healthcare and education, and the development of autonomous vehicles. However, there are also concerns about the impact of AI on employment"
     ]
    },
    {
     "name": "stdout",
     "output_type": "stream",
     "text": [
      " shaped by the way humans and AI systems interact. This interaction will lead to AI systems that are more human-like and able to adapt to complex and unpredictable situations.\n",
      "Human-AI collaboration can be seen in various applications, such as the use of virtual assistants, AI-powered tools for healthcare and education, and the development of autonomous vehicles. However, there are also concerns about the impact of AI on employment,"
     ]
    },
    {
     "name": "stdout",
     "output_type": "stream",
     "text": [
      " shaped by the way humans and AI systems interact. This interaction will lead to AI systems that are more human-like and able to adapt to complex and unpredictable situations.\n",
      "Human-AI collaboration can be seen in various applications, such as the use of virtual assistants, AI-powered tools for healthcare and education, and the development of autonomous vehicles. However, there are also concerns about the impact of AI on employment, data"
     ]
    },
    {
     "name": "stdout",
     "output_type": "stream",
     "text": [
      " shaped by the way humans and AI systems interact. This interaction will lead to AI systems that are more human-like and able to adapt to complex and unpredictable situations.\n",
      "Human-AI collaboration can be seen in various applications, such as the use of virtual assistants, AI-powered tools for healthcare and education, and the development of autonomous vehicles. However, there are also concerns about the impact of AI on employment, data privacy"
     ]
    },
    {
     "name": "stdout",
     "output_type": "stream",
     "text": [
      " shaped by the way humans and AI systems interact. This interaction will lead to AI systems that are more human-like and able to adapt to complex and unpredictable situations.\n",
      "Human-AI collaboration can be seen in various applications, such as the use of virtual assistants, AI-powered tools for healthcare and education, and the development of autonomous vehicles. However, there are also concerns about the impact of AI on employment, data privacy,"
     ]
    },
    {
     "name": "stdout",
     "output_type": "stream",
     "text": [
      " shaped by the way humans and AI systems interact. This interaction will lead to AI systems that are more human-like and able to adapt to complex and unpredictable situations.\n",
      "Human-AI collaboration can be seen in various applications, such as the use of virtual assistants, AI-powered tools for healthcare and education, and the development of autonomous vehicles. However, there are also concerns about the impact of AI on employment, data privacy, and"
     ]
    },
    {
     "name": "stdout",
     "output_type": "stream",
     "text": [
      " shaped by the way humans and AI systems interact. This interaction will lead to AI systems that are more human-like and able to adapt to complex and unpredictable situations.\n",
      "Human-AI collaboration can be seen in various applications, such as the use of virtual assistants, AI-powered tools for healthcare and education, and the development of autonomous vehicles. However, there are also concerns about the impact of AI on employment, data privacy, and the"
     ]
    },
    {
     "name": "stdout",
     "output_type": "stream",
     "text": [
      " shaped by the way humans and AI systems interact. This interaction will lead to AI systems that are more human-like and able to adapt to complex and unpredictable situations.\n",
      "Human-AI collaboration can be seen in various applications, such as the use of virtual assistants, AI-powered tools for healthcare and education, and the development of autonomous vehicles. However, there are also concerns about the impact of AI on employment, data privacy, and the potential"
     ]
    },
    {
     "name": "stdout",
     "output_type": "stream",
     "text": [
      " shaped by the way humans and AI systems interact. This interaction will lead to AI systems that are more human-like and able to adapt to complex and unpredictable situations.\n",
      "Human-AI collaboration can be seen in various applications, such as the use of virtual assistants, AI-powered tools for healthcare and education, and the development of autonomous vehicles. However, there are also concerns about the impact of AI on employment, data privacy, and the potential for"
     ]
    },
    {
     "name": "stdout",
     "output_type": "stream",
     "text": [
      " shaped by the way humans and AI systems interact. This interaction will lead to AI systems that are more human-like and able to adapt to complex and unpredictable situations.\n",
      "Human-AI collaboration can be seen in various applications, such as the use of virtual assistants, AI-powered tools for healthcare and education, and the development of autonomous vehicles. However, there are also concerns about the impact of AI on employment, data privacy, and the potential for AI"
     ]
    },
    {
     "name": "stdout",
     "output_type": "stream",
     "text": [
      " shaped by the way humans and AI systems interact. This interaction will lead to AI systems that are more human-like and able to adapt to complex and unpredictable situations.\n",
      "Human-AI collaboration can be seen in various applications, such as the use of virtual assistants, AI-powered tools for healthcare and education, and the development of autonomous vehicles. However, there are also concerns about the impact of AI on employment, data privacy, and the potential for AI systems"
     ]
    },
    {
     "name": "stdout",
     "output_type": "stream",
     "text": [
      " shaped by the way humans and AI systems interact. This interaction will lead to AI systems that are more human-like and able to adapt to complex and unpredictable situations.\n",
      "Human-AI collaboration can be seen in various applications, such as the use of virtual assistants, AI-powered tools for healthcare and education, and the development of autonomous vehicles. However, there are also concerns about the impact of AI on employment, data privacy, and the potential for AI systems to"
     ]
    },
    {
     "name": "stdout",
     "output_type": "stream",
     "text": [
      " shaped by the way humans and AI systems interact. This interaction will lead to AI systems that are more human-like and able to adapt to complex and unpredictable situations.\n",
      "Human-AI collaboration can be seen in various applications, such as the use of virtual assistants, AI-powered tools for healthcare and education, and the development of autonomous vehicles. However, there are also concerns about the impact of AI on employment, data privacy, and the potential for AI systems to be"
     ]
    },
    {
     "name": "stdout",
     "output_type": "stream",
     "text": [
      " shaped by the way humans and AI systems interact. This interaction will lead to AI systems that are more human-like and able to adapt to complex and unpredictable situations.\n",
      "Human-AI collaboration can be seen in various applications, such as the use of virtual assistants, AI-powered tools for healthcare and education, and the development of autonomous vehicles. However, there are also concerns about the impact of AI on employment, data privacy, and the potential for AI systems to be biased"
     ]
    },
    {
     "name": "stdout",
     "output_type": "stream",
     "text": [
      " shaped by the way humans and AI systems interact. This interaction will lead to AI systems that are more human-like and able to adapt to complex and unpredictable situations.\n",
      "Human-AI collaboration can be seen in various applications, such as the use of virtual assistants, AI-powered tools for healthcare and education, and the development of autonomous vehicles. However, there are also concerns about the impact of AI on employment, data privacy, and the potential for AI systems to be biased or"
     ]
    },
    {
     "name": "stdout",
     "output_type": "stream",
     "text": [
      " shaped by the way humans and AI systems interact. This interaction will lead to AI systems that are more human-like and able to adapt to complex and unpredictable situations.\n",
      "Human-AI collaboration can be seen in various applications, such as the use of virtual assistants, AI-powered tools for healthcare and education, and the development of autonomous vehicles. However, there are also concerns about the impact of AI on employment, data privacy, and the potential for AI systems to be biased or discriminatory"
     ]
    },
    {
     "name": "stdout",
     "output_type": "stream",
     "text": [
      " shaped by the way humans and AI systems interact. This interaction will lead to AI systems that are more human-like and able to adapt to complex and unpredictable situations.\n",
      "Human-AI collaboration can be seen in various applications, such as the use of virtual assistants, AI-powered tools for healthcare and education, and the development of autonomous vehicles. However, there are also concerns about the impact of AI on employment, data privacy, and the potential for AI systems to be biased or discriminatory.\n"
     ]
    },
    {
     "name": "stdout",
     "output_type": "stream",
     "text": [
      " shaped by the way humans and AI systems interact. This interaction will lead to AI systems that are more human-like and able to adapt to complex and unpredictable situations.\n",
      "Human-AI collaboration can be seen in various applications, such as the use of virtual assistants, AI-powered tools for healthcare and education, and the development of autonomous vehicles. However, there are also concerns about the impact of AI on employment, data privacy, and the potential for AI systems to be biased or discriminatory.\n",
      "The"
     ]
    },
    {
     "name": "stdout",
     "output_type": "stream",
     "text": [
      " shaped by the way humans and AI systems interact. This interaction will lead to AI systems that are more human-like and able to adapt to complex and unpredictable situations.\n",
      "Human-AI collaboration can be seen in various applications, such as the use of virtual assistants, AI-powered tools for healthcare and education, and the development of autonomous vehicles. However, there are also concerns about the impact of AI on employment, data privacy, and the potential for AI systems to be biased or discriminatory.\n",
      "The future"
     ]
    },
    {
     "name": "stdout",
     "output_type": "stream",
     "text": [
      " shaped by the way humans and AI systems interact. This interaction will lead to AI systems that are more human-like and able to adapt to complex and unpredictable situations.\n",
      "Human-AI collaboration can be seen in various applications, such as the use of virtual assistants, AI-powered tools for healthcare and education, and the development of autonomous vehicles. However, there are also concerns about the impact of AI on employment, data privacy, and the potential for AI systems to be biased or discriminatory.\n",
      "The future of"
     ]
    },
    {
     "name": "stdout",
     "output_type": "stream",
     "text": [
      " shaped by the way humans and AI systems interact. This interaction will lead to AI systems that are more human-like and able to adapt to complex and unpredictable situations.\n",
      "Human-AI collaboration can be seen in various applications, such as the use of virtual assistants, AI-powered tools for healthcare and education, and the development of autonomous vehicles. However, there are also concerns about the impact of AI on employment, data privacy, and the potential for AI systems to be biased or discriminatory.\n",
      "The future of AI"
     ]
    },
    {
     "name": "stdout",
     "output_type": "stream",
     "text": [
      " shaped by the way humans and AI systems interact. This interaction will lead to AI systems that are more human-like and able to adapt to complex and unpredictable situations.\n",
      "Human-AI collaboration can be seen in various applications, such as the use of virtual assistants, AI-powered tools for healthcare and education, and the development of autonomous vehicles. However, there are also concerns about the impact of AI on employment, data privacy, and the potential for AI systems to be biased or discriminatory.\n",
      "The future of AI will"
     ]
    },
    {
     "name": "stdout",
     "output_type": "stream",
     "text": [
      " shaped by the way humans and AI systems interact. This interaction will lead to AI systems that are more human-like and able to adapt to complex and unpredictable situations.\n",
      "Human-AI collaboration can be seen in various applications, such as the use of virtual assistants, AI-powered tools for healthcare and education, and the development of autonomous vehicles. However, there are also concerns about the impact of AI on employment, data privacy, and the potential for AI systems to be biased or discriminatory.\n",
      "The future of AI will also"
     ]
    },
    {
     "name": "stdout",
     "output_type": "stream",
     "text": [
      " shaped by the way humans and AI systems interact. This interaction will lead to AI systems that are more human-like and able to adapt to complex and unpredictable situations.\n",
      "Human-AI collaboration can be seen in various applications, such as the use of virtual assistants, AI-powered tools for healthcare and education, and the development of autonomous vehicles. However, there are also concerns about the impact of AI on employment, data privacy, and the potential for AI systems to be biased or discriminatory.\n",
      "The future of AI will also be"
     ]
    },
    {
     "name": "stdout",
     "output_type": "stream",
     "text": [
      " shaped by the way humans and AI systems interact. This interaction will lead to AI systems that are more human-like and able to adapt to complex and unpredictable situations.\n",
      "Human-AI collaboration can be seen in various applications, such as the use of virtual assistants, AI-powered tools for healthcare and education, and the development of autonomous vehicles. However, there are also concerns about the impact of AI on employment, data privacy, and the potential for AI systems to be biased or discriminatory.\n",
      "The future of AI will also be shaped"
     ]
    },
    {
     "name": "stdout",
     "output_type": "stream",
     "text": [
      " shaped by the way humans and AI systems interact. This interaction will lead to AI systems that are more human-like and able to adapt to complex and unpredictable situations.\n",
      "Human-AI collaboration can be seen in various applications, such as the use of virtual assistants, AI-powered tools for healthcare and education, and the development of autonomous vehicles. However, there are also concerns about the impact of AI on employment, data privacy, and the potential for AI systems to be biased or discriminatory.\n",
      "The future of AI will also be shaped by"
     ]
    },
    {
     "name": "stdout",
     "output_type": "stream",
     "text": [
      " shaped by the way humans and AI systems interact. This interaction will lead to AI systems that are more human-like and able to adapt to complex and unpredictable situations.\n",
      "Human-AI collaboration can be seen in various applications, such as the use of virtual assistants, AI-powered tools for healthcare and education, and the development of autonomous vehicles. However, there are also concerns about the impact of AI on employment, data privacy, and the potential for AI systems to be biased or discriminatory.\n",
      "The future of AI will also be shaped by advancements"
     ]
    },
    {
     "name": "stdout",
     "output_type": "stream",
     "text": [
      " shaped by the way humans and AI systems interact. This interaction will lead to AI systems that are more human-like and able to adapt to complex and unpredictable situations.\n",
      "Human-AI collaboration can be seen in various applications, such as the use of virtual assistants, AI-powered tools for healthcare and education, and the development of autonomous vehicles. However, there are also concerns about the impact of AI on employment, data privacy, and the potential for AI systems to be biased or discriminatory.\n",
      "The future of AI will also be shaped by advancements in"
     ]
    },
    {
     "name": "stdout",
     "output_type": "stream",
     "text": [
      " shaped by the way humans and AI systems interact. This interaction will lead to AI systems that are more human-like and able to adapt to complex and unpredictable situations.\n",
      "Human-AI collaboration can be seen in various applications, such as the use of virtual assistants, AI-powered tools for healthcare and education, and the development of autonomous vehicles. However, there are also concerns about the impact of AI on employment, data privacy, and the potential for AI systems to be biased or discriminatory.\n",
      "The future of AI will also be shaped by advancements in areas"
     ]
    },
    {
     "name": "stdout",
     "output_type": "stream",
     "text": [
      " shaped by the way humans and AI systems interact. This interaction will lead to AI systems that are more human-like and able to adapt to complex and unpredictable situations.\n",
      "Human-AI collaboration can be seen in various applications, such as the use of virtual assistants, AI-powered tools for healthcare and education, and the development of autonomous vehicles. However, there are also concerns about the impact of AI on employment, data privacy, and the potential for AI systems to be biased or discriminatory.\n",
      "The future of AI will also be shaped by advancements in areas such"
     ]
    },
    {
     "name": "stdout",
     "output_type": "stream",
     "text": [
      " shaped by the way humans and AI systems interact. This interaction will lead to AI systems that are more human-like and able to adapt to complex and unpredictable situations.\n",
      "Human-AI collaboration can be seen in various applications, such as the use of virtual assistants, AI-powered tools for healthcare and education, and the development of autonomous vehicles. However, there are also concerns about the impact of AI on employment, data privacy, and the potential for AI systems to be biased or discriminatory.\n",
      "The future of AI will also be shaped by advancements in areas such as"
     ]
    },
    {
     "name": "stdout",
     "output_type": "stream",
     "text": [
      " shaped by the way humans and AI systems interact. This interaction will lead to AI systems that are more human-like and able to adapt to complex and unpredictable situations.\n",
      "Human-AI collaboration can be seen in various applications, such as the use of virtual assistants, AI-powered tools for healthcare and education, and the development of autonomous vehicles. However, there are also concerns about the impact of AI on employment, data privacy, and the potential for AI systems to be biased or discriminatory.\n",
      "The future of AI will also be shaped by advancements in areas such as natural"
     ]
    },
    {
     "name": "stdout",
     "output_type": "stream",
     "text": [
      " shaped by the way humans and AI systems interact. This interaction will lead to AI systems that are more human-like and able to adapt to complex and unpredictable situations.\n",
      "Human-AI collaboration can be seen in various applications, such as the use of virtual assistants, AI-powered tools for healthcare and education, and the development of autonomous vehicles. However, there are also concerns about the impact of AI on employment, data privacy, and the potential for AI systems to be biased or discriminatory.\n",
      "The future of AI will also be shaped by advancements in areas such as natural language"
     ]
    },
    {
     "name": "stdout",
     "output_type": "stream",
     "text": [
      " shaped by the way humans and AI systems interact. This interaction will lead to AI systems that are more human-like and able to adapt to complex and unpredictable situations.\n",
      "Human-AI collaboration can be seen in various applications, such as the use of virtual assistants, AI-powered tools for healthcare and education, and the development of autonomous vehicles. However, there are also concerns about the impact of AI on employment, data privacy, and the potential for AI systems to be biased or discriminatory.\n",
      "The future of AI will also be shaped by advancements in areas such as natural language processing"
     ]
    },
    {
     "name": "stdout",
     "output_type": "stream",
     "text": [
      " shaped by the way humans and AI systems interact. This interaction will lead to AI systems that are more human-like and able to adapt to complex and unpredictable situations.\n",
      "Human-AI collaboration can be seen in various applications, such as the use of virtual assistants, AI-powered tools for healthcare and education, and the development of autonomous vehicles. However, there are also concerns about the impact of AI on employment, data privacy, and the potential for AI systems to be biased or discriminatory.\n",
      "The future of AI will also be shaped by advancements in areas such as natural language processing,"
     ]
    },
    {
     "name": "stdout",
     "output_type": "stream",
     "text": [
      " shaped by the way humans and AI systems interact. This interaction will lead to AI systems that are more human-like and able to adapt to complex and unpredictable situations.\n",
      "Human-AI collaboration can be seen in various applications, such as the use of virtual assistants, AI-powered tools for healthcare and education, and the development of autonomous vehicles. However, there are also concerns about the impact of AI on employment, data privacy, and the potential for AI systems to be biased or discriminatory.\n",
      "The future of AI will also be shaped by advancements in areas such as natural language processing, computer"
     ]
    },
    {
     "name": "stdout",
     "output_type": "stream",
     "text": [
      " shaped by the way humans and AI systems interact. This interaction will lead to AI systems that are more human-like and able to adapt to complex and unpredictable situations.\n",
      "Human-AI collaboration can be seen in various applications, such as the use of virtual assistants, AI-powered tools for healthcare and education, and the development of autonomous vehicles. However, there are also concerns about the impact of AI on employment, data privacy, and the potential for AI systems to be biased or discriminatory.\n",
      "The future of AI will also be shaped by advancements in areas such as natural language processing, computer vision"
     ]
    },
    {
     "name": "stdout",
     "output_type": "stream",
     "text": [
      " shaped by the way humans and AI systems interact. This interaction will lead to AI systems that are more human-like and able to adapt to complex and unpredictable situations.\n",
      "Human-AI collaboration can be seen in various applications, such as the use of virtual assistants, AI-powered tools for healthcare and education, and the development of autonomous vehicles. However, there are also concerns about the impact of AI on employment, data privacy, and the potential for AI systems to be biased or discriminatory.\n",
      "The future of AI will also be shaped by advancements in areas such as natural language processing, computer vision,"
     ]
    },
    {
     "name": "stdout",
     "output_type": "stream",
     "text": [
      " shaped by the way humans and AI systems interact. This interaction will lead to AI systems that are more human-like and able to adapt to complex and unpredictable situations.\n",
      "Human-AI collaboration can be seen in various applications, such as the use of virtual assistants, AI-powered tools for healthcare and education, and the development of autonomous vehicles. However, there are also concerns about the impact of AI on employment, data privacy, and the potential for AI systems to be biased or discriminatory.\n",
      "The future of AI will also be shaped by advancements in areas such as natural language processing, computer vision, and"
     ]
    },
    {
     "name": "stdout",
     "output_type": "stream",
     "text": [
      " shaped by the way humans and AI systems interact. This interaction will lead to AI systems that are more human-like and able to adapt to complex and unpredictable situations.\n",
      "Human-AI collaboration can be seen in various applications, such as the use of virtual assistants, AI-powered tools for healthcare and education, and the development of autonomous vehicles. However, there are also concerns about the impact of AI on employment, data privacy, and the potential for AI systems to be biased or discriminatory.\n",
      "The future of AI will also be shaped by advancements in areas such as natural language processing, computer vision, and reinforcement"
     ]
    },
    {
     "name": "stdout",
     "output_type": "stream",
     "text": [
      " shaped by the way humans and AI systems interact. This interaction will lead to AI systems that are more human-like and able to adapt to complex and unpredictable situations.\n",
      "Human-AI collaboration can be seen in various applications, such as the use of virtual assistants, AI-powered tools for healthcare and education, and the development of autonomous vehicles. However, there are also concerns about the impact of AI on employment, data privacy, and the potential for AI systems to be biased or discriminatory.\n",
      "The future of AI will also be shaped by advancements in areas such as natural language processing, computer vision, and reinforcement learning"
     ]
    },
    {
     "name": "stdout",
     "output_type": "stream",
     "text": [
      " shaped by the way humans and AI systems interact. This interaction will lead to AI systems that are more human-like and able to adapt to complex and unpredictable situations.\n",
      "Human-AI collaboration can be seen in various applications, such as the use of virtual assistants, AI-powered tools for healthcare and education, and the development of autonomous vehicles. However, there are also concerns about the impact of AI on employment, data privacy, and the potential for AI systems to be biased or discriminatory.\n",
      "The future of AI will also be shaped by advancements in areas such as natural language processing, computer vision, and reinforcement learning."
     ]
    },
    {
     "name": "stdout",
     "output_type": "stream",
     "text": [
      " shaped by the way humans and AI systems interact. This interaction will lead to AI systems that are more human-like and able to adapt to complex and unpredictable situations.\n",
      "Human-AI collaboration can be seen in various applications, such as the use of virtual assistants, AI-powered tools for healthcare and education, and the development of autonomous vehicles. However, there are also concerns about the impact of AI on employment, data privacy, and the potential for AI systems to be biased or discriminatory.\n",
      "The future of AI will also be shaped by advancements in areas such as natural language processing, computer vision, and reinforcement learning. These"
     ]
    },
    {
     "name": "stdout",
     "output_type": "stream",
     "text": [
      " shaped by the way humans and AI systems interact. This interaction will lead to AI systems that are more human-like and able to adapt to complex and unpredictable situations.\n",
      "Human-AI collaboration can be seen in various applications, such as the use of virtual assistants, AI-powered tools for healthcare and education, and the development of autonomous vehicles. However, there are also concerns about the impact of AI on employment, data privacy, and the potential for AI systems to be biased or discriminatory.\n",
      "The future of AI will also be shaped by advancements in areas such as natural language processing, computer vision, and reinforcement learning. These advancements"
     ]
    },
    {
     "name": "stdout",
     "output_type": "stream",
     "text": [
      " shaped by the way humans and AI systems interact. This interaction will lead to AI systems that are more human-like and able to adapt to complex and unpredictable situations.\n",
      "Human-AI collaboration can be seen in various applications, such as the use of virtual assistants, AI-powered tools for healthcare and education, and the development of autonomous vehicles. However, there are also concerns about the impact of AI on employment, data privacy, and the potential for AI systems to be biased or discriminatory.\n",
      "The future of AI will also be shaped by advancements in areas such as natural language processing, computer vision, and reinforcement learning. These advancements will"
     ]
    },
    {
     "name": "stdout",
     "output_type": "stream",
     "text": [
      " shaped by the way humans and AI systems interact. This interaction will lead to AI systems that are more human-like and able to adapt to complex and unpredictable situations.\n",
      "Human-AI collaboration can be seen in various applications, such as the use of virtual assistants, AI-powered tools for healthcare and education, and the development of autonomous vehicles. However, there are also concerns about the impact of AI on employment, data privacy, and the potential for AI systems to be biased or discriminatory.\n",
      "The future of AI will also be shaped by advancements in areas such as natural language processing, computer vision, and reinforcement learning. These advancements will enable"
     ]
    },
    {
     "name": "stdout",
     "output_type": "stream",
     "text": [
      " shaped by the way humans and AI systems interact. This interaction will lead to AI systems that are more human-like and able to adapt to complex and unpredictable situations.\n",
      "Human-AI collaboration can be seen in various applications, such as the use of virtual assistants, AI-powered tools for healthcare and education, and the development of autonomous vehicles. However, there are also concerns about the impact of AI on employment, data privacy, and the potential for AI systems to be biased or discriminatory.\n",
      "The future of AI will also be shaped by advancements in areas such as natural language processing, computer vision, and reinforcement learning. These advancements will enable AI"
     ]
    },
    {
     "name": "stdout",
     "output_type": "stream",
     "text": [
      " shaped by the way humans and AI systems interact. This interaction will lead to AI systems that are more human-like and able to adapt to complex and unpredictable situations.\n",
      "Human-AI collaboration can be seen in various applications, such as the use of virtual assistants, AI-powered tools for healthcare and education, and the development of autonomous vehicles. However, there are also concerns about the impact of AI on employment, data privacy, and the potential for AI systems to be biased or discriminatory.\n",
      "The future of AI will also be shaped by advancements in areas such as natural language processing, computer vision, and reinforcement learning. These advancements will enable AI systems"
     ]
    },
    {
     "name": "stdout",
     "output_type": "stream",
     "text": [
      " shaped by the way humans and AI systems interact. This interaction will lead to AI systems that are more human-like and able to adapt to complex and unpredictable situations.\n",
      "Human-AI collaboration can be seen in various applications, such as the use of virtual assistants, AI-powered tools for healthcare and education, and the development of autonomous vehicles. However, there are also concerns about the impact of AI on employment, data privacy, and the potential for AI systems to be biased or discriminatory.\n",
      "The future of AI will also be shaped by advancements in areas such as natural language processing, computer vision, and reinforcement learning. These advancements will enable AI systems to"
     ]
    },
    {
     "name": "stdout",
     "output_type": "stream",
     "text": [
      " shaped by the way humans and AI systems interact. This interaction will lead to AI systems that are more human-like and able to adapt to complex and unpredictable situations.\n",
      "Human-AI collaboration can be seen in various applications, such as the use of virtual assistants, AI-powered tools for healthcare and education, and the development of autonomous vehicles. However, there are also concerns about the impact of AI on employment, data privacy, and the potential for AI systems to be biased or discriminatory.\n",
      "The future of AI will also be shaped by advancements in areas such as natural language processing, computer vision, and reinforcement learning. These advancements will enable AI systems to better"
     ]
    },
    {
     "name": "stdout",
     "output_type": "stream",
     "text": [
      "\n"
     ]
    }
   ],
   "source": [
    "prompts = [\n",
    "    \"Hello, my name is\",\n",
    "    \"The capital of France is\",\n",
    "    \"The future of AI is\",\n",
    "]\n",
    "sampling_params = {\"temperature\": 0.8, \"top_p\": 0.95}\n",
    "\n",
    "print(\"\\n=== Testing synchronous streaming generation ===\")\n",
    "\n",
    "for prompt in prompts:\n",
    "    print(f\"\\nPrompt: {prompt}\")\n",
    "    print(\"Generated text: \", end=\"\", flush=True)\n",
    "\n",
    "    for chunk in llm.generate(prompt, sampling_params, stream=True):\n",
    "        print(chunk[\"text\"], end=\"\", flush=True)\n",
    "    print()"
   ]
  },
  {
   "cell_type": "markdown",
   "metadata": {},
   "source": [
    "### Non-streaming Asynchronous Generation"
   ]
  },
  {
   "cell_type": "code",
   "execution_count": 4,
   "metadata": {
    "execution": {
     "iopub.execute_input": "2025-01-23T19:37:34.604086Z",
     "iopub.status.busy": "2025-01-23T19:37:34.603913Z",
     "iopub.status.idle": "2025-01-23T19:37:35.511616Z",
     "shell.execute_reply": "2025-01-23T19:37:35.510912Z"
    }
   },
   "outputs": [
    {
     "name": "stdout",
     "output_type": "stream",
     "text": [
      "\n",
      "=== Testing asynchronous batch generation ===\n"
     ]
    },
    {
     "name": "stdout",
     "output_type": "stream",
     "text": [
      "\n",
      "Prompt: Hello, my name is\n",
      "Generated text:  Richard and I'm a musician from the UK. I've been involved in various musical projects over the years but never thought I had what it took to be a professional musician. However, after a personal experience with a terminal illness, I realized life is short and that I should pursue my dreams.\n",
      "I've been writing songs and music for as long as I can remember, and I've been playing instruments since I was 12. My musical influences are diverse, from Elton John to Nick Drake, Led Zeppelin to Radiohead. I draw inspiration from life, love, and the world around me.\n",
      "My music is a blend of rock\n",
      "\n",
      "Prompt: The capital of France is\n",
      "Generated text:  a popular destination for people who love art, fashion, and history. The city is known for its stunning architecture, iconic landmarks, and world-class museums. Here are some of the top things to do in Paris:\n",
      "1. Visit the Eiffel Tower: The Eiffel Tower is an iconic symbol of Paris and one of the most recognizable landmarks in the world. Visitors can take a lift to the top for stunning views of the city.\n",
      "2. Explore the Louvre Museum: The Louvre is one of the world's largest and most famous museums, housing a vast collection of art and artifacts from around the world. The museum is\n",
      "\n",
      "Prompt: The future of AI is\n",
      "Generated text:  uncertain, and many experts are concerned about its potential impact on society. Some worry that AI could be used to automate jobs, exacerbate existing inequalities, and even lead to the downfall of human civilization. Others are more optimistic, believing that AI could bring about significant benefits, such as improved healthcare, more efficient resource allocation, and enhanced scientific discovery.\n",
      "One of the key challenges in developing AI is ensuring that it is aligned with human values. This requires a deeper understanding of what those values are and how they can be incorporated into AI systems. Some researchers are exploring the use of formal methods, such as logic and mathematics, to define and reason about\n"
     ]
    }
   ],
   "source": [
    "prompts = [\n",
    "    \"Hello, my name is\",\n",
    "    \"The capital of France is\",\n",
    "    \"The future of AI is\",\n",
    "]\n",
    "\n",
    "sampling_params = {\"temperature\": 0.8, \"top_p\": 0.95}\n",
    "\n",
    "print(\"\\n=== Testing asynchronous batch generation ===\")\n",
    "\n",
    "\n",
    "async def main():\n",
    "    outputs = await llm.async_generate(prompts, sampling_params)\n",
    "\n",
    "    for prompt, output in zip(prompts, outputs):\n",
    "        print(f\"\\nPrompt: {prompt}\")\n",
    "        print(f\"Generated text: {output['text']}\")\n",
    "\n",
    "\n",
    "asyncio.run(main())"
   ]
  },
  {
   "cell_type": "markdown",
   "metadata": {},
   "source": [
    "### Streaming Asynchronous Generation"
   ]
  },
  {
   "cell_type": "code",
   "execution_count": 5,
   "metadata": {
    "execution": {
     "iopub.execute_input": "2025-01-23T19:37:35.513503Z",
     "iopub.status.busy": "2025-01-23T19:37:35.513179Z",
     "iopub.status.idle": "2025-01-23T19:37:38.110408Z",
     "shell.execute_reply": "2025-01-23T19:37:38.109727Z"
    }
   },
   "outputs": [
    {
     "name": "stdout",
     "output_type": "stream",
     "text": [
      "\n",
      "=== Testing asynchronous streaming generation ===\n",
      "\n",
      "Prompt: Hello, my name is\n",
      "Generated text: "
     ]
    },
    {
     "name": "stdout",
     "output_type": "stream",
     "text": [
      " Josh"
     ]
    },
    {
     "name": "stdout",
     "output_type": "stream",
     "text": [
      " Josh!"
     ]
    },
    {
     "name": "stdout",
     "output_type": "stream",
     "text": [
      " Josh! I"
     ]
    },
    {
     "name": "stdout",
     "output_type": "stream",
     "text": [
      " Josh! I'm"
     ]
    },
    {
     "name": "stdout",
     "output_type": "stream",
     "text": [
      " Josh! I'm a"
     ]
    },
    {
     "name": "stdout",
     "output_type": "stream",
     "text": [
      " Josh! I'm a co"
     ]
    },
    {
     "name": "stdout",
     "output_type": "stream",
     "text": [
      " Josh! I'm a co-founder"
     ]
    },
    {
     "name": "stdout",
     "output_type": "stream",
     "text": [
      " Josh! I'm a co-founder of"
     ]
    },
    {
     "name": "stdout",
     "output_type": "stream",
     "text": [
      " Josh! I'm a co-founder of Quick"
     ]
    },
    {
     "name": "stdout",
     "output_type": "stream",
     "text": [
      " Josh! I'm a co-founder of Quickbooks"
     ]
    },
    {
     "name": "stdout",
     "output_type": "stream",
     "text": [
      " Josh! I'm a co-founder of Quickbooks Training"
     ]
    },
    {
     "name": "stdout",
     "output_type": "stream",
     "text": [
      " Josh! I'm a co-founder of Quickbooks Training Solutions"
     ]
    },
    {
     "name": "stdout",
     "output_type": "stream",
     "text": [
      " Josh! I'm a co-founder of Quickbooks Training Solutions,"
     ]
    },
    {
     "name": "stdout",
     "output_type": "stream",
     "text": [
      " Josh! I'm a co-founder of Quickbooks Training Solutions, and"
     ]
    },
    {
     "name": "stdout",
     "output_type": "stream",
     "text": [
      " Josh! I'm a co-founder of Quickbooks Training Solutions, and I"
     ]
    },
    {
     "name": "stdout",
     "output_type": "stream",
     "text": [
      " Josh! I'm a co-founder of Quickbooks Training Solutions, and I'm"
     ]
    },
    {
     "name": "stdout",
     "output_type": "stream",
     "text": [
      " Josh! I'm a co-founder of Quickbooks Training Solutions, and I'm super"
     ]
    },
    {
     "name": "stdout",
     "output_type": "stream",
     "text": [
      " Josh! I'm a co-founder of Quickbooks Training Solutions, and I'm super excited"
     ]
    },
    {
     "name": "stdout",
     "output_type": "stream",
     "text": [
      " Josh! I'm a co-founder of Quickbooks Training Solutions, and I'm super excited to"
     ]
    },
    {
     "name": "stdout",
     "output_type": "stream",
     "text": [
      " Josh! I'm a co-founder of Quickbooks Training Solutions, and I'm super excited to help"
     ]
    },
    {
     "name": "stdout",
     "output_type": "stream",
     "text": [
      " Josh! I'm a co-founder of Quickbooks Training Solutions, and I'm super excited to help you"
     ]
    },
    {
     "name": "stdout",
     "output_type": "stream",
     "text": [
      " Josh! I'm a co-founder of Quickbooks Training Solutions, and I'm super excited to help you with"
     ]
    },
    {
     "name": "stdout",
     "output_type": "stream",
     "text": [
      " Josh! I'm a co-founder of Quickbooks Training Solutions, and I'm super excited to help you with your"
     ]
    },
    {
     "name": "stdout",
     "output_type": "stream",
     "text": [
      " Josh! I'm a co-founder of Quickbooks Training Solutions, and I'm super excited to help you with your Quick"
     ]
    },
    {
     "name": "stdout",
     "output_type": "stream",
     "text": [
      " Josh! I'm a co-founder of Quickbooks Training Solutions, and I'm super excited to help you with your Quickbooks"
     ]
    },
    {
     "name": "stdout",
     "output_type": "stream",
     "text": [
      " Josh! I'm a co-founder of Quickbooks Training Solutions, and I'm super excited to help you with your Quickbooks questions"
     ]
    },
    {
     "name": "stdout",
     "output_type": "stream",
     "text": [
      " Josh! I'm a co-founder of Quickbooks Training Solutions, and I'm super excited to help you with your Quickbooks questions and"
     ]
    },
    {
     "name": "stdout",
     "output_type": "stream",
     "text": [
      " Josh! I'm a co-founder of Quickbooks Training Solutions, and I'm super excited to help you with your Quickbooks questions and concerns"
     ]
    },
    {
     "name": "stdout",
     "output_type": "stream",
     "text": [
      " Josh! I'm a co-founder of Quickbooks Training Solutions, and I'm super excited to help you with your Quickbooks questions and concerns."
     ]
    },
    {
     "name": "stdout",
     "output_type": "stream",
     "text": [
      " Josh! I'm a co-founder of Quickbooks Training Solutions, and I'm super excited to help you with your Quickbooks questions and concerns. How"
     ]
    },
    {
     "name": "stdout",
     "output_type": "stream",
     "text": [
      " Josh! I'm a co-founder of Quickbooks Training Solutions, and I'm super excited to help you with your Quickbooks questions and concerns. How can"
     ]
    },
    {
     "name": "stdout",
     "output_type": "stream",
     "text": [
      " Josh! I'm a co-founder of Quickbooks Training Solutions, and I'm super excited to help you with your Quickbooks questions and concerns. How can I"
     ]
    },
    {
     "name": "stdout",
     "output_type": "stream",
     "text": [
      " Josh! I'm a co-founder of Quickbooks Training Solutions, and I'm super excited to help you with your Quickbooks questions and concerns. How can I assist"
     ]
    },
    {
     "name": "stdout",
     "output_type": "stream",
     "text": [
      " Josh! I'm a co-founder of Quickbooks Training Solutions, and I'm super excited to help you with your Quickbooks questions and concerns. How can I assist you"
     ]
    },
    {
     "name": "stdout",
     "output_type": "stream",
     "text": [
      " Josh! I'm a co-founder of Quickbooks Training Solutions, and I'm super excited to help you with your Quickbooks questions and concerns. How can I assist you today"
     ]
    },
    {
     "name": "stdout",
     "output_type": "stream",
     "text": [
      " Josh! I'm a co-founder of Quickbooks Training Solutions, and I'm super excited to help you with your Quickbooks questions and concerns. How can I assist you today?\n"
     ]
    },
    {
     "name": "stdout",
     "output_type": "stream",
     "text": [
      " Josh! I'm a co-founder of Quickbooks Training Solutions, and I'm super excited to help you with your Quickbooks questions and concerns. How can I assist you today?\n",
      "I"
     ]
    },
    {
     "name": "stdout",
     "output_type": "stream",
     "text": [
      " Josh! I'm a co-founder of Quickbooks Training Solutions, and I'm super excited to help you with your Quickbooks questions and concerns. How can I assist you today?\n",
      "I'm"
     ]
    },
    {
     "name": "stdout",
     "output_type": "stream",
     "text": [
      " Josh! I'm a co-founder of Quickbooks Training Solutions, and I'm super excited to help you with your Quickbooks questions and concerns. How can I assist you today?\n",
      "I'm having"
     ]
    },
    {
     "name": "stdout",
     "output_type": "stream",
     "text": [
      " Josh! I'm a co-founder of Quickbooks Training Solutions, and I'm super excited to help you with your Quickbooks questions and concerns. How can I assist you today?\n",
      "I'm having some"
     ]
    },
    {
     "name": "stdout",
     "output_type": "stream",
     "text": [
      " Josh! I'm a co-founder of Quickbooks Training Solutions, and I'm super excited to help you with your Quickbooks questions and concerns. How can I assist you today?\n",
      "I'm having some trouble"
     ]
    },
    {
     "name": "stdout",
     "output_type": "stream",
     "text": [
      " Josh! I'm a co-founder of Quickbooks Training Solutions, and I'm super excited to help you with your Quickbooks questions and concerns. How can I assist you today?\n",
      "I'm having some trouble setting"
     ]
    },
    {
     "name": "stdout",
     "output_type": "stream",
     "text": [
      " Josh! I'm a co-founder of Quickbooks Training Solutions, and I'm super excited to help you with your Quickbooks questions and concerns. How can I assist you today?\n",
      "I'm having some trouble setting up"
     ]
    },
    {
     "name": "stdout",
     "output_type": "stream",
     "text": [
      " Josh! I'm a co-founder of Quickbooks Training Solutions, and I'm super excited to help you with your Quickbooks questions and concerns. How can I assist you today?\n",
      "I'm having some trouble setting up my"
     ]
    },
    {
     "name": "stdout",
     "output_type": "stream",
     "text": [
      " Josh! I'm a co-founder of Quickbooks Training Solutions, and I'm super excited to help you with your Quickbooks questions and concerns. How can I assist you today?\n",
      "I'm having some trouble setting up my Quick"
     ]
    },
    {
     "name": "stdout",
     "output_type": "stream",
     "text": [
      " Josh! I'm a co-founder of Quickbooks Training Solutions, and I'm super excited to help you with your Quickbooks questions and concerns. How can I assist you today?\n",
      "I'm having some trouble setting up my QuickBooks"
     ]
    },
    {
     "name": "stdout",
     "output_type": "stream",
     "text": [
      " Josh! I'm a co-founder of Quickbooks Training Solutions, and I'm super excited to help you with your Quickbooks questions and concerns. How can I assist you today?\n",
      "I'm having some trouble setting up my QuickBooks Online"
     ]
    },
    {
     "name": "stdout",
     "output_type": "stream",
     "text": [
      " Josh! I'm a co-founder of Quickbooks Training Solutions, and I'm super excited to help you with your Quickbooks questions and concerns. How can I assist you today?\n",
      "I'm having some trouble setting up my QuickBooks Online account"
     ]
    },
    {
     "name": "stdout",
     "output_type": "stream",
     "text": [
      " Josh! I'm a co-founder of Quickbooks Training Solutions, and I'm super excited to help you with your Quickbooks questions and concerns. How can I assist you today?\n",
      "I'm having some trouble setting up my QuickBooks Online account."
     ]
    },
    {
     "name": "stdout",
     "output_type": "stream",
     "text": [
      " Josh! I'm a co-founder of Quickbooks Training Solutions, and I'm super excited to help you with your Quickbooks questions and concerns. How can I assist you today?\n",
      "I'm having some trouble setting up my QuickBooks Online account. I"
     ]
    },
    {
     "name": "stdout",
     "output_type": "stream",
     "text": [
      " Josh! I'm a co-founder of Quickbooks Training Solutions, and I'm super excited to help you with your Quickbooks questions and concerns. How can I assist you today?\n",
      "I'm having some trouble setting up my QuickBooks Online account. I've"
     ]
    },
    {
     "name": "stdout",
     "output_type": "stream",
     "text": [
      " Josh! I'm a co-founder of Quickbooks Training Solutions, and I'm super excited to help you with your Quickbooks questions and concerns. How can I assist you today?\n",
      "I'm having some trouble setting up my QuickBooks Online account. I've tried"
     ]
    },
    {
     "name": "stdout",
     "output_type": "stream",
     "text": [
      " Josh! I'm a co-founder of Quickbooks Training Solutions, and I'm super excited to help you with your Quickbooks questions and concerns. How can I assist you today?\n",
      "I'm having some trouble setting up my QuickBooks Online account. I've tried following"
     ]
    },
    {
     "name": "stdout",
     "output_type": "stream",
     "text": [
      " Josh! I'm a co-founder of Quickbooks Training Solutions, and I'm super excited to help you with your Quickbooks questions and concerns. How can I assist you today?\n",
      "I'm having some trouble setting up my QuickBooks Online account. I've tried following the"
     ]
    },
    {
     "name": "stdout",
     "output_type": "stream",
     "text": [
      " Josh! I'm a co-founder of Quickbooks Training Solutions, and I'm super excited to help you with your Quickbooks questions and concerns. How can I assist you today?\n",
      "I'm having some trouble setting up my QuickBooks Online account. I've tried following the tutorials"
     ]
    },
    {
     "name": "stdout",
     "output_type": "stream",
     "text": [
      " Josh! I'm a co-founder of Quickbooks Training Solutions, and I'm super excited to help you with your Quickbooks questions and concerns. How can I assist you today?\n",
      "I'm having some trouble setting up my QuickBooks Online account. I've tried following the tutorials and"
     ]
    },
    {
     "name": "stdout",
     "output_type": "stream",
     "text": [
      " Josh! I'm a co-founder of Quickbooks Training Solutions, and I'm super excited to help you with your Quickbooks questions and concerns. How can I assist you today?\n",
      "I'm having some trouble setting up my QuickBooks Online account. I've tried following the tutorials and online"
     ]
    },
    {
     "name": "stdout",
     "output_type": "stream",
     "text": [
      " Josh! I'm a co-founder of Quickbooks Training Solutions, and I'm super excited to help you with your Quickbooks questions and concerns. How can I assist you today?\n",
      "I'm having some trouble setting up my QuickBooks Online account. I've tried following the tutorials and online guides"
     ]
    },
    {
     "name": "stdout",
     "output_type": "stream",
     "text": [
      " Josh! I'm a co-founder of Quickbooks Training Solutions, and I'm super excited to help you with your Quickbooks questions and concerns. How can I assist you today?\n",
      "I'm having some trouble setting up my QuickBooks Online account. I've tried following the tutorials and online guides,"
     ]
    },
    {
     "name": "stdout",
     "output_type": "stream",
     "text": [
      " Josh! I'm a co-founder of Quickbooks Training Solutions, and I'm super excited to help you with your Quickbooks questions and concerns. How can I assist you today?\n",
      "I'm having some trouble setting up my QuickBooks Online account. I've tried following the tutorials and online guides, but"
     ]
    },
    {
     "name": "stdout",
     "output_type": "stream",
     "text": [
      " Josh! I'm a co-founder of Quickbooks Training Solutions, and I'm super excited to help you with your Quickbooks questions and concerns. How can I assist you today?\n",
      "I'm having some trouble setting up my QuickBooks Online account. I've tried following the tutorials and online guides, but I"
     ]
    },
    {
     "name": "stdout",
     "output_type": "stream",
     "text": [
      " Josh! I'm a co-founder of Quickbooks Training Solutions, and I'm super excited to help you with your Quickbooks questions and concerns. How can I assist you today?\n",
      "I'm having some trouble setting up my QuickBooks Online account. I've tried following the tutorials and online guides, but I'm"
     ]
    },
    {
     "name": "stdout",
     "output_type": "stream",
     "text": [
      " Josh! I'm a co-founder of Quickbooks Training Solutions, and I'm super excited to help you with your Quickbooks questions and concerns. How can I assist you today?\n",
      "I'm having some trouble setting up my QuickBooks Online account. I've tried following the tutorials and online guides, but I'm still"
     ]
    },
    {
     "name": "stdout",
     "output_type": "stream",
     "text": [
      " Josh! I'm a co-founder of Quickbooks Training Solutions, and I'm super excited to help you with your Quickbooks questions and concerns. How can I assist you today?\n",
      "I'm having some trouble setting up my QuickBooks Online account. I've tried following the tutorials and online guides, but I'm still having"
     ]
    },
    {
     "name": "stdout",
     "output_type": "stream",
     "text": [
      " Josh! I'm a co-founder of Quickbooks Training Solutions, and I'm super excited to help you with your Quickbooks questions and concerns. How can I assist you today?\n",
      "I'm having some trouble setting up my QuickBooks Online account. I've tried following the tutorials and online guides, but I'm still having some"
     ]
    },
    {
     "name": "stdout",
     "output_type": "stream",
     "text": [
      " Josh! I'm a co-founder of Quickbooks Training Solutions, and I'm super excited to help you with your Quickbooks questions and concerns. How can I assist you today?\n",
      "I'm having some trouble setting up my QuickBooks Online account. I've tried following the tutorials and online guides, but I'm still having some issues"
     ]
    },
    {
     "name": "stdout",
     "output_type": "stream",
     "text": [
      " Josh! I'm a co-founder of Quickbooks Training Solutions, and I'm super excited to help you with your Quickbooks questions and concerns. How can I assist you today?\n",
      "I'm having some trouble setting up my QuickBooks Online account. I've tried following the tutorials and online guides, but I'm still having some issues."
     ]
    },
    {
     "name": "stdout",
     "output_type": "stream",
     "text": [
      " Josh! I'm a co-founder of Quickbooks Training Solutions, and I'm super excited to help you with your Quickbooks questions and concerns. How can I assist you today?\n",
      "I'm having some trouble setting up my QuickBooks Online account. I've tried following the tutorials and online guides, but I'm still having some issues. Can"
     ]
    },
    {
     "name": "stdout",
     "output_type": "stream",
     "text": [
      " Josh! I'm a co-founder of Quickbooks Training Solutions, and I'm super excited to help you with your Quickbooks questions and concerns. How can I assist you today?\n",
      "I'm having some trouble setting up my QuickBooks Online account. I've tried following the tutorials and online guides, but I'm still having some issues. Can you"
     ]
    },
    {
     "name": "stdout",
     "output_type": "stream",
     "text": [
      " Josh! I'm a co-founder of Quickbooks Training Solutions, and I'm super excited to help you with your Quickbooks questions and concerns. How can I assist you today?\n",
      "I'm having some trouble setting up my QuickBooks Online account. I've tried following the tutorials and online guides, but I'm still having some issues. Can you help"
     ]
    },
    {
     "name": "stdout",
     "output_type": "stream",
     "text": [
      " Josh! I'm a co-founder of Quickbooks Training Solutions, and I'm super excited to help you with your Quickbooks questions and concerns. How can I assist you today?\n",
      "I'm having some trouble setting up my QuickBooks Online account. I've tried following the tutorials and online guides, but I'm still having some issues. Can you help me"
     ]
    },
    {
     "name": "stdout",
     "output_type": "stream",
     "text": [
      " Josh! I'm a co-founder of Quickbooks Training Solutions, and I'm super excited to help you with your Quickbooks questions and concerns. How can I assist you today?\n",
      "I'm having some trouble setting up my QuickBooks Online account. I've tried following the tutorials and online guides, but I'm still having some issues. Can you help me troub"
     ]
    },
    {
     "name": "stdout",
     "output_type": "stream",
     "text": [
      " Josh! I'm a co-founder of Quickbooks Training Solutions, and I'm super excited to help you with your Quickbooks questions and concerns. How can I assist you today?\n",
      "I'm having some trouble setting up my QuickBooks Online account. I've tried following the tutorials and online guides, but I'm still having some issues. Can you help me troubleshoot"
     ]
    },
    {
     "name": "stdout",
     "output_type": "stream",
     "text": [
      " Josh! I'm a co-founder of Quickbooks Training Solutions, and I'm super excited to help you with your Quickbooks questions and concerns. How can I assist you today?\n",
      "I'm having some trouble setting up my QuickBooks Online account. I've tried following the tutorials and online guides, but I'm still having some issues. Can you help me troubleshoot?\n"
     ]
    },
    {
     "name": "stdout",
     "output_type": "stream",
     "text": [
      " Josh! I'm a co-founder of Quickbooks Training Solutions, and I'm super excited to help you with your Quickbooks questions and concerns. How can I assist you today?\n",
      "I'm having some trouble setting up my QuickBooks Online account. I've tried following the tutorials and online guides, but I'm still having some issues. Can you help me troubleshoot?\n",
      "We"
     ]
    },
    {
     "name": "stdout",
     "output_type": "stream",
     "text": [
      " Josh! I'm a co-founder of Quickbooks Training Solutions, and I'm super excited to help you with your Quickbooks questions and concerns. How can I assist you today?\n",
      "I'm having some trouble setting up my QuickBooks Online account. I've tried following the tutorials and online guides, but I'm still having some issues. Can you help me troubleshoot?\n",
      "We'd"
     ]
    },
    {
     "name": "stdout",
     "output_type": "stream",
     "text": [
      " Josh! I'm a co-founder of Quickbooks Training Solutions, and I'm super excited to help you with your Quickbooks questions and concerns. How can I assist you today?\n",
      "I'm having some trouble setting up my QuickBooks Online account. I've tried following the tutorials and online guides, but I'm still having some issues. Can you help me troubleshoot?\n",
      "We'd be"
     ]
    },
    {
     "name": "stdout",
     "output_type": "stream",
     "text": [
      " Josh! I'm a co-founder of Quickbooks Training Solutions, and I'm super excited to help you with your Quickbooks questions and concerns. How can I assist you today?\n",
      "I'm having some trouble setting up my QuickBooks Online account. I've tried following the tutorials and online guides, but I'm still having some issues. Can you help me troubleshoot?\n",
      "We'd be happy"
     ]
    },
    {
     "name": "stdout",
     "output_type": "stream",
     "text": [
      " Josh! I'm a co-founder of Quickbooks Training Solutions, and I'm super excited to help you with your Quickbooks questions and concerns. How can I assist you today?\n",
      "I'm having some trouble setting up my QuickBooks Online account. I've tried following the tutorials and online guides, but I'm still having some issues. Can you help me troubleshoot?\n",
      "We'd be happy to"
     ]
    },
    {
     "name": "stdout",
     "output_type": "stream",
     "text": [
      " Josh! I'm a co-founder of Quickbooks Training Solutions, and I'm super excited to help you with your Quickbooks questions and concerns. How can I assist you today?\n",
      "I'm having some trouble setting up my QuickBooks Online account. I've tried following the tutorials and online guides, but I'm still having some issues. Can you help me troubleshoot?\n",
      "We'd be happy to help"
     ]
    },
    {
     "name": "stdout",
     "output_type": "stream",
     "text": [
      " Josh! I'm a co-founder of Quickbooks Training Solutions, and I'm super excited to help you with your Quickbooks questions and concerns. How can I assist you today?\n",
      "I'm having some trouble setting up my QuickBooks Online account. I've tried following the tutorials and online guides, but I'm still having some issues. Can you help me troubleshoot?\n",
      "We'd be happy to help you"
     ]
    },
    {
     "name": "stdout",
     "output_type": "stream",
     "text": [
      " Josh! I'm a co-founder of Quickbooks Training Solutions, and I'm super excited to help you with your Quickbooks questions and concerns. How can I assist you today?\n",
      "I'm having some trouble setting up my QuickBooks Online account. I've tried following the tutorials and online guides, but I'm still having some issues. Can you help me troubleshoot?\n",
      "We'd be happy to help you troub"
     ]
    },
    {
     "name": "stdout",
     "output_type": "stream",
     "text": [
      " Josh! I'm a co-founder of Quickbooks Training Solutions, and I'm super excited to help you with your Quickbooks questions and concerns. How can I assist you today?\n",
      "I'm having some trouble setting up my QuickBooks Online account. I've tried following the tutorials and online guides, but I'm still having some issues. Can you help me troubleshoot?\n",
      "We'd be happy to help you troubleshoot"
     ]
    },
    {
     "name": "stdout",
     "output_type": "stream",
     "text": [
      " Josh! I'm a co-founder of Quickbooks Training Solutions, and I'm super excited to help you with your Quickbooks questions and concerns. How can I assist you today?\n",
      "I'm having some trouble setting up my QuickBooks Online account. I've tried following the tutorials and online guides, but I'm still having some issues. Can you help me troubleshoot?\n",
      "We'd be happy to help you troubleshoot your"
     ]
    },
    {
     "name": "stdout",
     "output_type": "stream",
     "text": [
      " Josh! I'm a co-founder of Quickbooks Training Solutions, and I'm super excited to help you with your Quickbooks questions and concerns. How can I assist you today?\n",
      "I'm having some trouble setting up my QuickBooks Online account. I've tried following the tutorials and online guides, but I'm still having some issues. Can you help me troubleshoot?\n",
      "We'd be happy to help you troubleshoot your Quick"
     ]
    },
    {
     "name": "stdout",
     "output_type": "stream",
     "text": [
      " Josh! I'm a co-founder of Quickbooks Training Solutions, and I'm super excited to help you with your Quickbooks questions and concerns. How can I assist you today?\n",
      "I'm having some trouble setting up my QuickBooks Online account. I've tried following the tutorials and online guides, but I'm still having some issues. Can you help me troubleshoot?\n",
      "We'd be happy to help you troubleshoot your QuickBooks"
     ]
    },
    {
     "name": "stdout",
     "output_type": "stream",
     "text": [
      " Josh! I'm a co-founder of Quickbooks Training Solutions, and I'm super excited to help you with your Quickbooks questions and concerns. How can I assist you today?\n",
      "I'm having some trouble setting up my QuickBooks Online account. I've tried following the tutorials and online guides, but I'm still having some issues. Can you help me troubleshoot?\n",
      "We'd be happy to help you troubleshoot your QuickBooks Online"
     ]
    },
    {
     "name": "stdout",
     "output_type": "stream",
     "text": [
      " Josh! I'm a co-founder of Quickbooks Training Solutions, and I'm super excited to help you with your Quickbooks questions and concerns. How can I assist you today?\n",
      "I'm having some trouble setting up my QuickBooks Online account. I've tried following the tutorials and online guides, but I'm still having some issues. Can you help me troubleshoot?\n",
      "We'd be happy to help you troubleshoot your QuickBooks Online account"
     ]
    },
    {
     "name": "stdout",
     "output_type": "stream",
     "text": [
      " Josh! I'm a co-founder of Quickbooks Training Solutions, and I'm super excited to help you with your Quickbooks questions and concerns. How can I assist you today?\n",
      "I'm having some trouble setting up my QuickBooks Online account. I've tried following the tutorials and online guides, but I'm still having some issues. Can you help me troubleshoot?\n",
      "We'd be happy to help you troubleshoot your QuickBooks Online account setup"
     ]
    },
    {
     "name": "stdout",
     "output_type": "stream",
     "text": [
      " Josh! I'm a co-founder of Quickbooks Training Solutions, and I'm super excited to help you with your Quickbooks questions and concerns. How can I assist you today?\n",
      "I'm having some trouble setting up my QuickBooks Online account. I've tried following the tutorials and online guides, but I'm still having some issues. Can you help me troubleshoot?\n",
      "We'd be happy to help you troubleshoot your QuickBooks Online account setup."
     ]
    },
    {
     "name": "stdout",
     "output_type": "stream",
     "text": [
      " Josh! I'm a co-founder of Quickbooks Training Solutions, and I'm super excited to help you with your Quickbooks questions and concerns. How can I assist you today?\n",
      "I'm having some trouble setting up my QuickBooks Online account. I've tried following the tutorials and online guides, but I'm still having some issues. Can you help me troubleshoot?\n",
      "We'd be happy to help you troubleshoot your QuickBooks Online account setup. Can"
     ]
    },
    {
     "name": "stdout",
     "output_type": "stream",
     "text": [
      " Josh! I'm a co-founder of Quickbooks Training Solutions, and I'm super excited to help you with your Quickbooks questions and concerns. How can I assist you today?\n",
      "I'm having some trouble setting up my QuickBooks Online account. I've tried following the tutorials and online guides, but I'm still having some issues. Can you help me troubleshoot?\n",
      "We'd be happy to help you troubleshoot your QuickBooks Online account setup. Can you"
     ]
    },
    {
     "name": "stdout",
     "output_type": "stream",
     "text": [
      " Josh! I'm a co-founder of Quickbooks Training Solutions, and I'm super excited to help you with your Quickbooks questions and concerns. How can I assist you today?\n",
      "I'm having some trouble setting up my QuickBooks Online account. I've tried following the tutorials and online guides, but I'm still having some issues. Can you help me troubleshoot?\n",
      "We'd be happy to help you troubleshoot your QuickBooks Online account setup. Can you tell"
     ]
    },
    {
     "name": "stdout",
     "output_type": "stream",
     "text": [
      " Josh! I'm a co-founder of Quickbooks Training Solutions, and I'm super excited to help you with your Quickbooks questions and concerns. How can I assist you today?\n",
      "I'm having some trouble setting up my QuickBooks Online account. I've tried following the tutorials and online guides, but I'm still having some issues. Can you help me troubleshoot?\n",
      "We'd be happy to help you troubleshoot your QuickBooks Online account setup. Can you tell me"
     ]
    },
    {
     "name": "stdout",
     "output_type": "stream",
     "text": [
      " Josh! I'm a co-founder of Quickbooks Training Solutions, and I'm super excited to help you with your Quickbooks questions and concerns. How can I assist you today?\n",
      "I'm having some trouble setting up my QuickBooks Online account. I've tried following the tutorials and online guides, but I'm still having some issues. Can you help me troubleshoot?\n",
      "We'd be happy to help you troubleshoot your QuickBooks Online account setup. Can you tell me a"
     ]
    },
    {
     "name": "stdout",
     "output_type": "stream",
     "text": [
      " Josh! I'm a co-founder of Quickbooks Training Solutions, and I'm super excited to help you with your Quickbooks questions and concerns. How can I assist you today?\n",
      "I'm having some trouble setting up my QuickBooks Online account. I've tried following the tutorials and online guides, but I'm still having some issues. Can you help me troubleshoot?\n",
      "We'd be happy to help you troubleshoot your QuickBooks Online account setup. Can you tell me a bit"
     ]
    },
    {
     "name": "stdout",
     "output_type": "stream",
     "text": [
      " Josh! I'm a co-founder of Quickbooks Training Solutions, and I'm super excited to help you with your Quickbooks questions and concerns. How can I assist you today?\n",
      "I'm having some trouble setting up my QuickBooks Online account. I've tried following the tutorials and online guides, but I'm still having some issues. Can you help me troubleshoot?\n",
      "We'd be happy to help you troubleshoot your QuickBooks Online account setup. Can you tell me a bit more"
     ]
    },
    {
     "name": "stdout",
     "output_type": "stream",
     "text": [
      " Josh! I'm a co-founder of Quickbooks Training Solutions, and I'm super excited to help you with your Quickbooks questions and concerns. How can I assist you today?\n",
      "I'm having some trouble setting up my QuickBooks Online account. I've tried following the tutorials and online guides, but I'm still having some issues. Can you help me troubleshoot?\n",
      "We'd be happy to help you troubleshoot your QuickBooks Online account setup. Can you tell me a bit more about"
     ]
    },
    {
     "name": "stdout",
     "output_type": "stream",
     "text": [
      " Josh! I'm a co-founder of Quickbooks Training Solutions, and I'm super excited to help you with your Quickbooks questions and concerns. How can I assist you today?\n",
      "I'm having some trouble setting up my QuickBooks Online account. I've tried following the tutorials and online guides, but I'm still having some issues. Can you help me troubleshoot?\n",
      "We'd be happy to help you troubleshoot your QuickBooks Online account setup. Can you tell me a bit more about the"
     ]
    },
    {
     "name": "stdout",
     "output_type": "stream",
     "text": [
      " Josh! I'm a co-founder of Quickbooks Training Solutions, and I'm super excited to help you with your Quickbooks questions and concerns. How can I assist you today?\n",
      "I'm having some trouble setting up my QuickBooks Online account. I've tried following the tutorials and online guides, but I'm still having some issues. Can you help me troubleshoot?\n",
      "We'd be happy to help you troubleshoot your QuickBooks Online account setup. Can you tell me a bit more about the issues"
     ]
    },
    {
     "name": "stdout",
     "output_type": "stream",
     "text": [
      " Josh! I'm a co-founder of Quickbooks Training Solutions, and I'm super excited to help you with your Quickbooks questions and concerns. How can I assist you today?\n",
      "I'm having some trouble setting up my QuickBooks Online account. I've tried following the tutorials and online guides, but I'm still having some issues. Can you help me troubleshoot?\n",
      "We'd be happy to help you troubleshoot your QuickBooks Online account setup. Can you tell me a bit more about the issues you"
     ]
    },
    {
     "name": "stdout",
     "output_type": "stream",
     "text": [
      " Josh! I'm a co-founder of Quickbooks Training Solutions, and I'm super excited to help you with your Quickbooks questions and concerns. How can I assist you today?\n",
      "I'm having some trouble setting up my QuickBooks Online account. I've tried following the tutorials and online guides, but I'm still having some issues. Can you help me troubleshoot?\n",
      "We'd be happy to help you troubleshoot your QuickBooks Online account setup. Can you tell me a bit more about the issues you're"
     ]
    },
    {
     "name": "stdout",
     "output_type": "stream",
     "text": [
      " Josh! I'm a co-founder of Quickbooks Training Solutions, and I'm super excited to help you with your Quickbooks questions and concerns. How can I assist you today?\n",
      "I'm having some trouble setting up my QuickBooks Online account. I've tried following the tutorials and online guides, but I'm still having some issues. Can you help me troubleshoot?\n",
      "We'd be happy to help you troubleshoot your QuickBooks Online account setup. Can you tell me a bit more about the issues you're experiencing"
     ]
    },
    {
     "name": "stdout",
     "output_type": "stream",
     "text": [
      " Josh! I'm a co-founder of Quickbooks Training Solutions, and I'm super excited to help you with your Quickbooks questions and concerns. How can I assist you today?\n",
      "I'm having some trouble setting up my QuickBooks Online account. I've tried following the tutorials and online guides, but I'm still having some issues. Can you help me troubleshoot?\n",
      "We'd be happy to help you troubleshoot your QuickBooks Online account setup. Can you tell me a bit more about the issues you're experiencing?"
     ]
    },
    {
     "name": "stdout",
     "output_type": "stream",
     "text": [
      " Josh! I'm a co-founder of Quickbooks Training Solutions, and I'm super excited to help you with your Quickbooks questions and concerns. How can I assist you today?\n",
      "I'm having some trouble setting up my QuickBooks Online account. I've tried following the tutorials and online guides, but I'm still having some issues. Can you help me troubleshoot?\n",
      "We'd be happy to help you troubleshoot your QuickBooks Online account setup. Can you tell me a bit more about the issues you're experiencing? What"
     ]
    },
    {
     "name": "stdout",
     "output_type": "stream",
     "text": [
      " Josh! I'm a co-founder of Quickbooks Training Solutions, and I'm super excited to help you with your Quickbooks questions and concerns. How can I assist you today?\n",
      "I'm having some trouble setting up my QuickBooks Online account. I've tried following the tutorials and online guides, but I'm still having some issues. Can you help me troubleshoot?\n",
      "We'd be happy to help you troubleshoot your QuickBooks Online account setup. Can you tell me a bit more about the issues you're experiencing? What specifically"
     ]
    },
    {
     "name": "stdout",
     "output_type": "stream",
     "text": [
      " Josh! I'm a co-founder of Quickbooks Training Solutions, and I'm super excited to help you with your Quickbooks questions and concerns. How can I assist you today?\n",
      "I'm having some trouble setting up my QuickBooks Online account. I've tried following the tutorials and online guides, but I'm still having some issues. Can you help me troubleshoot?\n",
      "We'd be happy to help you troubleshoot your QuickBooks Online account setup. Can you tell me a bit more about the issues you're experiencing? What specifically is"
     ]
    },
    {
     "name": "stdout",
     "output_type": "stream",
     "text": [
      " Josh! I'm a co-founder of Quickbooks Training Solutions, and I'm super excited to help you with your Quickbooks questions and concerns. How can I assist you today?\n",
      "I'm having some trouble setting up my QuickBooks Online account. I've tried following the tutorials and online guides, but I'm still having some issues. Can you help me troubleshoot?\n",
      "We'd be happy to help you troubleshoot your QuickBooks Online account setup. Can you tell me a bit more about the issues you're experiencing? What specifically is not"
     ]
    },
    {
     "name": "stdout",
     "output_type": "stream",
     "text": [
      " Josh! I'm a co-founder of Quickbooks Training Solutions, and I'm super excited to help you with your Quickbooks questions and concerns. How can I assist you today?\n",
      "I'm having some trouble setting up my QuickBooks Online account. I've tried following the tutorials and online guides, but I'm still having some issues. Can you help me troubleshoot?\n",
      "We'd be happy to help you troubleshoot your QuickBooks Online account setup. Can you tell me a bit more about the issues you're experiencing? What specifically is not working"
     ]
    },
    {
     "name": "stdout",
     "output_type": "stream",
     "text": [
      " Josh! I'm a co-founder of Quickbooks Training Solutions, and I'm super excited to help you with your Quickbooks questions and concerns. How can I assist you today?\n",
      "I'm having some trouble setting up my QuickBooks Online account. I've tried following the tutorials and online guides, but I'm still having some issues. Can you help me troubleshoot?\n",
      "We'd be happy to help you troubleshoot your QuickBooks Online account setup. Can you tell me a bit more about the issues you're experiencing? What specifically is not working for"
     ]
    },
    {
     "name": "stdout",
     "output_type": "stream",
     "text": [
      " Josh! I'm a co-founder of Quickbooks Training Solutions, and I'm super excited to help you with your Quickbooks questions and concerns. How can I assist you today?\n",
      "I'm having some trouble setting up my QuickBooks Online account. I've tried following the tutorials and online guides, but I'm still having some issues. Can you help me troubleshoot?\n",
      "We'd be happy to help you troubleshoot your QuickBooks Online account setup. Can you tell me a bit more about the issues you're experiencing? What specifically is not working for you"
     ]
    },
    {
     "name": "stdout",
     "output_type": "stream",
     "text": [
      " Josh! I'm a co-founder of Quickbooks Training Solutions, and I'm super excited to help you with your Quickbooks questions and concerns. How can I assist you today?\n",
      "I'm having some trouble setting up my QuickBooks Online account. I've tried following the tutorials and online guides, but I'm still having some issues. Can you help me troubleshoot?\n",
      "We'd be happy to help you troubleshoot your QuickBooks Online account setup. Can you tell me a bit more about the issues you're experiencing? What specifically is not working for you?"
     ]
    },
    {
     "name": "stdout",
     "output_type": "stream",
     "text": [
      " Josh! I'm a co-founder of Quickbooks Training Solutions, and I'm super excited to help you with your Quickbooks questions and concerns. How can I assist you today?\n",
      "I'm having some trouble setting up my QuickBooks Online account. I've tried following the tutorials and online guides, but I'm still having some issues. Can you help me troubleshoot?\n",
      "We'd be happy to help you troubleshoot your QuickBooks Online account setup. Can you tell me a bit more about the issues you're experiencing? What specifically is not working for you? Is"
     ]
    },
    {
     "name": "stdout",
     "output_type": "stream",
     "text": [
      " Josh! I'm a co-founder of Quickbooks Training Solutions, and I'm super excited to help you with your Quickbooks questions and concerns. How can I assist you today?\n",
      "I'm having some trouble setting up my QuickBooks Online account. I've tried following the tutorials and online guides, but I'm still having some issues. Can you help me troubleshoot?\n",
      "We'd be happy to help you troubleshoot your QuickBooks Online account setup. Can you tell me a bit more about the issues you're experiencing? What specifically is not working for you? Is it"
     ]
    },
    {
     "name": "stdout",
     "output_type": "stream",
     "text": [
      " Josh! I'm a co-founder of Quickbooks Training Solutions, and I'm super excited to help you with your Quickbooks questions and concerns. How can I assist you today?\n",
      "I'm having some trouble setting up my QuickBooks Online account. I've tried following the tutorials and online guides, but I'm still having some issues. Can you help me troubleshoot?\n",
      "We'd be happy to help you troubleshoot your QuickBooks Online account setup. Can you tell me a bit more about the issues you're experiencing? What specifically is not working for you? Is it a"
     ]
    },
    {
     "name": "stdout",
     "output_type": "stream",
     "text": [
      " Josh! I'm a co-founder of Quickbooks Training Solutions, and I'm super excited to help you with your Quickbooks questions and concerns. How can I assist you today?\n",
      "I'm having some trouble setting up my QuickBooks Online account. I've tried following the tutorials and online guides, but I'm still having some issues. Can you help me troubleshoot?\n",
      "We'd be happy to help you troubleshoot your QuickBooks Online account setup. Can you tell me a bit more about the issues you're experiencing? What specifically is not working for you? Is it a problem"
     ]
    },
    {
     "name": "stdout",
     "output_type": "stream",
     "text": [
      " Josh! I'm a co-founder of Quickbooks Training Solutions, and I'm super excited to help you with your Quickbooks questions and concerns. How can I assist you today?\n",
      "I'm having some trouble setting up my QuickBooks Online account. I've tried following the tutorials and online guides, but I'm still having some issues. Can you help me troubleshoot?\n",
      "We'd be happy to help you troubleshoot your QuickBooks Online account setup. Can you tell me a bit more about the issues you're experiencing? What specifically is not working for you? Is it a problem with"
     ]
    },
    {
     "name": "stdout",
     "output_type": "stream",
     "text": [
      " Josh! I'm a co-founder of Quickbooks Training Solutions, and I'm super excited to help you with your Quickbooks questions and concerns. How can I assist you today?\n",
      "I'm having some trouble setting up my QuickBooks Online account. I've tried following the tutorials and online guides, but I'm still having some issues. Can you help me troubleshoot?\n",
      "We'd be happy to help you troubleshoot your QuickBooks Online account setup. Can you tell me a bit more about the issues you're experiencing? What specifically is not working for you? Is it a problem with connecting"
     ]
    },
    {
     "name": "stdout",
     "output_type": "stream",
     "text": [
      " Josh! I'm a co-founder of Quickbooks Training Solutions, and I'm super excited to help you with your Quickbooks questions and concerns. How can I assist you today?\n",
      "I'm having some trouble setting up my QuickBooks Online account. I've tried following the tutorials and online guides, but I'm still having some issues. Can you help me troubleshoot?\n",
      "We'd be happy to help you troubleshoot your QuickBooks Online account setup. Can you tell me a bit more about the issues you're experiencing? What specifically is not working for you? Is it a problem with connecting your"
     ]
    },
    {
     "name": "stdout",
     "output_type": "stream",
     "text": [
      " Josh! I'm a co-founder of Quickbooks Training Solutions, and I'm super excited to help you with your Quickbooks questions and concerns. How can I assist you today?\n",
      "I'm having some trouble setting up my QuickBooks Online account. I've tried following the tutorials and online guides, but I'm still having some issues. Can you help me troubleshoot?\n",
      "We'd be happy to help you troubleshoot your QuickBooks Online account setup. Can you tell me a bit more about the issues you're experiencing? What specifically is not working for you? Is it a problem with connecting your bank"
     ]
    },
    {
     "name": "stdout",
     "output_type": "stream",
     "text": [
      " Josh! I'm a co-founder of Quickbooks Training Solutions, and I'm super excited to help you with your Quickbooks questions and concerns. How can I assist you today?\n",
      "I'm having some trouble setting up my QuickBooks Online account. I've tried following the tutorials and online guides, but I'm still having some issues. Can you help me troubleshoot?\n",
      "We'd be happy to help you troubleshoot your QuickBooks Online account setup. Can you tell me a bit more about the issues you're experiencing? What specifically is not working for you? Is it a problem with connecting your bank accounts"
     ]
    },
    {
     "name": "stdout",
     "output_type": "stream",
     "text": [
      " Josh! I'm a co-founder of Quickbooks Training Solutions, and I'm super excited to help you with your Quickbooks questions and concerns. How can I assist you today?\n",
      "I'm having some trouble setting up my QuickBooks Online account. I've tried following the tutorials and online guides, but I'm still having some issues. Can you help me troubleshoot?\n",
      "We'd be happy to help you troubleshoot your QuickBooks Online account setup. Can you tell me a bit more about the issues you're experiencing? What specifically is not working for you? Is it a problem with connecting your bank accounts,"
     ]
    },
    {
     "name": "stdout",
     "output_type": "stream",
     "text": [
      " Josh! I'm a co-founder of Quickbooks Training Solutions, and I'm super excited to help you with your Quickbooks questions and concerns. How can I assist you today?\n",
      "I'm having some trouble setting up my QuickBooks Online account. I've tried following the tutorials and online guides, but I'm still having some issues. Can you help me troubleshoot?\n",
      "We'd be happy to help you troubleshoot your QuickBooks Online account setup. Can you tell me a bit more about the issues you're experiencing? What specifically is not working for you? Is it a problem with connecting your bank accounts, setting"
     ]
    },
    {
     "name": "stdout",
     "output_type": "stream",
     "text": [
      " Josh! I'm a co-founder of Quickbooks Training Solutions, and I'm super excited to help you with your Quickbooks questions and concerns. How can I assist you today?\n",
      "I'm having some trouble setting up my QuickBooks Online account. I've tried following the tutorials and online guides, but I'm still having some issues. Can you help me troubleshoot?\n",
      "We'd be happy to help you troubleshoot your QuickBooks Online account setup. Can you tell me a bit more about the issues you're experiencing? What specifically is not working for you? Is it a problem with connecting your bank accounts, setting up"
     ]
    },
    {
     "name": "stdout",
     "output_type": "stream",
     "text": [
      " Josh! I'm a co-founder of Quickbooks Training Solutions, and I'm super excited to help you with your Quickbooks questions and concerns. How can I assist you today?\n",
      "I'm having some trouble setting up my QuickBooks Online account. I've tried following the tutorials and online guides, but I'm still having some issues. Can you help me troubleshoot?\n",
      "We'd be happy to help you troubleshoot your QuickBooks Online account setup. Can you tell me a bit more about the issues you're experiencing? What specifically is not working for you? Is it a problem with connecting your bank accounts, setting up your"
     ]
    },
    {
     "name": "stdout",
     "output_type": "stream",
     "text": [
      " Josh! I'm a co-founder of Quickbooks Training Solutions, and I'm super excited to help you with your Quickbooks questions and concerns. How can I assist you today?\n",
      "I'm having some trouble setting up my QuickBooks Online account. I've tried following the tutorials and online guides, but I'm still having some issues. Can you help me troubleshoot?\n",
      "We'd be happy to help you troubleshoot your QuickBooks Online account setup. Can you tell me a bit more about the issues you're experiencing? What specifically is not working for you? Is it a problem with connecting your bank accounts, setting up your chart"
     ]
    },
    {
     "name": "stdout",
     "output_type": "stream",
     "text": [
      " Josh! I'm a co-founder of Quickbooks Training Solutions, and I'm super excited to help you with your Quickbooks questions and concerns. How can I assist you today?\n",
      "I'm having some trouble setting up my QuickBooks Online account. I've tried following the tutorials and online guides, but I'm still having some issues. Can you help me troubleshoot?\n",
      "We'd be happy to help you troubleshoot your QuickBooks Online account setup. Can you tell me a bit more about the issues you're experiencing? What specifically is not working for you? Is it a problem with connecting your bank accounts, setting up your chart of"
     ]
    },
    {
     "name": "stdout",
     "output_type": "stream",
     "text": [
      " Josh! I'm a co-founder of Quickbooks Training Solutions, and I'm super excited to help you with your Quickbooks questions and concerns. How can I assist you today?\n",
      "I'm having some trouble setting up my QuickBooks Online account. I've tried following the tutorials and online guides, but I'm still having some issues. Can you help me troubleshoot?\n",
      "We'd be happy to help you troubleshoot your QuickBooks Online account setup. Can you tell me a bit more about the issues you're experiencing? What specifically is not working for you? Is it a problem with connecting your bank accounts, setting up your chart of accounts"
     ]
    },
    {
     "name": "stdout",
     "output_type": "stream",
     "text": [
      "\n",
      "\n",
      "Prompt: The capital of France is\n",
      "Generated text: "
     ]
    },
    {
     "name": "stdout",
     "output_type": "stream",
     "text": [
      " known"
     ]
    },
    {
     "name": "stdout",
     "output_type": "stream",
     "text": [
      " known for"
     ]
    },
    {
     "name": "stdout",
     "output_type": "stream",
     "text": [
      " known for its"
     ]
    },
    {
     "name": "stdout",
     "output_type": "stream",
     "text": [
      " known for its breathtaking"
     ]
    },
    {
     "name": "stdout",
     "output_type": "stream",
     "text": [
      " known for its breathtaking beauty"
     ]
    },
    {
     "name": "stdout",
     "output_type": "stream",
     "text": [
      " known for its breathtaking beauty,"
     ]
    },
    {
     "name": "stdout",
     "output_type": "stream",
     "text": [
      " known for its breathtaking beauty, rich"
     ]
    },
    {
     "name": "stdout",
     "output_type": "stream",
     "text": [
      " known for its breathtaking beauty, rich history"
     ]
    },
    {
     "name": "stdout",
     "output_type": "stream",
     "text": [
      " known for its breathtaking beauty, rich history,"
     ]
    },
    {
     "name": "stdout",
     "output_type": "stream",
     "text": [
      " known for its breathtaking beauty, rich history, and"
     ]
    },
    {
     "name": "stdout",
     "output_type": "stream",
     "text": [
      " known for its breathtaking beauty, rich history, and world"
     ]
    },
    {
     "name": "stdout",
     "output_type": "stream",
     "text": [
      " known for its breathtaking beauty, rich history, and world-class"
     ]
    },
    {
     "name": "stdout",
     "output_type": "stream",
     "text": [
      " known for its breathtaking beauty, rich history, and world-class cuisine"
     ]
    },
    {
     "name": "stdout",
     "output_type": "stream",
     "text": [
      " known for its breathtaking beauty, rich history, and world-class cuisine."
     ]
    },
    {
     "name": "stdout",
     "output_type": "stream",
     "text": [
      " known for its breathtaking beauty, rich history, and world-class cuisine. Paris"
     ]
    },
    {
     "name": "stdout",
     "output_type": "stream",
     "text": [
      " known for its breathtaking beauty, rich history, and world-class cuisine. Paris,"
     ]
    },
    {
     "name": "stdout",
     "output_type": "stream",
     "text": [
      " known for its breathtaking beauty, rich history, and world-class cuisine. Paris, the"
     ]
    },
    {
     "name": "stdout",
     "output_type": "stream",
     "text": [
      " known for its breathtaking beauty, rich history, and world-class cuisine. Paris, the City"
     ]
    },
    {
     "name": "stdout",
     "output_type": "stream",
     "text": [
      " known for its breathtaking beauty, rich history, and world-class cuisine. Paris, the City of"
     ]
    },
    {
     "name": "stdout",
     "output_type": "stream",
     "text": [
      " known for its breathtaking beauty, rich history, and world-class cuisine. Paris, the City of Light"
     ]
    },
    {
     "name": "stdout",
     "output_type": "stream",
     "text": [
      " known for its breathtaking beauty, rich history, and world-class cuisine. Paris, the City of Light,"
     ]
    },
    {
     "name": "stdout",
     "output_type": "stream",
     "text": [
      " known for its breathtaking beauty, rich history, and world-class cuisine. Paris, the City of Light, is"
     ]
    },
    {
     "name": "stdout",
     "output_type": "stream",
     "text": [
      " known for its breathtaking beauty, rich history, and world-class cuisine. Paris, the City of Light, is a"
     ]
    },
    {
     "name": "stdout",
     "output_type": "stream",
     "text": [
      " known for its breathtaking beauty, rich history, and world-class cuisine. Paris, the City of Light, is a must"
     ]
    },
    {
     "name": "stdout",
     "output_type": "stream",
     "text": [
      " known for its breathtaking beauty, rich history, and world-class cuisine. Paris, the City of Light, is a must-"
     ]
    },
    {
     "name": "stdout",
     "output_type": "stream",
     "text": [
      " known for its breathtaking beauty, rich history, and world-class cuisine. Paris, the City of Light, is a must-visit"
     ]
    },
    {
     "name": "stdout",
     "output_type": "stream",
     "text": [
      " known for its breathtaking beauty, rich history, and world-class cuisine. Paris, the City of Light, is a must-visit destination"
     ]
    },
    {
     "name": "stdout",
     "output_type": "stream",
     "text": [
      " known for its breathtaking beauty, rich history, and world-class cuisine. Paris, the City of Light, is a must-visit destination for"
     ]
    },
    {
     "name": "stdout",
     "output_type": "stream",
     "text": [
      " known for its breathtaking beauty, rich history, and world-class cuisine. Paris, the City of Light, is a must-visit destination for anyone"
     ]
    },
    {
     "name": "stdout",
     "output_type": "stream",
     "text": [
      " known for its breathtaking beauty, rich history, and world-class cuisine. Paris, the City of Light, is a must-visit destination for anyone interested"
     ]
    },
    {
     "name": "stdout",
     "output_type": "stream",
     "text": [
      " known for its breathtaking beauty, rich history, and world-class cuisine. Paris, the City of Light, is a must-visit destination for anyone interested in"
     ]
    },
    {
     "name": "stdout",
     "output_type": "stream",
     "text": [
      " known for its breathtaking beauty, rich history, and world-class cuisine. Paris, the City of Light, is a must-visit destination for anyone interested in art"
     ]
    },
    {
     "name": "stdout",
     "output_type": "stream",
     "text": [
      " known for its breathtaking beauty, rich history, and world-class cuisine. Paris, the City of Light, is a must-visit destination for anyone interested in art,"
     ]
    },
    {
     "name": "stdout",
     "output_type": "stream",
     "text": [
      " known for its breathtaking beauty, rich history, and world-class cuisine. Paris, the City of Light, is a must-visit destination for anyone interested in art, culture"
     ]
    },
    {
     "name": "stdout",
     "output_type": "stream",
     "text": [
      " known for its breathtaking beauty, rich history, and world-class cuisine. Paris, the City of Light, is a must-visit destination for anyone interested in art, culture,"
     ]
    },
    {
     "name": "stdout",
     "output_type": "stream",
     "text": [
      " known for its breathtaking beauty, rich history, and world-class cuisine. Paris, the City of Light, is a must-visit destination for anyone interested in art, culture, architecture"
     ]
    },
    {
     "name": "stdout",
     "output_type": "stream",
     "text": [
      " known for its breathtaking beauty, rich history, and world-class cuisine. Paris, the City of Light, is a must-visit destination for anyone interested in art, culture, architecture,"
     ]
    },
    {
     "name": "stdout",
     "output_type": "stream",
     "text": [
      " known for its breathtaking beauty, rich history, and world-class cuisine. Paris, the City of Light, is a must-visit destination for anyone interested in art, culture, architecture, fashion"
     ]
    },
    {
     "name": "stdout",
     "output_type": "stream",
     "text": [
      " known for its breathtaking beauty, rich history, and world-class cuisine. Paris, the City of Light, is a must-visit destination for anyone interested in art, culture, architecture, fashion,"
     ]
    },
    {
     "name": "stdout",
     "output_type": "stream",
     "text": [
      " known for its breathtaking beauty, rich history, and world-class cuisine. Paris, the City of Light, is a must-visit destination for anyone interested in art, culture, architecture, fashion, and"
     ]
    },
    {
     "name": "stdout",
     "output_type": "stream",
     "text": [
      " known for its breathtaking beauty, rich history, and world-class cuisine. Paris, the City of Light, is a must-visit destination for anyone interested in art, culture, architecture, fashion, and romance"
     ]
    },
    {
     "name": "stdout",
     "output_type": "stream",
     "text": [
      " known for its breathtaking beauty, rich history, and world-class cuisine. Paris, the City of Light, is a must-visit destination for anyone interested in art, culture, architecture, fashion, and romance."
     ]
    },
    {
     "name": "stdout",
     "output_type": "stream",
     "text": [
      " known for its breathtaking beauty, rich history, and world-class cuisine. Paris, the City of Light, is a must-visit destination for anyone interested in art, culture, architecture, fashion, and romance. Here"
     ]
    },
    {
     "name": "stdout",
     "output_type": "stream",
     "text": [
      " known for its breathtaking beauty, rich history, and world-class cuisine. Paris, the City of Light, is a must-visit destination for anyone interested in art, culture, architecture, fashion, and romance. Here are"
     ]
    },
    {
     "name": "stdout",
     "output_type": "stream",
     "text": [
      " known for its breathtaking beauty, rich history, and world-class cuisine. Paris, the City of Light, is a must-visit destination for anyone interested in art, culture, architecture, fashion, and romance. Here are some"
     ]
    },
    {
     "name": "stdout",
     "output_type": "stream",
     "text": [
      " known for its breathtaking beauty, rich history, and world-class cuisine. Paris, the City of Light, is a must-visit destination for anyone interested in art, culture, architecture, fashion, and romance. Here are some of"
     ]
    },
    {
     "name": "stdout",
     "output_type": "stream",
     "text": [
      " known for its breathtaking beauty, rich history, and world-class cuisine. Paris, the City of Light, is a must-visit destination for anyone interested in art, culture, architecture, fashion, and romance. Here are some of the"
     ]
    },
    {
     "name": "stdout",
     "output_type": "stream",
     "text": [
      " known for its breathtaking beauty, rich history, and world-class cuisine. Paris, the City of Light, is a must-visit destination for anyone interested in art, culture, architecture, fashion, and romance. Here are some of the top"
     ]
    },
    {
     "name": "stdout",
     "output_type": "stream",
     "text": [
      " known for its breathtaking beauty, rich history, and world-class cuisine. Paris, the City of Light, is a must-visit destination for anyone interested in art, culture, architecture, fashion, and romance. Here are some of the top things"
     ]
    },
    {
     "name": "stdout",
     "output_type": "stream",
     "text": [
      " known for its breathtaking beauty, rich history, and world-class cuisine. Paris, the City of Light, is a must-visit destination for anyone interested in art, culture, architecture, fashion, and romance. Here are some of the top things to"
     ]
    },
    {
     "name": "stdout",
     "output_type": "stream",
     "text": [
      " known for its breathtaking beauty, rich history, and world-class cuisine. Paris, the City of Light, is a must-visit destination for anyone interested in art, culture, architecture, fashion, and romance. Here are some of the top things to see"
     ]
    },
    {
     "name": "stdout",
     "output_type": "stream",
     "text": [
      " known for its breathtaking beauty, rich history, and world-class cuisine. Paris, the City of Light, is a must-visit destination for anyone interested in art, culture, architecture, fashion, and romance. Here are some of the top things to see and"
     ]
    },
    {
     "name": "stdout",
     "output_type": "stream",
     "text": [
      " known for its breathtaking beauty, rich history, and world-class cuisine. Paris, the City of Light, is a must-visit destination for anyone interested in art, culture, architecture, fashion, and romance. Here are some of the top things to see and do"
     ]
    },
    {
     "name": "stdout",
     "output_type": "stream",
     "text": [
      " known for its breathtaking beauty, rich history, and world-class cuisine. Paris, the City of Light, is a must-visit destination for anyone interested in art, culture, architecture, fashion, and romance. Here are some of the top things to see and do in"
     ]
    },
    {
     "name": "stdout",
     "output_type": "stream",
     "text": [
      " known for its breathtaking beauty, rich history, and world-class cuisine. Paris, the City of Light, is a must-visit destination for anyone interested in art, culture, architecture, fashion, and romance. Here are some of the top things to see and do in Paris"
     ]
    },
    {
     "name": "stdout",
     "output_type": "stream",
     "text": [
      " known for its breathtaking beauty, rich history, and world-class cuisine. Paris, the City of Light, is a must-visit destination for anyone interested in art, culture, architecture, fashion, and romance. Here are some of the top things to see and do in Paris:\n"
     ]
    },
    {
     "name": "stdout",
     "output_type": "stream",
     "text": [
      " known for its breathtaking beauty, rich history, and world-class cuisine. Paris, the City of Light, is a must-visit destination for anyone interested in art, culture, architecture, fashion, and romance. Here are some of the top things to see and do in Paris:\n",
      "1"
     ]
    },
    {
     "name": "stdout",
     "output_type": "stream",
     "text": [
      " known for its breathtaking beauty, rich history, and world-class cuisine. Paris, the City of Light, is a must-visit destination for anyone interested in art, culture, architecture, fashion, and romance. Here are some of the top things to see and do in Paris:\n",
      "1."
     ]
    },
    {
     "name": "stdout",
     "output_type": "stream",
     "text": [
      " known for its breathtaking beauty, rich history, and world-class cuisine. Paris, the City of Light, is a must-visit destination for anyone interested in art, culture, architecture, fashion, and romance. Here are some of the top things to see and do in Paris:\n",
      "1. The"
     ]
    },
    {
     "name": "stdout",
     "output_type": "stream",
     "text": [
      " known for its breathtaking beauty, rich history, and world-class cuisine. Paris, the City of Light, is a must-visit destination for anyone interested in art, culture, architecture, fashion, and romance. Here are some of the top things to see and do in Paris:\n",
      "1. The E"
     ]
    },
    {
     "name": "stdout",
     "output_type": "stream",
     "text": [
      " known for its breathtaking beauty, rich history, and world-class cuisine. Paris, the City of Light, is a must-visit destination for anyone interested in art, culture, architecture, fashion, and romance. Here are some of the top things to see and do in Paris:\n",
      "1. The Eiff"
     ]
    },
    {
     "name": "stdout",
     "output_type": "stream",
     "text": [
      " known for its breathtaking beauty, rich history, and world-class cuisine. Paris, the City of Light, is a must-visit destination for anyone interested in art, culture, architecture, fashion, and romance. Here are some of the top things to see and do in Paris:\n",
      "1. The Eiffel"
     ]
    },
    {
     "name": "stdout",
     "output_type": "stream",
     "text": [
      " known for its breathtaking beauty, rich history, and world-class cuisine. Paris, the City of Light, is a must-visit destination for anyone interested in art, culture, architecture, fashion, and romance. Here are some of the top things to see and do in Paris:\n",
      "1. The Eiffel Tower"
     ]
    },
    {
     "name": "stdout",
     "output_type": "stream",
     "text": [
      " known for its breathtaking beauty, rich history, and world-class cuisine. Paris, the City of Light, is a must-visit destination for anyone interested in art, culture, architecture, fashion, and romance. Here are some of the top things to see and do in Paris:\n",
      "1. The Eiffel Tower:"
     ]
    },
    {
     "name": "stdout",
     "output_type": "stream",
     "text": [
      " known for its breathtaking beauty, rich history, and world-class cuisine. Paris, the City of Light, is a must-visit destination for anyone interested in art, culture, architecture, fashion, and romance. Here are some of the top things to see and do in Paris:\n",
      "1. The Eiffel Tower: The"
     ]
    },
    {
     "name": "stdout",
     "output_type": "stream",
     "text": [
      " known for its breathtaking beauty, rich history, and world-class cuisine. Paris, the City of Light, is a must-visit destination for anyone interested in art, culture, architecture, fashion, and romance. Here are some of the top things to see and do in Paris:\n",
      "1. The Eiffel Tower: The iconic"
     ]
    },
    {
     "name": "stdout",
     "output_type": "stream",
     "text": [
      " known for its breathtaking beauty, rich history, and world-class cuisine. Paris, the City of Light, is a must-visit destination for anyone interested in art, culture, architecture, fashion, and romance. Here are some of the top things to see and do in Paris:\n",
      "1. The Eiffel Tower: The iconic iron"
     ]
    },
    {
     "name": "stdout",
     "output_type": "stream",
     "text": [
      " known for its breathtaking beauty, rich history, and world-class cuisine. Paris, the City of Light, is a must-visit destination for anyone interested in art, culture, architecture, fashion, and romance. Here are some of the top things to see and do in Paris:\n",
      "1. The Eiffel Tower: The iconic iron lattice"
     ]
    },
    {
     "name": "stdout",
     "output_type": "stream",
     "text": [
      " known for its breathtaking beauty, rich history, and world-class cuisine. Paris, the City of Light, is a must-visit destination for anyone interested in art, culture, architecture, fashion, and romance. Here are some of the top things to see and do in Paris:\n",
      "1. The Eiffel Tower: The iconic iron lattice tower"
     ]
    },
    {
     "name": "stdout",
     "output_type": "stream",
     "text": [
      " known for its breathtaking beauty, rich history, and world-class cuisine. Paris, the City of Light, is a must-visit destination for anyone interested in art, culture, architecture, fashion, and romance. Here are some of the top things to see and do in Paris:\n",
      "1. The Eiffel Tower: The iconic iron lattice tower is"
     ]
    },
    {
     "name": "stdout",
     "output_type": "stream",
     "text": [
      " known for its breathtaking beauty, rich history, and world-class cuisine. Paris, the City of Light, is a must-visit destination for anyone interested in art, culture, architecture, fashion, and romance. Here are some of the top things to see and do in Paris:\n",
      "1. The Eiffel Tower: The iconic iron lattice tower is a"
     ]
    },
    {
     "name": "stdout",
     "output_type": "stream",
     "text": [
      " known for its breathtaking beauty, rich history, and world-class cuisine. Paris, the City of Light, is a must-visit destination for anyone interested in art, culture, architecture, fashion, and romance. Here are some of the top things to see and do in Paris:\n",
      "1. The Eiffel Tower: The iconic iron lattice tower is a symbol"
     ]
    },
    {
     "name": "stdout",
     "output_type": "stream",
     "text": [
      " known for its breathtaking beauty, rich history, and world-class cuisine. Paris, the City of Light, is a must-visit destination for anyone interested in art, culture, architecture, fashion, and romance. Here are some of the top things to see and do in Paris:\n",
      "1. The Eiffel Tower: The iconic iron lattice tower is a symbol of"
     ]
    },
    {
     "name": "stdout",
     "output_type": "stream",
     "text": [
      " known for its breathtaking beauty, rich history, and world-class cuisine. Paris, the City of Light, is a must-visit destination for anyone interested in art, culture, architecture, fashion, and romance. Here are some of the top things to see and do in Paris:\n",
      "1. The Eiffel Tower: The iconic iron lattice tower is a symbol of Paris"
     ]
    },
    {
     "name": "stdout",
     "output_type": "stream",
     "text": [
      " known for its breathtaking beauty, rich history, and world-class cuisine. Paris, the City of Light, is a must-visit destination for anyone interested in art, culture, architecture, fashion, and romance. Here are some of the top things to see and do in Paris:\n",
      "1. The Eiffel Tower: The iconic iron lattice tower is a symbol of Paris and"
     ]
    },
    {
     "name": "stdout",
     "output_type": "stream",
     "text": [
      " known for its breathtaking beauty, rich history, and world-class cuisine. Paris, the City of Light, is a must-visit destination for anyone interested in art, culture, architecture, fashion, and romance. Here are some of the top things to see and do in Paris:\n",
      "1. The Eiffel Tower: The iconic iron lattice tower is a symbol of Paris and one"
     ]
    },
    {
     "name": "stdout",
     "output_type": "stream",
     "text": [
      " known for its breathtaking beauty, rich history, and world-class cuisine. Paris, the City of Light, is a must-visit destination for anyone interested in art, culture, architecture, fashion, and romance. Here are some of the top things to see and do in Paris:\n",
      "1. The Eiffel Tower: The iconic iron lattice tower is a symbol of Paris and one of"
     ]
    },
    {
     "name": "stdout",
     "output_type": "stream",
     "text": [
      " known for its breathtaking beauty, rich history, and world-class cuisine. Paris, the City of Light, is a must-visit destination for anyone interested in art, culture, architecture, fashion, and romance. Here are some of the top things to see and do in Paris:\n",
      "1. The Eiffel Tower: The iconic iron lattice tower is a symbol of Paris and one of the"
     ]
    },
    {
     "name": "stdout",
     "output_type": "stream",
     "text": [
      " known for its breathtaking beauty, rich history, and world-class cuisine. Paris, the City of Light, is a must-visit destination for anyone interested in art, culture, architecture, fashion, and romance. Here are some of the top things to see and do in Paris:\n",
      "1. The Eiffel Tower: The iconic iron lattice tower is a symbol of Paris and one of the most"
     ]
    },
    {
     "name": "stdout",
     "output_type": "stream",
     "text": [
      " known for its breathtaking beauty, rich history, and world-class cuisine. Paris, the City of Light, is a must-visit destination for anyone interested in art, culture, architecture, fashion, and romance. Here are some of the top things to see and do in Paris:\n",
      "1. The Eiffel Tower: The iconic iron lattice tower is a symbol of Paris and one of the most recognizable"
     ]
    },
    {
     "name": "stdout",
     "output_type": "stream",
     "text": [
      " known for its breathtaking beauty, rich history, and world-class cuisine. Paris, the City of Light, is a must-visit destination for anyone interested in art, culture, architecture, fashion, and romance. Here are some of the top things to see and do in Paris:\n",
      "1. The Eiffel Tower: The iconic iron lattice tower is a symbol of Paris and one of the most recognizable landmarks"
     ]
    },
    {
     "name": "stdout",
     "output_type": "stream",
     "text": [
      " known for its breathtaking beauty, rich history, and world-class cuisine. Paris, the City of Light, is a must-visit destination for anyone interested in art, culture, architecture, fashion, and romance. Here are some of the top things to see and do in Paris:\n",
      "1. The Eiffel Tower: The iconic iron lattice tower is a symbol of Paris and one of the most recognizable landmarks in"
     ]
    },
    {
     "name": "stdout",
     "output_type": "stream",
     "text": [
      " known for its breathtaking beauty, rich history, and world-class cuisine. Paris, the City of Light, is a must-visit destination for anyone interested in art, culture, architecture, fashion, and romance. Here are some of the top things to see and do in Paris:\n",
      "1. The Eiffel Tower: The iconic iron lattice tower is a symbol of Paris and one of the most recognizable landmarks in the"
     ]
    },
    {
     "name": "stdout",
     "output_type": "stream",
     "text": [
      " known for its breathtaking beauty, rich history, and world-class cuisine. Paris, the City of Light, is a must-visit destination for anyone interested in art, culture, architecture, fashion, and romance. Here are some of the top things to see and do in Paris:\n",
      "1. The Eiffel Tower: The iconic iron lattice tower is a symbol of Paris and one of the most recognizable landmarks in the world"
     ]
    },
    {
     "name": "stdout",
     "output_type": "stream",
     "text": [
      " known for its breathtaking beauty, rich history, and world-class cuisine. Paris, the City of Light, is a must-visit destination for anyone interested in art, culture, architecture, fashion, and romance. Here are some of the top things to see and do in Paris:\n",
      "1. The Eiffel Tower: The iconic iron lattice tower is a symbol of Paris and one of the most recognizable landmarks in the world."
     ]
    },
    {
     "name": "stdout",
     "output_type": "stream",
     "text": [
      " known for its breathtaking beauty, rich history, and world-class cuisine. Paris, the City of Light, is a must-visit destination for anyone interested in art, culture, architecture, fashion, and romance. Here are some of the top things to see and do in Paris:\n",
      "1. The Eiffel Tower: The iconic iron lattice tower is a symbol of Paris and one of the most recognizable landmarks in the world. Take"
     ]
    },
    {
     "name": "stdout",
     "output_type": "stream",
     "text": [
      " known for its breathtaking beauty, rich history, and world-class cuisine. Paris, the City of Light, is a must-visit destination for anyone interested in art, culture, architecture, fashion, and romance. Here are some of the top things to see and do in Paris:\n",
      "1. The Eiffel Tower: The iconic iron lattice tower is a symbol of Paris and one of the most recognizable landmarks in the world. Take the"
     ]
    },
    {
     "name": "stdout",
     "output_type": "stream",
     "text": [
      " known for its breathtaking beauty, rich history, and world-class cuisine. Paris, the City of Light, is a must-visit destination for anyone interested in art, culture, architecture, fashion, and romance. Here are some of the top things to see and do in Paris:\n",
      "1. The Eiffel Tower: The iconic iron lattice tower is a symbol of Paris and one of the most recognizable landmarks in the world. Take the elevator"
     ]
    },
    {
     "name": "stdout",
     "output_type": "stream",
     "text": [
      " known for its breathtaking beauty, rich history, and world-class cuisine. Paris, the City of Light, is a must-visit destination for anyone interested in art, culture, architecture, fashion, and romance. Here are some of the top things to see and do in Paris:\n",
      "1. The Eiffel Tower: The iconic iron lattice tower is a symbol of Paris and one of the most recognizable landmarks in the world. Take the elevator to"
     ]
    },
    {
     "name": "stdout",
     "output_type": "stream",
     "text": [
      " known for its breathtaking beauty, rich history, and world-class cuisine. Paris, the City of Light, is a must-visit destination for anyone interested in art, culture, architecture, fashion, and romance. Here are some of the top things to see and do in Paris:\n",
      "1. The Eiffel Tower: The iconic iron lattice tower is a symbol of Paris and one of the most recognizable landmarks in the world. Take the elevator to the"
     ]
    },
    {
     "name": "stdout",
     "output_type": "stream",
     "text": [
      " known for its breathtaking beauty, rich history, and world-class cuisine. Paris, the City of Light, is a must-visit destination for anyone interested in art, culture, architecture, fashion, and romance. Here are some of the top things to see and do in Paris:\n",
      "1. The Eiffel Tower: The iconic iron lattice tower is a symbol of Paris and one of the most recognizable landmarks in the world. Take the elevator to the top"
     ]
    },
    {
     "name": "stdout",
     "output_type": "stream",
     "text": [
      " known for its breathtaking beauty, rich history, and world-class cuisine. Paris, the City of Light, is a must-visit destination for anyone interested in art, culture, architecture, fashion, and romance. Here are some of the top things to see and do in Paris:\n",
      "1. The Eiffel Tower: The iconic iron lattice tower is a symbol of Paris and one of the most recognizable landmarks in the world. Take the elevator to the top for"
     ]
    },
    {
     "name": "stdout",
     "output_type": "stream",
     "text": [
      " known for its breathtaking beauty, rich history, and world-class cuisine. Paris, the City of Light, is a must-visit destination for anyone interested in art, culture, architecture, fashion, and romance. Here are some of the top things to see and do in Paris:\n",
      "1. The Eiffel Tower: The iconic iron lattice tower is a symbol of Paris and one of the most recognizable landmarks in the world. Take the elevator to the top for breathtaking"
     ]
    },
    {
     "name": "stdout",
     "output_type": "stream",
     "text": [
      " known for its breathtaking beauty, rich history, and world-class cuisine. Paris, the City of Light, is a must-visit destination for anyone interested in art, culture, architecture, fashion, and romance. Here are some of the top things to see and do in Paris:\n",
      "1. The Eiffel Tower: The iconic iron lattice tower is a symbol of Paris and one of the most recognizable landmarks in the world. Take the elevator to the top for breathtaking views"
     ]
    },
    {
     "name": "stdout",
     "output_type": "stream",
     "text": [
      " known for its breathtaking beauty, rich history, and world-class cuisine. Paris, the City of Light, is a must-visit destination for anyone interested in art, culture, architecture, fashion, and romance. Here are some of the top things to see and do in Paris:\n",
      "1. The Eiffel Tower: The iconic iron lattice tower is a symbol of Paris and one of the most recognizable landmarks in the world. Take the elevator to the top for breathtaking views of"
     ]
    },
    {
     "name": "stdout",
     "output_type": "stream",
     "text": [
      " known for its breathtaking beauty, rich history, and world-class cuisine. Paris, the City of Light, is a must-visit destination for anyone interested in art, culture, architecture, fashion, and romance. Here are some of the top things to see and do in Paris:\n",
      "1. The Eiffel Tower: The iconic iron lattice tower is a symbol of Paris and one of the most recognizable landmarks in the world. Take the elevator to the top for breathtaking views of the"
     ]
    },
    {
     "name": "stdout",
     "output_type": "stream",
     "text": [
      " known for its breathtaking beauty, rich history, and world-class cuisine. Paris, the City of Light, is a must-visit destination for anyone interested in art, culture, architecture, fashion, and romance. Here are some of the top things to see and do in Paris:\n",
      "1. The Eiffel Tower: The iconic iron lattice tower is a symbol of Paris and one of the most recognizable landmarks in the world. Take the elevator to the top for breathtaking views of the city"
     ]
    },
    {
     "name": "stdout",
     "output_type": "stream",
     "text": [
      " known for its breathtaking beauty, rich history, and world-class cuisine. Paris, the City of Light, is a must-visit destination for anyone interested in art, culture, architecture, fashion, and romance. Here are some of the top things to see and do in Paris:\n",
      "1. The Eiffel Tower: The iconic iron lattice tower is a symbol of Paris and one of the most recognizable landmarks in the world. Take the elevator to the top for breathtaking views of the city.\n"
     ]
    },
    {
     "name": "stdout",
     "output_type": "stream",
     "text": [
      " known for its breathtaking beauty, rich history, and world-class cuisine. Paris, the City of Light, is a must-visit destination for anyone interested in art, culture, architecture, fashion, and romance. Here are some of the top things to see and do in Paris:\n",
      "1. The Eiffel Tower: The iconic iron lattice tower is a symbol of Paris and one of the most recognizable landmarks in the world. Take the elevator to the top for breathtaking views of the city.\n",
      "2"
     ]
    },
    {
     "name": "stdout",
     "output_type": "stream",
     "text": [
      " known for its breathtaking beauty, rich history, and world-class cuisine. Paris, the City of Light, is a must-visit destination for anyone interested in art, culture, architecture, fashion, and romance. Here are some of the top things to see and do in Paris:\n",
      "1. The Eiffel Tower: The iconic iron lattice tower is a symbol of Paris and one of the most recognizable landmarks in the world. Take the elevator to the top for breathtaking views of the city.\n",
      "2."
     ]
    },
    {
     "name": "stdout",
     "output_type": "stream",
     "text": [
      " known for its breathtaking beauty, rich history, and world-class cuisine. Paris, the City of Light, is a must-visit destination for anyone interested in art, culture, architecture, fashion, and romance. Here are some of the top things to see and do in Paris:\n",
      "1. The Eiffel Tower: The iconic iron lattice tower is a symbol of Paris and one of the most recognizable landmarks in the world. Take the elevator to the top for breathtaking views of the city.\n",
      "2. The"
     ]
    },
    {
     "name": "stdout",
     "output_type": "stream",
     "text": [
      " known for its breathtaking beauty, rich history, and world-class cuisine. Paris, the City of Light, is a must-visit destination for anyone interested in art, culture, architecture, fashion, and romance. Here are some of the top things to see and do in Paris:\n",
      "1. The Eiffel Tower: The iconic iron lattice tower is a symbol of Paris and one of the most recognizable landmarks in the world. Take the elevator to the top for breathtaking views of the city.\n",
      "2. The Lou"
     ]
    },
    {
     "name": "stdout",
     "output_type": "stream",
     "text": [
      " known for its breathtaking beauty, rich history, and world-class cuisine. Paris, the City of Light, is a must-visit destination for anyone interested in art, culture, architecture, fashion, and romance. Here are some of the top things to see and do in Paris:\n",
      "1. The Eiffel Tower: The iconic iron lattice tower is a symbol of Paris and one of the most recognizable landmarks in the world. Take the elevator to the top for breathtaking views of the city.\n",
      "2. The Louvre"
     ]
    },
    {
     "name": "stdout",
     "output_type": "stream",
     "text": [
      " known for its breathtaking beauty, rich history, and world-class cuisine. Paris, the City of Light, is a must-visit destination for anyone interested in art, culture, architecture, fashion, and romance. Here are some of the top things to see and do in Paris:\n",
      "1. The Eiffel Tower: The iconic iron lattice tower is a symbol of Paris and one of the most recognizable landmarks in the world. Take the elevator to the top for breathtaking views of the city.\n",
      "2. The Louvre Museum"
     ]
    },
    {
     "name": "stdout",
     "output_type": "stream",
     "text": [
      " known for its breathtaking beauty, rich history, and world-class cuisine. Paris, the City of Light, is a must-visit destination for anyone interested in art, culture, architecture, fashion, and romance. Here are some of the top things to see and do in Paris:\n",
      "1. The Eiffel Tower: The iconic iron lattice tower is a symbol of Paris and one of the most recognizable landmarks in the world. Take the elevator to the top for breathtaking views of the city.\n",
      "2. The Louvre Museum:"
     ]
    },
    {
     "name": "stdout",
     "output_type": "stream",
     "text": [
      " known for its breathtaking beauty, rich history, and world-class cuisine. Paris, the City of Light, is a must-visit destination for anyone interested in art, culture, architecture, fashion, and romance. Here are some of the top things to see and do in Paris:\n",
      "1. The Eiffel Tower: The iconic iron lattice tower is a symbol of Paris and one of the most recognizable landmarks in the world. Take the elevator to the top for breathtaking views of the city.\n",
      "2. The Louvre Museum: One"
     ]
    },
    {
     "name": "stdout",
     "output_type": "stream",
     "text": [
      " known for its breathtaking beauty, rich history, and world-class cuisine. Paris, the City of Light, is a must-visit destination for anyone interested in art, culture, architecture, fashion, and romance. Here are some of the top things to see and do in Paris:\n",
      "1. The Eiffel Tower: The iconic iron lattice tower is a symbol of Paris and one of the most recognizable landmarks in the world. Take the elevator to the top for breathtaking views of the city.\n",
      "2. The Louvre Museum: One of"
     ]
    },
    {
     "name": "stdout",
     "output_type": "stream",
     "text": [
      " known for its breathtaking beauty, rich history, and world-class cuisine. Paris, the City of Light, is a must-visit destination for anyone interested in art, culture, architecture, fashion, and romance. Here are some of the top things to see and do in Paris:\n",
      "1. The Eiffel Tower: The iconic iron lattice tower is a symbol of Paris and one of the most recognizable landmarks in the world. Take the elevator to the top for breathtaking views of the city.\n",
      "2. The Louvre Museum: One of the"
     ]
    },
    {
     "name": "stdout",
     "output_type": "stream",
     "text": [
      " known for its breathtaking beauty, rich history, and world-class cuisine. Paris, the City of Light, is a must-visit destination for anyone interested in art, culture, architecture, fashion, and romance. Here are some of the top things to see and do in Paris:\n",
      "1. The Eiffel Tower: The iconic iron lattice tower is a symbol of Paris and one of the most recognizable landmarks in the world. Take the elevator to the top for breathtaking views of the city.\n",
      "2. The Louvre Museum: One of the world"
     ]
    },
    {
     "name": "stdout",
     "output_type": "stream",
     "text": [
      " known for its breathtaking beauty, rich history, and world-class cuisine. Paris, the City of Light, is a must-visit destination for anyone interested in art, culture, architecture, fashion, and romance. Here are some of the top things to see and do in Paris:\n",
      "1. The Eiffel Tower: The iconic iron lattice tower is a symbol of Paris and one of the most recognizable landmarks in the world. Take the elevator to the top for breathtaking views of the city.\n",
      "2. The Louvre Museum: One of the world's"
     ]
    },
    {
     "name": "stdout",
     "output_type": "stream",
     "text": [
      " known for its breathtaking beauty, rich history, and world-class cuisine. Paris, the City of Light, is a must-visit destination for anyone interested in art, culture, architecture, fashion, and romance. Here are some of the top things to see and do in Paris:\n",
      "1. The Eiffel Tower: The iconic iron lattice tower is a symbol of Paris and one of the most recognizable landmarks in the world. Take the elevator to the top for breathtaking views of the city.\n",
      "2. The Louvre Museum: One of the world's largest"
     ]
    },
    {
     "name": "stdout",
     "output_type": "stream",
     "text": [
      " known for its breathtaking beauty, rich history, and world-class cuisine. Paris, the City of Light, is a must-visit destination for anyone interested in art, culture, architecture, fashion, and romance. Here are some of the top things to see and do in Paris:\n",
      "1. The Eiffel Tower: The iconic iron lattice tower is a symbol of Paris and one of the most recognizable landmarks in the world. Take the elevator to the top for breathtaking views of the city.\n",
      "2. The Louvre Museum: One of the world's largest and"
     ]
    },
    {
     "name": "stdout",
     "output_type": "stream",
     "text": [
      " known for its breathtaking beauty, rich history, and world-class cuisine. Paris, the City of Light, is a must-visit destination for anyone interested in art, culture, architecture, fashion, and romance. Here are some of the top things to see and do in Paris:\n",
      "1. The Eiffel Tower: The iconic iron lattice tower is a symbol of Paris and one of the most recognizable landmarks in the world. Take the elevator to the top for breathtaking views of the city.\n",
      "2. The Louvre Museum: One of the world's largest and most"
     ]
    },
    {
     "name": "stdout",
     "output_type": "stream",
     "text": [
      " known for its breathtaking beauty, rich history, and world-class cuisine. Paris, the City of Light, is a must-visit destination for anyone interested in art, culture, architecture, fashion, and romance. Here are some of the top things to see and do in Paris:\n",
      "1. The Eiffel Tower: The iconic iron lattice tower is a symbol of Paris and one of the most recognizable landmarks in the world. Take the elevator to the top for breathtaking views of the city.\n",
      "2. The Louvre Museum: One of the world's largest and most famous"
     ]
    },
    {
     "name": "stdout",
     "output_type": "stream",
     "text": [
      " known for its breathtaking beauty, rich history, and world-class cuisine. Paris, the City of Light, is a must-visit destination for anyone interested in art, culture, architecture, fashion, and romance. Here are some of the top things to see and do in Paris:\n",
      "1. The Eiffel Tower: The iconic iron lattice tower is a symbol of Paris and one of the most recognizable landmarks in the world. Take the elevator to the top for breathtaking views of the city.\n",
      "2. The Louvre Museum: One of the world's largest and most famous museums"
     ]
    },
    {
     "name": "stdout",
     "output_type": "stream",
     "text": [
      " known for its breathtaking beauty, rich history, and world-class cuisine. Paris, the City of Light, is a must-visit destination for anyone interested in art, culture, architecture, fashion, and romance. Here are some of the top things to see and do in Paris:\n",
      "1. The Eiffel Tower: The iconic iron lattice tower is a symbol of Paris and one of the most recognizable landmarks in the world. Take the elevator to the top for breathtaking views of the city.\n",
      "2. The Louvre Museum: One of the world's largest and most famous museums,"
     ]
    },
    {
     "name": "stdout",
     "output_type": "stream",
     "text": [
      " known for its breathtaking beauty, rich history, and world-class cuisine. Paris, the City of Light, is a must-visit destination for anyone interested in art, culture, architecture, fashion, and romance. Here are some of the top things to see and do in Paris:\n",
      "1. The Eiffel Tower: The iconic iron lattice tower is a symbol of Paris and one of the most recognizable landmarks in the world. Take the elevator to the top for breathtaking views of the city.\n",
      "2. The Louvre Museum: One of the world's largest and most famous museums, the"
     ]
    },
    {
     "name": "stdout",
     "output_type": "stream",
     "text": [
      " known for its breathtaking beauty, rich history, and world-class cuisine. Paris, the City of Light, is a must-visit destination for anyone interested in art, culture, architecture, fashion, and romance. Here are some of the top things to see and do in Paris:\n",
      "1. The Eiffel Tower: The iconic iron lattice tower is a symbol of Paris and one of the most recognizable landmarks in the world. Take the elevator to the top for breathtaking views of the city.\n",
      "2. The Louvre Museum: One of the world's largest and most famous museums, the Lou"
     ]
    },
    {
     "name": "stdout",
     "output_type": "stream",
     "text": [
      " known for its breathtaking beauty, rich history, and world-class cuisine. Paris, the City of Light, is a must-visit destination for anyone interested in art, culture, architecture, fashion, and romance. Here are some of the top things to see and do in Paris:\n",
      "1. The Eiffel Tower: The iconic iron lattice tower is a symbol of Paris and one of the most recognizable landmarks in the world. Take the elevator to the top for breathtaking views of the city.\n",
      "2. The Louvre Museum: One of the world's largest and most famous museums, the Louvre"
     ]
    },
    {
     "name": "stdout",
     "output_type": "stream",
     "text": [
      " known for its breathtaking beauty, rich history, and world-class cuisine. Paris, the City of Light, is a must-visit destination for anyone interested in art, culture, architecture, fashion, and romance. Here are some of the top things to see and do in Paris:\n",
      "1. The Eiffel Tower: The iconic iron lattice tower is a symbol of Paris and one of the most recognizable landmarks in the world. Take the elevator to the top for breathtaking views of the city.\n",
      "2. The Louvre Museum: One of the world's largest and most famous museums, the Louvre is"
     ]
    },
    {
     "name": "stdout",
     "output_type": "stream",
     "text": [
      " known for its breathtaking beauty, rich history, and world-class cuisine. Paris, the City of Light, is a must-visit destination for anyone interested in art, culture, architecture, fashion, and romance. Here are some of the top things to see and do in Paris:\n",
      "1. The Eiffel Tower: The iconic iron lattice tower is a symbol of Paris and one of the most recognizable landmarks in the world. Take the elevator to the top for breathtaking views of the city.\n",
      "2. The Louvre Museum: One of the world's largest and most famous museums, the Louvre is home"
     ]
    },
    {
     "name": "stdout",
     "output_type": "stream",
     "text": [
      " known for its breathtaking beauty, rich history, and world-class cuisine. Paris, the City of Light, is a must-visit destination for anyone interested in art, culture, architecture, fashion, and romance. Here are some of the top things to see and do in Paris:\n",
      "1. The Eiffel Tower: The iconic iron lattice tower is a symbol of Paris and one of the most recognizable landmarks in the world. Take the elevator to the top for breathtaking views of the city.\n",
      "2. The Louvre Museum: One of the world's largest and most famous museums, the Louvre is home to"
     ]
    },
    {
     "name": "stdout",
     "output_type": "stream",
     "text": [
      " known for its breathtaking beauty, rich history, and world-class cuisine. Paris, the City of Light, is a must-visit destination for anyone interested in art, culture, architecture, fashion, and romance. Here are some of the top things to see and do in Paris:\n",
      "1. The Eiffel Tower: The iconic iron lattice tower is a symbol of Paris and one of the most recognizable landmarks in the world. Take the elevator to the top for breathtaking views of the city.\n",
      "2. The Louvre Museum: One of the world's largest and most famous museums, the Louvre is home to an"
     ]
    },
    {
     "name": "stdout",
     "output_type": "stream",
     "text": [
      " known for its breathtaking beauty, rich history, and world-class cuisine. Paris, the City of Light, is a must-visit destination for anyone interested in art, culture, architecture, fashion, and romance. Here are some of the top things to see and do in Paris:\n",
      "1. The Eiffel Tower: The iconic iron lattice tower is a symbol of Paris and one of the most recognizable landmarks in the world. Take the elevator to the top for breathtaking views of the city.\n",
      "2. The Louvre Museum: One of the world's largest and most famous museums, the Louvre is home to an impressive"
     ]
    },
    {
     "name": "stdout",
     "output_type": "stream",
     "text": [
      " known for its breathtaking beauty, rich history, and world-class cuisine. Paris, the City of Light, is a must-visit destination for anyone interested in art, culture, architecture, fashion, and romance. Here are some of the top things to see and do in Paris:\n",
      "1. The Eiffel Tower: The iconic iron lattice tower is a symbol of Paris and one of the most recognizable landmarks in the world. Take the elevator to the top for breathtaking views of the city.\n",
      "2. The Louvre Museum: One of the world's largest and most famous museums, the Louvre is home to an impressive collection"
     ]
    },
    {
     "name": "stdout",
     "output_type": "stream",
     "text": [
      " known for its breathtaking beauty, rich history, and world-class cuisine. Paris, the City of Light, is a must-visit destination for anyone interested in art, culture, architecture, fashion, and romance. Here are some of the top things to see and do in Paris:\n",
      "1. The Eiffel Tower: The iconic iron lattice tower is a symbol of Paris and one of the most recognizable landmarks in the world. Take the elevator to the top for breathtaking views of the city.\n",
      "2. The Louvre Museum: One of the world's largest and most famous museums, the Louvre is home to an impressive collection of"
     ]
    },
    {
     "name": "stdout",
     "output_type": "stream",
     "text": [
      " known for its breathtaking beauty, rich history, and world-class cuisine. Paris, the City of Light, is a must-visit destination for anyone interested in art, culture, architecture, fashion, and romance. Here are some of the top things to see and do in Paris:\n",
      "1. The Eiffel Tower: The iconic iron lattice tower is a symbol of Paris and one of the most recognizable landmarks in the world. Take the elevator to the top for breathtaking views of the city.\n",
      "2. The Louvre Museum: One of the world's largest and most famous museums, the Louvre is home to an impressive collection of art"
     ]
    },
    {
     "name": "stdout",
     "output_type": "stream",
     "text": [
      " known for its breathtaking beauty, rich history, and world-class cuisine. Paris, the City of Light, is a must-visit destination for anyone interested in art, culture, architecture, fashion, and romance. Here are some of the top things to see and do in Paris:\n",
      "1. The Eiffel Tower: The iconic iron lattice tower is a symbol of Paris and one of the most recognizable landmarks in the world. Take the elevator to the top for breathtaking views of the city.\n",
      "2. The Louvre Museum: One of the world's largest and most famous museums, the Louvre is home to an impressive collection of art and"
     ]
    },
    {
     "name": "stdout",
     "output_type": "stream",
     "text": [
      "\n",
      "\n",
      "Prompt: The future of AI is\n",
      "Generated text: "
     ]
    },
    {
     "name": "stdout",
     "output_type": "stream",
     "text": [
      " in"
     ]
    },
    {
     "name": "stdout",
     "output_type": "stream",
     "text": [
      " in the"
     ]
    },
    {
     "name": "stdout",
     "output_type": "stream",
     "text": [
      " in the hands"
     ]
    },
    {
     "name": "stdout",
     "output_type": "stream",
     "text": [
      " in the hands of"
     ]
    },
    {
     "name": "stdout",
     "output_type": "stream",
     "text": [
      " in the hands of humans"
     ]
    },
    {
     "name": "stdout",
     "output_type": "stream",
     "text": [
      " in the hands of humans\n"
     ]
    },
    {
     "name": "stdout",
     "output_type": "stream",
     "text": [
      " in the hands of humans\n",
      "The"
     ]
    },
    {
     "name": "stdout",
     "output_type": "stream",
     "text": [
      " in the hands of humans\n",
      "The future"
     ]
    },
    {
     "name": "stdout",
     "output_type": "stream",
     "text": [
      " in the hands of humans\n",
      "The future of"
     ]
    },
    {
     "name": "stdout",
     "output_type": "stream",
     "text": [
      " in the hands of humans\n",
      "The future of AI"
     ]
    },
    {
     "name": "stdout",
     "output_type": "stream",
     "text": [
      " in the hands of humans\n",
      "The future of AI is"
     ]
    },
    {
     "name": "stdout",
     "output_type": "stream",
     "text": [
      " in the hands of humans\n",
      "The future of AI is in"
     ]
    },
    {
     "name": "stdout",
     "output_type": "stream",
     "text": [
      " in the hands of humans\n",
      "The future of AI is in the"
     ]
    },
    {
     "name": "stdout",
     "output_type": "stream",
     "text": [
      " in the hands of humans\n",
      "The future of AI is in the hands"
     ]
    },
    {
     "name": "stdout",
     "output_type": "stream",
     "text": [
      " in the hands of humans\n",
      "The future of AI is in the hands of"
     ]
    },
    {
     "name": "stdout",
     "output_type": "stream",
     "text": [
      " in the hands of humans\n",
      "The future of AI is in the hands of humans"
     ]
    },
    {
     "name": "stdout",
     "output_type": "stream",
     "text": [
      " in the hands of humans\n",
      "The future of AI is in the hands of humans\n"
     ]
    },
    {
     "name": "stdout",
     "output_type": "stream",
     "text": [
      " in the hands of humans\n",
      "The future of AI is in the hands of humans\n",
      "As"
     ]
    },
    {
     "name": "stdout",
     "output_type": "stream",
     "text": [
      " in the hands of humans\n",
      "The future of AI is in the hands of humans\n",
      "As AI"
     ]
    },
    {
     "name": "stdout",
     "output_type": "stream",
     "text": [
      " in the hands of humans\n",
      "The future of AI is in the hands of humans\n",
      "As AI continues"
     ]
    },
    {
     "name": "stdout",
     "output_type": "stream",
     "text": [
      " in the hands of humans\n",
      "The future of AI is in the hands of humans\n",
      "As AI continues to"
     ]
    },
    {
     "name": "stdout",
     "output_type": "stream",
     "text": [
      " in the hands of humans\n",
      "The future of AI is in the hands of humans\n",
      "As AI continues to advance"
     ]
    },
    {
     "name": "stdout",
     "output_type": "stream",
     "text": [
      " in the hands of humans\n",
      "The future of AI is in the hands of humans\n",
      "As AI continues to advance,"
     ]
    },
    {
     "name": "stdout",
     "output_type": "stream",
     "text": [
      " in the hands of humans\n",
      "The future of AI is in the hands of humans\n",
      "As AI continues to advance, it"
     ]
    },
    {
     "name": "stdout",
     "output_type": "stream",
     "text": [
      " in the hands of humans\n",
      "The future of AI is in the hands of humans\n",
      "As AI continues to advance, it's"
     ]
    },
    {
     "name": "stdout",
     "output_type": "stream",
     "text": [
      " in the hands of humans\n",
      "The future of AI is in the hands of humans\n",
      "As AI continues to advance, it's essential"
     ]
    },
    {
     "name": "stdout",
     "output_type": "stream",
     "text": [
      " in the hands of humans\n",
      "The future of AI is in the hands of humans\n",
      "As AI continues to advance, it's essential to"
     ]
    },
    {
     "name": "stdout",
     "output_type": "stream",
     "text": [
      " in the hands of humans\n",
      "The future of AI is in the hands of humans\n",
      "As AI continues to advance, it's essential to consider"
     ]
    },
    {
     "name": "stdout",
     "output_type": "stream",
     "text": [
      " in the hands of humans\n",
      "The future of AI is in the hands of humans\n",
      "As AI continues to advance, it's essential to consider its"
     ]
    },
    {
     "name": "stdout",
     "output_type": "stream",
     "text": [
      " in the hands of humans\n",
      "The future of AI is in the hands of humans\n",
      "As AI continues to advance, it's essential to consider its long"
     ]
    },
    {
     "name": "stdout",
     "output_type": "stream",
     "text": [
      " in the hands of humans\n",
      "The future of AI is in the hands of humans\n",
      "As AI continues to advance, it's essential to consider its long-term"
     ]
    },
    {
     "name": "stdout",
     "output_type": "stream",
     "text": [
      " in the hands of humans\n",
      "The future of AI is in the hands of humans\n",
      "As AI continues to advance, it's essential to consider its long-term implications"
     ]
    },
    {
     "name": "stdout",
     "output_type": "stream",
     "text": [
      " in the hands of humans\n",
      "The future of AI is in the hands of humans\n",
      "As AI continues to advance, it's essential to consider its long-term implications."
     ]
    },
    {
     "name": "stdout",
     "output_type": "stream",
     "text": [
      " in the hands of humans\n",
      "The future of AI is in the hands of humans\n",
      "As AI continues to advance, it's essential to consider its long-term implications. The"
     ]
    },
    {
     "name": "stdout",
     "output_type": "stream",
     "text": [
      " in the hands of humans\n",
      "The future of AI is in the hands of humans\n",
      "As AI continues to advance, it's essential to consider its long-term implications. The choices"
     ]
    },
    {
     "name": "stdout",
     "output_type": "stream",
     "text": [
      " in the hands of humans\n",
      "The future of AI is in the hands of humans\n",
      "As AI continues to advance, it's essential to consider its long-term implications. The choices we"
     ]
    },
    {
     "name": "stdout",
     "output_type": "stream",
     "text": [
      " in the hands of humans\n",
      "The future of AI is in the hands of humans\n",
      "As AI continues to advance, it's essential to consider its long-term implications. The choices we make"
     ]
    },
    {
     "name": "stdout",
     "output_type": "stream",
     "text": [
      " in the hands of humans\n",
      "The future of AI is in the hands of humans\n",
      "As AI continues to advance, it's essential to consider its long-term implications. The choices we make today"
     ]
    },
    {
     "name": "stdout",
     "output_type": "stream",
     "text": [
      " in the hands of humans\n",
      "The future of AI is in the hands of humans\n",
      "As AI continues to advance, it's essential to consider its long-term implications. The choices we make today will"
     ]
    },
    {
     "name": "stdout",
     "output_type": "stream",
     "text": [
      " in the hands of humans\n",
      "The future of AI is in the hands of humans\n",
      "As AI continues to advance, it's essential to consider its long-term implications. The choices we make today will shape"
     ]
    },
    {
     "name": "stdout",
     "output_type": "stream",
     "text": [
      " in the hands of humans\n",
      "The future of AI is in the hands of humans\n",
      "As AI continues to advance, it's essential to consider its long-term implications. The choices we make today will shape the"
     ]
    },
    {
     "name": "stdout",
     "output_type": "stream",
     "text": [
      " in the hands of humans\n",
      "The future of AI is in the hands of humans\n",
      "As AI continues to advance, it's essential to consider its long-term implications. The choices we make today will shape the course"
     ]
    },
    {
     "name": "stdout",
     "output_type": "stream",
     "text": [
      " in the hands of humans\n",
      "The future of AI is in the hands of humans\n",
      "As AI continues to advance, it's essential to consider its long-term implications. The choices we make today will shape the course of"
     ]
    },
    {
     "name": "stdout",
     "output_type": "stream",
     "text": [
      " in the hands of humans\n",
      "The future of AI is in the hands of humans\n",
      "As AI continues to advance, it's essential to consider its long-term implications. The choices we make today will shape the course of AI"
     ]
    },
    {
     "name": "stdout",
     "output_type": "stream",
     "text": [
      " in the hands of humans\n",
      "The future of AI is in the hands of humans\n",
      "As AI continues to advance, it's essential to consider its long-term implications. The choices we make today will shape the course of AI development"
     ]
    },
    {
     "name": "stdout",
     "output_type": "stream",
     "text": [
      " in the hands of humans\n",
      "The future of AI is in the hands of humans\n",
      "As AI continues to advance, it's essential to consider its long-term implications. The choices we make today will shape the course of AI development and"
     ]
    },
    {
     "name": "stdout",
     "output_type": "stream",
     "text": [
      " in the hands of humans\n",
      "The future of AI is in the hands of humans\n",
      "As AI continues to advance, it's essential to consider its long-term implications. The choices we make today will shape the course of AI development and ensure"
     ]
    },
    {
     "name": "stdout",
     "output_type": "stream",
     "text": [
      " in the hands of humans\n",
      "The future of AI is in the hands of humans\n",
      "As AI continues to advance, it's essential to consider its long-term implications. The choices we make today will shape the course of AI development and ensure it"
     ]
    },
    {
     "name": "stdout",
     "output_type": "stream",
     "text": [
      " in the hands of humans\n",
      "The future of AI is in the hands of humans\n",
      "As AI continues to advance, it's essential to consider its long-term implications. The choices we make today will shape the course of AI development and ensure it serves"
     ]
    },
    {
     "name": "stdout",
     "output_type": "stream",
     "text": [
      " in the hands of humans\n",
      "The future of AI is in the hands of humans\n",
      "As AI continues to advance, it's essential to consider its long-term implications. The choices we make today will shape the course of AI development and ensure it serves humanity"
     ]
    },
    {
     "name": "stdout",
     "output_type": "stream",
     "text": [
      " in the hands of humans\n",
      "The future of AI is in the hands of humans\n",
      "As AI continues to advance, it's essential to consider its long-term implications. The choices we make today will shape the course of AI development and ensure it serves humanity.\n"
     ]
    },
    {
     "name": "stdout",
     "output_type": "stream",
     "text": [
      " in the hands of humans\n",
      "The future of AI is in the hands of humans\n",
      "As AI continues to advance, it's essential to consider its long-term implications. The choices we make today will shape the course of AI development and ensure it serves humanity.\n",
      "The"
     ]
    },
    {
     "name": "stdout",
     "output_type": "stream",
     "text": [
      " in the hands of humans\n",
      "The future of AI is in the hands of humans\n",
      "As AI continues to advance, it's essential to consider its long-term implications. The choices we make today will shape the course of AI development and ensure it serves humanity.\n",
      "The future"
     ]
    },
    {
     "name": "stdout",
     "output_type": "stream",
     "text": [
      " in the hands of humans\n",
      "The future of AI is in the hands of humans\n",
      "As AI continues to advance, it's essential to consider its long-term implications. The choices we make today will shape the course of AI development and ensure it serves humanity.\n",
      "The future of"
     ]
    },
    {
     "name": "stdout",
     "output_type": "stream",
     "text": [
      " in the hands of humans\n",
      "The future of AI is in the hands of humans\n",
      "As AI continues to advance, it's essential to consider its long-term implications. The choices we make today will shape the course of AI development and ensure it serves humanity.\n",
      "The future of AI"
     ]
    },
    {
     "name": "stdout",
     "output_type": "stream",
     "text": [
      " in the hands of humans\n",
      "The future of AI is in the hands of humans\n",
      "As AI continues to advance, it's essential to consider its long-term implications. The choices we make today will shape the course of AI development and ensure it serves humanity.\n",
      "The future of AI is"
     ]
    },
    {
     "name": "stdout",
     "output_type": "stream",
     "text": [
      " in the hands of humans\n",
      "The future of AI is in the hands of humans\n",
      "As AI continues to advance, it's essential to consider its long-term implications. The choices we make today will shape the course of AI development and ensure it serves humanity.\n",
      "The future of AI is in"
     ]
    },
    {
     "name": "stdout",
     "output_type": "stream",
     "text": [
      " in the hands of humans\n",
      "The future of AI is in the hands of humans\n",
      "As AI continues to advance, it's essential to consider its long-term implications. The choices we make today will shape the course of AI development and ensure it serves humanity.\n",
      "The future of AI is in the"
     ]
    },
    {
     "name": "stdout",
     "output_type": "stream",
     "text": [
      " in the hands of humans\n",
      "The future of AI is in the hands of humans\n",
      "As AI continues to advance, it's essential to consider its long-term implications. The choices we make today will shape the course of AI development and ensure it serves humanity.\n",
      "The future of AI is in the hands"
     ]
    },
    {
     "name": "stdout",
     "output_type": "stream",
     "text": [
      " in the hands of humans\n",
      "The future of AI is in the hands of humans\n",
      "As AI continues to advance, it's essential to consider its long-term implications. The choices we make today will shape the course of AI development and ensure it serves humanity.\n",
      "The future of AI is in the hands of"
     ]
    },
    {
     "name": "stdout",
     "output_type": "stream",
     "text": [
      " in the hands of humans\n",
      "The future of AI is in the hands of humans\n",
      "As AI continues to advance, it's essential to consider its long-term implications. The choices we make today will shape the course of AI development and ensure it serves humanity.\n",
      "The future of AI is in the hands of humans"
     ]
    },
    {
     "name": "stdout",
     "output_type": "stream",
     "text": [
      " in the hands of humans\n",
      "The future of AI is in the hands of humans\n",
      "As AI continues to advance, it's essential to consider its long-term implications. The choices we make today will shape the course of AI development and ensure it serves humanity.\n",
      "The future of AI is in the hands of humans\n"
     ]
    },
    {
     "name": "stdout",
     "output_type": "stream",
     "text": [
      " in the hands of humans\n",
      "The future of AI is in the hands of humans\n",
      "As AI continues to advance, it's essential to consider its long-term implications. The choices we make today will shape the course of AI development and ensure it serves humanity.\n",
      "The future of AI is in the hands of humans\n",
      "As"
     ]
    },
    {
     "name": "stdout",
     "output_type": "stream",
     "text": [
      " in the hands of humans\n",
      "The future of AI is in the hands of humans\n",
      "As AI continues to advance, it's essential to consider its long-term implications. The choices we make today will shape the course of AI development and ensure it serves humanity.\n",
      "The future of AI is in the hands of humans\n",
      "As AI"
     ]
    },
    {
     "name": "stdout",
     "output_type": "stream",
     "text": [
      " in the hands of humans\n",
      "The future of AI is in the hands of humans\n",
      "As AI continues to advance, it's essential to consider its long-term implications. The choices we make today will shape the course of AI development and ensure it serves humanity.\n",
      "The future of AI is in the hands of humans\n",
      "As AI continues"
     ]
    },
    {
     "name": "stdout",
     "output_type": "stream",
     "text": [
      " in the hands of humans\n",
      "The future of AI is in the hands of humans\n",
      "As AI continues to advance, it's essential to consider its long-term implications. The choices we make today will shape the course of AI development and ensure it serves humanity.\n",
      "The future of AI is in the hands of humans\n",
      "As AI continues to"
     ]
    },
    {
     "name": "stdout",
     "output_type": "stream",
     "text": [
      " in the hands of humans\n",
      "The future of AI is in the hands of humans\n",
      "As AI continues to advance, it's essential to consider its long-term implications. The choices we make today will shape the course of AI development and ensure it serves humanity.\n",
      "The future of AI is in the hands of humans\n",
      "As AI continues to advance"
     ]
    },
    {
     "name": "stdout",
     "output_type": "stream",
     "text": [
      " in the hands of humans\n",
      "The future of AI is in the hands of humans\n",
      "As AI continues to advance, it's essential to consider its long-term implications. The choices we make today will shape the course of AI development and ensure it serves humanity.\n",
      "The future of AI is in the hands of humans\n",
      "As AI continues to advance,"
     ]
    },
    {
     "name": "stdout",
     "output_type": "stream",
     "text": [
      " in the hands of humans\n",
      "The future of AI is in the hands of humans\n",
      "As AI continues to advance, it's essential to consider its long-term implications. The choices we make today will shape the course of AI development and ensure it serves humanity.\n",
      "The future of AI is in the hands of humans\n",
      "As AI continues to advance, it"
     ]
    },
    {
     "name": "stdout",
     "output_type": "stream",
     "text": [
      " in the hands of humans\n",
      "The future of AI is in the hands of humans\n",
      "As AI continues to advance, it's essential to consider its long-term implications. The choices we make today will shape the course of AI development and ensure it serves humanity.\n",
      "The future of AI is in the hands of humans\n",
      "As AI continues to advance, it's"
     ]
    },
    {
     "name": "stdout",
     "output_type": "stream",
     "text": [
      " in the hands of humans\n",
      "The future of AI is in the hands of humans\n",
      "As AI continues to advance, it's essential to consider its long-term implications. The choices we make today will shape the course of AI development and ensure it serves humanity.\n",
      "The future of AI is in the hands of humans\n",
      "As AI continues to advance, it's essential"
     ]
    },
    {
     "name": "stdout",
     "output_type": "stream",
     "text": [
      " in the hands of humans\n",
      "The future of AI is in the hands of humans\n",
      "As AI continues to advance, it's essential to consider its long-term implications. The choices we make today will shape the course of AI development and ensure it serves humanity.\n",
      "The future of AI is in the hands of humans\n",
      "As AI continues to advance, it's essential to"
     ]
    },
    {
     "name": "stdout",
     "output_type": "stream",
     "text": [
      " in the hands of humans\n",
      "The future of AI is in the hands of humans\n",
      "As AI continues to advance, it's essential to consider its long-term implications. The choices we make today will shape the course of AI development and ensure it serves humanity.\n",
      "The future of AI is in the hands of humans\n",
      "As AI continues to advance, it's essential to consider"
     ]
    },
    {
     "name": "stdout",
     "output_type": "stream",
     "text": [
      " in the hands of humans\n",
      "The future of AI is in the hands of humans\n",
      "As AI continues to advance, it's essential to consider its long-term implications. The choices we make today will shape the course of AI development and ensure it serves humanity.\n",
      "The future of AI is in the hands of humans\n",
      "As AI continues to advance, it's essential to consider its"
     ]
    },
    {
     "name": "stdout",
     "output_type": "stream",
     "text": [
      " in the hands of humans\n",
      "The future of AI is in the hands of humans\n",
      "As AI continues to advance, it's essential to consider its long-term implications. The choices we make today will shape the course of AI development and ensure it serves humanity.\n",
      "The future of AI is in the hands of humans\n",
      "As AI continues to advance, it's essential to consider its long"
     ]
    },
    {
     "name": "stdout",
     "output_type": "stream",
     "text": [
      " in the hands of humans\n",
      "The future of AI is in the hands of humans\n",
      "As AI continues to advance, it's essential to consider its long-term implications. The choices we make today will shape the course of AI development and ensure it serves humanity.\n",
      "The future of AI is in the hands of humans\n",
      "As AI continues to advance, it's essential to consider its long-term"
     ]
    },
    {
     "name": "stdout",
     "output_type": "stream",
     "text": [
      " in the hands of humans\n",
      "The future of AI is in the hands of humans\n",
      "As AI continues to advance, it's essential to consider its long-term implications. The choices we make today will shape the course of AI development and ensure it serves humanity.\n",
      "The future of AI is in the hands of humans\n",
      "As AI continues to advance, it's essential to consider its long-term implications"
     ]
    },
    {
     "name": "stdout",
     "output_type": "stream",
     "text": [
      " in the hands of humans\n",
      "The future of AI is in the hands of humans\n",
      "As AI continues to advance, it's essential to consider its long-term implications. The choices we make today will shape the course of AI development and ensure it serves humanity.\n",
      "The future of AI is in the hands of humans\n",
      "As AI continues to advance, it's essential to consider its long-term implications."
     ]
    },
    {
     "name": "stdout",
     "output_type": "stream",
     "text": [
      " in the hands of humans\n",
      "The future of AI is in the hands of humans\n",
      "As AI continues to advance, it's essential to consider its long-term implications. The choices we make today will shape the course of AI development and ensure it serves humanity.\n",
      "The future of AI is in the hands of humans\n",
      "As AI continues to advance, it's essential to consider its long-term implications. The"
     ]
    },
    {
     "name": "stdout",
     "output_type": "stream",
     "text": [
      " in the hands of humans\n",
      "The future of AI is in the hands of humans\n",
      "As AI continues to advance, it's essential to consider its long-term implications. The choices we make today will shape the course of AI development and ensure it serves humanity.\n",
      "The future of AI is in the hands of humans\n",
      "As AI continues to advance, it's essential to consider its long-term implications. The choices"
     ]
    },
    {
     "name": "stdout",
     "output_type": "stream",
     "text": [
      " in the hands of humans\n",
      "The future of AI is in the hands of humans\n",
      "As AI continues to advance, it's essential to consider its long-term implications. The choices we make today will shape the course of AI development and ensure it serves humanity.\n",
      "The future of AI is in the hands of humans\n",
      "As AI continues to advance, it's essential to consider its long-term implications. The choices we"
     ]
    },
    {
     "name": "stdout",
     "output_type": "stream",
     "text": [
      " in the hands of humans\n",
      "The future of AI is in the hands of humans\n",
      "As AI continues to advance, it's essential to consider its long-term implications. The choices we make today will shape the course of AI development and ensure it serves humanity.\n",
      "The future of AI is in the hands of humans\n",
      "As AI continues to advance, it's essential to consider its long-term implications. The choices we make"
     ]
    },
    {
     "name": "stdout",
     "output_type": "stream",
     "text": [
      " in the hands of humans\n",
      "The future of AI is in the hands of humans\n",
      "As AI continues to advance, it's essential to consider its long-term implications. The choices we make today will shape the course of AI development and ensure it serves humanity.\n",
      "The future of AI is in the hands of humans\n",
      "As AI continues to advance, it's essential to consider its long-term implications. The choices we make today"
     ]
    },
    {
     "name": "stdout",
     "output_type": "stream",
     "text": [
      " in the hands of humans\n",
      "The future of AI is in the hands of humans\n",
      "As AI continues to advance, it's essential to consider its long-term implications. The choices we make today will shape the course of AI development and ensure it serves humanity.\n",
      "The future of AI is in the hands of humans\n",
      "As AI continues to advance, it's essential to consider its long-term implications. The choices we make today will"
     ]
    },
    {
     "name": "stdout",
     "output_type": "stream",
     "text": [
      " in the hands of humans\n",
      "The future of AI is in the hands of humans\n",
      "As AI continues to advance, it's essential to consider its long-term implications. The choices we make today will shape the course of AI development and ensure it serves humanity.\n",
      "The future of AI is in the hands of humans\n",
      "As AI continues to advance, it's essential to consider its long-term implications. The choices we make today will shape"
     ]
    },
    {
     "name": "stdout",
     "output_type": "stream",
     "text": [
      " in the hands of humans\n",
      "The future of AI is in the hands of humans\n",
      "As AI continues to advance, it's essential to consider its long-term implications. The choices we make today will shape the course of AI development and ensure it serves humanity.\n",
      "The future of AI is in the hands of humans\n",
      "As AI continues to advance, it's essential to consider its long-term implications. The choices we make today will shape the"
     ]
    },
    {
     "name": "stdout",
     "output_type": "stream",
     "text": [
      " in the hands of humans\n",
      "The future of AI is in the hands of humans\n",
      "As AI continues to advance, it's essential to consider its long-term implications. The choices we make today will shape the course of AI development and ensure it serves humanity.\n",
      "The future of AI is in the hands of humans\n",
      "As AI continues to advance, it's essential to consider its long-term implications. The choices we make today will shape the course"
     ]
    },
    {
     "name": "stdout",
     "output_type": "stream",
     "text": [
      " in the hands of humans\n",
      "The future of AI is in the hands of humans\n",
      "As AI continues to advance, it's essential to consider its long-term implications. The choices we make today will shape the course of AI development and ensure it serves humanity.\n",
      "The future of AI is in the hands of humans\n",
      "As AI continues to advance, it's essential to consider its long-term implications. The choices we make today will shape the course of"
     ]
    },
    {
     "name": "stdout",
     "output_type": "stream",
     "text": [
      " in the hands of humans\n",
      "The future of AI is in the hands of humans\n",
      "As AI continues to advance, it's essential to consider its long-term implications. The choices we make today will shape the course of AI development and ensure it serves humanity.\n",
      "The future of AI is in the hands of humans\n",
      "As AI continues to advance, it's essential to consider its long-term implications. The choices we make today will shape the course of AI"
     ]
    },
    {
     "name": "stdout",
     "output_type": "stream",
     "text": [
      " in the hands of humans\n",
      "The future of AI is in the hands of humans\n",
      "As AI continues to advance, it's essential to consider its long-term implications. The choices we make today will shape the course of AI development and ensure it serves humanity.\n",
      "The future of AI is in the hands of humans\n",
      "As AI continues to advance, it's essential to consider its long-term implications. The choices we make today will shape the course of AI development"
     ]
    },
    {
     "name": "stdout",
     "output_type": "stream",
     "text": [
      " in the hands of humans\n",
      "The future of AI is in the hands of humans\n",
      "As AI continues to advance, it's essential to consider its long-term implications. The choices we make today will shape the course of AI development and ensure it serves humanity.\n",
      "The future of AI is in the hands of humans\n",
      "As AI continues to advance, it's essential to consider its long-term implications. The choices we make today will shape the course of AI development and"
     ]
    },
    {
     "name": "stdout",
     "output_type": "stream",
     "text": [
      " in the hands of humans\n",
      "The future of AI is in the hands of humans\n",
      "As AI continues to advance, it's essential to consider its long-term implications. The choices we make today will shape the course of AI development and ensure it serves humanity.\n",
      "The future of AI is in the hands of humans\n",
      "As AI continues to advance, it's essential to consider its long-term implications. The choices we make today will shape the course of AI development and ensure"
     ]
    },
    {
     "name": "stdout",
     "output_type": "stream",
     "text": [
      " in the hands of humans\n",
      "The future of AI is in the hands of humans\n",
      "As AI continues to advance, it's essential to consider its long-term implications. The choices we make today will shape the course of AI development and ensure it serves humanity.\n",
      "The future of AI is in the hands of humans\n",
      "As AI continues to advance, it's essential to consider its long-term implications. The choices we make today will shape the course of AI development and ensure it"
     ]
    },
    {
     "name": "stdout",
     "output_type": "stream",
     "text": [
      " in the hands of humans\n",
      "The future of AI is in the hands of humans\n",
      "As AI continues to advance, it's essential to consider its long-term implications. The choices we make today will shape the course of AI development and ensure it serves humanity.\n",
      "The future of AI is in the hands of humans\n",
      "As AI continues to advance, it's essential to consider its long-term implications. The choices we make today will shape the course of AI development and ensure it serves"
     ]
    },
    {
     "name": "stdout",
     "output_type": "stream",
     "text": [
      " in the hands of humans\n",
      "The future of AI is in the hands of humans\n",
      "As AI continues to advance, it's essential to consider its long-term implications. The choices we make today will shape the course of AI development and ensure it serves humanity.\n",
      "The future of AI is in the hands of humans\n",
      "As AI continues to advance, it's essential to consider its long-term implications. The choices we make today will shape the course of AI development and ensure it serves humanity"
     ]
    },
    {
     "name": "stdout",
     "output_type": "stream",
     "text": [
      " in the hands of humans\n",
      "The future of AI is in the hands of humans\n",
      "As AI continues to advance, it's essential to consider its long-term implications. The choices we make today will shape the course of AI development and ensure it serves humanity.\n",
      "The future of AI is in the hands of humans\n",
      "As AI continues to advance, it's essential to consider its long-term implications. The choices we make today will shape the course of AI development and ensure it serves humanity.\n"
     ]
    },
    {
     "name": "stdout",
     "output_type": "stream",
     "text": [
      " in the hands of humans\n",
      "The future of AI is in the hands of humans\n",
      "As AI continues to advance, it's essential to consider its long-term implications. The choices we make today will shape the course of AI development and ensure it serves humanity.\n",
      "The future of AI is in the hands of humans\n",
      "As AI continues to advance, it's essential to consider its long-term implications. The choices we make today will shape the course of AI development and ensure it serves humanity.\n",
      "The"
     ]
    },
    {
     "name": "stdout",
     "output_type": "stream",
     "text": [
      " in the hands of humans\n",
      "The future of AI is in the hands of humans\n",
      "As AI continues to advance, it's essential to consider its long-term implications. The choices we make today will shape the course of AI development and ensure it serves humanity.\n",
      "The future of AI is in the hands of humans\n",
      "As AI continues to advance, it's essential to consider its long-term implications. The choices we make today will shape the course of AI development and ensure it serves humanity.\n",
      "The future"
     ]
    },
    {
     "name": "stdout",
     "output_type": "stream",
     "text": [
      " in the hands of humans\n",
      "The future of AI is in the hands of humans\n",
      "As AI continues to advance, it's essential to consider its long-term implications. The choices we make today will shape the course of AI development and ensure it serves humanity.\n",
      "The future of AI is in the hands of humans\n",
      "As AI continues to advance, it's essential to consider its long-term implications. The choices we make today will shape the course of AI development and ensure it serves humanity.\n",
      "The future of"
     ]
    },
    {
     "name": "stdout",
     "output_type": "stream",
     "text": [
      " in the hands of humans\n",
      "The future of AI is in the hands of humans\n",
      "As AI continues to advance, it's essential to consider its long-term implications. The choices we make today will shape the course of AI development and ensure it serves humanity.\n",
      "The future of AI is in the hands of humans\n",
      "As AI continues to advance, it's essential to consider its long-term implications. The choices we make today will shape the course of AI development and ensure it serves humanity.\n",
      "The future of AI"
     ]
    },
    {
     "name": "stdout",
     "output_type": "stream",
     "text": [
      " in the hands of humans\n",
      "The future of AI is in the hands of humans\n",
      "As AI continues to advance, it's essential to consider its long-term implications. The choices we make today will shape the course of AI development and ensure it serves humanity.\n",
      "The future of AI is in the hands of humans\n",
      "As AI continues to advance, it's essential to consider its long-term implications. The choices we make today will shape the course of AI development and ensure it serves humanity.\n",
      "The future of AI is"
     ]
    },
    {
     "name": "stdout",
     "output_type": "stream",
     "text": [
      " in the hands of humans\n",
      "The future of AI is in the hands of humans\n",
      "As AI continues to advance, it's essential to consider its long-term implications. The choices we make today will shape the course of AI development and ensure it serves humanity.\n",
      "The future of AI is in the hands of humans\n",
      "As AI continues to advance, it's essential to consider its long-term implications. The choices we make today will shape the course of AI development and ensure it serves humanity.\n",
      "The future of AI is in"
     ]
    },
    {
     "name": "stdout",
     "output_type": "stream",
     "text": [
      " in the hands of humans\n",
      "The future of AI is in the hands of humans\n",
      "As AI continues to advance, it's essential to consider its long-term implications. The choices we make today will shape the course of AI development and ensure it serves humanity.\n",
      "The future of AI is in the hands of humans\n",
      "As AI continues to advance, it's essential to consider its long-term implications. The choices we make today will shape the course of AI development and ensure it serves humanity.\n",
      "The future of AI is in the"
     ]
    },
    {
     "name": "stdout",
     "output_type": "stream",
     "text": [
      " in the hands of humans\n",
      "The future of AI is in the hands of humans\n",
      "As AI continues to advance, it's essential to consider its long-term implications. The choices we make today will shape the course of AI development and ensure it serves humanity.\n",
      "The future of AI is in the hands of humans\n",
      "As AI continues to advance, it's essential to consider its long-term implications. The choices we make today will shape the course of AI development and ensure it serves humanity.\n",
      "The future of AI is in the hands"
     ]
    },
    {
     "name": "stdout",
     "output_type": "stream",
     "text": [
      " in the hands of humans\n",
      "The future of AI is in the hands of humans\n",
      "As AI continues to advance, it's essential to consider its long-term implications. The choices we make today will shape the course of AI development and ensure it serves humanity.\n",
      "The future of AI is in the hands of humans\n",
      "As AI continues to advance, it's essential to consider its long-term implications. The choices we make today will shape the course of AI development and ensure it serves humanity.\n",
      "The future of AI is in the hands of"
     ]
    },
    {
     "name": "stdout",
     "output_type": "stream",
     "text": [
      " in the hands of humans\n",
      "The future of AI is in the hands of humans\n",
      "As AI continues to advance, it's essential to consider its long-term implications. The choices we make today will shape the course of AI development and ensure it serves humanity.\n",
      "The future of AI is in the hands of humans\n",
      "As AI continues to advance, it's essential to consider its long-term implications. The choices we make today will shape the course of AI development and ensure it serves humanity.\n",
      "The future of AI is in the hands of humans"
     ]
    },
    {
     "name": "stdout",
     "output_type": "stream",
     "text": [
      " in the hands of humans\n",
      "The future of AI is in the hands of humans\n",
      "As AI continues to advance, it's essential to consider its long-term implications. The choices we make today will shape the course of AI development and ensure it serves humanity.\n",
      "The future of AI is in the hands of humans\n",
      "As AI continues to advance, it's essential to consider its long-term implications. The choices we make today will shape the course of AI development and ensure it serves humanity.\n",
      "The future of AI is in the hands of humans\n"
     ]
    },
    {
     "name": "stdout",
     "output_type": "stream",
     "text": [
      " in the hands of humans\n",
      "The future of AI is in the hands of humans\n",
      "As AI continues to advance, it's essential to consider its long-term implications. The choices we make today will shape the course of AI development and ensure it serves humanity.\n",
      "The future of AI is in the hands of humans\n",
      "As AI continues to advance, it's essential to consider its long-term implications. The choices we make today will shape the course of AI development and ensure it serves humanity.\n",
      "The future of AI is in the hands of humans\n",
      "As"
     ]
    },
    {
     "name": "stdout",
     "output_type": "stream",
     "text": [
      " in the hands of humans\n",
      "The future of AI is in the hands of humans\n",
      "As AI continues to advance, it's essential to consider its long-term implications. The choices we make today will shape the course of AI development and ensure it serves humanity.\n",
      "The future of AI is in the hands of humans\n",
      "As AI continues to advance, it's essential to consider its long-term implications. The choices we make today will shape the course of AI development and ensure it serves humanity.\n",
      "The future of AI is in the hands of humans\n",
      "As AI"
     ]
    },
    {
     "name": "stdout",
     "output_type": "stream",
     "text": [
      " in the hands of humans\n",
      "The future of AI is in the hands of humans\n",
      "As AI continues to advance, it's essential to consider its long-term implications. The choices we make today will shape the course of AI development and ensure it serves humanity.\n",
      "The future of AI is in the hands of humans\n",
      "As AI continues to advance, it's essential to consider its long-term implications. The choices we make today will shape the course of AI development and ensure it serves humanity.\n",
      "The future of AI is in the hands of humans\n",
      "As AI continues"
     ]
    },
    {
     "name": "stdout",
     "output_type": "stream",
     "text": [
      " in the hands of humans\n",
      "The future of AI is in the hands of humans\n",
      "As AI continues to advance, it's essential to consider its long-term implications. The choices we make today will shape the course of AI development and ensure it serves humanity.\n",
      "The future of AI is in the hands of humans\n",
      "As AI continues to advance, it's essential to consider its long-term implications. The choices we make today will shape the course of AI development and ensure it serves humanity.\n",
      "The future of AI is in the hands of humans\n",
      "As AI continues to"
     ]
    },
    {
     "name": "stdout",
     "output_type": "stream",
     "text": [
      " in the hands of humans\n",
      "The future of AI is in the hands of humans\n",
      "As AI continues to advance, it's essential to consider its long-term implications. The choices we make today will shape the course of AI development and ensure it serves humanity.\n",
      "The future of AI is in the hands of humans\n",
      "As AI continues to advance, it's essential to consider its long-term implications. The choices we make today will shape the course of AI development and ensure it serves humanity.\n",
      "The future of AI is in the hands of humans\n",
      "As AI continues to advance"
     ]
    },
    {
     "name": "stdout",
     "output_type": "stream",
     "text": [
      " in the hands of humans\n",
      "The future of AI is in the hands of humans\n",
      "As AI continues to advance, it's essential to consider its long-term implications. The choices we make today will shape the course of AI development and ensure it serves humanity.\n",
      "The future of AI is in the hands of humans\n",
      "As AI continues to advance, it's essential to consider its long-term implications. The choices we make today will shape the course of AI development and ensure it serves humanity.\n",
      "The future of AI is in the hands of humans\n",
      "As AI continues to advance,"
     ]
    },
    {
     "name": "stdout",
     "output_type": "stream",
     "text": [
      " in the hands of humans\n",
      "The future of AI is in the hands of humans\n",
      "As AI continues to advance, it's essential to consider its long-term implications. The choices we make today will shape the course of AI development and ensure it serves humanity.\n",
      "The future of AI is in the hands of humans\n",
      "As AI continues to advance, it's essential to consider its long-term implications. The choices we make today will shape the course of AI development and ensure it serves humanity.\n",
      "The future of AI is in the hands of humans\n",
      "As AI continues to advance, it"
     ]
    },
    {
     "name": "stdout",
     "output_type": "stream",
     "text": [
      " in the hands of humans\n",
      "The future of AI is in the hands of humans\n",
      "As AI continues to advance, it's essential to consider its long-term implications. The choices we make today will shape the course of AI development and ensure it serves humanity.\n",
      "The future of AI is in the hands of humans\n",
      "As AI continues to advance, it's essential to consider its long-term implications. The choices we make today will shape the course of AI development and ensure it serves humanity.\n",
      "The future of AI is in the hands of humans\n",
      "As AI continues to advance, it's"
     ]
    },
    {
     "name": "stdout",
     "output_type": "stream",
     "text": [
      " in the hands of humans\n",
      "The future of AI is in the hands of humans\n",
      "As AI continues to advance, it's essential to consider its long-term implications. The choices we make today will shape the course of AI development and ensure it serves humanity.\n",
      "The future of AI is in the hands of humans\n",
      "As AI continues to advance, it's essential to consider its long-term implications. The choices we make today will shape the course of AI development and ensure it serves humanity.\n",
      "The future of AI is in the hands of humans\n",
      "As AI continues to advance, it's essential"
     ]
    },
    {
     "name": "stdout",
     "output_type": "stream",
     "text": [
      " in the hands of humans\n",
      "The future of AI is in the hands of humans\n",
      "As AI continues to advance, it's essential to consider its long-term implications. The choices we make today will shape the course of AI development and ensure it serves humanity.\n",
      "The future of AI is in the hands of humans\n",
      "As AI continues to advance, it's essential to consider its long-term implications. The choices we make today will shape the course of AI development and ensure it serves humanity.\n",
      "The future of AI is in the hands of humans\n",
      "As AI continues to advance, it's essential to"
     ]
    },
    {
     "name": "stdout",
     "output_type": "stream",
     "text": [
      " in the hands of humans\n",
      "The future of AI is in the hands of humans\n",
      "As AI continues to advance, it's essential to consider its long-term implications. The choices we make today will shape the course of AI development and ensure it serves humanity.\n",
      "The future of AI is in the hands of humans\n",
      "As AI continues to advance, it's essential to consider its long-term implications. The choices we make today will shape the course of AI development and ensure it serves humanity.\n",
      "The future of AI is in the hands of humans\n",
      "As AI continues to advance, it's essential to consider"
     ]
    },
    {
     "name": "stdout",
     "output_type": "stream",
     "text": [
      " in the hands of humans\n",
      "The future of AI is in the hands of humans\n",
      "As AI continues to advance, it's essential to consider its long-term implications. The choices we make today will shape the course of AI development and ensure it serves humanity.\n",
      "The future of AI is in the hands of humans\n",
      "As AI continues to advance, it's essential to consider its long-term implications. The choices we make today will shape the course of AI development and ensure it serves humanity.\n",
      "The future of AI is in the hands of humans\n",
      "As AI continues to advance, it's essential to consider its"
     ]
    },
    {
     "name": "stdout",
     "output_type": "stream",
     "text": [
      " in the hands of humans\n",
      "The future of AI is in the hands of humans\n",
      "As AI continues to advance, it's essential to consider its long-term implications. The choices we make today will shape the course of AI development and ensure it serves humanity.\n",
      "The future of AI is in the hands of humans\n",
      "As AI continues to advance, it's essential to consider its long-term implications. The choices we make today will shape the course of AI development and ensure it serves humanity.\n",
      "The future of AI is in the hands of humans\n",
      "As AI continues to advance, it's essential to consider its long"
     ]
    },
    {
     "name": "stdout",
     "output_type": "stream",
     "text": [
      " in the hands of humans\n",
      "The future of AI is in the hands of humans\n",
      "As AI continues to advance, it's essential to consider its long-term implications. The choices we make today will shape the course of AI development and ensure it serves humanity.\n",
      "The future of AI is in the hands of humans\n",
      "As AI continues to advance, it's essential to consider its long-term implications. The choices we make today will shape the course of AI development and ensure it serves humanity.\n",
      "The future of AI is in the hands of humans\n",
      "As AI continues to advance, it's essential to consider its long-term"
     ]
    },
    {
     "name": "stdout",
     "output_type": "stream",
     "text": [
      " in the hands of humans\n",
      "The future of AI is in the hands of humans\n",
      "As AI continues to advance, it's essential to consider its long-term implications. The choices we make today will shape the course of AI development and ensure it serves humanity.\n",
      "The future of AI is in the hands of humans\n",
      "As AI continues to advance, it's essential to consider its long-term implications. The choices we make today will shape the course of AI development and ensure it serves humanity.\n",
      "The future of AI is in the hands of humans\n",
      "As AI continues to advance, it's essential to consider its long-term implications"
     ]
    },
    {
     "name": "stdout",
     "output_type": "stream",
     "text": [
      " in the hands of humans\n",
      "The future of AI is in the hands of humans\n",
      "As AI continues to advance, it's essential to consider its long-term implications. The choices we make today will shape the course of AI development and ensure it serves humanity.\n",
      "The future of AI is in the hands of humans\n",
      "As AI continues to advance, it's essential to consider its long-term implications. The choices we make today will shape the course of AI development and ensure it serves humanity.\n",
      "The future of AI is in the hands of humans\n",
      "As AI continues to advance, it's essential to consider its long-term implications."
     ]
    },
    {
     "name": "stdout",
     "output_type": "stream",
     "text": [
      " in the hands of humans\n",
      "The future of AI is in the hands of humans\n",
      "As AI continues to advance, it's essential to consider its long-term implications. The choices we make today will shape the course of AI development and ensure it serves humanity.\n",
      "The future of AI is in the hands of humans\n",
      "As AI continues to advance, it's essential to consider its long-term implications. The choices we make today will shape the course of AI development and ensure it serves humanity.\n",
      "The future of AI is in the hands of humans\n",
      "As AI continues to advance, it's essential to consider its long-term implications. The"
     ]
    },
    {
     "name": "stdout",
     "output_type": "stream",
     "text": [
      " in the hands of humans\n",
      "The future of AI is in the hands of humans\n",
      "As AI continues to advance, it's essential to consider its long-term implications. The choices we make today will shape the course of AI development and ensure it serves humanity.\n",
      "The future of AI is in the hands of humans\n",
      "As AI continues to advance, it's essential to consider its long-term implications. The choices we make today will shape the course of AI development and ensure it serves humanity.\n",
      "The future of AI is in the hands of humans\n",
      "As AI continues to advance, it's essential to consider its long-term implications. The choices"
     ]
    },
    {
     "name": "stdout",
     "output_type": "stream",
     "text": [
      " in the hands of humans\n",
      "The future of AI is in the hands of humans\n",
      "As AI continues to advance, it's essential to consider its long-term implications. The choices we make today will shape the course of AI development and ensure it serves humanity.\n",
      "The future of AI is in the hands of humans\n",
      "As AI continues to advance, it's essential to consider its long-term implications. The choices we make today will shape the course of AI development and ensure it serves humanity.\n",
      "The future of AI is in the hands of humans\n",
      "As AI continues to advance, it's essential to consider its long-term implications. The choices we"
     ]
    },
    {
     "name": "stdout",
     "output_type": "stream",
     "text": [
      " in the hands of humans\n",
      "The future of AI is in the hands of humans\n",
      "As AI continues to advance, it's essential to consider its long-term implications. The choices we make today will shape the course of AI development and ensure it serves humanity.\n",
      "The future of AI is in the hands of humans\n",
      "As AI continues to advance, it's essential to consider its long-term implications. The choices we make today will shape the course of AI development and ensure it serves humanity.\n",
      "The future of AI is in the hands of humans\n",
      "As AI continues to advance, it's essential to consider its long-term implications. The choices we make"
     ]
    },
    {
     "name": "stdout",
     "output_type": "stream",
     "text": [
      " in the hands of humans\n",
      "The future of AI is in the hands of humans\n",
      "As AI continues to advance, it's essential to consider its long-term implications. The choices we make today will shape the course of AI development and ensure it serves humanity.\n",
      "The future of AI is in the hands of humans\n",
      "As AI continues to advance, it's essential to consider its long-term implications. The choices we make today will shape the course of AI development and ensure it serves humanity.\n",
      "The future of AI is in the hands of humans\n",
      "As AI continues to advance, it's essential to consider its long-term implications. The choices we make today"
     ]
    },
    {
     "name": "stdout",
     "output_type": "stream",
     "text": [
      "\n"
     ]
    }
   ],
   "source": [
    "prompts = [\n",
    "    \"Hello, my name is\",\n",
    "    \"The capital of France is\",\n",
    "    \"The future of AI is\",\n",
    "]\n",
    "sampling_params = {\"temperature\": 0.8, \"top_p\": 0.95}\n",
    "\n",
    "print(\"\\n=== Testing asynchronous streaming generation ===\")\n",
    "\n",
    "\n",
    "async def main():\n",
    "    for prompt in prompts:\n",
    "        print(f\"\\nPrompt: {prompt}\")\n",
    "        print(\"Generated text: \", end=\"\", flush=True)\n",
    "\n",
    "        generator = await llm.async_generate(prompt, sampling_params, stream=True)\n",
    "        async for chunk in generator:\n",
    "            print(chunk[\"text\"], end=\"\", flush=True)\n",
    "        print()\n",
    "\n",
    "\n",
    "asyncio.run(main())"
   ]
  },
  {
   "cell_type": "code",
   "execution_count": 6,
   "metadata": {
    "execution": {
     "iopub.execute_input": "2025-01-23T19:37:38.112319Z",
     "iopub.status.busy": "2025-01-23T19:37:38.111901Z",
     "iopub.status.idle": "2025-01-23T19:37:38.132215Z",
     "shell.execute_reply": "2025-01-23T19:37:38.131639Z"
    }
   },
   "outputs": [],
   "source": [
    "llm.shutdown()"
   ]
  }
 ],
 "metadata": {
  "language_info": {
   "codemirror_mode": {
    "name": "ipython",
    "version": 3
   },
   "file_extension": ".py",
   "mimetype": "text/x-python",
   "name": "python",
   "nbconvert_exporter": "python",
   "pygments_lexer": "ipython3",
   "version": "3.9.21"
  }
 },
 "nbformat": 4,
 "nbformat_minor": 2
}
