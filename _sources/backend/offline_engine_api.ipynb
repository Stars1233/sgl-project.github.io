{
 "cells": [
  {
   "cell_type": "markdown",
   "metadata": {},
   "source": [
    "# Offline Engine API\n",
    "\n",
    "SGLang provides a direct inference engine without the need for an HTTP server, especially for use cases where additional HTTP server adds unnecessary complexity or overhead. Here are two general use cases:\n",
    "\n",
    "- Offline Batch Inference\n",
    "- Custom Server on Top of the Engine\n",
    "\n",
    "This document focuses on the offline batch inference, demonstrating four different inference modes:\n",
    "\n",
    "- Non-streaming synchronous generation\n",
    "- Streaming synchronous generation\n",
    "- Non-streaming asynchronous generation\n",
    "- Streaming asynchronous generation\n",
    "\n",
    "Additionally, you can easily build a custom server on top of the SGLang offline engine. A detailed example working in a python script can be found in [custom_server](https://github.com/sgl-project/sglang/blob/main/examples/runtime/engine/custom_server.py)."
   ]
  },
  {
   "cell_type": "markdown",
   "metadata": {},
   "source": [
    "## Offline Batch Inference\n",
    "\n",
    "SGLang offline engine supports batch inference with efficient scheduling."
   ]
  },
  {
   "cell_type": "code",
   "execution_count": 1,
   "metadata": {
    "execution": {
     "iopub.execute_input": "2025-01-20T09:06:16.144084Z",
     "iopub.status.busy": "2025-01-20T09:06:16.143818Z",
     "iopub.status.idle": "2025-01-20T09:06:56.993060Z",
     "shell.execute_reply": "2025-01-20T09:06:56.992355Z"
    }
   },
   "outputs": [
    {
     "name": "stderr",
     "output_type": "stream",
     "text": [
      "\r",
      "Loading safetensors checkpoint shards:   0% Completed | 0/4 [00:00<?, ?it/s]\n"
     ]
    },
    {
     "name": "stderr",
     "output_type": "stream",
     "text": [
      "\r",
      "Loading safetensors checkpoint shards:  25% Completed | 1/4 [00:00<00:00,  4.75it/s]\n"
     ]
    },
    {
     "name": "stderr",
     "output_type": "stream",
     "text": [
      "\r",
      "Loading safetensors checkpoint shards:  50% Completed | 2/4 [00:01<00:01,  1.62it/s]\n"
     ]
    },
    {
     "name": "stderr",
     "output_type": "stream",
     "text": [
      "\r",
      "Loading safetensors checkpoint shards:  75% Completed | 3/4 [00:02<00:00,  1.34it/s]\n"
     ]
    },
    {
     "name": "stderr",
     "output_type": "stream",
     "text": [
      "\r",
      "Loading safetensors checkpoint shards: 100% Completed | 4/4 [00:02<00:00,  1.21it/s]\n",
      "\r",
      "Loading safetensors checkpoint shards: 100% Completed | 4/4 [00:02<00:00,  1.35it/s]\n",
      "\n"
     ]
    },
    {
     "name": "stderr",
     "output_type": "stream",
     "text": [
      "\r",
      "  0%|          | 0/23 [00:00<?, ?it/s]"
     ]
    },
    {
     "name": "stderr",
     "output_type": "stream",
     "text": [
      "\r",
      "  4%|▍         | 1/23 [00:00<00:20,  1.09it/s]\r",
      "  9%|▊         | 2/23 [00:01<00:09,  2.12it/s]"
     ]
    },
    {
     "name": "stderr",
     "output_type": "stream",
     "text": [
      "\r",
      " 13%|█▎        | 3/23 [00:01<00:06,  3.10it/s]\r",
      " 17%|█▋        | 4/23 [00:01<00:04,  3.96it/s]"
     ]
    },
    {
     "name": "stderr",
     "output_type": "stream",
     "text": [
      "\r",
      " 22%|██▏       | 5/23 [00:01<00:03,  4.67it/s]"
     ]
    },
    {
     "name": "stderr",
     "output_type": "stream",
     "text": [
      "\r",
      " 26%|██▌       | 6/23 [00:01<00:03,  4.72it/s]\r",
      " 30%|███       | 7/23 [00:01<00:03,  5.10it/s]"
     ]
    },
    {
     "name": "stderr",
     "output_type": "stream",
     "text": [
      "\r",
      " 35%|███▍      | 8/23 [00:02<00:02,  5.35it/s]\r",
      " 39%|███▉      | 9/23 [00:02<00:02,  5.63it/s]"
     ]
    },
    {
     "name": "stderr",
     "output_type": "stream",
     "text": [
      "\r",
      " 43%|████▎     | 10/23 [00:02<00:02,  5.62it/s]\r",
      " 48%|████▊     | 11/23 [00:02<00:02,  5.71it/s]"
     ]
    },
    {
     "name": "stderr",
     "output_type": "stream",
     "text": [
      "\r",
      " 52%|█████▏    | 12/23 [00:02<00:01,  5.91it/s]\r",
      " 57%|█████▋    | 13/23 [00:02<00:01,  5.82it/s]"
     ]
    },
    {
     "name": "stderr",
     "output_type": "stream",
     "text": [
      "\r",
      " 61%|██████    | 14/23 [00:03<00:01,  5.81it/s]\r",
      " 65%|██████▌   | 15/23 [00:03<00:01,  5.99it/s]"
     ]
    },
    {
     "name": "stderr",
     "output_type": "stream",
     "text": [
      "\r",
      " 70%|██████▉   | 16/23 [00:03<00:01,  5.99it/s]\r",
      " 74%|███████▍  | 17/23 [00:03<00:00,  6.07it/s]"
     ]
    },
    {
     "name": "stderr",
     "output_type": "stream",
     "text": [
      "\r",
      " 78%|███████▊  | 18/23 [00:03<00:00,  6.21it/s]\r",
      " 83%|████████▎ | 19/23 [00:03<00:00,  6.15it/s]"
     ]
    },
    {
     "name": "stderr",
     "output_type": "stream",
     "text": [
      "\r",
      " 87%|████████▋ | 20/23 [00:04<00:00,  6.19it/s]\r",
      " 91%|█████████▏| 21/23 [00:04<00:00,  6.27it/s]"
     ]
    },
    {
     "name": "stderr",
     "output_type": "stream",
     "text": [
      "\r",
      " 96%|█████████▌| 22/23 [00:04<00:00,  6.18it/s]\r",
      "100%|██████████| 23/23 [00:04<00:00,  6.17it/s]\r",
      "100%|██████████| 23/23 [00:04<00:00,  5.10it/s]\n"
     ]
    }
   ],
   "source": [
    "# launch the offline engine\n",
    "\n",
    "import sglang as sgl\n",
    "import asyncio\n",
    "\n",
    "llm = sgl.Engine(model_path=\"meta-llama/Meta-Llama-3.1-8B-Instruct\")"
   ]
  },
  {
   "cell_type": "markdown",
   "metadata": {},
   "source": [
    "### Non-streaming Synchronous Generation"
   ]
  },
  {
   "cell_type": "code",
   "execution_count": 2,
   "metadata": {
    "execution": {
     "iopub.execute_input": "2025-01-20T09:06:56.995679Z",
     "iopub.status.busy": "2025-01-20T09:06:56.995331Z",
     "iopub.status.idle": "2025-01-20T09:07:00.216148Z",
     "shell.execute_reply": "2025-01-20T09:07:00.215533Z"
    }
   },
   "outputs": [
    {
     "name": "stdout",
     "output_type": "stream",
     "text": [
      "===============================\n",
      "Prompt: Hello, my name is\n",
      "Generated text:  Sophia and I am a Senior, majoring in Human Communication. I am excited to be a part of the Student Ambassador program this year and look forward to connecting with you!\n",
      "As a communication major, I have a passion for connecting people and facilitating meaningful interactions. I believe that effective communication is the foundation of any successful relationship, and I am eager to help make that happen for our students here at WSU.\n",
      "Outside of academics, I love to stay active and can often be found practicing yoga or going for a hike. I also enjoy trying out new recipes in the kitchen and exploring the local music scene.\n",
      "As a Student Ambassador, I am\n",
      "===============================\n",
      "Prompt: The president of the United States is\n",
      "Generated text:  both the head of state and the head of government. The president serves a four-year term and is elected by the people through the Electoral College. The president has the power to veto laws passed by Congress, although Congress can override the veto with a two-thirds majority vote in both the House of Representatives and the Senate. The president also has the power to appoint federal judges, including Supreme Court justices, as well as other high-ranking officials, including cabinet members and ambassadors.\n",
      "The president's role is to ensure the federal government operates smoothly and effectively. They also serve as commander-in-chief of the armed forces and have the power to sign or veto legislation\n",
      "===============================\n",
      "Prompt: The capital of France is\n",
      "Generated text:  Paris.\n",
      "The currency of France is the Euro.\n",
      "France is a country located in Western Europe.\n",
      "The official language of France is French.\n",
      "France has a population of over 67 million people.\n",
      "The largest city in France is Paris.\n",
      "The second largest city in France is Lyon.\n",
      "France has a diverse geography, with mountains, rivers, and coastlines.\n",
      "The Eiffel Tower is one of the most famous landmarks in France.\n",
      "France is known for its rich history, art, and culture.\n",
      "France is a popular tourist destination, attracting millions of visitors each year.\n",
      "The French Riviera, also known as the Côte d'Azur,\n",
      "===============================\n",
      "Prompt: The future of AI is\n",
      "Generated text:  uncertain, but what is certain is that it will have a significant impact on our daily lives.\n",
      "The future of artificial intelligence (AI) is uncertain, but one thing is clear: it will have a profound impact on our daily lives. As AI technology advances, it will likely continue to transform industries, revolutionize the way we work and interact with each other, and even change the nature of human existence.\n",
      "There are many potential applications of AI, including:\n",
      "1. Augmentation of human capabilities: AI can enhance human abilities, such as vision, hearing, and cognitive function, making it easier for people to perform tasks and make decisions.\n",
      "2\n"
     ]
    }
   ],
   "source": [
    "prompts = [\n",
    "    \"Hello, my name is\",\n",
    "    \"The president of the United States is\",\n",
    "    \"The capital of France is\",\n",
    "    \"The future of AI is\",\n",
    "]\n",
    "\n",
    "sampling_params = {\"temperature\": 0.8, \"top_p\": 0.95}\n",
    "\n",
    "outputs = llm.generate(prompts, sampling_params)\n",
    "for prompt, output in zip(prompts, outputs):\n",
    "    print(\"===============================\")\n",
    "    print(f\"Prompt: {prompt}\\nGenerated text: {output['text']}\")"
   ]
  },
  {
   "cell_type": "markdown",
   "metadata": {},
   "source": [
    "### Streaming Synchronous Generation"
   ]
  },
  {
   "cell_type": "code",
   "execution_count": 3,
   "metadata": {
    "execution": {
     "iopub.execute_input": "2025-01-20T09:07:00.217897Z",
     "iopub.status.busy": "2025-01-20T09:07:00.217641Z",
     "iopub.status.idle": "2025-01-20T09:07:03.120068Z",
     "shell.execute_reply": "2025-01-20T09:07:03.119472Z"
    }
   },
   "outputs": [
    {
     "name": "stdout",
     "output_type": "stream",
     "text": [
      "\n",
      "=== Testing synchronous streaming generation ===\n",
      "\n",
      "Prompt: Hello, my name is\n",
      "Generated text: "
     ]
    },
    {
     "name": "stdout",
     "output_type": "stream",
     "text": [
      " Duncan"
     ]
    },
    {
     "name": "stdout",
     "output_type": "stream",
     "text": [
      " Duncan Hart"
     ]
    },
    {
     "name": "stdout",
     "output_type": "stream",
     "text": [
      " Duncan Hartley"
     ]
    },
    {
     "name": "stdout",
     "output_type": "stream",
     "text": [
      " Duncan Hartley and"
     ]
    },
    {
     "name": "stdout",
     "output_type": "stream",
     "text": [
      " Duncan Hartley and I"
     ]
    },
    {
     "name": "stdout",
     "output_type": "stream",
     "text": [
      " Duncan Hartley and I am"
     ]
    },
    {
     "name": "stdout",
     "output_type": "stream",
     "text": [
      " Duncan Hartley and I am a"
     ]
    },
    {
     "name": "stdout",
     "output_type": "stream",
     "text": [
      " Duncan Hartley and I am a bit"
     ]
    },
    {
     "name": "stdout",
     "output_type": "stream",
     "text": [
      " Duncan Hartley and I am a bit of"
     ]
    },
    {
     "name": "stdout",
     "output_type": "stream",
     "text": [
      " Duncan Hartley and I am a bit of an"
     ]
    },
    {
     "name": "stdout",
     "output_type": "stream",
     "text": [
      " Duncan Hartley and I am a bit of an odd"
     ]
    },
    {
     "name": "stdout",
     "output_type": "stream",
     "text": [
      " Duncan Hartley and I am a bit of an oddball"
     ]
    },
    {
     "name": "stdout",
     "output_type": "stream",
     "text": [
      " Duncan Hartley and I am a bit of an oddball."
     ]
    },
    {
     "name": "stdout",
     "output_type": "stream",
     "text": [
      " Duncan Hartley and I am a bit of an oddball. I"
     ]
    },
    {
     "name": "stdout",
     "output_type": "stream",
     "text": [
      " Duncan Hartley and I am a bit of an oddball. I love"
     ]
    },
    {
     "name": "stdout",
     "output_type": "stream",
     "text": [
      " Duncan Hartley and I am a bit of an oddball. I love words"
     ]
    },
    {
     "name": "stdout",
     "output_type": "stream",
     "text": [
      " Duncan Hartley and I am a bit of an oddball. I love words and"
     ]
    },
    {
     "name": "stdout",
     "output_type": "stream",
     "text": [
      " Duncan Hartley and I am a bit of an oddball. I love words and languages"
     ]
    },
    {
     "name": "stdout",
     "output_type": "stream",
     "text": [
      " Duncan Hartley and I am a bit of an oddball. I love words and languages,"
     ]
    },
    {
     "name": "stdout",
     "output_type": "stream",
     "text": [
      " Duncan Hartley and I am a bit of an oddball. I love words and languages, and"
     ]
    },
    {
     "name": "stdout",
     "output_type": "stream",
     "text": [
      " Duncan Hartley and I am a bit of an oddball. I love words and languages, and I"
     ]
    },
    {
     "name": "stdout",
     "output_type": "stream",
     "text": [
      " Duncan Hartley and I am a bit of an oddball. I love words and languages, and I have"
     ]
    },
    {
     "name": "stdout",
     "output_type": "stream",
     "text": [
      " Duncan Hartley and I am a bit of an oddball. I love words and languages, and I have a"
     ]
    },
    {
     "name": "stdout",
     "output_type": "stream",
     "text": [
      " Duncan Hartley and I am a bit of an oddball. I love words and languages, and I have a bit"
     ]
    },
    {
     "name": "stdout",
     "output_type": "stream",
     "text": [
      " Duncan Hartley and I am a bit of an oddball. I love words and languages, and I have a bit of"
     ]
    },
    {
     "name": "stdout",
     "output_type": "stream",
     "text": [
      " Duncan Hartley and I am a bit of an oddball. I love words and languages, and I have a bit of a"
     ]
    },
    {
     "name": "stdout",
     "output_type": "stream",
     "text": [
      " Duncan Hartley and I am a bit of an oddball. I love words and languages, and I have a bit of a fascination"
     ]
    },
    {
     "name": "stdout",
     "output_type": "stream",
     "text": [
      " Duncan Hartley and I am a bit of an oddball. I love words and languages, and I have a bit of a fascination with"
     ]
    },
    {
     "name": "stdout",
     "output_type": "stream",
     "text": [
      " Duncan Hartley and I am a bit of an oddball. I love words and languages, and I have a bit of a fascination with the"
     ]
    },
    {
     "name": "stdout",
     "output_type": "stream",
     "text": [
      " Duncan Hartley and I am a bit of an oddball. I love words and languages, and I have a bit of a fascination with the weird"
     ]
    },
    {
     "name": "stdout",
     "output_type": "stream",
     "text": [
      " Duncan Hartley and I am a bit of an oddball. I love words and languages, and I have a bit of a fascination with the weird and"
     ]
    },
    {
     "name": "stdout",
     "output_type": "stream",
     "text": [
      " Duncan Hartley and I am a bit of an oddball. I love words and languages, and I have a bit of a fascination with the weird and the"
     ]
    },
    {
     "name": "stdout",
     "output_type": "stream",
     "text": [
      " Duncan Hartley and I am a bit of an oddball. I love words and languages, and I have a bit of a fascination with the weird and the wonderful"
     ]
    },
    {
     "name": "stdout",
     "output_type": "stream",
     "text": [
      " Duncan Hartley and I am a bit of an oddball. I love words and languages, and I have a bit of a fascination with the weird and the wonderful."
     ]
    },
    {
     "name": "stdout",
     "output_type": "stream",
     "text": [
      " Duncan Hartley and I am a bit of an oddball. I love words and languages, and I have a bit of a fascination with the weird and the wonderful. I"
     ]
    },
    {
     "name": "stdout",
     "output_type": "stream",
     "text": [
      " Duncan Hartley and I am a bit of an oddball. I love words and languages, and I have a bit of a fascination with the weird and the wonderful. I am"
     ]
    },
    {
     "name": "stdout",
     "output_type": "stream",
     "text": [
      " Duncan Hartley and I am a bit of an oddball. I love words and languages, and I have a bit of a fascination with the weird and the wonderful. I am a"
     ]
    },
    {
     "name": "stdout",
     "output_type": "stream",
     "text": [
      " Duncan Hartley and I am a bit of an oddball. I love words and languages, and I have a bit of a fascination with the weird and the wonderful. I am a freelance"
     ]
    },
    {
     "name": "stdout",
     "output_type": "stream",
     "text": [
      " Duncan Hartley and I am a bit of an oddball. I love words and languages, and I have a bit of a fascination with the weird and the wonderful. I am a freelance writer"
     ]
    },
    {
     "name": "stdout",
     "output_type": "stream",
     "text": [
      " Duncan Hartley and I am a bit of an oddball. I love words and languages, and I have a bit of a fascination with the weird and the wonderful. I am a freelance writer,"
     ]
    },
    {
     "name": "stdout",
     "output_type": "stream",
     "text": [
      " Duncan Hartley and I am a bit of an oddball. I love words and languages, and I have a bit of a fascination with the weird and the wonderful. I am a freelance writer, and"
     ]
    },
    {
     "name": "stdout",
     "output_type": "stream",
     "text": [
      " Duncan Hartley and I am a bit of an oddball. I love words and languages, and I have a bit of a fascination with the weird and the wonderful. I am a freelance writer, and I"
     ]
    },
    {
     "name": "stdout",
     "output_type": "stream",
     "text": [
      " Duncan Hartley and I am a bit of an oddball. I love words and languages, and I have a bit of a fascination with the weird and the wonderful. I am a freelance writer, and I spend"
     ]
    },
    {
     "name": "stdout",
     "output_type": "stream",
     "text": [
      " Duncan Hartley and I am a bit of an oddball. I love words and languages, and I have a bit of a fascination with the weird and the wonderful. I am a freelance writer, and I spend my"
     ]
    },
    {
     "name": "stdout",
     "output_type": "stream",
     "text": [
      " Duncan Hartley and I am a bit of an oddball. I love words and languages, and I have a bit of a fascination with the weird and the wonderful. I am a freelance writer, and I spend my days"
     ]
    },
    {
     "name": "stdout",
     "output_type": "stream",
     "text": [
      " Duncan Hartley and I am a bit of an oddball. I love words and languages, and I have a bit of a fascination with the weird and the wonderful. I am a freelance writer, and I spend my days writing"
     ]
    },
    {
     "name": "stdout",
     "output_type": "stream",
     "text": [
      " Duncan Hartley and I am a bit of an oddball. I love words and languages, and I have a bit of a fascination with the weird and the wonderful. I am a freelance writer, and I spend my days writing about"
     ]
    },
    {
     "name": "stdout",
     "output_type": "stream",
     "text": [
      " Duncan Hartley and I am a bit of an oddball. I love words and languages, and I have a bit of a fascination with the weird and the wonderful. I am a freelance writer, and I spend my days writing about all"
     ]
    },
    {
     "name": "stdout",
     "output_type": "stream",
     "text": [
      " Duncan Hartley and I am a bit of an oddball. I love words and languages, and I have a bit of a fascination with the weird and the wonderful. I am a freelance writer, and I spend my days writing about all sorts"
     ]
    },
    {
     "name": "stdout",
     "output_type": "stream",
     "text": [
      " Duncan Hartley and I am a bit of an oddball. I love words and languages, and I have a bit of a fascination with the weird and the wonderful. I am a freelance writer, and I spend my days writing about all sorts of"
     ]
    },
    {
     "name": "stdout",
     "output_type": "stream",
     "text": [
      " Duncan Hartley and I am a bit of an oddball. I love words and languages, and I have a bit of a fascination with the weird and the wonderful. I am a freelance writer, and I spend my days writing about all sorts of things"
     ]
    },
    {
     "name": "stdout",
     "output_type": "stream",
     "text": [
      " Duncan Hartley and I am a bit of an oddball. I love words and languages, and I have a bit of a fascination with the weird and the wonderful. I am a freelance writer, and I spend my days writing about all sorts of things,"
     ]
    },
    {
     "name": "stdout",
     "output_type": "stream",
     "text": [
      " Duncan Hartley and I am a bit of an oddball. I love words and languages, and I have a bit of a fascination with the weird and the wonderful. I am a freelance writer, and I spend my days writing about all sorts of things, from"
     ]
    },
    {
     "name": "stdout",
     "output_type": "stream",
     "text": [
      " Duncan Hartley and I am a bit of an oddball. I love words and languages, and I have a bit of a fascination with the weird and the wonderful. I am a freelance writer, and I spend my days writing about all sorts of things, from video"
     ]
    },
    {
     "name": "stdout",
     "output_type": "stream",
     "text": [
      " Duncan Hartley and I am a bit of an oddball. I love words and languages, and I have a bit of a fascination with the weird and the wonderful. I am a freelance writer, and I spend my days writing about all sorts of things, from video games"
     ]
    },
    {
     "name": "stdout",
     "output_type": "stream",
     "text": [
      " Duncan Hartley and I am a bit of an oddball. I love words and languages, and I have a bit of a fascination with the weird and the wonderful. I am a freelance writer, and I spend my days writing about all sorts of things, from video games to"
     ]
    },
    {
     "name": "stdout",
     "output_type": "stream",
     "text": [
      " Duncan Hartley and I am a bit of an oddball. I love words and languages, and I have a bit of a fascination with the weird and the wonderful. I am a freelance writer, and I spend my days writing about all sorts of things, from video games to true"
     ]
    },
    {
     "name": "stdout",
     "output_type": "stream",
     "text": [
      " Duncan Hartley and I am a bit of an oddball. I love words and languages, and I have a bit of a fascination with the weird and the wonderful. I am a freelance writer, and I spend my days writing about all sorts of things, from video games to true crime"
     ]
    },
    {
     "name": "stdout",
     "output_type": "stream",
     "text": [
      " Duncan Hartley and I am a bit of an oddball. I love words and languages, and I have a bit of a fascination with the weird and the wonderful. I am a freelance writer, and I spend my days writing about all sorts of things, from video games to true crime."
     ]
    },
    {
     "name": "stdout",
     "output_type": "stream",
     "text": [
      " Duncan Hartley and I am a bit of an oddball. I love words and languages, and I have a bit of a fascination with the weird and the wonderful. I am a freelance writer, and I spend my days writing about all sorts of things, from video games to true crime. I"
     ]
    },
    {
     "name": "stdout",
     "output_type": "stream",
     "text": [
      " Duncan Hartley and I am a bit of an oddball. I love words and languages, and I have a bit of a fascination with the weird and the wonderful. I am a freelance writer, and I spend my days writing about all sorts of things, from video games to true crime. I am"
     ]
    },
    {
     "name": "stdout",
     "output_type": "stream",
     "text": [
      " Duncan Hartley and I am a bit of an oddball. I love words and languages, and I have a bit of a fascination with the weird and the wonderful. I am a freelance writer, and I spend my days writing about all sorts of things, from video games to true crime. I am a"
     ]
    },
    {
     "name": "stdout",
     "output_type": "stream",
     "text": [
      " Duncan Hartley and I am a bit of an oddball. I love words and languages, and I have a bit of a fascination with the weird and the wonderful. I am a freelance writer, and I spend my days writing about all sorts of things, from video games to true crime. I am a bit"
     ]
    },
    {
     "name": "stdout",
     "output_type": "stream",
     "text": [
      " Duncan Hartley and I am a bit of an oddball. I love words and languages, and I have a bit of a fascination with the weird and the wonderful. I am a freelance writer, and I spend my days writing about all sorts of things, from video games to true crime. I am a bit of"
     ]
    },
    {
     "name": "stdout",
     "output_type": "stream",
     "text": [
      " Duncan Hartley and I am a bit of an oddball. I love words and languages, and I have a bit of a fascination with the weird and the wonderful. I am a freelance writer, and I spend my days writing about all sorts of things, from video games to true crime. I am a bit of a"
     ]
    },
    {
     "name": "stdout",
     "output_type": "stream",
     "text": [
      " Duncan Hartley and I am a bit of an oddball. I love words and languages, and I have a bit of a fascination with the weird and the wonderful. I am a freelance writer, and I spend my days writing about all sorts of things, from video games to true crime. I am a bit of a nerd"
     ]
    },
    {
     "name": "stdout",
     "output_type": "stream",
     "text": [
      " Duncan Hartley and I am a bit of an oddball. I love words and languages, and I have a bit of a fascination with the weird and the wonderful. I am a freelance writer, and I spend my days writing about all sorts of things, from video games to true crime. I am a bit of a nerd,"
     ]
    },
    {
     "name": "stdout",
     "output_type": "stream",
     "text": [
      " Duncan Hartley and I am a bit of an oddball. I love words and languages, and I have a bit of a fascination with the weird and the wonderful. I am a freelance writer, and I spend my days writing about all sorts of things, from video games to true crime. I am a bit of a nerd, and"
     ]
    },
    {
     "name": "stdout",
     "output_type": "stream",
     "text": [
      " Duncan Hartley and I am a bit of an oddball. I love words and languages, and I have a bit of a fascination with the weird and the wonderful. I am a freelance writer, and I spend my days writing about all sorts of things, from video games to true crime. I am a bit of a nerd, and I"
     ]
    },
    {
     "name": "stdout",
     "output_type": "stream",
     "text": [
      " Duncan Hartley and I am a bit of an oddball. I love words and languages, and I have a bit of a fascination with the weird and the wonderful. I am a freelance writer, and I spend my days writing about all sorts of things, from video games to true crime. I am a bit of a nerd, and I am"
     ]
    },
    {
     "name": "stdout",
     "output_type": "stream",
     "text": [
      " Duncan Hartley and I am a bit of an oddball. I love words and languages, and I have a bit of a fascination with the weird and the wonderful. I am a freelance writer, and I spend my days writing about all sorts of things, from video games to true crime. I am a bit of a nerd, and I am proud"
     ]
    },
    {
     "name": "stdout",
     "output_type": "stream",
     "text": [
      " Duncan Hartley and I am a bit of an oddball. I love words and languages, and I have a bit of a fascination with the weird and the wonderful. I am a freelance writer, and I spend my days writing about all sorts of things, from video games to true crime. I am a bit of a nerd, and I am proud of"
     ]
    },
    {
     "name": "stdout",
     "output_type": "stream",
     "text": [
      " Duncan Hartley and I am a bit of an oddball. I love words and languages, and I have a bit of a fascination with the weird and the wonderful. I am a freelance writer, and I spend my days writing about all sorts of things, from video games to true crime. I am a bit of a nerd, and I am proud of it"
     ]
    },
    {
     "name": "stdout",
     "output_type": "stream",
     "text": [
      " Duncan Hartley and I am a bit of an oddball. I love words and languages, and I have a bit of a fascination with the weird and the wonderful. I am a freelance writer, and I spend my days writing about all sorts of things, from video games to true crime. I am a bit of a nerd, and I am proud of it.\n"
     ]
    },
    {
     "name": "stdout",
     "output_type": "stream",
     "text": [
      " Duncan Hartley and I am a bit of an oddball. I love words and languages, and I have a bit of a fascination with the weird and the wonderful. I am a freelance writer, and I spend my days writing about all sorts of things, from video games to true crime. I am a bit of a nerd, and I am proud of it.\n",
      "I"
     ]
    },
    {
     "name": "stdout",
     "output_type": "stream",
     "text": [
      " Duncan Hartley and I am a bit of an oddball. I love words and languages, and I have a bit of a fascination with the weird and the wonderful. I am a freelance writer, and I spend my days writing about all sorts of things, from video games to true crime. I am a bit of a nerd, and I am proud of it.\n",
      "I also"
     ]
    },
    {
     "name": "stdout",
     "output_type": "stream",
     "text": [
      " Duncan Hartley and I am a bit of an oddball. I love words and languages, and I have a bit of a fascination with the weird and the wonderful. I am a freelance writer, and I spend my days writing about all sorts of things, from video games to true crime. I am a bit of a nerd, and I am proud of it.\n",
      "I also love"
     ]
    },
    {
     "name": "stdout",
     "output_type": "stream",
     "text": [
      " Duncan Hartley and I am a bit of an oddball. I love words and languages, and I have a bit of a fascination with the weird and the wonderful. I am a freelance writer, and I spend my days writing about all sorts of things, from video games to true crime. I am a bit of a nerd, and I am proud of it.\n",
      "I also love to"
     ]
    },
    {
     "name": "stdout",
     "output_type": "stream",
     "text": [
      " Duncan Hartley and I am a bit of an oddball. I love words and languages, and I have a bit of a fascination with the weird and the wonderful. I am a freelance writer, and I spend my days writing about all sorts of things, from video games to true crime. I am a bit of a nerd, and I am proud of it.\n",
      "I also love to learn"
     ]
    },
    {
     "name": "stdout",
     "output_type": "stream",
     "text": [
      " Duncan Hartley and I am a bit of an oddball. I love words and languages, and I have a bit of a fascination with the weird and the wonderful. I am a freelance writer, and I spend my days writing about all sorts of things, from video games to true crime. I am a bit of a nerd, and I am proud of it.\n",
      "I also love to learn new"
     ]
    },
    {
     "name": "stdout",
     "output_type": "stream",
     "text": [
      " Duncan Hartley and I am a bit of an oddball. I love words and languages, and I have a bit of a fascination with the weird and the wonderful. I am a freelance writer, and I spend my days writing about all sorts of things, from video games to true crime. I am a bit of a nerd, and I am proud of it.\n",
      "I also love to learn new things"
     ]
    },
    {
     "name": "stdout",
     "output_type": "stream",
     "text": [
      " Duncan Hartley and I am a bit of an oddball. I love words and languages, and I have a bit of a fascination with the weird and the wonderful. I am a freelance writer, and I spend my days writing about all sorts of things, from video games to true crime. I am a bit of a nerd, and I am proud of it.\n",
      "I also love to learn new things,"
     ]
    },
    {
     "name": "stdout",
     "output_type": "stream",
     "text": [
      " Duncan Hartley and I am a bit of an oddball. I love words and languages, and I have a bit of a fascination with the weird and the wonderful. I am a freelance writer, and I spend my days writing about all sorts of things, from video games to true crime. I am a bit of a nerd, and I am proud of it.\n",
      "I also love to learn new things, and"
     ]
    },
    {
     "name": "stdout",
     "output_type": "stream",
     "text": [
      " Duncan Hartley and I am a bit of an oddball. I love words and languages, and I have a bit of a fascination with the weird and the wonderful. I am a freelance writer, and I spend my days writing about all sorts of things, from video games to true crime. I am a bit of a nerd, and I am proud of it.\n",
      "I also love to learn new things, and I"
     ]
    },
    {
     "name": "stdout",
     "output_type": "stream",
     "text": [
      " Duncan Hartley and I am a bit of an oddball. I love words and languages, and I have a bit of a fascination with the weird and the wonderful. I am a freelance writer, and I spend my days writing about all sorts of things, from video games to true crime. I am a bit of a nerd, and I am proud of it.\n",
      "I also love to learn new things, and I am"
     ]
    },
    {
     "name": "stdout",
     "output_type": "stream",
     "text": [
      " Duncan Hartley and I am a bit of an oddball. I love words and languages, and I have a bit of a fascination with the weird and the wonderful. I am a freelance writer, and I spend my days writing about all sorts of things, from video games to true crime. I am a bit of a nerd, and I am proud of it.\n",
      "I also love to learn new things, and I am always"
     ]
    },
    {
     "name": "stdout",
     "output_type": "stream",
     "text": [
      " Duncan Hartley and I am a bit of an oddball. I love words and languages, and I have a bit of a fascination with the weird and the wonderful. I am a freelance writer, and I spend my days writing about all sorts of things, from video games to true crime. I am a bit of a nerd, and I am proud of it.\n",
      "I also love to learn new things, and I am always on"
     ]
    },
    {
     "name": "stdout",
     "output_type": "stream",
     "text": [
      " Duncan Hartley and I am a bit of an oddball. I love words and languages, and I have a bit of a fascination with the weird and the wonderful. I am a freelance writer, and I spend my days writing about all sorts of things, from video games to true crime. I am a bit of a nerd, and I am proud of it.\n",
      "I also love to learn new things, and I am always on the"
     ]
    },
    {
     "name": "stdout",
     "output_type": "stream",
     "text": [
      " Duncan Hartley and I am a bit of an oddball. I love words and languages, and I have a bit of a fascination with the weird and the wonderful. I am a freelance writer, and I spend my days writing about all sorts of things, from video games to true crime. I am a bit of a nerd, and I am proud of it.\n",
      "I also love to learn new things, and I am always on the lookout"
     ]
    },
    {
     "name": "stdout",
     "output_type": "stream",
     "text": [
      " Duncan Hartley and I am a bit of an oddball. I love words and languages, and I have a bit of a fascination with the weird and the wonderful. I am a freelance writer, and I spend my days writing about all sorts of things, from video games to true crime. I am a bit of a nerd, and I am proud of it.\n",
      "I also love to learn new things, and I am always on the lookout for"
     ]
    },
    {
     "name": "stdout",
     "output_type": "stream",
     "text": [
      " Duncan Hartley and I am a bit of an oddball. I love words and languages, and I have a bit of a fascination with the weird and the wonderful. I am a freelance writer, and I spend my days writing about all sorts of things, from video games to true crime. I am a bit of a nerd, and I am proud of it.\n",
      "I also love to learn new things, and I am always on the lookout for interesting"
     ]
    },
    {
     "name": "stdout",
     "output_type": "stream",
     "text": [
      " Duncan Hartley and I am a bit of an oddball. I love words and languages, and I have a bit of a fascination with the weird and the wonderful. I am a freelance writer, and I spend my days writing about all sorts of things, from video games to true crime. I am a bit of a nerd, and I am proud of it.\n",
      "I also love to learn new things, and I am always on the lookout for interesting and"
     ]
    },
    {
     "name": "stdout",
     "output_type": "stream",
     "text": [
      " Duncan Hartley and I am a bit of an oddball. I love words and languages, and I have a bit of a fascination with the weird and the wonderful. I am a freelance writer, and I spend my days writing about all sorts of things, from video games to true crime. I am a bit of a nerd, and I am proud of it.\n",
      "I also love to learn new things, and I am always on the lookout for interesting and unusual"
     ]
    },
    {
     "name": "stdout",
     "output_type": "stream",
     "text": [
      " Duncan Hartley and I am a bit of an oddball. I love words and languages, and I have a bit of a fascination with the weird and the wonderful. I am a freelance writer, and I spend my days writing about all sorts of things, from video games to true crime. I am a bit of a nerd, and I am proud of it.\n",
      "I also love to learn new things, and I am always on the lookout for interesting and unusual facts"
     ]
    },
    {
     "name": "stdout",
     "output_type": "stream",
     "text": [
      " Duncan Hartley and I am a bit of an oddball. I love words and languages, and I have a bit of a fascination with the weird and the wonderful. I am a freelance writer, and I spend my days writing about all sorts of things, from video games to true crime. I am a bit of a nerd, and I am proud of it.\n",
      "I also love to learn new things, and I am always on the lookout for interesting and unusual facts and"
     ]
    },
    {
     "name": "stdout",
     "output_type": "stream",
     "text": [
      " Duncan Hartley and I am a bit of an oddball. I love words and languages, and I have a bit of a fascination with the weird and the wonderful. I am a freelance writer, and I spend my days writing about all sorts of things, from video games to true crime. I am a bit of a nerd, and I am proud of it.\n",
      "I also love to learn new things, and I am always on the lookout for interesting and unusual facts and stories"
     ]
    },
    {
     "name": "stdout",
     "output_type": "stream",
     "text": [
      " Duncan Hartley and I am a bit of an oddball. I love words and languages, and I have a bit of a fascination with the weird and the wonderful. I am a freelance writer, and I spend my days writing about all sorts of things, from video games to true crime. I am a bit of a nerd, and I am proud of it.\n",
      "I also love to learn new things, and I am always on the lookout for interesting and unusual facts and stories."
     ]
    },
    {
     "name": "stdout",
     "output_type": "stream",
     "text": [
      " Duncan Hartley and I am a bit of an oddball. I love words and languages, and I have a bit of a fascination with the weird and the wonderful. I am a freelance writer, and I spend my days writing about all sorts of things, from video games to true crime. I am a bit of a nerd, and I am proud of it.\n",
      "I also love to learn new things, and I am always on the lookout for interesting and unusual facts and stories. I"
     ]
    },
    {
     "name": "stdout",
     "output_type": "stream",
     "text": [
      " Duncan Hartley and I am a bit of an oddball. I love words and languages, and I have a bit of a fascination with the weird and the wonderful. I am a freelance writer, and I spend my days writing about all sorts of things, from video games to true crime. I am a bit of a nerd, and I am proud of it.\n",
      "I also love to learn new things, and I am always on the lookout for interesting and unusual facts and stories. I have"
     ]
    },
    {
     "name": "stdout",
     "output_type": "stream",
     "text": [
      " Duncan Hartley and I am a bit of an oddball. I love words and languages, and I have a bit of a fascination with the weird and the wonderful. I am a freelance writer, and I spend my days writing about all sorts of things, from video games to true crime. I am a bit of a nerd, and I am proud of it.\n",
      "I also love to learn new things, and I am always on the lookout for interesting and unusual facts and stories. I have a"
     ]
    },
    {
     "name": "stdout",
     "output_type": "stream",
     "text": [
      " Duncan Hartley and I am a bit of an oddball. I love words and languages, and I have a bit of a fascination with the weird and the wonderful. I am a freelance writer, and I spend my days writing about all sorts of things, from video games to true crime. I am a bit of a nerd, and I am proud of it.\n",
      "I also love to learn new things, and I am always on the lookout for interesting and unusual facts and stories. I have a degree"
     ]
    },
    {
     "name": "stdout",
     "output_type": "stream",
     "text": [
      " Duncan Hartley and I am a bit of an oddball. I love words and languages, and I have a bit of a fascination with the weird and the wonderful. I am a freelance writer, and I spend my days writing about all sorts of things, from video games to true crime. I am a bit of a nerd, and I am proud of it.\n",
      "I also love to learn new things, and I am always on the lookout for interesting and unusual facts and stories. I have a degree in"
     ]
    },
    {
     "name": "stdout",
     "output_type": "stream",
     "text": [
      " Duncan Hartley and I am a bit of an oddball. I love words and languages, and I have a bit of a fascination with the weird and the wonderful. I am a freelance writer, and I spend my days writing about all sorts of things, from video games to true crime. I am a bit of a nerd, and I am proud of it.\n",
      "I also love to learn new things, and I am always on the lookout for interesting and unusual facts and stories. I have a degree in English"
     ]
    },
    {
     "name": "stdout",
     "output_type": "stream",
     "text": [
      " Duncan Hartley and I am a bit of an oddball. I love words and languages, and I have a bit of a fascination with the weird and the wonderful. I am a freelance writer, and I spend my days writing about all sorts of things, from video games to true crime. I am a bit of a nerd, and I am proud of it.\n",
      "I also love to learn new things, and I am always on the lookout for interesting and unusual facts and stories. I have a degree in English Literature"
     ]
    },
    {
     "name": "stdout",
     "output_type": "stream",
     "text": [
      " Duncan Hartley and I am a bit of an oddball. I love words and languages, and I have a bit of a fascination with the weird and the wonderful. I am a freelance writer, and I spend my days writing about all sorts of things, from video games to true crime. I am a bit of a nerd, and I am proud of it.\n",
      "I also love to learn new things, and I am always on the lookout for interesting and unusual facts and stories. I have a degree in English Literature,"
     ]
    },
    {
     "name": "stdout",
     "output_type": "stream",
     "text": [
      " Duncan Hartley and I am a bit of an oddball. I love words and languages, and I have a bit of a fascination with the weird and the wonderful. I am a freelance writer, and I spend my days writing about all sorts of things, from video games to true crime. I am a bit of a nerd, and I am proud of it.\n",
      "I also love to learn new things, and I am always on the lookout for interesting and unusual facts and stories. I have a degree in English Literature, and"
     ]
    },
    {
     "name": "stdout",
     "output_type": "stream",
     "text": [
      " Duncan Hartley and I am a bit of an oddball. I love words and languages, and I have a bit of a fascination with the weird and the wonderful. I am a freelance writer, and I spend my days writing about all sorts of things, from video games to true crime. I am a bit of a nerd, and I am proud of it.\n",
      "I also love to learn new things, and I am always on the lookout for interesting and unusual facts and stories. I have a degree in English Literature, and I"
     ]
    },
    {
     "name": "stdout",
     "output_type": "stream",
     "text": [
      " Duncan Hartley and I am a bit of an oddball. I love words and languages, and I have a bit of a fascination with the weird and the wonderful. I am a freelance writer, and I spend my days writing about all sorts of things, from video games to true crime. I am a bit of a nerd, and I am proud of it.\n",
      "I also love to learn new things, and I am always on the lookout for interesting and unusual facts and stories. I have a degree in English Literature, and I have"
     ]
    },
    {
     "name": "stdout",
     "output_type": "stream",
     "text": [
      " Duncan Hartley and I am a bit of an oddball. I love words and languages, and I have a bit of a fascination with the weird and the wonderful. I am a freelance writer, and I spend my days writing about all sorts of things, from video games to true crime. I am a bit of a nerd, and I am proud of it.\n",
      "I also love to learn new things, and I am always on the lookout for interesting and unusual facts and stories. I have a degree in English Literature, and I have a"
     ]
    },
    {
     "name": "stdout",
     "output_type": "stream",
     "text": [
      " Duncan Hartley and I am a bit of an oddball. I love words and languages, and I have a bit of a fascination with the weird and the wonderful. I am a freelance writer, and I spend my days writing about all sorts of things, from video games to true crime. I am a bit of a nerd, and I am proud of it.\n",
      "I also love to learn new things, and I am always on the lookout for interesting and unusual facts and stories. I have a degree in English Literature, and I have a particular"
     ]
    },
    {
     "name": "stdout",
     "output_type": "stream",
     "text": [
      " Duncan Hartley and I am a bit of an oddball. I love words and languages, and I have a bit of a fascination with the weird and the wonderful. I am a freelance writer, and I spend my days writing about all sorts of things, from video games to true crime. I am a bit of a nerd, and I am proud of it.\n",
      "I also love to learn new things, and I am always on the lookout for interesting and unusual facts and stories. I have a degree in English Literature, and I have a particular interest"
     ]
    },
    {
     "name": "stdout",
     "output_type": "stream",
     "text": [
      " Duncan Hartley and I am a bit of an oddball. I love words and languages, and I have a bit of a fascination with the weird and the wonderful. I am a freelance writer, and I spend my days writing about all sorts of things, from video games to true crime. I am a bit of a nerd, and I am proud of it.\n",
      "I also love to learn new things, and I am always on the lookout for interesting and unusual facts and stories. I have a degree in English Literature, and I have a particular interest in"
     ]
    },
    {
     "name": "stdout",
     "output_type": "stream",
     "text": [
      " Duncan Hartley and I am a bit of an oddball. I love words and languages, and I have a bit of a fascination with the weird and the wonderful. I am a freelance writer, and I spend my days writing about all sorts of things, from video games to true crime. I am a bit of a nerd, and I am proud of it.\n",
      "I also love to learn new things, and I am always on the lookout for interesting and unusual facts and stories. I have a degree in English Literature, and I have a particular interest in the"
     ]
    },
    {
     "name": "stdout",
     "output_type": "stream",
     "text": [
      " Duncan Hartley and I am a bit of an oddball. I love words and languages, and I have a bit of a fascination with the weird and the wonderful. I am a freelance writer, and I spend my days writing about all sorts of things, from video games to true crime. I am a bit of a nerd, and I am proud of it.\n",
      "I also love to learn new things, and I am always on the lookout for interesting and unusual facts and stories. I have a degree in English Literature, and I have a particular interest in the works"
     ]
    },
    {
     "name": "stdout",
     "output_type": "stream",
     "text": [
      " Duncan Hartley and I am a bit of an oddball. I love words and languages, and I have a bit of a fascination with the weird and the wonderful. I am a freelance writer, and I spend my days writing about all sorts of things, from video games to true crime. I am a bit of a nerd, and I am proud of it.\n",
      "I also love to learn new things, and I am always on the lookout for interesting and unusual facts and stories. I have a degree in English Literature, and I have a particular interest in the works of"
     ]
    },
    {
     "name": "stdout",
     "output_type": "stream",
     "text": [
      " Duncan Hartley and I am a bit of an oddball. I love words and languages, and I have a bit of a fascination with the weird and the wonderful. I am a freelance writer, and I spend my days writing about all sorts of things, from video games to true crime. I am a bit of a nerd, and I am proud of it.\n",
      "I also love to learn new things, and I am always on the lookout for interesting and unusual facts and stories. I have a degree in English Literature, and I have a particular interest in the works of H"
     ]
    },
    {
     "name": "stdout",
     "output_type": "stream",
     "text": [
      " Duncan Hartley and I am a bit of an oddball. I love words and languages, and I have a bit of a fascination with the weird and the wonderful. I am a freelance writer, and I spend my days writing about all sorts of things, from video games to true crime. I am a bit of a nerd, and I am proud of it.\n",
      "I also love to learn new things, and I am always on the lookout for interesting and unusual facts and stories. I have a degree in English Literature, and I have a particular interest in the works of H.P"
     ]
    },
    {
     "name": "stdout",
     "output_type": "stream",
     "text": [
      " Duncan Hartley and I am a bit of an oddball. I love words and languages, and I have a bit of a fascination with the weird and the wonderful. I am a freelance writer, and I spend my days writing about all sorts of things, from video games to true crime. I am a bit of a nerd, and I am proud of it.\n",
      "I also love to learn new things, and I am always on the lookout for interesting and unusual facts and stories. I have a degree in English Literature, and I have a particular interest in the works of H.P."
     ]
    },
    {
     "name": "stdout",
     "output_type": "stream",
     "text": [
      " Duncan Hartley and I am a bit of an oddball. I love words and languages, and I have a bit of a fascination with the weird and the wonderful. I am a freelance writer, and I spend my days writing about all sorts of things, from video games to true crime. I am a bit of a nerd, and I am proud of it.\n",
      "I also love to learn new things, and I am always on the lookout for interesting and unusual facts and stories. I have a degree in English Literature, and I have a particular interest in the works of H.P. Love"
     ]
    },
    {
     "name": "stdout",
     "output_type": "stream",
     "text": [
      " Duncan Hartley and I am a bit of an oddball. I love words and languages, and I have a bit of a fascination with the weird and the wonderful. I am a freelance writer, and I spend my days writing about all sorts of things, from video games to true crime. I am a bit of a nerd, and I am proud of it.\n",
      "I also love to learn new things, and I am always on the lookout for interesting and unusual facts and stories. I have a degree in English Literature, and I have a particular interest in the works of H.P. Lovecraft"
     ]
    },
    {
     "name": "stdout",
     "output_type": "stream",
     "text": [
      " Duncan Hartley and I am a bit of an oddball. I love words and languages, and I have a bit of a fascination with the weird and the wonderful. I am a freelance writer, and I spend my days writing about all sorts of things, from video games to true crime. I am a bit of a nerd, and I am proud of it.\n",
      "I also love to learn new things, and I am always on the lookout for interesting and unusual facts and stories. I have a degree in English Literature, and I have a particular interest in the works of H.P. Lovecraft and"
     ]
    },
    {
     "name": "stdout",
     "output_type": "stream",
     "text": [
      " Duncan Hartley and I am a bit of an oddball. I love words and languages, and I have a bit of a fascination with the weird and the wonderful. I am a freelance writer, and I spend my days writing about all sorts of things, from video games to true crime. I am a bit of a nerd, and I am proud of it.\n",
      "I also love to learn new things, and I am always on the lookout for interesting and unusual facts and stories. I have a degree in English Literature, and I have a particular interest in the works of H.P. Lovecraft and Edgar"
     ]
    },
    {
     "name": "stdout",
     "output_type": "stream",
     "text": [
      " Duncan Hartley and I am a bit of an oddball. I love words and languages, and I have a bit of a fascination with the weird and the wonderful. I am a freelance writer, and I spend my days writing about all sorts of things, from video games to true crime. I am a bit of a nerd, and I am proud of it.\n",
      "I also love to learn new things, and I am always on the lookout for interesting and unusual facts and stories. I have a degree in English Literature, and I have a particular interest in the works of H.P. Lovecraft and Edgar Allan"
     ]
    },
    {
     "name": "stdout",
     "output_type": "stream",
     "text": [
      " Duncan Hartley and I am a bit of an oddball. I love words and languages, and I have a bit of a fascination with the weird and the wonderful. I am a freelance writer, and I spend my days writing about all sorts of things, from video games to true crime. I am a bit of a nerd, and I am proud of it.\n",
      "I also love to learn new things, and I am always on the lookout for interesting and unusual facts and stories. I have a degree in English Literature, and I have a particular interest in the works of H.P. Lovecraft and Edgar Allan Poe"
     ]
    },
    {
     "name": "stdout",
     "output_type": "stream",
     "text": [
      " Duncan Hartley and I am a bit of an oddball. I love words and languages, and I have a bit of a fascination with the weird and the wonderful. I am a freelance writer, and I spend my days writing about all sorts of things, from video games to true crime. I am a bit of a nerd, and I am proud of it.\n",
      "I also love to learn new things, and I am always on the lookout for interesting and unusual facts and stories. I have a degree in English Literature, and I have a particular interest in the works of H.P. Lovecraft and Edgar Allan Poe."
     ]
    },
    {
     "name": "stdout",
     "output_type": "stream",
     "text": [
      " Duncan Hartley and I am a bit of an oddball. I love words and languages, and I have a bit of a fascination with the weird and the wonderful. I am a freelance writer, and I spend my days writing about all sorts of things, from video games to true crime. I am a bit of a nerd, and I am proud of it.\n",
      "I also love to learn new things, and I am always on the lookout for interesting and unusual facts and stories. I have a degree in English Literature, and I have a particular interest in the works of H.P. Lovecraft and Edgar Allan Poe. I"
     ]
    },
    {
     "name": "stdout",
     "output_type": "stream",
     "text": [
      " Duncan Hartley and I am a bit of an oddball. I love words and languages, and I have a bit of a fascination with the weird and the wonderful. I am a freelance writer, and I spend my days writing about all sorts of things, from video games to true crime. I am a bit of a nerd, and I am proud of it.\n",
      "I also love to learn new things, and I am always on the lookout for interesting and unusual facts and stories. I have a degree in English Literature, and I have a particular interest in the works of H.P. Lovecraft and Edgar Allan Poe. I find"
     ]
    },
    {
     "name": "stdout",
     "output_type": "stream",
     "text": [
      " Duncan Hartley and I am a bit of an oddball. I love words and languages, and I have a bit of a fascination with the weird and the wonderful. I am a freelance writer, and I spend my days writing about all sorts of things, from video games to true crime. I am a bit of a nerd, and I am proud of it.\n",
      "I also love to learn new things, and I am always on the lookout for interesting and unusual facts and stories. I have a degree in English Literature, and I have a particular interest in the works of H.P. Lovecraft and Edgar Allan Poe. I find their"
     ]
    },
    {
     "name": "stdout",
     "output_type": "stream",
     "text": [
      "\n",
      "\n",
      "Prompt: The capital of France is\n",
      "Generated text: "
     ]
    },
    {
     "name": "stdout",
     "output_type": "stream",
     "text": [
      " Paris"
     ]
    },
    {
     "name": "stdout",
     "output_type": "stream",
     "text": [
      " Paris,"
     ]
    },
    {
     "name": "stdout",
     "output_type": "stream",
     "text": [
      " Paris, but"
     ]
    },
    {
     "name": "stdout",
     "output_type": "stream",
     "text": [
      " Paris, but the"
     ]
    },
    {
     "name": "stdout",
     "output_type": "stream",
     "text": [
      " Paris, but the seat"
     ]
    },
    {
     "name": "stdout",
     "output_type": "stream",
     "text": [
      " Paris, but the seat of"
     ]
    },
    {
     "name": "stdout",
     "output_type": "stream",
     "text": [
      " Paris, but the seat of the"
     ]
    },
    {
     "name": "stdout",
     "output_type": "stream",
     "text": [
      " Paris, but the seat of the French"
     ]
    },
    {
     "name": "stdout",
     "output_type": "stream",
     "text": [
      " Paris, but the seat of the French government"
     ]
    },
    {
     "name": "stdout",
     "output_type": "stream",
     "text": [
      " Paris, but the seat of the French government is"
     ]
    },
    {
     "name": "stdout",
     "output_type": "stream",
     "text": [
      " Paris, but the seat of the French government is located"
     ]
    },
    {
     "name": "stdout",
     "output_type": "stream",
     "text": [
      " Paris, but the seat of the French government is located in"
     ]
    },
    {
     "name": "stdout",
     "output_type": "stream",
     "text": [
      " Paris, but the seat of the French government is located in several"
     ]
    },
    {
     "name": "stdout",
     "output_type": "stream",
     "text": [
      " Paris, but the seat of the French government is located in several cities"
     ]
    },
    {
     "name": "stdout",
     "output_type": "stream",
     "text": [
      " Paris, but the seat of the French government is located in several cities."
     ]
    },
    {
     "name": "stdout",
     "output_type": "stream",
     "text": [
      " Paris, but the seat of the French government is located in several cities. The"
     ]
    },
    {
     "name": "stdout",
     "output_type": "stream",
     "text": [
      " Paris, but the seat of the French government is located in several cities. The main"
     ]
    },
    {
     "name": "stdout",
     "output_type": "stream",
     "text": [
      " Paris, but the seat of the French government is located in several cities. The main ones"
     ]
    },
    {
     "name": "stdout",
     "output_type": "stream",
     "text": [
      " Paris, but the seat of the French government is located in several cities. The main ones are"
     ]
    },
    {
     "name": "stdout",
     "output_type": "stream",
     "text": [
      " Paris, but the seat of the French government is located in several cities. The main ones are Paris"
     ]
    },
    {
     "name": "stdout",
     "output_type": "stream",
     "text": [
      " Paris, but the seat of the French government is located in several cities. The main ones are Paris ("
     ]
    },
    {
     "name": "stdout",
     "output_type": "stream",
     "text": [
      " Paris, but the seat of the French government is located in several cities. The main ones are Paris (the"
     ]
    },
    {
     "name": "stdout",
     "output_type": "stream",
     "text": [
      " Paris, but the seat of the French government is located in several cities. The main ones are Paris (the official"
     ]
    },
    {
     "name": "stdout",
     "output_type": "stream",
     "text": [
      " Paris, but the seat of the French government is located in several cities. The main ones are Paris (the official capital"
     ]
    },
    {
     "name": "stdout",
     "output_type": "stream",
     "text": [
      " Paris, but the seat of the French government is located in several cities. The main ones are Paris (the official capital)"
     ]
    },
    {
     "name": "stdout",
     "output_type": "stream",
     "text": [
      " Paris, but the seat of the French government is located in several cities. The main ones are Paris (the official capital) and"
     ]
    },
    {
     "name": "stdout",
     "output_type": "stream",
     "text": [
      " Paris, but the seat of the French government is located in several cities. The main ones are Paris (the official capital) and Vers"
     ]
    },
    {
     "name": "stdout",
     "output_type": "stream",
     "text": [
      " Paris, but the seat of the French government is located in several cities. The main ones are Paris (the official capital) and Versailles"
     ]
    },
    {
     "name": "stdout",
     "output_type": "stream",
     "text": [
      " Paris, but the seat of the French government is located in several cities. The main ones are Paris (the official capital) and Versailles ("
     ]
    },
    {
     "name": "stdout",
     "output_type": "stream",
     "text": [
      " Paris, but the seat of the French government is located in several cities. The main ones are Paris (the official capital) and Versailles (the"
     ]
    },
    {
     "name": "stdout",
     "output_type": "stream",
     "text": [
      " Paris, but the seat of the French government is located in several cities. The main ones are Paris (the official capital) and Versailles (the official"
     ]
    },
    {
     "name": "stdout",
     "output_type": "stream",
     "text": [
      " Paris, but the seat of the French government is located in several cities. The main ones are Paris (the official capital) and Versailles (the official seat"
     ]
    },
    {
     "name": "stdout",
     "output_type": "stream",
     "text": [
      " Paris, but the seat of the French government is located in several cities. The main ones are Paris (the official capital) and Versailles (the official seat of"
     ]
    },
    {
     "name": "stdout",
     "output_type": "stream",
     "text": [
      " Paris, but the seat of the French government is located in several cities. The main ones are Paris (the official capital) and Versailles (the official seat of the"
     ]
    },
    {
     "name": "stdout",
     "output_type": "stream",
     "text": [
      " Paris, but the seat of the French government is located in several cities. The main ones are Paris (the official capital) and Versailles (the official seat of the government"
     ]
    },
    {
     "name": "stdout",
     "output_type": "stream",
     "text": [
      " Paris, but the seat of the French government is located in several cities. The main ones are Paris (the official capital) and Versailles (the official seat of the government),"
     ]
    },
    {
     "name": "stdout",
     "output_type": "stream",
     "text": [
      " Paris, but the seat of the French government is located in several cities. The main ones are Paris (the official capital) and Versailles (the official seat of the government), but"
     ]
    },
    {
     "name": "stdout",
     "output_type": "stream",
     "text": [
      " Paris, but the seat of the French government is located in several cities. The main ones are Paris (the official capital) and Versailles (the official seat of the government), but also"
     ]
    },
    {
     "name": "stdout",
     "output_type": "stream",
     "text": [
      " Paris, but the seat of the French government is located in several cities. The main ones are Paris (the official capital) and Versailles (the official seat of the government), but also V"
     ]
    },
    {
     "name": "stdout",
     "output_type": "stream",
     "text": [
      " Paris, but the seat of the French government is located in several cities. The main ones are Paris (the official capital) and Versailles (the official seat of the government), but also Vinc"
     ]
    },
    {
     "name": "stdout",
     "output_type": "stream",
     "text": [
      " Paris, but the seat of the French government is located in several cities. The main ones are Paris (the official capital) and Versailles (the official seat of the government), but also Vincennes"
     ]
    },
    {
     "name": "stdout",
     "output_type": "stream",
     "text": [
      " Paris, but the seat of the French government is located in several cities. The main ones are Paris (the official capital) and Versailles (the official seat of the government), but also Vincennes and"
     ]
    },
    {
     "name": "stdout",
     "output_type": "stream",
     "text": [
      " Paris, but the seat of the French government is located in several cities. The main ones are Paris (the official capital) and Versailles (the official seat of the government), but also Vincennes and Com"
     ]
    },
    {
     "name": "stdout",
     "output_type": "stream",
     "text": [
      " Paris, but the seat of the French government is located in several cities. The main ones are Paris (the official capital) and Versailles (the official seat of the government), but also Vincennes and Compi"
     ]
    },
    {
     "name": "stdout",
     "output_type": "stream",
     "text": [
      " Paris, but the seat of the French government is located in several cities. The main ones are Paris (the official capital) and Versailles (the official seat of the government), but also Vincennes and Compiè"
     ]
    },
    {
     "name": "stdout",
     "output_type": "stream",
     "text": [
      " Paris, but the seat of the French government is located in several cities. The main ones are Paris (the official capital) and Versailles (the official seat of the government), but also Vincennes and Compiègne"
     ]
    },
    {
     "name": "stdout",
     "output_type": "stream",
     "text": [
      " Paris, but the seat of the French government is located in several cities. The main ones are Paris (the official capital) and Versailles (the official seat of the government), but also Vincennes and Compiègne,"
     ]
    },
    {
     "name": "stdout",
     "output_type": "stream",
     "text": [
      " Paris, but the seat of the French government is located in several cities. The main ones are Paris (the official capital) and Versailles (the official seat of the government), but also Vincennes and Compiègne, which"
     ]
    },
    {
     "name": "stdout",
     "output_type": "stream",
     "text": [
      " Paris, but the seat of the French government is located in several cities. The main ones are Paris (the official capital) and Versailles (the official seat of the government), but also Vincennes and Compiègne, which are"
     ]
    },
    {
     "name": "stdout",
     "output_type": "stream",
     "text": [
      " Paris, but the seat of the French government is located in several cities. The main ones are Paris (the official capital) and Versailles (the official seat of the government), but also Vincennes and Compiègne, which are used"
     ]
    },
    {
     "name": "stdout",
     "output_type": "stream",
     "text": [
      " Paris, but the seat of the French government is located in several cities. The main ones are Paris (the official capital) and Versailles (the official seat of the government), but also Vincennes and Compiègne, which are used for"
     ]
    },
    {
     "name": "stdout",
     "output_type": "stream",
     "text": [
      " Paris, but the seat of the French government is located in several cities. The main ones are Paris (the official capital) and Versailles (the official seat of the government), but also Vincennes and Compiègne, which are used for temporary"
     ]
    },
    {
     "name": "stdout",
     "output_type": "stream",
     "text": [
      " Paris, but the seat of the French government is located in several cities. The main ones are Paris (the official capital) and Versailles (the official seat of the government), but also Vincennes and Compiègne, which are used for temporary sessions"
     ]
    },
    {
     "name": "stdout",
     "output_type": "stream",
     "text": [
      " Paris, but the seat of the French government is located in several cities. The main ones are Paris (the official capital) and Versailles (the official seat of the government), but also Vincennes and Compiègne, which are used for temporary sessions of"
     ]
    },
    {
     "name": "stdout",
     "output_type": "stream",
     "text": [
      " Paris, but the seat of the French government is located in several cities. The main ones are Paris (the official capital) and Versailles (the official seat of the government), but also Vincennes and Compiègne, which are used for temporary sessions of the"
     ]
    },
    {
     "name": "stdout",
     "output_type": "stream",
     "text": [
      " Paris, but the seat of the French government is located in several cities. The main ones are Paris (the official capital) and Versailles (the official seat of the government), but also Vincennes and Compiègne, which are used for temporary sessions of the French"
     ]
    },
    {
     "name": "stdout",
     "output_type": "stream",
     "text": [
      " Paris, but the seat of the French government is located in several cities. The main ones are Paris (the official capital) and Versailles (the official seat of the government), but also Vincennes and Compiègne, which are used for temporary sessions of the French Parliament"
     ]
    },
    {
     "name": "stdout",
     "output_type": "stream",
     "text": [
      " Paris, but the seat of the French government is located in several cities. The main ones are Paris (the official capital) and Versailles (the official seat of the government), but also Vincennes and Compiègne, which are used for temporary sessions of the French Parliament."
     ]
    },
    {
     "name": "stdout",
     "output_type": "stream",
     "text": [
      " Paris, but the seat of the French government is located in several cities. The main ones are Paris (the official capital) and Versailles (the official seat of the government), but also Vincennes and Compiègne, which are used for temporary sessions of the French Parliament. The"
     ]
    },
    {
     "name": "stdout",
     "output_type": "stream",
     "text": [
      " Paris, but the seat of the French government is located in several cities. The main ones are Paris (the official capital) and Versailles (the official seat of the government), but also Vincennes and Compiègne, which are used for temporary sessions of the French Parliament. The country"
     ]
    },
    {
     "name": "stdout",
     "output_type": "stream",
     "text": [
      " Paris, but the seat of the French government is located in several cities. The main ones are Paris (the official capital) and Versailles (the official seat of the government), but also Vincennes and Compiègne, which are used for temporary sessions of the French Parliament. The country’s"
     ]
    },
    {
     "name": "stdout",
     "output_type": "stream",
     "text": [
      " Paris, but the seat of the French government is located in several cities. The main ones are Paris (the official capital) and Versailles (the official seat of the government), but also Vincennes and Compiègne, which are used for temporary sessions of the French Parliament. The country’s highest"
     ]
    },
    {
     "name": "stdout",
     "output_type": "stream",
     "text": [
      " Paris, but the seat of the French government is located in several cities. The main ones are Paris (the official capital) and Versailles (the official seat of the government), but also Vincennes and Compiègne, which are used for temporary sessions of the French Parliament. The country’s highest court"
     ]
    },
    {
     "name": "stdout",
     "output_type": "stream",
     "text": [
      " Paris, but the seat of the French government is located in several cities. The main ones are Paris (the official capital) and Versailles (the official seat of the government), but also Vincennes and Compiègne, which are used for temporary sessions of the French Parliament. The country’s highest court,"
     ]
    },
    {
     "name": "stdout",
     "output_type": "stream",
     "text": [
      " Paris, but the seat of the French government is located in several cities. The main ones are Paris (the official capital) and Versailles (the official seat of the government), but also Vincennes and Compiègne, which are used for temporary sessions of the French Parliament. The country’s highest court, the"
     ]
    },
    {
     "name": "stdout",
     "output_type": "stream",
     "text": [
      " Paris, but the seat of the French government is located in several cities. The main ones are Paris (the official capital) and Versailles (the official seat of the government), but also Vincennes and Compiègne, which are used for temporary sessions of the French Parliament. The country’s highest court, the Cour"
     ]
    },
    {
     "name": "stdout",
     "output_type": "stream",
     "text": [
      " Paris, but the seat of the French government is located in several cities. The main ones are Paris (the official capital) and Versailles (the official seat of the government), but also Vincennes and Compiègne, which are used for temporary sessions of the French Parliament. The country’s highest court, the Cour de"
     ]
    },
    {
     "name": "stdout",
     "output_type": "stream",
     "text": [
      " Paris, but the seat of the French government is located in several cities. The main ones are Paris (the official capital) and Versailles (the official seat of the government), but also Vincennes and Compiègne, which are used for temporary sessions of the French Parliament. The country’s highest court, the Cour de Cass"
     ]
    },
    {
     "name": "stdout",
     "output_type": "stream",
     "text": [
      " Paris, but the seat of the French government is located in several cities. The main ones are Paris (the official capital) and Versailles (the official seat of the government), but also Vincennes and Compiègne, which are used for temporary sessions of the French Parliament. The country’s highest court, the Cour de Cassation"
     ]
    },
    {
     "name": "stdout",
     "output_type": "stream",
     "text": [
      " Paris, but the seat of the French government is located in several cities. The main ones are Paris (the official capital) and Versailles (the official seat of the government), but also Vincennes and Compiègne, which are used for temporary sessions of the French Parliament. The country’s highest court, the Cour de Cassation,"
     ]
    },
    {
     "name": "stdout",
     "output_type": "stream",
     "text": [
      " Paris, but the seat of the French government is located in several cities. The main ones are Paris (the official capital) and Versailles (the official seat of the government), but also Vincennes and Compiègne, which are used for temporary sessions of the French Parliament. The country’s highest court, the Cour de Cassation, is"
     ]
    },
    {
     "name": "stdout",
     "output_type": "stream",
     "text": [
      " Paris, but the seat of the French government is located in several cities. The main ones are Paris (the official capital) and Versailles (the official seat of the government), but also Vincennes and Compiègne, which are used for temporary sessions of the French Parliament. The country’s highest court, the Cour de Cassation, is located"
     ]
    },
    {
     "name": "stdout",
     "output_type": "stream",
     "text": [
      " Paris, but the seat of the French government is located in several cities. The main ones are Paris (the official capital) and Versailles (the official seat of the government), but also Vincennes and Compiègne, which are used for temporary sessions of the French Parliament. The country’s highest court, the Cour de Cassation, is located in"
     ]
    },
    {
     "name": "stdout",
     "output_type": "stream",
     "text": [
      " Paris, but the seat of the French government is located in several cities. The main ones are Paris (the official capital) and Versailles (the official seat of the government), but also Vincennes and Compiègne, which are used for temporary sessions of the French Parliament. The country’s highest court, the Cour de Cassation, is located in Paris"
     ]
    },
    {
     "name": "stdout",
     "output_type": "stream",
     "text": [
      " Paris, but the seat of the French government is located in several cities. The main ones are Paris (the official capital) and Versailles (the official seat of the government), but also Vincennes and Compiègne, which are used for temporary sessions of the French Parliament. The country’s highest court, the Cour de Cassation, is located in Paris."
     ]
    },
    {
     "name": "stdout",
     "output_type": "stream",
     "text": [
      " Paris, but the seat of the French government is located in several cities. The main ones are Paris (the official capital) and Versailles (the official seat of the government), but also Vincennes and Compiègne, which are used for temporary sessions of the French Parliament. The country’s highest court, the Cour de Cassation, is located in Paris. France"
     ]
    },
    {
     "name": "stdout",
     "output_type": "stream",
     "text": [
      " Paris, but the seat of the French government is located in several cities. The main ones are Paris (the official capital) and Versailles (the official seat of the government), but also Vincennes and Compiègne, which are used for temporary sessions of the French Parliament. The country’s highest court, the Cour de Cassation, is located in Paris. France has"
     ]
    },
    {
     "name": "stdout",
     "output_type": "stream",
     "text": [
      " Paris, but the seat of the French government is located in several cities. The main ones are Paris (the official capital) and Versailles (the official seat of the government), but also Vincennes and Compiègne, which are used for temporary sessions of the French Parliament. The country’s highest court, the Cour de Cassation, is located in Paris. France has a"
     ]
    },
    {
     "name": "stdout",
     "output_type": "stream",
     "text": [
      " Paris, but the seat of the French government is located in several cities. The main ones are Paris (the official capital) and Versailles (the official seat of the government), but also Vincennes and Compiègne, which are used for temporary sessions of the French Parliament. The country’s highest court, the Cour de Cassation, is located in Paris. France has a system"
     ]
    },
    {
     "name": "stdout",
     "output_type": "stream",
     "text": [
      " Paris, but the seat of the French government is located in several cities. The main ones are Paris (the official capital) and Versailles (the official seat of the government), but also Vincennes and Compiègne, which are used for temporary sessions of the French Parliament. The country’s highest court, the Cour de Cassation, is located in Paris. France has a system of"
     ]
    },
    {
     "name": "stdout",
     "output_type": "stream",
     "text": [
      " Paris, but the seat of the French government is located in several cities. The main ones are Paris (the official capital) and Versailles (the official seat of the government), but also Vincennes and Compiègne, which are used for temporary sessions of the French Parliament. The country’s highest court, the Cour de Cassation, is located in Paris. France has a system of government"
     ]
    },
    {
     "name": "stdout",
     "output_type": "stream",
     "text": [
      " Paris, but the seat of the French government is located in several cities. The main ones are Paris (the official capital) and Versailles (the official seat of the government), but also Vincennes and Compiègne, which are used for temporary sessions of the French Parliament. The country’s highest court, the Cour de Cassation, is located in Paris. France has a system of government where"
     ]
    },
    {
     "name": "stdout",
     "output_type": "stream",
     "text": [
      " Paris, but the seat of the French government is located in several cities. The main ones are Paris (the official capital) and Versailles (the official seat of the government), but also Vincennes and Compiègne, which are used for temporary sessions of the French Parliament. The country’s highest court, the Cour de Cassation, is located in Paris. France has a system of government where the"
     ]
    },
    {
     "name": "stdout",
     "output_type": "stream",
     "text": [
      " Paris, but the seat of the French government is located in several cities. The main ones are Paris (the official capital) and Versailles (the official seat of the government), but also Vincennes and Compiègne, which are used for temporary sessions of the French Parliament. The country’s highest court, the Cour de Cassation, is located in Paris. France has a system of government where the executive"
     ]
    },
    {
     "name": "stdout",
     "output_type": "stream",
     "text": [
      " Paris, but the seat of the French government is located in several cities. The main ones are Paris (the official capital) and Versailles (the official seat of the government), but also Vincennes and Compiègne, which are used for temporary sessions of the French Parliament. The country’s highest court, the Cour de Cassation, is located in Paris. France has a system of government where the executive,"
     ]
    },
    {
     "name": "stdout",
     "output_type": "stream",
     "text": [
      " Paris, but the seat of the French government is located in several cities. The main ones are Paris (the official capital) and Versailles (the official seat of the government), but also Vincennes and Compiègne, which are used for temporary sessions of the French Parliament. The country’s highest court, the Cour de Cassation, is located in Paris. France has a system of government where the executive, legislative"
     ]
    },
    {
     "name": "stdout",
     "output_type": "stream",
     "text": [
      " Paris, but the seat of the French government is located in several cities. The main ones are Paris (the official capital) and Versailles (the official seat of the government), but also Vincennes and Compiègne, which are used for temporary sessions of the French Parliament. The country’s highest court, the Cour de Cassation, is located in Paris. France has a system of government where the executive, legislative,"
     ]
    },
    {
     "name": "stdout",
     "output_type": "stream",
     "text": [
      " Paris, but the seat of the French government is located in several cities. The main ones are Paris (the official capital) and Versailles (the official seat of the government), but also Vincennes and Compiègne, which are used for temporary sessions of the French Parliament. The country’s highest court, the Cour de Cassation, is located in Paris. France has a system of government where the executive, legislative, and"
     ]
    },
    {
     "name": "stdout",
     "output_type": "stream",
     "text": [
      " Paris, but the seat of the French government is located in several cities. The main ones are Paris (the official capital) and Versailles (the official seat of the government), but also Vincennes and Compiègne, which are used for temporary sessions of the French Parliament. The country’s highest court, the Cour de Cassation, is located in Paris. France has a system of government where the executive, legislative, and judicial"
     ]
    },
    {
     "name": "stdout",
     "output_type": "stream",
     "text": [
      " Paris, but the seat of the French government is located in several cities. The main ones are Paris (the official capital) and Versailles (the official seat of the government), but also Vincennes and Compiègne, which are used for temporary sessions of the French Parliament. The country’s highest court, the Cour de Cassation, is located in Paris. France has a system of government where the executive, legislative, and judicial powers"
     ]
    },
    {
     "name": "stdout",
     "output_type": "stream",
     "text": [
      " Paris, but the seat of the French government is located in several cities. The main ones are Paris (the official capital) and Versailles (the official seat of the government), but also Vincennes and Compiègne, which are used for temporary sessions of the French Parliament. The country’s highest court, the Cour de Cassation, is located in Paris. France has a system of government where the executive, legislative, and judicial powers are"
     ]
    },
    {
     "name": "stdout",
     "output_type": "stream",
     "text": [
      " Paris, but the seat of the French government is located in several cities. The main ones are Paris (the official capital) and Versailles (the official seat of the government), but also Vincennes and Compiègne, which are used for temporary sessions of the French Parliament. The country’s highest court, the Cour de Cassation, is located in Paris. France has a system of government where the executive, legislative, and judicial powers are separate"
     ]
    },
    {
     "name": "stdout",
     "output_type": "stream",
     "text": [
      " Paris, but the seat of the French government is located in several cities. The main ones are Paris (the official capital) and Versailles (the official seat of the government), but also Vincennes and Compiègne, which are used for temporary sessions of the French Parliament. The country’s highest court, the Cour de Cassation, is located in Paris. France has a system of government where the executive, legislative, and judicial powers are separate."
     ]
    },
    {
     "name": "stdout",
     "output_type": "stream",
     "text": [
      " Paris, but the seat of the French government is located in several cities. The main ones are Paris (the official capital) and Versailles (the official seat of the government), but also Vincennes and Compiègne, which are used for temporary sessions of the French Parliament. The country’s highest court, the Cour de Cassation, is located in Paris. France has a system of government where the executive, legislative, and judicial powers are separate. The"
     ]
    },
    {
     "name": "stdout",
     "output_type": "stream",
     "text": [
      " Paris, but the seat of the French government is located in several cities. The main ones are Paris (the official capital) and Versailles (the official seat of the government), but also Vincennes and Compiègne, which are used for temporary sessions of the French Parliament. The country’s highest court, the Cour de Cassation, is located in Paris. France has a system of government where the executive, legislative, and judicial powers are separate. The head"
     ]
    },
    {
     "name": "stdout",
     "output_type": "stream",
     "text": [
      " Paris, but the seat of the French government is located in several cities. The main ones are Paris (the official capital) and Versailles (the official seat of the government), but also Vincennes and Compiègne, which are used for temporary sessions of the French Parliament. The country’s highest court, the Cour de Cassation, is located in Paris. France has a system of government where the executive, legislative, and judicial powers are separate. The head of"
     ]
    },
    {
     "name": "stdout",
     "output_type": "stream",
     "text": [
      " Paris, but the seat of the French government is located in several cities. The main ones are Paris (the official capital) and Versailles (the official seat of the government), but also Vincennes and Compiègne, which are used for temporary sessions of the French Parliament. The country’s highest court, the Cour de Cassation, is located in Paris. France has a system of government where the executive, legislative, and judicial powers are separate. The head of state"
     ]
    },
    {
     "name": "stdout",
     "output_type": "stream",
     "text": [
      " Paris, but the seat of the French government is located in several cities. The main ones are Paris (the official capital) and Versailles (the official seat of the government), but also Vincennes and Compiègne, which are used for temporary sessions of the French Parliament. The country’s highest court, the Cour de Cassation, is located in Paris. France has a system of government where the executive, legislative, and judicial powers are separate. The head of state is"
     ]
    },
    {
     "name": "stdout",
     "output_type": "stream",
     "text": [
      " Paris, but the seat of the French government is located in several cities. The main ones are Paris (the official capital) and Versailles (the official seat of the government), but also Vincennes and Compiègne, which are used for temporary sessions of the French Parliament. The country’s highest court, the Cour de Cassation, is located in Paris. France has a system of government where the executive, legislative, and judicial powers are separate. The head of state is the"
     ]
    },
    {
     "name": "stdout",
     "output_type": "stream",
     "text": [
      " Paris, but the seat of the French government is located in several cities. The main ones are Paris (the official capital) and Versailles (the official seat of the government), but also Vincennes and Compiègne, which are used for temporary sessions of the French Parliament. The country’s highest court, the Cour de Cassation, is located in Paris. France has a system of government where the executive, legislative, and judicial powers are separate. The head of state is the President"
     ]
    },
    {
     "name": "stdout",
     "output_type": "stream",
     "text": [
      " Paris, but the seat of the French government is located in several cities. The main ones are Paris (the official capital) and Versailles (the official seat of the government), but also Vincennes and Compiègne, which are used for temporary sessions of the French Parliament. The country’s highest court, the Cour de Cassation, is located in Paris. France has a system of government where the executive, legislative, and judicial powers are separate. The head of state is the President,"
     ]
    },
    {
     "name": "stdout",
     "output_type": "stream",
     "text": [
      " Paris, but the seat of the French government is located in several cities. The main ones are Paris (the official capital) and Versailles (the official seat of the government), but also Vincennes and Compiègne, which are used for temporary sessions of the French Parliament. The country’s highest court, the Cour de Cassation, is located in Paris. France has a system of government where the executive, legislative, and judicial powers are separate. The head of state is the President, elected"
     ]
    },
    {
     "name": "stdout",
     "output_type": "stream",
     "text": [
      " Paris, but the seat of the French government is located in several cities. The main ones are Paris (the official capital) and Versailles (the official seat of the government), but also Vincennes and Compiègne, which are used for temporary sessions of the French Parliament. The country’s highest court, the Cour de Cassation, is located in Paris. France has a system of government where the executive, legislative, and judicial powers are separate. The head of state is the President, elected by"
     ]
    },
    {
     "name": "stdout",
     "output_type": "stream",
     "text": [
      " Paris, but the seat of the French government is located in several cities. The main ones are Paris (the official capital) and Versailles (the official seat of the government), but also Vincennes and Compiègne, which are used for temporary sessions of the French Parliament. The country’s highest court, the Cour de Cassation, is located in Paris. France has a system of government where the executive, legislative, and judicial powers are separate. The head of state is the President, elected by popular"
     ]
    },
    {
     "name": "stdout",
     "output_type": "stream",
     "text": [
      " Paris, but the seat of the French government is located in several cities. The main ones are Paris (the official capital) and Versailles (the official seat of the government), but also Vincennes and Compiègne, which are used for temporary sessions of the French Parliament. The country’s highest court, the Cour de Cassation, is located in Paris. France has a system of government where the executive, legislative, and judicial powers are separate. The head of state is the President, elected by popular vote"
     ]
    },
    {
     "name": "stdout",
     "output_type": "stream",
     "text": [
      " Paris, but the seat of the French government is located in several cities. The main ones are Paris (the official capital) and Versailles (the official seat of the government), but also Vincennes and Compiègne, which are used for temporary sessions of the French Parliament. The country’s highest court, the Cour de Cassation, is located in Paris. France has a system of government where the executive, legislative, and judicial powers are separate. The head of state is the President, elected by popular vote for"
     ]
    },
    {
     "name": "stdout",
     "output_type": "stream",
     "text": [
      " Paris, but the seat of the French government is located in several cities. The main ones are Paris (the official capital) and Versailles (the official seat of the government), but also Vincennes and Compiègne, which are used for temporary sessions of the French Parliament. The country’s highest court, the Cour de Cassation, is located in Paris. France has a system of government where the executive, legislative, and judicial powers are separate. The head of state is the President, elected by popular vote for a"
     ]
    },
    {
     "name": "stdout",
     "output_type": "stream",
     "text": [
      " Paris, but the seat of the French government is located in several cities. The main ones are Paris (the official capital) and Versailles (the official seat of the government), but also Vincennes and Compiègne, which are used for temporary sessions of the French Parliament. The country’s highest court, the Cour de Cassation, is located in Paris. France has a system of government where the executive, legislative, and judicial powers are separate. The head of state is the President, elected by popular vote for a five"
     ]
    },
    {
     "name": "stdout",
     "output_type": "stream",
     "text": [
      " Paris, but the seat of the French government is located in several cities. The main ones are Paris (the official capital) and Versailles (the official seat of the government), but also Vincennes and Compiègne, which are used for temporary sessions of the French Parliament. The country’s highest court, the Cour de Cassation, is located in Paris. France has a system of government where the executive, legislative, and judicial powers are separate. The head of state is the President, elected by popular vote for a five-year"
     ]
    },
    {
     "name": "stdout",
     "output_type": "stream",
     "text": [
      " Paris, but the seat of the French government is located in several cities. The main ones are Paris (the official capital) and Versailles (the official seat of the government), but also Vincennes and Compiègne, which are used for temporary sessions of the French Parliament. The country’s highest court, the Cour de Cassation, is located in Paris. France has a system of government where the executive, legislative, and judicial powers are separate. The head of state is the President, elected by popular vote for a five-year term"
     ]
    },
    {
     "name": "stdout",
     "output_type": "stream",
     "text": [
      " Paris, but the seat of the French government is located in several cities. The main ones are Paris (the official capital) and Versailles (the official seat of the government), but also Vincennes and Compiègne, which are used for temporary sessions of the French Parliament. The country’s highest court, the Cour de Cassation, is located in Paris. France has a system of government where the executive, legislative, and judicial powers are separate. The head of state is the President, elected by popular vote for a five-year term."
     ]
    },
    {
     "name": "stdout",
     "output_type": "stream",
     "text": [
      " Paris, but the seat of the French government is located in several cities. The main ones are Paris (the official capital) and Versailles (the official seat of the government), but also Vincennes and Compiègne, which are used for temporary sessions of the French Parliament. The country’s highest court, the Cour de Cassation, is located in Paris. France has a system of government where the executive, legislative, and judicial powers are separate. The head of state is the President, elected by popular vote for a five-year term. The"
     ]
    },
    {
     "name": "stdout",
     "output_type": "stream",
     "text": [
      " Paris, but the seat of the French government is located in several cities. The main ones are Paris (the official capital) and Versailles (the official seat of the government), but also Vincennes and Compiègne, which are used for temporary sessions of the French Parliament. The country’s highest court, the Cour de Cassation, is located in Paris. France has a system of government where the executive, legislative, and judicial powers are separate. The head of state is the President, elected by popular vote for a five-year term. The President"
     ]
    },
    {
     "name": "stdout",
     "output_type": "stream",
     "text": [
      " Paris, but the seat of the French government is located in several cities. The main ones are Paris (the official capital) and Versailles (the official seat of the government), but also Vincennes and Compiègne, which are used for temporary sessions of the French Parliament. The country’s highest court, the Cour de Cassation, is located in Paris. France has a system of government where the executive, legislative, and judicial powers are separate. The head of state is the President, elected by popular vote for a five-year term. The President appoint"
     ]
    },
    {
     "name": "stdout",
     "output_type": "stream",
     "text": [
      " Paris, but the seat of the French government is located in several cities. The main ones are Paris (the official capital) and Versailles (the official seat of the government), but also Vincennes and Compiègne, which are used for temporary sessions of the French Parliament. The country’s highest court, the Cour de Cassation, is located in Paris. France has a system of government where the executive, legislative, and judicial powers are separate. The head of state is the President, elected by popular vote for a five-year term. The President appoints"
     ]
    },
    {
     "name": "stdout",
     "output_type": "stream",
     "text": [
      " Paris, but the seat of the French government is located in several cities. The main ones are Paris (the official capital) and Versailles (the official seat of the government), but also Vincennes and Compiègne, which are used for temporary sessions of the French Parliament. The country’s highest court, the Cour de Cassation, is located in Paris. France has a system of government where the executive, legislative, and judicial powers are separate. The head of state is the President, elected by popular vote for a five-year term. The President appoints the"
     ]
    },
    {
     "name": "stdout",
     "output_type": "stream",
     "text": [
      " Paris, but the seat of the French government is located in several cities. The main ones are Paris (the official capital) and Versailles (the official seat of the government), but also Vincennes and Compiègne, which are used for temporary sessions of the French Parliament. The country’s highest court, the Cour de Cassation, is located in Paris. France has a system of government where the executive, legislative, and judicial powers are separate. The head of state is the President, elected by popular vote for a five-year term. The President appoints the Prime"
     ]
    },
    {
     "name": "stdout",
     "output_type": "stream",
     "text": [
      " Paris, but the seat of the French government is located in several cities. The main ones are Paris (the official capital) and Versailles (the official seat of the government), but also Vincennes and Compiègne, which are used for temporary sessions of the French Parliament. The country’s highest court, the Cour de Cassation, is located in Paris. France has a system of government where the executive, legislative, and judicial powers are separate. The head of state is the President, elected by popular vote for a five-year term. The President appoints the Prime Minister"
     ]
    },
    {
     "name": "stdout",
     "output_type": "stream",
     "text": [
      " Paris, but the seat of the French government is located in several cities. The main ones are Paris (the official capital) and Versailles (the official seat of the government), but also Vincennes and Compiègne, which are used for temporary sessions of the French Parliament. The country’s highest court, the Cour de Cassation, is located in Paris. France has a system of government where the executive, legislative, and judicial powers are separate. The head of state is the President, elected by popular vote for a five-year term. The President appoints the Prime Minister,"
     ]
    },
    {
     "name": "stdout",
     "output_type": "stream",
     "text": [
      " Paris, but the seat of the French government is located in several cities. The main ones are Paris (the official capital) and Versailles (the official seat of the government), but also Vincennes and Compiègne, which are used for temporary sessions of the French Parliament. The country’s highest court, the Cour de Cassation, is located in Paris. France has a system of government where the executive, legislative, and judicial powers are separate. The head of state is the President, elected by popular vote for a five-year term. The President appoints the Prime Minister, who"
     ]
    },
    {
     "name": "stdout",
     "output_type": "stream",
     "text": [
      " Paris, but the seat of the French government is located in several cities. The main ones are Paris (the official capital) and Versailles (the official seat of the government), but also Vincennes and Compiègne, which are used for temporary sessions of the French Parliament. The country’s highest court, the Cour de Cassation, is located in Paris. France has a system of government where the executive, legislative, and judicial powers are separate. The head of state is the President, elected by popular vote for a five-year term. The President appoints the Prime Minister, who is"
     ]
    },
    {
     "name": "stdout",
     "output_type": "stream",
     "text": [
      " Paris, but the seat of the French government is located in several cities. The main ones are Paris (the official capital) and Versailles (the official seat of the government), but also Vincennes and Compiègne, which are used for temporary sessions of the French Parliament. The country’s highest court, the Cour de Cassation, is located in Paris. France has a system of government where the executive, legislative, and judicial powers are separate. The head of state is the President, elected by popular vote for a five-year term. The President appoints the Prime Minister, who is the"
     ]
    },
    {
     "name": "stdout",
     "output_type": "stream",
     "text": [
      " Paris, but the seat of the French government is located in several cities. The main ones are Paris (the official capital) and Versailles (the official seat of the government), but also Vincennes and Compiègne, which are used for temporary sessions of the French Parliament. The country’s highest court, the Cour de Cassation, is located in Paris. France has a system of government where the executive, legislative, and judicial powers are separate. The head of state is the President, elected by popular vote for a five-year term. The President appoints the Prime Minister, who is the head"
     ]
    },
    {
     "name": "stdout",
     "output_type": "stream",
     "text": [
      " Paris, but the seat of the French government is located in several cities. The main ones are Paris (the official capital) and Versailles (the official seat of the government), but also Vincennes and Compiègne, which are used for temporary sessions of the French Parliament. The country’s highest court, the Cour de Cassation, is located in Paris. France has a system of government where the executive, legislative, and judicial powers are separate. The head of state is the President, elected by popular vote for a five-year term. The President appoints the Prime Minister, who is the head of"
     ]
    },
    {
     "name": "stdout",
     "output_type": "stream",
     "text": [
      " Paris, but the seat of the French government is located in several cities. The main ones are Paris (the official capital) and Versailles (the official seat of the government), but also Vincennes and Compiègne, which are used for temporary sessions of the French Parliament. The country’s highest court, the Cour de Cassation, is located in Paris. France has a system of government where the executive, legislative, and judicial powers are separate. The head of state is the President, elected by popular vote for a five-year term. The President appoints the Prime Minister, who is the head of government"
     ]
    },
    {
     "name": "stdout",
     "output_type": "stream",
     "text": [
      " Paris, but the seat of the French government is located in several cities. The main ones are Paris (the official capital) and Versailles (the official seat of the government), but also Vincennes and Compiègne, which are used for temporary sessions of the French Parliament. The country’s highest court, the Cour de Cassation, is located in Paris. France has a system of government where the executive, legislative, and judicial powers are separate. The head of state is the President, elected by popular vote for a five-year term. The President appoints the Prime Minister, who is the head of government."
     ]
    },
    {
     "name": "stdout",
     "output_type": "stream",
     "text": [
      " Paris, but the seat of the French government is located in several cities. The main ones are Paris (the official capital) and Versailles (the official seat of the government), but also Vincennes and Compiègne, which are used for temporary sessions of the French Parliament. The country’s highest court, the Cour de Cassation, is located in Paris. France has a system of government where the executive, legislative, and judicial powers are separate. The head of state is the President, elected by popular vote for a five-year term. The President appoints the Prime Minister, who is the head of government. The"
     ]
    },
    {
     "name": "stdout",
     "output_type": "stream",
     "text": [
      " Paris, but the seat of the French government is located in several cities. The main ones are Paris (the official capital) and Versailles (the official seat of the government), but also Vincennes and Compiègne, which are used for temporary sessions of the French Parliament. The country’s highest court, the Cour de Cassation, is located in Paris. France has a system of government where the executive, legislative, and judicial powers are separate. The head of state is the President, elected by popular vote for a five-year term. The President appoints the Prime Minister, who is the head of government. The Prime"
     ]
    },
    {
     "name": "stdout",
     "output_type": "stream",
     "text": [
      "\n",
      "\n",
      "Prompt: The future of AI is\n",
      "Generated text: "
     ]
    },
    {
     "name": "stdout",
     "output_type": "stream",
     "text": [
      " in"
     ]
    },
    {
     "name": "stdout",
     "output_type": "stream",
     "text": [
      " in the"
     ]
    },
    {
     "name": "stdout",
     "output_type": "stream",
     "text": [
      " in the hands"
     ]
    },
    {
     "name": "stdout",
     "output_type": "stream",
     "text": [
      " in the hands of"
     ]
    },
    {
     "name": "stdout",
     "output_type": "stream",
     "text": [
      " in the hands of the"
     ]
    },
    {
     "name": "stdout",
     "output_type": "stream",
     "text": [
      " in the hands of the humans"
     ]
    },
    {
     "name": "stdout",
     "output_type": "stream",
     "text": [
      " in the hands of the humans who"
     ]
    },
    {
     "name": "stdout",
     "output_type": "stream",
     "text": [
      " in the hands of the humans who program"
     ]
    },
    {
     "name": "stdout",
     "output_type": "stream",
     "text": [
      " in the hands of the humans who program it"
     ]
    },
    {
     "name": "stdout",
     "output_type": "stream",
     "text": [
      " in the hands of the humans who program it\n"
     ]
    },
    {
     "name": "stdout",
     "output_type": "stream",
     "text": [
      " in the hands of the humans who program it\n",
      "The"
     ]
    },
    {
     "name": "stdout",
     "output_type": "stream",
     "text": [
      " in the hands of the humans who program it\n",
      "The future"
     ]
    },
    {
     "name": "stdout",
     "output_type": "stream",
     "text": [
      " in the hands of the humans who program it\n",
      "The future of"
     ]
    },
    {
     "name": "stdout",
     "output_type": "stream",
     "text": [
      " in the hands of the humans who program it\n",
      "The future of AI"
     ]
    },
    {
     "name": "stdout",
     "output_type": "stream",
     "text": [
      " in the hands of the humans who program it\n",
      "The future of AI is"
     ]
    },
    {
     "name": "stdout",
     "output_type": "stream",
     "text": [
      " in the hands of the humans who program it\n",
      "The future of AI is in"
     ]
    },
    {
     "name": "stdout",
     "output_type": "stream",
     "text": [
      " in the hands of the humans who program it\n",
      "The future of AI is in the"
     ]
    },
    {
     "name": "stdout",
     "output_type": "stream",
     "text": [
      " in the hands of the humans who program it\n",
      "The future of AI is in the hands"
     ]
    },
    {
     "name": "stdout",
     "output_type": "stream",
     "text": [
      " in the hands of the humans who program it\n",
      "The future of AI is in the hands of"
     ]
    },
    {
     "name": "stdout",
     "output_type": "stream",
     "text": [
      " in the hands of the humans who program it\n",
      "The future of AI is in the hands of the"
     ]
    },
    {
     "name": "stdout",
     "output_type": "stream",
     "text": [
      " in the hands of the humans who program it\n",
      "The future of AI is in the hands of the humans"
     ]
    },
    {
     "name": "stdout",
     "output_type": "stream",
     "text": [
      " in the hands of the humans who program it\n",
      "The future of AI is in the hands of the humans who"
     ]
    },
    {
     "name": "stdout",
     "output_type": "stream",
     "text": [
      " in the hands of the humans who program it\n",
      "The future of AI is in the hands of the humans who program"
     ]
    },
    {
     "name": "stdout",
     "output_type": "stream",
     "text": [
      " in the hands of the humans who program it\n",
      "The future of AI is in the hands of the humans who program it"
     ]
    },
    {
     "name": "stdout",
     "output_type": "stream",
     "text": [
      " in the hands of the humans who program it\n",
      "The future of AI is in the hands of the humans who program it\n"
     ]
    },
    {
     "name": "stdout",
     "output_type": "stream",
     "text": [
      " in the hands of the humans who program it\n",
      "The future of AI is in the hands of the humans who program it\n",
      "The"
     ]
    },
    {
     "name": "stdout",
     "output_type": "stream",
     "text": [
      " in the hands of the humans who program it\n",
      "The future of AI is in the hands of the humans who program it\n",
      "The future"
     ]
    },
    {
     "name": "stdout",
     "output_type": "stream",
     "text": [
      " in the hands of the humans who program it\n",
      "The future of AI is in the hands of the humans who program it\n",
      "The future of"
     ]
    },
    {
     "name": "stdout",
     "output_type": "stream",
     "text": [
      " in the hands of the humans who program it\n",
      "The future of AI is in the hands of the humans who program it\n",
      "The future of artificial"
     ]
    },
    {
     "name": "stdout",
     "output_type": "stream",
     "text": [
      " in the hands of the humans who program it\n",
      "The future of AI is in the hands of the humans who program it\n",
      "The future of artificial intelligence"
     ]
    },
    {
     "name": "stdout",
     "output_type": "stream",
     "text": [
      " in the hands of the humans who program it\n",
      "The future of AI is in the hands of the humans who program it\n",
      "The future of artificial intelligence ("
     ]
    },
    {
     "name": "stdout",
     "output_type": "stream",
     "text": [
      " in the hands of the humans who program it\n",
      "The future of AI is in the hands of the humans who program it\n",
      "The future of artificial intelligence (AI"
     ]
    },
    {
     "name": "stdout",
     "output_type": "stream",
     "text": [
      " in the hands of the humans who program it\n",
      "The future of AI is in the hands of the humans who program it\n",
      "The future of artificial intelligence (AI)"
     ]
    },
    {
     "name": "stdout",
     "output_type": "stream",
     "text": [
      " in the hands of the humans who program it\n",
      "The future of AI is in the hands of the humans who program it\n",
      "The future of artificial intelligence (AI) is"
     ]
    },
    {
     "name": "stdout",
     "output_type": "stream",
     "text": [
      " in the hands of the humans who program it\n",
      "The future of AI is in the hands of the humans who program it\n",
      "The future of artificial intelligence (AI) is shaped"
     ]
    },
    {
     "name": "stdout",
     "output_type": "stream",
     "text": [
      " in the hands of the humans who program it\n",
      "The future of AI is in the hands of the humans who program it\n",
      "The future of artificial intelligence (AI) is shaped by"
     ]
    },
    {
     "name": "stdout",
     "output_type": "stream",
     "text": [
      " in the hands of the humans who program it\n",
      "The future of AI is in the hands of the humans who program it\n",
      "The future of artificial intelligence (AI) is shaped by the"
     ]
    },
    {
     "name": "stdout",
     "output_type": "stream",
     "text": [
      " in the hands of the humans who program it\n",
      "The future of AI is in the hands of the humans who program it\n",
      "The future of artificial intelligence (AI) is shaped by the humans"
     ]
    },
    {
     "name": "stdout",
     "output_type": "stream",
     "text": [
      " in the hands of the humans who program it\n",
      "The future of AI is in the hands of the humans who program it\n",
      "The future of artificial intelligence (AI) is shaped by the humans who"
     ]
    },
    {
     "name": "stdout",
     "output_type": "stream",
     "text": [
      " in the hands of the humans who program it\n",
      "The future of AI is in the hands of the humans who program it\n",
      "The future of artificial intelligence (AI) is shaped by the humans who design"
     ]
    },
    {
     "name": "stdout",
     "output_type": "stream",
     "text": [
      " in the hands of the humans who program it\n",
      "The future of AI is in the hands of the humans who program it\n",
      "The future of artificial intelligence (AI) is shaped by the humans who design,"
     ]
    },
    {
     "name": "stdout",
     "output_type": "stream",
     "text": [
      " in the hands of the humans who program it\n",
      "The future of AI is in the hands of the humans who program it\n",
      "The future of artificial intelligence (AI) is shaped by the humans who design, develop"
     ]
    },
    {
     "name": "stdout",
     "output_type": "stream",
     "text": [
      " in the hands of the humans who program it\n",
      "The future of AI is in the hands of the humans who program it\n",
      "The future of artificial intelligence (AI) is shaped by the humans who design, develop,"
     ]
    },
    {
     "name": "stdout",
     "output_type": "stream",
     "text": [
      " in the hands of the humans who program it\n",
      "The future of AI is in the hands of the humans who program it\n",
      "The future of artificial intelligence (AI) is shaped by the humans who design, develop, and"
     ]
    },
    {
     "name": "stdout",
     "output_type": "stream",
     "text": [
      " in the hands of the humans who program it\n",
      "The future of AI is in the hands of the humans who program it\n",
      "The future of artificial intelligence (AI) is shaped by the humans who design, develop, and deploy"
     ]
    },
    {
     "name": "stdout",
     "output_type": "stream",
     "text": [
      " in the hands of the humans who program it\n",
      "The future of AI is in the hands of the humans who program it\n",
      "The future of artificial intelligence (AI) is shaped by the humans who design, develop, and deploy AI"
     ]
    },
    {
     "name": "stdout",
     "output_type": "stream",
     "text": [
      " in the hands of the humans who program it\n",
      "The future of AI is in the hands of the humans who program it\n",
      "The future of artificial intelligence (AI) is shaped by the humans who design, develop, and deploy AI systems"
     ]
    },
    {
     "name": "stdout",
     "output_type": "stream",
     "text": [
      " in the hands of the humans who program it\n",
      "The future of AI is in the hands of the humans who program it\n",
      "The future of artificial intelligence (AI) is shaped by the humans who design, develop, and deploy AI systems."
     ]
    },
    {
     "name": "stdout",
     "output_type": "stream",
     "text": [
      " in the hands of the humans who program it\n",
      "The future of AI is in the hands of the humans who program it\n",
      "The future of artificial intelligence (AI) is shaped by the humans who design, develop, and deploy AI systems. These"
     ]
    },
    {
     "name": "stdout",
     "output_type": "stream",
     "text": [
      " in the hands of the humans who program it\n",
      "The future of AI is in the hands of the humans who program it\n",
      "The future of artificial intelligence (AI) is shaped by the humans who design, develop, and deploy AI systems. These developers"
     ]
    },
    {
     "name": "stdout",
     "output_type": "stream",
     "text": [
      " in the hands of the humans who program it\n",
      "The future of AI is in the hands of the humans who program it\n",
      "The future of artificial intelligence (AI) is shaped by the humans who design, develop, and deploy AI systems. These developers and"
     ]
    },
    {
     "name": "stdout",
     "output_type": "stream",
     "text": [
      " in the hands of the humans who program it\n",
      "The future of AI is in the hands of the humans who program it\n",
      "The future of artificial intelligence (AI) is shaped by the humans who design, develop, and deploy AI systems. These developers and programmers"
     ]
    },
    {
     "name": "stdout",
     "output_type": "stream",
     "text": [
      " in the hands of the humans who program it\n",
      "The future of AI is in the hands of the humans who program it\n",
      "The future of artificial intelligence (AI) is shaped by the humans who design, develop, and deploy AI systems. These developers and programmers have"
     ]
    },
    {
     "name": "stdout",
     "output_type": "stream",
     "text": [
      " in the hands of the humans who program it\n",
      "The future of AI is in the hands of the humans who program it\n",
      "The future of artificial intelligence (AI) is shaped by the humans who design, develop, and deploy AI systems. These developers and programmers have the"
     ]
    },
    {
     "name": "stdout",
     "output_type": "stream",
     "text": [
      " in the hands of the humans who program it\n",
      "The future of AI is in the hands of the humans who program it\n",
      "The future of artificial intelligence (AI) is shaped by the humans who design, develop, and deploy AI systems. These developers and programmers have the power"
     ]
    },
    {
     "name": "stdout",
     "output_type": "stream",
     "text": [
      " in the hands of the humans who program it\n",
      "The future of AI is in the hands of the humans who program it\n",
      "The future of artificial intelligence (AI) is shaped by the humans who design, develop, and deploy AI systems. These developers and programmers have the power to"
     ]
    },
    {
     "name": "stdout",
     "output_type": "stream",
     "text": [
      " in the hands of the humans who program it\n",
      "The future of AI is in the hands of the humans who program it\n",
      "The future of artificial intelligence (AI) is shaped by the humans who design, develop, and deploy AI systems. These developers and programmers have the power to influence"
     ]
    },
    {
     "name": "stdout",
     "output_type": "stream",
     "text": [
      " in the hands of the humans who program it\n",
      "The future of AI is in the hands of the humans who program it\n",
      "The future of artificial intelligence (AI) is shaped by the humans who design, develop, and deploy AI systems. These developers and programmers have the power to influence the"
     ]
    },
    {
     "name": "stdout",
     "output_type": "stream",
     "text": [
      " in the hands of the humans who program it\n",
      "The future of AI is in the hands of the humans who program it\n",
      "The future of artificial intelligence (AI) is shaped by the humans who design, develop, and deploy AI systems. These developers and programmers have the power to influence the development"
     ]
    },
    {
     "name": "stdout",
     "output_type": "stream",
     "text": [
      " in the hands of the humans who program it\n",
      "The future of AI is in the hands of the humans who program it\n",
      "The future of artificial intelligence (AI) is shaped by the humans who design, develop, and deploy AI systems. These developers and programmers have the power to influence the development of"
     ]
    },
    {
     "name": "stdout",
     "output_type": "stream",
     "text": [
      " in the hands of the humans who program it\n",
      "The future of AI is in the hands of the humans who program it\n",
      "The future of artificial intelligence (AI) is shaped by the humans who design, develop, and deploy AI systems. These developers and programmers have the power to influence the development of AI"
     ]
    },
    {
     "name": "stdout",
     "output_type": "stream",
     "text": [
      " in the hands of the humans who program it\n",
      "The future of AI is in the hands of the humans who program it\n",
      "The future of artificial intelligence (AI) is shaped by the humans who design, develop, and deploy AI systems. These developers and programmers have the power to influence the development of AI and"
     ]
    },
    {
     "name": "stdout",
     "output_type": "stream",
     "text": [
      " in the hands of the humans who program it\n",
      "The future of AI is in the hands of the humans who program it\n",
      "The future of artificial intelligence (AI) is shaped by the humans who design, develop, and deploy AI systems. These developers and programmers have the power to influence the development of AI and its"
     ]
    },
    {
     "name": "stdout",
     "output_type": "stream",
     "text": [
      " in the hands of the humans who program it\n",
      "The future of AI is in the hands of the humans who program it\n",
      "The future of artificial intelligence (AI) is shaped by the humans who design, develop, and deploy AI systems. These developers and programmers have the power to influence the development of AI and its impact"
     ]
    },
    {
     "name": "stdout",
     "output_type": "stream",
     "text": [
      " in the hands of the humans who program it\n",
      "The future of AI is in the hands of the humans who program it\n",
      "The future of artificial intelligence (AI) is shaped by the humans who design, develop, and deploy AI systems. These developers and programmers have the power to influence the development of AI and its impact on"
     ]
    },
    {
     "name": "stdout",
     "output_type": "stream",
     "text": [
      " in the hands of the humans who program it\n",
      "The future of AI is in the hands of the humans who program it\n",
      "The future of artificial intelligence (AI) is shaped by the humans who design, develop, and deploy AI systems. These developers and programmers have the power to influence the development of AI and its impact on society"
     ]
    },
    {
     "name": "stdout",
     "output_type": "stream",
     "text": [
      " in the hands of the humans who program it\n",
      "The future of AI is in the hands of the humans who program it\n",
      "The future of artificial intelligence (AI) is shaped by the humans who design, develop, and deploy AI systems. These developers and programmers have the power to influence the development of AI and its impact on society.\n"
     ]
    },
    {
     "name": "stdout",
     "output_type": "stream",
     "text": [
      " in the hands of the humans who program it\n",
      "The future of AI is in the hands of the humans who program it\n",
      "The future of artificial intelligence (AI) is shaped by the humans who design, develop, and deploy AI systems. These developers and programmers have the power to influence the development of AI and its impact on society.\n",
      "AI"
     ]
    },
    {
     "name": "stdout",
     "output_type": "stream",
     "text": [
      " in the hands of the humans who program it\n",
      "The future of AI is in the hands of the humans who program it\n",
      "The future of artificial intelligence (AI) is shaped by the humans who design, develop, and deploy AI systems. These developers and programmers have the power to influence the development of AI and its impact on society.\n",
      "AI development"
     ]
    },
    {
     "name": "stdout",
     "output_type": "stream",
     "text": [
      " in the hands of the humans who program it\n",
      "The future of AI is in the hands of the humans who program it\n",
      "The future of artificial intelligence (AI) is shaped by the humans who design, develop, and deploy AI systems. These developers and programmers have the power to influence the development of AI and its impact on society.\n",
      "AI development is"
     ]
    },
    {
     "name": "stdout",
     "output_type": "stream",
     "text": [
      " in the hands of the humans who program it\n",
      "The future of AI is in the hands of the humans who program it\n",
      "The future of artificial intelligence (AI) is shaped by the humans who design, develop, and deploy AI systems. These developers and programmers have the power to influence the development of AI and its impact on society.\n",
      "AI development is a"
     ]
    },
    {
     "name": "stdout",
     "output_type": "stream",
     "text": [
      " in the hands of the humans who program it\n",
      "The future of AI is in the hands of the humans who program it\n",
      "The future of artificial intelligence (AI) is shaped by the humans who design, develop, and deploy AI systems. These developers and programmers have the power to influence the development of AI and its impact on society.\n",
      "AI development is a rapidly"
     ]
    },
    {
     "name": "stdout",
     "output_type": "stream",
     "text": [
      " in the hands of the humans who program it\n",
      "The future of AI is in the hands of the humans who program it\n",
      "The future of artificial intelligence (AI) is shaped by the humans who design, develop, and deploy AI systems. These developers and programmers have the power to influence the development of AI and its impact on society.\n",
      "AI development is a rapidly evolving"
     ]
    },
    {
     "name": "stdout",
     "output_type": "stream",
     "text": [
      " in the hands of the humans who program it\n",
      "The future of AI is in the hands of the humans who program it\n",
      "The future of artificial intelligence (AI) is shaped by the humans who design, develop, and deploy AI systems. These developers and programmers have the power to influence the development of AI and its impact on society.\n",
      "AI development is a rapidly evolving field"
     ]
    },
    {
     "name": "stdout",
     "output_type": "stream",
     "text": [
      " in the hands of the humans who program it\n",
      "The future of AI is in the hands of the humans who program it\n",
      "The future of artificial intelligence (AI) is shaped by the humans who design, develop, and deploy AI systems. These developers and programmers have the power to influence the development of AI and its impact on society.\n",
      "AI development is a rapidly evolving field,"
     ]
    },
    {
     "name": "stdout",
     "output_type": "stream",
     "text": [
      " in the hands of the humans who program it\n",
      "The future of AI is in the hands of the humans who program it\n",
      "The future of artificial intelligence (AI) is shaped by the humans who design, develop, and deploy AI systems. These developers and programmers have the power to influence the development of AI and its impact on society.\n",
      "AI development is a rapidly evolving field, with"
     ]
    },
    {
     "name": "stdout",
     "output_type": "stream",
     "text": [
      " in the hands of the humans who program it\n",
      "The future of AI is in the hands of the humans who program it\n",
      "The future of artificial intelligence (AI) is shaped by the humans who design, develop, and deploy AI systems. These developers and programmers have the power to influence the development of AI and its impact on society.\n",
      "AI development is a rapidly evolving field, with new"
     ]
    },
    {
     "name": "stdout",
     "output_type": "stream",
     "text": [
      " in the hands of the humans who program it\n",
      "The future of AI is in the hands of the humans who program it\n",
      "The future of artificial intelligence (AI) is shaped by the humans who design, develop, and deploy AI systems. These developers and programmers have the power to influence the development of AI and its impact on society.\n",
      "AI development is a rapidly evolving field, with new techniques"
     ]
    },
    {
     "name": "stdout",
     "output_type": "stream",
     "text": [
      " in the hands of the humans who program it\n",
      "The future of AI is in the hands of the humans who program it\n",
      "The future of artificial intelligence (AI) is shaped by the humans who design, develop, and deploy AI systems. These developers and programmers have the power to influence the development of AI and its impact on society.\n",
      "AI development is a rapidly evolving field, with new techniques,"
     ]
    },
    {
     "name": "stdout",
     "output_type": "stream",
     "text": [
      " in the hands of the humans who program it\n",
      "The future of AI is in the hands of the humans who program it\n",
      "The future of artificial intelligence (AI) is shaped by the humans who design, develop, and deploy AI systems. These developers and programmers have the power to influence the development of AI and its impact on society.\n",
      "AI development is a rapidly evolving field, with new techniques, tools"
     ]
    },
    {
     "name": "stdout",
     "output_type": "stream",
     "text": [
      " in the hands of the humans who program it\n",
      "The future of AI is in the hands of the humans who program it\n",
      "The future of artificial intelligence (AI) is shaped by the humans who design, develop, and deploy AI systems. These developers and programmers have the power to influence the development of AI and its impact on society.\n",
      "AI development is a rapidly evolving field, with new techniques, tools,"
     ]
    },
    {
     "name": "stdout",
     "output_type": "stream",
     "text": [
      " in the hands of the humans who program it\n",
      "The future of AI is in the hands of the humans who program it\n",
      "The future of artificial intelligence (AI) is shaped by the humans who design, develop, and deploy AI systems. These developers and programmers have the power to influence the development of AI and its impact on society.\n",
      "AI development is a rapidly evolving field, with new techniques, tools, and"
     ]
    },
    {
     "name": "stdout",
     "output_type": "stream",
     "text": [
      " in the hands of the humans who program it\n",
      "The future of AI is in the hands of the humans who program it\n",
      "The future of artificial intelligence (AI) is shaped by the humans who design, develop, and deploy AI systems. These developers and programmers have the power to influence the development of AI and its impact on society.\n",
      "AI development is a rapidly evolving field, with new techniques, tools, and applications"
     ]
    },
    {
     "name": "stdout",
     "output_type": "stream",
     "text": [
      " in the hands of the humans who program it\n",
      "The future of AI is in the hands of the humans who program it\n",
      "The future of artificial intelligence (AI) is shaped by the humans who design, develop, and deploy AI systems. These developers and programmers have the power to influence the development of AI and its impact on society.\n",
      "AI development is a rapidly evolving field, with new techniques, tools, and applications emerging"
     ]
    },
    {
     "name": "stdout",
     "output_type": "stream",
     "text": [
      " in the hands of the humans who program it\n",
      "The future of AI is in the hands of the humans who program it\n",
      "The future of artificial intelligence (AI) is shaped by the humans who design, develop, and deploy AI systems. These developers and programmers have the power to influence the development of AI and its impact on society.\n",
      "AI development is a rapidly evolving field, with new techniques, tools, and applications emerging every"
     ]
    },
    {
     "name": "stdout",
     "output_type": "stream",
     "text": [
      " in the hands of the humans who program it\n",
      "The future of AI is in the hands of the humans who program it\n",
      "The future of artificial intelligence (AI) is shaped by the humans who design, develop, and deploy AI systems. These developers and programmers have the power to influence the development of AI and its impact on society.\n",
      "AI development is a rapidly evolving field, with new techniques, tools, and applications emerging every year"
     ]
    },
    {
     "name": "stdout",
     "output_type": "stream",
     "text": [
      " in the hands of the humans who program it\n",
      "The future of AI is in the hands of the humans who program it\n",
      "The future of artificial intelligence (AI) is shaped by the humans who design, develop, and deploy AI systems. These developers and programmers have the power to influence the development of AI and its impact on society.\n",
      "AI development is a rapidly evolving field, with new techniques, tools, and applications emerging every year."
     ]
    },
    {
     "name": "stdout",
     "output_type": "stream",
     "text": [
      " in the hands of the humans who program it\n",
      "The future of AI is in the hands of the humans who program it\n",
      "The future of artificial intelligence (AI) is shaped by the humans who design, develop, and deploy AI systems. These developers and programmers have the power to influence the development of AI and its impact on society.\n",
      "AI development is a rapidly evolving field, with new techniques, tools, and applications emerging every year. However"
     ]
    },
    {
     "name": "stdout",
     "output_type": "stream",
     "text": [
      " in the hands of the humans who program it\n",
      "The future of AI is in the hands of the humans who program it\n",
      "The future of artificial intelligence (AI) is shaped by the humans who design, develop, and deploy AI systems. These developers and programmers have the power to influence the development of AI and its impact on society.\n",
      "AI development is a rapidly evolving field, with new techniques, tools, and applications emerging every year. However,"
     ]
    },
    {
     "name": "stdout",
     "output_type": "stream",
     "text": [
      " in the hands of the humans who program it\n",
      "The future of AI is in the hands of the humans who program it\n",
      "The future of artificial intelligence (AI) is shaped by the humans who design, develop, and deploy AI systems. These developers and programmers have the power to influence the development of AI and its impact on society.\n",
      "AI development is a rapidly evolving field, with new techniques, tools, and applications emerging every year. However, the"
     ]
    },
    {
     "name": "stdout",
     "output_type": "stream",
     "text": [
      " in the hands of the humans who program it\n",
      "The future of AI is in the hands of the humans who program it\n",
      "The future of artificial intelligence (AI) is shaped by the humans who design, develop, and deploy AI systems. These developers and programmers have the power to influence the development of AI and its impact on society.\n",
      "AI development is a rapidly evolving field, with new techniques, tools, and applications emerging every year. However, the rapid"
     ]
    },
    {
     "name": "stdout",
     "output_type": "stream",
     "text": [
      " in the hands of the humans who program it\n",
      "The future of AI is in the hands of the humans who program it\n",
      "The future of artificial intelligence (AI) is shaped by the humans who design, develop, and deploy AI systems. These developers and programmers have the power to influence the development of AI and its impact on society.\n",
      "AI development is a rapidly evolving field, with new techniques, tools, and applications emerging every year. However, the rapid progress"
     ]
    },
    {
     "name": "stdout",
     "output_type": "stream",
     "text": [
      " in the hands of the humans who program it\n",
      "The future of AI is in the hands of the humans who program it\n",
      "The future of artificial intelligence (AI) is shaped by the humans who design, develop, and deploy AI systems. These developers and programmers have the power to influence the development of AI and its impact on society.\n",
      "AI development is a rapidly evolving field, with new techniques, tools, and applications emerging every year. However, the rapid progress in"
     ]
    },
    {
     "name": "stdout",
     "output_type": "stream",
     "text": [
      " in the hands of the humans who program it\n",
      "The future of AI is in the hands of the humans who program it\n",
      "The future of artificial intelligence (AI) is shaped by the humans who design, develop, and deploy AI systems. These developers and programmers have the power to influence the development of AI and its impact on society.\n",
      "AI development is a rapidly evolving field, with new techniques, tools, and applications emerging every year. However, the rapid progress in AI"
     ]
    },
    {
     "name": "stdout",
     "output_type": "stream",
     "text": [
      " in the hands of the humans who program it\n",
      "The future of AI is in the hands of the humans who program it\n",
      "The future of artificial intelligence (AI) is shaped by the humans who design, develop, and deploy AI systems. These developers and programmers have the power to influence the development of AI and its impact on society.\n",
      "AI development is a rapidly evolving field, with new techniques, tools, and applications emerging every year. However, the rapid progress in AI has"
     ]
    },
    {
     "name": "stdout",
     "output_type": "stream",
     "text": [
      " in the hands of the humans who program it\n",
      "The future of AI is in the hands of the humans who program it\n",
      "The future of artificial intelligence (AI) is shaped by the humans who design, develop, and deploy AI systems. These developers and programmers have the power to influence the development of AI and its impact on society.\n",
      "AI development is a rapidly evolving field, with new techniques, tools, and applications emerging every year. However, the rapid progress in AI has also"
     ]
    },
    {
     "name": "stdout",
     "output_type": "stream",
     "text": [
      " in the hands of the humans who program it\n",
      "The future of AI is in the hands of the humans who program it\n",
      "The future of artificial intelligence (AI) is shaped by the humans who design, develop, and deploy AI systems. These developers and programmers have the power to influence the development of AI and its impact on society.\n",
      "AI development is a rapidly evolving field, with new techniques, tools, and applications emerging every year. However, the rapid progress in AI has also raised"
     ]
    },
    {
     "name": "stdout",
     "output_type": "stream",
     "text": [
      " in the hands of the humans who program it\n",
      "The future of AI is in the hands of the humans who program it\n",
      "The future of artificial intelligence (AI) is shaped by the humans who design, develop, and deploy AI systems. These developers and programmers have the power to influence the development of AI and its impact on society.\n",
      "AI development is a rapidly evolving field, with new techniques, tools, and applications emerging every year. However, the rapid progress in AI has also raised concerns"
     ]
    },
    {
     "name": "stdout",
     "output_type": "stream",
     "text": [
      " in the hands of the humans who program it\n",
      "The future of AI is in the hands of the humans who program it\n",
      "The future of artificial intelligence (AI) is shaped by the humans who design, develop, and deploy AI systems. These developers and programmers have the power to influence the development of AI and its impact on society.\n",
      "AI development is a rapidly evolving field, with new techniques, tools, and applications emerging every year. However, the rapid progress in AI has also raised concerns about"
     ]
    },
    {
     "name": "stdout",
     "output_type": "stream",
     "text": [
      " in the hands of the humans who program it\n",
      "The future of AI is in the hands of the humans who program it\n",
      "The future of artificial intelligence (AI) is shaped by the humans who design, develop, and deploy AI systems. These developers and programmers have the power to influence the development of AI and its impact on society.\n",
      "AI development is a rapidly evolving field, with new techniques, tools, and applications emerging every year. However, the rapid progress in AI has also raised concerns about the"
     ]
    },
    {
     "name": "stdout",
     "output_type": "stream",
     "text": [
      " in the hands of the humans who program it\n",
      "The future of AI is in the hands of the humans who program it\n",
      "The future of artificial intelligence (AI) is shaped by the humans who design, develop, and deploy AI systems. These developers and programmers have the power to influence the development of AI and its impact on society.\n",
      "AI development is a rapidly evolving field, with new techniques, tools, and applications emerging every year. However, the rapid progress in AI has also raised concerns about the potential"
     ]
    },
    {
     "name": "stdout",
     "output_type": "stream",
     "text": [
      " in the hands of the humans who program it\n",
      "The future of AI is in the hands of the humans who program it\n",
      "The future of artificial intelligence (AI) is shaped by the humans who design, develop, and deploy AI systems. These developers and programmers have the power to influence the development of AI and its impact on society.\n",
      "AI development is a rapidly evolving field, with new techniques, tools, and applications emerging every year. However, the rapid progress in AI has also raised concerns about the potential risks"
     ]
    },
    {
     "name": "stdout",
     "output_type": "stream",
     "text": [
      " in the hands of the humans who program it\n",
      "The future of AI is in the hands of the humans who program it\n",
      "The future of artificial intelligence (AI) is shaped by the humans who design, develop, and deploy AI systems. These developers and programmers have the power to influence the development of AI and its impact on society.\n",
      "AI development is a rapidly evolving field, with new techniques, tools, and applications emerging every year. However, the rapid progress in AI has also raised concerns about the potential risks and"
     ]
    },
    {
     "name": "stdout",
     "output_type": "stream",
     "text": [
      " in the hands of the humans who program it\n",
      "The future of AI is in the hands of the humans who program it\n",
      "The future of artificial intelligence (AI) is shaped by the humans who design, develop, and deploy AI systems. These developers and programmers have the power to influence the development of AI and its impact on society.\n",
      "AI development is a rapidly evolving field, with new techniques, tools, and applications emerging every year. However, the rapid progress in AI has also raised concerns about the potential risks and challenges"
     ]
    },
    {
     "name": "stdout",
     "output_type": "stream",
     "text": [
      " in the hands of the humans who program it\n",
      "The future of AI is in the hands of the humans who program it\n",
      "The future of artificial intelligence (AI) is shaped by the humans who design, develop, and deploy AI systems. These developers and programmers have the power to influence the development of AI and its impact on society.\n",
      "AI development is a rapidly evolving field, with new techniques, tools, and applications emerging every year. However, the rapid progress in AI has also raised concerns about the potential risks and challenges associated"
     ]
    },
    {
     "name": "stdout",
     "output_type": "stream",
     "text": [
      " in the hands of the humans who program it\n",
      "The future of AI is in the hands of the humans who program it\n",
      "The future of artificial intelligence (AI) is shaped by the humans who design, develop, and deploy AI systems. These developers and programmers have the power to influence the development of AI and its impact on society.\n",
      "AI development is a rapidly evolving field, with new techniques, tools, and applications emerging every year. However, the rapid progress in AI has also raised concerns about the potential risks and challenges associated with"
     ]
    },
    {
     "name": "stdout",
     "output_type": "stream",
     "text": [
      " in the hands of the humans who program it\n",
      "The future of AI is in the hands of the humans who program it\n",
      "The future of artificial intelligence (AI) is shaped by the humans who design, develop, and deploy AI systems. These developers and programmers have the power to influence the development of AI and its impact on society.\n",
      "AI development is a rapidly evolving field, with new techniques, tools, and applications emerging every year. However, the rapid progress in AI has also raised concerns about the potential risks and challenges associated with its"
     ]
    },
    {
     "name": "stdout",
     "output_type": "stream",
     "text": [
      " in the hands of the humans who program it\n",
      "The future of AI is in the hands of the humans who program it\n",
      "The future of artificial intelligence (AI) is shaped by the humans who design, develop, and deploy AI systems. These developers and programmers have the power to influence the development of AI and its impact on society.\n",
      "AI development is a rapidly evolving field, with new techniques, tools, and applications emerging every year. However, the rapid progress in AI has also raised concerns about the potential risks and challenges associated with its development"
     ]
    },
    {
     "name": "stdout",
     "output_type": "stream",
     "text": [
      " in the hands of the humans who program it\n",
      "The future of AI is in the hands of the humans who program it\n",
      "The future of artificial intelligence (AI) is shaped by the humans who design, develop, and deploy AI systems. These developers and programmers have the power to influence the development of AI and its impact on society.\n",
      "AI development is a rapidly evolving field, with new techniques, tools, and applications emerging every year. However, the rapid progress in AI has also raised concerns about the potential risks and challenges associated with its development and"
     ]
    },
    {
     "name": "stdout",
     "output_type": "stream",
     "text": [
      " in the hands of the humans who program it\n",
      "The future of AI is in the hands of the humans who program it\n",
      "The future of artificial intelligence (AI) is shaped by the humans who design, develop, and deploy AI systems. These developers and programmers have the power to influence the development of AI and its impact on society.\n",
      "AI development is a rapidly evolving field, with new techniques, tools, and applications emerging every year. However, the rapid progress in AI has also raised concerns about the potential risks and challenges associated with its development and deployment"
     ]
    },
    {
     "name": "stdout",
     "output_type": "stream",
     "text": [
      " in the hands of the humans who program it\n",
      "The future of AI is in the hands of the humans who program it\n",
      "The future of artificial intelligence (AI) is shaped by the humans who design, develop, and deploy AI systems. These developers and programmers have the power to influence the development of AI and its impact on society.\n",
      "AI development is a rapidly evolving field, with new techniques, tools, and applications emerging every year. However, the rapid progress in AI has also raised concerns about the potential risks and challenges associated with its development and deployment.\n"
     ]
    },
    {
     "name": "stdout",
     "output_type": "stream",
     "text": [
      " in the hands of the humans who program it\n",
      "The future of AI is in the hands of the humans who program it\n",
      "The future of artificial intelligence (AI) is shaped by the humans who design, develop, and deploy AI systems. These developers and programmers have the power to influence the development of AI and its impact on society.\n",
      "AI development is a rapidly evolving field, with new techniques, tools, and applications emerging every year. However, the rapid progress in AI has also raised concerns about the potential risks and challenges associated with its development and deployment.\n",
      "The"
     ]
    },
    {
     "name": "stdout",
     "output_type": "stream",
     "text": [
      " in the hands of the humans who program it\n",
      "The future of AI is in the hands of the humans who program it\n",
      "The future of artificial intelligence (AI) is shaped by the humans who design, develop, and deploy AI systems. These developers and programmers have the power to influence the development of AI and its impact on society.\n",
      "AI development is a rapidly evolving field, with new techniques, tools, and applications emerging every year. However, the rapid progress in AI has also raised concerns about the potential risks and challenges associated with its development and deployment.\n",
      "The future"
     ]
    },
    {
     "name": "stdout",
     "output_type": "stream",
     "text": [
      " in the hands of the humans who program it\n",
      "The future of AI is in the hands of the humans who program it\n",
      "The future of artificial intelligence (AI) is shaped by the humans who design, develop, and deploy AI systems. These developers and programmers have the power to influence the development of AI and its impact on society.\n",
      "AI development is a rapidly evolving field, with new techniques, tools, and applications emerging every year. However, the rapid progress in AI has also raised concerns about the potential risks and challenges associated with its development and deployment.\n",
      "The future of"
     ]
    },
    {
     "name": "stdout",
     "output_type": "stream",
     "text": [
      " in the hands of the humans who program it\n",
      "The future of AI is in the hands of the humans who program it\n",
      "The future of artificial intelligence (AI) is shaped by the humans who design, develop, and deploy AI systems. These developers and programmers have the power to influence the development of AI and its impact on society.\n",
      "AI development is a rapidly evolving field, with new techniques, tools, and applications emerging every year. However, the rapid progress in AI has also raised concerns about the potential risks and challenges associated with its development and deployment.\n",
      "The future of AI"
     ]
    },
    {
     "name": "stdout",
     "output_type": "stream",
     "text": [
      " in the hands of the humans who program it\n",
      "The future of AI is in the hands of the humans who program it\n",
      "The future of artificial intelligence (AI) is shaped by the humans who design, develop, and deploy AI systems. These developers and programmers have the power to influence the development of AI and its impact on society.\n",
      "AI development is a rapidly evolving field, with new techniques, tools, and applications emerging every year. However, the rapid progress in AI has also raised concerns about the potential risks and challenges associated with its development and deployment.\n",
      "The future of AI is"
     ]
    },
    {
     "name": "stdout",
     "output_type": "stream",
     "text": [
      " in the hands of the humans who program it\n",
      "The future of AI is in the hands of the humans who program it\n",
      "The future of artificial intelligence (AI) is shaped by the humans who design, develop, and deploy AI systems. These developers and programmers have the power to influence the development of AI and its impact on society.\n",
      "AI development is a rapidly evolving field, with new techniques, tools, and applications emerging every year. However, the rapid progress in AI has also raised concerns about the potential risks and challenges associated with its development and deployment.\n",
      "The future of AI is shaped"
     ]
    },
    {
     "name": "stdout",
     "output_type": "stream",
     "text": [
      " in the hands of the humans who program it\n",
      "The future of AI is in the hands of the humans who program it\n",
      "The future of artificial intelligence (AI) is shaped by the humans who design, develop, and deploy AI systems. These developers and programmers have the power to influence the development of AI and its impact on society.\n",
      "AI development is a rapidly evolving field, with new techniques, tools, and applications emerging every year. However, the rapid progress in AI has also raised concerns about the potential risks and challenges associated with its development and deployment.\n",
      "The future of AI is shaped by"
     ]
    },
    {
     "name": "stdout",
     "output_type": "stream",
     "text": [
      " in the hands of the humans who program it\n",
      "The future of AI is in the hands of the humans who program it\n",
      "The future of artificial intelligence (AI) is shaped by the humans who design, develop, and deploy AI systems. These developers and programmers have the power to influence the development of AI and its impact on society.\n",
      "AI development is a rapidly evolving field, with new techniques, tools, and applications emerging every year. However, the rapid progress in AI has also raised concerns about the potential risks and challenges associated with its development and deployment.\n",
      "The future of AI is shaped by the"
     ]
    },
    {
     "name": "stdout",
     "output_type": "stream",
     "text": [
      " in the hands of the humans who program it\n",
      "The future of AI is in the hands of the humans who program it\n",
      "The future of artificial intelligence (AI) is shaped by the humans who design, develop, and deploy AI systems. These developers and programmers have the power to influence the development of AI and its impact on society.\n",
      "AI development is a rapidly evolving field, with new techniques, tools, and applications emerging every year. However, the rapid progress in AI has also raised concerns about the potential risks and challenges associated with its development and deployment.\n",
      "The future of AI is shaped by the decisions"
     ]
    },
    {
     "name": "stdout",
     "output_type": "stream",
     "text": [
      " in the hands of the humans who program it\n",
      "The future of AI is in the hands of the humans who program it\n",
      "The future of artificial intelligence (AI) is shaped by the humans who design, develop, and deploy AI systems. These developers and programmers have the power to influence the development of AI and its impact on society.\n",
      "AI development is a rapidly evolving field, with new techniques, tools, and applications emerging every year. However, the rapid progress in AI has also raised concerns about the potential risks and challenges associated with its development and deployment.\n",
      "The future of AI is shaped by the decisions and"
     ]
    },
    {
     "name": "stdout",
     "output_type": "stream",
     "text": [
      " in the hands of the humans who program it\n",
      "The future of AI is in the hands of the humans who program it\n",
      "The future of artificial intelligence (AI) is shaped by the humans who design, develop, and deploy AI systems. These developers and programmers have the power to influence the development of AI and its impact on society.\n",
      "AI development is a rapidly evolving field, with new techniques, tools, and applications emerging every year. However, the rapid progress in AI has also raised concerns about the potential risks and challenges associated with its development and deployment.\n",
      "The future of AI is shaped by the decisions and choices"
     ]
    },
    {
     "name": "stdout",
     "output_type": "stream",
     "text": [
      " in the hands of the humans who program it\n",
      "The future of AI is in the hands of the humans who program it\n",
      "The future of artificial intelligence (AI) is shaped by the humans who design, develop, and deploy AI systems. These developers and programmers have the power to influence the development of AI and its impact on society.\n",
      "AI development is a rapidly evolving field, with new techniques, tools, and applications emerging every year. However, the rapid progress in AI has also raised concerns about the potential risks and challenges associated with its development and deployment.\n",
      "The future of AI is shaped by the decisions and choices made"
     ]
    },
    {
     "name": "stdout",
     "output_type": "stream",
     "text": [
      " in the hands of the humans who program it\n",
      "The future of AI is in the hands of the humans who program it\n",
      "The future of artificial intelligence (AI) is shaped by the humans who design, develop, and deploy AI systems. These developers and programmers have the power to influence the development of AI and its impact on society.\n",
      "AI development is a rapidly evolving field, with new techniques, tools, and applications emerging every year. However, the rapid progress in AI has also raised concerns about the potential risks and challenges associated with its development and deployment.\n",
      "The future of AI is shaped by the decisions and choices made by"
     ]
    },
    {
     "name": "stdout",
     "output_type": "stream",
     "text": [
      " in the hands of the humans who program it\n",
      "The future of AI is in the hands of the humans who program it\n",
      "The future of artificial intelligence (AI) is shaped by the humans who design, develop, and deploy AI systems. These developers and programmers have the power to influence the development of AI and its impact on society.\n",
      "AI development is a rapidly evolving field, with new techniques, tools, and applications emerging every year. However, the rapid progress in AI has also raised concerns about the potential risks and challenges associated with its development and deployment.\n",
      "The future of AI is shaped by the decisions and choices made by developers"
     ]
    },
    {
     "name": "stdout",
     "output_type": "stream",
     "text": [
      " in the hands of the humans who program it\n",
      "The future of AI is in the hands of the humans who program it\n",
      "The future of artificial intelligence (AI) is shaped by the humans who design, develop, and deploy AI systems. These developers and programmers have the power to influence the development of AI and its impact on society.\n",
      "AI development is a rapidly evolving field, with new techniques, tools, and applications emerging every year. However, the rapid progress in AI has also raised concerns about the potential risks and challenges associated with its development and deployment.\n",
      "The future of AI is shaped by the decisions and choices made by developers,"
     ]
    },
    {
     "name": "stdout",
     "output_type": "stream",
     "text": [
      " in the hands of the humans who program it\n",
      "The future of AI is in the hands of the humans who program it\n",
      "The future of artificial intelligence (AI) is shaped by the humans who design, develop, and deploy AI systems. These developers and programmers have the power to influence the development of AI and its impact on society.\n",
      "AI development is a rapidly evolving field, with new techniques, tools, and applications emerging every year. However, the rapid progress in AI has also raised concerns about the potential risks and challenges associated with its development and deployment.\n",
      "The future of AI is shaped by the decisions and choices made by developers, who"
     ]
    },
    {
     "name": "stdout",
     "output_type": "stream",
     "text": [
      " in the hands of the humans who program it\n",
      "The future of AI is in the hands of the humans who program it\n",
      "The future of artificial intelligence (AI) is shaped by the humans who design, develop, and deploy AI systems. These developers and programmers have the power to influence the development of AI and its impact on society.\n",
      "AI development is a rapidly evolving field, with new techniques, tools, and applications emerging every year. However, the rapid progress in AI has also raised concerns about the potential risks and challenges associated with its development and deployment.\n",
      "The future of AI is shaped by the decisions and choices made by developers, who must"
     ]
    },
    {
     "name": "stdout",
     "output_type": "stream",
     "text": [
      "\n"
     ]
    }
   ],
   "source": [
    "prompts = [\n",
    "    \"Hello, my name is\",\n",
    "    \"The capital of France is\",\n",
    "    \"The future of AI is\",\n",
    "]\n",
    "sampling_params = {\"temperature\": 0.8, \"top_p\": 0.95}\n",
    "\n",
    "print(\"\\n=== Testing synchronous streaming generation ===\")\n",
    "\n",
    "for prompt in prompts:\n",
    "    print(f\"\\nPrompt: {prompt}\")\n",
    "    print(\"Generated text: \", end=\"\", flush=True)\n",
    "\n",
    "    for chunk in llm.generate(prompt, sampling_params, stream=True):\n",
    "        print(chunk[\"text\"], end=\"\", flush=True)\n",
    "    print()"
   ]
  },
  {
   "cell_type": "markdown",
   "metadata": {},
   "source": [
    "### Non-streaming Asynchronous Generation"
   ]
  },
  {
   "cell_type": "code",
   "execution_count": 4,
   "metadata": {
    "execution": {
     "iopub.execute_input": "2025-01-20T09:07:03.121698Z",
     "iopub.status.busy": "2025-01-20T09:07:03.121539Z",
     "iopub.status.idle": "2025-01-20T09:07:04.037748Z",
     "shell.execute_reply": "2025-01-20T09:07:04.037144Z"
    }
   },
   "outputs": [
    {
     "name": "stdout",
     "output_type": "stream",
     "text": [
      "\n",
      "=== Testing asynchronous batch generation ===\n"
     ]
    },
    {
     "name": "stdout",
     "output_type": "stream",
     "text": [
      "\n",
      "Prompt: Hello, my name is\n",
      "Generated text:  Jo and I am a volunteer with the Waltham Forest Volunteer Centre. I am 51 and have been a volunteer for over 5 years. I was previously a civil servant and before that worked in retail management. I decided to volunteer after my children left home and I was looking for a way to give something back to the community.\n",
      "I have volunteered for several different organisations, including Age UK, a community garden and a charity that supports vulnerable adults. I currently volunteer at a local library, helping with book sales and providing information to visitors. I also help out with a community project that supports refugees and asylum seekers.\n",
      "Volunteering has\n",
      "\n",
      "Prompt: The capital of France is\n",
      "Generated text:  known for its beautiful gardens and parks. Paris has a number of famous parks and gardens that are worth visiting, including the Luxembourg Gardens and the Tuileries Garden. These parks are not only beautiful but also offer a peaceful escape from the hustle and bustle of the city.\n",
      "The Luxembourg Gardens are a beautiful park located in the 6th arrondissement of Paris. The gardens were created in the 17th century and are named after the Luxembourg Palace, which was built on the site of a former abbey. The gardens are filled with beautiful fountains, statues, and walking paths, and offer stunning views of the city.\n",
      "The\n",
      "\n",
      "Prompt: The future of AI is\n",
      "Generated text:  here, and it's located in a lab at the University of California, Berkeley. Meet the brainchild of Dr. Stuart Russell, a leading AI researcher and professor, who has been working on developing an AI system capable of outperforming humans in a wide range of tasks. The AI, named \"AlphaGo Zero,\" has been trained using a combination of machine learning and game theory to learn from its own mistakes and improve its performance over time.\n",
      "AlphaGo Zero is a revolutionary AI system that has been designed to play the game of Go, a complex strategy board game that has been a benchmark for AI research for decades. But this AI\n"
     ]
    }
   ],
   "source": [
    "prompts = [\n",
    "    \"Hello, my name is\",\n",
    "    \"The capital of France is\",\n",
    "    \"The future of AI is\",\n",
    "]\n",
    "\n",
    "sampling_params = {\"temperature\": 0.8, \"top_p\": 0.95}\n",
    "\n",
    "print(\"\\n=== Testing asynchronous batch generation ===\")\n",
    "\n",
    "\n",
    "async def main():\n",
    "    outputs = await llm.async_generate(prompts, sampling_params)\n",
    "\n",
    "    for prompt, output in zip(prompts, outputs):\n",
    "        print(f\"\\nPrompt: {prompt}\")\n",
    "        print(f\"Generated text: {output['text']}\")\n",
    "\n",
    "\n",
    "asyncio.run(main())"
   ]
  },
  {
   "cell_type": "markdown",
   "metadata": {},
   "source": [
    "### Streaming Asynchronous Generation"
   ]
  },
  {
   "cell_type": "code",
   "execution_count": 5,
   "metadata": {
    "execution": {
     "iopub.execute_input": "2025-01-20T09:07:04.039549Z",
     "iopub.status.busy": "2025-01-20T09:07:04.039280Z",
     "iopub.status.idle": "2025-01-20T09:07:06.723119Z",
     "shell.execute_reply": "2025-01-20T09:07:06.722547Z"
    }
   },
   "outputs": [
    {
     "name": "stdout",
     "output_type": "stream",
     "text": [
      "\n",
      "=== Testing asynchronous streaming generation ===\n",
      "\n",
      "Prompt: Hello, my name is\n",
      "Generated text: "
     ]
    },
    {
     "name": "stdout",
     "output_type": "stream",
     "text": [
      " Pa"
     ]
    },
    {
     "name": "stdout",
     "output_type": "stream",
     "text": [
      " Paola"
     ]
    },
    {
     "name": "stdout",
     "output_type": "stream",
     "text": [
      " Paola G"
     ]
    },
    {
     "name": "stdout",
     "output_type": "stream",
     "text": [
      " Paola Gó"
     ]
    },
    {
     "name": "stdout",
     "output_type": "stream",
     "text": [
      " Paola Gómez"
     ]
    },
    {
     "name": "stdout",
     "output_type": "stream",
     "text": [
      " Paola Gómez,"
     ]
    },
    {
     "name": "stdout",
     "output_type": "stream",
     "text": [
      " Paola Gómez, I"
     ]
    },
    {
     "name": "stdout",
     "output_type": "stream",
     "text": [
      " Paola Gómez, I am"
     ]
    },
    {
     "name": "stdout",
     "output_type": "stream",
     "text": [
      " Paola Gómez, I am a"
     ]
    },
    {
     "name": "stdout",
     "output_type": "stream",
     "text": [
      " Paola Gómez, I am a doctor"
     ]
    },
    {
     "name": "stdout",
     "output_type": "stream",
     "text": [
      " Paola Gómez, I am a doctor of"
     ]
    },
    {
     "name": "stdout",
     "output_type": "stream",
     "text": [
      " Paola Gómez, I am a doctor of psychology"
     ]
    },
    {
     "name": "stdout",
     "output_type": "stream",
     "text": [
      " Paola Gómez, I am a doctor of psychology and"
     ]
    },
    {
     "name": "stdout",
     "output_type": "stream",
     "text": [
      " Paola Gómez, I am a doctor of psychology and a"
     ]
    },
    {
     "name": "stdout",
     "output_type": "stream",
     "text": [
      " Paola Gómez, I am a doctor of psychology and a clinical"
     ]
    },
    {
     "name": "stdout",
     "output_type": "stream",
     "text": [
      " Paola Gómez, I am a doctor of psychology and a clinical psychologist"
     ]
    },
    {
     "name": "stdout",
     "output_type": "stream",
     "text": [
      " Paola Gómez, I am a doctor of psychology and a clinical psychologist."
     ]
    },
    {
     "name": "stdout",
     "output_type": "stream",
     "text": [
      " Paola Gómez, I am a doctor of psychology and a clinical psychologist. I"
     ]
    },
    {
     "name": "stdout",
     "output_type": "stream",
     "text": [
      " Paola Gómez, I am a doctor of psychology and a clinical psychologist. I have"
     ]
    },
    {
     "name": "stdout",
     "output_type": "stream",
     "text": [
      " Paola Gómez, I am a doctor of psychology and a clinical psychologist. I have been"
     ]
    },
    {
     "name": "stdout",
     "output_type": "stream",
     "text": [
      " Paola Gómez, I am a doctor of psychology and a clinical psychologist. I have been working"
     ]
    },
    {
     "name": "stdout",
     "output_type": "stream",
     "text": [
      " Paola Gómez, I am a doctor of psychology and a clinical psychologist. I have been working with"
     ]
    },
    {
     "name": "stdout",
     "output_type": "stream",
     "text": [
      " Paola Gómez, I am a doctor of psychology and a clinical psychologist. I have been working with children"
     ]
    },
    {
     "name": "stdout",
     "output_type": "stream",
     "text": [
      " Paola Gómez, I am a doctor of psychology and a clinical psychologist. I have been working with children and"
     ]
    },
    {
     "name": "stdout",
     "output_type": "stream",
     "text": [
      " Paola Gómez, I am a doctor of psychology and a clinical psychologist. I have been working with children and teenagers"
     ]
    },
    {
     "name": "stdout",
     "output_type": "stream",
     "text": [
      " Paola Gómez, I am a doctor of psychology and a clinical psychologist. I have been working with children and teenagers for"
     ]
    },
    {
     "name": "stdout",
     "output_type": "stream",
     "text": [
      " Paola Gómez, I am a doctor of psychology and a clinical psychologist. I have been working with children and teenagers for over"
     ]
    },
    {
     "name": "stdout",
     "output_type": "stream",
     "text": [
      " Paola Gómez, I am a doctor of psychology and a clinical psychologist. I have been working with children and teenagers for over "
     ]
    },
    {
     "name": "stdout",
     "output_type": "stream",
     "text": [
      " Paola Gómez, I am a doctor of psychology and a clinical psychologist. I have been working with children and teenagers for over 10"
     ]
    },
    {
     "name": "stdout",
     "output_type": "stream",
     "text": [
      " Paola Gómez, I am a doctor of psychology and a clinical psychologist. I have been working with children and teenagers for over 10 years"
     ]
    },
    {
     "name": "stdout",
     "output_type": "stream",
     "text": [
      " Paola Gómez, I am a doctor of psychology and a clinical psychologist. I have been working with children and teenagers for over 10 years,"
     ]
    },
    {
     "name": "stdout",
     "output_type": "stream",
     "text": [
      " Paola Gómez, I am a doctor of psychology and a clinical psychologist. I have been working with children and teenagers for over 10 years, and"
     ]
    },
    {
     "name": "stdout",
     "output_type": "stream",
     "text": [
      " Paola Gómez, I am a doctor of psychology and a clinical psychologist. I have been working with children and teenagers for over 10 years, and I"
     ]
    },
    {
     "name": "stdout",
     "output_type": "stream",
     "text": [
      " Paola Gómez, I am a doctor of psychology and a clinical psychologist. I have been working with children and teenagers for over 10 years, and I have"
     ]
    },
    {
     "name": "stdout",
     "output_type": "stream",
     "text": [
      " Paola Gómez, I am a doctor of psychology and a clinical psychologist. I have been working with children and teenagers for over 10 years, and I have developed"
     ]
    },
    {
     "name": "stdout",
     "output_type": "stream",
     "text": [
      " Paola Gómez, I am a doctor of psychology and a clinical psychologist. I have been working with children and teenagers for over 10 years, and I have developed a"
     ]
    },
    {
     "name": "stdout",
     "output_type": "stream",
     "text": [
      " Paola Gómez, I am a doctor of psychology and a clinical psychologist. I have been working with children and teenagers for over 10 years, and I have developed a strong"
     ]
    },
    {
     "name": "stdout",
     "output_type": "stream",
     "text": [
      " Paola Gómez, I am a doctor of psychology and a clinical psychologist. I have been working with children and teenagers for over 10 years, and I have developed a strong interest"
     ]
    },
    {
     "name": "stdout",
     "output_type": "stream",
     "text": [
      " Paola Gómez, I am a doctor of psychology and a clinical psychologist. I have been working with children and teenagers for over 10 years, and I have developed a strong interest in"
     ]
    },
    {
     "name": "stdout",
     "output_type": "stream",
     "text": [
      " Paola Gómez, I am a doctor of psychology and a clinical psychologist. I have been working with children and teenagers for over 10 years, and I have developed a strong interest in working"
     ]
    },
    {
     "name": "stdout",
     "output_type": "stream",
     "text": [
      " Paola Gómez, I am a doctor of psychology and a clinical psychologist. I have been working with children and teenagers for over 10 years, and I have developed a strong interest in working with"
     ]
    },
    {
     "name": "stdout",
     "output_type": "stream",
     "text": [
      " Paola Gómez, I am a doctor of psychology and a clinical psychologist. I have been working with children and teenagers for over 10 years, and I have developed a strong interest in working with children"
     ]
    },
    {
     "name": "stdout",
     "output_type": "stream",
     "text": [
      " Paola Gómez, I am a doctor of psychology and a clinical psychologist. I have been working with children and teenagers for over 10 years, and I have developed a strong interest in working with children who"
     ]
    },
    {
     "name": "stdout",
     "output_type": "stream",
     "text": [
      " Paola Gómez, I am a doctor of psychology and a clinical psychologist. I have been working with children and teenagers for over 10 years, and I have developed a strong interest in working with children who have"
     ]
    },
    {
     "name": "stdout",
     "output_type": "stream",
     "text": [
      " Paola Gómez, I am a doctor of psychology and a clinical psychologist. I have been working with children and teenagers for over 10 years, and I have developed a strong interest in working with children who have experienced"
     ]
    },
    {
     "name": "stdout",
     "output_type": "stream",
     "text": [
      " Paola Gómez, I am a doctor of psychology and a clinical psychologist. I have been working with children and teenagers for over 10 years, and I have developed a strong interest in working with children who have experienced trauma"
     ]
    },
    {
     "name": "stdout",
     "output_type": "stream",
     "text": [
      " Paola Gómez, I am a doctor of psychology and a clinical psychologist. I have been working with children and teenagers for over 10 years, and I have developed a strong interest in working with children who have experienced trauma."
     ]
    },
    {
     "name": "stdout",
     "output_type": "stream",
     "text": [
      " Paola Gómez, I am a doctor of psychology and a clinical psychologist. I have been working with children and teenagers for over 10 years, and I have developed a strong interest in working with children who have experienced trauma. My"
     ]
    },
    {
     "name": "stdout",
     "output_type": "stream",
     "text": [
      " Paola Gómez, I am a doctor of psychology and a clinical psychologist. I have been working with children and teenagers for over 10 years, and I have developed a strong interest in working with children who have experienced trauma. My clinical"
     ]
    },
    {
     "name": "stdout",
     "output_type": "stream",
     "text": [
      " Paola Gómez, I am a doctor of psychology and a clinical psychologist. I have been working with children and teenagers for over 10 years, and I have developed a strong interest in working with children who have experienced trauma. My clinical experience"
     ]
    },
    {
     "name": "stdout",
     "output_type": "stream",
     "text": [
      " Paola Gómez, I am a doctor of psychology and a clinical psychologist. I have been working with children and teenagers for over 10 years, and I have developed a strong interest in working with children who have experienced trauma. My clinical experience has"
     ]
    },
    {
     "name": "stdout",
     "output_type": "stream",
     "text": [
      " Paola Gómez, I am a doctor of psychology and a clinical psychologist. I have been working with children and teenagers for over 10 years, and I have developed a strong interest in working with children who have experienced trauma. My clinical experience has shown"
     ]
    },
    {
     "name": "stdout",
     "output_type": "stream",
     "text": [
      " Paola Gómez, I am a doctor of psychology and a clinical psychologist. I have been working with children and teenagers for over 10 years, and I have developed a strong interest in working with children who have experienced trauma. My clinical experience has shown me"
     ]
    },
    {
     "name": "stdout",
     "output_type": "stream",
     "text": [
      " Paola Gómez, I am a doctor of psychology and a clinical psychologist. I have been working with children and teenagers for over 10 years, and I have developed a strong interest in working with children who have experienced trauma. My clinical experience has shown me that"
     ]
    },
    {
     "name": "stdout",
     "output_type": "stream",
     "text": [
      " Paola Gómez, I am a doctor of psychology and a clinical psychologist. I have been working with children and teenagers for over 10 years, and I have developed a strong interest in working with children who have experienced trauma. My clinical experience has shown me that many"
     ]
    },
    {
     "name": "stdout",
     "output_type": "stream",
     "text": [
      " Paola Gómez, I am a doctor of psychology and a clinical psychologist. I have been working with children and teenagers for over 10 years, and I have developed a strong interest in working with children who have experienced trauma. My clinical experience has shown me that many of"
     ]
    },
    {
     "name": "stdout",
     "output_type": "stream",
     "text": [
      " Paola Gómez, I am a doctor of psychology and a clinical psychologist. I have been working with children and teenagers for over 10 years, and I have developed a strong interest in working with children who have experienced trauma. My clinical experience has shown me that many of these"
     ]
    },
    {
     "name": "stdout",
     "output_type": "stream",
     "text": [
      " Paola Gómez, I am a doctor of psychology and a clinical psychologist. I have been working with children and teenagers for over 10 years, and I have developed a strong interest in working with children who have experienced trauma. My clinical experience has shown me that many of these children"
     ]
    },
    {
     "name": "stdout",
     "output_type": "stream",
     "text": [
      " Paola Gómez, I am a doctor of psychology and a clinical psychologist. I have been working with children and teenagers for over 10 years, and I have developed a strong interest in working with children who have experienced trauma. My clinical experience has shown me that many of these children present"
     ]
    },
    {
     "name": "stdout",
     "output_type": "stream",
     "text": [
      " Paola Gómez, I am a doctor of psychology and a clinical psychologist. I have been working with children and teenagers for over 10 years, and I have developed a strong interest in working with children who have experienced trauma. My clinical experience has shown me that many of these children present with"
     ]
    },
    {
     "name": "stdout",
     "output_type": "stream",
     "text": [
      " Paola Gómez, I am a doctor of psychology and a clinical psychologist. I have been working with children and teenagers for over 10 years, and I have developed a strong interest in working with children who have experienced trauma. My clinical experience has shown me that many of these children present with symptoms"
     ]
    },
    {
     "name": "stdout",
     "output_type": "stream",
     "text": [
      " Paola Gómez, I am a doctor of psychology and a clinical psychologist. I have been working with children and teenagers for over 10 years, and I have developed a strong interest in working with children who have experienced trauma. My clinical experience has shown me that many of these children present with symptoms similar"
     ]
    },
    {
     "name": "stdout",
     "output_type": "stream",
     "text": [
      " Paola Gómez, I am a doctor of psychology and a clinical psychologist. I have been working with children and teenagers for over 10 years, and I have developed a strong interest in working with children who have experienced trauma. My clinical experience has shown me that many of these children present with symptoms similar to"
     ]
    },
    {
     "name": "stdout",
     "output_type": "stream",
     "text": [
      " Paola Gómez, I am a doctor of psychology and a clinical psychologist. I have been working with children and teenagers for over 10 years, and I have developed a strong interest in working with children who have experienced trauma. My clinical experience has shown me that many of these children present with symptoms similar to those"
     ]
    },
    {
     "name": "stdout",
     "output_type": "stream",
     "text": [
      " Paola Gómez, I am a doctor of psychology and a clinical psychologist. I have been working with children and teenagers for over 10 years, and I have developed a strong interest in working with children who have experienced trauma. My clinical experience has shown me that many of these children present with symptoms similar to those of"
     ]
    },
    {
     "name": "stdout",
     "output_type": "stream",
     "text": [
      " Paola Gómez, I am a doctor of psychology and a clinical psychologist. I have been working with children and teenagers for over 10 years, and I have developed a strong interest in working with children who have experienced trauma. My clinical experience has shown me that many of these children present with symptoms similar to those of anxiety"
     ]
    },
    {
     "name": "stdout",
     "output_type": "stream",
     "text": [
      " Paola Gómez, I am a doctor of psychology and a clinical psychologist. I have been working with children and teenagers for over 10 years, and I have developed a strong interest in working with children who have experienced trauma. My clinical experience has shown me that many of these children present with symptoms similar to those of anxiety and"
     ]
    },
    {
     "name": "stdout",
     "output_type": "stream",
     "text": [
      " Paola Gómez, I am a doctor of psychology and a clinical psychologist. I have been working with children and teenagers for over 10 years, and I have developed a strong interest in working with children who have experienced trauma. My clinical experience has shown me that many of these children present with symptoms similar to those of anxiety and depression"
     ]
    },
    {
     "name": "stdout",
     "output_type": "stream",
     "text": [
      " Paola Gómez, I am a doctor of psychology and a clinical psychologist. I have been working with children and teenagers for over 10 years, and I have developed a strong interest in working with children who have experienced trauma. My clinical experience has shown me that many of these children present with symptoms similar to those of anxiety and depression,"
     ]
    },
    {
     "name": "stdout",
     "output_type": "stream",
     "text": [
      " Paola Gómez, I am a doctor of psychology and a clinical psychologist. I have been working with children and teenagers for over 10 years, and I have developed a strong interest in working with children who have experienced trauma. My clinical experience has shown me that many of these children present with symptoms similar to those of anxiety and depression, but"
     ]
    },
    {
     "name": "stdout",
     "output_type": "stream",
     "text": [
      " Paola Gómez, I am a doctor of psychology and a clinical psychologist. I have been working with children and teenagers for over 10 years, and I have developed a strong interest in working with children who have experienced trauma. My clinical experience has shown me that many of these children present with symptoms similar to those of anxiety and depression, but these"
     ]
    },
    {
     "name": "stdout",
     "output_type": "stream",
     "text": [
      " Paola Gómez, I am a doctor of psychology and a clinical psychologist. I have been working with children and teenagers for over 10 years, and I have developed a strong interest in working with children who have experienced trauma. My clinical experience has shown me that many of these children present with symptoms similar to those of anxiety and depression, but these are"
     ]
    },
    {
     "name": "stdout",
     "output_type": "stream",
     "text": [
      " Paola Gómez, I am a doctor of psychology and a clinical psychologist. I have been working with children and teenagers for over 10 years, and I have developed a strong interest in working with children who have experienced trauma. My clinical experience has shown me that many of these children present with symptoms similar to those of anxiety and depression, but these are complex"
     ]
    },
    {
     "name": "stdout",
     "output_type": "stream",
     "text": [
      " Paola Gómez, I am a doctor of psychology and a clinical psychologist. I have been working with children and teenagers for over 10 years, and I have developed a strong interest in working with children who have experienced trauma. My clinical experience has shown me that many of these children present with symptoms similar to those of anxiety and depression, but these are complex cases"
     ]
    },
    {
     "name": "stdout",
     "output_type": "stream",
     "text": [
      " Paola Gómez, I am a doctor of psychology and a clinical psychologist. I have been working with children and teenagers for over 10 years, and I have developed a strong interest in working with children who have experienced trauma. My clinical experience has shown me that many of these children present with symptoms similar to those of anxiety and depression, but these are complex cases that"
     ]
    },
    {
     "name": "stdout",
     "output_type": "stream",
     "text": [
      " Paola Gómez, I am a doctor of psychology and a clinical psychologist. I have been working with children and teenagers for over 10 years, and I have developed a strong interest in working with children who have experienced trauma. My clinical experience has shown me that many of these children present with symptoms similar to those of anxiety and depression, but these are complex cases that require"
     ]
    },
    {
     "name": "stdout",
     "output_type": "stream",
     "text": [
      " Paola Gómez, I am a doctor of psychology and a clinical psychologist. I have been working with children and teenagers for over 10 years, and I have developed a strong interest in working with children who have experienced trauma. My clinical experience has shown me that many of these children present with symptoms similar to those of anxiety and depression, but these are complex cases that require a"
     ]
    },
    {
     "name": "stdout",
     "output_type": "stream",
     "text": [
      " Paola Gómez, I am a doctor of psychology and a clinical psychologist. I have been working with children and teenagers for over 10 years, and I have developed a strong interest in working with children who have experienced trauma. My clinical experience has shown me that many of these children present with symptoms similar to those of anxiety and depression, but these are complex cases that require a comprehensive"
     ]
    },
    {
     "name": "stdout",
     "output_type": "stream",
     "text": [
      " Paola Gómez, I am a doctor of psychology and a clinical psychologist. I have been working with children and teenagers for over 10 years, and I have developed a strong interest in working with children who have experienced trauma. My clinical experience has shown me that many of these children present with symptoms similar to those of anxiety and depression, but these are complex cases that require a comprehensive and"
     ]
    },
    {
     "name": "stdout",
     "output_type": "stream",
     "text": [
      " Paola Gómez, I am a doctor of psychology and a clinical psychologist. I have been working with children and teenagers for over 10 years, and I have developed a strong interest in working with children who have experienced trauma. My clinical experience has shown me that many of these children present with symptoms similar to those of anxiety and depression, but these are complex cases that require a comprehensive and individual"
     ]
    },
    {
     "name": "stdout",
     "output_type": "stream",
     "text": [
      " Paola Gómez, I am a doctor of psychology and a clinical psychologist. I have been working with children and teenagers for over 10 years, and I have developed a strong interest in working with children who have experienced trauma. My clinical experience has shown me that many of these children present with symptoms similar to those of anxiety and depression, but these are complex cases that require a comprehensive and individualized"
     ]
    },
    {
     "name": "stdout",
     "output_type": "stream",
     "text": [
      " Paola Gómez, I am a doctor of psychology and a clinical psychologist. I have been working with children and teenagers for over 10 years, and I have developed a strong interest in working with children who have experienced trauma. My clinical experience has shown me that many of these children present with symptoms similar to those of anxiety and depression, but these are complex cases that require a comprehensive and individualized approach"
     ]
    },
    {
     "name": "stdout",
     "output_type": "stream",
     "text": [
      " Paola Gómez, I am a doctor of psychology and a clinical psychologist. I have been working with children and teenagers for over 10 years, and I have developed a strong interest in working with children who have experienced trauma. My clinical experience has shown me that many of these children present with symptoms similar to those of anxiety and depression, but these are complex cases that require a comprehensive and individualized approach."
     ]
    },
    {
     "name": "stdout",
     "output_type": "stream",
     "text": [
      " Paola Gómez, I am a doctor of psychology and a clinical psychologist. I have been working with children and teenagers for over 10 years, and I have developed a strong interest in working with children who have experienced trauma. My clinical experience has shown me that many of these children present with symptoms similar to those of anxiety and depression, but these are complex cases that require a comprehensive and individualized approach. I"
     ]
    },
    {
     "name": "stdout",
     "output_type": "stream",
     "text": [
      " Paola Gómez, I am a doctor of psychology and a clinical psychologist. I have been working with children and teenagers for over 10 years, and I have developed a strong interest in working with children who have experienced trauma. My clinical experience has shown me that many of these children present with symptoms similar to those of anxiety and depression, but these are complex cases that require a comprehensive and individualized approach. I use"
     ]
    },
    {
     "name": "stdout",
     "output_type": "stream",
     "text": [
      " Paola Gómez, I am a doctor of psychology and a clinical psychologist. I have been working with children and teenagers for over 10 years, and I have developed a strong interest in working with children who have experienced trauma. My clinical experience has shown me that many of these children present with symptoms similar to those of anxiety and depression, but these are complex cases that require a comprehensive and individualized approach. I use an"
     ]
    },
    {
     "name": "stdout",
     "output_type": "stream",
     "text": [
      " Paola Gómez, I am a doctor of psychology and a clinical psychologist. I have been working with children and teenagers for over 10 years, and I have developed a strong interest in working with children who have experienced trauma. My clinical experience has shown me that many of these children present with symptoms similar to those of anxiety and depression, but these are complex cases that require a comprehensive and individualized approach. I use an evidence"
     ]
    },
    {
     "name": "stdout",
     "output_type": "stream",
     "text": [
      " Paola Gómez, I am a doctor of psychology and a clinical psychologist. I have been working with children and teenagers for over 10 years, and I have developed a strong interest in working with children who have experienced trauma. My clinical experience has shown me that many of these children present with symptoms similar to those of anxiety and depression, but these are complex cases that require a comprehensive and individualized approach. I use an evidence-based"
     ]
    },
    {
     "name": "stdout",
     "output_type": "stream",
     "text": [
      " Paola Gómez, I am a doctor of psychology and a clinical psychologist. I have been working with children and teenagers for over 10 years, and I have developed a strong interest in working with children who have experienced trauma. My clinical experience has shown me that many of these children present with symptoms similar to those of anxiety and depression, but these are complex cases that require a comprehensive and individualized approach. I use an evidence-based approach"
     ]
    },
    {
     "name": "stdout",
     "output_type": "stream",
     "text": [
      " Paola Gómez, I am a doctor of psychology and a clinical psychologist. I have been working with children and teenagers for over 10 years, and I have developed a strong interest in working with children who have experienced trauma. My clinical experience has shown me that many of these children present with symptoms similar to those of anxiety and depression, but these are complex cases that require a comprehensive and individualized approach. I use an evidence-based approach to"
     ]
    },
    {
     "name": "stdout",
     "output_type": "stream",
     "text": [
      " Paola Gómez, I am a doctor of psychology and a clinical psychologist. I have been working with children and teenagers for over 10 years, and I have developed a strong interest in working with children who have experienced trauma. My clinical experience has shown me that many of these children present with symptoms similar to those of anxiety and depression, but these are complex cases that require a comprehensive and individualized approach. I use an evidence-based approach to my"
     ]
    },
    {
     "name": "stdout",
     "output_type": "stream",
     "text": [
      " Paola Gómez, I am a doctor of psychology and a clinical psychologist. I have been working with children and teenagers for over 10 years, and I have developed a strong interest in working with children who have experienced trauma. My clinical experience has shown me that many of these children present with symptoms similar to those of anxiety and depression, but these are complex cases that require a comprehensive and individualized approach. I use an evidence-based approach to my practice"
     ]
    },
    {
     "name": "stdout",
     "output_type": "stream",
     "text": [
      " Paola Gómez, I am a doctor of psychology and a clinical psychologist. I have been working with children and teenagers for over 10 years, and I have developed a strong interest in working with children who have experienced trauma. My clinical experience has shown me that many of these children present with symptoms similar to those of anxiety and depression, but these are complex cases that require a comprehensive and individualized approach. I use an evidence-based approach to my practice,"
     ]
    },
    {
     "name": "stdout",
     "output_type": "stream",
     "text": [
      " Paola Gómez, I am a doctor of psychology and a clinical psychologist. I have been working with children and teenagers for over 10 years, and I have developed a strong interest in working with children who have experienced trauma. My clinical experience has shown me that many of these children present with symptoms similar to those of anxiety and depression, but these are complex cases that require a comprehensive and individualized approach. I use an evidence-based approach to my practice, which"
     ]
    },
    {
     "name": "stdout",
     "output_type": "stream",
     "text": [
      " Paola Gómez, I am a doctor of psychology and a clinical psychologist. I have been working with children and teenagers for over 10 years, and I have developed a strong interest in working with children who have experienced trauma. My clinical experience has shown me that many of these children present with symptoms similar to those of anxiety and depression, but these are complex cases that require a comprehensive and individualized approach. I use an evidence-based approach to my practice, which means"
     ]
    },
    {
     "name": "stdout",
     "output_type": "stream",
     "text": [
      " Paola Gómez, I am a doctor of psychology and a clinical psychologist. I have been working with children and teenagers for over 10 years, and I have developed a strong interest in working with children who have experienced trauma. My clinical experience has shown me that many of these children present with symptoms similar to those of anxiety and depression, but these are complex cases that require a comprehensive and individualized approach. I use an evidence-based approach to my practice, which means that"
     ]
    },
    {
     "name": "stdout",
     "output_type": "stream",
     "text": [
      " Paola Gómez, I am a doctor of psychology and a clinical psychologist. I have been working with children and teenagers for over 10 years, and I have developed a strong interest in working with children who have experienced trauma. My clinical experience has shown me that many of these children present with symptoms similar to those of anxiety and depression, but these are complex cases that require a comprehensive and individualized approach. I use an evidence-based approach to my practice, which means that I"
     ]
    },
    {
     "name": "stdout",
     "output_type": "stream",
     "text": [
      " Paola Gómez, I am a doctor of psychology and a clinical psychologist. I have been working with children and teenagers for over 10 years, and I have developed a strong interest in working with children who have experienced trauma. My clinical experience has shown me that many of these children present with symptoms similar to those of anxiety and depression, but these are complex cases that require a comprehensive and individualized approach. I use an evidence-based approach to my practice, which means that I draw"
     ]
    },
    {
     "name": "stdout",
     "output_type": "stream",
     "text": [
      " Paola Gómez, I am a doctor of psychology and a clinical psychologist. I have been working with children and teenagers for over 10 years, and I have developed a strong interest in working with children who have experienced trauma. My clinical experience has shown me that many of these children present with symptoms similar to those of anxiety and depression, but these are complex cases that require a comprehensive and individualized approach. I use an evidence-based approach to my practice, which means that I draw on"
     ]
    },
    {
     "name": "stdout",
     "output_type": "stream",
     "text": [
      " Paola Gómez, I am a doctor of psychology and a clinical psychologist. I have been working with children and teenagers for over 10 years, and I have developed a strong interest in working with children who have experienced trauma. My clinical experience has shown me that many of these children present with symptoms similar to those of anxiety and depression, but these are complex cases that require a comprehensive and individualized approach. I use an evidence-based approach to my practice, which means that I draw on the"
     ]
    },
    {
     "name": "stdout",
     "output_type": "stream",
     "text": [
      " Paola Gómez, I am a doctor of psychology and a clinical psychologist. I have been working with children and teenagers for over 10 years, and I have developed a strong interest in working with children who have experienced trauma. My clinical experience has shown me that many of these children present with symptoms similar to those of anxiety and depression, but these are complex cases that require a comprehensive and individualized approach. I use an evidence-based approach to my practice, which means that I draw on the latest"
     ]
    },
    {
     "name": "stdout",
     "output_type": "stream",
     "text": [
      " Paola Gómez, I am a doctor of psychology and a clinical psychologist. I have been working with children and teenagers for over 10 years, and I have developed a strong interest in working with children who have experienced trauma. My clinical experience has shown me that many of these children present with symptoms similar to those of anxiety and depression, but these are complex cases that require a comprehensive and individualized approach. I use an evidence-based approach to my practice, which means that I draw on the latest research"
     ]
    },
    {
     "name": "stdout",
     "output_type": "stream",
     "text": [
      " Paola Gómez, I am a doctor of psychology and a clinical psychologist. I have been working with children and teenagers for over 10 years, and I have developed a strong interest in working with children who have experienced trauma. My clinical experience has shown me that many of these children present with symptoms similar to those of anxiety and depression, but these are complex cases that require a comprehensive and individualized approach. I use an evidence-based approach to my practice, which means that I draw on the latest research in"
     ]
    },
    {
     "name": "stdout",
     "output_type": "stream",
     "text": [
      " Paola Gómez, I am a doctor of psychology and a clinical psychologist. I have been working with children and teenagers for over 10 years, and I have developed a strong interest in working with children who have experienced trauma. My clinical experience has shown me that many of these children present with symptoms similar to those of anxiety and depression, but these are complex cases that require a comprehensive and individualized approach. I use an evidence-based approach to my practice, which means that I draw on the latest research in psychology"
     ]
    },
    {
     "name": "stdout",
     "output_type": "stream",
     "text": [
      " Paola Gómez, I am a doctor of psychology and a clinical psychologist. I have been working with children and teenagers for over 10 years, and I have developed a strong interest in working with children who have experienced trauma. My clinical experience has shown me that many of these children present with symptoms similar to those of anxiety and depression, but these are complex cases that require a comprehensive and individualized approach. I use an evidence-based approach to my practice, which means that I draw on the latest research in psychology to"
     ]
    },
    {
     "name": "stdout",
     "output_type": "stream",
     "text": [
      " Paola Gómez, I am a doctor of psychology and a clinical psychologist. I have been working with children and teenagers for over 10 years, and I have developed a strong interest in working with children who have experienced trauma. My clinical experience has shown me that many of these children present with symptoms similar to those of anxiety and depression, but these are complex cases that require a comprehensive and individualized approach. I use an evidence-based approach to my practice, which means that I draw on the latest research in psychology to inform"
     ]
    },
    {
     "name": "stdout",
     "output_type": "stream",
     "text": [
      " Paola Gómez, I am a doctor of psychology and a clinical psychologist. I have been working with children and teenagers for over 10 years, and I have developed a strong interest in working with children who have experienced trauma. My clinical experience has shown me that many of these children present with symptoms similar to those of anxiety and depression, but these are complex cases that require a comprehensive and individualized approach. I use an evidence-based approach to my practice, which means that I draw on the latest research in psychology to inform my"
     ]
    },
    {
     "name": "stdout",
     "output_type": "stream",
     "text": [
      " Paola Gómez, I am a doctor of psychology and a clinical psychologist. I have been working with children and teenagers for over 10 years, and I have developed a strong interest in working with children who have experienced trauma. My clinical experience has shown me that many of these children present with symptoms similar to those of anxiety and depression, but these are complex cases that require a comprehensive and individualized approach. I use an evidence-based approach to my practice, which means that I draw on the latest research in psychology to inform my work"
     ]
    },
    {
     "name": "stdout",
     "output_type": "stream",
     "text": [
      " Paola Gómez, I am a doctor of psychology and a clinical psychologist. I have been working with children and teenagers for over 10 years, and I have developed a strong interest in working with children who have experienced trauma. My clinical experience has shown me that many of these children present with symptoms similar to those of anxiety and depression, but these are complex cases that require a comprehensive and individualized approach. I use an evidence-based approach to my practice, which means that I draw on the latest research in psychology to inform my work."
     ]
    },
    {
     "name": "stdout",
     "output_type": "stream",
     "text": [
      " Paola Gómez, I am a doctor of psychology and a clinical psychologist. I have been working with children and teenagers for over 10 years, and I have developed a strong interest in working with children who have experienced trauma. My clinical experience has shown me that many of these children present with symptoms similar to those of anxiety and depression, but these are complex cases that require a comprehensive and individualized approach. I use an evidence-based approach to my practice, which means that I draw on the latest research in psychology to inform my work. This"
     ]
    },
    {
     "name": "stdout",
     "output_type": "stream",
     "text": [
      " Paola Gómez, I am a doctor of psychology and a clinical psychologist. I have been working with children and teenagers for over 10 years, and I have developed a strong interest in working with children who have experienced trauma. My clinical experience has shown me that many of these children present with symptoms similar to those of anxiety and depression, but these are complex cases that require a comprehensive and individualized approach. I use an evidence-based approach to my practice, which means that I draw on the latest research in psychology to inform my work. This approach"
     ]
    },
    {
     "name": "stdout",
     "output_type": "stream",
     "text": [
      " Paola Gómez, I am a doctor of psychology and a clinical psychologist. I have been working with children and teenagers for over 10 years, and I have developed a strong interest in working with children who have experienced trauma. My clinical experience has shown me that many of these children present with symptoms similar to those of anxiety and depression, but these are complex cases that require a comprehensive and individualized approach. I use an evidence-based approach to my practice, which means that I draw on the latest research in psychology to inform my work. This approach includes"
     ]
    },
    {
     "name": "stdout",
     "output_type": "stream",
     "text": [
      " Paola Gómez, I am a doctor of psychology and a clinical psychologist. I have been working with children and teenagers for over 10 years, and I have developed a strong interest in working with children who have experienced trauma. My clinical experience has shown me that many of these children present with symptoms similar to those of anxiety and depression, but these are complex cases that require a comprehensive and individualized approach. I use an evidence-based approach to my practice, which means that I draw on the latest research in psychology to inform my work. This approach includes cognitive"
     ]
    },
    {
     "name": "stdout",
     "output_type": "stream",
     "text": [
      " Paola Gómez, I am a doctor of psychology and a clinical psychologist. I have been working with children and teenagers for over 10 years, and I have developed a strong interest in working with children who have experienced trauma. My clinical experience has shown me that many of these children present with symptoms similar to those of anxiety and depression, but these are complex cases that require a comprehensive and individualized approach. I use an evidence-based approach to my practice, which means that I draw on the latest research in psychology to inform my work. This approach includes cognitive-be"
     ]
    },
    {
     "name": "stdout",
     "output_type": "stream",
     "text": [
      " Paola Gómez, I am a doctor of psychology and a clinical psychologist. I have been working with children and teenagers for over 10 years, and I have developed a strong interest in working with children who have experienced trauma. My clinical experience has shown me that many of these children present with symptoms similar to those of anxiety and depression, but these are complex cases that require a comprehensive and individualized approach. I use an evidence-based approach to my practice, which means that I draw on the latest research in psychology to inform my work. This approach includes cognitive-beh"
     ]
    },
    {
     "name": "stdout",
     "output_type": "stream",
     "text": [
      " Paola Gómez, I am a doctor of psychology and a clinical psychologist. I have been working with children and teenagers for over 10 years, and I have developed a strong interest in working with children who have experienced trauma. My clinical experience has shown me that many of these children present with symptoms similar to those of anxiety and depression, but these are complex cases that require a comprehensive and individualized approach. I use an evidence-based approach to my practice, which means that I draw on the latest research in psychology to inform my work. This approach includes cognitive-behavior"
     ]
    },
    {
     "name": "stdout",
     "output_type": "stream",
     "text": [
      " Paola Gómez, I am a doctor of psychology and a clinical psychologist. I have been working with children and teenagers for over 10 years, and I have developed a strong interest in working with children who have experienced trauma. My clinical experience has shown me that many of these children present with symptoms similar to those of anxiety and depression, but these are complex cases that require a comprehensive and individualized approach. I use an evidence-based approach to my practice, which means that I draw on the latest research in psychology to inform my work. This approach includes cognitive-behavioral"
     ]
    },
    {
     "name": "stdout",
     "output_type": "stream",
     "text": [
      " Paola Gómez, I am a doctor of psychology and a clinical psychologist. I have been working with children and teenagers for over 10 years, and I have developed a strong interest in working with children who have experienced trauma. My clinical experience has shown me that many of these children present with symptoms similar to those of anxiety and depression, but these are complex cases that require a comprehensive and individualized approach. I use an evidence-based approach to my practice, which means that I draw on the latest research in psychology to inform my work. This approach includes cognitive-behavioral therapy"
     ]
    },
    {
     "name": "stdout",
     "output_type": "stream",
     "text": [
      " Paola Gómez, I am a doctor of psychology and a clinical psychologist. I have been working with children and teenagers for over 10 years, and I have developed a strong interest in working with children who have experienced trauma. My clinical experience has shown me that many of these children present with symptoms similar to those of anxiety and depression, but these are complex cases that require a comprehensive and individualized approach. I use an evidence-based approach to my practice, which means that I draw on the latest research in psychology to inform my work. This approach includes cognitive-behavioral therapy ("
     ]
    },
    {
     "name": "stdout",
     "output_type": "stream",
     "text": [
      " Paola Gómez, I am a doctor of psychology and a clinical psychologist. I have been working with children and teenagers for over 10 years, and I have developed a strong interest in working with children who have experienced trauma. My clinical experience has shown me that many of these children present with symptoms similar to those of anxiety and depression, but these are complex cases that require a comprehensive and individualized approach. I use an evidence-based approach to my practice, which means that I draw on the latest research in psychology to inform my work. This approach includes cognitive-behavioral therapy (CB"
     ]
    },
    {
     "name": "stdout",
     "output_type": "stream",
     "text": [
      " Paola Gómez, I am a doctor of psychology and a clinical psychologist. I have been working with children and teenagers for over 10 years, and I have developed a strong interest in working with children who have experienced trauma. My clinical experience has shown me that many of these children present with symptoms similar to those of anxiety and depression, but these are complex cases that require a comprehensive and individualized approach. I use an evidence-based approach to my practice, which means that I draw on the latest research in psychology to inform my work. This approach includes cognitive-behavioral therapy (CBT"
     ]
    },
    {
     "name": "stdout",
     "output_type": "stream",
     "text": [
      " Paola Gómez, I am a doctor of psychology and a clinical psychologist. I have been working with children and teenagers for over 10 years, and I have developed a strong interest in working with children who have experienced trauma. My clinical experience has shown me that many of these children present with symptoms similar to those of anxiety and depression, but these are complex cases that require a comprehensive and individualized approach. I use an evidence-based approach to my practice, which means that I draw on the latest research in psychology to inform my work. This approach includes cognitive-behavioral therapy (CBT),"
     ]
    },
    {
     "name": "stdout",
     "output_type": "stream",
     "text": [
      " Paola Gómez, I am a doctor of psychology and a clinical psychologist. I have been working with children and teenagers for over 10 years, and I have developed a strong interest in working with children who have experienced trauma. My clinical experience has shown me that many of these children present with symptoms similar to those of anxiety and depression, but these are complex cases that require a comprehensive and individualized approach. I use an evidence-based approach to my practice, which means that I draw on the latest research in psychology to inform my work. This approach includes cognitive-behavioral therapy (CBT), trauma"
     ]
    },
    {
     "name": "stdout",
     "output_type": "stream",
     "text": [
      " Paola Gómez, I am a doctor of psychology and a clinical psychologist. I have been working with children and teenagers for over 10 years, and I have developed a strong interest in working with children who have experienced trauma. My clinical experience has shown me that many of these children present with symptoms similar to those of anxiety and depression, but these are complex cases that require a comprehensive and individualized approach. I use an evidence-based approach to my practice, which means that I draw on the latest research in psychology to inform my work. This approach includes cognitive-behavioral therapy (CBT), trauma-in"
     ]
    },
    {
     "name": "stdout",
     "output_type": "stream",
     "text": [
      " Paola Gómez, I am a doctor of psychology and a clinical psychologist. I have been working with children and teenagers for over 10 years, and I have developed a strong interest in working with children who have experienced trauma. My clinical experience has shown me that many of these children present with symptoms similar to those of anxiety and depression, but these are complex cases that require a comprehensive and individualized approach. I use an evidence-based approach to my practice, which means that I draw on the latest research in psychology to inform my work. This approach includes cognitive-behavioral therapy (CBT), trauma-informed"
     ]
    },
    {
     "name": "stdout",
     "output_type": "stream",
     "text": [
      " Paola Gómez, I am a doctor of psychology and a clinical psychologist. I have been working with children and teenagers for over 10 years, and I have developed a strong interest in working with children who have experienced trauma. My clinical experience has shown me that many of these children present with symptoms similar to those of anxiety and depression, but these are complex cases that require a comprehensive and individualized approach. I use an evidence-based approach to my practice, which means that I draw on the latest research in psychology to inform my work. This approach includes cognitive-behavioral therapy (CBT), trauma-informed care"
     ]
    },
    {
     "name": "stdout",
     "output_type": "stream",
     "text": [
      " Paola Gómez, I am a doctor of psychology and a clinical psychologist. I have been working with children and teenagers for over 10 years, and I have developed a strong interest in working with children who have experienced trauma. My clinical experience has shown me that many of these children present with symptoms similar to those of anxiety and depression, but these are complex cases that require a comprehensive and individualized approach. I use an evidence-based approach to my practice, which means that I draw on the latest research in psychology to inform my work. This approach includes cognitive-behavioral therapy (CBT), trauma-informed care,"
     ]
    },
    {
     "name": "stdout",
     "output_type": "stream",
     "text": [
      " Paola Gómez, I am a doctor of psychology and a clinical psychologist. I have been working with children and teenagers for over 10 years, and I have developed a strong interest in working with children who have experienced trauma. My clinical experience has shown me that many of these children present with symptoms similar to those of anxiety and depression, but these are complex cases that require a comprehensive and individualized approach. I use an evidence-based approach to my practice, which means that I draw on the latest research in psychology to inform my work. This approach includes cognitive-behavioral therapy (CBT), trauma-informed care, and"
     ]
    },
    {
     "name": "stdout",
     "output_type": "stream",
     "text": [
      "\n",
      "\n",
      "Prompt: The capital of France is\n",
      "Generated text: "
     ]
    },
    {
     "name": "stdout",
     "output_type": "stream",
     "text": [
      " located"
     ]
    },
    {
     "name": "stdout",
     "output_type": "stream",
     "text": [
      " located in"
     ]
    },
    {
     "name": "stdout",
     "output_type": "stream",
     "text": [
      " located in the"
     ]
    },
    {
     "name": "stdout",
     "output_type": "stream",
     "text": [
      " located in the center"
     ]
    },
    {
     "name": "stdout",
     "output_type": "stream",
     "text": [
      " located in the center of"
     ]
    },
    {
     "name": "stdout",
     "output_type": "stream",
     "text": [
      " located in the center of the"
     ]
    },
    {
     "name": "stdout",
     "output_type": "stream",
     "text": [
      " located in the center of the country"
     ]
    },
    {
     "name": "stdout",
     "output_type": "stream",
     "text": [
      " located in the center of the country,"
     ]
    },
    {
     "name": "stdout",
     "output_type": "stream",
     "text": [
      " located in the center of the country, on"
     ]
    },
    {
     "name": "stdout",
     "output_type": "stream",
     "text": [
      " located in the center of the country, on the"
     ]
    },
    {
     "name": "stdout",
     "output_type": "stream",
     "text": [
      " located in the center of the country, on the Se"
     ]
    },
    {
     "name": "stdout",
     "output_type": "stream",
     "text": [
      " located in the center of the country, on the Seine"
     ]
    },
    {
     "name": "stdout",
     "output_type": "stream",
     "text": [
      " located in the center of the country, on the Seine River"
     ]
    },
    {
     "name": "stdout",
     "output_type": "stream",
     "text": [
      " located in the center of the country, on the Seine River."
     ]
    },
    {
     "name": "stdout",
     "output_type": "stream",
     "text": [
      " located in the center of the country, on the Seine River. Paris"
     ]
    },
    {
     "name": "stdout",
     "output_type": "stream",
     "text": [
      " located in the center of the country, on the Seine River. Paris has"
     ]
    },
    {
     "name": "stdout",
     "output_type": "stream",
     "text": [
      " located in the center of the country, on the Seine River. Paris has been"
     ]
    },
    {
     "name": "stdout",
     "output_type": "stream",
     "text": [
      " located in the center of the country, on the Seine River. Paris has been a"
     ]
    },
    {
     "name": "stdout",
     "output_type": "stream",
     "text": [
      " located in the center of the country, on the Seine River. Paris has been a popular"
     ]
    },
    {
     "name": "stdout",
     "output_type": "stream",
     "text": [
      " located in the center of the country, on the Seine River. Paris has been a popular tourist"
     ]
    },
    {
     "name": "stdout",
     "output_type": "stream",
     "text": [
      " located in the center of the country, on the Seine River. Paris has been a popular tourist destination"
     ]
    },
    {
     "name": "stdout",
     "output_type": "stream",
     "text": [
      " located in the center of the country, on the Seine River. Paris has been a popular tourist destination for"
     ]
    },
    {
     "name": "stdout",
     "output_type": "stream",
     "text": [
      " located in the center of the country, on the Seine River. Paris has been a popular tourist destination for centuries"
     ]
    },
    {
     "name": "stdout",
     "output_type": "stream",
     "text": [
      " located in the center of the country, on the Seine River. Paris has been a popular tourist destination for centuries,"
     ]
    },
    {
     "name": "stdout",
     "output_type": "stream",
     "text": [
      " located in the center of the country, on the Seine River. Paris has been a popular tourist destination for centuries, with"
     ]
    },
    {
     "name": "stdout",
     "output_type": "stream",
     "text": [
      " located in the center of the country, on the Seine River. Paris has been a popular tourist destination for centuries, with millions"
     ]
    },
    {
     "name": "stdout",
     "output_type": "stream",
     "text": [
      " located in the center of the country, on the Seine River. Paris has been a popular tourist destination for centuries, with millions of"
     ]
    },
    {
     "name": "stdout",
     "output_type": "stream",
     "text": [
      " located in the center of the country, on the Seine River. Paris has been a popular tourist destination for centuries, with millions of visitors"
     ]
    },
    {
     "name": "stdout",
     "output_type": "stream",
     "text": [
      " located in the center of the country, on the Seine River. Paris has been a popular tourist destination for centuries, with millions of visitors each"
     ]
    },
    {
     "name": "stdout",
     "output_type": "stream",
     "text": [
      " located in the center of the country, on the Seine River. Paris has been a popular tourist destination for centuries, with millions of visitors each year"
     ]
    },
    {
     "name": "stdout",
     "output_type": "stream",
     "text": [
      " located in the center of the country, on the Seine River. Paris has been a popular tourist destination for centuries, with millions of visitors each year."
     ]
    },
    {
     "name": "stdout",
     "output_type": "stream",
     "text": [
      " located in the center of the country, on the Seine River. Paris has been a popular tourist destination for centuries, with millions of visitors each year. The"
     ]
    },
    {
     "name": "stdout",
     "output_type": "stream",
     "text": [
      " located in the center of the country, on the Seine River. Paris has been a popular tourist destination for centuries, with millions of visitors each year. The city"
     ]
    },
    {
     "name": "stdout",
     "output_type": "stream",
     "text": [
      " located in the center of the country, on the Seine River. Paris has been a popular tourist destination for centuries, with millions of visitors each year. The city is"
     ]
    },
    {
     "name": "stdout",
     "output_type": "stream",
     "text": [
      " located in the center of the country, on the Seine River. Paris has been a popular tourist destination for centuries, with millions of visitors each year. The city is known"
     ]
    },
    {
     "name": "stdout",
     "output_type": "stream",
     "text": [
      " located in the center of the country, on the Seine River. Paris has been a popular tourist destination for centuries, with millions of visitors each year. The city is known for"
     ]
    },
    {
     "name": "stdout",
     "output_type": "stream",
     "text": [
      " located in the center of the country, on the Seine River. Paris has been a popular tourist destination for centuries, with millions of visitors each year. The city is known for its"
     ]
    },
    {
     "name": "stdout",
     "output_type": "stream",
     "text": [
      " located in the center of the country, on the Seine River. Paris has been a popular tourist destination for centuries, with millions of visitors each year. The city is known for its beautiful"
     ]
    },
    {
     "name": "stdout",
     "output_type": "stream",
     "text": [
      " located in the center of the country, on the Seine River. Paris has been a popular tourist destination for centuries, with millions of visitors each year. The city is known for its beautiful architecture"
     ]
    },
    {
     "name": "stdout",
     "output_type": "stream",
     "text": [
      " located in the center of the country, on the Seine River. Paris has been a popular tourist destination for centuries, with millions of visitors each year. The city is known for its beautiful architecture,"
     ]
    },
    {
     "name": "stdout",
     "output_type": "stream",
     "text": [
      " located in the center of the country, on the Seine River. Paris has been a popular tourist destination for centuries, with millions of visitors each year. The city is known for its beautiful architecture, famous"
     ]
    },
    {
     "name": "stdout",
     "output_type": "stream",
     "text": [
      " located in the center of the country, on the Seine River. Paris has been a popular tourist destination for centuries, with millions of visitors each year. The city is known for its beautiful architecture, famous landmarks"
     ]
    },
    {
     "name": "stdout",
     "output_type": "stream",
     "text": [
      " located in the center of the country, on the Seine River. Paris has been a popular tourist destination for centuries, with millions of visitors each year. The city is known for its beautiful architecture, famous landmarks,"
     ]
    },
    {
     "name": "stdout",
     "output_type": "stream",
     "text": [
      " located in the center of the country, on the Seine River. Paris has been a popular tourist destination for centuries, with millions of visitors each year. The city is known for its beautiful architecture, famous landmarks, and"
     ]
    },
    {
     "name": "stdout",
     "output_type": "stream",
     "text": [
      " located in the center of the country, on the Seine River. Paris has been a popular tourist destination for centuries, with millions of visitors each year. The city is known for its beautiful architecture, famous landmarks, and rich"
     ]
    },
    {
     "name": "stdout",
     "output_type": "stream",
     "text": [
      " located in the center of the country, on the Seine River. Paris has been a popular tourist destination for centuries, with millions of visitors each year. The city is known for its beautiful architecture, famous landmarks, and rich history"
     ]
    },
    {
     "name": "stdout",
     "output_type": "stream",
     "text": [
      " located in the center of the country, on the Seine River. Paris has been a popular tourist destination for centuries, with millions of visitors each year. The city is known for its beautiful architecture, famous landmarks, and rich history.\n"
     ]
    },
    {
     "name": "stdout",
     "output_type": "stream",
     "text": [
      " located in the center of the country, on the Seine River. Paris has been a popular tourist destination for centuries, with millions of visitors each year. The city is known for its beautiful architecture, famous landmarks, and rich history.\n",
      "Paris"
     ]
    },
    {
     "name": "stdout",
     "output_type": "stream",
     "text": [
      " located in the center of the country, on the Seine River. Paris has been a popular tourist destination for centuries, with millions of visitors each year. The city is known for its beautiful architecture, famous landmarks, and rich history.\n",
      "Paris is"
     ]
    },
    {
     "name": "stdout",
     "output_type": "stream",
     "text": [
      " located in the center of the country, on the Seine River. Paris has been a popular tourist destination for centuries, with millions of visitors each year. The city is known for its beautiful architecture, famous landmarks, and rich history.\n",
      "Paris is often"
     ]
    },
    {
     "name": "stdout",
     "output_type": "stream",
     "text": [
      " located in the center of the country, on the Seine River. Paris has been a popular tourist destination for centuries, with millions of visitors each year. The city is known for its beautiful architecture, famous landmarks, and rich history.\n",
      "Paris is often referred"
     ]
    },
    {
     "name": "stdout",
     "output_type": "stream",
     "text": [
      " located in the center of the country, on the Seine River. Paris has been a popular tourist destination for centuries, with millions of visitors each year. The city is known for its beautiful architecture, famous landmarks, and rich history.\n",
      "Paris is often referred to"
     ]
    },
    {
     "name": "stdout",
     "output_type": "stream",
     "text": [
      " located in the center of the country, on the Seine River. Paris has been a popular tourist destination for centuries, with millions of visitors each year. The city is known for its beautiful architecture, famous landmarks, and rich history.\n",
      "Paris is often referred to as"
     ]
    },
    {
     "name": "stdout",
     "output_type": "stream",
     "text": [
      " located in the center of the country, on the Seine River. Paris has been a popular tourist destination for centuries, with millions of visitors each year. The city is known for its beautiful architecture, famous landmarks, and rich history.\n",
      "Paris is often referred to as the"
     ]
    },
    {
     "name": "stdout",
     "output_type": "stream",
     "text": [
      " located in the center of the country, on the Seine River. Paris has been a popular tourist destination for centuries, with millions of visitors each year. The city is known for its beautiful architecture, famous landmarks, and rich history.\n",
      "Paris is often referred to as the \""
     ]
    },
    {
     "name": "stdout",
     "output_type": "stream",
     "text": [
      " located in the center of the country, on the Seine River. Paris has been a popular tourist destination for centuries, with millions of visitors each year. The city is known for its beautiful architecture, famous landmarks, and rich history.\n",
      "Paris is often referred to as the \"City"
     ]
    },
    {
     "name": "stdout",
     "output_type": "stream",
     "text": [
      " located in the center of the country, on the Seine River. Paris has been a popular tourist destination for centuries, with millions of visitors each year. The city is known for its beautiful architecture, famous landmarks, and rich history.\n",
      "Paris is often referred to as the \"City of"
     ]
    },
    {
     "name": "stdout",
     "output_type": "stream",
     "text": [
      " located in the center of the country, on the Seine River. Paris has been a popular tourist destination for centuries, with millions of visitors each year. The city is known for its beautiful architecture, famous landmarks, and rich history.\n",
      "Paris is often referred to as the \"City of Light"
     ]
    },
    {
     "name": "stdout",
     "output_type": "stream",
     "text": [
      " located in the center of the country, on the Seine River. Paris has been a popular tourist destination for centuries, with millions of visitors each year. The city is known for its beautiful architecture, famous landmarks, and rich history.\n",
      "Paris is often referred to as the \"City of Light\""
     ]
    },
    {
     "name": "stdout",
     "output_type": "stream",
     "text": [
      " located in the center of the country, on the Seine River. Paris has been a popular tourist destination for centuries, with millions of visitors each year. The city is known for its beautiful architecture, famous landmarks, and rich history.\n",
      "Paris is often referred to as the \"City of Light\" due"
     ]
    },
    {
     "name": "stdout",
     "output_type": "stream",
     "text": [
      " located in the center of the country, on the Seine River. Paris has been a popular tourist destination for centuries, with millions of visitors each year. The city is known for its beautiful architecture, famous landmarks, and rich history.\n",
      "Paris is often referred to as the \"City of Light\" due to"
     ]
    },
    {
     "name": "stdout",
     "output_type": "stream",
     "text": [
      " located in the center of the country, on the Seine River. Paris has been a popular tourist destination for centuries, with millions of visitors each year. The city is known for its beautiful architecture, famous landmarks, and rich history.\n",
      "Paris is often referred to as the \"City of Light\" due to its"
     ]
    },
    {
     "name": "stdout",
     "output_type": "stream",
     "text": [
      " located in the center of the country, on the Seine River. Paris has been a popular tourist destination for centuries, with millions of visitors each year. The city is known for its beautiful architecture, famous landmarks, and rich history.\n",
      "Paris is often referred to as the \"City of Light\" due to its association"
     ]
    },
    {
     "name": "stdout",
     "output_type": "stream",
     "text": [
      " located in the center of the country, on the Seine River. Paris has been a popular tourist destination for centuries, with millions of visitors each year. The city is known for its beautiful architecture, famous landmarks, and rich history.\n",
      "Paris is often referred to as the \"City of Light\" due to its association with"
     ]
    },
    {
     "name": "stdout",
     "output_type": "stream",
     "text": [
      " located in the center of the country, on the Seine River. Paris has been a popular tourist destination for centuries, with millions of visitors each year. The city is known for its beautiful architecture, famous landmarks, and rich history.\n",
      "Paris is often referred to as the \"City of Light\" due to its association with the"
     ]
    },
    {
     "name": "stdout",
     "output_type": "stream",
     "text": [
      " located in the center of the country, on the Seine River. Paris has been a popular tourist destination for centuries, with millions of visitors each year. The city is known for its beautiful architecture, famous landmarks, and rich history.\n",
      "Paris is often referred to as the \"City of Light\" due to its association with the Enlightenment"
     ]
    },
    {
     "name": "stdout",
     "output_type": "stream",
     "text": [
      " located in the center of the country, on the Seine River. Paris has been a popular tourist destination for centuries, with millions of visitors each year. The city is known for its beautiful architecture, famous landmarks, and rich history.\n",
      "Paris is often referred to as the \"City of Light\" due to its association with the Enlightenment and"
     ]
    },
    {
     "name": "stdout",
     "output_type": "stream",
     "text": [
      " located in the center of the country, on the Seine River. Paris has been a popular tourist destination for centuries, with millions of visitors each year. The city is known for its beautiful architecture, famous landmarks, and rich history.\n",
      "Paris is often referred to as the \"City of Light\" due to its association with the Enlightenment and the"
     ]
    },
    {
     "name": "stdout",
     "output_type": "stream",
     "text": [
      " located in the center of the country, on the Seine River. Paris has been a popular tourist destination for centuries, with millions of visitors each year. The city is known for its beautiful architecture, famous landmarks, and rich history.\n",
      "Paris is often referred to as the \"City of Light\" due to its association with the Enlightenment and the Age"
     ]
    },
    {
     "name": "stdout",
     "output_type": "stream",
     "text": [
      " located in the center of the country, on the Seine River. Paris has been a popular tourist destination for centuries, with millions of visitors each year. The city is known for its beautiful architecture, famous landmarks, and rich history.\n",
      "Paris is often referred to as the \"City of Light\" due to its association with the Enlightenment and the Age of"
     ]
    },
    {
     "name": "stdout",
     "output_type": "stream",
     "text": [
      " located in the center of the country, on the Seine River. Paris has been a popular tourist destination for centuries, with millions of visitors each year. The city is known for its beautiful architecture, famous landmarks, and rich history.\n",
      "Paris is often referred to as the \"City of Light\" due to its association with the Enlightenment and the Age of Reason"
     ]
    },
    {
     "name": "stdout",
     "output_type": "stream",
     "text": [
      " located in the center of the country, on the Seine River. Paris has been a popular tourist destination for centuries, with millions of visitors each year. The city is known for its beautiful architecture, famous landmarks, and rich history.\n",
      "Paris is often referred to as the \"City of Light\" due to its association with the Enlightenment and the Age of Reason."
     ]
    },
    {
     "name": "stdout",
     "output_type": "stream",
     "text": [
      " located in the center of the country, on the Seine River. Paris has been a popular tourist destination for centuries, with millions of visitors each year. The city is known for its beautiful architecture, famous landmarks, and rich history.\n",
      "Paris is often referred to as the \"City of Light\" due to its association with the Enlightenment and the Age of Reason. The"
     ]
    },
    {
     "name": "stdout",
     "output_type": "stream",
     "text": [
      " located in the center of the country, on the Seine River. Paris has been a popular tourist destination for centuries, with millions of visitors each year. The city is known for its beautiful architecture, famous landmarks, and rich history.\n",
      "Paris is often referred to as the \"City of Light\" due to its association with the Enlightenment and the Age of Reason. The city"
     ]
    },
    {
     "name": "stdout",
     "output_type": "stream",
     "text": [
      " located in the center of the country, on the Seine River. Paris has been a popular tourist destination for centuries, with millions of visitors each year. The city is known for its beautiful architecture, famous landmarks, and rich history.\n",
      "Paris is often referred to as the \"City of Light\" due to its association with the Enlightenment and the Age of Reason. The city is"
     ]
    },
    {
     "name": "stdout",
     "output_type": "stream",
     "text": [
      " located in the center of the country, on the Seine River. Paris has been a popular tourist destination for centuries, with millions of visitors each year. The city is known for its beautiful architecture, famous landmarks, and rich history.\n",
      "Paris is often referred to as the \"City of Light\" due to its association with the Enlightenment and the Age of Reason. The city is home"
     ]
    },
    {
     "name": "stdout",
     "output_type": "stream",
     "text": [
      " located in the center of the country, on the Seine River. Paris has been a popular tourist destination for centuries, with millions of visitors each year. The city is known for its beautiful architecture, famous landmarks, and rich history.\n",
      "Paris is often referred to as the \"City of Light\" due to its association with the Enlightenment and the Age of Reason. The city is home to"
     ]
    },
    {
     "name": "stdout",
     "output_type": "stream",
     "text": [
      " located in the center of the country, on the Seine River. Paris has been a popular tourist destination for centuries, with millions of visitors each year. The city is known for its beautiful architecture, famous landmarks, and rich history.\n",
      "Paris is often referred to as the \"City of Light\" due to its association with the Enlightenment and the Age of Reason. The city is home to many"
     ]
    },
    {
     "name": "stdout",
     "output_type": "stream",
     "text": [
      " located in the center of the country, on the Seine River. Paris has been a popular tourist destination for centuries, with millions of visitors each year. The city is known for its beautiful architecture, famous landmarks, and rich history.\n",
      "Paris is often referred to as the \"City of Light\" due to its association with the Enlightenment and the Age of Reason. The city is home to many famous"
     ]
    },
    {
     "name": "stdout",
     "output_type": "stream",
     "text": [
      " located in the center of the country, on the Seine River. Paris has been a popular tourist destination for centuries, with millions of visitors each year. The city is known for its beautiful architecture, famous landmarks, and rich history.\n",
      "Paris is often referred to as the \"City of Light\" due to its association with the Enlightenment and the Age of Reason. The city is home to many famous landmarks"
     ]
    },
    {
     "name": "stdout",
     "output_type": "stream",
     "text": [
      " located in the center of the country, on the Seine River. Paris has been a popular tourist destination for centuries, with millions of visitors each year. The city is known for its beautiful architecture, famous landmarks, and rich history.\n",
      "Paris is often referred to as the \"City of Light\" due to its association with the Enlightenment and the Age of Reason. The city is home to many famous landmarks,"
     ]
    },
    {
     "name": "stdout",
     "output_type": "stream",
     "text": [
      " located in the center of the country, on the Seine River. Paris has been a popular tourist destination for centuries, with millions of visitors each year. The city is known for its beautiful architecture, famous landmarks, and rich history.\n",
      "Paris is often referred to as the \"City of Light\" due to its association with the Enlightenment and the Age of Reason. The city is home to many famous landmarks, including"
     ]
    },
    {
     "name": "stdout",
     "output_type": "stream",
     "text": [
      " located in the center of the country, on the Seine River. Paris has been a popular tourist destination for centuries, with millions of visitors each year. The city is known for its beautiful architecture, famous landmarks, and rich history.\n",
      "Paris is often referred to as the \"City of Light\" due to its association with the Enlightenment and the Age of Reason. The city is home to many famous landmarks, including the"
     ]
    },
    {
     "name": "stdout",
     "output_type": "stream",
     "text": [
      " located in the center of the country, on the Seine River. Paris has been a popular tourist destination for centuries, with millions of visitors each year. The city is known for its beautiful architecture, famous landmarks, and rich history.\n",
      "Paris is often referred to as the \"City of Light\" due to its association with the Enlightenment and the Age of Reason. The city is home to many famous landmarks, including the E"
     ]
    },
    {
     "name": "stdout",
     "output_type": "stream",
     "text": [
      " located in the center of the country, on the Seine River. Paris has been a popular tourist destination for centuries, with millions of visitors each year. The city is known for its beautiful architecture, famous landmarks, and rich history.\n",
      "Paris is often referred to as the \"City of Light\" due to its association with the Enlightenment and the Age of Reason. The city is home to many famous landmarks, including the Eiff"
     ]
    },
    {
     "name": "stdout",
     "output_type": "stream",
     "text": [
      " located in the center of the country, on the Seine River. Paris has been a popular tourist destination for centuries, with millions of visitors each year. The city is known for its beautiful architecture, famous landmarks, and rich history.\n",
      "Paris is often referred to as the \"City of Light\" due to its association with the Enlightenment and the Age of Reason. The city is home to many famous landmarks, including the Eiffel"
     ]
    },
    {
     "name": "stdout",
     "output_type": "stream",
     "text": [
      " located in the center of the country, on the Seine River. Paris has been a popular tourist destination for centuries, with millions of visitors each year. The city is known for its beautiful architecture, famous landmarks, and rich history.\n",
      "Paris is often referred to as the \"City of Light\" due to its association with the Enlightenment and the Age of Reason. The city is home to many famous landmarks, including the Eiffel Tower"
     ]
    },
    {
     "name": "stdout",
     "output_type": "stream",
     "text": [
      " located in the center of the country, on the Seine River. Paris has been a popular tourist destination for centuries, with millions of visitors each year. The city is known for its beautiful architecture, famous landmarks, and rich history.\n",
      "Paris is often referred to as the \"City of Light\" due to its association with the Enlightenment and the Age of Reason. The city is home to many famous landmarks, including the Eiffel Tower,"
     ]
    },
    {
     "name": "stdout",
     "output_type": "stream",
     "text": [
      " located in the center of the country, on the Seine River. Paris has been a popular tourist destination for centuries, with millions of visitors each year. The city is known for its beautiful architecture, famous landmarks, and rich history.\n",
      "Paris is often referred to as the \"City of Light\" due to its association with the Enlightenment and the Age of Reason. The city is home to many famous landmarks, including the Eiffel Tower, the"
     ]
    },
    {
     "name": "stdout",
     "output_type": "stream",
     "text": [
      " located in the center of the country, on the Seine River. Paris has been a popular tourist destination for centuries, with millions of visitors each year. The city is known for its beautiful architecture, famous landmarks, and rich history.\n",
      "Paris is often referred to as the \"City of Light\" due to its association with the Enlightenment and the Age of Reason. The city is home to many famous landmarks, including the Eiffel Tower, the Lou"
     ]
    },
    {
     "name": "stdout",
     "output_type": "stream",
     "text": [
      " located in the center of the country, on the Seine River. Paris has been a popular tourist destination for centuries, with millions of visitors each year. The city is known for its beautiful architecture, famous landmarks, and rich history.\n",
      "Paris is often referred to as the \"City of Light\" due to its association with the Enlightenment and the Age of Reason. The city is home to many famous landmarks, including the Eiffel Tower, the Louvre"
     ]
    },
    {
     "name": "stdout",
     "output_type": "stream",
     "text": [
      " located in the center of the country, on the Seine River. Paris has been a popular tourist destination for centuries, with millions of visitors each year. The city is known for its beautiful architecture, famous landmarks, and rich history.\n",
      "Paris is often referred to as the \"City of Light\" due to its association with the Enlightenment and the Age of Reason. The city is home to many famous landmarks, including the Eiffel Tower, the Louvre Museum"
     ]
    },
    {
     "name": "stdout",
     "output_type": "stream",
     "text": [
      " located in the center of the country, on the Seine River. Paris has been a popular tourist destination for centuries, with millions of visitors each year. The city is known for its beautiful architecture, famous landmarks, and rich history.\n",
      "Paris is often referred to as the \"City of Light\" due to its association with the Enlightenment and the Age of Reason. The city is home to many famous landmarks, including the Eiffel Tower, the Louvre Museum,"
     ]
    },
    {
     "name": "stdout",
     "output_type": "stream",
     "text": [
      " located in the center of the country, on the Seine River. Paris has been a popular tourist destination for centuries, with millions of visitors each year. The city is known for its beautiful architecture, famous landmarks, and rich history.\n",
      "Paris is often referred to as the \"City of Light\" due to its association with the Enlightenment and the Age of Reason. The city is home to many famous landmarks, including the Eiffel Tower, the Louvre Museum, and"
     ]
    },
    {
     "name": "stdout",
     "output_type": "stream",
     "text": [
      " located in the center of the country, on the Seine River. Paris has been a popular tourist destination for centuries, with millions of visitors each year. The city is known for its beautiful architecture, famous landmarks, and rich history.\n",
      "Paris is often referred to as the \"City of Light\" due to its association with the Enlightenment and the Age of Reason. The city is home to many famous landmarks, including the Eiffel Tower, the Louvre Museum, and Notre"
     ]
    },
    {
     "name": "stdout",
     "output_type": "stream",
     "text": [
      " located in the center of the country, on the Seine River. Paris has been a popular tourist destination for centuries, with millions of visitors each year. The city is known for its beautiful architecture, famous landmarks, and rich history.\n",
      "Paris is often referred to as the \"City of Light\" due to its association with the Enlightenment and the Age of Reason. The city is home to many famous landmarks, including the Eiffel Tower, the Louvre Museum, and Notre-D"
     ]
    },
    {
     "name": "stdout",
     "output_type": "stream",
     "text": [
      " located in the center of the country, on the Seine River. Paris has been a popular tourist destination for centuries, with millions of visitors each year. The city is known for its beautiful architecture, famous landmarks, and rich history.\n",
      "Paris is often referred to as the \"City of Light\" due to its association with the Enlightenment and the Age of Reason. The city is home to many famous landmarks, including the Eiffel Tower, the Louvre Museum, and Notre-Dame"
     ]
    },
    {
     "name": "stdout",
     "output_type": "stream",
     "text": [
      " located in the center of the country, on the Seine River. Paris has been a popular tourist destination for centuries, with millions of visitors each year. The city is known for its beautiful architecture, famous landmarks, and rich history.\n",
      "Paris is often referred to as the \"City of Light\" due to its association with the Enlightenment and the Age of Reason. The city is home to many famous landmarks, including the Eiffel Tower, the Louvre Museum, and Notre-Dame Cathedral"
     ]
    },
    {
     "name": "stdout",
     "output_type": "stream",
     "text": [
      " located in the center of the country, on the Seine River. Paris has been a popular tourist destination for centuries, with millions of visitors each year. The city is known for its beautiful architecture, famous landmarks, and rich history.\n",
      "Paris is often referred to as the \"City of Light\" due to its association with the Enlightenment and the Age of Reason. The city is home to many famous landmarks, including the Eiffel Tower, the Louvre Museum, and Notre-Dame Cathedral."
     ]
    },
    {
     "name": "stdout",
     "output_type": "stream",
     "text": [
      " located in the center of the country, on the Seine River. Paris has been a popular tourist destination for centuries, with millions of visitors each year. The city is known for its beautiful architecture, famous landmarks, and rich history.\n",
      "Paris is often referred to as the \"City of Light\" due to its association with the Enlightenment and the Age of Reason. The city is home to many famous landmarks, including the Eiffel Tower, the Louvre Museum, and Notre-Dame Cathedral. The"
     ]
    },
    {
     "name": "stdout",
     "output_type": "stream",
     "text": [
      " located in the center of the country, on the Seine River. Paris has been a popular tourist destination for centuries, with millions of visitors each year. The city is known for its beautiful architecture, famous landmarks, and rich history.\n",
      "Paris is often referred to as the \"City of Light\" due to its association with the Enlightenment and the Age of Reason. The city is home to many famous landmarks, including the Eiffel Tower, the Louvre Museum, and Notre-Dame Cathedral. The city"
     ]
    },
    {
     "name": "stdout",
     "output_type": "stream",
     "text": [
      " located in the center of the country, on the Seine River. Paris has been a popular tourist destination for centuries, with millions of visitors each year. The city is known for its beautiful architecture, famous landmarks, and rich history.\n",
      "Paris is often referred to as the \"City of Light\" due to its association with the Enlightenment and the Age of Reason. The city is home to many famous landmarks, including the Eiffel Tower, the Louvre Museum, and Notre-Dame Cathedral. The city is"
     ]
    },
    {
     "name": "stdout",
     "output_type": "stream",
     "text": [
      " located in the center of the country, on the Seine River. Paris has been a popular tourist destination for centuries, with millions of visitors each year. The city is known for its beautiful architecture, famous landmarks, and rich history.\n",
      "Paris is often referred to as the \"City of Light\" due to its association with the Enlightenment and the Age of Reason. The city is home to many famous landmarks, including the Eiffel Tower, the Louvre Museum, and Notre-Dame Cathedral. The city is also"
     ]
    },
    {
     "name": "stdout",
     "output_type": "stream",
     "text": [
      " located in the center of the country, on the Seine River. Paris has been a popular tourist destination for centuries, with millions of visitors each year. The city is known for its beautiful architecture, famous landmarks, and rich history.\n",
      "Paris is often referred to as the \"City of Light\" due to its association with the Enlightenment and the Age of Reason. The city is home to many famous landmarks, including the Eiffel Tower, the Louvre Museum, and Notre-Dame Cathedral. The city is also known"
     ]
    },
    {
     "name": "stdout",
     "output_type": "stream",
     "text": [
      " located in the center of the country, on the Seine River. Paris has been a popular tourist destination for centuries, with millions of visitors each year. The city is known for its beautiful architecture, famous landmarks, and rich history.\n",
      "Paris is often referred to as the \"City of Light\" due to its association with the Enlightenment and the Age of Reason. The city is home to many famous landmarks, including the Eiffel Tower, the Louvre Museum, and Notre-Dame Cathedral. The city is also known for"
     ]
    },
    {
     "name": "stdout",
     "output_type": "stream",
     "text": [
      " located in the center of the country, on the Seine River. Paris has been a popular tourist destination for centuries, with millions of visitors each year. The city is known for its beautiful architecture, famous landmarks, and rich history.\n",
      "Paris is often referred to as the \"City of Light\" due to its association with the Enlightenment and the Age of Reason. The city is home to many famous landmarks, including the Eiffel Tower, the Louvre Museum, and Notre-Dame Cathedral. The city is also known for its"
     ]
    },
    {
     "name": "stdout",
     "output_type": "stream",
     "text": [
      " located in the center of the country, on the Seine River. Paris has been a popular tourist destination for centuries, with millions of visitors each year. The city is known for its beautiful architecture, famous landmarks, and rich history.\n",
      "Paris is often referred to as the \"City of Light\" due to its association with the Enlightenment and the Age of Reason. The city is home to many famous landmarks, including the Eiffel Tower, the Louvre Museum, and Notre-Dame Cathedral. The city is also known for its beautiful"
     ]
    },
    {
     "name": "stdout",
     "output_type": "stream",
     "text": [
      " located in the center of the country, on the Seine River. Paris has been a popular tourist destination for centuries, with millions of visitors each year. The city is known for its beautiful architecture, famous landmarks, and rich history.\n",
      "Paris is often referred to as the \"City of Light\" due to its association with the Enlightenment and the Age of Reason. The city is home to many famous landmarks, including the Eiffel Tower, the Louvre Museum, and Notre-Dame Cathedral. The city is also known for its beautiful gardens"
     ]
    },
    {
     "name": "stdout",
     "output_type": "stream",
     "text": [
      " located in the center of the country, on the Seine River. Paris has been a popular tourist destination for centuries, with millions of visitors each year. The city is known for its beautiful architecture, famous landmarks, and rich history.\n",
      "Paris is often referred to as the \"City of Light\" due to its association with the Enlightenment and the Age of Reason. The city is home to many famous landmarks, including the Eiffel Tower, the Louvre Museum, and Notre-Dame Cathedral. The city is also known for its beautiful gardens,"
     ]
    },
    {
     "name": "stdout",
     "output_type": "stream",
     "text": [
      " located in the center of the country, on the Seine River. Paris has been a popular tourist destination for centuries, with millions of visitors each year. The city is known for its beautiful architecture, famous landmarks, and rich history.\n",
      "Paris is often referred to as the \"City of Light\" due to its association with the Enlightenment and the Age of Reason. The city is home to many famous landmarks, including the Eiffel Tower, the Louvre Museum, and Notre-Dame Cathedral. The city is also known for its beautiful gardens, such"
     ]
    },
    {
     "name": "stdout",
     "output_type": "stream",
     "text": [
      " located in the center of the country, on the Seine River. Paris has been a popular tourist destination for centuries, with millions of visitors each year. The city is known for its beautiful architecture, famous landmarks, and rich history.\n",
      "Paris is often referred to as the \"City of Light\" due to its association with the Enlightenment and the Age of Reason. The city is home to many famous landmarks, including the Eiffel Tower, the Louvre Museum, and Notre-Dame Cathedral. The city is also known for its beautiful gardens, such as"
     ]
    },
    {
     "name": "stdout",
     "output_type": "stream",
     "text": [
      " located in the center of the country, on the Seine River. Paris has been a popular tourist destination for centuries, with millions of visitors each year. The city is known for its beautiful architecture, famous landmarks, and rich history.\n",
      "Paris is often referred to as the \"City of Light\" due to its association with the Enlightenment and the Age of Reason. The city is home to many famous landmarks, including the Eiffel Tower, the Louvre Museum, and Notre-Dame Cathedral. The city is also known for its beautiful gardens, such as the"
     ]
    },
    {
     "name": "stdout",
     "output_type": "stream",
     "text": [
      " located in the center of the country, on the Seine River. Paris has been a popular tourist destination for centuries, with millions of visitors each year. The city is known for its beautiful architecture, famous landmarks, and rich history.\n",
      "Paris is often referred to as the \"City of Light\" due to its association with the Enlightenment and the Age of Reason. The city is home to many famous landmarks, including the Eiffel Tower, the Louvre Museum, and Notre-Dame Cathedral. The city is also known for its beautiful gardens, such as the Luxembourg"
     ]
    },
    {
     "name": "stdout",
     "output_type": "stream",
     "text": [
      " located in the center of the country, on the Seine River. Paris has been a popular tourist destination for centuries, with millions of visitors each year. The city is known for its beautiful architecture, famous landmarks, and rich history.\n",
      "Paris is often referred to as the \"City of Light\" due to its association with the Enlightenment and the Age of Reason. The city is home to many famous landmarks, including the Eiffel Tower, the Louvre Museum, and Notre-Dame Cathedral. The city is also known for its beautiful gardens, such as the Luxembourg Gardens"
     ]
    },
    {
     "name": "stdout",
     "output_type": "stream",
     "text": [
      " located in the center of the country, on the Seine River. Paris has been a popular tourist destination for centuries, with millions of visitors each year. The city is known for its beautiful architecture, famous landmarks, and rich history.\n",
      "Paris is often referred to as the \"City of Light\" due to its association with the Enlightenment and the Age of Reason. The city is home to many famous landmarks, including the Eiffel Tower, the Louvre Museum, and Notre-Dame Cathedral. The city is also known for its beautiful gardens, such as the Luxembourg Gardens and"
     ]
    },
    {
     "name": "stdout",
     "output_type": "stream",
     "text": [
      " located in the center of the country, on the Seine River. Paris has been a popular tourist destination for centuries, with millions of visitors each year. The city is known for its beautiful architecture, famous landmarks, and rich history.\n",
      "Paris is often referred to as the \"City of Light\" due to its association with the Enlightenment and the Age of Reason. The city is home to many famous landmarks, including the Eiffel Tower, the Louvre Museum, and Notre-Dame Cathedral. The city is also known for its beautiful gardens, such as the Luxembourg Gardens and the"
     ]
    },
    {
     "name": "stdout",
     "output_type": "stream",
     "text": [
      " located in the center of the country, on the Seine River. Paris has been a popular tourist destination for centuries, with millions of visitors each year. The city is known for its beautiful architecture, famous landmarks, and rich history.\n",
      "Paris is often referred to as the \"City of Light\" due to its association with the Enlightenment and the Age of Reason. The city is home to many famous landmarks, including the Eiffel Tower, the Louvre Museum, and Notre-Dame Cathedral. The city is also known for its beautiful gardens, such as the Luxembourg Gardens and the Tu"
     ]
    },
    {
     "name": "stdout",
     "output_type": "stream",
     "text": [
      " located in the center of the country, on the Seine River. Paris has been a popular tourist destination for centuries, with millions of visitors each year. The city is known for its beautiful architecture, famous landmarks, and rich history.\n",
      "Paris is often referred to as the \"City of Light\" due to its association with the Enlightenment and the Age of Reason. The city is home to many famous landmarks, including the Eiffel Tower, the Louvre Museum, and Notre-Dame Cathedral. The city is also known for its beautiful gardens, such as the Luxembourg Gardens and the Tuil"
     ]
    },
    {
     "name": "stdout",
     "output_type": "stream",
     "text": [
      " located in the center of the country, on the Seine River. Paris has been a popular tourist destination for centuries, with millions of visitors each year. The city is known for its beautiful architecture, famous landmarks, and rich history.\n",
      "Paris is often referred to as the \"City of Light\" due to its association with the Enlightenment and the Age of Reason. The city is home to many famous landmarks, including the Eiffel Tower, the Louvre Museum, and Notre-Dame Cathedral. The city is also known for its beautiful gardens, such as the Luxembourg Gardens and the Tuileries"
     ]
    },
    {
     "name": "stdout",
     "output_type": "stream",
     "text": [
      " located in the center of the country, on the Seine River. Paris has been a popular tourist destination for centuries, with millions of visitors each year. The city is known for its beautiful architecture, famous landmarks, and rich history.\n",
      "Paris is often referred to as the \"City of Light\" due to its association with the Enlightenment and the Age of Reason. The city is home to many famous landmarks, including the Eiffel Tower, the Louvre Museum, and Notre-Dame Cathedral. The city is also known for its beautiful gardens, such as the Luxembourg Gardens and the Tuileries Garden"
     ]
    },
    {
     "name": "stdout",
     "output_type": "stream",
     "text": [
      " located in the center of the country, on the Seine River. Paris has been a popular tourist destination for centuries, with millions of visitors each year. The city is known for its beautiful architecture, famous landmarks, and rich history.\n",
      "Paris is often referred to as the \"City of Light\" due to its association with the Enlightenment and the Age of Reason. The city is home to many famous landmarks, including the Eiffel Tower, the Louvre Museum, and Notre-Dame Cathedral. The city is also known for its beautiful gardens, such as the Luxembourg Gardens and the Tuileries Garden.\n"
     ]
    },
    {
     "name": "stdout",
     "output_type": "stream",
     "text": [
      " located in the center of the country, on the Seine River. Paris has been a popular tourist destination for centuries, with millions of visitors each year. The city is known for its beautiful architecture, famous landmarks, and rich history.\n",
      "Paris is often referred to as the \"City of Light\" due to its association with the Enlightenment and the Age of Reason. The city is home to many famous landmarks, including the Eiffel Tower, the Louvre Museum, and Notre-Dame Cathedral. The city is also known for its beautiful gardens, such as the Luxembourg Gardens and the Tuileries Garden.\n",
      "Paris"
     ]
    },
    {
     "name": "stdout",
     "output_type": "stream",
     "text": [
      " located in the center of the country, on the Seine River. Paris has been a popular tourist destination for centuries, with millions of visitors each year. The city is known for its beautiful architecture, famous landmarks, and rich history.\n",
      "Paris is often referred to as the \"City of Light\" due to its association with the Enlightenment and the Age of Reason. The city is home to many famous landmarks, including the Eiffel Tower, the Louvre Museum, and Notre-Dame Cathedral. The city is also known for its beautiful gardens, such as the Luxembourg Gardens and the Tuileries Garden.\n",
      "Paris is"
     ]
    },
    {
     "name": "stdout",
     "output_type": "stream",
     "text": [
      " located in the center of the country, on the Seine River. Paris has been a popular tourist destination for centuries, with millions of visitors each year. The city is known for its beautiful architecture, famous landmarks, and rich history.\n",
      "Paris is often referred to as the \"City of Light\" due to its association with the Enlightenment and the Age of Reason. The city is home to many famous landmarks, including the Eiffel Tower, the Louvre Museum, and Notre-Dame Cathedral. The city is also known for its beautiful gardens, such as the Luxembourg Gardens and the Tuileries Garden.\n",
      "Paris is a"
     ]
    },
    {
     "name": "stdout",
     "output_type": "stream",
     "text": [
      " located in the center of the country, on the Seine River. Paris has been a popular tourist destination for centuries, with millions of visitors each year. The city is known for its beautiful architecture, famous landmarks, and rich history.\n",
      "Paris is often referred to as the \"City of Light\" due to its association with the Enlightenment and the Age of Reason. The city is home to many famous landmarks, including the Eiffel Tower, the Louvre Museum, and Notre-Dame Cathedral. The city is also known for its beautiful gardens, such as the Luxembourg Gardens and the Tuileries Garden.\n",
      "Paris is a hub"
     ]
    },
    {
     "name": "stdout",
     "output_type": "stream",
     "text": [
      " located in the center of the country, on the Seine River. Paris has been a popular tourist destination for centuries, with millions of visitors each year. The city is known for its beautiful architecture, famous landmarks, and rich history.\n",
      "Paris is often referred to as the \"City of Light\" due to its association with the Enlightenment and the Age of Reason. The city is home to many famous landmarks, including the Eiffel Tower, the Louvre Museum, and Notre-Dame Cathedral. The city is also known for its beautiful gardens, such as the Luxembourg Gardens and the Tuileries Garden.\n",
      "Paris is a hub for"
     ]
    },
    {
     "name": "stdout",
     "output_type": "stream",
     "text": [
      " located in the center of the country, on the Seine River. Paris has been a popular tourist destination for centuries, with millions of visitors each year. The city is known for its beautiful architecture, famous landmarks, and rich history.\n",
      "Paris is often referred to as the \"City of Light\" due to its association with the Enlightenment and the Age of Reason. The city is home to many famous landmarks, including the Eiffel Tower, the Louvre Museum, and Notre-Dame Cathedral. The city is also known for its beautiful gardens, such as the Luxembourg Gardens and the Tuileries Garden.\n",
      "Paris is a hub for fashion"
     ]
    },
    {
     "name": "stdout",
     "output_type": "stream",
     "text": [
      " located in the center of the country, on the Seine River. Paris has been a popular tourist destination for centuries, with millions of visitors each year. The city is known for its beautiful architecture, famous landmarks, and rich history.\n",
      "Paris is often referred to as the \"City of Light\" due to its association with the Enlightenment and the Age of Reason. The city is home to many famous landmarks, including the Eiffel Tower, the Louvre Museum, and Notre-Dame Cathedral. The city is also known for its beautiful gardens, such as the Luxembourg Gardens and the Tuileries Garden.\n",
      "Paris is a hub for fashion,"
     ]
    },
    {
     "name": "stdout",
     "output_type": "stream",
     "text": [
      "\n",
      "\n",
      "Prompt: The future of AI is\n",
      "Generated text: "
     ]
    },
    {
     "name": "stdout",
     "output_type": "stream",
     "text": [
      " exciting"
     ]
    },
    {
     "name": "stdout",
     "output_type": "stream",
     "text": [
      " exciting,"
     ]
    },
    {
     "name": "stdout",
     "output_type": "stream",
     "text": [
      " exciting, but"
     ]
    },
    {
     "name": "stdout",
     "output_type": "stream",
     "text": [
      " exciting, but also"
     ]
    },
    {
     "name": "stdout",
     "output_type": "stream",
     "text": [
      " exciting, but also raises"
     ]
    },
    {
     "name": "stdout",
     "output_type": "stream",
     "text": [
      " exciting, but also raises concerns"
     ]
    },
    {
     "name": "stdout",
     "output_type": "stream",
     "text": [
      " exciting, but also raises concerns about"
     ]
    },
    {
     "name": "stdout",
     "output_type": "stream",
     "text": [
      " exciting, but also raises concerns about the"
     ]
    },
    {
     "name": "stdout",
     "output_type": "stream",
     "text": [
      " exciting, but also raises concerns about the potential"
     ]
    },
    {
     "name": "stdout",
     "output_type": "stream",
     "text": [
      " exciting, but also raises concerns about the potential impact"
     ]
    },
    {
     "name": "stdout",
     "output_type": "stream",
     "text": [
      " exciting, but also raises concerns about the potential impact on"
     ]
    },
    {
     "name": "stdout",
     "output_type": "stream",
     "text": [
      " exciting, but also raises concerns about the potential impact on employment"
     ]
    },
    {
     "name": "stdout",
     "output_type": "stream",
     "text": [
      " exciting, but also raises concerns about the potential impact on employment and"
     ]
    },
    {
     "name": "stdout",
     "output_type": "stream",
     "text": [
      " exciting, but also raises concerns about the potential impact on employment and society"
     ]
    },
    {
     "name": "stdout",
     "output_type": "stream",
     "text": [
      " exciting, but also raises concerns about the potential impact on employment and society."
     ]
    },
    {
     "name": "stdout",
     "output_type": "stream",
     "text": [
      " exciting, but also raises concerns about the potential impact on employment and society. Understanding"
     ]
    },
    {
     "name": "stdout",
     "output_type": "stream",
     "text": [
      " exciting, but also raises concerns about the potential impact on employment and society. Understanding the"
     ]
    },
    {
     "name": "stdout",
     "output_type": "stream",
     "text": [
      " exciting, but also raises concerns about the potential impact on employment and society. Understanding the implications"
     ]
    },
    {
     "name": "stdout",
     "output_type": "stream",
     "text": [
      " exciting, but also raises concerns about the potential impact on employment and society. Understanding the implications of"
     ]
    },
    {
     "name": "stdout",
     "output_type": "stream",
     "text": [
      " exciting, but also raises concerns about the potential impact on employment and society. Understanding the implications of AI"
     ]
    },
    {
     "name": "stdout",
     "output_type": "stream",
     "text": [
      " exciting, but also raises concerns about the potential impact on employment and society. Understanding the implications of AI and"
     ]
    },
    {
     "name": "stdout",
     "output_type": "stream",
     "text": [
      " exciting, but also raises concerns about the potential impact on employment and society. Understanding the implications of AI and its"
     ]
    },
    {
     "name": "stdout",
     "output_type": "stream",
     "text": [
      " exciting, but also raises concerns about the potential impact on employment and society. Understanding the implications of AI and its development"
     ]
    },
    {
     "name": "stdout",
     "output_type": "stream",
     "text": [
      " exciting, but also raises concerns about the potential impact on employment and society. Understanding the implications of AI and its development is"
     ]
    },
    {
     "name": "stdout",
     "output_type": "stream",
     "text": [
      " exciting, but also raises concerns about the potential impact on employment and society. Understanding the implications of AI and its development is crucial"
     ]
    },
    {
     "name": "stdout",
     "output_type": "stream",
     "text": [
      " exciting, but also raises concerns about the potential impact on employment and society. Understanding the implications of AI and its development is crucial to"
     ]
    },
    {
     "name": "stdout",
     "output_type": "stream",
     "text": [
      " exciting, but also raises concerns about the potential impact on employment and society. Understanding the implications of AI and its development is crucial to addressing"
     ]
    },
    {
     "name": "stdout",
     "output_type": "stream",
     "text": [
      " exciting, but also raises concerns about the potential impact on employment and society. Understanding the implications of AI and its development is crucial to addressing these"
     ]
    },
    {
     "name": "stdout",
     "output_type": "stream",
     "text": [
      " exciting, but also raises concerns about the potential impact on employment and society. Understanding the implications of AI and its development is crucial to addressing these concerns"
     ]
    },
    {
     "name": "stdout",
     "output_type": "stream",
     "text": [
      " exciting, but also raises concerns about the potential impact on employment and society. Understanding the implications of AI and its development is crucial to addressing these concerns.\n"
     ]
    },
    {
     "name": "stdout",
     "output_type": "stream",
     "text": [
      " exciting, but also raises concerns about the potential impact on employment and society. Understanding the implications of AI and its development is crucial to addressing these concerns.\n",
      "AI"
     ]
    },
    {
     "name": "stdout",
     "output_type": "stream",
     "text": [
      " exciting, but also raises concerns about the potential impact on employment and society. Understanding the implications of AI and its development is crucial to addressing these concerns.\n",
      "AI has"
     ]
    },
    {
     "name": "stdout",
     "output_type": "stream",
     "text": [
      " exciting, but also raises concerns about the potential impact on employment and society. Understanding the implications of AI and its development is crucial to addressing these concerns.\n",
      "AI has been"
     ]
    },
    {
     "name": "stdout",
     "output_type": "stream",
     "text": [
      " exciting, but also raises concerns about the potential impact on employment and society. Understanding the implications of AI and its development is crucial to addressing these concerns.\n",
      "AI has been a"
     ]
    },
    {
     "name": "stdout",
     "output_type": "stream",
     "text": [
      " exciting, but also raises concerns about the potential impact on employment and society. Understanding the implications of AI and its development is crucial to addressing these concerns.\n",
      "AI has been a focus"
     ]
    },
    {
     "name": "stdout",
     "output_type": "stream",
     "text": [
      " exciting, but also raises concerns about the potential impact on employment and society. Understanding the implications of AI and its development is crucial to addressing these concerns.\n",
      "AI has been a focus of"
     ]
    },
    {
     "name": "stdout",
     "output_type": "stream",
     "text": [
      " exciting, but also raises concerns about the potential impact on employment and society. Understanding the implications of AI and its development is crucial to addressing these concerns.\n",
      "AI has been a focus of research"
     ]
    },
    {
     "name": "stdout",
     "output_type": "stream",
     "text": [
      " exciting, but also raises concerns about the potential impact on employment and society. Understanding the implications of AI and its development is crucial to addressing these concerns.\n",
      "AI has been a focus of research and"
     ]
    },
    {
     "name": "stdout",
     "output_type": "stream",
     "text": [
      " exciting, but also raises concerns about the potential impact on employment and society. Understanding the implications of AI and its development is crucial to addressing these concerns.\n",
      "AI has been a focus of research and development"
     ]
    },
    {
     "name": "stdout",
     "output_type": "stream",
     "text": [
      " exciting, but also raises concerns about the potential impact on employment and society. Understanding the implications of AI and its development is crucial to addressing these concerns.\n",
      "AI has been a focus of research and development for"
     ]
    },
    {
     "name": "stdout",
     "output_type": "stream",
     "text": [
      " exciting, but also raises concerns about the potential impact on employment and society. Understanding the implications of AI and its development is crucial to addressing these concerns.\n",
      "AI has been a focus of research and development for several"
     ]
    },
    {
     "name": "stdout",
     "output_type": "stream",
     "text": [
      " exciting, but also raises concerns about the potential impact on employment and society. Understanding the implications of AI and its development is crucial to addressing these concerns.\n",
      "AI has been a focus of research and development for several decades"
     ]
    },
    {
     "name": "stdout",
     "output_type": "stream",
     "text": [
      " exciting, but also raises concerns about the potential impact on employment and society. Understanding the implications of AI and its development is crucial to addressing these concerns.\n",
      "AI has been a focus of research and development for several decades,"
     ]
    },
    {
     "name": "stdout",
     "output_type": "stream",
     "text": [
      " exciting, but also raises concerns about the potential impact on employment and society. Understanding the implications of AI and its development is crucial to addressing these concerns.\n",
      "AI has been a focus of research and development for several decades, but"
     ]
    },
    {
     "name": "stdout",
     "output_type": "stream",
     "text": [
      " exciting, but also raises concerns about the potential impact on employment and society. Understanding the implications of AI and its development is crucial to addressing these concerns.\n",
      "AI has been a focus of research and development for several decades, but its"
     ]
    },
    {
     "name": "stdout",
     "output_type": "stream",
     "text": [
      " exciting, but also raises concerns about the potential impact on employment and society. Understanding the implications of AI and its development is crucial to addressing these concerns.\n",
      "AI has been a focus of research and development for several decades, but its applications"
     ]
    },
    {
     "name": "stdout",
     "output_type": "stream",
     "text": [
      " exciting, but also raises concerns about the potential impact on employment and society. Understanding the implications of AI and its development is crucial to addressing these concerns.\n",
      "AI has been a focus of research and development for several decades, but its applications and"
     ]
    },
    {
     "name": "stdout",
     "output_type": "stream",
     "text": [
      " exciting, but also raises concerns about the potential impact on employment and society. Understanding the implications of AI and its development is crucial to addressing these concerns.\n",
      "AI has been a focus of research and development for several decades, but its applications and capabilities"
     ]
    },
    {
     "name": "stdout",
     "output_type": "stream",
     "text": [
      " exciting, but also raises concerns about the potential impact on employment and society. Understanding the implications of AI and its development is crucial to addressing these concerns.\n",
      "AI has been a focus of research and development for several decades, but its applications and capabilities have"
     ]
    },
    {
     "name": "stdout",
     "output_type": "stream",
     "text": [
      " exciting, but also raises concerns about the potential impact on employment and society. Understanding the implications of AI and its development is crucial to addressing these concerns.\n",
      "AI has been a focus of research and development for several decades, but its applications and capabilities have accelerated"
     ]
    },
    {
     "name": "stdout",
     "output_type": "stream",
     "text": [
      " exciting, but also raises concerns about the potential impact on employment and society. Understanding the implications of AI and its development is crucial to addressing these concerns.\n",
      "AI has been a focus of research and development for several decades, but its applications and capabilities have accelerated rapidly"
     ]
    },
    {
     "name": "stdout",
     "output_type": "stream",
     "text": [
      " exciting, but also raises concerns about the potential impact on employment and society. Understanding the implications of AI and its development is crucial to addressing these concerns.\n",
      "AI has been a focus of research and development for several decades, but its applications and capabilities have accelerated rapidly in"
     ]
    },
    {
     "name": "stdout",
     "output_type": "stream",
     "text": [
      " exciting, but also raises concerns about the potential impact on employment and society. Understanding the implications of AI and its development is crucial to addressing these concerns.\n",
      "AI has been a focus of research and development for several decades, but its applications and capabilities have accelerated rapidly in recent"
     ]
    },
    {
     "name": "stdout",
     "output_type": "stream",
     "text": [
      " exciting, but also raises concerns about the potential impact on employment and society. Understanding the implications of AI and its development is crucial to addressing these concerns.\n",
      "AI has been a focus of research and development for several decades, but its applications and capabilities have accelerated rapidly in recent years"
     ]
    },
    {
     "name": "stdout",
     "output_type": "stream",
     "text": [
      " exciting, but also raises concerns about the potential impact on employment and society. Understanding the implications of AI and its development is crucial to addressing these concerns.\n",
      "AI has been a focus of research and development for several decades, but its applications and capabilities have accelerated rapidly in recent years."
     ]
    },
    {
     "name": "stdout",
     "output_type": "stream",
     "text": [
      " exciting, but also raises concerns about the potential impact on employment and society. Understanding the implications of AI and its development is crucial to addressing these concerns.\n",
      "AI has been a focus of research and development for several decades, but its applications and capabilities have accelerated rapidly in recent years. AI"
     ]
    },
    {
     "name": "stdout",
     "output_type": "stream",
     "text": [
      " exciting, but also raises concerns about the potential impact on employment and society. Understanding the implications of AI and its development is crucial to addressing these concerns.\n",
      "AI has been a focus of research and development for several decades, but its applications and capabilities have accelerated rapidly in recent years. AI has"
     ]
    },
    {
     "name": "stdout",
     "output_type": "stream",
     "text": [
      " exciting, but also raises concerns about the potential impact on employment and society. Understanding the implications of AI and its development is crucial to addressing these concerns.\n",
      "AI has been a focus of research and development for several decades, but its applications and capabilities have accelerated rapidly in recent years. AI has become"
     ]
    },
    {
     "name": "stdout",
     "output_type": "stream",
     "text": [
      " exciting, but also raises concerns about the potential impact on employment and society. Understanding the implications of AI and its development is crucial to addressing these concerns.\n",
      "AI has been a focus of research and development for several decades, but its applications and capabilities have accelerated rapidly in recent years. AI has become a"
     ]
    },
    {
     "name": "stdout",
     "output_type": "stream",
     "text": [
      " exciting, but also raises concerns about the potential impact on employment and society. Understanding the implications of AI and its development is crucial to addressing these concerns.\n",
      "AI has been a focus of research and development for several decades, but its applications and capabilities have accelerated rapidly in recent years. AI has become a fundamental"
     ]
    },
    {
     "name": "stdout",
     "output_type": "stream",
     "text": [
      " exciting, but also raises concerns about the potential impact on employment and society. Understanding the implications of AI and its development is crucial to addressing these concerns.\n",
      "AI has been a focus of research and development for several decades, but its applications and capabilities have accelerated rapidly in recent years. AI has become a fundamental part"
     ]
    },
    {
     "name": "stdout",
     "output_type": "stream",
     "text": [
      " exciting, but also raises concerns about the potential impact on employment and society. Understanding the implications of AI and its development is crucial to addressing these concerns.\n",
      "AI has been a focus of research and development for several decades, but its applications and capabilities have accelerated rapidly in recent years. AI has become a fundamental part of"
     ]
    },
    {
     "name": "stdout",
     "output_type": "stream",
     "text": [
      " exciting, but also raises concerns about the potential impact on employment and society. Understanding the implications of AI and its development is crucial to addressing these concerns.\n",
      "AI has been a focus of research and development for several decades, but its applications and capabilities have accelerated rapidly in recent years. AI has become a fundamental part of the"
     ]
    },
    {
     "name": "stdout",
     "output_type": "stream",
     "text": [
      " exciting, but also raises concerns about the potential impact on employment and society. Understanding the implications of AI and its development is crucial to addressing these concerns.\n",
      "AI has been a focus of research and development for several decades, but its applications and capabilities have accelerated rapidly in recent years. AI has become a fundamental part of the digital"
     ]
    },
    {
     "name": "stdout",
     "output_type": "stream",
     "text": [
      " exciting, but also raises concerns about the potential impact on employment and society. Understanding the implications of AI and its development is crucial to addressing these concerns.\n",
      "AI has been a focus of research and development for several decades, but its applications and capabilities have accelerated rapidly in recent years. AI has become a fundamental part of the digital infrastructure"
     ]
    },
    {
     "name": "stdout",
     "output_type": "stream",
     "text": [
      " exciting, but also raises concerns about the potential impact on employment and society. Understanding the implications of AI and its development is crucial to addressing these concerns.\n",
      "AI has been a focus of research and development for several decades, but its applications and capabilities have accelerated rapidly in recent years. AI has become a fundamental part of the digital infrastructure,"
     ]
    },
    {
     "name": "stdout",
     "output_type": "stream",
     "text": [
      " exciting, but also raises concerns about the potential impact on employment and society. Understanding the implications of AI and its development is crucial to addressing these concerns.\n",
      "AI has been a focus of research and development for several decades, but its applications and capabilities have accelerated rapidly in recent years. AI has become a fundamental part of the digital infrastructure, transforming"
     ]
    },
    {
     "name": "stdout",
     "output_type": "stream",
     "text": [
      " exciting, but also raises concerns about the potential impact on employment and society. Understanding the implications of AI and its development is crucial to addressing these concerns.\n",
      "AI has been a focus of research and development for several decades, but its applications and capabilities have accelerated rapidly in recent years. AI has become a fundamental part of the digital infrastructure, transforming industries"
     ]
    },
    {
     "name": "stdout",
     "output_type": "stream",
     "text": [
      " exciting, but also raises concerns about the potential impact on employment and society. Understanding the implications of AI and its development is crucial to addressing these concerns.\n",
      "AI has been a focus of research and development for several decades, but its applications and capabilities have accelerated rapidly in recent years. AI has become a fundamental part of the digital infrastructure, transforming industries,"
     ]
    },
    {
     "name": "stdout",
     "output_type": "stream",
     "text": [
      " exciting, but also raises concerns about the potential impact on employment and society. Understanding the implications of AI and its development is crucial to addressing these concerns.\n",
      "AI has been a focus of research and development for several decades, but its applications and capabilities have accelerated rapidly in recent years. AI has become a fundamental part of the digital infrastructure, transforming industries, products"
     ]
    },
    {
     "name": "stdout",
     "output_type": "stream",
     "text": [
      " exciting, but also raises concerns about the potential impact on employment and society. Understanding the implications of AI and its development is crucial to addressing these concerns.\n",
      "AI has been a focus of research and development for several decades, but its applications and capabilities have accelerated rapidly in recent years. AI has become a fundamental part of the digital infrastructure, transforming industries, products,"
     ]
    },
    {
     "name": "stdout",
     "output_type": "stream",
     "text": [
      " exciting, but also raises concerns about the potential impact on employment and society. Understanding the implications of AI and its development is crucial to addressing these concerns.\n",
      "AI has been a focus of research and development for several decades, but its applications and capabilities have accelerated rapidly in recent years. AI has become a fundamental part of the digital infrastructure, transforming industries, products, and"
     ]
    },
    {
     "name": "stdout",
     "output_type": "stream",
     "text": [
      " exciting, but also raises concerns about the potential impact on employment and society. Understanding the implications of AI and its development is crucial to addressing these concerns.\n",
      "AI has been a focus of research and development for several decades, but its applications and capabilities have accelerated rapidly in recent years. AI has become a fundamental part of the digital infrastructure, transforming industries, products, and services"
     ]
    },
    {
     "name": "stdout",
     "output_type": "stream",
     "text": [
      " exciting, but also raises concerns about the potential impact on employment and society. Understanding the implications of AI and its development is crucial to addressing these concerns.\n",
      "AI has been a focus of research and development for several decades, but its applications and capabilities have accelerated rapidly in recent years. AI has become a fundamental part of the digital infrastructure, transforming industries, products, and services.\n"
     ]
    },
    {
     "name": "stdout",
     "output_type": "stream",
     "text": [
      " exciting, but also raises concerns about the potential impact on employment and society. Understanding the implications of AI and its development is crucial to addressing these concerns.\n",
      "AI has been a focus of research and development for several decades, but its applications and capabilities have accelerated rapidly in recent years. AI has become a fundamental part of the digital infrastructure, transforming industries, products, and services.\n",
      "AI"
     ]
    },
    {
     "name": "stdout",
     "output_type": "stream",
     "text": [
      " exciting, but also raises concerns about the potential impact on employment and society. Understanding the implications of AI and its development is crucial to addressing these concerns.\n",
      "AI has been a focus of research and development for several decades, but its applications and capabilities have accelerated rapidly in recent years. AI has become a fundamental part of the digital infrastructure, transforming industries, products, and services.\n",
      "AI can"
     ]
    },
    {
     "name": "stdout",
     "output_type": "stream",
     "text": [
      " exciting, but also raises concerns about the potential impact on employment and society. Understanding the implications of AI and its development is crucial to addressing these concerns.\n",
      "AI has been a focus of research and development for several decades, but its applications and capabilities have accelerated rapidly in recent years. AI has become a fundamental part of the digital infrastructure, transforming industries, products, and services.\n",
      "AI can be"
     ]
    },
    {
     "name": "stdout",
     "output_type": "stream",
     "text": [
      " exciting, but also raises concerns about the potential impact on employment and society. Understanding the implications of AI and its development is crucial to addressing these concerns.\n",
      "AI has been a focus of research and development for several decades, but its applications and capabilities have accelerated rapidly in recent years. AI has become a fundamental part of the digital infrastructure, transforming industries, products, and services.\n",
      "AI can be categorized"
     ]
    },
    {
     "name": "stdout",
     "output_type": "stream",
     "text": [
      " exciting, but also raises concerns about the potential impact on employment and society. Understanding the implications of AI and its development is crucial to addressing these concerns.\n",
      "AI has been a focus of research and development for several decades, but its applications and capabilities have accelerated rapidly in recent years. AI has become a fundamental part of the digital infrastructure, transforming industries, products, and services.\n",
      "AI can be categorized into"
     ]
    },
    {
     "name": "stdout",
     "output_type": "stream",
     "text": [
      " exciting, but also raises concerns about the potential impact on employment and society. Understanding the implications of AI and its development is crucial to addressing these concerns.\n",
      "AI has been a focus of research and development for several decades, but its applications and capabilities have accelerated rapidly in recent years. AI has become a fundamental part of the digital infrastructure, transforming industries, products, and services.\n",
      "AI can be categorized into different"
     ]
    },
    {
     "name": "stdout",
     "output_type": "stream",
     "text": [
      " exciting, but also raises concerns about the potential impact on employment and society. Understanding the implications of AI and its development is crucial to addressing these concerns.\n",
      "AI has been a focus of research and development for several decades, but its applications and capabilities have accelerated rapidly in recent years. AI has become a fundamental part of the digital infrastructure, transforming industries, products, and services.\n",
      "AI can be categorized into different types"
     ]
    },
    {
     "name": "stdout",
     "output_type": "stream",
     "text": [
      " exciting, but also raises concerns about the potential impact on employment and society. Understanding the implications of AI and its development is crucial to addressing these concerns.\n",
      "AI has been a focus of research and development for several decades, but its applications and capabilities have accelerated rapidly in recent years. AI has become a fundamental part of the digital infrastructure, transforming industries, products, and services.\n",
      "AI can be categorized into different types,"
     ]
    },
    {
     "name": "stdout",
     "output_type": "stream",
     "text": [
      " exciting, but also raises concerns about the potential impact on employment and society. Understanding the implications of AI and its development is crucial to addressing these concerns.\n",
      "AI has been a focus of research and development for several decades, but its applications and capabilities have accelerated rapidly in recent years. AI has become a fundamental part of the digital infrastructure, transforming industries, products, and services.\n",
      "AI can be categorized into different types, including"
     ]
    },
    {
     "name": "stdout",
     "output_type": "stream",
     "text": [
      " exciting, but also raises concerns about the potential impact on employment and society. Understanding the implications of AI and its development is crucial to addressing these concerns.\n",
      "AI has been a focus of research and development for several decades, but its applications and capabilities have accelerated rapidly in recent years. AI has become a fundamental part of the digital infrastructure, transforming industries, products, and services.\n",
      "AI can be categorized into different types, including:\n"
     ]
    },
    {
     "name": "stdout",
     "output_type": "stream",
     "text": [
      " exciting, but also raises concerns about the potential impact on employment and society. Understanding the implications of AI and its development is crucial to addressing these concerns.\n",
      "AI has been a focus of research and development for several decades, but its applications and capabilities have accelerated rapidly in recent years. AI has become a fundamental part of the digital infrastructure, transforming industries, products, and services.\n",
      "AI can be categorized into different types, including:\n",
      "1"
     ]
    },
    {
     "name": "stdout",
     "output_type": "stream",
     "text": [
      " exciting, but also raises concerns about the potential impact on employment and society. Understanding the implications of AI and its development is crucial to addressing these concerns.\n",
      "AI has been a focus of research and development for several decades, but its applications and capabilities have accelerated rapidly in recent years. AI has become a fundamental part of the digital infrastructure, transforming industries, products, and services.\n",
      "AI can be categorized into different types, including:\n",
      "1."
     ]
    },
    {
     "name": "stdout",
     "output_type": "stream",
     "text": [
      " exciting, but also raises concerns about the potential impact on employment and society. Understanding the implications of AI and its development is crucial to addressing these concerns.\n",
      "AI has been a focus of research and development for several decades, but its applications and capabilities have accelerated rapidly in recent years. AI has become a fundamental part of the digital infrastructure, transforming industries, products, and services.\n",
      "AI can be categorized into different types, including:\n",
      "1. Narrow"
     ]
    },
    {
     "name": "stdout",
     "output_type": "stream",
     "text": [
      " exciting, but also raises concerns about the potential impact on employment and society. Understanding the implications of AI and its development is crucial to addressing these concerns.\n",
      "AI has been a focus of research and development for several decades, but its applications and capabilities have accelerated rapidly in recent years. AI has become a fundamental part of the digital infrastructure, transforming industries, products, and services.\n",
      "AI can be categorized into different types, including:\n",
      "1. Narrow or"
     ]
    },
    {
     "name": "stdout",
     "output_type": "stream",
     "text": [
      " exciting, but also raises concerns about the potential impact on employment and society. Understanding the implications of AI and its development is crucial to addressing these concerns.\n",
      "AI has been a focus of research and development for several decades, but its applications and capabilities have accelerated rapidly in recent years. AI has become a fundamental part of the digital infrastructure, transforming industries, products, and services.\n",
      "AI can be categorized into different types, including:\n",
      "1. Narrow or weak"
     ]
    },
    {
     "name": "stdout",
     "output_type": "stream",
     "text": [
      " exciting, but also raises concerns about the potential impact on employment and society. Understanding the implications of AI and its development is crucial to addressing these concerns.\n",
      "AI has been a focus of research and development for several decades, but its applications and capabilities have accelerated rapidly in recent years. AI has become a fundamental part of the digital infrastructure, transforming industries, products, and services.\n",
      "AI can be categorized into different types, including:\n",
      "1. Narrow or weak AI"
     ]
    },
    {
     "name": "stdout",
     "output_type": "stream",
     "text": [
      " exciting, but also raises concerns about the potential impact on employment and society. Understanding the implications of AI and its development is crucial to addressing these concerns.\n",
      "AI has been a focus of research and development for several decades, but its applications and capabilities have accelerated rapidly in recent years. AI has become a fundamental part of the digital infrastructure, transforming industries, products, and services.\n",
      "AI can be categorized into different types, including:\n",
      "1. Narrow or weak AI:"
     ]
    },
    {
     "name": "stdout",
     "output_type": "stream",
     "text": [
      " exciting, but also raises concerns about the potential impact on employment and society. Understanding the implications of AI and its development is crucial to addressing these concerns.\n",
      "AI has been a focus of research and development for several decades, but its applications and capabilities have accelerated rapidly in recent years. AI has become a fundamental part of the digital infrastructure, transforming industries, products, and services.\n",
      "AI can be categorized into different types, including:\n",
      "1. Narrow or weak AI: AI"
     ]
    },
    {
     "name": "stdout",
     "output_type": "stream",
     "text": [
      " exciting, but also raises concerns about the potential impact on employment and society. Understanding the implications of AI and its development is crucial to addressing these concerns.\n",
      "AI has been a focus of research and development for several decades, but its applications and capabilities have accelerated rapidly in recent years. AI has become a fundamental part of the digital infrastructure, transforming industries, products, and services.\n",
      "AI can be categorized into different types, including:\n",
      "1. Narrow or weak AI: AI that"
     ]
    },
    {
     "name": "stdout",
     "output_type": "stream",
     "text": [
      " exciting, but also raises concerns about the potential impact on employment and society. Understanding the implications of AI and its development is crucial to addressing these concerns.\n",
      "AI has been a focus of research and development for several decades, but its applications and capabilities have accelerated rapidly in recent years. AI has become a fundamental part of the digital infrastructure, transforming industries, products, and services.\n",
      "AI can be categorized into different types, including:\n",
      "1. Narrow or weak AI: AI that is"
     ]
    },
    {
     "name": "stdout",
     "output_type": "stream",
     "text": [
      " exciting, but also raises concerns about the potential impact on employment and society. Understanding the implications of AI and its development is crucial to addressing these concerns.\n",
      "AI has been a focus of research and development for several decades, but its applications and capabilities have accelerated rapidly in recent years. AI has become a fundamental part of the digital infrastructure, transforming industries, products, and services.\n",
      "AI can be categorized into different types, including:\n",
      "1. Narrow or weak AI: AI that is designed"
     ]
    },
    {
     "name": "stdout",
     "output_type": "stream",
     "text": [
      " exciting, but also raises concerns about the potential impact on employment and society. Understanding the implications of AI and its development is crucial to addressing these concerns.\n",
      "AI has been a focus of research and development for several decades, but its applications and capabilities have accelerated rapidly in recent years. AI has become a fundamental part of the digital infrastructure, transforming industries, products, and services.\n",
      "AI can be categorized into different types, including:\n",
      "1. Narrow or weak AI: AI that is designed to"
     ]
    },
    {
     "name": "stdout",
     "output_type": "stream",
     "text": [
      " exciting, but also raises concerns about the potential impact on employment and society. Understanding the implications of AI and its development is crucial to addressing these concerns.\n",
      "AI has been a focus of research and development for several decades, but its applications and capabilities have accelerated rapidly in recent years. AI has become a fundamental part of the digital infrastructure, transforming industries, products, and services.\n",
      "AI can be categorized into different types, including:\n",
      "1. Narrow or weak AI: AI that is designed to perform"
     ]
    },
    {
     "name": "stdout",
     "output_type": "stream",
     "text": [
      " exciting, but also raises concerns about the potential impact on employment and society. Understanding the implications of AI and its development is crucial to addressing these concerns.\n",
      "AI has been a focus of research and development for several decades, but its applications and capabilities have accelerated rapidly in recent years. AI has become a fundamental part of the digital infrastructure, transforming industries, products, and services.\n",
      "AI can be categorized into different types, including:\n",
      "1. Narrow or weak AI: AI that is designed to perform a"
     ]
    },
    {
     "name": "stdout",
     "output_type": "stream",
     "text": [
      " exciting, but also raises concerns about the potential impact on employment and society. Understanding the implications of AI and its development is crucial to addressing these concerns.\n",
      "AI has been a focus of research and development for several decades, but its applications and capabilities have accelerated rapidly in recent years. AI has become a fundamental part of the digital infrastructure, transforming industries, products, and services.\n",
      "AI can be categorized into different types, including:\n",
      "1. Narrow or weak AI: AI that is designed to perform a specific"
     ]
    },
    {
     "name": "stdout",
     "output_type": "stream",
     "text": [
      " exciting, but also raises concerns about the potential impact on employment and society. Understanding the implications of AI and its development is crucial to addressing these concerns.\n",
      "AI has been a focus of research and development for several decades, but its applications and capabilities have accelerated rapidly in recent years. AI has become a fundamental part of the digital infrastructure, transforming industries, products, and services.\n",
      "AI can be categorized into different types, including:\n",
      "1. Narrow or weak AI: AI that is designed to perform a specific task"
     ]
    },
    {
     "name": "stdout",
     "output_type": "stream",
     "text": [
      " exciting, but also raises concerns about the potential impact on employment and society. Understanding the implications of AI and its development is crucial to addressing these concerns.\n",
      "AI has been a focus of research and development for several decades, but its applications and capabilities have accelerated rapidly in recent years. AI has become a fundamental part of the digital infrastructure, transforming industries, products, and services.\n",
      "AI can be categorized into different types, including:\n",
      "1. Narrow or weak AI: AI that is designed to perform a specific task,"
     ]
    },
    {
     "name": "stdout",
     "output_type": "stream",
     "text": [
      " exciting, but also raises concerns about the potential impact on employment and society. Understanding the implications of AI and its development is crucial to addressing these concerns.\n",
      "AI has been a focus of research and development for several decades, but its applications and capabilities have accelerated rapidly in recent years. AI has become a fundamental part of the digital infrastructure, transforming industries, products, and services.\n",
      "AI can be categorized into different types, including:\n",
      "1. Narrow or weak AI: AI that is designed to perform a specific task, such"
     ]
    },
    {
     "name": "stdout",
     "output_type": "stream",
     "text": [
      " exciting, but also raises concerns about the potential impact on employment and society. Understanding the implications of AI and its development is crucial to addressing these concerns.\n",
      "AI has been a focus of research and development for several decades, but its applications and capabilities have accelerated rapidly in recent years. AI has become a fundamental part of the digital infrastructure, transforming industries, products, and services.\n",
      "AI can be categorized into different types, including:\n",
      "1. Narrow or weak AI: AI that is designed to perform a specific task, such as"
     ]
    },
    {
     "name": "stdout",
     "output_type": "stream",
     "text": [
      " exciting, but also raises concerns about the potential impact on employment and society. Understanding the implications of AI and its development is crucial to addressing these concerns.\n",
      "AI has been a focus of research and development for several decades, but its applications and capabilities have accelerated rapidly in recent years. AI has become a fundamental part of the digital infrastructure, transforming industries, products, and services.\n",
      "AI can be categorized into different types, including:\n",
      "1. Narrow or weak AI: AI that is designed to perform a specific task, such as image"
     ]
    },
    {
     "name": "stdout",
     "output_type": "stream",
     "text": [
      " exciting, but also raises concerns about the potential impact on employment and society. Understanding the implications of AI and its development is crucial to addressing these concerns.\n",
      "AI has been a focus of research and development for several decades, but its applications and capabilities have accelerated rapidly in recent years. AI has become a fundamental part of the digital infrastructure, transforming industries, products, and services.\n",
      "AI can be categorized into different types, including:\n",
      "1. Narrow or weak AI: AI that is designed to perform a specific task, such as image recognition"
     ]
    },
    {
     "name": "stdout",
     "output_type": "stream",
     "text": [
      " exciting, but also raises concerns about the potential impact on employment and society. Understanding the implications of AI and its development is crucial to addressing these concerns.\n",
      "AI has been a focus of research and development for several decades, but its applications and capabilities have accelerated rapidly in recent years. AI has become a fundamental part of the digital infrastructure, transforming industries, products, and services.\n",
      "AI can be categorized into different types, including:\n",
      "1. Narrow or weak AI: AI that is designed to perform a specific task, such as image recognition,"
     ]
    },
    {
     "name": "stdout",
     "output_type": "stream",
     "text": [
      " exciting, but also raises concerns about the potential impact on employment and society. Understanding the implications of AI and its development is crucial to addressing these concerns.\n",
      "AI has been a focus of research and development for several decades, but its applications and capabilities have accelerated rapidly in recent years. AI has become a fundamental part of the digital infrastructure, transforming industries, products, and services.\n",
      "AI can be categorized into different types, including:\n",
      "1. Narrow or weak AI: AI that is designed to perform a specific task, such as image recognition, language"
     ]
    },
    {
     "name": "stdout",
     "output_type": "stream",
     "text": [
      " exciting, but also raises concerns about the potential impact on employment and society. Understanding the implications of AI and its development is crucial to addressing these concerns.\n",
      "AI has been a focus of research and development for several decades, but its applications and capabilities have accelerated rapidly in recent years. AI has become a fundamental part of the digital infrastructure, transforming industries, products, and services.\n",
      "AI can be categorized into different types, including:\n",
      "1. Narrow or weak AI: AI that is designed to perform a specific task, such as image recognition, language translation"
     ]
    },
    {
     "name": "stdout",
     "output_type": "stream",
     "text": [
      " exciting, but also raises concerns about the potential impact on employment and society. Understanding the implications of AI and its development is crucial to addressing these concerns.\n",
      "AI has been a focus of research and development for several decades, but its applications and capabilities have accelerated rapidly in recent years. AI has become a fundamental part of the digital infrastructure, transforming industries, products, and services.\n",
      "AI can be categorized into different types, including:\n",
      "1. Narrow or weak AI: AI that is designed to perform a specific task, such as image recognition, language translation,"
     ]
    },
    {
     "name": "stdout",
     "output_type": "stream",
     "text": [
      " exciting, but also raises concerns about the potential impact on employment and society. Understanding the implications of AI and its development is crucial to addressing these concerns.\n",
      "AI has been a focus of research and development for several decades, but its applications and capabilities have accelerated rapidly in recent years. AI has become a fundamental part of the digital infrastructure, transforming industries, products, and services.\n",
      "AI can be categorized into different types, including:\n",
      "1. Narrow or weak AI: AI that is designed to perform a specific task, such as image recognition, language translation, or"
     ]
    },
    {
     "name": "stdout",
     "output_type": "stream",
     "text": [
      " exciting, but also raises concerns about the potential impact on employment and society. Understanding the implications of AI and its development is crucial to addressing these concerns.\n",
      "AI has been a focus of research and development for several decades, but its applications and capabilities have accelerated rapidly in recent years. AI has become a fundamental part of the digital infrastructure, transforming industries, products, and services.\n",
      "AI can be categorized into different types, including:\n",
      "1. Narrow or weak AI: AI that is designed to perform a specific task, such as image recognition, language translation, or playing"
     ]
    },
    {
     "name": "stdout",
     "output_type": "stream",
     "text": [
      " exciting, but also raises concerns about the potential impact on employment and society. Understanding the implications of AI and its development is crucial to addressing these concerns.\n",
      "AI has been a focus of research and development for several decades, but its applications and capabilities have accelerated rapidly in recent years. AI has become a fundamental part of the digital infrastructure, transforming industries, products, and services.\n",
      "AI can be categorized into different types, including:\n",
      "1. Narrow or weak AI: AI that is designed to perform a specific task, such as image recognition, language translation, or playing chess"
     ]
    },
    {
     "name": "stdout",
     "output_type": "stream",
     "text": [
      " exciting, but also raises concerns about the potential impact on employment and society. Understanding the implications of AI and its development is crucial to addressing these concerns.\n",
      "AI has been a focus of research and development for several decades, but its applications and capabilities have accelerated rapidly in recent years. AI has become a fundamental part of the digital infrastructure, transforming industries, products, and services.\n",
      "AI can be categorized into different types, including:\n",
      "1. Narrow or weak AI: AI that is designed to perform a specific task, such as image recognition, language translation, or playing chess.\n"
     ]
    },
    {
     "name": "stdout",
     "output_type": "stream",
     "text": [
      " exciting, but also raises concerns about the potential impact on employment and society. Understanding the implications of AI and its development is crucial to addressing these concerns.\n",
      "AI has been a focus of research and development for several decades, but its applications and capabilities have accelerated rapidly in recent years. AI has become a fundamental part of the digital infrastructure, transforming industries, products, and services.\n",
      "AI can be categorized into different types, including:\n",
      "1. Narrow or weak AI: AI that is designed to perform a specific task, such as image recognition, language translation, or playing chess.\n",
      "2"
     ]
    },
    {
     "name": "stdout",
     "output_type": "stream",
     "text": [
      " exciting, but also raises concerns about the potential impact on employment and society. Understanding the implications of AI and its development is crucial to addressing these concerns.\n",
      "AI has been a focus of research and development for several decades, but its applications and capabilities have accelerated rapidly in recent years. AI has become a fundamental part of the digital infrastructure, transforming industries, products, and services.\n",
      "AI can be categorized into different types, including:\n",
      "1. Narrow or weak AI: AI that is designed to perform a specific task, such as image recognition, language translation, or playing chess.\n",
      "2."
     ]
    },
    {
     "name": "stdout",
     "output_type": "stream",
     "text": [
      " exciting, but also raises concerns about the potential impact on employment and society. Understanding the implications of AI and its development is crucial to addressing these concerns.\n",
      "AI has been a focus of research and development for several decades, but its applications and capabilities have accelerated rapidly in recent years. AI has become a fundamental part of the digital infrastructure, transforming industries, products, and services.\n",
      "AI can be categorized into different types, including:\n",
      "1. Narrow or weak AI: AI that is designed to perform a specific task, such as image recognition, language translation, or playing chess.\n",
      "2. General"
     ]
    },
    {
     "name": "stdout",
     "output_type": "stream",
     "text": [
      " exciting, but also raises concerns about the potential impact on employment and society. Understanding the implications of AI and its development is crucial to addressing these concerns.\n",
      "AI has been a focus of research and development for several decades, but its applications and capabilities have accelerated rapidly in recent years. AI has become a fundamental part of the digital infrastructure, transforming industries, products, and services.\n",
      "AI can be categorized into different types, including:\n",
      "1. Narrow or weak AI: AI that is designed to perform a specific task, such as image recognition, language translation, or playing chess.\n",
      "2. General or"
     ]
    },
    {
     "name": "stdout",
     "output_type": "stream",
     "text": [
      " exciting, but also raises concerns about the potential impact on employment and society. Understanding the implications of AI and its development is crucial to addressing these concerns.\n",
      "AI has been a focus of research and development for several decades, but its applications and capabilities have accelerated rapidly in recent years. AI has become a fundamental part of the digital infrastructure, transforming industries, products, and services.\n",
      "AI can be categorized into different types, including:\n",
      "1. Narrow or weak AI: AI that is designed to perform a specific task, such as image recognition, language translation, or playing chess.\n",
      "2. General or strong"
     ]
    },
    {
     "name": "stdout",
     "output_type": "stream",
     "text": [
      " exciting, but also raises concerns about the potential impact on employment and society. Understanding the implications of AI and its development is crucial to addressing these concerns.\n",
      "AI has been a focus of research and development for several decades, but its applications and capabilities have accelerated rapidly in recent years. AI has become a fundamental part of the digital infrastructure, transforming industries, products, and services.\n",
      "AI can be categorized into different types, including:\n",
      "1. Narrow or weak AI: AI that is designed to perform a specific task, such as image recognition, language translation, or playing chess.\n",
      "2. General or strong AI"
     ]
    },
    {
     "name": "stdout",
     "output_type": "stream",
     "text": [
      " exciting, but also raises concerns about the potential impact on employment and society. Understanding the implications of AI and its development is crucial to addressing these concerns.\n",
      "AI has been a focus of research and development for several decades, but its applications and capabilities have accelerated rapidly in recent years. AI has become a fundamental part of the digital infrastructure, transforming industries, products, and services.\n",
      "AI can be categorized into different types, including:\n",
      "1. Narrow or weak AI: AI that is designed to perform a specific task, such as image recognition, language translation, or playing chess.\n",
      "2. General or strong AI:"
     ]
    },
    {
     "name": "stdout",
     "output_type": "stream",
     "text": [
      " exciting, but also raises concerns about the potential impact on employment and society. Understanding the implications of AI and its development is crucial to addressing these concerns.\n",
      "AI has been a focus of research and development for several decades, but its applications and capabilities have accelerated rapidly in recent years. AI has become a fundamental part of the digital infrastructure, transforming industries, products, and services.\n",
      "AI can be categorized into different types, including:\n",
      "1. Narrow or weak AI: AI that is designed to perform a specific task, such as image recognition, language translation, or playing chess.\n",
      "2. General or strong AI: AI"
     ]
    },
    {
     "name": "stdout",
     "output_type": "stream",
     "text": [
      " exciting, but also raises concerns about the potential impact on employment and society. Understanding the implications of AI and its development is crucial to addressing these concerns.\n",
      "AI has been a focus of research and development for several decades, but its applications and capabilities have accelerated rapidly in recent years. AI has become a fundamental part of the digital infrastructure, transforming industries, products, and services.\n",
      "AI can be categorized into different types, including:\n",
      "1. Narrow or weak AI: AI that is designed to perform a specific task, such as image recognition, language translation, or playing chess.\n",
      "2. General or strong AI: AI that"
     ]
    },
    {
     "name": "stdout",
     "output_type": "stream",
     "text": [
      " exciting, but also raises concerns about the potential impact on employment and society. Understanding the implications of AI and its development is crucial to addressing these concerns.\n",
      "AI has been a focus of research and development for several decades, but its applications and capabilities have accelerated rapidly in recent years. AI has become a fundamental part of the digital infrastructure, transforming industries, products, and services.\n",
      "AI can be categorized into different types, including:\n",
      "1. Narrow or weak AI: AI that is designed to perform a specific task, such as image recognition, language translation, or playing chess.\n",
      "2. General or strong AI: AI that can"
     ]
    },
    {
     "name": "stdout",
     "output_type": "stream",
     "text": [
      " exciting, but also raises concerns about the potential impact on employment and society. Understanding the implications of AI and its development is crucial to addressing these concerns.\n",
      "AI has been a focus of research and development for several decades, but its applications and capabilities have accelerated rapidly in recent years. AI has become a fundamental part of the digital infrastructure, transforming industries, products, and services.\n",
      "AI can be categorized into different types, including:\n",
      "1. Narrow or weak AI: AI that is designed to perform a specific task, such as image recognition, language translation, or playing chess.\n",
      "2. General or strong AI: AI that can perform"
     ]
    },
    {
     "name": "stdout",
     "output_type": "stream",
     "text": [
      " exciting, but also raises concerns about the potential impact on employment and society. Understanding the implications of AI and its development is crucial to addressing these concerns.\n",
      "AI has been a focus of research and development for several decades, but its applications and capabilities have accelerated rapidly in recent years. AI has become a fundamental part of the digital infrastructure, transforming industries, products, and services.\n",
      "AI can be categorized into different types, including:\n",
      "1. Narrow or weak AI: AI that is designed to perform a specific task, such as image recognition, language translation, or playing chess.\n",
      "2. General or strong AI: AI that can perform any"
     ]
    },
    {
     "name": "stdout",
     "output_type": "stream",
     "text": [
      " exciting, but also raises concerns about the potential impact on employment and society. Understanding the implications of AI and its development is crucial to addressing these concerns.\n",
      "AI has been a focus of research and development for several decades, but its applications and capabilities have accelerated rapidly in recent years. AI has become a fundamental part of the digital infrastructure, transforming industries, products, and services.\n",
      "AI can be categorized into different types, including:\n",
      "1. Narrow or weak AI: AI that is designed to perform a specific task, such as image recognition, language translation, or playing chess.\n",
      "2. General or strong AI: AI that can perform any intellectual"
     ]
    },
    {
     "name": "stdout",
     "output_type": "stream",
     "text": [
      " exciting, but also raises concerns about the potential impact on employment and society. Understanding the implications of AI and its development is crucial to addressing these concerns.\n",
      "AI has been a focus of research and development for several decades, but its applications and capabilities have accelerated rapidly in recent years. AI has become a fundamental part of the digital infrastructure, transforming industries, products, and services.\n",
      "AI can be categorized into different types, including:\n",
      "1. Narrow or weak AI: AI that is designed to perform a specific task, such as image recognition, language translation, or playing chess.\n",
      "2. General or strong AI: AI that can perform any intellectual task"
     ]
    },
    {
     "name": "stdout",
     "output_type": "stream",
     "text": [
      " exciting, but also raises concerns about the potential impact on employment and society. Understanding the implications of AI and its development is crucial to addressing these concerns.\n",
      "AI has been a focus of research and development for several decades, but its applications and capabilities have accelerated rapidly in recent years. AI has become a fundamental part of the digital infrastructure, transforming industries, products, and services.\n",
      "AI can be categorized into different types, including:\n",
      "1. Narrow or weak AI: AI that is designed to perform a specific task, such as image recognition, language translation, or playing chess.\n",
      "2. General or strong AI: AI that can perform any intellectual task that"
     ]
    },
    {
     "name": "stdout",
     "output_type": "stream",
     "text": [
      "\n"
     ]
    }
   ],
   "source": [
    "prompts = [\n",
    "    \"Hello, my name is\",\n",
    "    \"The capital of France is\",\n",
    "    \"The future of AI is\",\n",
    "]\n",
    "sampling_params = {\"temperature\": 0.8, \"top_p\": 0.95}\n",
    "\n",
    "print(\"\\n=== Testing asynchronous streaming generation ===\")\n",
    "\n",
    "\n",
    "async def main():\n",
    "    for prompt in prompts:\n",
    "        print(f\"\\nPrompt: {prompt}\")\n",
    "        print(\"Generated text: \", end=\"\", flush=True)\n",
    "\n",
    "        generator = await llm.async_generate(prompt, sampling_params, stream=True)\n",
    "        async for chunk in generator:\n",
    "            print(chunk[\"text\"], end=\"\", flush=True)\n",
    "        print()\n",
    "\n",
    "\n",
    "asyncio.run(main())"
   ]
  },
  {
   "cell_type": "code",
   "execution_count": 6,
   "metadata": {
    "execution": {
     "iopub.execute_input": "2025-01-20T09:07:06.724624Z",
     "iopub.status.busy": "2025-01-20T09:07:06.724467Z",
     "iopub.status.idle": "2025-01-20T09:07:06.741374Z",
     "shell.execute_reply": "2025-01-20T09:07:06.740806Z"
    }
   },
   "outputs": [],
   "source": [
    "llm.shutdown()"
   ]
  }
 ],
 "metadata": {
  "language_info": {
   "codemirror_mode": {
    "name": "ipython",
    "version": 3
   },
   "file_extension": ".py",
   "mimetype": "text/x-python",
   "name": "python",
   "nbconvert_exporter": "python",
   "pygments_lexer": "ipython3",
   "version": "3.9.21"
  }
 },
 "nbformat": 4,
 "nbformat_minor": 2
}
