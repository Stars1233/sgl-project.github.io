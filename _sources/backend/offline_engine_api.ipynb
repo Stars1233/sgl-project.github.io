{
 "cells": [
  {
   "cell_type": "markdown",
   "metadata": {},
   "source": [
    "# Offline Engine API\n",
    "\n",
    "SGLang provides a direct inference engine without the need for an HTTP server, especially for use cases where additional HTTP server adds unnecessary complexity or overhead. Here are two general use cases:\n",
    "\n",
    "- Offline Batch Inference\n",
    "- Custom Server on Top of the Engine\n",
    "\n",
    "This document focuses on the offline batch inference, demonstrating four different inference modes:\n",
    "\n",
    "- Non-streaming synchronous generation\n",
    "- Streaming synchronous generation\n",
    "- Non-streaming asynchronous generation\n",
    "- Streaming asynchronous generation\n",
    "\n",
    "Additionally, you can easily build a custom server on top of the SGLang offline engine. A detailed example working in a python script can be found in [custom_server](https://github.com/sgl-project/sglang/blob/main/examples/runtime/engine/custom_server.py)."
   ]
  },
  {
   "cell_type": "markdown",
   "metadata": {},
   "source": [
    "## Offline Batch Inference\n",
    "\n",
    "SGLang offline engine supports batch inference with efficient scheduling."
   ]
  },
  {
   "cell_type": "code",
   "execution_count": 1,
   "metadata": {
    "execution": {
     "iopub.execute_input": "2025-01-27T01:58:34.263709Z",
     "iopub.status.busy": "2025-01-27T01:58:34.263570Z",
     "iopub.status.idle": "2025-01-27T01:59:13.162972Z",
     "shell.execute_reply": "2025-01-27T01:59:13.162286Z"
    }
   },
   "outputs": [
    {
     "name": "stderr",
     "output_type": "stream",
     "text": [
      "\r",
      "Loading safetensors checkpoint shards:   0% Completed | 0/4 [00:00<?, ?it/s]\n"
     ]
    },
    {
     "name": "stderr",
     "output_type": "stream",
     "text": [
      "\r",
      "Loading safetensors checkpoint shards:  25% Completed | 1/4 [00:00<00:02,  1.26it/s]\n"
     ]
    },
    {
     "name": "stderr",
     "output_type": "stream",
     "text": [
      "\r",
      "Loading safetensors checkpoint shards:  50% Completed | 2/4 [00:01<00:00,  2.04it/s]\n"
     ]
    },
    {
     "name": "stderr",
     "output_type": "stream",
     "text": [
      "\r",
      "Loading safetensors checkpoint shards:  75% Completed | 3/4 [00:01<00:00,  1.47it/s]\n"
     ]
    },
    {
     "name": "stderr",
     "output_type": "stream",
     "text": [
      "\r",
      "Loading safetensors checkpoint shards: 100% Completed | 4/4 [00:02<00:00,  1.36it/s]\n",
      "\r",
      "Loading safetensors checkpoint shards: 100% Completed | 4/4 [00:02<00:00,  1.43it/s]\n",
      "\n"
     ]
    },
    {
     "name": "stderr",
     "output_type": "stream",
     "text": [
      "\r",
      "  0%|          | 0/23 [00:00<?, ?it/s]"
     ]
    },
    {
     "name": "stderr",
     "output_type": "stream",
     "text": [
      "\r",
      "  4%|▍         | 1/23 [00:00<00:20,  1.07it/s]\r",
      "  9%|▊         | 2/23 [00:01<00:09,  2.11it/s]"
     ]
    },
    {
     "name": "stderr",
     "output_type": "stream",
     "text": [
      "\r",
      " 13%|█▎        | 3/23 [00:01<00:06,  3.08it/s]\r",
      " 17%|█▋        | 4/23 [00:01<00:04,  3.96it/s]"
     ]
    },
    {
     "name": "stderr",
     "output_type": "stream",
     "text": [
      "\r",
      " 22%|██▏       | 5/23 [00:01<00:03,  4.64it/s]\r",
      " 26%|██▌       | 6/23 [00:01<00:03,  5.06it/s]"
     ]
    },
    {
     "name": "stderr",
     "output_type": "stream",
     "text": [
      "\r",
      " 30%|███       | 7/23 [00:01<00:02,  5.53it/s]\r",
      " 35%|███▍      | 8/23 [00:01<00:02,  5.92it/s]"
     ]
    },
    {
     "name": "stderr",
     "output_type": "stream",
     "text": [
      "\r",
      " 39%|███▉      | 9/23 [00:02<00:02,  6.20it/s]\r",
      " 43%|████▎     | 10/23 [00:02<00:02,  6.41it/s]"
     ]
    },
    {
     "name": "stderr",
     "output_type": "stream",
     "text": [
      "\r",
      " 48%|████▊     | 11/23 [00:02<00:01,  6.54it/s]\r",
      " 52%|█████▏    | 12/23 [00:02<00:01,  6.65it/s]"
     ]
    },
    {
     "name": "stderr",
     "output_type": "stream",
     "text": [
      "\r",
      " 57%|█████▋    | 13/23 [00:02<00:01,  6.71it/s]\r",
      " 61%|██████    | 14/23 [00:02<00:01,  6.76it/s]"
     ]
    },
    {
     "name": "stderr",
     "output_type": "stream",
     "text": [
      "\r",
      " 65%|██████▌   | 15/23 [00:02<00:01,  6.79it/s]\r",
      " 70%|██████▉   | 16/23 [00:03<00:01,  6.80it/s]"
     ]
    },
    {
     "name": "stderr",
     "output_type": "stream",
     "text": [
      "\r",
      " 74%|███████▍  | 17/23 [00:03<00:00,  6.84it/s]\r",
      " 78%|███████▊  | 18/23 [00:03<00:00,  6.85it/s]"
     ]
    },
    {
     "name": "stderr",
     "output_type": "stream",
     "text": [
      "\r",
      " 83%|████████▎ | 19/23 [00:03<00:00,  6.85it/s]\r",
      " 87%|████████▋ | 20/23 [00:03<00:00,  6.88it/s]"
     ]
    },
    {
     "name": "stderr",
     "output_type": "stream",
     "text": [
      "\r",
      " 91%|█████████▏| 21/23 [00:03<00:00,  6.88it/s]\r",
      " 96%|█████████▌| 22/23 [00:04<00:00,  6.88it/s]"
     ]
    },
    {
     "name": "stderr",
     "output_type": "stream",
     "text": [
      "\r",
      "100%|██████████| 23/23 [00:04<00:00,  6.88it/s]\r",
      "100%|██████████| 23/23 [00:04<00:00,  5.53it/s]\n"
     ]
    }
   ],
   "source": [
    "# launch the offline engine\n",
    "\n",
    "import sglang as sgl\n",
    "import asyncio\n",
    "\n",
    "llm = sgl.Engine(model_path=\"meta-llama/Meta-Llama-3.1-8B-Instruct\")"
   ]
  },
  {
   "cell_type": "markdown",
   "metadata": {},
   "source": [
    "### Non-streaming Synchronous Generation"
   ]
  },
  {
   "cell_type": "code",
   "execution_count": 2,
   "metadata": {
    "execution": {
     "iopub.execute_input": "2025-01-27T01:59:13.165450Z",
     "iopub.status.busy": "2025-01-27T01:59:13.164980Z",
     "iopub.status.idle": "2025-01-27T01:59:16.269645Z",
     "shell.execute_reply": "2025-01-27T01:59:16.269028Z"
    }
   },
   "outputs": [
    {
     "name": "stdout",
     "output_type": "stream",
     "text": [
      "===============================\n",
      "Prompt: Hello, my name is\n",
      "Generated text:  Aisha, I am a 24 year old woman from Nigeria and I have been living in the United Kingdom for the past 6 years. I have a strong passion for public speaking and I believe that the best way to get involved in a community is to lead and inspire others. In the past year, I have taken on various leadership roles in my community, including being the chairperson of my local community group and organizing various events for the community.\n",
      "I am writing to apply for a position as a youth leader at your organization. I am particularly drawn to this role because it will allow me to use my passion for public speaking to empower\n",
      "===============================\n",
      "Prompt: The president of the United States is\n",
      "Generated text:  not only the leader of the country but also a symbol of American values and a role model for the youth. For this reason, it is crucial to ensure that the president maintains a high level of integrity and character. One of the most critical qualities of a president is honesty. A president who is honest is more likely to gain the trust of the public and the international community. However, this is not always the case. In recent history, the US has had several presidents who have been accused of dishonesty. This essay will discuss the importance of honesty in a president and examine two cases where presidents have been accused of dishonesty.\n",
      "Honest\n",
      "===============================\n",
      "Prompt: The capital of France is\n",
      "Generated text:  also a city that is famous for its art, fashion, and cuisine. Paris is home to the Eiffel Tower, Notre Dame Cathedral, and the Louvre Museum, among other iconic landmarks. It's a city that has been a major hub for art, fashion, and culture for centuries and is a popular destination for tourists from all over the world. Here are some fun facts about Paris:\n",
      "1. The name \"Paris\" comes from the Celtic word \"Parisis,\" which means \"the city on the river.\" The city is situated on the Seine River, which runs through its center.\n",
      "2. Paris is home to some\n",
      "===============================\n",
      "Prompt: The future of AI is\n",
      "Generated text:  human-centered, and its design and development must prioritize ethics and accountability. – The Wall Street Journal\n",
      "Previous Previous post: Would you rather have a smart home or a smart city? – CNET\n",
      "Next Next post: The Dark Side of AI: 5 Ways It Could Be Used to Harm Us – Entrepreneur Next Next post: The Dark Side of AI: 5 Ways It Could Be Used to Harm Us – Entrepreneur\n",
      "How AI is helping doctors make better decisions – CNN\n",
      "AI Can Help Improve the Lives of People with Disabilities – Forbes\n",
      "Amazon and Google are working on AI-powered healthcare solutions – TechCrunch\n",
      "Apple’s AI-P\n"
     ]
    }
   ],
   "source": [
    "prompts = [\n",
    "    \"Hello, my name is\",\n",
    "    \"The president of the United States is\",\n",
    "    \"The capital of France is\",\n",
    "    \"The future of AI is\",\n",
    "]\n",
    "\n",
    "sampling_params = {\"temperature\": 0.8, \"top_p\": 0.95}\n",
    "\n",
    "outputs = llm.generate(prompts, sampling_params)\n",
    "for prompt, output in zip(prompts, outputs):\n",
    "    print(\"===============================\")\n",
    "    print(f\"Prompt: {prompt}\\nGenerated text: {output['text']}\")"
   ]
  },
  {
   "cell_type": "markdown",
   "metadata": {},
   "source": [
    "### Streaming Synchronous Generation"
   ]
  },
  {
   "cell_type": "code",
   "execution_count": 3,
   "metadata": {
    "execution": {
     "iopub.execute_input": "2025-01-27T01:59:16.271392Z",
     "iopub.status.busy": "2025-01-27T01:59:16.271126Z",
     "iopub.status.idle": "2025-01-27T01:59:19.145705Z",
     "shell.execute_reply": "2025-01-27T01:59:19.145148Z"
    }
   },
   "outputs": [
    {
     "name": "stdout",
     "output_type": "stream",
     "text": [
      "\n",
      "=== Testing synchronous streaming generation ===\n",
      "\n",
      "Prompt: Hello, my name is\n",
      "Generated text: "
     ]
    },
    {
     "name": "stdout",
     "output_type": "stream",
     "text": [
      " John"
     ]
    },
    {
     "name": "stdout",
     "output_type": "stream",
     "text": [
      " John and"
     ]
    },
    {
     "name": "stdout",
     "output_type": "stream",
     "text": [
      " John and I"
     ]
    },
    {
     "name": "stdout",
     "output_type": "stream",
     "text": [
      " John and I'm"
     ]
    },
    {
     "name": "stdout",
     "output_type": "stream",
     "text": [
      " John and I'm a"
     ]
    },
    {
     "name": "stdout",
     "output_type": "stream",
     "text": [
      " John and I'm a sex"
     ]
    },
    {
     "name": "stdout",
     "output_type": "stream",
     "text": [
      " John and I'm a sex offender"
     ]
    },
    {
     "name": "stdout",
     "output_type": "stream",
     "text": [
      " John and I'm a sex offender."
     ]
    },
    {
     "name": "stdout",
     "output_type": "stream",
     "text": [
      " John and I'm a sex offender. I"
     ]
    },
    {
     "name": "stdout",
     "output_type": "stream",
     "text": [
      " John and I'm a sex offender. I was"
     ]
    },
    {
     "name": "stdout",
     "output_type": "stream",
     "text": [
      " John and I'm a sex offender. I was convicted"
     ]
    },
    {
     "name": "stdout",
     "output_type": "stream",
     "text": [
      " John and I'm a sex offender. I was convicted of"
     ]
    },
    {
     "name": "stdout",
     "output_type": "stream",
     "text": [
      " John and I'm a sex offender. I was convicted of a"
     ]
    },
    {
     "name": "stdout",
     "output_type": "stream",
     "text": [
      " John and I'm a sex offender. I was convicted of a sex"
     ]
    },
    {
     "name": "stdout",
     "output_type": "stream",
     "text": [
      " John and I'm a sex offender. I was convicted of a sex crime"
     ]
    },
    {
     "name": "stdout",
     "output_type": "stream",
     "text": [
      " John and I'm a sex offender. I was convicted of a sex crime many"
     ]
    },
    {
     "name": "stdout",
     "output_type": "stream",
     "text": [
      " John and I'm a sex offender. I was convicted of a sex crime many years"
     ]
    },
    {
     "name": "stdout",
     "output_type": "stream",
     "text": [
      " John and I'm a sex offender. I was convicted of a sex crime many years ago"
     ]
    },
    {
     "name": "stdout",
     "output_type": "stream",
     "text": [
      " John and I'm a sex offender. I was convicted of a sex crime many years ago,"
     ]
    },
    {
     "name": "stdout",
     "output_type": "stream",
     "text": [
      " John and I'm a sex offender. I was convicted of a sex crime many years ago, and"
     ]
    },
    {
     "name": "stdout",
     "output_type": "stream",
     "text": [
      " John and I'm a sex offender. I was convicted of a sex crime many years ago, and I"
     ]
    },
    {
     "name": "stdout",
     "output_type": "stream",
     "text": [
      " John and I'm a sex offender. I was convicted of a sex crime many years ago, and I'm"
     ]
    },
    {
     "name": "stdout",
     "output_type": "stream",
     "text": [
      " John and I'm a sex offender. I was convicted of a sex crime many years ago, and I'm required"
     ]
    },
    {
     "name": "stdout",
     "output_type": "stream",
     "text": [
      " John and I'm a sex offender. I was convicted of a sex crime many years ago, and I'm required to"
     ]
    },
    {
     "name": "stdout",
     "output_type": "stream",
     "text": [
      " John and I'm a sex offender. I was convicted of a sex crime many years ago, and I'm required to register"
     ]
    },
    {
     "name": "stdout",
     "output_type": "stream",
     "text": [
      " John and I'm a sex offender. I was convicted of a sex crime many years ago, and I'm required to register as"
     ]
    },
    {
     "name": "stdout",
     "output_type": "stream",
     "text": [
      " John and I'm a sex offender. I was convicted of a sex crime many years ago, and I'm required to register as a"
     ]
    },
    {
     "name": "stdout",
     "output_type": "stream",
     "text": [
      " John and I'm a sex offender. I was convicted of a sex crime many years ago, and I'm required to register as a sex"
     ]
    },
    {
     "name": "stdout",
     "output_type": "stream",
     "text": [
      " John and I'm a sex offender. I was convicted of a sex crime many years ago, and I'm required to register as a sex offender"
     ]
    },
    {
     "name": "stdout",
     "output_type": "stream",
     "text": [
      " John and I'm a sex offender. I was convicted of a sex crime many years ago, and I'm required to register as a sex offender."
     ]
    },
    {
     "name": "stdout",
     "output_type": "stream",
     "text": [
      " John and I'm a sex offender. I was convicted of a sex crime many years ago, and I'm required to register as a sex offender. I"
     ]
    },
    {
     "name": "stdout",
     "output_type": "stream",
     "text": [
      " John and I'm a sex offender. I was convicted of a sex crime many years ago, and I'm required to register as a sex offender. I'm"
     ]
    },
    {
     "name": "stdout",
     "output_type": "stream",
     "text": [
      " John and I'm a sex offender. I was convicted of a sex crime many years ago, and I'm required to register as a sex offender. I'm not"
     ]
    },
    {
     "name": "stdout",
     "output_type": "stream",
     "text": [
      " John and I'm a sex offender. I was convicted of a sex crime many years ago, and I'm required to register as a sex offender. I'm not proud"
     ]
    },
    {
     "name": "stdout",
     "output_type": "stream",
     "text": [
      " John and I'm a sex offender. I was convicted of a sex crime many years ago, and I'm required to register as a sex offender. I'm not proud of"
     ]
    },
    {
     "name": "stdout",
     "output_type": "stream",
     "text": [
      " John and I'm a sex offender. I was convicted of a sex crime many years ago, and I'm required to register as a sex offender. I'm not proud of my"
     ]
    },
    {
     "name": "stdout",
     "output_type": "stream",
     "text": [
      " John and I'm a sex offender. I was convicted of a sex crime many years ago, and I'm required to register as a sex offender. I'm not proud of my past"
     ]
    },
    {
     "name": "stdout",
     "output_type": "stream",
     "text": [
      " John and I'm a sex offender. I was convicted of a sex crime many years ago, and I'm required to register as a sex offender. I'm not proud of my past,"
     ]
    },
    {
     "name": "stdout",
     "output_type": "stream",
     "text": [
      " John and I'm a sex offender. I was convicted of a sex crime many years ago, and I'm required to register as a sex offender. I'm not proud of my past, but"
     ]
    },
    {
     "name": "stdout",
     "output_type": "stream",
     "text": [
      " John and I'm a sex offender. I was convicted of a sex crime many years ago, and I'm required to register as a sex offender. I'm not proud of my past, but I"
     ]
    },
    {
     "name": "stdout",
     "output_type": "stream",
     "text": [
      " John and I'm a sex offender. I was convicted of a sex crime many years ago, and I'm required to register as a sex offender. I'm not proud of my past, but I'm"
     ]
    },
    {
     "name": "stdout",
     "output_type": "stream",
     "text": [
      " John and I'm a sex offender. I was convicted of a sex crime many years ago, and I'm required to register as a sex offender. I'm not proud of my past, but I'm trying"
     ]
    },
    {
     "name": "stdout",
     "output_type": "stream",
     "text": [
      " John and I'm a sex offender. I was convicted of a sex crime many years ago, and I'm required to register as a sex offender. I'm not proud of my past, but I'm trying to"
     ]
    },
    {
     "name": "stdout",
     "output_type": "stream",
     "text": [
      " John and I'm a sex offender. I was convicted of a sex crime many years ago, and I'm required to register as a sex offender. I'm not proud of my past, but I'm trying to rebuild"
     ]
    },
    {
     "name": "stdout",
     "output_type": "stream",
     "text": [
      " John and I'm a sex offender. I was convicted of a sex crime many years ago, and I'm required to register as a sex offender. I'm not proud of my past, but I'm trying to rebuild my"
     ]
    },
    {
     "name": "stdout",
     "output_type": "stream",
     "text": [
      " John and I'm a sex offender. I was convicted of a sex crime many years ago, and I'm required to register as a sex offender. I'm not proud of my past, but I'm trying to rebuild my life"
     ]
    },
    {
     "name": "stdout",
     "output_type": "stream",
     "text": [
      " John and I'm a sex offender. I was convicted of a sex crime many years ago, and I'm required to register as a sex offender. I'm not proud of my past, but I'm trying to rebuild my life.\n"
     ]
    },
    {
     "name": "stdout",
     "output_type": "stream",
     "text": [
      " John and I'm a sex offender. I was convicted of a sex crime many years ago, and I'm required to register as a sex offender. I'm not proud of my past, but I'm trying to rebuild my life.\n",
      "As"
     ]
    },
    {
     "name": "stdout",
     "output_type": "stream",
     "text": [
      " John and I'm a sex offender. I was convicted of a sex crime many years ago, and I'm required to register as a sex offender. I'm not proud of my past, but I'm trying to rebuild my life.\n",
      "As a"
     ]
    },
    {
     "name": "stdout",
     "output_type": "stream",
     "text": [
      " John and I'm a sex offender. I was convicted of a sex crime many years ago, and I'm required to register as a sex offender. I'm not proud of my past, but I'm trying to rebuild my life.\n",
      "As a registered"
     ]
    },
    {
     "name": "stdout",
     "output_type": "stream",
     "text": [
      " John and I'm a sex offender. I was convicted of a sex crime many years ago, and I'm required to register as a sex offender. I'm not proud of my past, but I'm trying to rebuild my life.\n",
      "As a registered sex"
     ]
    },
    {
     "name": "stdout",
     "output_type": "stream",
     "text": [
      " John and I'm a sex offender. I was convicted of a sex crime many years ago, and I'm required to register as a sex offender. I'm not proud of my past, but I'm trying to rebuild my life.\n",
      "As a registered sex offender"
     ]
    },
    {
     "name": "stdout",
     "output_type": "stream",
     "text": [
      " John and I'm a sex offender. I was convicted of a sex crime many years ago, and I'm required to register as a sex offender. I'm not proud of my past, but I'm trying to rebuild my life.\n",
      "As a registered sex offender,"
     ]
    },
    {
     "name": "stdout",
     "output_type": "stream",
     "text": [
      " John and I'm a sex offender. I was convicted of a sex crime many years ago, and I'm required to register as a sex offender. I'm not proud of my past, but I'm trying to rebuild my life.\n",
      "As a registered sex offender, I"
     ]
    },
    {
     "name": "stdout",
     "output_type": "stream",
     "text": [
      " John and I'm a sex offender. I was convicted of a sex crime many years ago, and I'm required to register as a sex offender. I'm not proud of my past, but I'm trying to rebuild my life.\n",
      "As a registered sex offender, I have"
     ]
    },
    {
     "name": "stdout",
     "output_type": "stream",
     "text": [
      " John and I'm a sex offender. I was convicted of a sex crime many years ago, and I'm required to register as a sex offender. I'm not proud of my past, but I'm trying to rebuild my life.\n",
      "As a registered sex offender, I have to"
     ]
    },
    {
     "name": "stdout",
     "output_type": "stream",
     "text": [
      " John and I'm a sex offender. I was convicted of a sex crime many years ago, and I'm required to register as a sex offender. I'm not proud of my past, but I'm trying to rebuild my life.\n",
      "As a registered sex offender, I have to follow"
     ]
    },
    {
     "name": "stdout",
     "output_type": "stream",
     "text": [
      " John and I'm a sex offender. I was convicted of a sex crime many years ago, and I'm required to register as a sex offender. I'm not proud of my past, but I'm trying to rebuild my life.\n",
      "As a registered sex offender, I have to follow certain"
     ]
    },
    {
     "name": "stdout",
     "output_type": "stream",
     "text": [
      " John and I'm a sex offender. I was convicted of a sex crime many years ago, and I'm required to register as a sex offender. I'm not proud of my past, but I'm trying to rebuild my life.\n",
      "As a registered sex offender, I have to follow certain rules"
     ]
    },
    {
     "name": "stdout",
     "output_type": "stream",
     "text": [
      " John and I'm a sex offender. I was convicted of a sex crime many years ago, and I'm required to register as a sex offender. I'm not proud of my past, but I'm trying to rebuild my life.\n",
      "As a registered sex offender, I have to follow certain rules and"
     ]
    },
    {
     "name": "stdout",
     "output_type": "stream",
     "text": [
      " John and I'm a sex offender. I was convicted of a sex crime many years ago, and I'm required to register as a sex offender. I'm not proud of my past, but I'm trying to rebuild my life.\n",
      "As a registered sex offender, I have to follow certain rules and restrictions"
     ]
    },
    {
     "name": "stdout",
     "output_type": "stream",
     "text": [
      " John and I'm a sex offender. I was convicted of a sex crime many years ago, and I'm required to register as a sex offender. I'm not proud of my past, but I'm trying to rebuild my life.\n",
      "As a registered sex offender, I have to follow certain rules and restrictions."
     ]
    },
    {
     "name": "stdout",
     "output_type": "stream",
     "text": [
      " John and I'm a sex offender. I was convicted of a sex crime many years ago, and I'm required to register as a sex offender. I'm not proud of my past, but I'm trying to rebuild my life.\n",
      "As a registered sex offender, I have to follow certain rules and restrictions. I"
     ]
    },
    {
     "name": "stdout",
     "output_type": "stream",
     "text": [
      " John and I'm a sex offender. I was convicted of a sex crime many years ago, and I'm required to register as a sex offender. I'm not proud of my past, but I'm trying to rebuild my life.\n",
      "As a registered sex offender, I have to follow certain rules and restrictions. I'm"
     ]
    },
    {
     "name": "stdout",
     "output_type": "stream",
     "text": [
      " John and I'm a sex offender. I was convicted of a sex crime many years ago, and I'm required to register as a sex offender. I'm not proud of my past, but I'm trying to rebuild my life.\n",
      "As a registered sex offender, I have to follow certain rules and restrictions. I'm not"
     ]
    },
    {
     "name": "stdout",
     "output_type": "stream",
     "text": [
      " John and I'm a sex offender. I was convicted of a sex crime many years ago, and I'm required to register as a sex offender. I'm not proud of my past, but I'm trying to rebuild my life.\n",
      "As a registered sex offender, I have to follow certain rules and restrictions. I'm not allowed"
     ]
    },
    {
     "name": "stdout",
     "output_type": "stream",
     "text": [
      " John and I'm a sex offender. I was convicted of a sex crime many years ago, and I'm required to register as a sex offender. I'm not proud of my past, but I'm trying to rebuild my life.\n",
      "As a registered sex offender, I have to follow certain rules and restrictions. I'm not allowed to"
     ]
    },
    {
     "name": "stdout",
     "output_type": "stream",
     "text": [
      " John and I'm a sex offender. I was convicted of a sex crime many years ago, and I'm required to register as a sex offender. I'm not proud of my past, but I'm trying to rebuild my life.\n",
      "As a registered sex offender, I have to follow certain rules and restrictions. I'm not allowed to live"
     ]
    },
    {
     "name": "stdout",
     "output_type": "stream",
     "text": [
      " John and I'm a sex offender. I was convicted of a sex crime many years ago, and I'm required to register as a sex offender. I'm not proud of my past, but I'm trying to rebuild my life.\n",
      "As a registered sex offender, I have to follow certain rules and restrictions. I'm not allowed to live near"
     ]
    },
    {
     "name": "stdout",
     "output_type": "stream",
     "text": [
      " John and I'm a sex offender. I was convicted of a sex crime many years ago, and I'm required to register as a sex offender. I'm not proud of my past, but I'm trying to rebuild my life.\n",
      "As a registered sex offender, I have to follow certain rules and restrictions. I'm not allowed to live near schools"
     ]
    },
    {
     "name": "stdout",
     "output_type": "stream",
     "text": [
      " John and I'm a sex offender. I was convicted of a sex crime many years ago, and I'm required to register as a sex offender. I'm not proud of my past, but I'm trying to rebuild my life.\n",
      "As a registered sex offender, I have to follow certain rules and restrictions. I'm not allowed to live near schools,"
     ]
    },
    {
     "name": "stdout",
     "output_type": "stream",
     "text": [
      " John and I'm a sex offender. I was convicted of a sex crime many years ago, and I'm required to register as a sex offender. I'm not proud of my past, but I'm trying to rebuild my life.\n",
      "As a registered sex offender, I have to follow certain rules and restrictions. I'm not allowed to live near schools, parks"
     ]
    },
    {
     "name": "stdout",
     "output_type": "stream",
     "text": [
      " John and I'm a sex offender. I was convicted of a sex crime many years ago, and I'm required to register as a sex offender. I'm not proud of my past, but I'm trying to rebuild my life.\n",
      "As a registered sex offender, I have to follow certain rules and restrictions. I'm not allowed to live near schools, parks,"
     ]
    },
    {
     "name": "stdout",
     "output_type": "stream",
     "text": [
      " John and I'm a sex offender. I was convicted of a sex crime many years ago, and I'm required to register as a sex offender. I'm not proud of my past, but I'm trying to rebuild my life.\n",
      "As a registered sex offender, I have to follow certain rules and restrictions. I'm not allowed to live near schools, parks, or"
     ]
    },
    {
     "name": "stdout",
     "output_type": "stream",
     "text": [
      " John and I'm a sex offender. I was convicted of a sex crime many years ago, and I'm required to register as a sex offender. I'm not proud of my past, but I'm trying to rebuild my life.\n",
      "As a registered sex offender, I have to follow certain rules and restrictions. I'm not allowed to live near schools, parks, or other"
     ]
    },
    {
     "name": "stdout",
     "output_type": "stream",
     "text": [
      " John and I'm a sex offender. I was convicted of a sex crime many years ago, and I'm required to register as a sex offender. I'm not proud of my past, but I'm trying to rebuild my life.\n",
      "As a registered sex offender, I have to follow certain rules and restrictions. I'm not allowed to live near schools, parks, or other areas"
     ]
    },
    {
     "name": "stdout",
     "output_type": "stream",
     "text": [
      " John and I'm a sex offender. I was convicted of a sex crime many years ago, and I'm required to register as a sex offender. I'm not proud of my past, but I'm trying to rebuild my life.\n",
      "As a registered sex offender, I have to follow certain rules and restrictions. I'm not allowed to live near schools, parks, or other areas where"
     ]
    },
    {
     "name": "stdout",
     "output_type": "stream",
     "text": [
      " John and I'm a sex offender. I was convicted of a sex crime many years ago, and I'm required to register as a sex offender. I'm not proud of my past, but I'm trying to rebuild my life.\n",
      "As a registered sex offender, I have to follow certain rules and restrictions. I'm not allowed to live near schools, parks, or other areas where children"
     ]
    },
    {
     "name": "stdout",
     "output_type": "stream",
     "text": [
      " John and I'm a sex offender. I was convicted of a sex crime many years ago, and I'm required to register as a sex offender. I'm not proud of my past, but I'm trying to rebuild my life.\n",
      "As a registered sex offender, I have to follow certain rules and restrictions. I'm not allowed to live near schools, parks, or other areas where children are"
     ]
    },
    {
     "name": "stdout",
     "output_type": "stream",
     "text": [
      " John and I'm a sex offender. I was convicted of a sex crime many years ago, and I'm required to register as a sex offender. I'm not proud of my past, but I'm trying to rebuild my life.\n",
      "As a registered sex offender, I have to follow certain rules and restrictions. I'm not allowed to live near schools, parks, or other areas where children are present"
     ]
    },
    {
     "name": "stdout",
     "output_type": "stream",
     "text": [
      " John and I'm a sex offender. I was convicted of a sex crime many years ago, and I'm required to register as a sex offender. I'm not proud of my past, but I'm trying to rebuild my life.\n",
      "As a registered sex offender, I have to follow certain rules and restrictions. I'm not allowed to live near schools, parks, or other areas where children are present."
     ]
    },
    {
     "name": "stdout",
     "output_type": "stream",
     "text": [
      " John and I'm a sex offender. I was convicted of a sex crime many years ago, and I'm required to register as a sex offender. I'm not proud of my past, but I'm trying to rebuild my life.\n",
      "As a registered sex offender, I have to follow certain rules and restrictions. I'm not allowed to live near schools, parks, or other areas where children are present. I"
     ]
    },
    {
     "name": "stdout",
     "output_type": "stream",
     "text": [
      " John and I'm a sex offender. I was convicted of a sex crime many years ago, and I'm required to register as a sex offender. I'm not proud of my past, but I'm trying to rebuild my life.\n",
      "As a registered sex offender, I have to follow certain rules and restrictions. I'm not allowed to live near schools, parks, or other areas where children are present. I have"
     ]
    },
    {
     "name": "stdout",
     "output_type": "stream",
     "text": [
      " John and I'm a sex offender. I was convicted of a sex crime many years ago, and I'm required to register as a sex offender. I'm not proud of my past, but I'm trying to rebuild my life.\n",
      "As a registered sex offender, I have to follow certain rules and restrictions. I'm not allowed to live near schools, parks, or other areas where children are present. I have to"
     ]
    },
    {
     "name": "stdout",
     "output_type": "stream",
     "text": [
      " John and I'm a sex offender. I was convicted of a sex crime many years ago, and I'm required to register as a sex offender. I'm not proud of my past, but I'm trying to rebuild my life.\n",
      "As a registered sex offender, I have to follow certain rules and restrictions. I'm not allowed to live near schools, parks, or other areas where children are present. I have to tell"
     ]
    },
    {
     "name": "stdout",
     "output_type": "stream",
     "text": [
      " John and I'm a sex offender. I was convicted of a sex crime many years ago, and I'm required to register as a sex offender. I'm not proud of my past, but I'm trying to rebuild my life.\n",
      "As a registered sex offender, I have to follow certain rules and restrictions. I'm not allowed to live near schools, parks, or other areas where children are present. I have to tell my"
     ]
    },
    {
     "name": "stdout",
     "output_type": "stream",
     "text": [
      " John and I'm a sex offender. I was convicted of a sex crime many years ago, and I'm required to register as a sex offender. I'm not proud of my past, but I'm trying to rebuild my life.\n",
      "As a registered sex offender, I have to follow certain rules and restrictions. I'm not allowed to live near schools, parks, or other areas where children are present. I have to tell my employer"
     ]
    },
    {
     "name": "stdout",
     "output_type": "stream",
     "text": [
      " John and I'm a sex offender. I was convicted of a sex crime many years ago, and I'm required to register as a sex offender. I'm not proud of my past, but I'm trying to rebuild my life.\n",
      "As a registered sex offender, I have to follow certain rules and restrictions. I'm not allowed to live near schools, parks, or other areas where children are present. I have to tell my employer and"
     ]
    },
    {
     "name": "stdout",
     "output_type": "stream",
     "text": [
      " John and I'm a sex offender. I was convicted of a sex crime many years ago, and I'm required to register as a sex offender. I'm not proud of my past, but I'm trying to rebuild my life.\n",
      "As a registered sex offender, I have to follow certain rules and restrictions. I'm not allowed to live near schools, parks, or other areas where children are present. I have to tell my employer and my"
     ]
    },
    {
     "name": "stdout",
     "output_type": "stream",
     "text": [
      " John and I'm a sex offender. I was convicted of a sex crime many years ago, and I'm required to register as a sex offender. I'm not proud of my past, but I'm trying to rebuild my life.\n",
      "As a registered sex offender, I have to follow certain rules and restrictions. I'm not allowed to live near schools, parks, or other areas where children are present. I have to tell my employer and my neighbors"
     ]
    },
    {
     "name": "stdout",
     "output_type": "stream",
     "text": [
      " John and I'm a sex offender. I was convicted of a sex crime many years ago, and I'm required to register as a sex offender. I'm not proud of my past, but I'm trying to rebuild my life.\n",
      "As a registered sex offender, I have to follow certain rules and restrictions. I'm not allowed to live near schools, parks, or other areas where children are present. I have to tell my employer and my neighbors about"
     ]
    },
    {
     "name": "stdout",
     "output_type": "stream",
     "text": [
      " John and I'm a sex offender. I was convicted of a sex crime many years ago, and I'm required to register as a sex offender. I'm not proud of my past, but I'm trying to rebuild my life.\n",
      "As a registered sex offender, I have to follow certain rules and restrictions. I'm not allowed to live near schools, parks, or other areas where children are present. I have to tell my employer and my neighbors about my"
     ]
    },
    {
     "name": "stdout",
     "output_type": "stream",
     "text": [
      " John and I'm a sex offender. I was convicted of a sex crime many years ago, and I'm required to register as a sex offender. I'm not proud of my past, but I'm trying to rebuild my life.\n",
      "As a registered sex offender, I have to follow certain rules and restrictions. I'm not allowed to live near schools, parks, or other areas where children are present. I have to tell my employer and my neighbors about my status"
     ]
    },
    {
     "name": "stdout",
     "output_type": "stream",
     "text": [
      " John and I'm a sex offender. I was convicted of a sex crime many years ago, and I'm required to register as a sex offender. I'm not proud of my past, but I'm trying to rebuild my life.\n",
      "As a registered sex offender, I have to follow certain rules and restrictions. I'm not allowed to live near schools, parks, or other areas where children are present. I have to tell my employer and my neighbors about my status."
     ]
    },
    {
     "name": "stdout",
     "output_type": "stream",
     "text": [
      " John and I'm a sex offender. I was convicted of a sex crime many years ago, and I'm required to register as a sex offender. I'm not proud of my past, but I'm trying to rebuild my life.\n",
      "As a registered sex offender, I have to follow certain rules and restrictions. I'm not allowed to live near schools, parks, or other areas where children are present. I have to tell my employer and my neighbors about my status. And"
     ]
    },
    {
     "name": "stdout",
     "output_type": "stream",
     "text": [
      " John and I'm a sex offender. I was convicted of a sex crime many years ago, and I'm required to register as a sex offender. I'm not proud of my past, but I'm trying to rebuild my life.\n",
      "As a registered sex offender, I have to follow certain rules and restrictions. I'm not allowed to live near schools, parks, or other areas where children are present. I have to tell my employer and my neighbors about my status. And I"
     ]
    },
    {
     "name": "stdout",
     "output_type": "stream",
     "text": [
      " John and I'm a sex offender. I was convicted of a sex crime many years ago, and I'm required to register as a sex offender. I'm not proud of my past, but I'm trying to rebuild my life.\n",
      "As a registered sex offender, I have to follow certain rules and restrictions. I'm not allowed to live near schools, parks, or other areas where children are present. I have to tell my employer and my neighbors about my status. And I have"
     ]
    },
    {
     "name": "stdout",
     "output_type": "stream",
     "text": [
      " John and I'm a sex offender. I was convicted of a sex crime many years ago, and I'm required to register as a sex offender. I'm not proud of my past, but I'm trying to rebuild my life.\n",
      "As a registered sex offender, I have to follow certain rules and restrictions. I'm not allowed to live near schools, parks, or other areas where children are present. I have to tell my employer and my neighbors about my status. And I have to"
     ]
    },
    {
     "name": "stdout",
     "output_type": "stream",
     "text": [
      " John and I'm a sex offender. I was convicted of a sex crime many years ago, and I'm required to register as a sex offender. I'm not proud of my past, but I'm trying to rebuild my life.\n",
      "As a registered sex offender, I have to follow certain rules and restrictions. I'm not allowed to live near schools, parks, or other areas where children are present. I have to tell my employer and my neighbors about my status. And I have to regularly"
     ]
    },
    {
     "name": "stdout",
     "output_type": "stream",
     "text": [
      " John and I'm a sex offender. I was convicted of a sex crime many years ago, and I'm required to register as a sex offender. I'm not proud of my past, but I'm trying to rebuild my life.\n",
      "As a registered sex offender, I have to follow certain rules and restrictions. I'm not allowed to live near schools, parks, or other areas where children are present. I have to tell my employer and my neighbors about my status. And I have to regularly visit"
     ]
    },
    {
     "name": "stdout",
     "output_type": "stream",
     "text": [
      " John and I'm a sex offender. I was convicted of a sex crime many years ago, and I'm required to register as a sex offender. I'm not proud of my past, but I'm trying to rebuild my life.\n",
      "As a registered sex offender, I have to follow certain rules and restrictions. I'm not allowed to live near schools, parks, or other areas where children are present. I have to tell my employer and my neighbors about my status. And I have to regularly visit with"
     ]
    },
    {
     "name": "stdout",
     "output_type": "stream",
     "text": [
      " John and I'm a sex offender. I was convicted of a sex crime many years ago, and I'm required to register as a sex offender. I'm not proud of my past, but I'm trying to rebuild my life.\n",
      "As a registered sex offender, I have to follow certain rules and restrictions. I'm not allowed to live near schools, parks, or other areas where children are present. I have to tell my employer and my neighbors about my status. And I have to regularly visit with a"
     ]
    },
    {
     "name": "stdout",
     "output_type": "stream",
     "text": [
      " John and I'm a sex offender. I was convicted of a sex crime many years ago, and I'm required to register as a sex offender. I'm not proud of my past, but I'm trying to rebuild my life.\n",
      "As a registered sex offender, I have to follow certain rules and restrictions. I'm not allowed to live near schools, parks, or other areas where children are present. I have to tell my employer and my neighbors about my status. And I have to regularly visit with a probation"
     ]
    },
    {
     "name": "stdout",
     "output_type": "stream",
     "text": [
      " John and I'm a sex offender. I was convicted of a sex crime many years ago, and I'm required to register as a sex offender. I'm not proud of my past, but I'm trying to rebuild my life.\n",
      "As a registered sex offender, I have to follow certain rules and restrictions. I'm not allowed to live near schools, parks, or other areas where children are present. I have to tell my employer and my neighbors about my status. And I have to regularly visit with a probation officer"
     ]
    },
    {
     "name": "stdout",
     "output_type": "stream",
     "text": [
      " John and I'm a sex offender. I was convicted of a sex crime many years ago, and I'm required to register as a sex offender. I'm not proud of my past, but I'm trying to rebuild my life.\n",
      "As a registered sex offender, I have to follow certain rules and restrictions. I'm not allowed to live near schools, parks, or other areas where children are present. I have to tell my employer and my neighbors about my status. And I have to regularly visit with a probation officer to"
     ]
    },
    {
     "name": "stdout",
     "output_type": "stream",
     "text": [
      " John and I'm a sex offender. I was convicted of a sex crime many years ago, and I'm required to register as a sex offender. I'm not proud of my past, but I'm trying to rebuild my life.\n",
      "As a registered sex offender, I have to follow certain rules and restrictions. I'm not allowed to live near schools, parks, or other areas where children are present. I have to tell my employer and my neighbors about my status. And I have to regularly visit with a probation officer to make"
     ]
    },
    {
     "name": "stdout",
     "output_type": "stream",
     "text": [
      " John and I'm a sex offender. I was convicted of a sex crime many years ago, and I'm required to register as a sex offender. I'm not proud of my past, but I'm trying to rebuild my life.\n",
      "As a registered sex offender, I have to follow certain rules and restrictions. I'm not allowed to live near schools, parks, or other areas where children are present. I have to tell my employer and my neighbors about my status. And I have to regularly visit with a probation officer to make sure"
     ]
    },
    {
     "name": "stdout",
     "output_type": "stream",
     "text": [
      " John and I'm a sex offender. I was convicted of a sex crime many years ago, and I'm required to register as a sex offender. I'm not proud of my past, but I'm trying to rebuild my life.\n",
      "As a registered sex offender, I have to follow certain rules and restrictions. I'm not allowed to live near schools, parks, or other areas where children are present. I have to tell my employer and my neighbors about my status. And I have to regularly visit with a probation officer to make sure I"
     ]
    },
    {
     "name": "stdout",
     "output_type": "stream",
     "text": [
      " John and I'm a sex offender. I was convicted of a sex crime many years ago, and I'm required to register as a sex offender. I'm not proud of my past, but I'm trying to rebuild my life.\n",
      "As a registered sex offender, I have to follow certain rules and restrictions. I'm not allowed to live near schools, parks, or other areas where children are present. I have to tell my employer and my neighbors about my status. And I have to regularly visit with a probation officer to make sure I'm"
     ]
    },
    {
     "name": "stdout",
     "output_type": "stream",
     "text": [
      " John and I'm a sex offender. I was convicted of a sex crime many years ago, and I'm required to register as a sex offender. I'm not proud of my past, but I'm trying to rebuild my life.\n",
      "As a registered sex offender, I have to follow certain rules and restrictions. I'm not allowed to live near schools, parks, or other areas where children are present. I have to tell my employer and my neighbors about my status. And I have to regularly visit with a probation officer to make sure I'm following"
     ]
    },
    {
     "name": "stdout",
     "output_type": "stream",
     "text": [
      " John and I'm a sex offender. I was convicted of a sex crime many years ago, and I'm required to register as a sex offender. I'm not proud of my past, but I'm trying to rebuild my life.\n",
      "As a registered sex offender, I have to follow certain rules and restrictions. I'm not allowed to live near schools, parks, or other areas where children are present. I have to tell my employer and my neighbors about my status. And I have to regularly visit with a probation officer to make sure I'm following the"
     ]
    },
    {
     "name": "stdout",
     "output_type": "stream",
     "text": [
      " John and I'm a sex offender. I was convicted of a sex crime many years ago, and I'm required to register as a sex offender. I'm not proud of my past, but I'm trying to rebuild my life.\n",
      "As a registered sex offender, I have to follow certain rules and restrictions. I'm not allowed to live near schools, parks, or other areas where children are present. I have to tell my employer and my neighbors about my status. And I have to regularly visit with a probation officer to make sure I'm following the rules"
     ]
    },
    {
     "name": "stdout",
     "output_type": "stream",
     "text": [
      " John and I'm a sex offender. I was convicted of a sex crime many years ago, and I'm required to register as a sex offender. I'm not proud of my past, but I'm trying to rebuild my life.\n",
      "As a registered sex offender, I have to follow certain rules and restrictions. I'm not allowed to live near schools, parks, or other areas where children are present. I have to tell my employer and my neighbors about my status. And I have to regularly visit with a probation officer to make sure I'm following the rules.\n"
     ]
    },
    {
     "name": "stdout",
     "output_type": "stream",
     "text": [
      " John and I'm a sex offender. I was convicted of a sex crime many years ago, and I'm required to register as a sex offender. I'm not proud of my past, but I'm trying to rebuild my life.\n",
      "As a registered sex offender, I have to follow certain rules and restrictions. I'm not allowed to live near schools, parks, or other areas where children are present. I have to tell my employer and my neighbors about my status. And I have to regularly visit with a probation officer to make sure I'm following the rules.\n",
      "It"
     ]
    },
    {
     "name": "stdout",
     "output_type": "stream",
     "text": [
      " John and I'm a sex offender. I was convicted of a sex crime many years ago, and I'm required to register as a sex offender. I'm not proud of my past, but I'm trying to rebuild my life.\n",
      "As a registered sex offender, I have to follow certain rules and restrictions. I'm not allowed to live near schools, parks, or other areas where children are present. I have to tell my employer and my neighbors about my status. And I have to regularly visit with a probation officer to make sure I'm following the rules.\n",
      "It's"
     ]
    },
    {
     "name": "stdout",
     "output_type": "stream",
     "text": [
      " John and I'm a sex offender. I was convicted of a sex crime many years ago, and I'm required to register as a sex offender. I'm not proud of my past, but I'm trying to rebuild my life.\n",
      "As a registered sex offender, I have to follow certain rules and restrictions. I'm not allowed to live near schools, parks, or other areas where children are present. I have to tell my employer and my neighbors about my status. And I have to regularly visit with a probation officer to make sure I'm following the rules.\n",
      "It's hard"
     ]
    },
    {
     "name": "stdout",
     "output_type": "stream",
     "text": [
      " John and I'm a sex offender. I was convicted of a sex crime many years ago, and I'm required to register as a sex offender. I'm not proud of my past, but I'm trying to rebuild my life.\n",
      "As a registered sex offender, I have to follow certain rules and restrictions. I'm not allowed to live near schools, parks, or other areas where children are present. I have to tell my employer and my neighbors about my status. And I have to regularly visit with a probation officer to make sure I'm following the rules.\n",
      "It's hard,"
     ]
    },
    {
     "name": "stdout",
     "output_type": "stream",
     "text": [
      " John and I'm a sex offender. I was convicted of a sex crime many years ago, and I'm required to register as a sex offender. I'm not proud of my past, but I'm trying to rebuild my life.\n",
      "As a registered sex offender, I have to follow certain rules and restrictions. I'm not allowed to live near schools, parks, or other areas where children are present. I have to tell my employer and my neighbors about my status. And I have to regularly visit with a probation officer to make sure I'm following the rules.\n",
      "It's hard, but"
     ]
    },
    {
     "name": "stdout",
     "output_type": "stream",
     "text": [
      " John and I'm a sex offender. I was convicted of a sex crime many years ago, and I'm required to register as a sex offender. I'm not proud of my past, but I'm trying to rebuild my life.\n",
      "As a registered sex offender, I have to follow certain rules and restrictions. I'm not allowed to live near schools, parks, or other areas where children are present. I have to tell my employer and my neighbors about my status. And I have to regularly visit with a probation officer to make sure I'm following the rules.\n",
      "It's hard, but I"
     ]
    },
    {
     "name": "stdout",
     "output_type": "stream",
     "text": [
      " John and I'm a sex offender. I was convicted of a sex crime many years ago, and I'm required to register as a sex offender. I'm not proud of my past, but I'm trying to rebuild my life.\n",
      "As a registered sex offender, I have to follow certain rules and restrictions. I'm not allowed to live near schools, parks, or other areas where children are present. I have to tell my employer and my neighbors about my status. And I have to regularly visit with a probation officer to make sure I'm following the rules.\n",
      "It's hard, but I'm"
     ]
    },
    {
     "name": "stdout",
     "output_type": "stream",
     "text": [
      " John and I'm a sex offender. I was convicted of a sex crime many years ago, and I'm required to register as a sex offender. I'm not proud of my past, but I'm trying to rebuild my life.\n",
      "As a registered sex offender, I have to follow certain rules and restrictions. I'm not allowed to live near schools, parks, or other areas where children are present. I have to tell my employer and my neighbors about my status. And I have to regularly visit with a probation officer to make sure I'm following the rules.\n",
      "It's hard, but I'm trying"
     ]
    },
    {
     "name": "stdout",
     "output_type": "stream",
     "text": [
      " John and I'm a sex offender. I was convicted of a sex crime many years ago, and I'm required to register as a sex offender. I'm not proud of my past, but I'm trying to rebuild my life.\n",
      "As a registered sex offender, I have to follow certain rules and restrictions. I'm not allowed to live near schools, parks, or other areas where children are present. I have to tell my employer and my neighbors about my status. And I have to regularly visit with a probation officer to make sure I'm following the rules.\n",
      "It's hard, but I'm trying to"
     ]
    },
    {
     "name": "stdout",
     "output_type": "stream",
     "text": [
      " John and I'm a sex offender. I was convicted of a sex crime many years ago, and I'm required to register as a sex offender. I'm not proud of my past, but I'm trying to rebuild my life.\n",
      "As a registered sex offender, I have to follow certain rules and restrictions. I'm not allowed to live near schools, parks, or other areas where children are present. I have to tell my employer and my neighbors about my status. And I have to regularly visit with a probation officer to make sure I'm following the rules.\n",
      "It's hard, but I'm trying to move"
     ]
    },
    {
     "name": "stdout",
     "output_type": "stream",
     "text": [
      " John and I'm a sex offender. I was convicted of a sex crime many years ago, and I'm required to register as a sex offender. I'm not proud of my past, but I'm trying to rebuild my life.\n",
      "As a registered sex offender, I have to follow certain rules and restrictions. I'm not allowed to live near schools, parks, or other areas where children are present. I have to tell my employer and my neighbors about my status. And I have to regularly visit with a probation officer to make sure I'm following the rules.\n",
      "It's hard, but I'm trying to move forward"
     ]
    },
    {
     "name": "stdout",
     "output_type": "stream",
     "text": [
      " John and I'm a sex offender. I was convicted of a sex crime many years ago, and I'm required to register as a sex offender. I'm not proud of my past, but I'm trying to rebuild my life.\n",
      "As a registered sex offender, I have to follow certain rules and restrictions. I'm not allowed to live near schools, parks, or other areas where children are present. I have to tell my employer and my neighbors about my status. And I have to regularly visit with a probation officer to make sure I'm following the rules.\n",
      "It's hard, but I'm trying to move forward."
     ]
    },
    {
     "name": "stdout",
     "output_type": "stream",
     "text": [
      " John and I'm a sex offender. I was convicted of a sex crime many years ago, and I'm required to register as a sex offender. I'm not proud of my past, but I'm trying to rebuild my life.\n",
      "As a registered sex offender, I have to follow certain rules and restrictions. I'm not allowed to live near schools, parks, or other areas where children are present. I have to tell my employer and my neighbors about my status. And I have to regularly visit with a probation officer to make sure I'm following the rules.\n",
      "It's hard, but I'm trying to move forward. I"
     ]
    },
    {
     "name": "stdout",
     "output_type": "stream",
     "text": [
      " John and I'm a sex offender. I was convicted of a sex crime many years ago, and I'm required to register as a sex offender. I'm not proud of my past, but I'm trying to rebuild my life.\n",
      "As a registered sex offender, I have to follow certain rules and restrictions. I'm not allowed to live near schools, parks, or other areas where children are present. I have to tell my employer and my neighbors about my status. And I have to regularly visit with a probation officer to make sure I'm following the rules.\n",
      "It's hard, but I'm trying to move forward. I've"
     ]
    },
    {
     "name": "stdout",
     "output_type": "stream",
     "text": [
      " John and I'm a sex offender. I was convicted of a sex crime many years ago, and I'm required to register as a sex offender. I'm not proud of my past, but I'm trying to rebuild my life.\n",
      "As a registered sex offender, I have to follow certain rules and restrictions. I'm not allowed to live near schools, parks, or other areas where children are present. I have to tell my employer and my neighbors about my status. And I have to regularly visit with a probation officer to make sure I'm following the rules.\n",
      "It's hard, but I'm trying to move forward. I've been"
     ]
    },
    {
     "name": "stdout",
     "output_type": "stream",
     "text": [
      "\n",
      "\n",
      "Prompt: The capital of France is\n",
      "Generated text: "
     ]
    },
    {
     "name": "stdout",
     "output_type": "stream",
     "text": [
      " Paris"
     ]
    },
    {
     "name": "stdout",
     "output_type": "stream",
     "text": [
      " Paris,"
     ]
    },
    {
     "name": "stdout",
     "output_type": "stream",
     "text": [
      " Paris, which"
     ]
    },
    {
     "name": "stdout",
     "output_type": "stream",
     "text": [
      " Paris, which is"
     ]
    },
    {
     "name": "stdout",
     "output_type": "stream",
     "text": [
      " Paris, which is also"
     ]
    },
    {
     "name": "stdout",
     "output_type": "stream",
     "text": [
      " Paris, which is also its"
     ]
    },
    {
     "name": "stdout",
     "output_type": "stream",
     "text": [
      " Paris, which is also its largest"
     ]
    },
    {
     "name": "stdout",
     "output_type": "stream",
     "text": [
      " Paris, which is also its largest city"
     ]
    },
    {
     "name": "stdout",
     "output_type": "stream",
     "text": [
      " Paris, which is also its largest city."
     ]
    },
    {
     "name": "stdout",
     "output_type": "stream",
     "text": [
      " Paris, which is also its largest city. However"
     ]
    },
    {
     "name": "stdout",
     "output_type": "stream",
     "text": [
      " Paris, which is also its largest city. However,"
     ]
    },
    {
     "name": "stdout",
     "output_type": "stream",
     "text": [
      " Paris, which is also its largest city. However, the"
     ]
    },
    {
     "name": "stdout",
     "output_type": "stream",
     "text": [
      " Paris, which is also its largest city. However, the French"
     ]
    },
    {
     "name": "stdout",
     "output_type": "stream",
     "text": [
      " Paris, which is also its largest city. However, the French government"
     ]
    },
    {
     "name": "stdout",
     "output_type": "stream",
     "text": [
      " Paris, which is also its largest city. However, the French government is"
     ]
    },
    {
     "name": "stdout",
     "output_type": "stream",
     "text": [
      " Paris, which is also its largest city. However, the French government is currently"
     ]
    },
    {
     "name": "stdout",
     "output_type": "stream",
     "text": [
      " Paris, which is also its largest city. However, the French government is currently based"
     ]
    },
    {
     "name": "stdout",
     "output_type": "stream",
     "text": [
      " Paris, which is also its largest city. However, the French government is currently based in"
     ]
    },
    {
     "name": "stdout",
     "output_type": "stream",
     "text": [
      " Paris, which is also its largest city. However, the French government is currently based in Vers"
     ]
    },
    {
     "name": "stdout",
     "output_type": "stream",
     "text": [
      " Paris, which is also its largest city. However, the French government is currently based in Versailles"
     ]
    },
    {
     "name": "stdout",
     "output_type": "stream",
     "text": [
      " Paris, which is also its largest city. However, the French government is currently based in Versailles,"
     ]
    },
    {
     "name": "stdout",
     "output_type": "stream",
     "text": [
      " Paris, which is also its largest city. However, the French government is currently based in Versailles, located"
     ]
    },
    {
     "name": "stdout",
     "output_type": "stream",
     "text": [
      " Paris, which is also its largest city. However, the French government is currently based in Versailles, located in"
     ]
    },
    {
     "name": "stdout",
     "output_type": "stream",
     "text": [
      " Paris, which is also its largest city. However, the French government is currently based in Versailles, located in the"
     ]
    },
    {
     "name": "stdout",
     "output_type": "stream",
     "text": [
      " Paris, which is also its largest city. However, the French government is currently based in Versailles, located in the Î"
     ]
    },
    {
     "name": "stdout",
     "output_type": "stream",
     "text": [
      " Paris, which is also its largest city. However, the French government is currently based in Versailles, located in the Île"
     ]
    },
    {
     "name": "stdout",
     "output_type": "stream",
     "text": [
      " Paris, which is also its largest city. However, the French government is currently based in Versailles, located in the Île-de"
     ]
    },
    {
     "name": "stdout",
     "output_type": "stream",
     "text": [
      " Paris, which is also its largest city. However, the French government is currently based in Versailles, located in the Île-de-F"
     ]
    },
    {
     "name": "stdout",
     "output_type": "stream",
     "text": [
      " Paris, which is also its largest city. However, the French government is currently based in Versailles, located in the Île-de-France"
     ]
    },
    {
     "name": "stdout",
     "output_type": "stream",
     "text": [
      " Paris, which is also its largest city. However, the French government is currently based in Versailles, located in the Île-de-France region"
     ]
    },
    {
     "name": "stdout",
     "output_type": "stream",
     "text": [
      " Paris, which is also its largest city. However, the French government is currently based in Versailles, located in the Île-de-France region of"
     ]
    },
    {
     "name": "stdout",
     "output_type": "stream",
     "text": [
      " Paris, which is also its largest city. However, the French government is currently based in Versailles, located in the Île-de-France region of northern"
     ]
    },
    {
     "name": "stdout",
     "output_type": "stream",
     "text": [
      " Paris, which is also its largest city. However, the French government is currently based in Versailles, located in the Île-de-France region of northern France"
     ]
    },
    {
     "name": "stdout",
     "output_type": "stream",
     "text": [
      " Paris, which is also its largest city. However, the French government is currently based in Versailles, located in the Île-de-France region of northern France."
     ]
    },
    {
     "name": "stdout",
     "output_type": "stream",
     "text": [
      " Paris, which is also its largest city. However, the French government is currently based in Versailles, located in the Île-de-France region of northern France. A"
     ]
    },
    {
     "name": "stdout",
     "output_type": "stream",
     "text": [
      " Paris, which is also its largest city. However, the French government is currently based in Versailles, located in the Île-de-France region of northern France. A city"
     ]
    },
    {
     "name": "stdout",
     "output_type": "stream",
     "text": [
      " Paris, which is also its largest city. However, the French government is currently based in Versailles, located in the Île-de-France region of northern France. A city known"
     ]
    },
    {
     "name": "stdout",
     "output_type": "stream",
     "text": [
      " Paris, which is also its largest city. However, the French government is currently based in Versailles, located in the Île-de-France region of northern France. A city known for"
     ]
    },
    {
     "name": "stdout",
     "output_type": "stream",
     "text": [
      " Paris, which is also its largest city. However, the French government is currently based in Versailles, located in the Île-de-France region of northern France. A city known for its"
     ]
    },
    {
     "name": "stdout",
     "output_type": "stream",
     "text": [
      " Paris, which is also its largest city. However, the French government is currently based in Versailles, located in the Île-de-France region of northern France. A city known for its royal"
     ]
    },
    {
     "name": "stdout",
     "output_type": "stream",
     "text": [
      " Paris, which is also its largest city. However, the French government is currently based in Versailles, located in the Île-de-France region of northern France. A city known for its royal history"
     ]
    },
    {
     "name": "stdout",
     "output_type": "stream",
     "text": [
      " Paris, which is also its largest city. However, the French government is currently based in Versailles, located in the Île-de-France region of northern France. A city known for its royal history,"
     ]
    },
    {
     "name": "stdout",
     "output_type": "stream",
     "text": [
      " Paris, which is also its largest city. However, the French government is currently based in Versailles, located in the Île-de-France region of northern France. A city known for its royal history, Vers"
     ]
    },
    {
     "name": "stdout",
     "output_type": "stream",
     "text": [
      " Paris, which is also its largest city. However, the French government is currently based in Versailles, located in the Île-de-France region of northern France. A city known for its royal history, Versailles"
     ]
    },
    {
     "name": "stdout",
     "output_type": "stream",
     "text": [
      " Paris, which is also its largest city. However, the French government is currently based in Versailles, located in the Île-de-France region of northern France. A city known for its royal history, Versailles is"
     ]
    },
    {
     "name": "stdout",
     "output_type": "stream",
     "text": [
      " Paris, which is also its largest city. However, the French government is currently based in Versailles, located in the Île-de-France region of northern France. A city known for its royal history, Versailles is famous"
     ]
    },
    {
     "name": "stdout",
     "output_type": "stream",
     "text": [
      " Paris, which is also its largest city. However, the French government is currently based in Versailles, located in the Île-de-France region of northern France. A city known for its royal history, Versailles is famous for"
     ]
    },
    {
     "name": "stdout",
     "output_type": "stream",
     "text": [
      " Paris, which is also its largest city. However, the French government is currently based in Versailles, located in the Île-de-France region of northern France. A city known for its royal history, Versailles is famous for its"
     ]
    },
    {
     "name": "stdout",
     "output_type": "stream",
     "text": [
      " Paris, which is also its largest city. However, the French government is currently based in Versailles, located in the Île-de-France region of northern France. A city known for its royal history, Versailles is famous for its stunning"
     ]
    },
    {
     "name": "stdout",
     "output_type": "stream",
     "text": [
      " Paris, which is also its largest city. However, the French government is currently based in Versailles, located in the Île-de-France region of northern France. A city known for its royal history, Versailles is famous for its stunning palace"
     ]
    },
    {
     "name": "stdout",
     "output_type": "stream",
     "text": [
      " Paris, which is also its largest city. However, the French government is currently based in Versailles, located in the Île-de-France region of northern France. A city known for its royal history, Versailles is famous for its stunning palace and"
     ]
    },
    {
     "name": "stdout",
     "output_type": "stream",
     "text": [
      " Paris, which is also its largest city. However, the French government is currently based in Versailles, located in the Île-de-France region of northern France. A city known for its royal history, Versailles is famous for its stunning palace and beautiful"
     ]
    },
    {
     "name": "stdout",
     "output_type": "stream",
     "text": [
      " Paris, which is also its largest city. However, the French government is currently based in Versailles, located in the Île-de-France region of northern France. A city known for its royal history, Versailles is famous for its stunning palace and beautiful gardens"
     ]
    },
    {
     "name": "stdout",
     "output_type": "stream",
     "text": [
      " Paris, which is also its largest city. However, the French government is currently based in Versailles, located in the Île-de-France region of northern France. A city known for its royal history, Versailles is famous for its stunning palace and beautiful gardens."
     ]
    },
    {
     "name": "stdout",
     "output_type": "stream",
     "text": [
      " Paris, which is also its largest city. However, the French government is currently based in Versailles, located in the Île-de-France region of northern France. A city known for its royal history, Versailles is famous for its stunning palace and beautiful gardens. It"
     ]
    },
    {
     "name": "stdout",
     "output_type": "stream",
     "text": [
      " Paris, which is also its largest city. However, the French government is currently based in Versailles, located in the Île-de-France region of northern France. A city known for its royal history, Versailles is famous for its stunning palace and beautiful gardens. It is"
     ]
    },
    {
     "name": "stdout",
     "output_type": "stream",
     "text": [
      " Paris, which is also its largest city. However, the French government is currently based in Versailles, located in the Île-de-France region of northern France. A city known for its royal history, Versailles is famous for its stunning palace and beautiful gardens. It is about"
     ]
    },
    {
     "name": "stdout",
     "output_type": "stream",
     "text": [
      " Paris, which is also its largest city. However, the French government is currently based in Versailles, located in the Île-de-France region of northern France. A city known for its royal history, Versailles is famous for its stunning palace and beautiful gardens. It is about "
     ]
    },
    {
     "name": "stdout",
     "output_type": "stream",
     "text": [
      " Paris, which is also its largest city. However, the French government is currently based in Versailles, located in the Île-de-France region of northern France. A city known for its royal history, Versailles is famous for its stunning palace and beautiful gardens. It is about 12"
     ]
    },
    {
     "name": "stdout",
     "output_type": "stream",
     "text": [
      " Paris, which is also its largest city. However, the French government is currently based in Versailles, located in the Île-de-France region of northern France. A city known for its royal history, Versailles is famous for its stunning palace and beautiful gardens. It is about 12 miles"
     ]
    },
    {
     "name": "stdout",
     "output_type": "stream",
     "text": [
      " Paris, which is also its largest city. However, the French government is currently based in Versailles, located in the Île-de-France region of northern France. A city known for its royal history, Versailles is famous for its stunning palace and beautiful gardens. It is about 12 miles southwest"
     ]
    },
    {
     "name": "stdout",
     "output_type": "stream",
     "text": [
      " Paris, which is also its largest city. However, the French government is currently based in Versailles, located in the Île-de-France region of northern France. A city known for its royal history, Versailles is famous for its stunning palace and beautiful gardens. It is about 12 miles southwest of"
     ]
    },
    {
     "name": "stdout",
     "output_type": "stream",
     "text": [
      " Paris, which is also its largest city. However, the French government is currently based in Versailles, located in the Île-de-France region of northern France. A city known for its royal history, Versailles is famous for its stunning palace and beautiful gardens. It is about 12 miles southwest of Paris"
     ]
    },
    {
     "name": "stdout",
     "output_type": "stream",
     "text": [
      " Paris, which is also its largest city. However, the French government is currently based in Versailles, located in the Île-de-France region of northern France. A city known for its royal history, Versailles is famous for its stunning palace and beautiful gardens. It is about 12 miles southwest of Paris and"
     ]
    },
    {
     "name": "stdout",
     "output_type": "stream",
     "text": [
      " Paris, which is also its largest city. However, the French government is currently based in Versailles, located in the Île-de-France region of northern France. A city known for its royal history, Versailles is famous for its stunning palace and beautiful gardens. It is about 12 miles southwest of Paris and is"
     ]
    },
    {
     "name": "stdout",
     "output_type": "stream",
     "text": [
      " Paris, which is also its largest city. However, the French government is currently based in Versailles, located in the Île-de-France region of northern France. A city known for its royal history, Versailles is famous for its stunning palace and beautiful gardens. It is about 12 miles southwest of Paris and is a"
     ]
    },
    {
     "name": "stdout",
     "output_type": "stream",
     "text": [
      " Paris, which is also its largest city. However, the French government is currently based in Versailles, located in the Île-de-France region of northern France. A city known for its royal history, Versailles is famous for its stunning palace and beautiful gardens. It is about 12 miles southwest of Paris and is a popular"
     ]
    },
    {
     "name": "stdout",
     "output_type": "stream",
     "text": [
      " Paris, which is also its largest city. However, the French government is currently based in Versailles, located in the Île-de-France region of northern France. A city known for its royal history, Versailles is famous for its stunning palace and beautiful gardens. It is about 12 miles southwest of Paris and is a popular tourist"
     ]
    },
    {
     "name": "stdout",
     "output_type": "stream",
     "text": [
      " Paris, which is also its largest city. However, the French government is currently based in Versailles, located in the Île-de-France region of northern France. A city known for its royal history, Versailles is famous for its stunning palace and beautiful gardens. It is about 12 miles southwest of Paris and is a popular tourist destination"
     ]
    },
    {
     "name": "stdout",
     "output_type": "stream",
     "text": [
      " Paris, which is also its largest city. However, the French government is currently based in Versailles, located in the Île-de-France region of northern France. A city known for its royal history, Versailles is famous for its stunning palace and beautiful gardens. It is about 12 miles southwest of Paris and is a popular tourist destination.\n"
     ]
    },
    {
     "name": "stdout",
     "output_type": "stream",
     "text": [
      " Paris, which is also its largest city. However, the French government is currently based in Versailles, located in the Île-de-France region of northern France. A city known for its royal history, Versailles is famous for its stunning palace and beautiful gardens. It is about 12 miles southwest of Paris and is a popular tourist destination.\n",
      "The"
     ]
    },
    {
     "name": "stdout",
     "output_type": "stream",
     "text": [
      " Paris, which is also its largest city. However, the French government is currently based in Versailles, located in the Île-de-France region of northern France. A city known for its royal history, Versailles is famous for its stunning palace and beautiful gardens. It is about 12 miles southwest of Paris and is a popular tourist destination.\n",
      "The Palace"
     ]
    },
    {
     "name": "stdout",
     "output_type": "stream",
     "text": [
      " Paris, which is also its largest city. However, the French government is currently based in Versailles, located in the Île-de-France region of northern France. A city known for its royal history, Versailles is famous for its stunning palace and beautiful gardens. It is about 12 miles southwest of Paris and is a popular tourist destination.\n",
      "The Palace of"
     ]
    },
    {
     "name": "stdout",
     "output_type": "stream",
     "text": [
      " Paris, which is also its largest city. However, the French government is currently based in Versailles, located in the Île-de-France region of northern France. A city known for its royal history, Versailles is famous for its stunning palace and beautiful gardens. It is about 12 miles southwest of Paris and is a popular tourist destination.\n",
      "The Palace of Vers"
     ]
    },
    {
     "name": "stdout",
     "output_type": "stream",
     "text": [
      " Paris, which is also its largest city. However, the French government is currently based in Versailles, located in the Île-de-France region of northern France. A city known for its royal history, Versailles is famous for its stunning palace and beautiful gardens. It is about 12 miles southwest of Paris and is a popular tourist destination.\n",
      "The Palace of Versailles"
     ]
    },
    {
     "name": "stdout",
     "output_type": "stream",
     "text": [
      " Paris, which is also its largest city. However, the French government is currently based in Versailles, located in the Île-de-France region of northern France. A city known for its royal history, Versailles is famous for its stunning palace and beautiful gardens. It is about 12 miles southwest of Paris and is a popular tourist destination.\n",
      "The Palace of Versailles is"
     ]
    },
    {
     "name": "stdout",
     "output_type": "stream",
     "text": [
      " Paris, which is also its largest city. However, the French government is currently based in Versailles, located in the Île-de-France region of northern France. A city known for its royal history, Versailles is famous for its stunning palace and beautiful gardens. It is about 12 miles southwest of Paris and is a popular tourist destination.\n",
      "The Palace of Versailles is a"
     ]
    },
    {
     "name": "stdout",
     "output_type": "stream",
     "text": [
      " Paris, which is also its largest city. However, the French government is currently based in Versailles, located in the Île-de-France region of northern France. A city known for its royal history, Versailles is famous for its stunning palace and beautiful gardens. It is about 12 miles southwest of Paris and is a popular tourist destination.\n",
      "The Palace of Versailles is a majestic"
     ]
    },
    {
     "name": "stdout",
     "output_type": "stream",
     "text": [
      " Paris, which is also its largest city. However, the French government is currently based in Versailles, located in the Île-de-France region of northern France. A city known for its royal history, Versailles is famous for its stunning palace and beautiful gardens. It is about 12 miles southwest of Paris and is a popular tourist destination.\n",
      "The Palace of Versailles is a majestic and"
     ]
    },
    {
     "name": "stdout",
     "output_type": "stream",
     "text": [
      " Paris, which is also its largest city. However, the French government is currently based in Versailles, located in the Île-de-France region of northern France. A city known for its royal history, Versailles is famous for its stunning palace and beautiful gardens. It is about 12 miles southwest of Paris and is a popular tourist destination.\n",
      "The Palace of Versailles is a majestic and beautiful"
     ]
    },
    {
     "name": "stdout",
     "output_type": "stream",
     "text": [
      " Paris, which is also its largest city. However, the French government is currently based in Versailles, located in the Île-de-France region of northern France. A city known for its royal history, Versailles is famous for its stunning palace and beautiful gardens. It is about 12 miles southwest of Paris and is a popular tourist destination.\n",
      "The Palace of Versailles is a majestic and beautiful building"
     ]
    },
    {
     "name": "stdout",
     "output_type": "stream",
     "text": [
      " Paris, which is also its largest city. However, the French government is currently based in Versailles, located in the Île-de-France region of northern France. A city known for its royal history, Versailles is famous for its stunning palace and beautiful gardens. It is about 12 miles southwest of Paris and is a popular tourist destination.\n",
      "The Palace of Versailles is a majestic and beautiful building that"
     ]
    },
    {
     "name": "stdout",
     "output_type": "stream",
     "text": [
      " Paris, which is also its largest city. However, the French government is currently based in Versailles, located in the Île-de-France region of northern France. A city known for its royal history, Versailles is famous for its stunning palace and beautiful gardens. It is about 12 miles southwest of Paris and is a popular tourist destination.\n",
      "The Palace of Versailles is a majestic and beautiful building that was"
     ]
    },
    {
     "name": "stdout",
     "output_type": "stream",
     "text": [
      " Paris, which is also its largest city. However, the French government is currently based in Versailles, located in the Île-de-France region of northern France. A city known for its royal history, Versailles is famous for its stunning palace and beautiful gardens. It is about 12 miles southwest of Paris and is a popular tourist destination.\n",
      "The Palace of Versailles is a majestic and beautiful building that was the"
     ]
    },
    {
     "name": "stdout",
     "output_type": "stream",
     "text": [
      " Paris, which is also its largest city. However, the French government is currently based in Versailles, located in the Île-de-France region of northern France. A city known for its royal history, Versailles is famous for its stunning palace and beautiful gardens. It is about 12 miles southwest of Paris and is a popular tourist destination.\n",
      "The Palace of Versailles is a majestic and beautiful building that was the royal"
     ]
    },
    {
     "name": "stdout",
     "output_type": "stream",
     "text": [
      " Paris, which is also its largest city. However, the French government is currently based in Versailles, located in the Île-de-France region of northern France. A city known for its royal history, Versailles is famous for its stunning palace and beautiful gardens. It is about 12 miles southwest of Paris and is a popular tourist destination.\n",
      "The Palace of Versailles is a majestic and beautiful building that was the royal residence"
     ]
    },
    {
     "name": "stdout",
     "output_type": "stream",
     "text": [
      " Paris, which is also its largest city. However, the French government is currently based in Versailles, located in the Île-de-France region of northern France. A city known for its royal history, Versailles is famous for its stunning palace and beautiful gardens. It is about 12 miles southwest of Paris and is a popular tourist destination.\n",
      "The Palace of Versailles is a majestic and beautiful building that was the royal residence of"
     ]
    },
    {
     "name": "stdout",
     "output_type": "stream",
     "text": [
      " Paris, which is also its largest city. However, the French government is currently based in Versailles, located in the Île-de-France region of northern France. A city known for its royal history, Versailles is famous for its stunning palace and beautiful gardens. It is about 12 miles southwest of Paris and is a popular tourist destination.\n",
      "The Palace of Versailles is a majestic and beautiful building that was the royal residence of King"
     ]
    },
    {
     "name": "stdout",
     "output_type": "stream",
     "text": [
      " Paris, which is also its largest city. However, the French government is currently based in Versailles, located in the Île-de-France region of northern France. A city known for its royal history, Versailles is famous for its stunning palace and beautiful gardens. It is about 12 miles southwest of Paris and is a popular tourist destination.\n",
      "The Palace of Versailles is a majestic and beautiful building that was the royal residence of King Louis"
     ]
    },
    {
     "name": "stdout",
     "output_type": "stream",
     "text": [
      " Paris, which is also its largest city. However, the French government is currently based in Versailles, located in the Île-de-France region of northern France. A city known for its royal history, Versailles is famous for its stunning palace and beautiful gardens. It is about 12 miles southwest of Paris and is a popular tourist destination.\n",
      "The Palace of Versailles is a majestic and beautiful building that was the royal residence of King Louis XIV"
     ]
    },
    {
     "name": "stdout",
     "output_type": "stream",
     "text": [
      " Paris, which is also its largest city. However, the French government is currently based in Versailles, located in the Île-de-France region of northern France. A city known for its royal history, Versailles is famous for its stunning palace and beautiful gardens. It is about 12 miles southwest of Paris and is a popular tourist destination.\n",
      "The Palace of Versailles is a majestic and beautiful building that was the royal residence of King Louis XIV in"
     ]
    },
    {
     "name": "stdout",
     "output_type": "stream",
     "text": [
      " Paris, which is also its largest city. However, the French government is currently based in Versailles, located in the Île-de-France region of northern France. A city known for its royal history, Versailles is famous for its stunning palace and beautiful gardens. It is about 12 miles southwest of Paris and is a popular tourist destination.\n",
      "The Palace of Versailles is a majestic and beautiful building that was the royal residence of King Louis XIV in the"
     ]
    },
    {
     "name": "stdout",
     "output_type": "stream",
     "text": [
      " Paris, which is also its largest city. However, the French government is currently based in Versailles, located in the Île-de-France region of northern France. A city known for its royal history, Versailles is famous for its stunning palace and beautiful gardens. It is about 12 miles southwest of Paris and is a popular tourist destination.\n",
      "The Palace of Versailles is a majestic and beautiful building that was the royal residence of King Louis XIV in the "
     ]
    },
    {
     "name": "stdout",
     "output_type": "stream",
     "text": [
      " Paris, which is also its largest city. However, the French government is currently based in Versailles, located in the Île-de-France region of northern France. A city known for its royal history, Versailles is famous for its stunning palace and beautiful gardens. It is about 12 miles southwest of Paris and is a popular tourist destination.\n",
      "The Palace of Versailles is a majestic and beautiful building that was the royal residence of King Louis XIV in the 17"
     ]
    },
    {
     "name": "stdout",
     "output_type": "stream",
     "text": [
      " Paris, which is also its largest city. However, the French government is currently based in Versailles, located in the Île-de-France region of northern France. A city known for its royal history, Versailles is famous for its stunning palace and beautiful gardens. It is about 12 miles southwest of Paris and is a popular tourist destination.\n",
      "The Palace of Versailles is a majestic and beautiful building that was the royal residence of King Louis XIV in the 17th"
     ]
    },
    {
     "name": "stdout",
     "output_type": "stream",
     "text": [
      " Paris, which is also its largest city. However, the French government is currently based in Versailles, located in the Île-de-France region of northern France. A city known for its royal history, Versailles is famous for its stunning palace and beautiful gardens. It is about 12 miles southwest of Paris and is a popular tourist destination.\n",
      "The Palace of Versailles is a majestic and beautiful building that was the royal residence of King Louis XIV in the 17th century"
     ]
    },
    {
     "name": "stdout",
     "output_type": "stream",
     "text": [
      " Paris, which is also its largest city. However, the French government is currently based in Versailles, located in the Île-de-France region of northern France. A city known for its royal history, Versailles is famous for its stunning palace and beautiful gardens. It is about 12 miles southwest of Paris and is a popular tourist destination.\n",
      "The Palace of Versailles is a majestic and beautiful building that was the royal residence of King Louis XIV in the 17th century."
     ]
    },
    {
     "name": "stdout",
     "output_type": "stream",
     "text": [
      " Paris, which is also its largest city. However, the French government is currently based in Versailles, located in the Île-de-France region of northern France. A city known for its royal history, Versailles is famous for its stunning palace and beautiful gardens. It is about 12 miles southwest of Paris and is a popular tourist destination.\n",
      "The Palace of Versailles is a majestic and beautiful building that was the royal residence of King Louis XIV in the 17th century. The"
     ]
    },
    {
     "name": "stdout",
     "output_type": "stream",
     "text": [
      " Paris, which is also its largest city. However, the French government is currently based in Versailles, located in the Île-de-France region of northern France. A city known for its royal history, Versailles is famous for its stunning palace and beautiful gardens. It is about 12 miles southwest of Paris and is a popular tourist destination.\n",
      "The Palace of Versailles is a majestic and beautiful building that was the royal residence of King Louis XIV in the 17th century. The palace"
     ]
    },
    {
     "name": "stdout",
     "output_type": "stream",
     "text": [
      " Paris, which is also its largest city. However, the French government is currently based in Versailles, located in the Île-de-France region of northern France. A city known for its royal history, Versailles is famous for its stunning palace and beautiful gardens. It is about 12 miles southwest of Paris and is a popular tourist destination.\n",
      "The Palace of Versailles is a majestic and beautiful building that was the royal residence of King Louis XIV in the 17th century. The palace is"
     ]
    },
    {
     "name": "stdout",
     "output_type": "stream",
     "text": [
      " Paris, which is also its largest city. However, the French government is currently based in Versailles, located in the Île-de-France region of northern France. A city known for its royal history, Versailles is famous for its stunning palace and beautiful gardens. It is about 12 miles southwest of Paris and is a popular tourist destination.\n",
      "The Palace of Versailles is a majestic and beautiful building that was the royal residence of King Louis XIV in the 17th century. The palace is a"
     ]
    },
    {
     "name": "stdout",
     "output_type": "stream",
     "text": [
      " Paris, which is also its largest city. However, the French government is currently based in Versailles, located in the Île-de-France region of northern France. A city known for its royal history, Versailles is famous for its stunning palace and beautiful gardens. It is about 12 miles southwest of Paris and is a popular tourist destination.\n",
      "The Palace of Versailles is a majestic and beautiful building that was the royal residence of King Louis XIV in the 17th century. The palace is a masterpiece"
     ]
    },
    {
     "name": "stdout",
     "output_type": "stream",
     "text": [
      " Paris, which is also its largest city. However, the French government is currently based in Versailles, located in the Île-de-France region of northern France. A city known for its royal history, Versailles is famous for its stunning palace and beautiful gardens. It is about 12 miles southwest of Paris and is a popular tourist destination.\n",
      "The Palace of Versailles is a majestic and beautiful building that was the royal residence of King Louis XIV in the 17th century. The palace is a masterpiece of"
     ]
    },
    {
     "name": "stdout",
     "output_type": "stream",
     "text": [
      " Paris, which is also its largest city. However, the French government is currently based in Versailles, located in the Île-de-France region of northern France. A city known for its royal history, Versailles is famous for its stunning palace and beautiful gardens. It is about 12 miles southwest of Paris and is a popular tourist destination.\n",
      "The Palace of Versailles is a majestic and beautiful building that was the royal residence of King Louis XIV in the 17th century. The palace is a masterpiece of French"
     ]
    },
    {
     "name": "stdout",
     "output_type": "stream",
     "text": [
      " Paris, which is also its largest city. However, the French government is currently based in Versailles, located in the Île-de-France region of northern France. A city known for its royal history, Versailles is famous for its stunning palace and beautiful gardens. It is about 12 miles southwest of Paris and is a popular tourist destination.\n",
      "The Palace of Versailles is a majestic and beautiful building that was the royal residence of King Louis XIV in the 17th century. The palace is a masterpiece of French architecture"
     ]
    },
    {
     "name": "stdout",
     "output_type": "stream",
     "text": [
      " Paris, which is also its largest city. However, the French government is currently based in Versailles, located in the Île-de-France region of northern France. A city known for its royal history, Versailles is famous for its stunning palace and beautiful gardens. It is about 12 miles southwest of Paris and is a popular tourist destination.\n",
      "The Palace of Versailles is a majestic and beautiful building that was the royal residence of King Louis XIV in the 17th century. The palace is a masterpiece of French architecture and"
     ]
    },
    {
     "name": "stdout",
     "output_type": "stream",
     "text": [
      " Paris, which is also its largest city. However, the French government is currently based in Versailles, located in the Île-de-France region of northern France. A city known for its royal history, Versailles is famous for its stunning palace and beautiful gardens. It is about 12 miles southwest of Paris and is a popular tourist destination.\n",
      "The Palace of Versailles is a majestic and beautiful building that was the royal residence of King Louis XIV in the 17th century. The palace is a masterpiece of French architecture and is"
     ]
    },
    {
     "name": "stdout",
     "output_type": "stream",
     "text": [
      " Paris, which is also its largest city. However, the French government is currently based in Versailles, located in the Île-de-France region of northern France. A city known for its royal history, Versailles is famous for its stunning palace and beautiful gardens. It is about 12 miles southwest of Paris and is a popular tourist destination.\n",
      "The Palace of Versailles is a majestic and beautiful building that was the royal residence of King Louis XIV in the 17th century. The palace is a masterpiece of French architecture and is renowned"
     ]
    },
    {
     "name": "stdout",
     "output_type": "stream",
     "text": [
      " Paris, which is also its largest city. However, the French government is currently based in Versailles, located in the Île-de-France region of northern France. A city known for its royal history, Versailles is famous for its stunning palace and beautiful gardens. It is about 12 miles southwest of Paris and is a popular tourist destination.\n",
      "The Palace of Versailles is a majestic and beautiful building that was the royal residence of King Louis XIV in the 17th century. The palace is a masterpiece of French architecture and is renowned for"
     ]
    },
    {
     "name": "stdout",
     "output_type": "stream",
     "text": [
      " Paris, which is also its largest city. However, the French government is currently based in Versailles, located in the Île-de-France region of northern France. A city known for its royal history, Versailles is famous for its stunning palace and beautiful gardens. It is about 12 miles southwest of Paris and is a popular tourist destination.\n",
      "The Palace of Versailles is a majestic and beautiful building that was the royal residence of King Louis XIV in the 17th century. The palace is a masterpiece of French architecture and is renowned for its"
     ]
    },
    {
     "name": "stdout",
     "output_type": "stream",
     "text": [
      " Paris, which is also its largest city. However, the French government is currently based in Versailles, located in the Île-de-France region of northern France. A city known for its royal history, Versailles is famous for its stunning palace and beautiful gardens. It is about 12 miles southwest of Paris and is a popular tourist destination.\n",
      "The Palace of Versailles is a majestic and beautiful building that was the royal residence of King Louis XIV in the 17th century. The palace is a masterpiece of French architecture and is renowned for its op"
     ]
    },
    {
     "name": "stdout",
     "output_type": "stream",
     "text": [
      " Paris, which is also its largest city. However, the French government is currently based in Versailles, located in the Île-de-France region of northern France. A city known for its royal history, Versailles is famous for its stunning palace and beautiful gardens. It is about 12 miles southwest of Paris and is a popular tourist destination.\n",
      "The Palace of Versailles is a majestic and beautiful building that was the royal residence of King Louis XIV in the 17th century. The palace is a masterpiece of French architecture and is renowned for its opulence"
     ]
    },
    {
     "name": "stdout",
     "output_type": "stream",
     "text": [
      " Paris, which is also its largest city. However, the French government is currently based in Versailles, located in the Île-de-France region of northern France. A city known for its royal history, Versailles is famous for its stunning palace and beautiful gardens. It is about 12 miles southwest of Paris and is a popular tourist destination.\n",
      "The Palace of Versailles is a majestic and beautiful building that was the royal residence of King Louis XIV in the 17th century. The palace is a masterpiece of French architecture and is renowned for its opulence and"
     ]
    },
    {
     "name": "stdout",
     "output_type": "stream",
     "text": [
      " Paris, which is also its largest city. However, the French government is currently based in Versailles, located in the Île-de-France region of northern France. A city known for its royal history, Versailles is famous for its stunning palace and beautiful gardens. It is about 12 miles southwest of Paris and is a popular tourist destination.\n",
      "The Palace of Versailles is a majestic and beautiful building that was the royal residence of King Louis XIV in the 17th century. The palace is a masterpiece of French architecture and is renowned for its opulence and grand"
     ]
    },
    {
     "name": "stdout",
     "output_type": "stream",
     "text": [
      " Paris, which is also its largest city. However, the French government is currently based in Versailles, located in the Île-de-France region of northern France. A city known for its royal history, Versailles is famous for its stunning palace and beautiful gardens. It is about 12 miles southwest of Paris and is a popular tourist destination.\n",
      "The Palace of Versailles is a majestic and beautiful building that was the royal residence of King Louis XIV in the 17th century. The palace is a masterpiece of French architecture and is renowned for its opulence and grandeur"
     ]
    },
    {
     "name": "stdout",
     "output_type": "stream",
     "text": [
      " Paris, which is also its largest city. However, the French government is currently based in Versailles, located in the Île-de-France region of northern France. A city known for its royal history, Versailles is famous for its stunning palace and beautiful gardens. It is about 12 miles southwest of Paris and is a popular tourist destination.\n",
      "The Palace of Versailles is a majestic and beautiful building that was the royal residence of King Louis XIV in the 17th century. The palace is a masterpiece of French architecture and is renowned for its opulence and grandeur."
     ]
    },
    {
     "name": "stdout",
     "output_type": "stream",
     "text": [
      " Paris, which is also its largest city. However, the French government is currently based in Versailles, located in the Île-de-France region of northern France. A city known for its royal history, Versailles is famous for its stunning palace and beautiful gardens. It is about 12 miles southwest of Paris and is a popular tourist destination.\n",
      "The Palace of Versailles is a majestic and beautiful building that was the royal residence of King Louis XIV in the 17th century. The palace is a masterpiece of French architecture and is renowned for its opulence and grandeur. It"
     ]
    },
    {
     "name": "stdout",
     "output_type": "stream",
     "text": [
      " Paris, which is also its largest city. However, the French government is currently based in Versailles, located in the Île-de-France region of northern France. A city known for its royal history, Versailles is famous for its stunning palace and beautiful gardens. It is about 12 miles southwest of Paris and is a popular tourist destination.\n",
      "The Palace of Versailles is a majestic and beautiful building that was the royal residence of King Louis XIV in the 17th century. The palace is a masterpiece of French architecture and is renowned for its opulence and grandeur. It features"
     ]
    },
    {
     "name": "stdout",
     "output_type": "stream",
     "text": [
      " Paris, which is also its largest city. However, the French government is currently based in Versailles, located in the Île-de-France region of northern France. A city known for its royal history, Versailles is famous for its stunning palace and beautiful gardens. It is about 12 miles southwest of Paris and is a popular tourist destination.\n",
      "The Palace of Versailles is a majestic and beautiful building that was the royal residence of King Louis XIV in the 17th century. The palace is a masterpiece of French architecture and is renowned for its opulence and grandeur. It features over"
     ]
    },
    {
     "name": "stdout",
     "output_type": "stream",
     "text": [
      " Paris, which is also its largest city. However, the French government is currently based in Versailles, located in the Île-de-France region of northern France. A city known for its royal history, Versailles is famous for its stunning palace and beautiful gardens. It is about 12 miles southwest of Paris and is a popular tourist destination.\n",
      "The Palace of Versailles is a majestic and beautiful building that was the royal residence of King Louis XIV in the 17th century. The palace is a masterpiece of French architecture and is renowned for its opulence and grandeur. It features over "
     ]
    },
    {
     "name": "stdout",
     "output_type": "stream",
     "text": [
      " Paris, which is also its largest city. However, the French government is currently based in Versailles, located in the Île-de-France region of northern France. A city known for its royal history, Versailles is famous for its stunning palace and beautiful gardens. It is about 12 miles southwest of Paris and is a popular tourist destination.\n",
      "The Palace of Versailles is a majestic and beautiful building that was the royal residence of King Louis XIV in the 17th century. The palace is a masterpiece of French architecture and is renowned for its opulence and grandeur. It features over 700"
     ]
    },
    {
     "name": "stdout",
     "output_type": "stream",
     "text": [
      " Paris, which is also its largest city. However, the French government is currently based in Versailles, located in the Île-de-France region of northern France. A city known for its royal history, Versailles is famous for its stunning palace and beautiful gardens. It is about 12 miles southwest of Paris and is a popular tourist destination.\n",
      "The Palace of Versailles is a majestic and beautiful building that was the royal residence of King Louis XIV in the 17th century. The palace is a masterpiece of French architecture and is renowned for its opulence and grandeur. It features over 700 rooms"
     ]
    },
    {
     "name": "stdout",
     "output_type": "stream",
     "text": [
      " Paris, which is also its largest city. However, the French government is currently based in Versailles, located in the Île-de-France region of northern France. A city known for its royal history, Versailles is famous for its stunning palace and beautiful gardens. It is about 12 miles southwest of Paris and is a popular tourist destination.\n",
      "The Palace of Versailles is a majestic and beautiful building that was the royal residence of King Louis XIV in the 17th century. The palace is a masterpiece of French architecture and is renowned for its opulence and grandeur. It features over 700 rooms,"
     ]
    },
    {
     "name": "stdout",
     "output_type": "stream",
     "text": [
      " Paris, which is also its largest city. However, the French government is currently based in Versailles, located in the Île-de-France region of northern France. A city known for its royal history, Versailles is famous for its stunning palace and beautiful gardens. It is about 12 miles southwest of Paris and is a popular tourist destination.\n",
      "The Palace of Versailles is a majestic and beautiful building that was the royal residence of King Louis XIV in the 17th century. The palace is a masterpiece of French architecture and is renowned for its opulence and grandeur. It features over 700 rooms, including"
     ]
    },
    {
     "name": "stdout",
     "output_type": "stream",
     "text": [
      " Paris, which is also its largest city. However, the French government is currently based in Versailles, located in the Île-de-France region of northern France. A city known for its royal history, Versailles is famous for its stunning palace and beautiful gardens. It is about 12 miles southwest of Paris and is a popular tourist destination.\n",
      "The Palace of Versailles is a majestic and beautiful building that was the royal residence of King Louis XIV in the 17th century. The palace is a masterpiece of French architecture and is renowned for its opulence and grandeur. It features over 700 rooms, including the"
     ]
    },
    {
     "name": "stdout",
     "output_type": "stream",
     "text": [
      " Paris, which is also its largest city. However, the French government is currently based in Versailles, located in the Île-de-France region of northern France. A city known for its royal history, Versailles is famous for its stunning palace and beautiful gardens. It is about 12 miles southwest of Paris and is a popular tourist destination.\n",
      "The Palace of Versailles is a majestic and beautiful building that was the royal residence of King Louis XIV in the 17th century. The palace is a masterpiece of French architecture and is renowned for its opulence and grandeur. It features over 700 rooms, including the famous"
     ]
    },
    {
     "name": "stdout",
     "output_type": "stream",
     "text": [
      " Paris, which is also its largest city. However, the French government is currently based in Versailles, located in the Île-de-France region of northern France. A city known for its royal history, Versailles is famous for its stunning palace and beautiful gardens. It is about 12 miles southwest of Paris and is a popular tourist destination.\n",
      "The Palace of Versailles is a majestic and beautiful building that was the royal residence of King Louis XIV in the 17th century. The palace is a masterpiece of French architecture and is renowned for its opulence and grandeur. It features over 700 rooms, including the famous Hall"
     ]
    },
    {
     "name": "stdout",
     "output_type": "stream",
     "text": [
      " Paris, which is also its largest city. However, the French government is currently based in Versailles, located in the Île-de-France region of northern France. A city known for its royal history, Versailles is famous for its stunning palace and beautiful gardens. It is about 12 miles southwest of Paris and is a popular tourist destination.\n",
      "The Palace of Versailles is a majestic and beautiful building that was the royal residence of King Louis XIV in the 17th century. The palace is a masterpiece of French architecture and is renowned for its opulence and grandeur. It features over 700 rooms, including the famous Hall of"
     ]
    },
    {
     "name": "stdout",
     "output_type": "stream",
     "text": [
      "\n",
      "\n",
      "Prompt: The future of AI is\n",
      "Generated text: "
     ]
    },
    {
     "name": "stdout",
     "output_type": "stream",
     "text": [
      " here"
     ]
    },
    {
     "name": "stdout",
     "output_type": "stream",
     "text": [
      " here,"
     ]
    },
    {
     "name": "stdout",
     "output_type": "stream",
     "text": [
      " here, and"
     ]
    },
    {
     "name": "stdout",
     "output_type": "stream",
     "text": [
      " here, and it"
     ]
    },
    {
     "name": "stdout",
     "output_type": "stream",
     "text": [
      " here, and it’s"
     ]
    },
    {
     "name": "stdout",
     "output_type": "stream",
     "text": [
      " here, and it’s all"
     ]
    },
    {
     "name": "stdout",
     "output_type": "stream",
     "text": [
      " here, and it’s all about"
     ]
    },
    {
     "name": "stdout",
     "output_type": "stream",
     "text": [
      " here, and it’s all about personal"
     ]
    },
    {
     "name": "stdout",
     "output_type": "stream",
     "text": [
      " here, and it’s all about personalization"
     ]
    },
    {
     "name": "stdout",
     "output_type": "stream",
     "text": [
      " here, and it’s all about personalization\n"
     ]
    },
    {
     "name": "stdout",
     "output_type": "stream",
     "text": [
      " here, and it’s all about personalization\n",
      "AI"
     ]
    },
    {
     "name": "stdout",
     "output_type": "stream",
     "text": [
      " here, and it’s all about personalization\n",
      "AI is"
     ]
    },
    {
     "name": "stdout",
     "output_type": "stream",
     "text": [
      " here, and it’s all about personalization\n",
      "AI is revolution"
     ]
    },
    {
     "name": "stdout",
     "output_type": "stream",
     "text": [
      " here, and it’s all about personalization\n",
      "AI is revolutionizing"
     ]
    },
    {
     "name": "stdout",
     "output_type": "stream",
     "text": [
      " here, and it’s all about personalization\n",
      "AI is revolutionizing the"
     ]
    },
    {
     "name": "stdout",
     "output_type": "stream",
     "text": [
      " here, and it’s all about personalization\n",
      "AI is revolutionizing the way"
     ]
    },
    {
     "name": "stdout",
     "output_type": "stream",
     "text": [
      " here, and it’s all about personalization\n",
      "AI is revolutionizing the way businesses"
     ]
    },
    {
     "name": "stdout",
     "output_type": "stream",
     "text": [
      " here, and it’s all about personalization\n",
      "AI is revolutionizing the way businesses interact"
     ]
    },
    {
     "name": "stdout",
     "output_type": "stream",
     "text": [
      " here, and it’s all about personalization\n",
      "AI is revolutionizing the way businesses interact with"
     ]
    },
    {
     "name": "stdout",
     "output_type": "stream",
     "text": [
      " here, and it’s all about personalization\n",
      "AI is revolutionizing the way businesses interact with their"
     ]
    },
    {
     "name": "stdout",
     "output_type": "stream",
     "text": [
      " here, and it’s all about personalization\n",
      "AI is revolutionizing the way businesses interact with their customers"
     ]
    },
    {
     "name": "stdout",
     "output_type": "stream",
     "text": [
      " here, and it’s all about personalization\n",
      "AI is revolutionizing the way businesses interact with their customers."
     ]
    },
    {
     "name": "stdout",
     "output_type": "stream",
     "text": [
      " here, and it’s all about personalization\n",
      "AI is revolutionizing the way businesses interact with their customers. With"
     ]
    },
    {
     "name": "stdout",
     "output_type": "stream",
     "text": [
      " here, and it’s all about personalization\n",
      "AI is revolutionizing the way businesses interact with their customers. With the"
     ]
    },
    {
     "name": "stdout",
     "output_type": "stream",
     "text": [
      " here, and it’s all about personalization\n",
      "AI is revolutionizing the way businesses interact with their customers. With the ability"
     ]
    },
    {
     "name": "stdout",
     "output_type": "stream",
     "text": [
      " here, and it’s all about personalization\n",
      "AI is revolutionizing the way businesses interact with their customers. With the ability to"
     ]
    },
    {
     "name": "stdout",
     "output_type": "stream",
     "text": [
      " here, and it’s all about personalization\n",
      "AI is revolutionizing the way businesses interact with their customers. With the ability to analyze"
     ]
    },
    {
     "name": "stdout",
     "output_type": "stream",
     "text": [
      " here, and it’s all about personalization\n",
      "AI is revolutionizing the way businesses interact with their customers. With the ability to analyze vast"
     ]
    },
    {
     "name": "stdout",
     "output_type": "stream",
     "text": [
      " here, and it’s all about personalization\n",
      "AI is revolutionizing the way businesses interact with their customers. With the ability to analyze vast amounts"
     ]
    },
    {
     "name": "stdout",
     "output_type": "stream",
     "text": [
      " here, and it’s all about personalization\n",
      "AI is revolutionizing the way businesses interact with their customers. With the ability to analyze vast amounts of"
     ]
    },
    {
     "name": "stdout",
     "output_type": "stream",
     "text": [
      " here, and it’s all about personalization\n",
      "AI is revolutionizing the way businesses interact with their customers. With the ability to analyze vast amounts of data"
     ]
    },
    {
     "name": "stdout",
     "output_type": "stream",
     "text": [
      " here, and it’s all about personalization\n",
      "AI is revolutionizing the way businesses interact with their customers. With the ability to analyze vast amounts of data and"
     ]
    },
    {
     "name": "stdout",
     "output_type": "stream",
     "text": [
      " here, and it’s all about personalization\n",
      "AI is revolutionizing the way businesses interact with their customers. With the ability to analyze vast amounts of data and provide"
     ]
    },
    {
     "name": "stdout",
     "output_type": "stream",
     "text": [
      " here, and it’s all about personalization\n",
      "AI is revolutionizing the way businesses interact with their customers. With the ability to analyze vast amounts of data and provide hyper"
     ]
    },
    {
     "name": "stdout",
     "output_type": "stream",
     "text": [
      " here, and it’s all about personalization\n",
      "AI is revolutionizing the way businesses interact with their customers. With the ability to analyze vast amounts of data and provide hyper-person"
     ]
    },
    {
     "name": "stdout",
     "output_type": "stream",
     "text": [
      " here, and it’s all about personalization\n",
      "AI is revolutionizing the way businesses interact with their customers. With the ability to analyze vast amounts of data and provide hyper-personal"
     ]
    },
    {
     "name": "stdout",
     "output_type": "stream",
     "text": [
      " here, and it’s all about personalization\n",
      "AI is revolutionizing the way businesses interact with their customers. With the ability to analyze vast amounts of data and provide hyper-personalized"
     ]
    },
    {
     "name": "stdout",
     "output_type": "stream",
     "text": [
      " here, and it’s all about personalization\n",
      "AI is revolutionizing the way businesses interact with their customers. With the ability to analyze vast amounts of data and provide hyper-personalized experiences"
     ]
    },
    {
     "name": "stdout",
     "output_type": "stream",
     "text": [
      " here, and it’s all about personalization\n",
      "AI is revolutionizing the way businesses interact with their customers. With the ability to analyze vast amounts of data and provide hyper-personalized experiences,"
     ]
    },
    {
     "name": "stdout",
     "output_type": "stream",
     "text": [
      " here, and it’s all about personalization\n",
      "AI is revolutionizing the way businesses interact with their customers. With the ability to analyze vast amounts of data and provide hyper-personalized experiences, AI"
     ]
    },
    {
     "name": "stdout",
     "output_type": "stream",
     "text": [
      " here, and it’s all about personalization\n",
      "AI is revolutionizing the way businesses interact with their customers. With the ability to analyze vast amounts of data and provide hyper-personalized experiences, AI is"
     ]
    },
    {
     "name": "stdout",
     "output_type": "stream",
     "text": [
      " here, and it’s all about personalization\n",
      "AI is revolutionizing the way businesses interact with their customers. With the ability to analyze vast amounts of data and provide hyper-personalized experiences, AI is changing"
     ]
    },
    {
     "name": "stdout",
     "output_type": "stream",
     "text": [
      " here, and it’s all about personalization\n",
      "AI is revolutionizing the way businesses interact with their customers. With the ability to analyze vast amounts of data and provide hyper-personalized experiences, AI is changing the"
     ]
    },
    {
     "name": "stdout",
     "output_type": "stream",
     "text": [
      " here, and it’s all about personalization\n",
      "AI is revolutionizing the way businesses interact with their customers. With the ability to analyze vast amounts of data and provide hyper-personalized experiences, AI is changing the game"
     ]
    },
    {
     "name": "stdout",
     "output_type": "stream",
     "text": [
      " here, and it’s all about personalization\n",
      "AI is revolutionizing the way businesses interact with their customers. With the ability to analyze vast amounts of data and provide hyper-personalized experiences, AI is changing the game in"
     ]
    },
    {
     "name": "stdout",
     "output_type": "stream",
     "text": [
      " here, and it’s all about personalization\n",
      "AI is revolutionizing the way businesses interact with their customers. With the ability to analyze vast amounts of data and provide hyper-personalized experiences, AI is changing the game in customer"
     ]
    },
    {
     "name": "stdout",
     "output_type": "stream",
     "text": [
      " here, and it’s all about personalization\n",
      "AI is revolutionizing the way businesses interact with their customers. With the ability to analyze vast amounts of data and provide hyper-personalized experiences, AI is changing the game in customer service"
     ]
    },
    {
     "name": "stdout",
     "output_type": "stream",
     "text": [
      " here, and it’s all about personalization\n",
      "AI is revolutionizing the way businesses interact with their customers. With the ability to analyze vast amounts of data and provide hyper-personalized experiences, AI is changing the game in customer service,"
     ]
    },
    {
     "name": "stdout",
     "output_type": "stream",
     "text": [
      " here, and it’s all about personalization\n",
      "AI is revolutionizing the way businesses interact with their customers. With the ability to analyze vast amounts of data and provide hyper-personalized experiences, AI is changing the game in customer service, marketing"
     ]
    },
    {
     "name": "stdout",
     "output_type": "stream",
     "text": [
      " here, and it’s all about personalization\n",
      "AI is revolutionizing the way businesses interact with their customers. With the ability to analyze vast amounts of data and provide hyper-personalized experiences, AI is changing the game in customer service, marketing,"
     ]
    },
    {
     "name": "stdout",
     "output_type": "stream",
     "text": [
      " here, and it’s all about personalization\n",
      "AI is revolutionizing the way businesses interact with their customers. With the ability to analyze vast amounts of data and provide hyper-personalized experiences, AI is changing the game in customer service, marketing, and"
     ]
    },
    {
     "name": "stdout",
     "output_type": "stream",
     "text": [
      " here, and it’s all about personalization\n",
      "AI is revolutionizing the way businesses interact with their customers. With the ability to analyze vast amounts of data and provide hyper-personalized experiences, AI is changing the game in customer service, marketing, and sales"
     ]
    },
    {
     "name": "stdout",
     "output_type": "stream",
     "text": [
      " here, and it’s all about personalization\n",
      "AI is revolutionizing the way businesses interact with their customers. With the ability to analyze vast amounts of data and provide hyper-personalized experiences, AI is changing the game in customer service, marketing, and sales."
     ]
    },
    {
     "name": "stdout",
     "output_type": "stream",
     "text": [
      " here, and it’s all about personalization\n",
      "AI is revolutionizing the way businesses interact with their customers. With the ability to analyze vast amounts of data and provide hyper-personalized experiences, AI is changing the game in customer service, marketing, and sales. Here"
     ]
    },
    {
     "name": "stdout",
     "output_type": "stream",
     "text": [
      " here, and it’s all about personalization\n",
      "AI is revolutionizing the way businesses interact with their customers. With the ability to analyze vast amounts of data and provide hyper-personalized experiences, AI is changing the game in customer service, marketing, and sales. Here’s"
     ]
    },
    {
     "name": "stdout",
     "output_type": "stream",
     "text": [
      " here, and it’s all about personalization\n",
      "AI is revolutionizing the way businesses interact with their customers. With the ability to analyze vast amounts of data and provide hyper-personalized experiences, AI is changing the game in customer service, marketing, and sales. Here’s a"
     ]
    },
    {
     "name": "stdout",
     "output_type": "stream",
     "text": [
      " here, and it’s all about personalization\n",
      "AI is revolutionizing the way businesses interact with their customers. With the ability to analyze vast amounts of data and provide hyper-personalized experiences, AI is changing the game in customer service, marketing, and sales. Here’s a look"
     ]
    },
    {
     "name": "stdout",
     "output_type": "stream",
     "text": [
      " here, and it’s all about personalization\n",
      "AI is revolutionizing the way businesses interact with their customers. With the ability to analyze vast amounts of data and provide hyper-personalized experiences, AI is changing the game in customer service, marketing, and sales. Here’s a look at"
     ]
    },
    {
     "name": "stdout",
     "output_type": "stream",
     "text": [
      " here, and it’s all about personalization\n",
      "AI is revolutionizing the way businesses interact with their customers. With the ability to analyze vast amounts of data and provide hyper-personalized experiences, AI is changing the game in customer service, marketing, and sales. Here’s a look at the"
     ]
    },
    {
     "name": "stdout",
     "output_type": "stream",
     "text": [
      " here, and it’s all about personalization\n",
      "AI is revolutionizing the way businesses interact with their customers. With the ability to analyze vast amounts of data and provide hyper-personalized experiences, AI is changing the game in customer service, marketing, and sales. Here’s a look at the future"
     ]
    },
    {
     "name": "stdout",
     "output_type": "stream",
     "text": [
      " here, and it’s all about personalization\n",
      "AI is revolutionizing the way businesses interact with their customers. With the ability to analyze vast amounts of data and provide hyper-personalized experiences, AI is changing the game in customer service, marketing, and sales. Here’s a look at the future of"
     ]
    },
    {
     "name": "stdout",
     "output_type": "stream",
     "text": [
      " here, and it’s all about personalization\n",
      "AI is revolutionizing the way businesses interact with their customers. With the ability to analyze vast amounts of data and provide hyper-personalized experiences, AI is changing the game in customer service, marketing, and sales. Here’s a look at the future of AI"
     ]
    },
    {
     "name": "stdout",
     "output_type": "stream",
     "text": [
      " here, and it’s all about personalization\n",
      "AI is revolutionizing the way businesses interact with their customers. With the ability to analyze vast amounts of data and provide hyper-personalized experiences, AI is changing the game in customer service, marketing, and sales. Here’s a look at the future of AI and"
     ]
    },
    {
     "name": "stdout",
     "output_type": "stream",
     "text": [
      " here, and it’s all about personalization\n",
      "AI is revolutionizing the way businesses interact with their customers. With the ability to analyze vast amounts of data and provide hyper-personalized experiences, AI is changing the game in customer service, marketing, and sales. Here’s a look at the future of AI and its"
     ]
    },
    {
     "name": "stdout",
     "output_type": "stream",
     "text": [
      " here, and it’s all about personalization\n",
      "AI is revolutionizing the way businesses interact with their customers. With the ability to analyze vast amounts of data and provide hyper-personalized experiences, AI is changing the game in customer service, marketing, and sales. Here’s a look at the future of AI and its impact"
     ]
    },
    {
     "name": "stdout",
     "output_type": "stream",
     "text": [
      " here, and it’s all about personalization\n",
      "AI is revolutionizing the way businesses interact with their customers. With the ability to analyze vast amounts of data and provide hyper-personalized experiences, AI is changing the game in customer service, marketing, and sales. Here’s a look at the future of AI and its impact on"
     ]
    },
    {
     "name": "stdout",
     "output_type": "stream",
     "text": [
      " here, and it’s all about personalization\n",
      "AI is revolutionizing the way businesses interact with their customers. With the ability to analyze vast amounts of data and provide hyper-personalized experiences, AI is changing the game in customer service, marketing, and sales. Here’s a look at the future of AI and its impact on businesses"
     ]
    },
    {
     "name": "stdout",
     "output_type": "stream",
     "text": [
      " here, and it’s all about personalization\n",
      "AI is revolutionizing the way businesses interact with their customers. With the ability to analyze vast amounts of data and provide hyper-personalized experiences, AI is changing the game in customer service, marketing, and sales. Here’s a look at the future of AI and its impact on businesses and"
     ]
    },
    {
     "name": "stdout",
     "output_type": "stream",
     "text": [
      " here, and it’s all about personalization\n",
      "AI is revolutionizing the way businesses interact with their customers. With the ability to analyze vast amounts of data and provide hyper-personalized experiences, AI is changing the game in customer service, marketing, and sales. Here’s a look at the future of AI and its impact on businesses and customers"
     ]
    },
    {
     "name": "stdout",
     "output_type": "stream",
     "text": [
      " here, and it’s all about personalization\n",
      "AI is revolutionizing the way businesses interact with their customers. With the ability to analyze vast amounts of data and provide hyper-personalized experiences, AI is changing the game in customer service, marketing, and sales. Here’s a look at the future of AI and its impact on businesses and customers alike"
     ]
    },
    {
     "name": "stdout",
     "output_type": "stream",
     "text": [
      " here, and it’s all about personalization\n",
      "AI is revolutionizing the way businesses interact with their customers. With the ability to analyze vast amounts of data and provide hyper-personalized experiences, AI is changing the game in customer service, marketing, and sales. Here’s a look at the future of AI and its impact on businesses and customers alike.\n"
     ]
    },
    {
     "name": "stdout",
     "output_type": "stream",
     "text": [
      " here, and it’s all about personalization\n",
      "AI is revolutionizing the way businesses interact with their customers. With the ability to analyze vast amounts of data and provide hyper-personalized experiences, AI is changing the game in customer service, marketing, and sales. Here’s a look at the future of AI and its impact on businesses and customers alike.\n",
      "The"
     ]
    },
    {
     "name": "stdout",
     "output_type": "stream",
     "text": [
      " here, and it’s all about personalization\n",
      "AI is revolutionizing the way businesses interact with their customers. With the ability to analyze vast amounts of data and provide hyper-personalized experiences, AI is changing the game in customer service, marketing, and sales. Here’s a look at the future of AI and its impact on businesses and customers alike.\n",
      "The Rise"
     ]
    },
    {
     "name": "stdout",
     "output_type": "stream",
     "text": [
      " here, and it’s all about personalization\n",
      "AI is revolutionizing the way businesses interact with their customers. With the ability to analyze vast amounts of data and provide hyper-personalized experiences, AI is changing the game in customer service, marketing, and sales. Here’s a look at the future of AI and its impact on businesses and customers alike.\n",
      "The Rise of"
     ]
    },
    {
     "name": "stdout",
     "output_type": "stream",
     "text": [
      " here, and it’s all about personalization\n",
      "AI is revolutionizing the way businesses interact with their customers. With the ability to analyze vast amounts of data and provide hyper-personalized experiences, AI is changing the game in customer service, marketing, and sales. Here’s a look at the future of AI and its impact on businesses and customers alike.\n",
      "The Rise of Hyper"
     ]
    },
    {
     "name": "stdout",
     "output_type": "stream",
     "text": [
      " here, and it’s all about personalization\n",
      "AI is revolutionizing the way businesses interact with their customers. With the ability to analyze vast amounts of data and provide hyper-personalized experiences, AI is changing the game in customer service, marketing, and sales. Here’s a look at the future of AI and its impact on businesses and customers alike.\n",
      "The Rise of Hyper-P"
     ]
    },
    {
     "name": "stdout",
     "output_type": "stream",
     "text": [
      " here, and it’s all about personalization\n",
      "AI is revolutionizing the way businesses interact with their customers. With the ability to analyze vast amounts of data and provide hyper-personalized experiences, AI is changing the game in customer service, marketing, and sales. Here’s a look at the future of AI and its impact on businesses and customers alike.\n",
      "The Rise of Hyper-Person"
     ]
    },
    {
     "name": "stdout",
     "output_type": "stream",
     "text": [
      " here, and it’s all about personalization\n",
      "AI is revolutionizing the way businesses interact with their customers. With the ability to analyze vast amounts of data and provide hyper-personalized experiences, AI is changing the game in customer service, marketing, and sales. Here’s a look at the future of AI and its impact on businesses and customers alike.\n",
      "The Rise of Hyper-Personal"
     ]
    },
    {
     "name": "stdout",
     "output_type": "stream",
     "text": [
      " here, and it’s all about personalization\n",
      "AI is revolutionizing the way businesses interact with their customers. With the ability to analyze vast amounts of data and provide hyper-personalized experiences, AI is changing the game in customer service, marketing, and sales. Here’s a look at the future of AI and its impact on businesses and customers alike.\n",
      "The Rise of Hyper-Personalization"
     ]
    },
    {
     "name": "stdout",
     "output_type": "stream",
     "text": [
      " here, and it’s all about personalization\n",
      "AI is revolutionizing the way businesses interact with their customers. With the ability to analyze vast amounts of data and provide hyper-personalized experiences, AI is changing the game in customer service, marketing, and sales. Here’s a look at the future of AI and its impact on businesses and customers alike.\n",
      "The Rise of Hyper-Personalization\n"
     ]
    },
    {
     "name": "stdout",
     "output_type": "stream",
     "text": [
      " here, and it’s all about personalization\n",
      "AI is revolutionizing the way businesses interact with their customers. With the ability to analyze vast amounts of data and provide hyper-personalized experiences, AI is changing the game in customer service, marketing, and sales. Here’s a look at the future of AI and its impact on businesses and customers alike.\n",
      "The Rise of Hyper-Personalization\n",
      "AI"
     ]
    },
    {
     "name": "stdout",
     "output_type": "stream",
     "text": [
      " here, and it’s all about personalization\n",
      "AI is revolutionizing the way businesses interact with their customers. With the ability to analyze vast amounts of data and provide hyper-personalized experiences, AI is changing the game in customer service, marketing, and sales. Here’s a look at the future of AI and its impact on businesses and customers alike.\n",
      "The Rise of Hyper-Personalization\n",
      "AI is"
     ]
    },
    {
     "name": "stdout",
     "output_type": "stream",
     "text": [
      " here, and it’s all about personalization\n",
      "AI is revolutionizing the way businesses interact with their customers. With the ability to analyze vast amounts of data and provide hyper-personalized experiences, AI is changing the game in customer service, marketing, and sales. Here’s a look at the future of AI and its impact on businesses and customers alike.\n",
      "The Rise of Hyper-Personalization\n",
      "AI is all"
     ]
    },
    {
     "name": "stdout",
     "output_type": "stream",
     "text": [
      " here, and it’s all about personalization\n",
      "AI is revolutionizing the way businesses interact with their customers. With the ability to analyze vast amounts of data and provide hyper-personalized experiences, AI is changing the game in customer service, marketing, and sales. Here’s a look at the future of AI and its impact on businesses and customers alike.\n",
      "The Rise of Hyper-Personalization\n",
      "AI is all about"
     ]
    },
    {
     "name": "stdout",
     "output_type": "stream",
     "text": [
      " here, and it’s all about personalization\n",
      "AI is revolutionizing the way businesses interact with their customers. With the ability to analyze vast amounts of data and provide hyper-personalized experiences, AI is changing the game in customer service, marketing, and sales. Here’s a look at the future of AI and its impact on businesses and customers alike.\n",
      "The Rise of Hyper-Personalization\n",
      "AI is all about understanding"
     ]
    },
    {
     "name": "stdout",
     "output_type": "stream",
     "text": [
      " here, and it’s all about personalization\n",
      "AI is revolutionizing the way businesses interact with their customers. With the ability to analyze vast amounts of data and provide hyper-personalized experiences, AI is changing the game in customer service, marketing, and sales. Here’s a look at the future of AI and its impact on businesses and customers alike.\n",
      "The Rise of Hyper-Personalization\n",
      "AI is all about understanding individual"
     ]
    },
    {
     "name": "stdout",
     "output_type": "stream",
     "text": [
      " here, and it’s all about personalization\n",
      "AI is revolutionizing the way businesses interact with their customers. With the ability to analyze vast amounts of data and provide hyper-personalized experiences, AI is changing the game in customer service, marketing, and sales. Here’s a look at the future of AI and its impact on businesses and customers alike.\n",
      "The Rise of Hyper-Personalization\n",
      "AI is all about understanding individual preferences"
     ]
    },
    {
     "name": "stdout",
     "output_type": "stream",
     "text": [
      " here, and it’s all about personalization\n",
      "AI is revolutionizing the way businesses interact with their customers. With the ability to analyze vast amounts of data and provide hyper-personalized experiences, AI is changing the game in customer service, marketing, and sales. Here’s a look at the future of AI and its impact on businesses and customers alike.\n",
      "The Rise of Hyper-Personalization\n",
      "AI is all about understanding individual preferences,"
     ]
    },
    {
     "name": "stdout",
     "output_type": "stream",
     "text": [
      " here, and it’s all about personalization\n",
      "AI is revolutionizing the way businesses interact with their customers. With the ability to analyze vast amounts of data and provide hyper-personalized experiences, AI is changing the game in customer service, marketing, and sales. Here’s a look at the future of AI and its impact on businesses and customers alike.\n",
      "The Rise of Hyper-Personalization\n",
      "AI is all about understanding individual preferences, behaviors"
     ]
    },
    {
     "name": "stdout",
     "output_type": "stream",
     "text": [
      " here, and it’s all about personalization\n",
      "AI is revolutionizing the way businesses interact with their customers. With the ability to analyze vast amounts of data and provide hyper-personalized experiences, AI is changing the game in customer service, marketing, and sales. Here’s a look at the future of AI and its impact on businesses and customers alike.\n",
      "The Rise of Hyper-Personalization\n",
      "AI is all about understanding individual preferences, behaviors,"
     ]
    },
    {
     "name": "stdout",
     "output_type": "stream",
     "text": [
      " here, and it’s all about personalization\n",
      "AI is revolutionizing the way businesses interact with their customers. With the ability to analyze vast amounts of data and provide hyper-personalized experiences, AI is changing the game in customer service, marketing, and sales. Here’s a look at the future of AI and its impact on businesses and customers alike.\n",
      "The Rise of Hyper-Personalization\n",
      "AI is all about understanding individual preferences, behaviors, and"
     ]
    },
    {
     "name": "stdout",
     "output_type": "stream",
     "text": [
      " here, and it’s all about personalization\n",
      "AI is revolutionizing the way businesses interact with their customers. With the ability to analyze vast amounts of data and provide hyper-personalized experiences, AI is changing the game in customer service, marketing, and sales. Here’s a look at the future of AI and its impact on businesses and customers alike.\n",
      "The Rise of Hyper-Personalization\n",
      "AI is all about understanding individual preferences, behaviors, and needs"
     ]
    },
    {
     "name": "stdout",
     "output_type": "stream",
     "text": [
      " here, and it’s all about personalization\n",
      "AI is revolutionizing the way businesses interact with their customers. With the ability to analyze vast amounts of data and provide hyper-personalized experiences, AI is changing the game in customer service, marketing, and sales. Here’s a look at the future of AI and its impact on businesses and customers alike.\n",
      "The Rise of Hyper-Personalization\n",
      "AI is all about understanding individual preferences, behaviors, and needs."
     ]
    },
    {
     "name": "stdout",
     "output_type": "stream",
     "text": [
      " here, and it’s all about personalization\n",
      "AI is revolutionizing the way businesses interact with their customers. With the ability to analyze vast amounts of data and provide hyper-personalized experiences, AI is changing the game in customer service, marketing, and sales. Here’s a look at the future of AI and its impact on businesses and customers alike.\n",
      "The Rise of Hyper-Personalization\n",
      "AI is all about understanding individual preferences, behaviors, and needs. By"
     ]
    },
    {
     "name": "stdout",
     "output_type": "stream",
     "text": [
      " here, and it’s all about personalization\n",
      "AI is revolutionizing the way businesses interact with their customers. With the ability to analyze vast amounts of data and provide hyper-personalized experiences, AI is changing the game in customer service, marketing, and sales. Here’s a look at the future of AI and its impact on businesses and customers alike.\n",
      "The Rise of Hyper-Personalization\n",
      "AI is all about understanding individual preferences, behaviors, and needs. By leveraging"
     ]
    },
    {
     "name": "stdout",
     "output_type": "stream",
     "text": [
      " here, and it’s all about personalization\n",
      "AI is revolutionizing the way businesses interact with their customers. With the ability to analyze vast amounts of data and provide hyper-personalized experiences, AI is changing the game in customer service, marketing, and sales. Here’s a look at the future of AI and its impact on businesses and customers alike.\n",
      "The Rise of Hyper-Personalization\n",
      "AI is all about understanding individual preferences, behaviors, and needs. By leveraging machine"
     ]
    },
    {
     "name": "stdout",
     "output_type": "stream",
     "text": [
      " here, and it’s all about personalization\n",
      "AI is revolutionizing the way businesses interact with their customers. With the ability to analyze vast amounts of data and provide hyper-personalized experiences, AI is changing the game in customer service, marketing, and sales. Here’s a look at the future of AI and its impact on businesses and customers alike.\n",
      "The Rise of Hyper-Personalization\n",
      "AI is all about understanding individual preferences, behaviors, and needs. By leveraging machine learning"
     ]
    },
    {
     "name": "stdout",
     "output_type": "stream",
     "text": [
      " here, and it’s all about personalization\n",
      "AI is revolutionizing the way businesses interact with their customers. With the ability to analyze vast amounts of data and provide hyper-personalized experiences, AI is changing the game in customer service, marketing, and sales. Here’s a look at the future of AI and its impact on businesses and customers alike.\n",
      "The Rise of Hyper-Personalization\n",
      "AI is all about understanding individual preferences, behaviors, and needs. By leveraging machine learning algorithms"
     ]
    },
    {
     "name": "stdout",
     "output_type": "stream",
     "text": [
      " here, and it’s all about personalization\n",
      "AI is revolutionizing the way businesses interact with their customers. With the ability to analyze vast amounts of data and provide hyper-personalized experiences, AI is changing the game in customer service, marketing, and sales. Here’s a look at the future of AI and its impact on businesses and customers alike.\n",
      "The Rise of Hyper-Personalization\n",
      "AI is all about understanding individual preferences, behaviors, and needs. By leveraging machine learning algorithms and"
     ]
    },
    {
     "name": "stdout",
     "output_type": "stream",
     "text": [
      " here, and it’s all about personalization\n",
      "AI is revolutionizing the way businesses interact with their customers. With the ability to analyze vast amounts of data and provide hyper-personalized experiences, AI is changing the game in customer service, marketing, and sales. Here’s a look at the future of AI and its impact on businesses and customers alike.\n",
      "The Rise of Hyper-Personalization\n",
      "AI is all about understanding individual preferences, behaviors, and needs. By leveraging machine learning algorithms and natural"
     ]
    },
    {
     "name": "stdout",
     "output_type": "stream",
     "text": [
      " here, and it’s all about personalization\n",
      "AI is revolutionizing the way businesses interact with their customers. With the ability to analyze vast amounts of data and provide hyper-personalized experiences, AI is changing the game in customer service, marketing, and sales. Here’s a look at the future of AI and its impact on businesses and customers alike.\n",
      "The Rise of Hyper-Personalization\n",
      "AI is all about understanding individual preferences, behaviors, and needs. By leveraging machine learning algorithms and natural language"
     ]
    },
    {
     "name": "stdout",
     "output_type": "stream",
     "text": [
      " here, and it’s all about personalization\n",
      "AI is revolutionizing the way businesses interact with their customers. With the ability to analyze vast amounts of data and provide hyper-personalized experiences, AI is changing the game in customer service, marketing, and sales. Here’s a look at the future of AI and its impact on businesses and customers alike.\n",
      "The Rise of Hyper-Personalization\n",
      "AI is all about understanding individual preferences, behaviors, and needs. By leveraging machine learning algorithms and natural language processing"
     ]
    },
    {
     "name": "stdout",
     "output_type": "stream",
     "text": [
      " here, and it’s all about personalization\n",
      "AI is revolutionizing the way businesses interact with their customers. With the ability to analyze vast amounts of data and provide hyper-personalized experiences, AI is changing the game in customer service, marketing, and sales. Here’s a look at the future of AI and its impact on businesses and customers alike.\n",
      "The Rise of Hyper-Personalization\n",
      "AI is all about understanding individual preferences, behaviors, and needs. By leveraging machine learning algorithms and natural language processing,"
     ]
    },
    {
     "name": "stdout",
     "output_type": "stream",
     "text": [
      " here, and it’s all about personalization\n",
      "AI is revolutionizing the way businesses interact with their customers. With the ability to analyze vast amounts of data and provide hyper-personalized experiences, AI is changing the game in customer service, marketing, and sales. Here’s a look at the future of AI and its impact on businesses and customers alike.\n",
      "The Rise of Hyper-Personalization\n",
      "AI is all about understanding individual preferences, behaviors, and needs. By leveraging machine learning algorithms and natural language processing, businesses"
     ]
    },
    {
     "name": "stdout",
     "output_type": "stream",
     "text": [
      " here, and it’s all about personalization\n",
      "AI is revolutionizing the way businesses interact with their customers. With the ability to analyze vast amounts of data and provide hyper-personalized experiences, AI is changing the game in customer service, marketing, and sales. Here’s a look at the future of AI and its impact on businesses and customers alike.\n",
      "The Rise of Hyper-Personalization\n",
      "AI is all about understanding individual preferences, behaviors, and needs. By leveraging machine learning algorithms and natural language processing, businesses can"
     ]
    },
    {
     "name": "stdout",
     "output_type": "stream",
     "text": [
      " here, and it’s all about personalization\n",
      "AI is revolutionizing the way businesses interact with their customers. With the ability to analyze vast amounts of data and provide hyper-personalized experiences, AI is changing the game in customer service, marketing, and sales. Here’s a look at the future of AI and its impact on businesses and customers alike.\n",
      "The Rise of Hyper-Personalization\n",
      "AI is all about understanding individual preferences, behaviors, and needs. By leveraging machine learning algorithms and natural language processing, businesses can create"
     ]
    },
    {
     "name": "stdout",
     "output_type": "stream",
     "text": [
      " here, and it’s all about personalization\n",
      "AI is revolutionizing the way businesses interact with their customers. With the ability to analyze vast amounts of data and provide hyper-personalized experiences, AI is changing the game in customer service, marketing, and sales. Here’s a look at the future of AI and its impact on businesses and customers alike.\n",
      "The Rise of Hyper-Personalization\n",
      "AI is all about understanding individual preferences, behaviors, and needs. By leveraging machine learning algorithms and natural language processing, businesses can create highly"
     ]
    },
    {
     "name": "stdout",
     "output_type": "stream",
     "text": [
      " here, and it’s all about personalization\n",
      "AI is revolutionizing the way businesses interact with their customers. With the ability to analyze vast amounts of data and provide hyper-personalized experiences, AI is changing the game in customer service, marketing, and sales. Here’s a look at the future of AI and its impact on businesses and customers alike.\n",
      "The Rise of Hyper-Personalization\n",
      "AI is all about understanding individual preferences, behaviors, and needs. By leveraging machine learning algorithms and natural language processing, businesses can create highly personalized"
     ]
    },
    {
     "name": "stdout",
     "output_type": "stream",
     "text": [
      " here, and it’s all about personalization\n",
      "AI is revolutionizing the way businesses interact with their customers. With the ability to analyze vast amounts of data and provide hyper-personalized experiences, AI is changing the game in customer service, marketing, and sales. Here’s a look at the future of AI and its impact on businesses and customers alike.\n",
      "The Rise of Hyper-Personalization\n",
      "AI is all about understanding individual preferences, behaviors, and needs. By leveraging machine learning algorithms and natural language processing, businesses can create highly personalized experiences"
     ]
    },
    {
     "name": "stdout",
     "output_type": "stream",
     "text": [
      " here, and it’s all about personalization\n",
      "AI is revolutionizing the way businesses interact with their customers. With the ability to analyze vast amounts of data and provide hyper-personalized experiences, AI is changing the game in customer service, marketing, and sales. Here’s a look at the future of AI and its impact on businesses and customers alike.\n",
      "The Rise of Hyper-Personalization\n",
      "AI is all about understanding individual preferences, behaviors, and needs. By leveraging machine learning algorithms and natural language processing, businesses can create highly personalized experiences that"
     ]
    },
    {
     "name": "stdout",
     "output_type": "stream",
     "text": [
      " here, and it’s all about personalization\n",
      "AI is revolutionizing the way businesses interact with their customers. With the ability to analyze vast amounts of data and provide hyper-personalized experiences, AI is changing the game in customer service, marketing, and sales. Here’s a look at the future of AI and its impact on businesses and customers alike.\n",
      "The Rise of Hyper-Personalization\n",
      "AI is all about understanding individual preferences, behaviors, and needs. By leveraging machine learning algorithms and natural language processing, businesses can create highly personalized experiences that resonate"
     ]
    },
    {
     "name": "stdout",
     "output_type": "stream",
     "text": [
      " here, and it’s all about personalization\n",
      "AI is revolutionizing the way businesses interact with their customers. With the ability to analyze vast amounts of data and provide hyper-personalized experiences, AI is changing the game in customer service, marketing, and sales. Here’s a look at the future of AI and its impact on businesses and customers alike.\n",
      "The Rise of Hyper-Personalization\n",
      "AI is all about understanding individual preferences, behaviors, and needs. By leveraging machine learning algorithms and natural language processing, businesses can create highly personalized experiences that resonate with"
     ]
    },
    {
     "name": "stdout",
     "output_type": "stream",
     "text": [
      " here, and it’s all about personalization\n",
      "AI is revolutionizing the way businesses interact with their customers. With the ability to analyze vast amounts of data and provide hyper-personalized experiences, AI is changing the game in customer service, marketing, and sales. Here’s a look at the future of AI and its impact on businesses and customers alike.\n",
      "The Rise of Hyper-Personalization\n",
      "AI is all about understanding individual preferences, behaviors, and needs. By leveraging machine learning algorithms and natural language processing, businesses can create highly personalized experiences that resonate with each"
     ]
    },
    {
     "name": "stdout",
     "output_type": "stream",
     "text": [
      " here, and it’s all about personalization\n",
      "AI is revolutionizing the way businesses interact with their customers. With the ability to analyze vast amounts of data and provide hyper-personalized experiences, AI is changing the game in customer service, marketing, and sales. Here’s a look at the future of AI and its impact on businesses and customers alike.\n",
      "The Rise of Hyper-Personalization\n",
      "AI is all about understanding individual preferences, behaviors, and needs. By leveraging machine learning algorithms and natural language processing, businesses can create highly personalized experiences that resonate with each customer"
     ]
    },
    {
     "name": "stdout",
     "output_type": "stream",
     "text": [
      " here, and it’s all about personalization\n",
      "AI is revolutionizing the way businesses interact with their customers. With the ability to analyze vast amounts of data and provide hyper-personalized experiences, AI is changing the game in customer service, marketing, and sales. Here’s a look at the future of AI and its impact on businesses and customers alike.\n",
      "The Rise of Hyper-Personalization\n",
      "AI is all about understanding individual preferences, behaviors, and needs. By leveraging machine learning algorithms and natural language processing, businesses can create highly personalized experiences that resonate with each customer on"
     ]
    },
    {
     "name": "stdout",
     "output_type": "stream",
     "text": [
      " here, and it’s all about personalization\n",
      "AI is revolutionizing the way businesses interact with their customers. With the ability to analyze vast amounts of data and provide hyper-personalized experiences, AI is changing the game in customer service, marketing, and sales. Here’s a look at the future of AI and its impact on businesses and customers alike.\n",
      "The Rise of Hyper-Personalization\n",
      "AI is all about understanding individual preferences, behaviors, and needs. By leveraging machine learning algorithms and natural language processing, businesses can create highly personalized experiences that resonate with each customer on a"
     ]
    },
    {
     "name": "stdout",
     "output_type": "stream",
     "text": [
      " here, and it’s all about personalization\n",
      "AI is revolutionizing the way businesses interact with their customers. With the ability to analyze vast amounts of data and provide hyper-personalized experiences, AI is changing the game in customer service, marketing, and sales. Here’s a look at the future of AI and its impact on businesses and customers alike.\n",
      "The Rise of Hyper-Personalization\n",
      "AI is all about understanding individual preferences, behaviors, and needs. By leveraging machine learning algorithms and natural language processing, businesses can create highly personalized experiences that resonate with each customer on a deeper"
     ]
    },
    {
     "name": "stdout",
     "output_type": "stream",
     "text": [
      " here, and it’s all about personalization\n",
      "AI is revolutionizing the way businesses interact with their customers. With the ability to analyze vast amounts of data and provide hyper-personalized experiences, AI is changing the game in customer service, marketing, and sales. Here’s a look at the future of AI and its impact on businesses and customers alike.\n",
      "The Rise of Hyper-Personalization\n",
      "AI is all about understanding individual preferences, behaviors, and needs. By leveraging machine learning algorithms and natural language processing, businesses can create highly personalized experiences that resonate with each customer on a deeper level"
     ]
    },
    {
     "name": "stdout",
     "output_type": "stream",
     "text": [
      " here, and it’s all about personalization\n",
      "AI is revolutionizing the way businesses interact with their customers. With the ability to analyze vast amounts of data and provide hyper-personalized experiences, AI is changing the game in customer service, marketing, and sales. Here’s a look at the future of AI and its impact on businesses and customers alike.\n",
      "The Rise of Hyper-Personalization\n",
      "AI is all about understanding individual preferences, behaviors, and needs. By leveraging machine learning algorithms and natural language processing, businesses can create highly personalized experiences that resonate with each customer on a deeper level."
     ]
    },
    {
     "name": "stdout",
     "output_type": "stream",
     "text": [
      " here, and it’s all about personalization\n",
      "AI is revolutionizing the way businesses interact with their customers. With the ability to analyze vast amounts of data and provide hyper-personalized experiences, AI is changing the game in customer service, marketing, and sales. Here’s a look at the future of AI and its impact on businesses and customers alike.\n",
      "The Rise of Hyper-Personalization\n",
      "AI is all about understanding individual preferences, behaviors, and needs. By leveraging machine learning algorithms and natural language processing, businesses can create highly personalized experiences that resonate with each customer on a deeper level. This"
     ]
    },
    {
     "name": "stdout",
     "output_type": "stream",
     "text": [
      " here, and it’s all about personalization\n",
      "AI is revolutionizing the way businesses interact with their customers. With the ability to analyze vast amounts of data and provide hyper-personalized experiences, AI is changing the game in customer service, marketing, and sales. Here’s a look at the future of AI and its impact on businesses and customers alike.\n",
      "The Rise of Hyper-Personalization\n",
      "AI is all about understanding individual preferences, behaviors, and needs. By leveraging machine learning algorithms and natural language processing, businesses can create highly personalized experiences that resonate with each customer on a deeper level. This isn"
     ]
    },
    {
     "name": "stdout",
     "output_type": "stream",
     "text": [
      " here, and it’s all about personalization\n",
      "AI is revolutionizing the way businesses interact with their customers. With the ability to analyze vast amounts of data and provide hyper-personalized experiences, AI is changing the game in customer service, marketing, and sales. Here’s a look at the future of AI and its impact on businesses and customers alike.\n",
      "The Rise of Hyper-Personalization\n",
      "AI is all about understanding individual preferences, behaviors, and needs. By leveraging machine learning algorithms and natural language processing, businesses can create highly personalized experiences that resonate with each customer on a deeper level. This isn’t"
     ]
    },
    {
     "name": "stdout",
     "output_type": "stream",
     "text": [
      " here, and it’s all about personalization\n",
      "AI is revolutionizing the way businesses interact with their customers. With the ability to analyze vast amounts of data and provide hyper-personalized experiences, AI is changing the game in customer service, marketing, and sales. Here’s a look at the future of AI and its impact on businesses and customers alike.\n",
      "The Rise of Hyper-Personalization\n",
      "AI is all about understanding individual preferences, behaviors, and needs. By leveraging machine learning algorithms and natural language processing, businesses can create highly personalized experiences that resonate with each customer on a deeper level. This isn’t just"
     ]
    },
    {
     "name": "stdout",
     "output_type": "stream",
     "text": [
      " here, and it’s all about personalization\n",
      "AI is revolutionizing the way businesses interact with their customers. With the ability to analyze vast amounts of data and provide hyper-personalized experiences, AI is changing the game in customer service, marketing, and sales. Here’s a look at the future of AI and its impact on businesses and customers alike.\n",
      "The Rise of Hyper-Personalization\n",
      "AI is all about understanding individual preferences, behaviors, and needs. By leveraging machine learning algorithms and natural language processing, businesses can create highly personalized experiences that resonate with each customer on a deeper level. This isn’t just about"
     ]
    },
    {
     "name": "stdout",
     "output_type": "stream",
     "text": [
      " here, and it’s all about personalization\n",
      "AI is revolutionizing the way businesses interact with their customers. With the ability to analyze vast amounts of data and provide hyper-personalized experiences, AI is changing the game in customer service, marketing, and sales. Here’s a look at the future of AI and its impact on businesses and customers alike.\n",
      "The Rise of Hyper-Personalization\n",
      "AI is all about understanding individual preferences, behaviors, and needs. By leveraging machine learning algorithms and natural language processing, businesses can create highly personalized experiences that resonate with each customer on a deeper level. This isn’t just about addressing"
     ]
    },
    {
     "name": "stdout",
     "output_type": "stream",
     "text": [
      " here, and it’s all about personalization\n",
      "AI is revolutionizing the way businesses interact with their customers. With the ability to analyze vast amounts of data and provide hyper-personalized experiences, AI is changing the game in customer service, marketing, and sales. Here’s a look at the future of AI and its impact on businesses and customers alike.\n",
      "The Rise of Hyper-Personalization\n",
      "AI is all about understanding individual preferences, behaviors, and needs. By leveraging machine learning algorithms and natural language processing, businesses can create highly personalized experiences that resonate with each customer on a deeper level. This isn’t just about addressing customers"
     ]
    },
    {
     "name": "stdout",
     "output_type": "stream",
     "text": [
      " here, and it’s all about personalization\n",
      "AI is revolutionizing the way businesses interact with their customers. With the ability to analyze vast amounts of data and provide hyper-personalized experiences, AI is changing the game in customer service, marketing, and sales. Here’s a look at the future of AI and its impact on businesses and customers alike.\n",
      "The Rise of Hyper-Personalization\n",
      "AI is all about understanding individual preferences, behaviors, and needs. By leveraging machine learning algorithms and natural language processing, businesses can create highly personalized experiences that resonate with each customer on a deeper level. This isn’t just about addressing customers by"
     ]
    },
    {
     "name": "stdout",
     "output_type": "stream",
     "text": [
      " here, and it’s all about personalization\n",
      "AI is revolutionizing the way businesses interact with their customers. With the ability to analyze vast amounts of data and provide hyper-personalized experiences, AI is changing the game in customer service, marketing, and sales. Here’s a look at the future of AI and its impact on businesses and customers alike.\n",
      "The Rise of Hyper-Personalization\n",
      "AI is all about understanding individual preferences, behaviors, and needs. By leveraging machine learning algorithms and natural language processing, businesses can create highly personalized experiences that resonate with each customer on a deeper level. This isn’t just about addressing customers by name"
     ]
    },
    {
     "name": "stdout",
     "output_type": "stream",
     "text": [
      "\n"
     ]
    }
   ],
   "source": [
    "prompts = [\n",
    "    \"Hello, my name is\",\n",
    "    \"The capital of France is\",\n",
    "    \"The future of AI is\",\n",
    "]\n",
    "sampling_params = {\"temperature\": 0.8, \"top_p\": 0.95}\n",
    "\n",
    "print(\"\\n=== Testing synchronous streaming generation ===\")\n",
    "\n",
    "for prompt in prompts:\n",
    "    print(f\"\\nPrompt: {prompt}\")\n",
    "    print(\"Generated text: \", end=\"\", flush=True)\n",
    "\n",
    "    for chunk in llm.generate(prompt, sampling_params, stream=True):\n",
    "        print(chunk[\"text\"], end=\"\", flush=True)\n",
    "    print()"
   ]
  },
  {
   "cell_type": "markdown",
   "metadata": {},
   "source": [
    "### Non-streaming Asynchronous Generation"
   ]
  },
  {
   "cell_type": "code",
   "execution_count": 4,
   "metadata": {
    "execution": {
     "iopub.execute_input": "2025-01-27T01:59:19.147406Z",
     "iopub.status.busy": "2025-01-27T01:59:19.147081Z",
     "iopub.status.idle": "2025-01-27T01:59:20.035617Z",
     "shell.execute_reply": "2025-01-27T01:59:20.035049Z"
    }
   },
   "outputs": [
    {
     "name": "stdout",
     "output_type": "stream",
     "text": [
      "\n",
      "=== Testing asynchronous batch generation ===\n"
     ]
    },
    {
     "name": "stdout",
     "output_type": "stream",
     "text": [
      "\n",
      "Prompt: Hello, my name is\n",
      "Generated text:  Abigail (Abby) and I am a 23 year old free spirit, who has a deep passion for art, music, and all things creative. I have been involved in the music industry since I was a teenager, where I began working as a music promoter and event organizer for local bands. I have also worked as a singer, a writer, and a producer, where I have been able to express myself through various mediums of art. My ultimate goal is to create a platform that inspires and empowers others to follow their dreams, and to live a life that is authentic and meaningful. I believe that creativity and self-expression are\n",
      "\n",
      "Prompt: The capital of France is\n",
      "Generated text:  a must-visit destination for any traveler. From the iconic Eiffel Tower to the world-class museums, delicious cuisine, and charming neighborhoods, Paris has something to offer for every interest and taste. Here are some top things to do and see in Paris:\n",
      "1. The Eiffel Tower: The most iconic landmark in Paris, the Eiffel Tower is a must-visit attraction. You can take the stairs or elevator to the top for breathtaking views of the city.\n",
      "2. The Louvre Museum: One of the world's largest and most famous museums, the Louvre houses an impressive collection of art and artifacts, including the\n",
      "\n",
      "Prompt: The future of AI is\n",
      "Generated text:  coming to UGA campus\n",
      "ATHENS, Ga. (WFXG) - Artificial intelligence is changing the world and the University of Georgia is at the forefront of that change.\n",
      "The University of Georgia has been selected as one of five institutions nationwide to host an IBM Quantum Experience Hub. This is a multi-million dollar research center that will give UGA students and researchers access to some of the most advanced AI and quantum computing technology available.\n",
      "\"We're going to have the capability of doing research that's being done at places like Google, IBM, and Microsoft,\" said Dr. Garret Suen, a professor of physics at UGA. \"\n"
     ]
    }
   ],
   "source": [
    "prompts = [\n",
    "    \"Hello, my name is\",\n",
    "    \"The capital of France is\",\n",
    "    \"The future of AI is\",\n",
    "]\n",
    "\n",
    "sampling_params = {\"temperature\": 0.8, \"top_p\": 0.95}\n",
    "\n",
    "print(\"\\n=== Testing asynchronous batch generation ===\")\n",
    "\n",
    "\n",
    "async def main():\n",
    "    outputs = await llm.async_generate(prompts, sampling_params)\n",
    "\n",
    "    for prompt, output in zip(prompts, outputs):\n",
    "        print(f\"\\nPrompt: {prompt}\")\n",
    "        print(f\"Generated text: {output['text']}\")\n",
    "\n",
    "\n",
    "asyncio.run(main())"
   ]
  },
  {
   "cell_type": "markdown",
   "metadata": {},
   "source": [
    "### Streaming Asynchronous Generation"
   ]
  },
  {
   "cell_type": "code",
   "execution_count": 5,
   "metadata": {
    "execution": {
     "iopub.execute_input": "2025-01-27T01:59:20.037136Z",
     "iopub.status.busy": "2025-01-27T01:59:20.036891Z",
     "iopub.status.idle": "2025-01-27T01:59:22.646409Z",
     "shell.execute_reply": "2025-01-27T01:59:22.645919Z"
    }
   },
   "outputs": [
    {
     "name": "stdout",
     "output_type": "stream",
     "text": [
      "\n",
      "=== Testing asynchronous streaming generation ===\n",
      "\n",
      "Prompt: Hello, my name is\n",
      "Generated text: "
     ]
    },
    {
     "name": "stdout",
     "output_type": "stream",
     "text": [
      " Mr"
     ]
    },
    {
     "name": "stdout",
     "output_type": "stream",
     "text": [
      " Mr."
     ]
    },
    {
     "name": "stdout",
     "output_type": "stream",
     "text": [
      " Mr. Hen"
     ]
    },
    {
     "name": "stdout",
     "output_type": "stream",
     "text": [
      " Mr. Henness"
     ]
    },
    {
     "name": "stdout",
     "output_type": "stream",
     "text": [
      " Mr. Hennessy"
     ]
    },
    {
     "name": "stdout",
     "output_type": "stream",
     "text": [
      " Mr. Hennessy,"
     ]
    },
    {
     "name": "stdout",
     "output_type": "stream",
     "text": [
      " Mr. Hennessy, and"
     ]
    },
    {
     "name": "stdout",
     "output_type": "stream",
     "text": [
      " Mr. Hennessy, and I"
     ]
    },
    {
     "name": "stdout",
     "output_type": "stream",
     "text": [
      " Mr. Hennessy, and I am"
     ]
    },
    {
     "name": "stdout",
     "output_type": "stream",
     "text": [
      " Mr. Hennessy, and I am the"
     ]
    },
    {
     "name": "stdout",
     "output_type": "stream",
     "text": [
      " Mr. Hennessy, and I am the Director"
     ]
    },
    {
     "name": "stdout",
     "output_type": "stream",
     "text": [
      " Mr. Hennessy, and I am the Director of"
     ]
    },
    {
     "name": "stdout",
     "output_type": "stream",
     "text": [
      " Mr. Hennessy, and I am the Director of Guidance"
     ]
    },
    {
     "name": "stdout",
     "output_type": "stream",
     "text": [
      " Mr. Hennessy, and I am the Director of Guidance at"
     ]
    },
    {
     "name": "stdout",
     "output_type": "stream",
     "text": [
      " Mr. Hennessy, and I am the Director of Guidance at Valley"
     ]
    },
    {
     "name": "stdout",
     "output_type": "stream",
     "text": [
      " Mr. Hennessy, and I am the Director of Guidance at Valley Regional"
     ]
    },
    {
     "name": "stdout",
     "output_type": "stream",
     "text": [
      " Mr. Hennessy, and I am the Director of Guidance at Valley Regional High"
     ]
    },
    {
     "name": "stdout",
     "output_type": "stream",
     "text": [
      " Mr. Hennessy, and I am the Director of Guidance at Valley Regional High School"
     ]
    },
    {
     "name": "stdout",
     "output_type": "stream",
     "text": [
      " Mr. Hennessy, and I am the Director of Guidance at Valley Regional High School."
     ]
    },
    {
     "name": "stdout",
     "output_type": "stream",
     "text": [
      " Mr. Hennessy, and I am the Director of Guidance at Valley Regional High School. I"
     ]
    },
    {
     "name": "stdout",
     "output_type": "stream",
     "text": [
      " Mr. Hennessy, and I am the Director of Guidance at Valley Regional High School. I am"
     ]
    },
    {
     "name": "stdout",
     "output_type": "stream",
     "text": [
      " Mr. Hennessy, and I am the Director of Guidance at Valley Regional High School. I am a"
     ]
    },
    {
     "name": "stdout",
     "output_type": "stream",
     "text": [
      " Mr. Hennessy, and I am the Director of Guidance at Valley Regional High School. I am a proud"
     ]
    },
    {
     "name": "stdout",
     "output_type": "stream",
     "text": [
      " Mr. Hennessy, and I am the Director of Guidance at Valley Regional High School. I am a proud member"
     ]
    },
    {
     "name": "stdout",
     "output_type": "stream",
     "text": [
      " Mr. Hennessy, and I am the Director of Guidance at Valley Regional High School. I am a proud member of"
     ]
    },
    {
     "name": "stdout",
     "output_type": "stream",
     "text": [
      " Mr. Hennessy, and I am the Director of Guidance at Valley Regional High School. I am a proud member of the"
     ]
    },
    {
     "name": "stdout",
     "output_type": "stream",
     "text": [
      " Mr. Hennessy, and I am the Director of Guidance at Valley Regional High School. I am a proud member of the V"
     ]
    },
    {
     "name": "stdout",
     "output_type": "stream",
     "text": [
      " Mr. Hennessy, and I am the Director of Guidance at Valley Regional High School. I am a proud member of the VHS"
     ]
    },
    {
     "name": "stdout",
     "output_type": "stream",
     "text": [
      " Mr. Hennessy, and I am the Director of Guidance at Valley Regional High School. I am a proud member of the VHS community"
     ]
    },
    {
     "name": "stdout",
     "output_type": "stream",
     "text": [
      " Mr. Hennessy, and I am the Director of Guidance at Valley Regional High School. I am a proud member of the VHS community and"
     ]
    },
    {
     "name": "stdout",
     "output_type": "stream",
     "text": [
      " Mr. Hennessy, and I am the Director of Guidance at Valley Regional High School. I am a proud member of the VHS community and have"
     ]
    },
    {
     "name": "stdout",
     "output_type": "stream",
     "text": [
      " Mr. Hennessy, and I am the Director of Guidance at Valley Regional High School. I am a proud member of the VHS community and have been"
     ]
    },
    {
     "name": "stdout",
     "output_type": "stream",
     "text": [
      " Mr. Hennessy, and I am the Director of Guidance at Valley Regional High School. I am a proud member of the VHS community and have been serving"
     ]
    },
    {
     "name": "stdout",
     "output_type": "stream",
     "text": [
      " Mr. Hennessy, and I am the Director of Guidance at Valley Regional High School. I am a proud member of the VHS community and have been serving this"
     ]
    },
    {
     "name": "stdout",
     "output_type": "stream",
     "text": [
      " Mr. Hennessy, and I am the Director of Guidance at Valley Regional High School. I am a proud member of the VHS community and have been serving this school"
     ]
    },
    {
     "name": "stdout",
     "output_type": "stream",
     "text": [
      " Mr. Hennessy, and I am the Director of Guidance at Valley Regional High School. I am a proud member of the VHS community and have been serving this school since"
     ]
    },
    {
     "name": "stdout",
     "output_type": "stream",
     "text": [
      " Mr. Hennessy, and I am the Director of Guidance at Valley Regional High School. I am a proud member of the VHS community and have been serving this school since "
     ]
    },
    {
     "name": "stdout",
     "output_type": "stream",
     "text": [
      " Mr. Hennessy, and I am the Director of Guidance at Valley Regional High School. I am a proud member of the VHS community and have been serving this school since 201"
     ]
    },
    {
     "name": "stdout",
     "output_type": "stream",
     "text": [
      " Mr. Hennessy, and I am the Director of Guidance at Valley Regional High School. I am a proud member of the VHS community and have been serving this school since 2010"
     ]
    },
    {
     "name": "stdout",
     "output_type": "stream",
     "text": [
      " Mr. Hennessy, and I am the Director of Guidance at Valley Regional High School. I am a proud member of the VHS community and have been serving this school since 2010."
     ]
    },
    {
     "name": "stdout",
     "output_type": "stream",
     "text": [
      " Mr. Hennessy, and I am the Director of Guidance at Valley Regional High School. I am a proud member of the VHS community and have been serving this school since 2010. As"
     ]
    },
    {
     "name": "stdout",
     "output_type": "stream",
     "text": [
      " Mr. Hennessy, and I am the Director of Guidance at Valley Regional High School. I am a proud member of the VHS community and have been serving this school since 2010. As a"
     ]
    },
    {
     "name": "stdout",
     "output_type": "stream",
     "text": [
      " Mr. Hennessy, and I am the Director of Guidance at Valley Regional High School. I am a proud member of the VHS community and have been serving this school since 2010. As a school"
     ]
    },
    {
     "name": "stdout",
     "output_type": "stream",
     "text": [
      " Mr. Hennessy, and I am the Director of Guidance at Valley Regional High School. I am a proud member of the VHS community and have been serving this school since 2010. As a school counselor"
     ]
    },
    {
     "name": "stdout",
     "output_type": "stream",
     "text": [
      " Mr. Hennessy, and I am the Director of Guidance at Valley Regional High School. I am a proud member of the VHS community and have been serving this school since 2010. As a school counselor,"
     ]
    },
    {
     "name": "stdout",
     "output_type": "stream",
     "text": [
      " Mr. Hennessy, and I am the Director of Guidance at Valley Regional High School. I am a proud member of the VHS community and have been serving this school since 2010. As a school counselor, my"
     ]
    },
    {
     "name": "stdout",
     "output_type": "stream",
     "text": [
      " Mr. Hennessy, and I am the Director of Guidance at Valley Regional High School. I am a proud member of the VHS community and have been serving this school since 2010. As a school counselor, my role"
     ]
    },
    {
     "name": "stdout",
     "output_type": "stream",
     "text": [
      " Mr. Hennessy, and I am the Director of Guidance at Valley Regional High School. I am a proud member of the VHS community and have been serving this school since 2010. As a school counselor, my role is"
     ]
    },
    {
     "name": "stdout",
     "output_type": "stream",
     "text": [
      " Mr. Hennessy, and I am the Director of Guidance at Valley Regional High School. I am a proud member of the VHS community and have been serving this school since 2010. As a school counselor, my role is to"
     ]
    },
    {
     "name": "stdout",
     "output_type": "stream",
     "text": [
      " Mr. Hennessy, and I am the Director of Guidance at Valley Regional High School. I am a proud member of the VHS community and have been serving this school since 2010. As a school counselor, my role is to support"
     ]
    },
    {
     "name": "stdout",
     "output_type": "stream",
     "text": [
      " Mr. Hennessy, and I am the Director of Guidance at Valley Regional High School. I am a proud member of the VHS community and have been serving this school since 2010. As a school counselor, my role is to support the"
     ]
    },
    {
     "name": "stdout",
     "output_type": "stream",
     "text": [
      " Mr. Hennessy, and I am the Director of Guidance at Valley Regional High School. I am a proud member of the VHS community and have been serving this school since 2010. As a school counselor, my role is to support the academic"
     ]
    },
    {
     "name": "stdout",
     "output_type": "stream",
     "text": [
      " Mr. Hennessy, and I am the Director of Guidance at Valley Regional High School. I am a proud member of the VHS community and have been serving this school since 2010. As a school counselor, my role is to support the academic,"
     ]
    },
    {
     "name": "stdout",
     "output_type": "stream",
     "text": [
      " Mr. Hennessy, and I am the Director of Guidance at Valley Regional High School. I am a proud member of the VHS community and have been serving this school since 2010. As a school counselor, my role is to support the academic, social"
     ]
    },
    {
     "name": "stdout",
     "output_type": "stream",
     "text": [
      " Mr. Hennessy, and I am the Director of Guidance at Valley Regional High School. I am a proud member of the VHS community and have been serving this school since 2010. As a school counselor, my role is to support the academic, social,"
     ]
    },
    {
     "name": "stdout",
     "output_type": "stream",
     "text": [
      " Mr. Hennessy, and I am the Director of Guidance at Valley Regional High School. I am a proud member of the VHS community and have been serving this school since 2010. As a school counselor, my role is to support the academic, social, and"
     ]
    },
    {
     "name": "stdout",
     "output_type": "stream",
     "text": [
      " Mr. Hennessy, and I am the Director of Guidance at Valley Regional High School. I am a proud member of the VHS community and have been serving this school since 2010. As a school counselor, my role is to support the academic, social, and emotional"
     ]
    },
    {
     "name": "stdout",
     "output_type": "stream",
     "text": [
      " Mr. Hennessy, and I am the Director of Guidance at Valley Regional High School. I am a proud member of the VHS community and have been serving this school since 2010. As a school counselor, my role is to support the academic, social, and emotional growth"
     ]
    },
    {
     "name": "stdout",
     "output_type": "stream",
     "text": [
      " Mr. Hennessy, and I am the Director of Guidance at Valley Regional High School. I am a proud member of the VHS community and have been serving this school since 2010. As a school counselor, my role is to support the academic, social, and emotional growth of"
     ]
    },
    {
     "name": "stdout",
     "output_type": "stream",
     "text": [
      " Mr. Hennessy, and I am the Director of Guidance at Valley Regional High School. I am a proud member of the VHS community and have been serving this school since 2010. As a school counselor, my role is to support the academic, social, and emotional growth of our"
     ]
    },
    {
     "name": "stdout",
     "output_type": "stream",
     "text": [
      " Mr. Hennessy, and I am the Director of Guidance at Valley Regional High School. I am a proud member of the VHS community and have been serving this school since 2010. As a school counselor, my role is to support the academic, social, and emotional growth of our students"
     ]
    },
    {
     "name": "stdout",
     "output_type": "stream",
     "text": [
      " Mr. Hennessy, and I am the Director of Guidance at Valley Regional High School. I am a proud member of the VHS community and have been serving this school since 2010. As a school counselor, my role is to support the academic, social, and emotional growth of our students."
     ]
    },
    {
     "name": "stdout",
     "output_type": "stream",
     "text": [
      " Mr. Hennessy, and I am the Director of Guidance at Valley Regional High School. I am a proud member of the VHS community and have been serving this school since 2010. As a school counselor, my role is to support the academic, social, and emotional growth of our students. I"
     ]
    },
    {
     "name": "stdout",
     "output_type": "stream",
     "text": [
      " Mr. Hennessy, and I am the Director of Guidance at Valley Regional High School. I am a proud member of the VHS community and have been serving this school since 2010. As a school counselor, my role is to support the academic, social, and emotional growth of our students. I work"
     ]
    },
    {
     "name": "stdout",
     "output_type": "stream",
     "text": [
      " Mr. Hennessy, and I am the Director of Guidance at Valley Regional High School. I am a proud member of the VHS community and have been serving this school since 2010. As a school counselor, my role is to support the academic, social, and emotional growth of our students. I work closely"
     ]
    },
    {
     "name": "stdout",
     "output_type": "stream",
     "text": [
      " Mr. Hennessy, and I am the Director of Guidance at Valley Regional High School. I am a proud member of the VHS community and have been serving this school since 2010. As a school counselor, my role is to support the academic, social, and emotional growth of our students. I work closely with"
     ]
    },
    {
     "name": "stdout",
     "output_type": "stream",
     "text": [
      " Mr. Hennessy, and I am the Director of Guidance at Valley Regional High School. I am a proud member of the VHS community and have been serving this school since 2010. As a school counselor, my role is to support the academic, social, and emotional growth of our students. I work closely with students"
     ]
    },
    {
     "name": "stdout",
     "output_type": "stream",
     "text": [
      " Mr. Hennessy, and I am the Director of Guidance at Valley Regional High School. I am a proud member of the VHS community and have been serving this school since 2010. As a school counselor, my role is to support the academic, social, and emotional growth of our students. I work closely with students,"
     ]
    },
    {
     "name": "stdout",
     "output_type": "stream",
     "text": [
      " Mr. Hennessy, and I am the Director of Guidance at Valley Regional High School. I am a proud member of the VHS community and have been serving this school since 2010. As a school counselor, my role is to support the academic, social, and emotional growth of our students. I work closely with students, parents"
     ]
    },
    {
     "name": "stdout",
     "output_type": "stream",
     "text": [
      " Mr. Hennessy, and I am the Director of Guidance at Valley Regional High School. I am a proud member of the VHS community and have been serving this school since 2010. As a school counselor, my role is to support the academic, social, and emotional growth of our students. I work closely with students, parents,"
     ]
    },
    {
     "name": "stdout",
     "output_type": "stream",
     "text": [
      " Mr. Hennessy, and I am the Director of Guidance at Valley Regional High School. I am a proud member of the VHS community and have been serving this school since 2010. As a school counselor, my role is to support the academic, social, and emotional growth of our students. I work closely with students, parents, and"
     ]
    },
    {
     "name": "stdout",
     "output_type": "stream",
     "text": [
      " Mr. Hennessy, and I am the Director of Guidance at Valley Regional High School. I am a proud member of the VHS community and have been serving this school since 2010. As a school counselor, my role is to support the academic, social, and emotional growth of our students. I work closely with students, parents, and teachers"
     ]
    },
    {
     "name": "stdout",
     "output_type": "stream",
     "text": [
      " Mr. Hennessy, and I am the Director of Guidance at Valley Regional High School. I am a proud member of the VHS community and have been serving this school since 2010. As a school counselor, my role is to support the academic, social, and emotional growth of our students. I work closely with students, parents, and teachers to"
     ]
    },
    {
     "name": "stdout",
     "output_type": "stream",
     "text": [
      " Mr. Hennessy, and I am the Director of Guidance at Valley Regional High School. I am a proud member of the VHS community and have been serving this school since 2010. As a school counselor, my role is to support the academic, social, and emotional growth of our students. I work closely with students, parents, and teachers to ensure"
     ]
    },
    {
     "name": "stdout",
     "output_type": "stream",
     "text": [
      " Mr. Hennessy, and I am the Director of Guidance at Valley Regional High School. I am a proud member of the VHS community and have been serving this school since 2010. As a school counselor, my role is to support the academic, social, and emotional growth of our students. I work closely with students, parents, and teachers to ensure that"
     ]
    },
    {
     "name": "stdout",
     "output_type": "stream",
     "text": [
      " Mr. Hennessy, and I am the Director of Guidance at Valley Regional High School. I am a proud member of the VHS community and have been serving this school since 2010. As a school counselor, my role is to support the academic, social, and emotional growth of our students. I work closely with students, parents, and teachers to ensure that each"
     ]
    },
    {
     "name": "stdout",
     "output_type": "stream",
     "text": [
      " Mr. Hennessy, and I am the Director of Guidance at Valley Regional High School. I am a proud member of the VHS community and have been serving this school since 2010. As a school counselor, my role is to support the academic, social, and emotional growth of our students. I work closely with students, parents, and teachers to ensure that each student"
     ]
    },
    {
     "name": "stdout",
     "output_type": "stream",
     "text": [
      " Mr. Hennessy, and I am the Director of Guidance at Valley Regional High School. I am a proud member of the VHS community and have been serving this school since 2010. As a school counselor, my role is to support the academic, social, and emotional growth of our students. I work closely with students, parents, and teachers to ensure that each student reaches"
     ]
    },
    {
     "name": "stdout",
     "output_type": "stream",
     "text": [
      " Mr. Hennessy, and I am the Director of Guidance at Valley Regional High School. I am a proud member of the VHS community and have been serving this school since 2010. As a school counselor, my role is to support the academic, social, and emotional growth of our students. I work closely with students, parents, and teachers to ensure that each student reaches their"
     ]
    },
    {
     "name": "stdout",
     "output_type": "stream",
     "text": [
      " Mr. Hennessy, and I am the Director of Guidance at Valley Regional High School. I am a proud member of the VHS community and have been serving this school since 2010. As a school counselor, my role is to support the academic, social, and emotional growth of our students. I work closely with students, parents, and teachers to ensure that each student reaches their full"
     ]
    },
    {
     "name": "stdout",
     "output_type": "stream",
     "text": [
      " Mr. Hennessy, and I am the Director of Guidance at Valley Regional High School. I am a proud member of the VHS community and have been serving this school since 2010. As a school counselor, my role is to support the academic, social, and emotional growth of our students. I work closely with students, parents, and teachers to ensure that each student reaches their full potential"
     ]
    },
    {
     "name": "stdout",
     "output_type": "stream",
     "text": [
      " Mr. Hennessy, and I am the Director of Guidance at Valley Regional High School. I am a proud member of the VHS community and have been serving this school since 2010. As a school counselor, my role is to support the academic, social, and emotional growth of our students. I work closely with students, parents, and teachers to ensure that each student reaches their full potential and"
     ]
    },
    {
     "name": "stdout",
     "output_type": "stream",
     "text": [
      " Mr. Hennessy, and I am the Director of Guidance at Valley Regional High School. I am a proud member of the VHS community and have been serving this school since 2010. As a school counselor, my role is to support the academic, social, and emotional growth of our students. I work closely with students, parents, and teachers to ensure that each student reaches their full potential and achieves"
     ]
    },
    {
     "name": "stdout",
     "output_type": "stream",
     "text": [
      " Mr. Hennessy, and I am the Director of Guidance at Valley Regional High School. I am a proud member of the VHS community and have been serving this school since 2010. As a school counselor, my role is to support the academic, social, and emotional growth of our students. I work closely with students, parents, and teachers to ensure that each student reaches their full potential and achieves their"
     ]
    },
    {
     "name": "stdout",
     "output_type": "stream",
     "text": [
      " Mr. Hennessy, and I am the Director of Guidance at Valley Regional High School. I am a proud member of the VHS community and have been serving this school since 2010. As a school counselor, my role is to support the academic, social, and emotional growth of our students. I work closely with students, parents, and teachers to ensure that each student reaches their full potential and achieves their post"
     ]
    },
    {
     "name": "stdout",
     "output_type": "stream",
     "text": [
      " Mr. Hennessy, and I am the Director of Guidance at Valley Regional High School. I am a proud member of the VHS community and have been serving this school since 2010. As a school counselor, my role is to support the academic, social, and emotional growth of our students. I work closely with students, parents, and teachers to ensure that each student reaches their full potential and achieves their post-secondary"
     ]
    },
    {
     "name": "stdout",
     "output_type": "stream",
     "text": [
      " Mr. Hennessy, and I am the Director of Guidance at Valley Regional High School. I am a proud member of the VHS community and have been serving this school since 2010. As a school counselor, my role is to support the academic, social, and emotional growth of our students. I work closely with students, parents, and teachers to ensure that each student reaches their full potential and achieves their post-secondary goals"
     ]
    },
    {
     "name": "stdout",
     "output_type": "stream",
     "text": [
      " Mr. Hennessy, and I am the Director of Guidance at Valley Regional High School. I am a proud member of the VHS community and have been serving this school since 2010. As a school counselor, my role is to support the academic, social, and emotional growth of our students. I work closely with students, parents, and teachers to ensure that each student reaches their full potential and achieves their post-secondary goals."
     ]
    },
    {
     "name": "stdout",
     "output_type": "stream",
     "text": [
      " Mr. Hennessy, and I am the Director of Guidance at Valley Regional High School. I am a proud member of the VHS community and have been serving this school since 2010. As a school counselor, my role is to support the academic, social, and emotional growth of our students. I work closely with students, parents, and teachers to ensure that each student reaches their full potential and achieves their post-secondary goals. I"
     ]
    },
    {
     "name": "stdout",
     "output_type": "stream",
     "text": [
      " Mr. Hennessy, and I am the Director of Guidance at Valley Regional High School. I am a proud member of the VHS community and have been serving this school since 2010. As a school counselor, my role is to support the academic, social, and emotional growth of our students. I work closely with students, parents, and teachers to ensure that each student reaches their full potential and achieves their post-secondary goals. I believe"
     ]
    },
    {
     "name": "stdout",
     "output_type": "stream",
     "text": [
      " Mr. Hennessy, and I am the Director of Guidance at Valley Regional High School. I am a proud member of the VHS community and have been serving this school since 2010. As a school counselor, my role is to support the academic, social, and emotional growth of our students. I work closely with students, parents, and teachers to ensure that each student reaches their full potential and achieves their post-secondary goals. I believe that"
     ]
    },
    {
     "name": "stdout",
     "output_type": "stream",
     "text": [
      " Mr. Hennessy, and I am the Director of Guidance at Valley Regional High School. I am a proud member of the VHS community and have been serving this school since 2010. As a school counselor, my role is to support the academic, social, and emotional growth of our students. I work closely with students, parents, and teachers to ensure that each student reaches their full potential and achieves their post-secondary goals. I believe that every"
     ]
    },
    {
     "name": "stdout",
     "output_type": "stream",
     "text": [
      " Mr. Hennessy, and I am the Director of Guidance at Valley Regional High School. I am a proud member of the VHS community and have been serving this school since 2010. As a school counselor, my role is to support the academic, social, and emotional growth of our students. I work closely with students, parents, and teachers to ensure that each student reaches their full potential and achieves their post-secondary goals. I believe that every student"
     ]
    },
    {
     "name": "stdout",
     "output_type": "stream",
     "text": [
      " Mr. Hennessy, and I am the Director of Guidance at Valley Regional High School. I am a proud member of the VHS community and have been serving this school since 2010. As a school counselor, my role is to support the academic, social, and emotional growth of our students. I work closely with students, parents, and teachers to ensure that each student reaches their full potential and achieves their post-secondary goals. I believe that every student is"
     ]
    },
    {
     "name": "stdout",
     "output_type": "stream",
     "text": [
      " Mr. Hennessy, and I am the Director of Guidance at Valley Regional High School. I am a proud member of the VHS community and have been serving this school since 2010. As a school counselor, my role is to support the academic, social, and emotional growth of our students. I work closely with students, parents, and teachers to ensure that each student reaches their full potential and achieves their post-secondary goals. I believe that every student is unique"
     ]
    },
    {
     "name": "stdout",
     "output_type": "stream",
     "text": [
      " Mr. Hennessy, and I am the Director of Guidance at Valley Regional High School. I am a proud member of the VHS community and have been serving this school since 2010. As a school counselor, my role is to support the academic, social, and emotional growth of our students. I work closely with students, parents, and teachers to ensure that each student reaches their full potential and achieves their post-secondary goals. I believe that every student is unique and"
     ]
    },
    {
     "name": "stdout",
     "output_type": "stream",
     "text": [
      " Mr. Hennessy, and I am the Director of Guidance at Valley Regional High School. I am a proud member of the VHS community and have been serving this school since 2010. As a school counselor, my role is to support the academic, social, and emotional growth of our students. I work closely with students, parents, and teachers to ensure that each student reaches their full potential and achieves their post-secondary goals. I believe that every student is unique and deserving"
     ]
    },
    {
     "name": "stdout",
     "output_type": "stream",
     "text": [
      " Mr. Hennessy, and I am the Director of Guidance at Valley Regional High School. I am a proud member of the VHS community and have been serving this school since 2010. As a school counselor, my role is to support the academic, social, and emotional growth of our students. I work closely with students, parents, and teachers to ensure that each student reaches their full potential and achieves their post-secondary goals. I believe that every student is unique and deserving of"
     ]
    },
    {
     "name": "stdout",
     "output_type": "stream",
     "text": [
      " Mr. Hennessy, and I am the Director of Guidance at Valley Regional High School. I am a proud member of the VHS community and have been serving this school since 2010. As a school counselor, my role is to support the academic, social, and emotional growth of our students. I work closely with students, parents, and teachers to ensure that each student reaches their full potential and achieves their post-secondary goals. I believe that every student is unique and deserving of individual"
     ]
    },
    {
     "name": "stdout",
     "output_type": "stream",
     "text": [
      " Mr. Hennessy, and I am the Director of Guidance at Valley Regional High School. I am a proud member of the VHS community and have been serving this school since 2010. As a school counselor, my role is to support the academic, social, and emotional growth of our students. I work closely with students, parents, and teachers to ensure that each student reaches their full potential and achieves their post-secondary goals. I believe that every student is unique and deserving of individualized"
     ]
    },
    {
     "name": "stdout",
     "output_type": "stream",
     "text": [
      " Mr. Hennessy, and I am the Director of Guidance at Valley Regional High School. I am a proud member of the VHS community and have been serving this school since 2010. As a school counselor, my role is to support the academic, social, and emotional growth of our students. I work closely with students, parents, and teachers to ensure that each student reaches their full potential and achieves their post-secondary goals. I believe that every student is unique and deserving of individualized support"
     ]
    },
    {
     "name": "stdout",
     "output_type": "stream",
     "text": [
      " Mr. Hennessy, and I am the Director of Guidance at Valley Regional High School. I am a proud member of the VHS community and have been serving this school since 2010. As a school counselor, my role is to support the academic, social, and emotional growth of our students. I work closely with students, parents, and teachers to ensure that each student reaches their full potential and achieves their post-secondary goals. I believe that every student is unique and deserving of individualized support,"
     ]
    },
    {
     "name": "stdout",
     "output_type": "stream",
     "text": [
      " Mr. Hennessy, and I am the Director of Guidance at Valley Regional High School. I am a proud member of the VHS community and have been serving this school since 2010. As a school counselor, my role is to support the academic, social, and emotional growth of our students. I work closely with students, parents, and teachers to ensure that each student reaches their full potential and achieves their post-secondary goals. I believe that every student is unique and deserving of individualized support, and"
     ]
    },
    {
     "name": "stdout",
     "output_type": "stream",
     "text": [
      " Mr. Hennessy, and I am the Director of Guidance at Valley Regional High School. I am a proud member of the VHS community and have been serving this school since 2010. As a school counselor, my role is to support the academic, social, and emotional growth of our students. I work closely with students, parents, and teachers to ensure that each student reaches their full potential and achieves their post-secondary goals. I believe that every student is unique and deserving of individualized support, and I"
     ]
    },
    {
     "name": "stdout",
     "output_type": "stream",
     "text": [
      " Mr. Hennessy, and I am the Director of Guidance at Valley Regional High School. I am a proud member of the VHS community and have been serving this school since 2010. As a school counselor, my role is to support the academic, social, and emotional growth of our students. I work closely with students, parents, and teachers to ensure that each student reaches their full potential and achieves their post-secondary goals. I believe that every student is unique and deserving of individualized support, and I strive"
     ]
    },
    {
     "name": "stdout",
     "output_type": "stream",
     "text": [
      " Mr. Hennessy, and I am the Director of Guidance at Valley Regional High School. I am a proud member of the VHS community and have been serving this school since 2010. As a school counselor, my role is to support the academic, social, and emotional growth of our students. I work closely with students, parents, and teachers to ensure that each student reaches their full potential and achieves their post-secondary goals. I believe that every student is unique and deserving of individualized support, and I strive to"
     ]
    },
    {
     "name": "stdout",
     "output_type": "stream",
     "text": [
      " Mr. Hennessy, and I am the Director of Guidance at Valley Regional High School. I am a proud member of the VHS community and have been serving this school since 2010. As a school counselor, my role is to support the academic, social, and emotional growth of our students. I work closely with students, parents, and teachers to ensure that each student reaches their full potential and achieves their post-secondary goals. I believe that every student is unique and deserving of individualized support, and I strive to create"
     ]
    },
    {
     "name": "stdout",
     "output_type": "stream",
     "text": [
      " Mr. Hennessy, and I am the Director of Guidance at Valley Regional High School. I am a proud member of the VHS community and have been serving this school since 2010. As a school counselor, my role is to support the academic, social, and emotional growth of our students. I work closely with students, parents, and teachers to ensure that each student reaches their full potential and achieves their post-secondary goals. I believe that every student is unique and deserving of individualized support, and I strive to create a"
     ]
    },
    {
     "name": "stdout",
     "output_type": "stream",
     "text": [
      " Mr. Hennessy, and I am the Director of Guidance at Valley Regional High School. I am a proud member of the VHS community and have been serving this school since 2010. As a school counselor, my role is to support the academic, social, and emotional growth of our students. I work closely with students, parents, and teachers to ensure that each student reaches their full potential and achieves their post-secondary goals. I believe that every student is unique and deserving of individualized support, and I strive to create a safe"
     ]
    },
    {
     "name": "stdout",
     "output_type": "stream",
     "text": [
      " Mr. Hennessy, and I am the Director of Guidance at Valley Regional High School. I am a proud member of the VHS community and have been serving this school since 2010. As a school counselor, my role is to support the academic, social, and emotional growth of our students. I work closely with students, parents, and teachers to ensure that each student reaches their full potential and achieves their post-secondary goals. I believe that every student is unique and deserving of individualized support, and I strive to create a safe,"
     ]
    },
    {
     "name": "stdout",
     "output_type": "stream",
     "text": [
      " Mr. Hennessy, and I am the Director of Guidance at Valley Regional High School. I am a proud member of the VHS community and have been serving this school since 2010. As a school counselor, my role is to support the academic, social, and emotional growth of our students. I work closely with students, parents, and teachers to ensure that each student reaches their full potential and achieves their post-secondary goals. I believe that every student is unique and deserving of individualized support, and I strive to create a safe, inclusive"
     ]
    },
    {
     "name": "stdout",
     "output_type": "stream",
     "text": [
      " Mr. Hennessy, and I am the Director of Guidance at Valley Regional High School. I am a proud member of the VHS community and have been serving this school since 2010. As a school counselor, my role is to support the academic, social, and emotional growth of our students. I work closely with students, parents, and teachers to ensure that each student reaches their full potential and achieves their post-secondary goals. I believe that every student is unique and deserving of individualized support, and I strive to create a safe, inclusive,"
     ]
    },
    {
     "name": "stdout",
     "output_type": "stream",
     "text": [
      " Mr. Hennessy, and I am the Director of Guidance at Valley Regional High School. I am a proud member of the VHS community and have been serving this school since 2010. As a school counselor, my role is to support the academic, social, and emotional growth of our students. I work closely with students, parents, and teachers to ensure that each student reaches their full potential and achieves their post-secondary goals. I believe that every student is unique and deserving of individualized support, and I strive to create a safe, inclusive, and"
     ]
    },
    {
     "name": "stdout",
     "output_type": "stream",
     "text": [
      " Mr. Hennessy, and I am the Director of Guidance at Valley Regional High School. I am a proud member of the VHS community and have been serving this school since 2010. As a school counselor, my role is to support the academic, social, and emotional growth of our students. I work closely with students, parents, and teachers to ensure that each student reaches their full potential and achieves their post-secondary goals. I believe that every student is unique and deserving of individualized support, and I strive to create a safe, inclusive, and supportive"
     ]
    },
    {
     "name": "stdout",
     "output_type": "stream",
     "text": [
      " Mr. Hennessy, and I am the Director of Guidance at Valley Regional High School. I am a proud member of the VHS community and have been serving this school since 2010. As a school counselor, my role is to support the academic, social, and emotional growth of our students. I work closely with students, parents, and teachers to ensure that each student reaches their full potential and achieves their post-secondary goals. I believe that every student is unique and deserving of individualized support, and I strive to create a safe, inclusive, and supportive environment"
     ]
    },
    {
     "name": "stdout",
     "output_type": "stream",
     "text": [
      " Mr. Hennessy, and I am the Director of Guidance at Valley Regional High School. I am a proud member of the VHS community and have been serving this school since 2010. As a school counselor, my role is to support the academic, social, and emotional growth of our students. I work closely with students, parents, and teachers to ensure that each student reaches their full potential and achieves their post-secondary goals. I believe that every student is unique and deserving of individualized support, and I strive to create a safe, inclusive, and supportive environment that"
     ]
    },
    {
     "name": "stdout",
     "output_type": "stream",
     "text": [
      " Mr. Hennessy, and I am the Director of Guidance at Valley Regional High School. I am a proud member of the VHS community and have been serving this school since 2010. As a school counselor, my role is to support the academic, social, and emotional growth of our students. I work closely with students, parents, and teachers to ensure that each student reaches their full potential and achieves their post-secondary goals. I believe that every student is unique and deserving of individualized support, and I strive to create a safe, inclusive, and supportive environment that fost"
     ]
    },
    {
     "name": "stdout",
     "output_type": "stream",
     "text": [
      " Mr. Hennessy, and I am the Director of Guidance at Valley Regional High School. I am a proud member of the VHS community and have been serving this school since 2010. As a school counselor, my role is to support the academic, social, and emotional growth of our students. I work closely with students, parents, and teachers to ensure that each student reaches their full potential and achieves their post-secondary goals. I believe that every student is unique and deserving of individualized support, and I strive to create a safe, inclusive, and supportive environment that fosters"
     ]
    },
    {
     "name": "stdout",
     "output_type": "stream",
     "text": [
      " Mr. Hennessy, and I am the Director of Guidance at Valley Regional High School. I am a proud member of the VHS community and have been serving this school since 2010. As a school counselor, my role is to support the academic, social, and emotional growth of our students. I work closely with students, parents, and teachers to ensure that each student reaches their full potential and achieves their post-secondary goals. I believe that every student is unique and deserving of individualized support, and I strive to create a safe, inclusive, and supportive environment that fosters growth"
     ]
    },
    {
     "name": "stdout",
     "output_type": "stream",
     "text": [
      " Mr. Hennessy, and I am the Director of Guidance at Valley Regional High School. I am a proud member of the VHS community and have been serving this school since 2010. As a school counselor, my role is to support the academic, social, and emotional growth of our students. I work closely with students, parents, and teachers to ensure that each student reaches their full potential and achieves their post-secondary goals. I believe that every student is unique and deserving of individualized support, and I strive to create a safe, inclusive, and supportive environment that fosters growth and"
     ]
    },
    {
     "name": "stdout",
     "output_type": "stream",
     "text": [
      " Mr. Hennessy, and I am the Director of Guidance at Valley Regional High School. I am a proud member of the VHS community and have been serving this school since 2010. As a school counselor, my role is to support the academic, social, and emotional growth of our students. I work closely with students, parents, and teachers to ensure that each student reaches their full potential and achieves their post-secondary goals. I believe that every student is unique and deserving of individualized support, and I strive to create a safe, inclusive, and supportive environment that fosters growth and development"
     ]
    },
    {
     "name": "stdout",
     "output_type": "stream",
     "text": [
      " Mr. Hennessy, and I am the Director of Guidance at Valley Regional High School. I am a proud member of the VHS community and have been serving this school since 2010. As a school counselor, my role is to support the academic, social, and emotional growth of our students. I work closely with students, parents, and teachers to ensure that each student reaches their full potential and achieves their post-secondary goals. I believe that every student is unique and deserving of individualized support, and I strive to create a safe, inclusive, and supportive environment that fosters growth and development.\n",
      "\n"
     ]
    },
    {
     "name": "stdout",
     "output_type": "stream",
     "text": [
      " Mr. Hennessy, and I am the Director of Guidance at Valley Regional High School. I am a proud member of the VHS community and have been serving this school since 2010. As a school counselor, my role is to support the academic, social, and emotional growth of our students. I work closely with students, parents, and teachers to ensure that each student reaches their full potential and achieves their post-secondary goals. I believe that every student is unique and deserving of individualized support, and I strive to create a safe, inclusive, and supportive environment that fosters growth and development.\n",
      "\n",
      "My"
     ]
    },
    {
     "name": "stdout",
     "output_type": "stream",
     "text": [
      " Mr. Hennessy, and I am the Director of Guidance at Valley Regional High School. I am a proud member of the VHS community and have been serving this school since 2010. As a school counselor, my role is to support the academic, social, and emotional growth of our students. I work closely with students, parents, and teachers to ensure that each student reaches their full potential and achieves their post-secondary goals. I believe that every student is unique and deserving of individualized support, and I strive to create a safe, inclusive, and supportive environment that fosters growth and development.\n",
      "\n",
      "My office"
     ]
    },
    {
     "name": "stdout",
     "output_type": "stream",
     "text": [
      " Mr. Hennessy, and I am the Director of Guidance at Valley Regional High School. I am a proud member of the VHS community and have been serving this school since 2010. As a school counselor, my role is to support the academic, social, and emotional growth of our students. I work closely with students, parents, and teachers to ensure that each student reaches their full potential and achieves their post-secondary goals. I believe that every student is unique and deserving of individualized support, and I strive to create a safe, inclusive, and supportive environment that fosters growth and development.\n",
      "\n",
      "My office is"
     ]
    },
    {
     "name": "stdout",
     "output_type": "stream",
     "text": [
      " Mr. Hennessy, and I am the Director of Guidance at Valley Regional High School. I am a proud member of the VHS community and have been serving this school since 2010. As a school counselor, my role is to support the academic, social, and emotional growth of our students. I work closely with students, parents, and teachers to ensure that each student reaches their full potential and achieves their post-secondary goals. I believe that every student is unique and deserving of individualized support, and I strive to create a safe, inclusive, and supportive environment that fosters growth and development.\n",
      "\n",
      "My office is located"
     ]
    },
    {
     "name": "stdout",
     "output_type": "stream",
     "text": [
      " Mr. Hennessy, and I am the Director of Guidance at Valley Regional High School. I am a proud member of the VHS community and have been serving this school since 2010. As a school counselor, my role is to support the academic, social, and emotional growth of our students. I work closely with students, parents, and teachers to ensure that each student reaches their full potential and achieves their post-secondary goals. I believe that every student is unique and deserving of individualized support, and I strive to create a safe, inclusive, and supportive environment that fosters growth and development.\n",
      "\n",
      "My office is located in"
     ]
    },
    {
     "name": "stdout",
     "output_type": "stream",
     "text": [
      " Mr. Hennessy, and I am the Director of Guidance at Valley Regional High School. I am a proud member of the VHS community and have been serving this school since 2010. As a school counselor, my role is to support the academic, social, and emotional growth of our students. I work closely with students, parents, and teachers to ensure that each student reaches their full potential and achieves their post-secondary goals. I believe that every student is unique and deserving of individualized support, and I strive to create a safe, inclusive, and supportive environment that fosters growth and development.\n",
      "\n",
      "My office is located in Room"
     ]
    },
    {
     "name": "stdout",
     "output_type": "stream",
     "text": [
      "\n",
      "\n",
      "Prompt: The capital of France is\n",
      "Generated text: "
     ]
    },
    {
     "name": "stdout",
     "output_type": "stream",
     "text": [
      " not"
     ]
    },
    {
     "name": "stdout",
     "output_type": "stream",
     "text": [
      " not a"
     ]
    },
    {
     "name": "stdout",
     "output_type": "stream",
     "text": [
      " not a place"
     ]
    },
    {
     "name": "stdout",
     "output_type": "stream",
     "text": [
      " not a place,"
     ]
    },
    {
     "name": "stdout",
     "output_type": "stream",
     "text": [
      " not a place, it"
     ]
    },
    {
     "name": "stdout",
     "output_type": "stream",
     "text": [
      " not a place, it is"
     ]
    },
    {
     "name": "stdout",
     "output_type": "stream",
     "text": [
      " not a place, it is a"
     ]
    },
    {
     "name": "stdout",
     "output_type": "stream",
     "text": [
      " not a place, it is a state"
     ]
    },
    {
     "name": "stdout",
     "output_type": "stream",
     "text": [
      " not a place, it is a state of"
     ]
    },
    {
     "name": "stdout",
     "output_type": "stream",
     "text": [
      " not a place, it is a state of mind"
     ]
    },
    {
     "name": "stdout",
     "output_type": "stream",
     "text": [
      " not a place, it is a state of mind.\n"
     ]
    },
    {
     "name": "stdout",
     "output_type": "stream",
     "text": [
      " not a place, it is a state of mind.\n",
      "The"
     ]
    },
    {
     "name": "stdout",
     "output_type": "stream",
     "text": [
      " not a place, it is a state of mind.\n",
      "The thought"
     ]
    },
    {
     "name": "stdout",
     "output_type": "stream",
     "text": [
      " not a place, it is a state of mind.\n",
      "The thought that"
     ]
    },
    {
     "name": "stdout",
     "output_type": "stream",
     "text": [
      " not a place, it is a state of mind.\n",
      "The thought that popped"
     ]
    },
    {
     "name": "stdout",
     "output_type": "stream",
     "text": [
      " not a place, it is a state of mind.\n",
      "The thought that popped into"
     ]
    },
    {
     "name": "stdout",
     "output_type": "stream",
     "text": [
      " not a place, it is a state of mind.\n",
      "The thought that popped into my"
     ]
    },
    {
     "name": "stdout",
     "output_type": "stream",
     "text": [
      " not a place, it is a state of mind.\n",
      "The thought that popped into my mind"
     ]
    },
    {
     "name": "stdout",
     "output_type": "stream",
     "text": [
      " not a place, it is a state of mind.\n",
      "The thought that popped into my mind after"
     ]
    },
    {
     "name": "stdout",
     "output_type": "stream",
     "text": [
      " not a place, it is a state of mind.\n",
      "The thought that popped into my mind after visiting"
     ]
    },
    {
     "name": "stdout",
     "output_type": "stream",
     "text": [
      " not a place, it is a state of mind.\n",
      "The thought that popped into my mind after visiting the"
     ]
    },
    {
     "name": "stdout",
     "output_type": "stream",
     "text": [
      " not a place, it is a state of mind.\n",
      "The thought that popped into my mind after visiting the Tour"
     ]
    },
    {
     "name": "stdout",
     "output_type": "stream",
     "text": [
      " not a place, it is a state of mind.\n",
      "The thought that popped into my mind after visiting the Tour E"
     ]
    },
    {
     "name": "stdout",
     "output_type": "stream",
     "text": [
      " not a place, it is a state of mind.\n",
      "The thought that popped into my mind after visiting the Tour Eiff"
     ]
    },
    {
     "name": "stdout",
     "output_type": "stream",
     "text": [
      " not a place, it is a state of mind.\n",
      "The thought that popped into my mind after visiting the Tour Eiffel"
     ]
    },
    {
     "name": "stdout",
     "output_type": "stream",
     "text": [
      " not a place, it is a state of mind.\n",
      "The thought that popped into my mind after visiting the Tour Eiffel was"
     ]
    },
    {
     "name": "stdout",
     "output_type": "stream",
     "text": [
      " not a place, it is a state of mind.\n",
      "The thought that popped into my mind after visiting the Tour Eiffel was not"
     ]
    },
    {
     "name": "stdout",
     "output_type": "stream",
     "text": [
      " not a place, it is a state of mind.\n",
      "The thought that popped into my mind after visiting the Tour Eiffel was not,"
     ]
    },
    {
     "name": "stdout",
     "output_type": "stream",
     "text": [
      " not a place, it is a state of mind.\n",
      "The thought that popped into my mind after visiting the Tour Eiffel was not, \""
     ]
    },
    {
     "name": "stdout",
     "output_type": "stream",
     "text": [
      " not a place, it is a state of mind.\n",
      "The thought that popped into my mind after visiting the Tour Eiffel was not, \"Wow"
     ]
    },
    {
     "name": "stdout",
     "output_type": "stream",
     "text": [
      " not a place, it is a state of mind.\n",
      "The thought that popped into my mind after visiting the Tour Eiffel was not, \"Wow,"
     ]
    },
    {
     "name": "stdout",
     "output_type": "stream",
     "text": [
      " not a place, it is a state of mind.\n",
      "The thought that popped into my mind after visiting the Tour Eiffel was not, \"Wow, this"
     ]
    },
    {
     "name": "stdout",
     "output_type": "stream",
     "text": [
      " not a place, it is a state of mind.\n",
      "The thought that popped into my mind after visiting the Tour Eiffel was not, \"Wow, this is"
     ]
    },
    {
     "name": "stdout",
     "output_type": "stream",
     "text": [
      " not a place, it is a state of mind.\n",
      "The thought that popped into my mind after visiting the Tour Eiffel was not, \"Wow, this is so"
     ]
    },
    {
     "name": "stdout",
     "output_type": "stream",
     "text": [
      " not a place, it is a state of mind.\n",
      "The thought that popped into my mind after visiting the Tour Eiffel was not, \"Wow, this is so iconic"
     ]
    },
    {
     "name": "stdout",
     "output_type": "stream",
     "text": [
      " not a place, it is a state of mind.\n",
      "The thought that popped into my mind after visiting the Tour Eiffel was not, \"Wow, this is so iconic,\""
     ]
    },
    {
     "name": "stdout",
     "output_type": "stream",
     "text": [
      " not a place, it is a state of mind.\n",
      "The thought that popped into my mind after visiting the Tour Eiffel was not, \"Wow, this is so iconic,\" but"
     ]
    },
    {
     "name": "stdout",
     "output_type": "stream",
     "text": [
      " not a place, it is a state of mind.\n",
      "The thought that popped into my mind after visiting the Tour Eiffel was not, \"Wow, this is so iconic,\" but rather"
     ]
    },
    {
     "name": "stdout",
     "output_type": "stream",
     "text": [
      " not a place, it is a state of mind.\n",
      "The thought that popped into my mind after visiting the Tour Eiffel was not, \"Wow, this is so iconic,\" but rather,"
     ]
    },
    {
     "name": "stdout",
     "output_type": "stream",
     "text": [
      " not a place, it is a state of mind.\n",
      "The thought that popped into my mind after visiting the Tour Eiffel was not, \"Wow, this is so iconic,\" but rather, \""
     ]
    },
    {
     "name": "stdout",
     "output_type": "stream",
     "text": [
      " not a place, it is a state of mind.\n",
      "The thought that popped into my mind after visiting the Tour Eiffel was not, \"Wow, this is so iconic,\" but rather, \"I"
     ]
    },
    {
     "name": "stdout",
     "output_type": "stream",
     "text": [
      " not a place, it is a state of mind.\n",
      "The thought that popped into my mind after visiting the Tour Eiffel was not, \"Wow, this is so iconic,\" but rather, \"I've"
     ]
    },
    {
     "name": "stdout",
     "output_type": "stream",
     "text": [
      " not a place, it is a state of mind.\n",
      "The thought that popped into my mind after visiting the Tour Eiffel was not, \"Wow, this is so iconic,\" but rather, \"I've seen"
     ]
    },
    {
     "name": "stdout",
     "output_type": "stream",
     "text": [
      " not a place, it is a state of mind.\n",
      "The thought that popped into my mind after visiting the Tour Eiffel was not, \"Wow, this is so iconic,\" but rather, \"I've seen so"
     ]
    },
    {
     "name": "stdout",
     "output_type": "stream",
     "text": [
      " not a place, it is a state of mind.\n",
      "The thought that popped into my mind after visiting the Tour Eiffel was not, \"Wow, this is so iconic,\" but rather, \"I've seen so many"
     ]
    },
    {
     "name": "stdout",
     "output_type": "stream",
     "text": [
      " not a place, it is a state of mind.\n",
      "The thought that popped into my mind after visiting the Tour Eiffel was not, \"Wow, this is so iconic,\" but rather, \"I've seen so many pictures"
     ]
    },
    {
     "name": "stdout",
     "output_type": "stream",
     "text": [
      " not a place, it is a state of mind.\n",
      "The thought that popped into my mind after visiting the Tour Eiffel was not, \"Wow, this is so iconic,\" but rather, \"I've seen so many pictures of"
     ]
    },
    {
     "name": "stdout",
     "output_type": "stream",
     "text": [
      " not a place, it is a state of mind.\n",
      "The thought that popped into my mind after visiting the Tour Eiffel was not, \"Wow, this is so iconic,\" but rather, \"I've seen so many pictures of this"
     ]
    },
    {
     "name": "stdout",
     "output_type": "stream",
     "text": [
      " not a place, it is a state of mind.\n",
      "The thought that popped into my mind after visiting the Tour Eiffel was not, \"Wow, this is so iconic,\" but rather, \"I've seen so many pictures of this before"
     ]
    },
    {
     "name": "stdout",
     "output_type": "stream",
     "text": [
      " not a place, it is a state of mind.\n",
      "The thought that popped into my mind after visiting the Tour Eiffel was not, \"Wow, this is so iconic,\" but rather, \"I've seen so many pictures of this before.\""
     ]
    },
    {
     "name": "stdout",
     "output_type": "stream",
     "text": [
      " not a place, it is a state of mind.\n",
      "The thought that popped into my mind after visiting the Tour Eiffel was not, \"Wow, this is so iconic,\" but rather, \"I've seen so many pictures of this before.\" It"
     ]
    },
    {
     "name": "stdout",
     "output_type": "stream",
     "text": [
      " not a place, it is a state of mind.\n",
      "The thought that popped into my mind after visiting the Tour Eiffel was not, \"Wow, this is so iconic,\" but rather, \"I've seen so many pictures of this before.\" It was"
     ]
    },
    {
     "name": "stdout",
     "output_type": "stream",
     "text": [
      " not a place, it is a state of mind.\n",
      "The thought that popped into my mind after visiting the Tour Eiffel was not, \"Wow, this is so iconic,\" but rather, \"I've seen so many pictures of this before.\" It was as"
     ]
    },
    {
     "name": "stdout",
     "output_type": "stream",
     "text": [
      " not a place, it is a state of mind.\n",
      "The thought that popped into my mind after visiting the Tour Eiffel was not, \"Wow, this is so iconic,\" but rather, \"I've seen so many pictures of this before.\" It was as if"
     ]
    },
    {
     "name": "stdout",
     "output_type": "stream",
     "text": [
      " not a place, it is a state of mind.\n",
      "The thought that popped into my mind after visiting the Tour Eiffel was not, \"Wow, this is so iconic,\" but rather, \"I've seen so many pictures of this before.\" It was as if the"
     ]
    },
    {
     "name": "stdout",
     "output_type": "stream",
     "text": [
      " not a place, it is a state of mind.\n",
      "The thought that popped into my mind after visiting the Tour Eiffel was not, \"Wow, this is so iconic,\" but rather, \"I've seen so many pictures of this before.\" It was as if the moment"
     ]
    },
    {
     "name": "stdout",
     "output_type": "stream",
     "text": [
      " not a place, it is a state of mind.\n",
      "The thought that popped into my mind after visiting the Tour Eiffel was not, \"Wow, this is so iconic,\" but rather, \"I've seen so many pictures of this before.\" It was as if the moment I"
     ]
    },
    {
     "name": "stdout",
     "output_type": "stream",
     "text": [
      " not a place, it is a state of mind.\n",
      "The thought that popped into my mind after visiting the Tour Eiffel was not, \"Wow, this is so iconic,\" but rather, \"I've seen so many pictures of this before.\" It was as if the moment I arrived"
     ]
    },
    {
     "name": "stdout",
     "output_type": "stream",
     "text": [
      " not a place, it is a state of mind.\n",
      "The thought that popped into my mind after visiting the Tour Eiffel was not, \"Wow, this is so iconic,\" but rather, \"I've seen so many pictures of this before.\" It was as if the moment I arrived at"
     ]
    },
    {
     "name": "stdout",
     "output_type": "stream",
     "text": [
      " not a place, it is a state of mind.\n",
      "The thought that popped into my mind after visiting the Tour Eiffel was not, \"Wow, this is so iconic,\" but rather, \"I've seen so many pictures of this before.\" It was as if the moment I arrived at the"
     ]
    },
    {
     "name": "stdout",
     "output_type": "stream",
     "text": [
      " not a place, it is a state of mind.\n",
      "The thought that popped into my mind after visiting the Tour Eiffel was not, \"Wow, this is so iconic,\" but rather, \"I've seen so many pictures of this before.\" It was as if the moment I arrived at the tower"
     ]
    },
    {
     "name": "stdout",
     "output_type": "stream",
     "text": [
      " not a place, it is a state of mind.\n",
      "The thought that popped into my mind after visiting the Tour Eiffel was not, \"Wow, this is so iconic,\" but rather, \"I've seen so many pictures of this before.\" It was as if the moment I arrived at the tower,"
     ]
    },
    {
     "name": "stdout",
     "output_type": "stream",
     "text": [
      " not a place, it is a state of mind.\n",
      "The thought that popped into my mind after visiting the Tour Eiffel was not, \"Wow, this is so iconic,\" but rather, \"I've seen so many pictures of this before.\" It was as if the moment I arrived at the tower, I"
     ]
    },
    {
     "name": "stdout",
     "output_type": "stream",
     "text": [
      " not a place, it is a state of mind.\n",
      "The thought that popped into my mind after visiting the Tour Eiffel was not, \"Wow, this is so iconic,\" but rather, \"I've seen so many pictures of this before.\" It was as if the moment I arrived at the tower, I was"
     ]
    },
    {
     "name": "stdout",
     "output_type": "stream",
     "text": [
      " not a place, it is a state of mind.\n",
      "The thought that popped into my mind after visiting the Tour Eiffel was not, \"Wow, this is so iconic,\" but rather, \"I've seen so many pictures of this before.\" It was as if the moment I arrived at the tower, I was immediately"
     ]
    },
    {
     "name": "stdout",
     "output_type": "stream",
     "text": [
      " not a place, it is a state of mind.\n",
      "The thought that popped into my mind after visiting the Tour Eiffel was not, \"Wow, this is so iconic,\" but rather, \"I've seen so many pictures of this before.\" It was as if the moment I arrived at the tower, I was immediately flooded"
     ]
    },
    {
     "name": "stdout",
     "output_type": "stream",
     "text": [
      " not a place, it is a state of mind.\n",
      "The thought that popped into my mind after visiting the Tour Eiffel was not, \"Wow, this is so iconic,\" but rather, \"I've seen so many pictures of this before.\" It was as if the moment I arrived at the tower, I was immediately flooded with"
     ]
    },
    {
     "name": "stdout",
     "output_type": "stream",
     "text": [
      " not a place, it is a state of mind.\n",
      "The thought that popped into my mind after visiting the Tour Eiffel was not, \"Wow, this is so iconic,\" but rather, \"I've seen so many pictures of this before.\" It was as if the moment I arrived at the tower, I was immediately flooded with memories"
     ]
    },
    {
     "name": "stdout",
     "output_type": "stream",
     "text": [
      " not a place, it is a state of mind.\n",
      "The thought that popped into my mind after visiting the Tour Eiffel was not, \"Wow, this is so iconic,\" but rather, \"I've seen so many pictures of this before.\" It was as if the moment I arrived at the tower, I was immediately flooded with memories of"
     ]
    },
    {
     "name": "stdout",
     "output_type": "stream",
     "text": [
      " not a place, it is a state of mind.\n",
      "The thought that popped into my mind after visiting the Tour Eiffel was not, \"Wow, this is so iconic,\" but rather, \"I've seen so many pictures of this before.\" It was as if the moment I arrived at the tower, I was immediately flooded with memories of what"
     ]
    },
    {
     "name": "stdout",
     "output_type": "stream",
     "text": [
      " not a place, it is a state of mind.\n",
      "The thought that popped into my mind after visiting the Tour Eiffel was not, \"Wow, this is so iconic,\" but rather, \"I've seen so many pictures of this before.\" It was as if the moment I arrived at the tower, I was immediately flooded with memories of what I"
     ]
    },
    {
     "name": "stdout",
     "output_type": "stream",
     "text": [
      " not a place, it is a state of mind.\n",
      "The thought that popped into my mind after visiting the Tour Eiffel was not, \"Wow, this is so iconic,\" but rather, \"I've seen so many pictures of this before.\" It was as if the moment I arrived at the tower, I was immediately flooded with memories of what I had"
     ]
    },
    {
     "name": "stdout",
     "output_type": "stream",
     "text": [
      " not a place, it is a state of mind.\n",
      "The thought that popped into my mind after visiting the Tour Eiffel was not, \"Wow, this is so iconic,\" but rather, \"I've seen so many pictures of this before.\" It was as if the moment I arrived at the tower, I was immediately flooded with memories of what I had seen"
     ]
    },
    {
     "name": "stdout",
     "output_type": "stream",
     "text": [
      " not a place, it is a state of mind.\n",
      "The thought that popped into my mind after visiting the Tour Eiffel was not, \"Wow, this is so iconic,\" but rather, \"I've seen so many pictures of this before.\" It was as if the moment I arrived at the tower, I was immediately flooded with memories of what I had seen and"
     ]
    },
    {
     "name": "stdout",
     "output_type": "stream",
     "text": [
      " not a place, it is a state of mind.\n",
      "The thought that popped into my mind after visiting the Tour Eiffel was not, \"Wow, this is so iconic,\" but rather, \"I've seen so many pictures of this before.\" It was as if the moment I arrived at the tower, I was immediately flooded with memories of what I had seen and read"
     ]
    },
    {
     "name": "stdout",
     "output_type": "stream",
     "text": [
      " not a place, it is a state of mind.\n",
      "The thought that popped into my mind after visiting the Tour Eiffel was not, \"Wow, this is so iconic,\" but rather, \"I've seen so many pictures of this before.\" It was as if the moment I arrived at the tower, I was immediately flooded with memories of what I had seen and read about"
     ]
    },
    {
     "name": "stdout",
     "output_type": "stream",
     "text": [
      " not a place, it is a state of mind.\n",
      "The thought that popped into my mind after visiting the Tour Eiffel was not, \"Wow, this is so iconic,\" but rather, \"I've seen so many pictures of this before.\" It was as if the moment I arrived at the tower, I was immediately flooded with memories of what I had seen and read about it"
     ]
    },
    {
     "name": "stdout",
     "output_type": "stream",
     "text": [
      " not a place, it is a state of mind.\n",
      "The thought that popped into my mind after visiting the Tour Eiffel was not, \"Wow, this is so iconic,\" but rather, \"I've seen so many pictures of this before.\" It was as if the moment I arrived at the tower, I was immediately flooded with memories of what I had seen and read about it before"
     ]
    },
    {
     "name": "stdout",
     "output_type": "stream",
     "text": [
      " not a place, it is a state of mind.\n",
      "The thought that popped into my mind after visiting the Tour Eiffel was not, \"Wow, this is so iconic,\" but rather, \"I've seen so many pictures of this before.\" It was as if the moment I arrived at the tower, I was immediately flooded with memories of what I had seen and read about it before."
     ]
    },
    {
     "name": "stdout",
     "output_type": "stream",
     "text": [
      " not a place, it is a state of mind.\n",
      "The thought that popped into my mind after visiting the Tour Eiffel was not, \"Wow, this is so iconic,\" but rather, \"I've seen so many pictures of this before.\" It was as if the moment I arrived at the tower, I was immediately flooded with memories of what I had seen and read about it before. And"
     ]
    },
    {
     "name": "stdout",
     "output_type": "stream",
     "text": [
      " not a place, it is a state of mind.\n",
      "The thought that popped into my mind after visiting the Tour Eiffel was not, \"Wow, this is so iconic,\" but rather, \"I've seen so many pictures of this before.\" It was as if the moment I arrived at the tower, I was immediately flooded with memories of what I had seen and read about it before. And yet"
     ]
    },
    {
     "name": "stdout",
     "output_type": "stream",
     "text": [
      " not a place, it is a state of mind.\n",
      "The thought that popped into my mind after visiting the Tour Eiffel was not, \"Wow, this is so iconic,\" but rather, \"I've seen so many pictures of this before.\" It was as if the moment I arrived at the tower, I was immediately flooded with memories of what I had seen and read about it before. And yet,"
     ]
    },
    {
     "name": "stdout",
     "output_type": "stream",
     "text": [
      " not a place, it is a state of mind.\n",
      "The thought that popped into my mind after visiting the Tour Eiffel was not, \"Wow, this is so iconic,\" but rather, \"I've seen so many pictures of this before.\" It was as if the moment I arrived at the tower, I was immediately flooded with memories of what I had seen and read about it before. And yet, at"
     ]
    },
    {
     "name": "stdout",
     "output_type": "stream",
     "text": [
      " not a place, it is a state of mind.\n",
      "The thought that popped into my mind after visiting the Tour Eiffel was not, \"Wow, this is so iconic,\" but rather, \"I've seen so many pictures of this before.\" It was as if the moment I arrived at the tower, I was immediately flooded with memories of what I had seen and read about it before. And yet, at the"
     ]
    },
    {
     "name": "stdout",
     "output_type": "stream",
     "text": [
      " not a place, it is a state of mind.\n",
      "The thought that popped into my mind after visiting the Tour Eiffel was not, \"Wow, this is so iconic,\" but rather, \"I've seen so many pictures of this before.\" It was as if the moment I arrived at the tower, I was immediately flooded with memories of what I had seen and read about it before. And yet, at the same"
     ]
    },
    {
     "name": "stdout",
     "output_type": "stream",
     "text": [
      " not a place, it is a state of mind.\n",
      "The thought that popped into my mind after visiting the Tour Eiffel was not, \"Wow, this is so iconic,\" but rather, \"I've seen so many pictures of this before.\" It was as if the moment I arrived at the tower, I was immediately flooded with memories of what I had seen and read about it before. And yet, at the same time"
     ]
    },
    {
     "name": "stdout",
     "output_type": "stream",
     "text": [
      " not a place, it is a state of mind.\n",
      "The thought that popped into my mind after visiting the Tour Eiffel was not, \"Wow, this is so iconic,\" but rather, \"I've seen so many pictures of this before.\" It was as if the moment I arrived at the tower, I was immediately flooded with memories of what I had seen and read about it before. And yet, at the same time,"
     ]
    },
    {
     "name": "stdout",
     "output_type": "stream",
     "text": [
      " not a place, it is a state of mind.\n",
      "The thought that popped into my mind after visiting the Tour Eiffel was not, \"Wow, this is so iconic,\" but rather, \"I've seen so many pictures of this before.\" It was as if the moment I arrived at the tower, I was immediately flooded with memories of what I had seen and read about it before. And yet, at the same time, the"
     ]
    },
    {
     "name": "stdout",
     "output_type": "stream",
     "text": [
      " not a place, it is a state of mind.\n",
      "The thought that popped into my mind after visiting the Tour Eiffel was not, \"Wow, this is so iconic,\" but rather, \"I've seen so many pictures of this before.\" It was as if the moment I arrived at the tower, I was immediately flooded with memories of what I had seen and read about it before. And yet, at the same time, the sheer"
     ]
    },
    {
     "name": "stdout",
     "output_type": "stream",
     "text": [
      " not a place, it is a state of mind.\n",
      "The thought that popped into my mind after visiting the Tour Eiffel was not, \"Wow, this is so iconic,\" but rather, \"I've seen so many pictures of this before.\" It was as if the moment I arrived at the tower, I was immediately flooded with memories of what I had seen and read about it before. And yet, at the same time, the sheer grand"
     ]
    },
    {
     "name": "stdout",
     "output_type": "stream",
     "text": [
      " not a place, it is a state of mind.\n",
      "The thought that popped into my mind after visiting the Tour Eiffel was not, \"Wow, this is so iconic,\" but rather, \"I've seen so many pictures of this before.\" It was as if the moment I arrived at the tower, I was immediately flooded with memories of what I had seen and read about it before. And yet, at the same time, the sheer grandeur"
     ]
    },
    {
     "name": "stdout",
     "output_type": "stream",
     "text": [
      " not a place, it is a state of mind.\n",
      "The thought that popped into my mind after visiting the Tour Eiffel was not, \"Wow, this is so iconic,\" but rather, \"I've seen so many pictures of this before.\" It was as if the moment I arrived at the tower, I was immediately flooded with memories of what I had seen and read about it before. And yet, at the same time, the sheer grandeur and"
     ]
    },
    {
     "name": "stdout",
     "output_type": "stream",
     "text": [
      " not a place, it is a state of mind.\n",
      "The thought that popped into my mind after visiting the Tour Eiffel was not, \"Wow, this is so iconic,\" but rather, \"I've seen so many pictures of this before.\" It was as if the moment I arrived at the tower, I was immediately flooded with memories of what I had seen and read about it before. And yet, at the same time, the sheer grandeur and historical"
     ]
    },
    {
     "name": "stdout",
     "output_type": "stream",
     "text": [
      " not a place, it is a state of mind.\n",
      "The thought that popped into my mind after visiting the Tour Eiffel was not, \"Wow, this is so iconic,\" but rather, \"I've seen so many pictures of this before.\" It was as if the moment I arrived at the tower, I was immediately flooded with memories of what I had seen and read about it before. And yet, at the same time, the sheer grandeur and historical significance"
     ]
    },
    {
     "name": "stdout",
     "output_type": "stream",
     "text": [
      " not a place, it is a state of mind.\n",
      "The thought that popped into my mind after visiting the Tour Eiffel was not, \"Wow, this is so iconic,\" but rather, \"I've seen so many pictures of this before.\" It was as if the moment I arrived at the tower, I was immediately flooded with memories of what I had seen and read about it before. And yet, at the same time, the sheer grandeur and historical significance of"
     ]
    },
    {
     "name": "stdout",
     "output_type": "stream",
     "text": [
      " not a place, it is a state of mind.\n",
      "The thought that popped into my mind after visiting the Tour Eiffel was not, \"Wow, this is so iconic,\" but rather, \"I've seen so many pictures of this before.\" It was as if the moment I arrived at the tower, I was immediately flooded with memories of what I had seen and read about it before. And yet, at the same time, the sheer grandeur and historical significance of the"
     ]
    },
    {
     "name": "stdout",
     "output_type": "stream",
     "text": [
      " not a place, it is a state of mind.\n",
      "The thought that popped into my mind after visiting the Tour Eiffel was not, \"Wow, this is so iconic,\" but rather, \"I've seen so many pictures of this before.\" It was as if the moment I arrived at the tower, I was immediately flooded with memories of what I had seen and read about it before. And yet, at the same time, the sheer grandeur and historical significance of the tower"
     ]
    },
    {
     "name": "stdout",
     "output_type": "stream",
     "text": [
      " not a place, it is a state of mind.\n",
      "The thought that popped into my mind after visiting the Tour Eiffel was not, \"Wow, this is so iconic,\" but rather, \"I've seen so many pictures of this before.\" It was as if the moment I arrived at the tower, I was immediately flooded with memories of what I had seen and read about it before. And yet, at the same time, the sheer grandeur and historical significance of the tower was"
     ]
    },
    {
     "name": "stdout",
     "output_type": "stream",
     "text": [
      " not a place, it is a state of mind.\n",
      "The thought that popped into my mind after visiting the Tour Eiffel was not, \"Wow, this is so iconic,\" but rather, \"I've seen so many pictures of this before.\" It was as if the moment I arrived at the tower, I was immediately flooded with memories of what I had seen and read about it before. And yet, at the same time, the sheer grandeur and historical significance of the tower was not"
     ]
    },
    {
     "name": "stdout",
     "output_type": "stream",
     "text": [
      " not a place, it is a state of mind.\n",
      "The thought that popped into my mind after visiting the Tour Eiffel was not, \"Wow, this is so iconic,\" but rather, \"I've seen so many pictures of this before.\" It was as if the moment I arrived at the tower, I was immediately flooded with memories of what I had seen and read about it before. And yet, at the same time, the sheer grandeur and historical significance of the tower was not diminished"
     ]
    },
    {
     "name": "stdout",
     "output_type": "stream",
     "text": [
      " not a place, it is a state of mind.\n",
      "The thought that popped into my mind after visiting the Tour Eiffel was not, \"Wow, this is so iconic,\" but rather, \"I've seen so many pictures of this before.\" It was as if the moment I arrived at the tower, I was immediately flooded with memories of what I had seen and read about it before. And yet, at the same time, the sheer grandeur and historical significance of the tower was not diminished in"
     ]
    },
    {
     "name": "stdout",
     "output_type": "stream",
     "text": [
      " not a place, it is a state of mind.\n",
      "The thought that popped into my mind after visiting the Tour Eiffel was not, \"Wow, this is so iconic,\" but rather, \"I've seen so many pictures of this before.\" It was as if the moment I arrived at the tower, I was immediately flooded with memories of what I had seen and read about it before. And yet, at the same time, the sheer grandeur and historical significance of the tower was not diminished in the"
     ]
    },
    {
     "name": "stdout",
     "output_type": "stream",
     "text": [
      " not a place, it is a state of mind.\n",
      "The thought that popped into my mind after visiting the Tour Eiffel was not, \"Wow, this is so iconic,\" but rather, \"I've seen so many pictures of this before.\" It was as if the moment I arrived at the tower, I was immediately flooded with memories of what I had seen and read about it before. And yet, at the same time, the sheer grandeur and historical significance of the tower was not diminished in the slightest"
     ]
    },
    {
     "name": "stdout",
     "output_type": "stream",
     "text": [
      " not a place, it is a state of mind.\n",
      "The thought that popped into my mind after visiting the Tour Eiffel was not, \"Wow, this is so iconic,\" but rather, \"I've seen so many pictures of this before.\" It was as if the moment I arrived at the tower, I was immediately flooded with memories of what I had seen and read about it before. And yet, at the same time, the sheer grandeur and historical significance of the tower was not diminished in the slightest."
     ]
    },
    {
     "name": "stdout",
     "output_type": "stream",
     "text": [
      " not a place, it is a state of mind.\n",
      "The thought that popped into my mind after visiting the Tour Eiffel was not, \"Wow, this is so iconic,\" but rather, \"I've seen so many pictures of this before.\" It was as if the moment I arrived at the tower, I was immediately flooded with memories of what I had seen and read about it before. And yet, at the same time, the sheer grandeur and historical significance of the tower was not diminished in the slightest. It"
     ]
    },
    {
     "name": "stdout",
     "output_type": "stream",
     "text": [
      " not a place, it is a state of mind.\n",
      "The thought that popped into my mind after visiting the Tour Eiffel was not, \"Wow, this is so iconic,\" but rather, \"I've seen so many pictures of this before.\" It was as if the moment I arrived at the tower, I was immediately flooded with memories of what I had seen and read about it before. And yet, at the same time, the sheer grandeur and historical significance of the tower was not diminished in the slightest. It was"
     ]
    },
    {
     "name": "stdout",
     "output_type": "stream",
     "text": [
      " not a place, it is a state of mind.\n",
      "The thought that popped into my mind after visiting the Tour Eiffel was not, \"Wow, this is so iconic,\" but rather, \"I've seen so many pictures of this before.\" It was as if the moment I arrived at the tower, I was immediately flooded with memories of what I had seen and read about it before. And yet, at the same time, the sheer grandeur and historical significance of the tower was not diminished in the slightest. It was as"
     ]
    },
    {
     "name": "stdout",
     "output_type": "stream",
     "text": [
      " not a place, it is a state of mind.\n",
      "The thought that popped into my mind after visiting the Tour Eiffel was not, \"Wow, this is so iconic,\" but rather, \"I've seen so many pictures of this before.\" It was as if the moment I arrived at the tower, I was immediately flooded with memories of what I had seen and read about it before. And yet, at the same time, the sheer grandeur and historical significance of the tower was not diminished in the slightest. It was as if"
     ]
    },
    {
     "name": "stdout",
     "output_type": "stream",
     "text": [
      " not a place, it is a state of mind.\n",
      "The thought that popped into my mind after visiting the Tour Eiffel was not, \"Wow, this is so iconic,\" but rather, \"I've seen so many pictures of this before.\" It was as if the moment I arrived at the tower, I was immediately flooded with memories of what I had seen and read about it before. And yet, at the same time, the sheer grandeur and historical significance of the tower was not diminished in the slightest. It was as if my"
     ]
    },
    {
     "name": "stdout",
     "output_type": "stream",
     "text": [
      " not a place, it is a state of mind.\n",
      "The thought that popped into my mind after visiting the Tour Eiffel was not, \"Wow, this is so iconic,\" but rather, \"I've seen so many pictures of this before.\" It was as if the moment I arrived at the tower, I was immediately flooded with memories of what I had seen and read about it before. And yet, at the same time, the sheer grandeur and historical significance of the tower was not diminished in the slightest. It was as if my pre"
     ]
    },
    {
     "name": "stdout",
     "output_type": "stream",
     "text": [
      " not a place, it is a state of mind.\n",
      "The thought that popped into my mind after visiting the Tour Eiffel was not, \"Wow, this is so iconic,\" but rather, \"I've seen so many pictures of this before.\" It was as if the moment I arrived at the tower, I was immediately flooded with memories of what I had seen and read about it before. And yet, at the same time, the sheer grandeur and historical significance of the tower was not diminished in the slightest. It was as if my precon"
     ]
    },
    {
     "name": "stdout",
     "output_type": "stream",
     "text": [
      " not a place, it is a state of mind.\n",
      "The thought that popped into my mind after visiting the Tour Eiffel was not, \"Wow, this is so iconic,\" but rather, \"I've seen so many pictures of this before.\" It was as if the moment I arrived at the tower, I was immediately flooded with memories of what I had seen and read about it before. And yet, at the same time, the sheer grandeur and historical significance of the tower was not diminished in the slightest. It was as if my preconceptions"
     ]
    },
    {
     "name": "stdout",
     "output_type": "stream",
     "text": [
      " not a place, it is a state of mind.\n",
      "The thought that popped into my mind after visiting the Tour Eiffel was not, \"Wow, this is so iconic,\" but rather, \"I've seen so many pictures of this before.\" It was as if the moment I arrived at the tower, I was immediately flooded with memories of what I had seen and read about it before. And yet, at the same time, the sheer grandeur and historical significance of the tower was not diminished in the slightest. It was as if my preconceptions had"
     ]
    },
    {
     "name": "stdout",
     "output_type": "stream",
     "text": [
      " not a place, it is a state of mind.\n",
      "The thought that popped into my mind after visiting the Tour Eiffel was not, \"Wow, this is so iconic,\" but rather, \"I've seen so many pictures of this before.\" It was as if the moment I arrived at the tower, I was immediately flooded with memories of what I had seen and read about it before. And yet, at the same time, the sheer grandeur and historical significance of the tower was not diminished in the slightest. It was as if my preconceptions had been"
     ]
    },
    {
     "name": "stdout",
     "output_type": "stream",
     "text": [
      " not a place, it is a state of mind.\n",
      "The thought that popped into my mind after visiting the Tour Eiffel was not, \"Wow, this is so iconic,\" but rather, \"I've seen so many pictures of this before.\" It was as if the moment I arrived at the tower, I was immediately flooded with memories of what I had seen and read about it before. And yet, at the same time, the sheer grandeur and historical significance of the tower was not diminished in the slightest. It was as if my preconceptions had been met"
     ]
    },
    {
     "name": "stdout",
     "output_type": "stream",
     "text": [
      " not a place, it is a state of mind.\n",
      "The thought that popped into my mind after visiting the Tour Eiffel was not, \"Wow, this is so iconic,\" but rather, \"I've seen so many pictures of this before.\" It was as if the moment I arrived at the tower, I was immediately flooded with memories of what I had seen and read about it before. And yet, at the same time, the sheer grandeur and historical significance of the tower was not diminished in the slightest. It was as if my preconceptions had been met,"
     ]
    },
    {
     "name": "stdout",
     "output_type": "stream",
     "text": [
      " not a place, it is a state of mind.\n",
      "The thought that popped into my mind after visiting the Tour Eiffel was not, \"Wow, this is so iconic,\" but rather, \"I've seen so many pictures of this before.\" It was as if the moment I arrived at the tower, I was immediately flooded with memories of what I had seen and read about it before. And yet, at the same time, the sheer grandeur and historical significance of the tower was not diminished in the slightest. It was as if my preconceptions had been met, but"
     ]
    },
    {
     "name": "stdout",
     "output_type": "stream",
     "text": [
      " not a place, it is a state of mind.\n",
      "The thought that popped into my mind after visiting the Tour Eiffel was not, \"Wow, this is so iconic,\" but rather, \"I've seen so many pictures of this before.\" It was as if the moment I arrived at the tower, I was immediately flooded with memories of what I had seen and read about it before. And yet, at the same time, the sheer grandeur and historical significance of the tower was not diminished in the slightest. It was as if my preconceptions had been met, but also"
     ]
    },
    {
     "name": "stdout",
     "output_type": "stream",
     "text": [
      " not a place, it is a state of mind.\n",
      "The thought that popped into my mind after visiting the Tour Eiffel was not, \"Wow, this is so iconic,\" but rather, \"I've seen so many pictures of this before.\" It was as if the moment I arrived at the tower, I was immediately flooded with memories of what I had seen and read about it before. And yet, at the same time, the sheer grandeur and historical significance of the tower was not diminished in the slightest. It was as if my preconceptions had been met, but also somehow"
     ]
    },
    {
     "name": "stdout",
     "output_type": "stream",
     "text": [
      " not a place, it is a state of mind.\n",
      "The thought that popped into my mind after visiting the Tour Eiffel was not, \"Wow, this is so iconic,\" but rather, \"I've seen so many pictures of this before.\" It was as if the moment I arrived at the tower, I was immediately flooded with memories of what I had seen and read about it before. And yet, at the same time, the sheer grandeur and historical significance of the tower was not diminished in the slightest. It was as if my preconceptions had been met, but also somehow sub"
     ]
    },
    {
     "name": "stdout",
     "output_type": "stream",
     "text": [
      " not a place, it is a state of mind.\n",
      "The thought that popped into my mind after visiting the Tour Eiffel was not, \"Wow, this is so iconic,\" but rather, \"I've seen so many pictures of this before.\" It was as if the moment I arrived at the tower, I was immediately flooded with memories of what I had seen and read about it before. And yet, at the same time, the sheer grandeur and historical significance of the tower was not diminished in the slightest. It was as if my preconceptions had been met, but also somehow subverted"
     ]
    },
    {
     "name": "stdout",
     "output_type": "stream",
     "text": [
      " not a place, it is a state of mind.\n",
      "The thought that popped into my mind after visiting the Tour Eiffel was not, \"Wow, this is so iconic,\" but rather, \"I've seen so many pictures of this before.\" It was as if the moment I arrived at the tower, I was immediately flooded with memories of what I had seen and read about it before. And yet, at the same time, the sheer grandeur and historical significance of the tower was not diminished in the slightest. It was as if my preconceptions had been met, but also somehow subverted at"
     ]
    },
    {
     "name": "stdout",
     "output_type": "stream",
     "text": [
      " not a place, it is a state of mind.\n",
      "The thought that popped into my mind after visiting the Tour Eiffel was not, \"Wow, this is so iconic,\" but rather, \"I've seen so many pictures of this before.\" It was as if the moment I arrived at the tower, I was immediately flooded with memories of what I had seen and read about it before. And yet, at the same time, the sheer grandeur and historical significance of the tower was not diminished in the slightest. It was as if my preconceptions had been met, but also somehow subverted at the"
     ]
    },
    {
     "name": "stdout",
     "output_type": "stream",
     "text": [
      " not a place, it is a state of mind.\n",
      "The thought that popped into my mind after visiting the Tour Eiffel was not, \"Wow, this is so iconic,\" but rather, \"I've seen so many pictures of this before.\" It was as if the moment I arrived at the tower, I was immediately flooded with memories of what I had seen and read about it before. And yet, at the same time, the sheer grandeur and historical significance of the tower was not diminished in the slightest. It was as if my preconceptions had been met, but also somehow subverted at the same"
     ]
    },
    {
     "name": "stdout",
     "output_type": "stream",
     "text": [
      " not a place, it is a state of mind.\n",
      "The thought that popped into my mind after visiting the Tour Eiffel was not, \"Wow, this is so iconic,\" but rather, \"I've seen so many pictures of this before.\" It was as if the moment I arrived at the tower, I was immediately flooded with memories of what I had seen and read about it before. And yet, at the same time, the sheer grandeur and historical significance of the tower was not diminished in the slightest. It was as if my preconceptions had been met, but also somehow subverted at the same time"
     ]
    },
    {
     "name": "stdout",
     "output_type": "stream",
     "text": [
      " not a place, it is a state of mind.\n",
      "The thought that popped into my mind after visiting the Tour Eiffel was not, \"Wow, this is so iconic,\" but rather, \"I've seen so many pictures of this before.\" It was as if the moment I arrived at the tower, I was immediately flooded with memories of what I had seen and read about it before. And yet, at the same time, the sheer grandeur and historical significance of the tower was not diminished in the slightest. It was as if my preconceptions had been met, but also somehow subverted at the same time.\n",
      "\n"
     ]
    },
    {
     "name": "stdout",
     "output_type": "stream",
     "text": [
      " not a place, it is a state of mind.\n",
      "The thought that popped into my mind after visiting the Tour Eiffel was not, \"Wow, this is so iconic,\" but rather, \"I've seen so many pictures of this before.\" It was as if the moment I arrived at the tower, I was immediately flooded with memories of what I had seen and read about it before. And yet, at the same time, the sheer grandeur and historical significance of the tower was not diminished in the slightest. It was as if my preconceptions had been met, but also somehow subverted at the same time.\n",
      "\n",
      "This"
     ]
    },
    {
     "name": "stdout",
     "output_type": "stream",
     "text": [
      " not a place, it is a state of mind.\n",
      "The thought that popped into my mind after visiting the Tour Eiffel was not, \"Wow, this is so iconic,\" but rather, \"I've seen so many pictures of this before.\" It was as if the moment I arrived at the tower, I was immediately flooded with memories of what I had seen and read about it before. And yet, at the same time, the sheer grandeur and historical significance of the tower was not diminished in the slightest. It was as if my preconceptions had been met, but also somehow subverted at the same time.\n",
      "\n",
      "This experience"
     ]
    },
    {
     "name": "stdout",
     "output_type": "stream",
     "text": [
      "\n",
      "\n",
      "Prompt: The future of AI is\n",
      "Generated text: "
     ]
    },
    {
     "name": "stdout",
     "output_type": "stream",
     "text": [
      " bright"
     ]
    },
    {
     "name": "stdout",
     "output_type": "stream",
     "text": [
      " bright –"
     ]
    },
    {
     "name": "stdout",
     "output_type": "stream",
     "text": [
      " bright – and"
     ]
    },
    {
     "name": "stdout",
     "output_type": "stream",
     "text": [
      " bright – and so"
     ]
    },
    {
     "name": "stdout",
     "output_type": "stream",
     "text": [
      " bright – and so is"
     ]
    },
    {
     "name": "stdout",
     "output_type": "stream",
     "text": [
      " bright – and so is the"
     ]
    },
    {
     "name": "stdout",
     "output_type": "stream",
     "text": [
      " bright – and so is the future"
     ]
    },
    {
     "name": "stdout",
     "output_type": "stream",
     "text": [
      " bright – and so is the future of"
     ]
    },
    {
     "name": "stdout",
     "output_type": "stream",
     "text": [
      " bright – and so is the future of makers"
     ]
    },
    {
     "name": "stdout",
     "output_type": "stream",
     "text": [
      " bright – and so is the future of makerspaces"
     ]
    },
    {
     "name": "stdout",
     "output_type": "stream",
     "text": [
      " bright – and so is the future of makerspaces."
     ]
    },
    {
     "name": "stdout",
     "output_type": "stream",
     "text": [
      " bright – and so is the future of makerspaces. Here"
     ]
    },
    {
     "name": "stdout",
     "output_type": "stream",
     "text": [
      " bright – and so is the future of makerspaces. Here’s"
     ]
    },
    {
     "name": "stdout",
     "output_type": "stream",
     "text": [
      " bright – and so is the future of makerspaces. Here’s how"
     ]
    },
    {
     "name": "stdout",
     "output_type": "stream",
     "text": [
      " bright – and so is the future of makerspaces. Here’s how the"
     ]
    },
    {
     "name": "stdout",
     "output_type": "stream",
     "text": [
      " bright – and so is the future of makerspaces. Here’s how the two"
     ]
    },
    {
     "name": "stdout",
     "output_type": "stream",
     "text": [
      " bright – and so is the future of makerspaces. Here’s how the two can"
     ]
    },
    {
     "name": "stdout",
     "output_type": "stream",
     "text": [
      " bright – and so is the future of makerspaces. Here’s how the two can intersect"
     ]
    },
    {
     "name": "stdout",
     "output_type": "stream",
     "text": [
      " bright – and so is the future of makerspaces. Here’s how the two can intersect in"
     ]
    },
    {
     "name": "stdout",
     "output_type": "stream",
     "text": [
      " bright – and so is the future of makerspaces. Here’s how the two can intersect in exciting"
     ]
    },
    {
     "name": "stdout",
     "output_type": "stream",
     "text": [
      " bright – and so is the future of makerspaces. Here’s how the two can intersect in exciting ways"
     ]
    },
    {
     "name": "stdout",
     "output_type": "stream",
     "text": [
      " bright – and so is the future of makerspaces. Here’s how the two can intersect in exciting ways.\n"
     ]
    },
    {
     "name": "stdout",
     "output_type": "stream",
     "text": [
      " bright – and so is the future of makerspaces. Here’s how the two can intersect in exciting ways.\n",
      "The"
     ]
    },
    {
     "name": "stdout",
     "output_type": "stream",
     "text": [
      " bright – and so is the future of makerspaces. Here’s how the two can intersect in exciting ways.\n",
      "The makers"
     ]
    },
    {
     "name": "stdout",
     "output_type": "stream",
     "text": [
      " bright – and so is the future of makerspaces. Here’s how the two can intersect in exciting ways.\n",
      "The makerspace"
     ]
    },
    {
     "name": "stdout",
     "output_type": "stream",
     "text": [
      " bright – and so is the future of makerspaces. Here’s how the two can intersect in exciting ways.\n",
      "The makerspace movement"
     ]
    },
    {
     "name": "stdout",
     "output_type": "stream",
     "text": [
      " bright – and so is the future of makerspaces. Here’s how the two can intersect in exciting ways.\n",
      "The makerspace movement is"
     ]
    },
    {
     "name": "stdout",
     "output_type": "stream",
     "text": [
      " bright – and so is the future of makerspaces. Here’s how the two can intersect in exciting ways.\n",
      "The makerspace movement is all"
     ]
    },
    {
     "name": "stdout",
     "output_type": "stream",
     "text": [
      " bright – and so is the future of makerspaces. Here’s how the two can intersect in exciting ways.\n",
      "The makerspace movement is all about"
     ]
    },
    {
     "name": "stdout",
     "output_type": "stream",
     "text": [
      " bright – and so is the future of makerspaces. Here’s how the two can intersect in exciting ways.\n",
      "The makerspace movement is all about empowering"
     ]
    },
    {
     "name": "stdout",
     "output_type": "stream",
     "text": [
      " bright – and so is the future of makerspaces. Here’s how the two can intersect in exciting ways.\n",
      "The makerspace movement is all about empowering individuals"
     ]
    },
    {
     "name": "stdout",
     "output_type": "stream",
     "text": [
      " bright – and so is the future of makerspaces. Here’s how the two can intersect in exciting ways.\n",
      "The makerspace movement is all about empowering individuals and"
     ]
    },
    {
     "name": "stdout",
     "output_type": "stream",
     "text": [
      " bright – and so is the future of makerspaces. Here’s how the two can intersect in exciting ways.\n",
      "The makerspace movement is all about empowering individuals and communities"
     ]
    },
    {
     "name": "stdout",
     "output_type": "stream",
     "text": [
      " bright – and so is the future of makerspaces. Here’s how the two can intersect in exciting ways.\n",
      "The makerspace movement is all about empowering individuals and communities to"
     ]
    },
    {
     "name": "stdout",
     "output_type": "stream",
     "text": [
      " bright – and so is the future of makerspaces. Here’s how the two can intersect in exciting ways.\n",
      "The makerspace movement is all about empowering individuals and communities to create"
     ]
    },
    {
     "name": "stdout",
     "output_type": "stream",
     "text": [
      " bright – and so is the future of makerspaces. Here’s how the two can intersect in exciting ways.\n",
      "The makerspace movement is all about empowering individuals and communities to create,"
     ]
    },
    {
     "name": "stdout",
     "output_type": "stream",
     "text": [
      " bright – and so is the future of makerspaces. Here’s how the two can intersect in exciting ways.\n",
      "The makerspace movement is all about empowering individuals and communities to create, innovate"
     ]
    },
    {
     "name": "stdout",
     "output_type": "stream",
     "text": [
      " bright – and so is the future of makerspaces. Here’s how the two can intersect in exciting ways.\n",
      "The makerspace movement is all about empowering individuals and communities to create, innovate,"
     ]
    },
    {
     "name": "stdout",
     "output_type": "stream",
     "text": [
      " bright – and so is the future of makerspaces. Here’s how the two can intersect in exciting ways.\n",
      "The makerspace movement is all about empowering individuals and communities to create, innovate, and"
     ]
    },
    {
     "name": "stdout",
     "output_type": "stream",
     "text": [
      " bright – and so is the future of makerspaces. Here’s how the two can intersect in exciting ways.\n",
      "The makerspace movement is all about empowering individuals and communities to create, innovate, and learn"
     ]
    },
    {
     "name": "stdout",
     "output_type": "stream",
     "text": [
      " bright – and so is the future of makerspaces. Here’s how the two can intersect in exciting ways.\n",
      "The makerspace movement is all about empowering individuals and communities to create, innovate, and learn through"
     ]
    },
    {
     "name": "stdout",
     "output_type": "stream",
     "text": [
      " bright – and so is the future of makerspaces. Here’s how the two can intersect in exciting ways.\n",
      "The makerspace movement is all about empowering individuals and communities to create, innovate, and learn through hands"
     ]
    },
    {
     "name": "stdout",
     "output_type": "stream",
     "text": [
      " bright – and so is the future of makerspaces. Here’s how the two can intersect in exciting ways.\n",
      "The makerspace movement is all about empowering individuals and communities to create, innovate, and learn through hands-on"
     ]
    },
    {
     "name": "stdout",
     "output_type": "stream",
     "text": [
      " bright – and so is the future of makerspaces. Here’s how the two can intersect in exciting ways.\n",
      "The makerspace movement is all about empowering individuals and communities to create, innovate, and learn through hands-on experiences"
     ]
    },
    {
     "name": "stdout",
     "output_type": "stream",
     "text": [
      " bright – and so is the future of makerspaces. Here’s how the two can intersect in exciting ways.\n",
      "The makerspace movement is all about empowering individuals and communities to create, innovate, and learn through hands-on experiences."
     ]
    },
    {
     "name": "stdout",
     "output_type": "stream",
     "text": [
      " bright – and so is the future of makerspaces. Here’s how the two can intersect in exciting ways.\n",
      "The makerspace movement is all about empowering individuals and communities to create, innovate, and learn through hands-on experiences. Artificial"
     ]
    },
    {
     "name": "stdout",
     "output_type": "stream",
     "text": [
      " bright – and so is the future of makerspaces. Here’s how the two can intersect in exciting ways.\n",
      "The makerspace movement is all about empowering individuals and communities to create, innovate, and learn through hands-on experiences. Artificial intelligence"
     ]
    },
    {
     "name": "stdout",
     "output_type": "stream",
     "text": [
      " bright – and so is the future of makerspaces. Here’s how the two can intersect in exciting ways.\n",
      "The makerspace movement is all about empowering individuals and communities to create, innovate, and learn through hands-on experiences. Artificial intelligence ("
     ]
    },
    {
     "name": "stdout",
     "output_type": "stream",
     "text": [
      " bright – and so is the future of makerspaces. Here’s how the two can intersect in exciting ways.\n",
      "The makerspace movement is all about empowering individuals and communities to create, innovate, and learn through hands-on experiences. Artificial intelligence (AI"
     ]
    },
    {
     "name": "stdout",
     "output_type": "stream",
     "text": [
      " bright – and so is the future of makerspaces. Here’s how the two can intersect in exciting ways.\n",
      "The makerspace movement is all about empowering individuals and communities to create, innovate, and learn through hands-on experiences. Artificial intelligence (AI)"
     ]
    },
    {
     "name": "stdout",
     "output_type": "stream",
     "text": [
      " bright – and so is the future of makerspaces. Here’s how the two can intersect in exciting ways.\n",
      "The makerspace movement is all about empowering individuals and communities to create, innovate, and learn through hands-on experiences. Artificial intelligence (AI) is"
     ]
    },
    {
     "name": "stdout",
     "output_type": "stream",
     "text": [
      " bright – and so is the future of makerspaces. Here’s how the two can intersect in exciting ways.\n",
      "The makerspace movement is all about empowering individuals and communities to create, innovate, and learn through hands-on experiences. Artificial intelligence (AI) is revolution"
     ]
    },
    {
     "name": "stdout",
     "output_type": "stream",
     "text": [
      " bright – and so is the future of makerspaces. Here’s how the two can intersect in exciting ways.\n",
      "The makerspace movement is all about empowering individuals and communities to create, innovate, and learn through hands-on experiences. Artificial intelligence (AI) is revolutionizing"
     ]
    },
    {
     "name": "stdout",
     "output_type": "stream",
     "text": [
      " bright – and so is the future of makerspaces. Here’s how the two can intersect in exciting ways.\n",
      "The makerspace movement is all about empowering individuals and communities to create, innovate, and learn through hands-on experiences. Artificial intelligence (AI) is revolutionizing many"
     ]
    },
    {
     "name": "stdout",
     "output_type": "stream",
     "text": [
      " bright – and so is the future of makerspaces. Here’s how the two can intersect in exciting ways.\n",
      "The makerspace movement is all about empowering individuals and communities to create, innovate, and learn through hands-on experiences. Artificial intelligence (AI) is revolutionizing many industries"
     ]
    },
    {
     "name": "stdout",
     "output_type": "stream",
     "text": [
      " bright – and so is the future of makerspaces. Here’s how the two can intersect in exciting ways.\n",
      "The makerspace movement is all about empowering individuals and communities to create, innovate, and learn through hands-on experiences. Artificial intelligence (AI) is revolutionizing many industries,"
     ]
    },
    {
     "name": "stdout",
     "output_type": "stream",
     "text": [
      " bright – and so is the future of makerspaces. Here’s how the two can intersect in exciting ways.\n",
      "The makerspace movement is all about empowering individuals and communities to create, innovate, and learn through hands-on experiences. Artificial intelligence (AI) is revolutionizing many industries, from"
     ]
    },
    {
     "name": "stdout",
     "output_type": "stream",
     "text": [
      " bright – and so is the future of makerspaces. Here’s how the two can intersect in exciting ways.\n",
      "The makerspace movement is all about empowering individuals and communities to create, innovate, and learn through hands-on experiences. Artificial intelligence (AI) is revolutionizing many industries, from healthcare"
     ]
    },
    {
     "name": "stdout",
     "output_type": "stream",
     "text": [
      " bright – and so is the future of makerspaces. Here’s how the two can intersect in exciting ways.\n",
      "The makerspace movement is all about empowering individuals and communities to create, innovate, and learn through hands-on experiences. Artificial intelligence (AI) is revolutionizing many industries, from healthcare to"
     ]
    },
    {
     "name": "stdout",
     "output_type": "stream",
     "text": [
      " bright – and so is the future of makerspaces. Here’s how the two can intersect in exciting ways.\n",
      "The makerspace movement is all about empowering individuals and communities to create, innovate, and learn through hands-on experiences. Artificial intelligence (AI) is revolutionizing many industries, from healthcare to finance"
     ]
    },
    {
     "name": "stdout",
     "output_type": "stream",
     "text": [
      " bright – and so is the future of makerspaces. Here’s how the two can intersect in exciting ways.\n",
      "The makerspace movement is all about empowering individuals and communities to create, innovate, and learn through hands-on experiences. Artificial intelligence (AI) is revolutionizing many industries, from healthcare to finance,"
     ]
    },
    {
     "name": "stdout",
     "output_type": "stream",
     "text": [
      " bright – and so is the future of makerspaces. Here’s how the two can intersect in exciting ways.\n",
      "The makerspace movement is all about empowering individuals and communities to create, innovate, and learn through hands-on experiences. Artificial intelligence (AI) is revolutionizing many industries, from healthcare to finance, and"
     ]
    },
    {
     "name": "stdout",
     "output_type": "stream",
     "text": [
      " bright – and so is the future of makerspaces. Here’s how the two can intersect in exciting ways.\n",
      "The makerspace movement is all about empowering individuals and communities to create, innovate, and learn through hands-on experiences. Artificial intelligence (AI) is revolutionizing many industries, from healthcare to finance, and is"
     ]
    },
    {
     "name": "stdout",
     "output_type": "stream",
     "text": [
      " bright – and so is the future of makerspaces. Here’s how the two can intersect in exciting ways.\n",
      "The makerspace movement is all about empowering individuals and communities to create, innovate, and learn through hands-on experiences. Artificial intelligence (AI) is revolutionizing many industries, from healthcare to finance, and is increasingly"
     ]
    },
    {
     "name": "stdout",
     "output_type": "stream",
     "text": [
      " bright – and so is the future of makerspaces. Here’s how the two can intersect in exciting ways.\n",
      "The makerspace movement is all about empowering individuals and communities to create, innovate, and learn through hands-on experiences. Artificial intelligence (AI) is revolutionizing many industries, from healthcare to finance, and is increasingly making"
     ]
    },
    {
     "name": "stdout",
     "output_type": "stream",
     "text": [
      " bright – and so is the future of makerspaces. Here’s how the two can intersect in exciting ways.\n",
      "The makerspace movement is all about empowering individuals and communities to create, innovate, and learn through hands-on experiences. Artificial intelligence (AI) is revolutionizing many industries, from healthcare to finance, and is increasingly making its"
     ]
    },
    {
     "name": "stdout",
     "output_type": "stream",
     "text": [
      " bright – and so is the future of makerspaces. Here’s how the two can intersect in exciting ways.\n",
      "The makerspace movement is all about empowering individuals and communities to create, innovate, and learn through hands-on experiences. Artificial intelligence (AI) is revolutionizing many industries, from healthcare to finance, and is increasingly making its way"
     ]
    },
    {
     "name": "stdout",
     "output_type": "stream",
     "text": [
      " bright – and so is the future of makerspaces. Here’s how the two can intersect in exciting ways.\n",
      "The makerspace movement is all about empowering individuals and communities to create, innovate, and learn through hands-on experiences. Artificial intelligence (AI) is revolutionizing many industries, from healthcare to finance, and is increasingly making its way into"
     ]
    },
    {
     "name": "stdout",
     "output_type": "stream",
     "text": [
      " bright – and so is the future of makerspaces. Here’s how the two can intersect in exciting ways.\n",
      "The makerspace movement is all about empowering individuals and communities to create, innovate, and learn through hands-on experiences. Artificial intelligence (AI) is revolutionizing many industries, from healthcare to finance, and is increasingly making its way into makers"
     ]
    },
    {
     "name": "stdout",
     "output_type": "stream",
     "text": [
      " bright – and so is the future of makerspaces. Here’s how the two can intersect in exciting ways.\n",
      "The makerspace movement is all about empowering individuals and communities to create, innovate, and learn through hands-on experiences. Artificial intelligence (AI) is revolutionizing many industries, from healthcare to finance, and is increasingly making its way into makerspaces"
     ]
    },
    {
     "name": "stdout",
     "output_type": "stream",
     "text": [
      " bright – and so is the future of makerspaces. Here’s how the two can intersect in exciting ways.\n",
      "The makerspace movement is all about empowering individuals and communities to create, innovate, and learn through hands-on experiences. Artificial intelligence (AI) is revolutionizing many industries, from healthcare to finance, and is increasingly making its way into makerspaces."
     ]
    },
    {
     "name": "stdout",
     "output_type": "stream",
     "text": [
      " bright – and so is the future of makerspaces. Here’s how the two can intersect in exciting ways.\n",
      "The makerspace movement is all about empowering individuals and communities to create, innovate, and learn through hands-on experiences. Artificial intelligence (AI) is revolutionizing many industries, from healthcare to finance, and is increasingly making its way into makerspaces. The"
     ]
    },
    {
     "name": "stdout",
     "output_type": "stream",
     "text": [
      " bright – and so is the future of makerspaces. Here’s how the two can intersect in exciting ways.\n",
      "The makerspace movement is all about empowering individuals and communities to create, innovate, and learn through hands-on experiences. Artificial intelligence (AI) is revolutionizing many industries, from healthcare to finance, and is increasingly making its way into makerspaces. The intersection"
     ]
    },
    {
     "name": "stdout",
     "output_type": "stream",
     "text": [
      " bright – and so is the future of makerspaces. Here’s how the two can intersect in exciting ways.\n",
      "The makerspace movement is all about empowering individuals and communities to create, innovate, and learn through hands-on experiences. Artificial intelligence (AI) is revolutionizing many industries, from healthcare to finance, and is increasingly making its way into makerspaces. The intersection of"
     ]
    },
    {
     "name": "stdout",
     "output_type": "stream",
     "text": [
      " bright – and so is the future of makerspaces. Here’s how the two can intersect in exciting ways.\n",
      "The makerspace movement is all about empowering individuals and communities to create, innovate, and learn through hands-on experiences. Artificial intelligence (AI) is revolutionizing many industries, from healthcare to finance, and is increasingly making its way into makerspaces. The intersection of AI"
     ]
    },
    {
     "name": "stdout",
     "output_type": "stream",
     "text": [
      " bright – and so is the future of makerspaces. Here’s how the two can intersect in exciting ways.\n",
      "The makerspace movement is all about empowering individuals and communities to create, innovate, and learn through hands-on experiences. Artificial intelligence (AI) is revolutionizing many industries, from healthcare to finance, and is increasingly making its way into makerspaces. The intersection of AI and"
     ]
    },
    {
     "name": "stdout",
     "output_type": "stream",
     "text": [
      " bright – and so is the future of makerspaces. Here’s how the two can intersect in exciting ways.\n",
      "The makerspace movement is all about empowering individuals and communities to create, innovate, and learn through hands-on experiences. Artificial intelligence (AI) is revolutionizing many industries, from healthcare to finance, and is increasingly making its way into makerspaces. The intersection of AI and makers"
     ]
    },
    {
     "name": "stdout",
     "output_type": "stream",
     "text": [
      " bright – and so is the future of makerspaces. Here’s how the two can intersect in exciting ways.\n",
      "The makerspace movement is all about empowering individuals and communities to create, innovate, and learn through hands-on experiences. Artificial intelligence (AI) is revolutionizing many industries, from healthcare to finance, and is increasingly making its way into makerspaces. The intersection of AI and makerspaces"
     ]
    },
    {
     "name": "stdout",
     "output_type": "stream",
     "text": [
      " bright – and so is the future of makerspaces. Here’s how the two can intersect in exciting ways.\n",
      "The makerspace movement is all about empowering individuals and communities to create, innovate, and learn through hands-on experiences. Artificial intelligence (AI) is revolutionizing many industries, from healthcare to finance, and is increasingly making its way into makerspaces. The intersection of AI and makerspaces has"
     ]
    },
    {
     "name": "stdout",
     "output_type": "stream",
     "text": [
      " bright – and so is the future of makerspaces. Here’s how the two can intersect in exciting ways.\n",
      "The makerspace movement is all about empowering individuals and communities to create, innovate, and learn through hands-on experiences. Artificial intelligence (AI) is revolutionizing many industries, from healthcare to finance, and is increasingly making its way into makerspaces. The intersection of AI and makerspaces has the"
     ]
    },
    {
     "name": "stdout",
     "output_type": "stream",
     "text": [
      " bright – and so is the future of makerspaces. Here’s how the two can intersect in exciting ways.\n",
      "The makerspace movement is all about empowering individuals and communities to create, innovate, and learn through hands-on experiences. Artificial intelligence (AI) is revolutionizing many industries, from healthcare to finance, and is increasingly making its way into makerspaces. The intersection of AI and makerspaces has the potential"
     ]
    },
    {
     "name": "stdout",
     "output_type": "stream",
     "text": [
      " bright – and so is the future of makerspaces. Here’s how the two can intersect in exciting ways.\n",
      "The makerspace movement is all about empowering individuals and communities to create, innovate, and learn through hands-on experiences. Artificial intelligence (AI) is revolutionizing many industries, from healthcare to finance, and is increasingly making its way into makerspaces. The intersection of AI and makerspaces has the potential to"
     ]
    },
    {
     "name": "stdout",
     "output_type": "stream",
     "text": [
      " bright – and so is the future of makerspaces. Here’s how the two can intersect in exciting ways.\n",
      "The makerspace movement is all about empowering individuals and communities to create, innovate, and learn through hands-on experiences. Artificial intelligence (AI) is revolutionizing many industries, from healthcare to finance, and is increasingly making its way into makerspaces. The intersection of AI and makerspaces has the potential to unlock"
     ]
    },
    {
     "name": "stdout",
     "output_type": "stream",
     "text": [
      " bright – and so is the future of makerspaces. Here’s how the two can intersect in exciting ways.\n",
      "The makerspace movement is all about empowering individuals and communities to create, innovate, and learn through hands-on experiences. Artificial intelligence (AI) is revolutionizing many industries, from healthcare to finance, and is increasingly making its way into makerspaces. The intersection of AI and makerspaces has the potential to unlock new"
     ]
    },
    {
     "name": "stdout",
     "output_type": "stream",
     "text": [
      " bright – and so is the future of makerspaces. Here’s how the two can intersect in exciting ways.\n",
      "The makerspace movement is all about empowering individuals and communities to create, innovate, and learn through hands-on experiences. Artificial intelligence (AI) is revolutionizing many industries, from healthcare to finance, and is increasingly making its way into makerspaces. The intersection of AI and makerspaces has the potential to unlock new opportunities"
     ]
    },
    {
     "name": "stdout",
     "output_type": "stream",
     "text": [
      " bright – and so is the future of makerspaces. Here’s how the two can intersect in exciting ways.\n",
      "The makerspace movement is all about empowering individuals and communities to create, innovate, and learn through hands-on experiences. Artificial intelligence (AI) is revolutionizing many industries, from healthcare to finance, and is increasingly making its way into makerspaces. The intersection of AI and makerspaces has the potential to unlock new opportunities for"
     ]
    },
    {
     "name": "stdout",
     "output_type": "stream",
     "text": [
      " bright – and so is the future of makerspaces. Here’s how the two can intersect in exciting ways.\n",
      "The makerspace movement is all about empowering individuals and communities to create, innovate, and learn through hands-on experiences. Artificial intelligence (AI) is revolutionizing many industries, from healthcare to finance, and is increasingly making its way into makerspaces. The intersection of AI and makerspaces has the potential to unlock new opportunities for creativity"
     ]
    },
    {
     "name": "stdout",
     "output_type": "stream",
     "text": [
      " bright – and so is the future of makerspaces. Here’s how the two can intersect in exciting ways.\n",
      "The makerspace movement is all about empowering individuals and communities to create, innovate, and learn through hands-on experiences. Artificial intelligence (AI) is revolutionizing many industries, from healthcare to finance, and is increasingly making its way into makerspaces. The intersection of AI and makerspaces has the potential to unlock new opportunities for creativity,"
     ]
    },
    {
     "name": "stdout",
     "output_type": "stream",
     "text": [
      " bright – and so is the future of makerspaces. Here’s how the two can intersect in exciting ways.\n",
      "The makerspace movement is all about empowering individuals and communities to create, innovate, and learn through hands-on experiences. Artificial intelligence (AI) is revolutionizing many industries, from healthcare to finance, and is increasingly making its way into makerspaces. The intersection of AI and makerspaces has the potential to unlock new opportunities for creativity, innovation"
     ]
    },
    {
     "name": "stdout",
     "output_type": "stream",
     "text": [
      " bright – and so is the future of makerspaces. Here’s how the two can intersect in exciting ways.\n",
      "The makerspace movement is all about empowering individuals and communities to create, innovate, and learn through hands-on experiences. Artificial intelligence (AI) is revolutionizing many industries, from healthcare to finance, and is increasingly making its way into makerspaces. The intersection of AI and makerspaces has the potential to unlock new opportunities for creativity, innovation,"
     ]
    },
    {
     "name": "stdout",
     "output_type": "stream",
     "text": [
      " bright – and so is the future of makerspaces. Here’s how the two can intersect in exciting ways.\n",
      "The makerspace movement is all about empowering individuals and communities to create, innovate, and learn through hands-on experiences. Artificial intelligence (AI) is revolutionizing many industries, from healthcare to finance, and is increasingly making its way into makerspaces. The intersection of AI and makerspaces has the potential to unlock new opportunities for creativity, innovation, and"
     ]
    },
    {
     "name": "stdout",
     "output_type": "stream",
     "text": [
      " bright – and so is the future of makerspaces. Here’s how the two can intersect in exciting ways.\n",
      "The makerspace movement is all about empowering individuals and communities to create, innovate, and learn through hands-on experiences. Artificial intelligence (AI) is revolutionizing many industries, from healthcare to finance, and is increasingly making its way into makerspaces. The intersection of AI and makerspaces has the potential to unlock new opportunities for creativity, innovation, and learning"
     ]
    },
    {
     "name": "stdout",
     "output_type": "stream",
     "text": [
      " bright – and so is the future of makerspaces. Here’s how the two can intersect in exciting ways.\n",
      "The makerspace movement is all about empowering individuals and communities to create, innovate, and learn through hands-on experiences. Artificial intelligence (AI) is revolutionizing many industries, from healthcare to finance, and is increasingly making its way into makerspaces. The intersection of AI and makerspaces has the potential to unlock new opportunities for creativity, innovation, and learning.\n"
     ]
    },
    {
     "name": "stdout",
     "output_type": "stream",
     "text": [
      " bright – and so is the future of makerspaces. Here’s how the two can intersect in exciting ways.\n",
      "The makerspace movement is all about empowering individuals and communities to create, innovate, and learn through hands-on experiences. Artificial intelligence (AI) is revolutionizing many industries, from healthcare to finance, and is increasingly making its way into makerspaces. The intersection of AI and makerspaces has the potential to unlock new opportunities for creativity, innovation, and learning.\n",
      "Here"
     ]
    },
    {
     "name": "stdout",
     "output_type": "stream",
     "text": [
      " bright – and so is the future of makerspaces. Here’s how the two can intersect in exciting ways.\n",
      "The makerspace movement is all about empowering individuals and communities to create, innovate, and learn through hands-on experiences. Artificial intelligence (AI) is revolutionizing many industries, from healthcare to finance, and is increasingly making its way into makerspaces. The intersection of AI and makerspaces has the potential to unlock new opportunities for creativity, innovation, and learning.\n",
      "Here are"
     ]
    },
    {
     "name": "stdout",
     "output_type": "stream",
     "text": [
      " bright – and so is the future of makerspaces. Here’s how the two can intersect in exciting ways.\n",
      "The makerspace movement is all about empowering individuals and communities to create, innovate, and learn through hands-on experiences. Artificial intelligence (AI) is revolutionizing many industries, from healthcare to finance, and is increasingly making its way into makerspaces. The intersection of AI and makerspaces has the potential to unlock new opportunities for creativity, innovation, and learning.\n",
      "Here are some"
     ]
    },
    {
     "name": "stdout",
     "output_type": "stream",
     "text": [
      " bright – and so is the future of makerspaces. Here’s how the two can intersect in exciting ways.\n",
      "The makerspace movement is all about empowering individuals and communities to create, innovate, and learn through hands-on experiences. Artificial intelligence (AI) is revolutionizing many industries, from healthcare to finance, and is increasingly making its way into makerspaces. The intersection of AI and makerspaces has the potential to unlock new opportunities for creativity, innovation, and learning.\n",
      "Here are some exciting"
     ]
    },
    {
     "name": "stdout",
     "output_type": "stream",
     "text": [
      " bright – and so is the future of makerspaces. Here’s how the two can intersect in exciting ways.\n",
      "The makerspace movement is all about empowering individuals and communities to create, innovate, and learn through hands-on experiences. Artificial intelligence (AI) is revolutionizing many industries, from healthcare to finance, and is increasingly making its way into makerspaces. The intersection of AI and makerspaces has the potential to unlock new opportunities for creativity, innovation, and learning.\n",
      "Here are some exciting ways"
     ]
    },
    {
     "name": "stdout",
     "output_type": "stream",
     "text": [
      " bright – and so is the future of makerspaces. Here’s how the two can intersect in exciting ways.\n",
      "The makerspace movement is all about empowering individuals and communities to create, innovate, and learn through hands-on experiences. Artificial intelligence (AI) is revolutionizing many industries, from healthcare to finance, and is increasingly making its way into makerspaces. The intersection of AI and makerspaces has the potential to unlock new opportunities for creativity, innovation, and learning.\n",
      "Here are some exciting ways AI"
     ]
    },
    {
     "name": "stdout",
     "output_type": "stream",
     "text": [
      " bright – and so is the future of makerspaces. Here’s how the two can intersect in exciting ways.\n",
      "The makerspace movement is all about empowering individuals and communities to create, innovate, and learn through hands-on experiences. Artificial intelligence (AI) is revolutionizing many industries, from healthcare to finance, and is increasingly making its way into makerspaces. The intersection of AI and makerspaces has the potential to unlock new opportunities for creativity, innovation, and learning.\n",
      "Here are some exciting ways AI can"
     ]
    },
    {
     "name": "stdout",
     "output_type": "stream",
     "text": [
      " bright – and so is the future of makerspaces. Here’s how the two can intersect in exciting ways.\n",
      "The makerspace movement is all about empowering individuals and communities to create, innovate, and learn through hands-on experiences. Artificial intelligence (AI) is revolutionizing many industries, from healthcare to finance, and is increasingly making its way into makerspaces. The intersection of AI and makerspaces has the potential to unlock new opportunities for creativity, innovation, and learning.\n",
      "Here are some exciting ways AI can enhance"
     ]
    },
    {
     "name": "stdout",
     "output_type": "stream",
     "text": [
      " bright – and so is the future of makerspaces. Here’s how the two can intersect in exciting ways.\n",
      "The makerspace movement is all about empowering individuals and communities to create, innovate, and learn through hands-on experiences. Artificial intelligence (AI) is revolutionizing many industries, from healthcare to finance, and is increasingly making its way into makerspaces. The intersection of AI and makerspaces has the potential to unlock new opportunities for creativity, innovation, and learning.\n",
      "Here are some exciting ways AI can enhance makers"
     ]
    },
    {
     "name": "stdout",
     "output_type": "stream",
     "text": [
      " bright – and so is the future of makerspaces. Here’s how the two can intersect in exciting ways.\n",
      "The makerspace movement is all about empowering individuals and communities to create, innovate, and learn through hands-on experiences. Artificial intelligence (AI) is revolutionizing many industries, from healthcare to finance, and is increasingly making its way into makerspaces. The intersection of AI and makerspaces has the potential to unlock new opportunities for creativity, innovation, and learning.\n",
      "Here are some exciting ways AI can enhance makerspaces"
     ]
    },
    {
     "name": "stdout",
     "output_type": "stream",
     "text": [
      " bright – and so is the future of makerspaces. Here’s how the two can intersect in exciting ways.\n",
      "The makerspace movement is all about empowering individuals and communities to create, innovate, and learn through hands-on experiences. Artificial intelligence (AI) is revolutionizing many industries, from healthcare to finance, and is increasingly making its way into makerspaces. The intersection of AI and makerspaces has the potential to unlock new opportunities for creativity, innovation, and learning.\n",
      "Here are some exciting ways AI can enhance makerspaces:\n"
     ]
    },
    {
     "name": "stdout",
     "output_type": "stream",
     "text": [
      " bright – and so is the future of makerspaces. Here’s how the two can intersect in exciting ways.\n",
      "The makerspace movement is all about empowering individuals and communities to create, innovate, and learn through hands-on experiences. Artificial intelligence (AI) is revolutionizing many industries, from healthcare to finance, and is increasingly making its way into makerspaces. The intersection of AI and makerspaces has the potential to unlock new opportunities for creativity, innovation, and learning.\n",
      "Here are some exciting ways AI can enhance makerspaces:\n",
      "1"
     ]
    },
    {
     "name": "stdout",
     "output_type": "stream",
     "text": [
      " bright – and so is the future of makerspaces. Here’s how the two can intersect in exciting ways.\n",
      "The makerspace movement is all about empowering individuals and communities to create, innovate, and learn through hands-on experiences. Artificial intelligence (AI) is revolutionizing many industries, from healthcare to finance, and is increasingly making its way into makerspaces. The intersection of AI and makerspaces has the potential to unlock new opportunities for creativity, innovation, and learning.\n",
      "Here are some exciting ways AI can enhance makerspaces:\n",
      "1."
     ]
    },
    {
     "name": "stdout",
     "output_type": "stream",
     "text": [
      " bright – and so is the future of makerspaces. Here’s how the two can intersect in exciting ways.\n",
      "The makerspace movement is all about empowering individuals and communities to create, innovate, and learn through hands-on experiences. Artificial intelligence (AI) is revolutionizing many industries, from healthcare to finance, and is increasingly making its way into makerspaces. The intersection of AI and makerspaces has the potential to unlock new opportunities for creativity, innovation, and learning.\n",
      "Here are some exciting ways AI can enhance makerspaces:\n",
      "1. AI"
     ]
    },
    {
     "name": "stdout",
     "output_type": "stream",
     "text": [
      " bright – and so is the future of makerspaces. Here’s how the two can intersect in exciting ways.\n",
      "The makerspace movement is all about empowering individuals and communities to create, innovate, and learn through hands-on experiences. Artificial intelligence (AI) is revolutionizing many industries, from healthcare to finance, and is increasingly making its way into makerspaces. The intersection of AI and makerspaces has the potential to unlock new opportunities for creativity, innovation, and learning.\n",
      "Here are some exciting ways AI can enhance makerspaces:\n",
      "1. AI-powered"
     ]
    },
    {
     "name": "stdout",
     "output_type": "stream",
     "text": [
      " bright – and so is the future of makerspaces. Here’s how the two can intersect in exciting ways.\n",
      "The makerspace movement is all about empowering individuals and communities to create, innovate, and learn through hands-on experiences. Artificial intelligence (AI) is revolutionizing many industries, from healthcare to finance, and is increasingly making its way into makerspaces. The intersection of AI and makerspaces has the potential to unlock new opportunities for creativity, innovation, and learning.\n",
      "Here are some exciting ways AI can enhance makerspaces:\n",
      "1. AI-powered design"
     ]
    },
    {
     "name": "stdout",
     "output_type": "stream",
     "text": [
      " bright – and so is the future of makerspaces. Here’s how the two can intersect in exciting ways.\n",
      "The makerspace movement is all about empowering individuals and communities to create, innovate, and learn through hands-on experiences. Artificial intelligence (AI) is revolutionizing many industries, from healthcare to finance, and is increasingly making its way into makerspaces. The intersection of AI and makerspaces has the potential to unlock new opportunities for creativity, innovation, and learning.\n",
      "Here are some exciting ways AI can enhance makerspaces:\n",
      "1. AI-powered design tools"
     ]
    },
    {
     "name": "stdout",
     "output_type": "stream",
     "text": [
      " bright – and so is the future of makerspaces. Here’s how the two can intersect in exciting ways.\n",
      "The makerspace movement is all about empowering individuals and communities to create, innovate, and learn through hands-on experiences. Artificial intelligence (AI) is revolutionizing many industries, from healthcare to finance, and is increasingly making its way into makerspaces. The intersection of AI and makerspaces has the potential to unlock new opportunities for creativity, innovation, and learning.\n",
      "Here are some exciting ways AI can enhance makerspaces:\n",
      "1. AI-powered design tools:"
     ]
    },
    {
     "name": "stdout",
     "output_type": "stream",
     "text": [
      " bright – and so is the future of makerspaces. Here’s how the two can intersect in exciting ways.\n",
      "The makerspace movement is all about empowering individuals and communities to create, innovate, and learn through hands-on experiences. Artificial intelligence (AI) is revolutionizing many industries, from healthcare to finance, and is increasingly making its way into makerspaces. The intersection of AI and makerspaces has the potential to unlock new opportunities for creativity, innovation, and learning.\n",
      "Here are some exciting ways AI can enhance makerspaces:\n",
      "1. AI-powered design tools: AI"
     ]
    },
    {
     "name": "stdout",
     "output_type": "stream",
     "text": [
      " bright – and so is the future of makerspaces. Here’s how the two can intersect in exciting ways.\n",
      "The makerspace movement is all about empowering individuals and communities to create, innovate, and learn through hands-on experiences. Artificial intelligence (AI) is revolutionizing many industries, from healthcare to finance, and is increasingly making its way into makerspaces. The intersection of AI and makerspaces has the potential to unlock new opportunities for creativity, innovation, and learning.\n",
      "Here are some exciting ways AI can enhance makerspaces:\n",
      "1. AI-powered design tools: AI can"
     ]
    },
    {
     "name": "stdout",
     "output_type": "stream",
     "text": [
      " bright – and so is the future of makerspaces. Here’s how the two can intersect in exciting ways.\n",
      "The makerspace movement is all about empowering individuals and communities to create, innovate, and learn through hands-on experiences. Artificial intelligence (AI) is revolutionizing many industries, from healthcare to finance, and is increasingly making its way into makerspaces. The intersection of AI and makerspaces has the potential to unlock new opportunities for creativity, innovation, and learning.\n",
      "Here are some exciting ways AI can enhance makerspaces:\n",
      "1. AI-powered design tools: AI can help"
     ]
    },
    {
     "name": "stdout",
     "output_type": "stream",
     "text": [
      " bright – and so is the future of makerspaces. Here’s how the two can intersect in exciting ways.\n",
      "The makerspace movement is all about empowering individuals and communities to create, innovate, and learn through hands-on experiences. Artificial intelligence (AI) is revolutionizing many industries, from healthcare to finance, and is increasingly making its way into makerspaces. The intersection of AI and makerspaces has the potential to unlock new opportunities for creativity, innovation, and learning.\n",
      "Here are some exciting ways AI can enhance makerspaces:\n",
      "1. AI-powered design tools: AI can help makers"
     ]
    },
    {
     "name": "stdout",
     "output_type": "stream",
     "text": [
      " bright – and so is the future of makerspaces. Here’s how the two can intersect in exciting ways.\n",
      "The makerspace movement is all about empowering individuals and communities to create, innovate, and learn through hands-on experiences. Artificial intelligence (AI) is revolutionizing many industries, from healthcare to finance, and is increasingly making its way into makerspaces. The intersection of AI and makerspaces has the potential to unlock new opportunities for creativity, innovation, and learning.\n",
      "Here are some exciting ways AI can enhance makerspaces:\n",
      "1. AI-powered design tools: AI can help makers design"
     ]
    },
    {
     "name": "stdout",
     "output_type": "stream",
     "text": [
      " bright – and so is the future of makerspaces. Here’s how the two can intersect in exciting ways.\n",
      "The makerspace movement is all about empowering individuals and communities to create, innovate, and learn through hands-on experiences. Artificial intelligence (AI) is revolutionizing many industries, from healthcare to finance, and is increasingly making its way into makerspaces. The intersection of AI and makerspaces has the potential to unlock new opportunities for creativity, innovation, and learning.\n",
      "Here are some exciting ways AI can enhance makerspaces:\n",
      "1. AI-powered design tools: AI can help makers design and"
     ]
    },
    {
     "name": "stdout",
     "output_type": "stream",
     "text": [
      " bright – and so is the future of makerspaces. Here’s how the two can intersect in exciting ways.\n",
      "The makerspace movement is all about empowering individuals and communities to create, innovate, and learn through hands-on experiences. Artificial intelligence (AI) is revolutionizing many industries, from healthcare to finance, and is increasingly making its way into makerspaces. The intersection of AI and makerspaces has the potential to unlock new opportunities for creativity, innovation, and learning.\n",
      "Here are some exciting ways AI can enhance makerspaces:\n",
      "1. AI-powered design tools: AI can help makers design and optimize"
     ]
    },
    {
     "name": "stdout",
     "output_type": "stream",
     "text": [
      " bright – and so is the future of makerspaces. Here’s how the two can intersect in exciting ways.\n",
      "The makerspace movement is all about empowering individuals and communities to create, innovate, and learn through hands-on experiences. Artificial intelligence (AI) is revolutionizing many industries, from healthcare to finance, and is increasingly making its way into makerspaces. The intersection of AI and makerspaces has the potential to unlock new opportunities for creativity, innovation, and learning.\n",
      "Here are some exciting ways AI can enhance makerspaces:\n",
      "1. AI-powered design tools: AI can help makers design and optimize their"
     ]
    },
    {
     "name": "stdout",
     "output_type": "stream",
     "text": [
      " bright – and so is the future of makerspaces. Here’s how the two can intersect in exciting ways.\n",
      "The makerspace movement is all about empowering individuals and communities to create, innovate, and learn through hands-on experiences. Artificial intelligence (AI) is revolutionizing many industries, from healthcare to finance, and is increasingly making its way into makerspaces. The intersection of AI and makerspaces has the potential to unlock new opportunities for creativity, innovation, and learning.\n",
      "Here are some exciting ways AI can enhance makerspaces:\n",
      "1. AI-powered design tools: AI can help makers design and optimize their projects"
     ]
    },
    {
     "name": "stdout",
     "output_type": "stream",
     "text": [
      " bright – and so is the future of makerspaces. Here’s how the two can intersect in exciting ways.\n",
      "The makerspace movement is all about empowering individuals and communities to create, innovate, and learn through hands-on experiences. Artificial intelligence (AI) is revolutionizing many industries, from healthcare to finance, and is increasingly making its way into makerspaces. The intersection of AI and makerspaces has the potential to unlock new opportunities for creativity, innovation, and learning.\n",
      "Here are some exciting ways AI can enhance makerspaces:\n",
      "1. AI-powered design tools: AI can help makers design and optimize their projects more"
     ]
    },
    {
     "name": "stdout",
     "output_type": "stream",
     "text": [
      " bright – and so is the future of makerspaces. Here’s how the two can intersect in exciting ways.\n",
      "The makerspace movement is all about empowering individuals and communities to create, innovate, and learn through hands-on experiences. Artificial intelligence (AI) is revolutionizing many industries, from healthcare to finance, and is increasingly making its way into makerspaces. The intersection of AI and makerspaces has the potential to unlock new opportunities for creativity, innovation, and learning.\n",
      "Here are some exciting ways AI can enhance makerspaces:\n",
      "1. AI-powered design tools: AI can help makers design and optimize their projects more efficiently"
     ]
    },
    {
     "name": "stdout",
     "output_type": "stream",
     "text": [
      " bright – and so is the future of makerspaces. Here’s how the two can intersect in exciting ways.\n",
      "The makerspace movement is all about empowering individuals and communities to create, innovate, and learn through hands-on experiences. Artificial intelligence (AI) is revolutionizing many industries, from healthcare to finance, and is increasingly making its way into makerspaces. The intersection of AI and makerspaces has the potential to unlock new opportunities for creativity, innovation, and learning.\n",
      "Here are some exciting ways AI can enhance makerspaces:\n",
      "1. AI-powered design tools: AI can help makers design and optimize their projects more efficiently."
     ]
    },
    {
     "name": "stdout",
     "output_type": "stream",
     "text": [
      " bright – and so is the future of makerspaces. Here’s how the two can intersect in exciting ways.\n",
      "The makerspace movement is all about empowering individuals and communities to create, innovate, and learn through hands-on experiences. Artificial intelligence (AI) is revolutionizing many industries, from healthcare to finance, and is increasingly making its way into makerspaces. The intersection of AI and makerspaces has the potential to unlock new opportunities for creativity, innovation, and learning.\n",
      "Here are some exciting ways AI can enhance makerspaces:\n",
      "1. AI-powered design tools: AI can help makers design and optimize their projects more efficiently. For"
     ]
    },
    {
     "name": "stdout",
     "output_type": "stream",
     "text": [
      " bright – and so is the future of makerspaces. Here’s how the two can intersect in exciting ways.\n",
      "The makerspace movement is all about empowering individuals and communities to create, innovate, and learn through hands-on experiences. Artificial intelligence (AI) is revolutionizing many industries, from healthcare to finance, and is increasingly making its way into makerspaces. The intersection of AI and makerspaces has the potential to unlock new opportunities for creativity, innovation, and learning.\n",
      "Here are some exciting ways AI can enhance makerspaces:\n",
      "1. AI-powered design tools: AI can help makers design and optimize their projects more efficiently. For example"
     ]
    },
    {
     "name": "stdout",
     "output_type": "stream",
     "text": [
      " bright – and so is the future of makerspaces. Here’s how the two can intersect in exciting ways.\n",
      "The makerspace movement is all about empowering individuals and communities to create, innovate, and learn through hands-on experiences. Artificial intelligence (AI) is revolutionizing many industries, from healthcare to finance, and is increasingly making its way into makerspaces. The intersection of AI and makerspaces has the potential to unlock new opportunities for creativity, innovation, and learning.\n",
      "Here are some exciting ways AI can enhance makerspaces:\n",
      "1. AI-powered design tools: AI can help makers design and optimize their projects more efficiently. For example,"
     ]
    },
    {
     "name": "stdout",
     "output_type": "stream",
     "text": [
      " bright – and so is the future of makerspaces. Here’s how the two can intersect in exciting ways.\n",
      "The makerspace movement is all about empowering individuals and communities to create, innovate, and learn through hands-on experiences. Artificial intelligence (AI) is revolutionizing many industries, from healthcare to finance, and is increasingly making its way into makerspaces. The intersection of AI and makerspaces has the potential to unlock new opportunities for creativity, innovation, and learning.\n",
      "Here are some exciting ways AI can enhance makerspaces:\n",
      "1. AI-powered design tools: AI can help makers design and optimize their projects more efficiently. For example, AI"
     ]
    },
    {
     "name": "stdout",
     "output_type": "stream",
     "text": [
      " bright – and so is the future of makerspaces. Here’s how the two can intersect in exciting ways.\n",
      "The makerspace movement is all about empowering individuals and communities to create, innovate, and learn through hands-on experiences. Artificial intelligence (AI) is revolutionizing many industries, from healthcare to finance, and is increasingly making its way into makerspaces. The intersection of AI and makerspaces has the potential to unlock new opportunities for creativity, innovation, and learning.\n",
      "Here are some exciting ways AI can enhance makerspaces:\n",
      "1. AI-powered design tools: AI can help makers design and optimize their projects more efficiently. For example, AI-powered"
     ]
    },
    {
     "name": "stdout",
     "output_type": "stream",
     "text": [
      "\n"
     ]
    }
   ],
   "source": [
    "prompts = [\n",
    "    \"Hello, my name is\",\n",
    "    \"The capital of France is\",\n",
    "    \"The future of AI is\",\n",
    "]\n",
    "sampling_params = {\"temperature\": 0.8, \"top_p\": 0.95}\n",
    "\n",
    "print(\"\\n=== Testing asynchronous streaming generation ===\")\n",
    "\n",
    "\n",
    "async def main():\n",
    "    for prompt in prompts:\n",
    "        print(f\"\\nPrompt: {prompt}\")\n",
    "        print(\"Generated text: \", end=\"\", flush=True)\n",
    "\n",
    "        generator = await llm.async_generate(prompt, sampling_params, stream=True)\n",
    "        async for chunk in generator:\n",
    "            print(chunk[\"text\"], end=\"\", flush=True)\n",
    "        print()\n",
    "\n",
    "\n",
    "asyncio.run(main())"
   ]
  },
  {
   "cell_type": "code",
   "execution_count": 6,
   "metadata": {
    "execution": {
     "iopub.execute_input": "2025-01-27T01:59:22.647815Z",
     "iopub.status.busy": "2025-01-27T01:59:22.647668Z",
     "iopub.status.idle": "2025-01-27T01:59:22.668799Z",
     "shell.execute_reply": "2025-01-27T01:59:22.667921Z"
    }
   },
   "outputs": [],
   "source": [
    "llm.shutdown()"
   ]
  }
 ],
 "metadata": {
  "language_info": {
   "codemirror_mode": {
    "name": "ipython",
    "version": 3
   },
   "file_extension": ".py",
   "mimetype": "text/x-python",
   "name": "python",
   "nbconvert_exporter": "python",
   "pygments_lexer": "ipython3",
   "version": "3.9.21"
  }
 },
 "nbformat": 4,
 "nbformat_minor": 2
}
