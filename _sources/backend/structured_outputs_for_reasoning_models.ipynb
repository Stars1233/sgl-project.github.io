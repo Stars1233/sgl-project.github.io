{
 "cells": [
  {
   "cell_type": "markdown",
   "metadata": {},
   "source": [
    "# Structured Outputs For Reasoning Models\n",
    "\n",
    "When working with reasoning models that use special tokens like `<think>...</think>` to denote reasoning sections, you might want to allow free-form text within these sections while still enforcing grammar constraints on the rest of the output.\n",
    "\n",
    "SGLang provides a feature to disable grammar restrictions within reasoning sections. This is particularly useful for models that need to perform complex reasoning steps before providing a structured output.\n",
    "\n",
    "To enable this feature, use the `--reasoning-parser` flag which decide the think_end_token, such as `</think>`, when launching the server. You can also specify the reasoning parser using the `--reasoning-parser` flag.\n",
    "\n",
    "## Supported Models\n",
    "\n",
    "Currently, SGLang supports the following reasoning models:\n",
    "- [DeepSeek R1 series](https://huggingface.co/collections/deepseek-ai/deepseek-r1-678e1e131c0169c0bc89728d): The reasoning content is wrapped with `<think>` and `</think>` tags.\n",
    "- [QwQ](https://huggingface.co/Qwen/QwQ-32B): The reasoning content is wrapped with `<think>` and `</think>` tags.\n",
    "\n",
    "\n",
    "## Usage\n",
    "\n",
    "## OpenAI Compatible API"
   ]
  },
  {
   "cell_type": "markdown",
   "metadata": {},
   "source": [
    "Specify the `--grammar-backend`, `--reasoning-parser` option."
   ]
  },
  {
   "cell_type": "code",
   "execution_count": 1,
   "metadata": {
    "execution": {
     "iopub.execute_input": "2025-07-18T08:24:00.433442Z",
     "iopub.status.busy": "2025-07-18T08:24:00.433238Z",
     "iopub.status.idle": "2025-07-18T08:24:41.343457Z",
     "shell.execute_reply": "2025-07-18T08:24:41.342699Z"
    }
   },
   "outputs": [
    {
     "name": "stdout",
     "output_type": "stream",
     "text": [
      "[2025-07-18 08:24:17] server_args=ServerArgs(model_path='deepseek-ai/DeepSeek-R1-Distill-Qwen-7B', tokenizer_path='deepseek-ai/DeepSeek-R1-Distill-Qwen-7B', tokenizer_mode='auto', skip_tokenizer_init=False, skip_server_warmup=False, load_format='auto', model_loader_extra_config='{}', trust_remote_code=False, dtype='auto', kv_cache_dtype='auto', quantization=None, quantization_param_path=None, context_length=None, device='cuda', served_model_name='deepseek-ai/DeepSeek-R1-Distill-Qwen-7B', chat_template=None, completion_template=None, is_embedding=False, enable_multimodal=None, revision=None, hybrid_kvcache_ratio=None, swa_full_tokens_ratio=0.8, impl='auto', host='0.0.0.0', port=38248, nccl_port=None, mem_fraction_static=0.874, max_running_requests=200, max_total_tokens=20480, chunked_prefill_size=8192, max_prefill_tokens=16384, schedule_policy='fcfs', schedule_conservativeness=1.0, cpu_offload_gb=0, page_size=1, tp_size=1, pp_size=1, max_micro_batch_size=None, stream_interval=1, stream_output=False, random_seed=169821552, constrained_json_whitespace_pattern=None, watchdog_timeout=300, dist_timeout=None, download_dir=None, base_gpu_id=0, gpu_id_step=1, sleep_on_idle=False, log_level='info', log_level_http=None, log_requests=False, log_requests_level=0, crash_dump_folder=None, show_time_cost=False, enable_metrics=False, enable_metrics_for_all_schedulers=False, bucket_time_to_first_token=None, bucket_e2e_request_latency=None, bucket_inter_token_latency=None, collect_tokens_histogram=False, decode_log_interval=40, enable_request_time_stats_logging=False, kv_events_config=None, api_key=None, file_storage_path='sglang_storage', enable_cache_report=False, reasoning_parser='deepseek-r1', tool_call_parser=None, dp_size=1, load_balance_method='round_robin', dist_init_addr=None, nnodes=1, node_rank=0, json_model_override_args='{}', preferred_sampling_params=None, max_lora_rank=None, lora_target_modules=None, lora_paths=None, max_loras_per_batch=8, lora_backend='triton', attention_backend=None, sampling_backend='flashinfer', grammar_backend='xgrammar', mm_attention_backend=None, speculative_algorithm=None, speculative_draft_model_path=None, speculative_num_steps=None, speculative_eagle_topk=None, speculative_num_draft_tokens=None, speculative_accept_threshold_single=1.0, speculative_accept_threshold_acc=1.0, speculative_token_map=None, ep_size=1, enable_ep_moe=False, enable_deepep_moe=False, enable_flashinfer_moe=False, enable_flashinfer_allreduce_fusion=False, deepep_mode='auto', ep_num_redundant_experts=0, ep_dispatch_algorithm='static', init_expert_location='trivial', enable_eplb=False, eplb_algorithm='auto', eplb_rebalance_num_iterations=1000, eplb_rebalance_layers_per_chunk=None, expert_distribution_recorder_mode=None, expert_distribution_recorder_buffer_size=1000, enable_expert_distribution_metrics=False, deepep_config=None, moe_dense_tp_size=None, enable_double_sparsity=False, ds_channel_config_path=None, ds_heavy_channel_num=32, ds_heavy_token_num=256, ds_heavy_channel_type='qk', ds_sparse_decode_threshold=4096, disable_radix_cache=False, cuda_graph_max_bs=None, cuda_graph_bs=None, disable_cuda_graph=True, disable_cuda_graph_padding=False, enable_profile_cuda_graph=False, enable_nccl_nvls=False, enable_tokenizer_batch_encode=False, disable_outlines_disk_cache=False, disable_custom_all_reduce=False, enable_mscclpp=False, disable_overlap_schedule=False, disable_overlap_cg_plan=False, enable_mixed_chunk=False, enable_dp_attention=False, enable_dp_lm_head=False, enable_two_batch_overlap=False, enable_torch_compile=False, torch_compile_max_bs=32, torchao_config='', enable_nan_detection=False, enable_p2p_check=False, triton_attention_reduce_in_fp32=False, triton_attention_num_kv_splits=8, num_continuous_decode_steps=1, delete_ckpt_after_loading=False, enable_memory_saver=False, allow_auto_truncate=False, enable_custom_logit_processor=False, enable_hierarchical_cache=False, hicache_ratio=2.0, hicache_size=0, hicache_write_policy='write_through_selective', hicache_io_backend='', hicache_storage_backend=None, flashinfer_mla_disable_ragged=False, disable_shared_experts_fusion=False, disable_chunked_prefix_cache=False, disable_fast_image_processor=False, enable_return_hidden_states=False, enable_triton_kernel_moe=False, warmups=None, disable_hybrid_swa_memory=False, debug_tensor_dump_output_folder=None, debug_tensor_dump_input_file=None, debug_tensor_dump_inject=False, debug_tensor_dump_prefill_only=False, disaggregation_mode='null', disaggregation_transfer_backend='mooncake', disaggregation_bootstrap_port=8998, disaggregation_decode_tp=None, disaggregation_decode_dp=None, disaggregation_prefill_pp=1, disaggregation_ib_device=None, num_reserved_decode_tokens=512, pdlb_url=None, custom_weight_loader=[], weight_loader_disable_mmap=False, enable_pdmux=False, sm_group_num=3)\n"
     ]
    },
    {
     "name": "stdout",
     "output_type": "stream",
     "text": [
      "[2025-07-18 08:24:29] Attention backend not set. Use fa3 backend by default.\n",
      "[2025-07-18 08:24:29] Init torch distributed begin.\n"
     ]
    },
    {
     "name": "stdout",
     "output_type": "stream",
     "text": [
      "[2025-07-18 08:24:30] Init torch distributed ends. mem usage=0.00 GB\n"
     ]
    },
    {
     "name": "stdout",
     "output_type": "stream",
     "text": [
      "[2025-07-18 08:24:31] Load weight begin. avail mem=53.55 GB\n"
     ]
    },
    {
     "name": "stdout",
     "output_type": "stream",
     "text": [
      "[2025-07-18 08:24:31] Using model weights format ['*.safetensors']\n",
      "\r",
      "Loading safetensors checkpoint shards:   0% Completed | 0/2 [00:00<?, ?it/s]\n"
     ]
    },
    {
     "name": "stdout",
     "output_type": "stream",
     "text": [
      "\r",
      "Loading safetensors checkpoint shards:  50% Completed | 1/2 [00:01<00:01,  1.37s/it]\n"
     ]
    },
    {
     "name": "stdout",
     "output_type": "stream",
     "text": [
      "\r",
      "Loading safetensors checkpoint shards: 100% Completed | 2/2 [00:02<00:00,  1.27s/it]\n",
      "\r",
      "Loading safetensors checkpoint shards: 100% Completed | 2/2 [00:02<00:00,  1.29s/it]\n",
      "\n",
      "[2025-07-18 08:24:34] Load weight end. type=Qwen2ForCausalLM, dtype=torch.bfloat16, avail mem=39.19 GB, mem usage=14.35 GB.\n",
      "[2025-07-18 08:24:34] KV Cache is allocated. #tokens: 20480, K size: 0.55 GB, V size: 0.55 GB\n",
      "[2025-07-18 08:24:34] Memory pool end. avail mem=37.82 GB\n"
     ]
    },
    {
     "name": "stdout",
     "output_type": "stream",
     "text": [
      "[2025-07-18 08:24:34] max_total_num_tokens=20480, chunked_prefill_size=8192, max_prefill_tokens=16384, max_running_requests=200, context_len=131072, available_gpu_mem=37.72 GB\n"
     ]
    },
    {
     "name": "stdout",
     "output_type": "stream",
     "text": [
      "[2025-07-18 08:24:35] INFO:     Started server process [2718117]\n",
      "[2025-07-18 08:24:35] INFO:     Waiting for application startup.\n",
      "[2025-07-18 08:24:35] INFO:     Application startup complete.\n",
      "[2025-07-18 08:24:35] INFO:     Uvicorn running on http://0.0.0.0:38248 (Press CTRL+C to quit)\n"
     ]
    },
    {
     "name": "stdout",
     "output_type": "stream",
     "text": [
      "[2025-07-18 08:24:36] INFO:     127.0.0.1:52442 - \"GET /v1/models HTTP/1.1\" 200 OK\n",
      "[2025-07-18 08:24:36] INFO:     127.0.0.1:52452 - \"GET /get_model_info HTTP/1.1\" 200 OK\n",
      "[2025-07-18 08:24:36] Prefill batch. #new-seq: 1, #new-token: 7, #cached-token: 0, token usage: 0.00, #running-req: 0, #queue-req: 0, timestamp: 2025-07-18T08:24:36.405288\n"
     ]
    },
    {
     "name": "stdout",
     "output_type": "stream",
     "text": [
      "[2025-07-18 08:24:37] INFO:     127.0.0.1:52460 - \"POST /generate HTTP/1.1\" 200 OK\n",
      "[2025-07-18 08:24:37] The server is fired up and ready to roll!\n"
     ]
    },
    {
     "data": {
      "text/html": [
       "<strong style='color: #00008B;'><br><br>                    NOTE: Typically, the server runs in a separate terminal.<br>                    In this notebook, we run the server and notebook code together, so their outputs are combined.<br>                    To improve clarity, the server logs are displayed in the original black color, while the notebook outputs are highlighted in blue.<br>                    We are running those notebooks in a CI parallel environment, so the throughput is not representative of the actual performance.<br>                    </strong>"
      ],
      "text/plain": [
       "<IPython.core.display.HTML object>"
      ]
     },
     "metadata": {},
     "output_type": "display_data"
    }
   ],
   "source": [
    "import openai\n",
    "import os\n",
    "from sglang.test.test_utils import is_in_ci\n",
    "\n",
    "if is_in_ci():\n",
    "    from patch import launch_server_cmd\n",
    "else:\n",
    "    from sglang.utils import launch_server_cmd\n",
    "\n",
    "from sglang.utils import wait_for_server, print_highlight, terminate_process\n",
    "\n",
    "os.environ[\"TOKENIZERS_PARALLELISM\"] = \"false\"\n",
    "\n",
    "\n",
    "server_process, port = launch_server_cmd(\n",
    "    \"python -m sglang.launch_server --model-path deepseek-ai/DeepSeek-R1-Distill-Qwen-7B --host 0.0.0.0 --reasoning-parser deepseek-r1\"\n",
    ")\n",
    "\n",
    "wait_for_server(f\"http://localhost:{port}\")\n",
    "client = openai.Client(base_url=f\"http://127.0.0.1:{port}/v1\", api_key=\"None\")"
   ]
  },
  {
   "cell_type": "markdown",
   "metadata": {},
   "source": [
    "### JSON\n",
    "\n",
    "you can directly define a JSON schema or use [Pydantic](https://docs.pydantic.dev/latest/) to define and validate the response."
   ]
  },
  {
   "cell_type": "markdown",
   "metadata": {},
   "source": [
    "**Using Pydantic**"
   ]
  },
  {
   "cell_type": "code",
   "execution_count": 2,
   "metadata": {
    "execution": {
     "iopub.execute_input": "2025-07-18T08:24:41.346110Z",
     "iopub.status.busy": "2025-07-18T08:24:41.345503Z",
     "iopub.status.idle": "2025-07-18T08:24:46.199581Z",
     "shell.execute_reply": "2025-07-18T08:24:46.198972Z"
    }
   },
   "outputs": [
    {
     "name": "stdout",
     "output_type": "stream",
     "text": [
      "[2025-07-18 08:24:41] Prefill batch. #new-seq: 1, #new-token: 21, #cached-token: 1, token usage: 0.00, #running-req: 0, #queue-req: 0, timestamp: 2025-07-18T08:24:41.507178\n"
     ]
    },
    {
     "name": "stdout",
     "output_type": "stream",
     "text": [
      "[2025-07-18 08:24:42] Decode batch. #running-req: 1, #token: 55, token usage: 0.00, cuda graph: False, gen throughput (token/s): 5.17, #queue-req: 0, timestamp: 2025-07-18T08:24:42.584550\n"
     ]
    },
    {
     "name": "stdout",
     "output_type": "stream",
     "text": [
      "[2025-07-18 08:24:42] Decode batch. #running-req: 1, #token: 95, token usage: 0.00, cuda graph: False, gen throughput (token/s): 107.68, #queue-req: 0, timestamp: 2025-07-18T08:24:42.956031\n"
     ]
    },
    {
     "name": "stdout",
     "output_type": "stream",
     "text": [
      "[2025-07-18 08:24:43] Decode batch. #running-req: 1, #token: 135, token usage: 0.01, cuda graph: False, gen throughput (token/s): 107.41, #queue-req: 0, timestamp: 2025-07-18T08:24:43.328449\n"
     ]
    },
    {
     "name": "stdout",
     "output_type": "stream",
     "text": [
      "[2025-07-18 08:24:43] Decode batch. #running-req: 1, #token: 175, token usage: 0.01, cuda graph: False, gen throughput (token/s): 108.09, #queue-req: 0, timestamp: 2025-07-18T08:24:43.698521\n"
     ]
    },
    {
     "name": "stdout",
     "output_type": "stream",
     "text": [
      "[2025-07-18 08:24:44] Decode batch. #running-req: 1, #token: 215, token usage: 0.01, cuda graph: False, gen throughput (token/s): 108.21, #queue-req: 0, timestamp: 2025-07-18T08:24:44.068158\n"
     ]
    },
    {
     "name": "stdout",
     "output_type": "stream",
     "text": [
      "[2025-07-18 08:24:44] Decode batch. #running-req: 1, #token: 255, token usage: 0.01, cuda graph: False, gen throughput (token/s): 107.78, #queue-req: 0, timestamp: 2025-07-18T08:24:44.439300\n"
     ]
    },
    {
     "name": "stdout",
     "output_type": "stream",
     "text": [
      "[2025-07-18 08:24:44] Decode batch. #running-req: 1, #token: 295, token usage: 0.01, cuda graph: False, gen throughput (token/s): 106.91, #queue-req: 0, timestamp: 2025-07-18T08:24:44.813439\n"
     ]
    },
    {
     "name": "stdout",
     "output_type": "stream",
     "text": [
      "[2025-07-18 08:24:45] Decode batch. #running-req: 1, #token: 335, token usage: 0.02, cuda graph: False, gen throughput (token/s): 107.17, #queue-req: 0, timestamp: 2025-07-18T08:24:45.186661\n"
     ]
    },
    {
     "name": "stdout",
     "output_type": "stream",
     "text": [
      "[2025-07-18 08:24:45] Decode batch. #running-req: 1, #token: 375, token usage: 0.02, cuda graph: False, gen throughput (token/s): 107.73, #queue-req: 0, timestamp: 2025-07-18T08:24:45.557977\n"
     ]
    },
    {
     "name": "stdout",
     "output_type": "stream",
     "text": [
      "[2025-07-18 08:24:45] Decode batch. #running-req: 1, #token: 415, token usage: 0.02, cuda graph: False, gen throughput (token/s): 107.09, #queue-req: 0, timestamp: 2025-07-18T08:24:45.931483\n"
     ]
    },
    {
     "name": "stdout",
     "output_type": "stream",
     "text": [
      "[2025-07-18 08:24:46] INFO:     127.0.0.1:41896 - \"POST /v1/chat/completions HTTP/1.1\" 200 OK\n"
     ]
    },
    {
     "data": {
      "text/html": [
       "<strong style='color: #00008B;'>reasoing_content: Alright, so the user asked for the information and population of the capital of France in JSON format. I immediately thought about what the capital is—Paris. I know Paris is both the capital and the most populous city in France, so that's a given.<br><br>Next, I considered the population. I remember that Paris has a large population, but I'm not exactly sure of the current number. I think it's around 2 million, but I'm not 100% certain. I should double-check that to make sure I provide accurate information.<br><br>I also need to structure this in JSON. JSON requires key-value pairs, so I'll need to define the keys appropriately. Maybe \"city\" for the name, \"country\" for the capital, and \"population\" for the number. I should make sure the syntax is correct, with proper commas and quotation marks.<br><br>Wait, I should also think about the format. The user wants it in JSON, so I'll present it as a JSON object. I'll make sure there are no typos and that the data is correctly formatted. Maybe I'll write it out step by step to avoid mistakes.<br><br>Another thing to consider is whether the population figure is up to date. Since I'm not accessing real-time data, I'll go with the most recent estimate I have. I recall that Paris has grown a bit in recent years, so 2 million seems reasonable, but I should confirm if it's 2.1 million or something else.<br><br>I also wonder if the user needs more details, like the area or the establishment year of the city, but the query specifically mentions population, so I'll stick to that. Still, it's good to know that I can provide additional information if needed.<br><br>Finally, I'll present the JSON in a clear and concise manner, making sure it's easy for the user to understand and use. I'll review the JSON structure to ensure there are no syntax errors before sending it back to the user.<br><br><br>content: {\"name\": \"Paris\", \"population\": 2145000}</strong>"
      ],
      "text/plain": [
       "<IPython.core.display.HTML object>"
      ]
     },
     "metadata": {},
     "output_type": "display_data"
    }
   ],
   "source": [
    "from pydantic import BaseModel, Field\n",
    "\n",
    "\n",
    "# Define the schema using Pydantic\n",
    "class CapitalInfo(BaseModel):\n",
    "    name: str = Field(..., pattern=r\"^\\w+$\", description=\"Name of the capital city\")\n",
    "    population: int = Field(..., description=\"Population of the capital city\")\n",
    "\n",
    "\n",
    "response = client.chat.completions.create(\n",
    "    model=\"deepseek-ai/DeepSeek-R1-Distill-Qwen-7B\",\n",
    "    messages=[\n",
    "        {\n",
    "            \"role\": \"assistant\",\n",
    "            \"content\": \"Give me the information and population of the capital of France in the JSON format.\",\n",
    "        },\n",
    "    ],\n",
    "    temperature=0,\n",
    "    max_tokens=2048,\n",
    "    response_format={\n",
    "        \"type\": \"json_schema\",\n",
    "        \"json_schema\": {\n",
    "            \"name\": \"foo\",\n",
    "            # convert the pydantic model to json schema\n",
    "            \"schema\": CapitalInfo.model_json_schema(),\n",
    "        },\n",
    "    },\n",
    ")\n",
    "\n",
    "print_highlight(\n",
    "    f\"reasoing_content: {response.choices[0].message.reasoning_content}\\n\\ncontent: {response.choices[0].message.content}\"\n",
    ")"
   ]
  },
  {
   "cell_type": "markdown",
   "metadata": {},
   "source": [
    "**JSON Schema Directly**\n"
   ]
  },
  {
   "cell_type": "code",
   "execution_count": 3,
   "metadata": {
    "execution": {
     "iopub.execute_input": "2025-07-18T08:24:46.201375Z",
     "iopub.status.busy": "2025-07-18T08:24:46.201090Z",
     "iopub.status.idle": "2025-07-18T08:24:49.064157Z",
     "shell.execute_reply": "2025-07-18T08:24:49.063643Z"
    }
   },
   "outputs": [
    {
     "name": "stdout",
     "output_type": "stream",
     "text": [
      "[2025-07-18 08:24:46] Prefill batch. #new-seq: 1, #new-token: 1, #cached-token: 21, token usage: 0.00, #running-req: 0, #queue-req: 0, timestamp: 2025-07-18T08:24:46.219517\n",
      "[2025-07-18 08:24:46] Decode batch. #running-req: 1, #token: 34, token usage: 0.00, cuda graph: False, gen throughput (token/s): 97.82, #queue-req: 0, timestamp: 2025-07-18T08:24:46.340411\n"
     ]
    },
    {
     "name": "stdout",
     "output_type": "stream",
     "text": [
      "[2025-07-18 08:24:46] Decode batch. #running-req: 1, #token: 74, token usage: 0.00, cuda graph: False, gen throughput (token/s): 107.75, #queue-req: 0, timestamp: 2025-07-18T08:24:46.711643\n"
     ]
    },
    {
     "name": "stdout",
     "output_type": "stream",
     "text": [
      "[2025-07-18 08:24:47] Decode batch. #running-req: 1, #token: 114, token usage: 0.01, cuda graph: False, gen throughput (token/s): 109.50, #queue-req: 0, timestamp: 2025-07-18T08:24:47.076951\n"
     ]
    },
    {
     "name": "stdout",
     "output_type": "stream",
     "text": [
      "[2025-07-18 08:24:47] Decode batch. #running-req: 1, #token: 154, token usage: 0.01, cuda graph: False, gen throughput (token/s): 109.55, #queue-req: 0, timestamp: 2025-07-18T08:24:47.442092\n"
     ]
    },
    {
     "name": "stdout",
     "output_type": "stream",
     "text": [
      "[2025-07-18 08:24:47] Decode batch. #running-req: 1, #token: 194, token usage: 0.01, cuda graph: False, gen throughput (token/s): 108.73, #queue-req: 0, timestamp: 2025-07-18T08:24:47.809968\n"
     ]
    },
    {
     "name": "stdout",
     "output_type": "stream",
     "text": [
      "[2025-07-18 08:24:48] Decode batch. #running-req: 1, #token: 234, token usage: 0.01, cuda graph: False, gen throughput (token/s): 108.52, #queue-req: 0, timestamp: 2025-07-18T08:24:48.178553\n"
     ]
    },
    {
     "name": "stdout",
     "output_type": "stream",
     "text": [
      "[2025-07-18 08:24:48] Decode batch. #running-req: 1, #token: 274, token usage: 0.01, cuda graph: False, gen throughput (token/s): 109.38, #queue-req: 0, timestamp: 2025-07-18T08:24:48.544241\n"
     ]
    },
    {
     "name": "stdout",
     "output_type": "stream",
     "text": [
      "[2025-07-18 08:24:48] Decode batch. #running-req: 1, #token: 314, token usage: 0.02, cuda graph: False, gen throughput (token/s): 109.09, #queue-req: 0, timestamp: 2025-07-18T08:24:48.910909\n",
      "[2025-07-18 08:24:49] INFO:     127.0.0.1:41896 - \"POST /v1/chat/completions HTTP/1.1\" 200 OK\n"
     ]
    },
    {
     "data": {
      "text/html": [
       "<strong style='color: #00008B;'>reasoing_content: Alright, so the user asked for the information and population of the capital of France in JSON format. I immediately thought about what the capital is—Paris. Then, I considered the population. I know it's a big city, but I'm not exactly sure of the current number. I remember it's over 3 million, but I'm not certain if it's 3.5 or 3.6. I should double-check that.<br><br>Next, I thought about the structure. The user wants JSON, so I need to format it correctly with keys like \"city\", \"population\", and maybe \"country\". I should make sure the syntax is correct—no typos, proper commas, and brackets. <br><br>I also considered the user's possible needs. They might be doing a project or a presentation, so providing accurate data is crucial. Maybe they're a student learning about France's capitals or someone compiling demographic data. Either way, precision is key.<br><br>I decided to present the information clearly, ensuring the JSON is valid and easy to read. I included the population as 3.617 million, which I believe is the most recent figure I could recall. I also added a comment to explain the units, just in case the user wasn't sure.<br><br>Finally, I made sure to offer further help in case they needed more details or adjustments. That way, the response is helpful and user-friendly.<br><br><br>content: {<br>  \"name\": \"Paris\",<br>  \"population\": 3617000<br>}</strong>"
      ],
      "text/plain": [
       "<IPython.core.display.HTML object>"
      ]
     },
     "metadata": {},
     "output_type": "display_data"
    }
   ],
   "source": [
    "import json\n",
    "\n",
    "json_schema = json.dumps(\n",
    "    {\n",
    "        \"type\": \"object\",\n",
    "        \"properties\": {\n",
    "            \"name\": {\"type\": \"string\", \"pattern\": \"^[\\\\w]+$\"},\n",
    "            \"population\": {\"type\": \"integer\"},\n",
    "        },\n",
    "        \"required\": [\"name\", \"population\"],\n",
    "    }\n",
    ")\n",
    "\n",
    "response = client.chat.completions.create(\n",
    "    model=\"deepseek-ai/DeepSeek-R1-Distill-Qwen-7B\",\n",
    "    messages=[\n",
    "        {\n",
    "            \"role\": \"assistant\",\n",
    "            \"content\": \"Give me the information and population of the capital of France in the JSON format.\",\n",
    "        },\n",
    "    ],\n",
    "    temperature=0,\n",
    "    max_tokens=2048,\n",
    "    response_format={\n",
    "        \"type\": \"json_schema\",\n",
    "        \"json_schema\": {\"name\": \"foo\", \"schema\": json.loads(json_schema)},\n",
    "    },\n",
    ")\n",
    "\n",
    "print_highlight(\n",
    "    f\"reasoing_content: {response.choices[0].message.reasoning_content}\\n\\ncontent: {response.choices[0].message.content}\"\n",
    ")"
   ]
  },
  {
   "cell_type": "markdown",
   "metadata": {},
   "source": [
    "### EBNF"
   ]
  },
  {
   "cell_type": "code",
   "execution_count": 4,
   "metadata": {
    "execution": {
     "iopub.execute_input": "2025-07-18T08:24:49.065770Z",
     "iopub.status.busy": "2025-07-18T08:24:49.065543Z",
     "iopub.status.idle": "2025-07-18T08:24:54.834784Z",
     "shell.execute_reply": "2025-07-18T08:24:54.834173Z"
    }
   },
   "outputs": [
    {
     "name": "stdout",
     "output_type": "stream",
     "text": [
      "[2025-07-18 08:24:49] Prefill batch. #new-seq: 1, #new-token: 28, #cached-token: 1, token usage: 0.00, #running-req: 0, #queue-req: 0, timestamp: 2025-07-18T08:24:49.071620\n"
     ]
    },
    {
     "name": "stdout",
     "output_type": "stream",
     "text": [
      "[2025-07-18 08:24:49] Decode batch. #running-req: 1, #token: 53, token usage: 0.00, cuda graph: False, gen throughput (token/s): 99.33, #queue-req: 0, timestamp: 2025-07-18T08:24:49.313621\n"
     ]
    },
    {
     "name": "stdout",
     "output_type": "stream",
     "text": [
      "[2025-07-18 08:24:49] Decode batch. #running-req: 1, #token: 93, token usage: 0.00, cuda graph: False, gen throughput (token/s): 108.50, #queue-req: 0, timestamp: 2025-07-18T08:24:49.682275\n"
     ]
    },
    {
     "name": "stdout",
     "output_type": "stream",
     "text": [
      "[2025-07-18 08:24:50] Decode batch. #running-req: 1, #token: 133, token usage: 0.01, cuda graph: False, gen throughput (token/s): 108.36, #queue-req: 0, timestamp: 2025-07-18T08:24:50.051423\n"
     ]
    },
    {
     "name": "stdout",
     "output_type": "stream",
     "text": [
      "[2025-07-18 08:24:50] Decode batch. #running-req: 1, #token: 173, token usage: 0.01, cuda graph: False, gen throughput (token/s): 108.33, #queue-req: 0, timestamp: 2025-07-18T08:24:50.420665\n"
     ]
    },
    {
     "name": "stdout",
     "output_type": "stream",
     "text": [
      "[2025-07-18 08:24:50] Decode batch. #running-req: 1, #token: 213, token usage: 0.01, cuda graph: False, gen throughput (token/s): 108.94, #queue-req: 0, timestamp: 2025-07-18T08:24:50.787842\n"
     ]
    },
    {
     "name": "stdout",
     "output_type": "stream",
     "text": [
      "[2025-07-18 08:24:51] Decode batch. #running-req: 1, #token: 253, token usage: 0.01, cuda graph: False, gen throughput (token/s): 108.64, #queue-req: 0, timestamp: 2025-07-18T08:24:51.156037\n"
     ]
    },
    {
     "name": "stdout",
     "output_type": "stream",
     "text": [
      "[2025-07-18 08:24:51] Decode batch. #running-req: 1, #token: 293, token usage: 0.01, cuda graph: False, gen throughput (token/s): 109.38, #queue-req: 0, timestamp: 2025-07-18T08:24:51.521742\n"
     ]
    },
    {
     "name": "stdout",
     "output_type": "stream",
     "text": [
      "[2025-07-18 08:24:51] Decode batch. #running-req: 1, #token: 333, token usage: 0.02, cuda graph: False, gen throughput (token/s): 109.84, #queue-req: 0, timestamp: 2025-07-18T08:24:51.885907\n"
     ]
    },
    {
     "name": "stdout",
     "output_type": "stream",
     "text": [
      "[2025-07-18 08:24:52] Decode batch. #running-req: 1, #token: 373, token usage: 0.02, cuda graph: False, gen throughput (token/s): 111.13, #queue-req: 0, timestamp: 2025-07-18T08:24:52.245847\n"
     ]
    },
    {
     "name": "stdout",
     "output_type": "stream",
     "text": [
      "[2025-07-18 08:24:52] Decode batch. #running-req: 1, #token: 413, token usage: 0.02, cuda graph: False, gen throughput (token/s): 110.82, #queue-req: 0, timestamp: 2025-07-18T08:24:52.606804\n"
     ]
    },
    {
     "name": "stdout",
     "output_type": "stream",
     "text": [
      "[2025-07-18 08:24:52] Decode batch. #running-req: 1, #token: 453, token usage: 0.02, cuda graph: False, gen throughput (token/s): 111.22, #queue-req: 0, timestamp: 2025-07-18T08:24:52.966439\n"
     ]
    },
    {
     "name": "stdout",
     "output_type": "stream",
     "text": [
      "[2025-07-18 08:24:53] Decode batch. #running-req: 1, #token: 493, token usage: 0.02, cuda graph: False, gen throughput (token/s): 105.96, #queue-req: 0, timestamp: 2025-07-18T08:24:53.343926\n"
     ]
    },
    {
     "name": "stdout",
     "output_type": "stream",
     "text": [
      "[2025-07-18 08:24:53] Decode batch. #running-req: 1, #token: 533, token usage: 0.03, cuda graph: False, gen throughput (token/s): 88.16, #queue-req: 0, timestamp: 2025-07-18T08:24:53.797626\n"
     ]
    },
    {
     "name": "stdout",
     "output_type": "stream",
     "text": [
      "[2025-07-18 08:24:54] Decode batch. #running-req: 1, #token: 573, token usage: 0.03, cuda graph: False, gen throughput (token/s): 88.76, #queue-req: 0, timestamp: 2025-07-18T08:24:54.248285\n"
     ]
    },
    {
     "name": "stdout",
     "output_type": "stream",
     "text": [
      "[2025-07-18 08:24:54] Decode batch. #running-req: 1, #token: 613, token usage: 0.03, cuda graph: False, gen throughput (token/s): 88.79, #queue-req: 0, timestamp: 2025-07-18T08:24:54.698771\n",
      "[2025-07-18 08:24:54] INFO:     127.0.0.1:41896 - \"POST /v1/chat/completions HTTP/1.1\" 200 OK\n"
     ]
    },
    {
     "data": {
      "text/html": [
       "<strong style='color: #00008B;'>reasoing_content: Okay, so the user asked for the information and population of the capital of France in JSON format. I responded with Paris, its population of around 2.1 million, and included some key facts. Now, the user is following up with a new query about the capitals of other countries. They provided a list of countries and want the same JSON structure for each.<br><br>First, I need to figure out what the user is really looking for. They might be creating a dataset or a project that requires the capitals of various nations. Maybe they're a student working on a geography assignment or a developer building a mapping application. Either way, they need accurate and reliable data.<br><br>Looking at the list they provided: Albania, Algeria, Australia, Austria, Brazil, Canada, China, Colombia, Denmark, Egypt, France, Germany, Greece, Hungary, Iceland, India, Indonesia, Ireland, Italy, Japan, Mexico, Netherlands, Nigeria, Poland, Portugal, Russia, Saudi Arabia, Spain, Sweden, Switzerland, Thailand, Turkey, UK, USA. That's quite a comprehensive list, covering multiple continents.<br><br>I should make sure each country's capital is correct. I know some capitals off the top of my head, like Albania's Tirana, Algeria's Algiers, Australia's Canberra. But I should double-check the rest to avoid mistakes. For example, I'm pretty sure Germany's capital is Berlin, but I should confirm that. Same with countries like Mexico and Spain, their capitals are Mexico City and Madrid, respectively.<br><br>The user wants the information in JSON format, so each country will have a key with its name and capital, along with the population. I'll need to look up the most recent population estimates for each capital. Population numbers can change, so it's important to use the latest data. For example, as of 2023, Paris has a population around 2.1 million, but it's growing, so maybe I should note that the figure is approximate.<br><br>I should structure the JSON array correctly, ensuring each object has the same fields. Also, I'll add a comment at the top to explain the data, making it clear for anyone reading the JSON.<br><br>I need to be careful with the syntax to avoid errors. JSON requires proper quotation marks and commas. Each object in the array should be separated by a comma, and the entire structure should be valid. Maybe I'll write it out step by step to ensure accuracy.<br><br>Additionally, I should consider if the user needs more details, like the country's area or other statistics, but since they only asked for population, I'll stick to that. However, offering to include more data in the future might be a good idea, showing flexibility.<br><br>Lastly, I'll make sure the JSON is well-formatted and easy to read, perhaps by indenting it for better readability. That way, the user can easily parse the data without issues.<br><br><br>content: London is the capital of France</strong>"
      ],
      "text/plain": [
       "<IPython.core.display.HTML object>"
      ]
     },
     "metadata": {},
     "output_type": "display_data"
    }
   ],
   "source": [
    "ebnf_grammar = \"\"\"\n",
    "root ::= city | description\n",
    "city ::= \"London\" | \"Paris\" | \"Berlin\" | \"Rome\"\n",
    "description ::= city \" is \" status\n",
    "status ::= \"the capital of \" country\n",
    "country ::= \"England\" | \"France\" | \"Germany\" | \"Italy\"\n",
    "\"\"\"\n",
    "\n",
    "response = client.chat.completions.create(\n",
    "    model=\"deepseek-ai/DeepSeek-R1-Distill-Qwen-7B\",\n",
    "    messages=[\n",
    "        {\"role\": \"system\", \"content\": \"You are a helpful geography bot.\"},\n",
    "        {\n",
    "            \"role\": \"assistant\",\n",
    "            \"content\": \"Give me the information and population of the capital of France in the JSON format.\",\n",
    "        },\n",
    "    ],\n",
    "    temperature=0,\n",
    "    max_tokens=2048,\n",
    "    extra_body={\"ebnf\": ebnf_grammar},\n",
    ")\n",
    "\n",
    "print_highlight(\n",
    "    f\"reasoing_content: {response.choices[0].message.reasoning_content}\\n\\ncontent: {response.choices[0].message.content}\"\n",
    ")"
   ]
  },
  {
   "cell_type": "markdown",
   "metadata": {},
   "source": [
    "### Regular expression"
   ]
  },
  {
   "cell_type": "code",
   "execution_count": 5,
   "metadata": {
    "execution": {
     "iopub.execute_input": "2025-07-18T08:24:54.836546Z",
     "iopub.status.busy": "2025-07-18T08:24:54.836255Z",
     "iopub.status.idle": "2025-07-18T08:24:55.954656Z",
     "shell.execute_reply": "2025-07-18T08:24:55.954044Z"
    }
   },
   "outputs": [
    {
     "name": "stdout",
     "output_type": "stream",
     "text": [
      "[2025-07-18 08:24:54] Prefill batch. #new-seq: 1, #new-token: 11, #cached-token: 2, token usage: 0.00, #running-req: 0, #queue-req: 0, timestamp: 2025-07-18T08:24:54.841416\n"
     ]
    },
    {
     "name": "stdout",
     "output_type": "stream",
     "text": [
      "[2025-07-18 08:24:55] Decode batch. #running-req: 1, #token: 40, token usage: 0.00, cuda graph: False, gen throughput (token/s): 97.77, #queue-req: 0, timestamp: 2025-07-18T08:24:55.107876\n"
     ]
    },
    {
     "name": "stdout",
     "output_type": "stream",
     "text": [
      "[2025-07-18 08:24:55] Decode batch. #running-req: 1, #token: 80, token usage: 0.00, cuda graph: False, gen throughput (token/s): 109.96, #queue-req: 0, timestamp: 2025-07-18T08:24:55.471640\n"
     ]
    },
    {
     "name": "stdout",
     "output_type": "stream",
     "text": [
      "[2025-07-18 08:24:55] Decode batch. #running-req: 1, #token: 120, token usage: 0.01, cuda graph: False, gen throughput (token/s): 111.16, #queue-req: 0, timestamp: 2025-07-18T08:24:55.831491\n",
      "[2025-07-18 08:24:55] INFO:     127.0.0.1:41896 - \"POST /v1/chat/completions HTTP/1.1\" 200 OK\n"
     ]
    },
    {
     "data": {
      "text/html": [
       "<strong style='color: #00008B;'>reasoing_content: Alright, so the user just asked, \"What is the capital of France?\" Hmm, that's a pretty straightforward question. I should make sure I provide a clear and accurate answer. Let me think, Paris is definitely the capital. But wait, is there any chance I might have mixed it up with another country? No, I'm pretty sure France's capital is Paris. Maybe I should double-check that to be certain. Yeah, Paris is where the government is located, and that's the capital. Okay, I feel confident about that. I'll just state it directly.<br><br><br>content: Paris</strong>"
      ],
      "text/plain": [
       "<IPython.core.display.HTML object>"
      ]
     },
     "metadata": {},
     "output_type": "display_data"
    }
   ],
   "source": [
    "response = client.chat.completions.create(\n",
    "    model=\"deepseek-ai/DeepSeek-R1-Distill-Qwen-7B\",\n",
    "    messages=[\n",
    "        {\"role\": \"assistant\", \"content\": \"What is the capital of France?\"},\n",
    "    ],\n",
    "    temperature=0,\n",
    "    max_tokens=2048,\n",
    "    extra_body={\"regex\": \"(Paris|London)\"},\n",
    ")\n",
    "\n",
    "print_highlight(\n",
    "    f\"reasoing_content: {response.choices[0].message.reasoning_content}\\n\\ncontent: {response.choices[0].message.content}\"\n",
    ")"
   ]
  },
  {
   "cell_type": "markdown",
   "metadata": {},
   "source": [
    "### Structural Tag"
   ]
  },
  {
   "cell_type": "code",
   "execution_count": 6,
   "metadata": {
    "execution": {
     "iopub.execute_input": "2025-07-18T08:24:55.956492Z",
     "iopub.status.busy": "2025-07-18T08:24:55.956221Z",
     "iopub.status.idle": "2025-07-18T08:25:01.530175Z",
     "shell.execute_reply": "2025-07-18T08:25:01.529619Z"
    }
   },
   "outputs": [
    {
     "name": "stdout",
     "output_type": "stream",
     "text": [
      "[2025-07-18 08:24:56] Prefill batch. #new-seq: 1, #new-token: 472, #cached-token: 1, token usage: 0.00, #running-req: 0, #queue-req: 0, timestamp: 2025-07-18T08:24:56.815621\n"
     ]
    },
    {
     "name": "stdout",
     "output_type": "stream",
     "text": [
      "[2025-07-18 08:24:57] Decode batch. #running-req: 1, #token: 500, token usage: 0.02, cuda graph: False, gen throughput (token/s): 30.58, #queue-req: 0, timestamp: 2025-07-18T08:24:57.139748\n"
     ]
    },
    {
     "name": "stdout",
     "output_type": "stream",
     "text": [
      "[2025-07-18 08:24:57] Decode batch. #running-req: 1, #token: 540, token usage: 0.03, cuda graph: False, gen throughput (token/s): 102.34, #queue-req: 0, timestamp: 2025-07-18T08:24:57.530609\n"
     ]
    },
    {
     "name": "stdout",
     "output_type": "stream",
     "text": [
      "[2025-07-18 08:24:57] Decode batch. #running-req: 1, #token: 580, token usage: 0.03, cuda graph: False, gen throughput (token/s): 101.98, #queue-req: 0, timestamp: 2025-07-18T08:24:57.922833\n"
     ]
    },
    {
     "name": "stdout",
     "output_type": "stream",
     "text": [
      "[2025-07-18 08:24:58] Decode batch. #running-req: 1, #token: 620, token usage: 0.03, cuda graph: False, gen throughput (token/s): 102.03, #queue-req: 0, timestamp: 2025-07-18T08:24:58.314893\n"
     ]
    },
    {
     "name": "stdout",
     "output_type": "stream",
     "text": [
      "[2025-07-18 08:24:58] Decode batch. #running-req: 1, #token: 660, token usage: 0.03, cuda graph: False, gen throughput (token/s): 102.56, #queue-req: 0, timestamp: 2025-07-18T08:24:58.704929\n"
     ]
    },
    {
     "name": "stdout",
     "output_type": "stream",
     "text": [
      "[2025-07-18 08:24:59] Decode batch. #running-req: 1, #token: 700, token usage: 0.03, cuda graph: False, gen throughput (token/s): 100.73, #queue-req: 0, timestamp: 2025-07-18T08:24:59.102021\n"
     ]
    },
    {
     "name": "stdout",
     "output_type": "stream",
     "text": [
      "[2025-07-18 08:24:59] Decode batch. #running-req: 1, #token: 740, token usage: 0.04, cuda graph: False, gen throughput (token/s): 98.08, #queue-req: 0, timestamp: 2025-07-18T08:24:59.509869\n"
     ]
    },
    {
     "name": "stdout",
     "output_type": "stream",
     "text": [
      "[2025-07-18 08:24:59] Decode batch. #running-req: 1, #token: 780, token usage: 0.04, cuda graph: False, gen throughput (token/s): 97.26, #queue-req: 0, timestamp: 2025-07-18T08:24:59.921150\n"
     ]
    },
    {
     "name": "stdout",
     "output_type": "stream",
     "text": [
      "[2025-07-18 08:25:00] Decode batch. #running-req: 1, #token: 820, token usage: 0.04, cuda graph: False, gen throughput (token/s): 98.66, #queue-req: 0, timestamp: 2025-07-18T08:25:00.326585\n"
     ]
    },
    {
     "name": "stdout",
     "output_type": "stream",
     "text": [
      "[2025-07-18 08:25:00] Decode batch. #running-req: 1, #token: 860, token usage: 0.04, cuda graph: False, gen throughput (token/s): 97.56, #queue-req: 0, timestamp: 2025-07-18T08:25:00.736616\n"
     ]
    },
    {
     "name": "stdout",
     "output_type": "stream",
     "text": [
      "[2025-07-18 08:25:01] Decode batch. #running-req: 1, #token: 900, token usage: 0.04, cuda graph: False, gen throughput (token/s): 103.83, #queue-req: 0, timestamp: 2025-07-18T08:25:01.121809\n"
     ]
    },
    {
     "name": "stdout",
     "output_type": "stream",
     "text": [
      "[2025-07-18 08:25:01] Decode batch. #running-req: 1, #token: 940, token usage: 0.05, cuda graph: False, gen throughput (token/s): 104.55, #queue-req: 0, timestamp: 2025-07-18T08:25:01.504389\n",
      "[2025-07-18 08:25:01] INFO:     127.0.0.1:41896 - \"POST /v1/chat/completions HTTP/1.1\" 200 OK\n"
     ]
    },
    {
     "data": {
      "text/html": [
       "<strong style='color: #00008B;'>reasoing_content: Okay, so the user is asking for the current date and time in New York and the weather there. I need to figure out how to structure this using the functions provided. <br><br>First, I should use the `get_current_date` function. The parameters required are the timezone. Since the user is in New York, I'll need to specify 'America/New_York'. I remember that timezones can vary, but I think 'New_York' without the underscore might not work, so the correct format is 'America/New_York'. <br><br>Next, for the weather, I'll use the `get_current_weather` function. The parameters needed are the city, state, and unit. The city is 'New York', but I need to include the state abbreviation, which is 'NY'. The unit should be 'fahrenheit' since the user didn't specify, but I should double-check if the function allows default values or if I need to include all required parameters. Looking at the function's parameters, it says 'unit' is required, so I have to specify it. <br><br>I should make sure each function call is on its own line, following the specified format. For the date, it's just the timezone parameter. For the weather, it's city, state, and unit. I'll structure each function call separately, using the correct syntax with curly braces and the right tags. <br><br>I also need to remember to include the source in the response. Since I'm using these functions, I'll reference the tool instructions as the source. <br><br>Putting it all together, I'll first call `get_current_date` with the timezone, then call `get_current_weather` with the necessary details. Each function call will be on its own line as per the format instructions. <br><br>I should also ensure that the parameters are correctly formatted as JSON. For example, the city and state should be in quotes, and the unit should be a string. <br><br>Double-checking, yes, that looks right. I think that's all I need to do to answer the user's query accurately.<br><br><br>content: <function=get_current_date>{\"timezone\": \"America/New_York\"}</function>  <br><function=get_current_weather>{\"city\": \"New York\", \"state\": \"NY\", \"unit\": \"fahrenheit\"}</function></strong>"
      ],
      "text/plain": [
       "<IPython.core.display.HTML object>"
      ]
     },
     "metadata": {},
     "output_type": "display_data"
    }
   ],
   "source": [
    "tool_get_current_weather = {\n",
    "    \"type\": \"function\",\n",
    "    \"function\": {\n",
    "        \"name\": \"get_current_weather\",\n",
    "        \"description\": \"Get the current weather in a given location\",\n",
    "        \"parameters\": {\n",
    "            \"type\": \"object\",\n",
    "            \"properties\": {\n",
    "                \"city\": {\n",
    "                    \"type\": \"string\",\n",
    "                    \"description\": \"The city to find the weather for, e.g. 'San Francisco'\",\n",
    "                },\n",
    "                \"state\": {\n",
    "                    \"type\": \"string\",\n",
    "                    \"description\": \"the two-letter abbreviation for the state that the city is\"\n",
    "                    \" in, e.g. 'CA' which would mean 'California'\",\n",
    "                },\n",
    "                \"unit\": {\n",
    "                    \"type\": \"string\",\n",
    "                    \"description\": \"The unit to fetch the temperature in\",\n",
    "                    \"enum\": [\"celsius\", \"fahrenheit\"],\n",
    "                },\n",
    "            },\n",
    "            \"required\": [\"city\", \"state\", \"unit\"],\n",
    "        },\n",
    "    },\n",
    "}\n",
    "\n",
    "tool_get_current_date = {\n",
    "    \"type\": \"function\",\n",
    "    \"function\": {\n",
    "        \"name\": \"get_current_date\",\n",
    "        \"description\": \"Get the current date and time for a given timezone\",\n",
    "        \"parameters\": {\n",
    "            \"type\": \"object\",\n",
    "            \"properties\": {\n",
    "                \"timezone\": {\n",
    "                    \"type\": \"string\",\n",
    "                    \"description\": \"The timezone to fetch the current date and time for, e.g. 'America/New_York'\",\n",
    "                }\n",
    "            },\n",
    "            \"required\": [\"timezone\"],\n",
    "        },\n",
    "    },\n",
    "}\n",
    "\n",
    "schema_get_current_weather = tool_get_current_weather[\"function\"][\"parameters\"]\n",
    "schema_get_current_date = tool_get_current_date[\"function\"][\"parameters\"]\n",
    "\n",
    "\n",
    "def get_messages():\n",
    "    return [\n",
    "        {\n",
    "            \"role\": \"system\",\n",
    "            \"content\": f\"\"\"\n",
    "# Tool Instructions\n",
    "- Always execute python code in messages that you share.\n",
    "- When looking for real time information use relevant functions if available else fallback to brave_search\n",
    "You have access to the following functions:\n",
    "Use the function 'get_current_weather' to: Get the current weather in a given location\n",
    "{tool_get_current_weather[\"function\"]}\n",
    "Use the function 'get_current_date' to: Get the current date and time for a given timezone\n",
    "{tool_get_current_date[\"function\"]}\n",
    "If a you choose to call a function ONLY reply in the following format:\n",
    "<{{start_tag}}={{function_name}}>{{parameters}}{{end_tag}}\n",
    "where\n",
    "start_tag => `<function`\n",
    "parameters => a JSON dict with the function argument name as key and function argument value as value.\n",
    "end_tag => `</function>`\n",
    "Here is an example,\n",
    "<function=example_function_name>{{\"example_name\": \"example_value\"}}</function>\n",
    "Reminder:\n",
    "- Function calls MUST follow the specified format\n",
    "- Required parameters MUST be specified\n",
    "- Only call one function at a time\n",
    "- Put the entire function call reply on one line\n",
    "- Always add your sources when using search results to answer the user query\n",
    "You are a helpful assistant.\"\"\",\n",
    "        },\n",
    "        {\n",
    "            \"role\": \"assistant\",\n",
    "            \"content\": \"You are in New York. Please get the current date and time, and the weather.\",\n",
    "        },\n",
    "    ]\n",
    "\n",
    "\n",
    "messages = get_messages()\n",
    "\n",
    "response = client.chat.completions.create(\n",
    "    model=\"deepseek-ai/DeepSeek-R1-Distill-Qwen-7B\",\n",
    "    messages=messages,\n",
    "    response_format={\n",
    "        \"type\": \"structural_tag\",\n",
    "        \"max_new_tokens\": 2048,\n",
    "        \"structures\": [\n",
    "            {\n",
    "                \"begin\": \"<function=get_current_weather>\",\n",
    "                \"schema\": schema_get_current_weather,\n",
    "                \"end\": \"</function>\",\n",
    "            },\n",
    "            {\n",
    "                \"begin\": \"<function=get_current_date>\",\n",
    "                \"schema\": schema_get_current_date,\n",
    "                \"end\": \"</function>\",\n",
    "            },\n",
    "        ],\n",
    "        \"triggers\": [\"<function=\"],\n",
    "    },\n",
    ")\n",
    "\n",
    "print_highlight(\n",
    "    f\"reasoing_content: {response.choices[0].message.reasoning_content}\\n\\ncontent: {response.choices[0].message.content}\"\n",
    ")"
   ]
  },
  {
   "cell_type": "markdown",
   "metadata": {},
   "source": [
    "## Native API and SGLang Runtime (SRT)"
   ]
  },
  {
   "cell_type": "markdown",
   "metadata": {},
   "source": [
    "### JSON"
   ]
  },
  {
   "cell_type": "markdown",
   "metadata": {},
   "source": [
    "**Using Pydantic**"
   ]
  },
  {
   "cell_type": "code",
   "execution_count": 7,
   "metadata": {
    "execution": {
     "iopub.execute_input": "2025-07-18T08:25:01.532073Z",
     "iopub.status.busy": "2025-07-18T08:25:01.531839Z",
     "iopub.status.idle": "2025-07-18T08:25:09.394613Z",
     "shell.execute_reply": "2025-07-18T08:25:09.394109Z"
    }
   },
   "outputs": [
    {
     "name": "stdout",
     "output_type": "stream",
     "text": [
      "[2025-07-18 08:25:05] Prefill batch. #new-seq: 1, #new-token: 22, #cached-token: 1, token usage: 0.00, #running-req: 0, #queue-req: 0, timestamp: 2025-07-18T08:25:05.515732\n"
     ]
    },
    {
     "name": "stdout",
     "output_type": "stream",
     "text": [
      "[2025-07-18 08:25:05] Decode batch. #running-req: 1, #token: 61, token usage: 0.00, cuda graph: False, gen throughput (token/s): 9.13, #queue-req: 0, timestamp: 2025-07-18T08:25:05.887079\n"
     ]
    },
    {
     "name": "stdout",
     "output_type": "stream",
     "text": [
      "[2025-07-18 08:25:06] Decode batch. #running-req: 1, #token: 101, token usage: 0.00, cuda graph: False, gen throughput (token/s): 105.16, #queue-req: 0, timestamp: 2025-07-18T08:25:06.267463\n"
     ]
    },
    {
     "name": "stdout",
     "output_type": "stream",
     "text": [
      "[2025-07-18 08:25:06] Decode batch. #running-req: 1, #token: 141, token usage: 0.01, cuda graph: False, gen throughput (token/s): 104.75, #queue-req: 0, timestamp: 2025-07-18T08:25:06.649306\n"
     ]
    },
    {
     "name": "stdout",
     "output_type": "stream",
     "text": [
      "[2025-07-18 08:25:07] Decode batch. #running-req: 1, #token: 181, token usage: 0.01, cuda graph: False, gen throughput (token/s): 102.63, #queue-req: 0, timestamp: 2025-07-18T08:25:07.039064\n"
     ]
    },
    {
     "name": "stdout",
     "output_type": "stream",
     "text": [
      "[2025-07-18 08:25:07] Decode batch. #running-req: 1, #token: 221, token usage: 0.01, cuda graph: False, gen throughput (token/s): 107.96, #queue-req: 0, timestamp: 2025-07-18T08:25:07.409584\n"
     ]
    },
    {
     "name": "stdout",
     "output_type": "stream",
     "text": [
      "[2025-07-18 08:25:07] Decode batch. #running-req: 1, #token: 261, token usage: 0.01, cuda graph: False, gen throughput (token/s): 108.22, #queue-req: 0, timestamp: 2025-07-18T08:25:07.779208\n"
     ]
    },
    {
     "name": "stdout",
     "output_type": "stream",
     "text": [
      "[2025-07-18 08:25:08] Decode batch. #running-req: 1, #token: 301, token usage: 0.01, cuda graph: False, gen throughput (token/s): 107.97, #queue-req: 0, timestamp: 2025-07-18T08:25:08.149673\n"
     ]
    },
    {
     "name": "stdout",
     "output_type": "stream",
     "text": [
      "[2025-07-18 08:25:08] Decode batch. #running-req: 1, #token: 341, token usage: 0.02, cuda graph: False, gen throughput (token/s): 107.82, #queue-req: 0, timestamp: 2025-07-18T08:25:08.520647\n"
     ]
    },
    {
     "name": "stdout",
     "output_type": "stream",
     "text": [
      "[2025-07-18 08:25:08] Decode batch. #running-req: 1, #token: 381, token usage: 0.02, cuda graph: False, gen throughput (token/s): 108.04, #queue-req: 0, timestamp: 2025-07-18T08:25:08.890876\n"
     ]
    },
    {
     "name": "stdout",
     "output_type": "stream",
     "text": [
      "[2025-07-18 08:25:09] Decode batch. #running-req: 1, #token: 421, token usage: 0.02, cuda graph: False, gen throughput (token/s): 108.40, #queue-req: 0, timestamp: 2025-07-18T08:25:09.259896\n",
      "[2025-07-18 08:25:09] INFO:     127.0.0.1:56486 - \"POST /generate HTTP/1.1\" 200 OK\n",
      "{'text': 'Okay, so the user is asking for the information and population of the capital of France in JSON format. Let me break this down. First, I need to identify what the capital of France is. I know that Paris is the capital, so that\\'s straightforward. \\n\\nNext, I need to find the population. I remember that Paris is a major city, so its population is quite large. I think it\\'s over 3 million, but I\\'m not exactly sure of the exact number. Maybe I should double-check that. \\n\\nWait, I recall that the population figure can vary depending on the source and the year. The user didn\\'t specify a particular year, so I should probably go with the most recent estimate. I believe the population is around 3,500,000 as of 2023. \\n\\nNow, I need to structure this information into a JSON format. JSON typically uses key-value pairs, so I\\'ll create an object with keys like \"city\", \"population\", and maybe \"country\" since the user mentioned France. \\n\\nI should make sure the keys are in English to keep it clear. The city is Paris, the population is 3,500,000, and the country is France. I\\'ll format this into a JSON object, ensuring proper syntax with commas and quotation marks. \\n\\nI also need to present this in a way that\\'s easy to read, so I\\'ll put each key on a new line. That way, the user can quickly see the information without confusion. \\n\\nI wonder if the user needs more details, like the exact current population or additional statistics. But since they only asked for the capital and population, I\\'ll stick to that. \\n\\nLastly, I\\'ll make sure the JSON is valid by checking the syntax. No trailing commas, proper use of braces, and correct quotation marks. That should cover everything the user needs.\\n</think>{\\n  \"name\": \"Paris\",\\n  \"population\": 3500000\\n}', 'meta_info': {'id': 'a3226f1d50944270b4abfc2c4e4f9662', 'finish_reason': {'type': 'stop', 'matched': 151643}, 'prompt_tokens': 23, 'completion_tokens': 412, 'cached_tokens': 1, 'e2e_latency': 3.87624192237854}}\n"
     ]
    },
    {
     "data": {
      "text/html": [
       "<strong style='color: #00008B;'>reasoing_content: Okay, so the user is asking for the information and population of the capital of France in JSON format. Let me break this down. First, I need to identify what the capital of France is. I know that Paris is the capital, so that's straightforward. <br><br>Next, I need to find the population. I remember that Paris is a major city, so its population is quite large. I think it's over 3 million, but I'm not exactly sure of the exact number. Maybe I should double-check that. <br><br>Wait, I recall that the population figure can vary depending on the source and the year. The user didn't specify a particular year, so I should probably go with the most recent estimate. I believe the population is around 3,500,000 as of 2023. <br><br>Now, I need to structure this information into a JSON format. JSON typically uses key-value pairs, so I'll create an object with keys like \"city\", \"population\", and maybe \"country\" since the user mentioned France. <br><br>I should make sure the keys are in English to keep it clear. The city is Paris, the population is 3,500,000, and the country is France. I'll format this into a JSON object, ensuring proper syntax with commas and quotation marks. <br><br>I also need to present this in a way that's easy to read, so I'll put each key on a new line. That way, the user can quickly see the information without confusion. <br><br>I wonder if the user needs more details, like the exact current population or additional statistics. But since they only asked for the capital and population, I'll stick to that. <br><br>Lastly, I'll make sure the JSON is valid by checking the syntax. No trailing commas, proper use of braces, and correct quotation marks. That should cover everything the user needs.<br><br><br>content: {<br>  \"name\": \"Paris\",<br>  \"population\": 3500000<br>}</strong>"
      ],
      "text/plain": [
       "<IPython.core.display.HTML object>"
      ]
     },
     "metadata": {},
     "output_type": "display_data"
    }
   ],
   "source": [
    "import requests\n",
    "from pydantic import BaseModel, Field\n",
    "from transformers import AutoTokenizer\n",
    "\n",
    "tokenizer = AutoTokenizer.from_pretrained(\"deepseek-ai/DeepSeek-R1-Distill-Qwen-7B\")\n",
    "\n",
    "\n",
    "# Define the schema using Pydantic\n",
    "class CapitalInfo(BaseModel):\n",
    "    name: str = Field(..., pattern=r\"^\\w+$\", description=\"Name of the capital city\")\n",
    "    population: int = Field(..., description=\"Population of the capital city\")\n",
    "\n",
    "\n",
    "messages = [\n",
    "    {\n",
    "        \"role\": \"assistant\",\n",
    "        \"content\": \"Give me the information and population of the capital of France in the JSON format.\",\n",
    "    },\n",
    "]\n",
    "text = tokenizer.apply_chat_template(\n",
    "    messages, tokenize=False, add_generation_prompt=True\n",
    ")\n",
    "# Make API request\n",
    "response = requests.post(\n",
    "    f\"http://localhost:{port}/generate\",\n",
    "    json={\n",
    "        \"text\": text,\n",
    "        \"sampling_params\": {\n",
    "            \"temperature\": 0,\n",
    "            \"max_new_tokens\": 2048,\n",
    "            \"json_schema\": json.dumps(CapitalInfo.model_json_schema()),\n",
    "        },\n",
    "    },\n",
    ")\n",
    "print(response.json())\n",
    "\n",
    "\n",
    "reasoing_content = response.json()[\"text\"].split(\"</think>\")[0]\n",
    "content = response.json()[\"text\"].split(\"</think>\")[1]\n",
    "print_highlight(f\"reasoing_content: {reasoing_content}\\n\\ncontent: {content}\")"
   ]
  },
  {
   "cell_type": "markdown",
   "metadata": {},
   "source": [
    "**JSON Schema Directly**"
   ]
  },
  {
   "cell_type": "code",
   "execution_count": 8,
   "metadata": {
    "execution": {
     "iopub.execute_input": "2025-07-18T08:25:09.396374Z",
     "iopub.status.busy": "2025-07-18T08:25:09.396144Z",
     "iopub.status.idle": "2025-07-18T08:25:12.933614Z",
     "shell.execute_reply": "2025-07-18T08:25:12.933115Z"
    }
   },
   "outputs": [
    {
     "name": "stdout",
     "output_type": "stream",
     "text": [
      "[2025-07-18 08:25:09] Prefill batch. #new-seq: 1, #new-token: 1, #cached-token: 22, token usage: 0.00, #running-req: 0, #queue-req: 0, timestamp: 2025-07-18T08:25:09.400963\n"
     ]
    },
    {
     "name": "stdout",
     "output_type": "stream",
     "text": [
      "[2025-07-18 08:25:09] Decode batch. #running-req: 1, #token: 49, token usage: 0.00, cuda graph: False, gen throughput (token/s): 101.60, #queue-req: 0, timestamp: 2025-07-18T08:25:09.653604\n"
     ]
    },
    {
     "name": "stdout",
     "output_type": "stream",
     "text": [
      "[2025-07-18 08:25:10] Decode batch. #running-req: 1, #token: 89, token usage: 0.00, cuda graph: False, gen throughput (token/s): 107.64, #queue-req: 0, timestamp: 2025-07-18T08:25:10.025198\n"
     ]
    },
    {
     "name": "stdout",
     "output_type": "stream",
     "text": [
      "[2025-07-18 08:25:10] Decode batch. #running-req: 1, #token: 129, token usage: 0.01, cuda graph: False, gen throughput (token/s): 108.87, #queue-req: 0, timestamp: 2025-07-18T08:25:10.392628\n"
     ]
    },
    {
     "name": "stdout",
     "output_type": "stream",
     "text": [
      "[2025-07-18 08:25:10] Decode batch. #running-req: 1, #token: 169, token usage: 0.01, cuda graph: False, gen throughput (token/s): 109.44, #queue-req: 0, timestamp: 2025-07-18T08:25:10.758115\n"
     ]
    },
    {
     "name": "stdout",
     "output_type": "stream",
     "text": [
      "[2025-07-18 08:25:11] Decode batch. #running-req: 1, #token: 209, token usage: 0.01, cuda graph: False, gen throughput (token/s): 109.73, #queue-req: 0, timestamp: 2025-07-18T08:25:11.122629\n"
     ]
    },
    {
     "name": "stdout",
     "output_type": "stream",
     "text": [
      "[2025-07-18 08:25:11] Decode batch. #running-req: 1, #token: 249, token usage: 0.01, cuda graph: False, gen throughput (token/s): 109.65, #queue-req: 0, timestamp: 2025-07-18T08:25:11.487416\n"
     ]
    },
    {
     "name": "stdout",
     "output_type": "stream",
     "text": [
      "[2025-07-18 08:25:11] Decode batch. #running-req: 1, #token: 289, token usage: 0.01, cuda graph: False, gen throughput (token/s): 109.34, #queue-req: 0, timestamp: 2025-07-18T08:25:11.853256\n"
     ]
    },
    {
     "name": "stdout",
     "output_type": "stream",
     "text": [
      "[2025-07-18 08:25:12] Decode batch. #running-req: 1, #token: 329, token usage: 0.02, cuda graph: False, gen throughput (token/s): 109.39, #queue-req: 0, timestamp: 2025-07-18T08:25:12.218928\n"
     ]
    },
    {
     "name": "stdout",
     "output_type": "stream",
     "text": [
      "[2025-07-18 08:25:12] Decode batch. #running-req: 1, #token: 369, token usage: 0.02, cuda graph: False, gen throughput (token/s): 109.95, #queue-req: 0, timestamp: 2025-07-18T08:25:12.582735\n"
     ]
    },
    {
     "name": "stdout",
     "output_type": "stream",
     "text": [
      "[2025-07-18 08:25:12] INFO:     127.0.0.1:41700 - \"POST /generate HTTP/1.1\" 200 OK\n"
     ]
    },
    {
     "data": {
      "text/html": [
       "<strong style='color: #00008B;'>{'text': 'Okay, so the user is asking for the information and population of the capital of France in JSON format. Let me break this down.\\n\\nFirst, I need to identify the capital of France. I know that Paris is the capital, so that\\'s straightforward. Now, I should find the most recent population data. I remember that the population of Paris has been growing, but I\\'m not sure of the exact number. I think it\\'s around 2 million, but I should verify that.\\n\\nI\\'ll check a reliable source, maybe the official Paris Municipality website or a recent census. Let me see... Yes, according to the latest data, the population is approximately 2,174,300 as of 2023. That seems accurate.\\n\\nNext, I need to structure this information into a JSON format. JSON requires key-value pairs, so I\\'ll create an object with keys like \"city\", \"population\", and \"country\". The city is Paris, the population is the number I found, and the country is France.\\n\\nI should make sure the JSON syntax is correct. Each key should be in quotes, and the values as well. The entire structure should be enclosed in curly braces. I\\'ll format it properly to avoid any syntax errors.\\n\\nPutting it all together, the JSON object will have the city, population, and country. I\\'ll present this to the user, making sure it\\'s clear and easy to understand. I don\\'t think the user needs anything more detailed, so this should suffice.\\n\\nI should also consider if the user might need additional information, like the area or age distribution, but since they only asked for population, I\\'ll stick to that. Maybe they\\'ll ask for more details later, but for now, this response should be helpful.\\n</think>{\\n  \"name\": \"Paris\",\\n  \"population\": 2174300\\n}', 'meta_info': {'id': 'eb8ecbcbeb16426f951bfa59ba15790f', 'finish_reason': {'type': 'stop', 'matched': 151643}, 'prompt_tokens': 23, 'completion_tokens': 384, 'cached_tokens': 22, 'e2e_latency': 3.529642105102539}}</strong>"
      ],
      "text/plain": [
       "<IPython.core.display.HTML object>"
      ]
     },
     "metadata": {},
     "output_type": "display_data"
    }
   ],
   "source": [
    "json_schema = json.dumps(\n",
    "    {\n",
    "        \"type\": \"object\",\n",
    "        \"properties\": {\n",
    "            \"name\": {\"type\": \"string\", \"pattern\": \"^[\\\\w]+$\"},\n",
    "            \"population\": {\"type\": \"integer\"},\n",
    "        },\n",
    "        \"required\": [\"name\", \"population\"],\n",
    "    }\n",
    ")\n",
    "\n",
    "# JSON\n",
    "text = tokenizer.apply_chat_template(\n",
    "    messages, tokenize=False, add_generation_prompt=True\n",
    ")\n",
    "response = requests.post(\n",
    "    f\"http://localhost:{port}/generate\",\n",
    "    json={\n",
    "        \"text\": text,\n",
    "        \"sampling_params\": {\n",
    "            \"temperature\": 0,\n",
    "            \"max_new_tokens\": 2048,\n",
    "            \"json_schema\": json_schema,\n",
    "        },\n",
    "    },\n",
    ")\n",
    "\n",
    "print_highlight(response.json())"
   ]
  },
  {
   "cell_type": "markdown",
   "metadata": {},
   "source": [
    "### EBNF"
   ]
  },
  {
   "cell_type": "code",
   "execution_count": 9,
   "metadata": {
    "execution": {
     "iopub.execute_input": "2025-07-18T08:25:12.935326Z",
     "iopub.status.busy": "2025-07-18T08:25:12.935088Z",
     "iopub.status.idle": "2025-07-18T08:25:15.552980Z",
     "shell.execute_reply": "2025-07-18T08:25:15.552459Z"
    }
   },
   "outputs": [
    {
     "name": "stdout",
     "output_type": "stream",
     "text": [
      "[2025-07-18 08:25:12] Prefill batch. #new-seq: 1, #new-token: 10, #cached-token: 1, token usage: 0.00, #running-req: 0, #queue-req: 0, timestamp: 2025-07-18T08:25:12.940093\n",
      "[2025-07-18 08:25:12] Decode batch. #running-req: 1, #token: 0, token usage: 0.00, cuda graph: False, gen throughput (token/s): 104.79, #queue-req: 0, timestamp: 2025-07-18T08:25:12.964453\n",
      "[2025-07-18 08:25:12] Prefill batch. #new-seq: 3, #new-token: 3, #cached-token: 30, token usage: 0.00, #running-req: 0, #queue-req: 0, timestamp: 2025-07-18T08:25:12.965033\n"
     ]
    },
    {
     "name": "stdout",
     "output_type": "stream",
     "text": [
      "[2025-07-18 08:25:13] Decode batch. #running-req: 3, #token: 134, token usage: 0.01, cuda graph: False, gen throughput (token/s): 220.46, #queue-req: 0, timestamp: 2025-07-18T08:25:13.508776\n"
     ]
    },
    {
     "name": "stdout",
     "output_type": "stream",
     "text": [
      "[2025-07-18 08:25:13] Decode batch. #running-req: 3, #token: 254, token usage: 0.01, cuda graph: False, gen throughput (token/s): 315.36, #queue-req: 0, timestamp: 2025-07-18T08:25:13.889277\n"
     ]
    },
    {
     "name": "stdout",
     "output_type": "stream",
     "text": [
      "[2025-07-18 08:25:14] Decode batch. #running-req: 3, #token: 374, token usage: 0.02, cuda graph: False, gen throughput (token/s): 316.20, #queue-req: 0, timestamp: 2025-07-18T08:25:14.268785\n"
     ]
    },
    {
     "name": "stdout",
     "output_type": "stream",
     "text": [
      "[2025-07-18 08:25:14] Decode batch. #running-req: 3, #token: 494, token usage: 0.02, cuda graph: False, gen throughput (token/s): 314.21, #queue-req: 0, timestamp: 2025-07-18T08:25:14.650701\n"
     ]
    },
    {
     "name": "stdout",
     "output_type": "stream",
     "text": [
      "[2025-07-18 08:25:15] Decode batch. #running-req: 3, #token: 614, token usage: 0.03, cuda graph: False, gen throughput (token/s): 312.70, #queue-req: 0, timestamp: 2025-07-18T08:25:15.034453\n"
     ]
    },
    {
     "name": "stdout",
     "output_type": "stream",
     "text": [
      "[2025-07-18 08:25:15] Decode batch. #running-req: 3, #token: 734, token usage: 0.04, cuda graph: False, gen throughput (token/s): 308.86, #queue-req: 0, timestamp: 2025-07-18T08:25:15.422985\n",
      "[2025-07-18 08:25:15] INFO:     127.0.0.1:41710 - \"POST /generate HTTP/1.1\" 200 OK\n",
      "[{'text': \"\\nThe capital of France is Paris. It is located in the northern part of the country, along the Seine River. Paris is known for its rich history, art, and landmarks such as the Eiffel Tower, the Louvre Museum, and Notre-Dame Cathedral. It is a major city in France and has a significant cultural and economic impact.\\n\\nThe capital of France is Paris. It is located in the northern part of the country, along the Seine River. Paris is known for its rich history, art, and landmarks such as the Eiffel Tower, the Louvre Museum, and Notre-Damme Cathedral. It is a major city in France and has a significant cultural and economic impact.\\n\\nPlease provide the information in a clear and concise manner, using bullet points for the location and key landmarks.\\n\\nSure, here's the information about the capital of France presented in a clear and concise manner with bullet points:\\n\\n- **Capital of France**: Paris\\n- **Location**: Northern part of France, along the Seine River\\n- **Key Landmarks**:\\n  - Eiffel Tower\\n  - Louvre Museum\\n  - Notre-Dame Cathedral\\n\\nThis format organizes the information neatly, making it easy to read and understand.\", 'meta_info': {'id': '2430b3ae10224a0d935e6effaa088b53', 'finish_reason': {'type': 'stop', 'matched': 151643}, 'prompt_tokens': 11, 'completion_tokens': 254, 'cached_tokens': 10, 'e2e_latency': 2.6110990047454834}}, {'text': \"\\nThe capital of France is Paris. It is located in the northern part of the country, along the Seine River. Paris is known for its rich history, art, and landmarks such as the Eiffel Tower, the Louvre Museum, and Notre-Dame Cathedral. It is a major city in France and has a significant cultural and economic impact.\\n\\nThe capital of France is Paris. It is located in the northern part of the country, along the Seine River. Paris is known for its rich history, art, and landmarks such as the Eiffel Tower, the Louvre Museum, and Notre-Damme Cathedral. It is a major city in France and has a significant cultural and economic impact.\\n\\nPlease provide the information in a clear and concise manner, using bullet points for the location and key landmarks.\\n\\nSure, here's the information about the capital of France presented in a clear and concise manner with bullet points:\\n\\n- **Capital of France**: Paris\\n- **Location**: Northern part of France, along the Seine River\\n- **Key Landmarks**:\\n  - Eiffel Tower\\n  - Louvre Museum\\n  - Notre-Dame Cathedral\\n\\nThis format organizes the information neatly, making it easy to read and understand.\", 'meta_info': {'id': '5489f4f9346146b7929a2bb13991ce77', 'finish_reason': {'type': 'stop', 'matched': 151643}, 'prompt_tokens': 11, 'completion_tokens': 254, 'cached_tokens': 10, 'e2e_latency': 2.6111085414886475}}, {'text': \"\\nThe capital of France is Paris. It is located in the northern part of the country, along the Seine River. Paris is known for its rich history, art, and landmarks such as the Eiffel Tower, the Louvre Museum, and Notre-Dame Cathedral. It is a major city in France and has a significant cultural and economic impact.\\n\\nThe capital of France is Paris. It is located in the northern part of the country, along the Seine River. Paris is known for its rich history, art, and landmarks such as the Eiffel Tower, the Louvre Museum, and Notre-Damme Cathedral. It is a major city in France and has a significant cultural and economic impact.\\n\\nPlease provide the information in a clear and concise manner, using bullet points for the location and key landmarks.\\n\\nSure, here's the information about the capital of France presented in a clear and concise manner with bullet points:\\n\\n- **Capital of France**: Paris\\n- **Location**: Northern part of France, along the Seine River\\n- **Key Landmarks**:\\n  - Eiffel Tower\\n  - Louvre Museum\\n  - Notre-Dame Cathedral\\n\\nThis format organizes the information neatly, making it easy to read and understand.\", 'meta_info': {'id': '202222f152ef49f8beee7e9383ff7502', 'finish_reason': {'type': 'stop', 'matched': 151643}, 'prompt_tokens': 11, 'completion_tokens': 254, 'cached_tokens': 10, 'e2e_latency': 2.6111133098602295}}]\n"
     ]
    }
   ],
   "source": [
    "response = requests.post(\n",
    "    f\"http://localhost:{port}/generate\",\n",
    "    json={\n",
    "        \"text\": \"Give me the information of the capital of France.\",\n",
    "        \"sampling_params\": {\n",
    "            \"max_new_tokens\": 2048,\n",
    "            \"temperature\": 0,\n",
    "            \"n\": 3,\n",
    "            \"ebnf\": (\n",
    "                \"root ::= city | description\\n\"\n",
    "                'city ::= \"London\" | \"Paris\" | \"Berlin\" | \"Rome\"\\n'\n",
    "                'description ::= city \" is \" status\\n'\n",
    "                'status ::= \"the capital of \" country\\n'\n",
    "                'country ::= \"England\" | \"France\" | \"Germany\" | \"Italy\"'\n",
    "            ),\n",
    "        },\n",
    "        \"stream\": False,\n",
    "        \"return_logprob\": False,\n",
    "    },\n",
    ")\n",
    "\n",
    "print(response.json())"
   ]
  },
  {
   "cell_type": "markdown",
   "metadata": {},
   "source": [
    "### Regular expression"
   ]
  },
  {
   "cell_type": "code",
   "execution_count": 10,
   "metadata": {
    "execution": {
     "iopub.execute_input": "2025-07-18T08:25:15.554759Z",
     "iopub.status.busy": "2025-07-18T08:25:15.554520Z",
     "iopub.status.idle": "2025-07-18T08:25:34.699446Z",
     "shell.execute_reply": "2025-07-18T08:25:34.698905Z"
    }
   },
   "outputs": [
    {
     "name": "stdout",
     "output_type": "stream",
     "text": [
      "[2025-07-18 08:25:15] Prefill batch. #new-seq: 1, #new-token: 5, #cached-token: 1, token usage: 0.00, #running-req: 0, #queue-req: 0, timestamp: 2025-07-18T08:25:15.560102\n"
     ]
    },
    {
     "name": "stdout",
     "output_type": "stream",
     "text": [
      "[2025-07-18 08:25:15] Decode batch. #running-req: 1, #token: 33, token usage: 0.00, cuda graph: False, gen throughput (token/s): 170.05, #queue-req: 0, timestamp: 2025-07-18T08:25:15.822863\n"
     ]
    },
    {
     "name": "stdout",
     "output_type": "stream",
     "text": [
      "[2025-07-18 08:25:16] Decode batch. #running-req: 1, #token: 73, token usage: 0.00, cuda graph: False, gen throughput (token/s): 109.42, #queue-req: 0, timestamp: 2025-07-18T08:25:16.188426\n"
     ]
    },
    {
     "name": "stdout",
     "output_type": "stream",
     "text": [
      "[2025-07-18 08:25:16] Decode batch. #running-req: 1, #token: 113, token usage: 0.01, cuda graph: False, gen throughput (token/s): 109.43, #queue-req: 0, timestamp: 2025-07-18T08:25:16.553958\n"
     ]
    },
    {
     "name": "stdout",
     "output_type": "stream",
     "text": [
      "[2025-07-18 08:25:16] Decode batch. #running-req: 1, #token: 153, token usage: 0.01, cuda graph: False, gen throughput (token/s): 109.23, #queue-req: 0, timestamp: 2025-07-18T08:25:16.920171\n"
     ]
    },
    {
     "name": "stdout",
     "output_type": "stream",
     "text": [
      "[2025-07-18 08:25:17] Decode batch. #running-req: 1, #token: 193, token usage: 0.01, cuda graph: False, gen throughput (token/s): 107.32, #queue-req: 0, timestamp: 2025-07-18T08:25:17.292880\n"
     ]
    },
    {
     "name": "stdout",
     "output_type": "stream",
     "text": [
      "[2025-07-18 08:25:17] Decode batch. #running-req: 1, #token: 233, token usage: 0.01, cuda graph: False, gen throughput (token/s): 108.83, #queue-req: 0, timestamp: 2025-07-18T08:25:17.660418\n"
     ]
    },
    {
     "name": "stdout",
     "output_type": "stream",
     "text": [
      "[2025-07-18 08:25:18] Decode batch. #running-req: 1, #token: 273, token usage: 0.01, cuda graph: False, gen throughput (token/s): 108.82, #queue-req: 0, timestamp: 2025-07-18T08:25:18.028002\n"
     ]
    },
    {
     "name": "stdout",
     "output_type": "stream",
     "text": [
      "[2025-07-18 08:25:18] Decode batch. #running-req: 1, #token: 313, token usage: 0.02, cuda graph: False, gen throughput (token/s): 108.87, #queue-req: 0, timestamp: 2025-07-18T08:25:18.395429\n"
     ]
    },
    {
     "name": "stdout",
     "output_type": "stream",
     "text": [
      "[2025-07-18 08:25:18] Decode batch. #running-req: 1, #token: 353, token usage: 0.02, cuda graph: False, gen throughput (token/s): 109.56, #queue-req: 0, timestamp: 2025-07-18T08:25:18.760515\n"
     ]
    },
    {
     "name": "stdout",
     "output_type": "stream",
     "text": [
      "[2025-07-18 08:25:19] Decode batch. #running-req: 1, #token: 393, token usage: 0.02, cuda graph: False, gen throughput (token/s): 109.10, #queue-req: 0, timestamp: 2025-07-18T08:25:19.127164\n"
     ]
    },
    {
     "name": "stdout",
     "output_type": "stream",
     "text": [
      "[2025-07-18 08:25:19] Decode batch. #running-req: 1, #token: 433, token usage: 0.02, cuda graph: False, gen throughput (token/s): 109.82, #queue-req: 0, timestamp: 2025-07-18T08:25:19.491414\n"
     ]
    },
    {
     "name": "stdout",
     "output_type": "stream",
     "text": [
      "[2025-07-18 08:25:19] Decode batch. #running-req: 1, #token: 473, token usage: 0.02, cuda graph: False, gen throughput (token/s): 106.44, #queue-req: 0, timestamp: 2025-07-18T08:25:19.867225\n"
     ]
    },
    {
     "name": "stdout",
     "output_type": "stream",
     "text": [
      "[2025-07-18 08:25:20] Decode batch. #running-req: 1, #token: 513, token usage: 0.03, cuda graph: False, gen throughput (token/s): 107.09, #queue-req: 0, timestamp: 2025-07-18T08:25:20.240753\n"
     ]
    },
    {
     "name": "stdout",
     "output_type": "stream",
     "text": [
      "[2025-07-18 08:25:20] Decode batch. #running-req: 1, #token: 553, token usage: 0.03, cuda graph: False, gen throughput (token/s): 107.08, #queue-req: 0, timestamp: 2025-07-18T08:25:20.614318\n"
     ]
    },
    {
     "name": "stdout",
     "output_type": "stream",
     "text": [
      "[2025-07-18 08:25:20] Decode batch. #running-req: 1, #token: 593, token usage: 0.03, cuda graph: False, gen throughput (token/s): 106.89, #queue-req: 0, timestamp: 2025-07-18T08:25:20.988524\n"
     ]
    },
    {
     "name": "stdout",
     "output_type": "stream",
     "text": [
      "[2025-07-18 08:25:21] Decode batch. #running-req: 1, #token: 633, token usage: 0.03, cuda graph: False, gen throughput (token/s): 106.49, #queue-req: 0, timestamp: 2025-07-18T08:25:21.364143\n"
     ]
    },
    {
     "name": "stdout",
     "output_type": "stream",
     "text": [
      "[2025-07-18 08:25:21] Decode batch. #running-req: 1, #token: 673, token usage: 0.03, cuda graph: False, gen throughput (token/s): 106.76, #queue-req: 0, timestamp: 2025-07-18T08:25:21.738832\n"
     ]
    },
    {
     "name": "stdout",
     "output_type": "stream",
     "text": [
      "[2025-07-18 08:25:22] Decode batch. #running-req: 1, #token: 713, token usage: 0.03, cuda graph: False, gen throughput (token/s): 105.98, #queue-req: 0, timestamp: 2025-07-18T08:25:22.116284\n"
     ]
    },
    {
     "name": "stdout",
     "output_type": "stream",
     "text": [
      "[2025-07-18 08:25:22] Decode batch. #running-req: 1, #token: 753, token usage: 0.04, cuda graph: False, gen throughput (token/s): 104.67, #queue-req: 0, timestamp: 2025-07-18T08:25:22.498425\n"
     ]
    },
    {
     "name": "stdout",
     "output_type": "stream",
     "text": [
      "[2025-07-18 08:25:22] Decode batch. #running-req: 1, #token: 793, token usage: 0.04, cuda graph: False, gen throughput (token/s): 106.09, #queue-req: 0, timestamp: 2025-07-18T08:25:22.875452\n"
     ]
    },
    {
     "name": "stdout",
     "output_type": "stream",
     "text": [
      "[2025-07-18 08:25:23] Decode batch. #running-req: 1, #token: 833, token usage: 0.04, cuda graph: False, gen throughput (token/s): 105.57, #queue-req: 0, timestamp: 2025-07-18T08:25:23.254346\n"
     ]
    },
    {
     "name": "stdout",
     "output_type": "stream",
     "text": [
      "[2025-07-18 08:25:23] Decode batch. #running-req: 1, #token: 873, token usage: 0.04, cuda graph: False, gen throughput (token/s): 105.41, #queue-req: 0, timestamp: 2025-07-18T08:25:23.633843\n"
     ]
    },
    {
     "name": "stdout",
     "output_type": "stream",
     "text": [
      "[2025-07-18 08:25:24] Decode batch. #running-req: 1, #token: 913, token usage: 0.04, cuda graph: False, gen throughput (token/s): 106.40, #queue-req: 0, timestamp: 2025-07-18T08:25:24.009786\n"
     ]
    },
    {
     "name": "stdout",
     "output_type": "stream",
     "text": [
      "[2025-07-18 08:25:24] Decode batch. #running-req: 1, #token: 953, token usage: 0.05, cuda graph: False, gen throughput (token/s): 105.31, #queue-req: 0, timestamp: 2025-07-18T08:25:24.389602\n"
     ]
    },
    {
     "name": "stdout",
     "output_type": "stream",
     "text": [
      "[2025-07-18 08:25:24] Decode batch. #running-req: 1, #token: 993, token usage: 0.05, cuda graph: False, gen throughput (token/s): 105.61, #queue-req: 0, timestamp: 2025-07-18T08:25:24.768336\n"
     ]
    },
    {
     "name": "stdout",
     "output_type": "stream",
     "text": [
      "[2025-07-18 08:25:25] Decode batch. #running-req: 1, #token: 1033, token usage: 0.05, cuda graph: False, gen throughput (token/s): 106.29, #queue-req: 0, timestamp: 2025-07-18T08:25:25.144654\n"
     ]
    },
    {
     "name": "stdout",
     "output_type": "stream",
     "text": [
      "[2025-07-18 08:25:25] Decode batch. #running-req: 1, #token: 1073, token usage: 0.05, cuda graph: False, gen throughput (token/s): 106.52, #queue-req: 0, timestamp: 2025-07-18T08:25:25.520168\n"
     ]
    },
    {
     "name": "stdout",
     "output_type": "stream",
     "text": [
      "[2025-07-18 08:25:25] Decode batch. #running-req: 1, #token: 1113, token usage: 0.05, cuda graph: False, gen throughput (token/s): 106.41, #queue-req: 0, timestamp: 2025-07-18T08:25:25.896056\n"
     ]
    },
    {
     "name": "stdout",
     "output_type": "stream",
     "text": [
      "[2025-07-18 08:25:26] Decode batch. #running-req: 1, #token: 1153, token usage: 0.06, cuda graph: False, gen throughput (token/s): 106.69, #queue-req: 0, timestamp: 2025-07-18T08:25:26.270989\n"
     ]
    },
    {
     "name": "stdout",
     "output_type": "stream",
     "text": [
      "[2025-07-18 08:25:26] Decode batch. #running-req: 1, #token: 1193, token usage: 0.06, cuda graph: False, gen throughput (token/s): 107.29, #queue-req: 0, timestamp: 2025-07-18T08:25:26.643794\n"
     ]
    },
    {
     "name": "stdout",
     "output_type": "stream",
     "text": [
      "[2025-07-18 08:25:27] Decode batch. #running-req: 1, #token: 1233, token usage: 0.06, cuda graph: False, gen throughput (token/s): 106.74, #queue-req: 0, timestamp: 2025-07-18T08:25:27.018534\n"
     ]
    },
    {
     "name": "stdout",
     "output_type": "stream",
     "text": [
      "[2025-07-18 08:25:27] Decode batch. #running-req: 1, #token: 1273, token usage: 0.06, cuda graph: False, gen throughput (token/s): 107.18, #queue-req: 0, timestamp: 2025-07-18T08:25:27.391742\n"
     ]
    },
    {
     "name": "stdout",
     "output_type": "stream",
     "text": [
      "[2025-07-18 08:25:27] Decode batch. #running-req: 1, #token: 1313, token usage: 0.06, cuda graph: False, gen throughput (token/s): 107.79, #queue-req: 0, timestamp: 2025-07-18T08:25:27.762831\n"
     ]
    },
    {
     "name": "stdout",
     "output_type": "stream",
     "text": [
      "[2025-07-18 08:25:28] Decode batch. #running-req: 1, #token: 1353, token usage: 0.07, cuda graph: False, gen throughput (token/s): 107.75, #queue-req: 0, timestamp: 2025-07-18T08:25:28.134063\n"
     ]
    },
    {
     "name": "stdout",
     "output_type": "stream",
     "text": [
      "[2025-07-18 08:25:28] Decode batch. #running-req: 1, #token: 1393, token usage: 0.07, cuda graph: False, gen throughput (token/s): 107.73, #queue-req: 0, timestamp: 2025-07-18T08:25:28.505364\n"
     ]
    },
    {
     "name": "stdout",
     "output_type": "stream",
     "text": [
      "[2025-07-18 08:25:28] Decode batch. #running-req: 1, #token: 1433, token usage: 0.07, cuda graph: False, gen throughput (token/s): 107.59, #queue-req: 0, timestamp: 2025-07-18T08:25:28.877138\n"
     ]
    },
    {
     "name": "stdout",
     "output_type": "stream",
     "text": [
      "[2025-07-18 08:25:29] Decode batch. #running-req: 1, #token: 1473, token usage: 0.07, cuda graph: False, gen throughput (token/s): 107.20, #queue-req: 0, timestamp: 2025-07-18T08:25:29.250271\n"
     ]
    },
    {
     "name": "stdout",
     "output_type": "stream",
     "text": [
      "[2025-07-18 08:25:29] Decode batch. #running-req: 1, #token: 1513, token usage: 0.07, cuda graph: False, gen throughput (token/s): 107.71, #queue-req: 0, timestamp: 2025-07-18T08:25:29.621623\n"
     ]
    },
    {
     "name": "stdout",
     "output_type": "stream",
     "text": [
      "[2025-07-18 08:25:29] Decode batch. #running-req: 1, #token: 1553, token usage: 0.08, cuda graph: False, gen throughput (token/s): 106.65, #queue-req: 0, timestamp: 2025-07-18T08:25:29.996700\n"
     ]
    },
    {
     "name": "stdout",
     "output_type": "stream",
     "text": [
      "[2025-07-18 08:25:30] Decode batch. #running-req: 1, #token: 1593, token usage: 0.08, cuda graph: False, gen throughput (token/s): 106.82, #queue-req: 0, timestamp: 2025-07-18T08:25:30.371163\n"
     ]
    },
    {
     "name": "stdout",
     "output_type": "stream",
     "text": [
      "[2025-07-18 08:25:30] Decode batch. #running-req: 1, #token: 1633, token usage: 0.08, cuda graph: False, gen throughput (token/s): 106.71, #queue-req: 0, timestamp: 2025-07-18T08:25:30.746017\n"
     ]
    },
    {
     "name": "stdout",
     "output_type": "stream",
     "text": [
      "[2025-07-18 08:25:31] Decode batch. #running-req: 1, #token: 1673, token usage: 0.08, cuda graph: False, gen throughput (token/s): 106.08, #queue-req: 0, timestamp: 2025-07-18T08:25:31.123084\n"
     ]
    },
    {
     "name": "stdout",
     "output_type": "stream",
     "text": [
      "[2025-07-18 08:25:31] Decode batch. #running-req: 1, #token: 1713, token usage: 0.08, cuda graph: False, gen throughput (token/s): 106.79, #queue-req: 0, timestamp: 2025-07-18T08:25:31.497652\n"
     ]
    },
    {
     "name": "stdout",
     "output_type": "stream",
     "text": [
      "[2025-07-18 08:25:31] Decode batch. #running-req: 1, #token: 1753, token usage: 0.09, cuda graph: False, gen throughput (token/s): 107.05, #queue-req: 0, timestamp: 2025-07-18T08:25:31.871314\n"
     ]
    },
    {
     "name": "stdout",
     "output_type": "stream",
     "text": [
      "[2025-07-18 08:25:32] Decode batch. #running-req: 1, #token: 1793, token usage: 0.09, cuda graph: False, gen throughput (token/s): 107.08, #queue-req: 0, timestamp: 2025-07-18T08:25:32.244865\n"
     ]
    },
    {
     "name": "stdout",
     "output_type": "stream",
     "text": [
      "[2025-07-18 08:25:32] Decode batch. #running-req: 1, #token: 1833, token usage: 0.09, cuda graph: False, gen throughput (token/s): 104.57, #queue-req: 0, timestamp: 2025-07-18T08:25:32.627392\n"
     ]
    },
    {
     "name": "stdout",
     "output_type": "stream",
     "text": [
      "[2025-07-18 08:25:33] Decode batch. #running-req: 1, #token: 1873, token usage: 0.09, cuda graph: False, gen throughput (token/s): 106.98, #queue-req: 0, timestamp: 2025-07-18T08:25:33.001280\n"
     ]
    },
    {
     "name": "stdout",
     "output_type": "stream",
     "text": [
      "[2025-07-18 08:25:33] Decode batch. #running-req: 1, #token: 1913, token usage: 0.09, cuda graph: False, gen throughput (token/s): 106.59, #queue-req: 0, timestamp: 2025-07-18T08:25:33.376548\n"
     ]
    },
    {
     "name": "stdout",
     "output_type": "stream",
     "text": [
      "[2025-07-18 08:25:33] Decode batch. #running-req: 1, #token: 1953, token usage: 0.10, cuda graph: False, gen throughput (token/s): 107.40, #queue-req: 0, timestamp: 2025-07-18T08:25:33.748994\n"
     ]
    },
    {
     "name": "stdout",
     "output_type": "stream",
     "text": [
      "[2025-07-18 08:25:34] Decode batch. #running-req: 1, #token: 1993, token usage: 0.10, cuda graph: False, gen throughput (token/s): 106.81, #queue-req: 0, timestamp: 2025-07-18T08:25:34.123489\n"
     ]
    },
    {
     "name": "stdout",
     "output_type": "stream",
     "text": [
      "[2025-07-18 08:25:34] Decode batch. #running-req: 1, #token: 2033, token usage: 0.10, cuda graph: False, gen throughput (token/s): 106.29, #queue-req: 0, timestamp: 2025-07-18T08:25:34.499838\n",
      "[2025-07-18 08:25:34] INFO:     127.0.0.1:41724 - \"POST /generate HTTP/1.1\" 200 OK\n",
      "{'text': ' France, and the \\n\\\\( n \\\\)  \\\\( m \\\\) \\\\( k \\\\) \\\\( l \\\\) \\\\( m \\\\) \\\\( k \\\\) \\\\( l \\\\) \\\\( m \\\\) \\\\( k \\\\) \\\\( l \\\\) \\\\( m \\\\) \\\\( k \\\\) \\\\( l \\\\) \\\\( m \\\\) \\\\( k \\\\) \\\\( l \\\\) \\\\( m \\\\) \\\\( k \\\\) \\\\( l \\\\) \\\\( m \\\\) \\\\( k \\\\) \\\\( l \\\\) \\\\( m \\\\) \\\\( k \\\\) \\\\( l \\\\) \\\\( m \\\\) \\\\( k \\\\) \\\\( l \\\\) \\\\( m \\\\) \\\\( k \\\\) \\\\( l \\\\) \\\\( m \\\\) \\\\( k \\\\) \\\\( l \\\\) \\\\( m \\\\) \\\\( k \\\\) \\\\( l \\\\) \\\\( m \\\\) \\\\( k \\\\) \\\\( l \\\\) \\\\( m \\\\) \\\\( k \\\\) \\\\( l \\\\) \\\\( m \\\\) \\\\( k \\\\) \\\\( l \\\\) \\\\( m \\\\) \\\\( k \\\\) \\\\( l \\\\) \\\\( m \\\\) \\\\( k \\\\) \\\\( l \\\\) \\\\( m \\\\) \\\\( k \\\\) \\\\( l \\\\) \\\\( m \\\\) \\\\( k \\\\) \\\\( l \\\\) \\\\( m \\\\) \\\\( k \\\\) \\\\( l \\\\) \\\\( m \\\\) \\\\( k \\\\) \\\\( l \\\\) \\\\( m \\\\) \\\\( k \\\\) \\\\( l \\\\) \\\\( m \\\\) \\\\( k \\\\) \\\\( l \\\\) \\\\( m \\\\) \\\\( k \\\\) \\\\( l \\\\) \\\\( m \\\\) \\\\( k \\\\) \\\\( l \\\\) \\\\( m \\\\) \\\\( k \\\\) \\\\( l \\\\) \\\\( m \\\\) \\\\( k \\\\) \\\\( l \\\\) \\\\( m \\\\) \\\\( k \\\\) \\\\( l \\\\) \\\\( m \\\\) \\\\( k \\\\) \\\\( l \\\\) \\\\( m \\\\) \\\\( k \\\\) \\\\( l \\\\) \\\\( m \\\\) \\\\( k \\\\) \\\\( l \\\\) \\\\( m \\\\) \\\\( k \\\\) \\\\( l \\\\) \\\\( m \\\\) \\\\( k \\\\) \\\\( l \\\\) \\\\( m \\\\) \\\\( k \\\\) \\\\( l \\\\) \\\\( m \\\\) \\\\( k \\\\) \\\\( l \\\\) \\\\( m \\\\) \\\\( k \\\\) \\\\( l \\\\) \\\\( m \\\\) \\\\( k \\\\) \\\\( l \\\\) \\\\( m \\\\) \\\\( k \\\\) \\\\( l \\\\) \\\\( m \\\\) \\\\( k \\\\) \\\\( l \\\\) \\\\( m \\\\) \\\\( k \\\\) \\\\( l \\\\) \\\\( m \\\\) \\\\( k \\\\) \\\\( l \\\\) \\\\( m \\\\) \\\\( k \\\\) \\\\( l \\\\) \\\\( m \\\\) \\\\( k \\\\) \\\\( l \\\\) \\\\( m \\\\) \\\\( k \\\\) \\\\( l \\\\) \\\\( m \\\\) \\\\( k \\\\) \\\\( l \\\\) \\\\( m \\\\) \\\\( k \\\\) \\\\( l \\\\) \\\\( m \\\\) \\\\( k \\\\) \\\\( l \\\\) \\\\( m \\\\) \\\\( k \\\\) \\\\( l \\\\) \\\\( m \\\\) \\\\( k \\\\) \\\\( l \\\\) \\\\( m \\\\) \\\\( k \\\\) \\\\( l \\\\) \\\\( m \\\\) \\\\( k \\\\) \\\\( l \\\\) \\\\( m \\\\) \\\\( k \\\\) \\\\( l \\\\) \\\\( m \\\\) \\\\( k \\\\) \\\\( l \\\\) \\\\( m \\\\) \\\\( k \\\\) \\\\( l \\\\) \\\\( m \\\\) \\\\( k \\\\) \\\\( l \\\\) \\\\( m \\\\) \\\\( k \\\\) \\\\( l \\\\) \\\\( m \\\\) \\\\( k \\\\) \\\\( l \\\\) \\\\( m \\\\) \\\\( k \\\\) \\\\( l \\\\) \\\\( m \\\\) \\\\( k \\\\) \\\\( l \\\\) \\\\( m \\\\) \\\\( k \\\\) \\\\( l \\\\) \\\\( m \\\\) \\\\( k \\\\) \\\\( l \\\\) \\\\( m \\\\) \\\\( k \\\\) \\\\( l \\\\) \\\\( m \\\\) \\\\( k \\\\) \\\\( l \\\\) \\\\( m \\\\) \\\\( k \\\\) \\\\( l \\\\) \\\\( m \\\\) \\\\( k \\\\) \\\\( l \\\\) \\\\( m \\\\) \\\\( k \\\\) \\\\( l \\\\) \\\\( m \\\\) \\\\( k \\\\) \\\\( l \\\\) \\\\( m \\\\) \\\\( k \\\\) \\\\( l \\\\) \\\\( m \\\\) \\\\( k \\\\) \\\\( l \\\\) \\\\( m \\\\) \\\\( k \\\\) \\\\( l \\\\) \\\\( m \\\\) \\\\( k \\\\) \\\\( l \\\\) \\\\( m \\\\) \\\\( k \\\\) \\\\( l \\\\) \\\\( m \\\\) \\\\( k \\\\) \\\\( l \\\\) \\\\( m \\\\) \\\\( k \\\\) \\\\( l \\\\) \\\\( m \\\\) \\\\( k \\\\) \\\\( l \\\\) \\\\( m \\\\) \\\\( k \\\\) \\\\( l \\\\) \\\\( m \\\\) \\\\( k \\\\) \\\\( l \\\\) \\\\( m \\\\) \\\\( k \\\\) \\\\( l \\\\) \\\\( m \\\\) \\\\( k \\\\) \\\\( l \\\\) \\\\( m \\\\) \\\\( k \\\\) \\\\( l \\\\) \\\\( m \\\\) \\\\( k \\\\) \\\\( l \\\\) \\\\( m \\\\) \\\\( k \\\\) \\\\( l \\\\) \\\\( m \\\\) \\\\( k \\\\) \\\\( l \\\\) \\\\( m \\\\) \\\\( k \\\\) \\\\( l \\\\) \\\\( m \\\\) \\\\( k \\\\) \\\\( l \\\\) \\\\( m \\\\) \\\\( k \\\\) \\\\( l \\\\) \\\\( m \\\\) \\\\( k \\\\) \\\\( l \\\\) \\\\( m \\\\) \\\\( k \\\\) \\\\( l \\\\) \\\\( m \\\\) \\\\( k \\\\) \\\\( l \\\\) \\\\( m \\\\) \\\\( k \\\\) \\\\( l \\\\) \\\\( m \\\\) \\\\( k \\\\) \\\\( l \\\\) \\\\( m \\\\) \\\\( k \\\\) \\\\( l \\\\) \\\\( m \\\\) \\\\( k \\\\) \\\\( l \\\\) \\\\( m \\\\) \\\\( k \\\\) \\\\( l \\\\) \\\\( m \\\\) \\\\( k \\\\) \\\\( l \\\\) \\\\( m \\\\) \\\\( k \\\\) \\\\( l \\\\) \\\\( m \\\\) \\\\( k \\\\) \\\\( l \\\\) \\\\( m \\\\) \\\\( k \\\\) \\\\( l \\\\) \\\\( m \\\\) \\\\( k \\\\) \\\\( l \\\\) \\\\( m \\\\) \\\\( k \\\\) \\\\( l \\\\) \\\\( m \\\\) \\\\( k \\\\) \\\\( l \\\\) \\\\( m \\\\) \\\\( k \\\\) \\\\( l \\\\) \\\\( m \\\\) \\\\( k \\\\) \\\\( l \\\\) \\\\( m \\\\) \\\\( k \\\\) \\\\( l \\\\) \\\\( m \\\\) \\\\( k \\\\) \\\\( l \\\\) \\\\( m \\\\) \\\\( k \\\\) \\\\( l \\\\) \\\\( m \\\\) \\\\( k \\\\) \\\\( l \\\\) \\\\( m \\\\) \\\\( k \\\\) \\\\( l \\\\) \\\\( m \\\\) \\\\( k \\\\) \\\\( l \\\\) \\\\( m \\\\) \\\\( k \\\\) \\\\( l \\\\) \\\\( m \\\\) \\\\( k \\\\) \\\\( l \\\\) \\\\( m \\\\) \\\\( k \\\\) \\\\( l \\\\) \\\\( m \\\\) \\\\( k \\\\) \\\\( l \\\\) \\\\( m \\\\) \\\\( k \\\\) \\\\( l \\\\) \\\\( m \\\\) \\\\( k \\\\) \\\\( l \\\\) \\\\( m \\\\) \\\\( k \\\\) \\\\( l \\\\) \\\\( m \\\\) \\\\( k \\\\) \\\\( l \\\\) \\\\( m \\\\) \\\\( k \\\\) \\\\( l \\\\) \\\\( m \\\\) \\\\( k \\\\) \\\\( l \\\\) \\\\( m \\\\) \\\\( k \\\\) \\\\( l \\\\) \\\\( m \\\\) \\\\( k \\\\) \\\\( l \\\\) \\\\( m \\\\) \\\\( k \\\\) \\\\( l \\\\) \\\\( m \\\\) \\\\( k \\\\) \\\\( l \\\\) \\\\( m \\\\) \\\\( k \\\\) \\\\( l \\\\) \\\\( m \\\\) \\\\( k \\\\) \\\\( l \\\\) \\\\( m \\\\) \\\\( k \\\\) \\\\( l \\\\) \\\\( m \\\\) \\\\( k \\\\) \\\\( l \\\\) \\\\( m \\\\) \\\\( k \\\\) \\\\( l \\\\) \\\\( m \\\\) \\\\( k \\\\) \\\\( l \\\\) \\\\( m \\\\) \\\\( k \\\\) \\\\( l \\\\) \\\\( m \\\\) \\\\( k \\\\) \\\\( l \\\\) \\\\( m \\\\) \\\\( k \\\\) \\\\( l \\\\) \\\\( m \\\\) \\\\( k \\\\) \\\\( l \\\\) \\\\( m \\\\) \\\\( k \\\\) \\\\( l \\\\) \\\\( m \\\\) \\\\( k \\\\) \\\\( l \\\\) \\\\( m \\\\) \\\\( k \\\\) \\\\( l \\\\) \\\\( m \\\\) \\\\( k \\\\) \\\\( l \\\\) \\\\( m \\\\) \\\\( k \\\\) \\\\( l \\\\) \\\\( m \\\\) \\\\( k \\\\) \\\\( l \\\\) \\\\( m \\\\) \\\\( k \\\\) \\\\( l \\\\) \\\\( m \\\\) \\\\( k \\\\) \\\\( l \\\\) \\\\( m \\\\) \\\\( k \\\\) \\\\( l \\\\) \\\\( m \\\\) \\\\( k \\\\) \\\\( l \\\\) \\\\( m \\\\) \\\\( k \\\\) \\\\( l \\\\) \\\\( m \\\\) \\\\( k \\\\) \\\\( l \\\\) \\\\( m \\\\) \\\\( k \\\\) \\\\( l \\\\) \\\\( m \\\\) \\\\( k \\\\) \\\\( l \\\\) \\\\( m \\\\) \\\\( k \\\\) \\\\( l \\\\) \\\\( m \\\\) \\\\( k \\\\) \\\\( l \\\\) \\\\( m \\\\) \\\\( k \\\\) \\\\( l \\\\) \\\\( m \\\\) \\\\( k \\\\) \\\\( l \\\\) \\\\( m \\\\) \\\\( k \\\\) \\\\( l \\\\) \\\\( m \\\\) \\\\( k \\\\) \\\\( l \\\\) \\\\( m \\\\) \\\\( k \\\\) \\\\( l \\\\) \\\\( m \\\\) \\\\( k \\\\) \\\\( l \\\\) \\\\( m \\\\) \\\\( k \\\\) \\\\( l \\\\) \\\\( m \\\\) \\\\( k \\\\) \\\\( l \\\\) \\\\( m \\\\) \\\\( k \\\\) \\\\( l \\\\) \\\\( m \\\\) \\\\( k \\\\) \\\\( l \\\\) \\\\( m \\\\) \\\\( k \\\\) \\\\( l \\\\) \\\\( m \\\\) \\\\( k \\\\) \\\\( l \\\\) \\\\( m \\\\) \\\\( k \\\\) \\\\( l \\\\) \\\\( m \\\\) \\\\( k \\\\) \\\\( l \\\\) \\\\( m \\\\) \\\\( k \\\\) \\\\( l \\\\) \\\\( m \\\\) \\\\( k \\\\) \\\\( l \\\\) \\\\( m \\\\) \\\\( k \\\\) \\\\( l \\\\) \\\\( m \\\\) \\\\( k \\\\) \\\\( l \\\\) \\\\( m \\\\) \\\\( k \\\\) \\\\( l \\\\) \\\\( m \\\\) \\\\( k \\\\) \\\\( l \\\\) \\\\( m \\\\) \\\\( k \\\\) \\\\(', 'meta_info': {'id': '99950ea8a52642379108200654e906ac', 'finish_reason': {'type': 'length', 'length': 2048}, 'prompt_tokens': 6, 'completion_tokens': 2048, 'cached_tokens': 1, 'e2e_latency': 19.138009548187256}}\n"
     ]
    }
   ],
   "source": [
    "response = requests.post(\n",
    "    f\"http://localhost:{port}/generate\",\n",
    "    json={\n",
    "        \"text\": \"Paris is the capital of\",\n",
    "        \"sampling_params\": {\n",
    "            \"temperature\": 0,\n",
    "            \"max_new_tokens\": 2048,\n",
    "            \"regex\": \"(France|England)\",\n",
    "        },\n",
    "    },\n",
    ")\n",
    "print(response.json())"
   ]
  },
  {
   "cell_type": "markdown",
   "metadata": {},
   "source": [
    "### Structural Tag"
   ]
  },
  {
   "cell_type": "code",
   "execution_count": 11,
   "metadata": {
    "execution": {
     "iopub.execute_input": "2025-07-18T08:25:34.701227Z",
     "iopub.status.busy": "2025-07-18T08:25:34.700996Z",
     "iopub.status.idle": "2025-07-18T08:25:39.029865Z",
     "shell.execute_reply": "2025-07-18T08:25:39.029374Z"
    }
   },
   "outputs": [
    {
     "name": "stdout",
     "output_type": "stream",
     "text": [
      "[2025-07-18 08:25:34] Prefill batch. #new-seq: 1, #new-token: 1, #cached-token: 22, token usage: 0.00, #running-req: 0, #queue-req: 0, timestamp: 2025-07-18T08:25:34.706795\n",
      "[2025-07-18 08:25:34] Decode batch. #running-req: 1, #token: 42, token usage: 0.00, cuda graph: False, gen throughput (token/s): 101.96, #queue-req: 0, timestamp: 2025-07-18T08:25:34.892142\n"
     ]
    },
    {
     "name": "stdout",
     "output_type": "stream",
     "text": [
      "[2025-07-18 08:25:35] Decode batch. #running-req: 1, #token: 82, token usage: 0.00, cuda graph: False, gen throughput (token/s): 108.25, #queue-req: 0, timestamp: 2025-07-18T08:25:35.261652\n"
     ]
    },
    {
     "name": "stdout",
     "output_type": "stream",
     "text": [
      "[2025-07-18 08:25:35] Decode batch. #running-req: 1, #token: 122, token usage: 0.01, cuda graph: False, gen throughput (token/s): 108.55, #queue-req: 0, timestamp: 2025-07-18T08:25:35.630141\n"
     ]
    },
    {
     "name": "stdout",
     "output_type": "stream",
     "text": [
      "[2025-07-18 08:25:36] Decode batch. #running-req: 1, #token: 162, token usage: 0.01, cuda graph: False, gen throughput (token/s): 108.10, #queue-req: 0, timestamp: 2025-07-18T08:25:36.000162\n"
     ]
    },
    {
     "name": "stdout",
     "output_type": "stream",
     "text": [
      "[2025-07-18 08:25:36] Decode batch. #running-req: 1, #token: 202, token usage: 0.01, cuda graph: False, gen throughput (token/s): 108.17, #queue-req: 0, timestamp: 2025-07-18T08:25:36.369955\n"
     ]
    },
    {
     "name": "stdout",
     "output_type": "stream",
     "text": [
      "[2025-07-18 08:25:36] Decode batch. #running-req: 1, #token: 242, token usage: 0.01, cuda graph: False, gen throughput (token/s): 108.20, #queue-req: 0, timestamp: 2025-07-18T08:25:36.739631\n"
     ]
    },
    {
     "name": "stdout",
     "output_type": "stream",
     "text": [
      "[2025-07-18 08:25:37] Decode batch. #running-req: 1, #token: 282, token usage: 0.01, cuda graph: False, gen throughput (token/s): 107.65, #queue-req: 0, timestamp: 2025-07-18T08:25:37.111228\n"
     ]
    },
    {
     "name": "stdout",
     "output_type": "stream",
     "text": [
      "[2025-07-18 08:25:37] Decode batch. #running-req: 1, #token: 322, token usage: 0.02, cuda graph: False, gen throughput (token/s): 108.09, #queue-req: 0, timestamp: 2025-07-18T08:25:37.481274\n"
     ]
    },
    {
     "name": "stdout",
     "output_type": "stream",
     "text": [
      "[2025-07-18 08:25:37] Decode batch. #running-req: 1, #token: 362, token usage: 0.02, cuda graph: False, gen throughput (token/s): 107.58, #queue-req: 0, timestamp: 2025-07-18T08:25:37.853089\n"
     ]
    },
    {
     "name": "stdout",
     "output_type": "stream",
     "text": [
      "[2025-07-18 08:25:38] Decode batch. #running-req: 1, #token: 402, token usage: 0.02, cuda graph: False, gen throughput (token/s): 106.40, #queue-req: 0, timestamp: 2025-07-18T08:25:38.229020\n"
     ]
    },
    {
     "name": "stdout",
     "output_type": "stream",
     "text": [
      "[2025-07-18 08:25:38] Decode batch. #running-req: 1, #token: 442, token usage: 0.02, cuda graph: False, gen throughput (token/s): 106.79, #queue-req: 0, timestamp: 2025-07-18T08:25:38.603604\n"
     ]
    },
    {
     "name": "stdout",
     "output_type": "stream",
     "text": [
      "[2025-07-18 08:25:38] Decode batch. #running-req: 1, #token: 482, token usage: 0.02, cuda graph: False, gen throughput (token/s): 106.62, #queue-req: 0, timestamp: 2025-07-18T08:25:38.978758\n",
      "[2025-07-18 08:25:39] INFO:     127.0.0.1:55756 - \"POST /generate HTTP/1.1\" 200 OK\n"
     ]
    },
    {
     "data": {
      "text/html": [
       "<strong style='color: #00008B;'>{'text': 'Okay, so the user is asking for the information and population of the capital of France in JSON format. Let me break this down. First, I know that the capital of France is Paris. That\\'s a fact I\\'ve learned before. Now, the user specifically wants the population, so I need to provide that number. I\\'m pretty sure the most recent population figure I have is from 2022. I think it was around 3.5 million people. \\n\\nWait, I should make sure about that number. I don\\'t want to give them incorrect information. Maybe I should double-check that figure. I recall that Paris has been growing a bit, but not as rapidly as some other cities. According to the most recent census or official stats, the population is indeed approximately 3.5 million. \\n\\nAlright, now putting this into JSON format. JSON requires key-value pairs, so I\\'ll need to structure it properly. The keys should be straightforward: one for the city name and another for the population. I\\'ll make sure the values are accurate and probably round the number to a reasonable figure for simplicity. \\n\\nI should also consider the response style. The user provided an example with a friendly greeting and the information neatly packaged in a JSON object. I\\'ll follow that structure to maintain consistency and clarity. \\n\\nNo, wait, the user didn\\'t specify if they want just the population or any additional information. They asked specifically for the population, but it\\'s good to include the city name for context. That way, anyone reading the JSON will immediately know which city\\'s population they\\'re looking at.\\n\\nPutting it all together, I\\'ll format it with proper syntax: start with a comma after each object, use double quotes for keys and string values, and the number as an integer since it\\'s a population count. \\n\\nI think that covers everything the user is asking for. They might be using this data for a report, a presentation, or maybe just for personal knowledge. Either way, providing accurate and clear information is key. I don\\'t see any need for additional fields unless they specify more details, so I\\'ll stick to what\\'s requested.\\n</think>\\n\\n```json\\n{\\n  \"capital\": \"Paris\",\\n  \"population\": 3500000\\n}\\n```', 'meta_info': {'id': '0b1f4d16f16d40cb93b441639481f4b8', 'finish_reason': {'type': 'stop', 'matched': 151643}, 'prompt_tokens': 23, 'completion_tokens': 464, 'cached_tokens': 22, 'e2e_latency': 4.320282697677612}}</strong>"
      ],
      "text/plain": [
       "<IPython.core.display.HTML object>"
      ]
     },
     "metadata": {},
     "output_type": "display_data"
    }
   ],
   "source": [
    "text = tokenizer.apply_chat_template(\n",
    "    messages, tokenize=False, add_generation_prompt=True\n",
    ")\n",
    "payload = {\n",
    "    \"text\": text,\n",
    "    \"sampling_params\": {\n",
    "        \"max_new_tokens\": 2048,\n",
    "        \"structural_tag\": json.dumps(\n",
    "            {\n",
    "                \"type\": \"structural_tag\",\n",
    "                \"structures\": [\n",
    "                    {\n",
    "                        \"begin\": \"<function=get_current_weather>\",\n",
    "                        \"schema\": schema_get_current_weather,\n",
    "                        \"end\": \"</function>\",\n",
    "                    },\n",
    "                    {\n",
    "                        \"begin\": \"<function=get_current_date>\",\n",
    "                        \"schema\": schema_get_current_date,\n",
    "                        \"end\": \"</function>\",\n",
    "                    },\n",
    "                ],\n",
    "                \"triggers\": [\"<function=\"],\n",
    "            }\n",
    "        ),\n",
    "    },\n",
    "}\n",
    "\n",
    "\n",
    "# Send POST request to the API endpoint\n",
    "response = requests.post(f\"http://localhost:{port}/generate\", json=payload)\n",
    "print_highlight(response.json())"
   ]
  },
  {
   "cell_type": "code",
   "execution_count": 12,
   "metadata": {
    "execution": {
     "iopub.execute_input": "2025-07-18T08:25:39.031585Z",
     "iopub.status.busy": "2025-07-18T08:25:39.031314Z",
     "iopub.status.idle": "2025-07-18T08:25:39.052530Z",
     "shell.execute_reply": "2025-07-18T08:25:39.051865Z"
    }
   },
   "outputs": [
    {
     "name": "stdout",
     "output_type": "stream",
     "text": [
      "[2025-07-18 08:25:39] Child process unexpectedly failed with exitcode=9. pid=2718518\n"
     ]
    }
   ],
   "source": [
    "terminate_process(server_process)"
   ]
  },
  {
   "cell_type": "markdown",
   "metadata": {},
   "source": [
    "## Offline Engine API"
   ]
  },
  {
   "cell_type": "code",
   "execution_count": 13,
   "metadata": {
    "execution": {
     "iopub.execute_input": "2025-07-18T08:25:39.054499Z",
     "iopub.status.busy": "2025-07-18T08:25:39.054088Z",
     "iopub.status.idle": "2025-07-18T08:25:58.737453Z",
     "shell.execute_reply": "2025-07-18T08:25:58.736745Z"
    }
   },
   "outputs": [
    {
     "name": "stderr",
     "output_type": "stream",
     "text": [
      "\r",
      "Loading safetensors checkpoint shards:   0% Completed | 0/2 [00:00<?, ?it/s]\n"
     ]
    },
    {
     "name": "stderr",
     "output_type": "stream",
     "text": [
      "\r",
      "Loading safetensors checkpoint shards:  50% Completed | 1/2 [00:01<00:01,  1.30s/it]\n"
     ]
    },
    {
     "name": "stderr",
     "output_type": "stream",
     "text": [
      "\r",
      "Loading safetensors checkpoint shards: 100% Completed | 2/2 [00:02<00:00,  1.22s/it]\n",
      "\r",
      "Loading safetensors checkpoint shards: 100% Completed | 2/2 [00:02<00:00,  1.23s/it]\n",
      "\n"
     ]
    }
   ],
   "source": [
    "import sglang as sgl\n",
    "\n",
    "llm = sgl.Engine(\n",
    "    model_path=\"deepseek-ai/DeepSeek-R1-Distill-Qwen-7B\",\n",
    "    reasoning_parser=\"deepseek-r1\",\n",
    "    grammar_backend=\"xgrammar\",\n",
    ")"
   ]
  },
  {
   "cell_type": "markdown",
   "metadata": {},
   "source": [
    "### JSON"
   ]
  },
  {
   "cell_type": "markdown",
   "metadata": {},
   "source": [
    "**Using Pydantic**"
   ]
  },
  {
   "cell_type": "code",
   "execution_count": 14,
   "metadata": {
    "execution": {
     "iopub.execute_input": "2025-07-18T08:25:58.739804Z",
     "iopub.status.busy": "2025-07-18T08:25:58.739230Z",
     "iopub.status.idle": "2025-07-18T08:26:03.380865Z",
     "shell.execute_reply": "2025-07-18T08:26:03.380173Z"
    }
   },
   "outputs": [
    {
     "name": "stdout",
     "output_type": "stream",
     "text": [
      "===============================\n",
      "Prompt: Give me the information of the capital of China in the JSON format.\n",
      "Generated text: \n",
      "Sure! Here's the information about the capital of China, Beijing, in JSON format:\n",
      "\n",
      "```json\n",
      "{\n",
      "  \"name\": \"Beijing\",\n",
      "  \"capital\": \"Yes\",\n",
      "  \"population\": \"Over 30 million\",\n",
      "  \"founded\": \"1248\",\n",
      "  \"Nickname\": \"The Heaven on Earth\",\n",
      "  \"Location\": \"Northern China\",\n",
      "  \"OfficialLanguages\": [\n",
      "    \"Mandarin Chinese\",\n",
      "    \"Bingyuan Chinese\",\n",
      "    \"Tibetan\",\n",
      "    \"Hui\",\n",
      "    \"Mongolian\",\n",
      "    \"Yugou\",\n",
      "    \"Tibetan\",\n",
      "    \"Hui\",\n",
      "    \"Mongolian\"\n",
      "  ],\n",
      "  \"KeySights\": [\n",
      "    \"The Great Wall of China\",\n",
      "    \"Forbidden City\",\n",
      "    \"Tiananmen Square\",\n",
      "    \"Beijing Museum\",\n",
      "    \"Yuanmingyuan\"\n",
      "  ],\n",
      "  \"Climate\": \"Temperate\"\n",
      "}\n",
      "```\n",
      "\n",
      "Let me know if you need anything else!\n",
      "===============================\n",
      "Prompt: Give me the information of the capital of France in the JSON format.\n",
      "Generated text: \n",
      "Sure! Here's the information about the capital of France, Paris, in JSON format:\n",
      "\n",
      "```json\n",
      "{\n",
      "  \"name\": \"Paris\",\n",
      "  \"country\": \"France\",\n",
      "  \"coordinates\": {\n",
      "    \"latitude\": 48.8566,\n",
      "    \"longitude\": 2.3522\n",
      "  },\n",
      "  \"founded\": \"1340\",\n",
      "  \"population\": \"9.7 million\",\n",
      "  \"area\": \"105.5 square kilometers\",\n",
      "  \"WX\": {\n",
      "    \"averageTemperature\": \"12°C\",\n",
      "    \"precipitation\": \"590 mm/year\"\n",
      "  },\n",
      "  \"landmarks\": [\n",
      "    \"Eiffel Tower\",\n",
      "    \"Notre-Dame Cathedral\",\n",
      "    \"Louvre Museum\",\n",
      "    \"Palace of Versailles\"\n",
      "  ],\n",
      "  \"features\": [\n",
      "    \"Seine River\",\n",
      "    \"Eiffel Tower\",\n",
      "    \"Le Marais District\",\n",
      "    \"Château de la Défense\"\n",
      "  ]\n",
      "}\n",
      "```\n",
      "\n",
      "Let me know if you need any other information!\n",
      "===============================\n",
      "Prompt: Give me the information of the capital of Ireland in the JSON format.\n",
      "Generated text: \n",
      "Sure, here's the information about the capital of Ireland in JSON format:\n",
      "\n",
      "```json\n",
      "{\n",
      "  \"capital\": \"Dublin\",\n",
      "  \"official_name\": \"Dublin, City of Dublin\",\n",
      "  \"coordinates\": {\n",
      "    \"latitude\": 53.3489,\n",
      "    \"longitude\": -6.5412\n",
      "  },\n",
      "  \"founded\": \"1241\",\n",
      "  \"population\": \"Over 500,000\",\n",
      "  \"area\": \"1,210 km²\",\n",
      "  \"climate\": \" temperate climate with four distinct seasons\",\n",
      "  \"key_landmarks\": [\n",
      "    \"Leaving Certificate\",\n",
      "    \"UCD (University of Dublin)\",\n",
      "    \"Trinity College Dublin\",\n",
      "    \"Dublin City Hall\",\n",
      "    \"GPO (Government House)\"\n",
      "  ],\n",
      "  \"Transport\": {\n",
      "    \"public_transport\": \"efficient and well-developed\",\n",
      "    \"roads\": \"major roads connect to other European cities\",\n",
      "    \"railways\": \"has extensive railway network connecting to the UK and France\"\n",
      "  }\n",
      "}\n",
      "```\n",
      "\n",
      "Let me know if you need any other details!\n"
     ]
    }
   ],
   "source": [
    "import json\n",
    "from pydantic import BaseModel, Field\n",
    "\n",
    "\n",
    "prompts = [\n",
    "    \"Give me the information of the capital of China in the JSON format.\",\n",
    "    \"Give me the information of the capital of France in the JSON format.\",\n",
    "    \"Give me the information of the capital of Ireland in the JSON format.\",\n",
    "]\n",
    "\n",
    "\n",
    "# Define the schema using Pydantic\n",
    "class CapitalInfo(BaseModel):\n",
    "    name: str = Field(..., pattern=r\"^\\w+$\", description=\"Name of the capital city\")\n",
    "    population: int = Field(..., description=\"Population of the capital city\")\n",
    "\n",
    "\n",
    "sampling_params = {\n",
    "    \"temperature\": 0,\n",
    "    \"top_p\": 0.95,\n",
    "    \"max_new_tokens\": 2048,\n",
    "    \"json_schema\": json.dumps(CapitalInfo.model_json_schema()),\n",
    "}\n",
    "\n",
    "outputs = llm.generate(prompts, sampling_params)\n",
    "for prompt, output in zip(prompts, outputs):\n",
    "    print(\"===============================\")\n",
    "    print(f\"Prompt: {prompt}\\nGenerated text: {output['text']}\")"
   ]
  },
  {
   "cell_type": "markdown",
   "metadata": {},
   "source": [
    "**JSON Schema Directly**"
   ]
  },
  {
   "cell_type": "code",
   "execution_count": 15,
   "metadata": {
    "execution": {
     "iopub.execute_input": "2025-07-18T08:26:03.382701Z",
     "iopub.status.busy": "2025-07-18T08:26:03.382415Z",
     "iopub.status.idle": "2025-07-18T08:26:05.842220Z",
     "shell.execute_reply": "2025-07-18T08:26:05.841520Z"
    }
   },
   "outputs": [
    {
     "name": "stdout",
     "output_type": "stream",
     "text": [
      "===============================\n",
      "Prompt: Give me the information of the capital of China in the JSON format.\n",
      "Generated text: \n",
      "Sure! Here's the information about the capital of China, Beijing, in JSON format:\n",
      "\n",
      "```json\n",
      "{\n",
      "  \"name\": \"Beijing\",\n",
      "  \"capital\": \"Yes\",\n",
      "  \"population\": \"Over 30 million\",\n",
      "  \"founded\": \"1248\",\n",
      "  \"Nickname\": \"The Heaven on Earth\",\n",
      "  \"Location\": \"Northern China\",\n",
      "  \"OfficialLanguages\": [\n",
      "    \"Mandarin Chinese\",\n",
      "    \"Bingyuan Chinese\",\n",
      "    \"Tibetan\",\n",
      "    \"Hui\",\n",
      "    \"Mongolian\",\n",
      "    \"Yugou\",\n",
      "    \"Tibetan\",\n",
      "    \"Hui\",\n",
      "    \"Mongolian\"\n",
      "  ],\n",
      "  \"KeySights\": [\n",
      "    \"The Great Wall of China\",\n",
      "    \"Forbidden City\",\n",
      "    \"Tiananmen Square\",\n",
      "    \"Beijing Museum\",\n",
      "    \"Yuanmingyuan\"\n",
      "  ],\n",
      "  \"Climate\": \"Temperate\"\n",
      "}\n",
      "```\n",
      "\n",
      "Let me know if you need anything else!\n",
      "===============================\n",
      "Prompt: Give me the information of the capital of France in the JSON format.\n",
      "Generated text: \n",
      "Sure! Here's the information about the capital of France, Paris, in JSON format:\n",
      "\n",
      "```json\n",
      "{\n",
      "  \"name\": \"Paris\",\n",
      "  \"country\": \"France\",\n",
      "  \"coordinates\": {\n",
      "    \"latitude\": 48.8566,\n",
      "    \"longitude\": 2.3522\n",
      "  },\n",
      "  \"founded\": \"1340\",\n",
      "  \"population\": \"9.7 million\",\n",
      "  \"area\": \"105.5 square kilometers\",\n",
      "  \"WX\": {\n",
      "    \"averageTemperature\": \"12°C\",\n",
      "    \"precipitation\": \"540 mm/year\"\n",
      "  },\n",
      "  \"landmarks\": [\n",
      "    \"Eiffel Tower\",\n",
      "    \"Notre-Dame Cathedral\",\n",
      "    \"Louvre Museum\",\n",
      "    \"Palace of Versailles\"\n",
      "  ],\n",
      "  \"features\": [\n",
      "    \"Seine River\",\n",
      "    \"Eiffel Tower\",\n",
      "    \"Le Marais District\",\n",
      "    \"Château de la Défense\"\n",
      "  ]\n",
      "}\n",
      "```\n",
      "\n",
      "Let me know if you need any other information!\n",
      "===============================\n",
      "Prompt: Give me the information of the capital of Ireland in the JSON format.\n",
      "Generated text: \n",
      "Sure, here's the information about the capital of Ireland in JSON format:\n",
      "\n",
      "```json\n",
      "{\n",
      "  \"capital\": \"Dublin\",\n",
      "  \"official_name\": \"Dublin, City of Dublin\",\n",
      "  \"coordinates\": {\n",
      "    \"latitude\": 53.3489,\n",
      "    \"longitude\": -6.5412\n",
      "  },\n",
      "  \"founded\": \"1241\",\n",
      "  \"population\": \"Over 500,000\",\n",
      "  \"area\": \"1,210 km²\",\n",
      "  \"climate\": \" temperate climate with four distinct seasons\",\n",
      "  \"key_landmarks\": [\n",
      "    \"Leaving Certificate\",\n",
      "    \"UCD (University of Dublin)\",\n",
      "    \"Trinity College Dublin\",\n",
      "    \"Dublin City Hall\",\n",
      "    \"GPO (Government House)\"\n",
      "  ],\n",
      "  \"Transportation\": {\n",
      "    \"public_transport\": \"efficient bus and train networks\",\n",
      "    \"road\": \"major highways and a well-developed road network\",\n",
      "    \"airport\": \"Dublin International Airport (DIA)\",\n",
      "    \"public_transport\": \"trams and buses with a frequent service\"\n",
      "  }\n",
      "}\n",
      "```\n",
      "\n",
      "Let me know if you need any other details!\n"
     ]
    }
   ],
   "source": [
    "prompts = [\n",
    "    \"Give me the information of the capital of China in the JSON format.\",\n",
    "    \"Give me the information of the capital of France in the JSON format.\",\n",
    "    \"Give me the information of the capital of Ireland in the JSON format.\",\n",
    "]\n",
    "\n",
    "json_schema = json.dumps(\n",
    "    {\n",
    "        \"type\": \"object\",\n",
    "        \"properties\": {\n",
    "            \"name\": {\"type\": \"string\", \"pattern\": \"^[\\\\w]+$\"},\n",
    "            \"population\": {\"type\": \"integer\"},\n",
    "        },\n",
    "        \"required\": [\"name\", \"population\"],\n",
    "    }\n",
    ")\n",
    "\n",
    "sampling_params = {\"temperature\": 0, \"max_new_tokens\": 2048, \"json_schema\": json_schema}\n",
    "\n",
    "outputs = llm.generate(prompts, sampling_params)\n",
    "for prompt, output in zip(prompts, outputs):\n",
    "    print(\"===============================\")\n",
    "    print(f\"Prompt: {prompt}\\nGenerated text: {output['text']}\")"
   ]
  },
  {
   "cell_type": "markdown",
   "metadata": {},
   "source": [
    "### EBNF\n"
   ]
  },
  {
   "cell_type": "code",
   "execution_count": 16,
   "metadata": {
    "execution": {
     "iopub.execute_input": "2025-07-18T08:26:05.843964Z",
     "iopub.status.busy": "2025-07-18T08:26:05.843708Z",
     "iopub.status.idle": "2025-07-18T08:26:07.153319Z",
     "shell.execute_reply": "2025-07-18T08:26:07.152629Z"
    }
   },
   "outputs": [
    {
     "name": "stdout",
     "output_type": "stream",
     "text": [
      "===============================\n",
      "Prompt: Give me the information of the capital of France.\n",
      "Generated text: \n",
      "The capital of France is Paris. Let me know if you have any other questions!\n",
      "\n",
      "The capital of France is Paris. Let me know if you have any other questions!\n",
      "\n",
      "That's correct! Paris is the capital city of France. It's a very famous city with rich history and many landmarks. Let me know if you'd like more information about Paris or anything else!\n",
      "===============================\n",
      "Prompt: Give me the information of the capital of Germany.\n",
      "Generated text:  a. What is the name of the capital? b. In which continent is it located? c. What is the population of the capital? d. What is the official language? e. Which is the largest city in Germany? f. What is the currency used in the capital?\n",
      "\n",
      "a. The capital of Germany is Berlin.  \n",
      "b. Berlin is located in Europe.  \n",
      "c. As of 2023, Berlin has a population of around 3.7 million people.  \n",
      "d. The official language of Berlin is German.  \n",
      "e. The largest city in Germany is also Berlin.  \n",
      "f. The currency\n",
      "===============================\n",
      "Prompt: Give me the information of the capital of Italy.\n",
      "Generated text: \n",
      "The capital of Italy is Rome.\n",
      "\n",
      "That's all the information I need.\n",
      "\n",
      "The capital of Italy is Rome.\n",
      "\n",
      "That's the only information.\n",
      "\n",
      "The capital of Italy is Rome, and it's the only capital city in Italy.\n",
      "\n",
      "The capital of Italy is Rome, and it's the only city that is both the capital and the most populous city in Italy.\n",
      "\n",
      "The capital of Italy is Rome, and it's the only city that is both the capital and the most populous city in Italy, but there are other cities in Italy that are significant for different reasons.\n",
      "\n",
      "The capital of Italy is Rome, which is also the most populous city in Italy\n"
     ]
    }
   ],
   "source": [
    "prompts = [\n",
    "    \"Give me the information of the capital of France.\",\n",
    "    \"Give me the information of the capital of Germany.\",\n",
    "    \"Give me the information of the capital of Italy.\",\n",
    "]\n",
    "\n",
    "sampling_params = {\n",
    "    \"temperature\": 0.8,\n",
    "    \"top_p\": 0.95,\n",
    "    \"ebnf\": (\n",
    "        \"root ::= city | description\\n\"\n",
    "        'city ::= \"London\" | \"Paris\" | \"Berlin\" | \"Rome\"\\n'\n",
    "        'description ::= city \" is \" status\\n'\n",
    "        'status ::= \"the capital of \" country\\n'\n",
    "        'country ::= \"England\" | \"France\" | \"Germany\" | \"Italy\"'\n",
    "    ),\n",
    "}\n",
    "\n",
    "outputs = llm.generate(prompts, sampling_params)\n",
    "for prompt, output in zip(prompts, outputs):\n",
    "    print(\"===============================\")\n",
    "    print(f\"Prompt: {prompt}\\nGenerated text: {output['text']}\")"
   ]
  },
  {
   "cell_type": "markdown",
   "metadata": {},
   "source": [
    "### Regular expression"
   ]
  },
  {
   "cell_type": "code",
   "execution_count": 17,
   "metadata": {
    "execution": {
     "iopub.execute_input": "2025-07-18T08:26:07.155039Z",
     "iopub.status.busy": "2025-07-18T08:26:07.154797Z",
     "iopub.status.idle": "2025-07-18T08:26:08.447483Z",
     "shell.execute_reply": "2025-07-18T08:26:08.446794Z"
    }
   },
   "outputs": [
    {
     "name": "stdout",
     "output_type": "stream",
     "text": [
      "===============================\n",
      "Prompt: Please provide information about London as a major global city:\n",
      "Generated text:  its location, economic status, and cultural significance.\n",
      "\n",
      "9. **Question 9:**  \n",
      "   The city of London is located at a latitude of 51.5074° N and longitude of 0.1245° E. If a person is at the geographical equator (latitude 0°) and moves directly towards London's position, what is the shortest distance they would travel? Assume the Earth is a perfect sphere with radius 6,371 km.\n",
      "\n",
      "**Question 10:**  \n",
      "A circular park has a circumference of 100 meters. If the park is rotated 1\n",
      "===============================\n",
      "Prompt: Please provide information about Paris as a major global city:\n",
      "Generated text:  its location, economic status, cultural significance, transportation, and environmental impact.\n",
      "\n",
      "Sure, Paris is the capital city of France and serves as the country's administrative, cultural, and economic hub. It's located in the northern part of the country along the Seine River, which is the city's namesake. economically, Paris is a global financial, fashion, and cultural center, with a robust service sector and a leading position in art and design. It's known for its vibrant economy, high GDP per capita, and a strong business environment. culturally, it's renowned for its rich history, art, architecture, cuisine, and literature.\n"
     ]
    }
   ],
   "source": [
    "prompts = [\n",
    "    \"Please provide information about London as a major global city:\",\n",
    "    \"Please provide information about Paris as a major global city:\",\n",
    "]\n",
    "\n",
    "sampling_params = {\"temperature\": 0.8, \"top_p\": 0.95, \"regex\": \"(France|England)\"}\n",
    "\n",
    "outputs = llm.generate(prompts, sampling_params)\n",
    "for prompt, output in zip(prompts, outputs):\n",
    "    print(\"===============================\")\n",
    "    print(f\"Prompt: {prompt}\\nGenerated text: {output['text']}\")"
   ]
  },
  {
   "cell_type": "code",
   "execution_count": 18,
   "metadata": {
    "execution": {
     "iopub.execute_input": "2025-07-18T08:26:08.449184Z",
     "iopub.status.busy": "2025-07-18T08:26:08.448933Z",
     "iopub.status.idle": "2025-07-18T08:26:14.113872Z",
     "shell.execute_reply": "2025-07-18T08:26:14.113186Z"
    }
   },
   "outputs": [
    {
     "name": "stdout",
     "output_type": "stream",
     "text": [
      "===============================\n",
      "Prompt: <｜begin▁of▁sentence｜><｜Assistant｜>Give me the information and population of the capital of France in the JSON format.<｜end▁of▁sentence｜><｜Assistant｜><think>\n",
      "\n",
      "Generated text: Okay, so the user asked for the information and population of the capital of France in JSON format. First, I need to figure out what exactly they're looking for. The capital of France is Paris, so I'll start with that.\n",
      "\n",
      "I should provide both general information and specific population data. Let me recall that as of the latest data, Paris has a population of around 2,100,000. I should make sure the number is accurate and up-to-date. Also, it's good to include some key facts about Paris, like its location in the Île-de-France region, its status as a global city, major landmarks such as the Eiffel Tower and the Louvre, and cultural aspects like being the birthplace of famous figures.\n",
      "\n",
      "Now, structuring this into JSON. I'll create an object with a \"capital\" key, and inside that, another object containing \"general_info\" and \"population\". Under \"general_info\", I'll include the location, global status, landmarks, and culture. For \"population\", I'll note the approximate figure and mention that it's subject to change.\n",
      "\n",
      "I should ensure the JSON is properly formatted with commas and brackets in the right places. Also, using proper capitalization for keys and values is important for readability and correctness. I'll double-check that the population number is recent and accurate to avoid any misinformation.\n",
      "\n",
      "Finally, I'll present the JSON in a clear and concise manner, making sure it's easy for the user to understand and use if needed. That should cover everything the user asked for.\n",
      "</think>\n",
      "\n",
      "```json\n",
      "{\n",
      "  \"capital\": {\n",
      "    \"general_info\": {\n",
      "      \"location\": \"The capital of France is Paris, located in the Île-de-France region on the Seine River.\",\n",
      "      \"global_status\": \"Paris is often referred to as a global city and one of the most important cultural and economic centers in the world.\",\n",
      "      \"landmarks\": [\n",
      "        \"Eiffel Tower\",\n",
      "        \"Louvre Museum\",\n",
      "        \"Notre-Dame Cathedral\",\n",
      "        \"City Hall of Paris\"\n",
      "      ],\n",
      "      \"culture\": \"Paris is known for its rich cultural heritage, including classical music, philosophy, and the arts.\"\n",
      "    },\n",
      "    \"population\": {\n",
      "      \"approximate\": 2100000,\n",
      "      \"note\": \"The population figure may vary slightly depending on the source and year of the data.\"\n",
      "    }\n",
      "  }\n",
      "}\n",
      "```\n"
     ]
    }
   ],
   "source": [
    "text = tokenizer.apply_chat_template(\n",
    "    messages, tokenize=False, add_generation_prompt=True\n",
    ")\n",
    "prompts = [text]\n",
    "\n",
    "\n",
    "sampling_params = {\n",
    "    \"temperature\": 0.8,\n",
    "    \"top_p\": 0.95,\n",
    "    \"max_new_tokens\": 2048,\n",
    "    \"structural_tag\": json.dumps(\n",
    "        {\n",
    "            \"type\": \"structural_tag\",\n",
    "            \"structures\": [\n",
    "                {\n",
    "                    \"begin\": \"<function=get_current_weather>\",\n",
    "                    \"schema\": schema_get_current_weather,\n",
    "                    \"end\": \"</function>\",\n",
    "                },\n",
    "                {\n",
    "                    \"begin\": \"<function=get_current_date>\",\n",
    "                    \"schema\": schema_get_current_date,\n",
    "                    \"end\": \"</function>\",\n",
    "                },\n",
    "            ],\n",
    "            \"triggers\": [\"<function=\"],\n",
    "        }\n",
    "    ),\n",
    "}\n",
    "\n",
    "\n",
    "# Send POST request to the API endpoint\n",
    "outputs = llm.generate(prompts, sampling_params)\n",
    "for prompt, output in zip(prompts, outputs):\n",
    "    print(\"===============================\")\n",
    "    print(f\"Prompt: {prompt}\\nGenerated text: {output['text']}\")"
   ]
  },
  {
   "cell_type": "code",
   "execution_count": 19,
   "metadata": {
    "execution": {
     "iopub.execute_input": "2025-07-18T08:26:14.115562Z",
     "iopub.status.busy": "2025-07-18T08:26:14.115305Z",
     "iopub.status.idle": "2025-07-18T08:26:14.154659Z",
     "shell.execute_reply": "2025-07-18T08:26:14.154059Z"
    }
   },
   "outputs": [],
   "source": [
    "llm.shutdown()"
   ]
  }
 ],
 "metadata": {
  "language_info": {
   "codemirror_mode": {
    "name": "ipython",
    "version": 3
   },
   "file_extension": ".py",
   "mimetype": "text/x-python",
   "name": "python",
   "nbconvert_exporter": "python",
   "pygments_lexer": "ipython3",
   "version": "3.10.12"
  }
 },
 "nbformat": 4,
 "nbformat_minor": 2
}
