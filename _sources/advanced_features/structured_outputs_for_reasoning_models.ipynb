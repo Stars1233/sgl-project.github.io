{
 "cells": [
  {
   "cell_type": "markdown",
   "metadata": {},
   "source": [
    "# Structured Outputs For Reasoning Models\n",
    "\n",
    "When working with reasoning models that use special tokens like `<think>...</think>` to denote reasoning sections, you might want to allow free-form text within these sections while still enforcing grammar constraints on the rest of the output.\n",
    "\n",
    "SGLang provides a feature to disable grammar restrictions within reasoning sections. This is particularly useful for models that need to perform complex reasoning steps before providing a structured output.\n",
    "\n",
    "To enable this feature, use the `--reasoning-parser` flag which decide the think_end_token, such as `</think>`, when launching the server. You can also specify the reasoning parser using the `--reasoning-parser` flag.\n",
    "\n",
    "## Supported Models\n",
    "\n",
    "Currently, SGLang supports the following reasoning models:\n",
    "- [DeepSeek R1 series](https://huggingface.co/collections/deepseek-ai/deepseek-r1-678e1e131c0169c0bc89728d): The reasoning content is wrapped with `<think>` and `</think>` tags.\n",
    "- [QwQ](https://huggingface.co/Qwen/QwQ-32B): The reasoning content is wrapped with `<think>` and `</think>` tags.\n",
    "\n",
    "\n",
    "## Usage\n",
    "\n",
    "## OpenAI Compatible API"
   ]
  },
  {
   "cell_type": "markdown",
   "metadata": {},
   "source": [
    "Specify the `--grammar-backend`, `--reasoning-parser` option."
   ]
  },
  {
   "cell_type": "code",
   "execution_count": 1,
   "metadata": {
    "execution": {
     "iopub.execute_input": "2025-09-07T22:01:21.508370Z",
     "iopub.status.busy": "2025-09-07T22:01:21.508242Z",
     "iopub.status.idle": "2025-09-07T22:01:58.538300Z",
     "shell.execute_reply": "2025-09-07T22:01:58.537697Z"
    }
   },
   "outputs": [
    {
     "name": "stdout",
     "output_type": "stream",
     "text": [
      "W0907 22:01:34.627000 4074143 torch/utils/cpp_extension.py:2425] TORCH_CUDA_ARCH_LIST is not set, all archs for visible cards are included for compilation. \n",
      "W0907 22:01:34.627000 4074143 torch/utils/cpp_extension.py:2425] If this is not desired, please set os.environ['TORCH_CUDA_ARCH_LIST'] to specific architectures.\n"
     ]
    },
    {
     "name": "stdout",
     "output_type": "stream",
     "text": [
      "`torch_dtype` is deprecated! Use `dtype` instead!\n",
      "WARNING:transformers.configuration_utils:`torch_dtype` is deprecated! Use `dtype` instead!\n",
      "All deep_gemm operations loaded successfully!\n"
     ]
    },
    {
     "name": "stdout",
     "output_type": "stream",
     "text": [
      "W0907 22:01:44.545000 4074462 torch/utils/cpp_extension.py:2425] TORCH_CUDA_ARCH_LIST is not set, all archs for visible cards are included for compilation. \n",
      "W0907 22:01:44.545000 4074462 torch/utils/cpp_extension.py:2425] If this is not desired, please set os.environ['TORCH_CUDA_ARCH_LIST'] to specific architectures.\n",
      "W0907 22:01:44.625000 4074461 torch/utils/cpp_extension.py:2425] TORCH_CUDA_ARCH_LIST is not set, all archs for visible cards are included for compilation. \n",
      "W0907 22:01:44.625000 4074461 torch/utils/cpp_extension.py:2425] If this is not desired, please set os.environ['TORCH_CUDA_ARCH_LIST'] to specific architectures.\n"
     ]
    },
    {
     "name": "stdout",
     "output_type": "stream",
     "text": [
      "`torch_dtype` is deprecated! Use `dtype` instead!\n",
      "[2025-09-07 22:01:45] `torch_dtype` is deprecated! Use `dtype` instead!\n"
     ]
    },
    {
     "name": "stdout",
     "output_type": "stream",
     "text": [
      "[Gloo] Rank 0 is connected to 0 peer ranks. Expected number of connected peer ranks is : 0\n",
      "[Gloo] Rank 0 is connected to 0 peer ranks. Expected number of connected peer ranks is : 0\n",
      "[Gloo] Rank 0 is connected to 0 peer ranks. Expected number of connected peer ranks is : 0\n",
      "[Gloo] Rank 0 is connected to 0 peer ranks. Expected number of connected peer ranks is : 0\n",
      "[2025-09-07 22:01:46] MOE_RUNNER_BACKEND is not initialized, using triton backend\n"
     ]
    },
    {
     "name": "stdout",
     "output_type": "stream",
     "text": [
      "All deep_gemm operations loaded successfully!\n",
      "\r",
      "Loading safetensors checkpoint shards:   0% Completed | 0/2 [00:00<?, ?it/s]\n"
     ]
    },
    {
     "name": "stdout",
     "output_type": "stream",
     "text": [
      "\r",
      "Loading safetensors checkpoint shards:  50% Completed | 1/2 [00:01<00:01,  1.27s/it]\n"
     ]
    },
    {
     "name": "stdout",
     "output_type": "stream",
     "text": [
      "\r",
      "Loading safetensors checkpoint shards: 100% Completed | 2/2 [00:02<00:00,  1.26s/it]\n",
      "\r",
      "Loading safetensors checkpoint shards: 100% Completed | 2/2 [00:02<00:00,  1.26s/it]\n",
      "\n"
     ]
    },
    {
     "name": "stdout",
     "output_type": "stream",
     "text": [
      "\r",
      "  0%|          | 0/3 [00:00<?, ?it/s]\r",
      "Capturing batches (bs=4 avail_mem=62.72 GB):   0%|          | 0/3 [00:00<?, ?it/s]"
     ]
    },
    {
     "name": "stdout",
     "output_type": "stream",
     "text": [
      "\r",
      "Capturing batches (bs=4 avail_mem=62.72 GB):  33%|███▎      | 1/3 [00:00<00:00,  4.51it/s]\r",
      "Capturing batches (bs=2 avail_mem=62.65 GB):  33%|███▎      | 1/3 [00:00<00:00,  4.51it/s]\r",
      "Capturing batches (bs=1 avail_mem=62.65 GB):  33%|███▎      | 1/3 [00:00<00:00,  4.51it/s]\r",
      "Capturing batches (bs=1 avail_mem=62.65 GB): 100%|██████████| 3/3 [00:00<00:00,  9.72it/s]\r",
      "Capturing batches (bs=1 avail_mem=62.65 GB): 100%|██████████| 3/3 [00:00<00:00,  8.71it/s]\n"
     ]
    },
    {
     "data": {
      "text/html": [
       "<strong style='color: #00008B;'><br><br>                    NOTE: Typically, the server runs in a separate terminal.<br>                    In this notebook, we run the server and notebook code together, so their outputs are combined.<br>                    To improve clarity, the server logs are displayed in the original black color, while the notebook outputs are highlighted in blue.<br>                    To reduce the log length, we set the log level to warning for the server, the default log level is info.<br>                    We are running those notebooks in a CI environment, so the throughput is not representative of the actual performance.<br>                    </strong>"
      ],
      "text/plain": [
       "<IPython.core.display.HTML object>"
      ]
     },
     "metadata": {},
     "output_type": "display_data"
    }
   ],
   "source": [
    "import openai\n",
    "import os\n",
    "\n",
    "from sglang.test.doc_patch import launch_server_cmd\n",
    "from sglang.utils import wait_for_server, print_highlight, terminate_process\n",
    "\n",
    "os.environ[\"TOKENIZERS_PARALLELISM\"] = \"false\"\n",
    "\n",
    "\n",
    "server_process, port = launch_server_cmd(\n",
    "    \"python -m sglang.launch_server --model-path deepseek-ai/DeepSeek-R1-Distill-Qwen-7B --host 0.0.0.0 --reasoning-parser deepseek-r1 --log-level warning\"\n",
    ")\n",
    "\n",
    "wait_for_server(f\"http://localhost:{port}\")\n",
    "client = openai.Client(base_url=f\"http://127.0.0.1:{port}/v1\", api_key=\"None\")"
   ]
  },
  {
   "cell_type": "markdown",
   "metadata": {},
   "source": [
    "### JSON\n",
    "\n",
    "you can directly define a JSON schema or use [Pydantic](https://docs.pydantic.dev/latest/) to define and validate the response."
   ]
  },
  {
   "cell_type": "markdown",
   "metadata": {},
   "source": [
    "**Using Pydantic**"
   ]
  },
  {
   "cell_type": "code",
   "execution_count": 2,
   "metadata": {
    "execution": {
     "iopub.execute_input": "2025-09-07T22:01:58.540561Z",
     "iopub.status.busy": "2025-09-07T22:01:58.540176Z",
     "iopub.status.idle": "2025-09-07T22:02:03.451129Z",
     "shell.execute_reply": "2025-09-07T22:02:03.450665Z"
    }
   },
   "outputs": [
    {
     "data": {
      "text/html": [
       "<strong style='color: #00008B;'>reasoing_content: Alright, so the user asked for the information and population of the capital of France in JSON format. I immediately thought about what the capital is—Paris. I know Paris is both the capital and the most populous city in France, so that's a given.<br><br>Next, I considered the population. I remember that Paris has a large population, but I'm not exactly sure of the current number. I think it's around 2 million, but I'm not 100% certain. I should double-check that to make sure I provide accurate information.<br><br>I also need to structure this in JSON. JSON requires key-value pairs, so I'll need to define the keys appropriately. Maybe \"city\" for the name, \"country\" for the capital, and \"population\" for the number. I should make sure the syntax is correct, with proper commas and quotation marks.<br><br>Wait, the user might be using this data for a project or a presentation. They probably need it in a structured format that's easy to parse. JSON is a good choice because it's widely used in web applications and data interchange. I should ensure the JSON is valid and well-formatted to avoid any issues when they use it.<br><br>I also wonder if they need more details, like the administrative region or some notable landmarks. But since they specifically asked for population, I'll stick to that. Maybe I should include a note about the population figure being approximate, just in case.<br><br>Putting it all together, I'll format the JSON with the city name, country, and population. I'll make sure the keys are in English to keep it clear. Double-checking the population number is crucial to maintain credibility. I think 2,147,000 is a commonly cited figure, so I'll go with that.<br><br>Finally, I'll present the JSON in a code block so it's easy to read and copy. I should also offer further assistance in case they need more data. That way, I cover all bases and ensure the user gets exactly what they're looking for.<br><br><br>content: {<br>  \"name\": \"Paris\",<br>  \"population\": 2147000<br>}</strong>"
      ],
      "text/plain": [
       "<IPython.core.display.HTML object>"
      ]
     },
     "metadata": {},
     "output_type": "display_data"
    }
   ],
   "source": [
    "from pydantic import BaseModel, Field\n",
    "\n",
    "\n",
    "# Define the schema using Pydantic\n",
    "class CapitalInfo(BaseModel):\n",
    "    name: str = Field(..., pattern=r\"^\\w+$\", description=\"Name of the capital city\")\n",
    "    population: int = Field(..., description=\"Population of the capital city\")\n",
    "\n",
    "\n",
    "response = client.chat.completions.create(\n",
    "    model=\"deepseek-ai/DeepSeek-R1-Distill-Qwen-7B\",\n",
    "    messages=[\n",
    "        {\n",
    "            \"role\": \"assistant\",\n",
    "            \"content\": \"Give me the information and population of the capital of France in the JSON format.\",\n",
    "        },\n",
    "    ],\n",
    "    temperature=0,\n",
    "    max_tokens=2048,\n",
    "    response_format={\n",
    "        \"type\": \"json_schema\",\n",
    "        \"json_schema\": {\n",
    "            \"name\": \"foo\",\n",
    "            # convert the pydantic model to json schema\n",
    "            \"schema\": CapitalInfo.model_json_schema(),\n",
    "        },\n",
    "    },\n",
    ")\n",
    "\n",
    "print_highlight(\n",
    "    f\"reasoing_content: {response.choices[0].message.reasoning_content}\\n\\ncontent: {response.choices[0].message.content}\"\n",
    ")"
   ]
  },
  {
   "cell_type": "markdown",
   "metadata": {},
   "source": [
    "**JSON Schema Directly**\n"
   ]
  },
  {
   "cell_type": "code",
   "execution_count": 3,
   "metadata": {
    "execution": {
     "iopub.execute_input": "2025-09-07T22:02:03.452682Z",
     "iopub.status.busy": "2025-09-07T22:02:03.452537Z",
     "iopub.status.idle": "2025-09-07T22:02:05.693994Z",
     "shell.execute_reply": "2025-09-07T22:02:05.693533Z"
    }
   },
   "outputs": [
    {
     "data": {
      "text/html": [
       "<strong style='color: #00008B;'>reasoing_content: Alright, so the user asked for the information and population of the capital of France in JSON format. I immediately thought about what the capital is—Paris. Then, I considered the population. I know it's a big city, but I'm not exactly sure of the current number. I remember it's over 3 million, but I'm not certain if it's 3.5 or 3.6. I should double-check that.<br><br>Next, I thought about the structure. The user wants JSON, so I need to format it correctly with keys like \"city\", \"population\", and maybe \"country\". I should make sure the syntax is correct—no typos, proper commas, and brackets. <br><br>I also considered the user's possible needs. They might be doing a project or a presentation, so providing accurate data is crucial. Maybe they're a student learning about France's capitals or someone compiling demographic data. Either way, precision is key.<br><br>I decided to look up the latest population figure. A quick search shows that as of 2023, Paris has a population of around 3,600,000. That seems right, but I should note that populations can fluctuate due to births, deaths, and migration. <br><br>Putting it all together, I structured the JSON with the city name, population, and country. I made sure the numbers were accurate and the format was correct. I also added a comment to explain the population figure, just in case the user needed more context.<br><br>Finally, I sent the response, ensuring it was clear and met the user's request. I hope this helps them with whatever they're working on!<br><br><br>content: {<br>  \"name\": \"Paris\",<br>  \"population\": 3600000<br>}</strong>"
      ],
      "text/plain": [
       "<IPython.core.display.HTML object>"
      ]
     },
     "metadata": {},
     "output_type": "display_data"
    }
   ],
   "source": [
    "import json\n",
    "\n",
    "json_schema = json.dumps(\n",
    "    {\n",
    "        \"type\": \"object\",\n",
    "        \"properties\": {\n",
    "            \"name\": {\"type\": \"string\", \"pattern\": \"^[\\\\w]+$\"},\n",
    "            \"population\": {\"type\": \"integer\"},\n",
    "        },\n",
    "        \"required\": [\"name\", \"population\"],\n",
    "    }\n",
    ")\n",
    "\n",
    "response = client.chat.completions.create(\n",
    "    model=\"deepseek-ai/DeepSeek-R1-Distill-Qwen-7B\",\n",
    "    messages=[\n",
    "        {\n",
    "            \"role\": \"assistant\",\n",
    "            \"content\": \"Give me the information and population of the capital of France in the JSON format.\",\n",
    "        },\n",
    "    ],\n",
    "    temperature=0,\n",
    "    max_tokens=2048,\n",
    "    response_format={\n",
    "        \"type\": \"json_schema\",\n",
    "        \"json_schema\": {\"name\": \"foo\", \"schema\": json.loads(json_schema)},\n",
    "    },\n",
    ")\n",
    "\n",
    "print_highlight(\n",
    "    f\"reasoing_content: {response.choices[0].message.reasoning_content}\\n\\ncontent: {response.choices[0].message.content}\"\n",
    ")"
   ]
  },
  {
   "cell_type": "markdown",
   "metadata": {},
   "source": [
    "### EBNF"
   ]
  },
  {
   "cell_type": "code",
   "execution_count": 4,
   "metadata": {
    "execution": {
     "iopub.execute_input": "2025-09-07T22:02:05.695509Z",
     "iopub.status.busy": "2025-09-07T22:02:05.695358Z",
     "iopub.status.idle": "2025-09-07T22:02:10.214611Z",
     "shell.execute_reply": "2025-09-07T22:02:10.214148Z"
    }
   },
   "outputs": [
    {
     "data": {
      "text/html": [
       "<strong style='color: #00008B;'>reasoing_content: Okay, so the user asked for the information and population of the capital of France in JSON format. I responded with Paris, its population of around 2.1 million, and included some key facts. Now, the user is following up with a new query about the capitals of other countries. They provided a list of countries and want the same JSON structure for each.<br><br>First, I need to figure out what the user is really looking for. They might be creating a dataset or a project that requires the capitals of various nations. Maybe they're a student working on a geography assignment or a developer building a mapping application. Either way, they need accurate and reliable data.<br><br>Looking at the list they provided: Albania, Algeria, Australia, Austria, Brazil, Canada, China, Colombia, Denmark, Egypt, France, Germany, Greece, Hungary, Iceland, India, Indonesia, Ireland, Italy, Japan, Mexico, Netherlands, Nigeria, Poland, Portugal, Russia, Saudi Arabia, Spain, Sweden, Switzerland, Thailand, Turkey, UK, USA. That's quite a comprehensive list, covering multiple continents.<br><br>I should make sure each country's capital is correct. I know some capitals off the top of my head, like Albania's Tirana, Algeria's Algiers, Australia's Canberra. But I should double-check the rest to avoid mistakes. For example, I'm pretty sure Germany's capital is Berlin, but I should confirm that. Same with countries like Mexico and Spain, where the capital is in a different state.<br><br>The user wants the information in JSON format, so each country will have a key with its name and capital, along with the population. I'll need to look up the most recent population estimates for each. Population numbers can change, so it's important to use the latest data. For example, Germany's population is around 83 million, while the UK's is about 67 million.<br><br>I should structure the JSON array correctly, ensuring each object has the same keys. Also, I'll need to format the numbers properly, using commas for readability. For instance, 2.1 million should be written as 2.1 million, not 2100000.<br><br>I wonder if the user needs the population data to be dynamic or if they prefer static numbers. Since they didn't specify, I'll go with the most recent estimates available. Also, I should present the data clearly, maybe adding comments or organizing it in a way that's easy to read, even though it's just a list.<br><br>Another thing to consider is the possibility of the user needing this data for a presentation or a report. If that's the case, accuracy is crucial. I should verify each piece of information to ensure reliability. For example, confirming that Japan's capital is Tokyo and not another city.<br><br>I should also think about the user's deeper needs. They might be building a quiz app where users can test their knowledge of country capitals, or perhaps they're creating a mapping tool that requires capital locations. Either way, providing accurate and up-to-date information is key.<br><br>I'll start by listing each country with its capital and population, making sure each entry is a separate object in the JSON array. I'll also add a comment at the top to explain the structure, so the user knows what each key represents. This will make the JSON more understandable for them.<br><br>Finally, I'll review the JSON to ensure there are no syntax errors, like missing commas or brackets. It's important that the JSON is valid so that the user can easily parse and use the data without issues.<br><br><br>content: London is the capital of France</strong>"
      ],
      "text/plain": [
       "<IPython.core.display.HTML object>"
      ]
     },
     "metadata": {},
     "output_type": "display_data"
    }
   ],
   "source": [
    "ebnf_grammar = \"\"\"\n",
    "root ::= city | description\n",
    "city ::= \"London\" | \"Paris\" | \"Berlin\" | \"Rome\"\n",
    "description ::= city \" is \" status\n",
    "status ::= \"the capital of \" country\n",
    "country ::= \"England\" | \"France\" | \"Germany\" | \"Italy\"\n",
    "\"\"\"\n",
    "\n",
    "response = client.chat.completions.create(\n",
    "    model=\"deepseek-ai/DeepSeek-R1-Distill-Qwen-7B\",\n",
    "    messages=[\n",
    "        {\"role\": \"system\", \"content\": \"You are a helpful geography bot.\"},\n",
    "        {\n",
    "            \"role\": \"assistant\",\n",
    "            \"content\": \"Give me the information and population of the capital of France in the JSON format.\",\n",
    "        },\n",
    "    ],\n",
    "    temperature=0,\n",
    "    max_tokens=2048,\n",
    "    extra_body={\"ebnf\": ebnf_grammar},\n",
    ")\n",
    "\n",
    "print_highlight(\n",
    "    f\"reasoing_content: {response.choices[0].message.reasoning_content}\\n\\ncontent: {response.choices[0].message.content}\"\n",
    ")"
   ]
  },
  {
   "cell_type": "markdown",
   "metadata": {},
   "source": [
    "### Regular expression"
   ]
  },
  {
   "cell_type": "code",
   "execution_count": 5,
   "metadata": {
    "execution": {
     "iopub.execute_input": "2025-09-07T22:02:10.216109Z",
     "iopub.status.busy": "2025-09-07T22:02:10.215967Z",
     "iopub.status.idle": "2025-09-07T22:02:11.020830Z",
     "shell.execute_reply": "2025-09-07T22:02:11.020380Z"
    }
   },
   "outputs": [
    {
     "data": {
      "text/html": [
       "<strong style='color: #00008B;'>reasoing_content: Alright, so the user just asked, \"What is the capital of France?\" Hmm, that's a pretty straightforward question. I should make sure I provide a clear and accurate answer. Let me think, Paris is definitely the capital. But wait, is there any chance I might have mixed it up with another country? No, I'm pretty sure France's capital is Paris. Maybe I should double-check that to be certain. Yeah, Paris is where the government is located, and that's the capital. Okay, I feel confident about that. I'll just state it directly.<br><br><br>content: Paris</strong>"
      ],
      "text/plain": [
       "<IPython.core.display.HTML object>"
      ]
     },
     "metadata": {},
     "output_type": "display_data"
    }
   ],
   "source": [
    "response = client.chat.completions.create(\n",
    "    model=\"deepseek-ai/DeepSeek-R1-Distill-Qwen-7B\",\n",
    "    messages=[\n",
    "        {\"role\": \"assistant\", \"content\": \"What is the capital of France?\"},\n",
    "    ],\n",
    "    temperature=0,\n",
    "    max_tokens=2048,\n",
    "    extra_body={\"regex\": \"(Paris|London)\"},\n",
    ")\n",
    "\n",
    "print_highlight(\n",
    "    f\"reasoing_content: {response.choices[0].message.reasoning_content}\\n\\ncontent: {response.choices[0].message.content}\"\n",
    ")"
   ]
  },
  {
   "cell_type": "markdown",
   "metadata": {},
   "source": [
    "### Structural Tag"
   ]
  },
  {
   "cell_type": "code",
   "execution_count": 6,
   "metadata": {
    "execution": {
     "iopub.execute_input": "2025-09-07T22:02:11.022256Z",
     "iopub.status.busy": "2025-09-07T22:02:11.022102Z",
     "iopub.status.idle": "2025-09-07T22:02:13.083478Z",
     "shell.execute_reply": "2025-09-07T22:02:13.083023Z"
    }
   },
   "outputs": [
    {
     "data": {
      "text/html": [
       "<strong style='color: #00008B;'>reasoing_content: Okay, so the user is asking for the current date and time in New York and the weather there. I need to figure out how to get both pieces of information using the functions provided. <br><br>First, I should use the get_current_date function. It requires a timezone parameter. The user mentioned New York, so I think the correct timezone code is 'America/New_York'. I'll structure the function call with timezone set to that.<br><br>Next, for the weather, I need to call get_current_weather. The required parameters are city, state, and unit. The city is New York, the state is NY, and the unit should be Fahrenheit since the user didn't specify otherwise. I'll make sure to include all these in the function call.<br><br>I have to make sure each function call is on a separate line as per the instructions. So, I'll first reply with the date and time using the get_current_date function and then the weather details using get_current_weather. I'll also add the sources where I got the function names from.<br><br><br>content: <function=get_current_date>{\"timezone\": \"America/New_York\"}</function>  <br><function=get_current_weather>{\"city\": \"New York\", \"state\": \"NY\", \"unit\": \"fahrenheit\"}</function>  <br><br>Sources:  <br>- Function names and parameters from the provided API documentation.  <br>- get_current_date function parameters from [OpenWeatherMap documentation](https://openweathermap.org/api).  <br>- get_current_weather function parameters from [OpenWeatherMap documentation](https://openweathermap.org/api).</strong>"
      ],
      "text/plain": [
       "<IPython.core.display.HTML object>"
      ]
     },
     "metadata": {},
     "output_type": "display_data"
    }
   ],
   "source": [
    "tool_get_current_weather = {\n",
    "    \"type\": \"function\",\n",
    "    \"function\": {\n",
    "        \"name\": \"get_current_weather\",\n",
    "        \"description\": \"Get the current weather in a given location\",\n",
    "        \"parameters\": {\n",
    "            \"type\": \"object\",\n",
    "            \"properties\": {\n",
    "                \"city\": {\n",
    "                    \"type\": \"string\",\n",
    "                    \"description\": \"The city to find the weather for, e.g. 'San Francisco'\",\n",
    "                },\n",
    "                \"state\": {\n",
    "                    \"type\": \"string\",\n",
    "                    \"description\": \"the two-letter abbreviation for the state that the city is\"\n",
    "                    \" in, e.g. 'CA' which would mean 'California'\",\n",
    "                },\n",
    "                \"unit\": {\n",
    "                    \"type\": \"string\",\n",
    "                    \"description\": \"The unit to fetch the temperature in\",\n",
    "                    \"enum\": [\"celsius\", \"fahrenheit\"],\n",
    "                },\n",
    "            },\n",
    "            \"required\": [\"city\", \"state\", \"unit\"],\n",
    "        },\n",
    "    },\n",
    "}\n",
    "\n",
    "tool_get_current_date = {\n",
    "    \"type\": \"function\",\n",
    "    \"function\": {\n",
    "        \"name\": \"get_current_date\",\n",
    "        \"description\": \"Get the current date and time for a given timezone\",\n",
    "        \"parameters\": {\n",
    "            \"type\": \"object\",\n",
    "            \"properties\": {\n",
    "                \"timezone\": {\n",
    "                    \"type\": \"string\",\n",
    "                    \"description\": \"The timezone to fetch the current date and time for, e.g. 'America/New_York'\",\n",
    "                }\n",
    "            },\n",
    "            \"required\": [\"timezone\"],\n",
    "        },\n",
    "    },\n",
    "}\n",
    "\n",
    "schema_get_current_weather = tool_get_current_weather[\"function\"][\"parameters\"]\n",
    "schema_get_current_date = tool_get_current_date[\"function\"][\"parameters\"]\n",
    "\n",
    "\n",
    "def get_messages():\n",
    "    return [\n",
    "        {\n",
    "            \"role\": \"system\",\n",
    "            \"content\": f\"\"\"\n",
    "# Tool Instructions\n",
    "- Always execute python code in messages that you share.\n",
    "- When looking for real time information use relevant functions if available else fallback to brave_search\n",
    "You have access to the following functions:\n",
    "Use the function 'get_current_weather' to: Get the current weather in a given location\n",
    "{tool_get_current_weather[\"function\"]}\n",
    "Use the function 'get_current_date' to: Get the current date and time for a given timezone\n",
    "{tool_get_current_date[\"function\"]}\n",
    "If a you choose to call a function ONLY reply in the following format:\n",
    "<{{start_tag}}={{function_name}}>{{parameters}}{{end_tag}}\n",
    "where\n",
    "start_tag => `<function`\n",
    "parameters => a JSON dict with the function argument name as key and function argument value as value.\n",
    "end_tag => `</function>`\n",
    "Here is an example,\n",
    "<function=example_function_name>{{\"example_name\": \"example_value\"}}</function>\n",
    "Reminder:\n",
    "- Function calls MUST follow the specified format\n",
    "- Required parameters MUST be specified\n",
    "- Only call one function at a time\n",
    "- Put the entire function call reply on one line\n",
    "- Always add your sources when using search results to answer the user query\n",
    "You are a helpful assistant.\"\"\",\n",
    "        },\n",
    "        {\n",
    "            \"role\": \"assistant\",\n",
    "            \"content\": \"You are in New York. Please get the current date and time, and the weather.\",\n",
    "        },\n",
    "    ]\n",
    "\n",
    "\n",
    "messages = get_messages()\n",
    "\n",
    "response = client.chat.completions.create(\n",
    "    model=\"deepseek-ai/DeepSeek-R1-Distill-Qwen-7B\",\n",
    "    messages=messages,\n",
    "    response_format={\n",
    "        \"type\": \"structural_tag\",\n",
    "        \"max_new_tokens\": 2048,\n",
    "        \"structures\": [\n",
    "            {\n",
    "                \"begin\": \"<function=get_current_weather>\",\n",
    "                \"schema\": schema_get_current_weather,\n",
    "                \"end\": \"</function>\",\n",
    "            },\n",
    "            {\n",
    "                \"begin\": \"<function=get_current_date>\",\n",
    "                \"schema\": schema_get_current_date,\n",
    "                \"end\": \"</function>\",\n",
    "            },\n",
    "        ],\n",
    "        \"triggers\": [\"<function=\"],\n",
    "    },\n",
    ")\n",
    "\n",
    "print_highlight(\n",
    "    f\"reasoing_content: {response.choices[0].message.reasoning_content}\\n\\ncontent: {response.choices[0].message.content}\"\n",
    ")"
   ]
  },
  {
   "cell_type": "markdown",
   "metadata": {},
   "source": [
    "## Native API and SGLang Runtime (SRT)"
   ]
  },
  {
   "cell_type": "markdown",
   "metadata": {},
   "source": [
    "### JSON"
   ]
  },
  {
   "cell_type": "markdown",
   "metadata": {},
   "source": [
    "**Using Pydantic**"
   ]
  },
  {
   "cell_type": "code",
   "execution_count": 7,
   "metadata": {
    "execution": {
     "iopub.execute_input": "2025-09-07T22:02:13.084970Z",
     "iopub.status.busy": "2025-09-07T22:02:13.084826Z",
     "iopub.status.idle": "2025-09-07T22:02:17.648746Z",
     "shell.execute_reply": "2025-09-07T22:02:17.647829Z"
    }
   },
   "outputs": [
    {
     "name": "stdout",
     "output_type": "stream",
     "text": [
      "{'text': 'Okay, so the user is asking for the information and population of the capital of France in JSON format. Let me break this down. First, I need to identify what the capital of France is. I know that Paris is the capital, so that\\'s straightforward. \\n\\nNext, I need to find the population. I remember that Paris is a major city, so its population is quite large. I think it\\'s over 3 million, but I\\'m not exactly sure of the exact number. Maybe I should double-check that. \\n\\nWait, I recall that the population figure can vary depending on the source and the year. The user didn\\'t specify a particular year, so I should probably go with the most recent estimate. I believe the population is around 3,500,000 as of 2023. \\n\\nNow, I need to structure this information into a JSON format. JSON typically uses key-value pairs, so I\\'ll create an object with keys like \"city\", \"population\", and maybe \"country\" since the user mentioned France. \\n\\nI should make sure the keys are in English to keep it clear. The city is Paris, the population is 3,500,000, and the country is France. I\\'ll format this into a JSON object. \\n\\nI also need to present this in a way that\\'s easy to read, so I\\'ll use proper syntax with quotation marks and commas in the right places. No trailing commas to avoid errors. \\n\\nPutting it all together, the JSON should look something like this: a dictionary with the keys and the corresponding values. I\\'ll make sure to test it to ensure it\\'s valid, but since I\\'m just writing it out, I\\'ll assume it\\'s correct based on my knowledge. \\n\\nI think that\\'s all. The user just needs the information in JSON, so this should satisfy their request.\\n</think>{\\n\\n\"name\": \"Paris\",\\n\"population\": 3500000}', 'output_ids': [13, 151643, 151645, 151648, 198, 32313, 11, 773, 279, 1196, 374, 10161, 369, 279, 1995, 323, 7042, 315, 279, 6722, 315, 9625, 304, 4718, 3561, 13, 6771, 752, 1438, 419, 1495, 13, 5512, 11, 358, 1184, 311, 10542, 1128, 279, 6722, 315, 9625, 374, 13, 358, 1414, 429, 12095, 374, 279, 6722, 11, 773, 429, 594, 30339, 13, 4710, 5847, 11, 358, 1184, 311, 1477, 279, 7042, 13, 358, 6099, 429, 12095, 374, 264, 3598, 3283, 11, 773, 1181, 7042, 374, 5008, 3460, 13, 358, 1744, 432, 594, 916, 220, 18, 3526, 11, 714, 358, 2776, 537, 6896, 2704, 315, 279, 4734, 1372, 13, 10696, 358, 1265, 1990, 15934, 429, 13, 4710, 14190, 11, 358, 19091, 429, 279, 7042, 7071, 646, 13289, 11649, 389, 279, 2530, 323, 279, 1042, 13, 576, 1196, 3207, 944, 13837, 264, 3953, 1042, 11, 773, 358, 1265, 4658, 728, 448, 279, 1429, 3213, 16045, 13, 358, 4411, 279, 7042, 374, 2163, 220, 18, 11, 20, 15, 15, 11, 15, 15, 15, 438, 315, 220, 17, 15, 17, 18, 13, 4710, 7039, 11, 358, 1184, 311, 5944, 419, 1995, 1119, 264, 4718, 3561, 13, 4718, 11136, 5711, 1376, 19083, 13530, 11, 773, 358, 3278, 1855, 458, 1633, 448, 6894, 1075, 330, 8926, 497, 330, 44441, 497, 323, 7196, 330, 11141, 1, 2474, 279, 1196, 9733, 9625, 13, 4710, 40, 1265, 1281, 2704, 279, 6894, 525, 304, 6364, 311, 2506, 432, 2797, 13, 576, 3283, 374, 12095, 11, 279, 7042, 374, 220, 18, 11, 20, 15, 15, 11, 15, 15, 15, 11, 323, 279, 3146, 374, 9625, 13, 358, 3278, 3561, 419, 1119, 264, 4718, 1633, 13, 4710, 40, 1083, 1184, 311, 3042, 419, 304, 264, 1616, 429, 594, 4135, 311, 1349, 11, 773, 358, 3278, 990, 6169, 19482, 448, 54231, 15423, 323, 76602, 304, 279, 1290, 7482, 13, 2308, 27748, 76602, 311, 5648, 5975, 13, 4710, 97904, 432, 678, 3786, 11, 279, 4718, 1265, 1401, 2494, 1075, 419, 25, 264, 10997, 448, 279, 6894, 323, 279, 12159, 2750, 13, 358, 3278, 1281, 2704, 311, 1273, 432, 311, 5978, 432, 594, 2697, 11, 714, 2474, 358, 2776, 1101, 4378, 432, 700, 11, 358, 3278, 9658, 432, 594, 4396, 3118, 389, 847, 6540, 13, 4710, 40, 1744, 429, 594, 678, 13, 576, 1196, 1101, 3880, 279, 1995, 304, 4718, 11, 773, 419, 1265, 26553, 862, 1681, 624, 151649, 4257, 1, 606, 788, 330, 59604, 756, 1, 44441, 788, 220, 18, 20, 15, 15, 15, 15, 15, 92, 151643], 'meta_info': {'id': '6f71f62238294bc89e649772c7df059b', 'finish_reason': {'type': 'stop', 'matched': 151643}, 'prompt_tokens': 23, 'weight_version': 'default', 'completion_tokens': 405, 'cached_tokens': 1, 'e2e_latency': 4.026256561279297}}\n"
     ]
    },
    {
     "data": {
      "text/html": [
       "<strong style='color: #00008B;'>reasoing_content: Okay, so the user is asking for the information and population of the capital of France in JSON format. Let me break this down. First, I need to identify what the capital of France is. I know that Paris is the capital, so that's straightforward. <br><br>Next, I need to find the population. I remember that Paris is a major city, so its population is quite large. I think it's over 3 million, but I'm not exactly sure of the exact number. Maybe I should double-check that. <br><br>Wait, I recall that the population figure can vary depending on the source and the year. The user didn't specify a particular year, so I should probably go with the most recent estimate. I believe the population is around 3,500,000 as of 2023. <br><br>Now, I need to structure this information into a JSON format. JSON typically uses key-value pairs, so I'll create an object with keys like \"city\", \"population\", and maybe \"country\" since the user mentioned France. <br><br>I should make sure the keys are in English to keep it clear. The city is Paris, the population is 3,500,000, and the country is France. I'll format this into a JSON object. <br><br>I also need to present this in a way that's easy to read, so I'll use proper syntax with quotation marks and commas in the right places. No trailing commas to avoid errors. <br><br>Putting it all together, the JSON should look something like this: a dictionary with the keys and the corresponding values. I'll make sure to test it to ensure it's valid, but since I'm just writing it out, I'll assume it's correct based on my knowledge. <br><br>I think that's all. The user just needs the information in JSON, so this should satisfy their request.<br><br><br>content: {<br><br>\"name\": \"Paris\",<br>\"population\": 3500000}</strong>"
      ],
      "text/plain": [
       "<IPython.core.display.HTML object>"
      ]
     },
     "metadata": {},
     "output_type": "display_data"
    }
   ],
   "source": [
    "import requests\n",
    "from pydantic import BaseModel, Field\n",
    "from transformers import AutoTokenizer\n",
    "\n",
    "tokenizer = AutoTokenizer.from_pretrained(\"deepseek-ai/DeepSeek-R1-Distill-Qwen-7B\")\n",
    "\n",
    "\n",
    "# Define the schema using Pydantic\n",
    "class CapitalInfo(BaseModel):\n",
    "    name: str = Field(..., pattern=r\"^\\w+$\", description=\"Name of the capital city\")\n",
    "    population: int = Field(..., description=\"Population of the capital city\")\n",
    "\n",
    "\n",
    "messages = [\n",
    "    {\n",
    "        \"role\": \"assistant\",\n",
    "        \"content\": \"Give me the information and population of the capital of France in the JSON format.\",\n",
    "    },\n",
    "]\n",
    "text = tokenizer.apply_chat_template(\n",
    "    messages, tokenize=False, add_generation_prompt=True\n",
    ")\n",
    "# Make API request\n",
    "response = requests.post(\n",
    "    f\"http://localhost:{port}/generate\",\n",
    "    json={\n",
    "        \"text\": text,\n",
    "        \"sampling_params\": {\n",
    "            \"temperature\": 0,\n",
    "            \"max_new_tokens\": 2048,\n",
    "            \"json_schema\": json.dumps(CapitalInfo.model_json_schema()),\n",
    "        },\n",
    "    },\n",
    ")\n",
    "print(response.json())\n",
    "\n",
    "\n",
    "reasoing_content = response.json()[\"text\"].split(\"</think>\")[0]\n",
    "content = response.json()[\"text\"].split(\"</think>\")[1]\n",
    "print_highlight(f\"reasoing_content: {reasoing_content}\\n\\ncontent: {content}\")"
   ]
  },
  {
   "cell_type": "markdown",
   "metadata": {},
   "source": [
    "**JSON Schema Directly**"
   ]
  },
  {
   "cell_type": "code",
   "execution_count": 8,
   "metadata": {
    "execution": {
     "iopub.execute_input": "2025-09-07T22:02:17.651540Z",
     "iopub.status.busy": "2025-09-07T22:02:17.651324Z",
     "iopub.status.idle": "2025-09-07T22:02:21.905342Z",
     "shell.execute_reply": "2025-09-07T22:02:21.904651Z"
    }
   },
   "outputs": [
    {
     "data": {
      "text/html": [
       "<strong style='color: #00008B;'>{'text': 'Okay, so the user is asking for the information and population of the capital of France in JSON format. Let me break this down. First, I need to identify what the capital of France is. I know that Paris is the capital, so that\\'s straightforward. \\n\\nNext, I need to find the population. I remember that Paris is a major city, so its population is quite large. I think it\\'s over 3 million, but I\\'m not exactly sure of the exact number. Maybe I should double-check that. \\n\\nWait, I recall that the population figure can vary depending on the source and the year. The user didn\\'t specify a particular year, so I should probably go with the most recent estimate. I believe the population is around 3,500,000 as of 2023. \\n\\nNow, I need to structure this information into a JSON format. JSON typically uses key-value pairs, so I\\'ll create an object with keys like \"city\", \"population\", and maybe \"country\" since the user mentioned France. \\n\\nI should make sure the keys are in English to keep it clear. The city is Paris, the population is 3,500,000, and the country is France. I\\'ll format this into a JSON object. \\n\\nI also need to present this in a way that\\'s easy to read, so I\\'ll use proper syntax with quotation marks and commas in the right places. No trailing commas to avoid errors. \\n\\nPutting it all together, the JSON should look something like this: a dictionary with the keys and the corresponding values. I\\'ll make sure to test it to ensure it\\'s valid, but since I\\'m just writing it out, I\\'ll assume it\\'s correct based on my knowledge. \\n\\nI think that\\'s all. The user just needs the information in JSON, so this should satisfy their request.\\n</think>{\\n\\n\"name\": \"Paris\",\\n\"population\": 3500000}', 'output_ids': [13, 151643, 151645, 151648, 198, 32313, 11, 773, 279, 1196, 374, 10161, 369, 279, 1995, 323, 7042, 315, 279, 6722, 315, 9625, 304, 4718, 3561, 13, 6771, 752, 1438, 419, 1495, 13, 5512, 11, 358, 1184, 311, 10542, 1128, 279, 6722, 315, 9625, 374, 13, 358, 1414, 429, 12095, 374, 279, 6722, 11, 773, 429, 594, 30339, 13, 4710, 5847, 11, 358, 1184, 311, 1477, 279, 7042, 13, 358, 6099, 429, 12095, 374, 264, 3598, 3283, 11, 773, 1181, 7042, 374, 5008, 3460, 13, 358, 1744, 432, 594, 916, 220, 18, 3526, 11, 714, 358, 2776, 537, 6896, 2704, 315, 279, 4734, 1372, 13, 10696, 358, 1265, 1990, 15934, 429, 13, 4710, 14190, 11, 358, 19091, 429, 279, 7042, 7071, 646, 13289, 11649, 389, 279, 2530, 323, 279, 1042, 13, 576, 1196, 3207, 944, 13837, 264, 3953, 1042, 11, 773, 358, 1265, 4658, 728, 448, 279, 1429, 3213, 16045, 13, 358, 4411, 279, 7042, 374, 2163, 220, 18, 11, 20, 15, 15, 11, 15, 15, 15, 438, 315, 220, 17, 15, 17, 18, 13, 4710, 7039, 11, 358, 1184, 311, 5944, 419, 1995, 1119, 264, 4718, 3561, 13, 4718, 11136, 5711, 1376, 19083, 13530, 11, 773, 358, 3278, 1855, 458, 1633, 448, 6894, 1075, 330, 8926, 497, 330, 44441, 497, 323, 7196, 330, 11141, 1, 2474, 279, 1196, 9733, 9625, 13, 4710, 40, 1265, 1281, 2704, 279, 6894, 525, 304, 6364, 311, 2506, 432, 2797, 13, 576, 3283, 374, 12095, 11, 279, 7042, 374, 220, 18, 11, 20, 15, 15, 11, 15, 15, 15, 11, 323, 279, 3146, 374, 9625, 13, 358, 3278, 3561, 419, 1119, 264, 4718, 1633, 13, 4710, 40, 1083, 1184, 311, 3042, 419, 304, 264, 1616, 429, 594, 4135, 311, 1349, 11, 773, 358, 3278, 990, 6169, 19482, 448, 54231, 15423, 323, 76602, 304, 279, 1290, 7482, 13, 2308, 27748, 76602, 311, 5648, 5975, 13, 4710, 97904, 432, 678, 3786, 11, 279, 4718, 1265, 1401, 2494, 1075, 419, 25, 264, 10997, 448, 279, 6894, 323, 279, 12159, 2750, 13, 358, 3278, 1281, 2704, 311, 1273, 432, 311, 5978, 432, 594, 2697, 11, 714, 2474, 358, 2776, 1101, 4378, 432, 700, 11, 358, 3278, 9658, 432, 594, 4396, 3118, 389, 847, 6540, 13, 4710, 40, 1744, 429, 594, 678, 13, 576, 1196, 1101, 3880, 279, 1995, 304, 4718, 11, 773, 419, 1265, 26553, 862, 1681, 624, 151649, 4257, 1, 606, 788, 330, 59604, 756, 1, 44441, 788, 220, 18, 20, 15, 15, 15, 15, 15, 92, 151643], 'meta_info': {'id': '4af52db59995468e8be7f4443913de52', 'finish_reason': {'type': 'stop', 'matched': 151643}, 'prompt_tokens': 23, 'weight_version': 'default', 'completion_tokens': 405, 'cached_tokens': 22, 'e2e_latency': 4.244752407073975}}</strong>"
      ],
      "text/plain": [
       "<IPython.core.display.HTML object>"
      ]
     },
     "metadata": {},
     "output_type": "display_data"
    }
   ],
   "source": [
    "json_schema = json.dumps(\n",
    "    {\n",
    "        \"type\": \"object\",\n",
    "        \"properties\": {\n",
    "            \"name\": {\"type\": \"string\", \"pattern\": \"^[\\\\w]+$\"},\n",
    "            \"population\": {\"type\": \"integer\"},\n",
    "        },\n",
    "        \"required\": [\"name\", \"population\"],\n",
    "    }\n",
    ")\n",
    "\n",
    "# JSON\n",
    "text = tokenizer.apply_chat_template(\n",
    "    messages, tokenize=False, add_generation_prompt=True\n",
    ")\n",
    "response = requests.post(\n",
    "    f\"http://localhost:{port}/generate\",\n",
    "    json={\n",
    "        \"text\": text,\n",
    "        \"sampling_params\": {\n",
    "            \"temperature\": 0,\n",
    "            \"max_new_tokens\": 2048,\n",
    "            \"json_schema\": json_schema,\n",
    "        },\n",
    "    },\n",
    ")\n",
    "\n",
    "print_highlight(response.json())"
   ]
  },
  {
   "cell_type": "markdown",
   "metadata": {},
   "source": [
    "### EBNF"
   ]
  },
  {
   "cell_type": "code",
   "execution_count": 9,
   "metadata": {
    "execution": {
     "iopub.execute_input": "2025-09-07T22:02:21.907063Z",
     "iopub.status.busy": "2025-09-07T22:02:21.906902Z",
     "iopub.status.idle": "2025-09-07T22:02:23.605023Z",
     "shell.execute_reply": "2025-09-07T22:02:23.604324Z"
    }
   },
   "outputs": [
    {
     "name": "stdout",
     "output_type": "stream",
     "text": [
      "[{'text': \"\\nThe capital of France is Paris. It is located in the northern part of the country, along the Seine River. Paris is known for its rich history, art, and landmarks such as the Eiffel Tower, the Louvre Museum, and Notre-Dame Cathedral. It is a major city in France and has a significant cultural and economic impact.\\n\\nThe capital of France is Paris. It is located in the northern part of the country, along the Seine River. Paris is known for its rich history, art, and landmarks such as the Eiffel Tower, the Louvre Museum, and Notre-Damme Cathedral. It is a major city in France and has a significant cultural and economic impact.\\n\\nPlease provide the information in a clear and concise manner, using bullet points for the location and key landmarks.\\n\\nSure, here's the information about the capital of France presented in a clear and concise manner with bullet points:\\n\\n- **Capital of France**: Paris\\n- **Location**: Northern part of France, along the Seine River\\n- **Key Landmarks**:\\n  - Eiffel Tower\\n  - Louvre Museum\\n  - Notre-Dame Cathedral\\n\\nThis format organizes the information neatly, making it easy to read and understand.\", 'output_ids': [279, 6722, 315, 9625, 13, 198, 785, 6722, 315, 9625, 374, 12095, 13, 1084, 374, 7407, 304, 279, 18172, 949, 315, 279, 3146, 11, 3156, 279, 1345, 482, 10948, 13, 12095, 374, 3881, 369, 1181, 9080, 3840, 11, 1947, 11, 323, 59924, 1741, 438, 279, 468, 3092, 301, 21938, 11, 279, 9729, 48506, 16328, 11, 323, 43464, 9420, 373, 56729, 13, 1084, 374, 264, 3598, 3283, 304, 9625, 323, 702, 264, 5089, 12752, 323, 6955, 5421, 382, 785, 6722, 315, 9625, 374, 12095, 13, 1084, 374, 7407, 304, 279, 18172, 949, 315, 279, 3146, 11, 3156, 279, 1345, 482, 10948, 13, 12095, 374, 3881, 369, 1181, 9080, 3840, 11, 1947, 11, 323, 59924, 1741, 438, 279, 468, 3092, 301, 21938, 11, 279, 9729, 48506, 16328, 11, 323, 43464, 9420, 309, 2660, 56729, 13, 1084, 374, 264, 3598, 3283, 304, 9625, 323, 702, 264, 5089, 12752, 323, 6955, 5421, 382, 5501, 3410, 279, 1995, 304, 264, 2797, 323, 63594, 11566, 11, 1667, 17432, 3501, 369, 279, 3728, 323, 1376, 59924, 382, 39814, 11, 1588, 594, 279, 1995, 911, 279, 6722, 315, 9625, 10449, 304, 264, 2797, 323, 63594, 11566, 448, 17432, 3501, 1447, 12, 3070, 63593, 315, 9625, 95518, 12095, 198, 12, 3070, 4707, 95518, 16926, 949, 315, 9625, 11, 3156, 279, 1345, 482, 10948, 198, 12, 3070, 1592, 11426, 15544, 334, 510, 220, 481, 468, 3092, 301, 21938, 198, 220, 481, 9729, 48506, 16328, 198, 220, 481, 43464, 9420, 373, 56729, 271, 1986, 3561, 2872, 4756, 279, 1995, 62166, 11, 3259, 432, 4135, 311, 1349, 323, 3535, 13, 151643], 'meta_info': {'id': '0581c62bd0e941618b5ef665610ac192', 'finish_reason': {'type': 'stop', 'matched': 151643}, 'prompt_tokens': 11, 'weight_version': 'default', 'completion_tokens': 254, 'cached_tokens': 10, 'e2e_latency': 1.6896214485168457}}, {'text': \"\\nThe capital of France is Paris. It is located in the northern part of the country, along the Seine River. Paris is known for its rich history, art, and landmarks such as the Eiffel Tower, the Louvre Museum, and Notre-Dame Cathedral. It is a major city in France and has a significant cultural and economic impact.\\n\\nThe capital of France is Paris. It is located in the northern part of the country, along the Seine River. Paris is known for its rich history, art, and landmarks such as the Eiffel Tower, the Louvre Museum, and Notre-Damme Cathedral. It is a major city in France and has a significant cultural and economic impact.\\n\\nPlease provide the information in a clear and concise manner, using bullet points for the location and key landmarks.\\n\\nSure, here's the information about the capital of France presented in a clear and concise manner with bullet points:\\n\\n- **Capital of France**: Paris\\n- **Location**: Northern part of France, along the Seine River\\n- **Key Landmarks**:\\n  - Eiffel Tower\\n  - Louvre Museum\\n  - Notre-Dame Cathedral\\n\\nThis format organizes the information neatly, making it easy to read and understand.\", 'output_ids': [279, 6722, 315, 9625, 13, 198, 785, 6722, 315, 9625, 374, 12095, 13, 1084, 374, 7407, 304, 279, 18172, 949, 315, 279, 3146, 11, 3156, 279, 1345, 482, 10948, 13, 12095, 374, 3881, 369, 1181, 9080, 3840, 11, 1947, 11, 323, 59924, 1741, 438, 279, 468, 3092, 301, 21938, 11, 279, 9729, 48506, 16328, 11, 323, 43464, 9420, 373, 56729, 13, 1084, 374, 264, 3598, 3283, 304, 9625, 323, 702, 264, 5089, 12752, 323, 6955, 5421, 382, 785, 6722, 315, 9625, 374, 12095, 13, 1084, 374, 7407, 304, 279, 18172, 949, 315, 279, 3146, 11, 3156, 279, 1345, 482, 10948, 13, 12095, 374, 3881, 369, 1181, 9080, 3840, 11, 1947, 11, 323, 59924, 1741, 438, 279, 468, 3092, 301, 21938, 11, 279, 9729, 48506, 16328, 11, 323, 43464, 9420, 309, 2660, 56729, 13, 1084, 374, 264, 3598, 3283, 304, 9625, 323, 702, 264, 5089, 12752, 323, 6955, 5421, 382, 5501, 3410, 279, 1995, 304, 264, 2797, 323, 63594, 11566, 11, 1667, 17432, 3501, 369, 279, 3728, 323, 1376, 59924, 382, 39814, 11, 1588, 594, 279, 1995, 911, 279, 6722, 315, 9625, 10449, 304, 264, 2797, 323, 63594, 11566, 448, 17432, 3501, 1447, 12, 3070, 63593, 315, 9625, 95518, 12095, 198, 12, 3070, 4707, 95518, 16926, 949, 315, 9625, 11, 3156, 279, 1345, 482, 10948, 198, 12, 3070, 1592, 11426, 15544, 334, 510, 220, 481, 468, 3092, 301, 21938, 198, 220, 481, 9729, 48506, 16328, 198, 220, 481, 43464, 9420, 373, 56729, 271, 1986, 3561, 2872, 4756, 279, 1995, 62166, 11, 3259, 432, 4135, 311, 1349, 323, 3535, 13, 151643], 'meta_info': {'id': 'ac9f6199dfbb4b2aa4411ebc435bc1d9', 'finish_reason': {'type': 'stop', 'matched': 151643}, 'prompt_tokens': 11, 'weight_version': 'default', 'completion_tokens': 254, 'cached_tokens': 10, 'e2e_latency': 1.6896297931671143}}, {'text': \"\\nThe capital of France is Paris. It is located in the northern part of the country, along the Seine River. Paris is known for its rich history, art, and landmarks such as the Eiffel Tower, the Louvre Museum, and Notre-Dame Cathedral. It is a major city in France and has a significant cultural and economic impact.\\n\\nThe capital of France is Paris. It is located in the northern part of the country, along the Seine River. Paris is known for its rich history, art, and landmarks such as the Eiffel Tower, the Louvre Museum, and Notre-Damme Cathedral. It is a major city in France and has a significant cultural and economic impact.\\n\\nPlease provide the information in a clear and concise manner, using bullet points for the location and key landmarks.\\n\\nSure, here's the information about the capital of France presented in a clear and concise manner with bullet points:\\n\\n- **Capital of France**: Paris\\n- **Location**: Northern part of France, along the Seine River\\n- **Key Landmarks**:\\n  - Eiffel Tower\\n  - Louvre Museum\\n  - Notre-Dame Cathedral\\n\\nThis format organizes the information neatly, making it easy to read and understand.\", 'output_ids': [279, 6722, 315, 9625, 13, 198, 785, 6722, 315, 9625, 374, 12095, 13, 1084, 374, 7407, 304, 279, 18172, 949, 315, 279, 3146, 11, 3156, 279, 1345, 482, 10948, 13, 12095, 374, 3881, 369, 1181, 9080, 3840, 11, 1947, 11, 323, 59924, 1741, 438, 279, 468, 3092, 301, 21938, 11, 279, 9729, 48506, 16328, 11, 323, 43464, 9420, 373, 56729, 13, 1084, 374, 264, 3598, 3283, 304, 9625, 323, 702, 264, 5089, 12752, 323, 6955, 5421, 382, 785, 6722, 315, 9625, 374, 12095, 13, 1084, 374, 7407, 304, 279, 18172, 949, 315, 279, 3146, 11, 3156, 279, 1345, 482, 10948, 13, 12095, 374, 3881, 369, 1181, 9080, 3840, 11, 1947, 11, 323, 59924, 1741, 438, 279, 468, 3092, 301, 21938, 11, 279, 9729, 48506, 16328, 11, 323, 43464, 9420, 309, 2660, 56729, 13, 1084, 374, 264, 3598, 3283, 304, 9625, 323, 702, 264, 5089, 12752, 323, 6955, 5421, 382, 5501, 3410, 279, 1995, 304, 264, 2797, 323, 63594, 11566, 11, 1667, 17432, 3501, 369, 279, 3728, 323, 1376, 59924, 382, 39814, 11, 1588, 594, 279, 1995, 911, 279, 6722, 315, 9625, 10449, 304, 264, 2797, 323, 63594, 11566, 448, 17432, 3501, 1447, 12, 3070, 63593, 315, 9625, 95518, 12095, 198, 12, 3070, 4707, 95518, 16926, 949, 315, 9625, 11, 3156, 279, 1345, 482, 10948, 198, 12, 3070, 1592, 11426, 15544, 334, 510, 220, 481, 468, 3092, 301, 21938, 198, 220, 481, 9729, 48506, 16328, 198, 220, 481, 43464, 9420, 373, 56729, 271, 1986, 3561, 2872, 4756, 279, 1995, 62166, 11, 3259, 432, 4135, 311, 1349, 323, 3535, 13, 151643], 'meta_info': {'id': '039c6211dd144fae9e82bf1959f8dbf1', 'finish_reason': {'type': 'stop', 'matched': 151643}, 'prompt_tokens': 11, 'weight_version': 'default', 'completion_tokens': 254, 'cached_tokens': 10, 'e2e_latency': 1.6896357536315918}}]\n"
     ]
    }
   ],
   "source": [
    "response = requests.post(\n",
    "    f\"http://localhost:{port}/generate\",\n",
    "    json={\n",
    "        \"text\": \"Give me the information of the capital of France.\",\n",
    "        \"sampling_params\": {\n",
    "            \"max_new_tokens\": 2048,\n",
    "            \"temperature\": 0,\n",
    "            \"n\": 3,\n",
    "            \"ebnf\": (\n",
    "                \"root ::= city | description\\n\"\n",
    "                'city ::= \"London\" | \"Paris\" | \"Berlin\" | \"Rome\"\\n'\n",
    "                'description ::= city \" is \" status\\n'\n",
    "                'status ::= \"the capital of \" country\\n'\n",
    "                'country ::= \"England\" | \"France\" | \"Germany\" | \"Italy\"'\n",
    "            ),\n",
    "        },\n",
    "        \"stream\": False,\n",
    "        \"return_logprob\": False,\n",
    "    },\n",
    ")\n",
    "\n",
    "print(response.json())"
   ]
  },
  {
   "cell_type": "markdown",
   "metadata": {},
   "source": [
    "### Regular expression"
   ]
  },
  {
   "cell_type": "code",
   "execution_count": 10,
   "metadata": {
    "execution": {
     "iopub.execute_input": "2025-09-07T22:02:23.606601Z",
     "iopub.status.busy": "2025-09-07T22:02:23.606433Z",
     "iopub.status.idle": "2025-09-07T22:02:36.114496Z",
     "shell.execute_reply": "2025-09-07T22:02:36.113948Z"
    }
   },
   "outputs": [
    {
     "name": "stdout",
     "output_type": "stream",
     "text": [
      "{'text': ' France, and the \\n\\\\( n \\\\)  \\\\( m \\\\) \\\\( k \\\\) \\\\( l \\\\) \\\\( m \\\\) \\\\( k \\\\) \\\\( l \\\\) \\\\( m \\\\) \\\\( k \\\\) \\\\( l \\\\) \\\\( m \\\\) \\\\( k \\\\) \\\\( l \\\\) \\\\( m \\\\) \\\\( k \\\\) \\\\( l \\\\) \\\\( m \\\\) \\\\( k \\\\) \\\\( l \\\\) \\\\( m \\\\) \\\\( k \\\\) \\\\( l \\\\) \\\\( m \\\\) \\\\( k \\\\) \\\\( l \\\\) \\\\( m \\\\) \\\\( k \\\\) \\\\( l \\\\) \\\\( m \\\\) \\\\( k \\\\) \\\\( l \\\\) \\\\( m \\\\) \\\\( k \\\\) \\\\( l \\\\) \\\\( m \\\\) \\\\( k \\\\) \\\\( l \\\\) \\\\( m \\\\) \\\\( k \\\\) \\\\( l \\\\) \\\\( m \\\\) \\\\( k \\\\) \\\\( l \\\\) \\\\( m \\\\) \\\\( k \\\\) \\\\( l \\\\) \\\\( m \\\\) \\\\( k \\\\) \\\\( l \\\\) \\\\( m \\\\) \\\\( k \\\\) \\\\( l \\\\) \\\\( m \\\\) \\\\( k \\\\) \\\\( l \\\\) \\\\( m \\\\) \\\\( k \\\\) \\\\( l \\\\) \\\\( m \\\\) \\\\( k \\\\) \\\\( l \\\\) \\\\( m \\\\) \\\\( k \\\\) \\\\( l \\\\) \\\\( m \\\\) \\\\( k \\\\) \\\\( l \\\\) \\\\( m \\\\) \\\\( k \\\\) \\\\( l \\\\) \\\\( m \\\\) \\\\( k \\\\) \\\\( l \\\\) \\\\( m \\\\) \\\\( k \\\\) \\\\( l \\\\) \\\\( m \\\\) \\\\( k \\\\) \\\\( l \\\\) \\\\( m \\\\) \\\\( k \\\\) \\\\( l \\\\) \\\\( m \\\\) \\\\( k \\\\) \\\\( l \\\\) \\\\( m \\\\) \\\\( k \\\\) \\\\( l \\\\) \\\\( m \\\\) \\\\( k \\\\) \\\\( l \\\\) \\\\( m \\\\) \\\\( k \\\\) \\\\( l \\\\) \\\\( m \\\\) \\\\( k \\\\) \\\\( l \\\\) \\\\( m \\\\) \\\\( k \\\\) \\\\( l \\\\) \\\\( m \\\\) \\\\( k \\\\) \\\\( l \\\\) \\\\( m \\\\) \\\\( k \\\\) \\\\( l \\\\) \\\\( m \\\\) \\\\( k \\\\) \\\\( l \\\\) \\\\( m \\\\) \\\\( k \\\\) \\\\( l \\\\) \\\\( m \\\\) \\\\( k \\\\) \\\\( l \\\\) \\\\( m \\\\) \\\\( k \\\\) \\\\( l \\\\) \\\\( m \\\\) \\\\( k \\\\) \\\\( l \\\\) \\\\( m \\\\) \\\\( k \\\\) \\\\( l \\\\) \\\\( m \\\\) \\\\( k \\\\) \\\\( l \\\\) \\\\( m \\\\) \\\\( k \\\\) \\\\( l \\\\) \\\\( m \\\\) \\\\( k \\\\) \\\\( l \\\\) \\\\( m \\\\) \\\\( k \\\\) \\\\( l \\\\) \\\\( m \\\\) \\\\( k \\\\) \\\\( l \\\\) \\\\( m \\\\) \\\\( k \\\\) \\\\( l \\\\) \\\\( m \\\\) \\\\( k \\\\) \\\\( l \\\\) \\\\( m \\\\) \\\\( k \\\\) \\\\( l \\\\) \\\\( m \\\\) \\\\( k \\\\) \\\\( l \\\\) \\\\( m \\\\) \\\\( k \\\\) \\\\( l \\\\) \\\\( m \\\\) \\\\( k \\\\) \\\\( l \\\\) \\\\( m \\\\) \\\\( k \\\\) \\\\( l \\\\) \\\\( m \\\\) \\\\( k \\\\) \\\\( l \\\\) \\\\( m \\\\) \\\\( k \\\\) \\\\( l \\\\) \\\\( m \\\\) \\\\( k \\\\) \\\\( l \\\\) \\\\( m \\\\) \\\\( k \\\\) \\\\( l \\\\) \\\\( m \\\\) \\\\( k \\\\) \\\\( l \\\\) \\\\( m \\\\) \\\\( k \\\\) \\\\( l \\\\) \\\\( m \\\\) \\\\( k \\\\) \\\\( l \\\\) \\\\( m \\\\) \\\\( k \\\\) \\\\( l \\\\) \\\\( m \\\\) \\\\( k \\\\) \\\\( l \\\\) \\\\( m \\\\) \\\\( k \\\\) \\\\( l \\\\) \\\\( m \\\\) \\\\( k \\\\) \\\\( l \\\\) \\\\( m \\\\) \\\\( k \\\\) \\\\( l \\\\) \\\\( m \\\\) \\\\( k \\\\) \\\\( l \\\\) \\\\( m \\\\) \\\\( k \\\\) \\\\( l \\\\) \\\\( m \\\\) \\\\( k \\\\) \\\\( l \\\\) \\\\( m \\\\) \\\\( k \\\\) \\\\( l \\\\) \\\\( m \\\\) \\\\( k \\\\) \\\\( l \\\\) \\\\( m \\\\) \\\\( k \\\\) \\\\( l \\\\) \\\\( m \\\\) \\\\( k \\\\) \\\\( l \\\\) \\\\( m \\\\) \\\\( k \\\\) \\\\( l \\\\) \\\\( m \\\\) \\\\( k \\\\) \\\\( l \\\\) \\\\( m \\\\) \\\\( k \\\\) \\\\( l \\\\) \\\\( m \\\\) \\\\( k \\\\) \\\\( l \\\\) \\\\( m \\\\) \\\\( k \\\\) \\\\( l \\\\) \\\\( m \\\\) \\\\( k \\\\) \\\\( l \\\\) \\\\( m \\\\) \\\\( k \\\\) \\\\( l \\\\) \\\\( m \\\\) \\\\( k \\\\) \\\\( l \\\\) \\\\( m \\\\) \\\\( k \\\\) \\\\( l \\\\) \\\\( m \\\\) \\\\( k \\\\) \\\\( l \\\\) \\\\( m \\\\) \\\\( k \\\\) \\\\( l \\\\) \\\\( m \\\\) \\\\( k \\\\) \\\\( l \\\\) \\\\( m \\\\) \\\\( k \\\\) \\\\( l \\\\) \\\\( m \\\\) \\\\( k \\\\) \\\\( l \\\\) \\\\( m \\\\) \\\\( k \\\\) \\\\( l \\\\) \\\\( m \\\\) \\\\( k \\\\) \\\\( l \\\\) \\\\( m \\\\) \\\\( k \\\\) \\\\( l \\\\) \\\\( m \\\\) \\\\( k \\\\) \\\\( l \\\\) \\\\( m \\\\) \\\\( k \\\\) \\\\( l \\\\) \\\\( m \\\\) \\\\( k \\\\) \\\\( l \\\\) \\\\( m \\\\) \\\\( k \\\\) \\\\( l \\\\) \\\\( m \\\\) \\\\( k \\\\) \\\\( l \\\\) \\\\( m \\\\) \\\\( k \\\\) \\\\( l \\\\) \\\\( m \\\\) \\\\( k \\\\) \\\\( l \\\\) \\\\( m \\\\) \\\\( k \\\\) \\\\( l \\\\) \\\\( m \\\\) \\\\( k \\\\) \\\\( l \\\\) \\\\( m \\\\) \\\\( k \\\\) \\\\( l \\\\) \\\\( m \\\\) \\\\( k \\\\) \\\\( l \\\\) \\\\( m \\\\) \\\\( k \\\\) \\\\( l \\\\) \\\\( m \\\\) \\\\( k \\\\) \\\\( l \\\\) \\\\( m \\\\) \\\\( k \\\\) \\\\( l \\\\) \\\\( m \\\\) \\\\( k \\\\) \\\\( l \\\\) \\\\( m \\\\) \\\\( k \\\\) \\\\( l \\\\) \\\\( m \\\\) \\\\( k \\\\) \\\\( l \\\\) \\\\( m \\\\) \\\\( k \\\\) \\\\( l \\\\) \\\\( m \\\\) \\\\( k \\\\) \\\\( l \\\\) \\\\( m \\\\) \\\\( k \\\\) \\\\( l \\\\) \\\\( m \\\\) \\\\( k \\\\) \\\\( l \\\\) \\\\( m \\\\) \\\\( k \\\\) \\\\( l \\\\) \\\\( m \\\\) \\\\( k \\\\) \\\\( l \\\\) \\\\( m \\\\) \\\\( k \\\\) \\\\( l \\\\) \\\\( m \\\\) \\\\( k \\\\) \\\\( l \\\\) \\\\( m \\\\) \\\\( k \\\\) \\\\( l \\\\) \\\\( m \\\\) \\\\( k \\\\) \\\\( l \\\\) \\\\( m \\\\) \\\\( k \\\\) \\\\( l \\\\) \\\\( m \\\\) \\\\( k \\\\) \\\\( l \\\\) \\\\( m \\\\) \\\\( k \\\\) \\\\( l \\\\) \\\\( m \\\\) \\\\( k \\\\) \\\\( l \\\\) \\\\( m \\\\) \\\\( k \\\\) \\\\( l \\\\) \\\\( m \\\\) \\\\( k \\\\) \\\\( l \\\\) \\\\( m \\\\) \\\\( k \\\\) \\\\( l \\\\) \\\\( m \\\\) \\\\( k \\\\) \\\\( l \\\\) \\\\( m \\\\) \\\\( k \\\\) \\\\( l \\\\) \\\\( m \\\\) \\\\( k \\\\) \\\\( l \\\\) \\\\( m \\\\) \\\\( k \\\\) \\\\( l \\\\) \\\\( m \\\\) \\\\( k \\\\) \\\\( l \\\\) \\\\( m \\\\) \\\\( k \\\\) \\\\( l \\\\) \\\\( m \\\\) \\\\( k \\\\) \\\\( l \\\\) \\\\( m \\\\) \\\\( k \\\\) \\\\( l \\\\) \\\\( m \\\\) \\\\( k \\\\) \\\\( l \\\\) \\\\( m \\\\) \\\\( k \\\\) \\\\( l \\\\) \\\\( m \\\\) \\\\( k \\\\) \\\\( l \\\\) \\\\( m \\\\) \\\\( k \\\\) \\\\( l \\\\) \\\\( m \\\\) \\\\( k \\\\) \\\\( l \\\\) \\\\( m \\\\) \\\\( k \\\\) \\\\( l \\\\) \\\\( m \\\\) \\\\( k \\\\) \\\\( l \\\\) \\\\( m \\\\) \\\\( k \\\\) \\\\( l \\\\) \\\\( m \\\\) \\\\( k \\\\) \\\\( l \\\\) \\\\( m \\\\) \\\\( k \\\\) \\\\( l \\\\) \\\\( m \\\\) \\\\( k \\\\) \\\\( l \\\\) \\\\( m \\\\) \\\\( k \\\\) \\\\( l \\\\) \\\\( m \\\\) \\\\( k \\\\) \\\\( l \\\\) \\\\( m \\\\) \\\\( k \\\\) \\\\( l \\\\) \\\\( m \\\\) \\\\( k \\\\) \\\\( l \\\\) \\\\( m \\\\) \\\\( k \\\\) \\\\( l \\\\) \\\\( m \\\\) \\\\( k \\\\) \\\\( l \\\\) \\\\( m \\\\) \\\\( k \\\\) \\\\( l \\\\) \\\\( m \\\\) \\\\( k \\\\) \\\\( l \\\\) \\\\( m \\\\) \\\\( k \\\\) \\\\( l \\\\) \\\\( m \\\\) \\\\( k \\\\) \\\\( l \\\\) \\\\( m \\\\) \\\\( k \\\\) \\\\( l \\\\) \\\\( m \\\\) \\\\( k \\\\) \\\\( l \\\\) \\\\( m \\\\) \\\\( k \\\\) \\\\( l \\\\) \\\\( m \\\\) \\\\( k \\\\) \\\\( l \\\\) \\\\( m \\\\) \\\\( k \\\\) \\\\( l \\\\) \\\\( m \\\\) \\\\( k \\\\) \\\\( l \\\\) \\\\( m \\\\) \\\\( k \\\\) \\\\( l \\\\) \\\\( m \\\\) \\\\( k \\\\) \\\\( l \\\\) \\\\( m \\\\) \\\\( k \\\\) \\\\( l \\\\) \\\\( m \\\\) \\\\( k \\\\) \\\\( l \\\\) \\\\( m \\\\) \\\\( k \\\\) \\\\( l \\\\) \\\\( m \\\\) \\\\( k \\\\) \\\\( l \\\\) \\\\( m \\\\) \\\\( k \\\\) \\\\( l \\\\) \\\\( m \\\\) \\\\( k \\\\) \\\\( l \\\\) \\\\( m \\\\) \\\\( k \\\\) \\\\( l \\\\) \\\\( m \\\\) \\\\( k \\\\) \\\\( l \\\\) \\\\( m \\\\) \\\\( k \\\\) \\\\( l \\\\) \\\\( m \\\\) \\\\( k \\\\) \\\\(', 'output_ids': [59604, 374, 279, 6722, 315, 9625, 11, 323, 279, 220, 198, 44292, 308, 1124, 8, 220, 17767, 296, 1124, 8, 17767, 595, 1124, 8, 17767, 326, 1124, 8, 17767, 296, 1124, 8, 17767, 595, 1124, 8, 17767, 326, 1124, 8, 17767, 296, 1124, 8, 17767, 595, 1124, 8, 17767, 326, 1124, 8, 17767, 296, 1124, 8, 17767, 595, 1124, 8, 17767, 326, 1124, 8, 17767, 296, 1124, 8, 17767, 595, 1124, 8, 17767, 326, 1124, 8, 17767, 296, 1124, 8, 17767, 595, 1124, 8, 17767, 326, 1124, 8, 17767, 296, 1124, 8, 17767, 595, 1124, 8, 17767, 326, 1124, 8, 17767, 296, 1124, 8, 17767, 595, 1124, 8, 17767, 326, 1124, 8, 17767, 296, 1124, 8, 17767, 595, 1124, 8, 17767, 326, 1124, 8, 17767, 296, 1124, 8, 17767, 595, 1124, 8, 17767, 326, 1124, 8, 17767, 296, 1124, 8, 17767, 595, 1124, 8, 17767, 326, 1124, 8, 17767, 296, 1124, 8, 17767, 595, 1124, 8, 17767, 326, 1124, 8, 17767, 296, 1124, 8, 17767, 595, 1124, 8, 17767, 326, 1124, 8, 17767, 296, 1124, 8, 17767, 595, 1124, 8, 17767, 326, 1124, 8, 17767, 296, 1124, 8, 17767, 595, 1124, 8, 17767, 326, 1124, 8, 17767, 296, 1124, 8, 17767, 595, 1124, 8, 17767, 326, 1124, 8, 17767, 296, 1124, 8, 17767, 595, 1124, 8, 17767, 326, 1124, 8, 17767, 296, 1124, 8, 17767, 595, 1124, 8, 17767, 326, 1124, 8, 17767, 296, 1124, 8, 17767, 595, 1124, 8, 17767, 326, 1124, 8, 17767, 296, 1124, 8, 17767, 595, 1124, 8, 17767, 326, 1124, 8, 17767, 296, 1124, 8, 17767, 595, 1124, 8, 17767, 326, 1124, 8, 17767, 296, 1124, 8, 17767, 595, 1124, 8, 17767, 326, 1124, 8, 17767, 296, 1124, 8, 17767, 595, 1124, 8, 17767, 326, 1124, 8, 17767, 296, 1124, 8, 17767, 595, 1124, 8, 17767, 326, 1124, 8, 17767, 296, 1124, 8, 17767, 595, 1124, 8, 17767, 326, 1124, 8, 17767, 296, 1124, 8, 17767, 595, 1124, 8, 17767, 326, 1124, 8, 17767, 296, 1124, 8, 17767, 595, 1124, 8, 17767, 326, 1124, 8, 17767, 296, 1124, 8, 17767, 595, 1124, 8, 17767, 326, 1124, 8, 17767, 296, 1124, 8, 17767, 595, 1124, 8, 17767, 326, 1124, 8, 17767, 296, 1124, 8, 17767, 595, 1124, 8, 17767, 326, 1124, 8, 17767, 296, 1124, 8, 17767, 595, 1124, 8, 17767, 326, 1124, 8, 17767, 296, 1124, 8, 17767, 595, 1124, 8, 17767, 326, 1124, 8, 17767, 296, 1124, 8, 17767, 595, 1124, 8, 17767, 326, 1124, 8, 17767, 296, 1124, 8, 17767, 595, 1124, 8, 17767, 326, 1124, 8, 17767, 296, 1124, 8, 17767, 595, 1124, 8, 17767, 326, 1124, 8, 17767, 296, 1124, 8, 17767, 595, 1124, 8, 17767, 326, 1124, 8, 17767, 296, 1124, 8, 17767, 595, 1124, 8, 17767, 326, 1124, 8, 17767, 296, 1124, 8, 17767, 595, 1124, 8, 17767, 326, 1124, 8, 17767, 296, 1124, 8, 17767, 595, 1124, 8, 17767, 326, 1124, 8, 17767, 296, 1124, 8, 17767, 595, 1124, 8, 17767, 326, 1124, 8, 17767, 296, 1124, 8, 17767, 595, 1124, 8, 17767, 326, 1124, 8, 17767, 296, 1124, 8, 17767, 595, 1124, 8, 17767, 326, 1124, 8, 17767, 296, 1124, 8, 17767, 595, 1124, 8, 17767, 326, 1124, 8, 17767, 296, 1124, 8, 17767, 595, 1124, 8, 17767, 326, 1124, 8, 17767, 296, 1124, 8, 17767, 595, 1124, 8, 17767, 326, 1124, 8, 17767, 296, 1124, 8, 17767, 595, 1124, 8, 17767, 326, 1124, 8, 17767, 296, 1124, 8, 17767, 595, 1124, 8, 17767, 326, 1124, 8, 17767, 296, 1124, 8, 17767, 595, 1124, 8, 17767, 326, 1124, 8, 17767, 296, 1124, 8, 17767, 595, 1124, 8, 17767, 326, 1124, 8, 17767, 296, 1124, 8, 17767, 595, 1124, 8, 17767, 326, 1124, 8, 17767, 296, 1124, 8, 17767, 595, 1124, 8, 17767, 326, 1124, 8, 17767, 296, 1124, 8, 17767, 595, 1124, 8, 17767, 326, 1124, 8, 17767, 296, 1124, 8, 17767, 595, 1124, 8, 17767, 326, 1124, 8, 17767, 296, 1124, 8, 17767, 595, 1124, 8, 17767, 326, 1124, 8, 17767, 296, 1124, 8, 17767, 595, 1124, 8, 17767, 326, 1124, 8, 17767, 296, 1124, 8, 17767, 595, 1124, 8, 17767, 326, 1124, 8, 17767, 296, 1124, 8, 17767, 595, 1124, 8, 17767, 326, 1124, 8, 17767, 296, 1124, 8, 17767, 595, 1124, 8, 17767, 326, 1124, 8, 17767, 296, 1124, 8, 17767, 595, 1124, 8, 17767, 326, 1124, 8, 17767, 296, 1124, 8, 17767, 595, 1124, 8, 17767, 326, 1124, 8, 17767, 296, 1124, 8, 17767, 595, 1124, 8, 17767, 326, 1124, 8, 17767, 296, 1124, 8, 17767, 595, 1124, 8, 17767, 326, 1124, 8, 17767, 296, 1124, 8, 17767, 595, 1124, 8, 17767, 326, 1124, 8, 17767, 296, 1124, 8, 17767, 595, 1124, 8, 17767, 326, 1124, 8, 17767, 296, 1124, 8, 17767, 595, 1124, 8, 17767, 326, 1124, 8, 17767, 296, 1124, 8, 17767, 595, 1124, 8, 17767, 326, 1124, 8, 17767, 296, 1124, 8, 17767, 595, 1124, 8, 17767, 326, 1124, 8, 17767, 296, 1124, 8, 17767, 595, 1124, 8, 17767, 326, 1124, 8, 17767, 296, 1124, 8, 17767, 595, 1124, 8, 17767, 326, 1124, 8, 17767, 296, 1124, 8, 17767, 595, 1124, 8, 17767, 326, 1124, 8, 17767, 296, 1124, 8, 17767, 595, 1124, 8, 17767, 326, 1124, 8, 17767, 296, 1124, 8, 17767, 595, 1124, 8, 17767, 326, 1124, 8, 17767, 296, 1124, 8, 17767, 595, 1124, 8, 17767, 326, 1124, 8, 17767, 296, 1124, 8, 17767, 595, 1124, 8, 17767, 326, 1124, 8, 17767, 296, 1124, 8, 17767, 595, 1124, 8, 17767, 326, 1124, 8, 17767, 296, 1124, 8, 17767, 595, 1124, 8, 17767, 326, 1124, 8, 17767, 296, 1124, 8, 17767, 595, 1124, 8, 17767, 326, 1124, 8, 17767, 296, 1124, 8, 17767, 595, 1124, 8, 17767, 326, 1124, 8, 17767, 296, 1124, 8, 17767, 595, 1124, 8, 17767, 326, 1124, 8, 17767, 296, 1124, 8, 17767, 595, 1124, 8, 17767, 326, 1124, 8, 17767, 296, 1124, 8, 17767, 595, 1124, 8, 17767, 326, 1124, 8, 17767, 296, 1124, 8, 17767, 595, 1124, 8, 17767, 326, 1124, 8, 17767, 296, 1124, 8, 17767, 595, 1124, 8, 17767, 326, 1124, 8, 17767, 296, 1124, 8, 17767, 595, 1124, 8, 17767, 326, 1124, 8, 17767, 296, 1124, 8, 17767, 595, 1124, 8, 17767, 326, 1124, 8, 17767, 296, 1124, 8, 17767, 595, 1124, 8, 17767, 326, 1124, 8, 17767, 296, 1124, 8, 17767, 595, 1124, 8, 17767, 326, 1124, 8, 17767, 296, 1124, 8, 17767, 595, 1124, 8, 17767, 326, 1124, 8, 17767, 296, 1124, 8, 17767, 595, 1124, 8, 17767, 326, 1124, 8, 17767, 296, 1124, 8, 17767, 595, 1124, 8, 17767, 326, 1124, 8, 17767, 296, 1124, 8, 17767, 595, 1124, 8, 17767, 326, 1124, 8, 17767, 296, 1124, 8, 17767, 595, 1124, 8, 17767, 326, 1124, 8, 17767, 296, 1124, 8, 17767, 595, 1124, 8, 17767, 326, 1124, 8, 17767, 296, 1124, 8, 17767, 595, 1124, 8, 17767, 326, 1124, 8, 17767, 296, 1124, 8, 17767, 595, 1124, 8, 17767, 326, 1124, 8, 17767, 296, 1124, 8, 17767, 595, 1124, 8, 17767, 326, 1124, 8, 17767, 296, 1124, 8, 17767, 595, 1124, 8, 17767, 326, 1124, 8, 17767, 296, 1124, 8, 17767, 595, 1124, 8, 17767, 326, 1124, 8, 17767, 296, 1124, 8, 17767, 595, 1124, 8, 17767, 326, 1124, 8, 17767, 296, 1124, 8, 17767, 595, 1124, 8, 17767, 326, 1124, 8, 17767, 296, 1124, 8, 17767, 595, 1124, 8, 17767, 326, 1124, 8, 17767, 296, 1124, 8, 17767, 595, 1124, 8, 17767, 326, 1124, 8, 17767, 296, 1124, 8, 17767, 595, 1124, 8, 17767, 326, 1124, 8, 17767, 296, 1124, 8, 17767, 595, 1124, 8, 17767, 326, 1124, 8, 17767, 296, 1124, 8, 17767, 595, 1124, 8, 17767, 326, 1124, 8, 17767, 296, 1124, 8, 17767, 595, 1124, 8, 17767, 326, 1124, 8, 17767, 296, 1124, 8, 17767, 595, 1124, 8, 17767, 326, 1124, 8, 17767, 296, 1124, 8, 17767, 595, 1124, 8, 17767, 326, 1124, 8, 17767, 296, 1124, 8, 17767, 595, 1124, 8, 17767, 326, 1124, 8, 17767, 296, 1124, 8, 17767, 595, 1124, 8, 17767, 326, 1124, 8, 17767, 296, 1124, 8, 17767, 595, 1124, 8, 17767, 326, 1124, 8, 17767, 296, 1124, 8, 17767, 595, 1124, 8, 17767, 326, 1124, 8, 17767, 296, 1124, 8, 17767, 595, 1124, 8, 17767, 326, 1124, 8, 17767, 296, 1124, 8, 17767, 595, 1124, 8, 17767, 326, 1124, 8, 17767, 296, 1124, 8, 17767, 595, 1124, 8, 17767, 326, 1124, 8, 17767, 296, 1124, 8, 17767, 595, 1124, 8, 17767, 326, 1124, 8, 17767, 296, 1124, 8, 17767, 595, 1124, 8, 17767, 326, 1124, 8, 17767, 296, 1124, 8, 17767, 595, 1124, 8, 17767, 326, 1124, 8, 17767, 296, 1124, 8, 17767, 595, 1124, 8, 17767, 326, 1124, 8, 17767, 296, 1124, 8, 17767, 595, 1124, 8, 17767, 326, 1124, 8, 17767, 296, 1124, 8, 17767, 595, 1124, 8, 17767, 326, 1124, 8, 17767, 296, 1124, 8, 17767, 595, 1124, 8, 17767, 326, 1124, 8, 17767, 296, 1124, 8, 17767, 595, 1124, 8, 17767, 326, 1124, 8, 17767, 296, 1124, 8, 17767, 595, 1124, 8, 17767, 326, 1124, 8, 17767, 296, 1124, 8, 17767, 595, 1124, 8, 17767, 326, 1124, 8, 17767, 296, 1124, 8, 17767, 595, 1124, 8, 17767, 326, 1124, 8, 17767, 296, 1124, 8, 17767, 595, 1124, 8, 17767, 326, 1124, 8, 17767, 296, 1124, 8, 17767, 595, 1124, 8, 17767, 326, 1124, 8, 17767, 296, 1124, 8, 17767, 595, 1124, 8, 17767, 326, 1124, 8, 17767, 296, 1124, 8, 17767, 595, 1124, 8, 17767, 326, 1124, 8, 17767, 296, 1124, 8, 17767, 595, 1124, 8, 17767, 326, 1124, 8, 17767, 296, 1124, 8, 17767, 595, 1124, 8, 17767, 326, 1124, 8, 17767, 296, 1124, 8, 17767, 595, 1124, 8, 17767, 326, 1124, 8, 17767, 296, 1124, 8, 17767, 595, 1124, 8, 17767, 326, 1124, 8, 17767, 296, 1124, 8, 17767, 595, 1124, 8, 17767, 326, 1124, 8, 17767, 296, 1124, 8, 17767, 595, 1124, 8, 17767, 326, 1124, 8, 17767, 296, 1124, 8, 17767, 595, 1124, 8, 17767, 326, 1124, 8, 17767, 296, 1124, 8, 17767, 595, 1124, 8, 17767, 326, 1124, 8, 17767, 296, 1124, 8, 17767, 595, 1124, 8, 17767, 326, 1124, 8, 17767, 296, 1124, 8, 17767, 595, 1124, 8, 17767, 326, 1124, 8, 17767, 296, 1124, 8, 17767, 595, 1124, 8, 17767, 326, 1124, 8, 17767, 296, 1124, 8, 17767, 595, 1124, 8, 17767, 326, 1124, 8, 17767, 296, 1124, 8, 17767, 595, 1124, 8, 17767, 326, 1124, 8, 17767, 296, 1124, 8, 17767, 595, 1124, 8, 17767, 326, 1124, 8, 17767, 296, 1124, 8, 17767, 595, 1124, 8, 17767, 326, 1124, 8, 17767, 296, 1124, 8, 17767, 595, 1124, 8, 17767, 326, 1124, 8, 17767, 296, 1124, 8, 17767, 595, 1124, 8, 17767, 326, 1124, 8, 17767, 296, 1124, 8, 17767, 595, 1124, 8, 17767, 326, 1124, 8, 17767, 296, 1124, 8, 17767, 595, 1124, 8, 17767, 326, 1124, 8, 17767, 296, 1124, 8, 17767, 595, 1124, 8, 17767, 326, 1124, 8, 17767, 296, 1124, 8, 17767, 595, 1124, 8, 17767, 326, 1124, 8, 17767, 296, 1124, 8, 17767, 595, 1124, 8, 17767, 326, 1124, 8, 17767, 296, 1124, 8, 17767, 595, 1124, 8, 17767, 326, 1124, 8, 17767, 296, 1124, 8, 17767, 595, 1124, 8, 17767, 326, 1124, 8, 17767, 296, 1124, 8, 17767, 595, 1124, 8, 17767, 326, 1124, 8, 17767, 296, 1124, 8, 17767, 595, 1124, 8, 17767, 326, 1124, 8, 17767, 296, 1124, 8, 17767, 595, 1124, 8, 17767, 326, 1124, 8, 17767, 296, 1124, 8, 17767, 595, 1124, 8, 17767, 326, 1124, 8, 17767, 296, 1124, 8, 17767, 595, 1124, 8, 17767, 326, 1124, 8, 17767, 296, 1124, 8, 17767, 595, 1124, 8, 17767, 326, 1124, 8, 17767, 296, 1124, 8, 17767, 595, 1124, 8, 17767, 326, 1124, 8, 17767, 296, 1124, 8, 17767, 595, 1124, 8, 17767, 326, 1124, 8, 17767, 296, 1124, 8, 17767, 595, 1124, 8, 17767, 326, 1124, 8, 17767, 296, 1124, 8, 17767, 595, 1124, 8, 17767, 326, 1124, 8, 17767, 296, 1124, 8, 17767, 595, 1124, 8, 17767, 326, 1124, 8, 17767, 296, 1124, 8, 17767, 595, 1124, 8, 17767, 326, 1124, 8, 17767, 296, 1124, 8, 17767, 595, 1124, 8, 17767, 326, 1124, 8, 17767, 296, 1124, 8, 17767, 595, 1124, 8, 17767, 326, 1124, 8, 17767, 296, 1124, 8, 17767, 595, 1124, 8, 17767, 326, 1124, 8, 17767, 296, 1124, 8, 17767, 595, 1124, 8, 17767], 'meta_info': {'id': '42b49f787d5642c3a14cd0dc1e4e378d', 'finish_reason': {'type': 'length', 'length': 2048}, 'prompt_tokens': 6, 'weight_version': 'default', 'completion_tokens': 2048, 'cached_tokens': 1, 'e2e_latency': 12.499505281448364}}\n"
     ]
    }
   ],
   "source": [
    "response = requests.post(\n",
    "    f\"http://localhost:{port}/generate\",\n",
    "    json={\n",
    "        \"text\": \"Paris is the capital of\",\n",
    "        \"sampling_params\": {\n",
    "            \"temperature\": 0,\n",
    "            \"max_new_tokens\": 2048,\n",
    "            \"regex\": \"(France|England)\",\n",
    "        },\n",
    "    },\n",
    ")\n",
    "print(response.json())"
   ]
  },
  {
   "cell_type": "markdown",
   "metadata": {},
   "source": [
    "### Structural Tag"
   ]
  },
  {
   "cell_type": "code",
   "execution_count": 11,
   "metadata": {
    "execution": {
     "iopub.execute_input": "2025-09-07T22:02:36.116206Z",
     "iopub.status.busy": "2025-09-07T22:02:36.116051Z",
     "iopub.status.idle": "2025-09-07T22:02:38.483975Z",
     "shell.execute_reply": "2025-09-07T22:02:38.483503Z"
    }
   },
   "outputs": [
    {
     "data": {
      "text/html": [
       "<strong style='color: #00008B;'>{'text': 'Alright, the user asked for the information and population of the capital of France. First, I need to figure out what cities in France are considered capitals. I know Paris is the most well-known and the main capital. Madagascar is also a capital, but it\\'s a very small place. So, Paris is likely the one they\\'re referring to.\\n\\nI should look up the current population of Paris. From what I remember, populations can change, so I better double-check. As of recent data, Paris has a population of around 2.2 million people. That seems about right.\\n\\nNext, I need to structure this information into a JSON format. JSON requires using key-value pairs, so keys like \"capital\" and \"population\" make sense here. I\\'ll make sure to include units for clarity—kilometers for area and square kilometers for population.\\n\\nI should also add an \"area\" field to give a bit more context about the city. Paris\\'s area is roughly 105 square kilometers, and knowing it\\'s 97% urban helps set the stage for the population density.\\n\\nPutting it all together, the JSON should be clear and concise, providing the user with the information they need efficiently.\\n</think>\\n\\nHere is the information about the capital of France in JSON format:\\n\\n```json\\n{\\n  \"capital\": \"Paris\",\\n  \"population\": 2223146413,\\n  \"area\": 105.14,\\n  \"coordinates\": {\\n    \"latitude\": 48.8566,\\n    \"longitude\": 2.3522\\n  },\\n  \"country\": \"France\"\\n}\\n```\\n\\n(Note: The population figure is an approximation and may vary depending on the source and the year of measurement.)', 'output_ids': [13, 151643, 151645, 151648, 198, 71486, 11, 279, 1196, 4588, 369, 279, 1995, 323, 7042, 315, 279, 6722, 315, 9625, 13, 5512, 11, 358, 1184, 311, 7071, 700, 1128, 9720, 304, 9625, 525, 6509, 92999, 13, 358, 1414, 12095, 374, 279, 1429, 1632, 21309, 323, 279, 1887, 6722, 13, 94628, 374, 1083, 264, 6722, 11, 714, 432, 594, 264, 1602, 2613, 1992, 13, 2055, 11, 12095, 374, 4363, 279, 825, 807, 2299, 22023, 311, 382, 40, 1265, 1401, 705, 279, 1482, 7042, 315, 12095, 13, 5542, 1128, 358, 6099, 11, 21910, 646, 2297, 11, 773, 358, 2664, 1990, 15934, 13, 1634, 315, 3213, 821, 11, 12095, 702, 264, 7042, 315, 2163, 220, 17, 13, 17, 3526, 1251, 13, 2938, 4977, 911, 1290, 382, 5847, 11, 358, 1184, 311, 5944, 419, 1995, 1119, 264, 4718, 3561, 13, 4718, 7460, 1667, 1376, 19083, 13530, 11, 773, 6894, 1075, 330, 65063, 1, 323, 330, 44441, 1, 1281, 5530, 1588, 13, 358, 3278, 1281, 2704, 311, 2924, 8153, 369, 31273, 2293, 85526, 32404, 369, 3082, 323, 9334, 40568, 369, 7042, 382, 40, 1265, 1083, 912, 458, 330, 4798, 1, 2070, 311, 2968, 264, 2699, 803, 2266, 911, 279, 3283, 13, 12095, 594, 3082, 374, 17267, 220, 16, 15, 20, 9334, 40568, 11, 323, 14063, 432, 594, 220, 24, 22, 4, 15662, 8609, 738, 279, 6430, 369, 279, 7042, 17457, 382, 97904, 432, 678, 3786, 11, 279, 4718, 1265, 387, 2797, 323, 63594, 11, 8241, 279, 1196, 448, 279, 1995, 807, 1184, 29720, 624, 151649, 271, 8420, 374, 279, 1995, 911, 279, 6722, 315, 9625, 304, 4718, 3561, 1447, 73594, 2236, 198, 515, 220, 330, 65063, 788, 330, 59604, 756, 220, 330, 44441, 788, 220, 17, 17, 17, 18, 16, 19, 21, 19, 16, 18, 345, 220, 330, 4798, 788, 220, 16, 15, 20, 13, 16, 19, 345, 220, 330, 34739, 788, 341, 262, 330, 23718, 788, 220, 19, 23, 13, 23, 20, 21, 21, 345, 262, 330, 25446, 788, 220, 17, 13, 18, 20, 17, 17, 198, 220, 1153, 220, 330, 11141, 788, 330, 49000, 698, 532, 13874, 19324, 89389, 25, 576, 7042, 7071, 374, 458, 56204, 323, 1231, 13289, 11649, 389, 279, 2530, 323, 279, 1042, 315, 18662, 6138, 151643], 'meta_info': {'id': '1e7e9a9aae2543379bad1046ef698d7b', 'finish_reason': {'type': 'stop', 'matched': 151643}, 'prompt_tokens': 23, 'weight_version': 'default', 'completion_tokens': 362, 'cached_tokens': 22, 'e2e_latency': 2.358292818069458}}</strong>"
      ],
      "text/plain": [
       "<IPython.core.display.HTML object>"
      ]
     },
     "metadata": {},
     "output_type": "display_data"
    }
   ],
   "source": [
    "text = tokenizer.apply_chat_template(\n",
    "    messages, tokenize=False, add_generation_prompt=True\n",
    ")\n",
    "payload = {\n",
    "    \"text\": text,\n",
    "    \"sampling_params\": {\n",
    "        \"max_new_tokens\": 2048,\n",
    "        \"structural_tag\": json.dumps(\n",
    "            {\n",
    "                \"type\": \"structural_tag\",\n",
    "                \"structures\": [\n",
    "                    {\n",
    "                        \"begin\": \"<function=get_current_weather>\",\n",
    "                        \"schema\": schema_get_current_weather,\n",
    "                        \"end\": \"</function>\",\n",
    "                    },\n",
    "                    {\n",
    "                        \"begin\": \"<function=get_current_date>\",\n",
    "                        \"schema\": schema_get_current_date,\n",
    "                        \"end\": \"</function>\",\n",
    "                    },\n",
    "                ],\n",
    "                \"triggers\": [\"<function=\"],\n",
    "            }\n",
    "        ),\n",
    "    },\n",
    "}\n",
    "\n",
    "\n",
    "# Send POST request to the API endpoint\n",
    "response = requests.post(f\"http://localhost:{port}/generate\", json=payload)\n",
    "print_highlight(response.json())"
   ]
  },
  {
   "cell_type": "code",
   "execution_count": 12,
   "metadata": {
    "execution": {
     "iopub.execute_input": "2025-09-07T22:02:38.485634Z",
     "iopub.status.busy": "2025-09-07T22:02:38.485483Z",
     "iopub.status.idle": "2025-09-07T22:02:38.521089Z",
     "shell.execute_reply": "2025-09-07T22:02:38.520447Z"
    }
   },
   "outputs": [],
   "source": [
    "terminate_process(server_process)"
   ]
  },
  {
   "cell_type": "markdown",
   "metadata": {},
   "source": [
    "## Offline Engine API"
   ]
  },
  {
   "cell_type": "code",
   "execution_count": 13,
   "metadata": {
    "execution": {
     "iopub.execute_input": "2025-09-07T22:02:38.523575Z",
     "iopub.status.busy": "2025-09-07T22:02:38.523416Z",
     "iopub.status.idle": "2025-09-07T22:02:59.780929Z",
     "shell.execute_reply": "2025-09-07T22:02:59.780246Z"
    }
   },
   "outputs": [
    {
     "name": "stderr",
     "output_type": "stream",
     "text": [
      "W0907 22:02:40.089000 4073826 torch/utils/cpp_extension.py:2425] TORCH_CUDA_ARCH_LIST is not set, all archs for visible cards are included for compilation. \n",
      "W0907 22:02:40.089000 4073826 torch/utils/cpp_extension.py:2425] If this is not desired, please set os.environ['TORCH_CUDA_ARCH_LIST'] to specific architectures.\n"
     ]
    },
    {
     "name": "stdout",
     "output_type": "stream",
     "text": [
      "All deep_gemm operations loaded successfully!\n"
     ]
    },
    {
     "name": "stderr",
     "output_type": "stream",
     "text": [
      "`torch_dtype` is deprecated! Use `dtype` instead!\n"
     ]
    },
    {
     "name": "stderr",
     "output_type": "stream",
     "text": [
      "WARNING:transformers.configuration_utils:`torch_dtype` is deprecated! Use `dtype` instead!\n"
     ]
    },
    {
     "name": "stderr",
     "output_type": "stream",
     "text": [
      "W0907 22:02:48.542000 4078627 torch/utils/cpp_extension.py:2425] TORCH_CUDA_ARCH_LIST is not set, all archs for visible cards are included for compilation. \n",
      "W0907 22:02:48.542000 4078627 torch/utils/cpp_extension.py:2425] If this is not desired, please set os.environ['TORCH_CUDA_ARCH_LIST'] to specific architectures.\n",
      "W0907 22:02:48.564000 4078628 torch/utils/cpp_extension.py:2425] TORCH_CUDA_ARCH_LIST is not set, all archs for visible cards are included for compilation. \n",
      "W0907 22:02:48.564000 4078628 torch/utils/cpp_extension.py:2425] If this is not desired, please set os.environ['TORCH_CUDA_ARCH_LIST'] to specific architectures.\n"
     ]
    },
    {
     "name": "stderr",
     "output_type": "stream",
     "text": [
      "`torch_dtype` is deprecated! Use `dtype` instead!\n",
      "[2025-09-07 22:02:48] `torch_dtype` is deprecated! Use `dtype` instead!\n"
     ]
    },
    {
     "name": "stdout",
     "output_type": "stream",
     "text": [
      "[Gloo] Rank 0 is connected to 0 peer ranks. Expected number of connected peer ranks is : 0\n",
      "[Gloo] Rank 0 is connected to 0 peer ranks. Expected number of connected peer ranks is : 0\n",
      "[Gloo] Rank 0 is connected to 0 peer ranks. Expected number of connected peer ranks is : 0\n",
      "[Gloo] Rank 0 is connected to 0 peer ranks. Expected number of connected peer ranks is : 0\n"
     ]
    },
    {
     "name": "stdout",
     "output_type": "stream",
     "text": [
      "All deep_gemm operations loaded successfully!\n"
     ]
    },
    {
     "name": "stderr",
     "output_type": "stream",
     "text": [
      "\r",
      "Loading safetensors checkpoint shards:   0% Completed | 0/2 [00:00<?, ?it/s]\n"
     ]
    },
    {
     "name": "stderr",
     "output_type": "stream",
     "text": [
      "\r",
      "Loading safetensors checkpoint shards:  50% Completed | 1/2 [00:01<00:01,  1.96s/it]\n"
     ]
    },
    {
     "name": "stderr",
     "output_type": "stream",
     "text": [
      "\r",
      "Loading safetensors checkpoint shards: 100% Completed | 2/2 [00:03<00:00,  1.66s/it]\n",
      "\r",
      "Loading safetensors checkpoint shards: 100% Completed | 2/2 [00:03<00:00,  1.70s/it]\n",
      "\n"
     ]
    },
    {
     "name": "stderr",
     "output_type": "stream",
     "text": [
      "\r",
      "  0%|          | 0/3 [00:00<?, ?it/s]\r",
      "Capturing batches (bs=4 avail_mem=37.87 GB):   0%|          | 0/3 [00:00<?, ?it/s]"
     ]
    },
    {
     "name": "stderr",
     "output_type": "stream",
     "text": [
      "\r",
      "Capturing batches (bs=4 avail_mem=37.87 GB):  33%|███▎      | 1/3 [00:00<00:00,  2.19it/s]\r",
      "Capturing batches (bs=2 avail_mem=37.81 GB):  33%|███▎      | 1/3 [00:00<00:00,  2.19it/s]"
     ]
    },
    {
     "name": "stderr",
     "output_type": "stream",
     "text": [
      "\r",
      "Capturing batches (bs=2 avail_mem=37.81 GB):  67%|██████▋   | 2/3 [00:00<00:00,  3.21it/s]\r",
      "Capturing batches (bs=1 avail_mem=37.80 GB):  67%|██████▋   | 2/3 [00:00<00:00,  3.21it/s]\r",
      "Capturing batches (bs=1 avail_mem=37.80 GB): 100%|██████████| 3/3 [00:00<00:00,  4.23it/s]\n"
     ]
    }
   ],
   "source": [
    "import sglang as sgl\n",
    "\n",
    "llm = sgl.Engine(\n",
    "    model_path=\"deepseek-ai/DeepSeek-R1-Distill-Qwen-7B\",\n",
    "    reasoning_parser=\"deepseek-r1\",\n",
    "    grammar_backend=\"xgrammar\",\n",
    ")"
   ]
  },
  {
   "cell_type": "markdown",
   "metadata": {},
   "source": [
    "### JSON"
   ]
  },
  {
   "cell_type": "markdown",
   "metadata": {},
   "source": [
    "**Using Pydantic**"
   ]
  },
  {
   "cell_type": "code",
   "execution_count": 14,
   "metadata": {
    "execution": {
     "iopub.execute_input": "2025-09-07T22:02:59.782985Z",
     "iopub.status.busy": "2025-09-07T22:02:59.782584Z",
     "iopub.status.idle": "2025-09-07T22:03:03.223663Z",
     "shell.execute_reply": "2025-09-07T22:03:03.223030Z"
    }
   },
   "outputs": [
    {
     "name": "stdout",
     "output_type": "stream",
     "text": [
      "===============================\n",
      "Prompt: Give me the information of the capital of China in the JSON format.\n",
      "Generated text: \n",
      "Sure! Here's the information about the capital of China, Beijing, in JSON format:\n",
      "\n",
      "```json\n",
      "{\n",
      "  \"name\": \"Beijing\",\n",
      "  \"capital\": \"Yes\",\n",
      "  \"population\": \"Over 30 million\",\n",
      "  \"founded\": \"1248\",\n",
      "  \"Nickname\": \"The Heaven on Earth\",\n",
      "  \"Location\": \"Northern China\",\n",
      "  \"OfficialLanguages\": [\n",
      "    \"Mandarin Chinese\",\n",
      "    \"Bingyuan Chinese\",\n",
      "    \"Tibetan\",\n",
      "    \"Hui\",\n",
      "    \"Mongolian\",\n",
      "    \"Yugou\",\n",
      "    \"Tibetan\",\n",
      "    \"Hui\",\n",
      "    \"Mongolian\"\n",
      "  ],\n",
      "  \"KeySights\": [\n",
      "    \"The Great Wall of China\",\n",
      "    \"Forbidden City\",\n",
      "    \"Tiananmen Square\",\n",
      "    \"Beijing Museum\",\n",
      "    \"Yuanmingyuan\"\n",
      "  ],\n",
      "  \"Climate\": \"Temperate\"\n",
      "}\n",
      "```\n",
      "\n",
      "Let me know if you need anything else!\n",
      "===============================\n",
      "Prompt: Give me the information of the capital of France in the JSON format.\n",
      "Generated text: \n",
      "Sure! Here's the information about the capital of France, Paris, in JSON format:\n",
      "\n",
      "```json\n",
      "{\n",
      "  \"name\": \"Paris\",\n",
      "  \"country\": \"France\",\n",
      "  \"coordinates\": {\n",
      "    \"latitude\": 48.8566,\n",
      "    \"longitude\": 2.3522\n",
      "  },\n",
      "  \"founded\": \"1340\",\n",
      "  \"population\": \"9.7 million\",\n",
      "  \"area\": \"105.5 square kilometers\",\n",
      "  \"WX\": {\n",
      "    \"averageTemperature\": \"12°C\",\n",
      "    \"precipitation\": \"540 mm/year\"\n",
      "  },\n",
      "  \"landmarks\": [\n",
      "    {\n",
      "      \"name\": \"Eiffel Tower\",\n",
      "      \"location\": \"City of Light\",\n",
      "      \"height\": \"300 meters\"\n",
      "    },\n",
      "    {\n",
      "      \"name\": \"Notre-Dame Cathedral\",\n",
      "      \"location\": \"Center of Paris\",\n",
      "      \"height\": \"415 meters\"\n",
      "    }\n",
      "  ],\n",
      "  \"Transport\": {\n",
      "    \"publicTransport\": \"Boulevards, trams, and subways\",\n",
      "    \"airport\": \"Paris International Airport\",\n",
      "    \"railway\": \"Le巴黎-Charles de Gaulle\"\n",
      "  }\n",
      "}\n",
      "```\n",
      "\n",
      "Let me know if you need any other information!\n",
      "===============================\n",
      "Prompt: Give me the information of the capital of Ireland in the JSON format.\n",
      "Generated text: \n",
      "Sure, here's the information about the capital of Ireland in JSON format:\n",
      "\n",
      "```json\n",
      "{\n",
      "  \"capital\": \"Dublin\",\n",
      "  \"official_name\": \"Dublin, City of Dublin\",\n",
      "  \"coordinates\": {\n",
      "    \"latitude\": 53.3489,\n",
      "    \"longitude\": -6.5412\n",
      "  },\n",
      "  \"founded\": \"1241\",\n",
      "  \"population\": \"Over 500,000\",\n",
      "  \"area\": \"1,210 km²\",\n",
      "  \"climate\": \" temperate climate with four distinct seasons\",\n",
      "  \"key_landmarks\": [\n",
      "    \"Leaving Certificate\",\n",
      "    \"UCD (University of Dublin)\",\n",
      "    \"Trinity College Dublin\",\n",
      "    \"Dublin City Hall\",\n",
      "    \"GPO (Government House)\"\n",
      "  ],\n",
      "  \"Transportation\": {\n",
      "    \"public_transport\": \"efficient bus and train networks\",\n",
      "    \"road\": \"major highways and a well-developed road network\",\n",
      "    \"airport\": \"Dublin International Airport (DIA)\",\n",
      "    \"public_transport\": \"trams and buses with frequent service\"\n",
      "  }\n",
      "}\n",
      "```\n",
      "\n",
      "Let me know if you need any other details!\n"
     ]
    }
   ],
   "source": [
    "import json\n",
    "from pydantic import BaseModel, Field\n",
    "\n",
    "\n",
    "prompts = [\n",
    "    \"Give me the information of the capital of China in the JSON format.\",\n",
    "    \"Give me the information of the capital of France in the JSON format.\",\n",
    "    \"Give me the information of the capital of Ireland in the JSON format.\",\n",
    "]\n",
    "\n",
    "\n",
    "# Define the schema using Pydantic\n",
    "class CapitalInfo(BaseModel):\n",
    "    name: str = Field(..., pattern=r\"^\\w+$\", description=\"Name of the capital city\")\n",
    "    population: int = Field(..., description=\"Population of the capital city\")\n",
    "\n",
    "\n",
    "sampling_params = {\n",
    "    \"temperature\": 0,\n",
    "    \"top_p\": 0.95,\n",
    "    \"max_new_tokens\": 2048,\n",
    "    \"json_schema\": json.dumps(CapitalInfo.model_json_schema()),\n",
    "}\n",
    "\n",
    "outputs = llm.generate(prompts, sampling_params)\n",
    "for prompt, output in zip(prompts, outputs):\n",
    "    print(\"===============================\")\n",
    "    print(f\"Prompt: {prompt}\\nGenerated text: {output['text']}\")"
   ]
  },
  {
   "cell_type": "markdown",
   "metadata": {},
   "source": [
    "**JSON Schema Directly**"
   ]
  },
  {
   "cell_type": "code",
   "execution_count": 15,
   "metadata": {
    "execution": {
     "iopub.execute_input": "2025-09-07T22:03:03.225315Z",
     "iopub.status.busy": "2025-09-07T22:03:03.225152Z",
     "iopub.status.idle": "2025-09-07T22:03:04.850892Z",
     "shell.execute_reply": "2025-09-07T22:03:04.850241Z"
    }
   },
   "outputs": [
    {
     "name": "stdout",
     "output_type": "stream",
     "text": [
      "===============================\n",
      "Prompt: Give me the information of the capital of China in the JSON format.\n",
      "Generated text: \n",
      "Sure! Here's the information about the capital of China, Beijing, in JSON format:\n",
      "\n",
      "```json\n",
      "{\n",
      "  \"name\": \"Beijing\",\n",
      "  \"capital\": \"Yes\",\n",
      "  \"population\": \"Over 30 million\",\n",
      "  \"founded\": \"1248\",\n",
      "  \"Nickname\": \"The Heaven on Earth\",\n",
      "  \"Location\": \"Northern China\",\n",
      "  \"OfficialLanguages\": [\n",
      "    \"Mandarin Chinese\",\n",
      "    \"Bingyuan Chinese\",\n",
      "    \"Tibetan\",\n",
      "    \"Hui\",\n",
      "    \"Mongolian\",\n",
      "    \"Yugou\",\n",
      "    \"Tibetan\",\n",
      "    \"Hui\",\n",
      "    \"Mongolian\"\n",
      "  ],\n",
      "  \"KeySights\": [\n",
      "    \"The Great Wall of China\",\n",
      "    \"Forbidden City\",\n",
      "    \"Tiananmen Square\",\n",
      "    \"Beijing Museum\",\n",
      "    \"Yuanmingyuan\"\n",
      "  ],\n",
      "  \"Climate\": \"Temperate\"\n",
      "}\n",
      "```\n",
      "\n",
      "Let me know if you need anything else!\n",
      "===============================\n",
      "Prompt: Give me the information of the capital of France in the JSON format.\n",
      "Generated text: \n",
      "Sure! Here's the information about the capital of France, Paris, in JSON format:\n",
      "\n",
      "```json\n",
      "{\n",
      "  \"name\": \"Paris\",\n",
      "  \"country\": \"France\",\n",
      "  \"coordinates\": {\n",
      "    \"latitude\": 48.8566,\n",
      "    \"longitude\": 2.3522\n",
      "  },\n",
      "  \"founded\": \"1340\",\n",
      "  \"population\": \"9.7 million\",\n",
      "  \"area\": \"105.5 square kilometers\",\n",
      "  \"WX\": {\n",
      "    \"averageTemperature\": \"12°C\",\n",
      "    \"precipitation\": \"540 mm/year\"\n",
      "  },\n",
      "  \"landmarks\": [\n",
      "    \"Eiffel Tower\",\n",
      "    \"Notre-Dame Cathedral\",\n",
      "    \"Louvre Museum\",\n",
      "    \"Palace of Versailles\",\n",
      "    \"Le Marais District\"\n",
      "  ],\n",
      "  \"features\": [\n",
      "    \"Seine River\",\n",
      "    \"Eiffel Tower\",\n",
      "    \"Le Grand Parc\",\n",
      "    \"Javel Market\",\n",
      "    \"Château de la Loire\"\n",
      "  ]\n",
      "}\n",
      "```\n",
      "\n",
      "Let me know if you need any other information!\n",
      "===============================\n",
      "Prompt: Give me the information of the capital of Ireland in the JSON format.\n",
      "Generated text: \n",
      "Sure, here's the information about the capital of Ireland in JSON format:\n",
      "\n",
      "```json\n",
      "{\n",
      "  \"capital\": \"Dublin\",\n",
      "  \"official_name\": \"Dublin, City of Dublin\",\n",
      "  \"coordinates\": {\n",
      "    \"latitude\": 53.3489,\n",
      "    \"longitude\": -6.5412\n",
      "  },\n",
      "  \"founded\": \"1241\",\n",
      "  \"population\": \"Over 500,000\",\n",
      "  \"area\": \"1,210 km²\",\n",
      "  \"climate\": \" temperate climate with four distinct seasons\",\n",
      "  \"key_landmarks\": [\n",
      "    \"Leaving Certificate\",\n",
      "    \"UCD (University of Dublin)\",\n",
      "    \"Trinity College Dublin\",\n",
      "    \"Dublin City Hall\",\n",
      "    \"GPO (Government House)\"\n",
      "  ],\n",
      "  \"Transportation\": {\n",
      "    \"public_transport\": \"efficient bus and train networks\",\n",
      "    \"road\": \"major highways and a well-developed road network\",\n",
      "    \"airport\": \"Dublin International Airport (DIA)\",\n",
      "    \"public_transport\": \"trams and buses with frequent service\"\n",
      "  }\n",
      "}\n",
      "```\n",
      "\n",
      "Let me know if you need any other details!\n"
     ]
    }
   ],
   "source": [
    "prompts = [\n",
    "    \"Give me the information of the capital of China in the JSON format.\",\n",
    "    \"Give me the information of the capital of France in the JSON format.\",\n",
    "    \"Give me the information of the capital of Ireland in the JSON format.\",\n",
    "]\n",
    "\n",
    "json_schema = json.dumps(\n",
    "    {\n",
    "        \"type\": \"object\",\n",
    "        \"properties\": {\n",
    "            \"name\": {\"type\": \"string\", \"pattern\": \"^[\\\\w]+$\"},\n",
    "            \"population\": {\"type\": \"integer\"},\n",
    "        },\n",
    "        \"required\": [\"name\", \"population\"],\n",
    "    }\n",
    ")\n",
    "\n",
    "sampling_params = {\"temperature\": 0, \"max_new_tokens\": 2048, \"json_schema\": json_schema}\n",
    "\n",
    "outputs = llm.generate(prompts, sampling_params)\n",
    "for prompt, output in zip(prompts, outputs):\n",
    "    print(\"===============================\")\n",
    "    print(f\"Prompt: {prompt}\\nGenerated text: {output['text']}\")"
   ]
  },
  {
   "cell_type": "markdown",
   "metadata": {},
   "source": [
    "### EBNF\n"
   ]
  },
  {
   "cell_type": "code",
   "execution_count": 16,
   "metadata": {
    "execution": {
     "iopub.execute_input": "2025-09-07T22:03:04.852496Z",
     "iopub.status.busy": "2025-09-07T22:03:04.852335Z",
     "iopub.status.idle": "2025-09-07T22:03:05.713369Z",
     "shell.execute_reply": "2025-09-07T22:03:05.712632Z"
    }
   },
   "outputs": [
    {
     "name": "stdout",
     "output_type": "stream",
     "text": [
      "===============================\n",
      "Prompt: Give me the information of the capital of France.\n",
      "Generated text: \n",
      "The capital of France is Paris. It is located in the northern part of the country and is known as the \"City of Light\" because of its iconic landmarks like the Eiffel Tower and the Arc-de-Trianon. Paris is also renowned for its rich cultural history, including its contributions to art, literature, and philosophy. The city is the heart of the political and economic activities in France, hosting numerous museums, galleries, and academic institutions. Additionally, Paris is famous for its cuisine and its role as a tourist destination, attracting millions of visitors each year.\n",
      "\n",
      "The capital of France is Paris. It is located in the northern\n",
      "===============================\n",
      "Prompt: Give me the information of the capital of Germany.\n",
      "Generated text:  the city of Munich is located in Germany. If the user inputs \"the capital of Germany\", they should be redirected to Munich. If the user inputs \"the capital of Germany is...\", they should be redirected to Munich as well. Additionally, if the user inputs \"the capital of Germany is located in\", they should be redirected to Munich.\n",
      "\n",
      "So, in the test cases, when the user inputs \"the capital of Germany\", the system should output \"Munich\".\n",
      "\n",
      "When the user inputs \"the capital of Germany is...\", the output should be \"Munich\".\n",
      "\n",
      "Similarly, for the input \"the capital of Germany is located in\",\n",
      "===============================\n",
      "Prompt: Give me the information of the capital of Italy.\n",
      "Generated text: \n",
      "Alright, so I need to figure out the information about the capital of Italy. Let me start by recalling what I know. I think the capital is in Rome, but I'm not 100% sure. Yeah, I remember learning that Rome is a major city in Italy and it's the seat of government for the country. But I'm not entirely sure about all the details.\n",
      "\n",
      "Okay, so the capital is Rome. I should probably confirm that. I know that many European capitals are named after their famous cities, so maybe Rome is correct. Anyway, moving on. What else do I need to include? The population\n"
     ]
    }
   ],
   "source": [
    "prompts = [\n",
    "    \"Give me the information of the capital of France.\",\n",
    "    \"Give me the information of the capital of Germany.\",\n",
    "    \"Give me the information of the capital of Italy.\",\n",
    "]\n",
    "\n",
    "sampling_params = {\n",
    "    \"temperature\": 0.8,\n",
    "    \"top_p\": 0.95,\n",
    "    \"ebnf\": (\n",
    "        \"root ::= city | description\\n\"\n",
    "        'city ::= \"London\" | \"Paris\" | \"Berlin\" | \"Rome\"\\n'\n",
    "        'description ::= city \" is \" status\\n'\n",
    "        'status ::= \"the capital of \" country\\n'\n",
    "        'country ::= \"England\" | \"France\" | \"Germany\" | \"Italy\"'\n",
    "    ),\n",
    "}\n",
    "\n",
    "outputs = llm.generate(prompts, sampling_params)\n",
    "for prompt, output in zip(prompts, outputs):\n",
    "    print(\"===============================\")\n",
    "    print(f\"Prompt: {prompt}\\nGenerated text: {output['text']}\")"
   ]
  },
  {
   "cell_type": "markdown",
   "metadata": {},
   "source": [
    "### Regular expression"
   ]
  },
  {
   "cell_type": "code",
   "execution_count": 17,
   "metadata": {
    "execution": {
     "iopub.execute_input": "2025-09-07T22:03:05.715107Z",
     "iopub.status.busy": "2025-09-07T22:03:05.714942Z",
     "iopub.status.idle": "2025-09-07T22:03:06.775170Z",
     "shell.execute_reply": "2025-09-07T22:03:06.774509Z"
    }
   },
   "outputs": [
    {
     "name": "stdout",
     "output_type": "stream",
     "text": [
      "===============================\n",
      "Prompt: Please provide information about London as a major global city:\n",
      "Generated text:  its history, culture, and notable landmarks. For each of the points, give a specific example.\n",
      "\n",
      "For example:\n",
      "- History: The Roman Empire, the guillotine, the Magna Carta, etc.\n",
      "- Culture: The Shakespeare, the Globe Theatre, the British Pound, etc.\n",
      "- Notable landmarks: The Roman Colosseum, the Tower of London, the Big Ben clock tower, etc.\n",
      "\n",
      "Please provide 3 points for each category: history, culture, and notable landmarks. Each example should be specific, not a general statement.\n",
      "Alright, I need to provide information about London as a major global city, focusing\n",
      "===============================\n",
      "Prompt: Please provide information about Paris as a major global city:\n",
      "Generated text:  1. Location and Coordinates (in a city, country, and global location) 2. Population: approximate, current, and maybe projections. 3. Major landmarks: a few must-see spots. 4. Economic activities: main industries and economic sectors. 5. Cultural significance: contributions to art, literature, etc. 6. History: major events, key figures, and era(s) of significance. 7. Climate: current and any specific conditions. 8. Landmarks: specific sites of importance, like the Eiffel Tower, the Louvre, etc.\n",
      "\n",
      "Okay, so I need to\n"
     ]
    }
   ],
   "source": [
    "prompts = [\n",
    "    \"Please provide information about London as a major global city:\",\n",
    "    \"Please provide information about Paris as a major global city:\",\n",
    "]\n",
    "\n",
    "sampling_params = {\"temperature\": 0.8, \"top_p\": 0.95, \"regex\": \"(France|England)\"}\n",
    "\n",
    "outputs = llm.generate(prompts, sampling_params)\n",
    "for prompt, output in zip(prompts, outputs):\n",
    "    print(\"===============================\")\n",
    "    print(f\"Prompt: {prompt}\\nGenerated text: {output['text']}\")"
   ]
  },
  {
   "cell_type": "code",
   "execution_count": 18,
   "metadata": {
    "execution": {
     "iopub.execute_input": "2025-09-07T22:03:06.776701Z",
     "iopub.status.busy": "2025-09-07T22:03:06.776538Z",
     "iopub.status.idle": "2025-09-07T22:03:11.996551Z",
     "shell.execute_reply": "2025-09-07T22:03:11.995928Z"
    }
   },
   "outputs": [
    {
     "name": "stdout",
     "output_type": "stream",
     "text": [
      "===============================\n",
      "Prompt: <｜begin▁of▁sentence｜><｜Assistant｜>Give me the information and population of the capital of France in the JSON format.<｜end▁of▁sentence｜><｜Assistant｜><think>\n",
      "\n",
      "Generated text: Okay, so the user asked for the information and population of the capital of France in JSON format. Let me break this down.\n",
      "\n",
      "First, I need to figure out which city is the capital of France. I know Paris is the capital, so that's straightforward. Now, I have to recall or look up the population of Paris. I remember that Paris is a major city and one of the largest in France, but I'm not exactly sure about the exact population number. I think it's over 3 million, maybe around 3.5 million? But to be accurate, I should check that. Wait, I think the current population is approximately 3,500,000. That seems right.\n",
      "\n",
      "Next, I need to structure this information in JSON format. JSON stands for JavaScript Object Notation, so it's a way to represent data structures. I'll need to create an object with relevant fields. The user mentioned \"information and population,\" so I should include the city name, the fact that it's the capital, the population number, and possibly the region it belongs to.\n",
      "\n",
      "I should make sure the JSON is properly formatted. Each key should be in double quotes, and the values can be numbers or strings. So, I'll have a main object, maybe call it \"capitalInfo,\" with keys like \"city,\" \"isCapital,\" \"population,\" and \"region.\" \n",
      "\n",
      "Let me also consider the population figure. It's important to note that population numbers can change over time due to various factors like births, deaths, and migration. So, the number I provide should be the most recent estimate available. I think the latest data from 2023 might be around 3.5 million, but I'm not entirely certain. Maybe I should verify that.\n",
      "\n",
      "Additionally, including the region can add more context. Paris is in the Ile-de-France region, which is known for having a large urban area. That's a good addition as it gives more geographical context.\n",
      "\n",
      "I should also think about the structure. The user might want a simple structure, so including the essential fields should suffice. No need for nested objects unless specified, so I'll keep it straightforward.\n",
      "\n",
      "Putting it all together, the JSON should look something like this:\n",
      "\n",
      "{\n",
      "  \"capitalInfo\": {\n",
      "    \"city\": \"Paris\",\n",
      "    \"isCapital\": true,\n",
      "    \"population\": 3500000,\n",
      "    \"region\": \"Ile-de-France\"\n",
      "  }\n",
      "}\n",
      "\n",
      "I should make sure there are no typos and that the JSON is valid. Maybe I'll double-check the population number to ensure accuracy. Also, considering the user's request, they might be using this data for a project or a presentation, so accuracy is key.\n",
      "\n",
      "In summary, I need to provide the correct city name, confirm it's the capital, give an accurate population figure, and specify the region. The JSON structure should be clear and easy to read. I think this covers everything the user asked for.\n",
      "</think>\n",
      "\n",
      "```json\n",
      "{\n",
      "  \"capitalInfo\": {\n",
      "    \"city\": \"Paris\",\n",
      "    \"isCapital\": true,\n",
      "    \"population\": 3500000,\n",
      "    \"region\": \"Ile-de-France\"\n",
      "  }\n",
      "}\n",
      "```\n"
     ]
    }
   ],
   "source": [
    "text = tokenizer.apply_chat_template(\n",
    "    messages, tokenize=False, add_generation_prompt=True\n",
    ")\n",
    "prompts = [text]\n",
    "\n",
    "\n",
    "sampling_params = {\n",
    "    \"temperature\": 0.8,\n",
    "    \"top_p\": 0.95,\n",
    "    \"max_new_tokens\": 2048,\n",
    "    \"structural_tag\": json.dumps(\n",
    "        {\n",
    "            \"type\": \"structural_tag\",\n",
    "            \"structures\": [\n",
    "                {\n",
    "                    \"begin\": \"<function=get_current_weather>\",\n",
    "                    \"schema\": schema_get_current_weather,\n",
    "                    \"end\": \"</function>\",\n",
    "                },\n",
    "                {\n",
    "                    \"begin\": \"<function=get_current_date>\",\n",
    "                    \"schema\": schema_get_current_date,\n",
    "                    \"end\": \"</function>\",\n",
    "                },\n",
    "            ],\n",
    "            \"triggers\": [\"<function=\"],\n",
    "        }\n",
    "    ),\n",
    "}\n",
    "\n",
    "\n",
    "# Send POST request to the API endpoint\n",
    "outputs = llm.generate(prompts, sampling_params)\n",
    "for prompt, output in zip(prompts, outputs):\n",
    "    print(\"===============================\")\n",
    "    print(f\"Prompt: {prompt}\\nGenerated text: {output['text']}\")"
   ]
  },
  {
   "cell_type": "code",
   "execution_count": 19,
   "metadata": {
    "execution": {
     "iopub.execute_input": "2025-09-07T22:03:11.998140Z",
     "iopub.status.busy": "2025-09-07T22:03:11.997983Z",
     "iopub.status.idle": "2025-09-07T22:03:12.025262Z",
     "shell.execute_reply": "2025-09-07T22:03:12.024656Z"
    }
   },
   "outputs": [],
   "source": [
    "llm.shutdown()"
   ]
  }
 ],
 "metadata": {
  "language_info": {
   "codemirror_mode": {
    "name": "ipython",
    "version": 3
   },
   "file_extension": ".py",
   "mimetype": "text/x-python",
   "name": "python",
   "nbconvert_exporter": "python",
   "pygments_lexer": "ipython3",
   "version": "3.10.12"
  }
 },
 "nbformat": 4,
 "nbformat_minor": 2
}
