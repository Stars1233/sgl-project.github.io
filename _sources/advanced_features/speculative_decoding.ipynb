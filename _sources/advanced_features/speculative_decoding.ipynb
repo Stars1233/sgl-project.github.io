{
 "cells": [
  {
   "cell_type": "markdown",
   "metadata": {},
   "source": [
    "# Speculative Decoding\n",
    "\n",
    "SGLang now provides an EAGLE-based (EAGLE-2/EAGLE-3) speculative decoding option. Our implementation aims to maximize speed and efficiency and is considered to be among the fastest in open-source LLM engines.\n",
    "\n",
    "### Performance Highlights\n",
    "\n",
    "Please see below for the huge improvements on throughput for LLaMA-Instruct 3.1 8B tested on MT bench that can be achieved via EAGLE3 decoding.\n",
    "For further details please see the [EAGLE3 paper](https://arxiv.org/pdf/2503.01840).\n",
    "\n",
    "| Method | Throughput (tokens/s) |\n",
    "|--------|----------------|\n",
    "| SGLang (w/o speculative, 1x H100) | 158.34 tokens/s |\n",
    "| SGLang + EAGLE-2 (1x H100) | 244.10 tokens/s |\n",
    "| SGLang + EAGLE-3 (1x H100) | 373.25 tokens/s |"
   ]
  },
  {
   "cell_type": "markdown",
   "metadata": {},
   "source": [
    "## EAGLE Decoding\n",
    "\n",
    "To enable EAGLE speculative decoding the following parameters are relevant:\n",
    "* `speculative_draft_model_path`: Specifies draft model. This parameter is required.\n",
    "* `speculative_num_steps`: Depth of autoregressive drafting. Increases speculation range but risks rejection cascades. Default is 5.\n",
    "* `speculative_eagle_topk`: Branching factor per step. Improves candidate diversity, will lead to higher acceptance rate, but more lead to higher memory/compute consumption. Default is 4.\n",
    "* `speculative_num_draft_tokens`: Maximum parallel verification capacity. Allows deeper tree evaluation but will lead to higher GPU memory usage. Default is 8.\n",
    "\n",
    "These parameters are the same for EAGLE-2 and EAGLE-3.\n",
    "\n",
    "You can find the best combinations of these parameters with [bench_speculative.py](https://github.com/sgl-project/sglang/blob/main/scripts/playground/bench_speculative.py).\n",
    "\n",
    "In the documentation below, we set `--cuda-graph-max-bs` to be a small value for faster engine startup. For your own workloads, please tune the above parameters together with `--cuda-graph-max-bs`, `--max-running-requests`, `--mem-fraction-static` for the best performance. "
   ]
  },
  {
   "cell_type": "markdown",
   "metadata": {},
   "source": [
    "### EAGLE-2 decoding\n",
    "\n",
    "You can enable EAGLE-2 decoding by setting `--speculative-algorithm EAGLE` and choosing an appropriate model."
   ]
  },
  {
   "cell_type": "code",
   "execution_count": 1,
   "metadata": {
    "execution": {
     "iopub.execute_input": "2025-10-02T21:36:13.061574Z",
     "iopub.status.busy": "2025-10-02T21:36:13.061456Z",
     "iopub.status.idle": "2025-10-02T21:36:23.409094Z",
     "shell.execute_reply": "2025-10-02T21:36:23.408444Z"
    }
   },
   "outputs": [
    {
     "name": "stderr",
     "output_type": "stream",
     "text": [
      "/usr/local/lib/python3.10/dist-packages/torch/cuda/__init__.py:63: FutureWarning: The pynvml package is deprecated. Please install nvidia-ml-py instead. If you did not install pynvml directly, please report this to the maintainers of the package that installed pynvml for you.\n",
      "  import pynvml  # type: ignore[import]\n"
     ]
    }
   ],
   "source": [
    "from sglang.test.doc_patch import launch_server_cmd\n",
    "from sglang.utils import wait_for_server, print_highlight, terminate_process\n",
    "\n",
    "import openai"
   ]
  },
  {
   "cell_type": "code",
   "execution_count": 2,
   "metadata": {
    "execution": {
     "iopub.execute_input": "2025-10-02T21:36:23.411314Z",
     "iopub.status.busy": "2025-10-02T21:36:23.410919Z",
     "iopub.status.idle": "2025-10-02T21:37:23.547766Z",
     "shell.execute_reply": "2025-10-02T21:37:23.547300Z"
    }
   },
   "outputs": [
    {
     "name": "stdout",
     "output_type": "stream",
     "text": [
      "/usr/local/lib/python3.10/dist-packages/torch/cuda/__init__.py:63: FutureWarning: The pynvml package is deprecated. Please install nvidia-ml-py instead. If you did not install pynvml directly, please report this to the maintainers of the package that installed pynvml for you.\n",
      "  import pynvml  # type: ignore[import]\n"
     ]
    },
    {
     "name": "stdout",
     "output_type": "stream",
     "text": [
      "`torch_dtype` is deprecated! Use `dtype` instead!\n",
      "WARNING:transformers.configuration_utils:`torch_dtype` is deprecated! Use `dtype` instead!\n",
      "WARNING:sglang.srt.server_args:Overlap scheduler is disabled because of using eagle speculative decoding.\n",
      "WARNING:sglang.srt.server_args:\u001b[33m\n",
      "########################################################################\n",
      "# For contributors and developers:                                    #\n",
      "# Please move environment variable definitions to sglang.srt.environ  #\n",
      "# using the following pattern:                                        #\n",
      "#     SGLANG_XXX = EnvBool(False)                                     #\n",
      "#                                                                     #\n",
      "########################################################################\n",
      "\u001b[0m\n"
     ]
    },
    {
     "name": "stdout",
     "output_type": "stream",
     "text": [
      "/usr/local/lib/python3.10/dist-packages/torch/cuda/__init__.py:63: FutureWarning: The pynvml package is deprecated. Please install nvidia-ml-py instead. If you did not install pynvml directly, please report this to the maintainers of the package that installed pynvml for you.\n",
      "  import pynvml  # type: ignore[import]\n",
      "/usr/local/lib/python3.10/dist-packages/torch/cuda/__init__.py:63: FutureWarning: The pynvml package is deprecated. Please install nvidia-ml-py instead. If you did not install pynvml directly, please report this to the maintainers of the package that installed pynvml for you.\n",
      "  import pynvml  # type: ignore[import]\n"
     ]
    },
    {
     "name": "stdout",
     "output_type": "stream",
     "text": [
      "`torch_dtype` is deprecated! Use `dtype` instead!\n",
      "[2025-10-02 21:36:45] `torch_dtype` is deprecated! Use `dtype` instead!\n"
     ]
    },
    {
     "name": "stdout",
     "output_type": "stream",
     "text": [
      "[Gloo] Rank 0 is connected to 0 peer ranks. Expected number of connected peer ranks is : 0\n",
      "[Gloo] Rank 0 is connected to 0 peer ranks. Expected number of connected peer ranks is : 0\n",
      "[Gloo] Rank 0 is connected to 0 peer ranks. Expected number of connected peer ranks is : 0\n",
      "[Gloo] Rank 0 is connected to 0 peer ranks. Expected number of connected peer ranks is : 0\n"
     ]
    },
    {
     "name": "stdout",
     "output_type": "stream",
     "text": [
      "[2025-10-02 21:36:55] MOE_RUNNER_BACKEND is not initialized, using triton backend\n"
     ]
    },
    {
     "name": "stdout",
     "output_type": "stream",
     "text": [
      "\r",
      "Loading safetensors checkpoint shards:   0% Completed | 0/2 [00:00<?, ?it/s]\n"
     ]
    },
    {
     "name": "stdout",
     "output_type": "stream",
     "text": [
      "\r",
      "Loading safetensors checkpoint shards:  50% Completed | 1/2 [00:01<00:01,  1.86s/it]\n"
     ]
    },
    {
     "name": "stdout",
     "output_type": "stream",
     "text": [
      "\r",
      "Loading safetensors checkpoint shards: 100% Completed | 2/2 [00:02<00:00,  1.29s/it]\n",
      "\r",
      "Loading safetensors checkpoint shards: 100% Completed | 2/2 [00:02<00:00,  1.38s/it]\n",
      "\n"
     ]
    },
    {
     "name": "stdout",
     "output_type": "stream",
     "text": [
      "\r",
      "  0%|          | 0/4 [00:00<?, ?it/s]\r",
      "Capturing batches (bs=4 avail_mem=38.40 GB):   0%|          | 0/4 [00:00<?, ?it/s]"
     ]
    },
    {
     "name": "stdout",
     "output_type": "stream",
     "text": [
      "\r",
      "Capturing batches (bs=4 avail_mem=38.40 GB):  25%|██▌       | 1/4 [00:00<00:02,  1.40it/s]\r",
      "Capturing batches (bs=3 avail_mem=38.13 GB):  25%|██▌       | 1/4 [00:00<00:02,  1.40it/s]\r",
      "Capturing batches (bs=2 avail_mem=38.06 GB):  25%|██▌       | 1/4 [00:00<00:02,  1.40it/s]\r",
      "Capturing batches (bs=2 avail_mem=38.06 GB):  75%|███████▌  | 3/4 [00:00<00:00,  3.91it/s]\r",
      "Capturing batches (bs=1 avail_mem=36.94 GB):  75%|███████▌  | 3/4 [00:00<00:00,  3.91it/s]"
     ]
    },
    {
     "name": "stdout",
     "output_type": "stream",
     "text": [
      "\r",
      "Capturing batches (bs=1 avail_mem=36.94 GB): 100%|██████████| 4/4 [00:01<00:00,  2.98it/s]\r",
      "Capturing batches (bs=1 avail_mem=36.94 GB): 100%|██████████| 4/4 [00:01<00:00,  2.87it/s]\n"
     ]
    },
    {
     "name": "stdout",
     "output_type": "stream",
     "text": [
      "\r",
      "Loading pt checkpoint shards:   0% Completed | 0/1 [00:00<?, ?it/s]\n"
     ]
    },
    {
     "name": "stdout",
     "output_type": "stream",
     "text": [
      "\r",
      "Loading pt checkpoint shards: 100% Completed | 1/1 [00:01<00:00,  1.20s/it]\n",
      "\r",
      "Loading pt checkpoint shards: 100% Completed | 1/1 [00:01<00:00,  1.20s/it]\n",
      "\n"
     ]
    },
    {
     "name": "stdout",
     "output_type": "stream",
     "text": [
      "\r",
      "  0%|          | 0/4 [00:00<?, ?it/s]\r",
      "Capturing batches (bs=4 avail_mem=21.71 GB):   0%|          | 0/4 [00:00<?, ?it/s]"
     ]
    },
    {
     "name": "stdout",
     "output_type": "stream",
     "text": [
      "\r",
      "Capturing batches (bs=4 avail_mem=21.71 GB):  25%|██▌       | 1/4 [00:05<00:15,  5.13s/it]\r",
      "Capturing batches (bs=3 avail_mem=18.34 GB):  25%|██▌       | 1/4 [00:05<00:15,  5.13s/it]"
     ]
    },
    {
     "name": "stdout",
     "output_type": "stream",
     "text": [
      "\r",
      "Capturing batches (bs=3 avail_mem=18.34 GB):  50%|█████     | 2/4 [00:05<00:05,  2.60s/it]\r",
      "Capturing batches (bs=2 avail_mem=18.34 GB):  50%|█████     | 2/4 [00:05<00:05,  2.60s/it]\r",
      "Capturing batches (bs=1 avail_mem=18.32 GB):  50%|█████     | 2/4 [00:06<00:05,  2.60s/it]"
     ]
    },
    {
     "name": "stdout",
     "output_type": "stream",
     "text": [
      "\r",
      "Capturing batches (bs=1 avail_mem=18.32 GB): 100%|██████████| 4/4 [00:09<00:00,  2.19s/it]\r",
      "Capturing batches (bs=1 avail_mem=18.32 GB): 100%|██████████| 4/4 [00:09<00:00,  2.46s/it]\n"
     ]
    },
    {
     "name": "stdout",
     "output_type": "stream",
     "text": [
      "\r",
      "  0%|          | 0/4 [00:00<?, ?it/s]\r",
      "Capturing batches (bs=4 avail_mem=34.75 GB):   0%|          | 0/4 [00:00<?, ?it/s]\r",
      "Capturing batches (bs=3 avail_mem=34.69 GB):   0%|          | 0/4 [00:00<?, ?it/s]\r",
      "Capturing batches (bs=2 avail_mem=34.69 GB):   0%|          | 0/4 [00:00<?, ?it/s]\r",
      "Capturing batches (bs=1 avail_mem=34.67 GB):   0%|          | 0/4 [00:00<?, ?it/s]\r",
      "Capturing batches (bs=1 avail_mem=34.67 GB): 100%|██████████| 4/4 [00:00<00:00, 101.25it/s]\n"
     ]
    },
    {
     "data": {
      "text/html": [
       "<strong style='color: #00008B;'><br><br>                    NOTE: Typically, the server runs in a separate terminal.<br>                    In this notebook, we run the server and notebook code together, so their outputs are combined.<br>                    To improve clarity, the server logs are displayed in the original black color, while the notebook outputs are highlighted in blue.<br>                    To reduce the log length, we set the log level to warning for the server, the default log level is info.<br>                    We are running those notebooks in a CI environment, so the throughput is not representative of the actual performance.<br>                    </strong>"
      ],
      "text/plain": [
       "<IPython.core.display.HTML object>"
      ]
     },
     "metadata": {},
     "output_type": "display_data"
    }
   ],
   "source": [
    "server_process, port = launch_server_cmd(\n",
    "    \"\"\"\n",
    "python3 -m sglang.launch_server --model meta-llama/Llama-2-7b-chat-hf  --speculative-algorithm EAGLE \\\n",
    "    --speculative-draft-model-path lmsys/sglang-EAGLE-llama2-chat-7B --speculative-num-steps 3 \\\n",
    "    --speculative-eagle-topk 4 --speculative-num-draft-tokens 16 --cuda-graph-max-bs 8 --log-level warning\n",
    "\"\"\"\n",
    ")\n",
    "\n",
    "wait_for_server(f\"http://localhost:{port}\")"
   ]
  },
  {
   "cell_type": "code",
   "execution_count": 3,
   "metadata": {
    "execution": {
     "iopub.execute_input": "2025-10-02T21:37:23.550400Z",
     "iopub.status.busy": "2025-10-02T21:37:23.550253Z",
     "iopub.status.idle": "2025-10-02T21:37:23.929661Z",
     "shell.execute_reply": "2025-10-02T21:37:23.929223Z"
    }
   },
   "outputs": [
    {
     "data": {
      "text/html": [
       "<strong style='color: #00008B;'>Response: ChatCompletion(id='8d5c614c23e746338d386d0d51d46beb', choices=[Choice(finish_reason='stop', index=0, logprobs=None, message=ChatCompletionMessage(content='  Sure! Here are three countries and their capitals:\\n\\n1. Country: France\\nCapital: Paris\\n2. Country: Japan\\nCapital: Tokyo\\n3. Country: Brazil\\nCapital: Brasília', refusal=None, role='assistant', annotations=None, audio=None, function_call=None, tool_calls=None, reasoning_content=None), matched_stop=2)], created=1759441043, model='meta-llama/Llama-2-7b-chat-hf', object='chat.completion', service_tier=None, system_fingerprint=None, usage=CompletionUsage(completion_tokens=48, prompt_tokens=17, total_tokens=65, completion_tokens_details=None, prompt_tokens_details=None, reasoning_tokens=0), metadata={'weight_version': 'default'})</strong>"
      ],
      "text/plain": [
       "<IPython.core.display.HTML object>"
      ]
     },
     "metadata": {},
     "output_type": "display_data"
    }
   ],
   "source": [
    "client = openai.Client(base_url=f\"http://127.0.0.1:{port}/v1\", api_key=\"None\")\n",
    "\n",
    "response = client.chat.completions.create(\n",
    "    model=\"meta-llama/Llama-2-7b-chat-hf\",\n",
    "    messages=[\n",
    "        {\"role\": \"user\", \"content\": \"List 3 countries and their capitals.\"},\n",
    "    ],\n",
    "    temperature=0,\n",
    "    max_tokens=64,\n",
    ")\n",
    "\n",
    "print_highlight(f\"Response: {response}\")"
   ]
  },
  {
   "cell_type": "code",
   "execution_count": 4,
   "metadata": {
    "execution": {
     "iopub.execute_input": "2025-10-02T21:37:23.931196Z",
     "iopub.status.busy": "2025-10-02T21:37:23.931054Z",
     "iopub.status.idle": "2025-10-02T21:37:24.053147Z",
     "shell.execute_reply": "2025-10-02T21:37:24.052608Z"
    }
   },
   "outputs": [],
   "source": [
    "terminate_process(server_process)"
   ]
  },
  {
   "cell_type": "markdown",
   "metadata": {},
   "source": [
    "### EAGLE-2 Decoding with `torch.compile`\n",
    "\n",
    "You can also enable `torch.compile` for further optimizations and optionally set `--torch-compile-max-bs`:\n"
   ]
  },
  {
   "cell_type": "code",
   "execution_count": 5,
   "metadata": {
    "execution": {
     "iopub.execute_input": "2025-10-02T21:37:24.055394Z",
     "iopub.status.busy": "2025-10-02T21:37:24.055235Z",
     "iopub.status.idle": "2025-10-02T21:38:54.270959Z",
     "shell.execute_reply": "2025-10-02T21:38:54.270466Z"
    }
   },
   "outputs": [
    {
     "name": "stdout",
     "output_type": "stream",
     "text": [
      "/usr/local/lib/python3.10/dist-packages/torch/cuda/__init__.py:63: FutureWarning: The pynvml package is deprecated. Please install nvidia-ml-py instead. If you did not install pynvml directly, please report this to the maintainers of the package that installed pynvml for you.\n",
      "  import pynvml  # type: ignore[import]\n"
     ]
    },
    {
     "name": "stdout",
     "output_type": "stream",
     "text": [
      "WARNING:sglang.srt.server_args:Overlap scheduler is disabled because of using eagle speculative decoding.\n",
      "WARNING:sglang.srt.server_args:\u001b[33m\n",
      "########################################################################\n",
      "# For contributors and developers:                                    #\n",
      "# Please move environment variable definitions to sglang.srt.environ  #\n",
      "# using the following pattern:                                        #\n",
      "#     SGLANG_XXX = EnvBool(False)                                     #\n",
      "#                                                                     #\n",
      "########################################################################\n",
      "\u001b[0m\n",
      "`torch_dtype` is deprecated! Use `dtype` instead!\n",
      "[2025-10-02 21:37:31] `torch_dtype` is deprecated! Use `dtype` instead!\n"
     ]
    },
    {
     "name": "stdout",
     "output_type": "stream",
     "text": [
      "/usr/local/lib/python3.10/dist-packages/torch/cuda/__init__.py:63: FutureWarning: The pynvml package is deprecated. Please install nvidia-ml-py instead. If you did not install pynvml directly, please report this to the maintainers of the package that installed pynvml for you.\n",
      "  import pynvml  # type: ignore[import]\n",
      "/usr/local/lib/python3.10/dist-packages/torch/cuda/__init__.py:63: FutureWarning: The pynvml package is deprecated. Please install nvidia-ml-py instead. If you did not install pynvml directly, please report this to the maintainers of the package that installed pynvml for you.\n",
      "  import pynvml  # type: ignore[import]\n"
     ]
    },
    {
     "name": "stdout",
     "output_type": "stream",
     "text": [
      "`torch_dtype` is deprecated! Use `dtype` instead!\n",
      "[2025-10-02 21:37:39] `torch_dtype` is deprecated! Use `dtype` instead!\n"
     ]
    },
    {
     "name": "stdout",
     "output_type": "stream",
     "text": [
      "[Gloo] Rank 0 is connected to 0 peer ranks. Expected number of connected peer ranks is : 0\n",
      "[Gloo] Rank 0 is connected to 0 peer ranks. Expected number of connected peer ranks is : 0\n",
      "[Gloo] Rank 0 is connected to 0 peer ranks. Expected number of connected peer ranks is : 0\n",
      "[Gloo] Rank 0 is connected to 0 peer ranks. Expected number of connected peer ranks is : 0\n",
      "[2025-10-02 21:37:40] MOE_RUNNER_BACKEND is not initialized, using triton backend\n"
     ]
    },
    {
     "name": "stdout",
     "output_type": "stream",
     "text": [
      "\r",
      "Loading safetensors checkpoint shards:   0% Completed | 0/2 [00:00<?, ?it/s]\n"
     ]
    },
    {
     "name": "stdout",
     "output_type": "stream",
     "text": [
      "\r",
      "Loading safetensors checkpoint shards:  50% Completed | 1/2 [00:01<00:01,  1.55s/it]\n"
     ]
    },
    {
     "name": "stdout",
     "output_type": "stream",
     "text": [
      "\r",
      "Loading safetensors checkpoint shards: 100% Completed | 2/2 [00:02<00:00,  1.10s/it]\n",
      "\r",
      "Loading safetensors checkpoint shards: 100% Completed | 2/2 [00:02<00:00,  1.16s/it]\n",
      "\n"
     ]
    },
    {
     "name": "stdout",
     "output_type": "stream",
     "text": [
      "\r",
      "  0%|          | 0/4 [00:00<?, ?it/s]\r",
      "Capturing batches (bs=4 avail_mem=35.92 GB):   0%|          | 0/4 [00:00<?, ?it/s]"
     ]
    },
    {
     "name": "stdout",
     "output_type": "stream",
     "text": [
      "\r",
      "Capturing batches (bs=4 avail_mem=35.92 GB):  25%|██▌       | 1/4 [00:00<00:01,  1.85it/s]\r",
      "Capturing batches (bs=3 avail_mem=35.76 GB):  25%|██▌       | 1/4 [00:00<00:01,  1.85it/s]\r",
      "Capturing batches (bs=2 avail_mem=35.68 GB):  25%|██▌       | 1/4 [00:00<00:01,  1.85it/s]"
     ]
    },
    {
     "name": "stdout",
     "output_type": "stream",
     "text": [
      "/usr/local/lib/python3.10/dist-packages/torch/_dynamo/variables/functions.py:1575: UserWarning: Dynamo detected a call to a `functools.lru_cache`-wrapped function. Dynamo ignores the cache wrapper and directly traces the wrapped function. Silent incorrectness is only a *potential* risk, not something we have observed. Enable TORCH_LOGS=\"+dynamo\" for a DEBUG stack trace.\n",
      "  torch._dynamo.utils.warn_once(msg)\n"
     ]
    },
    {
     "name": "stdout",
     "output_type": "stream",
     "text": [
      "AUTOTUNE mm(128x4096, 4096x12288)\n",
      "strides: [4096, 1], [1, 4096]\n",
      "dtypes: torch.float16, torch.float16\n",
      "  mm 0.0482 ms 100.0% \n",
      "  triton_mm_18 0.0494 ms 97.4% ACC_TYPE='tl.float32', ALLOW_TF32=False, BLOCK_K=64, BLOCK_M=128, BLOCK_N=128, EVEN_K=True, GROUP_M=8, USE_FAST_ACCUM=False, num_stages=5, num_warps=8\n",
      "  triton_mm_12 0.0527 ms 91.3% ACC_TYPE='tl.float32', ALLOW_TF32=False, BLOCK_K=128, BLOCK_M=64, BLOCK_N=128, EVEN_K=True, GROUP_M=8, USE_FAST_ACCUM=False, num_stages=4, num_warps=4\n",
      "  triton_mm_8 0.0537 ms 89.7% ACC_TYPE='tl.float32', ALLOW_TF32=False, BLOCK_K=128, BLOCK_M=64, BLOCK_N=64, EVEN_K=True, GROUP_M=8, USE_FAST_ACCUM=False, num_stages=5, num_warps=4\n",
      "  triton_mm_7 0.0561 ms 85.9% ACC_TYPE='tl.float32', ALLOW_TF32=False, BLOCK_K=64, BLOCK_M=64, BLOCK_N=64, EVEN_K=True, GROUP_M=8, USE_FAST_ACCUM=False, num_stages=3, num_warps=8\n",
      "  triton_mm_11 0.0564 ms 85.3% ACC_TYPE='tl.float32', ALLOW_TF32=False, BLOCK_K=64, BLOCK_M=64, BLOCK_N=128, EVEN_K=True, GROUP_M=8, USE_FAST_ACCUM=False, num_stages=3, num_warps=4\n",
      "  triton_mm_17 0.0584 ms 82.4% ACC_TYPE='tl.float32', ALLOW_TF32=False, BLOCK_K=64, BLOCK_M=128, BLOCK_N=128, EVEN_K=True, GROUP_M=8, USE_FAST_ACCUM=False, num_stages=3, num_warps=4\n",
      "  triton_mm_10 0.0674 ms 71.5% ACC_TYPE='tl.float32', ALLOW_TF32=False, BLOCK_K=32, BLOCK_M=64, BLOCK_N=128, EVEN_K=True, GROUP_M=8, USE_FAST_ACCUM=False, num_stages=4, num_warps=8\n",
      "  triton_mm_14 0.0694 ms 69.4% ACC_TYPE='tl.float32', ALLOW_TF32=False, BLOCK_K=32, BLOCK_M=128, BLOCK_N=64, EVEN_K=True, GROUP_M=8, USE_FAST_ACCUM=False, num_stages=4, num_warps=8\n",
      "  triton_mm_4 0.0714 ms 67.5% ACC_TYPE='tl.float32', ALLOW_TF32=False, BLOCK_K=128, BLOCK_M=64, BLOCK_N=32, EVEN_K=True, GROUP_M=8, USE_FAST_ACCUM=False, num_stages=5, num_warps=4\n",
      "SingleProcess AUTOTUNE benchmarking takes 0.3464 seconds and 0.6450 seconds precompiling for 20 choices\n"
     ]
    },
    {
     "name": "stdout",
     "output_type": "stream",
     "text": [
      "AUTOTUNE mm(128x4096, 4096x4096)\n",
      "strides: [4096, 1], [1, 4096]\n",
      "dtypes: torch.float16, torch.float16\n",
      "  mm 0.0218 ms 100.0% \n",
      "  triton_mm_27 0.0228 ms 95.9% ACC_TYPE='tl.float32', ALLOW_TF32=False, BLOCK_K=128, BLOCK_M=64, BLOCK_N=64, EVEN_K=True, GROUP_M=8, USE_FAST_ACCUM=False, num_stages=5, num_warps=4\n",
      "  triton_mm_31 0.0268 ms 81.6% ACC_TYPE='tl.float32', ALLOW_TF32=False, BLOCK_K=128, BLOCK_M=64, BLOCK_N=128, EVEN_K=True, GROUP_M=8, USE_FAST_ACCUM=False, num_stages=4, num_warps=4\n",
      "  triton_mm_23 0.0300 ms 72.9% ACC_TYPE='tl.float32', ALLOW_TF32=False, BLOCK_K=128, BLOCK_M=64, BLOCK_N=32, EVEN_K=True, GROUP_M=8, USE_FAST_ACCUM=False, num_stages=5, num_warps=4\n",
      "  triton_mm_37 0.0317 ms 68.8% ACC_TYPE='tl.float32', ALLOW_TF32=False, BLOCK_K=64, BLOCK_M=128, BLOCK_N=128, EVEN_K=True, GROUP_M=8, USE_FAST_ACCUM=False, num_stages=5, num_warps=8\n",
      "  triton_mm_26 0.0399 ms 54.7% ACC_TYPE='tl.float32', ALLOW_TF32=False, BLOCK_K=64, BLOCK_M=64, BLOCK_N=64, EVEN_K=True, GROUP_M=8, USE_FAST_ACCUM=False, num_stages=3, num_warps=8\n",
      "  triton_mm_30 0.0406 ms 53.8% ACC_TYPE='tl.float32', ALLOW_TF32=False, BLOCK_K=64, BLOCK_M=64, BLOCK_N=128, EVEN_K=True, GROUP_M=8, USE_FAST_ACCUM=False, num_stages=3, num_warps=4\n",
      "  triton_mm_22 0.0421 ms 51.9% ACC_TYPE='tl.float32', ALLOW_TF32=False, BLOCK_K=32, BLOCK_M=64, BLOCK_N=32, EVEN_K=True, GROUP_M=8, USE_FAST_ACCUM=False, num_stages=5, num_warps=8\n",
      "  triton_mm_20 0.0423 ms 51.6% ACC_TYPE='tl.float32', ALLOW_TF32=False, BLOCK_K=128, BLOCK_M=32, BLOCK_N=32, EVEN_K=True, GROUP_M=8, USE_FAST_ACCUM=False, num_stages=2, num_warps=4\n",
      "  triton_mm_36 0.0429 ms 50.9% ACC_TYPE='tl.float32', ALLOW_TF32=False, BLOCK_K=64, BLOCK_M=128, BLOCK_N=128, EVEN_K=True, GROUP_M=8, USE_FAST_ACCUM=False, num_stages=3, num_warps=4\n",
      "SingleProcess AUTOTUNE benchmarking takes 0.2831 seconds and 0.5099 seconds precompiling for 20 choices\n"
     ]
    },
    {
     "name": "stdout",
     "output_type": "stream",
     "text": [
      "AUTOTUNE mm(128x4096, 4096x22016)\n",
      "strides: [4096, 1], [1, 4096]\n",
      "dtypes: torch.float16, torch.float16\n",
      "  triton_mm_49 0.0758 ms 100.0% ACC_TYPE='tl.float32', ALLOW_TF32=False, BLOCK_K=64, BLOCK_M=64, BLOCK_N=128, EVEN_K=True, GROUP_M=8, USE_FAST_ACCUM=False, num_stages=3, num_warps=4\n",
      "  mm 0.0764 ms 99.2% \n",
      "  triton_mm_55 0.0787 ms 96.3% ACC_TYPE='tl.float32', ALLOW_TF32=False, BLOCK_K=64, BLOCK_M=128, BLOCK_N=128, EVEN_K=True, GROUP_M=8, USE_FAST_ACCUM=False, num_stages=3, num_warps=4\n",
      "  triton_mm_50 0.0796 ms 95.2% ACC_TYPE='tl.float32', ALLOW_TF32=False, BLOCK_K=128, BLOCK_M=64, BLOCK_N=128, EVEN_K=True, GROUP_M=8, USE_FAST_ACCUM=False, num_stages=4, num_warps=4\n",
      "  triton_mm_56 0.0838 ms 90.4% ACC_TYPE='tl.float32', ALLOW_TF32=False, BLOCK_K=64, BLOCK_M=128, BLOCK_N=128, EVEN_K=True, GROUP_M=8, USE_FAST_ACCUM=False, num_stages=5, num_warps=8\n",
      "  triton_mm_46 0.0935 ms 81.1% ACC_TYPE='tl.float32', ALLOW_TF32=False, BLOCK_K=128, BLOCK_M=64, BLOCK_N=64, EVEN_K=True, GROUP_M=8, USE_FAST_ACCUM=False, num_stages=5, num_warps=4\n",
      "  triton_mm_45 0.0945 ms 80.2% ACC_TYPE='tl.float32', ALLOW_TF32=False, BLOCK_K=64, BLOCK_M=64, BLOCK_N=64, EVEN_K=True, GROUP_M=8, USE_FAST_ACCUM=False, num_stages=3, num_warps=8\n",
      "  triton_mm_47 0.0980 ms 77.3% ACC_TYPE='tl.float32', ALLOW_TF32=False, BLOCK_K=32, BLOCK_M=64, BLOCK_N=128, EVEN_K=True, GROUP_M=8, USE_FAST_ACCUM=False, num_stages=3, num_warps=4\n",
      "  triton_mm_48 0.1012 ms 74.9% ACC_TYPE='tl.float32', ALLOW_TF32=False, BLOCK_K=32, BLOCK_M=64, BLOCK_N=128, EVEN_K=True, GROUP_M=8, USE_FAST_ACCUM=False, num_stages=4, num_warps=8\n",
      "  triton_mm_51 0.1036 ms 73.1% ACC_TYPE='tl.float32', ALLOW_TF32=False, BLOCK_K=32, BLOCK_M=128, BLOCK_N=64, EVEN_K=True, GROUP_M=8, USE_FAST_ACCUM=False, num_stages=3, num_warps=4\n",
      "SingleProcess AUTOTUNE benchmarking takes 0.4301 seconds and 0.2146 seconds precompiling for 20 choices\n"
     ]
    },
    {
     "name": "stdout",
     "output_type": "stream",
     "text": [
      "AUTOTUNE mm(128x11008, 11008x4096)\n",
      "strides: [11008, 1], [1, 11008]\n",
      "dtypes: torch.float16, torch.float16\n",
      "  mm 0.0467 ms 100.0% \n",
      "  triton_mm_65 0.0485 ms 96.4% ACC_TYPE='tl.float32', ALLOW_TF32=False, BLOCK_K=128, BLOCK_M=64, BLOCK_N=64, EVEN_K=True, GROUP_M=8, USE_FAST_ACCUM=False, num_stages=5, num_warps=4\n",
      "  triton_mm_69 0.0543 ms 86.0% ACC_TYPE='tl.float32', ALLOW_TF32=False, BLOCK_K=128, BLOCK_M=64, BLOCK_N=128, EVEN_K=True, GROUP_M=8, USE_FAST_ACCUM=False, num_stages=4, num_warps=4\n",
      "  triton_mm_61 0.0665 ms 70.2% ACC_TYPE='tl.float32', ALLOW_TF32=False, BLOCK_K=128, BLOCK_M=64, BLOCK_N=32, EVEN_K=True, GROUP_M=8, USE_FAST_ACCUM=False, num_stages=5, num_warps=4\n",
      "  triton_mm_75 0.0689 ms 67.8% ACC_TYPE='tl.float32', ALLOW_TF32=False, BLOCK_K=64, BLOCK_M=128, BLOCK_N=128, EVEN_K=True, GROUP_M=8, USE_FAST_ACCUM=False, num_stages=5, num_warps=8\n",
      "  triton_mm_64 0.0905 ms 51.6% ACC_TYPE='tl.float32', ALLOW_TF32=False, BLOCK_K=64, BLOCK_M=64, BLOCK_N=64, EVEN_K=True, GROUP_M=8, USE_FAST_ACCUM=False, num_stages=3, num_warps=8\n",
      "  triton_mm_68 0.0912 ms 51.2% ACC_TYPE='tl.float32', ALLOW_TF32=False, BLOCK_K=64, BLOCK_M=64, BLOCK_N=128, EVEN_K=True, GROUP_M=8, USE_FAST_ACCUM=False, num_stages=3, num_warps=4\n",
      "  triton_mm_74 0.0969 ms 48.2% ACC_TYPE='tl.float32', ALLOW_TF32=False, BLOCK_K=64, BLOCK_M=128, BLOCK_N=128, EVEN_K=True, GROUP_M=8, USE_FAST_ACCUM=False, num_stages=3, num_warps=4\n",
      "  triton_mm_60 0.0977 ms 47.8% ACC_TYPE='tl.float32', ALLOW_TF32=False, BLOCK_K=32, BLOCK_M=64, BLOCK_N=32, EVEN_K=True, GROUP_M=8, USE_FAST_ACCUM=False, num_stages=5, num_warps=8\n",
      "  triton_mm_58 0.1010 ms 46.3% ACC_TYPE='tl.float32', ALLOW_TF32=False, BLOCK_K=128, BLOCK_M=32, BLOCK_N=32, EVEN_K=True, GROUP_M=8, USE_FAST_ACCUM=False, num_stages=2, num_warps=4\n",
      "SingleProcess AUTOTUNE benchmarking takes 0.4240 seconds and 0.0003 seconds precompiling for 20 choices\n"
     ]
    },
    {
     "name": "stdout",
     "output_type": "stream",
     "text": [
      "AUTOTUNE mm(128x4096, 4096x32000)\n",
      "strides: [4096, 1], [1, 4096]\n",
      "dtypes: torch.float16, torch.float16\n",
      "  triton_mm_93 0.1014 ms 100.0% ACC_TYPE='tl.float32', ALLOW_TF32=False, BLOCK_K=64, BLOCK_M=128, BLOCK_N=128, EVEN_K=True, GROUP_M=8, USE_FAST_ACCUM=False, num_stages=3, num_warps=4\n",
      "  mm 0.1046 ms 96.9% \n",
      "  triton_mm_94 0.1047 ms 96.8% ACC_TYPE='tl.float32', ALLOW_TF32=False, BLOCK_K=64, BLOCK_M=128, BLOCK_N=128, EVEN_K=True, GROUP_M=8, USE_FAST_ACCUM=False, num_stages=5, num_warps=8\n",
      "  triton_mm_88 0.1078 ms 94.1% ACC_TYPE='tl.float32', ALLOW_TF32=False, BLOCK_K=128, BLOCK_M=64, BLOCK_N=128, EVEN_K=True, GROUP_M=8, USE_FAST_ACCUM=False, num_stages=4, num_warps=4\n",
      "  triton_mm_87 0.1159 ms 87.5% ACC_TYPE='tl.float32', ALLOW_TF32=False, BLOCK_K=64, BLOCK_M=64, BLOCK_N=128, EVEN_K=True, GROUP_M=8, USE_FAST_ACCUM=False, num_stages=3, num_warps=4\n",
      "  triton_mm_83 0.1163 ms 87.2% ACC_TYPE='tl.float32', ALLOW_TF32=False, BLOCK_K=64, BLOCK_M=64, BLOCK_N=64, EVEN_K=True, GROUP_M=8, USE_FAST_ACCUM=False, num_stages=3, num_warps=8\n",
      "  triton_mm_84 0.1253 ms 80.9% ACC_TYPE='tl.float32', ALLOW_TF32=False, BLOCK_K=128, BLOCK_M=64, BLOCK_N=64, EVEN_K=True, GROUP_M=8, USE_FAST_ACCUM=False, num_stages=5, num_warps=4\n",
      "  triton_mm_92 0.1280 ms 79.2% ACC_TYPE='tl.float32', ALLOW_TF32=False, BLOCK_K=32, BLOCK_M=128, BLOCK_N=128, EVEN_K=True, GROUP_M=8, USE_FAST_ACCUM=False, num_stages=3, num_warps=4\n",
      "  triton_mm_85 0.1346 ms 75.3% ACC_TYPE='tl.float32', ALLOW_TF32=False, BLOCK_K=32, BLOCK_M=64, BLOCK_N=128, EVEN_K=True, GROUP_M=8, USE_FAST_ACCUM=False, num_stages=3, num_warps=4\n",
      "  triton_mm_89 0.1408 ms 72.0% ACC_TYPE='tl.float32', ALLOW_TF32=False, BLOCK_K=32, BLOCK_M=128, BLOCK_N=64, EVEN_K=True, GROUP_M=8, USE_FAST_ACCUM=False, num_stages=3, num_warps=4\n",
      "SingleProcess AUTOTUNE benchmarking takes 0.5124 seconds and 0.3897 seconds precompiling for 20 choices\n"
     ]
    },
    {
     "name": "stdout",
     "output_type": "stream",
     "text": [
      "\r",
      "Capturing batches (bs=2 avail_mem=35.68 GB):  75%|███████▌  | 3/4 [00:20<00:07,  7.45s/it]\r",
      "Capturing batches (bs=1 avail_mem=54.80 GB):  75%|███████▌  | 3/4 [00:20<00:07,  7.45s/it]"
     ]
    },
    {
     "name": "stdout",
     "output_type": "stream",
     "text": [
      "AUTOTUNE mm(64x4096, 4096x12288)\n",
      "strides: [4096, 1], [1, 4096]\n",
      "dtypes: torch.float16, torch.float16\n",
      "  mm 0.0475 ms 100.0% \n",
      "  triton_mm_111 0.0477 ms 99.6% ACC_TYPE='tl.float32', ALLOW_TF32=False, BLOCK_K=64, BLOCK_M=64, BLOCK_N=128, EVEN_K=True, GROUP_M=8, USE_FAST_ACCUM=False, num_stages=5, num_warps=8\n",
      "  triton_mm_107 0.0484 ms 98.2% ACC_TYPE='tl.float32', ALLOW_TF32=False, BLOCK_K=128, BLOCK_M=64, BLOCK_N=128, EVEN_K=True, GROUP_M=8, USE_FAST_ACCUM=False, num_stages=4, num_warps=4\n",
      "  triton_mm_103 0.0488 ms 97.2% ACC_TYPE='tl.float32', ALLOW_TF32=False, BLOCK_K=128, BLOCK_M=64, BLOCK_N=64, EVEN_K=True, GROUP_M=8, USE_FAST_ACCUM=False, num_stages=5, num_warps=4\n",
      "  triton_mm_99 0.0505 ms 94.0% ACC_TYPE='tl.float32', ALLOW_TF32=False, BLOCK_K=128, BLOCK_M=64, BLOCK_N=32, EVEN_K=True, GROUP_M=8, USE_FAST_ACCUM=False, num_stages=5, num_warps=4\n",
      "  triton_mm_102 0.0551 ms 86.2% ACC_TYPE='tl.float32', ALLOW_TF32=False, BLOCK_K=64, BLOCK_M=64, BLOCK_N=64, EVEN_K=True, GROUP_M=8, USE_FAST_ACCUM=False, num_stages=3, num_warps=8\n",
      "  triton_mm_106 0.0556 ms 85.4% ACC_TYPE='tl.float32', ALLOW_TF32=False, BLOCK_K=64, BLOCK_M=64, BLOCK_N=128, EVEN_K=True, GROUP_M=8, USE_FAST_ACCUM=False, num_stages=3, num_warps=4\n",
      "  triton_mm_96 0.0566 ms 83.8% ACC_TYPE='tl.float32', ALLOW_TF32=False, BLOCK_K=128, BLOCK_M=32, BLOCK_N=32, EVEN_K=True, GROUP_M=8, USE_FAST_ACCUM=False, num_stages=2, num_warps=4\n",
      "  triton_mm_98 0.0605 ms 78.4% ACC_TYPE='tl.float32', ALLOW_TF32=False, BLOCK_K=32, BLOCK_M=64, BLOCK_N=32, EVEN_K=True, GROUP_M=8, USE_FAST_ACCUM=False, num_stages=5, num_warps=8\n",
      "  triton_mm_97 0.0640 ms 74.2% ACC_TYPE='tl.float32', ALLOW_TF32=False, BLOCK_K=32, BLOCK_M=32, BLOCK_N=64, EVEN_K=True, GROUP_M=8, USE_FAST_ACCUM=False, num_stages=5, num_warps=8\n",
      "SingleProcess AUTOTUNE benchmarking takes 0.2830 seconds and 0.3690 seconds precompiling for 18 choices\n"
     ]
    },
    {
     "name": "stdout",
     "output_type": "stream",
     "text": [
      "AUTOTUNE mm(64x4096, 4096x4096)\n",
      "strides: [4096, 1], [1, 4096]\n",
      "dtypes: torch.float16, torch.float16\n",
      "  mm 0.0218 ms 100.0% \n",
      "  triton_mm_116 0.0220 ms 99.0% ACC_TYPE='tl.float32', ALLOW_TF32=False, BLOCK_K=128, BLOCK_M=64, BLOCK_N=32, EVEN_K=True, GROUP_M=8, USE_FAST_ACCUM=False, num_stages=5, num_warps=4\n",
      "  triton_mm_120 0.0226 ms 96.3% ACC_TYPE='tl.float32', ALLOW_TF32=False, BLOCK_K=128, BLOCK_M=64, BLOCK_N=64, EVEN_K=True, GROUP_M=8, USE_FAST_ACCUM=False, num_stages=5, num_warps=4\n",
      "  triton_mm_124 0.0265 ms 82.1% ACC_TYPE='tl.float32', ALLOW_TF32=False, BLOCK_K=128, BLOCK_M=64, BLOCK_N=128, EVEN_K=True, GROUP_M=8, USE_FAST_ACCUM=False, num_stages=4, num_warps=4\n",
      "  triton_mm_128 0.0298 ms 73.1% ACC_TYPE='tl.float32', ALLOW_TF32=False, BLOCK_K=64, BLOCK_M=64, BLOCK_N=128, EVEN_K=True, GROUP_M=8, USE_FAST_ACCUM=False, num_stages=5, num_warps=8\n",
      "  triton_mm_119 0.0392 ms 55.5% ACC_TYPE='tl.float32', ALLOW_TF32=False, BLOCK_K=64, BLOCK_M=64, BLOCK_N=64, EVEN_K=True, GROUP_M=8, USE_FAST_ACCUM=False, num_stages=3, num_warps=8\n",
      "  triton_mm_113 0.0398 ms 54.6% ACC_TYPE='tl.float32', ALLOW_TF32=False, BLOCK_K=128, BLOCK_M=32, BLOCK_N=32, EVEN_K=True, GROUP_M=8, USE_FAST_ACCUM=False, num_stages=2, num_warps=4\n",
      "  triton_mm_123 0.0403 ms 54.1% ACC_TYPE='tl.float32', ALLOW_TF32=False, BLOCK_K=64, BLOCK_M=64, BLOCK_N=128, EVEN_K=True, GROUP_M=8, USE_FAST_ACCUM=False, num_stages=3, num_warps=4\n",
      "  triton_mm_115 0.0408 ms 53.4% ACC_TYPE='tl.float32', ALLOW_TF32=False, BLOCK_K=32, BLOCK_M=64, BLOCK_N=32, EVEN_K=True, GROUP_M=8, USE_FAST_ACCUM=False, num_stages=5, num_warps=8\n",
      "  triton_mm_114 0.0417 ms 52.2% ACC_TYPE='tl.float32', ALLOW_TF32=False, BLOCK_K=32, BLOCK_M=32, BLOCK_N=64, EVEN_K=True, GROUP_M=8, USE_FAST_ACCUM=False, num_stages=5, num_warps=8\n",
      "SingleProcess AUTOTUNE benchmarking takes 6.0850 seconds and 0.3517 seconds precompiling for 18 choices\n"
     ]
    },
    {
     "name": "stdout",
     "output_type": "stream",
     "text": [
      "AUTOTUNE mm(64x4096, 4096x22016)\n",
      "strides: [4096, 1], [1, 4096]\n",
      "dtypes: torch.float16, torch.float16\n",
      "  triton_mm_140 0.0748 ms 100.0% ACC_TYPE='tl.float32', ALLOW_TF32=False, BLOCK_K=64, BLOCK_M=64, BLOCK_N=128, EVEN_K=True, GROUP_M=8, USE_FAST_ACCUM=False, num_stages=3, num_warps=4\n",
      "  triton_mm_137 0.0751 ms 99.5% ACC_TYPE='tl.float32', ALLOW_TF32=False, BLOCK_K=128, BLOCK_M=64, BLOCK_N=64, EVEN_K=True, GROUP_M=8, USE_FAST_ACCUM=False, num_stages=5, num_warps=4\n",
      "  triton_mm_136 0.0755 ms 99.0% ACC_TYPE='tl.float32', ALLOW_TF32=False, BLOCK_K=64, BLOCK_M=64, BLOCK_N=64, EVEN_K=True, GROUP_M=8, USE_FAST_ACCUM=False, num_stages=3, num_warps=8\n",
      "  mm 0.0763 ms 98.0% \n",
      "  triton_mm_141 0.0765 ms 97.7% ACC_TYPE='tl.float32', ALLOW_TF32=False, BLOCK_K=128, BLOCK_M=64, BLOCK_N=128, EVEN_K=True, GROUP_M=8, USE_FAST_ACCUM=False, num_stages=4, num_warps=4\n",
      "  triton_mm_145 0.0798 ms 93.6% ACC_TYPE='tl.float32', ALLOW_TF32=False, BLOCK_K=64, BLOCK_M=64, BLOCK_N=128, EVEN_K=True, GROUP_M=8, USE_FAST_ACCUM=False, num_stages=5, num_warps=8\n",
      "  triton_mm_133 0.0833 ms 89.7% ACC_TYPE='tl.float32', ALLOW_TF32=False, BLOCK_K=128, BLOCK_M=64, BLOCK_N=32, EVEN_K=True, GROUP_M=8, USE_FAST_ACCUM=False, num_stages=5, num_warps=4\n",
      "  triton_mm_139 0.0907 ms 82.5% ACC_TYPE='tl.float32', ALLOW_TF32=False, BLOCK_K=32, BLOCK_M=64, BLOCK_N=128, EVEN_K=True, GROUP_M=8, USE_FAST_ACCUM=False, num_stages=4, num_warps=8\n",
      "  triton_mm_143 0.0947 ms 78.9% ACC_TYPE='tl.float32', ALLOW_TF32=False, BLOCK_K=32, BLOCK_M=64, BLOCK_N=64, EVEN_K=True, GROUP_M=8, USE_FAST_ACCUM=False, num_stages=4, num_warps=8\n",
      "  triton_mm_130 0.0956 ms 78.2% ACC_TYPE='tl.float32', ALLOW_TF32=False, BLOCK_K=128, BLOCK_M=32, BLOCK_N=32, EVEN_K=True, GROUP_M=8, USE_FAST_ACCUM=False, num_stages=2, num_warps=4\n",
      "SingleProcess AUTOTUNE benchmarking takes 0.3509 seconds and 0.1896 seconds precompiling for 18 choices\n"
     ]
    },
    {
     "name": "stdout",
     "output_type": "stream",
     "text": [
      "AUTOTUNE mm(64x11008, 11008x4096)\n",
      "strides: [11008, 1], [1, 11008]\n",
      "dtypes: torch.float16, torch.float16\n",
      "  triton_mm_150 0.0474 ms 100.0% ACC_TYPE='tl.float32', ALLOW_TF32=False, BLOCK_K=128, BLOCK_M=64, BLOCK_N=32, EVEN_K=True, GROUP_M=8, USE_FAST_ACCUM=False, num_stages=5, num_warps=4\n",
      "  mm 0.0484 ms 98.0% \n",
      "  triton_mm_154 0.0484 ms 97.9% ACC_TYPE='tl.float32', ALLOW_TF32=False, BLOCK_K=128, BLOCK_M=64, BLOCK_N=64, EVEN_K=True, GROUP_M=8, USE_FAST_ACCUM=False, num_stages=5, num_warps=4\n",
      "  triton_mm_158 0.0556 ms 85.3% ACC_TYPE='tl.float32', ALLOW_TF32=False, BLOCK_K=128, BLOCK_M=64, BLOCK_N=128, EVEN_K=True, GROUP_M=8, USE_FAST_ACCUM=False, num_stages=4, num_warps=4\n",
      "  triton_mm_162 0.0644 ms 73.6% ACC_TYPE='tl.float32', ALLOW_TF32=False, BLOCK_K=64, BLOCK_M=64, BLOCK_N=128, EVEN_K=True, GROUP_M=8, USE_FAST_ACCUM=False, num_stages=5, num_warps=8\n",
      "  triton_mm_149 0.0891 ms 53.2% ACC_TYPE='tl.float32', ALLOW_TF32=False, BLOCK_K=32, BLOCK_M=64, BLOCK_N=32, EVEN_K=True, GROUP_M=8, USE_FAST_ACCUM=False, num_stages=5, num_warps=8\n",
      "  triton_mm_153 0.0893 ms 53.1% ACC_TYPE='tl.float32', ALLOW_TF32=False, BLOCK_K=64, BLOCK_M=64, BLOCK_N=64, EVEN_K=True, GROUP_M=8, USE_FAST_ACCUM=False, num_stages=3, num_warps=8\n",
      "  triton_mm_157 0.0909 ms 52.1% ACC_TYPE='tl.float32', ALLOW_TF32=False, BLOCK_K=64, BLOCK_M=64, BLOCK_N=128, EVEN_K=True, GROUP_M=8, USE_FAST_ACCUM=False, num_stages=3, num_warps=4\n",
      "  triton_mm_148 0.0924 ms 51.3% ACC_TYPE='tl.float32', ALLOW_TF32=False, BLOCK_K=32, BLOCK_M=32, BLOCK_N=64, EVEN_K=True, GROUP_M=8, USE_FAST_ACCUM=False, num_stages=5, num_warps=8\n",
      "  triton_mm_147 0.0937 ms 50.6% ACC_TYPE='tl.float32', ALLOW_TF32=False, BLOCK_K=128, BLOCK_M=32, BLOCK_N=32, EVEN_K=True, GROUP_M=8, USE_FAST_ACCUM=False, num_stages=2, num_warps=4\n",
      "SingleProcess AUTOTUNE benchmarking takes 0.3919 seconds and 0.0003 seconds precompiling for 18 choices\n"
     ]
    },
    {
     "name": "stdout",
     "output_type": "stream",
     "text": [
      "AUTOTUNE mm(64x4096, 4096x32000)\n",
      "strides: [4096, 1], [1, 4096]\n",
      "dtypes: torch.float16, torch.float16\n",
      "  triton_mm_174 0.0996 ms 100.0% ACC_TYPE='tl.float32', ALLOW_TF32=False, BLOCK_K=64, BLOCK_M=64, BLOCK_N=128, EVEN_K=True, GROUP_M=8, USE_FAST_ACCUM=False, num_stages=3, num_warps=4\n",
      "  triton_mm_175 0.1003 ms 99.3% ACC_TYPE='tl.float32', ALLOW_TF32=False, BLOCK_K=128, BLOCK_M=64, BLOCK_N=128, EVEN_K=True, GROUP_M=8, USE_FAST_ACCUM=False, num_stages=4, num_warps=4\n",
      "  triton_mm_179 0.1004 ms 99.1% ACC_TYPE='tl.float32', ALLOW_TF32=False, BLOCK_K=64, BLOCK_M=64, BLOCK_N=128, EVEN_K=True, GROUP_M=8, USE_FAST_ACCUM=False, num_stages=5, num_warps=8\n",
      "  triton_mm_170 0.1006 ms 99.0% ACC_TYPE='tl.float32', ALLOW_TF32=False, BLOCK_K=64, BLOCK_M=64, BLOCK_N=64, EVEN_K=True, GROUP_M=8, USE_FAST_ACCUM=False, num_stages=3, num_warps=8\n",
      "  triton_mm_171 0.1020 ms 97.6% ACC_TYPE='tl.float32', ALLOW_TF32=False, BLOCK_K=128, BLOCK_M=64, BLOCK_N=64, EVEN_K=True, GROUP_M=8, USE_FAST_ACCUM=False, num_stages=5, num_warps=4\n",
      "  mm 0.1031 ms 96.6% \n",
      "  triton_mm_167 0.1114 ms 89.4% ACC_TYPE='tl.float32', ALLOW_TF32=False, BLOCK_K=128, BLOCK_M=64, BLOCK_N=32, EVEN_K=True, GROUP_M=8, USE_FAST_ACCUM=False, num_stages=5, num_warps=4\n",
      "  triton_mm_172 0.1190 ms 83.7% ACC_TYPE='tl.float32', ALLOW_TF32=False, BLOCK_K=32, BLOCK_M=64, BLOCK_N=128, EVEN_K=True, GROUP_M=8, USE_FAST_ACCUM=False, num_stages=3, num_warps=4\n",
      "  triton_mm_176 0.1250 ms 79.7% ACC_TYPE='tl.float32', ALLOW_TF32=False, BLOCK_K=32, BLOCK_M=64, BLOCK_N=64, EVEN_K=True, GROUP_M=8, USE_FAST_ACCUM=False, num_stages=3, num_warps=4\n",
      "  triton_mm_164 0.1318 ms 75.5% ACC_TYPE='tl.float32', ALLOW_TF32=False, BLOCK_K=128, BLOCK_M=32, BLOCK_N=32, EVEN_K=True, GROUP_M=8, USE_FAST_ACCUM=False, num_stages=2, num_warps=4\n",
      "SingleProcess AUTOTUNE benchmarking takes 0.4744 seconds and 0.3450 seconds precompiling for 18 choices\n"
     ]
    },
    {
     "name": "stdout",
     "output_type": "stream",
     "text": [
      "\r",
      "Capturing batches (bs=1 avail_mem=54.80 GB): 100%|██████████| 4/4 [00:42<00:00, 12.56s/it]\r",
      "Capturing batches (bs=1 avail_mem=54.80 GB): 100%|██████████| 4/4 [00:42<00:00, 10.63s/it]\n"
     ]
    },
    {
     "name": "stdout",
     "output_type": "stream",
     "text": [
      "\r",
      "Loading pt checkpoint shards:   0% Completed | 0/1 [00:00<?, ?it/s]\n"
     ]
    },
    {
     "name": "stdout",
     "output_type": "stream",
     "text": [
      "\r",
      "Loading pt checkpoint shards: 100% Completed | 1/1 [00:01<00:00,  1.09s/it]\n",
      "\r",
      "Loading pt checkpoint shards: 100% Completed | 1/1 [00:01<00:00,  1.09s/it]\n",
      "\n"
     ]
    },
    {
     "name": "stdout",
     "output_type": "stream",
     "text": [
      "\r",
      "  0%|          | 0/4 [00:00<?, ?it/s]\r",
      "Capturing batches (bs=4 avail_mem=13.20 GB):   0%|          | 0/4 [00:00<?, ?it/s]"
     ]
    },
    {
     "name": "stdout",
     "output_type": "stream",
     "text": [
      "\r",
      "Capturing batches (bs=4 avail_mem=13.20 GB):  25%|██▌       | 1/4 [00:08<00:24,  8.16s/it]\r",
      "Capturing batches (bs=3 avail_mem=53.55 GB):  25%|██▌       | 1/4 [00:08<00:24,  8.16s/it]"
     ]
    },
    {
     "name": "stdout",
     "output_type": "stream",
     "text": [
      "\r",
      "Capturing batches (bs=3 avail_mem=53.55 GB):  50%|█████     | 2/4 [00:08<00:07,  3.85s/it]\r",
      "Capturing batches (bs=2 avail_mem=53.53 GB):  50%|█████     | 2/4 [00:08<00:07,  3.85s/it]"
     ]
    },
    {
     "name": "stdout",
     "output_type": "stream",
     "text": [
      "\r",
      "Capturing batches (bs=2 avail_mem=53.53 GB):  75%|███████▌  | 3/4 [00:09<00:02,  2.21s/it]\r",
      "Capturing batches (bs=1 avail_mem=53.49 GB):  75%|███████▌  | 3/4 [00:09<00:02,  2.21s/it]"
     ]
    },
    {
     "name": "stdout",
     "output_type": "stream",
     "text": [
      "\r",
      "Capturing batches (bs=1 avail_mem=53.49 GB): 100%|██████████| 4/4 [00:15<00:00,  3.75s/it]\r",
      "Capturing batches (bs=1 avail_mem=53.49 GB): 100%|██████████| 4/4 [00:15<00:00,  3.84s/it]\n"
     ]
    },
    {
     "name": "stdout",
     "output_type": "stream",
     "text": [
      "\r",
      "  0%|          | 0/4 [00:00<?, ?it/s]\r",
      "Capturing batches (bs=4 avail_mem=37.83 GB):   0%|          | 0/4 [00:00<?, ?it/s]\r",
      "Capturing batches (bs=4 avail_mem=37.83 GB):  25%|██▌       | 1/4 [00:00<00:00,  6.47it/s]\r",
      "Capturing batches (bs=3 avail_mem=37.75 GB):  25%|██▌       | 1/4 [00:00<00:00,  6.47it/s]\r",
      "Capturing batches (bs=2 avail_mem=37.75 GB):  25%|██▌       | 1/4 [00:00<00:00,  6.47it/s]"
     ]
    },
    {
     "name": "stdout",
     "output_type": "stream",
     "text": [
      "\r",
      "Capturing batches (bs=1 avail_mem=37.73 GB):  25%|██▌       | 1/4 [00:00<00:00,  6.47it/s]\r",
      "Capturing batches (bs=1 avail_mem=37.73 GB): 100%|██████████| 4/4 [00:00<00:00, 15.56it/s]\r",
      "Capturing batches (bs=1 avail_mem=37.73 GB): 100%|██████████| 4/4 [00:00<00:00, 14.07it/s]\n"
     ]
    },
    {
     "data": {
      "text/html": [
       "<strong style='color: #00008B;'><br><br>                    NOTE: Typically, the server runs in a separate terminal.<br>                    In this notebook, we run the server and notebook code together, so their outputs are combined.<br>                    To improve clarity, the server logs are displayed in the original black color, while the notebook outputs are highlighted in blue.<br>                    To reduce the log length, we set the log level to warning for the server, the default log level is info.<br>                    We are running those notebooks in a CI environment, so the throughput is not representative of the actual performance.<br>                    </strong>"
      ],
      "text/plain": [
       "<IPython.core.display.HTML object>"
      ]
     },
     "metadata": {},
     "output_type": "display_data"
    }
   ],
   "source": [
    "server_process, port = launch_server_cmd(\n",
    "    \"\"\"\n",
    "python3 -m sglang.launch_server --model meta-llama/Llama-2-7b-chat-hf  --speculative-algorithm EAGLE \\\n",
    "    --speculative-draft-model-path lmsys/sglang-EAGLE-llama2-chat-7B --speculative-num-steps 5 \\\n",
    "        --speculative-eagle-topk 8 --speculative-num-draft-tokens 64 --mem-fraction 0.6 \\\n",
    "            --enable-torch-compile --torch-compile-max-bs 2 --log-level warning\n",
    "\"\"\"\n",
    ")\n",
    "\n",
    "wait_for_server(f\"http://localhost:{port}\")"
   ]
  },
  {
   "cell_type": "code",
   "execution_count": 6,
   "metadata": {
    "execution": {
     "iopub.execute_input": "2025-10-02T21:38:54.272584Z",
     "iopub.status.busy": "2025-10-02T21:38:54.272425Z",
     "iopub.status.idle": "2025-10-02T21:38:54.487528Z",
     "shell.execute_reply": "2025-10-02T21:38:54.487085Z"
    }
   },
   "outputs": [
    {
     "data": {
      "text/html": [
       "<strong style='color: #00008B;'>Response: ChatCompletion(id='fe8436fd82004a2baeeb5944d3a5fbba', choices=[Choice(finish_reason='stop', index=0, logprobs=None, message=ChatCompletionMessage(content='  Sure! Here are three countries and their capitals:\\n\\n1. Country: France\\nCapital: Paris\\n2. Country: Japan\\nCapital: Tokyo\\n3. Country: Brazil\\nCapital: Brasília', refusal=None, role='assistant', annotations=None, audio=None, function_call=None, tool_calls=None, reasoning_content=None), matched_stop=2)], created=1759441134, model='meta-llama/Llama-2-7b-chat-hf', object='chat.completion', service_tier=None, system_fingerprint=None, usage=CompletionUsage(completion_tokens=48, prompt_tokens=17, total_tokens=65, completion_tokens_details=None, prompt_tokens_details=None, reasoning_tokens=0), metadata={'weight_version': 'default'})</strong>"
      ],
      "text/plain": [
       "<IPython.core.display.HTML object>"
      ]
     },
     "metadata": {},
     "output_type": "display_data"
    }
   ],
   "source": [
    "client = openai.Client(base_url=f\"http://127.0.0.1:{port}/v1\", api_key=\"None\")\n",
    "\n",
    "response = client.chat.completions.create(\n",
    "    model=\"meta-llama/Llama-2-7b-chat-hf\",\n",
    "    messages=[\n",
    "        {\"role\": \"user\", \"content\": \"List 3 countries and their capitals.\"},\n",
    "    ],\n",
    "    temperature=0,\n",
    "    max_tokens=64,\n",
    ")\n",
    "\n",
    "print_highlight(f\"Response: {response}\")"
   ]
  },
  {
   "cell_type": "code",
   "execution_count": 7,
   "metadata": {
    "execution": {
     "iopub.execute_input": "2025-10-02T21:38:54.488876Z",
     "iopub.status.busy": "2025-10-02T21:38:54.488733Z",
     "iopub.status.idle": "2025-10-02T21:38:54.560237Z",
     "shell.execute_reply": "2025-10-02T21:38:54.559682Z"
    }
   },
   "outputs": [],
   "source": [
    "terminate_process(server_process)"
   ]
  },
  {
   "cell_type": "markdown",
   "metadata": {},
   "source": [
    "### EAGLE-2 Decoding via Frequency-Ranked Speculative Sampling\n",
    "\n",
    "By employing a truncated high-frequency token vocabulary in the draft model, Eagle speculative decoding reduces `lm_head` computational overhead while accelerating the pipeline without quality degradation. For more details, checkout [the paper](https://arxiv.org/pdf/arXiv:2502.14856).\n",
    "\n",
    "In our implementation, set `--speculative-token-map` to enable the optimization. You can get the high-frequency token in FR-Spec from [this model](https://huggingface.co/thunlp/LLaMA3-Instruct-8B-FR-Spec). Or you can obtain high-frequency token by directly downloading these token from [this repo](https://github.com/thunlp/FR-Spec/tree/main?tab=readme-ov-file#prepare-fr-spec-vocabulary-subset).\n",
    "\n",
    "Thanks for the contribution from [Weilin Zhao](https://github.com/Achazwl) and [Zhousx](https://github.com/Zhou-sx). "
   ]
  },
  {
   "cell_type": "code",
   "execution_count": 8,
   "metadata": {
    "execution": {
     "iopub.execute_input": "2025-10-02T21:38:54.561921Z",
     "iopub.status.busy": "2025-10-02T21:38:54.561766Z",
     "iopub.status.idle": "2025-10-02T21:39:59.714470Z",
     "shell.execute_reply": "2025-10-02T21:39:59.714007Z"
    }
   },
   "outputs": [
    {
     "name": "stdout",
     "output_type": "stream",
     "text": [
      "/usr/local/lib/python3.10/dist-packages/torch/cuda/__init__.py:63: FutureWarning: The pynvml package is deprecated. Please install nvidia-ml-py instead. If you did not install pynvml directly, please report this to the maintainers of the package that installed pynvml for you.\n",
      "  import pynvml  # type: ignore[import]\n"
     ]
    },
    {
     "name": "stdout",
     "output_type": "stream",
     "text": [
      "WARNING:sglang.srt.server_args:Overlap scheduler is disabled because of using eagle speculative decoding.\n",
      "WARNING:sglang.srt.server_args:\u001b[33m\n",
      "########################################################################\n",
      "# For contributors and developers:                                    #\n",
      "# Please move environment variable definitions to sglang.srt.environ  #\n",
      "# using the following pattern:                                        #\n",
      "#     SGLANG_XXX = EnvBool(False)                                     #\n",
      "#                                                                     #\n",
      "########################################################################\n",
      "\u001b[0m\n",
      "`torch_dtype` is deprecated! Use `dtype` instead!\n",
      "[2025-10-02 21:39:03] `torch_dtype` is deprecated! Use `dtype` instead!\n",
      "[2025-10-02 21:39:03] Casting torch.bfloat16 to torch.float16.\n"
     ]
    },
    {
     "name": "stdout",
     "output_type": "stream",
     "text": [
      "/usr/local/lib/python3.10/dist-packages/torch/cuda/__init__.py:63: FutureWarning: The pynvml package is deprecated. Please install nvidia-ml-py instead. If you did not install pynvml directly, please report this to the maintainers of the package that installed pynvml for you.\n",
      "  import pynvml  # type: ignore[import]\n",
      "/usr/local/lib/python3.10/dist-packages/torch/cuda/__init__.py:63: FutureWarning: The pynvml package is deprecated. Please install nvidia-ml-py instead. If you did not install pynvml directly, please report this to the maintainers of the package that installed pynvml for you.\n",
      "  import pynvml  # type: ignore[import]\n"
     ]
    },
    {
     "name": "stdout",
     "output_type": "stream",
     "text": [
      "`torch_dtype` is deprecated! Use `dtype` instead!\n",
      "[2025-10-02 21:39:11] `torch_dtype` is deprecated! Use `dtype` instead!\n",
      "[2025-10-02 21:39:11] Casting torch.bfloat16 to torch.float16.\n"
     ]
    },
    {
     "name": "stdout",
     "output_type": "stream",
     "text": [
      "[2025-10-02 21:39:12] Casting torch.bfloat16 to torch.float16.\n"
     ]
    },
    {
     "name": "stdout",
     "output_type": "stream",
     "text": [
      "[Gloo] Rank 0 is connected to 0 peer ranks. Expected number of connected peer ranks is : 0\n",
      "[Gloo] Rank 0 is connected to 0 peer ranks. Expected number of connected peer ranks is : 0\n",
      "[Gloo] Rank 0 is connected to 0 peer ranks. Expected number of connected peer ranks is : 0\n",
      "[Gloo] Rank 0 is connected to 0 peer ranks. Expected number of connected peer ranks is : 0\n",
      "[2025-10-02 21:39:13] MOE_RUNNER_BACKEND is not initialized, using triton backend\n"
     ]
    },
    {
     "name": "stdout",
     "output_type": "stream",
     "text": [
      "\r",
      "Loading safetensors checkpoint shards:   0% Completed | 0/4 [00:00<?, ?it/s]\n"
     ]
    },
    {
     "name": "stdout",
     "output_type": "stream",
     "text": [
      "\r",
      "Loading safetensors checkpoint shards:  25% Completed | 1/4 [00:04<00:13,  4.48s/it]\n"
     ]
    },
    {
     "name": "stdout",
     "output_type": "stream",
     "text": [
      "\r",
      "Loading safetensors checkpoint shards:  50% Completed | 2/4 [00:09<00:09,  4.51s/it]\n"
     ]
    },
    {
     "name": "stdout",
     "output_type": "stream",
     "text": [
      "\r",
      "Loading safetensors checkpoint shards:  75% Completed | 3/4 [00:13<00:04,  4.55s/it]\n"
     ]
    },
    {
     "name": "stdout",
     "output_type": "stream",
     "text": [
      "\r",
      "Loading safetensors checkpoint shards: 100% Completed | 4/4 [00:14<00:00,  3.24s/it]\n",
      "\r",
      "Loading safetensors checkpoint shards: 100% Completed | 4/4 [00:14<00:00,  3.71s/it]\n",
      "\n"
     ]
    },
    {
     "name": "stdout",
     "output_type": "stream",
     "text": [
      "\r",
      "  0%|          | 0/4 [00:00<?, ?it/s]\r",
      "Capturing batches (bs=4 avail_mem=43.75 GB):   0%|          | 0/4 [00:00<?, ?it/s]"
     ]
    },
    {
     "name": "stdout",
     "output_type": "stream",
     "text": [
      "\r",
      "Capturing batches (bs=4 avail_mem=43.75 GB):  25%|██▌       | 1/4 [00:00<00:02,  1.30it/s]\r",
      "Capturing batches (bs=3 avail_mem=43.44 GB):  25%|██▌       | 1/4 [00:00<00:02,  1.30it/s]\r",
      "Capturing batches (bs=2 avail_mem=43.38 GB):  25%|██▌       | 1/4 [00:00<00:02,  1.30it/s]\r",
      "Capturing batches (bs=2 avail_mem=43.38 GB):  75%|███████▌  | 3/4 [00:00<00:00,  4.06it/s]\r",
      "Capturing batches (bs=1 avail_mem=43.29 GB):  75%|███████▌  | 3/4 [00:00<00:00,  4.06it/s]\r",
      "Capturing batches (bs=1 avail_mem=43.29 GB): 100%|██████████| 4/4 [00:00<00:00,  4.20it/s]\n"
     ]
    },
    {
     "name": "stdout",
     "output_type": "stream",
     "text": [
      "[2025-10-02 21:39:42] Warning: Target model's context_length (8192) is greater than the derived context_length (2048). This may lead to incorrect model outputs or CUDA errors. Note that the derived context_length may differ from max_position_embeddings in the model's config.\n",
      "[2025-10-02 21:39:42] Overriding the draft model's max_position_embeddings to 8192.\n",
      "\r",
      "Loading pt checkpoint shards:   0% Completed | 0/1 [00:00<?, ?it/s]\n"
     ]
    },
    {
     "name": "stdout",
     "output_type": "stream",
     "text": [
      "\r",
      "Loading pt checkpoint shards: 100% Completed | 1/1 [00:01<00:00,  1.05s/it]\n",
      "\r",
      "Loading pt checkpoint shards: 100% Completed | 1/1 [00:01<00:00,  1.05s/it]\n",
      "\n"
     ]
    },
    {
     "name": "stdout",
     "output_type": "stream",
     "text": [
      "\r",
      "  0%|          | 0/4 [00:00<?, ?it/s]\r",
      "Capturing batches (bs=4 avail_mem=42.02 GB):   0%|          | 0/4 [00:00<?, ?it/s]"
     ]
    },
    {
     "name": "stdout",
     "output_type": "stream",
     "text": [
      "\r",
      "Capturing batches (bs=4 avail_mem=42.02 GB):  25%|██▌       | 1/4 [00:03<00:10,  3.56s/it]\r",
      "Capturing batches (bs=3 avail_mem=41.28 GB):  25%|██▌       | 1/4 [00:03<00:10,  3.56s/it]"
     ]
    },
    {
     "name": "stdout",
     "output_type": "stream",
     "text": [
      "\r",
      "Capturing batches (bs=3 avail_mem=41.28 GB):  50%|█████     | 2/4 [00:04<00:03,  1.83s/it]\r",
      "Capturing batches (bs=2 avail_mem=41.26 GB):  50%|█████     | 2/4 [00:04<00:03,  1.83s/it]\r",
      "Capturing batches (bs=2 avail_mem=41.26 GB):  75%|███████▌  | 3/4 [00:04<00:01,  1.06s/it]\r",
      "Capturing batches (bs=1 avail_mem=41.22 GB):  75%|███████▌  | 3/4 [00:04<00:01,  1.06s/it]"
     ]
    },
    {
     "name": "stdout",
     "output_type": "stream",
     "text": [
      "\r",
      "Capturing batches (bs=1 avail_mem=41.22 GB): 100%|██████████| 4/4 [00:06<00:00,  1.50s/it]\r",
      "Capturing batches (bs=1 avail_mem=41.22 GB): 100%|██████████| 4/4 [00:06<00:00,  1.62s/it]\n"
     ]
    },
    {
     "name": "stdout",
     "output_type": "stream",
     "text": [
      "\r",
      "  0%|          | 0/4 [00:00<?, ?it/s]\r",
      "Capturing batches (bs=4 avail_mem=41.14 GB):   0%|          | 0/4 [00:00<?, ?it/s]\r",
      "Capturing batches (bs=3 avail_mem=40.59 GB):   0%|          | 0/4 [00:00<?, ?it/s]\r",
      "Capturing batches (bs=3 avail_mem=40.59 GB):  50%|█████     | 2/4 [00:00<00:00, 14.03it/s]\r",
      "Capturing batches (bs=2 avail_mem=40.59 GB):  50%|█████     | 2/4 [00:00<00:00, 14.03it/s]"
     ]
    },
    {
     "name": "stdout",
     "output_type": "stream",
     "text": [
      "\r",
      "Capturing batches (bs=1 avail_mem=40.57 GB):  50%|█████     | 2/4 [00:00<00:00, 14.03it/s]\r",
      "Capturing batches (bs=1 avail_mem=40.57 GB): 100%|██████████| 4/4 [00:00<00:00, 16.95it/s]\n"
     ]
    },
    {
     "data": {
      "text/html": [
       "<strong style='color: #00008B;'><br><br>                    NOTE: Typically, the server runs in a separate terminal.<br>                    In this notebook, we run the server and notebook code together, so their outputs are combined.<br>                    To improve clarity, the server logs are displayed in the original black color, while the notebook outputs are highlighted in blue.<br>                    To reduce the log length, we set the log level to warning for the server, the default log level is info.<br>                    We are running those notebooks in a CI environment, so the throughput is not representative of the actual performance.<br>                    </strong>"
      ],
      "text/plain": [
       "<IPython.core.display.HTML object>"
      ]
     },
     "metadata": {},
     "output_type": "display_data"
    }
   ],
   "source": [
    "server_process, port = launch_server_cmd(\n",
    "    \"\"\"\n",
    "python3 -m sglang.launch_server --model meta-llama/Meta-Llama-3-8B-Instruct --speculative-algorithm EAGLE \\\n",
    "    --speculative-draft-model-path lmsys/sglang-EAGLE-LLaMA3-Instruct-8B --speculative-num-steps 5 \\\n",
    "    --speculative-eagle-topk 8 --speculative-num-draft-tokens 64 --speculative-token-map thunlp/LLaMA3-Instruct-8B-FR-Spec/freq_32768.pt \\\n",
    "    --mem-fraction 0.7 --cuda-graph-max-bs 2 --dtype float16  --log-level warning\n",
    "\"\"\"\n",
    ")\n",
    "\n",
    "wait_for_server(f\"http://localhost:{port}\")"
   ]
  },
  {
   "cell_type": "code",
   "execution_count": 9,
   "metadata": {
    "execution": {
     "iopub.execute_input": "2025-10-02T21:39:59.716018Z",
     "iopub.status.busy": "2025-10-02T21:39:59.715858Z",
     "iopub.status.idle": "2025-10-02T21:40:00.464080Z",
     "shell.execute_reply": "2025-10-02T21:40:00.463642Z"
    }
   },
   "outputs": [
    {
     "data": {
      "text/html": [
       "<strong style='color: #00008B;'>Response: ChatCompletion(id='40adaad7ecea4ea386d245399ee78240', choices=[Choice(finish_reason='stop', index=0, logprobs=None, message=ChatCompletionMessage(content='Here are 3 countries and their capitals:\\n\\n1. **France** - **Paris**\\n2. **Japan** - **Tokyo**\\n3. **Australia** - **Canberra**', refusal=None, role='assistant', annotations=None, audio=None, function_call=None, tool_calls=None, reasoning_content=None), matched_stop=128009)], created=1759441200, model='meta-llama/Meta-Llama-3-8B-Instruct', object='chat.completion', service_tier=None, system_fingerprint=None, usage=CompletionUsage(completion_tokens=39, prompt_tokens=18, total_tokens=57, completion_tokens_details=None, prompt_tokens_details=None, reasoning_tokens=0), metadata={'weight_version': 'default'})</strong>"
      ],
      "text/plain": [
       "<IPython.core.display.HTML object>"
      ]
     },
     "metadata": {},
     "output_type": "display_data"
    }
   ],
   "source": [
    "client = openai.Client(base_url=f\"http://127.0.0.1:{port}/v1\", api_key=\"None\")\n",
    "\n",
    "response = client.chat.completions.create(\n",
    "    model=\"meta-llama/Meta-Llama-3-8B-Instruct\",\n",
    "    messages=[\n",
    "        {\"role\": \"user\", \"content\": \"List 3 countries and their capitals.\"},\n",
    "    ],\n",
    "    temperature=0,\n",
    "    max_tokens=64,\n",
    ")\n",
    "\n",
    "print_highlight(f\"Response: {response}\")"
   ]
  },
  {
   "cell_type": "code",
   "execution_count": 10,
   "metadata": {
    "execution": {
     "iopub.execute_input": "2025-10-02T21:40:00.465515Z",
     "iopub.status.busy": "2025-10-02T21:40:00.465370Z",
     "iopub.status.idle": "2025-10-02T21:40:00.513262Z",
     "shell.execute_reply": "2025-10-02T21:40:00.512736Z"
    }
   },
   "outputs": [],
   "source": [
    "terminate_process(server_process)"
   ]
  },
  {
   "cell_type": "markdown",
   "metadata": {},
   "source": [
    "### EAGLE-3 Decoding\n",
    "\n",
    "You can enable EAGLE-3 decoding by setting `--speculative-algorithm EAGLE3` and choosing an appropriate model."
   ]
  },
  {
   "cell_type": "code",
   "execution_count": 11,
   "metadata": {
    "execution": {
     "iopub.execute_input": "2025-10-02T21:40:00.521901Z",
     "iopub.status.busy": "2025-10-02T21:40:00.521699Z",
     "iopub.status.idle": "2025-10-02T21:40:51.642441Z",
     "shell.execute_reply": "2025-10-02T21:40:51.641973Z"
    }
   },
   "outputs": [
    {
     "name": "stdout",
     "output_type": "stream",
     "text": [
      "/usr/local/lib/python3.10/dist-packages/torch/cuda/__init__.py:63: FutureWarning: The pynvml package is deprecated. Please install nvidia-ml-py instead. If you did not install pynvml directly, please report this to the maintainers of the package that installed pynvml for you.\n",
      "  import pynvml  # type: ignore[import]\n"
     ]
    },
    {
     "name": "stdout",
     "output_type": "stream",
     "text": [
      "WARNING:sglang.srt.server_args:Overlap scheduler is disabled because of using eagle speculative decoding.\n",
      "WARNING:sglang.srt.server_args:\u001b[33m\n",
      "########################################################################\n",
      "# For contributors and developers:                                    #\n",
      "# Please move environment variable definitions to sglang.srt.environ  #\n",
      "# using the following pattern:                                        #\n",
      "#     SGLANG_XXX = EnvBool(False)                                     #\n",
      "#                                                                     #\n",
      "########################################################################\n",
      "\u001b[0m\n",
      "`torch_dtype` is deprecated! Use `dtype` instead!\n",
      "[2025-10-02 21:40:08] `torch_dtype` is deprecated! Use `dtype` instead!\n",
      "[2025-10-02 21:40:08] Casting torch.bfloat16 to torch.float16.\n"
     ]
    },
    {
     "name": "stdout",
     "output_type": "stream",
     "text": [
      "/usr/local/lib/python3.10/dist-packages/torch/cuda/__init__.py:63: FutureWarning: The pynvml package is deprecated. Please install nvidia-ml-py instead. If you did not install pynvml directly, please report this to the maintainers of the package that installed pynvml for you.\n",
      "  import pynvml  # type: ignore[import]\n",
      "/usr/local/lib/python3.10/dist-packages/torch/cuda/__init__.py:63: FutureWarning: The pynvml package is deprecated. Please install nvidia-ml-py instead. If you did not install pynvml directly, please report this to the maintainers of the package that installed pynvml for you.\n",
      "  import pynvml  # type: ignore[import]\n"
     ]
    },
    {
     "name": "stdout",
     "output_type": "stream",
     "text": [
      "`torch_dtype` is deprecated! Use `dtype` instead!\n",
      "[2025-10-02 21:40:16] `torch_dtype` is deprecated! Use `dtype` instead!\n",
      "[2025-10-02 21:40:16] Casting torch.bfloat16 to torch.float16.\n"
     ]
    },
    {
     "name": "stdout",
     "output_type": "stream",
     "text": [
      "[2025-10-02 21:40:17] Casting torch.bfloat16 to torch.float16.\n"
     ]
    },
    {
     "name": "stdout",
     "output_type": "stream",
     "text": [
      "[Gloo] Rank 0 is connected to 0 peer ranks. Expected number of connected peer ranks is : 0\n",
      "[Gloo] Rank 0 is connected to 0 peer ranks. Expected number of connected peer ranks is : 0\n",
      "[Gloo] Rank 0 is connected to 0 peer ranks. Expected number of connected peer ranks is : 0\n",
      "[Gloo] Rank 0 is connected to 0 peer ranks. Expected number of connected peer ranks is : 0\n"
     ]
    },
    {
     "name": "stdout",
     "output_type": "stream",
     "text": [
      "[2025-10-02 21:40:18] MOE_RUNNER_BACKEND is not initialized, using triton backend\n"
     ]
    },
    {
     "name": "stdout",
     "output_type": "stream",
     "text": [
      "\r",
      "Loading safetensors checkpoint shards:   0% Completed | 0/4 [00:00<?, ?it/s]\n"
     ]
    },
    {
     "name": "stdout",
     "output_type": "stream",
     "text": [
      "\r",
      "Loading safetensors checkpoint shards:  25% Completed | 1/4 [00:04<00:12,  4.28s/it]\n"
     ]
    },
    {
     "name": "stdout",
     "output_type": "stream",
     "text": [
      "\r",
      "Loading safetensors checkpoint shards:  50% Completed | 2/4 [00:08<00:08,  4.49s/it]\n"
     ]
    },
    {
     "name": "stdout",
     "output_type": "stream",
     "text": [
      "\r",
      "Loading safetensors checkpoint shards:  75% Completed | 3/4 [00:13<00:04,  4.44s/it]\n"
     ]
    },
    {
     "name": "stdout",
     "output_type": "stream",
     "text": [
      "\r",
      "Loading safetensors checkpoint shards: 100% Completed | 4/4 [00:14<00:00,  3.15s/it]\n",
      "\r",
      "Loading safetensors checkpoint shards: 100% Completed | 4/4 [00:14<00:00,  3.62s/it]\n",
      "\n"
     ]
    },
    {
     "name": "stdout",
     "output_type": "stream",
     "text": [
      "\r",
      "  0%|          | 0/4 [00:00<?, ?it/s]\r",
      "Capturing batches (bs=4 avail_mem=45.07 GB):   0%|          | 0/4 [00:00<?, ?it/s]"
     ]
    },
    {
     "name": "stdout",
     "output_type": "stream",
     "text": [
      "\r",
      "Capturing batches (bs=4 avail_mem=45.07 GB):  25%|██▌       | 1/4 [00:01<00:03,  1.09s/it]\r",
      "Capturing batches (bs=3 avail_mem=44.89 GB):  25%|██▌       | 1/4 [00:01<00:03,  1.09s/it]\r",
      "Capturing batches (bs=2 avail_mem=43.57 GB):  25%|██▌       | 1/4 [00:01<00:03,  1.09s/it]\r",
      "Capturing batches (bs=2 avail_mem=43.57 GB):  75%|███████▌  | 3/4 [00:01<00:00,  3.06it/s]\r",
      "Capturing batches (bs=1 avail_mem=43.39 GB):  75%|███████▌  | 3/4 [00:01<00:00,  3.06it/s]\r",
      "Capturing batches (bs=1 avail_mem=43.39 GB): 100%|██████████| 4/4 [00:01<00:00,  3.17it/s]\n"
     ]
    },
    {
     "name": "stdout",
     "output_type": "stream",
     "text": [
      "[2025-10-02 21:40:38] Warning: Target model's context_length (131072) is greater than the derived context_length (2048). This may lead to incorrect model outputs or CUDA errors. Note that the derived context_length may differ from max_position_embeddings in the model's config.\n",
      "[2025-10-02 21:40:38] Overriding the draft model's max_position_embeddings to 131072.\n",
      "\r",
      "Loading pt checkpoint shards:   0% Completed | 0/1 [00:00<?, ?it/s]\n"
     ]
    },
    {
     "name": "stdout",
     "output_type": "stream",
     "text": [
      "\r",
      "Loading pt checkpoint shards: 100% Completed | 1/1 [00:00<00:00,  1.87it/s]\n",
      "\r",
      "Loading pt checkpoint shards: 100% Completed | 1/1 [00:00<00:00,  1.87it/s]\n",
      "\n"
     ]
    },
    {
     "name": "stdout",
     "output_type": "stream",
     "text": [
      "\r",
      "  0%|          | 0/4 [00:00<?, ?it/s]\r",
      "Capturing batches (bs=4 avail_mem=40.99 GB):   0%|          | 0/4 [00:00<?, ?it/s]"
     ]
    },
    {
     "name": "stdout",
     "output_type": "stream",
     "text": [
      "\r",
      "Capturing batches (bs=4 avail_mem=40.99 GB):  25%|██▌       | 1/4 [00:02<00:07,  2.51s/it]\r",
      "Capturing batches (bs=3 avail_mem=43.31 GB):  25%|██▌       | 1/4 [00:02<00:07,  2.51s/it]"
     ]
    },
    {
     "name": "stdout",
     "output_type": "stream",
     "text": [
      "\r",
      "Capturing batches (bs=3 avail_mem=43.31 GB):  50%|█████     | 2/4 [00:02<00:02,  1.25s/it]\r",
      "Capturing batches (bs=2 avail_mem=43.27 GB):  50%|█████     | 2/4 [00:02<00:02,  1.25s/it]"
     ]
    },
    {
     "name": "stdout",
     "output_type": "stream",
     "text": [
      "\r",
      "Capturing batches (bs=2 avail_mem=43.27 GB):  75%|███████▌  | 3/4 [00:03<00:00,  1.21it/s]\r",
      "Capturing batches (bs=1 avail_mem=43.23 GB):  75%|███████▌  | 3/4 [00:03<00:00,  1.21it/s]"
     ]
    },
    {
     "name": "stdout",
     "output_type": "stream",
     "text": [
      "\r",
      "Capturing batches (bs=1 avail_mem=43.23 GB): 100%|██████████| 4/4 [00:05<00:00,  1.24s/it]\r",
      "Capturing batches (bs=1 avail_mem=43.23 GB): 100%|██████████| 4/4 [00:05<00:00,  1.27s/it]\n"
     ]
    },
    {
     "name": "stdout",
     "output_type": "stream",
     "text": [
      "\r",
      "  0%|          | 0/4 [00:00<?, ?it/s]\r",
      "Capturing batches (bs=4 avail_mem=41.33 GB):   0%|          | 0/4 [00:00<?, ?it/s]\r",
      "Capturing batches (bs=3 avail_mem=41.28 GB):   0%|          | 0/4 [00:00<?, ?it/s]\r",
      "Capturing batches (bs=2 avail_mem=41.27 GB):   0%|          | 0/4 [00:00<?, ?it/s]\r",
      "Capturing batches (bs=1 avail_mem=41.23 GB):   0%|          | 0/4 [00:00<?, ?it/s]\r",
      "Capturing batches (bs=1 avail_mem=41.23 GB): 100%|██████████| 4/4 [00:00<00:00, 81.99it/s]\n"
     ]
    },
    {
     "data": {
      "text/html": [
       "<strong style='color: #00008B;'><br><br>                    NOTE: Typically, the server runs in a separate terminal.<br>                    In this notebook, we run the server and notebook code together, so their outputs are combined.<br>                    To improve clarity, the server logs are displayed in the original black color, while the notebook outputs are highlighted in blue.<br>                    To reduce the log length, we set the log level to warning for the server, the default log level is info.<br>                    We are running those notebooks in a CI environment, so the throughput is not representative of the actual performance.<br>                    </strong>"
      ],
      "text/plain": [
       "<IPython.core.display.HTML object>"
      ]
     },
     "metadata": {},
     "output_type": "display_data"
    }
   ],
   "source": [
    "server_process, port = launch_server_cmd(\n",
    "    \"\"\"\n",
    "python3 -m sglang.launch_server --model meta-llama/Llama-3.1-8B-Instruct  --speculative-algorithm EAGLE3 \\\n",
    "    --speculative-draft-model-path jamesliu1/sglang-EAGLE3-Llama-3.1-Instruct-8B --speculative-num-steps 5 \\\n",
    "        --speculative-eagle-topk 8 --speculative-num-draft-tokens 32 --mem-fraction 0.6 \\\n",
    "        --cuda-graph-max-bs 2 --dtype float16 --log-level warning\n",
    "\"\"\"\n",
    ")\n",
    "\n",
    "wait_for_server(f\"http://localhost:{port}\")"
   ]
  },
  {
   "cell_type": "code",
   "execution_count": 12,
   "metadata": {
    "execution": {
     "iopub.execute_input": "2025-10-02T21:40:51.643963Z",
     "iopub.status.busy": "2025-10-02T21:40:51.643803Z",
     "iopub.status.idle": "2025-10-02T21:40:52.352578Z",
     "shell.execute_reply": "2025-10-02T21:40:52.352138Z"
    }
   },
   "outputs": [
    {
     "data": {
      "text/html": [
       "<strong style='color: #00008B;'>Response: ChatCompletion(id='1c51c19edb164e67bf1da56b9d3a8f08', choices=[Choice(finish_reason='stop', index=0, logprobs=None, message=ChatCompletionMessage(content='Here are 3 countries and their capitals:\\n\\n1. Country: Japan\\n   Capital: Tokyo\\n\\n2. Country: Australia\\n   Capital: Canberra\\n\\n3. Country: Brazil\\n   Capital: Brasília', refusal=None, role='assistant', annotations=None, audio=None, function_call=None, tool_calls=None, reasoning_content=None), matched_stop=128009)], created=1759441252, model='meta-llama/Meta-Llama-3.1-8B-Instruct', object='chat.completion', service_tier=None, system_fingerprint=None, usage=CompletionUsage(completion_tokens=43, prompt_tokens=43, total_tokens=86, completion_tokens_details=None, prompt_tokens_details=None, reasoning_tokens=0), metadata={'weight_version': 'default'})</strong>"
      ],
      "text/plain": [
       "<IPython.core.display.HTML object>"
      ]
     },
     "metadata": {},
     "output_type": "display_data"
    }
   ],
   "source": [
    "client = openai.Client(base_url=f\"http://127.0.0.1:{port}/v1\", api_key=\"None\")\n",
    "\n",
    "response = client.chat.completions.create(\n",
    "    model=\"meta-llama/Meta-Llama-3.1-8B-Instruct\",\n",
    "    messages=[\n",
    "        {\"role\": \"user\", \"content\": \"List 3 countries and their capitals.\"},\n",
    "    ],\n",
    "    temperature=0,\n",
    "    max_tokens=64,\n",
    ")\n",
    "\n",
    "print_highlight(f\"Response: {response}\")"
   ]
  },
  {
   "cell_type": "code",
   "execution_count": 13,
   "metadata": {
    "execution": {
     "iopub.execute_input": "2025-10-02T21:40:52.354108Z",
     "iopub.status.busy": "2025-10-02T21:40:52.353961Z",
     "iopub.status.idle": "2025-10-02T21:40:52.420773Z",
     "shell.execute_reply": "2025-10-02T21:40:52.420026Z"
    }
   },
   "outputs": [],
   "source": [
    "terminate_process(server_process)"
   ]
  },
  {
   "cell_type": "markdown",
   "metadata": {},
   "source": [
    "## Multi Token Prediction\n",
    "\n",
    "We support [MTP(Multi-Token Prediction)](https://arxiv.org/pdf/2404.19737) in SGLang by using speculative decoding. We use Xiaomi/MiMo-7B-RL model as example here (deepseek mtp usage refer to [deepseek doc](../basic_usage/deepseek.md#multi-token-prediction))"
   ]
  },
  {
   "cell_type": "code",
   "execution_count": 14,
   "metadata": {
    "execution": {
     "iopub.execute_input": "2025-10-02T21:40:52.422768Z",
     "iopub.status.busy": "2025-10-02T21:40:52.422597Z",
     "iopub.status.idle": "2025-10-02T21:41:41.538817Z",
     "shell.execute_reply": "2025-10-02T21:41:41.538364Z"
    }
   },
   "outputs": [
    {
     "name": "stdout",
     "output_type": "stream",
     "text": [
      "/usr/local/lib/python3.10/dist-packages/torch/cuda/__init__.py:63: FutureWarning: The pynvml package is deprecated. Please install nvidia-ml-py instead. If you did not install pynvml directly, please report this to the maintainers of the package that installed pynvml for you.\n",
      "  import pynvml  # type: ignore[import]\n"
     ]
    },
    {
     "name": "stdout",
     "output_type": "stream",
     "text": [
      "WARNING:sglang.srt.server_args:Overlap scheduler is disabled because of using eagle speculative decoding.\n",
      "WARNING:sglang.srt.server_args:\u001b[33m\n",
      "########################################################################\n",
      "# For contributors and developers:                                    #\n",
      "# Please move environment variable definitions to sglang.srt.environ  #\n",
      "# using the following pattern:                                        #\n",
      "#     SGLANG_XXX = EnvBool(False)                                     #\n",
      "#                                                                     #\n",
      "########################################################################\n",
      "\u001b[0m\n",
      "`torch_dtype` is deprecated! Use `dtype` instead!\n",
      "[2025-10-02 21:41:10] `torch_dtype` is deprecated! Use `dtype` instead!\n"
     ]
    },
    {
     "name": "stdout",
     "output_type": "stream",
     "text": [
      "/usr/local/lib/python3.10/dist-packages/torch/cuda/__init__.py:63: FutureWarning: The pynvml package is deprecated. Please install nvidia-ml-py instead. If you did not install pynvml directly, please report this to the maintainers of the package that installed pynvml for you.\n",
      "  import pynvml  # type: ignore[import]\n",
      "/usr/local/lib/python3.10/dist-packages/torch/cuda/__init__.py:63: FutureWarning: The pynvml package is deprecated. Please install nvidia-ml-py instead. If you did not install pynvml directly, please report this to the maintainers of the package that installed pynvml for you.\n",
      "  import pynvml  # type: ignore[import]\n"
     ]
    },
    {
     "name": "stdout",
     "output_type": "stream",
     "text": [
      "`torch_dtype` is deprecated! Use `dtype` instead!\n",
      "[2025-10-02 21:41:20] `torch_dtype` is deprecated! Use `dtype` instead!\n"
     ]
    },
    {
     "name": "stdout",
     "output_type": "stream",
     "text": [
      "[Gloo] Rank 0 is connected to 0 peer ranks. Expected number of connected peer ranks is : 0\n",
      "[Gloo] Rank 0 is connected to 0 peer ranks. Expected number of connected peer ranks is : 0\n",
      "[Gloo] Rank 0 is connected to 0 peer ranks. Expected number of connected peer ranks is : 0\n",
      "[Gloo] Rank 0 is connected to 0 peer ranks. Expected number of connected peer ranks is : 0\n",
      "[2025-10-02 21:41:22] MOE_RUNNER_BACKEND is not initialized, using triton backend\n"
     ]
    },
    {
     "name": "stdout",
     "output_type": "stream",
     "text": [
      "\r",
      "Loading safetensors checkpoint shards:   0% Completed | 0/4 [00:00<?, ?it/s]\n"
     ]
    },
    {
     "name": "stdout",
     "output_type": "stream",
     "text": [
      "\r",
      "Loading safetensors checkpoint shards:  25% Completed | 1/4 [00:00<00:02,  1.33it/s]\n"
     ]
    },
    {
     "name": "stdout",
     "output_type": "stream",
     "text": [
      "\r",
      "Loading safetensors checkpoint shards:  50% Completed | 2/4 [00:01<00:01,  1.18it/s]\n"
     ]
    },
    {
     "name": "stdout",
     "output_type": "stream",
     "text": [
      "\r",
      "Loading safetensors checkpoint shards:  75% Completed | 3/4 [00:02<00:00,  1.17it/s]\n"
     ]
    },
    {
     "name": "stdout",
     "output_type": "stream",
     "text": [
      "\r",
      "Loading safetensors checkpoint shards: 100% Completed | 4/4 [00:03<00:00,  1.23it/s]\n",
      "\r",
      "Loading safetensors checkpoint shards: 100% Completed | 4/4 [00:03<00:00,  1.22it/s]\n",
      "\n"
     ]
    },
    {
     "name": "stdout",
     "output_type": "stream",
     "text": [
      "\r",
      "  0%|          | 0/4 [00:00<?, ?it/s]\r",
      "Capturing batches (bs=4 avail_mem=60.52 GB):   0%|          | 0/4 [00:00<?, ?it/s]"
     ]
    },
    {
     "name": "stdout",
     "output_type": "stream",
     "text": [
      "\r",
      "Capturing batches (bs=4 avail_mem=60.52 GB):  25%|██▌       | 1/4 [00:00<00:02,  1.41it/s]\r",
      "Capturing batches (bs=3 avail_mem=60.38 GB):  25%|██▌       | 1/4 [00:00<00:02,  1.41it/s]\r",
      "Capturing batches (bs=2 avail_mem=60.31 GB):  25%|██▌       | 1/4 [00:00<00:02,  1.41it/s]\r",
      "Capturing batches (bs=2 avail_mem=60.31 GB):  75%|███████▌  | 3/4 [00:00<00:00,  4.22it/s]\r",
      "Capturing batches (bs=1 avail_mem=60.22 GB):  75%|███████▌  | 3/4 [00:00<00:00,  4.22it/s]"
     ]
    },
    {
     "name": "stdout",
     "output_type": "stream",
     "text": [
      "\r",
      "Capturing batches (bs=1 avail_mem=60.22 GB): 100%|██████████| 4/4 [00:00<00:00,  4.27it/s]\n"
     ]
    },
    {
     "name": "stdout",
     "output_type": "stream",
     "text": [
      "\r",
      "Loading safetensors checkpoint shards:   0% Completed | 0/4 [00:00<?, ?it/s]\n"
     ]
    },
    {
     "name": "stdout",
     "output_type": "stream",
     "text": [
      "\r",
      "Loading safetensors checkpoint shards:  25% Completed | 1/4 [00:00<00:00,  4.40it/s]\n"
     ]
    },
    {
     "name": "stdout",
     "output_type": "stream",
     "text": [
      "\r",
      "Loading safetensors checkpoint shards: 100% Completed | 4/4 [00:00<00:00,  7.34it/s]\n",
      "\r",
      "Loading safetensors checkpoint shards: 100% Completed | 4/4 [00:00<00:00,  6.99it/s]\n",
      "\n"
     ]
    },
    {
     "name": "stdout",
     "output_type": "stream",
     "text": [
      "\r",
      "  0%|          | 0/4 [00:00<?, ?it/s]\r",
      "Capturing batches (bs=4 avail_mem=59.43 GB):   0%|          | 0/4 [00:00<?, ?it/s]"
     ]
    },
    {
     "name": "stdout",
     "output_type": "stream",
     "text": [
      "\r",
      "Capturing batches (bs=4 avail_mem=59.43 GB):  25%|██▌       | 1/4 [00:01<00:03,  1.32s/it]\r",
      "Capturing batches (bs=3 avail_mem=58.94 GB):  25%|██▌       | 1/4 [00:01<00:03,  1.32s/it]"
     ]
    },
    {
     "name": "stdout",
     "output_type": "stream",
     "text": [
      "\r",
      "Capturing batches (bs=3 avail_mem=58.94 GB):  50%|█████     | 2/4 [00:01<00:01,  1.12it/s]\r",
      "Capturing batches (bs=2 avail_mem=58.94 GB):  50%|█████     | 2/4 [00:01<00:01,  1.12it/s]"
     ]
    },
    {
     "name": "stdout",
     "output_type": "stream",
     "text": [
      "\r",
      "Capturing batches (bs=2 avail_mem=58.94 GB):  75%|███████▌  | 3/4 [00:02<00:00,  1.51it/s]\r",
      "Capturing batches (bs=1 avail_mem=58.94 GB):  75%|███████▌  | 3/4 [00:02<00:00,  1.51it/s]"
     ]
    },
    {
     "name": "stdout",
     "output_type": "stream",
     "text": [
      "\r",
      "Capturing batches (bs=1 avail_mem=58.94 GB): 100%|██████████| 4/4 [00:02<00:00,  1.54it/s]\r",
      "Capturing batches (bs=1 avail_mem=58.94 GB): 100%|██████████| 4/4 [00:02<00:00,  1.36it/s]\n"
     ]
    },
    {
     "name": "stdout",
     "output_type": "stream",
     "text": [
      "\r",
      "  0%|          | 0/4 [00:00<?, ?it/s]\r",
      "Capturing batches (bs=4 avail_mem=51.59 GB):   0%|          | 0/4 [00:00<?, ?it/s]\r",
      "Capturing batches (bs=3 avail_mem=51.52 GB):   0%|          | 0/4 [00:00<?, ?it/s]\r",
      "Capturing batches (bs=2 avail_mem=51.52 GB):   0%|          | 0/4 [00:00<?, ?it/s]\r",
      "Capturing batches (bs=1 avail_mem=51.50 GB):   0%|          | 0/4 [00:00<?, ?it/s]\r",
      "Capturing batches (bs=1 avail_mem=51.50 GB): 100%|██████████| 4/4 [00:00<00:00, 36.67it/s]\r",
      "Capturing batches (bs=1 avail_mem=51.50 GB): 100%|██████████| 4/4 [00:00<00:00, 36.61it/s]\n"
     ]
    },
    {
     "data": {
      "text/html": [
       "<strong style='color: #00008B;'><br><br>                    NOTE: Typically, the server runs in a separate terminal.<br>                    In this notebook, we run the server and notebook code together, so their outputs are combined.<br>                    To improve clarity, the server logs are displayed in the original black color, while the notebook outputs are highlighted in blue.<br>                    To reduce the log length, we set the log level to warning for the server, the default log level is info.<br>                    We are running those notebooks in a CI environment, so the throughput is not representative of the actual performance.<br>                    </strong>"
      ],
      "text/plain": [
       "<IPython.core.display.HTML object>"
      ]
     },
     "metadata": {},
     "output_type": "display_data"
    }
   ],
   "source": [
    "server_process, port = launch_server_cmd(\n",
    "    \"\"\"\n",
    "    python3 -m sglang.launch_server --model-path XiaomiMiMo/MiMo-7B-RL --host 0.0.0.0 --trust-remote-code \\\n",
    "    --speculative-algorithm EAGLE --speculative-num-steps 1 --speculative-eagle-topk 1 --speculative-num-draft-tokens 2 \\\n",
    "    --mem-fraction 0.5 --log-level warning\n",
    "\"\"\"\n",
    ")\n",
    "\n",
    "wait_for_server(f\"http://localhost:{port}\")"
   ]
  },
  {
   "cell_type": "code",
   "execution_count": 15,
   "metadata": {
    "execution": {
     "iopub.execute_input": "2025-10-02T21:41:41.540422Z",
     "iopub.status.busy": "2025-10-02T21:41:41.540252Z",
     "iopub.status.idle": "2025-10-02T21:41:43.448495Z",
     "shell.execute_reply": "2025-10-02T21:41:43.448048Z"
    }
   },
   "outputs": [
    {
     "name": "stdout",
     "output_type": "stream",
     "text": [
      "[2025-10-02 21:41:41] Tree speculative sampling kernel unavailable (likely AMD/HIP build). Falling back to greedy verification.\n",
      "[2025-10-02 21:41:41] Tree speculative sampling kernel unavailable (likely AMD/HIP build). Falling back to greedy verification.\n",
      "[2025-10-02 21:41:41] Tree speculative sampling kernel unavailable (likely AMD/HIP build). Falling back to greedy verification.\n",
      "[2025-10-02 21:41:41] Tree speculative sampling kernel unavailable (likely AMD/HIP build). Falling back to greedy verification.\n",
      "[2025-10-02 21:41:41] Tree speculative sampling kernel unavailable (likely AMD/HIP build). Falling back to greedy verification.\n",
      "[2025-10-02 21:41:41] Tree speculative sampling kernel unavailable (likely AMD/HIP build). Falling back to greedy verification.\n",
      "[2025-10-02 21:41:41] Tree speculative sampling kernel unavailable (likely AMD/HIP build). Falling back to greedy verification.\n",
      "[2025-10-02 21:41:41] Tree speculative sampling kernel unavailable (likely AMD/HIP build). Falling back to greedy verification.\n",
      "[2025-10-02 21:41:41] Tree speculative sampling kernel unavailable (likely AMD/HIP build). Falling back to greedy verification.\n",
      "[2025-10-02 21:41:41] Tree speculative sampling kernel unavailable (likely AMD/HIP build). Falling back to greedy verification.\n",
      "[2025-10-02 21:41:41] Tree speculative sampling kernel unavailable (likely AMD/HIP build). Falling back to greedy verification.\n",
      "[2025-10-02 21:41:41] Tree speculative sampling kernel unavailable (likely AMD/HIP build). Falling back to greedy verification.\n",
      "[2025-10-02 21:41:41] Tree speculative sampling kernel unavailable (likely AMD/HIP build). Falling back to greedy verification.\n",
      "[2025-10-02 21:41:41] Tree speculative sampling kernel unavailable (likely AMD/HIP build). Falling back to greedy verification.\n",
      "[2025-10-02 21:41:41] Tree speculative sampling kernel unavailable (likely AMD/HIP build). Falling back to greedy verification.\n",
      "[2025-10-02 21:41:41] Tree speculative sampling kernel unavailable (likely AMD/HIP build). Falling back to greedy verification.\n",
      "[2025-10-02 21:41:41] Tree speculative sampling kernel unavailable (likely AMD/HIP build). Falling back to greedy verification.\n",
      "[2025-10-02 21:41:41] Tree speculative sampling kernel unavailable (likely AMD/HIP build). Falling back to greedy verification.\n",
      "[2025-10-02 21:41:41] Tree speculative sampling kernel unavailable (likely AMD/HIP build). Falling back to greedy verification.\n",
      "[2025-10-02 21:41:41] Tree speculative sampling kernel unavailable (likely AMD/HIP build). Falling back to greedy verification.\n",
      "[2025-10-02 21:41:41] Tree speculative sampling kernel unavailable (likely AMD/HIP build). Falling back to greedy verification.\n"
     ]
    },
    {
     "name": "stdout",
     "output_type": "stream",
     "text": [
      "[2025-10-02 21:41:41] Tree speculative sampling kernel unavailable (likely AMD/HIP build). Falling back to greedy verification.\n",
      "[2025-10-02 21:41:41] Tree speculative sampling kernel unavailable (likely AMD/HIP build). Falling back to greedy verification.\n",
      "[2025-10-02 21:41:41] Tree speculative sampling kernel unavailable (likely AMD/HIP build). Falling back to greedy verification.\n",
      "[2025-10-02 21:41:41] Tree speculative sampling kernel unavailable (likely AMD/HIP build). Falling back to greedy verification.\n",
      "[2025-10-02 21:41:41] Tree speculative sampling kernel unavailable (likely AMD/HIP build). Falling back to greedy verification.\n",
      "[2025-10-02 21:41:41] Tree speculative sampling kernel unavailable (likely AMD/HIP build). Falling back to greedy verification.\n",
      "[2025-10-02 21:41:41] Tree speculative sampling kernel unavailable (likely AMD/HIP build). Falling back to greedy verification.\n",
      "[2025-10-02 21:41:41] Tree speculative sampling kernel unavailable (likely AMD/HIP build). Falling back to greedy verification.\n",
      "[2025-10-02 21:41:41] Tree speculative sampling kernel unavailable (likely AMD/HIP build). Falling back to greedy verification.\n",
      "[2025-10-02 21:41:41] Tree speculative sampling kernel unavailable (likely AMD/HIP build). Falling back to greedy verification.\n",
      "[2025-10-02 21:41:41] Tree speculative sampling kernel unavailable (likely AMD/HIP build). Falling back to greedy verification.\n",
      "[2025-10-02 21:41:41] Tree speculative sampling kernel unavailable (likely AMD/HIP build). Falling back to greedy verification.\n",
      "[2025-10-02 21:41:41] Tree speculative sampling kernel unavailable (likely AMD/HIP build). Falling back to greedy verification.\n",
      "[2025-10-02 21:41:41] Tree speculative sampling kernel unavailable (likely AMD/HIP build). Falling back to greedy verification.\n",
      "[2025-10-02 21:41:41] Tree speculative sampling kernel unavailable (likely AMD/HIP build). Falling back to greedy verification.\n",
      "[2025-10-02 21:41:41] Tree speculative sampling kernel unavailable (likely AMD/HIP build). Falling back to greedy verification.\n",
      "[2025-10-02 21:41:41] Tree speculative sampling kernel unavailable (likely AMD/HIP build). Falling back to greedy verification.\n",
      "[2025-10-02 21:41:41] Tree speculative sampling kernel unavailable (likely AMD/HIP build). Falling back to greedy verification.\n",
      "[2025-10-02 21:41:41] Tree speculative sampling kernel unavailable (likely AMD/HIP build). Falling back to greedy verification.\n",
      "[2025-10-02 21:41:41] Tree speculative sampling kernel unavailable (likely AMD/HIP build). Falling back to greedy verification.\n",
      "[2025-10-02 21:41:41] Tree speculative sampling kernel unavailable (likely AMD/HIP build). Falling back to greedy verification.\n"
     ]
    },
    {
     "name": "stdout",
     "output_type": "stream",
     "text": [
      "[2025-10-02 21:41:41] Tree speculative sampling kernel unavailable (likely AMD/HIP build). Falling back to greedy verification.\n",
      "[2025-10-02 21:41:41] Tree speculative sampling kernel unavailable (likely AMD/HIP build). Falling back to greedy verification.\n",
      "[2025-10-02 21:41:42] Tree speculative sampling kernel unavailable (likely AMD/HIP build). Falling back to greedy verification.\n",
      "[2025-10-02 21:41:42] Tree speculative sampling kernel unavailable (likely AMD/HIP build). Falling back to greedy verification.\n",
      "[2025-10-02 21:41:42] Tree speculative sampling kernel unavailable (likely AMD/HIP build). Falling back to greedy verification.\n",
      "[2025-10-02 21:41:42] Tree speculative sampling kernel unavailable (likely AMD/HIP build). Falling back to greedy verification.\n",
      "[2025-10-02 21:41:42] Tree speculative sampling kernel unavailable (likely AMD/HIP build). Falling back to greedy verification.\n",
      "[2025-10-02 21:41:42] Tree speculative sampling kernel unavailable (likely AMD/HIP build). Falling back to greedy verification.\n",
      "[2025-10-02 21:41:42] Tree speculative sampling kernel unavailable (likely AMD/HIP build). Falling back to greedy verification.\n",
      "[2025-10-02 21:41:42] Tree speculative sampling kernel unavailable (likely AMD/HIP build). Falling back to greedy verification.\n",
      "[2025-10-02 21:41:42] Tree speculative sampling kernel unavailable (likely AMD/HIP build). Falling back to greedy verification.\n",
      "[2025-10-02 21:41:42] Tree speculative sampling kernel unavailable (likely AMD/HIP build). Falling back to greedy verification.\n",
      "[2025-10-02 21:41:42] Tree speculative sampling kernel unavailable (likely AMD/HIP build). Falling back to greedy verification.\n",
      "[2025-10-02 21:41:42] Tree speculative sampling kernel unavailable (likely AMD/HIP build). Falling back to greedy verification.\n",
      "[2025-10-02 21:41:42] Tree speculative sampling kernel unavailable (likely AMD/HIP build). Falling back to greedy verification.\n",
      "[2025-10-02 21:41:42] Tree speculative sampling kernel unavailable (likely AMD/HIP build). Falling back to greedy verification.\n",
      "[2025-10-02 21:41:42] Tree speculative sampling kernel unavailable (likely AMD/HIP build). Falling back to greedy verification.\n",
      "[2025-10-02 21:41:42] Tree speculative sampling kernel unavailable (likely AMD/HIP build). Falling back to greedy verification.\n",
      "[2025-10-02 21:41:42] Tree speculative sampling kernel unavailable (likely AMD/HIP build). Falling back to greedy verification.\n",
      "[2025-10-02 21:41:42] Tree speculative sampling kernel unavailable (likely AMD/HIP build). Falling back to greedy verification.\n",
      "[2025-10-02 21:41:42] Tree speculative sampling kernel unavailable (likely AMD/HIP build). Falling back to greedy verification.\n"
     ]
    },
    {
     "name": "stdout",
     "output_type": "stream",
     "text": [
      "[2025-10-02 21:41:42] Tree speculative sampling kernel unavailable (likely AMD/HIP build). Falling back to greedy verification.\n",
      "[2025-10-02 21:41:42] Tree speculative sampling kernel unavailable (likely AMD/HIP build). Falling back to greedy verification.\n",
      "[2025-10-02 21:41:42] Tree speculative sampling kernel unavailable (likely AMD/HIP build). Falling back to greedy verification.\n",
      "[2025-10-02 21:41:42] Tree speculative sampling kernel unavailable (likely AMD/HIP build). Falling back to greedy verification.\n",
      "[2025-10-02 21:41:42] Tree speculative sampling kernel unavailable (likely AMD/HIP build). Falling back to greedy verification.\n",
      "[2025-10-02 21:41:42] Tree speculative sampling kernel unavailable (likely AMD/HIP build). Falling back to greedy verification.\n",
      "[2025-10-02 21:41:42] Tree speculative sampling kernel unavailable (likely AMD/HIP build). Falling back to greedy verification.\n",
      "[2025-10-02 21:41:42] Tree speculative sampling kernel unavailable (likely AMD/HIP build). Falling back to greedy verification.\n",
      "[2025-10-02 21:41:42] Tree speculative sampling kernel unavailable (likely AMD/HIP build). Falling back to greedy verification.\n",
      "[2025-10-02 21:41:42] Tree speculative sampling kernel unavailable (likely AMD/HIP build). Falling back to greedy verification.\n",
      "[2025-10-02 21:41:42] Tree speculative sampling kernel unavailable (likely AMD/HIP build). Falling back to greedy verification.\n",
      "[2025-10-02 21:41:42] Tree speculative sampling kernel unavailable (likely AMD/HIP build). Falling back to greedy verification.\n",
      "[2025-10-02 21:41:42] Tree speculative sampling kernel unavailable (likely AMD/HIP build). Falling back to greedy verification.\n",
      "[2025-10-02 21:41:42] Tree speculative sampling kernel unavailable (likely AMD/HIP build). Falling back to greedy verification.\n",
      "[2025-10-02 21:41:42] Tree speculative sampling kernel unavailable (likely AMD/HIP build). Falling back to greedy verification.\n",
      "[2025-10-02 21:41:42] Tree speculative sampling kernel unavailable (likely AMD/HIP build). Falling back to greedy verification.\n",
      "[2025-10-02 21:41:42] Tree speculative sampling kernel unavailable (likely AMD/HIP build). Falling back to greedy verification.\n",
      "[2025-10-02 21:41:42] Tree speculative sampling kernel unavailable (likely AMD/HIP build). Falling back to greedy verification.\n",
      "[2025-10-02 21:41:42] Tree speculative sampling kernel unavailable (likely AMD/HIP build). Falling back to greedy verification.\n",
      "[2025-10-02 21:41:42] Tree speculative sampling kernel unavailable (likely AMD/HIP build). Falling back to greedy verification.\n"
     ]
    },
    {
     "name": "stdout",
     "output_type": "stream",
     "text": [
      "[2025-10-02 21:41:42] Tree speculative sampling kernel unavailable (likely AMD/HIP build). Falling back to greedy verification.\n",
      "[2025-10-02 21:41:42] Tree speculative sampling kernel unavailable (likely AMD/HIP build). Falling back to greedy verification.\n",
      "[2025-10-02 21:41:42] Tree speculative sampling kernel unavailable (likely AMD/HIP build). Falling back to greedy verification.\n",
      "[2025-10-02 21:41:42] Tree speculative sampling kernel unavailable (likely AMD/HIP build). Falling back to greedy verification.\n",
      "[2025-10-02 21:41:42] Tree speculative sampling kernel unavailable (likely AMD/HIP build). Falling back to greedy verification.\n",
      "[2025-10-02 21:41:42] Tree speculative sampling kernel unavailable (likely AMD/HIP build). Falling back to greedy verification.\n",
      "[2025-10-02 21:41:42] Tree speculative sampling kernel unavailable (likely AMD/HIP build). Falling back to greedy verification.\n",
      "[2025-10-02 21:41:42] Tree speculative sampling kernel unavailable (likely AMD/HIP build). Falling back to greedy verification.\n",
      "[2025-10-02 21:41:42] Tree speculative sampling kernel unavailable (likely AMD/HIP build). Falling back to greedy verification.\n",
      "[2025-10-02 21:41:42] Tree speculative sampling kernel unavailable (likely AMD/HIP build). Falling back to greedy verification.\n",
      "[2025-10-02 21:41:42] Tree speculative sampling kernel unavailable (likely AMD/HIP build). Falling back to greedy verification.\n",
      "[2025-10-02 21:41:42] Tree speculative sampling kernel unavailable (likely AMD/HIP build). Falling back to greedy verification.\n",
      "[2025-10-02 21:41:42] Tree speculative sampling kernel unavailable (likely AMD/HIP build). Falling back to greedy verification.\n",
      "[2025-10-02 21:41:42] Tree speculative sampling kernel unavailable (likely AMD/HIP build). Falling back to greedy verification.\n",
      "[2025-10-02 21:41:42] Tree speculative sampling kernel unavailable (likely AMD/HIP build). Falling back to greedy verification.\n",
      "[2025-10-02 21:41:42] Tree speculative sampling kernel unavailable (likely AMD/HIP build). Falling back to greedy verification.\n",
      "[2025-10-02 21:41:42] Tree speculative sampling kernel unavailable (likely AMD/HIP build). Falling back to greedy verification.\n",
      "[2025-10-02 21:41:42] Tree speculative sampling kernel unavailable (likely AMD/HIP build). Falling back to greedy verification.\n",
      "[2025-10-02 21:41:42] Tree speculative sampling kernel unavailable (likely AMD/HIP build). Falling back to greedy verification.\n",
      "[2025-10-02 21:41:42] Tree speculative sampling kernel unavailable (likely AMD/HIP build). Falling back to greedy verification.\n",
      "[2025-10-02 21:41:42] Tree speculative sampling kernel unavailable (likely AMD/HIP build). Falling back to greedy verification.\n"
     ]
    },
    {
     "name": "stdout",
     "output_type": "stream",
     "text": [
      "[2025-10-02 21:41:42] Tree speculative sampling kernel unavailable (likely AMD/HIP build). Falling back to greedy verification.\n",
      "[2025-10-02 21:41:42] Tree speculative sampling kernel unavailable (likely AMD/HIP build). Falling back to greedy verification.\n",
      "[2025-10-02 21:41:42] Tree speculative sampling kernel unavailable (likely AMD/HIP build). Falling back to greedy verification.\n",
      "[2025-10-02 21:41:42] Tree speculative sampling kernel unavailable (likely AMD/HIP build). Falling back to greedy verification.\n",
      "[2025-10-02 21:41:42] Tree speculative sampling kernel unavailable (likely AMD/HIP build). Falling back to greedy verification.\n",
      "[2025-10-02 21:41:42] Tree speculative sampling kernel unavailable (likely AMD/HIP build). Falling back to greedy verification.\n",
      "[2025-10-02 21:41:42] Tree speculative sampling kernel unavailable (likely AMD/HIP build). Falling back to greedy verification.\n",
      "[2025-10-02 21:41:42] Tree speculative sampling kernel unavailable (likely AMD/HIP build). Falling back to greedy verification.\n",
      "[2025-10-02 21:41:42] Tree speculative sampling kernel unavailable (likely AMD/HIP build). Falling back to greedy verification.\n",
      "[2025-10-02 21:41:42] Tree speculative sampling kernel unavailable (likely AMD/HIP build). Falling back to greedy verification.\n",
      "[2025-10-02 21:41:42] Tree speculative sampling kernel unavailable (likely AMD/HIP build). Falling back to greedy verification.\n",
      "[2025-10-02 21:41:42] Tree speculative sampling kernel unavailable (likely AMD/HIP build). Falling back to greedy verification.\n",
      "[2025-10-02 21:41:42] Tree speculative sampling kernel unavailable (likely AMD/HIP build). Falling back to greedy verification.\n",
      "[2025-10-02 21:41:42] Tree speculative sampling kernel unavailable (likely AMD/HIP build). Falling back to greedy verification.\n",
      "[2025-10-02 21:41:42] Tree speculative sampling kernel unavailable (likely AMD/HIP build). Falling back to greedy verification.\n",
      "[2025-10-02 21:41:42] Tree speculative sampling kernel unavailable (likely AMD/HIP build). Falling back to greedy verification.\n",
      "[2025-10-02 21:41:42] Tree speculative sampling kernel unavailable (likely AMD/HIP build). Falling back to greedy verification.\n",
      "[2025-10-02 21:41:42] Tree speculative sampling kernel unavailable (likely AMD/HIP build). Falling back to greedy verification.\n",
      "[2025-10-02 21:41:42] Tree speculative sampling kernel unavailable (likely AMD/HIP build). Falling back to greedy verification.\n",
      "[2025-10-02 21:41:42] Tree speculative sampling kernel unavailable (likely AMD/HIP build). Falling back to greedy verification.\n"
     ]
    },
    {
     "name": "stdout",
     "output_type": "stream",
     "text": [
      "[2025-10-02 21:41:42] Tree speculative sampling kernel unavailable (likely AMD/HIP build). Falling back to greedy verification.\n",
      "[2025-10-02 21:41:42] Tree speculative sampling kernel unavailable (likely AMD/HIP build). Falling back to greedy verification.\n",
      "[2025-10-02 21:41:42] Tree speculative sampling kernel unavailable (likely AMD/HIP build). Falling back to greedy verification.\n",
      "[2025-10-02 21:41:42] Tree speculative sampling kernel unavailable (likely AMD/HIP build). Falling back to greedy verification.\n",
      "[2025-10-02 21:41:42] Tree speculative sampling kernel unavailable (likely AMD/HIP build). Falling back to greedy verification.\n",
      "[2025-10-02 21:41:42] Tree speculative sampling kernel unavailable (likely AMD/HIP build). Falling back to greedy verification.\n",
      "[2025-10-02 21:41:42] Tree speculative sampling kernel unavailable (likely AMD/HIP build). Falling back to greedy verification.\n",
      "[2025-10-02 21:41:42] Tree speculative sampling kernel unavailable (likely AMD/HIP build). Falling back to greedy verification.\n",
      "[2025-10-02 21:41:42] Tree speculative sampling kernel unavailable (likely AMD/HIP build). Falling back to greedy verification.\n",
      "[2025-10-02 21:41:42] Tree speculative sampling kernel unavailable (likely AMD/HIP build). Falling back to greedy verification.\n",
      "[2025-10-02 21:41:42] Tree speculative sampling kernel unavailable (likely AMD/HIP build). Falling back to greedy verification.\n",
      "[2025-10-02 21:41:42] Tree speculative sampling kernel unavailable (likely AMD/HIP build). Falling back to greedy verification.\n",
      "[2025-10-02 21:41:42] Tree speculative sampling kernel unavailable (likely AMD/HIP build). Falling back to greedy verification.\n",
      "[2025-10-02 21:41:42] Tree speculative sampling kernel unavailable (likely AMD/HIP build). Falling back to greedy verification.\n",
      "[2025-10-02 21:41:42] Tree speculative sampling kernel unavailable (likely AMD/HIP build). Falling back to greedy verification.\n",
      "[2025-10-02 21:41:43] Tree speculative sampling kernel unavailable (likely AMD/HIP build). Falling back to greedy verification.\n"
     ]
    },
    {
     "name": "stdout",
     "output_type": "stream",
     "text": [
      "[2025-10-02 21:41:43] Tree speculative sampling kernel unavailable (likely AMD/HIP build). Falling back to greedy verification.\n",
      "[2025-10-02 21:41:43] Tree speculative sampling kernel unavailable (likely AMD/HIP build). Falling back to greedy verification.\n",
      "[2025-10-02 21:41:43] Tree speculative sampling kernel unavailable (likely AMD/HIP build). Falling back to greedy verification.\n",
      "[2025-10-02 21:41:43] Tree speculative sampling kernel unavailable (likely AMD/HIP build). Falling back to greedy verification.\n",
      "[2025-10-02 21:41:43] Tree speculative sampling kernel unavailable (likely AMD/HIP build). Falling back to greedy verification.\n",
      "[2025-10-02 21:41:43] Tree speculative sampling kernel unavailable (likely AMD/HIP build). Falling back to greedy verification.\n",
      "[2025-10-02 21:41:43] Tree speculative sampling kernel unavailable (likely AMD/HIP build). Falling back to greedy verification.\n",
      "[2025-10-02 21:41:43] Tree speculative sampling kernel unavailable (likely AMD/HIP build). Falling back to greedy verification.\n",
      "[2025-10-02 21:41:43] Tree speculative sampling kernel unavailable (likely AMD/HIP build). Falling back to greedy verification.\n",
      "[2025-10-02 21:41:43] Tree speculative sampling kernel unavailable (likely AMD/HIP build). Falling back to greedy verification.\n",
      "[2025-10-02 21:41:43] Tree speculative sampling kernel unavailable (likely AMD/HIP build). Falling back to greedy verification.\n",
      "[2025-10-02 21:41:43] Tree speculative sampling kernel unavailable (likely AMD/HIP build). Falling back to greedy verification.\n",
      "[2025-10-02 21:41:43] Tree speculative sampling kernel unavailable (likely AMD/HIP build). Falling back to greedy verification.\n",
      "[2025-10-02 21:41:43] Tree speculative sampling kernel unavailable (likely AMD/HIP build). Falling back to greedy verification.\n",
      "[2025-10-02 21:41:43] Tree speculative sampling kernel unavailable (likely AMD/HIP build). Falling back to greedy verification.\n",
      "[2025-10-02 21:41:43] Tree speculative sampling kernel unavailable (likely AMD/HIP build). Falling back to greedy verification.\n",
      "[2025-10-02 21:41:43] Tree speculative sampling kernel unavailable (likely AMD/HIP build). Falling back to greedy verification.\n",
      "[2025-10-02 21:41:43] Tree speculative sampling kernel unavailable (likely AMD/HIP build). Falling back to greedy verification.\n",
      "[2025-10-02 21:41:43] Tree speculative sampling kernel unavailable (likely AMD/HIP build). Falling back to greedy verification.\n",
      "[2025-10-02 21:41:43] Tree speculative sampling kernel unavailable (likely AMD/HIP build). Falling back to greedy verification.\n"
     ]
    },
    {
     "name": "stdout",
     "output_type": "stream",
     "text": [
      "[2025-10-02 21:41:43] Tree speculative sampling kernel unavailable (likely AMD/HIP build). Falling back to greedy verification.\n",
      "[2025-10-02 21:41:43] Tree speculative sampling kernel unavailable (likely AMD/HIP build). Falling back to greedy verification.\n",
      "[2025-10-02 21:41:43] Tree speculative sampling kernel unavailable (likely AMD/HIP build). Falling back to greedy verification.\n",
      "[2025-10-02 21:41:43] Tree speculative sampling kernel unavailable (likely AMD/HIP build). Falling back to greedy verification.\n",
      "[2025-10-02 21:41:43] Tree speculative sampling kernel unavailable (likely AMD/HIP build). Falling back to greedy verification.\n",
      "[2025-10-02 21:41:43] Tree speculative sampling kernel unavailable (likely AMD/HIP build). Falling back to greedy verification.\n",
      "[2025-10-02 21:41:43] Tree speculative sampling kernel unavailable (likely AMD/HIP build). Falling back to greedy verification.\n",
      "[2025-10-02 21:41:43] Tree speculative sampling kernel unavailable (likely AMD/HIP build). Falling back to greedy verification.\n",
      "[2025-10-02 21:41:43] Tree speculative sampling kernel unavailable (likely AMD/HIP build). Falling back to greedy verification.\n",
      "[2025-10-02 21:41:43] Tree speculative sampling kernel unavailable (likely AMD/HIP build). Falling back to greedy verification.\n",
      "[2025-10-02 21:41:43] Tree speculative sampling kernel unavailable (likely AMD/HIP build). Falling back to greedy verification.\n",
      "[2025-10-02 21:41:43] Tree speculative sampling kernel unavailable (likely AMD/HIP build). Falling back to greedy verification.\n",
      "[2025-10-02 21:41:43] Tree speculative sampling kernel unavailable (likely AMD/HIP build). Falling back to greedy verification.\n",
      "[2025-10-02 21:41:43] Tree speculative sampling kernel unavailable (likely AMD/HIP build). Falling back to greedy verification.\n",
      "[2025-10-02 21:41:43] Tree speculative sampling kernel unavailable (likely AMD/HIP build). Falling back to greedy verification.\n",
      "[2025-10-02 21:41:43] Tree speculative sampling kernel unavailable (likely AMD/HIP build). Falling back to greedy verification.\n",
      "[2025-10-02 21:41:43] Tree speculative sampling kernel unavailable (likely AMD/HIP build). Falling back to greedy verification.\n",
      "[2025-10-02 21:41:43] Tree speculative sampling kernel unavailable (likely AMD/HIP build). Falling back to greedy verification.\n",
      "[2025-10-02 21:41:43] Tree speculative sampling kernel unavailable (likely AMD/HIP build). Falling back to greedy verification.\n",
      "[2025-10-02 21:41:43] Tree speculative sampling kernel unavailable (likely AMD/HIP build). Falling back to greedy verification.\n",
      "[2025-10-02 21:41:43] Tree speculative sampling kernel unavailable (likely AMD/HIP build). Falling back to greedy verification.\n"
     ]
    },
    {
     "name": "stdout",
     "output_type": "stream",
     "text": [
      "[2025-10-02 21:41:43] Tree speculative sampling kernel unavailable (likely AMD/HIP build). Falling back to greedy verification.\n",
      "[2025-10-02 21:41:43] Tree speculative sampling kernel unavailable (likely AMD/HIP build). Falling back to greedy verification.\n",
      "[2025-10-02 21:41:43] Tree speculative sampling kernel unavailable (likely AMD/HIP build). Falling back to greedy verification.\n"
     ]
    },
    {
     "data": {
      "text/html": [
       "<strong style='color: #00008B;'>{'id': '2491bc38c2c94ee6a4113b2011264c93', 'object': 'chat.completion', 'created': 1759441303, 'model': 'XiaomiMiMo/MiMo-7B-RL', 'choices': [{'index': 0, 'message': {'role': 'assistant', 'content': '<think>\\nOkay, so the user is asking, \"What is the capital of France?\" Let me start by recalling what I know about France. France is a country in Europe, right? I remember that Paris is a major city there. But wait, is Paris actually the capital? Let me think. Yes, I believe Paris is the capital city of France. But maybe I should double-check to be sure. Sometimes people can confuse capitals with other major cities. For example, maybe someone might think London is the capital of the UK, but that\\'s not the case. Similarly, Paris has the Eiffel Tower, which is a famous landmark, so that\\'s a good indicator. Also, in news stories, when they talk about French politics, they often mention Paris as where the government is located. There\\'s also the French Senate and the President\\'s residence, the Elysée Palace, which is in Paris. So putting all that together, I can be confident that the capital of France is Paris. I don\\'t think there\\'s any other city that serves as the capital. Maybe some regions within France have their own capitals, but the national capital is definitely Paris. Yeah, that makes sense. So the answer should be straightforward: the capital of France is Paris.\\n</think>\\n\\nThe capital of France is **Paris**. This vibrant city is home to iconic landmarks like the Eiffel Tower, Louvre Museum, and the Champs-Élysées. It serves as the political, cultural, and economic heart of the country. 🇫🇷', 'reasoning_content': None, 'tool_calls': None}, 'logprobs': None, 'finish_reason': 'stop', 'matched_stop': 151645}], 'usage': {'prompt_tokens': 26, 'total_tokens': 343, 'completion_tokens': 317, 'prompt_tokens_details': None, 'reasoning_tokens': 0}, 'metadata': {'weight_version': 'default'}}</strong>"
      ],
      "text/plain": [
       "<IPython.core.display.HTML object>"
      ]
     },
     "metadata": {},
     "output_type": "display_data"
    }
   ],
   "source": [
    "import requests\n",
    "\n",
    "url = f\"http://localhost:{port}/v1/chat/completions\"\n",
    "\n",
    "data = {\n",
    "    \"model\": \"XiaomiMiMo/MiMo-7B-RL\",\n",
    "    \"messages\": [{\"role\": \"user\", \"content\": \"What is the capital of France?\"}],\n",
    "}\n",
    "\n",
    "response = requests.post(url, json=data)\n",
    "print_highlight(response.json())"
   ]
  },
  {
   "cell_type": "code",
   "execution_count": 16,
   "metadata": {
    "execution": {
     "iopub.execute_input": "2025-10-02T21:41:43.449957Z",
     "iopub.status.busy": "2025-10-02T21:41:43.449813Z",
     "iopub.status.idle": "2025-10-02T21:41:43.509231Z",
     "shell.execute_reply": "2025-10-02T21:41:43.508708Z"
    }
   },
   "outputs": [],
   "source": [
    "terminate_process(server_process)"
   ]
  },
  {
   "cell_type": "markdown",
   "metadata": {},
   "source": [
    "## References\n",
    "\n",
    "EAGLE process is as follows:\n",
    "\n",
    "- Within EAGLE the draft model predicts the next feature vector, i.e. the last hidden state of the original LLM, using the feature sequence $(f_1, ..., f_k)$ and the token sequence $(t_2, ..., t_{k+1})$. \n",
    "- The next token is then sampled from $p_{k+2}=\\text{LMHead}(f_{k+1})$. Afterwards, the two sequences are extended in a tree style—branching out multiple potential continuations, with the branching factor per step controlled by the `speculative_eagle_topk` parameter—to ensure a more coherent connection of context, and are given as input again.\n",
    "- EAGLE-2 additionally uses the draft model to evaluate how probable certain branches in the draft tree are, dynamically stopping the expansion of unlikely branches. After the expansion phase, reranking is employed to select only the top `speculative_num_draft_tokens` final nodes as draft tokens.\n",
    "- EAGLE-3 removes the feature prediction objective, incorporates low and mid-layer features, and is trained in an on-policy manner.\n",
    "\n",
    "This enhances drafting accuracy by operating on the features instead of tokens for more regular inputs and passing the tokens from the next timestep additionally to minimize randomness effects from sampling. Furthermore the dynamic adjustment of the draft tree and selection of reranked final nodes increases acceptance rate of draft tokens further. For more details see [EAGLE-2](https://arxiv.org/abs/2406.16858) and [EAGLE-3](https://arxiv.org/abs/2503.01840) paper.\n",
    "\n",
    "\n",
    "For guidance how to train your own EAGLE model please see the [EAGLE repo](https://github.com/SafeAILab/EAGLE/tree/main?tab=readme-ov-file#train)."
   ]
  }
 ],
 "metadata": {
  "language_info": {
   "codemirror_mode": {
    "name": "ipython",
    "version": 3
   },
   "file_extension": ".py",
   "mimetype": "text/x-python",
   "name": "python",
   "nbconvert_exporter": "python",
   "pygments_lexer": "ipython3",
   "version": "3.10.12"
  }
 },
 "nbformat": 4,
 "nbformat_minor": 2
}
