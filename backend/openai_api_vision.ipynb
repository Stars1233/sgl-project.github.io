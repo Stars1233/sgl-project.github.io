{
 "cells": [
  {
   "cell_type": "markdown",
   "metadata": {},
   "source": [
    "# OpenAI APIs - Vision\n",
    "\n",
    "SGLang provides OpenAI-compatible APIs to enable a smooth transition from OpenAI services to self-hosted local models.\n",
    "A complete reference for the API is available in the [OpenAI API Reference](https://platform.openai.com/docs/guides/vision).\n",
    "This tutorial covers the vision APIs for vision language models.\n",
    "\n",
    "SGLang supports various vision language models such as Llama 3.2, LLaVA-OneVision, Qwen2.5-VL, Gemma3 and [more](https://docs.sglang.ai/references/supported_models): \n",
    "- [meta-llama/Llama-3.2-11B-Vision-Instruct](https://huggingface.co/meta-llama/Llama-3.2-11B-Vision-Instruct)  \n",
    "- [lmms-lab/llava-onevision-qwen2-72b-ov-chat](https://huggingface.co/lmms-lab/llava-onevision-qwen2-72b-ov-chat)  \n",
    "- [Qwen/Qwen2.5-VL-7B-Instruct](https://huggingface.co/Qwen/Qwen2.5-VL-7B-Instruct)\n",
    "- [google/gemma-3-4b-it](https://huggingface.co/google/gemma-3-4b-it)\n",
    "- [openbmb/MiniCPM-V](https://huggingface.co/openbmb/MiniCPM-V)\n",
    "- [deepseek-ai/deepseek-vl2](https://huggingface.co/deepseek-ai/deepseek-vl2)\n",
    "\n",
    "As an alternative to the OpenAI API, you can also use the [SGLang offline engine](https://github.com/sgl-project/sglang/blob/main/examples/runtime/engine/offline_batch_inference_vlm.py)."
   ]
  },
  {
   "cell_type": "markdown",
   "metadata": {},
   "source": [
    "## Launch A Server\n",
    "\n",
    "Launch the server in your terminal and wait for it to initialize.\n",
    "\n",
    "**Remember to add** `--chat-template llama_3_vision` **to specify the [vision chat template](https://docs.sglang.ai/backend/openai_api_vision.html#Chat-Template), otherwise, the server will only support text (images won’t be passed in), which can lead to degraded performance.**\n",
    "\n",
    "We need to specify `--chat-template` for vision language models because the chat template provided in Hugging Face tokenizer only supports text."
   ]
  },
  {
   "cell_type": "code",
   "execution_count": 1,
   "metadata": {
    "execution": {
     "iopub.execute_input": "2025-03-26T17:47:34.453693Z",
     "iopub.status.busy": "2025-03-26T17:47:34.453548Z",
     "iopub.status.idle": "2025-03-26T17:48:38.971541Z",
     "shell.execute_reply": "2025-03-26T17:48:38.970957Z"
    }
   },
   "outputs": [
    {
     "name": "stdout",
     "output_type": "stream",
     "text": [
      "INFO 03-26 17:47:57 __init__.py:190] Automatically detected platform cuda.\n"
     ]
    },
    {
     "name": "stdout",
     "output_type": "stream",
     "text": [
      "[2025-03-26 17:48:00] server_args=ServerArgs(model_path='meta-llama/Llama-3.2-11B-Vision-Instruct', tokenizer_path='meta-llama/Llama-3.2-11B-Vision-Instruct', tokenizer_mode='auto', skip_tokenizer_init=False, load_format='auto', trust_remote_code=False, dtype='auto', kv_cache_dtype='auto', quantization=None, quantization_param_path=None, context_length=None, device='cuda', served_model_name='meta-llama/Llama-3.2-11B-Vision-Instruct', chat_template='llama_3_vision', completion_template=None, is_embedding=False, revision=None, host='127.0.0.1', port=31027, mem_fraction_static=0.88, max_running_requests=200, max_total_tokens=20480, chunked_prefill_size=8192, max_prefill_tokens=16384, schedule_policy='fcfs', schedule_conservativeness=1.0, cpu_offload_gb=0, page_size=1, tp_size=1, stream_interval=1, stream_output=False, random_seed=618964215, constrained_json_whitespace_pattern=None, watchdog_timeout=300, dist_timeout=None, download_dir=None, base_gpu_id=0, gpu_id_step=1, log_level='info', log_level_http=None, log_requests=False, log_requests_level=0, show_time_cost=False, enable_metrics=False, decode_log_interval=40, api_key=None, file_storage_path='sglang_storage', enable_cache_report=False, reasoning_parser=None, dp_size=1, load_balance_method='round_robin', ep_size=1, dist_init_addr=None, nnodes=1, node_rank=0, json_model_override_args='{}', lora_paths=None, max_loras_per_batch=8, lora_backend='triton', attention_backend='flashinfer', sampling_backend='flashinfer', grammar_backend='xgrammar', speculative_algorithm=None, speculative_draft_model_path=None, speculative_num_steps=5, speculative_eagle_topk=4, speculative_num_draft_tokens=8, speculative_accept_threshold_single=1.0, speculative_accept_threshold_acc=1.0, speculative_token_map=None, enable_double_sparsity=False, ds_channel_config_path=None, ds_heavy_channel_num=32, ds_heavy_token_num=256, ds_heavy_channel_type='qk', ds_sparse_decode_threshold=4096, disable_radix_cache=False, disable_cuda_graph=True, disable_cuda_graph_padding=False, enable_nccl_nvls=False, disable_outlines_disk_cache=False, disable_custom_all_reduce=False, disable_mla=False, disable_overlap_schedule=False, enable_mixed_chunk=False, enable_dp_attention=False, enable_ep_moe=False, enable_deepep_moe=False, enable_torch_compile=False, torch_compile_max_bs=32, cuda_graph_max_bs=160, cuda_graph_bs=None, torchao_config='', enable_nan_detection=False, enable_p2p_check=False, triton_attention_reduce_in_fp32=False, triton_attention_num_kv_splits=8, num_continuous_decode_steps=1, delete_ckpt_after_loading=False, enable_memory_saver=False, allow_auto_truncate=False, enable_custom_logit_processor=False, tool_call_parser=None, enable_hierarchical_cache=False, hicache_ratio=2.0, enable_flashinfer_mla=False, enable_flashmla=False, flashinfer_mla_disable_ragged=False, warmups=None, debug_tensor_dump_output_folder=None, debug_tensor_dump_input_file=None, debug_tensor_dump_inject=False, disaggregation_mode='null', disaggregation_bootstrap_port=8998)\n"
     ]
    },
    {
     "name": "stdout",
     "output_type": "stream",
     "text": [
      "[2025-03-26 17:48:05] The following error message 'operation scheduled before its operands' can be ignored.\n"
     ]
    },
    {
     "name": "stdout",
     "output_type": "stream",
     "text": [
      "[2025-03-26 17:48:11] Use chat template for the OpenAI-compatible API server: llama_3_vision\n"
     ]
    },
    {
     "name": "stdout",
     "output_type": "stream",
     "text": [
      "INFO 03-26 17:48:13 __init__.py:190] Automatically detected platform cuda.\n",
      "INFO 03-26 17:48:13 __init__.py:190] Automatically detected platform cuda.\n"
     ]
    },
    {
     "name": "stdout",
     "output_type": "stream",
     "text": [
      "[2025-03-26 17:48:24 TP0] Overlap scheduler is disabled for multimodal models.\n",
      "[2025-03-26 17:48:24 TP0] Automatically reduce --mem-fraction-static to 0.836 because this is a multimodal model.\n",
      "[2025-03-26 17:48:24 TP0] Automatically turn off --chunked-prefill-size for mllama.\n",
      "[2025-03-26 17:48:24 TP0] Init torch distributed begin.\n"
     ]
    },
    {
     "name": "stdout",
     "output_type": "stream",
     "text": [
      "[2025-03-26 17:48:24 TP0] Init torch distributed ends. mem usage=0.00 GB\n",
      "[2025-03-26 17:48:24 TP0] Load weight begin. avail mem=61.77 GB\n"
     ]
    },
    {
     "name": "stdout",
     "output_type": "stream",
     "text": [
      "[2025-03-26 17:48:25 TP0] The following error message 'operation scheduled before its operands' can be ignored.\n"
     ]
    },
    {
     "name": "stdout",
     "output_type": "stream",
     "text": [
      "[2025-03-26 17:48:25 TP0] Using model weights format ['*.safetensors']\n"
     ]
    },
    {
     "name": "stdout",
     "output_type": "stream",
     "text": [
      "\r",
      "Loading safetensors checkpoint shards:   0% Completed | 0/5 [00:00<?, ?it/s]\n"
     ]
    },
    {
     "name": "stdout",
     "output_type": "stream",
     "text": [
      "\r",
      "Loading safetensors checkpoint shards:  20% Completed | 1/5 [00:00<00:03,  1.17it/s]\n"
     ]
    },
    {
     "name": "stdout",
     "output_type": "stream",
     "text": [
      "\r",
      "Loading safetensors checkpoint shards:  40% Completed | 2/5 [00:01<00:02,  1.10it/s]\n"
     ]
    },
    {
     "name": "stdout",
     "output_type": "stream",
     "text": [
      "\r",
      "Loading safetensors checkpoint shards:  60% Completed | 3/5 [00:02<00:01,  1.54it/s]\n"
     ]
    },
    {
     "name": "stdout",
     "output_type": "stream",
     "text": [
      "\r",
      "Loading safetensors checkpoint shards:  80% Completed | 4/5 [00:03<00:00,  1.31it/s]\n"
     ]
    },
    {
     "name": "stdout",
     "output_type": "stream",
     "text": [
      "\r",
      "Loading safetensors checkpoint shards: 100% Completed | 5/5 [00:04<00:00,  1.20it/s]\n",
      "\r",
      "Loading safetensors checkpoint shards: 100% Completed | 5/5 [00:04<00:00,  1.24it/s]\n",
      "\n",
      "[2025-03-26 17:48:30 TP0] Load weight end. type=MllamaForConditionalGeneration, dtype=torch.bfloat16, avail mem=58.63 GB, mem usage=3.14 GB.\n",
      "[2025-03-26 17:48:30 TP0] KV Cache is allocated. #tokens: 20480, K size: 1.56 GB, V size: 1.56 GB\n",
      "[2025-03-26 17:48:30 TP0] Memory pool end. avail mem=55.18 GB\n"
     ]
    },
    {
     "name": "stdout",
     "output_type": "stream",
     "text": [
      "[2025-03-26 17:48:32 TP0] max_total_num_tokens=20480, chunked_prefill_size=-1, max_prefill_tokens=16384, max_running_requests=200, context_len=131072\n"
     ]
    },
    {
     "name": "stdout",
     "output_type": "stream",
     "text": [
      "[2025-03-26 17:48:33] INFO:     Started server process [485340]\n",
      "[2025-03-26 17:48:33] INFO:     Waiting for application startup.\n",
      "[2025-03-26 17:48:33] INFO:     Application startup complete.\n",
      "[2025-03-26 17:48:33] INFO:     Uvicorn running on http://127.0.0.1:31027 (Press CTRL+C to quit)\n"
     ]
    },
    {
     "name": "stdout",
     "output_type": "stream",
     "text": [
      "[2025-03-26 17:48:33] INFO:     127.0.0.1:59148 - \"GET /v1/models HTTP/1.1\" 200 OK\n"
     ]
    },
    {
     "name": "stdout",
     "output_type": "stream",
     "text": [
      "[2025-03-26 17:48:34] INFO:     127.0.0.1:59160 - \"GET /get_model_info HTTP/1.1\" 200 OK\n",
      "[2025-03-26 17:48:34 TP0] Prefill batch. #new-seq: 1, #new-token: 7, #cached-token: 0, token usage: 0.00, #running-req: 0, #queue-req: 0, \n"
     ]
    },
    {
     "name": "stdout",
     "output_type": "stream",
     "text": [
      "[2025-03-26 17:48:36] INFO:     127.0.0.1:59166 - \"POST /generate HTTP/1.1\" 200 OK\n",
      "[2025-03-26 17:48:36] The server is fired up and ready to roll!\n"
     ]
    },
    {
     "data": {
      "text/html": [
       "<strong style='color: #00008B;'><br><br>                    NOTE: Typically, the server runs in a separate terminal.<br>                    In this notebook, we run the server and notebook code together, so their outputs are combined.<br>                    To improve clarity, the server logs are displayed in the original black color, while the notebook outputs are highlighted in blue.<br>                    We are running those notebooks in a CI parallel environment, so the throughput is not representative of the actual performance.<br>                    </strong>"
      ],
      "text/plain": [
       "<IPython.core.display.HTML object>"
      ]
     },
     "metadata": {},
     "output_type": "display_data"
    }
   ],
   "source": [
    "from sglang.test.test_utils import is_in_ci\n",
    "\n",
    "if is_in_ci():\n",
    "    from patch import launch_server_cmd\n",
    "else:\n",
    "    from sglang.utils import launch_server_cmd\n",
    "\n",
    "from sglang.utils import wait_for_server, print_highlight, terminate_process\n",
    "\n",
    "vision_process, port = launch_server_cmd(\n",
    "    \"\"\"\n",
    "python3 -m sglang.launch_server --model-path meta-llama/Llama-3.2-11B-Vision-Instruct \\\n",
    "    --chat-template=llama_3_vision\n",
    "\"\"\"\n",
    ")\n",
    "\n",
    "wait_for_server(f\"http://localhost:{port}\")"
   ]
  },
  {
   "cell_type": "markdown",
   "metadata": {},
   "source": [
    "## Using cURL\n",
    "\n",
    "Once the server is up, you can send test requests using curl or requests."
   ]
  },
  {
   "cell_type": "code",
   "execution_count": 2,
   "metadata": {
    "execution": {
     "iopub.execute_input": "2025-03-26T17:48:38.973707Z",
     "iopub.status.busy": "2025-03-26T17:48:38.973367Z",
     "iopub.status.idle": "2025-03-26T17:48:47.945300Z",
     "shell.execute_reply": "2025-03-26T17:48:47.944516Z"
    }
   },
   "outputs": [
    {
     "name": "stdout",
     "output_type": "stream",
     "text": [
      "[2025-03-26 17:48:44 TP0] Prefill batch. #new-seq: 1, #new-token: 6463, #cached-token: 0, token usage: 0.00, #running-req: 0, #queue-req: 0, \n"
     ]
    },
    {
     "name": "stdout",
     "output_type": "stream",
     "text": [
      "[2025-03-26 17:48:45 TP0] Decode batch. #running-req: 1, #token: 6496, token usage: 0.32, gen throughput (token/s): 3.13, #queue-req: 0, \n"
     ]
    },
    {
     "name": "stdout",
     "output_type": "stream",
     "text": [
      "[2025-03-26 17:48:46 TP0] Decode batch. #running-req: 1, #token: 6536, token usage: 0.32, gen throughput (token/s): 67.47, #queue-req: 0, \n"
     ]
    },
    {
     "name": "stdout",
     "output_type": "stream",
     "text": [
      "[2025-03-26 17:48:46 TP0] Decode batch. #running-req: 1, #token: 6576, token usage: 0.32, gen throughput (token/s): 68.23, #queue-req: 0, \n",
      "[2025-03-26 17:48:46] INFO:     127.0.0.1:33864 - \"POST /v1/chat/completions HTTP/1.1\" 200 OK\n"
     ]
    },
    {
     "data": {
      "text/html": [
       "<strong style='color: #00008B;'>{\"id\":\"d1a6a9f0f4f0443b9a1488237a7ef720\",\"object\":\"chat.completion\",\"created\":1743011319,\"model\":\"meta-llama/Llama-3.2-11B-Vision-Instruct\",\"choices\":[{\"index\":0,\"message\":{\"role\":\"assistant\",\"content\":\"The image features a man ironing clothes on the back of a yellow taxi cab.\\n\\nThe man in the image is wearing a yellow sweater, and standing on the left side of the back of a yellow taxi. He is using an ironing board and iron on the back of the car, and appears to be ironing a blue garment. The taxi's back window is open, and a small American flag is visible on the rear left side of the vehicle.\\n\\nIn the background, another yellow taxi is in motion on the street, while a large building with big windows and trees and flags can be seen in the background.\",\"reasoning_content\":null,\"tool_calls\":null},\"logprobs\":null,\"finish_reason\":\"stop\",\"matched_stop\":128009}],\"usage\":{\"prompt_tokens\":6463,\"total_tokens\":6588,\"completion_tokens\":125,\"prompt_tokens_details\":null}}</strong>"
      ],
      "text/plain": [
       "<IPython.core.display.HTML object>"
      ]
     },
     "metadata": {},
     "output_type": "display_data"
    },
    {
     "name": "stdout",
     "output_type": "stream",
     "text": [
      "[2025-03-26 17:48:47 TP0] Prefill batch. #new-seq: 1, #new-token: 1, #cached-token: 6462, token usage: 0.32, #running-req: 0, #queue-req: 0, \n"
     ]
    },
    {
     "name": "stdout",
     "output_type": "stream",
     "text": [
      "[2025-03-26 17:48:47] INFO:     127.0.0.1:45358 - \"POST /v1/chat/completions HTTP/1.1\" 200 OK\n"
     ]
    },
    {
     "data": {
      "text/html": [
       "<strong style='color: #00008B;'>{\"id\":\"836147c06ba546a9b328d245b036ddad\",\"object\":\"chat.completion\",\"created\":1743011326,\"model\":\"meta-llama/Llama-3.2-11B-Vision-Instruct\",\"choices\":[{\"index\":0,\"message\":{\"role\":\"assistant\",\"content\":\"The image depicts a man ironing clothes on the back of a taxi cab while it's in motion, driving down the street.\",\"reasoning_content\":null,\"tool_calls\":null},\"logprobs\":null,\"finish_reason\":\"stop\",\"matched_stop\":128009}],\"usage\":{\"prompt_tokens\":6463,\"total_tokens\":6490,\"completion_tokens\":27,\"prompt_tokens_details\":null}}</strong>"
      ],
      "text/plain": [
       "<IPython.core.display.HTML object>"
      ]
     },
     "metadata": {},
     "output_type": "display_data"
    }
   ],
   "source": [
    "import subprocess\n",
    "\n",
    "curl_command = f\"\"\"\n",
    "curl -s http://localhost:{port}/v1/chat/completions \\\\\n",
    "  -d '{{\n",
    "    \"model\": \"meta-llama/Llama-3.2-11B-Vision-Instruct\",\n",
    "    \"messages\": [\n",
    "      {{\n",
    "        \"role\": \"user\",\n",
    "        \"content\": [\n",
    "          {{\n",
    "            \"type\": \"text\",\n",
    "            \"text\": \"What’s in this image?\"\n",
    "          }},\n",
    "          {{\n",
    "            \"type\": \"image_url\",\n",
    "            \"image_url\": {{\n",
    "              \"url\": \"https://github.com/sgl-project/sglang/blob/main/test/lang/example_image.png?raw=true\"\n",
    "            }}\n",
    "          }}\n",
    "        ]\n",
    "      }}\n",
    "    ],\n",
    "    \"max_tokens\": 300\n",
    "  }}'\n",
    "\"\"\"\n",
    "\n",
    "response = subprocess.check_output(curl_command, shell=True).decode()\n",
    "print_highlight(response)\n",
    "\n",
    "\n",
    "response = subprocess.check_output(curl_command, shell=True).decode()\n",
    "print_highlight(response)"
   ]
  },
  {
   "cell_type": "markdown",
   "metadata": {},
   "source": [
    "## Using Python Requests"
   ]
  },
  {
   "cell_type": "code",
   "execution_count": 3,
   "metadata": {
    "execution": {
     "iopub.execute_input": "2025-03-26T17:48:47.947772Z",
     "iopub.status.busy": "2025-03-26T17:48:47.947254Z",
     "iopub.status.idle": "2025-03-26T17:48:49.747960Z",
     "shell.execute_reply": "2025-03-26T17:48:49.747210Z"
    }
   },
   "outputs": [
    {
     "name": "stdout",
     "output_type": "stream",
     "text": [
      "[2025-03-26 17:48:48 TP0] Prefill batch. #new-seq: 1, #new-token: 1, #cached-token: 6462, token usage: 0.32, #running-req: 0, #queue-req: 0, \n",
      "[2025-03-26 17:48:48 TP0] Decode batch. #running-req: 1, #token: 6466, token usage: 0.32, gen throughput (token/s): 19.10, #queue-req: 0, \n"
     ]
    },
    {
     "name": "stdout",
     "output_type": "stream",
     "text": [
      "[2025-03-26 17:48:49 TP0] Decode batch. #running-req: 1, #token: 6506, token usage: 0.32, gen throughput (token/s): 68.49, #queue-req: 0, \n"
     ]
    },
    {
     "name": "stdout",
     "output_type": "stream",
     "text": [
      "[2025-03-26 17:48:49] INFO:     127.0.0.1:45374 - \"POST /v1/chat/completions HTTP/1.1\" 200 OK\n"
     ]
    },
    {
     "data": {
      "text/html": [
       "<strong style='color: #00008B;'>{\"id\":\"b2323a9e462f4d099664ad1184072201\",\"object\":\"chat.completion\",\"created\":1743011327,\"model\":\"meta-llama/Llama-3.2-11B-Vision-Instruct\",\"choices\":[{\"index\":0,\"message\":{\"role\":\"assistant\",\"content\":\"The image depicts a man ironing clothes on the back of a yellow taxi cab, which is driving down the road. The man is standing on the back of the taxi, holding an iron and ironing board, and appears to be ironing a shirt. This is an unusual and unexpected scene, as ironing is not typically associated with driving a taxi.\",\"reasoning_content\":null,\"tool_calls\":null},\"logprobs\":null,\"finish_reason\":\"stop\",\"matched_stop\":128009}],\"usage\":{\"prompt_tokens\":6463,\"total_tokens\":6536,\"completion_tokens\":73,\"prompt_tokens_details\":null}}</strong>"
      ],
      "text/plain": [
       "<IPython.core.display.HTML object>"
      ]
     },
     "metadata": {},
     "output_type": "display_data"
    }
   ],
   "source": [
    "import requests\n",
    "\n",
    "url = f\"http://localhost:{port}/v1/chat/completions\"\n",
    "\n",
    "data = {\n",
    "    \"model\": \"meta-llama/Llama-3.2-11B-Vision-Instruct\",\n",
    "    \"messages\": [\n",
    "        {\n",
    "            \"role\": \"user\",\n",
    "            \"content\": [\n",
    "                {\"type\": \"text\", \"text\": \"What’s in this image?\"},\n",
    "                {\n",
    "                    \"type\": \"image_url\",\n",
    "                    \"image_url\": {\n",
    "                        \"url\": \"https://github.com/sgl-project/sglang/blob/main/test/lang/example_image.png?raw=true\"\n",
    "                    },\n",
    "                },\n",
    "            ],\n",
    "        }\n",
    "    ],\n",
    "    \"max_tokens\": 300,\n",
    "}\n",
    "\n",
    "response = requests.post(url, json=data)\n",
    "print_highlight(response.text)"
   ]
  },
  {
   "cell_type": "markdown",
   "metadata": {},
   "source": [
    "## Using OpenAI Python Client"
   ]
  },
  {
   "cell_type": "code",
   "execution_count": 4,
   "metadata": {
    "execution": {
     "iopub.execute_input": "2025-03-26T17:48:49.750425Z",
     "iopub.status.busy": "2025-03-26T17:48:49.750234Z",
     "iopub.status.idle": "2025-03-26T17:48:50.854478Z",
     "shell.execute_reply": "2025-03-26T17:48:50.853717Z"
    }
   },
   "outputs": [
    {
     "name": "stdout",
     "output_type": "stream",
     "text": [
      "[2025-03-26 17:48:50 TP0] Prefill batch. #new-seq: 1, #new-token: 11, #cached-token: 6452, token usage: 0.32, #running-req: 0, #queue-req: 0, \n"
     ]
    },
    {
     "name": "stdout",
     "output_type": "stream",
     "text": [
      "[2025-03-26 17:48:50 TP0] Decode batch. #running-req: 1, #token: 6474, token usage: 0.32, gen throughput (token/s): 31.73, #queue-req: 0, \n"
     ]
    },
    {
     "name": "stdout",
     "output_type": "stream",
     "text": [
      "[2025-03-26 17:48:50] INFO:     127.0.0.1:45386 - \"POST /v1/chat/completions HTTP/1.1\" 200 OK\n"
     ]
    },
    {
     "data": {
      "text/html": [
       "<strong style='color: #00008B;'>The image depicts a man in a yellow jacket ironing clothes on an ironing board that is attached to the back of a yellow taxi cab.</strong>"
      ],
      "text/plain": [
       "<IPython.core.display.HTML object>"
      ]
     },
     "metadata": {},
     "output_type": "display_data"
    }
   ],
   "source": [
    "from openai import OpenAI\n",
    "\n",
    "client = OpenAI(base_url=f\"http://localhost:{port}/v1\", api_key=\"None\")\n",
    "\n",
    "response = client.chat.completions.create(\n",
    "    model=\"meta-llama/Llama-3.2-11B-Vision-Instruct\",\n",
    "    messages=[\n",
    "        {\n",
    "            \"role\": \"user\",\n",
    "            \"content\": [\n",
    "                {\n",
    "                    \"type\": \"text\",\n",
    "                    \"text\": \"What is in this image?\",\n",
    "                },\n",
    "                {\n",
    "                    \"type\": \"image_url\",\n",
    "                    \"image_url\": {\n",
    "                        \"url\": \"https://github.com/sgl-project/sglang/blob/main/test/lang/example_image.png?raw=true\"\n",
    "                    },\n",
    "                },\n",
    "            ],\n",
    "        }\n",
    "    ],\n",
    "    max_tokens=300,\n",
    ")\n",
    "\n",
    "print_highlight(response.choices[0].message.content)"
   ]
  },
  {
   "cell_type": "markdown",
   "metadata": {},
   "source": [
    "## Multiple-Image Inputs\n",
    "\n",
    "The server also supports multiple images and interleaved text and images if the model supports it."
   ]
  },
  {
   "cell_type": "code",
   "execution_count": 5,
   "metadata": {
    "execution": {
     "iopub.execute_input": "2025-03-26T17:48:50.857021Z",
     "iopub.status.busy": "2025-03-26T17:48:50.856687Z",
     "iopub.status.idle": "2025-03-26T17:48:53.392342Z",
     "shell.execute_reply": "2025-03-26T17:48:53.391686Z"
    }
   },
   "outputs": [
    {
     "name": "stdout",
     "output_type": "stream",
     "text": [
      "[2025-03-26 17:48:51 TP0] Prefill batch. #new-seq: 1, #new-token: 12895, #cached-token: 0, token usage: 0.00, #running-req: 0, #queue-req: 0, \n"
     ]
    },
    {
     "name": "stdout",
     "output_type": "stream",
     "text": [
      "[2025-03-26 17:48:52 TP0] Decode batch. #running-req: 1, #token: 12917, token usage: 0.63, gen throughput (token/s): 20.56, #queue-req: 0, \n"
     ]
    },
    {
     "name": "stdout",
     "output_type": "stream",
     "text": [
      "[2025-03-26 17:48:53 TP0] Decode batch. #running-req: 1, #token: 12957, token usage: 0.63, gen throughput (token/s): 63.66, #queue-req: 0, \n"
     ]
    },
    {
     "name": "stdout",
     "output_type": "stream",
     "text": [
      "[2025-03-26 17:48:53] INFO:     127.0.0.1:45388 - \"POST /v1/chat/completions HTTP/1.1\" 200 OK\n"
     ]
    },
    {
     "data": {
      "text/html": [
       "<strong style='color: #00008B;'>The first image shows a man in a yellow shirt ironing a shirt on the back of a yellow taxi cab, with a small icon of a computer code snippet in the top-left corner. The second image shows a large orange \"S\" and \"G\" on a white background, with a smaller \"L\" to the right of the \"G\".</strong>"
      ],
      "text/plain": [
       "<IPython.core.display.HTML object>"
      ]
     },
     "metadata": {},
     "output_type": "display_data"
    }
   ],
   "source": [
    "from openai import OpenAI\n",
    "\n",
    "client = OpenAI(base_url=f\"http://localhost:{port}/v1\", api_key=\"None\")\n",
    "\n",
    "response = client.chat.completions.create(\n",
    "    model=\"meta-llama/Llama-3.2-11B-Vision-Instruct\",\n",
    "    messages=[\n",
    "        {\n",
    "            \"role\": \"user\",\n",
    "            \"content\": [\n",
    "                {\n",
    "                    \"type\": \"image_url\",\n",
    "                    \"image_url\": {\n",
    "                        \"url\": \"https://github.com/sgl-project/sglang/blob/main/test/lang/example_image.png?raw=true\",\n",
    "                    },\n",
    "                },\n",
    "                {\n",
    "                    \"type\": \"image_url\",\n",
    "                    \"image_url\": {\n",
    "                        \"url\": \"https://raw.githubusercontent.com/sgl-project/sglang/main/assets/logo.png\",\n",
    "                    },\n",
    "                },\n",
    "                {\n",
    "                    \"type\": \"text\",\n",
    "                    \"text\": \"I have two very different images. They are not related at all. \"\n",
    "                    \"Please describe the first image in one sentence, and then describe the second image in another sentence.\",\n",
    "                },\n",
    "            ],\n",
    "        }\n",
    "    ],\n",
    "    temperature=0,\n",
    ")\n",
    "\n",
    "print_highlight(response.choices[0].message.content)"
   ]
  },
  {
   "cell_type": "code",
   "execution_count": 6,
   "metadata": {
    "execution": {
     "iopub.execute_input": "2025-03-26T17:48:53.421078Z",
     "iopub.status.busy": "2025-03-26T17:48:53.420692Z",
     "iopub.status.idle": "2025-03-26T17:48:53.813585Z",
     "shell.execute_reply": "2025-03-26T17:48:53.812661Z"
    }
   },
   "outputs": [
    {
     "name": "stdout",
     "output_type": "stream",
     "text": [
      "[2025-03-26 17:48:53] Child process unexpectedly failed with an exit code 9. pid=485712\n"
     ]
    },
    {
     "name": "stdout",
     "output_type": "stream",
     "text": [
      "[2025-03-26 17:48:53] Child process unexpectedly failed with an exit code 9. pid=487360\n",
      "[2025-03-26 17:48:53] SIGTERM received. signum=None frame=None. Draining requests and shutting down...\n",
      "[2025-03-26 17:48:53] SIGTERM received. signum=None frame=None. Draining requests and shutting down...\n",
      "[2025-03-26 17:48:53] SIGTERM received. signum=None frame=None. Draining requests and shutting down...\n",
      "[2025-03-26 17:48:53] SIGTERM received. signum=None frame=None. Draining requests and shutting down...\n",
      "[2025-03-26 17:48:53] SIGTERM received. signum=None frame=None. Draining requests and shutting down...\n",
      "[2025-03-26 17:48:53] SIGTERM received. signum=None frame=None. Draining requests and shutting down...\n",
      "[2025-03-26 17:48:53] SIGTERM received. signum=None frame=None. Draining requests and shutting down...\n",
      "[2025-03-26 17:48:53] SIGTERM received. signum=None frame=None. Draining requests and shutting down...\n",
      "[2025-03-26 17:48:53] SIGTERM received. signum=None frame=None. Draining requests and shutting down...\n",
      "[2025-03-26 17:48:53] SIGTERM received. signum=None frame=None. Draining requests and shutting down...\n",
      "[2025-03-26 17:48:53] SIGTERM received. signum=None frame=None. Draining requests and shutting down...\n",
      "[2025-03-26 17:48:53] SIGTERM received. signum=None frame=None. Draining requests and shutting down...\n",
      "[2025-03-26 17:48:53] SIGTERM received. signum=None frame=None. Draining requests and shutting down...\n",
      "[2025-03-26 17:48:53] SIGTERM received. signum=None frame=None. Draining requests and shutting down...\n",
      "[2025-03-26 17:48:53] SIGTERM received. signum=None frame=None. Draining requests and shutting down...\n",
      "[2025-03-26 17:48:53] SIGTERM received. signum=None frame=None. Draining requests and shutting down...\n",
      "[2025-03-26 17:48:53] SIGTERM received. signum=None frame=None. Draining requests and shutting down...\n",
      "[2025-03-26 17:48:53] SIGTERM received. signum=None frame=None. Draining requests and shutting down...\n",
      "[2025-03-26 17:48:53] SIGTERM received. signum=None frame=None. Draining requests and shutting down...\n",
      "[2025-03-26 17:48:53] SIGTERM received. signum=None frame=None. Draining requests and shutting down...\n",
      "[2025-03-26 17:48:53] SIGTERM received. signum=None frame=None. Draining requests and shutting down...\n",
      "[2025-03-26 17:48:53] SIGTERM received. signum=None frame=None. Draining requests and shutting down...\n",
      "[2025-03-26 17:48:53] SIGTERM received. signum=None frame=None. Draining requests and shutting down...\n",
      "[2025-03-26 17:48:53] SIGTERM received. signum=None frame=None. Draining requests and shutting down...\n",
      "[2025-03-26 17:48:53] SIGTERM received. signum=None frame=None. Draining requests and shutting down...\n",
      "[2025-03-26 17:48:53] SIGTERM received. signum=None frame=None. Draining requests and shutting down...\n",
      "[2025-03-26 17:48:53] SIGTERM received. signum=None frame=None. Draining requests and shutting down...\n",
      "[2025-03-26 17:48:53] SIGTERM received. signum=None frame=None. Draining requests and shutting down...\n",
      "[2025-03-26 17:48:53] SIGTERM received. signum=None frame=None. Draining requests and shutting down...\n",
      "[2025-03-26 17:48:53] SIGTERM received. signum=None frame=None. Draining requests and shutting down...\n",
      "[2025-03-26 17:48:53] SIGTERM received. signum=None frame=None. Draining requests and shutting down...\n",
      "[2025-03-26 17:48:53] SIGTERM received. signum=None frame=None. Draining requests and shutting down...\n",
      "[2025-03-26 17:48:53] SIGTERM received. signum=None frame=None. Draining requests and shutting down...\n",
      "[2025-03-26 17:48:53] SIGTERM received. signum=None frame=None. Draining requests and shutting down...\n",
      "[2025-03-26 17:48:53] SIGTERM received. signum=None frame=None. Draining requests and shutting down...\n",
      "[2025-03-26 17:48:53] SIGTERM received. signum=None frame=None. Draining requests and shutting down...\n",
      "[2025-03-26 17:48:53] SIGTERM received. signum=None frame=None. Draining requests and shutting down...\n",
      "[2025-03-26 17:48:53] SIGTERM received. signum=None frame=None. Draining requests and shutting down...\n",
      "[2025-03-26 17:48:53] SIGTERM received. signum=None frame=None. Draining requests and shutting down...\n",
      "[2025-03-26 17:48:53] SIGTERM received. signum=None frame=None. Draining requests and shutting down...\n",
      "[2025-03-26 17:48:53] SIGTERM received. signum=None frame=None. Draining requests and shutting down...\n",
      "[2025-03-26 17:48:53] SIGTERM received. signum=None frame=None. Draining requests and shutting down...\n",
      "[2025-03-26 17:48:53] SIGTERM received. signum=None frame=None. Draining requests and shutting down...\n",
      "[2025-03-26 17:48:53] SIGTERM received. signum=None frame=None. Draining requests and shutting down...\n",
      "[2025-03-26 17:48:53] SIGTERM received. signum=None frame=None. Draining requests and shutting down...\n",
      "[2025-03-26 17:48:53] SIGTERM received. signum=None frame=None. Draining requests and shutting down...\n",
      "[2025-03-26 17:48:53] SIGTERM received. signum=None frame=None. Draining requests and shutting down...\n",
      "[2025-03-26 17:48:53] SIGTERM received. signum=None frame=None. Draining requests and shutting down...\n",
      "[2025-03-26 17:48:53] SIGTERM received. signum=None frame=None. Draining requests and shutting down...\n",
      "[2025-03-26 17:48:53] SIGTERM received. signum=None frame=None. Draining requests and shutting down...\n",
      "[2025-03-26 17:48:53] SIGTERM received. signum=None frame=None. Draining requests and shutting down...\n",
      "[2025-03-26 17:48:53] SIGTERM received. signum=None frame=None. Draining requests and shutting down...\n",
      "[2025-03-26 17:48:53] SIGTERM received. signum=None frame=None. Draining requests and shutting down...\n",
      "[2025-03-26 17:48:53] SIGTERM received. signum=None frame=None. Draining requests and shutting down...\n",
      "[2025-03-26 17:48:53] SIGTERM received. signum=None frame=None. Draining requests and shutting down...\n",
      "[2025-03-26 17:48:53] SIGTERM received. signum=None frame=None. Draining requests and shutting down...\n",
      "[2025-03-26 17:48:53] SIGTERM received. signum=None frame=None. Draining requests and shutting down...\n",
      "[2025-03-26 17:48:53] SIGTERM received. signum=None frame=None. Draining requests and shutting down...\n",
      "[2025-03-26 17:48:53] SIGTERM received. signum=None frame=None. Draining requests and shutting down...\n",
      "[2025-03-26 17:48:53] SIGTERM received. signum=None frame=None. Draining requests and shutting down...\n",
      "[2025-03-26 17:48:53] SIGTERM received. signum=None frame=None. Draining requests and shutting down...\n",
      "[2025-03-26 17:48:53] SIGTERM received. signum=None frame=None. Draining requests and shutting down...\n",
      "[2025-03-26 17:48:53] SIGTERM received. signum=None frame=None. Draining requests and shutting down...\n",
      "[2025-03-26 17:48:53] SIGTERM received. signum=None frame=None. Draining requests and shutting down...\n",
      "[2025-03-26 17:48:53] SIGTERM received. signum=None frame=None. Draining requests and shutting down...\n",
      "[2025-03-26 17:48:53] SIGTERM received. signum=None frame=None. Draining requests and shutting down...\n",
      "[2025-03-26 17:48:53] SIGTERM received. signum=None frame=None. Draining requests and shutting down...\n",
      "[2025-03-26 17:48:53] SIGTERM received. signum=None frame=None. Draining requests and shutting down...\n",
      "[2025-03-26 17:48:53] SIGTERM received. signum=None frame=None. Draining requests and shutting down...\n",
      "[2025-03-26 17:48:53] SIGTERM received. signum=None frame=None. Draining requests and shutting down...\n",
      "[2025-03-26 17:48:53] SIGTERM received. signum=None frame=None. Draining requests and shutting down...\n",
      "[2025-03-26 17:48:53] SIGTERM received. signum=None frame=None. Draining requests and shutting down...\n",
      "[2025-03-26 17:48:53] SIGTERM received. signum=None frame=None. Draining requests and shutting down...\n",
      "[2025-03-26 17:48:53] SIGTERM received. signum=None frame=None. Draining requests and shutting down...\n",
      "[2025-03-26 17:48:53] SIGTERM received. signum=None frame=None. Draining requests and shutting down...\n",
      "[2025-03-26 17:48:53] SIGTERM received. signum=None frame=None. Draining requests and shutting down...\n",
      "[2025-03-26 17:48:53] SIGTERM received. signum=None frame=None. Draining requests and shutting down...\n",
      "[2025-03-26 17:48:53] SIGTERM received. signum=None frame=None. Draining requests and shutting down...\n",
      "[2025-03-26 17:48:53] SIGTERM received. signum=None frame=None. Draining requests and shutting down...\n",
      "[2025-03-26 17:48:53] SIGTERM received. signum=None frame=None. Draining requests and shutting down...\n",
      "[2025-03-26 17:48:53] SIGTERM received. signum=None frame=None. Draining requests and shutting down...\n",
      "[2025-03-26 17:48:53] SIGTERM received. signum=None frame=None. Draining requests and shutting down...\n",
      "[2025-03-26 17:48:53] SIGTERM received. signum=None frame=None. Draining requests and shutting down...\n",
      "[2025-03-26 17:48:53] SIGTERM received. signum=None frame=None. Draining requests and shutting down...\n",
      "[2025-03-26 17:48:53] SIGTERM received. signum=None frame=None. Draining requests and shutting down...\n",
      "[2025-03-26 17:48:53] SIGTERM received. signum=None frame=None. Draining requests and shutting down...\n",
      "[2025-03-26 17:48:53] SIGTERM received. signum=None frame=None. Draining requests and shutting down...\n",
      "[2025-03-26 17:48:53] SIGTERM received. signum=None frame=None. Draining requests and shutting down...\n",
      "[2025-03-26 17:48:53] SIGTERM received. signum=None frame=None. Draining requests and shutting down...\n",
      "[2025-03-26 17:48:53] SIGTERM received. signum=None frame=None. Draining requests and shutting down...\n",
      "[2025-03-26 17:48:53] SIGTERM received. signum=None frame=None. Draining requests and shutting down...\n",
      "[2025-03-26 17:48:53] SIGTERM received. signum=None frame=None. Draining requests and shutting down...\n",
      "[2025-03-26 17:48:53] SIGTERM received. signum=None frame=None. Draining requests and shutting down...\n",
      "[2025-03-26 17:48:53] SIGTERM received. signum=None frame=None. Draining requests and shutting down...\n",
      "[2025-03-26 17:48:53] SIGTERM received. signum=None frame=None. Draining requests and shutting down...\n",
      "[2025-03-26 17:48:53] SIGTERM received. signum=None frame=None. Draining requests and shutting down...\n",
      "[2025-03-26 17:48:53] SIGTERM received. signum=None frame=None. Draining requests and shutting down...\n",
      "[2025-03-26 17:48:53] SIGTERM received. signum=None frame=None. Draining requests and shutting down...\n",
      "[2025-03-26 17:48:53] SIGTERM received. signum=None frame=None. Draining requests and shutting down...\n",
      "[2025-03-26 17:48:53] SIGTERM received. signum=None frame=None. Draining requests and shutting down...\n",
      "[2025-03-26 17:48:53] SIGTERM received. signum=None frame=None. Draining requests and shutting down...\n",
      "[2025-03-26 17:48:53] SIGTERM received. signum=None frame=None. Draining requests and shutting down...\n",
      "[2025-03-26 17:48:53] SIGTERM received. signum=None frame=None. Draining requests and shutting down...\n",
      "[2025-03-26 17:48:53] SIGTERM received. signum=None frame=None. Draining requests and shutting down...\n",
      "[2025-03-26 17:48:53] SIGTERM received. signum=None frame=None. Draining requests and shutting down...\n",
      "[2025-03-26 17:48:53] SIGTERM received. signum=None frame=None. Draining requests and shutting down...\n",
      "[2025-03-26 17:48:53] SIGTERM received. signum=None frame=None. Draining requests and shutting down...\n",
      "[2025-03-26 17:48:53] SIGTERM received. signum=None frame=None. Draining requests and shutting down...\n",
      "[2025-03-26 17:48:53] SIGTERM received. signum=None frame=None. Draining requests and shutting down...\n",
      "[2025-03-26 17:48:53] SIGTERM received. signum=None frame=None. Draining requests and shutting down...\n",
      "[2025-03-26 17:48:53] SIGTERM received. signum=None frame=None. Draining requests and shutting down...\n",
      "[2025-03-26 17:48:53] SIGTERM received. signum=None frame=None. Draining requests and shutting down...\n",
      "[2025-03-26 17:48:53] SIGTERM received. signum=None frame=None. Draining requests and shutting down...\n",
      "[2025-03-26 17:48:53] SIGTERM received. signum=None frame=None. Draining requests and shutting down...\n",
      "[2025-03-26 17:48:53] SIGTERM received. signum=None frame=None. Draining requests and shutting down...\n",
      "[2025-03-26 17:48:53] SIGTERM received. signum=None frame=None. Draining requests and shutting down...\n",
      "[2025-03-26 17:48:53] SIGTERM received. signum=None frame=None. Draining requests and shutting down...\n",
      "[2025-03-26 17:48:53] SIGTERM received. signum=None frame=None. Draining requests and shutting down...\n",
      "[2025-03-26 17:48:53] SIGTERM received. signum=None frame=None. Draining requests and shutting down...\n",
      "[2025-03-26 17:48:53] SIGTERM received. signum=None frame=None. Draining requests and shutting down...\n",
      "[2025-03-26 17:48:53] SIGTERM received. signum=None frame=None. Draining requests and shutting down...\n",
      "[2025-03-26 17:48:53] SIGTERM received. signum=None frame=None. Draining requests and shutting down...\n",
      "[2025-03-26 17:48:53] SIGTERM received. signum=None frame=None. Draining requests and shutting down...\n",
      "[2025-03-26 17:48:53] SIGTERM received. signum=None frame=None. Draining requests and shutting down...\n",
      "[2025-03-26 17:48:53] SIGTERM received. signum=None frame=None. Draining requests and shutting down...\n",
      "[2025-03-26 17:48:53] SIGTERM received. signum=None frame=None. Draining requests and shutting down...\n",
      "[2025-03-26 17:48:53] SIGTERM received. signum=None frame=None. Draining requests and shutting down...\n",
      "[2025-03-26 17:48:53] SIGTERM received. signum=None frame=None. Draining requests and shutting down...\n",
      "[2025-03-26 17:48:53] SIGTERM received. signum=None frame=None. Draining requests and shutting down...\n",
      "[2025-03-26 17:48:53] SIGTERM received. signum=None frame=None. Draining requests and shutting down...\n",
      "[2025-03-26 17:48:53] SIGTERM received. signum=None frame=None. Draining requests and shutting down...\n",
      "[2025-03-26 17:48:53] SIGTERM received. signum=None frame=None. Draining requests and shutting down...\n",
      "--- Logging error ---\n",
      "[2025-03-26 17:48:53] Child process unexpectedly failed with an exit code 9. pid=487379\n",
      "Traceback (most recent call last):\n",
      "  File \"/public_sglang_ci/runner-a-gpu-0/_work/_tool/Python/3.9.21/x64/lib/python3.9/logging/__init__.py\", line 1086, in emit\n",
      "    stream.write(msg + self.terminator)\n",
      "RuntimeError: reentrant call inside <_io.BufferedWriter name='<stderr>'>\n",
      "\n",
      "During handling of the above exception, another exception occurred:\n",
      "\n",
      "Traceback (most recent call last):\n",
      "  File \"/public_sglang_ci/runner-a-gpu-0/_work/_tool/Python/3.9.21/x64/lib/python3.9/logging/__init__.py\", line 1086, in emit\n",
      "    stream.write(msg + self.terminator)\n",
      "  File \"/public_sglang_ci/runner-a-gpu-0/_work/sglang/sglang/python/sglang/srt/entrypoints/engine.py\", line 432, in sigchld_handler\n",
      "    logger.warning(\n",
      "  File \"/public_sglang_ci/runner-a-gpu-0/_work/_tool/Python/3.9.21/x64/lib/python3.9/logging/__init__.py\", line 1458, in warning\n",
      "    self._log(WARNING, msg, args, **kwargs)\n",
      "  File \"/public_sglang_ci/runner-a-gpu-0/_work/_tool/Python/3.9.21/x64/lib/python3.9/logging/__init__.py\", line 1589, in _log\n",
      "    self.handle(record)\n",
      "  File \"/public_sglang_ci/runner-a-gpu-0/_work/_tool/Python/3.9.21/x64/lib/python3.9/logging/__init__.py\", line 1599, in handle\n",
      "    self.callHandlers(record)\n",
      "  File \"/public_sglang_ci/runner-a-gpu-0/_work/_tool/Python/3.9.21/x64/lib/python3.9/logging/__init__.py\", line 1661, in callHandlers\n",
      "    hdlr.handle(record)\n",
      "  File \"/public_sglang_ci/runner-a-gpu-0/_work/_tool/Python/3.9.21/x64/lib/python3.9/logging/__init__.py\", line 952, in handle\n",
      "    self.emit(record)\n",
      "  File \"/public_sglang_ci/runner-a-gpu-0/_work/_tool/Python/3.9.21/x64/lib/python3.9/logging/__init__.py\", line 1091, in emit\n",
      "    self.handleError(record)\n",
      "  File \"/public_sglang_ci/runner-a-gpu-0/_work/_tool/Python/3.9.21/x64/lib/python3.9/logging/__init__.py\", line 1004, in handleError\n",
      "    sys.stderr.write('--- Logging error ---\\n')\n",
      "RuntimeError: reentrant call inside <_io.BufferedWriter name='<stderr>'>\n",
      "Call stack:\n",
      "[2025-03-26 17:48:53] Child process unexpectedly failed with an exit code 9. pid=487373\n"
     ]
    },
    {
     "name": "stdout",
     "output_type": "stream",
     "text": [
      "[2025-03-26 17:48:53] Child process unexpectedly failed with an exit code 9. pid=487381\n",
      "  File \"/public_sglang_ci/runner-a-gpu-0/_work/_tool/Python/3.9.21/x64/lib/python3.9/runpy.py\", line 197, in _run_module_as_main\n",
      "    return _run_code(code, main_globals, None,\n",
      "  File \"/public_sglang_ci/runner-a-gpu-0/_work/_tool/Python/3.9.21/x64/lib/python3.9/runpy.py\", line 87, in _run_code\n",
      "    exec(code, run_globals)\n",
      "  File \"/public_sglang_ci/runner-a-gpu-0/_work/sglang/sglang/python/sglang/launch_server.py\", line 14, in <module>\n",
      "    launch_server(server_args)\n",
      "  File \"/public_sglang_ci/runner-a-gpu-0/_work/sglang/sglang/python/sglang/srt/entrypoints/http_server.py\", line 708, in launch_server\n",
      "    uvicorn.run(\n",
      "  File \"/public_sglang_ci/runner-a-gpu-0/_work/_tool/Python/3.9.21/x64/lib/python3.9/site-packages/uvicorn/main.py\", line 579, in run\n",
      "    server.run()\n",
      "  File \"/public_sglang_ci/runner-a-gpu-0/_work/_tool/Python/3.9.21/x64/lib/python3.9/site-packages/uvicorn/server.py\", line 66, in run\n",
      "    return asyncio.run(self.serve(sockets=sockets))\n",
      "  File \"/public_sglang_ci/runner-a-gpu-0/_work/_tool/Python/3.9.21/x64/lib/python3.9/asyncio/runners.py\", line 44, in run\n",
      "    return loop.run_until_complete(main)\n",
      "  File \"/public_sglang_ci/runner-a-gpu-0/_work/sglang/sglang/python/sglang/srt/managers/tokenizer_manager.py\", line 1168, in signal_handler\n",
      "    logger.warning(\n",
      "Message: 'SIGTERM received. signum=None frame=None. Draining requests and shutting down...'\n",
      "Arguments: ()\n",
      "[2025-03-26 17:48:53] SIGTERM received. signum=None frame=None. Draining requests and shutting down...\n",
      "[2025-03-26 17:48:53] SIGTERM received. signum=None frame=None. Draining requests and shutting down...\n",
      "[2025-03-26 17:48:53] SIGTERM received. signum=None frame=None. Draining requests and shutting down...\n",
      "[2025-03-26 17:48:53] SIGTERM received. signum=None frame=None. Draining requests and shutting down...\n",
      "[2025-03-26 17:48:53] SIGTERM received. signum=None frame=None. Draining requests and shutting down...\n",
      "[2025-03-26 17:48:53] SIGTERM received. signum=None frame=None. Draining requests and shutting down...\n",
      "[2025-03-26 17:48:53] SIGTERM received. signum=None frame=None. Draining requests and shutting down...\n",
      "[2025-03-26 17:48:53] SIGTERM received. signum=None frame=None. Draining requests and shutting down...\n",
      "[2025-03-26 17:48:53] SIGTERM received. signum=None frame=None. Draining requests and shutting down...\n",
      "[2025-03-26 17:48:53] SIGTERM received. signum=None frame=None. Draining requests and shutting down...\n",
      "[2025-03-26 17:48:53] SIGTERM received. signum=None frame=None. Draining requests and shutting down...\n",
      "[2025-03-26 17:48:53] SIGTERM received. signum=None frame=None. Draining requests and shutting down...\n",
      "[2025-03-26 17:48:53] SIGTERM received. signum=None frame=None. Draining requests and shutting down...\n",
      "[2025-03-26 17:48:53] SIGTERM received. signum=None frame=None. Draining requests and shutting down...\n",
      "[2025-03-26 17:48:53] SIGTERM received. signum=None frame=None. Draining requests and shutting down...\n",
      "[2025-03-26 17:48:53] SIGTERM received. signum=None frame=None. Draining requests and shutting down...\n",
      "[2025-03-26 17:48:53] SIGTERM received. signum=None frame=None. Draining requests and shutting down...\n",
      "[2025-03-26 17:48:53] SIGTERM received. signum=None frame=None. Draining requests and shutting down...\n",
      "[2025-03-26 17:48:53] SIGTERM received. signum=None frame=None. Draining requests and shutting down...\n",
      "[2025-03-26 17:48:53] SIGTERM received. signum=None frame=None. Draining requests and shutting down...\n",
      "[2025-03-26 17:48:53] SIGTERM received. signum=None frame=None. Draining requests and shutting down...\n",
      "[2025-03-26 17:48:53] SIGTERM received. signum=None frame=None. Draining requests and shutting down...\n",
      "[2025-03-26 17:48:53] SIGTERM received. signum=None frame=None. Draining requests and shutting down...\n",
      "[2025-03-26 17:48:53] SIGTERM received. signum=None frame=None. Draining requests and shutting down...\n",
      "[2025-03-26 17:48:53] SIGTERM received. signum=None frame=None. Draining requests and shutting down...\n",
      "[2025-03-26 17:48:53] SIGTERM received. signum=None frame=None. Draining requests and shutting down...\n",
      "[2025-03-26 17:48:53] SIGTERM received. signum=None frame=None. Draining requests and shutting down...\n",
      "[2025-03-26 17:48:53] SIGTERM received. signum=None frame=None. Draining requests and shutting down...\n",
      "[2025-03-26 17:48:53] SIGTERM received. signum=None frame=None. Draining requests and shutting down...\n",
      "[2025-03-26 17:48:53] SIGTERM received. signum=None frame=None. Draining requests and shutting down...\n",
      "[2025-03-26 17:48:53] SIGTERM received. signum=None frame=None. Draining requests and shutting down...\n",
      "[2025-03-26 17:48:53] SIGTERM received. signum=None frame=None. Draining requests and shutting down...\n",
      "[2025-03-26 17:48:53] SIGTERM received. signum=None frame=None. Draining requests and shutting down...\n",
      "[2025-03-26 17:48:53] SIGTERM received. signum=None frame=None. Draining requests and shutting down...\n",
      "[2025-03-26 17:48:53] SIGTERM received. signum=None frame=None. Draining requests and shutting down...\n",
      "[2025-03-26 17:48:53] SIGTERM received. signum=None frame=None. Draining requests and shutting down...\n",
      "[2025-03-26 17:48:53] SIGTERM received. signum=None frame=None. Draining requests and shutting down...\n",
      "[2025-03-26 17:48:53] SIGTERM received. signum=None frame=None. Draining requests and shutting down...\n",
      "[2025-03-26 17:48:53] SIGTERM received. signum=None frame=None. Draining requests and shutting down...\n",
      "[2025-03-26 17:48:53] SIGTERM received. signum=None frame=None. Draining requests and shutting down...\n",
      "[2025-03-26 17:48:53] SIGTERM received. signum=None frame=None. Draining requests and shutting down...\n",
      "[2025-03-26 17:48:53] SIGTERM received. signum=None frame=None. Draining requests and shutting down...\n",
      "[2025-03-26 17:48:53] SIGTERM received. signum=None frame=None. Draining requests and shutting down...\n"
     ]
    },
    {
     "name": "stdout",
     "output_type": "stream",
     "text": [
      "[2025-03-26 17:48:53] Child process unexpectedly failed with an exit code 9. pid=487386\n",
      "[2025-03-26 17:48:53] Child process unexpectedly failed with an exit code 9. pid=487396\n",
      "[2025-03-26 17:48:53] Child process unexpectedly failed with an exit code 9. pid=487355\n",
      "[2025-03-26 17:48:53] Child process unexpectedly failed with an exit code 9. pid=485714\n",
      "[2025-03-26 17:48:53] Child process unexpectedly failed with an exit code 9. pid=487352\n",
      "[2025-03-26 17:48:53] Child process unexpectedly failed with an exit code 9. pid=487358\n",
      "[2025-03-26 17:48:53] Child process unexpectedly failed with an exit code 9. pid=487361\n"
     ]
    }
   ],
   "source": [
    "terminate_process(vision_process)"
   ]
  },
  {
   "cell_type": "markdown",
   "metadata": {},
   "source": [
    "## Chat Template\n",
    "\n",
    "As mentioned before, if you do not specify a vision model's `--chat-template`, the server uses Hugging Face's default template, which only supports text.\n",
    "\n",
    "We list popular vision models with their chat templates:\n",
    "\n",
    "- [meta-llama/Llama-3.2-Vision](https://huggingface.co/meta-llama/Llama-3.2-11B-Vision-Instruct) uses `llama_3_vision`.\n",
    "- [Qwen/Qwen2.5-VL-7B-Instruct](https://huggingface.co/Qwen/Qwen2.5-VL-7B-Instruct) uses `qwen2-vl`.\n",
    "- [google/gemma-3-4b-it](https://huggingface.co/google/gemma-3-4b-it) uses `gemma-it`.\n",
    "- [openbmb/MiniCPM-V](https://huggingface.co/openbmb/MiniCPM-V) uses `minicpmv`.\n",
    "- [deepseek-ai/deepseek-vl2](https://huggingface.co/deepseek-ai/deepseek-vl2) uses `deepseek-vl2`.\n",
    "- [LlaVA-OneVision](https://huggingface.co/lmms-lab/llava-onevision-qwen2-7b-ov) uses `chatml-llava`.\n",
    "- [LLaVA-NeXT](https://huggingface.co/collections/lmms-lab/llava-next-6623288e2d61edba3ddbf5ff) uses `chatml-llava`.\n",
    "- [Llama3-LLaVA-NeXT](https://huggingface.co/lmms-lab/llama3-llava-next-8b) uses `llava_llama_3`.\n",
    "- [LLaVA-v1.5 / 1.6](https://huggingface.co/liuhaotian/llava-v1.6-34b) uses `vicuna_v1.1`."
   ]
  }
 ],
 "metadata": {
  "language_info": {
   "codemirror_mode": {
    "name": "ipython",
    "version": 3
   },
   "file_extension": ".py",
   "mimetype": "text/x-python",
   "name": "python",
   "nbconvert_exporter": "python",
   "pygments_lexer": "ipython3",
   "version": "3.9.21"
  }
 },
 "nbformat": 4,
 "nbformat_minor": 2
}
