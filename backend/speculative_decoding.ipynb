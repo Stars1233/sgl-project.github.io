{
 "cells": [
  {
   "cell_type": "markdown",
   "metadata": {},
   "source": [
    "# Speculative Decoding\n",
    "\n",
    "SGLang now provides an EAGLE-based speculative decoding option. The implementation aims to maximize speed and efficiency and is considered to be among the fastest in open-source LLM engines.\n",
    "\n",
    "To run the following tests or benchmarks, you also need to install [**cutex**](https://pypi.org/project/cutex/):  \n",
    "> ```bash\n",
    "> pip install cutex\n",
    "> ```\n",
    "\n",
    "### Performance Highlights\n",
    "\n",
    "- Official EAGLE code ([SafeAILab/EAGLE](https://github.com/SafeAILab/EAGLE)): ~200 tokens/s\n",
    "- Standard SGLang Decoding: ~156 tokens/s\n",
    "- EAGLE Decoding in SGLang: ~297 tokens/s\n",
    "- EAGLE Decoding in SGLang (w/ `torch.compile`): ~316 tokens/s\n",
    "\n",
    "All benchmarks below were run on a single H100."
   ]
  },
  {
   "cell_type": "markdown",
   "metadata": {},
   "source": [
    "## EAGLE Decoding\n",
    "\n",
    "To enable EAGLE-based speculative decoding, specify the draft model (`--speculative-draft`) and the relevant EAGLE parameters:"
   ]
  },
  {
   "cell_type": "code",
   "execution_count": 1,
   "metadata": {
    "execution": {
     "iopub.execute_input": "2025-01-31T12:54:44.638577Z",
     "iopub.status.busy": "2025-01-31T12:54:44.638447Z",
     "iopub.status.idle": "2025-01-31T12:55:42.280504Z",
     "shell.execute_reply": "2025-01-31T12:55:42.279803Z"
    }
   },
   "outputs": [
    {
     "name": "stdout",
     "output_type": "stream",
     "text": [
      "[2025-01-31 12:54:57] server_args=ServerArgs(model_path='meta-llama/Llama-2-7b-chat-hf', tokenizer_path='meta-llama/Llama-2-7b-chat-hf', tokenizer_mode='auto', load_format='auto', trust_remote_code=False, dtype='auto', kv_cache_dtype='auto', quantization_param_path=None, quantization=None, context_length=None, device='cuda', served_model_name='meta-llama/Llama-2-7b-chat-hf', chat_template=None, is_embedding=False, revision=None, skip_tokenizer_init=False, host='127.0.0.1', port=30020, mem_fraction_static=0.7, max_running_requests=None, max_total_tokens=None, chunked_prefill_size=-1, max_prefill_tokens=16384, schedule_policy='lpm', schedule_conservativeness=1.0, cpu_offload_gb=0, prefill_only_one_req=True, tp_size=1, stream_interval=1, stream_output=False, random_seed=4278746, constrained_json_whitespace_pattern=None, watchdog_timeout=300, download_dir=None, base_gpu_id=0, log_level='info', log_level_http=None, log_requests=False, show_time_cost=False, enable_metrics=False, decode_log_interval=40, api_key=None, file_storage_pth='sglang_storage', enable_cache_report=False, dp_size=1, load_balance_method='round_robin', ep_size=1, dist_init_addr=None, nnodes=1, node_rank=0, json_model_override_args='{}', lora_paths=None, max_loras_per_batch=8, attention_backend='flashinfer', sampling_backend='flashinfer', grammar_backend='outlines', speculative_draft_model_path='lmzheng/sglang-EAGLE-llama2-chat-7B', speculative_algorithm='EAGLE', speculative_num_steps=5, speculative_num_draft_tokens=64, speculative_eagle_topk=8, enable_double_sparsity=False, ds_channel_config_path=None, ds_heavy_channel_num=32, ds_heavy_token_num=256, ds_heavy_channel_type='qk', ds_sparse_decode_threshold=4096, disable_radix_cache=True, disable_jump_forward=False, disable_cuda_graph=False, disable_cuda_graph_padding=True, disable_outlines_disk_cache=False, disable_custom_all_reduce=False, disable_mla=False, disable_overlap_schedule=True, enable_mixed_chunk=False, enable_dp_attention=False, enable_ep_moe=False, enable_torch_compile=False, torch_compile_max_bs=32, cuda_graph_max_bs=160, cuda_graph_bs=None, torchao_config='', enable_nan_detection=False, enable_p2p_check=False, triton_attention_reduce_in_fp32=False, triton_attention_num_kv_splits=8, num_continuous_decode_steps=1, delete_ckpt_after_loading=False, enable_memory_saver=False, allow_auto_truncate=False, enable_custom_logit_processor=False, tool_call_parser=None, enable_hierarchical_cache=False)\n"
     ]
    },
    {
     "name": "stdout",
     "output_type": "stream",
     "text": [
      "[2025-01-31 12:55:16 TP0] Init torch distributed begin.\n"
     ]
    },
    {
     "name": "stdout",
     "output_type": "stream",
     "text": [
      "[2025-01-31 12:55:16 TP0] Load weight begin. avail mem=78.81 GB\n"
     ]
    },
    {
     "name": "stdout",
     "output_type": "stream",
     "text": [
      "[2025-01-31 12:55:17 TP0] Using model weights format ['*.safetensors']\n",
      "\r",
      "Loading safetensors checkpoint shards:   0% Completed | 0/2 [00:00<?, ?it/s]\n"
     ]
    },
    {
     "name": "stdout",
     "output_type": "stream",
     "text": [
      "\r",
      "Loading safetensors checkpoint shards:  50% Completed | 1/2 [00:00<00:00,  1.92it/s]\n"
     ]
    },
    {
     "name": "stdout",
     "output_type": "stream",
     "text": [
      "\r",
      "Loading safetensors checkpoint shards: 100% Completed | 2/2 [00:02<00:00,  1.25s/it]\n",
      "\r",
      "Loading safetensors checkpoint shards: 100% Completed | 2/2 [00:02<00:00,  1.14s/it]\n",
      "\n",
      "[2025-01-31 12:55:20 TP0] Load weight end. type=LlamaForCausalLM, dtype=torch.float16, avail mem=66.15 GB\n"
     ]
    },
    {
     "name": "stdout",
     "output_type": "stream",
     "text": [
      "[2025-01-31 12:55:20 TP0] KV Cache is allocated. K size: 21.25 GB, V size: 21.25 GB.\n",
      "[2025-01-31 12:55:20 TP0] Memory pool end. avail mem=23.46 GB\n",
      "[2025-01-31 12:55:20 TP0] Capture cuda graph begin. This can take up to several minutes.\n",
      "\r",
      "  0%|          | 0/34 [00:00<?, ?it/s]"
     ]
    },
    {
     "name": "stdout",
     "output_type": "stream",
     "text": [
      "\r",
      "  3%|▎         | 1/34 [00:01<00:41,  1.25s/it]\r",
      "  6%|▌         | 2/34 [00:01<00:19,  1.61it/s]"
     ]
    },
    {
     "name": "stdout",
     "output_type": "stream",
     "text": [
      "\r",
      "  9%|▉         | 3/34 [00:01<00:13,  2.38it/s]\r",
      " 12%|█▏        | 4/34 [00:01<00:09,  3.04it/s]"
     ]
    },
    {
     "name": "stdout",
     "output_type": "stream",
     "text": [
      "\r",
      " 15%|█▍        | 5/34 [00:01<00:08,  3.62it/s]\r",
      " 18%|█▊        | 6/34 [00:02<00:06,  4.05it/s]"
     ]
    },
    {
     "name": "stdout",
     "output_type": "stream",
     "text": [
      "\r",
      " 21%|██        | 7/34 [00:02<00:06,  4.37it/s]\r",
      " 24%|██▎       | 8/34 [00:02<00:05,  4.62it/s]"
     ]
    },
    {
     "name": "stdout",
     "output_type": "stream",
     "text": [
      "\r",
      " 26%|██▋       | 9/34 [00:02<00:05,  4.74it/s]\r",
      " 29%|██▉       | 10/34 [00:02<00:04,  4.85it/s]"
     ]
    },
    {
     "name": "stdout",
     "output_type": "stream",
     "text": [
      "\r",
      " 32%|███▏      | 11/34 [00:03<00:04,  4.88it/s]"
     ]
    },
    {
     "name": "stdout",
     "output_type": "stream",
     "text": [
      "\r",
      " 35%|███▌      | 12/34 [00:03<00:04,  4.89it/s]"
     ]
    },
    {
     "name": "stdout",
     "output_type": "stream",
     "text": [
      "\r",
      " 38%|███▊      | 13/34 [00:03<00:04,  4.87it/s]"
     ]
    },
    {
     "name": "stdout",
     "output_type": "stream",
     "text": [
      "\r",
      " 41%|████      | 14/34 [00:03<00:04,  4.83it/s]"
     ]
    },
    {
     "name": "stdout",
     "output_type": "stream",
     "text": [
      "\r",
      " 44%|████▍     | 15/34 [00:03<00:03,  4.81it/s]"
     ]
    },
    {
     "name": "stdout",
     "output_type": "stream",
     "text": [
      "\r",
      " 47%|████▋     | 16/34 [00:04<00:03,  4.78it/s]"
     ]
    },
    {
     "name": "stdout",
     "output_type": "stream",
     "text": [
      "\r",
      " 50%|█████     | 17/34 [00:04<00:03,  4.71it/s]"
     ]
    },
    {
     "name": "stdout",
     "output_type": "stream",
     "text": [
      "\r",
      " 53%|█████▎    | 18/34 [00:04<00:03,  4.67it/s]"
     ]
    },
    {
     "name": "stdout",
     "output_type": "stream",
     "text": [
      "\r",
      " 56%|█████▌    | 19/34 [00:04<00:03,  4.63it/s]"
     ]
    },
    {
     "name": "stdout",
     "output_type": "stream",
     "text": [
      "\r",
      " 59%|█████▉    | 20/34 [00:05<00:03,  4.60it/s]"
     ]
    },
    {
     "name": "stdout",
     "output_type": "stream",
     "text": [
      "\r",
      " 62%|██████▏   | 21/34 [00:05<00:02,  4.51it/s]"
     ]
    },
    {
     "name": "stdout",
     "output_type": "stream",
     "text": [
      "\r",
      " 65%|██████▍   | 22/34 [00:05<00:02,  4.47it/s]"
     ]
    },
    {
     "name": "stdout",
     "output_type": "stream",
     "text": [
      "\r",
      " 68%|██████▊   | 23/34 [00:05<00:02,  4.42it/s]"
     ]
    },
    {
     "name": "stdout",
     "output_type": "stream",
     "text": [
      "\r",
      " 71%|███████   | 24/34 [00:05<00:02,  4.39it/s]"
     ]
    },
    {
     "name": "stdout",
     "output_type": "stream",
     "text": [
      "\r",
      " 74%|███████▎  | 25/34 [00:06<00:02,  4.31it/s]"
     ]
    },
    {
     "name": "stdout",
     "output_type": "stream",
     "text": [
      "\r",
      " 76%|███████▋  | 26/34 [00:06<00:01,  4.28it/s]"
     ]
    },
    {
     "name": "stdout",
     "output_type": "stream",
     "text": [
      "\r",
      " 79%|███████▉  | 27/34 [00:06<00:01,  4.23it/s]"
     ]
    },
    {
     "name": "stdout",
     "output_type": "stream",
     "text": [
      "\r",
      " 82%|████████▏ | 28/34 [00:06<00:01,  4.19it/s]"
     ]
    },
    {
     "name": "stdout",
     "output_type": "stream",
     "text": [
      "\r",
      " 85%|████████▌ | 29/34 [00:07<00:01,  4.13it/s]"
     ]
    },
    {
     "name": "stdout",
     "output_type": "stream",
     "text": [
      "\r",
      " 88%|████████▊ | 30/34 [00:07<00:00,  4.11it/s]"
     ]
    },
    {
     "name": "stdout",
     "output_type": "stream",
     "text": [
      "\r",
      " 91%|█████████ | 31/34 [00:07<00:00,  4.03it/s]"
     ]
    },
    {
     "name": "stdout",
     "output_type": "stream",
     "text": [
      "\r",
      " 94%|█████████▍| 32/34 [00:07<00:00,  4.01it/s]"
     ]
    },
    {
     "name": "stdout",
     "output_type": "stream",
     "text": [
      "\r",
      " 97%|█████████▋| 33/34 [00:08<00:00,  3.60it/s]"
     ]
    },
    {
     "name": "stdout",
     "output_type": "stream",
     "text": [
      "\r",
      "100%|██████████| 34/34 [00:08<00:00,  2.74it/s]\r",
      "100%|██████████| 34/34 [00:08<00:00,  3.83it/s]\n",
      "[2025-01-31 12:55:29 TP0] Capture cuda graph end. Time elapsed: 8.89 s\n"
     ]
    },
    {
     "name": "stdout",
     "output_type": "stream",
     "text": [
      "[2025-01-31 12:55:29 TP0] Init torch distributed begin.\n",
      "[2025-01-31 12:55:29 TP0] Load weight begin. avail mem=13.32 GB\n",
      "[2025-01-31 12:55:29 TP0] Using model weights format ['*.bin']\n"
     ]
    },
    {
     "name": "stdout",
     "output_type": "stream",
     "text": [
      "\r",
      "Loading pt checkpoint shards:   0% Completed | 0/1 [00:00<?, ?it/s]\n",
      "/public_sglang_ci/runner-b-gpu-1/_work/sglang/sglang/python/sglang/srt/model_loader/weight_utils.py:447: FutureWarning: You are using `torch.load` with `weights_only=False` (the current default value), which uses the default pickle module implicitly. It is possible to construct malicious pickle data which will execute arbitrary code during unpickling (See https://github.com/pytorch/pytorch/blob/main/SECURITY.md#untrusted-models for more details). In a future release, the default value for `weights_only` will be flipped to `True`. This limits the functions that could be executed during unpickling. Arbitrary objects will no longer be allowed to be loaded via this mode unless they are explicitly allowlisted by the user via `torch.serialization.add_safe_globals`. We recommend you start setting `weights_only=True` for any use case where you don't have full control of the loaded file. Please open an issue on GitHub for any issues related to this experimental feature.\n",
      "  state = torch.load(bin_file, map_location=\"cpu\")\n"
     ]
    },
    {
     "name": "stdout",
     "output_type": "stream",
     "text": [
      "\r",
      "Loading pt checkpoint shards: 100% Completed | 1/1 [00:01<00:00,  1.28s/it]\n",
      "\r",
      "Loading pt checkpoint shards: 100% Completed | 1/1 [00:01<00:00,  1.28s/it]\n",
      "\n",
      "[2025-01-31 12:55:31 TP0] Load weight end. type=LlamaForCausalLMEagle, dtype=torch.float16, avail mem=12.40 GB\n",
      "[2025-01-31 12:55:31 TP0] KV Cache is allocated. K size: 0.82 GB, V size: 0.82 GB.\n",
      "[2025-01-31 12:55:31 TP0] Memory pool end. avail mem=10.69 GB\n"
     ]
    },
    {
     "name": "stdout",
     "output_type": "stream",
     "text": [
      "[2025-01-31 12:55:31 TP0] Capture cuda graph begin. This can take up to several minutes.\n",
      "\r",
      "  0%|          | 0/34 [00:00<?, ?it/s]"
     ]
    },
    {
     "name": "stdout",
     "output_type": "stream",
     "text": [
      "\r",
      "  3%|▎         | 1/34 [00:00<00:08,  4.12it/s]\r",
      "  6%|▌         | 2/34 [00:00<00:06,  5.05it/s]"
     ]
    },
    {
     "name": "stdout",
     "output_type": "stream",
     "text": [
      "\r",
      "  9%|▉         | 3/34 [00:00<00:05,  5.60it/s]\r",
      " 12%|█▏        | 4/34 [00:00<00:05,  5.62it/s]"
     ]
    },
    {
     "name": "stdout",
     "output_type": "stream",
     "text": [
      "\r",
      " 15%|█▍        | 5/34 [00:00<00:04,  5.91it/s]\r",
      " 18%|█▊        | 6/34 [00:01<00:04,  6.06it/s]"
     ]
    },
    {
     "name": "stdout",
     "output_type": "stream",
     "text": [
      "\r",
      " 21%|██        | 7/34 [00:01<00:04,  6.22it/s]\r",
      " 24%|██▎       | 8/34 [00:01<00:04,  6.30it/s]"
     ]
    },
    {
     "name": "stdout",
     "output_type": "stream",
     "text": [
      "\r",
      " 26%|██▋       | 9/34 [00:01<00:03,  6.35it/s]\r",
      " 29%|██▉       | 10/34 [00:01<00:03,  6.40it/s]"
     ]
    },
    {
     "name": "stdout",
     "output_type": "stream",
     "text": [
      "\r",
      " 32%|███▏      | 11/34 [00:01<00:03,  6.44it/s]\r",
      " 35%|███▌      | 12/34 [00:01<00:03,  6.48it/s]"
     ]
    },
    {
     "name": "stdout",
     "output_type": "stream",
     "text": [
      "\r",
      " 38%|███▊      | 13/34 [00:02<00:03,  6.49it/s]\r",
      " 41%|████      | 14/34 [00:02<00:03,  6.53it/s]"
     ]
    },
    {
     "name": "stdout",
     "output_type": "stream",
     "text": [
      "\r",
      " 44%|████▍     | 15/34 [00:02<00:02,  6.52it/s]\r",
      " 47%|████▋     | 16/34 [00:02<00:02,  6.57it/s]"
     ]
    },
    {
     "name": "stdout",
     "output_type": "stream",
     "text": [
      "\r",
      " 50%|█████     | 17/34 [00:02<00:02,  6.49it/s]\r",
      " 53%|█████▎    | 18/34 [00:02<00:02,  6.56it/s]"
     ]
    },
    {
     "name": "stdout",
     "output_type": "stream",
     "text": [
      "\r",
      " 56%|█████▌    | 19/34 [00:03<00:02,  6.51it/s]\r",
      " 59%|█████▉    | 20/34 [00:03<00:02,  6.55it/s]"
     ]
    },
    {
     "name": "stdout",
     "output_type": "stream",
     "text": [
      "\r",
      " 62%|██████▏   | 21/34 [00:03<00:01,  6.56it/s]\r",
      " 65%|██████▍   | 22/34 [00:03<00:01,  6.57it/s]"
     ]
    },
    {
     "name": "stdout",
     "output_type": "stream",
     "text": [
      "\r",
      " 68%|██████▊   | 23/34 [00:03<00:01,  6.52it/s]\r",
      " 71%|███████   | 24/34 [00:03<00:01,  6.38it/s]"
     ]
    },
    {
     "name": "stdout",
     "output_type": "stream",
     "text": [
      "\r",
      " 74%|███████▎  | 25/34 [00:03<00:01,  6.36it/s]\r",
      " 76%|███████▋  | 26/34 [00:04<00:01,  6.31it/s]"
     ]
    },
    {
     "name": "stdout",
     "output_type": "stream",
     "text": [
      "\r",
      " 79%|███████▉  | 27/34 [00:04<00:01,  6.27it/s]\r",
      " 82%|████████▏ | 28/34 [00:04<00:00,  6.26it/s]"
     ]
    },
    {
     "name": "stdout",
     "output_type": "stream",
     "text": [
      "\r",
      " 85%|████████▌ | 29/34 [00:04<00:00,  6.20it/s]\r",
      " 88%|████████▊ | 30/34 [00:04<00:00,  6.23it/s]"
     ]
    },
    {
     "name": "stdout",
     "output_type": "stream",
     "text": [
      "\r",
      " 91%|█████████ | 31/34 [00:04<00:00,  6.21it/s]\r",
      " 94%|█████████▍| 32/34 [00:05<00:00,  6.25it/s]"
     ]
    },
    {
     "name": "stdout",
     "output_type": "stream",
     "text": [
      "\r",
      " 97%|█████████▋| 33/34 [00:05<00:00,  6.19it/s]\r",
      "100%|██████████| 34/34 [00:05<00:00,  6.15it/s]\r",
      "100%|██████████| 34/34 [00:05<00:00,  6.26it/s]\n",
      "[2025-01-31 12:55:36 TP0] Capture cuda graph end. Time elapsed: 5.44 s\n",
      "[2025-01-31 12:55:36 TP0] max_total_num_tokens=87056, chunked_prefill_size=-1, max_prefill_tokens=16384, max_running_requests=4097, context_len=4096\n"
     ]
    },
    {
     "name": "stdout",
     "output_type": "stream",
     "text": [
      "[2025-01-31 12:55:37] INFO:     Started server process [3289648]\n",
      "[2025-01-31 12:55:37] INFO:     Waiting for application startup.\n",
      "[2025-01-31 12:55:37] INFO:     Application startup complete.\n",
      "[2025-01-31 12:55:37] INFO:     Uvicorn running on http://127.0.0.1:30020 (Press CTRL+C to quit)\n"
     ]
    },
    {
     "name": "stdout",
     "output_type": "stream",
     "text": [
      "[2025-01-31 12:55:37] INFO:     127.0.0.1:44642 - \"GET /v1/models HTTP/1.1\" 200 OK\n"
     ]
    },
    {
     "name": "stdout",
     "output_type": "stream",
     "text": [
      "[2025-01-31 12:55:37] INFO:     127.0.0.1:44654 - \"GET /get_model_info HTTP/1.1\" 200 OK\n",
      "[2025-01-31 12:55:37 TP0] Prefill batch. #new-seq: 1, #new-token: 7, #cached-token: 0, cache hit rate: 0.00%, token usage: 0.00, #running-req: 0, #queue-req: 0\n"
     ]
    },
    {
     "name": "stdout",
     "output_type": "stream",
     "text": [
      "[2025-01-31 12:55:38] INFO:     127.0.0.1:44656 - \"POST /generate HTTP/1.1\" 200 OK\n",
      "[2025-01-31 12:55:38] The server is fired up and ready to roll!\n"
     ]
    },
    {
     "data": {
      "text/html": [
       "<strong style='color: #00008B;'><br><br>                    NOTE: Typically, the server runs in a separate terminal.<br>                    In this notebook, we run the server and notebook code together, so their outputs are combined.<br>                    To improve clarity, the server logs are displayed in the original black color, while the notebook outputs are highlighted in blue.<br>                    </strong>"
      ],
      "text/plain": [
       "<IPython.core.display.HTML object>"
      ]
     },
     "metadata": {},
     "output_type": "display_data"
    }
   ],
   "source": [
    "# EAGLE decoding\n",
    "from sglang.utils import (\n",
    "    execute_shell_command,\n",
    "    wait_for_server,\n",
    "    terminate_process,\n",
    "    print_highlight,\n",
    ")\n",
    "\n",
    "server_process = execute_shell_command(\n",
    "    \"\"\"\n",
    "python3 -m sglang.launch_server --model meta-llama/Llama-2-7b-chat-hf  --speculative-algo EAGLE \\\n",
    "    --speculative-draft lmzheng/sglang-EAGLE-llama2-chat-7B --speculative-num-steps 5 \\\n",
    "    --speculative-eagle-topk 8 --speculative-num-draft-tokens 64 --mem-fraction 0.7 --port=30020\n",
    "\"\"\"\n",
    ")\n",
    "\n",
    "wait_for_server(\"http://localhost:30020\")"
   ]
  },
  {
   "cell_type": "code",
   "execution_count": 2,
   "metadata": {
    "execution": {
     "iopub.execute_input": "2025-01-31T12:55:42.283282Z",
     "iopub.status.busy": "2025-01-31T12:55:42.282296Z",
     "iopub.status.idle": "2025-01-31T12:55:43.240520Z",
     "shell.execute_reply": "2025-01-31T12:55:43.239934Z"
    }
   },
   "outputs": [
    {
     "name": "stdout",
     "output_type": "stream",
     "text": [
      "[2025-01-31 12:55:43 TP0] Prefill batch. #new-seq: 1, #new-token: 17, #cached-token: 0, cache hit rate: 0.00%, token usage: 0.00, #running-req: 0, #queue-req: 0\n",
      "[2025-01-31 12:55:43] INFO:     127.0.0.1:53878 - \"POST /v1/chat/completions HTTP/1.1\" 200 OK\n"
     ]
    },
    {
     "data": {
      "text/html": [
       "<strong style='color: #00008B;'>Response: ChatCompletion(id='31e5aa6465c24274b337bfc94d3dcd91', choices=[Choice(finish_reason='stop', index=0, logprobs=None, message=ChatCompletionMessage(content='  Sure! Here are three countries and their capitals:\\n\\n1. Country: France\\nCapital: Paris\\n2. Country: Japan\\nCapital: Tokyo\\n3. Country: Brazil\\nCapital: Brasília', refusal=None, role='assistant', audio=None, function_call=None, tool_calls=None), matched_stop=2)], created=1738328143, model='meta-llama/Meta-Llama-3.1-8B-Instruct', object='chat.completion', service_tier=None, system_fingerprint=None, usage=CompletionUsage(completion_tokens=48, prompt_tokens=17, total_tokens=65, completion_tokens_details=None, prompt_tokens_details=None))</strong>"
      ],
      "text/plain": [
       "<IPython.core.display.HTML object>"
      ]
     },
     "metadata": {},
     "output_type": "display_data"
    }
   ],
   "source": [
    "import openai\n",
    "\n",
    "client = openai.Client(base_url=\"http://127.0.0.1:30020/v1\", api_key=\"None\")\n",
    "\n",
    "response = client.chat.completions.create(\n",
    "    model=\"meta-llama/Meta-Llama-3.1-8B-Instruct\",\n",
    "    messages=[\n",
    "        {\"role\": \"user\", \"content\": \"List 3 countries and their capitals.\"},\n",
    "    ],\n",
    "    temperature=0,\n",
    "    max_tokens=64,\n",
    ")\n",
    "\n",
    "print_highlight(f\"Response: {response}\")"
   ]
  },
  {
   "cell_type": "code",
   "execution_count": 3,
   "metadata": {
    "execution": {
     "iopub.execute_input": "2025-01-31T12:55:43.242456Z",
     "iopub.status.busy": "2025-01-31T12:55:43.242041Z",
     "iopub.status.idle": "2025-01-31T12:55:46.453058Z",
     "shell.execute_reply": "2025-01-31T12:55:46.452323Z"
    }
   },
   "outputs": [],
   "source": [
    "terminate_process(server_process)"
   ]
  },
  {
   "cell_type": "markdown",
   "metadata": {},
   "source": [
    "### EAGLE Decoding with `torch.compile`\n",
    "\n",
    "You can also enable `torch.compile` for further optimizations and optionally set `--cuda-graph-max-bs`:\n"
   ]
  },
  {
   "cell_type": "code",
   "execution_count": 4,
   "metadata": {
    "execution": {
     "iopub.execute_input": "2025-01-31T12:55:46.455442Z",
     "iopub.status.busy": "2025-01-31T12:55:46.454997Z",
     "iopub.status.idle": "2025-01-31T12:56:59.689437Z",
     "shell.execute_reply": "2025-01-31T12:56:59.688872Z"
    }
   },
   "outputs": [
    {
     "name": "stdout",
     "output_type": "stream",
     "text": [
      "[2025-01-31 12:55:59] server_args=ServerArgs(model_path='meta-llama/Llama-2-7b-chat-hf', tokenizer_path='meta-llama/Llama-2-7b-chat-hf', tokenizer_mode='auto', load_format='auto', trust_remote_code=False, dtype='auto', kv_cache_dtype='auto', quantization_param_path=None, quantization=None, context_length=None, device='cuda', served_model_name='meta-llama/Llama-2-7b-chat-hf', chat_template=None, is_embedding=False, revision=None, skip_tokenizer_init=False, host='127.0.0.1', port=30020, mem_fraction_static=0.7, max_running_requests=None, max_total_tokens=None, chunked_prefill_size=-1, max_prefill_tokens=16384, schedule_policy='lpm', schedule_conservativeness=1.0, cpu_offload_gb=0, prefill_only_one_req=True, tp_size=1, stream_interval=1, stream_output=False, random_seed=633190944, constrained_json_whitespace_pattern=None, watchdog_timeout=300, download_dir=None, base_gpu_id=0, log_level='info', log_level_http=None, log_requests=False, show_time_cost=False, enable_metrics=False, decode_log_interval=40, api_key=None, file_storage_pth='sglang_storage', enable_cache_report=False, dp_size=1, load_balance_method='round_robin', ep_size=1, dist_init_addr=None, nnodes=1, node_rank=0, json_model_override_args='{}', lora_paths=None, max_loras_per_batch=8, attention_backend='flashinfer', sampling_backend='flashinfer', grammar_backend='outlines', speculative_draft_model_path='lmzheng/sglang-EAGLE-llama2-chat-7B', speculative_algorithm='EAGLE', speculative_num_steps=5, speculative_num_draft_tokens=64, speculative_eagle_topk=8, enable_double_sparsity=False, ds_channel_config_path=None, ds_heavy_channel_num=32, ds_heavy_token_num=256, ds_heavy_channel_type='qk', ds_sparse_decode_threshold=4096, disable_radix_cache=True, disable_jump_forward=False, disable_cuda_graph=False, disable_cuda_graph_padding=True, disable_outlines_disk_cache=False, disable_custom_all_reduce=False, disable_mla=False, disable_overlap_schedule=True, enable_mixed_chunk=False, enable_dp_attention=False, enable_ep_moe=False, enable_torch_compile=True, torch_compile_max_bs=32, cuda_graph_max_bs=2, cuda_graph_bs=None, torchao_config='', enable_nan_detection=False, enable_p2p_check=False, triton_attention_reduce_in_fp32=False, triton_attention_num_kv_splits=8, num_continuous_decode_steps=1, delete_ckpt_after_loading=False, enable_memory_saver=False, allow_auto_truncate=False, enable_custom_logit_processor=False, tool_call_parser=None, enable_hierarchical_cache=False)\n"
     ]
    },
    {
     "name": "stdout",
     "output_type": "stream",
     "text": [
      "[2025-01-31 12:56:18 TP0] Init torch distributed begin.\n"
     ]
    },
    {
     "name": "stdout",
     "output_type": "stream",
     "text": [
      "[2025-01-31 12:56:19 TP0] Load weight begin. avail mem=78.81 GB\n"
     ]
    },
    {
     "name": "stdout",
     "output_type": "stream",
     "text": [
      "[2025-01-31 12:56:20 TP0] Using model weights format ['*.safetensors']\n",
      "\r",
      "Loading safetensors checkpoint shards:   0% Completed | 0/2 [00:00<?, ?it/s]\n"
     ]
    },
    {
     "name": "stdout",
     "output_type": "stream",
     "text": [
      "\r",
      "Loading safetensors checkpoint shards:  50% Completed | 1/2 [00:00<00:00,  1.92it/s]\n"
     ]
    },
    {
     "name": "stdout",
     "output_type": "stream",
     "text": [
      "\r",
      "Loading safetensors checkpoint shards: 100% Completed | 2/2 [00:02<00:00,  1.25s/it]\n",
      "\r",
      "Loading safetensors checkpoint shards: 100% Completed | 2/2 [00:02<00:00,  1.14s/it]\n",
      "\n",
      "[2025-01-31 12:56:22 TP0] Load weight end. type=LlamaForCausalLM, dtype=torch.float16, avail mem=66.15 GB\n"
     ]
    },
    {
     "name": "stdout",
     "output_type": "stream",
     "text": [
      "[2025-01-31 12:56:22 TP0] KV Cache is allocated. K size: 21.25 GB, V size: 21.25 GB.\n",
      "[2025-01-31 12:56:22 TP0] Memory pool end. avail mem=23.46 GB\n",
      "[2025-01-31 12:56:23 TP0] Capture cuda graph begin. This can take up to several minutes.\n",
      "\r",
      "  0%|          | 0/2 [00:00<?, ?it/s]"
     ]
    },
    {
     "name": "stdout",
     "output_type": "stream",
     "text": [
      "\r",
      " 50%|█████     | 1/2 [00:11<00:11, 11.47s/it]"
     ]
    },
    {
     "name": "stdout",
     "output_type": "stream",
     "text": [
      "\r",
      "100%|██████████| 2/2 [00:19<00:00,  9.42s/it]\r",
      "100%|██████████| 2/2 [00:19<00:00,  9.73s/it]\n",
      "[2025-01-31 12:56:42 TP0] Capture cuda graph end. Time elapsed: 19.47 s\n"
     ]
    },
    {
     "name": "stdout",
     "output_type": "stream",
     "text": [
      "[2025-01-31 12:56:42 TP0] Init torch distributed begin.\n",
      "[2025-01-31 12:56:42 TP0] Load weight begin. avail mem=22.83 GB\n",
      "[2025-01-31 12:56:42 TP0] Using model weights format ['*.bin']\n"
     ]
    },
    {
     "name": "stdout",
     "output_type": "stream",
     "text": [
      "\r",
      "Loading pt checkpoint shards:   0% Completed | 0/1 [00:00<?, ?it/s]\n",
      "/public_sglang_ci/runner-b-gpu-1/_work/sglang/sglang/python/sglang/srt/model_loader/weight_utils.py:447: FutureWarning: You are using `torch.load` with `weights_only=False` (the current default value), which uses the default pickle module implicitly. It is possible to construct malicious pickle data which will execute arbitrary code during unpickling (See https://github.com/pytorch/pytorch/blob/main/SECURITY.md#untrusted-models for more details). In a future release, the default value for `weights_only` will be flipped to `True`. This limits the functions that could be executed during unpickling. Arbitrary objects will no longer be allowed to be loaded via this mode unless they are explicitly allowlisted by the user via `torch.serialization.add_safe_globals`. We recommend you start setting `weights_only=True` for any use case where you don't have full control of the loaded file. Please open an issue on GitHub for any issues related to this experimental feature.\n",
      "  state = torch.load(bin_file, map_location=\"cpu\")\n"
     ]
    },
    {
     "name": "stdout",
     "output_type": "stream",
     "text": [
      "\r",
      "Loading pt checkpoint shards: 100% Completed | 1/1 [00:01<00:00,  1.26s/it]\n",
      "\r",
      "Loading pt checkpoint shards: 100% Completed | 1/1 [00:01<00:00,  1.26s/it]\n",
      "\n",
      "[2025-01-31 12:56:44 TP0] Load weight end. type=LlamaForCausalLMEagle, dtype=torch.float16, avail mem=21.90 GB\n",
      "[2025-01-31 12:56:44 TP0] KV Cache is allocated. K size: 0.82 GB, V size: 0.82 GB.\n",
      "[2025-01-31 12:56:44 TP0] Memory pool end. avail mem=20.19 GB\n",
      "[2025-01-31 12:56:44 TP0] Capture cuda graph begin. This can take up to several minutes.\n",
      "\r",
      "  0%|          | 0/2 [00:00<?, ?it/s]"
     ]
    },
    {
     "name": "stdout",
     "output_type": "stream",
     "text": [
      "\r",
      " 50%|█████     | 1/2 [00:04<00:04,  4.66s/it]"
     ]
    },
    {
     "name": "stdout",
     "output_type": "stream",
     "text": [
      "\r",
      "100%|██████████| 2/2 [00:09<00:00,  4.74s/it]\r",
      "100%|██████████| 2/2 [00:09<00:00,  4.72s/it]\n",
      "[2025-01-31 12:56:53 TP0] Capture cuda graph end. Time elapsed: 9.45 s\n",
      "[2025-01-31 12:56:53 TP0] max_total_num_tokens=87056, chunked_prefill_size=-1, max_prefill_tokens=16384, max_running_requests=4097, context_len=4096\n",
      "[2025-01-31 12:56:54] INFO:     Started server process [3290607]\n",
      "[2025-01-31 12:56:54] INFO:     Waiting for application startup.\n",
      "[2025-01-31 12:56:54] INFO:     Application startup complete.\n",
      "[2025-01-31 12:56:54] INFO:     Uvicorn running on http://127.0.0.1:30020 (Press CTRL+C to quit)\n"
     ]
    },
    {
     "name": "stdout",
     "output_type": "stream",
     "text": [
      "[2025-01-31 12:56:54] INFO:     127.0.0.1:54078 - \"GET /v1/models HTTP/1.1\" 200 OK\n"
     ]
    },
    {
     "name": "stdout",
     "output_type": "stream",
     "text": [
      "[2025-01-31 12:56:54] INFO:     127.0.0.1:54082 - \"GET /get_model_info HTTP/1.1\" 200 OK\n",
      "[2025-01-31 12:56:55 TP0] Prefill batch. #new-seq: 1, #new-token: 7, #cached-token: 0, cache hit rate: 0.00%, token usage: 0.00, #running-req: 0, #queue-req: 0\n"
     ]
    },
    {
     "name": "stdout",
     "output_type": "stream",
     "text": [
      "[2025-01-31 12:56:55] INFO:     127.0.0.1:54088 - \"POST /generate HTTP/1.1\" 200 OK\n",
      "[2025-01-31 12:56:55] The server is fired up and ready to roll!\n"
     ]
    },
    {
     "data": {
      "text/html": [
       "<strong style='color: #00008B;'><br><br>                    NOTE: Typically, the server runs in a separate terminal.<br>                    In this notebook, we run the server and notebook code together, so their outputs are combined.<br>                    To improve clarity, the server logs are displayed in the original black color, while the notebook outputs are highlighted in blue.<br>                    </strong>"
      ],
      "text/plain": [
       "<IPython.core.display.HTML object>"
      ]
     },
     "metadata": {},
     "output_type": "display_data"
    }
   ],
   "source": [
    "server_process = execute_shell_command(\n",
    "    \"\"\"\n",
    "python3 -m sglang.launch_server --model meta-llama/Llama-2-7b-chat-hf  --speculative-algo EAGLE \\\n",
    "    --speculative-draft lmzheng/sglang-EAGLE-llama2-chat-7B --speculative-num-steps 5 \\\n",
    "        --speculative-eagle-topk 8 --speculative-num-draft-tokens 64 --mem-fraction 0.7 \\\n",
    "            --enable-torch-compile --cuda-graph-max-bs 2 --port=30020\n",
    "\"\"\"\n",
    ")\n",
    "\n",
    "wait_for_server(\"http://localhost:30020\")"
   ]
  },
  {
   "cell_type": "markdown",
   "metadata": {},
   "source": [
    "## Benchmark Script\n",
    "\n",
    "The following code example shows how to measure the decoding speed when generating tokens:\n"
   ]
  },
  {
   "cell_type": "code",
   "execution_count": 5,
   "metadata": {
    "execution": {
     "iopub.execute_input": "2025-01-31T12:56:59.691475Z",
     "iopub.status.busy": "2025-01-31T12:56:59.691128Z",
     "iopub.status.idle": "2025-01-31T12:57:00.538615Z",
     "shell.execute_reply": "2025-01-31T12:57:00.538193Z"
    }
   },
   "outputs": [
    {
     "name": "stdout",
     "output_type": "stream",
     "text": [
      "[2025-01-31 12:56:59 TP0] Prefill batch. #new-seq: 1, #new-token: 21, #cached-token: 0, cache hit rate: 0.00%, token usage: 0.00, #running-req: 0, #queue-req: 0\n"
     ]
    },
    {
     "name": "stdout",
     "output_type": "stream",
     "text": [
      "[2025-01-31 12:57:00 TP0] Decode batch. #running-req: 1, #token: 182, token usage: 0.00, accept len: 4.05, gen throughput (token/s): 26.85, #queue-req: 0\n"
     ]
    },
    {
     "name": "stdout",
     "output_type": "stream",
     "text": [
      "[2025-01-31 12:57:00] INFO:     127.0.0.1:38272 - \"POST /generate HTTP/1.1\" 200 OK\n"
     ]
    },
    {
     "data": {
      "text/html": [
       "<strong style='color: #00008B;'>  Sure, here is a simple FastAPI server that returns \"Hello, World!\" when requested:<br>```<br>from fastapi import FastAPI<br><br>app = FastAPI()<br><br>@app.get(\"/\")<br>def read_root():<br>    return {\"message\": \"Hello, World!\"}<br><br>@app.get(\"/{name}\")<br>def read_name(name: str):<br>    return {\"message\": f\"Hello, {name}!\"}<br><br>app.listen(5000, address=\"0.0.0.0\")<br>```<br>Let me explain what's happening in this code:<br><br>* `from fastapi import FastAPI`: This line imports the FastAPI module.<br>* `app = FastAPI()`: This creates a new FastAPI application instance.<br>* `@app.get(\"/\")`: This decorator defines a route for the root URL (\"/\") of the application. The function inside the decorator will be called when the root URL is requested.<br>* `return {\"message\": \"Hello, World!\"}`: This returns a JSON object with a single key-value pair, where the key is \"message\" and the value is \"Hello, World!\".<br></strong>"
      ],
      "text/plain": [
       "<IPython.core.display.HTML object>"
      ]
     },
     "metadata": {},
     "output_type": "display_data"
    },
    {
     "data": {
      "text/html": [
       "<strong style='color: #00008B;'>speed: 304.27 token/s</strong>"
      ],
      "text/plain": [
       "<IPython.core.display.HTML object>"
      ]
     },
     "metadata": {},
     "output_type": "display_data"
    }
   ],
   "source": [
    "import time\n",
    "import requests\n",
    "\n",
    "tic = time.time()\n",
    "response = requests.post(\n",
    "    \"http://localhost:30020/generate\",\n",
    "    json={\n",
    "        \"text\": \"[INST] Give me a simple FastAPI server. Show the python code. [/INST]\",\n",
    "        \"sampling_params\": {\n",
    "            \"temperature\": 0,\n",
    "            \"max_new_tokens\": 256,\n",
    "        },\n",
    "    },\n",
    ")\n",
    "latency = time.time() - tic\n",
    "ret = response.json()\n",
    "completion_text = ret[\"text\"]\n",
    "speed = ret[\"meta_info\"][\"completion_tokens\"] / latency\n",
    "\n",
    "print_highlight(completion_text)\n",
    "print_highlight(f\"speed: {speed:.2f} token/s\")"
   ]
  },
  {
   "cell_type": "code",
   "execution_count": 6,
   "metadata": {
    "execution": {
     "iopub.execute_input": "2025-01-31T12:57:00.540226Z",
     "iopub.status.busy": "2025-01-31T12:57:00.539836Z",
     "iopub.status.idle": "2025-01-31T12:57:00.559726Z",
     "shell.execute_reply": "2025-01-31T12:57:00.559279Z"
    }
   },
   "outputs": [],
   "source": [
    "terminate_process(server_process)"
   ]
  }
 ],
 "metadata": {
  "language_info": {
   "codemirror_mode": {
    "name": "ipython",
    "version": 3
   },
   "file_extension": ".py",
   "mimetype": "text/x-python",
   "name": "python",
   "nbconvert_exporter": "python",
   "pygments_lexer": "ipython3",
   "version": "3.9.21"
  }
 },
 "nbformat": 4,
 "nbformat_minor": 2
}
