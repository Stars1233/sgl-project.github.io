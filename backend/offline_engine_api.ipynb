{
 "cells": [
  {
   "cell_type": "markdown",
   "metadata": {},
   "source": [
    "# Offline Engine API\n",
    "\n",
    "SGLang provides a direct inference engine without the need for an HTTP server, especially for use cases where additional HTTP server adds unnecessary complexity or overhead. Here are two general use cases:\n",
    "\n",
    "- Offline Batch Inference\n",
    "- Custom Server on Top of the Engine\n",
    "\n",
    "This document focuses on the offline batch inference, demonstrating four different inference modes:\n",
    "\n",
    "- Non-streaming synchronous generation\n",
    "- Streaming synchronous generation\n",
    "- Non-streaming asynchronous generation\n",
    "- Streaming asynchronous generation\n",
    "\n",
    "Additionally, you can easily build a custom server on top of the SGLang offline engine. A detailed example working in a python script can be found in [custom_server](https://github.com/sgl-project/sglang/blob/main/examples/runtime/engine/custom_server.py)."
   ]
  },
  {
   "cell_type": "markdown",
   "metadata": {},
   "source": [
    "## Offline Batch Inference\n",
    "\n",
    "SGLang offline engine supports batch inference with efficient scheduling."
   ]
  },
  {
   "cell_type": "code",
   "execution_count": 1,
   "metadata": {
    "execution": {
     "iopub.execute_input": "2025-01-20T13:55:34.947696Z",
     "iopub.status.busy": "2025-01-20T13:55:34.947560Z",
     "iopub.status.idle": "2025-01-20T13:56:17.241924Z",
     "shell.execute_reply": "2025-01-20T13:56:17.241169Z"
    }
   },
   "outputs": [
    {
     "name": "stderr",
     "output_type": "stream",
     "text": [
      "\r",
      "Loading safetensors checkpoint shards:   0% Completed | 0/4 [00:00<?, ?it/s]\n",
      "\r",
      "Loading safetensors checkpoint shards:  25% Completed | 1/4 [00:00<00:00,  5.83it/s]\n"
     ]
    },
    {
     "name": "stderr",
     "output_type": "stream",
     "text": [
      "\r",
      "Loading safetensors checkpoint shards:  50% Completed | 2/4 [00:01<00:01,  1.69it/s]\n"
     ]
    },
    {
     "name": "stderr",
     "output_type": "stream",
     "text": [
      "\r",
      "Loading safetensors checkpoint shards:  75% Completed | 3/4 [00:02<00:00,  1.27it/s]\n"
     ]
    },
    {
     "name": "stderr",
     "output_type": "stream",
     "text": [
      "\r",
      "Loading safetensors checkpoint shards: 100% Completed | 4/4 [00:02<00:00,  1.26it/s]\n",
      "\r",
      "Loading safetensors checkpoint shards: 100% Completed | 4/4 [00:02<00:00,  1.39it/s]\n",
      "\n"
     ]
    },
    {
     "name": "stderr",
     "output_type": "stream",
     "text": [
      "\r",
      "  0%|          | 0/23 [00:00<?, ?it/s]"
     ]
    },
    {
     "name": "stderr",
     "output_type": "stream",
     "text": [
      "\r",
      "  4%|▍         | 1/23 [00:01<00:24,  1.09s/it]"
     ]
    },
    {
     "name": "stderr",
     "output_type": "stream",
     "text": [
      "\r",
      "  9%|▊         | 2/23 [00:01<00:12,  1.68it/s]"
     ]
    },
    {
     "name": "stderr",
     "output_type": "stream",
     "text": [
      "\r",
      " 13%|█▎        | 3/23 [00:01<00:08,  2.38it/s]"
     ]
    },
    {
     "name": "stderr",
     "output_type": "stream",
     "text": [
      "\r",
      " 17%|█▋        | 4/23 [00:01<00:06,  2.99it/s]"
     ]
    },
    {
     "name": "stderr",
     "output_type": "stream",
     "text": [
      "\r",
      " 22%|██▏       | 5/23 [00:01<00:05,  3.45it/s]"
     ]
    },
    {
     "name": "stderr",
     "output_type": "stream",
     "text": [
      "\r",
      " 26%|██▌       | 6/23 [00:02<00:04,  3.73it/s]"
     ]
    },
    {
     "name": "stderr",
     "output_type": "stream",
     "text": [
      "\r",
      " 30%|███       | 7/23 [00:02<00:03,  4.05it/s]"
     ]
    },
    {
     "name": "stderr",
     "output_type": "stream",
     "text": [
      "\r",
      " 35%|███▍      | 8/23 [00:02<00:03,  4.22it/s]\r",
      " 39%|███▉      | 9/23 [00:02<00:03,  4.44it/s]"
     ]
    },
    {
     "name": "stderr",
     "output_type": "stream",
     "text": [
      "\r",
      " 43%|████▎     | 10/23 [00:03<00:02,  4.55it/s]"
     ]
    },
    {
     "name": "stderr",
     "output_type": "stream",
     "text": [
      "\r",
      " 48%|████▊     | 11/23 [00:03<00:02,  4.54it/s]"
     ]
    },
    {
     "name": "stderr",
     "output_type": "stream",
     "text": [
      "\r",
      " 52%|█████▏    | 12/23 [00:03<00:02,  4.62it/s]"
     ]
    },
    {
     "name": "stderr",
     "output_type": "stream",
     "text": [
      "\r",
      " 57%|█████▋    | 13/23 [00:03<00:02,  4.69it/s]"
     ]
    },
    {
     "name": "stderr",
     "output_type": "stream",
     "text": [
      "\r",
      " 61%|██████    | 14/23 [00:03<00:01,  4.71it/s]"
     ]
    },
    {
     "name": "stderr",
     "output_type": "stream",
     "text": [
      "\r",
      " 65%|██████▌   | 15/23 [00:04<00:01,  4.77it/s]"
     ]
    },
    {
     "name": "stderr",
     "output_type": "stream",
     "text": [
      "\r",
      " 70%|██████▉   | 16/23 [00:04<00:01,  4.00it/s]"
     ]
    },
    {
     "name": "stderr",
     "output_type": "stream",
     "text": [
      "\r",
      " 74%|███████▍  | 17/23 [00:04<00:01,  4.06it/s]"
     ]
    },
    {
     "name": "stderr",
     "output_type": "stream",
     "text": [
      "\r",
      " 78%|███████▊  | 18/23 [00:05<00:01,  3.52it/s]"
     ]
    },
    {
     "name": "stderr",
     "output_type": "stream",
     "text": [
      "\r",
      " 83%|████████▎ | 19/23 [00:05<00:01,  3.68it/s]"
     ]
    },
    {
     "name": "stderr",
     "output_type": "stream",
     "text": [
      "\r",
      " 87%|████████▋ | 20/23 [00:05<00:00,  3.88it/s]"
     ]
    },
    {
     "name": "stderr",
     "output_type": "stream",
     "text": [
      "\r",
      " 91%|█████████▏| 21/23 [00:05<00:00,  4.09it/s]\r",
      " 96%|█████████▌| 22/23 [00:05<00:00,  4.36it/s]"
     ]
    },
    {
     "name": "stderr",
     "output_type": "stream",
     "text": [
      "\r",
      "100%|██████████| 23/23 [00:06<00:00,  4.64it/s]\r",
      "100%|██████████| 23/23 [00:06<00:00,  3.78it/s]\n"
     ]
    }
   ],
   "source": [
    "# launch the offline engine\n",
    "\n",
    "import sglang as sgl\n",
    "import asyncio\n",
    "\n",
    "llm = sgl.Engine(model_path=\"meta-llama/Meta-Llama-3.1-8B-Instruct\")"
   ]
  },
  {
   "cell_type": "markdown",
   "metadata": {},
   "source": [
    "### Non-streaming Synchronous Generation"
   ]
  },
  {
   "cell_type": "code",
   "execution_count": 2,
   "metadata": {
    "execution": {
     "iopub.execute_input": "2025-01-20T13:56:17.244553Z",
     "iopub.status.busy": "2025-01-20T13:56:17.244105Z",
     "iopub.status.idle": "2025-01-20T13:56:20.663205Z",
     "shell.execute_reply": "2025-01-20T13:56:20.662339Z"
    }
   },
   "outputs": [
    {
     "name": "stdout",
     "output_type": "stream",
     "text": [
      "===============================\n",
      "Prompt: Hello, my name is\n",
      "Generated text:  Dominiq and I am a passionate traveler and writer. I have been working as a travel writer for many years, traveling to over 40 countries and writing for numerous travel publications.\n",
      "My passion for travel started when I was a child, growing up in a multicultural family. My parents were from different parts of the world, and I was exposed to different cultures and traditions from a young age. This sparked my curiosity and love for exploring new places and meeting new people.\n",
      "Over the years, I have traveled to many parts of the world, from the bustling cities of Asia to the ancient ruins of Europe, and from the vibrant markets of Africa\n",
      "===============================\n",
      "Prompt: The president of the United States is\n",
      "Generated text:  a man, a 45-year-old man named Joe Biden. He is the 46th president of the United States and is a Democrat. He was born on November 20, 1942, in Scranton, Pennsylvania, and grew up in Claymont, Delaware. Biden attended the University of Delaware and Syracuse University College of Law, where he earned his law degree. He has been married to Jill Biden since 1977 and has three children, Beau, Hunter, and Ashley. Biden has served in the United States Senate from 1973 to 2009 and was a vice president under Barack Obama from 2009 to\n",
      "===============================\n",
      "Prompt: The capital of France is\n",
      "Generated text:  home to many famous landmarks and historical sites, but also to some lesser-known gems. Here are a few hidden gems to explore in Paris.\n",
      "If you’re visiting Paris for the first time, you might have already heard of the Louvre Museum, the Eiffel Tower, and the Notre Dame Cathedral. However, beyond these famous attractions, there are many lesser-known gems to discover in the city. Here are a few of them:\n",
      "1. Musée de la Vie Romantique: This small museum is dedicated to the art and history of the Romantic era. It’s located in a beautiful 19th-century building and features an impressive\n",
      "===============================\n",
      "Prompt: The future of AI is\n",
      "Generated text:  not what you think\n",
      "By Marc Perton, published in AI for Business\n",
      "The notion of a robot uprising or a future where artificial intelligence (AI) surpasses human intelligence is often portrayed in science fiction. While these depictions can be compelling, they are largely exaggerated and don't reflect the current state of AI research. In reality, the future of AI is more nuanced and complex.\n",
      "Here are a few reasons why the future of AI is not what you might think:\n",
      "1. AI is a tool, not a replacement: AI is designed to augment human capabilities, not replace them. AI systems can process vast amounts of data, perform\n"
     ]
    }
   ],
   "source": [
    "prompts = [\n",
    "    \"Hello, my name is\",\n",
    "    \"The president of the United States is\",\n",
    "    \"The capital of France is\",\n",
    "    \"The future of AI is\",\n",
    "]\n",
    "\n",
    "sampling_params = {\"temperature\": 0.8, \"top_p\": 0.95}\n",
    "\n",
    "outputs = llm.generate(prompts, sampling_params)\n",
    "for prompt, output in zip(prompts, outputs):\n",
    "    print(\"===============================\")\n",
    "    print(f\"Prompt: {prompt}\\nGenerated text: {output['text']}\")"
   ]
  },
  {
   "cell_type": "markdown",
   "metadata": {},
   "source": [
    "### Streaming Synchronous Generation"
   ]
  },
  {
   "cell_type": "code",
   "execution_count": 3,
   "metadata": {
    "execution": {
     "iopub.execute_input": "2025-01-20T13:56:20.665251Z",
     "iopub.status.busy": "2025-01-20T13:56:20.664915Z",
     "iopub.status.idle": "2025-01-20T13:56:23.617255Z",
     "shell.execute_reply": "2025-01-20T13:56:23.616536Z"
    }
   },
   "outputs": [
    {
     "name": "stdout",
     "output_type": "stream",
     "text": [
      "\n",
      "=== Testing synchronous streaming generation ===\n",
      "\n",
      "Prompt: Hello, my name is\n",
      "Generated text: "
     ]
    },
    {
     "name": "stdout",
     "output_type": "stream",
     "text": [
      " Il"
     ]
    },
    {
     "name": "stdout",
     "output_type": "stream",
     "text": [
      " Ilana"
     ]
    },
    {
     "name": "stdout",
     "output_type": "stream",
     "text": [
      " Ilana and"
     ]
    },
    {
     "name": "stdout",
     "output_type": "stream",
     "text": [
      " Ilana and I"
     ]
    },
    {
     "name": "stdout",
     "output_type": "stream",
     "text": [
      " Ilana and I am"
     ]
    },
    {
     "name": "stdout",
     "output_type": "stream",
     "text": [
      " Ilana and I am a"
     ]
    },
    {
     "name": "stdout",
     "output_type": "stream",
     "text": [
      " Ilana and I am a Post"
     ]
    },
    {
     "name": "stdout",
     "output_type": "stream",
     "text": [
      " Ilana and I am a Postdoctor"
     ]
    },
    {
     "name": "stdout",
     "output_type": "stream",
     "text": [
      " Ilana and I am a Postdoctoral"
     ]
    },
    {
     "name": "stdout",
     "output_type": "stream",
     "text": [
      " Ilana and I am a Postdoctoral Research"
     ]
    },
    {
     "name": "stdout",
     "output_type": "stream",
     "text": [
      " Ilana and I am a Postdoctoral Research Fellow"
     ]
    },
    {
     "name": "stdout",
     "output_type": "stream",
     "text": [
      " Ilana and I am a Postdoctoral Research Fellow at"
     ]
    },
    {
     "name": "stdout",
     "output_type": "stream",
     "text": [
      " Ilana and I am a Postdoctoral Research Fellow at the"
     ]
    },
    {
     "name": "stdout",
     "output_type": "stream",
     "text": [
      " Ilana and I am a Postdoctoral Research Fellow at the University"
     ]
    },
    {
     "name": "stdout",
     "output_type": "stream",
     "text": [
      " Ilana and I am a Postdoctoral Research Fellow at the University of"
     ]
    },
    {
     "name": "stdout",
     "output_type": "stream",
     "text": [
      " Ilana and I am a Postdoctoral Research Fellow at the University of Technology"
     ]
    },
    {
     "name": "stdout",
     "output_type": "stream",
     "text": [
      " Ilana and I am a Postdoctoral Research Fellow at the University of Technology Sydney"
     ]
    },
    {
     "name": "stdout",
     "output_type": "stream",
     "text": [
      " Ilana and I am a Postdoctoral Research Fellow at the University of Technology Sydney,"
     ]
    },
    {
     "name": "stdout",
     "output_type": "stream",
     "text": [
      " Ilana and I am a Postdoctoral Research Fellow at the University of Technology Sydney, in"
     ]
    },
    {
     "name": "stdout",
     "output_type": "stream",
     "text": [
      " Ilana and I am a Postdoctoral Research Fellow at the University of Technology Sydney, in the"
     ]
    },
    {
     "name": "stdout",
     "output_type": "stream",
     "text": [
      " Ilana and I am a Postdoctoral Research Fellow at the University of Technology Sydney, in the School"
     ]
    },
    {
     "name": "stdout",
     "output_type": "stream",
     "text": [
      " Ilana and I am a Postdoctoral Research Fellow at the University of Technology Sydney, in the School of"
     ]
    },
    {
     "name": "stdout",
     "output_type": "stream",
     "text": [
      " Ilana and I am a Postdoctoral Research Fellow at the University of Technology Sydney, in the School of Built"
     ]
    },
    {
     "name": "stdout",
     "output_type": "stream",
     "text": [
      " Ilana and I am a Postdoctoral Research Fellow at the University of Technology Sydney, in the School of Built Environment"
     ]
    },
    {
     "name": "stdout",
     "output_type": "stream",
     "text": [
      " Ilana and I am a Postdoctoral Research Fellow at the University of Technology Sydney, in the School of Built Environment."
     ]
    },
    {
     "name": "stdout",
     "output_type": "stream",
     "text": [
      " Ilana and I am a Postdoctoral Research Fellow at the University of Technology Sydney, in the School of Built Environment. I"
     ]
    },
    {
     "name": "stdout",
     "output_type": "stream",
     "text": [
      " Ilana and I am a Postdoctoral Research Fellow at the University of Technology Sydney, in the School of Built Environment. I am"
     ]
    },
    {
     "name": "stdout",
     "output_type": "stream",
     "text": [
      " Ilana and I am a Postdoctoral Research Fellow at the University of Technology Sydney, in the School of Built Environment. I am an"
     ]
    },
    {
     "name": "stdout",
     "output_type": "stream",
     "text": [
      " Ilana and I am a Postdoctoral Research Fellow at the University of Technology Sydney, in the School of Built Environment. I am an architect"
     ]
    },
    {
     "name": "stdout",
     "output_type": "stream",
     "text": [
      " Ilana and I am a Postdoctoral Research Fellow at the University of Technology Sydney, in the School of Built Environment. I am an architect by"
     ]
    },
    {
     "name": "stdout",
     "output_type": "stream",
     "text": [
      " Ilana and I am a Postdoctoral Research Fellow at the University of Technology Sydney, in the School of Built Environment. I am an architect by training"
     ]
    },
    {
     "name": "stdout",
     "output_type": "stream",
     "text": [
      " Ilana and I am a Postdoctoral Research Fellow at the University of Technology Sydney, in the School of Built Environment. I am an architect by training and"
     ]
    },
    {
     "name": "stdout",
     "output_type": "stream",
     "text": [
      " Ilana and I am a Postdoctoral Research Fellow at the University of Technology Sydney, in the School of Built Environment. I am an architect by training and have"
     ]
    },
    {
     "name": "stdout",
     "output_type": "stream",
     "text": [
      " Ilana and I am a Postdoctoral Research Fellow at the University of Technology Sydney, in the School of Built Environment. I am an architect by training and have a"
     ]
    },
    {
     "name": "stdout",
     "output_type": "stream",
     "text": [
      " Ilana and I am a Postdoctoral Research Fellow at the University of Technology Sydney, in the School of Built Environment. I am an architect by training and have a background"
     ]
    },
    {
     "name": "stdout",
     "output_type": "stream",
     "text": [
      " Ilana and I am a Postdoctoral Research Fellow at the University of Technology Sydney, in the School of Built Environment. I am an architect by training and have a background in"
     ]
    },
    {
     "name": "stdout",
     "output_type": "stream",
     "text": [
      " Ilana and I am a Postdoctoral Research Fellow at the University of Technology Sydney, in the School of Built Environment. I am an architect by training and have a background in architectural"
     ]
    },
    {
     "name": "stdout",
     "output_type": "stream",
     "text": [
      " Ilana and I am a Postdoctoral Research Fellow at the University of Technology Sydney, in the School of Built Environment. I am an architect by training and have a background in architectural design"
     ]
    },
    {
     "name": "stdout",
     "output_type": "stream",
     "text": [
      " Ilana and I am a Postdoctoral Research Fellow at the University of Technology Sydney, in the School of Built Environment. I am an architect by training and have a background in architectural design,"
     ]
    },
    {
     "name": "stdout",
     "output_type": "stream",
     "text": [
      " Ilana and I am a Postdoctoral Research Fellow at the University of Technology Sydney, in the School of Built Environment. I am an architect by training and have a background in architectural design, with"
     ]
    },
    {
     "name": "stdout",
     "output_type": "stream",
     "text": [
      " Ilana and I am a Postdoctoral Research Fellow at the University of Technology Sydney, in the School of Built Environment. I am an architect by training and have a background in architectural design, with a"
     ]
    },
    {
     "name": "stdout",
     "output_type": "stream",
     "text": [
      " Ilana and I am a Postdoctoral Research Fellow at the University of Technology Sydney, in the School of Built Environment. I am an architect by training and have a background in architectural design, with a strong"
     ]
    },
    {
     "name": "stdout",
     "output_type": "stream",
     "text": [
      " Ilana and I am a Postdoctoral Research Fellow at the University of Technology Sydney, in the School of Built Environment. I am an architect by training and have a background in architectural design, with a strong interest"
     ]
    },
    {
     "name": "stdout",
     "output_type": "stream",
     "text": [
      " Ilana and I am a Postdoctoral Research Fellow at the University of Technology Sydney, in the School of Built Environment. I am an architect by training and have a background in architectural design, with a strong interest in"
     ]
    },
    {
     "name": "stdout",
     "output_type": "stream",
     "text": [
      " Ilana and I am a Postdoctoral Research Fellow at the University of Technology Sydney, in the School of Built Environment. I am an architect by training and have a background in architectural design, with a strong interest in sustainability"
     ]
    },
    {
     "name": "stdout",
     "output_type": "stream",
     "text": [
      " Ilana and I am a Postdoctoral Research Fellow at the University of Technology Sydney, in the School of Built Environment. I am an architect by training and have a background in architectural design, with a strong interest in sustainability and"
     ]
    },
    {
     "name": "stdout",
     "output_type": "stream",
     "text": [
      " Ilana and I am a Postdoctoral Research Fellow at the University of Technology Sydney, in the School of Built Environment. I am an architect by training and have a background in architectural design, with a strong interest in sustainability and environmental"
     ]
    },
    {
     "name": "stdout",
     "output_type": "stream",
     "text": [
      " Ilana and I am a Postdoctoral Research Fellow at the University of Technology Sydney, in the School of Built Environment. I am an architect by training and have a background in architectural design, with a strong interest in sustainability and environmental design"
     ]
    },
    {
     "name": "stdout",
     "output_type": "stream",
     "text": [
      " Ilana and I am a Postdoctoral Research Fellow at the University of Technology Sydney, in the School of Built Environment. I am an architect by training and have a background in architectural design, with a strong interest in sustainability and environmental design.\n"
     ]
    },
    {
     "name": "stdout",
     "output_type": "stream",
     "text": [
      " Ilana and I am a Postdoctoral Research Fellow at the University of Technology Sydney, in the School of Built Environment. I am an architect by training and have a background in architectural design, with a strong interest in sustainability and environmental design.\n",
      "My"
     ]
    },
    {
     "name": "stdout",
     "output_type": "stream",
     "text": [
      " Ilana and I am a Postdoctoral Research Fellow at the University of Technology Sydney, in the School of Built Environment. I am an architect by training and have a background in architectural design, with a strong interest in sustainability and environmental design.\n",
      "My research"
     ]
    },
    {
     "name": "stdout",
     "output_type": "stream",
     "text": [
      " Ilana and I am a Postdoctoral Research Fellow at the University of Technology Sydney, in the School of Built Environment. I am an architect by training and have a background in architectural design, with a strong interest in sustainability and environmental design.\n",
      "My research interests"
     ]
    },
    {
     "name": "stdout",
     "output_type": "stream",
     "text": [
      " Ilana and I am a Postdoctoral Research Fellow at the University of Technology Sydney, in the School of Built Environment. I am an architect by training and have a background in architectural design, with a strong interest in sustainability and environmental design.\n",
      "My research interests include"
     ]
    },
    {
     "name": "stdout",
     "output_type": "stream",
     "text": [
      " Ilana and I am a Postdoctoral Research Fellow at the University of Technology Sydney, in the School of Built Environment. I am an architect by training and have a background in architectural design, with a strong interest in sustainability and environmental design.\n",
      "My research interests include the"
     ]
    },
    {
     "name": "stdout",
     "output_type": "stream",
     "text": [
      " Ilana and I am a Postdoctoral Research Fellow at the University of Technology Sydney, in the School of Built Environment. I am an architect by training and have a background in architectural design, with a strong interest in sustainability and environmental design.\n",
      "My research interests include the integration"
     ]
    },
    {
     "name": "stdout",
     "output_type": "stream",
     "text": [
      " Ilana and I am a Postdoctoral Research Fellow at the University of Technology Sydney, in the School of Built Environment. I am an architect by training and have a background in architectural design, with a strong interest in sustainability and environmental design.\n",
      "My research interests include the integration of"
     ]
    },
    {
     "name": "stdout",
     "output_type": "stream",
     "text": [
      " Ilana and I am a Postdoctoral Research Fellow at the University of Technology Sydney, in the School of Built Environment. I am an architect by training and have a background in architectural design, with a strong interest in sustainability and environmental design.\n",
      "My research interests include the integration of natural"
     ]
    },
    {
     "name": "stdout",
     "output_type": "stream",
     "text": [
      " Ilana and I am a Postdoctoral Research Fellow at the University of Technology Sydney, in the School of Built Environment. I am an architect by training and have a background in architectural design, with a strong interest in sustainability and environmental design.\n",
      "My research interests include the integration of natural systems"
     ]
    },
    {
     "name": "stdout",
     "output_type": "stream",
     "text": [
      " Ilana and I am a Postdoctoral Research Fellow at the University of Technology Sydney, in the School of Built Environment. I am an architect by training and have a background in architectural design, with a strong interest in sustainability and environmental design.\n",
      "My research interests include the integration of natural systems and"
     ]
    },
    {
     "name": "stdout",
     "output_type": "stream",
     "text": [
      " Ilana and I am a Postdoctoral Research Fellow at the University of Technology Sydney, in the School of Built Environment. I am an architect by training and have a background in architectural design, with a strong interest in sustainability and environmental design.\n",
      "My research interests include the integration of natural systems and technology"
     ]
    },
    {
     "name": "stdout",
     "output_type": "stream",
     "text": [
      " Ilana and I am a Postdoctoral Research Fellow at the University of Technology Sydney, in the School of Built Environment. I am an architect by training and have a background in architectural design, with a strong interest in sustainability and environmental design.\n",
      "My research interests include the integration of natural systems and technology to"
     ]
    },
    {
     "name": "stdout",
     "output_type": "stream",
     "text": [
      " Ilana and I am a Postdoctoral Research Fellow at the University of Technology Sydney, in the School of Built Environment. I am an architect by training and have a background in architectural design, with a strong interest in sustainability and environmental design.\n",
      "My research interests include the integration of natural systems and technology to improve"
     ]
    },
    {
     "name": "stdout",
     "output_type": "stream",
     "text": [
      " Ilana and I am a Postdoctoral Research Fellow at the University of Technology Sydney, in the School of Built Environment. I am an architect by training and have a background in architectural design, with a strong interest in sustainability and environmental design.\n",
      "My research interests include the integration of natural systems and technology to improve the"
     ]
    },
    {
     "name": "stdout",
     "output_type": "stream",
     "text": [
      " Ilana and I am a Postdoctoral Research Fellow at the University of Technology Sydney, in the School of Built Environment. I am an architect by training and have a background in architectural design, with a strong interest in sustainability and environmental design.\n",
      "My research interests include the integration of natural systems and technology to improve the environmental"
     ]
    },
    {
     "name": "stdout",
     "output_type": "stream",
     "text": [
      " Ilana and I am a Postdoctoral Research Fellow at the University of Technology Sydney, in the School of Built Environment. I am an architect by training and have a background in architectural design, with a strong interest in sustainability and environmental design.\n",
      "My research interests include the integration of natural systems and technology to improve the environmental performance"
     ]
    },
    {
     "name": "stdout",
     "output_type": "stream",
     "text": [
      " Ilana and I am a Postdoctoral Research Fellow at the University of Technology Sydney, in the School of Built Environment. I am an architect by training and have a background in architectural design, with a strong interest in sustainability and environmental design.\n",
      "My research interests include the integration of natural systems and technology to improve the environmental performance of"
     ]
    },
    {
     "name": "stdout",
     "output_type": "stream",
     "text": [
      " Ilana and I am a Postdoctoral Research Fellow at the University of Technology Sydney, in the School of Built Environment. I am an architect by training and have a background in architectural design, with a strong interest in sustainability and environmental design.\n",
      "My research interests include the integration of natural systems and technology to improve the environmental performance of buildings"
     ]
    },
    {
     "name": "stdout",
     "output_type": "stream",
     "text": [
      " Ilana and I am a Postdoctoral Research Fellow at the University of Technology Sydney, in the School of Built Environment. I am an architect by training and have a background in architectural design, with a strong interest in sustainability and environmental design.\n",
      "My research interests include the integration of natural systems and technology to improve the environmental performance of buildings and"
     ]
    },
    {
     "name": "stdout",
     "output_type": "stream",
     "text": [
      " Ilana and I am a Postdoctoral Research Fellow at the University of Technology Sydney, in the School of Built Environment. I am an architect by training and have a background in architectural design, with a strong interest in sustainability and environmental design.\n",
      "My research interests include the integration of natural systems and technology to improve the environmental performance of buildings and urban"
     ]
    },
    {
     "name": "stdout",
     "output_type": "stream",
     "text": [
      " Ilana and I am a Postdoctoral Research Fellow at the University of Technology Sydney, in the School of Built Environment. I am an architect by training and have a background in architectural design, with a strong interest in sustainability and environmental design.\n",
      "My research interests include the integration of natural systems and technology to improve the environmental performance of buildings and urban spaces"
     ]
    },
    {
     "name": "stdout",
     "output_type": "stream",
     "text": [
      " Ilana and I am a Postdoctoral Research Fellow at the University of Technology Sydney, in the School of Built Environment. I am an architect by training and have a background in architectural design, with a strong interest in sustainability and environmental design.\n",
      "My research interests include the integration of natural systems and technology to improve the environmental performance of buildings and urban spaces."
     ]
    },
    {
     "name": "stdout",
     "output_type": "stream",
     "text": [
      " Ilana and I am a Postdoctoral Research Fellow at the University of Technology Sydney, in the School of Built Environment. I am an architect by training and have a background in architectural design, with a strong interest in sustainability and environmental design.\n",
      "My research interests include the integration of natural systems and technology to improve the environmental performance of buildings and urban spaces. Specifically"
     ]
    },
    {
     "name": "stdout",
     "output_type": "stream",
     "text": [
      " Ilana and I am a Postdoctoral Research Fellow at the University of Technology Sydney, in the School of Built Environment. I am an architect by training and have a background in architectural design, with a strong interest in sustainability and environmental design.\n",
      "My research interests include the integration of natural systems and technology to improve the environmental performance of buildings and urban spaces. Specifically,"
     ]
    },
    {
     "name": "stdout",
     "output_type": "stream",
     "text": [
      " Ilana and I am a Postdoctoral Research Fellow at the University of Technology Sydney, in the School of Built Environment. I am an architect by training and have a background in architectural design, with a strong interest in sustainability and environmental design.\n",
      "My research interests include the integration of natural systems and technology to improve the environmental performance of buildings and urban spaces. Specifically, my"
     ]
    },
    {
     "name": "stdout",
     "output_type": "stream",
     "text": [
      " Ilana and I am a Postdoctoral Research Fellow at the University of Technology Sydney, in the School of Built Environment. I am an architect by training and have a background in architectural design, with a strong interest in sustainability and environmental design.\n",
      "My research interests include the integration of natural systems and technology to improve the environmental performance of buildings and urban spaces. Specifically, my research"
     ]
    },
    {
     "name": "stdout",
     "output_type": "stream",
     "text": [
      " Ilana and I am a Postdoctoral Research Fellow at the University of Technology Sydney, in the School of Built Environment. I am an architect by training and have a background in architectural design, with a strong interest in sustainability and environmental design.\n",
      "My research interests include the integration of natural systems and technology to improve the environmental performance of buildings and urban spaces. Specifically, my research focuses"
     ]
    },
    {
     "name": "stdout",
     "output_type": "stream",
     "text": [
      " Ilana and I am a Postdoctoral Research Fellow at the University of Technology Sydney, in the School of Built Environment. I am an architect by training and have a background in architectural design, with a strong interest in sustainability and environmental design.\n",
      "My research interests include the integration of natural systems and technology to improve the environmental performance of buildings and urban spaces. Specifically, my research focuses on"
     ]
    },
    {
     "name": "stdout",
     "output_type": "stream",
     "text": [
      " Ilana and I am a Postdoctoral Research Fellow at the University of Technology Sydney, in the School of Built Environment. I am an architect by training and have a background in architectural design, with a strong interest in sustainability and environmental design.\n",
      "My research interests include the integration of natural systems and technology to improve the environmental performance of buildings and urban spaces. Specifically, my research focuses on the"
     ]
    },
    {
     "name": "stdout",
     "output_type": "stream",
     "text": [
      " Ilana and I am a Postdoctoral Research Fellow at the University of Technology Sydney, in the School of Built Environment. I am an architect by training and have a background in architectural design, with a strong interest in sustainability and environmental design.\n",
      "My research interests include the integration of natural systems and technology to improve the environmental performance of buildings and urban spaces. Specifically, my research focuses on the application"
     ]
    },
    {
     "name": "stdout",
     "output_type": "stream",
     "text": [
      " Ilana and I am a Postdoctoral Research Fellow at the University of Technology Sydney, in the School of Built Environment. I am an architect by training and have a background in architectural design, with a strong interest in sustainability and environmental design.\n",
      "My research interests include the integration of natural systems and technology to improve the environmental performance of buildings and urban spaces. Specifically, my research focuses on the application of"
     ]
    },
    {
     "name": "stdout",
     "output_type": "stream",
     "text": [
      " Ilana and I am a Postdoctoral Research Fellow at the University of Technology Sydney, in the School of Built Environment. I am an architect by training and have a background in architectural design, with a strong interest in sustainability and environmental design.\n",
      "My research interests include the integration of natural systems and technology to improve the environmental performance of buildings and urban spaces. Specifically, my research focuses on the application of advanced"
     ]
    },
    {
     "name": "stdout",
     "output_type": "stream",
     "text": [
      " Ilana and I am a Postdoctoral Research Fellow at the University of Technology Sydney, in the School of Built Environment. I am an architect by training and have a background in architectural design, with a strong interest in sustainability and environmental design.\n",
      "My research interests include the integration of natural systems and technology to improve the environmental performance of buildings and urban spaces. Specifically, my research focuses on the application of advanced materials"
     ]
    },
    {
     "name": "stdout",
     "output_type": "stream",
     "text": [
      " Ilana and I am a Postdoctoral Research Fellow at the University of Technology Sydney, in the School of Built Environment. I am an architect by training and have a background in architectural design, with a strong interest in sustainability and environmental design.\n",
      "My research interests include the integration of natural systems and technology to improve the environmental performance of buildings and urban spaces. Specifically, my research focuses on the application of advanced materials and"
     ]
    },
    {
     "name": "stdout",
     "output_type": "stream",
     "text": [
      " Ilana and I am a Postdoctoral Research Fellow at the University of Technology Sydney, in the School of Built Environment. I am an architect by training and have a background in architectural design, with a strong interest in sustainability and environmental design.\n",
      "My research interests include the integration of natural systems and technology to improve the environmental performance of buildings and urban spaces. Specifically, my research focuses on the application of advanced materials and technologies"
     ]
    },
    {
     "name": "stdout",
     "output_type": "stream",
     "text": [
      " Ilana and I am a Postdoctoral Research Fellow at the University of Technology Sydney, in the School of Built Environment. I am an architect by training and have a background in architectural design, with a strong interest in sustainability and environmental design.\n",
      "My research interests include the integration of natural systems and technology to improve the environmental performance of buildings and urban spaces. Specifically, my research focuses on the application of advanced materials and technologies,"
     ]
    },
    {
     "name": "stdout",
     "output_type": "stream",
     "text": [
      " Ilana and I am a Postdoctoral Research Fellow at the University of Technology Sydney, in the School of Built Environment. I am an architect by training and have a background in architectural design, with a strong interest in sustainability and environmental design.\n",
      "My research interests include the integration of natural systems and technology to improve the environmental performance of buildings and urban spaces. Specifically, my research focuses on the application of advanced materials and technologies, such"
     ]
    },
    {
     "name": "stdout",
     "output_type": "stream",
     "text": [
      " Ilana and I am a Postdoctoral Research Fellow at the University of Technology Sydney, in the School of Built Environment. I am an architect by training and have a background in architectural design, with a strong interest in sustainability and environmental design.\n",
      "My research interests include the integration of natural systems and technology to improve the environmental performance of buildings and urban spaces. Specifically, my research focuses on the application of advanced materials and technologies, such as"
     ]
    },
    {
     "name": "stdout",
     "output_type": "stream",
     "text": [
      " Ilana and I am a Postdoctoral Research Fellow at the University of Technology Sydney, in the School of Built Environment. I am an architect by training and have a background in architectural design, with a strong interest in sustainability and environmental design.\n",
      "My research interests include the integration of natural systems and technology to improve the environmental performance of buildings and urban spaces. Specifically, my research focuses on the application of advanced materials and technologies, such as building"
     ]
    },
    {
     "name": "stdout",
     "output_type": "stream",
     "text": [
      " Ilana and I am a Postdoctoral Research Fellow at the University of Technology Sydney, in the School of Built Environment. I am an architect by training and have a background in architectural design, with a strong interest in sustainability and environmental design.\n",
      "My research interests include the integration of natural systems and technology to improve the environmental performance of buildings and urban spaces. Specifically, my research focuses on the application of advanced materials and technologies, such as building-int"
     ]
    },
    {
     "name": "stdout",
     "output_type": "stream",
     "text": [
      " Ilana and I am a Postdoctoral Research Fellow at the University of Technology Sydney, in the School of Built Environment. I am an architect by training and have a background in architectural design, with a strong interest in sustainability and environmental design.\n",
      "My research interests include the integration of natural systems and technology to improve the environmental performance of buildings and urban spaces. Specifically, my research focuses on the application of advanced materials and technologies, such as building-integrated"
     ]
    },
    {
     "name": "stdout",
     "output_type": "stream",
     "text": [
      " Ilana and I am a Postdoctoral Research Fellow at the University of Technology Sydney, in the School of Built Environment. I am an architect by training and have a background in architectural design, with a strong interest in sustainability and environmental design.\n",
      "My research interests include the integration of natural systems and technology to improve the environmental performance of buildings and urban spaces. Specifically, my research focuses on the application of advanced materials and technologies, such as building-integrated phot"
     ]
    },
    {
     "name": "stdout",
     "output_type": "stream",
     "text": [
      " Ilana and I am a Postdoctoral Research Fellow at the University of Technology Sydney, in the School of Built Environment. I am an architect by training and have a background in architectural design, with a strong interest in sustainability and environmental design.\n",
      "My research interests include the integration of natural systems and technology to improve the environmental performance of buildings and urban spaces. Specifically, my research focuses on the application of advanced materials and technologies, such as building-integrated photovolta"
     ]
    },
    {
     "name": "stdout",
     "output_type": "stream",
     "text": [
      " Ilana and I am a Postdoctoral Research Fellow at the University of Technology Sydney, in the School of Built Environment. I am an architect by training and have a background in architectural design, with a strong interest in sustainability and environmental design.\n",
      "My research interests include the integration of natural systems and technology to improve the environmental performance of buildings and urban spaces. Specifically, my research focuses on the application of advanced materials and technologies, such as building-integrated photovoltaics"
     ]
    },
    {
     "name": "stdout",
     "output_type": "stream",
     "text": [
      " Ilana and I am a Postdoctoral Research Fellow at the University of Technology Sydney, in the School of Built Environment. I am an architect by training and have a background in architectural design, with a strong interest in sustainability and environmental design.\n",
      "My research interests include the integration of natural systems and technology to improve the environmental performance of buildings and urban spaces. Specifically, my research focuses on the application of advanced materials and technologies, such as building-integrated photovoltaics ("
     ]
    },
    {
     "name": "stdout",
     "output_type": "stream",
     "text": [
      " Ilana and I am a Postdoctoral Research Fellow at the University of Technology Sydney, in the School of Built Environment. I am an architect by training and have a background in architectural design, with a strong interest in sustainability and environmental design.\n",
      "My research interests include the integration of natural systems and technology to improve the environmental performance of buildings and urban spaces. Specifically, my research focuses on the application of advanced materials and technologies, such as building-integrated photovoltaics (B"
     ]
    },
    {
     "name": "stdout",
     "output_type": "stream",
     "text": [
      " Ilana and I am a Postdoctoral Research Fellow at the University of Technology Sydney, in the School of Built Environment. I am an architect by training and have a background in architectural design, with a strong interest in sustainability and environmental design.\n",
      "My research interests include the integration of natural systems and technology to improve the environmental performance of buildings and urban spaces. Specifically, my research focuses on the application of advanced materials and technologies, such as building-integrated photovoltaics (BIP"
     ]
    },
    {
     "name": "stdout",
     "output_type": "stream",
     "text": [
      " Ilana and I am a Postdoctoral Research Fellow at the University of Technology Sydney, in the School of Built Environment. I am an architect by training and have a background in architectural design, with a strong interest in sustainability and environmental design.\n",
      "My research interests include the integration of natural systems and technology to improve the environmental performance of buildings and urban spaces. Specifically, my research focuses on the application of advanced materials and technologies, such as building-integrated photovoltaics (BIPV"
     ]
    },
    {
     "name": "stdout",
     "output_type": "stream",
     "text": [
      " Ilana and I am a Postdoctoral Research Fellow at the University of Technology Sydney, in the School of Built Environment. I am an architect by training and have a background in architectural design, with a strong interest in sustainability and environmental design.\n",
      "My research interests include the integration of natural systems and technology to improve the environmental performance of buildings and urban spaces. Specifically, my research focuses on the application of advanced materials and technologies, such as building-integrated photovoltaics (BIPV),"
     ]
    },
    {
     "name": "stdout",
     "output_type": "stream",
     "text": [
      " Ilana and I am a Postdoctoral Research Fellow at the University of Technology Sydney, in the School of Built Environment. I am an architect by training and have a background in architectural design, with a strong interest in sustainability and environmental design.\n",
      "My research interests include the integration of natural systems and technology to improve the environmental performance of buildings and urban spaces. Specifically, my research focuses on the application of advanced materials and technologies, such as building-integrated photovoltaics (BIPV), daylight"
     ]
    },
    {
     "name": "stdout",
     "output_type": "stream",
     "text": [
      " Ilana and I am a Postdoctoral Research Fellow at the University of Technology Sydney, in the School of Built Environment. I am an architect by training and have a background in architectural design, with a strong interest in sustainability and environmental design.\n",
      "My research interests include the integration of natural systems and technology to improve the environmental performance of buildings and urban spaces. Specifically, my research focuses on the application of advanced materials and technologies, such as building-integrated photovoltaics (BIPV), daylighting"
     ]
    },
    {
     "name": "stdout",
     "output_type": "stream",
     "text": [
      " Ilana and I am a Postdoctoral Research Fellow at the University of Technology Sydney, in the School of Built Environment. I am an architect by training and have a background in architectural design, with a strong interest in sustainability and environmental design.\n",
      "My research interests include the integration of natural systems and technology to improve the environmental performance of buildings and urban spaces. Specifically, my research focuses on the application of advanced materials and technologies, such as building-integrated photovoltaics (BIPV), daylighting and"
     ]
    },
    {
     "name": "stdout",
     "output_type": "stream",
     "text": [
      " Ilana and I am a Postdoctoral Research Fellow at the University of Technology Sydney, in the School of Built Environment. I am an architect by training and have a background in architectural design, with a strong interest in sustainability and environmental design.\n",
      "My research interests include the integration of natural systems and technology to improve the environmental performance of buildings and urban spaces. Specifically, my research focuses on the application of advanced materials and technologies, such as building-integrated photovoltaics (BIPV), daylighting and passive"
     ]
    },
    {
     "name": "stdout",
     "output_type": "stream",
     "text": [
      " Ilana and I am a Postdoctoral Research Fellow at the University of Technology Sydney, in the School of Built Environment. I am an architect by training and have a background in architectural design, with a strong interest in sustainability and environmental design.\n",
      "My research interests include the integration of natural systems and technology to improve the environmental performance of buildings and urban spaces. Specifically, my research focuses on the application of advanced materials and technologies, such as building-integrated photovoltaics (BIPV), daylighting and passive heating"
     ]
    },
    {
     "name": "stdout",
     "output_type": "stream",
     "text": [
      " Ilana and I am a Postdoctoral Research Fellow at the University of Technology Sydney, in the School of Built Environment. I am an architect by training and have a background in architectural design, with a strong interest in sustainability and environmental design.\n",
      "My research interests include the integration of natural systems and technology to improve the environmental performance of buildings and urban spaces. Specifically, my research focuses on the application of advanced materials and technologies, such as building-integrated photovoltaics (BIPV), daylighting and passive heating and"
     ]
    },
    {
     "name": "stdout",
     "output_type": "stream",
     "text": [
      " Ilana and I am a Postdoctoral Research Fellow at the University of Technology Sydney, in the School of Built Environment. I am an architect by training and have a background in architectural design, with a strong interest in sustainability and environmental design.\n",
      "My research interests include the integration of natural systems and technology to improve the environmental performance of buildings and urban spaces. Specifically, my research focuses on the application of advanced materials and technologies, such as building-integrated photovoltaics (BIPV), daylighting and passive heating and cooling"
     ]
    },
    {
     "name": "stdout",
     "output_type": "stream",
     "text": [
      " Ilana and I am a Postdoctoral Research Fellow at the University of Technology Sydney, in the School of Built Environment. I am an architect by training and have a background in architectural design, with a strong interest in sustainability and environmental design.\n",
      "My research interests include the integration of natural systems and technology to improve the environmental performance of buildings and urban spaces. Specifically, my research focuses on the application of advanced materials and technologies, such as building-integrated photovoltaics (BIPV), daylighting and passive heating and cooling systems"
     ]
    },
    {
     "name": "stdout",
     "output_type": "stream",
     "text": [
      " Ilana and I am a Postdoctoral Research Fellow at the University of Technology Sydney, in the School of Built Environment. I am an architect by training and have a background in architectural design, with a strong interest in sustainability and environmental design.\n",
      "My research interests include the integration of natural systems and technology to improve the environmental performance of buildings and urban spaces. Specifically, my research focuses on the application of advanced materials and technologies, such as building-integrated photovoltaics (BIPV), daylighting and passive heating and cooling systems,"
     ]
    },
    {
     "name": "stdout",
     "output_type": "stream",
     "text": [
      " Ilana and I am a Postdoctoral Research Fellow at the University of Technology Sydney, in the School of Built Environment. I am an architect by training and have a background in architectural design, with a strong interest in sustainability and environmental design.\n",
      "My research interests include the integration of natural systems and technology to improve the environmental performance of buildings and urban spaces. Specifically, my research focuses on the application of advanced materials and technologies, such as building-integrated photovoltaics (BIPV), daylighting and passive heating and cooling systems, to"
     ]
    },
    {
     "name": "stdout",
     "output_type": "stream",
     "text": [
      " Ilana and I am a Postdoctoral Research Fellow at the University of Technology Sydney, in the School of Built Environment. I am an architect by training and have a background in architectural design, with a strong interest in sustainability and environmental design.\n",
      "My research interests include the integration of natural systems and technology to improve the environmental performance of buildings and urban spaces. Specifically, my research focuses on the application of advanced materials and technologies, such as building-integrated photovoltaics (BIPV), daylighting and passive heating and cooling systems, to achieve"
     ]
    },
    {
     "name": "stdout",
     "output_type": "stream",
     "text": [
      " Ilana and I am a Postdoctoral Research Fellow at the University of Technology Sydney, in the School of Built Environment. I am an architect by training and have a background in architectural design, with a strong interest in sustainability and environmental design.\n",
      "My research interests include the integration of natural systems and technology to improve the environmental performance of buildings and urban spaces. Specifically, my research focuses on the application of advanced materials and technologies, such as building-integrated photovoltaics (BIPV), daylighting and passive heating and cooling systems, to achieve net"
     ]
    },
    {
     "name": "stdout",
     "output_type": "stream",
     "text": [
      " Ilana and I am a Postdoctoral Research Fellow at the University of Technology Sydney, in the School of Built Environment. I am an architect by training and have a background in architectural design, with a strong interest in sustainability and environmental design.\n",
      "My research interests include the integration of natural systems and technology to improve the environmental performance of buildings and urban spaces. Specifically, my research focuses on the application of advanced materials and technologies, such as building-integrated photovoltaics (BIPV), daylighting and passive heating and cooling systems, to achieve net-zero"
     ]
    },
    {
     "name": "stdout",
     "output_type": "stream",
     "text": [
      " Ilana and I am a Postdoctoral Research Fellow at the University of Technology Sydney, in the School of Built Environment. I am an architect by training and have a background in architectural design, with a strong interest in sustainability and environmental design.\n",
      "My research interests include the integration of natural systems and technology to improve the environmental performance of buildings and urban spaces. Specifically, my research focuses on the application of advanced materials and technologies, such as building-integrated photovoltaics (BIPV), daylighting and passive heating and cooling systems, to achieve net-zero energy"
     ]
    },
    {
     "name": "stdout",
     "output_type": "stream",
     "text": [
      " Ilana and I am a Postdoctoral Research Fellow at the University of Technology Sydney, in the School of Built Environment. I am an architect by training and have a background in architectural design, with a strong interest in sustainability and environmental design.\n",
      "My research interests include the integration of natural systems and technology to improve the environmental performance of buildings and urban spaces. Specifically, my research focuses on the application of advanced materials and technologies, such as building-integrated photovoltaics (BIPV), daylighting and passive heating and cooling systems, to achieve net-zero energy and"
     ]
    },
    {
     "name": "stdout",
     "output_type": "stream",
     "text": [
      " Ilana and I am a Postdoctoral Research Fellow at the University of Technology Sydney, in the School of Built Environment. I am an architect by training and have a background in architectural design, with a strong interest in sustainability and environmental design.\n",
      "My research interests include the integration of natural systems and technology to improve the environmental performance of buildings and urban spaces. Specifically, my research focuses on the application of advanced materials and technologies, such as building-integrated photovoltaics (BIPV), daylighting and passive heating and cooling systems, to achieve net-zero energy and carbon"
     ]
    },
    {
     "name": "stdout",
     "output_type": "stream",
     "text": [
      " Ilana and I am a Postdoctoral Research Fellow at the University of Technology Sydney, in the School of Built Environment. I am an architect by training and have a background in architectural design, with a strong interest in sustainability and environmental design.\n",
      "My research interests include the integration of natural systems and technology to improve the environmental performance of buildings and urban spaces. Specifically, my research focuses on the application of advanced materials and technologies, such as building-integrated photovoltaics (BIPV), daylighting and passive heating and cooling systems, to achieve net-zero energy and carbon emissions"
     ]
    },
    {
     "name": "stdout",
     "output_type": "stream",
     "text": [
      " Ilana and I am a Postdoctoral Research Fellow at the University of Technology Sydney, in the School of Built Environment. I am an architect by training and have a background in architectural design, with a strong interest in sustainability and environmental design.\n",
      "My research interests include the integration of natural systems and technology to improve the environmental performance of buildings and urban spaces. Specifically, my research focuses on the application of advanced materials and technologies, such as building-integrated photovoltaics (BIPV), daylighting and passive heating and cooling systems, to achieve net-zero energy and carbon emissions in"
     ]
    },
    {
     "name": "stdout",
     "output_type": "stream",
     "text": [
      " Ilana and I am a Postdoctoral Research Fellow at the University of Technology Sydney, in the School of Built Environment. I am an architect by training and have a background in architectural design, with a strong interest in sustainability and environmental design.\n",
      "My research interests include the integration of natural systems and technology to improve the environmental performance of buildings and urban spaces. Specifically, my research focuses on the application of advanced materials and technologies, such as building-integrated photovoltaics (BIPV), daylighting and passive heating and cooling systems, to achieve net-zero energy and carbon emissions in buildings"
     ]
    },
    {
     "name": "stdout",
     "output_type": "stream",
     "text": [
      " Ilana and I am a Postdoctoral Research Fellow at the University of Technology Sydney, in the School of Built Environment. I am an architect by training and have a background in architectural design, with a strong interest in sustainability and environmental design.\n",
      "My research interests include the integration of natural systems and technology to improve the environmental performance of buildings and urban spaces. Specifically, my research focuses on the application of advanced materials and technologies, such as building-integrated photovoltaics (BIPV), daylighting and passive heating and cooling systems, to achieve net-zero energy and carbon emissions in buildings.\n"
     ]
    },
    {
     "name": "stdout",
     "output_type": "stream",
     "text": [
      " Ilana and I am a Postdoctoral Research Fellow at the University of Technology Sydney, in the School of Built Environment. I am an architect by training and have a background in architectural design, with a strong interest in sustainability and environmental design.\n",
      "My research interests include the integration of natural systems and technology to improve the environmental performance of buildings and urban spaces. Specifically, my research focuses on the application of advanced materials and technologies, such as building-integrated photovoltaics (BIPV), daylighting and passive heating and cooling systems, to achieve net-zero energy and carbon emissions in buildings.\n",
      "I"
     ]
    },
    {
     "name": "stdout",
     "output_type": "stream",
     "text": [
      " Ilana and I am a Postdoctoral Research Fellow at the University of Technology Sydney, in the School of Built Environment. I am an architect by training and have a background in architectural design, with a strong interest in sustainability and environmental design.\n",
      "My research interests include the integration of natural systems and technology to improve the environmental performance of buildings and urban spaces. Specifically, my research focuses on the application of advanced materials and technologies, such as building-integrated photovoltaics (BIPV), daylighting and passive heating and cooling systems, to achieve net-zero energy and carbon emissions in buildings.\n",
      "I am"
     ]
    },
    {
     "name": "stdout",
     "output_type": "stream",
     "text": [
      " Ilana and I am a Postdoctoral Research Fellow at the University of Technology Sydney, in the School of Built Environment. I am an architect by training and have a background in architectural design, with a strong interest in sustainability and environmental design.\n",
      "My research interests include the integration of natural systems and technology to improve the environmental performance of buildings and urban spaces. Specifically, my research focuses on the application of advanced materials and technologies, such as building-integrated photovoltaics (BIPV), daylighting and passive heating and cooling systems, to achieve net-zero energy and carbon emissions in buildings.\n",
      "I am also"
     ]
    },
    {
     "name": "stdout",
     "output_type": "stream",
     "text": [
      " Ilana and I am a Postdoctoral Research Fellow at the University of Technology Sydney, in the School of Built Environment. I am an architect by training and have a background in architectural design, with a strong interest in sustainability and environmental design.\n",
      "My research interests include the integration of natural systems and technology to improve the environmental performance of buildings and urban spaces. Specifically, my research focuses on the application of advanced materials and technologies, such as building-integrated photovoltaics (BIPV), daylighting and passive heating and cooling systems, to achieve net-zero energy and carbon emissions in buildings.\n",
      "I am also interested"
     ]
    },
    {
     "name": "stdout",
     "output_type": "stream",
     "text": [
      " Ilana and I am a Postdoctoral Research Fellow at the University of Technology Sydney, in the School of Built Environment. I am an architect by training and have a background in architectural design, with a strong interest in sustainability and environmental design.\n",
      "My research interests include the integration of natural systems and technology to improve the environmental performance of buildings and urban spaces. Specifically, my research focuses on the application of advanced materials and technologies, such as building-integrated photovoltaics (BIPV), daylighting and passive heating and cooling systems, to achieve net-zero energy and carbon emissions in buildings.\n",
      "I am also interested in"
     ]
    },
    {
     "name": "stdout",
     "output_type": "stream",
     "text": [
      " Ilana and I am a Postdoctoral Research Fellow at the University of Technology Sydney, in the School of Built Environment. I am an architect by training and have a background in architectural design, with a strong interest in sustainability and environmental design.\n",
      "My research interests include the integration of natural systems and technology to improve the environmental performance of buildings and urban spaces. Specifically, my research focuses on the application of advanced materials and technologies, such as building-integrated photovoltaics (BIPV), daylighting and passive heating and cooling systems, to achieve net-zero energy and carbon emissions in buildings.\n",
      "I am also interested in the"
     ]
    },
    {
     "name": "stdout",
     "output_type": "stream",
     "text": [
      " Ilana and I am a Postdoctoral Research Fellow at the University of Technology Sydney, in the School of Built Environment. I am an architect by training and have a background in architectural design, with a strong interest in sustainability and environmental design.\n",
      "My research interests include the integration of natural systems and technology to improve the environmental performance of buildings and urban spaces. Specifically, my research focuses on the application of advanced materials and technologies, such as building-integrated photovoltaics (BIPV), daylighting and passive heating and cooling systems, to achieve net-zero energy and carbon emissions in buildings.\n",
      "I am also interested in the role"
     ]
    },
    {
     "name": "stdout",
     "output_type": "stream",
     "text": [
      " Ilana and I am a Postdoctoral Research Fellow at the University of Technology Sydney, in the School of Built Environment. I am an architect by training and have a background in architectural design, with a strong interest in sustainability and environmental design.\n",
      "My research interests include the integration of natural systems and technology to improve the environmental performance of buildings and urban spaces. Specifically, my research focuses on the application of advanced materials and technologies, such as building-integrated photovoltaics (BIPV), daylighting and passive heating and cooling systems, to achieve net-zero energy and carbon emissions in buildings.\n",
      "I am also interested in the role of"
     ]
    },
    {
     "name": "stdout",
     "output_type": "stream",
     "text": [
      " Ilana and I am a Postdoctoral Research Fellow at the University of Technology Sydney, in the School of Built Environment. I am an architect by training and have a background in architectural design, with a strong interest in sustainability and environmental design.\n",
      "My research interests include the integration of natural systems and technology to improve the environmental performance of buildings and urban spaces. Specifically, my research focuses on the application of advanced materials and technologies, such as building-integrated photovoltaics (BIPV), daylighting and passive heating and cooling systems, to achieve net-zero energy and carbon emissions in buildings.\n",
      "I am also interested in the role of building"
     ]
    },
    {
     "name": "stdout",
     "output_type": "stream",
     "text": [
      " Ilana and I am a Postdoctoral Research Fellow at the University of Technology Sydney, in the School of Built Environment. I am an architect by training and have a background in architectural design, with a strong interest in sustainability and environmental design.\n",
      "My research interests include the integration of natural systems and technology to improve the environmental performance of buildings and urban spaces. Specifically, my research focuses on the application of advanced materials and technologies, such as building-integrated photovoltaics (BIPV), daylighting and passive heating and cooling systems, to achieve net-zero energy and carbon emissions in buildings.\n",
      "I am also interested in the role of building information"
     ]
    },
    {
     "name": "stdout",
     "output_type": "stream",
     "text": [
      "\n",
      "\n",
      "Prompt: The capital of France is\n",
      "Generated text: "
     ]
    },
    {
     "name": "stdout",
     "output_type": "stream",
     "text": [
      " Paris"
     ]
    },
    {
     "name": "stdout",
     "output_type": "stream",
     "text": [
      " Paris,"
     ]
    },
    {
     "name": "stdout",
     "output_type": "stream",
     "text": [
      " Paris, but"
     ]
    },
    {
     "name": "stdout",
     "output_type": "stream",
     "text": [
      " Paris, but have"
     ]
    },
    {
     "name": "stdout",
     "output_type": "stream",
     "text": [
      " Paris, but have you"
     ]
    },
    {
     "name": "stdout",
     "output_type": "stream",
     "text": [
      " Paris, but have you ever"
     ]
    },
    {
     "name": "stdout",
     "output_type": "stream",
     "text": [
      " Paris, but have you ever wondered"
     ]
    },
    {
     "name": "stdout",
     "output_type": "stream",
     "text": [
      " Paris, but have you ever wondered what"
     ]
    },
    {
     "name": "stdout",
     "output_type": "stream",
     "text": [
      " Paris, but have you ever wondered what the"
     ]
    },
    {
     "name": "stdout",
     "output_type": "stream",
     "text": [
      " Paris, but have you ever wondered what the capital"
     ]
    },
    {
     "name": "stdout",
     "output_type": "stream",
     "text": [
      " Paris, but have you ever wondered what the capital of"
     ]
    },
    {
     "name": "stdout",
     "output_type": "stream",
     "text": [
      " Paris, but have you ever wondered what the capital of France"
     ]
    },
    {
     "name": "stdout",
     "output_type": "stream",
     "text": [
      " Paris, but have you ever wondered what the capital of France in"
     ]
    },
    {
     "name": "stdout",
     "output_type": "stream",
     "text": [
      " Paris, but have you ever wondered what the capital of France in the"
     ]
    },
    {
     "name": "stdout",
     "output_type": "stream",
     "text": [
      " Paris, but have you ever wondered what the capital of France in the Middle"
     ]
    },
    {
     "name": "stdout",
     "output_type": "stream",
     "text": [
      " Paris, but have you ever wondered what the capital of France in the Middle Ages"
     ]
    },
    {
     "name": "stdout",
     "output_type": "stream",
     "text": [
      " Paris, but have you ever wondered what the capital of France in the Middle Ages was"
     ]
    },
    {
     "name": "stdout",
     "output_type": "stream",
     "text": [
      " Paris, but have you ever wondered what the capital of France in the Middle Ages was?"
     ]
    },
    {
     "name": "stdout",
     "output_type": "stream",
     "text": [
      " Paris, but have you ever wondered what the capital of France in the Middle Ages was? The"
     ]
    },
    {
     "name": "stdout",
     "output_type": "stream",
     "text": [
      " Paris, but have you ever wondered what the capital of France in the Middle Ages was? The answer"
     ]
    },
    {
     "name": "stdout",
     "output_type": "stream",
     "text": [
      " Paris, but have you ever wondered what the capital of France in the Middle Ages was? The answer is"
     ]
    },
    {
     "name": "stdout",
     "output_type": "stream",
     "text": [
      " Paris, but have you ever wondered what the capital of France in the Middle Ages was? The answer is a"
     ]
    },
    {
     "name": "stdout",
     "output_type": "stream",
     "text": [
      " Paris, but have you ever wondered what the capital of France in the Middle Ages was? The answer is a bit"
     ]
    },
    {
     "name": "stdout",
     "output_type": "stream",
     "text": [
      " Paris, but have you ever wondered what the capital of France in the Middle Ages was? The answer is a bit complicated"
     ]
    },
    {
     "name": "stdout",
     "output_type": "stream",
     "text": [
      " Paris, but have you ever wondered what the capital of France in the Middle Ages was? The answer is a bit complicated."
     ]
    },
    {
     "name": "stdout",
     "output_type": "stream",
     "text": [
      " Paris, but have you ever wondered what the capital of France in the Middle Ages was? The answer is a bit complicated. While"
     ]
    },
    {
     "name": "stdout",
     "output_type": "stream",
     "text": [
      " Paris, but have you ever wondered what the capital of France in the Middle Ages was? The answer is a bit complicated. While Paris"
     ]
    },
    {
     "name": "stdout",
     "output_type": "stream",
     "text": [
      " Paris, but have you ever wondered what the capital of France in the Middle Ages was? The answer is a bit complicated. While Paris became"
     ]
    },
    {
     "name": "stdout",
     "output_type": "stream",
     "text": [
      " Paris, but have you ever wondered what the capital of France in the Middle Ages was? The answer is a bit complicated. While Paris became the"
     ]
    },
    {
     "name": "stdout",
     "output_type": "stream",
     "text": [
      " Paris, but have you ever wondered what the capital of France in the Middle Ages was? The answer is a bit complicated. While Paris became the capital"
     ]
    },
    {
     "name": "stdout",
     "output_type": "stream",
     "text": [
      " Paris, but have you ever wondered what the capital of France in the Middle Ages was? The answer is a bit complicated. While Paris became the capital of"
     ]
    },
    {
     "name": "stdout",
     "output_type": "stream",
     "text": [
      " Paris, but have you ever wondered what the capital of France in the Middle Ages was? The answer is a bit complicated. While Paris became the capital of France"
     ]
    },
    {
     "name": "stdout",
     "output_type": "stream",
     "text": [
      " Paris, but have you ever wondered what the capital of France in the Middle Ages was? The answer is a bit complicated. While Paris became the capital of France in"
     ]
    },
    {
     "name": "stdout",
     "output_type": "stream",
     "text": [
      " Paris, but have you ever wondered what the capital of France in the Middle Ages was? The answer is a bit complicated. While Paris became the capital of France in the"
     ]
    },
    {
     "name": "stdout",
     "output_type": "stream",
     "text": [
      " Paris, but have you ever wondered what the capital of France in the Middle Ages was? The answer is a bit complicated. While Paris became the capital of France in the "
     ]
    },
    {
     "name": "stdout",
     "output_type": "stream",
     "text": [
      " Paris, but have you ever wondered what the capital of France in the Middle Ages was? The answer is a bit complicated. While Paris became the capital of France in the 12"
     ]
    },
    {
     "name": "stdout",
     "output_type": "stream",
     "text": [
      " Paris, but have you ever wondered what the capital of France in the Middle Ages was? The answer is a bit complicated. While Paris became the capital of France in the 12th"
     ]
    },
    {
     "name": "stdout",
     "output_type": "stream",
     "text": [
      " Paris, but have you ever wondered what the capital of France in the Middle Ages was? The answer is a bit complicated. While Paris became the capital of France in the 12th century"
     ]
    },
    {
     "name": "stdout",
     "output_type": "stream",
     "text": [
      " Paris, but have you ever wondered what the capital of France in the Middle Ages was? The answer is a bit complicated. While Paris became the capital of France in the 12th century,"
     ]
    },
    {
     "name": "stdout",
     "output_type": "stream",
     "text": [
      " Paris, but have you ever wondered what the capital of France in the Middle Ages was? The answer is a bit complicated. While Paris became the capital of France in the 12th century, the"
     ]
    },
    {
     "name": "stdout",
     "output_type": "stream",
     "text": [
      " Paris, but have you ever wondered what the capital of France in the Middle Ages was? The answer is a bit complicated. While Paris became the capital of France in the 12th century, the title"
     ]
    },
    {
     "name": "stdout",
     "output_type": "stream",
     "text": [
      " Paris, but have you ever wondered what the capital of France in the Middle Ages was? The answer is a bit complicated. While Paris became the capital of France in the 12th century, the title of"
     ]
    },
    {
     "name": "stdout",
     "output_type": "stream",
     "text": [
      " Paris, but have you ever wondered what the capital of France in the Middle Ages was? The answer is a bit complicated. While Paris became the capital of France in the 12th century, the title of capital"
     ]
    },
    {
     "name": "stdout",
     "output_type": "stream",
     "text": [
      " Paris, but have you ever wondered what the capital of France in the Middle Ages was? The answer is a bit complicated. While Paris became the capital of France in the 12th century, the title of capital was"
     ]
    },
    {
     "name": "stdout",
     "output_type": "stream",
     "text": [
      " Paris, but have you ever wondered what the capital of France in the Middle Ages was? The answer is a bit complicated. While Paris became the capital of France in the 12th century, the title of capital was not"
     ]
    },
    {
     "name": "stdout",
     "output_type": "stream",
     "text": [
      " Paris, but have you ever wondered what the capital of France in the Middle Ages was? The answer is a bit complicated. While Paris became the capital of France in the 12th century, the title of capital was not solely"
     ]
    },
    {
     "name": "stdout",
     "output_type": "stream",
     "text": [
      " Paris, but have you ever wondered what the capital of France in the Middle Ages was? The answer is a bit complicated. While Paris became the capital of France in the 12th century, the title of capital was not solely exclusive"
     ]
    },
    {
     "name": "stdout",
     "output_type": "stream",
     "text": [
      " Paris, but have you ever wondered what the capital of France in the Middle Ages was? The answer is a bit complicated. While Paris became the capital of France in the 12th century, the title of capital was not solely exclusive to"
     ]
    },
    {
     "name": "stdout",
     "output_type": "stream",
     "text": [
      " Paris, but have you ever wondered what the capital of France in the Middle Ages was? The answer is a bit complicated. While Paris became the capital of France in the 12th century, the title of capital was not solely exclusive to Paris"
     ]
    },
    {
     "name": "stdout",
     "output_type": "stream",
     "text": [
      " Paris, but have you ever wondered what the capital of France in the Middle Ages was? The answer is a bit complicated. While Paris became the capital of France in the 12th century, the title of capital was not solely exclusive to Paris during"
     ]
    },
    {
     "name": "stdout",
     "output_type": "stream",
     "text": [
      " Paris, but have you ever wondered what the capital of France in the Middle Ages was? The answer is a bit complicated. While Paris became the capital of France in the 12th century, the title of capital was not solely exclusive to Paris during the"
     ]
    },
    {
     "name": "stdout",
     "output_type": "stream",
     "text": [
      " Paris, but have you ever wondered what the capital of France in the Middle Ages was? The answer is a bit complicated. While Paris became the capital of France in the 12th century, the title of capital was not solely exclusive to Paris during the Middle"
     ]
    },
    {
     "name": "stdout",
     "output_type": "stream",
     "text": [
      " Paris, but have you ever wondered what the capital of France in the Middle Ages was? The answer is a bit complicated. While Paris became the capital of France in the 12th century, the title of capital was not solely exclusive to Paris during the Middle Ages"
     ]
    },
    {
     "name": "stdout",
     "output_type": "stream",
     "text": [
      " Paris, but have you ever wondered what the capital of France in the Middle Ages was? The answer is a bit complicated. While Paris became the capital of France in the 12th century, the title of capital was not solely exclusive to Paris during the Middle Ages."
     ]
    },
    {
     "name": "stdout",
     "output_type": "stream",
     "text": [
      " Paris, but have you ever wondered what the capital of France in the Middle Ages was? The answer is a bit complicated. While Paris became the capital of France in the 12th century, the title of capital was not solely exclusive to Paris during the Middle Ages. In"
     ]
    },
    {
     "name": "stdout",
     "output_type": "stream",
     "text": [
      " Paris, but have you ever wondered what the capital of France in the Middle Ages was? The answer is a bit complicated. While Paris became the capital of France in the 12th century, the title of capital was not solely exclusive to Paris during the Middle Ages. In the"
     ]
    },
    {
     "name": "stdout",
     "output_type": "stream",
     "text": [
      " Paris, but have you ever wondered what the capital of France in the Middle Ages was? The answer is a bit complicated. While Paris became the capital of France in the 12th century, the title of capital was not solely exclusive to Paris during the Middle Ages. In the early"
     ]
    },
    {
     "name": "stdout",
     "output_type": "stream",
     "text": [
      " Paris, but have you ever wondered what the capital of France in the Middle Ages was? The answer is a bit complicated. While Paris became the capital of France in the 12th century, the title of capital was not solely exclusive to Paris during the Middle Ages. In the early Middle"
     ]
    },
    {
     "name": "stdout",
     "output_type": "stream",
     "text": [
      " Paris, but have you ever wondered what the capital of France in the Middle Ages was? The answer is a bit complicated. While Paris became the capital of France in the 12th century, the title of capital was not solely exclusive to Paris during the Middle Ages. In the early Middle Ages"
     ]
    },
    {
     "name": "stdout",
     "output_type": "stream",
     "text": [
      " Paris, but have you ever wondered what the capital of France in the Middle Ages was? The answer is a bit complicated. While Paris became the capital of France in the 12th century, the title of capital was not solely exclusive to Paris during the Middle Ages. In the early Middle Ages,"
     ]
    },
    {
     "name": "stdout",
     "output_type": "stream",
     "text": [
      " Paris, but have you ever wondered what the capital of France in the Middle Ages was? The answer is a bit complicated. While Paris became the capital of France in the 12th century, the title of capital was not solely exclusive to Paris during the Middle Ages. In the early Middle Ages, the"
     ]
    },
    {
     "name": "stdout",
     "output_type": "stream",
     "text": [
      " Paris, but have you ever wondered what the capital of France in the Middle Ages was? The answer is a bit complicated. While Paris became the capital of France in the 12th century, the title of capital was not solely exclusive to Paris during the Middle Ages. In the early Middle Ages, the Fr"
     ]
    },
    {
     "name": "stdout",
     "output_type": "stream",
     "text": [
      " Paris, but have you ever wondered what the capital of France in the Middle Ages was? The answer is a bit complicated. While Paris became the capital of France in the 12th century, the title of capital was not solely exclusive to Paris during the Middle Ages. In the early Middle Ages, the Franks"
     ]
    },
    {
     "name": "stdout",
     "output_type": "stream",
     "text": [
      " Paris, but have you ever wondered what the capital of France in the Middle Ages was? The answer is a bit complicated. While Paris became the capital of France in the 12th century, the title of capital was not solely exclusive to Paris during the Middle Ages. In the early Middle Ages, the Franks had"
     ]
    },
    {
     "name": "stdout",
     "output_type": "stream",
     "text": [
      " Paris, but have you ever wondered what the capital of France in the Middle Ages was? The answer is a bit complicated. While Paris became the capital of France in the 12th century, the title of capital was not solely exclusive to Paris during the Middle Ages. In the early Middle Ages, the Franks had several"
     ]
    },
    {
     "name": "stdout",
     "output_type": "stream",
     "text": [
      " Paris, but have you ever wondered what the capital of France in the Middle Ages was? The answer is a bit complicated. While Paris became the capital of France in the 12th century, the title of capital was not solely exclusive to Paris during the Middle Ages. In the early Middle Ages, the Franks had several capitals"
     ]
    },
    {
     "name": "stdout",
     "output_type": "stream",
     "text": [
      " Paris, but have you ever wondered what the capital of France in the Middle Ages was? The answer is a bit complicated. While Paris became the capital of France in the 12th century, the title of capital was not solely exclusive to Paris during the Middle Ages. In the early Middle Ages, the Franks had several capitals,"
     ]
    },
    {
     "name": "stdout",
     "output_type": "stream",
     "text": [
      " Paris, but have you ever wondered what the capital of France in the Middle Ages was? The answer is a bit complicated. While Paris became the capital of France in the 12th century, the title of capital was not solely exclusive to Paris during the Middle Ages. In the early Middle Ages, the Franks had several capitals, including"
     ]
    },
    {
     "name": "stdout",
     "output_type": "stream",
     "text": [
      " Paris, but have you ever wondered what the capital of France in the Middle Ages was? The answer is a bit complicated. While Paris became the capital of France in the 12th century, the title of capital was not solely exclusive to Paris during the Middle Ages. In the early Middle Ages, the Franks had several capitals, including So"
     ]
    },
    {
     "name": "stdout",
     "output_type": "stream",
     "text": [
      " Paris, but have you ever wondered what the capital of France in the Middle Ages was? The answer is a bit complicated. While Paris became the capital of France in the 12th century, the title of capital was not solely exclusive to Paris during the Middle Ages. In the early Middle Ages, the Franks had several capitals, including Sois"
     ]
    },
    {
     "name": "stdout",
     "output_type": "stream",
     "text": [
      " Paris, but have you ever wondered what the capital of France in the Middle Ages was? The answer is a bit complicated. While Paris became the capital of France in the 12th century, the title of capital was not solely exclusive to Paris during the Middle Ages. In the early Middle Ages, the Franks had several capitals, including Soissons"
     ]
    },
    {
     "name": "stdout",
     "output_type": "stream",
     "text": [
      " Paris, but have you ever wondered what the capital of France in the Middle Ages was? The answer is a bit complicated. While Paris became the capital of France in the 12th century, the title of capital was not solely exclusive to Paris during the Middle Ages. In the early Middle Ages, the Franks had several capitals, including Soissons,"
     ]
    },
    {
     "name": "stdout",
     "output_type": "stream",
     "text": [
      " Paris, but have you ever wondered what the capital of France in the Middle Ages was? The answer is a bit complicated. While Paris became the capital of France in the 12th century, the title of capital was not solely exclusive to Paris during the Middle Ages. In the early Middle Ages, the Franks had several capitals, including Soissons, Re"
     ]
    },
    {
     "name": "stdout",
     "output_type": "stream",
     "text": [
      " Paris, but have you ever wondered what the capital of France in the Middle Ages was? The answer is a bit complicated. While Paris became the capital of France in the 12th century, the title of capital was not solely exclusive to Paris during the Middle Ages. In the early Middle Ages, the Franks had several capitals, including Soissons, Reims"
     ]
    },
    {
     "name": "stdout",
     "output_type": "stream",
     "text": [
      " Paris, but have you ever wondered what the capital of France in the Middle Ages was? The answer is a bit complicated. While Paris became the capital of France in the 12th century, the title of capital was not solely exclusive to Paris during the Middle Ages. In the early Middle Ages, the Franks had several capitals, including Soissons, Reims,"
     ]
    },
    {
     "name": "stdout",
     "output_type": "stream",
     "text": [
      " Paris, but have you ever wondered what the capital of France in the Middle Ages was? The answer is a bit complicated. While Paris became the capital of France in the 12th century, the title of capital was not solely exclusive to Paris during the Middle Ages. In the early Middle Ages, the Franks had several capitals, including Soissons, Reims, and"
     ]
    },
    {
     "name": "stdout",
     "output_type": "stream",
     "text": [
      " Paris, but have you ever wondered what the capital of France in the Middle Ages was? The answer is a bit complicated. While Paris became the capital of France in the 12th century, the title of capital was not solely exclusive to Paris during the Middle Ages. In the early Middle Ages, the Franks had several capitals, including Soissons, Reims, and Paris"
     ]
    },
    {
     "name": "stdout",
     "output_type": "stream",
     "text": [
      " Paris, but have you ever wondered what the capital of France in the Middle Ages was? The answer is a bit complicated. While Paris became the capital of France in the 12th century, the title of capital was not solely exclusive to Paris during the Middle Ages. In the early Middle Ages, the Franks had several capitals, including Soissons, Reims, and Paris."
     ]
    },
    {
     "name": "stdout",
     "output_type": "stream",
     "text": [
      " Paris, but have you ever wondered what the capital of France in the Middle Ages was? The answer is a bit complicated. While Paris became the capital of France in the 12th century, the title of capital was not solely exclusive to Paris during the Middle Ages. In the early Middle Ages, the Franks had several capitals, including Soissons, Reims, and Paris. The"
     ]
    },
    {
     "name": "stdout",
     "output_type": "stream",
     "text": [
      " Paris, but have you ever wondered what the capital of France in the Middle Ages was? The answer is a bit complicated. While Paris became the capital of France in the 12th century, the title of capital was not solely exclusive to Paris during the Middle Ages. In the early Middle Ages, the Franks had several capitals, including Soissons, Reims, and Paris. The title"
     ]
    },
    {
     "name": "stdout",
     "output_type": "stream",
     "text": [
      " Paris, but have you ever wondered what the capital of France in the Middle Ages was? The answer is a bit complicated. While Paris became the capital of France in the 12th century, the title of capital was not solely exclusive to Paris during the Middle Ages. In the early Middle Ages, the Franks had several capitals, including Soissons, Reims, and Paris. The title of"
     ]
    },
    {
     "name": "stdout",
     "output_type": "stream",
     "text": [
      " Paris, but have you ever wondered what the capital of France in the Middle Ages was? The answer is a bit complicated. While Paris became the capital of France in the 12th century, the title of capital was not solely exclusive to Paris during the Middle Ages. In the early Middle Ages, the Franks had several capitals, including Soissons, Reims, and Paris. The title of capital"
     ]
    },
    {
     "name": "stdout",
     "output_type": "stream",
     "text": [
      " Paris, but have you ever wondered what the capital of France in the Middle Ages was? The answer is a bit complicated. While Paris became the capital of France in the 12th century, the title of capital was not solely exclusive to Paris during the Middle Ages. In the early Middle Ages, the Franks had several capitals, including Soissons, Reims, and Paris. The title of capital was"
     ]
    },
    {
     "name": "stdout",
     "output_type": "stream",
     "text": [
      " Paris, but have you ever wondered what the capital of France in the Middle Ages was? The answer is a bit complicated. While Paris became the capital of France in the 12th century, the title of capital was not solely exclusive to Paris during the Middle Ages. In the early Middle Ages, the Franks had several capitals, including Soissons, Reims, and Paris. The title of capital was often"
     ]
    },
    {
     "name": "stdout",
     "output_type": "stream",
     "text": [
      " Paris, but have you ever wondered what the capital of France in the Middle Ages was? The answer is a bit complicated. While Paris became the capital of France in the 12th century, the title of capital was not solely exclusive to Paris during the Middle Ages. In the early Middle Ages, the Franks had several capitals, including Soissons, Reims, and Paris. The title of capital was often shared"
     ]
    },
    {
     "name": "stdout",
     "output_type": "stream",
     "text": [
      " Paris, but have you ever wondered what the capital of France in the Middle Ages was? The answer is a bit complicated. While Paris became the capital of France in the 12th century, the title of capital was not solely exclusive to Paris during the Middle Ages. In the early Middle Ages, the Franks had several capitals, including Soissons, Reims, and Paris. The title of capital was often shared between"
     ]
    },
    {
     "name": "stdout",
     "output_type": "stream",
     "text": [
      " Paris, but have you ever wondered what the capital of France in the Middle Ages was? The answer is a bit complicated. While Paris became the capital of France in the 12th century, the title of capital was not solely exclusive to Paris during the Middle Ages. In the early Middle Ages, the Franks had several capitals, including Soissons, Reims, and Paris. The title of capital was often shared between cities"
     ]
    },
    {
     "name": "stdout",
     "output_type": "stream",
     "text": [
      " Paris, but have you ever wondered what the capital of France in the Middle Ages was? The answer is a bit complicated. While Paris became the capital of France in the 12th century, the title of capital was not solely exclusive to Paris during the Middle Ages. In the early Middle Ages, the Franks had several capitals, including Soissons, Reims, and Paris. The title of capital was often shared between cities,"
     ]
    },
    {
     "name": "stdout",
     "output_type": "stream",
     "text": [
      " Paris, but have you ever wondered what the capital of France in the Middle Ages was? The answer is a bit complicated. While Paris became the capital of France in the 12th century, the title of capital was not solely exclusive to Paris during the Middle Ages. In the early Middle Ages, the Franks had several capitals, including Soissons, Reims, and Paris. The title of capital was often shared between cities, depending"
     ]
    },
    {
     "name": "stdout",
     "output_type": "stream",
     "text": [
      " Paris, but have you ever wondered what the capital of France in the Middle Ages was? The answer is a bit complicated. While Paris became the capital of France in the 12th century, the title of capital was not solely exclusive to Paris during the Middle Ages. In the early Middle Ages, the Franks had several capitals, including Soissons, Reims, and Paris. The title of capital was often shared between cities, depending on"
     ]
    },
    {
     "name": "stdout",
     "output_type": "stream",
     "text": [
      " Paris, but have you ever wondered what the capital of France in the Middle Ages was? The answer is a bit complicated. While Paris became the capital of France in the 12th century, the title of capital was not solely exclusive to Paris during the Middle Ages. In the early Middle Ages, the Franks had several capitals, including Soissons, Reims, and Paris. The title of capital was often shared between cities, depending on the"
     ]
    },
    {
     "name": "stdout",
     "output_type": "stream",
     "text": [
      " Paris, but have you ever wondered what the capital of France in the Middle Ages was? The answer is a bit complicated. While Paris became the capital of France in the 12th century, the title of capital was not solely exclusive to Paris during the Middle Ages. In the early Middle Ages, the Franks had several capitals, including Soissons, Reims, and Paris. The title of capital was often shared between cities, depending on the king"
     ]
    },
    {
     "name": "stdout",
     "output_type": "stream",
     "text": [
      " Paris, but have you ever wondered what the capital of France in the Middle Ages was? The answer is a bit complicated. While Paris became the capital of France in the 12th century, the title of capital was not solely exclusive to Paris during the Middle Ages. In the early Middle Ages, the Franks had several capitals, including Soissons, Reims, and Paris. The title of capital was often shared between cities, depending on the king's"
     ]
    },
    {
     "name": "stdout",
     "output_type": "stream",
     "text": [
      " Paris, but have you ever wondered what the capital of France in the Middle Ages was? The answer is a bit complicated. While Paris became the capital of France in the 12th century, the title of capital was not solely exclusive to Paris during the Middle Ages. In the early Middle Ages, the Franks had several capitals, including Soissons, Reims, and Paris. The title of capital was often shared between cities, depending on the king's preferences"
     ]
    },
    {
     "name": "stdout",
     "output_type": "stream",
     "text": [
      " Paris, but have you ever wondered what the capital of France in the Middle Ages was? The answer is a bit complicated. While Paris became the capital of France in the 12th century, the title of capital was not solely exclusive to Paris during the Middle Ages. In the early Middle Ages, the Franks had several capitals, including Soissons, Reims, and Paris. The title of capital was often shared between cities, depending on the king's preferences or"
     ]
    },
    {
     "name": "stdout",
     "output_type": "stream",
     "text": [
      " Paris, but have you ever wondered what the capital of France in the Middle Ages was? The answer is a bit complicated. While Paris became the capital of France in the 12th century, the title of capital was not solely exclusive to Paris during the Middle Ages. In the early Middle Ages, the Franks had several capitals, including Soissons, Reims, and Paris. The title of capital was often shared between cities, depending on the king's preferences or the"
     ]
    },
    {
     "name": "stdout",
     "output_type": "stream",
     "text": [
      " Paris, but have you ever wondered what the capital of France in the Middle Ages was? The answer is a bit complicated. While Paris became the capital of France in the 12th century, the title of capital was not solely exclusive to Paris during the Middle Ages. In the early Middle Ages, the Franks had several capitals, including Soissons, Reims, and Paris. The title of capital was often shared between cities, depending on the king's preferences or the importance"
     ]
    },
    {
     "name": "stdout",
     "output_type": "stream",
     "text": [
      " Paris, but have you ever wondered what the capital of France in the Middle Ages was? The answer is a bit complicated. While Paris became the capital of France in the 12th century, the title of capital was not solely exclusive to Paris during the Middle Ages. In the early Middle Ages, the Franks had several capitals, including Soissons, Reims, and Paris. The title of capital was often shared between cities, depending on the king's preferences or the importance of"
     ]
    },
    {
     "name": "stdout",
     "output_type": "stream",
     "text": [
      " Paris, but have you ever wondered what the capital of France in the Middle Ages was? The answer is a bit complicated. While Paris became the capital of France in the 12th century, the title of capital was not solely exclusive to Paris during the Middle Ages. In the early Middle Ages, the Franks had several capitals, including Soissons, Reims, and Paris. The title of capital was often shared between cities, depending on the king's preferences or the importance of the"
     ]
    },
    {
     "name": "stdout",
     "output_type": "stream",
     "text": [
      " Paris, but have you ever wondered what the capital of France in the Middle Ages was? The answer is a bit complicated. While Paris became the capital of France in the 12th century, the title of capital was not solely exclusive to Paris during the Middle Ages. In the early Middle Ages, the Franks had several capitals, including Soissons, Reims, and Paris. The title of capital was often shared between cities, depending on the king's preferences or the importance of the city"
     ]
    },
    {
     "name": "stdout",
     "output_type": "stream",
     "text": [
      " Paris, but have you ever wondered what the capital of France in the Middle Ages was? The answer is a bit complicated. While Paris became the capital of France in the 12th century, the title of capital was not solely exclusive to Paris during the Middle Ages. In the early Middle Ages, the Franks had several capitals, including Soissons, Reims, and Paris. The title of capital was often shared between cities, depending on the king's preferences or the importance of the city at"
     ]
    },
    {
     "name": "stdout",
     "output_type": "stream",
     "text": [
      " Paris, but have you ever wondered what the capital of France in the Middle Ages was? The answer is a bit complicated. While Paris became the capital of France in the 12th century, the title of capital was not solely exclusive to Paris during the Middle Ages. In the early Middle Ages, the Franks had several capitals, including Soissons, Reims, and Paris. The title of capital was often shared between cities, depending on the king's preferences or the importance of the city at a"
     ]
    },
    {
     "name": "stdout",
     "output_type": "stream",
     "text": [
      " Paris, but have you ever wondered what the capital of France in the Middle Ages was? The answer is a bit complicated. While Paris became the capital of France in the 12th century, the title of capital was not solely exclusive to Paris during the Middle Ages. In the early Middle Ages, the Franks had several capitals, including Soissons, Reims, and Paris. The title of capital was often shared between cities, depending on the king's preferences or the importance of the city at a particular"
     ]
    },
    {
     "name": "stdout",
     "output_type": "stream",
     "text": [
      " Paris, but have you ever wondered what the capital of France in the Middle Ages was? The answer is a bit complicated. While Paris became the capital of France in the 12th century, the title of capital was not solely exclusive to Paris during the Middle Ages. In the early Middle Ages, the Franks had several capitals, including Soissons, Reims, and Paris. The title of capital was often shared between cities, depending on the king's preferences or the importance of the city at a particular time"
     ]
    },
    {
     "name": "stdout",
     "output_type": "stream",
     "text": [
      " Paris, but have you ever wondered what the capital of France in the Middle Ages was? The answer is a bit complicated. While Paris became the capital of France in the 12th century, the title of capital was not solely exclusive to Paris during the Middle Ages. In the early Middle Ages, the Franks had several capitals, including Soissons, Reims, and Paris. The title of capital was often shared between cities, depending on the king's preferences or the importance of the city at a particular time.\n"
     ]
    },
    {
     "name": "stdout",
     "output_type": "stream",
     "text": [
      " Paris, but have you ever wondered what the capital of France in the Middle Ages was? The answer is a bit complicated. While Paris became the capital of France in the 12th century, the title of capital was not solely exclusive to Paris during the Middle Ages. In the early Middle Ages, the Franks had several capitals, including Soissons, Reims, and Paris. The title of capital was often shared between cities, depending on the king's preferences or the importance of the city at a particular time.\n",
      "One"
     ]
    },
    {
     "name": "stdout",
     "output_type": "stream",
     "text": [
      " Paris, but have you ever wondered what the capital of France in the Middle Ages was? The answer is a bit complicated. While Paris became the capital of France in the 12th century, the title of capital was not solely exclusive to Paris during the Middle Ages. In the early Middle Ages, the Franks had several capitals, including Soissons, Reims, and Paris. The title of capital was often shared between cities, depending on the king's preferences or the importance of the city at a particular time.\n",
      "One of"
     ]
    },
    {
     "name": "stdout",
     "output_type": "stream",
     "text": [
      " Paris, but have you ever wondered what the capital of France in the Middle Ages was? The answer is a bit complicated. While Paris became the capital of France in the 12th century, the title of capital was not solely exclusive to Paris during the Middle Ages. In the early Middle Ages, the Franks had several capitals, including Soissons, Reims, and Paris. The title of capital was often shared between cities, depending on the king's preferences or the importance of the city at a particular time.\n",
      "One of the"
     ]
    },
    {
     "name": "stdout",
     "output_type": "stream",
     "text": [
      " Paris, but have you ever wondered what the capital of France in the Middle Ages was? The answer is a bit complicated. While Paris became the capital of France in the 12th century, the title of capital was not solely exclusive to Paris during the Middle Ages. In the early Middle Ages, the Franks had several capitals, including Soissons, Reims, and Paris. The title of capital was often shared between cities, depending on the king's preferences or the importance of the city at a particular time.\n",
      "One of the earliest"
     ]
    },
    {
     "name": "stdout",
     "output_type": "stream",
     "text": [
      " Paris, but have you ever wondered what the capital of France in the Middle Ages was? The answer is a bit complicated. While Paris became the capital of France in the 12th century, the title of capital was not solely exclusive to Paris during the Middle Ages. In the early Middle Ages, the Franks had several capitals, including Soissons, Reims, and Paris. The title of capital was often shared between cities, depending on the king's preferences or the importance of the city at a particular time.\n",
      "One of the earliest capitals"
     ]
    },
    {
     "name": "stdout",
     "output_type": "stream",
     "text": [
      " Paris, but have you ever wondered what the capital of France in the Middle Ages was? The answer is a bit complicated. While Paris became the capital of France in the 12th century, the title of capital was not solely exclusive to Paris during the Middle Ages. In the early Middle Ages, the Franks had several capitals, including Soissons, Reims, and Paris. The title of capital was often shared between cities, depending on the king's preferences or the importance of the city at a particular time.\n",
      "One of the earliest capitals of"
     ]
    },
    {
     "name": "stdout",
     "output_type": "stream",
     "text": [
      " Paris, but have you ever wondered what the capital of France in the Middle Ages was? The answer is a bit complicated. While Paris became the capital of France in the 12th century, the title of capital was not solely exclusive to Paris during the Middle Ages. In the early Middle Ages, the Franks had several capitals, including Soissons, Reims, and Paris. The title of capital was often shared between cities, depending on the king's preferences or the importance of the city at a particular time.\n",
      "One of the earliest capitals of the"
     ]
    },
    {
     "name": "stdout",
     "output_type": "stream",
     "text": [
      " Paris, but have you ever wondered what the capital of France in the Middle Ages was? The answer is a bit complicated. While Paris became the capital of France in the 12th century, the title of capital was not solely exclusive to Paris during the Middle Ages. In the early Middle Ages, the Franks had several capitals, including Soissons, Reims, and Paris. The title of capital was often shared between cities, depending on the king's preferences or the importance of the city at a particular time.\n",
      "One of the earliest capitals of the Frank"
     ]
    },
    {
     "name": "stdout",
     "output_type": "stream",
     "text": [
      " Paris, but have you ever wondered what the capital of France in the Middle Ages was? The answer is a bit complicated. While Paris became the capital of France in the 12th century, the title of capital was not solely exclusive to Paris during the Middle Ages. In the early Middle Ages, the Franks had several capitals, including Soissons, Reims, and Paris. The title of capital was often shared between cities, depending on the king's preferences or the importance of the city at a particular time.\n",
      "One of the earliest capitals of the Frankish"
     ]
    },
    {
     "name": "stdout",
     "output_type": "stream",
     "text": [
      " Paris, but have you ever wondered what the capital of France in the Middle Ages was? The answer is a bit complicated. While Paris became the capital of France in the 12th century, the title of capital was not solely exclusive to Paris during the Middle Ages. In the early Middle Ages, the Franks had several capitals, including Soissons, Reims, and Paris. The title of capital was often shared between cities, depending on the king's preferences or the importance of the city at a particular time.\n",
      "One of the earliest capitals of the Frankish Kingdom"
     ]
    },
    {
     "name": "stdout",
     "output_type": "stream",
     "text": [
      " Paris, but have you ever wondered what the capital of France in the Middle Ages was? The answer is a bit complicated. While Paris became the capital of France in the 12th century, the title of capital was not solely exclusive to Paris during the Middle Ages. In the early Middle Ages, the Franks had several capitals, including Soissons, Reims, and Paris. The title of capital was often shared between cities, depending on the king's preferences or the importance of the city at a particular time.\n",
      "One of the earliest capitals of the Frankish Kingdom was"
     ]
    },
    {
     "name": "stdout",
     "output_type": "stream",
     "text": [
      " Paris, but have you ever wondered what the capital of France in the Middle Ages was? The answer is a bit complicated. While Paris became the capital of France in the 12th century, the title of capital was not solely exclusive to Paris during the Middle Ages. In the early Middle Ages, the Franks had several capitals, including Soissons, Reims, and Paris. The title of capital was often shared between cities, depending on the king's preferences or the importance of the city at a particular time.\n",
      "One of the earliest capitals of the Frankish Kingdom was So"
     ]
    },
    {
     "name": "stdout",
     "output_type": "stream",
     "text": [
      " Paris, but have you ever wondered what the capital of France in the Middle Ages was? The answer is a bit complicated. While Paris became the capital of France in the 12th century, the title of capital was not solely exclusive to Paris during the Middle Ages. In the early Middle Ages, the Franks had several capitals, including Soissons, Reims, and Paris. The title of capital was often shared between cities, depending on the king's preferences or the importance of the city at a particular time.\n",
      "One of the earliest capitals of the Frankish Kingdom was Sois"
     ]
    },
    {
     "name": "stdout",
     "output_type": "stream",
     "text": [
      " Paris, but have you ever wondered what the capital of France in the Middle Ages was? The answer is a bit complicated. While Paris became the capital of France in the 12th century, the title of capital was not solely exclusive to Paris during the Middle Ages. In the early Middle Ages, the Franks had several capitals, including Soissons, Reims, and Paris. The title of capital was often shared between cities, depending on the king's preferences or the importance of the city at a particular time.\n",
      "One of the earliest capitals of the Frankish Kingdom was Soissons"
     ]
    },
    {
     "name": "stdout",
     "output_type": "stream",
     "text": [
      " Paris, but have you ever wondered what the capital of France in the Middle Ages was? The answer is a bit complicated. While Paris became the capital of France in the 12th century, the title of capital was not solely exclusive to Paris during the Middle Ages. In the early Middle Ages, the Franks had several capitals, including Soissons, Reims, and Paris. The title of capital was often shared between cities, depending on the king's preferences or the importance of the city at a particular time.\n",
      "One of the earliest capitals of the Frankish Kingdom was Soissons,"
     ]
    },
    {
     "name": "stdout",
     "output_type": "stream",
     "text": [
      " Paris, but have you ever wondered what the capital of France in the Middle Ages was? The answer is a bit complicated. While Paris became the capital of France in the 12th century, the title of capital was not solely exclusive to Paris during the Middle Ages. In the early Middle Ages, the Franks had several capitals, including Soissons, Reims, and Paris. The title of capital was often shared between cities, depending on the king's preferences or the importance of the city at a particular time.\n",
      "One of the earliest capitals of the Frankish Kingdom was Soissons, which"
     ]
    },
    {
     "name": "stdout",
     "output_type": "stream",
     "text": [
      " Paris, but have you ever wondered what the capital of France in the Middle Ages was? The answer is a bit complicated. While Paris became the capital of France in the 12th century, the title of capital was not solely exclusive to Paris during the Middle Ages. In the early Middle Ages, the Franks had several capitals, including Soissons, Reims, and Paris. The title of capital was often shared between cities, depending on the king's preferences or the importance of the city at a particular time.\n",
      "One of the earliest capitals of the Frankish Kingdom was Soissons, which was"
     ]
    },
    {
     "name": "stdout",
     "output_type": "stream",
     "text": [
      " Paris, but have you ever wondered what the capital of France in the Middle Ages was? The answer is a bit complicated. While Paris became the capital of France in the 12th century, the title of capital was not solely exclusive to Paris during the Middle Ages. In the early Middle Ages, the Franks had several capitals, including Soissons, Reims, and Paris. The title of capital was often shared between cities, depending on the king's preferences or the importance of the city at a particular time.\n",
      "One of the earliest capitals of the Frankish Kingdom was Soissons, which was a"
     ]
    },
    {
     "name": "stdout",
     "output_type": "stream",
     "text": [
      " Paris, but have you ever wondered what the capital of France in the Middle Ages was? The answer is a bit complicated. While Paris became the capital of France in the 12th century, the title of capital was not solely exclusive to Paris during the Middle Ages. In the early Middle Ages, the Franks had several capitals, including Soissons, Reims, and Paris. The title of capital was often shared between cities, depending on the king's preferences or the importance of the city at a particular time.\n",
      "One of the earliest capitals of the Frankish Kingdom was Soissons, which was a key"
     ]
    },
    {
     "name": "stdout",
     "output_type": "stream",
     "text": [
      " Paris, but have you ever wondered what the capital of France in the Middle Ages was? The answer is a bit complicated. While Paris became the capital of France in the 12th century, the title of capital was not solely exclusive to Paris during the Middle Ages. In the early Middle Ages, the Franks had several capitals, including Soissons, Reims, and Paris. The title of capital was often shared between cities, depending on the king's preferences or the importance of the city at a particular time.\n",
      "One of the earliest capitals of the Frankish Kingdom was Soissons, which was a key city"
     ]
    },
    {
     "name": "stdout",
     "output_type": "stream",
     "text": [
      " Paris, but have you ever wondered what the capital of France in the Middle Ages was? The answer is a bit complicated. While Paris became the capital of France in the 12th century, the title of capital was not solely exclusive to Paris during the Middle Ages. In the early Middle Ages, the Franks had several capitals, including Soissons, Reims, and Paris. The title of capital was often shared between cities, depending on the king's preferences or the importance of the city at a particular time.\n",
      "One of the earliest capitals of the Frankish Kingdom was Soissons, which was a key city in"
     ]
    },
    {
     "name": "stdout",
     "output_type": "stream",
     "text": [
      " Paris, but have you ever wondered what the capital of France in the Middle Ages was? The answer is a bit complicated. While Paris became the capital of France in the 12th century, the title of capital was not solely exclusive to Paris during the Middle Ages. In the early Middle Ages, the Franks had several capitals, including Soissons, Reims, and Paris. The title of capital was often shared between cities, depending on the king's preferences or the importance of the city at a particular time.\n",
      "One of the earliest capitals of the Frankish Kingdom was Soissons, which was a key city in the"
     ]
    },
    {
     "name": "stdout",
     "output_type": "stream",
     "text": [
      " Paris, but have you ever wondered what the capital of France in the Middle Ages was? The answer is a bit complicated. While Paris became the capital of France in the 12th century, the title of capital was not solely exclusive to Paris during the Middle Ages. In the early Middle Ages, the Franks had several capitals, including Soissons, Reims, and Paris. The title of capital was often shared between cities, depending on the king's preferences or the importance of the city at a particular time.\n",
      "One of the earliest capitals of the Frankish Kingdom was Soissons, which was a key city in the "
     ]
    },
    {
     "name": "stdout",
     "output_type": "stream",
     "text": [
      "\n",
      "\n",
      "Prompt: The future of AI is\n",
      "Generated text: "
     ]
    },
    {
     "name": "stdout",
     "output_type": "stream",
     "text": [
      " now"
     ]
    },
    {
     "name": "stdout",
     "output_type": "stream",
     "text": [
      " now,"
     ]
    },
    {
     "name": "stdout",
     "output_type": "stream",
     "text": [
      " now, and"
     ]
    },
    {
     "name": "stdout",
     "output_type": "stream",
     "text": [
      " now, and it"
     ]
    },
    {
     "name": "stdout",
     "output_type": "stream",
     "text": [
      " now, and it's"
     ]
    },
    {
     "name": "stdout",
     "output_type": "stream",
     "text": [
      " now, and it's closer"
     ]
    },
    {
     "name": "stdout",
     "output_type": "stream",
     "text": [
      " now, and it's closer than"
     ]
    },
    {
     "name": "stdout",
     "output_type": "stream",
     "text": [
      " now, and it's closer than you"
     ]
    },
    {
     "name": "stdout",
     "output_type": "stream",
     "text": [
      " now, and it's closer than you think"
     ]
    },
    {
     "name": "stdout",
     "output_type": "stream",
     "text": [
      " now, and it's closer than you think."
     ]
    },
    {
     "name": "stdout",
     "output_type": "stream",
     "text": [
      " now, and it's closer than you think. From"
     ]
    },
    {
     "name": "stdout",
     "output_type": "stream",
     "text": [
      " now, and it's closer than you think. From personal"
     ]
    },
    {
     "name": "stdout",
     "output_type": "stream",
     "text": [
      " now, and it's closer than you think. From personal assistants"
     ]
    },
    {
     "name": "stdout",
     "output_type": "stream",
     "text": [
      " now, and it's closer than you think. From personal assistants to"
     ]
    },
    {
     "name": "stdout",
     "output_type": "stream",
     "text": [
      " now, and it's closer than you think. From personal assistants to self"
     ]
    },
    {
     "name": "stdout",
     "output_type": "stream",
     "text": [
      " now, and it's closer than you think. From personal assistants to self-driving"
     ]
    },
    {
     "name": "stdout",
     "output_type": "stream",
     "text": [
      " now, and it's closer than you think. From personal assistants to self-driving cars"
     ]
    },
    {
     "name": "stdout",
     "output_type": "stream",
     "text": [
      " now, and it's closer than you think. From personal assistants to self-driving cars,"
     ]
    },
    {
     "name": "stdout",
     "output_type": "stream",
     "text": [
      " now, and it's closer than you think. From personal assistants to self-driving cars, AI"
     ]
    },
    {
     "name": "stdout",
     "output_type": "stream",
     "text": [
      " now, and it's closer than you think. From personal assistants to self-driving cars, AI is"
     ]
    },
    {
     "name": "stdout",
     "output_type": "stream",
     "text": [
      " now, and it's closer than you think. From personal assistants to self-driving cars, AI is changing"
     ]
    },
    {
     "name": "stdout",
     "output_type": "stream",
     "text": [
      " now, and it's closer than you think. From personal assistants to self-driving cars, AI is changing the"
     ]
    },
    {
     "name": "stdout",
     "output_type": "stream",
     "text": [
      " now, and it's closer than you think. From personal assistants to self-driving cars, AI is changing the world"
     ]
    },
    {
     "name": "stdout",
     "output_type": "stream",
     "text": [
      " now, and it's closer than you think. From personal assistants to self-driving cars, AI is changing the world."
     ]
    },
    {
     "name": "stdout",
     "output_type": "stream",
     "text": [
      " now, and it's closer than you think. From personal assistants to self-driving cars, AI is changing the world. In"
     ]
    },
    {
     "name": "stdout",
     "output_type": "stream",
     "text": [
      " now, and it's closer than you think. From personal assistants to self-driving cars, AI is changing the world. In this"
     ]
    },
    {
     "name": "stdout",
     "output_type": "stream",
     "text": [
      " now, and it's closer than you think. From personal assistants to self-driving cars, AI is changing the world. In this book"
     ]
    },
    {
     "name": "stdout",
     "output_type": "stream",
     "text": [
      " now, and it's closer than you think. From personal assistants to self-driving cars, AI is changing the world. In this book,"
     ]
    },
    {
     "name": "stdout",
     "output_type": "stream",
     "text": [
      " now, and it's closer than you think. From personal assistants to self-driving cars, AI is changing the world. In this book, leading"
     ]
    },
    {
     "name": "stdout",
     "output_type": "stream",
     "text": [
      " now, and it's closer than you think. From personal assistants to self-driving cars, AI is changing the world. In this book, leading AI"
     ]
    },
    {
     "name": "stdout",
     "output_type": "stream",
     "text": [
      " now, and it's closer than you think. From personal assistants to self-driving cars, AI is changing the world. In this book, leading AI researcher"
     ]
    },
    {
     "name": "stdout",
     "output_type": "stream",
     "text": [
      " now, and it's closer than you think. From personal assistants to self-driving cars, AI is changing the world. In this book, leading AI researcher and"
     ]
    },
    {
     "name": "stdout",
     "output_type": "stream",
     "text": [
      " now, and it's closer than you think. From personal assistants to self-driving cars, AI is changing the world. In this book, leading AI researcher and entrepreneur"
     ]
    },
    {
     "name": "stdout",
     "output_type": "stream",
     "text": [
      " now, and it's closer than you think. From personal assistants to self-driving cars, AI is changing the world. In this book, leading AI researcher and entrepreneur,"
     ]
    },
    {
     "name": "stdout",
     "output_type": "stream",
     "text": [
      " now, and it's closer than you think. From personal assistants to self-driving cars, AI is changing the world. In this book, leading AI researcher and entrepreneur, Dr"
     ]
    },
    {
     "name": "stdout",
     "output_type": "stream",
     "text": [
      " now, and it's closer than you think. From personal assistants to self-driving cars, AI is changing the world. In this book, leading AI researcher and entrepreneur, Dr."
     ]
    },
    {
     "name": "stdout",
     "output_type": "stream",
     "text": [
      " now, and it's closer than you think. From personal assistants to self-driving cars, AI is changing the world. In this book, leading AI researcher and entrepreneur, Dr. Andrew"
     ]
    },
    {
     "name": "stdout",
     "output_type": "stream",
     "text": [
      " now, and it's closer than you think. From personal assistants to self-driving cars, AI is changing the world. In this book, leading AI researcher and entrepreneur, Dr. Andrew Ng"
     ]
    },
    {
     "name": "stdout",
     "output_type": "stream",
     "text": [
      " now, and it's closer than you think. From personal assistants to self-driving cars, AI is changing the world. In this book, leading AI researcher and entrepreneur, Dr. Andrew Ng,"
     ]
    },
    {
     "name": "stdout",
     "output_type": "stream",
     "text": [
      " now, and it's closer than you think. From personal assistants to self-driving cars, AI is changing the world. In this book, leading AI researcher and entrepreneur, Dr. Andrew Ng, explores"
     ]
    },
    {
     "name": "stdout",
     "output_type": "stream",
     "text": [
      " now, and it's closer than you think. From personal assistants to self-driving cars, AI is changing the world. In this book, leading AI researcher and entrepreneur, Dr. Andrew Ng, explores the"
     ]
    },
    {
     "name": "stdout",
     "output_type": "stream",
     "text": [
      " now, and it's closer than you think. From personal assistants to self-driving cars, AI is changing the world. In this book, leading AI researcher and entrepreneur, Dr. Andrew Ng, explores the possibilities"
     ]
    },
    {
     "name": "stdout",
     "output_type": "stream",
     "text": [
      " now, and it's closer than you think. From personal assistants to self-driving cars, AI is changing the world. In this book, leading AI researcher and entrepreneur, Dr. Andrew Ng, explores the possibilities and"
     ]
    },
    {
     "name": "stdout",
     "output_type": "stream",
     "text": [
      " now, and it's closer than you think. From personal assistants to self-driving cars, AI is changing the world. In this book, leading AI researcher and entrepreneur, Dr. Andrew Ng, explores the possibilities and challenges"
     ]
    },
    {
     "name": "stdout",
     "output_type": "stream",
     "text": [
      " now, and it's closer than you think. From personal assistants to self-driving cars, AI is changing the world. In this book, leading AI researcher and entrepreneur, Dr. Andrew Ng, explores the possibilities and challenges of"
     ]
    },
    {
     "name": "stdout",
     "output_type": "stream",
     "text": [
      " now, and it's closer than you think. From personal assistants to self-driving cars, AI is changing the world. In this book, leading AI researcher and entrepreneur, Dr. Andrew Ng, explores the possibilities and challenges of this"
     ]
    },
    {
     "name": "stdout",
     "output_type": "stream",
     "text": [
      " now, and it's closer than you think. From personal assistants to self-driving cars, AI is changing the world. In this book, leading AI researcher and entrepreneur, Dr. Andrew Ng, explores the possibilities and challenges of this technology"
     ]
    },
    {
     "name": "stdout",
     "output_type": "stream",
     "text": [
      " now, and it's closer than you think. From personal assistants to self-driving cars, AI is changing the world. In this book, leading AI researcher and entrepreneur, Dr. Andrew Ng, explores the possibilities and challenges of this technology."
     ]
    },
    {
     "name": "stdout",
     "output_type": "stream",
     "text": [
      " now, and it's closer than you think. From personal assistants to self-driving cars, AI is changing the world. In this book, leading AI researcher and entrepreneur, Dr. Andrew Ng, explores the possibilities and challenges of this technology. He"
     ]
    },
    {
     "name": "stdout",
     "output_type": "stream",
     "text": [
      " now, and it's closer than you think. From personal assistants to self-driving cars, AI is changing the world. In this book, leading AI researcher and entrepreneur, Dr. Andrew Ng, explores the possibilities and challenges of this technology. He shares"
     ]
    },
    {
     "name": "stdout",
     "output_type": "stream",
     "text": [
      " now, and it's closer than you think. From personal assistants to self-driving cars, AI is changing the world. In this book, leading AI researcher and entrepreneur, Dr. Andrew Ng, explores the possibilities and challenges of this technology. He shares his"
     ]
    },
    {
     "name": "stdout",
     "output_type": "stream",
     "text": [
      " now, and it's closer than you think. From personal assistants to self-driving cars, AI is changing the world. In this book, leading AI researcher and entrepreneur, Dr. Andrew Ng, explores the possibilities and challenges of this technology. He shares his insights"
     ]
    },
    {
     "name": "stdout",
     "output_type": "stream",
     "text": [
      " now, and it's closer than you think. From personal assistants to self-driving cars, AI is changing the world. In this book, leading AI researcher and entrepreneur, Dr. Andrew Ng, explores the possibilities and challenges of this technology. He shares his insights on"
     ]
    },
    {
     "name": "stdout",
     "output_type": "stream",
     "text": [
      " now, and it's closer than you think. From personal assistants to self-driving cars, AI is changing the world. In this book, leading AI researcher and entrepreneur, Dr. Andrew Ng, explores the possibilities and challenges of this technology. He shares his insights on how"
     ]
    },
    {
     "name": "stdout",
     "output_type": "stream",
     "text": [
      " now, and it's closer than you think. From personal assistants to self-driving cars, AI is changing the world. In this book, leading AI researcher and entrepreneur, Dr. Andrew Ng, explores the possibilities and challenges of this technology. He shares his insights on how AI"
     ]
    },
    {
     "name": "stdout",
     "output_type": "stream",
     "text": [
      " now, and it's closer than you think. From personal assistants to self-driving cars, AI is changing the world. In this book, leading AI researcher and entrepreneur, Dr. Andrew Ng, explores the possibilities and challenges of this technology. He shares his insights on how AI is"
     ]
    },
    {
     "name": "stdout",
     "output_type": "stream",
     "text": [
      " now, and it's closer than you think. From personal assistants to self-driving cars, AI is changing the world. In this book, leading AI researcher and entrepreneur, Dr. Andrew Ng, explores the possibilities and challenges of this technology. He shares his insights on how AI is transforming"
     ]
    },
    {
     "name": "stdout",
     "output_type": "stream",
     "text": [
      " now, and it's closer than you think. From personal assistants to self-driving cars, AI is changing the world. In this book, leading AI researcher and entrepreneur, Dr. Andrew Ng, explores the possibilities and challenges of this technology. He shares his insights on how AI is transforming industries"
     ]
    },
    {
     "name": "stdout",
     "output_type": "stream",
     "text": [
      " now, and it's closer than you think. From personal assistants to self-driving cars, AI is changing the world. In this book, leading AI researcher and entrepreneur, Dr. Andrew Ng, explores the possibilities and challenges of this technology. He shares his insights on how AI is transforming industries,"
     ]
    },
    {
     "name": "stdout",
     "output_type": "stream",
     "text": [
      " now, and it's closer than you think. From personal assistants to self-driving cars, AI is changing the world. In this book, leading AI researcher and entrepreneur, Dr. Andrew Ng, explores the possibilities and challenges of this technology. He shares his insights on how AI is transforming industries, from"
     ]
    },
    {
     "name": "stdout",
     "output_type": "stream",
     "text": [
      " now, and it's closer than you think. From personal assistants to self-driving cars, AI is changing the world. In this book, leading AI researcher and entrepreneur, Dr. Andrew Ng, explores the possibilities and challenges of this technology. He shares his insights on how AI is transforming industries, from healthcare"
     ]
    },
    {
     "name": "stdout",
     "output_type": "stream",
     "text": [
      " now, and it's closer than you think. From personal assistants to self-driving cars, AI is changing the world. In this book, leading AI researcher and entrepreneur, Dr. Andrew Ng, explores the possibilities and challenges of this technology. He shares his insights on how AI is transforming industries, from healthcare to"
     ]
    },
    {
     "name": "stdout",
     "output_type": "stream",
     "text": [
      " now, and it's closer than you think. From personal assistants to self-driving cars, AI is changing the world. In this book, leading AI researcher and entrepreneur, Dr. Andrew Ng, explores the possibilities and challenges of this technology. He shares his insights on how AI is transforming industries, from healthcare to education"
     ]
    },
    {
     "name": "stdout",
     "output_type": "stream",
     "text": [
      " now, and it's closer than you think. From personal assistants to self-driving cars, AI is changing the world. In this book, leading AI researcher and entrepreneur, Dr. Andrew Ng, explores the possibilities and challenges of this technology. He shares his insights on how AI is transforming industries, from healthcare to education,"
     ]
    },
    {
     "name": "stdout",
     "output_type": "stream",
     "text": [
      " now, and it's closer than you think. From personal assistants to self-driving cars, AI is changing the world. In this book, leading AI researcher and entrepreneur, Dr. Andrew Ng, explores the possibilities and challenges of this technology. He shares his insights on how AI is transforming industries, from healthcare to education, and"
     ]
    },
    {
     "name": "stdout",
     "output_type": "stream",
     "text": [
      " now, and it's closer than you think. From personal assistants to self-driving cars, AI is changing the world. In this book, leading AI researcher and entrepreneur, Dr. Andrew Ng, explores the possibilities and challenges of this technology. He shares his insights on how AI is transforming industries, from healthcare to education, and what"
     ]
    },
    {
     "name": "stdout",
     "output_type": "stream",
     "text": [
      " now, and it's closer than you think. From personal assistants to self-driving cars, AI is changing the world. In this book, leading AI researcher and entrepreneur, Dr. Andrew Ng, explores the possibilities and challenges of this technology. He shares his insights on how AI is transforming industries, from healthcare to education, and what this"
     ]
    },
    {
     "name": "stdout",
     "output_type": "stream",
     "text": [
      " now, and it's closer than you think. From personal assistants to self-driving cars, AI is changing the world. In this book, leading AI researcher and entrepreneur, Dr. Andrew Ng, explores the possibilities and challenges of this technology. He shares his insights on how AI is transforming industries, from healthcare to education, and what this means"
     ]
    },
    {
     "name": "stdout",
     "output_type": "stream",
     "text": [
      " now, and it's closer than you think. From personal assistants to self-driving cars, AI is changing the world. In this book, leading AI researcher and entrepreneur, Dr. Andrew Ng, explores the possibilities and challenges of this technology. He shares his insights on how AI is transforming industries, from healthcare to education, and what this means for"
     ]
    },
    {
     "name": "stdout",
     "output_type": "stream",
     "text": [
      " now, and it's closer than you think. From personal assistants to self-driving cars, AI is changing the world. In this book, leading AI researcher and entrepreneur, Dr. Andrew Ng, explores the possibilities and challenges of this technology. He shares his insights on how AI is transforming industries, from healthcare to education, and what this means for the"
     ]
    },
    {
     "name": "stdout",
     "output_type": "stream",
     "text": [
      " now, and it's closer than you think. From personal assistants to self-driving cars, AI is changing the world. In this book, leading AI researcher and entrepreneur, Dr. Andrew Ng, explores the possibilities and challenges of this technology. He shares his insights on how AI is transforming industries, from healthcare to education, and what this means for the future"
     ]
    },
    {
     "name": "stdout",
     "output_type": "stream",
     "text": [
      " now, and it's closer than you think. From personal assistants to self-driving cars, AI is changing the world. In this book, leading AI researcher and entrepreneur, Dr. Andrew Ng, explores the possibilities and challenges of this technology. He shares his insights on how AI is transforming industries, from healthcare to education, and what this means for the future of"
     ]
    },
    {
     "name": "stdout",
     "output_type": "stream",
     "text": [
      " now, and it's closer than you think. From personal assistants to self-driving cars, AI is changing the world. In this book, leading AI researcher and entrepreneur, Dr. Andrew Ng, explores the possibilities and challenges of this technology. He shares his insights on how AI is transforming industries, from healthcare to education, and what this means for the future of work"
     ]
    },
    {
     "name": "stdout",
     "output_type": "stream",
     "text": [
      " now, and it's closer than you think. From personal assistants to self-driving cars, AI is changing the world. In this book, leading AI researcher and entrepreneur, Dr. Andrew Ng, explores the possibilities and challenges of this technology. He shares his insights on how AI is transforming industries, from healthcare to education, and what this means for the future of work.\n"
     ]
    },
    {
     "name": "stdout",
     "output_type": "stream",
     "text": [
      " now, and it's closer than you think. From personal assistants to self-driving cars, AI is changing the world. In this book, leading AI researcher and entrepreneur, Dr. Andrew Ng, explores the possibilities and challenges of this technology. He shares his insights on how AI is transforming industries, from healthcare to education, and what this means for the future of work.\n",
      "Through"
     ]
    },
    {
     "name": "stdout",
     "output_type": "stream",
     "text": [
      " now, and it's closer than you think. From personal assistants to self-driving cars, AI is changing the world. In this book, leading AI researcher and entrepreneur, Dr. Andrew Ng, explores the possibilities and challenges of this technology. He shares his insights on how AI is transforming industries, from healthcare to education, and what this means for the future of work.\n",
      "Through his"
     ]
    },
    {
     "name": "stdout",
     "output_type": "stream",
     "text": [
      " now, and it's closer than you think. From personal assistants to self-driving cars, AI is changing the world. In this book, leading AI researcher and entrepreneur, Dr. Andrew Ng, explores the possibilities and challenges of this technology. He shares his insights on how AI is transforming industries, from healthcare to education, and what this means for the future of work.\n",
      "Through his own"
     ]
    },
    {
     "name": "stdout",
     "output_type": "stream",
     "text": [
      " now, and it's closer than you think. From personal assistants to self-driving cars, AI is changing the world. In this book, leading AI researcher and entrepreneur, Dr. Andrew Ng, explores the possibilities and challenges of this technology. He shares his insights on how AI is transforming industries, from healthcare to education, and what this means for the future of work.\n",
      "Through his own experiences"
     ]
    },
    {
     "name": "stdout",
     "output_type": "stream",
     "text": [
      " now, and it's closer than you think. From personal assistants to self-driving cars, AI is changing the world. In this book, leading AI researcher and entrepreneur, Dr. Andrew Ng, explores the possibilities and challenges of this technology. He shares his insights on how AI is transforming industries, from healthcare to education, and what this means for the future of work.\n",
      "Through his own experiences as"
     ]
    },
    {
     "name": "stdout",
     "output_type": "stream",
     "text": [
      " now, and it's closer than you think. From personal assistants to self-driving cars, AI is changing the world. In this book, leading AI researcher and entrepreneur, Dr. Andrew Ng, explores the possibilities and challenges of this technology. He shares his insights on how AI is transforming industries, from healthcare to education, and what this means for the future of work.\n",
      "Through his own experiences as a"
     ]
    },
    {
     "name": "stdout",
     "output_type": "stream",
     "text": [
      " now, and it's closer than you think. From personal assistants to self-driving cars, AI is changing the world. In this book, leading AI researcher and entrepreneur, Dr. Andrew Ng, explores the possibilities and challenges of this technology. He shares his insights on how AI is transforming industries, from healthcare to education, and what this means for the future of work.\n",
      "Through his own experiences as a pioneer"
     ]
    },
    {
     "name": "stdout",
     "output_type": "stream",
     "text": [
      " now, and it's closer than you think. From personal assistants to self-driving cars, AI is changing the world. In this book, leading AI researcher and entrepreneur, Dr. Andrew Ng, explores the possibilities and challenges of this technology. He shares his insights on how AI is transforming industries, from healthcare to education, and what this means for the future of work.\n",
      "Through his own experiences as a pioneer in"
     ]
    },
    {
     "name": "stdout",
     "output_type": "stream",
     "text": [
      " now, and it's closer than you think. From personal assistants to self-driving cars, AI is changing the world. In this book, leading AI researcher and entrepreneur, Dr. Andrew Ng, explores the possibilities and challenges of this technology. He shares his insights on how AI is transforming industries, from healthcare to education, and what this means for the future of work.\n",
      "Through his own experiences as a pioneer in the"
     ]
    },
    {
     "name": "stdout",
     "output_type": "stream",
     "text": [
      " now, and it's closer than you think. From personal assistants to self-driving cars, AI is changing the world. In this book, leading AI researcher and entrepreneur, Dr. Andrew Ng, explores the possibilities and challenges of this technology. He shares his insights on how AI is transforming industries, from healthcare to education, and what this means for the future of work.\n",
      "Through his own experiences as a pioneer in the field"
     ]
    },
    {
     "name": "stdout",
     "output_type": "stream",
     "text": [
      " now, and it's closer than you think. From personal assistants to self-driving cars, AI is changing the world. In this book, leading AI researcher and entrepreneur, Dr. Andrew Ng, explores the possibilities and challenges of this technology. He shares his insights on how AI is transforming industries, from healthcare to education, and what this means for the future of work.\n",
      "Through his own experiences as a pioneer in the field of"
     ]
    },
    {
     "name": "stdout",
     "output_type": "stream",
     "text": [
      " now, and it's closer than you think. From personal assistants to self-driving cars, AI is changing the world. In this book, leading AI researcher and entrepreneur, Dr. Andrew Ng, explores the possibilities and challenges of this technology. He shares his insights on how AI is transforming industries, from healthcare to education, and what this means for the future of work.\n",
      "Through his own experiences as a pioneer in the field of AI"
     ]
    },
    {
     "name": "stdout",
     "output_type": "stream",
     "text": [
      " now, and it's closer than you think. From personal assistants to self-driving cars, AI is changing the world. In this book, leading AI researcher and entrepreneur, Dr. Andrew Ng, explores the possibilities and challenges of this technology. He shares his insights on how AI is transforming industries, from healthcare to education, and what this means for the future of work.\n",
      "Through his own experiences as a pioneer in the field of AI,"
     ]
    },
    {
     "name": "stdout",
     "output_type": "stream",
     "text": [
      " now, and it's closer than you think. From personal assistants to self-driving cars, AI is changing the world. In this book, leading AI researcher and entrepreneur, Dr. Andrew Ng, explores the possibilities and challenges of this technology. He shares his insights on how AI is transforming industries, from healthcare to education, and what this means for the future of work.\n",
      "Through his own experiences as a pioneer in the field of AI, Dr"
     ]
    },
    {
     "name": "stdout",
     "output_type": "stream",
     "text": [
      " now, and it's closer than you think. From personal assistants to self-driving cars, AI is changing the world. In this book, leading AI researcher and entrepreneur, Dr. Andrew Ng, explores the possibilities and challenges of this technology. He shares his insights on how AI is transforming industries, from healthcare to education, and what this means for the future of work.\n",
      "Through his own experiences as a pioneer in the field of AI, Dr."
     ]
    },
    {
     "name": "stdout",
     "output_type": "stream",
     "text": [
      " now, and it's closer than you think. From personal assistants to self-driving cars, AI is changing the world. In this book, leading AI researcher and entrepreneur, Dr. Andrew Ng, explores the possibilities and challenges of this technology. He shares his insights on how AI is transforming industries, from healthcare to education, and what this means for the future of work.\n",
      "Through his own experiences as a pioneer in the field of AI, Dr. Ng"
     ]
    },
    {
     "name": "stdout",
     "output_type": "stream",
     "text": [
      " now, and it's closer than you think. From personal assistants to self-driving cars, AI is changing the world. In this book, leading AI researcher and entrepreneur, Dr. Andrew Ng, explores the possibilities and challenges of this technology. He shares his insights on how AI is transforming industries, from healthcare to education, and what this means for the future of work.\n",
      "Through his own experiences as a pioneer in the field of AI, Dr. Ng shares"
     ]
    },
    {
     "name": "stdout",
     "output_type": "stream",
     "text": [
      " now, and it's closer than you think. From personal assistants to self-driving cars, AI is changing the world. In this book, leading AI researcher and entrepreneur, Dr. Andrew Ng, explores the possibilities and challenges of this technology. He shares his insights on how AI is transforming industries, from healthcare to education, and what this means for the future of work.\n",
      "Through his own experiences as a pioneer in the field of AI, Dr. Ng shares stories"
     ]
    },
    {
     "name": "stdout",
     "output_type": "stream",
     "text": [
      " now, and it's closer than you think. From personal assistants to self-driving cars, AI is changing the world. In this book, leading AI researcher and entrepreneur, Dr. Andrew Ng, explores the possibilities and challenges of this technology. He shares his insights on how AI is transforming industries, from healthcare to education, and what this means for the future of work.\n",
      "Through his own experiences as a pioneer in the field of AI, Dr. Ng shares stories of"
     ]
    },
    {
     "name": "stdout",
     "output_type": "stream",
     "text": [
      " now, and it's closer than you think. From personal assistants to self-driving cars, AI is changing the world. In this book, leading AI researcher and entrepreneur, Dr. Andrew Ng, explores the possibilities and challenges of this technology. He shares his insights on how AI is transforming industries, from healthcare to education, and what this means for the future of work.\n",
      "Through his own experiences as a pioneer in the field of AI, Dr. Ng shares stories of breakthrough"
     ]
    },
    {
     "name": "stdout",
     "output_type": "stream",
     "text": [
      " now, and it's closer than you think. From personal assistants to self-driving cars, AI is changing the world. In this book, leading AI researcher and entrepreneur, Dr. Andrew Ng, explores the possibilities and challenges of this technology. He shares his insights on how AI is transforming industries, from healthcare to education, and what this means for the future of work.\n",
      "Through his own experiences as a pioneer in the field of AI, Dr. Ng shares stories of breakthroughs"
     ]
    },
    {
     "name": "stdout",
     "output_type": "stream",
     "text": [
      " now, and it's closer than you think. From personal assistants to self-driving cars, AI is changing the world. In this book, leading AI researcher and entrepreneur, Dr. Andrew Ng, explores the possibilities and challenges of this technology. He shares his insights on how AI is transforming industries, from healthcare to education, and what this means for the future of work.\n",
      "Through his own experiences as a pioneer in the field of AI, Dr. Ng shares stories of breakthroughs and"
     ]
    },
    {
     "name": "stdout",
     "output_type": "stream",
     "text": [
      " now, and it's closer than you think. From personal assistants to self-driving cars, AI is changing the world. In this book, leading AI researcher and entrepreneur, Dr. Andrew Ng, explores the possibilities and challenges of this technology. He shares his insights on how AI is transforming industries, from healthcare to education, and what this means for the future of work.\n",
      "Through his own experiences as a pioneer in the field of AI, Dr. Ng shares stories of breakthroughs and setbacks"
     ]
    },
    {
     "name": "stdout",
     "output_type": "stream",
     "text": [
      " now, and it's closer than you think. From personal assistants to self-driving cars, AI is changing the world. In this book, leading AI researcher and entrepreneur, Dr. Andrew Ng, explores the possibilities and challenges of this technology. He shares his insights on how AI is transforming industries, from healthcare to education, and what this means for the future of work.\n",
      "Through his own experiences as a pioneer in the field of AI, Dr. Ng shares stories of breakthroughs and setbacks,"
     ]
    },
    {
     "name": "stdout",
     "output_type": "stream",
     "text": [
      " now, and it's closer than you think. From personal assistants to self-driving cars, AI is changing the world. In this book, leading AI researcher and entrepreneur, Dr. Andrew Ng, explores the possibilities and challenges of this technology. He shares his insights on how AI is transforming industries, from healthcare to education, and what this means for the future of work.\n",
      "Through his own experiences as a pioneer in the field of AI, Dr. Ng shares stories of breakthroughs and setbacks, successes"
     ]
    },
    {
     "name": "stdout",
     "output_type": "stream",
     "text": [
      " now, and it's closer than you think. From personal assistants to self-driving cars, AI is changing the world. In this book, leading AI researcher and entrepreneur, Dr. Andrew Ng, explores the possibilities and challenges of this technology. He shares his insights on how AI is transforming industries, from healthcare to education, and what this means for the future of work.\n",
      "Through his own experiences as a pioneer in the field of AI, Dr. Ng shares stories of breakthroughs and setbacks, successes and"
     ]
    },
    {
     "name": "stdout",
     "output_type": "stream",
     "text": [
      " now, and it's closer than you think. From personal assistants to self-driving cars, AI is changing the world. In this book, leading AI researcher and entrepreneur, Dr. Andrew Ng, explores the possibilities and challenges of this technology. He shares his insights on how AI is transforming industries, from healthcare to education, and what this means for the future of work.\n",
      "Through his own experiences as a pioneer in the field of AI, Dr. Ng shares stories of breakthroughs and setbacks, successes and failures"
     ]
    },
    {
     "name": "stdout",
     "output_type": "stream",
     "text": [
      " now, and it's closer than you think. From personal assistants to self-driving cars, AI is changing the world. In this book, leading AI researcher and entrepreneur, Dr. Andrew Ng, explores the possibilities and challenges of this technology. He shares his insights on how AI is transforming industries, from healthcare to education, and what this means for the future of work.\n",
      "Through his own experiences as a pioneer in the field of AI, Dr. Ng shares stories of breakthroughs and setbacks, successes and failures."
     ]
    },
    {
     "name": "stdout",
     "output_type": "stream",
     "text": [
      " now, and it's closer than you think. From personal assistants to self-driving cars, AI is changing the world. In this book, leading AI researcher and entrepreneur, Dr. Andrew Ng, explores the possibilities and challenges of this technology. He shares his insights on how AI is transforming industries, from healthcare to education, and what this means for the future of work.\n",
      "Through his own experiences as a pioneer in the field of AI, Dr. Ng shares stories of breakthroughs and setbacks, successes and failures. He"
     ]
    },
    {
     "name": "stdout",
     "output_type": "stream",
     "text": [
      " now, and it's closer than you think. From personal assistants to self-driving cars, AI is changing the world. In this book, leading AI researcher and entrepreneur, Dr. Andrew Ng, explores the possibilities and challenges of this technology. He shares his insights on how AI is transforming industries, from healthcare to education, and what this means for the future of work.\n",
      "Through his own experiences as a pioneer in the field of AI, Dr. Ng shares stories of breakthroughs and setbacks, successes and failures. He explains"
     ]
    },
    {
     "name": "stdout",
     "output_type": "stream",
     "text": [
      " now, and it's closer than you think. From personal assistants to self-driving cars, AI is changing the world. In this book, leading AI researcher and entrepreneur, Dr. Andrew Ng, explores the possibilities and challenges of this technology. He shares his insights on how AI is transforming industries, from healthcare to education, and what this means for the future of work.\n",
      "Through his own experiences as a pioneer in the field of AI, Dr. Ng shares stories of breakthroughs and setbacks, successes and failures. He explains the"
     ]
    },
    {
     "name": "stdout",
     "output_type": "stream",
     "text": [
      " now, and it's closer than you think. From personal assistants to self-driving cars, AI is changing the world. In this book, leading AI researcher and entrepreneur, Dr. Andrew Ng, explores the possibilities and challenges of this technology. He shares his insights on how AI is transforming industries, from healthcare to education, and what this means for the future of work.\n",
      "Through his own experiences as a pioneer in the field of AI, Dr. Ng shares stories of breakthroughs and setbacks, successes and failures. He explains the key"
     ]
    },
    {
     "name": "stdout",
     "output_type": "stream",
     "text": [
      " now, and it's closer than you think. From personal assistants to self-driving cars, AI is changing the world. In this book, leading AI researcher and entrepreneur, Dr. Andrew Ng, explores the possibilities and challenges of this technology. He shares his insights on how AI is transforming industries, from healthcare to education, and what this means for the future of work.\n",
      "Through his own experiences as a pioneer in the field of AI, Dr. Ng shares stories of breakthroughs and setbacks, successes and failures. He explains the key concepts"
     ]
    },
    {
     "name": "stdout",
     "output_type": "stream",
     "text": [
      " now, and it's closer than you think. From personal assistants to self-driving cars, AI is changing the world. In this book, leading AI researcher and entrepreneur, Dr. Andrew Ng, explores the possibilities and challenges of this technology. He shares his insights on how AI is transforming industries, from healthcare to education, and what this means for the future of work.\n",
      "Through his own experiences as a pioneer in the field of AI, Dr. Ng shares stories of breakthroughs and setbacks, successes and failures. He explains the key concepts and"
     ]
    },
    {
     "name": "stdout",
     "output_type": "stream",
     "text": [
      " now, and it's closer than you think. From personal assistants to self-driving cars, AI is changing the world. In this book, leading AI researcher and entrepreneur, Dr. Andrew Ng, explores the possibilities and challenges of this technology. He shares his insights on how AI is transforming industries, from healthcare to education, and what this means for the future of work.\n",
      "Through his own experiences as a pioneer in the field of AI, Dr. Ng shares stories of breakthroughs and setbacks, successes and failures. He explains the key concepts and technologies"
     ]
    },
    {
     "name": "stdout",
     "output_type": "stream",
     "text": [
      " now, and it's closer than you think. From personal assistants to self-driving cars, AI is changing the world. In this book, leading AI researcher and entrepreneur, Dr. Andrew Ng, explores the possibilities and challenges of this technology. He shares his insights on how AI is transforming industries, from healthcare to education, and what this means for the future of work.\n",
      "Through his own experiences as a pioneer in the field of AI, Dr. Ng shares stories of breakthroughs and setbacks, successes and failures. He explains the key concepts and technologies that"
     ]
    },
    {
     "name": "stdout",
     "output_type": "stream",
     "text": [
      " now, and it's closer than you think. From personal assistants to self-driving cars, AI is changing the world. In this book, leading AI researcher and entrepreneur, Dr. Andrew Ng, explores the possibilities and challenges of this technology. He shares his insights on how AI is transforming industries, from healthcare to education, and what this means for the future of work.\n",
      "Through his own experiences as a pioneer in the field of AI, Dr. Ng shares stories of breakthroughs and setbacks, successes and failures. He explains the key concepts and technologies that are"
     ]
    },
    {
     "name": "stdout",
     "output_type": "stream",
     "text": [
      " now, and it's closer than you think. From personal assistants to self-driving cars, AI is changing the world. In this book, leading AI researcher and entrepreneur, Dr. Andrew Ng, explores the possibilities and challenges of this technology. He shares his insights on how AI is transforming industries, from healthcare to education, and what this means for the future of work.\n",
      "Through his own experiences as a pioneer in the field of AI, Dr. Ng shares stories of breakthroughs and setbacks, successes and failures. He explains the key concepts and technologies that are driving"
     ]
    },
    {
     "name": "stdout",
     "output_type": "stream",
     "text": [
      " now, and it's closer than you think. From personal assistants to self-driving cars, AI is changing the world. In this book, leading AI researcher and entrepreneur, Dr. Andrew Ng, explores the possibilities and challenges of this technology. He shares his insights on how AI is transforming industries, from healthcare to education, and what this means for the future of work.\n",
      "Through his own experiences as a pioneer in the field of AI, Dr. Ng shares stories of breakthroughs and setbacks, successes and failures. He explains the key concepts and technologies that are driving the"
     ]
    },
    {
     "name": "stdout",
     "output_type": "stream",
     "text": [
      " now, and it's closer than you think. From personal assistants to self-driving cars, AI is changing the world. In this book, leading AI researcher and entrepreneur, Dr. Andrew Ng, explores the possibilities and challenges of this technology. He shares his insights on how AI is transforming industries, from healthcare to education, and what this means for the future of work.\n",
      "Through his own experiences as a pioneer in the field of AI, Dr. Ng shares stories of breakthroughs and setbacks, successes and failures. He explains the key concepts and technologies that are driving the AI"
     ]
    },
    {
     "name": "stdout",
     "output_type": "stream",
     "text": [
      " now, and it's closer than you think. From personal assistants to self-driving cars, AI is changing the world. In this book, leading AI researcher and entrepreneur, Dr. Andrew Ng, explores the possibilities and challenges of this technology. He shares his insights on how AI is transforming industries, from healthcare to education, and what this means for the future of work.\n",
      "Through his own experiences as a pioneer in the field of AI, Dr. Ng shares stories of breakthroughs and setbacks, successes and failures. He explains the key concepts and technologies that are driving the AI revolution"
     ]
    },
    {
     "name": "stdout",
     "output_type": "stream",
     "text": [
      " now, and it's closer than you think. From personal assistants to self-driving cars, AI is changing the world. In this book, leading AI researcher and entrepreneur, Dr. Andrew Ng, explores the possibilities and challenges of this technology. He shares his insights on how AI is transforming industries, from healthcare to education, and what this means for the future of work.\n",
      "Through his own experiences as a pioneer in the field of AI, Dr. Ng shares stories of breakthroughs and setbacks, successes and failures. He explains the key concepts and technologies that are driving the AI revolution,"
     ]
    },
    {
     "name": "stdout",
     "output_type": "stream",
     "text": [
      " now, and it's closer than you think. From personal assistants to self-driving cars, AI is changing the world. In this book, leading AI researcher and entrepreneur, Dr. Andrew Ng, explores the possibilities and challenges of this technology. He shares his insights on how AI is transforming industries, from healthcare to education, and what this means for the future of work.\n",
      "Through his own experiences as a pioneer in the field of AI, Dr. Ng shares stories of breakthroughs and setbacks, successes and failures. He explains the key concepts and technologies that are driving the AI revolution, including"
     ]
    },
    {
     "name": "stdout",
     "output_type": "stream",
     "text": [
      " now, and it's closer than you think. From personal assistants to self-driving cars, AI is changing the world. In this book, leading AI researcher and entrepreneur, Dr. Andrew Ng, explores the possibilities and challenges of this technology. He shares his insights on how AI is transforming industries, from healthcare to education, and what this means for the future of work.\n",
      "Through his own experiences as a pioneer in the field of AI, Dr. Ng shares stories of breakthroughs and setbacks, successes and failures. He explains the key concepts and technologies that are driving the AI revolution, including deep"
     ]
    },
    {
     "name": "stdout",
     "output_type": "stream",
     "text": [
      " now, and it's closer than you think. From personal assistants to self-driving cars, AI is changing the world. In this book, leading AI researcher and entrepreneur, Dr. Andrew Ng, explores the possibilities and challenges of this technology. He shares his insights on how AI is transforming industries, from healthcare to education, and what this means for the future of work.\n",
      "Through his own experiences as a pioneer in the field of AI, Dr. Ng shares stories of breakthroughs and setbacks, successes and failures. He explains the key concepts and technologies that are driving the AI revolution, including deep learning"
     ]
    },
    {
     "name": "stdout",
     "output_type": "stream",
     "text": [
      " now, and it's closer than you think. From personal assistants to self-driving cars, AI is changing the world. In this book, leading AI researcher and entrepreneur, Dr. Andrew Ng, explores the possibilities and challenges of this technology. He shares his insights on how AI is transforming industries, from healthcare to education, and what this means for the future of work.\n",
      "Through his own experiences as a pioneer in the field of AI, Dr. Ng shares stories of breakthroughs and setbacks, successes and failures. He explains the key concepts and technologies that are driving the AI revolution, including deep learning,"
     ]
    },
    {
     "name": "stdout",
     "output_type": "stream",
     "text": [
      " now, and it's closer than you think. From personal assistants to self-driving cars, AI is changing the world. In this book, leading AI researcher and entrepreneur, Dr. Andrew Ng, explores the possibilities and challenges of this technology. He shares his insights on how AI is transforming industries, from healthcare to education, and what this means for the future of work.\n",
      "Through his own experiences as a pioneer in the field of AI, Dr. Ng shares stories of breakthroughs and setbacks, successes and failures. He explains the key concepts and technologies that are driving the AI revolution, including deep learning, natural"
     ]
    },
    {
     "name": "stdout",
     "output_type": "stream",
     "text": [
      " now, and it's closer than you think. From personal assistants to self-driving cars, AI is changing the world. In this book, leading AI researcher and entrepreneur, Dr. Andrew Ng, explores the possibilities and challenges of this technology. He shares his insights on how AI is transforming industries, from healthcare to education, and what this means for the future of work.\n",
      "Through his own experiences as a pioneer in the field of AI, Dr. Ng shares stories of breakthroughs and setbacks, successes and failures. He explains the key concepts and technologies that are driving the AI revolution, including deep learning, natural language"
     ]
    },
    {
     "name": "stdout",
     "output_type": "stream",
     "text": [
      " now, and it's closer than you think. From personal assistants to self-driving cars, AI is changing the world. In this book, leading AI researcher and entrepreneur, Dr. Andrew Ng, explores the possibilities and challenges of this technology. He shares his insights on how AI is transforming industries, from healthcare to education, and what this means for the future of work.\n",
      "Through his own experiences as a pioneer in the field of AI, Dr. Ng shares stories of breakthroughs and setbacks, successes and failures. He explains the key concepts and technologies that are driving the AI revolution, including deep learning, natural language processing"
     ]
    },
    {
     "name": "stdout",
     "output_type": "stream",
     "text": [
      " now, and it's closer than you think. From personal assistants to self-driving cars, AI is changing the world. In this book, leading AI researcher and entrepreneur, Dr. Andrew Ng, explores the possibilities and challenges of this technology. He shares his insights on how AI is transforming industries, from healthcare to education, and what this means for the future of work.\n",
      "Through his own experiences as a pioneer in the field of AI, Dr. Ng shares stories of breakthroughs and setbacks, successes and failures. He explains the key concepts and technologies that are driving the AI revolution, including deep learning, natural language processing,"
     ]
    },
    {
     "name": "stdout",
     "output_type": "stream",
     "text": [
      " now, and it's closer than you think. From personal assistants to self-driving cars, AI is changing the world. In this book, leading AI researcher and entrepreneur, Dr. Andrew Ng, explores the possibilities and challenges of this technology. He shares his insights on how AI is transforming industries, from healthcare to education, and what this means for the future of work.\n",
      "Through his own experiences as a pioneer in the field of AI, Dr. Ng shares stories of breakthroughs and setbacks, successes and failures. He explains the key concepts and technologies that are driving the AI revolution, including deep learning, natural language processing, and"
     ]
    },
    {
     "name": "stdout",
     "output_type": "stream",
     "text": [
      " now, and it's closer than you think. From personal assistants to self-driving cars, AI is changing the world. In this book, leading AI researcher and entrepreneur, Dr. Andrew Ng, explores the possibilities and challenges of this technology. He shares his insights on how AI is transforming industries, from healthcare to education, and what this means for the future of work.\n",
      "Through his own experiences as a pioneer in the field of AI, Dr. Ng shares stories of breakthroughs and setbacks, successes and failures. He explains the key concepts and technologies that are driving the AI revolution, including deep learning, natural language processing, and computer"
     ]
    },
    {
     "name": "stdout",
     "output_type": "stream",
     "text": [
      " now, and it's closer than you think. From personal assistants to self-driving cars, AI is changing the world. In this book, leading AI researcher and entrepreneur, Dr. Andrew Ng, explores the possibilities and challenges of this technology. He shares his insights on how AI is transforming industries, from healthcare to education, and what this means for the future of work.\n",
      "Through his own experiences as a pioneer in the field of AI, Dr. Ng shares stories of breakthroughs and setbacks, successes and failures. He explains the key concepts and technologies that are driving the AI revolution, including deep learning, natural language processing, and computer vision"
     ]
    },
    {
     "name": "stdout",
     "output_type": "stream",
     "text": [
      " now, and it's closer than you think. From personal assistants to self-driving cars, AI is changing the world. In this book, leading AI researcher and entrepreneur, Dr. Andrew Ng, explores the possibilities and challenges of this technology. He shares his insights on how AI is transforming industries, from healthcare to education, and what this means for the future of work.\n",
      "Through his own experiences as a pioneer in the field of AI, Dr. Ng shares stories of breakthroughs and setbacks, successes and failures. He explains the key concepts and technologies that are driving the AI revolution, including deep learning, natural language processing, and computer vision."
     ]
    },
    {
     "name": "stdout",
     "output_type": "stream",
     "text": [
      "\n"
     ]
    }
   ],
   "source": [
    "prompts = [\n",
    "    \"Hello, my name is\",\n",
    "    \"The capital of France is\",\n",
    "    \"The future of AI is\",\n",
    "]\n",
    "sampling_params = {\"temperature\": 0.8, \"top_p\": 0.95}\n",
    "\n",
    "print(\"\\n=== Testing synchronous streaming generation ===\")\n",
    "\n",
    "for prompt in prompts:\n",
    "    print(f\"\\nPrompt: {prompt}\")\n",
    "    print(\"Generated text: \", end=\"\", flush=True)\n",
    "\n",
    "    for chunk in llm.generate(prompt, sampling_params, stream=True):\n",
    "        print(chunk[\"text\"], end=\"\", flush=True)\n",
    "    print()"
   ]
  },
  {
   "cell_type": "markdown",
   "metadata": {},
   "source": [
    "### Non-streaming Asynchronous Generation"
   ]
  },
  {
   "cell_type": "code",
   "execution_count": 4,
   "metadata": {
    "execution": {
     "iopub.execute_input": "2025-01-20T13:56:23.619154Z",
     "iopub.status.busy": "2025-01-20T13:56:23.618845Z",
     "iopub.status.idle": "2025-01-20T13:56:24.545339Z",
     "shell.execute_reply": "2025-01-20T13:56:24.544643Z"
    }
   },
   "outputs": [
    {
     "name": "stdout",
     "output_type": "stream",
     "text": [
      "\n",
      "=== Testing asynchronous batch generation ===\n"
     ]
    },
    {
     "name": "stdout",
     "output_type": "stream",
     "text": [
      "\n",
      "Prompt: Hello, my name is\n",
      "Generated text:  Peter, and I'm a music enthusiast. I have a deep love for indie rock music, and I spend most of my free time listening to my favorite artists and discovering new ones.\n",
      "I'm excited to share my passion with you through this blog, where I'll be reviewing and discussing the latest music releases, sharing my favorite artists and bands, and even providing some tips and advice for music lovers.\n",
      "So, sit back, relax, and let's dive into the world of indie rock music together!\n",
      "\n",
      "**Recent Posts**\n",
      "\n",
      "*   [Review: Arctic Monkeys - The Car](/review-the-car)\n",
      "*   [Discovering New Music\n",
      "\n",
      "Prompt: The capital of France is\n",
      "Generated text:  known for its rich history, art, fashion, and cuisine. From the famous Eiffel Tower to the Louvre Museum, Paris is a city that has something to offer everyone. Here are some of the top things to do in Paris, in no particular order:\n",
      "1. Visit the Eiffel Tower: The iconic Eiffel Tower is a must-visit attraction in Paris. You can take the elevator to the top for breathtaking views of the city.\n",
      "2. Explore the Louvre Museum: The Louvre is one of the world's largest and most famous museums, housing an impressive collection of art and artifacts from around the world\n",
      "\n",
      "Prompt: The future of AI is\n",
      "Generated text:  here, and it’s all about collaboration\n",
      "The future of AI is all about collaboration. We’re not just talking about humans and machines working together, but also about different types of AI systems working together to achieve a common goal.\n",
      "In the past, AI has been all about competition. We had narrow AI systems, designed to perform a specific task, like image recognition or speech recognition. But as we move forward, we’re seeing a shift towards more general-purpose AI systems, like those that can learn and adapt to new situations.\n",
      "These general-purpose AI systems are more like humans, with their own thoughts, feelings, and motivations. They can\n"
     ]
    }
   ],
   "source": [
    "prompts = [\n",
    "    \"Hello, my name is\",\n",
    "    \"The capital of France is\",\n",
    "    \"The future of AI is\",\n",
    "]\n",
    "\n",
    "sampling_params = {\"temperature\": 0.8, \"top_p\": 0.95}\n",
    "\n",
    "print(\"\\n=== Testing asynchronous batch generation ===\")\n",
    "\n",
    "\n",
    "async def main():\n",
    "    outputs = await llm.async_generate(prompts, sampling_params)\n",
    "\n",
    "    for prompt, output in zip(prompts, outputs):\n",
    "        print(f\"\\nPrompt: {prompt}\")\n",
    "        print(f\"Generated text: {output['text']}\")\n",
    "\n",
    "\n",
    "asyncio.run(main())"
   ]
  },
  {
   "cell_type": "markdown",
   "metadata": {},
   "source": [
    "### Streaming Asynchronous Generation"
   ]
  },
  {
   "cell_type": "code",
   "execution_count": 5,
   "metadata": {
    "execution": {
     "iopub.execute_input": "2025-01-20T13:56:24.547218Z",
     "iopub.status.busy": "2025-01-20T13:56:24.546926Z",
     "iopub.status.idle": "2025-01-20T13:56:27.221417Z",
     "shell.execute_reply": "2025-01-20T13:56:27.220743Z"
    }
   },
   "outputs": [
    {
     "name": "stdout",
     "output_type": "stream",
     "text": [
      "\n",
      "=== Testing asynchronous streaming generation ===\n",
      "\n",
      "Prompt: Hello, my name is\n",
      "Generated text: "
     ]
    },
    {
     "name": "stdout",
     "output_type": "stream",
     "text": [
      " Ashley"
     ]
    },
    {
     "name": "stdout",
     "output_type": "stream",
     "text": [
      " Ashley and"
     ]
    },
    {
     "name": "stdout",
     "output_type": "stream",
     "text": [
      " Ashley and I"
     ]
    },
    {
     "name": "stdout",
     "output_type": "stream",
     "text": [
      " Ashley and I have"
     ]
    },
    {
     "name": "stdout",
     "output_type": "stream",
     "text": [
      " Ashley and I have been"
     ]
    },
    {
     "name": "stdout",
     "output_type": "stream",
     "text": [
      " Ashley and I have been working"
     ]
    },
    {
     "name": "stdout",
     "output_type": "stream",
     "text": [
      " Ashley and I have been working with"
     ]
    },
    {
     "name": "stdout",
     "output_type": "stream",
     "text": [
      " Ashley and I have been working with children"
     ]
    },
    {
     "name": "stdout",
     "output_type": "stream",
     "text": [
      " Ashley and I have been working with children and"
     ]
    },
    {
     "name": "stdout",
     "output_type": "stream",
     "text": [
      " Ashley and I have been working with children and families"
     ]
    },
    {
     "name": "stdout",
     "output_type": "stream",
     "text": [
      " Ashley and I have been working with children and families for"
     ]
    },
    {
     "name": "stdout",
     "output_type": "stream",
     "text": [
      " Ashley and I have been working with children and families for over"
     ]
    },
    {
     "name": "stdout",
     "output_type": "stream",
     "text": [
      " Ashley and I have been working with children and families for over "
     ]
    },
    {
     "name": "stdout",
     "output_type": "stream",
     "text": [
      " Ashley and I have been working with children and families for over 15"
     ]
    },
    {
     "name": "stdout",
     "output_type": "stream",
     "text": [
      " Ashley and I have been working with children and families for over 15 years"
     ]
    },
    {
     "name": "stdout",
     "output_type": "stream",
     "text": [
      " Ashley and I have been working with children and families for over 15 years in"
     ]
    },
    {
     "name": "stdout",
     "output_type": "stream",
     "text": [
      " Ashley and I have been working with children and families for over 15 years in a"
     ]
    },
    {
     "name": "stdout",
     "output_type": "stream",
     "text": [
      " Ashley and I have been working with children and families for over 15 years in a variety"
     ]
    },
    {
     "name": "stdout",
     "output_type": "stream",
     "text": [
      " Ashley and I have been working with children and families for over 15 years in a variety of"
     ]
    },
    {
     "name": "stdout",
     "output_type": "stream",
     "text": [
      " Ashley and I have been working with children and families for over 15 years in a variety of settings"
     ]
    },
    {
     "name": "stdout",
     "output_type": "stream",
     "text": [
      " Ashley and I have been working with children and families for over 15 years in a variety of settings including"
     ]
    },
    {
     "name": "stdout",
     "output_type": "stream",
     "text": [
      " Ashley and I have been working with children and families for over 15 years in a variety of settings including childcare"
     ]
    },
    {
     "name": "stdout",
     "output_type": "stream",
     "text": [
      " Ashley and I have been working with children and families for over 15 years in a variety of settings including childcare centers"
     ]
    },
    {
     "name": "stdout",
     "output_type": "stream",
     "text": [
      " Ashley and I have been working with children and families for over 15 years in a variety of settings including childcare centers,"
     ]
    },
    {
     "name": "stdout",
     "output_type": "stream",
     "text": [
      " Ashley and I have been working with children and families for over 15 years in a variety of settings including childcare centers, preschool"
     ]
    },
    {
     "name": "stdout",
     "output_type": "stream",
     "text": [
      " Ashley and I have been working with children and families for over 15 years in a variety of settings including childcare centers, preschools"
     ]
    },
    {
     "name": "stdout",
     "output_type": "stream",
     "text": [
      " Ashley and I have been working with children and families for over 15 years in a variety of settings including childcare centers, preschools and"
     ]
    },
    {
     "name": "stdout",
     "output_type": "stream",
     "text": [
      " Ashley and I have been working with children and families for over 15 years in a variety of settings including childcare centers, preschools and as"
     ]
    },
    {
     "name": "stdout",
     "output_type": "stream",
     "text": [
      " Ashley and I have been working with children and families for over 15 years in a variety of settings including childcare centers, preschools and as a"
     ]
    },
    {
     "name": "stdout",
     "output_type": "stream",
     "text": [
      " Ashley and I have been working with children and families for over 15 years in a variety of settings including childcare centers, preschools and as a nanny"
     ]
    },
    {
     "name": "stdout",
     "output_type": "stream",
     "text": [
      " Ashley and I have been working with children and families for over 15 years in a variety of settings including childcare centers, preschools and as a nanny."
     ]
    },
    {
     "name": "stdout",
     "output_type": "stream",
     "text": [
      " Ashley and I have been working with children and families for over 15 years in a variety of settings including childcare centers, preschools and as a nanny. I"
     ]
    },
    {
     "name": "stdout",
     "output_type": "stream",
     "text": [
      " Ashley and I have been working with children and families for over 15 years in a variety of settings including childcare centers, preschools and as a nanny. I have"
     ]
    },
    {
     "name": "stdout",
     "output_type": "stream",
     "text": [
      " Ashley and I have been working with children and families for over 15 years in a variety of settings including childcare centers, preschools and as a nanny. I have a"
     ]
    },
    {
     "name": "stdout",
     "output_type": "stream",
     "text": [
      " Ashley and I have been working with children and families for over 15 years in a variety of settings including childcare centers, preschools and as a nanny. I have a degree"
     ]
    },
    {
     "name": "stdout",
     "output_type": "stream",
     "text": [
      " Ashley and I have been working with children and families for over 15 years in a variety of settings including childcare centers, preschools and as a nanny. I have a degree in"
     ]
    },
    {
     "name": "stdout",
     "output_type": "stream",
     "text": [
      " Ashley and I have been working with children and families for over 15 years in a variety of settings including childcare centers, preschools and as a nanny. I have a degree in Early"
     ]
    },
    {
     "name": "stdout",
     "output_type": "stream",
     "text": [
      " Ashley and I have been working with children and families for over 15 years in a variety of settings including childcare centers, preschools and as a nanny. I have a degree in Early Childhood"
     ]
    },
    {
     "name": "stdout",
     "output_type": "stream",
     "text": [
      " Ashley and I have been working with children and families for over 15 years in a variety of settings including childcare centers, preschools and as a nanny. I have a degree in Early Childhood Education"
     ]
    },
    {
     "name": "stdout",
     "output_type": "stream",
     "text": [
      " Ashley and I have been working with children and families for over 15 years in a variety of settings including childcare centers, preschools and as a nanny. I have a degree in Early Childhood Education from"
     ]
    },
    {
     "name": "stdout",
     "output_type": "stream",
     "text": [
      " Ashley and I have been working with children and families for over 15 years in a variety of settings including childcare centers, preschools and as a nanny. I have a degree in Early Childhood Education from the"
     ]
    },
    {
     "name": "stdout",
     "output_type": "stream",
     "text": [
      " Ashley and I have been working with children and families for over 15 years in a variety of settings including childcare centers, preschools and as a nanny. I have a degree in Early Childhood Education from the University"
     ]
    },
    {
     "name": "stdout",
     "output_type": "stream",
     "text": [
      " Ashley and I have been working with children and families for over 15 years in a variety of settings including childcare centers, preschools and as a nanny. I have a degree in Early Childhood Education from the University of"
     ]
    },
    {
     "name": "stdout",
     "output_type": "stream",
     "text": [
      " Ashley and I have been working with children and families for over 15 years in a variety of settings including childcare centers, preschools and as a nanny. I have a degree in Early Childhood Education from the University of North"
     ]
    },
    {
     "name": "stdout",
     "output_type": "stream",
     "text": [
      " Ashley and I have been working with children and families for over 15 years in a variety of settings including childcare centers, preschools and as a nanny. I have a degree in Early Childhood Education from the University of North Carolina"
     ]
    },
    {
     "name": "stdout",
     "output_type": "stream",
     "text": [
      " Ashley and I have been working with children and families for over 15 years in a variety of settings including childcare centers, preschools and as a nanny. I have a degree in Early Childhood Education from the University of North Carolina at"
     ]
    },
    {
     "name": "stdout",
     "output_type": "stream",
     "text": [
      " Ashley and I have been working with children and families for over 15 years in a variety of settings including childcare centers, preschools and as a nanny. I have a degree in Early Childhood Education from the University of North Carolina at Chapel"
     ]
    },
    {
     "name": "stdout",
     "output_type": "stream",
     "text": [
      " Ashley and I have been working with children and families for over 15 years in a variety of settings including childcare centers, preschools and as a nanny. I have a degree in Early Childhood Education from the University of North Carolina at Chapel Hill"
     ]
    },
    {
     "name": "stdout",
     "output_type": "stream",
     "text": [
      " Ashley and I have been working with children and families for over 15 years in a variety of settings including childcare centers, preschools and as a nanny. I have a degree in Early Childhood Education from the University of North Carolina at Chapel Hill."
     ]
    },
    {
     "name": "stdout",
     "output_type": "stream",
     "text": [
      " Ashley and I have been working with children and families for over 15 years in a variety of settings including childcare centers, preschools and as a nanny. I have a degree in Early Childhood Education from the University of North Carolina at Chapel Hill. I"
     ]
    },
    {
     "name": "stdout",
     "output_type": "stream",
     "text": [
      " Ashley and I have been working with children and families for over 15 years in a variety of settings including childcare centers, preschools and as a nanny. I have a degree in Early Childhood Education from the University of North Carolina at Chapel Hill. I have"
     ]
    },
    {
     "name": "stdout",
     "output_type": "stream",
     "text": [
      " Ashley and I have been working with children and families for over 15 years in a variety of settings including childcare centers, preschools and as a nanny. I have a degree in Early Childhood Education from the University of North Carolina at Chapel Hill. I have worked"
     ]
    },
    {
     "name": "stdout",
     "output_type": "stream",
     "text": [
      " Ashley and I have been working with children and families for over 15 years in a variety of settings including childcare centers, preschools and as a nanny. I have a degree in Early Childhood Education from the University of North Carolina at Chapel Hill. I have worked with"
     ]
    },
    {
     "name": "stdout",
     "output_type": "stream",
     "text": [
      " Ashley and I have been working with children and families for over 15 years in a variety of settings including childcare centers, preschools and as a nanny. I have a degree in Early Childhood Education from the University of North Carolina at Chapel Hill. I have worked with children"
     ]
    },
    {
     "name": "stdout",
     "output_type": "stream",
     "text": [
      " Ashley and I have been working with children and families for over 15 years in a variety of settings including childcare centers, preschools and as a nanny. I have a degree in Early Childhood Education from the University of North Carolina at Chapel Hill. I have worked with children from"
     ]
    },
    {
     "name": "stdout",
     "output_type": "stream",
     "text": [
      " Ashley and I have been working with children and families for over 15 years in a variety of settings including childcare centers, preschools and as a nanny. I have a degree in Early Childhood Education from the University of North Carolina at Chapel Hill. I have worked with children from birth"
     ]
    },
    {
     "name": "stdout",
     "output_type": "stream",
     "text": [
      " Ashley and I have been working with children and families for over 15 years in a variety of settings including childcare centers, preschools and as a nanny. I have a degree in Early Childhood Education from the University of North Carolina at Chapel Hill. I have worked with children from birth to"
     ]
    },
    {
     "name": "stdout",
     "output_type": "stream",
     "text": [
      " Ashley and I have been working with children and families for over 15 years in a variety of settings including childcare centers, preschools and as a nanny. I have a degree in Early Childhood Education from the University of North Carolina at Chapel Hill. I have worked with children from birth to "
     ]
    },
    {
     "name": "stdout",
     "output_type": "stream",
     "text": [
      " Ashley and I have been working with children and families for over 15 years in a variety of settings including childcare centers, preschools and as a nanny. I have a degree in Early Childhood Education from the University of North Carolina at Chapel Hill. I have worked with children from birth to 8"
     ]
    },
    {
     "name": "stdout",
     "output_type": "stream",
     "text": [
      " Ashley and I have been working with children and families for over 15 years in a variety of settings including childcare centers, preschools and as a nanny. I have a degree in Early Childhood Education from the University of North Carolina at Chapel Hill. I have worked with children from birth to 8 years"
     ]
    },
    {
     "name": "stdout",
     "output_type": "stream",
     "text": [
      " Ashley and I have been working with children and families for over 15 years in a variety of settings including childcare centers, preschools and as a nanny. I have a degree in Early Childhood Education from the University of North Carolina at Chapel Hill. I have worked with children from birth to 8 years old"
     ]
    },
    {
     "name": "stdout",
     "output_type": "stream",
     "text": [
      " Ashley and I have been working with children and families for over 15 years in a variety of settings including childcare centers, preschools and as a nanny. I have a degree in Early Childhood Education from the University of North Carolina at Chapel Hill. I have worked with children from birth to 8 years old and"
     ]
    },
    {
     "name": "stdout",
     "output_type": "stream",
     "text": [
      " Ashley and I have been working with children and families for over 15 years in a variety of settings including childcare centers, preschools and as a nanny. I have a degree in Early Childhood Education from the University of North Carolina at Chapel Hill. I have worked with children from birth to 8 years old and have"
     ]
    },
    {
     "name": "stdout",
     "output_type": "stream",
     "text": [
      " Ashley and I have been working with children and families for over 15 years in a variety of settings including childcare centers, preschools and as a nanny. I have a degree in Early Childhood Education from the University of North Carolina at Chapel Hill. I have worked with children from birth to 8 years old and have experience"
     ]
    },
    {
     "name": "stdout",
     "output_type": "stream",
     "text": [
      " Ashley and I have been working with children and families for over 15 years in a variety of settings including childcare centers, preschools and as a nanny. I have a degree in Early Childhood Education from the University of North Carolina at Chapel Hill. I have worked with children from birth to 8 years old and have experience with"
     ]
    },
    {
     "name": "stdout",
     "output_type": "stream",
     "text": [
      " Ashley and I have been working with children and families for over 15 years in a variety of settings including childcare centers, preschools and as a nanny. I have a degree in Early Childhood Education from the University of North Carolina at Chapel Hill. I have worked with children from birth to 8 years old and have experience with children"
     ]
    },
    {
     "name": "stdout",
     "output_type": "stream",
     "text": [
      " Ashley and I have been working with children and families for over 15 years in a variety of settings including childcare centers, preschools and as a nanny. I have a degree in Early Childhood Education from the University of North Carolina at Chapel Hill. I have worked with children from birth to 8 years old and have experience with children who"
     ]
    },
    {
     "name": "stdout",
     "output_type": "stream",
     "text": [
      " Ashley and I have been working with children and families for over 15 years in a variety of settings including childcare centers, preschools and as a nanny. I have a degree in Early Childhood Education from the University of North Carolina at Chapel Hill. I have worked with children from birth to 8 years old and have experience with children who have"
     ]
    },
    {
     "name": "stdout",
     "output_type": "stream",
     "text": [
      " Ashley and I have been working with children and families for over 15 years in a variety of settings including childcare centers, preschools and as a nanny. I have a degree in Early Childhood Education from the University of North Carolina at Chapel Hill. I have worked with children from birth to 8 years old and have experience with children who have special"
     ]
    },
    {
     "name": "stdout",
     "output_type": "stream",
     "text": [
      " Ashley and I have been working with children and families for over 15 years in a variety of settings including childcare centers, preschools and as a nanny. I have a degree in Early Childhood Education from the University of North Carolina at Chapel Hill. I have worked with children from birth to 8 years old and have experience with children who have special needs"
     ]
    },
    {
     "name": "stdout",
     "output_type": "stream",
     "text": [
      " Ashley and I have been working with children and families for over 15 years in a variety of settings including childcare centers, preschools and as a nanny. I have a degree in Early Childhood Education from the University of North Carolina at Chapel Hill. I have worked with children from birth to 8 years old and have experience with children who have special needs."
     ]
    },
    {
     "name": "stdout",
     "output_type": "stream",
     "text": [
      " Ashley and I have been working with children and families for over 15 years in a variety of settings including childcare centers, preschools and as a nanny. I have a degree in Early Childhood Education from the University of North Carolina at Chapel Hill. I have worked with children from birth to 8 years old and have experience with children who have special needs. I"
     ]
    },
    {
     "name": "stdout",
     "output_type": "stream",
     "text": [
      " Ashley and I have been working with children and families for over 15 years in a variety of settings including childcare centers, preschools and as a nanny. I have a degree in Early Childhood Education from the University of North Carolina at Chapel Hill. I have worked with children from birth to 8 years old and have experience with children who have special needs. I am"
     ]
    },
    {
     "name": "stdout",
     "output_type": "stream",
     "text": [
      " Ashley and I have been working with children and families for over 15 years in a variety of settings including childcare centers, preschools and as a nanny. I have a degree in Early Childhood Education from the University of North Carolina at Chapel Hill. I have worked with children from birth to 8 years old and have experience with children who have special needs. I am certified"
     ]
    },
    {
     "name": "stdout",
     "output_type": "stream",
     "text": [
      " Ashley and I have been working with children and families for over 15 years in a variety of settings including childcare centers, preschools and as a nanny. I have a degree in Early Childhood Education from the University of North Carolina at Chapel Hill. I have worked with children from birth to 8 years old and have experience with children who have special needs. I am certified in"
     ]
    },
    {
     "name": "stdout",
     "output_type": "stream",
     "text": [
      " Ashley and I have been working with children and families for over 15 years in a variety of settings including childcare centers, preschools and as a nanny. I have a degree in Early Childhood Education from the University of North Carolina at Chapel Hill. I have worked with children from birth to 8 years old and have experience with children who have special needs. I am certified in First"
     ]
    },
    {
     "name": "stdout",
     "output_type": "stream",
     "text": [
      " Ashley and I have been working with children and families for over 15 years in a variety of settings including childcare centers, preschools and as a nanny. I have a degree in Early Childhood Education from the University of North Carolina at Chapel Hill. I have worked with children from birth to 8 years old and have experience with children who have special needs. I am certified in First Aid"
     ]
    },
    {
     "name": "stdout",
     "output_type": "stream",
     "text": [
      " Ashley and I have been working with children and families for over 15 years in a variety of settings including childcare centers, preschools and as a nanny. I have a degree in Early Childhood Education from the University of North Carolina at Chapel Hill. I have worked with children from birth to 8 years old and have experience with children who have special needs. I am certified in First Aid and"
     ]
    },
    {
     "name": "stdout",
     "output_type": "stream",
     "text": [
      " Ashley and I have been working with children and families for over 15 years in a variety of settings including childcare centers, preschools and as a nanny. I have a degree in Early Childhood Education from the University of North Carolina at Chapel Hill. I have worked with children from birth to 8 years old and have experience with children who have special needs. I am certified in First Aid and CPR"
     ]
    },
    {
     "name": "stdout",
     "output_type": "stream",
     "text": [
      " Ashley and I have been working with children and families for over 15 years in a variety of settings including childcare centers, preschools and as a nanny. I have a degree in Early Childhood Education from the University of North Carolina at Chapel Hill. I have worked with children from birth to 8 years old and have experience with children who have special needs. I am certified in First Aid and CPR and"
     ]
    },
    {
     "name": "stdout",
     "output_type": "stream",
     "text": [
      " Ashley and I have been working with children and families for over 15 years in a variety of settings including childcare centers, preschools and as a nanny. I have a degree in Early Childhood Education from the University of North Carolina at Chapel Hill. I have worked with children from birth to 8 years old and have experience with children who have special needs. I am certified in First Aid and CPR and am"
     ]
    },
    {
     "name": "stdout",
     "output_type": "stream",
     "text": [
      " Ashley and I have been working with children and families for over 15 years in a variety of settings including childcare centers, preschools and as a nanny. I have a degree in Early Childhood Education from the University of North Carolina at Chapel Hill. I have worked with children from birth to 8 years old and have experience with children who have special needs. I am certified in First Aid and CPR and am up"
     ]
    },
    {
     "name": "stdout",
     "output_type": "stream",
     "text": [
      " Ashley and I have been working with children and families for over 15 years in a variety of settings including childcare centers, preschools and as a nanny. I have a degree in Early Childhood Education from the University of North Carolina at Chapel Hill. I have worked with children from birth to 8 years old and have experience with children who have special needs. I am certified in First Aid and CPR and am up to"
     ]
    },
    {
     "name": "stdout",
     "output_type": "stream",
     "text": [
      " Ashley and I have been working with children and families for over 15 years in a variety of settings including childcare centers, preschools and as a nanny. I have a degree in Early Childhood Education from the University of North Carolina at Chapel Hill. I have worked with children from birth to 8 years old and have experience with children who have special needs. I am certified in First Aid and CPR and am up to date"
     ]
    },
    {
     "name": "stdout",
     "output_type": "stream",
     "text": [
      " Ashley and I have been working with children and families for over 15 years in a variety of settings including childcare centers, preschools and as a nanny. I have a degree in Early Childhood Education from the University of North Carolina at Chapel Hill. I have worked with children from birth to 8 years old and have experience with children who have special needs. I am certified in First Aid and CPR and am up to date on"
     ]
    },
    {
     "name": "stdout",
     "output_type": "stream",
     "text": [
      " Ashley and I have been working with children and families for over 15 years in a variety of settings including childcare centers, preschools and as a nanny. I have a degree in Early Childhood Education from the University of North Carolina at Chapel Hill. I have worked with children from birth to 8 years old and have experience with children who have special needs. I am certified in First Aid and CPR and am up to date on all"
     ]
    },
    {
     "name": "stdout",
     "output_type": "stream",
     "text": [
      " Ashley and I have been working with children and families for over 15 years in a variety of settings including childcare centers, preschools and as a nanny. I have a degree in Early Childhood Education from the University of North Carolina at Chapel Hill. I have worked with children from birth to 8 years old and have experience with children who have special needs. I am certified in First Aid and CPR and am up to date on all of"
     ]
    },
    {
     "name": "stdout",
     "output_type": "stream",
     "text": [
      " Ashley and I have been working with children and families for over 15 years in a variety of settings including childcare centers, preschools and as a nanny. I have a degree in Early Childhood Education from the University of North Carolina at Chapel Hill. I have worked with children from birth to 8 years old and have experience with children who have special needs. I am certified in First Aid and CPR and am up to date on all of my"
     ]
    },
    {
     "name": "stdout",
     "output_type": "stream",
     "text": [
      " Ashley and I have been working with children and families for over 15 years in a variety of settings including childcare centers, preschools and as a nanny. I have a degree in Early Childhood Education from the University of North Carolina at Chapel Hill. I have worked with children from birth to 8 years old and have experience with children who have special needs. I am certified in First Aid and CPR and am up to date on all of my training"
     ]
    },
    {
     "name": "stdout",
     "output_type": "stream",
     "text": [
      " Ashley and I have been working with children and families for over 15 years in a variety of settings including childcare centers, preschools and as a nanny. I have a degree in Early Childhood Education from the University of North Carolina at Chapel Hill. I have worked with children from birth to 8 years old and have experience with children who have special needs. I am certified in First Aid and CPR and am up to date on all of my training requirements"
     ]
    },
    {
     "name": "stdout",
     "output_type": "stream",
     "text": [
      " Ashley and I have been working with children and families for over 15 years in a variety of settings including childcare centers, preschools and as a nanny. I have a degree in Early Childhood Education from the University of North Carolina at Chapel Hill. I have worked with children from birth to 8 years old and have experience with children who have special needs. I am certified in First Aid and CPR and am up to date on all of my training requirements."
     ]
    },
    {
     "name": "stdout",
     "output_type": "stream",
     "text": [
      " Ashley and I have been working with children and families for over 15 years in a variety of settings including childcare centers, preschools and as a nanny. I have a degree in Early Childhood Education from the University of North Carolina at Chapel Hill. I have worked with children from birth to 8 years old and have experience with children who have special needs. I am certified in First Aid and CPR and am up to date on all of my training requirements. I"
     ]
    },
    {
     "name": "stdout",
     "output_type": "stream",
     "text": [
      " Ashley and I have been working with children and families for over 15 years in a variety of settings including childcare centers, preschools and as a nanny. I have a degree in Early Childhood Education from the University of North Carolina at Chapel Hill. I have worked with children from birth to 8 years old and have experience with children who have special needs. I am certified in First Aid and CPR and am up to date on all of my training requirements. I love"
     ]
    },
    {
     "name": "stdout",
     "output_type": "stream",
     "text": [
      " Ashley and I have been working with children and families for over 15 years in a variety of settings including childcare centers, preschools and as a nanny. I have a degree in Early Childhood Education from the University of North Carolina at Chapel Hill. I have worked with children from birth to 8 years old and have experience with children who have special needs. I am certified in First Aid and CPR and am up to date on all of my training requirements. I love working"
     ]
    },
    {
     "name": "stdout",
     "output_type": "stream",
     "text": [
      " Ashley and I have been working with children and families for over 15 years in a variety of settings including childcare centers, preschools and as a nanny. I have a degree in Early Childhood Education from the University of North Carolina at Chapel Hill. I have worked with children from birth to 8 years old and have experience with children who have special needs. I am certified in First Aid and CPR and am up to date on all of my training requirements. I love working with"
     ]
    },
    {
     "name": "stdout",
     "output_type": "stream",
     "text": [
      " Ashley and I have been working with children and families for over 15 years in a variety of settings including childcare centers, preschools and as a nanny. I have a degree in Early Childhood Education from the University of North Carolina at Chapel Hill. I have worked with children from birth to 8 years old and have experience with children who have special needs. I am certified in First Aid and CPR and am up to date on all of my training requirements. I love working with children"
     ]
    },
    {
     "name": "stdout",
     "output_type": "stream",
     "text": [
      " Ashley and I have been working with children and families for over 15 years in a variety of settings including childcare centers, preschools and as a nanny. I have a degree in Early Childhood Education from the University of North Carolina at Chapel Hill. I have worked with children from birth to 8 years old and have experience with children who have special needs. I am certified in First Aid and CPR and am up to date on all of my training requirements. I love working with children and"
     ]
    },
    {
     "name": "stdout",
     "output_type": "stream",
     "text": [
      " Ashley and I have been working with children and families for over 15 years in a variety of settings including childcare centers, preschools and as a nanny. I have a degree in Early Childhood Education from the University of North Carolina at Chapel Hill. I have worked with children from birth to 8 years old and have experience with children who have special needs. I am certified in First Aid and CPR and am up to date on all of my training requirements. I love working with children and watching"
     ]
    },
    {
     "name": "stdout",
     "output_type": "stream",
     "text": [
      " Ashley and I have been working with children and families for over 15 years in a variety of settings including childcare centers, preschools and as a nanny. I have a degree in Early Childhood Education from the University of North Carolina at Chapel Hill. I have worked with children from birth to 8 years old and have experience with children who have special needs. I am certified in First Aid and CPR and am up to date on all of my training requirements. I love working with children and watching them"
     ]
    },
    {
     "name": "stdout",
     "output_type": "stream",
     "text": [
      " Ashley and I have been working with children and families for over 15 years in a variety of settings including childcare centers, preschools and as a nanny. I have a degree in Early Childhood Education from the University of North Carolina at Chapel Hill. I have worked with children from birth to 8 years old and have experience with children who have special needs. I am certified in First Aid and CPR and am up to date on all of my training requirements. I love working with children and watching them learn"
     ]
    },
    {
     "name": "stdout",
     "output_type": "stream",
     "text": [
      " Ashley and I have been working with children and families for over 15 years in a variety of settings including childcare centers, preschools and as a nanny. I have a degree in Early Childhood Education from the University of North Carolina at Chapel Hill. I have worked with children from birth to 8 years old and have experience with children who have special needs. I am certified in First Aid and CPR and am up to date on all of my training requirements. I love working with children and watching them learn and"
     ]
    },
    {
     "name": "stdout",
     "output_type": "stream",
     "text": [
      " Ashley and I have been working with children and families for over 15 years in a variety of settings including childcare centers, preschools and as a nanny. I have a degree in Early Childhood Education from the University of North Carolina at Chapel Hill. I have worked with children from birth to 8 years old and have experience with children who have special needs. I am certified in First Aid and CPR and am up to date on all of my training requirements. I love working with children and watching them learn and grow"
     ]
    },
    {
     "name": "stdout",
     "output_type": "stream",
     "text": [
      " Ashley and I have been working with children and families for over 15 years in a variety of settings including childcare centers, preschools and as a nanny. I have a degree in Early Childhood Education from the University of North Carolina at Chapel Hill. I have worked with children from birth to 8 years old and have experience with children who have special needs. I am certified in First Aid and CPR and am up to date on all of my training requirements. I love working with children and watching them learn and grow."
     ]
    },
    {
     "name": "stdout",
     "output_type": "stream",
     "text": [
      " Ashley and I have been working with children and families for over 15 years in a variety of settings including childcare centers, preschools and as a nanny. I have a degree in Early Childhood Education from the University of North Carolina at Chapel Hill. I have worked with children from birth to 8 years old and have experience with children who have special needs. I am certified in First Aid and CPR and am up to date on all of my training requirements. I love working with children and watching them learn and grow. I"
     ]
    },
    {
     "name": "stdout",
     "output_type": "stream",
     "text": [
      " Ashley and I have been working with children and families for over 15 years in a variety of settings including childcare centers, preschools and as a nanny. I have a degree in Early Childhood Education from the University of North Carolina at Chapel Hill. I have worked with children from birth to 8 years old and have experience with children who have special needs. I am certified in First Aid and CPR and am up to date on all of my training requirements. I love working with children and watching them learn and grow. I am"
     ]
    },
    {
     "name": "stdout",
     "output_type": "stream",
     "text": [
      " Ashley and I have been working with children and families for over 15 years in a variety of settings including childcare centers, preschools and as a nanny. I have a degree in Early Childhood Education from the University of North Carolina at Chapel Hill. I have worked with children from birth to 8 years old and have experience with children who have special needs. I am certified in First Aid and CPR and am up to date on all of my training requirements. I love working with children and watching them learn and grow. I am excited"
     ]
    },
    {
     "name": "stdout",
     "output_type": "stream",
     "text": [
      " Ashley and I have been working with children and families for over 15 years in a variety of settings including childcare centers, preschools and as a nanny. I have a degree in Early Childhood Education from the University of North Carolina at Chapel Hill. I have worked with children from birth to 8 years old and have experience with children who have special needs. I am certified in First Aid and CPR and am up to date on all of my training requirements. I love working with children and watching them learn and grow. I am excited about"
     ]
    },
    {
     "name": "stdout",
     "output_type": "stream",
     "text": [
      " Ashley and I have been working with children and families for over 15 years in a variety of settings including childcare centers, preschools and as a nanny. I have a degree in Early Childhood Education from the University of North Carolina at Chapel Hill. I have worked with children from birth to 8 years old and have experience with children who have special needs. I am certified in First Aid and CPR and am up to date on all of my training requirements. I love working with children and watching them learn and grow. I am excited about the"
     ]
    },
    {
     "name": "stdout",
     "output_type": "stream",
     "text": [
      " Ashley and I have been working with children and families for over 15 years in a variety of settings including childcare centers, preschools and as a nanny. I have a degree in Early Childhood Education from the University of North Carolina at Chapel Hill. I have worked with children from birth to 8 years old and have experience with children who have special needs. I am certified in First Aid and CPR and am up to date on all of my training requirements. I love working with children and watching them learn and grow. I am excited about the opportunity"
     ]
    },
    {
     "name": "stdout",
     "output_type": "stream",
     "text": [
      " Ashley and I have been working with children and families for over 15 years in a variety of settings including childcare centers, preschools and as a nanny. I have a degree in Early Childhood Education from the University of North Carolina at Chapel Hill. I have worked with children from birth to 8 years old and have experience with children who have special needs. I am certified in First Aid and CPR and am up to date on all of my training requirements. I love working with children and watching them learn and grow. I am excited about the opportunity to"
     ]
    },
    {
     "name": "stdout",
     "output_type": "stream",
     "text": [
      " Ashley and I have been working with children and families for over 15 years in a variety of settings including childcare centers, preschools and as a nanny. I have a degree in Early Childhood Education from the University of North Carolina at Chapel Hill. I have worked with children from birth to 8 years old and have experience with children who have special needs. I am certified in First Aid and CPR and am up to date on all of my training requirements. I love working with children and watching them learn and grow. I am excited about the opportunity to work"
     ]
    },
    {
     "name": "stdout",
     "output_type": "stream",
     "text": [
      " Ashley and I have been working with children and families for over 15 years in a variety of settings including childcare centers, preschools and as a nanny. I have a degree in Early Childhood Education from the University of North Carolina at Chapel Hill. I have worked with children from birth to 8 years old and have experience with children who have special needs. I am certified in First Aid and CPR and am up to date on all of my training requirements. I love working with children and watching them learn and grow. I am excited about the opportunity to work with"
     ]
    },
    {
     "name": "stdout",
     "output_type": "stream",
     "text": [
      " Ashley and I have been working with children and families for over 15 years in a variety of settings including childcare centers, preschools and as a nanny. I have a degree in Early Childhood Education from the University of North Carolina at Chapel Hill. I have worked with children from birth to 8 years old and have experience with children who have special needs. I am certified in First Aid and CPR and am up to date on all of my training requirements. I love working with children and watching them learn and grow. I am excited about the opportunity to work with your"
     ]
    },
    {
     "name": "stdout",
     "output_type": "stream",
     "text": [
      " Ashley and I have been working with children and families for over 15 years in a variety of settings including childcare centers, preschools and as a nanny. I have a degree in Early Childhood Education from the University of North Carolina at Chapel Hill. I have worked with children from birth to 8 years old and have experience with children who have special needs. I am certified in First Aid and CPR and am up to date on all of my training requirements. I love working with children and watching them learn and grow. I am excited about the opportunity to work with your family"
     ]
    },
    {
     "name": "stdout",
     "output_type": "stream",
     "text": [
      " Ashley and I have been working with children and families for over 15 years in a variety of settings including childcare centers, preschools and as a nanny. I have a degree in Early Childhood Education from the University of North Carolina at Chapel Hill. I have worked with children from birth to 8 years old and have experience with children who have special needs. I am certified in First Aid and CPR and am up to date on all of my training requirements. I love working with children and watching them learn and grow. I am excited about the opportunity to work with your family and"
     ]
    },
    {
     "name": "stdout",
     "output_type": "stream",
     "text": [
      " Ashley and I have been working with children and families for over 15 years in a variety of settings including childcare centers, preschools and as a nanny. I have a degree in Early Childhood Education from the University of North Carolina at Chapel Hill. I have worked with children from birth to 8 years old and have experience with children who have special needs. I am certified in First Aid and CPR and am up to date on all of my training requirements. I love working with children and watching them learn and grow. I am excited about the opportunity to work with your family and provide"
     ]
    },
    {
     "name": "stdout",
     "output_type": "stream",
     "text": [
      " Ashley and I have been working with children and families for over 15 years in a variety of settings including childcare centers, preschools and as a nanny. I have a degree in Early Childhood Education from the University of North Carolina at Chapel Hill. I have worked with children from birth to 8 years old and have experience with children who have special needs. I am certified in First Aid and CPR and am up to date on all of my training requirements. I love working with children and watching them learn and grow. I am excited about the opportunity to work with your family and provide your"
     ]
    },
    {
     "name": "stdout",
     "output_type": "stream",
     "text": [
      " Ashley and I have been working with children and families for over 15 years in a variety of settings including childcare centers, preschools and as a nanny. I have a degree in Early Childhood Education from the University of North Carolina at Chapel Hill. I have worked with children from birth to 8 years old and have experience with children who have special needs. I am certified in First Aid and CPR and am up to date on all of my training requirements. I love working with children and watching them learn and grow. I am excited about the opportunity to work with your family and provide your child"
     ]
    },
    {
     "name": "stdout",
     "output_type": "stream",
     "text": [
      " Ashley and I have been working with children and families for over 15 years in a variety of settings including childcare centers, preschools and as a nanny. I have a degree in Early Childhood Education from the University of North Carolina at Chapel Hill. I have worked with children from birth to 8 years old and have experience with children who have special needs. I am certified in First Aid and CPR and am up to date on all of my training requirements. I love working with children and watching them learn and grow. I am excited about the opportunity to work with your family and provide your child with"
     ]
    },
    {
     "name": "stdout",
     "output_type": "stream",
     "text": [
      " Ashley and I have been working with children and families for over 15 years in a variety of settings including childcare centers, preschools and as a nanny. I have a degree in Early Childhood Education from the University of North Carolina at Chapel Hill. I have worked with children from birth to 8 years old and have experience with children who have special needs. I am certified in First Aid and CPR and am up to date on all of my training requirements. I love working with children and watching them learn and grow. I am excited about the opportunity to work with your family and provide your child with a"
     ]
    },
    {
     "name": "stdout",
     "output_type": "stream",
     "text": [
      " Ashley and I have been working with children and families for over 15 years in a variety of settings including childcare centers, preschools and as a nanny. I have a degree in Early Childhood Education from the University of North Carolina at Chapel Hill. I have worked with children from birth to 8 years old and have experience with children who have special needs. I am certified in First Aid and CPR and am up to date on all of my training requirements. I love working with children and watching them learn and grow. I am excited about the opportunity to work with your family and provide your child with a nurturing"
     ]
    },
    {
     "name": "stdout",
     "output_type": "stream",
     "text": [
      " Ashley and I have been working with children and families for over 15 years in a variety of settings including childcare centers, preschools and as a nanny. I have a degree in Early Childhood Education from the University of North Carolina at Chapel Hill. I have worked with children from birth to 8 years old and have experience with children who have special needs. I am certified in First Aid and CPR and am up to date on all of my training requirements. I love working with children and watching them learn and grow. I am excited about the opportunity to work with your family and provide your child with a nurturing and"
     ]
    },
    {
     "name": "stdout",
     "output_type": "stream",
     "text": [
      " Ashley and I have been working with children and families for over 15 years in a variety of settings including childcare centers, preschools and as a nanny. I have a degree in Early Childhood Education from the University of North Carolina at Chapel Hill. I have worked with children from birth to 8 years old and have experience with children who have special needs. I am certified in First Aid and CPR and am up to date on all of my training requirements. I love working with children and watching them learn and grow. I am excited about the opportunity to work with your family and provide your child with a nurturing and engaging"
     ]
    },
    {
     "name": "stdout",
     "output_type": "stream",
     "text": [
      " Ashley and I have been working with children and families for over 15 years in a variety of settings including childcare centers, preschools and as a nanny. I have a degree in Early Childhood Education from the University of North Carolina at Chapel Hill. I have worked with children from birth to 8 years old and have experience with children who have special needs. I am certified in First Aid and CPR and am up to date on all of my training requirements. I love working with children and watching them learn and grow. I am excited about the opportunity to work with your family and provide your child with a nurturing and engaging environment"
     ]
    },
    {
     "name": "stdout",
     "output_type": "stream",
     "text": [
      " Ashley and I have been working with children and families for over 15 years in a variety of settings including childcare centers, preschools and as a nanny. I have a degree in Early Childhood Education from the University of North Carolina at Chapel Hill. I have worked with children from birth to 8 years old and have experience with children who have special needs. I am certified in First Aid and CPR and am up to date on all of my training requirements. I love working with children and watching them learn and grow. I am excited about the opportunity to work with your family and provide your child with a nurturing and engaging environment."
     ]
    },
    {
     "name": "stdout",
     "output_type": "stream",
     "text": [
      " Ashley and I have been working with children and families for over 15 years in a variety of settings including childcare centers, preschools and as a nanny. I have a degree in Early Childhood Education from the University of North Carolina at Chapel Hill. I have worked with children from birth to 8 years old and have experience with children who have special needs. I am certified in First Aid and CPR and am up to date on all of my training requirements. I love working with children and watching them learn and grow. I am excited about the opportunity to work with your family and provide your child with a nurturing and engaging environment. I"
     ]
    },
    {
     "name": "stdout",
     "output_type": "stream",
     "text": [
      " Ashley and I have been working with children and families for over 15 years in a variety of settings including childcare centers, preschools and as a nanny. I have a degree in Early Childhood Education from the University of North Carolina at Chapel Hill. I have worked with children from birth to 8 years old and have experience with children who have special needs. I am certified in First Aid and CPR and am up to date on all of my training requirements. I love working with children and watching them learn and grow. I am excited about the opportunity to work with your family and provide your child with a nurturing and engaging environment. I am"
     ]
    },
    {
     "name": "stdout",
     "output_type": "stream",
     "text": [
      " Ashley and I have been working with children and families for over 15 years in a variety of settings including childcare centers, preschools and as a nanny. I have a degree in Early Childhood Education from the University of North Carolina at Chapel Hill. I have worked with children from birth to 8 years old and have experience with children who have special needs. I am certified in First Aid and CPR and am up to date on all of my training requirements. I love working with children and watching them learn and grow. I am excited about the opportunity to work with your family and provide your child with a nurturing and engaging environment. I am available"
     ]
    },
    {
     "name": "stdout",
     "output_type": "stream",
     "text": [
      "\n",
      "\n",
      "Prompt: The capital of France is\n",
      "Generated text: "
     ]
    },
    {
     "name": "stdout",
     "output_type": "stream",
     "text": [
      " a"
     ]
    },
    {
     "name": "stdout",
     "output_type": "stream",
     "text": [
      " a treasure"
     ]
    },
    {
     "name": "stdout",
     "output_type": "stream",
     "text": [
      " a treasure tro"
     ]
    },
    {
     "name": "stdout",
     "output_type": "stream",
     "text": [
      " a treasure trove"
     ]
    },
    {
     "name": "stdout",
     "output_type": "stream",
     "text": [
      " a treasure trove of"
     ]
    },
    {
     "name": "stdout",
     "output_type": "stream",
     "text": [
      " a treasure trove of history"
     ]
    },
    {
     "name": "stdout",
     "output_type": "stream",
     "text": [
      " a treasure trove of history,"
     ]
    },
    {
     "name": "stdout",
     "output_type": "stream",
     "text": [
      " a treasure trove of history, art"
     ]
    },
    {
     "name": "stdout",
     "output_type": "stream",
     "text": [
      " a treasure trove of history, art,"
     ]
    },
    {
     "name": "stdout",
     "output_type": "stream",
     "text": [
      " a treasure trove of history, art, fashion"
     ]
    },
    {
     "name": "stdout",
     "output_type": "stream",
     "text": [
      " a treasure trove of history, art, fashion,"
     ]
    },
    {
     "name": "stdout",
     "output_type": "stream",
     "text": [
      " a treasure trove of history, art, fashion, and"
     ]
    },
    {
     "name": "stdout",
     "output_type": "stream",
     "text": [
      " a treasure trove of history, art, fashion, and culinary"
     ]
    },
    {
     "name": "stdout",
     "output_type": "stream",
     "text": [
      " a treasure trove of history, art, fashion, and culinary delights"
     ]
    },
    {
     "name": "stdout",
     "output_type": "stream",
     "text": [
      " a treasure trove of history, art, fashion, and culinary delights,"
     ]
    },
    {
     "name": "stdout",
     "output_type": "stream",
     "text": [
      " a treasure trove of history, art, fashion, and culinary delights, waiting"
     ]
    },
    {
     "name": "stdout",
     "output_type": "stream",
     "text": [
      " a treasure trove of history, art, fashion, and culinary delights, waiting to"
     ]
    },
    {
     "name": "stdout",
     "output_type": "stream",
     "text": [
      " a treasure trove of history, art, fashion, and culinary delights, waiting to be"
     ]
    },
    {
     "name": "stdout",
     "output_type": "stream",
     "text": [
      " a treasure trove of history, art, fashion, and culinary delights, waiting to be explored"
     ]
    },
    {
     "name": "stdout",
     "output_type": "stream",
     "text": [
      " a treasure trove of history, art, fashion, and culinary delights, waiting to be explored."
     ]
    },
    {
     "name": "stdout",
     "output_type": "stream",
     "text": [
      " a treasure trove of history, art, fashion, and culinary delights, waiting to be explored. From"
     ]
    },
    {
     "name": "stdout",
     "output_type": "stream",
     "text": [
      " a treasure trove of history, art, fashion, and culinary delights, waiting to be explored. From the"
     ]
    },
    {
     "name": "stdout",
     "output_type": "stream",
     "text": [
      " a treasure trove of history, art, fashion, and culinary delights, waiting to be explored. From the iconic"
     ]
    },
    {
     "name": "stdout",
     "output_type": "stream",
     "text": [
      " a treasure trove of history, art, fashion, and culinary delights, waiting to be explored. From the iconic E"
     ]
    },
    {
     "name": "stdout",
     "output_type": "stream",
     "text": [
      " a treasure trove of history, art, fashion, and culinary delights, waiting to be explored. From the iconic Eiff"
     ]
    },
    {
     "name": "stdout",
     "output_type": "stream",
     "text": [
      " a treasure trove of history, art, fashion, and culinary delights, waiting to be explored. From the iconic Eiffel"
     ]
    },
    {
     "name": "stdout",
     "output_type": "stream",
     "text": [
      " a treasure trove of history, art, fashion, and culinary delights, waiting to be explored. From the iconic Eiffel Tower"
     ]
    },
    {
     "name": "stdout",
     "output_type": "stream",
     "text": [
      " a treasure trove of history, art, fashion, and culinary delights, waiting to be explored. From the iconic Eiffel Tower to"
     ]
    },
    {
     "name": "stdout",
     "output_type": "stream",
     "text": [
      " a treasure trove of history, art, fashion, and culinary delights, waiting to be explored. From the iconic Eiffel Tower to the"
     ]
    },
    {
     "name": "stdout",
     "output_type": "stream",
     "text": [
      " a treasure trove of history, art, fashion, and culinary delights, waiting to be explored. From the iconic Eiffel Tower to the world"
     ]
    },
    {
     "name": "stdout",
     "output_type": "stream",
     "text": [
      " a treasure trove of history, art, fashion, and culinary delights, waiting to be explored. From the iconic Eiffel Tower to the world-f"
     ]
    },
    {
     "name": "stdout",
     "output_type": "stream",
     "text": [
      " a treasure trove of history, art, fashion, and culinary delights, waiting to be explored. From the iconic Eiffel Tower to the world-famous"
     ]
    },
    {
     "name": "stdout",
     "output_type": "stream",
     "text": [
      " a treasure trove of history, art, fashion, and culinary delights, waiting to be explored. From the iconic Eiffel Tower to the world-famous Lou"
     ]
    },
    {
     "name": "stdout",
     "output_type": "stream",
     "text": [
      " a treasure trove of history, art, fashion, and culinary delights, waiting to be explored. From the iconic Eiffel Tower to the world-famous Louvre"
     ]
    },
    {
     "name": "stdout",
     "output_type": "stream",
     "text": [
      " a treasure trove of history, art, fashion, and culinary delights, waiting to be explored. From the iconic Eiffel Tower to the world-famous Louvre Museum"
     ]
    },
    {
     "name": "stdout",
     "output_type": "stream",
     "text": [
      " a treasure trove of history, art, fashion, and culinary delights, waiting to be explored. From the iconic Eiffel Tower to the world-famous Louvre Museum,"
     ]
    },
    {
     "name": "stdout",
     "output_type": "stream",
     "text": [
      " a treasure trove of history, art, fashion, and culinary delights, waiting to be explored. From the iconic Eiffel Tower to the world-famous Louvre Museum, Paris"
     ]
    },
    {
     "name": "stdout",
     "output_type": "stream",
     "text": [
      " a treasure trove of history, art, fashion, and culinary delights, waiting to be explored. From the iconic Eiffel Tower to the world-famous Louvre Museum, Paris has"
     ]
    },
    {
     "name": "stdout",
     "output_type": "stream",
     "text": [
      " a treasure trove of history, art, fashion, and culinary delights, waiting to be explored. From the iconic Eiffel Tower to the world-famous Louvre Museum, Paris has something"
     ]
    },
    {
     "name": "stdout",
     "output_type": "stream",
     "text": [
      " a treasure trove of history, art, fashion, and culinary delights, waiting to be explored. From the iconic Eiffel Tower to the world-famous Louvre Museum, Paris has something to"
     ]
    },
    {
     "name": "stdout",
     "output_type": "stream",
     "text": [
      " a treasure trove of history, art, fashion, and culinary delights, waiting to be explored. From the iconic Eiffel Tower to the world-famous Louvre Museum, Paris has something to offer"
     ]
    },
    {
     "name": "stdout",
     "output_type": "stream",
     "text": [
      " a treasure trove of history, art, fashion, and culinary delights, waiting to be explored. From the iconic Eiffel Tower to the world-famous Louvre Museum, Paris has something to offer for"
     ]
    },
    {
     "name": "stdout",
     "output_type": "stream",
     "text": [
      " a treasure trove of history, art, fashion, and culinary delights, waiting to be explored. From the iconic Eiffel Tower to the world-famous Louvre Museum, Paris has something to offer for everyone"
     ]
    },
    {
     "name": "stdout",
     "output_type": "stream",
     "text": [
      " a treasure trove of history, art, fashion, and culinary delights, waiting to be explored. From the iconic Eiffel Tower to the world-famous Louvre Museum, Paris has something to offer for everyone."
     ]
    },
    {
     "name": "stdout",
     "output_type": "stream",
     "text": [
      " a treasure trove of history, art, fashion, and culinary delights, waiting to be explored. From the iconic Eiffel Tower to the world-famous Louvre Museum, Paris has something to offer for everyone. So"
     ]
    },
    {
     "name": "stdout",
     "output_type": "stream",
     "text": [
      " a treasure trove of history, art, fashion, and culinary delights, waiting to be explored. From the iconic Eiffel Tower to the world-famous Louvre Museum, Paris has something to offer for everyone. So,"
     ]
    },
    {
     "name": "stdout",
     "output_type": "stream",
     "text": [
      " a treasure trove of history, art, fashion, and culinary delights, waiting to be explored. From the iconic Eiffel Tower to the world-famous Louvre Museum, Paris has something to offer for everyone. So, pack"
     ]
    },
    {
     "name": "stdout",
     "output_type": "stream",
     "text": [
      " a treasure trove of history, art, fashion, and culinary delights, waiting to be explored. From the iconic Eiffel Tower to the world-famous Louvre Museum, Paris has something to offer for everyone. So, pack your"
     ]
    },
    {
     "name": "stdout",
     "output_type": "stream",
     "text": [
      " a treasure trove of history, art, fashion, and culinary delights, waiting to be explored. From the iconic Eiffel Tower to the world-famous Louvre Museum, Paris has something to offer for everyone. So, pack your bags"
     ]
    },
    {
     "name": "stdout",
     "output_type": "stream",
     "text": [
      " a treasure trove of history, art, fashion, and culinary delights, waiting to be explored. From the iconic Eiffel Tower to the world-famous Louvre Museum, Paris has something to offer for everyone. So, pack your bags,"
     ]
    },
    {
     "name": "stdout",
     "output_type": "stream",
     "text": [
      " a treasure trove of history, art, fashion, and culinary delights, waiting to be explored. From the iconic Eiffel Tower to the world-famous Louvre Museum, Paris has something to offer for everyone. So, pack your bags, and"
     ]
    },
    {
     "name": "stdout",
     "output_type": "stream",
     "text": [
      " a treasure trove of history, art, fashion, and culinary delights, waiting to be explored. From the iconic Eiffel Tower to the world-famous Louvre Museum, Paris has something to offer for everyone. So, pack your bags, and let"
     ]
    },
    {
     "name": "stdout",
     "output_type": "stream",
     "text": [
      " a treasure trove of history, art, fashion, and culinary delights, waiting to be explored. From the iconic Eiffel Tower to the world-famous Louvre Museum, Paris has something to offer for everyone. So, pack your bags, and let's"
     ]
    },
    {
     "name": "stdout",
     "output_type": "stream",
     "text": [
      " a treasure trove of history, art, fashion, and culinary delights, waiting to be explored. From the iconic Eiffel Tower to the world-famous Louvre Museum, Paris has something to offer for everyone. So, pack your bags, and let's embark"
     ]
    },
    {
     "name": "stdout",
     "output_type": "stream",
     "text": [
      " a treasure trove of history, art, fashion, and culinary delights, waiting to be explored. From the iconic Eiffel Tower to the world-famous Louvre Museum, Paris has something to offer for everyone. So, pack your bags, and let's embark on"
     ]
    },
    {
     "name": "stdout",
     "output_type": "stream",
     "text": [
      " a treasure trove of history, art, fashion, and culinary delights, waiting to be explored. From the iconic Eiffel Tower to the world-famous Louvre Museum, Paris has something to offer for everyone. So, pack your bags, and let's embark on a"
     ]
    },
    {
     "name": "stdout",
     "output_type": "stream",
     "text": [
      " a treasure trove of history, art, fashion, and culinary delights, waiting to be explored. From the iconic Eiffel Tower to the world-famous Louvre Museum, Paris has something to offer for everyone. So, pack your bags, and let's embark on a journey"
     ]
    },
    {
     "name": "stdout",
     "output_type": "stream",
     "text": [
      " a treasure trove of history, art, fashion, and culinary delights, waiting to be explored. From the iconic Eiffel Tower to the world-famous Louvre Museum, Paris has something to offer for everyone. So, pack your bags, and let's embark on a journey through"
     ]
    },
    {
     "name": "stdout",
     "output_type": "stream",
     "text": [
      " a treasure trove of history, art, fashion, and culinary delights, waiting to be explored. From the iconic Eiffel Tower to the world-famous Louvre Museum, Paris has something to offer for everyone. So, pack your bags, and let's embark on a journey through the"
     ]
    },
    {
     "name": "stdout",
     "output_type": "stream",
     "text": [
      " a treasure trove of history, art, fashion, and culinary delights, waiting to be explored. From the iconic Eiffel Tower to the world-famous Louvre Museum, Paris has something to offer for everyone. So, pack your bags, and let's embark on a journey through the City"
     ]
    },
    {
     "name": "stdout",
     "output_type": "stream",
     "text": [
      " a treasure trove of history, art, fashion, and culinary delights, waiting to be explored. From the iconic Eiffel Tower to the world-famous Louvre Museum, Paris has something to offer for everyone. So, pack your bags, and let's embark on a journey through the City of"
     ]
    },
    {
     "name": "stdout",
     "output_type": "stream",
     "text": [
      " a treasure trove of history, art, fashion, and culinary delights, waiting to be explored. From the iconic Eiffel Tower to the world-famous Louvre Museum, Paris has something to offer for everyone. So, pack your bags, and let's embark on a journey through the City of Light"
     ]
    },
    {
     "name": "stdout",
     "output_type": "stream",
     "text": [
      " a treasure trove of history, art, fashion, and culinary delights, waiting to be explored. From the iconic Eiffel Tower to the world-famous Louvre Museum, Paris has something to offer for everyone. So, pack your bags, and let's embark on a journey through the City of Light!\n"
     ]
    },
    {
     "name": "stdout",
     "output_type": "stream",
     "text": [
      " a treasure trove of history, art, fashion, and culinary delights, waiting to be explored. From the iconic Eiffel Tower to the world-famous Louvre Museum, Paris has something to offer for everyone. So, pack your bags, and let's embark on a journey through the City of Light!\n",
      "Day"
     ]
    },
    {
     "name": "stdout",
     "output_type": "stream",
     "text": [
      " a treasure trove of history, art, fashion, and culinary delights, waiting to be explored. From the iconic Eiffel Tower to the world-famous Louvre Museum, Paris has something to offer for everyone. So, pack your bags, and let's embark on a journey through the City of Light!\n",
      "Day "
     ]
    },
    {
     "name": "stdout",
     "output_type": "stream",
     "text": [
      " a treasure trove of history, art, fashion, and culinary delights, waiting to be explored. From the iconic Eiffel Tower to the world-famous Louvre Museum, Paris has something to offer for everyone. So, pack your bags, and let's embark on a journey through the City of Light!\n",
      "Day 1"
     ]
    },
    {
     "name": "stdout",
     "output_type": "stream",
     "text": [
      " a treasure trove of history, art, fashion, and culinary delights, waiting to be explored. From the iconic Eiffel Tower to the world-famous Louvre Museum, Paris has something to offer for everyone. So, pack your bags, and let's embark on a journey through the City of Light!\n",
      "Day 1:"
     ]
    },
    {
     "name": "stdout",
     "output_type": "stream",
     "text": [
      " a treasure trove of history, art, fashion, and culinary delights, waiting to be explored. From the iconic Eiffel Tower to the world-famous Louvre Museum, Paris has something to offer for everyone. So, pack your bags, and let's embark on a journey through the City of Light!\n",
      "Day 1: Arrival"
     ]
    },
    {
     "name": "stdout",
     "output_type": "stream",
     "text": [
      " a treasure trove of history, art, fashion, and culinary delights, waiting to be explored. From the iconic Eiffel Tower to the world-famous Louvre Museum, Paris has something to offer for everyone. So, pack your bags, and let's embark on a journey through the City of Light!\n",
      "Day 1: Arrival in"
     ]
    },
    {
     "name": "stdout",
     "output_type": "stream",
     "text": [
      " a treasure trove of history, art, fashion, and culinary delights, waiting to be explored. From the iconic Eiffel Tower to the world-famous Louvre Museum, Paris has something to offer for everyone. So, pack your bags, and let's embark on a journey through the City of Light!\n",
      "Day 1: Arrival in Paris"
     ]
    },
    {
     "name": "stdout",
     "output_type": "stream",
     "text": [
      " a treasure trove of history, art, fashion, and culinary delights, waiting to be explored. From the iconic Eiffel Tower to the world-famous Louvre Museum, Paris has something to offer for everyone. So, pack your bags, and let's embark on a journey through the City of Light!\n",
      "Day 1: Arrival in Paris\n"
     ]
    },
    {
     "name": "stdout",
     "output_type": "stream",
     "text": [
      " a treasure trove of history, art, fashion, and culinary delights, waiting to be explored. From the iconic Eiffel Tower to the world-famous Louvre Museum, Paris has something to offer for everyone. So, pack your bags, and let's embark on a journey through the City of Light!\n",
      "Day 1: Arrival in Paris\n",
      "Arr"
     ]
    },
    {
     "name": "stdout",
     "output_type": "stream",
     "text": [
      " a treasure trove of history, art, fashion, and culinary delights, waiting to be explored. From the iconic Eiffel Tower to the world-famous Louvre Museum, Paris has something to offer for everyone. So, pack your bags, and let's embark on a journey through the City of Light!\n",
      "Day 1: Arrival in Paris\n",
      "Arrive"
     ]
    },
    {
     "name": "stdout",
     "output_type": "stream",
     "text": [
      " a treasure trove of history, art, fashion, and culinary delights, waiting to be explored. From the iconic Eiffel Tower to the world-famous Louvre Museum, Paris has something to offer for everyone. So, pack your bags, and let's embark on a journey through the City of Light!\n",
      "Day 1: Arrival in Paris\n",
      "Arrive at"
     ]
    },
    {
     "name": "stdout",
     "output_type": "stream",
     "text": [
      " a treasure trove of history, art, fashion, and culinary delights, waiting to be explored. From the iconic Eiffel Tower to the world-famous Louvre Museum, Paris has something to offer for everyone. So, pack your bags, and let's embark on a journey through the City of Light!\n",
      "Day 1: Arrival in Paris\n",
      "Arrive at Paris"
     ]
    },
    {
     "name": "stdout",
     "output_type": "stream",
     "text": [
      " a treasure trove of history, art, fashion, and culinary delights, waiting to be explored. From the iconic Eiffel Tower to the world-famous Louvre Museum, Paris has something to offer for everyone. So, pack your bags, and let's embark on a journey through the City of Light!\n",
      "Day 1: Arrival in Paris\n",
      "Arrive at Paris Charles"
     ]
    },
    {
     "name": "stdout",
     "output_type": "stream",
     "text": [
      " a treasure trove of history, art, fashion, and culinary delights, waiting to be explored. From the iconic Eiffel Tower to the world-famous Louvre Museum, Paris has something to offer for everyone. So, pack your bags, and let's embark on a journey through the City of Light!\n",
      "Day 1: Arrival in Paris\n",
      "Arrive at Paris Charles de"
     ]
    },
    {
     "name": "stdout",
     "output_type": "stream",
     "text": [
      " a treasure trove of history, art, fashion, and culinary delights, waiting to be explored. From the iconic Eiffel Tower to the world-famous Louvre Museum, Paris has something to offer for everyone. So, pack your bags, and let's embark on a journey through the City of Light!\n",
      "Day 1: Arrival in Paris\n",
      "Arrive at Paris Charles de Gaul"
     ]
    },
    {
     "name": "stdout",
     "output_type": "stream",
     "text": [
      " a treasure trove of history, art, fashion, and culinary delights, waiting to be explored. From the iconic Eiffel Tower to the world-famous Louvre Museum, Paris has something to offer for everyone. So, pack your bags, and let's embark on a journey through the City of Light!\n",
      "Day 1: Arrival in Paris\n",
      "Arrive at Paris Charles de Gaulle"
     ]
    },
    {
     "name": "stdout",
     "output_type": "stream",
     "text": [
      " a treasure trove of history, art, fashion, and culinary delights, waiting to be explored. From the iconic Eiffel Tower to the world-famous Louvre Museum, Paris has something to offer for everyone. So, pack your bags, and let's embark on a journey through the City of Light!\n",
      "Day 1: Arrival in Paris\n",
      "Arrive at Paris Charles de Gaulle Airport"
     ]
    },
    {
     "name": "stdout",
     "output_type": "stream",
     "text": [
      " a treasure trove of history, art, fashion, and culinary delights, waiting to be explored. From the iconic Eiffel Tower to the world-famous Louvre Museum, Paris has something to offer for everyone. So, pack your bags, and let's embark on a journey through the City of Light!\n",
      "Day 1: Arrival in Paris\n",
      "Arrive at Paris Charles de Gaulle Airport and"
     ]
    },
    {
     "name": "stdout",
     "output_type": "stream",
     "text": [
      " a treasure trove of history, art, fashion, and culinary delights, waiting to be explored. From the iconic Eiffel Tower to the world-famous Louvre Museum, Paris has something to offer for everyone. So, pack your bags, and let's embark on a journey through the City of Light!\n",
      "Day 1: Arrival in Paris\n",
      "Arrive at Paris Charles de Gaulle Airport and take"
     ]
    },
    {
     "name": "stdout",
     "output_type": "stream",
     "text": [
      " a treasure trove of history, art, fashion, and culinary delights, waiting to be explored. From the iconic Eiffel Tower to the world-famous Louvre Museum, Paris has something to offer for everyone. So, pack your bags, and let's embark on a journey through the City of Light!\n",
      "Day 1: Arrival in Paris\n",
      "Arrive at Paris Charles de Gaulle Airport and take a"
     ]
    },
    {
     "name": "stdout",
     "output_type": "stream",
     "text": [
      " a treasure trove of history, art, fashion, and culinary delights, waiting to be explored. From the iconic Eiffel Tower to the world-famous Louvre Museum, Paris has something to offer for everyone. So, pack your bags, and let's embark on a journey through the City of Light!\n",
      "Day 1: Arrival in Paris\n",
      "Arrive at Paris Charles de Gaulle Airport and take a train"
     ]
    },
    {
     "name": "stdout",
     "output_type": "stream",
     "text": [
      " a treasure trove of history, art, fashion, and culinary delights, waiting to be explored. From the iconic Eiffel Tower to the world-famous Louvre Museum, Paris has something to offer for everyone. So, pack your bags, and let's embark on a journey through the City of Light!\n",
      "Day 1: Arrival in Paris\n",
      "Arrive at Paris Charles de Gaulle Airport and take a train or"
     ]
    },
    {
     "name": "stdout",
     "output_type": "stream",
     "text": [
      " a treasure trove of history, art, fashion, and culinary delights, waiting to be explored. From the iconic Eiffel Tower to the world-famous Louvre Museum, Paris has something to offer for everyone. So, pack your bags, and let's embark on a journey through the City of Light!\n",
      "Day 1: Arrival in Paris\n",
      "Arrive at Paris Charles de Gaulle Airport and take a train or taxi"
     ]
    },
    {
     "name": "stdout",
     "output_type": "stream",
     "text": [
      " a treasure trove of history, art, fashion, and culinary delights, waiting to be explored. From the iconic Eiffel Tower to the world-famous Louvre Museum, Paris has something to offer for everyone. So, pack your bags, and let's embark on a journey through the City of Light!\n",
      "Day 1: Arrival in Paris\n",
      "Arrive at Paris Charles de Gaulle Airport and take a train or taxi to"
     ]
    },
    {
     "name": "stdout",
     "output_type": "stream",
     "text": [
      " a treasure trove of history, art, fashion, and culinary delights, waiting to be explored. From the iconic Eiffel Tower to the world-famous Louvre Museum, Paris has something to offer for everyone. So, pack your bags, and let's embark on a journey through the City of Light!\n",
      "Day 1: Arrival in Paris\n",
      "Arrive at Paris Charles de Gaulle Airport and take a train or taxi to your"
     ]
    },
    {
     "name": "stdout",
     "output_type": "stream",
     "text": [
      " a treasure trove of history, art, fashion, and culinary delights, waiting to be explored. From the iconic Eiffel Tower to the world-famous Louvre Museum, Paris has something to offer for everyone. So, pack your bags, and let's embark on a journey through the City of Light!\n",
      "Day 1: Arrival in Paris\n",
      "Arrive at Paris Charles de Gaulle Airport and take a train or taxi to your hotel"
     ]
    },
    {
     "name": "stdout",
     "output_type": "stream",
     "text": [
      " a treasure trove of history, art, fashion, and culinary delights, waiting to be explored. From the iconic Eiffel Tower to the world-famous Louvre Museum, Paris has something to offer for everyone. So, pack your bags, and let's embark on a journey through the City of Light!\n",
      "Day 1: Arrival in Paris\n",
      "Arrive at Paris Charles de Gaulle Airport and take a train or taxi to your hotel."
     ]
    },
    {
     "name": "stdout",
     "output_type": "stream",
     "text": [
      " a treasure trove of history, art, fashion, and culinary delights, waiting to be explored. From the iconic Eiffel Tower to the world-famous Louvre Museum, Paris has something to offer for everyone. So, pack your bags, and let's embark on a journey through the City of Light!\n",
      "Day 1: Arrival in Paris\n",
      "Arrive at Paris Charles de Gaulle Airport and take a train or taxi to your hotel. Check"
     ]
    },
    {
     "name": "stdout",
     "output_type": "stream",
     "text": [
      " a treasure trove of history, art, fashion, and culinary delights, waiting to be explored. From the iconic Eiffel Tower to the world-famous Louvre Museum, Paris has something to offer for everyone. So, pack your bags, and let's embark on a journey through the City of Light!\n",
      "Day 1: Arrival in Paris\n",
      "Arrive at Paris Charles de Gaulle Airport and take a train or taxi to your hotel. Check-in"
     ]
    },
    {
     "name": "stdout",
     "output_type": "stream",
     "text": [
      " a treasure trove of history, art, fashion, and culinary delights, waiting to be explored. From the iconic Eiffel Tower to the world-famous Louvre Museum, Paris has something to offer for everyone. So, pack your bags, and let's embark on a journey through the City of Light!\n",
      "Day 1: Arrival in Paris\n",
      "Arrive at Paris Charles de Gaulle Airport and take a train or taxi to your hotel. Check-in to"
     ]
    },
    {
     "name": "stdout",
     "output_type": "stream",
     "text": [
      " a treasure trove of history, art, fashion, and culinary delights, waiting to be explored. From the iconic Eiffel Tower to the world-famous Louvre Museum, Paris has something to offer for everyone. So, pack your bags, and let's embark on a journey through the City of Light!\n",
      "Day 1: Arrival in Paris\n",
      "Arrive at Paris Charles de Gaulle Airport and take a train or taxi to your hotel. Check-in to your"
     ]
    },
    {
     "name": "stdout",
     "output_type": "stream",
     "text": [
      " a treasure trove of history, art, fashion, and culinary delights, waiting to be explored. From the iconic Eiffel Tower to the world-famous Louvre Museum, Paris has something to offer for everyone. So, pack your bags, and let's embark on a journey through the City of Light!\n",
      "Day 1: Arrival in Paris\n",
      "Arrive at Paris Charles de Gaulle Airport and take a train or taxi to your hotel. Check-in to your hotel"
     ]
    },
    {
     "name": "stdout",
     "output_type": "stream",
     "text": [
      " a treasure trove of history, art, fashion, and culinary delights, waiting to be explored. From the iconic Eiffel Tower to the world-famous Louvre Museum, Paris has something to offer for everyone. So, pack your bags, and let's embark on a journey through the City of Light!\n",
      "Day 1: Arrival in Paris\n",
      "Arrive at Paris Charles de Gaulle Airport and take a train or taxi to your hotel. Check-in to your hotel and"
     ]
    },
    {
     "name": "stdout",
     "output_type": "stream",
     "text": [
      " a treasure trove of history, art, fashion, and culinary delights, waiting to be explored. From the iconic Eiffel Tower to the world-famous Louvre Museum, Paris has something to offer for everyone. So, pack your bags, and let's embark on a journey through the City of Light!\n",
      "Day 1: Arrival in Paris\n",
      "Arrive at Paris Charles de Gaulle Airport and take a train or taxi to your hotel. Check-in to your hotel and spend"
     ]
    },
    {
     "name": "stdout",
     "output_type": "stream",
     "text": [
      " a treasure trove of history, art, fashion, and culinary delights, waiting to be explored. From the iconic Eiffel Tower to the world-famous Louvre Museum, Paris has something to offer for everyone. So, pack your bags, and let's embark on a journey through the City of Light!\n",
      "Day 1: Arrival in Paris\n",
      "Arrive at Paris Charles de Gaulle Airport and take a train or taxi to your hotel. Check-in to your hotel and spend the"
     ]
    },
    {
     "name": "stdout",
     "output_type": "stream",
     "text": [
      " a treasure trove of history, art, fashion, and culinary delights, waiting to be explored. From the iconic Eiffel Tower to the world-famous Louvre Museum, Paris has something to offer for everyone. So, pack your bags, and let's embark on a journey through the City of Light!\n",
      "Day 1: Arrival in Paris\n",
      "Arrive at Paris Charles de Gaulle Airport and take a train or taxi to your hotel. Check-in to your hotel and spend the day"
     ]
    },
    {
     "name": "stdout",
     "output_type": "stream",
     "text": [
      " a treasure trove of history, art, fashion, and culinary delights, waiting to be explored. From the iconic Eiffel Tower to the world-famous Louvre Museum, Paris has something to offer for everyone. So, pack your bags, and let's embark on a journey through the City of Light!\n",
      "Day 1: Arrival in Paris\n",
      "Arrive at Paris Charles de Gaulle Airport and take a train or taxi to your hotel. Check-in to your hotel and spend the day relaxing"
     ]
    },
    {
     "name": "stdout",
     "output_type": "stream",
     "text": [
      " a treasure trove of history, art, fashion, and culinary delights, waiting to be explored. From the iconic Eiffel Tower to the world-famous Louvre Museum, Paris has something to offer for everyone. So, pack your bags, and let's embark on a journey through the City of Light!\n",
      "Day 1: Arrival in Paris\n",
      "Arrive at Paris Charles de Gaulle Airport and take a train or taxi to your hotel. Check-in to your hotel and spend the day relaxing and"
     ]
    },
    {
     "name": "stdout",
     "output_type": "stream",
     "text": [
      " a treasure trove of history, art, fashion, and culinary delights, waiting to be explored. From the iconic Eiffel Tower to the world-famous Louvre Museum, Paris has something to offer for everyone. So, pack your bags, and let's embark on a journey through the City of Light!\n",
      "Day 1: Arrival in Paris\n",
      "Arrive at Paris Charles de Gaulle Airport and take a train or taxi to your hotel. Check-in to your hotel and spend the day relaxing and exploring"
     ]
    },
    {
     "name": "stdout",
     "output_type": "stream",
     "text": [
      " a treasure trove of history, art, fashion, and culinary delights, waiting to be explored. From the iconic Eiffel Tower to the world-famous Louvre Museum, Paris has something to offer for everyone. So, pack your bags, and let's embark on a journey through the City of Light!\n",
      "Day 1: Arrival in Paris\n",
      "Arrive at Paris Charles de Gaulle Airport and take a train or taxi to your hotel. Check-in to your hotel and spend the day relaxing and exploring your"
     ]
    },
    {
     "name": "stdout",
     "output_type": "stream",
     "text": [
      " a treasure trove of history, art, fashion, and culinary delights, waiting to be explored. From the iconic Eiffel Tower to the world-famous Louvre Museum, Paris has something to offer for everyone. So, pack your bags, and let's embark on a journey through the City of Light!\n",
      "Day 1: Arrival in Paris\n",
      "Arrive at Paris Charles de Gaulle Airport and take a train or taxi to your hotel. Check-in to your hotel and spend the day relaxing and exploring your surroundings"
     ]
    },
    {
     "name": "stdout",
     "output_type": "stream",
     "text": [
      " a treasure trove of history, art, fashion, and culinary delights, waiting to be explored. From the iconic Eiffel Tower to the world-famous Louvre Museum, Paris has something to offer for everyone. So, pack your bags, and let's embark on a journey through the City of Light!\n",
      "Day 1: Arrival in Paris\n",
      "Arrive at Paris Charles de Gaulle Airport and take a train or taxi to your hotel. Check-in to your hotel and spend the day relaxing and exploring your surroundings."
     ]
    },
    {
     "name": "stdout",
     "output_type": "stream",
     "text": [
      " a treasure trove of history, art, fashion, and culinary delights, waiting to be explored. From the iconic Eiffel Tower to the world-famous Louvre Museum, Paris has something to offer for everyone. So, pack your bags, and let's embark on a journey through the City of Light!\n",
      "Day 1: Arrival in Paris\n",
      "Arrive at Paris Charles de Gaulle Airport and take a train or taxi to your hotel. Check-in to your hotel and spend the day relaxing and exploring your surroundings. In"
     ]
    },
    {
     "name": "stdout",
     "output_type": "stream",
     "text": [
      " a treasure trove of history, art, fashion, and culinary delights, waiting to be explored. From the iconic Eiffel Tower to the world-famous Louvre Museum, Paris has something to offer for everyone. So, pack your bags, and let's embark on a journey through the City of Light!\n",
      "Day 1: Arrival in Paris\n",
      "Arrive at Paris Charles de Gaulle Airport and take a train or taxi to your hotel. Check-in to your hotel and spend the day relaxing and exploring your surroundings. In the"
     ]
    },
    {
     "name": "stdout",
     "output_type": "stream",
     "text": [
      " a treasure trove of history, art, fashion, and culinary delights, waiting to be explored. From the iconic Eiffel Tower to the world-famous Louvre Museum, Paris has something to offer for everyone. So, pack your bags, and let's embark on a journey through the City of Light!\n",
      "Day 1: Arrival in Paris\n",
      "Arrive at Paris Charles de Gaulle Airport and take a train or taxi to your hotel. Check-in to your hotel and spend the day relaxing and exploring your surroundings. In the evening"
     ]
    },
    {
     "name": "stdout",
     "output_type": "stream",
     "text": [
      " a treasure trove of history, art, fashion, and culinary delights, waiting to be explored. From the iconic Eiffel Tower to the world-famous Louvre Museum, Paris has something to offer for everyone. So, pack your bags, and let's embark on a journey through the City of Light!\n",
      "Day 1: Arrival in Paris\n",
      "Arrive at Paris Charles de Gaulle Airport and take a train or taxi to your hotel. Check-in to your hotel and spend the day relaxing and exploring your surroundings. In the evening,"
     ]
    },
    {
     "name": "stdout",
     "output_type": "stream",
     "text": [
      " a treasure trove of history, art, fashion, and culinary delights, waiting to be explored. From the iconic Eiffel Tower to the world-famous Louvre Museum, Paris has something to offer for everyone. So, pack your bags, and let's embark on a journey through the City of Light!\n",
      "Day 1: Arrival in Paris\n",
      "Arrive at Paris Charles de Gaulle Airport and take a train or taxi to your hotel. Check-in to your hotel and spend the day relaxing and exploring your surroundings. In the evening, head"
     ]
    },
    {
     "name": "stdout",
     "output_type": "stream",
     "text": [
      " a treasure trove of history, art, fashion, and culinary delights, waiting to be explored. From the iconic Eiffel Tower to the world-famous Louvre Museum, Paris has something to offer for everyone. So, pack your bags, and let's embark on a journey through the City of Light!\n",
      "Day 1: Arrival in Paris\n",
      "Arrive at Paris Charles de Gaulle Airport and take a train or taxi to your hotel. Check-in to your hotel and spend the day relaxing and exploring your surroundings. In the evening, head to"
     ]
    },
    {
     "name": "stdout",
     "output_type": "stream",
     "text": [
      " a treasure trove of history, art, fashion, and culinary delights, waiting to be explored. From the iconic Eiffel Tower to the world-famous Louvre Museum, Paris has something to offer for everyone. So, pack your bags, and let's embark on a journey through the City of Light!\n",
      "Day 1: Arrival in Paris\n",
      "Arrive at Paris Charles de Gaulle Airport and take a train or taxi to your hotel. Check-in to your hotel and spend the day relaxing and exploring your surroundings. In the evening, head to the"
     ]
    },
    {
     "name": "stdout",
     "output_type": "stream",
     "text": [
      " a treasure trove of history, art, fashion, and culinary delights, waiting to be explored. From the iconic Eiffel Tower to the world-famous Louvre Museum, Paris has something to offer for everyone. So, pack your bags, and let's embark on a journey through the City of Light!\n",
      "Day 1: Arrival in Paris\n",
      "Arrive at Paris Charles de Gaulle Airport and take a train or taxi to your hotel. Check-in to your hotel and spend the day relaxing and exploring your surroundings. In the evening, head to the famous"
     ]
    },
    {
     "name": "stdout",
     "output_type": "stream",
     "text": [
      " a treasure trove of history, art, fashion, and culinary delights, waiting to be explored. From the iconic Eiffel Tower to the world-famous Louvre Museum, Paris has something to offer for everyone. So, pack your bags, and let's embark on a journey through the City of Light!\n",
      "Day 1: Arrival in Paris\n",
      "Arrive at Paris Charles de Gaulle Airport and take a train or taxi to your hotel. Check-in to your hotel and spend the day relaxing and exploring your surroundings. In the evening, head to the famous Ch"
     ]
    },
    {
     "name": "stdout",
     "output_type": "stream",
     "text": [
      " a treasure trove of history, art, fashion, and culinary delights, waiting to be explored. From the iconic Eiffel Tower to the world-famous Louvre Museum, Paris has something to offer for everyone. So, pack your bags, and let's embark on a journey through the City of Light!\n",
      "Day 1: Arrival in Paris\n",
      "Arrive at Paris Charles de Gaulle Airport and take a train or taxi to your hotel. Check-in to your hotel and spend the day relaxing and exploring your surroundings. In the evening, head to the famous Champs"
     ]
    },
    {
     "name": "stdout",
     "output_type": "stream",
     "text": [
      " a treasure trove of history, art, fashion, and culinary delights, waiting to be explored. From the iconic Eiffel Tower to the world-famous Louvre Museum, Paris has something to offer for everyone. So, pack your bags, and let's embark on a journey through the City of Light!\n",
      "Day 1: Arrival in Paris\n",
      "Arrive at Paris Charles de Gaulle Airport and take a train or taxi to your hotel. Check-in to your hotel and spend the day relaxing and exploring your surroundings. In the evening, head to the famous Champs-"
     ]
    },
    {
     "name": "stdout",
     "output_type": "stream",
     "text": [
      " a treasure trove of history, art, fashion, and culinary delights, waiting to be explored. From the iconic Eiffel Tower to the world-famous Louvre Museum, Paris has something to offer for everyone. So, pack your bags, and let's embark on a journey through the City of Light!\n",
      "Day 1: Arrival in Paris\n",
      "Arrive at Paris Charles de Gaulle Airport and take a train or taxi to your hotel. Check-in to your hotel and spend the day relaxing and exploring your surroundings. In the evening, head to the famous Champs-É"
     ]
    },
    {
     "name": "stdout",
     "output_type": "stream",
     "text": [
      " a treasure trove of history, art, fashion, and culinary delights, waiting to be explored. From the iconic Eiffel Tower to the world-famous Louvre Museum, Paris has something to offer for everyone. So, pack your bags, and let's embark on a journey through the City of Light!\n",
      "Day 1: Arrival in Paris\n",
      "Arrive at Paris Charles de Gaulle Airport and take a train or taxi to your hotel. Check-in to your hotel and spend the day relaxing and exploring your surroundings. In the evening, head to the famous Champs-Élys"
     ]
    },
    {
     "name": "stdout",
     "output_type": "stream",
     "text": [
      " a treasure trove of history, art, fashion, and culinary delights, waiting to be explored. From the iconic Eiffel Tower to the world-famous Louvre Museum, Paris has something to offer for everyone. So, pack your bags, and let's embark on a journey through the City of Light!\n",
      "Day 1: Arrival in Paris\n",
      "Arrive at Paris Charles de Gaulle Airport and take a train or taxi to your hotel. Check-in to your hotel and spend the day relaxing and exploring your surroundings. In the evening, head to the famous Champs-Élysées"
     ]
    },
    {
     "name": "stdout",
     "output_type": "stream",
     "text": [
      " a treasure trove of history, art, fashion, and culinary delights, waiting to be explored. From the iconic Eiffel Tower to the world-famous Louvre Museum, Paris has something to offer for everyone. So, pack your bags, and let's embark on a journey through the City of Light!\n",
      "Day 1: Arrival in Paris\n",
      "Arrive at Paris Charles de Gaulle Airport and take a train or taxi to your hotel. Check-in to your hotel and spend the day relaxing and exploring your surroundings. In the evening, head to the famous Champs-Élysées for"
     ]
    },
    {
     "name": "stdout",
     "output_type": "stream",
     "text": [
      " a treasure trove of history, art, fashion, and culinary delights, waiting to be explored. From the iconic Eiffel Tower to the world-famous Louvre Museum, Paris has something to offer for everyone. So, pack your bags, and let's embark on a journey through the City of Light!\n",
      "Day 1: Arrival in Paris\n",
      "Arrive at Paris Charles de Gaulle Airport and take a train or taxi to your hotel. Check-in to your hotel and spend the day relaxing and exploring your surroundings. In the evening, head to the famous Champs-Élysées for a"
     ]
    },
    {
     "name": "stdout",
     "output_type": "stream",
     "text": [
      " a treasure trove of history, art, fashion, and culinary delights, waiting to be explored. From the iconic Eiffel Tower to the world-famous Louvre Museum, Paris has something to offer for everyone. So, pack your bags, and let's embark on a journey through the City of Light!\n",
      "Day 1: Arrival in Paris\n",
      "Arrive at Paris Charles de Gaulle Airport and take a train or taxi to your hotel. Check-in to your hotel and spend the day relaxing and exploring your surroundings. In the evening, head to the famous Champs-Élysées for a stroll"
     ]
    },
    {
     "name": "stdout",
     "output_type": "stream",
     "text": [
      " a treasure trove of history, art, fashion, and culinary delights, waiting to be explored. From the iconic Eiffel Tower to the world-famous Louvre Museum, Paris has something to offer for everyone. So, pack your bags, and let's embark on a journey through the City of Light!\n",
      "Day 1: Arrival in Paris\n",
      "Arrive at Paris Charles de Gaulle Airport and take a train or taxi to your hotel. Check-in to your hotel and spend the day relaxing and exploring your surroundings. In the evening, head to the famous Champs-Élysées for a stroll and"
     ]
    },
    {
     "name": "stdout",
     "output_type": "stream",
     "text": [
      " a treasure trove of history, art, fashion, and culinary delights, waiting to be explored. From the iconic Eiffel Tower to the world-famous Louvre Museum, Paris has something to offer for everyone. So, pack your bags, and let's embark on a journey through the City of Light!\n",
      "Day 1: Arrival in Paris\n",
      "Arrive at Paris Charles de Gaulle Airport and take a train or taxi to your hotel. Check-in to your hotel and spend the day relaxing and exploring your surroundings. In the evening, head to the famous Champs-Élysées for a stroll and dinner"
     ]
    },
    {
     "name": "stdout",
     "output_type": "stream",
     "text": [
      " a treasure trove of history, art, fashion, and culinary delights, waiting to be explored. From the iconic Eiffel Tower to the world-famous Louvre Museum, Paris has something to offer for everyone. So, pack your bags, and let's embark on a journey through the City of Light!\n",
      "Day 1: Arrival in Paris\n",
      "Arrive at Paris Charles de Gaulle Airport and take a train or taxi to your hotel. Check-in to your hotel and spend the day relaxing and exploring your surroundings. In the evening, head to the famous Champs-Élysées for a stroll and dinner at"
     ]
    },
    {
     "name": "stdout",
     "output_type": "stream",
     "text": [
      " a treasure trove of history, art, fashion, and culinary delights, waiting to be explored. From the iconic Eiffel Tower to the world-famous Louvre Museum, Paris has something to offer for everyone. So, pack your bags, and let's embark on a journey through the City of Light!\n",
      "Day 1: Arrival in Paris\n",
      "Arrive at Paris Charles de Gaulle Airport and take a train or taxi to your hotel. Check-in to your hotel and spend the day relaxing and exploring your surroundings. In the evening, head to the famous Champs-Élysées for a stroll and dinner at a"
     ]
    },
    {
     "name": "stdout",
     "output_type": "stream",
     "text": [
      " a treasure trove of history, art, fashion, and culinary delights, waiting to be explored. From the iconic Eiffel Tower to the world-famous Louvre Museum, Paris has something to offer for everyone. So, pack your bags, and let's embark on a journey through the City of Light!\n",
      "Day 1: Arrival in Paris\n",
      "Arrive at Paris Charles de Gaulle Airport and take a train or taxi to your hotel. Check-in to your hotel and spend the day relaxing and exploring your surroundings. In the evening, head to the famous Champs-Élysées for a stroll and dinner at a classic"
     ]
    },
    {
     "name": "stdout",
     "output_type": "stream",
     "text": [
      " a treasure trove of history, art, fashion, and culinary delights, waiting to be explored. From the iconic Eiffel Tower to the world-famous Louvre Museum, Paris has something to offer for everyone. So, pack your bags, and let's embark on a journey through the City of Light!\n",
      "Day 1: Arrival in Paris\n",
      "Arrive at Paris Charles de Gaulle Airport and take a train or taxi to your hotel. Check-in to your hotel and spend the day relaxing and exploring your surroundings. In the evening, head to the famous Champs-Élysées for a stroll and dinner at a classic Paris"
     ]
    },
    {
     "name": "stdout",
     "output_type": "stream",
     "text": [
      "\n",
      "\n",
      "Prompt: The future of AI is\n",
      "Generated text: "
     ]
    },
    {
     "name": "stdout",
     "output_type": "stream",
     "text": [
      " all"
     ]
    },
    {
     "name": "stdout",
     "output_type": "stream",
     "text": [
      " all about"
     ]
    },
    {
     "name": "stdout",
     "output_type": "stream",
     "text": [
      " all about collaboration"
     ]
    },
    {
     "name": "stdout",
     "output_type": "stream",
     "text": [
      " all about collaboration\n"
     ]
    },
    {
     "name": "stdout",
     "output_type": "stream",
     "text": [
      " all about collaboration\n",
      "The"
     ]
    },
    {
     "name": "stdout",
     "output_type": "stream",
     "text": [
      " all about collaboration\n",
      "The convergence"
     ]
    },
    {
     "name": "stdout",
     "output_type": "stream",
     "text": [
      " all about collaboration\n",
      "The convergence of"
     ]
    },
    {
     "name": "stdout",
     "output_type": "stream",
     "text": [
      " all about collaboration\n",
      "The convergence of multiple"
     ]
    },
    {
     "name": "stdout",
     "output_type": "stream",
     "text": [
      " all about collaboration\n",
      "The convergence of multiple technologies"
     ]
    },
    {
     "name": "stdout",
     "output_type": "stream",
     "text": [
      " all about collaboration\n",
      "The convergence of multiple technologies is"
     ]
    },
    {
     "name": "stdout",
     "output_type": "stream",
     "text": [
      " all about collaboration\n",
      "The convergence of multiple technologies is creating"
     ]
    },
    {
     "name": "stdout",
     "output_type": "stream",
     "text": [
      " all about collaboration\n",
      "The convergence of multiple technologies is creating a"
     ]
    },
    {
     "name": "stdout",
     "output_type": "stream",
     "text": [
      " all about collaboration\n",
      "The convergence of multiple technologies is creating a powerful"
     ]
    },
    {
     "name": "stdout",
     "output_type": "stream",
     "text": [
      " all about collaboration\n",
      "The convergence of multiple technologies is creating a powerful platform"
     ]
    },
    {
     "name": "stdout",
     "output_type": "stream",
     "text": [
      " all about collaboration\n",
      "The convergence of multiple technologies is creating a powerful platform for"
     ]
    },
    {
     "name": "stdout",
     "output_type": "stream",
     "text": [
      " all about collaboration\n",
      "The convergence of multiple technologies is creating a powerful platform for AI"
     ]
    },
    {
     "name": "stdout",
     "output_type": "stream",
     "text": [
      " all about collaboration\n",
      "The convergence of multiple technologies is creating a powerful platform for AI,"
     ]
    },
    {
     "name": "stdout",
     "output_type": "stream",
     "text": [
      " all about collaboration\n",
      "The convergence of multiple technologies is creating a powerful platform for AI, but"
     ]
    },
    {
     "name": "stdout",
     "output_type": "stream",
     "text": [
      " all about collaboration\n",
      "The convergence of multiple technologies is creating a powerful platform for AI, but the"
     ]
    },
    {
     "name": "stdout",
     "output_type": "stream",
     "text": [
      " all about collaboration\n",
      "The convergence of multiple technologies is creating a powerful platform for AI, but the real"
     ]
    },
    {
     "name": "stdout",
     "output_type": "stream",
     "text": [
      " all about collaboration\n",
      "The convergence of multiple technologies is creating a powerful platform for AI, but the real future"
     ]
    },
    {
     "name": "stdout",
     "output_type": "stream",
     "text": [
      " all about collaboration\n",
      "The convergence of multiple technologies is creating a powerful platform for AI, but the real future of"
     ]
    },
    {
     "name": "stdout",
     "output_type": "stream",
     "text": [
      " all about collaboration\n",
      "The convergence of multiple technologies is creating a powerful platform for AI, but the real future of AI"
     ]
    },
    {
     "name": "stdout",
     "output_type": "stream",
     "text": [
      " all about collaboration\n",
      "The convergence of multiple technologies is creating a powerful platform for AI, but the real future of AI lies"
     ]
    },
    {
     "name": "stdout",
     "output_type": "stream",
     "text": [
      " all about collaboration\n",
      "The convergence of multiple technologies is creating a powerful platform for AI, but the real future of AI lies in"
     ]
    },
    {
     "name": "stdout",
     "output_type": "stream",
     "text": [
      " all about collaboration\n",
      "The convergence of multiple technologies is creating a powerful platform for AI, but the real future of AI lies in collaboration"
     ]
    },
    {
     "name": "stdout",
     "output_type": "stream",
     "text": [
      " all about collaboration\n",
      "The convergence of multiple technologies is creating a powerful platform for AI, but the real future of AI lies in collaboration,"
     ]
    },
    {
     "name": "stdout",
     "output_type": "stream",
     "text": [
      " all about collaboration\n",
      "The convergence of multiple technologies is creating a powerful platform for AI, but the real future of AI lies in collaboration, not"
     ]
    },
    {
     "name": "stdout",
     "output_type": "stream",
     "text": [
      " all about collaboration\n",
      "The convergence of multiple technologies is creating a powerful platform for AI, but the real future of AI lies in collaboration, not just"
     ]
    },
    {
     "name": "stdout",
     "output_type": "stream",
     "text": [
      " all about collaboration\n",
      "The convergence of multiple technologies is creating a powerful platform for AI, but the real future of AI lies in collaboration, not just between"
     ]
    },
    {
     "name": "stdout",
     "output_type": "stream",
     "text": [
      " all about collaboration\n",
      "The convergence of multiple technologies is creating a powerful platform for AI, but the real future of AI lies in collaboration, not just between humans"
     ]
    },
    {
     "name": "stdout",
     "output_type": "stream",
     "text": [
      " all about collaboration\n",
      "The convergence of multiple technologies is creating a powerful platform for AI, but the real future of AI lies in collaboration, not just between humans and"
     ]
    },
    {
     "name": "stdout",
     "output_type": "stream",
     "text": [
      " all about collaboration\n",
      "The convergence of multiple technologies is creating a powerful platform for AI, but the real future of AI lies in collaboration, not just between humans and machines"
     ]
    },
    {
     "name": "stdout",
     "output_type": "stream",
     "text": [
      " all about collaboration\n",
      "The convergence of multiple technologies is creating a powerful platform for AI, but the real future of AI lies in collaboration, not just between humans and machines,"
     ]
    },
    {
     "name": "stdout",
     "output_type": "stream",
     "text": [
      " all about collaboration\n",
      "The convergence of multiple technologies is creating a powerful platform for AI, but the real future of AI lies in collaboration, not just between humans and machines, but"
     ]
    },
    {
     "name": "stdout",
     "output_type": "stream",
     "text": [
      " all about collaboration\n",
      "The convergence of multiple technologies is creating a powerful platform for AI, but the real future of AI lies in collaboration, not just between humans and machines, but between"
     ]
    },
    {
     "name": "stdout",
     "output_type": "stream",
     "text": [
      " all about collaboration\n",
      "The convergence of multiple technologies is creating a powerful platform for AI, but the real future of AI lies in collaboration, not just between humans and machines, but between machines"
     ]
    },
    {
     "name": "stdout",
     "output_type": "stream",
     "text": [
      " all about collaboration\n",
      "The convergence of multiple technologies is creating a powerful platform for AI, but the real future of AI lies in collaboration, not just between humans and machines, but between machines themselves"
     ]
    },
    {
     "name": "stdout",
     "output_type": "stream",
     "text": [
      " all about collaboration\n",
      "The convergence of multiple technologies is creating a powerful platform for AI, but the real future of AI lies in collaboration, not just between humans and machines, but between machines themselves.\n"
     ]
    },
    {
     "name": "stdout",
     "output_type": "stream",
     "text": [
      " all about collaboration\n",
      "The convergence of multiple technologies is creating a powerful platform for AI, but the real future of AI lies in collaboration, not just between humans and machines, but between machines themselves.\n",
      "The"
     ]
    },
    {
     "name": "stdout",
     "output_type": "stream",
     "text": [
      " all about collaboration\n",
      "The convergence of multiple technologies is creating a powerful platform for AI, but the real future of AI lies in collaboration, not just between humans and machines, but between machines themselves.\n",
      "The AI"
     ]
    },
    {
     "name": "stdout",
     "output_type": "stream",
     "text": [
      " all about collaboration\n",
      "The convergence of multiple technologies is creating a powerful platform for AI, but the real future of AI lies in collaboration, not just between humans and machines, but between machines themselves.\n",
      "The AI landscape"
     ]
    },
    {
     "name": "stdout",
     "output_type": "stream",
     "text": [
      " all about collaboration\n",
      "The convergence of multiple technologies is creating a powerful platform for AI, but the real future of AI lies in collaboration, not just between humans and machines, but between machines themselves.\n",
      "The AI landscape is"
     ]
    },
    {
     "name": "stdout",
     "output_type": "stream",
     "text": [
      " all about collaboration\n",
      "The convergence of multiple technologies is creating a powerful platform for AI, but the real future of AI lies in collaboration, not just between humans and machines, but between machines themselves.\n",
      "The AI landscape is rapidly"
     ]
    },
    {
     "name": "stdout",
     "output_type": "stream",
     "text": [
      " all about collaboration\n",
      "The convergence of multiple technologies is creating a powerful platform for AI, but the real future of AI lies in collaboration, not just between humans and machines, but between machines themselves.\n",
      "The AI landscape is rapidly evolving"
     ]
    },
    {
     "name": "stdout",
     "output_type": "stream",
     "text": [
      " all about collaboration\n",
      "The convergence of multiple technologies is creating a powerful platform for AI, but the real future of AI lies in collaboration, not just between humans and machines, but between machines themselves.\n",
      "The AI landscape is rapidly evolving,"
     ]
    },
    {
     "name": "stdout",
     "output_type": "stream",
     "text": [
      " all about collaboration\n",
      "The convergence of multiple technologies is creating a powerful platform for AI, but the real future of AI lies in collaboration, not just between humans and machines, but between machines themselves.\n",
      "The AI landscape is rapidly evolving, with"
     ]
    },
    {
     "name": "stdout",
     "output_type": "stream",
     "text": [
      " all about collaboration\n",
      "The convergence of multiple technologies is creating a powerful platform for AI, but the real future of AI lies in collaboration, not just between humans and machines, but between machines themselves.\n",
      "The AI landscape is rapidly evolving, with the"
     ]
    },
    {
     "name": "stdout",
     "output_type": "stream",
     "text": [
      " all about collaboration\n",
      "The convergence of multiple technologies is creating a powerful platform for AI, but the real future of AI lies in collaboration, not just between humans and machines, but between machines themselves.\n",
      "The AI landscape is rapidly evolving, with the convergence"
     ]
    },
    {
     "name": "stdout",
     "output_type": "stream",
     "text": [
      " all about collaboration\n",
      "The convergence of multiple technologies is creating a powerful platform for AI, but the real future of AI lies in collaboration, not just between humans and machines, but between machines themselves.\n",
      "The AI landscape is rapidly evolving, with the convergence of"
     ]
    },
    {
     "name": "stdout",
     "output_type": "stream",
     "text": [
      " all about collaboration\n",
      "The convergence of multiple technologies is creating a powerful platform for AI, but the real future of AI lies in collaboration, not just between humans and machines, but between machines themselves.\n",
      "The AI landscape is rapidly evolving, with the convergence of multiple"
     ]
    },
    {
     "name": "stdout",
     "output_type": "stream",
     "text": [
      " all about collaboration\n",
      "The convergence of multiple technologies is creating a powerful platform for AI, but the real future of AI lies in collaboration, not just between humans and machines, but between machines themselves.\n",
      "The AI landscape is rapidly evolving, with the convergence of multiple technologies"
     ]
    },
    {
     "name": "stdout",
     "output_type": "stream",
     "text": [
      " all about collaboration\n",
      "The convergence of multiple technologies is creating a powerful platform for AI, but the real future of AI lies in collaboration, not just between humans and machines, but between machines themselves.\n",
      "The AI landscape is rapidly evolving, with the convergence of multiple technologies,"
     ]
    },
    {
     "name": "stdout",
     "output_type": "stream",
     "text": [
      " all about collaboration\n",
      "The convergence of multiple technologies is creating a powerful platform for AI, but the real future of AI lies in collaboration, not just between humans and machines, but between machines themselves.\n",
      "The AI landscape is rapidly evolving, with the convergence of multiple technologies, such"
     ]
    },
    {
     "name": "stdout",
     "output_type": "stream",
     "text": [
      " all about collaboration\n",
      "The convergence of multiple technologies is creating a powerful platform for AI, but the real future of AI lies in collaboration, not just between humans and machines, but between machines themselves.\n",
      "The AI landscape is rapidly evolving, with the convergence of multiple technologies, such as"
     ]
    },
    {
     "name": "stdout",
     "output_type": "stream",
     "text": [
      " all about collaboration\n",
      "The convergence of multiple technologies is creating a powerful platform for AI, but the real future of AI lies in collaboration, not just between humans and machines, but between machines themselves.\n",
      "The AI landscape is rapidly evolving, with the convergence of multiple technologies, such as cloud"
     ]
    },
    {
     "name": "stdout",
     "output_type": "stream",
     "text": [
      " all about collaboration\n",
      "The convergence of multiple technologies is creating a powerful platform for AI, but the real future of AI lies in collaboration, not just between humans and machines, but between machines themselves.\n",
      "The AI landscape is rapidly evolving, with the convergence of multiple technologies, such as cloud computing"
     ]
    },
    {
     "name": "stdout",
     "output_type": "stream",
     "text": [
      " all about collaboration\n",
      "The convergence of multiple technologies is creating a powerful platform for AI, but the real future of AI lies in collaboration, not just between humans and machines, but between machines themselves.\n",
      "The AI landscape is rapidly evolving, with the convergence of multiple technologies, such as cloud computing,"
     ]
    },
    {
     "name": "stdout",
     "output_type": "stream",
     "text": [
      " all about collaboration\n",
      "The convergence of multiple technologies is creating a powerful platform for AI, but the real future of AI lies in collaboration, not just between humans and machines, but between machines themselves.\n",
      "The AI landscape is rapidly evolving, with the convergence of multiple technologies, such as cloud computing, edge"
     ]
    },
    {
     "name": "stdout",
     "output_type": "stream",
     "text": [
      " all about collaboration\n",
      "The convergence of multiple technologies is creating a powerful platform for AI, but the real future of AI lies in collaboration, not just between humans and machines, but between machines themselves.\n",
      "The AI landscape is rapidly evolving, with the convergence of multiple technologies, such as cloud computing, edge computing"
     ]
    },
    {
     "name": "stdout",
     "output_type": "stream",
     "text": [
      " all about collaboration\n",
      "The convergence of multiple technologies is creating a powerful platform for AI, but the real future of AI lies in collaboration, not just between humans and machines, but between machines themselves.\n",
      "The AI landscape is rapidly evolving, with the convergence of multiple technologies, such as cloud computing, edge computing,"
     ]
    },
    {
     "name": "stdout",
     "output_type": "stream",
     "text": [
      " all about collaboration\n",
      "The convergence of multiple technologies is creating a powerful platform for AI, but the real future of AI lies in collaboration, not just between humans and machines, but between machines themselves.\n",
      "The AI landscape is rapidly evolving, with the convergence of multiple technologies, such as cloud computing, edge computing, the"
     ]
    },
    {
     "name": "stdout",
     "output_type": "stream",
     "text": [
      " all about collaboration\n",
      "The convergence of multiple technologies is creating a powerful platform for AI, but the real future of AI lies in collaboration, not just between humans and machines, but between machines themselves.\n",
      "The AI landscape is rapidly evolving, with the convergence of multiple technologies, such as cloud computing, edge computing, the Internet"
     ]
    },
    {
     "name": "stdout",
     "output_type": "stream",
     "text": [
      " all about collaboration\n",
      "The convergence of multiple technologies is creating a powerful platform for AI, but the real future of AI lies in collaboration, not just between humans and machines, but between machines themselves.\n",
      "The AI landscape is rapidly evolving, with the convergence of multiple technologies, such as cloud computing, edge computing, the Internet of"
     ]
    },
    {
     "name": "stdout",
     "output_type": "stream",
     "text": [
      " all about collaboration\n",
      "The convergence of multiple technologies is creating a powerful platform for AI, but the real future of AI lies in collaboration, not just between humans and machines, but between machines themselves.\n",
      "The AI landscape is rapidly evolving, with the convergence of multiple technologies, such as cloud computing, edge computing, the Internet of Things"
     ]
    },
    {
     "name": "stdout",
     "output_type": "stream",
     "text": [
      " all about collaboration\n",
      "The convergence of multiple technologies is creating a powerful platform for AI, but the real future of AI lies in collaboration, not just between humans and machines, but between machines themselves.\n",
      "The AI landscape is rapidly evolving, with the convergence of multiple technologies, such as cloud computing, edge computing, the Internet of Things ("
     ]
    },
    {
     "name": "stdout",
     "output_type": "stream",
     "text": [
      " all about collaboration\n",
      "The convergence of multiple technologies is creating a powerful platform for AI, but the real future of AI lies in collaboration, not just between humans and machines, but between machines themselves.\n",
      "The AI landscape is rapidly evolving, with the convergence of multiple technologies, such as cloud computing, edge computing, the Internet of Things (Io"
     ]
    },
    {
     "name": "stdout",
     "output_type": "stream",
     "text": [
      " all about collaboration\n",
      "The convergence of multiple technologies is creating a powerful platform for AI, but the real future of AI lies in collaboration, not just between humans and machines, but between machines themselves.\n",
      "The AI landscape is rapidly evolving, with the convergence of multiple technologies, such as cloud computing, edge computing, the Internet of Things (IoT"
     ]
    },
    {
     "name": "stdout",
     "output_type": "stream",
     "text": [
      " all about collaboration\n",
      "The convergence of multiple technologies is creating a powerful platform for AI, but the real future of AI lies in collaboration, not just between humans and machines, but between machines themselves.\n",
      "The AI landscape is rapidly evolving, with the convergence of multiple technologies, such as cloud computing, edge computing, the Internet of Things (IoT),"
     ]
    },
    {
     "name": "stdout",
     "output_type": "stream",
     "text": [
      " all about collaboration\n",
      "The convergence of multiple technologies is creating a powerful platform for AI, but the real future of AI lies in collaboration, not just between humans and machines, but between machines themselves.\n",
      "The AI landscape is rapidly evolving, with the convergence of multiple technologies, such as cloud computing, edge computing, the Internet of Things (IoT), and"
     ]
    },
    {
     "name": "stdout",
     "output_type": "stream",
     "text": [
      " all about collaboration\n",
      "The convergence of multiple technologies is creating a powerful platform for AI, but the real future of AI lies in collaboration, not just between humans and machines, but between machines themselves.\n",
      "The AI landscape is rapidly evolving, with the convergence of multiple technologies, such as cloud computing, edge computing, the Internet of Things (IoT), and blockchain"
     ]
    },
    {
     "name": "stdout",
     "output_type": "stream",
     "text": [
      " all about collaboration\n",
      "The convergence of multiple technologies is creating a powerful platform for AI, but the real future of AI lies in collaboration, not just between humans and machines, but between machines themselves.\n",
      "The AI landscape is rapidly evolving, with the convergence of multiple technologies, such as cloud computing, edge computing, the Internet of Things (IoT), and blockchain,"
     ]
    },
    {
     "name": "stdout",
     "output_type": "stream",
     "text": [
      " all about collaboration\n",
      "The convergence of multiple technologies is creating a powerful platform for AI, but the real future of AI lies in collaboration, not just between humans and machines, but between machines themselves.\n",
      "The AI landscape is rapidly evolving, with the convergence of multiple technologies, such as cloud computing, edge computing, the Internet of Things (IoT), and blockchain, creating"
     ]
    },
    {
     "name": "stdout",
     "output_type": "stream",
     "text": [
      " all about collaboration\n",
      "The convergence of multiple technologies is creating a powerful platform for AI, but the real future of AI lies in collaboration, not just between humans and machines, but between machines themselves.\n",
      "The AI landscape is rapidly evolving, with the convergence of multiple technologies, such as cloud computing, edge computing, the Internet of Things (IoT), and blockchain, creating a"
     ]
    },
    {
     "name": "stdout",
     "output_type": "stream",
     "text": [
      " all about collaboration\n",
      "The convergence of multiple technologies is creating a powerful platform for AI, but the real future of AI lies in collaboration, not just between humans and machines, but between machines themselves.\n",
      "The AI landscape is rapidly evolving, with the convergence of multiple technologies, such as cloud computing, edge computing, the Internet of Things (IoT), and blockchain, creating a powerful"
     ]
    },
    {
     "name": "stdout",
     "output_type": "stream",
     "text": [
      " all about collaboration\n",
      "The convergence of multiple technologies is creating a powerful platform for AI, but the real future of AI lies in collaboration, not just between humans and machines, but between machines themselves.\n",
      "The AI landscape is rapidly evolving, with the convergence of multiple technologies, such as cloud computing, edge computing, the Internet of Things (IoT), and blockchain, creating a powerful platform"
     ]
    },
    {
     "name": "stdout",
     "output_type": "stream",
     "text": [
      " all about collaboration\n",
      "The convergence of multiple technologies is creating a powerful platform for AI, but the real future of AI lies in collaboration, not just between humans and machines, but between machines themselves.\n",
      "The AI landscape is rapidly evolving, with the convergence of multiple technologies, such as cloud computing, edge computing, the Internet of Things (IoT), and blockchain, creating a powerful platform for"
     ]
    },
    {
     "name": "stdout",
     "output_type": "stream",
     "text": [
      " all about collaboration\n",
      "The convergence of multiple technologies is creating a powerful platform for AI, but the real future of AI lies in collaboration, not just between humans and machines, but between machines themselves.\n",
      "The AI landscape is rapidly evolving, with the convergence of multiple technologies, such as cloud computing, edge computing, the Internet of Things (IoT), and blockchain, creating a powerful platform for AI"
     ]
    },
    {
     "name": "stdout",
     "output_type": "stream",
     "text": [
      " all about collaboration\n",
      "The convergence of multiple technologies is creating a powerful platform for AI, but the real future of AI lies in collaboration, not just between humans and machines, but between machines themselves.\n",
      "The AI landscape is rapidly evolving, with the convergence of multiple technologies, such as cloud computing, edge computing, the Internet of Things (IoT), and blockchain, creating a powerful platform for AI."
     ]
    },
    {
     "name": "stdout",
     "output_type": "stream",
     "text": [
      " all about collaboration\n",
      "The convergence of multiple technologies is creating a powerful platform for AI, but the real future of AI lies in collaboration, not just between humans and machines, but between machines themselves.\n",
      "The AI landscape is rapidly evolving, with the convergence of multiple technologies, such as cloud computing, edge computing, the Internet of Things (IoT), and blockchain, creating a powerful platform for AI. This"
     ]
    },
    {
     "name": "stdout",
     "output_type": "stream",
     "text": [
      " all about collaboration\n",
      "The convergence of multiple technologies is creating a powerful platform for AI, but the real future of AI lies in collaboration, not just between humans and machines, but between machines themselves.\n",
      "The AI landscape is rapidly evolving, with the convergence of multiple technologies, such as cloud computing, edge computing, the Internet of Things (IoT), and blockchain, creating a powerful platform for AI. This platform"
     ]
    },
    {
     "name": "stdout",
     "output_type": "stream",
     "text": [
      " all about collaboration\n",
      "The convergence of multiple technologies is creating a powerful platform for AI, but the real future of AI lies in collaboration, not just between humans and machines, but between machines themselves.\n",
      "The AI landscape is rapidly evolving, with the convergence of multiple technologies, such as cloud computing, edge computing, the Internet of Things (IoT), and blockchain, creating a powerful platform for AI. This platform is"
     ]
    },
    {
     "name": "stdout",
     "output_type": "stream",
     "text": [
      " all about collaboration\n",
      "The convergence of multiple technologies is creating a powerful platform for AI, but the real future of AI lies in collaboration, not just between humans and machines, but between machines themselves.\n",
      "The AI landscape is rapidly evolving, with the convergence of multiple technologies, such as cloud computing, edge computing, the Internet of Things (IoT), and blockchain, creating a powerful platform for AI. This platform is enabling"
     ]
    },
    {
     "name": "stdout",
     "output_type": "stream",
     "text": [
      " all about collaboration\n",
      "The convergence of multiple technologies is creating a powerful platform for AI, but the real future of AI lies in collaboration, not just between humans and machines, but between machines themselves.\n",
      "The AI landscape is rapidly evolving, with the convergence of multiple technologies, such as cloud computing, edge computing, the Internet of Things (IoT), and blockchain, creating a powerful platform for AI. This platform is enabling AI"
     ]
    },
    {
     "name": "stdout",
     "output_type": "stream",
     "text": [
      " all about collaboration\n",
      "The convergence of multiple technologies is creating a powerful platform for AI, but the real future of AI lies in collaboration, not just between humans and machines, but between machines themselves.\n",
      "The AI landscape is rapidly evolving, with the convergence of multiple technologies, such as cloud computing, edge computing, the Internet of Things (IoT), and blockchain, creating a powerful platform for AI. This platform is enabling AI to"
     ]
    },
    {
     "name": "stdout",
     "output_type": "stream",
     "text": [
      " all about collaboration\n",
      "The convergence of multiple technologies is creating a powerful platform for AI, but the real future of AI lies in collaboration, not just between humans and machines, but between machines themselves.\n",
      "The AI landscape is rapidly evolving, with the convergence of multiple technologies, such as cloud computing, edge computing, the Internet of Things (IoT), and blockchain, creating a powerful platform for AI. This platform is enabling AI to become"
     ]
    },
    {
     "name": "stdout",
     "output_type": "stream",
     "text": [
      " all about collaboration\n",
      "The convergence of multiple technologies is creating a powerful platform for AI, but the real future of AI lies in collaboration, not just between humans and machines, but between machines themselves.\n",
      "The AI landscape is rapidly evolving, with the convergence of multiple technologies, such as cloud computing, edge computing, the Internet of Things (IoT), and blockchain, creating a powerful platform for AI. This platform is enabling AI to become more"
     ]
    },
    {
     "name": "stdout",
     "output_type": "stream",
     "text": [
      " all about collaboration\n",
      "The convergence of multiple technologies is creating a powerful platform for AI, but the real future of AI lies in collaboration, not just between humans and machines, but between machines themselves.\n",
      "The AI landscape is rapidly evolving, with the convergence of multiple technologies, such as cloud computing, edge computing, the Internet of Things (IoT), and blockchain, creating a powerful platform for AI. This platform is enabling AI to become more pervasive"
     ]
    },
    {
     "name": "stdout",
     "output_type": "stream",
     "text": [
      " all about collaboration\n",
      "The convergence of multiple technologies is creating a powerful platform for AI, but the real future of AI lies in collaboration, not just between humans and machines, but between machines themselves.\n",
      "The AI landscape is rapidly evolving, with the convergence of multiple technologies, such as cloud computing, edge computing, the Internet of Things (IoT), and blockchain, creating a powerful platform for AI. This platform is enabling AI to become more pervasive,"
     ]
    },
    {
     "name": "stdout",
     "output_type": "stream",
     "text": [
      " all about collaboration\n",
      "The convergence of multiple technologies is creating a powerful platform for AI, but the real future of AI lies in collaboration, not just between humans and machines, but between machines themselves.\n",
      "The AI landscape is rapidly evolving, with the convergence of multiple technologies, such as cloud computing, edge computing, the Internet of Things (IoT), and blockchain, creating a powerful platform for AI. This platform is enabling AI to become more pervasive, efficient"
     ]
    },
    {
     "name": "stdout",
     "output_type": "stream",
     "text": [
      " all about collaboration\n",
      "The convergence of multiple technologies is creating a powerful platform for AI, but the real future of AI lies in collaboration, not just between humans and machines, but between machines themselves.\n",
      "The AI landscape is rapidly evolving, with the convergence of multiple technologies, such as cloud computing, edge computing, the Internet of Things (IoT), and blockchain, creating a powerful platform for AI. This platform is enabling AI to become more pervasive, efficient,"
     ]
    },
    {
     "name": "stdout",
     "output_type": "stream",
     "text": [
      " all about collaboration\n",
      "The convergence of multiple technologies is creating a powerful platform for AI, but the real future of AI lies in collaboration, not just between humans and machines, but between machines themselves.\n",
      "The AI landscape is rapidly evolving, with the convergence of multiple technologies, such as cloud computing, edge computing, the Internet of Things (IoT), and blockchain, creating a powerful platform for AI. This platform is enabling AI to become more pervasive, efficient, and"
     ]
    },
    {
     "name": "stdout",
     "output_type": "stream",
     "text": [
      " all about collaboration\n",
      "The convergence of multiple technologies is creating a powerful platform for AI, but the real future of AI lies in collaboration, not just between humans and machines, but between machines themselves.\n",
      "The AI landscape is rapidly evolving, with the convergence of multiple technologies, such as cloud computing, edge computing, the Internet of Things (IoT), and blockchain, creating a powerful platform for AI. This platform is enabling AI to become more pervasive, efficient, and effective"
     ]
    },
    {
     "name": "stdout",
     "output_type": "stream",
     "text": [
      " all about collaboration\n",
      "The convergence of multiple technologies is creating a powerful platform for AI, but the real future of AI lies in collaboration, not just between humans and machines, but between machines themselves.\n",
      "The AI landscape is rapidly evolving, with the convergence of multiple technologies, such as cloud computing, edge computing, the Internet of Things (IoT), and blockchain, creating a powerful platform for AI. This platform is enabling AI to become more pervasive, efficient, and effective.\n"
     ]
    },
    {
     "name": "stdout",
     "output_type": "stream",
     "text": [
      " all about collaboration\n",
      "The convergence of multiple technologies is creating a powerful platform for AI, but the real future of AI lies in collaboration, not just between humans and machines, but between machines themselves.\n",
      "The AI landscape is rapidly evolving, with the convergence of multiple technologies, such as cloud computing, edge computing, the Internet of Things (IoT), and blockchain, creating a powerful platform for AI. This platform is enabling AI to become more pervasive, efficient, and effective.\n",
      "However"
     ]
    },
    {
     "name": "stdout",
     "output_type": "stream",
     "text": [
      " all about collaboration\n",
      "The convergence of multiple technologies is creating a powerful platform for AI, but the real future of AI lies in collaboration, not just between humans and machines, but between machines themselves.\n",
      "The AI landscape is rapidly evolving, with the convergence of multiple technologies, such as cloud computing, edge computing, the Internet of Things (IoT), and blockchain, creating a powerful platform for AI. This platform is enabling AI to become more pervasive, efficient, and effective.\n",
      "However,"
     ]
    },
    {
     "name": "stdout",
     "output_type": "stream",
     "text": [
      " all about collaboration\n",
      "The convergence of multiple technologies is creating a powerful platform for AI, but the real future of AI lies in collaboration, not just between humans and machines, but between machines themselves.\n",
      "The AI landscape is rapidly evolving, with the convergence of multiple technologies, such as cloud computing, edge computing, the Internet of Things (IoT), and blockchain, creating a powerful platform for AI. This platform is enabling AI to become more pervasive, efficient, and effective.\n",
      "However, the"
     ]
    },
    {
     "name": "stdout",
     "output_type": "stream",
     "text": [
      " all about collaboration\n",
      "The convergence of multiple technologies is creating a powerful platform for AI, but the real future of AI lies in collaboration, not just between humans and machines, but between machines themselves.\n",
      "The AI landscape is rapidly evolving, with the convergence of multiple technologies, such as cloud computing, edge computing, the Internet of Things (IoT), and blockchain, creating a powerful platform for AI. This platform is enabling AI to become more pervasive, efficient, and effective.\n",
      "However, the real"
     ]
    },
    {
     "name": "stdout",
     "output_type": "stream",
     "text": [
      " all about collaboration\n",
      "The convergence of multiple technologies is creating a powerful platform for AI, but the real future of AI lies in collaboration, not just between humans and machines, but between machines themselves.\n",
      "The AI landscape is rapidly evolving, with the convergence of multiple technologies, such as cloud computing, edge computing, the Internet of Things (IoT), and blockchain, creating a powerful platform for AI. This platform is enabling AI to become more pervasive, efficient, and effective.\n",
      "However, the real future"
     ]
    },
    {
     "name": "stdout",
     "output_type": "stream",
     "text": [
      " all about collaboration\n",
      "The convergence of multiple technologies is creating a powerful platform for AI, but the real future of AI lies in collaboration, not just between humans and machines, but between machines themselves.\n",
      "The AI landscape is rapidly evolving, with the convergence of multiple technologies, such as cloud computing, edge computing, the Internet of Things (IoT), and blockchain, creating a powerful platform for AI. This platform is enabling AI to become more pervasive, efficient, and effective.\n",
      "However, the real future of"
     ]
    },
    {
     "name": "stdout",
     "output_type": "stream",
     "text": [
      " all about collaboration\n",
      "The convergence of multiple technologies is creating a powerful platform for AI, but the real future of AI lies in collaboration, not just between humans and machines, but between machines themselves.\n",
      "The AI landscape is rapidly evolving, with the convergence of multiple technologies, such as cloud computing, edge computing, the Internet of Things (IoT), and blockchain, creating a powerful platform for AI. This platform is enabling AI to become more pervasive, efficient, and effective.\n",
      "However, the real future of AI"
     ]
    },
    {
     "name": "stdout",
     "output_type": "stream",
     "text": [
      " all about collaboration\n",
      "The convergence of multiple technologies is creating a powerful platform for AI, but the real future of AI lies in collaboration, not just between humans and machines, but between machines themselves.\n",
      "The AI landscape is rapidly evolving, with the convergence of multiple technologies, such as cloud computing, edge computing, the Internet of Things (IoT), and blockchain, creating a powerful platform for AI. This platform is enabling AI to become more pervasive, efficient, and effective.\n",
      "However, the real future of AI lies"
     ]
    },
    {
     "name": "stdout",
     "output_type": "stream",
     "text": [
      " all about collaboration\n",
      "The convergence of multiple technologies is creating a powerful platform for AI, but the real future of AI lies in collaboration, not just between humans and machines, but between machines themselves.\n",
      "The AI landscape is rapidly evolving, with the convergence of multiple technologies, such as cloud computing, edge computing, the Internet of Things (IoT), and blockchain, creating a powerful platform for AI. This platform is enabling AI to become more pervasive, efficient, and effective.\n",
      "However, the real future of AI lies not"
     ]
    },
    {
     "name": "stdout",
     "output_type": "stream",
     "text": [
      " all about collaboration\n",
      "The convergence of multiple technologies is creating a powerful platform for AI, but the real future of AI lies in collaboration, not just between humans and machines, but between machines themselves.\n",
      "The AI landscape is rapidly evolving, with the convergence of multiple technologies, such as cloud computing, edge computing, the Internet of Things (IoT), and blockchain, creating a powerful platform for AI. This platform is enabling AI to become more pervasive, efficient, and effective.\n",
      "However, the real future of AI lies not just"
     ]
    },
    {
     "name": "stdout",
     "output_type": "stream",
     "text": [
      " all about collaboration\n",
      "The convergence of multiple technologies is creating a powerful platform for AI, but the real future of AI lies in collaboration, not just between humans and machines, but between machines themselves.\n",
      "The AI landscape is rapidly evolving, with the convergence of multiple technologies, such as cloud computing, edge computing, the Internet of Things (IoT), and blockchain, creating a powerful platform for AI. This platform is enabling AI to become more pervasive, efficient, and effective.\n",
      "However, the real future of AI lies not just in"
     ]
    },
    {
     "name": "stdout",
     "output_type": "stream",
     "text": [
      " all about collaboration\n",
      "The convergence of multiple technologies is creating a powerful platform for AI, but the real future of AI lies in collaboration, not just between humans and machines, but between machines themselves.\n",
      "The AI landscape is rapidly evolving, with the convergence of multiple technologies, such as cloud computing, edge computing, the Internet of Things (IoT), and blockchain, creating a powerful platform for AI. This platform is enabling AI to become more pervasive, efficient, and effective.\n",
      "However, the real future of AI lies not just in the"
     ]
    },
    {
     "name": "stdout",
     "output_type": "stream",
     "text": [
      " all about collaboration\n",
      "The convergence of multiple technologies is creating a powerful platform for AI, but the real future of AI lies in collaboration, not just between humans and machines, but between machines themselves.\n",
      "The AI landscape is rapidly evolving, with the convergence of multiple technologies, such as cloud computing, edge computing, the Internet of Things (IoT), and blockchain, creating a powerful platform for AI. This platform is enabling AI to become more pervasive, efficient, and effective.\n",
      "However, the real future of AI lies not just in the technology"
     ]
    },
    {
     "name": "stdout",
     "output_type": "stream",
     "text": [
      " all about collaboration\n",
      "The convergence of multiple technologies is creating a powerful platform for AI, but the real future of AI lies in collaboration, not just between humans and machines, but between machines themselves.\n",
      "The AI landscape is rapidly evolving, with the convergence of multiple technologies, such as cloud computing, edge computing, the Internet of Things (IoT), and blockchain, creating a powerful platform for AI. This platform is enabling AI to become more pervasive, efficient, and effective.\n",
      "However, the real future of AI lies not just in the technology itself"
     ]
    },
    {
     "name": "stdout",
     "output_type": "stream",
     "text": [
      " all about collaboration\n",
      "The convergence of multiple technologies is creating a powerful platform for AI, but the real future of AI lies in collaboration, not just between humans and machines, but between machines themselves.\n",
      "The AI landscape is rapidly evolving, with the convergence of multiple technologies, such as cloud computing, edge computing, the Internet of Things (IoT), and blockchain, creating a powerful platform for AI. This platform is enabling AI to become more pervasive, efficient, and effective.\n",
      "However, the real future of AI lies not just in the technology itself,"
     ]
    },
    {
     "name": "stdout",
     "output_type": "stream",
     "text": [
      " all about collaboration\n",
      "The convergence of multiple technologies is creating a powerful platform for AI, but the real future of AI lies in collaboration, not just between humans and machines, but between machines themselves.\n",
      "The AI landscape is rapidly evolving, with the convergence of multiple technologies, such as cloud computing, edge computing, the Internet of Things (IoT), and blockchain, creating a powerful platform for AI. This platform is enabling AI to become more pervasive, efficient, and effective.\n",
      "However, the real future of AI lies not just in the technology itself, but"
     ]
    },
    {
     "name": "stdout",
     "output_type": "stream",
     "text": [
      " all about collaboration\n",
      "The convergence of multiple technologies is creating a powerful platform for AI, but the real future of AI lies in collaboration, not just between humans and machines, but between machines themselves.\n",
      "The AI landscape is rapidly evolving, with the convergence of multiple technologies, such as cloud computing, edge computing, the Internet of Things (IoT), and blockchain, creating a powerful platform for AI. This platform is enabling AI to become more pervasive, efficient, and effective.\n",
      "However, the real future of AI lies not just in the technology itself, but in"
     ]
    },
    {
     "name": "stdout",
     "output_type": "stream",
     "text": [
      " all about collaboration\n",
      "The convergence of multiple technologies is creating a powerful platform for AI, but the real future of AI lies in collaboration, not just between humans and machines, but between machines themselves.\n",
      "The AI landscape is rapidly evolving, with the convergence of multiple technologies, such as cloud computing, edge computing, the Internet of Things (IoT), and blockchain, creating a powerful platform for AI. This platform is enabling AI to become more pervasive, efficient, and effective.\n",
      "However, the real future of AI lies not just in the technology itself, but in how"
     ]
    },
    {
     "name": "stdout",
     "output_type": "stream",
     "text": [
      " all about collaboration\n",
      "The convergence of multiple technologies is creating a powerful platform for AI, but the real future of AI lies in collaboration, not just between humans and machines, but between machines themselves.\n",
      "The AI landscape is rapidly evolving, with the convergence of multiple technologies, such as cloud computing, edge computing, the Internet of Things (IoT), and blockchain, creating a powerful platform for AI. This platform is enabling AI to become more pervasive, efficient, and effective.\n",
      "However, the real future of AI lies not just in the technology itself, but in how it"
     ]
    },
    {
     "name": "stdout",
     "output_type": "stream",
     "text": [
      " all about collaboration\n",
      "The convergence of multiple technologies is creating a powerful platform for AI, but the real future of AI lies in collaboration, not just between humans and machines, but between machines themselves.\n",
      "The AI landscape is rapidly evolving, with the convergence of multiple technologies, such as cloud computing, edge computing, the Internet of Things (IoT), and blockchain, creating a powerful platform for AI. This platform is enabling AI to become more pervasive, efficient, and effective.\n",
      "However, the real future of AI lies not just in the technology itself, but in how it can"
     ]
    },
    {
     "name": "stdout",
     "output_type": "stream",
     "text": [
      " all about collaboration\n",
      "The convergence of multiple technologies is creating a powerful platform for AI, but the real future of AI lies in collaboration, not just between humans and machines, but between machines themselves.\n",
      "The AI landscape is rapidly evolving, with the convergence of multiple technologies, such as cloud computing, edge computing, the Internet of Things (IoT), and blockchain, creating a powerful platform for AI. This platform is enabling AI to become more pervasive, efficient, and effective.\n",
      "However, the real future of AI lies not just in the technology itself, but in how it can be"
     ]
    },
    {
     "name": "stdout",
     "output_type": "stream",
     "text": [
      " all about collaboration\n",
      "The convergence of multiple technologies is creating a powerful platform for AI, but the real future of AI lies in collaboration, not just between humans and machines, but between machines themselves.\n",
      "The AI landscape is rapidly evolving, with the convergence of multiple technologies, such as cloud computing, edge computing, the Internet of Things (IoT), and blockchain, creating a powerful platform for AI. This platform is enabling AI to become more pervasive, efficient, and effective.\n",
      "However, the real future of AI lies not just in the technology itself, but in how it can be used"
     ]
    },
    {
     "name": "stdout",
     "output_type": "stream",
     "text": [
      " all about collaboration\n",
      "The convergence of multiple technologies is creating a powerful platform for AI, but the real future of AI lies in collaboration, not just between humans and machines, but between machines themselves.\n",
      "The AI landscape is rapidly evolving, with the convergence of multiple technologies, such as cloud computing, edge computing, the Internet of Things (IoT), and blockchain, creating a powerful platform for AI. This platform is enabling AI to become more pervasive, efficient, and effective.\n",
      "However, the real future of AI lies not just in the technology itself, but in how it can be used to"
     ]
    },
    {
     "name": "stdout",
     "output_type": "stream",
     "text": [
      " all about collaboration\n",
      "The convergence of multiple technologies is creating a powerful platform for AI, but the real future of AI lies in collaboration, not just between humans and machines, but between machines themselves.\n",
      "The AI landscape is rapidly evolving, with the convergence of multiple technologies, such as cloud computing, edge computing, the Internet of Things (IoT), and blockchain, creating a powerful platform for AI. This platform is enabling AI to become more pervasive, efficient, and effective.\n",
      "However, the real future of AI lies not just in the technology itself, but in how it can be used to collaborate"
     ]
    },
    {
     "name": "stdout",
     "output_type": "stream",
     "text": [
      " all about collaboration\n",
      "The convergence of multiple technologies is creating a powerful platform for AI, but the real future of AI lies in collaboration, not just between humans and machines, but between machines themselves.\n",
      "The AI landscape is rapidly evolving, with the convergence of multiple technologies, such as cloud computing, edge computing, the Internet of Things (IoT), and blockchain, creating a powerful platform for AI. This platform is enabling AI to become more pervasive, efficient, and effective.\n",
      "However, the real future of AI lies not just in the technology itself, but in how it can be used to collaborate with"
     ]
    },
    {
     "name": "stdout",
     "output_type": "stream",
     "text": [
      " all about collaboration\n",
      "The convergence of multiple technologies is creating a powerful platform for AI, but the real future of AI lies in collaboration, not just between humans and machines, but between machines themselves.\n",
      "The AI landscape is rapidly evolving, with the convergence of multiple technologies, such as cloud computing, edge computing, the Internet of Things (IoT), and blockchain, creating a powerful platform for AI. This platform is enabling AI to become more pervasive, efficient, and effective.\n",
      "However, the real future of AI lies not just in the technology itself, but in how it can be used to collaborate with humans"
     ]
    },
    {
     "name": "stdout",
     "output_type": "stream",
     "text": [
      " all about collaboration\n",
      "The convergence of multiple technologies is creating a powerful platform for AI, but the real future of AI lies in collaboration, not just between humans and machines, but between machines themselves.\n",
      "The AI landscape is rapidly evolving, with the convergence of multiple technologies, such as cloud computing, edge computing, the Internet of Things (IoT), and blockchain, creating a powerful platform for AI. This platform is enabling AI to become more pervasive, efficient, and effective.\n",
      "However, the real future of AI lies not just in the technology itself, but in how it can be used to collaborate with humans and"
     ]
    },
    {
     "name": "stdout",
     "output_type": "stream",
     "text": [
      " all about collaboration\n",
      "The convergence of multiple technologies is creating a powerful platform for AI, but the real future of AI lies in collaboration, not just between humans and machines, but between machines themselves.\n",
      "The AI landscape is rapidly evolving, with the convergence of multiple technologies, such as cloud computing, edge computing, the Internet of Things (IoT), and blockchain, creating a powerful platform for AI. This platform is enabling AI to become more pervasive, efficient, and effective.\n",
      "However, the real future of AI lies not just in the technology itself, but in how it can be used to collaborate with humans and other"
     ]
    },
    {
     "name": "stdout",
     "output_type": "stream",
     "text": [
      " all about collaboration\n",
      "The convergence of multiple technologies is creating a powerful platform for AI, but the real future of AI lies in collaboration, not just between humans and machines, but between machines themselves.\n",
      "The AI landscape is rapidly evolving, with the convergence of multiple technologies, such as cloud computing, edge computing, the Internet of Things (IoT), and blockchain, creating a powerful platform for AI. This platform is enabling AI to become more pervasive, efficient, and effective.\n",
      "However, the real future of AI lies not just in the technology itself, but in how it can be used to collaborate with humans and other machines"
     ]
    },
    {
     "name": "stdout",
     "output_type": "stream",
     "text": [
      " all about collaboration\n",
      "The convergence of multiple technologies is creating a powerful platform for AI, but the real future of AI lies in collaboration, not just between humans and machines, but between machines themselves.\n",
      "The AI landscape is rapidly evolving, with the convergence of multiple technologies, such as cloud computing, edge computing, the Internet of Things (IoT), and blockchain, creating a powerful platform for AI. This platform is enabling AI to become more pervasive, efficient, and effective.\n",
      "However, the real future of AI lies not just in the technology itself, but in how it can be used to collaborate with humans and other machines."
     ]
    },
    {
     "name": "stdout",
     "output_type": "stream",
     "text": [
      " all about collaboration\n",
      "The convergence of multiple technologies is creating a powerful platform for AI, but the real future of AI lies in collaboration, not just between humans and machines, but between machines themselves.\n",
      "The AI landscape is rapidly evolving, with the convergence of multiple technologies, such as cloud computing, edge computing, the Internet of Things (IoT), and blockchain, creating a powerful platform for AI. This platform is enabling AI to become more pervasive, efficient, and effective.\n",
      "However, the real future of AI lies not just in the technology itself, but in how it can be used to collaborate with humans and other machines. Collaboration"
     ]
    },
    {
     "name": "stdout",
     "output_type": "stream",
     "text": [
      " all about collaboration\n",
      "The convergence of multiple technologies is creating a powerful platform for AI, but the real future of AI lies in collaboration, not just between humans and machines, but between machines themselves.\n",
      "The AI landscape is rapidly evolving, with the convergence of multiple technologies, such as cloud computing, edge computing, the Internet of Things (IoT), and blockchain, creating a powerful platform for AI. This platform is enabling AI to become more pervasive, efficient, and effective.\n",
      "However, the real future of AI lies not just in the technology itself, but in how it can be used to collaborate with humans and other machines. Collaboration is"
     ]
    },
    {
     "name": "stdout",
     "output_type": "stream",
     "text": [
      " all about collaboration\n",
      "The convergence of multiple technologies is creating a powerful platform for AI, but the real future of AI lies in collaboration, not just between humans and machines, but between machines themselves.\n",
      "The AI landscape is rapidly evolving, with the convergence of multiple technologies, such as cloud computing, edge computing, the Internet of Things (IoT), and blockchain, creating a powerful platform for AI. This platform is enabling AI to become more pervasive, efficient, and effective.\n",
      "However, the real future of AI lies not just in the technology itself, but in how it can be used to collaborate with humans and other machines. Collaboration is key"
     ]
    },
    {
     "name": "stdout",
     "output_type": "stream",
     "text": [
      " all about collaboration\n",
      "The convergence of multiple technologies is creating a powerful platform for AI, but the real future of AI lies in collaboration, not just between humans and machines, but between machines themselves.\n",
      "The AI landscape is rapidly evolving, with the convergence of multiple technologies, such as cloud computing, edge computing, the Internet of Things (IoT), and blockchain, creating a powerful platform for AI. This platform is enabling AI to become more pervasive, efficient, and effective.\n",
      "However, the real future of AI lies not just in the technology itself, but in how it can be used to collaborate with humans and other machines. Collaboration is key to"
     ]
    },
    {
     "name": "stdout",
     "output_type": "stream",
     "text": [
      "\n"
     ]
    }
   ],
   "source": [
    "prompts = [\n",
    "    \"Hello, my name is\",\n",
    "    \"The capital of France is\",\n",
    "    \"The future of AI is\",\n",
    "]\n",
    "sampling_params = {\"temperature\": 0.8, \"top_p\": 0.95}\n",
    "\n",
    "print(\"\\n=== Testing asynchronous streaming generation ===\")\n",
    "\n",
    "\n",
    "async def main():\n",
    "    for prompt in prompts:\n",
    "        print(f\"\\nPrompt: {prompt}\")\n",
    "        print(\"Generated text: \", end=\"\", flush=True)\n",
    "\n",
    "        generator = await llm.async_generate(prompt, sampling_params, stream=True)\n",
    "        async for chunk in generator:\n",
    "            print(chunk[\"text\"], end=\"\", flush=True)\n",
    "        print()\n",
    "\n",
    "\n",
    "asyncio.run(main())"
   ]
  },
  {
   "cell_type": "code",
   "execution_count": 6,
   "metadata": {
    "execution": {
     "iopub.execute_input": "2025-01-20T13:56:27.223084Z",
     "iopub.status.busy": "2025-01-20T13:56:27.222915Z",
     "iopub.status.idle": "2025-01-20T13:56:27.244026Z",
     "shell.execute_reply": "2025-01-20T13:56:27.243216Z"
    }
   },
   "outputs": [],
   "source": [
    "llm.shutdown()"
   ]
  }
 ],
 "metadata": {
  "language_info": {
   "codemirror_mode": {
    "name": "ipython",
    "version": 3
   },
   "file_extension": ".py",
   "mimetype": "text/x-python",
   "name": "python",
   "nbconvert_exporter": "python",
   "pygments_lexer": "ipython3",
   "version": "3.9.21"
  }
 },
 "nbformat": 4,
 "nbformat_minor": 2
}
