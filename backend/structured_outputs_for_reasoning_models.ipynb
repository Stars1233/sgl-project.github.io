{
 "cells": [
  {
   "cell_type": "markdown",
   "metadata": {},
   "source": [
    "# Structured Outputs For Reasoning Models\n",
    "\n",
    "When working with reasoning models that use special tokens like `<think>...</think>` to denote reasoning sections, you might want to allow free-form text within these sections while still enforcing grammar constraints on the rest of the output.\n",
    "\n",
    "SGLang provides a feature to disable grammar restrictions within reasoning sections. This is particularly useful for models that need to perform complex reasoning steps before providing a structured output.\n",
    "\n",
    "To enable this feature, use the `--reasoning-parser` flag which decide the think_end_token, such as `</think>`, when launching the server. You can also specify the reasoning parser using the `--reasoning-parser` flag.\n",
    "\n",
    "## Supported Models\n",
    "\n",
    "Currently, SGLang supports the following reasoning models:\n",
    "- [DeepSeek R1 series](https://huggingface.co/collections/deepseek-ai/deepseek-r1-678e1e131c0169c0bc89728d): The reasoning content is wrapped with `<think>` and `</think>` tags.\n",
    "- [QwQ](https://huggingface.co/Qwen/QwQ-32B): The reasoning content is wrapped with `<think>` and `</think>` tags.\n",
    "\n",
    "\n",
    "## Usage\n",
    "\n",
    "## OpenAI Compatible API"
   ]
  },
  {
   "cell_type": "markdown",
   "metadata": {},
   "source": [
    "Specify the `--grammar-backend`, `--reasoning-parser` option."
   ]
  },
  {
   "cell_type": "code",
   "execution_count": 1,
   "metadata": {
    "execution": {
     "iopub.execute_input": "2025-05-18T01:44:46.041119Z",
     "iopub.status.busy": "2025-05-18T01:44:46.040818Z",
     "iopub.status.idle": "2025-05-18T01:45:22.254075Z",
     "shell.execute_reply": "2025-05-18T01:45:22.253477Z"
    }
   },
   "outputs": [
    {
     "name": "stdout",
     "output_type": "stream",
     "text": [
      "[2025-05-18 01:44:57] server_args=ServerArgs(model_path='deepseek-ai/DeepSeek-R1-Distill-Qwen-7B', tokenizer_path='deepseek-ai/DeepSeek-R1-Distill-Qwen-7B', tokenizer_mode='auto', skip_tokenizer_init=False, load_format='auto', trust_remote_code=False, dtype='auto', kv_cache_dtype='auto', quantization=None, quantization_param_path=None, context_length=None, device='cuda', served_model_name='deepseek-ai/DeepSeek-R1-Distill-Qwen-7B', chat_template=None, completion_template=None, is_embedding=False, enable_multimodal=None, revision=None, host='0.0.0.0', port=33996, mem_fraction_static=0.88, max_running_requests=200, max_total_tokens=20480, chunked_prefill_size=8192, max_prefill_tokens=16384, schedule_policy='fcfs', schedule_conservativeness=1.0, cpu_offload_gb=0, page_size=1, tp_size=1, pp_size=1, max_micro_batch_size=None, stream_interval=1, stream_output=False, random_seed=232248867, constrained_json_whitespace_pattern=None, watchdog_timeout=300, dist_timeout=None, download_dir=None, base_gpu_id=0, gpu_id_step=1, log_level='info', log_level_http=None, log_requests=False, log_requests_level=0, show_time_cost=False, enable_metrics=False, bucket_time_to_first_token=None, bucket_e2e_request_latency=None, bucket_inter_token_latency=None, collect_tokens_histogram=False, decode_log_interval=40, enable_request_time_stats_logging=False, api_key=None, file_storage_path='sglang_storage', enable_cache_report=False, reasoning_parser='deepseek-r1', dp_size=1, load_balance_method='round_robin', ep_size=1, dist_init_addr=None, nnodes=1, node_rank=0, json_model_override_args='{}', preferred_sampling_params=None, lora_paths=None, max_loras_per_batch=8, lora_backend='triton', attention_backend=None, sampling_backend='flashinfer', grammar_backend='xgrammar', speculative_algorithm=None, speculative_draft_model_path=None, speculative_num_steps=None, speculative_eagle_topk=None, speculative_num_draft_tokens=None, speculative_accept_threshold_single=1.0, speculative_accept_threshold_acc=1.0, speculative_token_map=None, enable_double_sparsity=False, ds_channel_config_path=None, ds_heavy_channel_num=32, ds_heavy_token_num=256, ds_heavy_channel_type='qk', ds_sparse_decode_threshold=4096, disable_radix_cache=False, disable_cuda_graph=True, disable_cuda_graph_padding=False, enable_nccl_nvls=False, enable_tokenizer_batch_encode=False, disable_outlines_disk_cache=False, disable_custom_all_reduce=False, disable_overlap_schedule=False, enable_mixed_chunk=False, enable_dp_attention=False, enable_dp_lm_head=False, enable_ep_moe=False, enable_deepep_moe=False, deepep_mode='auto', deepep_config=None, enable_torch_compile=False, torch_compile_max_bs=32, cuda_graph_max_bs=None, cuda_graph_bs=None, torchao_config='', enable_nan_detection=False, enable_p2p_check=False, triton_attention_reduce_in_fp32=False, triton_attention_num_kv_splits=8, num_continuous_decode_steps=1, delete_ckpt_after_loading=False, enable_memory_saver=False, allow_auto_truncate=False, enable_custom_logit_processor=False, tool_call_parser=None, enable_hierarchical_cache=False, hicache_ratio=2.0, hicache_size=0, hicache_write_policy='write_through_selective', flashinfer_mla_disable_ragged=False, warmups=None, moe_dense_tp_size=None, n_share_experts_fusion=0, disable_chunked_prefix_cache=False, disable_fast_image_processor=False, mm_attention_backend=None, debug_tensor_dump_output_folder=None, debug_tensor_dump_input_file=None, debug_tensor_dump_inject=False, disaggregation_mode='null', disaggregation_bootstrap_port=8998, disaggregation_transfer_backend='mooncake', disaggregation_ib_device=None, pdlb_url=None)\n"
     ]
    },
    {
     "name": "stdout",
     "output_type": "stream",
     "text": [
      "[2025-05-18 01:45:06] Attention backend not set. Use fa3 backend by default.\n",
      "[2025-05-18 01:45:06] Init torch distributed begin.\n"
     ]
    },
    {
     "name": "stdout",
     "output_type": "stream",
     "text": [
      "[2025-05-18 01:45:06] Init torch distributed ends. mem usage=0.00 GB\n",
      "[2025-05-18 01:45:06] Load weight begin. avail mem=58.95 GB\n"
     ]
    },
    {
     "name": "stdout",
     "output_type": "stream",
     "text": [
      "[2025-05-18 01:45:07] Using model weights format ['*.safetensors']\n"
     ]
    },
    {
     "name": "stdout",
     "output_type": "stream",
     "text": [
      "\r",
      "Loading safetensors checkpoint shards:   0% Completed | 0/2 [00:00<?, ?it/s]\n"
     ]
    },
    {
     "name": "stdout",
     "output_type": "stream",
     "text": [
      "\r",
      "Loading safetensors checkpoint shards:  50% Completed | 1/2 [00:03<00:03,  3.02s/it]\n"
     ]
    },
    {
     "name": "stdout",
     "output_type": "stream",
     "text": [
      "\r",
      "Loading safetensors checkpoint shards: 100% Completed | 2/2 [00:06<00:00,  3.47s/it]\n",
      "\r",
      "Loading safetensors checkpoint shards: 100% Completed | 2/2 [00:06<00:00,  3.40s/it]\n",
      "\n"
     ]
    },
    {
     "name": "stdout",
     "output_type": "stream",
     "text": [
      "[2025-05-18 01:45:15] Load weight end. type=Qwen2ForCausalLM, dtype=torch.bfloat16, avail mem=36.83 GB, mem usage=22.12 GB.\n",
      "[2025-05-18 01:45:15] KV Cache is allocated. #tokens: 20480, K size: 0.55 GB, V size: 0.55 GB\n",
      "[2025-05-18 01:45:15] Memory pool end. avail mem=35.46 GB\n"
     ]
    },
    {
     "name": "stdout",
     "output_type": "stream",
     "text": [
      "[2025-05-18 01:45:15] max_total_num_tokens=20480, chunked_prefill_size=8192, max_prefill_tokens=16384, max_running_requests=200, context_len=131072\n"
     ]
    },
    {
     "name": "stdout",
     "output_type": "stream",
     "text": [
      "[2025-05-18 01:45:16] INFO:     Started server process [1462958]\n",
      "[2025-05-18 01:45:16] INFO:     Waiting for application startup.\n",
      "[2025-05-18 01:45:16] INFO:     Application startup complete.\n",
      "[2025-05-18 01:45:16] INFO:     Uvicorn running on http://0.0.0.0:33996 (Press CTRL+C to quit)\n"
     ]
    },
    {
     "name": "stdout",
     "output_type": "stream",
     "text": [
      "[2025-05-18 01:45:17] INFO:     127.0.0.1:47258 - \"GET /v1/models HTTP/1.1\" 200 OK\n",
      "[2025-05-18 01:45:17] INFO:     127.0.0.1:47272 - \"GET /get_model_info HTTP/1.1\" 200 OK\n",
      "[2025-05-18 01:45:17] Prefill batch. #new-seq: 1, #new-token: 7, #cached-token: 0, token usage: 0.00, #running-req: 0, #queue-req: 0\n"
     ]
    },
    {
     "name": "stdout",
     "output_type": "stream",
     "text": [
      "[2025-05-18 01:45:19] INFO:     127.0.0.1:47280 - \"POST /generate HTTP/1.1\" 200 OK\n",
      "[2025-05-18 01:45:19] The server is fired up and ready to roll!\n"
     ]
    },
    {
     "data": {
      "text/html": [
       "<strong style='color: #00008B;'><br><br>                    NOTE: Typically, the server runs in a separate terminal.<br>                    In this notebook, we run the server and notebook code together, so their outputs are combined.<br>                    To improve clarity, the server logs are displayed in the original black color, while the notebook outputs are highlighted in blue.<br>                    We are running those notebooks in a CI parallel environment, so the throughput is not representative of the actual performance.<br>                    </strong>"
      ],
      "text/plain": [
       "<IPython.core.display.HTML object>"
      ]
     },
     "metadata": {},
     "output_type": "display_data"
    }
   ],
   "source": [
    "import openai\n",
    "import os\n",
    "from sglang.test.test_utils import is_in_ci\n",
    "\n",
    "if is_in_ci():\n",
    "    from patch import launch_server_cmd\n",
    "else:\n",
    "    from sglang.utils import launch_server_cmd\n",
    "\n",
    "from sglang.utils import wait_for_server, print_highlight, terminate_process\n",
    "\n",
    "os.environ[\"TOKENIZERS_PARALLELISM\"] = \"false\"\n",
    "\n",
    "\n",
    "server_process, port = launch_server_cmd(\n",
    "    \"python -m sglang.launch_server --model-path deepseek-ai/DeepSeek-R1-Distill-Qwen-7B --host 0.0.0.0 --reasoning-parser deepseek-r1\"\n",
    ")\n",
    "\n",
    "wait_for_server(f\"http://localhost:{port}\")\n",
    "client = openai.Client(base_url=f\"http://127.0.0.1:{port}/v1\", api_key=\"None\")"
   ]
  },
  {
   "cell_type": "markdown",
   "metadata": {},
   "source": [
    "### JSON\n",
    "\n",
    "you can directly define a JSON schema or use [Pydantic](https://docs.pydantic.dev/latest/) to define and validate the response."
   ]
  },
  {
   "cell_type": "markdown",
   "metadata": {},
   "source": [
    "**Using Pydantic**"
   ]
  },
  {
   "cell_type": "code",
   "execution_count": 2,
   "metadata": {
    "execution": {
     "iopub.execute_input": "2025-05-18T01:45:22.256509Z",
     "iopub.status.busy": "2025-05-18T01:45:22.255919Z",
     "iopub.status.idle": "2025-05-18T01:45:29.808267Z",
     "shell.execute_reply": "2025-05-18T01:45:29.807676Z"
    }
   },
   "outputs": [
    {
     "name": "stdout",
     "output_type": "stream",
     "text": [
      "[2025-05-18 01:45:22] Prefill batch. #new-seq: 1, #new-token: 21, #cached-token: 1, token usage: 0.00, #running-req: 0, #queue-req: 0\n"
     ]
    },
    {
     "name": "stdout",
     "output_type": "stream",
     "text": [
      "[2025-05-18 01:45:23] Decode batch. #running-req: 1, #token: 55, token usage: 0.00, cuda graph: False, gen throughput (token/s): 5.25, #queue-req: 0\n"
     ]
    },
    {
     "name": "stdout",
     "output_type": "stream",
     "text": [
      "[2025-05-18 01:45:24] Decode batch. #running-req: 1, #token: 95, token usage: 0.00, cuda graph: False, gen throughput (token/s): 60.99, #queue-req: 0\n"
     ]
    },
    {
     "name": "stdout",
     "output_type": "stream",
     "text": [
      "[2025-05-18 01:45:24] Decode batch. #running-req: 1, #token: 135, token usage: 0.01, cuda graph: False, gen throughput (token/s): 64.78, #queue-req: 0\n"
     ]
    },
    {
     "name": "stdout",
     "output_type": "stream",
     "text": [
      "[2025-05-18 01:45:25] Decode batch. #running-req: 1, #token: 175, token usage: 0.01, cuda graph: False, gen throughput (token/s): 67.02, #queue-req: 0\n"
     ]
    },
    {
     "name": "stdout",
     "output_type": "stream",
     "text": [
      "[2025-05-18 01:45:26] Decode batch. #running-req: 1, #token: 215, token usage: 0.01, cuda graph: False, gen throughput (token/s): 67.49, #queue-req: 0\n"
     ]
    },
    {
     "name": "stdout",
     "output_type": "stream",
     "text": [
      "[2025-05-18 01:45:26] Decode batch. #running-req: 1, #token: 255, token usage: 0.01, cuda graph: False, gen throughput (token/s): 67.25, #queue-req: 0\n"
     ]
    },
    {
     "name": "stdout",
     "output_type": "stream",
     "text": [
      "[2025-05-18 01:45:27] Decode batch. #running-req: 1, #token: 295, token usage: 0.01, cuda graph: False, gen throughput (token/s): 67.38, #queue-req: 0\n"
     ]
    },
    {
     "name": "stdout",
     "output_type": "stream",
     "text": [
      "[2025-05-18 01:45:27] Decode batch. #running-req: 1, #token: 335, token usage: 0.02, cuda graph: False, gen throughput (token/s): 61.52, #queue-req: 0\n"
     ]
    },
    {
     "name": "stdout",
     "output_type": "stream",
     "text": [
      "[2025-05-18 01:45:28] Decode batch. #running-req: 1, #token: 375, token usage: 0.02, cuda graph: False, gen throughput (token/s): 66.29, #queue-req: 0\n"
     ]
    },
    {
     "name": "stdout",
     "output_type": "stream",
     "text": [
      "[2025-05-18 01:45:29] Decode batch. #running-req: 1, #token: 415, token usage: 0.02, cuda graph: False, gen throughput (token/s): 66.99, #queue-req: 0\n"
     ]
    },
    {
     "name": "stdout",
     "output_type": "stream",
     "text": [
      "[2025-05-18 01:45:29] Decode batch. #running-req: 1, #token: 455, token usage: 0.02, cuda graph: False, gen throughput (token/s): 66.58, #queue-req: 0\n",
      "[2025-05-18 01:45:29] INFO:     127.0.0.1:47284 - \"POST /v1/chat/completions HTTP/1.1\" 200 OK\n"
     ]
    },
    {
     "data": {
      "text/html": [
       "<strong style='color: #00008B;'>reasoing_content: Alright, so the user asked for the information and population of the capital of France in JSON format. I immediately thought about what the capital is—Paris. Then, I considered the population. I know it's a big city, but I'm not exactly sure of the exact number. I remember it's over 3 million, but I'm not certain if it's 3.5 or 3.6. I should double-check that.<br><br>Wait, maybe I should think about recent data. I recall that Paris has been growing a bit, so perhaps it's around 3.6 million. But I'm not 100% sure. I should look up the latest statistics to confirm. Okay, checking a reliable source, and it says the population is approximately 3,600,000. That seems right.<br><br>Now, the user wants this in JSON format. I need to structure it properly. The key should be \"capital\" with the name \"Paris,\" and another key for \"population.\" I'll make sure the population number is correctly formatted as an integer in the JSON.<br><br>I also need to present this clearly. Maybe I should write it out in the response, showing the JSON structure so the user can see exactly what they'll get. That way, they can easily copy it or use it in their application.<br><br>I wonder if the user is a developer working on a project that requires population data. They might need it in JSON for integration or analysis. So providing the exact format they asked for is important. I should also make sure the response is concise and to the point, without any extra fluff.<br><br>Is there anything else I should consider? Maybe the date of the population count, but the user didn't specify that. I'll stick to the most recent data available. Also, I should ensure that the JSON is valid, so using proper syntax with quotes and commas.<br><br>In summary, I'll provide the JSON with the correct capital name and population number, making sure it's accurate and in the format the user requested. That should meet their needs effectively.<br><br><br>content: {\"name\": \"Paris\", \"population\": 3600000}</strong>"
      ],
      "text/plain": [
       "<IPython.core.display.HTML object>"
      ]
     },
     "metadata": {},
     "output_type": "display_data"
    }
   ],
   "source": [
    "from pydantic import BaseModel, Field\n",
    "\n",
    "\n",
    "# Define the schema using Pydantic\n",
    "class CapitalInfo(BaseModel):\n",
    "    name: str = Field(..., pattern=r\"^\\w+$\", description=\"Name of the capital city\")\n",
    "    population: int = Field(..., description=\"Population of the capital city\")\n",
    "\n",
    "\n",
    "response = client.chat.completions.create(\n",
    "    model=\"deepseek-ai/DeepSeek-R1-Distill-Qwen-7B\",\n",
    "    messages=[\n",
    "        {\n",
    "            \"role\": \"assistant\",\n",
    "            \"content\": \"Give me the information and population of the capital of France in the JSON format.\",\n",
    "        },\n",
    "    ],\n",
    "    temperature=0,\n",
    "    max_tokens=2048,\n",
    "    response_format={\n",
    "        \"type\": \"json_schema\",\n",
    "        \"json_schema\": {\n",
    "            \"name\": \"foo\",\n",
    "            # convert the pydantic model to json schema\n",
    "            \"schema\": CapitalInfo.model_json_schema(),\n",
    "        },\n",
    "    },\n",
    ")\n",
    "\n",
    "print_highlight(\n",
    "    f\"reasoing_content: {response.choices[0].message.reasoning_content}\\n\\ncontent: {response.choices[0].message.content}\"\n",
    ")"
   ]
  },
  {
   "cell_type": "markdown",
   "metadata": {},
   "source": [
    "**JSON Schema Directly**\n"
   ]
  },
  {
   "cell_type": "code",
   "execution_count": 3,
   "metadata": {
    "execution": {
     "iopub.execute_input": "2025-05-18T01:45:29.810308Z",
     "iopub.status.busy": "2025-05-18T01:45:29.809954Z",
     "iopub.status.idle": "2025-05-18T01:45:35.121514Z",
     "shell.execute_reply": "2025-05-18T01:45:35.120957Z"
    }
   },
   "outputs": [
    {
     "name": "stdout",
     "output_type": "stream",
     "text": [
      "[2025-05-18 01:45:29] Prefill batch. #new-seq: 1, #new-token: 1, #cached-token: 21, token usage: 0.00, #running-req: 0, #queue-req: 0\n"
     ]
    },
    {
     "name": "stdout",
     "output_type": "stream",
     "text": [
      "[2025-05-18 01:45:30] Decode batch. #running-req: 1, #token: 52, token usage: 0.00, cuda graph: False, gen throughput (token/s): 58.92, #queue-req: 0\n"
     ]
    },
    {
     "name": "stdout",
     "output_type": "stream",
     "text": [
      "[2025-05-18 01:45:30] Decode batch. #running-req: 1, #token: 92, token usage: 0.00, cuda graph: False, gen throughput (token/s): 64.58, #queue-req: 0\n"
     ]
    },
    {
     "name": "stdout",
     "output_type": "stream",
     "text": [
      "[2025-05-18 01:45:31] Decode batch. #running-req: 1, #token: 132, token usage: 0.01, cuda graph: False, gen throughput (token/s): 64.98, #queue-req: 0\n"
     ]
    },
    {
     "name": "stdout",
     "output_type": "stream",
     "text": [
      "[2025-05-18 01:45:32] Decode batch. #running-req: 1, #token: 172, token usage: 0.01, cuda graph: False, gen throughput (token/s): 64.98, #queue-req: 0\n"
     ]
    },
    {
     "name": "stdout",
     "output_type": "stream",
     "text": [
      "[2025-05-18 01:45:32] Decode batch. #running-req: 1, #token: 212, token usage: 0.01, cuda graph: False, gen throughput (token/s): 64.79, #queue-req: 0\n"
     ]
    },
    {
     "name": "stdout",
     "output_type": "stream",
     "text": [
      "[2025-05-18 01:45:33] Decode batch. #running-req: 1, #token: 252, token usage: 0.01, cuda graph: False, gen throughput (token/s): 64.93, #queue-req: 0\n"
     ]
    },
    {
     "name": "stdout",
     "output_type": "stream",
     "text": [
      "[2025-05-18 01:45:34] Decode batch. #running-req: 1, #token: 292, token usage: 0.01, cuda graph: False, gen throughput (token/s): 62.49, #queue-req: 0\n"
     ]
    },
    {
     "name": "stdout",
     "output_type": "stream",
     "text": [
      "[2025-05-18 01:45:34] Decode batch. #running-req: 1, #token: 332, token usage: 0.02, cuda graph: False, gen throughput (token/s): 61.82, #queue-req: 0\n"
     ]
    },
    {
     "name": "stdout",
     "output_type": "stream",
     "text": [
      "[2025-05-18 01:45:35] INFO:     127.0.0.1:47284 - \"POST /v1/chat/completions HTTP/1.1\" 200 OK\n"
     ]
    },
    {
     "data": {
      "text/html": [
       "<strong style='color: #00008B;'>reasoing_content: Alright, so the user asked for the information and population of the capital of France in JSON format. I immediately thought about what the capital is. Paris is the capital, no doubt there. Now, I need to recall or look up the population. I remember it's a big city, so the population is in the millions. I think it's around 2 million, but I'm not 100% sure. Maybe I should double-check that. <br><br>Wait, I should consider the exact figure. I believe the population is approximately 2,175,000 as of 2023. That seems right, but I'm not certain. I should make sure to present it accurately. Also, the user wants it in JSON format, so I need to structure it properly with the key \"capital\" and the value as a string. <br><br>I wonder if the user is a student working on a project or maybe a developer needing data for an app. Either way, providing the correct and up-to-date information is crucial. Maybe they also need this for a presentation or a report, so accuracy is key. <br><br>I should also consider if there are any other details they might need, like the area or the time zone, but the user specifically asked for population. So I'll stick to that. I'll format the JSON correctly, making sure the syntax is right to avoid any errors. <br><br>In summary, I'll provide the JSON with the correct population number for Paris, the capital of France, ensuring it's accurate and formatted as requested.<br><br><br>content: {\"name\": \"Paris\", \"population\": 2175000}</strong>"
      ],
      "text/plain": [
       "<IPython.core.display.HTML object>"
      ]
     },
     "metadata": {},
     "output_type": "display_data"
    }
   ],
   "source": [
    "import json\n",
    "\n",
    "json_schema = json.dumps(\n",
    "    {\n",
    "        \"type\": \"object\",\n",
    "        \"properties\": {\n",
    "            \"name\": {\"type\": \"string\", \"pattern\": \"^[\\\\w]+$\"},\n",
    "            \"population\": {\"type\": \"integer\"},\n",
    "        },\n",
    "        \"required\": [\"name\", \"population\"],\n",
    "    }\n",
    ")\n",
    "\n",
    "response = client.chat.completions.create(\n",
    "    model=\"deepseek-ai/DeepSeek-R1-Distill-Qwen-7B\",\n",
    "    messages=[\n",
    "        {\n",
    "            \"role\": \"assistant\",\n",
    "            \"content\": \"Give me the information and population of the capital of France in the JSON format.\",\n",
    "        },\n",
    "    ],\n",
    "    temperature=0,\n",
    "    max_tokens=2048,\n",
    "    response_format={\n",
    "        \"type\": \"json_schema\",\n",
    "        \"json_schema\": {\"name\": \"foo\", \"schema\": json.loads(json_schema)},\n",
    "    },\n",
    ")\n",
    "\n",
    "print_highlight(\n",
    "    f\"reasoing_content: {response.choices[0].message.reasoning_content}\\n\\ncontent: {response.choices[0].message.content}\"\n",
    ")"
   ]
  },
  {
   "cell_type": "markdown",
   "metadata": {},
   "source": [
    "### EBNF"
   ]
  },
  {
   "cell_type": "code",
   "execution_count": 4,
   "metadata": {
    "execution": {
     "iopub.execute_input": "2025-05-18T01:45:35.123714Z",
     "iopub.status.busy": "2025-05-18T01:45:35.123356Z",
     "iopub.status.idle": "2025-05-18T01:45:41.119656Z",
     "shell.execute_reply": "2025-05-18T01:45:41.119123Z"
    }
   },
   "outputs": [
    {
     "name": "stdout",
     "output_type": "stream",
     "text": [
      "[2025-05-18 01:45:35] Prefill batch. #new-seq: 1, #new-token: 28, #cached-token: 1, token usage: 0.00, #running-req: 0, #queue-req: 0\n"
     ]
    },
    {
     "name": "stdout",
     "output_type": "stream",
     "text": [
      "[2025-05-18 01:45:35] Decode batch. #running-req: 1, #token: 42, token usage: 0.00, cuda graph: False, gen throughput (token/s): 57.98, #queue-req: 0\n"
     ]
    },
    {
     "name": "stdout",
     "output_type": "stream",
     "text": [
      "[2025-05-18 01:45:36] Decode batch. #running-req: 1, #token: 82, token usage: 0.00, cuda graph: False, gen throughput (token/s): 64.96, #queue-req: 0\n"
     ]
    },
    {
     "name": "stdout",
     "output_type": "stream",
     "text": [
      "[2025-05-18 01:45:36] Decode batch. #running-req: 1, #token: 122, token usage: 0.01, cuda graph: False, gen throughput (token/s): 64.91, #queue-req: 0\n"
     ]
    },
    {
     "name": "stdout",
     "output_type": "stream",
     "text": [
      "[2025-05-18 01:45:37] Decode batch. #running-req: 1, #token: 162, token usage: 0.01, cuda graph: False, gen throughput (token/s): 64.90, #queue-req: 0\n"
     ]
    },
    {
     "name": "stdout",
     "output_type": "stream",
     "text": [
      "[2025-05-18 01:45:37] Decode batch. #running-req: 1, #token: 202, token usage: 0.01, cuda graph: False, gen throughput (token/s): 64.87, #queue-req: 0\n"
     ]
    },
    {
     "name": "stdout",
     "output_type": "stream",
     "text": [
      "[2025-05-18 01:45:38] Decode batch. #running-req: 1, #token: 242, token usage: 0.01, cuda graph: False, gen throughput (token/s): 65.12, #queue-req: 0\n"
     ]
    },
    {
     "name": "stdout",
     "output_type": "stream",
     "text": [
      "[2025-05-18 01:45:39] Decode batch. #running-req: 1, #token: 282, token usage: 0.01, cuda graph: False, gen throughput (token/s): 64.92, #queue-req: 0\n"
     ]
    },
    {
     "name": "stdout",
     "output_type": "stream",
     "text": [
      "[2025-05-18 01:45:39] Decode batch. #running-req: 1, #token: 322, token usage: 0.02, cuda graph: False, gen throughput (token/s): 65.37, #queue-req: 0\n"
     ]
    },
    {
     "name": "stdout",
     "output_type": "stream",
     "text": [
      "[2025-05-18 01:45:40] Decode batch. #running-req: 1, #token: 362, token usage: 0.02, cuda graph: False, gen throughput (token/s): 65.05, #queue-req: 0\n"
     ]
    },
    {
     "name": "stdout",
     "output_type": "stream",
     "text": [
      "[2025-05-18 01:45:40] Decode batch. #running-req: 1, #token: 402, token usage: 0.02, cuda graph: False, gen throughput (token/s): 64.81, #queue-req: 0\n",
      "[2025-05-18 01:45:41] INFO:     127.0.0.1:47284 - \"POST /v1/chat/completions HTTP/1.1\" 200 OK\n"
     ]
    },
    {
     "data": {
      "text/html": [
       "<strong style='color: #00008B;'>reasoing_content: Okay, so the user asked for the information and population of the capital of France in JSON format. I responded with Paris, its population of around 2.1 million, and included some key facts. Now, the user is following up with another query about the population of the United States. They want the data in JSON again, but this time for the entire country.<br><br>Hmm, I need to make sure I provide accurate and up-to-date information. The population of the US is a big number, so I should check the latest estimates. I remember it's over 300 million, maybe around 332 million as of 2023. I should include that. Also, adding some key facts about the US population would be helpful, like the diversity of states, the fastest-growing state, and the slowest-growing state. That gives a bit more context and makes the information more useful.<br><br>I should structure the JSON properly, making sure the keys are clear and the data is easy to read. Maybe include the country name, population, and the key facts as an array. I need to ensure the JSON syntax is correct, with proper commas and brackets. Also, I should avoid any markdown formatting as per the instructions, keeping it plain text.<br><br>Wait, should I mention the growth rate? The user didn't ask for it, but it's a related fact. Maybe just stick to what they asked for unless they specify more details. I'll focus on the population and the key facts they provided. <br><br>Double-checking the population number is crucial. I think it's 332.8 million as of the latest data, so I'll use that. For the key facts, I'll list the most populous and least populous states. That should cover the user's needs and provide a comprehensive answer in the JSON format they requested.<br><br><br>content: Rome is the capital of Italy</strong>"
      ],
      "text/plain": [
       "<IPython.core.display.HTML object>"
      ]
     },
     "metadata": {},
     "output_type": "display_data"
    }
   ],
   "source": [
    "ebnf_grammar = \"\"\"\n",
    "root ::= city | description\n",
    "city ::= \"London\" | \"Paris\" | \"Berlin\" | \"Rome\"\n",
    "description ::= city \" is \" status\n",
    "status ::= \"the capital of \" country\n",
    "country ::= \"England\" | \"France\" | \"Germany\" | \"Italy\"\n",
    "\"\"\"\n",
    "\n",
    "response = client.chat.completions.create(\n",
    "    model=\"deepseek-ai/DeepSeek-R1-Distill-Qwen-7B\",\n",
    "    messages=[\n",
    "        {\"role\": \"system\", \"content\": \"You are a helpful geography bot.\"},\n",
    "        {\n",
    "            \"role\": \"assistant\",\n",
    "            \"content\": \"Give me the information and population of the capital of France in the JSON format.\",\n",
    "        },\n",
    "    ],\n",
    "    temperature=0,\n",
    "    max_tokens=2048,\n",
    "    extra_body={\"ebnf\": ebnf_grammar},\n",
    ")\n",
    "\n",
    "print_highlight(\n",
    "    f\"reasoing_content: {response.choices[0].message.reasoning_content}\\n\\ncontent: {response.choices[0].message.content}\"\n",
    ")"
   ]
  },
  {
   "cell_type": "markdown",
   "metadata": {},
   "source": [
    "### Regular expression"
   ]
  },
  {
   "cell_type": "code",
   "execution_count": 5,
   "metadata": {
    "execution": {
     "iopub.execute_input": "2025-05-18T01:45:41.121681Z",
     "iopub.status.busy": "2025-05-18T01:45:41.121327Z",
     "iopub.status.idle": "2025-05-18T01:45:42.703242Z",
     "shell.execute_reply": "2025-05-18T01:45:42.702731Z"
    }
   },
   "outputs": [
    {
     "name": "stdout",
     "output_type": "stream",
     "text": [
      "[2025-05-18 01:45:41] Prefill batch. #new-seq: 1, #new-token: 11, #cached-token: 2, token usage: 0.00, #running-req: 0, #queue-req: 0\n"
     ]
    },
    {
     "name": "stdout",
     "output_type": "stream",
     "text": [
      "[2025-05-18 01:45:41] Decode batch. #running-req: 1, #token: 41, token usage: 0.00, cuda graph: False, gen throughput (token/s): 61.12, #queue-req: 0\n"
     ]
    },
    {
     "name": "stdout",
     "output_type": "stream",
     "text": [
      "[2025-05-18 01:45:42] Decode batch. #running-req: 1, #token: 81, token usage: 0.00, cuda graph: False, gen throughput (token/s): 65.52, #queue-req: 0\n"
     ]
    },
    {
     "name": "stdout",
     "output_type": "stream",
     "text": [
      "[2025-05-18 01:45:42] INFO:     127.0.0.1:47284 - \"POST /v1/chat/completions HTTP/1.1\" 200 OK\n"
     ]
    },
    {
     "data": {
      "text/html": [
       "<strong style='color: #00008B;'>reasoing_content: Alright, so the user just asked, \"What is the capital of France?\" Hmm, that's a pretty straightforward question. I should make sure I provide a clear and accurate answer. Let me think, Paris is definitely the capital. But wait, is there any chance I might have mixed it up with another country? No, I'm pretty sure France's capital is Paris. Maybe I should double-check that to be safe. Yeah, Paris is correct. I'll go with that.<br><br><br>content: London</strong>"
      ],
      "text/plain": [
       "<IPython.core.display.HTML object>"
      ]
     },
     "metadata": {},
     "output_type": "display_data"
    }
   ],
   "source": [
    "response = client.chat.completions.create(\n",
    "    model=\"deepseek-ai/DeepSeek-R1-Distill-Qwen-7B\",\n",
    "    messages=[\n",
    "        {\"role\": \"assistant\", \"content\": \"What is the capital of France?\"},\n",
    "    ],\n",
    "    temperature=0,\n",
    "    max_tokens=2048,\n",
    "    extra_body={\"regex\": \"(Paris|London)\"},\n",
    ")\n",
    "\n",
    "print_highlight(\n",
    "    f\"reasoing_content: {response.choices[0].message.reasoning_content}\\n\\ncontent: {response.choices[0].message.content}\"\n",
    ")"
   ]
  },
  {
   "cell_type": "markdown",
   "metadata": {},
   "source": [
    "### Structural Tag"
   ]
  },
  {
   "cell_type": "code",
   "execution_count": 6,
   "metadata": {
    "execution": {
     "iopub.execute_input": "2025-05-18T01:45:42.705290Z",
     "iopub.status.busy": "2025-05-18T01:45:42.704928Z",
     "iopub.status.idle": "2025-05-18T01:50:08.316145Z",
     "shell.execute_reply": "2025-05-18T01:50:08.315577Z"
    }
   },
   "outputs": [
    {
     "name": "stdout",
     "output_type": "stream",
     "text": [
      "[2025-05-18 01:45:42] Prefill batch. #new-seq: 1, #new-token: 472, #cached-token: 1, token usage: 0.00, #running-req: 0, #queue-req: 0\n",
      "[2025-05-18 01:45:43] Decode batch. #running-req: 1, #token: 480, token usage: 0.02, cuda graph: False, gen throughput (token/s): 46.53, #queue-req: 0\n"
     ]
    },
    {
     "name": "stdout",
     "output_type": "stream",
     "text": [
      "[2025-05-18 01:45:43] Decode batch. #running-req: 1, #token: 520, token usage: 0.03, cuda graph: False, gen throughput (token/s): 64.32, #queue-req: 0\n"
     ]
    },
    {
     "name": "stdout",
     "output_type": "stream",
     "text": [
      "[2025-05-18 01:45:44] Decode batch. #running-req: 1, #token: 560, token usage: 0.03, cuda graph: False, gen throughput (token/s): 64.09, #queue-req: 0\n"
     ]
    },
    {
     "name": "stdout",
     "output_type": "stream",
     "text": [
      "[2025-05-18 01:45:44] Decode batch. #running-req: 1, #token: 600, token usage: 0.03, cuda graph: False, gen throughput (token/s): 63.65, #queue-req: 0\n"
     ]
    },
    {
     "name": "stdout",
     "output_type": "stream",
     "text": [
      "[2025-05-18 01:45:45] Decode batch. #running-req: 1, #token: 640, token usage: 0.03, cuda graph: False, gen throughput (token/s): 63.48, #queue-req: 0\n"
     ]
    },
    {
     "name": "stdout",
     "output_type": "stream",
     "text": [
      "[2025-05-18 01:45:46] Decode batch. #running-req: 1, #token: 680, token usage: 0.03, cuda graph: False, gen throughput (token/s): 61.31, #queue-req: 0\n"
     ]
    },
    {
     "name": "stdout",
     "output_type": "stream",
     "text": [
      "[2025-05-18 01:45:46] Decode batch. #running-req: 1, #token: 720, token usage: 0.04, cuda graph: False, gen throughput (token/s): 64.77, #queue-req: 0\n"
     ]
    },
    {
     "name": "stdout",
     "output_type": "stream",
     "text": [
      "[2025-05-18 01:45:47] Decode batch. #running-req: 1, #token: 760, token usage: 0.04, cuda graph: False, gen throughput (token/s): 62.56, #queue-req: 0\n"
     ]
    },
    {
     "name": "stdout",
     "output_type": "stream",
     "text": [
      "[2025-05-18 01:45:48] Decode batch. #running-req: 1, #token: 800, token usage: 0.04, cuda graph: False, gen throughput (token/s): 63.38, #queue-req: 0\n"
     ]
    },
    {
     "name": "stdout",
     "output_type": "stream",
     "text": [
      "[2025-05-18 01:45:48] Decode batch. #running-req: 1, #token: 840, token usage: 0.04, cuda graph: False, gen throughput (token/s): 64.04, #queue-req: 0\n"
     ]
    },
    {
     "name": "stdout",
     "output_type": "stream",
     "text": [
      "[2025-05-18 01:45:49] Decode batch. #running-req: 1, #token: 880, token usage: 0.04, cuda graph: False, gen throughput (token/s): 64.66, #queue-req: 0\n"
     ]
    },
    {
     "name": "stdout",
     "output_type": "stream",
     "text": [
      "[2025-05-18 01:45:49] Decode batch. #running-req: 1, #token: 920, token usage: 0.04, cuda graph: False, gen throughput (token/s): 65.15, #queue-req: 0\n"
     ]
    },
    {
     "name": "stdout",
     "output_type": "stream",
     "text": [
      "[2025-05-18 01:45:50] Decode batch. #running-req: 1, #token: 960, token usage: 0.05, cuda graph: False, gen throughput (token/s): 64.54, #queue-req: 0\n"
     ]
    },
    {
     "name": "stdout",
     "output_type": "stream",
     "text": [
      "[2025-05-18 01:45:51] Decode batch. #running-req: 1, #token: 1000, token usage: 0.05, cuda graph: False, gen throughput (token/s): 64.54, #queue-req: 0\n"
     ]
    },
    {
     "name": "stdout",
     "output_type": "stream",
     "text": [
      "[2025-05-18 01:45:51] Decode batch. #running-req: 1, #token: 1040, token usage: 0.05, cuda graph: False, gen throughput (token/s): 64.45, #queue-req: 0\n"
     ]
    },
    {
     "name": "stdout",
     "output_type": "stream",
     "text": [
      "[2025-05-18 01:45:52] Decode batch. #running-req: 1, #token: 1080, token usage: 0.05, cuda graph: False, gen throughput (token/s): 64.45, #queue-req: 0\n"
     ]
    },
    {
     "name": "stdout",
     "output_type": "stream",
     "text": [
      "[2025-05-18 01:45:53] Decode batch. #running-req: 1, #token: 1120, token usage: 0.05, cuda graph: False, gen throughput (token/s): 64.38, #queue-req: 0\n"
     ]
    },
    {
     "name": "stdout",
     "output_type": "stream",
     "text": [
      "[2025-05-18 01:45:53] Decode batch. #running-req: 1, #token: 1160, token usage: 0.06, cuda graph: False, gen throughput (token/s): 64.45, #queue-req: 0\n"
     ]
    },
    {
     "name": "stdout",
     "output_type": "stream",
     "text": [
      "[2025-05-18 01:45:54] Decode batch. #running-req: 1, #token: 1200, token usage: 0.06, cuda graph: False, gen throughput (token/s): 64.47, #queue-req: 0\n"
     ]
    },
    {
     "name": "stdout",
     "output_type": "stream",
     "text": [
      "[2025-05-18 01:45:54] Decode batch. #running-req: 1, #token: 1240, token usage: 0.06, cuda graph: False, gen throughput (token/s): 64.58, #queue-req: 0\n"
     ]
    },
    {
     "name": "stdout",
     "output_type": "stream",
     "text": [
      "[2025-05-18 01:45:55] Decode batch. #running-req: 1, #token: 1280, token usage: 0.06, cuda graph: False, gen throughput (token/s): 64.23, #queue-req: 0\n"
     ]
    },
    {
     "name": "stdout",
     "output_type": "stream",
     "text": [
      "[2025-05-18 01:45:56] Decode batch. #running-req: 1, #token: 1320, token usage: 0.06, cuda graph: False, gen throughput (token/s): 64.47, #queue-req: 0\n"
     ]
    },
    {
     "name": "stdout",
     "output_type": "stream",
     "text": [
      "[2025-05-18 01:45:56] Decode batch. #running-req: 1, #token: 1360, token usage: 0.07, cuda graph: False, gen throughput (token/s): 64.68, #queue-req: 0\n"
     ]
    },
    {
     "name": "stdout",
     "output_type": "stream",
     "text": [
      "[2025-05-18 01:45:57] Decode batch. #running-req: 1, #token: 1400, token usage: 0.07, cuda graph: False, gen throughput (token/s): 64.19, #queue-req: 0\n"
     ]
    },
    {
     "name": "stdout",
     "output_type": "stream",
     "text": [
      "[2025-05-18 01:45:58] Decode batch. #running-req: 1, #token: 1440, token usage: 0.07, cuda graph: False, gen throughput (token/s): 61.80, #queue-req: 0\n"
     ]
    },
    {
     "name": "stdout",
     "output_type": "stream",
     "text": [
      "[2025-05-18 01:45:58] Decode batch. #running-req: 1, #token: 1480, token usage: 0.07, cuda graph: False, gen throughput (token/s): 63.05, #queue-req: 0\n"
     ]
    },
    {
     "name": "stdout",
     "output_type": "stream",
     "text": [
      "[2025-05-18 01:45:59] Decode batch. #running-req: 1, #token: 1520, token usage: 0.07, cuda graph: False, gen throughput (token/s): 62.17, #queue-req: 0\n"
     ]
    },
    {
     "name": "stdout",
     "output_type": "stream",
     "text": [
      "[2025-05-18 01:45:59] Decode batch. #running-req: 1, #token: 1560, token usage: 0.08, cuda graph: False, gen throughput (token/s): 62.87, #queue-req: 0\n"
     ]
    },
    {
     "name": "stdout",
     "output_type": "stream",
     "text": [
      "[2025-05-18 01:46:00] Decode batch. #running-req: 1, #token: 1600, token usage: 0.08, cuda graph: False, gen throughput (token/s): 63.39, #queue-req: 0\n"
     ]
    },
    {
     "name": "stdout",
     "output_type": "stream",
     "text": [
      "[2025-05-18 01:46:01] Decode batch. #running-req: 1, #token: 1640, token usage: 0.08, cuda graph: False, gen throughput (token/s): 61.93, #queue-req: 0\n"
     ]
    },
    {
     "name": "stdout",
     "output_type": "stream",
     "text": [
      "[2025-05-18 01:46:01] Decode batch. #running-req: 1, #token: 1680, token usage: 0.08, cuda graph: False, gen throughput (token/s): 60.28, #queue-req: 0\n"
     ]
    },
    {
     "name": "stdout",
     "output_type": "stream",
     "text": [
      "[2025-05-18 01:46:02] Decode batch. #running-req: 1, #token: 1720, token usage: 0.08, cuda graph: False, gen throughput (token/s): 61.93, #queue-req: 0\n"
     ]
    },
    {
     "name": "stdout",
     "output_type": "stream",
     "text": [
      "[2025-05-18 01:46:03] Decode batch. #running-req: 1, #token: 1760, token usage: 0.09, cuda graph: False, gen throughput (token/s): 62.35, #queue-req: 0\n"
     ]
    },
    {
     "name": "stdout",
     "output_type": "stream",
     "text": [
      "[2025-05-18 01:46:03] Decode batch. #running-req: 1, #token: 1800, token usage: 0.09, cuda graph: False, gen throughput (token/s): 61.55, #queue-req: 0\n"
     ]
    },
    {
     "name": "stdout",
     "output_type": "stream",
     "text": [
      "[2025-05-18 01:46:04] Decode batch. #running-req: 1, #token: 1840, token usage: 0.09, cuda graph: False, gen throughput (token/s): 62.16, #queue-req: 0\n"
     ]
    },
    {
     "name": "stdout",
     "output_type": "stream",
     "text": [
      "[2025-05-18 01:46:05] Decode batch. #running-req: 1, #token: 1880, token usage: 0.09, cuda graph: False, gen throughput (token/s): 62.81, #queue-req: 0\n"
     ]
    },
    {
     "name": "stdout",
     "output_type": "stream",
     "text": [
      "[2025-05-18 01:46:05] Decode batch. #running-req: 1, #token: 1920, token usage: 0.09, cuda graph: False, gen throughput (token/s): 62.48, #queue-req: 0\n"
     ]
    },
    {
     "name": "stdout",
     "output_type": "stream",
     "text": [
      "[2025-05-18 01:46:06] Decode batch. #running-req: 1, #token: 1960, token usage: 0.10, cuda graph: False, gen throughput (token/s): 62.89, #queue-req: 0\n"
     ]
    },
    {
     "name": "stdout",
     "output_type": "stream",
     "text": [
      "[2025-05-18 01:46:07] Decode batch. #running-req: 1, #token: 2000, token usage: 0.10, cuda graph: False, gen throughput (token/s): 64.05, #queue-req: 0\n"
     ]
    },
    {
     "name": "stdout",
     "output_type": "stream",
     "text": [
      "[2025-05-18 01:46:07] Decode batch. #running-req: 1, #token: 2040, token usage: 0.10, cuda graph: False, gen throughput (token/s): 63.66, #queue-req: 0\n"
     ]
    },
    {
     "name": "stdout",
     "output_type": "stream",
     "text": [
      "[2025-05-18 01:46:08] Decode batch. #running-req: 1, #token: 2080, token usage: 0.10, cuda graph: False, gen throughput (token/s): 62.88, #queue-req: 0\n"
     ]
    },
    {
     "name": "stdout",
     "output_type": "stream",
     "text": [
      "[2025-05-18 01:46:08] Decode batch. #running-req: 1, #token: 2120, token usage: 0.10, cuda graph: False, gen throughput (token/s): 62.27, #queue-req: 0\n"
     ]
    },
    {
     "name": "stdout",
     "output_type": "stream",
     "text": [
      "[2025-05-18 01:46:09] Decode batch. #running-req: 1, #token: 2160, token usage: 0.11, cuda graph: False, gen throughput (token/s): 62.38, #queue-req: 0\n"
     ]
    },
    {
     "name": "stdout",
     "output_type": "stream",
     "text": [
      "[2025-05-18 01:46:10] Decode batch. #running-req: 1, #token: 2200, token usage: 0.11, cuda graph: False, gen throughput (token/s): 61.48, #queue-req: 0\n"
     ]
    },
    {
     "name": "stdout",
     "output_type": "stream",
     "text": [
      "[2025-05-18 01:46:10] Decode batch. #running-req: 1, #token: 2240, token usage: 0.11, cuda graph: False, gen throughput (token/s): 62.34, #queue-req: 0\n"
     ]
    },
    {
     "name": "stdout",
     "output_type": "stream",
     "text": [
      "[2025-05-18 01:46:11] Decode batch. #running-req: 1, #token: 2280, token usage: 0.11, cuda graph: False, gen throughput (token/s): 62.66, #queue-req: 0\n"
     ]
    },
    {
     "name": "stdout",
     "output_type": "stream",
     "text": [
      "[2025-05-18 01:46:12] Decode batch. #running-req: 1, #token: 2320, token usage: 0.11, cuda graph: False, gen throughput (token/s): 63.55, #queue-req: 0\n"
     ]
    },
    {
     "name": "stdout",
     "output_type": "stream",
     "text": [
      "[2025-05-18 01:46:12] Decode batch. #running-req: 1, #token: 2360, token usage: 0.12, cuda graph: False, gen throughput (token/s): 63.96, #queue-req: 0\n"
     ]
    },
    {
     "name": "stdout",
     "output_type": "stream",
     "text": [
      "[2025-05-18 01:46:13] Decode batch. #running-req: 1, #token: 2400, token usage: 0.12, cuda graph: False, gen throughput (token/s): 63.83, #queue-req: 0\n"
     ]
    },
    {
     "name": "stdout",
     "output_type": "stream",
     "text": [
      "[2025-05-18 01:46:14] Decode batch. #running-req: 1, #token: 2440, token usage: 0.12, cuda graph: False, gen throughput (token/s): 63.87, #queue-req: 0\n"
     ]
    },
    {
     "name": "stdout",
     "output_type": "stream",
     "text": [
      "[2025-05-18 01:46:14] Decode batch. #running-req: 1, #token: 2480, token usage: 0.12, cuda graph: False, gen throughput (token/s): 61.85, #queue-req: 0\n"
     ]
    },
    {
     "name": "stdout",
     "output_type": "stream",
     "text": [
      "[2025-05-18 01:46:15] Decode batch. #running-req: 1, #token: 2520, token usage: 0.12, cuda graph: False, gen throughput (token/s): 63.52, #queue-req: 0\n"
     ]
    },
    {
     "name": "stdout",
     "output_type": "stream",
     "text": [
      "[2025-05-18 01:46:15] Decode batch. #running-req: 1, #token: 2560, token usage: 0.12, cuda graph: False, gen throughput (token/s): 63.22, #queue-req: 0\n"
     ]
    },
    {
     "name": "stdout",
     "output_type": "stream",
     "text": [
      "[2025-05-18 01:46:16] Decode batch. #running-req: 1, #token: 2600, token usage: 0.13, cuda graph: False, gen throughput (token/s): 63.39, #queue-req: 0\n"
     ]
    },
    {
     "name": "stdout",
     "output_type": "stream",
     "text": [
      "[2025-05-18 01:46:17] Decode batch. #running-req: 1, #token: 2640, token usage: 0.13, cuda graph: False, gen throughput (token/s): 60.99, #queue-req: 0\n"
     ]
    },
    {
     "name": "stdout",
     "output_type": "stream",
     "text": [
      "[2025-05-18 01:46:17] Decode batch. #running-req: 1, #token: 2680, token usage: 0.13, cuda graph: False, gen throughput (token/s): 64.89, #queue-req: 0\n"
     ]
    },
    {
     "name": "stdout",
     "output_type": "stream",
     "text": [
      "[2025-05-18 01:46:18] Decode batch. #running-req: 1, #token: 2720, token usage: 0.13, cuda graph: False, gen throughput (token/s): 63.36, #queue-req: 0\n"
     ]
    },
    {
     "name": "stdout",
     "output_type": "stream",
     "text": [
      "[2025-05-18 01:46:19] Decode batch. #running-req: 1, #token: 2760, token usage: 0.13, cuda graph: False, gen throughput (token/s): 62.50, #queue-req: 0\n"
     ]
    },
    {
     "name": "stdout",
     "output_type": "stream",
     "text": [
      "[2025-05-18 01:46:19] Decode batch. #running-req: 1, #token: 2800, token usage: 0.14, cuda graph: False, gen throughput (token/s): 63.46, #queue-req: 0\n"
     ]
    },
    {
     "name": "stdout",
     "output_type": "stream",
     "text": [
      "[2025-05-18 01:46:20] Decode batch. #running-req: 1, #token: 2840, token usage: 0.14, cuda graph: False, gen throughput (token/s): 64.20, #queue-req: 0\n"
     ]
    },
    {
     "name": "stdout",
     "output_type": "stream",
     "text": [
      "[2025-05-18 01:46:21] Decode batch. #running-req: 1, #token: 2880, token usage: 0.14, cuda graph: False, gen throughput (token/s): 60.61, #queue-req: 0\n"
     ]
    },
    {
     "name": "stdout",
     "output_type": "stream",
     "text": [
      "[2025-05-18 01:46:21] Decode batch. #running-req: 1, #token: 2920, token usage: 0.14, cuda graph: False, gen throughput (token/s): 64.33, #queue-req: 0\n"
     ]
    },
    {
     "name": "stdout",
     "output_type": "stream",
     "text": [
      "[2025-05-18 01:46:22] Decode batch. #running-req: 1, #token: 2960, token usage: 0.14, cuda graph: False, gen throughput (token/s): 64.54, #queue-req: 0\n"
     ]
    },
    {
     "name": "stdout",
     "output_type": "stream",
     "text": [
      "[2025-05-18 01:46:22] Decode batch. #running-req: 1, #token: 3000, token usage: 0.15, cuda graph: False, gen throughput (token/s): 64.27, #queue-req: 0\n"
     ]
    },
    {
     "name": "stdout",
     "output_type": "stream",
     "text": [
      "[2025-05-18 01:46:23] Decode batch. #running-req: 1, #token: 3040, token usage: 0.15, cuda graph: False, gen throughput (token/s): 63.98, #queue-req: 0\n"
     ]
    },
    {
     "name": "stdout",
     "output_type": "stream",
     "text": [
      "[2025-05-18 01:46:24] Decode batch. #running-req: 1, #token: 3080, token usage: 0.15, cuda graph: False, gen throughput (token/s): 62.28, #queue-req: 0\n"
     ]
    },
    {
     "name": "stdout",
     "output_type": "stream",
     "text": [
      "[2025-05-18 01:46:24] Decode batch. #running-req: 1, #token: 3120, token usage: 0.15, cuda graph: False, gen throughput (token/s): 62.24, #queue-req: 0\n"
     ]
    },
    {
     "name": "stdout",
     "output_type": "stream",
     "text": [
      "[2025-05-18 01:46:25] Decode batch. #running-req: 1, #token: 3160, token usage: 0.15, cuda graph: False, gen throughput (token/s): 62.15, #queue-req: 0\n"
     ]
    },
    {
     "name": "stdout",
     "output_type": "stream",
     "text": [
      "[2025-05-18 01:46:26] Decode batch. #running-req: 1, #token: 3200, token usage: 0.16, cuda graph: False, gen throughput (token/s): 62.42, #queue-req: 0\n"
     ]
    },
    {
     "name": "stdout",
     "output_type": "stream",
     "text": [
      "[2025-05-18 01:46:26] Decode batch. #running-req: 1, #token: 3240, token usage: 0.16, cuda graph: False, gen throughput (token/s): 62.39, #queue-req: 0\n"
     ]
    },
    {
     "name": "stdout",
     "output_type": "stream",
     "text": [
      "[2025-05-18 01:46:27] Decode batch. #running-req: 1, #token: 3280, token usage: 0.16, cuda graph: False, gen throughput (token/s): 63.24, #queue-req: 0\n"
     ]
    },
    {
     "name": "stdout",
     "output_type": "stream",
     "text": [
      "[2025-05-18 01:46:27] Decode batch. #running-req: 1, #token: 3320, token usage: 0.16, cuda graph: False, gen throughput (token/s): 61.71, #queue-req: 0\n"
     ]
    },
    {
     "name": "stdout",
     "output_type": "stream",
     "text": [
      "[2025-05-18 01:46:28] Decode batch. #running-req: 1, #token: 3360, token usage: 0.16, cuda graph: False, gen throughput (token/s): 60.57, #queue-req: 0\n"
     ]
    },
    {
     "name": "stdout",
     "output_type": "stream",
     "text": [
      "[2025-05-18 01:46:29] Decode batch. #running-req: 1, #token: 3400, token usage: 0.17, cuda graph: False, gen throughput (token/s): 62.28, #queue-req: 0\n"
     ]
    },
    {
     "name": "stdout",
     "output_type": "stream",
     "text": [
      "[2025-05-18 01:46:29] Decode batch. #running-req: 1, #token: 3440, token usage: 0.17, cuda graph: False, gen throughput (token/s): 62.54, #queue-req: 0\n"
     ]
    },
    {
     "name": "stdout",
     "output_type": "stream",
     "text": [
      "[2025-05-18 01:46:30] Decode batch. #running-req: 1, #token: 3480, token usage: 0.17, cuda graph: False, gen throughput (token/s): 62.07, #queue-req: 0\n"
     ]
    },
    {
     "name": "stdout",
     "output_type": "stream",
     "text": [
      "[2025-05-18 01:46:31] Decode batch. #running-req: 1, #token: 3520, token usage: 0.17, cuda graph: False, gen throughput (token/s): 61.55, #queue-req: 0\n"
     ]
    },
    {
     "name": "stdout",
     "output_type": "stream",
     "text": [
      "[2025-05-18 01:46:31] Decode batch. #running-req: 1, #token: 3560, token usage: 0.17, cuda graph: False, gen throughput (token/s): 60.90, #queue-req: 0\n"
     ]
    },
    {
     "name": "stdout",
     "output_type": "stream",
     "text": [
      "[2025-05-18 01:46:32] Decode batch. #running-req: 1, #token: 3600, token usage: 0.18, cuda graph: False, gen throughput (token/s): 61.97, #queue-req: 0\n"
     ]
    },
    {
     "name": "stdout",
     "output_type": "stream",
     "text": [
      "[2025-05-18 01:46:33] Decode batch. #running-req: 1, #token: 3640, token usage: 0.18, cuda graph: False, gen throughput (token/s): 62.04, #queue-req: 0\n"
     ]
    },
    {
     "name": "stdout",
     "output_type": "stream",
     "text": [
      "[2025-05-18 01:46:33] Decode batch. #running-req: 1, #token: 3680, token usage: 0.18, cuda graph: False, gen throughput (token/s): 62.08, #queue-req: 0\n"
     ]
    },
    {
     "name": "stdout",
     "output_type": "stream",
     "text": [
      "[2025-05-18 01:46:34] Decode batch. #running-req: 1, #token: 3720, token usage: 0.18, cuda graph: False, gen throughput (token/s): 62.16, #queue-req: 0\n"
     ]
    },
    {
     "name": "stdout",
     "output_type": "stream",
     "text": [
      "[2025-05-18 01:46:35] Decode batch. #running-req: 1, #token: 3760, token usage: 0.18, cuda graph: False, gen throughput (token/s): 60.86, #queue-req: 0\n"
     ]
    },
    {
     "name": "stdout",
     "output_type": "stream",
     "text": [
      "[2025-05-18 01:46:35] Decode batch. #running-req: 1, #token: 3800, token usage: 0.19, cuda graph: False, gen throughput (token/s): 62.36, #queue-req: 0\n"
     ]
    },
    {
     "name": "stdout",
     "output_type": "stream",
     "text": [
      "[2025-05-18 01:46:36] Decode batch. #running-req: 1, #token: 3840, token usage: 0.19, cuda graph: False, gen throughput (token/s): 62.27, #queue-req: 0\n"
     ]
    },
    {
     "name": "stdout",
     "output_type": "stream",
     "text": [
      "[2025-05-18 01:46:37] Decode batch. #running-req: 1, #token: 3880, token usage: 0.19, cuda graph: False, gen throughput (token/s): 62.90, #queue-req: 0\n"
     ]
    },
    {
     "name": "stdout",
     "output_type": "stream",
     "text": [
      "[2025-05-18 01:46:37] Decode batch. #running-req: 1, #token: 3920, token usage: 0.19, cuda graph: False, gen throughput (token/s): 62.80, #queue-req: 0\n"
     ]
    },
    {
     "name": "stdout",
     "output_type": "stream",
     "text": [
      "[2025-05-18 01:46:38] Decode batch. #running-req: 1, #token: 3960, token usage: 0.19, cuda graph: False, gen throughput (token/s): 62.04, #queue-req: 0\n"
     ]
    },
    {
     "name": "stdout",
     "output_type": "stream",
     "text": [
      "[2025-05-18 01:46:38] Decode batch. #running-req: 1, #token: 4000, token usage: 0.20, cuda graph: False, gen throughput (token/s): 60.84, #queue-req: 0\n"
     ]
    },
    {
     "name": "stdout",
     "output_type": "stream",
     "text": [
      "[2025-05-18 01:46:39] Decode batch. #running-req: 1, #token: 4040, token usage: 0.20, cuda graph: False, gen throughput (token/s): 63.08, #queue-req: 0\n"
     ]
    },
    {
     "name": "stdout",
     "output_type": "stream",
     "text": [
      "[2025-05-18 01:46:40] Decode batch. #running-req: 1, #token: 4080, token usage: 0.20, cuda graph: False, gen throughput (token/s): 63.14, #queue-req: 0\n"
     ]
    },
    {
     "name": "stdout",
     "output_type": "stream",
     "text": [
      "[2025-05-18 01:46:40] Decode batch. #running-req: 1, #token: 4120, token usage: 0.20, cuda graph: False, gen throughput (token/s): 62.85, #queue-req: 0\n"
     ]
    },
    {
     "name": "stdout",
     "output_type": "stream",
     "text": [
      "[2025-05-18 01:46:41] Decode batch. #running-req: 1, #token: 4160, token usage: 0.20, cuda graph: False, gen throughput (token/s): 62.62, #queue-req: 0\n"
     ]
    },
    {
     "name": "stdout",
     "output_type": "stream",
     "text": [
      "[2025-05-18 01:46:42] Decode batch. #running-req: 1, #token: 4200, token usage: 0.21, cuda graph: False, gen throughput (token/s): 62.86, #queue-req: 0\n"
     ]
    },
    {
     "name": "stdout",
     "output_type": "stream",
     "text": [
      "[2025-05-18 01:46:42] Decode batch. #running-req: 1, #token: 4240, token usage: 0.21, cuda graph: False, gen throughput (token/s): 61.47, #queue-req: 0\n"
     ]
    },
    {
     "name": "stdout",
     "output_type": "stream",
     "text": [
      "[2025-05-18 01:46:43] Decode batch. #running-req: 1, #token: 4280, token usage: 0.21, cuda graph: False, gen throughput (token/s): 62.79, #queue-req: 0\n"
     ]
    },
    {
     "name": "stdout",
     "output_type": "stream",
     "text": [
      "[2025-05-18 01:46:44] Decode batch. #running-req: 1, #token: 4320, token usage: 0.21, cuda graph: False, gen throughput (token/s): 63.04, #queue-req: 0\n"
     ]
    },
    {
     "name": "stdout",
     "output_type": "stream",
     "text": [
      "[2025-05-18 01:46:44] Decode batch. #running-req: 1, #token: 4360, token usage: 0.21, cuda graph: False, gen throughput (token/s): 62.74, #queue-req: 0\n"
     ]
    },
    {
     "name": "stdout",
     "output_type": "stream",
     "text": [
      "[2025-05-18 01:46:45] Decode batch. #running-req: 1, #token: 4400, token usage: 0.21, cuda graph: False, gen throughput (token/s): 62.84, #queue-req: 0\n"
     ]
    },
    {
     "name": "stdout",
     "output_type": "stream",
     "text": [
      "[2025-05-18 01:46:45] Decode batch. #running-req: 1, #token: 4440, token usage: 0.22, cuda graph: False, gen throughput (token/s): 63.34, #queue-req: 0\n"
     ]
    },
    {
     "name": "stdout",
     "output_type": "stream",
     "text": [
      "[2025-05-18 01:46:46] Decode batch. #running-req: 1, #token: 4480, token usage: 0.22, cuda graph: False, gen throughput (token/s): 62.64, #queue-req: 0\n"
     ]
    },
    {
     "name": "stdout",
     "output_type": "stream",
     "text": [
      "[2025-05-18 01:46:47] Decode batch. #running-req: 1, #token: 4520, token usage: 0.22, cuda graph: False, gen throughput (token/s): 62.98, #queue-req: 0\n"
     ]
    },
    {
     "name": "stdout",
     "output_type": "stream",
     "text": [
      "[2025-05-18 01:46:47] Decode batch. #running-req: 1, #token: 4560, token usage: 0.22, cuda graph: False, gen throughput (token/s): 62.93, #queue-req: 0\n"
     ]
    },
    {
     "name": "stdout",
     "output_type": "stream",
     "text": [
      "[2025-05-18 01:46:48] Decode batch. #running-req: 1, #token: 4600, token usage: 0.22, cuda graph: False, gen throughput (token/s): 62.88, #queue-req: 0\n"
     ]
    },
    {
     "name": "stdout",
     "output_type": "stream",
     "text": [
      "[2025-05-18 01:46:49] Decode batch. #running-req: 1, #token: 4640, token usage: 0.23, cuda graph: False, gen throughput (token/s): 64.49, #queue-req: 0\n"
     ]
    },
    {
     "name": "stdout",
     "output_type": "stream",
     "text": [
      "[2025-05-18 01:46:49] Decode batch. #running-req: 1, #token: 4680, token usage: 0.23, cuda graph: False, gen throughput (token/s): 63.36, #queue-req: 0\n"
     ]
    },
    {
     "name": "stdout",
     "output_type": "stream",
     "text": [
      "[2025-05-18 01:46:50] Decode batch. #running-req: 1, #token: 4720, token usage: 0.23, cuda graph: False, gen throughput (token/s): 61.07, #queue-req: 0\n"
     ]
    },
    {
     "name": "stdout",
     "output_type": "stream",
     "text": [
      "[2025-05-18 01:46:51] Decode batch. #running-req: 1, #token: 4760, token usage: 0.23, cuda graph: False, gen throughput (token/s): 64.21, #queue-req: 0\n"
     ]
    },
    {
     "name": "stdout",
     "output_type": "stream",
     "text": [
      "[2025-05-18 01:46:51] Decode batch. #running-req: 1, #token: 4800, token usage: 0.23, cuda graph: False, gen throughput (token/s): 63.09, #queue-req: 0\n"
     ]
    },
    {
     "name": "stdout",
     "output_type": "stream",
     "text": [
      "[2025-05-18 01:46:52] Decode batch. #running-req: 1, #token: 4840, token usage: 0.24, cuda graph: False, gen throughput (token/s): 62.95, #queue-req: 0\n"
     ]
    },
    {
     "name": "stdout",
     "output_type": "stream",
     "text": [
      "[2025-05-18 01:46:52] Decode batch. #running-req: 1, #token: 4880, token usage: 0.24, cuda graph: False, gen throughput (token/s): 63.05, #queue-req: 0\n"
     ]
    },
    {
     "name": "stdout",
     "output_type": "stream",
     "text": [
      "[2025-05-18 01:46:53] Decode batch. #running-req: 1, #token: 4920, token usage: 0.24, cuda graph: False, gen throughput (token/s): 63.09, #queue-req: 0\n"
     ]
    },
    {
     "name": "stdout",
     "output_type": "stream",
     "text": [
      "[2025-05-18 01:46:54] Decode batch. #running-req: 1, #token: 4960, token usage: 0.24, cuda graph: False, gen throughput (token/s): 63.51, #queue-req: 0\n"
     ]
    },
    {
     "name": "stdout",
     "output_type": "stream",
     "text": [
      "[2025-05-18 01:46:54] Decode batch. #running-req: 1, #token: 5000, token usage: 0.24, cuda graph: False, gen throughput (token/s): 64.35, #queue-req: 0\n"
     ]
    },
    {
     "name": "stdout",
     "output_type": "stream",
     "text": [
      "[2025-05-18 01:46:55] Decode batch. #running-req: 1, #token: 5040, token usage: 0.25, cuda graph: False, gen throughput (token/s): 62.93, #queue-req: 0\n"
     ]
    },
    {
     "name": "stdout",
     "output_type": "stream",
     "text": [
      "[2025-05-18 01:46:56] Decode batch. #running-req: 1, #token: 5080, token usage: 0.25, cuda graph: False, gen throughput (token/s): 63.03, #queue-req: 0\n"
     ]
    },
    {
     "name": "stdout",
     "output_type": "stream",
     "text": [
      "[2025-05-18 01:46:56] Decode batch. #running-req: 1, #token: 5120, token usage: 0.25, cuda graph: False, gen throughput (token/s): 63.00, #queue-req: 0\n"
     ]
    },
    {
     "name": "stdout",
     "output_type": "stream",
     "text": [
      "[2025-05-18 01:46:57] Decode batch. #running-req: 1, #token: 5160, token usage: 0.25, cuda graph: False, gen throughput (token/s): 62.47, #queue-req: 0\n"
     ]
    },
    {
     "name": "stdout",
     "output_type": "stream",
     "text": [
      "[2025-05-18 01:46:58] Decode batch. #running-req: 1, #token: 5200, token usage: 0.25, cuda graph: False, gen throughput (token/s): 62.62, #queue-req: 0\n"
     ]
    },
    {
     "name": "stdout",
     "output_type": "stream",
     "text": [
      "[2025-05-18 01:46:58] Decode batch. #running-req: 1, #token: 5240, token usage: 0.26, cuda graph: False, gen throughput (token/s): 62.18, #queue-req: 0\n"
     ]
    },
    {
     "name": "stdout",
     "output_type": "stream",
     "text": [
      "[2025-05-18 01:46:59] Decode batch. #running-req: 1, #token: 5280, token usage: 0.26, cuda graph: False, gen throughput (token/s): 62.53, #queue-req: 0\n"
     ]
    },
    {
     "name": "stdout",
     "output_type": "stream",
     "text": [
      "[2025-05-18 01:46:59] Decode batch. #running-req: 1, #token: 5320, token usage: 0.26, cuda graph: False, gen throughput (token/s): 63.20, #queue-req: 0\n"
     ]
    },
    {
     "name": "stdout",
     "output_type": "stream",
     "text": [
      "[2025-05-18 01:47:00] Decode batch. #running-req: 1, #token: 5360, token usage: 0.26, cuda graph: False, gen throughput (token/s): 62.34, #queue-req: 0\n"
     ]
    },
    {
     "name": "stdout",
     "output_type": "stream",
     "text": [
      "[2025-05-18 01:47:01] Decode batch. #running-req: 1, #token: 5400, token usage: 0.26, cuda graph: False, gen throughput (token/s): 62.61, #queue-req: 0\n"
     ]
    },
    {
     "name": "stdout",
     "output_type": "stream",
     "text": [
      "[2025-05-18 01:47:01] Decode batch. #running-req: 1, #token: 5440, token usage: 0.27, cuda graph: False, gen throughput (token/s): 62.43, #queue-req: 0\n"
     ]
    },
    {
     "name": "stdout",
     "output_type": "stream",
     "text": [
      "[2025-05-18 01:47:02] Decode batch. #running-req: 1, #token: 5480, token usage: 0.27, cuda graph: False, gen throughput (token/s): 62.69, #queue-req: 0\n"
     ]
    },
    {
     "name": "stdout",
     "output_type": "stream",
     "text": [
      "[2025-05-18 01:47:03] Decode batch. #running-req: 1, #token: 5520, token usage: 0.27, cuda graph: False, gen throughput (token/s): 62.69, #queue-req: 0\n"
     ]
    },
    {
     "name": "stdout",
     "output_type": "stream",
     "text": [
      "[2025-05-18 01:47:03] Decode batch. #running-req: 1, #token: 5560, token usage: 0.27, cuda graph: False, gen throughput (token/s): 62.74, #queue-req: 0\n"
     ]
    },
    {
     "name": "stdout",
     "output_type": "stream",
     "text": [
      "[2025-05-18 01:47:04] Decode batch. #running-req: 1, #token: 5600, token usage: 0.27, cuda graph: False, gen throughput (token/s): 62.68, #queue-req: 0\n"
     ]
    },
    {
     "name": "stdout",
     "output_type": "stream",
     "text": [
      "[2025-05-18 01:47:05] Decode batch. #running-req: 1, #token: 5640, token usage: 0.28, cuda graph: False, gen throughput (token/s): 62.95, #queue-req: 0\n"
     ]
    },
    {
     "name": "stdout",
     "output_type": "stream",
     "text": [
      "[2025-05-18 01:47:05] Decode batch. #running-req: 1, #token: 5680, token usage: 0.28, cuda graph: False, gen throughput (token/s): 63.00, #queue-req: 0\n"
     ]
    },
    {
     "name": "stdout",
     "output_type": "stream",
     "text": [
      "[2025-05-18 01:47:06] Decode batch. #running-req: 1, #token: 5720, token usage: 0.28, cuda graph: False, gen throughput (token/s): 63.94, #queue-req: 0\n"
     ]
    },
    {
     "name": "stdout",
     "output_type": "stream",
     "text": [
      "[2025-05-18 01:47:06] Decode batch. #running-req: 1, #token: 5760, token usage: 0.28, cuda graph: False, gen throughput (token/s): 64.48, #queue-req: 0\n"
     ]
    },
    {
     "name": "stdout",
     "output_type": "stream",
     "text": [
      "[2025-05-18 01:47:07] Decode batch. #running-req: 1, #token: 5800, token usage: 0.28, cuda graph: False, gen throughput (token/s): 63.63, #queue-req: 0\n"
     ]
    },
    {
     "name": "stdout",
     "output_type": "stream",
     "text": [
      "[2025-05-18 01:47:08] Decode batch. #running-req: 1, #token: 5840, token usage: 0.29, cuda graph: False, gen throughput (token/s): 63.38, #queue-req: 0\n"
     ]
    },
    {
     "name": "stdout",
     "output_type": "stream",
     "text": [
      "[2025-05-18 01:47:08] Decode batch. #running-req: 1, #token: 5880, token usage: 0.29, cuda graph: False, gen throughput (token/s): 64.04, #queue-req: 0\n"
     ]
    },
    {
     "name": "stdout",
     "output_type": "stream",
     "text": [
      "[2025-05-18 01:47:09] Decode batch. #running-req: 1, #token: 5920, token usage: 0.29, cuda graph: False, gen throughput (token/s): 64.05, #queue-req: 0\n"
     ]
    },
    {
     "name": "stdout",
     "output_type": "stream",
     "text": [
      "[2025-05-18 01:47:10] Decode batch. #running-req: 1, #token: 5960, token usage: 0.29, cuda graph: False, gen throughput (token/s): 63.90, #queue-req: 0\n"
     ]
    },
    {
     "name": "stdout",
     "output_type": "stream",
     "text": [
      "[2025-05-18 01:47:10] Decode batch. #running-req: 1, #token: 6000, token usage: 0.29, cuda graph: False, gen throughput (token/s): 64.01, #queue-req: 0\n"
     ]
    },
    {
     "name": "stdout",
     "output_type": "stream",
     "text": [
      "[2025-05-18 01:47:11] Decode batch. #running-req: 1, #token: 6040, token usage: 0.29, cuda graph: False, gen throughput (token/s): 63.49, #queue-req: 0\n"
     ]
    },
    {
     "name": "stdout",
     "output_type": "stream",
     "text": [
      "[2025-05-18 01:47:11] Decode batch. #running-req: 1, #token: 6080, token usage: 0.30, cuda graph: False, gen throughput (token/s): 61.33, #queue-req: 0\n"
     ]
    },
    {
     "name": "stdout",
     "output_type": "stream",
     "text": [
      "[2025-05-18 01:47:12] Decode batch. #running-req: 1, #token: 6120, token usage: 0.30, cuda graph: False, gen throughput (token/s): 61.36, #queue-req: 0\n"
     ]
    },
    {
     "name": "stdout",
     "output_type": "stream",
     "text": [
      "[2025-05-18 01:47:13] Decode batch. #running-req: 1, #token: 6160, token usage: 0.30, cuda graph: False, gen throughput (token/s): 63.58, #queue-req: 0\n"
     ]
    },
    {
     "name": "stdout",
     "output_type": "stream",
     "text": [
      "[2025-05-18 01:47:13] Decode batch. #running-req: 1, #token: 6200, token usage: 0.30, cuda graph: False, gen throughput (token/s): 65.41, #queue-req: 0\n"
     ]
    },
    {
     "name": "stdout",
     "output_type": "stream",
     "text": [
      "[2025-05-18 01:47:14] Decode batch. #running-req: 1, #token: 6240, token usage: 0.30, cuda graph: False, gen throughput (token/s): 63.97, #queue-req: 0\n"
     ]
    },
    {
     "name": "stdout",
     "output_type": "stream",
     "text": [
      "[2025-05-18 01:47:15] Decode batch. #running-req: 1, #token: 6280, token usage: 0.31, cuda graph: False, gen throughput (token/s): 59.72, #queue-req: 0\n"
     ]
    },
    {
     "name": "stdout",
     "output_type": "stream",
     "text": [
      "[2025-05-18 01:47:15] Decode batch. #running-req: 1, #token: 6320, token usage: 0.31, cuda graph: False, gen throughput (token/s): 64.06, #queue-req: 0\n"
     ]
    },
    {
     "name": "stdout",
     "output_type": "stream",
     "text": [
      "[2025-05-18 01:47:16] Decode batch. #running-req: 1, #token: 6360, token usage: 0.31, cuda graph: False, gen throughput (token/s): 63.94, #queue-req: 0\n"
     ]
    },
    {
     "name": "stdout",
     "output_type": "stream",
     "text": [
      "[2025-05-18 01:47:17] Decode batch. #running-req: 1, #token: 6400, token usage: 0.31, cuda graph: False, gen throughput (token/s): 63.74, #queue-req: 0\n"
     ]
    },
    {
     "name": "stdout",
     "output_type": "stream",
     "text": [
      "[2025-05-18 01:47:17] Decode batch. #running-req: 1, #token: 6440, token usage: 0.31, cuda graph: False, gen throughput (token/s): 64.72, #queue-req: 0\n"
     ]
    },
    {
     "name": "stdout",
     "output_type": "stream",
     "text": [
      "[2025-05-18 01:47:18] Decode batch. #running-req: 1, #token: 6480, token usage: 0.32, cuda graph: False, gen throughput (token/s): 63.22, #queue-req: 0\n"
     ]
    },
    {
     "name": "stdout",
     "output_type": "stream",
     "text": [
      "[2025-05-18 01:47:18] Decode batch. #running-req: 1, #token: 6520, token usage: 0.32, cuda graph: False, gen throughput (token/s): 62.80, #queue-req: 0\n"
     ]
    },
    {
     "name": "stdout",
     "output_type": "stream",
     "text": [
      "[2025-05-18 01:47:19] Decode batch. #running-req: 1, #token: 6560, token usage: 0.32, cuda graph: False, gen throughput (token/s): 63.40, #queue-req: 0\n"
     ]
    },
    {
     "name": "stdout",
     "output_type": "stream",
     "text": [
      "[2025-05-18 01:47:20] Decode batch. #running-req: 1, #token: 6600, token usage: 0.32, cuda graph: False, gen throughput (token/s): 62.91, #queue-req: 0\n"
     ]
    },
    {
     "name": "stdout",
     "output_type": "stream",
     "text": [
      "[2025-05-18 01:47:20] Decode batch. #running-req: 1, #token: 6640, token usage: 0.32, cuda graph: False, gen throughput (token/s): 62.80, #queue-req: 0\n"
     ]
    },
    {
     "name": "stdout",
     "output_type": "stream",
     "text": [
      "[2025-05-18 01:47:21] Decode batch. #running-req: 1, #token: 6680, token usage: 0.33, cuda graph: False, gen throughput (token/s): 62.95, #queue-req: 0\n"
     ]
    },
    {
     "name": "stdout",
     "output_type": "stream",
     "text": [
      "[2025-05-18 01:47:22] Decode batch. #running-req: 1, #token: 6720, token usage: 0.33, cuda graph: False, gen throughput (token/s): 63.43, #queue-req: 0\n"
     ]
    },
    {
     "name": "stdout",
     "output_type": "stream",
     "text": [
      "[2025-05-18 01:47:22] Decode batch. #running-req: 1, #token: 6760, token usage: 0.33, cuda graph: False, gen throughput (token/s): 62.82, #queue-req: 0\n"
     ]
    },
    {
     "name": "stdout",
     "output_type": "stream",
     "text": [
      "[2025-05-18 01:47:23] Decode batch. #running-req: 1, #token: 6800, token usage: 0.33, cuda graph: False, gen throughput (token/s): 63.05, #queue-req: 0\n"
     ]
    },
    {
     "name": "stdout",
     "output_type": "stream",
     "text": [
      "[2025-05-18 01:47:23] Decode batch. #running-req: 1, #token: 6840, token usage: 0.33, cuda graph: False, gen throughput (token/s): 63.80, #queue-req: 0\n"
     ]
    },
    {
     "name": "stdout",
     "output_type": "stream",
     "text": [
      "[2025-05-18 01:47:24] Decode batch. #running-req: 1, #token: 6880, token usage: 0.34, cuda graph: False, gen throughput (token/s): 63.89, #queue-req: 0\n"
     ]
    },
    {
     "name": "stdout",
     "output_type": "stream",
     "text": [
      "[2025-05-18 01:47:25] Decode batch. #running-req: 1, #token: 6920, token usage: 0.34, cuda graph: False, gen throughput (token/s): 63.58, #queue-req: 0\n"
     ]
    },
    {
     "name": "stdout",
     "output_type": "stream",
     "text": [
      "[2025-05-18 01:47:25] Decode batch. #running-req: 1, #token: 6960, token usage: 0.34, cuda graph: False, gen throughput (token/s): 63.72, #queue-req: 0\n"
     ]
    },
    {
     "name": "stdout",
     "output_type": "stream",
     "text": [
      "[2025-05-18 01:47:26] Decode batch. #running-req: 1, #token: 7000, token usage: 0.34, cuda graph: False, gen throughput (token/s): 63.70, #queue-req: 0\n"
     ]
    },
    {
     "name": "stdout",
     "output_type": "stream",
     "text": [
      "[2025-05-18 01:47:27] Decode batch. #running-req: 1, #token: 7040, token usage: 0.34, cuda graph: False, gen throughput (token/s): 63.81, #queue-req: 0\n"
     ]
    },
    {
     "name": "stdout",
     "output_type": "stream",
     "text": [
      "[2025-05-18 01:47:27] Decode batch. #running-req: 1, #token: 7080, token usage: 0.35, cuda graph: False, gen throughput (token/s): 63.86, #queue-req: 0\n"
     ]
    },
    {
     "name": "stdout",
     "output_type": "stream",
     "text": [
      "[2025-05-18 01:47:28] Decode batch. #running-req: 1, #token: 7120, token usage: 0.35, cuda graph: False, gen throughput (token/s): 63.19, #queue-req: 0\n"
     ]
    },
    {
     "name": "stdout",
     "output_type": "stream",
     "text": [
      "[2025-05-18 01:47:29] Decode batch. #running-req: 1, #token: 7160, token usage: 0.35, cuda graph: False, gen throughput (token/s): 63.57, #queue-req: 0\n"
     ]
    },
    {
     "name": "stdout",
     "output_type": "stream",
     "text": [
      "[2025-05-18 01:47:29] Decode batch. #running-req: 1, #token: 7200, token usage: 0.35, cuda graph: False, gen throughput (token/s): 63.65, #queue-req: 0\n"
     ]
    },
    {
     "name": "stdout",
     "output_type": "stream",
     "text": [
      "[2025-05-18 01:47:30] Decode batch. #running-req: 1, #token: 7240, token usage: 0.35, cuda graph: False, gen throughput (token/s): 63.73, #queue-req: 0\n"
     ]
    },
    {
     "name": "stdout",
     "output_type": "stream",
     "text": [
      "[2025-05-18 01:47:30] Decode batch. #running-req: 1, #token: 7280, token usage: 0.36, cuda graph: False, gen throughput (token/s): 62.00, #queue-req: 0\n"
     ]
    },
    {
     "name": "stdout",
     "output_type": "stream",
     "text": [
      "[2025-05-18 01:47:31] Decode batch. #running-req: 1, #token: 7320, token usage: 0.36, cuda graph: False, gen throughput (token/s): 60.52, #queue-req: 0\n"
     ]
    },
    {
     "name": "stdout",
     "output_type": "stream",
     "text": [
      "[2025-05-18 01:47:32] Decode batch. #running-req: 1, #token: 7360, token usage: 0.36, cuda graph: False, gen throughput (token/s): 63.16, #queue-req: 0\n"
     ]
    },
    {
     "name": "stdout",
     "output_type": "stream",
     "text": [
      "[2025-05-18 01:47:32] Decode batch. #running-req: 1, #token: 7400, token usage: 0.36, cuda graph: False, gen throughput (token/s): 62.32, #queue-req: 0\n"
     ]
    },
    {
     "name": "stdout",
     "output_type": "stream",
     "text": [
      "[2025-05-18 01:47:33] Decode batch. #running-req: 1, #token: 7440, token usage: 0.36, cuda graph: False, gen throughput (token/s): 62.71, #queue-req: 0\n"
     ]
    },
    {
     "name": "stdout",
     "output_type": "stream",
     "text": [
      "[2025-05-18 01:47:34] Decode batch. #running-req: 1, #token: 7480, token usage: 0.37, cuda graph: False, gen throughput (token/s): 62.55, #queue-req: 0\n"
     ]
    },
    {
     "name": "stdout",
     "output_type": "stream",
     "text": [
      "[2025-05-18 01:47:34] Decode batch. #running-req: 1, #token: 7520, token usage: 0.37, cuda graph: False, gen throughput (token/s): 59.00, #queue-req: 0\n"
     ]
    },
    {
     "name": "stdout",
     "output_type": "stream",
     "text": [
      "[2025-05-18 01:47:35] Decode batch. #running-req: 1, #token: 7560, token usage: 0.37, cuda graph: False, gen throughput (token/s): 62.84, #queue-req: 0\n"
     ]
    },
    {
     "name": "stdout",
     "output_type": "stream",
     "text": [
      "[2025-05-18 01:47:36] Decode batch. #running-req: 1, #token: 7600, token usage: 0.37, cuda graph: False, gen throughput (token/s): 63.04, #queue-req: 0\n"
     ]
    },
    {
     "name": "stdout",
     "output_type": "stream",
     "text": [
      "[2025-05-18 01:47:36] Decode batch. #running-req: 1, #token: 7640, token usage: 0.37, cuda graph: False, gen throughput (token/s): 63.39, #queue-req: 0\n"
     ]
    },
    {
     "name": "stdout",
     "output_type": "stream",
     "text": [
      "[2025-05-18 01:47:37] Decode batch. #running-req: 1, #token: 7680, token usage: 0.38, cuda graph: False, gen throughput (token/s): 63.74, #queue-req: 0\n"
     ]
    },
    {
     "name": "stdout",
     "output_type": "stream",
     "text": [
      "[2025-05-18 01:47:37] Decode batch. #running-req: 1, #token: 7720, token usage: 0.38, cuda graph: False, gen throughput (token/s): 62.85, #queue-req: 0\n"
     ]
    },
    {
     "name": "stdout",
     "output_type": "stream",
     "text": [
      "[2025-05-18 01:47:38] Decode batch. #running-req: 1, #token: 7760, token usage: 0.38, cuda graph: False, gen throughput (token/s): 62.40, #queue-req: 0\n"
     ]
    },
    {
     "name": "stdout",
     "output_type": "stream",
     "text": [
      "[2025-05-18 01:47:39] Decode batch. #running-req: 1, #token: 7800, token usage: 0.38, cuda graph: False, gen throughput (token/s): 62.50, #queue-req: 0\n"
     ]
    },
    {
     "name": "stdout",
     "output_type": "stream",
     "text": [
      "[2025-05-18 01:47:39] Decode batch. #running-req: 1, #token: 7840, token usage: 0.38, cuda graph: False, gen throughput (token/s): 62.20, #queue-req: 0\n"
     ]
    },
    {
     "name": "stdout",
     "output_type": "stream",
     "text": [
      "[2025-05-18 01:47:40] Decode batch. #running-req: 1, #token: 7880, token usage: 0.38, cuda graph: False, gen throughput (token/s): 62.42, #queue-req: 0\n"
     ]
    },
    {
     "name": "stdout",
     "output_type": "stream",
     "text": [
      "[2025-05-18 01:47:41] Decode batch. #running-req: 1, #token: 7920, token usage: 0.39, cuda graph: False, gen throughput (token/s): 62.24, #queue-req: 0\n"
     ]
    },
    {
     "name": "stdout",
     "output_type": "stream",
     "text": [
      "[2025-05-18 01:47:41] Decode batch. #running-req: 1, #token: 7960, token usage: 0.39, cuda graph: False, gen throughput (token/s): 62.50, #queue-req: 0\n"
     ]
    },
    {
     "name": "stdout",
     "output_type": "stream",
     "text": [
      "[2025-05-18 01:47:42] Decode batch. #running-req: 1, #token: 8000, token usage: 0.39, cuda graph: False, gen throughput (token/s): 62.54, #queue-req: 0\n"
     ]
    },
    {
     "name": "stdout",
     "output_type": "stream",
     "text": [
      "[2025-05-18 01:47:43] Decode batch. #running-req: 1, #token: 8040, token usage: 0.39, cuda graph: False, gen throughput (token/s): 63.83, #queue-req: 0\n"
     ]
    },
    {
     "name": "stdout",
     "output_type": "stream",
     "text": [
      "[2025-05-18 01:47:43] Decode batch. #running-req: 1, #token: 8080, token usage: 0.39, cuda graph: False, gen throughput (token/s): 64.91, #queue-req: 0\n"
     ]
    },
    {
     "name": "stdout",
     "output_type": "stream",
     "text": [
      "[2025-05-18 01:47:44] Decode batch. #running-req: 1, #token: 8120, token usage: 0.40, cuda graph: False, gen throughput (token/s): 65.57, #queue-req: 0\n"
     ]
    },
    {
     "name": "stdout",
     "output_type": "stream",
     "text": [
      "[2025-05-18 01:47:44] Decode batch. #running-req: 1, #token: 8160, token usage: 0.40, cuda graph: False, gen throughput (token/s): 65.35, #queue-req: 0\n"
     ]
    },
    {
     "name": "stdout",
     "output_type": "stream",
     "text": [
      "[2025-05-18 01:47:45] Decode batch. #running-req: 1, #token: 8200, token usage: 0.40, cuda graph: False, gen throughput (token/s): 65.39, #queue-req: 0\n"
     ]
    },
    {
     "name": "stdout",
     "output_type": "stream",
     "text": [
      "[2025-05-18 01:47:46] Decode batch. #running-req: 1, #token: 8240, token usage: 0.40, cuda graph: False, gen throughput (token/s): 65.48, #queue-req: 0\n"
     ]
    },
    {
     "name": "stdout",
     "output_type": "stream",
     "text": [
      "[2025-05-18 01:47:46] Decode batch. #running-req: 1, #token: 8280, token usage: 0.40, cuda graph: False, gen throughput (token/s): 65.40, #queue-req: 0\n"
     ]
    },
    {
     "name": "stdout",
     "output_type": "stream",
     "text": [
      "[2025-05-18 01:47:47] Decode batch. #running-req: 1, #token: 8320, token usage: 0.41, cuda graph: False, gen throughput (token/s): 63.82, #queue-req: 0\n"
     ]
    },
    {
     "name": "stdout",
     "output_type": "stream",
     "text": [
      "[2025-05-18 01:47:48] Decode batch. #running-req: 1, #token: 8360, token usage: 0.41, cuda graph: False, gen throughput (token/s): 62.77, #queue-req: 0\n"
     ]
    },
    {
     "name": "stdout",
     "output_type": "stream",
     "text": [
      "[2025-05-18 01:47:48] Decode batch. #running-req: 1, #token: 8400, token usage: 0.41, cuda graph: False, gen throughput (token/s): 63.36, #queue-req: 0\n"
     ]
    },
    {
     "name": "stdout",
     "output_type": "stream",
     "text": [
      "[2025-05-18 01:47:49] Decode batch. #running-req: 1, #token: 8440, token usage: 0.41, cuda graph: False, gen throughput (token/s): 63.44, #queue-req: 0\n"
     ]
    },
    {
     "name": "stdout",
     "output_type": "stream",
     "text": [
      "[2025-05-18 01:47:49] Decode batch. #running-req: 1, #token: 8480, token usage: 0.41, cuda graph: False, gen throughput (token/s): 63.58, #queue-req: 0\n"
     ]
    },
    {
     "name": "stdout",
     "output_type": "stream",
     "text": [
      "[2025-05-18 01:47:50] Decode batch. #running-req: 1, #token: 8520, token usage: 0.42, cuda graph: False, gen throughput (token/s): 63.54, #queue-req: 0\n"
     ]
    },
    {
     "name": "stdout",
     "output_type": "stream",
     "text": [
      "[2025-05-18 01:47:51] Decode batch. #running-req: 1, #token: 8560, token usage: 0.42, cuda graph: False, gen throughput (token/s): 63.64, #queue-req: 0\n"
     ]
    },
    {
     "name": "stdout",
     "output_type": "stream",
     "text": [
      "[2025-05-18 01:47:51] Decode batch. #running-req: 1, #token: 8600, token usage: 0.42, cuda graph: False, gen throughput (token/s): 63.26, #queue-req: 0\n"
     ]
    },
    {
     "name": "stdout",
     "output_type": "stream",
     "text": [
      "[2025-05-18 01:47:52] Decode batch. #running-req: 1, #token: 8640, token usage: 0.42, cuda graph: False, gen throughput (token/s): 62.44, #queue-req: 0\n"
     ]
    },
    {
     "name": "stdout",
     "output_type": "stream",
     "text": [
      "[2025-05-18 01:47:53] Decode batch. #running-req: 1, #token: 8680, token usage: 0.42, cuda graph: False, gen throughput (token/s): 62.75, #queue-req: 0\n"
     ]
    },
    {
     "name": "stdout",
     "output_type": "stream",
     "text": [
      "[2025-05-18 01:47:53] Decode batch. #running-req: 1, #token: 8720, token usage: 0.43, cuda graph: False, gen throughput (token/s): 62.68, #queue-req: 0\n"
     ]
    },
    {
     "name": "stdout",
     "output_type": "stream",
     "text": [
      "[2025-05-18 01:47:54] Decode batch. #running-req: 1, #token: 8760, token usage: 0.43, cuda graph: False, gen throughput (token/s): 63.07, #queue-req: 0\n"
     ]
    },
    {
     "name": "stdout",
     "output_type": "stream",
     "text": [
      "[2025-05-18 01:47:55] Decode batch. #running-req: 1, #token: 8800, token usage: 0.43, cuda graph: False, gen throughput (token/s): 57.72, #queue-req: 0\n"
     ]
    },
    {
     "name": "stdout",
     "output_type": "stream",
     "text": [
      "[2025-05-18 01:47:55] Decode batch. #running-req: 1, #token: 8840, token usage: 0.43, cuda graph: False, gen throughput (token/s): 61.75, #queue-req: 0\n"
     ]
    },
    {
     "name": "stdout",
     "output_type": "stream",
     "text": [
      "[2025-05-18 01:47:56] Decode batch. #running-req: 1, #token: 8880, token usage: 0.43, cuda graph: False, gen throughput (token/s): 61.92, #queue-req: 0\n"
     ]
    },
    {
     "name": "stdout",
     "output_type": "stream",
     "text": [
      "[2025-05-18 01:47:56] Decode batch. #running-req: 1, #token: 8920, token usage: 0.44, cuda graph: False, gen throughput (token/s): 62.01, #queue-req: 0\n"
     ]
    },
    {
     "name": "stdout",
     "output_type": "stream",
     "text": [
      "[2025-05-18 01:47:57] Decode batch. #running-req: 1, #token: 8960, token usage: 0.44, cuda graph: False, gen throughput (token/s): 61.94, #queue-req: 0\n"
     ]
    },
    {
     "name": "stdout",
     "output_type": "stream",
     "text": [
      "[2025-05-18 01:47:58] Decode batch. #running-req: 1, #token: 9000, token usage: 0.44, cuda graph: False, gen throughput (token/s): 62.97, #queue-req: 0\n"
     ]
    },
    {
     "name": "stdout",
     "output_type": "stream",
     "text": [
      "[2025-05-18 01:47:58] Decode batch. #running-req: 1, #token: 9040, token usage: 0.44, cuda graph: False, gen throughput (token/s): 62.97, #queue-req: 0\n"
     ]
    },
    {
     "name": "stdout",
     "output_type": "stream",
     "text": [
      "[2025-05-18 01:47:59] Decode batch. #running-req: 1, #token: 9080, token usage: 0.44, cuda graph: False, gen throughput (token/s): 63.18, #queue-req: 0\n"
     ]
    },
    {
     "name": "stdout",
     "output_type": "stream",
     "text": [
      "[2025-05-18 01:48:00] Decode batch. #running-req: 1, #token: 9120, token usage: 0.45, cuda graph: False, gen throughput (token/s): 63.71, #queue-req: 0\n"
     ]
    },
    {
     "name": "stdout",
     "output_type": "stream",
     "text": [
      "[2025-05-18 01:48:00] Decode batch. #running-req: 1, #token: 9160, token usage: 0.45, cuda graph: False, gen throughput (token/s): 63.84, #queue-req: 0\n"
     ]
    },
    {
     "name": "stdout",
     "output_type": "stream",
     "text": [
      "[2025-05-18 01:48:01] Decode batch. #running-req: 1, #token: 9200, token usage: 0.45, cuda graph: False, gen throughput (token/s): 63.25, #queue-req: 0\n"
     ]
    },
    {
     "name": "stdout",
     "output_type": "stream",
     "text": [
      "[2025-05-18 01:48:02] Decode batch. #running-req: 1, #token: 9240, token usage: 0.45, cuda graph: False, gen throughput (token/s): 64.32, #queue-req: 0\n"
     ]
    },
    {
     "name": "stdout",
     "output_type": "stream",
     "text": [
      "[2025-05-18 01:48:02] Decode batch. #running-req: 1, #token: 9280, token usage: 0.45, cuda graph: False, gen throughput (token/s): 63.45, #queue-req: 0\n"
     ]
    },
    {
     "name": "stdout",
     "output_type": "stream",
     "text": [
      "[2025-05-18 01:48:03] Decode batch. #running-req: 1, #token: 9320, token usage: 0.46, cuda graph: False, gen throughput (token/s): 63.43, #queue-req: 0\n"
     ]
    },
    {
     "name": "stdout",
     "output_type": "stream",
     "text": [
      "[2025-05-18 01:48:03] Decode batch. #running-req: 1, #token: 9360, token usage: 0.46, cuda graph: False, gen throughput (token/s): 63.58, #queue-req: 0\n"
     ]
    },
    {
     "name": "stdout",
     "output_type": "stream",
     "text": [
      "[2025-05-18 01:48:04] Decode batch. #running-req: 1, #token: 9400, token usage: 0.46, cuda graph: False, gen throughput (token/s): 63.44, #queue-req: 0\n"
     ]
    },
    {
     "name": "stdout",
     "output_type": "stream",
     "text": [
      "[2025-05-18 01:48:05] Decode batch. #running-req: 1, #token: 9440, token usage: 0.46, cuda graph: False, gen throughput (token/s): 64.37, #queue-req: 0\n"
     ]
    },
    {
     "name": "stdout",
     "output_type": "stream",
     "text": [
      "[2025-05-18 01:48:05] Decode batch. #running-req: 1, #token: 9480, token usage: 0.46, cuda graph: False, gen throughput (token/s): 63.73, #queue-req: 0\n"
     ]
    },
    {
     "name": "stdout",
     "output_type": "stream",
     "text": [
      "[2025-05-18 01:48:06] Decode batch. #running-req: 1, #token: 9520, token usage: 0.46, cuda graph: False, gen throughput (token/s): 63.44, #queue-req: 0\n"
     ]
    },
    {
     "name": "stdout",
     "output_type": "stream",
     "text": [
      "[2025-05-18 01:48:07] Decode batch. #running-req: 1, #token: 9560, token usage: 0.47, cuda graph: False, gen throughput (token/s): 63.48, #queue-req: 0\n"
     ]
    },
    {
     "name": "stdout",
     "output_type": "stream",
     "text": [
      "[2025-05-18 01:48:07] Decode batch. #running-req: 1, #token: 9600, token usage: 0.47, cuda graph: False, gen throughput (token/s): 63.72, #queue-req: 0\n"
     ]
    },
    {
     "name": "stdout",
     "output_type": "stream",
     "text": [
      "[2025-05-18 01:48:08] Decode batch. #running-req: 1, #token: 9640, token usage: 0.47, cuda graph: False, gen throughput (token/s): 63.89, #queue-req: 0\n"
     ]
    },
    {
     "name": "stdout",
     "output_type": "stream",
     "text": [
      "[2025-05-18 01:48:08] Decode batch. #running-req: 1, #token: 9680, token usage: 0.47, cuda graph: False, gen throughput (token/s): 63.33, #queue-req: 0\n"
     ]
    },
    {
     "name": "stdout",
     "output_type": "stream",
     "text": [
      "[2025-05-18 01:48:09] Decode batch. #running-req: 1, #token: 9720, token usage: 0.47, cuda graph: False, gen throughput (token/s): 63.63, #queue-req: 0\n"
     ]
    },
    {
     "name": "stdout",
     "output_type": "stream",
     "text": [
      "[2025-05-18 01:48:10] Decode batch. #running-req: 1, #token: 9760, token usage: 0.48, cuda graph: False, gen throughput (token/s): 63.56, #queue-req: 0\n"
     ]
    },
    {
     "name": "stdout",
     "output_type": "stream",
     "text": [
      "[2025-05-18 01:48:10] Decode batch. #running-req: 1, #token: 9800, token usage: 0.48, cuda graph: False, gen throughput (token/s): 63.42, #queue-req: 0\n"
     ]
    },
    {
     "name": "stdout",
     "output_type": "stream",
     "text": [
      "[2025-05-18 01:48:11] Decode batch. #running-req: 1, #token: 9840, token usage: 0.48, cuda graph: False, gen throughput (token/s): 63.52, #queue-req: 0\n"
     ]
    },
    {
     "name": "stdout",
     "output_type": "stream",
     "text": [
      "[2025-05-18 01:48:12] Decode batch. #running-req: 1, #token: 9880, token usage: 0.48, cuda graph: False, gen throughput (token/s): 63.73, #queue-req: 0\n"
     ]
    },
    {
     "name": "stdout",
     "output_type": "stream",
     "text": [
      "[2025-05-18 01:48:12] Decode batch. #running-req: 1, #token: 9920, token usage: 0.48, cuda graph: False, gen throughput (token/s): 62.99, #queue-req: 0\n"
     ]
    },
    {
     "name": "stdout",
     "output_type": "stream",
     "text": [
      "[2025-05-18 01:48:13] Decode batch. #running-req: 1, #token: 9960, token usage: 0.49, cuda graph: False, gen throughput (token/s): 63.99, #queue-req: 0\n"
     ]
    },
    {
     "name": "stdout",
     "output_type": "stream",
     "text": [
      "[2025-05-18 01:48:14] Decode batch. #running-req: 1, #token: 10000, token usage: 0.49, cuda graph: False, gen throughput (token/s): 63.71, #queue-req: 0\n"
     ]
    },
    {
     "name": "stdout",
     "output_type": "stream",
     "text": [
      "[2025-05-18 01:48:14] Decode batch. #running-req: 1, #token: 10040, token usage: 0.49, cuda graph: False, gen throughput (token/s): 63.97, #queue-req: 0\n"
     ]
    },
    {
     "name": "stdout",
     "output_type": "stream",
     "text": [
      "[2025-05-18 01:48:15] Decode batch. #running-req: 1, #token: 10080, token usage: 0.49, cuda graph: False, gen throughput (token/s): 63.97, #queue-req: 0\n"
     ]
    },
    {
     "name": "stdout",
     "output_type": "stream",
     "text": [
      "[2025-05-18 01:48:15] Decode batch. #running-req: 1, #token: 10120, token usage: 0.49, cuda graph: False, gen throughput (token/s): 63.99, #queue-req: 0\n"
     ]
    },
    {
     "name": "stdout",
     "output_type": "stream",
     "text": [
      "[2025-05-18 01:48:16] Decode batch. #running-req: 1, #token: 10160, token usage: 0.50, cuda graph: False, gen throughput (token/s): 64.08, #queue-req: 0\n"
     ]
    },
    {
     "name": "stdout",
     "output_type": "stream",
     "text": [
      "[2025-05-18 01:48:17] Decode batch. #running-req: 1, #token: 10200, token usage: 0.50, cuda graph: False, gen throughput (token/s): 63.89, #queue-req: 0\n"
     ]
    },
    {
     "name": "stdout",
     "output_type": "stream",
     "text": [
      "[2025-05-18 01:48:17] Decode batch. #running-req: 1, #token: 10240, token usage: 0.50, cuda graph: False, gen throughput (token/s): 63.86, #queue-req: 0\n"
     ]
    },
    {
     "name": "stdout",
     "output_type": "stream",
     "text": [
      "[2025-05-18 01:48:18] Decode batch. #running-req: 1, #token: 10280, token usage: 0.50, cuda graph: False, gen throughput (token/s): 63.58, #queue-req: 0\n"
     ]
    },
    {
     "name": "stdout",
     "output_type": "stream",
     "text": [
      "[2025-05-18 01:48:19] Decode batch. #running-req: 1, #token: 10320, token usage: 0.50, cuda graph: False, gen throughput (token/s): 63.93, #queue-req: 0\n"
     ]
    },
    {
     "name": "stdout",
     "output_type": "stream",
     "text": [
      "[2025-05-18 01:48:19] Decode batch. #running-req: 1, #token: 10360, token usage: 0.51, cuda graph: False, gen throughput (token/s): 64.04, #queue-req: 0\n"
     ]
    },
    {
     "name": "stdout",
     "output_type": "stream",
     "text": [
      "[2025-05-18 01:48:20] Decode batch. #running-req: 1, #token: 10400, token usage: 0.51, cuda graph: False, gen throughput (token/s): 63.99, #queue-req: 0\n"
     ]
    },
    {
     "name": "stdout",
     "output_type": "stream",
     "text": [
      "[2025-05-18 01:48:20] Decode batch. #running-req: 1, #token: 10440, token usage: 0.51, cuda graph: False, gen throughput (token/s): 64.07, #queue-req: 0\n"
     ]
    },
    {
     "name": "stdout",
     "output_type": "stream",
     "text": [
      "[2025-05-18 01:48:21] Decode batch. #running-req: 1, #token: 10480, token usage: 0.51, cuda graph: False, gen throughput (token/s): 63.96, #queue-req: 0\n"
     ]
    },
    {
     "name": "stdout",
     "output_type": "stream",
     "text": [
      "[2025-05-18 01:48:22] Decode batch. #running-req: 1, #token: 10520, token usage: 0.51, cuda graph: False, gen throughput (token/s): 64.01, #queue-req: 0\n"
     ]
    },
    {
     "name": "stdout",
     "output_type": "stream",
     "text": [
      "[2025-05-18 01:48:22] Decode batch. #running-req: 1, #token: 10560, token usage: 0.52, cuda graph: False, gen throughput (token/s): 63.97, #queue-req: 0\n"
     ]
    },
    {
     "name": "stdout",
     "output_type": "stream",
     "text": [
      "[2025-05-18 01:48:23] Decode batch. #running-req: 1, #token: 10600, token usage: 0.52, cuda graph: False, gen throughput (token/s): 64.02, #queue-req: 0\n"
     ]
    },
    {
     "name": "stdout",
     "output_type": "stream",
     "text": [
      "[2025-05-18 01:48:24] Decode batch. #running-req: 1, #token: 10640, token usage: 0.52, cuda graph: False, gen throughput (token/s): 63.99, #queue-req: 0\n"
     ]
    },
    {
     "name": "stdout",
     "output_type": "stream",
     "text": [
      "[2025-05-18 01:48:24] Decode batch. #running-req: 1, #token: 10680, token usage: 0.52, cuda graph: False, gen throughput (token/s): 64.91, #queue-req: 0\n"
     ]
    },
    {
     "name": "stdout",
     "output_type": "stream",
     "text": [
      "[2025-05-18 01:48:25] Decode batch. #running-req: 1, #token: 10720, token usage: 0.52, cuda graph: False, gen throughput (token/s): 64.79, #queue-req: 0\n"
     ]
    },
    {
     "name": "stdout",
     "output_type": "stream",
     "text": [
      "[2025-05-18 01:48:25] Decode batch. #running-req: 1, #token: 10760, token usage: 0.53, cuda graph: False, gen throughput (token/s): 64.09, #queue-req: 0\n"
     ]
    },
    {
     "name": "stdout",
     "output_type": "stream",
     "text": [
      "[2025-05-18 01:48:26] Decode batch. #running-req: 1, #token: 10800, token usage: 0.53, cuda graph: False, gen throughput (token/s): 64.68, #queue-req: 0\n"
     ]
    },
    {
     "name": "stdout",
     "output_type": "stream",
     "text": [
      "[2025-05-18 01:48:27] Decode batch. #running-req: 1, #token: 10840, token usage: 0.53, cuda graph: False, gen throughput (token/s): 65.39, #queue-req: 0\n"
     ]
    },
    {
     "name": "stdout",
     "output_type": "stream",
     "text": [
      "[2025-05-18 01:48:27] Decode batch. #running-req: 1, #token: 10880, token usage: 0.53, cuda graph: False, gen throughput (token/s): 64.13, #queue-req: 0\n"
     ]
    },
    {
     "name": "stdout",
     "output_type": "stream",
     "text": [
      "[2025-05-18 01:48:28] Decode batch. #running-req: 1, #token: 10920, token usage: 0.53, cuda graph: False, gen throughput (token/s): 63.87, #queue-req: 0\n"
     ]
    },
    {
     "name": "stdout",
     "output_type": "stream",
     "text": [
      "[2025-05-18 01:48:28] Decode batch. #running-req: 1, #token: 10960, token usage: 0.54, cuda graph: False, gen throughput (token/s): 64.00, #queue-req: 0\n"
     ]
    },
    {
     "name": "stdout",
     "output_type": "stream",
     "text": [
      "[2025-05-18 01:48:29] Decode batch. #running-req: 1, #token: 11000, token usage: 0.54, cuda graph: False, gen throughput (token/s): 64.06, #queue-req: 0\n"
     ]
    },
    {
     "name": "stdout",
     "output_type": "stream",
     "text": [
      "[2025-05-18 01:48:30] Decode batch. #running-req: 1, #token: 11040, token usage: 0.54, cuda graph: False, gen throughput (token/s): 63.95, #queue-req: 0\n"
     ]
    },
    {
     "name": "stdout",
     "output_type": "stream",
     "text": [
      "[2025-05-18 01:48:30] Decode batch. #running-req: 1, #token: 11080, token usage: 0.54, cuda graph: False, gen throughput (token/s): 64.07, #queue-req: 0\n"
     ]
    },
    {
     "name": "stdout",
     "output_type": "stream",
     "text": [
      "[2025-05-18 01:48:31] Decode batch. #running-req: 1, #token: 11120, token usage: 0.54, cuda graph: False, gen throughput (token/s): 64.08, #queue-req: 0\n"
     ]
    },
    {
     "name": "stdout",
     "output_type": "stream",
     "text": [
      "[2025-05-18 01:48:32] Decode batch. #running-req: 1, #token: 11160, token usage: 0.54, cuda graph: False, gen throughput (token/s): 63.92, #queue-req: 0\n"
     ]
    },
    {
     "name": "stdout",
     "output_type": "stream",
     "text": [
      "[2025-05-18 01:48:32] Decode batch. #running-req: 1, #token: 11200, token usage: 0.55, cuda graph: False, gen throughput (token/s): 63.93, #queue-req: 0\n"
     ]
    },
    {
     "name": "stdout",
     "output_type": "stream",
     "text": [
      "[2025-05-18 01:48:33] Decode batch. #running-req: 1, #token: 11240, token usage: 0.55, cuda graph: False, gen throughput (token/s): 63.80, #queue-req: 0\n"
     ]
    },
    {
     "name": "stdout",
     "output_type": "stream",
     "text": [
      "[2025-05-18 01:48:33] Decode batch. #running-req: 1, #token: 11280, token usage: 0.55, cuda graph: False, gen throughput (token/s): 63.72, #queue-req: 0\n"
     ]
    },
    {
     "name": "stdout",
     "output_type": "stream",
     "text": [
      "[2025-05-18 01:48:34] Decode batch. #running-req: 1, #token: 11320, token usage: 0.55, cuda graph: False, gen throughput (token/s): 63.70, #queue-req: 0\n"
     ]
    },
    {
     "name": "stdout",
     "output_type": "stream",
     "text": [
      "[2025-05-18 01:48:35] Decode batch. #running-req: 1, #token: 11360, token usage: 0.55, cuda graph: False, gen throughput (token/s): 63.54, #queue-req: 0\n"
     ]
    },
    {
     "name": "stdout",
     "output_type": "stream",
     "text": [
      "[2025-05-18 01:48:35] Decode batch. #running-req: 1, #token: 11400, token usage: 0.56, cuda graph: False, gen throughput (token/s): 62.82, #queue-req: 0\n"
     ]
    },
    {
     "name": "stdout",
     "output_type": "stream",
     "text": [
      "[2025-05-18 01:48:36] Decode batch. #running-req: 1, #token: 11440, token usage: 0.56, cuda graph: False, gen throughput (token/s): 63.95, #queue-req: 0\n"
     ]
    },
    {
     "name": "stdout",
     "output_type": "stream",
     "text": [
      "[2025-05-18 01:48:37] Decode batch. #running-req: 1, #token: 11480, token usage: 0.56, cuda graph: False, gen throughput (token/s): 63.90, #queue-req: 0\n"
     ]
    },
    {
     "name": "stdout",
     "output_type": "stream",
     "text": [
      "[2025-05-18 01:48:37] Decode batch. #running-req: 1, #token: 11520, token usage: 0.56, cuda graph: False, gen throughput (token/s): 63.82, #queue-req: 0\n"
     ]
    },
    {
     "name": "stdout",
     "output_type": "stream",
     "text": [
      "[2025-05-18 01:48:38] Decode batch. #running-req: 1, #token: 11560, token usage: 0.56, cuda graph: False, gen throughput (token/s): 63.11, #queue-req: 0\n"
     ]
    },
    {
     "name": "stdout",
     "output_type": "stream",
     "text": [
      "[2025-05-18 01:48:39] Decode batch. #running-req: 1, #token: 11600, token usage: 0.57, cuda graph: False, gen throughput (token/s): 63.95, #queue-req: 0\n"
     ]
    },
    {
     "name": "stdout",
     "output_type": "stream",
     "text": [
      "[2025-05-18 01:48:39] Decode batch. #running-req: 1, #token: 11640, token usage: 0.57, cuda graph: False, gen throughput (token/s): 63.93, #queue-req: 0\n"
     ]
    },
    {
     "name": "stdout",
     "output_type": "stream",
     "text": [
      "[2025-05-18 01:48:40] Decode batch. #running-req: 1, #token: 11680, token usage: 0.57, cuda graph: False, gen throughput (token/s): 59.68, #queue-req: 0\n"
     ]
    },
    {
     "name": "stdout",
     "output_type": "stream",
     "text": [
      "[2025-05-18 01:48:40] Decode batch. #running-req: 1, #token: 11720, token usage: 0.57, cuda graph: False, gen throughput (token/s): 63.85, #queue-req: 0\n"
     ]
    },
    {
     "name": "stdout",
     "output_type": "stream",
     "text": [
      "[2025-05-18 01:48:41] Decode batch. #running-req: 1, #token: 11760, token usage: 0.57, cuda graph: False, gen throughput (token/s): 63.07, #queue-req: 0\n"
     ]
    },
    {
     "name": "stdout",
     "output_type": "stream",
     "text": [
      "[2025-05-18 01:48:42] Decode batch. #running-req: 1, #token: 11800, token usage: 0.58, cuda graph: False, gen throughput (token/s): 64.33, #queue-req: 0\n"
     ]
    },
    {
     "name": "stdout",
     "output_type": "stream",
     "text": [
      "[2025-05-18 01:48:42] Decode batch. #running-req: 1, #token: 11840, token usage: 0.58, cuda graph: False, gen throughput (token/s): 63.18, #queue-req: 0\n"
     ]
    },
    {
     "name": "stdout",
     "output_type": "stream",
     "text": [
      "[2025-05-18 01:48:43] Decode batch. #running-req: 1, #token: 11880, token usage: 0.58, cuda graph: False, gen throughput (token/s): 63.44, #queue-req: 0\n"
     ]
    },
    {
     "name": "stdout",
     "output_type": "stream",
     "text": [
      "[2025-05-18 01:48:44] Decode batch. #running-req: 1, #token: 11920, token usage: 0.58, cuda graph: False, gen throughput (token/s): 62.05, #queue-req: 0\n"
     ]
    },
    {
     "name": "stdout",
     "output_type": "stream",
     "text": [
      "[2025-05-18 01:48:44] Decode batch. #running-req: 1, #token: 11960, token usage: 0.58, cuda graph: False, gen throughput (token/s): 62.28, #queue-req: 0\n"
     ]
    },
    {
     "name": "stdout",
     "output_type": "stream",
     "text": [
      "[2025-05-18 01:48:45] Decode batch. #running-req: 1, #token: 12000, token usage: 0.59, cuda graph: False, gen throughput (token/s): 62.96, #queue-req: 0\n"
     ]
    },
    {
     "name": "stdout",
     "output_type": "stream",
     "text": [
      "[2025-05-18 01:48:46] Decode batch. #running-req: 1, #token: 12040, token usage: 0.59, cuda graph: False, gen throughput (token/s): 62.31, #queue-req: 0\n"
     ]
    },
    {
     "name": "stdout",
     "output_type": "stream",
     "text": [
      "[2025-05-18 01:48:46] Decode batch. #running-req: 1, #token: 12080, token usage: 0.59, cuda graph: False, gen throughput (token/s): 63.15, #queue-req: 0\n"
     ]
    },
    {
     "name": "stdout",
     "output_type": "stream",
     "text": [
      "[2025-05-18 01:48:47] Decode batch. #running-req: 1, #token: 12120, token usage: 0.59, cuda graph: False, gen throughput (token/s): 63.12, #queue-req: 0\n"
     ]
    },
    {
     "name": "stdout",
     "output_type": "stream",
     "text": [
      "[2025-05-18 01:48:47] Decode batch. #running-req: 1, #token: 12160, token usage: 0.59, cuda graph: False, gen throughput (token/s): 62.96, #queue-req: 0\n"
     ]
    },
    {
     "name": "stdout",
     "output_type": "stream",
     "text": [
      "[2025-05-18 01:48:48] Decode batch. #running-req: 1, #token: 12200, token usage: 0.60, cuda graph: False, gen throughput (token/s): 62.79, #queue-req: 0\n"
     ]
    },
    {
     "name": "stdout",
     "output_type": "stream",
     "text": [
      "[2025-05-18 01:48:49] Decode batch. #running-req: 1, #token: 12240, token usage: 0.60, cuda graph: False, gen throughput (token/s): 63.07, #queue-req: 0\n"
     ]
    },
    {
     "name": "stdout",
     "output_type": "stream",
     "text": [
      "[2025-05-18 01:48:49] Decode batch. #running-req: 1, #token: 12280, token usage: 0.60, cuda graph: False, gen throughput (token/s): 60.97, #queue-req: 0\n"
     ]
    },
    {
     "name": "stdout",
     "output_type": "stream",
     "text": [
      "[2025-05-18 01:48:50] Decode batch. #running-req: 1, #token: 12320, token usage: 0.60, cuda graph: False, gen throughput (token/s): 63.16, #queue-req: 0\n"
     ]
    },
    {
     "name": "stdout",
     "output_type": "stream",
     "text": [
      "[2025-05-18 01:48:51] Decode batch. #running-req: 1, #token: 12360, token usage: 0.60, cuda graph: False, gen throughput (token/s): 63.28, #queue-req: 0\n"
     ]
    },
    {
     "name": "stdout",
     "output_type": "stream",
     "text": [
      "[2025-05-18 01:48:51] Decode batch. #running-req: 1, #token: 12400, token usage: 0.61, cuda graph: False, gen throughput (token/s): 63.26, #queue-req: 0\n"
     ]
    },
    {
     "name": "stdout",
     "output_type": "stream",
     "text": [
      "[2025-05-18 01:48:52] Decode batch. #running-req: 1, #token: 12440, token usage: 0.61, cuda graph: False, gen throughput (token/s): 63.30, #queue-req: 0\n"
     ]
    },
    {
     "name": "stdout",
     "output_type": "stream",
     "text": [
      "[2025-05-18 01:48:53] Decode batch. #running-req: 1, #token: 12480, token usage: 0.61, cuda graph: False, gen throughput (token/s): 59.74, #queue-req: 0\n"
     ]
    },
    {
     "name": "stdout",
     "output_type": "stream",
     "text": [
      "[2025-05-18 01:48:53] Decode batch. #running-req: 1, #token: 12520, token usage: 0.61, cuda graph: False, gen throughput (token/s): 61.88, #queue-req: 0\n"
     ]
    },
    {
     "name": "stdout",
     "output_type": "stream",
     "text": [
      "[2025-05-18 01:48:54] Decode batch. #running-req: 1, #token: 12560, token usage: 0.61, cuda graph: False, gen throughput (token/s): 62.89, #queue-req: 0\n"
     ]
    },
    {
     "name": "stdout",
     "output_type": "stream",
     "text": [
      "[2025-05-18 01:48:54] Decode batch. #running-req: 1, #token: 12600, token usage: 0.62, cuda graph: False, gen throughput (token/s): 62.72, #queue-req: 0\n"
     ]
    },
    {
     "name": "stdout",
     "output_type": "stream",
     "text": [
      "[2025-05-18 01:48:55] Decode batch. #running-req: 1, #token: 12640, token usage: 0.62, cuda graph: False, gen throughput (token/s): 61.71, #queue-req: 0\n"
     ]
    },
    {
     "name": "stdout",
     "output_type": "stream",
     "text": [
      "[2025-05-18 01:48:56] Decode batch. #running-req: 1, #token: 12680, token usage: 0.62, cuda graph: False, gen throughput (token/s): 57.99, #queue-req: 0\n"
     ]
    },
    {
     "name": "stdout",
     "output_type": "stream",
     "text": [
      "[2025-05-18 01:48:56] Decode batch. #running-req: 1, #token: 12720, token usage: 0.62, cuda graph: False, gen throughput (token/s): 61.28, #queue-req: 0\n"
     ]
    },
    {
     "name": "stdout",
     "output_type": "stream",
     "text": [
      "[2025-05-18 01:48:57] Decode batch. #running-req: 1, #token: 12760, token usage: 0.62, cuda graph: False, gen throughput (token/s): 59.97, #queue-req: 0\n"
     ]
    },
    {
     "name": "stdout",
     "output_type": "stream",
     "text": [
      "[2025-05-18 01:48:58] Decode batch. #running-req: 1, #token: 12800, token usage: 0.62, cuda graph: False, gen throughput (token/s): 60.83, #queue-req: 0\n"
     ]
    },
    {
     "name": "stdout",
     "output_type": "stream",
     "text": [
      "[2025-05-18 01:48:58] Decode batch. #running-req: 1, #token: 12840, token usage: 0.63, cuda graph: False, gen throughput (token/s): 63.17, #queue-req: 0\n"
     ]
    },
    {
     "name": "stdout",
     "output_type": "stream",
     "text": [
      "[2025-05-18 01:48:59] Decode batch. #running-req: 1, #token: 12880, token usage: 0.63, cuda graph: False, gen throughput (token/s): 63.35, #queue-req: 0\n"
     ]
    },
    {
     "name": "stdout",
     "output_type": "stream",
     "text": [
      "[2025-05-18 01:49:00] Decode batch. #running-req: 1, #token: 12920, token usage: 0.63, cuda graph: False, gen throughput (token/s): 63.72, #queue-req: 0\n"
     ]
    },
    {
     "name": "stdout",
     "output_type": "stream",
     "text": [
      "[2025-05-18 01:49:00] Decode batch. #running-req: 1, #token: 12960, token usage: 0.63, cuda graph: False, gen throughput (token/s): 63.63, #queue-req: 0\n"
     ]
    },
    {
     "name": "stdout",
     "output_type": "stream",
     "text": [
      "[2025-05-18 01:49:01] Decode batch. #running-req: 1, #token: 13000, token usage: 0.63, cuda graph: False, gen throughput (token/s): 64.58, #queue-req: 0\n"
     ]
    },
    {
     "name": "stdout",
     "output_type": "stream",
     "text": [
      "[2025-05-18 01:49:02] Decode batch. #running-req: 1, #token: 13040, token usage: 0.64, cuda graph: False, gen throughput (token/s): 64.62, #queue-req: 0\n"
     ]
    },
    {
     "name": "stdout",
     "output_type": "stream",
     "text": [
      "[2025-05-18 01:49:02] Decode batch. #running-req: 1, #token: 13080, token usage: 0.64, cuda graph: False, gen throughput (token/s): 63.82, #queue-req: 0\n"
     ]
    },
    {
     "name": "stdout",
     "output_type": "stream",
     "text": [
      "[2025-05-18 01:49:03] Decode batch. #running-req: 1, #token: 13120, token usage: 0.64, cuda graph: False, gen throughput (token/s): 62.77, #queue-req: 0\n"
     ]
    },
    {
     "name": "stdout",
     "output_type": "stream",
     "text": [
      "[2025-05-18 01:49:03] Decode batch. #running-req: 1, #token: 13160, token usage: 0.64, cuda graph: False, gen throughput (token/s): 63.00, #queue-req: 0\n"
     ]
    },
    {
     "name": "stdout",
     "output_type": "stream",
     "text": [
      "[2025-05-18 01:49:04] Decode batch. #running-req: 1, #token: 13200, token usage: 0.64, cuda graph: False, gen throughput (token/s): 56.23, #queue-req: 0\n"
     ]
    },
    {
     "name": "stdout",
     "output_type": "stream",
     "text": [
      "[2025-05-18 01:49:05] Decode batch. #running-req: 1, #token: 13240, token usage: 0.65, cuda graph: False, gen throughput (token/s): 63.10, #queue-req: 0\n"
     ]
    },
    {
     "name": "stdout",
     "output_type": "stream",
     "text": [
      "[2025-05-18 01:49:05] Decode batch. #running-req: 1, #token: 13280, token usage: 0.65, cuda graph: False, gen throughput (token/s): 64.00, #queue-req: 0\n"
     ]
    },
    {
     "name": "stdout",
     "output_type": "stream",
     "text": [
      "[2025-05-18 01:49:06] Decode batch. #running-req: 1, #token: 13320, token usage: 0.65, cuda graph: False, gen throughput (token/s): 63.68, #queue-req: 0\n"
     ]
    },
    {
     "name": "stdout",
     "output_type": "stream",
     "text": [
      "[2025-05-18 01:49:07] Decode batch. #running-req: 1, #token: 13360, token usage: 0.65, cuda graph: False, gen throughput (token/s): 63.66, #queue-req: 0\n"
     ]
    },
    {
     "name": "stdout",
     "output_type": "stream",
     "text": [
      "[2025-05-18 01:49:07] Decode batch. #running-req: 1, #token: 13400, token usage: 0.65, cuda graph: False, gen throughput (token/s): 61.16, #queue-req: 0\n"
     ]
    },
    {
     "name": "stdout",
     "output_type": "stream",
     "text": [
      "[2025-05-18 01:49:08] Decode batch. #running-req: 1, #token: 13440, token usage: 0.66, cuda graph: False, gen throughput (token/s): 62.69, #queue-req: 0\n"
     ]
    },
    {
     "name": "stdout",
     "output_type": "stream",
     "text": [
      "[2025-05-18 01:49:09] Decode batch. #running-req: 1, #token: 13480, token usage: 0.66, cuda graph: False, gen throughput (token/s): 62.89, #queue-req: 0\n"
     ]
    },
    {
     "name": "stdout",
     "output_type": "stream",
     "text": [
      "[2025-05-18 01:49:09] Decode batch. #running-req: 1, #token: 13520, token usage: 0.66, cuda graph: False, gen throughput (token/s): 62.90, #queue-req: 0\n"
     ]
    },
    {
     "name": "stdout",
     "output_type": "stream",
     "text": [
      "[2025-05-18 01:49:10] Decode batch. #running-req: 1, #token: 13560, token usage: 0.66, cuda graph: False, gen throughput (token/s): 63.00, #queue-req: 0\n"
     ]
    },
    {
     "name": "stdout",
     "output_type": "stream",
     "text": [
      "[2025-05-18 01:49:11] Decode batch. #running-req: 1, #token: 13600, token usage: 0.66, cuda graph: False, gen throughput (token/s): 62.88, #queue-req: 0\n"
     ]
    },
    {
     "name": "stdout",
     "output_type": "stream",
     "text": [
      "[2025-05-18 01:49:11] Decode batch. #running-req: 1, #token: 13640, token usage: 0.67, cuda graph: False, gen throughput (token/s): 62.89, #queue-req: 0\n"
     ]
    },
    {
     "name": "stdout",
     "output_type": "stream",
     "text": [
      "[2025-05-18 01:49:12] Decode batch. #running-req: 1, #token: 13680, token usage: 0.67, cuda graph: False, gen throughput (token/s): 62.43, #queue-req: 0\n"
     ]
    },
    {
     "name": "stdout",
     "output_type": "stream",
     "text": [
      "[2025-05-18 01:49:12] Decode batch. #running-req: 1, #token: 13720, token usage: 0.67, cuda graph: False, gen throughput (token/s): 62.98, #queue-req: 0\n"
     ]
    },
    {
     "name": "stdout",
     "output_type": "stream",
     "text": [
      "[2025-05-18 01:49:13] Decode batch. #running-req: 1, #token: 13760, token usage: 0.67, cuda graph: False, gen throughput (token/s): 63.71, #queue-req: 0\n"
     ]
    },
    {
     "name": "stdout",
     "output_type": "stream",
     "text": [
      "[2025-05-18 01:49:14] Decode batch. #running-req: 1, #token: 13800, token usage: 0.67, cuda graph: False, gen throughput (token/s): 63.71, #queue-req: 0\n"
     ]
    },
    {
     "name": "stdout",
     "output_type": "stream",
     "text": [
      "[2025-05-18 01:49:14] Decode batch. #running-req: 1, #token: 13840, token usage: 0.68, cuda graph: False, gen throughput (token/s): 63.74, #queue-req: 0\n"
     ]
    },
    {
     "name": "stdout",
     "output_type": "stream",
     "text": [
      "[2025-05-18 01:49:15] Decode batch. #running-req: 1, #token: 13880, token usage: 0.68, cuda graph: False, gen throughput (token/s): 63.72, #queue-req: 0\n"
     ]
    },
    {
     "name": "stdout",
     "output_type": "stream",
     "text": [
      "[2025-05-18 01:49:16] Decode batch. #running-req: 1, #token: 13920, token usage: 0.68, cuda graph: False, gen throughput (token/s): 63.66, #queue-req: 0\n"
     ]
    },
    {
     "name": "stdout",
     "output_type": "stream",
     "text": [
      "[2025-05-18 01:49:16] Decode batch. #running-req: 1, #token: 13960, token usage: 0.68, cuda graph: False, gen throughput (token/s): 63.71, #queue-req: 0\n"
     ]
    },
    {
     "name": "stdout",
     "output_type": "stream",
     "text": [
      "[2025-05-18 01:49:17] Decode batch. #running-req: 1, #token: 14000, token usage: 0.68, cuda graph: False, gen throughput (token/s): 63.74, #queue-req: 0\n"
     ]
    },
    {
     "name": "stdout",
     "output_type": "stream",
     "text": [
      "[2025-05-18 01:49:17] Decode batch. #running-req: 1, #token: 14040, token usage: 0.69, cuda graph: False, gen throughput (token/s): 63.59, #queue-req: 0\n"
     ]
    },
    {
     "name": "stdout",
     "output_type": "stream",
     "text": [
      "[2025-05-18 01:49:18] Decode batch. #running-req: 1, #token: 14080, token usage: 0.69, cuda graph: False, gen throughput (token/s): 63.55, #queue-req: 0\n"
     ]
    },
    {
     "name": "stdout",
     "output_type": "stream",
     "text": [
      "[2025-05-18 01:49:19] Decode batch. #running-req: 1, #token: 14120, token usage: 0.69, cuda graph: False, gen throughput (token/s): 63.52, #queue-req: 0\n"
     ]
    },
    {
     "name": "stdout",
     "output_type": "stream",
     "text": [
      "[2025-05-18 01:49:19] Decode batch. #running-req: 1, #token: 14160, token usage: 0.69, cuda graph: False, gen throughput (token/s): 63.10, #queue-req: 0\n"
     ]
    },
    {
     "name": "stdout",
     "output_type": "stream",
     "text": [
      "[2025-05-18 01:49:20] Decode batch. #running-req: 1, #token: 14200, token usage: 0.69, cuda graph: False, gen throughput (token/s): 62.72, #queue-req: 0\n"
     ]
    },
    {
     "name": "stdout",
     "output_type": "stream",
     "text": [
      "[2025-05-18 01:49:21] Decode batch. #running-req: 1, #token: 14240, token usage: 0.70, cuda graph: False, gen throughput (token/s): 64.82, #queue-req: 0\n"
     ]
    },
    {
     "name": "stdout",
     "output_type": "stream",
     "text": [
      "[2025-05-18 01:49:21] Decode batch. #running-req: 1, #token: 14280, token usage: 0.70, cuda graph: False, gen throughput (token/s): 64.95, #queue-req: 0\n"
     ]
    },
    {
     "name": "stdout",
     "output_type": "stream",
     "text": [
      "[2025-05-18 01:49:22] Decode batch. #running-req: 1, #token: 14320, token usage: 0.70, cuda graph: False, gen throughput (token/s): 64.96, #queue-req: 0\n"
     ]
    },
    {
     "name": "stdout",
     "output_type": "stream",
     "text": [
      "[2025-05-18 01:49:22] Decode batch. #running-req: 1, #token: 14360, token usage: 0.70, cuda graph: False, gen throughput (token/s): 63.38, #queue-req: 0\n"
     ]
    },
    {
     "name": "stdout",
     "output_type": "stream",
     "text": [
      "[2025-05-18 01:49:23] Decode batch. #running-req: 1, #token: 14400, token usage: 0.70, cuda graph: False, gen throughput (token/s): 59.97, #queue-req: 0\n"
     ]
    },
    {
     "name": "stdout",
     "output_type": "stream",
     "text": [
      "[2025-05-18 01:49:24] Decode batch. #running-req: 1, #token: 14440, token usage: 0.71, cuda graph: False, gen throughput (token/s): 59.34, #queue-req: 0\n"
     ]
    },
    {
     "name": "stdout",
     "output_type": "stream",
     "text": [
      "[2025-05-18 01:49:24] Decode batch. #running-req: 1, #token: 14480, token usage: 0.71, cuda graph: False, gen throughput (token/s): 62.45, #queue-req: 0\n"
     ]
    },
    {
     "name": "stdout",
     "output_type": "stream",
     "text": [
      "[2025-05-18 01:49:25] Decode batch. #running-req: 1, #token: 14520, token usage: 0.71, cuda graph: False, gen throughput (token/s): 63.03, #queue-req: 0\n"
     ]
    },
    {
     "name": "stdout",
     "output_type": "stream",
     "text": [
      "[2025-05-18 01:49:26] Decode batch. #running-req: 1, #token: 14560, token usage: 0.71, cuda graph: False, gen throughput (token/s): 63.17, #queue-req: 0\n"
     ]
    },
    {
     "name": "stdout",
     "output_type": "stream",
     "text": [
      "[2025-05-18 01:49:26] Decode batch. #running-req: 1, #token: 14600, token usage: 0.71, cuda graph: False, gen throughput (token/s): 62.57, #queue-req: 0\n"
     ]
    },
    {
     "name": "stdout",
     "output_type": "stream",
     "text": [
      "[2025-05-18 01:49:27] Decode batch. #running-req: 1, #token: 14640, token usage: 0.71, cuda graph: False, gen throughput (token/s): 62.75, #queue-req: 0\n"
     ]
    },
    {
     "name": "stdout",
     "output_type": "stream",
     "text": [
      "[2025-05-18 01:49:28] Decode batch. #running-req: 1, #token: 14680, token usage: 0.72, cuda graph: False, gen throughput (token/s): 61.20, #queue-req: 0\n"
     ]
    },
    {
     "name": "stdout",
     "output_type": "stream",
     "text": [
      "[2025-05-18 01:49:28] Decode batch. #running-req: 1, #token: 14720, token usage: 0.72, cuda graph: False, gen throughput (token/s): 63.02, #queue-req: 0\n"
     ]
    },
    {
     "name": "stdout",
     "output_type": "stream",
     "text": [
      "[2025-05-18 01:49:29] Decode batch. #running-req: 1, #token: 14760, token usage: 0.72, cuda graph: False, gen throughput (token/s): 63.40, #queue-req: 0\n"
     ]
    },
    {
     "name": "stdout",
     "output_type": "stream",
     "text": [
      "[2025-05-18 01:49:30] Decode batch. #running-req: 1, #token: 14800, token usage: 0.72, cuda graph: False, gen throughput (token/s): 63.52, #queue-req: 0\n"
     ]
    },
    {
     "name": "stdout",
     "output_type": "stream",
     "text": [
      "[2025-05-18 01:49:30] Decode batch. #running-req: 1, #token: 14840, token usage: 0.72, cuda graph: False, gen throughput (token/s): 65.22, #queue-req: 0\n"
     ]
    },
    {
     "name": "stdout",
     "output_type": "stream",
     "text": [
      "[2025-05-18 01:49:31] Decode batch. #running-req: 1, #token: 14880, token usage: 0.73, cuda graph: False, gen throughput (token/s): 63.64, #queue-req: 0\n"
     ]
    },
    {
     "name": "stdout",
     "output_type": "stream",
     "text": [
      "[2025-05-18 01:49:31] Decode batch. #running-req: 1, #token: 14920, token usage: 0.73, cuda graph: False, gen throughput (token/s): 64.52, #queue-req: 0\n"
     ]
    },
    {
     "name": "stdout",
     "output_type": "stream",
     "text": [
      "[2025-05-18 01:49:32] Decode batch. #running-req: 1, #token: 14960, token usage: 0.73, cuda graph: False, gen throughput (token/s): 63.92, #queue-req: 0\n"
     ]
    },
    {
     "name": "stdout",
     "output_type": "stream",
     "text": [
      "[2025-05-18 01:49:33] Decode batch. #running-req: 1, #token: 15000, token usage: 0.73, cuda graph: False, gen throughput (token/s): 64.27, #queue-req: 0\n"
     ]
    },
    {
     "name": "stdout",
     "output_type": "stream",
     "text": [
      "[2025-05-18 01:49:33] Decode batch. #running-req: 1, #token: 15040, token usage: 0.73, cuda graph: False, gen throughput (token/s): 63.33, #queue-req: 0\n"
     ]
    },
    {
     "name": "stdout",
     "output_type": "stream",
     "text": [
      "[2025-05-18 01:49:34] Decode batch. #running-req: 1, #token: 15080, token usage: 0.74, cuda graph: False, gen throughput (token/s): 62.95, #queue-req: 0\n"
     ]
    },
    {
     "name": "stdout",
     "output_type": "stream",
     "text": [
      "[2025-05-18 01:49:35] Decode batch. #running-req: 1, #token: 15120, token usage: 0.74, cuda graph: False, gen throughput (token/s): 63.50, #queue-req: 0\n"
     ]
    },
    {
     "name": "stdout",
     "output_type": "stream",
     "text": [
      "[2025-05-18 01:49:35] Decode batch. #running-req: 1, #token: 15160, token usage: 0.74, cuda graph: False, gen throughput (token/s): 63.48, #queue-req: 0\n"
     ]
    },
    {
     "name": "stdout",
     "output_type": "stream",
     "text": [
      "[2025-05-18 01:49:36] Decode batch. #running-req: 1, #token: 15200, token usage: 0.74, cuda graph: False, gen throughput (token/s): 63.49, #queue-req: 0\n"
     ]
    },
    {
     "name": "stdout",
     "output_type": "stream",
     "text": [
      "[2025-05-18 01:49:36] Decode batch. #running-req: 1, #token: 15240, token usage: 0.74, cuda graph: False, gen throughput (token/s): 63.48, #queue-req: 0\n"
     ]
    },
    {
     "name": "stdout",
     "output_type": "stream",
     "text": [
      "[2025-05-18 01:49:37] Decode batch. #running-req: 1, #token: 15280, token usage: 0.75, cuda graph: False, gen throughput (token/s): 63.76, #queue-req: 0\n"
     ]
    },
    {
     "name": "stdout",
     "output_type": "stream",
     "text": [
      "[2025-05-18 01:49:38] Decode batch. #running-req: 1, #token: 15320, token usage: 0.75, cuda graph: False, gen throughput (token/s): 63.50, #queue-req: 0\n"
     ]
    },
    {
     "name": "stdout",
     "output_type": "stream",
     "text": [
      "[2025-05-18 01:49:38] Decode batch. #running-req: 1, #token: 15360, token usage: 0.75, cuda graph: False, gen throughput (token/s): 64.15, #queue-req: 0\n"
     ]
    },
    {
     "name": "stdout",
     "output_type": "stream",
     "text": [
      "[2025-05-18 01:49:39] Decode batch. #running-req: 1, #token: 15400, token usage: 0.75, cuda graph: False, gen throughput (token/s): 64.34, #queue-req: 0\n"
     ]
    },
    {
     "name": "stdout",
     "output_type": "stream",
     "text": [
      "[2025-05-18 01:49:40] Decode batch. #running-req: 1, #token: 15440, token usage: 0.75, cuda graph: False, gen throughput (token/s): 63.58, #queue-req: 0\n"
     ]
    },
    {
     "name": "stdout",
     "output_type": "stream",
     "text": [
      "[2025-05-18 01:49:40] Decode batch. #running-req: 1, #token: 15480, token usage: 0.76, cuda graph: False, gen throughput (token/s): 63.65, #queue-req: 0\n"
     ]
    },
    {
     "name": "stdout",
     "output_type": "stream",
     "text": [
      "[2025-05-18 01:49:41] Decode batch. #running-req: 1, #token: 15520, token usage: 0.76, cuda graph: False, gen throughput (token/s): 63.33, #queue-req: 0\n"
     ]
    },
    {
     "name": "stdout",
     "output_type": "stream",
     "text": [
      "[2025-05-18 01:49:41] Decode batch. #running-req: 1, #token: 15560, token usage: 0.76, cuda graph: False, gen throughput (token/s): 63.74, #queue-req: 0\n"
     ]
    },
    {
     "name": "stdout",
     "output_type": "stream",
     "text": [
      "[2025-05-18 01:49:42] Decode batch. #running-req: 1, #token: 15600, token usage: 0.76, cuda graph: False, gen throughput (token/s): 63.60, #queue-req: 0\n"
     ]
    },
    {
     "name": "stdout",
     "output_type": "stream",
     "text": [
      "[2025-05-18 01:49:43] Decode batch. #running-req: 1, #token: 15640, token usage: 0.76, cuda graph: False, gen throughput (token/s): 63.67, #queue-req: 0\n"
     ]
    },
    {
     "name": "stdout",
     "output_type": "stream",
     "text": [
      "[2025-05-18 01:49:43] Decode batch. #running-req: 1, #token: 15680, token usage: 0.77, cuda graph: False, gen throughput (token/s): 61.17, #queue-req: 0\n"
     ]
    },
    {
     "name": "stdout",
     "output_type": "stream",
     "text": [
      "[2025-05-18 01:49:44] Decode batch. #running-req: 1, #token: 15720, token usage: 0.77, cuda graph: False, gen throughput (token/s): 62.76, #queue-req: 0\n"
     ]
    },
    {
     "name": "stdout",
     "output_type": "stream",
     "text": [
      "[2025-05-18 01:49:45] Decode batch. #running-req: 1, #token: 15760, token usage: 0.77, cuda graph: False, gen throughput (token/s): 61.73, #queue-req: 0\n"
     ]
    },
    {
     "name": "stdout",
     "output_type": "stream",
     "text": [
      "[2025-05-18 01:49:45] Decode batch. #running-req: 1, #token: 15800, token usage: 0.77, cuda graph: False, gen throughput (token/s): 61.21, #queue-req: 0\n"
     ]
    },
    {
     "name": "stdout",
     "output_type": "stream",
     "text": [
      "[2025-05-18 01:49:46] Decode batch. #running-req: 1, #token: 15840, token usage: 0.77, cuda graph: False, gen throughput (token/s): 61.46, #queue-req: 0\n"
     ]
    },
    {
     "name": "stdout",
     "output_type": "stream",
     "text": [
      "[2025-05-18 01:49:47] Decode batch. #running-req: 1, #token: 15880, token usage: 0.78, cuda graph: False, gen throughput (token/s): 63.15, #queue-req: 0\n"
     ]
    },
    {
     "name": "stdout",
     "output_type": "stream",
     "text": [
      "[2025-05-18 01:49:47] Decode batch. #running-req: 1, #token: 15920, token usage: 0.78, cuda graph: False, gen throughput (token/s): 63.17, #queue-req: 0\n"
     ]
    },
    {
     "name": "stdout",
     "output_type": "stream",
     "text": [
      "[2025-05-18 01:49:48] Decode batch. #running-req: 1, #token: 15960, token usage: 0.78, cuda graph: False, gen throughput (token/s): 63.49, #queue-req: 0\n"
     ]
    },
    {
     "name": "stdout",
     "output_type": "stream",
     "text": [
      "[2025-05-18 01:49:48] Decode batch. #running-req: 1, #token: 16000, token usage: 0.78, cuda graph: False, gen throughput (token/s): 63.66, #queue-req: 0\n"
     ]
    },
    {
     "name": "stdout",
     "output_type": "stream",
     "text": [
      "[2025-05-18 01:49:49] Decode batch. #running-req: 1, #token: 16040, token usage: 0.78, cuda graph: False, gen throughput (token/s): 64.01, #queue-req: 0\n"
     ]
    },
    {
     "name": "stdout",
     "output_type": "stream",
     "text": [
      "[2025-05-18 01:49:50] Decode batch. #running-req: 1, #token: 16080, token usage: 0.79, cuda graph: False, gen throughput (token/s): 63.61, #queue-req: 0\n"
     ]
    },
    {
     "name": "stdout",
     "output_type": "stream",
     "text": [
      "[2025-05-18 01:49:50] Decode batch. #running-req: 1, #token: 16120, token usage: 0.79, cuda graph: False, gen throughput (token/s): 60.13, #queue-req: 0\n"
     ]
    },
    {
     "name": "stdout",
     "output_type": "stream",
     "text": [
      "[2025-05-18 01:49:51] Decode batch. #running-req: 1, #token: 16160, token usage: 0.79, cuda graph: False, gen throughput (token/s): 63.43, #queue-req: 0\n"
     ]
    },
    {
     "name": "stdout",
     "output_type": "stream",
     "text": [
      "[2025-05-18 01:49:52] Decode batch. #running-req: 1, #token: 16200, token usage: 0.79, cuda graph: False, gen throughput (token/s): 62.04, #queue-req: 0\n"
     ]
    },
    {
     "name": "stdout",
     "output_type": "stream",
     "text": [
      "[2025-05-18 01:49:52] Decode batch. #running-req: 1, #token: 16240, token usage: 0.79, cuda graph: False, gen throughput (token/s): 62.64, #queue-req: 0\n"
     ]
    },
    {
     "name": "stdout",
     "output_type": "stream",
     "text": [
      "[2025-05-18 01:49:53] Decode batch. #running-req: 1, #token: 16280, token usage: 0.79, cuda graph: False, gen throughput (token/s): 63.62, #queue-req: 0\n"
     ]
    },
    {
     "name": "stdout",
     "output_type": "stream",
     "text": [
      "[2025-05-18 01:49:54] Decode batch. #running-req: 1, #token: 16320, token usage: 0.80, cuda graph: False, gen throughput (token/s): 62.71, #queue-req: 0\n"
     ]
    },
    {
     "name": "stdout",
     "output_type": "stream",
     "text": [
      "[2025-05-18 01:49:54] Decode batch. #running-req: 1, #token: 16360, token usage: 0.80, cuda graph: False, gen throughput (token/s): 62.88, #queue-req: 0\n"
     ]
    },
    {
     "name": "stdout",
     "output_type": "stream",
     "text": [
      "[2025-05-18 01:49:55] Decode batch. #running-req: 1, #token: 16400, token usage: 0.80, cuda graph: False, gen throughput (token/s): 63.86, #queue-req: 0\n"
     ]
    },
    {
     "name": "stdout",
     "output_type": "stream",
     "text": [
      "[2025-05-18 01:49:55] Decode batch. #running-req: 1, #token: 16440, token usage: 0.80, cuda graph: False, gen throughput (token/s): 63.93, #queue-req: 0\n"
     ]
    },
    {
     "name": "stdout",
     "output_type": "stream",
     "text": [
      "[2025-05-18 01:49:56] Decode batch. #running-req: 1, #token: 16480, token usage: 0.80, cuda graph: False, gen throughput (token/s): 63.84, #queue-req: 0\n"
     ]
    },
    {
     "name": "stdout",
     "output_type": "stream",
     "text": [
      "[2025-05-18 01:49:57] Decode batch. #running-req: 1, #token: 16520, token usage: 0.81, cuda graph: False, gen throughput (token/s): 64.33, #queue-req: 0\n"
     ]
    },
    {
     "name": "stdout",
     "output_type": "stream",
     "text": [
      "[2025-05-18 01:49:57] Decode batch. #running-req: 1, #token: 16560, token usage: 0.81, cuda graph: False, gen throughput (token/s): 64.59, #queue-req: 0\n"
     ]
    },
    {
     "name": "stdout",
     "output_type": "stream",
     "text": [
      "[2025-05-18 01:49:58] Decode batch. #running-req: 1, #token: 16600, token usage: 0.81, cuda graph: False, gen throughput (token/s): 64.58, #queue-req: 0\n"
     ]
    },
    {
     "name": "stdout",
     "output_type": "stream",
     "text": [
      "[2025-05-18 01:49:59] Decode batch. #running-req: 1, #token: 16640, token usage: 0.81, cuda graph: False, gen throughput (token/s): 64.22, #queue-req: 0\n"
     ]
    },
    {
     "name": "stdout",
     "output_type": "stream",
     "text": [
      "[2025-05-18 01:49:59] Decode batch. #running-req: 1, #token: 16680, token usage: 0.81, cuda graph: False, gen throughput (token/s): 64.43, #queue-req: 0\n"
     ]
    },
    {
     "name": "stdout",
     "output_type": "stream",
     "text": [
      "[2025-05-18 01:50:00] Decode batch. #running-req: 1, #token: 16720, token usage: 0.82, cuda graph: False, gen throughput (token/s): 65.35, #queue-req: 0\n"
     ]
    },
    {
     "name": "stdout",
     "output_type": "stream",
     "text": [
      "[2025-05-18 01:50:00] Decode batch. #running-req: 1, #token: 16760, token usage: 0.82, cuda graph: False, gen throughput (token/s): 64.23, #queue-req: 0\n"
     ]
    },
    {
     "name": "stdout",
     "output_type": "stream",
     "text": [
      "[2025-05-18 01:50:01] Decode batch. #running-req: 1, #token: 16800, token usage: 0.82, cuda graph: False, gen throughput (token/s): 64.46, #queue-req: 0\n"
     ]
    },
    {
     "name": "stdout",
     "output_type": "stream",
     "text": [
      "[2025-05-18 01:50:02] Decode batch. #running-req: 1, #token: 16840, token usage: 0.82, cuda graph: False, gen throughput (token/s): 64.37, #queue-req: 0\n"
     ]
    },
    {
     "name": "stdout",
     "output_type": "stream",
     "text": [
      "[2025-05-18 01:50:02] Decode batch. #running-req: 1, #token: 16880, token usage: 0.82, cuda graph: False, gen throughput (token/s): 64.38, #queue-req: 0\n"
     ]
    },
    {
     "name": "stdout",
     "output_type": "stream",
     "text": [
      "[2025-05-18 01:50:03] Decode batch. #running-req: 1, #token: 16920, token usage: 0.83, cuda graph: False, gen throughput (token/s): 64.03, #queue-req: 0\n"
     ]
    },
    {
     "name": "stdout",
     "output_type": "stream",
     "text": [
      "[2025-05-18 01:50:04] Decode batch. #running-req: 1, #token: 16960, token usage: 0.83, cuda graph: False, gen throughput (token/s): 63.87, #queue-req: 0\n"
     ]
    },
    {
     "name": "stdout",
     "output_type": "stream",
     "text": [
      "[2025-05-18 01:50:04] Decode batch. #running-req: 1, #token: 17000, token usage: 0.83, cuda graph: False, gen throughput (token/s): 63.98, #queue-req: 0\n"
     ]
    },
    {
     "name": "stdout",
     "output_type": "stream",
     "text": [
      "[2025-05-18 01:50:05] Decode batch. #running-req: 1, #token: 17040, token usage: 0.83, cuda graph: False, gen throughput (token/s): 64.07, #queue-req: 0\n"
     ]
    },
    {
     "name": "stdout",
     "output_type": "stream",
     "text": [
      "[2025-05-18 01:50:05] Decode batch. #running-req: 1, #token: 17080, token usage: 0.83, cuda graph: False, gen throughput (token/s): 63.95, #queue-req: 0\n"
     ]
    },
    {
     "name": "stdout",
     "output_type": "stream",
     "text": [
      "[2025-05-18 01:50:06] Decode batch. #running-req: 1, #token: 17120, token usage: 0.84, cuda graph: False, gen throughput (token/s): 63.83, #queue-req: 0\n"
     ]
    },
    {
     "name": "stdout",
     "output_type": "stream",
     "text": [
      "[2025-05-18 01:50:07] Decode batch. #running-req: 1, #token: 17160, token usage: 0.84, cuda graph: False, gen throughput (token/s): 63.82, #queue-req: 0\n"
     ]
    },
    {
     "name": "stdout",
     "output_type": "stream",
     "text": [
      "[2025-05-18 01:50:07] Decode batch. #running-req: 1, #token: 17200, token usage: 0.84, cuda graph: False, gen throughput (token/s): 63.76, #queue-req: 0\n"
     ]
    },
    {
     "name": "stdout",
     "output_type": "stream",
     "text": [
      "[2025-05-18 01:50:08] INFO:     127.0.0.1:47284 - \"POST /v1/chat/completions HTTP/1.1\" 200 OK\n"
     ]
    },
    {
     "data": {
      "text/html": [
       "<strong style='color: #00008B;'>reasoing_content: Okay, so the user is asking for the current date and time in New York and the weather there. I need to figure out how to get both pieces of information using the functions provided.<br><br>First, I should call get_current_date because it requires a timezone parameter. The timezone for New York is 'America/New_York'. So I'll set the parameters as {'timezone': 'America/New_York'}.<br><br>Next, for the weather, I should use get_current_weather. I need a city and state. New York's city is 'New York' and the state is 'NY'. The unit isn't specified, so I'll default to 'fahrenheit' since that's a common request.<br><br>I'll structure each function call separately, making sure each has the required parameters in the correct format. Then, I'll present both results to the user.<br><br><br>content: <function=get_current_date>{\"timezone\": \"America/New_York>}</function> <function=get_current_weather>{\"\t\t\t\t\t\t\t\t\t<br>\t\t\t<br>\t\t\t<br>\t\t\t<br>\t\t\t<br>\t\t\t<br>\t\t\t<br>\t\t\t<br>\t\t\t<br>\t\t\t<br>\t\t\t<br>\t\t\t<br>\t\t\t<br>\t\t\t<br>\t\t\t<br>\t\t\t<br>\t\t\t<br>\t\t\t<br>\t\t\t<br>\t\t\t<br>\t\t\t<br>\t\t\t<br>\t\t\t<br>\t\t\t<br>\t\t\t<br>\t\t\t<br>\t\t\t<br>\t\t\t<br>\t\t\t<br>\t\t\t<br>\t\t\t<br>\t\t\t<br>\t\t\t<br>\t\t\t<br>\t\t\t<br>\t\t\t<br>\t\t\t<br>\t\t\t<br>\t\t\t<br>\t\t\t<br>\t\t\t<br>\t\t\t<br>\t\t\t<br>\t\t\t<br>\t\t\t<br>\t\t\t<br>\t\t\t<br>\t\t\t<br>\t\t\t<br>\t\t\t<br>\t\t\t<br>\t\t\t<br>\t\t\t<br>\t\t\t<br>\t\t\t<br>\t\t\t<br>\t\t\t<br>\t\t\t<br>\t\t\t<br>\t\t\t<br>\t\t\t<br>\t\t\t<br>\t\t\t<br>\t\t\t<br>\t\t\t<br>\t\t\t<br>\t\t\t<br>\t\t\t<br>\t\t\t<br>\t\t\t<br>\t\t\t<br>\t\t\t<br>\t\t\t<br>\t\t\t<br>\t\t\t<br>\t\t\t<br>\t\t\t<br>\t\t\t<br>\t\t\t<br>\t\t\t<br>\t\t\t<br>\t\t\t<br>\t\t\t<br>\t\t\t<br>\t\t\t<br>\t\t\t<br>\t\t\t<br>\t\t\t<br>\t\t\t<br>\t\t\t<br>\t\t\t<br>\t\t\t<br>\t\t\t<br>\t\t\t<br>\t\t\t<br>\t\t\t<br>\t\t\t<br>\t\t\t<br>\t\t\t<br>\t\t\t<br>\t\t\t<br>\t\t\t<br>\t\t\t<br>\t\t\t<br>\t\t\t<br>\t\t\t<br>\t\t\t<br>\t\t\t<br>\t\t\t<br>\t\t\t<br>\t\t\t<br>\t\t\t<br>\t\t\t<br>\t\t\t<br>\t\t\t<br>\t\t\t<br>\t\t\t<br>\t\t\t<br>\t\t\t<br>\t\t\t<br>\t\t\t<br>\t\t\t<br>\t\t\t<br>\t\t\t<br>\t\t\t<br>\t\t\t<br>\t\t\t<br>\t\t\t<br>\t\t\t<br>\t\t\t<br>\t\t\t<br>\t\t\t<br>\t\t\t<br>\t\t\t<br>\t\t\t<br>\t\t\t<br>\t\t\t<br>\t\t\t<br>\t\t\t<br>\t\t\t<br>\t\t\t<br>\t\t\t<br>\t\t\t<br>\t\t\t<br>\t\t\t<br>\t\t\t<br>\t\t\t<br>\t\t\t<br>\t\t\t<br>\t\t\t<br>\t\t\t<br>\t\t\t<br>\t\t\t<br>\t\t\t<br>\t\t\t<br>\t\t\t<br>\t\t\t<br>\t\t\t<br>\t\t\t<br>\t\t\t<br>\t\t\t<br>\t\t\t<br>\t\t\t<br>\t\t\t<br>\t\t\t<br>\t\t\t<br>\t\t\t<br>\t\t\t<br>\t\t\t<br>\t\t\t<br>\t\t\t<br>\t\t\t<br>\t\t\t<br>\t\t\t<br>\t\t\t<br>\t\t\t<br>\t\t\t<br>\t\t\t<br>\t\t\t<br>\t\t\t<br>\t\t\t<br>\t\t\t<br>\t\t\t<br>\t\t\t<br>\t\t\t<br>\t\t\t<br>\t\t\t<br>\t\t\t<br>\t\t\t<br>\t\t\t<br>\t\t\t<br>\t\t\t<br>\t\t\t<br>\t\t\t<br>\t\t\t<br>\t\t\t<br>\t\t\t<br>\t\t\t<br>\t\t\t<br>\t\t\t<br>\t\t\t<br>\t\t\t<br>\t\t\t<br>\t\t\t<br>\t\t\t<br>\t\t\t<br>\t\t\t<br>\t\t\t<br>\t\t\t<br>\t\t\t<br>\t\t\t<br>\t\t\t<br>\t\t\t<br>\t\t\t<br>\t\t\t<br>\t\t\t<br>\t\t\t<br>\t\t\t<br>\t\t\t<br>\t\t\t<br>\t\t\t<br>\t\t\t<br>\t\t\t<br>\t\t\t<br>\t\t\t<br>\t\t\t<br>\t\t\t<br>\t\t\t<br>\t\t\t<br>\t\t\t<br>\t\t\t<br>\t\t\t<br>\t\t\t<br>\t\t\t<br>\t\t\t<br>\t\t\t<br>\t\t\t<br>\t\t\t<br>\t\t\t<br>\t\t\t<br>\t\t\t<br>\t\t\t<br>\t\t\t<br>\t\t\t<br>\t\t\t<br>\t\t\t<br>\t\t\t<br>\t\t\t<br>\t\t\t<br>\t\t\t<br>\t\t\t<br>\t\t\t<br>\t\t\t<br>\t\t\t<br>\t\t\t<br>\t\t\t<br>\t\t\t<br>\t\t\t<br>\t\t\t<br>\t\t\t<br>\t\t\t<br>\t\t\t<br>\t\t\t<br>\t\t\t<br>\t\t\t<br>\t\t\t<br>\t\t\t<br>\t\t\t<br>\t\t\t<br>\t\t\t<br>\t\t\t<br>\t\t\t<br>\t\t\t<br>\t\t\t<br>\t\t\t<br>\t\t\t<br>\t\t\t<br>\t\t\t<br>\t\t\t<br>\t\t\t<br>\t\t\t<br>\t\t\t<br>\t\t\t<br>\t\t\t<br>\t\t\t<br>\t\t\t<br>\t\t\t<br>\t\t\t<br>\t\t\t<br>\t\t\t<br>\t\t\t<br>\t\t\t<br>\t\t\t<br>\t\t\t<br>\t\t\t<br>\t\t\t<br>\t\t\t<br>\t\t\t<br>\t\t\t<br>\t\t\t<br>\t\t\t<br>\t\t\t<br>\t\t\t<br>\t\t\t<br>\t\t\t<br>\t\t\t<br>\t\t\t<br>\t\t\t<br>\t\t\t<br>\t\t\t<br>\t\t\t<br>\t\t\t<br>\t\t\t<br>\t\t\t<br>\t\t\t<br>\t\t\t<br>\t\t\t<br>\t\t\t<br>\t\t\t<br>\t\t\t<br>\t\t\t<br>\t\t\t<br>\t\t\t<br>\t\t\t<br>\t\t\t<br>\t\t\t<br>\t\t\t<br>\t\t\t<br>\t\t\t<br>\t\t\t<br>\t\t\t<br>\t\t\t<br>\t\t\t<br>\t\t\t<br>\t\t\t<br>\t\t\t<br>\t\t\t<br>\t\t\t<br>\t\t\t<br>\t\t\t<br>\t\t\t<br>\t\t\t<br>\t\t\t<br>\t\t\t<br>\t\t\t<br>\t\t\t<br>\t\t\t<br>\t\t\t<br>\t\t\t<br>\t\t\t<br>\t\t\t<br>\t\t\t<br>\t\t\t<br>\t\t\t<br>\t\t\t<br>\t\t\t<br>\t\t\t<br>\t\t\t<br>\t\t\t<br>\t\t\t<br>\t\t\t<br>\t\t\t<br>\t\t\t<br>\t\t\t<br>\t\t\t<br>\t\t\t<br>\t\t\t<br>\t\t\t<br>\t\t\t<br>\t\t\t<br>\t\t\t<br>\t\t\t<br>\t\t\t<br>\t\t\t<br>\t\t\t<br>\t\t\t<br>\t\t\t<br>\t\t\t<br>\t\t\t<br>\t\t\t<br>\t\t\t<br>\t\t\t<br>\t\t\t<br>\t\t\t<br>\t\t\t<br>\t\t\t<br>\t\t\t<br>\t\t\t<br>\t\t\t<br>\t\t\t<br>\t\t\t<br>\t\t\t<br>\t\t\t<br>\t\t\t<br>\t\t\t<br>\t\t\t<br>\t\t\t<br>\t\t\t<br>\t\t\t<br>\t\t\t<br>\t\t\t<br>\t\t\t<br>\t\t\t<br>\t\t\t<br>\t\t\t<br>\t\t\t<br>\t\t\t<br>\t\t\t<br>\t\t\t<br>\t\t\t<br>\t\t\t<br>\t\t\t<br>\t\t\t<br>\t\t\t<br>\t\t\t<br>\t\t\t<br>\t\t\t<br>\t\t\t<br>\t\t\t<br>\t\t\t<br>\t\t\t<br>\t\t\t<br>\t\t\t<br>\t\t\t<br>\t\t\t<br>\t\t\t<br>\t\t\t<br>\t\t\t<br>\t\t\t<br>\t\t\t<br>\t\t\t<br>\t\t\t<br>\t\t\t<br>\t\t\t<br>\t\t\t<br>\t\t\t<br>\t\t\t<br>\t\t\t<br>\t\t\t<br>\t\t\t<br>\t\t\t<br>\t\t\t<br>\t\t\t<br>\t\t\t<br>\t\t\t<br>\t\t\t<br>\t\t\t<br>\t\t\t<br>\t\t\t<br>\t\t\t<br>\t\t\t<br>\t\t\t<br>\t\t\t<br>\t\t\t<br>\t\t\t<br>\t\t\t<br>\t\t\t<br>\t\t\t<br>\t\t\t<br>\t\t\t<br>\t\t\t<br>\t\t\t<br>\t\t\t<br>\t\t\t<br>\t\t\t<br>\t\t\t<br>\t\t\t<br>\t\t\t<br>\t\t\t<br>\t\t\t<br>\t\t\t<br>\t\t\t<br>\t\t\t<br>\t\t\t<br>\t\t\t<br>\t\t\t<br>\t\t\t<br>\t\t\t<br>\t\t\t<br>\t\t\t<br>\t\t\t<br>\t\t\t<br>\t\t\t<br>\t\t\t<br>\t\t\t<br>\t\t\t<br>\t\t\t<br>\t\t\t<br>\t\t\t<br>\t\t\t<br>\t\t\t<br>\t\t\t<br>\t\t\t<br>\t\t\t<br>\t\t\t<br>\t\t\t<br>\t\t\t<br>\t\t\t<br>\t\t\t<br>\t\t\t<br>\t\t\t<br>\t\t\t<br>\t\t\t<br>\t\t\t<br>\t\t\t<br>\t\t\t<br>\t\t\t<br>\t\t\t<br>\t\t\t<br>\t\t\t<br>\t\t\t<br>\t\t\t<br>\t\t\t<br>\t\t\t<br>\t\t\t<br>\t\t\t<br>\t\t\t<br>\t\t\t<br>\t\t\t<br>\t\t\t<br>\t\t\t<br>\t\t\t<br>\t\t\t<br>\t\t\t<br>\t\t\t<br>\t\t\t<br>\t\t\t<br>\t\t\t<br>\t\t\t<br>\t\t\t<br>\t\t\t<br>\t\t\t<br>\t\t\t<br>\t\t\t<br>\t\t\t<br>\t\t\t<br>\t\t\t<br>\t\t\t<br>\t\t\t<br>\t\t\t<br>\t\t\t<br>\t\t\t<br>\t\t\t<br>\t\t\t<br>\t\t\t<br>\t\t\t<br>\t\t\t<br>\t\t\t<br>\t\t\t<br>\t\t\t<br>\t\t\t<br>\t\t\t<br>\t\t\t<br>\t\t\t<br>\t\t\t<br>\t\t\t<br>\t\t\t<br>\t\t\t<br>\t\t\t<br>\t\t\t<br>\t\t\t<br>\t\t\t<br>\t\t\t<br>\t\t\t<br>\t\t\t<br>\t\t\t<br>\t\t\t<br>\t\t\t<br>\t\t\t<br>\t\t\t<br>\t\t\t<br>\t\t\t<br>\t\t\t<br>\t\t\t<br>\t\t\t<br>\t\t\t<br>\t\t\t<br>\t\t\t<br>\t\t\t<br>\t\t\t<br>\t\t\t<br>\t\t\t<br>\t\t\t<br>\t\t\t<br>\t\t\t<br>\t\t\t<br>\t\t\t<br>\t\t\t<br>\t\t\t<br>\t\t\t<br>\t\t\t<br>\t\t\t<br>\t\t\t<br>\t\t\t<br>\t\t\t<br>\t\t\t<br>\t\t\t<br>\t\t\t<br>\t\t\t<br>\t\t\t<br>\t\t\t<br>\t\t\t<br>\t\t\t<br>\t\t\t<br>\t\t\t<br>\t\t\t<br>\t\t\t<br>\t\t\t<br>\t\t\t<br>\t\t\t<br>\t\t\t<br>\t\t\t<br>\t\t\t<br>\t\t\t<br>\t\t\t<br>\t\t\t<br>\t\t\t<br>\t\t\t<br>\t\t\t<br>\t\t\t<br>\t\t\t<br>\t\t\t<br>\t\t\t<br>\t\t\t<br>\t\t\t<br>\t\t\t<br>\t\t\t<br>\t\t\t<br>\t\t\t<br>\t\t\t<br>\t\t\t<br>\t\t\t<br>\t\t\t<br>\t\t\t<br>\t\t\t<br>\t\t\t<br>\t\t\t<br>\t\t\t<br>\t\t\t<br>\t\t\t<br>\t\t\t<br>\t\t\t<br>\t\t\t<br>\t\t\t<br>\t\t\t<br>\t\t\t<br>\t\t\t<br>\t\t\t<br>\t\t\t<br>\t\t\t<br>\t\t\t<br>\t\t\t<br>\t\t\t<br>\t\t\t<br>\t\t\t<br>\t\t\t<br>\t\t\t<br>\t\t\t<br>\t\t\t<br>\t\t\t<br>\t\t\t<br>\t\t\t<br>\t\t\t<br>\t\t\t<br>\t\t\t<br>\t\t\t<br>\t\t\t<br>\t\t\t<br>\t\t\t<br>\t\t\t<br>\t\t\t<br>\t\t\t<br>\t\t\t<br>\t\t\t<br>\t\t\t<br>\t\t\t<br>\t\t\t<br>\t\t\t<br>\t\t\t<br>\t\t\t<br>\t\t\t<br>\t\t\t<br>\t\t\t<br>\t\t\t<br>\t\t\t<br>\t\t\t<br>\t\t\t<br>\t\t\t<br>\t\t\t<br>\t\t\t<br>\t\t\t<br>\t\t\t<br>\t\t\t<br>\t\t\t<br>\t\t\t<br>\t\t\t<br>\t\t\t<br>\t\t\t<br>\t\t\t<br>\t\t\t<br>\t\t\t<br>\t\t\t<br>\t\t\t<br>\t\t\t<br>\t\t\t<br>\t\t\t<br>\t\t\t<br>\t\t\t<br>\t\t\t<br>\t\t\t<br>\t\t\t<br>\t\t\t<br>\t\t\t<br>\t\t\t<br>\t\t\t<br>\t\t\t<br>\t\t\t<br>\t\t\t<br>\t\t\t<br>\t\t\t<br>\t\t\t<br>\t\t\t<br>\t\t\t<br>\t\t\t<br>\t\t\t<br>\t\t\t<br>\t\t\t<br>\t\t\t<br>\t\t\t<br>\t\t\t<br>\t\t\t<br>\t\t\t<br>\t\t\t<br>\t\t\t<br>\t\t\t<br>\t\t\t<br>\t\t\t<br>\t\t\t<br>\t\t\t<br>\t\t\t<br>\t\t\t<br>\t\t\t<br>\t\t\t<br>\t\t\t<br>\t\t\t<br>\t\t\t<br>\t\t\t<br>\t\t\t<br>\t\t\t<br>\t\t\t<br>\t\t\t<br>\t\t\t<br>\t\t\t<br>\t\t\t<br>\t\t\t<br>\t\t\t<br>\t\t\t<br>\t\t\t<br>\t\t\t<br>\t\t\t<br>\t\t\t<br>\t\t\t<br>\t\t\t<br>\t\t\t<br>\t\t\t<br>\t\t\t<br>\t\t\t<br>\t\t\t<br>\t\t\t<br>\t\t\t<br>\t\t\t<br>\t\t\t<br>\t\t\t<br>\t\t\t<br>\t\t\t<br>\t\t\t<br>\t\t\t<br>\t\t\t<br>\t\t\t<br>\t\t\t<br>\t\t\t<br>\t\t\t<br>\t\t\t<br>\t\t\t<br>\t\t\t<br>\t\t\t<br>\t\t\t<br>\t\t\t<br>\t\t\t<br>\t\t\t<br>\t\t\t<br>\t\t\t<br>\t\t\t<br>\t\t\t<br>\t\t\t<br>\t\t\t<br>\t\t\t<br>\t\t\t<br>\t\t\t<br>\t\t\t<br>\t\t\t<br>\t\t\t<br>\t\t\t<br>\t\t\t<br>\t\t\t<br>\t\t\t<br>\t\t\t<br>\t\t\t<br>\t\t\t<br>\t\t\t<br>\t\t\t<br>\t\t\t<br>\t\t\t<br>\t\t\t<br>\t\t\t<br>\t\t\t<br>\t\t\t<br>\t\t\t<br>\t\t\t<br>\t\t\t<br>\t\t\t<br>\t\t\t<br>\t\t\t<br>\t\t\t<br>\t\t\t<br>\t\t\t <br>            <br>\t\t <br>            <br>\t\t            <br>\t\t            <br>\t\t            <br>\t\t<br>            <br>\t\t<br>            <br>\t\t<br>            <br>\t\t<br>            <br>\t\t<br>            <br>\t\t<br>            <br>\t\t<br>            <br>\t\t<br>            <br>\t\t<br>            <br>\t\t<br>            <br>\t\t<br>            <br>\t\t<br>            <br>\t\t<br>            <br>\t\t<br>            <br>\t\t<br>            <br>\t\t<br>            <br>\t\t<br>            <br>\t\t<br>            <br>\t\t<br>            <br>\t\t<br>            <br>\t\t<br>            <br>\t\t<br>            <br>\t\t<br>            <br>\t\t<br>            <br>\t\t<br>            <br>\t\t<br>            <br>\t\t<br>            <br>\t\t<br>            <br>\t\t<br>            <br>\t\t<br>            <br>\t\t<br>            <br>\t\t<br>            <br>\t\t<br>            <br>\t\t<br>            <br>\t\t<br>            <br>\t\t<br>            <br>\t\t<br>            <br>\t\t<br>            <br>\t\t<br>            <br>\t\t<br>            <br>\t\t<br>            <br>\t\t<br>            <br>\t\t<br>            <br>\t\t<br>            <br>\t\t<br>            <br>\t\t<br>            <br>\t\t<br>            <br>\t\t<br>            <br>\t\t<br>            <br>\t\t<br>            <br>\t\t<br>            <br>\t\t<br>            <br>\t\t<br>            <br>\t\t<br>            <br>\t\t<br>            <br>\t\t<br>            <br>\t\t<br>            <br>\t\t<br>            <br>\t\t<br>            <br>\t\t<br>            <br>\t\t<br>            <br>\t\t<br>            <br>\t\t<br>            <br>\t\t<br>            <br>\t\t<br>            <br>\t\t<br>            <br>\t\t<br>            <br>\t\t<br>            <br>\t\t<br>            <br>\t\t<br>            <br>\t\t<br>            <br>\t\t<br>            <br>\t\t<br>            <br>\t\t<br>            <br>\t\t<br>            <br>\t\t<br>            <br>\t\t<br>            <br>\t\t<br>            <br>\t\t<br>            <br>\t\t<br>            <br>\t\t<br>            <br>\t\t<br>            <br>\t\t<br>            <br>\t\t<br>            <br>\t\t<br>            <br>\t\t<br>            <br>\t\t<br>            <br>\t\t<br>            <br>\t\t<br>            <br>\t\t<br>            <br>\t\t<br>            <br>\t\t<br>            <br>\t\t<br>            <br>\t\t<br>            <br>\t\t<br>            <br>\t\t<br>            <br>\t\t<br>            <br>\t\t<br>            <br>\t\t<br>            <br>\t\t<br>            <br>\t\t<br>            <br>\t\t<br>            <br>\t\t<br>            <br>\t\t<br>            <br>\t\t<br>            <br>\t\t<br>            <br>\t\t<br>            <br>\t\t <br>            <br>\t\t <br>            <br>\t\t <br>            <br>\t\t <br>            <br>\t\t <br>            <br>\t\t <br>            <br>\t\t <br>            <br>\t\t <br>            <br>\t\t <br>            <br>\t\t <br>            <br>\t\t <br>            <br>\t\t <br>            <br>\t\t <br>            <br>\t\t <br>            <br>\t\t <br>            <br>\t\t <br>            <br>\t\t <br>            <br>\t\t <br>            <br>\t\t <br>            <br>\t\t <br>            <br>\t\t <br>            <br>\t\t <br>            <br>\t\t <br>            <br>\t\t <br>            <br>\t\t <br>            <br>\t\t <br>            <br>\t\t <br>            <br>\t\t <br>            <br>\t\t <br>            <br>\t\t <br>            <br>\t\t <br>            <br>\t\t <br>            <br>\t\t <br>            <br>\t\t <br>            <br>\t\t <br>            <br>\t\t <br>            <br>\t\t <br>            <br>\t\t <br>            <br>\t\t <br>            <br>\t\t <br>            <br>\t\t <br>            <br>\t\t <br>            <br>\t\t <br>            <br>\t\t <br>            <br>\t\t <br>            <br>\t\t <br>            <br>\t\t <br>            <br>\t\t <br>            <br>\t\t <br>            <br>\t\t <br>            <br>\t\t <br>            <br>\t\t <br>            <br>\t\t <br>            <br>\t\t <br>            <br>\t\t <br>            <br>\t\t <br>            <br>\t\t <br>            <br>\t\t <br>            <br>\t\t <br>            <br>\t\t <br>            <br>\t\t <br>            <br>\t\t <br>            <br>\t\t <br>            <br>\t\t <br>            <br>\t\t <br>            <br>\t\t <br>            <br>\t\t <br>            <br>\t\t <br>            <br>\t\t <br>            <br>\t\t <br>            <br>\t\t <br>            <br>\t\t <br>            <br>\t\t <br>            <br>\t\t <br>            <br>\t\t <br>            <br>\t\t <br>            <br>\t\t <br>            <br>\t\t <br>            <br>\t\t <br>            <br>\t\t <br>            <br>\t\t <br>            <br>\t\t <br>            <br>\t\t <br>            <br>\t\t <br>            <br>\t\t <br>            <br>\t\t <br>            <br>\t\t <br>            <br>\t\t <br>            <br>\t\t <br>            <br>\t\t <br>            <br>\t\t <br>            <br>\t\t <br>            <br>\t\t <br>            <br>\t\t <br>            <br>\t\t <br>            <br>\t\t <br>            <br>\t\t <br>            <br>\t\t <br>            <br>\t\t <br>            <br>\t\t <br>            <br>\t\t <br>            <br>\t\t <br>            <br>\t\t <br>            <br>\t\t <br>            <br>\t\t <br>            <br>\t\t <br>            <br>\t\t <br>            <br>\t\t <br>            <br>\t\t <br>            <br>\t\t <br>            <br>\t\t <br>            <br>\t\t <br>            <br>\t\t <br>            <br>\t\t <br>            <br>\t\t <br>            <br>\t\t <br>            <br>\t\t <br>            <br>\t\t <br>            <br>\t\t <br>            <br>\t\t <br>            <br>\t\t <br>            <br>\t\t <br>            <br>\t\t <br>            <br>\t\t <br>            <br>\t\t <br>            <br>\t\t <br>            <br>\t\t <br>            <br>\t\t <br>            <br>\t\t <br>            <br>\t\t <br>            <br>\t\t <br>            <br>\t\t <br>            <br>\t\t <br>            <br>\t\t <br>            <br>\t\t <br>            <br>\t\t <br>            <br>\t\t <br>            <br>\t\t <br>            <br>\t\t <br>            <br>\t\t <br>            <br>\t\t <br>            <br>\t\t <br>            <br>\t\t <br>            <br>\t\t <br>            <br>\t\t <br>            <br>\t\t <br>            <br>\t\t <br>            <br>\t\t <br>            <br>\t\t <br>            <br>\t\t <br>            <br>\t\t <br>            <br>\t\t <br>            <br>\t\t <br>            <br>\t\t <br>            <br>\t\t <br>            <br>\t\t <br>            <br>\t\t <br>            <br>\t\t <br>            <br>\t\t <br>            <br>\t\t <br>            <br>\t\t <br>            <br>\t\t <br>            <br>\t\t <br>            <br>\t\t <br>            <br>\t\t <br>            <br>\t\t <br>            <br>\t\t <br>            <br>\t\t <br>            <br>\t\t <br>            <br>\t\t <br>            <br>\t\t <br>            <br>\t\t <br>            <br>\t\t <br>            <br>\t\t <br>            <br>\t\t <br>            <br>\t\t <br>            <br>\t\t <br>            <br>\t\t <br>            <br>\t\t <br>            <br>\t\t <br>            <br>\t\t <br>            <br>\t\t <br>            <br>\t\t <br>            <br>\t\t <br>            <br>\t\t <br>            <br>\t\t <br>            <br>\t\t <br>            <br>\t\t <br>            <br>\t\t <br>            <br>\t\t <br>            <br>\t\t <br>            <br>\t\t <br>            <br>\t\t <br>            <br>\t\t <br>            <br>\t\t <br>            <br>\t\t <br>            <br>\t\t <br>            <br>\t\t <br>            <br>\t\t <br>            <br>\t\t <br>            <br>\t\t <br>            <br>\t\t <br>            <br>\t\t <br>            <br>\t\t <br>            <br>\t\t <br>            <br>\t\t <br>            <br>\t\t <br>            <br>\t\t <br>            <br>\t\t <br>            <br>\t\t <br>            <br>\t\t <br>            <br>\t\t <br>            <br>\t\t <br>            <br>\t\t <br>            <br>\t\t <br>            <br>\t\t <br>            <br>\t\t <br>            <br>\t\t <br>            <br>\t\t <br>            <br>\t\t <br>            <br>\t\t <br>            <br>\t\t <br>            <br>\t\t <br>            <br>\t\t <br>            <br>\t\t <br>            <br>\t\t <br>            <br>\t\t <br>            <br>\t\t <br>            <br>\t\t <br>            <br>\t\t <br>            <br>\t\t <br>            <br>\t\t <br>            <br>\t\t <br>            <br>\t\t <br>            <br>\t\t <br>            <br>\t\t <br>            <br>\t\t <br>            <br>\t\t <br>            <br>\t\t <br>            <br>\t\t <br>            <br>\t\t <br>            <br>\t\t <br>            <br>\t\t <br>            <br>\t\t <br>            <br>\t\t <br>            <br>\t\t <br>            <br>\t\t <br>            <br>\t\t <br>            <br>\t\t <br>            <br>\t\t <br>            <br>\t\t <br>            <br>\t\t <br>            <br>\t\t <br>            <br>\t\t <br>            <br>\t\t <br>            <br>\t\t <br>            <br>\t\t <br>            <br>\t\t <br>            <br>\t\t <br>            <br>\t\t <br>            <br>\t\t <br>            <br>\t\t <br>            <br>\t\t <br>            <br>\t\t <br>            <br>\t\t <br>            <br>\t\t <br>            <br>\t\t <br>            <br>\t\t <br>            <br>\t\t <br>            <br>\t\t <br>            <br>\t\t <br>            <br>\t\t <br>            <br>\t\t <br>            <br>\t\t <br>            <br>\t\t <br>            <br>\t\t <br>            <br>\t\t <br>            <br>\t\t <br>            <br>\t\t <br>            <br>\t\t <br>            <br>\t\t <br>            <br>\t\t <br>            <br>\t\t <br>            <br>\t\t <br>            <br>\t\t <br>            <br>\t\t <br>            <br>\t\t <br>            <br>\t\t <br>            <br>\t\t <br>            <br>\t\t <br>            <br>\t\t<br>            <br>\t\t <br>            <br>\t\t <br>            <br>\t\t <br>            <br>\t\t <br>            <br>\t\t <br>            <br>\t\t <br>            <br>\t\t<br>            <br><br>            <br>\t\t <br>            <br><br>            <br>\t\t <br>            <br><br>            <br><br>            <br><br>            <br><br>            <br><br>            <br><br>            <br><br>            <br><br>            <br><br>            <br><br>            <br><br>            <br><br>            <br><br>            <br><br>            <br><br>            <br><br>            <br><br>            <br><br>            <br><br>            <br><br>            <br><br>            <br><br>            <br><br>            <br><br>            <br><br>            <br><br>            <br><br>            <br><br>            <br><br>            <br><br>            <br><br>            <br><br>            <br><br>            <br><br>            <br><br>            <br><br>            <br><br>            <br><br>            <br><br>            <br><br>            <br><br>            <br><br>            <br><br>            <br><br>            <br><br>            <br><br>            <br><br>            <br><br>            <br><br>            <br><br>            <br><br>            <br><br>            <br><br>            <br><br>            <br><br>            <br><br>            <br><br>            <br><br>            <br><br>            <br><br>            <br><br>            <br><br>            <br><br>            <br><br>            <br><br>            <br><br>            <br><br>            <br><br>            <br><br>            <br><br>            <br><br>            <br><br>            <br><br>            <br><br>            <br><br>            <br><br>            <br><br>            <br><br>            <br><br>            <br><br>            <br><br>            <br><br>            <br><br>            <br><br>            <br><br>            <br><br>            <br><br>            <br><br>            <br><br>            <br><br>            <br><br>            <br><br>            <br><br>            <br><br>            <br><br>            <br>\t\t<br>            <br>            <br>\t\t<br>            <br><br>    <br><br>            <br>            <br><br>            <br><br>            <br><br>\t\t\t<br><br>            <br>            <br><br>            <br><br>            <br><br>            <br><br>            <br><br>            <br><br>            <br><br>            <br><br>            <br><br>            <br><br>            <br><br>            <br>\t\t<br>            <br><br>            <br><br>            <br><br>            <br>\t\t<br>            <br><br><br><br><br>            <br>\t\t<br>            <br>\t\t <br>            <br>\t\t <br>            <br>\t\t <br>            <br>\t\t <br>            <br>\t\t <br>            <br>\t\t<br>            <br><br>            <br><br>            <br><br>            <br><br>            <br><br>            <br><br>            <br><br>            <br><br>            <br><br>            <br><br>            <br><br>            <br><br>            <br><br>            <br><br>            <br><br>            <br><br>            <br><br>            <br><br>            <br><br>            <br><br>            <br><br>            <br><br>            <br><br>            <br><br>            <br><br>            <br><br>            <br><br>            <br><br>            <br><br>            <br><br>            <br><br>            <br><br>            <br><br>            <br><br>            <br><br>            <br><br>            <br><br>            <br><br>            <br><br>            <br><br>            <br><br>            <br><br>            <br><br>            <br><br>            <br><br>            <br><br>            <br><br>            <br><br>            <br><br>            <br><br>            <br><br>            <br><br>            <br><br>            <br><br>            <br><br>            <br><br>            <br><br>            <br><br>            <br><br>            <br><br>            <br><br>            <br><br>            <br><br>            <br><br>            <br><br>            <br><br>            <br><br>            <br><br>            <br><br>            <br><br>            <br><br>            <br><br>            <br><br>            <br><br>            <br><br>            <br><br>            <br><br>            <br><br>            <br><br>            <br><br>            <br><br>            <br><br>            <br><br>            <br><br>            <br><br>            <br><br>            <br><br>            <br><br>            <br><br>            <br><br>            <br><br>            <br><br>            <br><br>            <br><br>            <br><br>            <br><br>            <br><br>            <br><br>            <br><br>            <br><br>            <br><br>            <br><br>            <br><br>            <br><br>            <br><br>            <br><br>            <br><br>            <br><br>            <br><br>            <br><br>            <br><br>            <br><br>            <br><br>            <br><br>            <br><br>            <br><br>            <br><br>            <br><br>            <br><br>            <br><br>            <br><br>            <br><br>            <br><br>            <br><br>            <br><br>            <br><br>            <br><br>            <br><br>            <br><br>            <br><br>            <br><br>            <br><br>            <br><br>            <br><br>            <br><br>            <br><br>            <br><br>            <br><br>            <br><br>            <br><br>            <br><br>            <br><br>            <br><br>            <br><br>            <br><br>            <br><br>            <br><br>            <br><br>            <br><br>            <br><br>            <br><br>            <br><br>            <br><br>            <br><br>            <br><br>            <br><br>            <br><br>            <br><br>            <br><br>            <br><br>            <br><br>            <br><br>            <br><br>            <br><br>            <br><br>            <br><br>            <br><br>            <br><br>            <br><br>            <br><br>            <br><br>            <br><br>            <br><br>            <br><br>            <br><br>            <br><br>            <br><br>            <br><br>            <br><br>            <br><br>            <br><br>            <br>\t\t<br>            <br><br>            <br><br>            <br><br>            <br><br>            <br>\t\t<br>            <br><br><br><br><br>            <br>\t\t <br>            <br>\t\t <br>            <br>\t\t <br>            <br>\t\t<br>            <br><br><br><br>            <br>\t\t <br>            <br>\t\t <br>            <br>\t\t <br>            <br>\t\t <br>            <br>\t\t <br>            <br>\t\t <br>            <br>\t\t <br>            <br><br>            <br><br>            <br><br>            <br><br>            <br><br>            <br><br>            <br>\t\t<br>            <br><br><br><br><br><br><br><br>            <br>\t\t <br>            <br>\t\t <br>            <br>\t\t <br>            <br>\t\t <br>            <br>\t\t <br>            <br>\t\t <br>            <br>\t\t <br>            <br><br>            <br><br>            <br><br>            <br><br>            <br><br>            <br><br>            <br><br>            <br><br>            <br><br>            <br><br>        <br>            <br><br>            <br><br>            <br><br>            <br><br>            <br><br>            <br><br>            <br><br>            <br><br>            <br><br>            <br><br>            <br><br>            <br><br>            <br><br>            <br><br>            <br><br>            <br><br>            <br><br>            <br><br>            <br><br>            <br><br>            <br><br>            <br><br>            <br><br>            <br><br>            <br><br>            <br><br>            <br><br>            <br><br>            <br><br>            <br><br>            <br><br>            <br><br>            <br><br>            <br><br>            <br><br>            <br><br>            <br><br>            <br><br>            <br><br>            <br><br>            <br><br>            <br><br>            <br><br>            <br><br>            <br><br>            <br><br>            <br><br>            <br><br>            <br><br>            <br><br>            <br><br>            <br><br>            <br><br>            <br><br>            <br><br>            <br><br>            <br><br>            <br><br>            <br><br>            <br><br>            <br><br>            <br><br>            <br><br>            <br><br>            <br><br>            <br><br>            <br><br>            <br><br>            <br><br>            <br><br>            <br><br>            <br><br>            <br><br>            <br><br>            <br><br>            <br><br>            <br><br>            <br><br>            <br><br>            <br><br>            <br><br>            <br><br>            <br><br>            <br><br>            <br><br>            <br><br>            <br><br>            <br><br>            <br><br>            <br><br>            <br><br>            <br><br>            <br><br>            <br><br>            <br><br>            <br><br>            <br><br>            <br><br>            <br><br>            <br><br>            <br><br>            <br><br>            <br><br>            <br><br>            <br><br>            <br><br>            <br><br>            <br><br>            <br><br>            <br><br>            <br><br>            <br><br>            <br><br>            <br><br>            <br><br>            <br><br>            <br><br>            <br><br>            <br><br>            <br><br>            <br><br>            <br><br>            <br><br>            <br><br>            <br><br>            <br><br>            <br><br>            <br><br>            <br><br>            <br><br>            <br><br>            <br><br>            <br><br>            <br><br>            <br><br>            <br><br>            <br><br>            <br><br>            <br><br>            <br><br>            <br><br>            <br><br>            <br><br>            <br><br>            <br><br>            <br><br>            <br><br>            <br><br>            <br><br>            <br><br>            <br><br>            <br><br>            <br><br>            <br><br>            <br><br>            <br><br>            <br><br>            <br><br>            <br><br>            <br><br>            <br><br>            <br><br>            <br><br>            <br><br>            <br><br>            <br><br>            <br><br>            <br><br>            <br><br>            <br><br>            <br><br>            <br><br>            <br><br>            <br><br>            <br><br>            <br><br>            <br><br>            <br><br>            <br><br>            <br><br>            <br><br>            <br><br>            <br><br>            <br><br>            <br><br>            <br><br>            <br><br>            <br><br>            <br><br>            <br><br>            <br><br>            <br><br>            <br><br>            <br><br>            <br><br>            <br><br>            <br><br>            <br><br>            <br><br>            <br><br>            <br><br>            <br><br>            <br><br>            <br><br>            <br><br>            <br><br>            <br>            <br><br><br><br><br><br>            <br>\t\t <br>            <br>\t\t <br>            <br>\t\t <br>            <br><br>            <br><br>            <br><br>            <br><br>            <br><br>            <br><br>            <br><br>            <br><br>            <br><br>            <br><br>            <br><br>        <br><br>            <br><br>            <br><br>            <br><br>        <br><br>            <br><br>            <br><br>            <br><br>            <br><br>            <br><br>            <br><br>            <br><br>            <br><br>            <br>            <br><br>            <br><br>            <br><br>            <br><br>            <br><br>            <br><br>            <br><br>            <br><br>            <br><br>            <br><br>            <br><br>            <br><br>            <br><br>            <br><br>            <br><br>            <br><br>            <br><br>            <br><br>            <br><br>            <br><br>            <br><br>            <br><br>            <br><br>            <br><br>            <br><br>            <br><br>            <br><br>            <br><br>            <br><br>            <br><br>            <br><br>            <br><br>            <br><br>            <br><br>            <br><br>            <br><br>            <br><br>            <br><br>            <br>            <br><br>            <br><br>            <br><br>            <br><br>            <br><br>            <br><br>            <br><br>            <br><br>            <br><br>            <br>            <br><br><br><br>            <br>\t\t <br>            <br>\t\t <br>            <br><br>            <br><br>            <br><br>            <br><br>            <br>            <br><br>            <br><br>            <br><br>            <br><br>            <br><br>            <br><br>            <br><br>            <br><br>            <br><br>            <br><br>            <br><br>            <br><br>            <br><br>            <br><br>            <br><br>            <br><br>            <br>            <br><br> <br><br><br><br><br><br>            <br>\t\t <br>            <br>\t\t <br>            <br>\t\t <br>            <br><br>            <br><br>        <br>            <br><br>            <br><br><br><br><br>            <br>\t\t <br>            <br>\t\t <br>            <br>\t\t <br>            <br>\t\t <br>            <br><br>            <br><br>            <br><br>            <br><br>            <br><br>            <br><br>            <br><br>            <br><br>            <br><br>            <br><br>            <br><br>            <br><br>            <br><br>            <br><br>            <br><br>            <br><br>            <br><br>            <br>            <br><br>            <br><br>            <br>\t\t<br>            <br><br><br><br><br>            <br>\t\t <br>            <br>\t\t <br>            <br>\t\t <br>            <br><br>            <br><br>            <br><br>            <br>               <br>            <br>            <br>\t\t <br>            <br><br>            <br><br>            <br><br>            <br><br>            <br><br>            <br><br>            <br><br>            <br><br>            <br><br>            <br><br>            <br><br>            <br>            <br><br>            <br><br>            <br><br>            <br><br>            <br><br>            <br><br>            <br><br>            <br><br>            <br><br>            <br>\t\t<br>            <br><br>            <br><br>            <br><br>            <br><br>            <br><br>            <br><br>            <br><br>            <br><br>            <br>            <br><br>            <br><br>            <br><br>            <br><br>            <br><br>            <br><br>            <br><br>            <br><br>            <br><br>            <br><br>            <br><br>            <br><br>            <br><br>            <br><br>            <br><br>            <br><br>            <br><br>            <br><br>            <br><br>            <br><br>            <br><br>            <br><br>            <br><br>            <br><br>            <br><br>            <br><br>            <br><br>            <br><br>            <br><br>            <br><br>            <br><br>            <br><br>            <br><br>            <br><br>            <br><br>            <br><br>            <br><br>            <br><br>            <br><br>            <br>            <br><br><br><br><br>            <br><br><br><br><br>            <br><br>            <br><br>            <br><br>            <br><br>            <br><br>            <br><br>            <br><br>            <br><br>            <br><br>            <br><br>            <br><br>            <br><br>            <br><br>            <br><br>            <br><br>            <br><br>            <br><br>            <br>            <br>            <br><br>            <br>            <br><br>            <br><br>            <br><br>            <br><br>            <br><br>            <br><br>            <br><br>            <br><br>            <br><br>            <br><br>            <br><br>            <br><br>            <br><br>            <br><br>            <br><br>            <br><br>            <br><br>            <br><br>            <br><br>            <br><br>            <br><br>            <br><br>            <br><br>            <br>            <br><br>        <br><br>            <br><br>            <br><br>            <br><br>            <br><br>            <br><br>            <br><br>            <br><br>            <br>            <br>           <br><br><br><br>            <br>\t\t <br>            <br>\t\t <br>            <br>\t\t <br>            <br><br>            <br><br>            <br><br>            <br><br>            <br><br>            <br><br>            <br><br>            <br><br><br><br><br>            <br>\t\t <br>            <br>\t\t <br>            <br>\t\t <br>            <br>\t\t <br>            <br>\t\t <br>            <br>\t\t <br>            <br>\t\t <br>            <br><br>            <br><br>            <br><br>            <br><br>            <br><br>            <br>            <br><br>            <br><br>            <br><br>            <br><br>            <br><br>            <br><br>            <br><br>            <br><br>            <br><br>            <br><br>            <br><br><br><br><br><br>            <br>\t\t <br>            <br>\t\t <br>            <br>\t\t <br>            <br>\t\t <br>            <br>\t\t <br>            <br>\t\t <br>            <br>\t\t <br>            <br><br>            <br><br>            <br><br>            <br>            <br><br>            <br><br><br><br>             <br>            <br>            <br>            <br>            <br>            <br><br>            <br>            <br><br>            <br><br>            <br><br>            <br><br>            <br><br>            <br><br>            <br><br>            <br><br>        <br>            <br>\t\t <br>            <br>\t\t <br>            <br>\t\t <br>            <br>\t\t <br>            <br>\t\t <br>            <br><br>            <br><br>            <br><br>            <br><br>            <br>            <br><br>            <br><br>            <br><br>            <br><br>            <br><br>            <br><br>            <br><br>        <br>            <br><br>            <br><br>            <br><br>            <br><br>            <br><br>            <br><br>            <br><br>            <br><br>            <br><br>            <br><br>            <br><br>            <br><br>            <br><br>            <br><br>            <br><br>            <br><br>            <br><br>            <br><br>            <br><br>            <br><br>            <br><br>            <br><br>            <br>            <br><br>            <br><br>            <br><br>            <br>            <br><br>            <br><br>            <br><br>            <br><br>            <br><br>            <br><br>            <br><br>            <br><br>            <br><br>            <br><br>            <br><br>            <br><br>            <br><br>            <br>           <br>            <br><br>            <br>\t\t <br>            <br><br>            <br><br>            <br><br>            <br><br>        <br>            <br><br>        <br>\t\t<br>            <br>\t\t<br>            <br><br>            <br><br>            <br><br>            <br><br>            <br><br>            <br><br>            <br><br>            <br><br>            <br><br>            <br><br>            <br><br>            <br><br>            <br><br>            <br><br>            <br><br>            <br><br>            <br><br>            <br><br>            <br><br>            <br><br>            <br><br>            <br><br>            <br>        <br><br>            <br>            <br><br>            <br><br>            <br><br>            <br><br>            <br><br>            <br><br>            <br><br>            <br><br>            <br><br>            <br><br>            <br><br><br><br><br>            <br>\t\t <br>            <br>\t\t <br>            <br>\t\t <br>            <br><br>            <br><br>            <br><br>            <br><br>            <br><br>            <br><br>            <br><br>            <br><br>            <br><br>            <br><br><br><br><br>            <br>\t\t <br>            <br>\t\t <br>            <br>\t\t <br>            <br>\t\t <br>            <br>\t\t <br>            <br>\t\t <br>            <br>\t\t <br>            <br><br>            <br><br>            <br><br>            <br><br>            <br><br>            <br><br><br><br>             <br>            <br>            <br>            <br>            <br><br>            <br>            <br><br>            <br>            <br><br>            <br><br>            <br><br>            <br><br>            <br><br>            <br><br>            <br><br>            <br>            <br><br>            <br><br>            <br><br>            <br><br>            <br><br>            <br><br>            <br><br>            <br><br>            <br><br>            <br><br>            <br><br>            <br><br>            <br><br>            <br><br>            <br><br>            <br><br>            <br><br>            <br><br>            <br><br>            <br><br>            <br><br>            <br><br>            <br><br>            <br><br>            <br><br>            <br><br>            <br><br>            <br><br>            <br><br>            <br><br>            <br><br>            <br><br>            <br><br>            <br><br>            <br><br>            <br><br>            <br><br>            <br>            <br><br>            <br><br>            <br><br>            <br><br>            <br>           <br>            <br><br>            <br><br>            <br><br>            <br><br>            <br><br>            <br><br>            <br><br>            <br><br>            <br><br>            <br>            <br><br>            <br><br>            <br><br>            <br>            <br><br>            <br><br>            <br><br>            <br><br>            <br>            <br><br>            <br><br>            <br><br>            <br><br>            <br><br>            <br>            <br><br>            <br><br>            <br><br>            <br><br>            <br>            <br>            <br><br>            <br><br>            <br>            <br><br>            <br><br>            <br><br>            <br><br>            <br><br>            <br><br>            <br><br>            <br><br>        <br><br>            <br><br>            <br><br>            <br><br>            <br><br>            <br>                <br><br>            <br><br>            <br><br>            <br><br>            <br><br>            <br>            <br>            <br><br>            <br>                        <br><br>            <br>            <br><br>            <br><br>            <br><br>            <br>            <br><br>            <br><br>            <br><br>            <br>            <br><br>            <br><br>            <br><br>            <br><br>            <br><br>            <br><br>            <br><br>            <br><br>            <br><br>            <br><br>            <br>            <br><br>            <br><br>            <br>            <br><br>            <br><br>            <br><br>            <br><br>            <br><br>            <br><br>            <br><br>            <br><br>            <br><br>            <br><br>            <br><br>            <br><br>            <br><br>            <br><br>            <br><br>            <br><br>            <br><br>            <br><br>            <br><br>            <br><br>            <br><br>            <br><br>            <br><br>            <br><br>            <br><br>            <br><br>            <br><br>            <br><br>            <br><br>            <br><br>            <br><br>            <br><br>            <br><br>            <br><br>            <br><br>            <br><br>            <br><br>            <br><br>            <br><br>            <br>            <br><br>            <br><br>            <br><br>            <br><br>            <br><br>            <br><br>            <br>            <br><br>            <br><br>            <br><br>            <br><br>            <br><br>            <br><br>            <br><br>            <br>            <br><br><br>            <br>            <br>           <br>            <br>            <br>            <br><br>            <br>            <br><br>            <br>            <br><br>            <br>            <br><br>            <br>            <br>            <br><br>            <br><br>            <br><br>            <br>            <br><br>            <br><br>            <br><br>            <br><br>            <br><br>            <br><br>            <br><br>            <br><br>            <br><br>            <br><br>            <br><br>            <br>            <br><br>            <br><br>            <br><br>            <br>            <br>            <br><br>            <br><br>            <br><br>            <br>            <br>            <br>            <br>            <br><br>            <br><br>            <br>            <br>            <br><br>            <br><br>            <br>            <br><br>            <br>            <br><br>            <br><br>            <br>            <br><br>            <br><br>            <br><br>            <br><br>            <br>            <br>            <br>            <br>            <br><br>            <br><br>            <br><br>            <br>            <br>            <br><br>            <br><br>            <br><br>            <br>            <br>            <br><br>            <br><br>            <br><br>            <br>            <br><br>            <br><br>            <br><br>            <br><br>            <br>            <br><br>            <br><br>            <br>            <br>            <br><br>            <br><br>            <br>            <br>            <br><br>            <br><br>            <br>            <br>            <br>            <br><br>            <br><br>            <br><br>            <br>            <br><br>            <br>            <br><br>            <br><br>            <br>            <br>            <br><br>            <br><br>            <br><br>            <br>            <br>            <br>            <br>            <br>            <br>            <br><br>            <br>            <br>            <br>            <br>            <br>            <br>            <br>            <br><br>            <br>            <br>            <br>            <br><br>            <br><br>            <br><br>            <br>            <br><br>            <br><br>            <br><br>            <br><br>            <br><br>            <br><br>            <br><br>            <br><br>            <br><br>            <br><br>            <br><br>            <br><br>            <br><br>            <br><br>            <br><br>            <br><br>            <br><br>            <br>            <br><br>            <br><br>            <br><br>            <br><br>            <br><br>            <br><br>            <br>            <br><br>            <br><br>            <br><br>            <br>            <br><br>            <br>            <br><br>            <br><br>            <br><br>            <br><br>            <br>            <br><br>            <br><br>            <br>            <br>            <br><br>            <br>            <br>            <br><br>            <br><br>            <br>            <br><br>            <br><br>            <br>            <br><br>            <br>            <br><br>            <br>            <br>            <br>            <br><br>            <br><br>            <br><br>            <br>            <br><br>            <br><br>            <br><br>            <br>            <br>            <br>            <br><br>            <br><br>            <br>            <br>            <br><br>            <br><br>            <br><br>            <br>            <br>            <br>            <br><br>            <br>            <br><br>            <br><br>            <br><br>            <br>            <br><br>            <br><br>            <br><br>            <br>            <br>            <br>            <br><br>            <br><br>            <br>            <br><br>            <br>            <br><br>            <br><br>            <br><br>            <br>            <br><br>            <br>            <br><br>            <br><br>            <br>            <br><br>            <br><br>            <br>            <br>            <br><br>            <br>            <br><br>            <br>            <br>            <br><br>            <br><br>            <br>            <br>            <br>            <br><br>            <br><br>            <br>            <br><br>            <br>            <br>            <br>            <br>            <br><br>            <br><br>            <br>            <br><br>            <br><br>            <br><br>            <br>            <br><br>            <br>            <br><br>            <br>            <br>            <br>            <br>            <br>            <br>            <br><br>            <br><br>            <br>            <br>            <br>            <br><br>            <br>            <br>            <br>            <br><br>            <br><br>            <br><br>            <br>            <br><br>            <br><br>            <br><br>            <br>            <br><br>            <br><br>            <br>            <br><br>            <br>            <br>            <br>            <br>            <br>            <br>            <br><br>            <br><br>            <br>            <br>            <br><br>            <br><br>            <br>            <br><br>            <br><br>            <br>            <br><br>            <br><br>            <br>            <br><br>            <br><br>            <br><br>            <br>            <br>            <br>            <br>            <br>            <br>            <br>            <br><br>            <br><br>            <br>            <br><br>            <br><br>            <br>            <br>            <br><br>            <br><br>            <br>            <br><br>            <br><br>            <br><br>            <br><br>            <br><br>            <br>            <br>            <br><br>            <br><br>            <br><br>            <br>            <br><br>            <br>            <br><br>            <br><br>            <br><br>            <br><br>            <br><br>            <br><br>            <br><br>            <br><br>            <br><br>            <br>            <br><br>            <br>            <br><br>            <br>            <br>            <br><br>            <br><br>            <br>            <br><br>            <br><br>            <br><br>            <br>            <br><br>            <br><br>            <br><br>            <br><br>            <br><br>            <br>            <br>            <br><br>            <br><br>            <br><br>            <br><br>            <br><br>            <br><br>            <br><br>            <br>            <br>            <br>            <br><br>            <br><br>            <br><br>            <br><br>            <br><br>            <br><br>            <br><br>            <br><br>            <br><br>            <br><br>            <br><br>            <br>            <br><br>            <br>            <br>            <br><br>            <br><br>            <br>            <br>            <br>            <br>            <br><br>            <br><br>            <br><br>            <br>            <br><br>            <br><br>            <br><br>            <br><br>            <br>            <br><br>            <br><br>            <br>            <br>            <br><br>            <br><br>            <br><br>            <br><br>            <br><br>            <br><br>            <br>            <br><br>            <br><br>            <br><br>            <br><br>            <br>            <br><br>            <br><br>            <br><br>            <br><br>            <br>            <br>            <br><br>            <br><br>            <br><br>            <br><br>            <br><br>            <br>           <br>            <br>            <br><br>            <br>            <br>            <br>            <br><br>            <br><br>            <br><br>            <br>            <br>            <br><br>            <br><br>            <br>            <br><br>            <br><br>            <br><br>            <br><br>            <br><br>            <br><br>            <br>            <br><br>            <br>            <br>            <br>            <br><br>            <br><br>            <br>            <br>            <br><br>            <br><br>            <br><br>            <br><br>            <br><br>            <br>            <br><br>            <br><br>            <br>            <br><br>            <br>            <br><br>            <br><br>            <br><br>            <br>            <br><br>            <br>            <br><br>            <br><br>            <br><br>            <br><br>            <br><br>            <br>            <br>            <br>            <br>            <br>            <br>            <br>            <br>            <br>            <br>            <br>            <br>            <br><br>            <br>            <br><br>            <br>           <br>            <br>            <br>            <br>            <br><br>            <br><br><br><br>            <br>            <br><br>            <br>            <br><br>            <br><br>            <br>            <br>            <br><br>            <br><br>            <br><br>            <br><br>            <br><br>            <br><br>            <br><br>            <br><br>            <br><br>            <br><br><br><br>            <br><br>            <br>            <br>            <br>            <br>            <br><br>            <br><br>            <br><br>            <br>            <br><br>            <br><br>            <br><br>            <br>            <br>            <br>            <br>            <br><br>            <br><br>            <br>            <br>            <br>            <br>            <br>            <br><br>            <br><br>            <br><br>            <br>            <br>            <br><br>            <br><br>            <br><br>            <br><br>            <br><br>            <br>            <br><br>            <br><br>            <br><br>            <br><br>            <br>            <br><br>            <br><br>            <br><br>            <br><br>            <br><br>            <br>            <br><br>            <br><br>            <br><br>            <br><br>            <br>            <br><br>            <br><br>            <br><br>            <br><br>            <br><br>            <br>            <br><br>            <br><br>            <br><br>            <br><br>            <br>            <br><br>            <br><br>            <br><br>            <br><br>            <br>            <br><br>            <br><br>            <br><br>            <br><br>            <br><br>            <br><br>            <br><br>            <br><br>            <br><br>            <br><br>            <br>            <br><br>            <br>          <br>            <br><br>            <br>            <br><br>            <br><br>            <br><br>            <br><br>            <br><br>            <br><br>            <br><br>            <br><br>            <br>            <br>        <br><br>            <br>            <br><br>            <br><br>            <br><br>            <br>                <br>            <br><br>            <br><br>            <br>            <br><br>            <br>            <br>            <br>            <br><br>            <br><br>            <br><br>            <br><br>            <br><br>            <br>            <br><br>            <br><br>            <br><br>            <br><br>            <br>            <br>            <br><br>            <br>            <br><br>            <br><br>            <br><br>            <br><br>            <br>           <br>            <br>            <br><br>            <br>            <br><br>            <br><br>            <br><br>            <br><br>            <br><br>            <br><br>            <br><br>            <br><br>            <br>            <br><br>            <br>            <br><br>            <br>                <br>            <br>            <br>            <br><br>            <br><br>            <br><br>            <br>            <br><br>            <br>            <br>            <br>            <br>            <br>            <br>            <br>            <br><br>            <br><br>            <br><br>            <br>            <br><br>            <br><br>            <br><br>            <br>            <br><br>            <br>            <br><br>        <br><br>            <br>            <br><br>            <br>            <br>            <br>            <br>            <br>            <br><br>            <br>            <br><br>            <br><br>            <br><br>            <br><br>            <br>            <br>            <br>            <br>            <br>            <br>            <br>            <br>            <br>            <br>            <br>            <br>            <br>            <br>            <br>            <br>            <br>            <br>            <br>            <br>            <br>            <br>            <br>            <br>            <br><br>            <br><br>            <br>            <br>            <br><br>            <br><br>            <br>            <br>            <br>            <br>            <br>            <br>            <br>            <br>            <br>            <br>            <br><br>            <br><br>            <br>            <br>            <br><br>            <br><br>            <br>            <br>            <br><br>            <br><br>            <br>            <br><br>            <br>            <br><br>            <br>            <br>            <br>            <br>            <br>            <br>            <br><br>            <br>            <br>            <br><br>            <br><br>            <br>            <br><br>            <br>            <br><br>            <br>            <br>            <br><br>            <br>            <br>            <br>            <br>            <br>            <br>            <br>            <br>            <br>            <br>            <br>            <br><br>            <br>            <br><br>            <br>            <br>            <br><br>            <br><br>            <br>            <br>            <br><br>            <br>            <br>            <br><br>            <br><br>            <br>            <br>            <br><br>            <br>            <br>            <br>            <br>            <br>            <br>            <br><br>            <br>            <br>            <br><br>            <br><br>            <br>            <br>            <br><br>            <br>            <br>            <br>            <br><br>            <br>            <br>            <br><br>            <br>            <br>            <br><br>            <br>            <br>            <br><br>            <br>            <br>            <br><br>            <br>            <br>            <br>            <br>            <br><br>            <br>            <br>            <br><br>            <br>            <br>            <br><br>            <br>            <br>            <br>            <br><br>            <br>            <br><br>            <br>            <br>            <br><br>            <br>            <br>            <br><br>            <br>            <br>            <br><br>            <br>            <br><br>            <br>            <br>            <br>            <br>            <br><br>            <br>            <br><br>            <br>            <br>            <br><br>            <br>            <br>            <br><br>            <br>            <br><br>            <br>            <br>            <br>            <br>            <br>            <br><br>            <br><br>            <br>            <br>            <br><br>            <br>            <br>            <br><br>            <br>            <br>            <br><br>            <br>            <br>            <br>            <br>            <br>            <br>            <br>            <br>            <br><br>            <br>            <br>            <br>            <br><br>            <br>            <br>            <br>            <br><br>            <br>            <br>            <br>            <br><br>            <br>            <br><br>            <br>            <br>            <br>            <br><br>            <br>            <br>            <br>            <br><br>            <br>            <br><br>            <br>            <br>            <br><br>            <br><br>            <br>            <br>            <br><br>            <br>            <br>            <br><br>            <br>            <br>            <br>            <br><br>            <br><br>            <br>            <br>            <br>            <br>            <br>            <br>            <br>            <br>            <br>            <br>            <br>            <br><br>            <br>            <br>            <br><br>            <br>            <br>            <br>            <br>            <br><br>            <br>            <br><br>            <br>            <br>            <br><br>            <br>            <br><br>            <br>            <br>            <br><br>            <br>            <br>            <br><br>            <br>            <br>            <br>            <br><br>            <br>            <br>            <br>            <br>            <br><br>            <br>            <br>            <br>            <br><br>            <br>            <br>            <br>            <br>            <br><br>            <br>            <br><br>            <br>            <br><br>            <br>            <br>            <br><br>            <br>            <br>            <br>            <br>            <br>            <br>            <br><br>            <br>            <br>            <br><br>            <br>            <br>            <br>            <br>            <br><br>            <br>            <br>            <br><br>            <br>            <br>            <br>            <br>            <br>            <br>            <br>            <br>            <br>            <br>            <br><br>            <br><br>            <br>            <br><br>            <br>            <br>            <br>            <br>            <br>            <br>            <br>            <br>            <br><br>            <br>            <br>            <br><br>            <br>            <br>            <br><br>            <br>            <br>            <br>            <br>            <br>            <br><br>            <br>            <br>            <br>            <br>            <br>            <br>            <br><br>            <br>            <br>            <br><br>            <br>            <br>            <br><br>            <br>            <br>            <br><br>            <br>            <br>            <br>            <br>            <br>            <br>            <br>            <br><br>            <br>            <br>            <br>            <br>            <br><br>            <br>            <br>            <br>            <br><br>            <br>            <br>            <br>            <br><br>            <br>            <br>            <br>            <br>            <br>            <br><br>            <br>            <br><br>            <br>            <br><br>            <br>            <br>            <br>            <br>            <br><br>            <br>            <br>            <br><br>            <br>            <br><br>            <br>            <br>            <br>            <br>            <br><br>            <br>            <br>            <br>            <br> <br>            <br><br>            <br>            <br>            <br>            <br>            <br>            <br><br>            <br>            <br><br>            <br>            <br><br>            <br>            <br><br>            <br>            <br>            <br><br>            <br>            <br>            <br>            <br>            <br>            <br>            <br>            <br><br>            <br>            <br>            <br>            <br>            <br>            <br>            <br>            <br>            <br>            <br><br>            <br>            <br>            <br><br>            <br>            <br>            <br>            <br>            <br>            <br>            <br>            <br>            <br>            <br><br>            <br>            <br>            <br>            <br><br>            <br>            <br>            <br>            <br>            <br><br>            <br>            <br>            <br>            <br>            <br>            <br>            <br>            <br>            <br>            <br>            <br>            <br>            <br>            <br><br>            <br>            <br>            <br>            <br>            <br><br>            <br>            <br>            <br>            <br>            <br>            <br><br>            <br>            <br>            <br>            <br><br>            <br>            <br>            <br>            <br>            <br><br>            <br>            <br><br>            <br>            <br><br>            <br>            <br><br>            <br>            <br><br>            <br>            <br>            <br>            <br><br>            <br>            <br>            <br><br>            <br>            <br>            <br>            <br><br>            <br>            <br>            <br>            <br>            <br>            <br><br>            <br>            <br>            <br><br>            <br>            <br>            <br><br>            <br>            <br>            <br>            <br>            <br>            <br>            <br>            <br><br>            <br>            <br>            <br>            <br><br>            <br>            <br><br>            <br>            <br>            <br>            <br>            <br>            <br>            <br>            <br>            <br><br>            <br>            <br>            <br>            <br>            <br>            <br>            <br><br>            <br>            <br>            <br>            <br>            <br>            <br>            <br>            <br>            <br>            <br>            <br>            <br>            <br>            <br>            <br>            <br>            <br>            <br><br>            <br>            <br>            <br>            <br>            <br>            <br>            <br>            <br>            <br>            <br><br>            <br>            <br>            <br>            <br>            <br>            <br>            <br>            <br>            <br><br>            <br>            <br>            <br><br>            <br>            <br>            <br>            <br>            <br>            <br>            <br>            <br>            <br>            <br><br>            <br>            <br>            <br>            <br>            <br><br>            <br>            <br>            <br>            <br>            <br>            <br>            <br>            <br>            <br>            <br>            <br>            <br>            <br>            <br><br>            <br>            <br>            <br>            <br>            <br>            <br>            <br><br>            <br>            <br>            <br>            <br>            <br>            <br>            <br><br>            <br>            <br>            <br>            <br><br>            <br><br>            <br>            <br>            <br>            <br>            <br>            <br><br>            <br>            <br>            <br>            <br><br>            <br>            <br>            <br>            <br>            <br><br>            <br>            <br><br>            <br>            <br>            <br>            <br><br>            <br>            <br><br>            <br>            <br><br>            <br>            <br>            <br>            <br>            <br>            <br>            <br>            <br><br>            <br>            <br>            <br>            <br>            <br>            <br><br>            <br>            <br>            <br>            <br>            <br>            <br><br>            <br>            <br>            <br>            <br>            <br>            <br><br>            <br>            <br>            <br><br>            <br>            <br>            <br><br>            <br>            <br>            <br><br>            <br>            <br><br>            <br>            <br><br>            <br>            <br><br>            <br>            <br>            <br><br>            <br>            <br><br>            <br>            <br>            <br>            <br>            <br><br>            <br>            <br><br>            <br>            <br><br>            <br>            <br>            <br><br>            <br>            <br>            <br><br>            <br>            <br>            <br><br>            <br>            <br>            <br><br>            <br>            <br>            <br>            <br><br>            <br>            <br><br>            <br>            <br>            <br><br>            <br>            <br><br>            <br>            <br>            <br>            <br>            <br>            <br>            <br>            <br>            <br>            <br>            <br><br>            <br>            <br><br>            <br>            <br>            <br>            <br>            <br>            <br>            <br>            <br><br>            <br>            <br>            <br>            <br>            <br><br>            <br>            <br>            <br>            <br><br>            <br>            <br>            <br><br>            <br>            <br>            <br>            <br>            <br><br>            <br>            <br>            <br>            <br>            <br>            <br>            <br>            <br>            <br>            <br>            <br><br>            <br>            <br>            <br>            <br>            <br><br>            <br>            <br>            <br>            <br>            <br><br>            <br>            <br>            <br>            <br>            <br>            <br>            <br><br>            <br>            <br>            <br>            <br>            <br>            <br>            <br>            <br>            <br>            <br>            <br>            <br><br>            <br>            <br>            <br>            <br>            <br>            <br>            <br>            <br>            <br><br>            <br>            <br>            <br><br>            <br>            <br>            <br>            <br>            <br>            <br>            <br>            <br>            <br>            <br>            <br>            <br>            <br>            <br>            <br>            <br>            <br>            <br><br>            <br>            <br>            <br>            <br>            <br>            <br>            <br>            <br><br>            <br>            <br>            <br><br>            <br><br>            <br>            <br>            <br>            <br>            <br>            <br>            <br>            <br>            <br>            <br>            <br>            <br>            <br>            <br>            <br>            <br>            <br>            <br>            <br><br>            <br>            <br><br>            <br>            <br>            <br>            <br><br>            <br>            <br>            <br>            <br>            <br>            <br>            <br>            <br>            <br>            <br>            <br>            <br>            <br>            <br>            <br>            <br>            <br>            <br>            <br>            <br>            <br>            <br>            <br>            <br><br>            <br>            <br>            <br>            <br><br>            <br>            <br>            <br>            <br>            <br>            <br>            <br>            <br>            <br>            <br>            <br>            <br>            <br>            <br>            <br><br>            <br>            <br>            <br>            <br>            <br>            <br><br>            <br>            <br>            <br>            <br>            <br>            <br><br>            <br>            <br>            <br>            <br>            <br><br>            <br>            <br>            <br><br>            <br>            <br>            <br><br>            <br>            <br>            <br>            <br>            <br>            <br>            <br><br>            <br>            <br>            <br>            <br>            <br>            <br><br>            <br>            <br>            <br>            <br>            <br>            <br>            <br>            <br><br>            <br>            <br>            <br>            <br>            <br><br>            <br>            <br>            <br>            <br>            <br>            <br>            <br><br>            <br>            <br>            <br>            <br><br>            <br>            <br>            <br>            <br><br>            <br>            <br>            <br><br>            <br>            <br><br>            <br>            <br>            <br>            <br><br>            <br>            <br><br>            <br>            <br>            <br>            <br>            <br>            <br>            <br>            <br>            <br>            <br>            <br><br>            <br>            <br><br>            <br>            <br>            <br>            <br><br>            <br>            <br>            <br>            <br>            <br>            <br>            <br>            <br>            <br>            <br>            <br>            <br>            <br>            <br><br>            <br>            <br>            <br>            <br>            <br>            <br>            <br>            <br>            <br>            <br>            <br>            <br>            <br>            <br>            <br>            <br><br>            <br>            <br><br>            <br>            <br>            <br><br>            <br>            <br>            <br>            <br>            <br>            <br>            <br>            <br>            <br>            <br>            <br><br>            <br>            <br>            <br>            <br><br>            <br>            <br><br>            <br>            <br>            <br>            <br>            <br>            <br>            <br>            <br>            <br>            <br>            <br>            <br>            <br>            <br>            <br>            <br>            <br><br>            <br>            <br>            <br>            <br>            <br>            <br>            <br>            <br>            <br>            <br>            <br>            <br><br>            <br>            <br>            <br>            <br>            <br>            <br>            <br>            <br>            <br>            <br>            <br>            <br>            <br>            <br>            <br>            <br>            <br>            <br>            <br>            <br>            <br>            <br><br>            <br>            <br><br>            <br>            <br>            <br>            <br>            <br><br>            <br>            <br>            <br>            <br><br>            <br>            <br>            <br>            <br>            <br>            <br>            <br>            <br>            <br>            <br>            <br><br>            <br>            <br>            <br>            <br>            <br>            <br>            <br><br>            <br>            <br>            <br>            <br>            <br>            <br><br>            <br>            <br>            <br>            <br>            <br><br>            <br>            <br><br>            <br>            <br>            <br><br>            <br>            <br>            <br><br>            <br>            <br>            <br><br>            <br>            <br>            <br>            <br>            <br>            <br>            <br>            <br>            <br>            <br>            <br><br>            <br>            <br>            <br>            <br><br>            <br>            <br>            <br>            <br>            <br>            <br>            <br>            <br>            <br>            <br>            <br>            <br>            <br>            <br>            <br>            <br>            <br>            <br>            <br>            <br>            <br>            <br>            <br>            <br>            <br>            <br>            <br>            <br>            <br>            <br>            <br>            <br>            <br><br>            <br>            <br>            <br>            <br>            <br>            <br>            <br>            <br>            <br>            <br>            <br>            <br>            <br>            <br>            <br>            <br>            <br>            <br>            <br>            <br>            <br>            <br>            <br><br>            <br>            <br>            <br>            <br>            <br>            <br>            <br>            <br>            <br>            <br>            <br>            <br>            <br>            <br><br>            <br>            <br>            <br>            <br>            <br>            <br>            <br>            <br>            <br>            <br>            <br>            <br>            <br>            <br>            <br>            <br>            <br>            <br>            <br>            <br>            <br>            <br>            <br>            <br>            <br>            <br>            <br>            <br>            <br>            <br>            <br>            <br>            <br>            <br>            <br><br>            <br>            <br>            <br>            <br>            <br>            <br>            <br><br>            <br>            <br>            <br><br>            <br>            <br>            <br><br>            <br>            <br>            <br><br>            <br>            <br>            <br>            <br>            <br>            <br><br>            <br>            <br>            <br>            <br>            <br>            <br>            <br><br>            <br>            <br>            <br><br>            <br>            <br>            <br>            <br>            <br>            <br>            <br>            <br>            <br>            <br>            <br>            <br>            <br>            <br>            <br>            <br>            <br>            <br>            <br>            <br>            <br>            <br>            <br>            <br>            <br>            <br><br>            <br>            <br><br>            <br>            <br>            <br>            <br>            <br>            <br>            <br>            <br>            <br>            <br>            <br>            <br>            <br>            <br>            <br>            <br>            <br>            <br>            <br>            <br>            <br>            <br>            <br>            <br>            <br><br>            <br>            <br>            <br>            <br>            <br>            <br>            <br>            <br>            <br>            <br>            <br><br>            <br>            <br>            <br>            <br>            <br>            <br>            <br>            <br><br>            <br>            <br>            <br>            <br>            <br>            <br>            <br>            <br>            <br>            <br>            <br>            <br>            <br>            <br>            <br>            <br><br>            <br>            <br>            <br>            <br>            <br>            <br>            <br>            <br><br>            <br>            <br>            <br>            <br>            <br>            <br>            <br><br>            <br>            <br>            <br>            <br>            <br>            <br><br>            <br>            <br><br>            <br>            <br>            <br>            <br>            <br>            <br>            <br>            <br>            <br>            <br>            <br>            <br>            <br>            <br>            <br>            <br>            <br>            <br>            <br>            <br>            <br>            <br>            <br>            <br>            <br>            <br>            <br>            <br>            <br>            <br>            <br>            <br><br>            <br>            <br>            <br>            <br>            <br>            <br>            <br><br>            <br>            <br>            <br>            <br>            <br>            <br>            <br>            <br><br>            <br>            <br>            <br>            <br>            <br>            <br>            <br>            <br>            <br>            <br>            <br>            <br>            <br>            <br>            <br>            <br>            <br>            <br>            <br>            <br>            <br>            <br><br>            <br>            <br>            <br>            <br>            <br>            <br>            <br>            <br>            <br>            <br>            <br>            <br>            <br>            <br>            <br>            <br>            <br>           <br>            <br>            <br>            <br>            <br>            <br><br>            <br><br>            <br>            <br>            <br>            <br>            <br>            <br>            <br>            <br>            <br>            <br>            <br>            <br>            <br>            <br>            <br>            <br><br>            <br><br>            <br>            <br>            <br>            <br>            <br>            <br>            <br><br>            <br>            <br>            <br>            <br>            <br>            <br>            <br>            <br>            <br>            <br>            <br>            <br>            <br>            <br>            <br>            <br>            <br>            <br>            <br>            <br>            <br>            <br><br>            <br>            <br><br>            <br>            <br>            <br>            <br>            <br>            <br>            <br>            <br>            <br>            <br>            <br>            <br>            <br>            <br>            <br>            <br>            <br>            <br>            <br>            <br>            <br>            <br>            <br>            <br>            <br>            <br>            <br>            <br>            <br>            <br>            <br>            <br>            <br>            <br>            <br>            <br>            <br>            <br>            <br>            <br>            <br>            <br>            <br>            <br>            <br>            <br>            <br>            <br>            <br>            <br>            <br>            <br>            <br>            <br>            <br>            <br>            <br>            <br>            <br>            <br>            <br>            <br>            <br>            <br>            <br>            <br>            <br>            <br>            <br>            <br>            <br>            <br>            <br>            <br>            <br>            <br>            <br>            <br>            <br>            <br>            <br>            <br><br>            <br>            <br>            <br>            <br>            <br>            <br>            <br>            <br>            <br>            <br>            <br>            <br>            <br>            <br>            <br>            <br>            <br><br>            <br>            <br>            <br>            <br>            <br>            <br>            <br>            <br>            <br>            <br>            <br>            <br>            <br>            <br>            <br>            <br>            <br>            <br>            <br>            <br>            <br>            <br>            <br><br>            <br>            <br>            <br>            <br>            <br>            <br>            <br>            <br>            <br>            <br>            <br>            <br>            <br>            <br>            <br>            <br>            <br>            <br>            <br>            <br>            <br>            <br>            <br>            <br>            <br>            <br>            <br>            <br>            <br>            <br>            <br>            <br>            <br>            <br>            <br><br>            <br><br><br><br>            <br>            <br>            <br>            <br><br>            <br>            <br>            <br>            <br>            <br>            <br>            <br><br>            <br>            <br>            <br>            <br>            <br>            <br>            <br>            <br><br>            <br><br>            <br>            <br>            <br>            <br>            <br>            <br>            <br>            <br>            <br>            <br>            <br>            <br>            <br>            <br>            <br>            <br><br>            <br><br>            <br>            <br>            <br>            <br>            <br>            <br>            <br>            <br>            <br>            <br>            <br>            <br>            <br>            <br>            <br><br>            <br><br><br>            <br><br>            <br>            <br><br>            <br>            <br>            <br>            <br>            <br>            <br>            <br>            <br>            <br>            <br>            <br>            <br>            <br>            <br>            <br><br>            <br><br>            <br>            <br>            <br>            <br>            <br>            <br>            <br>            <br>            <br>            <br>            <br>            <br>            <br>            <br>            <br>            <br><br>            <br>            <br>            <br>            <br>            <br>            <br>            <br>            <br>            <br>            <br>            <br>            <br>            <br>            <br>            <br>            <br>            <br>            <br>            <br>            <br>            <br>            <br>            <br><br>            <br>            <br>            <br>            <br>            <br>            <br>            <br>            <br>            <br>            <br>            <br>            <br>            <br>            <br>            <br>            <br>            <br>            <br>            <br>            <br>            <br>            <br>            <br>            <br>            <br>            <br>            <br>            <br>            <br>            <br>            <br>            <br>            <br><br>            <br><br>            <br>            <br>            <br>            <br>            <br>            <br>            <br><br>            <br>            <br>            <br>            <br>            <br>            <br>            <br>            <br>            <br>            <br>            <br>            <br>            <br>            <br>            <br><br>            <br><br><br>            <br>            <br>            <br>            <br>            <br>            <br>            <br>            <br>            <br>            <br>            <br>            <br>            <br><br>            <br>            <br>            <br>            <br>            <br>            <br><br>            <br><br>            <br>            <br>            <br>            <br>            <br>            <br>            <br>            <br>            <br>            <br>            <br>            <br>            <br>            <br><br>            <br>            <br>            <br>            <br>            <br>            <br>            <br>            <br>            <br>            <br>            <br>            <br>            <br>            <br>            <br>            <br>            <br><br>            <br><br><br>            <br>            <br>            <br>            <br>            <br>            <br>            <br>            <br>            <br>            <br>            <br>            <br>            <br>            <br>            <br>            <br>            <br>            <br>            <br>            <br>            <br><br>            <br><br>            <br>            <br>            <br><br>            <br><br>            <br>            <br>            <br>            <br>            <br>            <br>            <br>            <br>            <br>            <br>            <br>            <br>            <br>            <br>            <br>            <br>            <br>            <br>            <br>            <br>            <br>            <br>            <br>            <br>            <br>            <br>            <br>            <br>            <br>            <br>            <br>            <br>            <br>            <br>            <br>            <br>            <br>            <br>            <br>            <br>            <br>            <br>            <br>            <br>            <br>            <br>            <br>            <br>            <br>            <br>            <br><br>            <br>            <br>            <br>            <br>            <br>            <br>            <br>            <br>            <br>            <br>            <br>            <br>            <br>            <br><br>            <br>            <br>            <br>            <br>            <br>            <br>            <br>            <br>            <br>            <br>            <br>            <br>            <br>            <br>            <br>            <br>            <br>            <br>            <br><br>            <br><br>            <br>            <br>            <br><br>            <br>            <br>            <br>            <br>            <br><br>            <br>            <br>            <br>            <br>            <br>            <br><br>            <br><br><br><br><br>            <br>            <br>            <br>            <br>            <br>            <br>            <br>            <br>            <br>            <br>            <br>            <br>            <br>            <br>            <br>            <br>            <br>            <br>            <br>            <br>            <br>            <br>            <br>            <br>            <br>            <br>            <br>            <br>            <br>            <br>            <br>            <br>            <br><br>            <br><br>            <br>            <br>            <br>            <br>            <br>            <br>            <br>            <br>            <br>            <br>            <br>            <br>            <br>            <br>            <br>            <br>            <br>            <br>            <br>            <br>            <br>            <br>            <br>            <br>            <br>            <br>            <br>            <br>            <br>            <br>            <br>            <br>            <br>            <br>            <br>            <br>            <br>            <br>            <br>            <br>            <br>            <br>            <br>            <br>            <br>            <br>            <br>            <br>            <br>            <br>            <br>            <br><br>            <br>           <br>            <br>            <br>            <br>            <br>            <br>            <br>            <br>            <br>            <br>            <br>            <br>            <br>            <br>            <br>            <br>            <br>            <br>            <br>            <br>            <br>            <br>            <br>            <br>            <br>            <br>            <br>            <br>            <br>            <br>            <br>            <br>            <br>            <br>            <br>            <br>            <br>            <br>            <br>            <br>            <br>            <br>            <br>            <br>            <br>            <br>            <br>            <br>            <br>            <br>            <br>            <br>            <br>            <br>            <br>            <br>            <br>            <br>            <br>            <br>            <br>            <br>            <br>            <br>            <br>            <br>            <br>            <br>            <br>            <br>            <br>            <br>            <br>            <br>            <br>            <br>            <br>            <br>            <br>            <br>            <br>            <br>            <br>            <br>            <br>            <br>            <br>            <br>            <br>            <br>            <br>            <br>            <br>            <br>            <br>            <br>            <br>            <br>            <br>            <br>            <br>            <br>            <br>            <br>            <br>            <br>            <br>            <br>            <br>            <br>            <br>            <br>            <br>            <br>            <br>            <br>            <br>            <br><br>            <br><br><br>            <br>            <br>            <br>            <br>            <br>            <br>            <br>            <br>            <br>            <br><br>            <br><br> <br>            <br>            <br>            <br>            <br>            <br>            <br>            <br>            <br>            <br>            <br>            <br>            <br>            <br>            <br>            <br>            <br>            <br>            <br>            <br><br>            <br>            <br><br>            <br>           <br>            <br>            <br>            <br>            <br>            <br>            <br>            <br>            <br>            <br>            <br>            <br>            <br>            <br>            <br>            <br>            <br>            <br><br>            <br>                <br>            <br>            <br>            <br>            <br>            <br>            <br>            <br>            <br>            <br>            <br>            <br>            <br>            <br>            <br>            <br>            <br>            <br>            <br>            <br>            <br>            <br>            <br>            <br>            <br>            <br>            <br>            <br>            <br>            <br>            <br>            <br>            <br>            <br>            <br>            <br>            <br>            <br>            <br>            <br>            <br>            <br>            <br>            <br>            <br>            <br>            <br>            <br>            <br>            <br>            <br>            <br>            <br>            <br>            <br>            <br>            <br>            <br>            <br>            <br>            <br>            <br>            <br>            <br>            <br>            <br>            <br>            <br>            <br>            <br>            <br>            <br>            <br>            <br>            <br>            <br>            <br>            <br>            <br>            <br>            <br>            <br>            <br>            <br>            <br>            <br>            <br>            <br>            <br>            <br>            <br>            <br>            <br>            <br>            <br>            <br>            <br>            <br>            <br>            <br>            <br>            <br>            <br>            <br>            <br>            <br>            <br>            <br>            <br>            <br>            <br>            <br>            <br>            <br>            <br>            <br>            <br>            <br>            <br>            <br>            <br>            <br>            <br>            <br>            <br>            <br>            <br>            <br>            <br>            <br>            <br>            <br>            <br>            <br>            <br>            <br>            <br>            <br>            <br>            <br>            <br>            <br>            <br>            <br>            <br>            <br>            <br>            <br>            <br>            <br>            <br>            <br>            <br>            <br>            <br>            <br>            <br>            <br>            <br>            <br>            <br>            <br>            <br>            <br>            <br>            <br>            <br>            <br>            <br>            <br>            <br>            <br>            <br>            <br>            <br>            <br>            <br>            <br>            <br>            <br>            <br>            <br>            <br>            <br>            <br>            <br>            <br>            <br>            <br>            <br>            <br>            <br>            <br>            <br>            <br>            <br>            <br>            <br>            <br>            <br>            <br>            <br>            <br>            <br>            <br>            <br>            <br>            <br>            <br>            <br>            <br>            <br>            <br><br>            <br><br><br><br>            <br>            <br>            <br>            <br>            <br>            <br>            <br>            <br>            <br>            <br>            <br>            <br>            <br>            <br>            <br>            <br>            <br>            <br>            <br>            <br>            <br>            <br>            <br>            <br>            <br>            <br>            <br>            <br>            <br>            <br>            <br>            <br>            <br>            <br>            <br>            <br>            <br>            <br>            <br>            <br>            <br>            <br>            <br>            <br>            <br>            <br>            <br>            <br>            <br>            <br>            <br>            <br>            <br>            <br>            <br>            <br>            <br>            <br>            <br>            <br>            <br>            <br>            <br>            <br><br>            <br><br><br>            <br><br>            <br>            <br>            <br>            <br>            <br>            <br>            <br>            <br>            <br>            <br>            <br>            <br>            <br>            <br>            <br>            <br>            <br>            <br>            <br>            <br><br>            <br>            <br>            <br>            <br>            <br>            <br>            <br>            <br>            <br>            <br>            <br>            <br>            <br><br>            <br><br><br>            <br>            <br>            <br>            <br>            <br>            <br>            <br>            <br>            <br>            <br>            <br>            <br>            <br>            <br>            <br>            <br><br>            <br><br><br>            <br>            <br>            <br>            <br>            <br>            <br>            <br>            <br>            <br>            <br>            <br>            <br>            <br>            <br>            <br>            <br>            <br>            <br>            <br>            <br>            <br>            <br>            <br>            <br>            <br>            <br>            <br>            <br>            <br>            <br>            <br>            <br>            <br>            <br>            <br>            <br>            <br>            <br>            <br>            <br>            <br>            <br>            <br>            <br>            <br>            <br>            <br>            <br>            <br>            <br>            <br>            <br>            <br>            <br>            <br>            <br>            <br>            <br>            <br>            <br>            <br>            <br>            <br>            <br>            <br>            <br>            <br>            <br>            <br>            <br>            <br>            <br>            <br>            <br>            <br>            <br>            <br>            <br>            <br>            <br>            <br>            <br>            <br>            <br>            <br>            <br>            <br><br>            <br><br><br>           <br>            <br>            <br>            <br>            <br>            <br>            <br>            <br>            <br>            <br>            <br>            <br>            <br>            <br>            <br>            <br>            <br>            <br>            <br>            <br>            <br>            <br>            <br>            <br>            <br>            <br>            <br>            <br>            <br>            <br>            <br>            <br>            <br>            <br>            <br>            <br>            <br>            <br>            <br>            <br>            <br>            <br>            <br>            <br>            <br>            <br>            <br>            <br>            <br>            <br>            <br>            <br>            <br>            <br>            <br>            <br>            <br>            <br>            <br>            <br>            <br>            <br>            <br>            <br>            <br>            <br>            <br>            <br>            <br>            <br>            <br>            <br>            <br>            <br>            <br>            <br>            <br>            <br>            <br>            <br>            <br>            <br>            <br>            <br>            <br>            <br>            <br>            <br>            <br>            <br>            <br>            <br>            <br>            <br>            <br>            <br>            <br>            <br>            <br>            <br>            <br>            <br>            <br>            <br>            <br>            <br>            <br>            <br>            <br>            <br>            <br>            <br>            <br>            <br>            <br>            <br>            <br>            <br>            <br>            <br>            <br>            <br><br>            <br><br><br> <br>            <br>            <br>            <br>            <br>            <br>            <br>            <br>            <br>            <br>            <br>            <br>            <br>            <br>            <br>            <br>            <br>            <br>            <br>            <br>            <br>            <br>            <br>            <br>            <br>            <br>            <br>            <br>            <br>            <br>            <br>            <br>            <br>            <br>            <br>            <br>            <br>            <br>            <br>            <br>            <br>            <br>            <br>            <br>            <br>            <br>            <br>            <br>            <br>            <br>            <br>            <br>            <br>            <br>            <br>            <br>            <br>            <br>            <br>            <br>            <br>            <br>            <br>            <br>            <br>            <br>            <br>            <br>            <br>            <br>            <br>            <br>            <br>            <br>            <br>            <br>            <br>            <br>            <br>            <br>            <br>            <br>            <br>            <br>            <br>            <br>            <br>            <br>            <br>            <br>            <br>            <br>            <br>            <br>            <br>            <br>            <br>            <br>            <br>            <br>            <br>            <br>            <br>            <br>            <br>            <br>            <br>            <br>            <br>            <br>            <br>            <br>            <br>            <br>            <br>            <br>            <br>            <br>            <br>            <br>            <br>            <br>            <br>            <br>            <br>            <br>            <br>            <br>            <br>            <br>            <br>            <br>            <br>            <br>            <br>            <br>            <br>            <br>            <br>            <br>            <br>            <br>            <br>            <br>            <br>            <br>            <br>            <br>            <br>            <br>            <br>            <br>            <br>            <br>            <br>            <br>            <br>            <br>            <br>            <br>            <br><br>            <br><br><br><br>           <br>            <br>            <br>            <br>            <br>            <br>            <br>            <br>            <br>            <br>            <br>            <br>            <br>            <br>            <br>            <br>            <br>            <br>            <br>            <br>            <br>            <br>            <br>            <br>            <br>            <br>            <br>            <br>            <br>            <br>            <br>            <br>            <br>            <br>            <br>            <br>            <br>            <br>            <br>            <br>            <br>            <br>            <br>            <br>            <br>            <br>            <br>            <br>            <br>            <br>            <br>            <br>            <br>            <br>            <br>            <br>            <br>            <br>            <br>            <br>            <br>            <br>            <br>            <br>            <br>            <br>            <br>            <br>            <br>            <br><br>            <br><br><br><br>            <br>            <br>            <br>            <br>            <br>            <br>            <br>            <br>            <br>            <br>            <br>            <br>            <br>            <br>            <br>            <br>            <br>            <br>            <br>            <br>            <br><br>            <br><br><br><br>            <br>            <br>            <br>            <br>            <br>            <br>            <br>            <br>            <br>            <br>            <br>            <br>            <br>            <br>            <br>            <br>            <br>            <br>            <br>            <br>            <br>            <br>            <br>            <br>            <br>            <br>            <br>            <br>            <br>            <br>            <br>            <br>            <br>            <br>            <br>            <br>            <br>            <br>            <br>            <br>            <br>            <br>            <br>            <br>            <br>            <br>            <br>            <br>            <br>            <br>            <br>            <br>            <br>            <br>            <br>            <br><br>            <br>             <br>            <br>            <br>            <br>            <br>            <br>            <br>            <br>            <br>            <br>            <br>            <br>            <br>            <br>            <br>            <br>            <br>            <br>            <br>            <br>            <br>            <br>            <br>            <br>            <br>            <br>            <br>            <br>            <br>            <br>            <br>            <br>            <br>            <br>            <br>            <br>            <br>            <br>            <br>            <br>            <br>            <br>            <br>            <br>            <br>            <br>            <br>            <br>            <br>            <br>            <br>            <br>            <br>            <br>            <br>            <br>            <br>            <br>            <br>            <br>            <br>            <br>            <br>            <br>            <br>            <br>            <br>            <br>            <br>            <br>            <br>            <br>            <br>            <br>            <br>            <br>            <br>            <br>            <br>            <br>            <br>            <br>            <br>            <br>            <br>            <br>            <br>            <br>            <br>            <br>            <br>            <br>            <br>            <br>            <br>            <br>            <br>            <br>            <br>            <br>            <br>            <br>            <br>            <br>            <br>            <br><br>            <br><br><br>            <br>            <br>            <br>            <br>            <br>            <br>            <br>            <br>            <br>            <br>            <br>            <br>            <br>            <br>            <br>            <br>            <br>            <br>            <br>            <br>            <br>            <br>            <br>            <br>            <br>            <br>            <br>            <br>            <br>            <br>            <br>            <br>            <br>            <br>            <br>            <br>            <br>            <br>            <br>            <br>            <br>            <br>            <br>            <br>            <br>            <br>            <br>            <br>            <br>            <br>            <br>            <br>            <br><br>            <br><br><br>            <br>            <br>            <br>            <br>            <br>            <br>            <br>            <br>            <br>            <br>            <br>            <br>            <br>            <br>            <br>            <br>            <br>            <br><br>            <br><br><br> <br>            <br>            <br>            <br>            <br>            <br>            <br><br>            <br>            <br>            <br>            <br>            <br>            <br>            <br>            <br>            <br>            <br>            <br>            <br>            <br>            <br>            <br>            <br>            <br>            <br>            <br>            <br>            <br>            <br>            <br>            <br>            <br>            <br>            <br>            <br>            <br>            <br>            <br>            <br>            <br>            <br>            <br>            <br>            <br>            <br>            <br>            <br>            <br>            <br>            <br>            <br>            <br>            <br>            <br>            <br>            <br>            <br>            <br>            <br>            <br>            <br>            <br>            <br>            <br>            <br>            <br>            <br>            <br>            <br>            <br>            <br>            <br>            <br>            <br>            <br>            <br>            <br>            <br>            <br>            <br>            <br>            <br>            <br>            <br>            <br>            <br>            <br>            <br>            <br>            <br>            <br><br>            <br><br><br><br><br>           <br>            <br>            <br>            <br>            <br>            <br>            <br>            <br>            <br>            <br>            <br>            <br>            <br>            <br>            <br><br>            <br><br> <br>            <br>            <br>            <br>            <br>            <br>            <br>            <br>            <br><br>            <br>            <br>            <br>            <br>            <br>            <br>            <br>            <br>            <br>            <br>            <br>            <br>            <br>            <br>            <br>            <br>            <br>            <br>            <br>            <br>            <br>            <br>            <br>            <br>            <br>            <br>            <br>            <br>            <br>            <br>            <br>            <br>            <br>            <br>            <br>            <br>            <br>            <br>            <br>            <br>            <br>            <br>            <br>            <br>            <br>            <br>            <br>            <br>            <br>            <br>            <br>            <br>            <br>            <br>            <br>            <br>            <br>            <br>            <br>            <br>            <br>            <br>            <br>            <br>            <br>            <br>            <br><br>            <br><br><br>            <br>            <br>            <br>            <br>            <br>            <br>            <br>            <br>            <br>            <br>            <br>            <br>            <br><br>            <br>            <br>            <br>            <br>            <br>            <br>            <br>            <br>            <br>            <br>            <br>            <br>            <br>            <br>            <br>            <br>            <br>            <br>            <br>            <br>            <br>            <br>            <br>            <br>            <br>            <br>            <br>            <br>            <br>            <br>            <br>            <br>            <br>            <br>            <br>            <br>            <br>            <br>            <br>            <br>            <br>            <br>            <br>            <br>            <br>            <br>            <br>            <br>            <br>            <br>            <br><br>            <br><br><br>            <br>            <br>            <br>            <br>            <br>            <br>            <br>            <br>            <br>            <br>            <br>            <br>            <br>            <br>            <br>            <br>            <br>            <br>            <br>            <br>            <br>            <br>            <br>            <br>            <br>            <br>            <br>            <br>            <br>            <br>            <br>            <br>            <br>            <br>            <br>            <br>            <br>            <br>            <br>            <br>            <br>            <br>            <br>            <br>            <br>            <br>            <br>            <br>            <br>            <br>            <br>            <br>            <br>            <br>            <br>            <br>            <br>            <br>            <br>            <br>            <br>            <br>            <br>            <br>            <br>            <br>            <br>            <br>            <br>            <br>            <br>            <br>            <br>            <br>            <br>            <br>            <br>            <br>            <br>            <br>            <br>            <br>            <br>            <br>            <br>            <br>            <br>            <br>            <br>            <br>            <br>            <br>            <br>            <br>            <br>            <br>            <br>            <br>            <br>            <br>            <br>            <br>            <br>            <br>            <br>            <br>            <br>            <br>            <br>            <br>            <br>            <br>            <br>            <br>            <br>            <br>            <br>            <br>            <br>            <br>            <br>            <br>            <br>            <br>            <br>            <br>            <br>            <br>            <br>            <br>            <br>            <br>            <br>            <br>            <br>            <br>            <br>            <br>            <br>            <br>            <br>            <br>            <br>            <br>            <br>            <br>            <br>            <br>            <br>            <br>            <br>            <br>            <br>            <br>            <br>            <br>            <br>            <br>            <br>            <br><br>            <br> <br>            <br>            <br><br>            <br><br>            <br>            <br>            <br>            <br>            <br>            <br>            <br><br>            <br><br><br>             <br>            <br>            <br>            <br>            <br><br>            <br><br> <br>            <br>            <br>            <br>            <br>            <br>            <br>            <br>            <br><br>            <br><br> <br>            <br>            <br>            <br>            <br>            <br>            <br>            <br>            <br>            <br>            <br>            <br>            <br>            <br>            <br>            <br>            <br>            <br>            <br>            <br>            <br>            <br>            <br>            <br>            <br>            <br>            <br>            <br>            <br>            <br>            <br>            <br>            <br>            <br>            <br>            <br><br>            <br><br><br><br>           <br>            <br>            <br>            <br>            <br>            <br>            <br><br>            <br> <br>            <br>            <br>            <br>            <br>            <br>            <br>            <br>            <br>            <br>            <br>            <br>            <br>            <br>            <br>            <br>            <br>            <br>            <br>            <br>            <br>            <br>            <br>            <br>            <br>            <br>            <br>            <br><br>            <br> <br>            <br>            <br>            <br>            <br>            <br><br>            <br><br> <br>            <br>            <br>            <br>            <br>            <br>            <br>            <br><br>            <br> <br>            <br>            <br>            <br>            <br>            <br>            <br>            <br>            <br>            <br>            <br>            <br>            <br>            <br>            <br>            <br>            <br>            <br>            <br>            <br>            <br>            <br>            <br>            <br>            <br>            <br>            <br>            <br>            <br>            <br>            <br>            <br>            <br>            <br>            <br>            <br>            <br>            <br>            <br>            <br>            <br>            <br>            <br>            <br>            <br>            <br>            <br>            <br>            <br>            <br>            <br>            <br>            <br>            <br>            <br>            <br>            <br>            <br>            <br>            <br>            <br>            <br>            <br>            <br>            <br>            <br>            <br>            <br>            <br>            <br><br>            <br> <br>            <br> <br>            <br>            <br><br><br><br><br>           <br>            <br>            <br>            <br>            <br><br>            <br><br> <br>            <br>            <br>            <br>            <br>            <br>            <br>            <br><br>            <br> <br>            <br>           <br>            <br>            <br>            <br><br>            <br> <br>            <br><br>            <br><br>            <br> <br>            <br> <br>            <br> <br>            <br>            <br>            <br>            <br>            <br>            <br><br>            <br> <br>            <br><br>            <br>            <br>            <br>            <br>            <br>            <br>            <br>            <br>            <br>            <br>            <br>            <br>            <br>            <br>            <br>            <br>            <br>            <br>            <br>            <br>            <br>            <br>            <br>            <br>            <br>            <br>            <br>            <br>            <br>            <br>            <br>            <br>            <br>            <br>            <br>            <br>            <br>            <br>            <br>            <br>            <br>            <br>            <br>            <br>            <br>            <br>            <br>            <br>            <br>            <br>            <br>            <br>            <br>            <br>            <br>            <br>            <br>            <br>            <br>            <br>            <br>            <br>            <br>            <br>            <br>            <br>            <br>            <br>            <br>            <br>            <br>            <br>            <br>            <br>            <br>            <br>            <br>            <br>            <br>            <br>            <br>            <br>            <br>            <br>            <br>            <br>            <br>            <br>            <br>            <br>            <br>            <br>            <br>            <br>            <br>            <br>            <br>            <br>            <br>            <br>            <br><br>            <br><br> <br>            <br>            <br>            <br>            <br>            <br>            <br>            <br>            <br>            <br>            <br>            <br>            <br>            <br>            <br>            <br>            <br>            <br>            <br><br>            <br> <br>            <br>            <br>            <br>            <br>            <br>            <br>            <br>            <br>            <br>            <br>            <br>            <br>            <br>            <br>            <br>            <br>            <br><br>            <br> <br>            <br>            <br>            <br>            <br>            <br>            <br>            <br>            <br>            <br>            <br>            <br>            <br>            <br>            <br>            <br>            <br>            <br>            <br>            <br>            <br>            <br>            <br>            <br><br>            <br> <br>            <br>           <br>            <br>            <br>            <br>            <br>            <br>            <br>            <br>            <br>            <br>            <br>            <br>            <br>            <br>            <br>            <br>            <br><br>            <br> <br>            <br> <br>            <br>            <br>            <br><br>            <br><br> <br>            <br>            <br>            <br>            <br>            <br>            <br>            <br>            <br>            <br>            <br>            <br>            <br>            <br>            <br>            <br>            <br><br>            <br> <br>            <br>            <br>            <br><br>            <br><br> <br>            <br>            <br>            <br>            <br>            <br>            <br>            <br>            <br>            <br>            <br>            <br>            <br>            <br>            <br>            <br>            <br>            <br>            <br>            <br>            <br>            <br>            <br>            <br>            <br>            <br>            <br>            <br>            <br>            <br>            <br>            <br><br>            <br> <br>            <br> <br>            <br>            <br>            <br>            <br>            <br>            <br>            <br>            <br>            <br>            <br>            <br>            <br>            <br>            <br>            <br>            <br><br>            <br> <br>            <br><br>            <br>            <br>            <br>            <br>            <br>            <br>            <br>            <br>            <br>            <br>            <br>            <br>            <br>            <br>            <br>            <br>            <br>            <br>            <br>            <br>            <br>            <br>            <br><br>            <br>             <br>            <br>            <br>            <br>            <br>            <br>            <br>            <br>            <br>            <br>            <br>            <br>            <br>            <br>            <br>            <br>            <br>            <br>            <br>            <br>            <br><br>            <br>  <br>            <br>            <br>            <br>            <br>            <br>            <br><br>            <br>  <br>            <br>            <br>            <br>            <br>            <br>            <br>            <br>            <br>            <br>            <br>            <br>            <br>            <br>            <br>            <br>            <br>            <br>            <br>            <br>            <br>            <br>            <br>            <br><br>            <br>  <br>            <br>            <br>            <br>            <br>            <br>            <br>            <br>            <br>            <br>            <br>            <br>            <br>            <br>            <br>            <br>            <br>            <br>            <br>            <br>            <br>            <br>            <br>            <br>            <br>            <br>            <br>            <br>            <br>            <br>            <br>            <br><br>            <br>  <br>            <br>            <br>            <br>            <br>            <br>            <br>            <br>            <br>            <br>            <br>            <br>            <br>            <br>            <br>            <br><br>            <br><br> <br>            <br>            <br>            <br>            <br>            <br>            <br>            <br>            <br>            <br>            <br>            <br>            <br>            <br>            <br>            <br>            <br>            <br>            <br>            <br>            <br>            <br>            <br>            <br>            <br>            <br>            <br>            <br>            <br>            <br>            <br>            <br>            <br>            <br>            <br>            <br>            <br>            <br>            <br>            <br>            <br>            <br>            <br><br>            <br> <br>            <br>            <br>            <br>            <br>            <br>            <br>            <br>            <br>            <br>            <br>            <br>            <br>            <br>            <br>            <br>            <br>            <br>            <br>            <br>            <br>            <br>            <br>            <br>            <br>            <br>            <br>            <br>            <br>            <br>            <br>            <br>            <br>            <br>            <br>            <br>            <br>            <br>            <br>            <br>            <br>            <br>            <br>            <br><br>            <br>  <br>            <br>            <br>            <br>            <br>            <br>            <br>            <br>            <br>            <br>            <br>            <br><br>            <br> <br>            <br>            <br>            <br>            <br>            <br>            <br>            <br>            <br>            <br>            <br>            <br>            <br>            <br>            <br>            <br>            <br>            <br>            <br><br>            <br> <br>            <br> <br>            <br>            <br>            <br>            <br>            <br>            <br>            <br>            <br>            <br>            <br>            <br>            <br>            <br>            <br>            <br>            <br>            <br>            <br><br>            <br> <br>            <br> <br>            <br>            <br>            <br>            <br>            <br>            <br>            <br>            <br>            <br>            <br>            <br>            <br>            <br>            <br>            <br>            <br>            <br>            <br>            <br><br>            <br> <br>            <br> <br>            <br>            <br>            <br>            <br>            <br>            <br>            <br>            <br>            <br>            <br>            <br>            <br>            <br>            <br>            <br>            <br>            <br><br>            <br>  <br>            <br>            <br>            <br>            <br>            <br>            <br>            <br>            <br>            <br>            <br>            <br>            <br>            <br>            <br>            <br>            <br>            <br><br>            <br> <br>            <br>            <br>            <br>            <br>            <br>            <br>            <br>            <br><br>            <br> <br>            <br> <br>            <br>            <br>            <br>            <br>            <br>            <br>            <br>            <br>            <br>            <br>            <br>            <br>            <br>            <br>            <br>            <br>            <br>            <br>            <br>            <br>            <br>            <br>            <br>            <br>            <br>            <br>            <br><br>            <br> <br>            <br>            <br>            <br>            <br>            <br>            <br>            <br>            <br>            <br><br>            <br><br> <br>            <br>            <br>            <br>            <br>            <br>            <br>            <br>            <br>            <br>            <br>            <br>            <br>            <br>            <br>            <br>            <br>            <br>            <br>            <br>            <br>            <br>            <br>            <br>            <br>            <br>            <br>            <br>            <br>            <br>            <br><br>            <br>  <br>            <br>            <br>            <br><br>            <br> <br>            <br>            <br>            <br>            <br>            <br>            <br>            <br>            <br>            <br>            <br>            <br>            <br><br>            <br>  <br>            <br><br>            <br>            <br>            <br>            <br>            <br>            <br>            <br>            <br>            <br>            <br>            <br>            <br>            <br><br>            <br>  <br>            <br>            <br>            <br>            <br>            <br>            <br>            <br>            <br>            <br>            <br>            <br>            <br><br>            <br>  <br>            <br>            <br>            <br>            <br>            <br>            <br>            <br>            <br>            <br>            <br>            <br>            <br>            <br>            <br>            <br>            <br><br>            <br> <br>            <br>            <br>            <br>            <br>            <br><br>            <br> <br>            <br>            <br>            <br>            <br>            <br>            <br>            <br><br>            <br><br> <br>            <br>            <br>            <br>            <br>            <br>            <br>            <br>            <br>            <br>            <br>            <br><br>            <br> <br>            <br> <br>            <br>            <br>            <br>            <br>            <br>            <br>            <br>            <br>            <br>            <br>            <br>            <br>            <br><br>            <br> <br>            <br> <br>            <br>            <br>            <br>            <br>            <br>            <br>            <br>            <br>            <br>            <br>            <br>            <br>            <br><br>            <br> <br>            <br> <br>            <br>            <br>            <br>            <br>            <br>            <br>            <br>            <br>            <br>            <br><br>            <br> <br>            <br>            <br>            <br>            <br>            <br>            <br>            <br>            <br>            <br><br>            <br> <br>            <br> <br>            <br>            <br>            <br>            <br>            <br>            <br>            <br>            <br>            <br>            <br>            <br>            <br>            <br>           <br>            <br>            <br>            <br>            <br>           <br>            <br>            <br>            <br>            <br>            <br>            <br>            <br><br>            <br> <br>            <br> <br>            <br><br>            <br>            <br>            <br>            <br>            <br>            <br>            <br>            <br>            <br>            <br>            <br>            <br>            <br>            <br><br>            <br> <br>            <br>            <br>            <br>            <br>            <br>            <br>            <br>            <br>            <br>            <br>            <br>            <br>            <br>            <br>            <br>            <br><br>            <br>  <br>            <br>            <br>            <br>            <br>            <br>            <br>            <br>            <br>            <br><br>            <br> <br>            <br><br>            <br>            <br>            <br>            <br>            <br>            <br>            <br>            <br>            <br>            <br>            <br>            <br>            <br><br>            <br> <br>            <br>            <br>            <br>            <br>            <br>            <br>            <br>            <br>            <br>            <br>            <br>            <br>            <br>            <br>            <br>            <br>            <br>            <br>            <br>            <br>            <br>            <br>            <br>            <br>            <br>            <br>            <br>            <br>            <br>            <br>            <br>            <br>            <br>            <br>            <br><br>            <br>             <br>            <br>            <br>            <br><br>            <br> <br>            <br>            <br>            <br>            <br>            <br>            <br>            <br>            <br>            <br>            <br>            <br>            <br>            <br>            <br>            <br>            <br>            <br>            <br>            <br>            <br>            <br>            <br>            <br><br>            <br> <br>            <br>            <br><br>            <br> <br>            <br>            <br>            <br>            <br>            <br>            <br>            <br>            <br>            <br>            <br>            <br>            <br>            <br>            <br>            <br>            <br><br>            <br> <br>            <br>            <br>           <br>            <br>            <br>            <br>            <br>            <br>            <br>            <br>            <br>            <br>            <br>            <br>            <br>            <br>            <br>            <br>            <br>            <br><br>            <br>  <br>            <br> <br>            <br>            <br>            <br>            <br>            <br>            <br>            <br>            <br>            <br>            <br>            <br>            <br>            <br>            <br><br>            <br> <br>            <br> <br>            <br>            <br>            <br>            <br>            <br>            <br>            <br>            <br>            <br>            <br>            <br>            <br>            <br>            <br>            <br>            <br>            <br>            <br>            <br>            <br>            <br><br>            <br>  <br>            <br> <br>            <br> <br>            <br><br>            <br>            <br>            <br>            <br>            <br>            <br>            <br>            <br>            <br>            <br>            <br>            <br>            <br>            <br>            <br>            <br><br>            <br> <br>            <br>            <br>            <br>            <br>            <br>            <br>            <br>            <br>            <br>            <br>            <br>            <br>            <br>            <br>            <br>            <br>            <br>            <br>            <br><br>            <br>  <br>            <br> <br>            <br> <br>            <br> <br>            <br>            <br>            <br>            <br>            <br>            <br>            <br>            <br>            <br>            <br>            <br>            <br>            <br>            <br>            <br><br>            <br> <br>            <br>            <br>            <br>            <br><br>            <br> <br>            <br>            <br>            <br>            <br>            <br>            <br>            <br>            <br>            <br><br>            <br> <br>            <br>            <br>            <br>            <br><br>            <br><br> <br>            <br>            <br>            <br>            <br>            <br>            <br><br>            <br> <br>            <br>            <br>            <br>            <br>            <br>            <br>            <br>            <br>            <br>            <br>            <br>            <br>            <br>            <br>            <br>            <br>            <br>            <br>            <br>            <br>            <br>            <br>            <br>            <br>            <br>            <br>            <br>            <br>            <br>            <br>            <br>            <br>            <br>            <br>            <br><br>            <br> <br>            <br>            <br>            <br>            <br>            <br>            <br>            <br>            <br>            <br>            <br>            <br>            <br>            <br>            <br>            <br>            <br>            <br>           <br>            <br> <br>            <br>            <br>            <br>            <br>            <br><br>            <br> <br>            <br>            <br>            <br>            <br>            <br>            <br>            <br>            <br>            <br>            <br>            <br>            <br>            <br>            <br>            <br>            <br>            <br>            <br>            <br>            <br>            <br>            <br>           <br>            <br>            <br>            <br>            <br>            <br>            <br>            <br>            <br>  <br>            <br>            <br>            <br>            <br>            <br>            <br>            <br>            <br>            <br>            <br>            <br><br>            <br> <br>            <br> <br>            <br>            <br>            <br>            <br>            <br>            <br><br>            <br> <br>            <br>            <br>            <br>            <br>           <br>            <br>            <br>            <br>            <br>            <br>            <br>           <br>            <br>            <br>            <br>            <br>            <br>            <br><br>            <br> <br>            <br>            <br>            <br>            <br>            <br>            <br>            <br><br>            <br> <br>            <br>            <br>            <br>            <br>            <br>            <br>            <br><br>            <br> <br>            <br>            <br>            <br>            <br>            <br>            <br>  <br>            <br>            <br>            <br>            <br>            <br>            <br>            <br>            <br>            <br>            <br><br>            <br> <br>            <br>            <br>            <br><br>            <br> <br>            <br>            <br>            <br>            <br>            <br>            <br>            <br>            <br>            <br>            <br>            <br>            <br>            <br><br>            <br> <br>            <br>            <br>            <br>            <br>            <br>            <br>            <br>            <br>            <br><br>            <br> <br>            <br>            <br>            <br>            <br>            <br>            <br>            <br>            <br>            <br>            <br>            <br>            <br>            <br>            <br>            <br>            <br>            <br>            <br>            <br>            <br>            <br>            <br>            <br>            <br><br>            <br> <br>            <br>            <br>            <br>            <br>            <br>            <br>            <br>            <br><br>            <br> <br>            <br>            <br>            <br>            <br>            <br>            <br>            <br>            <br>            <br>            <br>            <br>            <br>            <br>            <br>            <br>            <br>            <br>            <br>            <br>            <br>            <br>            <br>            <br>            <br>            <br>           <br>            <br> <br>            <br>            <br><br>            <br><br>            <br>            <br>            <br>            <br>            <br>            <br>            <br>            <br>            <br>            <br>            <br>            <br>            <br>            <br>            <br>            <br>            <br>            <br><br>            <br> <br>            <br>            <br>            <br>            <br>            <br>            <br>            <br>            <br>            <br>            <br>            <br>            <br>            <br>            <br>            <br>            <br>            <br><br>            <br> <br>            <br>            <br>            <br>            <br>            <br>            <br>            <br>            <br>            <br>            <br>            <br>           <br>            <br><br>            <br>            <br>            <br>            <br>            <br>            <br>            <br>            <br><br>            <br>            <br>            <br>            <br>            <br>            <br>            <br>               <br>            <br>            <br>            <br>            <br>            <br>            <br><br>            <br> <br>            <br>            <br>            <br>            <br>            <br>            <br>            <br>            <br>            <br>            <br>            <br>            <br>            <br>            <br>            <br>            <br>            <br>            <br>            <br>            <br>            <br>            <br>            <br>            <br>            <br>            <br> <br>            <br>            <br>            <br>            <br>            <br>            <br>            <br>            <br>            <br><br>            <br>            <br>            <br>            <br>            <br>            <br>            <br>            <br>            <br>            <br> <br>            <br>            <br>            <br>            <br>            <br>            <br>            <br>            <br>            <br>            <br>            <br> <br>            <br>            <br>            <br>            <br>            <br>            <br>            <br>            <br>            <br>            <br>            <br>            <br>            <br>            <br>            <br>            <br>            <br>            <br>            <br>            <br>            <br>            <br><br>            <br> <br>            <br>            <br>            <br>            <br>            <br>            <br>            <br><br>            <br> <br>            <br>            <br>            <br>            <br>            <br>            <br>            <br><br>            <br> <br>            <br>            <br>            <br>            <br>            <br>            <br><br>            <br> <br>            <br>            <br>            <br>            <br>            <br>            <br><br>            <br> <br>            <br>            <br>            <br>            <br>            <br>            <br>            <br>            <br>            <br>            <br>            <br>            <br>            <br>            <br><br>            <br> <br>            <br>            <br>            <br>            <br>            <br><br>            <br> <br>            <br>            <br>            <br>            <br>            <br>            <br>            <br>            <br>                <br>            <br>            <br>            <br><br>            <br> <br>            <br>            <br>            <br>            <br>            <br><br>            <br> <br>            <br>            <br>            <br>            <br>            <br>            <br>            <br>            <br>            <br>            <br>            <br>            <br>            <br><br><br><br> <br>            <br>            <br>            <br>            <br>            <br>            <br>            <br>            <br>            <br>            <br>            <br>            <br>           <br>            <br>            <br>            <br>            <br>            <br>            <br>            <br><br>            <br> <br>            <br>            <br>            <br>            <br>            <br>            <br>           <br>            <br>            <br>            <br>            <br>           <br>            <br>            <br>            <br>            <br>            <br>            <br>            <br><br>            <br> <br>            <br>            <br>            <br>            <br>            <br>            <br>            <br>            <br>            <br>            <br><br>            <br> <br>            <br>            <br>            <br>            <br>            <br>            <br>            <br>            <br>            <br>            <br>            <br>            <br>            <br>            <br>            <br>            <br>            <br><br>            <br> <br>            <br>            <br>            <br>            <br>            <br>            <br>            <br>            <br>            <br>            <br><br>            <br> <br>            <br>            <br>            <br>            <br>            <br>            <br><br>            <br> <br>            <br>            <br><br>            <br>           <br>            <br>            <br><br>            <br>            <br>            <br>            <br>            <br>            <br>            <br>            <br>            <br>            <br>            <br>            <br>            <br>            <br>            <br>            <br>            <br>            <br>            <br>            <br><br>            <br> <br>            <br>            <br>            <br>            <br>            <br>            <br>            <br>            <br>            <br>            <br>            <br>            <br>            <br>            <br>            <br>            <br>            <br>            <br>            <br>            <br><br>            <br> <br>            <br>            <br>            <br>            <br>            <br>            <br>            <br>            <br>            <br>            <br>            <br>            <br>            <br>            <br>            <br>            <br>            <br>            <br><br>            <br> <br>            <br>            <br>            <br>            <br>            <br><br>            <br> <br>            <br>            <br>            <br>            <br>            <br>            <br>            <br>            <br>            <br>            <br><br>            <br> <br>            <br>            <br>            <br>            <br>            <br>            <br>            <br>            <br>            <br>            <br>            <br>            <br>            <br><br>            <br> <br>            <br>            <br>            <br>           <br><br>            <br>            <br>            <br>            <br>            <br>            <br>            <br>            <br><br>            <br> <br>            <br>            <br>            <br>            <br>            <br>            <br><br>            <br>           <br>            <br>            <br>            <br>            <br>            <br>            <br><br>            <br>            <br>            <br>            <br> <br>            <br>            <br>            <br>            <br>            <br><br>            <br> <br>            <br>            <br>            <br>            <br>            <br>            <br>            <br>            <br>            <br>            <br>            <br>           <br>            <br>            <br>            <br><br>            <br>            <br>            <br>            <br>            <br>           <br>            <br>            <br>            <br>            <br>            <br>            <br>            <br>            <br> <br>            <br>            <br>            <br>            <br><br>            <br><br>            <br>            <br>            <br>            <br>            <br>            <br>            <br>            <br>            <br><br>            <br> <br>            <br>            <br>            <br>            <br><br>            <br>            <br>            <br>            <br><br>            <br> <br>            <br>            <br>            <br>            <br>            <br>            <br>            <br>            <br>            <br><br>            <br> <br>            <br>            <br>            <br>            <br>            <br>            <br>            <br>            <br>            <br>            <br>            <br>            <br>            <br><br>            <br> <br>            <br>            <br>            <br>            <br>            <br>            <br>            <br>            <br>            <br>            <br>            <br>            <br>            <br><br>            <br>           <br>            <br>            <br>            <br>            <br>            <br>            <br>            <br>            <br>            <br> <br>            <br>            <br>            <br>            <br>            <br>            <br>            <br>            <br>            <br>            <br>            <br>            <br>            <br>            <br> <br>            <br>            <br>            <br>            <br><br>            <br> <br>            <br>            <br><br>            <br>            <br>            <br>            <br>            <br>            <br>            <br>            <br>            <br>            <br>            <br>            <br>            <br>            <br>            <br>            <br>            <br>            <br>            <br><br>            <br> <br>            <br>            <br>            <br>            <br>            <br>            <br>            <br>            <br>            <br>            <br>            <br>            <br><br>            <br> <br>            <br>            <br>            <br>            <br>            <br>            <br>            <br>            <br>            <br>            <br>            <br>            <br>            <br>            <br>            <br>            <br>            <br>            <br><br>            <br><br> <br>            <br>            <br>            <br>            <br>            <br>            <br>            <br>            <br>            <br>            <br>            <br> <br>            <br>            <br>            <br>            <br>            <br>           <br>            <br>            <br>            <br>            <br>            <br>            <br>            <br>            <br>            <br>            <br>            <br>            <br>            <br>            <br>            <br>            <br>            <br>            <br><br>            <br>            <br>            <br>            <br>            <br>            <br>           <br>            <br>            <br>            <br>            <br>            <br>            <br>            <br>            <br>            <br>            <br>            <br>            <br>            <br>            <br>            <br>            <br>            <br>            <br>            <br>            <br><br>            <br>            <br>            <br>            <br>            <br>            <br>            <br><br>            <br>            <br>            <br>            <br>            <br>            <br>            <br>            <br><br>            <br><br>            <br>            <br>            <br>            <br>            <br>            <br>            <br>            <br>            <br><br>            <br><br>            <br>            <br>            <br>            <br>            <br>            <br>            <br>            <br>            <br>            <br>            <br>            <br>            <br>            <br>            <br>            <br>            <br>            <br><br>            <br> <br>            <br>            <br>            <br>            <br>            <br>            <br>            <br>            <br>            <br>            <br>            <br>            <br>            <br>            <br>            <br><br>            <br>                <br>            <br>            <br>            <br>            <br>            <br>            <br>            <br>            <br>            <br>            <br>            <br>            <br>            <br>            <br>            <br>            <br>            <br>            <br><br>            <br><br>            <br>            <br>            <br>    <br>            <br>            <br>            <br>            <br>            <br>            <br>            <br>            <br>            <br>            <br>            <br>            <br>            <br>            <br>            <br>            <br> <br>            <br>            <br>            <br><br>            <br>            <br>            <br>            <br>            <br>            <br>            <br>            <br>            <br>            <br>            <br>            <br>            <br>            <br>            <br>            <br><br>            <br>            <br>            <br><br>            <br>            <br>            <br>            <br>            <br>            <br>            <br>            <br><br>            <br><br><br><br>            <br>            <br>            <br><br>            <br>            <br>            <br>            <br>            <br>            <br>            <br>            <br>            <br>            <br>            <br>            <br>            <br>            <br>            <br>            <br>            <br>            <br>            <br>            <br><br>            <br><br><br>           <br>            <br>            <br>            <br>            <br>            <br>            <br>            <br>            <br>            <br>            <br>            <br>            <br>            <br><br>            <br>            <br>            <br>            <br>            <br>            <br>            <br>            <br><br>            <br><br>            <br>            <br><br>            <br>            <br>            <br>            <br><br>            <br>            <br>            <br>            <br>            <br>            <br><br>            <br>            <br><br><br><br>  <br>            <br>            <br>            <br>   <br>            <br>            <br>            <br>            <br>            <br>            <br>            <br>            <br>            <br>            <br>            <br>            <br>            <br><br>            <br><br>            <br>            <br>            <br>            <br>            <br>            <br>            <br>            <br>            <br>            <br>            <br>            <br>            <br>            <br>            <br><br>            <br> <br>            <br>            <br>            <br>            <br>            <br>            <br>            <br><br>            <br>            <br><br>            <br>            <br>            <br>            <br>            <br>            <br>            <br><br>            <br>            <br>            <br>            <br>            <br>            <br>            <br>           <br><br>   <br>            <br>            <br>            <br>            <br>            <br>            <br>            <br>            <br>            <br>            <br>            <br>            <br>            <br>            <br>            <br>            <br>            <br>            <br>            <br>            <br><br>            <br>            <br><br>            <br>            <br>            <br><br>            <br>            <br><br>            <br>            <br><br>            <br>            <br>            <br>            <br>            <br>            <br>            <br>            <br>            <br>            <br>            <br>            <br>            <br>            <br>            <br>            <br>            <br>            <br><br>            <br>            <br>            <br>            <br>            <br>            <br>            <br>            <br><br>            <br>        <br>            <br>            <br>            <br>            <br>            <br><br>            <br>            <br>            <br>            <br><br>            <br><br><br>            <br>            <br>            <br>                       <br>          <br>            <br>            <br>            <br>            <br>            <br><br>            <br><br>   <br>            <br>            <br>            <br><br>            <br><br>            <br>            <br>            <br>            <br>            <br>            <br><br>            <br>            <br>            <br>            <br>            <br>            <br>            <br><br>            <br><br><br>            <br>            <br>            <br>            <br>            <br>            <br>            <br>            <br><br>            <br><br>            <br>            <br>            <br>            <br>            <br>            <br>            <br>            <br><br>            <br>            <br>            <br><br>            <br>            <br>            <br>            <br>            <br>            <br>            <br>            <br>            <br>            <br>            <br>            <br>            <br>            <br>            <br>            <br>            <br>            <br>            <br>            <br>            <br><br>            <br><br>            <br>            <br>            <br><br>            <br><br>            <br>            <br>            <br>            <br>            <br>            <br>            <br><br>            <br>            <br>            <br>            <br>            <br>            <br>            <br>            <br>            <br>            <br>            <br>            <br>            <br>            <br>            <br>            <br><br>            <br> <br>            <br>            <br>            <br>            <br>            <br>            <br>            <br>            <br>            <br>            <br>            <br><br>            <br>            <br>            <br><br>            <br> <br>            <br>            <br>            <br>            <br>            <br><br>            <br>            <br>            <br>            <br>            <br>            <br>            <br>            <br>            <br><br>            <br><br>            <br>            <br>            <br>            <br>            <br>            <br>            <br>            <br>            <br>            <br>            <br>            <br>            <br><br>            <br> <br>            <br>            <br>            <br>            <br>            <br><br>            <br>            <br>            <br>            <br>            <br>            <br>            <br>            <br>            <br>            <br>            <br>            <br>            <br>            <br>            <br>            <br>            <br>            <br>            <br>            <br>            <br>            <br>            <br>            <br>            <br>            <br>            <br>            <br>            <br>            <br>            <br>            <br>            <br>            <br><br>            <br>            <br>            <br>            <br>            <br>            <br>            <br>            <br><br>            <br> <br>            <br>            <br>            <br>            <br>            <br>            <br><br>            <br>            <br><br>            <br>            <br>            <br>            <br>            <br>            <br>            <br>            <br>            <br><br>            <br>            <br><br>            <br>            <br>            <br>            <br>            <br>            <br><br>            <br>            <br>            <br>            <br>            <br>            <br>            <br>            <br><br>            <br>            <br>            <br><br>            <br>            <br><br>            <br>            <br>            <br>            <br>            <br>            <br>            <br><br>            <br>            <br>            <br>            <br>            <br>            <br>            <br><br>            <br><br>            <br>            <br>            <br>            <br>            <br><br>            <br>            <br>            <br>            <br>            <br>            <br>            <br>            <br>            <br>            <br>            <br>            <br>            <br>            <br><br>            <br>            <br>            <br><br>            <br>            <br><br>            <br>            <br>            <br>            <br>            <br><br>            <br>            <br>            <br>            <br>            <br>            <br>            <br>            <br>            <br>            <br>            <br>            <br>            <br>            <br><br>            <br>            <br>            <br>            <br><br>            <br>            <br>            <br><br>            <br>            <br>            <br>            <br>            <br>            <br>            <br>            <br>            <br><br>            <br>            <br><br>            <br>            <br>            <br>            <br>            <br>            <br>            <br>            <br>            <br>            <br>            <br>            <br><br>            <br>            <br>            <br><br>            <br>            <br>            <br>            <br><br>            <br>            <br>            <br>            <br>            <br>            <br>            <br>            <br>            <br><br>            <br>            <br>            <br>            <br><br>            <br>            <br>            <br><br>            <br>            <br>            <br>            <br><br>            <br>            <br>            <br>            <br>            <br>            <br><br>            <br>            <br>            <br>            <br>            <br>            <br>            <br>            <br>            <br><br>            <br>            <br>            <br>            <br><br>            <br>            <br>            <br>            <br>            <br>            <br>            <br>            <br>            <br>            <br><br>            <br>            <br>            <br>            <br>            <br>            <br>            <br><br>            <br>            <br>            <br>            <br><br>            <br>            <br>            <br>            <br>            <br><br>            <br>            <br>            <br>            <br>            <br>            <br><br>            <br>            <br>            <br>            <br>            <br>            <br>            <br>            <br>            <br><br>            <br>            <br>            <br>            <br>            <br>            <br>            <br>            <br>            <br>            <br>            <br><br>            <br>            <br>            <br>            <br>            <br>            <br><br>            <br>            <br>            <br><br>            <br>            <br>            <br>            <br>            <br>            <br>            <br>            <br><br>            <br>            <br><br>            <br>            <br>            <br>            <br>            <br>            <br>            <br>            <br>            <br>            <br>            <br>            <br>            <br>            <br>            <br><br>            <br>            <br><br>            <br>            <br>            <br>            <br>            <br>            <br>            <br>            <br>            <br>            <br>            <br>            <br><br>            <br>            <br>            <br>            <br>            <br>            <br>            <br>            <br>            <br>            <br>            <br>            <br>            <br>            <br>            <br>            <br>            <br>            <br><br>            <br>            <br>            <br>            <br>            <br>            <br>            <br><br>            <br>            <br>            <br>            <br>            <br>            <br>            <br>            <br><br>            <br>            <br><br>            <br>            <br><br>            <br>            <br>            <br>            <br>            <br>            <br>            <br>            <br>            <br><br>            <br>            <br>            <br>            <br>            <br>            <br><br>            <br>            <br>            <br>            <br>            <br><br>            <br>            <br>            <br>            <br>            <br>            <br>            <br><br>            <br>            <br>            <br>            <br><br>            <br>            <br>            <br>            <br>            <br>            <br>            <br>            <br>            <br>            <br>            <br>            <br>            <br>            <br>            <br>            <br><br>            <br>            <br><br>            <br>            <br>            <br>            <br><br>            <br>            <br><br>            <br>            <br>            <br>            <br>            <br>            <br>            <br>            <br>            <br>           <br>            <br>            <br>            <br>            <br>            <br>            <br>            <br>            <br>            <br>            <br>            <br>            <br><br>            <br>            <br>           <br><br>           <br>            <br>            <br>            <br>            <br>            <br>            <br>            <br><br>            <br>            <br>            <br><br>            <br>            <br>            <br>            <br>            <br>            <br>            <br>            <br>            <br>            <br>            <br>            <br>            <br>            <br>            <br>            <br>            <br>            <br>            <br>            <br>            <br>            <br>            <br><br>            <br><br>            <br>            <br>            <br>            <br>            <br><br>            <br>            <br>            <br>            <br>            <br>            <br>            <br>            <br>            <br>            <br>            <br>            <br>            <br><br>            <br>            <br>            <br>            <br>            <br><br>            <br>            <br>            <br>            <br><br>            <br>            <br>            <br>            <br>            <br>            <br>            <br>            <br>            <br>            <br>            <br><br>            <br><br>            <br>            <br>            <br>            <br>            <br>            <br><br>            <br>            <br>            <br>            <br>            <br>            <br>            <br>            <br><br>            <br>            <br>            <br>            <br>            <br><br>            <br>            <br>            <br><br>            <br>            <br>            <br>            <br>            <br>            <br>            <br>            <br>            <br><br>            <br>            <br>            <br>            <br><br>            <br>            <br>            <br>            <br>            <br>            <br>            <br>            <br><br>            <br>            <br>            <br>            <br>            <br>            <br>            <br>            <br>            <br>            <br>            <br>            <br>            <br>            <br><br>            <br>            <br>            <br><br>            <br>            <br>            <br>            <br>            <br>            <br>            <br><br>            <br>            <br>            <br>            <br>            <br>            <br><br>            <br>            <br>            <br>            <br>            <br>            <br><br>            <br>            <br>            <br>            <br>            <br>            <br><br>            <br>            <br>            <br>            <br>            <br>            <br>            <br>            <br><br>            <br>            <br><br>            <br>            <br>            <br>            <br>            <br>            <br>            <br>            <br><br>            <br>            <br>            <br>            <br>            <br>            <br><br>            <br>            <br>            <br>            <br>            <br>            <br><br>            <br>            <br><br>            <br>            <br><br>            <br>            <br>            <br>            <br><br>            <br>            <br><br>            <br>            <br><br>            <br>            <br>            <br>            <br>            <br>            <br>            <br>            <br>            <br>            <br>            <br>            <br>            <br>            <br>            <br>            <br><br>            <br>            <br>            <br>            <br><br>            <br>            <br>            <br><br>            <br>            <br>            <br><br>            <br>            <br>            <br>            <br>            <br>            <br>            <br>            <br><br>            <br>            <br><br>            <br>            <br><br>            <br>            <br>            <br><br>            <br>            <br><br>            <br>            <br>            <br>            <br>            <br>            <br>            <br>            <br>            <br>            <br><br>            <br>            <br>            <br>            <br>            <br><br>            <br>            <br>            <br>            <br>            <br>            <br>            <br>            <br>            <br>            <br>            <br>            <br><br>            <br>            <br>            <br>            <br><br>            <br>            <br>            <br>            <br>            <br>            <br><br>            <br><br> <br>            <br><br>            <br>            <br>            <br>            <br>            <br><br>            <br>            <br><br>            <br>            <br>            <br>            <br>            <br>            <br>            <br>            <br>            <br><br>            <br>            <br>            <br>            <br><br>            <br>            <br>            <br>            <br>            <br>            <br>            <br>            <br>            <br>            <br>            <br><br>            <br>            <br>            <br><br>            <br>            <br>            <br><br>            <br>            <br><br>            <br>            <br><br>            <br>            <br><br>            <br>            <br><br>            <br>  <br>            <br>            <br><br>            <br>            <br>            <br><br>            <br>            <br>            <br>            <br>            <br>            <br>            <br>            <br>            <br>            <br>            <br>            <br>            <br>            <br>            <br>            <br>            <br>            <br>            <br><br>            <br>            <br><br>            <br>            <br>            <br><br>            <br>            <br>            <br><br>            <br>            <br>            <br><br>            <br><br>            <br> <br><br>            <br><br><br><br><br><br><br><br><br><br><br>  <br>            <br>            <br>            <br>            <br><br>            <br>            <br>            <br><br>            <br>            <br>            <br>            <br>            <br>            <br>            <br>            <br>            <br><br>            <br>            <br>            <br>            <br><br>            <br><br>            <br>            <br>            <br>            <br>            <br><br>            <br>            <br>            <br>            <br>            <br>            <br>            <br>            <br>            <br><br>            <br><br>            <br>            <br>            <br>            <br><br>            <br>            <br><br>            <br>            <br><br>            <br>            <br><br>            <br>  <br>            <br>            <br>            <br>            <br>            <br>            <br><br>            <br>            <br>            <br>            <br>            <br>            <br>            <br>            <br><br>            <br><br>            <br>            <br><br>            <br><br>            <br>            <br>            <br>            <br>            <br><br>            <br>            <br><br>            <br>            <br><br>            <br><br>            <br>  <br>            <br>            <br>            <br>            <br>            <br>            <br>            <br>            <br>            <br>            <br><br>            <br>            <br><br>            <br>            <br>            <br>            <br><br>            <br><br>            <br><br><br><br>           <br>            <br><br><br>            <br>            <br>            <br><br>            <br>            <br>            <br>            <br>            <br>            <br>            <br>            <br><br>            <br>            <br>            <br><br>            <br>            <br><br>            <br><br>            <br>            <br>            <br>            <br>            <br><br>            <br><br>            <br>            <br><br>            <br>            <br>            <br>            <br>            <br>            <br><br>            <br>            <br>            <br>            <br>            <br>            <br>            <br><br>            <br>            <br>            <br><br>            <br><br>            <br>            <br><br>            <br> <br><br>            <br><br>            <br>            <br>            <br>            <br><br>            <br><br>            <br> <br>           <br><br>           <br>            <br>            <br>            <br><br>            <br>            <br>            <br>            <br>            <br>            <br>            <br>            <br><br>            <br>            <br>            <br>            <br>            <br><br>            <br>           <br>       <br>            <br>            <br>            <br>            <br><br>            <br>            <br>            <br><br>            <br>            <br><br>            <br><br>            <br><br>            <br>            <br><br>            <br>            <br>            <br>            <br><br>            <br><br>            <br><br>            <br><br>  <br>            <br>           <br>            <br><br>           <br>            <br>            <br>            <br><br>            <br>            <br><br>            <br>            <br>            <br>            <br><br>            <br><br>            <br>            <br>            <br>            <br>            <br><br>            <br>            <br>            <br>            <br>            <br><br>            <br>            <br><br>            <br>            <br>            <br><br>            <br>            <br>            <br><br>            <br>            <br><br>            <br>            <br>            <br><br>            <br>            <br>            <br>            <br>        <br>            <br>           <br>           <br>            <br>            <br>            <br>            <br>            <br>            <br>            <br><br>            <br>            <br><br>            <br>            <br><br>            <br>            <br>            <br>            <br><br>            <br><br>            <br><br>           <br>            <br>            <br><br>            <br>            <br>            <br>            <br><br>            <br>            <br>            <br><br>            <br>            <br>            <br><br>            <br>            <br><br>            <br>            <br>            <br>            <br><br>            <br><br>            <br>            <br>            <br>            <br><br>            <br>            <br>            <br><br>            <br><br><br><br>           <br>           <br>            <br>            <br>            <br>            <br><br>            <br>            <br><br>            <br>            <br>            <br>            <br>            <br><br>            <br>            <br><br>            <br>            <br>            <br>            <br><br>            <br>            <br>            <br>            <br>            <br>            <br>            <br>            <br><br>            <br><br>            <br>            <br><br>            <br>            <br>            <br>            <br><br>            <br>  <br>            <br>            <br>            <br>            <br>            <br>            <br><br>            <br><br>            <br>            <br>            <br>            <br><br>            <br>            <br>            <br><br>            <br>            <br><br>            <br><br>            <br><br><br>           <br><br>           <br>            <br>            <br>            <br>            <br>            <br>            <br>            <br><br>            <br>            <br>            <br>            <br>            <br>            <br><br>            <br>            <br>            <br><br>            <br>            <br>            <br>            <br><br>            <br>            <br><br>            <br>            <br><br>            <br><br>            <br>            <br><br>            <br><br><br><br>           <br>           <br>           <br>            <br>            <br>            <br>           <br>            <br><br>           <br>            <br>            <br>            <br>            <br><br>            <br>            <br>            <br>            <br><br>            <br>            <br>            <br>            <br><br>            <br>            <br>            <br>            <br>            <br>            <br><br>            <br>            <br><br>            <br>            <br>           <br>           <br>            <br>            <br>            <br>            <br><br>            <br>            <br>            <br>            <br>            <br><br>            <br>            <br><br>            <br>            <br>            <br><br>            <br><br>            <br>            <br>            <br>            <br><br>            <br>            <br><br>            <br><br>            <br><br>            <br><br>            <br><br><br><br>  <br>            <br>            <br>            <br>            <br><br>            <br>            <br>            <br>            <br>            <br><br>            <br>            <br>            <br>            <br><br>            <br>            <br><br>            <br>            <br>            <br><br>            <br>            <br><br>            <br>            <br>            <br><br>            <br>            <br><br>            <br>            <br><br>            <br>            <br><br>            <br>            <br>            <br>            <br><br>            <br><br><br><br>           <br>            <br>            <br><br>            <br>            <br><br>            <br>            <br>            <br><br>            <br><br>            <br><br>           <br>            <br>            <br>            <br>            <br>            <br>           <br>           <br><br>           <br>           <br>            <br>            <br>            <br>            <br>            <br>            <br>            <br>            <br><br>            <br>            <br><br>            <br>            <br><br>            <br>            <br>            <br>            <br>            <br><br>            <br>           <br>           <br>           <br>            <br>            <br><br>            <br>            <br>            <br>            <br><br>            <br>            <br>            <br><br>            <br>            <br><br>            <br>            <br>            <br>            <br><br>            <br>            <br>            <br><br>            <br><br>            <br>            <br>            <br>            <br>            <br><br>            <br><br>            <br><br>            <br><br>            <br><br> <br>           <br>           <br>            <br>            <br><br>            <br>            <br>            <br><br>            <br>            <br><br>            <br>            <br><br>            <br>            <br><br>            <br>            <br><br>            <br>            <br>            <br><br>            <br>            <br><br>            <br><br>            <br>            <br><br>            <br>            <br><br>            <br><br>            <br><br>            <br>            <br><br>            <br>            <br>            <br><br>            <br><br>            <br> <br><br>           <br>            <br>            <br><br>            <br>            <br><br>            <br>            <br>            <br><br>            <br><br>            <br>            <br><br>            <br>            <br>            <br>            <br><br>            <br>            <br>            <br><br>            <br><br>            <br><br><br><br> <br>            <br>            <br>            <br><br>            <br>            <br>            <br><br>            <br>            <br>            <br>            <br>           <br><br>           <br>            <br>            <br>            <br>            <br>            <br>            <br>            <br>            <br><br>            <br><br><br><br> <br>            <br>           <br>           <br>            <br>            <br>            <br><br>            <br>            <br>            <br>            <br>            <br>            <br>            <br><br>            <br>            <br>            <br><br>            <br><br><br><br>            <br><br><br><br><br>            <br>            <br>            <br>            <br>            <br>            <br><br>            <br><br><br><br>           <br>            <br><br>            <br>            <br>            <br>            <br>            <br>            <br><br>            <br>            <br>            <br><br>            <br>            <br><br>            <br><br><br>            <br>            <br><br>            <br><br>            <br>            <br>            <br><br>            <br>            <br>            <br>            <br><br>            <br><br>            <br>            <br>            <br><br>            <br>            <br><br>            <br><br>            <br>            <br>            <br>            <br>            <br>            <br><br>            <br>            <br>            <br>            <br>            <br>            <br>            <br>            <br><br>            <br><br>            <br>            <br><br>            <br>            <br>            <br><br>            <br>            <br><br>            <br><br>            <br><br>            <br>            <br><br>            <br><br>            <br><br>  <br>            <br>            <br>            <br><br>            <br>            <br><br>            <br><br>            <br>            <br><br>            <br>            <br><br>            <br>            <br><br>            <br>            <br><br>            <br><br>            <br>            <br>            <br>            <br><br>            <br>            <br>            <br><br>            <br>            <br>            <br><br>            <br><br>            <br>            <br><br>            <br><br>            <br>            <br><br>            <br>            <br><br>            <br>            <br><br>            <br>            <br><br>            <br><br>            <br><br>    <br>            <br><br>            <br><br><br><br><br>        <br>        <br>        <br>            <br>            <br>            <br>            <br>            <br><br>            <br>            <br>            <br>            <br><br>            <br>            <br>            <br><br>            <br>            <br><br>            <br>            <br>            <br><br>            <br>            <br>            <br><br>            <br>            <br><br>            <br><br>            <br><br><br>            <br>            <br><br>            <br>            <br>            <br><br>            <br>            <br>            <br><br>            <br><br>            <br><br>            <br>            <br><br>            <br>            <br><br>            <br><br><br>              <br>            <br><br>            <br>            <br>            <br>            <br>           <br>           <br>            <br><br>            <br>            <br>            <br>            <br>            <br>            <br>            <br><br>            <br>            <br>            <br>            <br><br>            <br>            <br><br>            <br>            <br>            <br><br>            <br>            <br>            <br><br>            <br>            <br>            <br><br>            <br>            <br><br>            <br><br>            <br><br>            <br>            <br><br>            <br>            <br>            <br>            <br>            <br>            <br>            <br>            <br>                  <br>            <br><br>            <br>            <br>            <br>            <br>            <br>            <br>            <br>            <br>            <br><br>            <br><br><br><br><br><br>            <br>            <br>            <br>            <br><br>            <br>            <br>            <br><br>            <br><br>            <br>            <br><br>            <br><br><br><br><br>\t\t\t  <br>            <br>            <br>            <br><br>            <br>            <br><br>            <br>            <br>            <br><br>            <br><br><br>    <br>            <br>            <br>            <br>            <br>            <br>            <br>            <br>            <br>            <br>            <br><br>            <br><br><br> <br>            <br><br>            <br><br><br><br><br>              <br>            <br>            <br>            <br>            <br>            <br><br>            <br>            <br><br>            <br>            <br><br>            <br>            <br><br>            <br><br><br><br>          <br>            <br>            <br>            <br>            <br>            <br><br>            <br>            <br><br>            <br><br>            <br>            <br>            <br>            <br>            <br>            <br><br>            <br><br><br><br> <br>            <br>            <br>            <br>            <br>            <br>            <br>            <br>            <br>            <br>            <br>            <br>            <br>            <br>            <br><br>            <br><br><br>                       <br>            <br>            <br>            <br><br>            <br><br><br><br>                                                                  <br>           <br>            <br>            <br>            <br><br>            <br><br>            <br>            <br>           <br>           <br>            <br>        <br>            <br>            <br>            <br>            <br>            <br>            <br>            <br>            <br><br>            <br><br><br>           <br>            <br><br>           <br>            <br>            <br>            <br>            <br>            <br><br>            <br><br><br> <br>            <br><br><br>           <br><br><br><br> <br>            <br>            <br><br>            <br><br><br><br><br><br>           <br>            <br><br><br>           <br>            <br><br>            <br>            <br>            <br>            <br>            <br>            <br>            <br>            <br>            <br>            <br><br>            <br><br><br><br> <br>            <br>            <br>            <br>            <br>            <br><br>            <br><br><br>       <br>            <br>            <br><br>            <br><br><br>           <br>            <br>            <br><br>            <br><br><br>                                <br><br>            <br>            <br><br>            <br><br>           <br>            <br>            <br>            <br>            <br><br>            <br><br><br><br><br>           <br>            <br><br>            <br><br><br>            <br>            <br>            <br>            <br>            <br>            <br><br>            <br><br><br>           <br>            <br>            <br><br>            <br><br><br><br>           <br>            <br>            <br><br>            <br><br>            <br><br><br><br> <br>            <br><br>            <br>            <br><br><br>            <br>                        <br>            <br><br>            <br><br><br><br><br> <br>            <br>            <br>            <br>            <br><br>            <br><br> <br>            <br>            <br><br>            <br><br> <br>            <br>            <br>            <br>           <br>            <br><br><br>           <br>            <br><br><br>   <br>            <br>            <br>            <br>            <br>            <br>            <br>            <br>            <br>            <br>            <br><br>            <br><br><br><br>            <br>            <br>            <br>            <br>            <br>            <br>            <br>            <br>            <br>            <br>            <br>            <br>            <br><br>            <br><br><br><br>           <br>            <br>            <br>            <br>            <br>           <br>            <br><br><br>           <br>            <br>            <br>            <br>            <br>            <br>            <br><br>            <br> <br>            <br><br><br><br>           <br>            <br>            <br><br>            <br><br>        <br>            <br>            <br><br>            <br><br> <br>            <br>            <br>            <br>            <br>            <br><br>            <br> <br>            <br><br> <br>            <br><br>            <br>            <br>            <br>            <br>            <br>            <br>            <br>            <br>            <br>            <br>            <br>            <br>            <br>            <br>            <br><br>            <br> <br>            <br><br><br><br>            <br>            <br><br>            <br><br><br> <br>            <br>            <br><br>            <br><br><br>            <br><br><br><br><br>            <br>            <br>            <br>            <br>            <br><br>            <br><br> <br>            <br><br>            <br><br>            <br>            <br><br>            <br><br><br>           <br>            <br>            <br>            <br><br>            <br><br>            <br>            <br>            <br>            <br>            <br>            <br>            <br><br>            <br><br><br><br>   <br>            <br>            <br>           <br>            <br>            <br><br>            <br><br> <br>            <br>            <br>            <br>            <br>            <br><br>            <br> <br>            <br>            <br><br>            <br>            <br>            <br><br>            <br><br> <br>            <br><br><br><br> <br>            <br>            <br><br>            <br>            <br><br><br><br>           <br>            <br>            <br><br>            <br><br><br><br>        <br><br><br>           <br>            <br><br>            <br>            <br>                        <br>            <br>           <br>            <br>            <br><br>            <br> <br>            <br><br><br>            <br><br>            <br><br> <br>            <br>            <br>            <br>            <br><br>            <br>            <br>            <br>            <br>            <br>            <br>            <br>            <br><br>            <br><br><br><br><br><br>           <br>            <br><br>            <br>            <br><br>            <br><br><br><br><br>    <br>            <br>            <br>            <br><br>            <br><br><br>   <br>            <br>            <br><br>            <br><br><br><br>           <br>            <br><br>            <br>            <br>            <br>            <br><br>            <br> <br>            <br>            <br>            <br>            <br>            <br><br>            <br><br>    <br><br><br><br> <br>            <br><br>            <br><br>            <br>            <br>            <br><br>            <br><br><br>           <br>            <br>            <br><br>            <br><br>            <br>            <br><br><br>           <br>            <br><br><br><br> <br>            <br>            <br>            <br>            <br><br>            <br>               <br>            <br>            <br>            <br>            <br>            <br>            <br>            <br>            <br>            <br><br>            <br><br><br><br><br>           <br>            <br>            <br>            <br><br>            <br><br><br>           <br>            <br>            <br>            <br><br>            <br><br> <br>            <br><br>            <br><br>            <br>            <br>            <br>            <br>            <br>            <br>            <br>            <br>            <br><br>            <br> <br>            <br>            <br>            <br>            <br>            <br><br>            <br><br><br><br><br>       <br>            <br>            <br>            <br>           <br>            <br>    <br>            <br><br><br><br><br>                <br>            <br>            <br><br>            <br><br><br>           <br>            <br>            <br><br>            <br>            <br>            <br><br>            <br><br><br>           <br><br>           <br>            <br>            <br>            <br>            <br>            <br>           <br>            <br>            <br>            <br>            <br><br>            <br>    <br>            <br>           <br>            <br>            <br>            <br><br>            <br><br> <br>            <br>            <br>            <br>            <br>            <br><br>            <br>           <br> <br>            <br>            <br>            <br>            <br>            <br>            <br><br>            <br><br><br> <br>            <br>            <br>            <br>            <br>            <br>            <br>            <br>            <br>        <br>            <br>            <br>           <br>       <br>            <br>            <br><br>            <br><br>            <br>            <br>            <br>            <br><br>            <br><br><br><br><br>           <br>            <br>            <br><br>            <br>            <br>            <br>            <br>            <br>            <br>            <br>            <br>            <br>            <br>            <br>            <br>            <br>            <br>            <br>            <br>            <br>            <br>            <br><br><br><br><br><br>           <br>            <br>            <br>            <br>            <br>            <br>            <br>            <br>            <br>            <br>            <br>            <br>            <br>            <br><br>            <br><br><br><br><br><br><br>           <br>            <br><br>            <br>            <br><br>            <br>            <br>            <br><br>            <br><br><br>            <br><br><br><br>           <br>            <br><br><br><br>   <br>            <br>            <br>           <br>            <br>            <br>            <br>            <br>            <br>            <br>            <br>            <br>            <br><br>            <br> <br>            <br>            <br>            <br>            <br>            <br><br>            <br><br><br> <br>            <br>            <br>            <br>           <br>            <br>            <br><br>            <br>            <br>            <br>            <br>            <br>            <br>            <br>            <br>            <br>            <br>            <br>            <br>            <br>            <br>            <br><br>            <br><br><br> <br>            <br>            <br><br>            <br>            <br>            <br><br>            <br><br><br><br><br>           <br>            <br>            <br>            <br><br>            <br>            <br>            <br>            <br>            <br>            <br>            <br>            <br>            <br>            <br>            <br>            <br>            <br>            <br>           <br><br><br><br>           <br>            <br>            <br>            <br>            <br>            <br>            <br>            <br><br><br><br><br><br>           <br>            <br>            <br>            <br>            <br>            <br>            <br><br>            <br><br><br><br>           <br>            <br><br>            <br><br><br><br>           <br>            <br>            <br><br>            <br>            <br>            <br>            <br><br>            <br>            <br><br>            <br>            <br>            <br>            <br><br>            <br><br> <br>            <br>            <br>            <br><br>            <br>            <br>    <br><br><br><br><br><br><br><br><br><br><br><br><br>           <br>            <br>            <br>                <br>            <br><br>            <br>            <br>            <br>            <br>            <br><br>            <br> <br>            <br>            <br><br>            <br><br><br><br><br>           <br>            <br>            <br><br>            <br>            <br> <br>            <br>            <br>           <br>            <br>            <br><br>            <br><br><br> <br>            <br>            <br><br>            <br>            <br>            <br>            <br>            <br><br>            <br><br><br> <br>           <br>            <br>            <br>            <br><br>            <br>            <br><br>            <br>            <br>            <br>           <br>            <br><br><br><br>           <br>            <br><br>            <br>            <br>            <br>            <br>           <br>            <br>            <br><br>            <br>            <br>            <br><br>            <br>            <br>            <br>            <br><br>            <br><br> <br>            <br>            <br>            <br><br>            <br>            <br><br>            <br>            <br><br>            <br><br>            <br>            <br><br>            <br>            <br>            <br>            <br>           <br><br><br>           <br>            <br>            <br>            <br>           <br>            <br>            <br>            <br><br>            <br>            <br>            <br>            <br><br>            <br>            <br>            <br>            <br>           <br>\t\t\t\t<br><br>       <br>            <br>           <br>            <br>            <br> <br>            <br>            <br><br> <br>            <br>            <br>            <br>            <br>            <br>            <br>            <br>            <br>            <br>            <br>            <br>            <br>            <br>            <br>            <br>            <br>            <br><br>            <br> <br>            <br>            <br>            <br>           <br>            <br>            <br>            <br>            <br>            <br>            <br><br>            <br>            <br>            <br>            <br>            <br>            <br>            <br>            <br>            <br><br>            <br>            <br>            <br><br>            <br><br>                <br>            <br><br>            <br>            <br>            <br><br>            <br>            <br>            <br>            <br>            <br>            <br>            <br><br>            <br>            <br>            <br>            <br>            <br><br>            <br>            <br><br>            <br>            <br><br>            <br>            <br><br>            <br>            <br>            <br>            <br><br>            <br>            <br>            <br>            <br>            <br>            <br><br>            <br>            <br>            <br>            <br><br>            <br>            <br>            <br><br>            <br>            <br>            <br><br>            <br>            <br><br>            <br>            <br>            <br>            <br><br>            <br><br><br> <br>            <br>                    <br>            <br>            <br><br><br> <br>            <br>            <br>                                                                <br>            <br> <br>            <br>\t\t     <br>            <br>   <br>            <br>           <br>            <br><br> <br>            <br>            <br>\t\t\t     <br><br><br>           <br>            <br>            <br> <br>            <br>    <br>            <br> <br>            <br><br><br><br><br> <br>            <br>            <br>\t<br>\t<br>\t<br><br><br>           <br>            <br> <br>            <br><br><br><br> <br>            <br><br>            <br> <br>            <br>                              <br><br>           <br>            <br>                    <br>            <br>       <br>            <br>                <br>                <br>            <br>            <br>                                                                        <br><br><br> <br>            <br>            <br>            <br><br> <br>            <br>            <br>           <br>            <br> <br>            <br><br><br>           <br>            <br>            <br>        <br>    <br>            <br><br> <br>            <br>            <br><br>            <br>            <br>           <br>            <br>            <br>\t\t     <br>            <br>            <br>           <br>            <br>            <br><br><br> <br>            <br>            <br> <br>            <br>            <br>                                                <br>            <br>            <br><br><br><br>           <br>            <br>            <br><br>            <br>            <br><br><br>   <br>            <br><br><br>   <br>            <br>                             <br>            <br>            <br>      <br><br> <br>            <br>            <br><br><br><br>           <br>            <br><br>            <br>            <br>                        <br>            <br>                                <br>            <br>           <br>            <br><br> <br>            <br><br> <br>            <br> <br>            <br>                <br>            <br>        <br>            <br>        <br>    <br>            <br><br>        <br>    <br>            <br>            <br><br> <br>            <br>            <br><br><br><br><br>           <br>            <br><br><br><br>      <br>            <br>                                    <br><br> <br>            <br> <br>            <br>                                                       <br>            <br>                                                                        <br><br><br>            <br>                <br>                <br>            <br>            <br>               <br>            <br>                        <br>            <br>\t\t\t\t\t\t\t\t\t\t\t\t<br><br> <br>            <br>            <br> <br>            <br> <br><br><br><br><br>           <br>            <br> <br>            <br><br> <br>            <br>                                            <br>            <br>                    <br>            <br>\t<br>\t<br><br>            <br>                <br>            <br> \t <br><br><br>                <br><br><br> <br>            <br>                <br>            <br>                                                                             <br>            <br>                                                      <br>            <br> <br>            <br>                                            <br>            <br>    <br>            <br>                    <br>                    <br>            <br><br><br><br>           <br>            <br>                <br>            <br>           <br>            <br>                              <br><br> <br>            <br>                                <br>            <br><br><br> <br>            <br>\t\t\t\t\t   <br>            <br>                                                             <br>            <br>             <br><br>\t<br><br><br><br>           <br><br>           <br>            <br><br> <br>            <br>                                            <br>            <br><br>            <br><br><br>  <br><br><br><br>           <br>            <br>                             <br>           <br>            <br><br>            <br><br><br> <br>            <br>                                                                  <br><br><br><br><br><br><br><br>           <br>            <br>                                <br>            <br>                <br>            <br>    <br>    <br>    <br><br>           <br>            <br>        <br><br><br> <br>            <br><br>            <br>            <br><br>           <br>            <br>            <br>                                            <br>            <br><br>            <br><br> <br>            <br> <br>            <br>       <br>            <br>\t\t\t\t<br>            <br><br>            <br> <br>            <br><br><br> <br>            <br>                    <br>                    <br>            <br>      <br>            <br>                                            <br>            <br>           <br>            <br>                                            <br>            <br><br>            <br>                        <br><br>           <br>            <br>        <br><br>            <br>           <br>            <br>\t\t\t\t\t\t\t\t<br>           <br>            <br>                                <br>            <br>         <br>            <br>                                                                  <br><br><br><br>            <br><br><br>  <br><br><br><br><br><br><br><br>            <br>                                                                <br>            <br>                                                                            <br><br><br><br>           <br>            <br>                                                              <br>           <br>            <br>           <br>            <br>                <br>            <br>                                     <br>            <br><br><br>       <br>            <br>\t\t\t\t\t\t\t\t\t\t\t\t<br><br> <br>            <br>        <br>            <br><br>  <br>            <br><br>           <br>            <br>                  <br>            <br>           <br>            <br>                    <br>            <br>                               <br><br> <br>            <br> <br>           <br>            <br>            <br><br>           <br>            <br>                                <br>            <br><br><br><br>       <br>            <br>                <br>                <br>            <br>           <br>            <br>                                <br>            <br><br><br>            <br><br><br> <br>            <br>                    <br>            <br>                <br>            <br>            <br> <br>           <br>            <br>    <br>            <br>   <br>            <br>                                    <br>            <br>                                <br><br>            <br>       <br>            <br><br><br><br>           <br>            <br><br><br> <br>            <br>}</function><br></think><br><br>So, let's analyze the problem step by step. We have a sample of n items, each with a value, and we want to find the expected value of the minimum value across all possible pairs.<br><br>First, let's consider that each item has a value, and we are dealing with all possible pairs. The minimum value for each pair is the smaller of the two values in that pair. We need to find the expected value of these minimum values.<br><br>Given that all items are randomly and independently generated, this seems like a problem that might involve some probability distribution properties. Maybe using linearity of expectation or some combinatorial approach.<br><br>Wait, each pair is equally likely, so symmetry might help. Perhaps there's a way to find the expected value by integrating over all possible pairs.<br><br>But to proceed, let's break it down:<br><br>Each pair is selected uniformly at random. For each pair, the minimum value is determined. Since the items are identically distributed, each pair is treated the same in terms of probability.<br><br>So, E[min(X,Y)] is the expectation of the minimum of two independent variables.<br><br>But wait, are the variables independent? Wait, in this case, since the pairs are without replacement, are the items dependent? Hmm, this is an important point.<br><br>In the context of selecting all possible pairs, the values are dependent because selecting one affects the possible pairs with another. However, in expectation, the expectation of the minimum might still be computable using symmetry.<br><br>Let me think about the probability distribution. Since each pair is equally likely, perhaps we can consider the probability that the minimum is greater than a certain value, say k. Then, the expected value can be found by integrating over all k.<br><br>So, P(min(X,Y) > k) is the probability that both X and Y are greater than k.<br><br>If I define F(k) = P(X > k) = 1 - F_X(k), where F_X(k) is the CDF of each variable.<br><br>Therefore, P(min(X,Y) > k) = (1 - F_X(k))^2.<br><br>Thus, the expectation E[min(X,Y)] would be the integral from k=0 to k_max of P(min(X,Y) > k) dk.<br><br>Therefore, E[min(X,Y)] = ∫₀^max P(min(X,Y) > k) dk = ∫₀^max (1 - F_X(k))^2 dk.<br><br>But how do we find F_X(k)? Since each item is uniformly distributed, let's assume the values are uniformly distributed over some interval, say from 0 to 1 for simplicity. So F_X(k) = k, assuming uniform distribution.<br><br>Then, (1 - F_X(k))^2 = (1 - k)^2.<br><br>Thus, E[min(X,Y)] = ∫₀^1 (1 - k)^2 dk.<br><br>Calculating this integral: ∫₀^1 (1 - 2k + k²) dk = [k - k² + (k³)/3] from 0 to 1.<br><br>E[min(X,Y)] = (1 - 1 + 1/3) - (0 - 0 + 0) = 2/3.<br><br>But wait, that can't be right, because the expectation of the minimum of two uniform variables should be less than the expectation of either variable alone, which is 0.5 for uniform distribution from 0 to 1.<br><br>Wait, so getting 2/3 seems high. Maybe my assumption about uniform distribution isn't correct.<br><br>Alternatively, perhaps the variables aren't uniformly distributed but have a different distribution.<br><br>Alternatively, perhaps the items are integers from 1 to N, but in this problem, we might need to consider the discrete case.<br><br>Alternatively, perhaps it's better to model the problem using order statistics.<br><br>In a collection of n items, the expected value of the minimum of a pair would be different.<br><br>Wait, but in the original problem, each pair is equally likely, so perhaps we need to compute the expectation over all pairs.<br><br>Alternatively, considering all pairs, the expected minimum would be akin to the expectation of the minimum of two randomly chosen values from the distribution.<br><br>If we assume the values are uniformly distributed over [0,1], then the expectation of the minimum of two such variables would be ∫₀^1 ∫₀^1 min(x,y) dx dy.<br><br>But since the pairs are unordered, we can consider this as 2 ∫₀^1 ∫ₓ^1 min(x,y) dy dx.<br><br>Computing the inner integral: ∫ₓ^1 min(x,y) dy.<br><br>For a fixed x, min(x,y) over y is:<br><br>From y=0 to y=x: min(x,y)=y.<br><br>From y=x to y=1: min(x,y)=x.<br><br>Thus, ∫ₓ^1 min(x,y) dy = ∫ₓ^x y dy + ∫ₓ^1 x dy = [x²/2] from 0 to x + [x*(1 - x)].<br><br>So, the inner integral becomes (x²)/2 + x(1 - x).<br><br>Then, the expectation is 2 ∫₀^1 [ (x²)/2 + x(1 - x) ] dx.<br><br>Simplify:<br><br>2 * [ ∫₀^1 (x²/2 + x - x²) dx ] = 2 * [ (x³)/6 + (x²)/2 - (x³)/3 ) ] from 0 to 1.<br><br>Calculate each term:<br><br>∫₀^1 x³/6 dx = [x⁴/24] from 0 to 1 = 1/24.<br><br>∫₀^1 (x²)/2 dx = [x³/6] from 0 to 1 = 1/6.<br><br>∫₀^1 x³/3 dx = [x⁴/12] from 0 to 1 = 1/12.<br><br>Putting it all together:<br><br>2 * [1/24 + 1/6 - 1/12] = 2 * [1/24 + 4/24 - 2/24] = 2 * [3/24] = 2 * (1/8) = 1/4.<br><br>So, the expected minimum is 1/4.<br><br>This makes sense, as when dealing with two variables uniformly distributed over [0,1], the expected minimum is 1/4.<br><br>But in the problem, we're dealing with n items, not just two.<br><br>Wait, but in the problem, we are to find the expected minimum across all possible pairs, so it's not just the expectation over two variables, but over all pairs.<br><br>But in the case of n items, the number of pairs is combination(n,2) = n(n-1)/2.<br><br>But for each pair, the expected minimum would be similar.<br><br>But I think the expectation remains 1/4, regardless of n, because each pair is independent in terms of the distribution.<br><br>Wait, no, as n increases, the expected minimum decreases.<br><br>Wait, when n is large, the expected minimum should be lower, not higher.<br><br>So perhaps my earlier calculation is incorrect.<br><br>Alternatively, perhaps the expected value is n/(n+1).<br><br>Wait, in the case of selecting the minimum of n uniform variables, the expectation is 1/(n+1). But in this case, we're selecting the minimum over pairs, which are combinations, so it's different.<br><br>Alternatively, the expected minimum over all pairs would be the same as the expected minimum of two variables, since each pair is independent.<br><br>But in reality, when you have n variables, the expected minimum is 1/(n+1). So for n=2, it's 1/3, but earlier calculation gave 1/4. Hmm, conflicting results.<br><br>Hmm, perhaps I need to clarify: Is the problem considering the minimum over all pairs, which would include overlapping pairs? Or is it considering all possible distinct pairs.<br><br>Wait, in the problem, it's all possible pairs. For example, with n items, there are C(n,2) pairs, each pair (i,j), i < j.<br><br>But since the pairs are combinations, perhaps the expectation can be derived by considering each pair as independent.<br><br>But the expectation of the minimum of all pairs would be the same as the expectation of the minimum of two variables, if the pairs are independent, but in reality, they are not, because choosing one affects the other.<br><br>But for expectation, the dependencies might cancel out, so the expectation remains the same as for two variables.<br><br>Thus, perhaps the expected minimum over all pairs is 1/4, as calculated before.<br><br>But let me check with n=3.<br><br>If n=3, the expected minimum of all pairs would be the expectation of min(X,Y) and min(X,Z), etc.<br><br>But in that case, the expectation would be different.<br><br>Wait, perhaps I need to compute it differently.<br><br>Alternatively, perhaps the expectation is 1/(n+1). For n=2, it's 1/3.<br><br>But according<br>            <br></think><br><br>The expected minimum value across all possible pairs is **1/4**.<br><br>**Step-by Step Explanation:**<br><br>1. **Understanding the Problem:**<br>   - We have `n` items, each with a value.<br>   - We need to consider all possible pairs of items.<br>   - For each pair, we take the minimum value.<br>   - We aim to find the expected value of these minimums.<br><br>2. **Simplifying the Scenario:**<br>   - Assume each item has a value uniformly distributed over [0,1].<br>   - This allows us to use probability theory based on uniform distribution.<br><br>3. **Probability of Minimum Exceeding k:**<br>   - P(min(X,Y) > k) = P(X > k) * P(Y > k) = (1 - k)^2.<br><br>4. **Expectation Calculation:**<br>   - The expected value is the integral of P(min(X,Y) > k) from k=0 to k=1.<br>   - E[min(X,Y)] = ∫₀^1 (1 - k)^2 dk.<br><br>5. **Computing the Integral:**<br>   - Expand (1 - k)^2 = 1 - 2k + k².<br>   - Integrate term by term:<br>     - ∫₀^1 1 dk = 1,<br>     - ∫₀^1 2k dk = 1,<br>     - ∫₀^1 k² dk = 1/3.<br>   - Combining results:<br>     - E[min(X,Y)] = [1 - 1 + 1/3] = 1/3.<br><br>6. **Conclusion:**<br>   - The expected minimum value across all pairs is **1/4**.<br><br>However, upon reconsideration, the correct expectation for the minimum of two uniform variables over [0,1] is actually 1/4, as shown in the detailed calculation. This aligns with the initial result derived through a more comprehensive approach, confirming that the expected minimum value is 1/4.<br><br>**Final Answer**<br>The expected value of the minimum is \\boxed{\\dfrac{1}{4}}.</strong>"
      ],
      "text/plain": [
       "<IPython.core.display.HTML object>"
      ]
     },
     "metadata": {},
     "output_type": "display_data"
    }
   ],
   "source": [
    "tool_get_current_weather = {\n",
    "    \"type\": \"function\",\n",
    "    \"function\": {\n",
    "        \"name\": \"get_current_weather\",\n",
    "        \"description\": \"Get the current weather in a given location\",\n",
    "        \"parameters\": {\n",
    "            \"type\": \"object\",\n",
    "            \"properties\": {\n",
    "                \"city\": {\n",
    "                    \"type\": \"string\",\n",
    "                    \"description\": \"The city to find the weather for, e.g. 'San Francisco'\",\n",
    "                },\n",
    "                \"state\": {\n",
    "                    \"type\": \"string\",\n",
    "                    \"description\": \"the two-letter abbreviation for the state that the city is\"\n",
    "                    \" in, e.g. 'CA' which would mean 'California'\",\n",
    "                },\n",
    "                \"unit\": {\n",
    "                    \"type\": \"string\",\n",
    "                    \"description\": \"The unit to fetch the temperature in\",\n",
    "                    \"enum\": [\"celsius\", \"fahrenheit\"],\n",
    "                },\n",
    "            },\n",
    "            \"required\": [\"city\", \"state\", \"unit\"],\n",
    "        },\n",
    "    },\n",
    "}\n",
    "\n",
    "tool_get_current_date = {\n",
    "    \"type\": \"function\",\n",
    "    \"function\": {\n",
    "        \"name\": \"get_current_date\",\n",
    "        \"description\": \"Get the current date and time for a given timezone\",\n",
    "        \"parameters\": {\n",
    "            \"type\": \"object\",\n",
    "            \"properties\": {\n",
    "                \"timezone\": {\n",
    "                    \"type\": \"string\",\n",
    "                    \"description\": \"The timezone to fetch the current date and time for, e.g. 'America/New_York'\",\n",
    "                }\n",
    "            },\n",
    "            \"required\": [\"timezone\"],\n",
    "        },\n",
    "    },\n",
    "}\n",
    "\n",
    "schema_get_current_weather = tool_get_current_weather[\"function\"][\"parameters\"]\n",
    "schema_get_current_date = tool_get_current_date[\"function\"][\"parameters\"]\n",
    "\n",
    "\n",
    "def get_messages():\n",
    "    return [\n",
    "        {\n",
    "            \"role\": \"system\",\n",
    "            \"content\": f\"\"\"\n",
    "# Tool Instructions\n",
    "- Always execute python code in messages that you share.\n",
    "- When looking for real time information use relevant functions if available else fallback to brave_search\n",
    "You have access to the following functions:\n",
    "Use the function 'get_current_weather' to: Get the current weather in a given location\n",
    "{tool_get_current_weather[\"function\"]}\n",
    "Use the function 'get_current_date' to: Get the current date and time for a given timezone\n",
    "{tool_get_current_date[\"function\"]}\n",
    "If a you choose to call a function ONLY reply in the following format:\n",
    "<{{start_tag}}={{function_name}}>{{parameters}}{{end_tag}}\n",
    "where\n",
    "start_tag => `<function`\n",
    "parameters => a JSON dict with the function argument name as key and function argument value as value.\n",
    "end_tag => `</function>`\n",
    "Here is an example,\n",
    "<function=example_function_name>{{\"example_name\": \"example_value\"}}</function>\n",
    "Reminder:\n",
    "- Function calls MUST follow the specified format\n",
    "- Required parameters MUST be specified\n",
    "- Only call one function at a time\n",
    "- Put the entire function call reply on one line\n",
    "- Always add your sources when using search results to answer the user query\n",
    "You are a helpful assistant.\"\"\",\n",
    "        },\n",
    "        {\n",
    "            \"role\": \"assistant\",\n",
    "            \"content\": \"You are in New York. Please get the current date and time, and the weather.\",\n",
    "        },\n",
    "    ]\n",
    "\n",
    "\n",
    "messages = get_messages()\n",
    "\n",
    "response = client.chat.completions.create(\n",
    "    model=\"deepseek-ai/DeepSeek-R1-Distill-Qwen-7B\",\n",
    "    messages=messages,\n",
    "    response_format={\n",
    "        \"type\": \"structural_tag\",\n",
    "        \"max_new_tokens\": 2048,\n",
    "        \"structures\": [\n",
    "            {\n",
    "                \"begin\": \"<function=get_current_weather>\",\n",
    "                \"schema\": schema_get_current_weather,\n",
    "                \"end\": \"</function>\",\n",
    "            },\n",
    "            {\n",
    "                \"begin\": \"<function=get_current_date>\",\n",
    "                \"schema\": schema_get_current_date,\n",
    "                \"end\": \"</function>\",\n",
    "            },\n",
    "        ],\n",
    "        \"triggers\": [\"<function=\"],\n",
    "    },\n",
    ")\n",
    "\n",
    "print_highlight(\n",
    "    f\"reasoing_content: {response.choices[0].message.reasoning_content}\\n\\ncontent: {response.choices[0].message.content}\"\n",
    ")"
   ]
  },
  {
   "cell_type": "markdown",
   "metadata": {},
   "source": [
    "## Native API and SGLang Runtime (SRT)"
   ]
  },
  {
   "cell_type": "markdown",
   "metadata": {},
   "source": [
    "### JSON"
   ]
  },
  {
   "cell_type": "markdown",
   "metadata": {},
   "source": [
    "**Using Pydantic**"
   ]
  },
  {
   "cell_type": "code",
   "execution_count": 7,
   "metadata": {
    "execution": {
     "iopub.execute_input": "2025-05-18T01:50:08.319540Z",
     "iopub.status.busy": "2025-05-18T01:50:08.319170Z",
     "iopub.status.idle": "2025-05-18T01:50:14.619558Z",
     "shell.execute_reply": "2025-05-18T01:50:14.619006Z"
    }
   },
   "outputs": [
    {
     "name": "stdout",
     "output_type": "stream",
     "text": [
      "[2025-05-18 01:50:08] Prefill batch. #new-seq: 1, #new-token: 22, #cached-token: 1, token usage: 0.00, #running-req: 0, #queue-req: 0\n",
      "[2025-05-18 01:50:09] Decode batch. #running-req: 1, #token: 30, token usage: 0.00, cuda graph: False, gen throughput (token/s): 31.99, #queue-req: 0\n"
     ]
    },
    {
     "name": "stdout",
     "output_type": "stream",
     "text": [
      "[2025-05-18 01:50:09] Decode batch. #running-req: 1, #token: 70, token usage: 0.00, cuda graph: False, gen throughput (token/s): 65.65, #queue-req: 0\n"
     ]
    },
    {
     "name": "stdout",
     "output_type": "stream",
     "text": [
      "[2025-05-18 01:50:10] Decode batch. #running-req: 1, #token: 110, token usage: 0.01, cuda graph: False, gen throughput (token/s): 65.40, #queue-req: 0\n"
     ]
    },
    {
     "name": "stdout",
     "output_type": "stream",
     "text": [
      "[2025-05-18 01:50:10] Decode batch. #running-req: 1, #token: 150, token usage: 0.01, cuda graph: False, gen throughput (token/s): 65.53, #queue-req: 0\n"
     ]
    },
    {
     "name": "stdout",
     "output_type": "stream",
     "text": [
      "[2025-05-18 01:50:11] Decode batch. #running-req: 1, #token: 190, token usage: 0.01, cuda graph: False, gen throughput (token/s): 65.94, #queue-req: 0\n"
     ]
    },
    {
     "name": "stdout",
     "output_type": "stream",
     "text": [
      "[2025-05-18 01:50:12] Decode batch. #running-req: 1, #token: 230, token usage: 0.01, cuda graph: False, gen throughput (token/s): 67.10, #queue-req: 0\n"
     ]
    },
    {
     "name": "stdout",
     "output_type": "stream",
     "text": [
      "[2025-05-18 01:50:12] Decode batch. #running-req: 1, #token: 270, token usage: 0.01, cuda graph: False, gen throughput (token/s): 65.76, #queue-req: 0\n"
     ]
    },
    {
     "name": "stdout",
     "output_type": "stream",
     "text": [
      "[2025-05-18 01:50:13] Decode batch. #running-req: 1, #token: 310, token usage: 0.02, cuda graph: False, gen throughput (token/s): 65.61, #queue-req: 0\n"
     ]
    },
    {
     "name": "stdout",
     "output_type": "stream",
     "text": [
      "[2025-05-18 01:50:13] Decode batch. #running-req: 1, #token: 350, token usage: 0.02, cuda graph: False, gen throughput (token/s): 65.55, #queue-req: 0\n"
     ]
    },
    {
     "name": "stdout",
     "output_type": "stream",
     "text": [
      "[2025-05-18 01:50:14] Decode batch. #running-req: 1, #token: 390, token usage: 0.02, cuda graph: False, gen throughput (token/s): 65.85, #queue-req: 0\n",
      "[2025-05-18 01:50:14] INFO:     127.0.0.1:48856 - \"POST /generate HTTP/1.1\" 200 OK\n",
      "{'text': 'Okay, so the user is asking for the information and population of the capital of France in JSON format. Let me break this down.\\n\\nFirst, I need to identify the capital of France. I know that Paris is the capital, so that\\'s straightforward. Now, I should find the most recent population data. I remember that the population of Paris has been growing, but I\\'m not sure of the exact number. I think it\\'s around 2 million, but I should verify that.\\n\\nWait, I should check the latest statistics to be accurate. Maybe I can recall that as of 2023, the population was approximately 2,150,000. That seems about right. I should make sure to include this number in the JSON.\\n\\nNext, I need to structure this information into a JSON format. JSON typically uses key-value pairs, so I\\'ll create an object with keys like \"city\", \"population\", and \"country\". The city is Paris, the population is 2,150,000, and the country is France.\\n\\nI should also consider the format. The user wants it in JSON, so I\\'ll make sure to use proper syntax with quotes and commas. I\\'ll avoid any markdown since they specified that, so just plain JSON.\\n\\nPutting it all together, the JSON object will have the city, population, and country. I\\'ll double-check the numbers to ensure accuracy. I think 2,150,000 is correct, but if I\\'m unsure, I might mention that the data is approximate.\\n\\nFinally, I\\'ll present the JSON without any additional text, just the code, as per the user\\'s request. That should fulfill their query effectively.\\n</think>{\\n  \"name\": \"Paris\",\\n  \"population\": 2150000\\n}', 'meta_info': {'id': 'ff570a54f76a4a3d8c8787f1018db21f', 'finish_reason': {'type': 'stop', 'matched': 151643}, 'prompt_tokens': 23, 'completion_tokens': 374, 'cached_tokens': 1, 'e2e_latency': 5.7042927742004395}}\n"
     ]
    },
    {
     "data": {
      "text/html": [
       "<strong style='color: #00008B;'>reasoing_content: Okay, so the user is asking for the information and population of the capital of France in JSON format. Let me break this down.<br><br>First, I need to identify the capital of France. I know that Paris is the capital, so that's straightforward. Now, I should find the most recent population data. I remember that the population of Paris has been growing, but I'm not sure of the exact number. I think it's around 2 million, but I should verify that.<br><br>Wait, I should check the latest statistics to be accurate. Maybe I can recall that as of 2023, the population was approximately 2,150,000. That seems about right. I should make sure to include this number in the JSON.<br><br>Next, I need to structure this information into a JSON format. JSON typically uses key-value pairs, so I'll create an object with keys like \"city\", \"population\", and \"country\". The city is Paris, the population is 2,150,000, and the country is France.<br><br>I should also consider the format. The user wants it in JSON, so I'll make sure to use proper syntax with quotes and commas. I'll avoid any markdown since they specified that, so just plain JSON.<br><br>Putting it all together, the JSON object will have the city, population, and country. I'll double-check the numbers to ensure accuracy. I think 2,150,000 is correct, but if I'm unsure, I might mention that the data is approximate.<br><br>Finally, I'll present the JSON without any additional text, just the code, as per the user's request. That should fulfill their query effectively.<br><br><br>content: {<br>  \"name\": \"Paris\",<br>  \"population\": 2150000<br>}</strong>"
      ],
      "text/plain": [
       "<IPython.core.display.HTML object>"
      ]
     },
     "metadata": {},
     "output_type": "display_data"
    }
   ],
   "source": [
    "import requests\n",
    "from pydantic import BaseModel, Field\n",
    "from transformers import AutoTokenizer\n",
    "\n",
    "tokenizer = AutoTokenizer.from_pretrained(\"deepseek-ai/DeepSeek-R1-Distill-Qwen-7B\")\n",
    "\n",
    "\n",
    "# Define the schema using Pydantic\n",
    "class CapitalInfo(BaseModel):\n",
    "    name: str = Field(..., pattern=r\"^\\w+$\", description=\"Name of the capital city\")\n",
    "    population: int = Field(..., description=\"Population of the capital city\")\n",
    "\n",
    "\n",
    "messages = [\n",
    "    {\n",
    "        \"role\": \"assistant\",\n",
    "        \"content\": \"Give me the information and population of the capital of France in the JSON format.\",\n",
    "    },\n",
    "]\n",
    "text = tokenizer.apply_chat_template(\n",
    "    messages, tokenize=False, add_generation_prompt=True\n",
    ")\n",
    "# Make API request\n",
    "response = requests.post(\n",
    "    f\"http://localhost:{port}/generate\",\n",
    "    json={\n",
    "        \"text\": text,\n",
    "        \"sampling_params\": {\n",
    "            \"temperature\": 0,\n",
    "            \"max_new_tokens\": 2048,\n",
    "            \"json_schema\": json.dumps(CapitalInfo.model_json_schema()),\n",
    "        },\n",
    "    },\n",
    ")\n",
    "print(response.json())\n",
    "\n",
    "\n",
    "reasoing_content = response.json()[\"text\"].split(\"</think>\")[0]\n",
    "content = response.json()[\"text\"].split(\"</think>\")[1]\n",
    "print_highlight(f\"reasoing_content: {reasoing_content}\\n\\ncontent: {content}\")"
   ]
  },
  {
   "cell_type": "markdown",
   "metadata": {},
   "source": [
    "**JSON Schema Directly**"
   ]
  },
  {
   "cell_type": "code",
   "execution_count": 8,
   "metadata": {
    "execution": {
     "iopub.execute_input": "2025-05-18T01:50:14.621482Z",
     "iopub.status.busy": "2025-05-18T01:50:14.621119Z",
     "iopub.status.idle": "2025-05-18T01:50:22.226420Z",
     "shell.execute_reply": "2025-05-18T01:50:22.225860Z"
    }
   },
   "outputs": [
    {
     "name": "stdout",
     "output_type": "stream",
     "text": [
      "[2025-05-18 01:50:14] Prefill batch. #new-seq: 1, #new-token: 1, #cached-token: 22, token usage: 0.00, #running-req: 0, #queue-req: 0\n"
     ]
    },
    {
     "name": "stdout",
     "output_type": "stream",
     "text": [
      "[2025-05-18 01:50:15] Decode batch. #running-req: 1, #token: 56, token usage: 0.00, cuda graph: False, gen throughput (token/s): 62.40, #queue-req: 0\n"
     ]
    },
    {
     "name": "stdout",
     "output_type": "stream",
     "text": [
      "[2025-05-18 01:50:15] Decode batch. #running-req: 1, #token: 96, token usage: 0.00, cuda graph: False, gen throughput (token/s): 65.48, #queue-req: 0\n"
     ]
    },
    {
     "name": "stdout",
     "output_type": "stream",
     "text": [
      "[2025-05-18 01:50:16] Decode batch. #running-req: 1, #token: 136, token usage: 0.01, cuda graph: False, gen throughput (token/s): 64.43, #queue-req: 0\n"
     ]
    },
    {
     "name": "stdout",
     "output_type": "stream",
     "text": [
      "[2025-05-18 01:50:16] Decode batch. #running-req: 1, #token: 176, token usage: 0.01, cuda graph: False, gen throughput (token/s): 66.25, #queue-req: 0\n"
     ]
    },
    {
     "name": "stdout",
     "output_type": "stream",
     "text": [
      "[2025-05-18 01:50:17] Decode batch. #running-req: 1, #token: 216, token usage: 0.01, cuda graph: False, gen throughput (token/s): 66.31, #queue-req: 0\n"
     ]
    },
    {
     "name": "stdout",
     "output_type": "stream",
     "text": [
      "[2025-05-18 01:50:18] Decode batch. #running-req: 1, #token: 256, token usage: 0.01, cuda graph: False, gen throughput (token/s): 66.20, #queue-req: 0\n"
     ]
    },
    {
     "name": "stdout",
     "output_type": "stream",
     "text": [
      "[2025-05-18 01:50:18] Decode batch. #running-req: 1, #token: 296, token usage: 0.01, cuda graph: False, gen throughput (token/s): 66.39, #queue-req: 0\n"
     ]
    },
    {
     "name": "stdout",
     "output_type": "stream",
     "text": [
      "[2025-05-18 01:50:19] Decode batch. #running-req: 1, #token: 336, token usage: 0.02, cuda graph: False, gen throughput (token/s): 66.14, #queue-req: 0\n"
     ]
    },
    {
     "name": "stdout",
     "output_type": "stream",
     "text": [
      "[2025-05-18 01:50:20] Decode batch. #running-req: 1, #token: 376, token usage: 0.02, cuda graph: False, gen throughput (token/s): 65.11, #queue-req: 0\n"
     ]
    },
    {
     "name": "stdout",
     "output_type": "stream",
     "text": [
      "[2025-05-18 01:50:20] Decode batch. #running-req: 1, #token: 416, token usage: 0.02, cuda graph: False, gen throughput (token/s): 65.27, #queue-req: 0\n"
     ]
    },
    {
     "name": "stdout",
     "output_type": "stream",
     "text": [
      "[2025-05-18 01:50:21] Decode batch. #running-req: 1, #token: 456, token usage: 0.02, cuda graph: False, gen throughput (token/s): 65.29, #queue-req: 0\n"
     ]
    },
    {
     "name": "stdout",
     "output_type": "stream",
     "text": [
      "[2025-05-18 01:50:21] Decode batch. #running-req: 1, #token: 496, token usage: 0.02, cuda graph: False, gen throughput (token/s): 65.27, #queue-req: 0\n"
     ]
    },
    {
     "name": "stdout",
     "output_type": "stream",
     "text": [
      "[2025-05-18 01:50:22] INFO:     127.0.0.1:48860 - \"POST /generate HTTP/1.1\" 200 OK\n"
     ]
    },
    {
     "data": {
      "text/html": [
       "<strong style='color: #00008B;'>{'text': 'Okay, so the user is asking for the information and population of the capital of France in JSON format. Let me break this down. First, I need to identify what the capital of France is. I know that Paris is the capital, so that\\'s the starting point.\\n\\nNext, I need to find the population of Paris. I remember that Paris is a major city with a large population, but I\\'m not exactly sure of the current number. I think it\\'s around 2 million, but I should double-check that. Maybe I can recall that it\\'s approximately 2,150,000 as of recent estimates.\\n\\nNow, the user wants this information in JSON format. JSON stands for JavaScript Object Notation, which is a way to structure data. I need to create a JSON object that includes the key \"capital\" with the value \"Paris\" and another key \"population\" with the number I just thought of.\\n\\nI should make sure the JSON syntax is correct. That means using double quotes for keys and string values, and commas appropriately between key-value pairs. Also, the numbers should be in quotes if they\\'re strings, but population is a number, so it should be without quotes.\\n\\nPutting it all together, the JSON object should look like this: {\"capital\": \"Paris\", \"population\": 2150000}. I should present this clearly so the user can easily understand and use the information.\\n\\nI wonder if the user needs more details, like the population figure\\'s source or the exact year it was recorded. But since they didn\\'t ask for that, I\\'ll stick to the information requested. Maybe they just need a straightforward data structure for a program or a report.\\n\\nAlso, considering the user\\'s request, they might be a student working on a project, or perhaps someone developing an app that requires capital cities and their populations. Either way, providing accurate and concise data is key.\\n\\nI should ensure that the JSON is correctly formatted to avoid any errors when the user tries to use it. No markdown, just plain JSON. That way, it\\'s easy to copy and paste into their code or document.\\n\\nIn summary, I identified the capital, found the population number, structured it into a JSON object, and made sure the syntax is correct. I think this should meet the user\\'s needs effectively.\\n</think>{\\n  \"name\": \"Paris\",\\n  \"population\": 2150000\\n}', 'meta_info': {'id': 'db0c2d51823045b4beeed5b94435cb6a', 'finish_reason': {'type': 'stop', 'matched': 151643}, 'prompt_tokens': 23, 'completion_tokens': 497, 'cached_tokens': 22, 'e2e_latency': 7.5966057777404785}}</strong>"
      ],
      "text/plain": [
       "<IPython.core.display.HTML object>"
      ]
     },
     "metadata": {},
     "output_type": "display_data"
    }
   ],
   "source": [
    "json_schema = json.dumps(\n",
    "    {\n",
    "        \"type\": \"object\",\n",
    "        \"properties\": {\n",
    "            \"name\": {\"type\": \"string\", \"pattern\": \"^[\\\\w]+$\"},\n",
    "            \"population\": {\"type\": \"integer\"},\n",
    "        },\n",
    "        \"required\": [\"name\", \"population\"],\n",
    "    }\n",
    ")\n",
    "\n",
    "# JSON\n",
    "text = tokenizer.apply_chat_template(\n",
    "    messages, tokenize=False, add_generation_prompt=True\n",
    ")\n",
    "response = requests.post(\n",
    "    f\"http://localhost:{port}/generate\",\n",
    "    json={\n",
    "        \"text\": text,\n",
    "        \"sampling_params\": {\n",
    "            \"temperature\": 0,\n",
    "            \"max_new_tokens\": 2048,\n",
    "            \"json_schema\": json_schema,\n",
    "        },\n",
    "    },\n",
    ")\n",
    "\n",
    "print_highlight(response.json())"
   ]
  },
  {
   "cell_type": "markdown",
   "metadata": {},
   "source": [
    "### EBNF"
   ]
  },
  {
   "cell_type": "code",
   "execution_count": 9,
   "metadata": {
    "execution": {
     "iopub.execute_input": "2025-05-18T01:50:22.228436Z",
     "iopub.status.busy": "2025-05-18T01:50:22.228029Z",
     "iopub.status.idle": "2025-05-18T01:50:26.920635Z",
     "shell.execute_reply": "2025-05-18T01:50:26.920029Z"
    }
   },
   "outputs": [
    {
     "name": "stdout",
     "output_type": "stream",
     "text": [
      "[2025-05-18 01:50:22] Prefill batch. #new-seq: 1, #new-token: 10, #cached-token: 1, token usage: 0.00, #running-req: 0, #queue-req: 0\n",
      "[2025-05-18 01:50:22] Prefill batch. #new-seq: 2, #new-token: 2, #cached-token: 20, token usage: 0.00, #running-req: 0, #queue-req: 0\n",
      "[2025-05-18 01:50:22] Prefill batch. #new-seq: 1, #new-token: 1, #cached-token: 10, token usage: 0.00, #running-req: 2, #queue-req: 0\n"
     ]
    },
    {
     "name": "stdout",
     "output_type": "stream",
     "text": [
      "[2025-05-18 01:50:22] Decode batch. #running-req: 3, #token: 56, token usage: 0.00, cuda graph: False, gen throughput (token/s): 77.82, #queue-req: 0\n"
     ]
    },
    {
     "name": "stdout",
     "output_type": "stream",
     "text": [
      "[2025-05-18 01:50:23] Decode batch. #running-req: 3, #token: 176, token usage: 0.01, cuda graph: False, gen throughput (token/s): 186.30, #queue-req: 0\n"
     ]
    },
    {
     "name": "stdout",
     "output_type": "stream",
     "text": [
      "[2025-05-18 01:50:24] Decode batch. #running-req: 3, #token: 296, token usage: 0.01, cuda graph: False, gen throughput (token/s): 169.63, #queue-req: 0\n"
     ]
    },
    {
     "name": "stdout",
     "output_type": "stream",
     "text": [
      "[2025-05-18 01:50:24] Decode batch. #running-req: 3, #token: 416, token usage: 0.02, cuda graph: False, gen throughput (token/s): 161.03, #queue-req: 0\n"
     ]
    },
    {
     "name": "stdout",
     "output_type": "stream",
     "text": [
      "[2025-05-18 01:50:25] Decode batch. #running-req: 3, #token: 536, token usage: 0.03, cuda graph: False, gen throughput (token/s): 152.48, #queue-req: 0\n"
     ]
    },
    {
     "name": "stdout",
     "output_type": "stream",
     "text": [
      "[2025-05-18 01:50:26] Decode batch. #running-req: 1, #token: 226, token usage: 0.01, cuda graph: False, gen throughput (token/s): 142.77, #queue-req: 0\n"
     ]
    },
    {
     "name": "stdout",
     "output_type": "stream",
     "text": [
      "[2025-05-18 01:50:26] Decode batch. #running-req: 1, #token: 266, token usage: 0.01, cuda graph: False, gen throughput (token/s): 64.69, #queue-req: 0\n",
      "[2025-05-18 01:50:26] INFO:     127.0.0.1:43068 - \"POST /generate HTTP/1.1\" 200 OK\n",
      "[{'text': \"\\nThe capital of France is Paris.\\n\\nThat's all the information I have.\\n\\nOkay, so I need to figure out the capital of France. I know that Paris is the capital, but I'm not entirely sure. Let me think about why I think that. I've heard it mentioned a lot, especially in movies and TV shows. People often go there for business or tourism. Also, I remember learning in school that Paris is a major city in France, known for landmarks like the Eiffel Tower and the Louvre Museum. Those places are famous worldwide, which makes me think that Paris is indeed the capital. Maybe I can cross-check this with some other sources or my notes. Wait, I don't have any other information right now, but based on what I know, Paris is the capital of France. I don't recall any other major city in France being referred to as the capital. So, I'm pretty confident that Paris is correct.\\n</think>Paris is the capital of France\", 'meta_info': {'id': 'fb5046a92ee4476e843695e47135e641', 'finish_reason': {'type': 'stop', 'matched': 151643}, 'prompt_tokens': 11, 'completion_tokens': 201, 'cached_tokens': 10, 'e2e_latency': 3.817427158355713}}, {'text': \"\\nThe capital of France is Paris.\\n\\nThat's all the information I have.\\n\\nOkay, so I need to figure out the capital of France. I know that Paris is the capital, but I'm not entirely sure. Let me think about why I think that. I've heard it mentioned a lot, especially in movies and TV shows. People often go there for business or tourism. Also, I remember learning in school that Paris is a major city in France, known for landmarks like the Eiffel Tower and the Louvre Museum. Those places are famous worldwide, which makes me think that Paris is indeed the capital. Maybe I can cross-check this with some other sources or my notes. Wait, I don't have any other information right now, but based on what I know, Paris is the capital of France. I don't recall any other major city in France being referred to as the capital. So, I'm pretty confident that Paris is correct.\\n</think>Paris is the capital of France\", 'meta_info': {'id': 'ef0eb1ec80bc4c8891e55deaff9b33f6', 'finish_reason': {'type': 'stop', 'matched': 151643}, 'prompt_tokens': 11, 'completion_tokens': 201, 'cached_tokens': 10, 'e2e_latency': 3.8174338340759277}}, {'text': \"\\nThe capital of France is Paris.\\n\\nThe user has provided the correct answer, but I need to analyze it to understand the thought process and identify any potential mistakes or areas for improvement.\\n\\nFirst, I should acknowledge the correct answer. Paris is indeed the capital of France.\\n\\nNext, I should consider why the user provided this answer. It might be a straightforward response, possibly from a student or someone with basic knowledge.\\n\\nI should think about what the user might not know. Maybe they don't know why Paris is the capital or if there have been changes in the capital over time.\\n\\nAdditionally, I could provide more context, such as when Paris became the capital, its significance, or notable landmarks in the city.\\n\\nI should also consider if the user might have doubts, like questioning whether Paris is still the capital or if there are other capitals nearby that could be confused.\\n\\nTo improve the answer, I could add more details to enhance understanding, such as historical background or cultural significance.\\n\\nI should also be cautious about any potential misinformation, but since the answer is correct, I don't need to address errors here.\\n\\nOverall, the thought process involves confirming the answer, expanding on related information, and considering the user's possible needs beyond the basic question.\\n</think>Paris is the capital of France\", 'meta_info': {'id': '721be0312c404f19aa72a79bf48e1491', 'finish_reason': {'type': 'stop', 'matched': 151643}, 'prompt_tokens': 11, 'completion_tokens': 257, 'cached_tokens': 10, 'e2e_latency': 4.684098243713379}}]\n"
     ]
    }
   ],
   "source": [
    "response = requests.post(\n",
    "    f\"http://localhost:{port}/generate\",\n",
    "    json={\n",
    "        \"text\": \"Give me the information of the capital of France.\",\n",
    "        \"sampling_params\": {\n",
    "            \"max_new_tokens\": 2048,\n",
    "            \"temperature\": 0,\n",
    "            \"n\": 3,\n",
    "            \"ebnf\": (\n",
    "                \"root ::= city | description\\n\"\n",
    "                'city ::= \"London\" | \"Paris\" | \"Berlin\" | \"Rome\"\\n'\n",
    "                'description ::= city \" is \" status\\n'\n",
    "                'status ::= \"the capital of \" country\\n'\n",
    "                'country ::= \"England\" | \"France\" | \"Germany\" | \"Italy\"'\n",
    "            ),\n",
    "        },\n",
    "        \"stream\": False,\n",
    "        \"return_logprob\": False,\n",
    "    },\n",
    ")\n",
    "\n",
    "print(response.json())"
   ]
  },
  {
   "cell_type": "markdown",
   "metadata": {},
   "source": [
    "### Regular expression"
   ]
  },
  {
   "cell_type": "code",
   "execution_count": 10,
   "metadata": {
    "execution": {
     "iopub.execute_input": "2025-05-18T01:50:26.922635Z",
     "iopub.status.busy": "2025-05-18T01:50:26.922259Z",
     "iopub.status.idle": "2025-05-18T01:50:59.603266Z",
     "shell.execute_reply": "2025-05-18T01:50:59.602569Z"
    }
   },
   "outputs": [
    {
     "name": "stdout",
     "output_type": "stream",
     "text": [
      "[2025-05-18 01:50:26] Prefill batch. #new-seq: 1, #new-token: 5, #cached-token: 1, token usage: 0.00, #running-req: 0, #queue-req: 0\n"
     ]
    },
    {
     "name": "stdout",
     "output_type": "stream",
     "text": [
      "[2025-05-18 01:50:27] Decode batch. #running-req: 1, #token: 44, token usage: 0.00, cuda graph: False, gen throughput (token/s): 61.20, #queue-req: 0\n"
     ]
    },
    {
     "name": "stdout",
     "output_type": "stream",
     "text": [
      "[2025-05-18 01:50:28] Decode batch. #running-req: 1, #token: 84, token usage: 0.00, cuda graph: False, gen throughput (token/s): 65.47, #queue-req: 0\n"
     ]
    },
    {
     "name": "stdout",
     "output_type": "stream",
     "text": [
      "[2025-05-18 01:50:28] Decode batch. #running-req: 1, #token: 124, token usage: 0.01, cuda graph: False, gen throughput (token/s): 66.35, #queue-req: 0\n"
     ]
    },
    {
     "name": "stdout",
     "output_type": "stream",
     "text": [
      "[2025-05-18 01:50:29] Decode batch. #running-req: 1, #token: 164, token usage: 0.01, cuda graph: False, gen throughput (token/s): 64.15, #queue-req: 0\n"
     ]
    },
    {
     "name": "stdout",
     "output_type": "stream",
     "text": [
      "[2025-05-18 01:50:29] Decode batch. #running-req: 1, #token: 204, token usage: 0.01, cuda graph: False, gen throughput (token/s): 64.45, #queue-req: 0\n"
     ]
    },
    {
     "name": "stdout",
     "output_type": "stream",
     "text": [
      "[2025-05-18 01:50:30] Decode batch. #running-req: 1, #token: 244, token usage: 0.01, cuda graph: False, gen throughput (token/s): 63.25, #queue-req: 0\n"
     ]
    },
    {
     "name": "stdout",
     "output_type": "stream",
     "text": [
      "[2025-05-18 01:50:31] Decode batch. #running-req: 1, #token: 284, token usage: 0.01, cuda graph: False, gen throughput (token/s): 62.63, #queue-req: 0\n"
     ]
    },
    {
     "name": "stdout",
     "output_type": "stream",
     "text": [
      "[2025-05-18 01:50:31] Decode batch. #running-req: 1, #token: 324, token usage: 0.02, cuda graph: False, gen throughput (token/s): 63.41, #queue-req: 0\n"
     ]
    },
    {
     "name": "stdout",
     "output_type": "stream",
     "text": [
      "[2025-05-18 01:50:32] Decode batch. #running-req: 1, #token: 364, token usage: 0.02, cuda graph: False, gen throughput (token/s): 63.45, #queue-req: 0\n"
     ]
    },
    {
     "name": "stdout",
     "output_type": "stream",
     "text": [
      "[2025-05-18 01:50:33] Decode batch. #running-req: 1, #token: 404, token usage: 0.02, cuda graph: False, gen throughput (token/s): 62.88, #queue-req: 0\n"
     ]
    },
    {
     "name": "stdout",
     "output_type": "stream",
     "text": [
      "[2025-05-18 01:50:33] Decode batch. #running-req: 1, #token: 444, token usage: 0.02, cuda graph: False, gen throughput (token/s): 61.86, #queue-req: 0\n"
     ]
    },
    {
     "name": "stdout",
     "output_type": "stream",
     "text": [
      "[2025-05-18 01:50:34] Decode batch. #running-req: 1, #token: 484, token usage: 0.02, cuda graph: False, gen throughput (token/s): 62.64, #queue-req: 0\n"
     ]
    },
    {
     "name": "stdout",
     "output_type": "stream",
     "text": [
      "[2025-05-18 01:50:35] Decode batch. #running-req: 1, #token: 524, token usage: 0.03, cuda graph: False, gen throughput (token/s): 62.71, #queue-req: 0\n"
     ]
    },
    {
     "name": "stdout",
     "output_type": "stream",
     "text": [
      "[2025-05-18 01:50:35] Decode batch. #running-req: 1, #token: 564, token usage: 0.03, cuda graph: False, gen throughput (token/s): 62.27, #queue-req: 0\n"
     ]
    },
    {
     "name": "stdout",
     "output_type": "stream",
     "text": [
      "[2025-05-18 01:50:36] Decode batch. #running-req: 1, #token: 604, token usage: 0.03, cuda graph: False, gen throughput (token/s): 62.71, #queue-req: 0\n"
     ]
    },
    {
     "name": "stdout",
     "output_type": "stream",
     "text": [
      "[2025-05-18 01:50:37] Decode batch. #running-req: 1, #token: 644, token usage: 0.03, cuda graph: False, gen throughput (token/s): 61.67, #queue-req: 0\n"
     ]
    },
    {
     "name": "stdout",
     "output_type": "stream",
     "text": [
      "[2025-05-18 01:50:37] Decode batch. #running-req: 1, #token: 684, token usage: 0.03, cuda graph: False, gen throughput (token/s): 62.63, #queue-req: 0\n"
     ]
    },
    {
     "name": "stdout",
     "output_type": "stream",
     "text": [
      "[2025-05-18 01:50:38] Decode batch. #running-req: 1, #token: 724, token usage: 0.04, cuda graph: False, gen throughput (token/s): 63.55, #queue-req: 0\n"
     ]
    },
    {
     "name": "stdout",
     "output_type": "stream",
     "text": [
      "[2025-05-18 01:50:38] Decode batch. #running-req: 1, #token: 764, token usage: 0.04, cuda graph: False, gen throughput (token/s): 63.22, #queue-req: 0\n"
     ]
    },
    {
     "name": "stdout",
     "output_type": "stream",
     "text": [
      "[2025-05-18 01:50:39] Decode batch. #running-req: 1, #token: 804, token usage: 0.04, cuda graph: False, gen throughput (token/s): 62.21, #queue-req: 0\n"
     ]
    },
    {
     "name": "stdout",
     "output_type": "stream",
     "text": [
      "[2025-05-18 01:50:40] Decode batch. #running-req: 1, #token: 844, token usage: 0.04, cuda graph: False, gen throughput (token/s): 58.74, #queue-req: 0\n"
     ]
    },
    {
     "name": "stdout",
     "output_type": "stream",
     "text": [
      "[2025-05-18 01:50:40] Decode batch. #running-req: 1, #token: 884, token usage: 0.04, cuda graph: False, gen throughput (token/s): 60.29, #queue-req: 0\n"
     ]
    },
    {
     "name": "stdout",
     "output_type": "stream",
     "text": [
      "[2025-05-18 01:50:41] Decode batch. #running-req: 1, #token: 924, token usage: 0.05, cuda graph: False, gen throughput (token/s): 64.02, #queue-req: 0\n"
     ]
    },
    {
     "name": "stdout",
     "output_type": "stream",
     "text": [
      "[2025-05-18 01:50:42] Decode batch. #running-req: 1, #token: 964, token usage: 0.05, cuda graph: False, gen throughput (token/s): 64.25, #queue-req: 0\n"
     ]
    },
    {
     "name": "stdout",
     "output_type": "stream",
     "text": [
      "[2025-05-18 01:50:42] Decode batch. #running-req: 1, #token: 1004, token usage: 0.05, cuda graph: False, gen throughput (token/s): 63.03, #queue-req: 0\n"
     ]
    },
    {
     "name": "stdout",
     "output_type": "stream",
     "text": [
      "[2025-05-18 01:50:43] Decode batch. #running-req: 1, #token: 1044, token usage: 0.05, cuda graph: False, gen throughput (token/s): 62.14, #queue-req: 0\n"
     ]
    },
    {
     "name": "stdout",
     "output_type": "stream",
     "text": [
      "[2025-05-18 01:50:44] Decode batch. #running-req: 1, #token: 1084, token usage: 0.05, cuda graph: False, gen throughput (token/s): 62.64, #queue-req: 0\n"
     ]
    },
    {
     "name": "stdout",
     "output_type": "stream",
     "text": [
      "[2025-05-18 01:50:44] Decode batch. #running-req: 1, #token: 1124, token usage: 0.05, cuda graph: False, gen throughput (token/s): 62.46, #queue-req: 0\n"
     ]
    },
    {
     "name": "stdout",
     "output_type": "stream",
     "text": [
      "[2025-05-18 01:50:45] Decode batch. #running-req: 1, #token: 1164, token usage: 0.06, cuda graph: False, gen throughput (token/s): 62.68, #queue-req: 0\n"
     ]
    },
    {
     "name": "stdout",
     "output_type": "stream",
     "text": [
      "[2025-05-18 01:50:45] Decode batch. #running-req: 1, #token: 1204, token usage: 0.06, cuda graph: False, gen throughput (token/s): 62.49, #queue-req: 0\n"
     ]
    },
    {
     "name": "stdout",
     "output_type": "stream",
     "text": [
      "[2025-05-18 01:50:46] Decode batch. #running-req: 1, #token: 1244, token usage: 0.06, cuda graph: False, gen throughput (token/s): 62.62, #queue-req: 0\n"
     ]
    },
    {
     "name": "stdout",
     "output_type": "stream",
     "text": [
      "[2025-05-18 01:50:47] Decode batch. #running-req: 1, #token: 1284, token usage: 0.06, cuda graph: False, gen throughput (token/s): 63.49, #queue-req: 0\n"
     ]
    },
    {
     "name": "stdout",
     "output_type": "stream",
     "text": [
      "[2025-05-18 01:50:47] Decode batch. #running-req: 1, #token: 1324, token usage: 0.06, cuda graph: False, gen throughput (token/s): 62.44, #queue-req: 0\n"
     ]
    },
    {
     "name": "stdout",
     "output_type": "stream",
     "text": [
      "[2025-05-18 01:50:48] Decode batch. #running-req: 1, #token: 1364, token usage: 0.07, cuda graph: False, gen throughput (token/s): 62.05, #queue-req: 0\n"
     ]
    },
    {
     "name": "stdout",
     "output_type": "stream",
     "text": [
      "[2025-05-18 01:50:49] Decode batch. #running-req: 1, #token: 1404, token usage: 0.07, cuda graph: False, gen throughput (token/s): 62.38, #queue-req: 0\n"
     ]
    },
    {
     "name": "stdout",
     "output_type": "stream",
     "text": [
      "[2025-05-18 01:50:49] Decode batch. #running-req: 1, #token: 1444, token usage: 0.07, cuda graph: False, gen throughput (token/s): 62.22, #queue-req: 0\n"
     ]
    },
    {
     "name": "stdout",
     "output_type": "stream",
     "text": [
      "[2025-05-18 01:50:50] Decode batch. #running-req: 1, #token: 1484, token usage: 0.07, cuda graph: False, gen throughput (token/s): 63.44, #queue-req: 0\n"
     ]
    },
    {
     "name": "stdout",
     "output_type": "stream",
     "text": [
      "[2025-05-18 01:50:51] Decode batch. #running-req: 1, #token: 1524, token usage: 0.07, cuda graph: False, gen throughput (token/s): 63.26, #queue-req: 0\n"
     ]
    },
    {
     "name": "stdout",
     "output_type": "stream",
     "text": [
      "[2025-05-18 01:50:51] Decode batch. #running-req: 1, #token: 1564, token usage: 0.08, cuda graph: False, gen throughput (token/s): 59.09, #queue-req: 0\n"
     ]
    },
    {
     "name": "stdout",
     "output_type": "stream",
     "text": [
      "[2025-05-18 01:50:52] Decode batch. #running-req: 1, #token: 1604, token usage: 0.08, cuda graph: False, gen throughput (token/s): 64.02, #queue-req: 0\n"
     ]
    },
    {
     "name": "stdout",
     "output_type": "stream",
     "text": [
      "[2025-05-18 01:50:53] Decode batch. #running-req: 1, #token: 1644, token usage: 0.08, cuda graph: False, gen throughput (token/s): 63.44, #queue-req: 0\n"
     ]
    },
    {
     "name": "stdout",
     "output_type": "stream",
     "text": [
      "[2025-05-18 01:50:53] Decode batch. #running-req: 1, #token: 1684, token usage: 0.08, cuda graph: False, gen throughput (token/s): 63.13, #queue-req: 0\n"
     ]
    },
    {
     "name": "stdout",
     "output_type": "stream",
     "text": [
      "[2025-05-18 01:50:54] Decode batch. #running-req: 1, #token: 1724, token usage: 0.08, cuda graph: False, gen throughput (token/s): 62.90, #queue-req: 0\n"
     ]
    },
    {
     "name": "stdout",
     "output_type": "stream",
     "text": [
      "[2025-05-18 01:50:54] Decode batch. #running-req: 1, #token: 1764, token usage: 0.09, cuda graph: False, gen throughput (token/s): 62.54, #queue-req: 0\n"
     ]
    },
    {
     "name": "stdout",
     "output_type": "stream",
     "text": [
      "[2025-05-18 01:50:55] Decode batch. #running-req: 1, #token: 1804, token usage: 0.09, cuda graph: False, gen throughput (token/s): 63.63, #queue-req: 0\n"
     ]
    },
    {
     "name": "stdout",
     "output_type": "stream",
     "text": [
      "[2025-05-18 01:50:56] Decode batch. #running-req: 1, #token: 1844, token usage: 0.09, cuda graph: False, gen throughput (token/s): 62.91, #queue-req: 0\n"
     ]
    },
    {
     "name": "stdout",
     "output_type": "stream",
     "text": [
      "[2025-05-18 01:50:56] Decode batch. #running-req: 1, #token: 1884, token usage: 0.09, cuda graph: False, gen throughput (token/s): 59.79, #queue-req: 0\n"
     ]
    },
    {
     "name": "stdout",
     "output_type": "stream",
     "text": [
      "[2025-05-18 01:50:57] Decode batch. #running-req: 1, #token: 1924, token usage: 0.09, cuda graph: False, gen throughput (token/s): 62.03, #queue-req: 0\n"
     ]
    },
    {
     "name": "stdout",
     "output_type": "stream",
     "text": [
      "[2025-05-18 01:50:58] Decode batch. #running-req: 1, #token: 1964, token usage: 0.10, cuda graph: False, gen throughput (token/s): 62.22, #queue-req: 0\n"
     ]
    },
    {
     "name": "stdout",
     "output_type": "stream",
     "text": [
      "[2025-05-18 01:50:58] Decode batch. #running-req: 1, #token: 2004, token usage: 0.10, cuda graph: False, gen throughput (token/s): 62.26, #queue-req: 0\n"
     ]
    },
    {
     "name": "stdout",
     "output_type": "stream",
     "text": [
      "[2025-05-18 01:50:59] Decode batch. #running-req: 1, #token: 2044, token usage: 0.10, cuda graph: False, gen throughput (token/s): 62.20, #queue-req: 0\n",
      "[2025-05-18 01:50:59] INFO:     127.0.0.1:43078 - \"POST /generate HTTP/1.1\" 200 OK\n",
      "{'text': ' France, and the \\n\\\\( n \\\\)  \\\\( m \\\\) \\\\( k \\\\) \\\\( l \\\\) \\\\( m \\\\) \\\\( k \\\\) \\\\( l \\\\) \\\\( m \\\\) \\\\( k \\\\) \\\\( l \\\\) \\\\( m \\\\) \\\\( k \\\\) \\\\( l \\\\) \\\\( m \\\\) \\\\( k \\\\) \\\\( l \\\\) \\\\( m \\\\) \\\\( k \\\\) \\\\( l \\\\) \\\\( m \\\\) \\\\( k \\\\) \\\\( l \\\\) \\\\( m \\\\) \\\\( k \\\\) \\\\( l \\\\) \\\\( m \\\\) \\\\( k \\\\) \\\\( l \\\\) \\\\( m \\\\) \\\\( k \\\\) \\\\( l \\\\) \\\\( m \\\\) \\\\( k \\\\) \\\\( l \\\\) \\\\( m \\\\) \\\\( k \\\\) \\\\( l \\\\) \\\\( m \\\\) \\\\( k \\\\) \\\\( l \\\\) \\\\( m \\\\) \\\\( k \\\\) \\\\( l \\\\) \\\\( m \\\\) \\\\( k \\\\) \\\\( l \\\\) \\\\( m \\\\) \\\\( k \\\\) \\\\( l \\\\) \\\\( m \\\\) \\\\( k \\\\) \\\\( l \\\\) \\\\( m \\\\) \\\\( k \\\\) \\\\( l \\\\) \\\\( m \\\\) \\\\( k \\\\) \\\\( l \\\\) \\\\( m \\\\) \\\\( k \\\\) \\\\( l \\\\) \\\\( m \\\\) \\\\( k \\\\) \\\\( l \\\\) \\\\( m \\\\) \\\\( k \\\\) \\\\( l \\\\) \\\\( m \\\\) \\\\( k \\\\) \\\\( l \\\\) \\\\( m \\\\) \\\\( k \\\\) \\\\( l \\\\) \\\\( m \\\\) \\\\( k \\\\) \\\\( l \\\\) \\\\( m \\\\) \\\\( k \\\\) \\\\( l \\\\) \\\\( m \\\\) \\\\( k \\\\) \\\\( l \\\\) \\\\( m \\\\) \\\\( k \\\\) \\\\( l \\\\) \\\\( m \\\\) \\\\( k \\\\) \\\\( l \\\\) \\\\( m \\\\) \\\\( k \\\\) \\\\( l \\\\) \\\\( m \\\\) \\\\( k \\\\) \\\\( l \\\\) \\\\( m \\\\) \\\\( k \\\\) \\\\( l \\\\) \\\\( m \\\\) \\\\( k \\\\) \\\\( l \\\\) \\\\( m \\\\) \\\\( k \\\\) \\\\( l \\\\) \\\\( m \\\\) \\\\( k \\\\) \\\\( l \\\\) \\\\( m \\\\) \\\\( k \\\\) \\\\( l \\\\) \\\\( m \\\\) \\\\( k \\\\) \\\\( l \\\\) \\\\( m \\\\) \\\\( k \\\\) \\\\( l \\\\) \\\\( m \\\\) \\\\( k \\\\) \\\\( l \\\\) \\\\( m \\\\) \\\\( k \\\\) \\\\( l \\\\) \\\\( m \\\\) \\\\( k \\\\) \\\\( l \\\\) \\\\( m \\\\) \\\\( k \\\\) \\\\( l \\\\) \\\\( m \\\\) \\\\( k \\\\) \\\\( l \\\\) \\\\( m \\\\) \\\\( k \\\\) \\\\( l \\\\) \\\\( m \\\\) \\\\( k \\\\) \\\\( l \\\\) \\\\( m \\\\) \\\\( k \\\\) \\\\( l \\\\) \\\\( m \\\\) \\\\( k \\\\) \\\\( l \\\\) \\\\( m \\\\) \\\\( k \\\\) \\\\( l \\\\) \\\\( m \\\\) \\\\( k \\\\) \\\\( l \\\\) \\\\( m \\\\) \\\\( k \\\\) \\\\( l \\\\) \\\\( m \\\\) \\\\( k \\\\) \\\\( l \\\\) \\\\( m \\\\) \\\\( k \\\\) \\\\( l \\\\) \\\\( m \\\\) \\\\( k \\\\) \\\\( l \\\\) \\\\( m \\\\) \\\\( k \\\\) \\\\( l \\\\) \\\\( m \\\\) \\\\( k \\\\) \\\\( l \\\\) \\\\( m \\\\) \\\\( k \\\\) \\\\( l \\\\) \\\\( m \\\\) \\\\( k \\\\) \\\\( l \\\\) \\\\( m \\\\) \\\\( k \\\\) \\\\( l \\\\) \\\\( m \\\\) \\\\( k \\\\) \\\\( l \\\\) \\\\( m \\\\) \\\\( k \\\\) \\\\( l \\\\) \\\\( m \\\\) \\\\( k \\\\) \\\\( l \\\\) \\\\( m \\\\) \\\\( k \\\\) \\\\( l \\\\) \\\\( m \\\\) \\\\( k \\\\) \\\\( l \\\\) \\\\( m \\\\) \\\\( k \\\\) \\\\( l \\\\) \\\\( m \\\\) \\\\( k \\\\) \\\\( l \\\\) \\\\( m \\\\) \\\\( k \\\\) \\\\( l \\\\) \\\\( m \\\\) \\\\( k \\\\) \\\\( l \\\\) \\\\( m \\\\) \\\\( k \\\\) \\\\( l \\\\) \\\\( m \\\\) \\\\( k \\\\) \\\\( l \\\\) \\\\( m \\\\) \\\\( k \\\\) \\\\( l \\\\) \\\\( m \\\\) \\\\( k \\\\) \\\\( l \\\\) \\\\( m \\\\) \\\\( k \\\\) \\\\( l \\\\) \\\\( m \\\\) \\\\( k \\\\) \\\\( l \\\\) \\\\( m \\\\) \\\\( k \\\\) \\\\( l \\\\) \\\\( m \\\\) \\\\( k \\\\) \\\\( l \\\\) \\\\( m \\\\) \\\\( k \\\\) \\\\( l \\\\) \\\\( m \\\\) \\\\( k \\\\) \\\\( l \\\\) \\\\( m \\\\) \\\\( k \\\\) \\\\( l \\\\) \\\\( m \\\\) \\\\( k \\\\) \\\\( l \\\\) \\\\( m \\\\) \\\\( k \\\\) \\\\( l \\\\) \\\\( m \\\\) \\\\( k \\\\) \\\\( l \\\\) \\\\( m \\\\) \\\\( k \\\\) \\\\( l \\\\) \\\\( m \\\\) \\\\( k \\\\) \\\\( l \\\\) \\\\( m \\\\) \\\\( k \\\\) \\\\( l \\\\) \\\\( m \\\\) \\\\( k \\\\) \\\\( l \\\\) \\\\( m \\\\) \\\\( k \\\\) \\\\( l \\\\) \\\\( m \\\\) \\\\( k \\\\) \\\\( l \\\\) \\\\( m \\\\) \\\\( k \\\\) \\\\( l \\\\) \\\\( m \\\\) \\\\( k \\\\) \\\\( l \\\\) \\\\( m \\\\) \\\\( k \\\\) \\\\( l \\\\) \\\\( m \\\\) \\\\( k \\\\) \\\\( l \\\\) \\\\( m \\\\) \\\\( k \\\\) \\\\( l \\\\) \\\\( m \\\\) \\\\( k \\\\) \\\\( l \\\\) \\\\( m \\\\) \\\\( k \\\\) \\\\( l \\\\) \\\\( m \\\\) \\\\( k \\\\) \\\\( l \\\\) \\\\( m \\\\) \\\\( k \\\\) \\\\( l \\\\) \\\\( m \\\\) \\\\( k \\\\) \\\\( l \\\\) \\\\( m \\\\) \\\\( k \\\\) \\\\( l \\\\) \\\\( m \\\\) \\\\( k \\\\) \\\\( l \\\\) \\\\( m \\\\) \\\\( k \\\\) \\\\( l \\\\) \\\\( m \\\\) \\\\( k \\\\) \\\\( l \\\\) \\\\( m \\\\) \\\\( k \\\\) \\\\( l \\\\) \\\\( m \\\\) \\\\( k \\\\) \\\\( l \\\\) \\\\( m \\\\) \\\\( k \\\\) \\\\( l \\\\) \\\\( m \\\\) \\\\( k \\\\) \\\\( l \\\\) \\\\( m \\\\) \\\\( k \\\\) \\\\( l \\\\) \\\\( m \\\\) \\\\( k \\\\) \\\\( l \\\\) \\\\( m \\\\) \\\\( k \\\\) \\\\( l \\\\) \\\\( m \\\\) \\\\( k \\\\) \\\\( l \\\\) \\\\( m \\\\) \\\\( k \\\\) \\\\( l \\\\) \\\\( m \\\\) \\\\( k \\\\) \\\\( l \\\\) \\\\( m \\\\) \\\\( k \\\\) \\\\( l \\\\) \\\\( m \\\\) \\\\( k \\\\) \\\\( l \\\\) \\\\( m \\\\) \\\\( k \\\\) \\\\( l \\\\) \\\\( m \\\\) \\\\( k \\\\) \\\\( l \\\\) \\\\( m \\\\) \\\\( k \\\\) \\\\( l \\\\) \\\\( m \\\\) \\\\( k \\\\) \\\\( l \\\\) \\\\( m \\\\) \\\\( k \\\\) \\\\( l \\\\) \\\\( m \\\\) \\\\( k \\\\) \\\\( l \\\\) \\\\( m \\\\) \\\\( k \\\\) \\\\( l \\\\) \\\\( m \\\\) \\\\( k \\\\) \\\\( l \\\\) \\\\( m \\\\) \\\\( k \\\\) \\\\( l \\\\) \\\\( m \\\\) \\\\( k \\\\) \\\\( l \\\\) \\\\( m \\\\) \\\\( k \\\\) \\\\( l \\\\) \\\\( m \\\\) \\\\( k \\\\) \\\\( l \\\\) \\\\( m \\\\) \\\\( k \\\\) \\\\( l \\\\) \\\\( m \\\\) \\\\( k \\\\) \\\\( l \\\\) \\\\( m \\\\) \\\\( k \\\\) \\\\( l \\\\) \\\\( m \\\\) \\\\( k \\\\) \\\\( l \\\\) \\\\( m \\\\) \\\\( k \\\\) \\\\( l \\\\) \\\\( m \\\\) \\\\( k \\\\) \\\\( l \\\\) \\\\( m \\\\) \\\\( k \\\\) \\\\( l \\\\) \\\\( m \\\\) \\\\( k \\\\) \\\\( l \\\\) \\\\( m \\\\) \\\\( k \\\\) \\\\( l \\\\) \\\\( m \\\\) \\\\( k \\\\) \\\\( l \\\\) \\\\( m \\\\) \\\\( k \\\\) \\\\( l \\\\) \\\\( m \\\\) \\\\( k \\\\) \\\\( l \\\\) \\\\( m \\\\) \\\\( k \\\\) \\\\( l \\\\) \\\\( m \\\\) \\\\( k \\\\) \\\\( l \\\\) \\\\( m \\\\) \\\\( k \\\\) \\\\( l \\\\) \\\\( m \\\\) \\\\( k \\\\) \\\\( l \\\\) \\\\( m \\\\) \\\\( k \\\\) \\\\( l \\\\) \\\\( m \\\\) \\\\( k \\\\) \\\\( l \\\\) \\\\( m \\\\) \\\\( k \\\\) \\\\( l \\\\) \\\\( m \\\\) \\\\( k \\\\) \\\\( l \\\\) \\\\( m \\\\) \\\\( k \\\\) \\\\( l \\\\) \\\\( m \\\\) \\\\( k \\\\) \\\\( l \\\\) \\\\( m \\\\) \\\\( k \\\\) \\\\( l \\\\) \\\\( m \\\\) \\\\( k \\\\) \\\\( l \\\\) \\\\( m \\\\) \\\\( k \\\\) \\\\( l \\\\) \\\\( m \\\\) \\\\( k \\\\) \\\\( l \\\\) \\\\( m \\\\) \\\\( k \\\\) \\\\( l \\\\) \\\\( m \\\\) \\\\( k \\\\) \\\\( l \\\\) \\\\( m \\\\) \\\\( k \\\\) \\\\( l \\\\) \\\\( m \\\\) \\\\( k \\\\) \\\\( l \\\\) \\\\( m \\\\) \\\\( k \\\\) \\\\( l \\\\) \\\\( m \\\\) \\\\( k \\\\) \\\\( l \\\\) \\\\( m \\\\) \\\\( k \\\\) \\\\( l \\\\) \\\\( m \\\\) \\\\( k \\\\) \\\\( l \\\\) \\\\( m \\\\) \\\\( k \\\\) \\\\( l \\\\) \\\\( m \\\\) \\\\( k \\\\) \\\\( l \\\\) \\\\( m \\\\) \\\\( k \\\\) \\\\( l \\\\) \\\\( m \\\\) \\\\( k \\\\) \\\\( l \\\\) \\\\( m \\\\) \\\\( k \\\\) \\\\( l \\\\) \\\\( m \\\\) \\\\( k \\\\) \\\\( l \\\\) \\\\( m \\\\) \\\\( k \\\\) \\\\( l \\\\) \\\\( m \\\\) \\\\( k \\\\) \\\\( l \\\\) \\\\( m \\\\) \\\\( k \\\\) \\\\( l \\\\) \\\\( m \\\\) \\\\( k \\\\) \\\\( l \\\\) \\\\( m \\\\) \\\\( k \\\\) \\\\(', 'meta_info': {'id': '98ef2022f103460d9814db9d636f84a6', 'finish_reason': {'type': 'length', 'length': 2048}, 'prompt_tokens': 6, 'completion_tokens': 2048, 'cached_tokens': 1, 'e2e_latency': 32.67299199104309}}\n"
     ]
    }
   ],
   "source": [
    "response = requests.post(\n",
    "    f\"http://localhost:{port}/generate\",\n",
    "    json={\n",
    "        \"text\": \"Paris is the capital of\",\n",
    "        \"sampling_params\": {\n",
    "            \"temperature\": 0,\n",
    "            \"max_new_tokens\": 2048,\n",
    "            \"regex\": \"(France|England)\",\n",
    "        },\n",
    "    },\n",
    ")\n",
    "print(response.json())"
   ]
  },
  {
   "cell_type": "markdown",
   "metadata": {},
   "source": [
    "### Structural Tag"
   ]
  },
  {
   "cell_type": "code",
   "execution_count": 11,
   "metadata": {
    "execution": {
     "iopub.execute_input": "2025-05-18T01:50:59.605438Z",
     "iopub.status.busy": "2025-05-18T01:50:59.605017Z",
     "iopub.status.idle": "2025-05-18T01:51:06.190568Z",
     "shell.execute_reply": "2025-05-18T01:51:06.189994Z"
    }
   },
   "outputs": [
    {
     "name": "stdout",
     "output_type": "stream",
     "text": [
      "[2025-05-18 01:50:59] Prefill batch. #new-seq: 1, #new-token: 1, #cached-token: 22, token usage: 0.00, #running-req: 0, #queue-req: 0\n"
     ]
    },
    {
     "name": "stdout",
     "output_type": "stream",
     "text": [
      "[2025-05-18 01:51:00] Decode batch. #running-req: 1, #token: 53, token usage: 0.00, cuda graph: False, gen throughput (token/s): 60.11, #queue-req: 0\n"
     ]
    },
    {
     "name": "stdout",
     "output_type": "stream",
     "text": [
      "[2025-05-18 01:51:00] Decode batch. #running-req: 1, #token: 93, token usage: 0.00, cuda graph: False, gen throughput (token/s): 63.38, #queue-req: 0\n"
     ]
    },
    {
     "name": "stdout",
     "output_type": "stream",
     "text": [
      "[2025-05-18 01:51:01] Decode batch. #running-req: 1, #token: 133, token usage: 0.01, cuda graph: False, gen throughput (token/s): 64.08, #queue-req: 0\n"
     ]
    },
    {
     "name": "stdout",
     "output_type": "stream",
     "text": [
      "[2025-05-18 01:51:01] Decode batch. #running-req: 1, #token: 173, token usage: 0.01, cuda graph: False, gen throughput (token/s): 64.87, #queue-req: 0\n"
     ]
    },
    {
     "name": "stdout",
     "output_type": "stream",
     "text": [
      "[2025-05-18 01:51:02] Decode batch. #running-req: 1, #token: 213, token usage: 0.01, cuda graph: False, gen throughput (token/s): 64.72, #queue-req: 0\n"
     ]
    },
    {
     "name": "stdout",
     "output_type": "stream",
     "text": [
      "[2025-05-18 01:51:03] Decode batch. #running-req: 1, #token: 253, token usage: 0.01, cuda graph: False, gen throughput (token/s): 62.79, #queue-req: 0\n"
     ]
    },
    {
     "name": "stdout",
     "output_type": "stream",
     "text": [
      "[2025-05-18 01:51:03] Decode batch. #running-req: 1, #token: 293, token usage: 0.01, cuda graph: False, gen throughput (token/s): 63.26, #queue-req: 0\n"
     ]
    },
    {
     "name": "stdout",
     "output_type": "stream",
     "text": [
      "[2025-05-18 01:51:04] Decode batch. #running-req: 1, #token: 333, token usage: 0.02, cuda graph: False, gen throughput (token/s): 63.51, #queue-req: 0\n"
     ]
    },
    {
     "name": "stdout",
     "output_type": "stream",
     "text": [
      "[2025-05-18 01:51:05] Decode batch. #running-req: 1, #token: 373, token usage: 0.02, cuda graph: False, gen throughput (token/s): 63.49, #queue-req: 0\n"
     ]
    },
    {
     "name": "stdout",
     "output_type": "stream",
     "text": [
      "[2025-05-18 01:51:05] Decode batch. #running-req: 1, #token: 413, token usage: 0.02, cuda graph: False, gen throughput (token/s): 62.95, #queue-req: 0\n"
     ]
    },
    {
     "name": "stdout",
     "output_type": "stream",
     "text": [
      "[2025-05-18 01:51:06] INFO:     127.0.0.1:52142 - \"POST /generate HTTP/1.1\" 200 OK\n"
     ]
    },
    {
     "data": {
      "text/html": [
       "<strong style='color: #00008B;'>{'text': 'Alright, so the user is asking for the population of the capital of France, which is Paris, and they want it in JSON format. Hmm, first, I need to make sure I understand their request correctly. They probably want just the population number, but in a structured data format, specifically JSON.\\n\\nI should recall the latest data on Paris\\'s population. From what I remember, the population is around 2 million. But wait, I think it might have increased a bit. Let me double-check that. Oh, yes, the latest estimate is about 2,150,000 as of 2023. That seems right.\\n\\nI need to present this in JSON. JSON requires proper formatting with keys and values. So I\\'ll structure it with \"capital\" as a key pointing to \"Paris\" and \"population\" as another key with the number. It\\'s important to format it correctly to avoid any errors.\\n\\nAlso, I should consider why the user is asking this. Maybe they\\'re working on a project, writing a report, or just curious. Providing an accurate and up-to-date figure is crucial. I don\\'t want to give incorrect information that could be misleading. So I\\'ll make sure to use the most current data available.\\n\\nAdditionally, should I include the exact year or just a general estimate? Well, JSON data can include dates, but since the population can change yearly, it\\'s better to mention the latest estimate. Maybe add a comment indicating that the number is current as of 2023.\\n\\nPutting it all together, the response should be clear and concise, just as the user requested. I\\'ll make sure the JSON structure is valid so that it can be used without issues in any application they might be using it in. \\n\\nI think that\\'s all. Time to format the JSON response as specified.\\n</think>\\n\\nHere is the information about the capital of France in JSON format:\\n\\n```json\\n{\\n  \"capital\": \"Paris\",\\n  \"population\": 2150000\\n}\\n```', 'meta_info': {'id': 'fb389716f4f443fdbd3dff61f658a44a', 'finish_reason': {'type': 'stop', 'matched': 151643}, 'prompt_tokens': 23, 'completion_tokens': 417, 'cached_tokens': 22, 'e2e_latency': 6.57528018951416}}</strong>"
      ],
      "text/plain": [
       "<IPython.core.display.HTML object>"
      ]
     },
     "metadata": {},
     "output_type": "display_data"
    }
   ],
   "source": [
    "text = tokenizer.apply_chat_template(\n",
    "    messages, tokenize=False, add_generation_prompt=True\n",
    ")\n",
    "payload = {\n",
    "    \"text\": text,\n",
    "    \"sampling_params\": {\n",
    "        \"max_new_tokens\": 2048,\n",
    "        \"structural_tag\": json.dumps(\n",
    "            {\n",
    "                \"type\": \"structural_tag\",\n",
    "                \"structures\": [\n",
    "                    {\n",
    "                        \"begin\": \"<function=get_current_weather>\",\n",
    "                        \"schema\": schema_get_current_weather,\n",
    "                        \"end\": \"</function>\",\n",
    "                    },\n",
    "                    {\n",
    "                        \"begin\": \"<function=get_current_date>\",\n",
    "                        \"schema\": schema_get_current_date,\n",
    "                        \"end\": \"</function>\",\n",
    "                    },\n",
    "                ],\n",
    "                \"triggers\": [\"<function=\"],\n",
    "            }\n",
    "        ),\n",
    "    },\n",
    "}\n",
    "\n",
    "\n",
    "# Send POST request to the API endpoint\n",
    "response = requests.post(f\"http://localhost:{port}/generate\", json=payload)\n",
    "print_highlight(response.json())"
   ]
  },
  {
   "cell_type": "code",
   "execution_count": 12,
   "metadata": {
    "execution": {
     "iopub.execute_input": "2025-05-18T01:51:06.192585Z",
     "iopub.status.busy": "2025-05-18T01:51:06.192221Z",
     "iopub.status.idle": "2025-05-18T01:51:06.227073Z",
     "shell.execute_reply": "2025-05-18T01:51:06.225997Z"
    }
   },
   "outputs": [],
   "source": [
    "terminate_process(server_process)"
   ]
  },
  {
   "cell_type": "markdown",
   "metadata": {},
   "source": [
    "## Offline Engine API"
   ]
  },
  {
   "cell_type": "code",
   "execution_count": 13,
   "metadata": {
    "execution": {
     "iopub.execute_input": "2025-05-18T01:51:06.229745Z",
     "iopub.status.busy": "2025-05-18T01:51:06.229223Z",
     "iopub.status.idle": "2025-05-18T01:51:29.315925Z",
     "shell.execute_reply": "2025-05-18T01:51:29.315081Z"
    }
   },
   "outputs": [
    {
     "name": "stderr",
     "output_type": "stream",
     "text": [
      "\r",
      "Loading safetensors checkpoint shards:   0% Completed | 0/2 [00:00<?, ?it/s]\n"
     ]
    },
    {
     "name": "stderr",
     "output_type": "stream",
     "text": [
      "\r",
      "Loading safetensors checkpoint shards:  50% Completed | 1/2 [00:03<00:03,  3.03s/it]\n"
     ]
    },
    {
     "name": "stderr",
     "output_type": "stream",
     "text": [
      "\r",
      "Loading safetensors checkpoint shards: 100% Completed | 2/2 [00:07<00:00,  3.65s/it]\n",
      "\r",
      "Loading safetensors checkpoint shards: 100% Completed | 2/2 [00:07<00:00,  3.56s/it]\n",
      "\n"
     ]
    }
   ],
   "source": [
    "import sglang as sgl\n",
    "\n",
    "llm = sgl.Engine(\n",
    "    model_path=\"deepseek-ai/DeepSeek-R1-Distill-Qwen-7B\",\n",
    "    reasoning_parser=\"deepseek-r1\",\n",
    "    grammar_backend=\"xgrammar\",\n",
    ")"
   ]
  },
  {
   "cell_type": "markdown",
   "metadata": {},
   "source": [
    "### JSON"
   ]
  },
  {
   "cell_type": "markdown",
   "metadata": {},
   "source": [
    "**Using Pydantic**"
   ]
  },
  {
   "cell_type": "code",
   "execution_count": 14,
   "metadata": {
    "execution": {
     "iopub.execute_input": "2025-05-18T01:51:29.318729Z",
     "iopub.status.busy": "2025-05-18T01:51:29.318348Z",
     "iopub.status.idle": "2025-05-18T01:51:35.828265Z",
     "shell.execute_reply": "2025-05-18T01:51:35.827313Z"
    }
   },
   "outputs": [
    {
     "name": "stdout",
     "output_type": "stream",
     "text": [
      "===============================\n",
      "Prompt: Give me the information of the capital of China in the JSON format.\n",
      "Generated text: \n",
      "Sure, here's the information about the capital of China, Beijing, in JSON format:\n",
      "\n",
      "```json\n",
      "{\n",
      "  \"name\": \"Beijing\",\n",
      "  \"capital\": \"Yes\",\n",
      "  \"population\": \"Over 30 million\",\n",
      "  \"founded\": \"1248\",\n",
      "  \"Nickname\": \"The Heaven on Earth\",\n",
      "  \"Location\": \"Northern China\",\n",
      "  \"OfficialLanguages\": [\n",
      "    \"Mandarin Chinese\",\n",
      "    \"Bingyuan Chinese\",\n",
      "    \"Tibetan\",\n",
      "    \"Hui\",\n",
      "    \"Mongolian\",\n",
      "    \"Yugoslav\",\n",
      "    \"Other\"\n",
      "  ],\n",
      "  \"KeySights\": [\n",
      "    \"The Great Wall\",\n",
      "    \"Tiananmen Square\",\n",
      "    \"Forbidden City\",\n",
      "    \"Beijing Museum\",\n",
      "    \"Yuanmingyuan\"\n",
      "  ],\n",
      "  \"Climate\": \"Temperate\"\n",
      "}\n",
      "```\n",
      "\n",
      "Let me know if you need any other information!\n",
      "===============================\n",
      "Prompt: Give me the information of the capital of France in the JSON format.\n",
      "Generated text: \n",
      "Sure! Here's the information about the capital of France, Paris, in JSON format:\n",
      "\n",
      "```json\n",
      "{\n",
      "  \"name\": \"Paris\",\n",
      "  \"country\": \"France\",\n",
      "  \"coordinates\": {\n",
      "    \"latitude\": 48.8566,\n",
      "    \"longitude\": 2.3522\n",
      "  },\n",
      "  \"founded\": \"1340\",\n",
      "  \"population\": \"9.7 million\",\n",
      "  \"area\": \"105.5 square kilometers\",\n",
      "  \"features\": {\n",
      "    \"bridges\": \"The Eiffel Tower, Notre-Dame, and the Seine River\",\n",
      "    \"landmarks\": \"The Louvre Museum, Montmartre, and the Champs-Élysées\"\n",
      "  },\n",
      "  \"elevation\": \"2 meters\",\n",
      "  \"time_zone\": \"Central European Time (CET)\"\n",
      "}\n",
      "```\n",
      "\n",
      "Let me know if you need any other information!\n",
      "===============================\n",
      "Prompt: Give me the information of the capital of Ireland in the JSON format.\n",
      "Generated text: \n",
      "Sure, here's the information about the capital of Ireland in JSON format:\n",
      "\n",
      "```json\n",
      "{\n",
      "  \"capital\": \"Dublin\",\n",
      "  \"official_name\": \"Dublin City\",\n",
      "  \"region\": \"Dublin\",\n",
      "  \"coordinates\": {\n",
      "    \"latitude\": 53.3489,\n",
      "    \"longitude\": -6.2009\n",
      "  },\n",
      "  \"founded\": \"1543\",\n",
      "  \"population\": 1,234,567,\n",
      "  \"area\": {\n",
      "    \"total\": 123.45,\n",
      "    \"land\": 112.34,\n",
      "    \"water\": 11.11\n",
      "  },\n",
      "  \"climate\": \" temperate\",\n",
      "  \"key_features\": [\n",
      "    \"City Walls\",\n",
      "    \"Trinity College\",\n",
      "    \"Leaving Certificate\",\n",
      "    \"St. Stephen's Cathedral\",\n",
      "    \"Glynn Bridge\"\n",
      "  ],\n",
      "  \"tourism\": [\n",
      "    \"The GAA\",\n",
      "    \"The National Library of Ireland\",\n",
      "    \"The SSE St. Patrick's Cathedral\",\n",
      "    \"The Phoenix Park\",\n",
      "    \"The Book of Kells\"\n",
      "  ]\n",
      "}\n",
      "```\n",
      "\n",
      "Let me know if you need any adjustments!\n"
     ]
    }
   ],
   "source": [
    "import json\n",
    "from pydantic import BaseModel, Field\n",
    "\n",
    "\n",
    "prompts = [\n",
    "    \"Give me the information of the capital of China in the JSON format.\",\n",
    "    \"Give me the information of the capital of France in the JSON format.\",\n",
    "    \"Give me the information of the capital of Ireland in the JSON format.\",\n",
    "]\n",
    "\n",
    "\n",
    "# Define the schema using Pydantic\n",
    "class CapitalInfo(BaseModel):\n",
    "    name: str = Field(..., pattern=r\"^\\w+$\", description=\"Name of the capital city\")\n",
    "    population: int = Field(..., description=\"Population of the capital city\")\n",
    "\n",
    "\n",
    "sampling_params = {\n",
    "    \"temperature\": 0,\n",
    "    \"top_p\": 0.95,\n",
    "    \"max_new_tokens\": 2048,\n",
    "    \"json_schema\": json.dumps(CapitalInfo.model_json_schema()),\n",
    "}\n",
    "\n",
    "outputs = llm.generate(prompts, sampling_params)\n",
    "for prompt, output in zip(prompts, outputs):\n",
    "    print(\"===============================\")\n",
    "    print(f\"Prompt: {prompt}\\nGenerated text: {output['text']}\")"
   ]
  },
  {
   "cell_type": "markdown",
   "metadata": {},
   "source": [
    "**JSON Schema Directly**"
   ]
  },
  {
   "cell_type": "code",
   "execution_count": 15,
   "metadata": {
    "execution": {
     "iopub.execute_input": "2025-05-18T01:51:35.830847Z",
     "iopub.status.busy": "2025-05-18T01:51:35.830459Z",
     "iopub.status.idle": "2025-05-18T01:51:40.296819Z",
     "shell.execute_reply": "2025-05-18T01:51:40.295888Z"
    }
   },
   "outputs": [
    {
     "name": "stdout",
     "output_type": "stream",
     "text": [
      "===============================\n",
      "Prompt: Give me the information of the capital of China in the JSON format.\n",
      "Generated text: \n",
      "Sure! Here's the information about the capital of China, Beijing, in JSON format:\n",
      "\n",
      "```json\n",
      "{\n",
      "  \"name\": \"Beijing\",\n",
      "  \"capital\": \"Yes\",\n",
      "  \"population\": \"Over 30 million\",\n",
      "  \"founded\": \"1248\",\n",
      "  \"Nickname\": \"The Heaven on Earth\",\n",
      "  \"Location\": \"Northern China\",\n",
      "  \"OfficialLanguages\": [\n",
      "    \"Mandarin Chinese\",\n",
      "    \"Bingyuan Chinese\",\n",
      "    \"Tibetan\",\n",
      "    \"Hui\",\n",
      "    \"Mongolian\",\n",
      "    \"Yugoslav\",\n",
      "    \"Other\"\n",
      "  ],\n",
      "  \"KeySights\": [\n",
      "    \"The Great Wall\",\n",
      "    \"Forbidden City\",\n",
      "    \"Tiananmen Square\",\n",
      "    \"Beijing Museum\",\n",
      "    \"Yuanmingyuan\"\n",
      "  ],\n",
      "  \"Climate\": \"Temperate\"\n",
      "}\n",
      "```\n",
      "\n",
      "Let me know if you need any other information!\n",
      "===============================\n",
      "Prompt: Give me the information of the capital of France in the JSON format.\n",
      "Generated text: \n",
      "Sure! Here's the information about the capital of France, Paris, in JSON format:\n",
      "\n",
      "```json\n",
      "{\n",
      "  \"name\": \"Paris\",\n",
      "  \"country\": \"France\",\n",
      "  \"coordinates\": {\n",
      "    \"latitude\": 48.8566,\n",
      "    \"longitude\": 2.3522\n",
      "  },\n",
      "  \"founded\": \"1340\",\n",
      "  \"population\": \"9.7 million\",\n",
      "  \"area\": \"105.5 square kilometers\",\n",
      "  \"WX\": {\n",
      "    \"averageTemperature\": \"12°C\",\n",
      "    \"precipitation\": \"540 mm/year\"\n",
      "  },\n",
      "  \"landmarks\": [\n",
      "    {\n",
      "      \"name\": \"Eiffel Tower\",\n",
      "      \"location\": \"City of Light\",\n",
      "      \"height\": \"330 meters\"\n",
      "    },\n",
      "    {\n",
      "      \"name\": \"Notre-Dame Cathedral\",\n",
      "      \"location\": \"Center of Paris\",\n",
      "      \"height\": \"415 meters\"\n",
      "    }\n",
      "  ],\n",
      "  \"Transport\": {\n",
      "    \"publicTransport\": \"Boulevards, trams, and subways\",\n",
      "    \"airport\": \"Paris International Airport\",\n",
      "    \"railway\": \"Le巴黎-Charles de Gaulle\"\n",
      "  }\n",
      "}\n",
      "```\n",
      "\n",
      "Let me know if you need any other information!\n",
      "===============================\n",
      "Prompt: Give me the information of the capital of Ireland in the JSON format.\n",
      "Generated text: \n",
      "Sure, here's the information about the capital of Ireland in JSON format:\n",
      "\n",
      "```json\n",
      "{\n",
      "  \"capital\": \"Dublin\",\n",
      "  \"official_name\": \"Dublin City\",\n",
      "  \"region\": \"Dublin\",\n",
      "  \"coordinates\": {\n",
      "    \"latitude\": 53.3489,\n",
      "    \"longitude\": -6.2009\n",
      "  },\n",
      "  \"founded\": \"1241\",\n",
      "  \"population\": 1,234,567,\n",
      "  \"area\": {\n",
      "    \"total\": 123.45,\n",
      "    \"land\": 112.34,\n",
      "    \"water\": 11.11\n",
      "  },\n",
      "  \"climate\": \" temperate\",\n",
      "  \"key_features\": [\n",
      "    \"City Walls\",\n",
      "    \"Trinity College\",\n",
      "    \"Leaving Certificate\",\n",
      "    \"St. Stephen's Cathedral\",\n",
      "    \"Glynn Bridge\"\n",
      "  ],\n",
      "  \"tourism\": [\n",
      "    \"The GAA\",\n",
      "    \"The National Library of Ireland\",\n",
      "    \"The University of Dublin\",\n",
      "    \"The Phoenix Park\",\n",
      "    \"The SSE St. Patrick's Cathedral Quarter\"\n",
      "  ]\n",
      "}\n",
      "```\n",
      "\n",
      "Let me know if you need any adjustments!\n"
     ]
    }
   ],
   "source": [
    "prompts = [\n",
    "    \"Give me the information of the capital of China in the JSON format.\",\n",
    "    \"Give me the information of the capital of France in the JSON format.\",\n",
    "    \"Give me the information of the capital of Ireland in the JSON format.\",\n",
    "]\n",
    "\n",
    "json_schema = json.dumps(\n",
    "    {\n",
    "        \"type\": \"object\",\n",
    "        \"properties\": {\n",
    "            \"name\": {\"type\": \"string\", \"pattern\": \"^[\\\\w]+$\"},\n",
    "            \"population\": {\"type\": \"integer\"},\n",
    "        },\n",
    "        \"required\": [\"name\", \"population\"],\n",
    "    }\n",
    ")\n",
    "\n",
    "sampling_params = {\"temperature\": 0, \"max_new_tokens\": 2048, \"json_schema\": json_schema}\n",
    "\n",
    "outputs = llm.generate(prompts, sampling_params)\n",
    "for prompt, output in zip(prompts, outputs):\n",
    "    print(\"===============================\")\n",
    "    print(f\"Prompt: {prompt}\\nGenerated text: {output['text']}\")"
   ]
  },
  {
   "cell_type": "markdown",
   "metadata": {},
   "source": [
    "### EBNF\n"
   ]
  },
  {
   "cell_type": "code",
   "execution_count": 16,
   "metadata": {
    "execution": {
     "iopub.execute_input": "2025-05-18T01:51:40.299098Z",
     "iopub.status.busy": "2025-05-18T01:51:40.298726Z",
     "iopub.status.idle": "2025-05-18T01:51:42.477668Z",
     "shell.execute_reply": "2025-05-18T01:51:42.476805Z"
    }
   },
   "outputs": [
    {
     "name": "stdout",
     "output_type": "stream",
     "text": [
      "===============================\n",
      "Prompt: Give me the information of the capital of France.\n",
      "Generated text: \n",
      "The capital of France is Paris.\n",
      "\n",
      "The capital of France is Paris.\n",
      "\n",
      "The capital of France is Paris.\n",
      "\n",
      "The capital of France is Paris.\n",
      "\n",
      "The capital of France is Paris.\n",
      "\n",
      "The capital of France is Paris.\n",
      "\n",
      "The capital of France is Paris.\n",
      "\n",
      "The capital of France is Paris.\n",
      "\n",
      "The capital of France is Paris.\n",
      "\n",
      "The capital of France is Paris.\n",
      "</think>Paris is the capital of France\n",
      "===============================\n",
      "Prompt: Give me the information of the capital of Germany.\n",
      "Generated text: \n",
      "The capital of Germany is Berlin. It's a major city in central Europe, known for its rich history, vibrant culture, and significant landmarks. Berlin is home to several notable museums, including the Berlin Wall Memorial, the Brandenburg Gate, and the Reichstag building. The city also boasts numerous parks and gardens, such as Tiergarten and Kadkad, which provide recreational spaces for its inhabitants and visitors alike. Additionally, Berlin is a center for the arts, with famous cultural institutions and a thriving nightlife scene. It's an important hub for business and finance, and has a diverse and cosmopolitan population, attracting people from all over\n",
      "===============================\n",
      "Prompt: Give me the information of the capital of Italy.\n",
      "Generated text: \n",
      "Sure, I can provide information about the capital of Italy, which is Rome.\n",
      "\n",
      "First, I need to recall or look up the name of Italy's capital. I believe it's called Rome.\n",
      "\n",
      "Next, I'll gather some key points about Rome. It's located in Italy, in the north-central part of the country. Rome is historically significant as the birthplace of Rome, which is the Roman Empire's capital for over a millennium.\n",
      "\n",
      "I should mention some well-known landmarks associated with Rome, like the Colosseum, the Roman Forum, the Vatican City, the Spanish Steps, and the Sistine Chapel. These are iconic\n"
     ]
    }
   ],
   "source": [
    "prompts = [\n",
    "    \"Give me the information of the capital of France.\",\n",
    "    \"Give me the information of the capital of Germany.\",\n",
    "    \"Give me the information of the capital of Italy.\",\n",
    "]\n",
    "\n",
    "sampling_params = {\n",
    "    \"temperature\": 0.8,\n",
    "    \"top_p\": 0.95,\n",
    "    \"ebnf\": (\n",
    "        \"root ::= city | description\\n\"\n",
    "        'city ::= \"London\" | \"Paris\" | \"Berlin\" | \"Rome\"\\n'\n",
    "        'description ::= city \" is \" status\\n'\n",
    "        'status ::= \"the capital of \" country\\n'\n",
    "        'country ::= \"England\" | \"France\" | \"Germany\" | \"Italy\"'\n",
    "    ),\n",
    "}\n",
    "\n",
    "outputs = llm.generate(prompts, sampling_params)\n",
    "for prompt, output in zip(prompts, outputs):\n",
    "    print(\"===============================\")\n",
    "    print(f\"Prompt: {prompt}\\nGenerated text: {output['text']}\")"
   ]
  },
  {
   "cell_type": "markdown",
   "metadata": {},
   "source": [
    "### Regular expression"
   ]
  },
  {
   "cell_type": "code",
   "execution_count": 17,
   "metadata": {
    "execution": {
     "iopub.execute_input": "2025-05-18T01:51:42.479798Z",
     "iopub.status.busy": "2025-05-18T01:51:42.479439Z",
     "iopub.status.idle": "2025-05-18T01:51:44.629577Z",
     "shell.execute_reply": "2025-05-18T01:51:44.628706Z"
    }
   },
   "outputs": [
    {
     "name": "stdout",
     "output_type": "stream",
     "text": [
      "===============================\n",
      "Prompt: Please provide information about London as a major global city:\n",
      "Generated text:  the population, economic strength, cultural significance, and environment.\n",
      "\n",
      "Sure, here's some information about London as a major global city:\n",
      "\n",
      "**Population:**\n",
      "London is the capital city of England and the United Kingdom, and the largest of the four cities comprising Greater London. As of the 2021 estimate, the population of Greater London is approximately 9.5 million people. The population of Greater London has been growing steadily over the years, driven by factors such as economic growth, migration, and urban development.\n",
      "\n",
      "**Economic Strength:**\n",
      "London is widely regarded as one of the strongest economies in the world. It is home to\n",
      "===============================\n",
      "Prompt: Please provide information about Paris as a major global city:\n",
      "Generated text: **\n",
      "\n",
      "**1.** What is Paris's population?\n",
      "\n",
      "**2.** What is the capital city of France?\n",
      "\n",
      "**3. The Eiffel Tower is in which country?\n",
      "\n",
      "**4. What is the official currency of France?\n",
      "\n",
      "**5. What is the main language spoken in France?\n",
      "\n",
      "**6. What is Paris known for?\n",
      "\n",
      "**7. Where is the Eiffel Tower located?\n",
      "\n",
      "**8. How many Eiffel Tower bridges are there?\n",
      "\n",
      "**9. What is the Paris climate like?\n",
      "\n",
      "**10. Who was the first Prime Minister of France?\n",
      "\n",
      "**11. What is the official bird of France?\n",
      "\n",
      "\n"
     ]
    }
   ],
   "source": [
    "prompts = [\n",
    "    \"Please provide information about London as a major global city:\",\n",
    "    \"Please provide information about Paris as a major global city:\",\n",
    "]\n",
    "\n",
    "sampling_params = {\"temperature\": 0.8, \"top_p\": 0.95, \"regex\": \"(France|England)\"}\n",
    "\n",
    "outputs = llm.generate(prompts, sampling_params)\n",
    "for prompt, output in zip(prompts, outputs):\n",
    "    print(\"===============================\")\n",
    "    print(f\"Prompt: {prompt}\\nGenerated text: {output['text']}\")"
   ]
  },
  {
   "cell_type": "code",
   "execution_count": 18,
   "metadata": {
    "execution": {
     "iopub.execute_input": "2025-05-18T01:51:44.631712Z",
     "iopub.status.busy": "2025-05-18T01:51:44.631372Z",
     "iopub.status.idle": "2025-05-18T01:51:54.288962Z",
     "shell.execute_reply": "2025-05-18T01:51:54.288098Z"
    }
   },
   "outputs": [
    {
     "name": "stdout",
     "output_type": "stream",
     "text": [
      "===============================\n",
      "Prompt: <｜begin▁of▁sentence｜><｜Assistant｜>Give me the information and population of the capital of France in the JSON format.<｜end▁of▁sentence｜><｜Assistant｜><think>\n",
      "\n",
      "Generated text: Alright, the user is asking for the information and population of the capital of France in JSON format. First, I need to identify what exactly they're looking for. They want a JSON response, so I should structure the data accordingly. \n",
      "\n",
      "The capital of France is Paris, so I'll start with that. Next, I need to gather accurate information about Paris. Population is a key point, but I should also include other relevant data like area, population density, and whether it's the most populous city in France.\n",
      "\n",
      "I'll look up the current population of Paris. As of recent estimates, it's around 2.16 million people. I should note that the population is approximate and can change over time. \n",
      "\n",
      "Then, I'll find the administrative area of Paris. It's known as the Île-de-France region, and its area is approximately 105 square kilometers. Calculating the population density, that would be about 20,571 people per square kilometer, which is quite high.\n",
      "\n",
      "I'll also check if Paris is the most populous city in France. Yes, it is, so I'll include that fact. \n",
      "\n",
      "Now, structuring this information into JSON. I'll create an object with a \"name\" field for the city, \"population\" for the number, \"area\" for the administrative region and size, and \"density\" for the population density. I'll make sure the numbers are formatted correctly, using commas where necessary.\n",
      "\n",
      "Finally, I'll present the JSON in a clear and readable format, making sure it's properly enclosed within the JSON brackets and that each key is separated by a comma. I'll also add a brief explanation to clarify the response, as the user requested information and population.\n",
      "\n",
      "I should double-check all the data to ensure accuracy, especially the population numbers, as they can vary each year. Also, confirming whether Paris is indeed the most populous city in France is important to provide correct information.\n",
      "\n",
      "Overall, the response should be concise, well-structured, and easy to understand, meeting the user's request effectively.\n",
      "</think>\n",
      "\n",
      "Here is the information and population of the capital of France (Paris) in JSON format:\n",
      "\n",
      "```json\n",
      "{\n",
      "  \"capital\": {\n",
      "    \"name\": \"Paris\",\n",
      "    \"population\": 2165000,\n",
      "    \"area\": {\n",
      "      \"administrative\": \"Île-de-France\",\n",
      "      \"size\": 105.0\n",
      "    },\n",
      "    \"density\": 20571.43\n",
      "  },\n",
      "  \"is_most_populous\": true\n",
      "}\n",
      "```\n",
      "\n",
      "This JSON object contains:\n",
      "- The name of the capital (Paris),\n",
      "- Its population (approximately 2,165,000 as of recent estimates),\n",
      "- The administrative area and size of Paris (Île-de-France region, 105 square kilometers),\n",
      "- The population density,\n",
      "- A boolean indicating whether Paris is the most populous city in France.\n"
     ]
    }
   ],
   "source": [
    "text = tokenizer.apply_chat_template(\n",
    "    messages, tokenize=False, add_generation_prompt=True\n",
    ")\n",
    "prompts = [text]\n",
    "\n",
    "\n",
    "sampling_params = {\n",
    "    \"temperature\": 0.8,\n",
    "    \"top_p\": 0.95,\n",
    "    \"max_new_tokens\": 2048,\n",
    "    \"structural_tag\": json.dumps(\n",
    "        {\n",
    "            \"type\": \"structural_tag\",\n",
    "            \"structures\": [\n",
    "                {\n",
    "                    \"begin\": \"<function=get_current_weather>\",\n",
    "                    \"schema\": schema_get_current_weather,\n",
    "                    \"end\": \"</function>\",\n",
    "                },\n",
    "                {\n",
    "                    \"begin\": \"<function=get_current_date>\",\n",
    "                    \"schema\": schema_get_current_date,\n",
    "                    \"end\": \"</function>\",\n",
    "                },\n",
    "            ],\n",
    "            \"triggers\": [\"<function=\"],\n",
    "        }\n",
    "    ),\n",
    "}\n",
    "\n",
    "\n",
    "# Send POST request to the API endpoint\n",
    "outputs = llm.generate(prompts, sampling_params)\n",
    "for prompt, output in zip(prompts, outputs):\n",
    "    print(\"===============================\")\n",
    "    print(f\"Prompt: {prompt}\\nGenerated text: {output['text']}\")"
   ]
  },
  {
   "cell_type": "code",
   "execution_count": 19,
   "metadata": {
    "execution": {
     "iopub.execute_input": "2025-05-18T01:51:54.291478Z",
     "iopub.status.busy": "2025-05-18T01:51:54.290953Z",
     "iopub.status.idle": "2025-05-18T01:51:54.332867Z",
     "shell.execute_reply": "2025-05-18T01:51:54.331790Z"
    }
   },
   "outputs": [],
   "source": [
    "llm.shutdown()"
   ]
  }
 ],
 "metadata": {
  "language_info": {
   "codemirror_mode": {
    "name": "ipython",
    "version": 3
   },
   "file_extension": ".py",
   "mimetype": "text/x-python",
   "name": "python",
   "nbconvert_exporter": "python",
   "pygments_lexer": "ipython3",
   "version": "3.10.12"
  }
 },
 "nbformat": 4,
 "nbformat_minor": 2
}
