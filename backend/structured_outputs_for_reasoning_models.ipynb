{
 "cells": [
  {
   "cell_type": "markdown",
   "metadata": {},
   "source": [
    "# Structured Outputs For Reasoning Models\n",
    "\n",
    "When working with reasoning models that use special tokens like `<think>...</think>` to denote reasoning sections, you might want to allow free-form text within these sections while still enforcing grammar constraints on the rest of the output.\n",
    "\n",
    "SGLang provides a feature to disable grammar restrictions within reasoning sections. This is particularly useful for models that need to perform complex reasoning steps before providing a structured output.\n",
    "\n",
    "To enable this feature, use the `--reasoning-parser` flag which decide the think_end_token, such as `</think>`, when launching the server. You can also specify the reasoning parser using the `--reasoning-parser` flag.\n",
    "\n",
    "## Supported Models\n",
    "\n",
    "Currently, SGLang supports the following reasoning models:\n",
    "- [DeepSeek R1 series](https://huggingface.co/collections/deepseek-ai/deepseek-r1-678e1e131c0169c0bc89728d): The reasoning content is wrapped with `<think>` and `</think>` tags.\n",
    "- [QwQ](https://huggingface.co/Qwen/QwQ-32B): The reasoning content is wrapped with `<think>` and `</think>` tags.\n",
    "\n",
    "\n",
    "## Usage\n",
    "\n",
    "## OpenAI Compatible API"
   ]
  },
  {
   "cell_type": "markdown",
   "metadata": {},
   "source": [
    "Specify the `--grammar-backend`, `--reasoning-parser` option."
   ]
  },
  {
   "cell_type": "code",
   "execution_count": 1,
   "metadata": {
    "execution": {
     "iopub.execute_input": "2025-06-15T00:02:55.111625Z",
     "iopub.status.busy": "2025-06-15T00:02:55.111426Z",
     "iopub.status.idle": "2025-06-15T00:03:28.914076Z",
     "shell.execute_reply": "2025-06-15T00:03:28.913290Z"
    }
   },
   "outputs": [
    {
     "name": "stdout",
     "output_type": "stream",
     "text": [
      "[2025-06-15 00:03:06] server_args=ServerArgs(model_path='deepseek-ai/DeepSeek-R1-Distill-Qwen-7B', tokenizer_path='deepseek-ai/DeepSeek-R1-Distill-Qwen-7B', tokenizer_mode='auto', skip_tokenizer_init=False, load_format='auto', trust_remote_code=False, dtype='auto', kv_cache_dtype='auto', quantization=None, quantization_param_path=None, context_length=None, device='cuda', served_model_name='deepseek-ai/DeepSeek-R1-Distill-Qwen-7B', chat_template=None, completion_template=None, is_embedding=False, enable_multimodal=None, revision=None, impl='auto', host='0.0.0.0', port=38184, mem_fraction_static=0.874, max_running_requests=200, max_total_tokens=20480, chunked_prefill_size=8192, max_prefill_tokens=16384, schedule_policy='fcfs', schedule_conservativeness=1.0, cpu_offload_gb=0, page_size=1, tp_size=1, pp_size=1, max_micro_batch_size=None, stream_interval=1, stream_output=False, random_seed=917025869, constrained_json_whitespace_pattern=None, watchdog_timeout=300, dist_timeout=None, download_dir=None, base_gpu_id=0, gpu_id_step=1, sleep_on_idle=False, log_level='info', log_level_http=None, log_requests=False, log_requests_level=0, show_time_cost=False, enable_metrics=False, bucket_time_to_first_token=None, bucket_e2e_request_latency=None, bucket_inter_token_latency=None, collect_tokens_histogram=False, decode_log_interval=40, enable_request_time_stats_logging=False, kv_events_config=None, api_key=None, file_storage_path='sglang_storage', enable_cache_report=False, reasoning_parser='deepseek-r1', tool_call_parser=None, dp_size=1, load_balance_method='round_robin', dist_init_addr=None, nnodes=1, node_rank=0, json_model_override_args='{}', preferred_sampling_params=None, lora_paths=None, max_loras_per_batch=8, lora_backend='triton', attention_backend=None, sampling_backend='flashinfer', grammar_backend='xgrammar', mm_attention_backend=None, speculative_algorithm=None, speculative_draft_model_path=None, speculative_num_steps=None, speculative_eagle_topk=None, speculative_num_draft_tokens=None, speculative_accept_threshold_single=1.0, speculative_accept_threshold_acc=1.0, speculative_token_map=None, ep_size=1, enable_ep_moe=False, enable_deepep_moe=False, deepep_mode='auto', ep_num_redundant_experts=0, ep_dispatch_algorithm='static', init_expert_location='trivial', enable_eplb=False, eplb_algorithm='auto', eplb_rebalance_num_iterations=1000, eplb_rebalance_layers_per_chunk=None, expert_distribution_recorder_mode=None, expert_distribution_recorder_buffer_size=1000, enable_expert_distribution_metrics=False, deepep_config=None, moe_dense_tp_size=None, enable_double_sparsity=False, ds_channel_config_path=None, ds_heavy_channel_num=32, ds_heavy_token_num=256, ds_heavy_channel_type='qk', ds_sparse_decode_threshold=4096, disable_radix_cache=False, cuda_graph_max_bs=None, cuda_graph_bs=None, disable_cuda_graph=True, disable_cuda_graph_padding=False, enable_profile_cuda_graph=False, enable_nccl_nvls=False, enable_tokenizer_batch_encode=False, disable_outlines_disk_cache=False, disable_custom_all_reduce=False, enable_mscclpp=False, disable_overlap_schedule=False, disable_overlap_cg_plan=False, enable_mixed_chunk=False, enable_dp_attention=False, enable_dp_lm_head=False, enable_two_batch_overlap=False, enable_torch_compile=False, torch_compile_max_bs=32, torchao_config='', enable_nan_detection=False, enable_p2p_check=False, triton_attention_reduce_in_fp32=False, triton_attention_num_kv_splits=8, num_continuous_decode_steps=1, delete_ckpt_after_loading=False, enable_memory_saver=False, allow_auto_truncate=False, enable_custom_logit_processor=False, enable_hierarchical_cache=False, hicache_ratio=2.0, hicache_size=0, hicache_write_policy='write_through_selective', flashinfer_mla_disable_ragged=False, disable_shared_experts_fusion=False, disable_chunked_prefix_cache=False, disable_fast_image_processor=False, enable_return_hidden_states=False, warmups=None, debug_tensor_dump_output_folder=None, debug_tensor_dump_input_file=None, debug_tensor_dump_inject=False, debug_tensor_dump_prefill_only=False, disaggregation_mode='null', disaggregation_transfer_backend='mooncake', disaggregation_bootstrap_port=8998, disaggregation_decode_tp=None, disaggregation_decode_dp=None, disaggregation_prefill_pp=1, disaggregation_ib_device=None, num_reserved_decode_tokens=512, pdlb_url=None)\n"
     ]
    },
    {
     "name": "stdout",
     "output_type": "stream",
     "text": [
      "[2025-06-15 00:03:17] Attention backend not set. Use fa3 backend by default.\n",
      "[2025-06-15 00:03:17] Init torch distributed begin.\n"
     ]
    },
    {
     "name": "stdout",
     "output_type": "stream",
     "text": [
      "[2025-06-15 00:03:18] Init torch distributed ends. mem usage=0.00 GB\n"
     ]
    },
    {
     "name": "stdout",
     "output_type": "stream",
     "text": [
      "[2025-06-15 00:03:18] Load weight begin. avail mem=53.55 GB\n"
     ]
    },
    {
     "name": "stdout",
     "output_type": "stream",
     "text": [
      "[2025-06-15 00:03:18] Using model weights format ['*.safetensors']\n",
      "\r",
      "Loading safetensors checkpoint shards:   0% Completed | 0/2 [00:00<?, ?it/s]\n"
     ]
    },
    {
     "name": "stdout",
     "output_type": "stream",
     "text": [
      "\r",
      "Loading safetensors checkpoint shards:  50% Completed | 1/2 [00:01<00:01,  1.51s/it]\n"
     ]
    },
    {
     "name": "stdout",
     "output_type": "stream",
     "text": [
      "\r",
      "Loading safetensors checkpoint shards: 100% Completed | 2/2 [00:02<00:00,  1.42s/it]\n",
      "\r",
      "Loading safetensors checkpoint shards: 100% Completed | 2/2 [00:02<00:00,  1.43s/it]\n",
      "\n",
      "[2025-06-15 00:03:21] Load weight end. type=Qwen2ForCausalLM, dtype=torch.bfloat16, avail mem=39.20 GB, mem usage=14.35 GB.\n"
     ]
    },
    {
     "name": "stdout",
     "output_type": "stream",
     "text": [
      "[2025-06-15 00:03:21] KV Cache is allocated. #tokens: 20480, K size: 0.55 GB, V size: 0.55 GB\n",
      "[2025-06-15 00:03:21] Memory pool end. avail mem=37.83 GB\n"
     ]
    },
    {
     "name": "stdout",
     "output_type": "stream",
     "text": [
      "[2025-06-15 00:03:22] max_total_num_tokens=20480, chunked_prefill_size=8192, max_prefill_tokens=16384, max_running_requests=200, context_len=131072, available_gpu_mem=37.71 GB\n"
     ]
    },
    {
     "name": "stdout",
     "output_type": "stream",
     "text": [
      "[2025-06-15 00:03:22] INFO:     Started server process [1627086]\n",
      "[2025-06-15 00:03:22] INFO:     Waiting for application startup.\n",
      "[2025-06-15 00:03:22] INFO:     Application startup complete.\n",
      "[2025-06-15 00:03:22] INFO:     Uvicorn running on http://0.0.0.0:38184 (Press CTRL+C to quit)\n"
     ]
    },
    {
     "name": "stdout",
     "output_type": "stream",
     "text": [
      "[2025-06-15 00:03:23] INFO:     127.0.0.1:46916 - \"GET /v1/models HTTP/1.1\" 200 OK\n",
      "[2025-06-15 00:03:23] INFO:     127.0.0.1:46920 - \"GET /get_model_info HTTP/1.1\" 200 OK\n",
      "[2025-06-15 00:03:23] Prefill batch. #new-seq: 1, #new-token: 7, #cached-token: 0, token usage: 0.00, #running-req: 0, #queue-req: 0\n"
     ]
    },
    {
     "name": "stdout",
     "output_type": "stream",
     "text": [
      "[2025-06-15 00:03:25] INFO:     127.0.0.1:46932 - \"POST /generate HTTP/1.1\" 200 OK\n",
      "[2025-06-15 00:03:25] The server is fired up and ready to roll!\n"
     ]
    },
    {
     "data": {
      "text/html": [
       "<strong style='color: #00008B;'><br><br>                    NOTE: Typically, the server runs in a separate terminal.<br>                    In this notebook, we run the server and notebook code together, so their outputs are combined.<br>                    To improve clarity, the server logs are displayed in the original black color, while the notebook outputs are highlighted in blue.<br>                    We are running those notebooks in a CI parallel environment, so the throughput is not representative of the actual performance.<br>                    </strong>"
      ],
      "text/plain": [
       "<IPython.core.display.HTML object>"
      ]
     },
     "metadata": {},
     "output_type": "display_data"
    }
   ],
   "source": [
    "import openai\n",
    "import os\n",
    "from sglang.test.test_utils import is_in_ci\n",
    "\n",
    "if is_in_ci():\n",
    "    from patch import launch_server_cmd\n",
    "else:\n",
    "    from sglang.utils import launch_server_cmd\n",
    "\n",
    "from sglang.utils import wait_for_server, print_highlight, terminate_process\n",
    "\n",
    "os.environ[\"TOKENIZERS_PARALLELISM\"] = \"false\"\n",
    "\n",
    "\n",
    "server_process, port = launch_server_cmd(\n",
    "    \"python -m sglang.launch_server --model-path deepseek-ai/DeepSeek-R1-Distill-Qwen-7B --host 0.0.0.0 --reasoning-parser deepseek-r1\"\n",
    ")\n",
    "\n",
    "wait_for_server(f\"http://localhost:{port}\")\n",
    "client = openai.Client(base_url=f\"http://127.0.0.1:{port}/v1\", api_key=\"None\")"
   ]
  },
  {
   "cell_type": "markdown",
   "metadata": {},
   "source": [
    "### JSON\n",
    "\n",
    "you can directly define a JSON schema or use [Pydantic](https://docs.pydantic.dev/latest/) to define and validate the response."
   ]
  },
  {
   "cell_type": "markdown",
   "metadata": {},
   "source": [
    "**Using Pydantic**"
   ]
  },
  {
   "cell_type": "code",
   "execution_count": 2,
   "metadata": {
    "execution": {
     "iopub.execute_input": "2025-06-15T00:03:28.916778Z",
     "iopub.status.busy": "2025-06-15T00:03:28.916206Z",
     "iopub.status.idle": "2025-06-15T00:03:33.726897Z",
     "shell.execute_reply": "2025-06-15T00:03:33.726284Z"
    }
   },
   "outputs": [
    {
     "name": "stdout",
     "output_type": "stream",
     "text": [
      "[2025-06-15 00:03:29] Detected chat template content format: string\n",
      "[2025-06-15 00:03:29] Prefill batch. #new-seq: 1, #new-token: 21, #cached-token: 1, token usage: 0.00, #running-req: 0, #queue-req: 0\n"
     ]
    },
    {
     "name": "stdout",
     "output_type": "stream",
     "text": [
      "[2025-06-15 00:03:30] Decode batch. #running-req: 1, #token: 55, token usage: 0.00, cuda graph: False, gen throughput (token/s): 5.21, #queue-req: 0\n"
     ]
    },
    {
     "name": "stdout",
     "output_type": "stream",
     "text": [
      "[2025-06-15 00:03:30] Decode batch. #running-req: 1, #token: 95, token usage: 0.00, cuda graph: False, gen throughput (token/s): 108.53, #queue-req: 0\n"
     ]
    },
    {
     "name": "stdout",
     "output_type": "stream",
     "text": [
      "[2025-06-15 00:03:30] Decode batch. #running-req: 1, #token: 135, token usage: 0.01, cuda graph: False, gen throughput (token/s): 108.35, #queue-req: 0\n"
     ]
    },
    {
     "name": "stdout",
     "output_type": "stream",
     "text": [
      "[2025-06-15 00:03:31] Decode batch. #running-req: 1, #token: 175, token usage: 0.01, cuda graph: False, gen throughput (token/s): 108.48, #queue-req: 0\n"
     ]
    },
    {
     "name": "stdout",
     "output_type": "stream",
     "text": [
      "[2025-06-15 00:03:31] Decode batch. #running-req: 1, #token: 215, token usage: 0.01, cuda graph: False, gen throughput (token/s): 105.77, #queue-req: 0\n"
     ]
    },
    {
     "name": "stdout",
     "output_type": "stream",
     "text": [
      "[2025-06-15 00:03:31] Decode batch. #running-req: 1, #token: 255, token usage: 0.01, cuda graph: False, gen throughput (token/s): 107.68, #queue-req: 0\n"
     ]
    },
    {
     "name": "stdout",
     "output_type": "stream",
     "text": [
      "[2025-06-15 00:03:32] Decode batch. #running-req: 1, #token: 295, token usage: 0.01, cuda graph: False, gen throughput (token/s): 108.51, #queue-req: 0\n"
     ]
    },
    {
     "name": "stdout",
     "output_type": "stream",
     "text": [
      "[2025-06-15 00:03:32] Decode batch. #running-req: 1, #token: 335, token usage: 0.02, cuda graph: False, gen throughput (token/s): 109.32, #queue-req: 0\n"
     ]
    },
    {
     "name": "stdout",
     "output_type": "stream",
     "text": [
      "[2025-06-15 00:03:33] Decode batch. #running-req: 1, #token: 375, token usage: 0.02, cuda graph: False, gen throughput (token/s): 109.16, #queue-req: 0\n"
     ]
    },
    {
     "name": "stdout",
     "output_type": "stream",
     "text": [
      "[2025-06-15 00:03:33] Decode batch. #running-req: 1, #token: 415, token usage: 0.02, cuda graph: False, gen throughput (token/s): 109.87, #queue-req: 0\n"
     ]
    },
    {
     "name": "stdout",
     "output_type": "stream",
     "text": [
      "[2025-06-15 00:03:33] INFO:     127.0.0.1:46948 - \"POST /v1/chat/completions HTTP/1.1\" 200 OK\n"
     ]
    },
    {
     "data": {
      "text/html": [
       "<strong style='color: #00008B;'>reasoing_content: Alright, so the user asked for the information and population of the capital of France in JSON format. I immediately thought about what the capital is—Paris. I know Paris is both the capital and the most populous city in France, so that's a given.<br><br>Next, I considered the population. I remember that Paris has a large population, but I'm not exactly sure of the current number. I think it's around 2 million, but I'm not 100% certain. I should double-check that to make sure I provide accurate information.<br><br>I also need to structure this in JSON. JSON requires key-value pairs, so I'll need to define the keys appropriately. Maybe \"city\" for the name, \"country\" for the capital, and \"population\" for the number. I should make sure the syntax is correct, with proper commas and quotation marks.<br><br>Wait, I should also think about the format. The user wants it in JSON, so I'll present it as a JSON object. I'll make sure there are no typos and that the data is correctly formatted. Maybe I'll write it out step by step to avoid mistakes.<br><br>Another thing to consider is whether the population figure is up to date. Since I'm not accessing real-time data, I'll go with the most recent estimate I have. I recall that Paris has grown a bit in recent years, so 2 million seems reasonable, but I should confirm if it's 2.1 million or something else.<br><br>I also wonder if the user needs more details, like the area or the establishment year of the city, but the query specifically mentions population, so I'll stick to that. Still, it's good to know that I can provide additional information if needed.<br><br>Finally, I'll present the JSON in a clear and concise manner, making sure it's easy for the user to understand and use. I'll review the JSON structure to ensure there are no syntax errors before sending it back to the user.<br><br><br>content: {\"name\": \"Paris\", \"population\": 2145000}</strong>"
      ],
      "text/plain": [
       "<IPython.core.display.HTML object>"
      ]
     },
     "metadata": {},
     "output_type": "display_data"
    }
   ],
   "source": [
    "from pydantic import BaseModel, Field\n",
    "\n",
    "\n",
    "# Define the schema using Pydantic\n",
    "class CapitalInfo(BaseModel):\n",
    "    name: str = Field(..., pattern=r\"^\\w+$\", description=\"Name of the capital city\")\n",
    "    population: int = Field(..., description=\"Population of the capital city\")\n",
    "\n",
    "\n",
    "response = client.chat.completions.create(\n",
    "    model=\"deepseek-ai/DeepSeek-R1-Distill-Qwen-7B\",\n",
    "    messages=[\n",
    "        {\n",
    "            \"role\": \"assistant\",\n",
    "            \"content\": \"Give me the information and population of the capital of France in the JSON format.\",\n",
    "        },\n",
    "    ],\n",
    "    temperature=0,\n",
    "    max_tokens=2048,\n",
    "    response_format={\n",
    "        \"type\": \"json_schema\",\n",
    "        \"json_schema\": {\n",
    "            \"name\": \"foo\",\n",
    "            # convert the pydantic model to json schema\n",
    "            \"schema\": CapitalInfo.model_json_schema(),\n",
    "        },\n",
    "    },\n",
    ")\n",
    "\n",
    "print_highlight(\n",
    "    f\"reasoing_content: {response.choices[0].message.reasoning_content}\\n\\ncontent: {response.choices[0].message.content}\"\n",
    ")"
   ]
  },
  {
   "cell_type": "markdown",
   "metadata": {},
   "source": [
    "**JSON Schema Directly**\n"
   ]
  },
  {
   "cell_type": "code",
   "execution_count": 3,
   "metadata": {
    "execution": {
     "iopub.execute_input": "2025-06-15T00:03:33.728660Z",
     "iopub.status.busy": "2025-06-15T00:03:33.728391Z",
     "iopub.status.idle": "2025-06-15T00:03:36.653522Z",
     "shell.execute_reply": "2025-06-15T00:03:36.652907Z"
    }
   },
   "outputs": [
    {
     "name": "stdout",
     "output_type": "stream",
     "text": [
      "[2025-06-15 00:03:33] Prefill batch. #new-seq: 1, #new-token: 1, #cached-token: 21, token usage: 0.00, #running-req: 0, #queue-req: 0\n",
      "[2025-06-15 00:03:33] Decode batch. #running-req: 1, #token: 34, token usage: 0.00, cuda graph: False, gen throughput (token/s): 91.39, #queue-req: 0\n"
     ]
    },
    {
     "name": "stdout",
     "output_type": "stream",
     "text": [
      "[2025-06-15 00:03:34] Decode batch. #running-req: 1, #token: 74, token usage: 0.00, cuda graph: False, gen throughput (token/s): 108.20, #queue-req: 0\n"
     ]
    },
    {
     "name": "stdout",
     "output_type": "stream",
     "text": [
      "[2025-06-15 00:03:34] Decode batch. #running-req: 1, #token: 114, token usage: 0.01, cuda graph: False, gen throughput (token/s): 108.52, #queue-req: 0\n"
     ]
    },
    {
     "name": "stdout",
     "output_type": "stream",
     "text": [
      "[2025-06-15 00:03:35] Decode batch. #running-req: 1, #token: 154, token usage: 0.01, cuda graph: False, gen throughput (token/s): 109.72, #queue-req: 0\n"
     ]
    },
    {
     "name": "stdout",
     "output_type": "stream",
     "text": [
      "[2025-06-15 00:03:35] Decode batch. #running-req: 1, #token: 194, token usage: 0.01, cuda graph: False, gen throughput (token/s): 110.94, #queue-req: 0\n"
     ]
    },
    {
     "name": "stdout",
     "output_type": "stream",
     "text": [
      "[2025-06-15 00:03:35] Decode batch. #running-req: 1, #token: 234, token usage: 0.01, cuda graph: False, gen throughput (token/s): 110.54, #queue-req: 0\n"
     ]
    },
    {
     "name": "stdout",
     "output_type": "stream",
     "text": [
      "[2025-06-15 00:03:36] Decode batch. #running-req: 1, #token: 274, token usage: 0.01, cuda graph: False, gen throughput (token/s): 110.73, #queue-req: 0\n"
     ]
    },
    {
     "name": "stdout",
     "output_type": "stream",
     "text": [
      "[2025-06-15 00:03:36] Decode batch. #running-req: 1, #token: 314, token usage: 0.02, cuda graph: False, gen throughput (token/s): 105.60, #queue-req: 0\n",
      "[2025-06-15 00:03:36] INFO:     127.0.0.1:46948 - \"POST /v1/chat/completions HTTP/1.1\" 200 OK\n"
     ]
    },
    {
     "data": {
      "text/html": [
       "<strong style='color: #00008B;'>reasoing_content: Alright, so the user asked for the information and population of the capital of France in JSON format. I immediately thought about what the capital is—Paris. Then, I considered the population. I know it's a big city, but I'm not exactly sure of the current number. I remember it's over 3 million, but I'm not certain if it's 3.5 or 3.6. I should double-check that.<br><br>Next, I thought about the structure. The user wants JSON, so I need to format it correctly with keys like \"city\", \"population\", and maybe \"country\". I should make sure the syntax is correct—no typos, proper commas, and brackets. <br><br>I also considered the user's possible needs. They might be doing a project or a presentation, so providing accurate data is crucial. Maybe they're a student learning about France's capitals or someone compiling demographic data. Either way, precision is key.<br><br>I decided to present the information clearly, ensuring the JSON is valid and easy to read. I included the population as 3.617 million, which I believe is the most recent figure I could recall. I also added a comment to explain the units, just in case the user wasn't sure.<br><br>Finally, I made sure to offer further help in case they needed more details or adjustments. That way, the response is helpful and user-friendly.<br><br><br>content: {<br>  \"name\": \"Paris\",<br>  \"population\": 3617000<br>}</strong>"
      ],
      "text/plain": [
       "<IPython.core.display.HTML object>"
      ]
     },
     "metadata": {},
     "output_type": "display_data"
    }
   ],
   "source": [
    "import json\n",
    "\n",
    "json_schema = json.dumps(\n",
    "    {\n",
    "        \"type\": \"object\",\n",
    "        \"properties\": {\n",
    "            \"name\": {\"type\": \"string\", \"pattern\": \"^[\\\\w]+$\"},\n",
    "            \"population\": {\"type\": \"integer\"},\n",
    "        },\n",
    "        \"required\": [\"name\", \"population\"],\n",
    "    }\n",
    ")\n",
    "\n",
    "response = client.chat.completions.create(\n",
    "    model=\"deepseek-ai/DeepSeek-R1-Distill-Qwen-7B\",\n",
    "    messages=[\n",
    "        {\n",
    "            \"role\": \"assistant\",\n",
    "            \"content\": \"Give me the information and population of the capital of France in the JSON format.\",\n",
    "        },\n",
    "    ],\n",
    "    temperature=0,\n",
    "    max_tokens=2048,\n",
    "    response_format={\n",
    "        \"type\": \"json_schema\",\n",
    "        \"json_schema\": {\"name\": \"foo\", \"schema\": json.loads(json_schema)},\n",
    "    },\n",
    ")\n",
    "\n",
    "print_highlight(\n",
    "    f\"reasoing_content: {response.choices[0].message.reasoning_content}\\n\\ncontent: {response.choices[0].message.content}\"\n",
    ")"
   ]
  },
  {
   "cell_type": "markdown",
   "metadata": {},
   "source": [
    "### EBNF"
   ]
  },
  {
   "cell_type": "code",
   "execution_count": 4,
   "metadata": {
    "execution": {
     "iopub.execute_input": "2025-06-15T00:03:36.655363Z",
     "iopub.status.busy": "2025-06-15T00:03:36.655078Z",
     "iopub.status.idle": "2025-06-15T00:03:42.660872Z",
     "shell.execute_reply": "2025-06-15T00:03:42.660241Z"
    }
   },
   "outputs": [
    {
     "name": "stdout",
     "output_type": "stream",
     "text": [
      "[2025-06-15 00:03:36] Prefill batch. #new-seq: 1, #new-token: 28, #cached-token: 1, token usage: 0.00, #running-req: 0, #queue-req: 0\n"
     ]
    },
    {
     "name": "stdout",
     "output_type": "stream",
     "text": [
      "[2025-06-15 00:03:37] Decode batch. #running-req: 1, #token: 53, token usage: 0.00, cuda graph: False, gen throughput (token/s): 73.87, #queue-req: 0\n"
     ]
    },
    {
     "name": "stdout",
     "output_type": "stream",
     "text": [
      "[2025-06-15 00:03:37] Decode batch. #running-req: 1, #token: 93, token usage: 0.00, cuda graph: False, gen throughput (token/s): 89.45, #queue-req: 0\n"
     ]
    },
    {
     "name": "stdout",
     "output_type": "stream",
     "text": [
      "[2025-06-15 00:03:37] Decode batch. #running-req: 1, #token: 133, token usage: 0.01, cuda graph: False, gen throughput (token/s): 95.47, #queue-req: 0\n"
     ]
    },
    {
     "name": "stdout",
     "output_type": "stream",
     "text": [
      "[2025-06-15 00:03:38] Decode batch. #running-req: 1, #token: 173, token usage: 0.01, cuda graph: False, gen throughput (token/s): 112.25, #queue-req: 0\n"
     ]
    },
    {
     "name": "stdout",
     "output_type": "stream",
     "text": [
      "[2025-06-15 00:03:38] Decode batch. #running-req: 1, #token: 213, token usage: 0.01, cuda graph: False, gen throughput (token/s): 112.53, #queue-req: 0\n"
     ]
    },
    {
     "name": "stdout",
     "output_type": "stream",
     "text": [
      "[2025-06-15 00:03:38] Decode batch. #running-req: 1, #token: 253, token usage: 0.01, cuda graph: False, gen throughput (token/s): 111.83, #queue-req: 0\n"
     ]
    },
    {
     "name": "stdout",
     "output_type": "stream",
     "text": [
      "[2025-06-15 00:03:39] Decode batch. #running-req: 1, #token: 293, token usage: 0.01, cuda graph: False, gen throughput (token/s): 102.54, #queue-req: 0\n"
     ]
    },
    {
     "name": "stdout",
     "output_type": "stream",
     "text": [
      "[2025-06-15 00:03:39] Decode batch. #running-req: 1, #token: 333, token usage: 0.02, cuda graph: False, gen throughput (token/s): 96.61, #queue-req: 0\n"
     ]
    },
    {
     "name": "stdout",
     "output_type": "stream",
     "text": [
      "[2025-06-15 00:03:40] Decode batch. #running-req: 1, #token: 373, token usage: 0.02, cuda graph: False, gen throughput (token/s): 100.37, #queue-req: 0\n"
     ]
    },
    {
     "name": "stdout",
     "output_type": "stream",
     "text": [
      "[2025-06-15 00:03:40] Decode batch. #running-req: 1, #token: 413, token usage: 0.02, cuda graph: False, gen throughput (token/s): 95.82, #queue-req: 0\n"
     ]
    },
    {
     "name": "stdout",
     "output_type": "stream",
     "text": [
      "[2025-06-15 00:03:40] Decode batch. #running-req: 1, #token: 453, token usage: 0.02, cuda graph: False, gen throughput (token/s): 102.82, #queue-req: 0\n"
     ]
    },
    {
     "name": "stdout",
     "output_type": "stream",
     "text": [
      "[2025-06-15 00:03:41] Decode batch. #running-req: 1, #token: 493, token usage: 0.02, cuda graph: False, gen throughput (token/s): 106.30, #queue-req: 0\n"
     ]
    },
    {
     "name": "stdout",
     "output_type": "stream",
     "text": [
      "[2025-06-15 00:03:41] Decode batch. #running-req: 1, #token: 533, token usage: 0.03, cuda graph: False, gen throughput (token/s): 102.91, #queue-req: 0\n"
     ]
    },
    {
     "name": "stdout",
     "output_type": "stream",
     "text": [
      "[2025-06-15 00:03:42] Decode batch. #running-req: 1, #token: 573, token usage: 0.03, cuda graph: False, gen throughput (token/s): 101.52, #queue-req: 0\n"
     ]
    },
    {
     "name": "stdout",
     "output_type": "stream",
     "text": [
      "[2025-06-15 00:03:42] Decode batch. #running-req: 1, #token: 613, token usage: 0.03, cuda graph: False, gen throughput (token/s): 96.70, #queue-req: 0\n",
      "[2025-06-15 00:03:42] INFO:     127.0.0.1:46948 - \"POST /v1/chat/completions HTTP/1.1\" 200 OK\n"
     ]
    },
    {
     "data": {
      "text/html": [
       "<strong style='color: #00008B;'>reasoing_content: Okay, so the user asked for the information and population of the capital of France in JSON format. I responded with Paris, its population of around 2.1 million, and included some key facts. Now, the user is following up with a new query about the capitals of other countries. They provided a list of countries and want the same JSON structure for each.<br><br>First, I need to figure out what the user is really looking for. They might be creating a dataset or a project that requires the capitals of various nations. Maybe they're a student working on a geography assignment or a developer building a mapping application. Either way, they need accurate and reliable data.<br><br>Looking at the list they provided: Albania, Algeria, Australia, Austria, Brazil, Canada, China, Colombia, Denmark, Egypt, France, Germany, Greece, Hungary, Iceland, India, Indonesia, Ireland, Italy, Japan, Mexico, Netherlands, Nigeria, Poland, Portugal, Russia, Saudi Arabia, Spain, Sweden, Switzerland, Thailand, Turkey, UK, USA. That's quite a comprehensive list, covering multiple continents.<br><br>I should make sure each country's capital is correct. I know some capitals off the top of my head, like Albania's Tirana, Algeria's Algiers, Australia's Canberra. But I should double-check the rest to avoid mistakes. For example, I'm pretty sure Germany's capital is Berlin, but I should confirm that. Same with countries like Mexico and Spain, their capitals are Mexico City and Madrid, respectively.<br><br>The user wants the information in JSON format, so each country will have a key with its name and capital, along with the population. I'll need to look up the most recent population estimates for each capital. Population numbers can change, so it's important to use the latest data. For example, as of 2023, Paris has a population around 2.1 million, but it's growing, so maybe I should note that the figure is approximate.<br><br>I should structure the JSON array correctly, ensuring each object has the same fields. Also, I'll add a comment at the top to explain the data, making it clear for anyone reading the JSON.<br><br>I need to be careful with the syntax to avoid errors. JSON requires proper quotation marks and commas. Each object in the array should be separated by a comma, and the entire structure should be valid. Maybe I'll write it out step by step to ensure accuracy.<br><br>Additionally, I should consider if the user needs more details, like the country's area or other statistics, but since they only asked for population, I'll stick to that. However, offering to include more data in the future might be a good idea, showing flexibility.<br><br>Lastly, I'll make sure the JSON is well-formatted and easy to read, perhaps by indenting it for better readability. That way, the user can easily parse the data without issues.<br><br><br>content: London is the capital of France</strong>"
      ],
      "text/plain": [
       "<IPython.core.display.HTML object>"
      ]
     },
     "metadata": {},
     "output_type": "display_data"
    }
   ],
   "source": [
    "ebnf_grammar = \"\"\"\n",
    "root ::= city | description\n",
    "city ::= \"London\" | \"Paris\" | \"Berlin\" | \"Rome\"\n",
    "description ::= city \" is \" status\n",
    "status ::= \"the capital of \" country\n",
    "country ::= \"England\" | \"France\" | \"Germany\" | \"Italy\"\n",
    "\"\"\"\n",
    "\n",
    "response = client.chat.completions.create(\n",
    "    model=\"deepseek-ai/DeepSeek-R1-Distill-Qwen-7B\",\n",
    "    messages=[\n",
    "        {\"role\": \"system\", \"content\": \"You are a helpful geography bot.\"},\n",
    "        {\n",
    "            \"role\": \"assistant\",\n",
    "            \"content\": \"Give me the information and population of the capital of France in the JSON format.\",\n",
    "        },\n",
    "    ],\n",
    "    temperature=0,\n",
    "    max_tokens=2048,\n",
    "    extra_body={\"ebnf\": ebnf_grammar},\n",
    ")\n",
    "\n",
    "print_highlight(\n",
    "    f\"reasoing_content: {response.choices[0].message.reasoning_content}\\n\\ncontent: {response.choices[0].message.content}\"\n",
    ")"
   ]
  },
  {
   "cell_type": "markdown",
   "metadata": {},
   "source": [
    "### Regular expression"
   ]
  },
  {
   "cell_type": "code",
   "execution_count": 5,
   "metadata": {
    "execution": {
     "iopub.execute_input": "2025-06-15T00:03:42.662924Z",
     "iopub.status.busy": "2025-06-15T00:03:42.662715Z",
     "iopub.status.idle": "2025-06-15T00:03:43.900846Z",
     "shell.execute_reply": "2025-06-15T00:03:43.900176Z"
    }
   },
   "outputs": [
    {
     "name": "stdout",
     "output_type": "stream",
     "text": [
      "[2025-06-15 00:03:42] Prefill batch. #new-seq: 1, #new-token: 11, #cached-token: 2, token usage: 0.00, #running-req: 0, #queue-req: 0\n"
     ]
    },
    {
     "name": "stdout",
     "output_type": "stream",
     "text": [
      "[2025-06-15 00:03:42] Decode batch. #running-req: 1, #token: 40, token usage: 0.00, cuda graph: False, gen throughput (token/s): 88.09, #queue-req: 0\n"
     ]
    },
    {
     "name": "stdout",
     "output_type": "stream",
     "text": [
      "[2025-06-15 00:03:43] Decode batch. #running-req: 1, #token: 80, token usage: 0.00, cuda graph: False, gen throughput (token/s): 101.12, #queue-req: 0\n"
     ]
    },
    {
     "name": "stdout",
     "output_type": "stream",
     "text": [
      "[2025-06-15 00:03:43] Decode batch. #running-req: 1, #token: 120, token usage: 0.01, cuda graph: False, gen throughput (token/s): 102.44, #queue-req: 0\n",
      "[2025-06-15 00:03:43] INFO:     127.0.0.1:46948 - \"POST /v1/chat/completions HTTP/1.1\" 200 OK\n"
     ]
    },
    {
     "data": {
      "text/html": [
       "<strong style='color: #00008B;'>reasoing_content: Alright, so the user just asked, \"What is the capital of France?\" Hmm, that's a pretty straightforward question. I should make sure I provide a clear and accurate answer. Let me think, Paris is definitely the capital. But wait, is there any chance I might have mixed it up with another country? No, I'm pretty sure France's capital is Paris. Maybe I should double-check that to be certain. Yeah, Paris is where the government is located, and that's the capital. Okay, I feel confident about that. I'll just state it directly.<br><br><br>content: Paris</strong>"
      ],
      "text/plain": [
       "<IPython.core.display.HTML object>"
      ]
     },
     "metadata": {},
     "output_type": "display_data"
    }
   ],
   "source": [
    "response = client.chat.completions.create(\n",
    "    model=\"deepseek-ai/DeepSeek-R1-Distill-Qwen-7B\",\n",
    "    messages=[\n",
    "        {\"role\": \"assistant\", \"content\": \"What is the capital of France?\"},\n",
    "    ],\n",
    "    temperature=0,\n",
    "    max_tokens=2048,\n",
    "    extra_body={\"regex\": \"(Paris|London)\"},\n",
    ")\n",
    "\n",
    "print_highlight(\n",
    "    f\"reasoing_content: {response.choices[0].message.reasoning_content}\\n\\ncontent: {response.choices[0].message.content}\"\n",
    ")"
   ]
  },
  {
   "cell_type": "markdown",
   "metadata": {},
   "source": [
    "### Structural Tag"
   ]
  },
  {
   "cell_type": "code",
   "execution_count": 6,
   "metadata": {
    "execution": {
     "iopub.execute_input": "2025-06-15T00:03:43.902849Z",
     "iopub.status.busy": "2025-06-15T00:03:43.902655Z",
     "iopub.status.idle": "2025-06-15T00:06:51.201707Z",
     "shell.execute_reply": "2025-06-15T00:06:51.201120Z"
    }
   },
   "outputs": [
    {
     "name": "stdout",
     "output_type": "stream",
     "text": [
      "[2025-06-15 00:03:44] Prefill batch. #new-seq: 1, #new-token: 472, #cached-token: 1, token usage: 0.00, #running-req: 0, #queue-req: 0\n"
     ]
    },
    {
     "name": "stdout",
     "output_type": "stream",
     "text": [
      "[2025-06-15 00:03:44] Decode batch. #running-req: 1, #token: 500, token usage: 0.02, cuda graph: False, gen throughput (token/s): 61.05, #queue-req: 0\n"
     ]
    },
    {
     "name": "stdout",
     "output_type": "stream",
     "text": [
      "[2025-06-15 00:03:44] Decode batch. #running-req: 1, #token: 540, token usage: 0.03, cuda graph: False, gen throughput (token/s): 107.84, #queue-req: 0\n"
     ]
    },
    {
     "name": "stdout",
     "output_type": "stream",
     "text": [
      "[2025-06-15 00:03:45] Decode batch. #running-req: 1, #token: 580, token usage: 0.03, cuda graph: False, gen throughput (token/s): 109.89, #queue-req: 0\n"
     ]
    },
    {
     "name": "stdout",
     "output_type": "stream",
     "text": [
      "[2025-06-15 00:03:45] Decode batch. #running-req: 1, #token: 620, token usage: 0.03, cuda graph: False, gen throughput (token/s): 109.27, #queue-req: 0\n"
     ]
    },
    {
     "name": "stdout",
     "output_type": "stream",
     "text": [
      "[2025-06-15 00:03:45] Decode batch. #running-req: 1, #token: 660, token usage: 0.03, cuda graph: False, gen throughput (token/s): 109.60, #queue-req: 0\n"
     ]
    },
    {
     "name": "stdout",
     "output_type": "stream",
     "text": [
      "[2025-06-15 00:03:46] Decode batch. #running-req: 1, #token: 700, token usage: 0.03, cuda graph: False, gen throughput (token/s): 103.95, #queue-req: 0\n"
     ]
    },
    {
     "name": "stdout",
     "output_type": "stream",
     "text": [
      "[2025-06-15 00:03:46] Decode batch. #running-req: 1, #token: 740, token usage: 0.04, cuda graph: False, gen throughput (token/s): 107.20, #queue-req: 0\n"
     ]
    },
    {
     "name": "stdout",
     "output_type": "stream",
     "text": [
      "[2025-06-15 00:03:47] Decode batch. #running-req: 1, #token: 780, token usage: 0.04, cuda graph: False, gen throughput (token/s): 108.35, #queue-req: 0\n"
     ]
    },
    {
     "name": "stdout",
     "output_type": "stream",
     "text": [
      "[2025-06-15 00:03:47] Decode batch. #running-req: 1, #token: 820, token usage: 0.04, cuda graph: False, gen throughput (token/s): 109.30, #queue-req: 0\n"
     ]
    },
    {
     "name": "stdout",
     "output_type": "stream",
     "text": [
      "[2025-06-15 00:03:47] Decode batch. #running-req: 1, #token: 860, token usage: 0.04, cuda graph: False, gen throughput (token/s): 109.43, #queue-req: 0\n"
     ]
    },
    {
     "name": "stdout",
     "output_type": "stream",
     "text": [
      "[2025-06-15 00:03:48] Decode batch. #running-req: 1, #token: 900, token usage: 0.04, cuda graph: False, gen throughput (token/s): 107.53, #queue-req: 0\n"
     ]
    },
    {
     "name": "stdout",
     "output_type": "stream",
     "text": [
      "[2025-06-15 00:03:48] Decode batch. #running-req: 1, #token: 940, token usage: 0.05, cuda graph: False, gen throughput (token/s): 108.69, #queue-req: 0\n"
     ]
    },
    {
     "name": "stdout",
     "output_type": "stream",
     "text": [
      "[2025-06-15 00:03:48] Decode batch. #running-req: 1, #token: 980, token usage: 0.05, cuda graph: False, gen throughput (token/s): 108.65, #queue-req: 0\n"
     ]
    },
    {
     "name": "stdout",
     "output_type": "stream",
     "text": [
      "[2025-06-15 00:03:49] Decode batch. #running-req: 1, #token: 1020, token usage: 0.05, cuda graph: False, gen throughput (token/s): 108.21, #queue-req: 0\n"
     ]
    },
    {
     "name": "stdout",
     "output_type": "stream",
     "text": [
      "[2025-06-15 00:03:49] Decode batch. #running-req: 1, #token: 1060, token usage: 0.05, cuda graph: False, gen throughput (token/s): 108.04, #queue-req: 0\n"
     ]
    },
    {
     "name": "stdout",
     "output_type": "stream",
     "text": [
      "[2025-06-15 00:03:49] Decode batch. #running-req: 1, #token: 1100, token usage: 0.05, cuda graph: False, gen throughput (token/s): 108.94, #queue-req: 0\n"
     ]
    },
    {
     "name": "stdout",
     "output_type": "stream",
     "text": [
      "[2025-06-15 00:03:50] Decode batch. #running-req: 1, #token: 1140, token usage: 0.06, cuda graph: False, gen throughput (token/s): 109.95, #queue-req: 0\n"
     ]
    },
    {
     "name": "stdout",
     "output_type": "stream",
     "text": [
      "[2025-06-15 00:03:50] Decode batch. #running-req: 1, #token: 1180, token usage: 0.06, cuda graph: False, gen throughput (token/s): 110.32, #queue-req: 0\n"
     ]
    },
    {
     "name": "stdout",
     "output_type": "stream",
     "text": [
      "[2025-06-15 00:03:51] Decode batch. #running-req: 1, #token: 1220, token usage: 0.06, cuda graph: False, gen throughput (token/s): 110.06, #queue-req: 0\n"
     ]
    },
    {
     "name": "stdout",
     "output_type": "stream",
     "text": [
      "[2025-06-15 00:03:51] Decode batch. #running-req: 1, #token: 1260, token usage: 0.06, cuda graph: False, gen throughput (token/s): 109.53, #queue-req: 0\n"
     ]
    },
    {
     "name": "stdout",
     "output_type": "stream",
     "text": [
      "[2025-06-15 00:03:51] Decode batch. #running-req: 1, #token: 1300, token usage: 0.06, cuda graph: False, gen throughput (token/s): 107.67, #queue-req: 0\n"
     ]
    },
    {
     "name": "stdout",
     "output_type": "stream",
     "text": [
      "[2025-06-15 00:03:52] Decode batch. #running-req: 1, #token: 1340, token usage: 0.07, cuda graph: False, gen throughput (token/s): 109.10, #queue-req: 0\n"
     ]
    },
    {
     "name": "stdout",
     "output_type": "stream",
     "text": [
      "[2025-06-15 00:03:52] Decode batch. #running-req: 1, #token: 1380, token usage: 0.07, cuda graph: False, gen throughput (token/s): 108.41, #queue-req: 0\n"
     ]
    },
    {
     "name": "stdout",
     "output_type": "stream",
     "text": [
      "[2025-06-15 00:03:52] Decode batch. #running-req: 1, #token: 1420, token usage: 0.07, cuda graph: False, gen throughput (token/s): 109.47, #queue-req: 0\n"
     ]
    },
    {
     "name": "stdout",
     "output_type": "stream",
     "text": [
      "[2025-06-15 00:03:53] Decode batch. #running-req: 1, #token: 1460, token usage: 0.07, cuda graph: False, gen throughput (token/s): 109.38, #queue-req: 0\n"
     ]
    },
    {
     "name": "stdout",
     "output_type": "stream",
     "text": [
      "[2025-06-15 00:03:53] Decode batch. #running-req: 1, #token: 1500, token usage: 0.07, cuda graph: False, gen throughput (token/s): 109.81, #queue-req: 0\n"
     ]
    },
    {
     "name": "stdout",
     "output_type": "stream",
     "text": [
      "[2025-06-15 00:03:53] Decode batch. #running-req: 1, #token: 1540, token usage: 0.08, cuda graph: False, gen throughput (token/s): 109.23, #queue-req: 0\n"
     ]
    },
    {
     "name": "stdout",
     "output_type": "stream",
     "text": [
      "[2025-06-15 00:03:54] Decode batch. #running-req: 1, #token: 1580, token usage: 0.08, cuda graph: False, gen throughput (token/s): 108.72, #queue-req: 0\n"
     ]
    },
    {
     "name": "stdout",
     "output_type": "stream",
     "text": [
      "[2025-06-15 00:03:54] Decode batch. #running-req: 1, #token: 1620, token usage: 0.08, cuda graph: False, gen throughput (token/s): 109.71, #queue-req: 0\n"
     ]
    },
    {
     "name": "stdout",
     "output_type": "stream",
     "text": [
      "[2025-06-15 00:03:55] Decode batch. #running-req: 1, #token: 1660, token usage: 0.08, cuda graph: False, gen throughput (token/s): 107.01, #queue-req: 0\n"
     ]
    },
    {
     "name": "stdout",
     "output_type": "stream",
     "text": [
      "[2025-06-15 00:03:55] Decode batch. #running-req: 1, #token: 1700, token usage: 0.08, cuda graph: False, gen throughput (token/s): 109.51, #queue-req: 0\n"
     ]
    },
    {
     "name": "stdout",
     "output_type": "stream",
     "text": [
      "[2025-06-15 00:03:55] Decode batch. #running-req: 1, #token: 1740, token usage: 0.08, cuda graph: False, gen throughput (token/s): 110.78, #queue-req: 0\n"
     ]
    },
    {
     "name": "stdout",
     "output_type": "stream",
     "text": [
      "[2025-06-15 00:03:56] Decode batch. #running-req: 1, #token: 1780, token usage: 0.09, cuda graph: False, gen throughput (token/s): 109.97, #queue-req: 0\n"
     ]
    },
    {
     "name": "stdout",
     "output_type": "stream",
     "text": [
      "[2025-06-15 00:03:56] Decode batch. #running-req: 1, #token: 1820, token usage: 0.09, cuda graph: False, gen throughput (token/s): 109.51, #queue-req: 0\n"
     ]
    },
    {
     "name": "stdout",
     "output_type": "stream",
     "text": [
      "[2025-06-15 00:03:56] Decode batch. #running-req: 1, #token: 1860, token usage: 0.09, cuda graph: False, gen throughput (token/s): 109.78, #queue-req: 0\n"
     ]
    },
    {
     "name": "stdout",
     "output_type": "stream",
     "text": [
      "[2025-06-15 00:03:57] Decode batch. #running-req: 1, #token: 1900, token usage: 0.09, cuda graph: False, gen throughput (token/s): 109.48, #queue-req: 0\n"
     ]
    },
    {
     "name": "stdout",
     "output_type": "stream",
     "text": [
      "[2025-06-15 00:03:57] Decode batch. #running-req: 1, #token: 1940, token usage: 0.09, cuda graph: False, gen throughput (token/s): 108.75, #queue-req: 0\n"
     ]
    },
    {
     "name": "stdout",
     "output_type": "stream",
     "text": [
      "[2025-06-15 00:03:58] Decode batch. #running-req: 1, #token: 1980, token usage: 0.10, cuda graph: False, gen throughput (token/s): 107.87, #queue-req: 0\n"
     ]
    },
    {
     "name": "stdout",
     "output_type": "stream",
     "text": [
      "[2025-06-15 00:03:58] Decode batch. #running-req: 1, #token: 2020, token usage: 0.10, cuda graph: False, gen throughput (token/s): 108.18, #queue-req: 0\n"
     ]
    },
    {
     "name": "stdout",
     "output_type": "stream",
     "text": [
      "[2025-06-15 00:03:58] Decode batch. #running-req: 1, #token: 2060, token usage: 0.10, cuda graph: False, gen throughput (token/s): 109.67, #queue-req: 0\n"
     ]
    },
    {
     "name": "stdout",
     "output_type": "stream",
     "text": [
      "[2025-06-15 00:03:59] Decode batch. #running-req: 1, #token: 2100, token usage: 0.10, cuda graph: False, gen throughput (token/s): 109.63, #queue-req: 0\n"
     ]
    },
    {
     "name": "stdout",
     "output_type": "stream",
     "text": [
      "[2025-06-15 00:03:59] Decode batch. #running-req: 1, #token: 2140, token usage: 0.10, cuda graph: False, gen throughput (token/s): 108.69, #queue-req: 0\n"
     ]
    },
    {
     "name": "stdout",
     "output_type": "stream",
     "text": [
      "[2025-06-15 00:03:59] Decode batch. #running-req: 1, #token: 2180, token usage: 0.11, cuda graph: False, gen throughput (token/s): 109.59, #queue-req: 0\n"
     ]
    },
    {
     "name": "stdout",
     "output_type": "stream",
     "text": [
      "[2025-06-15 00:04:00] Decode batch. #running-req: 1, #token: 2220, token usage: 0.11, cuda graph: False, gen throughput (token/s): 109.44, #queue-req: 0\n"
     ]
    },
    {
     "name": "stdout",
     "output_type": "stream",
     "text": [
      "[2025-06-15 00:04:00] Decode batch. #running-req: 1, #token: 2260, token usage: 0.11, cuda graph: False, gen throughput (token/s): 109.93, #queue-req: 0\n"
     ]
    },
    {
     "name": "stdout",
     "output_type": "stream",
     "text": [
      "[2025-06-15 00:04:00] Decode batch. #running-req: 1, #token: 2300, token usage: 0.11, cuda graph: False, gen throughput (token/s): 109.24, #queue-req: 0\n"
     ]
    },
    {
     "name": "stdout",
     "output_type": "stream",
     "text": [
      "[2025-06-15 00:04:01] Decode batch. #running-req: 1, #token: 2340, token usage: 0.11, cuda graph: False, gen throughput (token/s): 104.29, #queue-req: 0\n"
     ]
    },
    {
     "name": "stdout",
     "output_type": "stream",
     "text": [
      "[2025-06-15 00:04:01] Decode batch. #running-req: 1, #token: 2380, token usage: 0.12, cuda graph: False, gen throughput (token/s): 96.36, #queue-req: 0\n"
     ]
    },
    {
     "name": "stdout",
     "output_type": "stream",
     "text": [
      "[2025-06-15 00:04:02] Decode batch. #running-req: 1, #token: 2420, token usage: 0.12, cuda graph: False, gen throughput (token/s): 108.47, #queue-req: 0\n"
     ]
    },
    {
     "name": "stdout",
     "output_type": "stream",
     "text": [
      "[2025-06-15 00:04:02] Decode batch. #running-req: 1, #token: 2460, token usage: 0.12, cuda graph: False, gen throughput (token/s): 105.96, #queue-req: 0\n"
     ]
    },
    {
     "name": "stdout",
     "output_type": "stream",
     "text": [
      "[2025-06-15 00:04:02] Decode batch. #running-req: 1, #token: 2500, token usage: 0.12, cuda graph: False, gen throughput (token/s): 109.50, #queue-req: 0\n"
     ]
    },
    {
     "name": "stdout",
     "output_type": "stream",
     "text": [
      "[2025-06-15 00:04:03] Decode batch. #running-req: 1, #token: 2540, token usage: 0.12, cuda graph: False, gen throughput (token/s): 109.53, #queue-req: 0\n"
     ]
    },
    {
     "name": "stdout",
     "output_type": "stream",
     "text": [
      "[2025-06-15 00:04:03] Decode batch. #running-req: 1, #token: 2580, token usage: 0.13, cuda graph: False, gen throughput (token/s): 109.79, #queue-req: 0\n"
     ]
    },
    {
     "name": "stdout",
     "output_type": "stream",
     "text": [
      "[2025-06-15 00:04:03] Decode batch. #running-req: 1, #token: 2620, token usage: 0.13, cuda graph: False, gen throughput (token/s): 109.55, #queue-req: 0\n"
     ]
    },
    {
     "name": "stdout",
     "output_type": "stream",
     "text": [
      "[2025-06-15 00:04:04] Decode batch. #running-req: 1, #token: 2660, token usage: 0.13, cuda graph: False, gen throughput (token/s): 108.74, #queue-req: 0\n"
     ]
    },
    {
     "name": "stdout",
     "output_type": "stream",
     "text": [
      "[2025-06-15 00:04:04] Decode batch. #running-req: 1, #token: 2700, token usage: 0.13, cuda graph: False, gen throughput (token/s): 109.22, #queue-req: 0\n"
     ]
    },
    {
     "name": "stdout",
     "output_type": "stream",
     "text": [
      "[2025-06-15 00:04:05] Decode batch. #running-req: 1, #token: 2740, token usage: 0.13, cuda graph: False, gen throughput (token/s): 108.40, #queue-req: 0\n"
     ]
    },
    {
     "name": "stdout",
     "output_type": "stream",
     "text": [
      "[2025-06-15 00:04:05] Decode batch. #running-req: 1, #token: 2780, token usage: 0.14, cuda graph: False, gen throughput (token/s): 107.51, #queue-req: 0\n"
     ]
    },
    {
     "name": "stdout",
     "output_type": "stream",
     "text": [
      "[2025-06-15 00:04:05] Decode batch. #running-req: 1, #token: 2820, token usage: 0.14, cuda graph: False, gen throughput (token/s): 104.81, #queue-req: 0\n"
     ]
    },
    {
     "name": "stdout",
     "output_type": "stream",
     "text": [
      "[2025-06-15 00:04:06] Decode batch. #running-req: 1, #token: 2860, token usage: 0.14, cuda graph: False, gen throughput (token/s): 98.42, #queue-req: 0\n"
     ]
    },
    {
     "name": "stdout",
     "output_type": "stream",
     "text": [
      "[2025-06-15 00:04:06] Decode batch. #running-req: 1, #token: 2900, token usage: 0.14, cuda graph: False, gen throughput (token/s): 108.74, #queue-req: 0\n"
     ]
    },
    {
     "name": "stdout",
     "output_type": "stream",
     "text": [
      "[2025-06-15 00:04:06] Decode batch. #running-req: 1, #token: 2940, token usage: 0.14, cuda graph: False, gen throughput (token/s): 107.65, #queue-req: 0\n"
     ]
    },
    {
     "name": "stdout",
     "output_type": "stream",
     "text": [
      "[2025-06-15 00:04:07] Decode batch. #running-req: 1, #token: 2980, token usage: 0.15, cuda graph: False, gen throughput (token/s): 109.09, #queue-req: 0\n"
     ]
    },
    {
     "name": "stdout",
     "output_type": "stream",
     "text": [
      "[2025-06-15 00:04:07] Decode batch. #running-req: 1, #token: 3020, token usage: 0.15, cuda graph: False, gen throughput (token/s): 109.14, #queue-req: 0\n"
     ]
    },
    {
     "name": "stdout",
     "output_type": "stream",
     "text": [
      "[2025-06-15 00:04:08] Decode batch. #running-req: 1, #token: 3060, token usage: 0.15, cuda graph: False, gen throughput (token/s): 109.52, #queue-req: 0\n"
     ]
    },
    {
     "name": "stdout",
     "output_type": "stream",
     "text": [
      "[2025-06-15 00:04:08] Decode batch. #running-req: 1, #token: 3100, token usage: 0.15, cuda graph: False, gen throughput (token/s): 108.68, #queue-req: 0\n"
     ]
    },
    {
     "name": "stdout",
     "output_type": "stream",
     "text": [
      "[2025-06-15 00:04:08] Decode batch. #running-req: 1, #token: 3140, token usage: 0.15, cuda graph: False, gen throughput (token/s): 107.22, #queue-req: 0\n"
     ]
    },
    {
     "name": "stdout",
     "output_type": "stream",
     "text": [
      "[2025-06-15 00:04:09] Decode batch. #running-req: 1, #token: 3180, token usage: 0.16, cuda graph: False, gen throughput (token/s): 109.03, #queue-req: 0\n"
     ]
    },
    {
     "name": "stdout",
     "output_type": "stream",
     "text": [
      "[2025-06-15 00:04:09] Decode batch. #running-req: 1, #token: 3220, token usage: 0.16, cuda graph: False, gen throughput (token/s): 109.61, #queue-req: 0\n"
     ]
    },
    {
     "name": "stdout",
     "output_type": "stream",
     "text": [
      "[2025-06-15 00:04:09] Decode batch. #running-req: 1, #token: 3260, token usage: 0.16, cuda graph: False, gen throughput (token/s): 109.13, #queue-req: 0\n"
     ]
    },
    {
     "name": "stdout",
     "output_type": "stream",
     "text": [
      "[2025-06-15 00:04:10] Decode batch. #running-req: 1, #token: 3300, token usage: 0.16, cuda graph: False, gen throughput (token/s): 109.03, #queue-req: 0\n"
     ]
    },
    {
     "name": "stdout",
     "output_type": "stream",
     "text": [
      "[2025-06-15 00:04:10] Decode batch. #running-req: 1, #token: 3340, token usage: 0.16, cuda graph: False, gen throughput (token/s): 103.64, #queue-req: 0\n"
     ]
    },
    {
     "name": "stdout",
     "output_type": "stream",
     "text": [
      "[2025-06-15 00:04:11] Decode batch. #running-req: 1, #token: 3380, token usage: 0.17, cuda graph: False, gen throughput (token/s): 108.57, #queue-req: 0\n"
     ]
    },
    {
     "name": "stdout",
     "output_type": "stream",
     "text": [
      "[2025-06-15 00:04:11] Decode batch. #running-req: 1, #token: 3420, token usage: 0.17, cuda graph: False, gen throughput (token/s): 108.99, #queue-req: 0\n"
     ]
    },
    {
     "name": "stdout",
     "output_type": "stream",
     "text": [
      "[2025-06-15 00:04:11] Decode batch. #running-req: 1, #token: 3460, token usage: 0.17, cuda graph: False, gen throughput (token/s): 107.73, #queue-req: 0\n"
     ]
    },
    {
     "name": "stdout",
     "output_type": "stream",
     "text": [
      "[2025-06-15 00:04:12] Decode batch. #running-req: 1, #token: 3500, token usage: 0.17, cuda graph: False, gen throughput (token/s): 109.07, #queue-req: 0\n"
     ]
    },
    {
     "name": "stdout",
     "output_type": "stream",
     "text": [
      "[2025-06-15 00:04:12] Decode batch. #running-req: 1, #token: 3540, token usage: 0.17, cuda graph: False, gen throughput (token/s): 96.42, #queue-req: 0\n"
     ]
    },
    {
     "name": "stdout",
     "output_type": "stream",
     "text": [
      "[2025-06-15 00:04:12] Decode batch. #running-req: 1, #token: 3580, token usage: 0.17, cuda graph: False, gen throughput (token/s): 109.67, #queue-req: 0\n"
     ]
    },
    {
     "name": "stdout",
     "output_type": "stream",
     "text": [
      "[2025-06-15 00:04:13] Decode batch. #running-req: 1, #token: 3620, token usage: 0.18, cuda graph: False, gen throughput (token/s): 110.59, #queue-req: 0\n"
     ]
    },
    {
     "name": "stdout",
     "output_type": "stream",
     "text": [
      "[2025-06-15 00:04:13] Decode batch. #running-req: 1, #token: 3660, token usage: 0.18, cuda graph: False, gen throughput (token/s): 110.84, #queue-req: 0\n"
     ]
    },
    {
     "name": "stdout",
     "output_type": "stream",
     "text": [
      "[2025-06-15 00:04:13] Decode batch. #running-req: 1, #token: 3700, token usage: 0.18, cuda graph: False, gen throughput (token/s): 111.40, #queue-req: 0\n"
     ]
    },
    {
     "name": "stdout",
     "output_type": "stream",
     "text": [
      "[2025-06-15 00:04:14] Decode batch. #running-req: 1, #token: 3740, token usage: 0.18, cuda graph: False, gen throughput (token/s): 106.16, #queue-req: 0\n"
     ]
    },
    {
     "name": "stdout",
     "output_type": "stream",
     "text": [
      "[2025-06-15 00:04:14] Decode batch. #running-req: 1, #token: 3780, token usage: 0.18, cuda graph: False, gen throughput (token/s): 111.14, #queue-req: 0\n"
     ]
    },
    {
     "name": "stdout",
     "output_type": "stream",
     "text": [
      "[2025-06-15 00:04:15] Decode batch. #running-req: 1, #token: 3820, token usage: 0.19, cuda graph: False, gen throughput (token/s): 111.74, #queue-req: 0\n"
     ]
    },
    {
     "name": "stdout",
     "output_type": "stream",
     "text": [
      "[2025-06-15 00:04:15] Decode batch. #running-req: 1, #token: 3860, token usage: 0.19, cuda graph: False, gen throughput (token/s): 110.21, #queue-req: 0\n"
     ]
    },
    {
     "name": "stdout",
     "output_type": "stream",
     "text": [
      "[2025-06-15 00:04:15] Decode batch. #running-req: 1, #token: 3900, token usage: 0.19, cuda graph: False, gen throughput (token/s): 110.44, #queue-req: 0\n"
     ]
    },
    {
     "name": "stdout",
     "output_type": "stream",
     "text": [
      "[2025-06-15 00:04:16] Decode batch. #running-req: 1, #token: 3940, token usage: 0.19, cuda graph: False, gen throughput (token/s): 110.64, #queue-req: 0\n"
     ]
    },
    {
     "name": "stdout",
     "output_type": "stream",
     "text": [
      "[2025-06-15 00:04:16] Decode batch. #running-req: 1, #token: 3980, token usage: 0.19, cuda graph: False, gen throughput (token/s): 109.13, #queue-req: 0\n"
     ]
    },
    {
     "name": "stdout",
     "output_type": "stream",
     "text": [
      "[2025-06-15 00:04:16] Decode batch. #running-req: 1, #token: 4020, token usage: 0.20, cuda graph: False, gen throughput (token/s): 109.33, #queue-req: 0\n"
     ]
    },
    {
     "name": "stdout",
     "output_type": "stream",
     "text": [
      "[2025-06-15 00:04:17] Decode batch. #running-req: 1, #token: 4060, token usage: 0.20, cuda graph: False, gen throughput (token/s): 109.28, #queue-req: 0\n"
     ]
    },
    {
     "name": "stdout",
     "output_type": "stream",
     "text": [
      "[2025-06-15 00:04:17] Decode batch. #running-req: 1, #token: 4100, token usage: 0.20, cuda graph: False, gen throughput (token/s): 109.40, #queue-req: 0\n"
     ]
    },
    {
     "name": "stdout",
     "output_type": "stream",
     "text": [
      "[2025-06-15 00:04:17] Decode batch. #running-req: 1, #token: 4140, token usage: 0.20, cuda graph: False, gen throughput (token/s): 108.73, #queue-req: 0\n"
     ]
    },
    {
     "name": "stdout",
     "output_type": "stream",
     "text": [
      "[2025-06-15 00:04:18] Decode batch. #running-req: 1, #token: 4180, token usage: 0.20, cuda graph: False, gen throughput (token/s): 106.85, #queue-req: 0\n"
     ]
    },
    {
     "name": "stdout",
     "output_type": "stream",
     "text": [
      "[2025-06-15 00:04:18] Decode batch. #running-req: 1, #token: 4220, token usage: 0.21, cuda graph: False, gen throughput (token/s): 107.50, #queue-req: 0\n"
     ]
    },
    {
     "name": "stdout",
     "output_type": "stream",
     "text": [
      "[2025-06-15 00:04:19] Decode batch. #running-req: 1, #token: 4260, token usage: 0.21, cuda graph: False, gen throughput (token/s): 105.54, #queue-req: 0\n"
     ]
    },
    {
     "name": "stdout",
     "output_type": "stream",
     "text": [
      "[2025-06-15 00:04:19] Decode batch. #running-req: 1, #token: 4300, token usage: 0.21, cuda graph: False, gen throughput (token/s): 109.64, #queue-req: 0\n"
     ]
    },
    {
     "name": "stdout",
     "output_type": "stream",
     "text": [
      "[2025-06-15 00:04:19] Decode batch. #running-req: 1, #token: 4340, token usage: 0.21, cuda graph: False, gen throughput (token/s): 110.23, #queue-req: 0\n"
     ]
    },
    {
     "name": "stdout",
     "output_type": "stream",
     "text": [
      "[2025-06-15 00:04:20] Decode batch. #running-req: 1, #token: 4380, token usage: 0.21, cuda graph: False, gen throughput (token/s): 105.07, #queue-req: 0\n"
     ]
    },
    {
     "name": "stdout",
     "output_type": "stream",
     "text": [
      "[2025-06-15 00:04:20] Decode batch. #running-req: 1, #token: 4420, token usage: 0.22, cuda graph: False, gen throughput (token/s): 109.31, #queue-req: 0\n"
     ]
    },
    {
     "name": "stdout",
     "output_type": "stream",
     "text": [
      "[2025-06-15 00:04:20] Decode batch. #running-req: 1, #token: 4460, token usage: 0.22, cuda graph: False, gen throughput (token/s): 109.90, #queue-req: 0\n"
     ]
    },
    {
     "name": "stdout",
     "output_type": "stream",
     "text": [
      "[2025-06-15 00:04:21] Decode batch. #running-req: 1, #token: 4500, token usage: 0.22, cuda graph: False, gen throughput (token/s): 109.17, #queue-req: 0\n"
     ]
    },
    {
     "name": "stdout",
     "output_type": "stream",
     "text": [
      "[2025-06-15 00:04:21] Decode batch. #running-req: 1, #token: 4540, token usage: 0.22, cuda graph: False, gen throughput (token/s): 108.14, #queue-req: 0\n"
     ]
    },
    {
     "name": "stdout",
     "output_type": "stream",
     "text": [
      "[2025-06-15 00:04:22] Decode batch. #running-req: 1, #token: 4580, token usage: 0.22, cuda graph: False, gen throughput (token/s): 109.12, #queue-req: 0\n"
     ]
    },
    {
     "name": "stdout",
     "output_type": "stream",
     "text": [
      "[2025-06-15 00:04:22] Decode batch. #running-req: 1, #token: 4620, token usage: 0.23, cuda graph: False, gen throughput (token/s): 109.33, #queue-req: 0\n"
     ]
    },
    {
     "name": "stdout",
     "output_type": "stream",
     "text": [
      "[2025-06-15 00:04:22] Decode batch. #running-req: 1, #token: 4660, token usage: 0.23, cuda graph: False, gen throughput (token/s): 110.14, #queue-req: 0\n"
     ]
    },
    {
     "name": "stdout",
     "output_type": "stream",
     "text": [
      "[2025-06-15 00:04:23] Decode batch. #running-req: 1, #token: 4700, token usage: 0.23, cuda graph: False, gen throughput (token/s): 111.07, #queue-req: 0\n"
     ]
    },
    {
     "name": "stdout",
     "output_type": "stream",
     "text": [
      "[2025-06-15 00:04:23] Decode batch. #running-req: 1, #token: 4740, token usage: 0.23, cuda graph: False, gen throughput (token/s): 109.76, #queue-req: 0\n"
     ]
    },
    {
     "name": "stdout",
     "output_type": "stream",
     "text": [
      "[2025-06-15 00:04:23] Decode batch. #running-req: 1, #token: 4780, token usage: 0.23, cuda graph: False, gen throughput (token/s): 110.11, #queue-req: 0\n"
     ]
    },
    {
     "name": "stdout",
     "output_type": "stream",
     "text": [
      "[2025-06-15 00:04:24] Decode batch. #running-req: 1, #token: 4820, token usage: 0.24, cuda graph: False, gen throughput (token/s): 109.68, #queue-req: 0\n"
     ]
    },
    {
     "name": "stdout",
     "output_type": "stream",
     "text": [
      "[2025-06-15 00:04:24] Decode batch. #running-req: 1, #token: 4860, token usage: 0.24, cuda graph: False, gen throughput (token/s): 109.82, #queue-req: 0\n"
     ]
    },
    {
     "name": "stdout",
     "output_type": "stream",
     "text": [
      "[2025-06-15 00:04:24] Decode batch. #running-req: 1, #token: 4900, token usage: 0.24, cuda graph: False, gen throughput (token/s): 109.30, #queue-req: 0\n"
     ]
    },
    {
     "name": "stdout",
     "output_type": "stream",
     "text": [
      "[2025-06-15 00:04:25] Decode batch. #running-req: 1, #token: 4940, token usage: 0.24, cuda graph: False, gen throughput (token/s): 108.68, #queue-req: 0\n"
     ]
    },
    {
     "name": "stdout",
     "output_type": "stream",
     "text": [
      "[2025-06-15 00:04:25] Decode batch. #running-req: 1, #token: 4980, token usage: 0.24, cuda graph: False, gen throughput (token/s): 106.19, #queue-req: 0\n"
     ]
    },
    {
     "name": "stdout",
     "output_type": "stream",
     "text": [
      "[2025-06-15 00:04:26] Decode batch. #running-req: 1, #token: 5020, token usage: 0.25, cuda graph: False, gen throughput (token/s): 105.27, #queue-req: 0\n"
     ]
    },
    {
     "name": "stdout",
     "output_type": "stream",
     "text": [
      "[2025-06-15 00:04:26] Decode batch. #running-req: 1, #token: 5060, token usage: 0.25, cuda graph: False, gen throughput (token/s): 107.82, #queue-req: 0\n"
     ]
    },
    {
     "name": "stdout",
     "output_type": "stream",
     "text": [
      "[2025-06-15 00:04:26] Decode batch. #running-req: 1, #token: 5100, token usage: 0.25, cuda graph: False, gen throughput (token/s): 105.74, #queue-req: 0\n"
     ]
    },
    {
     "name": "stdout",
     "output_type": "stream",
     "text": [
      "[2025-06-15 00:04:27] Decode batch. #running-req: 1, #token: 5140, token usage: 0.25, cuda graph: False, gen throughput (token/s): 105.92, #queue-req: 0\n"
     ]
    },
    {
     "name": "stdout",
     "output_type": "stream",
     "text": [
      "[2025-06-15 00:04:27] Decode batch. #running-req: 1, #token: 5180, token usage: 0.25, cuda graph: False, gen throughput (token/s): 107.89, #queue-req: 0\n"
     ]
    },
    {
     "name": "stdout",
     "output_type": "stream",
     "text": [
      "[2025-06-15 00:04:27] Decode batch. #running-req: 1, #token: 5220, token usage: 0.25, cuda graph: False, gen throughput (token/s): 107.64, #queue-req: 0\n"
     ]
    },
    {
     "name": "stdout",
     "output_type": "stream",
     "text": [
      "[2025-06-15 00:04:28] Decode batch. #running-req: 1, #token: 5260, token usage: 0.26, cuda graph: False, gen throughput (token/s): 100.63, #queue-req: 0\n"
     ]
    },
    {
     "name": "stdout",
     "output_type": "stream",
     "text": [
      "[2025-06-15 00:04:28] Decode batch. #running-req: 1, #token: 5300, token usage: 0.26, cuda graph: False, gen throughput (token/s): 107.35, #queue-req: 0\n"
     ]
    },
    {
     "name": "stdout",
     "output_type": "stream",
     "text": [
      "[2025-06-15 00:04:29] Decode batch. #running-req: 1, #token: 5340, token usage: 0.26, cuda graph: False, gen throughput (token/s): 106.47, #queue-req: 0\n"
     ]
    },
    {
     "name": "stdout",
     "output_type": "stream",
     "text": [
      "[2025-06-15 00:04:29] Decode batch. #running-req: 1, #token: 5380, token usage: 0.26, cuda graph: False, gen throughput (token/s): 107.28, #queue-req: 0\n"
     ]
    },
    {
     "name": "stdout",
     "output_type": "stream",
     "text": [
      "[2025-06-15 00:04:29] Decode batch. #running-req: 1, #token: 5420, token usage: 0.26, cuda graph: False, gen throughput (token/s): 106.79, #queue-req: 0\n"
     ]
    },
    {
     "name": "stdout",
     "output_type": "stream",
     "text": [
      "[2025-06-15 00:04:30] Decode batch. #running-req: 1, #token: 5460, token usage: 0.27, cuda graph: False, gen throughput (token/s): 106.26, #queue-req: 0\n"
     ]
    },
    {
     "name": "stdout",
     "output_type": "stream",
     "text": [
      "[2025-06-15 00:04:30] Decode batch. #running-req: 1, #token: 5500, token usage: 0.27, cuda graph: False, gen throughput (token/s): 107.64, #queue-req: 0\n"
     ]
    },
    {
     "name": "stdout",
     "output_type": "stream",
     "text": [
      "[2025-06-15 00:04:30] Decode batch. #running-req: 1, #token: 5540, token usage: 0.27, cuda graph: False, gen throughput (token/s): 110.73, #queue-req: 0\n"
     ]
    },
    {
     "name": "stdout",
     "output_type": "stream",
     "text": [
      "[2025-06-15 00:04:31] Decode batch. #running-req: 1, #token: 5580, token usage: 0.27, cuda graph: False, gen throughput (token/s): 110.51, #queue-req: 0\n"
     ]
    },
    {
     "name": "stdout",
     "output_type": "stream",
     "text": [
      "[2025-06-15 00:04:31] Decode batch. #running-req: 1, #token: 5620, token usage: 0.27, cuda graph: False, gen throughput (token/s): 107.94, #queue-req: 0\n"
     ]
    },
    {
     "name": "stdout",
     "output_type": "stream",
     "text": [
      "[2025-06-15 00:04:32] Decode batch. #running-req: 1, #token: 5660, token usage: 0.28, cuda graph: False, gen throughput (token/s): 109.54, #queue-req: 0\n"
     ]
    },
    {
     "name": "stdout",
     "output_type": "stream",
     "text": [
      "[2025-06-15 00:04:32] Decode batch. #running-req: 1, #token: 5700, token usage: 0.28, cuda graph: False, gen throughput (token/s): 109.77, #queue-req: 0\n"
     ]
    },
    {
     "name": "stdout",
     "output_type": "stream",
     "text": [
      "[2025-06-15 00:04:32] Decode batch. #running-req: 1, #token: 5740, token usage: 0.28, cuda graph: False, gen throughput (token/s): 110.63, #queue-req: 0\n"
     ]
    },
    {
     "name": "stdout",
     "output_type": "stream",
     "text": [
      "[2025-06-15 00:04:33] Decode batch. #running-req: 1, #token: 5780, token usage: 0.28, cuda graph: False, gen throughput (token/s): 111.15, #queue-req: 0\n"
     ]
    },
    {
     "name": "stdout",
     "output_type": "stream",
     "text": [
      "[2025-06-15 00:04:33] Decode batch. #running-req: 1, #token: 5820, token usage: 0.28, cuda graph: False, gen throughput (token/s): 110.00, #queue-req: 0\n"
     ]
    },
    {
     "name": "stdout",
     "output_type": "stream",
     "text": [
      "[2025-06-15 00:04:33] Decode batch. #running-req: 1, #token: 5860, token usage: 0.29, cuda graph: False, gen throughput (token/s): 103.99, #queue-req: 0\n"
     ]
    },
    {
     "name": "stdout",
     "output_type": "stream",
     "text": [
      "[2025-06-15 00:04:34] Decode batch. #running-req: 1, #token: 5900, token usage: 0.29, cuda graph: False, gen throughput (token/s): 87.38, #queue-req: 0\n"
     ]
    },
    {
     "name": "stdout",
     "output_type": "stream",
     "text": [
      "[2025-06-15 00:04:34] Decode batch. #running-req: 1, #token: 5940, token usage: 0.29, cuda graph: False, gen throughput (token/s): 88.56, #queue-req: 0\n"
     ]
    },
    {
     "name": "stdout",
     "output_type": "stream",
     "text": [
      "[2025-06-15 00:04:35] Decode batch. #running-req: 1, #token: 5980, token usage: 0.29, cuda graph: False, gen throughput (token/s): 97.87, #queue-req: 0\n"
     ]
    },
    {
     "name": "stdout",
     "output_type": "stream",
     "text": [
      "[2025-06-15 00:04:35] Decode batch. #running-req: 1, #token: 6020, token usage: 0.29, cuda graph: False, gen throughput (token/s): 107.79, #queue-req: 0\n"
     ]
    },
    {
     "name": "stdout",
     "output_type": "stream",
     "text": [
      "[2025-06-15 00:04:35] Decode batch. #running-req: 1, #token: 6060, token usage: 0.30, cuda graph: False, gen throughput (token/s): 108.96, #queue-req: 0\n"
     ]
    },
    {
     "name": "stdout",
     "output_type": "stream",
     "text": [
      "[2025-06-15 00:04:36] Decode batch. #running-req: 1, #token: 6100, token usage: 0.30, cuda graph: False, gen throughput (token/s): 108.81, #queue-req: 0\n"
     ]
    },
    {
     "name": "stdout",
     "output_type": "stream",
     "text": [
      "[2025-06-15 00:04:36] Decode batch. #running-req: 1, #token: 6140, token usage: 0.30, cuda graph: False, gen throughput (token/s): 98.74, #queue-req: 0\n"
     ]
    },
    {
     "name": "stdout",
     "output_type": "stream",
     "text": [
      "[2025-06-15 00:04:37] Decode batch. #running-req: 1, #token: 6180, token usage: 0.30, cuda graph: False, gen throughput (token/s): 95.24, #queue-req: 0\n"
     ]
    },
    {
     "name": "stdout",
     "output_type": "stream",
     "text": [
      "[2025-06-15 00:04:37] Decode batch. #running-req: 1, #token: 6220, token usage: 0.30, cuda graph: False, gen throughput (token/s): 99.71, #queue-req: 0\n"
     ]
    },
    {
     "name": "stdout",
     "output_type": "stream",
     "text": [
      "[2025-06-15 00:04:37] Decode batch. #running-req: 1, #token: 6260, token usage: 0.31, cuda graph: False, gen throughput (token/s): 101.45, #queue-req: 0\n"
     ]
    },
    {
     "name": "stdout",
     "output_type": "stream",
     "text": [
      "[2025-06-15 00:04:38] Decode batch. #running-req: 1, #token: 6300, token usage: 0.31, cuda graph: False, gen throughput (token/s): 102.50, #queue-req: 0\n"
     ]
    },
    {
     "name": "stdout",
     "output_type": "stream",
     "text": [
      "[2025-06-15 00:04:38] Decode batch. #running-req: 1, #token: 6340, token usage: 0.31, cuda graph: False, gen throughput (token/s): 104.70, #queue-req: 0\n"
     ]
    },
    {
     "name": "stdout",
     "output_type": "stream",
     "text": [
      "[2025-06-15 00:04:39] Decode batch. #running-req: 1, #token: 6380, token usage: 0.31, cuda graph: False, gen throughput (token/s): 104.70, #queue-req: 0\n"
     ]
    },
    {
     "name": "stdout",
     "output_type": "stream",
     "text": [
      "[2025-06-15 00:04:39] Decode batch. #running-req: 1, #token: 6420, token usage: 0.31, cuda graph: False, gen throughput (token/s): 105.57, #queue-req: 0\n"
     ]
    },
    {
     "name": "stdout",
     "output_type": "stream",
     "text": [
      "[2025-06-15 00:04:39] Decode batch. #running-req: 1, #token: 6460, token usage: 0.32, cuda graph: False, gen throughput (token/s): 89.85, #queue-req: 0\n"
     ]
    },
    {
     "name": "stdout",
     "output_type": "stream",
     "text": [
      "[2025-06-15 00:04:40] Decode batch. #running-req: 1, #token: 6500, token usage: 0.32, cuda graph: False, gen throughput (token/s): 100.41, #queue-req: 0\n"
     ]
    },
    {
     "name": "stdout",
     "output_type": "stream",
     "text": [
      "[2025-06-15 00:04:40] Decode batch. #running-req: 1, #token: 6540, token usage: 0.32, cuda graph: False, gen throughput (token/s): 100.30, #queue-req: 0\n"
     ]
    },
    {
     "name": "stdout",
     "output_type": "stream",
     "text": [
      "[2025-06-15 00:04:41] Decode batch. #running-req: 1, #token: 6580, token usage: 0.32, cuda graph: False, gen throughput (token/s): 99.82, #queue-req: 0\n"
     ]
    },
    {
     "name": "stdout",
     "output_type": "stream",
     "text": [
      "[2025-06-15 00:04:41] Decode batch. #running-req: 1, #token: 6620, token usage: 0.32, cuda graph: False, gen throughput (token/s): 104.37, #queue-req: 0\n"
     ]
    },
    {
     "name": "stdout",
     "output_type": "stream",
     "text": [
      "[2025-06-15 00:04:41] Decode batch. #running-req: 1, #token: 6660, token usage: 0.33, cuda graph: False, gen throughput (token/s): 107.16, #queue-req: 0\n"
     ]
    },
    {
     "name": "stdout",
     "output_type": "stream",
     "text": [
      "[2025-06-15 00:04:42] Decode batch. #running-req: 1, #token: 6700, token usage: 0.33, cuda graph: False, gen throughput (token/s): 108.94, #queue-req: 0\n"
     ]
    },
    {
     "name": "stdout",
     "output_type": "stream",
     "text": [
      "[2025-06-15 00:04:42] Decode batch. #running-req: 1, #token: 6740, token usage: 0.33, cuda graph: False, gen throughput (token/s): 108.52, #queue-req: 0\n"
     ]
    },
    {
     "name": "stdout",
     "output_type": "stream",
     "text": [
      "[2025-06-15 00:04:42] Decode batch. #running-req: 1, #token: 6780, token usage: 0.33, cuda graph: False, gen throughput (token/s): 109.30, #queue-req: 0\n"
     ]
    },
    {
     "name": "stdout",
     "output_type": "stream",
     "text": [
      "[2025-06-15 00:04:43] Decode batch. #running-req: 1, #token: 6820, token usage: 0.33, cuda graph: False, gen throughput (token/s): 108.80, #queue-req: 0\n"
     ]
    },
    {
     "name": "stdout",
     "output_type": "stream",
     "text": [
      "[2025-06-15 00:04:43] Decode batch. #running-req: 1, #token: 6860, token usage: 0.33, cuda graph: False, gen throughput (token/s): 106.31, #queue-req: 0\n"
     ]
    },
    {
     "name": "stdout",
     "output_type": "stream",
     "text": [
      "[2025-06-15 00:04:44] Decode batch. #running-req: 1, #token: 6900, token usage: 0.34, cuda graph: False, gen throughput (token/s): 108.33, #queue-req: 0\n"
     ]
    },
    {
     "name": "stdout",
     "output_type": "stream",
     "text": [
      "[2025-06-15 00:04:44] Decode batch. #running-req: 1, #token: 6940, token usage: 0.34, cuda graph: False, gen throughput (token/s): 108.11, #queue-req: 0\n"
     ]
    },
    {
     "name": "stdout",
     "output_type": "stream",
     "text": [
      "[2025-06-15 00:04:44] Decode batch. #running-req: 1, #token: 6980, token usage: 0.34, cuda graph: False, gen throughput (token/s): 105.38, #queue-req: 0\n"
     ]
    },
    {
     "name": "stdout",
     "output_type": "stream",
     "text": [
      "[2025-06-15 00:04:45] Decode batch. #running-req: 1, #token: 7020, token usage: 0.34, cuda graph: False, gen throughput (token/s): 87.40, #queue-req: 0\n"
     ]
    },
    {
     "name": "stdout",
     "output_type": "stream",
     "text": [
      "[2025-06-15 00:04:45] Decode batch. #running-req: 1, #token: 7060, token usage: 0.34, cuda graph: False, gen throughput (token/s): 87.29, #queue-req: 0\n"
     ]
    },
    {
     "name": "stdout",
     "output_type": "stream",
     "text": [
      "[2025-06-15 00:04:46] Decode batch. #running-req: 1, #token: 7100, token usage: 0.35, cuda graph: False, gen throughput (token/s): 88.17, #queue-req: 0\n"
     ]
    },
    {
     "name": "stdout",
     "output_type": "stream",
     "text": [
      "[2025-06-15 00:04:46] Decode batch. #running-req: 1, #token: 7140, token usage: 0.35, cuda graph: False, gen throughput (token/s): 108.29, #queue-req: 0\n"
     ]
    },
    {
     "name": "stdout",
     "output_type": "stream",
     "text": [
      "[2025-06-15 00:04:46] Decode batch. #running-req: 1, #token: 7180, token usage: 0.35, cuda graph: False, gen throughput (token/s): 110.54, #queue-req: 0\n"
     ]
    },
    {
     "name": "stdout",
     "output_type": "stream",
     "text": [
      "[2025-06-15 00:04:47] Decode batch. #running-req: 1, #token: 7220, token usage: 0.35, cuda graph: False, gen throughput (token/s): 109.68, #queue-req: 0\n"
     ]
    },
    {
     "name": "stdout",
     "output_type": "stream",
     "text": [
      "[2025-06-15 00:04:47] Decode batch. #running-req: 1, #token: 7260, token usage: 0.35, cuda graph: False, gen throughput (token/s): 109.04, #queue-req: 0\n"
     ]
    },
    {
     "name": "stdout",
     "output_type": "stream",
     "text": [
      "[2025-06-15 00:04:48] Decode batch. #running-req: 1, #token: 7300, token usage: 0.36, cuda graph: False, gen throughput (token/s): 110.14, #queue-req: 0\n"
     ]
    },
    {
     "name": "stdout",
     "output_type": "stream",
     "text": [
      "[2025-06-15 00:04:48] Decode batch. #running-req: 1, #token: 7340, token usage: 0.36, cuda graph: False, gen throughput (token/s): 110.38, #queue-req: 0\n"
     ]
    },
    {
     "name": "stdout",
     "output_type": "stream",
     "text": [
      "[2025-06-15 00:04:48] Decode batch. #running-req: 1, #token: 7380, token usage: 0.36, cuda graph: False, gen throughput (token/s): 111.66, #queue-req: 0\n"
     ]
    },
    {
     "name": "stdout",
     "output_type": "stream",
     "text": [
      "[2025-06-15 00:04:49] Decode batch. #running-req: 1, #token: 7420, token usage: 0.36, cuda graph: False, gen throughput (token/s): 110.23, #queue-req: 0\n"
     ]
    },
    {
     "name": "stdout",
     "output_type": "stream",
     "text": [
      "[2025-06-15 00:04:49] Decode batch. #running-req: 1, #token: 7460, token usage: 0.36, cuda graph: False, gen throughput (token/s): 110.18, #queue-req: 0\n"
     ]
    },
    {
     "name": "stdout",
     "output_type": "stream",
     "text": [
      "[2025-06-15 00:04:49] Decode batch. #running-req: 1, #token: 7500, token usage: 0.37, cuda graph: False, gen throughput (token/s): 109.92, #queue-req: 0\n"
     ]
    },
    {
     "name": "stdout",
     "output_type": "stream",
     "text": [
      "[2025-06-15 00:04:50] Decode batch. #running-req: 1, #token: 7540, token usage: 0.37, cuda graph: False, gen throughput (token/s): 109.38, #queue-req: 0\n"
     ]
    },
    {
     "name": "stdout",
     "output_type": "stream",
     "text": [
      "[2025-06-15 00:04:50] Decode batch. #running-req: 1, #token: 7580, token usage: 0.37, cuda graph: False, gen throughput (token/s): 109.54, #queue-req: 0\n"
     ]
    },
    {
     "name": "stdout",
     "output_type": "stream",
     "text": [
      "[2025-06-15 00:04:50] Decode batch. #running-req: 1, #token: 7620, token usage: 0.37, cuda graph: False, gen throughput (token/s): 109.79, #queue-req: 0\n"
     ]
    },
    {
     "name": "stdout",
     "output_type": "stream",
     "text": [
      "[2025-06-15 00:04:51] Decode batch. #running-req: 1, #token: 7660, token usage: 0.37, cuda graph: False, gen throughput (token/s): 109.34, #queue-req: 0\n"
     ]
    },
    {
     "name": "stdout",
     "output_type": "stream",
     "text": [
      "[2025-06-15 00:04:51] Decode batch. #running-req: 1, #token: 7700, token usage: 0.38, cuda graph: False, gen throughput (token/s): 107.96, #queue-req: 0\n"
     ]
    },
    {
     "name": "stdout",
     "output_type": "stream",
     "text": [
      "[2025-06-15 00:04:52] Decode batch. #running-req: 1, #token: 7740, token usage: 0.38, cuda graph: False, gen throughput (token/s): 109.59, #queue-req: 0\n"
     ]
    },
    {
     "name": "stdout",
     "output_type": "stream",
     "text": [
      "[2025-06-15 00:04:52] Decode batch. #running-req: 1, #token: 7780, token usage: 0.38, cuda graph: False, gen throughput (token/s): 109.30, #queue-req: 0\n"
     ]
    },
    {
     "name": "stdout",
     "output_type": "stream",
     "text": [
      "[2025-06-15 00:04:52] Decode batch. #running-req: 1, #token: 7820, token usage: 0.38, cuda graph: False, gen throughput (token/s): 109.83, #queue-req: 0\n"
     ]
    },
    {
     "name": "stdout",
     "output_type": "stream",
     "text": [
      "[2025-06-15 00:04:53] Decode batch. #running-req: 1, #token: 7860, token usage: 0.38, cuda graph: False, gen throughput (token/s): 108.73, #queue-req: 0\n"
     ]
    },
    {
     "name": "stdout",
     "output_type": "stream",
     "text": [
      "[2025-06-15 00:04:53] Decode batch. #running-req: 1, #token: 7900, token usage: 0.39, cuda graph: False, gen throughput (token/s): 109.50, #queue-req: 0\n"
     ]
    },
    {
     "name": "stdout",
     "output_type": "stream",
     "text": [
      "[2025-06-15 00:04:53] Decode batch. #running-req: 1, #token: 7940, token usage: 0.39, cuda graph: False, gen throughput (token/s): 109.52, #queue-req: 0\n"
     ]
    },
    {
     "name": "stdout",
     "output_type": "stream",
     "text": [
      "[2025-06-15 00:04:54] Decode batch. #running-req: 1, #token: 7980, token usage: 0.39, cuda graph: False, gen throughput (token/s): 109.67, #queue-req: 0\n"
     ]
    },
    {
     "name": "stdout",
     "output_type": "stream",
     "text": [
      "[2025-06-15 00:04:54] Decode batch. #running-req: 1, #token: 8020, token usage: 0.39, cuda graph: False, gen throughput (token/s): 108.75, #queue-req: 0\n"
     ]
    },
    {
     "name": "stdout",
     "output_type": "stream",
     "text": [
      "[2025-06-15 00:04:54] Decode batch. #running-req: 1, #token: 8060, token usage: 0.39, cuda graph: False, gen throughput (token/s): 109.42, #queue-req: 0\n"
     ]
    },
    {
     "name": "stdout",
     "output_type": "stream",
     "text": [
      "[2025-06-15 00:04:55] Decode batch. #running-req: 1, #token: 8100, token usage: 0.40, cuda graph: False, gen throughput (token/s): 109.68, #queue-req: 0\n"
     ]
    },
    {
     "name": "stdout",
     "output_type": "stream",
     "text": [
      "[2025-06-15 00:04:55] Decode batch. #running-req: 1, #token: 8140, token usage: 0.40, cuda graph: False, gen throughput (token/s): 109.18, #queue-req: 0\n"
     ]
    },
    {
     "name": "stdout",
     "output_type": "stream",
     "text": [
      "[2025-06-15 00:04:56] Decode batch. #running-req: 1, #token: 8180, token usage: 0.40, cuda graph: False, gen throughput (token/s): 109.41, #queue-req: 0\n"
     ]
    },
    {
     "name": "stdout",
     "output_type": "stream",
     "text": [
      "[2025-06-15 00:04:56] Decode batch. #running-req: 1, #token: 8220, token usage: 0.40, cuda graph: False, gen throughput (token/s): 109.15, #queue-req: 0\n"
     ]
    },
    {
     "name": "stdout",
     "output_type": "stream",
     "text": [
      "[2025-06-15 00:04:56] Decode batch. #running-req: 1, #token: 8260, token usage: 0.40, cuda graph: False, gen throughput (token/s): 109.16, #queue-req: 0\n"
     ]
    },
    {
     "name": "stdout",
     "output_type": "stream",
     "text": [
      "[2025-06-15 00:04:57] Decode batch. #running-req: 1, #token: 8300, token usage: 0.41, cuda graph: False, gen throughput (token/s): 106.81, #queue-req: 0\n"
     ]
    },
    {
     "name": "stdout",
     "output_type": "stream",
     "text": [
      "[2025-06-15 00:04:57] Decode batch. #running-req: 1, #token: 8340, token usage: 0.41, cuda graph: False, gen throughput (token/s): 106.08, #queue-req: 0\n"
     ]
    },
    {
     "name": "stdout",
     "output_type": "stream",
     "text": [
      "[2025-06-15 00:04:57] Decode batch. #running-req: 1, #token: 8380, token usage: 0.41, cuda graph: False, gen throughput (token/s): 108.94, #queue-req: 0\n"
     ]
    },
    {
     "name": "stdout",
     "output_type": "stream",
     "text": [
      "[2025-06-15 00:04:58] Decode batch. #running-req: 1, #token: 8420, token usage: 0.41, cuda graph: False, gen throughput (token/s): 109.61, #queue-req: 0\n"
     ]
    },
    {
     "name": "stdout",
     "output_type": "stream",
     "text": [
      "[2025-06-15 00:04:58] Decode batch. #running-req: 1, #token: 8460, token usage: 0.41, cuda graph: False, gen throughput (token/s): 109.34, #queue-req: 0\n"
     ]
    },
    {
     "name": "stdout",
     "output_type": "stream",
     "text": [
      "[2025-06-15 00:04:59] Decode batch. #running-req: 1, #token: 8500, token usage: 0.42, cuda graph: False, gen throughput (token/s): 109.20, #queue-req: 0\n"
     ]
    },
    {
     "name": "stdout",
     "output_type": "stream",
     "text": [
      "[2025-06-15 00:04:59] Decode batch. #running-req: 1, #token: 8540, token usage: 0.42, cuda graph: False, gen throughput (token/s): 105.71, #queue-req: 0\n"
     ]
    },
    {
     "name": "stdout",
     "output_type": "stream",
     "text": [
      "[2025-06-15 00:04:59] Decode batch. #running-req: 1, #token: 8580, token usage: 0.42, cuda graph: False, gen throughput (token/s): 108.48, #queue-req: 0\n"
     ]
    },
    {
     "name": "stdout",
     "output_type": "stream",
     "text": [
      "[2025-06-15 00:05:00] Decode batch. #running-req: 1, #token: 8620, token usage: 0.42, cuda graph: False, gen throughput (token/s): 109.33, #queue-req: 0\n"
     ]
    },
    {
     "name": "stdout",
     "output_type": "stream",
     "text": [
      "[2025-06-15 00:05:00] Decode batch. #running-req: 1, #token: 8660, token usage: 0.42, cuda graph: False, gen throughput (token/s): 109.19, #queue-req: 0\n"
     ]
    },
    {
     "name": "stdout",
     "output_type": "stream",
     "text": [
      "[2025-06-15 00:05:00] Decode batch. #running-req: 1, #token: 8700, token usage: 0.42, cuda graph: False, gen throughput (token/s): 108.87, #queue-req: 0\n"
     ]
    },
    {
     "name": "stdout",
     "output_type": "stream",
     "text": [
      "[2025-06-15 00:05:01] Decode batch. #running-req: 1, #token: 8740, token usage: 0.43, cuda graph: False, gen throughput (token/s): 107.99, #queue-req: 0\n"
     ]
    },
    {
     "name": "stdout",
     "output_type": "stream",
     "text": [
      "[2025-06-15 00:05:01] Decode batch. #running-req: 1, #token: 8780, token usage: 0.43, cuda graph: False, gen throughput (token/s): 109.38, #queue-req: 0\n"
     ]
    },
    {
     "name": "stdout",
     "output_type": "stream",
     "text": [
      "[2025-06-15 00:05:01] Decode batch. #running-req: 1, #token: 8820, token usage: 0.43, cuda graph: False, gen throughput (token/s): 108.37, #queue-req: 0\n"
     ]
    },
    {
     "name": "stdout",
     "output_type": "stream",
     "text": [
      "[2025-06-15 00:05:02] Decode batch. #running-req: 1, #token: 8860, token usage: 0.43, cuda graph: False, gen throughput (token/s): 109.34, #queue-req: 0\n"
     ]
    },
    {
     "name": "stdout",
     "output_type": "stream",
     "text": [
      "[2025-06-15 00:05:02] Decode batch. #running-req: 1, #token: 8900, token usage: 0.43, cuda graph: False, gen throughput (token/s): 109.27, #queue-req: 0\n"
     ]
    },
    {
     "name": "stdout",
     "output_type": "stream",
     "text": [
      "[2025-06-15 00:05:03] Decode batch. #running-req: 1, #token: 8940, token usage: 0.44, cuda graph: False, gen throughput (token/s): 109.21, #queue-req: 0\n"
     ]
    },
    {
     "name": "stdout",
     "output_type": "stream",
     "text": [
      "[2025-06-15 00:05:03] Decode batch. #running-req: 1, #token: 8980, token usage: 0.44, cuda graph: False, gen throughput (token/s): 109.54, #queue-req: 0\n"
     ]
    },
    {
     "name": "stdout",
     "output_type": "stream",
     "text": [
      "[2025-06-15 00:05:03] Decode batch. #running-req: 1, #token: 9020, token usage: 0.44, cuda graph: False, gen throughput (token/s): 109.29, #queue-req: 0\n"
     ]
    },
    {
     "name": "stdout",
     "output_type": "stream",
     "text": [
      "[2025-06-15 00:05:04] Decode batch. #running-req: 1, #token: 9060, token usage: 0.44, cuda graph: False, gen throughput (token/s): 108.21, #queue-req: 0\n"
     ]
    },
    {
     "name": "stdout",
     "output_type": "stream",
     "text": [
      "[2025-06-15 00:05:04] Decode batch. #running-req: 1, #token: 9100, token usage: 0.44, cuda graph: False, gen throughput (token/s): 109.40, #queue-req: 0\n"
     ]
    },
    {
     "name": "stdout",
     "output_type": "stream",
     "text": [
      "[2025-06-15 00:05:04] Decode batch. #running-req: 1, #token: 9140, token usage: 0.45, cuda graph: False, gen throughput (token/s): 106.90, #queue-req: 0\n"
     ]
    },
    {
     "name": "stdout",
     "output_type": "stream",
     "text": [
      "[2025-06-15 00:05:05] Decode batch. #running-req: 1, #token: 9180, token usage: 0.45, cuda graph: False, gen throughput (token/s): 105.55, #queue-req: 0\n"
     ]
    },
    {
     "name": "stdout",
     "output_type": "stream",
     "text": [
      "[2025-06-15 00:05:05] Decode batch. #running-req: 1, #token: 9220, token usage: 0.45, cuda graph: False, gen throughput (token/s): 109.01, #queue-req: 0\n"
     ]
    },
    {
     "name": "stdout",
     "output_type": "stream",
     "text": [
      "[2025-06-15 00:05:06] Decode batch. #running-req: 1, #token: 9260, token usage: 0.45, cuda graph: False, gen throughput (token/s): 109.42, #queue-req: 0\n"
     ]
    },
    {
     "name": "stdout",
     "output_type": "stream",
     "text": [
      "[2025-06-15 00:05:06] Decode batch. #running-req: 1, #token: 9300, token usage: 0.45, cuda graph: False, gen throughput (token/s): 108.95, #queue-req: 0\n"
     ]
    },
    {
     "name": "stdout",
     "output_type": "stream",
     "text": [
      "[2025-06-15 00:05:06] Decode batch. #running-req: 1, #token: 9340, token usage: 0.46, cuda graph: False, gen throughput (token/s): 109.39, #queue-req: 0\n"
     ]
    },
    {
     "name": "stdout",
     "output_type": "stream",
     "text": [
      "[2025-06-15 00:05:07] Decode batch. #running-req: 1, #token: 9380, token usage: 0.46, cuda graph: False, gen throughput (token/s): 109.22, #queue-req: 0\n"
     ]
    },
    {
     "name": "stdout",
     "output_type": "stream",
     "text": [
      "[2025-06-15 00:05:07] Decode batch. #running-req: 1, #token: 9420, token usage: 0.46, cuda graph: False, gen throughput (token/s): 109.48, #queue-req: 0\n"
     ]
    },
    {
     "name": "stdout",
     "output_type": "stream",
     "text": [
      "[2025-06-15 00:05:07] Decode batch. #running-req: 1, #token: 9460, token usage: 0.46, cuda graph: False, gen throughput (token/s): 108.51, #queue-req: 0\n"
     ]
    },
    {
     "name": "stdout",
     "output_type": "stream",
     "text": [
      "[2025-06-15 00:05:08] Decode batch. #running-req: 1, #token: 9500, token usage: 0.46, cuda graph: False, gen throughput (token/s): 109.77, #queue-req: 0\n"
     ]
    },
    {
     "name": "stdout",
     "output_type": "stream",
     "text": [
      "[2025-06-15 00:05:08] Decode batch. #running-req: 1, #token: 9540, token usage: 0.47, cuda graph: False, gen throughput (token/s): 110.05, #queue-req: 0\n"
     ]
    },
    {
     "name": "stdout",
     "output_type": "stream",
     "text": [
      "[2025-06-15 00:05:08] Decode batch. #running-req: 1, #token: 9580, token usage: 0.47, cuda graph: False, gen throughput (token/s): 109.86, #queue-req: 0\n"
     ]
    },
    {
     "name": "stdout",
     "output_type": "stream",
     "text": [
      "[2025-06-15 00:05:09] Decode batch. #running-req: 1, #token: 9620, token usage: 0.47, cuda graph: False, gen throughput (token/s): 109.25, #queue-req: 0\n"
     ]
    },
    {
     "name": "stdout",
     "output_type": "stream",
     "text": [
      "[2025-06-15 00:05:09] Decode batch. #running-req: 1, #token: 9660, token usage: 0.47, cuda graph: False, gen throughput (token/s): 108.80, #queue-req: 0\n"
     ]
    },
    {
     "name": "stdout",
     "output_type": "stream",
     "text": [
      "[2025-06-15 00:05:10] Decode batch. #running-req: 1, #token: 9700, token usage: 0.47, cuda graph: False, gen throughput (token/s): 108.70, #queue-req: 0\n"
     ]
    },
    {
     "name": "stdout",
     "output_type": "stream",
     "text": [
      "[2025-06-15 00:05:10] Decode batch. #running-req: 1, #token: 9740, token usage: 0.48, cuda graph: False, gen throughput (token/s): 108.66, #queue-req: 0\n"
     ]
    },
    {
     "name": "stdout",
     "output_type": "stream",
     "text": [
      "[2025-06-15 00:05:10] Decode batch. #running-req: 1, #token: 9780, token usage: 0.48, cuda graph: False, gen throughput (token/s): 109.22, #queue-req: 0\n"
     ]
    },
    {
     "name": "stdout",
     "output_type": "stream",
     "text": [
      "[2025-06-15 00:05:11] Decode batch. #running-req: 1, #token: 9820, token usage: 0.48, cuda graph: False, gen throughput (token/s): 108.57, #queue-req: 0\n"
     ]
    },
    {
     "name": "stdout",
     "output_type": "stream",
     "text": [
      "[2025-06-15 00:05:11] Decode batch. #running-req: 1, #token: 9860, token usage: 0.48, cuda graph: False, gen throughput (token/s): 108.67, #queue-req: 0\n"
     ]
    },
    {
     "name": "stdout",
     "output_type": "stream",
     "text": [
      "[2025-06-15 00:05:11] Decode batch. #running-req: 1, #token: 9900, token usage: 0.48, cuda graph: False, gen throughput (token/s): 108.07, #queue-req: 0\n"
     ]
    },
    {
     "name": "stdout",
     "output_type": "stream",
     "text": [
      "[2025-06-15 00:05:12] Decode batch. #running-req: 1, #token: 9940, token usage: 0.49, cuda graph: False, gen throughput (token/s): 109.92, #queue-req: 0\n"
     ]
    },
    {
     "name": "stdout",
     "output_type": "stream",
     "text": [
      "[2025-06-15 00:05:12] Decode batch. #running-req: 1, #token: 9980, token usage: 0.49, cuda graph: False, gen throughput (token/s): 110.90, #queue-req: 0\n"
     ]
    },
    {
     "name": "stdout",
     "output_type": "stream",
     "text": [
      "[2025-06-15 00:05:12] Decode batch. #running-req: 1, #token: 10020, token usage: 0.49, cuda graph: False, gen throughput (token/s): 110.89, #queue-req: 0\n"
     ]
    },
    {
     "name": "stdout",
     "output_type": "stream",
     "text": [
      "[2025-06-15 00:05:13] Decode batch. #running-req: 1, #token: 10060, token usage: 0.49, cuda graph: False, gen throughput (token/s): 107.62, #queue-req: 0\n"
     ]
    },
    {
     "name": "stdout",
     "output_type": "stream",
     "text": [
      "[2025-06-15 00:05:13] Decode batch. #running-req: 1, #token: 10100, token usage: 0.49, cuda graph: False, gen throughput (token/s): 107.32, #queue-req: 0\n"
     ]
    },
    {
     "name": "stdout",
     "output_type": "stream",
     "text": [
      "[2025-06-15 00:05:14] Decode batch. #running-req: 1, #token: 10140, token usage: 0.50, cuda graph: False, gen throughput (token/s): 108.66, #queue-req: 0\n"
     ]
    },
    {
     "name": "stdout",
     "output_type": "stream",
     "text": [
      "[2025-06-15 00:05:14] Decode batch. #running-req: 1, #token: 10180, token usage: 0.50, cuda graph: False, gen throughput (token/s): 107.78, #queue-req: 0\n"
     ]
    },
    {
     "name": "stdout",
     "output_type": "stream",
     "text": [
      "[2025-06-15 00:05:14] Decode batch. #running-req: 1, #token: 10220, token usage: 0.50, cuda graph: False, gen throughput (token/s): 108.79, #queue-req: 0\n"
     ]
    },
    {
     "name": "stdout",
     "output_type": "stream",
     "text": [
      "[2025-06-15 00:05:15] Decode batch. #running-req: 1, #token: 10260, token usage: 0.50, cuda graph: False, gen throughput (token/s): 109.44, #queue-req: 0\n"
     ]
    },
    {
     "name": "stdout",
     "output_type": "stream",
     "text": [
      "[2025-06-15 00:05:15] Decode batch. #running-req: 1, #token: 10300, token usage: 0.50, cuda graph: False, gen throughput (token/s): 109.32, #queue-req: 0\n"
     ]
    },
    {
     "name": "stdout",
     "output_type": "stream",
     "text": [
      "[2025-06-15 00:05:15] Decode batch. #running-req: 1, #token: 10340, token usage: 0.50, cuda graph: False, gen throughput (token/s): 109.08, #queue-req: 0\n"
     ]
    },
    {
     "name": "stdout",
     "output_type": "stream",
     "text": [
      "[2025-06-15 00:05:16] Decode batch. #running-req: 1, #token: 10380, token usage: 0.51, cuda graph: False, gen throughput (token/s): 109.12, #queue-req: 0\n"
     ]
    },
    {
     "name": "stdout",
     "output_type": "stream",
     "text": [
      "[2025-06-15 00:05:16] Decode batch. #running-req: 1, #token: 10420, token usage: 0.51, cuda graph: False, gen throughput (token/s): 106.89, #queue-req: 0\n"
     ]
    },
    {
     "name": "stdout",
     "output_type": "stream",
     "text": [
      "[2025-06-15 00:05:17] Decode batch. #running-req: 1, #token: 10460, token usage: 0.51, cuda graph: False, gen throughput (token/s): 109.27, #queue-req: 0\n"
     ]
    },
    {
     "name": "stdout",
     "output_type": "stream",
     "text": [
      "[2025-06-15 00:05:17] Decode batch. #running-req: 1, #token: 10500, token usage: 0.51, cuda graph: False, gen throughput (token/s): 109.07, #queue-req: 0\n"
     ]
    },
    {
     "name": "stdout",
     "output_type": "stream",
     "text": [
      "[2025-06-15 00:05:17] Decode batch. #running-req: 1, #token: 10540, token usage: 0.51, cuda graph: False, gen throughput (token/s): 109.71, #queue-req: 0\n"
     ]
    },
    {
     "name": "stdout",
     "output_type": "stream",
     "text": [
      "[2025-06-15 00:05:18] Decode batch. #running-req: 1, #token: 10580, token usage: 0.52, cuda graph: False, gen throughput (token/s): 109.59, #queue-req: 0\n"
     ]
    },
    {
     "name": "stdout",
     "output_type": "stream",
     "text": [
      "[2025-06-15 00:05:18] Decode batch. #running-req: 1, #token: 10620, token usage: 0.52, cuda graph: False, gen throughput (token/s): 109.10, #queue-req: 0\n"
     ]
    },
    {
     "name": "stdout",
     "output_type": "stream",
     "text": [
      "[2025-06-15 00:05:18] Decode batch. #running-req: 1, #token: 10660, token usage: 0.52, cuda graph: False, gen throughput (token/s): 109.08, #queue-req: 0\n"
     ]
    },
    {
     "name": "stdout",
     "output_type": "stream",
     "text": [
      "[2025-06-15 00:05:19] Decode batch. #running-req: 1, #token: 10700, token usage: 0.52, cuda graph: False, gen throughput (token/s): 104.16, #queue-req: 0\n"
     ]
    },
    {
     "name": "stdout",
     "output_type": "stream",
     "text": [
      "[2025-06-15 00:05:19] Decode batch. #running-req: 1, #token: 10740, token usage: 0.52, cuda graph: False, gen throughput (token/s): 108.14, #queue-req: 0\n"
     ]
    },
    {
     "name": "stdout",
     "output_type": "stream",
     "text": [
      "[2025-06-15 00:05:20] Decode batch. #running-req: 1, #token: 10780, token usage: 0.53, cuda graph: False, gen throughput (token/s): 90.63, #queue-req: 0\n"
     ]
    },
    {
     "name": "stdout",
     "output_type": "stream",
     "text": [
      "[2025-06-15 00:05:20] Decode batch. #running-req: 1, #token: 10820, token usage: 0.53, cuda graph: False, gen throughput (token/s): 108.06, #queue-req: 0\n"
     ]
    },
    {
     "name": "stdout",
     "output_type": "stream",
     "text": [
      "[2025-06-15 00:05:20] Decode batch. #running-req: 1, #token: 10860, token usage: 0.53, cuda graph: False, gen throughput (token/s): 101.72, #queue-req: 0\n"
     ]
    },
    {
     "name": "stdout",
     "output_type": "stream",
     "text": [
      "[2025-06-15 00:05:21] Decode batch. #running-req: 1, #token: 10900, token usage: 0.53, cuda graph: False, gen throughput (token/s): 108.55, #queue-req: 0\n"
     ]
    },
    {
     "name": "stdout",
     "output_type": "stream",
     "text": [
      "[2025-06-15 00:05:21] Decode batch. #running-req: 1, #token: 10940, token usage: 0.53, cuda graph: False, gen throughput (token/s): 109.02, #queue-req: 0\n"
     ]
    },
    {
     "name": "stdout",
     "output_type": "stream",
     "text": [
      "[2025-06-15 00:05:21] Decode batch. #running-req: 1, #token: 10980, token usage: 0.54, cuda graph: False, gen throughput (token/s): 108.07, #queue-req: 0\n"
     ]
    },
    {
     "name": "stdout",
     "output_type": "stream",
     "text": [
      "[2025-06-15 00:05:22] Decode batch. #running-req: 1, #token: 11020, token usage: 0.54, cuda graph: False, gen throughput (token/s): 108.06, #queue-req: 0\n"
     ]
    },
    {
     "name": "stdout",
     "output_type": "stream",
     "text": [
      "[2025-06-15 00:05:22] Decode batch. #running-req: 1, #token: 11060, token usage: 0.54, cuda graph: False, gen throughput (token/s): 108.61, #queue-req: 0\n"
     ]
    },
    {
     "name": "stdout",
     "output_type": "stream",
     "text": [
      "[2025-06-15 00:05:23] Decode batch. #running-req: 1, #token: 11100, token usage: 0.54, cuda graph: False, gen throughput (token/s): 97.45, #queue-req: 0\n"
     ]
    },
    {
     "name": "stdout",
     "output_type": "stream",
     "text": [
      "[2025-06-15 00:05:23] Decode batch. #running-req: 1, #token: 11140, token usage: 0.54, cuda graph: False, gen throughput (token/s): 68.74, #queue-req: 0\n"
     ]
    },
    {
     "name": "stdout",
     "output_type": "stream",
     "text": [
      "[2025-06-15 00:05:24] Decode batch. #running-req: 1, #token: 11180, token usage: 0.55, cuda graph: False, gen throughput (token/s): 67.60, #queue-req: 0\n"
     ]
    },
    {
     "name": "stdout",
     "output_type": "stream",
     "text": [
      "[2025-06-15 00:05:24] Decode batch. #running-req: 1, #token: 11220, token usage: 0.55, cuda graph: False, gen throughput (token/s): 79.73, #queue-req: 0\n"
     ]
    },
    {
     "name": "stdout",
     "output_type": "stream",
     "text": [
      "[2025-06-15 00:05:25] Decode batch. #running-req: 1, #token: 11260, token usage: 0.55, cuda graph: False, gen throughput (token/s): 69.05, #queue-req: 0\n"
     ]
    },
    {
     "name": "stdout",
     "output_type": "stream",
     "text": [
      "[2025-06-15 00:05:25] Decode batch. #running-req: 1, #token: 11300, token usage: 0.55, cuda graph: False, gen throughput (token/s): 66.20, #queue-req: 0\n"
     ]
    },
    {
     "name": "stdout",
     "output_type": "stream",
     "text": [
      "[2025-06-15 00:05:26] Decode batch. #running-req: 1, #token: 11340, token usage: 0.55, cuda graph: False, gen throughput (token/s): 66.17, #queue-req: 0\n"
     ]
    },
    {
     "name": "stdout",
     "output_type": "stream",
     "text": [
      "[2025-06-15 00:05:27] Decode batch. #running-req: 1, #token: 11380, token usage: 0.56, cuda graph: False, gen throughput (token/s): 67.99, #queue-req: 0\n"
     ]
    },
    {
     "name": "stdout",
     "output_type": "stream",
     "text": [
      "[2025-06-15 00:05:27] Decode batch. #running-req: 1, #token: 11420, token usage: 0.56, cuda graph: False, gen throughput (token/s): 67.87, #queue-req: 0\n"
     ]
    },
    {
     "name": "stdout",
     "output_type": "stream",
     "text": [
      "[2025-06-15 00:05:28] Decode batch. #running-req: 1, #token: 11460, token usage: 0.56, cuda graph: False, gen throughput (token/s): 66.55, #queue-req: 0\n"
     ]
    },
    {
     "name": "stdout",
     "output_type": "stream",
     "text": [
      "[2025-06-15 00:05:28] Decode batch. #running-req: 1, #token: 11500, token usage: 0.56, cuda graph: False, gen throughput (token/s): 66.20, #queue-req: 0\n"
     ]
    },
    {
     "name": "stdout",
     "output_type": "stream",
     "text": [
      "[2025-06-15 00:05:29] Decode batch. #running-req: 1, #token: 11540, token usage: 0.56, cuda graph: False, gen throughput (token/s): 89.94, #queue-req: 0\n"
     ]
    },
    {
     "name": "stdout",
     "output_type": "stream",
     "text": [
      "[2025-06-15 00:05:29] Decode batch. #running-req: 1, #token: 11580, token usage: 0.57, cuda graph: False, gen throughput (token/s): 107.87, #queue-req: 0\n"
     ]
    },
    {
     "name": "stdout",
     "output_type": "stream",
     "text": [
      "[2025-06-15 00:05:30] Decode batch. #running-req: 1, #token: 11620, token usage: 0.57, cuda graph: False, gen throughput (token/s): 109.58, #queue-req: 0\n"
     ]
    },
    {
     "name": "stdout",
     "output_type": "stream",
     "text": [
      "[2025-06-15 00:05:30] Decode batch. #running-req: 1, #token: 11660, token usage: 0.57, cuda graph: False, gen throughput (token/s): 90.12, #queue-req: 0\n"
     ]
    },
    {
     "name": "stdout",
     "output_type": "stream",
     "text": [
      "[2025-06-15 00:05:30] Decode batch. #running-req: 1, #token: 11700, token usage: 0.57, cuda graph: False, gen throughput (token/s): 107.51, #queue-req: 0\n"
     ]
    },
    {
     "name": "stdout",
     "output_type": "stream",
     "text": [
      "[2025-06-15 00:05:31] Decode batch. #running-req: 1, #token: 11740, token usage: 0.57, cuda graph: False, gen throughput (token/s): 75.09, #queue-req: 0\n"
     ]
    },
    {
     "name": "stdout",
     "output_type": "stream",
     "text": [
      "[2025-06-15 00:05:32] Decode batch. #running-req: 1, #token: 11780, token usage: 0.58, cuda graph: False, gen throughput (token/s): 66.78, #queue-req: 0\n"
     ]
    },
    {
     "name": "stdout",
     "output_type": "stream",
     "text": [
      "[2025-06-15 00:05:32] Decode batch. #running-req: 1, #token: 11820, token usage: 0.58, cuda graph: False, gen throughput (token/s): 66.74, #queue-req: 0\n"
     ]
    },
    {
     "name": "stdout",
     "output_type": "stream",
     "text": [
      "[2025-06-15 00:05:33] Decode batch. #running-req: 1, #token: 11860, token usage: 0.58, cuda graph: False, gen throughput (token/s): 70.33, #queue-req: 0\n"
     ]
    },
    {
     "name": "stdout",
     "output_type": "stream",
     "text": [
      "[2025-06-15 00:05:33] Decode batch. #running-req: 1, #token: 11900, token usage: 0.58, cuda graph: False, gen throughput (token/s): 105.27, #queue-req: 0\n"
     ]
    },
    {
     "name": "stdout",
     "output_type": "stream",
     "text": [
      "[2025-06-15 00:05:33] Decode batch. #running-req: 1, #token: 11940, token usage: 0.58, cuda graph: False, gen throughput (token/s): 109.78, #queue-req: 0\n"
     ]
    },
    {
     "name": "stdout",
     "output_type": "stream",
     "text": [
      "[2025-06-15 00:05:34] Decode batch. #running-req: 1, #token: 11980, token usage: 0.58, cuda graph: False, gen throughput (token/s): 110.64, #queue-req: 0\n"
     ]
    },
    {
     "name": "stdout",
     "output_type": "stream",
     "text": [
      "[2025-06-15 00:05:34] Decode batch. #running-req: 1, #token: 12020, token usage: 0.59, cuda graph: False, gen throughput (token/s): 110.38, #queue-req: 0\n"
     ]
    },
    {
     "name": "stdout",
     "output_type": "stream",
     "text": [
      "[2025-06-15 00:05:35] Decode batch. #running-req: 1, #token: 12060, token usage: 0.59, cuda graph: False, gen throughput (token/s): 110.08, #queue-req: 0\n"
     ]
    },
    {
     "name": "stdout",
     "output_type": "stream",
     "text": [
      "[2025-06-15 00:05:35] Decode batch. #running-req: 1, #token: 12100, token usage: 0.59, cuda graph: False, gen throughput (token/s): 109.93, #queue-req: 0\n"
     ]
    },
    {
     "name": "stdout",
     "output_type": "stream",
     "text": [
      "[2025-06-15 00:05:35] Decode batch. #running-req: 1, #token: 12140, token usage: 0.59, cuda graph: False, gen throughput (token/s): 109.29, #queue-req: 0\n"
     ]
    },
    {
     "name": "stdout",
     "output_type": "stream",
     "text": [
      "[2025-06-15 00:05:36] Decode batch. #running-req: 1, #token: 12180, token usage: 0.59, cuda graph: False, gen throughput (token/s): 109.84, #queue-req: 0\n"
     ]
    },
    {
     "name": "stdout",
     "output_type": "stream",
     "text": [
      "[2025-06-15 00:05:36] Decode batch. #running-req: 1, #token: 12220, token usage: 0.60, cuda graph: False, gen throughput (token/s): 109.15, #queue-req: 0\n"
     ]
    },
    {
     "name": "stdout",
     "output_type": "stream",
     "text": [
      "[2025-06-15 00:05:36] Decode batch. #running-req: 1, #token: 12260, token usage: 0.60, cuda graph: False, gen throughput (token/s): 109.39, #queue-req: 0\n"
     ]
    },
    {
     "name": "stdout",
     "output_type": "stream",
     "text": [
      "[2025-06-15 00:05:37] Decode batch. #running-req: 1, #token: 12300, token usage: 0.60, cuda graph: False, gen throughput (token/s): 109.88, #queue-req: 0\n"
     ]
    },
    {
     "name": "stdout",
     "output_type": "stream",
     "text": [
      "[2025-06-15 00:05:37] Decode batch. #running-req: 1, #token: 12340, token usage: 0.60, cuda graph: False, gen throughput (token/s): 109.73, #queue-req: 0\n"
     ]
    },
    {
     "name": "stdout",
     "output_type": "stream",
     "text": [
      "[2025-06-15 00:05:37] Decode batch. #running-req: 1, #token: 12380, token usage: 0.60, cuda graph: False, gen throughput (token/s): 109.35, #queue-req: 0\n"
     ]
    },
    {
     "name": "stdout",
     "output_type": "stream",
     "text": [
      "[2025-06-15 00:05:38] Decode batch. #running-req: 1, #token: 12420, token usage: 0.61, cuda graph: False, gen throughput (token/s): 109.57, #queue-req: 0\n"
     ]
    },
    {
     "name": "stdout",
     "output_type": "stream",
     "text": [
      "[2025-06-15 00:05:38] Decode batch. #running-req: 1, #token: 12460, token usage: 0.61, cuda graph: False, gen throughput (token/s): 109.79, #queue-req: 0\n"
     ]
    },
    {
     "name": "stdout",
     "output_type": "stream",
     "text": [
      "[2025-06-15 00:05:39] Decode batch. #running-req: 1, #token: 12500, token usage: 0.61, cuda graph: False, gen throughput (token/s): 109.68, #queue-req: 0\n"
     ]
    },
    {
     "name": "stdout",
     "output_type": "stream",
     "text": [
      "[2025-06-15 00:05:39] Decode batch. #running-req: 1, #token: 12540, token usage: 0.61, cuda graph: False, gen throughput (token/s): 110.30, #queue-req: 0\n"
     ]
    },
    {
     "name": "stdout",
     "output_type": "stream",
     "text": [
      "[2025-06-15 00:05:39] Decode batch. #running-req: 1, #token: 12580, token usage: 0.61, cuda graph: False, gen throughput (token/s): 108.13, #queue-req: 0\n"
     ]
    },
    {
     "name": "stdout",
     "output_type": "stream",
     "text": [
      "[2025-06-15 00:05:40] Decode batch. #running-req: 1, #token: 12620, token usage: 0.62, cuda graph: False, gen throughput (token/s): 110.26, #queue-req: 0\n"
     ]
    },
    {
     "name": "stdout",
     "output_type": "stream",
     "text": [
      "[2025-06-15 00:05:40] Decode batch. #running-req: 1, #token: 12660, token usage: 0.62, cuda graph: False, gen throughput (token/s): 110.03, #queue-req: 0\n"
     ]
    },
    {
     "name": "stdout",
     "output_type": "stream",
     "text": [
      "[2025-06-15 00:05:40] Decode batch. #running-req: 1, #token: 12700, token usage: 0.62, cuda graph: False, gen throughput (token/s): 109.87, #queue-req: 0\n"
     ]
    },
    {
     "name": "stdout",
     "output_type": "stream",
     "text": [
      "[2025-06-15 00:05:41] Decode batch. #running-req: 1, #token: 12740, token usage: 0.62, cuda graph: False, gen throughput (token/s): 105.20, #queue-req: 0\n"
     ]
    },
    {
     "name": "stdout",
     "output_type": "stream",
     "text": [
      "[2025-06-15 00:05:41] Decode batch. #running-req: 1, #token: 12780, token usage: 0.62, cuda graph: False, gen throughput (token/s): 108.89, #queue-req: 0\n"
     ]
    },
    {
     "name": "stdout",
     "output_type": "stream",
     "text": [
      "[2025-06-15 00:05:42] Decode batch. #running-req: 1, #token: 12820, token usage: 0.63, cuda graph: False, gen throughput (token/s): 103.75, #queue-req: 0\n"
     ]
    },
    {
     "name": "stdout",
     "output_type": "stream",
     "text": [
      "[2025-06-15 00:05:42] Decode batch. #running-req: 1, #token: 12860, token usage: 0.63, cuda graph: False, gen throughput (token/s): 109.18, #queue-req: 0\n"
     ]
    },
    {
     "name": "stdout",
     "output_type": "stream",
     "text": [
      "[2025-06-15 00:05:42] Decode batch. #running-req: 1, #token: 12900, token usage: 0.63, cuda graph: False, gen throughput (token/s): 109.30, #queue-req: 0\n"
     ]
    },
    {
     "name": "stdout",
     "output_type": "stream",
     "text": [
      "[2025-06-15 00:05:43] Decode batch. #running-req: 1, #token: 12940, token usage: 0.63, cuda graph: False, gen throughput (token/s): 105.44, #queue-req: 0\n"
     ]
    },
    {
     "name": "stdout",
     "output_type": "stream",
     "text": [
      "[2025-06-15 00:05:43] Decode batch. #running-req: 1, #token: 12980, token usage: 0.63, cuda graph: False, gen throughput (token/s): 108.00, #queue-req: 0\n"
     ]
    },
    {
     "name": "stdout",
     "output_type": "stream",
     "text": [
      "[2025-06-15 00:05:43] Decode batch. #running-req: 1, #token: 13020, token usage: 0.64, cuda graph: False, gen throughput (token/s): 109.23, #queue-req: 0\n"
     ]
    },
    {
     "name": "stdout",
     "output_type": "stream",
     "text": [
      "[2025-06-15 00:05:44] Decode batch. #running-req: 1, #token: 13060, token usage: 0.64, cuda graph: False, gen throughput (token/s): 109.68, #queue-req: 0\n"
     ]
    },
    {
     "name": "stdout",
     "output_type": "stream",
     "text": [
      "[2025-06-15 00:05:44] Decode batch. #running-req: 1, #token: 13100, token usage: 0.64, cuda graph: False, gen throughput (token/s): 109.92, #queue-req: 0\n"
     ]
    },
    {
     "name": "stdout",
     "output_type": "stream",
     "text": [
      "[2025-06-15 00:05:44] Decode batch. #running-req: 1, #token: 13140, token usage: 0.64, cuda graph: False, gen throughput (token/s): 109.27, #queue-req: 0\n"
     ]
    },
    {
     "name": "stdout",
     "output_type": "stream",
     "text": [
      "[2025-06-15 00:05:45] Decode batch. #running-req: 1, #token: 13180, token usage: 0.64, cuda graph: False, gen throughput (token/s): 109.34, #queue-req: 0\n"
     ]
    },
    {
     "name": "stdout",
     "output_type": "stream",
     "text": [
      "[2025-06-15 00:05:45] Decode batch. #running-req: 1, #token: 13220, token usage: 0.65, cuda graph: False, gen throughput (token/s): 109.05, #queue-req: 0\n"
     ]
    },
    {
     "name": "stdout",
     "output_type": "stream",
     "text": [
      "[2025-06-15 00:05:46] Decode batch. #running-req: 1, #token: 13260, token usage: 0.65, cuda graph: False, gen throughput (token/s): 105.76, #queue-req: 0\n"
     ]
    },
    {
     "name": "stdout",
     "output_type": "stream",
     "text": [
      "[2025-06-15 00:05:46] Decode batch. #running-req: 1, #token: 13300, token usage: 0.65, cuda graph: False, gen throughput (token/s): 108.22, #queue-req: 0\n"
     ]
    },
    {
     "name": "stdout",
     "output_type": "stream",
     "text": [
      "[2025-06-15 00:05:46] Decode batch. #running-req: 1, #token: 13340, token usage: 0.65, cuda graph: False, gen throughput (token/s): 107.15, #queue-req: 0\n"
     ]
    },
    {
     "name": "stdout",
     "output_type": "stream",
     "text": [
      "[2025-06-15 00:05:47] Decode batch. #running-req: 1, #token: 13380, token usage: 0.65, cuda graph: False, gen throughput (token/s): 109.13, #queue-req: 0\n"
     ]
    },
    {
     "name": "stdout",
     "output_type": "stream",
     "text": [
      "[2025-06-15 00:05:47] Decode batch. #running-req: 1, #token: 13420, token usage: 0.66, cuda graph: False, gen throughput (token/s): 107.92, #queue-req: 0\n"
     ]
    },
    {
     "name": "stdout",
     "output_type": "stream",
     "text": [
      "[2025-06-15 00:05:47] Decode batch. #running-req: 1, #token: 13460, token usage: 0.66, cuda graph: False, gen throughput (token/s): 108.13, #queue-req: 0\n"
     ]
    },
    {
     "name": "stdout",
     "output_type": "stream",
     "text": [
      "[2025-06-15 00:05:48] Decode batch. #running-req: 1, #token: 13500, token usage: 0.66, cuda graph: False, gen throughput (token/s): 109.36, #queue-req: 0\n"
     ]
    },
    {
     "name": "stdout",
     "output_type": "stream",
     "text": [
      "[2025-06-15 00:05:48] Decode batch. #running-req: 1, #token: 13540, token usage: 0.66, cuda graph: False, gen throughput (token/s): 109.61, #queue-req: 0\n"
     ]
    },
    {
     "name": "stdout",
     "output_type": "stream",
     "text": [
      "[2025-06-15 00:05:49] Decode batch. #running-req: 1, #token: 13580, token usage: 0.66, cuda graph: False, gen throughput (token/s): 109.40, #queue-req: 0\n"
     ]
    },
    {
     "name": "stdout",
     "output_type": "stream",
     "text": [
      "[2025-06-15 00:05:49] Decode batch. #running-req: 1, #token: 13620, token usage: 0.67, cuda graph: False, gen throughput (token/s): 97.80, #queue-req: 0\n"
     ]
    },
    {
     "name": "stdout",
     "output_type": "stream",
     "text": [
      "[2025-06-15 00:05:49] Decode batch. #running-req: 1, #token: 13660, token usage: 0.67, cuda graph: False, gen throughput (token/s): 108.77, #queue-req: 0\n"
     ]
    },
    {
     "name": "stdout",
     "output_type": "stream",
     "text": [
      "[2025-06-15 00:05:50] Decode batch. #running-req: 1, #token: 13700, token usage: 0.67, cuda graph: False, gen throughput (token/s): 108.79, #queue-req: 0\n"
     ]
    },
    {
     "name": "stdout",
     "output_type": "stream",
     "text": [
      "[2025-06-15 00:05:50] Decode batch. #running-req: 1, #token: 13740, token usage: 0.67, cuda graph: False, gen throughput (token/s): 109.75, #queue-req: 0\n"
     ]
    },
    {
     "name": "stdout",
     "output_type": "stream",
     "text": [
      "[2025-06-15 00:05:50] Decode batch. #running-req: 1, #token: 13780, token usage: 0.67, cuda graph: False, gen throughput (token/s): 108.63, #queue-req: 0\n"
     ]
    },
    {
     "name": "stdout",
     "output_type": "stream",
     "text": [
      "[2025-06-15 00:05:51] Decode batch. #running-req: 1, #token: 13820, token usage: 0.67, cuda graph: False, gen throughput (token/s): 108.01, #queue-req: 0\n"
     ]
    },
    {
     "name": "stdout",
     "output_type": "stream",
     "text": [
      "[2025-06-15 00:05:51] Decode batch. #running-req: 1, #token: 13860, token usage: 0.68, cuda graph: False, gen throughput (token/s): 108.09, #queue-req: 0\n"
     ]
    },
    {
     "name": "stdout",
     "output_type": "stream",
     "text": [
      "[2025-06-15 00:05:51] Decode batch. #running-req: 1, #token: 13900, token usage: 0.68, cuda graph: False, gen throughput (token/s): 108.80, #queue-req: 0\n"
     ]
    },
    {
     "name": "stdout",
     "output_type": "stream",
     "text": [
      "[2025-06-15 00:05:52] Decode batch. #running-req: 1, #token: 13940, token usage: 0.68, cuda graph: False, gen throughput (token/s): 110.89, #queue-req: 0\n"
     ]
    },
    {
     "name": "stdout",
     "output_type": "stream",
     "text": [
      "[2025-06-15 00:05:52] Decode batch. #running-req: 1, #token: 13980, token usage: 0.68, cuda graph: False, gen throughput (token/s): 110.90, #queue-req: 0\n"
     ]
    },
    {
     "name": "stdout",
     "output_type": "stream",
     "text": [
      "[2025-06-15 00:05:53] Decode batch. #running-req: 1, #token: 14020, token usage: 0.68, cuda graph: False, gen throughput (token/s): 110.32, #queue-req: 0\n"
     ]
    },
    {
     "name": "stdout",
     "output_type": "stream",
     "text": [
      "[2025-06-15 00:05:53] Decode batch. #running-req: 1, #token: 14060, token usage: 0.69, cuda graph: False, gen throughput (token/s): 110.03, #queue-req: 0\n"
     ]
    },
    {
     "name": "stdout",
     "output_type": "stream",
     "text": [
      "[2025-06-15 00:05:53] Decode batch. #running-req: 1, #token: 14100, token usage: 0.69, cuda graph: False, gen throughput (token/s): 110.01, #queue-req: 0\n"
     ]
    },
    {
     "name": "stdout",
     "output_type": "stream",
     "text": [
      "[2025-06-15 00:05:54] Decode batch. #running-req: 1, #token: 14140, token usage: 0.69, cuda graph: False, gen throughput (token/s): 111.25, #queue-req: 0\n"
     ]
    },
    {
     "name": "stdout",
     "output_type": "stream",
     "text": [
      "[2025-06-15 00:05:54] Decode batch. #running-req: 1, #token: 14180, token usage: 0.69, cuda graph: False, gen throughput (token/s): 110.85, #queue-req: 0\n"
     ]
    },
    {
     "name": "stdout",
     "output_type": "stream",
     "text": [
      "[2025-06-15 00:05:54] Decode batch. #running-req: 1, #token: 14220, token usage: 0.69, cuda graph: False, gen throughput (token/s): 110.18, #queue-req: 0\n"
     ]
    },
    {
     "name": "stdout",
     "output_type": "stream",
     "text": [
      "[2025-06-15 00:05:55] Decode batch. #running-req: 1, #token: 14260, token usage: 0.70, cuda graph: False, gen throughput (token/s): 110.87, #queue-req: 0\n"
     ]
    },
    {
     "name": "stdout",
     "output_type": "stream",
     "text": [
      "[2025-06-15 00:05:55] Decode batch. #running-req: 1, #token: 14300, token usage: 0.70, cuda graph: False, gen throughput (token/s): 111.74, #queue-req: 0\n"
     ]
    },
    {
     "name": "stdout",
     "output_type": "stream",
     "text": [
      "[2025-06-15 00:05:55] Decode batch. #running-req: 1, #token: 14340, token usage: 0.70, cuda graph: False, gen throughput (token/s): 111.66, #queue-req: 0\n"
     ]
    },
    {
     "name": "stdout",
     "output_type": "stream",
     "text": [
      "[2025-06-15 00:05:56] Decode batch. #running-req: 1, #token: 14380, token usage: 0.70, cuda graph: False, gen throughput (token/s): 111.16, #queue-req: 0\n"
     ]
    },
    {
     "name": "stdout",
     "output_type": "stream",
     "text": [
      "[2025-06-15 00:05:56] Decode batch. #running-req: 1, #token: 14420, token usage: 0.70, cuda graph: False, gen throughput (token/s): 110.01, #queue-req: 0\n"
     ]
    },
    {
     "name": "stdout",
     "output_type": "stream",
     "text": [
      "[2025-06-15 00:05:57] Decode batch. #running-req: 1, #token: 14460, token usage: 0.71, cuda graph: False, gen throughput (token/s): 110.06, #queue-req: 0\n"
     ]
    },
    {
     "name": "stdout",
     "output_type": "stream",
     "text": [
      "[2025-06-15 00:05:57] Decode batch. #running-req: 1, #token: 14500, token usage: 0.71, cuda graph: False, gen throughput (token/s): 110.42, #queue-req: 0\n"
     ]
    },
    {
     "name": "stdout",
     "output_type": "stream",
     "text": [
      "[2025-06-15 00:05:57] Decode batch. #running-req: 1, #token: 14540, token usage: 0.71, cuda graph: False, gen throughput (token/s): 110.16, #queue-req: 0\n"
     ]
    },
    {
     "name": "stdout",
     "output_type": "stream",
     "text": [
      "[2025-06-15 00:05:58] Decode batch. #running-req: 1, #token: 14580, token usage: 0.71, cuda graph: False, gen throughput (token/s): 110.13, #queue-req: 0\n"
     ]
    },
    {
     "name": "stdout",
     "output_type": "stream",
     "text": [
      "[2025-06-15 00:05:58] Decode batch. #running-req: 1, #token: 14620, token usage: 0.71, cuda graph: False, gen throughput (token/s): 110.19, #queue-req: 0\n"
     ]
    },
    {
     "name": "stdout",
     "output_type": "stream",
     "text": [
      "[2025-06-15 00:05:58] Decode batch. #running-req: 1, #token: 14660, token usage: 0.72, cuda graph: False, gen throughput (token/s): 110.51, #queue-req: 0\n"
     ]
    },
    {
     "name": "stdout",
     "output_type": "stream",
     "text": [
      "[2025-06-15 00:05:59] Decode batch. #running-req: 1, #token: 14700, token usage: 0.72, cuda graph: False, gen throughput (token/s): 109.67, #queue-req: 0\n"
     ]
    },
    {
     "name": "stdout",
     "output_type": "stream",
     "text": [
      "[2025-06-15 00:05:59] Decode batch. #running-req: 1, #token: 14740, token usage: 0.72, cuda graph: False, gen throughput (token/s): 107.93, #queue-req: 0\n"
     ]
    },
    {
     "name": "stdout",
     "output_type": "stream",
     "text": [
      "[2025-06-15 00:05:59] Decode batch. #running-req: 1, #token: 14780, token usage: 0.72, cuda graph: False, gen throughput (token/s): 105.73, #queue-req: 0\n"
     ]
    },
    {
     "name": "stdout",
     "output_type": "stream",
     "text": [
      "[2025-06-15 00:06:00] Decode batch. #running-req: 1, #token: 14820, token usage: 0.72, cuda graph: False, gen throughput (token/s): 105.80, #queue-req: 0\n"
     ]
    },
    {
     "name": "stdout",
     "output_type": "stream",
     "text": [
      "[2025-06-15 00:06:00] Decode batch. #running-req: 1, #token: 14860, token usage: 0.73, cuda graph: False, gen throughput (token/s): 104.88, #queue-req: 0\n"
     ]
    },
    {
     "name": "stdout",
     "output_type": "stream",
     "text": [
      "[2025-06-15 00:06:01] Decode batch. #running-req: 1, #token: 14900, token usage: 0.73, cuda graph: False, gen throughput (token/s): 95.39, #queue-req: 0\n"
     ]
    },
    {
     "name": "stdout",
     "output_type": "stream",
     "text": [
      "[2025-06-15 00:06:01] Decode batch. #running-req: 1, #token: 14940, token usage: 0.73, cuda graph: False, gen throughput (token/s): 105.42, #queue-req: 0\n"
     ]
    },
    {
     "name": "stdout",
     "output_type": "stream",
     "text": [
      "[2025-06-15 00:06:01] Decode batch. #running-req: 1, #token: 14980, token usage: 0.73, cuda graph: False, gen throughput (token/s): 105.00, #queue-req: 0\n"
     ]
    },
    {
     "name": "stdout",
     "output_type": "stream",
     "text": [
      "[2025-06-15 00:06:02] Decode batch. #running-req: 1, #token: 15020, token usage: 0.73, cuda graph: False, gen throughput (token/s): 105.28, #queue-req: 0\n"
     ]
    },
    {
     "name": "stdout",
     "output_type": "stream",
     "text": [
      "[2025-06-15 00:06:02] Decode batch. #running-req: 1, #token: 15060, token usage: 0.74, cuda graph: False, gen throughput (token/s): 102.67, #queue-req: 0\n"
     ]
    },
    {
     "name": "stdout",
     "output_type": "stream",
     "text": [
      "[2025-06-15 00:06:03] Decode batch. #running-req: 1, #token: 15100, token usage: 0.74, cuda graph: False, gen throughput (token/s): 106.12, #queue-req: 0\n"
     ]
    },
    {
     "name": "stdout",
     "output_type": "stream",
     "text": [
      "[2025-06-15 00:06:03] Decode batch. #running-req: 1, #token: 15140, token usage: 0.74, cuda graph: False, gen throughput (token/s): 107.72, #queue-req: 0\n"
     ]
    },
    {
     "name": "stdout",
     "output_type": "stream",
     "text": [
      "[2025-06-15 00:06:03] Decode batch. #running-req: 1, #token: 15180, token usage: 0.74, cuda graph: False, gen throughput (token/s): 105.68, #queue-req: 0\n"
     ]
    },
    {
     "name": "stdout",
     "output_type": "stream",
     "text": [
      "[2025-06-15 00:06:04] Decode batch. #running-req: 1, #token: 15220, token usage: 0.74, cuda graph: False, gen throughput (token/s): 106.01, #queue-req: 0\n"
     ]
    },
    {
     "name": "stdout",
     "output_type": "stream",
     "text": [
      "[2025-06-15 00:06:04] Decode batch. #running-req: 1, #token: 15260, token usage: 0.75, cuda graph: False, gen throughput (token/s): 109.31, #queue-req: 0\n"
     ]
    },
    {
     "name": "stdout",
     "output_type": "stream",
     "text": [
      "[2025-06-15 00:06:04] Decode batch. #running-req: 1, #token: 15300, token usage: 0.75, cuda graph: False, gen throughput (token/s): 104.52, #queue-req: 0\n"
     ]
    },
    {
     "name": "stdout",
     "output_type": "stream",
     "text": [
      "[2025-06-15 00:06:05] Decode batch. #running-req: 1, #token: 15340, token usage: 0.75, cuda graph: False, gen throughput (token/s): 105.85, #queue-req: 0\n"
     ]
    },
    {
     "name": "stdout",
     "output_type": "stream",
     "text": [
      "[2025-06-15 00:06:05] Decode batch. #running-req: 1, #token: 15380, token usage: 0.75, cuda graph: False, gen throughput (token/s): 106.79, #queue-req: 0\n"
     ]
    },
    {
     "name": "stdout",
     "output_type": "stream",
     "text": [
      "[2025-06-15 00:06:06] Decode batch. #running-req: 1, #token: 15420, token usage: 0.75, cuda graph: False, gen throughput (token/s): 80.80, #queue-req: 0\n"
     ]
    },
    {
     "name": "stdout",
     "output_type": "stream",
     "text": [
      "[2025-06-15 00:06:06] Decode batch. #running-req: 1, #token: 15460, token usage: 0.75, cuda graph: False, gen throughput (token/s): 79.50, #queue-req: 0\n"
     ]
    },
    {
     "name": "stdout",
     "output_type": "stream",
     "text": [
      "[2025-06-15 00:06:07] Decode batch. #running-req: 1, #token: 15500, token usage: 0.76, cuda graph: False, gen throughput (token/s): 79.36, #queue-req: 0\n"
     ]
    },
    {
     "name": "stdout",
     "output_type": "stream",
     "text": [
      "[2025-06-15 00:06:07] Decode batch. #running-req: 1, #token: 15540, token usage: 0.76, cuda graph: False, gen throughput (token/s): 83.37, #queue-req: 0\n"
     ]
    },
    {
     "name": "stdout",
     "output_type": "stream",
     "text": [
      "[2025-06-15 00:06:08] Decode batch. #running-req: 1, #token: 15580, token usage: 0.76, cuda graph: False, gen throughput (token/s): 109.35, #queue-req: 0\n"
     ]
    },
    {
     "name": "stdout",
     "output_type": "stream",
     "text": [
      "[2025-06-15 00:06:08] Decode batch. #running-req: 1, #token: 15620, token usage: 0.76, cuda graph: False, gen throughput (token/s): 108.53, #queue-req: 0\n"
     ]
    },
    {
     "name": "stdout",
     "output_type": "stream",
     "text": [
      "[2025-06-15 00:06:08] Decode batch. #running-req: 1, #token: 15660, token usage: 0.76, cuda graph: False, gen throughput (token/s): 110.45, #queue-req: 0\n"
     ]
    },
    {
     "name": "stdout",
     "output_type": "stream",
     "text": [
      "[2025-06-15 00:06:09] Decode batch. #running-req: 1, #token: 15700, token usage: 0.77, cuda graph: False, gen throughput (token/s): 110.46, #queue-req: 0\n"
     ]
    },
    {
     "name": "stdout",
     "output_type": "stream",
     "text": [
      "[2025-06-15 00:06:09] Decode batch. #running-req: 1, #token: 15740, token usage: 0.77, cuda graph: False, gen throughput (token/s): 110.31, #queue-req: 0\n"
     ]
    },
    {
     "name": "stdout",
     "output_type": "stream",
     "text": [
      "[2025-06-15 00:06:09] Decode batch. #running-req: 1, #token: 15780, token usage: 0.77, cuda graph: False, gen throughput (token/s): 110.08, #queue-req: 0\n"
     ]
    },
    {
     "name": "stdout",
     "output_type": "stream",
     "text": [
      "[2025-06-15 00:06:10] Decode batch. #running-req: 1, #token: 15820, token usage: 0.77, cuda graph: False, gen throughput (token/s): 110.12, #queue-req: 0\n"
     ]
    },
    {
     "name": "stdout",
     "output_type": "stream",
     "text": [
      "[2025-06-15 00:06:10] Decode batch. #running-req: 1, #token: 15860, token usage: 0.77, cuda graph: False, gen throughput (token/s): 110.17, #queue-req: 0\n"
     ]
    },
    {
     "name": "stdout",
     "output_type": "stream",
     "text": [
      "[2025-06-15 00:06:10] Decode batch. #running-req: 1, #token: 15900, token usage: 0.78, cuda graph: False, gen throughput (token/s): 110.06, #queue-req: 0\n"
     ]
    },
    {
     "name": "stdout",
     "output_type": "stream",
     "text": [
      "[2025-06-15 00:06:11] Decode batch. #running-req: 1, #token: 15940, token usage: 0.78, cuda graph: False, gen throughput (token/s): 109.25, #queue-req: 0\n"
     ]
    },
    {
     "name": "stdout",
     "output_type": "stream",
     "text": [
      "[2025-06-15 00:06:11] Decode batch. #running-req: 1, #token: 15980, token usage: 0.78, cuda graph: False, gen throughput (token/s): 109.71, #queue-req: 0\n"
     ]
    },
    {
     "name": "stdout",
     "output_type": "stream",
     "text": [
      "[2025-06-15 00:06:12] Decode batch. #running-req: 1, #token: 16020, token usage: 0.78, cuda graph: False, gen throughput (token/s): 109.18, #queue-req: 0\n"
     ]
    },
    {
     "name": "stdout",
     "output_type": "stream",
     "text": [
      "[2025-06-15 00:06:12] Decode batch. #running-req: 1, #token: 16060, token usage: 0.78, cuda graph: False, gen throughput (token/s): 109.42, #queue-req: 0\n"
     ]
    },
    {
     "name": "stdout",
     "output_type": "stream",
     "text": [
      "[2025-06-15 00:06:12] Decode batch. #running-req: 1, #token: 16100, token usage: 0.79, cuda graph: False, gen throughput (token/s): 109.56, #queue-req: 0\n"
     ]
    },
    {
     "name": "stdout",
     "output_type": "stream",
     "text": [
      "[2025-06-15 00:06:13] Decode batch. #running-req: 1, #token: 16140, token usage: 0.79, cuda graph: False, gen throughput (token/s): 109.24, #queue-req: 0\n"
     ]
    },
    {
     "name": "stdout",
     "output_type": "stream",
     "text": [
      "[2025-06-15 00:06:13] Decode batch. #running-req: 1, #token: 16180, token usage: 0.79, cuda graph: False, gen throughput (token/s): 109.23, #queue-req: 0\n"
     ]
    },
    {
     "name": "stdout",
     "output_type": "stream",
     "text": [
      "[2025-06-15 00:06:13] Decode batch. #running-req: 1, #token: 16220, token usage: 0.79, cuda graph: False, gen throughput (token/s): 109.37, #queue-req: 0\n"
     ]
    },
    {
     "name": "stdout",
     "output_type": "stream",
     "text": [
      "[2025-06-15 00:06:14] Decode batch. #running-req: 1, #token: 16260, token usage: 0.79, cuda graph: False, gen throughput (token/s): 108.41, #queue-req: 0\n"
     ]
    },
    {
     "name": "stdout",
     "output_type": "stream",
     "text": [
      "[2025-06-15 00:06:14] Decode batch. #running-req: 1, #token: 16300, token usage: 0.80, cuda graph: False, gen throughput (token/s): 108.73, #queue-req: 0\n"
     ]
    },
    {
     "name": "stdout",
     "output_type": "stream",
     "text": [
      "[2025-06-15 00:06:14] Decode batch. #running-req: 1, #token: 16340, token usage: 0.80, cuda graph: False, gen throughput (token/s): 109.20, #queue-req: 0\n"
     ]
    },
    {
     "name": "stdout",
     "output_type": "stream",
     "text": [
      "[2025-06-15 00:06:15] Decode batch. #running-req: 1, #token: 16380, token usage: 0.80, cuda graph: False, gen throughput (token/s): 109.24, #queue-req: 0\n"
     ]
    },
    {
     "name": "stdout",
     "output_type": "stream",
     "text": [
      "[2025-06-15 00:06:15] Decode batch. #running-req: 1, #token: 16420, token usage: 0.80, cuda graph: False, gen throughput (token/s): 107.94, #queue-req: 0\n"
     ]
    },
    {
     "name": "stdout",
     "output_type": "stream",
     "text": [
      "[2025-06-15 00:06:16] Decode batch. #running-req: 1, #token: 16460, token usage: 0.80, cuda graph: False, gen throughput (token/s): 108.80, #queue-req: 0\n"
     ]
    },
    {
     "name": "stdout",
     "output_type": "stream",
     "text": [
      "[2025-06-15 00:06:16] Decode batch. #running-req: 1, #token: 16500, token usage: 0.81, cuda graph: False, gen throughput (token/s): 108.17, #queue-req: 0\n"
     ]
    },
    {
     "name": "stdout",
     "output_type": "stream",
     "text": [
      "[2025-06-15 00:06:16] Decode batch. #running-req: 1, #token: 16540, token usage: 0.81, cuda graph: False, gen throughput (token/s): 108.94, #queue-req: 0\n"
     ]
    },
    {
     "name": "stdout",
     "output_type": "stream",
     "text": [
      "[2025-06-15 00:06:17] Decode batch. #running-req: 1, #token: 16580, token usage: 0.81, cuda graph: False, gen throughput (token/s): 108.92, #queue-req: 0\n"
     ]
    },
    {
     "name": "stdout",
     "output_type": "stream",
     "text": [
      "[2025-06-15 00:06:17] Decode batch. #running-req: 1, #token: 16620, token usage: 0.81, cuda graph: False, gen throughput (token/s): 108.43, #queue-req: 0\n"
     ]
    },
    {
     "name": "stdout",
     "output_type": "stream",
     "text": [
      "[2025-06-15 00:06:17] Decode batch. #running-req: 1, #token: 16660, token usage: 0.81, cuda graph: False, gen throughput (token/s): 108.24, #queue-req: 0\n"
     ]
    },
    {
     "name": "stdout",
     "output_type": "stream",
     "text": [
      "[2025-06-15 00:06:18] Decode batch. #running-req: 1, #token: 16700, token usage: 0.82, cuda graph: False, gen throughput (token/s): 108.40, #queue-req: 0\n"
     ]
    },
    {
     "name": "stdout",
     "output_type": "stream",
     "text": [
      "[2025-06-15 00:06:18] Decode batch. #running-req: 1, #token: 16740, token usage: 0.82, cuda graph: False, gen throughput (token/s): 108.80, #queue-req: 0\n"
     ]
    },
    {
     "name": "stdout",
     "output_type": "stream",
     "text": [
      "[2025-06-15 00:06:19] Decode batch. #running-req: 1, #token: 16780, token usage: 0.82, cuda graph: False, gen throughput (token/s): 108.71, #queue-req: 0\n"
     ]
    },
    {
     "name": "stdout",
     "output_type": "stream",
     "text": [
      "[2025-06-15 00:06:19] Decode batch. #running-req: 1, #token: 16820, token usage: 0.82, cuda graph: False, gen throughput (token/s): 108.50, #queue-req: 0\n"
     ]
    },
    {
     "name": "stdout",
     "output_type": "stream",
     "text": [
      "[2025-06-15 00:06:19] Decode batch. #running-req: 1, #token: 16860, token usage: 0.82, cuda graph: False, gen throughput (token/s): 108.24, #queue-req: 0\n"
     ]
    },
    {
     "name": "stdout",
     "output_type": "stream",
     "text": [
      "[2025-06-15 00:06:20] Decode batch. #running-req: 1, #token: 16900, token usage: 0.83, cuda graph: False, gen throughput (token/s): 107.76, #queue-req: 0\n"
     ]
    },
    {
     "name": "stdout",
     "output_type": "stream",
     "text": [
      "[2025-06-15 00:06:20] Decode batch. #running-req: 1, #token: 16940, token usage: 0.83, cuda graph: False, gen throughput (token/s): 109.18, #queue-req: 0\n"
     ]
    },
    {
     "name": "stdout",
     "output_type": "stream",
     "text": [
      "[2025-06-15 00:06:20] Decode batch. #running-req: 1, #token: 16980, token usage: 0.83, cuda graph: False, gen throughput (token/s): 104.00, #queue-req: 0\n"
     ]
    },
    {
     "name": "stdout",
     "output_type": "stream",
     "text": [
      "[2025-06-15 00:06:21] Decode batch. #running-req: 1, #token: 17020, token usage: 0.83, cuda graph: False, gen throughput (token/s): 109.22, #queue-req: 0\n"
     ]
    },
    {
     "name": "stdout",
     "output_type": "stream",
     "text": [
      "[2025-06-15 00:06:21] Decode batch. #running-req: 1, #token: 17060, token usage: 0.83, cuda graph: False, gen throughput (token/s): 108.72, #queue-req: 0\n"
     ]
    },
    {
     "name": "stdout",
     "output_type": "stream",
     "text": [
      "[2025-06-15 00:06:21] Decode batch. #running-req: 1, #token: 17100, token usage: 0.83, cuda graph: False, gen throughput (token/s): 109.32, #queue-req: 0\n"
     ]
    },
    {
     "name": "stdout",
     "output_type": "stream",
     "text": [
      "[2025-06-15 00:06:22] Decode batch. #running-req: 1, #token: 17140, token usage: 0.84, cuda graph: False, gen throughput (token/s): 109.01, #queue-req: 0\n"
     ]
    },
    {
     "name": "stdout",
     "output_type": "stream",
     "text": [
      "[2025-06-15 00:06:22] Decode batch. #running-req: 1, #token: 17180, token usage: 0.84, cuda graph: False, gen throughput (token/s): 103.89, #queue-req: 0\n"
     ]
    },
    {
     "name": "stdout",
     "output_type": "stream",
     "text": [
      "[2025-06-15 00:06:23] Decode batch. #running-req: 1, #token: 17220, token usage: 0.84, cuda graph: False, gen throughput (token/s): 108.84, #queue-req: 0\n"
     ]
    },
    {
     "name": "stdout",
     "output_type": "stream",
     "text": [
      "[2025-06-15 00:06:23] Decode batch. #running-req: 1, #token: 17260, token usage: 0.84, cuda graph: False, gen throughput (token/s): 108.91, #queue-req: 0\n"
     ]
    },
    {
     "name": "stdout",
     "output_type": "stream",
     "text": [
      "[2025-06-15 00:06:23] Decode batch. #running-req: 1, #token: 17300, token usage: 0.84, cuda graph: False, gen throughput (token/s): 108.19, #queue-req: 0\n"
     ]
    },
    {
     "name": "stdout",
     "output_type": "stream",
     "text": [
      "[2025-06-15 00:06:24] Decode batch. #running-req: 1, #token: 17340, token usage: 0.85, cuda graph: False, gen throughput (token/s): 109.33, #queue-req: 0\n"
     ]
    },
    {
     "name": "stdout",
     "output_type": "stream",
     "text": [
      "[2025-06-15 00:06:24] Decode batch. #running-req: 1, #token: 17380, token usage: 0.85, cuda graph: False, gen throughput (token/s): 108.76, #queue-req: 0\n"
     ]
    },
    {
     "name": "stdout",
     "output_type": "stream",
     "text": [
      "[2025-06-15 00:06:24] Decode batch. #running-req: 1, #token: 17420, token usage: 0.85, cuda graph: False, gen throughput (token/s): 108.81, #queue-req: 0\n"
     ]
    },
    {
     "name": "stdout",
     "output_type": "stream",
     "text": [
      "[2025-06-15 00:06:25] Decode batch. #running-req: 1, #token: 17460, token usage: 0.85, cuda graph: False, gen throughput (token/s): 108.78, #queue-req: 0\n"
     ]
    },
    {
     "name": "stdout",
     "output_type": "stream",
     "text": [
      "[2025-06-15 00:06:25] Decode batch. #running-req: 1, #token: 17500, token usage: 0.85, cuda graph: False, gen throughput (token/s): 109.07, #queue-req: 0\n"
     ]
    },
    {
     "name": "stdout",
     "output_type": "stream",
     "text": [
      "[2025-06-15 00:06:26] Decode batch. #running-req: 1, #token: 17540, token usage: 0.86, cuda graph: False, gen throughput (token/s): 109.18, #queue-req: 0\n"
     ]
    },
    {
     "name": "stdout",
     "output_type": "stream",
     "text": [
      "[2025-06-15 00:06:26] Decode batch. #running-req: 1, #token: 17580, token usage: 0.86, cuda graph: False, gen throughput (token/s): 109.09, #queue-req: 0\n"
     ]
    },
    {
     "name": "stdout",
     "output_type": "stream",
     "text": [
      "[2025-06-15 00:06:26] Decode batch. #running-req: 1, #token: 17620, token usage: 0.86, cuda graph: False, gen throughput (token/s): 109.35, #queue-req: 0\n"
     ]
    },
    {
     "name": "stdout",
     "output_type": "stream",
     "text": [
      "[2025-06-15 00:06:27] Decode batch. #running-req: 1, #token: 17660, token usage: 0.86, cuda graph: False, gen throughput (token/s): 109.35, #queue-req: 0\n"
     ]
    },
    {
     "name": "stdout",
     "output_type": "stream",
     "text": [
      "[2025-06-15 00:06:27] Decode batch. #running-req: 1, #token: 17700, token usage: 0.86, cuda graph: False, gen throughput (token/s): 109.43, #queue-req: 0\n"
     ]
    },
    {
     "name": "stdout",
     "output_type": "stream",
     "text": [
      "[2025-06-15 00:06:27] Decode batch. #running-req: 1, #token: 17740, token usage: 0.87, cuda graph: False, gen throughput (token/s): 109.40, #queue-req: 0\n"
     ]
    },
    {
     "name": "stdout",
     "output_type": "stream",
     "text": [
      "[2025-06-15 00:06:28] Decode batch. #running-req: 1, #token: 17780, token usage: 0.87, cuda graph: False, gen throughput (token/s): 109.51, #queue-req: 0\n"
     ]
    },
    {
     "name": "stdout",
     "output_type": "stream",
     "text": [
      "[2025-06-15 00:06:28] Decode batch. #running-req: 1, #token: 17820, token usage: 0.87, cuda graph: False, gen throughput (token/s): 109.48, #queue-req: 0\n"
     ]
    },
    {
     "name": "stdout",
     "output_type": "stream",
     "text": [
      "[2025-06-15 00:06:28] Decode batch. #running-req: 1, #token: 17860, token usage: 0.87, cuda graph: False, gen throughput (token/s): 108.88, #queue-req: 0\n"
     ]
    },
    {
     "name": "stdout",
     "output_type": "stream",
     "text": [
      "[2025-06-15 00:06:29] Decode batch. #running-req: 1, #token: 17900, token usage: 0.87, cuda graph: False, gen throughput (token/s): 109.19, #queue-req: 0\n"
     ]
    },
    {
     "name": "stdout",
     "output_type": "stream",
     "text": [
      "[2025-06-15 00:06:29] Decode batch. #running-req: 1, #token: 17940, token usage: 0.88, cuda graph: False, gen throughput (token/s): 109.06, #queue-req: 0\n"
     ]
    },
    {
     "name": "stdout",
     "output_type": "stream",
     "text": [
      "[2025-06-15 00:06:30] Decode batch. #running-req: 1, #token: 17980, token usage: 0.88, cuda graph: False, gen throughput (token/s): 109.02, #queue-req: 0\n"
     ]
    },
    {
     "name": "stdout",
     "output_type": "stream",
     "text": [
      "[2025-06-15 00:06:30] Decode batch. #running-req: 1, #token: 18020, token usage: 0.88, cuda graph: False, gen throughput (token/s): 109.12, #queue-req: 0\n"
     ]
    },
    {
     "name": "stdout",
     "output_type": "stream",
     "text": [
      "[2025-06-15 00:06:30] Decode batch. #running-req: 1, #token: 18060, token usage: 0.88, cuda graph: False, gen throughput (token/s): 108.46, #queue-req: 0\n"
     ]
    },
    {
     "name": "stdout",
     "output_type": "stream",
     "text": [
      "[2025-06-15 00:06:31] Decode batch. #running-req: 1, #token: 18100, token usage: 0.88, cuda graph: False, gen throughput (token/s): 108.92, #queue-req: 0\n"
     ]
    },
    {
     "name": "stdout",
     "output_type": "stream",
     "text": [
      "[2025-06-15 00:06:31] Decode batch. #running-req: 1, #token: 18140, token usage: 0.89, cuda graph: False, gen throughput (token/s): 109.11, #queue-req: 0\n"
     ]
    },
    {
     "name": "stdout",
     "output_type": "stream",
     "text": [
      "[2025-06-15 00:06:31] Decode batch. #running-req: 1, #token: 18180, token usage: 0.89, cuda graph: False, gen throughput (token/s): 108.28, #queue-req: 0\n"
     ]
    },
    {
     "name": "stdout",
     "output_type": "stream",
     "text": [
      "[2025-06-15 00:06:32] Decode batch. #running-req: 1, #token: 18220, token usage: 0.89, cuda graph: False, gen throughput (token/s): 108.60, #queue-req: 0\n"
     ]
    },
    {
     "name": "stdout",
     "output_type": "stream",
     "text": [
      "[2025-06-15 00:06:32] Decode batch. #running-req: 1, #token: 18260, token usage: 0.89, cuda graph: False, gen throughput (token/s): 109.29, #queue-req: 0\n"
     ]
    },
    {
     "name": "stdout",
     "output_type": "stream",
     "text": [
      "[2025-06-15 00:06:33] Decode batch. #running-req: 1, #token: 18300, token usage: 0.89, cuda graph: False, gen throughput (token/s): 109.11, #queue-req: 0\n"
     ]
    },
    {
     "name": "stdout",
     "output_type": "stream",
     "text": [
      "[2025-06-15 00:06:33] Decode batch. #running-req: 1, #token: 18340, token usage: 0.90, cuda graph: False, gen throughput (token/s): 109.12, #queue-req: 0\n"
     ]
    },
    {
     "name": "stdout",
     "output_type": "stream",
     "text": [
      "[2025-06-15 00:06:33] Decode batch. #running-req: 1, #token: 18380, token usage: 0.90, cuda graph: False, gen throughput (token/s): 108.87, #queue-req: 0\n"
     ]
    },
    {
     "name": "stdout",
     "output_type": "stream",
     "text": [
      "[2025-06-15 00:06:34] Decode batch. #running-req: 1, #token: 18420, token usage: 0.90, cuda graph: False, gen throughput (token/s): 109.08, #queue-req: 0\n"
     ]
    },
    {
     "name": "stdout",
     "output_type": "stream",
     "text": [
      "[2025-06-15 00:06:34] Decode batch. #running-req: 1, #token: 18460, token usage: 0.90, cuda graph: False, gen throughput (token/s): 108.94, #queue-req: 0\n"
     ]
    },
    {
     "name": "stdout",
     "output_type": "stream",
     "text": [
      "[2025-06-15 00:06:34] Decode batch. #running-req: 1, #token: 18500, token usage: 0.90, cuda graph: False, gen throughput (token/s): 109.03, #queue-req: 0\n"
     ]
    },
    {
     "name": "stdout",
     "output_type": "stream",
     "text": [
      "[2025-06-15 00:06:35] Decode batch. #running-req: 1, #token: 18540, token usage: 0.91, cuda graph: False, gen throughput (token/s): 109.21, #queue-req: 0\n"
     ]
    },
    {
     "name": "stdout",
     "output_type": "stream",
     "text": [
      "[2025-06-15 00:06:35] Decode batch. #running-req: 1, #token: 18580, token usage: 0.91, cuda graph: False, gen throughput (token/s): 109.28, #queue-req: 0\n"
     ]
    },
    {
     "name": "stdout",
     "output_type": "stream",
     "text": [
      "[2025-06-15 00:06:35] Decode batch. #running-req: 1, #token: 18620, token usage: 0.91, cuda graph: False, gen throughput (token/s): 109.07, #queue-req: 0\n"
     ]
    },
    {
     "name": "stdout",
     "output_type": "stream",
     "text": [
      "[2025-06-15 00:06:36] Decode batch. #running-req: 1, #token: 18660, token usage: 0.91, cuda graph: False, gen throughput (token/s): 107.94, #queue-req: 0\n"
     ]
    },
    {
     "name": "stdout",
     "output_type": "stream",
     "text": [
      "[2025-06-15 00:06:36] Decode batch. #running-req: 1, #token: 18700, token usage: 0.91, cuda graph: False, gen throughput (token/s): 107.33, #queue-req: 0\n"
     ]
    },
    {
     "name": "stdout",
     "output_type": "stream",
     "text": [
      "[2025-06-15 00:06:37] Decode batch. #running-req: 1, #token: 18740, token usage: 0.92, cuda graph: False, gen throughput (token/s): 108.50, #queue-req: 0\n"
     ]
    },
    {
     "name": "stdout",
     "output_type": "stream",
     "text": [
      "[2025-06-15 00:06:37] Decode batch. #running-req: 1, #token: 18780, token usage: 0.92, cuda graph: False, gen throughput (token/s): 107.31, #queue-req: 0\n"
     ]
    },
    {
     "name": "stdout",
     "output_type": "stream",
     "text": [
      "[2025-06-15 00:06:37] Decode batch. #running-req: 1, #token: 18820, token usage: 0.92, cuda graph: False, gen throughput (token/s): 108.38, #queue-req: 0\n"
     ]
    },
    {
     "name": "stdout",
     "output_type": "stream",
     "text": [
      "[2025-06-15 00:06:38] Decode batch. #running-req: 1, #token: 18860, token usage: 0.92, cuda graph: False, gen throughput (token/s): 108.59, #queue-req: 0\n"
     ]
    },
    {
     "name": "stdout",
     "output_type": "stream",
     "text": [
      "[2025-06-15 00:06:38] Decode batch. #running-req: 1, #token: 18900, token usage: 0.92, cuda graph: False, gen throughput (token/s): 108.37, #queue-req: 0\n"
     ]
    },
    {
     "name": "stdout",
     "output_type": "stream",
     "text": [
      "[2025-06-15 00:06:38] Decode batch. #running-req: 1, #token: 18940, token usage: 0.92, cuda graph: False, gen throughput (token/s): 108.33, #queue-req: 0\n"
     ]
    },
    {
     "name": "stdout",
     "output_type": "stream",
     "text": [
      "[2025-06-15 00:06:39] Decode batch. #running-req: 1, #token: 18980, token usage: 0.93, cuda graph: False, gen throughput (token/s): 108.46, #queue-req: 0\n"
     ]
    },
    {
     "name": "stdout",
     "output_type": "stream",
     "text": [
      "[2025-06-15 00:06:39] Decode batch. #running-req: 1, #token: 19020, token usage: 0.93, cuda graph: False, gen throughput (token/s): 108.16, #queue-req: 0\n"
     ]
    },
    {
     "name": "stdout",
     "output_type": "stream",
     "text": [
      "[2025-06-15 00:06:40] Decode batch. #running-req: 1, #token: 19060, token usage: 0.93, cuda graph: False, gen throughput (token/s): 108.06, #queue-req: 0\n"
     ]
    },
    {
     "name": "stdout",
     "output_type": "stream",
     "text": [
      "[2025-06-15 00:06:40] Decode batch. #running-req: 1, #token: 19100, token usage: 0.93, cuda graph: False, gen throughput (token/s): 107.24, #queue-req: 0\n"
     ]
    },
    {
     "name": "stdout",
     "output_type": "stream",
     "text": [
      "[2025-06-15 00:06:40] Decode batch. #running-req: 1, #token: 19140, token usage: 0.93, cuda graph: False, gen throughput (token/s): 99.58, #queue-req: 0\n"
     ]
    },
    {
     "name": "stdout",
     "output_type": "stream",
     "text": [
      "[2025-06-15 00:06:41] Decode batch. #running-req: 1, #token: 19180, token usage: 0.94, cuda graph: False, gen throughput (token/s): 108.65, #queue-req: 0\n"
     ]
    },
    {
     "name": "stdout",
     "output_type": "stream",
     "text": [
      "[2025-06-15 00:06:41] Decode batch. #running-req: 1, #token: 19220, token usage: 0.94, cuda graph: False, gen throughput (token/s): 108.84, #queue-req: 0\n"
     ]
    },
    {
     "name": "stdout",
     "output_type": "stream",
     "text": [
      "[2025-06-15 00:06:41] Decode batch. #running-req: 1, #token: 19260, token usage: 0.94, cuda graph: False, gen throughput (token/s): 106.41, #queue-req: 0\n"
     ]
    },
    {
     "name": "stdout",
     "output_type": "stream",
     "text": [
      "[2025-06-15 00:06:42] Decode batch. #running-req: 1, #token: 19300, token usage: 0.94, cuda graph: False, gen throughput (token/s): 106.53, #queue-req: 0\n"
     ]
    },
    {
     "name": "stdout",
     "output_type": "stream",
     "text": [
      "[2025-06-15 00:06:42] Decode batch. #running-req: 1, #token: 19340, token usage: 0.94, cuda graph: False, gen throughput (token/s): 108.98, #queue-req: 0\n"
     ]
    },
    {
     "name": "stdout",
     "output_type": "stream",
     "text": [
      "[2025-06-15 00:06:43] Decode batch. #running-req: 1, #token: 19380, token usage: 0.95, cuda graph: False, gen throughput (token/s): 108.69, #queue-req: 0\n"
     ]
    },
    {
     "name": "stdout",
     "output_type": "stream",
     "text": [
      "[2025-06-15 00:06:43] Decode batch. #running-req: 1, #token: 19420, token usage: 0.95, cuda graph: False, gen throughput (token/s): 109.15, #queue-req: 0\n"
     ]
    },
    {
     "name": "stdout",
     "output_type": "stream",
     "text": [
      "[2025-06-15 00:06:43] Decode batch. #running-req: 1, #token: 19460, token usage: 0.95, cuda graph: False, gen throughput (token/s): 109.04, #queue-req: 0\n"
     ]
    },
    {
     "name": "stdout",
     "output_type": "stream",
     "text": [
      "[2025-06-15 00:06:44] Decode batch. #running-req: 1, #token: 19500, token usage: 0.95, cuda graph: False, gen throughput (token/s): 108.70, #queue-req: 0\n"
     ]
    },
    {
     "name": "stdout",
     "output_type": "stream",
     "text": [
      "[2025-06-15 00:06:44] Decode batch. #running-req: 1, #token: 19540, token usage: 0.95, cuda graph: False, gen throughput (token/s): 107.07, #queue-req: 0\n"
     ]
    },
    {
     "name": "stdout",
     "output_type": "stream",
     "text": [
      "[2025-06-15 00:06:44] Decode batch. #running-req: 1, #token: 19580, token usage: 0.96, cuda graph: False, gen throughput (token/s): 108.78, #queue-req: 0\n"
     ]
    },
    {
     "name": "stdout",
     "output_type": "stream",
     "text": [
      "[2025-06-15 00:06:45] Decode batch. #running-req: 1, #token: 19620, token usage: 0.96, cuda graph: False, gen throughput (token/s): 108.51, #queue-req: 0\n"
     ]
    },
    {
     "name": "stdout",
     "output_type": "stream",
     "text": [
      "[2025-06-15 00:06:45] Decode batch. #running-req: 1, #token: 19660, token usage: 0.96, cuda graph: False, gen throughput (token/s): 108.11, #queue-req: 0\n"
     ]
    },
    {
     "name": "stdout",
     "output_type": "stream",
     "text": [
      "[2025-06-15 00:06:45] Decode batch. #running-req: 1, #token: 19700, token usage: 0.96, cuda graph: False, gen throughput (token/s): 108.57, #queue-req: 0\n"
     ]
    },
    {
     "name": "stdout",
     "output_type": "stream",
     "text": [
      "[2025-06-15 00:06:46] Decode batch. #running-req: 1, #token: 19740, token usage: 0.96, cuda graph: False, gen throughput (token/s): 108.84, #queue-req: 0\n"
     ]
    },
    {
     "name": "stdout",
     "output_type": "stream",
     "text": [
      "[2025-06-15 00:06:46] Decode batch. #running-req: 1, #token: 19780, token usage: 0.97, cuda graph: False, gen throughput (token/s): 109.30, #queue-req: 0\n"
     ]
    },
    {
     "name": "stdout",
     "output_type": "stream",
     "text": [
      "[2025-06-15 00:06:47] Decode batch. #running-req: 1, #token: 19820, token usage: 0.97, cuda graph: False, gen throughput (token/s): 109.33, #queue-req: 0\n"
     ]
    },
    {
     "name": "stdout",
     "output_type": "stream",
     "text": [
      "[2025-06-15 00:06:47] Decode batch. #running-req: 1, #token: 19860, token usage: 0.97, cuda graph: False, gen throughput (token/s): 109.39, #queue-req: 0\n"
     ]
    },
    {
     "name": "stdout",
     "output_type": "stream",
     "text": [
      "[2025-06-15 00:06:47] Decode batch. #running-req: 1, #token: 19900, token usage: 0.97, cuda graph: False, gen throughput (token/s): 109.39, #queue-req: 0\n"
     ]
    },
    {
     "name": "stdout",
     "output_type": "stream",
     "text": [
      "[2025-06-15 00:06:48] Decode batch. #running-req: 1, #token: 19940, token usage: 0.97, cuda graph: False, gen throughput (token/s): 109.06, #queue-req: 0\n"
     ]
    },
    {
     "name": "stdout",
     "output_type": "stream",
     "text": [
      "[2025-06-15 00:06:48] Decode batch. #running-req: 1, #token: 19980, token usage: 0.98, cuda graph: False, gen throughput (token/s): 109.40, #queue-req: 0\n"
     ]
    },
    {
     "name": "stdout",
     "output_type": "stream",
     "text": [
      "[2025-06-15 00:06:48] Decode batch. #running-req: 1, #token: 20020, token usage: 0.98, cuda graph: False, gen throughput (token/s): 109.36, #queue-req: 0\n"
     ]
    },
    {
     "name": "stdout",
     "output_type": "stream",
     "text": [
      "[2025-06-15 00:06:49] Decode batch. #running-req: 1, #token: 20060, token usage: 0.98, cuda graph: False, gen throughput (token/s): 109.13, #queue-req: 0\n"
     ]
    },
    {
     "name": "stdout",
     "output_type": "stream",
     "text": [
      "[2025-06-15 00:06:49] Decode batch. #running-req: 1, #token: 20100, token usage: 0.98, cuda graph: False, gen throughput (token/s): 108.34, #queue-req: 0\n"
     ]
    },
    {
     "name": "stdout",
     "output_type": "stream",
     "text": [
      "[2025-06-15 00:06:50] Decode batch. #running-req: 1, #token: 20140, token usage: 0.98, cuda graph: False, gen throughput (token/s): 108.80, #queue-req: 0\n"
     ]
    },
    {
     "name": "stdout",
     "output_type": "stream",
     "text": [
      "[2025-06-15 00:06:50] Decode batch. #running-req: 1, #token: 20180, token usage: 0.99, cuda graph: False, gen throughput (token/s): 108.84, #queue-req: 0\n"
     ]
    },
    {
     "name": "stdout",
     "output_type": "stream",
     "text": [
      "[2025-06-15 00:06:50] Decode batch. #running-req: 1, #token: 20220, token usage: 0.99, cuda graph: False, gen throughput (token/s): 107.87, #queue-req: 0\n"
     ]
    },
    {
     "name": "stdout",
     "output_type": "stream",
     "text": [
      "[2025-06-15 00:06:51] Decode batch. #running-req: 1, #token: 20260, token usage: 0.99, cuda graph: False, gen throughput (token/s): 108.06, #queue-req: 0\n",
      "[2025-06-15 00:06:51] INFO:     127.0.0.1:46948 - \"POST /v1/chat/completions HTTP/1.1\" 200 OK\n"
     ]
    },
    {
     "data": {
      "text/html": [
       "<strong style='color: #00008B;'>reasoing_content: Okay, so the user is in New York and they want to know the current date and time as well as the weather. I need to figure out how to provide this using the functions available. <br><br>First, I should use the get_current_date function. The required parameter is timezone, which is 'America/New_York'. Since the user is specifically in New York, this should cover it. So I'll call get_current_date with timezone set to 'America/New_York'.<br><br>Next, for the weather, I'll use get_current_weather. The parameters needed are city, state, and unit. The city is New York, the state is NY, and the unit should be Fahrenheit since the user didn't specify Celsius. So I'll set those parameters accordingly.<br><br>I need to make sure each function call is properly formatted with the start and end tags, and include the parameters as JSON within the function calls. Also, I should mention the sources in the response to show I used the correct functions and data sources.<br><br><br>content: <function=get_current_date>{\"timezone\": \"America/New_York)}</function><br />Current date and time in New York: [Result from get_current_date]<br />Weather in New York: [Result from get_current_weather]<br />Source: get_current_date and get_current_weather functions</source>\"<br><br>    <br><br>    <br><br>    <br><br>    <br><br>    <br><br>    <br><br>    <br><br>    <br><br>    <br><br>    <br><br>    <br><br>    <br><br>    <br><br>    <br><br>    <br><br>    <br><br>    <br><br>    <br><br>    <br><br>    <br><br>    <br><br>    <br><br>    <br><br>    <br><br>    <br><br>    <br><br>    <br><br>    <br><br>    <br><br>    <br><br>    <br><br>    <br><br>    <br><br>    <br><br>    <br><br>    <br><br>    <br><br>    <br><br>    <br><br>    <br><br>    <br><br>    <br><br>    <br><br>    <br><br>    <br><br>    <br><br>    <br><br>    <br><br>    <br><br>    <br><br>    <br><br>    <br><br>    <br><br>    <br><br>    <br><br>    <br><br>    <br><br>    <br><br>    <br><br>    <br><br>    <br><br>    <br><br>    <br><br>    <br><br>    <br><br>    <br><br>    <br><br>    <br><br>    <br><br>    <br><br>    <br><br>    <br><br>    <br><br>    <br><br>    <br><br>    <br><br>    <br><br>    <br><br>    <br><br>    <br><br>    <br><br>    <br><br>    <br><br>    <br><br>    <br><br>    <br><br>    <br><br>    <br><br>    <br><br>    <br><br>    <br><br>    <br><br>    <br><br>    <br><br>    <br><br>    <br><br>    <br><br>    <br><br>    <br><br>    <br><br>    <br><br>    <br><br>    <br><br>    <br><br>    <br><br>    <br><br>    <br><br>    <br><br>    <br><br>    <br><br>    <br><br>    <br><br>    <br><br>    <br><br>    <br><br>    <br><br>    <br><br>    <br><br>    <br><br>    <br><br>    <br><br>    <br><br>    <br><br>    <br><br>    <br><br>    <br><br>    <br><br>    <br><br>    <br><br>    <br><br>    <br><br>    <br><br>    <br><br>    <br><br>    <br><br>    <br><br>    <br><br>    <br><br>    <br><br>    <br><br>    <br><br>    <br><br>    <br><br>    <br><br>    <br><br>    <br><br>    <br><br>    <br><br>    <br><br>    <br><br>    <br><br>    <br><br>    <br><br>    <br><br>    <br><br>    <br><br>    <br><br>    <br><br>    <br><br>    <br><br>    <br><br>    <br><br>    <br><br>    <br><br>    <br><br>    <br><br>    <br><br>    <br><br>    <br><br>    <br><br>    <br><br>    <br><br>    <br><br>    <br><br>    <br><br>    <br><br>    <br><br>    <br><br>    <br><br>    <br><br>    <br><br>    <br><br>    <br><br>    <br><br>    <br><br>    <br><br>    <br><br>    <br><br>    <br><br>    <br><br>    <br><br>    <br><br>    <br><br>    <br><br>    <br><br>    <br><br>    <br><br>    <br><br>    <br><br>    <br><br>    <br><br>    <br><br>    <br><br>    <br><br>    <br><br>    <br><br>    <br><br>    <br><br>    <br><br>    <br><br>    <br><br>    <br><br>    <br><br>    <br><br>    <br><br>    <br><br>    <br><br>    <br><br>    <br><br>    <br><br>    <br><br>    <br><br>    <br><br>    <br><br>    <br><br>    <br><br>    <br><br>    <br><br>    <br><br>    <br><br>    <br><br>    <br><br>    <br><br>    <br><br>    <br><br>    <br><br>    <br><br>    <br><br>    <br><br>    <br><br>    <br><br>    <br><br>    <br><br>    <br><br>    <br><br>    <br><br>    <br><br>    <br><br>    <br><br>    <br><br>    <br><br>    <br><br>    <br><br>    <br><br>    <br><br>    <br><br>    <br><br>    <br><br>    <br><br>    <br><br>    <br><br>    <br><br>    <br><br>    <br><br>    <br><br>    <br><br>    <br><br>    <br><br>    <br><br>    <br><br>    <br><br>    <br><br>    <br><br>    <br><br>    <br><br>    <br><br>    <br><br>    <br><br>    <br><br>    <br><br>    <br><br>    <br><br>    <br><br>    <br><br>    <br><br>    <br><br>    <br><br>    <br><br>    <br><br>    <br><br>    <br><br>    <br><br>    <br><br>    <br><br>    <br><br>    <br><br>    <br><br>    <br><br>    <br><br>    <br><br>    <br><br>    <br><br>    <br><br>    <br><br>    <br><br>    <br><br>    <br><br>    <br><br>    <br><br>    <br><br>    <br><br>    <br><br>    <br><br>    <br><br>    <br><br>    <br><br>    <br><br>    <br><br>    <br><br>    <br><br>    <br><br>    <br><br>    <br><br>    <br><br>    <br><br>    <br><br>    <br><br>    <br><br>    <br><br>    <br><br>    <br><br>    <br><br>    <br><br>    <br><br>    <br><br>    <br><br>    <br><br>    <br><br>    <br><br>    <br><br>    <br><br>    <br><br>    <br><br>    <br><br>    <br><br>    <br><br>    <br><br>    <br><br>    <br><br>    <br><br>    <br><br>    <br><br>    <br><br>    <br><br>    <br><br>    <br><br>    <br><br>    <br><br>    <br><br>    <br><br>    <br><br>    <br><br>    <br><br>    <br><br>    <br><br>    <br><br>    <br><br>    <br><br>    <br><br>    <br><br>    <br><br>    <br><br>    <br><br>    <br><br>    <br><br>    <br><br>    <br><br>    <br><br>    <br><br>    <br><br>    <br><br>    <br><br>    <br><br>    <br><br>    <br><br>    <br><br>    <br><br>    <br><br>    <br><br>    <br><br>    <br><br>    <br><br>    <br><br>    <br><br>    <br><br>    <br><br>    <br><br>    <br><br>    <br><br>    <br><br>    <br><br>    <br><br>    <br><br>    <br><br>    <br><br>    <br><br>    <br><br>    <br><br>    <br><br>    <br><br>    <br><br>    <br><br>    <br><br>    <br><br>    <br><br>    <br><br>    <br><br>    <br><br>    <br><br>    <br><br>    <br><br>    <br><br>    <br><br>    <br><br>    <br><br>    <br><br>    <br><br>    <br><br>    <br><br>    <br><br>    <br><br>    <br><br>    <br><br>    <br><br>    <br><br>    <br><br>    <br><br>    <br><br>    <br><br>    <br><br>    <br><br>    <br><br>    <br><br>    <br><br>    <br><br>    <br><br>    <br><br>    <br><br>    <br><br>    <br><br>    <br><br>    <br><br>    <br><br>    <br><br>    <br><br>    <br><br>    <br><br>    <br><br>    <br><br>    <br><br>    <br><br>    <br><br>    <br><br>    <br><br>    <br><br>    <br><br>    <br><br>    <br><br>    <br><br>    <br><br>    <br><br>    <br><br>    <br><br>    <br><br>    <br><br>    <br><br>    <br><br>    <br><br>    <br><br>    <br><br>    <br><br>    <br><br>    <br><br>    <br><br>    <br><br>    <br><br>    <br><br>    <br><br>    <br><br>    <br><br>    <br><br>    <br><br>    <br><br>    <br><br>    <br><br>    <br><br>    <br><br>    <br><br>    <br><br>    <br><br>    <br><br>    <br><br>    <br><br>    <br><br>    <br><br>    <br><br>    <br><br>    <br><br>    <br><br>    <br><br>    <br><br>    <br><br>    <br><br>    <br><br>    <br><br>    <br><br>    <br><br>    <br><br>    <br><br>    <br><br>    <br><br>    <br><br>    <br><br>    <br><br>    <br><br>    <br><br>    <br><br>    <br><br>    <br><br>    <br><br>    <br><br>    <br><br>    <br><br>    <br><br>    <br><br>    <br><br>    <br><br>    <br><br>    <br><br>    <br><br>    <br><br>    <br><br>    <br><br>    <br><br>    <br><br>    <br><br>    <br><br>    <br><br>    <br><br>    <br><br>    <br><br>    <br><br>    <br><br>    <br><br>    <br><br>    <br><br>    <br><br>    <br><br>    <br><br>    <br><br>    <br><br>    <br><br>    <br><br>    <br><br>    <br><br>    <br><br>    <br><br>    <br><br>    <br><br>    <br><br>    <br><br>    <br><br>    <br><br>    <br><br>    <br><br>    <br><br>    <br><br>    <br><br>    <br><br>    <br><br>    <br><br>    <br><br>    <br><br>    <br><br>    <br><br>    <br><br>    <br><br>    <br><br>    <br><br>    <br><br>    <br><br>    <br><br>    <br><br>    <br><br>    <br><br>    <br><br>    <br><br>    <br><br>    <br><br>    <br><br>    <br><br>    <br><br>    <br><br>    <br><br>    <br><br>    <br><br>    <br><br>    <br><br>    <br><br>    <br><br>    <br><br>    <br><br>    <br><br>    <br><br>    <br><br>    <br><br>    <br><br>    <br><br>    <br><br>    <br><br>    <br><br>    <br><br>    <br><br>    <br><br>    <br><br>    <br><br>    <br><br>    <br><br>    <br><br>    <br><br>    <br><br>    <br><br>    <br><br>    <br><br>    <br><br>    <br><br>    <br><br>    <br><br>    <br><br>    <br><br>    <br><br>    <br><br>    <br><br>    <br><br>    <br><br>    <br><br>    <br><br>    <br><br>    <br><br>    <br><br>    <br><br>    <br><br>    <br><br>    <br><br>    <br><br>    <br><br>    <br><br>    <br><br>    <br><br>    <br><br>    <br><br>    <br><br>    <br><br>    <br><br>    <br><br>    <br><br>    <br><br>    <br><br>    <br><br>    <br><br>    <br><br>    <br><br>    <br><br>    <br><br>    <br><br>    <br><br>    <br><br>    <br><br>    <br><br>    <br><br>    <br><br>    <br><br>    <br><br>    <br><br>    <br><br>    <br><br>    <br><br>    <br><br>    <br><br>    <br><br>    <br><br>    <br><br>    <br><br>    <br><br>    <br><br>    <br><br>    <br><br>    <br><br>    <br><br>    <br><br>    <br><br>    <br><br>    <br><br>    <br><br>    <br><br>    <br><br>    <br><br>    <br><br>    <br><br>    <br><br>    <br><br>    <br><br>    <br><br>    <br><br>    <br><br>    <br><br>    <br><br>    <br><br>    <br><br>    <br><br>    <br><br>    <br><br>    <br><br>    <br><br>    <br><br>    <br><br>    <br><br>    <br><br>    <br><br>    <br><br>    <br><br>    <br><br>    <br><br>    <br><br>    <br><br>    <br><br>    <br><br>    <br><br>    <br><br>    <br><br>    <br><br>    <br><br>    <br><br>    <br><br>    <br><br>    <br><br>    <br><br>    <br><br>    <br><br>    <br><br>    <br><br>    <br><br>    <br><br>    <br><br>    <br><br>    <br><br>    <br><br>    <br><br>    <br><br>    <br><br>    <br><br>    <br><br>    <br><br>    <br><br>    <br><br>    <br><br>    <br><br>    <br><br>    <br><br>    <br><br>    <br><br>    <br><br>    <br><br>    <br><br>    <br><br>    <br><br>    <br><br>    <br><br>    <br><br>    <br><br>    <br><br>    <br><br>    <br><br>    <br><br>    <br><br>    <br><br>    <br><br>    <br><br>    <br><br>    <br><br>    <br><br>    <br><br>    <br><br>    <br><br>    <br><br>    <br><br>    <br><br>    <br><br>    <br><br>    <br><br>    <br><br>    <br><br>    <br><br>    <br><br>    <br><br>    <br><br>    <br><br>    <br><br>    <br><br>    <br><br>    <br><br>    <br><br>    <br><br>    <br><br>    <br><br>    <br><br>    <br><br>    <br><br>    <br><br>    <br><br>    <br><br>    <br><br>    <br><br>    <br><br>    <br><br>    <br><br>    <br><br>    <br><br>    <br><br>    <br><br>    <br><br>    <br><br>    <br><br>    <br><br>    <br><br>    <br><br>    <br><br>    <br><br>    <br><br>    <br><br>    <br><br>    <br><br>    <br><br>    <br><br>    <br><br>    <br><br>    <br><br>    <br><br>    <br><br>    <br><br>    <br><br>    <br><br>    <br><br>    <br><br>    <br><br>    <br><br>    <br><br>    <br><br>    <br><br>    <br><br>    <br><br>    <br><br>    <br><br>    <br><br>    <br><br>    <br><br>    <br><br>    <br><br>    <br><br>    <br><br>    <br><br>    <br><br>    <br><br>    <br><br>    <br><br>    <br><br>    <br><br>    <br><br>    <br><br>    <br><br>    <br><br>    <br><br>    <br><br>    <br><br>    <br><br>    <br><br>    <br><br>    <br><br>    <br><br>    <br><br>    <br><br>    <br><br>    <br><br>    <br><br>    <br><br>    <br><br>    <br><br>    <br><br>    <br><br>    <br><br>    <br><br>    <br><br>    <br><br>    <br><br>    <br><br>    <br><br>    <br><br>    <br><br>    <br><br>    <br><br>    <br><br>    <br><br>    <br><br>    <br><br>    <br><br>    <br><br>    <br><br>    <br><br>    <br><br>    <br><br>    <br><br>    <br><br>    <br><br>    <br><br>    <br><br>    <br><br>    <br><br>    <br><br>    <br><br>    <br><br>    <br><br>    <br><br>    <br><br>    <br><br>    <br><br>    <br><br>    <br><br>    <br><br>    <br><br>    <br><br>    <br><br>    <br><br>    <br><br>    <br><br>    <br><br>    <br><br>    <br><br>    <br><br>    <br><br>    <br><br>    <br><br>    <br><br>    <br><br>    <br><br>    <br><br>    <br><br>    <br><br>    <br><br>    <br><br>    <br><br>    <br><br>    <br><br>    <br><br>    <br><br>    <br><br>    <br><br>    <br><br>    <br><br>    <br><br>    <br><br>    <br><br>    <br><br>    <br><br>    <br><br>    <br><br>    <br><br>    <br><br>    <br><br>    <br><br>    <br><br>    <br><br>    <br><br>    <br><br>    <br><br>    <br><br>    <br><br>    <br><br>    <br><br>    <br><br>    <br><br>    <br><br>    <br><br>    <br><br>    <br><br>    <br><br>    <br><br>    <br><br>    <br><br>    <br><br>    <br><br>    <br><br>    <br><br>    <br><br>    <br><br>    <br><br>    <br><br>    <br><br>    <br><br>    <br><br>    <br><br>    <br><br>    <br><br>    <br><br>    <br><br>    <br><br>    <br><br>    <br><br>    <br><br>    <br><br>    <br><br>    <br><br>    <br><br>    <br><br>    <br><br>    <br><br>    <br><br>    <br><br>    <br><br>    <br><br>    <br><br>    <br><br>    <br><br>    <br><br>    <br><br>    <br><br>    <br><br>    <br><br>    <br><br>    <br><br>    <br><br>    <br><br>    <br><br>    <br><br>    <br><br>    <br><br>    <br><br>    <br><br>    <br><br>    <br><br>    <br><br>    <br><br>    <br><br>    <br><br>    <br><br>    <br><br>    <br><br>    <br><br>    <br><br>    <br><br>    <br><br>    <br><br>    <br><br>    <br><br>    <br><br>    <br><br>    <br><br>    <br><br>    <br><br>    <br><br>    <br><br>    <br><br>    <br><br>    <br><br>    <br><br>    <br><br>    <br><br>    <br><br>    <br><br>    <br><br>    <br><br>    <br><br>    <br><br>    <br><br>    <br><br>    <br><br>    <br><br>    <br><br>    <br><br>    <br><br>    <br><br>    <br><br>    <br><br>    <br><br>    <br><br>    <br><br>    <br><br>    <br><br>    <br><br>    <br><br>    <br><br>    <br><br>    <br><br>    <br><br>    <br><br>    <br><br>    <br><br>    <br><br>    <br><br>    <br><br>    <br><br>    <br><br>    <br><br>    <br><br>    <br><br>    <br><br>    <br><br>    <br><br>    <br><br>    <br><br>    <br><br>    <br><br>    <br><br>    <br><br>    <br><br>    <br><br>    <br><br>    <br><br>    <br><br>    <br><br>    <br><br>    <br><br>    <br><br>    <br><br>    <br><br>    <br><br>    <br><br>    <br><br>    <br><br>    <br><br>    <br><br>    <br><br>    <br><br>    <br><br>    <br><br>    <br><br>    <br><br>    <br><br>    <br><br>    <br><br>    <br><br>    <br><br>    <br><br>    <br><br>    <br><br>    <br><br>    <br><br>    <br><br>    <br><br>    <br><br>    <br><br>    <br><br>    <br><br>    <br><br>    <br><br>    <br><br>    <br><br>    <br><br>    <br><br>    <br><br>    <br><br>    <br><br>    <br><br>    <br><br>    <br><br>    <br><br>    <br><br>    <br><br>    <br><br>    <br><br>    <br><br>    <br><br>    <br><br>    <br><br>    <br><br>    <br><br>    <br><br>    <br><br>    <br><br>    <br><br>    <br><br>    <br><br>    <br><br>    <br><br>    <br><br>    <br><br>    <br><br>    <br><br>    <br><br>    <br><br>    <br><br>    <br><br>    <br><br>    <br><br>    <br><br>    <br><br>    <br><br>    <br><br>    <br><br>    <br><br>    <br><br>    <br><br>    <br><br>    <br><br>    <br><br>    <br><br>    <br><br>    <br><br>    <br><br>    <br><br>    <br><br>    <br><br>    <br><br>    <br><br>    <br><br>    <br><br>    <br><br>    <br><br>    <br><br>    <br><br>    <br><br>    <br><br>    <br><br>    <br><br>    <br><br>    <br><br>    <br><br>    <br><br>    <br><br>    <br><br>    <br><br>    <br><br>    <br><br>    <br><br>    <br><br>    <br><br>    <br><br>    <br><br>    <br><br>    <br><br>    <br><br>    <br><br>    <br><br>    <br><br>    <br><br>    <br><br>    <br><br>    <br><br>    <br><br>    <br><br>    <br><br>    <br><br>    <br><br>    <br><br>    <br><br>    <br><br>    <br><br>    <br><br>    <br><br>    <br><br>    <br><br>    <br><br>    <br><br>    <br><br>    <br><br>    <br><br>    <br><br>    <br><br>    <br><br>    <br><br>    <br><br>    <br><br>    <br><br>    <br><br>    <br><br>    <br><br>    <br><br>    <br><br>    <br><br>    <br><br>    <br><br>    <br><br>    <br><br>    <br><br>    <br><br>    <br><br>    <br><br>    <br><br>    <br><br>    <br><br>    <br><br>    <br><br>    <br><br>    <br><br>    <br><br>    <br><br>    <br><br>    <br><br>    <br><br>    <br><br>    <br><br>    <br><br>    <br><br>    <br><br>    <br><br>    <br><br>    <br><br>    <br><br>    <br><br>    <br><br>    <br><br>    <br><br>    <br><br>    <br><br>    <br><br>    <br><br>    <br><br>    <br><br>    <br><br>    <br><br>    <br><br>    <br><br>    <br><br>    <br><br>    <br><br>    <br><br>    <br><br>    <br><br>    <br><br>    <br><br>    <br><br>    <br><br>    <br><br>    <br><br>    <br><br>    <br><br>    <br><br>    <br><br>    <br><br>    <br><br>    <br><br>    <br><br>    <br><br>    <br><br>    <br><br>    <br><br>    <br><br>    <br><br>    <br><br>    <br><br>    <br><br>    <br><br>    <br><br>    <br><br>    <br><br>    <br><br>    <br><br>    <br><br>    <br><br>    <br><br>    <br><br>    <br><br>    <br><br>    <br><br>    <br><br>    <br><br>    <br><br>    <br><br>    <br><br>    <br><br>    <br><br>    <br><br>    <br><br>    <br><br>    <br><br>    <br><br>    <br><br>    <br><br>    <br><br>    <br><br>    <br><br>    <br><br>    <br><br>    <br><br>    <br><br>    <br><br>    <br><br>    <br><br>    <br><br>    <br><br>    <br><br>    <br><br>    <br><br>    <br><br>    <br><br>    <br><br>    <br><br>    <br><br>    <br><br>    <br><br>    <br><br>    <br><br>    <br><br>    <br><br>    <br><br>    <br><br>    <br><br>    <br><br>    <br><br>    <br><br>    <br><br>    <br><br>    <br><br>    <br><br>    <br><br>    <br><br>    <br><br>    <br><br>    <br><br>    <br><br>    <br><br>    <br><br>    <br><br>    <br><br>    <br><br>    <br><br>    <br><br>    <br><br>    <br><br>    <br><br>    <br><br>    <br><br>    <br><br>    <br><br>    <br><br>    <br><br>    <br><br>    <br><br>    <br><br>    <br><br>    <br><br>    <br><br>    <br><br>    <br><br>    <br><br>    <br><br>    <br><br>    <br><br>    <br><br>    <br><br>    <br><br>    <br><br>    <br><br>    <br><br>    <br><br>    <br><br>    <br><br>    <br><br>    <br><br>    <br><br>    <br><br>    <br><br>    <br><br>    <br><br>    <br><br>    <br><br>    <br><br>    <br><br>    <br><br>    <br><br>    <br><br>    <br><br>    <br><br>    <br><br>    <br><br>    <br><br>    <br><br>    <br><br>    <br><br>    <br><br>    <br><br>    <br><br>    <br><br>    <br><br>    <br><br>    <br><br>    <br><br>    <br><br>    <br><br>    <br><br>    <br><br>    <br><br>    <br><br>    <br><br>    <br><br>    <br><br>    <br><br>    <br><br>    <br><br>    <br><br>    <br><br>    <br><br>    <br><br>    <br><br>    <br><br>    <br><br>    <br><br>    <br><br>    <br><br>    <br><br>    <br><br>    <br><br>    <br><br>    <br><br>    <br><br>    <br><br>    <br><br>    <br><br>    <br><br>    <br><br>    <br><br>    <br><br>    <br><br>    <br><br>    <br><br>    <br><br>    <br><br>    <br><br>    <br><br>    <br><br>    <br><br>    <br><br>    <br><br>    <br><br>    <br><br>    <br><br>    <br><br>    <br><br>    <br><br>    <br><br>    <br><br>    <br><br>    <br><br>    <br><br>    <br><br>    <br><br>    <br><br>    <br><br>    <br><br>    <br><br>    <br><br>    <br><br>    <br><br>    <br><br>    <br><br>    <br><br>    <br><br>    <br><br>    <br><br>    <br><br>    <br><br>    <br><br>    <br><br>    <br><br>    <br><br>    <br><br>    <br><br>    <br><br>    <br><br>    <br><br>    <br><br>    <br><br>    <br><br>    <br><br>    <br><br>    <br><br>    <br><br>    <br><br>    <br><br>    <br><br>    <br><br>    <br><br>    <br><br>    <br><br>    <br><br>    <br><br>    <br><br>    <br><br>    <br><br>    <br><br>    <br><br>    <br><br>    <br><br>    <br><br>    <br><br>    <br><br>    <br><br>    <br><br>    <br><br>    <br><br>    <br><br>    <br><br>    <br><br>    <br><br>    <br><br>    <br><br>    <br><br>    <br><br>    <br><br>    <br><br>    <br><br>    <br><br>    <br><br>    <br><br>    <br><br>    <br><br>    <br><br>    <br><br>    <br><br>    <br><br>    <br><br>    <br><br>    <br><br>    <br><br>    <br><br>    <br><br>    <br><br>    <br><br>    <br><br>    <br><br>    <br><br>    <br><br>    <br><br>    <br><br>    <br><br>    <br><br>    <br><br>    <br><br>    <br><br>    <br><br>    <br><br>    <br><br>    <br><br>    <br><br>    <br><br>    <br><br>    <br><br>    <br><br>    <br><br>    <br><br>    <br><br>    <br><br>    <br><br>    <br><br>    <br><br>    <br><br>    <br><br>    <br><br>    <br><br>    <br><br>    <br><br>    <br><br>    <br><br>    <br><br>    <br><br>    <br><br>    <br><br>    <br><br>    <br><br>    <br><br>    <br><br>    <br><br>    <br><br>    <br><br>    <br><br>    <br><br>    <br><br>    <br><br>    <br><br>    <br><br>    <br><br>    <br><br>    <br><br>    <br><br>    <br><br>    <br><br>    <br><br>    <br><br>    <br><br>    <br><br>    <br><br>    <br><br>    <br><br>    <br><br>    <br><br>    <br><br>    <br><br>    <br><br>    <br><br>    <br><br>    <br><br>    <br><br>    <br><br>    <br><br>    <br><br>    <br><br>    <br><br>    <br><br>    <br><br>    <br><br>    <br><br>    <br><br>    <br><br>    <br><br>    <br><br>    <br><br>    <br><br>    <br><br>    <br><br>    <br><br>    <br><br>    <br><br>    <br><br>    <br><br>    <br><br>    <br><br>    <br><br>    <br><br>    <br><br>    <br><br>    <br><br>    <br><br>    <br><br>    <br><br>    <br><br>    <br><br>    <br><br>    <br><br>    <br><br>    <br><br>    <br><br>    <br><br>    <br><br>    <br><br>    <br><br>    <br><br>    <br><br>    <br><br>    <br><br>    <br><br>    <br><br>    <br><br>    <br><br>    <br><br>    <br><br>    <br><br>    <br><br>    <br><br>    <br><br>    <br><br>    <br><br>    <br><br>    <br><br>    <br><br>    <br><br>    <br><br>    <br><br>    <br><br>    <br><br>    <br><br>    <br><br>    <br><br>    <br><br>    <br><br>    <br><br>    <br><br>    <br><br>    <br><br>    <br><br>    <br><br>    <br><br>    <br><br>    <br><br>    <br><br>    <br><br>    <br><br>    <br><br>    <br><br>    <br><br>    <br><br>    <br><br>    <br><br>    <br><br>    <br><br>    <br><br>    <br><br>    <br><br>    <br><br>    <br><br>    <br><br>    <br><br>    <br><br>    <br><br>    <br><br>    <br><br>    <br><br>    <br><br>    <br><br>    <br><br>    <br><br>    <br><br>    <br><br>    <br><br>    <br><br>    <br><br>    <br><br>    <br><br>    <br><br>    <br><br>    <br><br>    <br><br>    <br><br>    <br><br>    <br><br>    <br><br>    <br><br>    <br><br>    <br><br>    <br><br>    <br><br>    <br><br>    <br><br>    <br><br>    <br><br>    <br><br>    <br><br>    <br><br>    <br><br>    <br><br>    <br><br>    <br><br>    <br><br>    <br><br>    <br><br>    <br><br>    <br><br>    <br><br>    <br><br>    <br><br>    <br><br>    <br><br>    <br><br>    <br><br>    <br><br>    <br><br>    <br><br>    <br><br>    <br><br>    <br><br>    <br><br>    <br><br>    <br><br>    <br><br>    <br><br>    <br><br>    <br><br>    <br><br>    <br><br>    <br><br>    <br><br>    <br><br>    <br><br>    <br><br>    <br><br>    <br><br>    <br><br>    <br><br>    <br><br>    <br><br>    <br><br>    <br><br>    <br><br>    <br><br>    <br><br>    <br><br>    <br><br>    <br><br>    <br><br>    <br><br>    <br><br>    <br><br>    <br><br>    <br><br>    <br><br>    <br><br>    <br><br>    <br><br>    <br><br>    <br><br>    <br><br>    <br><br>    <br><br>    <br><br>    <br><br>    <br><br>    <br><br>    <br><br>    <br><br>    <br><br>    <br><br>    <br><br>    <br><br>    <br><br>    <br><br>    <br><br>    <br><br>    <br><br>    <br><br>    <br><br>    <br><br>    <br><br>    <br><br>    <br><br>    <br><br>    <br><br>    <br><br>    <br><br>    <br><br>    <br><br>    <br><br>    <br><br>    <br><br>    <br><br>    <br><br>    <br><br>    <br><br>    <br><br>    <br><br>    <br><br>    <br><br>    <br><br>    <br><br>    <br><br>    <br><br>    <br><br>    <br><br>    <br><br>    <br><br>    <br><br>    <br><br>    <br><br>    <br><br>    <br><br>    <br><br>    <br><br>    <br><br>    <br><br>    <br><br>    <br><br>    <br><br>    <br><br>    <br><br>    <br><br>    <br><br>    <br><br>    <br><br>    <br><br>    <br><br>    <br><br>    <br><br>    <br><br>    <br><br>    <br><br>    <br><br>    <br><br>    <br><br>    <br><br>    <br><br>    <br><br>    <br><br>    <br><br>    <br><br>    <br><br>    <br><br>    <br><br>    <br><br>    <br><br>    <br><br>    <br><br>    <br><br>    <br><br>    <br><br>    <br><br>    <br><br>    <br><br>    <br><br>    <br><br>    <br><br>    <br><br>    <br><br>    <br><br>    <br><br>    <br><br>    <br><br>    <br><br>    <br><br>    <br><br>    <br><br>    <br><br>    <br><br>    <br><br>    <br><br>    <br><br>    <br><br>    <br><br>    <br><br>    <br><br>    <br><br>    <br><br>    <br><br>    <br><br>    <br><br>    <br><br>    <br><br>    <br><br>    <br><br>    <br><br>    <br><br>    <br><br>    <br><br>    <br><br>    <br><br>    <br><br>    <br><br>    <br><br>    <br><br>    <br><br>    <br><br>    <br><br>    <br><br>    <br><br>    <br><br>    <br><br>    <br><br>    <br><br>    <br><br>    <br><br>    <br><br>    <br><br>    <br><br>    <br><br>    <br><br>    <br><br>    <br><br>    <br><br>    <br><br>    <br><br>    <br><br>    <br><br>    <br><br>    <br><br>    <br><br>    <br><br>    <br><br>    <br><br>    <br><br>    <br><br>    <br><br>    <br><br>    <br><br>    <br><br>    <br><br>    <br><br>    <br><br>    <br><br>    <br><br>    <br><br>    <br><br>    <br><br>    <br><br>    <br><br>    <br><br>    <br><br>    <br><br>    <br><br>    <br><br>    <br><br>    <br><br>    <br><br>    <br><br>    <br><br>    <br><br>    <br><br>    <br><br>    <br><br>    <br><br>    <br><br>    <br><br>    <br><br>    <br><br>    <br><br>    <br><br>    <br><br>    <br><br>    <br><br>    <br><br>    <br><br>    <br><br>    <br><br>    <br><br>    <br><br>    <br><br>    <br><br>    <br><br>    <br><br>    <br><br>    <br><br>    <br><br>    <br><br>    <br><br>    <br><br>    <br><br>    <br><br>    <br><br>    <br><br>    <br><br>    <br><br>    <br><br>    <br><br>    <br><br>    <br><br>    <br><br>    <br><br>    <br><br>    <br><br>    <br><br>    <br><br>    <br><br>    <br><br>    <br><br>    <br><br>    <br><br>    <br><br>    <br><br>    <br><br>    <br><br>    <br><br>    <br><br>    <br><br>    <br><br>    <br><br>    <br><br>    <br><br>    <br><br>    <br><br>    <br><br>    <br><br>    <br><br>    <br><br>    <br><br>    <br><br>    <br><br>    <br><br>    <br><br>    <br><br>    <br><br>    <br><br>    <br><br>    <br><br>    <br><br>    <br><br>    <br><br>    <br><br>    <br><br>    <br><br>    <br><br>    <br><br>    <br><br>    <br><br>    <br><br>    <br><br>    <br><br>    <br><br>    <br><br>    <br><br>    <br><br>    <br><br>    <br><br>    <br><br>    <br><br>    <br><br>    <br><br>    <br><br>    <br><br>    <br><br>    <br><br>    <br><br>    <br><br>    <br><br>    <br><br>    <br><br>    <br><br>    <br><br>    <br><br>    <br><br>    <br><br>    <br><br>    <br><br>    <br><br>    <br><br>    <br><br>    <br><br>    <br><br>    <br><br>    <br><br>    <br><br>    <br><br>    <br><br>    <br><br>    <br><br>    <br><br>    <br><br>    <br><br>    <br><br>    <br><br>    <br><br>    <br><br>    <br><br>    <br><br>    <br><br>    <br><br>    <br><br>    <br><br>    <br><br>    <br><br>    <br><br>    <br><br>    <br><br>    <br><br>    <br><br>    <br><br>    <br><br>    <br><br>    <br><br>    <br><br>    <br><br>    <br><br>    <br><br>    <br><br>    <br><br>    <br><br>    <br><br>    <br><br>    <br><br>    <br><br>    <br><br>    <br><br>    <br><br>    <br><br>    <br><br>    <br><br>    <br><br>    <br><br>    <br><br>    <br><br>    <br><br>    <br><br>    <br><br>    <br><br>    <br><br>    <br><br>    <br><br>    <br><br>    <br><br>    <br><br>    <br><br>    <br><br>    <br><br>    <br><br>    <br><br>    <br><br>    <br><br>    <br><br>    <br><br>    <br><br>    <br><br>    <br><br>    <br><br>    <br><br>    <br><br>    <br><br>    <br><br>    <br><br>    <br><br>    <br><br>    <br><br>    <br><br>    <br><br>    <br><br>    <br><br>    <br><br>    <br><br>    <br><br>    <br><br>    <br><br>    <br><br>    <br><br>    <br><br>    <br><br>    <br><br>    <br><br>    <br><br>    <br><br>    <br><br>    <br><br>    <br><br>    <br><br>    <br><br>    <br><br>    <br><br>    <br><br>    <br><br>    <br><br>    <br><br>    <br><br>    <br><br>    <br><br>    <br><br>    <br><br>    <br><br>    <br><br>    <br><br>    <br><br>    <br><br>    <br><br>    <br><br>    <br><br>    <br><br>    <br><br>    <br><br>    <br><br>    <br><br>    <br><br>    <br><br>    <br><br>    <br><br>    <br><br>    <br><br>    <br><br>    <br><br>    <br><br>    <br><br>    <br><br>    <br><br>    <br><br>    <br><br>    <br><br>    <br><br>    <br><br>    <br><br>    <br><br>    <br><br>    <br><br>    <br><br>    <br><br>    <br><br>    <br><br>    <br><br>    <br><br>    <br><br>    <br><br>    <br><br>    <br><br>    <br><br>    <br><br>    <br><br>    <br><br>    <br><br>    <br><br>    <br><br>    <br><br>    <br><br>    <br><br>    <br><br>    <br><br>    <br><br>    <br><br>    <br><br>    <br><br>    <br><br>    <br><br>    <br><br>    <br><br>    <br><br>    <br><br>    <br><br>    <br><br>    <br><br>    <br><br>    <br><br>    <br><br>    <br><br>    <br><br>    <br><br>    <br><br>    <br><br>    <br><br>    <br><br>    <br><br>    <br><br>    <br><br>    <br><br>    <br><br>    <br><br>    <br><br>    <br><br>    <br><br>    <br><br>    <br><br>    <br><br>    <br><br>    <br><br>    <br><br>    <br><br>    <br><br>    <br><br>    <br><br>    <br><br>    <br><br>    <br><br>    <br><br>    <br><br>    <br><br>    <br><br>    <br><br>    <br><br>    <br><br>    <br><br>    <br><br>    <br><br>    <br><br>    <br><br>    <br><br>    <br><br>    <br><br>    <br><br>    <br><br>    <br><br>    <br><br>    <br><br>    <br><br>    <br><br>    <br><br>    <br><br>    <br><br>    <br><br>    <br><br>    <br><br>    <br><br>    <br><br>    <br><br>    <br><br>    <br><br>    <br><br>    <br><br>    <br><br>    <br><br>    <br><br>    <br><br>    <br><br>    <br><br>    <br><br>    <br><br>    <br><br>    <br><br>    <br><br>    <br><br>    <br><br>    <br><br>    <br><br>    <br><br>    <br><br>    <br><br>    <br><br>    <br><br>    <br><br>    <br><br>    <br><br>    <br><br>    <br><br>    <br><br>    <br><br>    <br><br>    <br><br>    <br><br>    <br><br>    <br><br>    <br><br>    <br><br>    <br><br>    <br><br>    <br><br>    <br><br>    <br><br>    <br><br>    <br><br>    <br><br>    <br><br>    <br><br>    <br><br>    <br><br>    <br><br>    <br><br>    <br><br>    <br><br>    <br><br>    <br><br>    <br><br>    <br><br>    <br><br>    <br><br>    <br><br>    <br><br>    <br><br>    <br><br>    <br><br>    <br><br>    <br><br>    <br><br>    <br><br>    <br><br>    <br><br>    <br><br>    <br><br>    <br><br>    <br><br>    <br><br>    <br><br>    <br><br>    <br><br>    <br><br>    <br><br>    <br><br>    <br><br>    <br><br>    <br><br>    <br><br>    <br><br>    <br><br>    <br><br>    <br><br>    <br><br>    <br><br>    <br><br>    <br><br>    <br><br>    <br><br>    <br><br>    <br><br>    <br><br>    <br><br>    <br><br>    <br><br>    <br><br>    <br><br>    <br><br>    <br><br>    <br><br>    <br><br>    <br><br>    <br><br>    <br><br>    <br><br>    <br><br>    <br><br>    <br><br>    <br><br>    <br><br>    <br><br>    <br><br>    <br><br>    <br><br>    <br><br>    <br><br>    <br><br>    <br><br>    <br><br>    <br><br>    <br><br>    <br><br>    <br><br>    <br><br>    <br><br>    <br><br>    <br><br>    <br><br>    <br><br>    <br><br>    <br><br>    <br><br>    <br><br>    <br><br>    <br><br>    <br><br>    <br><br>    <br><br>    <br><br>    <br><br>    <br><br>    <br><br>    <br><br>    <br><br>    <br><br>    <br><br>    <br><br>    <br><br>    <br><br>    <br><br>    <br><br>    <br><br>    <br><br>    <br><br>    <br><br>    <br><br>    <br><br>    <br><br>    <br><br>    <br><br>    <br><br>    <br><br>    <br><br>    <br><br>    <br><br>    <br><br>    <br><br>    <br><br>    <br><br>    <br><br>    <br><br>    <br><br>    <br><br>    <br><br>    <br><br>    <br><br>    <br><br>    <br><br>    <br><br>    <br><br>    <br><br>    <br><br>    <br><br>    <br><br>    <br><br>    <br><br>    <br><br>    <br><br>    <br><br>    <br><br>    <br><br>    <br><br>    <br><br>    <br><br>    <br><br>    <br><br>    <br><br>    <br><br>    <br><br>    <br><br>    <br><br>    <br><br>    <br><br>    <br><br>    <br><br>    <br><br>    <br><br>    <br><br>    <br><br>    <br><br>    <br><br>    <br><br>    <br><br>    <br><br>    <br><br>    <br><br>    <br><br>    <br><br>    <br><br>    <br><br>    <br><br>    <br><br>    <br><br>    <br><br>    <br><br>    <br><br>    <br><br>    <br><br>    <br><br>    <br><br>    <br><br>    <br><br>    <br><br>    <br><br>    <br><br>    <br><br>    <br><br>    <br><br>    <br><br>    <br><br>    <br><br>    <br><br>    <br><br>    <br><br>    <br><br>    <br><br>    <br><br>    <br><br>    <br><br>    <br><br>    <br><br>    <br><br>    <br><br>    <br><br>    <br><br>    <br><br>    <br><br>    <br><br>    <br><br>    <br><br>    <br><br>    <br><br>    <br><br>    <br><br>    <br><br>    <br><br>    <br><br>    <br><br>    <br><br>    <br><br>    <br><br>    <br><br>    <br><br>    <br><br>    <br><br>    <br><br>    <br><br>    <br><br>    <br><br>    <br><br>    <br><br>    <br><br>    <br><br>    <br><br>    <br><br>    <br><br>    <br><br>    <br><br>    <br><br>    <br><br>    <br><br>    <br><br>    <br><br>    <br><br>    <br><br>    <br><br>    <br><br>    <br><br>    <br><br>    <br><br>    <br><br>    <br><br>    <br><br>    <br><br>    <br><br>    <br><br>    <br><br>    <br><br>    <br><br>    <br><br>    <br><br>    <br><br>    <br><br>    <br><br>    <br><br>    <br><br>    <br><br>    <br><br>    <br><br>    <br><br>    <br><br>    <br><br>    <br><br>    <br><br>    <br><br>    <br><br>    <br><br>    <br><br>    <br><br>    <br><br>    <br><br>    <br><br>    <br><br>    <br><br>    <br><br>    <br><br>    <br><br>    <br><br>    <br><br>    <br><br>    <br><br>    <br><br>    <br><br>    <br><br>    <br><br>    <br><br>    <br><br>    <br><br>    <br><br>    <br><br>    <br><br>    <br><br>    <br><br>    <br><br>    <br><br>    <br><br>    <br><br>    <br><br>    <br><br>    <br><br>    <br><br>    <br><br>    <br><br>    <br><br>    <br><br>    <br><br>    <br><br>    <br><br>    <br><br>    <br><br>    <br><br>    <br><br>    <br><br>    <br><br>    <br><br>    <br><br>    <br><br>    <br><br>    <br><br>    <br><br>    <br><br>    <br><br>    <br><br>    <br><br>    <br><br>    <br><br>    <br><br>    <br><br>    <br><br>    <br><br>    <br><br>    <br><br>    <br><br>    <br><br>    <br><br>    <br><br>    <br><br>    <br><br>    <br><br>    <br><br>    <br><br>    <br><br>    <br><br>    <br><br>    <br><br>    <br><br>    <br><br>    <br><br>    <br><br>    <br><br>    <br><br>    <br><br>    <br><br>    <br><br>    <br><br>    <br><br>    <br><br>    <br><br>    <br><br>    <br><br>    <br><br>    <br><br>    <br><br>    <br><br>    <br><br>    <br><br>    <br><br>    <br><br>    <br><br>    <br><br>    <br><br>    <br><br>    <br><br>    <br><br>    <br><br>    <br><br>    <br><br>    <br><br>    <br><br>    <br><br>    <br><br>    <br><br>    <br><br>    <br><br>    <br><br>    <br><br>    <br><br>    <br><br>    <br><br>    <br><br>    <br><br>    <br><br>    <br><br>    <br><br>    <br><br>    <br><br>    <br><br>    <br><br>    <br><br>    <br><br>    <br><br>    <br><br>    <br><br>    <br><br>    <br><br>    <br><br>    <br><br>    <br><br>    <br><br>    <br><br>    <br><br>    <br><br>    <br><br>    <br><br>    <br><br>    <br><br>    <br><br>    <br><br>    <br><br>    <br><br>    <br><br>    <br><br>    <br><br>    <br><br>    <br><br>    <br><br>    <br><br>    <br><br>    <br><br>    <br><br>    <br><br>    <br><br>    <br><br>    <br><br>    <br><br>    <br><br>    <br><br>    <br><br>    <br><br>    <br><br>    <br><br>    <br><br>    <br><br>    <br><br>    <br><br>    <br><br>    <br><br>    <br><br>    <br><br>    <br><br>    <br><br>    <br><br>    <br><br>    <br><br>    <br><br>    <br><br>    <br><br>    <br><br>    <br><br>    <br><br>    <br><br>    <br><br>    <br><br>    <br><br>    <br><br>    <br><br>    <br><br>    <br><br>    <br><br>    <br><br>    <br><br>    <br><br>    <br><br>    <br><br>    <br><br>    <br><br>    <br><br>    <br><br>    <br><br>    <br><br>    <br><br>    <br><br>    <br><br>    <br><br>    <br><br>    <br><br>    <br><br>    <br><br>    <br><br>    <br><br>    <br><br>    <br><br>    <br><br>    <br><br>    <br><br>    <br><br>    <br><br>    <br><br>    <br><br>    <br><br>    <br><br>    <br><br>    <br><br>    <br><br>    <br><br>    <br><br>    <br><br>    <br><br>    <br><br>    <br><br>    <br><br>    <br><br>    <br><br>    <br><br>    <br><br>    <br><br>    <br><br>    <br><br>    <br><br>    <br><br>    <br><br>    <br><br>    <br><br>    <br><br>    <br><br>    <br><br>    <br><br>    <br><br>    <br><br>    <br><br>    <br><br>    <br><br>    <br><br>    <br><br>    <br><br>    <br><br>    <br><br>    <br><br>    <br><br>    <br><br>    <br><br>    <br><br>    <br><br>    <br><br>    <br><br>    <br><br>    <br><br>    <br><br>    <br><br>    <br><br>    <br><br>    <br><br>    <br><br>    <br><br>    <br><br>    <br><br>    <br><br>    <br><br>    <br><br>    <br><br>    <br><br>    <br><br>    <br><br>    <br><br>    <br><br>    <br><br>    <br><br>    <br><br>    <br><br>    <br><br>    <br><br>    <br><br>    <br><br>    <br><br>    <br><br>    <br><br>    <br><br>    <br><br>    <br><br>    <br><br>    <br><br>    <br><br>    <br><br>    <br><br>    <br><br>    <br><br>    <br><br>    <br><br>    <br><br>    <br><br>    <br><br>    <br><br>    <br><br>    <br><br>    <br><br>    <br><br>    <br><br>    <br><br>    <br><br>    <br><br>    <br><br>    <br><br>    <br><br>    <br><br>    <br><br>    <br><br>    <br><br>    <br><br>    <br><br>    <br><br>    <br><br>    <br><br>    <br><br>    <br><br>    <br><br>    <br><br>    <br><br>    <br><br>    <br><br>    <br><br>    <br><br>    <br><br>    <br><br>    <br><br>    <br><br>    <br><br>    <br><br>    <br><br>    <br><br>    <br><br>    <br><br>    <br><br>    <br><br>    <br><br>    <br><br>    <br><br>    <br><br>    <br><br>    <br><br>    <br><br>    <br><br>    <br><br>    <br><br>    <br><br>    <br><br>    <br><br>    <br><br>    <br><br>    <br><br>    <br><br>    <br><br>    <br><br>    <br><br>    <br><br>    <br><br>    <br><br>    <br><br>    <br><br>    <br><br>    <br><br>    <br><br>    <br><br>    <br><br>    <br><br>    <br><br>    <br><br>    <br><br>    <br><br>    <br><br>    <br><br>    <br><br>    <br><br>    <br><br>    <br><br>    <br><br>    <br><br>    <br><br>    <br><br>    <br><br>    <br><br>    <br><br>    <br><br>    <br><br>    <br><br>    <br><br>    <br><br>    <br><br>    <br><br>    <br><br>    <br><br>    <br><br>    <br><br>    <br><br>    <br><br>    <br><br>    <br><br>    <br><br>    <br><br>    <br><br>    <br><br>    <br><br>    <br><br>    <br><br>    <br><br>    <br><br>    <br><br>    <br><br>    <br><br>    <br><br>    <br><br>    <br><br>    <br><br>    <br><br>    <br><br>    <br><br>    <br><br>    <br><br>    <br><br>    <br><br>    <br><br>    <br><br>    <br><br>    <br><br>    <br><br>    <br><br>    <br><br>    <br><br>    <br><br>    <br><br>    <br><br>    <br><br>    <br><br>    <br><br>    <br><br>    <br><br>    <br><br>    <br><br>    <br><br>    <br><br>    <br><br>    <br><br>    <br><br>    <br><br>    <br><br>    <br><br>    <br><br>    <br><br>    <br><br>    <br><br>    <br><br>    <br><br>    <br><br>    <br><br>    <br><br>    <br><br>    <br><br>    <br><br>    <br><br>    <br><br>    <br><br>    <br><br>    <br><br>    <br><br>    <br><br>    <br><br>    <br><br>    <br><br>    <br><br>    <br><br>    <br><br>    <br><br>    <br><br>    <br><br>    <br><br>    <br><br>    <br><br>    <br><br>    <br><br>    <br><br>    <br><br>    <br><br>    <br><br>    <br><br>    <br><br>    <br><br>    <br><br>    <br><br>    <br><br>    <br><br>    <br><br>    <br><br>    <br><br>    <br><br>    <br><br>    <br><br>    <br><br>    <br><br>    <br><br>    <br><br>    <br><br>    <br><br>    <br><br>    <br><br>    <br><br>    <br><br>    <br><br>    <br><br>    <br><br>    <br><br>    <br><br>    <br><br>    <br><br>    <br><br>    <br><br>    <br><br>    <br><br>    <br><br>    <br><br>    <br><br>    <br><br>    <br><br>    <br><br>    <br><br>    <br><br>    <br><br>    <br><br>    <br><br>    <br><br>    <br><br>    <br><br>    <br><br>    <br><br>    <br><br>    <br><br>    <br><br>    <br><br>    <br><br>    <br><br>    <br><br>    <br><br>    <br><br>    <br><br>    <br><br>    <br><br>    <br><br>    <br><br>    <br><br>    <br><br>    <br><br>    <br><br>    <br><br>    <br><br>    <br><br>    <br><br>    <br><br>    <br><br>    <br><br>    <br><br>    <br><br>    <br><br>    <br><br>    <br><br>    <br><br>    <br><br>    <br><br>    <br><br>    <br><br>    <br><br>    <br><br>    <br><br>    <br><br>    <br><br>    <br><br>    <br><br>    <br><br>    <br><br>    <br><br>    <br><br>    <br><br>    <br><br>    <br><br>    <br><br>    <br><br>    <br><br>    <br><br>    <br><br>    <br><br>    <br><br>    <br><br>    <br><br>    <br><br>    <br><br>    <br><br>    <br><br>    <br><br>    <br><br>    <br><br>    <br><br>    <br><br>    <br><br>    <br><br>    <br><br>    <br><br>    <br><br>    <br><br>    <br><br>    <br><br>    <br><br>    <br><br>    <br><br>    <br><br>    <br><br>    <br><br>    <br><br>    <br><br>    <br><br>    <br><br>    <br><br>    <br><br>    <br><br>    <br><br>    <br><br>    <br><br>    <br><br>    <br><br>    <br><br>    <br><br>    <br><br>    <br><br>    <br><br>    <br><br>    <br><br>    <br><br>    <br><br>    <br><br>    <br><br>    <br><br>    <br><br>    <br><br>    <br><br>    <br><br>    <br><br>    <br><br>    <br><br>    <br><br>    <br><br>    <br><br>    <br><br>    <br><br>    <br><br>    <br><br>    <br><br>    <br><br>    <br><br>    <br><br>    <br><br>    <br><br>    <br><br>    <br><br>    <br><br>    <br><br>    <br><br>    <br><br>    <br><br>    <br><br>    <br><br>    <br><br>    <br><br>    <br><br>    <br><br>    <br><br>    <br><br>    <br><br>    <br><br>    <br><br>    <br><br>    <br><br>    <br><br>    <br><br>    <br><br>    <br><br>    <br><br>    <br><br>    <br><br>    <br><br>    <br><br>    <br><br>    <br><br>    <br><br>    <br><br>    <br><br>    <br><br>    <br><br>    <br><br>    <br><br>    <br><br>    <br><br>    <br><br>    <br><br>    <br><br>    <br><br>    <br><br>    <br><br>    <br><br>    <br><br>    <br><br>    <br><br>    <br><br>    <br><br>    <br><br>    <br><br>    <br><br>    <br><br>    <br><br>    <br><br>    <br><br>    <br><br>    <br><br>    <br><br>    <br><br>    <br><br>    <br><br>    <br><br>    <br><br>    <br><br>    <br><br>    <br><br>    <br><br>    <br><br>    <br><br>    <br><br>    <br><br>    <br><br>    <br><br>    <br><br>    <br><br>    <br><br>    <br><br>    <br><br>    <br><br>    <br><br>    <br><br>    <br><br>    <br><br>    <br><br>    <br><br>    <br><br>    <br><br>    <br><br>    <br><br>    <br><br>    <br><br>    <br><br>    <br><br>    <br><br>    <br><br>    <br><br>    <br><br>    <br><br>    <br><br>    <br><br>    <br><br>    <br><br>   <br><br>    <br><br>    <br><br>    <br><br>    <br><br>    <br><br>    <br><br>    <br><br>    <br><br>    <br><br>    <br><br>    <br><br>    <br><br>    <br><br>    <br><br>    <br><br>    <br><br>    <br><br>    <br><br>    <br><br>    <br><br>    <br><br>    <br><br>    <br><br>    <br><br>    <br><br>    <br><br>    <br><br>    <br><br>    <br><br>    <br><br>    <br><br>    <br><br>    <br><br>    <br><br>    <br><br>    <br><br>    <br><br>    <br><br>    <br><br>    <br><br>    <br><br>    <br><br>    <br><br>    <br><br>    <br><br>    <br><br>    <br><br>    <br><br>    <br><br>    <br><br>    <br><br>    <br><br>    <br><br>    <br><br>    <br><br>    <br><br>    <br><br>    <br><br>    <br><br>    <br><br>    <br><br>    <br><br>    <br><br>    <br><br>    <br><br>    <br><br>    <br><br>    <br><br>    <br><br>    <br><br>    <br><br>    <br><br>    <br><br>    <br><br>    <br><br>    <br><br>    <br><br>    <br><br>    <br><br>    <br><br>    <br><br>    <br><br>    <br><br>    <br><br>    <br><br>    <br><br>    <br><br>    <br><br>    <br><br>    <br><br>    <br><br>    <br><br>    <br><br>    <br><br>    <br><br>    <br><br>    <br><br>    <br><br>    <br><br>    <br><br>    <br><br>    <br><br>    <br><br>    <br><br>    <br><br>    <br><br>    <br><br>    <br><br>    <br><br>    <br><br>    <br><br>    <br><br>    <br><br>    <br><br>    <br><br>    <br><br>    <br><br>    <br><br>    <br><br>    <br><br>    <br><br>    <br><br>    <br><br>    <br><br>    <br><br>    <br><br>    <br><br>    <br><br>    <br><br>    <br><br>    <br><br>    <br><br>    <br><br>    <br><br>    <br><br>    <br><br>    <br><br>    <br><br>    <br><br>    <br><br>    <br><br>    <br><br>    <br><br>    <br><br>    <br><br>    <br><br>    <br><br>    <br><br>    <br><br>    <br><br>    <br><br>    <br><br>    <br><br>    <br><br>    <br><br>    <br><br>    <br><br>    <br><br>    <br><br>    <br><br>    <br><br>    <br><br>    <br><br>    <br><br>    <br><br>    <br><br>    <br><br>    <br><br>    <br><br>    <br><br>    <br><br>    <br><br>    <br><br>    <br><br>    <br><br>    <br><br>    <br><br>    <br><br>    <br><br>    <br><br>    <br><br>    <br><br>    <br><br>    <br><br>    <br><br>    <br><br>    <br><br>    <br><br>    <br><br>    <br><br>    <br><br>    <br><br>    <br><br>    <br><br>    <br><br>    <br><br>    <br><br>    <br><br>    <br><br>    <br><br>    <br><br>    <br><br>    <br><br>    <br><br>    <br><br>    <br><br>    <br><br>    <br><br>    <br><br>    <br><br>    <br><br>    <br><br>    <br><br>    <br><br>    <br><br>    <br><br>    <br><br>    <br><br>    <br><br>    <br><br>    <br><br>    <br><br>    <br><br>    <br><br>    <br><br>    <br><br>    <br><br>    <br><br>    <br><br>    <br><br>    <br><br>    <br><br>    <br><br>    <br><br>    <br><br>    <br><br>    <br><br>    <br><br>    <br><br>    <br><br>    <br><br>    <br><br>    <br><br>    <br><br>    <br><br>    <br><br>    <br><br>    <br><br>    <br><br>    <br><br>    <br><br>    <br><br>    <br><br>    <br><br>    <br><br>    <br><br>    <br><br>    <br><br>    <br><br>    <br><br>    <br><br>    <br><br>    <br><br>    <br><br>    <br><br>    <br><br>    <br><br>    <br><br>    <br><br>    <br><br>    <br><br>    <br><br>    <br><br>    <br><br>    <br><br>    <br><br>    <br><br>    <br><br>    <br><br>    <br><br>    <br><br>    <br><br>    <br><br>    <br><br>    <br><br>    <br><br>    <br><br>    <br><br>    <br><br>    <br><br>    <br><br>    <br><br>    <br><br>    <br><br>    <br><br>    <br><br>    <br><br>    <br><br>    <br><br>    <br><br>    <br><br>    <br><br>    <br><br>    <br><br>    <br><br>    <br><br>    <br><br>    <br><br>    <br><br>    <br><br>    <br><br>    <br><br>    <br><br>    <br><br>    <br><br>    <br><br>    <br><br>    <br><br>    <br><br>    <br><br>    <br><br>    <br><br>    <br><br>    <br><br>    <br><br>    <br><br>    <br><br>    <br><br>    <br><br>    <br><br>    <br><br>    <br><br>    <br><br>    <br><br>    <br><br>    <br><br>    <br><br>    <br><br>    <br><br>    <br><br>    <br><br>    <br><br>    <br><br>    <br><br>    <br><br>    <br><br>    <br><br>    <br><br>    <br><br>    <br><br>    <br><br>    <br><br>    <br><br>    <br><br>    <br><br>    <br><br>    <br><br>    <br><br>    <br><br>    <br><br>    <br><br>    <br><br>    <br><br>    <br><br>    <br><br>    <br><br>    <br><br>    <br><br>    <br><br>    <br><br>    <br><br>    <br><br>    <br><br>    <br><br>    <br><br>    <br><br>    <br><br>    <br><br>    <br><br>    <br><br>    <br><br>    <br><br>    <br><br>    <br><br>    <br><br>    <br><br>    <br><br>    <br><br>    <br><br>    <br><br>    <br><br>    <br><br>    <br><br>    <br><br>    <br><br>    <br><br>    <br><br>    <br><br>    <br><br>    <br><br>    <br><br>    <br><br>    <br><br>    <br><br>    <br><br>    <br><br>    <br><br>    <br><br>    <br><br>    <br><br>    <br><br>    <br><br>    <br><br>    <br><br>    <br><br>    <br><br>    <br><br>    <br><br>    <br><br>    <br><br>    <br><br>    <br><br>    <br><br>    <br><br>    <br><br>    <br><br>    <br><br>    <br><br>    <br><br>    <br><br>    <br><br>    <br><br>    <br><br>    <br><br>    <br><br>    <br><br>    <br><br>    <br><br>    <br><br>    <br><br>    <br><br>    <br><br>    <br><br>    <br><br>    <br><br>    <br><br>    <br><br>    <br><br>    <br><br>    <br><br>    <br><br>    <br><br>    <br><br>    <br><br>    <br><br>    <br><br>    <br><br>    <br><br>    <br><br>    <br><br>    <br><br>    <br><br>    <br><br>    <br><br>    <br><br>    <br><br>    <br><br>    <br><br>    <br><br>    <br><br>    <br><br>    <br><br>    <br><br>    <br><br>    <br><br>    <br><br>    <br><br>    <br><br>    <br><br>    <br><br>    <br><br>    <br><br>    <br><br>    <br><br>    <br><br>    <br><br>    <br><br>    <br><br>    <br><br>    <br><br>    <br><br>    <br><br>    <br><br>    <br><br>    <br><br>    <br><br>    <br><br>    <br><br>    <br><br>    <br><br>    <br><br>    <br><br>    <br><br>    <br><br>    <br><br>    <br><br>    <br><br>    <br><br>    <br><br>    <br><br>    <br><br>    <br><br>    <br><br>    <br><br>    <br><br>    <br><br>    <br><br>    <br><br>    <br><br>    <br><br>    <br><br>    <br><br>    <br><br>    <br><br>    <br><br>    <br><br>    <br><br>    <br><br>    <br><br>    <br><br>    <br><br>    <br><br>    <br><br>    <br><br>    <br><br>    <br><br>    <br><br>    <br><br>    <br><br>    <br><br>    <br><br>    <br><br>    <br><br>    <br><br>    <br><br>    <br><br>    <br><br>    <br><br>    <br><br>    <br><br>    <br><br>    <br><br>    <br><br>    <br><br>    <br><br>    <br><br>    <br><br>    <br><br>    <br><br>    <br><br>    <br><br>    <br><br>    <br><br>    <br><br>    <br><br>    <br><br>    <br><br>    <br><br>    <br><br>    <br><br>    <br><br>    <br><br>    <br><br>    <br><br>    <br><br>    <br><br>    <br><br>    <br><br>    <br><br>    <br><br>    <br><br>    <br><br>    <br><br>    <br><br>    <br><br>    <br><br>    <br><br>    <br><br>    <br><br>    <br><br>    <br><br>    <br><br>    <br><br>    <br><br>    <br><br>    <br><br>    <br><br>    <br><br>    <br><br>    <br><br>    <br><br>    <br><br>    <br><br>    <br><br>    <br><br>    <br><br>    <br><br>    <br><br>    <br><br>    <br><br>    <br><br>    <br><br>    <br><br>    <br><br>    <br><br>    <br><br>    <br><br>    <br><br>    <br><br>    <br><br>    <br><br>    <br><br>    <br><br>    <br><br>    <br><br>    <br><br>    <br><br>    <br><br>    <br><br>    <br><br>    <br><br>    <br><br>    <br><br>    <br><br>    <br><br>    <br><br>    <br><br>    <br><br>    <br><br>    <br><br>    <br><br>    <br><br>    <br><br>    <br><br>    <br><br>    <br><br>    <br><br>    <br><br>    <br><br>    <br><br>    <br><br>    <br><br>    <br><br>    <br><br>    <br><br>    <br><br>    <br><br>    <br><br>    <br><br>    <br><br>    <br><br>    <br><br>    <br><br>    <br><br>    <br><br>    <br><br>    <br><br>    <br><br>    <br><br>    <br><br>    <br><br>    <br><br>    <br><br>    <br><br>    <br><br>    <br><br>    <br><br>    <br><br>    <br><br>    <br><br>    <br><br>    <br><br>    <br><br>    <br><br>    <br><br>    <br><br>    <br><br>    <br><br>    <br><br>    <br><br>    <br><br>    <br><br>    <br><br>    <br><br>    <br><br>    <br><br>    <br><br>    <br><br>    <br><br>    <br><br>    <br><br>    <br><br>    <br><br>    <br><br>    <br><br>    <br><br>    <br><br>    <br><br>    <br><br>    <br><br>    <br><br>    <br><br>    <br><br>    <br><br>    <br><br>    <br><br>    <br><br>    <br><br>    <br><br>    <br><br>    <br><br>    <br><br>    <br><br>    <br><br>    <br><br>    <br><br>    <br><br>    <br><br>    <br><br>    <br><br>    <br><br>    <br><br>    <br><br>    <br><br>    <br><br>    <br><br>    <br><br>    <br><br>    <br><br>    <br><br>    <br><br>    <br><br>    <br><br>    <br><br>    <br><br>    <br><br>    <br><br>    <br><br>    <br><br>    <br><br>    <br><br>    <br><br>    <br><br>    <br><br>    <br><br>    <br><br>    <br><br>    <br><br>    <br><br>    <br><br>    <br><br>    <br><br>    <br><br>    <br><br>    <br><br>    <br><br>    <br><br>    <br><br>    <br><br>    <br><br>    <br><br>    <br><br>    <br><br>    <br><br>    <br><br>    <br><br>    <br><br>    <br><br>    <br><br>    <br><br>    <br><br>    <br><br>    <br><br>    <br><br>    <br><br>    <br><br>    <br><br>    <br><br>    <br><br>    <br><br>    <br><br>    <br><br>    <br><br>    <br><br>    <br><br>    <br><br>    <br><br>    <br><br>    <br><br>    <br><br>    <br><br>    <br><br>    <br><br>    <br><br>    <br><br>    <br><br>    <br><br>    <br><br>    <br><br>    <br><br>    <br><br>    <br><br>    <br><br>    <br><br>    <br><br>    <br><br>    <br><br>    <br><br>    <br><br>    <br><br>    <br><br>    <br><br>    <br><br>    <br><br>    <br><br>    <br><br>    <br><br>    <br><br>    <br><br>    <br><br>    <br><br>    <br><br>    <br><br>    <br><br>    <br><br>    <br><br>    <br><br>    <br><br>    <br><br>    <br><br>    <br><br>    <br><br>    <br><br>    <br><br>    <br><br>    <br><br>    <br><br>    <br><br>    <br><br>    <br><br>    <br><br>    <br><br>    <br><br>    <br><br>    <br><br>    <br><br>    <br><br>    <br><br>    <br><br>    <br><br>    <br><br>    <br><br>    <br><br>    <br><br>    <br><br>    <br><br>    <br><br>    <br><br>    <br><br>    <br><br>    <br><br>    <br><br>    <br><br>    <br><br>    <br><br>    <br><br>    <br><br>    <br><br>    <br><br>    <br><br>    <br><br>    <br><br>    <br><br>    <br><br>    <br><br>    <br><br>    <br><br>    <br><br>    <br><br>    <br><br>    <br><br>    <br><br>    <br><br>    <br><br>    <br><br>    <br><br>    <br><br>    <br><br>    <br><br>    <br><br>    <br><br>    <br><br>    <br><br>    <br><br>    <br><br>    <br><br>    <br><br>    <br><br>    <br><br>    <br><br>    <br><br>    <br><br>    <br><br>    <br><br>    <br><br>    <br><br>    <br><br>    <br><br>    <br><br>    <br><br>    <br><br>    <br><br>    <br><br>    <br><br>    <br><br>    <br><br>    <br><br>    <br><br>    <br><br>    <br><br>    <br><br>    <br><br>    <br><br>    <br><br>    <br><br>    <br><br>    <br><br>    <br><br>    <br><br>    <br><br>    <br><br>    <br><br>    <br><br>    <br><br>    <br><br>    <br><br>    <br><br>    <br><br>    <br><br>    <br><br>    <br><br>    <br><br>    <br><br>    <br><br>    <br><br>    <br><br>    <br><br>    <br><br>    <br><br>    <br><br>    <br><br>    <br><br>    <br><br>    <br><br>    <br><br>    <br><br>    <br><br>    <br><br>    <br><br>    <br><br>    <br><br>    <br><br>    <br><br>    <br><br>    <br><br>    <br><br>    <br><br>    <br><br>    <br><br>    <br><br>    <br><br>    <br><br>    <br><br>    <br><br>    <br><br>    <br><br>    <br><br>    <br><br>    <br><br>    <br><br>    <br><br>    <br><br>    <br><br>    <br><br>    <br><br>    <br><br>    <br><br>    <br><br>    <br><br>    <br><br>    <br><br>    <br><br>    <br><br>    <br><br>    <br><br>    <br><br>    <br><br>    <br><br>    <br><br>    <br><br>    <br><br>    <br><br>    <br><br>    <br><br>    <br><br>    <br><br>    <br><br>    <br><br>    <br><br>    <br><br>    <br><br>    <br><br>    <br><br>    <br><br>    <br><br>    <br><br>    <br><br>    <br><br>    <br><br>    <br><br>    <br><br>    <br><br>    <br><br>    <br><br>    <br><br>    <br><br>    <br><br>    <br><br>    <br><br>    <br><br>    <br><br>    <br><br>    <br><br>    <br><br>    <br><br>    <br><br>    <br><br>    <br><br>    <br><br>    <br><br>    <br><br>    <br><br>    <br><br>    <br><br>    <br><br>    <br><br>    <br><br>    <br><br>    <br><br>    <br><br>    <br><br>    <br><br>    <br><br>    <br><br>    <br><br>    <br><br>    <br><br>    <br><br>    <br><br>    <br><br>    <br><br>    <br><br>    <br><br>    <br><br>    <br><br>    <br><br>    <br><br>    <br><br>    <br><br>    <br><br>    <br><br>    <br><br>    <br><br>    <br><br>    <br><br>    <br><br>    <br><br>    <br><br>    <br><br>    <br><br>    <br><br>    <br><br>    <br><br>    <br><br>    <br><br>    <br><br>    <br><br>    <br><br>    <br><br>    <br><br>    <br><br>    <br><br>    <br><br>    <br><br>    <br><br>    <br><br>    <br><br>    <br><br>    <br><br>    <br><br>    <br><br>    <br><br>    <br><br>    <br><br>    <br><br>    <br><br>    <br><br>    <br><br>    <br><br>    <br><br>    <br><br>    <br><br>    <br><br>    <br><br>    <br><br>    <br><br>    <br><br>    <br><br>    <br><br>    <br><br>    <br><br>    <br><br>    <br><br>    <br><br>    <br><br>    <br><br>    <br><br>    <br><br>    <br><br>    <br><br>    <br><br>    <br><br>    <br><br>    <br><br>    <br><br>    <br><br>    <br><br>    <br><br>    <br><br>    <br><br>    <br><br>    <br><br>    <br><br>    <br><br>    <br><br>    <br><br>    <br><br>    <br><br>    <br><br>    <br><br>    <br><br>    <br><br>    <br><br>    <br><br>    <br><br>    <br><br>    <br><br>    <br><br>    <br><br>    <br><br>    <br><br>    <br><br>    <br><br>    <br><br>    <br><br>    <br><br>    <br><br>    <br><br>    <br><br>    <br><br>    <br><br>    <br><br>    <br><br>    <br><br>    <br><br>    <br><br>    <br><br>    <br><br>    <br><br>    <br><br>    <br><br>    <br><br>    <br><br>    <br><br>    <br><br>    <br><br>    <br><br>    <br><br>    <br><br>    <br><br>    <br><br>    <br><br>    <br><br>    <br><br>    <br><br>    <br><br>    <br><br>    <br><br>    <br><br>    <br><br>    <br><br>    <br><br>    <br><br>    <br><br>    <br><br>    <br><br>    <br><br>    <br><br>    <br><br>    <br><br>    <br><br>    <br><br>    <br><br>    <br><br>    <br><br>    <br><br>    <br><br>    <br><br>    <br><br>    <br><br>    <br><br>    <br><br>    <br><br>    <br><br>    <br><br>    <br><br>    <br><br>    <br><br>    <br><br>    <br><br>    <br><br>    <br><br>    <br><br>    <br><br>    <br><br>    <br><br>    <br><br>    <br><br>    <br><br>    <br><br>    <br><br>    <br><br>    <br><br>    <br><br>    <br><br>    <br><br>    <br><br>    <br><br>    <br><br>    <br><br>    <br><br>    <br><br>    <br><br>    <br><br>    <br><br>    <br><br>    <br><br>    <br><br>    <br><br>    <br><br>    <br><br>    <br><br>    <br><br>    <br><br>    <br><br>    <br><br>    <br><br>    <br><br>    <br><br>    <br><br>    <br><br>    <br><br>    <br><br>    <br><br>    <br><br>    <br><br>    <br><br>    <br><br>     <br><br>    \t<br><br>    <br><br>    <br><br>    <br><br>    <br><br>    <br><br>    <br><br>    <br><br>    <br><br>    <br><br>    <br><br>    <br><br>    <br><br>    <br><br>    <br><br>    <br><br>    <br><br>    <br><br>    <br><br>    <br><br>    <br><br>    <br><br>    <br><br>    <br><br>    <br><br>    <br><br>    <br><br>    <br><br>    <br><br>    <br><br>    <br><br>    <br><br>    <br><br>    <br><br>    <br><br>    <br><br>    <br><br>    <br><br>    <br><br>    <br><br>    <br><br>    <br><br>    <br><br>    <br><br>    <br><br>    <br><br>    <br><br>    <br><br>    <br><br>    <br><br>    <br><br>    <br><br>    <br><br>    <br><br>    <br><br>    <br><br>    <br><br>    <br><br>    <br><br>    <br><br>    <br><br>    <br><br>    <br><br>    <br><br>    <br><br>    <br><br>    <br><br>    <br><br>    <br><br>    <br><br>    <br><br>    <br><br>    <br><br>    <br><br>    <br><br>    <br><br>    <br><br>    <br><br>    <br><br>    <br><br>    <br><br>    <br><br>    <br><br>    <br><br>    <br><br>    <br><br>    <br><br>    <br><br>    <br><br>    <br><br>    <br><br>    <br><br>    <br><br>    <br><br>    <br><br>    <br><br>    <br><br>    <br><br>    <br><br>    <br><br>    <br><br>    <br><br>    <br><br>    <br><br>    <br><br>    <br><br>    <br><br>    <br><br>    <br><br>    <br><br>    <br><br>    <br><br>    <br><br>    <br><br>    <br><br>    <br><br>    <br><br>    <br><br>    <br><br>    <br><br>    <br><br>    <br><br>    <br><br>    <br><br>    <br><br>    <br><br>    <br><br>    <br><br>    <br><br>    <br><br>    <br><br>    <br><br>    <br><br>    <br><br>    <br><br>    <br><br>    <br><br>    <br><br>    <br><br>    <br><br>    <br><br>    <br><br>    <br><br>    <br><br>    <br><br>    <br><br>    <br><br>    <br><br>    <br><br>    <br><br>    <br><br>    <br><br>    <br><br>    <br><br>    <br><br>    <br><br>    <br><br>    <br><br>    <br><br>    <br><br>    <br><br>    <br><br>    <br><br>    <br><br>    <br><br>    <br><br>    <br><br>    <br><br>    <br><br>    <br><br>    <br><br>    <br><br>    <br><br>    <br><br>    <br><br>    <br><br>    <br><br>    <br><br>    <br><br>    <br><br>    <br><br>    <br><br>    <br><br>    <br><br>    <br><br>    <br><br>    <br><br>    <br><br>    <br><br>    <br><br>    <br><br>    <br><br>    <br><br>    <br><br>    <br><br>    <br><br>    <br><br>    <br><br>    <br><br>    <br><br>    <br><br>    <br><br>    <br><br>    <br><br>    <br><br>    <br><br>    <br><br>    <br><br>    <br><br>    <br><br>    <br><br>    <br><br>    <br><br>    <br><br>    <br><br>    <br><br>    <br><br>    <br><br>    <br><br>    <br><br>    <br><br>    <br><br>    <br><br>    <br><br>    <br><br>    <br><br>    <br><br>    <br><br>    <br><br>    <br><br>    <br><br>    <br><br>    <br><br>    <br><br>    <br><br>    <br><br>    <br><br>    <br><br>    <br><br>    <br><br>    <br><br>    <br><br>    <br><br>    <br><br>    <br><br>    <br><br>    <br><br>    <br><br>    <br><br>    <br><br>    <br><br>    <br><br>    <br><br>    <br><br>    <br><br>    <br><br>    <br><br>    <br><br>    <br><br>    <br><br>    <br><br>    <br><br>    <br><br>    <br><br>    <br><br>    <br><br>    <br><br>    <br><br>    <br><br>    <br><br>    <br><br>    <br><br>    <br><br>    <br><br>    <br><br>    <br><br>    <br><br>    <br><br>    <br><br>    <br><br>    <br><br>    <br><br>    <br><br>    <br><br>    <br><br>    <br><br>    <br><br>    <br><br>    <br><br>    <br><br>    <br><br>    <br><br>    <br><br>    <br><br>    <br><br>    <br><br>    <br><br>    <br><br>    <br><br>    <br><br>    <br><br>    <br><br>    <br><br>    <br><br>    <br><br>    <br><br>    <br><br>    <br><br>    <br><br>    <br><br>    <br><br>    <br><br>    <br><br>    <br><br>    <br><br>    <br><br>    <br><br>    <br><br>    <br><br>    <br><br>    <br><br>    <br><br>    <br><br>    <br><br>    <br><br>    <br><br>    <br><br>    <br><br>    <br><br>    <br><br>    <br><br>    <br><br>    <br><br>    <br><br>    <br><br>    <br><br>    <br><br>    <br><br>    <br><br>    <br><br>    <br><br>    <br><br>    <br><br>    <br><br>    <br><br>    <br><br>    <br><br>    <br><br>    <br><br>    <br><br>    <br><br>    <br><br>    <br><br>    <br><br>    <br><br>    <br><br>    <br><br>    <br><br>    <br><br>    <br><br>    <br><br>    <br><br>    <br><br>    <br><br>    <br><br>    <br><br>    <br><br>    <br><br>    <br><br>    <br><br>    <br><br>    <br><br>    <br><br>    <br><br>    <br><br>    <br><br>    <br><br>    <br><br>    <br><br>    <br><br>    <br><br>    <br><br>    <br><br>    <br><br>    <br><br>    <br><br>    <br><br>    <br><br>    <br><br>    <br><br>    <br><br>    <br><br>    <br><br>    <br><br>    <br><br>    <br><br>    <br><br>    <br><br>    <br><br>    <br><br>    <br><br>    <br><br>    <br><br>    <br><br>    <br><br>    <br><br>    <br><br>    <br><br>    <br><br>    <br><br>    <br><br>    <br><br>    <br><br>    <br><br>    <br><br>    <br><br>    <br><br>    <br><br>    <br><br>    <br><br>    <br><br>    <br><br>    <br><br>    <br><br>    <br><br>    <br><br>    <br><br>    <br><br>    <br><br>    <br><br>    <br><br>    <br><br>    <br><br>    <br><br>    <br><br>    <br><br>    <br><br>    <br><br>    <br><br>    <br><br>    <br><br>    <br><br>    <br><br>    <br><br>    <br><br>    <br><br>    <br><br>    <br><br>    <br><br>    <br><br>    <br><br>    <br><br>    <br><br>    <br><br>    <br><br>    <br><br>    <br><br>    <br><br>    <br><br>    <br><br>    <br><br>    <br><br>    <br><br>    <br><br>    <br><br>    <br><br>    <br><br>    <br><br>    <br><br>    <br><br>    <br><br>    <br><br>    <br><br>    <br><br>    <br><br>    <br><br>    <br><br>    <br><br>    <br><br>    <br><br>    <br><br>    <br><br>    <br><br>    <br><br>    <br><br>    <br><br>    <br><br>    <br><br>    <br><br>    <br><br>    <br><br>    <br><br>    <br><br>    <br><br>    <br><br>    <br><br>    <br><br>    <br><br>    <br><br>    <br><br>    <br><br>    <br><br>    <br><br>    <br><br>    <br><br>    <br><br>    <br><br>    <br><br>    <br><br>    <br><br>    <br><br>    <br><br>    <br><br>    <br><br>    <br><br>    <br><br>    <br><br>    <br><br>    <br><br>    <br><br>    <br><br>    <br><br>    <br><br>    <br><br>    <br><br>    <br><br>    <br><br>    <br><br>    <br><br>    <br><br>    <br><br>    <br><br>    <br><br>    <br><br>    <br><br>    <br><br>    <br><br>    <br><br>    <br><br>    <br><br>    <br><br>    <br><br>    <br><br>    <br><br>    <br><br>    <br><br>    <br><br>    <br><br>    <br><br>    <br><br>    <br><br>    <br><br>    <br><br>    <br><br>    <br><br>    <br><br>    <br><br>    <br><br>    <br><br>    <br><br>    <br><br>    <br><br>    <br><br>    <br><br>    <br><br>    <br><br>    <br><br>    <br><br>    <br><br>    <br><br>    <br><br>    <br><br>    <br><br>    <br><br>    <br><br>    <br><br>    <br><br>    <br><br>    <br><br>    <br><br>    <br><br>    <br><br>    <br><br>    <br><br>    <br><br>    <br><br>    <br><br>    <br><br>    <br><br>    <br><br>    <br><br>    <br><br>    <br><br>    <br><br>    <br><br>    <br><br>    <br><br>    <br><br>    <br><br>    <br><br>    <br><br>    <br><br>    <br><br>    <br><br>    <br><br>    <br><br>    <br><br>    <br><br>    <br><br>    <br><br>    <br><br>    <br><br>    <br><br>    <br><br>    <br><br>    <br><br>    <br><br>    <br><br>    <br><br>    <br><br>    <br><br>    <br><br>    <br><br>    <br><br>    <br><br>    <br><br>    <br><br>    <br><br>    <br><br>    <br><br>    <br><br>    <br><br>    <br><br>    <br><br>    <br><br>    <br><br>    <br><br>    <br><br>    <br><br>    <br><br>    <br><br>    <br><br>    <br><br>    <br><br>    <br><br>    <br><br>    <br><br>    <br><br>    <br><br>    <br><br>    <br><br>    <br><br>    <br><br>    <br><br>    <br><br>    <br><br>    <br><br>    <br><br>    <br><br>    <br><br>    <br><br>    <br><br>    <br><br>    <br><br>    <br><br>    <br><br>    <br><br>    <br><br>    <br><br>    <br><br>    <br><br>    <br><br>    <br><br>    <br><br>    <br><br>    <br><br>    <br><br>    <br><br>    <br><br>    <br><br>    <br><br>    <br><br>    <br><br>    <br><br>    <br><br>    <br><br>    <br><br>    <br><br>    <br><br>    <br><br>    <br><br>    <br><br>    <br><br>    <br><br>    <br><br>    <br><br>    <br><br>    <br><br>    <br><br>    <br><br>    <br><br>    <br><br>    <br><br>    <br><br>    <br><br>    <br><br>    <br><br>    <br><br>    <br><br>    <br><br>    <br><br>    <br><br>    <br><br>    <br><br>    <br><br>    <br><br>    <br><br>    <br><br>    <br><br>    <br><br>    <br><br>    <br><br>    <br><br>    <br><br>    <br><br>    <br><br>    <br><br>    <br><br>    <br><br>    <br><br>    <br><br>    <br><br>    <br><br>    <br><br>    <br><br>    <br><br>    <br><br>    <br><br>    <br><br>    <br><br>    <br><br>    <br><br>    <br><br>    <br><br>    <br><br>    <br><br>    <br><br>    <br><br>    <br><br>    <br><br>    <br><br>    <br><br>    <br><br>    <br><br>    <br><br>    <br><br>    <br><br>    <br><br>    <br><br>    <br><br>    <br><br>    <br><br>    <br><br>    <br><br>    <br><br>    <br><br>    <br><br>    <br><br>    <br><br>    <br><br>    <br><br>    <br><br>    <br><br>    <br><br>    <br><br>    <br><br>    <br><br>    <br><br>    <br><br>    <br><br>    <br><br>    <br><br>    <br><br>    <br><br>    <br><br>    <br><br>    <br><br>    <br><br>    <br><br>    <br><br>    <br><br>    <br><br>    <br><br>    <br><br>    <br><br>    <br><br>    <br><br>    <br><br>    <br><br>    <br><br>    <br><br>    <br><br>    <br><br>    <br><br>    <br><br>    <br><br>    <br><br>    <br><br>    <br><br>    <br><br>    <br><br>    <br><br>    <br><br>    <br><br>    <br><br>    <br><br>    <br><br>    <br><br>    <br><br>    <br><br>    <br><br>    <br><br>    <br><br>    <br><br>    <br><br>    <br><br>    <br><br>    <br><br>    <br><br>    <br><br>    <br><br>    <br><br>    <br><br>    <br><br>    <br><br>    <br><br>    <br><br>    <br><br>    <br><br>    <br><br>    <br><br>    <br><br>    <br><br>    <br><br>    <br><br>    <br><br>    <br><br>    <br><br>    <br><br>    <br><br>    <br><br>    <br><br>    <br><br>    <br><br>    <br><br>    <br><br>    <br><br>    <br><br>    <br><br>    <br><br>    <br><br>    <br><br>    <br><br>    <br><br>    <br><br>    <br><br>    <br><br>    <br><br>    <br><br>    <br><br>    <br><br>    <br><br>    <br><br>    <br><br>    <br><br>    <br><br>    <br><br>    <br><br>    <br><br>    <br><br>    <br><br>    <br><br>    <br><br>    <br><br>    <br><br>    <br><br>    <br><br>    <br><br>    <br><br>    <br><br>    <br><br>    <br><br>    <br><br>    <br><br>    <br><br>    <br><br>    <br><br>    <br><br>    <br><br>    <br><br>    <br><br>    <br><br>    <br><br>    <br><br>    <br><br>    <br><br>    <br><br>    <br><br>    <br><br>    <br><br>    <br><br>    <br><br>    <br><br>    <br><br>    <br><br>    <br><br>    <br><br>    <br><br>    <br><br>    <br><br>    <br><br>    <br><br>    <br><br>    <br><br>    <br><br>    <br><br>    <br><br>    <br><br>    <br><br>    <br><br>    <br><br>    <br><br>    <br><br>    <br><br>    <br><br>    <br><br>    <br><br>    <br><br>    <br><br>    <br><br>    <br><br>    <br><br>    <br><br>    <br><br>    <br><br>    <br><br>    <br><br>    <br><br>    <br><br>    <br><br>    <br><br>    <br><br>    <br><br>    <br><br>    <br><br>    <br><br>    <br><br>    <br><br>    <br><br>    <br><br>    <br><br>    <br><br>    <br><br>    <br><br>    <br><br>    <br><br>    <br><br>    <br><br>    <br><br>    <br><br>    <br><br>    <br><br>    <br><br>    <br><br>    <br><br>    <br><br>    <br><br>    <br><br>    <br><br>    <br><br>    <br><br>    <br><br>    <br><br>    <br><br>    <br><br>    <br><br>    <br><br>    <br><br>    <br><br>    <br><br>    <br><br>    <br><br>    <br><br>    <br><br>    <br><br>    <br><br>    <br><br>    <br><br>    <br><br>    <br><br>    <br><br>    <br><br>    <br><br>    <br><br>    <br><br>    <br><br>    <br><br>    <br><br>    <br><br>    <br><br>    <br><br>    <br><br>    <br><br>    <br><br>    <br><br>    <br><br>    <br><br>    <br><br>    <br><br>    <br><br>    <br><br>    <br><br>    <br><br>    <br><br>    <br><br>    <br><br>    <br><br>    <br><br>    <br><br>    <br><br>    <br><br>    <br><br>    <br><br>    <br><br>    <br><br>    <br><br>    <br><br>    <br><br>    <br><br>    <br><br>    <br><br>    <br><br>    <br><br>    <br><br>    <br><br>    <br><br>    <br><br>    <br><br>    <br><br>    <br><br>    <br><br>    <br><br>    <br><br>    <br><br>    <br><br>    <br><br>    <br><br>    <br><br>    <br><br>    <br><br>    <br><br>    <br><br>    <br><br>    <br><br>    <br><br>    <br><br>    <br><br>    <br><br>    <br><br>    <br><br>    <br><br>    <br><br>    <br><br>    <br><br>    <br><br>    <br><br>    <br><br>    <br><br>    <br><br>    <br><br>    <br><br>    <br><br>    <br><br>    <br><br>    <br><br>    <br><br>    <br><br>    <br><br>    <br><br>    <br><br>    <br><br>    <br><br>    <br><br>    <br><br>    <br><br>    <br><br>    <br><br>    <br><br>    <br><br>    <br><br>    <br><br>    <br><br>    <br><br>    <br><br>    <br><br>    <br><br>    <br><br>    <br><br>    <br><br>    <br><br>    <br><br>    <br><br>    <br><br>    <br><br>    <br><br>    <br><br>    <br><br>    <br><br>    <br><br>    <br><br>    <br><br>    <br><br>    <br><br>    <br><br>    <br><br>    <br><br>    <br><br>    <br><br>    <br><br>    <br><br>    <br><br>    <br><br>    <br><br>    <br><br>    <br><br>    <br><br>    <br><br>    <br><br>    <br><br>    <br><br>    <br><br>    <br><br>    <br><br>    <br><br>    <br><br>    <br><br>    <br><br>    <br><br>    <br><br>    <br><br>    <br><br>    <br><br>    <br><br>    <br><br>    <br><br>    <br><br>    <br><br>    <br><br>    <br><br>    <br><br>    <br><br>    <br><br>    <br><br>    <br><br>    <br><br>    <br><br>    <br><br>    <br><br>    <br><br>    <br><br>    <br><br>    <br><br>    <br><br>    <br><br>    <br><br>    <br><br>    <br><br>    <br><br>    <br><br>    <br><br>    <br><br>    <br><br>    <br><br>    <br><br>    <br><br>    <br><br>    <br><br>    <br><br>    <br><br>    <br><br>    <br><br>    <br><br>    <br><br>    <br><br>    <br><br>    <br><br>    <br><br>    <br><br>    <br><br>    <br><br>    <br><br>    <br><br>    <br><br>    <br><br>    <br><br>    <br><br>    <br><br>    <br><br>    <br><br>    <br><br>    <br><br>    <br><br>    <br><br>    <br><br>    <br><br>    <br><br>    <br><br>    <br><br>    <br><br>    <br><br>    <br><br>    <br><br>    <br><br>    <br><br>    <br><br>    <br><br>    <br><br>    <br><br>    <br><br>    <br><br>    <br><br>    <br><br>    <br><br>    <br><br>    <br><br>    <br><br>    <br><br>    <br><br>    <br><br>    <br><br>    <br><br>    <br><br>    <br><br>    <br><br>    <br><br>    <br><br>    <br><br>    <br><br>    <br><br>    <br><br>    <br><br>    <br><br>    <br><br>    <br><br>    <br><br>    <br><br>    <br><br>    <br><br>    <br><br>    <br><br>    <br><br>    <br><br>    <br><br>    <br><br>    <br><br>    <br><br>    <br><br>    <br><br>    <br><br>    <br><br>    <br><br>    <br><br>    <br><br>    <br><br>    <br><br>    <br><br>    <br><br>    <br><br>    <br><br>    <br><br>    <br><br>    <br><br>    <br><br>    <br><br>    <br><br>    <br><br>    <br><br>    <br><br>    <br><br>    <br><br>    <br><br>    <br><br>    <br><br>    <br><br>    <br><br>    <br><br>    <br><br>    <br><br>    <br><br>    <br><br>    <br><br>    <br><br>    <br><br>    <br><br>    <br><br>    <br><br>    <br><br>    <br><br>    <br><br>    <br><br>    <br><br>    <br><br>    <br><br>    <br><br>    <br><br>    <br><br>    <br><br>    <br><br>    <br><br>    <br><br>    <br><br>    <br><br>    <br><br>    <br><br>    <br><br>    <br><br>    <br><br>    <br><br>    <br><br>    <br><br>    <br><br>    <br><br>    <br><br>    <br><br>    <br><br>    <br><br>    <br><br>    <br><br>    <br><br>    <br><br>    <br><br>    <br><br>    <br><br>    <br><br>    <br><br>    <br><br>    <br><br>    <br><br>    <br><br>    <br><br>    <br><br>    <br><br>    <br><br>    <br><br>    <br><br>    <br><br>    <br><br>    <br><br>    <br><br>    <br><br>    <br><br>    <br><br>    <br><br>    <br><br>    <br><br>    <br><br>    <br><br>    <br><br>    <br><br>    <br><br>    <br><br>    <br><br>    <br><br>    <br><br>    <br><br>    <br><br>    <br><br>    <br><br>    <br><br>    <br><br>    <br><br>    <br><br>    <br><br>    <br><br>    <br><br>    <br><br>    <br><br>    <br><br>    <br><br>    <br><br>    <br><br>    <br><br>    <br><br>    <br><br>    <br><br>    <br><br>    <br><br>    <br><br>    <br><br>    <br><br>    <br><br>    <br><br>    <br><br>    <br><br>    <br><br>    <br><br>    <br><br>    <br><br>    <br><br>    <br><br>    <br><br>    <br><br>    <br><br>    <br><br>    <br><br>    <br><br>    <br><br>    <br><br>    <br><br>    <br><br>    <br><br>    <br><br>    <br><br>    <br><br>    <br><br>    <br><br>    <br><br>    <br><br>    <br><br>    <br><br>    <br><br>    <br><br>    <br><br>    <br><br>    <br><br>    <br><br>    <br><br>    <br><br>    <br><br>    <br><br>    <br><br>    <br><br>    <br><br>    <br><br>    <br><br>    <br><br>    <br><br>    <br><br>    <br><br>    <br><br>    <br><br>    <br><br>    <br><br>    <br><br>    <br><br>    <br><br>    <br><br>    <br><br>    <br><br>    <br><br>    <br><br>    <br><br>    <br><br>    <br><br>    <br><br>    <br><br>    <br><br>    <br><br>    <br><br>    <br><br>    <br><br>    <br><br>    <br><br>    <br><br>    <br><br>    <br><br>    <br><br>    <br><br>    <br><br>    <br><br>    <br><br>    <br><br>    <br><br>    <br><br>    <br><br>    <br><br>    <br><br>    <br><br>    <br><br>    <br><br>    <br><br>    <br><br>    <br><br>    <br><br>    <br><br>    <br><br>    <br><br>    <br><br>    <br><br>    <br><br>    <br><br>    <br><br>    <br><br>    <br><br>    <br><br>    <br><br>    <br><br>    <br><br>    <br><br>    <br><br>    <br><br>    <br><br>    <br><br>    <br><br>    <br><br>    <br><br>    <br><br>    <br><br>    <br><br>    <br><br>    <br><br>    <br><br>    <br><br>    <br><br>    <br><br>    <br><br>    <br><br>    <br><br>    <br><br>    <br><br>    <br><br>    <br><br>    <br><br>    <br><br>    <br><br>    <br><br>    <br><br>    <br><br>    <br><br>    <br><br>    <br><br>    <br><br>    <br><br>    <br><br>    <br><br>    <br><br>    <br><br>    <br><br>    <br><br>    <br><br>    <br><br>    <br><br>    <br><br>    <br><br>    <br><br>    <br><br>    <br><br>    <br><br>    <br><br>    <br><br>    <br><br>    <br><br>    <br><br>    <br><br>    <br><br>    <br><br>    <br><br>    <br><br>    <br><br>    <br><br>    <br><br>    <br><br>    <br><br>    <br><br>    <br><br>    <br><br>    <br><br>    <br><br>    <br><br>    <br><br>    <br><br>    <br><br>    <br><br>    <br><br>    <br><br>    <br><br>    <br><br>    <br><br>    <br><br>    <br><br>    <br><br>    <br><br>    <br><br>    <br><br>    <br><br>    <br><br>    <br><br>    <br><br>    <br><br>    <br><br>    <br><br>    <br><br>    <br><br>    <br><br>    <br><br>    <br><br>    <br><br>    <br><br>    <br><br>    <br><br>    <br><br>    <br><br>    <br><br>    <br><br>    <br><br>    <br><br>    <br><br>    <br><br>    <br><br>    <br><br>    <br><br>    <br><br>    <br><br>    <br><br>    <br><br>    <br><br>    <br><br>    <br><br>    <br><br>    <br><br>    <br><br>    <br><br>    <br><br>    <br><br>    <br><br>    <br><br>    <br><br>    <br><br>    <br><br>    <br><br>    <br><br>    <br><br>    <br><br>    <br><br>    <br><br>    <br><br>    <br><br>    <br><br>    <br><br>    <br><br>    <br><br>    <br><br>    <br><br>    <br><br>    <br><br>    <br><br>   \t<br><br>    \t<br><br>    <br><br>    <br><br>    <br><br>    <br><br>    <br><br>    <br><br>    <br><br>    <br><br>    <br><br>    <br><br>    <br><br>    <br><br>    <br><br>    <br><br>    <br><br>    <br><br>    <br><br>    <br><br>    <br><br>    <br><br>    <br><br>    <br><br>    <br><br>    <br><br>    <br><br>    <br><br>    <br><br>    <br><br>    <br><br>    <br><br>    <br><br>    <br><br>    <br><br>    <br><br>    <br><br>    <br><br>    <br><br>    <br><br>    <br><br>    <br><br>    <br><br>    <br><br>    <br><br>    <br><br>    <br><br>    <br><br>    <br><br>    <br><br>    <br><br>    <br><br>    <br><br>    <br><br>    <br><br>    <br><br>    <br><br>    <br><br>    <br><br>    <br><br>    <br><br>    <br><br>    <br><br>    <br><br>    <br><br>    <br><br>    <br><br>    <br><br>    <br><br>    <br><br>    <br><br>    <br><br>    <br><br>    <br><br>    <br><br>    <br><br>    <br><br>    <br><br>    <br><br>    <br><br>    <br><br>    <br><br>    <br><br>    <br><br>    <br><br>    <br><br>    <br><br>    <br><br>    <br><br>    <br><br>    <br><br>    <br><br>    <br><br>    <br><br>    <br><br>    <br><br>    <br><br>    <br><br>    <br><br>    <br><br>    <br><br>    <br><br>    <br><br>    <br><br>    <br><br>    <br><br>    <br><br>    <br><br>    <br><br>    <br><br>    <br><br>    <br><br>    <br><br>    <br><br>    <br><br>    <br><br>    <br><br>    <br><br>    <br><br>    <br><br>    <br><br>    <br><br>    <br><br>    <br><br>    <br><br>    <br><br>    <br><br>    <br><br>    <br><br>    <br><br>    <br><br>    <br><br>    <br><br>    <br><br>    <br><br>    <br><br>    <br><br>    <br><br>    <br><br>    <br><br>    <br><br>    <br><br>    <br><br>    <br><br>    <br><br>    <br><br>    <br><br>    <br><br>    <br><br>    <br><br>    <br><br>    <br><br>    <br><br>    <br><br>    <br><br>    <br><br>    <br><br>    <br><br>    <br><br>    <br><br>    <br><br>    <br><br>    <br><br>    <br><br>    <br><br>    <br><br>    <br><br>    <br><br>    <br><br>    <br><br>    <br><br>    <br><br>    <br><br>    <br><br>    <br><br>    <br><br>    <br><br>    <br><br>    <br><br>    <br><br>    <br><br>    <br><br>    <br><br>    <br><br>    <br><br>    <br><br>    <br><br>    <br><br>    <br><br>    <br><br>    <br><br>    <br><br>    <br><br>    <br><br>    <br><br>    <br><br>    <br><br>    <br><br>    <br><br>    <br><br>    <br><br>    <br><br>    <br><br>    <br><br>    <br><br>    <br><br>    <br><br>    <br><br>    <br><br>    <br><br>    <br><br>    <br><br>    <br><br>    <br><br>    <br><br>    <br><br>    <br><br>    <br><br>    <br><br>    <br><br>    <br><br>    <br><br>    <br><br>    <br><br>    <br><br>    <br><br>    <br><br>    <br><br>    <br><br>    <br><br>    <br><br>    <br><br>    <br><br>    <br><br>    <br><br>    <br><br>    <br><br>    <br><br>    <br><br>    <br><br>    <br><br>    <br><br>    <br><br>    <br><br>    <br><br>    <br><br>    <br><br>    <br><br>    <br><br>    <br><br>    <br><br>    <br><br>    <br><br>    <br><br>    <br><br>    <br><br>    <br><br>    <br><br>    <br><br>    <br><br>    <br><br>    <br><br>    <br><br>    <br><br>    <br><br>    <br><br>    <br><br>    <br><br>    <br><br>    <br><br>    <br><br>    <br><br>    <br><br>    <br><br>    <br><br>    <br><br>    <br><br>    <br><br>    <br><br>    <br><br>    <br><br>    <br><br>    <br><br>    <br><br>    <br><br>    <br><br>    <br><br>    <br><br>    <br><br>    <br><br>    <br><br>    <br><br>    <br><br>    <br><br>    <br><br>    <br><br>    <br><br>    <br><br>    <br><br>    <br><br>    <br><br>    <br><br>    <br><br>    <br><br>    <br><br>    <br><br>    <br><br>    <br><br>    <br><br>    <br><br>    <br><br>    <br><br>    <br><br>    <br><br>    <br><br>    <br><br>    <br><br>    <br><br>    <br><br>    <br><br>    <br><br>    <br><br>    <br><br>    <br><br>    <br><br>    <br><br>    <br><br>    <br><br>    <br><br>    <br><br>    <br><br>    <br><br>    <br><br>    <br><br>    <br><br>    <br><br>    <br><br>    <br><br>    <br><br>    <br><br>    <br><br>    <br><br>    <br><br>    <br><br>    <br><br>    <br><br>    <br><br>    <br><br>    <br><br>    <br><br>    <br><br>    <br><br>    <br><br>    <br><br>    <br><br>    <br><br>    <br><br>    <br><br>    <br><br>    <br><br>    <br><br>    <br><br>    <br><br>    <br><br>    <br><br>    <br><br>    <br><br>    <br><br>    <br><br>    <br><br>    <br><br>    <br><br>    <br><br>    <br><br>    <br><br>    <br><br>    <br><br>    <br><br>    <br><br>    <br><br>    <br><br>    <br><br>    <br><br>    <br><br>    <br><br>    <br><br>    <br><br>    <br><br>    <br><br>    <br><br>    <br><br>    <br><br>    <br><br>    <br><br>    <br><br>    <br><br>    <br><br>    <br><br>    <br><br>    <br><br>    <br><br>    <br><br>    <br><br>    <br><br>    <br><br>    <br><br>    <br><br>    <br><br>    <br><br>    <br><br>    <br><br>    <br><br>    <br><br>    <br><br>    <br><br>    <br><br>    <br><br>    <br><br>    <br><br>    <br><br>    <br><br>    <br><br>    <br><br>    <br><br>    <br><br>    <br><br>    <br><br>    <br><br>    <br><br>    <br><br>    <br><br>    <br><br>    <br><br>    <br><br>    <br><br>    <br><br>    <br><br>    <br><br>    <br><br>    <br><br>    <br><br>    <br><br>    <br><br>    <br><br>    <br><br>    <br><br>    <br><br>    <br><br>    <br><br>    <br><br>    <br><br>    <br><br>    <br><br>    <br><br>    <br><br>    <br><br>    <br><br>    <br><br>    <br><br>    <br><br>    <br><br>    <br><br>    <br><br>    <br><br>    <br><br>    <br><br>    <br><br>    <br><br>    <br><br>    <br><br>    <br><br>    <br><br>    <br><br>    <br><br>    <br><br>    <br><br>    <br><br>    <br><br>    <br><br>    <br><br>    <br><br>    <br><br>    <br><br>    <br><br>    <br><br>    <br><br>    <br><br>    <br><br>    <br><br>    <br><br>    <br><br>    <br><br>    <br><br>    <br><br>    <br><br>    <br><br>    <br><br>    <br><br>    <br><br>    <br><br>    <br><br>    <br><br>    <br><br>    <br><br>    <br><br>    <br><br>    <br><br>    <br><br>    <br><br>    <br><br>    <br><br>    <br><br>    <br><br>    <br><br>    <br><br>    <br><br>    <br><br>    <br><br>    <br><br>    <br><br>    <br><br>    <br><br>    <br><br>    <br><br>    <br><br>    <br><br>    <br><br>    <br><br>    <br><br>    <br><br>    <br><br>    <br><br>    <br><br>    <br><br>    <br><br>    <br><br>    <br><br>    <br><br>    <br><br>    <br><br>    <br><br>    <br><br>    <br><br>    <br><br>    <br><br>    <br><br>    <br><br>    <br><br>    <br><br>    <br><br>    <br><br>    <br><br>    <br><br>    <br><br>    <br><br>    <br><br>    <br><br>    <br><br>    <br><br>    <br><br>    <br><br>    <br><br>    <br><br>    <br><br>    <br><br>    <br><br>    <br><br>    <br><br>    <br><br>    <br><br>    <br><br>    <br><br>    <br><br>    <br><br>    <br><br>    <br><br>    <br><br>    <br><br>    <br><br>    <br><br>    <br><br>    <br><br>    <br><br>    <br><br>    <br><br>    <br><br>    <br><br>    <br><br>    <br><br>    <br><br>    <br><br>    <br><br>    <br><br>    <br><br>    <br><br>    <br><br>    <br><br>    <br><br>    <br><br>    <br><br>    <br><br>    <br><br>    <br><br>    <br><br>    <br><br>    <br><br>    <br><br>    <br><br>    <br><br>    <br><br>    <br><br>    <br><br>    <br><br>    <br><br>    <br><br>    <br><br>    <br><br>    <br><br>    <br><br>    <br><br>    <br><br>    <br><br>    <br><br>    <br><br>    <br><br>    <br><br>    <br><br>    <br><br>    <br><br>    <br><br>    <br><br>    <br><br>    <br><br>    <br><br>    <br><br>    <br><br>    <br><br>    <br><br>    <br><br>    <br><br>    <br><br>    <br><br>    <br><br>    <br><br>    <br><br>    <br><br>    <br><br>    <br><br>    <br><br>    <br><br>    <br><br>    <br><br>    <br><br>    <br><br>    <br><br>    <br><br>    <br><br>    <br><br>    <br><br>    <br><br>    <br><br>    <br><br>    <br><br>    <br><br>    <br><br>    <br><br>    <br><br>    <br><br>    <br><br>    <br><br>    <br><br>    <br><br>    <br><br>    <br><br>    <br><br>    <br><br>    <br><br>    <br><br>    <br><br>    <br><br>    <br><br>    <br><br>    <br><br>    <br><br>    <br><br>    <br><br>    <br><br>    <br><br>    <br><br>    <br><br>    <br><br>    <br><br>    <br><br>    <br><br>    <br><br>    <br><br>    <br><br>    <br><br>    <br><br>    <br><br>    <br><br>    <br><br>    <br><br>    <br><br>    <br><br>    <br><br>    <br><br>    <br><br>    <br><br>    <br><br>    <br><br>    <br><br>    <br><br>    <br><br>    <br><br>    <br><br>    <br><br>    <br><br>    <br><br>    <br><br>    <br><br>    <br><br>    <br><br>    <br><br>    <br><br>    <br><br>    <br><br>    <br><br>    <br><br>    <br><br>    <br><br>    <br><br>    <br><br>    <br><br>    <br><br>    <br><br>    <br><br>    <br><br>    <br><br>    <br><br>    <br><br>    <br><br>    <br><br>    <br><br>    <br><br>    <br><br>    <br><br>    <br><br>    <br><br>    <br><br>    <br><br>    <br><br>    <br><br>    <br><br>    <br><br>    <br><br>    <br><br>    <br><br>    <br><br>    <br><br>    <br><br>    <br><br>    <br><br>    <br><br>    <br><br>    <br><br>    <br><br>    <br><br>    <br><br>    <br><br>    <br><br>    <br><br>    <br><br>    <br><br>    <br><br>    <br><br>    <br><br>    <br><br>    <br><br>    <br><br>    <br><br>    <br><br>    <br><br>    <br><br>    <br><br>    <br><br>    <br><br>    <br><br>    <br><br>    <br><br>    <br><br>    <br><br>    <br><br>    <br><br>    <br><br>    <br><br>    <br><br>    <br><br>    <br><br>    <br><br>    <br><br>    <br><br>    <br><br>    <br><br>    <br><br>    <br><br>    <br><br>    <br><br>    <br><br>    <br><br>    <br><br>    <br><br>    <br><br>    <br><br>    <br><br>    <br><br>    <br><br>    <br><br>    <br><br>    <br><br>    <br><br>    <br><br>    <br><br>    <br><br>    <br><br>    <br><br>    <br><br>    <br><br>    <br><br>    <br><br>    <br><br>    <br><br>    <br><br>    <br><br>    <br><br>    <br><br>    <br><br>    <br><br>    <br><br>    <br><br>    <br><br>    <br><br>    <br><br>    <br><br>    <br><br>    <br><br>    <br><br>    <br><br>    <br><br>    <br><br>    <br><br>    <br><br>    <br><br>    <br><br>    <br><br>    <br><br>    <br><br>    <br><br>    <br><br>    <br><br>    <br><br>    <br><br>    <br><br>    <br><br>    <br><br>    <br><br>    <br><br>    <br><br>    <br><br>    <br><br>    <br><br>    <br><br>    <br><br>    <br><br>    <br><br>    <br><br>    <br><br>    <br><br>    <br><br>    <br><br>    <br><br>    <br><br>    <br><br>    <br><br>    <br><br>    <br><br>    <br><br>    <br><br>    <br><br>    <br><br>    <br><br>    <br><br>    <br><br>    <br><br>    <br><br>    <br><br>    <br><br>    <br><br>    <br><br>    <br><br>    <br><br>    <br><br>    <br><br>    <br><br>    <br><br>    <br><br>    <br><br>    <br><br>    <br><br>    <br><br>    <br><br>    <br><br>    <br><br>    <br><br>    <br><br>    <br><br>    <br><br>    <br><br>    <br><br>    <br><br>    <br><br>    <br><br>    <br><br>    <br><br>    <br><br>    <br><br>    <br><br>    <br><br>    <br><br>    <br><br>    <br><br>    <br><br>    <br><br>    <br><br>    <br><br>    <br><br>    <br><br>    <br><br>    <br><br>    <br><br>    <br><br>    <br><br>    <br><br>    <br><br>    <br><br>    <br><br>    <br><br>    <br><br>    <br><br>    <br><br>    <br><br>    <br><br>    <br><br>    <br><br>    <br><br>    <br><br>    <br><br>    <br><br>    <br><br>    <br><br>    <br><br>    <br><br>    <br><br>    <br><br>    <br><br>    <br><br>    <br><br>    <br><br>    <br><br>    <br><br>    <br><br>    <br><br>    <br><br>    <br><br>    <br><br>    <br><br>    <br><br>    <br><br>    <br><br>    <br><br>    <br><br>    <br><br>    <br><br>    <br><br>    <br><br>    <br><br>    <br><br>    <br><br>    <br><br>    <br><br>    <br><br>    <br><br>    <br><br>    <br><br>    <br><br>    <br><br>    <br><br>    <br><br>    <br><br>    <br><br>    <br><br>    <br><br>    <br><br>    <br><br>    <br><br>    <br><br>    <br><br>    <br><br>    <br><br>    <br><br>    <br><br>    <br><br>    <br><br>    <br><br>    <br><br>    <br><br>    <br><br>    <br><br>    <br><br>    <br><br>    <br><br>    <br><br>    <br><br>    <br><br>    <br><br>    <br><br>    <br><br>    <br><br>    <br><br>    <br><br>    <br><br>    <br><br>    <br><br>    <br><br>    <br><br>    <br><br>    <br><br>    <br><br>    <br><br>    <br><br>    <br><br>    <br><br>    <br><br>    <br><br>    <br><br>    <br><br>    <br><br>    <br><br>    <br><br>    <br><br>    <br><br>    <br><br>    <br><br>    <br><br>    <br><br>    <br><br>    <br><br>    <br><br>    <br><br>    <br><br>    <br><br>    <br><br>    <br><br>    <br><br>    <br><br>    <br><br>    <br><br>    <br><br>    <br><br>    <br><br>    <br><br>    <br><br>    <br><br>    <br><br>    <br><br>    <br><br>    <br><br>    <br><br>    <br><br>    <br><br>    <br><br>    <br><br>    <br><br>    <br><br>    <br><br>    <br><br>    <br><br>    <br><br>    <br><br>    <br><br>    <br><br>    <br><br>    <br><br>    <br><br>    <br><br>    <br><br>    <br><br>    <br><br>    <br><br>    <br><br>    <br><br>    <br><br>    <br><br>    <br><br>    <br><br>    <br><br>    <br><br>    <br><br>    <br><br>    <br><br>    <br><br>    <br><br>    <br><br>    <br><br>    <br><br>    <br><br>    <br><br>    <br><br>    <br><br>    <br><br>    <br><br>    <br><br>    <br><br>    <br><br>    <br><br>    <br><br>    <br><br>    <br><br>    <br><br>    <br><br>    <br><br>    <br><br>    <br><br>    <br><br>    <br><br>    <br><br>    <br><br>    <br><br>    <br><br>    <br><br>    <br><br>    <br><br>    <br><br>    <br><br>    <br><br>    <br><br>    <br><br>    <br><br>    <br><br>    <br><br>    <br><br>    <br><br>    <br><br>    <br><br>    <br><br>    <br><br>    <br><br>    <br><br>    <br><br>    <br><br>    <br><br>    <br><br>    <br><br>    <br><br>    <br><br>    <br><br>    <br><br>    <br><br>    <br><br>    <br><br>    <br><br>    <br><br>    <br><br>    <br><br>    <br><br>    <br><br>    <br><br>    <br><br>    <br><br>    <br><br>    <br><br>    <br><br>    <br><br>    <br><br>    <br><br>    <br><br>    <br><br>    <br><br>    <br><br>    <br><br>    <br><br>    <br><br>    <br><br>    <br><br>    <br><br>    <br><br>    <br><br>    <br><br>    <br><br>    <br><br>    <br><br>    <br><br>    <br><br>    <br><br>    <br><br>    <br><br>    <br><br>    <br><br>    <br><br>    <br><br>    <br><br>    <br><br>    <br><br>    <br><br>    <br><br>    <br><br>    <br><br>    <br><br>    <br><br>    <br><br>    <br><br>    <br><br>    <br><br>    <br><br>    <br><br>    <br><br>    <br><br>    <br><br>    <br><br>    <br><br>    <br><br>    <br><br>    <br><br>    <br><br>    <br><br>    <br><br>    <br><br>    <br><br>    <br><br>    <br><br>    <br><br>    <br><br>    <br><br>    <br><br>    <br><br>    <br><br>    <br><br>    <br><br>    <br><br>    <br><br>    <br><br>    <br><br>    <br><br>    <br><br>    <br><br>    <br><br>    <br><br>    <br><br>    <br><br>    <br><br>    <br><br>    <br><br>    <br><br>    <br><br>    <br><br>    <br><br>    <br><br>    <br><br>    <br><br>    <br><br>    <br><br>    <br><br>    <br><br>    <br><br>    <br><br>    <br><br>    <br><br>    <br><br>    <br><br>    <br><br>    <br><br>    <br><br>    <br><br>    <br><br>    <br><br>    <br><br>    <br><br>    <br><br>    <br><br>    <br><br>    <br><br>    <br><br>    <br><br>    <br><br>    <br><br>    <br><br>    <br><br>    <br><br>    <br><br>    <br><br>    <br><br>    <br><br>    <br><br>    <br><br>    <br><br>    <br><br>    <br><br>    <br><br>    <br><br>    <br><br>    <br><br>    <br><br>    <br><br>    <br><br>    <br><br>    <br><br>    <br><br>    <br><br>    <br><br>    <br><br>    <br><br>    <br><br>    <br><br>    <br><br>    <br><br>    <br><br>    <br><br>    <br><br>    <br><br>    <br><br>    <br><br>    <br><br>    <br><br>    <br><br>    <br><br>    <br><br>    <br><br>    <br><br>    <br><br>    <br><br>    <br><br>    <br><br>    <br><br>    <br><br>    <br><br>    <br><br>    <br><br>    <br><br>    <br><br>    <br><br>    <br><br>    <br><br>    <br><br>    <br><br>    <br><br>    <br><br>    <br><br>    <br><br>    <br><br>    <br><br>    <br><br>    <br><br>    <br><br>    <br><br>    <br><br>    <br><br>    <br><br>    <br><br>    <br><br>    <br><br>    <br><br>    <br><br>    <br><br>    <br><br>    <br><br>    <br><br>    <br><br>    <br><br>    <br><br>    <br><br>    <br><br>    <br><br>    <br><br>    <br><br>    <br><br>    <br><br>    <br><br>    <br><br>    <br><br>    <br><br>    <br><br>    <br><br>    <br><br>    <br><br>    <br><br>    <br><br>    <br><br>    <br><br>    <br><br>    <br><br>    <br><br>    <br><br>    <br><br>    <br><br>    <br><br>    <br><br>    <br><br>    <br><br>    <br><br>    <br><br>    <br><br>    <br><br>    <br><br>    <br><br>    <br><br>    <br><br>    <br><br>    <br><br>    <br><br>    <br><br>    <br><br>    <br><br>    <br><br>    <br><br>    <br><br>    <br><br>    <br><br>    <br><br>    <br><br>    <br><br>    <br><br>    <br><br>    <br><br>    <br><br>    <br><br>    <br><br>    <br><br>    <br><br>    <br><br>    <br><br>    <br><br>    <br><br>    <br><br>    <br><br>    <br><br>    <br><br>    <br><br>    <br><br>    <br><br>    <br><br>    <br><br>    <br><br>    <br><br>    <br><br>    <br><br>    <br><br>    <br><br>    <br><br>    <br><br>    <br><br>    <br><br>    <br><br>    <br><br>    <br><br>    <br><br>    <br><br>    <br><br>    <br><br>    <br><br>    <br><br>    <br><br>    <br><br>    <br><br>    <br><br>    <br><br>    <br><br>    <br><br>    <br><br>    <br><br>    <br><br>    <br><br>    <br><br>    <br><br>    <br><br>    <br><br>    <br><br>    <br><br>    <br><br>    <br><br>    <br><br>    <br><br>    <br><br>    <br><br>    <br><br>    <br><br>    <br><br>    <br><br>    <br><br>    <br><br>    <br><br>    <br><br>    <br><br>    <br><br>    <br><br>    <br><br>    <br><br>    <br><br>    <br><br>    <br><br>    <br><br>    <br><br>    <br><br>    <br><br>    <br><br>    <br><br>    <br><br>    <br><br>    <br><br>    <br><br>    <br><br>    <br><br>    <br><br>    <br><br>    <br><br>    <br><br>    <br><br>    <br><br>    <br><br>    <br><br>    <br><br>    <br><br>    <br><br>    <br><br>    <br><br>    <br><br>    <br><br>    <br><br>    <br><br>    <br><br>    <br><br>    <br><br>    <br><br>    <br><br>    <br><br>    <br><br>    <br><br>    <br><br>    <br><br>    <br><br>    <br><br>    <br><br>    <br><br>    <br><br>    <br><br>    <br><br>    <br><br>    <br><br>    <br><br>    <br><br>    <br><br>    <br><br>    <br><br>    <br><br>    <br><br>    <br><br>    <br><br>    <br><br>    <br><br>    <br><br>    <br><br>    <br><br>    <br><br>    <br><br>    <br><br>    <br><br>    <br><br>    <br><br>    <br><br>    <br><br>    <br><br>    <br><br>    <br><br>    <br><br>    <br><br>    <br><br>    <br><br>    <br><br>    <br><br>    <br><br>    <br><br>    <br><br>    <br><br>    <br><br>    <br><br>    <br><br>    <br><br>    <br><br>    <br><br>    <br><br>    <br><br>    <br><br>    <br><br>    <br><br>    <br><br>    <br><br>    <br><br>    <br><br>    <br><br>    <br><br>    <br><br>    <br><br>    <br><br>    <br><br>    <br><br>    <br><br>    <br><br>    <br><br>    <br><br>    <br><br>    <br><br>    <br><br>    <br><br>    <br><br>    <br><br>    <br><br>    <br><br>    <br><br>    <br><br>    <br><br>    <br><br>    <br><br>    <br><br>    <br><br>    <br><br>    <br><br>    <br><br>    <br><br>    <br><br>    <br><br>    <br><br>    <br><br>    <br><br>    <br><br>    <br><br>    <br><br>    <br><br>    <br><br>    <br><br>    <br><br>    <br><br>    <br><br>    <br><br>    <br><br>    <br><br>    <br><br>    <br><br>    <br><br>    <br><br>    <br><br>    <br><br>    <br><br>    <br><br>    <br><br>    <br><br>    <br><br>    <br><br>    <br><br>    <br><br>    <br><br>    <br><br>    <br><br>    <br><br>    <br><br>    <br><br>    <br><br>    <br><br>    <br><br>    <br><br>    <br><br>    <br><br>    <br><br>    <br><br>    <br><br>    <br><br>    <br><br>    <br><br>    <br><br>    <br><br>    <br><br>    <br><br>    <br><br>    <br><br>    <br><br>    <br><br>    <br><br>    <br><br>    <br><br>    <br><br>    <br><br>    <br><br>    <br><br>    <br><br>    <br><br>    <br><br>    <br><br>    <br><br>    <br><br>    <br><br>    <br><br>    <br><br>    <br><br>    <br><br>    <br><br>    <br><br>    <br><br>    <br><br>    <br><br>    <br><br>    <br><br>    <br><br>    <br><br>    <br><br>    <br><br>    <br><br>    <br><br>    <br><br>    <br><br>    <br><br>    <br><br>    <br><br>    <br><br>    <br><br>    <br><br>    <br><br>    <br><br>    <br><br>    <br><br>    <br><br>    <br><br>    <br><br>    <br><br>    <br><br>    <br><br>    <br><br>    <br><br>    <br><br>    <br><br>    <br><br>    <br><br>    <br><br>    <br><br>    <br><br>    <br><br>    <br><br>    <br><br>    <br><br>    <br><br>    <br><br>    <br><br>    <br><br>    <br><br>    <br><br>    <br><br>    <br><br>    <br><br>    <br><br>    <br><br>    <br><br>    <br><br>    <br><br>    <br><br>    <br><br>    <br><br>    <br><br>    <br><br>    <br><br>    <br><br>    <br><br>    <br><br>    <br><br>    <br><br>    <br><br>    <br><br>    <br><br>    <br><br>    <br><br>    <br><br>    <br><br>    <br><br>    <br><br>    <br><br>    <br><br>    <br><br>    <br><br>    <br><br>    <br><br>    <br><br>    <br><br>    <br><br>    <br><br>    <br><br>    <br><br>    <br><br>    <br><br>    <br><br>    <br><br>    <br><br>    <br><br>    <br><br>    <br><br>    <br><br>    <br><br>    <br><br>    <br><br>    <br><br>    <br><br>    <br><br>    <br><br>    <br><br>    <br><br>    <br><br>    <br><br>    <br><br>    <br><br>    <br><br>    <br><br>    <br><br>    <br><br>    <br><br>    <br><br>    <br><br>    <br><br>    <br><br>    <br><br>    <br><br>    <br><br>    <br><br>    <br><br>    <br><br>    <br><br>    <br><br>    <br><br>    <br><br>    <br><br>    <br><br>    <br><br>    <br><br>    <br><br>    <br><br>    <br><br>    <br><br>    <br><br>    <br><br>    <br><br>    <br><br>    <br><br>    <br><br>    <br><br>    <br><br>    <br><br>    <br><br>    <br><br>    <br><br>    <br><br>    <br><br>    <br><br>    <br><br>    <br><br>    <br><br>    <br><br>    <br><br>    <br><br>    <br><br>    <br><br>    <br><br>    <br><br>    <br><br>    <br><br>    <br><br>    <br><br>    <br><br>    <br><br>    <br><br>    <br><br>    <br><br>    <br><br>    <br><br>    <br><br>    <br><br>    <br><br>    <br><br>    <br><br>    <br><br>    <br><br>    <br><br>    <br><br>    <br><br>    <br><br>    <br><br>    <br><br>    <br><br>    <br><br>    <br><br>    <br><br>    <br><br>    <br><br>    <br><br>    <br><br>    <br><br>    <br><br>    <br><br>    <br><br>    <br><br>    <br><br>    <br><br>    <br><br>    <br><br>    <br><br>    <br><br>    <br><br>    <br><br>    <br><br>    <br><br>    <br><br>    <br><br>    <br><br>    <br><br>    <br><br>    <br><br>    <br><br>    <br><br>    <br><br>    <br><br>    <br><br>    <br><br>    <br><br>    <br><br>    <br><br>    <br><br>    <br><br>    <br><br>    <br><br>    <br><br>    <br><br>    <br><br>    <br><br>    <br><br>    <br><br>    <br><br>    <br><br>    <br><br>    <br><br>    <br><br>    <br><br>    <br><br>    <br><br>    <br><br>    <br><br>    <br><br>    <br><br>    <br><br>    <br><br>    <br><br>    <br><br>    <br><br>    <br><br>    <br><br>    <br><br>    <br><br>    <br><br>    <br><br>    <br><br>    <br><br>    <br><br>    <br><br>    <br><br>    <br><br>    <br><br>    <br><br>    <br><br>    <br><br>    <br><br>    <br><br>    <br><br>    <br><br>    <br><br>    <br><br>    <br><br>    <br><br>    <br><br>    <br><br>    <br><br>    <br><br>    <br><br>    <br><br>    <br><br>    <br><br>    <br><br>    <br><br>    <br><br>    <br><br>    <br><br>    <br><br>    <br><br>    <br><br>    <br><br>    <br><br>    <br><br>    <br><br>    <br><br>    <br><br>    <br><br>    <br><br>    <br><br>    <br><br>    <br><br>    <br><br>    <br><br>    <br><br>    <br><br>    <br><br>    <br><br>    <br><br>    <br><br>    <br><br>    <br><br>    <br><br>    <br><br>    <br><br>    <br><br>    <br><br>    <br><br>    <br><br>    <br><br>    <br><br>    <br><br>    <br><br>    <br><br>    <br><br>    <br><br>    <br><br>    <br><br>    <br><br>    <br><br>    <br><br>    <br><br>    <br><br>    <br><br>    <br><br>    <br><br>    <br><br>    <br><br>    <br><br>    <br><br>    <br><br>    <br><br>    <br><br>    <br><br>    <br><br>    <br><br>    <br><br>    <br><br>    <br><br>    <br><br>    <br><br>    <br><br>    <br><br>    <br><br>    <br><br>    <br><br>    <br><br>    <br><br>    <br><br>    <br><br>    <br><br>    <br><br>    <br><br>    <br><br>    <br><br>    <br><br>    <br><br>    <br><br>    <br><br>    <br><br>    <br><br>    <br><br>    <br><br>    <br><br>    <br><br>    <br><br>    <br><br>    <br><br>    <br><br>    <br><br>    <br><br>    <br><br>    <br><br>    <br><br>    <br><br>    <br><br>    <br><br>    <br><br>    <br><br>    <br><br>    <br><br>    <br><br>    <br><br>    <br><br>    <br><br>    <br><br>    <br><br>    <br><br>    <br><br>    <br><br>    <br><br>    <br><br>    <br><br>    <br><br>    <br><br>    <br><br>    <br><br>    <br><br>    <br><br>    <br><br>    <br><br>    <br><br>    <br><br>    <br><br>    <br><br>    <br><br>    <br><br>    <br><br>    <br><br>    <br><br>    <br><br>    <br><br>    <br><br>    <br><br>    <br><br>    <br><br>    <br><br>    <br><br>    <br><br>    <br><br>    <br><br>    <br><br>    <br><br>    <br><br>    <br><br>    <br><br>    <br><br>    <br><br>    <br><br>    <br><br>    <br><br>    <br><br>    <br><br>    <br><br>    <br><br>    <br><br>    <br><br>    <br><br>    <br><br>    <br><br>    <br><br>    <br><br>    <br><br>    <br><br>    <br><br>    <br><br>    <br><br>    <br><br>    <br><br>    <br><br>    <br><br>    <br><br>    <br><br>    <br><br>    <br><br>    <br><br>    <br><br>    <br><br>    <br><br>    <br><br>    <br><br>    <br><br>    <br><br>    <br><br>    <br><br>    <br><br>    <br><br>    <br><br>    <br><br>    <br><br>    <br><br>    <br><br>    <br><br>    <br><br>    <br><br>    <br><br>    <br><br>    <br><br>    <br><br>    <br><br>    <br><br>    <br><br>    <br><br>    <br><br>    <br><br>    <br><br>    <br><br>    <br><br>    <br><br>    <br><br>    <br><br>    <br><br>    <br><br>    <br><br>    <br><br>    <br><br>    <br><br>    <br><br>    <br><br>    <br><br>    <br><br>    <br><br>    <br><br>    <br><br>    <br><br>    <br><br>    <br><br>    <br><br>    <br><br>    <br><br>    <br><br>    <br><br>    <br><br>    <br><br>    <br><br>    <br><br>    <br><br>    <br><br>    <br><br>    <br><br>    <br><br>    <br><br>    <br><br>    <br><br>    <br><br>    <br><br>    <br><br>    <br><br>    <br><br>    <br><br>    <br><br>    <br><br>    <br><br>    <br><br>    <br><br>    <br><br>    <br><br>    <br><br>    <br><br>    <br><br>    <br><br>    <br><br>    <br><br>    <br><br>    <br><br>    <br><br>    <br><br>    <br><br>    <br><br>    <br><br>    <br><br>    <br><br>    <br><br>    <br><br>    <br><br>    <br><br>    <br><br>    <br><br>    <br><br>    <br><br>    <br><br>    <br><br>    <br><br>    <br><br>    <br><br>    <br><br>    <br><br>    <br><br>    <br><br>    <br><br>    <br><br>    <br><br>    <br><br>    <br><br>    <br><br>    <br><br>    <br><br>    <br><br>    <br><br>    <br><br>    <br><br>    <br><br>    <br><br>    <br><br>    <br><br>    <br><br>    <br><br>    <br><br>    <br><br>    <br><br>    <br><br>    <br><br>    <br><br>    <br><br>    <br><br>    <br><br>    <br><br>    <br><br>    <br><br>    <br><br>    <br><br>    <br><br>    <br><br>    <br><br>    <br><br>    <br><br>    <br><br>    <br><br>    <br><br>    <br><br>    <br><br>    <br><br>    <br><br>    <br><br>    <br><br>    <br><br>    <br><br>    <br><br>    <br><br>    <br><br>    <br><br>    <br><br>    <br><br>    <br><br>    <br><br>    <br><br>    <br><br>    <br><br>    <br><br>    <br><br>    <br><br>    <br><br>    <br><br>    <br><br>    <br><br>    <br><br>    <br><br>    <br><br>    <br><br>    <br><br>    <br><br>    <br><br>    <br><br>    <br><br>    <br><br>    <br><br>    <br><br>    <br><br>    <br><br>    <br><br>    <br><br>    <br><br>    <br><br>    <br><br>    <br><br>    <br><br>    <br><br>    <br><br>    <br><br>    <br><br>    <br><br>    <br><br>    <br><br>    <br><br>    <br><br>    <br><br>    <br><br>    <br><br>    <br><br>    <br><br>    <br><br>    <br><br>    <br><br>    <br><br>    <br><br>    <br><br>    <br><br>    <br><br>    <br><br>    <br><br>    <br><br>    <br><br>    <br><br>    <br><br>    <br><br>    <br><br>    <br><br>    <br><br>    <br><br>    <br><br>    <br><br>    <br><br>    <br><br>    <br><br>    <br><br>    <br><br>    <br><br>    <br><br>    <br><br>    <br><br>    <br><br>    <br><br>    <br><br>    <br><br>    <br><br>    <br><br>    <br><br>    <br><br>    <br><br>    <br><br>    <br><br>    <br><br>    <br><br>    <br><br>    <br><br>    <br><br>    <br><br>    <br><br>    <br><br>    <br><br>    <br><br>    <br><br>    <br><br>    <br><br>    <br><br>    <br><br>    <br><br>    <br><br>    <br><br>    <br><br>    <br><br>    <br><br>    <br><br>    <br><br>    <br><br>    <br><br>    <br><br>    <br><br>    <br><br>    <br><br>    <br><br>    <br><br>    <br><br>    <br><br>    <br><br>    <br><br>    <br><br>    <br><br>    <br><br>    <br><br>    <br><br>    <br><br>    <br><br>    <br><br>    <br><br>    <br><br>    <br><br>    <br><br>    <br><br>    <br><br>    <br><br>    <br><br>    <br><br>    <br><br>    <br><br>    <br><br>    <br><br>    <br><br>    <br><br>    <br><br>    <br><br>    <br><br>    <br><br>    <br><br>    <br><br>    <br><br>    <br><br>    <br><br>    <br><br>    <br><br>    <br><br>    <br><br>    <br><br>    <br><br>    <br><br>    <br><br>    <br><br>    <br><br>    <br><br>    <br><br>    <br><br>    <br><br>    <br><br>    <br><br>    <br><br>    <br><br>    <br><br>    <br><br>    <br><br>    <br><br>    <br><br>    <br><br>    <br><br>    <br><br>    <br><br>    <br><br>    <br><br>    <br><br>    <br><br>    <br><br>    <br><br>    <br><br>    <br><br>    <br><br>    <br><br>    <br><br>    <br><br>    <br><br>    <br><br>    <br><br>    <br><br>    <br><br>    <br><br>    <br><br>    <br><br>    <br><br>    <br><br>    <br><br>    <br><br>    <br><br>    <br><br>    <br><br>    <br><br>    <br><br>    <br><br>    <br><br>    <br><br>    <br><br>    <br><br>    <br><br>    <br><br>    <br><br>    <br><br>    <br><br>    <br><br>    <br><br>    <br><br>    <br><br>    <br><br>    <br><br>    <br><br>    <br><br>    <br><br>    <br><br>    <br><br>    <br><br>    <br><br>    <br><br>    <br><br>    <br><br>    <br><br>    <br><br>    <br><br>    <br><br>    <br><br>    <br><br>    <br><br>    <br><br>    <br><br>    <br><br>    <br><br>    <br><br>    <br><br>    <br><br>    <br><br>    <br><br>    <br><br>    <br><br>    <br><br>    <br><br>    <br><br>    <br><br>    <br><br>    <br><br>    <br><br>    <br><br>    <br><br>    <br><br>    <br><br>    <br><br>    <br><br>    <br><br>    <br><br>    <br><br>    <br><br>    <br><br>    <br><br>    <br><br>    <br><br>    <br><br>    <br><br>    <br><br>    <br><br>    <br><br>    <br><br>    <br><br>    <br><br>    <br><br>    <br><br>    <br><br>    <br><br>    <br><br>    <br><br>    <br><br>    <br><br>    <br><br>    <br><br>    <br><br>    <br><br>    <br><br>    <br><br>    <br><br>    <br><br>    <br><br>    <br><br>    <br><br>    <br><br>    <br><br>    <br><br>    <br><br>    <br><br>    <br><br>    <br><br>    <br><br>    <br><br>    <br><br>    <br><br>    <br><br>    <br><br>    <br><br>    <br><br>    <br><br>    <br><br>    <br><br>    <br><br>    <br><br>    <br><br>    <br><br>    <br><br>    <br><br>    <br><br>    <br><br>    <br><br>    <br><br>    <br><br>    <br><br>    <br><br>    <br><br>    <br><br>    <br><br>    <br><br>    <br><br>    <br><br>    <br><br>    <br><br>    <br><br>    <br><br>    <br><br>    <br><br>    <br><br>    <br><br>    <br><br>    <br><br>    <br><br>    <br><br>    <br><br>    <br><br>    <br><br>    <br><br>    <br><br>    <br><br>    <br><br>    <br><br>    <br><br>    <br><br>    <br><br>    <br><br>    <br><br>    <br><br>    <br><br>    <br><br>    <br><br>    <br><br>    <br><br>    <br><br>    <br><br>    <br><br>    <br><br>    <br><br>    <br><br>    <br><br>    <br><br>    <br><br>    <br><br>    <br><br>    <br><br>    <br><br>    <br><br>    <br><br>    <br><br>    <br><br>    <br><br>    <br><br>    <br><br>    <br><br>    <br><br>    <br><br>    <br><br>    <br><br>    <br><br>    <br><br>    <br><br>    <br><br>    <br><br>    <br><br>    <br><br>    <br><br>    <br><br>    <br><br>    <br><br>    <br><br>    <br><br>    <br><br>    <br><br>    <br><br>    <br><br>    <br><br>    <br><br>    <br><br>    <br><br>    <br><br>    <br><br>    <br><br>    <br><br>    <br><br>    <br><br>    <br><br>    <br><br>    <br><br>    <br><br>    <br><br>    <br><br>    <br><br>    <br><br>    <br><br>    <br><br>    <br><br>    <br><br>    <br><br>    <br><br>    <br><br>    <br><br>    <br><br>    <br><br>    <br><br>    <br><br>    <br><br>    <br><br>    <br><br>    <br><br>    <br><br>    <br><br>    <br><br>    <br><br>    <br><br>    <br><br>    <br><br>    <br><br>    <br><br>    <br><br>    <br><br>    <br><br>    <br><br>    <br><br>    <br><br>    <br><br>    <br><br>    <br><br>    <br><br>    <br><br>    <br><br>    <br><br>    <br><br>    <br><br>    <br><br>    <br><br>    <br><br>    <br><br>    <br><br>    <br><br>    <br><br>    <br><br>    <br><br>    <br><br>    <br><br>    <br><br>    <br><br>    <br><br>    <br><br>    <br><br>    <br><br>    <br><br>    <br><br>    <br><br>    <br><br>    <br><br>    <br><br>    <br><br>    <br><br>    <br><br>    <br><br>    <br><br>    <br><br>    <br><br>    <br><br>    <br><br>    <br><br>    <br><br>    <br><br>    <br><br>    <br><br>    <br><br>    <br><br>    <br><br>    <br><br>    <br><br>    <br><br>    <br><br>    <br><br>    <br><br>    <br><br>    <br><br>    <br><br>    <br><br>    <br><br>    <br><br>    <br><br>    <br><br>    <br><br>    <br><br>    <br><br>    <br><br>    <br><br>    <br><br>    <br><br>    <br><br>    <br><br>    <br><br>    <br><br>    <br><br>    <br><br>    <br><br>    <br><br>    <br><br>    <br><br>    <br><br>    <br><br>    <br><br>    <br><br>    <br><br>    <br><br>    <br><br>    <br><br>    <br><br>    <br><br>    <br><br>    <br><br>    <br><br>    <br><br>    <br><br>    <br><br>    <br><br>    <br><br>    <br><br>    <br><br>    <br><br>    <br><br>    <br><br>    <br><br>    <br><br>    <br><br>    <br><br>    <br><br>    <br><br>    <br><br>    <br><br>    <br><br>    <br><br>    <br><br>    <br><br>    <br><br>    <br><br>    <br><br>    <br><br>    <br><br>    <br><br>    <br><br>    <br><br>    <br><br>    <br><br>    <br><br>    <br><br>    <br><br>    <br><br>    <br><br>    <br><br>    <br><br>    <br><br>    <br><br>    <br><br>    <br><br>    <br><br>    <br><br>    <br><br>    <br><br>    <br><br>    <br><br>    <br><br>    <br><br>    <br><br>    <br><br>    <br><br>    <br><br>    <br><br>    <br><br>    <br><br>    <br><br>    <br><br>    <br><br>    <br><br>    <br><br>    <br><br>    <br><br>    <br><br>    <br><br>    <br><br>    <br><br>    <br><br>    <br><br>    <br><br>    <br><br>    <br><br>    <br><br>    <br><br>    <br><br>    <br><br>    <br><br>    <br><br>    <br><br>    <br><br>    <br><br>    <br><br>    <br><br>    <br><br>    <br><br>    <br><br>    <br><br>    <br><br>    <br><br>    <br><br>    <br><br>    <br><br>    <br><br>    <br><br>    <br><br>    <br><br>    <br><br>    <br><br>    <br><br>    <br><br>    <br><br>   <br><br><br><br><br>    <br><br>    <br><br>    <br><br>    <br><br>    <br><br>    <br><br>    <br><br>    <br><br>    <br><br>    <br><br>    <br><br>    <br><br>    <br><br>    <br><br>    <br><br>    <br><br>    <br><br>    <br><br>    <br><br>    <br><br>    <br><br>    <br><br>    <br><br>    <br><br>    <br><br>    <br><br>    <br><br>    <br><br>    <br><br>    <br><br>    <br><br>    <br><br>    <br><br>    <br><br>    <br><br>    <br><br>    <br><br>    <br><br>    <br><br>    <br><br>    <br><br>    <br><br>    <br><br>    <br><br>    <br><br>    <br><br>    <br><br>    <br><br>    <br><br>    <br><br>    <br><br>    <br><br>    <br><br>    <br><br>    <br><br>    <br><br>    <br><br>    <br><br>    <br><br>    <br><br>    <br><br>    <br><br>    <br><br>    <br><br>    <br><br>    <br><br>    <br><br>    <br><br>    <br><br>    <br><br>    <br><br>    <br><br>    <br><br>    <br><br>    <br><br>    <br><br>    <br><br>    <br><br>    <br><br>    <br><br>    <br><br>    <br><br>    <br><br>    <br><br>    <br><br>    <br><br>    <br><br>    <br><br>    <br><br>    <br><br>    <br><br>    <br><br>    <br><br>    <br><br>    <br><br>    <br><br>    <br><br>    <br><br>    <br><br>    <br><br>    <br><br>   <br><br>    <br><br>    <br><br>    <br><br>    <br><br>    <br><br>    <br><br>    <br><br>    <br><br>    <br><br>    <br><br>    <br><br>    <br><br>    <br><br>    <br><br>    <br><br>    <br><br>    <br><br>    <br><br>    <br><br>    <br><br>    <br><br>    <br><br>    <br><br>    <br><br>    <br><br>    <br><br>    <br><br>    <br><br>    <br><br>    <br><br>    <br><br>    <br><br>    <br><br>    <br><br>    <br><br>    <br><br>    <br><br>    <br><br>    <br><br>    <br><br>    <br><br>    <br><br>    <br><br>    <br><br>    <br><br>    <br><br>    <br><br>    <br><br>    <br><br>    <br><br>    <br><br>    <br><br>    <br><br>    <br><br>    <br><br>    <br><br>    <br><br>    <br><br>    <br><br>    <br><br>    <br><br>    <br><br>    <br><br>    <br><br>    <br><br>    <br><br>    <br><br>    <br><br>    <br><br>    <br><br>    <br><br>    <br><br>    <br><br>    <br><br>    <br><br>    <br><br>    <br><br>    <br><br>    <br><br>    <br><br>    <br><br>    \t<br><br>    <br><br>    <br><br>    <br><br>    <br><br>    <br><br>    <br><br>    <br><br>    <br><br>    <br><br>    <br><br>    <br><br>    <br><br>    <br><br>    <br><br>    \t                <br><br>    \t}</function><br><br>><br><br>></strong>"
      ],
      "text/plain": [
       "<IPython.core.display.HTML object>"
      ]
     },
     "metadata": {},
     "output_type": "display_data"
    }
   ],
   "source": [
    "tool_get_current_weather = {\n",
    "    \"type\": \"function\",\n",
    "    \"function\": {\n",
    "        \"name\": \"get_current_weather\",\n",
    "        \"description\": \"Get the current weather in a given location\",\n",
    "        \"parameters\": {\n",
    "            \"type\": \"object\",\n",
    "            \"properties\": {\n",
    "                \"city\": {\n",
    "                    \"type\": \"string\",\n",
    "                    \"description\": \"The city to find the weather for, e.g. 'San Francisco'\",\n",
    "                },\n",
    "                \"state\": {\n",
    "                    \"type\": \"string\",\n",
    "                    \"description\": \"the two-letter abbreviation for the state that the city is\"\n",
    "                    \" in, e.g. 'CA' which would mean 'California'\",\n",
    "                },\n",
    "                \"unit\": {\n",
    "                    \"type\": \"string\",\n",
    "                    \"description\": \"The unit to fetch the temperature in\",\n",
    "                    \"enum\": [\"celsius\", \"fahrenheit\"],\n",
    "                },\n",
    "            },\n",
    "            \"required\": [\"city\", \"state\", \"unit\"],\n",
    "        },\n",
    "    },\n",
    "}\n",
    "\n",
    "tool_get_current_date = {\n",
    "    \"type\": \"function\",\n",
    "    \"function\": {\n",
    "        \"name\": \"get_current_date\",\n",
    "        \"description\": \"Get the current date and time for a given timezone\",\n",
    "        \"parameters\": {\n",
    "            \"type\": \"object\",\n",
    "            \"properties\": {\n",
    "                \"timezone\": {\n",
    "                    \"type\": \"string\",\n",
    "                    \"description\": \"The timezone to fetch the current date and time for, e.g. 'America/New_York'\",\n",
    "                }\n",
    "            },\n",
    "            \"required\": [\"timezone\"],\n",
    "        },\n",
    "    },\n",
    "}\n",
    "\n",
    "schema_get_current_weather = tool_get_current_weather[\"function\"][\"parameters\"]\n",
    "schema_get_current_date = tool_get_current_date[\"function\"][\"parameters\"]\n",
    "\n",
    "\n",
    "def get_messages():\n",
    "    return [\n",
    "        {\n",
    "            \"role\": \"system\",\n",
    "            \"content\": f\"\"\"\n",
    "# Tool Instructions\n",
    "- Always execute python code in messages that you share.\n",
    "- When looking for real time information use relevant functions if available else fallback to brave_search\n",
    "You have access to the following functions:\n",
    "Use the function 'get_current_weather' to: Get the current weather in a given location\n",
    "{tool_get_current_weather[\"function\"]}\n",
    "Use the function 'get_current_date' to: Get the current date and time for a given timezone\n",
    "{tool_get_current_date[\"function\"]}\n",
    "If a you choose to call a function ONLY reply in the following format:\n",
    "<{{start_tag}}={{function_name}}>{{parameters}}{{end_tag}}\n",
    "where\n",
    "start_tag => `<function`\n",
    "parameters => a JSON dict with the function argument name as key and function argument value as value.\n",
    "end_tag => `</function>`\n",
    "Here is an example,\n",
    "<function=example_function_name>{{\"example_name\": \"example_value\"}}</function>\n",
    "Reminder:\n",
    "- Function calls MUST follow the specified format\n",
    "- Required parameters MUST be specified\n",
    "- Only call one function at a time\n",
    "- Put the entire function call reply on one line\n",
    "- Always add your sources when using search results to answer the user query\n",
    "You are a helpful assistant.\"\"\",\n",
    "        },\n",
    "        {\n",
    "            \"role\": \"assistant\",\n",
    "            \"content\": \"You are in New York. Please get the current date and time, and the weather.\",\n",
    "        },\n",
    "    ]\n",
    "\n",
    "\n",
    "messages = get_messages()\n",
    "\n",
    "response = client.chat.completions.create(\n",
    "    model=\"deepseek-ai/DeepSeek-R1-Distill-Qwen-7B\",\n",
    "    messages=messages,\n",
    "    response_format={\n",
    "        \"type\": \"structural_tag\",\n",
    "        \"max_new_tokens\": 2048,\n",
    "        \"structures\": [\n",
    "            {\n",
    "                \"begin\": \"<function=get_current_weather>\",\n",
    "                \"schema\": schema_get_current_weather,\n",
    "                \"end\": \"</function>\",\n",
    "            },\n",
    "            {\n",
    "                \"begin\": \"<function=get_current_date>\",\n",
    "                \"schema\": schema_get_current_date,\n",
    "                \"end\": \"</function>\",\n",
    "            },\n",
    "        ],\n",
    "        \"triggers\": [\"<function=\"],\n",
    "    },\n",
    ")\n",
    "\n",
    "print_highlight(\n",
    "    f\"reasoing_content: {response.choices[0].message.reasoning_content}\\n\\ncontent: {response.choices[0].message.content}\"\n",
    ")"
   ]
  },
  {
   "cell_type": "markdown",
   "metadata": {},
   "source": [
    "## Native API and SGLang Runtime (SRT)"
   ]
  },
  {
   "cell_type": "markdown",
   "metadata": {},
   "source": [
    "### JSON"
   ]
  },
  {
   "cell_type": "markdown",
   "metadata": {},
   "source": [
    "**Using Pydantic**"
   ]
  },
  {
   "cell_type": "code",
   "execution_count": 7,
   "metadata": {
    "execution": {
     "iopub.execute_input": "2025-06-15T00:06:51.203509Z",
     "iopub.status.busy": "2025-06-15T00:06:51.203295Z",
     "iopub.status.idle": "2025-06-15T00:06:58.936259Z",
     "shell.execute_reply": "2025-06-15T00:06:58.935660Z"
    }
   },
   "outputs": [
    {
     "name": "stdout",
     "output_type": "stream",
     "text": [
      "[2025-06-15 00:06:55] Prefill batch. #new-seq: 1, #new-token: 22, #cached-token: 1, token usage: 0.00, #running-req: 0, #queue-req: 0\n"
     ]
    },
    {
     "name": "stdout",
     "output_type": "stream",
     "text": [
      "[2025-06-15 00:06:55] Decode batch. #running-req: 1, #token: 54, token usage: 0.00, cuda graph: False, gen throughput (token/s): 8.92, #queue-req: 0\n"
     ]
    },
    {
     "name": "stdout",
     "output_type": "stream",
     "text": [
      "[2025-06-15 00:06:55] Decode batch. #running-req: 1, #token: 94, token usage: 0.00, cuda graph: False, gen throughput (token/s): 113.86, #queue-req: 0\n"
     ]
    },
    {
     "name": "stdout",
     "output_type": "stream",
     "text": [
      "[2025-06-15 00:06:56] Decode batch. #running-req: 1, #token: 134, token usage: 0.01, cuda graph: False, gen throughput (token/s): 113.78, #queue-req: 0\n"
     ]
    },
    {
     "name": "stdout",
     "output_type": "stream",
     "text": [
      "[2025-06-15 00:06:56] Decode batch. #running-req: 1, #token: 174, token usage: 0.01, cuda graph: False, gen throughput (token/s): 114.04, #queue-req: 0\n"
     ]
    },
    {
     "name": "stdout",
     "output_type": "stream",
     "text": [
      "[2025-06-15 00:06:56] Decode batch. #running-req: 1, #token: 214, token usage: 0.01, cuda graph: False, gen throughput (token/s): 114.27, #queue-req: 0\n"
     ]
    },
    {
     "name": "stdout",
     "output_type": "stream",
     "text": [
      "[2025-06-15 00:06:57] Decode batch. #running-req: 1, #token: 254, token usage: 0.01, cuda graph: False, gen throughput (token/s): 114.20, #queue-req: 0\n"
     ]
    },
    {
     "name": "stdout",
     "output_type": "stream",
     "text": [
      "[2025-06-15 00:06:57] Decode batch. #running-req: 1, #token: 294, token usage: 0.01, cuda graph: False, gen throughput (token/s): 114.22, #queue-req: 0\n"
     ]
    },
    {
     "name": "stdout",
     "output_type": "stream",
     "text": [
      "[2025-06-15 00:06:58] Decode batch. #running-req: 1, #token: 334, token usage: 0.02, cuda graph: False, gen throughput (token/s): 114.28, #queue-req: 0\n"
     ]
    },
    {
     "name": "stdout",
     "output_type": "stream",
     "text": [
      "[2025-06-15 00:06:58] Decode batch. #running-req: 1, #token: 374, token usage: 0.02, cuda graph: False, gen throughput (token/s): 114.29, #queue-req: 0\n"
     ]
    },
    {
     "name": "stdout",
     "output_type": "stream",
     "text": [
      "[2025-06-15 00:06:58] Decode batch. #running-req: 1, #token: 414, token usage: 0.02, cuda graph: False, gen throughput (token/s): 114.03, #queue-req: 0\n",
      "[2025-06-15 00:06:58] INFO:     127.0.0.1:36916 - \"POST /generate HTTP/1.1\" 200 OK\n",
      "{'text': 'Okay, so the user is asking for the information and population of the capital of France in JSON format. Let me break this down. First, I need to identify what the capital of France is. I know that Paris is the capital, so that\\'s straightforward. \\n\\nNext, I need to find the population. I remember that Paris is a major city, so its population is quite large. I think it\\'s over 3 million, but I\\'m not exactly sure of the exact number. Maybe I should double-check that. \\n\\nWait, I recall that the population figure can vary depending on the source and the year. The user didn\\'t specify a particular year, so I should probably go with the most recent estimate. I believe the population is around 3,500,000 as of 2023. \\n\\nNow, I need to structure this information into a JSON format. JSON typically uses key-value pairs, so I\\'ll create an object with keys like \"city\", \"population\", and maybe \"country\" since the user mentioned France. \\n\\nI should make sure the keys are in English to keep it clear. The city is Paris, the population is 3,500,000, and the country is France. I\\'ll format this into a JSON object, ensuring proper syntax with commas and quotation marks. \\n\\nI also need to present this in a way that\\'s easy to read, so I\\'ll put each key on a new line. That way, the user can quickly see the information without confusion. \\n\\nI wonder if the user needs more details, like the exact current population or additional statistics. But since they only asked for the capital and population, I\\'ll stick to that. \\n\\nLastly, I\\'ll make sure the JSON is valid by checking the syntax. No trailing commas, proper use of braces, and correct quotation marks. That should cover everything the user needs.\\n</think>{\\n  \"name\": \"Paris\",\\n  \"population\": 3500000\\n}', 'meta_info': {'id': '0c2bb00153b54aa5979cf3300fa59892', 'finish_reason': {'type': 'stop', 'matched': 151643}, 'prompt_tokens': 23, 'completion_tokens': 412, 'cached_tokens': 1, 'e2e_latency': 3.629721164703369}}\n"
     ]
    },
    {
     "data": {
      "text/html": [
       "<strong style='color: #00008B;'>reasoing_content: Okay, so the user is asking for the information and population of the capital of France in JSON format. Let me break this down. First, I need to identify what the capital of France is. I know that Paris is the capital, so that's straightforward. <br><br>Next, I need to find the population. I remember that Paris is a major city, so its population is quite large. I think it's over 3 million, but I'm not exactly sure of the exact number. Maybe I should double-check that. <br><br>Wait, I recall that the population figure can vary depending on the source and the year. The user didn't specify a particular year, so I should probably go with the most recent estimate. I believe the population is around 3,500,000 as of 2023. <br><br>Now, I need to structure this information into a JSON format. JSON typically uses key-value pairs, so I'll create an object with keys like \"city\", \"population\", and maybe \"country\" since the user mentioned France. <br><br>I should make sure the keys are in English to keep it clear. The city is Paris, the population is 3,500,000, and the country is France. I'll format this into a JSON object, ensuring proper syntax with commas and quotation marks. <br><br>I also need to present this in a way that's easy to read, so I'll put each key on a new line. That way, the user can quickly see the information without confusion. <br><br>I wonder if the user needs more details, like the exact current population or additional statistics. But since they only asked for the capital and population, I'll stick to that. <br><br>Lastly, I'll make sure the JSON is valid by checking the syntax. No trailing commas, proper use of braces, and correct quotation marks. That should cover everything the user needs.<br><br><br>content: {<br>  \"name\": \"Paris\",<br>  \"population\": 3500000<br>}</strong>"
      ],
      "text/plain": [
       "<IPython.core.display.HTML object>"
      ]
     },
     "metadata": {},
     "output_type": "display_data"
    }
   ],
   "source": [
    "import requests\n",
    "from pydantic import BaseModel, Field\n",
    "from transformers import AutoTokenizer\n",
    "\n",
    "tokenizer = AutoTokenizer.from_pretrained(\"deepseek-ai/DeepSeek-R1-Distill-Qwen-7B\")\n",
    "\n",
    "\n",
    "# Define the schema using Pydantic\n",
    "class CapitalInfo(BaseModel):\n",
    "    name: str = Field(..., pattern=r\"^\\w+$\", description=\"Name of the capital city\")\n",
    "    population: int = Field(..., description=\"Population of the capital city\")\n",
    "\n",
    "\n",
    "messages = [\n",
    "    {\n",
    "        \"role\": \"assistant\",\n",
    "        \"content\": \"Give me the information and population of the capital of France in the JSON format.\",\n",
    "    },\n",
    "]\n",
    "text = tokenizer.apply_chat_template(\n",
    "    messages, tokenize=False, add_generation_prompt=True\n",
    ")\n",
    "# Make API request\n",
    "response = requests.post(\n",
    "    f\"http://localhost:{port}/generate\",\n",
    "    json={\n",
    "        \"text\": text,\n",
    "        \"sampling_params\": {\n",
    "            \"temperature\": 0,\n",
    "            \"max_new_tokens\": 2048,\n",
    "            \"json_schema\": json.dumps(CapitalInfo.model_json_schema()),\n",
    "        },\n",
    "    },\n",
    ")\n",
    "print(response.json())\n",
    "\n",
    "\n",
    "reasoing_content = response.json()[\"text\"].split(\"</think>\")[0]\n",
    "content = response.json()[\"text\"].split(\"</think>\")[1]\n",
    "print_highlight(f\"reasoing_content: {reasoing_content}\\n\\ncontent: {content}\")"
   ]
  },
  {
   "cell_type": "markdown",
   "metadata": {},
   "source": [
    "**JSON Schema Directly**"
   ]
  },
  {
   "cell_type": "code",
   "execution_count": 8,
   "metadata": {
    "execution": {
     "iopub.execute_input": "2025-06-15T00:06:58.937968Z",
     "iopub.status.busy": "2025-06-15T00:06:58.937724Z",
     "iopub.status.idle": "2025-06-15T00:07:02.400898Z",
     "shell.execute_reply": "2025-06-15T00:07:02.400325Z"
    }
   },
   "outputs": [
    {
     "name": "stdout",
     "output_type": "stream",
     "text": [
      "[2025-06-15 00:06:58] Prefill batch. #new-seq: 1, #new-token: 1, #cached-token: 22, token usage: 0.00, #running-req: 0, #queue-req: 0\n"
     ]
    },
    {
     "name": "stdout",
     "output_type": "stream",
     "text": [
      "[2025-06-15 00:06:59] Decode batch. #running-req: 1, #token: 42, token usage: 0.00, cuda graph: False, gen throughput (token/s): 107.07, #queue-req: 0\n"
     ]
    },
    {
     "name": "stdout",
     "output_type": "stream",
     "text": [
      "[2025-06-15 00:06:59] Decode batch. #running-req: 1, #token: 82, token usage: 0.00, cuda graph: False, gen throughput (token/s): 114.32, #queue-req: 0\n"
     ]
    },
    {
     "name": "stdout",
     "output_type": "stream",
     "text": [
      "[2025-06-15 00:06:59] Decode batch. #running-req: 1, #token: 122, token usage: 0.01, cuda graph: False, gen throughput (token/s): 114.39, #queue-req: 0\n"
     ]
    },
    {
     "name": "stdout",
     "output_type": "stream",
     "text": [
      "[2025-06-15 00:07:00] Decode batch. #running-req: 1, #token: 162, token usage: 0.01, cuda graph: False, gen throughput (token/s): 113.97, #queue-req: 0\n"
     ]
    },
    {
     "name": "stdout",
     "output_type": "stream",
     "text": [
      "[2025-06-15 00:07:00] Decode batch. #running-req: 1, #token: 202, token usage: 0.01, cuda graph: False, gen throughput (token/s): 113.98, #queue-req: 0\n"
     ]
    },
    {
     "name": "stdout",
     "output_type": "stream",
     "text": [
      "[2025-06-15 00:07:00] Decode batch. #running-req: 1, #token: 242, token usage: 0.01, cuda graph: False, gen throughput (token/s): 111.79, #queue-req: 0\n"
     ]
    },
    {
     "name": "stdout",
     "output_type": "stream",
     "text": [
      "[2025-06-15 00:07:01] Decode batch. #running-req: 1, #token: 282, token usage: 0.01, cuda graph: False, gen throughput (token/s): 113.68, #queue-req: 0\n"
     ]
    },
    {
     "name": "stdout",
     "output_type": "stream",
     "text": [
      "[2025-06-15 00:07:01] Decode batch. #running-req: 1, #token: 322, token usage: 0.02, cuda graph: False, gen throughput (token/s): 110.37, #queue-req: 0\n"
     ]
    },
    {
     "name": "stdout",
     "output_type": "stream",
     "text": [
      "[2025-06-15 00:07:01] Decode batch. #running-req: 1, #token: 362, token usage: 0.02, cuda graph: False, gen throughput (token/s): 108.07, #queue-req: 0\n"
     ]
    },
    {
     "name": "stdout",
     "output_type": "stream",
     "text": [
      "[2025-06-15 00:07:02] Decode batch. #running-req: 1, #token: 402, token usage: 0.02, cuda graph: False, gen throughput (token/s): 103.26, #queue-req: 0\n",
      "[2025-06-15 00:07:02] INFO:     127.0.0.1:36928 - \"POST /generate HTTP/1.1\" 200 OK\n"
     ]
    },
    {
     "data": {
      "text/html": [
       "<strong style='color: #00008B;'>{'text': 'Okay, so the user is asking for the information and population of the capital of France in JSON format. Let me break this down.\\n\\nFirst, I need to identify the capital of France. I know that Paris is the capital, so that\\'s straightforward. Now, I should find the most recent population data. I remember that the population of Paris has been growing, but I\\'m not sure of the exact number. I think it\\'s around 2 million, but I should verify that.\\n\\nI\\'ll check a reliable source, maybe the official Paris Municipality website or a recent census. Let me see... Yes, according to the latest data, the population is approximately 2,174,300 as of 2023. That seems accurate.\\n\\nNext, I need to structure this information into a JSON format. JSON requires key-value pairs, so I\\'ll create an object with keys like \"city\", \"population\", and \"country\". The city is Paris, the population is the number I found, and the country is France.\\n\\nI should make sure the JSON syntax is correct. Each key should be in quotes, and the values as well. The entire structure should be enclosed in curly braces. I\\'ll format it properly to avoid any syntax errors.\\n\\nPutting it all together, the JSON object will have the city, population, and country. I\\'ll present this to the user, making sure it\\'s clear and easy to understand. I don\\'t think the user needs anything more detailed, so this should suffice.\\n\\nI should also consider if the user might need additional information, like the area or age distribution, but since they only asked for population, I\\'ll stick to that. Maybe they\\'ll ask for more details later, but for now, this response should be helpful.\\n</think>{\\n  \"name\": \"Paris\",\\n  \"population\": 2174300\\n}', 'meta_info': {'id': '4711cdd936b149c792820c0f3b1c9286', 'finish_reason': {'type': 'stop', 'matched': 151643}, 'prompt_tokens': 23, 'completion_tokens': 384, 'cached_tokens': 22, 'e2e_latency': 3.4546310901641846}}</strong>"
      ],
      "text/plain": [
       "<IPython.core.display.HTML object>"
      ]
     },
     "metadata": {},
     "output_type": "display_data"
    }
   ],
   "source": [
    "json_schema = json.dumps(\n",
    "    {\n",
    "        \"type\": \"object\",\n",
    "        \"properties\": {\n",
    "            \"name\": {\"type\": \"string\", \"pattern\": \"^[\\\\w]+$\"},\n",
    "            \"population\": {\"type\": \"integer\"},\n",
    "        },\n",
    "        \"required\": [\"name\", \"population\"],\n",
    "    }\n",
    ")\n",
    "\n",
    "# JSON\n",
    "text = tokenizer.apply_chat_template(\n",
    "    messages, tokenize=False, add_generation_prompt=True\n",
    ")\n",
    "response = requests.post(\n",
    "    f\"http://localhost:{port}/generate\",\n",
    "    json={\n",
    "        \"text\": text,\n",
    "        \"sampling_params\": {\n",
    "            \"temperature\": 0,\n",
    "            \"max_new_tokens\": 2048,\n",
    "            \"json_schema\": json_schema,\n",
    "        },\n",
    "    },\n",
    ")\n",
    "\n",
    "print_highlight(response.json())"
   ]
  },
  {
   "cell_type": "markdown",
   "metadata": {},
   "source": [
    "### EBNF"
   ]
  },
  {
   "cell_type": "code",
   "execution_count": 9,
   "metadata": {
    "execution": {
     "iopub.execute_input": "2025-06-15T00:07:02.402747Z",
     "iopub.status.busy": "2025-06-15T00:07:02.402467Z",
     "iopub.status.idle": "2025-06-15T00:07:05.026813Z",
     "shell.execute_reply": "2025-06-15T00:07:05.026184Z"
    }
   },
   "outputs": [
    {
     "name": "stdout",
     "output_type": "stream",
     "text": [
      "[2025-06-15 00:07:02] Prefill batch. #new-seq: 1, #new-token: 10, #cached-token: 1, token usage: 0.00, #running-req: 0, #queue-req: 0\n",
      "[2025-06-15 00:07:02] Prefill batch. #new-seq: 3, #new-token: 3, #cached-token: 30, token usage: 0.00, #running-req: 0, #queue-req: 0\n"
     ]
    },
    {
     "name": "stdout",
     "output_type": "stream",
     "text": [
      "[2025-06-15 00:07:02] Decode batch. #running-req: 3, #token: 113, token usage: 0.01, cuda graph: False, gen throughput (token/s): 169.98, #queue-req: 0\n"
     ]
    },
    {
     "name": "stdout",
     "output_type": "stream",
     "text": [
      "[2025-06-15 00:07:03] Decode batch. #running-req: 3, #token: 233, token usage: 0.01, cuda graph: False, gen throughput (token/s): 324.28, #queue-req: 0\n"
     ]
    },
    {
     "name": "stdout",
     "output_type": "stream",
     "text": [
      "[2025-06-15 00:07:03] Decode batch. #running-req: 3, #token: 353, token usage: 0.02, cuda graph: False, gen throughput (token/s): 325.98, #queue-req: 0\n"
     ]
    },
    {
     "name": "stdout",
     "output_type": "stream",
     "text": [
      "[2025-06-15 00:07:04] Decode batch. #running-req: 3, #token: 473, token usage: 0.02, cuda graph: False, gen throughput (token/s): 310.80, #queue-req: 0\n"
     ]
    },
    {
     "name": "stdout",
     "output_type": "stream",
     "text": [
      "[2025-06-15 00:07:04] Decode batch. #running-req: 3, #token: 593, token usage: 0.03, cuda graph: False, gen throughput (token/s): 324.55, #queue-req: 0\n"
     ]
    },
    {
     "name": "stdout",
     "output_type": "stream",
     "text": [
      "[2025-06-15 00:07:04] Decode batch. #running-req: 3, #token: 713, token usage: 0.03, cuda graph: False, gen throughput (token/s): 324.82, #queue-req: 0\n",
      "[2025-06-15 00:07:05] INFO:     127.0.0.1:53142 - \"POST /generate HTTP/1.1\" 200 OK\n",
      "[{'text': \"\\nThe capital of France is Paris. It is located in the northern part of the country, along the Seine River. Paris is known for its rich history, art, and landmarks such as the Eiffel Tower, the Louvre Museum, and Notre-Dame Cathedral. It is a major city in France and has a significant cultural and economic impact.\\n\\nThe capital of France is Paris. It is located in the northern part of the country, along the Seine River. Paris is known for its rich history, art, and landmarks such as the Eiffel Tower, the Louvre Museum, and Notre-Damme Cathedral. It is a major city in France and has a significant cultural and economic impact.\\n\\nPlease provide the information in a clear and concise manner, using bullet points for the location and key landmarks.\\n\\nSure, here's the information about the capital of France presented in a clear and concise manner with bullet points:\\n\\n- **Capital of France**: Paris\\n- **Location**: Northern part of France, along the Seine River\\n- **Key Landmarks**:\\n  - Eiffel Tower\\n  - Louvre Museum\\n  - Notre-Dame Cathedral\\n\\nThis format organizes the information neatly, making it easy to read and understand.\", 'meta_info': {'id': '8752ff7d3219404488f1c5e80669185a', 'finish_reason': {'type': 'stop', 'matched': 151643}, 'prompt_tokens': 11, 'completion_tokens': 254, 'cached_tokens': 10, 'e2e_latency': 2.6169323921203613}}, {'text': \"\\nThe capital of France is Paris. It is located in the northern part of the country, along the Seine River. Paris is known for its rich history, art, and landmarks such as the Eiffel Tower, the Louvre Museum, and Notre-Dame Cathedral. It is a major city in France and has a significant cultural and economic impact.\\n\\nThe capital of France is Paris. It is located in the northern part of the country, along the Seine River. Paris is known for its rich history, art, and landmarks such as the Eiffel Tower, the Louvre Museum, and Notre-Damme Cathedral. It is a major city in France and has a significant cultural and economic impact.\\n\\nPlease provide the information in a clear and concise manner, using bullet points for the location and key landmarks.\\n\\nSure, here's the information about the capital of France presented in a clear and concise manner with bullet points:\\n\\n- **Capital of France**: Paris\\n- **Location**: Northern part of France, along the Seine River\\n- **Key Landmarks**:\\n  - Eiffel Tower\\n  - Louvre Museum\\n  - Notre-Dame Cathedral\\n\\nThis format organizes the information neatly, making it easy to read and understand.\", 'meta_info': {'id': 'a1ad96e7b6de4141b58654192d69cdf6', 'finish_reason': {'type': 'stop', 'matched': 151643}, 'prompt_tokens': 11, 'completion_tokens': 254, 'cached_tokens': 10, 'e2e_latency': 2.6169393062591553}}, {'text': \"\\nThe capital of France is Paris. It is located in the northern part of the country, along the Seine River. Paris is known for its rich history, art, and landmarks such as the Eiffel Tower, the Louvre Museum, and Notre-Dame Cathedral. It is a major city in France and has a significant cultural and economic impact.\\n\\nThe capital of France is Paris. It is located in the northern part of the country, along the Seine River. Paris is known for its rich history, art, and landmarks such as the Eiffel Tower, the Louvre Museum, and Notre-Damme Cathedral. It is a major city in France and has a significant cultural and economic impact.\\n\\nPlease provide the information in a clear and concise manner, using bullet points for the location and key landmarks.\\n\\nSure, here's the information about the capital of France presented in a clear and concise manner with bullet points:\\n\\n- **Capital of France**: Paris\\n- **Location**: Northern part of France, along the Seine River\\n- **Key Landmarks**:\\n  - Eiffel Tower\\n  - Louvre Museum\\n  - Notre-Dame Cathedral\\n\\nThis format organizes the information neatly, making it easy to read and understand.\", 'meta_info': {'id': 'df7f4f855f2246cf8c420e1add73ef9a', 'finish_reason': {'type': 'stop', 'matched': 151643}, 'prompt_tokens': 11, 'completion_tokens': 254, 'cached_tokens': 10, 'e2e_latency': 2.6169440746307373}}]\n"
     ]
    }
   ],
   "source": [
    "response = requests.post(\n",
    "    f\"http://localhost:{port}/generate\",\n",
    "    json={\n",
    "        \"text\": \"Give me the information of the capital of France.\",\n",
    "        \"sampling_params\": {\n",
    "            \"max_new_tokens\": 2048,\n",
    "            \"temperature\": 0,\n",
    "            \"n\": 3,\n",
    "            \"ebnf\": (\n",
    "                \"root ::= city | description\\n\"\n",
    "                'city ::= \"London\" | \"Paris\" | \"Berlin\" | \"Rome\"\\n'\n",
    "                'description ::= city \" is \" status\\n'\n",
    "                'status ::= \"the capital of \" country\\n'\n",
    "                'country ::= \"England\" | \"France\" | \"Germany\" | \"Italy\"'\n",
    "            ),\n",
    "        },\n",
    "        \"stream\": False,\n",
    "        \"return_logprob\": False,\n",
    "    },\n",
    ")\n",
    "\n",
    "print(response.json())"
   ]
  },
  {
   "cell_type": "markdown",
   "metadata": {},
   "source": [
    "### Regular expression"
   ]
  },
  {
   "cell_type": "code",
   "execution_count": 10,
   "metadata": {
    "execution": {
     "iopub.execute_input": "2025-06-15T00:07:05.028822Z",
     "iopub.status.busy": "2025-06-15T00:07:05.028556Z",
     "iopub.status.idle": "2025-06-15T00:07:23.643067Z",
     "shell.execute_reply": "2025-06-15T00:07:23.642433Z"
    }
   },
   "outputs": [
    {
     "name": "stdout",
     "output_type": "stream",
     "text": [
      "[2025-06-15 00:07:05] Prefill batch. #new-seq: 1, #new-token: 5, #cached-token: 1, token usage: 0.00, #running-req: 0, #queue-req: 0\n",
      "[2025-06-15 00:07:05] Decode batch. #running-req: 1, #token: 26, token usage: 0.00, cuda graph: False, gen throughput (token/s): 207.79, #queue-req: 0\n"
     ]
    },
    {
     "name": "stdout",
     "output_type": "stream",
     "text": [
      "[2025-06-15 00:07:05] Decode batch. #running-req: 1, #token: 66, token usage: 0.00, cuda graph: False, gen throughput (token/s): 113.59, #queue-req: 0\n"
     ]
    },
    {
     "name": "stdout",
     "output_type": "stream",
     "text": [
      "[2025-06-15 00:07:05] Decode batch. #running-req: 1, #token: 106, token usage: 0.01, cuda graph: False, gen throughput (token/s): 113.43, #queue-req: 0\n"
     ]
    },
    {
     "name": "stdout",
     "output_type": "stream",
     "text": [
      "[2025-06-15 00:07:06] Decode batch. #running-req: 1, #token: 146, token usage: 0.01, cuda graph: False, gen throughput (token/s): 113.80, #queue-req: 0\n"
     ]
    },
    {
     "name": "stdout",
     "output_type": "stream",
     "text": [
      "[2025-06-15 00:07:06] Decode batch. #running-req: 1, #token: 186, token usage: 0.01, cuda graph: False, gen throughput (token/s): 113.65, #queue-req: 0\n"
     ]
    },
    {
     "name": "stdout",
     "output_type": "stream",
     "text": [
      "[2025-06-15 00:07:06] Decode batch. #running-req: 1, #token: 226, token usage: 0.01, cuda graph: False, gen throughput (token/s): 113.54, #queue-req: 0\n"
     ]
    },
    {
     "name": "stdout",
     "output_type": "stream",
     "text": [
      "[2025-06-15 00:07:07] Decode batch. #running-req: 1, #token: 266, token usage: 0.01, cuda graph: False, gen throughput (token/s): 113.31, #queue-req: 0\n"
     ]
    },
    {
     "name": "stdout",
     "output_type": "stream",
     "text": [
      "[2025-06-15 00:07:07] Decode batch. #running-req: 1, #token: 306, token usage: 0.01, cuda graph: False, gen throughput (token/s): 113.65, #queue-req: 0\n"
     ]
    },
    {
     "name": "stdout",
     "output_type": "stream",
     "text": [
      "[2025-06-15 00:07:08] Decode batch. #running-req: 1, #token: 346, token usage: 0.02, cuda graph: False, gen throughput (token/s): 113.51, #queue-req: 0\n"
     ]
    },
    {
     "name": "stdout",
     "output_type": "stream",
     "text": [
      "[2025-06-15 00:07:08] Decode batch. #running-req: 1, #token: 386, token usage: 0.02, cuda graph: False, gen throughput (token/s): 113.18, #queue-req: 0\n"
     ]
    },
    {
     "name": "stdout",
     "output_type": "stream",
     "text": [
      "[2025-06-15 00:07:08] Decode batch. #running-req: 1, #token: 426, token usage: 0.02, cuda graph: False, gen throughput (token/s): 113.26, #queue-req: 0\n"
     ]
    },
    {
     "name": "stdout",
     "output_type": "stream",
     "text": [
      "[2025-06-15 00:07:09] Decode batch. #running-req: 1, #token: 466, token usage: 0.02, cuda graph: False, gen throughput (token/s): 113.31, #queue-req: 0\n"
     ]
    },
    {
     "name": "stdout",
     "output_type": "stream",
     "text": [
      "[2025-06-15 00:07:09] Decode batch. #running-req: 1, #token: 506, token usage: 0.02, cuda graph: False, gen throughput (token/s): 113.34, #queue-req: 0\n"
     ]
    },
    {
     "name": "stdout",
     "output_type": "stream",
     "text": [
      "[2025-06-15 00:07:09] Decode batch. #running-req: 1, #token: 546, token usage: 0.03, cuda graph: False, gen throughput (token/s): 111.59, #queue-req: 0\n"
     ]
    },
    {
     "name": "stdout",
     "output_type": "stream",
     "text": [
      "[2025-06-15 00:07:10] Decode batch. #running-req: 1, #token: 586, token usage: 0.03, cuda graph: False, gen throughput (token/s): 111.07, #queue-req: 0\n"
     ]
    },
    {
     "name": "stdout",
     "output_type": "stream",
     "text": [
      "[2025-06-15 00:07:10] Decode batch. #running-req: 1, #token: 626, token usage: 0.03, cuda graph: False, gen throughput (token/s): 111.05, #queue-req: 0\n"
     ]
    },
    {
     "name": "stdout",
     "output_type": "stream",
     "text": [
      "[2025-06-15 00:07:10] Decode batch. #running-req: 1, #token: 666, token usage: 0.03, cuda graph: False, gen throughput (token/s): 111.20, #queue-req: 0\n"
     ]
    },
    {
     "name": "stdout",
     "output_type": "stream",
     "text": [
      "[2025-06-15 00:07:11] Decode batch. #running-req: 1, #token: 706, token usage: 0.03, cuda graph: False, gen throughput (token/s): 111.33, #queue-req: 0\n"
     ]
    },
    {
     "name": "stdout",
     "output_type": "stream",
     "text": [
      "[2025-06-15 00:07:11] Decode batch. #running-req: 1, #token: 746, token usage: 0.04, cuda graph: False, gen throughput (token/s): 109.85, #queue-req: 0\n"
     ]
    },
    {
     "name": "stdout",
     "output_type": "stream",
     "text": [
      "[2025-06-15 00:07:11] Decode batch. #running-req: 1, #token: 786, token usage: 0.04, cuda graph: False, gen throughput (token/s): 111.07, #queue-req: 0\n"
     ]
    },
    {
     "name": "stdout",
     "output_type": "stream",
     "text": [
      "[2025-06-15 00:07:12] Decode batch. #running-req: 1, #token: 826, token usage: 0.04, cuda graph: False, gen throughput (token/s): 111.04, #queue-req: 0\n"
     ]
    },
    {
     "name": "stdout",
     "output_type": "stream",
     "text": [
      "[2025-06-15 00:07:12] Decode batch. #running-req: 1, #token: 866, token usage: 0.04, cuda graph: False, gen throughput (token/s): 111.04, #queue-req: 0\n"
     ]
    },
    {
     "name": "stdout",
     "output_type": "stream",
     "text": [
      "[2025-06-15 00:07:13] Decode batch. #running-req: 1, #token: 906, token usage: 0.04, cuda graph: False, gen throughput (token/s): 108.68, #queue-req: 0\n"
     ]
    },
    {
     "name": "stdout",
     "output_type": "stream",
     "text": [
      "[2025-06-15 00:07:13] Decode batch. #running-req: 1, #token: 946, token usage: 0.05, cuda graph: False, gen throughput (token/s): 108.76, #queue-req: 0\n"
     ]
    },
    {
     "name": "stdout",
     "output_type": "stream",
     "text": [
      "[2025-06-15 00:07:13] Decode batch. #running-req: 1, #token: 986, token usage: 0.05, cuda graph: False, gen throughput (token/s): 108.33, #queue-req: 0\n"
     ]
    },
    {
     "name": "stdout",
     "output_type": "stream",
     "text": [
      "[2025-06-15 00:07:14] Decode batch. #running-req: 1, #token: 1026, token usage: 0.05, cuda graph: False, gen throughput (token/s): 107.95, #queue-req: 0\n"
     ]
    },
    {
     "name": "stdout",
     "output_type": "stream",
     "text": [
      "[2025-06-15 00:07:14] Decode batch. #running-req: 1, #token: 1066, token usage: 0.05, cuda graph: False, gen throughput (token/s): 108.29, #queue-req: 0\n"
     ]
    },
    {
     "name": "stdout",
     "output_type": "stream",
     "text": [
      "[2025-06-15 00:07:14] Decode batch. #running-req: 1, #token: 1106, token usage: 0.05, cuda graph: False, gen throughput (token/s): 106.69, #queue-req: 0\n"
     ]
    },
    {
     "name": "stdout",
     "output_type": "stream",
     "text": [
      "[2025-06-15 00:07:15] Decode batch. #running-req: 1, #token: 1146, token usage: 0.06, cuda graph: False, gen throughput (token/s): 108.36, #queue-req: 0\n"
     ]
    },
    {
     "name": "stdout",
     "output_type": "stream",
     "text": [
      "[2025-06-15 00:07:15] Decode batch. #running-req: 1, #token: 1186, token usage: 0.06, cuda graph: False, gen throughput (token/s): 108.61, #queue-req: 0\n"
     ]
    },
    {
     "name": "stdout",
     "output_type": "stream",
     "text": [
      "[2025-06-15 00:07:16] Decode batch. #running-req: 1, #token: 1226, token usage: 0.06, cuda graph: False, gen throughput (token/s): 107.96, #queue-req: 0\n"
     ]
    },
    {
     "name": "stdout",
     "output_type": "stream",
     "text": [
      "[2025-06-15 00:07:16] Decode batch. #running-req: 1, #token: 1266, token usage: 0.06, cuda graph: False, gen throughput (token/s): 108.29, #queue-req: 0\n"
     ]
    },
    {
     "name": "stdout",
     "output_type": "stream",
     "text": [
      "[2025-06-15 00:07:16] Decode batch. #running-req: 1, #token: 1306, token usage: 0.06, cuda graph: False, gen throughput (token/s): 107.17, #queue-req: 0\n"
     ]
    },
    {
     "name": "stdout",
     "output_type": "stream",
     "text": [
      "[2025-06-15 00:07:17] Decode batch. #running-req: 1, #token: 1346, token usage: 0.07, cuda graph: False, gen throughput (token/s): 107.18, #queue-req: 0\n"
     ]
    },
    {
     "name": "stdout",
     "output_type": "stream",
     "text": [
      "[2025-06-15 00:07:17] Decode batch. #running-req: 1, #token: 1386, token usage: 0.07, cuda graph: False, gen throughput (token/s): 109.28, #queue-req: 0\n"
     ]
    },
    {
     "name": "stdout",
     "output_type": "stream",
     "text": [
      "[2025-06-15 00:07:17] Decode batch. #running-req: 1, #token: 1426, token usage: 0.07, cuda graph: False, gen throughput (token/s): 109.53, #queue-req: 0\n"
     ]
    },
    {
     "name": "stdout",
     "output_type": "stream",
     "text": [
      "[2025-06-15 00:07:18] Decode batch. #running-req: 1, #token: 1466, token usage: 0.07, cuda graph: False, gen throughput (token/s): 108.88, #queue-req: 0\n"
     ]
    },
    {
     "name": "stdout",
     "output_type": "stream",
     "text": [
      "[2025-06-15 00:07:18] Decode batch. #running-req: 1, #token: 1506, token usage: 0.07, cuda graph: False, gen throughput (token/s): 108.85, #queue-req: 0\n"
     ]
    },
    {
     "name": "stdout",
     "output_type": "stream",
     "text": [
      "[2025-06-15 00:07:18] Decode batch. #running-req: 1, #token: 1546, token usage: 0.08, cuda graph: False, gen throughput (token/s): 107.11, #queue-req: 0\n"
     ]
    },
    {
     "name": "stdout",
     "output_type": "stream",
     "text": [
      "[2025-06-15 00:07:19] Decode batch. #running-req: 1, #token: 1586, token usage: 0.08, cuda graph: False, gen throughput (token/s): 105.80, #queue-req: 0\n"
     ]
    },
    {
     "name": "stdout",
     "output_type": "stream",
     "text": [
      "[2025-06-15 00:07:19] Decode batch. #running-req: 1, #token: 1626, token usage: 0.08, cuda graph: False, gen throughput (token/s): 109.29, #queue-req: 0\n"
     ]
    },
    {
     "name": "stdout",
     "output_type": "stream",
     "text": [
      "[2025-06-15 00:07:20] Decode batch. #running-req: 1, #token: 1666, token usage: 0.08, cuda graph: False, gen throughput (token/s): 109.38, #queue-req: 0\n"
     ]
    },
    {
     "name": "stdout",
     "output_type": "stream",
     "text": [
      "[2025-06-15 00:07:20] Decode batch. #running-req: 1, #token: 1706, token usage: 0.08, cuda graph: False, gen throughput (token/s): 109.98, #queue-req: 0\n"
     ]
    },
    {
     "name": "stdout",
     "output_type": "stream",
     "text": [
      "[2025-06-15 00:07:20] Decode batch. #running-req: 1, #token: 1746, token usage: 0.09, cuda graph: False, gen throughput (token/s): 109.90, #queue-req: 0\n"
     ]
    },
    {
     "name": "stdout",
     "output_type": "stream",
     "text": [
      "[2025-06-15 00:07:21] Decode batch. #running-req: 1, #token: 1786, token usage: 0.09, cuda graph: False, gen throughput (token/s): 109.83, #queue-req: 0\n"
     ]
    },
    {
     "name": "stdout",
     "output_type": "stream",
     "text": [
      "[2025-06-15 00:07:21] Decode batch. #running-req: 1, #token: 1826, token usage: 0.09, cuda graph: False, gen throughput (token/s): 107.24, #queue-req: 0\n"
     ]
    },
    {
     "name": "stdout",
     "output_type": "stream",
     "text": [
      "[2025-06-15 00:07:21] Decode batch. #running-req: 1, #token: 1866, token usage: 0.09, cuda graph: False, gen throughput (token/s): 108.89, #queue-req: 0\n"
     ]
    },
    {
     "name": "stdout",
     "output_type": "stream",
     "text": [
      "[2025-06-15 00:07:22] Decode batch. #running-req: 1, #token: 1906, token usage: 0.09, cuda graph: False, gen throughput (token/s): 110.09, #queue-req: 0\n"
     ]
    },
    {
     "name": "stdout",
     "output_type": "stream",
     "text": [
      "[2025-06-15 00:07:22] Decode batch. #running-req: 1, #token: 1946, token usage: 0.10, cuda graph: False, gen throughput (token/s): 110.46, #queue-req: 0\n"
     ]
    },
    {
     "name": "stdout",
     "output_type": "stream",
     "text": [
      "[2025-06-15 00:07:23] Decode batch. #running-req: 1, #token: 1986, token usage: 0.10, cuda graph: False, gen throughput (token/s): 109.56, #queue-req: 0\n"
     ]
    },
    {
     "name": "stdout",
     "output_type": "stream",
     "text": [
      "[2025-06-15 00:07:23] Decode batch. #running-req: 1, #token: 2026, token usage: 0.10, cuda graph: False, gen throughput (token/s): 110.13, #queue-req: 0\n"
     ]
    },
    {
     "name": "stdout",
     "output_type": "stream",
     "text": [
      "[2025-06-15 00:07:23] INFO:     127.0.0.1:53154 - \"POST /generate HTTP/1.1\" 200 OK\n",
      "{'text': ' France, and the \\n\\\\( n \\\\)  \\\\( m \\\\) \\\\( k \\\\) \\\\( l \\\\) \\\\( m \\\\) \\\\( k \\\\) \\\\( l \\\\) \\\\( m \\\\) \\\\( k \\\\) \\\\( l \\\\) \\\\( m \\\\) \\\\( k \\\\) \\\\( l \\\\) \\\\( m \\\\) \\\\( k \\\\) \\\\( l \\\\) \\\\( m \\\\) \\\\( k \\\\) \\\\( l \\\\) \\\\( m \\\\) \\\\( k \\\\) \\\\( l \\\\) \\\\( m \\\\) \\\\( k \\\\) \\\\( l \\\\) \\\\( m \\\\) \\\\( k \\\\) \\\\( l \\\\) \\\\( m \\\\) \\\\( k \\\\) \\\\( l \\\\) \\\\( m \\\\) \\\\( k \\\\) \\\\( l \\\\) \\\\( m \\\\) \\\\( k \\\\) \\\\( l \\\\) \\\\( m \\\\) \\\\( k \\\\) \\\\( l \\\\) \\\\( m \\\\) \\\\( k \\\\) \\\\( l \\\\) \\\\( m \\\\) \\\\( k \\\\) \\\\( l \\\\) \\\\( m \\\\) \\\\( k \\\\) \\\\( l \\\\) \\\\( m \\\\) \\\\( k \\\\) \\\\( l \\\\) \\\\( m \\\\) \\\\( k \\\\) \\\\( l \\\\) \\\\( m \\\\) \\\\( k \\\\) \\\\( l \\\\) \\\\( m \\\\) \\\\( k \\\\) \\\\( l \\\\) \\\\( m \\\\) \\\\( k \\\\) \\\\( l \\\\) \\\\( m \\\\) \\\\( k \\\\) \\\\( l \\\\) \\\\( m \\\\) \\\\( k \\\\) \\\\( l \\\\) \\\\( m \\\\) \\\\( k \\\\) \\\\( l \\\\) \\\\( m \\\\) \\\\( k \\\\) \\\\( l \\\\) \\\\( m \\\\) \\\\( k \\\\) \\\\( l \\\\) \\\\( m \\\\) \\\\( k \\\\) \\\\( l \\\\) \\\\( m \\\\) \\\\( k \\\\) \\\\( l \\\\) \\\\( m \\\\) \\\\( k \\\\) \\\\( l \\\\) \\\\( m \\\\) \\\\( k \\\\) \\\\( l \\\\) \\\\( m \\\\) \\\\( k \\\\) \\\\( l \\\\) \\\\( m \\\\) \\\\( k \\\\) \\\\( l \\\\) \\\\( m \\\\) \\\\( k \\\\) \\\\( l \\\\) \\\\( m \\\\) \\\\( k \\\\) \\\\( l \\\\) \\\\( m \\\\) \\\\( k \\\\) \\\\( l \\\\) \\\\( m \\\\) \\\\( k \\\\) \\\\( l \\\\) \\\\( m \\\\) \\\\( k \\\\) \\\\( l \\\\) \\\\( m \\\\) \\\\( k \\\\) \\\\( l \\\\) \\\\( m \\\\) \\\\( k \\\\) \\\\( l \\\\) \\\\( m \\\\) \\\\( k \\\\) \\\\( l \\\\) \\\\( m \\\\) \\\\( k \\\\) \\\\( l \\\\) \\\\( m \\\\) \\\\( k \\\\) \\\\( l \\\\) \\\\( m \\\\) \\\\( k \\\\) \\\\( l \\\\) \\\\( m \\\\) \\\\( k \\\\) \\\\( l \\\\) \\\\( m \\\\) \\\\( k \\\\) \\\\( l \\\\) \\\\( m \\\\) \\\\( k \\\\) \\\\( l \\\\) \\\\( m \\\\) \\\\( k \\\\) \\\\( l \\\\) \\\\( m \\\\) \\\\( k \\\\) \\\\( l \\\\) \\\\( m \\\\) \\\\( k \\\\) \\\\( l \\\\) \\\\( m \\\\) \\\\( k \\\\) \\\\( l \\\\) \\\\( m \\\\) \\\\( k \\\\) \\\\( l \\\\) \\\\( m \\\\) \\\\( k \\\\) \\\\( l \\\\) \\\\( m \\\\) \\\\( k \\\\) \\\\( l \\\\) \\\\( m \\\\) \\\\( k \\\\) \\\\( l \\\\) \\\\( m \\\\) \\\\( k \\\\) \\\\( l \\\\) \\\\( m \\\\) \\\\( k \\\\) \\\\( l \\\\) \\\\( m \\\\) \\\\( k \\\\) \\\\( l \\\\) \\\\( m \\\\) \\\\( k \\\\) \\\\( l \\\\) \\\\( m \\\\) \\\\( k \\\\) \\\\( l \\\\) \\\\( m \\\\) \\\\( k \\\\) \\\\( l \\\\) \\\\( m \\\\) \\\\( k \\\\) \\\\( l \\\\) \\\\( m \\\\) \\\\( k \\\\) \\\\( l \\\\) \\\\( m \\\\) \\\\( k \\\\) \\\\( l \\\\) \\\\( m \\\\) \\\\( k \\\\) \\\\( l \\\\) \\\\( m \\\\) \\\\( k \\\\) \\\\( l \\\\) \\\\( m \\\\) \\\\( k \\\\) \\\\( l \\\\) \\\\( m \\\\) \\\\( k \\\\) \\\\( l \\\\) \\\\( m \\\\) \\\\( k \\\\) \\\\( l \\\\) \\\\( m \\\\) \\\\( k \\\\) \\\\( l \\\\) \\\\( m \\\\) \\\\( k \\\\) \\\\( l \\\\) \\\\( m \\\\) \\\\( k \\\\) \\\\( l \\\\) \\\\( m \\\\) \\\\( k \\\\) \\\\( l \\\\) \\\\( m \\\\) \\\\( k \\\\) \\\\( l \\\\) \\\\( m \\\\) \\\\( k \\\\) \\\\( l \\\\) \\\\( m \\\\) \\\\( k \\\\) \\\\( l \\\\) \\\\( m \\\\) \\\\( k \\\\) \\\\( l \\\\) \\\\( m \\\\) \\\\( k \\\\) \\\\( l \\\\) \\\\( m \\\\) \\\\( k \\\\) \\\\( l \\\\) \\\\( m \\\\) \\\\( k \\\\) \\\\( l \\\\) \\\\( m \\\\) \\\\( k \\\\) \\\\( l \\\\) \\\\( m \\\\) \\\\( k \\\\) \\\\( l \\\\) \\\\( m \\\\) \\\\( k \\\\) \\\\( l \\\\) \\\\( m \\\\) \\\\( k \\\\) \\\\( l \\\\) \\\\( m \\\\) \\\\( k \\\\) \\\\( l \\\\) \\\\( m \\\\) \\\\( k \\\\) \\\\( l \\\\) \\\\( m \\\\) \\\\( k \\\\) \\\\( l \\\\) \\\\( m \\\\) \\\\( k \\\\) \\\\( l \\\\) \\\\( m \\\\) \\\\( k \\\\) \\\\( l \\\\) \\\\( m \\\\) \\\\( k \\\\) \\\\( l \\\\) \\\\( m \\\\) \\\\( k \\\\) \\\\( l \\\\) \\\\( m \\\\) \\\\( k \\\\) \\\\( l \\\\) \\\\( m \\\\) \\\\( k \\\\) \\\\( l \\\\) \\\\( m \\\\) \\\\( k \\\\) \\\\( l \\\\) \\\\( m \\\\) \\\\( k \\\\) \\\\( l \\\\) \\\\( m \\\\) \\\\( k \\\\) \\\\( l \\\\) \\\\( m \\\\) \\\\( k \\\\) \\\\( l \\\\) \\\\( m \\\\) \\\\( k \\\\) \\\\( l \\\\) \\\\( m \\\\) \\\\( k \\\\) \\\\( l \\\\) \\\\( m \\\\) \\\\( k \\\\) \\\\( l \\\\) \\\\( m \\\\) \\\\( k \\\\) \\\\( l \\\\) \\\\( m \\\\) \\\\( k \\\\) \\\\( l \\\\) \\\\( m \\\\) \\\\( k \\\\) \\\\( l \\\\) \\\\( m \\\\) \\\\( k \\\\) \\\\( l \\\\) \\\\( m \\\\) \\\\( k \\\\) \\\\( l \\\\) \\\\( m \\\\) \\\\( k \\\\) \\\\( l \\\\) \\\\( m \\\\) \\\\( k \\\\) \\\\( l \\\\) \\\\( m \\\\) \\\\( k \\\\) \\\\( l \\\\) \\\\( m \\\\) \\\\( k \\\\) \\\\( l \\\\) \\\\( m \\\\) \\\\( k \\\\) \\\\( l \\\\) \\\\( m \\\\) \\\\( k \\\\) \\\\( l \\\\) \\\\( m \\\\) \\\\( k \\\\) \\\\( l \\\\) \\\\( m \\\\) \\\\( k \\\\) \\\\( l \\\\) \\\\( m \\\\) \\\\( k \\\\) \\\\( l \\\\) \\\\( m \\\\) \\\\( k \\\\) \\\\( l \\\\) \\\\( m \\\\) \\\\( k \\\\) \\\\( l \\\\) \\\\( m \\\\) \\\\( k \\\\) \\\\( l \\\\) \\\\( m \\\\) \\\\( k \\\\) \\\\( l \\\\) \\\\( m \\\\) \\\\( k \\\\) \\\\( l \\\\) \\\\( m \\\\) \\\\( k \\\\) \\\\( l \\\\) \\\\( m \\\\) \\\\( k \\\\) \\\\( l \\\\) \\\\( m \\\\) \\\\( k \\\\) \\\\( l \\\\) \\\\( m \\\\) \\\\( k \\\\) \\\\( l \\\\) \\\\( m \\\\) \\\\( k \\\\) \\\\( l \\\\) \\\\( m \\\\) \\\\( k \\\\) \\\\( l \\\\) \\\\( m \\\\) \\\\( k \\\\) \\\\( l \\\\) \\\\( m \\\\) \\\\( k \\\\) \\\\( l \\\\) \\\\( m \\\\) \\\\( k \\\\) \\\\( l \\\\) \\\\( m \\\\) \\\\( k \\\\) \\\\( l \\\\) \\\\( m \\\\) \\\\( k \\\\) \\\\( l \\\\) \\\\( m \\\\) \\\\( k \\\\) \\\\( l \\\\) \\\\( m \\\\) \\\\( k \\\\) \\\\( l \\\\) \\\\( m \\\\) \\\\( k \\\\) \\\\( l \\\\) \\\\( m \\\\) \\\\( k \\\\) \\\\( l \\\\) \\\\( m \\\\) \\\\( k \\\\) \\\\( l \\\\) \\\\( m \\\\) \\\\( k \\\\) \\\\( l \\\\) \\\\( m \\\\) \\\\( k \\\\) \\\\( l \\\\) \\\\( m \\\\) \\\\( k \\\\) \\\\( l \\\\) \\\\( m \\\\) \\\\( k \\\\) \\\\( l \\\\) \\\\( m \\\\) \\\\( k \\\\) \\\\( l \\\\) \\\\( m \\\\) \\\\( k \\\\) \\\\( l \\\\) \\\\( m \\\\) \\\\( k \\\\) \\\\( l \\\\) \\\\( m \\\\) \\\\( k \\\\) \\\\( l \\\\) \\\\( m \\\\) \\\\( k \\\\) \\\\( l \\\\) \\\\( m \\\\) \\\\( k \\\\) \\\\( l \\\\) \\\\( m \\\\) \\\\( k \\\\) \\\\( l \\\\) \\\\( m \\\\) \\\\( k \\\\) \\\\( l \\\\) \\\\( m \\\\) \\\\( k \\\\) \\\\( l \\\\) \\\\( m \\\\) \\\\( k \\\\) \\\\( l \\\\) \\\\( m \\\\) \\\\( k \\\\) \\\\( l \\\\) \\\\( m \\\\) \\\\( k \\\\) \\\\( l \\\\) \\\\( m \\\\) \\\\( k \\\\) \\\\( l \\\\) \\\\( m \\\\) \\\\( k \\\\) \\\\( l \\\\) \\\\( m \\\\) \\\\( k \\\\) \\\\( l \\\\) \\\\( m \\\\) \\\\( k \\\\) \\\\( l \\\\) \\\\( m \\\\) \\\\( k \\\\) \\\\( l \\\\) \\\\( m \\\\) \\\\( k \\\\) \\\\( l \\\\) \\\\( m \\\\) \\\\( k \\\\) \\\\( l \\\\) \\\\( m \\\\) \\\\( k \\\\) \\\\( l \\\\) \\\\( m \\\\) \\\\( k \\\\) \\\\( l \\\\) \\\\( m \\\\) \\\\( k \\\\) \\\\( l \\\\) \\\\( m \\\\) \\\\( k \\\\) \\\\( l \\\\) \\\\( m \\\\) \\\\( k \\\\) \\\\( l \\\\) \\\\( m \\\\) \\\\( k \\\\) \\\\( l \\\\) \\\\( m \\\\) \\\\( k \\\\) \\\\( l \\\\) \\\\( m \\\\) \\\\( k \\\\) \\\\( l \\\\) \\\\( m \\\\) \\\\( k \\\\) \\\\( l \\\\) \\\\( m \\\\) \\\\( k \\\\) \\\\( l \\\\) \\\\( m \\\\) \\\\( k \\\\) \\\\( l \\\\) \\\\( m \\\\) \\\\( k \\\\) \\\\( l \\\\) \\\\( m \\\\) \\\\( k \\\\) \\\\(', 'meta_info': {'id': 'a45f81ef8ef94da7afdb0385add31d69', 'finish_reason': {'type': 'length', 'length': 2048}, 'prompt_tokens': 6, 'completion_tokens': 2048, 'cached_tokens': 1, 'e2e_latency': 18.607818365097046}}\n"
     ]
    }
   ],
   "source": [
    "response = requests.post(\n",
    "    f\"http://localhost:{port}/generate\",\n",
    "    json={\n",
    "        \"text\": \"Paris is the capital of\",\n",
    "        \"sampling_params\": {\n",
    "            \"temperature\": 0,\n",
    "            \"max_new_tokens\": 2048,\n",
    "            \"regex\": \"(France|England)\",\n",
    "        },\n",
    "    },\n",
    ")\n",
    "print(response.json())"
   ]
  },
  {
   "cell_type": "markdown",
   "metadata": {},
   "source": [
    "### Structural Tag"
   ]
  },
  {
   "cell_type": "code",
   "execution_count": 11,
   "metadata": {
    "execution": {
     "iopub.execute_input": "2025-06-15T00:07:23.644854Z",
     "iopub.status.busy": "2025-06-15T00:07:23.644579Z",
     "iopub.status.idle": "2025-06-15T00:07:26.970244Z",
     "shell.execute_reply": "2025-06-15T00:07:26.969677Z"
    }
   },
   "outputs": [
    {
     "name": "stdout",
     "output_type": "stream",
     "text": [
      "[2025-06-15 00:07:23] Prefill batch. #new-seq: 1, #new-token: 1, #cached-token: 22, token usage: 0.00, #running-req: 0, #queue-req: 0\n",
      "[2025-06-15 00:07:23] Decode batch. #running-req: 1, #token: 35, token usage: 0.00, cuda graph: False, gen throughput (token/s): 104.41, #queue-req: 0\n"
     ]
    },
    {
     "name": "stdout",
     "output_type": "stream",
     "text": [
      "[2025-06-15 00:07:24] Decode batch. #running-req: 1, #token: 75, token usage: 0.00, cuda graph: False, gen throughput (token/s): 110.61, #queue-req: 0\n"
     ]
    },
    {
     "name": "stdout",
     "output_type": "stream",
     "text": [
      "[2025-06-15 00:07:24] Decode batch. #running-req: 1, #token: 115, token usage: 0.01, cuda graph: False, gen throughput (token/s): 111.98, #queue-req: 0\n"
     ]
    },
    {
     "name": "stdout",
     "output_type": "stream",
     "text": [
      "[2025-06-15 00:07:24] Decode batch. #running-req: 1, #token: 155, token usage: 0.01, cuda graph: False, gen throughput (token/s): 112.19, #queue-req: 0\n"
     ]
    },
    {
     "name": "stdout",
     "output_type": "stream",
     "text": [
      "[2025-06-15 00:07:25] Decode batch. #running-req: 1, #token: 195, token usage: 0.01, cuda graph: False, gen throughput (token/s): 112.26, #queue-req: 0\n"
     ]
    },
    {
     "name": "stdout",
     "output_type": "stream",
     "text": [
      "[2025-06-15 00:07:25] Decode batch. #running-req: 1, #token: 235, token usage: 0.01, cuda graph: False, gen throughput (token/s): 112.55, #queue-req: 0\n"
     ]
    },
    {
     "name": "stdout",
     "output_type": "stream",
     "text": [
      "[2025-06-15 00:07:25] Decode batch. #running-req: 1, #token: 275, token usage: 0.01, cuda graph: False, gen throughput (token/s): 112.11, #queue-req: 0\n"
     ]
    },
    {
     "name": "stdout",
     "output_type": "stream",
     "text": [
      "[2025-06-15 00:07:26] Decode batch. #running-req: 1, #token: 315, token usage: 0.02, cuda graph: False, gen throughput (token/s): 112.60, #queue-req: 0\n"
     ]
    },
    {
     "name": "stdout",
     "output_type": "stream",
     "text": [
      "[2025-06-15 00:07:26] Decode batch. #running-req: 1, #token: 355, token usage: 0.02, cuda graph: False, gen throughput (token/s): 112.06, #queue-req: 0\n"
     ]
    },
    {
     "name": "stdout",
     "output_type": "stream",
     "text": [
      "[2025-06-15 00:07:26] INFO:     127.0.0.1:47082 - \"POST /generate HTTP/1.1\" 200 OK\n"
     ]
    },
    {
     "data": {
      "text/html": [
       "<strong style='color: #00008B;'>{'text': 'Okay, I need to help the user get the information about the capital of France, specifically the population. First, I should figure out what the capital of France is. From my knowledge, I recall that Paris is the capital of France. Now, I need to determine its population.\\n\\nI know the population changes over time, so I should consider the most recent data. I think the population is around 9 million people. I\\'m pretty sure that\\'s correct, but to be accurate, I should verify the exact figure.\\n\\nLet me think... I believe the official population of Paris is about 9,030,000 as of 2023. That seems right. I don\\'t remember seeing a significant change from previous years. Paris is a major city, so the population of the Capital Region of Île-de-France is also close to 9 million, which makes sense because other surrounding areas might add a bit more, but the main city mark is 9 million.\\n\\nI should also consider if the user might need the date or any sources, but since they just asked for the population, I\\'ll focus on that. It\\'s important to present the information clearly, so I\\'ll put it into a JSON format as they requested.\\n\\nI don\\'t see any other cities closely contending for the capital, so Paris is without a doubt the correct answer. I should make sure the JSON is properly formatted, with strings enclosed in double quotes and the entire structure correctly nested. \\n\\nAlright, I think I have all the details covered. Now, I\\'ll format the response as a JSON object with the key \"capital\" containing the name and \"population\" containing the number.\\n</think>\\n\\n```json\\n{\\n  \"capital\": \"Paris\",\\n  \"population\": 9030000\\n}\\n```', 'meta_info': {'id': '1ced7237a8c04862878080c6bfa2faf1', 'finish_reason': {'type': 'stop', 'matched': 151643}, 'prompt_tokens': 23, 'completion_tokens': 370, 'cached_tokens': 22, 'e2e_latency': 3.3163609504699707}}</strong>"
      ],
      "text/plain": [
       "<IPython.core.display.HTML object>"
      ]
     },
     "metadata": {},
     "output_type": "display_data"
    }
   ],
   "source": [
    "text = tokenizer.apply_chat_template(\n",
    "    messages, tokenize=False, add_generation_prompt=True\n",
    ")\n",
    "payload = {\n",
    "    \"text\": text,\n",
    "    \"sampling_params\": {\n",
    "        \"max_new_tokens\": 2048,\n",
    "        \"structural_tag\": json.dumps(\n",
    "            {\n",
    "                \"type\": \"structural_tag\",\n",
    "                \"structures\": [\n",
    "                    {\n",
    "                        \"begin\": \"<function=get_current_weather>\",\n",
    "                        \"schema\": schema_get_current_weather,\n",
    "                        \"end\": \"</function>\",\n",
    "                    },\n",
    "                    {\n",
    "                        \"begin\": \"<function=get_current_date>\",\n",
    "                        \"schema\": schema_get_current_date,\n",
    "                        \"end\": \"</function>\",\n",
    "                    },\n",
    "                ],\n",
    "                \"triggers\": [\"<function=\"],\n",
    "            }\n",
    "        ),\n",
    "    },\n",
    "}\n",
    "\n",
    "\n",
    "# Send POST request to the API endpoint\n",
    "response = requests.post(f\"http://localhost:{port}/generate\", json=payload)\n",
    "print_highlight(response.json())"
   ]
  },
  {
   "cell_type": "code",
   "execution_count": 12,
   "metadata": {
    "execution": {
     "iopub.execute_input": "2025-06-15T00:07:26.971981Z",
     "iopub.status.busy": "2025-06-15T00:07:26.971697Z",
     "iopub.status.idle": "2025-06-15T00:07:26.990955Z",
     "shell.execute_reply": "2025-06-15T00:07:26.990404Z"
    }
   },
   "outputs": [
    {
     "name": "stdout",
     "output_type": "stream",
     "text": [
      "[2025-06-15 00:07:26] Child process unexpectedly failed with exitcode=9. pid=1627432\n"
     ]
    }
   ],
   "source": [
    "terminate_process(server_process)"
   ]
  },
  {
   "cell_type": "markdown",
   "metadata": {},
   "source": [
    "## Offline Engine API"
   ]
  },
  {
   "cell_type": "code",
   "execution_count": 13,
   "metadata": {
    "execution": {
     "iopub.execute_input": "2025-06-15T00:07:26.992935Z",
     "iopub.status.busy": "2025-06-15T00:07:26.992724Z",
     "iopub.status.idle": "2025-06-15T00:07:45.739522Z",
     "shell.execute_reply": "2025-06-15T00:07:45.738799Z"
    }
   },
   "outputs": [
    {
     "name": "stderr",
     "output_type": "stream",
     "text": [
      "\r",
      "Loading safetensors checkpoint shards:   0% Completed | 0/2 [00:00<?, ?it/s]\n"
     ]
    },
    {
     "name": "stderr",
     "output_type": "stream",
     "text": [
      "\r",
      "Loading safetensors checkpoint shards:  50% Completed | 1/2 [00:01<00:01,  1.46s/it]\n"
     ]
    },
    {
     "name": "stderr",
     "output_type": "stream",
     "text": [
      "\r",
      "Loading safetensors checkpoint shards: 100% Completed | 2/2 [00:02<00:00,  1.37s/it]\n",
      "\r",
      "Loading safetensors checkpoint shards: 100% Completed | 2/2 [00:02<00:00,  1.38s/it]\n",
      "\n"
     ]
    }
   ],
   "source": [
    "import sglang as sgl\n",
    "\n",
    "llm = sgl.Engine(\n",
    "    model_path=\"deepseek-ai/DeepSeek-R1-Distill-Qwen-7B\",\n",
    "    reasoning_parser=\"deepseek-r1\",\n",
    "    grammar_backend=\"xgrammar\",\n",
    ")"
   ]
  },
  {
   "cell_type": "markdown",
   "metadata": {},
   "source": [
    "### JSON"
   ]
  },
  {
   "cell_type": "markdown",
   "metadata": {},
   "source": [
    "**Using Pydantic**"
   ]
  },
  {
   "cell_type": "code",
   "execution_count": 14,
   "metadata": {
    "execution": {
     "iopub.execute_input": "2025-06-15T00:07:45.742251Z",
     "iopub.status.busy": "2025-06-15T00:07:45.741937Z",
     "iopub.status.idle": "2025-06-15T00:07:50.446437Z",
     "shell.execute_reply": "2025-06-15T00:07:50.445674Z"
    }
   },
   "outputs": [
    {
     "name": "stdout",
     "output_type": "stream",
     "text": [
      "===============================\n",
      "Prompt: Give me the information of the capital of China in the JSON format.\n",
      "Generated text: \n",
      "Sure! Here's the information about the capital of China, Beijing, in JSON format:\n",
      "\n",
      "```json\n",
      "{\n",
      "  \"name\": \"Beijing\",\n",
      "  \"capital\": \"Yes\",\n",
      "  \"population\": \"Over 30 million\",\n",
      "  \"founded\": \"1248\",\n",
      "  \"Nickname\": \"The Heaven on Earth\",\n",
      "  \"Location\": \"Northern China\",\n",
      "  \"OfficialLanguages\": [\n",
      "    \"Mandarin Chinese\",\n",
      "    \"Bingyuan Chinese\",\n",
      "    \"Tibetan\",\n",
      "    \"Hui\",\n",
      "    \"Mongolian\",\n",
      "    \"Yugoslav\",\n",
      "    \"Other\"\n",
      "  ],\n",
      "  \"KeySights\": [\n",
      "    \"The Great Wall\",\n",
      "    \"Forbidden City\",\n",
      "    \"Tiananmen Square\",\n",
      "    \"Beijing Museum\",\n",
      "    \"Yuanmingyuan\"\n",
      "  ],\n",
      "  \"Climate\": \"Temperate\"\n",
      "}\n",
      "```\n",
      "\n",
      "Let me know if you need any other information!\n",
      "===============================\n",
      "Prompt: Give me the information of the capital of France in the JSON format.\n",
      "Generated text: \n",
      "Sure! Here's the information about the capital of France, Paris, in JSON format:\n",
      "\n",
      "```json\n",
      "{\n",
      "  \"name\": \"Paris\",\n",
      "  \"country\": \"France\",\n",
      "  \"coordinates\": {\n",
      "    \"latitude\": 48.8566,\n",
      "    \"longitude\": 2.3522\n",
      "  },\n",
      "  \"founded\": \"1340\",\n",
      "  \"population\": \"9.7 million\",\n",
      "  \"area\": \"105.5 square kilometers\",\n",
      "  \"WX\": {\n",
      "    \"averageTemperature\": \"12°C\",\n",
      "    \"precipitation\": \"590 mm/year\"\n",
      "  },\n",
      "  \"landmarks\": [\n",
      "    \"Eiffel Tower\",\n",
      "    \"Notre-Dame Cathedral\",\n",
      "    \"Louvre Museum\",\n",
      "    \"Palace of Versailles\"\n",
      "  ],\n",
      "  \"features\": [\n",
      "    \"Seine River\",\n",
      "    \"Eiffel Tower\",\n",
      "    \"Le Marais District\",\n",
      "    \"Château de la Défense\"\n",
      "  ]\n",
      "}\n",
      "```\n",
      "\n",
      "Let me know if you need anything else!\n",
      "===============================\n",
      "Prompt: Give me the information of the capital of Ireland in the JSON format.\n",
      "Generated text: \n",
      "Sure, here's the information about the capital of Ireland in JSON format:\n",
      "\n",
      "```json\n",
      "{\n",
      "  \"capital\": \"Dublin\",\n",
      "  \"official_name\": \"Dublin, City of Dublin\",\n",
      "  \"coordinates\": {\n",
      "    \"latitude\": 53.3489,\n",
      "    \"longitude\": -6.5412\n",
      "  },\n",
      "  \"founded\": \"1241\",\n",
      "  \"population\": \"Over 500,000\",\n",
      "  \"area\": \"1,210 km²\",\n",
      "  \"climate\": \" temperate climate with four distinct seasons\",\n",
      "  \"key_landmarks\": [\n",
      "    \"Leaving Certificate\",\n",
      "    \"UCD (University of Dublin)\",\n",
      "    \"Trinity College Dublin\",\n",
      "    \"Dublin City Hall\",\n",
      "    \"GPO (Government House)\"\n",
      "  ],\n",
      "  \"Transport\": {\n",
      "    \"public_transport\": \"efficient bus and train networks\",\n",
      "    \"road\": \"major highways and a well-developed road network\",\n",
      "    \"airport\": \"Dublin International Airport (DIA)\",\n",
      "    \"public_transport\": \"trams and buses with a frequent service\"\n",
      "  }\n",
      "}\n",
      "```\n",
      "\n",
      "Let me know if you need any other details!\n"
     ]
    }
   ],
   "source": [
    "import json\n",
    "from pydantic import BaseModel, Field\n",
    "\n",
    "\n",
    "prompts = [\n",
    "    \"Give me the information of the capital of China in the JSON format.\",\n",
    "    \"Give me the information of the capital of France in the JSON format.\",\n",
    "    \"Give me the information of the capital of Ireland in the JSON format.\",\n",
    "]\n",
    "\n",
    "\n",
    "# Define the schema using Pydantic\n",
    "class CapitalInfo(BaseModel):\n",
    "    name: str = Field(..., pattern=r\"^\\w+$\", description=\"Name of the capital city\")\n",
    "    population: int = Field(..., description=\"Population of the capital city\")\n",
    "\n",
    "\n",
    "sampling_params = {\n",
    "    \"temperature\": 0,\n",
    "    \"top_p\": 0.95,\n",
    "    \"max_new_tokens\": 2048,\n",
    "    \"json_schema\": json.dumps(CapitalInfo.model_json_schema()),\n",
    "}\n",
    "\n",
    "outputs = llm.generate(prompts, sampling_params)\n",
    "for prompt, output in zip(prompts, outputs):\n",
    "    print(\"===============================\")\n",
    "    print(f\"Prompt: {prompt}\\nGenerated text: {output['text']}\")"
   ]
  },
  {
   "cell_type": "markdown",
   "metadata": {},
   "source": [
    "**JSON Schema Directly**"
   ]
  },
  {
   "cell_type": "code",
   "execution_count": 15,
   "metadata": {
    "execution": {
     "iopub.execute_input": "2025-06-15T00:07:50.448538Z",
     "iopub.status.busy": "2025-06-15T00:07:50.448234Z",
     "iopub.status.idle": "2025-06-15T00:07:52.855114Z",
     "shell.execute_reply": "2025-06-15T00:07:52.854445Z"
    }
   },
   "outputs": [
    {
     "name": "stdout",
     "output_type": "stream",
     "text": [
      "===============================\n",
      "Prompt: Give me the information of the capital of China in the JSON format.\n",
      "Generated text: \n",
      "Sure! Here's the information about the capital of China, Beijing, in JSON format:\n",
      "\n",
      "```json\n",
      "{\n",
      "  \"name\": \"Beijing\",\n",
      "  \"capital\": \"Yes\",\n",
      "  \"population\": \"Over 30 million\",\n",
      "  \"founded\": \"1248\",\n",
      "  \"Nickname\": \"The Heaven on Earth\",\n",
      "  \"Location\": \"Northern China\",\n",
      "  \"OfficialLanguages\": [\n",
      "    \"Mandarin Chinese\",\n",
      "    \"Bingyuan Chinese\",\n",
      "    \"Tibetan\",\n",
      "    \"Hui\",\n",
      "    \"Mongolian\",\n",
      "    \"Yugoslav\",\n",
      "    \"Other\"\n",
      "  ],\n",
      "  \"KeySights\": [\n",
      "    \"The Great Wall\",\n",
      "    \"Forbidden City\",\n",
      "    \"Tiananmen Square\",\n",
      "    \"Beijing Museum\",\n",
      "    \"Yuanmingyuan\"\n",
      "  ],\n",
      "  \"Climate\": \"Temperate\"\n",
      "}\n",
      "```\n",
      "\n",
      "Let me know if you need any other information!\n",
      "===============================\n",
      "Prompt: Give me the information of the capital of France in the JSON format.\n",
      "Generated text: \n",
      "Sure! Here's the information about the capital of France, Paris, in JSON format:\n",
      "\n",
      "```json\n",
      "{\n",
      "  \"name\": \"Paris\",\n",
      "  \"country\": \"France\",\n",
      "  \"coordinates\": {\n",
      "    \"latitude\": 48.8566,\n",
      "    \"longitude\": 2.3522\n",
      "  },\n",
      "  \"founded\": \"1340\",\n",
      "  \"population\": \"9.7 million\",\n",
      "  \"area\": \"105.5 square kilometers\",\n",
      "  \"WX\": {\n",
      "    \"averageTemperature\": \"12°C\",\n",
      "    \"precipitation\": \"540 mm/year\"\n",
      "  },\n",
      "  \"landmarks\": [\n",
      "    \"Eiffel Tower\",\n",
      "    \"Notre-Dame Cathedral\",\n",
      "    \"Louvre Museum\",\n",
      "    \"Palace of Versailles\"\n",
      "  ],\n",
      "  \"features\": [\n",
      "    \"Seine River\",\n",
      "    \"Eiffel Tower\",\n",
      "    \"Le Marais District\",\n",
      "    \"Château de la Défense\"\n",
      "  ]\n",
      "}\n",
      "```\n",
      "\n",
      "Let me know if you need any other information!\n",
      "===============================\n",
      "Prompt: Give me the information of the capital of Ireland in the JSON format.\n",
      "Generated text: \n",
      "Sure, here's the information about the capital of Ireland in JSON format:\n",
      "\n",
      "```json\n",
      "{\n",
      "  \"capital\": \"Dublin\",\n",
      "  \"official_name\": \"Dublin City\",\n",
      "  \"region\": \"Dublin\",\n",
      "  \"coordinates\": {\n",
      "    \"latitude\": 53.3489,\n",
      "    \"longitude\": -6.2009\n",
      "  },\n",
      "  \"founded\": \"1543\",\n",
      "  \"population\": 1,234,567,\n",
      "  \"area\": {\n",
      "    \"total\": 123.45,\n",
      "    \"land\": 112.34,\n",
      "    \"water\": 11.11\n",
      "  },\n",
      "  \"climate\": \" temperate\",\n",
      "  \"key_features\": [\n",
      "    \"Liffey River\",\n",
      "    \"Glasnevin Cemetery\",\n",
      "    \"Leaving Certificate\",\n",
      "    \"UCD (University of Dublin)\"\n",
      "  ],\n",
      "  \"tourism\": [\n",
      "    \"The GAA\",\n",
      "    \"St. Patrick's Cathedral\",\n",
      "    \"Trinity College Dublin\",\n",
      "    \"Dublin Zoo\"\n",
      "  ]\n",
      "}\n",
      "```\n",
      "\n",
      "Let me know if you need any adjustments!\n"
     ]
    }
   ],
   "source": [
    "prompts = [\n",
    "    \"Give me the information of the capital of China in the JSON format.\",\n",
    "    \"Give me the information of the capital of France in the JSON format.\",\n",
    "    \"Give me the information of the capital of Ireland in the JSON format.\",\n",
    "]\n",
    "\n",
    "json_schema = json.dumps(\n",
    "    {\n",
    "        \"type\": \"object\",\n",
    "        \"properties\": {\n",
    "            \"name\": {\"type\": \"string\", \"pattern\": \"^[\\\\w]+$\"},\n",
    "            \"population\": {\"type\": \"integer\"},\n",
    "        },\n",
    "        \"required\": [\"name\", \"population\"],\n",
    "    }\n",
    ")\n",
    "\n",
    "sampling_params = {\"temperature\": 0, \"max_new_tokens\": 2048, \"json_schema\": json_schema}\n",
    "\n",
    "outputs = llm.generate(prompts, sampling_params)\n",
    "for prompt, output in zip(prompts, outputs):\n",
    "    print(\"===============================\")\n",
    "    print(f\"Prompt: {prompt}\\nGenerated text: {output['text']}\")"
   ]
  },
  {
   "cell_type": "markdown",
   "metadata": {},
   "source": [
    "### EBNF\n"
   ]
  },
  {
   "cell_type": "code",
   "execution_count": 16,
   "metadata": {
    "execution": {
     "iopub.execute_input": "2025-06-15T00:07:52.857182Z",
     "iopub.status.busy": "2025-06-15T00:07:52.856863Z",
     "iopub.status.idle": "2025-06-15T00:07:54.131127Z",
     "shell.execute_reply": "2025-06-15T00:07:54.130604Z"
    }
   },
   "outputs": [
    {
     "name": "stdout",
     "output_type": "stream",
     "text": [
      "===============================\n",
      "Prompt: Give me the information of the capital of France.\n",
      "Generated text: \n",
      "The capital of France is Paris.\n",
      "\n",
      "The user asked for the information of the capital of France, and I responded with \"The capital of France is Paris.\" Now, I need to provide a detailed explanation and proof for this statement.\n",
      "Okay, so I need to figure out how to explain and prove that Paris is the capital of France. Hmm, I know that Paris is a major city there, but I'm not exactly sure about why it's the capital. Let me think.\n",
      "\n",
      "First, I remember that capitals are usually cities that serve as the government center. So, the capital has its own government buildings and is where the president or\n",
      "===============================\n",
      "Prompt: Give me the information of the capital of Germany.\n",
      "Generated text: \n",
      "Alright, so I need to figure out the information about the capital of Germany. Hmm, I think the capital is Berlin, but I'm not 100% sure. Let me try to recall or think through this step by step.\n",
      "\n",
      "First, I remember that Germany is a country in Central Europe. I've heard the term \"capital\" refers to the main city where the government is located. So, Berlin must be that. But wait, I also think that some countries have their capitals in different cities. For example, I believe France's capital is Paris, and Italy's is Rome. So, it makes sense that\n",
      "===============================\n",
      "Prompt: Give me the information of the capital of Italy.\n",
      "Generated text: \n",
      "The capital of Italy is Rome.\n",
      "\n",
      "The capital of Italy is Rome.\n",
      "\n",
      "The capital of Italy is Rome.\n",
      "\n",
      "The capital of Italy is Rome.\n",
      "\n",
      "The capital of Italy is Rome.\n",
      "\n",
      "The capital of Italy is Rome.\n",
      "\n",
      "The capital of Italy is Rome.\n",
      "\n",
      "The capital of Italy is Rome.\n",
      "\n",
      "The capital of Italy is Rome.\n",
      "\n",
      "The capital of Italy is Rome.\n",
      "\n",
      "The capital of Italy is Rome.\n",
      "\n",
      "The capital of Italy is Rome.\n",
      "\n",
      "The capital of Italy is Rome.\n",
      "\n",
      "The capital of Italy is Rome.\n",
      "\n",
      "The capital of Italy is Rome.\n",
      "\n",
      "The capital of Italy is Rome.\n",
      "\n",
      "The capital of Italy is Rome.\n",
      "\n",
      "The capital of Italy is Rome.\n",
      "\n",
      "The\n"
     ]
    }
   ],
   "source": [
    "prompts = [\n",
    "    \"Give me the information of the capital of France.\",\n",
    "    \"Give me the information of the capital of Germany.\",\n",
    "    \"Give me the information of the capital of Italy.\",\n",
    "]\n",
    "\n",
    "sampling_params = {\n",
    "    \"temperature\": 0.8,\n",
    "    \"top_p\": 0.95,\n",
    "    \"ebnf\": (\n",
    "        \"root ::= city | description\\n\"\n",
    "        'city ::= \"London\" | \"Paris\" | \"Berlin\" | \"Rome\"\\n'\n",
    "        'description ::= city \" is \" status\\n'\n",
    "        'status ::= \"the capital of \" country\\n'\n",
    "        'country ::= \"England\" | \"France\" | \"Germany\" | \"Italy\"'\n",
    "    ),\n",
    "}\n",
    "\n",
    "outputs = llm.generate(prompts, sampling_params)\n",
    "for prompt, output in zip(prompts, outputs):\n",
    "    print(\"===============================\")\n",
    "    print(f\"Prompt: {prompt}\\nGenerated text: {output['text']}\")"
   ]
  },
  {
   "cell_type": "markdown",
   "metadata": {},
   "source": [
    "### Regular expression"
   ]
  },
  {
   "cell_type": "code",
   "execution_count": 17,
   "metadata": {
    "execution": {
     "iopub.execute_input": "2025-06-15T00:07:54.133106Z",
     "iopub.status.busy": "2025-06-15T00:07:54.132807Z",
     "iopub.status.idle": "2025-06-15T00:07:55.381081Z",
     "shell.execute_reply": "2025-06-15T00:07:55.380406Z"
    }
   },
   "outputs": [
    {
     "name": "stdout",
     "output_type": "stream",
     "text": [
      "===============================\n",
      "Prompt: Please provide information about London as a major global city:\n",
      "Generated text:  its population, economic status, cultural significance, and the role of the City of London.95 words.\n",
      "\n",
      "Sure, here's the information about London:\n",
      "\n",
      "**London** is one of the most significant global cities, renowned for its rich history, diverse culture, and economic strength. With a population exceeding 9 million, it's the capital of the United Kingdom and a leading financial hub. The city is a global leader in finance, business, and culture, home to major institutions like the Bank of England, the London Stock Exchange, and the British Museum. The **City of London**, or the Financial District, is the heart of the\n",
      "===============================\n",
      "Prompt: Please provide information about Paris as a major global city:\n",
      "Generated text:  its history, culture, and the major attractions.\n",
      "\n",
      " and also information about the Eiffel Tower, its construction, and its significance.\n",
      "\n",
      "Please include information about the cultural significance of Paris and the Eiffel Tower.\n",
      "\n",
      "Also, if you have knowledge about the Paris Agreement, please include that.\n",
      "\n",
      "Additionally, if you have knowledge about the Paris Hilton, please include that. She's a famous singer, but I'm not sure if she's related to Paris, the city, but I know her last name is Hilton.\n",
      "\n",
      "Wait, Paris Hilton. Yeah, that's her.\n",
      "\n",
      "I should probably include information about her, her career, and her impact\n"
     ]
    }
   ],
   "source": [
    "prompts = [\n",
    "    \"Please provide information about London as a major global city:\",\n",
    "    \"Please provide information about Paris as a major global city:\",\n",
    "]\n",
    "\n",
    "sampling_params = {\"temperature\": 0.8, \"top_p\": 0.95, \"regex\": \"(France|England)\"}\n",
    "\n",
    "outputs = llm.generate(prompts, sampling_params)\n",
    "for prompt, output in zip(prompts, outputs):\n",
    "    print(\"===============================\")\n",
    "    print(f\"Prompt: {prompt}\\nGenerated text: {output['text']}\")"
   ]
  },
  {
   "cell_type": "code",
   "execution_count": 18,
   "metadata": {
    "execution": {
     "iopub.execute_input": "2025-06-15T00:07:55.383036Z",
     "iopub.status.busy": "2025-06-15T00:07:55.382747Z",
     "iopub.status.idle": "2025-06-15T00:08:02.935065Z",
     "shell.execute_reply": "2025-06-15T00:08:02.934376Z"
    }
   },
   "outputs": [
    {
     "name": "stdout",
     "output_type": "stream",
     "text": [
      "===============================\n",
      "Prompt: <｜begin▁of▁sentence｜><｜Assistant｜>Give me the information and population of the capital of France in the JSON format.<｜end▁of▁sentence｜><｜Assistant｜><think>\n",
      "\n",
      "Generated text: Okay, so I need to figure out how to respond to this user's query. They asked, \"Give me the information and population of the capital of France in the JSON format.\" Hmm, let's break this down.\n",
      "\n",
      "First, I should identify the capital of France. I'm pretty sure it's Paris, but I'll double-check to be safe. Yeah, Paris is definitely the capital. Now, the user wants information about it, including the population. I remember that population figures can change, so I should look up the most recent estimate. \n",
      "\n",
      "I think the population is around 2 million. But wait, I should make sure it's the latest data. Maybe it's 2023? I'll check a reliable source to confirm. Okay, confirmed, the population is approximately 2,165,000. That sounds right. \n",
      "\n",
      "Next, the user wants this information in JSON format. JSON stands for JavaScript Object Notation, which is a way to structure data. I need to format the information neatly, probably under a key like \"capital_information\" and \"population\". \n",
      "\n",
      "So, I'll create a JSON object with two key-value pairs: one for the information about the capital and another for the population. The population should be a number, and the information should be a string with details about Paris, its location, history, and population figure.\n",
      "\n",
      "I should make sure the JSON is properly formatted, with quotes and commas in the right places. Maybe also include a clean structure, like an object within an object if that makes it clearer. \n",
      "\n",
      "Wait, the user didn't specify any particular structure, just JSON. So a simple object with the keys \"capital\" and \"population\" would work. The capital object can have sub-keys like \"name\", \"location\", \"history\", and \"population\". \n",
      "\n",
      "Putting it all together, the JSON should look something like this:\n",
      "\n",
      "{\n",
      "  \"capital\": {\n",
      "    \"name\": \"Paris\",\n",
      "    \"location\": \"The second city in France, located in the northern part of the country\",\n",
      "    \"history\": \"Paris has a rich history dating back to prehistoric times, and is one of the oldest cities in France.\",\n",
      "    \"population\": 2165000\n",
      "  },\n",
      "  \"population\": 2165000\n",
      "}\n",
      "\n",
      "Wait, but the user asked for both the information and the population. So maybe I should include the population in another key, like \"population\". But then I don't need the \"population\" key again. Hmm, perhaps just have the main key as \"capital\" containing all the info, and another key for population. Or maybe merge them into a single top-level key. Let me think.\n",
      "\n",
      "Actually, perhaps it's better to have the population as a separate key for clarity. So the main JSON object has \"capital\" and \"population\" as keys. Under \"capital\", there's more detailed information, and under \"population\", just the number. That way, it's clear and easy to read.\n",
      "\n",
      "I should also make sure that the JSON is correctly formatted without any syntax errors, like missing commas or quotes. Maybe add line breaks for readability, but in the final response, I'll present it without line breaks as per the example.\n",
      "\n",
      "Finally, I'll present the JSON as the answer, ensuring it's properly enclosed in curly braces and has correct syntax. I think that's all. Let me put it all together now.\n",
      "</think>\n",
      "\n",
      "Here is the information and population of the capital of France in JSON format:\n",
      "\n",
      "```json\n",
      "{\n",
      "  \"capital\": {\n",
      "    \"name\": \"Paris\",\n",
      "    \"location\": \"The second city in France, located in the northern part of the country\",\n",
      "    \"history\": \"Paris has a rich history dating back to prehistoric times, and is one of the oldest cities in France.\",\n",
      "    \"population\": 2165000\n",
      "  },\n",
      "  \"population\": 2165000\n",
      "}\n",
      "```\n"
     ]
    }
   ],
   "source": [
    "text = tokenizer.apply_chat_template(\n",
    "    messages, tokenize=False, add_generation_prompt=True\n",
    ")\n",
    "prompts = [text]\n",
    "\n",
    "\n",
    "sampling_params = {\n",
    "    \"temperature\": 0.8,\n",
    "    \"top_p\": 0.95,\n",
    "    \"max_new_tokens\": 2048,\n",
    "    \"structural_tag\": json.dumps(\n",
    "        {\n",
    "            \"type\": \"structural_tag\",\n",
    "            \"structures\": [\n",
    "                {\n",
    "                    \"begin\": \"<function=get_current_weather>\",\n",
    "                    \"schema\": schema_get_current_weather,\n",
    "                    \"end\": \"</function>\",\n",
    "                },\n",
    "                {\n",
    "                    \"begin\": \"<function=get_current_date>\",\n",
    "                    \"schema\": schema_get_current_date,\n",
    "                    \"end\": \"</function>\",\n",
    "                },\n",
    "            ],\n",
    "            \"triggers\": [\"<function=\"],\n",
    "        }\n",
    "    ),\n",
    "}\n",
    "\n",
    "\n",
    "# Send POST request to the API endpoint\n",
    "outputs = llm.generate(prompts, sampling_params)\n",
    "for prompt, output in zip(prompts, outputs):\n",
    "    print(\"===============================\")\n",
    "    print(f\"Prompt: {prompt}\\nGenerated text: {output['text']}\")"
   ]
  },
  {
   "cell_type": "code",
   "execution_count": 19,
   "metadata": {
    "execution": {
     "iopub.execute_input": "2025-06-15T00:08:02.936980Z",
     "iopub.status.busy": "2025-06-15T00:08:02.936687Z",
     "iopub.status.idle": "2025-06-15T00:08:02.967382Z",
     "shell.execute_reply": "2025-06-15T00:08:02.966707Z"
    }
   },
   "outputs": [],
   "source": [
    "llm.shutdown()"
   ]
  }
 ],
 "metadata": {
  "language_info": {
   "codemirror_mode": {
    "name": "ipython",
    "version": 3
   },
   "file_extension": ".py",
   "mimetype": "text/x-python",
   "name": "python",
   "nbconvert_exporter": "python",
   "pygments_lexer": "ipython3",
   "version": "3.10.12"
  }
 },
 "nbformat": 4,
 "nbformat_minor": 2
}
