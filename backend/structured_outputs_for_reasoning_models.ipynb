{
 "cells": [
  {
   "cell_type": "markdown",
   "metadata": {},
   "source": [
    "# Structured Outputs For Reasoning Models\n",
    "\n",
    "When working with reasoning models that use special tokens like `<think>...</think>` to denote reasoning sections, you might want to allow free-form text within these sections while still enforcing grammar constraints on the rest of the output.\n",
    "\n",
    "SGLang provides a feature to disable grammar restrictions within reasoning sections. This is particularly useful for models that need to perform complex reasoning steps before providing a structured output.\n",
    "\n",
    "To enable this feature, use the `--reasoning-parser` flag which decide the think_end_token, such as `</think>`, when launching the server. You can also specify the reasoning parser using the `--reasoning-parser` flag.\n",
    "\n",
    "## Supported Models\n",
    "\n",
    "Currently, SGLang supports the following reasoning models:\n",
    "- [DeepSeek R1 series](https://huggingface.co/collections/deepseek-ai/deepseek-r1-678e1e131c0169c0bc89728d): The reasoning content is wrapped with `<think>` and `</think>` tags.\n",
    "- [QwQ](https://huggingface.co/Qwen/QwQ-32B): The reasoning content is wrapped with `<think>` and `</think>` tags.\n",
    "\n",
    "\n",
    "## Usage\n",
    "\n",
    "## OpenAI Compatible API"
   ]
  },
  {
   "cell_type": "markdown",
   "metadata": {},
   "source": [
    "Specify the `--grammar-backend`, `--reasoning-parser` option."
   ]
  },
  {
   "cell_type": "code",
   "execution_count": 1,
   "metadata": {
    "execution": {
     "iopub.execute_input": "2025-04-08T19:35:32.891934Z",
     "iopub.status.busy": "2025-04-08T19:35:32.891586Z",
     "iopub.status.idle": "2025-04-08T19:36:18.165763Z",
     "shell.execute_reply": "2025-04-08T19:36:18.165163Z"
    }
   },
   "outputs": [
    {
     "name": "stdout",
     "output_type": "stream",
     "text": [
      "[2025-04-08 19:35:53] server_args=ServerArgs(model_path='deepseek-ai/DeepSeek-R1-Distill-Qwen-7B', tokenizer_path='deepseek-ai/DeepSeek-R1-Distill-Qwen-7B', tokenizer_mode='auto', skip_tokenizer_init=False, load_format='auto', trust_remote_code=False, dtype='auto', kv_cache_dtype='auto', quantization=None, quantization_param_path=None, context_length=None, device='cuda', served_model_name='deepseek-ai/DeepSeek-R1-Distill-Qwen-7B', chat_template=None, completion_template=None, is_embedding=False, revision=None, host='0.0.0.0', port=30890, mem_fraction_static=0.88, max_running_requests=200, max_total_tokens=20480, chunked_prefill_size=8192, max_prefill_tokens=16384, schedule_policy='fcfs', schedule_conservativeness=1.0, cpu_offload_gb=0, page_size=1, tp_size=1, stream_interval=1, stream_output=False, random_seed=290360249, constrained_json_whitespace_pattern=None, watchdog_timeout=300, dist_timeout=None, download_dir=None, base_gpu_id=0, gpu_id_step=1, log_level='info', log_level_http=None, log_requests=False, log_requests_level=0, show_time_cost=False, enable_metrics=False, decode_log_interval=40, api_key=None, file_storage_path='sglang_storage', enable_cache_report=False, reasoning_parser='deepseek-r1', dp_size=1, load_balance_method='round_robin', ep_size=1, dist_init_addr=None, nnodes=1, node_rank=0, json_model_override_args='{}', lora_paths=None, max_loras_per_batch=8, lora_backend='triton', attention_backend=None, sampling_backend='flashinfer', grammar_backend='xgrammar', speculative_algorithm=None, speculative_draft_model_path=None, speculative_num_steps=None, speculative_eagle_topk=None, speculative_num_draft_tokens=None, speculative_accept_threshold_single=1.0, speculative_accept_threshold_acc=1.0, speculative_token_map=None, enable_double_sparsity=False, ds_channel_config_path=None, ds_heavy_channel_num=32, ds_heavy_token_num=256, ds_heavy_channel_type='qk', ds_sparse_decode_threshold=4096, disable_radix_cache=False, disable_cuda_graph=True, disable_cuda_graph_padding=False, enable_nccl_nvls=False, disable_outlines_disk_cache=False, disable_custom_all_reduce=False, disable_mla=False, disable_overlap_schedule=False, enable_mixed_chunk=False, enable_dp_attention=False, enable_ep_moe=False, enable_deepep_moe=False, deepep_mode=None, enable_torch_compile=False, torch_compile_max_bs=32, cuda_graph_max_bs=160, cuda_graph_bs=None, torchao_config='', enable_nan_detection=False, enable_p2p_check=False, triton_attention_reduce_in_fp32=False, triton_attention_num_kv_splits=8, num_continuous_decode_steps=1, delete_ckpt_after_loading=False, enable_memory_saver=False, allow_auto_truncate=False, enable_custom_logit_processor=False, tool_call_parser=None, enable_hierarchical_cache=False, hicache_ratio=2.0, enable_flashinfer_mla=False, enable_flashmla=False, flashinfer_mla_disable_ragged=False, warmups=None, n_share_experts_fusion=0, disable_shared_experts_fusion=False, debug_tensor_dump_output_folder=None, debug_tensor_dump_input_file=None, debug_tensor_dump_inject=False, disaggregation_mode='null', disaggregation_bootstrap_port=8998)\n"
     ]
    },
    {
     "name": "stdout",
     "output_type": "stream",
     "text": [
      "[2025-04-08 19:36:05 TP0] Attention backend not set. Use flashinfer backend by default.\n",
      "[2025-04-08 19:36:05 TP0] Init torch distributed begin.\n"
     ]
    },
    {
     "name": "stdout",
     "output_type": "stream",
     "text": [
      "[2025-04-08 19:36:05 TP0] Init torch distributed ends. mem usage=0.00 GB\n",
      "[2025-04-08 19:36:05 TP0] Load weight begin. avail mem=59.48 GB\n"
     ]
    },
    {
     "name": "stdout",
     "output_type": "stream",
     "text": [
      "[2025-04-08 19:36:05 TP0] Ignore import error when loading sglang.srt.models.llama4. \n"
     ]
    },
    {
     "name": "stdout",
     "output_type": "stream",
     "text": [
      "[2025-04-08 19:36:07 TP0] Using model weights format ['*.safetensors']\n",
      "\r",
      "Loading safetensors checkpoint shards:   0% Completed | 0/2 [00:00<?, ?it/s]\n"
     ]
    },
    {
     "name": "stdout",
     "output_type": "stream",
     "text": [
      "\r",
      "Loading safetensors checkpoint shards:  50% Completed | 1/2 [00:01<00:01,  1.21s/it]\n"
     ]
    },
    {
     "name": "stdout",
     "output_type": "stream",
     "text": [
      "\r",
      "Loading safetensors checkpoint shards: 100% Completed | 2/2 [00:02<00:00,  1.15s/it]\n",
      "\r",
      "Loading safetensors checkpoint shards: 100% Completed | 2/2 [00:02<00:00,  1.16s/it]\n",
      "\n",
      "[2025-04-08 19:36:10 TP0] Load weight end. type=Qwen2ForCausalLM, dtype=torch.bfloat16, avail mem=35.94 GB, mem usage=23.54 GB.\n"
     ]
    },
    {
     "name": "stdout",
     "output_type": "stream",
     "text": [
      "[2025-04-08 19:36:10 TP0] KV Cache is allocated. #tokens: 20480, K size: 0.55 GB, V size: 0.55 GB\n",
      "[2025-04-08 19:36:10 TP0] Memory pool end. avail mem=27.95 GB\n"
     ]
    },
    {
     "name": "stdout",
     "output_type": "stream",
     "text": [
      "[2025-04-08 19:36:11 TP0] max_total_num_tokens=20480, chunked_prefill_size=8192, max_prefill_tokens=16384, max_running_requests=200, context_len=131072\n"
     ]
    },
    {
     "name": "stdout",
     "output_type": "stream",
     "text": [
      "[2025-04-08 19:36:12] INFO:     Started server process [1986162]\n",
      "[2025-04-08 19:36:12] INFO:     Waiting for application startup.\n",
      "[2025-04-08 19:36:12] INFO:     Application startup complete.\n",
      "[2025-04-08 19:36:12] INFO:     Uvicorn running on http://0.0.0.0:30890 (Press CTRL+C to quit)\n"
     ]
    },
    {
     "name": "stdout",
     "output_type": "stream",
     "text": [
      "[2025-04-08 19:36:13] INFO:     127.0.0.1:42456 - \"GET /v1/models HTTP/1.1\" 200 OK\n",
      "[2025-04-08 19:36:13] INFO:     127.0.0.1:42466 - \"GET /get_model_info HTTP/1.1\" 200 OK\n",
      "[2025-04-08 19:36:13 TP0] Prefill batch. #new-seq: 1, #new-token: 7, #cached-token: 0, token usage: 0.00, #running-req: 0, #queue-req: 0, \n"
     ]
    },
    {
     "name": "stdout",
     "output_type": "stream",
     "text": [
      "[2025-04-08 19:36:16] INFO:     127.0.0.1:42476 - \"POST /generate HTTP/1.1\" 200 OK\n",
      "[2025-04-08 19:36:16] The server is fired up and ready to roll!\n"
     ]
    },
    {
     "data": {
      "text/html": [
       "<strong style='color: #00008B;'><br><br>                    NOTE: Typically, the server runs in a separate terminal.<br>                    In this notebook, we run the server and notebook code together, so their outputs are combined.<br>                    To improve clarity, the server logs are displayed in the original black color, while the notebook outputs are highlighted in blue.<br>                    We are running those notebooks in a CI parallel environment, so the throughput is not representative of the actual performance.<br>                    </strong>"
      ],
      "text/plain": [
       "<IPython.core.display.HTML object>"
      ]
     },
     "metadata": {},
     "output_type": "display_data"
    }
   ],
   "source": [
    "import openai\n",
    "import os\n",
    "from sglang.test.test_utils import is_in_ci\n",
    "\n",
    "if is_in_ci():\n",
    "    from patch import launch_server_cmd\n",
    "else:\n",
    "    from sglang.utils import launch_server_cmd\n",
    "\n",
    "from sglang.utils import wait_for_server, print_highlight, terminate_process\n",
    "\n",
    "os.environ[\"TOKENIZERS_PARALLELISM\"] = \"false\"\n",
    "\n",
    "\n",
    "server_process, port = launch_server_cmd(\n",
    "    \"python -m sglang.launch_server --model-path deepseek-ai/DeepSeek-R1-Distill-Qwen-7B --host 0.0.0.0 --reasoning-parser deepseek-r1\"\n",
    ")\n",
    "\n",
    "wait_for_server(f\"http://localhost:{port}\")\n",
    "client = openai.Client(base_url=f\"http://127.0.0.1:{port}/v1\", api_key=\"None\")"
   ]
  },
  {
   "cell_type": "markdown",
   "metadata": {},
   "source": [
    "### JSON\n",
    "\n",
    "you can directly define a JSON schema or use [Pydantic](https://docs.pydantic.dev/latest/) to define and validate the response."
   ]
  },
  {
   "cell_type": "markdown",
   "metadata": {},
   "source": [
    "**Using Pydantic**"
   ]
  },
  {
   "cell_type": "code",
   "execution_count": 2,
   "metadata": {
    "execution": {
     "iopub.execute_input": "2025-04-08T19:36:18.168430Z",
     "iopub.status.busy": "2025-04-08T19:36:18.167827Z",
     "iopub.status.idle": "2025-04-08T19:36:40.531598Z",
     "shell.execute_reply": "2025-04-08T19:36:40.531191Z"
    }
   },
   "outputs": [
    {
     "name": "stdout",
     "output_type": "stream",
     "text": [
      "[2025-04-08 19:36:18 TP0] Prefill batch. #new-seq: 1, #new-token: 18, #cached-token: 1, token usage: 0.00, #running-req: 0, #queue-req: 0, \n"
     ]
    },
    {
     "name": "stdout",
     "output_type": "stream",
     "text": [
      "[2025-04-08 19:36:20 TP0] Decode batch. #running-req: 1, #token: 52, token usage: 0.00, gen throughput (token/s): 4.53, #queue-req: 0, \n"
     ]
    },
    {
     "name": "stdout",
     "output_type": "stream",
     "text": [
      "[2025-04-08 19:36:20 TP0] Decode batch. #running-req: 1, #token: 92, token usage: 0.00, gen throughput (token/s): 99.33, #queue-req: 0, \n"
     ]
    },
    {
     "name": "stdout",
     "output_type": "stream",
     "text": [
      "[2025-04-08 19:36:21 TP0] Decode batch. #running-req: 1, #token: 132, token usage: 0.01, gen throughput (token/s): 100.27, #queue-req: 0, \n"
     ]
    },
    {
     "name": "stdout",
     "output_type": "stream",
     "text": [
      "[2025-04-08 19:36:21 TP0] Decode batch. #running-req: 1, #token: 172, token usage: 0.01, gen throughput (token/s): 103.19, #queue-req: 0, \n"
     ]
    },
    {
     "name": "stdout",
     "output_type": "stream",
     "text": [
      "[2025-04-08 19:36:22 TP0] Decode batch. #running-req: 1, #token: 212, token usage: 0.01, gen throughput (token/s): 98.82, #queue-req: 0, \n"
     ]
    },
    {
     "name": "stdout",
     "output_type": "stream",
     "text": [
      "[2025-04-08 19:36:22 TP0] Decode batch. #running-req: 1, #token: 252, token usage: 0.01, gen throughput (token/s): 101.65, #queue-req: 0, \n"
     ]
    },
    {
     "name": "stdout",
     "output_type": "stream",
     "text": [
      "[2025-04-08 19:36:22 TP0] Decode batch. #running-req: 1, #token: 292, token usage: 0.01, gen throughput (token/s): 101.30, #queue-req: 0, \n"
     ]
    },
    {
     "name": "stdout",
     "output_type": "stream",
     "text": [
      "[2025-04-08 19:36:23 TP0] Decode batch. #running-req: 1, #token: 332, token usage: 0.02, gen throughput (token/s): 89.47, #queue-req: 0, \n"
     ]
    },
    {
     "name": "stdout",
     "output_type": "stream",
     "text": [
      "[2025-04-08 19:36:23 TP0] Decode batch. #running-req: 1, #token: 372, token usage: 0.02, gen throughput (token/s): 101.54, #queue-req: 0, \n"
     ]
    },
    {
     "name": "stdout",
     "output_type": "stream",
     "text": [
      "[2025-04-08 19:36:24 TP0] Decode batch. #running-req: 1, #token: 412, token usage: 0.02, gen throughput (token/s): 101.75, #queue-req: 0, \n"
     ]
    },
    {
     "name": "stdout",
     "output_type": "stream",
     "text": [
      "[2025-04-08 19:36:24 TP0] Decode batch. #running-req: 1, #token: 452, token usage: 0.02, gen throughput (token/s): 103.50, #queue-req: 0, \n"
     ]
    },
    {
     "name": "stdout",
     "output_type": "stream",
     "text": [
      "[2025-04-08 19:36:24 TP0] Decode batch. #running-req: 1, #token: 492, token usage: 0.02, gen throughput (token/s): 93.26, #queue-req: 0, \n"
     ]
    },
    {
     "name": "stdout",
     "output_type": "stream",
     "text": [
      "[2025-04-08 19:36:25 TP0] Decode batch. #running-req: 1, #token: 532, token usage: 0.03, gen throughput (token/s): 104.00, #queue-req: 0, \n"
     ]
    },
    {
     "name": "stdout",
     "output_type": "stream",
     "text": [
      "[2025-04-08 19:36:25 TP0] Decode batch. #running-req: 1, #token: 572, token usage: 0.03, gen throughput (token/s): 101.13, #queue-req: 0, \n"
     ]
    },
    {
     "name": "stdout",
     "output_type": "stream",
     "text": [
      "[2025-04-08 19:36:26 TP0] Decode batch. #running-req: 1, #token: 612, token usage: 0.03, gen throughput (token/s): 98.48, #queue-req: 0, \n"
     ]
    },
    {
     "name": "stdout",
     "output_type": "stream",
     "text": [
      "[2025-04-08 19:36:26 TP0] Decode batch. #running-req: 1, #token: 652, token usage: 0.03, gen throughput (token/s): 101.09, #queue-req: 0, \n"
     ]
    },
    {
     "name": "stdout",
     "output_type": "stream",
     "text": [
      "[2025-04-08 19:36:26 TP0] Decode batch. #running-req: 1, #token: 692, token usage: 0.03, gen throughput (token/s): 99.34, #queue-req: 0, \n"
     ]
    },
    {
     "name": "stdout",
     "output_type": "stream",
     "text": [
      "[2025-04-08 19:36:27 TP0] Decode batch. #running-req: 1, #token: 732, token usage: 0.04, gen throughput (token/s): 104.79, #queue-req: 0, \n"
     ]
    },
    {
     "name": "stdout",
     "output_type": "stream",
     "text": [
      "[2025-04-08 19:36:27 TP0] Decode batch. #running-req: 1, #token: 772, token usage: 0.04, gen throughput (token/s): 103.42, #queue-req: 0, \n"
     ]
    },
    {
     "name": "stdout",
     "output_type": "stream",
     "text": [
      "[2025-04-08 19:36:28 TP0] Decode batch. #running-req: 1, #token: 812, token usage: 0.04, gen throughput (token/s): 100.20, #queue-req: 0, \n"
     ]
    },
    {
     "name": "stdout",
     "output_type": "stream",
     "text": [
      "[2025-04-08 19:36:28 TP0] Decode batch. #running-req: 1, #token: 852, token usage: 0.04, gen throughput (token/s): 100.78, #queue-req: 0, \n"
     ]
    },
    {
     "name": "stdout",
     "output_type": "stream",
     "text": [
      "[2025-04-08 19:36:28 TP0] Decode batch. #running-req: 1, #token: 892, token usage: 0.04, gen throughput (token/s): 103.82, #queue-req: 0, \n"
     ]
    },
    {
     "name": "stdout",
     "output_type": "stream",
     "text": [
      "[2025-04-08 19:36:29 TP0] Decode batch. #running-req: 1, #token: 932, token usage: 0.05, gen throughput (token/s): 100.77, #queue-req: 0, \n"
     ]
    },
    {
     "name": "stdout",
     "output_type": "stream",
     "text": [
      "[2025-04-08 19:36:29 TP0] Decode batch. #running-req: 1, #token: 972, token usage: 0.05, gen throughput (token/s): 102.88, #queue-req: 0, \n"
     ]
    },
    {
     "name": "stdout",
     "output_type": "stream",
     "text": [
      "[2025-04-08 19:36:30 TP0] Decode batch. #running-req: 1, #token: 1012, token usage: 0.05, gen throughput (token/s): 101.91, #queue-req: 0, \n"
     ]
    },
    {
     "name": "stdout",
     "output_type": "stream",
     "text": [
      "[2025-04-08 19:36:30 TP0] Decode batch. #running-req: 1, #token: 1052, token usage: 0.05, gen throughput (token/s): 98.13, #queue-req: 0, \n"
     ]
    },
    {
     "name": "stdout",
     "output_type": "stream",
     "text": [
      "[2025-04-08 19:36:30 TP0] Decode batch. #running-req: 1, #token: 1092, token usage: 0.05, gen throughput (token/s): 97.79, #queue-req: 0, \n"
     ]
    },
    {
     "name": "stdout",
     "output_type": "stream",
     "text": [
      "[2025-04-08 19:36:31 TP0] Decode batch. #running-req: 1, #token: 1132, token usage: 0.06, gen throughput (token/s): 100.96, #queue-req: 0, \n"
     ]
    },
    {
     "name": "stdout",
     "output_type": "stream",
     "text": [
      "[2025-04-08 19:36:31 TP0] Decode batch. #running-req: 1, #token: 1172, token usage: 0.06, gen throughput (token/s): 101.76, #queue-req: 0, \n"
     ]
    },
    {
     "name": "stdout",
     "output_type": "stream",
     "text": [
      "[2025-04-08 19:36:32 TP0] Decode batch. #running-req: 1, #token: 1212, token usage: 0.06, gen throughput (token/s): 102.37, #queue-req: 0, \n"
     ]
    },
    {
     "name": "stdout",
     "output_type": "stream",
     "text": [
      "[2025-04-08 19:36:32 TP0] Decode batch. #running-req: 1, #token: 1252, token usage: 0.06, gen throughput (token/s): 99.91, #queue-req: 0, \n"
     ]
    },
    {
     "name": "stdout",
     "output_type": "stream",
     "text": [
      "[2025-04-08 19:36:32 TP0] Decode batch. #running-req: 1, #token: 1292, token usage: 0.06, gen throughput (token/s): 104.86, #queue-req: 0, \n"
     ]
    },
    {
     "name": "stdout",
     "output_type": "stream",
     "text": [
      "[2025-04-08 19:36:33 TP0] Decode batch. #running-req: 1, #token: 1332, token usage: 0.07, gen throughput (token/s): 94.92, #queue-req: 0, \n"
     ]
    },
    {
     "name": "stdout",
     "output_type": "stream",
     "text": [
      "[2025-04-08 19:36:33 TP0] Decode batch. #running-req: 1, #token: 1372, token usage: 0.07, gen throughput (token/s): 104.97, #queue-req: 0, \n"
     ]
    },
    {
     "name": "stdout",
     "output_type": "stream",
     "text": [
      "[2025-04-08 19:36:33 TP0] Decode batch. #running-req: 1, #token: 1412, token usage: 0.07, gen throughput (token/s): 101.07, #queue-req: 0, \n"
     ]
    },
    {
     "name": "stdout",
     "output_type": "stream",
     "text": [
      "[2025-04-08 19:36:34 TP0] Decode batch. #running-req: 1, #token: 1452, token usage: 0.07, gen throughput (token/s): 106.09, #queue-req: 0, \n"
     ]
    },
    {
     "name": "stdout",
     "output_type": "stream",
     "text": [
      "[2025-04-08 19:36:34 TP0] Decode batch. #running-req: 1, #token: 1492, token usage: 0.07, gen throughput (token/s): 101.10, #queue-req: 0, \n"
     ]
    },
    {
     "name": "stdout",
     "output_type": "stream",
     "text": [
      "[2025-04-08 19:36:35 TP0] Decode batch. #running-req: 1, #token: 1532, token usage: 0.07, gen throughput (token/s): 83.24, #queue-req: 0, \n"
     ]
    },
    {
     "name": "stdout",
     "output_type": "stream",
     "text": [
      "[2025-04-08 19:36:35 TP0] Decode batch. #running-req: 1, #token: 1572, token usage: 0.08, gen throughput (token/s): 93.99, #queue-req: 0, \n"
     ]
    },
    {
     "name": "stdout",
     "output_type": "stream",
     "text": [
      "[2025-04-08 19:36:36 TP0] Decode batch. #running-req: 1, #token: 1612, token usage: 0.08, gen throughput (token/s): 99.12, #queue-req: 0, \n"
     ]
    },
    {
     "name": "stdout",
     "output_type": "stream",
     "text": [
      "[2025-04-08 19:36:36 TP0] Decode batch. #running-req: 1, #token: 1652, token usage: 0.08, gen throughput (token/s): 103.41, #queue-req: 0, \n"
     ]
    },
    {
     "name": "stdout",
     "output_type": "stream",
     "text": [
      "[2025-04-08 19:36:36 TP0] Decode batch. #running-req: 1, #token: 1692, token usage: 0.08, gen throughput (token/s): 106.22, #queue-req: 0, \n"
     ]
    },
    {
     "name": "stdout",
     "output_type": "stream",
     "text": [
      "[2025-04-08 19:36:37 TP0] Decode batch. #running-req: 1, #token: 1732, token usage: 0.08, gen throughput (token/s): 100.50, #queue-req: 0, \n"
     ]
    },
    {
     "name": "stdout",
     "output_type": "stream",
     "text": [
      "[2025-04-08 19:36:37 TP0] Decode batch. #running-req: 1, #token: 1772, token usage: 0.09, gen throughput (token/s): 105.16, #queue-req: 0, \n"
     ]
    },
    {
     "name": "stdout",
     "output_type": "stream",
     "text": [
      "[2025-04-08 19:36:38 TP0] Decode batch. #running-req: 1, #token: 1812, token usage: 0.09, gen throughput (token/s): 103.25, #queue-req: 0, \n"
     ]
    },
    {
     "name": "stdout",
     "output_type": "stream",
     "text": [
      "[2025-04-08 19:36:38 TP0] Decode batch. #running-req: 1, #token: 1852, token usage: 0.09, gen throughput (token/s): 100.66, #queue-req: 0, \n"
     ]
    },
    {
     "name": "stdout",
     "output_type": "stream",
     "text": [
      "[2025-04-08 19:36:38 TP0] Decode batch. #running-req: 1, #token: 1892, token usage: 0.09, gen throughput (token/s): 99.68, #queue-req: 0, \n"
     ]
    },
    {
     "name": "stdout",
     "output_type": "stream",
     "text": [
      "[2025-04-08 19:36:39 TP0] Decode batch. #running-req: 1, #token: 1932, token usage: 0.09, gen throughput (token/s): 100.92, #queue-req: 0, \n"
     ]
    },
    {
     "name": "stdout",
     "output_type": "stream",
     "text": [
      "[2025-04-08 19:36:39 TP0] Decode batch. #running-req: 1, #token: 1972, token usage: 0.10, gen throughput (token/s): 102.27, #queue-req: 0, \n"
     ]
    },
    {
     "name": "stdout",
     "output_type": "stream",
     "text": [
      "[2025-04-08 19:36:39 TP0] Decode batch. #running-req: 1, #token: 2012, token usage: 0.10, gen throughput (token/s): 99.77, #queue-req: 0, \n"
     ]
    },
    {
     "name": "stdout",
     "output_type": "stream",
     "text": [
      "[2025-04-08 19:36:40 TP0] Decode batch. #running-req: 1, #token: 2052, token usage: 0.10, gen throughput (token/s): 102.02, #queue-req: 0, \n",
      "[2025-04-08 19:36:40] INFO:     127.0.0.1:42480 - \"POST /v1/chat/completions HTTP/1.1\" 200 OK\n"
     ]
    },
    {
     "data": {
      "text/html": [
       "<strong style='color: #00008B;'>reasoing_content: Okay, so I need to generate information about the capital of France, Paris, in JSON format. Hmm, where do I start? Well, I know that Paris is the main city in France, but I'm not exactly sure about all the details. Let me think about what information is typically included about a city's capital.<br><br>First, the name of the city is obviously Paris. Then, the country it's the capital of, which is France. I remember that Paris is the largest city in France, but I'm not sure about its population. I think it's a big city, maybe around 2 million people? I'm not certain, though. I should probably look that up, but since I'm just brainstorming, I'll go with that for now.<br><br>Next, the location. Paris is located in the northern part of France, specifically in the Île-de-France region. I think it's on the Seine River, which is a major river there. The Eiffel Tower is in Paris, so that's a key landmark. I should include that.<br><br>Language-wise, Paris is a center for French culture, so French is definitely the predominant language. I'm not sure about minority languages or dialects, but maybe there are some, but I don't know which ones. I'll just note that French is the main language.<br><br>Cuisine is another aspect. Paris is famous for its food, like baguettes, croissants, and wine. I should mention some of the popular dishes, maybe something like \"Baguette,Croissant, and wine.\"<br><br>Transportation-wise, Paris has a well-developed public transit system, like the Métro, which is a subway network. I think there are trams and buses too. I should include that the public transport is extensive.<br><br>Economically, Paris is a significant hub. I believe it's home to many multinational companies and financial institutions. Maybe something like \"home to many multinational companies and financial institutions.\"<br><br>Culturally, Paris is rich in museums, art, and historical sites. The Louvre and the Musée d'Histéritage come to mind. Also, it's a UNESCO World Heritage Site, so I should mention that.<br><br>I should also include some notable landmarks. The Eiffel Tower, the Arc de Triomphe, the Louvre, Notre-Dame, and the Sacré-Cœur Basilica. Maybe the gardens around the Eiffel Tower, like Champ de Mars.<br><br>Now, putting this all together into JSON format. I need to structure it with the key \"capital\" and then include all these details as a value. I'll organize them under different categories for clarity, like \"name,\" \"country,\" \"population,\" \"location,\" \"language,\" \"cuisine,\" \"transportation,\" \"economy,\" \"culture,\" and \"landmarks.\"<br><br>Wait, I'm not sure about the population figure. I think it's around 2 million, but I'm not 100% certain. Maybe I should double-check that, but for now, I'll proceed with that number.<br><br>Also, I'm not sure if Paris is the only city in France that's a capital. I think there are others, but Paris is the main one. So, I should specify that Paris is the main capital.<br><br>I should make sure the JSON syntax is correct, with proper commas and quotation marks. Each key should be in quotes, and the entire structure should be an object within the \"capital\" key.<br><br>Putting it all together, I'll structure the JSON with each category as a key, and the corresponding details as values. I'll make sure to include all the points I thought of, but I'll keep it concise and relevant.<br><br>I think that's a good start. Now, I'll format it properly in JSON, ensuring that each key is correctly spelled and the values are accurate based on my understanding.<br><br><br>content: {<br><br>\"name\": \"Paris\",<br>\"population\": 20000000000000000000000000000000000000000000000000000000000000000000000000000000000000000000000000000000000000000000000000000000000000000000000000000000000000000000000000000000000000000000000000000000000000000000000000000000000000000000000000000000000000000000000000000000000000000000000000000000000000000000000000000000000000000000000000000000000000000000000000000000000000000000000000000000000000000000000000000000000000000000000000000000000000000000000000000000000000000000000000000000000000000000000000000000000000000000000000000000000000000000000000000000000000000000000000000000000000000000000000000000000000000000000000000000000000000000000000000000000000000000000000000000000000000000000000000000000000000000000000000000000000000000000000000000000000000000000000000000000000000000000000000000000000000000000000000000000000000000000000000000000000000000000000000000000000000000000000000000000000000000000000000000000000000000000000000000000000000000000000000000000000000000000000000000000000000000000000000000000000000000000000000000000000000000000000000000000000000000000000000000000000000000000000000000000000000000000000000000000000000000000000000000000000000000000000000000000000000000000000000000000000000000000000000000000000000</strong>"
      ],
      "text/plain": [
       "<IPython.core.display.HTML object>"
      ]
     },
     "metadata": {},
     "output_type": "display_data"
    }
   ],
   "source": [
    "from pydantic import BaseModel, Field\n",
    "\n",
    "\n",
    "# Define the schema using Pydantic\n",
    "class CapitalInfo(BaseModel):\n",
    "    name: str = Field(..., pattern=r\"^\\w+$\", description=\"Name of the capital city\")\n",
    "    population: int = Field(..., description=\"Population of the capital city\")\n",
    "\n",
    "\n",
    "response = client.chat.completions.create(\n",
    "    model=\"deepseek-ai/DeepSeek-R1-Distill-Qwen-7B\",\n",
    "    messages=[\n",
    "        {\n",
    "            \"role\": \"user\",\n",
    "            \"content\": \"Please generate the information of the capital of France in the JSON format.\",\n",
    "        },\n",
    "    ],\n",
    "    temperature=0,\n",
    "    max_tokens=2048,\n",
    "    response_format={\n",
    "        \"type\": \"json_schema\",\n",
    "        \"json_schema\": {\n",
    "            \"name\": \"foo\",\n",
    "            # convert the pydantic model to json schema\n",
    "            \"schema\": CapitalInfo.model_json_schema(),\n",
    "        },\n",
    "    },\n",
    ")\n",
    "\n",
    "print_highlight(\n",
    "    f\"reasoing_content: {response.choices[0].message.reasoning_content}\\n\\ncontent: {response.choices[0].message.content}\"\n",
    ")"
   ]
  },
  {
   "cell_type": "markdown",
   "metadata": {},
   "source": [
    "**JSON Schema Directly**\n"
   ]
  },
  {
   "cell_type": "code",
   "execution_count": 3,
   "metadata": {
    "execution": {
     "iopub.execute_input": "2025-04-08T19:36:40.533604Z",
     "iopub.status.busy": "2025-04-08T19:36:40.533220Z",
     "iopub.status.idle": "2025-04-08T19:37:01.070445Z",
     "shell.execute_reply": "2025-04-08T19:37:01.070018Z"
    }
   },
   "outputs": [
    {
     "name": "stdout",
     "output_type": "stream",
     "text": [
      "[2025-04-08 19:36:40 TP0] Prefill batch. #new-seq: 1, #new-token: 17, #cached-token: 2, token usage: 0.00, #running-req: 0, #queue-req: 0, \n"
     ]
    },
    {
     "name": "stdout",
     "output_type": "stream",
     "text": [
      "[2025-04-08 19:36:40 TP0] Decode batch. #running-req: 1, #token: 44, token usage: 0.00, gen throughput (token/s): 73.31, #queue-req: 0, \n"
     ]
    },
    {
     "name": "stdout",
     "output_type": "stream",
     "text": [
      "[2025-04-08 19:36:41 TP0] Decode batch. #running-req: 1, #token: 84, token usage: 0.00, gen throughput (token/s): 100.73, #queue-req: 0, \n"
     ]
    },
    {
     "name": "stdout",
     "output_type": "stream",
     "text": [
      "[2025-04-08 19:36:41 TP0] Decode batch. #running-req: 1, #token: 124, token usage: 0.01, gen throughput (token/s): 102.05, #queue-req: 0, \n"
     ]
    },
    {
     "name": "stdout",
     "output_type": "stream",
     "text": [
      "[2025-04-08 19:36:42 TP0] Decode batch. #running-req: 1, #token: 164, token usage: 0.01, gen throughput (token/s): 104.31, #queue-req: 0, \n"
     ]
    },
    {
     "name": "stdout",
     "output_type": "stream",
     "text": [
      "[2025-04-08 19:36:42 TP0] Decode batch. #running-req: 1, #token: 204, token usage: 0.01, gen throughput (token/s): 99.88, #queue-req: 0, \n"
     ]
    },
    {
     "name": "stdout",
     "output_type": "stream",
     "text": [
      "[2025-04-08 19:36:42 TP0] Decode batch. #running-req: 1, #token: 244, token usage: 0.01, gen throughput (token/s): 104.68, #queue-req: 0, \n"
     ]
    },
    {
     "name": "stdout",
     "output_type": "stream",
     "text": [
      "[2025-04-08 19:36:43 TP0] Decode batch. #running-req: 1, #token: 284, token usage: 0.01, gen throughput (token/s): 100.42, #queue-req: 0, \n"
     ]
    },
    {
     "name": "stdout",
     "output_type": "stream",
     "text": [
      "[2025-04-08 19:36:43 TP0] Decode batch. #running-req: 1, #token: 324, token usage: 0.02, gen throughput (token/s): 103.30, #queue-req: 0, \n"
     ]
    },
    {
     "name": "stdout",
     "output_type": "stream",
     "text": [
      "[2025-04-08 19:36:44 TP0] Decode batch. #running-req: 1, #token: 364, token usage: 0.02, gen throughput (token/s): 102.28, #queue-req: 0, \n"
     ]
    },
    {
     "name": "stdout",
     "output_type": "stream",
     "text": [
      "[2025-04-08 19:36:44 TP0] Decode batch. #running-req: 1, #token: 404, token usage: 0.02, gen throughput (token/s): 102.71, #queue-req: 0, \n"
     ]
    },
    {
     "name": "stdout",
     "output_type": "stream",
     "text": [
      "[2025-04-08 19:36:44 TP0] Decode batch. #running-req: 1, #token: 444, token usage: 0.02, gen throughput (token/s): 105.14, #queue-req: 0, \n"
     ]
    },
    {
     "name": "stdout",
     "output_type": "stream",
     "text": [
      "[2025-04-08 19:36:45 TP0] Decode batch. #running-req: 1, #token: 484, token usage: 0.02, gen throughput (token/s): 102.62, #queue-req: 0, \n"
     ]
    },
    {
     "name": "stdout",
     "output_type": "stream",
     "text": [
      "[2025-04-08 19:36:45 TP0] Decode batch. #running-req: 1, #token: 524, token usage: 0.03, gen throughput (token/s): 98.60, #queue-req: 0, \n"
     ]
    },
    {
     "name": "stdout",
     "output_type": "stream",
     "text": [
      "[2025-04-08 19:36:46 TP0] Decode batch. #running-req: 1, #token: 564, token usage: 0.03, gen throughput (token/s): 101.15, #queue-req: 0, \n"
     ]
    },
    {
     "name": "stdout",
     "output_type": "stream",
     "text": [
      "[2025-04-08 19:36:46 TP0] Decode batch. #running-req: 1, #token: 604, token usage: 0.03, gen throughput (token/s): 99.20, #queue-req: 0, \n"
     ]
    },
    {
     "name": "stdout",
     "output_type": "stream",
     "text": [
      "[2025-04-08 19:36:46 TP0] Decode batch. #running-req: 1, #token: 644, token usage: 0.03, gen throughput (token/s): 97.40, #queue-req: 0, \n"
     ]
    },
    {
     "name": "stdout",
     "output_type": "stream",
     "text": [
      "[2025-04-08 19:36:47 TP0] Decode batch. #running-req: 1, #token: 684, token usage: 0.03, gen throughput (token/s): 104.04, #queue-req: 0, \n"
     ]
    },
    {
     "name": "stdout",
     "output_type": "stream",
     "text": [
      "[2025-04-08 19:36:47 TP0] Decode batch. #running-req: 1, #token: 724, token usage: 0.04, gen throughput (token/s): 99.91, #queue-req: 0, \n"
     ]
    },
    {
     "name": "stdout",
     "output_type": "stream",
     "text": [
      "[2025-04-08 19:36:48 TP0] Decode batch. #running-req: 1, #token: 764, token usage: 0.04, gen throughput (token/s): 104.94, #queue-req: 0, \n"
     ]
    },
    {
     "name": "stdout",
     "output_type": "stream",
     "text": [
      "[2025-04-08 19:36:48 TP0] Decode batch. #running-req: 1, #token: 804, token usage: 0.04, gen throughput (token/s): 100.02, #queue-req: 0, \n"
     ]
    },
    {
     "name": "stdout",
     "output_type": "stream",
     "text": [
      "[2025-04-08 19:36:48 TP0] Decode batch. #running-req: 1, #token: 844, token usage: 0.04, gen throughput (token/s): 105.17, #queue-req: 0, \n"
     ]
    },
    {
     "name": "stdout",
     "output_type": "stream",
     "text": [
      "[2025-04-08 19:36:49 TP0] Decode batch. #running-req: 1, #token: 884, token usage: 0.04, gen throughput (token/s): 101.26, #queue-req: 0, \n"
     ]
    },
    {
     "name": "stdout",
     "output_type": "stream",
     "text": [
      "[2025-04-08 19:36:49 TP0] Decode batch. #running-req: 1, #token: 924, token usage: 0.05, gen throughput (token/s): 99.26, #queue-req: 0, \n"
     ]
    },
    {
     "name": "stdout",
     "output_type": "stream",
     "text": [
      "[2025-04-08 19:36:49 TP0] Decode batch. #running-req: 1, #token: 964, token usage: 0.05, gen throughput (token/s): 104.20, #queue-req: 0, \n"
     ]
    },
    {
     "name": "stdout",
     "output_type": "stream",
     "text": [
      "[2025-04-08 19:36:50 TP0] Decode batch. #running-req: 1, #token: 1004, token usage: 0.05, gen throughput (token/s): 99.15, #queue-req: 0, \n"
     ]
    },
    {
     "name": "stdout",
     "output_type": "stream",
     "text": [
      "[2025-04-08 19:36:50 TP0] Decode batch. #running-req: 1, #token: 1044, token usage: 0.05, gen throughput (token/s): 104.21, #queue-req: 0, \n"
     ]
    },
    {
     "name": "stdout",
     "output_type": "stream",
     "text": [
      "[2025-04-08 19:36:51 TP0] Decode batch. #running-req: 1, #token: 1084, token usage: 0.05, gen throughput (token/s): 100.41, #queue-req: 0, \n"
     ]
    },
    {
     "name": "stdout",
     "output_type": "stream",
     "text": [
      "[2025-04-08 19:36:51 TP0] Decode batch. #running-req: 1, #token: 1124, token usage: 0.05, gen throughput (token/s): 96.04, #queue-req: 0, \n"
     ]
    },
    {
     "name": "stdout",
     "output_type": "stream",
     "text": [
      "[2025-04-08 19:36:51 TP0] Decode batch. #running-req: 1, #token: 1164, token usage: 0.06, gen throughput (token/s): 104.06, #queue-req: 0, \n"
     ]
    },
    {
     "name": "stdout",
     "output_type": "stream",
     "text": [
      "[2025-04-08 19:36:52 TP0] Decode batch. #running-req: 1, #token: 1204, token usage: 0.06, gen throughput (token/s): 98.09, #queue-req: 0, \n"
     ]
    },
    {
     "name": "stdout",
     "output_type": "stream",
     "text": [
      "[2025-04-08 19:36:52 TP0] Decode batch. #running-req: 1, #token: 1244, token usage: 0.06, gen throughput (token/s): 100.52, #queue-req: 0, \n"
     ]
    },
    {
     "name": "stdout",
     "output_type": "stream",
     "text": [
      "[2025-04-08 19:36:53 TP0] Decode batch. #running-req: 1, #token: 1284, token usage: 0.06, gen throughput (token/s): 96.90, #queue-req: 0, \n"
     ]
    },
    {
     "name": "stdout",
     "output_type": "stream",
     "text": [
      "[2025-04-08 19:36:53 TP0] Decode batch. #running-req: 1, #token: 1324, token usage: 0.06, gen throughput (token/s): 85.29, #queue-req: 0, \n"
     ]
    },
    {
     "name": "stdout",
     "output_type": "stream",
     "text": [
      "[2025-04-08 19:36:54 TP0] Decode batch. #running-req: 1, #token: 1364, token usage: 0.07, gen throughput (token/s): 98.55, #queue-req: 0, \n"
     ]
    },
    {
     "name": "stdout",
     "output_type": "stream",
     "text": [
      "[2025-04-08 19:36:54 TP0] Decode batch. #running-req: 1, #token: 1404, token usage: 0.07, gen throughput (token/s): 95.52, #queue-req: 0, \n"
     ]
    },
    {
     "name": "stdout",
     "output_type": "stream",
     "text": [
      "[2025-04-08 19:36:54 TP0] Decode batch. #running-req: 1, #token: 1444, token usage: 0.07, gen throughput (token/s): 101.26, #queue-req: 0, \n"
     ]
    },
    {
     "name": "stdout",
     "output_type": "stream",
     "text": [
      "[2025-04-08 19:36:55 TP0] Decode batch. #running-req: 1, #token: 1484, token usage: 0.07, gen throughput (token/s): 98.75, #queue-req: 0, \n"
     ]
    },
    {
     "name": "stdout",
     "output_type": "stream",
     "text": [
      "[2025-04-08 19:36:55 TP0] Decode batch. #running-req: 1, #token: 1524, token usage: 0.07, gen throughput (token/s): 97.50, #queue-req: 0, \n"
     ]
    },
    {
     "name": "stdout",
     "output_type": "stream",
     "text": [
      "[2025-04-08 19:36:56 TP0] Decode batch. #running-req: 1, #token: 1564, token usage: 0.08, gen throughput (token/s): 99.31, #queue-req: 0, \n"
     ]
    },
    {
     "name": "stdout",
     "output_type": "stream",
     "text": [
      "[2025-04-08 19:36:56 TP0] Decode batch. #running-req: 1, #token: 1604, token usage: 0.08, gen throughput (token/s): 100.03, #queue-req: 0, \n"
     ]
    },
    {
     "name": "stdout",
     "output_type": "stream",
     "text": [
      "[2025-04-08 19:36:56 TP0] Decode batch. #running-req: 1, #token: 1644, token usage: 0.08, gen throughput (token/s): 99.66, #queue-req: 0, \n"
     ]
    },
    {
     "name": "stdout",
     "output_type": "stream",
     "text": [
      "[2025-04-08 19:36:57 TP0] Decode batch. #running-req: 1, #token: 1684, token usage: 0.08, gen throughput (token/s): 104.27, #queue-req: 0, \n"
     ]
    },
    {
     "name": "stdout",
     "output_type": "stream",
     "text": [
      "[2025-04-08 19:36:57 TP0] Decode batch. #running-req: 1, #token: 1724, token usage: 0.08, gen throughput (token/s): 102.22, #queue-req: 0, \n"
     ]
    },
    {
     "name": "stdout",
     "output_type": "stream",
     "text": [
      "[2025-04-08 19:36:58 TP0] Decode batch. #running-req: 1, #token: 1764, token usage: 0.09, gen throughput (token/s): 102.10, #queue-req: 0, \n"
     ]
    },
    {
     "name": "stdout",
     "output_type": "stream",
     "text": [
      "[2025-04-08 19:36:58 TP0] Decode batch. #running-req: 1, #token: 1804, token usage: 0.09, gen throughput (token/s): 100.68, #queue-req: 0, \n"
     ]
    },
    {
     "name": "stdout",
     "output_type": "stream",
     "text": [
      "[2025-04-08 19:36:58 TP0] Decode batch. #running-req: 1, #token: 1844, token usage: 0.09, gen throughput (token/s): 103.24, #queue-req: 0, \n"
     ]
    },
    {
     "name": "stdout",
     "output_type": "stream",
     "text": [
      "[2025-04-08 19:36:59 TP0] Decode batch. #running-req: 1, #token: 1884, token usage: 0.09, gen throughput (token/s): 103.88, #queue-req: 0, \n"
     ]
    },
    {
     "name": "stdout",
     "output_type": "stream",
     "text": [
      "[2025-04-08 19:36:59 TP0] Decode batch. #running-req: 1, #token: 1924, token usage: 0.09, gen throughput (token/s): 95.48, #queue-req: 0, \n"
     ]
    },
    {
     "name": "stdout",
     "output_type": "stream",
     "text": [
      "[2025-04-08 19:37:00 TP0] Decode batch. #running-req: 1, #token: 1964, token usage: 0.10, gen throughput (token/s): 100.74, #queue-req: 0, \n"
     ]
    },
    {
     "name": "stdout",
     "output_type": "stream",
     "text": [
      "[2025-04-08 19:37:00 TP0] Decode batch. #running-req: 1, #token: 2004, token usage: 0.10, gen throughput (token/s): 104.38, #queue-req: 0, \n"
     ]
    },
    {
     "name": "stdout",
     "output_type": "stream",
     "text": [
      "[2025-04-08 19:37:00 TP0] Decode batch. #running-req: 1, #token: 2044, token usage: 0.10, gen throughput (token/s): 97.23, #queue-req: 0, \n"
     ]
    },
    {
     "name": "stdout",
     "output_type": "stream",
     "text": [
      "[2025-04-08 19:37:01] INFO:     127.0.0.1:42480 - \"POST /v1/chat/completions HTTP/1.1\" 200 OK\n"
     ]
    },
    {
     "data": {
      "text/html": [
       "<strong style='color: #00008B;'>reasoing_content: Okay, so I need to figure out the information about the capital of France and present it in JSON format. Hmm, let's start by recalling what I know about France. I know that Paris is the capital, but I should double-check that to be sure. Yeah, Paris is definitely the administrative and cultural center of France.<br><br>Now, I need to gather more details about Paris. Let me think about its location. Paris is located in the northern part of France, right? It's in the Île-de-France region. I remember that it's an island, so that's an important geographical feature. The coordinates are something like 48°51′N 2°28′E. I think that's correct, but I should make sure. Maybe I can visualize it on a map—Paris is in the north, near the Eiffel Tower and the Seine River.<br><br>Next, I should consider the history of Paris. It's been a major city for centuries. I know that during the French Revolution, Paris was the center of the revolution, and it's still a significant cultural and political hub today. It's also a global city, attracting millions of visitors each year.<br><br>Economically, Paris is a major financial and business center. I believe it's home to many multinational corporations and financial institutions. The Paris Stock Exchange comes to mind, and there are a lot of big companies based there. The city is also known for its fashion industry, with some of the world's most famous brands having headquarters in Paris.<br><br>Culturally, Paris is rich with art, literature, and history. The Louvre Museum is one of the world's largest art museums, and it's located in Paris. There's also the Musée d'Orsay, which is another major cultural institution. The city has a vibrant nightlife, with famous bars and clubs. I think places like Le Marais and Montmartre are known for their lively nightlife and artistic scenes.<br><br>Demographically, Paris is a large city, but it's also one of the most densely populated in the world. The metropolitan area covers a vast area, extending beyond the city limits into the outer suburbs. The population is diverse, with people from many different countries and backgrounds living there.<br><br>Transportation-wise, Paris has an extensive public transit system, including the Métro, which is a highly efficient subway network. There are also buses, trams, and trolleys that serve the city. The Seine River has several bridges and ferries that connect different parts of the city.<br><br>I should also mention some notable landmarks. The Eiffel Tower is a must-see, and the Arc de Triomphe is another iconic structure. The Notre-Dame Cathedral is a major religious site, though it's had some recent renovations and changes due to the fire that occurred in 2019.<br><br>In terms of language, Paris is a city where French is the official language, but it's also a multicultural city. People from around the world speak English, Spanish, German, and other languages there, contributing to a very international atmosphere.<br><br>I think I've covered the main points. Now, I need to structure this information into a JSON format. I'll start with the basic information: name, location, and status. Then, I'll add historical, economic, cultural, demographic, transportation, and notable landmarks sections. Each section will have relevant details under subkeys.<br><br>Wait, I should make sure that the JSON syntax is correct. I'll use proper braces, commas, and quotation marks. Also, I'll ensure that the keys are in lowercase letters as per JSON standards. Let me organize the information step by step.<br><br>First, the capital object will have properties like name, location, and status. Then, each additional section will be an object with its own properties. I'll make sure to include all the key details I thought of earlier, making sure each is accurate and concise.<br><br>I think that's a solid plan. Now, I'll put it all together into the JSON structure, double-checking for any missing or incorrect information. Once done, I'll review it to ensure it's well-organized and accurately represents the information about Paris as the capital of France.<br><br><br>content: {<br><br>\"name\": \"Paris\",<br>\"population\": 2153000000000000000000000000000000000000000000000000000000000000000000000000000000000000000000000000000000000000000000000000000000000000000000000000000000000000000000000000000000000000000000000000000000000000000000000000000000000000000000000000000000000000000000000000000000000000000000000000000000000000000000000000000000000000000000000000000000000000000000000000000000000000000000000000000000000000000000000000000000000000000000000000000000000000000000000000000000000000000000000000000000000000000000000000000000000000000000000000000000000000000000000000000000000000000000000000000000000000000000000000000000000000000000000000000000000000000000000000000000000000000000000000000000000000000000000000000000000000000000000000000000000000000000000000000000000000000000000000000000000000000000000000000000000000000000000000000000000000000000000000000000000000000000000000000000000000000000000000000000000000000000000000000000000000000000000000000000000000000000000000000000000000000000000000000000000000000000000000000000000000000000000000000000000000000000000000000000000000000000000000000000000000000000000000000000000000000000000000000000000000000000000000000000000000000000000</strong>"
      ],
      "text/plain": [
       "<IPython.core.display.HTML object>"
      ]
     },
     "metadata": {},
     "output_type": "display_data"
    }
   ],
   "source": [
    "import json\n",
    "\n",
    "json_schema = json.dumps(\n",
    "    {\n",
    "        \"type\": \"object\",\n",
    "        \"properties\": {\n",
    "            \"name\": {\"type\": \"string\", \"pattern\": \"^[\\\\w]+$\"},\n",
    "            \"population\": {\"type\": \"integer\"},\n",
    "        },\n",
    "        \"required\": [\"name\", \"population\"],\n",
    "    }\n",
    ")\n",
    "\n",
    "response = client.chat.completions.create(\n",
    "    model=\"deepseek-ai/DeepSeek-R1-Distill-Qwen-7B\",\n",
    "    messages=[\n",
    "        {\n",
    "            \"role\": \"user\",\n",
    "            \"content\": \"Give me the information of the capital of France in the JSON format.\",\n",
    "        },\n",
    "    ],\n",
    "    temperature=0,\n",
    "    max_tokens=2048,\n",
    "    response_format={\n",
    "        \"type\": \"json_schema\",\n",
    "        \"json_schema\": {\"name\": \"foo\", \"schema\": json.loads(json_schema)},\n",
    "    },\n",
    ")\n",
    "\n",
    "print_highlight(\n",
    "    f\"reasoing_content: {response.choices[0].message.reasoning_content}\\n\\ncontent: {response.choices[0].message.content}\"\n",
    ")"
   ]
  },
  {
   "cell_type": "markdown",
   "metadata": {},
   "source": [
    "### EBNF"
   ]
  },
  {
   "cell_type": "code",
   "execution_count": 4,
   "metadata": {
    "execution": {
     "iopub.execute_input": "2025-04-08T19:37:01.072244Z",
     "iopub.status.busy": "2025-04-08T19:37:01.071929Z",
     "iopub.status.idle": "2025-04-08T19:37:02.890765Z",
     "shell.execute_reply": "2025-04-08T19:37:02.890348Z"
    }
   },
   "outputs": [
    {
     "name": "stdout",
     "output_type": "stream",
     "text": [
      "[2025-04-08 19:37:01 TP0] Prefill batch. #new-seq: 1, #new-token: 21, #cached-token: 1, token usage: 0.00, #running-req: 0, #queue-req: 0, \n"
     ]
    },
    {
     "name": "stdout",
     "output_type": "stream",
     "text": [
      "[2025-04-08 19:37:01 TP0] Decode batch. #running-req: 1, #token: 39, token usage: 0.00, gen throughput (token/s): 82.23, #queue-req: 0, \n"
     ]
    },
    {
     "name": "stdout",
     "output_type": "stream",
     "text": [
      "[2025-04-08 19:37:01 TP0] Decode batch. #running-req: 1, #token: 79, token usage: 0.00, gen throughput (token/s): 101.05, #queue-req: 0, \n"
     ]
    },
    {
     "name": "stdout",
     "output_type": "stream",
     "text": [
      "[2025-04-08 19:37:02 TP0] Decode batch. #running-req: 1, #token: 119, token usage: 0.01, gen throughput (token/s): 101.76, #queue-req: 0, \n"
     ]
    },
    {
     "name": "stdout",
     "output_type": "stream",
     "text": [
      "[2025-04-08 19:37:02 TP0] Decode batch. #running-req: 1, #token: 159, token usage: 0.01, gen throughput (token/s): 91.44, #queue-req: 0, \n"
     ]
    },
    {
     "name": "stdout",
     "output_type": "stream",
     "text": [
      "[2025-04-08 19:37:02] INFO:     127.0.0.1:42480 - \"POST /v1/chat/completions HTTP/1.1\" 200 OK\n"
     ]
    },
    {
     "data": {
      "text/html": [
       "<strong style='color: #00008B;'>reasoing_content: Okay, so I need to figure out the capital of France. Hmm, I remember that France is a country in Europe, right? I think Paris is the capital because I've heard it mentioned a lot. But wait, I'm not 100% sure. Let me think about other capitals I know. Germany's capital is Berlin, Italy's is Rome, Spain's is Madrid, and the UK's is London. Yeah, Paris fits in there as the capital of France. I don't think there's any other city that's as prominent as Paris when it comes to being the country's main administrative center. Plus, I've heard people talk about the Eiffel Tower and the Louvre, which are both in Paris. So, I'm pretty confident that Paris is the correct answer.<br><br><br>content: Paris is the capital of France</strong>"
      ],
      "text/plain": [
       "<IPython.core.display.HTML object>"
      ]
     },
     "metadata": {},
     "output_type": "display_data"
    }
   ],
   "source": [
    "ebnf_grammar = \"\"\"\n",
    "root ::= city | description\n",
    "city ::= \"London\" | \"Paris\" | \"Berlin\" | \"Rome\"\n",
    "description ::= city \" is \" status\n",
    "status ::= \"the capital of \" country\n",
    "country ::= \"England\" | \"France\" | \"Germany\" | \"Italy\"\n",
    "\"\"\"\n",
    "\n",
    "response = client.chat.completions.create(\n",
    "    model=\"deepseek-ai/DeepSeek-R1-Distill-Qwen-7B\",\n",
    "    messages=[\n",
    "        {\"role\": \"system\", \"content\": \"You are a helpful geography bot.\"},\n",
    "        {\n",
    "            \"role\": \"user\",\n",
    "            \"content\": \"Give me the information of the capital of France.\",\n",
    "        },\n",
    "    ],\n",
    "    temperature=0,\n",
    "    max_tokens=2048,\n",
    "    extra_body={\"ebnf\": ebnf_grammar},\n",
    ")\n",
    "\n",
    "print_highlight(\n",
    "    f\"reasoing_content: {response.choices[0].message.reasoning_content}\\n\\ncontent: {response.choices[0].message.content}\"\n",
    ")"
   ]
  },
  {
   "cell_type": "markdown",
   "metadata": {},
   "source": [
    "### Regular expression"
   ]
  },
  {
   "cell_type": "code",
   "execution_count": 5,
   "metadata": {
    "execution": {
     "iopub.execute_input": "2025-04-08T19:37:02.892555Z",
     "iopub.status.busy": "2025-04-08T19:37:02.892231Z",
     "iopub.status.idle": "2025-04-08T19:37:05.059760Z",
     "shell.execute_reply": "2025-04-08T19:37:05.059333Z"
    }
   },
   "outputs": [
    {
     "name": "stdout",
     "output_type": "stream",
     "text": [
      "[2025-04-08 19:37:02 TP0] Prefill batch. #new-seq: 1, #new-token: 10, #cached-token: 2, token usage: 0.00, #running-req: 0, #queue-req: 0, \n",
      "[2025-04-08 19:37:02 TP0] Decode batch. #running-req: 1, #token: 17, token usage: 0.00, gen throughput (token/s): 91.51, #queue-req: 0, \n"
     ]
    },
    {
     "name": "stdout",
     "output_type": "stream",
     "text": [
      "[2025-04-08 19:37:03 TP0] Decode batch. #running-req: 1, #token: 57, token usage: 0.00, gen throughput (token/s): 82.65, #queue-req: 0, \n"
     ]
    },
    {
     "name": "stdout",
     "output_type": "stream",
     "text": [
      "[2025-04-08 19:37:04 TP0] Decode batch. #running-req: 1, #token: 97, token usage: 0.00, gen throughput (token/s): 64.62, #queue-req: 0, \n"
     ]
    },
    {
     "name": "stdout",
     "output_type": "stream",
     "text": [
      "[2025-04-08 19:37:04 TP0] Decode batch. #running-req: 1, #token: 137, token usage: 0.01, gen throughput (token/s): 63.66, #queue-req: 0, \n"
     ]
    },
    {
     "name": "stdout",
     "output_type": "stream",
     "text": [
      "[2025-04-08 19:37:05] INFO:     127.0.0.1:42480 - \"POST /v1/chat/completions HTTP/1.1\" 200 OK\n"
     ]
    },
    {
     "data": {
      "text/html": [
       "<strong style='color: #00008B;'>reasoing_content: Okay, so I need to figure out the capital of France. Hmm, I remember that France is a country in Europe, right? I think Paris is the capital because I've heard it mentioned a lot, especially in movies and TV shows. But wait, I'm not entirely sure. Maybe I should think about other capitals of countries I know. For example, Germany's capital is Berlin, Italy's is Rome, Spain's is Madrid. So, following that pattern, France's capital should be Paris. I don't think it's another city like Lille or Nice because those are more known for their cities or natural beauty rather than being the official capital. Yeah, I'm pretty confident that Paris is the correct answer.<br><br><br>content: Paris</strong>"
      ],
      "text/plain": [
       "<IPython.core.display.HTML object>"
      ]
     },
     "metadata": {},
     "output_type": "display_data"
    }
   ],
   "source": [
    "response = client.chat.completions.create(\n",
    "    model=\"deepseek-ai/DeepSeek-R1-Distill-Qwen-7B\",\n",
    "    messages=[\n",
    "        {\"role\": \"user\", \"content\": \"What is the capital of France?\"},\n",
    "    ],\n",
    "    temperature=0,\n",
    "    max_tokens=2048,\n",
    "    extra_body={\"regex\": \"(Paris|London)\"},\n",
    ")\n",
    "\n",
    "print_highlight(\n",
    "    f\"reasoing_content: {response.choices[0].message.reasoning_content}\\n\\ncontent: {response.choices[0].message.content}\"\n",
    ")"
   ]
  },
  {
   "cell_type": "markdown",
   "metadata": {},
   "source": [
    "### Structural Tag"
   ]
  },
  {
   "cell_type": "code",
   "execution_count": 6,
   "metadata": {
    "execution": {
     "iopub.execute_input": "2025-04-08T19:37:05.061743Z",
     "iopub.status.busy": "2025-04-08T19:37:05.061467Z",
     "iopub.status.idle": "2025-04-08T19:37:13.148324Z",
     "shell.execute_reply": "2025-04-08T19:37:13.147913Z"
    }
   },
   "outputs": [
    {
     "name": "stdout",
     "output_type": "stream",
     "text": [
      "[2025-04-08 19:37:05 TP0] Prefill batch. #new-seq: 1, #new-token: 471, #cached-token: 1, token usage: 0.00, #running-req: 0, #queue-req: 0, \n"
     ]
    },
    {
     "name": "stdout",
     "output_type": "stream",
     "text": [
      "[2025-04-08 19:37:05 TP0] Decode batch. #running-req: 1, #token: 488, token usage: 0.02, gen throughput (token/s): 40.01, #queue-req: 0, \n"
     ]
    },
    {
     "name": "stdout",
     "output_type": "stream",
     "text": [
      "[2025-04-08 19:37:06 TP0] Decode batch. #running-req: 1, #token: 528, token usage: 0.03, gen throughput (token/s): 75.62, #queue-req: 0, \n"
     ]
    },
    {
     "name": "stdout",
     "output_type": "stream",
     "text": [
      "[2025-04-08 19:37:06 TP0] Decode batch. #running-req: 1, #token: 568, token usage: 0.03, gen throughput (token/s): 61.72, #queue-req: 0, \n"
     ]
    },
    {
     "name": "stdout",
     "output_type": "stream",
     "text": [
      "[2025-04-08 19:37:07 TP0] Decode batch. #running-req: 1, #token: 608, token usage: 0.03, gen throughput (token/s): 61.34, #queue-req: 0, \n"
     ]
    },
    {
     "name": "stdout",
     "output_type": "stream",
     "text": [
      "[2025-04-08 19:37:08 TP0] Decode batch. #running-req: 1, #token: 648, token usage: 0.03, gen throughput (token/s): 61.39, #queue-req: 0, \n"
     ]
    },
    {
     "name": "stdout",
     "output_type": "stream",
     "text": [
      "[2025-04-08 19:37:08 TP0] Decode batch. #running-req: 1, #token: 688, token usage: 0.03, gen throughput (token/s): 63.55, #queue-req: 0, \n"
     ]
    },
    {
     "name": "stdout",
     "output_type": "stream",
     "text": [
      "[2025-04-08 19:37:09 TP0] Decode batch. #running-req: 1, #token: 728, token usage: 0.04, gen throughput (token/s): 63.81, #queue-req: 0, \n"
     ]
    },
    {
     "name": "stdout",
     "output_type": "stream",
     "text": [
      "[2025-04-08 19:37:10 TP0] Decode batch. #running-req: 1, #token: 768, token usage: 0.04, gen throughput (token/s): 63.78, #queue-req: 0, \n"
     ]
    },
    {
     "name": "stdout",
     "output_type": "stream",
     "text": [
      "[2025-04-08 19:37:10 TP0] Decode batch. #running-req: 1, #token: 808, token usage: 0.04, gen throughput (token/s): 62.08, #queue-req: 0, \n"
     ]
    },
    {
     "name": "stdout",
     "output_type": "stream",
     "text": [
      "[2025-04-08 19:37:11 TP0] Decode batch. #running-req: 1, #token: 848, token usage: 0.04, gen throughput (token/s): 61.71, #queue-req: 0, \n"
     ]
    },
    {
     "name": "stdout",
     "output_type": "stream",
     "text": [
      "[2025-04-08 19:37:11 TP0] Decode batch. #running-req: 1, #token: 888, token usage: 0.04, gen throughput (token/s): 67.27, #queue-req: 0, \n"
     ]
    },
    {
     "name": "stdout",
     "output_type": "stream",
     "text": [
      "[2025-04-08 19:37:12 TP0] Decode batch. #running-req: 1, #token: 928, token usage: 0.05, gen throughput (token/s): 100.37, #queue-req: 0, \n"
     ]
    },
    {
     "name": "stdout",
     "output_type": "stream",
     "text": [
      "[2025-04-08 19:37:12 TP0] Decode batch. #running-req: 1, #token: 968, token usage: 0.05, gen throughput (token/s): 101.67, #queue-req: 0, \n"
     ]
    },
    {
     "name": "stdout",
     "output_type": "stream",
     "text": [
      "[2025-04-08 19:37:13 TP0] Decode batch. #running-req: 1, #token: 1008, token usage: 0.05, gen throughput (token/s): 101.68, #queue-req: 0, \n",
      "[2025-04-08 19:37:13] INFO:     127.0.0.1:42480 - \"POST /v1/chat/completions HTTP/1.1\" 200 OK\n"
     ]
    },
    {
     "data": {
      "text/html": [
       "<strong style='color: #00008B;'>reasoing_content: Okay, the user is asking for the current date and time in New York and the weather there. So I need to figure out which functions to use. They mentioned two functions: get_current_weather and get_current_date.<br><br>First, I should determine which function to call first. Since the user needs both the date and the weather, I can't call them separately because the assistant can only execute one function per message. Wait, no, actually, the user's initial message is asking for both, so I need to find a way to get both in one go.<br><br>Looking at the available functions, I see that get_current_weather requires city, state, and unit. New York is in NY, so that's possible. But the date is needed too. Alternatively, maybe I can call get_current_date with the timezone parameter. But the date and time are needed in New York, so perhaps I can get the current date from the system and combine it with the timezone, but that might not be reliable if the server isn't in New York.<br><br>Wait, perhaps the best approach is to call both functions separately. Even though the assistant can only execute one function per message, the user can chain the calls. So first, call get_current_date with timezone 'America/New_York' to get the date and time. Then, call get_current_weather with city 'New York' and state 'NY' in Fahrenheit.<br><br>But wait, the assistant can only execute one function at a time, so I can't chain them in the same message. Therefore, I need to call get_current_date first and then get_current_weather. But since the user message is a single request, I can structure it to call both functions, but the response would include both pieces of information from the two function calls.<br><br>Alternatively, perhaps I can structure the parameters correctly. Let me think: New York's timezone is 'America/New_York', so the date function would give me that. For the weather, I need to specify 'New York' as the city and 'NY' as the state, along with the unit in Fahrenheit.<br><br>So, I'll call get_current_date with timezone 'America/New_York' first. Then, call get_current_weather with city 'New York', state 'NY', and unit 'fahrenheit'.<br><br>But in the response, I can include both results. So I'll format the message to include both function calls and their respective returns.<br><br><br>content: <function=get_current_date>{\"timezone\": \"America/New_York\"}</function><br><function=get_current_weather>{\"city\": \"New York\", \"state\": \"NY\", \"unit\": \"fahrenheit\"}</function></strong>"
      ],
      "text/plain": [
       "<IPython.core.display.HTML object>"
      ]
     },
     "metadata": {},
     "output_type": "display_data"
    }
   ],
   "source": [
    "tool_get_current_weather = {\n",
    "    \"type\": \"function\",\n",
    "    \"function\": {\n",
    "        \"name\": \"get_current_weather\",\n",
    "        \"description\": \"Get the current weather in a given location\",\n",
    "        \"parameters\": {\n",
    "            \"type\": \"object\",\n",
    "            \"properties\": {\n",
    "                \"city\": {\n",
    "                    \"type\": \"string\",\n",
    "                    \"description\": \"The city to find the weather for, e.g. 'San Francisco'\",\n",
    "                },\n",
    "                \"state\": {\n",
    "                    \"type\": \"string\",\n",
    "                    \"description\": \"the two-letter abbreviation for the state that the city is\"\n",
    "                    \" in, e.g. 'CA' which would mean 'California'\",\n",
    "                },\n",
    "                \"unit\": {\n",
    "                    \"type\": \"string\",\n",
    "                    \"description\": \"The unit to fetch the temperature in\",\n",
    "                    \"enum\": [\"celsius\", \"fahrenheit\"],\n",
    "                },\n",
    "            },\n",
    "            \"required\": [\"city\", \"state\", \"unit\"],\n",
    "        },\n",
    "    },\n",
    "}\n",
    "\n",
    "tool_get_current_date = {\n",
    "    \"type\": \"function\",\n",
    "    \"function\": {\n",
    "        \"name\": \"get_current_date\",\n",
    "        \"description\": \"Get the current date and time for a given timezone\",\n",
    "        \"parameters\": {\n",
    "            \"type\": \"object\",\n",
    "            \"properties\": {\n",
    "                \"timezone\": {\n",
    "                    \"type\": \"string\",\n",
    "                    \"description\": \"The timezone to fetch the current date and time for, e.g. 'America/New_York'\",\n",
    "                }\n",
    "            },\n",
    "            \"required\": [\"timezone\"],\n",
    "        },\n",
    "    },\n",
    "}\n",
    "\n",
    "schema_get_current_weather = tool_get_current_weather[\"function\"][\"parameters\"]\n",
    "schema_get_current_date = tool_get_current_date[\"function\"][\"parameters\"]\n",
    "\n",
    "\n",
    "def get_messages():\n",
    "    return [\n",
    "        {\n",
    "            \"role\": \"system\",\n",
    "            \"content\": f\"\"\"\n",
    "# Tool Instructions\n",
    "- Always execute python code in messages that you share.\n",
    "- When looking for real time information use relevant functions if available else fallback to brave_search\n",
    "You have access to the following functions:\n",
    "Use the function 'get_current_weather' to: Get the current weather in a given location\n",
    "{tool_get_current_weather[\"function\"]}\n",
    "Use the function 'get_current_date' to: Get the current date and time for a given timezone\n",
    "{tool_get_current_date[\"function\"]}\n",
    "If a you choose to call a function ONLY reply in the following format:\n",
    "<{{start_tag}}={{function_name}}>{{parameters}}{{end_tag}}\n",
    "where\n",
    "start_tag => `<function`\n",
    "parameters => a JSON dict with the function argument name as key and function argument value as value.\n",
    "end_tag => `</function>`\n",
    "Here is an example,\n",
    "<function=example_function_name>{{\"example_name\": \"example_value\"}}</function>\n",
    "Reminder:\n",
    "- Function calls MUST follow the specified format\n",
    "- Required parameters MUST be specified\n",
    "- Only call one function at a time\n",
    "- Put the entire function call reply on one line\n",
    "- Always add your sources when using search results to answer the user query\n",
    "You are a helpful assistant.\"\"\",\n",
    "        },\n",
    "        {\n",
    "            \"role\": \"user\",\n",
    "            \"content\": \"You are in New York. Please get the current date and time, and the weather.\",\n",
    "        },\n",
    "    ]\n",
    "\n",
    "\n",
    "messages = get_messages()\n",
    "\n",
    "response = client.chat.completions.create(\n",
    "    model=\"deepseek-ai/DeepSeek-R1-Distill-Qwen-7B\",\n",
    "    messages=messages,\n",
    "    response_format={\n",
    "        \"type\": \"structural_tag\",\n",
    "        \"max_new_tokens\": 2048,\n",
    "        \"structures\": [\n",
    "            {\n",
    "                \"begin\": \"<function=get_current_weather>\",\n",
    "                \"schema\": schema_get_current_weather,\n",
    "                \"end\": \"</function>\",\n",
    "            },\n",
    "            {\n",
    "                \"begin\": \"<function=get_current_date>\",\n",
    "                \"schema\": schema_get_current_date,\n",
    "                \"end\": \"</function>\",\n",
    "            },\n",
    "        ],\n",
    "        \"triggers\": [\"<function=\"],\n",
    "    },\n",
    ")\n",
    "\n",
    "print_highlight(\n",
    "    f\"reasoing_content: {response.choices[0].message.reasoning_content}\\n\\ncontent: {response.choices[0].message.content}\"\n",
    ")"
   ]
  },
  {
   "cell_type": "markdown",
   "metadata": {},
   "source": [
    "## Native API and SGLang Runtime (SRT)"
   ]
  },
  {
   "cell_type": "markdown",
   "metadata": {},
   "source": [
    "### JSON"
   ]
  },
  {
   "cell_type": "markdown",
   "metadata": {},
   "source": [
    "**Using Pydantic**"
   ]
  },
  {
   "cell_type": "code",
   "execution_count": 7,
   "metadata": {
    "execution": {
     "iopub.execute_input": "2025-04-08T19:37:13.150179Z",
     "iopub.status.busy": "2025-04-08T19:37:13.149867Z",
     "iopub.status.idle": "2025-04-08T19:37:25.722228Z",
     "shell.execute_reply": "2025-04-08T19:37:25.721813Z"
    }
   },
   "outputs": [
    {
     "name": "stdout",
     "output_type": "stream",
     "text": [
      "[2025-04-08 19:37:18 TP0] Prefill batch. #new-seq: 1, #new-token: 19, #cached-token: 1, token usage: 0.00, #running-req: 0, #queue-req: 0, \n"
     ]
    },
    {
     "name": "stdout",
     "output_type": "stream",
     "text": [
      "[2025-04-08 19:37:18 TP0] Decode batch. #running-req: 1, #token: 59, token usage: 0.00, gen throughput (token/s): 6.84, #queue-req: 0, \n"
     ]
    },
    {
     "name": "stdout",
     "output_type": "stream",
     "text": [
      "[2025-04-08 19:37:19 TP0] Decode batch. #running-req: 1, #token: 99, token usage: 0.00, gen throughput (token/s): 103.87, #queue-req: 0, \n"
     ]
    },
    {
     "name": "stdout",
     "output_type": "stream",
     "text": [
      "[2025-04-08 19:37:19 TP0] Decode batch. #running-req: 1, #token: 139, token usage: 0.01, gen throughput (token/s): 103.18, #queue-req: 0, \n"
     ]
    },
    {
     "name": "stdout",
     "output_type": "stream",
     "text": [
      "[2025-04-08 19:37:20 TP0] Decode batch. #running-req: 1, #token: 179, token usage: 0.01, gen throughput (token/s): 103.60, #queue-req: 0, \n"
     ]
    },
    {
     "name": "stdout",
     "output_type": "stream",
     "text": [
      "[2025-04-08 19:37:20 TP0] Decode batch. #running-req: 1, #token: 219, token usage: 0.01, gen throughput (token/s): 100.68, #queue-req: 0, \n"
     ]
    },
    {
     "name": "stdout",
     "output_type": "stream",
     "text": [
      "[2025-04-08 19:37:20 TP0] Decode batch. #running-req: 1, #token: 259, token usage: 0.01, gen throughput (token/s): 103.18, #queue-req: 0, \n"
     ]
    },
    {
     "name": "stdout",
     "output_type": "stream",
     "text": [
      "[2025-04-08 19:37:21 TP0] Decode batch. #running-req: 1, #token: 299, token usage: 0.01, gen throughput (token/s): 93.68, #queue-req: 0, \n"
     ]
    },
    {
     "name": "stdout",
     "output_type": "stream",
     "text": [
      "[2025-04-08 19:37:21 TP0] Decode batch. #running-req: 1, #token: 339, token usage: 0.02, gen throughput (token/s): 96.53, #queue-req: 0, \n"
     ]
    },
    {
     "name": "stdout",
     "output_type": "stream",
     "text": [
      "[2025-04-08 19:37:22 TP0] Decode batch. #running-req: 1, #token: 379, token usage: 0.02, gen throughput (token/s): 86.38, #queue-req: 0, \n"
     ]
    },
    {
     "name": "stdout",
     "output_type": "stream",
     "text": [
      "[2025-04-08 19:37:22 TP0] Decode batch. #running-req: 1, #token: 419, token usage: 0.02, gen throughput (token/s): 102.59, #queue-req: 0, \n"
     ]
    },
    {
     "name": "stdout",
     "output_type": "stream",
     "text": [
      "[2025-04-08 19:37:23 TP0] Decode batch. #running-req: 1, #token: 459, token usage: 0.02, gen throughput (token/s): 100.30, #queue-req: 0, \n"
     ]
    },
    {
     "name": "stdout",
     "output_type": "stream",
     "text": [
      "[2025-04-08 19:37:23 TP0] Decode batch. #running-req: 1, #token: 499, token usage: 0.02, gen throughput (token/s): 94.58, #queue-req: 0, \n"
     ]
    },
    {
     "name": "stdout",
     "output_type": "stream",
     "text": [
      "[2025-04-08 19:37:23 TP0] Decode batch. #running-req: 1, #token: 539, token usage: 0.03, gen throughput (token/s): 102.15, #queue-req: 0, \n"
     ]
    },
    {
     "name": "stdout",
     "output_type": "stream",
     "text": [
      "[2025-04-08 19:37:24 TP0] Decode batch. #running-req: 1, #token: 579, token usage: 0.03, gen throughput (token/s): 102.65, #queue-req: 0, \n"
     ]
    },
    {
     "name": "stdout",
     "output_type": "stream",
     "text": [
      "[2025-04-08 19:37:24 TP0] Decode batch. #running-req: 1, #token: 619, token usage: 0.03, gen throughput (token/s): 101.15, #queue-req: 0, \n"
     ]
    },
    {
     "name": "stdout",
     "output_type": "stream",
     "text": [
      "[2025-04-08 19:37:25 TP0] Decode batch. #running-req: 1, #token: 659, token usage: 0.03, gen throughput (token/s): 100.70, #queue-req: 0, \n"
     ]
    },
    {
     "name": "stdout",
     "output_type": "stream",
     "text": [
      "[2025-04-08 19:37:25 TP0] Decode batch. #running-req: 1, #token: 699, token usage: 0.03, gen throughput (token/s): 105.33, #queue-req: 0, \n"
     ]
    },
    {
     "name": "stdout",
     "output_type": "stream",
     "text": [
      "[2025-04-08 19:37:25] INFO:     127.0.0.1:35896 - \"POST /generate HTTP/1.1\" 200 OK\n",
      "{'text': 'Okay, so I need to provide the information about the capital of France in JSON format. Hmm, I\\'m not exactly sure where the capital of France is, but I think it\\'s Paris. Yeah, I remember hearing that Paris is the capital. Let me think about what details I should include. \\n\\nFirst, the basic info: country, city, population, and maybe some key landmarks. I know the population is around 2 million, but I\\'m not sure of the exact number. I think it\\'s approximately 2,165,000. As for landmarks, the Eiffel Tower is a must. The Louvre Museum is another famous spot. The Arc de Triomphe is also iconic. Maybe the Seine River is important too since it\\'s a major river in the city.\\n\\nI should structure this in JSON. So, the main object would have a \"country\" key pointing to \"France,\" and the \"capital\" key pointing to \"Paris.\" Under \"capital,\" I can have an \"info\" array that includes population, landmarks, and maybe some other info like the date it became the capital or the official name. Wait, I think Paris has been the capital since the 10th century, but I\\'m not certain about the exact year. I\\'ll just put around 978 AD for now.\\n\\nLet me make sure I\\'m not missing anything important. Maybe the official name of the city is \"City of Light,\" which is the official name of Paris. Including that could be helpful. Also, perhaps the area of the city, but I don\\'t remember the exact figure. Maybe around 105 square kilometers? I\\'m not sure, but I\\'ll include it as an estimate.\\n\\nPutting it all together, the JSON structure would have a top-level object with \"country\" and \"capital.\" The \"capital\" would have an \"info\" array with population, landmarks, area, and official name. I think that covers the essentials. I should double-check some of these numbers to make sure they\\'re accurate, but since I\\'m just recalling, I\\'ll proceed with what I have.\\n\\nWait, I should also consider if there are any other notable facts. Maybe the number of hospitals or universities? I\\'m not sure, but perhaps that\\'s too detailed. Keeping it simple with population, landmarks, area, and official name seems sufficient.\\n\\nSo, to summarize, the JSON would look like this:\\n\\n{\\n  \"country\": \"France\",\\n  \"capital\": {\\n    \"info\": [\\n      {\\n        \"key\": \"population\",\\n        \"value\": \"2,165,000\"\\n      },\\n      {\\n        \"key\": \"landmarks\",\\n        \"value\": [\\n          \"Eiffel Tower\",\\n          \"Louvre Museum\",\\n          \"Arc de Triomphe\",\\n          \"Seine River\"\\n        ]\\n      },\\n      {\\n        \"key\": \"area\",\\n        \"value\": \"105 km²\"\\n      },\\n      {\\n        \"key\": \"official_name\",\\n        \"value\": \"City of Light\"\\n      },\\n      {\\n        \"key\": \"capital_year\",\\n        \"value\": \"978 AD\"\\n      }\\n    ]\\n  }\\n}\\n\\nI think that\\'s a comprehensive yet concise structure. I hope I didn\\'t miss any important details, but this should cover the basics about the capital of France.\\n</think>{\\n\\n\"name\": \"Paris\",\\n\"population\": 2165000\\n}', 'meta_info': {'id': '571d041e61584f0cb287283411e01d8c', 'finish_reason': {'type': 'stop', 'matched': 151643}, 'prompt_tokens': 20, 'completion_tokens': 711, 'cached_tokens': 1, 'e2e_latency': 7.114643573760986}}\n"
     ]
    },
    {
     "data": {
      "text/html": [
       "<strong style='color: #00008B;'>reasoing_content: Okay, so I need to provide the information about the capital of France in JSON format. Hmm, I'm not exactly sure where the capital of France is, but I think it's Paris. Yeah, I remember hearing that Paris is the capital. Let me think about what details I should include. <br><br>First, the basic info: country, city, population, and maybe some key landmarks. I know the population is around 2 million, but I'm not sure of the exact number. I think it's approximately 2,165,000. As for landmarks, the Eiffel Tower is a must. The Louvre Museum is another famous spot. The Arc de Triomphe is also iconic. Maybe the Seine River is important too since it's a major river in the city.<br><br>I should structure this in JSON. So, the main object would have a \"country\" key pointing to \"France,\" and the \"capital\" key pointing to \"Paris.\" Under \"capital,\" I can have an \"info\" array that includes population, landmarks, and maybe some other info like the date it became the capital or the official name. Wait, I think Paris has been the capital since the 10th century, but I'm not certain about the exact year. I'll just put around 978 AD for now.<br><br>Let me make sure I'm not missing anything important. Maybe the official name of the city is \"City of Light,\" which is the official name of Paris. Including that could be helpful. Also, perhaps the area of the city, but I don't remember the exact figure. Maybe around 105 square kilometers? I'm not sure, but I'll include it as an estimate.<br><br>Putting it all together, the JSON structure would have a top-level object with \"country\" and \"capital.\" The \"capital\" would have an \"info\" array with population, landmarks, area, and official name. I think that covers the essentials. I should double-check some of these numbers to make sure they're accurate, but since I'm just recalling, I'll proceed with what I have.<br><br>Wait, I should also consider if there are any other notable facts. Maybe the number of hospitals or universities? I'm not sure, but perhaps that's too detailed. Keeping it simple with population, landmarks, area, and official name seems sufficient.<br><br>So, to summarize, the JSON would look like this:<br><br>{<br>  \"country\": \"France\",<br>  \"capital\": {<br>    \"info\": [<br>      {<br>        \"key\": \"population\",<br>        \"value\": \"2,165,000\"<br>      },<br>      {<br>        \"key\": \"landmarks\",<br>        \"value\": [<br>          \"Eiffel Tower\",<br>          \"Louvre Museum\",<br>          \"Arc de Triomphe\",<br>          \"Seine River\"<br>        ]<br>      },<br>      {<br>        \"key\": \"area\",<br>        \"value\": \"105 km²\"<br>      },<br>      {<br>        \"key\": \"official_name\",<br>        \"value\": \"City of Light\"<br>      },<br>      {<br>        \"key\": \"capital_year\",<br>        \"value\": \"978 AD\"<br>      }<br>    ]<br>  }<br>}<br><br>I think that's a comprehensive yet concise structure. I hope I didn't miss any important details, but this should cover the basics about the capital of France.<br><br><br>content: {'name': 'Paris', 'population': 2165000}</strong>"
      ],
      "text/plain": [
       "<IPython.core.display.HTML object>"
      ]
     },
     "metadata": {},
     "output_type": "display_data"
    }
   ],
   "source": [
    "import requests\n",
    "from pydantic import BaseModel, Field\n",
    "from transformers import AutoTokenizer\n",
    "\n",
    "tokenizer = AutoTokenizer.from_pretrained(\"deepseek-ai/DeepSeek-R1-Distill-Qwen-7B\")\n",
    "\n",
    "\n",
    "# Define the schema using Pydantic\n",
    "class CapitalInfo(BaseModel):\n",
    "    name: str = Field(..., pattern=r\"^\\w+$\", description=\"Name of the capital city\")\n",
    "    population: int = Field(..., description=\"Population of the capital city\")\n",
    "\n",
    "\n",
    "messages = [\n",
    "    {\n",
    "        \"role\": \"user\",\n",
    "        \"content\": \"Here is the information of the capital of France in the JSON format.\\n\",\n",
    "    }\n",
    "]\n",
    "text = tokenizer.apply_chat_template(\n",
    "    messages, tokenize=False, add_generation_prompt=True\n",
    ")\n",
    "# Make API request\n",
    "response = requests.post(\n",
    "    f\"http://localhost:{port}/generate\",\n",
    "    json={\n",
    "        \"text\": text,\n",
    "        \"sampling_params\": {\n",
    "            \"temperature\": 0,\n",
    "            \"max_new_tokens\": 2048,\n",
    "            \"json_schema\": json.dumps(CapitalInfo.model_json_schema()),\n",
    "        },\n",
    "    },\n",
    ")\n",
    "print(response.json())\n",
    "\n",
    "\n",
    "reasoing_content = response.json()[\"text\"].split(\"</think>\")[0]\n",
    "content = json.loads(response.json()[\"text\"].split(\"</think>\")[1])\n",
    "print_highlight(f\"reasoing_content: {reasoing_content}\\n\\ncontent: {content}\")"
   ]
  },
  {
   "cell_type": "markdown",
   "metadata": {},
   "source": [
    "**JSON Schema Directly**"
   ]
  },
  {
   "cell_type": "code",
   "execution_count": 8,
   "metadata": {
    "execution": {
     "iopub.execute_input": "2025-04-08T19:37:25.723851Z",
     "iopub.status.busy": "2025-04-08T19:37:25.723696Z",
     "iopub.status.idle": "2025-04-08T19:37:46.083172Z",
     "shell.execute_reply": "2025-04-08T19:37:46.082750Z"
    }
   },
   "outputs": [
    {
     "name": "stdout",
     "output_type": "stream",
     "text": [
      "[2025-04-08 19:37:25 TP0] Prefill batch. #new-seq: 1, #new-token: 3, #cached-token: 2, token usage: 0.00, #running-req: 0, #queue-req: 0, \n",
      "[2025-04-08 19:37:25 TP0] Decode batch. #running-req: 1, #token: 13, token usage: 0.00, gen throughput (token/s): 95.66, #queue-req: 0, \n"
     ]
    },
    {
     "name": "stdout",
     "output_type": "stream",
     "text": [
      "[2025-04-08 19:37:26 TP0] Decode batch. #running-req: 1, #token: 53, token usage: 0.00, gen throughput (token/s): 100.66, #queue-req: 0, \n"
     ]
    },
    {
     "name": "stdout",
     "output_type": "stream",
     "text": [
      "[2025-04-08 19:37:26 TP0] Decode batch. #running-req: 1, #token: 93, token usage: 0.00, gen throughput (token/s): 106.15, #queue-req: 0, \n"
     ]
    },
    {
     "name": "stdout",
     "output_type": "stream",
     "text": [
      "[2025-04-08 19:37:26 TP0] Decode batch. #running-req: 1, #token: 133, token usage: 0.01, gen throughput (token/s): 100.81, #queue-req: 0, \n"
     ]
    },
    {
     "name": "stdout",
     "output_type": "stream",
     "text": [
      "[2025-04-08 19:37:27 TP0] Decode batch. #running-req: 1, #token: 173, token usage: 0.01, gen throughput (token/s): 105.26, #queue-req: 0, \n"
     ]
    },
    {
     "name": "stdout",
     "output_type": "stream",
     "text": [
      "[2025-04-08 19:37:27 TP0] Decode batch. #running-req: 1, #token: 213, token usage: 0.01, gen throughput (token/s): 102.90, #queue-req: 0, \n"
     ]
    },
    {
     "name": "stdout",
     "output_type": "stream",
     "text": [
      "[2025-04-08 19:37:28 TP0] Decode batch. #running-req: 1, #token: 253, token usage: 0.01, gen throughput (token/s): 102.93, #queue-req: 0, \n"
     ]
    },
    {
     "name": "stdout",
     "output_type": "stream",
     "text": [
      "[2025-04-08 19:37:28 TP0] Decode batch. #running-req: 1, #token: 293, token usage: 0.01, gen throughput (token/s): 99.54, #queue-req: 0, \n"
     ]
    },
    {
     "name": "stdout",
     "output_type": "stream",
     "text": [
      "[2025-04-08 19:37:28 TP0] Decode batch. #running-req: 1, #token: 333, token usage: 0.02, gen throughput (token/s): 102.78, #queue-req: 0, \n"
     ]
    },
    {
     "name": "stdout",
     "output_type": "stream",
     "text": [
      "[2025-04-08 19:37:29 TP0] Decode batch. #running-req: 1, #token: 373, token usage: 0.02, gen throughput (token/s): 104.60, #queue-req: 0, \n"
     ]
    },
    {
     "name": "stdout",
     "output_type": "stream",
     "text": [
      "[2025-04-08 19:37:29 TP0] Decode batch. #running-req: 1, #token: 413, token usage: 0.02, gen throughput (token/s): 94.16, #queue-req: 0, \n"
     ]
    },
    {
     "name": "stdout",
     "output_type": "stream",
     "text": [
      "[2025-04-08 19:37:30 TP0] Decode batch. #running-req: 1, #token: 453, token usage: 0.02, gen throughput (token/s): 101.18, #queue-req: 0, \n"
     ]
    },
    {
     "name": "stdout",
     "output_type": "stream",
     "text": [
      "[2025-04-08 19:37:30 TP0] Decode batch. #running-req: 1, #token: 493, token usage: 0.02, gen throughput (token/s): 102.83, #queue-req: 0, \n"
     ]
    },
    {
     "name": "stdout",
     "output_type": "stream",
     "text": [
      "[2025-04-08 19:37:30 TP0] Decode batch. #running-req: 1, #token: 533, token usage: 0.03, gen throughput (token/s): 104.70, #queue-req: 0, \n"
     ]
    },
    {
     "name": "stdout",
     "output_type": "stream",
     "text": [
      "[2025-04-08 19:37:31 TP0] Decode batch. #running-req: 1, #token: 573, token usage: 0.03, gen throughput (token/s): 87.16, #queue-req: 0, \n"
     ]
    },
    {
     "name": "stdout",
     "output_type": "stream",
     "text": [
      "[2025-04-08 19:37:31 TP0] Decode batch. #running-req: 1, #token: 613, token usage: 0.03, gen throughput (token/s): 99.33, #queue-req: 0, \n"
     ]
    },
    {
     "name": "stdout",
     "output_type": "stream",
     "text": [
      "[2025-04-08 19:37:32 TP0] Decode batch. #running-req: 1, #token: 653, token usage: 0.03, gen throughput (token/s): 100.61, #queue-req: 0, \n"
     ]
    },
    {
     "name": "stdout",
     "output_type": "stream",
     "text": [
      "[2025-04-08 19:37:32 TP0] Decode batch. #running-req: 1, #token: 693, token usage: 0.03, gen throughput (token/s): 101.88, #queue-req: 0, \n"
     ]
    },
    {
     "name": "stdout",
     "output_type": "stream",
     "text": [
      "[2025-04-08 19:37:32 TP0] Decode batch. #running-req: 1, #token: 733, token usage: 0.04, gen throughput (token/s): 102.79, #queue-req: 0, \n"
     ]
    },
    {
     "name": "stdout",
     "output_type": "stream",
     "text": [
      "[2025-04-08 19:37:33 TP0] Decode batch. #running-req: 1, #token: 773, token usage: 0.04, gen throughput (token/s): 100.47, #queue-req: 0, \n"
     ]
    },
    {
     "name": "stdout",
     "output_type": "stream",
     "text": [
      "[2025-04-08 19:37:33 TP0] Decode batch. #running-req: 1, #token: 813, token usage: 0.04, gen throughput (token/s): 101.49, #queue-req: 0, \n"
     ]
    },
    {
     "name": "stdout",
     "output_type": "stream",
     "text": [
      "[2025-04-08 19:37:34 TP0] Decode batch. #running-req: 1, #token: 853, token usage: 0.04, gen throughput (token/s): 102.02, #queue-req: 0, \n"
     ]
    },
    {
     "name": "stdout",
     "output_type": "stream",
     "text": [
      "[2025-04-08 19:37:34 TP0] Decode batch. #running-req: 1, #token: 893, token usage: 0.04, gen throughput (token/s): 100.92, #queue-req: 0, \n"
     ]
    },
    {
     "name": "stdout",
     "output_type": "stream",
     "text": [
      "[2025-04-08 19:37:34 TP0] Decode batch. #running-req: 1, #token: 933, token usage: 0.05, gen throughput (token/s): 104.44, #queue-req: 0, \n"
     ]
    },
    {
     "name": "stdout",
     "output_type": "stream",
     "text": [
      "[2025-04-08 19:37:35 TP0] Decode batch. #running-req: 1, #token: 973, token usage: 0.05, gen throughput (token/s): 103.12, #queue-req: 0, \n"
     ]
    },
    {
     "name": "stdout",
     "output_type": "stream",
     "text": [
      "[2025-04-08 19:37:35 TP0] Decode batch. #running-req: 1, #token: 1013, token usage: 0.05, gen throughput (token/s): 92.19, #queue-req: 0, \n"
     ]
    },
    {
     "name": "stdout",
     "output_type": "stream",
     "text": [
      "[2025-04-08 19:37:36 TP0] Decode batch. #running-req: 1, #token: 1053, token usage: 0.05, gen throughput (token/s): 100.48, #queue-req: 0, \n"
     ]
    },
    {
     "name": "stdout",
     "output_type": "stream",
     "text": [
      "[2025-04-08 19:37:36 TP0] Decode batch. #running-req: 1, #token: 1093, token usage: 0.05, gen throughput (token/s): 101.52, #queue-req: 0, \n"
     ]
    },
    {
     "name": "stdout",
     "output_type": "stream",
     "text": [
      "[2025-04-08 19:37:36 TP0] Decode batch. #running-req: 1, #token: 1133, token usage: 0.06, gen throughput (token/s): 105.09, #queue-req: 0, \n"
     ]
    },
    {
     "name": "stdout",
     "output_type": "stream",
     "text": [
      "[2025-04-08 19:37:37 TP0] Decode batch. #running-req: 1, #token: 1173, token usage: 0.06, gen throughput (token/s): 96.08, #queue-req: 0, \n"
     ]
    },
    {
     "name": "stdout",
     "output_type": "stream",
     "text": [
      "[2025-04-08 19:37:37 TP0] Decode batch. #running-req: 1, #token: 1213, token usage: 0.06, gen throughput (token/s): 99.74, #queue-req: 0, \n"
     ]
    },
    {
     "name": "stdout",
     "output_type": "stream",
     "text": [
      "[2025-04-08 19:37:38 TP0] Decode batch. #running-req: 1, #token: 1253, token usage: 0.06, gen throughput (token/s): 103.35, #queue-req: 0, \n"
     ]
    },
    {
     "name": "stdout",
     "output_type": "stream",
     "text": [
      "[2025-04-08 19:37:38 TP0] Decode batch. #running-req: 1, #token: 1293, token usage: 0.06, gen throughput (token/s): 101.64, #queue-req: 0, \n"
     ]
    },
    {
     "name": "stdout",
     "output_type": "stream",
     "text": [
      "[2025-04-08 19:37:38 TP0] Decode batch. #running-req: 1, #token: 1333, token usage: 0.07, gen throughput (token/s): 99.43, #queue-req: 0, \n"
     ]
    },
    {
     "name": "stdout",
     "output_type": "stream",
     "text": [
      "[2025-04-08 19:37:39 TP0] Decode batch. #running-req: 1, #token: 1373, token usage: 0.07, gen throughput (token/s): 101.27, #queue-req: 0, \n"
     ]
    },
    {
     "name": "stdout",
     "output_type": "stream",
     "text": [
      "[2025-04-08 19:37:39 TP0] Decode batch. #running-req: 1, #token: 1413, token usage: 0.07, gen throughput (token/s): 101.10, #queue-req: 0, \n"
     ]
    },
    {
     "name": "stdout",
     "output_type": "stream",
     "text": [
      "[2025-04-08 19:37:40 TP0] Decode batch. #running-req: 1, #token: 1453, token usage: 0.07, gen throughput (token/s): 104.58, #queue-req: 0, \n"
     ]
    },
    {
     "name": "stdout",
     "output_type": "stream",
     "text": [
      "[2025-04-08 19:37:40 TP0] Decode batch. #running-req: 1, #token: 1493, token usage: 0.07, gen throughput (token/s): 100.68, #queue-req: 0, \n"
     ]
    },
    {
     "name": "stdout",
     "output_type": "stream",
     "text": [
      "[2025-04-08 19:37:40 TP0] Decode batch. #running-req: 1, #token: 1533, token usage: 0.07, gen throughput (token/s): 103.18, #queue-req: 0, \n"
     ]
    },
    {
     "name": "stdout",
     "output_type": "stream",
     "text": [
      "[2025-04-08 19:37:41 TP0] Decode batch. #running-req: 1, #token: 1573, token usage: 0.08, gen throughput (token/s): 99.06, #queue-req: 0, \n"
     ]
    },
    {
     "name": "stdout",
     "output_type": "stream",
     "text": [
      "[2025-04-08 19:37:41 TP0] Decode batch. #running-req: 1, #token: 1613, token usage: 0.08, gen throughput (token/s): 102.06, #queue-req: 0, \n"
     ]
    },
    {
     "name": "stdout",
     "output_type": "stream",
     "text": [
      "[2025-04-08 19:37:42 TP0] Decode batch. #running-req: 1, #token: 1653, token usage: 0.08, gen throughput (token/s): 97.91, #queue-req: 0, \n"
     ]
    },
    {
     "name": "stdout",
     "output_type": "stream",
     "text": [
      "[2025-04-08 19:37:42 TP0] Decode batch. #running-req: 1, #token: 1693, token usage: 0.08, gen throughput (token/s): 99.70, #queue-req: 0, \n"
     ]
    },
    {
     "name": "stdout",
     "output_type": "stream",
     "text": [
      "[2025-04-08 19:37:42 TP0] Decode batch. #running-req: 1, #token: 1733, token usage: 0.08, gen throughput (token/s): 99.27, #queue-req: 0, \n"
     ]
    },
    {
     "name": "stdout",
     "output_type": "stream",
     "text": [
      "[2025-04-08 19:37:43 TP0] Decode batch. #running-req: 1, #token: 1773, token usage: 0.09, gen throughput (token/s): 102.81, #queue-req: 0, \n"
     ]
    },
    {
     "name": "stdout",
     "output_type": "stream",
     "text": [
      "[2025-04-08 19:37:43 TP0] Decode batch. #running-req: 1, #token: 1813, token usage: 0.09, gen throughput (token/s): 98.48, #queue-req: 0, \n"
     ]
    },
    {
     "name": "stdout",
     "output_type": "stream",
     "text": [
      "[2025-04-08 19:37:44 TP0] Decode batch. #running-req: 1, #token: 1853, token usage: 0.09, gen throughput (token/s): 99.53, #queue-req: 0, \n"
     ]
    },
    {
     "name": "stdout",
     "output_type": "stream",
     "text": [
      "[2025-04-08 19:37:44 TP0] Decode batch. #running-req: 1, #token: 1893, token usage: 0.09, gen throughput (token/s): 100.13, #queue-req: 0, \n"
     ]
    },
    {
     "name": "stdout",
     "output_type": "stream",
     "text": [
      "[2025-04-08 19:37:44 TP0] Decode batch. #running-req: 1, #token: 1933, token usage: 0.09, gen throughput (token/s): 98.89, #queue-req: 0, \n"
     ]
    },
    {
     "name": "stdout",
     "output_type": "stream",
     "text": [
      "[2025-04-08 19:37:45 TP0] Decode batch. #running-req: 1, #token: 1973, token usage: 0.10, gen throughput (token/s): 100.63, #queue-req: 0, \n"
     ]
    },
    {
     "name": "stdout",
     "output_type": "stream",
     "text": [
      "[2025-04-08 19:37:45 TP0] Decode batch. #running-req: 1, #token: 2013, token usage: 0.10, gen throughput (token/s): 101.73, #queue-req: 0, \n"
     ]
    },
    {
     "name": "stdout",
     "output_type": "stream",
     "text": [
      "[2025-04-08 19:37:46 TP0] Decode batch. #running-req: 1, #token: 1, token usage: 0.00, gen throughput (token/s): 97.85, #queue-req: 0, \n",
      "[2025-04-08 19:37:46] INFO:     127.0.0.1:45732 - \"POST /generate HTTP/1.1\" 200 OK\n"
     ]
    },
    {
     "data": {
      "text/html": [
       "<strong style='color: #00008B;'>{'text': 'Okay, so I need to figure out how to solve this problem. Hmm, wait, the user just said \"Anshul\" and then \"Please reason step by step, and put your final answer within \\\\boxed{}.\" But there\\'s no specific question here. Maybe they forgot to ask a question? Or perhaps they\\'re referring to a previous conversation? I\\'m a bit confused. Let me think about what I can do.\\n\\nMaybe I can prompt them to provide more details or clarify what they need help with. I should respond politely and ask for clarification. That way, I can assist them better once I understand their request.\\n\\nSo, I\\'ll say something like, \"Hello! It seems like your question got cut off. Could you please provide more details or clarify what you need help with? I\\'m here to assist you!\"\\n\\nYeah, that should do it. It\\'s friendly and encourages them to share more information so I can help them effectively.\\n</think>{\\n\\n\"name\" \\n\\n\\n\\n\\n\\n\\n\\n\\n\\n\\n\\n\\n\\n\\n\\n\\n\\n\\n\\n\\n\\n\\n\\n\\n\\n\\n\\n\\n\\n\\n\\n\\n\\n\\n\\n\\n\\n\\n\\n\\n\\n\\n\\n\\n\\n\\n\\n\\n\\n\\n\\n\\n\\n\\n\\n\\n\\n\\n\\n\\n\\n\\n\\n\\n\\n\\n\\n\\n\\n\\n\\n\\n\\n\\n\\n\\n\\n\\n\\n\\n\\n\\n\\n\\n\\n\\n\\n\\n\\n\\n\\n\\n\\n\\n\\n\\n\\n\\n\\n\\n\\n\\n\\n\\n\\n\\n\\n\\n\\n\\n\\n\\n\\n\\n\\n\\n\\n\\n\\n\\n\\n\\n\\n\\n\\n\\n\\n\\n\\n\\n\\n\\n\\n\\n\\n\\n\\n\\n\\n\\n\\n\\n\\n\\n\\n\\n\\n\\n\\n\\n\\n\\n\\n\\n\\n\\n\\n\\n\\n\\n\\n\\n\\n\\n\\n\\n\\n\\n\\n\\n\\n\\n\\n\\n\\n\\n\\n\\n\\n\\n\\n\\n\\n\\n\\n\\n\\n\\n\\n\\n\\n\\n\\n\\n\\n\\n\\n\\n\\n\\n\\n\\n\\n\\n\\n\\n\\n\\n\\n\\n\\n\\n\\n\\n\\n\\n\\n\\n\\n\\n\\n\\n\\n\\n\\n\\n\\n\\n\\n\\n\\n\\n\\n\\n\\n\\n\\n\\n\\n\\n\\n\\n\\n\\n\\n\\n\\n\\n\\n\\n\\n\\n\\n\\n\\n\\n\\n\\n\\n\\n\\n\\n\\n\\n\\n\\n\\n\\n\\n\\n\\n\\n\\n\\n\\n\\n\\n\\n\\n\\n\\n\\n\\n\\n\\n\\n\\n\\n\\n\\n\\n\\n\\n\\n\\n\\n\\n\\n\\n\\n\\n\\n\\n\\n\\n\\n\\n\\n\\n\\n\\n\\n\\n\\n\\n\\n\\n\\n\\n\\n\\n\\n\\n\\n\\n\\n\\n\\n\\n\\n\\n\\n\\n\\n\\n\\n\\n\\n\\n\\n\\n\\n\\n\\n\\n\\n\\n\\n\\n\\n\\n\\n\\n\\n\\n\\n\\n\\n\\n\\n\\n\\n\\n\\n\\n\\n\\n\\n\\n\\n\\n\\n\\n\\n\\n\\n\\n\\n\\n\\n\\n\\n\\n\\n\\n\\n\\n\\n\\n\\n\\n\\n\\n\\n\\n\\n\\n\\n\\n\\n\\n\\n\\n\\n\\n\\n\\n\\n\\n\\n\\n\\n\\n\\n\\n\\n\\n\\n\\n\\n\\n\\n\\n\\n\\n\\n\\n\\n\\n\\n\\n\\n\\n\\n\\n\\n\\n\\n\\n\\n\\n\\n\\n\\n\\n\\n\\n\\n\\n\\n\\n\\n\\n\\n\\n\\n\\n\\n\\n\\n\\n\\n\\n\\n\\n\\n\\n\\n\\n\\n\\n\\n\\n\\n\\n\\n\\n\\n\\n\\n\\n\\n\\n\\n\\n\\n\\n\\n\\n\\n\\n\\n\\n\\n\\n\\n\\n\\n\\n\\n\\n\\n\\n\\n\\n\\n\\n\\n\\n\\n\\n\\n\\n\\n\\n\\n\\n\\n\\n\\n\\n\\n\\n\\n\\n\\n\\n\\n\\n\\n\\n\\n\\n\\n\\n\\n\\n\\n\\n\\n\\n\\n\\n\\n\\n\\n\\n\\n\\n\\n\\n\\n\\n\\n\\n\\n\\n\\n\\n\\n\\n\\n\\n\\n\\n\\n\\n\\n\\n\\n\\n\\n\\n\\n\\n\\n\\n\\n\\n\\n\\n\\n\\n\\n\\n\\n\\n\\n\\n\\n\\n\\n\\n\\n\\n\\n\\n\\n\\n\\n\\n\\n\\n\\n\\n\\n\\n\\n\\n\\n\\n\\n\\n\\n\\n\\n\\n\\n\\n\\n\\n\\n\\n\\n\\n\\n\\n\\n\\n\\n\\n\\n\\n\\n\\n\\n\\n\\n\\n\\n\\n\\n\\n\\n\\n\\n\\n\\n\\n\\n\\n\\n\\n\\n\\n\\n\\n\\n\\n\\n\\n\\n\\n\\n\\n\\n\\n\\n\\n\\n\\n\\n\\n\\n\\n\\n\\n\\n\\n\\n\\n\\n\\n\\n\\n\\n\\n\\n\\n\\n\\n\\n\\n\\n\\n\\n\\n\\n\\n\\n\\n\\n\\n\\n\\n\\n\\n\\n\\n\\n\\n\\n\\n\\n\\n\\n\\n\\n\\n\\n\\n\\n\\n\\n\\n\\n\\n\\n\\n\\n\\n\\n\\n\\n\\n\\n\\n\\n\\n\\n\\n\\n\\n\\n\\n\\n\\n\\n\\n\\n\\n\\n\\n\\n\\n\\n\\n\\n\\n\\n\\n\\n\\n\\n\\n\\n\\n\\n\\n\\n\\n\\n\\n\\n\\n\\n\\n\\n\\n\\n\\n\\n\\n\\n\\n\\n\\n\\n\\n\\n\\n\\n\\n\\n\\n\\n\\n\\n\\n\\n\\n\\n\\n\\n\\n\\n\\n\\n\\n\\n\\n\\n\\n\\n\\n\\n\\n\\n\\n\\n\\n\\n\\n\\n\\n\\n\\n\\n\\n\\n\\n\\n\\n\\n\\n\\n\\n\\n\\n\\n\\n\\n\\n\\n\\n\\n\\n\\n\\n\\n\\n\\n\\n\\n\\n\\n\\n\\n\\n\\n\\n\\n\\n\\n\\n\\n\\n\\n\\n\\n\\n\\n\\n\\n\\n\\n\\n\\n\\n\\n\\n\\n\\n\\n\\n\\n\\n\\n\\n\\n\\n\\n\\n\\n\\n\\n\\n\\n\\n\\n\\n\\n\\n\\n\\n\\n\\n\\n\\n\\n\\n\\n\\n\\n\\n\\n\\n\\n\\n\\n\\n\\n\\n\\n\\n\\n\\n\\n\\n\\n\\n\\n\\n\\n\\n\\n\\n\\n\\n\\n\\n\\n\\n\\n\\n\\n\\n\\n\\n\\n\\n\\n\\n\\n\\n\\n\\n\\n\\n\\n\\n\\n\\n\\n\\n\\n\\n\\n\\n\\n\\n\\n\\n\\n\\n\\n\\n\\n\\n\\n\\n\\n\\n\\n\\n\\n\\n\\n\\n\\n\\n\\n\\n\\n\\n\\n\\n\\n\\n\\n\\n\\n\\n\\n\\n\\n\\n\\n\\n\\n\\n\\n\\n\\n\\n\\n\\n\\n\\n\\n\\n\\n\\n\\n\\n\\n\\n\\n\\n\\n\\n\\n\\n\\n\\n\\n\\n\\n\\n\\n\\n\\n\\n\\n\\n\\n\\n\\n\\n\\n\\n\\n\\n\\n\\n\\n\\n\\n\\n\\n\\n\\n\\n\\n\\n\\n\\n\\n\\n\\n\\n\\n\\n\\n\\n\\n\\n\\n\\n\\n\\n\\n\\n\\n\\n\\n\\n\\n\\n\\n\\n\\n\\n\\n\\n\\n\\n\\n\\n\\n\\n\\n\\n\\n\\n\\n\\n\\n\\n\\n\\n\\n\\n\\n\\n\\n\\n\\n\\n\\n\\n\\n\\n\\n\\n\\n\\n\\n\\n\\n\\n\\n\\n\\n\\n\\n\\n\\n\\n\\n\\n\\n\\n\\n\\n\\n\\n\\n\\n\\n\\n\\n\\n\\n\\n\\n\\n\\n\\n\\n\\n\\n\\n\\n\\n\\n\\n\\n\\n\\n\\n\\n\\n\\n\\n\\n\\n\\n\\n\\n\\n\\n\\n\\n\\n\\n\\n\\n\\n\\n\\n\\n\\n\\n\\n\\n\\n\\n\\n\\n\\n\\n\\n\\n\\n\\n\\n\\n\\n\\n\\n\\n\\n\\n\\n\\n\\n\\n\\n\\n\\n\\n\\n\\n\\n\\n\\n\\n\\n\\n\\n\\n\\n\\n\\n\\n\\n\\n\\n\\n\\n\\n\\n\\n\\n\\n\\n\\n\\n\\n\\n\\n\\n\\n\\n\\n\\n\\n\\n\\n\\n\\n\\n\\n\\n\\n\\n\\n\\n\\n\\n\\n\\n\\n\\n\\n\\n\\n\\n\\n\\n\\n\\n\\n\\n\\n\\n\\n\\n\\n\\n\\n\\n\\n\\n\\n\\n\\n\\n\\n\\n\\n\\n\\n\\n\\n\\n\\n\\n\\n\\n\\n\\n\\n\\n\\n\\n\\n\\n\\n\\n\\n\\n\\n\\n\\n\\n\\n\\n\\n\\n\\n\\n\\n\\n\\n\\n\\n\\n\\n\\n\\n\\n\\n\\n\\n\\n\\n\\n\\n\\n\\n\\n\\n\\n\\n\\n\\n\\n\\n\\n\\n\\n\\n\\n\\n\\n\\n\\n\\n\\n\\n\\n\\n\\n\\n\\n\\n\\n\\n\\n\\n\\n\\n\\n\\n\\n\\n\\n\\n\\n\\n\\n\\n\\n\\n\\n\\n\\n\\n\\n\\n\\n\\n\\n\\n\\n\\n\\n\\n\\n\\n\\n\\n\\n\\n\\n\\n\\n\\n\\n\\n\\n\\n\\n\\n\\n\\n\\n\\n\\n\\n\\n\\n\\n\\n\\n\\n\\n\\n\\n\\n\\n\\n\\n\\n\\n\\n\\n\\n\\n\\n\\n\\n\\n\\n\\n\\n\\n\\n\\n\\n\\n\\n\\n\\n\\n\\n\\n\\n\\n\\n\\n\\n\\n\\n\\n\\n\\n\\n\\n\\n\\n\\n\\n\\n\\n\\n\\n\\n\\n\\n\\n\\n\\n\\n\\n\\n\\n\\n\\n\\n\\n\\n\\n\\n\\n\\n\\n\\n\\n\\n\\n\\n\\n\\n\\n\\n\\n\\n\\n\\n\\n\\n\\n\\n\\n\\n\\n\\n\\n\\n\\n\\n\\n\\n\\n\\n\\n\\n\\n\\n\\n\\n\\n\\n\\n\\n\\n\\n\\n\\n\\n\\n\\n\\n\\n\\n\\n\\n\\n\\n\\n\\n\\n\\n\\n\\n\\n\\n\\n\\n\\n\\n\\n\\n\\n\\n\\n\\n\\n\\n\\n\\n\\n\\n\\n\\n\\n\\n\\n\\n\\n\\n\\n\\n\\n\\n\\n\\n\\n\\n\\n\\n\\n\\n\\n\\n\\n\\n\\n\\n\\n\\n\\n\\n\\n\\n\\n\\n\\n\\n\\n\\n\\n\\n\\n\\n\\n\\n\\n\\n\\n\\n\\n\\n\\n\\n\\n\\n\\n\\n\\n\\n\\n\\n\\n\\n\\n\\n\\n\\n\\n\\n\\n\\n\\n\\n\\n\\n\\n\\n\\n\\n\\n\\n\\n\\n\\n\\n\\n\\n\\n\\n\\n\\n\\n\\n\\n\\n\\n\\n\\n\\n\\n\\n\\n\\n\\n\\n\\n\\n\\n\\n\\n\\n\\n\\n\\n\\n\\n\\n\\n\\n\\n\\n\\n\\n\\n\\n\\n\\n\\n\\n\\n\\n\\n\\n\\n\\n\\n\\n\\n\\n\\n\\n\\n\\n\\n\\n\\n\\n\\n\\n\\n\\n\\n\\n\\n\\n\\n\\n\\n\\n\\n\\n\\n\\n\\n\\n\\n\\n\\n\\n\\n\\n\\n\\n\\n\\n\\n\\n\\n\\n\\n\\n\\n\\n\\n\\n\\n\\n\\n\\n\\n\\n\\n\\n\\n\\n\\n\\n\\n\\n\\n\\n\\n\\n\\n\\n\\n\\n\\n\\n\\n\\n\\n\\n\\n\\n\\n\\n\\n\\n\\n\\n\\n\\n\\n\\n\\n\\n\\n\\n\\n\\n\\n\\n\\n\\n\\n\\n\\n\\n\\n\\n\\n\\n\\n\\n\\n\\n\\n\\n\\n\\n\\n\\n\\n\\n\\n\\n\\n\\n\\n\\n\\n\\n\\n\\n\\n\\n\\n\\n\\n\\n\\n\\n\\n\\n\\n\\n\\n\\n\\n\\n\\n\\n\\n\\n\\n\\n\\n\\n\\n\\n\\n\\n\\n\\n\\n\\n\\n\\n\\n\\n\\n\\n\\n\\n\\n\\n\\n\\n\\n\\n\\n\\n\\n\\n\\n\\n\\n\\n\\n\\n\\n\\n\\n\\n\\n\\n\\n\\n\\n\\n\\n\\n\\n\\n\\n\\n\\n\\n\\n\\n\\n\\n\\n\\n\\n\\n\\n\\n\\n\\n\\n\\n\\n\\n\\n\\n\\n\\n\\n\\n\\n\\n\\n\\n\\n\\n\\n\\n\\n\\n\\n\\n\\n\\n\\n\\n\\n\\n\\n\\n\\n\\n\\n\\n\\n\\n\\n\\n\\n\\n\\n\\n\\n\\n\\n\\n\\n\\n\\n\\n\\n\\n\\n\\n\\n\\n\\n\\n\\n\\n\\n\\n\\n\\n\\n\\n\\n\\n\\n\\n\\n\\n\\n\\n\\n\\n\\n\\n\\n\\n\\n\\n\\n\\n\\n\\n\\n\\n\\n\\n\\n\\n\\n\\n\\n\\n\\n\\n\\n\\n\\n\\n\\n\\n\\n\\n\\n\\n\\n\\n\\n\\n\\n\\n\\n\\n\\n\\n\\n\\n\\n\\n\\n\\n\\n\\n\\n\\n\\n\\n\\n\\n\\n\\n\\n\\n\\n\\n\\n\\n\\n\\n\\n\\n\\n\\n\\n\\n\\n\\n\\n\\n\\n\\n\\n\\n\\n\\n\\n\\n\\n\\n\\n\\n\\n\\n\\n\\n\\n\\n\\n\\n\\n\\n\\n\\n\\n\\n\\n\\n\\n\\n\\n\\n\\n\\n\\n\\n\\n\\n\\n\\n\\n\\n\\n\\n\\n\\n\\n\\n\\n\\n\\n\\n\\n\\n\\n\\n\\n\\n\\n\\n\\n\\n\\n\\n\\n\\n\\n\\n\\n\\n\\n\\n\\n\\n\\n\\n\\n\\n\\n\\n\\n\\n\\n\\n\\n\\n\\n\\n\\n\\n\\n\\n\\n\\n\\n\\n\\n\\n\\n\\n\\n\\n\\n\\n\\n\\n\\n\\n\\n\\n\\n\\n\\n\\n\\n\\n\\n\\n\\n\\n\\n\\n\\n\\n\\n\\n\\n\\n\\n\\n\\n\\n\\n\\n\\n\\n\\n\\n\\n\\n\\n\\n\\n\\n\\n\\n\\n\\n\\n\\n\\n\\n\\n\\n\\n\\n\\n\\n\\n\\n\\n\\n\\n\\n\\n\\n\\n\\n\\n\\n\\n\\n\\n\\n\\n\\n\\n\\n\\n\\n\\n\\n\\n\\n\\n\\n\\n\\n\\n\\n\\n\\n\\n\\n\\n\\n\\n\\n\\n\\n\\n\\n\\n\\n\\n\\n\\n\\n\\n\\n\\n\\n\\n\\n\\n\\n\\n\\n\\n\\n\\n\\n\\n\\n\\n\\n\\n\\n\\n\\n\\n\\n\\n\\n\\n\\n\\n\\n\\n\\n\\n\\n\\n\\n\\n\\n\\n\\n\\n\\n\\n\\n\\n\\n\\n\\n\\n\\n\\n\\n\\n\\n\\n\\n\\n\\n\\n\\n\\n\\n\\n\\n\\n\\n\\n\\n\\n\\n\\n\\n\\n\\n\\n\\n\\n\\n\\n\\n\\n\\n\\n\\n\\n\\n\\n\\n\\n\\n\\n\\n\\n\\n\\n\\n\\n\\n\\n\\n\\n\\n\\n\\n\\n\\n\\n\\n\\n\\n\\n\\n\\n\\n\\n\\n\\n\\n\\n\\n\\n\\n\\n\\n\\n\\n\\n\\n\\n\\n\\n\\n\\n\\n\\n\\n\\n\\n\\n\\n\\n\\n\\n\\n\\n\\n\\n\\n\\n\\n\\n\\n\\n\\n\\n\\n\\n\\n\\n\\n\\n\\n\\n\\n\\n\\n\\n\\n\\n\\n\\n\\n\\n\\n\\n\\n\\n\\n\\n\\n\\n\\n\\n\\n\\n\\n\\n\\n\\n\\n\\n\\n\\n\\n\\n\\n\\n\\n\\n\\n\\n\\n\\n\\n\\n\\n\\n\\n\\n\\n\\n\\n\\n\\n\\n\\n\\n\\n\\n\\n\\n\\n\\n\\n\\n\\n\\n\\n\\n\\n\\n\\n\\n\\n\\n\\n\\n\\n\\n\\n\\n\\n\\n\\n\\n\\n\\n\\n\\n\\n\\n\\n\\n\\n\\n\\n\\n\\n\\n\\n\\n\\n\\n\\n\\n\\n\\n\\n\\n\\n\\n\\n\\n\\n\\n\\n\\n\\n\\n\\n\\n\\n\\n\\n\\n\\n\\n\\n\\n\\n\\n\\n\\n\\n\\n\\n\\n\\n\\n\\n\\n\\n\\n\\n\\n\\n\\n\\n\\n\\n\\n\\n\\n\\n\\n\\n\\n\\n\\n\\n\\n\\n\\n\\n\\n\\n\\n\\n\\n\\n\\n\\n\\n\\n\\n\\n\\n\\n\\n\\n\\n\\n\\n\\n\\n\\n\\n\\n\\n\\n\\n\\n\\n\\n\\n\\n\\n\\n\\n\\n\\n\\n\\n\\n\\n\\n\\n\\n\\n\\n\\n\\n\\n\\n\\n\\n\\n\\n\\n\\n\\n\\n\\n\\n\\n\\n\\n\\n\\n\\n\\n\\n\\n\\n\\n\\n\\n\\n\\n\\n\\n\\n\\n\\n\\n\\n\\n\\n\\n\\n\\n\\n\\n\\n\\n\\n\\n\\n\\n\\n\\n\\n\\n\\n\\n\\n\\n\\n\\n\\n\\n\\n\\n\\n\\n\\n\\n\\n\\n\\n\\n\\n\\n\\n\\n\\n\\n\\n\\n\\n\\n\\n\\n\\n\\n\\n\\n\\n\\n\\n\\n\\n\\n\\n\\n\\n\\n\\n\\n\\n\\n\\n\\n\\n\\n\\n\\n\\n\\n\\n\\n\\n\\n\\n\\n\\n\\n\\n\\n\\n\\n\\n\\n\\n\\n\\n\\n\\n\\n\\n\\n\\n\\n\\n\\n\\n\\n\\n\\n\\n\\n\\n\\n\\n\\n\\n\\n\\n\\n\\n\\n\\n\\n\\n\\n\\n\\n\\n\\n\\n\\n\\n\\n\\n\\n\\n\\n\\n\\n\\n\\n\\n\\n\\n\\n\\n\\n\\n\\n\\n\\n\\n\\n\\n\\n\\n\\n\\n\\n\\n\\n\\n\\n\\n\\n\\n\\n\\n\\n\\n\\n\\n\\n\\n\\n\\n\\n\\n\\n\\n\\n\\n\\n\\n\\n\\n\\n\\n\\n\\n\\n\\n\\n\\n\\n\\n\\n\\n\\n\\n\\n\\n\\n\\n\\n\\n\\n\\n\\n\\n\\n\\n\\n\\n\\n\\n\\n\\n\\n\\n\\n\\n\\n\\n\\n\\n\\n\\n\\n\\n\\n\\n\\n\\n\\n\\n\\n\\n\\n\\n\\n\\n\\n\\n\\n\\n\\n\\n\\n\\n\\n\\n\\n\\n\\n\\n\\n\\n\\n\\n\\n\\n\\n\\n\\n\\n\\n\\n\\n\\n\\n\\n\\n\\n\\n\\n\\n\\n\\n\\n\\n\\n\\n\\n\\n\\n\\n\\n\\n\\n\\n\\n\\n\\n\\n\\n\\n\\n\\n\\n\\n\\n\\n\\n\\n\\n\\n\\n\\n\\n\\n\\n\\n\\n\\n\\n\\n\\n\\n\\n\\n\\n\\n\\n\\n\\n\\n\\n\\n\\n\\n\\n\\n\\n\\n\\n\\n\\n\\n\\n\\n\\n\\n\\n\\n\\n\\n\\n\\n\\n\\n\\n\\n\\n\\n\\n\\n\\n\\n\\n\\n\\n\\n\\n\\n\\n\\n\\n\\n\\n\\n\\n\\n\\n\\n\\n\\n\\n\\n\\n\\n\\n\\n\\n\\n\\n\\n\\n\\n\\n\\n\\n\\n\\n\\n\\n\\n\\n\\n\\n\\n\\n\\n\\n\\n\\n\\n\\n\\n\\n\\n\\n\\n\\n\\n\\n\\n\\n\\n\\n\\n\\n\\n\\n\\n\\n\\n\\n\\n\\n\\n\\n\\n\\n\\n\\n\\n\\n\\n\\n\\n\\n\\n\\n\\n\\n\\n\\n\\n\\n\\n\\n\\n\\n\\n\\n\\n\\n\\n\\n\\n\\n\\n\\n\\n\\n\\n\\n\\n\\n\\n\\n\\n\\n\\n\\n\\n\\n\\n\\n\\n\\n\\n\\n\\n\\n\\n\\n\\n\\n\\n\\n\\n\\n\\n\\n\\n\\n\\n\\n\\n\\n\\n\\n\\n\\n\\n\\n\\n\\n\\n\\n\\n\\n\\n\\n\\n\\n\\n\\n\\n\\n\\n\\n\\n\\n\\n\\n\\n\\n\\n\\n\\n\\n\\n\\n\\n\\n\\n\\n\\n\\n\\n\\n\\n\\n\\n\\n\\n\\n\\n\\n\\n\\n\\n\\n\\n\\n\\n\\n\\n\\n\\n\\n\\n\\n\\n\\n\\n\\n\\n\\n\\n\\n\\n\\n\\n\\n\\n\\n\\n\\n\\n\\n\\n\\n\\n\\n\\n\\n\\n\\n\\n\\n\\n\\n\\n\\n\\n\\n\\n\\n\\n\\n\\n\\n\\n\\n\\n\\n\\n\\n\\n\\n\\n\\n\\n\\n\\n\\n\\n\\n\\n\\n\\n\\n\\n\\n\\n\\n\\n\\n\\n\\n\\n\\n\\n\\n\\n\\n\\n\\n\\n\\n\\n\\n\\n\\n\\n\\n\\n\\n\\n\\n\\n\\n\\n\\n\\n\\n\\n\\n\\n\\n\\n\\n\\n\\n\\n\\n\\n\\n\\n\\n\\n\\n\\n\\n\\n\\n\\n\\n\\n\\n\\n\\n\\n\\n\\n\\n\\n\\n\\n\\n\\n\\n\\n\\n\\n\\n\\n\\n\\n\\n\\n\\n\\n\\n\\n\\n\\n\\n\\n\\n\\n\\n\\n\\n\\n\\n\\n\\n\\n\\n\\n\\n\\n\\n\\n\\n\\n\\n\\n\\n\\n\\n\\n\\n\\n\\n\\n\\n\\n\\n\\n\\n\\n\\n\\n\\n\\n\\n\\n\\n\\n\\n\\n\\n\\n\\n\\n\\n\\n\\n\\n\\n\\n\\n\\n\\n\\n\\n\\n\\n\\n\\n\\n\\n\\n\\n\\n\\n\\n\\n\\n\\n\\n\\n\\n\\n\\n\\n\\n\\n\\n\\n\\n\\n\\n\\n\\n\\n\\n\\n\\n\\n\\n\\n\\n\\n\\n\\n\\n\\n\\n\\n\\n\\n\\n\\n\\n\\n\\n\\n\\n\\n\\n\\n\\n\\n\\n\\n\\n\\n\\n\\n\\n\\n\\n\\n\\n\\n\\n\\n\\n\\n\\n\\n\\n\\n\\n\\n\\n\\n\\n\\n\\n\\n\\n\\n\\n\\n\\n\\n\\n\\n\\n\\n\\n\\n\\n\\n\\n\\n\\n\\n\\n\\n\\n\\n\\n\\n\\n\\n\\n\\n\\n\\n\\n\\n\\n\\n\\n\\n\\n\\n\\n\\n\\n\\n\\n\\n\\n\\n\\n\\n\\n\\n\\n\\n\\n\\n\\n\\n\\n\\n\\n\\n\\n\\n\\n\\n\\n\\n\\n\\n\\n\\n\\n\\n\\n\\n\\n\\n\\n\\n\\n\\n\\n\\n\\n\\n\\n\\n\\n\\n\\n\\n\\n\\n\\n\\n\\n\\n\\n\\n\\n\\n\\n\\n\\n\\n\\n\\n\\n\\n\\n\\n\\n\\n\\n\\n\\n\\n\\n\\n\\n\\n\\n\\n\\n\\n\\n\\n\\n\\n\\n\\n\\n\\n\\n\\n\\n\\n\\n\\n\\n\\n\\n\\n\\n\\n\\n', 'meta_info': {'id': '7062a678c3604454bd8ba89364ddf39e', 'finish_reason': {'type': 'length', 'length': 2048}, 'prompt_tokens': 5, 'completion_tokens': 2048, 'cached_tokens': 2, 'e2e_latency': 20.349550485610962}}</strong>"
      ],
      "text/plain": [
       "<IPython.core.display.HTML object>"
      ]
     },
     "metadata": {},
     "output_type": "display_data"
    }
   ],
   "source": [
    "json_schema = json.dumps(\n",
    "    {\n",
    "        \"type\": \"object\",\n",
    "        \"properties\": {\n",
    "            \"name\": {\"type\": \"string\", \"pattern\": \"^[\\\\w]+$\"},\n",
    "            \"population\": {\"type\": \"integer\"},\n",
    "        },\n",
    "        \"required\": [\"name\", \"population\"],\n",
    "    }\n",
    ")\n",
    "\n",
    "# JSON\n",
    "text = tokenizer.apply_chat_template(text, tokenize=False, add_generation_prompt=True)\n",
    "response = requests.post(\n",
    "    f\"http://localhost:{port}/generate\",\n",
    "    json={\n",
    "        \"text\": text,\n",
    "        \"sampling_params\": {\n",
    "            \"temperature\": 0,\n",
    "            \"max_new_tokens\": 2048,\n",
    "            \"json_schema\": json_schema,\n",
    "        },\n",
    "    },\n",
    ")\n",
    "\n",
    "print_highlight(response.json())"
   ]
  },
  {
   "cell_type": "markdown",
   "metadata": {},
   "source": [
    "### EBNF"
   ]
  },
  {
   "cell_type": "code",
   "execution_count": 9,
   "metadata": {
    "execution": {
     "iopub.execute_input": "2025-04-08T19:37:46.085000Z",
     "iopub.status.busy": "2025-04-08T19:37:46.084698Z",
     "iopub.status.idle": "2025-04-08T19:37:58.868774Z",
     "shell.execute_reply": "2025-04-08T19:37:58.868129Z"
    }
   },
   "outputs": [
    {
     "name": "stdout",
     "output_type": "stream",
     "text": [
      "[2025-04-08 19:37:46 TP0] Prefill batch. #new-seq: 1, #new-token: 10, #cached-token: 1, token usage: 0.00, #running-req: 0, #queue-req: 0, \n",
      "[2025-04-08 19:37:46 TP0] Prefill batch. #new-seq: 3, #new-token: 3, #cached-token: 30, token usage: 0.00, #running-req: 0, #queue-req: 0, \n"
     ]
    },
    {
     "name": "stdout",
     "output_type": "stream",
     "text": [
      "[2025-04-08 19:37:46 TP0] Decode batch. #running-req: 3, #token: 128, token usage: 0.01, gen throughput (token/s): 188.33, #queue-req: 0, \n"
     ]
    },
    {
     "name": "stdout",
     "output_type": "stream",
     "text": [
      "[2025-04-08 19:37:47 TP0] Decode batch. #running-req: 3, #token: 248, token usage: 0.01, gen throughput (token/s): 293.61, #queue-req: 0, \n"
     ]
    },
    {
     "name": "stdout",
     "output_type": "stream",
     "text": [
      "[2025-04-08 19:37:47 TP0] Decode batch. #running-req: 3, #token: 368, token usage: 0.02, gen throughput (token/s): 289.88, #queue-req: 0, \n"
     ]
    },
    {
     "name": "stdout",
     "output_type": "stream",
     "text": [
      "[2025-04-08 19:37:47 TP0] Decode batch. #running-req: 3, #token: 488, token usage: 0.02, gen throughput (token/s): 281.20, #queue-req: 0, \n"
     ]
    },
    {
     "name": "stdout",
     "output_type": "stream",
     "text": [
      "[2025-04-08 19:37:48 TP0] Decode batch. #running-req: 3, #token: 608, token usage: 0.03, gen throughput (token/s): 274.66, #queue-req: 0, \n"
     ]
    },
    {
     "name": "stdout",
     "output_type": "stream",
     "text": [
      "[2025-04-08 19:37:48 TP0] Decode batch. #running-req: 3, #token: 728, token usage: 0.04, gen throughput (token/s): 284.56, #queue-req: 0, \n"
     ]
    },
    {
     "name": "stdout",
     "output_type": "stream",
     "text": [
      "[2025-04-08 19:37:49 TP0] Decode batch. #running-req: 3, #token: 848, token usage: 0.04, gen throughput (token/s): 285.23, #queue-req: 0, \n"
     ]
    },
    {
     "name": "stdout",
     "output_type": "stream",
     "text": [
      "[2025-04-08 19:37:49 TP0] Decode batch. #running-req: 3, #token: 968, token usage: 0.05, gen throughput (token/s): 284.52, #queue-req: 0, \n"
     ]
    },
    {
     "name": "stdout",
     "output_type": "stream",
     "text": [
      "[2025-04-08 19:37:50 TP0] Decode batch. #running-req: 3, #token: 1088, token usage: 0.05, gen throughput (token/s): 259.88, #queue-req: 0, \n"
     ]
    },
    {
     "name": "stdout",
     "output_type": "stream",
     "text": [
      "[2025-04-08 19:37:50 TP0] Decode batch. #running-req: 3, #token: 1208, token usage: 0.06, gen throughput (token/s): 296.88, #queue-req: 0, \n"
     ]
    },
    {
     "name": "stdout",
     "output_type": "stream",
     "text": [
      "[2025-04-08 19:37:50 TP0] Decode batch. #running-req: 3, #token: 1328, token usage: 0.06, gen throughput (token/s): 281.50, #queue-req: 0, \n"
     ]
    },
    {
     "name": "stdout",
     "output_type": "stream",
     "text": [
      "[2025-04-08 19:37:51 TP0] Decode batch. #running-req: 3, #token: 1448, token usage: 0.07, gen throughput (token/s): 292.38, #queue-req: 0, \n"
     ]
    },
    {
     "name": "stdout",
     "output_type": "stream",
     "text": [
      "[2025-04-08 19:37:51 TP0] Decode batch. #running-req: 3, #token: 1568, token usage: 0.08, gen throughput (token/s): 292.05, #queue-req: 0, \n"
     ]
    },
    {
     "name": "stdout",
     "output_type": "stream",
     "text": [
      "[2025-04-08 19:37:52 TP0] Decode batch. #running-req: 3, #token: 1688, token usage: 0.08, gen throughput (token/s): 290.56, #queue-req: 0, \n"
     ]
    },
    {
     "name": "stdout",
     "output_type": "stream",
     "text": [
      "[2025-04-08 19:37:52 TP0] Decode batch. #running-req: 3, #token: 1808, token usage: 0.09, gen throughput (token/s): 290.50, #queue-req: 0, \n"
     ]
    },
    {
     "name": "stdout",
     "output_type": "stream",
     "text": [
      "[2025-04-08 19:37:53 TP0] Decode batch. #running-req: 3, #token: 1928, token usage: 0.09, gen throughput (token/s): 211.82, #queue-req: 0, \n"
     ]
    },
    {
     "name": "stdout",
     "output_type": "stream",
     "text": [
      "[2025-04-08 19:37:53 TP0] Decode batch. #running-req: 3, #token: 2048, token usage: 0.10, gen throughput (token/s): 182.94, #queue-req: 0, \n"
     ]
    },
    {
     "name": "stdout",
     "output_type": "stream",
     "text": [
      "[2025-04-08 19:37:54 TP0] Decode batch. #running-req: 3, #token: 2168, token usage: 0.11, gen throughput (token/s): 188.81, #queue-req: 0, \n"
     ]
    },
    {
     "name": "stdout",
     "output_type": "stream",
     "text": [
      "[2025-04-08 19:37:54 TP0] Decode batch. #running-req: 3, #token: 2288, token usage: 0.11, gen throughput (token/s): 232.27, #queue-req: 0, \n"
     ]
    },
    {
     "name": "stdout",
     "output_type": "stream",
     "text": [
      "[2025-04-08 19:37:55 TP0] Decode batch. #running-req: 3, #token: 2408, token usage: 0.12, gen throughput (token/s): 291.58, #queue-req: 0, \n"
     ]
    },
    {
     "name": "stdout",
     "output_type": "stream",
     "text": [
      "[2025-04-08 19:37:55 TP0] Decode batch. #running-req: 3, #token: 2528, token usage: 0.12, gen throughput (token/s): 287.41, #queue-req: 0, \n"
     ]
    },
    {
     "name": "stdout",
     "output_type": "stream",
     "text": [
      "[2025-04-08 19:37:56 TP0] Decode batch. #running-req: 3, #token: 2648, token usage: 0.13, gen throughput (token/s): 288.86, #queue-req: 0, \n"
     ]
    },
    {
     "name": "stdout",
     "output_type": "stream",
     "text": [
      "[2025-04-08 19:37:56 TP0] Decode batch. #running-req: 3, #token: 2768, token usage: 0.14, gen throughput (token/s): 291.47, #queue-req: 0, \n"
     ]
    },
    {
     "name": "stdout",
     "output_type": "stream",
     "text": [
      "[2025-04-08 19:37:57 TP0] Decode batch. #running-req: 3, #token: 2888, token usage: 0.14, gen throughput (token/s): 293.13, #queue-req: 0, \n"
     ]
    },
    {
     "name": "stdout",
     "output_type": "stream",
     "text": [
      "[2025-04-08 19:37:57 TP0] Decode batch. #running-req: 3, #token: 3008, token usage: 0.15, gen throughput (token/s): 288.05, #queue-req: 0, \n"
     ]
    },
    {
     "name": "stdout",
     "output_type": "stream",
     "text": [
      "[2025-04-08 19:37:57 TP0] Decode batch. #running-req: 3, #token: 3128, token usage: 0.15, gen throughput (token/s): 284.22, #queue-req: 0, \n"
     ]
    },
    {
     "name": "stdout",
     "output_type": "stream",
     "text": [
      "[2025-04-08 19:37:58 TP0] Decode batch. #running-req: 3, #token: 3248, token usage: 0.16, gen throughput (token/s): 278.42, #queue-req: 0, \n"
     ]
    },
    {
     "name": "stdout",
     "output_type": "stream",
     "text": [
      "[2025-04-08 19:37:58 TP0] Decode batch. #running-req: 3, #token: 3368, token usage: 0.16, gen throughput (token/s): 286.08, #queue-req: 0, \n",
      "[2025-04-08 19:37:58] INFO:     127.0.0.1:38134 - \"POST /generate HTTP/1.1\" 200 OK\n",
      "[{'text': \"600 words.\\n\\nThe capital of France is Paris. Paris is one of the most important cities in the world, and it's also the political, cultural, and economic center of France. The city has a rich history that dates back to ancient times, and it's known for its iconic landmarks such as the Eiffel Tower, the Louvre Museum, and the Arc de Triomphe. Paris is also famous for its cuisine, with dishes like baguette, croissant, and boeuf bourguignon being some of the most popular. The city is surrounded by the Seine River, which flows through it, and the bridges over the river add to the city's charm. Paris is a vibrant city with a mix of old-world charm and modern innovation, making it a global hub of culture, business, and entertainment.\\n\\nAdditionally, Paris is home to many universities and research institutions, contributing to its reputation as a center for academic excellence. The city has a diverse population, with people from all over the world, which adds to its cultural richness. The public transportation system in Paris is highly developed, with an extensive network of buses, trams, and metro lines, making it easy for people to move around the city. The city also has a vibrant arts scene, with theaters, museums, and galleries showcasing a wide range of artistic expressions. Paris is not just a city of landmarks and culture; it's also a city of fashion, with many renowned brands having their presence here. The city's economy is diverse, with industries ranging from finance and banking to tourism and hospitality. Paris is also known for its role in the arts, with many famous writers, painters, and musicians having called it home. The city's architecture is a masterpiece, with iconic structures like the Eiffel Tower, Notre-Dame Cathedral, and the Louvre Museum being some of the most famous landmarks. Paris is a city that continues to evolve, embracing modernity while preserving its historical significance. It's a city that attracts millions of visitors each year, making it one of the most visited tourist destinations in the world. In summary, Paris is a multifaceted city that combines history, culture, art, and innovation, making it the capital of France and a global powerhouse.\\n\\nNow, I need to expand this information into a 600-word article, ensuring that I cover all the key points and add more details to make it comprehensive. I should avoid repeating the same information and add new insights or examples to enhance the article's depth and engagement.\\nOkay, so I need to expand the given information about Paris into a 600-word article. The original text is already quite detailed, but I need to make sure I cover all the key points without repeating the same information. I should also add new insights or examples to make the article more comprehensive and engaging.\\n\\nFirst, I'll start by introducing Paris as the capital of France, highlighting its significance as a political, cultural, and economic center. I can mention its rich history, stretching back to ancient times, and its iconic landmarks like the Eiffel Tower, Louvre Museum, and Arc de Triomphe. I should also touch upon its cuisine, mentioning popular dishes such as baguette, croissant, and boeuf bourguignon.\\n\\nNext, I can discuss Paris's geography, mentioning the Seine River that flows through it and the bridges that span the river, adding to the city's charm. I should also talk about the diverse population and multicultural aspects of the city, emphasizing its cultural richness.\\n\\nMoving on, I can delve into Paris's transportation system, highlighting the extensive network of public transportation, including buses, trams, and metro lines, which make it easy for people to navigate the city. I can also mention the city's vibrant arts scene, including theaters, museums, and galleries showcasing various artistic expressions.\\n\\nI should also cover Paris's economy, noting its diverse industries such as finance, banking, tourism, and hospitality. Additionally, Paris is known for its role in fashion, with many renowned brands present here, and its contribution to the arts, with famous writers, painters, and musicians having called it home.\\n\\nI can also discuss Paris's architecture, mentioning iconic structures like the Eiffel Tower, Notre-Dame Cathedral, and the Louvre Museum, emphasizing the masterpiece nature of its architecture.\\n\\nFurthermore, I can talk about Paris's modernity and innovation, highlighting its role as a global powerhouse and the blend of old-world charm and modern innovation that makes it vibrant. I can also mention the city's reputation as a tourist destination, attracting millions of visitors each year, making it one of the most visited places in the world.\\n\\nTo add more depth, I can include specific examples or anecdotes about Paris, such as the impact of the French Revolution on the city, the construction of the Eiffel Tower, or the role of Paris in the arts and literature. I can also discuss the city's current status and future, touching upon any recent developments or changes in its landscape.\\n\\nI should ensure that each section flows smoothly into the next, maintaining a logical structure that builds upon the previous points. I'll avoid repeating the same information by providing more detailed explanations or examples where necessary. I'll also aim for a formal tone, suitable for an informative article, while keeping the language engaging to maintain reader interest.\\n\\nIn summary, my approach will be to expand each key point with additional details, examples, and insights, ensuring a comprehensive and engaging 600-word article about Paris as the capital of France.\\n</think>Paris is the capital of France\", 'meta_info': {'id': '76479129a6624da388ecb4d531452ff6', 'finish_reason': {'type': 'stop', 'matched': 151643}, 'prompt_tokens': 11, 'completion_tokens': 1133, 'cached_tokens': 10, 'e2e_latency': 12.775012969970703}}, {'text': \"600 words.\\n\\nThe capital of France is Paris. Paris is one of the most important cities in the world, and it's also the political, cultural, and economic center of France. The city has a rich history that dates back to ancient times, and it's known for its iconic landmarks such as the Eiffel Tower, the Louvre Museum, and the Arc de Triomphe. Paris is also famous for its cuisine, with dishes like baguette, croissant, and boeuf bourguignon being some of the most popular. The city is surrounded by the Seine River, which flows through it, and the bridges over the river add to the city's charm. Paris is a vibrant city with a mix of old-world charm and modern innovation, making it a global hub of culture, business, and entertainment.\\n\\nAdditionally, Paris is home to many universities and research institutions, contributing to its reputation as a center for academic excellence. The city has a diverse population, with people from all over the world, which adds to its cultural richness. The public transportation system in Paris is highly developed, with an extensive network of buses, trams, and metro lines, making it easy for people to move around the city. The city also has a vibrant arts scene, with theaters, museums, and galleries showcasing a wide range of artistic expressions. Paris is not just a city of landmarks and culture; it's also a city of fashion, with many renowned brands having their presence here. The city's economy is diverse, with industries ranging from finance and banking to tourism and hospitality. Paris is also known for its role in the arts, with many famous writers, painters, and musicians having called it home. The city's architecture is a masterpiece, with iconic structures like the Eiffel Tower, Notre-Dame Cathedral, and the Louvre Museum being some of the most famous landmarks. Paris is a city that continues to evolve, embracing modernity while preserving its historical significance. It's a city that attracts millions of visitors each year, making it one of the most visited tourist destinations in the world. In summary, Paris is a multifaceted city that combines history, culture, art, and innovation, making it the capital of France and a global powerhouse.\\n\\nNow, I need to expand this information into a 600-word article, ensuring that I cover all the key points and add more details to make it comprehensive. I should avoid repeating the same information and add new insights or examples to enhance the article's depth and engagement.\\nOkay, so I need to expand the given information about Paris into a 600-word article. The original text is already quite detailed, but I need to make sure I cover all the key points without repeating the same information. I should also add new insights or examples to make the article more comprehensive and engaging.\\n\\nFirst, I'll start by introducing Paris as the capital of France, highlighting its significance as a political, cultural, and economic center. I can mention its rich history, stretching back to ancient times, and its iconic landmarks like the Eiffel Tower, Louvre Museum, and Arc de Triomphe. I should also touch upon its cuisine, mentioning popular dishes such as baguette, croissant, and boeuf bourguignon.\\n\\nNext, I can discuss Paris's geography, mentioning the Seine River that flows through it and the bridges that span the river, adding to the city's charm. I should also talk about the diverse population and multicultural aspects of the city, emphasizing its cultural richness.\\n\\nMoving on, I can delve into Paris's transportation system, highlighting the extensive network of public transportation, including buses, trams, and metro lines, which make it easy for people to navigate the city. I can also mention the city's vibrant arts scene, including theaters, museums, and galleries showcasing various artistic expressions.\\n\\nI should also cover Paris's economy, noting its diverse industries such as finance, banking, tourism, and hospitality. Additionally, Paris is known for its role in fashion, with many renowned brands present here, and its contribution to the arts, with famous writers, painters, and musicians having called it home.\\n\\nI can also discuss Paris's architecture, mentioning iconic structures like the Eiffel Tower, Notre-Dame Cathedral, and the Louvre Museum, emphasizing the masterpiece nature of its architecture.\\n\\nFurthermore, I can talk about Paris's modernity and innovation, highlighting its role as a global powerhouse and the blend of old-world charm and modern innovation that makes it vibrant. I can also mention the city's reputation as a tourist destination, attracting millions of visitors each year, making it one of the most visited places in the world.\\n\\nTo add more depth, I can include specific examples or anecdotes about Paris, such as the impact of the French Revolution on the city, the construction of the Eiffel Tower, or the role of Paris in the arts and literature. I can also discuss the city's current status and future, touching upon any recent developments or changes in its landscape.\\n\\nI should ensure that each section flows smoothly into the next, maintaining a logical structure that builds upon the previous points. I'll avoid repeating the same information by providing more detailed explanations or examples where necessary. I'll also aim for a formal tone, suitable for an informative article, while keeping the language engaging to maintain reader interest.\\n\\nIn summary, my approach will be to expand each key point with additional details, examples, and insights, ensuring a comprehensive and engaging 600-word article about Paris as the capital of France.\\n</think>Paris is the capital of France\", 'meta_info': {'id': '582cfbdacac641c6b9d279d1fe3c2976', 'finish_reason': {'type': 'stop', 'matched': 151643}, 'prompt_tokens': 11, 'completion_tokens': 1133, 'cached_tokens': 10, 'e2e_latency': 12.77502727508545}}, {'text': \"600 words.\\n\\nThe capital of France is Paris. Paris is one of the most important cities in the world, and it's also the political, cultural, and economic center of France. The city has a rich history that dates back to ancient times, and it's known for its iconic landmarks such as the Eiffel Tower, the Louvre Museum, and the Arc de Triomphe. Paris is also famous for its cuisine, with dishes like baguette, croissant, and boeuf bourguignon being some of the most popular. The city is surrounded by the Seine River, which flows through it, and the bridges over the river add to the city's charm. Paris is a vibrant city with a mix of old-world charm and modern innovation, making it a global hub of culture, business, and entertainment.\\n\\nAdditionally, Paris is home to many universities and research institutions, contributing to its reputation as a center for academic excellence. The city has a diverse population, with people from all over the world, which adds to its cultural richness. The public transportation system in Paris is highly developed, with an extensive network of buses, trams, and metro lines, making it easy for people to move around the city. The city also has a vibrant arts scene, with theaters, museums, and galleries showcasing a wide range of artistic expressions. Paris is not just a city of landmarks and culture; it's also a city of fashion, with many renowned brands having their presence here. The city's economy is diverse, with industries ranging from finance and banking to tourism and hospitality. Paris is also known for its role in the arts, with many famous writers, painters, and musicians having called it home. The city's architecture is a masterpiece, with iconic structures like the Eiffel Tower, Notre-Dame Cathedral, and the Louvre Museum being some of the most famous landmarks. Paris is a city that continues to evolve, embracing modernity while preserving its historical significance. It's a city that attracts millions of visitors each year, making it one of the most visited tourist destinations in the world. In summary, Paris is a multifaceted city that combines history, culture, art, and innovation, making it the capital of France and a global powerhouse.\\n\\nNow, I need to expand this information into a 600-word article, ensuring that I cover all the key points and add more details to make it comprehensive. I should avoid repeating the same information and add new insights or examples to enhance the article's depth and engagement.\\nOkay, so I need to expand the given information about Paris into a 600-word article. The original text is already quite detailed, but I need to make sure I cover all the key points without repeating the same information. I should also add new insights or examples to make the article more comprehensive and engaging.\\n\\nFirst, I'll start by introducing Paris as the capital of France, highlighting its significance as a political, cultural, and economic center. I can mention its rich history, stretching back to ancient times, and its iconic landmarks like the Eiffel Tower, Louvre Museum, and Arc de Triomphe. I should also touch upon its cuisine, mentioning popular dishes such as baguette, croissant, and boeuf bourguignon.\\n\\nNext, I can discuss Paris's geography, mentioning the Seine River that flows through it and the bridges that span the river, adding to the city's charm. I should also talk about the diverse population and multicultural aspects of the city, emphasizing its cultural richness.\\n\\nMoving on, I can delve into Paris's transportation system, highlighting the extensive network of public transportation, including buses, trams, and metro lines, which make it easy for people to navigate the city. I can also mention the city's vibrant arts scene, including theaters, museums, and galleries showcasing various artistic expressions.\\n\\nI should also cover Paris's economy, noting its diverse industries such as finance, banking, tourism, and hospitality. Additionally, Paris is known for its role in fashion, with many renowned brands present here, and its contribution to the arts, with famous writers, painters, and musicians having called it home.\\n\\nI can also discuss Paris's architecture, mentioning iconic structures like the Eiffel Tower, Notre-Dame Cathedral, and the Louvre Museum, emphasizing the masterpiece nature of its architecture.\\n\\nFurthermore, I can talk about Paris's modernity and innovation, highlighting its role as a global powerhouse and the blend of old-world charm and modern innovation that makes it vibrant. I can also mention the city's reputation as a tourist destination, attracting millions of visitors each year, making it one of the most visited places in the world.\\n\\nTo add more depth, I can include specific examples or anecdotes about Paris, such as the impact of the French Revolution on the city, the construction of the Eiffel Tower, or the role of Paris in the arts and literature. I can also discuss the city's current status and future, touching upon any recent developments or changes in its landscape.\\n\\nI should ensure that each section flows smoothly into the next, maintaining a logical structure that builds upon the previous points. I'll avoid repeating the same information by providing more detailed explanations or examples where necessary. I'll also aim for a formal tone, suitable for an informative article, while keeping the language engaging to maintain reader interest.\\n\\nIn summary, my approach will be to expand each key point with additional details, examples, and insights, ensuring a comprehensive and engaging 600-word article about Paris as the capital of France.\\n</think>Paris is the capital of France\", 'meta_info': {'id': 'cf03936e5f5f4d97b1cfce18ad480710', 'finish_reason': {'type': 'stop', 'matched': 151643}, 'prompt_tokens': 11, 'completion_tokens': 1133, 'cached_tokens': 10, 'e2e_latency': 12.775032997131348}}]\n"
     ]
    }
   ],
   "source": [
    "response = requests.post(\n",
    "    f\"http://localhost:{port}/generate\",\n",
    "    json={\n",
    "        \"text\": \"Give me the information of the capital of France.\",\n",
    "        \"sampling_params\": {\n",
    "            \"max_new_tokens\": 2048,\n",
    "            \"temperature\": 0,\n",
    "            \"n\": 3,\n",
    "            \"ebnf\": (\n",
    "                \"root ::= city | description\\n\"\n",
    "                'city ::= \"London\" | \"Paris\" | \"Berlin\" | \"Rome\"\\n'\n",
    "                'description ::= city \" is \" status\\n'\n",
    "                'status ::= \"the capital of \" country\\n'\n",
    "                'country ::= \"England\" | \"France\" | \"Germany\" | \"Italy\"'\n",
    "            ),\n",
    "        },\n",
    "        \"stream\": False,\n",
    "        \"return_logprob\": False,\n",
    "    },\n",
    ")\n",
    "\n",
    "print(response.json())"
   ]
  },
  {
   "cell_type": "markdown",
   "metadata": {},
   "source": [
    "### Regular expression"
   ]
  },
  {
   "cell_type": "code",
   "execution_count": 10,
   "metadata": {
    "execution": {
     "iopub.execute_input": "2025-04-08T19:37:58.870845Z",
     "iopub.status.busy": "2025-04-08T19:37:58.870554Z",
     "iopub.status.idle": "2025-04-08T19:38:18.797884Z",
     "shell.execute_reply": "2025-04-08T19:38:18.797406Z"
    }
   },
   "outputs": [
    {
     "name": "stdout",
     "output_type": "stream",
     "text": [
      "[2025-04-08 19:37:58 TP0] Prefill batch. #new-seq: 1, #new-token: 5, #cached-token: 1, token usage: 0.00, #running-req: 0, #queue-req: 0, \n"
     ]
    },
    {
     "name": "stdout",
     "output_type": "stream",
     "text": [
      "[2025-04-08 19:37:59 TP0] Decode batch. #running-req: 1, #token: 32, token usage: 0.00, gen throughput (token/s): 152.19, #queue-req: 0, \n"
     ]
    },
    {
     "name": "stdout",
     "output_type": "stream",
     "text": [
      "[2025-04-08 19:37:59 TP0] Decode batch. #running-req: 1, #token: 72, token usage: 0.00, gen throughput (token/s): 103.79, #queue-req: 0, \n"
     ]
    },
    {
     "name": "stdout",
     "output_type": "stream",
     "text": [
      "[2025-04-08 19:37:59 TP0] Decode batch. #running-req: 1, #token: 112, token usage: 0.01, gen throughput (token/s): 102.58, #queue-req: 0, \n"
     ]
    },
    {
     "name": "stdout",
     "output_type": "stream",
     "text": [
      "[2025-04-08 19:38:00 TP0] Decode batch. #running-req: 1, #token: 152, token usage: 0.01, gen throughput (token/s): 103.40, #queue-req: 0, \n"
     ]
    },
    {
     "name": "stdout",
     "output_type": "stream",
     "text": [
      "[2025-04-08 19:38:00 TP0] Decode batch. #running-req: 1, #token: 192, token usage: 0.01, gen throughput (token/s): 98.04, #queue-req: 0, \n"
     ]
    },
    {
     "name": "stdout",
     "output_type": "stream",
     "text": [
      "[2025-04-08 19:38:01 TP0] Decode batch. #running-req: 1, #token: 232, token usage: 0.01, gen throughput (token/s): 99.12, #queue-req: 0, \n"
     ]
    },
    {
     "name": "stdout",
     "output_type": "stream",
     "text": [
      "[2025-04-08 19:38:01 TP0] Decode batch. #running-req: 1, #token: 272, token usage: 0.01, gen throughput (token/s): 101.02, #queue-req: 0, \n"
     ]
    },
    {
     "name": "stdout",
     "output_type": "stream",
     "text": [
      "[2025-04-08 19:38:01 TP0] Decode batch. #running-req: 1, #token: 312, token usage: 0.02, gen throughput (token/s): 105.45, #queue-req: 0, \n"
     ]
    },
    {
     "name": "stdout",
     "output_type": "stream",
     "text": [
      "[2025-04-08 19:38:02 TP0] Decode batch. #running-req: 1, #token: 352, token usage: 0.02, gen throughput (token/s): 100.43, #queue-req: 0, \n"
     ]
    },
    {
     "name": "stdout",
     "output_type": "stream",
     "text": [
      "[2025-04-08 19:38:02 TP0] Decode batch. #running-req: 1, #token: 392, token usage: 0.02, gen throughput (token/s): 102.57, #queue-req: 0, \n"
     ]
    },
    {
     "name": "stdout",
     "output_type": "stream",
     "text": [
      "[2025-04-08 19:38:03 TP0] Decode batch. #running-req: 1, #token: 432, token usage: 0.02, gen throughput (token/s): 106.77, #queue-req: 0, \n"
     ]
    },
    {
     "name": "stdout",
     "output_type": "stream",
     "text": [
      "[2025-04-08 19:38:03 TP0] Decode batch. #running-req: 1, #token: 472, token usage: 0.02, gen throughput (token/s): 103.47, #queue-req: 0, \n"
     ]
    },
    {
     "name": "stdout",
     "output_type": "stream",
     "text": [
      "[2025-04-08 19:38:03 TP0] Decode batch. #running-req: 1, #token: 512, token usage: 0.03, gen throughput (token/s): 102.04, #queue-req: 0, \n"
     ]
    },
    {
     "name": "stdout",
     "output_type": "stream",
     "text": [
      "[2025-04-08 19:38:04 TP0] Decode batch. #running-req: 1, #token: 552, token usage: 0.03, gen throughput (token/s): 100.63, #queue-req: 0, \n"
     ]
    },
    {
     "name": "stdout",
     "output_type": "stream",
     "text": [
      "[2025-04-08 19:38:04 TP0] Decode batch. #running-req: 1, #token: 592, token usage: 0.03, gen throughput (token/s): 104.52, #queue-req: 0, \n"
     ]
    },
    {
     "name": "stdout",
     "output_type": "stream",
     "text": [
      "[2025-04-08 19:38:05 TP0] Decode batch. #running-req: 1, #token: 632, token usage: 0.03, gen throughput (token/s): 102.21, #queue-req: 0, \n"
     ]
    },
    {
     "name": "stdout",
     "output_type": "stream",
     "text": [
      "[2025-04-08 19:38:05 TP0] Decode batch. #running-req: 1, #token: 672, token usage: 0.03, gen throughput (token/s): 103.89, #queue-req: 0, \n"
     ]
    },
    {
     "name": "stdout",
     "output_type": "stream",
     "text": [
      "[2025-04-08 19:38:05 TP0] Decode batch. #running-req: 1, #token: 712, token usage: 0.03, gen throughput (token/s): 104.23, #queue-req: 0, \n"
     ]
    },
    {
     "name": "stdout",
     "output_type": "stream",
     "text": [
      "[2025-04-08 19:38:06 TP0] Decode batch. #running-req: 1, #token: 752, token usage: 0.04, gen throughput (token/s): 103.66, #queue-req: 0, \n"
     ]
    },
    {
     "name": "stdout",
     "output_type": "stream",
     "text": [
      "[2025-04-08 19:38:06 TP0] Decode batch. #running-req: 1, #token: 792, token usage: 0.04, gen throughput (token/s): 103.66, #queue-req: 0, \n"
     ]
    },
    {
     "name": "stdout",
     "output_type": "stream",
     "text": [
      "[2025-04-08 19:38:06 TP0] Decode batch. #running-req: 1, #token: 832, token usage: 0.04, gen throughput (token/s): 103.28, #queue-req: 0, \n"
     ]
    },
    {
     "name": "stdout",
     "output_type": "stream",
     "text": [
      "[2025-04-08 19:38:07 TP0] Decode batch. #running-req: 1, #token: 872, token usage: 0.04, gen throughput (token/s): 101.15, #queue-req: 0, \n"
     ]
    },
    {
     "name": "stdout",
     "output_type": "stream",
     "text": [
      "[2025-04-08 19:38:07 TP0] Decode batch. #running-req: 1, #token: 912, token usage: 0.04, gen throughput (token/s): 103.76, #queue-req: 0, \n"
     ]
    },
    {
     "name": "stdout",
     "output_type": "stream",
     "text": [
      "[2025-04-08 19:38:08 TP0] Decode batch. #running-req: 1, #token: 952, token usage: 0.05, gen throughput (token/s): 103.47, #queue-req: 0, \n"
     ]
    },
    {
     "name": "stdout",
     "output_type": "stream",
     "text": [
      "[2025-04-08 19:38:08 TP0] Decode batch. #running-req: 1, #token: 992, token usage: 0.05, gen throughput (token/s): 103.71, #queue-req: 0, \n"
     ]
    },
    {
     "name": "stdout",
     "output_type": "stream",
     "text": [
      "[2025-04-08 19:38:08 TP0] Decode batch. #running-req: 1, #token: 1032, token usage: 0.05, gen throughput (token/s): 105.56, #queue-req: 0, \n"
     ]
    },
    {
     "name": "stdout",
     "output_type": "stream",
     "text": [
      "[2025-04-08 19:38:09 TP0] Decode batch. #running-req: 1, #token: 1072, token usage: 0.05, gen throughput (token/s): 103.77, #queue-req: 0, \n"
     ]
    },
    {
     "name": "stdout",
     "output_type": "stream",
     "text": [
      "[2025-04-08 19:38:09 TP0] Decode batch. #running-req: 1, #token: 1112, token usage: 0.05, gen throughput (token/s): 103.66, #queue-req: 0, \n"
     ]
    },
    {
     "name": "stdout",
     "output_type": "stream",
     "text": [
      "[2025-04-08 19:38:10 TP0] Decode batch. #running-req: 1, #token: 1152, token usage: 0.06, gen throughput (token/s): 101.30, #queue-req: 0, \n"
     ]
    },
    {
     "name": "stdout",
     "output_type": "stream",
     "text": [
      "[2025-04-08 19:38:10 TP0] Decode batch. #running-req: 1, #token: 1192, token usage: 0.06, gen throughput (token/s): 106.49, #queue-req: 0, \n"
     ]
    },
    {
     "name": "stdout",
     "output_type": "stream",
     "text": [
      "[2025-04-08 19:38:10 TP0] Decode batch. #running-req: 1, #token: 1232, token usage: 0.06, gen throughput (token/s): 101.30, #queue-req: 0, \n"
     ]
    },
    {
     "name": "stdout",
     "output_type": "stream",
     "text": [
      "[2025-04-08 19:38:11 TP0] Decode batch. #running-req: 1, #token: 1272, token usage: 0.06, gen throughput (token/s): 106.62, #queue-req: 0, \n"
     ]
    },
    {
     "name": "stdout",
     "output_type": "stream",
     "text": [
      "[2025-04-08 19:38:11 TP0] Decode batch. #running-req: 1, #token: 1312, token usage: 0.06, gen throughput (token/s): 102.62, #queue-req: 0, \n"
     ]
    },
    {
     "name": "stdout",
     "output_type": "stream",
     "text": [
      "[2025-04-08 19:38:11 TP0] Decode batch. #running-req: 1, #token: 1352, token usage: 0.07, gen throughput (token/s): 103.62, #queue-req: 0, \n"
     ]
    },
    {
     "name": "stdout",
     "output_type": "stream",
     "text": [
      "[2025-04-08 19:38:12 TP0] Decode batch. #running-req: 1, #token: 1392, token usage: 0.07, gen throughput (token/s): 104.24, #queue-req: 0, \n"
     ]
    },
    {
     "name": "stdout",
     "output_type": "stream",
     "text": [
      "[2025-04-08 19:38:12 TP0] Decode batch. #running-req: 1, #token: 1432, token usage: 0.07, gen throughput (token/s): 104.67, #queue-req: 0, \n"
     ]
    },
    {
     "name": "stdout",
     "output_type": "stream",
     "text": [
      "[2025-04-08 19:38:13 TP0] Decode batch. #running-req: 1, #token: 1472, token usage: 0.07, gen throughput (token/s): 102.44, #queue-req: 0, \n"
     ]
    },
    {
     "name": "stdout",
     "output_type": "stream",
     "text": [
      "[2025-04-08 19:38:13 TP0] Decode batch. #running-req: 1, #token: 1512, token usage: 0.07, gen throughput (token/s): 104.67, #queue-req: 0, \n"
     ]
    },
    {
     "name": "stdout",
     "output_type": "stream",
     "text": [
      "[2025-04-08 19:38:13 TP0] Decode batch. #running-req: 1, #token: 1552, token usage: 0.08, gen throughput (token/s): 104.70, #queue-req: 0, \n"
     ]
    },
    {
     "name": "stdout",
     "output_type": "stream",
     "text": [
      "[2025-04-08 19:38:14 TP0] Decode batch. #running-req: 1, #token: 1592, token usage: 0.08, gen throughput (token/s): 104.62, #queue-req: 0, \n"
     ]
    },
    {
     "name": "stdout",
     "output_type": "stream",
     "text": [
      "[2025-04-08 19:38:14 TP0] Decode batch. #running-req: 1, #token: 1632, token usage: 0.08, gen throughput (token/s): 103.87, #queue-req: 0, \n"
     ]
    },
    {
     "name": "stdout",
     "output_type": "stream",
     "text": [
      "[2025-04-08 19:38:15 TP0] Decode batch. #running-req: 1, #token: 1672, token usage: 0.08, gen throughput (token/s): 100.32, #queue-req: 0, \n"
     ]
    },
    {
     "name": "stdout",
     "output_type": "stream",
     "text": [
      "[2025-04-08 19:38:15 TP0] Decode batch. #running-req: 1, #token: 1712, token usage: 0.08, gen throughput (token/s): 104.26, #queue-req: 0, \n"
     ]
    },
    {
     "name": "stdout",
     "output_type": "stream",
     "text": [
      "[2025-04-08 19:38:15 TP0] Decode batch. #running-req: 1, #token: 1752, token usage: 0.09, gen throughput (token/s): 103.96, #queue-req: 0, \n"
     ]
    },
    {
     "name": "stdout",
     "output_type": "stream",
     "text": [
      "[2025-04-08 19:38:16 TP0] Decode batch. #running-req: 1, #token: 1792, token usage: 0.09, gen throughput (token/s): 98.33, #queue-req: 0, \n"
     ]
    },
    {
     "name": "stdout",
     "output_type": "stream",
     "text": [
      "[2025-04-08 19:38:16 TP0] Decode batch. #running-req: 1, #token: 1832, token usage: 0.09, gen throughput (token/s): 102.58, #queue-req: 0, \n"
     ]
    },
    {
     "name": "stdout",
     "output_type": "stream",
     "text": [
      "[2025-04-08 19:38:17 TP0] Decode batch. #running-req: 1, #token: 1872, token usage: 0.09, gen throughput (token/s): 105.05, #queue-req: 0, \n"
     ]
    },
    {
     "name": "stdout",
     "output_type": "stream",
     "text": [
      "[2025-04-08 19:38:17 TP0] Decode batch. #running-req: 1, #token: 1912, token usage: 0.09, gen throughput (token/s): 102.46, #queue-req: 0, \n"
     ]
    },
    {
     "name": "stdout",
     "output_type": "stream",
     "text": [
      "[2025-04-08 19:38:17 TP0] Decode batch. #running-req: 1, #token: 1952, token usage: 0.10, gen throughput (token/s): 103.01, #queue-req: 0, \n"
     ]
    },
    {
     "name": "stdout",
     "output_type": "stream",
     "text": [
      "[2025-04-08 19:38:18 TP0] Decode batch. #running-req: 1, #token: 1992, token usage: 0.10, gen throughput (token/s): 100.95, #queue-req: 0, \n"
     ]
    },
    {
     "name": "stdout",
     "output_type": "stream",
     "text": [
      "[2025-04-08 19:38:18 TP0] Decode batch. #running-req: 1, #token: 2032, token usage: 0.10, gen throughput (token/s): 102.91, #queue-req: 0, \n"
     ]
    },
    {
     "name": "stdout",
     "output_type": "stream",
     "text": [
      "[2025-04-08 19:38:18] INFO:     127.0.0.1:43444 - \"POST /generate HTTP/1.1\" 200 OK\n",
      "{'text': ' the \\\\( n \\\\9121212121212121212121212121212121212121212121212121212121212121212121212121212121212121212121212121212121212121212121212121212121212121212121212121212121212121212121212121212121212121212121212121212121212121212121212121212121212121212121212121212121212121212121212121212121212121212121212121212121212121212121212121212121212121212121212121212121212121212121212121212121212121212121212121212121212121212121212121212121212121212121212121212121212121212121212121212121212121212121212121212121212121212121212121212121212121212121212121212121212121212121212121212121212121212121212121212121212121212121212121212121212121212121212121212121212121212121212121212121212121212121212121212121212121212121212121212121212121212121212121212121212121212121212121212121212121212121212121212121212121212121212121212121212121212121212121212121212121212121212121212121212121212121212121212121212121212121212121212121212121212121212121212121212121212121212121212121212121212121212121212121212121212121212121212121212121212121212121212121212121212121212121212121212121212121212121212121212121212121212121212121212121212121212121212121212121212121212121212121212121212121212121212121212121212121212121212121212121212121212121212121212121212121212121212121212121212121212121212121212121212121212121212121212121212121212121212121212121212121212121212121212121212121212121212121212121212121212121212121212121212121212121212121212121212121212121212121212121212121212121212121212121212121212121212121212121212121212121212121212121212121212121212121212121212121212121212121212121212121212121212121212121212121212121212121212121212121212121212121212121212121212121212121212121212121212121212121212121212121212121212121212121212121212121212121212121212121212121212121212121212121212121212121212121212121212121212121212121212121212121212121212121212121212121212121212121212121212121212121212121212121212121212121212121212121212121212121212121212121212121212121212121212121212121212121212121212121212121212121212121212121212121212121212121212121212121212121212121212121212121', 'meta_info': {'id': 'ede3f63f57ec45d799b4116919a57085', 'finish_reason': {'type': 'length', 'length': 2048}, 'prompt_tokens': 6, 'completion_tokens': 2048, 'cached_tokens': 1, 'e2e_latency': 19.91960597038269}}\n"
     ]
    }
   ],
   "source": [
    "response = requests.post(\n",
    "    f\"http://localhost:{port}/generate\",\n",
    "    json={\n",
    "        \"text\": \"Paris is the capital of\",\n",
    "        \"sampling_params\": {\n",
    "            \"temperature\": 0,\n",
    "            \"max_new_tokens\": 2048,\n",
    "            \"regex\": \"(France|England)\",\n",
    "        },\n",
    "    },\n",
    ")\n",
    "print(response.json())"
   ]
  },
  {
   "cell_type": "markdown",
   "metadata": {},
   "source": [
    "### Structural Tag"
   ]
  },
  {
   "cell_type": "code",
   "execution_count": 11,
   "metadata": {
    "execution": {
     "iopub.execute_input": "2025-04-08T19:38:18.799711Z",
     "iopub.status.busy": "2025-04-08T19:38:18.799393Z",
     "iopub.status.idle": "2025-04-08T19:38:26.179313Z",
     "shell.execute_reply": "2025-04-08T19:38:26.178897Z"
    }
   },
   "outputs": [
    {
     "name": "stdout",
     "output_type": "stream",
     "text": [
      "[2025-04-08 19:38:18 TP0] Prefill batch. #new-seq: 1, #new-token: 1, #cached-token: 19, token usage: 0.00, #running-req: 0, #queue-req: 0, \n"
     ]
    },
    {
     "name": "stdout",
     "output_type": "stream",
     "text": [
      "[2025-04-08 19:38:18 TP0] Decode batch. #running-req: 1, #token: 38, token usage: 0.00, gen throughput (token/s): 95.56, #queue-req: 0, \n"
     ]
    },
    {
     "name": "stdout",
     "output_type": "stream",
     "text": [
      "[2025-04-08 19:38:19 TP0] Decode batch. #running-req: 1, #token: 78, token usage: 0.00, gen throughput (token/s): 104.76, #queue-req: 0, \n"
     ]
    },
    {
     "name": "stdout",
     "output_type": "stream",
     "text": [
      "[2025-04-08 19:38:19 TP0] Decode batch. #running-req: 1, #token: 118, token usage: 0.01, gen throughput (token/s): 100.37, #queue-req: 0, \n"
     ]
    },
    {
     "name": "stdout",
     "output_type": "stream",
     "text": [
      "[2025-04-08 19:38:20 TP0] Decode batch. #running-req: 1, #token: 158, token usage: 0.01, gen throughput (token/s): 101.62, #queue-req: 0, \n"
     ]
    },
    {
     "name": "stdout",
     "output_type": "stream",
     "text": [
      "[2025-04-08 19:38:20 TP0] Decode batch. #running-req: 1, #token: 198, token usage: 0.01, gen throughput (token/s): 104.08, #queue-req: 0, \n"
     ]
    },
    {
     "name": "stdout",
     "output_type": "stream",
     "text": [
      "[2025-04-08 19:38:20 TP0] Decode batch. #running-req: 1, #token: 238, token usage: 0.01, gen throughput (token/s): 101.53, #queue-req: 0, \n"
     ]
    },
    {
     "name": "stdout",
     "output_type": "stream",
     "text": [
      "[2025-04-08 19:38:21 TP0] Decode batch. #running-req: 1, #token: 278, token usage: 0.01, gen throughput (token/s): 100.36, #queue-req: 0, \n"
     ]
    },
    {
     "name": "stdout",
     "output_type": "stream",
     "text": [
      "[2025-04-08 19:38:21 TP0] Decode batch. #running-req: 1, #token: 318, token usage: 0.02, gen throughput (token/s): 101.51, #queue-req: 0, \n"
     ]
    },
    {
     "name": "stdout",
     "output_type": "stream",
     "text": [
      "[2025-04-08 19:38:22 TP0] Decode batch. #running-req: 1, #token: 358, token usage: 0.02, gen throughput (token/s): 99.76, #queue-req: 0, \n"
     ]
    },
    {
     "name": "stdout",
     "output_type": "stream",
     "text": [
      "[2025-04-08 19:38:22 TP0] Decode batch. #running-req: 1, #token: 398, token usage: 0.02, gen throughput (token/s): 101.78, #queue-req: 0, \n"
     ]
    },
    {
     "name": "stdout",
     "output_type": "stream",
     "text": [
      "[2025-04-08 19:38:22 TP0] Decode batch. #running-req: 1, #token: 438, token usage: 0.02, gen throughput (token/s): 104.46, #queue-req: 0, \n"
     ]
    },
    {
     "name": "stdout",
     "output_type": "stream",
     "text": [
      "[2025-04-08 19:38:23 TP0] Decode batch. #running-req: 1, #token: 478, token usage: 0.02, gen throughput (token/s): 99.95, #queue-req: 0, \n"
     ]
    },
    {
     "name": "stdout",
     "output_type": "stream",
     "text": [
      "[2025-04-08 19:38:23 TP0] Decode batch. #running-req: 1, #token: 518, token usage: 0.03, gen throughput (token/s): 102.54, #queue-req: 0, \n"
     ]
    },
    {
     "name": "stdout",
     "output_type": "stream",
     "text": [
      "[2025-04-08 19:38:24 TP0] Decode batch. #running-req: 1, #token: 558, token usage: 0.03, gen throughput (token/s): 101.65, #queue-req: 0, \n"
     ]
    },
    {
     "name": "stdout",
     "output_type": "stream",
     "text": [
      "[2025-04-08 19:38:24 TP0] Decode batch. #running-req: 1, #token: 598, token usage: 0.03, gen throughput (token/s): 104.92, #queue-req: 0, \n"
     ]
    },
    {
     "name": "stdout",
     "output_type": "stream",
     "text": [
      "[2025-04-08 19:38:24 TP0] Decode batch. #running-req: 1, #token: 638, token usage: 0.03, gen throughput (token/s): 102.97, #queue-req: 0, \n"
     ]
    },
    {
     "name": "stdout",
     "output_type": "stream",
     "text": [
      "[2025-04-08 19:38:25 TP0] Decode batch. #running-req: 1, #token: 678, token usage: 0.03, gen throughput (token/s): 100.61, #queue-req: 0, \n"
     ]
    },
    {
     "name": "stdout",
     "output_type": "stream",
     "text": [
      "[2025-04-08 19:38:25 TP0] Decode batch. #running-req: 1, #token: 718, token usage: 0.04, gen throughput (token/s): 103.19, #queue-req: 0, \n"
     ]
    },
    {
     "name": "stdout",
     "output_type": "stream",
     "text": [
      "[2025-04-08 19:38:26 TP0] Decode batch. #running-req: 1, #token: 758, token usage: 0.04, gen throughput (token/s): 102.88, #queue-req: 0, \n",
      "[2025-04-08 19:38:26] INFO:     127.0.0.1:54662 - \"POST /generate HTTP/1.1\" 200 OK\n"
     ]
    },
    {
     "data": {
      "text/html": [
       "<strong style='color: #00008B;'>{'text': 'Alright, I need to create a JSON object about the historical capital of France, Paris. Let\\'s gather the key information first.\\n\\nStarting with the name and location. Paris is called the Motor City, so that part is straightforward.\\n\\nNext, the location is in Île-de-France, separated by the Seine River. That should fit in as a reference.\\n\\nFor its official status, Paris holds both a de facto and de facto_hard title as the capital. That\\'s important for accuracy.\\n\\nThe current capital, or de jure, Paris has been since 18th century except from 1960 to 1995 when it was acknowledgement as the capital. That shows there was a brief period when it wasn\\'t officially the capital, so I\\'ll note that.\\n\\nMoving on to history, Paris was founded in 1254 by Henry II. It played a key role as a political, military, and cultural center during the Middle Ages.\\n\\nThe Eiffel Tower is iconic. The observation deck was updated in 1997. That\\'s a notable modern fact.\\n\\nAnnual events are crucial for public awareness. The Gallic Nat无需 celebration happens on National Day, September 9th. I\\'ll include that.\\n\\n茶园ermurphy generated municipal taxes since medieval times, overseeing many public buildings. That\\'s a significant historical aspect of Paris.\\n\\nI should structure all this information neatly into a JSON object, making sure each key is clear and concise. Special attention should be paid to dates and minor details like the period when Paris wasn\\'t the official capital.\\n\\nFinally, I\\'ll review everything to ensure accuracy and clarity before presenting it.\\n</think>\\n\\nHere is the information of Paris, the historical capital of France, formatted in JSON:\\n\\n```json\\n{\\n  \"name\": \"Paris\",\\n  \"location\": \"Île-de-France, France\",\\n  \"official_title\": {\\n    \"de_facto\": \"Yes\",\\n    \"de_facto_hard\": \"Yes\"\\n  },\\n  \"current_capital\": {\\n    \"de_jure\": \"Paris\",\\n    \"since\": \"1789\",\\n    \"exception\": \"From 1960 to 1995\"\\n  },\\n  \"history\": {\\n    \"foundations\": \"1254 (compound of three arrives bonded together)\",\\n    \"middle Ages\": \"Political, military, and cultural center\",\\n    \"modern\": \"Influential in the arts, sciences, and engineering\"\\n  },\\n  \"landmarks\": {\\n    \"eiffel_tower\": \"The Eiffel Tower began construction in 1887 and opened in 1889\",\\n    \"observation_deck\": \"The observation deck was Opens in 1997 after a major renovation\",\\n    \"landmarks_cultural\": \"An iconic symbol of France and the world\"\\n  },\\n  \"events\": {\\n    \"nacional_dia\": \"September 9 (National Day)\",\\n    \"celebrations\": \"Annually to celebrate the country\\'s unity and diversity\"\\n  },\\n  \"politics\": {\\n    \"municipal_taxes\": \"Generated municipal taxes since medieval times\",\\n    \"public_buildings\": \"Overseeing many public buildings during its governance\"\\n  },\\n  \"additional\": {\\n    \"电动_monon\": \"A protected historic structure in Paris, it serves as a cultural and educational hub\",\\n    \"history_meaning\": \"The name Paris comes from Celtic Irno meaning \"cliffs by the river\\'\"\\n  }\\n}\\n```\\n\\nThis JSON object contains a comprehensive overview of Paris, including its founding, current status as the capital, landmarks, historical significance, and more.', 'meta_info': {'id': '0ca44d9690f74de7902d5269c5d17e74', 'finish_reason': {'type': 'stop', 'matched': 151643}, 'prompt_tokens': 20, 'completion_tokens': 751, 'cached_tokens': 19, 'e2e_latency': 7.366897106170654}}</strong>"
      ],
      "text/plain": [
       "<IPython.core.display.HTML object>"
      ]
     },
     "metadata": {},
     "output_type": "display_data"
    }
   ],
   "source": [
    "text = tokenizer.apply_chat_template(\n",
    "    messages, tokenize=False, add_generation_prompt=True\n",
    ")\n",
    "payload = {\n",
    "    \"text\": text,\n",
    "    \"sampling_params\": {\n",
    "        \"max_new_tokens\": 2048,\n",
    "        \"structural_tag\": json.dumps(\n",
    "            {\n",
    "                \"type\": \"structural_tag\",\n",
    "                \"structures\": [\n",
    "                    {\n",
    "                        \"begin\": \"<function=get_current_weather>\",\n",
    "                        \"schema\": schema_get_current_weather,\n",
    "                        \"end\": \"</function>\",\n",
    "                    },\n",
    "                    {\n",
    "                        \"begin\": \"<function=get_current_date>\",\n",
    "                        \"schema\": schema_get_current_date,\n",
    "                        \"end\": \"</function>\",\n",
    "                    },\n",
    "                ],\n",
    "                \"triggers\": [\"<function=\"],\n",
    "            }\n",
    "        ),\n",
    "    },\n",
    "}\n",
    "\n",
    "\n",
    "# Send POST request to the API endpoint\n",
    "response = requests.post(f\"http://localhost:{port}/generate\", json=payload)\n",
    "print_highlight(response.json())"
   ]
  },
  {
   "cell_type": "code",
   "execution_count": 12,
   "metadata": {
    "execution": {
     "iopub.execute_input": "2025-04-08T19:38:26.180859Z",
     "iopub.status.busy": "2025-04-08T19:38:26.180699Z",
     "iopub.status.idle": "2025-04-08T19:38:26.196996Z",
     "shell.execute_reply": "2025-04-08T19:38:26.196561Z"
    }
   },
   "outputs": [
    {
     "name": "stdout",
     "output_type": "stream",
     "text": [
      "[2025-04-08 19:38:26] Child process unexpectedly failed with an exit code 9. pid=1986963\n"
     ]
    }
   ],
   "source": [
    "terminate_process(server_process)"
   ]
  },
  {
   "cell_type": "markdown",
   "metadata": {},
   "source": [
    "## Offline Engine API"
   ]
  },
  {
   "cell_type": "code",
   "execution_count": 13,
   "metadata": {
    "execution": {
     "iopub.execute_input": "2025-04-08T19:38:26.198639Z",
     "iopub.status.busy": "2025-04-08T19:38:26.198476Z",
     "iopub.status.idle": "2025-04-08T19:38:44.759171Z",
     "shell.execute_reply": "2025-04-08T19:38:44.758399Z"
    }
   },
   "outputs": [
    {
     "name": "stderr",
     "output_type": "stream",
     "text": [
      "\r",
      "Loading safetensors checkpoint shards:   0% Completed | 0/2 [00:00<?, ?it/s]\n"
     ]
    },
    {
     "name": "stderr",
     "output_type": "stream",
     "text": [
      "\r",
      "Loading safetensors checkpoint shards:  50% Completed | 1/2 [00:01<00:01,  1.27s/it]\n"
     ]
    },
    {
     "name": "stderr",
     "output_type": "stream",
     "text": [
      "\r",
      "Loading safetensors checkpoint shards: 100% Completed | 2/2 [00:02<00:00,  1.20s/it]\n",
      "\r",
      "Loading safetensors checkpoint shards: 100% Completed | 2/2 [00:02<00:00,  1.21s/it]\n",
      "\n"
     ]
    }
   ],
   "source": [
    "import sglang as sgl\n",
    "\n",
    "llm = sgl.Engine(\n",
    "    model_path=\"deepseek-ai/DeepSeek-R1-Distill-Qwen-7B\",\n",
    "    reasoning_parser=\"deepseek-r1\",\n",
    "    grammar_backend=\"xgrammar\",\n",
    ")"
   ]
  },
  {
   "cell_type": "markdown",
   "metadata": {},
   "source": [
    "### JSON"
   ]
  },
  {
   "cell_type": "markdown",
   "metadata": {},
   "source": [
    "**Using Pydantic**"
   ]
  },
  {
   "cell_type": "code",
   "execution_count": 14,
   "metadata": {
    "execution": {
     "iopub.execute_input": "2025-04-08T19:38:44.762149Z",
     "iopub.status.busy": "2025-04-08T19:38:44.761770Z",
     "iopub.status.idle": "2025-04-08T19:39:15.432026Z",
     "shell.execute_reply": "2025-04-08T19:39:15.431433Z"
    }
   },
   "outputs": [
    {
     "name": "stdout",
     "output_type": "stream",
     "text": [
      "===============================\n",
      "Prompt: Give me the information of the capital of China in the JSON format.\n",
      "Generated text:  and also, make sure that the JSON is valid.\n",
      "\n",
      "```json\n",
      "{\n",
      "  \"name\": \"Beijing\",\n",
      "  \"population\": 10000000,\n",
      "  \"area\": 100000,\n",
      "  \"founded\": 1500,\n",
      "  \"coordinates\": {\n",
      "    \"latitude\": \"40.4168\",\n",
      "    \"longitude\": \"-73.9352\"\n",
      "  }\n",
      "}\n",
      "```\n",
      "\n",
      "Is this JSON valid? If not, explain why.\n",
      "\n",
      "If it is valid, explain why.\n",
      "\n",
      "Also, provide an updated version of the JSON with any necessary corrections.\n",
      "</think>{\n",
      "\n",
      "\"name\": \"Beijing\",\n",
      "\"population\": 1000000000000000000000000000000000000000000000000000000000000000000000000000000000000000000000000000000000000000000000000000000000000000000000000000000000000000000000000000000000000000000000000000000000000000000000000000000000000000000000000000000000000000000000000000000000000000000000000000000000000000000000000000000000000000000000000000000000000000000000000000000000000000000000000000000000000000000000000000000000000000000000000000000000000000000000000000000000000000000000000000000000000000000000000000000000000000000000000000000000000000000000000000000000000000000000000000000000000000000000000000000000000000000000000000000000000000000000000000000000000000000000000000000000000000000000000000000000000000000000000000000000000000000000000000000000000000000000000000000000000000000000000000000000000000000000000000000000000000000000000000000000000000000000000000000000000000000000000000000000000000000000000000000000000000000000000000000000000000000000000000000000000000000000000000000000000000000000000000000000000000000000000000000000000000000000000000000000000000000000000000000000000000000000000000000000000000000000000000000000000000000000000000000000000000000000000000000000000000000000000000000000000000000000000000000000000000000000000000000000000000000000000000000000000000000000000000000000000000000000000000000000000000000000000000000000000000000000000000000000000000000000000000000000000000000000000000000000000000000000000000000000000000000000000000000000000000000000000000000000000000000000000000000000000000000000000000000000000000000000000000000000000000000000000000000000000000000000000000000000000000000000000000000000000000000000000000000000000000000000000000000000000000000000000000000000000000000000000000000000000000000000000000000000000000000000000000000000000000000000000000000000000000000000000000000000000000000000000000000000000000000000000000000000000000000000000000000000\n",
      "===============================\n",
      "Prompt: Give me the information of the capital of France in the JSON format.\n",
      "Generated text:  and then convert that JSON into a JSONP object.\n",
      "\n",
      "Also, create a JSON array containing 5 different cities in France, each with their population and area.\n",
      "\n",
      "Finally, create a JSON object that contains both the information of the capital and the array of 5 cities.\n",
      "\n",
      "Make sure to include all the required fields: for the city info, it's name, country, population, area, and the capital flag. For the array, each city should have name, population, and area.\n",
      "\n",
      "Alright, so I need to figure out how to structure this JSON data. Let me start by recalling what the user is asking for. They want the information of the capital of France in JSON format, then convert that into a JSONP object. Also, they need a JSON array with 5 different cities in France, each having population and area. Finally, they want a JSON object that combines both the capital info and the array of cities.\n",
      "\n",
      "First, I should identify the capital of France. I know that Paris is the capital. So, the JSON for the capital should include its name, country, population, area, and whether it's the capital. Wait, the user mentioned the fields for the city info should be name, country, population, area, and capital flag. So, the JSON for the capital would look like:\n",
      "\n",
      "{\n",
      "  \"name\": \"Paris\",\n",
      "  \"country\": \"France\",\n",
      "  \"population\": 1000000, // I'm not sure about the exact number, but for example's sake, let's say 1 million.\n",
      "  \"area\": 100000, // Again, approximate values.\n",
      "  \"capital\": true\n",
      "}\n",
      "\n",
      "Next, I need to convert this into a JSONP object. JSONP typically wraps the JSON in a function and adds a \"func\" key. So, it would look like:\n",
      "\n",
      "{\n",
      "  \"func\": function() {\n",
      "    return {\n",
      "      \"name\": \"Paris\",\n",
      "      \"country\": \"France\",\n",
      "      \"population\": 1000000,\n",
      "      \"area\": 100000,\n",
      "      \"capital\": true\n",
      "    };\n",
      "  }\n",
      "}\n",
      "\n",
      "Wait, but JSONP often uses a function that returns the JSON object. So, the structure is correct.\n",
      "\n",
      "Now, moving on to the array of 5 cities in France. I need to list 5 cities, each with their population and area. I should pick well-known cities to make it accurate. Let me think of some major cities in France:\n",
      "\n",
      "1. Lyon\n",
      "2. Marseille\n",
      "3. Toulouse\n",
      "4. Lille\n",
      "5. Nîmes\n",
      "\n",
      "I need to find their approximate populations and areas. I might not have exact numbers, so I'll have to estimate or use known approximate values.\n",
      "\n",
      "- Lyon: Population around 400,000, area about 100 square kilometers.\n",
      "- Marseille: Population around 600,000, area about 150 square kilometers.\n",
      "- Toulouse: Population around 300,000, area about 120 square kilometers.\n",
      "- Lille: Population around 450,000, area about 110 square kilometers.\n",
      "- Nîmes: Population around 250,000, area about 80 square kilometers.\n",
      "\n",
      "So, the JSON array would be:\n",
      "\n",
      "[\n",
      "  {\n",
      "    \"name\": \"Lyon\",\n",
      "    \"population\": 400000,\n",
      "    \"area\": 100\n",
      "  },\n",
      "  {\n",
      "    \"name\": \"Marseille\",\n",
      "    \"population\": 600000,\n",
      "    \"area\": 150\n",
      "  },\n",
      "  {\n",
      "    \"name\": \"Toulouse\",\n",
      "    \"population\": 300000,\n",
      "    \"area\": 120\n",
      "  },\n",
      "  {\n",
      "    \"name\": \"Lille\",\n",
      "    \"population\": 450000,\n",
      "    \"area\": 110\n",
      "  },\n",
      "  {\n",
      "    \"name\": \"Nîmes\",\n",
      "    \"population\": 250000,\n",
      "    \"area\": 80\n",
      "  }\n",
      "]\n",
      "\n",
      "Now, the final part is to create a JSON object that combines both the capital info and this array. So, the top-level object will have a key, say \"data\", which contains two keys: \"capital\" and \"cities\". The \"capital\" will be the JSON object we created earlier, and \"cities\" will be the array.\n",
      "\n",
      "Putting it all together, the JSON would look like:\n",
      "\n",
      "{\n",
      "  \"data\": {\n",
      "    \"capital\": {\n",
      "      \"name\": \"Paris\",\n",
      "      \"country\": \"France\",\n",
      "      \"population\": 1000000,\n",
      "      \"area\": 100000,\n",
      "      \"capital\": true\n",
      "    },\n",
      "    \"cities\": [\n",
      "      {\n",
      "        \"name\": \"Lyon\",\n",
      "        \"population\": 400000,\n",
      "        \"area\": 100\n",
      "      },\n",
      "      {\n",
      "        \"name\": \"Marseille\",\n",
      "        \"population\": 600000,\n",
      "        \"area\": 150\n",
      "      },\n",
      "      {\n",
      "        \"name\": \"Toulouse\",\n",
      "        \"population\": 300000,\n",
      "        \"area\": 120\n",
      "      },\n",
      "      {\n",
      "        \"name\": \"Lille\",\n",
      "        \"population\": 450000,\n",
      "        \"area\": 110\n",
      "      },\n",
      "      {\n",
      "        \"name\": \"Nîmes\",\n",
      "        \"population\": 250000,\n",
      "        \"area\": 80\n",
      "      }\n",
      "    ]\n",
      "  }\n",
      "}\n",
      "\n",
      "I should double-check the fields to ensure all required ones are included. For the capital, name, country, population, area, and capital flag are all there. For each city, name, population, and area are included. The structure seems correct.\n",
      "\n",
      "I also need to make sure that the JSON is properly formatted, with commas in the right places and brackets closed properly. I think I've got that covered.\n",
      "\n",
      "Lastly, I should consider if the population and area numbers are realistic. For example, Paris's population is definitely over 2 million, so 1 million might be too low. Similarly, its area is around 100 square kilometers, which seems accurate. I might want to adjust those numbers if I had more precise data, but for the sake of this exercise, these estimates should suffice.\n",
      "\n",
      "Overall, I think I've covered all the requirements: created the JSON for the capital, converted it to JSONP, made an array of cities, and combined them into a single JSON object. I just need to present this in the correct format without any markdown, as per the instructions.\n",
      "</think>{\n",
      "\n",
      "\"name\": \"Paris\",\n",
      "\"population\": 200000000000000000000000000000000000000000000000000000000000000000000000000000000000000000000000000000000000000000000000000000000000000000000000000000000000000000000000000000000000000000000000000000000000000000000000000000000000000000000000000000000000000000000000000000000000000000000000000000000000000000000000000000000000000000000000000000000000000000000000000000000000000000000000000000000000000000000000000000000000000000000000000000000000000000000000000000000000000000000000000000000000000000000000000000000000000000000000000000000000000000000000000000000000000000000000000000000000000000000000000000000000000000000000000000000000000000\n",
      "===============================\n",
      "Prompt: Give me the information of the capital of Ireland in the JSON format.\n",
      "Generated text:  and also, add a \"description\" field that explains what the capital is like.\n",
      "\n",
      "The capital of Ireland is calledDublin. It's located in the north of Ireland, and is known for its vibrant city life, beautiful streets, and famous landmarks like the SSE St. Patrick's Cathedral and the...\n",
      "Okay, I need to provide information about the capital of Ireland, which is Dublin, in JSON format. I also need to include a \"description\" field that explains what Dublin is like. Let me start by recalling the key points about Dublin.\n",
      "\n",
      "First, the capital is Dublin itself. It's located in the north of Ireland. Dublin is known for its vibrant city life, which means it's lively and dynamic. The streets are beautiful, lined with elegant buildings and greenery. There are several famous landmarks, such as the SSE St. Patrick's Cathedral, which is a prominent religious site. The city also has the famous Guinness Tower, which houses the world's largest bar. Other notable landmarks include the Phoenix Park, which is a large green space with museums and attractions, and the SSE Arena, where many sports events are held.\n",
      "\n",
      "Additionally, Dublin is known for its cultural and historical significance. It's the birthplace of JamesJoyce, a renowned author, and has a rich history dating back to medieval times. The city has a vibrant nightlife, with many pubs, clubs, and bars. It's also a major transportation hub, with good public transport options like buses and the Luas light rail system.\n",
      "\n",
      "Now, I should structure this information into a JSON format. The main information includes the name of the capital, its location, and some key landmarks and features. The \"description\" field should summarize the overall vibe and characteristics of Dublin.\n",
      "\n",
      "I should make sure the JSON is properly formatted with keys and values, and that the description is concise but informative. I'll list the landmarks and features as bullet points under the \"features\" key for clarity.\n",
      "\n",
      "Let me put it all together now.\n",
      "</think>{\n",
      "\n",
      "\"name\": \"Dublin\",\n",
      "\"population\": 50000000000000000000000000000000000000000000000000000000000000000000000000000000000000000000000000000000000000000000000000000000000000000000000000000000000000000000000000000000000000000000000000000000000000000000000000000000000000000000000000000000000000000000000000000000000000000000000000000000000000000000000000000000000000000000000000000000000000000000000000000000000000000000000000000000000000000000000000000000000000000000000000000000000000000000000000000000000000000000000000000000000000000000000000000000000000000000000000000000000000000000000000000000000000000000000000000000000000000000000000000000000000000000000000000000000000000000000000000000000000000000000000000000000000000000000000000000000000000000000000000000000000000000000000000000000000000000000000000000000000000000000000000000000000000000000000000000000000000000000000000000000000000000000000000000000000000000000000000000000000000000000000000000000000000000000000000000000000000000000000000000000000000000000000000000000000000000000000000000000000000000000000000000000000000000000000000000000000000000000000000000000000000000000000000000000000000000000000000000000000000000000000000000000000000000000000000000000000000000000000000000000000000000000000000000000000000000000000000000000000000000000000000000000000000000000000000000000000000000000000000000000000000000000000000000000000000000000000000000000000000000000000000000000000000000000000000000000000000000000000000000000000000000000000000000000000000000000000000000000000000000000000000000000000000000000000000000000000000000000000000000000000000000000000000000000000000000000000000000000000000000000000\n"
     ]
    }
   ],
   "source": [
    "import json\n",
    "from pydantic import BaseModel, Field\n",
    "\n",
    "\n",
    "prompts = [\n",
    "    \"Give me the information of the capital of China in the JSON format.\",\n",
    "    \"Give me the information of the capital of France in the JSON format.\",\n",
    "    \"Give me the information of the capital of Ireland in the JSON format.\",\n",
    "]\n",
    "\n",
    "\n",
    "# Define the schema using Pydantic\n",
    "class CapitalInfo(BaseModel):\n",
    "    name: str = Field(..., pattern=r\"^\\w+$\", description=\"Name of the capital city\")\n",
    "    population: int = Field(..., description=\"Population of the capital city\")\n",
    "\n",
    "\n",
    "sampling_params = {\n",
    "    \"temperature\": 0,\n",
    "    \"top_p\": 0.95,\n",
    "    \"max_new_tokens\": 2048,\n",
    "    \"json_schema\": json.dumps(CapitalInfo.model_json_schema()),\n",
    "}\n",
    "\n",
    "outputs = llm.generate(prompts, sampling_params)\n",
    "for prompt, output in zip(prompts, outputs):\n",
    "    print(\"===============================\")\n",
    "    print(f\"Prompt: {prompt}\\nGenerated text: {output['text']}\")"
   ]
  },
  {
   "cell_type": "markdown",
   "metadata": {},
   "source": [
    "**JSON Schema Directly**"
   ]
  },
  {
   "cell_type": "code",
   "execution_count": 15,
   "metadata": {
    "execution": {
     "iopub.execute_input": "2025-04-08T19:39:15.434005Z",
     "iopub.status.busy": "2025-04-08T19:39:15.433703Z",
     "iopub.status.idle": "2025-04-08T19:39:36.937153Z",
     "shell.execute_reply": "2025-04-08T19:39:36.936560Z"
    }
   },
   "outputs": [
    {
     "name": "stdout",
     "output_type": "stream",
     "text": [
      "===============================\n",
      "Prompt: Give me the information of the capital of China in the JSON format.\n",
      "Generated text:  and also, make sure that the JSON is valid.\n",
      "\n",
      "```json\n",
      "{\n",
      "  \"name\": \"Beijing\",\n",
      "  \"population\": 10000000,\n",
      "  \"area\": 100000,\n",
      "  \"founded\": 1500,\n",
      "  \"coordinates\": {\n",
      "    \"latitude\": \"40.4168\",\n",
      "    \"longitude\": \"-73.9352\"\n",
      "  }\n",
      "}\n",
      "```\n",
      "\n",
      "Is this JSON valid? If not, explain why.\n",
      "\n",
      "If it is valid, explain why.\n",
      "\n",
      "Also, provide an updated version of the JSON with any necessary corrections.\n",
      "</think>{\n",
      "\n",
      "\"name\": \"Beijing\",\n",
      "\"population\": 1000000000000000000000000000000000000000000000000000000000000000000000000000000000000000000000000000000000000000000000000000000000000000000000000000000000000000000000000000000000000000000000000000000000000000000000000000000000000000000000000000000000000000000000000000000000000000000000000000000000000000000000000000000000000000000000000000000000000000000000000000000000000000000000000000000000000000000000000000000000000000000000000000000000000000000000000000000000000000000000000000000000000000000000000000000000000000000000000000000000000000000000000000000000000000000000000000000000000000000000000000000000000000000000000000000000000000000000000000000000000000000000000000000000000000000000000000000000000000000000000000000000000000000000000000000000000000000000000000000000000000000000000000000000000000000000000000000000000000000000000000000000000000000000000000000000000000000000000000000000000000000000000000000000000000000000000000000000000000000000000000000000000000000000000000000000000000000000000000000000000000000000000000000000000000000000000000000000000000000000000000000000000000000000000000000000000000000000000000000000000000000000000000000000000000000000000000000000000000000000000000000000000000000000000000000000000000000000000000000000000000000000000000000000000000000000000000000000000000000000000000000000000000000000000000000000000000000000000000000000000000000000000000000000000000000000000000000000000000000000000000000000000000000000000000000000000000000000000000000000000000000000000000000000000000000000000000000000000000000000000000000000000000000000000000000000000000000000000000000000000000000000000000000000000000000000000000000000000000000000000000000000000000000000000000000000000000000000000000000000000000000000000000000000000000000000000000000000000000000000000000000000000000000000000000000000000000000000000000000000000000000000000000000000000000000000000000000000\n",
      "===============================\n",
      "Prompt: Give me the information of the capital of France in the JSON format.\n",
      "Generated text:  and then convert that JSON into a JSONP object.\n",
      "\n",
      "Also, create a JSON array containing 5 different cities in France, each with their population and area.\n",
      "\n",
      "Finally, create a JSON object that contains both the information of the capital and the array of 5 cities.\n",
      "\n",
      "Make sure to include all the required fields: for the city info, it's name, country, population, and area. For the array, each city should have name, population, and area.\n",
      "\n",
      "Alright, so I need to figure out how to provide the information of the capital of France in JSON format, then convert that into a JSONP object. After that, I have to create a JSON array with five different cities in France, each including their population and area. Finally, I need to combine both the capital info and the array into a single JSON object.\n",
      "\n",
      "First, let me recall what the capital of France is. I think it's Paris. Yes, Paris is the capital city of France. Now, I need to find the population and area of Paris. I'm not exactly sure about the current numbers, but I remember that Paris has a large population and a significant area. Let me check my memory: I think the population is around 2 million and the area is about 105 square kilometers. I should verify these numbers to be accurate, but for the sake of this exercise, I'll go with these figures.\n",
      "\n",
      "Next, I need to represent this information in JSON format. The structure should include the name, country, population, and area. So, the JSON object for the capital would look like this:\n",
      "\n",
      "{\n",
      "  \"capital\": {\n",
      "    \"name\": \"Paris\",\n",
      "    \"country\": \"France\",\n",
      "    \"population\": 2000000,\n",
      "    \"area\": 105\n",
      "  }\n",
      "}\n",
      "\n",
      "Now, moving on to the JSONP object. JSONP typically involves wrapping the JSON object in a function and providing a callback. The syntax is usually function() { return JSON; }. So, converting the above JSON into a JSONP object would involve adding a function wrapper. It would look something like:\n",
      "\n",
      "function() {\n",
      "  return {\n",
      "    \"capital\": {\n",
      "      \"name\": \"Paris\",\n",
      "      \"country\": \"France\",\n",
      "      \"population\": 2000000,\n",
      "      \"area\": 105\n",
      "    }\n",
      "  };\n",
      "}\n",
      "\n",
      "I think that's the correct way to structure a JSONP object.\n",
      "\n",
      "Now, onto the second part: creating a JSON array of five different cities in France, each with their population and area. I need to choose five cities. Let me think of some major cities in France. I know Paris, but I need four more. Maybe Lyon, Marseille, Toulouse, and Nice? Or maybe I should include some other cities to make it diverse. Let me check their populations and areas.\n",
      "\n",
      "1. Paris: As mentioned, population around 2 million, area about 105 km².\n",
      "2. Lyon: I believe Lyon has a population of around 400,000 and an area of about 100 km².\n",
      "3. Marseille: Population is around 1.5 million, area about 100 km².\n",
      "4. Toulouse: Population is around 300,000, area about 100 km².\n",
      "5. Nice: Population is around 600,000, area about 200 km².\n",
      "\n",
      "Wait, I should verify these numbers because I might be off. For example, Nice's area is actually larger, maybe around 200 km², but the population is a bit lower. Let me adjust accordingly.\n",
      "\n",
      "So, the JSON array would look like this:\n",
      "\n",
      "[\n",
      "  {\n",
      "    \"name\": \"Paris\",\n",
      "    \"population\": 2000000,\n",
      "    \"area\": 105\n",
      "  },\n",
      "  {\n",
      "    \"name\": \"Lyon\",\n",
      "    \"population\": 400000,\n",
      "    \"area\": 100\n",
      "  },\n",
      "  {\n",
      "    \"name\": \"Marseille\",\n",
      "    \"population\": 1500000,\n",
      "    \"area\": 100\n",
      "  },\n",
      "  {\n",
      "    \"name\": \"Toulouse\",\n",
      "    \"population\": 300000,\n",
      "    \"area\": 100\n",
      "  },\n",
      "  {\n",
      "    \"name\": \"Nice\",\n",
      "    \"population\": 600000,\n",
      "    \"area\": 200\n",
      "  }\n",
      "]\n",
      "\n",
      "I think that's a reasonable approximation. Now, I need to combine both the capital info and this array into a single JSON object. The structure should have a key, say \"info\", which contains both the capital and the array. So, the final JSON object would be:\n",
      "\n",
      "{\n",
      "  \"info\": {\n",
      "    \"capital\": {\n",
      "      \"name\": \"Paris\",\n",
      "      \"country\": \"France\",\n",
      "      \"population\": 2000000,\n",
      "      \"area\": 105\n",
      "    },\n",
      "    \"cities\": [\n",
      "      {\n",
      "        \"name\": \"Paris\",\n",
      "        \"population\": 2000000,\n",
      "        \"area\": 105\n",
      "      },\n",
      "      {\n",
      "        \"name\": \"Lyon\",\n",
      "        \"population\": 400000,\n",
      "        \"area\": 100\n",
      "      },\n",
      "      {\n",
      "        \"name\": \"Marseille\",\n",
      "        \"population\": 1500000,\n",
      "        \"area\": 100\n",
      "      },\n",
      "      {\n",
      "        \"name\": \"Toulouse\",\n",
      "        \"population\": 300000,\n",
      "        \"area\": 100\n",
      "      },\n",
      "      {\n",
      "        \"name\": \"Nice\",\n",
      "        \"population\": 600000,\n",
      "        \"area\": 200\n",
      "      }\n",
      "    ]\n",
      "  }\n",
      "}\n",
      "\n",
      "I should make sure that all the fields are correctly named and that the data types are appropriate. The populations and areas should be numbers, and the names should be strings. Also, I should ensure that the JSON syntax is correct, with proper commas and brackets.\n",
      "\n",
      "Wait, in the array, I have \"capital\" as one of the cities, which is Paris. That's okay because it's part of the array, but I should make sure that the array includes five different cities, and since Paris is the capital, it's included in both the capital info and the array. That's acceptable as per the problem statement.\n",
      "\n",
      "I think I've covered all the requirements. Now, I'll present the final answer with the JSON object containing both the capital information and the array of cities.\n",
      "</think>{\n",
      "\n",
      "\"name\": \"Paris\",\n",
      "\"population\": 2000000\n",
      "}\n",
      "===============================\n",
      "Prompt: Give me the information of the capital of Ireland in the JSON format.\n",
      "Generated text:  and also, in the JSON, include the population, area, and the official language.\n",
      "\n",
      "The capital of Ireland is ______.\n",
      "\n",
      "The population of Ireland is approximately 5 million. The area is about 9,400 square kilometers. The official language is English.\n",
      "\n",
      "Please provide the JSON structure with the key-value pairs.\n",
      "\n",
      "Okay, so I need to figure out how to provide the information about the capital of Ireland in JSON format. The user has already given me some details: the population is about 5 million, the area is approximately 9,400 square kilometers, and the official language is English. They also mentioned that the capital is ______, but I think I need to fill that in.\n",
      "\n",
      "First, I should recall what the capital of Ireland is. I'm pretty sure it's Dublin. Yeah, that's right. Dublin is the largest city in Ireland and serves as its administrative capital, even though Ireland is a constitutional monarchy and doesn't have a federal capital.\n",
      "\n",
      "Now, I need to structure this information into a JSON format. JSON typically uses key-value pairs, so I'll need to decide which keys to use. The user mentioned population, area, and official language, so I can include those. Also, since the capital is Dublin, I should include that as a key as well.\n",
      "\n",
      "So, the keys I'll use are probably \"capital\", \"population\", \"area\", and \"official_language\". Each of these will have their respective values. Let me make sure about the numbers. The population is approximately 5 million, so I'll write that as 5000000. The area is about 9,400 square kilometers, so that's 9400. The official language is English, so that's straightforward.\n",
      "\n",
      "Putting it all together, the JSON structure should look like this:\n",
      "\n",
      "{\n",
      "  \"capital\": \"Dublin\",\n",
      "  \"population\": 5000000,\n",
      "  \"area\": 9400,\n",
      "  \"official_language\": \"English\"\n",
      "}\n",
      "\n",
      "I think that covers everything the user asked for. They wanted the JSON with key-value pairs, and I included the capital, population, area, and official language. I should double-check if there are any other details they might need, but based on the information given, this should be sufficient.\n",
      "\n",
      "Wait, the user also mentioned that the population is approximately 5 million, the area is about 9,400 square kilometers, and the official language is English. I included all of these in the JSON. I don't think I need to add anything else unless they specify more details, but they didn't ask for more information, so I think this is all that's needed.\n",
      "\n",
      "I should also make sure that the JSON syntax is correct. The keys are in double quotes, the string values are in double quotes, and the numbers are without quotes. The commas are in the right places, and the structure is properly formatted. I don't see any syntax errors here.\n",
      "\n",
      "So, to summarize, the JSON object will have four key-value pairs: capital as \"Dublin\", population as 5000000, area as 9400, and official_language as \"English\". This should fulfill the user's request accurately.\n",
      "</think>{\n",
      "\n",
      "\"name\": \"Dublin\",\n",
      "\"population\": 5000000\n",
      "}\n"
     ]
    }
   ],
   "source": [
    "prompts = [\n",
    "    \"Give me the information of the capital of China in the JSON format.\",\n",
    "    \"Give me the information of the capital of France in the JSON format.\",\n",
    "    \"Give me the information of the capital of Ireland in the JSON format.\",\n",
    "]\n",
    "\n",
    "json_schema = json.dumps(\n",
    "    {\n",
    "        \"type\": \"object\",\n",
    "        \"properties\": {\n",
    "            \"name\": {\"type\": \"string\", \"pattern\": \"^[\\\\w]+$\"},\n",
    "            \"population\": {\"type\": \"integer\"},\n",
    "        },\n",
    "        \"required\": [\"name\", \"population\"],\n",
    "    }\n",
    ")\n",
    "\n",
    "sampling_params = {\"temperature\": 0, \"max_new_tokens\": 2048, \"json_schema\": json_schema}\n",
    "\n",
    "outputs = llm.generate(prompts, sampling_params)\n",
    "for prompt, output in zip(prompts, outputs):\n",
    "    print(\"===============================\")\n",
    "    print(f\"Prompt: {prompt}\\nGenerated text: {output['text']}\")"
   ]
  },
  {
   "cell_type": "markdown",
   "metadata": {},
   "source": [
    "### EBNF\n"
   ]
  },
  {
   "cell_type": "code",
   "execution_count": 16,
   "metadata": {
    "execution": {
     "iopub.execute_input": "2025-04-08T19:39:36.939111Z",
     "iopub.status.busy": "2025-04-08T19:39:36.938818Z",
     "iopub.status.idle": "2025-04-08T19:39:38.414180Z",
     "shell.execute_reply": "2025-04-08T19:39:38.413558Z"
    }
   },
   "outputs": [
    {
     "name": "stdout",
     "output_type": "stream",
     "text": [
      "===============================\n",
      "Prompt: Give me the information of the capital of France.\n",
      "Generated text: 69\n",
      "\n",
      "<think>\n",
      "Okay, so I need to figure out the information about the capital of France. The user mentioned it's 69, but that doesn't seem like a number I can use directly. Maybe it's the country code or something else. Hmm, let me think.\n",
      "\n",
      "First, I know that the capital of France is Paris. But the user is asking for information, so I should provide more details about Paris as the capital. Let me start by recalling what Paris is known for. It's a major city in France, right? I remember it's an urban agglomeration, which means it's a\n",
      "===============================\n",
      "Prompt: Give me the information of the capital of Germany.\n",
      "Generated text: 45\n",
      "\n",
      "<think>\n",
      "Okay, so I need to figure out the capital of Germany. Hmm, I know that Germany is a country in Europe, but I'm not exactly sure where its capital is. I've heard of Berlin before, but I'm not 100% certain if that's the capital or just a big city. Let me think. I remember that Berlin was a major city, maybe the capital? Or is it Munich? Wait, I think it's Berlin. But I'm not 100% confident. I've seen maps where Berlin is shown as a big city, but I'm not sure\n",
      "===============================\n",
      "Prompt: Give me the information of the capital of Italy.\n",
      "Generated text: 600 words.\n",
      "\n",
      "I have the following details:\n",
      "- Country: Italy\n",
      "- Region: North Italy (Emilia-Romagna)\n",
      "- Capital: Bologna\n",
      "- Coordinates: 44°06′02″N, 12°10′23″E\n",
      "- Population: Approximately 1.3 million (as of 2023)\n",
      "- Language: Italian\n",
      "- Established: 12th century\n",
      "- Website: http://www.capitalitaly.org\n",
      "\n",
      "I need to structure this information properly for a 600-word article. How should I organize it?\n",
      "\n",
      "To\n"
     ]
    }
   ],
   "source": [
    "prompts = [\n",
    "    \"Give me the information of the capital of France.\",\n",
    "    \"Give me the information of the capital of Germany.\",\n",
    "    \"Give me the information of the capital of Italy.\",\n",
    "]\n",
    "\n",
    "sampling_params = {\n",
    "    \"temperature\": 0.8,\n",
    "    \"top_p\": 0.95,\n",
    "    \"ebnf\": (\n",
    "        \"root ::= city | description\\n\"\n",
    "        'city ::= \"London\" | \"Paris\" | \"Berlin\" | \"Rome\"\\n'\n",
    "        'description ::= city \" is \" status\\n'\n",
    "        'status ::= \"the capital of \" country\\n'\n",
    "        'country ::= \"England\" | \"France\" | \"Germany\" | \"Italy\"'\n",
    "    ),\n",
    "}\n",
    "\n",
    "outputs = llm.generate(prompts, sampling_params)\n",
    "for prompt, output in zip(prompts, outputs):\n",
    "    print(\"===============================\")\n",
    "    print(f\"Prompt: {prompt}\\nGenerated text: {output['text']}\")"
   ]
  },
  {
   "cell_type": "markdown",
   "metadata": {},
   "source": [
    "### Regular expression"
   ]
  },
  {
   "cell_type": "code",
   "execution_count": 17,
   "metadata": {
    "execution": {
     "iopub.execute_input": "2025-04-08T19:39:38.416103Z",
     "iopub.status.busy": "2025-04-08T19:39:38.415807Z",
     "iopub.status.idle": "2025-04-08T19:39:39.802073Z",
     "shell.execute_reply": "2025-04-08T19:39:39.801445Z"
    }
   },
   "outputs": [
    {
     "name": "stdout",
     "output_type": "stream",
     "text": [
      "===============================\n",
      "Prompt: Please provide information about London as a major global city:\n",
      "Generated text:  its location, size, population, economic strength, and cultural significance.\n",
      "\n",
      "800-1000 words, properly formatted, with clear sections for each part.\n",
      "\n",
      "Please provide references for all claims about London.\n",
      "Alright, I need to provide information about London as a major global city. The user has specified several aspects: location, size, population, economic strength, and cultural significance. They also want this information to be in 800-1000 words, properly formatted with clear sections, and references for each claim.\n",
      "\n",
      "First, I'll start by outlining each section. For location, I'll mention where London is\n",
      "===============================\n",
      "Prompt: Please provide information about Paris as a major global city:\n",
      "Generated text:  its location, economic status, cultural significance, and the Paris Agreement.600-700 words, double-spaced, in English, with no markdown.\n",
      "Alright, so the user is asking for information about Paris as a major global city. They want details on its location, economic status, cultural significance, and the Paris Agreement. The response needs to be between 600-700 words, double-spaced, in English, and without any markdown.\n",
      "\n",
      "First, I should structure the information logically. Maybe start with an introduction about Paris, then go into location, followed by economic status, cultural aspects, and\n"
     ]
    }
   ],
   "source": [
    "prompts = [\n",
    "    \"Please provide information about London as a major global city:\",\n",
    "    \"Please provide information about Paris as a major global city:\",\n",
    "]\n",
    "\n",
    "sampling_params = {\"temperature\": 0.8, \"top_p\": 0.95, \"regex\": \"(France|England)\"}\n",
    "\n",
    "outputs = llm.generate(prompts, sampling_params)\n",
    "for prompt, output in zip(prompts, outputs):\n",
    "    print(\"===============================\")\n",
    "    print(f\"Prompt: {prompt}\\nGenerated text: {output['text']}\")"
   ]
  },
  {
   "cell_type": "code",
   "execution_count": 18,
   "metadata": {
    "execution": {
     "iopub.execute_input": "2025-04-08T19:39:39.803908Z",
     "iopub.status.busy": "2025-04-08T19:39:39.803621Z",
     "iopub.status.idle": "2025-04-08T19:39:48.173424Z",
     "shell.execute_reply": "2025-04-08T19:39:48.172835Z"
    }
   },
   "outputs": [
    {
     "name": "stdout",
     "output_type": "stream",
     "text": [
      "===============================\n",
      "Prompt: <｜begin▁of▁sentence｜><｜User｜>Here is the information of the capital of France in the JSON format.\n",
      "<｜Assistant｜><think>\n",
      "\n",
      "Generated text: Okay, I need to create a JSON object about the capital of France, which is Paris. Let me think about all the key points I should include. \n",
      "\n",
      "First, the name is Paris. That's straightforward. Next, the country it's the capital of, obviously France. Now, I should think about geographical details. Paris is located in the northern part of France, specifically in Ile-de-France. I remember that the default administrative region is Ile-de-France, and there's also an overseas department called Île-de-France-Malets, though I'm not entirely sure how that's structured.\n",
      "\n",
      "Moving on to climate, Paris has a continental climate with warm summers and cold winters. The average temperature ranges from about 2°C to 22°C. I think that's correct, but I might want to double-check the exact figures. \n",
      "\n",
      "Cuisine-wise, Paris is famous for baguettes, croissants, and perhaps truffle. I know baguette is the most popular bread in France, and croissants are widely recognized internationally. Truffle is used in various dishes, so that's a good point to mention.\n",
      "\n",
      "Cultural aspects are vast. Paris is known as the \"City of Light\" and the \"Landing of the French Revolution.\" The Eiffel Tower is iconic, as is the Louvre Museum. The Paris Opera Garnier and the Garnier National conservatory are also significant. The Seine River is central to the city, and Montmartre is a popular neighborhood. Hemingway's Madeleine Islands should be noted, as that's a cultural reference.\n",
      "\n",
      "Transportation in Paris is efficient with the Metro, buses, and taxis. The RER metro system is particularly well-known. Public transportation is a big part of daily life there.\n",
      "\n",
      "Historically, Paris has been a center of French culture, politics, and finance. It's had a major influence on world culture, so that's important to include.\n",
      "\n",
      "I should structure this into a JSON object with sections like \"Name,\" \"Country,\" \"Geographical Location,\" \"Climate,\" \"Cuisine,\" \"Cultural Significance,\" \"Transportation,\" and \"Historical Importance.\" Each of these sections should be an object with their respective key points. \n",
      "\n",
      "I need to make sure the JSON syntax is correct, with proper commas and quotes. I'll avoid any markdown formatting and keep the JSON clean. Also, I should ensure that each key within the objects is a string and the values are accurate and concise.\n",
      "\n",
      "Let me put it all together, making sure each section flows well and covers all the essential information about Paris as the capital of France.\n",
      "</think>\n",
      "\n",
      "```json\n",
      "{\n",
      "  \"capital\": {\n",
      "    \"name\": \"Paris\",\n",
      "    \"country\": \"France\",\n",
      "    \"geographical_location\": {\n",
      "      \"region\": \"Ile-de-France\",\n",
      "      \"overseas_department\": \"Île-de-France-Malets\"\n",
      "    },\n",
      "    \"climate\": {\n",
      "      \"description\": \"continental\",\n",
      "      \"average_temperature\": \"2°C to 22°C\"\n",
      "    },\n",
      "    \"cuisine\": {\n",
      "      \"signature_items\": [\"Baguettes\", \"Croissants\", \"Truffle\"]\n",
      "    },\n",
      "    \"cultural_significance\": {\n",
      "      \"landmarks\": [\"Eiffel Tower\", \"Louvre Museum\", \"Paris Opera Garnier\", \"Garnier National Conservatory\"],\n",
      "      \"recreational_areas\": [\"Seine River\", \"Montmartre\"],\n",
      "      \"cultural_references\": [\"Hemingway's Madeleine Islands\"]\n",
      "    },\n",
      "    \"transportation\": {\n",
      "      \"primary_transit\": [\"Metro\", \"Bus\", \"Taxis\"],\n",
      "      \"significant_system\": \"RER\"\n",
      "    },\n",
      "    \"historical_importance\": {\n",
      "      \"culture\": \"Influential in world culture\",\n",
      "      \"politics\": \"Center of French politics\",\n",
      "      \"finance\": \"Important financial hub\"\n",
      "    }\n",
      "  }\n",
      "}\n",
      "```\n"
     ]
    }
   ],
   "source": [
    "text = tokenizer.apply_chat_template(\n",
    "    messages, tokenize=False, add_generation_prompt=True\n",
    ")\n",
    "prompts = [text]\n",
    "\n",
    "\n",
    "sampling_params = {\n",
    "    \"temperature\": 0.8,\n",
    "    \"top_p\": 0.95,\n",
    "    \"max_new_tokens\": 2048,\n",
    "    \"structural_tag\": json.dumps(\n",
    "        {\n",
    "            \"type\": \"structural_tag\",\n",
    "            \"structures\": [\n",
    "                {\n",
    "                    \"begin\": \"<function=get_current_weather>\",\n",
    "                    \"schema\": schema_get_current_weather,\n",
    "                    \"end\": \"</function>\",\n",
    "                },\n",
    "                {\n",
    "                    \"begin\": \"<function=get_current_date>\",\n",
    "                    \"schema\": schema_get_current_date,\n",
    "                    \"end\": \"</function>\",\n",
    "                },\n",
    "            ],\n",
    "            \"triggers\": [\"<function=\"],\n",
    "        }\n",
    "    ),\n",
    "}\n",
    "\n",
    "\n",
    "# Send POST request to the API endpoint\n",
    "outputs = llm.generate(prompts, sampling_params)\n",
    "for prompt, output in zip(prompts, outputs):\n",
    "    print(\"===============================\")\n",
    "    print(f\"Prompt: {prompt}\\nGenerated text: {output['text']}\")"
   ]
  },
  {
   "cell_type": "code",
   "execution_count": 19,
   "metadata": {
    "execution": {
     "iopub.execute_input": "2025-04-08T19:39:48.175106Z",
     "iopub.status.busy": "2025-04-08T19:39:48.174819Z",
     "iopub.status.idle": "2025-04-08T19:39:48.208274Z",
     "shell.execute_reply": "2025-04-08T19:39:48.207759Z"
    }
   },
   "outputs": [],
   "source": [
    "llm.shutdown()"
   ]
  }
 ],
 "metadata": {
  "language_info": {
   "codemirror_mode": {
    "name": "ipython",
    "version": 3
   },
   "file_extension": ".py",
   "mimetype": "text/x-python",
   "name": "python",
   "nbconvert_exporter": "python",
   "pygments_lexer": "ipython3",
   "version": "3.9.21"
  }
 },
 "nbformat": 4,
 "nbformat_minor": 2
}
